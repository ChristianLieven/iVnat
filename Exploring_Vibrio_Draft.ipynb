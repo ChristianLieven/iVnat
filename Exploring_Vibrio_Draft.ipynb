{
 "cells": [
  {
   "cell_type": "markdown",
   "metadata": {},
   "source": [
    "# Exploring the Draft Model\n",
    "\n",
    "This notebook contains our first dive into the _Vibrio natriegens_"
   ]
  },
  {
   "cell_type": "code",
   "execution_count": null,
   "metadata": {},
   "outputs": [],
   "source": [
    "import cobra"
   ]
  },
  {
   "cell_type": "code",
   "execution_count": null,
   "metadata": {},
   "outputs": [],
   "source": [
    "a = \"string\""
   ]
  },
  {
   "cell_type": "code",
   "execution_count": null,
   "metadata": {},
   "outputs": [],
   "source": [
    "b = 3"
   ]
  },
  {
   "cell_type": "code",
   "execution_count": null,
   "metadata": {},
   "outputs": [],
   "source": [
    "c = 3.1"
   ]
  },
  {
   "cell_type": "code",
   "execution_count": null,
   "metadata": {},
   "outputs": [],
   "source": [
    "d = [\"apple\", \"citron\", \"banana\"]"
   ]
  },
  {
   "cell_type": "code",
   "execution_count": null,
   "metadata": {},
   "outputs": [],
   "source": [
    "e = set(d)"
   ]
  },
  {
   "cell_type": "code",
   "execution_count": null,
   "metadata": {},
   "outputs": [],
   "source": [
    "f = dict([('key','value')])"
   ]
  },
  {
   "cell_type": "code",
   "execution_count": null,
   "metadata": {},
   "outputs": [],
   "source": [
    "f['key']"
   ]
  },
  {
   "cell_type": "code",
   "execution_count": null,
   "metadata": {},
   "outputs": [],
   "source": [
    "f = {'key':'value'}"
   ]
  },
  {
   "cell_type": "code",
   "execution_count": null,
   "metadata": {},
   "outputs": [],
   "source": [
    "f['key']"
   ]
  },
  {
   "cell_type": "code",
   "execution_count": null,
   "metadata": {},
   "outputs": [],
   "source": [
    "f = dict()"
   ]
  },
  {
   "cell_type": "code",
   "execution_count": null,
   "metadata": {},
   "outputs": [],
   "source": [
    "if 3 < b < 4:\n",
    "    print( \"yeah this works\")\n",
    "elif b == 3:\n",
    "    print( \"blergh\")\n",
    "else:\n",
    "    pass"
   ]
  },
  {
   "cell_type": "code",
   "execution_count": null,
   "metadata": {},
   "outputs": [],
   "source": [
    "for fruit in d:\n",
    "    print(fruit)"
   ]
  },
  {
   "cell_type": "code",
   "execution_count": null,
   "metadata": {},
   "outputs": [],
   "source": [
    "d.append('melon')"
   ]
  },
  {
   "cell_type": "code",
   "execution_count": null,
   "metadata": {},
   "outputs": [],
   "source": [
    "whos"
   ]
  },
  {
   "cell_type": "markdown",
   "metadata": {},
   "source": [
    "## Creating a Model "
   ]
  },
  {
   "cell_type": "code",
   "execution_count": 15,
   "metadata": {},
   "outputs": [],
   "source": [
    "from __future__ import print_function\n",
    "\n",
    "from cobra import  Model, Reaction , Metabolite\n",
    "\n",
    "model=Model(\"example_model\")\n"
   ]
  },
  {
   "cell_type": "markdown",
   "metadata": {},
   "source": [
    "## Creating a reaction"
   ]
  },
  {
   "cell_type": "code",
   "execution_count": 17,
   "metadata": {
    "scrolled": true
   },
   "outputs": [],
   "source": [
    "reaction = Reaction('3OAS140')\n",
    "reaction.name = '3 oxoacyl acyl carrier protein synthase n C140 '\n",
    "reaction.subsystem = 'Cell Envelope Biosynthesis'\n",
    "reaction.lower_bound = 0.  # This is the default\n",
    "reaction.upper_bound = 1000.  # This is the default"
   ]
  },
  {
   "cell_type": "markdown",
   "metadata": {},
   "source": [
    "## Creating metabolites"
   ]
  },
  {
   "cell_type": "code",
   "execution_count": 16,
   "metadata": {},
   "outputs": [],
   "source": [
    "ACP_c = Metabolite(\n",
    "    'ACP_c',\n",
    "    formula='C11H21N2O7PRS',\n",
    "    name='acyl-carrier-protein',\n",
    "    compartment='c')\n",
    "omrsACP_c = Metabolite(\n",
    "    '3omrsACP_c',\n",
    "    formula='C25H45N2O9PRS',\n",
    "    name='3-Oxotetradecanoyl-acyl-carrier-protein',\n",
    "    compartment='c')\n",
    "co2_c = Metabolite('co2_c', formula='CO2', name='CO2', compartment='c')\n",
    "malACP_c = Metabolite(\n",
    "    'malACP_c',\n",
    "    formula='C14H22N2O10PRS',\n",
    "    name='Malonyl-acyl-carrier-protein',\n",
    "    compartment='c')\n",
    "h_c = Metabolite('h_c', formula='H', name='H', compartment='c')\n",
    "ddcaACP_c = Metabolite(\n",
    "    'ddcaACP_c',\n",
    "    formula='C23H43N2O8PRS',\n",
    "    name='Dodecanoyl-ACP-n-C120ACP',\n",
    "    compartment='c')"
   ]
  },
  {
   "cell_type": "markdown",
   "metadata": {},
   "source": [
    "# Adding metabolites to reaction"
   ]
  },
  {
   "cell_type": "code",
   "execution_count": 20,
   "metadata": {},
   "outputs": [
    {
     "data": {
      "text/plain": [
       "'ddcaACP_c + h_c + malACP_c --> 3omrsACP_c + ACP_c + co2_c'"
      ]
     },
     "execution_count": 20,
     "metadata": {},
     "output_type": "execute_result"
    }
   ],
   "source": [
    "reaction.add_metabolites({\n",
    "    malACP_c: -1.0,\n",
    "    h_c: -1.0,\n",
    "    ddcaACP_c: -1.0,\n",
    "    co2_c: 1.0,\n",
    "    ACP_c: 1.0,\n",
    "    omrsACP_c: 1.0\n",
    "})\n",
    "\n",
    "reaction.reaction  # This gives a string representation of the reaction"
   ]
  },
  {
   "cell_type": "markdown",
   "metadata": {},
   "source": [
    "# Assigning gene reaction rule string "
   ]
  },
  {
   "cell_type": "code",
   "execution_count": 21,
   "metadata": {},
   "outputs": [
    {
     "data": {
      "text/plain": [
       "frozenset({<Gene STM1197 at 0x2b6266b50b8>, <Gene STM2378 at 0x2b6266b5d30>})"
      ]
     },
     "execution_count": 21,
     "metadata": {},
     "output_type": "execute_result"
    }
   ],
   "source": [
    "reaction.gene_reaction_rule = '( STM2378 or STM1197 )'\n",
    "reaction.genes"
   ]
  },
  {
   "cell_type": "markdown",
   "metadata": {},
   "source": [
    "## Adding the reaction to the model"
   ]
  },
  {
   "cell_type": "code",
   "execution_count": 22,
   "metadata": {},
   "outputs": [
    {
     "name": "stdout",
     "output_type": "stream",
     "text": [
      "1 reaction\n",
      "6 metabolites\n",
      "2 genes\n"
     ]
    }
   ],
   "source": [
    "model.add_reactions([reaction])\n",
    "\n",
    "# Now there are things in the model\n",
    "print('%i reaction' % len(model.reactions))\n",
    "print('%i metabolites' % len(model.metabolites))\n",
    "print('%i genes' % len(model.genes))"
   ]
  },
  {
   "cell_type": "markdown",
   "metadata": {},
   "source": [
    "## The contents so far"
   ]
  },
  {
   "cell_type": "code",
   "execution_count": 23,
   "metadata": {},
   "outputs": [
    {
     "name": "stdout",
     "output_type": "stream",
     "text": [
      "Reactions\n",
      "---------\n",
      "3OAS140 : ddcaACP_c + h_c + malACP_c --> 3omrsACP_c + ACP_c + co2_c\n",
      "\n",
      "Metabolites\n",
      "-----------\n",
      " malACP_c : C14H22N2O10PRS\n",
      "      h_c : H\n",
      "ddcaACP_c : C23H43N2O8PRS\n",
      "    co2_c : CO2\n",
      "    ACP_c : C11H21N2O7PRS\n",
      "3omrsACP_c : C25H45N2O9PRS\n",
      "\n",
      "Genes\n",
      "-----\n",
      "STM1197 is associated with reactions: {3OAS140}\n",
      "STM2378 is associated with reactions: {3OAS140}\n"
     ]
    }
   ],
   "source": [
    "# Iterate through the objects in the model\n",
    "print(\"Reactions\")\n",
    "print(\"---------\")\n",
    "for x in model.reactions:\n",
    "    print(\"%s : %s\" % (x.id, x.reaction))\n",
    "\n",
    "print(\"\")\n",
    "print(\"Metabolites\")\n",
    "print(\"-----------\")\n",
    "for x in model.metabolites:\n",
    "    print('%9s : %s' % (x.id, x.formula))\n",
    "\n",
    "print(\"\")\n",
    "print(\"Genes\")\n",
    "print(\"-----\")\n",
    "for x in model.genes:\n",
    "    associated_ids = (i.id for i in x.reactions)\n",
    "    print(\"%s is associated with reactions: %s\" %\n",
    "          (x.id, \"{\" + \", \".join(associated_ids) + \"}\"))"
   ]
  },
  {
   "cell_type": "markdown",
   "metadata": {},
   "source": [
    "### Setting the objective of the model"
   ]
  },
  {
   "cell_type": "code",
   "execution_count": 24,
   "metadata": {},
   "outputs": [],
   "source": [
    "model.objective = '3OAS140'\n"
   ]
  },
  {
   "cell_type": "code",
   "execution_count": 25,
   "metadata": {},
   "outputs": [
    {
     "name": "stdout",
     "output_type": "stream",
     "text": [
      "-1.0*3OAS140_reverse_65ddc + 1.0*3OAS140\n",
      "max\n"
     ]
    }
   ],
   "source": [
    "print(model.objective.expression)\n",
    "print(model.objective.direction)"
   ]
  },
  {
   "cell_type": "markdown",
   "metadata": {},
   "source": [
    "## Read/Write SBML"
   ]
  },
  {
   "cell_type": "code",
   "execution_count": 38,
   "metadata": {},
   "outputs": [
    {
     "name": "stdout",
     "output_type": "stream",
     "text": [
      "mini test files: \n",
      "mini.json, mini.mat, mini.pickle, mini.yml, mini_cobra.xml, mini_fbc1.xml, mini_fbc2.xml, mini_fbc2.xml.bz2, mini_fbc2.xml.gz\n"
     ]
    }
   ],
   "source": [
    "\n",
    "import cobra.test\n",
    "import os\n",
    "from os.path import join\n",
    "\n",
    "data_dir = cobra.test.data_dir\n",
    "\n",
    "print(\"mini test files: \")\n",
    "print(\", \".join(i for i in os.listdir(data_dir) if i.startswith(\"mini\")))\n",
    "\n",
    "cobra.io.read_sbml_model(join(data_dir, \"mini_fbc2.xml\"))\n",
    "\n",
    "cobra.io.write_sbml_model(textbook_model, \"test_fbc2.xml\")"
   ]
  },
  {
   "cell_type": "markdown",
   "metadata": {},
   "source": [
    "## Running FBA"
   ]
  },
  {
   "cell_type": "code",
   "execution_count": 52,
   "metadata": {
    "scrolled": true
   },
   "outputs": [
    {
     "name": "stdout",
     "output_type": "stream",
     "text": [
      "<Solution 0.000 at 0x2b62791c160>\n"
     ]
    },
    {
     "data": {
      "text/plain": [
       "'optimal'"
      ]
     },
     "execution_count": 52,
     "metadata": {},
     "output_type": "execute_result"
    }
   ],
   "source": [
    "solution = model.optimize()\n",
    "print(solution)\n",
    "\n",
    "solution.status\n",
    "\n"
   ]
  },
  {
   "cell_type": "code",
   "execution_count": 54,
   "metadata": {},
   "outputs": [
    {
     "data": {
      "text/plain": [
       "<bound method Model.summary of <Model example_model at 0x2b6266332b0>>"
      ]
     },
     "execution_count": 54,
     "metadata": {},
     "output_type": "execute_result"
    }
   ],
   "source": [
    "model.summary "
   ]
  },
  {
   "cell_type": "code",
   "execution_count": 56,
   "metadata": {},
   "outputs": [
    {
     "data": {
      "text/plain": [
       "0.0"
      ]
     },
     "execution_count": 56,
     "metadata": {},
     "output_type": "execute_result"
    }
   ],
   "source": [
    "model.optimize().objective_value\n",
    "\n"
   ]
  },
  {
   "cell_type": "code",
   "execution_count": 57,
   "metadata": {
    "scrolled": true
   },
   "outputs": [
    {
     "data": {
      "text/plain": [
       "0.0"
      ]
     },
     "execution_count": 57,
     "metadata": {},
     "output_type": "execute_result"
    }
   ],
   "source": [
    "model.slim_optimize()"
   ]
  },
  {
   "cell_type": "code",
   "execution_count": 58,
   "metadata": {},
   "outputs": [
    {
     "name": "stdout",
     "output_type": "stream",
     "text": [
      "PRODUCING REACTIONS -- Dodecanoyl-ACP-n-C120ACP (ddcaACP_c)\n",
      "-----------------------------------------------------------\n",
      "%    FLUX    RXN ID    REACTION\n",
      "---  ------  --------  ----------\n",
      "\n",
      "\n",
      "CONSUMING REACTIONS -- Dodecanoyl-ACP-n-C120ACP (ddcaACP_c)\n",
      "-----------------------------------------------------------\n",
      "%    FLUX    RXN ID    REACTION\n",
      "---  ------  --------  ----------\n",
      "\n"
     ]
    }
   ],
   "source": [
    "model.metabolites.ddcaACP_c.summary()"
   ]
  },
  {
   "cell_type": "code",
   "execution_count": 42,
   "metadata": {},
   "outputs": [
    {
     "data": {
      "text/plain": [
       "{<Reaction 3OAS140 at 0x2b626702ef0>: 1.0}"
      ]
     },
     "execution_count": 42,
     "metadata": {},
     "output_type": "execute_result"
    }
   ],
   "source": [
    "from cobra.util.solver import linear_reaction_coefficients\n",
    "linear_reaction_coefficients(model)"
   ]
  },
  {
   "cell_type": "markdown",
   "metadata": {},
   "source": [
    "## Running FVA"
   ]
  },
  {
   "cell_type": "code",
   "execution_count": 48,
   "metadata": {},
   "outputs": [
    {
     "data": {
      "text/html": [
       "<div>\n",
       "<style scoped>\n",
       "    .dataframe tbody tr th:only-of-type {\n",
       "        vertical-align: middle;\n",
       "    }\n",
       "\n",
       "    .dataframe tbody tr th {\n",
       "        vertical-align: top;\n",
       "    }\n",
       "\n",
       "    .dataframe thead th {\n",
       "        text-align: right;\n",
       "    }\n",
       "</style>\n",
       "<table border=\"1\" class=\"dataframe\">\n",
       "  <thead>\n",
       "    <tr style=\"text-align: right;\">\n",
       "      <th></th>\n",
       "      <th>minimum</th>\n",
       "      <th>maximum</th>\n",
       "    </tr>\n",
       "  </thead>\n",
       "  <tbody>\n",
       "    <tr>\n",
       "      <th>3OAS140</th>\n",
       "      <td>0.0</td>\n",
       "      <td>0.0</td>\n",
       "    </tr>\n",
       "  </tbody>\n",
       "</table>\n",
       "</div>"
      ],
      "text/plain": [
       "         minimum  maximum\n",
       "3OAS140      0.0      0.0"
      ]
     },
     "execution_count": 48,
     "metadata": {},
     "output_type": "execute_result"
    }
   ],
   "source": [
    "from cobra.util.solver import linear_reaction_coefficients\n",
    "linear_reaction_coefficients(model)\n",
    "\n"
   ]
  },
  {
   "cell_type": "code",
   "execution_count": 49,
   "metadata": {},
   "outputs": [
    {
     "data": {
      "text/html": [
       "<div>\n",
       "<style scoped>\n",
       "    .dataframe tbody tr th:only-of-type {\n",
       "        vertical-align: middle;\n",
       "    }\n",
       "\n",
       "    .dataframe tbody tr th {\n",
       "        vertical-align: top;\n",
       "    }\n",
       "\n",
       "    .dataframe thead th {\n",
       "        text-align: right;\n",
       "    }\n",
       "</style>\n",
       "<table border=\"1\" class=\"dataframe\">\n",
       "  <thead>\n",
       "    <tr style=\"text-align: right;\">\n",
       "      <th></th>\n",
       "      <th>minimum</th>\n",
       "      <th>maximum</th>\n",
       "    </tr>\n",
       "  </thead>\n",
       "  <tbody>\n",
       "    <tr>\n",
       "      <th>3OAS140</th>\n",
       "      <td>0.0</td>\n",
       "      <td>0.0</td>\n",
       "    </tr>\n",
       "  </tbody>\n",
       "</table>\n",
       "</div>"
      ],
      "text/plain": [
       "         minimum  maximum\n",
       "3OAS140      0.0      0.0"
      ]
     },
     "execution_count": 49,
     "metadata": {},
     "output_type": "execute_result"
    }
   ],
   "source": [
    "\n",
    "from cobra.flux_analysis import flux_variability_analysis\n",
    "flux_variability_analysis(model, model.reactions[:10])\n",
    "\n",
    "cobra.flux_analysis.flux_variability_analysis(\n",
    "    model, model.reactions[:10], fraction_of_optimum=0.9)\n"
   ]
  },
  {
   "cell_type": "code",
   "execution_count": 50,
   "metadata": {},
   "outputs": [
    {
     "ename": "AttributeError",
     "evalue": "'DataFrame' object has no attribute 'flux'",
     "output_type": "error",
     "traceback": [
      "\u001b[1;31m---------------------------------------------------------------------------\u001b[0m",
      "\u001b[1;31mAttributeError\u001b[0m                            Traceback (most recent call last)",
      "\u001b[1;32m<ipython-input-50-f56cb2269eb1>\u001b[0m in \u001b[0;36m<module>\u001b[1;34m()\u001b[0m\n\u001b[0;32m      1\u001b[0m \u001b[0mmodel\u001b[0m\u001b[1;33m.\u001b[0m\u001b[0moptimize\u001b[0m\u001b[1;33m(\u001b[0m\u001b[1;33m)\u001b[0m\u001b[1;33m\u001b[0m\u001b[0m\n\u001b[1;32m----> 2\u001b[1;33m \u001b[0mmodel\u001b[0m\u001b[1;33m.\u001b[0m\u001b[0msummary\u001b[0m\u001b[1;33m(\u001b[0m\u001b[0mfva\u001b[0m\u001b[1;33m=\u001b[0m\u001b[1;36m0.95\u001b[0m\u001b[1;33m)\u001b[0m\u001b[1;33m\u001b[0m\u001b[0m\n\u001b[0m",
      "\u001b[1;32m~\\Anaconda3\\lib\\site-packages\\cobra\\core\\model.py\u001b[0m in \u001b[0;36msummary\u001b[1;34m(self, solution, threshold, fva, floatfmt)\u001b[0m\n\u001b[0;32m    962\u001b[0m         \u001b[1;32mfrom\u001b[0m \u001b[0mcobra\u001b[0m\u001b[1;33m.\u001b[0m\u001b[0mflux_analysis\u001b[0m\u001b[1;33m.\u001b[0m\u001b[0msummary\u001b[0m \u001b[1;32mimport\u001b[0m \u001b[0mmodel_summary\u001b[0m\u001b[1;33m\u001b[0m\u001b[0m\n\u001b[0;32m    963\u001b[0m         return model_summary(self, solution=solution, threshold=threshold,\n\u001b[1;32m--> 964\u001b[1;33m                              fva=fva, floatfmt=floatfmt)\n\u001b[0m\u001b[0;32m    965\u001b[0m \u001b[1;33m\u001b[0m\u001b[0m\n\u001b[0;32m    966\u001b[0m     \u001b[1;32mdef\u001b[0m \u001b[0m__enter__\u001b[0m\u001b[1;33m(\u001b[0m\u001b[0mself\u001b[0m\u001b[1;33m)\u001b[0m\u001b[1;33m:\u001b[0m\u001b[1;33m\u001b[0m\u001b[0m\n",
      "\u001b[1;32m~\\Anaconda3\\lib\\site-packages\\cobra\\flux_analysis\\summary.py\u001b[0m in \u001b[0;36mmodel_summary\u001b[1;34m(model, solution, threshold, fva, floatfmt)\u001b[0m\n\u001b[0;32m    181\u001b[0m     \u001b[0mmetabolite_fluxes\u001b[0m \u001b[1;33m=\u001b[0m \u001b[0mpd\u001b[0m\u001b[1;33m.\u001b[0m\u001b[0mDataFrame\u001b[0m\u001b[1;33m(\u001b[0m\u001b[0mmetabolite_fluxes\u001b[0m\u001b[1;33m)\u001b[0m\u001b[1;33m.\u001b[0m\u001b[0mT\u001b[0m\u001b[1;33m\u001b[0m\u001b[0m\n\u001b[0;32m    182\u001b[0m     metabolite_fluxes = _process_flux_dataframe(\n\u001b[1;32m--> 183\u001b[1;33m         metabolite_fluxes, fva, threshold, floatfmt)\n\u001b[0m\u001b[0;32m    184\u001b[0m \u001b[1;33m\u001b[0m\u001b[0m\n\u001b[0;32m    185\u001b[0m     \u001b[1;31m# Begin building string output table\u001b[0m\u001b[1;33m\u001b[0m\u001b[1;33m\u001b[0m\u001b[0m\n",
      "\u001b[1;32m~\\Anaconda3\\lib\\site-packages\\cobra\\flux_analysis\\summary.py\u001b[0m in \u001b[0;36m_process_flux_dataframe\u001b[1;34m(flux_dataframe, fva, threshold, floatfmt)\u001b[0m\n\u001b[0;32m    213\u001b[0m     print-ready formats. Used in both model_summary and metabolite_summary. \"\"\"\n\u001b[0;32m    214\u001b[0m \u001b[1;33m\u001b[0m\u001b[0m\n\u001b[1;32m--> 215\u001b[1;33m     \u001b[0mflux_threshold\u001b[0m \u001b[1;33m=\u001b[0m \u001b[0mthreshold\u001b[0m \u001b[1;33m*\u001b[0m \u001b[0mflux_dataframe\u001b[0m\u001b[1;33m.\u001b[0m\u001b[0mflux\u001b[0m\u001b[1;33m.\u001b[0m\u001b[0mabs\u001b[0m\u001b[1;33m(\u001b[0m\u001b[1;33m)\u001b[0m\u001b[1;33m.\u001b[0m\u001b[0mmax\u001b[0m\u001b[1;33m(\u001b[0m\u001b[1;33m)\u001b[0m\u001b[1;33m\u001b[0m\u001b[0m\n\u001b[0m\u001b[0;32m    216\u001b[0m \u001b[1;33m\u001b[0m\u001b[0m\n\u001b[0;32m    217\u001b[0m     \u001b[1;31m# Drop unused boundary fluxes\u001b[0m\u001b[1;33m\u001b[0m\u001b[1;33m\u001b[0m\u001b[0m\n",
      "\u001b[1;32m~\\Anaconda3\\lib\\site-packages\\pandas\\core\\generic.py\u001b[0m in \u001b[0;36m__getattr__\u001b[1;34m(self, name)\u001b[0m\n\u001b[0;32m   4370\u001b[0m             \u001b[1;32mif\u001b[0m \u001b[0mself\u001b[0m\u001b[1;33m.\u001b[0m\u001b[0m_info_axis\u001b[0m\u001b[1;33m.\u001b[0m\u001b[0m_can_hold_identifiers_and_holds_name\u001b[0m\u001b[1;33m(\u001b[0m\u001b[0mname\u001b[0m\u001b[1;33m)\u001b[0m\u001b[1;33m:\u001b[0m\u001b[1;33m\u001b[0m\u001b[0m\n\u001b[0;32m   4371\u001b[0m                 \u001b[1;32mreturn\u001b[0m \u001b[0mself\u001b[0m\u001b[1;33m[\u001b[0m\u001b[0mname\u001b[0m\u001b[1;33m]\u001b[0m\u001b[1;33m\u001b[0m\u001b[0m\n\u001b[1;32m-> 4372\u001b[1;33m             \u001b[1;32mreturn\u001b[0m \u001b[0mobject\u001b[0m\u001b[1;33m.\u001b[0m\u001b[0m__getattribute__\u001b[0m\u001b[1;33m(\u001b[0m\u001b[0mself\u001b[0m\u001b[1;33m,\u001b[0m \u001b[0mname\u001b[0m\u001b[1;33m)\u001b[0m\u001b[1;33m\u001b[0m\u001b[0m\n\u001b[0m\u001b[0;32m   4373\u001b[0m \u001b[1;33m\u001b[0m\u001b[0m\n\u001b[0;32m   4374\u001b[0m     \u001b[1;32mdef\u001b[0m \u001b[0m__setattr__\u001b[0m\u001b[1;33m(\u001b[0m\u001b[0mself\u001b[0m\u001b[1;33m,\u001b[0m \u001b[0mname\u001b[0m\u001b[1;33m,\u001b[0m \u001b[0mvalue\u001b[0m\u001b[1;33m)\u001b[0m\u001b[1;33m:\u001b[0m\u001b[1;33m\u001b[0m\u001b[0m\n",
      "\u001b[1;31mAttributeError\u001b[0m: 'DataFrame' object has no attribute 'flux'"
     ]
    }
   ],
   "source": [
    "model.optimize()\n",
    "model.summary(fva=0.95)"
   ]
  },
  {
   "cell_type": "code",
   "execution_count": 60,
   "metadata": {},
   "outputs": [],
   "source": [
    "pfba_solution = cobra.flux_analysis.pfba(model) \n"
   ]
  },
  {
   "cell_type": "markdown",
   "metadata": {},
   "source": [
    "## Simulation deletions "
   ]
  },
  {
   "cell_type": "code",
   "execution_count": 62,
   "metadata": {},
   "outputs": [],
   "source": [
    "import pandas\n",
    "from time import time\n",
    "\n",
    "import cobra.test\n",
    "from cobra.flux_analysis import (\n",
    "    single_gene_deletion, single_reaction_deletion, double_gene_deletion,\n",
    "    double_reaction_deletion)"
   ]
  },
  {
   "cell_type": "markdown",
   "metadata": {},
   "source": [
    "## Production envelopes"
   ]
  },
  {
   "cell_type": "code",
   "execution_count": 66,
   "metadata": {},
   "outputs": [],
   "source": [
    "import cobra.test\n",
    "from cobra.flux_analysis import production_envelope"
   ]
  },
  {
   "cell_type": "markdown",
   "metadata": {},
   "source": [
    "## Flux sampling"
   ]
  },
  {
   "cell_type": "code",
   "execution_count": 69,
   "metadata": {},
   "outputs": [
    {
     "data": {
      "text/html": [
       "<div>\n",
       "<style scoped>\n",
       "    .dataframe tbody tr th:only-of-type {\n",
       "        vertical-align: middle;\n",
       "    }\n",
       "\n",
       "    .dataframe tbody tr th {\n",
       "        vertical-align: top;\n",
       "    }\n",
       "\n",
       "    .dataframe thead th {\n",
       "        text-align: right;\n",
       "    }\n",
       "</style>\n",
       "<table border=\"1\" class=\"dataframe\">\n",
       "  <thead>\n",
       "    <tr style=\"text-align: right;\">\n",
       "      <th></th>\n",
       "      <th>ACALD</th>\n",
       "      <th>ACALDt</th>\n",
       "      <th>ACKr</th>\n",
       "      <th>ACONTa</th>\n",
       "      <th>ACONTb</th>\n",
       "      <th>ACt2r</th>\n",
       "      <th>ADK1</th>\n",
       "      <th>AKGDH</th>\n",
       "      <th>AKGt2r</th>\n",
       "      <th>ALCD2x</th>\n",
       "      <th>ATPM</th>\n",
       "      <th>ATPS4r</th>\n",
       "      <th>Biomass_Ecoli_core</th>\n",
       "      <th>CO2t</th>\n",
       "      <th>CS</th>\n",
       "      <th>CYTBD</th>\n",
       "      <th>D_LACt2</th>\n",
       "      <th>ENO</th>\n",
       "      <th>ETOHt2r</th>\n",
       "      <th>EX_ac_e</th>\n",
       "      <th>EX_acald_e</th>\n",
       "      <th>EX_akg_e</th>\n",
       "      <th>EX_co2_e</th>\n",
       "      <th>EX_etoh_e</th>\n",
       "      <th>EX_for_e</th>\n",
       "      <th>EX_fru_e</th>\n",
       "      <th>EX_fum_e</th>\n",
       "      <th>EX_glc__D_e</th>\n",
       "      <th>EX_gln__L_e</th>\n",
       "      <th>EX_glu__L_e</th>\n",
       "      <th>EX_h_e</th>\n",
       "      <th>EX_h2o_e</th>\n",
       "      <th>EX_lac__D_e</th>\n",
       "      <th>EX_mal__L_e</th>\n",
       "      <th>EX_nh4_e</th>\n",
       "      <th>EX_o2_e</th>\n",
       "      <th>EX_pi_e</th>\n",
       "      <th>EX_pyr_e</th>\n",
       "      <th>EX_succ_e</th>\n",
       "      <th>FBA</th>\n",
       "      <th>FBP</th>\n",
       "      <th>FORt2</th>\n",
       "      <th>FORti</th>\n",
       "      <th>FRD7</th>\n",
       "      <th>FRUpts2</th>\n",
       "      <th>FUM</th>\n",
       "      <th>FUMt2_2</th>\n",
       "      <th>G6PDH2r</th>\n",
       "      <th>GAPD</th>\n",
       "      <th>GLCpts</th>\n",
       "      <th>GLNS</th>\n",
       "      <th>GLNabc</th>\n",
       "      <th>GLUDy</th>\n",
       "      <th>GLUN</th>\n",
       "      <th>GLUSy</th>\n",
       "      <th>GLUt2r</th>\n",
       "      <th>GND</th>\n",
       "      <th>H2Ot</th>\n",
       "      <th>ICDHyr</th>\n",
       "      <th>ICL</th>\n",
       "      <th>LDH_D</th>\n",
       "      <th>MALS</th>\n",
       "      <th>MALt2_2</th>\n",
       "      <th>MDH</th>\n",
       "      <th>ME1</th>\n",
       "      <th>ME2</th>\n",
       "      <th>NADH16</th>\n",
       "      <th>NADTRHD</th>\n",
       "      <th>NH4t</th>\n",
       "      <th>O2t</th>\n",
       "      <th>PDH</th>\n",
       "      <th>PFK</th>\n",
       "      <th>PFL</th>\n",
       "      <th>PGI</th>\n",
       "      <th>PGK</th>\n",
       "      <th>PGL</th>\n",
       "      <th>PGM</th>\n",
       "      <th>PIt2r</th>\n",
       "      <th>PPC</th>\n",
       "      <th>PPCK</th>\n",
       "      <th>PPS</th>\n",
       "      <th>PTAr</th>\n",
       "      <th>PYK</th>\n",
       "      <th>PYRt2</th>\n",
       "      <th>RPE</th>\n",
       "      <th>RPI</th>\n",
       "      <th>SUCCt2_2</th>\n",
       "      <th>SUCCt3</th>\n",
       "      <th>SUCDi</th>\n",
       "      <th>SUCOAS</th>\n",
       "      <th>TALA</th>\n",
       "      <th>THD2</th>\n",
       "      <th>TKT1</th>\n",
       "      <th>TKT2</th>\n",
       "      <th>TPI</th>\n",
       "    </tr>\n",
       "  </thead>\n",
       "  <tbody>\n",
       "    <tr>\n",
       "      <th>0</th>\n",
       "      <td>-2.339220</td>\n",
       "      <td>-0.075365</td>\n",
       "      <td>-1.257018</td>\n",
       "      <td>4.328305</td>\n",
       "      <td>4.328305</td>\n",
       "      <td>-1.257018</td>\n",
       "      <td>5.621883</td>\n",
       "      <td>3.941197</td>\n",
       "      <td>-0.047951</td>\n",
       "      <td>-2.263855</td>\n",
       "      <td>12.028398</td>\n",
       "      <td>36.150334</td>\n",
       "      <td>0.021794</td>\n",
       "      <td>-37.492723</td>\n",
       "      <td>4.328305</td>\n",
       "      <td>73.745910</td>\n",
       "      <td>-0.799280</td>\n",
       "      <td>9.346173</td>\n",
       "      <td>-2.263855</td>\n",
       "      <td>1.257018</td>\n",
       "      <td>0.075365</td>\n",
       "      <td>0.047951</td>\n",
       "      <td>37.492723</td>\n",
       "      <td>2.263855</td>\n",
       "      <td>2.960814</td>\n",
       "      <td>0.0</td>\n",
       "      <td>0.0</td>\n",
       "      <td>-8.730114</td>\n",
       "      <td>2.467598e-19</td>\n",
       "      <td>0.008138</td>\n",
       "      <td>5.997253</td>\n",
       "      <td>35.848879</td>\n",
       "      <td>0.799280</td>\n",
       "      <td>0.0</td>\n",
       "      <td>-0.126976</td>\n",
       "      <td>-36.872955</td>\n",
       "      <td>-0.080174</td>\n",
       "      <td>0.267379</td>\n",
       "      <td>0.081697</td>\n",
       "      <td>0.684920</td>\n",
       "      <td>8.432166</td>\n",
       "      <td>4.050813</td>\n",
       "      <td>7.011627</td>\n",
       "      <td>704.622053</td>\n",
       "      <td>0.0</td>\n",
       "      <td>4.167005</td>\n",
       "      <td>0.0</td>\n",
       "      <td>24.070545</td>\n",
       "      <td>9.378777</td>\n",
       "      <td>8.730114</td>\n",
       "      <td>20.543396</td>\n",
       "      <td>-1.342498e-16</td>\n",
       "      <td>2.287337</td>\n",
       "      <td>18.129083</td>\n",
       "      <td>2.408740</td>\n",
       "      <td>-0.008138</td>\n",
       "      <td>24.070545</td>\n",
       "      <td>-35.848879</td>\n",
       "      <td>4.020800</td>\n",
       "      <td>0.307505</td>\n",
       "      <td>-0.799280</td>\n",
       "      <td>0.307505</td>\n",
       "      <td>0.0</td>\n",
       "      <td>3.201951</td>\n",
       "      <td>0.735984</td>\n",
       "      <td>0.536575</td>\n",
       "      <td>69.578905</td>\n",
       "      <td>54.557548</td>\n",
       "      <td>0.126976</td>\n",
       "      <td>36.872955</td>\n",
       "      <td>5.352914</td>\n",
       "      <td>9.117086</td>\n",
       "      <td>2.960814</td>\n",
       "      <td>-15.344899</td>\n",
       "      <td>-9.378777</td>\n",
       "      <td>24.070545</td>\n",
       "      <td>-9.346173</td>\n",
       "      <td>0.080174</td>\n",
       "      <td>2.717808</td>\n",
       "      <td>1.552515</td>\n",
       "      <td>5.621883</td>\n",
       "      <td>1.257018</td>\n",
       "      <td>5.061337</td>\n",
       "      <td>-0.267379</td>\n",
       "      <td>16.031365</td>\n",
       "      <td>-8.039181</td>\n",
       "      <td>67.177350</td>\n",
       "      <td>67.259047</td>\n",
       "      <td>708.789058</td>\n",
       "      <td>-3.941197</td>\n",
       "      <td>8.019616</td>\n",
       "      <td>2.264417</td>\n",
       "      <td>8.019616</td>\n",
       "      <td>8.011749</td>\n",
       "      <td>0.684920</td>\n",
       "    </tr>\n",
       "    <tr>\n",
       "      <th>1</th>\n",
       "      <td>-1.018999</td>\n",
       "      <td>-0.854861</td>\n",
       "      <td>-0.003160</td>\n",
       "      <td>11.224466</td>\n",
       "      <td>11.224466</td>\n",
       "      <td>-0.003160</td>\n",
       "      <td>5.140589</td>\n",
       "      <td>0.126376</td>\n",
       "      <td>-1.121967</td>\n",
       "      <td>-0.164137</td>\n",
       "      <td>20.712836</td>\n",
       "      <td>36.591950</td>\n",
       "      <td>0.040933</td>\n",
       "      <td>-24.439977</td>\n",
       "      <td>11.224466</td>\n",
       "      <td>62.869114</td>\n",
       "      <td>-0.493612</td>\n",
       "      <td>16.962241</td>\n",
       "      <td>-0.164137</td>\n",
       "      <td>0.003160</td>\n",
       "      <td>0.854861</td>\n",
       "      <td>1.121967</td>\n",
       "      <td>24.439977</td>\n",
       "      <td>0.164137</td>\n",
       "      <td>10.330875</td>\n",
       "      <td>0.0</td>\n",
       "      <td>0.0</td>\n",
       "      <td>-9.380444</td>\n",
       "      <td>8.519897e-18</td>\n",
       "      <td>0.168194</td>\n",
       "      <td>18.975147</td>\n",
       "      <td>29.678269</td>\n",
       "      <td>0.493612</td>\n",
       "      <td>0.0</td>\n",
       "      <td>-0.391392</td>\n",
       "      <td>-31.434557</td>\n",
       "      <td>-0.150579</td>\n",
       "      <td>0.301806</td>\n",
       "      <td>2.222132</td>\n",
       "      <td>7.711128</td>\n",
       "      <td>6.906315</td>\n",
       "      <td>32.310116</td>\n",
       "      <td>42.640991</td>\n",
       "      <td>20.107910</td>\n",
       "      <td>0.0</td>\n",
       "      <td>7.668011</td>\n",
       "      <td>0.0</td>\n",
       "      <td>4.885801</td>\n",
       "      <td>17.023476</td>\n",
       "      <td>9.380444</td>\n",
       "      <td>3.886621</td>\n",
       "      <td>2.610869e-15</td>\n",
       "      <td>0.316328</td>\n",
       "      <td>3.178901</td>\n",
       "      <td>0.697254</td>\n",
       "      <td>-0.168194</td>\n",
       "      <td>4.885801</td>\n",
       "      <td>-29.678269</td>\n",
       "      <td>1.460700</td>\n",
       "      <td>9.763766</td>\n",
       "      <td>-0.493612</td>\n",
       "      <td>9.763766</td>\n",
       "      <td>0.0</td>\n",
       "      <td>4.976049</td>\n",
       "      <td>7.020808</td>\n",
       "      <td>5.434920</td>\n",
       "      <td>55.201103</td>\n",
       "      <td>54.280142</td>\n",
       "      <td>0.391392</td>\n",
       "      <td>31.434557</td>\n",
       "      <td>11.832923</td>\n",
       "      <td>14.617443</td>\n",
       "      <td>10.330875</td>\n",
       "      <td>4.486251</td>\n",
       "      <td>-17.023476</td>\n",
       "      <td>4.885801</td>\n",
       "      <td>-16.962241</td>\n",
       "      <td>0.150579</td>\n",
       "      <td>14.499838</td>\n",
       "      <td>8.178287</td>\n",
       "      <td>5.140589</td>\n",
       "      <td>0.003160</td>\n",
       "      <td>6.379586</td>\n",
       "      <td>-0.301806</td>\n",
       "      <td>3.227778</td>\n",
       "      <td>-1.658023</td>\n",
       "      <td>5.504804</td>\n",
       "      <td>7.726936</td>\n",
       "      <td>27.775921</td>\n",
       "      <td>-0.126376</td>\n",
       "      <td>1.621278</td>\n",
       "      <td>38.527112</td>\n",
       "      <td>1.621278</td>\n",
       "      <td>1.606501</td>\n",
       "      <td>7.711128</td>\n",
       "    </tr>\n",
       "    <tr>\n",
       "      <th>2</th>\n",
       "      <td>-0.312667</td>\n",
       "      <td>-0.007366</td>\n",
       "      <td>-0.474177</td>\n",
       "      <td>12.723948</td>\n",
       "      <td>12.723948</td>\n",
       "      <td>-0.474177</td>\n",
       "      <td>0.429088</td>\n",
       "      <td>4.881546</td>\n",
       "      <td>-0.231272</td>\n",
       "      <td>-0.305301</td>\n",
       "      <td>8.951302</td>\n",
       "      <td>25.429741</td>\n",
       "      <td>0.170662</td>\n",
       "      <td>-33.043805</td>\n",
       "      <td>12.723948</td>\n",
       "      <td>73.767341</td>\n",
       "      <td>-0.108749</td>\n",
       "      <td>17.663941</td>\n",
       "      <td>-0.305301</td>\n",
       "      <td>0.474177</td>\n",
       "      <td>0.007366</td>\n",
       "      <td>0.231272</td>\n",
       "      <td>33.043805</td>\n",
       "      <td>0.305301</td>\n",
       "      <td>6.117324</td>\n",
       "      <td>0.0</td>\n",
       "      <td>0.0</td>\n",
       "      <td>-9.621544</td>\n",
       "      <td>3.517393e-17</td>\n",
       "      <td>0.197071</td>\n",
       "      <td>14.413578</td>\n",
       "      <td>36.753721</td>\n",
       "      <td>0.108749</td>\n",
       "      <td>0.0</td>\n",
       "      <td>-1.127654</td>\n",
       "      <td>-36.883671</td>\n",
       "      <td>-0.627813</td>\n",
       "      <td>0.397556</td>\n",
       "      <td>1.517808</td>\n",
       "      <td>8.581619</td>\n",
       "      <td>5.467000</td>\n",
       "      <td>58.198393</td>\n",
       "      <td>64.315718</td>\n",
       "      <td>29.398214</td>\n",
       "      <td>0.0</td>\n",
       "      <td>10.593671</td>\n",
       "      <td>0.0</td>\n",
       "      <td>2.610503</td>\n",
       "      <td>17.919251</td>\n",
       "      <td>9.621544</td>\n",
       "      <td>8.867150</td>\n",
       "      <td>2.847220e-15</td>\n",
       "      <td>3.205245</td>\n",
       "      <td>4.534251</td>\n",
       "      <td>4.289262</td>\n",
       "      <td>-0.197071</td>\n",
       "      <td>2.610503</td>\n",
       "      <td>-36.753721</td>\n",
       "      <td>5.494016</td>\n",
       "      <td>7.229932</td>\n",
       "      <td>-0.108749</td>\n",
       "      <td>7.229932</td>\n",
       "      <td>0.0</td>\n",
       "      <td>9.562382</td>\n",
       "      <td>2.233300</td>\n",
       "      <td>6.027921</td>\n",
       "      <td>63.173670</td>\n",
       "      <td>60.380567</td>\n",
       "      <td>1.127654</td>\n",
       "      <td>36.883671</td>\n",
       "      <td>15.263006</td>\n",
       "      <td>14.048620</td>\n",
       "      <td>6.117324</td>\n",
       "      <td>6.976055</td>\n",
       "      <td>-17.919251</td>\n",
       "      <td>2.610503</td>\n",
       "      <td>-17.663941</td>\n",
       "      <td>0.627813</td>\n",
       "      <td>14.155095</td>\n",
       "      <td>10.688608</td>\n",
       "      <td>0.429088</td>\n",
       "      <td>0.474177</td>\n",
       "      <td>4.916408</td>\n",
       "      <td>-0.397556</td>\n",
       "      <td>1.617664</td>\n",
       "      <td>-0.992839</td>\n",
       "      <td>22.801087</td>\n",
       "      <td>24.318895</td>\n",
       "      <td>39.991885</td>\n",
       "      <td>-4.881546</td>\n",
       "      <td>0.839636</td>\n",
       "      <td>46.945001</td>\n",
       "      <td>0.839636</td>\n",
       "      <td>0.778028</td>\n",
       "      <td>8.581619</td>\n",
       "    </tr>\n",
       "    <tr>\n",
       "      <th>3</th>\n",
       "      <td>-1.331966</td>\n",
       "      <td>-1.187502</td>\n",
       "      <td>-1.002816</td>\n",
       "      <td>11.118849</td>\n",
       "      <td>11.118849</td>\n",
       "      <td>-1.002816</td>\n",
       "      <td>7.851633</td>\n",
       "      <td>5.764800</td>\n",
       "      <td>-0.921708</td>\n",
       "      <td>-0.144464</td>\n",
       "      <td>9.732756</td>\n",
       "      <td>56.277470</td>\n",
       "      <td>0.003241</td>\n",
       "      <td>-31.428232</td>\n",
       "      <td>11.118849</td>\n",
       "      <td>72.439241</td>\n",
       "      <td>-0.857898</td>\n",
       "      <td>17.779118</td>\n",
       "      <td>-0.144464</td>\n",
       "      <td>1.002816</td>\n",
       "      <td>1.187502</td>\n",
       "      <td>0.921708</td>\n",
       "      <td>31.428232</td>\n",
       "      <td>0.144464</td>\n",
       "      <td>6.709703</td>\n",
       "      <td>0.0</td>\n",
       "      <td>0.0</td>\n",
       "      <td>-9.880378</td>\n",
       "      <td>2.759159e-17</td>\n",
       "      <td>0.325387</td>\n",
       "      <td>14.280906</td>\n",
       "      <td>35.989764</td>\n",
       "      <td>0.857898</td>\n",
       "      <td>0.0</td>\n",
       "      <td>-0.343060</td>\n",
       "      <td>-36.219620</td>\n",
       "      <td>-0.011924</td>\n",
       "      <td>1.225110</td>\n",
       "      <td>0.963085</td>\n",
       "      <td>7.908981</td>\n",
       "      <td>1.578388</td>\n",
       "      <td>6.695836</td>\n",
       "      <td>13.405539</td>\n",
       "      <td>136.725042</td>\n",
       "      <td>0.0</td>\n",
       "      <td>8.905172</td>\n",
       "      <td>0.0</td>\n",
       "      <td>5.904520</td>\n",
       "      <td>17.783967</td>\n",
       "      <td>9.880378</td>\n",
       "      <td>9.165061</td>\n",
       "      <td>2.054796e-15</td>\n",
       "      <td>8.481689</td>\n",
       "      <td>0.340311</td>\n",
       "      <td>8.823921</td>\n",
       "      <td>-0.325387</td>\n",
       "      <td>5.904520</td>\n",
       "      <td>-35.989764</td>\n",
       "      <td>7.015392</td>\n",
       "      <td>4.103457</td>\n",
       "      <td>-0.857898</td>\n",
       "      <td>4.103457</td>\n",
       "      <td>0.0</td>\n",
       "      <td>-0.847648</td>\n",
       "      <td>9.071580</td>\n",
       "      <td>4.784697</td>\n",
       "      <td>63.534069</td>\n",
       "      <td>67.877450</td>\n",
       "      <td>0.343060</td>\n",
       "      <td>36.219620</td>\n",
       "      <td>10.859532</td>\n",
       "      <td>9.487369</td>\n",
       "      <td>6.709703</td>\n",
       "      <td>3.975194</td>\n",
       "      <td>-17.783967</td>\n",
       "      <td>5.904520</td>\n",
       "      <td>-17.779118</td>\n",
       "      <td>0.011924</td>\n",
       "      <td>52.295431</td>\n",
       "      <td>40.323143</td>\n",
       "      <td>7.851633</td>\n",
       "      <td>1.002816</td>\n",
       "      <td>3.776403</td>\n",
       "      <td>-1.225110</td>\n",
       "      <td>3.934017</td>\n",
       "      <td>-1.970503</td>\n",
       "      <td>1.196961</td>\n",
       "      <td>2.160045</td>\n",
       "      <td>145.630214</td>\n",
       "      <td>-5.764800</td>\n",
       "      <td>1.967593</td>\n",
       "      <td>44.652781</td>\n",
       "      <td>1.967593</td>\n",
       "      <td>1.966423</td>\n",
       "      <td>7.908981</td>\n",
       "    </tr>\n",
       "    <tr>\n",
       "      <th>4</th>\n",
       "      <td>-1.769216</td>\n",
       "      <td>-1.526467</td>\n",
       "      <td>-1.800949</td>\n",
       "      <td>11.842858</td>\n",
       "      <td>11.842858</td>\n",
       "      <td>-1.800949</td>\n",
       "      <td>11.111507</td>\n",
       "      <td>5.546052</td>\n",
       "      <td>-0.872259</td>\n",
       "      <td>-0.242748</td>\n",
       "      <td>14.812410</td>\n",
       "      <td>56.167431</td>\n",
       "      <td>0.015672</td>\n",
       "      <td>-30.201535</td>\n",
       "      <td>11.842858</td>\n",
       "      <td>68.812274</td>\n",
       "      <td>-1.096548</td>\n",
       "      <td>19.527825</td>\n",
       "      <td>-0.242748</td>\n",
       "      <td>1.800949</td>\n",
       "      <td>1.526467</td>\n",
       "      <td>0.872259</td>\n",
       "      <td>30.201535</td>\n",
       "      <td>0.242748</td>\n",
       "      <td>6.723069</td>\n",
       "      <td>0.0</td>\n",
       "      <td>0.0</td>\n",
       "      <td>-9.936357</td>\n",
       "      <td>2.956532e-17</td>\n",
       "      <td>0.477480</td>\n",
       "      <td>14.457684</td>\n",
       "      <td>34.284766</td>\n",
       "      <td>1.096548</td>\n",
       "      <td>0.0</td>\n",
       "      <td>-0.562938</td>\n",
       "      <td>-34.406137</td>\n",
       "      <td>-0.057653</td>\n",
       "      <td>1.201419</td>\n",
       "      <td>0.310918</td>\n",
       "      <td>9.640986</td>\n",
       "      <td>6.380658</td>\n",
       "      <td>10.718471</td>\n",
       "      <td>17.441540</td>\n",
       "      <td>146.350010</td>\n",
       "      <td>0.0</td>\n",
       "      <td>10.165291</td>\n",
       "      <td>0.0</td>\n",
       "      <td>0.839347</td>\n",
       "      <td>19.551270</td>\n",
       "      <td>9.936357</td>\n",
       "      <td>4.249452</td>\n",
       "      <td>2.814486e-15</td>\n",
       "      <td>0.443106</td>\n",
       "      <td>3.243408</td>\n",
       "      <td>1.002036</td>\n",
       "      <td>-0.477480</td>\n",
       "      <td>0.839347</td>\n",
       "      <td>-34.284766</td>\n",
       "      <td>6.912700</td>\n",
       "      <td>4.930158</td>\n",
       "      <td>-1.096548</td>\n",
       "      <td>4.930158</td>\n",
       "      <td>0.0</td>\n",
       "      <td>6.910328</td>\n",
       "      <td>1.295154</td>\n",
       "      <td>6.889966</td>\n",
       "      <td>58.646983</td>\n",
       "      <td>41.006239</td>\n",
       "      <td>0.562938</td>\n",
       "      <td>34.406137</td>\n",
       "      <td>13.678847</td>\n",
       "      <td>16.021644</td>\n",
       "      <td>6.723069</td>\n",
       "      <td>9.093797</td>\n",
       "      <td>-19.551270</td>\n",
       "      <td>0.839347</td>\n",
       "      <td>-19.527825</td>\n",
       "      <td>0.057653</td>\n",
       "      <td>45.516668</td>\n",
       "      <td>40.556137</td>\n",
       "      <td>11.111507</td>\n",
       "      <td>1.800949</td>\n",
       "      <td>15.734309</td>\n",
       "      <td>-1.201419</td>\n",
       "      <td>0.548299</td>\n",
       "      <td>-0.291047</td>\n",
       "      <td>5.488826</td>\n",
       "      <td>5.799744</td>\n",
       "      <td>156.515302</td>\n",
       "      <td>-5.546052</td>\n",
       "      <td>0.276978</td>\n",
       "      <td>26.287985</td>\n",
       "      <td>0.276978</td>\n",
       "      <td>0.271321</td>\n",
       "      <td>9.640986</td>\n",
       "    </tr>\n",
       "  </tbody>\n",
       "</table>\n",
       "</div>"
      ],
      "text/plain": [
       "      ACALD    ACALDt      ACKr     ACONTa     ACONTb    ...         TALA       THD2      TKT1      TKT2       TPI\n",
       "0 -2.339220 -0.075365 -1.257018   4.328305   4.328305    ...     8.019616   2.264417  8.019616  8.011749  0.684920\n",
       "1 -1.018999 -0.854861 -0.003160  11.224466  11.224466    ...     1.621278  38.527112  1.621278  1.606501  7.711128\n",
       "2 -0.312667 -0.007366 -0.474177  12.723948  12.723948    ...     0.839636  46.945001  0.839636  0.778028  8.581619\n",
       "3 -1.331966 -1.187502 -1.002816  11.118849  11.118849    ...     1.967593  44.652781  1.967593  1.966423  7.908981\n",
       "4 -1.769216 -1.526467 -1.800949  11.842858  11.842858    ...     0.276978  26.287985  0.276978  0.271321  9.640986\n",
       "\n",
       "[5 rows x 95 columns]"
      ]
     },
     "execution_count": 69,
     "metadata": {},
     "output_type": "execute_result"
    }
   ],
   "source": [
    "from cobra.test import create_test_model\n",
    "from cobra.flux_analysis import sample\n",
    "\n",
    "model = create_test_model(\"textbook\")\n",
    "s = sample(model, 100)\n",
    "s.head()"
   ]
  },
  {
   "cell_type": "code",
   "execution_count": 70,
   "metadata": {},
   "outputs": [
    {
     "name": "stdout",
     "output_type": "stream",
     "text": [
      "One process:\n",
      "Wall time: 17.6 s\n",
      "Two processes:\n",
      "Wall time: 1min 8s\n"
     ]
    }
   ],
   "source": [
    "print(\"One process:\")\n",
    "%time s = sample(model, 1000)\n",
    "print(\"Two processes:\")\n",
    "%time s = sample(model, 1000, processes=2)"
   ]
  },
  {
   "cell_type": "code",
   "execution_count": 71,
   "metadata": {},
   "outputs": [],
   "source": [
    "s = sample(model, 100, method=\"achr\")"
   ]
  },
  {
   "cell_type": "markdown",
   "metadata": {},
   "source": [
    "### Advanced usage"
   ]
  },
  {
   "cell_type": "code",
   "execution_count": null,
   "metadata": {},
   "outputs": [],
   "source": []
  },
  {
   "cell_type": "code",
   "execution_count": 72,
   "metadata": {},
   "outputs": [],
   "source": [
    "from cobra.flux_analysis.sampling import OptGPSampler, ACHRSampler\n"
   ]
  },
  {
   "cell_type": "code",
   "execution_count": 78,
   "metadata": {},
   "outputs": [],
   "source": [
    "achr = ACHRSampler(model, thinning=10)\n",
    "\n",
    "optgp = OptGPSampler(model, processes=4)"
   ]
  },
  {
   "cell_type": "markdown",
   "metadata": {},
   "source": [
    "### Print out all output solution"
   ]
  },
  {
   "cell_type": "code",
   "execution_count": 82,
   "metadata": {},
   "outputs": [],
   "source": [
    "from IPython.core.interactiveshell import InteractiveShell\n",
    "\n",
    "InteractiveShell.ast_node_interactivity = \"all\""
   ]
  },
  {
   "cell_type": "markdown",
   "metadata": {},
   "source": [
    "### Sampling and validation"
   ]
  },
  {
   "cell_type": "code",
   "execution_count": 84,
   "metadata": {},
   "outputs": [
    {
     "data": {
      "text/plain": [
       "array(['le'], dtype='<U3')"
      ]
     },
     "execution_count": 84,
     "metadata": {},
     "output_type": "execute_result"
    },
    {
     "data": {
      "text/plain": [
       "array(['v', 'v', 'v', 'v', 'v', 'v', 'v', 'v', 'v', 'v', 'v', 'v', 'v',\n",
       "       'v', 'v', 'v', 'v', 'v', 'v', 'v', 'v', 'v', 'v', 'v', 'v', 'v',\n",
       "       'v', 'v', 'v', 'v', 'v', 'v', 'v', 'v', 'v', 'v', 'v', 'v', 'v',\n",
       "       'v', 'v', 'v', 'v', 'v', 'v', 'v', 'v', 'v', 'v', 'v', 'v', 'v',\n",
       "       'v', 'v', 'v', 'v', 'v', 'v', 'v', 'v', 'v', 'v', 'v', 'v', 'v',\n",
       "       'v', 'v', 'v', 'v', 'v', 'v', 'v', 'v', 'v', 'v', 'v', 'v', 'v',\n",
       "       'v', 'v', 'v', 'v', 'v', 'v', 'v', 'v', 'v', 'v', 'v', 'v', 'v',\n",
       "       'v', 'v', 'v', 'v', 'v', 'v', 'v', 'v', 'v'], dtype='<U3')"
      ]
     },
     "execution_count": 84,
     "metadata": {},
     "output_type": "execute_result"
    },
    {
     "data": {
      "text/plain": [
       "100"
      ]
     },
     "execution_count": 84,
     "metadata": {},
     "output_type": "execute_result"
    }
   ],
   "source": [
    "import numpy as np\n",
    "\n",
    "bad = np.random.uniform(-1000, 1000, size=len(model.reactions))\n",
    "achr.validate(np.atleast_2d(bad)) \n",
    "\n",
    "s1 = achr.sample(100)\n",
    "\n",
    "s2 = optgp.sample(100)\n",
    "\n",
    "achr.validate(s1)\n",
    "\n",
    "s1_valid = s1[achr.validate(s1) == \"v\"]\n",
    "len(s1_valid)"
   ]
  },
  {
   "cell_type": "markdown",
   "metadata": {},
   "source": [
    "### Batch sampling"
   ]
  },
  {
   "cell_type": "code",
   "execution_count": 85,
   "metadata": {},
   "outputs": [
    {
     "name": "stdout",
     "output_type": "stream",
     "text": [
      "Usually 10.60% +- 0.80% grow...\n"
     ]
    }
   ],
   "source": [
    "counts = [np.mean(s.Biomass_Ecoli_core > 0.1) for s in optgp.batch(100, 10)]\n",
    "print(\"Usually {:.2f}% +- {:.2f}% grow...\".format(\n",
    "    np.mean(counts) * 100.0, np.std(counts) * 100.0))"
   ]
  },
  {
   "cell_type": "markdown",
   "metadata": {},
   "source": [
    "### Adding constraints"
   ]
  },
  {
   "cell_type": "code",
   "execution_count": 87,
   "metadata": {},
   "outputs": [],
   "source": [
    "co = model.problem.Constraint(model.reactions.Biomass_Ecoli_core.flux_expression, lb=0.1)\n",
    "model.add_cons_vars([co])"
   ]
  },
  {
   "cell_type": "code",
   "execution_count": 11,
   "metadata": {},
   "outputs": [
    {
     "name": "stdout",
     "output_type": "stream",
     "text": [
      "original objective:  -1.0*Biomass_Ecoli_core_reverse_2cdba + 1.0*Biomass_Ecoli_core\n",
      "print objective in first context: -1.0*ATPM_reverse_5b752 + 1.0*ATPM\n",
      "print objective in second context: 1.0*ACALD - 1.0*ACALD_reverse_fda2b\n",
      "objective after exiting second context: -1.0*ATPM_reverse_5b752 + 1.0*ATPM\n"
     ]
    }
   ],
   "source": [
    "print('original objective: ', model.objective.expression)\n",
    "with model:\n",
    "    model.objective = 'ATPM'\n",
    "    print('print objective in first context:', model.objective.expression)\n",
    "    with model:\n",
    "        model.objective = 'ACALD'\n",
    "        print('print objective in second context:', model.objective.expression)\n",
    "    print('objective after exiting second context:',\n",
    "          model.objective.expression)\n",
    "    "
   ]
  },
  {
   "cell_type": "code",
   "execution_count": 10,
   "metadata": {},
   "outputs": [
    {
     "name": "stdout",
     "output_type": "stream",
     "text": [
      "ACALD blocked (bounds: (0, 0)), new growth rate 0.873922\n",
      "ACALDt blocked (bounds: (0, 0)), new growth rate 0.873922\n",
      "ACKr blocked (bounds: (0, 0)), new growth rate 0.873922\n",
      "ACONTa blocked (bounds: (0, 0)), new growth rate -0.000000\n",
      "ACONTb blocked (bounds: (0, 0)), new growth rate -0.000000\n"
     ]
    }
   ],
   "source": [
    "model = cobra.test.create_test_model('textbook')\n",
    "for reaction in model.reactions[:5]:\n",
    "    with model as model:\n",
    "        reaction.knock_out()\n",
    "        model.optimize()\n",
    "        print('%s blocked (bounds: %s), new growth rate %f' %\n",
    "              (reaction.id, str(reaction.bounds), model.objective.value))"
   ]
  },
  {
   "cell_type": "code",
   "execution_count": 88,
   "metadata": {
    "scrolled": true
   },
   "outputs": [
    {
     "name": "stdout",
     "output_type": "stream",
     "text": [
      "0    0.104775\n",
      "1    0.134553\n",
      "2    0.137393\n",
      "3    0.105585\n",
      "4    0.101469\n",
      "5    0.103592\n",
      "6    0.118790\n",
      "7    0.131271\n",
      "8    0.162825\n",
      "9    0.113454\n",
      "Name: Biomass_Ecoli_core, dtype: float64\n"
     ]
    }
   ],
   "source": [
    "s = sample(model, 10)\n",
    "print(s.Biomass_Ecoli_core)"
   ]
  },
  {
   "cell_type": "markdown",
   "metadata": {},
   "source": [
    "### Loopless FBA"
   ]
  },
  {
   "cell_type": "code",
   "execution_count": null,
   "metadata": {},
   "outputs": [],
   "source": [
    "%matplotlib inline\n",
    "import plot_helper\n",
    "\n",
    "import cobra.test\n",
    "from cobra import Reaction, Metabolite, Model\n",
    "from cobra.flux_analysis.loopless import add_loopless, loopless_solution\n",
    "from cobra.flux_analysis import pfba"
   ]
  },
  {
   "cell_type": "code",
   "execution_count": null,
   "metadata": {},
   "outputs": [],
   "source": [
    "salmonella = cobra.test.create_test_model('salmonella')\n",
    "nominal = salmonella.optimize()\n",
    "loopless = loopless_solution(salmonella)\n",
    "\n",
    "import pandas\n",
    "df = pandas.DataFrame(dict(loopless=loopless.fluxes, nominal=nominal.fluxes))\n",
    "\n",
    "df.plot.scatter(x='loopless', y='nominal')"
   ]
  },
  {
   "cell_type": "code",
   "execution_count": null,
   "metadata": {},
   "outputs": [],
   "source": []
  }
 ],
 "metadata": {
  "kernelspec": {
   "display_name": "Python 3",
   "language": "python",
   "name": "python3"
  },
  "language_info": {
   "codemirror_mode": {
    "name": "ipython",
    "version": 3
   },
   "file_extension": ".py",
   "mimetype": "text/x-python",
   "name": "python",
   "nbconvert_exporter": "python",
   "pygments_lexer": "ipython3",
   "version": "3.6.6"
  }
 },
 "nbformat": 4,
 "nbformat_minor": 2
}
