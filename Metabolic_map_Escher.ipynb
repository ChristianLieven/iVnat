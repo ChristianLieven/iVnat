{
 "cells": [
  {
   "cell_type": "code",
   "execution_count": 1,
   "metadata": {},
   "outputs": [],
   "source": [
    "from pandas import read_csv, DataFrame\n",
    "import pandas as pd\n",
    "import os\n",
    "import re #Both patterns and strings to be searched can be Unicode strings as well as 8-bit strings.\n",
    "import math\n",
    "import cobra\n",
    "import cobra.test\n",
    "from __future__ import print_function\n",
    "from os.path import join\n",
    "from cobra.io import write_sbml_model\n",
    "import itertools\n",
    "from IPython.core.interactiveshell import InteractiveShell\n",
    "import escher\n",
    "\n",
    "InteractiveShell.ast_node_interactivity = \"all\""
   ]
  },
  {
   "cell_type": "code",
   "execution_count": 2,
   "metadata": {},
   "outputs": [],
   "source": [
    "import cobra\n",
    "from os.path import join\n",
    "    \n",
    "# Load a cobra model from anywhere you like\n",
    "data_dir = \"/Users/lizrad/Documents/Vibrio_folder/\"\n",
    "model_bigg=cobra.io.read_sbml_model(join(data_dir, \"iVnat_newbigg.xml\"))\n",
    "\n"
   ]
  },
  {
   "cell_type": "code",
   "execution_count": 3,
   "metadata": {},
   "outputs": [],
   "source": [
    "data_dir = \"/Users/lizrad/Dev/iVnat/\"\n",
    "model=cobra.io.read_sbml_model(join(data_dir, \"iVnat.xml\"))\n"
   ]
  },
  {
   "cell_type": "markdown",
   "metadata": {},
   "source": [
    "### Upload ecoli model and check metabolite and reaction IDs"
   ]
  },
  {
   "cell_type": "code",
   "execution_count": 4,
   "metadata": {},
   "outputs": [
    {
     "data": {
      "text/html": [
       "\n",
       "        <table>\n",
       "            <tr>\n",
       "                <td><strong>Name</strong></td>\n",
       "                <td>iJO1366</td>\n",
       "            </tr><tr>\n",
       "                <td><strong>Memory address</strong></td>\n",
       "                <td>0x0114bfa898</td>\n",
       "            </tr><tr>\n",
       "                <td><strong>Number of metabolites</strong></td>\n",
       "                <td>1805</td>\n",
       "            </tr><tr>\n",
       "                <td><strong>Number of reactions</strong></td>\n",
       "                <td>2583</td>\n",
       "            </tr><tr>\n",
       "                <td><strong>Objective expression</strong></td>\n",
       "                <td>-1.0*BIOMASS_Ec_iJO1366_core_53p95M_reverse_5c8b1 + 1.0*BIOMASS_Ec_iJO1366_core_53p95M</td>\n",
       "            </tr><tr>\n",
       "                <td><strong>Compartments</strong></td>\n",
       "                <td>cytosol, extracellular space, periplasm</td>\n",
       "            </tr>\n",
       "          </table>"
      ],
      "text/plain": [
       "<Model iJO1366 at 0x114bfa898>"
      ]
     },
     "execution_count": 4,
     "metadata": {},
     "output_type": "execute_result"
    }
   ],
   "source": [
    "data_dir = \"/Users/lizrad/Documents/Vibrio_folder/\"\n",
    "ecoli_model=cobra.io.read_sbml_model(join(data_dir, \"iJO1366.xml\"))\n",
    "ecoli_model"
   ]
  },
  {
   "cell_type": "markdown",
   "metadata": {},
   "source": [
    "### Change the metabolite and reaction ids to ecoli id if its bigg id is in the model annotation"
   ]
  },
  {
   "cell_type": "markdown",
   "metadata": {},
   "source": [
    "And add the vibrio compartment without the 0, in the reactions the compartment suffix was deleted"
   ]
  },
  {
   "cell_type": "code",
   "execution_count": 5,
   "metadata": {},
   "outputs": [
    {
     "name": "stdout",
     "output_type": "stream",
     "text": [
      "10fthf_c 10-FORMYL-THF_c0 10fthf\n",
      "####new ID: 10fthf_c\n",
      "12ppd__R_c CPD-8891_c0 12ppd__R\n",
      "####new ID: 12ppd__R_c\n",
      "13dpg_c DPG_c0 13dpg\n",
      "####new ID: 13dpg_c\n",
      "15dap_c CADAVERINE_c0 15dap\n",
      "####new ID: 15dap_c\n",
      "1ddecg3p_c CPD0-2200_c0 1ddecg3p\n",
      "####new ID: 1ddecg3p_c\n",
      "1hdec9eg3p_c MNXM91047_c0 1hdec9eg3p\n",
      "####new ID: 1hdec9eg3p_c\n",
      "1hdecg3p_c MNXM90586_c0 1hdecg3p\n",
      "####new ID: 1hdecg3p_c\n",
      "1odec11eg3p_c MNXM91049_c0 1odec11eg3p\n",
      "####new ID: 1odec11eg3p_c\n",
      "1odecg3p_c CPD0-2113_c0 1odecg3p\n",
      "####new ID: 1odecg3p_c\n",
      "1pyr5c_c L-DELTA1-PYRROLINE_5-CARBOXYLATE_c0 1pyr5c\n",
      "####new ID: 1pyr5c_c\n",
      "1tdec7eg3p_c MNXM91053_c0 1tdec7eg3p\n",
      "####new ID: 1tdec7eg3p_c\n",
      "1tdecg3p_c CPD-18379_c0 1tdecg3p\n",
      "####new ID: 1tdecg3p_c\n",
      "23dappa_c 23-Diaminopropanoate_c0 23dappa\n",
      "####new ID: 23dappa_c\n",
      "23ddhb_c DIHYDRO-DIOH-BENZOATE_c0 23ddhb\n",
      "####new ID: 23ddhb_c\n",
      "25aics_c P-RIBOSYL-4-SUCCCARB-AMINOIMIDAZOLE_c0 25aics\n",
      "####new ID: 25aics_c\n",
      "25drapp_c DIAMINO-OH-PHOSPHORIBOSYLAMINO-PYR_c0 25drapp\n",
      "####new ID: 25drapp_c\n",
      "26dap_LL_c LL-DIAMINOPIMELATE_c0 26dap_LL\n",
      "####new ID: 26dap_LL_c\n",
      "26dap__M_c MESO-DIAMINOPIMELATE_c0 26dap__M\n",
      "####new ID: 26dap__M_c\n",
      "2agpe160_c CPD0-2177_c0 2agpe160\n",
      "####new ID: 2agpe160_c\n",
      "2agpe180_c CPD0-2223_c0 2agpe180\n",
      "####new ID: 2agpe180_c\n",
      "2aobut_c AMINO-OXOBUT_c0 2aobut\n",
      "####new ID: 2aobut_c\n",
      "2cpr5p_c CARBOXYPHENYLAMINO-DEOXYRIBULOSE-P_c0 2cpr5p\n",
      "####new ID: 2cpr5p_c\n",
      "2dda7p_c 3-DEOXY-D-ARABINO-HEPTULOSONATE-7-P_c0 2dda7p\n",
      "####new ID: 2dda7p_c\n",
      "2ddecg3p_c MNXM5461_c0 2ddecg3p\n",
      "####new ID: 2ddecg3p_c\n",
      "2ddg6p_c 2-KETO-3-DEOXY-6-P-GLUCONATE_c0 2ddg6p\n",
      "####new ID: 2ddg6p_c\n",
      "2dh3dgal6p_c DEHYDRO-DEOXY-GALACTONATE-PHOSPHATE_c0 2dh3dgal6p\n",
      "####new ID: 2dh3dgal6p_c\n",
      "2dhp_c 2-DEHYDROPANTOATE_c0 2dhp\n",
      "####new ID: 2dhp_c\n",
      "2dmmq8_c DEMETHYLMENAQUINONE_c0 2dmmq8\n",
      "####new ID: 2dmmq8_c\n",
      "2dmmq8_c DEMETHYLMENAQUINONE_e0 2dmmq8\n",
      "####new ID: 2dmmq8_e\n",
      "2dr1p_c DEOXY-D-RIBOSE-1-PHOSPHATE_c0 2dr1p\n",
      "####new ID: 2dr1p_c\n",
      "2dr5p_c DEOXY-RIBOSE-5P_c0 2dr5p\n",
      "####new ID: 2dr5p_c\n",
      "2hdec9eg3p_c MNXM5464_c0 2hdec9eg3p\n",
      "####new ID: 2hdec9eg3p_c\n",
      "2hdecg3p_c CPD-17276_c0 2hdecg3p\n",
      "####new ID: 2hdecg3p_c\n",
      "2ippm_c CPD-9451_c0 2ippm\n",
      "####new ID: 2ippm_c\n",
      "2mahmp_c AMINO-HYDROXYMETHYL-METHYLPYRIMIDINE-PP_c0 2mahmp\n",
      "####new ID: 2mahmp_c\n",
      "2mcacn_c CPD-1136_c0 2mcacn\n",
      "####new ID: 2mcacn_c\n",
      "2mcit_c CPD-622_c0 2mcit\n",
      "####new ID: 2mcit_c\n",
      "2me4p_c 2-C-METHYL-D-ERYTHRITOL-4-PHOSPHATE_c0 2me4p\n",
      "####new ID: 2me4p_c\n",
      "2mecdp_c 2C-METH-D-ERYTHRITOL-CYCLODIPHOSPHATE_c0 2mecdp\n",
      "####new ID: 2mecdp_c\n",
      "2obut_c 2-OXOBUTANOATE_c0 2obut\n",
      "####new ID: 2obut_c\n",
      "2odec11eg3p_c MNXM5480_c0 2odec11eg3p\n",
      "####new ID: 2odec11eg3p_c\n",
      "2odecg3p_c CPD-17274_c0 2odecg3p\n",
      "####new ID: 2odecg3p_c\n",
      "2ohph_c 2-OCTAPRENYL-6-HYDROXYPHENOL_c0 2ohph\n",
      "####new ID: 2ohph_c\n",
      "2omph_c 2-OCTAPRENYL-6-METHOXYPHENOL_c0 2omph\n",
      "####new ID: 2omph_c\n",
      "2oph_c 2-OCTAPRENYLPHENOL_c0 2oph\n",
      "####new ID: 2oph_c\n",
      "2p4c2me_c 2-PHOSPHO-4-CYTIDINE-5-DIPHOSPHO-2-C-MET_c0 2p4c2me\n",
      "####new ID: 2p4c2me_c\n",
      "2pg_c 2-PG_c0 2pg\n",
      "####new ID: 2pg_c\n",
      "2pglyc_c CPD-67_c0 2pglyc\n",
      "####new ID: 2pglyc_c\n",
      "2sephchc_c MNXM1861_c0 2sephchc\n",
      "####new ID: 2sephchc_c\n",
      "2tdec7eg3p_c MNXM5490_c0 2tdec7eg3p\n",
      "####new ID: 2tdec7eg3p_c\n",
      "2tdecg3p_c MNXM5491_c0 2tdecg3p\n",
      "####new ID: 2tdecg3p_c\n",
      "2tpr3dpcoa_c 2-5-TRIPHOSPHORIBOSYL-3-DEPHOSPHO-_c0 2tpr3dpcoa\n",
      "####new ID: 2tpr3dpcoa_c\n",
      "35cgmp_c CGMP_c0 35cgmp\n",
      "####new ID: 35cgmp_c\n",
      "3c2hmp_c 2-D-THREO-HYDROXY-3-CARBOXY-ISOCAPROATE_c0 3c2hmp\n",
      "####new ID: 3c2hmp_c\n",
      "3c3hmp_c 3-CARBOXY-3-HYDROXY-ISOCAPROATE_c0 3c3hmp\n",
      "####new ID: 3c3hmp_c\n",
      "3c4mop_c CPD-7100_c0 3c4mop\n",
      "####new ID: 3c4mop_c\n",
      "3dhq_c DEHYDROQUINATE_c0 3dhq\n",
      "####new ID: 3dhq_c\n",
      "3dhsk_c 3-DEHYDRO-SHIKIMATE_c0 3dhsk\n",
      "####new ID: 3dhsk_c\n",
      "3hadpcoa_c 3-HYDROXYADIPYL-COA_c0 3hadpcoa\n",
      "####new ID: 3hadpcoa_c\n",
      "3hcinnm_c CPD-10797_c0 3hcinnm\n",
      "####new ID: 3hcinnm_c\n",
      "3hdcoa_c CPD0-2244_c0 3hdcoa\n",
      "####new ID: 3hdcoa_c\n",
      "3hddcoa_c CPD0-2107_c0 3hddcoa\n",
      "####new ID: 3hddcoa_c\n",
      "3hddecACP_c MNXM27066_c0 3hddecACP\n",
      "####new ID: 3hddecACP_c\n",
      "3hdecACP_c Beta-hydroxydecanoyl-ACPs_c0 3hdecACP\n",
      "####new ID: 3hdecACP_c\n",
      "3hhcoa_c OH-HEXANOYL-COA_c0 3hhcoa\n",
      "####new ID: 3hhcoa_c\n",
      "3hhdcoa_c CPD0-2232_c0 3hhdcoa\n",
      "####new ID: 3hhdcoa_c\n",
      "3hhexACP_c MNXM25370_c0 3hhexACP\n",
      "####new ID: 3hhexACP_c\n",
      "3hmrsACP_c R-3-hydroxymyristoyl-ACPs_c0 3hmrsACP\n",
      "####new ID: 3hmrsACP_c\n",
      "3hocoa_c MNXM766_c0 3hocoa\n",
      "####new ID: 3hocoa_c\n",
      "3hoctACP_c 3-Hydroxy-octanoyl-ACPs_c0 3hoctACP\n",
      "####new ID: 3hoctACP_c\n",
      "3hpalmACP_c MNXM2576_c0 3hpalmACP\n",
      "####new ID: 3hpalmACP_c\n",
      "3hpppn_c 3-HYDROXYPHENYL-PROPIONATE_c0 3hpppn\n",
      "####new ID: 3hpppn_c\n",
      "3htdcoa_c CPD0-2171_c0 3htdcoa\n",
      "####new ID: 3htdcoa_c\n",
      "3ig3p_c INDOLE-3-GLYCEROL-P_c0 3ig3p\n",
      "####new ID: 3ig3p_c\n",
      "3mob_c 2-KETO-ISOVALERATE_c0 3mob\n",
      "####new ID: 3mob_c\n",
      "3mop_c 2-KETO-3-METHYL-VALERATE_c0 3mop\n",
      "####new ID: 3mop_c\n",
      "3odcoa_c CPD0-2123_c0 3odcoa\n",
      "####new ID: 3odcoa_c\n",
      "3oddcoa_c CPD0-2105_c0 3oddcoa\n",
      "####new ID: 3oddcoa_c\n",
      "3oddecACP_c 3-oxo-dodecanoyl-ACPs_c0 3oddecACP\n",
      "####new ID: 3oddecACP_c\n",
      "3odecACP_c 3-oxo-decanoyl-ACPs_c0 3odecACP\n",
      "####new ID: 3odecACP_c\n",
      "3ohcoa_c K-HEXANOYL-COA_c0 3ohcoa\n",
      "####new ID: 3ohcoa_c\n",
      "3ohdcoa_c 3-OXOPALMITOYL-COA_c0 3ohdcoa\n",
      "####new ID: 3ohdcoa_c\n",
      "3ohexACP_c 3-oxo-hexanoyl-ACPs_c0 3ohexACP\n",
      "####new ID: 3ohexACP_c\n",
      "3omrsACP_c 3-oxo-myristoyl-ACPs_c0 3omrsACP\n",
      "####new ID: 3omrsACP_c\n",
      "3oocoa_c CPD0-2106_c0 3oocoa\n",
      "####new ID: 3oocoa_c\n",
      "3ooctACP_c 3-Oxo-octanoyl-ACPs_c0 3ooctACP\n",
      "####new ID: 3ooctACP_c\n",
      "3opalmACP_c 3-oxo-palmitoyl-ACPs_c0 3opalmACP\n",
      "####new ID: 3opalmACP_c\n",
      "3ophb_c 3-OCTAPRENYL-4-HYDROXYBENZOATE_c0 3ophb\n",
      "####new ID: 3ophb_c\n",
      "3otdcoa_c CPD-10284_c0 3otdcoa\n",
      "####new ID: 3otdcoa_c\n",
      "3pg_c G3P_c0 3pg\n",
      "####new ID: 3pg_c\n",
      "3php_c 3-P-HYDROXYPYRUVATE_c0 3php\n",
      "####new ID: 3php_c\n",
      "3psme_c 3-ENOLPYRUVYL-SHIKIMATE-5P_c0 3psme\n",
      "####new ID: 3psme_c\n",
      "4abut_c 4-AMINO-BUTYRATE_c0 4abut\n",
      "####new ID: 4abut_c\n",
      "4abutn_c 4-AMINO-BUTYRALDEHYDE_c0 4abutn\n",
      "####new ID: 4abutn_c\n",
      "4abz_c P-AMINO-BENZOATE_c0 4abz\n",
      "####new ID: 4abz_c\n",
      "4adcho_c 4-AMINO-4-DEOXYCHORISMATE_c0 4adcho\n",
      "####new ID: 4adcho_c\n",
      "4ahmmp_c HMP_c0 4ahmmp\n",
      "####new ID: 4ahmmp_c\n",
      "4ampm_c AMINO-HYDROXYMETHYL-METHYL-PYR-P_c0 4ampm\n",
      "####new ID: 4ampm_c\n",
      "4c2me_c 4-CYTIDINE-5-DIPHOSPHO-2-C_c0 4c2me\n",
      "####new ID: 4c2me_c\n",
      "4h2opntn_c CPD-14442_c0 4h2opntn\n",
      "####new ID: 4h2opntn_c\n",
      "4hbz_c 4-hydroxybenzoate_c0 4hbz\n",
      "####new ID: 4hbz_c\n",
      "4hthr_c CPD0-2189_c0 4hthr\n",
      "####new ID: 4hthr_c\n",
      "4mhetz_c THZ_c0 4mhetz\n",
      "####new ID: 4mhetz_c\n",
      "4mop_c 2K-4CH3-PENTANOATE_c0 4mop\n",
      "####new ID: 4mop_c\n",
      "4mpetz_c THZ-P_c0 4mpetz\n",
      "####new ID: 4mpetz_c\n",
      "4pasp_c L-BETA-ASPARTYL-P_c0 4pasp\n",
      "####new ID: 4pasp_c\n",
      "4per_c ERYTHRONATE-4P_c0 4per\n",
      "####new ID: 4per_c\n",
      "4ppan_c 4-P-PANTOTHENATE_c0 4ppan\n",
      "####new ID: 4ppan_c\n",
      "4ppcys_c R-4-PHOSPHOPANTOTHENOYL-L-CYSTEINE_c0 4ppcys\n",
      "####new ID: 4ppcys_c\n",
      "4r5au_c AMINO-RIBOSYLAMINO-1H-3H-PYR-DIONE_c0 4r5au\n",
      "####new ID: 4r5au_c\n",
      "56dura_c DI-H-URACIL_c0 56dura\n",
      "####new ID: 56dura_c\n",
      "5aizc_c PHOSPHORIBOSYL-CARBOXY-AMINOIMIDAZOLE_c0 5aizc\n",
      "####new ID: 5aizc_c\n",
      "5aop_c 5-AMINO-LEVULINATE_c0 5aop\n",
      "####new ID: 5aop_c\n",
      "5aprbu_c CPD-1086_c0 5aprbu\n",
      "####new ID: 5aprbu_c\n",
      "5apru_c CPD-602_c0 5apru\n",
      "####new ID: 5apru_c\n",
      "5fthf_c 5-FORMYL-THF_c0 5fthf\n",
      "####new ID: 5fthf_c\n",
      "5mta_c 5-METHYLTHIOADENOSINE_c0 5mta\n",
      "####new ID: 5mta_c\n",
      "5mthf_c 5-METHYL-THF_c0 5mthf\n",
      "####new ID: 5mthf_c\n",
      "5mtr_c CPD-560_c0 5mtr\n",
      "####new ID: 5mtr_c\n",
      "5prdmbz_c ALPHA-RIBAZOLE-5-P_c0 5prdmbz\n",
      "####new ID: 5prdmbz_c\n",
      "6hmhpt_c AMINO-OH-HYDROXYMETHYL-DIHYDROPTERIDINE_c0 6hmhpt\n",
      "####new ID: 6hmhpt_c\n",
      "6pgc_c CPD-2961_c0 6pgc\n",
      "####new ID: 6pgc_c\n",
      "6pgl_c D-6-P-GLUCONO-DELTA-LACTONE_c0 6pgl\n",
      "####new ID: 6pgl_c\n",
      "8aonn_c 8-AMINO-7-OXONONANOATE_c0 8aonn\n",
      "####new ID: 8aonn_c\n",
      "ACP_c ACP_c0 ACP\n",
      "####new ID: ACP_c\n",
      "N1aspmd_c CPD-568_c0 N1aspmd\n",
      "####new ID: N1aspmd_c\n",
      "Sfglutth_c CPD-548_c0 Sfglutth\n",
      "####new ID: Sfglutth_c\n",
      "aacoa_c ACETOACETYL-COA_c0 aacoa\n",
      "####new ID: aacoa_c\n",
      "ac_c ACET_c0 ac\n",
      "####new ID: ac_c\n",
      "acACP_c ACETYL-ACP_c0 acACP\n",
      "####new ID: acACP_c\n",
      "acac_c 3-KETOBUTYRATE_c0 acac\n",
      "####new ID: acac_c\n",
      "acald_c ACETALD_c0 acald\n",
      "####new ID: acald_c\n",
      "accoa_c ACETYL-COA_c0 accoa\n",
      "####new ID: accoa_c\n",
      "acg5p_c N-ACETYL-GLUTAMYL-P_c0 acg5p\n",
      "####new ID: acg5p_c\n",
      "acg5sa_c CPD-469_c0 acg5sa\n",
      "####new ID: acg5sa_c\n",
      "acgam_c N-acetyl-D-glucosamine_c0 acgam\n",
      "####new ID: acgam_c\n",
      "acgam_c N-acetyl-D-glucosamine_e0 acgam\n",
      "####new ID: acgam_e\n",
      "acgam1p_c MNXM91871_c0 acgam1p\n",
      "####new ID: acgam1p_c\n",
      "acgam6p_c CPD-16168_c0 acgam6p\n",
      "####new ID: acgam6p_c\n",
      "acglu_c ACETYL-GLU_c0 acglu\n",
      "####new ID: acglu_c\n",
      "acmalt_c CPD-18529_c0 acmalt\n",
      "####new ID: acmalt_c\n",
      "acmana_c N-acetyl-D-mannosamine_c0 acmana\n",
      "####new ID: acmana_c\n",
      "acmanap_c N-ACETYL-D-MANNOSAMINE-6P_c0 acmanap\n",
      "####new ID: acmanap_c\n",
      "acnam_c N-ACETYLNEURAMINATE_c0 acnam\n",
      "####new ID: acnam_c\n",
      "acon_C_c CIS-ACONITATE_c0 acon_C\n",
      "####new ID: acon_C_c\n",
      "acorn_c N-ALPHA-ACETYLORNITHINE_c0 acorn\n",
      "####new ID: acorn_c\n"
     ]
    },
    {
     "name": "stdout",
     "output_type": "stream",
     "text": [
      "acser_c ACETYLSERINE_c0 acser\n",
      "####new ID: acser_c\n",
      "actACP_c Acetoacetyl-ACP_c0 actACP\n",
      "####new ID: actACP_c\n",
      "actp_c ACETYL-P_c0 actp\n",
      "####new ID: actp_c\n",
      "ade_c ADENINE_c0 ade\n",
      "####new ID: ade_c\n",
      "adn_c ADENOSINE_e0 adn\n",
      "####new ID: adn_e\n",
      "adn_c ADENOSINE_c0 adn\n",
      "####new ID: adn_c\n",
      "adocbi_c ADENOSYLCOBINAMIDE_c0 adocbi\n",
      "####new ID: adocbi_c\n",
      "adocbip_c ADENOSYLCOBINAMIDE-P_c0 adocbip\n",
      "####new ID: adocbip_c\n",
      "adocbl_c ADENOSYLCOBALAMIN_c0 adocbl\n",
      "####new ID: adocbl_c\n",
      "adp_c ADP_c0 adp\n",
      "####new ID: adp_c\n",
      "adpglc_c ADP-D-GLUCOSE_c0 adpglc\n",
      "####new ID: adpglc_c\n",
      "adphep_DD_c ADP-D-GLYCERO-D-MANNO-HEPTOSE_c0 adphep_DD\n",
      "####new ID: adphep_DD_c\n",
      "adphep_LD_c ADP-L-GLYCERO-D-MANNO-HEPTOSE_c0 adphep_LD\n",
      "####new ID: adphep_LD_c\n",
      "adprib_c ADENOSINE_DIPHOSPHATE_RIBOSE_c0 adprib\n",
      "####new ID: adprib_c\n",
      "agdpcbi_c ADENOSYLCOBINAMIDE-GDP_c0 agdpcbi\n",
      "####new ID: agdpcbi_c\n",
      "agm_c AGMATHINE_c0 agm\n",
      "####new ID: agm_c\n",
      "ahcys_c ADENOSYL-HOMO-CYS_c0 ahcys\n",
      "####new ID: ahcys_c\n",
      "ahdt_c DIHYDRONEOPTERIN-P3_c0 ahdt\n",
      "####new ID: ahdt_c\n",
      "aicar_c AICAR_c0 aicar\n",
      "####new ID: aicar_c\n",
      "akg_c 2-KETOGLUTARATE_c0 akg\n",
      "####new ID: akg_c\n",
      "ala_B_c B-ALANINE_c0 ala_B\n",
      "####new ID: ala_B_c\n",
      "ala__D_c D-ALANINE_c0 ala__D\n",
      "####new ID: ala__D_c\n",
      "ala__D_c D-ALANINE_e0 ala__D\n",
      "####new ID: ala__D_e\n",
      "ala__L_c L-ALPHA-ALANINE_c0 ala__L\n",
      "####new ID: ala__L_c\n",
      "ala__L_c L-ALPHA-ALANINE_e0 ala__L\n",
      "####new ID: ala__L_e\n",
      "all__D_c ALLOSE_c0 all__D\n",
      "####new ID: all__D_c\n",
      "all6p_c MNXM4545_c0 all6p\n",
      "####new ID: all6p_c\n",
      "alltn_c ALLANTOIN_c0 alltn\n",
      "####new ID: alltn_c\n",
      "alltn_c ALLANTOIN_e0 alltn\n",
      "####new ID: alltn_e\n",
      "alltt_c ALLANTOATE_c0 alltt\n",
      "####new ID: alltt_c\n",
      "amet_c S-ADENOSYLMETHIONINE_c0 amet\n",
      "####new ID: amet_c\n",
      "amob_c S-ADENOSYL-4-METHYLTHIO-2-OXOBUTANOATE_c0 amob\n",
      "####new ID: amob_c\n",
      "amp_c AMP_c0 amp\n",
      "####new ID: amp_c\n",
      "anth_c ANTHRANILATE_c0 anth\n",
      "####new ID: anth_c\n",
      "ap4a_c ADENOSYL-P4_c0 ap4a\n",
      "####new ID: ap4a_c\n",
      "appl_c 1-AMINO-PROPAN-2-OL_c0 appl\n",
      "####new ID: appl_c\n",
      "aps_c APS_c0 aps\n",
      "####new ID: aps_c\n",
      "ara5p_c ARABINOSE-5P_c0 ara5p\n",
      "####new ID: ara5p_c\n",
      "arbt6p_c CPD-1162_c0 arbt6p\n",
      "####new ID: arbt6p_c\n",
      "arg__L_c ARG_c0 arg__L\n",
      "####new ID: arg__L_c\n",
      "arg__L_c ARG_e0 arg__L\n",
      "####new ID: arg__L_e\n",
      "argsuc_c L-ARGININO-SUCCINATE_c0 argsuc\n",
      "####new ID: argsuc_c\n",
      "asn__L_c ASN_c0 asn__L\n",
      "####new ID: asn__L_c\n",
      "aspsa_c L-ASPARTATE-SEMIALDEHYDE_c0 aspsa\n",
      "####new ID: aspsa_c\n",
      "atp_c ATP_c0 atp\n",
      "####new ID: atp_c\n",
      "b2coa_c CROTONYL-COA_c0 b2coa\n",
      "####new ID: b2coa_c\n",
      "betald_c BETAINE_ALDEHYDE_c0 betald\n",
      "####new ID: betald_c\n",
      "btal_c BUTANAL_c0 btal\n",
      "####new ID: btal_c\n",
      "btcoa_c BUTYRYL-COA_c0 btcoa\n",
      "####new ID: btcoa_c\n",
      "btn_c BIOTIN_c0 btn\n",
      "####new ID: btn_c\n",
      "btnso_c CPD-722_c0 btnso\n",
      "####new ID: btnso_c\n",
      "but2eACP_c MNXM3229_c0 but2eACP\n",
      "####new ID: but2eACP_c\n",
      "ca2_c CA+2_c0 ca2\n",
      "####new ID: ca2_c\n",
      "ca2_c CA+2_e0 ca2\n",
      "####new ID: ca2_e\n",
      "camp_c CAMP_c0 camp\n",
      "####new ID: camp_c\n",
      "cbasp_c CARBAMYUL-L-ASPARTATE_c0 cbasp\n",
      "####new ID: cbasp_c\n",
      "cbm_c CARBAMATE_c0 cbm\n",
      "####new ID: cbm_c\n",
      "cbp_c CARBAMOYL-P_c0 cbp\n",
      "####new ID: cbp_c\n",
      "cdp_c CDP_c0 cdp\n",
      "####new ID: cdp_c\n",
      "cdpdddecg_c MNXM4507_c0 cdpdddecg\n",
      "####new ID: cdpdddecg_c\n",
      "cdpdhdec9eg_c MNXM4508_c0 cdpdhdec9eg\n",
      "####new ID: cdpdhdec9eg_c\n",
      "cdpdhdecg_c MNXM3232_c0 cdpdhdecg\n",
      "####new ID: cdpdhdecg_c\n",
      "cdpdodec11eg_c MNXM4509_c0 cdpdodec11eg\n",
      "####new ID: cdpdodec11eg_c\n",
      "cdpdodecg_c CPD-12814_c0 cdpdodecg\n",
      "####new ID: cdpdodecg_c\n",
      "cdpdtdec7eg_c MNXM4511_c0 cdpdtdec7eg\n",
      "####new ID: cdpdtdec7eg_c\n",
      "cdpdtdecg_c CPD-18388_c0 cdpdtdecg\n",
      "####new ID: cdpdtdecg_c\n",
      "cenchddd_c MNXM2161_c0 cenchddd\n",
      "####new ID: cenchddd_c\n",
      "cgly_c CYS-GLY_e0 cgly\n",
      "####new ID: cgly_e\n",
      "cgly_c CYS-GLY_c0 cgly\n",
      "####new ID: cgly_c\n",
      "chol_c CHOLINE_c0 chol\n",
      "####new ID: chol_c\n",
      "chol_c CHOLINE_e0 chol\n",
      "####new ID: chol_e\n",
      "chor_c CHORISMATE_c0 chor\n",
      "####new ID: chor_c\n",
      "cinnm_c CPD-674_c0 cinnm\n",
      "####new ID: cinnm_c\n",
      "cit_c CIT_c0 cit\n",
      "####new ID: cit_c\n",
      "cit_c CIT_e0 cit\n",
      "####new ID: cit_e\n",
      "citr__L_c L-CITRULLINE_c0 citr__L\n",
      "####new ID: citr__L_c\n",
      "ckdo_c CMP-KDO_c0 ckdo\n",
      "####new ID: ckdo_c\n",
      "cl_c CL-_c0 cl\n",
      "####new ID: cl_c\n",
      "cl_c CL-_e0 cl\n",
      "####new ID: cl_e\n",
      "cmp_c CMP_c0 cmp\n",
      "####new ID: cmp_c\n",
      "co2_c CARBON-DIOXIDE_c0 co2\n",
      "####new ID: co2_c\n",
      "co2_c CARBON-DIOXIDE_e0 co2\n",
      "####new ID: co2_e\n",
      "coa_c CO-A_c0 coa\n",
      "####new ID: coa_c\n",
      "cobalt2_c CO+2_c0 cobalt2\n",
      "####new ID: cobalt2_c\n",
      "cobalt2_c CO+2_e0 cobalt2\n",
      "####new ID: cobalt2_e\n",
      "colipa_c CPD0-2271_c0 colipa\n",
      "####new ID: colipa_c\n",
      "cpppg3_c COPROPORPHYRINOGEN_III_c0 cpppg3\n",
      "####new ID: cpppg3_c\n",
      "crn_c CARNITINE_c0 crn\n",
      "####new ID: crn_c\n",
      "csn_c CYTOSINE_c0 csn\n",
      "####new ID: csn_c\n",
      "ctp_c CTP_c0 ctp\n",
      "####new ID: ctp_c\n",
      "cu2_c CU+2_e0 cu2\n",
      "####new ID: cu2_e\n",
      "cu2_c CU+2_c0 cu2\n",
      "####new ID: cu2_c\n",
      "cyan_c CPD-13584_c0 cyan\n",
      "####new ID: cyan_c\n",
      "cynt_c CPD-69_c0 cynt\n",
      "####new ID: cynt_c\n",
      "cynt_c CPD-69_e0 cynt\n",
      "####new ID: cynt_e\n",
      "cys__L_c CYS_c0 cys__L\n",
      "####new ID: cys__L_c\n",
      "cytd_c CYTIDINE_c0 cytd\n",
      "####new ID: cytd_c\n",
      "cytd_c CYTIDINE_e0 cytd\n",
      "####new ID: cytd_e\n",
      "dad_2_c DEOXYADENOSINE_e0 dad_2\n",
      "####new ID: dad_2_e\n",
      "dad_2_c DEOXYADENOSINE_c0 dad_2\n",
      "####new ID: dad_2_c\n",
      "dad_5_c CH33ADO_c0 dad_5\n",
      "####new ID: dad_5_c\n",
      "dadp_c DADP_c0 dadp\n",
      "####new ID: dadp_c\n",
      "damp_c DAMP_c0 damp\n",
      "####new ID: damp_c\n",
      "dann_c DIAMINONONANOATE_c0 dann\n",
      "####new ID: dann_c\n",
      "datp_c DATP_c0 datp\n",
      "####new ID: datp_c\n",
      "db4p_c MNXM2323_c0 db4p\n",
      "####new ID: db4p_c\n",
      "dc2coa_c T2-DECENOYL-COA_c0 dc2coa\n",
      "####new ID: dc2coa_c\n",
      "dcamp_c ADENYLOSUCC_c0 dcamp\n",
      "####new ID: dcamp_c\n",
      "dcdp_c DCDP_c0 dcdp\n",
      "####new ID: dcdp_c\n",
      "dcmp_c DCMP_c0 dcmp\n",
      "####new ID: dcmp_c\n",
      "dctp_c DCTP_c0 dctp\n",
      "####new ID: dctp_c\n",
      "dcyt_c DEOXYCYTIDINE_c0 dcyt\n",
      "####new ID: dcyt_c\n",
      "dcyt_c DEOXYCYTIDINE_e0 dcyt\n",
      "####new ID: dcyt_e\n",
      "ddcacoa_c LAUROYLCOA-CPD_c0 ddcacoa\n",
      "####new ID: ddcacoa_c\n",
      "dgdp_c DGDP_c0 dgdp\n",
      "####new ID: dgdp_c\n",
      "dgmp_c DGMP_c0 dgmp\n",
      "####new ID: dgmp_c\n",
      "dgsn_c DEOXYGUANOSINE_c0 dgsn\n",
      "####new ID: dgsn_c\n",
      "dgsn_c DEOXYGUANOSINE_e0 dgsn\n",
      "####new ID: dgsn_e\n",
      "dgtp_c DGTP_c0 dgtp\n",
      "####new ID: dgtp_c\n",
      "dha_c DIHYDROXYACETONE_c0 dha\n",
      "####new ID: dha_c\n",
      "dhap_c DIHYDROXY-ACETONE-PHOSPHATE_c0 dhap\n",
      "####new ID: dhap_c\n",
      "dhcinnm_c CPD-10796_c0 dhcinnm\n",
      "####new ID: dhcinnm_c\n",
      "dhf_c DIHYDROFOLATE_c0 dhf\n",
      "####new ID: dhf_c\n",
      "dhna_c DIHYDROXYNAPHTHOATE_c0 dhna\n",
      "####new ID: dhna_c\n",
      "dhor__S_c DI-H-OROTATE_c0 dhor__S\n",
      "####new ID: dhor__S_c\n",
      "dhpppn_c 2-3-DIHYDROXYPHENYL-PROPIONATE_c0 dhpppn\n",
      "####new ID: dhpppn_c\n",
      "dhpt_c 7-8-DIHYDROPTEROATE_c0 dhpt\n",
      "####new ID: dhpt_c\n",
      "dhptd_c DIHYDROXYPENTANEDIONE_c0 dhptd\n",
      "####new ID: dhptd_c\n",
      "didp_c CPD0-2231_c0 didp\n",
      "####new ID: didp_c\n",
      "din_c DEOXYINOSINE_e0 din\n",
      "####new ID: din_e\n",
      "din_c DEOXYINOSINE_c0 din\n",
      "####new ID: din_c\n",
      "ditp_c DITP_c0 ditp\n",
      "####new ID: ditp_c\n",
      "dmbzid_c DIMETHYLBENZIMIDAZOLE_c0 dmbzid\n",
      "####new ID: dmbzid_c\n",
      "dmlz_c DIMETHYL-D-RIBITYL-LUMAZINE_c0 dmlz\n",
      "####new ID: dmlz_c\n",
      "dmpp_c CPD-4211_c0 dmpp\n",
      "####new ID: dmpp_c\n",
      "dnad_c DEAMIDO-NAD_c0 dnad\n",
      "####new ID: dnad_c\n",
      "dpcoa_c DEPHOSPHO-COA_c0 dpcoa\n",
      "####new ID: dpcoa_c\n",
      "dtbt_c DETHIOBIOTIN_c0 dtbt\n",
      "####new ID: dtbt_c\n",
      "dtdp_c TDP_c0 dtdp\n",
      "####new ID: dtdp_c\n",
      "dtdp4d6dg_c DTDP-DEOH-DEOXY-GLUCOSE_c0 dtdp4d6dg\n",
      "####new ID: dtdp4d6dg_c\n",
      "dtdp4d6dm_c DTDP-DEOH-DEOXY-MANNOSE_c0 dtdp4d6dm\n",
      "####new ID: dtdp4d6dm_c\n",
      "dtdpglu_c DTDP-D-GLUCOSE_c0 dtdpglu\n",
      "####new ID: dtdpglu_c\n",
      "dtdprmn_c DTDP-RHAMNOSE_c0 dtdprmn\n",
      "####new ID: dtdprmn_c\n",
      "dtmp_c TMP_c0 dtmp\n",
      "####new ID: dtmp_c\n",
      "dttp_c TTP_c0 dttp\n",
      "####new ID: dttp_c\n",
      "dudp_c DUDP_c0 dudp\n",
      "####new ID: dudp_c\n",
      "dump_c DUMP_c0 dump\n",
      "####new ID: dump_c\n",
      "duri_c DEOXYURIDINE_e0 duri\n",
      "####new ID: duri_e\n",
      "duri_c DEOXYURIDINE_c0 duri\n",
      "####new ID: duri_c\n",
      "dutp_c DUTP_c0 dutp\n",
      "####new ID: dutp_c\n",
      "dxyl5p_c DEOXYXYLULOSE-5P_c0 dxyl5p\n",
      "####new ID: dxyl5p_c\n",
      "e4p_c ERYTHROSE-4P_c0 e4p\n",
      "####new ID: e4p_c\n",
      "eig3p_c D-ERYTHRO-IMIDAZOLE-GLYCEROL-P_c0 eig3p\n",
      "####new ID: eig3p_c\n",
      "etha_c ETHANOL-AMINE_c0 etha\n",
      "####new ID: etha_c\n",
      "etha_c ETHANOL-AMINE_e0 etha\n",
      "####new ID: etha_e\n",
      "etoh_c ETOH_c0 etoh\n",
      "####new ID: etoh_c\n",
      "f1p_c D-fructofuranose-1-phosphate_c0 f1p\n",
      "####new ID: f1p_c\n",
      "fad_c FAD_c0 fad\n",
      "####new ID: fad_c\n",
      "fadh2_c FADH2_c0 fadh2\n",
      "####new ID: fadh2_c\n",
      "fald_c CARBONYL-GROUP_c0 fald\n",
      "####new ID: fald_c\n",
      "fc1p_c FUCULOSE-1P_c0 fc1p\n",
      "####new ID: fc1p_c\n",
      "fdp_c MNXM417_c0 fdp\n",
      "####new ID: fdp_c\n",
      "fe2_c FE+2_c0 fe2\n",
      "####new ID: fe2_c\n",
      "fe2_c FE+2_e0 fe2\n",
      "####new ID: fe2_e\n",
      "fe3_c FE+3_c0 fe3\n",
      "####new ID: fe3_c\n",
      "fe3_c FE+3_e0 fe3\n",
      "####new ID: fe3_e\n",
      "fgam_c 5-P-RIBOSYL-N-FORMYLGLYCINEAMIDE_c0 fgam\n",
      "####new ID: fgam_c\n",
      "fmn_c FMN_c0 fmn\n",
      "####new ID: fmn_c\n",
      "for_c CARBOXYL-GROUP_c0 for\n",
      "####new ID: for_c\n",
      "for_c CARBOXYL-GROUP_e0 for\n",
      "####new ID: for_e\n",
      "fprica_c PHOSPHORIBOSYL-FORMAMIDO-CARBOXAMIDE_c0 fprica\n",
      "####new ID: fprica_c\n",
      "frdp_c FARNESYL-PP_c0 frdp\n",
      "####new ID: frdp_c\n",
      "fru_c CPD-15382_e0 fru\n",
      "####new ID: fru_e\n",
      "fru_c CPD-15382_c0 fru\n",
      "####new ID: fru_c\n",
      "fruur_c FRUCTURONATE_c0 fruur\n",
      "####new ID: fruur_c\n",
      "fum_c FUM_e0 fum\n"
     ]
    },
    {
     "name": "stdout",
     "output_type": "stream",
     "text": [
      "####new ID: fum_e\n",
      "fum_c FUM_c0 fum\n",
      "####new ID: fum_c\n",
      "g1p_c D-glucose-1-phosphates_c0 g1p\n",
      "####new ID: g1p_c\n",
      "g3p_c GAP_c0 g3p\n",
      "####new ID: g3p_c\n",
      "g3pc_c L-1-GLYCERO-PHOSPHORYLCHOLINE_c0 g3pc\n",
      "####new ID: g3pc_c\n",
      "g3pe_c L-1-GLYCEROPHOSPHORYLETHANOL-AMINE_c0 g3pe\n",
      "####new ID: g3pe_c\n",
      "g3pg_c GLYCEROPHOSPHOGLYCEROL_c0 g3pg\n",
      "####new ID: g3pg_c\n",
      "g6p_c D-glucopyranose-6-phosphate_c0 g6p\n",
      "####new ID: g6p_c\n",
      "gagicolipa_c CPD0-2258_c0 gagicolipa\n",
      "####new ID: gagicolipa_c\n",
      "gal_c ALPHA-D-GALACTOSE_c0 gal\n",
      "####new ID: gal_c\n",
      "gal1p_c GALACTOSE-1P_c0 gal1p\n",
      "####new ID: gal1p_c\n",
      "galctn__D_c D-GALACTONATE_c0 galctn__D\n",
      "####new ID: galctn__D_c\n",
      "galt1p_c GALACTITOL-1-PHOSPHATE_c0 galt1p\n",
      "####new ID: galt1p_c\n",
      "galur_c D-Galactopyranuronate_c0 galur\n",
      "####new ID: galur_c\n",
      "gam1p_c GLUCOSAMINE-1P_c0 gam1p\n",
      "####new ID: gam1p_c\n",
      "gam6p_c D-GLUCOSAMINE-6-P_c0 gam6p\n",
      "####new ID: gam6p_c\n",
      "gar_c 5-PHOSPHO-RIBOSYL-GLYCINEAMIDE_c0 gar\n",
      "####new ID: gar_c\n",
      "gcald_c GLYCOLALDEHYDE_c0 gcald\n",
      "####new ID: gcald_c\n",
      "gdp_c GDP_c0 gdp\n",
      "####new ID: gdp_c\n",
      "gdptp_c GDP-TP_c0 gdptp\n",
      "####new ID: gdptp_c\n",
      "gg4abut_c CPD-9000_c0 gg4abut\n",
      "####new ID: gg4abut_c\n",
      "ggagicolipa_c CPD0-2261_c0 ggagicolipa\n",
      "####new ID: ggagicolipa_c\n",
      "ggbutal_c GAMMA-GLUTAMYL-GAMMA-AMINOBUTYRALDEH_c0 ggbutal\n",
      "####new ID: ggbutal_c\n",
      "gggagicolipa_c CPD0-2259_c0 gggagicolipa\n",
      "####new ID: gggagicolipa_c\n",
      "ghb_c 4-HYDROXY-BUTYRATE_c0 ghb\n",
      "####new ID: ghb_c\n",
      "gicolipa_c CPD0-2247_c0 gicolipa\n",
      "####new ID: gicolipa_c\n",
      "glcur_c D-Glucopyranuronate_c0 glcur\n",
      "####new ID: glcur_c\n",
      "gln__L_c GLN_c0 gln__L\n",
      "####new ID: gln__L_c\n",
      "glu__D_c D-GLT_c0 glu__D\n",
      "####new ID: glu__D_c\n",
      "glu__L_c GLT_c0 glu__L\n",
      "####new ID: glu__L_c\n",
      "glu__L_c GLT_e0 glu__L\n",
      "####new ID: glu__L_e\n",
      "glu1sa_c GLUTAMATE-1-SEMIALDEHYDE_c0 glu1sa\n",
      "####new ID: glu1sa_c\n",
      "glu5p_c L-GLUTAMATE-5-P_c0 glu5p\n",
      "####new ID: glu5p_c\n",
      "glu5sa_c L-GLUTAMATE_GAMMA-SEMIALDEHYDE_c0 glu5sa\n",
      "####new ID: glu5sa_c\n",
      "glucys_c L-GAMMA-GLUTAMYLCYSTEINE_c0 glucys\n",
      "####new ID: glucys_c\n",
      "glutrna_c MNXM89752_c0 glutrna\n",
      "####new ID: glutrna_c\n",
      "glx_c GLYOX_c0 glx\n",
      "####new ID: glx_c\n",
      "gly_c GLY_c0 gly\n",
      "####new ID: gly_c\n",
      "glyald_c GLYCERALD_c0 glyald\n",
      "####new ID: glyald_c\n",
      "glyb_c BETAINE_c0 glyb\n",
      "####new ID: glyb_c\n",
      "glyb_c BETAINE_e0 glyb\n",
      "####new ID: glyb_e\n",
      "glyc_c GLYCEROL_c0 glyc\n",
      "####new ID: glyc_c\n",
      "glyc_c GLYCEROL_e0 glyc\n",
      "####new ID: glyc_e\n",
      "glyc__R_c GLYCERATE_c0 glyc__R\n",
      "####new ID: glyc__R_c\n",
      "glyc3p_c GLYCEROL-3P_c0 glyc3p\n",
      "####new ID: glyc3p_c\n",
      "glyc3p_c GLYCEROL-3P_e0 glyc3p\n",
      "####new ID: glyc3p_e\n",
      "glyclt_c GLYCOLLATE_c0 glyclt\n",
      "####new ID: glyclt_c\n",
      "glycogen_c Glycogens_c0 glycogen\n",
      "####new ID: glycogen_c\n",
      "gmhep1p_c D-BETA-D-HEPTOSE-1-P_c0 gmhep1p\n",
      "####new ID: gmhep1p_c\n",
      "gmhep7p_c CPD-12543_c0 gmhep7p\n",
      "####new ID: gmhep7p_c\n",
      "gmp_c GMP_c0 gmp\n",
      "####new ID: gmp_c\n",
      "grdp_c GERANYL-PP_c0 grdp\n",
      "####new ID: grdp_c\n",
      "gsn_c GUANOSINE_c0 gsn\n",
      "####new ID: gsn_c\n",
      "gthox_c OXIDIZED-GLUTATHIONE_c0 gthox\n",
      "####new ID: gthox_c\n",
      "gthrd_c GLUTATHIONE_c0 gthrd\n",
      "####new ID: gthrd_c\n",
      "gtp_c GTP_c0 gtp\n",
      "####new ID: gtp_c\n",
      "gua_c GUANINE_c0 gua\n",
      "####new ID: gua_c\n",
      "h_c PROTON_c0 h\n",
      "####new ID: h_c\n",
      "h_c PROTON_e0 h\n",
      "####new ID: h_e\n",
      "h2_c HYDROGEN-MOLECULE_c0 h2\n",
      "####new ID: h2_c\n",
      "h2mb4p_c HYDROXY-METHYL-BUTENYL-DIP_c0 h2mb4p\n",
      "####new ID: h2mb4p_c\n",
      "h2o2_c HYDROGEN-PEROXIDE_c0 h2o2\n",
      "####new ID: h2o2_c\n",
      "h2s_c CPD-7046_c0 h2s\n",
      "####new ID: h2s_c\n",
      "hcys__L_c HOMO-CYS_c0 hcys__L\n",
      "####new ID: hcys__L_c\n",
      "hdca_c PALMITATE_c0 hdca\n",
      "####new ID: hdca_c\n",
      "hdca_c PALMITATE_e0 hdca\n",
      "####new ID: hdca_e\n",
      "hdd2coa_c CPD0-2117_c0 hdd2coa\n",
      "####new ID: hdd2coa_c\n",
      "hemeO_c CPD-17063_c0 hemeO\n",
      "####new ID: hemeO_c\n",
      "hg2_c HG+2_c0 hg2\n",
      "####new ID: hg2_c\n",
      "hg2_c HG+2_e0 hg2\n",
      "####new ID: hg2_e\n",
      "hhlipa_c CPD0-930_c0 hhlipa\n",
      "####new ID: hhlipa_c\n",
      "his__L_c HIS_c0 his__L\n",
      "####new ID: his__L_c\n",
      "his__L_c HIS_e0 his__L\n",
      "####new ID: his__L_e\n",
      "hisp_c L-HISTIDINOL-P_c0 hisp\n",
      "####new ID: hisp_c\n",
      "histd_c HISTIDINOL_c0 histd\n",
      "####new ID: histd_c\n",
      "hkndd_c CPD-157_c0 hkndd\n",
      "####new ID: hkndd_c\n",
      "hkntd_c MNXM2040_c0 hkntd\n",
      "####new ID: hkntd_c\n",
      "hlipa_c CPD0-929_c0 hlipa\n",
      "####new ID: hlipa_c\n",
      "hmbil_c HYDROXYMETHYLBILANE_c0 hmbil\n",
      "####new ID: hmbil_c\n",
      "hmgth_c S-HYDROXYMETHYLGLUTATHIONE_c0 hmgth\n",
      "####new ID: hmgth_c\n",
      "hom__L_c HOMO-SER_c0 hom__L\n",
      "####new ID: hom__L_c\n",
      "hphhlipa_c CPD0-2238_c0 hphhlipa\n",
      "####new ID: hphhlipa_c\n",
      "hpyr_c OH-PYR_c0 hpyr\n",
      "####new ID: hpyr_c\n",
      "hqn_c HYDROQUINONE_c0 hqn\n",
      "####new ID: hqn_c\n",
      "hx2coa_c CPD0-2121_c0 hx2coa\n",
      "####new ID: hx2coa_c\n",
      "hxan_c HYPOXANTHINE_c0 hxan\n",
      "####new ID: hxan_c\n",
      "hxan_c HYPOXANTHINE_e0 hxan\n",
      "####new ID: hxan_e\n",
      "iasp_c MNXM599_c0 iasp\n",
      "####new ID: iasp_c\n",
      "ichor_c ISOCHORISMATE_c0 ichor\n",
      "####new ID: ichor_c\n",
      "icit_c MNXM89661_c0 icit\n",
      "####new ID: icit_c\n",
      "idp_c IDP_c0 idp\n",
      "####new ID: idp_c\n",
      "ile__L_c ILE_c0 ile__L\n",
      "####new ID: ile__L_c\n",
      "ile__L_c ILE_e0 ile__L\n",
      "####new ID: ile__L_e\n",
      "imacp_c IMIDAZOLE-ACETOL-P_c0 imacp\n",
      "####new ID: imacp_c\n",
      "imp_c IMP_c0 imp\n",
      "####new ID: imp_c\n",
      "indole_c INDOLE_c0 indole\n",
      "####new ID: indole_c\n",
      "inost_c CPD-8052_c0 inost\n",
      "####new ID: inost_c\n",
      "inost_c CPD-8052_e0 inost\n",
      "####new ID: inost_e\n",
      "ins_c INOSINE_c0 ins\n",
      "####new ID: ins_c\n",
      "ins_c INOSINE_e0 ins\n",
      "####new ID: ins_e\n",
      "ipdp_c DELTA3-ISOPENTENYL-PP_c0 ipdp\n",
      "####new ID: ipdp_c\n",
      "itp_c ITP_c0 itp\n",
      "####new ID: itp_c\n",
      "k_c K+_c0 k\n",
      "####new ID: k_c\n",
      "k_c K+_e0 k\n",
      "####new ID: k_e\n",
      "kdo2lipid4_c KDO2-LIPID-IVA_c0 kdo2lipid4\n",
      "####new ID: kdo2lipid4_c\n",
      "kdo2lipid4L_c MNXM1870_c0 kdo2lipid4L\n",
      "####new ID: kdo2lipid4L_c\n",
      "kdo8p_c KDO-8P_c0 kdo8p\n",
      "####new ID: kdo8p_c\n",
      "kdolipid4_c KDO-LIPID-IVA_c0 kdolipid4\n",
      "####new ID: kdolipid4_c\n",
      "kphphhlipa_c CPD0-2257_c0 kphphhlipa\n",
      "####new ID: kphphhlipa_c\n",
      "lac__D_c D-LACTATE_c0 lac__D\n",
      "####new ID: lac__D_c\n",
      "lac__L_c L-LACTATE_c0 lac__L\n",
      "####new ID: lac__L_c\n",
      "lac__L_c L-LACTATE_e0 lac__L\n",
      "####new ID: lac__L_e\n",
      "lald__D_c CPD-358_c0 lald__D\n",
      "####new ID: lald__D_c\n",
      "lald__L_c LACTALD_c0 lald__L\n",
      "####new ID: lald__L_c\n",
      "lcts_c CPD-15971_c0 lcts\n",
      "####new ID: lcts_c\n",
      "leu__L_c LEU_e0 leu__L\n",
      "####new ID: leu__L_e\n",
      "leu__L_c LEU_c0 leu__L\n",
      "####new ID: leu__L_c\n",
      "lgt__S_c S-LACTOYL-GLUTATHIONE_c0 lgt__S\n",
      "####new ID: lgt__S_c\n",
      "lipa_c MNXM946_c0 lipa\n",
      "####new ID: lipa_c\n",
      "lipidA_c LIPID-IV-A_c0 lipidA\n",
      "####new ID: lipidA_c\n",
      "lipidAds_c BISOHMYR-GLC_c0 lipidAds\n",
      "####new ID: lipidAds_c\n",
      "lipidX_c BISOHMYR-GLUCOSAMINYL-1P_c0 lipidX\n",
      "####new ID: lipidX_c\n",
      "lys__L_c LYS_c0 lys__L\n",
      "####new ID: lys__L_c\n",
      "lys__L_c LYS_e0 lys__L\n",
      "####new ID: lys__L_e\n",
      "mal__L_c MAL_c0 mal__L\n",
      "####new ID: mal__L_c\n",
      "malACP_c MALONYL-ACP_c0 malACP\n",
      "####new ID: malACP_c\n",
      "malcoa_c MALONYL-COA_c0 malcoa\n",
      "####new ID: malcoa_c\n",
      "malt_c ALPHA-MALTOSE_c0 malt\n",
      "####new ID: malt_c\n",
      "malt_c ALPHA-MALTOSE_e0 malt\n",
      "####new ID: malt_e\n",
      "malt6p_c CPD-1244_c0 malt6p\n",
      "####new ID: malt6p_c\n",
      "malthp_c CPD0-1133_c0 malthp\n",
      "####new ID: malthp_c\n",
      "malthx_c MALTOHEXAOSE_c0 malthx\n",
      "####new ID: malthx_c\n",
      "malthx_c MALTOHEXAOSE_e0 malthx\n",
      "####new ID: malthx_e\n",
      "maltpt_c MALTOPENTAOSE_c0 maltpt\n",
      "####new ID: maltpt_c\n",
      "malttr_c MALTOTRIOSE_e0 malttr\n",
      "####new ID: malttr_e\n",
      "malttr_c MALTOTRIOSE_c0 malttr\n",
      "####new ID: malttr_c\n",
      "maltttr_c CPD-13205_c0 maltttr\n",
      "####new ID: maltttr_c\n",
      "man_c D-mannopyranose_e0 man\n",
      "####new ID: man_e\n",
      "man1p_c MANNOSE-1P_c0 man1p\n",
      "####new ID: man1p_c\n",
      "man6p_c CPD-15979_c0 man6p\n",
      "####new ID: man6p_c\n",
      "meoh_c ALCOHOL-GROUP_c0 meoh\n",
      "####new ID: meoh_c\n",
      "mercppyr_c 3-MERCAPTO-PYRUVATE_c0 mercppyr\n",
      "####new ID: mercppyr_c\n",
      "met__D_c CPD-218_e0 met__D\n",
      "####new ID: met__D_e\n",
      "met__D_c CPD-218_c0 met__D\n",
      "####new ID: met__D_c\n",
      "met__L_c MET_c0 met__L\n",
      "####new ID: met__L_c\n",
      "met__L_c MET_e0 met__L\n",
      "####new ID: met__L_e\n",
      "methf_c 5-10-METHENYL-THF_c0 methf\n",
      "####new ID: methf_c\n",
      "mg2_c MG+2_e0 mg2\n",
      "####new ID: mg2_e\n",
      "mg2_c MG+2_c0 mg2\n",
      "####new ID: mg2_c\n",
      "mi1p__D_c D-MYO-INOSITOL-1-MONOPHOSPHATE_c0 mi1p__D\n",
      "####new ID: mi1p__D_c\n",
      "micit_c CPD-618_c0 micit\n",
      "####new ID: micit_c\n",
      "mlthf_c METHYLENE-THF_c0 mlthf\n",
      "####new ID: mlthf_c\n",
      "mmcoa__S_c D-METHYL-MALONYL-COA_c0 mmcoa__S\n",
      "####new ID: mmcoa__S_c\n",
      "mmet_c CPD-397_c0 mmet\n",
      "####new ID: mmet_c\n",
      "mn2_c MN+2_c0 mn2\n",
      "####new ID: mn2_c\n",
      "mn2_c MN+2_e0 mn2\n",
      "####new ID: mn2_e\n",
      "mnl1p_c MANNITOL-1P_c0 mnl1p\n",
      "####new ID: mnl1p_c\n",
      "mql8_c REDUCED-MENAQUINONE_c0 mql8\n",
      "####new ID: mql8_c\n",
      "mql8_c REDUCED-MENAQUINONE_e0 mql8\n",
      "####new ID: mql8_e\n",
      "mqn8_c CPD-9728_c0 mqn8\n",
      "####new ID: mqn8_c\n",
      "mqn8_c CPD-9728_e0 mqn8\n",
      "####new ID: mqn8_e\n",
      "msa_c CPD-1135_c0 msa\n",
      "####new ID: msa_c\n",
      "mthgxl_c CPD-10807_c0 mthgxl\n",
      "####new ID: mthgxl_c\n",
      "n8aspmd_c CPD-3462_c0 n8aspmd\n",
      "####new ID: n8aspmd_c\n",
      "na1_c CPD0-2422_e0 na1\n",
      "####new ID: na1_e\n",
      "na1_c CPD0-2422_c0 na1\n",
      "####new ID: na1_c\n",
      "nac_c NIACINE_c0 nac\n",
      "####new ID: nac_c\n",
      "nad_c NAD_c0 nad\n",
      "####new ID: nad_c\n",
      "nadh_c NADH_c0 nadh\n",
      "####new ID: nadh_c\n",
      "nadp_c NADP_c0 nadp\n",
      "####new ID: nadp_c\n"
     ]
    },
    {
     "name": "stdout",
     "output_type": "stream",
     "text": [
      "nadph_c NADPH_c0 nadph\n",
      "####new ID: nadph_c\n",
      "ncam_c NIACINAMIDE_c0 ncam\n",
      "####new ID: ncam_c\n",
      "nicrnt_c NICOTINATE_NUCLEOTIDE_c0 nicrnt\n",
      "####new ID: nicrnt_c\n",
      "nmn_c NICOTINAMIDE_NUCLEOTIDE_c0 nmn\n",
      "####new ID: nmn_c\n",
      "no2_c NITRITE_e0 no2\n",
      "####new ID: no2_e\n",
      "no2_c NITRITE_c0 no2\n",
      "####new ID: no2_c\n",
      "no3_c CPD-15028_c0 no3\n",
      "####new ID: no3_c\n",
      "no3_c CPD-15028_e0 no3\n",
      "####new ID: no3_e\n",
      "o2_c OXYGEN-MOLECULE_c0 o2\n",
      "####new ID: o2_c\n",
      "o2_c OXYGEN-MOLECULE_e0 o2\n",
      "####new ID: o2_e\n",
      "oaa_c ENOL-OXALOACETATE_c0 oaa\n",
      "####new ID: oaa_c\n",
      "oc2coa_c CPD0-2108_c0 oc2coa\n",
      "####new ID: oc2coa_c\n",
      "occoa_c CPD-196_c0 occoa\n",
      "####new ID: occoa_c\n",
      "ocdca_c STEARIC_ACID_c0 ocdca\n",
      "####new ID: ocdca_c\n",
      "ocdca_c STEARIC_ACID_e0 ocdca\n",
      "####new ID: ocdca_e\n",
      "octa_c CPD-195_c0 octa\n",
      "####new ID: octa_c\n",
      "octdp_c OCTAPRENYL-DIPHOSPHATE_c0 octdp\n",
      "####new ID: octdp_c\n",
      "ohpb_c 3OH-4P-OH-ALPHA-KETOBUTYRATE_c0 ohpb\n",
      "####new ID: ohpb_c\n",
      "op4en_c CPD-14447_c0 op4en\n",
      "####new ID: op4en_c\n",
      "orot_c OROTATE_c0 orot\n",
      "####new ID: orot_c\n",
      "orot5p_c OROTIDINE-5-PHOSPHATE_c0 orot5p\n",
      "####new ID: orot5p_c\n",
      "oxa_c OXALATE_c0 oxa\n",
      "####new ID: oxa_c\n",
      "oxadpcoa_c 3-KETO-ADIPYL-COA_c0 oxadpcoa\n",
      "####new ID: oxadpcoa_c\n",
      "oxalcoa_c OXALYL-COA_c0 oxalcoa\n",
      "####new ID: oxalcoa_c\n",
      "pa120_c MNXM90509_c0 pa120\n",
      "####new ID: pa120_c\n",
      "pa140_c CPD0-1425_c0 pa140\n",
      "####new ID: pa140_c\n",
      "pa141_c MNXM90512_c0 pa141\n",
      "####new ID: pa141_c\n",
      "pa160_c CPD0-1422_c0 pa160\n",
      "####new ID: pa160_c\n",
      "pa161_c MNXM90510_c0 pa161\n",
      "####new ID: pa161_c\n",
      "pa180_c CPD0-1423_c0 pa180\n",
      "####new ID: pa180_c\n",
      "pa181_c MNXM90511_c0 pa181\n",
      "####new ID: pa181_c\n",
      "pac_c PHENYLACETATE_c0 pac\n",
      "####new ID: pac_c\n",
      "pacald_c PHENYLACETALDEHYDE_c0 pacald\n",
      "####new ID: pacald_c\n",
      "pan4p_c PANTETHEINE-P_c0 pan4p\n",
      "####new ID: pan4p_c\n",
      "pant__R_c L-PANTOATE_c0 pant__R\n",
      "####new ID: pant__R_c\n",
      "pap_c 3-5-ADP_c0 pap\n",
      "####new ID: pap_c\n",
      "paps_c PAPS_c0 paps\n",
      "####new ID: paps_c\n",
      "pdx5p_c PYRIDOXINE-5P_c0 pdx5p\n",
      "####new ID: pdx5p_c\n",
      "pe160_c CPD-12819_c0 pe160\n",
      "####new ID: pe160_c\n",
      "pe180_c CPD-12818_c0 pe180\n",
      "####new ID: pe180_c\n",
      "pep_c PHOSPHO-ENOL-PYRUVATE_c0 pep\n",
      "####new ID: pep_c\n",
      "pg160_c CPD-8260_c0 pg160\n",
      "####new ID: pg160_c\n",
      "pg161_c CPD0-2330_c0 pg161\n",
      "####new ID: pg161_c\n",
      "pg180_c CPD-12822_c0 pg180\n",
      "####new ID: pg180_c\n",
      "pgp160_c CPD-12821_c0 pgp160\n",
      "####new ID: pgp160_c\n",
      "pgp161_c CPD0-2230_c0 pgp161\n",
      "####new ID: pgp161_c\n",
      "pgp180_c CPD-12820_c0 pgp180\n",
      "####new ID: pgp180_c\n",
      "phaccoa_c CPD-207_c0 phaccoa\n",
      "####new ID: phaccoa_c\n",
      "phe__L_c PHE_c0 phe__L\n",
      "####new ID: phe__L_c\n",
      "phhlipa_c CPD0-2240_c0 phhlipa\n",
      "####new ID: phhlipa_c\n",
      "phom_c O-PHOSPHO-L-HOMOSERINE_c0 phom\n",
      "####new ID: phom_c\n",
      "phphhlipa_c CPD0-2239_c0 phphhlipa\n",
      "####new ID: phphhlipa_c\n",
      "phpyr_c ENOL-PHENYLPYRUVATE_c0 phpyr\n",
      "####new ID: phpyr_c\n",
      "phthr_c 4-PHOSPHONOOXY-THREONINE_c0 phthr\n",
      "####new ID: phthr_c\n",
      "pi_c CPD-16459_c0 pi\n",
      "####new ID: pi_c\n",
      "pi_c CPD-16459_e0 pi\n",
      "####new ID: pi_e\n",
      "pmtcoa_c PALMITYL-COA_c0 pmtcoa\n",
      "####new ID: pmtcoa_c\n",
      "pnto__R_c PANTOTHENATE_e0 pnto__R\n",
      "####new ID: pnto__R_e\n",
      "pnto__R_c PANTOTHENATE_c0 pnto__R\n",
      "####new ID: pnto__R_c\n",
      "ppal_c CPD-665_c0 ppal\n",
      "####new ID: ppal_c\n",
      "ppap_c PROPIONYL-P_c0 ppap\n",
      "####new ID: ppap_c\n",
      "ppbng_c PORPHOBILINOGEN_c0 ppbng\n",
      "####new ID: ppbng_c\n",
      "ppcoa_c PROPIONYL-COA_c0 ppcoa\n",
      "####new ID: ppcoa_c\n",
      "ppgpp_c GUANOSINE-5DP-3DP_c0 ppgpp\n",
      "####new ID: ppgpp_c\n",
      "pphn_c PREPHENATE_c0 pphn\n",
      "####new ID: pphn_c\n",
      "ppi_c PPI_c0 ppi\n",
      "####new ID: ppi_c\n",
      "ppi_c PPI_e0 ppi\n",
      "####new ID: ppi_e\n",
      "ppp9_c PROTOPORPHYRIN_IX_c0 ppp9\n",
      "####new ID: ppp9_c\n",
      "pppg9_c PROTOPORPHYRINOGEN_c0 pppg9\n",
      "####new ID: pppg9_c\n",
      "pppi_c P3I_c0 pppi\n",
      "####new ID: pppi_c\n",
      "pppn_c 3-PHENYLPROPIONATE_c0 pppn\n",
      "####new ID: pppn_c\n",
      "pppn_c 3-PHENYLPROPIONATE_e0 pppn\n",
      "####new ID: pppn_e\n",
      "pram_c 5-P-BETA-D-RIBOSYL-AMINE_c0 pram\n",
      "####new ID: pram_c\n",
      "pran_c N-5-PHOSPHORIBOSYL-ANTHRANILATE_c0 pran\n",
      "####new ID: pran_c\n",
      "prbamp_c PHOSPHORIBOSYL-AMP_c0 prbamp\n",
      "####new ID: prbamp_c\n",
      "prbatp_c PHOSPHORIBOSYL-ATP_c0 prbatp\n",
      "####new ID: prbatp_c\n",
      "prfp_c PHOSPHORIBOSYL-FORMIMINO-AICAR-P_c0 prfp\n",
      "####new ID: prfp_c\n",
      "prlp_c PHOSPHORIBULOSYL-FORMIMINO-AICAR-P_c0 prlp\n",
      "####new ID: prlp_c\n",
      "pro__L_c PRO_e0 pro__L\n",
      "####new ID: pro__L_e\n",
      "pro__L_c PRO_c0 pro__L\n",
      "####new ID: pro__L_c\n",
      "prpp_c PRPP_c0 prpp\n",
      "####new ID: prpp_c\n",
      "ps160_c CPD-12817_c0 ps160\n",
      "####new ID: ps160_c\n",
      "ps180_c CPD-12816_c0 ps180\n",
      "####new ID: ps180_c\n",
      "pser__L_c 3-P-SERINE_c0 pser__L\n",
      "####new ID: pser__L_c\n",
      "ptrc_c PUTRESCINE_c0 ptrc\n",
      "####new ID: ptrc_c\n",
      "ptrc_c PUTRESCINE_e0 ptrc\n",
      "####new ID: ptrc_e\n",
      "pyam5p_c PYRIDOXAMINE-5P_c0 pyam5p\n",
      "####new ID: pyam5p_c\n",
      "pydam_c PYRIDOXAMINE_c0 pydam\n",
      "####new ID: pydam_c\n",
      "pydx_c PYRIDOXAL_c0 pydx\n",
      "####new ID: pydx_c\n",
      "pydx5p_c PYRIDOXAL_PHOSPHATE_c0 pydx5p\n",
      "####new ID: pydx5p_c\n",
      "pydxn_c PYRIDOXINE_c0 pydxn\n",
      "####new ID: pydxn_c\n",
      "pyr_c PYRUVATE_c0 pyr\n",
      "####new ID: pyr_c\n",
      "q8_c UBIQUINONE-8_c0 q8\n",
      "####new ID: q8_c\n",
      "q8h2_c CPD-9956_c0 q8h2\n",
      "####new ID: q8h2_c\n",
      "quln_c QUINOLINATE_c0 quln\n",
      "####new ID: quln_c\n",
      "r15bp_c RIBOSE-15-BISPHOSPHATE_c0 r15bp\n",
      "####new ID: r15bp_c\n",
      "r1p_c RIBOSE-1P_c0 r1p\n",
      "####new ID: r1p_c\n",
      "rbl__L_c L-RIBULOSE_c0 rbl__L\n",
      "####new ID: rbl__L_c\n",
      "rdmbzi_c ALPHA-RIBAZOLE_c0 rdmbzi\n",
      "####new ID: rdmbzi_c\n",
      "rhcys_c CPD-564_c0 rhcys\n",
      "####new ID: rhcys_c\n",
      "rib__D_c D-Ribofuranose_c0 rib__D\n",
      "####new ID: rib__D_c\n",
      "rib__D_c D-Ribofuranose_e0 rib__D\n",
      "####new ID: rib__D_e\n",
      "ribflv_c RIBOFLAVIN_c0 ribflv\n",
      "####new ID: ribflv_c\n",
      "rml_c CPD-16566_c0 rml\n",
      "####new ID: rml_c\n",
      "rml1p_c RHAMNULOSE-1P_c0 rml1p\n",
      "####new ID: rml1p_c\n",
      "rmn_c CPD-15405_c0 rmn\n",
      "####new ID: rmn_c\n",
      "ru5p__D_c RIBULOSE-5P_c0 ru5p__D\n",
      "####new ID: ru5p__D_c\n",
      "ru5p__L_c L-RIBULOSE-5-P_c0 ru5p__L\n",
      "####new ID: ru5p__L_c\n",
      "s17bp_c D-SEDOHEPTULOSE-1-7-P2_c0 s17bp\n",
      "####new ID: s17bp_c\n",
      "s7p_c D-SEDOHEPTULOSE-7-P_c0 s7p\n",
      "####new ID: s7p_c\n",
      "sarcs_c SARCOSINE_c0 sarcs\n",
      "####new ID: sarcs_c\n",
      "sbt6p_c D-SORBITOL-6-P_c0 sbt6p\n",
      "####new ID: sbt6p_c\n",
      "sbzcoa_c CPD-6972_c0 sbzcoa\n",
      "####new ID: sbzcoa_c\n",
      "ser__D_c D-SERINE_c0 ser__D\n",
      "####new ID: ser__D_c\n",
      "ser__L_c SER_c0 ser__L\n",
      "####new ID: ser__L_c\n",
      "ser__L_c SER_e0 ser__L\n",
      "####new ID: ser__L_e\n",
      "sheme_c SIROHEME_c0 sheme\n",
      "####new ID: sheme_c\n",
      "skm_c SHIKIMATE_c0 skm\n",
      "####new ID: skm_c\n",
      "skm5p_c SHIKIMATE-5P_c0 skm5p\n",
      "####new ID: skm5p_c\n",
      "sl26da_c N-SUCCINYLLL-2-6-DIAMINOPIMELATE_c0 sl26da\n",
      "####new ID: sl26da_c\n",
      "sl2a6o_c N-SUCCINYL-2-AMINO-6-KETOPIMELATE_c0 sl2a6o\n",
      "####new ID: sl2a6o_c\n",
      "so3_c H2SO3_c0 so3\n",
      "####new ID: so3_c\n",
      "so4_c HSO4_c0 so4\n",
      "####new ID: so4_c\n",
      "so4_c HSO4_e0 so4\n",
      "####new ID: so4_e\n",
      "spmd_c SPERMIDINE_c0 spmd\n",
      "####new ID: spmd_c\n",
      "spmd_c SPERMIDINE_e0 spmd\n",
      "####new ID: spmd_e\n",
      "stcoa_c STEAROYL-COA_c0 stcoa\n",
      "####new ID: stcoa_c\n",
      "suc6p_c CPD-15716_c0 suc6p\n",
      "####new ID: suc6p_c\n",
      "sucarg_c CPD-421_c0 sucarg\n",
      "####new ID: sucarg_c\n",
      "sucbz_c O-SUCCINYLBENZOATE_c0 sucbz\n",
      "####new ID: sucbz_c\n",
      "succ_c SUC_e0 succ\n",
      "####new ID: succ_e\n",
      "succ_c SUC_c0 succ\n",
      "####new ID: succ_c\n",
      "succoa_c SUC-COA_c0 succoa\n",
      "####new ID: succoa_c\n",
      "sucglu_c N2-SUCCINYLGLUTAMATE_c0 sucglu\n",
      "####new ID: sucglu_c\n",
      "sucgsa_c CPD-822_c0 sucgsa\n",
      "####new ID: sucgsa_c\n",
      "suchms_c O-SUCCINYL-L-HOMOSERINE_c0 suchms\n",
      "####new ID: suchms_c\n",
      "sucorn_c N2-SUCCINYLORNITHINE_c0 sucorn\n",
      "####new ID: sucorn_c\n",
      "sucsal_c SUCC-S-ALD_c0 sucsal\n",
      "####new ID: sucsal_c\n",
      "tag6p__D_c TAGATOSE-6-PHOSPHATE_c0 tag6p__D\n",
      "####new ID: tag6p__D_c\n",
      "tagdp__D_c TAGATOSE-1-6-DIPHOSPHATE_c0 tagdp__D\n",
      "####new ID: tagdp__D_c\n",
      "tagur_c D-TAGATURONATE_c0 tagur\n",
      "####new ID: tagur_c\n",
      "taur_c TAURINE_c0 taur\n",
      "####new ID: taur_c\n",
      "taur_c TAURINE_e0 taur\n",
      "####new ID: taur_e\n",
      "tcynt_c CPD-19512_c0 tcynt\n",
      "####new ID: tcynt_c\n",
      "td2coa_c CPD-15568_c0 td2coa\n",
      "####new ID: td2coa_c\n",
      "tdcoa_c TETRADECANOYL-COA_c0 tdcoa\n",
      "####new ID: tdcoa_c\n",
      "tddec2eACP_c Dodec-2-enoyl-ACPs_c0 tddec2eACP\n",
      "####new ID: tddec2eACP_c\n",
      "tdec2eACP_c MNXM28221_c0 tdec2eACP\n",
      "####new ID: tdec2eACP_c\n",
      "thdp_c DELTA1-PIPERIDEINE-2-6-DICARBOXYLATE_c0 thdp\n",
      "####new ID: thdp_c\n",
      "thex2eACP_c Hex-2-enoyl-ACPs_c0 thex2eACP\n",
      "####new ID: thex2eACP_c\n",
      "thf_c THF_c0 thf\n",
      "####new ID: thf_c\n",
      "thm_c THIAMINE_c0 thm\n",
      "####new ID: thm_c\n",
      "thm_c THIAMINE_e0 thm\n",
      "####new ID: thm_e\n",
      "thmmp_c THIAMINE-P_c0 thmmp\n",
      "####new ID: thmmp_c\n",
      "thmpp_c THIAMINE-PYROPHOSPHATE_c0 thmpp\n",
      "####new ID: thmpp_c\n",
      "thr__L_c THR_c0 thr__L\n",
      "####new ID: thr__L_c\n",
      "thym_c THYMINE_c0 thym\n",
      "####new ID: thym_c\n",
      "thymd_c THYMIDINE_e0 thymd\n",
      "####new ID: thymd_e\n",
      "thymd_c THYMIDINE_c0 thymd\n",
      "####new ID: thymd_c\n",
      "tma_c TRIMETHYLAMINE_c0 tma\n",
      "####new ID: tma_c\n",
      "tmao_c TRIMETHYLAMINE-N-O_c0 tmao\n",
      "####new ID: tmao_c\n",
      "tmrs2eACP_c Tetradec-2-enoyl-ACPs_c0 tmrs2eACP\n",
      "####new ID: tmrs2eACP_c\n",
      "toct2eACP_c 2-Octenoyl-ACPs_c0 toct2eACP\n",
      "####new ID: toct2eACP_c\n",
      "tpalm2eACP_c 2-Hexadecenoyl-ACPs_c0 tpalm2eACP\n"
     ]
    },
    {
     "name": "stdout",
     "output_type": "stream",
     "text": [
      "####new ID: tpalm2eACP_c\n",
      "trdox_c Ox-Thioredoxin_c0 trdox\n",
      "####new ID: trdox_c\n",
      "trdrd_c Red-Thioredoxin_c0 trdrd\n",
      "####new ID: trdrd_c\n",
      "tre_c CPD-15990_e0 tre\n",
      "####new ID: tre_e\n",
      "tre6p_c TREHALOSE-6P_c0 tre6p\n",
      "####new ID: tre6p_c\n",
      "trnaglu_c GLT-tRNAs_c0 trnaglu\n",
      "####new ID: trnaglu_c\n",
      "trp__L_c TRP_c0 trp__L\n",
      "####new ID: trp__L_c\n",
      "trp__L_c TRP_e0 trp__L\n",
      "####new ID: trp__L_e\n",
      "tsul_c S2O3_c0 tsul\n",
      "####new ID: tsul_c\n",
      "tyr__L_c TYR_c0 tyr__L\n",
      "####new ID: tyr__L_c\n",
      "tyr__L_c TYR_e0 tyr__L\n",
      "####new ID: tyr__L_e\n",
      "u23ga_c OH-MYRISTOYL_c0 u23ga\n",
      "####new ID: u23ga_c\n",
      "u3aga_c UDP-OHMYR-ACETYLGLUCOSAMINE_c0 u3aga\n",
      "####new ID: u3aga_c\n",
      "u3hga_c UDP-OHMYR-GLUCOSAMINE_c0 u3hga\n",
      "####new ID: u3hga_c\n",
      "uaagmda_c MNXM1242_c0 uaagmda\n",
      "####new ID: uaagmda_c\n",
      "uaccg_c UDP-ACETYL-CARBOXYVINYL-GLUCOSAMINE_c0 uaccg\n",
      "####new ID: uaccg_c\n",
      "uacgam_c UDP-N-ACETYL-D-GLUCOSAMINE_c0 uacgam\n",
      "####new ID: uacgam_c\n",
      "uagmda_c C5_c0 uagmda\n",
      "####new ID: uagmda_c\n",
      "uama_c CPD0-1456_c0 uama\n",
      "####new ID: uama_c\n",
      "uamag_c UDP-AA-GLUTAMATE_c0 uamag\n",
      "####new ID: uamag_c\n",
      "uamr_c UDP-N-ACETYLMURAMATE_c0 uamr\n",
      "####new ID: uamr_c\n",
      "udcpp_c UNDECAPRENYL-P_c0 udcpp\n",
      "####new ID: udcpp_c\n",
      "udp_c UDP_c0 udp\n",
      "####new ID: udp_c\n",
      "udpg_c CPD-12575_c0 udpg\n",
      "####new ID: udpg_c\n",
      "udpgal_c CPD-14553_c0 udpgal\n",
      "####new ID: udpgal_c\n",
      "udpgalfur_c UDP-D-GALACTO-14-FURANOSE_c0 udpgalfur\n",
      "####new ID: udpgalfur_c\n",
      "udpglcur_c UDP-GLUCURONATE_c0 udpglcur\n",
      "####new ID: udpglcur_c\n",
      "ugmda_c C1_c0 ugmda\n",
      "####new ID: ugmda_c\n",
      "ump_c UMP_c0 ump\n",
      "####new ID: ump_c\n",
      "unaga_c ACETYL-D-GLUCOSAMINYLDIPHOSPHO-UNDECAPRE_c0 unaga\n",
      "####new ID: unaga_c\n",
      "uppg3_c UROPORPHYRINOGEN-III_c0 uppg3\n",
      "####new ID: uppg3_c\n",
      "ura_c URACIL_c0 ura\n",
      "####new ID: ura_c\n",
      "ura_c URACIL_e0 ura\n",
      "####new ID: ura_e\n",
      "urate_c CPD-15041_c0 urate\n",
      "####new ID: urate_c\n",
      "urdglyc_c CPD-1091_c0 urdglyc\n",
      "####new ID: urdglyc_c\n",
      "urea_c UREA_c0 urea\n",
      "####new ID: urea_c\n",
      "uri_c URIDINE_c0 uri\n",
      "####new ID: uri_c\n",
      "uri_c URIDINE_e0 uri\n",
      "####new ID: uri_e\n",
      "utp_c UTP_c0 utp\n",
      "####new ID: utp_c\n",
      "val__L_c VAL_c0 val__L\n",
      "####new ID: val__L_c\n",
      "val__L_c VAL_e0 val__L\n",
      "####new ID: val__L_e\n",
      "xan_c XANTHINE_c0 xan\n",
      "####new ID: xan_c\n",
      "xan_c XANTHINE_e0 xan\n",
      "####new ID: xan_e\n",
      "xmp_c XANTHOSINE-5-PHOSPHATE_c0 xmp\n",
      "####new ID: xmp_c\n",
      "xtsn_c XANTHOSINE_c0 xtsn\n",
      "####new ID: xtsn_c\n",
      "xu5p__D_c XYLULOSE-5-PHOSPHATE_c0 xu5p__D\n",
      "####new ID: xu5p__D_c\n",
      "xu5p__L_c L-XYLULOSE-5-P_c0 xu5p__L\n",
      "####new ID: xu5p__L_c\n",
      "xyl__D_c D-Xylopyranose_c0 xyl__D\n",
      "####new ID: xyl__D_c\n",
      "12ppd__R_e 12ppd__R_c 12ppd__R\n",
      "####new ID: 12ppd__R_c\n",
      "15dap_e 15dap_c 15dap\n",
      "####new ID: 15dap_c\n",
      "23camp_e CPD-3707_c0 23camp\n",
      "####new ID: 23camp_c\n",
      "23ccmp_e CPD-3713_c0 23ccmp\n",
      "####new ID: 23ccmp_c\n",
      "23cgmp_e CPD-3709_c0 23cgmp\n",
      "####new ID: 23cgmp_c\n",
      "23cump_e CPD-3725_c0 23cump\n",
      "####new ID: 23cump_c\n",
      "23dappa_e 23dappa_c 23dappa\n",
      "####new ID: 23dappa_c\n",
      "26dap__M_e 26dap__M_c 26dap__M\n",
      "####new ID: 26dap__M_c\n",
      "3amp_e CPD-3706_c0 3amp\n",
      "####new ID: 3amp_c\n",
      "3cmp_e CPD-3711_c0 3cmp\n",
      "####new ID: 3cmp_c\n",
      "3gmp_e CPD-3708_c0 3gmp\n",
      "####new ID: 3gmp_c\n",
      "3hcinnm_e 3hcinnm_c 3hcinnm\n",
      "####new ID: 3hcinnm_c\n",
      "3hpppn_e 3hpppn_c 3hpppn\n",
      "####new ID: 3hpppn_c\n",
      "3ump_e CPD-3724_c0 3ump\n",
      "####new ID: 3ump_c\n",
      "4abut_e 4abut_c 4abut\n",
      "####new ID: 4abut_c\n",
      "5mtr_e 5mtr_c 5mtr\n",
      "####new ID: 5mtr_c\n",
      "ac_e ac_c ac\n",
      "####new ID: ac_c\n",
      "acac_e acac_c acac\n",
      "####new ID: acac_c\n",
      "acald_e acald_c acald\n",
      "####new ID: acald_c\n",
      "acgam_e acgam_c acgam\n",
      "####new ID: acgam_c\n",
      "acgam_e acgam_e acgam\n",
      "####new ID: acgam_e\n",
      "acgam1p_e acgam1p_c acgam1p\n",
      "####new ID: acgam1p_c\n",
      "acmana_e acmana_c acmana\n",
      "####new ID: acmana_c\n",
      "acnam_e acnam_c acnam\n",
      "####new ID: acnam_c\n",
      "acser_e acser_c acser\n",
      "####new ID: acser_c\n",
      "ade_e ade_c ade\n",
      "####new ID: ade_c\n",
      "adn_e adn_e adn\n",
      "####new ID: adn_e\n",
      "adn_e adn_c adn\n",
      "####new ID: adn_c\n",
      "adocbl_e adocbl_c adocbl\n",
      "####new ID: adocbl_c\n",
      "agm_e agm_c agm\n",
      "####new ID: agm_c\n",
      "akg_e akg_c akg\n",
      "####new ID: akg_c\n",
      "ala_B_e ala_B_c ala_B\n",
      "####new ID: ala_B_c\n",
      "ala__D_e ala__D_c ala__D\n",
      "####new ID: ala__D_c\n",
      "ala__D_e ala__D_e ala__D\n",
      "####new ID: ala__D_e\n",
      "ala__L_e ala__L_c ala__L\n",
      "####new ID: ala__L_c\n",
      "ala__L_e ala__L_e ala__L\n",
      "####new ID: ala__L_e\n",
      "all__D_e all__D_c all__D\n",
      "####new ID: all__D_c\n",
      "alltn_e alltn_c alltn\n",
      "####new ID: alltn_c\n",
      "alltn_e alltn_e alltn\n",
      "####new ID: alltn_e\n",
      "amp_e amp_c amp\n",
      "####new ID: amp_c\n",
      "arbt_e HYDROQUINONE-O-BETA-D-GLUCOPYRANOSIDE_e0 arbt\n",
      "####new ID: arbt_e\n",
      "arg__L_e arg__L_c arg__L\n",
      "####new ID: arg__L_c\n",
      "arg__L_e arg__L_e arg__L\n",
      "####new ID: arg__L_e\n",
      "asn__L_e asn__L_c asn__L\n",
      "####new ID: asn__L_c\n",
      "btn_e btn_c btn\n",
      "####new ID: btn_c\n",
      "ca2_e ca2_c ca2\n",
      "####new ID: ca2_c\n",
      "ca2_e ca2_e ca2\n",
      "####new ID: ca2_e\n",
      "cgly_e cgly_e cgly\n",
      "####new ID: cgly_e\n",
      "cgly_e cgly_c cgly\n",
      "####new ID: cgly_c\n",
      "chol_e chol_c chol\n",
      "####new ID: chol_c\n",
      "chol_e chol_e chol\n",
      "####new ID: chol_e\n",
      "chtbs_e CHITOBIOSE_c0 chtbs\n",
      "####new ID: chtbs_c\n",
      "cit_e cit_c cit\n",
      "####new ID: cit_c\n",
      "cit_e cit_e cit\n",
      "####new ID: cit_e\n",
      "cl_e cl_c cl\n",
      "####new ID: cl_c\n",
      "cl_e cl_e cl\n",
      "####new ID: cl_e\n",
      "cmp_e cmp_c cmp\n",
      "####new ID: cmp_c\n",
      "co2_e co2_c co2\n",
      "####new ID: co2_c\n",
      "co2_e co2_e co2\n",
      "####new ID: co2_e\n",
      "cobalt2_e cobalt2_c cobalt2\n",
      "####new ID: cobalt2_c\n",
      "cobalt2_e cobalt2_e cobalt2\n",
      "####new ID: cobalt2_e\n",
      "colipa_e colipa_c colipa\n",
      "####new ID: colipa_c\n",
      "crn_e crn_c crn\n",
      "####new ID: crn_c\n",
      "csn_e csn_c csn\n",
      "####new ID: csn_c\n",
      "cu2_e cu2_e cu2\n",
      "####new ID: cu2_e\n",
      "cu2_e cu2_c cu2\n",
      "####new ID: cu2_c\n",
      "cyan_e cyan_c cyan\n",
      "####new ID: cyan_c\n",
      "cynt_e cynt_c cynt\n",
      "####new ID: cynt_c\n",
      "cynt_e cynt_e cynt\n",
      "####new ID: cynt_e\n",
      "cys__L_e cys__L_c cys__L\n",
      "####new ID: cys__L_c\n",
      "cytd_e cytd_c cytd\n",
      "####new ID: cytd_c\n",
      "cytd_e cytd_e cytd\n",
      "####new ID: cytd_e\n",
      "dad_2_e dad_2_e dad_2\n",
      "####new ID: dad_2_e\n",
      "dad_2_e dad_2_c dad_2\n",
      "####new ID: dad_2_c\n",
      "damp_e damp_c damp\n",
      "####new ID: damp_c\n",
      "dcmp_e dcmp_c dcmp\n",
      "####new ID: dcmp_c\n",
      "dcyt_e dcyt_c dcyt\n",
      "####new ID: dcyt_c\n",
      "dcyt_e dcyt_e dcyt\n",
      "####new ID: dcyt_e\n",
      "dgmp_e dgmp_c dgmp\n",
      "####new ID: dgmp_c\n",
      "dgsn_e dgsn_c dgsn\n",
      "####new ID: dgsn_c\n",
      "dgsn_e dgsn_e dgsn\n",
      "####new ID: dgsn_e\n",
      "dha_e dha_c dha\n",
      "####new ID: dha_c\n",
      "din_e din_e din\n",
      "####new ID: din_e\n",
      "din_e din_c din\n",
      "####new ID: din_c\n",
      "dopa_e DOPAMINE_c0 dopa\n",
      "####new ID: dopa_c\n",
      "dtmp_e dtmp_c dtmp\n",
      "####new ID: dtmp_c\n",
      "dump_e dump_c dump\n",
      "####new ID: dump_c\n",
      "duri_e duri_e duri\n",
      "####new ID: duri_e\n",
      "duri_e duri_c duri\n",
      "####new ID: duri_c\n",
      "etha_e etha_c etha\n",
      "####new ID: etha_c\n",
      "etha_e etha_e etha\n",
      "####new ID: etha_e\n",
      "etoh_e etoh_c etoh\n",
      "####new ID: etoh_c\n",
      "fald_e fald_c fald\n",
      "####new ID: fald_c\n",
      "fe2_e fe2_c fe2\n",
      "####new ID: fe2_c\n",
      "fe2_e fe2_e fe2\n",
      "####new ID: fe2_e\n",
      "fe3_e fe3_c fe3\n",
      "####new ID: fe3_c\n",
      "fe3_e fe3_e fe3\n",
      "####new ID: fe3_e\n",
      "fe3dcit_e MNXM146388_e0 fe3dcit\n",
      "####new ID: fe3dcit_e\n",
      "fe3dcit_e MNXM146388_c0 fe3dcit\n",
      "####new ID: fe3dcit_c\n",
      "for_e for_c for\n",
      "####new ID: for_c\n",
      "for_e for_e for\n",
      "####new ID: for_e\n",
      "fru_e fru_e fru\n",
      "####new ID: fru_e\n",
      "fru_e fru_c fru\n",
      "####new ID: fru_c\n",
      "fruur_e fruur_c fruur\n",
      "####new ID: fruur_c\n",
      "fum_e fum_e fum\n",
      "####new ID: fum_e\n",
      "fum_e fum_c fum\n",
      "####new ID: fum_c\n",
      "g1p_e g1p_c g1p\n",
      "####new ID: g1p_c\n",
      "g3pc_e g3pc_c g3pc\n",
      "####new ID: g3pc_c\n",
      "g3pe_e g3pe_c g3pe\n",
      "####new ID: g3pe_c\n",
      "g3pg_e g3pg_c g3pg\n",
      "####new ID: g3pg_c\n",
      "g6p_e g6p_c g6p\n",
      "####new ID: g6p_c\n",
      "gal_e gal_c gal\n",
      "####new ID: gal_c\n",
      "gal_bD_e GALACTOSE_c0 gal_bD\n",
      "####new ID: gal_bD_c\n",
      "gal1p_e gal1p_c gal1p\n",
      "####new ID: gal1p_c\n",
      "galctn__D_e galctn__D_c galctn__D\n",
      "####new ID: galctn__D_c\n",
      "galt_e GALACTITOL_e0 galt\n",
      "####new ID: galt_e\n",
      "galur_e galur_c galur\n",
      "####new ID: galur_c\n",
      "gam_e GLUCOSAMINE_e0 gam\n",
      "####new ID: gam_e\n",
      "gam6p_e gam6p_c gam6p\n",
      "####new ID: gam6p_c\n",
      "gdp_e gdp_c gdp\n",
      "####new ID: gdp_c\n",
      "glcur_e glcur_c glcur\n",
      "####new ID: glcur_c\n",
      "gln__L_e gln__L_c gln__L\n",
      "####new ID: gln__L_c\n",
      "glu__L_e glu__L_c glu__L\n",
      "####new ID: glu__L_c\n",
      "glu__L_e glu__L_e glu__L\n",
      "####new ID: glu__L_e\n",
      "gly_e gly_c gly\n",
      "####new ID: gly_c\n",
      "glyald_e glyald_c glyald\n",
      "####new ID: glyald_c\n",
      "glyb_e glyb_c glyb\n",
      "####new ID: glyb_c\n",
      "glyb_e glyb_e glyb\n",
      "####new ID: glyb_e\n",
      "glyc_e glyc_c glyc\n",
      "####new ID: glyc_c\n",
      "glyc_e glyc_e glyc\n",
      "####new ID: glyc_e\n",
      "glyc__R_e glyc__R_c glyc__R\n",
      "####new ID: glyc__R_c\n",
      "glyc3p_e glyc3p_c glyc3p\n",
      "####new ID: glyc3p_c\n",
      "glyc3p_e glyc3p_e glyc3p\n",
      "####new ID: glyc3p_e\n",
      "glyclt_e glyclt_c glyclt\n",
      "####new ID: glyclt_c\n",
      "gmp_e gmp_c gmp\n",
      "####new ID: gmp_c\n",
      "gsn_e gsn_c gsn\n",
      "####new ID: gsn_c\n",
      "gthox_e gthox_c gthox\n",
      "####new ID: gthox_c\n",
      "gthrd_e gthrd_c gthrd\n",
      "####new ID: gthrd_c\n",
      "gtp_e gtp_c gtp\n",
      "####new ID: gtp_c\n",
      "gua_e gua_c gua\n",
      "####new ID: gua_c\n",
      "h_e h_c h\n",
      "####new ID: h_c\n",
      "h_e h_e h\n",
      "####new ID: h_e\n",
      "h2_e h2_c h2\n",
      "####new ID: h2_c\n",
      "h2o2_e h2o2_c h2o2\n",
      "####new ID: h2o2_c\n",
      "h2s_e h2s_c h2s\n",
      "####new ID: h2s_c\n",
      "hdca_e hdca_c hdca\n",
      "####new ID: hdca_c\n",
      "hdca_e hdca_e hdca\n",
      "####new ID: hdca_e\n",
      "hg2_e hg2_c hg2\n"
     ]
    },
    {
     "name": "stdout",
     "output_type": "stream",
     "text": [
      "####new ID: hg2_c\n",
      "hg2_e hg2_e hg2\n",
      "####new ID: hg2_e\n",
      "his__L_e his__L_c his__L\n",
      "####new ID: his__L_c\n",
      "his__L_e his__L_e his__L\n",
      "####new ID: his__L_e\n",
      "hom__L_e hom__L_c hom__L\n",
      "####new ID: hom__L_c\n",
      "hxan_e hxan_c hxan\n",
      "####new ID: hxan_c\n",
      "hxan_e hxan_e hxan\n",
      "####new ID: hxan_e\n",
      "ile__L_e ile__L_c ile__L\n",
      "####new ID: ile__L_c\n",
      "ile__L_e ile__L_e ile__L\n",
      "####new ID: ile__L_e\n",
      "imp_e imp_c imp\n",
      "####new ID: imp_c\n",
      "indole_e indole_c indole\n",
      "####new ID: indole_c\n",
      "inost_e inost_c inost\n",
      "####new ID: inost_c\n",
      "inost_e inost_e inost\n",
      "####new ID: inost_e\n",
      "ins_e ins_c ins\n",
      "####new ID: ins_c\n",
      "ins_e ins_e ins\n",
      "####new ID: ins_e\n",
      "k_e k_c k\n",
      "####new ID: k_c\n",
      "k_e k_e k\n",
      "####new ID: k_e\n",
      "kdo2lipid4_e kdo2lipid4_c kdo2lipid4\n",
      "####new ID: kdo2lipid4_c\n",
      "lac__D_e lac__D_c lac__D\n",
      "####new ID: lac__D_c\n",
      "lac__L_e lac__L_c lac__L\n",
      "####new ID: lac__L_c\n",
      "lac__L_e lac__L_e lac__L\n",
      "####new ID: lac__L_e\n",
      "lcts_e lcts_c lcts\n",
      "####new ID: lcts_c\n",
      "leu__L_e leu__L_e leu__L\n",
      "####new ID: leu__L_e\n",
      "leu__L_e leu__L_c leu__L\n",
      "####new ID: leu__L_c\n",
      "lipa_e lipa_c lipa\n",
      "####new ID: lipa_c\n",
      "lys__L_e lys__L_c lys__L\n",
      "####new ID: lys__L_c\n",
      "lys__L_e lys__L_e lys__L\n",
      "####new ID: lys__L_e\n",
      "mal__L_e mal__L_c mal__L\n",
      "####new ID: mal__L_c\n",
      "malt_e malt_c malt\n",
      "####new ID: malt_c\n",
      "malt_e malt_e malt\n",
      "####new ID: malt_e\n",
      "malthx_e malthx_c malthx\n",
      "####new ID: malthx_c\n",
      "malthx_e malthx_e malthx\n",
      "####new ID: malthx_e\n",
      "maltpt_e maltpt_c maltpt\n",
      "####new ID: maltpt_c\n",
      "malttr_e malttr_e malttr\n",
      "####new ID: malttr_e\n",
      "malttr_e malttr_c malttr\n",
      "####new ID: malttr_c\n",
      "maltttr_e maltttr_c maltttr\n",
      "####new ID: maltttr_c\n",
      "man_e man_e man\n",
      "####new ID: man_e\n",
      "man6p_e man6p_c man6p\n",
      "####new ID: man6p_c\n",
      "meoh_e meoh_c meoh\n",
      "####new ID: meoh_c\n",
      "met__D_e met__D_e met__D\n",
      "####new ID: met__D_e\n",
      "met__D_e met__D_c met__D\n",
      "####new ID: met__D_c\n",
      "met__L_e met__L_c met__L\n",
      "####new ID: met__L_c\n",
      "met__L_e met__L_e met__L\n",
      "####new ID: met__L_e\n",
      "mg2_e mg2_e mg2\n",
      "####new ID: mg2_e\n",
      "mg2_e mg2_c mg2\n",
      "####new ID: mg2_c\n",
      "mmet_e mmet_c mmet\n",
      "####new ID: mmet_c\n",
      "mn2_e mn2_c mn2\n",
      "####new ID: mn2_c\n",
      "mn2_e mn2_e mn2\n",
      "####new ID: mn2_e\n",
      "mnl_e MANNITOL_e0 mnl\n",
      "####new ID: mnl_e\n",
      "mnl_e MANNITOL_c0 mnl\n",
      "####new ID: mnl_c\n",
      "na1_e na1_e na1\n",
      "####new ID: na1_e\n",
      "na1_e na1_c na1\n",
      "####new ID: na1_c\n",
      "nac_e nac_c nac\n",
      "####new ID: nac_c\n",
      "nmn_e nmn_c nmn\n",
      "####new ID: nmn_c\n",
      "no2_e no2_e no2\n",
      "####new ID: no2_e\n",
      "no2_e no2_c no2\n",
      "####new ID: no2_c\n",
      "no3_e no3_c no3\n",
      "####new ID: no3_c\n",
      "no3_e no3_e no3\n",
      "####new ID: no3_e\n",
      "o2_e o2_c o2\n",
      "####new ID: o2_c\n",
      "o2_e o2_e o2\n",
      "####new ID: o2_e\n",
      "ocdca_e ocdca_c ocdca\n",
      "####new ID: ocdca_c\n",
      "ocdca_e ocdca_e ocdca\n",
      "####new ID: ocdca_e\n",
      "octa_e octa_c octa\n",
      "####new ID: octa_c\n",
      "orot_e orot_c orot\n",
      "####new ID: orot_c\n",
      "pacald_e pacald_c pacald\n",
      "####new ID: pacald_c\n",
      "peamn_e PHENYLETHYLAMINE_c0 peamn\n",
      "####new ID: peamn_c\n",
      "phe__L_e phe__L_c phe__L\n",
      "####new ID: phe__L_c\n",
      "pi_e pi_c pi\n",
      "####new ID: pi_c\n",
      "pi_e pi_e pi\n",
      "####new ID: pi_e\n",
      "pnto__R_e pnto__R_e pnto__R\n",
      "####new ID: pnto__R_e\n",
      "pnto__R_e pnto__R_c pnto__R\n",
      "####new ID: pnto__R_c\n",
      "ppal_e ppal_c ppal\n",
      "####new ID: ppal_c\n",
      "pppn_e pppn_c pppn\n",
      "####new ID: pppn_c\n",
      "pppn_e pppn_e pppn\n",
      "####new ID: pppn_e\n",
      "pro__L_e pro__L_e pro__L\n",
      "####new ID: pro__L_e\n",
      "pro__L_e pro__L_c pro__L\n",
      "####new ID: pro__L_c\n",
      "pser__L_e pser__L_c pser__L\n",
      "####new ID: pser__L_c\n",
      "ptrc_e ptrc_c ptrc\n",
      "####new ID: ptrc_c\n",
      "ptrc_e ptrc_e ptrc\n",
      "####new ID: ptrc_e\n",
      "pydam_e pydam_c pydam\n",
      "####new ID: pydam_c\n",
      "pydx_e pydx_c pydx\n",
      "####new ID: pydx_c\n",
      "pydxn_e pydxn_c pydxn\n",
      "####new ID: pydxn_c\n",
      "pyr_e pyr_c pyr\n",
      "####new ID: pyr_c\n",
      "rib__D_e rib__D_c rib__D\n",
      "####new ID: rib__D_c\n",
      "rib__D_e rib__D_e rib__D\n",
      "####new ID: rib__D_e\n",
      "rmn_e rmn_c rmn\n",
      "####new ID: rmn_c\n",
      "sbt__D_e SORBITOL_e0 sbt__D\n",
      "####new ID: sbt__D_e\n",
      "ser__D_e ser__D_c ser__D\n",
      "####new ID: ser__D_c\n",
      "ser__L_e ser__L_c ser__L\n",
      "####new ID: ser__L_c\n",
      "ser__L_e ser__L_e ser__L\n",
      "####new ID: ser__L_e\n",
      "skm_e skm_c skm\n",
      "####new ID: skm_c\n",
      "so3_e so3_c so3\n",
      "####new ID: so3_c\n",
      "so4_e so4_c so4\n",
      "####new ID: so4_c\n",
      "so4_e so4_e so4\n",
      "####new ID: so4_e\n",
      "spmd_e spmd_c spmd\n",
      "####new ID: spmd_c\n",
      "spmd_e spmd_e spmd\n",
      "####new ID: spmd_e\n",
      "succ_e succ_e succ\n",
      "####new ID: succ_e\n",
      "succ_e succ_c succ\n",
      "####new ID: succ_c\n",
      "sucr_e SUCROSE_c0 sucr\n",
      "####new ID: sucr_c\n",
      "sucr_e SUCROSE_e0 sucr\n",
      "####new ID: sucr_e\n",
      "taur_e taur_c taur\n",
      "####new ID: taur_c\n",
      "taur_e taur_e taur\n",
      "####new ID: taur_e\n",
      "tcynt_e tcynt_c tcynt\n",
      "####new ID: tcynt_c\n",
      "thm_e thm_c thm\n",
      "####new ID: thm_c\n",
      "thm_e thm_e thm\n",
      "####new ID: thm_e\n",
      "thr__L_e thr__L_c thr__L\n",
      "####new ID: thr__L_c\n",
      "thym_e thym_c thym\n",
      "####new ID: thym_c\n",
      "thymd_e thymd_e thymd\n",
      "####new ID: thymd_e\n",
      "thymd_e thymd_c thymd\n",
      "####new ID: thymd_c\n",
      "tma_e tma_c tma\n",
      "####new ID: tma_c\n",
      "tmao_e tmao_c tmao\n",
      "####new ID: tmao_c\n",
      "tre_e tre_e tre\n",
      "####new ID: tre_e\n",
      "trp__L_e trp__L_c trp__L\n",
      "####new ID: trp__L_c\n",
      "trp__L_e trp__L_e trp__L\n",
      "####new ID: trp__L_e\n",
      "tsul_e tsul_c tsul\n",
      "####new ID: tsul_c\n",
      "tym_e TYRAMINE_c0 tym\n",
      "####new ID: tym_c\n",
      "tyr__L_e tyr__L_c tyr__L\n",
      "####new ID: tyr__L_c\n",
      "tyr__L_e tyr__L_e tyr__L\n",
      "####new ID: tyr__L_e\n",
      "uacgam_e uacgam_c uacgam\n",
      "####new ID: uacgam_c\n",
      "udpacgal_e UDP-N-ACETYL-GALACTOSAMINE_c0 udpacgal\n",
      "####new ID: udpacgal_c\n",
      "udpg_e udpg_c udpg\n",
      "####new ID: udpg_c\n",
      "udpgal_e udpgal_c udpgal\n",
      "####new ID: udpgal_c\n",
      "udpglcur_e udpglcur_c udpglcur\n",
      "####new ID: udpglcur_c\n",
      "ump_e ump_c ump\n",
      "####new ID: ump_c\n",
      "ura_e ura_c ura\n",
      "####new ID: ura_c\n",
      "ura_e ura_e ura\n",
      "####new ID: ura_e\n",
      "urea_e urea_c urea\n",
      "####new ID: urea_c\n",
      "uri_e uri_c uri\n",
      "####new ID: uri_c\n",
      "uri_e uri_e uri\n",
      "####new ID: uri_e\n",
      "val__L_e val__L_c val__L\n",
      "####new ID: val__L_c\n",
      "val__L_e val__L_e val__L\n",
      "####new ID: val__L_e\n",
      "xan_e xan_c xan\n",
      "####new ID: xan_c\n",
      "xan_e xan_e xan\n",
      "####new ID: xan_e\n",
      "xmp_e xmp_c xmp\n",
      "####new ID: xmp_c\n",
      "xtsn_e xtsn_c xtsn\n",
      "####new ID: xtsn_c\n",
      "xyl__D_e xyl__D_c xyl__D\n",
      "####new ID: xyl__D_c\n",
      "12ppd__R_p 12ppd__R_c 12ppd__R\n",
      "####new ID: 12ppd__R_c\n",
      "15dap_p 15dap_c 15dap\n",
      "####new ID: 15dap_c\n",
      "1ddecg3p_p 1ddecg3p_c 1ddecg3p\n",
      "####new ID: 1ddecg3p_c\n",
      "1hdec9eg3p_p 1hdec9eg3p_c 1hdec9eg3p\n",
      "####new ID: 1hdec9eg3p_c\n",
      "1hdecg3p_p 1hdecg3p_c 1hdecg3p\n",
      "####new ID: 1hdecg3p_c\n",
      "1odec11eg3p_p 1odec11eg3p_c 1odec11eg3p\n",
      "####new ID: 1odec11eg3p_c\n",
      "1odecg3p_p 1odecg3p_c 1odecg3p\n",
      "####new ID: 1odecg3p_c\n",
      "1tdec7eg3p_p 1tdec7eg3p_c 1tdec7eg3p\n",
      "####new ID: 1tdec7eg3p_c\n",
      "1tdecg3p_p 1tdecg3p_c 1tdecg3p\n",
      "####new ID: 1tdecg3p_c\n",
      "23camp_p 23camp_c 23camp\n",
      "####new ID: 23camp_c\n",
      "23ccmp_p 23ccmp_c 23ccmp\n",
      "####new ID: 23ccmp_c\n",
      "23cgmp_p 23cgmp_c 23cgmp\n",
      "####new ID: 23cgmp_c\n",
      "23cump_p 23cump_c 23cump\n",
      "####new ID: 23cump_c\n",
      "23dappa_p 23dappa_c 23dappa\n",
      "####new ID: 23dappa_c\n",
      "26dap__M_p 26dap__M_c 26dap__M\n",
      "####new ID: 26dap__M_c\n",
      "2agpe160_p 2agpe160_c 2agpe160\n",
      "####new ID: 2agpe160_c\n",
      "2agpe180_p 2agpe180_c 2agpe180\n",
      "####new ID: 2agpe180_c\n",
      "2ddecg3p_p 2ddecg3p_c 2ddecg3p\n",
      "####new ID: 2ddecg3p_c\n",
      "2hdec9eg3p_p 2hdec9eg3p_c 2hdec9eg3p\n",
      "####new ID: 2hdec9eg3p_c\n",
      "2hdecg3p_p 2hdecg3p_c 2hdecg3p\n",
      "####new ID: 2hdecg3p_c\n",
      "2odec11eg3p_p 2odec11eg3p_c 2odec11eg3p\n",
      "####new ID: 2odec11eg3p_c\n",
      "2odecg3p_p 2odecg3p_c 2odecg3p\n",
      "####new ID: 2odecg3p_c\n",
      "2tdec7eg3p_p 2tdec7eg3p_c 2tdec7eg3p\n",
      "####new ID: 2tdec7eg3p_c\n",
      "2tdecg3p_p 2tdecg3p_c 2tdecg3p\n",
      "####new ID: 2tdecg3p_c\n",
      "3amp_p 3amp_c 3amp\n",
      "####new ID: 3amp_c\n",
      "3cmp_p 3cmp_c 3cmp\n",
      "####new ID: 3cmp_c\n",
      "3gmp_p 3gmp_c 3gmp\n",
      "####new ID: 3gmp_c\n",
      "3hcinnm_p 3hcinnm_c 3hcinnm\n",
      "####new ID: 3hcinnm_c\n",
      "3hpppn_p 3hpppn_c 3hpppn\n",
      "####new ID: 3hpppn_c\n",
      "3ump_p 3ump_c 3ump\n",
      "####new ID: 3ump_c\n",
      "4abut_p 4abut_c 4abut\n",
      "####new ID: 4abut_c\n",
      "5mtr_p 5mtr_c 5mtr\n",
      "####new ID: 5mtr_c\n",
      "ac_p ac_c ac\n",
      "####new ID: ac_c\n",
      "acac_p acac_c acac\n",
      "####new ID: acac_c\n",
      "acald_p acald_c acald\n",
      "####new ID: acald_c\n",
      "acgam_p acgam_c acgam\n",
      "####new ID: acgam_c\n",
      "acgam_p acgam_e acgam\n",
      "####new ID: acgam_e\n",
      "acgam1p_p acgam1p_c acgam1p\n",
      "####new ID: acgam1p_c\n",
      "acmana_p acmana_c acmana\n",
      "####new ID: acmana_c\n",
      "acnam_p acnam_c acnam\n",
      "####new ID: acnam_c\n",
      "acser_p acser_c acser\n",
      "####new ID: acser_c\n",
      "ade_p ade_c ade\n",
      "####new ID: ade_c\n",
      "adn_p adn_e adn\n",
      "####new ID: adn_e\n",
      "adn_p adn_c adn\n",
      "####new ID: adn_c\n",
      "adocbl_p adocbl_c adocbl\n",
      "####new ID: adocbl_c\n",
      "agm_p agm_c agm\n",
      "####new ID: agm_c\n",
      "akg_p akg_c akg\n",
      "####new ID: akg_c\n",
      "ala_B_p ala_B_c ala_B\n",
      "####new ID: ala_B_c\n",
      "ala__D_p ala__D_c ala__D\n",
      "####new ID: ala__D_c\n",
      "ala__D_p ala__D_e ala__D\n",
      "####new ID: ala__D_e\n",
      "ala__L_p ala__L_c ala__L\n",
      "####new ID: ala__L_c\n",
      "ala__L_p ala__L_e ala__L\n",
      "####new ID: ala__L_e\n",
      "all__D_p all__D_c all__D\n",
      "####new ID: all__D_c\n",
      "alltn_p alltn_c alltn\n",
      "####new ID: alltn_c\n",
      "alltn_p alltn_e alltn\n",
      "####new ID: alltn_e\n",
      "amp_p amp_c amp\n",
      "####new ID: amp_c\n",
      "arbt_p arbt_e arbt\n",
      "####new ID: arbt_e\n",
      "arg__L_p arg__L_c arg__L\n",
      "####new ID: arg__L_c\n",
      "arg__L_p arg__L_e arg__L\n",
      "####new ID: arg__L_e\n",
      "asn__L_p asn__L_c asn__L\n",
      "####new ID: asn__L_c\n",
      "btn_p btn_c btn\n",
      "####new ID: btn_c\n",
      "ca2_p ca2_c ca2\n",
      "####new ID: ca2_c\n",
      "ca2_p ca2_e ca2\n",
      "####new ID: ca2_e\n"
     ]
    },
    {
     "name": "stdout",
     "output_type": "stream",
     "text": [
      "cgly_p cgly_e cgly\n",
      "####new ID: cgly_e\n",
      "cgly_p cgly_c cgly\n",
      "####new ID: cgly_c\n",
      "chol_p chol_c chol\n",
      "####new ID: chol_c\n",
      "chol_p chol_e chol\n",
      "####new ID: chol_e\n",
      "chtbs_p chtbs_c chtbs\n",
      "####new ID: chtbs_c\n",
      "cit_p cit_c cit\n",
      "####new ID: cit_c\n",
      "cit_p cit_e cit\n",
      "####new ID: cit_e\n",
      "cl_p cl_c cl\n",
      "####new ID: cl_c\n",
      "cl_p cl_e cl\n",
      "####new ID: cl_e\n",
      "cmp_p cmp_c cmp\n",
      "####new ID: cmp_c\n",
      "co2_p co2_c co2\n",
      "####new ID: co2_c\n",
      "co2_p co2_e co2\n",
      "####new ID: co2_e\n",
      "cobalt2_p cobalt2_c cobalt2\n",
      "####new ID: cobalt2_c\n",
      "cobalt2_p cobalt2_e cobalt2\n",
      "####new ID: cobalt2_e\n",
      "colipa_p colipa_c colipa\n",
      "####new ID: colipa_c\n",
      "crn_p crn_c crn\n",
      "####new ID: crn_c\n",
      "csn_p csn_c csn\n",
      "####new ID: csn_c\n",
      "cu2_p cu2_e cu2\n",
      "####new ID: cu2_e\n",
      "cu2_p cu2_c cu2\n",
      "####new ID: cu2_c\n",
      "cyan_p cyan_c cyan\n",
      "####new ID: cyan_c\n",
      "cynt_p cynt_c cynt\n",
      "####new ID: cynt_c\n",
      "cynt_p cynt_e cynt\n",
      "####new ID: cynt_e\n",
      "cys__L_p cys__L_c cys__L\n",
      "####new ID: cys__L_c\n",
      "cytd_p cytd_c cytd\n",
      "####new ID: cytd_c\n",
      "cytd_p cytd_e cytd\n",
      "####new ID: cytd_e\n",
      "dad_2_p dad_2_e dad_2\n",
      "####new ID: dad_2_e\n",
      "dad_2_p dad_2_c dad_2\n",
      "####new ID: dad_2_c\n",
      "damp_p damp_c damp\n",
      "####new ID: damp_c\n",
      "dcmp_p dcmp_c dcmp\n",
      "####new ID: dcmp_c\n",
      "dcyt_p dcyt_c dcyt\n",
      "####new ID: dcyt_c\n",
      "dcyt_p dcyt_e dcyt\n",
      "####new ID: dcyt_e\n",
      "dgmp_p dgmp_c dgmp\n",
      "####new ID: dgmp_c\n",
      "dgsn_p dgsn_c dgsn\n",
      "####new ID: dgsn_c\n",
      "dgsn_p dgsn_e dgsn\n",
      "####new ID: dgsn_e\n",
      "dha_p dha_c dha\n",
      "####new ID: dha_c\n",
      "din_p din_e din\n",
      "####new ID: din_e\n",
      "din_p din_c din\n",
      "####new ID: din_c\n",
      "dopa_p dopa_c dopa\n",
      "####new ID: dopa_c\n",
      "dtmp_p dtmp_c dtmp\n",
      "####new ID: dtmp_c\n",
      "dump_p dump_c dump\n",
      "####new ID: dump_c\n",
      "duri_p duri_e duri\n",
      "####new ID: duri_e\n",
      "duri_p duri_c duri\n",
      "####new ID: duri_c\n",
      "etha_p etha_c etha\n",
      "####new ID: etha_c\n",
      "etha_p etha_e etha\n",
      "####new ID: etha_e\n",
      "etoh_p etoh_c etoh\n",
      "####new ID: etoh_c\n",
      "fald_p fald_c fald\n",
      "####new ID: fald_c\n",
      "fe2_p fe2_c fe2\n",
      "####new ID: fe2_c\n",
      "fe2_p fe2_e fe2\n",
      "####new ID: fe2_e\n",
      "fe3_p fe3_c fe3\n",
      "####new ID: fe3_c\n",
      "fe3_p fe3_e fe3\n",
      "####new ID: fe3_e\n",
      "fe3dcit_p fe3dcit_e fe3dcit\n",
      "####new ID: fe3dcit_e\n",
      "fe3dcit_p fe3dcit_c fe3dcit\n",
      "####new ID: fe3dcit_c\n",
      "for_p for_c for\n",
      "####new ID: for_c\n",
      "for_p for_e for\n",
      "####new ID: for_e\n",
      "fru_p fru_e fru\n",
      "####new ID: fru_e\n",
      "fru_p fru_c fru\n",
      "####new ID: fru_c\n",
      "fruur_p fruur_c fruur\n",
      "####new ID: fruur_c\n",
      "fum_p fum_e fum\n",
      "####new ID: fum_e\n",
      "fum_p fum_c fum\n",
      "####new ID: fum_c\n",
      "g1p_p g1p_c g1p\n",
      "####new ID: g1p_c\n",
      "g3pc_p g3pc_c g3pc\n",
      "####new ID: g3pc_c\n",
      "g3pe_p g3pe_c g3pe\n",
      "####new ID: g3pe_c\n",
      "g3pg_p g3pg_c g3pg\n",
      "####new ID: g3pg_c\n",
      "g6p_p g6p_c g6p\n",
      "####new ID: g6p_c\n",
      "gal_p gal_c gal\n",
      "####new ID: gal_c\n",
      "gal_bD_p gal_bD_c gal_bD\n",
      "####new ID: gal_bD_c\n",
      "gal1p_p gal1p_c gal1p\n",
      "####new ID: gal1p_c\n",
      "galctn__D_p galctn__D_c galctn__D\n",
      "####new ID: galctn__D_c\n",
      "galt_p galt_e galt\n",
      "####new ID: galt_e\n",
      "galur_p galur_c galur\n",
      "####new ID: galur_c\n",
      "gam_p gam_e gam\n",
      "####new ID: gam_e\n",
      "gam6p_p gam6p_c gam6p\n",
      "####new ID: gam6p_c\n",
      "gdp_p gdp_c gdp\n",
      "####new ID: gdp_c\n",
      "glcur_p glcur_c glcur\n",
      "####new ID: glcur_c\n",
      "gln__L_p gln__L_c gln__L\n",
      "####new ID: gln__L_c\n",
      "glu__L_p glu__L_c glu__L\n",
      "####new ID: glu__L_c\n",
      "glu__L_p glu__L_e glu__L\n",
      "####new ID: glu__L_e\n",
      "gly_p gly_c gly\n",
      "####new ID: gly_c\n",
      "glyald_p glyald_c glyald\n",
      "####new ID: glyald_c\n",
      "glyb_p glyb_c glyb\n",
      "####new ID: glyb_c\n",
      "glyb_p glyb_e glyb\n",
      "####new ID: glyb_e\n",
      "glyc_p glyc_c glyc\n",
      "####new ID: glyc_c\n",
      "glyc_p glyc_e glyc\n",
      "####new ID: glyc_e\n",
      "glyc__R_p glyc__R_c glyc__R\n",
      "####new ID: glyc__R_c\n",
      "glyc3p_p glyc3p_c glyc3p\n",
      "####new ID: glyc3p_c\n",
      "glyc3p_p glyc3p_e glyc3p\n",
      "####new ID: glyc3p_e\n",
      "glyclt_p glyclt_c glyclt\n",
      "####new ID: glyclt_c\n",
      "gmp_p gmp_c gmp\n",
      "####new ID: gmp_c\n",
      "gsn_p gsn_c gsn\n",
      "####new ID: gsn_c\n",
      "gthox_p gthox_c gthox\n",
      "####new ID: gthox_c\n",
      "gthrd_p gthrd_c gthrd\n",
      "####new ID: gthrd_c\n",
      "gtp_p gtp_c gtp\n",
      "####new ID: gtp_c\n",
      "gua_p gua_c gua\n",
      "####new ID: gua_c\n",
      "h_p h_c h\n",
      "####new ID: h_c\n",
      "h_p h_e h\n",
      "####new ID: h_e\n",
      "h2_p h2_c h2\n",
      "####new ID: h2_c\n",
      "h2o2_p h2o2_c h2o2\n",
      "####new ID: h2o2_c\n",
      "h2s_p h2s_c h2s\n",
      "####new ID: h2s_c\n",
      "hdca_p hdca_c hdca\n",
      "####new ID: hdca_c\n",
      "hdca_p hdca_e hdca\n",
      "####new ID: hdca_e\n",
      "hg2_p hg2_c hg2\n",
      "####new ID: hg2_c\n",
      "hg2_p hg2_e hg2\n",
      "####new ID: hg2_e\n",
      "his__L_p his__L_c his__L\n",
      "####new ID: his__L_c\n",
      "his__L_p his__L_e his__L\n",
      "####new ID: his__L_e\n",
      "hom__L_p hom__L_c hom__L\n",
      "####new ID: hom__L_c\n",
      "hxan_p hxan_c hxan\n",
      "####new ID: hxan_c\n",
      "hxan_p hxan_e hxan\n",
      "####new ID: hxan_e\n",
      "ile__L_p ile__L_c ile__L\n",
      "####new ID: ile__L_c\n",
      "ile__L_p ile__L_e ile__L\n",
      "####new ID: ile__L_e\n",
      "imp_p imp_c imp\n",
      "####new ID: imp_c\n",
      "indole_p indole_c indole\n",
      "####new ID: indole_c\n",
      "inost_p inost_c inost\n",
      "####new ID: inost_c\n",
      "inost_p inost_e inost\n",
      "####new ID: inost_e\n",
      "ins_p ins_c ins\n",
      "####new ID: ins_c\n",
      "ins_p ins_e ins\n",
      "####new ID: ins_e\n",
      "k_p k_c k\n",
      "####new ID: k_c\n",
      "k_p k_e k\n",
      "####new ID: k_e\n",
      "kdo2lipid4_p kdo2lipid4_c kdo2lipid4\n",
      "####new ID: kdo2lipid4_c\n",
      "lac__D_p lac__D_c lac__D\n",
      "####new ID: lac__D_c\n",
      "lac__L_p lac__L_c lac__L\n",
      "####new ID: lac__L_c\n",
      "lac__L_p lac__L_e lac__L\n",
      "####new ID: lac__L_e\n",
      "lcts_p lcts_c lcts\n",
      "####new ID: lcts_c\n",
      "leu__L_p leu__L_e leu__L\n",
      "####new ID: leu__L_e\n",
      "leu__L_p leu__L_c leu__L\n",
      "####new ID: leu__L_c\n",
      "lipa_p lipa_c lipa\n",
      "####new ID: lipa_c\n",
      "lys__L_p lys__L_c lys__L\n",
      "####new ID: lys__L_c\n",
      "lys__L_p lys__L_e lys__L\n",
      "####new ID: lys__L_e\n",
      "mal__L_p mal__L_c mal__L\n",
      "####new ID: mal__L_c\n",
      "malt_p malt_c malt\n",
      "####new ID: malt_c\n",
      "malt_p malt_e malt\n",
      "####new ID: malt_e\n",
      "malthx_p malthx_c malthx\n",
      "####new ID: malthx_c\n",
      "malthx_p malthx_e malthx\n",
      "####new ID: malthx_e\n",
      "maltpt_p maltpt_c maltpt\n",
      "####new ID: maltpt_c\n",
      "malttr_p malttr_e malttr\n",
      "####new ID: malttr_e\n",
      "malttr_p malttr_c malttr\n",
      "####new ID: malttr_c\n",
      "maltttr_p maltttr_c maltttr\n",
      "####new ID: maltttr_c\n",
      "man_p man_e man\n",
      "####new ID: man_e\n",
      "man6p_p man6p_c man6p\n",
      "####new ID: man6p_c\n",
      "meoh_p meoh_c meoh\n",
      "####new ID: meoh_c\n",
      "met__D_p met__D_e met__D\n",
      "####new ID: met__D_e\n",
      "met__D_p met__D_c met__D\n",
      "####new ID: met__D_c\n",
      "met__L_p met__L_c met__L\n",
      "####new ID: met__L_c\n",
      "met__L_p met__L_e met__L\n",
      "####new ID: met__L_e\n",
      "mg2_p mg2_e mg2\n",
      "####new ID: mg2_e\n",
      "mg2_p mg2_c mg2\n",
      "####new ID: mg2_c\n",
      "mmet_p mmet_c mmet\n",
      "####new ID: mmet_c\n",
      "mn2_p mn2_c mn2\n",
      "####new ID: mn2_c\n",
      "mn2_p mn2_e mn2\n",
      "####new ID: mn2_e\n",
      "mnl_p mnl_e mnl\n",
      "####new ID: mnl_e\n",
      "mnl_p mnl_c mnl\n",
      "####new ID: mnl_c\n",
      "na1_p na1_e na1\n",
      "####new ID: na1_e\n",
      "na1_p na1_c na1\n",
      "####new ID: na1_c\n",
      "nac_p nac_c nac\n",
      "####new ID: nac_c\n",
      "nmn_p nmn_c nmn\n",
      "####new ID: nmn_c\n",
      "no2_p no2_e no2\n",
      "####new ID: no2_e\n",
      "no2_p no2_c no2\n",
      "####new ID: no2_c\n",
      "no3_p no3_c no3\n",
      "####new ID: no3_c\n",
      "no3_p no3_e no3\n",
      "####new ID: no3_e\n",
      "o2_p o2_c o2\n",
      "####new ID: o2_c\n",
      "o2_p o2_e o2\n",
      "####new ID: o2_e\n",
      "ocdca_p ocdca_c ocdca\n",
      "####new ID: ocdca_c\n",
      "ocdca_p ocdca_e ocdca\n",
      "####new ID: ocdca_e\n",
      "octa_p octa_c octa\n",
      "####new ID: octa_c\n",
      "orot_p orot_c orot\n",
      "####new ID: orot_c\n",
      "pa120_p pa120_c pa120\n",
      "####new ID: pa120_c\n",
      "pa140_p pa140_c pa140\n",
      "####new ID: pa140_c\n",
      "pa141_p pa141_c pa141\n",
      "####new ID: pa141_c\n",
      "pa160_p pa160_c pa160\n",
      "####new ID: pa160_c\n",
      "pa161_p pa161_c pa161\n",
      "####new ID: pa161_c\n",
      "pa180_p pa180_c pa180\n",
      "####new ID: pa180_c\n",
      "pa181_p pa181_c pa181\n",
      "####new ID: pa181_c\n",
      "pacald_p pacald_c pacald\n",
      "####new ID: pacald_c\n",
      "pe160_p pe160_c pe160\n",
      "####new ID: pe160_c\n",
      "pe180_p pe180_c pe180\n",
      "####new ID: pe180_c\n",
      "peamn_p peamn_c peamn\n",
      "####new ID: peamn_c\n",
      "pg160_p pg160_c pg160\n",
      "####new ID: pg160_c\n",
      "pg161_p pg161_c pg161\n",
      "####new ID: pg161_c\n",
      "pg180_p pg180_c pg180\n",
      "####new ID: pg180_c\n",
      "pgp160_p pgp160_c pgp160\n",
      "####new ID: pgp160_c\n",
      "pgp161_p pgp161_c pgp161\n",
      "####new ID: pgp161_c\n",
      "pgp180_p pgp180_c pgp180\n",
      "####new ID: pgp180_c\n",
      "phe__L_p phe__L_c phe__L\n",
      "####new ID: phe__L_c\n",
      "pi_p pi_c pi\n",
      "####new ID: pi_c\n",
      "pi_p pi_e pi\n",
      "####new ID: pi_e\n",
      "pnto__R_p pnto__R_e pnto__R\n",
      "####new ID: pnto__R_e\n",
      "pnto__R_p pnto__R_c pnto__R\n",
      "####new ID: pnto__R_c\n",
      "ppal_p ppal_c ppal\n",
      "####new ID: ppal_c\n",
      "pppn_p pppn_c pppn\n",
      "####new ID: pppn_c\n",
      "pppn_p pppn_e pppn\n",
      "####new ID: pppn_e\n",
      "pro__L_p pro__L_e pro__L\n",
      "####new ID: pro__L_e\n",
      "pro__L_p pro__L_c pro__L\n",
      "####new ID: pro__L_c\n",
      "pser__L_p pser__L_c pser__L\n",
      "####new ID: pser__L_c\n",
      "ptrc_p ptrc_c ptrc\n",
      "####new ID: ptrc_c\n",
      "ptrc_p ptrc_e ptrc\n",
      "####new ID: ptrc_e\n",
      "pydam_p pydam_c pydam\n",
      "####new ID: pydam_c\n",
      "pydx_p pydx_c pydx\n",
      "####new ID: pydx_c\n",
      "pydxn_p pydxn_c pydxn\n",
      "####new ID: pydxn_c\n",
      "pyr_p pyr_c pyr\n",
      "####new ID: pyr_c\n",
      "rib__D_p rib__D_c rib__D\n",
      "####new ID: rib__D_c\n",
      "rib__D_p rib__D_e rib__D\n",
      "####new ID: rib__D_e\n",
      "rmn_p rmn_c rmn\n",
      "####new ID: rmn_c\n",
      "sbt__D_p sbt__D_e sbt__D\n",
      "####new ID: sbt__D_e\n",
      "ser__D_p ser__D_c ser__D\n",
      "####new ID: ser__D_c\n",
      "ser__L_p ser__L_c ser__L\n",
      "####new ID: ser__L_c\n",
      "ser__L_p ser__L_e ser__L\n",
      "####new ID: ser__L_e\n",
      "skm_p skm_c skm\n",
      "####new ID: skm_c\n",
      "so3_p so3_c so3\n",
      "####new ID: so3_c\n",
      "so4_p so4_c so4\n",
      "####new ID: so4_c\n",
      "so4_p so4_e so4\n",
      "####new ID: so4_e\n",
      "spmd_p spmd_c spmd\n",
      "####new ID: spmd_c\n",
      "spmd_p spmd_e spmd\n",
      "####new ID: spmd_e\n",
      "succ_p succ_e succ\n",
      "####new ID: succ_e\n",
      "succ_p succ_c succ\n",
      "####new ID: succ_c\n",
      "sucr_p sucr_c sucr\n",
      "####new ID: sucr_c\n",
      "sucr_p sucr_e sucr\n",
      "####new ID: sucr_e\n"
     ]
    },
    {
     "name": "stdout",
     "output_type": "stream",
     "text": [
      "taur_p taur_c taur\n",
      "####new ID: taur_c\n",
      "taur_p taur_e taur\n",
      "####new ID: taur_e\n",
      "tcynt_p tcynt_c tcynt\n",
      "####new ID: tcynt_c\n",
      "thm_p thm_c thm\n",
      "####new ID: thm_c\n",
      "thm_p thm_e thm\n",
      "####new ID: thm_e\n",
      "thr__L_p thr__L_c thr__L\n",
      "####new ID: thr__L_c\n",
      "thym_p thym_c thym\n",
      "####new ID: thym_c\n",
      "thymd_p thymd_e thymd\n",
      "####new ID: thymd_e\n",
      "thymd_p thymd_c thymd\n",
      "####new ID: thymd_c\n",
      "tma_p tma_c tma\n",
      "####new ID: tma_c\n",
      "tmao_p tmao_c tmao\n",
      "####new ID: tmao_c\n",
      "tre_p tre_e tre\n",
      "####new ID: tre_e\n",
      "trp__L_p trp__L_c trp__L\n",
      "####new ID: trp__L_c\n",
      "trp__L_p trp__L_e trp__L\n",
      "####new ID: trp__L_e\n",
      "tsul_p tsul_c tsul\n",
      "####new ID: tsul_c\n",
      "tym_p tym_c tym\n",
      "####new ID: tym_c\n",
      "tyr__L_p tyr__L_c tyr__L\n",
      "####new ID: tyr__L_c\n",
      "tyr__L_p tyr__L_e tyr__L\n",
      "####new ID: tyr__L_e\n",
      "uacgam_p uacgam_c uacgam\n",
      "####new ID: uacgam_c\n",
      "udcpp_p udcpp_c udcpp\n",
      "####new ID: udcpp_c\n",
      "udpacgal_p udpacgal_c udpacgal\n",
      "####new ID: udpacgal_c\n",
      "udpg_p udpg_c udpg\n",
      "####new ID: udpg_c\n",
      "udpgal_p udpgal_c udpgal\n",
      "####new ID: udpgal_c\n",
      "udpglcur_p udpglcur_c udpglcur\n",
      "####new ID: udpglcur_c\n",
      "ump_p ump_c ump\n",
      "####new ID: ump_c\n",
      "ura_p ura_c ura\n",
      "####new ID: ura_c\n",
      "ura_p ura_e ura\n",
      "####new ID: ura_e\n",
      "urea_p urea_c urea\n",
      "####new ID: urea_c\n",
      "uri_p uri_c uri\n",
      "####new ID: uri_c\n",
      "uri_p uri_e uri\n",
      "####new ID: uri_e\n",
      "val__L_p val__L_c val__L\n",
      "####new ID: val__L_c\n",
      "val__L_p val__L_e val__L\n",
      "####new ID: val__L_e\n",
      "xan_p xan_c xan\n",
      "####new ID: xan_c\n",
      "xan_p xan_e xan\n",
      "####new ID: xan_e\n",
      "xmp_p xmp_c xmp\n",
      "####new ID: xmp_c\n",
      "xtsn_p xtsn_c xtsn\n",
      "####new ID: xtsn_c\n",
      "xyl__D_p xyl__D_c xyl__D\n",
      "####new ID: xyl__D_c\n"
     ]
    },
    {
     "data": {
      "text/plain": [
       "0"
      ]
     },
     "execution_count": 5,
     "metadata": {},
     "output_type": "execute_result"
    }
   ],
   "source": [
    "count=0\n",
    "for e_met in ecoli_model.metabolites:\n",
    "    for met in model.metabolites:\n",
    "        bigg, compartment=e_met.id.rsplit(\"_\", 1)\n",
    "        if bigg in met.annotation.values(): \n",
    "            #give the bigg id from the annotation field of the model if it has the same\n",
    "            #among the ecoli ids (even if it has a different compartment), give the compartment suffix from the model met without the 0\n",
    "            print(e_met.id, met.id, met.annotation[\"bigg.metabolite\"])\n",
    "            met.id=bigg+ \"_\"+ met.compartment[0]\n",
    "            print(\"####new ID:\",met.id)\n",
    "            model.repair()\n",
    "            \n",
    "        elif bigg in met.annotation.values() and type(met.annotation[\"bigg.metabolite\"])==list:\n",
    "            print(\"lista\")\n",
    "            count+=1\n",
    "count"
   ]
  },
  {
   "cell_type": "code",
   "execution_count": 6,
   "metadata": {},
   "outputs": [
    {
     "name": "stdout",
     "output_type": "stream",
     "text": [
      "3HCINNMH RXN-10040_c0 3HCINNMH\n",
      "####new ID: 3HCINNMH\n",
      "3HPPPNH MHPHYDROXY-RXN_c0 3HPPPNH\n",
      "####new ID: 3HPPPNH\n",
      "3OXCOAT RXN-3641_c0 3OXCOAT\n",
      "####new ID: 3OXCOAT\n",
      "4HTHRS RXN-14125_c0 4HTHRS\n",
      "####new ID: 4HTHRS\n",
      "A5PISO DARAB5PISOM-RXN_c0 A5PISO\n",
      "####new ID: A5PISO\n",
      "AB6PGH MNXR95165_c0 AB6PGH\n",
      "####new ID: AB6PGH\n",
      "ACACCT ACETOACETYL-COA-TRANSFER-RXN_c0 ACACCT\n",
      "####new ID: ACACCT\n",
      "ACBIPGT COBINPGUANYLYLTRANS-RXN_c0 ACBIPGT\n",
      "####new ID: ACBIPGT\n",
      "ACGAMT MNXR95251_c0 ACGAMT\n",
      "####new ID: ACGAMT\n",
      "ACONTa ACONITATEDEHYDR-RXN_c0 ACONTa\n",
      "####new ID: ACONTa\n",
      "ACONTb MNXR95387_c0 ACONTb\n",
      "####new ID: ACONTb\n",
      "ADCL ADCLY-RXN_c0 ADCL\n",
      "####new ID: ADCL\n",
      "ADCS PABASYN-RXN_c0 ADCS\n",
      "####new ID: ADCS\n",
      "ADOCBIK COBINAMIDEKIN-RXN_c0 ADOCBIK\n",
      "####new ID: ADOCBIK\n",
      "ADOCBLS COBALAMINSYN-RXN_c0 ADOCBLS\n",
      "####new ID: ADOCBLS\n",
      "ADSL1r AMPSYN-RXN_c0 ADSL1r\n",
      "####new ID: ADSL1r\n",
      "ADSL2r AICARSYN-RXN_c0 ADSL2r\n",
      "####new ID: ADSL2r\n",
      "AGDC NAG6PDEACET-RXN_c0 AGDC\n",
      "####new ID: AGDC\n",
      "AGMHE 5.1.3.20-RXN_c0 AGMHE\n",
      "####new ID: AGMHE\n",
      "AHCYSNS ADENOSYLHOMOCYSTEINE-NUCLEOSIDASE-RXN_c0 AHCYSNS\n",
      "####new ID: AHCYSNS\n",
      "AICART MNXR95639_c0 AICART\n",
      "####new ID: AICART\n",
      "ALAALAr DALADALALIG-RXN_c0 ALAALAr\n",
      "####new ID: ALAALAr\n",
      "ALAR ALARACECAT-RXN_c0 ALAR\n",
      "####new ID: ALAR\n",
      "ALCD19 MNXR95709_c0 ALCD19\n",
      "####new ID: ALCD19\n",
      "ALLK MNXR95765_c0 ALLK\n",
      "####new ID: ALLK\n",
      "AMALT1 AMYLOMALT-RXN_c0 AMALT1\n",
      "####new ID: AMALT1\n",
      "AMALT2 RXN-14260_c0 AMALT2\n",
      "####new ID: AMALT2\n",
      "AMALT3 RXN-14261_c0 AMALT3\n",
      "####new ID: AMALT3\n",
      "AMALT4 MALTODEG-RXN_c0 AMALT4\n",
      "####new ID: AMALT4\n",
      "AMAOTr DAPASYN-RXN_c0 AMAOTr\n",
      "####new ID: AMAOTr\n",
      "ARGSL ARGSUCCINLYA-RXN_c0 ARGSL\n",
      "####new ID: ARGSL\n",
      "ASNS1 ASNSYNB-RXN_c0 ASNS1\n",
      "####new ID: ASNS1\n",
      "ASP1DC ASPDECARBOX-RXN_c0 ASP1DC\n",
      "####new ID: ASP1DC\n",
      "ASPT ASPARTASE-RXN_c0 ASPT\n",
      "####new ID: ASPT\n",
      "AST ARGININE-N-SUCCINYLTRANSFERASE-RXN_c0 AST\n",
      "####new ID: AST\n",
      "ATPPRT ATPPHOSPHORIBOSYLTRANS-RXN_c0 ATPPRT\n",
      "####new ID: ATPPRT\n",
      "BETALDHy MNXR96238_c0 BETALDHy\n",
      "####new ID: BETALDHy\n",
      "BPNT 325-BISPHOSPHATE-NUCLEOTIDASE-RXN_c0 BPNT\n",
      "####new ID: BPNT\n",
      "BSORx MNXR96325_c0 BSORx\n",
      "####new ID: BSORx\n",
      "BSORy MNXR96326_c0 BSORy\n",
      "####new ID: BSORy\n",
      "CBMD RXN0-5222_c0 CBMD\n",
      "####new ID: CBMD\n",
      "CBMKr CARBAMATE-KINASE-RXN_c0 CBMKr\n",
      "####new ID: CBMKr\n",
      "CHOLD RXN-6021_c0 CHOLD\n",
      "####new ID: CHOLD\n",
      "CHRPL CHORPYRLY-RXN_c0 CHRPL\n",
      "####new ID: CHRPL\n",
      "CINNDO MNXR96722_c0 CINNDO\n",
      "####new ID: CINNDO\n",
      "CPPPGO RXN0-1461_c0 CPPPGO\n",
      "####new ID: CPPPGO\n",
      "CPPPGO2 HEMN-RXN_c0 CPPPGO2\n",
      "####new ID: CPPPGO2\n",
      "CSND CYTDEAM-RXN_c0 CSND\n",
      "####new ID: CSND\n",
      "CTPS2 CTPSYN-RXN_c0 CTPS2\n",
      "####new ID: CTPS2\n",
      "CYTDK2 CYTIDINEKIN-RXN_c0 CYTDK2\n",
      "####new ID: CYTDK2\n",
      "DAAD MNXR97073_c0 DAAD\n",
      "####new ID: DAAD\n",
      "DAPDC DIAMINOPIMDECARB-RXN_c0 DAPDC\n",
      "####new ID: DAPDC\n",
      "DAPE DIAMINOPIMEPIM-RXN_c0 DAPE\n",
      "####new ID: DAPE\n",
      "DASYN120 MNXR97154_c0 DASYN120\n",
      "####new ID: DASYN120\n",
      "DASYN140 MNXR97155_c0 DASYN140\n",
      "####new ID: DASYN140\n",
      "DASYN141 MNXR97156_c0 DASYN141\n",
      "####new ID: DASYN141\n",
      "DASYN160 MNXR97157_c0 DASYN160\n",
      "####new ID: DASYN160\n",
      "DASYN161 MNXR97159_c0 DASYN161\n",
      "####new ID: DASYN161\n",
      "DASYN180 MNXR97160_c0 DASYN180\n",
      "####new ID: DASYN180\n",
      "DASYN181 MNXR97161_c0 DASYN181\n",
      "####new ID: DASYN181\n",
      "DB4PS MNXR97178_c0 DB4PS\n",
      "####new ID: DB4PS\n",
      "DBTS DETHIOBIOTIN-SYN-RXN_c0 DBTS\n",
      "####new ID: DBTS\n",
      "DDGLK DEOXYGLUCONOKIN-RXN_c0 DDGLK\n",
      "####new ID: DDGLK\n",
      "DDPGALA DEHYDDEOXPHOSGALACT-ALDOL-RXN_c0 DDPGALA\n",
      "####new ID: DDPGALA\n",
      "DGK1 GMKALT-RXN_c0 DGK1\n",
      "####new ID: DGK1\n",
      "DHCIND MNXR97378_c0 DHCIND\n",
      "####new ID: DHCIND\n",
      "DHNPA2r H2NEOPTERINALDOL-RXN_c0 DHNPA2r\n",
      "####new ID: DHNPA2r\n",
      "DHORD2 MNXR97418_c0 DHORD2\n",
      "####new ID: DHORD2\n",
      "DHORD5 MNXR97421_c0 DHORD5\n",
      "####new ID: DHORD5\n",
      "DHPPDA2 RIBOFLAVINSYNDEAM-RXN_c0 DHPPDA2\n",
      "####new ID: DHPPDA2\n",
      "DMPPS MNXR97524_c0 DMPPS\n",
      "####new ID: DMPPS\n",
      "DRPA DEOXYRIBOSE-P-ALD-RXN_c0 DRPA\n",
      "####new ID: DRPA\n",
      "DURIPP URA-PHOSPH-RXN_c0 DURIPP\n",
      "####new ID: DURIPP\n",
      "E4PD ERYTH4PDEHYDROG-RXN_c0 E4PD\n",
      "####new ID: E4PD\n",
      "EDA KDPGALDOL-RXN_c0 EDA\n",
      "####new ID: EDA\n",
      "EDD PGLUCONDEHYDRAT-RXN_c0 EDD\n",
      "####new ID: EDD\n",
      "ETHAAL ETHAMLY-RXN_c0 ETHAAL\n",
      "####new ID: ETHAAL\n",
      "FALDH2 RXN0-276_c0 FALDH2\n",
      "####new ID: FALDH2\n",
      "FBA MNXR99459_c0 FBA\n",
      "####new ID: FBA\n",
      "FCLK FUCULOKIN-RXN_c0 FCLK\n",
      "####new ID: FCLK\n",
      "FCLPA FUCPALDOL-RXN_c0 FCLPA\n",
      "####new ID: FCLPA\n",
      "FFSD MNXR99590_c0 FFSD\n",
      "####new ID: FFSD\n",
      "FLVRx MNXR99602_c0 FLVRx\n",
      "####new ID: FLVRx\n",
      "FRD2 MNXR99637_c0 FRD2\n",
      "####new ID: FRD2\n",
      "FRUK MNXR99652_c0 FRUK\n",
      "####new ID: FRUK\n",
      "FTHFD MNXR99669_c0 FTHFD\n",
      "####new ID: FTHFD\n",
      "G1PACT MNXR99841_c0 G1PACT\n",
      "####new ID: G1PACT\n",
      "G1PTT DTDPGLUCOSEPP-RXN_c0 G1PTT\n",
      "####new ID: G1PTT\n",
      "G3PD5 MNXR99880_c0 G3PD5\n",
      "####new ID: G3PD5\n",
      "G3PD6 MNXR99881_c0 G3PD6\n",
      "####new ID: G3PD6\n",
      "GALT1 MNXR100015_c0 GALT1\n",
      "####new ID: GALT1\n",
      "GALUi GLUC1PURIDYLTRANS-RXN_c0 GALUi\n",
      "####new ID: GALUi\n",
      "GART GARTRANSFORMYL2-RXN_c0 GART\n",
      "####new ID: GART\n",
      "GGGABADr MNXR100113_c0 GGGABADr\n",
      "####new ID: GGGABADr\n",
      "GGGABAH RXN0-3942_c0 GGGABAH\n",
      "####new ID: GGGABAH\n",
      "GLCTR2 MNXR100227_c0 GLCTR2\n",
      "####new ID: GLCTR2\n",
      "GLCTR3 MNXR100228_c0 GLCTR3\n",
      "####new ID: GLCTR3\n",
      "GLUR GLUTRACE-RXN_c0 GLUR\n",
      "####new ID: GLUR\n",
      "GLYCK2 GKI-RXN_c0 GLYCK2\n",
      "####new ID: GLYCK2\n",
      "GMHEPAT RXN0-4342_c0 GMHEPAT\n",
      "####new ID: GMHEPAT\n",
      "GMPR GMP-REDUCT-RXN_c0 GMPR\n",
      "####new ID: GMPR\n",
      "GTPCII2 GTP-CYCLOHYDRO-II-RXN_c0 GTPCII2\n",
      "####new ID: GTPCII2\n",
      "GUI1 MNXR100468_c0 GUI1\n",
      "####new ID: GUI1\n",
      "GUI2 MNXR100469_c0 GUI2\n",
      "####new ID: GUI2\n",
      "HADPCOADH3 RXN0-2044_c0 HADPCOADH3\n",
      "####new ID: HADPCOADH3\n",
      "HBZOPT 4OHBENZOATE-OCTAPRENYLTRANSFER-RXN_c0 HBZOPT\n",
      "####new ID: HBZOPT\n",
      "HCYSMT HOMOCYSTEINE-S-METHYLTRANSFERASE-RXN_c0 HCYSMT\n",
      "####new ID: HCYSMT\n",
      "HCYSMT2 MMUM-RXN_c0 HCYSMT2\n",
      "####new ID: HCYSMT2\n",
      "HEPK1 MNXR100598_c0 HEPK1\n",
      "####new ID: HEPK1\n",
      "HEPK2 MNXR100599_c0 HEPK2\n",
      "####new ID: HEPK2\n",
      "HEPT1 MNXR100602_c0 HEPT1\n",
      "####new ID: HEPT1\n",
      "HEPT2 RXN0-5061_c0 HEPT2\n",
      "####new ID: HEPT2\n",
      "HEPT3 MNXR100606_c0 HEPT3\n",
      "####new ID: HEPT3\n",
      "HEPT4 MNXR100607_c0 HEPT4\n",
      "####new ID: HEPT4\n",
      "HETZK THIAZOLSYN3-RXN_c0 HETZK\n",
      "####new ID: HETZK\n",
      "HEX1 GLUCOKIN-RXN_c0 HEX1\n",
      "####new ID: HEX1\n",
      "HG2abcpp MNXR100623_c0 HG2abcpp\n",
      "####new ID: HG2abcpp\n",
      "HMPK1 OHMETPYRKIN-RXN_c0 HMPK1\n",
      "####new ID: HMPK1\n",
      "HPPK2 H2PTERIDINEPYROPHOSPHOKIN-RXN_c0 HPPK2\n",
      "####new ID: HPPK2\n",
      "HSST HOMSUCTRAN-RXN_c0 HSST\n",
      "####new ID: HSST\n",
      "HXAND RXN-7682_c0 HXAND\n",
      "####new ID: HXAND\n",
      "HXPRT HYPOXANPRIBOSYLTRAN-RXN_c0 HXPRT\n",
      "####new ID: HXPRT\n",
      "ICHORT ISOCHORMAT-RXN_c0 ICHORT\n",
      "####new ID: ICHORT\n",
      "IPDPS MNXR100874_c0 IPDPS\n",
      "####new ID: IPDPS\n",
      "IPMD 3-ISOPROPYLMALDEHYDROG-RXN_c0 IPMD\n",
      "####new ID: IPMD\n",
      "KDOPS MNXR100934_c0 KDOPS\n",
      "####new ID: KDOPS\n",
      "L_LACD2 MNXR101273_c0 L_LACD2\n",
      "####new ID: L_LACD2\n",
      "L_LACD3 MNXR101275_c0 L_LACD3\n",
      "####new ID: L_LACD3\n",
      "LDH_D2 MNXR101039_c0 LDH_D2\n",
      "####new ID: LDH_D2\n",
      "LPADSS LIPIDADISACCHARIDESYNTH-RXN_c0 LPADSS\n",
      "####new ID: LPADSS\n",
      "LPLIPAL1A160pp MNXR101144_c0 LPLIPAL1A160pp\n",
      "####new ID: LPLIPAL1A160pp\n",
      "LPLIPAL1A180pp MNXR101146_c0 LPLIPAL1A180pp\n",
      "####new ID: LPLIPAL1A180pp\n",
      "LPLIPAL2A160 MNXR101165_c0 LPLIPAL2A160\n",
      "####new ID: LPLIPAL2A160\n",
      "LPLIPAL2A180 MNXR101167_c0 LPLIPAL2A180\n",
      "####new ID: LPLIPAL2A180\n",
      "LPLIPAL2E160 MNXR101186_c0 LPLIPAL2E160\n",
      "####new ID: LPLIPAL2E160\n",
      "LPLIPAL2E180 MNXR101188_c0 LPLIPAL2E180\n",
      "####new ID: LPLIPAL2E180\n",
      "LYSDC LYSDECARBOX-RXN_c0 LYSDC\n",
      "####new ID: LYSDC\n",
      "MALTATr MALTACETYLTRAN-RXN_c0 MALTATr\n",
      "####new ID: MALTATr\n",
      "MCITD 2-METHYLCITRATE-DEHYDRATASE-RXN_c0 MCITD\n",
      "####new ID: MCITD\n",
      "MCPST MERCAPYSTRANS-RXN_c0 MCPST\n",
      "####new ID: MCPST\n",
      "MDH2 MNXR101440_c0 MDH2\n",
      "####new ID: MDH2\n",
      "MDH3 MNXR101441_c0 MDH3\n",
      "####new ID: MDH3\n",
      "MGSA METHGLYSYN-RXN_c0 MGSA\n",
      "####new ID: MGSA\n",
      "MI1PP RXN0-5408_c0 MI1PP\n",
      "####new ID: MI1PP\n",
      "MICITDr 4.2.1.99-RXN_c0 MICITDr\n",
      "####new ID: MICITDr\n",
      "MOAT KDOTRANS-RXN_c0 MOAT\n",
      "####new ID: MOAT\n",
      "MOAT2 KDOTRANS2-RXN_c0 MOAT2\n",
      "####new ID: MOAT2\n",
      "MOAT3C MNXR101686_c0 MOAT3C\n",
      "####new ID: MOAT3C\n",
      "MTAN METHYLTHIOADENOSINE-NUCLEOSIDASE-RXN_c0 MTAN\n",
      "####new ID: MTAN\n",
      "NADH10 MNXR101863_c0 NADH10\n",
      "####new ID: NADH10\n",
      "NNDMBRT DMBPPRIBOSYLTRANS-RXN_c0 NNDMBRT\n",
      "####new ID: NNDMBRT\n",
      "NTPTP1 DGTPTRIPHYDRO-RXN_c0 NTPTP1\n",
      "####new ID: NTPTP1\n",
      "NTRIR2x RXN-13854_c0 NTRIR2x\n",
      "####new ID: NTRIR2x\n",
      "OAADC OXALODECARB-RXN_c0 OAADC\n",
      "####new ID: OAADC\n",
      "OHPBAT PSERTRANSAMPYR-RXN_c0 OHPBAT\n",
      "####new ID: OHPBAT\n",
      "OHPHM 2-OCTAPRENYL-6-OHPHENOL-METHY-RXN_c0 OHPHM\n",
      "####new ID: OHPHM\n",
      "OMPDC OROTPDECARB-RXN_c0 OMPDC\n",
      "####new ID: OMPDC\n",
      "OPHBDC 3-OCTAPRENYL-4-OHBENZOATE-DECARBOX-RXN_c0 OPHBDC\n",
      "####new ID: OPHBDC\n",
      "ORPT OROPRIBTRANS-RXN_c0 ORPT\n",
      "####new ID: ORPT\n",
      "PACCOAL RXN-10819_c0 PACCOAL\n",
      "####new ID: PACCOAL\n",
      "PAPPT3 MNXR102373_c0 PAPPT3\n",
      "####new ID: PAPPT3\n",
      "PAPSR 1.8.4.8-RXN_c0 PAPSR\n",
      "####new ID: PAPSR\n",
      "PDX5POi PNPOXI-RXN_c0 PDX5POi\n",
      "####new ID: PDX5POi\n",
      "PERD ERYTHRON4PDEHYDROG-RXN_c0 PERD\n",
      "####new ID: PERD\n",
      "PFK_2 TAGAKIN-RXN_c0 PFK_2\n",
      "####new ID: PFK_2\n"
     ]
    },
    {
     "name": "stdout",
     "output_type": "stream",
     "text": [
      "PFK_3 RXN0-6541_c0 PFK_3\n",
      "####new ID: PFK_3\n",
      "PGMT PHOSPHOGLUCMUT-RXN_c0 PGMT\n",
      "####new ID: PGMT\n",
      "PGSA160 MNXR102592_c0 PGSA160\n",
      "####new ID: PGSA160\n",
      "PGSA161 MNXR102594_c0 PGSA161\n",
      "####new ID: PGSA161\n",
      "PGSA180 MNXR102595_c0 PGSA180\n",
      "####new ID: PGSA180\n",
      "PMPK PYRIMSYN3-RXN_c0 PMPK\n",
      "####new ID: PMPK\n",
      "PPC MNXR103096_c0 PPC\n",
      "####new ID: PPC\n",
      "PPGPPDP PPGPPSYN-RXN_c0 PPGPPDP\n",
      "####new ID: PPGPPDP\n",
      "PPM2 D-PPENTOMUT-RXN_c0 PPM2\n",
      "####new ID: PPM2\n",
      "PPNCL2 P-PANTOCYSLIG-RXN_c0 PPNCL2\n",
      "####new ID: PPNCL2\n",
      "PPNDH PREPHENATEDEHYDRAT-RXN_c0 PPNDH\n",
      "####new ID: PPNDH\n",
      "PPPGO3 MNXR103130_c0 PPPGO3\n",
      "####new ID: PPPGO3\n",
      "PPS PEPSYNTH-RXN_c0 PPS\n",
      "####new ID: PPS\n",
      "PSD160 MNXR103232_c0 PSD160\n",
      "####new ID: PSD160\n",
      "PSD180 MNXR103234_c0 PSD180\n",
      "####new ID: PSD180\n",
      "PSSA160 MNXR103269_c0 PSSA160\n",
      "####new ID: PSSA160\n",
      "PSSA180 MNXR103271_c0 PSSA180\n",
      "####new ID: PSSA180\n",
      "PUNP2 DEOXYADENPHOSPHOR-RXN_c0 PUNP2\n",
      "####new ID: PUNP2\n",
      "PUNP4 DEOXYGUANPHOSPHOR-RXN_c0 PUNP4\n",
      "####new ID: PUNP4\n",
      "PUNP5 INOPHOSPHOR-RXN_c0 PUNP5\n",
      "####new ID: PUNP5\n",
      "PUNP6 DEOXYINOPHOSPHOR-RXN_c0 PUNP6\n",
      "####new ID: PUNP6\n",
      "PUNP7 XANTHOSINEPHOSPHORY-RXN_c0 PUNP7\n",
      "####new ID: PUNP7\n",
      "PYAM5PO PMPOXI-RXN_c0 PYAM5PO\n",
      "####new ID: PYAM5PO\n",
      "PYDAMK PYRAMKIN-RXN_c0 PYDAMK\n",
      "####new ID: PYDAMK\n",
      "PYDXK PYRIDOXKIN-RXN_c0 PYDXK\n",
      "####new ID: PYDXK\n",
      "PYDXNK PNKIN-RXN_c0 PYDXNK\n",
      "####new ID: PYDXNK\n",
      "PYNP2r URPHOS-RXN_c0 PYNP2r\n",
      "####new ID: PYNP2r\n",
      "RBK_L1 RXN0-5116_c0 RBK_L1\n",
      "####new ID: RBK_L1\n",
      "RBP4E RIBULPEPIM-RXN_c0 RBP4E\n",
      "####new ID: RBP4E\n",
      "RHCCE RIBOSYLHOMOCYSTEINASE-RXN_c0 RHCCE\n",
      "####new ID: RHCCE\n",
      "RMI MNXR104038_c0 RMI\n",
      "####new ID: RMI\n",
      "RMK MNXR104039_c0 RMK\n",
      "####new ID: RMK\n",
      "RMPA RHAMNULPALDOL-RXN_c0 RMPA\n",
      "####new ID: RMPA\n",
      "RZ5PP RIBAZOLEPHOSPHAT-RXN_c0 RZ5PP\n",
      "####new ID: RZ5PP\n",
      "S7PI RXN0-4301_c0 S7PI\n",
      "####new ID: S7PI\n",
      "SADH SUCCARGDIHYDRO-RXN_c0 SADH\n",
      "####new ID: SADH\n",
      "SADT2 MNXR104241_c0 SADT2\n",
      "####new ID: SADT2\n",
      "SDPDS SUCCDIAMINOPIMDESUCC-RXN_c0 SDPDS\n",
      "####new ID: SDPDS\n",
      "SEPHCHCS MNXR104329_c0 SEPHCHCS\n",
      "####new ID: SEPHCHCS\n",
      "SERD_D DSERDEAM-RXN_c0 SERD_D\n",
      "####new ID: SERD_D\n",
      "SGDS SUCCGLUDESUCC-RXN_c0 SGDS\n",
      "####new ID: SGDS\n",
      "SGSAD SUCCGLUALDDEHYD-RXN_c0 SGSAD\n",
      "####new ID: SGSAD\n",
      "SOTA SUCCORNTRANSAM-RXN_c0 SOTA\n",
      "####new ID: SOTA\n",
      "SPMDAT1 SPERMACTRAN-RXN_c0 SPMDAT1\n",
      "####new ID: SPMDAT1\n",
      "SPMDAT2 RXN0-7165_c0 SPMDAT2\n",
      "####new ID: SPMDAT2\n",
      "SUCBZL O-SUCCINYLBENZOATE-COA-LIG-RXN_c0 SUCBZL\n",
      "####new ID: SUCBZL\n",
      "TDPDRE DTDPDEHYDRHAMEPIM-RXN_c0 TDPDRE\n",
      "####new ID: TDPDRE\n",
      "TDPGDH DTDPGLUCDEHYDRAT-RXN_c0 TDPGDH\n",
      "####new ID: TDPGDH\n",
      "TDSK TETRAACYLDISACC4KIN-RXN_c0 TDSK\n",
      "####new ID: TDSK\n",
      "THDPS TETHYDPICSUCC-RXN_c0 THDPS\n",
      "####new ID: THDPS\n",
      "TMDPP THYM-PHOSPH-RXN_c0 TMDPP\n",
      "####new ID: TMDPP\n",
      "TMDS MNXR104889_c0 TMDS\n",
      "####new ID: TMDS\n",
      "TMK THIKIN-RXN_c0 TMK\n",
      "####new ID: TMK\n",
      "TMPK THI-P-KIN-RXN_c0 TMPK\n",
      "####new ID: TMPK\n",
      "TMPPP THI-P-SYN-RXN_c0 TMPPP\n",
      "####new ID: TMPPP\n",
      "TPRDCOAS 2.7.8.25-RXN_c0 TPRDCOAS\n",
      "####new ID: TPRDCOAS\n",
      "TRE6PH TRE6PHYDRO-RXN_c0 TRE6PH\n",
      "####new ID: TRE6PH\n",
      "TRPAS2 TRYPTOPHAN-RXN_c0 TRPAS2\n",
      "####new ID: TRPAS2\n",
      "U23GAAT UDPHYDROXYMYRGLUCOSAMNACETYLTRANS-RXN_c0 U23GAAT\n",
      "####new ID: U23GAAT\n",
      "UAGAAT UDPNACETYLGLUCOSAMACYLTRANS-RXN_c0 UAGAAT\n",
      "####new ID: UAGAAT\n",
      "UAGCVT UDPNACETYLGLUCOSAMENOLPYRTRANS-RXN_c0 UAGCVT\n",
      "####new ID: UAGCVT\n",
      "UAGDP MNXR105033_c0 UAGDP\n",
      "####new ID: UAGDP\n",
      "UAGPT3 MNXR105037_c0 UAGPT3\n",
      "####new ID: UAGPT3\n",
      "UAMAGS UDP-NACMURALA-GLU-LIG-RXN_c0 UAMAGS\n",
      "####new ID: UAMAGS\n",
      "UAMAS UDP-NACMUR-ALA-LIG-RXN_c0 UAMAS\n",
      "####new ID: UAMAS\n",
      "UAPGR UDPNACETYLMURAMATEDEHYDROG-RXN_c0 UAPGR\n",
      "####new ID: UAPGR\n",
      "UDPG4E UDPGLUCEPIM-RXN_c0 UDPG4E\n",
      "####new ID: UDPG4E\n",
      "UDPGALM GALPMUT-RXN_c0 UDPGALM\n",
      "####new ID: UDPGALM\n",
      "UDPGD UGD-RXN_c0 UDPGD\n",
      "####new ID: UDPGD\n",
      "UHGADA UDPACYLGLCNACDEACETYL-RXN_c0 UHGADA\n",
      "####new ID: UHGADA\n",
      "URIK2 URKI-RXN_c0 URIK2\n",
      "####new ID: URIK2\n",
      "USHD LIPIDXSYNTHESIS-RXN_c0 USHD\n",
      "####new ID: USHD\n",
      "VPAMTr VALINE-PYRUVATE-AMINOTRANSFER-RXN_c0 VPAMTr\n",
      "####new ID: VPAMTr\n",
      "X5PL3E LXULRU5P-RXN_c0 X5PL3E\n",
      "####new ID: X5PL3E\n",
      "XPPT XANPRIBOSYLTRAN-RXN_c0 XPPT\n",
      "####new ID: XPPT\n",
      "XYLI1 XYLISOM-RXN_c0 XYLI1\n",
      "####new ID: XYLI1\n",
      "XYLK XYLULOKIN-RXN_c0 XYLK\n",
      "####new ID: XYLK\n"
     ]
    },
    {
     "data": {
      "text/plain": [
       "0"
      ]
     },
     "execution_count": 6,
     "metadata": {},
     "output_type": "execute_result"
    }
   ],
   "source": [
    "count_r=0\n",
    "for e_reac in ecoli_model.reactions:\n",
    "    for reac in model.reactions:\n",
    "        #bigg, compartment=e_reac.id.rsplit(\"_\", 1)\n",
    "        if e_reac.id in reac.annotation.values():\n",
    "            \n",
    "            \n",
    "            print(e_reac.id, reac.id, reac.annotation[\"bigg.reaction\"])\n",
    "            reac.id=e_reac.id\n",
    "            print(\"####new ID:\",reac.id)\n",
    "            model.repair()\n",
    "            \n",
    "        elif bigg in reac.annotation.values() and type(reac.annotation[\"bigg.reaction\"])==list:\n",
    "            print(\"lista\")\n",
    "            count_r+=1\n",
    "count_r"
   ]
  },
  {
   "cell_type": "code",
   "execution_count": null,
   "metadata": {},
   "outputs": [],
   "source": [
    "#not used\n",
    "for e_met in ecoli_model.metabolites:\n",
    "    for met in model.metabolites:\n",
    "        bigg, compartment=e_met.id.rsplit(\"_\", 1)\n",
    "        if bigg in met.annotation.values():\n",
    "            print(e_met.id, met.id, met.annotation)\n",
    "            met.id=bigg+ \"_\"+ met.compartment[0]\n",
    "            print(\"####new ID:\",met.id)\n",
    "            model.repair()\n"
   ]
  },
  {
   "cell_type": "code",
   "execution_count": null,
   "metadata": {},
   "outputs": [],
   "source": [
    "#not used\n",
    "for e_reac in ecoli_model.reactions:\n",
    "    for reac in model.reactions:\n",
    "        if e_reac.id in reac.annotation.values():\n",
    "            if \"bigg.reaction\" in reac.annotation.keys():\n",
    "                print(e_reac.id, reac.id, reac.annotation)\n",
    "               # print(e_reac.id, reac.annotation.values() )\n",
    "               # for value in reac.annotation.values():\n",
    "                reac.id=e_reac.id\n",
    "                model.repair()\n"
   ]
  },
  {
   "cell_type": "markdown",
   "metadata": {},
   "source": [
    "### Exchange reactions "
   ]
  },
  {
   "cell_type": "code",
   "execution_count": 7,
   "metadata": {
    "scrolled": true
   },
   "outputs": [
    {
     "data": {
      "text/plain": [
       "'EX_cpd00067_e0'"
      ]
     },
     "execution_count": 7,
     "metadata": {},
     "output_type": "execute_result"
    },
    {
     "data": {
      "text/plain": [
       "'h'"
      ]
     },
     "execution_count": 7,
     "metadata": {},
     "output_type": "execute_result"
    },
    {
     "name": "stdout",
     "output_type": "stream",
     "text": [
      "EX_h_c\n"
     ]
    },
    {
     "data": {
      "text/plain": [
       "'h'"
      ]
     },
     "execution_count": 7,
     "metadata": {},
     "output_type": "execute_result"
    },
    {
     "name": "stdout",
     "output_type": "stream",
     "text": [
      "EX_h_e\n"
     ]
    },
    {
     "data": {
      "text/plain": [
       "'EX_cpd00182_e0'"
      ]
     },
     "execution_count": 7,
     "metadata": {},
     "output_type": "execute_result"
    },
    {
     "data": {
      "text/plain": [
       "'adn'"
      ]
     },
     "execution_count": 7,
     "metadata": {},
     "output_type": "execute_result"
    },
    {
     "name": "stdout",
     "output_type": "stream",
     "text": [
      "EX_adn_e\n"
     ]
    },
    {
     "data": {
      "text/plain": [
       "'adn'"
      ]
     },
     "execution_count": 7,
     "metadata": {},
     "output_type": "execute_result"
    },
    {
     "name": "stdout",
     "output_type": "stream",
     "text": [
      "EX_adn_c\n"
     ]
    },
    {
     "data": {
      "text/plain": [
       "'EX_cpd00106_e0'"
      ]
     },
     "execution_count": 7,
     "metadata": {},
     "output_type": "execute_result"
    },
    {
     "data": {
      "text/plain": [
       "'fum'"
      ]
     },
     "execution_count": 7,
     "metadata": {},
     "output_type": "execute_result"
    },
    {
     "name": "stdout",
     "output_type": "stream",
     "text": [
      "EX_fum_e\n"
     ]
    },
    {
     "data": {
      "text/plain": [
       "'fum'"
      ]
     },
     "execution_count": 7,
     "metadata": {},
     "output_type": "execute_result"
    },
    {
     "name": "stdout",
     "output_type": "stream",
     "text": [
      "EX_fum_c\n"
     ]
    },
    {
     "data": {
      "text/plain": [
       "'EX_cpd00075_e0'"
      ]
     },
     "execution_count": 7,
     "metadata": {},
     "output_type": "execute_result"
    },
    {
     "data": {
      "text/plain": [
       "'no2'"
      ]
     },
     "execution_count": 7,
     "metadata": {},
     "output_type": "execute_result"
    },
    {
     "name": "stdout",
     "output_type": "stream",
     "text": [
      "EX_no2_e\n"
     ]
    },
    {
     "data": {
      "text/plain": [
       "'no2'"
      ]
     },
     "execution_count": 7,
     "metadata": {},
     "output_type": "execute_result"
    },
    {
     "name": "stdout",
     "output_type": "stream",
     "text": [
      "EX_no2_c\n"
     ]
    },
    {
     "data": {
      "text/plain": [
       "'EX_cpd00064_e0'"
      ]
     },
     "execution_count": 7,
     "metadata": {},
     "output_type": "execute_result"
    },
    {
     "name": "stdout",
     "output_type": "stream",
     "text": [
      "lissst ['orn', 'orn__L']\n",
      "from list orn ['orn', 'orn__L']\n",
      "From list: EX_orn_e\n",
      "from list orn ['orn', 'orn__L']\n",
      "From list: EX_orn_e\n",
      "from list orn ['orn', 'orn__L']\n",
      "From list: EX_orn_e\n",
      "lissst ['orn', 'orn__L']\n",
      "from list orn ['orn', 'orn__L']\n",
      "From list: EX_orn_c\n",
      "from list orn ['orn', 'orn__L']\n",
      "From list: EX_orn_c\n",
      "from list orn ['orn', 'orn__L']\n",
      "From list: EX_orn_c\n"
     ]
    },
    {
     "data": {
      "text/plain": [
       "'EX_cpd00036_e0'"
      ]
     },
     "execution_count": 7,
     "metadata": {},
     "output_type": "execute_result"
    },
    {
     "data": {
      "text/plain": [
       "'succ'"
      ]
     },
     "execution_count": 7,
     "metadata": {},
     "output_type": "execute_result"
    },
    {
     "name": "stdout",
     "output_type": "stream",
     "text": [
      "EX_succ_e\n"
     ]
    },
    {
     "data": {
      "text/plain": [
       "'succ'"
      ]
     },
     "execution_count": 7,
     "metadata": {},
     "output_type": "execute_result"
    },
    {
     "name": "stdout",
     "output_type": "stream",
     "text": [
      "EX_succ_c\n"
     ]
    },
    {
     "data": {
      "text/plain": [
       "'EX_cpd11576_e0'"
      ]
     },
     "execution_count": 7,
     "metadata": {},
     "output_type": "execute_result"
    },
    {
     "data": {
      "text/plain": [
       "'metox__R'"
      ]
     },
     "execution_count": 7,
     "metadata": {},
     "output_type": "execute_result"
    },
    {
     "name": "stdout",
     "output_type": "stream",
     "text": [
      "EX_metox__R_e\n"
     ]
    },
    {
     "data": {
      "text/plain": [
       "'metox__R'"
      ]
     },
     "execution_count": 7,
     "metadata": {},
     "output_type": "execute_result"
    },
    {
     "name": "stdout",
     "output_type": "stream",
     "text": [
      "EX_metox__R_c\n"
     ]
    },
    {
     "data": {
      "text/plain": [
       "'EX_cpd04097_e0'"
      ]
     },
     "execution_count": 7,
     "metadata": {},
     "output_type": "execute_result"
    },
    {
     "data": {
      "text/plain": [
       "'EX_cpd11585_e0'"
      ]
     },
     "execution_count": 7,
     "metadata": {},
     "output_type": "execute_result"
    },
    {
     "data": {
      "text/plain": [
       "'L_alagly'"
      ]
     },
     "execution_count": 7,
     "metadata": {},
     "output_type": "execute_result"
    },
    {
     "name": "stdout",
     "output_type": "stream",
     "text": [
      "EX_L_alagly_e\n"
     ]
    },
    {
     "data": {
      "text/plain": [
       "'L_alagly'"
      ]
     },
     "execution_count": 7,
     "metadata": {},
     "output_type": "execute_result"
    },
    {
     "name": "stdout",
     "output_type": "stream",
     "text": [
      "EX_L_alagly_c\n"
     ]
    },
    {
     "data": {
      "text/plain": [
       "'EX_cpd00412_e0'"
      ]
     },
     "execution_count": 7,
     "metadata": {},
     "output_type": "execute_result"
    },
    {
     "data": {
      "text/plain": [
       "'duri'"
      ]
     },
     "execution_count": 7,
     "metadata": {},
     "output_type": "execute_result"
    },
    {
     "name": "stdout",
     "output_type": "stream",
     "text": [
      "EX_duri_e\n"
     ]
    },
    {
     "data": {
      "text/plain": [
       "'duri'"
      ]
     },
     "execution_count": 7,
     "metadata": {},
     "output_type": "execute_result"
    },
    {
     "name": "stdout",
     "output_type": "stream",
     "text": [
      "EX_duri_c\n"
     ]
    },
    {
     "data": {
      "text/plain": [
       "'EX_cpd11582_e0'"
      ]
     },
     "execution_count": 7,
     "metadata": {},
     "output_type": "execute_result"
    },
    {
     "data": {
      "text/plain": [
       "'ala_L_Thr__L'"
      ]
     },
     "execution_count": 7,
     "metadata": {},
     "output_type": "execute_result"
    },
    {
     "name": "stdout",
     "output_type": "stream",
     "text": [
      "EX_ala_L_Thr__L_e\n"
     ]
    },
    {
     "data": {
      "text/plain": [
       "'ala_L_Thr__L'"
      ]
     },
     "execution_count": 7,
     "metadata": {},
     "output_type": "execute_result"
    },
    {
     "name": "stdout",
     "output_type": "stream",
     "text": [
      "EX_ala_L_Thr__L_c\n"
     ]
    },
    {
     "data": {
      "text/plain": [
       "'EX_cpd00012_e0'"
      ]
     },
     "execution_count": 7,
     "metadata": {},
     "output_type": "execute_result"
    },
    {
     "data": {
      "text/plain": [
       "'ppi'"
      ]
     },
     "execution_count": 7,
     "metadata": {},
     "output_type": "execute_result"
    },
    {
     "name": "stdout",
     "output_type": "stream",
     "text": [
      "EX_ppi_c\n"
     ]
    },
    {
     "data": {
      "text/plain": [
       "'ppi'"
      ]
     },
     "execution_count": 7,
     "metadata": {},
     "output_type": "execute_result"
    },
    {
     "name": "stdout",
     "output_type": "stream",
     "text": [
      "EX_ppi_e\n"
     ]
    },
    {
     "data": {
      "text/plain": [
       "'EX_cpd11586_e0'"
      ]
     },
     "execution_count": 7,
     "metadata": {},
     "output_type": "execute_result"
    },
    {
     "data": {
      "text/plain": [
       "'ala_L_glu__L'"
      ]
     },
     "execution_count": 7,
     "metadata": {},
     "output_type": "execute_result"
    },
    {
     "name": "stdout",
     "output_type": "stream",
     "text": [
      "EX_ala_L_glu__L_e\n"
     ]
    },
    {
     "data": {
      "text/plain": [
       "'ala_L_glu__L'"
      ]
     },
     "execution_count": 7,
     "metadata": {},
     "output_type": "execute_result"
    },
    {
     "name": "stdout",
     "output_type": "stream",
     "text": [
      "EX_ala_L_glu__L_c\n"
     ]
    },
    {
     "data": {
      "text/plain": [
       "'EX_cpd01030_e0'"
      ]
     },
     "execution_count": 7,
     "metadata": {},
     "output_type": "execute_result"
    },
    {
     "data": {
      "text/plain": [
       "'salcn'"
      ]
     },
     "execution_count": 7,
     "metadata": {},
     "output_type": "execute_result"
    },
    {
     "name": "stdout",
     "output_type": "stream",
     "text": [
      "EX_salcn_e\n"
     ]
    },
    {
     "data": {
      "text/plain": [
       "'EX_cpd00129_e0'"
      ]
     },
     "execution_count": 7,
     "metadata": {},
     "output_type": "execute_result"
    },
    {
     "data": {
      "text/plain": [
       "'pro__L'"
      ]
     },
     "execution_count": 7,
     "metadata": {},
     "output_type": "execute_result"
    },
    {
     "name": "stdout",
     "output_type": "stream",
     "text": [
      "EX_pro__L_e\n"
     ]
    },
    {
     "data": {
      "text/plain": [
       "'pro__L'"
      ]
     },
     "execution_count": 7,
     "metadata": {},
     "output_type": "execute_result"
    },
    {
     "name": "stdout",
     "output_type": "stream",
     "text": [
      "EX_pro__L_c\n"
     ]
    },
    {
     "data": {
      "text/plain": [
       "'EX_cpd00971_e0'"
      ]
     },
     "execution_count": 7,
     "metadata": {},
     "output_type": "execute_result"
    },
    {
     "data": {
      "text/plain": [
       "'na1'"
      ]
     },
     "execution_count": 7,
     "metadata": {},
     "output_type": "execute_result"
    },
    {
     "name": "stdout",
     "output_type": "stream",
     "text": [
      "EX_na1_e\n"
     ]
    },
    {
     "data": {
      "text/plain": [
       "'na1'"
      ]
     },
     "execution_count": 7,
     "metadata": {},
     "output_type": "execute_result"
    },
    {
     "name": "stdout",
     "output_type": "stream",
     "text": [
      "EX_na1_c\n"
     ]
    },
    {
     "data": {
      "text/plain": [
       "'EX_cpd01012_e0'"
      ]
     },
     "execution_count": 7,
     "metadata": {},
     "output_type": "execute_result"
    },
    {
     "data": {
      "text/plain": [
       "'EX_cpd00635_e0'"
      ]
     },
     "execution_count": 7,
     "metadata": {},
     "output_type": "execute_result"
    },
    {
     "data": {
      "text/plain": [
       "'EX_cpd00246_e0'"
      ]
     },
     "execution_count": 7,
     "metadata": {},
     "output_type": "execute_result"
    },
    {
     "data": {
      "text/plain": [
       "'ins'"
      ]
     },
     "execution_count": 7,
     "metadata": {},
     "output_type": "execute_result"
    },
    {
     "name": "stdout",
     "output_type": "stream",
     "text": [
      "EX_ins_c\n"
     ]
    },
    {
     "data": {
      "text/plain": [
       "'ins'"
      ]
     },
     "execution_count": 7,
     "metadata": {},
     "output_type": "execute_result"
    },
    {
     "name": "stdout",
     "output_type": "stream",
     "text": [
      "EX_ins_e\n"
     ]
    },
    {
     "data": {
      "text/plain": [
       "'EX_cpd00276_e0'"
      ]
     },
     "execution_count": 7,
     "metadata": {},
     "output_type": "execute_result"
    },
    {
     "data": {
      "text/plain": [
       "'gam'"
      ]
     },
     "execution_count": 7,
     "metadata": {},
     "output_type": "execute_result"
    },
    {
     "name": "stdout",
     "output_type": "stream",
     "text": [
      "EX_gam_e\n"
     ]
    },
    {
     "data": {
      "text/plain": [
       "'EX_cpd00082_e0'"
      ]
     },
     "execution_count": 7,
     "metadata": {},
     "output_type": "execute_result"
    },
    {
     "data": {
      "text/plain": [
       "'fru'"
      ]
     },
     "execution_count": 7,
     "metadata": {},
     "output_type": "execute_result"
    },
    {
     "name": "stdout",
     "output_type": "stream",
     "text": [
      "EX_fru_e\n"
     ]
    },
    {
     "data": {
      "text/plain": [
       "'fru'"
      ]
     },
     "execution_count": 7,
     "metadata": {},
     "output_type": "execute_result"
    },
    {
     "name": "stdout",
     "output_type": "stream",
     "text": [
      "EX_fru_c\n"
     ]
    },
    {
     "data": {
      "text/plain": [
       "'EX_cpd00001_e0'"
      ]
     },
     "execution_count": 7,
     "metadata": {},
     "output_type": "execute_result"
    },
    {
     "name": "stdout",
     "output_type": "stream",
     "text": [
      "lissst ['h2o', 'oh1']\n",
      "from list h2o ['h2o', 'oh1']\n",
      "From list: EX_h2o_c\n",
      "from list h2o ['h2o', 'oh1']\n",
      "From list: EX_h2o_c\n",
      "from list h2o ['h2o', 'oh1']\n",
      "From list: EX_h2o_c\n",
      "lissst ['h2o', 'oh1']\n",
      "from list h2o ['h2o', 'oh1']\n",
      "From list: EX_h2o_e\n",
      "from list h2o ['h2o', 'oh1']\n",
      "From list: EX_h2o_e\n",
      "from list h2o ['h2o', 'oh1']\n",
      "From list: EX_h2o_e\n"
     ]
    },
    {
     "data": {
      "text/plain": [
       "'EX_cpd00023_e0'"
      ]
     },
     "execution_count": 7,
     "metadata": {},
     "output_type": "execute_result"
    },
    {
     "data": {
      "text/plain": [
       "'glu__L'"
      ]
     },
     "execution_count": 7,
     "metadata": {},
     "output_type": "execute_result"
    },
    {
     "name": "stdout",
     "output_type": "stream",
     "text": [
      "EX_glu__L_c\n"
     ]
    },
    {
     "data": {
      "text/plain": [
       "'glu__L'"
      ]
     },
     "execution_count": 7,
     "metadata": {},
     "output_type": "execute_result"
    },
    {
     "name": "stdout",
     "output_type": "stream",
     "text": [
      "EX_glu__L_e\n"
     ]
    },
    {
     "data": {
      "text/plain": [
       "'EX_cpd00367_e0'"
      ]
     },
     "execution_count": 7,
     "metadata": {},
     "output_type": "execute_result"
    },
    {
     "data": {
      "text/plain": [
       "'cytd'"
      ]
     },
     "execution_count": 7,
     "metadata": {},
     "output_type": "execute_result"
    },
    {
     "name": "stdout",
     "output_type": "stream",
     "text": [
      "EX_cytd_c\n"
     ]
    },
    {
     "data": {
      "text/plain": [
       "'cytd'"
      ]
     },
     "execution_count": 7,
     "metadata": {},
     "output_type": "execute_result"
    },
    {
     "name": "stdout",
     "output_type": "stream",
     "text": [
      "EX_cytd_e\n"
     ]
    },
    {
     "data": {
      "text/plain": [
       "'EX_cpd00058_e0'"
      ]
     },
     "execution_count": 7,
     "metadata": {},
     "output_type": "execute_result"
    },
    {
     "data": {
      "text/plain": [
       "'cu2'"
      ]
     },
     "execution_count": 7,
     "metadata": {},
     "output_type": "execute_result"
    },
    {
     "name": "stdout",
     "output_type": "stream",
     "text": [
      "EX_cu2_e\n"
     ]
    },
    {
     "data": {
      "text/plain": [
       "'cu2'"
      ]
     },
     "execution_count": 7,
     "metadata": {},
     "output_type": "execute_result"
    },
    {
     "name": "stdout",
     "output_type": "stream",
     "text": [
      "EX_cu2_c\n"
     ]
    },
    {
     "data": {
      "text/plain": [
       "'EX_cpd00080_e0'"
      ]
     },
     "execution_count": 7,
     "metadata": {},
     "output_type": "execute_result"
    },
    {
     "data": {
      "text/plain": [
       "'glyc3p'"
      ]
     },
     "execution_count": 7,
     "metadata": {},
     "output_type": "execute_result"
    },
    {
     "name": "stdout",
     "output_type": "stream",
     "text": [
      "EX_glyc3p_c\n"
     ]
    },
    {
     "data": {
      "text/plain": [
       "'glyc3p'"
      ]
     },
     "execution_count": 7,
     "metadata": {},
     "output_type": "execute_result"
    },
    {
     "name": "stdout",
     "output_type": "stream",
     "text": [
      "EX_glyc3p_e\n"
     ]
    },
    {
     "data": {
      "text/plain": [
       "'EX_cpd00107_e0'"
      ]
     },
     "execution_count": 7,
     "metadata": {},
     "output_type": "execute_result"
    },
    {
     "data": {
      "text/plain": [
       "'leu__L'"
      ]
     },
     "execution_count": 7,
     "metadata": {},
     "output_type": "execute_result"
    },
    {
     "name": "stdout",
     "output_type": "stream",
     "text": [
      "EX_leu__L_e\n"
     ]
    },
    {
     "data": {
      "text/plain": [
       "'leu__L'"
      ]
     },
     "execution_count": 7,
     "metadata": {},
     "output_type": "execute_result"
    },
    {
     "name": "stdout",
     "output_type": "stream",
     "text": [
      "EX_leu__L_c\n"
     ]
    },
    {
     "data": {
      "text/plain": [
       "'EX_cpd00184_e0'"
      ]
     },
     "execution_count": 7,
     "metadata": {},
     "output_type": "execute_result"
    },
    {
     "data": {
      "text/plain": [
       "'thymd'"
      ]
     },
     "execution_count": 7,
     "metadata": {},
     "output_type": "execute_result"
    },
    {
     "name": "stdout",
     "output_type": "stream",
     "text": [
      "EX_thymd_e\n"
     ]
    },
    {
     "data": {
      "text/plain": [
       "'thymd'"
      ]
     },
     "execution_count": 7,
     "metadata": {},
     "output_type": "execute_result"
    },
    {
     "name": "stdout",
     "output_type": "stream",
     "text": [
      "EX_thymd_c\n"
     ]
    },
    {
     "data": {
      "text/plain": [
       "'EX_cpd00314_e0'"
      ]
     },
     "execution_count": 7,
     "metadata": {},
     "output_type": "execute_result"
    },
    {
     "data": {
      "text/plain": [
       "'mnl'"
      ]
     },
     "execution_count": 7,
     "metadata": {},
     "output_type": "execute_result"
    },
    {
     "name": "stdout",
     "output_type": "stream",
     "text": [
      "EX_mnl_e\n"
     ]
    },
    {
     "data": {
      "text/plain": [
       "'mnl'"
      ]
     },
     "execution_count": 7,
     "metadata": {},
     "output_type": "execute_result"
    },
    {
     "name": "stdout",
     "output_type": "stream",
     "text": [
      "EX_mnl_c\n"
     ]
    },
    {
     "data": {
      "text/plain": [
       "'EX_cpd01017_e0'"
      ]
     },
     "execution_count": 7,
     "metadata": {},
     "output_type": "execute_result"
    },
    {
     "data": {
      "text/plain": [
       "'cgly'"
      ]
     },
     "execution_count": 7,
     "metadata": {},
     "output_type": "execute_result"
    },
    {
     "name": "stdout",
     "output_type": "stream",
     "text": [
      "EX_cgly_e\n"
     ]
    },
    {
     "data": {
      "text/plain": [
       "'cgly'"
      ]
     },
     "execution_count": 7,
     "metadata": {},
     "output_type": "execute_result"
    },
    {
     "name": "stdout",
     "output_type": "stream",
     "text": [
      "EX_cgly_c\n"
     ]
    },
    {
     "data": {
      "text/plain": [
       "'EX_cpd00797_e0'"
      ]
     },
     "execution_count": 7,
     "metadata": {},
     "output_type": "execute_result"
    },
    {
     "data": {
      "text/plain": [
       "'bhb'"
      ]
     },
     "execution_count": 7,
     "metadata": {},
     "output_type": "execute_result"
    },
    {
     "name": "stdout",
     "output_type": "stream",
     "text": [
      "EX_bhb_c\n"
     ]
    },
    {
     "data": {
      "text/plain": [
       "'bhb'"
      ]
     },
     "execution_count": 7,
     "metadata": {},
     "output_type": "execute_result"
    },
    {
     "name": "stdout",
     "output_type": "stream",
     "text": [
      "EX_bhb_e\n"
     ]
    },
    {
     "data": {
      "text/plain": [
       "'EX_cpd00013_e0'"
      ]
     },
     "execution_count": 7,
     "metadata": {},
     "output_type": "execute_result"
    },
    {
     "name": "stdout",
     "output_type": "stream",
     "text": [
      "lissst ['nh3', 'nh4']\n",
      "from list nh4 ['nh3', 'nh4']\n",
      "From list: EX_nh4_c\n",
      "from list nh4 ['nh3', 'nh4']\n",
      "From list: EX_nh4_c\n",
      "from list nh4 ['nh3', 'nh4']\n",
      "From list: EX_nh4_c\n",
      "lissst ['nh3', 'nh4']\n",
      "from list nh4 ['nh3', 'nh4']\n",
      "From list: EX_nh4_e\n",
      "from list nh4 ['nh3', 'nh4']\n",
      "From list: EX_nh4_e\n",
      "from list nh4 ['nh3', 'nh4']\n",
      "From list: EX_nh4_e\n"
     ]
    },
    {
     "data": {
      "text/plain": [
       "'EX_cpd00051_e0'"
      ]
     },
     "execution_count": 7,
     "metadata": {},
     "output_type": "execute_result"
    },
    {
     "data": {
      "text/plain": [
       "'arg__L'"
      ]
     },
     "execution_count": 7,
     "metadata": {},
     "output_type": "execute_result"
    },
    {
     "name": "stdout",
     "output_type": "stream",
     "text": [
      "EX_arg__L_c\n"
     ]
    },
    {
     "data": {
      "text/plain": [
       "'arg__L'"
      ]
     },
     "execution_count": 7,
     "metadata": {},
     "output_type": "execute_result"
    },
    {
     "name": "stdout",
     "output_type": "stream",
     "text": [
      "EX_arg__L_e\n"
     ]
    },
    {
     "data": {
      "text/plain": [
       "'EX_cpd10515_e0'"
      ]
     },
     "execution_count": 7,
     "metadata": {},
     "output_type": "execute_result"
    },
    {
     "data": {
      "text/plain": [
       "'fe2'"
      ]
     },
     "execution_count": 7,
     "metadata": {},
     "output_type": "execute_result"
    },
    {
     "name": "stdout",
     "output_type": "stream",
     "text": [
      "EX_fe2_c\n"
     ]
    },
    {
     "data": {
      "text/plain": [
       "'fe2'"
      ]
     },
     "execution_count": 7,
     "metadata": {},
     "output_type": "execute_result"
    },
    {
     "name": "stdout",
     "output_type": "stream",
     "text": [
      "EX_fe2_e\n"
     ]
    },
    {
     "data": {
      "text/plain": [
       "'EX_cpd00308_e0'"
      ]
     },
     "execution_count": 7,
     "metadata": {},
     "output_type": "execute_result"
    },
    {
     "data": {
      "text/plain": [
       "'malon'"
      ]
     },
     "execution_count": 7,
     "metadata": {},
     "output_type": "execute_result"
    },
    {
     "name": "stdout",
     "output_type": "stream",
     "text": [
      "EX_malon_e\n"
     ]
    },
    {
     "data": {
      "text/plain": [
       "'malon'"
      ]
     },
     "execution_count": 7,
     "metadata": {},
     "output_type": "execute_result"
    },
    {
     "name": "stdout",
     "output_type": "stream",
     "text": [
      "EX_malon_c\n"
     ]
    },
    {
     "data": {
      "text/plain": [
       "'EX_cpd00179_e0'"
      ]
     },
     "execution_count": 7,
     "metadata": {},
     "output_type": "execute_result"
    },
    {
     "data": {
      "text/plain": [
       "'malt'"
      ]
     },
     "execution_count": 7,
     "metadata": {},
     "output_type": "execute_result"
    },
    {
     "name": "stdout",
     "output_type": "stream",
     "text": [
      "EX_malt_c\n"
     ]
    },
    {
     "data": {
      "text/plain": [
       "'malt'"
      ]
     },
     "execution_count": 7,
     "metadata": {},
     "output_type": "execute_result"
    },
    {
     "name": "stdout",
     "output_type": "stream",
     "text": [
      "EX_malt_e\n"
     ]
    },
    {
     "data": {
      "text/plain": [
       "'EX_cpd00100_e0'"
      ]
     },
     "execution_count": 7,
     "metadata": {},
     "output_type": "execute_result"
    },
    {
     "data": {
      "text/plain": [
       "'glyc'"
      ]
     },
     "execution_count": 7,
     "metadata": {},
     "output_type": "execute_result"
    },
    {
     "name": "stdout",
     "output_type": "stream",
     "text": [
      "EX_glyc_c\n"
     ]
    },
    {
     "data": {
      "text/plain": [
       "'glyc'"
      ]
     },
     "execution_count": 7,
     "metadata": {},
     "output_type": "execute_result"
    },
    {
     "name": "stdout",
     "output_type": "stream",
     "text": [
      "EX_glyc_e\n"
     ]
    },
    {
     "data": {
      "text/plain": [
       "'EX_cpd11591_e0'"
      ]
     },
     "execution_count": 7,
     "metadata": {},
     "output_type": "execute_result"
    },
    {
     "data": {
      "text/plain": [
       "'gly_met__L'"
      ]
     },
     "execution_count": 7,
     "metadata": {},
     "output_type": "execute_result"
    },
    {
     "name": "stdout",
     "output_type": "stream",
     "text": [
      "EX_gly_met__L_e\n"
     ]
    },
    {
     "data": {
      "text/plain": [
       "'gly_met__L'"
      ]
     },
     "execution_count": 7,
     "metadata": {},
     "output_type": "execute_result"
    },
    {
     "name": "stdout",
     "output_type": "stream",
     "text": [
      "EX_gly_met__L_c\n"
     ]
    },
    {
     "data": {
      "text/plain": [
       "'EX_cpd00009_e0'"
      ]
     },
     "execution_count": 7,
     "metadata": {},
     "output_type": "execute_result"
    },
    {
     "data": {
      "text/plain": [
       "'pi'"
      ]
     },
     "execution_count": 7,
     "metadata": {},
     "output_type": "execute_result"
    },
    {
     "name": "stdout",
     "output_type": "stream",
     "text": [
      "EX_pi_c\n"
     ]
    },
    {
     "data": {
      "text/plain": [
       "'pi'"
      ]
     },
     "execution_count": 7,
     "metadata": {},
     "output_type": "execute_result"
    },
    {
     "name": "stdout",
     "output_type": "stream",
     "text": [
      "EX_pi_e\n"
     ]
    },
    {
     "data": {
      "text/plain": [
       "'EX_cpd00060_e0'"
      ]
     },
     "execution_count": 7,
     "metadata": {},
     "output_type": "execute_result"
    },
    {
     "data": {
      "text/plain": [
       "'met__L'"
      ]
     },
     "execution_count": 7,
     "metadata": {},
     "output_type": "execute_result"
    },
    {
     "name": "stdout",
     "output_type": "stream",
     "text": [
      "EX_met__L_c\n"
     ]
    },
    {
     "data": {
      "text/plain": [
       "'met__L'"
      ]
     },
     "execution_count": 7,
     "metadata": {},
     "output_type": "execute_result"
    },
    {
     "name": "stdout",
     "output_type": "stream",
     "text": [
      "EX_met__L_e\n"
     ]
    },
    {
     "data": {
      "text/plain": [
       "'EX_cpd00438_e0'"
      ]
     },
     "execution_count": 7,
     "metadata": {},
     "output_type": "execute_result"
    },
    {
     "data": {
      "text/plain": [
       "'dad_2'"
      ]
     },
     "execution_count": 7,
     "metadata": {},
     "output_type": "execute_result"
    },
    {
     "name": "stdout",
     "output_type": "stream",
     "text": [
      "EX_dad_2_e\n"
     ]
    },
    {
     "data": {
      "text/plain": [
       "'dad_2'"
      ]
     },
     "execution_count": 7,
     "metadata": {},
     "output_type": "execute_result"
    },
    {
     "name": "stdout",
     "output_type": "stream",
     "text": [
      "EX_dad_2_c\n"
     ]
    },
    {
     "data": {
      "text/plain": [
       "'EX_cpd00034_e0'"
      ]
     },
     "execution_count": 7,
     "metadata": {},
     "output_type": "execute_result"
    },
    {
     "name": "stdout",
     "output_type": "stream",
     "text": [
      "lissst ['HC02172', 'zn2']\n",
      "from list zn2 ['HC02172', 'zn2']\n",
      "From list: EX_zn2_e\n",
      "from list zn2 ['HC02172', 'zn2']\n",
      "From list: EX_zn2_e\n",
      "from list zn2 ['HC02172', 'zn2']\n",
      "From list: EX_zn2_e\n",
      "lissst ['HC02172', 'zn2']\n",
      "from list zn2 ['HC02172', 'zn2']\n",
      "From list: EX_zn2_c\n",
      "from list zn2 ['HC02172', 'zn2']\n",
      "From list: EX_zn2_c\n",
      "from list zn2 ['HC02172', 'zn2']\n",
      "From list: EX_zn2_c\n"
     ]
    },
    {
     "data": {
      "text/plain": [
       "'EX_cpd00249_e0'"
      ]
     },
     "execution_count": 7,
     "metadata": {},
     "output_type": "execute_result"
    },
    {
     "data": {
      "text/plain": [
       "'uri'"
      ]
     },
     "execution_count": 7,
     "metadata": {},
     "output_type": "execute_result"
    },
    {
     "name": "stdout",
     "output_type": "stream",
     "text": [
      "EX_uri_c\n"
     ]
    },
    {
     "data": {
      "text/plain": [
       "'uri'"
      ]
     },
     "execution_count": 7,
     "metadata": {},
     "output_type": "execute_result"
    },
    {
     "name": "stdout",
     "output_type": "stream",
     "text": [
      "EX_uri_e\n"
     ]
    },
    {
     "data": {
      "text/plain": [
       "'EX_cpd00214_e0'"
      ]
     },
     "execution_count": 7,
     "metadata": {},
     "output_type": "execute_result"
    },
    {
     "data": {
      "text/plain": [
       "'hdca'"
      ]
     },
     "execution_count": 7,
     "metadata": {},
     "output_type": "execute_result"
    },
    {
     "name": "stdout",
     "output_type": "stream",
     "text": [
      "EX_hdca_c\n"
     ]
    },
    {
     "data": {
      "text/plain": [
       "'hdca'"
      ]
     },
     "execution_count": 7,
     "metadata": {},
     "output_type": "execute_result"
    },
    {
     "name": "stdout",
     "output_type": "stream",
     "text": [
      "EX_hdca_e\n"
     ]
    },
    {
     "data": {
      "text/plain": [
       "'EX_cpd00119_e0'"
      ]
     },
     "execution_count": 7,
     "metadata": {},
     "output_type": "execute_result"
    },
    {
     "data": {
      "text/plain": [
       "'his__L'"
      ]
     },
     "execution_count": 7,
     "metadata": {},
     "output_type": "execute_result"
    },
    {
     "name": "stdout",
     "output_type": "stream",
     "text": [
      "EX_his__L_c\n"
     ]
    },
    {
     "data": {
      "text/plain": [
       "'his__L'"
      ]
     },
     "execution_count": 7,
     "metadata": {},
     "output_type": "execute_result"
    },
    {
     "name": "stdout",
     "output_type": "stream",
     "text": [
      "EX_his__L_e\n"
     ]
    },
    {
     "data": {
      "text/plain": [
       "'EX_cpd11593_e0'"
      ]
     },
     "execution_count": 7,
     "metadata": {},
     "output_type": "execute_result"
    },
    {
     "data": {
      "text/plain": [
       "'ala_L_asp__L'"
      ]
     },
     "execution_count": 7,
     "metadata": {},
     "output_type": "execute_result"
    },
    {
     "name": "stdout",
     "output_type": "stream",
     "text": [
      "EX_ala_L_asp__L_e\n"
     ]
    },
    {
     "data": {
      "text/plain": [
       "'ala_L_asp__L'"
      ]
     },
     "execution_count": 7,
     "metadata": {},
     "output_type": "execute_result"
    },
    {
     "name": "stdout",
     "output_type": "stream",
     "text": [
      "EX_ala_L_asp__L_c\n"
     ]
    },
    {
     "data": {
      "text/plain": [
       "'EX_cpd00654_e0'"
      ]
     },
     "execution_count": 7,
     "metadata": {},
     "output_type": "execute_result"
    },
    {
     "data": {
      "text/plain": [
       "'dcyt'"
      ]
     },
     "execution_count": 7,
     "metadata": {},
     "output_type": "execute_result"
    },
    {
     "name": "stdout",
     "output_type": "stream",
     "text": [
      "EX_dcyt_c\n"
     ]
    },
    {
     "data": {
      "text/plain": [
       "'dcyt'"
      ]
     },
     "execution_count": 7,
     "metadata": {},
     "output_type": "execute_result"
    },
    {
     "name": "stdout",
     "output_type": "stream",
     "text": [
      "EX_dcyt_e\n"
     ]
    },
    {
     "data": {
      "text/plain": [
       "'EX_cpd00076_e0'"
      ]
     },
     "execution_count": 7,
     "metadata": {},
     "output_type": "execute_result"
    },
    {
     "data": {
      "text/plain": [
       "'sucr'"
      ]
     },
     "execution_count": 7,
     "metadata": {},
     "output_type": "execute_result"
    },
    {
     "name": "stdout",
     "output_type": "stream",
     "text": [
      "EX_sucr_c\n"
     ]
    },
    {
     "data": {
      "text/plain": [
       "'sucr'"
      ]
     },
     "execution_count": 7,
     "metadata": {},
     "output_type": "execute_result"
    },
    {
     "name": "stdout",
     "output_type": "stream",
     "text": [
      "EX_sucr_e\n"
     ]
    },
    {
     "data": {
      "text/plain": [
       "'EX_cpd00322_e0'"
      ]
     },
     "execution_count": 7,
     "metadata": {},
     "output_type": "execute_result"
    },
    {
     "data": {
      "text/plain": [
       "'ile__L'"
      ]
     },
     "execution_count": 7,
     "metadata": {},
     "output_type": "execute_result"
    },
    {
     "name": "stdout",
     "output_type": "stream",
     "text": [
      "EX_ile__L_c\n"
     ]
    },
    {
     "data": {
      "text/plain": [
       "'ile__L'"
      ]
     },
     "execution_count": 7,
     "metadata": {},
     "output_type": "execute_result"
    },
    {
     "name": "stdout",
     "output_type": "stream",
     "text": [
      "EX_ile__L_e\n"
     ]
    },
    {
     "data": {
      "text/plain": [
       "'EX_cpd01171_e0'"
      ]
     },
     "execution_count": 7,
     "metadata": {},
     "output_type": "execute_result"
    },
    {
     "data": {
      "text/plain": [
       "'galt'"
      ]
     },
     "execution_count": 7,
     "metadata": {},
     "output_type": "execute_result"
    },
    {
     "name": "stdout",
     "output_type": "stream",
     "text": [
      "EX_galt_e\n"
     ]
    },
    {
     "data": {
      "text/plain": [
       "'EX_cpd00210_e0'"
      ]
     },
     "execution_count": 7,
     "metadata": {},
     "output_type": "execute_result"
    },
    {
     "data": {
      "text/plain": [
       "'taur'"
      ]
     },
     "execution_count": 7,
     "metadata": {},
     "output_type": "execute_result"
    },
    {
     "name": "stdout",
     "output_type": "stream",
     "text": [
      "EX_taur_c\n"
     ]
    },
    {
     "data": {
      "text/plain": [
       "'taur'"
      ]
     },
     "execution_count": 7,
     "metadata": {},
     "output_type": "execute_result"
    },
    {
     "name": "stdout",
     "output_type": "stream",
     "text": [
      "EX_taur_e\n"
     ]
    },
    {
     "data": {
      "text/plain": [
       "'EX_cpd15605_e0'"
      ]
     },
     "execution_count": 7,
     "metadata": {},
     "output_type": "execute_result"
    },
    {
     "name": "stdout",
     "output_type": "stream",
     "text": [
      "lissst ['gly_phe__L', 'glyphe']\n",
      "lissst ['gly_phe__L', 'glyphe']\n"
     ]
    },
    {
     "data": {
      "text/plain": [
       "'EX_cpd00264_e0'"
      ]
     },
     "execution_count": 7,
     "metadata": {},
     "output_type": "execute_result"
    },
    {
     "data": {
      "text/plain": [
       "'spmd'"
      ]
     },
     "execution_count": 7,
     "metadata": {},
     "output_type": "execute_result"
    },
    {
     "name": "stdout",
     "output_type": "stream",
     "text": [
      "EX_spmd_c\n"
     ]
    },
    {
     "data": {
      "text/plain": [
       "'spmd'"
      ]
     },
     "execution_count": 7,
     "metadata": {},
     "output_type": "execute_result"
    },
    {
     "name": "stdout",
     "output_type": "stream",
     "text": [
      "EX_spmd_e\n"
     ]
    },
    {
     "data": {
      "text/plain": [
       "'EX_cpd00054_e0'"
      ]
     },
     "execution_count": 7,
     "metadata": {},
     "output_type": "execute_result"
    },
    {
     "data": {
      "text/plain": [
       "'ser__L'"
      ]
     },
     "execution_count": 7,
     "metadata": {},
     "output_type": "execute_result"
    },
    {
     "name": "stdout",
     "output_type": "stream",
     "text": [
      "EX_ser__L_c\n"
     ]
    },
    {
     "data": {
      "text/plain": [
       "'ser__L'"
      ]
     },
     "execution_count": 7,
     "metadata": {},
     "output_type": "execute_result"
    },
    {
     "name": "stdout",
     "output_type": "stream",
     "text": [
      "EX_ser__L_e\n"
     ]
    },
    {
     "data": {
      "text/plain": [
       "'EX_cpd00644_e0'"
      ]
     },
     "execution_count": 7,
     "metadata": {},
     "output_type": "execute_result"
    },
    {
     "data": {
      "text/plain": [
       "'pnto__R'"
      ]
     },
     "execution_count": 7,
     "metadata": {},
     "output_type": "execute_result"
    },
    {
     "name": "stdout",
     "output_type": "stream",
     "text": [
      "EX_pnto__R_e\n"
     ]
    },
    {
     "data": {
      "text/plain": [
       "'pnto__R'"
      ]
     },
     "execution_count": 7,
     "metadata": {},
     "output_type": "execute_result"
    },
    {
     "name": "stdout",
     "output_type": "stream",
     "text": [
      "EX_pnto__R_c\n"
     ]
    },
    {
     "data": {
      "text/plain": [
       "'EX_cpd00637_e0'"
      ]
     },
     "execution_count": 7,
     "metadata": {},
     "output_type": "execute_result"
    },
    {
     "data": {
      "text/plain": [
       "'met__D'"
      ]
     },
     "execution_count": 7,
     "metadata": {},
     "output_type": "execute_result"
    },
    {
     "name": "stdout",
     "output_type": "stream",
     "text": [
      "EX_met__D_e\n"
     ]
    },
    {
     "data": {
      "text/plain": [
       "'met__D'"
      ]
     },
     "execution_count": 7,
     "metadata": {},
     "output_type": "execute_result"
    },
    {
     "name": "stdout",
     "output_type": "stream",
     "text": [
      "EX_met__D_c\n"
     ]
    },
    {
     "data": {
      "text/plain": [
       "'EX_cpd00041_e0'"
      ]
     },
     "execution_count": 7,
     "metadata": {},
     "output_type": "execute_result"
    },
    {
     "name": "stdout",
     "output_type": "stream",
     "text": [
      "lissst ['CE1787', 'CE5868', 'asp__L']\n",
      "from list asp__L ['CE1787', 'CE5868', 'asp__L']\n",
      "From list: EX_asp__L_c\n",
      "from list asp__L ['CE1787', 'CE5868', 'asp__L']\n",
      "From list: EX_asp__L_c\n",
      "from list asp__L ['CE1787', 'CE5868', 'asp__L']\n",
      "From list: EX_asp__L_c\n",
      "lissst ['CE1787', 'CE5868', 'asp__L']\n",
      "from list asp__L ['CE1787', 'CE5868', 'asp__L']\n",
      "From list: EX_asp__L_e\n",
      "from list asp__L ['CE1787', 'CE5868', 'asp__L']\n",
      "From list: EX_asp__L_e\n",
      "from list asp__L ['CE1787', 'CE5868', 'asp__L']\n",
      "From list: EX_asp__L_e\n"
     ]
    },
    {
     "data": {
      "text/plain": [
       "'EX_cpd00122_e0'"
      ]
     },
     "execution_count": 7,
     "metadata": {},
     "output_type": "execute_result"
    },
    {
     "data": {
      "text/plain": [
       "'acgam'"
      ]
     },
     "execution_count": 7,
     "metadata": {},
     "output_type": "execute_result"
    },
    {
     "name": "stdout",
     "output_type": "stream",
     "text": [
      "EX_acgam_c\n"
     ]
    },
    {
     "data": {
      "text/plain": [
       "'acgam'"
      ]
     },
     "execution_count": 7,
     "metadata": {},
     "output_type": "execute_result"
    },
    {
     "name": "stdout",
     "output_type": "stream",
     "text": [
      "EX_acgam_e\n"
     ]
    },
    {
     "data": {
      "text/plain": [
       "'EX_cpd00035_e0'"
      ]
     },
     "execution_count": 7,
     "metadata": {},
     "output_type": "execute_result"
    },
    {
     "data": {
      "text/plain": [
       "'ala__L'"
      ]
     },
     "execution_count": 7,
     "metadata": {},
     "output_type": "execute_result"
    },
    {
     "name": "stdout",
     "output_type": "stream",
     "text": [
      "EX_ala__L_c\n"
     ]
    },
    {
     "data": {
      "text/plain": [
       "'ala__L'"
      ]
     },
     "execution_count": 7,
     "metadata": {},
     "output_type": "execute_result"
    },
    {
     "name": "stdout",
     "output_type": "stream",
     "text": [
      "EX_ala__L_e\n"
     ]
    },
    {
     "data": {
      "text/plain": [
       "'EX_cpd15603_e0'"
      ]
     },
     "execution_count": 7,
     "metadata": {},
     "output_type": "execute_result"
    },
    {
     "data": {
      "text/plain": [
       "'gly_cys__L'"
      ]
     },
     "execution_count": 7,
     "metadata": {},
     "output_type": "execute_result"
    },
    {
     "name": "stdout",
     "output_type": "stream",
     "text": [
      "EX_gly_cys__L_c\n"
     ]
    },
    {
     "data": {
      "text/plain": [
       "'gly_cys__L'"
      ]
     },
     "execution_count": 7,
     "metadata": {},
     "output_type": "execute_result"
    },
    {
     "name": "stdout",
     "output_type": "stream",
     "text": [
      "EX_gly_cys__L_e\n"
     ]
    },
    {
     "data": {
      "text/plain": [
       "'EX_cpd00039_e0'"
      ]
     },
     "execution_count": 7,
     "metadata": {},
     "output_type": "execute_result"
    },
    {
     "data": {
      "text/plain": [
       "'lys__L'"
      ]
     },
     "execution_count": 7,
     "metadata": {},
     "output_type": "execute_result"
    },
    {
     "name": "stdout",
     "output_type": "stream",
     "text": [
      "EX_lys__L_c\n"
     ]
    },
    {
     "data": {
      "text/plain": [
       "'lys__L'"
      ]
     },
     "execution_count": 7,
     "metadata": {},
     "output_type": "execute_result"
    },
    {
     "name": "stdout",
     "output_type": "stream",
     "text": [
      "EX_lys__L_e\n"
     ]
    },
    {
     "data": {
      "text/plain": [
       "'EX_cpd03696_e0'"
      ]
     },
     "execution_count": 7,
     "metadata": {},
     "output_type": "execute_result"
    },
    {
     "data": {
      "text/plain": [
       "'arbt'"
      ]
     },
     "execution_count": 7,
     "metadata": {},
     "output_type": "execute_result"
    },
    {
     "name": "stdout",
     "output_type": "stream",
     "text": [
      "EX_arbt_e\n"
     ]
    },
    {
     "data": {
      "text/plain": [
       "'EX_cpd00277_e0'"
      ]
     },
     "execution_count": 7,
     "metadata": {},
     "output_type": "execute_result"
    },
    {
     "data": {
      "text/plain": [
       "'dgsn'"
      ]
     },
     "execution_count": 7,
     "metadata": {},
     "output_type": "execute_result"
    },
    {
     "name": "stdout",
     "output_type": "stream",
     "text": [
      "EX_dgsn_c\n"
     ]
    },
    {
     "data": {
      "text/plain": [
       "'dgsn'"
      ]
     },
     "execution_count": 7,
     "metadata": {},
     "output_type": "execute_result"
    },
    {
     "name": "stdout",
     "output_type": "stream",
     "text": [
      "EX_dgsn_e\n"
     ]
    },
    {
     "data": {
      "text/plain": [
       "'EX_cpd00118_e0'"
      ]
     },
     "execution_count": 7,
     "metadata": {},
     "output_type": "execute_result"
    },
    {
     "data": {
      "text/plain": [
       "'ptrc'"
      ]
     },
     "execution_count": 7,
     "metadata": {},
     "output_type": "execute_result"
    },
    {
     "name": "stdout",
     "output_type": "stream",
     "text": [
      "EX_ptrc_c\n"
     ]
    },
    {
     "data": {
      "text/plain": [
       "'ptrc'"
      ]
     },
     "execution_count": 7,
     "metadata": {},
     "output_type": "execute_result"
    },
    {
     "name": "stdout",
     "output_type": "stream",
     "text": [
      "EX_ptrc_e\n"
     ]
    },
    {
     "data": {
      "text/plain": [
       "'EX_cpd00309_e0'"
      ]
     },
     "execution_count": 7,
     "metadata": {},
     "output_type": "execute_result"
    },
    {
     "data": {
      "text/plain": [
       "'xan'"
      ]
     },
     "execution_count": 7,
     "metadata": {},
     "output_type": "execute_result"
    },
    {
     "name": "stdout",
     "output_type": "stream",
     "text": [
      "EX_xan_c\n"
     ]
    },
    {
     "data": {
      "text/plain": [
       "'xan'"
      ]
     },
     "execution_count": 7,
     "metadata": {},
     "output_type": "execute_result"
    },
    {
     "name": "stdout",
     "output_type": "stream",
     "text": [
      "EX_xan_e\n"
     ]
    },
    {
     "data": {
      "text/plain": [
       "'EX_cpd11580_e0'"
      ]
     },
     "execution_count": 7,
     "metadata": {},
     "output_type": "execute_result"
    },
    {
     "data": {
      "text/plain": [
       "'gly_gln__L'"
      ]
     },
     "execution_count": 7,
     "metadata": {},
     "output_type": "execute_result"
    },
    {
     "name": "stdout",
     "output_type": "stream",
     "text": [
      "EX_gly_gln__L_c\n"
     ]
    },
    {
     "data": {
      "text/plain": [
       "'gly_gln__L'"
      ]
     },
     "execution_count": 7,
     "metadata": {},
     "output_type": "execute_result"
    },
    {
     "name": "stdout",
     "output_type": "stream",
     "text": [
      "EX_gly_gln__L_e\n"
     ]
    },
    {
     "data": {
      "text/plain": [
       "'EX_cpd01092_e0'"
      ]
     },
     "execution_count": 7,
     "metadata": {},
     "output_type": "execute_result"
    },
    {
     "data": {
      "text/plain": [
       "'alltn'"
      ]
     },
     "execution_count": 7,
     "metadata": {},
     "output_type": "execute_result"
    },
    {
     "name": "stdout",
     "output_type": "stream",
     "text": [
      "EX_alltn_c\n"
     ]
    },
    {
     "data": {
      "text/plain": [
       "'alltn'"
      ]
     },
     "execution_count": 7,
     "metadata": {},
     "output_type": "execute_result"
    },
    {
     "name": "stdout",
     "output_type": "stream",
     "text": [
      "EX_alltn_e\n"
     ]
    },
    {
     "data": {
      "text/plain": [
       "'EX_cpd03343_e0'"
      ]
     },
     "execution_count": 7,
     "metadata": {},
     "output_type": "execute_result"
    },
    {
     "data": {
      "text/plain": [
       "'pppn'"
      ]
     },
     "execution_count": 7,
     "metadata": {},
     "output_type": "execute_result"
    },
    {
     "name": "stdout",
     "output_type": "stream",
     "text": [
      "EX_pppn_c\n"
     ]
    },
    {
     "data": {
      "text/plain": [
       "'pppn'"
      ]
     },
     "execution_count": 7,
     "metadata": {},
     "output_type": "execute_result"
    },
    {
     "name": "stdout",
     "output_type": "stream",
     "text": [
      "EX_pppn_e\n"
     ]
    },
    {
     "data": {
      "text/plain": [
       "'EX_cpd03279_e0'"
      ]
     },
     "execution_count": 7,
     "metadata": {},
     "output_type": "execute_result"
    },
    {
     "data": {
      "text/plain": [
       "'din'"
      ]
     },
     "execution_count": 7,
     "metadata": {},
     "output_type": "execute_result"
    },
    {
     "name": "stdout",
     "output_type": "stream",
     "text": [
      "EX_din_e\n"
     ]
    },
    {
     "data": {
      "text/plain": [
       "'din'"
      ]
     },
     "execution_count": 7,
     "metadata": {},
     "output_type": "execute_result"
    },
    {
     "name": "stdout",
     "output_type": "stream",
     "text": [
      "EX_din_c\n"
     ]
    },
    {
     "data": {
      "text/plain": [
       "'EX_cpd00224_e0'"
      ]
     },
     "execution_count": 7,
     "metadata": {},
     "output_type": "execute_result"
    },
    {
     "data": {
      "text/plain": [
       "'EX_cpd01262_e0'"
      ]
     },
     "execution_count": 7,
     "metadata": {},
     "output_type": "execute_result"
    },
    {
     "data": {
      "text/plain": [
       "'malttr'"
      ]
     },
     "execution_count": 7,
     "metadata": {},
     "output_type": "execute_result"
    },
    {
     "name": "stdout",
     "output_type": "stream",
     "text": [
      "EX_malttr_e\n"
     ]
    },
    {
     "data": {
      "text/plain": [
       "'malttr'"
      ]
     },
     "execution_count": 7,
     "metadata": {},
     "output_type": "execute_result"
    },
    {
     "name": "stdout",
     "output_type": "stream",
     "text": [
      "EX_malttr_c\n"
     ]
    },
    {
     "data": {
      "text/plain": [
       "'EX_cpd00137_e0'"
      ]
     },
     "execution_count": 7,
     "metadata": {},
     "output_type": "execute_result"
    },
    {
     "data": {
      "text/plain": [
       "'cit'"
      ]
     },
     "execution_count": 7,
     "metadata": {},
     "output_type": "execute_result"
    },
    {
     "name": "stdout",
     "output_type": "stream",
     "text": [
      "EX_cit_c\n"
     ]
    },
    {
     "data": {
      "text/plain": [
       "'cit'"
      ]
     },
     "execution_count": 7,
     "metadata": {},
     "output_type": "execute_result"
    },
    {
     "name": "stdout",
     "output_type": "stream",
     "text": [
      "EX_cit_e\n"
     ]
    },
    {
     "data": {
      "text/plain": [
       "'EX_cpd10516_e0'"
      ]
     },
     "execution_count": 7,
     "metadata": {},
     "output_type": "execute_result"
    },
    {
     "data": {
      "text/plain": [
       "'fe3'"
      ]
     },
     "execution_count": 7,
     "metadata": {},
     "output_type": "execute_result"
    },
    {
     "name": "stdout",
     "output_type": "stream",
     "text": [
      "EX_fe3_c\n"
     ]
    },
    {
     "data": {
      "text/plain": [
       "'fe3'"
      ]
     },
     "execution_count": 7,
     "metadata": {},
     "output_type": "execute_result"
    },
    {
     "name": "stdout",
     "output_type": "stream",
     "text": [
      "EX_fe3_e\n"
     ]
    },
    {
     "data": {
      "text/plain": [
       "'EX_cpd00588_e0'"
      ]
     },
     "execution_count": 7,
     "metadata": {},
     "output_type": "execute_result"
    },
    {
     "data": {
      "text/plain": [
       "'sbt__D'"
      ]
     },
     "execution_count": 7,
     "metadata": {},
     "output_type": "execute_result"
    },
    {
     "name": "stdout",
     "output_type": "stream",
     "text": [
      "EX_sbt__D_e\n"
     ]
    },
    {
     "data": {
      "text/plain": [
       "'EX_cpd00423_e0'"
      ]
     },
     "execution_count": 7,
     "metadata": {},
     "output_type": "execute_result"
    },
    {
     "data": {
      "text/plain": [
       "'cbl2'"
      ]
     },
     "execution_count": 7,
     "metadata": {},
     "output_type": "execute_result"
    },
    {
     "name": "stdout",
     "output_type": "stream",
     "text": [
      "EX_cbl2_e\n"
     ]
    },
    {
     "data": {
      "text/plain": [
       "'cbl2'"
      ]
     },
     "execution_count": 7,
     "metadata": {},
     "output_type": "execute_result"
    },
    {
     "name": "stdout",
     "output_type": "stream",
     "text": [
      "EX_cbl2_c\n"
     ]
    },
    {
     "data": {
      "text/plain": [
       "'EX_cpd00117_e0'"
      ]
     },
     "execution_count": 7,
     "metadata": {},
     "output_type": "execute_result"
    },
    {
     "data": {
      "text/plain": [
       "'ala__D'"
      ]
     },
     "execution_count": 7,
     "metadata": {},
     "output_type": "execute_result"
    },
    {
     "name": "stdout",
     "output_type": "stream",
     "text": [
      "EX_ala__D_c\n"
     ]
    },
    {
     "data": {
      "text/plain": [
       "'ala__D'"
      ]
     },
     "execution_count": 7,
     "metadata": {},
     "output_type": "execute_result"
    },
    {
     "name": "stdout",
     "output_type": "stream",
     "text": [
      "EX_ala__D_e\n"
     ]
    },
    {
     "data": {
      "text/plain": [
       "'EX_cpd00254_e0'"
      ]
     },
     "execution_count": 7,
     "metadata": {},
     "output_type": "execute_result"
    },
    {
     "data": {
      "text/plain": [
       "'mg2'"
      ]
     },
     "execution_count": 7,
     "metadata": {},
     "output_type": "execute_result"
    },
    {
     "name": "stdout",
     "output_type": "stream",
     "text": [
      "EX_mg2_e\n"
     ]
    },
    {
     "data": {
      "text/plain": [
       "'mg2'"
      ]
     },
     "execution_count": 7,
     "metadata": {},
     "output_type": "execute_result"
    },
    {
     "name": "stdout",
     "output_type": "stream",
     "text": [
      "EX_mg2_c\n"
     ]
    },
    {
     "data": {
      "text/plain": [
       "'EX_cpd00138_e0'"
      ]
     },
     "execution_count": 7,
     "metadata": {},
     "output_type": "execute_result"
    },
    {
     "data": {
      "text/plain": [
       "'man'"
      ]
     },
     "execution_count": 7,
     "metadata": {},
     "output_type": "execute_result"
    },
    {
     "name": "stdout",
     "output_type": "stream",
     "text": [
      "EX_man_e\n"
     ]
    },
    {
     "data": {
      "text/plain": [
       "'EX_cpd01242_e0'"
      ]
     },
     "execution_count": 7,
     "metadata": {},
     "output_type": "execute_result"
    },
    {
     "data": {
      "text/plain": [
       "'drib'"
      ]
     },
     "execution_count": 7,
     "metadata": {},
     "output_type": "execute_result"
    },
    {
     "name": "stdout",
     "output_type": "stream",
     "text": [
      "EX_drib_e\n"
     ]
    },
    {
     "data": {
      "text/plain": [
       "'drib'"
      ]
     },
     "execution_count": 7,
     "metadata": {},
     "output_type": "execute_result"
    },
    {
     "name": "stdout",
     "output_type": "stream",
     "text": [
      "EX_drib_c\n"
     ]
    },
    {
     "data": {
      "text/plain": [
       "'EX_cpd00159_e0'"
      ]
     },
     "execution_count": 7,
     "metadata": {},
     "output_type": "execute_result"
    },
    {
     "data": {
      "text/plain": [
       "'lac__L'"
      ]
     },
     "execution_count": 7,
     "metadata": {},
     "output_type": "execute_result"
    },
    {
     "name": "stdout",
     "output_type": "stream",
     "text": [
      "EX_lac__L_c\n"
     ]
    },
    {
     "data": {
      "text/plain": [
       "'lac__L'"
      ]
     },
     "execution_count": 7,
     "metadata": {},
     "output_type": "execute_result"
    },
    {
     "name": "stdout",
     "output_type": "stream",
     "text": [
      "EX_lac__L_e\n"
     ]
    },
    {
     "data": {
      "text/plain": [
       "'EX_cpd00540_e0'"
      ]
     },
     "execution_count": 7,
     "metadata": {},
     "output_type": "execute_result"
    },
    {
     "data": {
      "text/plain": [
       "'glyb'"
      ]
     },
     "execution_count": 7,
     "metadata": {},
     "output_type": "execute_result"
    },
    {
     "name": "stdout",
     "output_type": "stream",
     "text": [
      "EX_glyb_c\n"
     ]
    },
    {
     "data": {
      "text/plain": [
       "'glyb'"
      ]
     },
     "execution_count": 7,
     "metadata": {},
     "output_type": "execute_result"
    },
    {
     "name": "stdout",
     "output_type": "stream",
     "text": [
      "EX_glyb_e\n"
     ]
    },
    {
     "data": {
      "text/plain": [
       "'EX_cpd00065_e0'"
      ]
     },
     "execution_count": 7,
     "metadata": {},
     "output_type": "execute_result"
    },
    {
     "data": {
      "text/plain": [
       "'trp__L'"
      ]
     },
     "execution_count": 7,
     "metadata": {},
     "output_type": "execute_result"
    },
    {
     "name": "stdout",
     "output_type": "stream",
     "text": [
      "EX_trp__L_c\n"
     ]
    },
    {
     "data": {
      "text/plain": [
       "'trp__L'"
      ]
     },
     "execution_count": 7,
     "metadata": {},
     "output_type": "execute_result"
    },
    {
     "name": "stdout",
     "output_type": "stream",
     "text": [
      "EX_trp__L_e\n"
     ]
    },
    {
     "data": {
      "text/plain": [
       "'EX_cpd00047_e0'"
      ]
     },
     "execution_count": 7,
     "metadata": {},
     "output_type": "execute_result"
    },
    {
     "data": {
      "text/plain": [
       "'for'"
      ]
     },
     "execution_count": 7,
     "metadata": {},
     "output_type": "execute_result"
    },
    {
     "name": "stdout",
     "output_type": "stream",
     "text": [
      "EX_for_c\n"
     ]
    },
    {
     "data": {
      "text/plain": [
       "'for'"
      ]
     },
     "execution_count": 7,
     "metadata": {},
     "output_type": "execute_result"
    },
    {
     "name": "stdout",
     "output_type": "stream",
     "text": [
      "EX_for_e\n"
     ]
    },
    {
     "data": {
      "text/plain": [
       "'EX_cpd15606_e0'"
      ]
     },
     "execution_count": 7,
     "metadata": {},
     "output_type": "execute_result"
    },
    {
     "data": {
      "text/plain": [
       "'EX_cpd00048_e0'"
      ]
     },
     "execution_count": 7,
     "metadata": {},
     "output_type": "execute_result"
    },
    {
     "data": {
      "text/plain": [
       "'so4'"
      ]
     },
     "execution_count": 7,
     "metadata": {},
     "output_type": "execute_result"
    },
    {
     "name": "stdout",
     "output_type": "stream",
     "text": [
      "EX_so4_c\n"
     ]
    },
    {
     "data": {
      "text/plain": [
       "'so4'"
      ]
     },
     "execution_count": 7,
     "metadata": {},
     "output_type": "execute_result"
    },
    {
     "name": "stdout",
     "output_type": "stream",
     "text": [
      "EX_so4_e\n"
     ]
    },
    {
     "data": {
      "text/plain": [
       "'EX_cpd03847_e0'"
      ]
     },
     "execution_count": 7,
     "metadata": {},
     "output_type": "execute_result"
    },
    {
     "data": {
      "text/plain": [
       "'EX_cpd00149_e0'"
      ]
     },
     "execution_count": 7,
     "metadata": {},
     "output_type": "execute_result"
    },
    {
     "data": {
      "text/plain": [
       "'cobalt2'"
      ]
     },
     "execution_count": 7,
     "metadata": {},
     "output_type": "execute_result"
    },
    {
     "name": "stdout",
     "output_type": "stream",
     "text": [
      "EX_cobalt2_c\n"
     ]
    },
    {
     "data": {
      "text/plain": [
       "'cobalt2'"
      ]
     },
     "execution_count": 7,
     "metadata": {},
     "output_type": "execute_result"
    },
    {
     "name": "stdout",
     "output_type": "stream",
     "text": [
      "EX_cobalt2_e\n"
     ]
    },
    {
     "data": {
      "text/plain": [
       "'EX_cpd15353_e0'"
      ]
     },
     "execution_count": 7,
     "metadata": {},
     "output_type": "execute_result"
    },
    {
     "data": {
      "text/plain": [
       "'EX_cpd15352_e0'"
      ]
     },
     "execution_count": 7,
     "metadata": {},
     "output_type": "execute_result"
    },
    {
     "data": {
      "text/plain": [
       "'2dmmq8'"
      ]
     },
     "execution_count": 7,
     "metadata": {},
     "output_type": "execute_result"
    },
    {
     "name": "stdout",
     "output_type": "stream",
     "text": [
      "EX_2dmmq8_c\n"
     ]
    },
    {
     "data": {
      "text/plain": [
       "'2dmmq8'"
      ]
     },
     "execution_count": 7,
     "metadata": {},
     "output_type": "execute_result"
    },
    {
     "name": "stdout",
     "output_type": "stream",
     "text": [
      "EX_2dmmq8_e\n"
     ]
    },
    {
     "data": {
      "text/plain": [
       "'EX_cpd01914_e0'"
      ]
     },
     "execution_count": 7,
     "metadata": {},
     "output_type": "execute_result"
    },
    {
     "name": "stdout",
     "output_type": "stream",
     "text": [
      "lissst ['metox', 'metsox_R__L', 'metsox_S__L']\n",
      "from list metsox_R__L ['metox', 'metsox_R__L', 'metsox_S__L']\n",
      "From list: EX_metsox_R__L_c\n",
      "from list metsox_S__L ['metox', 'metsox_R__L', 'metsox_S__L']\n",
      "From list: EX_metsox_S__L_c\n",
      "from list metsox_R__L ['metox', 'metsox_R__L', 'metsox_S__L']\n",
      "From list: EX_metsox_R__L_c\n",
      "from list metsox_S__L ['metox', 'metsox_R__L', 'metsox_S__L']\n",
      "From list: EX_metsox_S__L_c\n",
      "from list metsox_R__L ['metox', 'metsox_R__L', 'metsox_S__L']\n",
      "From list: EX_metsox_R__L_c\n",
      "from list metsox_S__L ['metox', 'metsox_R__L', 'metsox_S__L']\n",
      "From list: EX_metsox_S__L_c\n",
      "lissst ['metox', 'metsox_R__L', 'metsox_S__L']\n",
      "from list metsox_R__L ['metox', 'metsox_R__L', 'metsox_S__L']\n",
      "From list: EX_metsox_R__L_e\n",
      "from list metsox_S__L ['metox', 'metsox_R__L', 'metsox_S__L']\n",
      "From list: EX_metsox_S__L_e\n",
      "from list metsox_R__L ['metox', 'metsox_R__L', 'metsox_S__L']\n",
      "From list: EX_metsox_R__L_e\n",
      "from list metsox_S__L ['metox', 'metsox_R__L', 'metsox_S__L']\n",
      "From list: EX_metsox_S__L_e\n",
      "from list metsox_R__L ['metox', 'metsox_R__L', 'metsox_S__L']\n",
      "From list: EX_metsox_R__L_e\n",
      "from list metsox_S__L ['metox', 'metsox_R__L', 'metsox_S__L']\n",
      "From list: EX_metsox_S__L_e\n"
     ]
    },
    {
     "data": {
      "text/plain": [
       "'EX_cpd00531_e0'"
      ]
     },
     "execution_count": 7,
     "metadata": {},
     "output_type": "execute_result"
    },
    {
     "data": {
      "text/plain": [
       "'hg2'"
      ]
     },
     "execution_count": 7,
     "metadata": {},
     "output_type": "execute_result"
    },
    {
     "name": "stdout",
     "output_type": "stream",
     "text": [
      "EX_hg2_c\n"
     ]
    },
    {
     "data": {
      "text/plain": [
       "'hg2'"
      ]
     },
     "execution_count": 7,
     "metadata": {},
     "output_type": "execute_result"
    },
    {
     "name": "stdout",
     "output_type": "stream",
     "text": [
      "EX_hg2_e\n"
     ]
    },
    {
     "data": {
      "text/plain": [
       "'EX_cpd11583_e0'"
      ]
     },
     "execution_count": 7,
     "metadata": {},
     "output_type": "execute_result"
    },
    {
     "name": "stdout",
     "output_type": "stream",
     "text": [
      "lissst ['CE5866', 'ala_L_leu__L']\n",
      "lissst ['CE5866', 'ala_L_leu__L']\n"
     ]
    },
    {
     "data": {
      "text/plain": [
       "'EX_cpd00162_e0'"
      ]
     },
     "execution_count": 7,
     "metadata": {},
     "output_type": "execute_result"
    },
    {
     "data": {
      "text/plain": [
       "'etha'"
      ]
     },
     "execution_count": 7,
     "metadata": {},
     "output_type": "execute_result"
    },
    {
     "name": "stdout",
     "output_type": "stream",
     "text": [
      "EX_etha_c\n"
     ]
    },
    {
     "data": {
      "text/plain": [
       "'etha'"
      ]
     },
     "execution_count": 7,
     "metadata": {},
     "output_type": "execute_result"
    },
    {
     "name": "stdout",
     "output_type": "stream",
     "text": [
      "EX_etha_e\n"
     ]
    },
    {
     "data": {
      "text/plain": [
       "'EX_cpd11589_e0'"
      ]
     },
     "execution_count": 7,
     "metadata": {},
     "output_type": "execute_result"
    },
    {
     "data": {
      "text/plain": [
       "'gly_asp__L'"
      ]
     },
     "execution_count": 7,
     "metadata": {},
     "output_type": "execute_result"
    },
    {
     "name": "stdout",
     "output_type": "stream",
     "text": [
      "EX_gly_asp__L_c\n"
     ]
    },
    {
     "data": {
      "text/plain": [
       "'gly_asp__L'"
      ]
     },
     "execution_count": 7,
     "metadata": {},
     "output_type": "execute_result"
    },
    {
     "name": "stdout",
     "output_type": "stream",
     "text": [
      "EX_gly_asp__L_e\n"
     ]
    },
    {
     "data": {
      "text/plain": [
       "'EX_cpd00027_e0'"
      ]
     },
     "execution_count": 7,
     "metadata": {},
     "output_type": "execute_result"
    },
    {
     "name": "stdout",
     "output_type": "stream",
     "text": [
      "lissst ['glc__D', 'glc__bD']\n",
      "from list glc__D ['glc__D', 'glc__bD']\n",
      "From list: EX_glc__D_c\n",
      "from list glc__D ['glc__D', 'glc__bD']\n",
      "From list: EX_glc__D_c\n",
      "from list glc__D ['glc__D', 'glc__bD']\n",
      "From list: EX_glc__D_c\n",
      "lissst ['glc__D', 'glc__bD']\n",
      "from list glc__D ['glc__D', 'glc__bD']\n",
      "From list: EX_glc__D_e\n",
      "from list glc__D ['glc__D', 'glc__bD']\n",
      "From list: EX_glc__D_e\n",
      "from list glc__D ['glc__D', 'glc__bD']\n",
      "From list: EX_glc__D_e\n"
     ]
    },
    {
     "data": {
      "text/plain": [
       "'EX_cpd03725_e0'"
      ]
     },
     "execution_count": 7,
     "metadata": {},
     "output_type": "execute_result"
    },
    {
     "data": {
      "text/plain": [
       "'fe3dcit'"
      ]
     },
     "execution_count": 7,
     "metadata": {},
     "output_type": "execute_result"
    },
    {
     "name": "stdout",
     "output_type": "stream",
     "text": [
      "EX_fe3dcit_e\n"
     ]
    },
    {
     "data": {
      "text/plain": [
       "'fe3dcit'"
      ]
     },
     "execution_count": 7,
     "metadata": {},
     "output_type": "execute_result"
    },
    {
     "name": "stdout",
     "output_type": "stream",
     "text": [
      "EX_fe3dcit_c\n"
     ]
    },
    {
     "data": {
      "text/plain": [
       "'EX_cpd00209_e0'"
      ]
     },
     "execution_count": 7,
     "metadata": {},
     "output_type": "execute_result"
    },
    {
     "data": {
      "text/plain": [
       "'no3'"
      ]
     },
     "execution_count": 7,
     "metadata": {},
     "output_type": "execute_result"
    },
    {
     "name": "stdout",
     "output_type": "stream",
     "text": [
      "EX_no3_c\n"
     ]
    },
    {
     "data": {
      "text/plain": [
       "'no3'"
      ]
     },
     "execution_count": 7,
     "metadata": {},
     "output_type": "execute_result"
    },
    {
     "name": "stdout",
     "output_type": "stream",
     "text": [
      "EX_no3_e\n"
     ]
    },
    {
     "data": {
      "text/plain": [
       "'EX_cpd00794_e0'"
      ]
     },
     "execution_count": 7,
     "metadata": {},
     "output_type": "execute_result"
    },
    {
     "data": {
      "text/plain": [
       "'tre'"
      ]
     },
     "execution_count": 7,
     "metadata": {},
     "output_type": "execute_result"
    },
    {
     "name": "stdout",
     "output_type": "stream",
     "text": [
      "EX_tre_e\n"
     ]
    },
    {
     "data": {
      "text/plain": [
       "'EX_cpd00105_e0'"
      ]
     },
     "execution_count": 7,
     "metadata": {},
     "output_type": "execute_result"
    },
    {
     "data": {
      "text/plain": [
       "'rib__D'"
      ]
     },
     "execution_count": 7,
     "metadata": {},
     "output_type": "execute_result"
    },
    {
     "name": "stdout",
     "output_type": "stream",
     "text": [
      "EX_rib__D_c\n"
     ]
    },
    {
     "data": {
      "text/plain": [
       "'rib__D'"
      ]
     },
     "execution_count": 7,
     "metadata": {},
     "output_type": "execute_result"
    },
    {
     "name": "stdout",
     "output_type": "stream",
     "text": [
      "EX_rib__D_e\n"
     ]
    },
    {
     "data": {
      "text/plain": [
       "'EX_cpd00226_e0'"
      ]
     },
     "execution_count": 7,
     "metadata": {},
     "output_type": "execute_result"
    },
    {
     "data": {
      "text/plain": [
       "'hxan'"
      ]
     },
     "execution_count": 7,
     "metadata": {},
     "output_type": "execute_result"
    },
    {
     "name": "stdout",
     "output_type": "stream",
     "text": [
      "EX_hxan_c\n"
     ]
    },
    {
     "data": {
      "text/plain": [
       "'hxan'"
      ]
     },
     "execution_count": 7,
     "metadata": {},
     "output_type": "execute_result"
    },
    {
     "name": "stdout",
     "output_type": "stream",
     "text": [
      "EX_hxan_e\n"
     ]
    },
    {
     "data": {
      "text/plain": [
       "'EX_cpd11588_e0'"
      ]
     },
     "execution_count": 7,
     "metadata": {},
     "output_type": "execute_result"
    },
    {
     "data": {
      "text/plain": [
       "'gly_pro__L'"
      ]
     },
     "execution_count": 7,
     "metadata": {},
     "output_type": "execute_result"
    },
    {
     "name": "stdout",
     "output_type": "stream",
     "text": [
      "EX_gly_pro__L_c\n"
     ]
    },
    {
     "data": {
      "text/plain": [
       "'gly_pro__L'"
      ]
     },
     "execution_count": 7,
     "metadata": {},
     "output_type": "execute_result"
    },
    {
     "name": "stdout",
     "output_type": "stream",
     "text": [
      "EX_gly_pro__L_e\n"
     ]
    },
    {
     "data": {
      "text/plain": [
       "'EX_cpd01329_e0'"
      ]
     },
     "execution_count": 7,
     "metadata": {},
     "output_type": "execute_result"
    },
    {
     "data": {
      "text/plain": [
       "'malthx'"
      ]
     },
     "execution_count": 7,
     "metadata": {},
     "output_type": "execute_result"
    },
    {
     "name": "stdout",
     "output_type": "stream",
     "text": [
      "EX_malthx_c\n"
     ]
    },
    {
     "data": {
      "text/plain": [
       "'malthx'"
      ]
     },
     "execution_count": 7,
     "metadata": {},
     "output_type": "execute_result"
    },
    {
     "name": "stdout",
     "output_type": "stream",
     "text": [
      "EX_malthx_e\n"
     ]
    },
    {
     "data": {
      "text/plain": [
       "'EX_cpd15604_e0'"
      ]
     },
     "execution_count": 7,
     "metadata": {},
     "output_type": "execute_result"
    },
    {
     "name": "stdout",
     "output_type": "stream",
     "text": [
      "lissst ['gly_leu__L', 'glyleu']\n",
      "lissst ['gly_leu__L', 'glyleu']\n"
     ]
    },
    {
     "data": {
      "text/plain": [
       "'EX_cpd01015_e0'"
      ]
     },
     "execution_count": 7,
     "metadata": {},
     "output_type": "execute_result"
    },
    {
     "data": {
      "text/plain": [
       "'cynt'"
      ]
     },
     "execution_count": 7,
     "metadata": {},
     "output_type": "execute_result"
    },
    {
     "name": "stdout",
     "output_type": "stream",
     "text": [
      "EX_cynt_c\n"
     ]
    },
    {
     "data": {
      "text/plain": [
       "'cynt'"
      ]
     },
     "execution_count": 7,
     "metadata": {},
     "output_type": "execute_result"
    },
    {
     "name": "stdout",
     "output_type": "stream",
     "text": [
      "EX_cynt_e\n"
     ]
    },
    {
     "data": {
      "text/plain": [
       "'EX_cpd00069_e0'"
      ]
     },
     "execution_count": 7,
     "metadata": {},
     "output_type": "execute_result"
    },
    {
     "data": {
      "text/plain": [
       "'tyr__L'"
      ]
     },
     "execution_count": 7,
     "metadata": {},
     "output_type": "execute_result"
    },
    {
     "name": "stdout",
     "output_type": "stream",
     "text": [
      "EX_tyr__L_c\n"
     ]
    },
    {
     "data": {
      "text/plain": [
       "'tyr__L'"
      ]
     },
     "execution_count": 7,
     "metadata": {},
     "output_type": "execute_result"
    },
    {
     "name": "stdout",
     "output_type": "stream",
     "text": [
      "EX_tyr__L_e\n"
     ]
    },
    {
     "data": {
      "text/plain": [
       "'EX_cpd00205_e0'"
      ]
     },
     "execution_count": 7,
     "metadata": {},
     "output_type": "execute_result"
    },
    {
     "data": {
      "text/plain": [
       "'k'"
      ]
     },
     "execution_count": 7,
     "metadata": {},
     "output_type": "execute_result"
    },
    {
     "name": "stdout",
     "output_type": "stream",
     "text": [
      "EX_k_c\n"
     ]
    },
    {
     "data": {
      "text/plain": [
       "'k'"
      ]
     },
     "execution_count": 7,
     "metadata": {},
     "output_type": "execute_result"
    },
    {
     "name": "stdout",
     "output_type": "stream",
     "text": [
      "EX_k_e\n"
     ]
    },
    {
     "data": {
      "text/plain": [
       "'EX_cpd00007_e0'"
      ]
     },
     "execution_count": 7,
     "metadata": {},
     "output_type": "execute_result"
    },
    {
     "data": {
      "text/plain": [
       "'o2'"
      ]
     },
     "execution_count": 7,
     "metadata": {},
     "output_type": "execute_result"
    },
    {
     "name": "stdout",
     "output_type": "stream",
     "text": [
      "EX_o2_c\n"
     ]
    },
    {
     "data": {
      "text/plain": [
       "'o2'"
      ]
     },
     "execution_count": 7,
     "metadata": {},
     "output_type": "execute_result"
    },
    {
     "name": "stdout",
     "output_type": "stream",
     "text": [
      "EX_o2_e\n"
     ]
    },
    {
     "data": {
      "text/plain": [
       "'EX_cpd03424_e0'"
      ]
     },
     "execution_count": 7,
     "metadata": {},
     "output_type": "execute_result"
    },
    {
     "data": {
      "text/plain": [
       "'EX_cpd00098_e0'"
      ]
     },
     "execution_count": 7,
     "metadata": {},
     "output_type": "execute_result"
    },
    {
     "data": {
      "text/plain": [
       "'chol'"
      ]
     },
     "execution_count": 7,
     "metadata": {},
     "output_type": "execute_result"
    },
    {
     "name": "stdout",
     "output_type": "stream",
     "text": [
      "EX_chol_c\n"
     ]
    },
    {
     "data": {
      "text/plain": [
       "'chol'"
      ]
     },
     "execution_count": 7,
     "metadata": {},
     "output_type": "execute_result"
    },
    {
     "name": "stdout",
     "output_type": "stream",
     "text": [
      "EX_chol_e\n"
     ]
    },
    {
     "data": {
      "text/plain": [
       "'EX_cpd11592_e0'"
      ]
     },
     "execution_count": 7,
     "metadata": {},
     "output_type": "execute_result"
    },
    {
     "data": {
      "text/plain": [
       "'gly_glu__L'"
      ]
     },
     "execution_count": 7,
     "metadata": {},
     "output_type": "execute_result"
    },
    {
     "name": "stdout",
     "output_type": "stream",
     "text": [
      "EX_gly_glu__L_c\n"
     ]
    },
    {
     "data": {
      "text/plain": [
       "'gly_glu__L'"
      ]
     },
     "execution_count": 7,
     "metadata": {},
     "output_type": "execute_result"
    },
    {
     "name": "stdout",
     "output_type": "stream",
     "text": [
      "EX_gly_glu__L_e\n"
     ]
    },
    {
     "data": {
      "text/plain": [
       "'EX_cpd00156_e0'"
      ]
     },
     "execution_count": 7,
     "metadata": {},
     "output_type": "execute_result"
    },
    {
     "data": {
      "text/plain": [
       "'val__L'"
      ]
     },
     "execution_count": 7,
     "metadata": {},
     "output_type": "execute_result"
    },
    {
     "name": "stdout",
     "output_type": "stream",
     "text": [
      "EX_val__L_c\n"
     ]
    },
    {
     "data": {
      "text/plain": [
       "'val__L'"
      ]
     },
     "execution_count": 7,
     "metadata": {},
     "output_type": "execute_result"
    },
    {
     "name": "stdout",
     "output_type": "stream",
     "text": [
      "EX_val__L_e\n"
     ]
    },
    {
     "data": {
      "text/plain": [
       "'EX_cpd11587_e0'"
      ]
     },
     "execution_count": 7,
     "metadata": {},
     "output_type": "execute_result"
    },
    {
     "data": {
      "text/plain": [
       "'ala_L_gln__L'"
      ]
     },
     "execution_count": 7,
     "metadata": {},
     "output_type": "execute_result"
    },
    {
     "name": "stdout",
     "output_type": "stream",
     "text": [
      "EX_ala_L_gln__L_c\n"
     ]
    },
    {
     "data": {
      "text/plain": [
       "'ala_L_gln__L'"
      ]
     },
     "execution_count": 7,
     "metadata": {},
     "output_type": "execute_result"
    },
    {
     "name": "stdout",
     "output_type": "stream",
     "text": [
      "EX_ala_L_gln__L_e\n"
     ]
    },
    {
     "data": {
      "text/plain": [
       "'EX_cpd00092_e0'"
      ]
     },
     "execution_count": 7,
     "metadata": {},
     "output_type": "execute_result"
    },
    {
     "data": {
      "text/plain": [
       "'ura'"
      ]
     },
     "execution_count": 7,
     "metadata": {},
     "output_type": "execute_result"
    },
    {
     "name": "stdout",
     "output_type": "stream",
     "text": [
      "EX_ura_c\n"
     ]
    },
    {
     "data": {
      "text/plain": [
       "'ura'"
      ]
     },
     "execution_count": 7,
     "metadata": {},
     "output_type": "execute_result"
    },
    {
     "name": "stdout",
     "output_type": "stream",
     "text": [
      "EX_ura_e\n"
     ]
    },
    {
     "data": {
      "text/plain": [
       "'EX_cpd11590_e0'"
      ]
     },
     "execution_count": 7,
     "metadata": {},
     "output_type": "execute_result"
    },
    {
     "data": {
      "text/plain": [
       "'met_L_ala__L'"
      ]
     },
     "execution_count": 7,
     "metadata": {},
     "output_type": "execute_result"
    },
    {
     "name": "stdout",
     "output_type": "stream",
     "text": [
      "EX_met_L_ala__L_c\n"
     ]
    },
    {
     "data": {
      "text/plain": [
       "'met_L_ala__L'"
      ]
     },
     "execution_count": 7,
     "metadata": {},
     "output_type": "execute_result"
    },
    {
     "name": "stdout",
     "output_type": "stream",
     "text": [
      "EX_met_L_ala__L_e\n"
     ]
    },
    {
     "data": {
      "text/plain": [
       "'EX_cpd11581_e0'"
      ]
     },
     "execution_count": 7,
     "metadata": {},
     "output_type": "execute_result"
    },
    {
     "data": {
      "text/plain": [
       "'gly_asn__L'"
      ]
     },
     "execution_count": 7,
     "metadata": {},
     "output_type": "execute_result"
    },
    {
     "name": "stdout",
     "output_type": "stream",
     "text": [
      "EX_gly_asn__L_e\n"
     ]
    },
    {
     "data": {
      "text/plain": [
       "'gly_asn__L'"
      ]
     },
     "execution_count": 7,
     "metadata": {},
     "output_type": "execute_result"
    },
    {
     "name": "stdout",
     "output_type": "stream",
     "text": [
      "EX_gly_asn__L_c\n"
     ]
    },
    {
     "data": {
      "text/plain": [
       "'EX_cpd15499_e0'"
      ]
     },
     "execution_count": 7,
     "metadata": {},
     "output_type": "execute_result"
    },
    {
     "data": {
      "text/plain": [
       "'mql8'"
      ]
     },
     "execution_count": 7,
     "metadata": {},
     "output_type": "execute_result"
    },
    {
     "name": "stdout",
     "output_type": "stream",
     "text": [
      "EX_mql8_c\n"
     ]
    },
    {
     "data": {
      "text/plain": [
       "'mql8'"
      ]
     },
     "execution_count": 7,
     "metadata": {},
     "output_type": "execute_result"
    },
    {
     "name": "stdout",
     "output_type": "stream",
     "text": [
      "EX_mql8_e\n"
     ]
    },
    {
     "data": {
      "text/plain": [
       "'EX_cpd15500_e0'"
      ]
     },
     "execution_count": 7,
     "metadata": {},
     "output_type": "execute_result"
    },
    {
     "data": {
      "text/plain": [
       "'mqn8'"
      ]
     },
     "execution_count": 7,
     "metadata": {},
     "output_type": "execute_result"
    },
    {
     "name": "stdout",
     "output_type": "stream",
     "text": [
      "EX_mqn8_c\n"
     ]
    },
    {
     "data": {
      "text/plain": [
       "'mqn8'"
      ]
     },
     "execution_count": 7,
     "metadata": {},
     "output_type": "execute_result"
    },
    {
     "name": "stdout",
     "output_type": "stream",
     "text": [
      "EX_mqn8_e\n"
     ]
    },
    {
     "data": {
      "text/plain": [
       "'EX_cpd01080_e0'"
      ]
     },
     "execution_count": 7,
     "metadata": {},
     "output_type": "execute_result"
    },
    {
     "data": {
      "text/plain": [
       "'ocdca'"
      ]
     },
     "execution_count": 7,
     "metadata": {},
     "output_type": "execute_result"
    },
    {
     "name": "stdout",
     "output_type": "stream",
     "text": [
      "EX_ocdca_c\n"
     ]
    },
    {
     "data": {
      "text/plain": [
       "'ocdca'"
      ]
     },
     "execution_count": 7,
     "metadata": {},
     "output_type": "execute_result"
    },
    {
     "name": "stdout",
     "output_type": "stream",
     "text": [
      "EX_ocdca_e\n"
     ]
    },
    {
     "data": {
      "text/plain": [
       "'EX_cpd11584_e0'"
      ]
     },
     "execution_count": 7,
     "metadata": {},
     "output_type": "execute_result"
    },
    {
     "data": {
      "text/plain": [
       "'EX_cpd00305_e0'"
      ]
     },
     "execution_count": 7,
     "metadata": {},
     "output_type": "execute_result"
    },
    {
     "data": {
      "text/plain": [
       "'thm'"
      ]
     },
     "execution_count": 7,
     "metadata": {},
     "output_type": "execute_result"
    },
    {
     "name": "stdout",
     "output_type": "stream",
     "text": [
      "EX_thm_c\n"
     ]
    },
    {
     "data": {
      "text/plain": [
       "'thm'"
      ]
     },
     "execution_count": 7,
     "metadata": {},
     "output_type": "execute_result"
    },
    {
     "name": "stdout",
     "output_type": "stream",
     "text": [
      "EX_thm_e\n"
     ]
    },
    {
     "data": {
      "text/plain": [
       "'EX_cpd00121_e0'"
      ]
     },
     "execution_count": 7,
     "metadata": {},
     "output_type": "execute_result"
    },
    {
     "data": {
      "text/plain": [
       "'inost'"
      ]
     },
     "execution_count": 7,
     "metadata": {},
     "output_type": "execute_result"
    },
    {
     "name": "stdout",
     "output_type": "stream",
     "text": [
      "EX_inost_c\n"
     ]
    },
    {
     "data": {
      "text/plain": [
       "'inost'"
      ]
     },
     "execution_count": 7,
     "metadata": {},
     "output_type": "execute_result"
    },
    {
     "name": "stdout",
     "output_type": "stream",
     "text": [
      "EX_inost_e\n"
     ]
    },
    {
     "data": {
      "text/plain": [
       "'EX_cpd00011_e0'"
      ]
     },
     "execution_count": 7,
     "metadata": {},
     "output_type": "execute_result"
    },
    {
     "data": {
      "text/plain": [
       "'co2'"
      ]
     },
     "execution_count": 7,
     "metadata": {},
     "output_type": "execute_result"
    },
    {
     "name": "stdout",
     "output_type": "stream",
     "text": [
      "EX_co2_c\n"
     ]
    },
    {
     "data": {
      "text/plain": [
       "'co2'"
      ]
     },
     "execution_count": 7,
     "metadata": {},
     "output_type": "execute_result"
    },
    {
     "name": "stdout",
     "output_type": "stream",
     "text": [
      "EX_co2_e\n"
     ]
    },
    {
     "data": {
      "text/plain": [
       "'EX_cpd00099_e0'"
      ]
     },
     "execution_count": 7,
     "metadata": {},
     "output_type": "execute_result"
    },
    {
     "data": {
      "text/plain": [
       "'cl'"
      ]
     },
     "execution_count": 7,
     "metadata": {},
     "output_type": "execute_result"
    },
    {
     "name": "stdout",
     "output_type": "stream",
     "text": [
      "EX_cl_c\n"
     ]
    },
    {
     "data": {
      "text/plain": [
       "'cl'"
      ]
     },
     "execution_count": 7,
     "metadata": {},
     "output_type": "execute_result"
    },
    {
     "name": "stdout",
     "output_type": "stream",
     "text": [
      "EX_cl_e\n"
     ]
    },
    {
     "data": {
      "text/plain": [
       "'EX_cpd00063_e0'"
      ]
     },
     "execution_count": 7,
     "metadata": {},
     "output_type": "execute_result"
    },
    {
     "data": {
      "text/plain": [
       "'ca2'"
      ]
     },
     "execution_count": 7,
     "metadata": {},
     "output_type": "execute_result"
    },
    {
     "name": "stdout",
     "output_type": "stream",
     "text": [
      "EX_ca2_c\n"
     ]
    },
    {
     "data": {
      "text/plain": [
       "'ca2'"
      ]
     },
     "execution_count": 7,
     "metadata": {},
     "output_type": "execute_result"
    },
    {
     "name": "stdout",
     "output_type": "stream",
     "text": [
      "EX_ca2_e\n"
     ]
    },
    {
     "data": {
      "text/plain": [
       "'EX_cpd00030_e0'"
      ]
     },
     "execution_count": 7,
     "metadata": {},
     "output_type": "execute_result"
    },
    {
     "data": {
      "text/plain": [
       "'mn2'"
      ]
     },
     "execution_count": 7,
     "metadata": {},
     "output_type": "execute_result"
    },
    {
     "name": "stdout",
     "output_type": "stream",
     "text": [
      "EX_mn2_c\n"
     ]
    },
    {
     "data": {
      "text/plain": [
       "'mn2'"
      ]
     },
     "execution_count": 7,
     "metadata": {},
     "output_type": "execute_result"
    },
    {
     "name": "stdout",
     "output_type": "stream",
     "text": [
      "EX_mn2_e\n"
     ]
    },
    {
     "data": {
      "text/plain": [
       "{<Reaction EX_asp__L_e at 0x1165bbba8>,\n",
       " <Reaction EX_cpd11583_e0 at 0x1165ccb38>,\n",
       " <Reaction EX_cpd15604_e0 at 0x1165ccfd0>,\n",
       " <Reaction EX_cpd15605_e0 at 0x1165bb8d0>,\n",
       " <Reaction EX_glc__D_e at 0x1165ccc50>,\n",
       " <Reaction EX_h2o_e at 0x1165ae2b0>,\n",
       " <Reaction EX_metsox_S__L_e at 0x1165ccac8>,\n",
       " <Reaction EX_nh4_e at 0x1165aeb70>,\n",
       " <Reaction EX_orn_c at 0x116583cf8>,\n",
       " <Reaction EX_zn2_c at 0x1165bb470>}"
      ]
     },
     "execution_count": 7,
     "metadata": {},
     "output_type": "execute_result"
    }
   ],
   "source": [
    "\n",
    "not_found=[]\n",
    "ex_met_list=[]\n",
    "for ex in model.exchanges:\n",
    "   # if ex.id.startswith(\"EX\"):\n",
    "    ex.id\n",
    "    pre, seed, suff=ex.id.split(\"_\")\n",
    "    #if seed1.startswith(\"cpd\"): #no compartment\n",
    "    #    seed=seed1\n",
    "    #else: #with compartment\n",
    "    #    seed, suff=seed1.rsplit(\"_\", 1)\n",
    "        \n",
    "    for met in model.metabolites:\n",
    "        if seed in met.annotation.values() and \"bigg.metabolite\" in met.annotation.keys():\n",
    "            #try:\n",
    "            if type(met.annotation[\"bigg.metabolite\"]) == list:\n",
    "                ex_met_list.append(ex)\n",
    "                print(\"lissst\", met.annotation[\"bigg.metabolite\"])\n",
    "                for bigg in ecoli_model.metabolites:\n",
    "                    identif, compartment= bigg.id.rsplit(\"_\", 1)\n",
    "                        #print(\"ecolimet:\",identif)\n",
    "                    if identif in met.annotation[\"bigg.metabolite\"]:\n",
    "                        print(\"from list\", identif, met.annotation[\"bigg.metabolite\"])\n",
    "                        ex.id=\"EX_\"+identif+\"_\"+ met.compartment[0]  \n",
    "                        print(\"From list:\", ex.id)\n",
    "                        model.repair()\n",
    "                            \n",
    "                    else:\n",
    "                        not_found.append(ex.id)\n",
    "            else:\n",
    "                met.annotation[\"bigg.metabolite\"]\n",
    "                ex.id=\"EX_\"+met.annotation[\"bigg.metabolite\"]+\"_\"+ met.compartment[0]     \n",
    "                model.repair()\n",
    "                print(ex.id)\n",
    "            #except:\n",
    "             #   pass\n",
    "\n",
    "                \n",
    "\n",
    "                \n",
    "mult_bigg=set(ex_met_list)\n",
    "mult_bigg\n"
   ]
  },
  {
   "cell_type": "code",
   "execution_count": null,
   "metadata": {},
   "outputs": [],
   "source": [
    "write_sbml_model(model, \"/Users/lizrad/Dev/iVnat/iVnat.xml\")"
   ]
  },
  {
   "cell_type": "code",
   "execution_count": 29,
   "metadata": {},
   "outputs": [],
   "source": [
    "# generate a json file to load into Escher\n",
    "cobra.io.save_json_model(model, 'iVnat.json')\n"
   ]
  },
  {
   "cell_type": "code",
   "execution_count": null,
   "metadata": {},
   "outputs": [],
   "source": [
    "from escher import Builder\n",
    "b = Builder(map_name='iJO1366.Central metabolism')\n",
    "b.display_in_browser()"
   ]
  },
  {
   "cell_type": "code",
   "execution_count": null,
   "metadata": {},
   "outputs": [],
   "source": [
    "escher.list_available_maps()"
   ]
  },
  {
   "cell_type": "code",
   "execution_count": 27,
   "metadata": {},
   "outputs": [
    {
     "name": "stdout",
     "output_type": "stream",
     "text": [
      "\n",
      "Note: You must interrupt the kernel to end this command\n",
      "\n",
      "Serving to http://127.0.0.1:7655/\n",
      "[Ctrl-C to exit from terminal, or Ctrl-M i i to interrupt notebook kernel]\n"
     ]
    },
    {
     "name": "stderr",
     "output_type": "stream",
     "text": [
      "127.0.0.1 - - [13/Sep/2018 15:00:40] \"GET / HTTP/1.1\" 200 -\n"
     ]
    },
    {
     "name": "stdout",
     "output_type": "stream",
     "text": [
      "\n",
      "stopping Server...\n"
     ]
    }
   ],
   "source": [
    "from escher import Builder\n",
    "maps = Builder(model=model, map_name=\"iJO1366.Central metabolism\")\n",
    "\n",
    "maps.display_in_browser()"
   ]
  },
  {
   "cell_type": "markdown",
   "metadata": {},
   "source": [
    "### How many reaction and metabolite has chebi annotation"
   ]
  },
  {
   "cell_type": "code",
   "execution_count": null,
   "metadata": {},
   "outputs": [],
   "source": [
    "count=0\n",
    "count_list=0\n",
    "for met in model.metabolites:\n",
    "    if \"chebi\" in met.annotation.keys():\n",
    "        print(met.id, met.annotation[\"chebi\"])\n",
    "        count+=1\n",
    "        if type(met.annotation[\"chebi\"])==list:\n",
    "            count_list+=1\n",
    "            \n",
    "count\n",
    "len(model.metabolites)\n",
    "count_list"
   ]
  },
  {
   "cell_type": "code",
   "execution_count": null,
   "metadata": {},
   "outputs": [],
   "source": [
    "rcount=0\n",
    "rcount_list=0\n",
    "for reac in model.reactions:\n",
    "    if \"chebi\" in reac.annotation.keys():\n",
    "        print(reac.id, reac.annotation[\"chebi\"])\n",
    "        rcount+=1\n",
    "        if type(reac.annotation[\"chebi\"])==list:\n",
    "            rcount_list+=1\n",
    "            \n",
    "rcount\n",
    "len(model.reactions)\n",
    "rcount_list"
   ]
  },
  {
   "cell_type": "markdown",
   "metadata": {},
   "source": [
    "### Upload the modelseed database with the compound and reaction aliases"
   ]
  },
  {
   "cell_type": "code",
   "execution_count": 8,
   "metadata": {},
   "outputs": [
    {
     "data": {
      "text/html": [
       "<div>\n",
       "<style scoped>\n",
       "    .dataframe tbody tr th:only-of-type {\n",
       "        vertical-align: middle;\n",
       "    }\n",
       "\n",
       "    .dataframe tbody tr th {\n",
       "        vertical-align: top;\n",
       "    }\n",
       "\n",
       "    .dataframe thead th {\n",
       "        text-align: right;\n",
       "    }\n",
       "</style>\n",
       "<table border=\"1\" class=\"dataframe\">\n",
       "  <thead>\n",
       "    <tr style=\"text-align: right;\">\n",
       "      <th></th>\n",
       "      <th>MS ID</th>\n",
       "      <th>Old MS ID</th>\n",
       "      <th>External ID</th>\n",
       "      <th>Source</th>\n",
       "    </tr>\n",
       "  </thead>\n",
       "  <tbody>\n",
       "    <tr>\n",
       "      <th>0</th>\n",
       "      <td>cpd00201</td>\n",
       "      <td>cpd00201</td>\n",
       "      <td>10fthf</td>\n",
       "      <td>BiGG1</td>\n",
       "    </tr>\n",
       "    <tr>\n",
       "      <th>1</th>\n",
       "      <td>cpd11255</td>\n",
       "      <td>NaN</td>\n",
       "      <td>12d3k5m</td>\n",
       "      <td>BiGG1</td>\n",
       "    </tr>\n",
       "    <tr>\n",
       "      <th>2</th>\n",
       "      <td>cpd11422</td>\n",
       "      <td>cpd11422</td>\n",
       "      <td>12dag3p</td>\n",
       "      <td>BiGG1</td>\n",
       "    </tr>\n",
       "    <tr>\n",
       "      <th>3</th>\n",
       "      <td>cpd11422</td>\n",
       "      <td>NaN</td>\n",
       "      <td>12dag3p_BS</td>\n",
       "      <td>BiGG1</td>\n",
       "    </tr>\n",
       "    <tr>\n",
       "      <th>4</th>\n",
       "      <td>cpd11422</td>\n",
       "      <td>NaN</td>\n",
       "      <td>12dag3p_PA</td>\n",
       "      <td>BiGG1</td>\n",
       "    </tr>\n",
       "    <tr>\n",
       "      <th>5</th>\n",
       "      <td>cpd19004</td>\n",
       "      <td>cpd11423</td>\n",
       "      <td>12dgr</td>\n",
       "      <td>BiGG1</td>\n",
       "    </tr>\n",
       "    <tr>\n",
       "      <th>6</th>\n",
       "      <td>cpd15306</td>\n",
       "      <td>cpd15306</td>\n",
       "      <td>12dgr120</td>\n",
       "      <td>BiGG1</td>\n",
       "    </tr>\n",
       "    <tr>\n",
       "      <th>7</th>\n",
       "      <td>cpd15307</td>\n",
       "      <td>cpd15307</td>\n",
       "      <td>12dgr140</td>\n",
       "      <td>BiGG1</td>\n",
       "    </tr>\n",
       "    <tr>\n",
       "      <th>8</th>\n",
       "      <td>cpd15308</td>\n",
       "      <td>cpd15308</td>\n",
       "      <td>12dgr141</td>\n",
       "      <td>BiGG1</td>\n",
       "    </tr>\n",
       "    <tr>\n",
       "      <th>9</th>\n",
       "      <td>cpd15309</td>\n",
       "      <td>cpd15309</td>\n",
       "      <td>12dgr160</td>\n",
       "      <td>BiGG1</td>\n",
       "    </tr>\n",
       "    <tr>\n",
       "      <th>10</th>\n",
       "      <td>cpd15310</td>\n",
       "      <td>cpd15310</td>\n",
       "      <td>12dgr161</td>\n",
       "      <td>BiGG1</td>\n",
       "    </tr>\n",
       "    <tr>\n",
       "      <th>11</th>\n",
       "      <td>cpd15311</td>\n",
       "      <td>cpd15311</td>\n",
       "      <td>12dgr180</td>\n",
       "      <td>BiGG1</td>\n",
       "    </tr>\n",
       "    <tr>\n",
       "      <th>12</th>\n",
       "      <td>cpd15312</td>\n",
       "      <td>cpd15312</td>\n",
       "      <td>12dgr181</td>\n",
       "      <td>BiGG1</td>\n",
       "    </tr>\n",
       "    <tr>\n",
       "      <th>13</th>\n",
       "      <td>cpd29706</td>\n",
       "      <td>NaN</td>\n",
       "      <td>12dgr2_ST</td>\n",
       "      <td>BiGG1</td>\n",
       "    </tr>\n",
       "    <tr>\n",
       "      <th>14</th>\n",
       "      <td>cpd11423</td>\n",
       "      <td>NaN</td>\n",
       "      <td>12dgr_BS</td>\n",
       "      <td>BiGG1</td>\n",
       "    </tr>\n",
       "    <tr>\n",
       "      <th>15</th>\n",
       "      <td>cpd19004</td>\n",
       "      <td>cpd11423</td>\n",
       "      <td>12dgr_EC</td>\n",
       "      <td>BiGG1</td>\n",
       "    </tr>\n",
       "    <tr>\n",
       "      <th>16</th>\n",
       "      <td>cpd16060</td>\n",
       "      <td>cpd16060</td>\n",
       "      <td>12dgr_SA</td>\n",
       "      <td>BiGG1</td>\n",
       "    </tr>\n",
       "    <tr>\n",
       "      <th>17</th>\n",
       "      <td>cpd15192</td>\n",
       "      <td>cpd15192</td>\n",
       "      <td>12dgr_SC</td>\n",
       "      <td>BiGG1</td>\n",
       "    </tr>\n",
       "    <tr>\n",
       "      <th>18</th>\n",
       "      <td>cpd01861</td>\n",
       "      <td>cpd01861</td>\n",
       "      <td>12ppd-R</td>\n",
       "      <td>BiGG1</td>\n",
       "    </tr>\n",
       "    <tr>\n",
       "      <th>19</th>\n",
       "      <td>cpd19024</td>\n",
       "      <td>cpd00453</td>\n",
       "      <td>12ppd-S</td>\n",
       "      <td>BiGG1</td>\n",
       "    </tr>\n",
       "    <tr>\n",
       "      <th>20</th>\n",
       "      <td>cpd11791</td>\n",
       "      <td>cpd11791</td>\n",
       "      <td>13BDglcn</td>\n",
       "      <td>BiGG1</td>\n",
       "    </tr>\n",
       "    <tr>\n",
       "      <th>21</th>\n",
       "      <td>cpd15303</td>\n",
       "      <td>cpd15303</td>\n",
       "      <td>13BDglcnb</td>\n",
       "      <td>BiGG1</td>\n",
       "    </tr>\n",
       "    <tr>\n",
       "      <th>22</th>\n",
       "      <td>cpd00726</td>\n",
       "      <td>cpd00726</td>\n",
       "      <td>13dampp</td>\n",
       "      <td>BiGG1</td>\n",
       "    </tr>\n",
       "    <tr>\n",
       "      <th>23</th>\n",
       "      <td>cpd00203</td>\n",
       "      <td>cpd00203</td>\n",
       "      <td>13dpg</td>\n",
       "      <td>BiGG1</td>\n",
       "    </tr>\n",
       "    <tr>\n",
       "      <th>24</th>\n",
       "      <td>cpd12085</td>\n",
       "      <td>NaN</td>\n",
       "      <td>14bxyl</td>\n",
       "      <td>BiGG1</td>\n",
       "    </tr>\n",
       "    <tr>\n",
       "      <th>25</th>\n",
       "      <td>cpd11735</td>\n",
       "      <td>cpd11735</td>\n",
       "      <td>14glucan</td>\n",
       "      <td>BiGG1</td>\n",
       "    </tr>\n",
       "    <tr>\n",
       "      <th>26</th>\n",
       "      <td>cpd11735</td>\n",
       "      <td>cpd11735</td>\n",
       "      <td>14glun</td>\n",
       "      <td>BiGG1</td>\n",
       "    </tr>\n",
       "    <tr>\n",
       "      <th>27</th>\n",
       "      <td>cpd01155</td>\n",
       "      <td>cpd01155</td>\n",
       "      <td>15dap</td>\n",
       "      <td>BiGG1</td>\n",
       "    </tr>\n",
       "    <tr>\n",
       "      <th>28</th>\n",
       "      <td>cpd12121</td>\n",
       "      <td>cpd12121</td>\n",
       "      <td>16BDglcn</td>\n",
       "      <td>BiGG1</td>\n",
       "    </tr>\n",
       "    <tr>\n",
       "      <th>29</th>\n",
       "      <td>cpd00910</td>\n",
       "      <td>cpd00910</td>\n",
       "      <td>1Dgali</td>\n",
       "      <td>BiGG1</td>\n",
       "    </tr>\n",
       "    <tr>\n",
       "      <th>...</th>\n",
       "      <td>...</td>\n",
       "      <td>...</td>\n",
       "      <td>...</td>\n",
       "      <td>...</td>\n",
       "    </tr>\n",
       "    <tr>\n",
       "      <th>39286</th>\n",
       "      <td>cpd03708</td>\n",
       "      <td>NaN</td>\n",
       "      <td>24dhhed</td>\n",
       "      <td>BiGG</td>\n",
       "    </tr>\n",
       "    <tr>\n",
       "      <th>39287</th>\n",
       "      <td>cpd03727</td>\n",
       "      <td>NaN</td>\n",
       "      <td>ectoine</td>\n",
       "      <td>BiGG</td>\n",
       "    </tr>\n",
       "    <tr>\n",
       "      <th>39288</th>\n",
       "      <td>cpd01132</td>\n",
       "      <td>NaN</td>\n",
       "      <td>pur</td>\n",
       "      <td>BiGG</td>\n",
       "    </tr>\n",
       "    <tr>\n",
       "      <th>39289</th>\n",
       "      <td>cpd01126</td>\n",
       "      <td>NaN</td>\n",
       "      <td>nona</td>\n",
       "      <td>BiGG</td>\n",
       "    </tr>\n",
       "    <tr>\n",
       "      <th>39290</th>\n",
       "      <td>cpd01098</td>\n",
       "      <td>NaN</td>\n",
       "      <td>bilea</td>\n",
       "      <td>BiGG</td>\n",
       "    </tr>\n",
       "    <tr>\n",
       "      <th>39291</th>\n",
       "      <td>cpd15608</td>\n",
       "      <td>NaN</td>\n",
       "      <td>hpa</td>\n",
       "      <td>BiGG</td>\n",
       "    </tr>\n",
       "    <tr>\n",
       "      <th>39292</th>\n",
       "      <td>cpd15658</td>\n",
       "      <td>NaN</td>\n",
       "      <td>srch</td>\n",
       "      <td>BiGG</td>\n",
       "    </tr>\n",
       "    <tr>\n",
       "      <th>39293</th>\n",
       "      <td>cpd15643</td>\n",
       "      <td>NaN</td>\n",
       "      <td>udca</td>\n",
       "      <td>BiGG</td>\n",
       "    </tr>\n",
       "    <tr>\n",
       "      <th>39294</th>\n",
       "      <td>cpd15640</td>\n",
       "      <td>NaN</td>\n",
       "      <td>trdca</td>\n",
       "      <td>BiGG</td>\n",
       "    </tr>\n",
       "    <tr>\n",
       "      <th>39295</th>\n",
       "      <td>cpd03535</td>\n",
       "      <td>NaN</td>\n",
       "      <td>argp</td>\n",
       "      <td>BiGG</td>\n",
       "    </tr>\n",
       "    <tr>\n",
       "      <th>39296</th>\n",
       "      <td>cpd03442</td>\n",
       "      <td>NaN</td>\n",
       "      <td>2hpmhmbq</td>\n",
       "      <td>BiGG</td>\n",
       "    </tr>\n",
       "    <tr>\n",
       "      <th>39297</th>\n",
       "      <td>cpd03441</td>\n",
       "      <td>NaN</td>\n",
       "      <td>2hpmmbq</td>\n",
       "      <td>BiGG</td>\n",
       "    </tr>\n",
       "    <tr>\n",
       "      <th>39298</th>\n",
       "      <td>cpd03440</td>\n",
       "      <td>NaN</td>\n",
       "      <td>2hp6mbq</td>\n",
       "      <td>BiGG</td>\n",
       "    </tr>\n",
       "    <tr>\n",
       "      <th>39299</th>\n",
       "      <td>cpd03326</td>\n",
       "      <td>NaN</td>\n",
       "      <td>2hh24dd</td>\n",
       "      <td>BiGG</td>\n",
       "    </tr>\n",
       "    <tr>\n",
       "      <th>39300</th>\n",
       "      <td>cpd29727</td>\n",
       "      <td>NaN</td>\n",
       "      <td>udcpg</td>\n",
       "      <td>BiGG</td>\n",
       "    </tr>\n",
       "    <tr>\n",
       "      <th>39301</th>\n",
       "      <td>cpd29728</td>\n",
       "      <td>NaN</td>\n",
       "      <td>udcpgr</td>\n",
       "      <td>BiGG</td>\n",
       "    </tr>\n",
       "    <tr>\n",
       "      <th>39302</th>\n",
       "      <td>cpd29726</td>\n",
       "      <td>NaN</td>\n",
       "      <td>ps2_ST</td>\n",
       "      <td>BiGG</td>\n",
       "    </tr>\n",
       "    <tr>\n",
       "      <th>39303</th>\n",
       "      <td>cpd29723</td>\n",
       "      <td>NaN</td>\n",
       "      <td>peptido_ST</td>\n",
       "      <td>BiGG</td>\n",
       "    </tr>\n",
       "    <tr>\n",
       "      <th>39304</th>\n",
       "      <td>cpd29724</td>\n",
       "      <td>NaN</td>\n",
       "      <td>pg2_ST</td>\n",
       "      <td>BiGG</td>\n",
       "    </tr>\n",
       "    <tr>\n",
       "      <th>39305</th>\n",
       "      <td>cpd29721</td>\n",
       "      <td>NaN</td>\n",
       "      <td>pa2_ST</td>\n",
       "      <td>BiGG</td>\n",
       "    </tr>\n",
       "    <tr>\n",
       "      <th>39306</th>\n",
       "      <td>cpd29722</td>\n",
       "      <td>NaN</td>\n",
       "      <td>pe2_ST</td>\n",
       "      <td>BiGG</td>\n",
       "    </tr>\n",
       "    <tr>\n",
       "      <th>39307</th>\n",
       "      <td>cpd29729</td>\n",
       "      <td>NaN</td>\n",
       "      <td>udcpgrm</td>\n",
       "      <td>BiGG</td>\n",
       "    </tr>\n",
       "    <tr>\n",
       "      <th>39308</th>\n",
       "      <td>cpd29732</td>\n",
       "      <td>NaN</td>\n",
       "      <td>2dmmq7</td>\n",
       "      <td>BiGG</td>\n",
       "    </tr>\n",
       "    <tr>\n",
       "      <th>39309</th>\n",
       "      <td>cpd29733</td>\n",
       "      <td>NaN</td>\n",
       "      <td>fmnRD</td>\n",
       "      <td>BiGG</td>\n",
       "    </tr>\n",
       "    <tr>\n",
       "      <th>39310</th>\n",
       "      <td>cpd29730</td>\n",
       "      <td>NaN</td>\n",
       "      <td>udcpo4</td>\n",
       "      <td>BiGG</td>\n",
       "    </tr>\n",
       "    <tr>\n",
       "      <th>39311</th>\n",
       "      <td>cpd29731</td>\n",
       "      <td>NaN</td>\n",
       "      <td>udcpo5</td>\n",
       "      <td>BiGG</td>\n",
       "    </tr>\n",
       "    <tr>\n",
       "      <th>39312</th>\n",
       "      <td>cpd29706</td>\n",
       "      <td>NaN</td>\n",
       "      <td>12dgr2_ST</td>\n",
       "      <td>BiGG</td>\n",
       "    </tr>\n",
       "    <tr>\n",
       "      <th>39313</th>\n",
       "      <td>cpd29712</td>\n",
       "      <td>NaN</td>\n",
       "      <td>clpn2_ST</td>\n",
       "      <td>BiGG</td>\n",
       "    </tr>\n",
       "    <tr>\n",
       "      <th>39314</th>\n",
       "      <td>cpd05190</td>\n",
       "      <td>NaN</td>\n",
       "      <td>djenk</td>\n",
       "      <td>BiGG</td>\n",
       "    </tr>\n",
       "    <tr>\n",
       "      <th>39315</th>\n",
       "      <td>cpd07061</td>\n",
       "      <td>NaN</td>\n",
       "      <td>prolb</td>\n",
       "      <td>BiGG</td>\n",
       "    </tr>\n",
       "  </tbody>\n",
       "</table>\n",
       "<p>39316 rows × 4 columns</p>\n",
       "</div>"
      ],
      "text/plain": [
       "          MS ID Old MS ID External ID Source\n",
       "0      cpd00201  cpd00201      10fthf  BiGG1\n",
       "1      cpd11255       NaN     12d3k5m  BiGG1\n",
       "2      cpd11422  cpd11422     12dag3p  BiGG1\n",
       "3      cpd11422       NaN  12dag3p_BS  BiGG1\n",
       "4      cpd11422       NaN  12dag3p_PA  BiGG1\n",
       "5      cpd19004  cpd11423       12dgr  BiGG1\n",
       "6      cpd15306  cpd15306    12dgr120  BiGG1\n",
       "7      cpd15307  cpd15307    12dgr140  BiGG1\n",
       "8      cpd15308  cpd15308    12dgr141  BiGG1\n",
       "9      cpd15309  cpd15309    12dgr160  BiGG1\n",
       "10     cpd15310  cpd15310    12dgr161  BiGG1\n",
       "11     cpd15311  cpd15311    12dgr180  BiGG1\n",
       "12     cpd15312  cpd15312    12dgr181  BiGG1\n",
       "13     cpd29706       NaN   12dgr2_ST  BiGG1\n",
       "14     cpd11423       NaN    12dgr_BS  BiGG1\n",
       "15     cpd19004  cpd11423    12dgr_EC  BiGG1\n",
       "16     cpd16060  cpd16060    12dgr_SA  BiGG1\n",
       "17     cpd15192  cpd15192    12dgr_SC  BiGG1\n",
       "18     cpd01861  cpd01861     12ppd-R  BiGG1\n",
       "19     cpd19024  cpd00453     12ppd-S  BiGG1\n",
       "20     cpd11791  cpd11791    13BDglcn  BiGG1\n",
       "21     cpd15303  cpd15303   13BDglcnb  BiGG1\n",
       "22     cpd00726  cpd00726     13dampp  BiGG1\n",
       "23     cpd00203  cpd00203       13dpg  BiGG1\n",
       "24     cpd12085       NaN      14bxyl  BiGG1\n",
       "25     cpd11735  cpd11735    14glucan  BiGG1\n",
       "26     cpd11735  cpd11735      14glun  BiGG1\n",
       "27     cpd01155  cpd01155       15dap  BiGG1\n",
       "28     cpd12121  cpd12121    16BDglcn  BiGG1\n",
       "29     cpd00910  cpd00910      1Dgali  BiGG1\n",
       "...         ...       ...         ...    ...\n",
       "39286  cpd03708       NaN     24dhhed   BiGG\n",
       "39287  cpd03727       NaN     ectoine   BiGG\n",
       "39288  cpd01132       NaN         pur   BiGG\n",
       "39289  cpd01126       NaN        nona   BiGG\n",
       "39290  cpd01098       NaN       bilea   BiGG\n",
       "39291  cpd15608       NaN         hpa   BiGG\n",
       "39292  cpd15658       NaN        srch   BiGG\n",
       "39293  cpd15643       NaN        udca   BiGG\n",
       "39294  cpd15640       NaN       trdca   BiGG\n",
       "39295  cpd03535       NaN        argp   BiGG\n",
       "39296  cpd03442       NaN    2hpmhmbq   BiGG\n",
       "39297  cpd03441       NaN     2hpmmbq   BiGG\n",
       "39298  cpd03440       NaN     2hp6mbq   BiGG\n",
       "39299  cpd03326       NaN     2hh24dd   BiGG\n",
       "39300  cpd29727       NaN       udcpg   BiGG\n",
       "39301  cpd29728       NaN      udcpgr   BiGG\n",
       "39302  cpd29726       NaN      ps2_ST   BiGG\n",
       "39303  cpd29723       NaN  peptido_ST   BiGG\n",
       "39304  cpd29724       NaN      pg2_ST   BiGG\n",
       "39305  cpd29721       NaN      pa2_ST   BiGG\n",
       "39306  cpd29722       NaN      pe2_ST   BiGG\n",
       "39307  cpd29729       NaN     udcpgrm   BiGG\n",
       "39308  cpd29732       NaN      2dmmq7   BiGG\n",
       "39309  cpd29733       NaN       fmnRD   BiGG\n",
       "39310  cpd29730       NaN      udcpo4   BiGG\n",
       "39311  cpd29731       NaN      udcpo5   BiGG\n",
       "39312  cpd29706       NaN   12dgr2_ST   BiGG\n",
       "39313  cpd29712       NaN    clpn2_ST   BiGG\n",
       "39314  cpd05190       NaN       djenk   BiGG\n",
       "39315  cpd07061       NaN       prolb   BiGG\n",
       "\n",
       "[39316 rows x 4 columns]"
      ]
     },
     "execution_count": 8,
     "metadata": {},
     "output_type": "execute_result"
    }
   ],
   "source": [
    "modelseed_met = read_csv(\"/Users/lizrad/Documents/Vibrio_folder/compound_aliases_modelseed.tsv\" , sep='\\t' , low_memory=False)\n",
    "modelseed_met"
   ]
  },
  {
   "cell_type": "code",
   "execution_count": 9,
   "metadata": {},
   "outputs": [
    {
     "data": {
      "text/html": [
       "<div>\n",
       "<style scoped>\n",
       "    .dataframe tbody tr th:only-of-type {\n",
       "        vertical-align: middle;\n",
       "    }\n",
       "\n",
       "    .dataframe tbody tr th {\n",
       "        vertical-align: top;\n",
       "    }\n",
       "\n",
       "    .dataframe thead th {\n",
       "        text-align: right;\n",
       "    }\n",
       "</style>\n",
       "<table border=\"1\" class=\"dataframe\">\n",
       "  <thead>\n",
       "    <tr style=\"text-align: right;\">\n",
       "      <th>MS ID</th>\n",
       "      <th>cpd00001</th>\n",
       "      <th>cpd00002</th>\n",
       "      <th>cpd00003</th>\n",
       "      <th>cpd00004</th>\n",
       "      <th>cpd00005</th>\n",
       "      <th>cpd00006</th>\n",
       "      <th>cpd00007</th>\n",
       "      <th>cpd00008</th>\n",
       "      <th>cpd00009</th>\n",
       "      <th>cpd00010</th>\n",
       "      <th>...</th>\n",
       "      <th>cpd29726</th>\n",
       "      <th>cpd29727</th>\n",
       "      <th>cpd29728</th>\n",
       "      <th>cpd29729</th>\n",
       "      <th>cpd29730</th>\n",
       "      <th>cpd29731</th>\n",
       "      <th>cpd29732</th>\n",
       "      <th>cpd29733</th>\n",
       "      <th>cpd30760</th>\n",
       "      <th>cpd30761</th>\n",
       "    </tr>\n",
       "  </thead>\n",
       "  <tbody>\n",
       "    <tr>\n",
       "      <th>External ID</th>\n",
       "      <td>[oh1]</td>\n",
       "      <td>[atp]</td>\n",
       "      <td>[nad]</td>\n",
       "      <td>[nadh]</td>\n",
       "      <td>[nadph]</td>\n",
       "      <td>[nadp]</td>\n",
       "      <td>[o2]</td>\n",
       "      <td>[adp]</td>\n",
       "      <td>[pi]</td>\n",
       "      <td>[coa]</td>\n",
       "      <td>...</td>\n",
       "      <td>[ps2_ST]</td>\n",
       "      <td>[udcpg]</td>\n",
       "      <td>[udcpgr]</td>\n",
       "      <td>[udcpgrm]</td>\n",
       "      <td>[udcpo4]</td>\n",
       "      <td>[udcpo5]</td>\n",
       "      <td>[2dmmq7]</td>\n",
       "      <td>[fmnRD]</td>\n",
       "      <td>[cu]</td>\n",
       "      <td>[octdp, octdp_5]</td>\n",
       "    </tr>\n",
       "  </tbody>\n",
       "</table>\n",
       "<p>1 rows × 2714 columns</p>\n",
       "</div>"
      ],
      "text/plain": [
       "MS ID       cpd00001 cpd00002 cpd00003 cpd00004 cpd00005 cpd00006 cpd00007  \\\n",
       "External ID    [oh1]    [atp]    [nad]   [nadh]  [nadph]   [nadp]     [o2]   \n",
       "\n",
       "MS ID       cpd00008 cpd00009 cpd00010        ...         cpd29726 cpd29727  \\\n",
       "External ID    [adp]     [pi]    [coa]        ...         [ps2_ST]  [udcpg]   \n",
       "\n",
       "MS ID        cpd29728   cpd29729  cpd29730  cpd29731  cpd29732 cpd29733  \\\n",
       "External ID  [udcpgr]  [udcpgrm]  [udcpo4]  [udcpo5]  [2dmmq7]  [fmnRD]   \n",
       "\n",
       "MS ID       cpd30760          cpd30761  \n",
       "External ID     [cu]  [octdp, octdp_5]  \n",
       "\n",
       "[1 rows x 2714 columns]"
      ]
     },
     "execution_count": 9,
     "metadata": {},
     "output_type": "execute_result"
    },
    {
     "data": {
      "text/plain": [
       "{'cpd00001': ['oh1'],\n",
       " 'cpd00002': ['atp'],\n",
       " 'cpd00003': ['nad'],\n",
       " 'cpd00004': ['nadh'],\n",
       " 'cpd00005': ['nadph'],\n",
       " 'cpd00006': ['nadp'],\n",
       " 'cpd00007': ['o2'],\n",
       " 'cpd00008': ['adp'],\n",
       " 'cpd00009': ['pi'],\n",
       " 'cpd00010': ['coa'],\n",
       " 'cpd00011': ['co2'],\n",
       " 'cpd00012': ['ppi'],\n",
       " 'cpd00013': ['nh3', 'nh4'],\n",
       " 'cpd00014': ['udp'],\n",
       " 'cpd00015': ['fad'],\n",
       " 'cpd00016': ['pydx5p'],\n",
       " 'cpd00017': ['amet'],\n",
       " 'cpd00018': ['amp'],\n",
       " 'cpd00019': ['ahcys'],\n",
       " 'cpd00020': ['pyr'],\n",
       " 'cpd00022': ['accoa'],\n",
       " 'cpd00023': ['glu__L'],\n",
       " 'cpd00024': ['akg'],\n",
       " 'cpd00025': ['h2o2'],\n",
       " 'cpd00026': ['udpg'],\n",
       " 'cpd00027': ['glc__D'],\n",
       " 'cpd00028': ['pheme'],\n",
       " 'cpd00029': ['ac'],\n",
       " 'cpd00030': ['mn2'],\n",
       " 'cpd00031': ['gdp'],\n",
       " 'cpd00032': ['oaa'],\n",
       " 'cpd00033': ['gly'],\n",
       " 'cpd00034': ['zn2'],\n",
       " 'cpd00035': ['ala__L'],\n",
       " 'cpd00036': ['succ'],\n",
       " 'cpd00037': ['uacgam'],\n",
       " 'cpd00038': ['gtp'],\n",
       " 'cpd00039': ['lys__L'],\n",
       " 'cpd00040': ['glx'],\n",
       " 'cpd00041': ['asp__L'],\n",
       " 'cpd00042': ['gthrd'],\n",
       " 'cpd00043': ['udpgal'],\n",
       " 'cpd00044': ['paps'],\n",
       " 'cpd00045': ['pap'],\n",
       " 'cpd00046': ['cmp'],\n",
       " 'cpd00047': ['for'],\n",
       " 'cpd00048': ['so4'],\n",
       " 'cpd00050': ['fmn'],\n",
       " 'cpd00051': ['arg__L'],\n",
       " 'cpd00052': ['ctp'],\n",
       " 'cpd00053': ['gln__L'],\n",
       " 'cpd00054': ['ser__L'],\n",
       " 'cpd00055': ['fald'],\n",
       " 'cpd00056': ['thmpp'],\n",
       " 'cpd00057': ['trnagln'],\n",
       " 'cpd00058': ['cu2'],\n",
       " 'cpd00059': ['ascb__L'],\n",
       " 'cpd00060': ['met__L'],\n",
       " 'cpd00061': ['pep'],\n",
       " 'cpd00062': ['utp'],\n",
       " 'cpd00063': ['ca2'],\n",
       " 'cpd00064': ['orn', 'orn__L'],\n",
       " 'cpd00065': ['trp__L'],\n",
       " 'cpd00066': ['phe__L'],\n",
       " 'cpd00067': ['h'],\n",
       " 'cpd00068': ['itp'],\n",
       " 'cpd00069': ['tyr__L'],\n",
       " 'cpd00070': ['malcoa'],\n",
       " 'cpd00071': ['acald'],\n",
       " 'cpd00072': ['f6p', 'f6p_B'],\n",
       " 'cpd00073': ['urea'],\n",
       " 'cpd00074': ['s'],\n",
       " 'cpd00075': ['no2'],\n",
       " 'cpd00076': ['sucr'],\n",
       " 'cpd00077': ['catechol'],\n",
       " 'cpd00078': ['succoa'],\n",
       " 'cpd00079': ['g6p'],\n",
       " 'cpd00080': ['glyc3p'],\n",
       " 'cpd00081': ['so3'],\n",
       " 'cpd00082': ['fru'],\n",
       " 'cpd00083': ['gdpmann'],\n",
       " 'cpd00084': ['cys__L'],\n",
       " 'cpd00085': ['ala_B'],\n",
       " 'cpd00086': ['ppcoa'],\n",
       " 'cpd00087': ['thf'],\n",
       " 'cpd00089': ['g1p'],\n",
       " 'cpd00090': ['idp'],\n",
       " 'cpd00091': ['ump'],\n",
       " 'cpd00092': ['ura'],\n",
       " 'cpd00093': ['anth'],\n",
       " 'cpd00094': ['2obut'],\n",
       " 'cpd00095': ['dhap'],\n",
       " 'cpd00096': ['cdp'],\n",
       " 'cpd00097': ['pqq'],\n",
       " 'cpd00098': ['chol'],\n",
       " 'cpd00099': ['cl'],\n",
       " 'cpd00100': ['glyc'],\n",
       " 'cpd00101': ['r5p'],\n",
       " 'cpd00102': ['g3p'],\n",
       " 'cpd00103': ['prpp'],\n",
       " 'cpd00104': ['btn'],\n",
       " 'cpd00105': ['rib__D'],\n",
       " 'cpd00106': ['fum'],\n",
       " 'cpd00107': ['leu__L'],\n",
       " 'cpd00108': ['gal'],\n",
       " 'cpd00109': ['ficytC', 'ficytc', 'ficytcc553'],\n",
       " 'cpd00110': ['focytc', 'focytC', 'focytcc553'],\n",
       " 'cpd00111': ['gthox'],\n",
       " 'cpd00112': ['cmpacna'],\n",
       " 'cpd00113': ['ipdp'],\n",
       " 'cpd00114': ['imp'],\n",
       " 'cpd00115': ['datp'],\n",
       " 'cpd00116': ['meoh'],\n",
       " 'cpd00117': ['ala__D'],\n",
       " 'cpd00118': ['ptrc'],\n",
       " 'cpd00119': ['his__L'],\n",
       " 'cpd00120': ['btcoa'],\n",
       " 'cpd00121': ['inost'],\n",
       " 'cpd00122': ['acgam'],\n",
       " 'cpd00123': ['3mob'],\n",
       " 'cpd00125': ['mlthf'],\n",
       " 'cpd00126': ['gmp'],\n",
       " 'cpd00127': ['phenol'],\n",
       " 'cpd00128': ['ade'],\n",
       " 'cpd00129': ['pro__L'],\n",
       " 'cpd00130': ['mal__L'],\n",
       " 'cpd00132': ['asn__L'],\n",
       " 'cpd00133': ['ncam'],\n",
       " 'cpd00134': ['pmtcoa'],\n",
       " 'cpd00135': ['hcys__L'],\n",
       " 'cpd00136': ['4hbz'],\n",
       " 'cpd00137': ['cit'],\n",
       " 'cpd00138': ['man'],\n",
       " 'cpd00139': ['glyclt'],\n",
       " 'cpd00141': ['ppa'],\n",
       " 'cpd00142': ['acac'],\n",
       " 'cpd00143': ['phpyr'],\n",
       " 'cpd00144': ['udpglcur'],\n",
       " 'cpd00145': ['hpyr'],\n",
       " 'cpd00146': ['cbp'],\n",
       " 'cpd00147': ['5mta'],\n",
       " 'cpd00149': ['cobalt2'],\n",
       " 'cpd00150': ['cyan'],\n",
       " 'cpd00151': ['thym'],\n",
       " 'cpd00152': ['agm'],\n",
       " 'cpd00153': ['bz'],\n",
       " 'cpd00154': ['xyl__D'],\n",
       " 'cpd00155': ['glycogen'],\n",
       " 'cpd00156': ['val__L'],\n",
       " 'cpd00157': ['dha'],\n",
       " 'cpd00158': ['cellb'],\n",
       " 'cpd00159': ['lac__L'],\n",
       " 'cpd00160': ['chsterol'],\n",
       " 'cpd00161': ['thr__L'],\n",
       " 'cpd00162': ['etha'],\n",
       " 'cpd00163': ['udpxyl'],\n",
       " 'cpd00164': ['glcur'],\n",
       " 'cpd00165': ['ham'],\n",
       " 'cpd00166': ['adocbl'],\n",
       " 'cpd00168': ['23dhb'],\n",
       " 'cpd00169': ['3pg'],\n",
       " 'cpd00170': ['g15lac'],\n",
       " 'cpd00171': ['ru5p__D'],\n",
       " 'cpd00175': ['udpacgal'],\n",
       " 'cpd00176': ['2ddglcn'],\n",
       " 'cpd00177': ['dadp'],\n",
       " 'cpd00178': ['acetone'],\n",
       " 'cpd00179': ['malt'],\n",
       " 'cpd00180': ['oxa'],\n",
       " 'cpd00182': ['adn'],\n",
       " 'cpd00183': ['sarcs'],\n",
       " 'cpd00184': ['thymd'],\n",
       " 'cpd00185': ['arab__D'],\n",
       " 'cpd00186': ['glu__D'],\n",
       " 'cpd00187': ['mma'],\n",
       " 'cpd00188': ['arachd'],\n",
       " 'cpd00191': ['msa'],\n",
       " 'cpd00192': ['4cmcoa', 'coucoa'],\n",
       " 'cpd00193': ['aps'],\n",
       " 'cpd00196': ['actp'],\n",
       " 'cpd00197': ['34dhbz'],\n",
       " 'cpd00198': ['xu5p__D'],\n",
       " 'cpd00199': ['sucsal'],\n",
       " 'cpd00200': ['4mop'],\n",
       " 'cpd00201': ['10fthf'],\n",
       " 'cpd00202': ['dmpp'],\n",
       " 'cpd00203': ['13dpg'],\n",
       " 'cpd00204': ['co'],\n",
       " 'cpd00205': ['k'],\n",
       " 'cpd00206': ['dcmp'],\n",
       " 'cpd00207': ['gua'],\n",
       " 'cpd00208': ['lcts'],\n",
       " 'cpd00209': ['no3'],\n",
       " 'cpd00210': ['taur'],\n",
       " 'cpd00211': ['but'],\n",
       " 'cpd00212': ['srb__L'],\n",
       " 'cpd00213': ['lpam'],\n",
       " 'cpd00214': ['hdca'],\n",
       " 'cpd00215': ['pydx'],\n",
       " 'cpd00216': ['chor'],\n",
       " 'cpd00217': ['isomal'],\n",
       " 'cpd00218': ['nac'],\n",
       " 'cpd00219': ['pphn'],\n",
       " 'cpd00220': ['ribflv'],\n",
       " 'cpd00221': ['lac__D'],\n",
       " 'cpd00222': ['glcn', 'glcn__D'],\n",
       " 'cpd00223': ['glyc__R'],\n",
       " 'cpd00224': ['arab__L'],\n",
       " 'cpd00225': ['bzal'],\n",
       " 'cpd00226': ['hxan'],\n",
       " 'cpd00227': ['hom__L'],\n",
       " 'cpd00228': ['dtt'],\n",
       " 'cpd00229': ['gcald'],\n",
       " 'cpd00231': ['dhbpt'],\n",
       " 'cpd00232': ['acnam'],\n",
       " 'cpd00233': ['thbpt'],\n",
       " 'cpd00235': ['man6p'],\n",
       " 'cpd00236': ['e4p'],\n",
       " 'cpd00237': ['andrstndn'],\n",
       " 'cpd00238': ['s7p'],\n",
       " 'cpd00239': ['h2s'],\n",
       " 'cpd00241': ['dgtp'],\n",
       " 'cpd00242': ['h2co3', 'hco3'],\n",
       " 'cpd00244': ['ni2'],\n",
       " 'cpd00246': ['ins'],\n",
       " 'cpd00247': ['orot'],\n",
       " 'cpd00248': ['quin', 'quin_kt'],\n",
       " 'cpd00249': ['uri'],\n",
       " 'cpd00250': ['creat'],\n",
       " 'cpd00251': ['adprib'],\n",
       " 'cpd00254': ['mg2'],\n",
       " 'cpd00256': ['cdpchol'],\n",
       " 'cpd00258': ['rbl__D'],\n",
       " 'cpd00259': ['rbl__L', 'xylu__D'],\n",
       " 'cpd00260': ['icit'],\n",
       " 'cpd00261': ['xylu__L'],\n",
       " 'cpd00262': ['oxalcoa'],\n",
       " 'cpd00263': ['pydxn'],\n",
       " 'cpd00264': ['spmd'],\n",
       " 'cpd00266': ['crn'],\n",
       " 'cpd00267': ['sphings'],\n",
       " 'cpd00268': ['tsul'],\n",
       " 'cpd00269': ['2oxoadp'],\n",
       " 'cpd00270': ['caffcoa'],\n",
       " 'cpd00272': ['gdpfuc'],\n",
       " 'cpd00274': ['citr__L'],\n",
       " 'cpd00275': ['Lkynr'],\n",
       " 'cpd00276': ['gam'],\n",
       " 'cpd00277': ['dgsn'],\n",
       " 'cpd00278': ['indpyr'],\n",
       " 'cpd00279': ['aacoa'],\n",
       " 'cpd00280': ['galur'],\n",
       " 'cpd00281': ['4abut'],\n",
       " 'cpd00282': ['dhor__S'],\n",
       " 'cpd00283': ['grdp'],\n",
       " 'cpd00284': ['6pgc'],\n",
       " 'cpd00285': ['ethamp'],\n",
       " 'cpd00286': ['udcpp'],\n",
       " 'cpd00287': ['2mop', 'mmtsa'],\n",
       " 'cpd00288': ['gam6p'],\n",
       " 'cpd00289': ['ggdp'],\n",
       " 'cpd00290': ['fdp'],\n",
       " 'cpd00291': ['34dhphe'],\n",
       " 'cpd00292': ['hmgcoa'],\n",
       " 'cpd00293': ['acgam6p'],\n",
       " 'cpd00294': ['damp'],\n",
       " 'cpd00295': ['dgdp'],\n",
       " 'cpd00296': ['dgmp'],\n",
       " 'cpd00297': ['dtdp'],\n",
       " 'cpd00298': ['dtmp'],\n",
       " 'cpd00299': ['dump'],\n",
       " 'cpd00300': ['urate'],\n",
       " 'cpd00304': ['retinal'],\n",
       " 'cpd00305': ['thm'],\n",
       " 'cpd00306': ['xylt'],\n",
       " 'cpd00307': ['csn'],\n",
       " 'cpd00308': ['malon'],\n",
       " 'cpd00309': ['xan'],\n",
       " 'cpd00311': ['gsn'],\n",
       " 'cpd00312': ['hista'],\n",
       " 'cpd00313': ['quc'],\n",
       " 'cpd00314': ['mnl'],\n",
       " 'cpd00318': ['trypta'],\n",
       " 'cpd00320': ['asp__D'],\n",
       " 'cpd00321': ['ferulcoa'],\n",
       " 'cpd00322': ['ile__L'],\n",
       " 'cpd00323': ['Lpipecol'],\n",
       " 'cpd00324': ['ch4s'],\n",
       " 'cpd00325': ['prgstrn'],\n",
       " 'cpd00327': ['stcoa'],\n",
       " 'cpd00328': ['Stmyn'],\n",
       " 'cpd00330': ['dhf'],\n",
       " 'cpd00331': ['acon_C'],\n",
       " 'cpd00332': ['mev__R'],\n",
       " 'cpd00333': ['cinnm'],\n",
       " 'cpd00334': ['lald__L'],\n",
       " 'cpd00335': ['dhdascb'],\n",
       " 'cpd00336': ['prostgh2'],\n",
       " 'cpd00337': ['56dura'],\n",
       " 'cpd00338': ['5aop'],\n",
       " 'cpd00339': ['5aptn'],\n",
       " 'cpd00340': ['25dop'],\n",
       " 'cpd00341': ['Ncbmpts'],\n",
       " 'cpd00342': ['acorn'],\n",
       " 'cpd00343': ['cbasp'],\n",
       " 'cpd00344': ['forglu'],\n",
       " 'cpd00345': ['5mthf'],\n",
       " 'cpd00346': ['aspsa'],\n",
       " 'cpd00347': ['methf'],\n",
       " 'cpd00348': ['gal1p'],\n",
       " 'cpd00349': ['s17bp'],\n",
       " 'cpd00350': ['frdp'],\n",
       " 'cpd00351': ['saccrp__L'],\n",
       " 'cpd00352': ['thp2c'],\n",
       " 'cpd00353': ['icit'],\n",
       " 'cpd00355': ['nmn'],\n",
       " 'cpd00356': ['dctp'],\n",
       " 'cpd00357': ['dttp'],\n",
       " 'cpd00358': ['dutp'],\n",
       " 'cpd00359': ['indole'],\n",
       " 'cpd00360': ['purine'],\n",
       " 'cpd00362': ['estrone'],\n",
       " 'cpd00363': ['etoh'],\n",
       " 'cpd00365': ['retinol'],\n",
       " 'cpd00366': ['rbt'],\n",
       " 'cpd00367': ['cytd'],\n",
       " 'cpd00371': ['ppal'],\n",
       " 'cpd00374': ['tym'],\n",
       " 'cpd00376': ['bilirub'],\n",
       " 'cpd00378': ['frmd'],\n",
       " 'cpd00379': ['glutar'],\n",
       " 'cpd00380': ['itacon'],\n",
       " 'cpd00381': ['cysi__L', 'Lcystin'],\n",
       " 'cpd00382': ['raffin'],\n",
       " 'cpd00383': ['skm'],\n",
       " 'cpd00386': ['mal__D'],\n",
       " 'cpd00387': ['adpglc'],\n",
       " 'cpd00388': ['alltt'],\n",
       " 'cpd00389': ['biliverd'],\n",
       " 'cpd00390': ['cdpglc'],\n",
       " 'cpd00393': ['fol'],\n",
       " 'cpd00395': ['Lcyst'],\n",
       " 'cpd00396': ['rmn'],\n",
       " 'cpd00397': ['rbl__L', 'xylu__D'],\n",
       " 'cpd00399': ['ocdce9coa'],\n",
       " 'cpd00400': ['acryl'],\n",
       " 'cpd00401': ['benzcoa'],\n",
       " 'cpd00402': ['cdpglyc'],\n",
       " 'cpd00403': ['mana'],\n",
       " 'cpd00404': ['orn__D'],\n",
       " 'cpd00405': ['hxdcal'],\n",
       " 'cpd00406': ['hyptaur'],\n",
       " 'cpd00407': ['limnen'],\n",
       " 'cpd00408': ['pant__R'],\n",
       " 'cpd00409': ['andrstrn'],\n",
       " 'cpd00410': ['cytcc'],\n",
       " 'cpd00412': ['duri'],\n",
       " 'cpd00413': ['glutcoa'],\n",
       " 'cpd00415': ['hqn'],\n",
       " 'cpd00416': ['itaccoa'],\n",
       " 'cpd00417': ['abt', 'abt__L'],\n",
       " 'cpd00418': ['no'],\n",
       " 'cpd00419': ['pydam'],\n",
       " 'cpd00420': ['tststerone'],\n",
       " 'cpd00421': ['pppi'],\n",
       " 'cpd00423': ['cbl2'],\n",
       " 'cpd00425': ['dma'],\n",
       " 'cpd00426': ['hgentis'],\n",
       " 'cpd00428': ['mthgxl'],\n",
       " 'cpd00429': ['nrpphr'],\n",
       " 'cpd00430': ['pac'],\n",
       " 'cpd00432': ['tartr__M'],\n",
       " 'cpd00434': ['4abutn'],\n",
       " 'cpd00435': ['bzalc'],\n",
       " 'cpd00437': ['tagur'],\n",
       " 'cpd00438': ['dad_2'],\n",
       " 'cpd00441': ['tma'],\n",
       " 'cpd00443': ['4abz'],\n",
       " 'cpd00444': ['cdpea'],\n",
       " 'cpd00446': ['camp'],\n",
       " 'cpd00447': ['betald'],\n",
       " 'cpd00448': ['glyald'],\n",
       " 'cpd00449': ['dhlam'],\n",
       " 'cpd00450': ['dms'],\n",
       " 'cpd00451': ['gudac'],\n",
       " 'cpd00452': ['phaccoa'],\n",
       " 'cpd00454': ['prostge2'],\n",
       " 'cpd00455': ['2dglc'],\n",
       " 'cpd00457': ['cholp'],\n",
       " 'cpd00458': ['confrl'],\n",
       " 'cpd00460': ['2saa'],\n",
       " 'cpd00461': ['chpd', 'op4en'],\n",
       " 'cpd00464': ['pacald'],\n",
       " 'cpd00465': ['urdglyc'],\n",
       " 'cpd00467': ['3sala'],\n",
       " 'cpd00470': ['N1aspmd'],\n",
       " 'cpd00472': ['udpgalur'],\n",
       " 'cpd00473': ['3dhguln'],\n",
       " 'cpd00475': ['r1p'],\n",
       " 'cpd00477': ['acglu'],\n",
       " 'cpd00478': ['pdx5p'],\n",
       " 'cpd00480': ['2dhglcn'],\n",
       " 'cpd00481': ['ibcoa'],\n",
       " 'cpd00482': ['2pg'],\n",
       " 'cpd00483': ['3hanthrn'],\n",
       " 'cpd00484': ['4hbald'],\n",
       " 'cpd00485': ['man1p'],\n",
       " 'cpd00486': ['id3acald'],\n",
       " 'cpd00488': ['prostgf2'],\n",
       " 'cpd00489': ['4hoxpac', '4hphac'],\n",
       " 'cpd00490': ['5htrp'],\n",
       " 'cpd00491': ['mnl1p'],\n",
       " 'cpd00492': ['acmana'],\n",
       " 'cpd00493': ['pyam5p'],\n",
       " 'cpd00496': ['Dara14lac'],\n",
       " 'cpd00497': ['xmp'],\n",
       " 'cpd00498': ['2ahbut'],\n",
       " 'cpd00501': ['g1p_B'],\n",
       " 'cpd00502': ['5forthf'],\n",
       " 'cpd00503': ['f26bp'],\n",
       " 'cpd00504': ['26dap_LL'],\n",
       " 'cpd00506': ['glucys'],\n",
       " 'cpd00507': ['g3pc'],\n",
       " 'cpd00508': ['3mop'],\n",
       " 'cpd00509': ['2dr1p'],\n",
       " 'cpd00510': ['2dr5p'],\n",
       " 'cpd00511': ['andrstandn'],\n",
       " 'cpd00515': ['5dh4dglc'],\n",
       " 'cpd00516': ['26dap__M'],\n",
       " 'cpd00517': ['1ag3p_SC'],\n",
       " 'cpd00518': ['2hmcnsad'],\n",
       " 'cpd00519': ['mmcoa__S'],\n",
       " 'cpd00521': ['dtdp4d6dg'],\n",
       " 'cpd00522': ['dtdp4d6dm'],\n",
       " 'cpd00523': ['tre6p'],\n",
       " 'cpd00524': ['2ins'],\n",
       " 'cpd00525': ['uamag'],\n",
       " 'cpd00526': ['cholate'],\n",
       " 'cpd00527': ['prostgd2'],\n",
       " 'cpd00528': ['n2'],\n",
       " 'cpd00530': ['xtp'],\n",
       " 'cpd00531': ['hg2'],\n",
       " 'cpd00532': ['o2s'],\n",
       " 'cpd00533': ['dcdp'],\n",
       " 'cpd00534': ['i'],\n",
       " 'cpd00536': ['ocdcea'],\n",
       " 'cpd00540': ['glyb'],\n",
       " 'cpd00541': ['lipoate'],\n",
       " 'cpd00546': ['crtsl'],\n",
       " 'cpd00549': ['lys__D'],\n",
       " 'cpd00550': ['ser__D'],\n",
       " 'cpd00551': ['diact'],\n",
       " 'cpd00557': ['sheme'],\n",
       " 'cpd00558': ['sprm'],\n",
       " 'cpd00559': ['sql'],\n",
       " 'cpd00561': ['vanln'],\n",
       " 'cpd00566': ['cortsn'],\n",
       " 'cpd00567': ['pro__D'],\n",
       " 'cpd00571': ['glcr'],\n",
       " 'cpd00573': ['idon__L'],\n",
       " 'cpd00577': ['retn'],\n",
       " 'cpd00579': ['srtn'],\n",
       " 'cpd00581': ['urcan'],\n",
       " 'cpd00583': ['adrnl'],\n",
       " 'cpd00585': ['crtn'],\n",
       " 'cpd00586': ['arg__D'],\n",
       " 'cpd00587': ['cys__D'],\n",
       " 'cpd00588': ['sbt__D'],\n",
       " 'cpd00589': ['tag__D'],\n",
       " 'cpd00592': ['forcoa'],\n",
       " 'cpd00594': ['guln__L'],\n",
       " 'cpd00596': ['oxur'],\n",
       " 'cpd00597': ['pta'],\n",
       " 'cpd00599': ['salc'],\n",
       " 'cpd00604': ['T4hcinnm'],\n",
       " 'cpd00607': ['citm'],\n",
       " 'cpd00608': ['altrn'],\n",
       " 'cpd00609': ['glcr'],\n",
       " 'cpd00612': ['dopaqn'],\n",
       " 'cpd00616': ['Largn'],\n",
       " 'cpd00617': ['laccoa'],\n",
       " 'cpd00618': ['npthl'],\n",
       " 'cpd00620': ['ptth'],\n",
       " 'cpd00622': ['6pthp'],\n",
       " 'cpd00623': ['sphgn'],\n",
       " 'cpd00626': ['dtdpglu'],\n",
       " 'cpd00630': ['3oxoadp'],\n",
       " 'cpd00631': ['4pyrdx'],\n",
       " 'cpd00635': ['cbl1'],\n",
       " 'cpd00637': ['met__D'],\n",
       " 'cpd00638': ['dnad'],\n",
       " 'cpd00641': ['histd'],\n",
       " 'cpd00642': ['rml'],\n",
       " 'cpd00644': ['pnto__R'],\n",
       " 'cpd00646': ['4nph'],\n",
       " 'cpd00649': ['f420_2'],\n",
       " 'cpd00650': ['b2coa'],\n",
       " 'cpd00652': ['galct__D'],\n",
       " 'cpd00653': ['galctn__D'],\n",
       " 'cpd00654': ['dcyt'],\n",
       " 'cpd00655': ['dpcoa'],\n",
       " 'cpd00656': ['galman'],\n",
       " 'cpd00657': ['hcarn'],\n",
       " 'cpd00658': ['ichor'],\n",
       " 'cpd00659': ['n2o'],\n",
       " 'cpd00660': ['ptcoa'],\n",
       " 'cpd00663': ['pp2coa', 'prpncoa'],\n",
       " 'cpd00666': ['tartr__D', 'tartr__L'],\n",
       " 'cpd00667': ['retinol_cis_11'],\n",
       " 'cpd00668': ['alac__S'],\n",
       " 'cpd00672': ['fruur'],\n",
       " 'cpd00673': ['56dthm'],\n",
       " 'cpd00675': ['leuktrA4'],\n",
       " 'cpd00680': ['cm'],\n",
       " 'cpd00681': ['chols'],\n",
       " 'cpd00683': ['dhpt'],\n",
       " 'cpd00685': ['ficytC', 'ficytc', 'ficytcc553'],\n",
       " 'cpd00686': ['focytc', 'focytC', 'focytcc553'],\n",
       " 'cpd00689': ['ppbng'],\n",
       " 'cpd00691': ['udparab'],\n",
       " 'cpd00693': ['lald__D'],\n",
       " 'cpd00696': ['35ccmp'],\n",
       " 'cpd00697': ['35cgmp'],\n",
       " 'cpd00698': ['35cimp'],\n",
       " 'cpd00699': ['3dhq'],\n",
       " 'cpd00700': ['amp2p'],\n",
       " 'cpd00702': ['estradiol'],\n",
       " 'cpd00703': ['ind3ac'],\n",
       " 'cpd00704': ['ind3eth'],\n",
       " 'cpd00705': ['L2aadp'],\n",
       " 'cpd00706': ['mercppyr'],\n",
       " 'cpd00709': ['gal_bD'],\n",
       " 'cpd00712': ['2dhp'],\n",
       " 'cpd00713': ['35cdamp'],\n",
       " 'cpd00714': ['3hppnl'],\n",
       " 'cpd00721': ['Nacsertn'],\n",
       " 'cpd00722': ['acser'],\n",
       " 'cpd00726': ['13dampp'],\n",
       " 'cpd00727': ['2pglyc'],\n",
       " 'cpd00728': ['ghb'],\n",
       " 'cpd00729': ['5apentam'],\n",
       " 'cpd00730': ['aqcobal'],\n",
       " 'cpd00731': ['alaala', 'diala__L'],\n",
       " 'cpd00738': ['pser__L'],\n",
       " 'cpd00739': ['rbflvrd'],\n",
       " 'cpd00742': ['allphn'],\n",
       " 'cpd00743': ['citmcoa__L'],\n",
       " 'cpd00745': ['3hpp'],\n",
       " 'cpd00751': ['fuc__L'],\n",
       " 'cpd00752': ['6hnac'],\n",
       " 'cpd00755': ['hmbil'],\n",
       " 'cpd00756': ['dmgly'],\n",
       " 'cpd00758': ['n8aspmd'],\n",
       " 'cpd00759': ['Sfglutth'],\n",
       " 'cpd00760': ['2mbcoa'],\n",
       " 'cpd00762': ['4gudbutn'],\n",
       " 'cpd00763': ['4mlacac'],\n",
       " 'cpd00764': ['dann'],\n",
       " 'cpd00765': ['gullac'],\n",
       " 'cpd00767': ['Nacasp'],\n",
       " 'cpd00770': ['Nforglu'],\n",
       " 'cpd00773': ['uamr'],\n",
       " 'cpd00774': ['uppg3'],\n",
       " 'cpd00776': ['Ssq23epx'],\n",
       " 'cpd00778': ['dhpyr'],\n",
       " 'cpd00779': ['35diotyr'],\n",
       " 'cpd00780': ['4fumacac'],\n",
       " 'cpd00781': ['5dglcn'],\n",
       " 'cpd00782': ['pmcoa'],\n",
       " 'cpd00790': ['achms'],\n",
       " 'cpd00791': ['pppg9'],\n",
       " 'cpd00793': ['thmmp'],\n",
       " 'cpd00794': ['tre'],\n",
       " 'cpd00797': ['bhb'],\n",
       " 'cpd00800': ['8aonn'],\n",
       " 'cpd00802': ['f1p'],\n",
       " 'cpd00804': ['sbt6p'],\n",
       " 'cpd00805': ['tag6p__D'],\n",
       " 'cpd00806': ['fc1p'],\n",
       " 'cpd00807': ['hisp'],\n",
       " 'cpd00808': ['ru5p__L'],\n",
       " 'cpd00809': ['phom'],\n",
       " 'cpd00810': ['orot5p'],\n",
       " 'cpd00811': ['tmao'],\n",
       " 'cpd00812': ['5pmev'],\n",
       " 'cpd00815': ['5a2opntn'],\n",
       " 'cpd00817': ['ara5p'],\n",
       " 'cpd00818': ['dgal6p'],\n",
       " 'cpd00822': ['suchms'],\n",
       " 'cpd00823': ['dttOX'],\n",
       " 'cpd00824': ['sph1p'],\n",
       " 'cpd00830': ['4h2oglt'],\n",
       " 'cpd00831': ['rml1p'],\n",
       " 'cpd00832': ['acgal'],\n",
       " 'cpd00834': ['pan4p'],\n",
       " 'cpd00836': ['adhlam'],\n",
       " 'cpd00837': ['ametam'],\n",
       " 'cpd00840': ['36dahx'],\n",
       " 'cpd00841': ['5dpmev'],\n",
       " 'cpd00842': ['3hbcoa'],\n",
       " 'cpd00843': ['2h3oppan'],\n",
       " 'cpd00845': ['4tmeabut'],\n",
       " 'cpd00847': ['r15bp'],\n",
       " 'cpd00848': ['NPmehis'],\n",
       " 'cpd00851': ['4hpro_LT'],\n",
       " 'cpd00853': ['23dpg'],\n",
       " 'cpd00854': ['34dhpha'],\n",
       " 'cpd00856': ['CCbuttc'],\n",
       " 'cpd00857': ['7dhchsterol', 'lum3'],\n",
       " 'cpd00858': ['glu5sa'],\n",
       " 'cpd00859': ['psd5p'],\n",
       " 'cpd00860': ['sdhlam'],\n",
       " 'cpd00861': ['uacmam'],\n",
       " 'cpd00863': ['g6p_B'],\n",
       " 'cpd00866': ['17ahprgstrn'],\n",
       " 'cpd00867': ['mi1p__D'],\n",
       " 'cpd00868': ['2h34hppr', '34hpp'],\n",
       " 'cpd00869': ['2kmb', '4met2obut'],\n",
       " 'cpd00870': ['4tmeabutn', 'gbbtn'],\n",
       " 'cpd00871': ['rb15bp'],\n",
       " 'cpd00873': ['nicrnt'],\n",
       " 'cpd00875': ['kdo'],\n",
       " 'cpd00876': ['3hmp'],\n",
       " 'cpd00877': ['lthstrl'],\n",
       " 'cpd00880': ['glcur1p'],\n",
       " 'cpd00881': ['34dhcinm'],\n",
       " 'cpd00885': ['minohp', 'ppmi1346p'],\n",
       " 'cpd00886': ['3aib__D'],\n",
       " 'cpd00890': ['uama'],\n",
       " 'cpd00891': ['mmcoa__R'],\n",
       " 'cpd00894': ['2dh3dgal'],\n",
       " 'cpd00895': ['h4mpt'],\n",
       " 'cpd00896': ['6p2dhglcn'],\n",
       " 'cpd00897': ['cdp4dh6doglc'],\n",
       " 'cpd00898': ['mi14p'],\n",
       " 'cpd00900': ['gdpddman'],\n",
       " 'cpd00902': ['g3pi'],\n",
       " 'cpd00904': ['dhea'],\n",
       " 'cpd00905': ['ppgpp'],\n",
       " 'cpd00906': ['hexdp'],\n",
       " 'cpd00908': ['g3pe'],\n",
       " 'cpd00909': ['1acpc'],\n",
       " 'cpd00910': ['1Dgali'],\n",
       " 'cpd00911': ['6pgl'],\n",
       " 'cpd00914': ['mi134p'],\n",
       " 'cpd00916': ['mi145p'],\n",
       " 'cpd00918': ['acg5sa'],\n",
       " 'cpd00919': ['hcit'],\n",
       " 'cpd00920': ['4aphdob'],\n",
       " 'cpd00921': ['6ax6ax'],\n",
       " 'cpd00922': ['1pipdn2c'],\n",
       " 'cpd00923': ['3htmelys'],\n",
       " 'cpd00924': ['ap4a'],\n",
       " 'cpd00925': ['gp4g'],\n",
       " 'cpd00926': ['ans'],\n",
       " 'cpd00930': ['imacp'],\n",
       " 'cpd00931': ['5apru'],\n",
       " 'cpd00932': ['3psme'],\n",
       " 'cpd00934': ['mi1345p'],\n",
       " 'cpd00938': ['2c25dho', '4cml'],\n",
       " 'cpd00939': ['4ahmmp'],\n",
       " 'cpd00943': ['mi13456p'],\n",
       " 'cpd00945': ['2dh3dgal6p'],\n",
       " 'cpd00946': ['unaga'],\n",
       " 'cpd00954': ['2ahhmp', '6hmhpt'],\n",
       " 'cpd00955': ['thcholst'],\n",
       " 'cpd00956': ['2cpr5p'],\n",
       " 'cpd00957': ['25dhpp', '25drapp'],\n",
       " 'cpd00960': ['prostgi2'],\n",
       " 'cpd00971': ['na1'],\n",
       " 'cpd00972': ['xdp'],\n",
       " 'cpd00976': ['didp'],\n",
       " 'cpd00977': ['ditp'],\n",
       " 'cpd00978': ['dudp'],\n",
       " 'cpd00982': ['fadh2'],\n",
       " 'cpd00985': ['nh4oh'],\n",
       " 'cpd00986': ['pqqh2'],\n",
       " 'cpd00988': ['3amp'],\n",
       " 'cpd00989': ['3ump'],\n",
       " 'cpd00994': ['iodine'],\n",
       " 'cpd00996': ['male'],\n",
       " 'cpd00999': ['phytol'],\n",
       " 'cpd01000': ['3mbald'],\n",
       " 'cpd01011': ['btal'],\n",
       " 'cpd01012': ['cd2'],\n",
       " 'cpd01014': ['coke'],\n",
       " 'cpd01015': ['cynt'],\n",
       " 'cpd01017': ['cgly'],\n",
       " 'cpd01020': ['ga'],\n",
       " 'cpd01024': ['ch4'],\n",
       " 'cpd01027': ['oxam'],\n",
       " 'cpd01030': ['salcn'],\n",
       " 'cpd01031': ['srb__L'],\n",
       " 'cpd01033': ['p_tol'],\n",
       " 'cpd01034': ['tol'],\n",
       " 'cpd01042': ['4crsol'],\n",
       " 'cpd01046': ['L2aadp6sa'],\n",
       " 'cpd01048': ['aso4'],\n",
       " 'cpd01055': ['all__D'],\n",
       " 'cpd01059': ['fer'],\n",
       " 'cpd01067': ['lyx__L'],\n",
       " 'cpd01078': ['seln'],\n",
       " 'cpd01080': ['ocdca'],\n",
       " 'cpd01092': ['alltn'],\n",
       " 'cpd01098': ['bilea'],\n",
       " 'cpd01099': ['25hvitd3'],\n",
       " 'cpd01101': ['cbm'],\n",
       " 'cpd01107': ['dca'],\n",
       " 'cpd01113': ['hxa'],\n",
       " 'cpd01114': ['bgly'],\n",
       " 'cpd01123': ['malm'],\n",
       " 'cpd01124': ['melatn'],\n",
       " 'cpd01126': ['nona'],\n",
       " 'cpd01130': ['phyt'],\n",
       " 'cpd01132': ['pur'],\n",
       " 'cpd01133': ['stys'],\n",
       " 'cpd01138': ['thrnt'],\n",
       " 'cpd01144': ['xylb'],\n",
       " 'cpd01150': ['aa'],\n",
       " 'cpd01151': ['doxrbcn'],\n",
       " 'cpd01155': ['15dap'],\n",
       " 'cpd01156': ['cat'],\n",
       " 'cpd01157': ['chtbs'],\n",
       " 'cpd01160': ['cysam'],\n",
       " 'cpd01162': ['nop'],\n",
       " 'cpd01169': ['L_dpchrm'],\n",
       " 'cpd01170': ['ergst'],\n",
       " 'cpd01171': ['galt'],\n",
       " 'cpd01179': ['elaid'],\n",
       " 'cpd01182': ['kynate'],\n",
       " 'cpd01186': ['fcl__L'],\n",
       " 'cpd01187': ['sbt__L'],\n",
       " 'cpd01188': ['lanost'],\n",
       " 'cpd01194': ['mescon'],\n",
       " 'cpd01197': ['nebari'],\n",
       " 'cpd01200': ['pala'],\n",
       " 'cpd01211': ['tcynt'],\n",
       " 'cpd01212': ['6mpur'],\n",
       " 'cpd01217': ['xtsn'],\n",
       " 'cpd01228': ['aldstrn'],\n",
       " 'cpd01232': ['catechol'],\n",
       " 'cpd01233': ['cdpabeq'],\n",
       " 'cpd01237': ['cholcoa'],\n",
       " 'cpd01242': ['drib'],\n",
       " 'cpd01243': ['dsmsterol'],\n",
       " 'cpd01246': ['galct__D'],\n",
       " 'cpd01259': ['thyox__L'],\n",
       " 'cpd01260': ['ddcacoa'],\n",
       " 'cpd01262': ['malttr'],\n",
       " 'cpd01264': ['ocdcal'],\n",
       " 'cpd01269': ['2ppoh'],\n",
       " 'cpd01270': ['fmnh2'],\n",
       " 'cpd01281': ['tton'],\n",
       " 'cpd01293': ['5oxpro'],\n",
       " 'cpd01298': ['aact'],\n",
       " 'cpd01306': ['cyart'],\n",
       " 'cpd01307': ['abt__D'],\n",
       " 'cpd01311': ['dtbt'],\n",
       " 'cpd01318': ['gchola'],\n",
       " 'cpd01326': ['lystrna'],\n",
       " 'cpd01329': ['malthx'],\n",
       " 'cpd01335': ['occoa'],\n",
       " 'cpd01338': ['ptdcal'],\n",
       " 'cpd01342': ['prgnlone'],\n",
       " 'cpd01347': ['thcys'],\n",
       " 'cpd01352': ['udcp'],\n",
       " 'cpd01367': ['ach'],\n",
       " 'cpd01376': ['maltttr'],\n",
       " 'cpd01383': ['eryth'],\n",
       " 'cpd01391': ['glygly'],\n",
       " 'cpd01397': ['lmn2'],\n",
       " 'cpd01398': ['lnlccoa'],\n",
       " 'cpd01399': ['maltttr'],\n",
       " 'cpd01401': ['phllqne'],\n",
       " 'cpd01402': ['phytcoa'],\n",
       " 'cpd01409': ['Sptmyn'],\n",
       " 'cpd01414': ['tet'],\n",
       " 'cpd01415': ['thiog'],\n",
       " 'cpd01419': ['udg'],\n",
       " 'cpd01420': ['caro'],\n",
       " 'cpd01430': ['retinal_11_cis'],\n",
       " 'cpd01433': ['n2ppn'],\n",
       " 'cpd01441': ['acmalt'],\n",
       " 'cpd01449': ['chlld'],\n",
       " 'cpd01450': ['crtstrn'],\n",
       " 'cpd01451': ['cyeuol'],\n",
       " 'cpd01464': ['leuktrB4'],\n",
       " 'cpd01465': ['leuktrC4'],\n",
       " 'cpd01468': ['mm'],\n",
       " 'cpd01476': ['ppp9'],\n",
       " 'cpd01480': ['txa2'],\n",
       " 'cpd01482': ['ugam'],\n",
       " 'cpd01495': ['2amac'],\n",
       " 'cpd01496': ['amuco'],\n",
       " 'cpd01499': ['2mbald'],\n",
       " 'cpd01501': ['2mcit'],\n",
       " 'cpd01502': ['citac'],\n",
       " 'cpd01504': ['aproa'],\n",
       " 'cpd01507': ['oxadpcoa'],\n",
       " 'cpd01519': ['arachdcoa'],\n",
       " 'cpd01535': ['ddcal'],\n",
       " 'cpd01550': ['pcreat'],\n",
       " 'cpd01553': ['2hymeph'],\n",
       " 'cpd01557': ['vaccoa'],\n",
       " 'cpd01563': ['acon_T'],\n",
       " 'cpd01570': ['23camp'],\n",
       " 'cpd01571': ['23ccmp'],\n",
       " 'cpd01572': ['23cump'],\n",
       " 'cpd01585': ['4mptnl'],\n",
       " 'cpd01587': ['5mcsn'],\n",
       " 'cpd01588': ['6ax'],\n",
       " 'cpd01605': ['Lglyald'],\n",
       " 'cpd01608': ['scys__L', 'selcys'],\n",
       " 'cpd01613': ['pt2coa'],\n",
       " 'cpd01614': ['perillyl'],\n",
       " 'cpd01618': ['13ppd'],\n",
       " 'cpd01620': ['dscl', 'pre2'],\n",
       " 'cpd01622': ['tmp'],\n",
       " 'cpd01624': ['upp3'],\n",
       " 'cpd01628': ['avite1'],\n",
       " 'cpd01630': ['ccmuac'],\n",
       " 'cpd01631': ['gtocophe'],\n",
       " 'cpd01644': ['2hmc'],\n",
       " 'cpd01646': ['3c3hmp'],\n",
       " 'cpd01647': ['pad'],\n",
       " 'cpd01654': ['3ityr__L'],\n",
       " 'cpd01662': ['butpi'],\n",
       " 'cpd01664': ['xolest_hs'],\n",
       " 'cpd01665': ['pser__D'],\n",
       " 'cpd01669': ['estrones'],\n",
       " 'cpd01680': ['N1sprm'],\n",
       " 'cpd01682': ['acrn'],\n",
       " 'cpd01686': ['pylald'],\n",
       " 'cpd01693': ['suc6p'],\n",
       " 'cpd01695': ['tdcoa'],\n",
       " 'cpd01710': ['2ippm'],\n",
       " 'cpd01711': ['ibt'],\n",
       " 'cpd01716': ['3dhsk'],\n",
       " 'cpd01720': ['cala'],\n",
       " 'cpd01723': ['gdbtal'],\n",
       " 'cpd01726': ['acglc__D'],\n",
       " 'cpd01727': ['pime'],\n",
       " 'cpd01733': ['conialdh'],\n",
       " 'cpd01735': ['glac'],\n",
       " 'cpd01741': ['ddca'],\n",
       " 'cpd01747': ['iad'],\n",
       " 'cpd01749': ['Lfmkynr'],\n",
       " 'cpd01757': ['acmam', 'acmum'],\n",
       " 'cpd01758': ['aprut'],\n",
       " 'cpd01766': ['nmptrc'],\n",
       " 'cpd01772': ['sucbz'],\n",
       " 'cpd01773': ['pphos'],\n",
       " 'cpd01775': ['prbatp'],\n",
       " 'cpd01777': ['prbamp'],\n",
       " 'cpd01783': ['apnnox'],\n",
       " 'cpd01793': ['25dkglcn'],\n",
       " 'cpd01795': ['2dglcn'],\n",
       " 'cpd01796': ['drib'],\n",
       " 'cpd01807': ['3pop'],\n",
       " 'cpd01831': ['im4ac'],\n",
       " 'cpd01844': ['ppap'],\n",
       " 'cpd01845': ['pchlld'],\n",
       " 'cpd01861': ['12ppd__R'],\n",
       " 'cpd01866': ['1mncam'],\n",
       " 'cpd01871': ['3mcat'],\n",
       " 'cpd01879': ['3dsphgn'],\n",
       " 'cpd01881': ['ind3acnl'],\n",
       " 'cpd01882': ['ivcoa'],\n",
       " 'cpd01889': ['4aabutn'],\n",
       " 'cpd01892': ['4hbzcoa'],\n",
       " 'cpd01896': ['6apa'],\n",
       " 'cpd01899': ['crmp_hs'],\n",
       " 'cpd01901': ['all6p'],\n",
       " 'cpd01908': ['glyc2p'],\n",
       " 'cpd01911': ['Nmtrp'],\n",
       " 'cpd01912': ['fuc1p__L'],\n",
       " 'cpd01914': ['metsox_S__L'],\n",
       " 'cpd01915': ['pmtcrn'],\n",
       " 'cpd01919': ['malt6p'],\n",
       " 'cpd01923': ['acmama'],\n",
       " 'cpd01934': ['pcrn'],\n",
       " 'cpd01937': ['thmtp'],\n",
       " 'cpd01942': ['lnlncgcoa'],\n",
       " 'cpd01947': ['btd_RR'],\n",
       " 'cpd01960': ['2ohed'],\n",
       " 'cpd01966': ['3mb2coa'],\n",
       " 'cpd01973': ['4gudbd'],\n",
       " 'cpd01974': ['4hglu'],\n",
       " 'cpd01977': ['4pasp'],\n",
       " 'cpd01981': ['5mtr'],\n",
       " 'cpd01982': ['pram'],\n",
       " 'cpd01997': ['dmbzid'],\n",
       " 'cpd02012': ['fmet'],\n",
       " 'cpd02016': ['rnam'],\n",
       " 'cpd02021': ['sbzcoa'],\n",
       " 'cpd02024': ['Pald'],\n",
       " 'cpd02027': ['mmet'],\n",
       " 'cpd02030': ['skm5p'],\n",
       " 'cpd02039': ['appl'],\n",
       " 'cpd02041': ['S2hglut'],\n",
       " 'cpd02047': ['11docrtstrn'],\n",
       " 'cpd02053': ['2aobut'],\n",
       " 'cpd02060': ['dd2coa', 'trans_dd2coa'],\n",
       " 'cpd02065': ['hLkynr'],\n",
       " 'cpd02068': ['3mgcoa'],\n",
       " 'cpd02069': ['3php'],\n",
       " 'cpd02074': ['6a2ohxnt'],\n",
       " 'cpd02079': ['adprbp'],\n",
       " 'cpd02083': ['cpppg3'],\n",
       " 'cpd02085': ['f2p'],\n",
       " 'cpd02089': ['oxptn'],\n",
       " 'cpd02090': ['g3pg'],\n",
       " 'cpd02095': ['24dab'],\n",
       " 'cpd02096': ['3aib'],\n",
       " 'cpd02097': ['glu5p'],\n",
       " 'cpd02100': ['xu5p__L'],\n",
       " 'cpd02103': ['sucarg'],\n",
       " 'cpd02113': ['dtdprmn'],\n",
       " 'cpd02120': ['23dhdp'],\n",
       " 'cpd02124': ['2maacoa'],\n",
       " 'cpd02125': ['2mb2coa'],\n",
       " 'cpd02140': ['air'],\n",
       " 'cpd02141': ['bilglcur'],\n",
       " 'cpd02147': ['4per'],\n",
       " 'cpd02150': ['23dappa'],\n",
       " 'cpd02152': ['argsuc'],\n",
       " 'cpd02158': ['diasprm'],\n",
       " 'cpd02160': ['sucorn'],\n",
       " 'cpd02168': ['prephytedp'],\n",
       " 'cpd02169': ['psqldp'],\n",
       " 'cpd02182': ['lgt__S'],\n",
       " 'cpd02183': ['oxalc'],\n",
       " 'cpd02184': ['retpalm_11_cis'],\n",
       " 'cpd02186': ['oxglyc'],\n",
       " 'cpd02187': ['2mp2coa'],\n",
       " 'cpd02197': ['5fthf'],\n",
       " 'cpd02199': ['bzalc'],\n",
       " 'cpd02201': ['4ppan'],\n",
       " 'cpd02210': ['3ig3p'],\n",
       " 'cpd02211': ['2aobut'],\n",
       " 'cpd02216': ['mppp9'],\n",
       " 'cpd02227': ['rhcys'],\n",
       " 'cpd02229': ['udcpdp'],\n",
       " 'cpd02230': ['mi4p__D'],\n",
       " 'cpd02233': ['2ameph'],\n",
       " 'cpd02234': ['3hbcoa__R'],\n",
       " 'cpd02235': ['1p2cbxl'],\n",
       " 'cpd02246': ['com'],\n",
       " 'cpd02250': ['3AStrmyn'],\n",
       " 'cpd02255': ['5odhf2a'],\n",
       " 'cpd02258': ['4h2opntn', '4h2oxov'],\n",
       " 'cpd02262': ['xol7a'],\n",
       " 'cpd02263': ['dlnlcgcoa'],\n",
       " 'cpd02271': ['galogs'],\n",
       " 'cpd02295': ['dhna'],\n",
       " 'cpd02305': ['34hpl'],\n",
       " 'cpd02311': ['4izp'],\n",
       " 'cpd02315': ['6pthp'],\n",
       " 'cpd02333': ['quln'],\n",
       " 'cpd02338': ['udpgalfur'],\n",
       " 'cpd02343': ['gluala'],\n",
       " 'cpd02345': ['glu1sa'],\n",
       " 'cpd02357': ['dopa'],\n",
       " 'cpd02361': ['4hoxpacd'],\n",
       " 'cpd02364': ['5g2oxpt'],\n",
       " 'cpd02370': ['gam1p'],\n",
       " 'cpd02371': ['tagdp__D'],\n",
       " 'cpd02374': ['tmlys'],\n",
       " 'cpd02375': ['dcamp'],\n",
       " 'cpd02385': ['am6sa'],\n",
       " 'cpd02394': ['gar'],\n",
       " 'cpd02398': ['zymstnl'],\n",
       " 'cpd02416': ['acgam'],\n",
       " 'cpd02428': ['B_ara1p'],\n",
       " 'cpd02431': ['1pyr5c'],\n",
       " 'cpd02435': ['5adtststerone'],\n",
       " 'cpd02437': ['56dura'],\n",
       " 'cpd02438': ['mcom'],\n",
       " 'cpd02441': ['3ddgc'],\n",
       " 'cpd02446': ['d5kg'],\n",
       " 'cpd02465': ['thdp'],\n",
       " 'cpd02483': ['b124tc', 'hacon_C', 'hacon_T'],\n",
       " 'cpd02484': ['mi3p__D'],\n",
       " 'cpd02494': ['23dhba'],\n",
       " 'cpd02498': ['23dhmb'],\n",
       " 'cpd02499': ['aprgstrn'],\n",
       " 'cpd02500': ['34dhpac'],\n",
       " 'cpd02501': ['dhpppn'],\n",
       " 'cpd02503': ['3hibutcoa'],\n",
       " 'cpd02507': ['5cohe'],\n",
       " 'cpd02508': ['5dh4dglcn'],\n",
       " 'cpd02511': ['ap5a'],\n",
       " 'cpd02512': ['mi13p'],\n",
       " 'cpd02513': ['mi34p'],\n",
       " 'cpd02522': ['L2aadp6sa'],\n",
       " 'cpd02524': ['ptcys'],\n",
       " 'cpd02535': ['23dhmp'],\n",
       " 'cpd02536': ['mucl'],\n",
       " 'cpd02546': ['ckdo', 'cmpkdo'],\n",
       " 'cpd02547': ['applp'],\n",
       " ...}"
      ]
     },
     "execution_count": 9,
     "metadata": {},
     "output_type": "execute_result"
    }
   ],
   "source": [
    "import numpy as np\n",
    "df_seed = modelseed_met.loc[36463:39317, \"MS ID\":'External ID']\n",
    "pivoted_seed = df_seed.pivot_table( columns='MS ID',values='External ID', aggfunc=list)\n",
    "\n",
    "pivoted_seed\n",
    "modelseed_met_dict = pivoted_seed.to_dict('index')\n",
    "modelseed_met_dict2 = modelseed_met_dict['External ID']\n",
    "modelseed_met_dict2\n",
    "\n"
   ]
  },
  {
   "cell_type": "code",
   "execution_count": 10,
   "metadata": {},
   "outputs": [
    {
     "name": "stdout",
     "output_type": "stream",
     "text": [
      "          MS ID Old MS ID                                        External ID  \\\n",
      "0      rxn07912  rxn07912                                       12DGR120tipp   \n",
      "1      rxn07913  rxn07913                                       12DGR140tipp   \n",
      "2      rxn07914  rxn07914                                       12DGR141tipp   \n",
      "3      rxn07915  rxn07915                                       12DGR160tipp   \n",
      "4      rxn07916  rxn07916                                       12DGR161tipp   \n",
      "5      rxn07917  rxn07917                                       12DGR180tipp   \n",
      "6      rxn07918  rxn07918                                       12DGR181tipp   \n",
      "7      rxn07919  rxn07919                                          12PPDRtex   \n",
      "8      rxn07920  rxn07920                                          12PPDRtpp   \n",
      "9      rxn07921  rxn07921                                          12PPDStex   \n",
      "10     rxn07922  rxn07922                                          12PPDStpp   \n",
      "11     rxn10140  rxn10140                                             12PPDt   \n",
      "12     rxn09611  rxn09611                                              13BGH   \n",
      "13     rxn39070  rxn09611                                             13BGHe   \n",
      "14     rxn09400  rxn09400                                               13GS   \n",
      "15     rxn07923  rxn07923                                      14GLUCANabcpp   \n",
      "16     rxn07924  rxn07924                                       14GLUCANtexi   \n",
      "17     rxn13184  rxn13184                                               16GS   \n",
      "18     rxn01579       NaN                                            1PPDCRc   \n",
      "19     rxn07925  rxn07925                                          23CAMPtex   \n",
      "20     rxn13185  rxn13185                                            23CAPPD   \n",
      "21     rxn07926  rxn07926                                          23CCMPtex   \n",
      "22     rxn07927  rxn07927                                          23CGMPtex   \n",
      "23     rxn02521       NaN                                            23CN2P1   \n",
      "24     rxn02522       NaN                                            23CN2P2   \n",
      "25     rxn02762       NaN                                            23CN2P3   \n",
      "26     rxn03483       NaN                                            23CN2P4   \n",
      "27     rxn07928  rxn07928                                          23CUMPtex   \n",
      "28     rxn07929  rxn07929                                        23DAPPAt2pp   \n",
      "29     rxn07930  rxn07930                                         23DAPPAtex   \n",
      "...         ...       ...                                                ...   \n",
      "53477  rxn27418       NaN                                          UGD-RXN.c   \n",
      "53478  rxn00211       NaN                       UGD-RXN.c.plantexp.CPD-12575   \n",
      "53479  rxn00119       NaN                                        UMPKI-RXN.c   \n",
      "53480  rxn17638       NaN                                       UPPSYN-RXN.c   \n",
      "53481  rxn00711       NaN                         URACIL-PRIBOSYLTRANS-RXN.c   \n",
      "53482  rxn29942       NaN                         URACIL-PRIBOSYLTRANS-RXN.d   \n",
      "53483  rxn01523       NaN                                URATE-OXIDASE-RXN.c   \n",
      "53484  rxn12897       NaN                             UREA-CARBOXYLASE-RXN.c   \n",
      "53485  rxn00101       NaN                                       UREASE-RXN.c   \n",
      "53486  rxn00327       NaN                    UREIDOGLYCOLATE-HYDROLASE-RXN.c   \n",
      "53487  rxn00562       NaN                        UREIDOGLYCOLATE-LYASE-RXN.c   \n",
      "53488  rxn27430       NaN                         URIDINE-NUCLEOSIDASE-RXN.c   \n",
      "53489  rxn15118       NaN      URIDINE-NUCLEOSIDASE-RXN.c.plantexp.CPD0-1108   \n",
      "53490  rxn00713       NaN                                         URKI-RXN.c   \n",
      "53491  rxn02288       NaN                               UROGENDECARBOX-RXN.c   \n",
      "53492  rxn02264       NaN                                 UROGENIIISYN-RXN.c   \n",
      "53493  rxn05005       NaN                        UROPORIIIMETHYLTRANSA-RXN.c   \n",
      "53494  rxn01366       NaN                                       URPHOS-RXN.c   \n",
      "53495  rxn03842       NaN                                         URUR-RXN.c   \n",
      "53496  rxn00355       NaN                         UTPHEXPURIDYLYLTRANS-RXN.c   \n",
      "53497  rxn27438       NaN                          VALINE--TRNA-LIGASE-RXN.c   \n",
      "53498  rxn27442       NaN             VITEXIN-BETA-GLUCOSYLTRANSFERASE-RXN.c   \n",
      "53499  rxn02544       NaN  VITEXIN-BETA-GLUCOSYLTRANSFERASE-RXN.c.plantex...   \n",
      "53500  rxn01544       NaN                              XANPRIBOSYLTRAN-RXN.c   \n",
      "53501  rxn01649       NaN                          XANTHOSINEPHOSPHORY-RXN.c   \n",
      "53502  rxn01961       NaN                                       XMPXAN-RXN.c   \n",
      "53503  rxn27445       NaN                                      XYLISOM-RXN.c   \n",
      "53504  rxn15192       NaN               XYLISOM-RXN.c.plantexp.BETA-D-XYLOSE   \n",
      "53505  rxn15191       NaN                      XYLISOM-RXN.c.plantexp.XYLOSE   \n",
      "53506  rxn01199       NaN                                    XYLULOKIN-RXN.c   \n",
      "\n",
      "         Source  \n",
      "0          BiGG  \n",
      "1          BiGG  \n",
      "2          BiGG  \n",
      "3          BiGG  \n",
      "4          BiGG  \n",
      "5          BiGG  \n",
      "6          BiGG  \n",
      "7          BiGG  \n",
      "8          BiGG  \n",
      "9          BiGG  \n",
      "10         BiGG  \n",
      "11         BiGG  \n",
      "12         BiGG  \n",
      "13         BiGG  \n",
      "14         BiGG  \n",
      "15         BiGG  \n",
      "16         BiGG  \n",
      "17         BiGG  \n",
      "18         BiGG  \n",
      "19         BiGG  \n",
      "20         BiGG  \n",
      "21         BiGG  \n",
      "22         BiGG  \n",
      "23         BiGG  \n",
      "24         BiGG  \n",
      "25         BiGG  \n",
      "26         BiGG  \n",
      "27         BiGG  \n",
      "28         BiGG  \n",
      "29         BiGG  \n",
      "...         ...  \n",
      "53477  PlantCyc  \n",
      "53478  PlantCyc  \n",
      "53479  PlantCyc  \n",
      "53480  PlantCyc  \n",
      "53481  PlantCyc  \n",
      "53482  PlantCyc  \n",
      "53483  PlantCyc  \n",
      "53484  PlantCyc  \n",
      "53485  PlantCyc  \n",
      "53486  PlantCyc  \n",
      "53487  PlantCyc  \n",
      "53488  PlantCyc  \n",
      "53489  PlantCyc  \n",
      "53490  PlantCyc  \n",
      "53491  PlantCyc  \n",
      "53492  PlantCyc  \n",
      "53493  PlantCyc  \n",
      "53494  PlantCyc  \n",
      "53495  PlantCyc  \n",
      "53496  PlantCyc  \n",
      "53497  PlantCyc  \n",
      "53498  PlantCyc  \n",
      "53499  PlantCyc  \n",
      "53500  PlantCyc  \n",
      "53501  PlantCyc  \n",
      "53502  PlantCyc  \n",
      "53503  PlantCyc  \n",
      "53504  PlantCyc  \n",
      "53505  PlantCyc  \n",
      "53506  PlantCyc  \n",
      "\n",
      "[53507 rows x 4 columns]\n"
     ]
    }
   ],
   "source": [
    "modelseed_reac = read_csv(\"/Users/lizrad/Documents/Vibrio_folder/reaction_aliases_modelseed.tsv\" , sep='\\t' , low_memory=False)\n",
    "print(modelseed_reac)"
   ]
  },
  {
   "cell_type": "code",
   "execution_count": 11,
   "metadata": {},
   "outputs": [
    {
     "data": {
      "text/html": [
       "<div>\n",
       "<style scoped>\n",
       "    .dataframe tbody tr th:only-of-type {\n",
       "        vertical-align: middle;\n",
       "    }\n",
       "\n",
       "    .dataframe tbody tr th {\n",
       "        vertical-align: top;\n",
       "    }\n",
       "\n",
       "    .dataframe thead th {\n",
       "        text-align: right;\n",
       "    }\n",
       "</style>\n",
       "<table border=\"1\" class=\"dataframe\">\n",
       "  <thead>\n",
       "    <tr style=\"text-align: right;\">\n",
       "      <th>MS ID</th>\n",
       "      <th>rxn00001</th>\n",
       "      <th>rxn00002</th>\n",
       "      <th>rxn00006</th>\n",
       "      <th>rxn00007</th>\n",
       "      <th>rxn00010</th>\n",
       "      <th>rxn00014</th>\n",
       "      <th>rxn00016</th>\n",
       "      <th>rxn00018</th>\n",
       "      <th>rxn00029</th>\n",
       "      <th>rxn00044</th>\n",
       "      <th>...</th>\n",
       "      <th>rxn39083</th>\n",
       "      <th>rxn39084</th>\n",
       "      <th>rxn39085</th>\n",
       "      <th>rxn39086</th>\n",
       "      <th>rxn39087</th>\n",
       "      <th>rxn39088</th>\n",
       "      <th>rxn39089</th>\n",
       "      <th>rxn39090</th>\n",
       "      <th>rxn39091</th>\n",
       "      <th>rxn39092</th>\n",
       "    </tr>\n",
       "  </thead>\n",
       "  <tbody>\n",
       "    <tr>\n",
       "      <th>External ID</th>\n",
       "      <td>[IPP1, PPA, PPA_1]</td>\n",
       "      <td>[DUR1_2]</td>\n",
       "      <td>[CAT, CTA1, CTT1]</td>\n",
       "      <td>[ATH1, NTH1, NTH2, TREH]</td>\n",
       "      <td>[GLXCBL, GLXCL]</td>\n",
       "      <td>[CCP, CYCPO]</td>\n",
       "      <td>[HXAD]</td>\n",
       "      <td>[RBPC]</td>\n",
       "      <td>[HEM2, PPBNGS]</td>\n",
       "      <td>[AHXDH]</td>\n",
       "      <td>...</td>\n",
       "      <td>[G16MTg]</td>\n",
       "      <td>[GCC2bim]</td>\n",
       "      <td>[NH4tm]</td>\n",
       "      <td>[NTRLASE2]</td>\n",
       "      <td>[PIN4Kn_SC]</td>\n",
       "      <td>[PSERDv_SC]</td>\n",
       "      <td>[PSERSm_SC]</td>\n",
       "      <td>[SBPP2er]</td>\n",
       "      <td>[THMDPe]</td>\n",
       "      <td>[SO3De]</td>\n",
       "    </tr>\n",
       "  </tbody>\n",
       "</table>\n",
       "<p>1 rows × 5134 columns</p>\n",
       "</div>"
      ],
      "text/plain": [
       "MS ID                  rxn00001  rxn00002           rxn00006  \\\n",
       "External ID  [IPP1, PPA, PPA_1]  [DUR1_2]  [CAT, CTA1, CTT1]   \n",
       "\n",
       "MS ID                        rxn00007         rxn00010      rxn00014 rxn00016  \\\n",
       "External ID  [ATH1, NTH1, NTH2, TREH]  [GLXCBL, GLXCL]  [CCP, CYCPO]   [HXAD]   \n",
       "\n",
       "MS ID       rxn00018        rxn00029 rxn00044   ...     rxn39083   rxn39084  \\\n",
       "External ID   [RBPC]  [HEM2, PPBNGS]  [AHXDH]   ...     [G16MTg]  [GCC2bim]   \n",
       "\n",
       "MS ID       rxn39085    rxn39086     rxn39087     rxn39088     rxn39089  \\\n",
       "External ID  [NH4tm]  [NTRLASE2]  [PIN4Kn_SC]  [PSERDv_SC]  [PSERSm_SC]   \n",
       "\n",
       "MS ID         rxn39090  rxn39091 rxn39092  \n",
       "External ID  [SBPP2er]  [THMDPe]  [SO3De]  \n",
       "\n",
       "[1 rows x 5134 columns]"
      ]
     },
     "execution_count": 11,
     "metadata": {},
     "output_type": "execute_result"
    },
    {
     "data": {
      "text/plain": [
       "{'rxn00001': ['IPP1', 'PPA', 'PPA_1'],\n",
       " 'rxn00002': ['DUR1_2'],\n",
       " 'rxn00006': ['CAT', 'CTA1', 'CTT1'],\n",
       " 'rxn00007': ['ATH1', 'NTH1', 'NTH2', 'TREH'],\n",
       " 'rxn00010': ['GLXCBL', 'GLXCL'],\n",
       " 'rxn00014': ['CCP', 'CYCPO'],\n",
       " 'rxn00016': ['HXAD'],\n",
       " 'rxn00018': ['RBPC'],\n",
       " 'rxn00029': ['HEM2', 'PPBNGS'],\n",
       " 'rxn00044': ['AHXDH'],\n",
       " 'rxn00060': ['HEM3'],\n",
       " 'rxn00061': ['ATPH1'],\n",
       " 'rxn00062': ['ATPM', 'ATPOBJ', 'NTP1'],\n",
       " 'rxn00063': ['NTPP6'],\n",
       " 'rxn00065': ['ADNCYC', 'CYR1'],\n",
       " 'rxn00069': ['GLT1', 'GLUSx'],\n",
       " 'rxn00075': ['NADNm'],\n",
       " 'rxn00076': ['NADDP', 'NADDPe'],\n",
       " 'rxn00077': ['NADK', 'POS5_1', 'UTR1_1', 'YEL041W_1'],\n",
       " 'rxn00083': ['NADTRHD', 'TEST_NADTRHD', 'THD1', 'THD5'],\n",
       " 'rxn00085': ['GLUSy'],\n",
       " 'rxn00086': ['GLR1', 'GTHO', 'GTHOr', 'GTHRD'],\n",
       " 'rxn00088': ['NADPPPS', 'U101'],\n",
       " 'rxn00092': ['NDP1'],\n",
       " 'rxn00095': ['AP4AH', 'AP4AHr'],\n",
       " 'rxn00096': ['APA2', 'ATPATF1'],\n",
       " 'rxn00097': ['ADK1', 'ADK1_1'],\n",
       " 'rxn00100': ['DPCOAK', 'U96'],\n",
       " 'rxn00101': ['UREA2'],\n",
       " 'rxn00102': ['H2CO3D', 'HCO3E'],\n",
       " 'rxn00104': ['PPIK', 'PPK2', 'PPK2r'],\n",
       " 'rxn00105': ['NMNAT', 'NMNATr'],\n",
       " 'rxn00106': ['PPA2'],\n",
       " 'rxn00116': ['NDP7'],\n",
       " 'rxn00117': ['NDPK2', 'YNK1_1'],\n",
       " 'rxn00119': ['UMPK', 'UMPKURIDK1', 'URA6_1', 'URA6_2', 'URIDK1'],\n",
       " 'rxn00120': ['NTP7'],\n",
       " 'rxn00122': ['FAD1', 'FMNAT', 'FMNATr'],\n",
       " 'rxn00123': ['PYDXPP'],\n",
       " 'rxn00124': ['PYDXK', 'U83'],\n",
       " 'rxn00126': ['METAT', 'SAM1', 'SAM2'],\n",
       " 'rxn00127': ['ADMDC', 'ADMDCr', 'SPE2'],\n",
       " 'rxn00130': ['AMD1_1'],\n",
       " 'rxn00132': ['NTD7', 'U30'],\n",
       " 'rxn00134': ['ADNK1', 'YJR105W'],\n",
       " 'rxn00137': ['BPNT', 'MET22'],\n",
       " 'rxn00138': ['NADS1m', 'QNS1_1'],\n",
       " 'rxn00139': ['ADPT', 'APT1', 'APT2'],\n",
       " 'rxn00140': ['PDE1', 'PDE2_1'],\n",
       " 'rxn00141': ['AHC', 'AHCi', 'SAH1'],\n",
       " 'rxn00143': ['AHCYSNS'],\n",
       " 'rxn00145': ['L-LACD', 'L-LACDm', 'L_LACD'],\n",
       " 'rxn00147': ['PPS'],\n",
       " 'rxn00148': ['CDC19', 'PYK', 'PYK2'],\n",
       " 'rxn00151': ['PPDK'],\n",
       " 'rxn00154': ['PDH'],\n",
       " 'rxn00157': ['PFL', 'PFLi', 'PFLr'],\n",
       " 'rxn00159': ['ME1', 'ME1_rev', 'ME1x'],\n",
       " 'rxn00160': ['MALDDH', 'ME1x_D'],\n",
       " 'rxn00161': ['ME2'],\n",
       " 'rxn00162': ['OAADC', 'OXDE'],\n",
       " 'rxn00165': ['CHA1_2', 'SER_AL', 'YIL167W'],\n",
       " 'rxn00168': ['PDC1', 'PDC5', 'PDC6', 'PYRDC'],\n",
       " 'rxn00170': ['ACH1', 'ACOAH'],\n",
       " 'rxn00171': ['ACALD', 'ACALDi'],\n",
       " 'rxn00173': ['PTA', 'PTAr'],\n",
       " 'rxn00174': ['MCD'],\n",
       " 'rxn00175': ['ACS', 'ACS1', 'ACSr'],\n",
       " 'rxn00178': ['AACOAT', 'ACACT1', 'ACACT1r', 'ERG10', 'KAT1'],\n",
       " 'rxn00179': ['GLU5K'],\n",
       " 'rxn00180': ['PRO1'],\n",
       " 'rxn00182': ['GDH2'],\n",
       " 'rxn00183': ['GSADH', 'PUTA3'],\n",
       " 'rxn00184': ['GDH1', 'GDH3'],\n",
       " 'rxn00186': ['OPAH'],\n",
       " 'rxn00187': ['GLN1', 'GLNS_i'],\n",
       " 'rxn00189': ['U42', 'U43'],\n",
       " 'rxn00190': ['NADS2', 'NADS2i'],\n",
       " 'rxn00191': ['ALATA_L', 'YDR111C'],\n",
       " 'rxn00192': ['ACGS'],\n",
       " 'rxn00193': ['GLUR'],\n",
       " 'rxn00194': ['GAD1', 'GLUDC'],\n",
       " 'rxn00198': ['ICDHy', 'ICDHyr'],\n",
       " 'rxn00199': ['IDP2_2', 'IDP3_2'],\n",
       " 'rxn00202': ['HCITS', 'LYS20_1', 'LYS21'],\n",
       " 'rxn00203': ['OXGDC'],\n",
       " 'rxn00205': ['GPX1', 'GPX2', 'GSHPO', 'GTHP', 'GTHPe', 'HYR1'],\n",
       " 'rxn00206': ['SOD', 'SODr', 'SPODM'],\n",
       " 'rxn00208': ['PDX3_1', 'PDX3_5'],\n",
       " 'rxn00209': ['PDX3_2', 'PDX5PO', 'PDX5POi'],\n",
       " 'rxn00211': ['UDPGD', 'UDPGDi', 'UDPGDr'],\n",
       " 'rxn00213': ['GALU', 'GALUi', 'UGP1', 'YHL012W'],\n",
       " 'rxn00214': ['GAL10', 'UDPG4E'],\n",
       " 'rxn00216': ['GLK1_1', 'HEX1', 'HXK1_2', 'HXK2_2'],\n",
       " 'rxn00217': ['G1Dx'],\n",
       " 'rxn00220': ['G6PP'],\n",
       " 'rxn00221': ['G1PP'],\n",
       " 'rxn00223': ['XYLI2', 'XYLI2i'],\n",
       " 'rxn00224': ['FCLT'],\n",
       " 'rxn00225': ['ACKr'],\n",
       " 'rxn00227': ['ACYP_2'],\n",
       " 'rxn00229': ['LO'],\n",
       " 'rxn00236': ['NDP3'],\n",
       " 'rxn00237': ['NDPK1', 'YNK1_8'],\n",
       " 'rxn00239': ['GK1', 'GUK1_1'],\n",
       " 'rxn00241': ['NTP3'],\n",
       " 'rxn00242': ['G35DP', 'GDPDP3PH', 'PPGPP', 'PPGPPDP'],\n",
       " 'rxn00245': ['TARTD'],\n",
       " 'rxn00247': ['PCK1', 'PPCK', 'PPCKr'],\n",
       " 'rxn00248': ['MDH', 'MDHi2'],\n",
       " 'rxn00249': ['MDHy'],\n",
       " 'rxn00250': ['PC', 'PYC1', 'PYC2'],\n",
       " 'rxn00251': ['PPC'],\n",
       " 'rxn00256': ['CIT2', 'CS'],\n",
       " 'rxn00260': ['AAT2_1', 'ASPTA', 'ASPTA1', 'ASPTA1r'],\n",
       " 'rxn00262': ['ASPO7'],\n",
       " 'rxn00265': ['CITL', 'CITLr'],\n",
       " 'rxn00269': ['GLYO1'],\n",
       " 'rxn00272': ['AGT', 'AGTi', 'YFL030W'],\n",
       " 'rxn00274': ['GLYAT', 'GLYATRi', 'GLYATi'],\n",
       " 'rxn00283': ['ALAR', 'ALARi'],\n",
       " 'rxn00285': ['SUCOAS', 'SUCOAS1m'],\n",
       " 'rxn00288': ['FRD', 'FRDSUCD1i', 'SUCD1', 'SUCD1i'],\n",
       " 'rxn00289': ['MCITL2', 'MCL', 'MICITL'],\n",
       " 'rxn00290': ['OCOAT1', 'OCOAT1r'],\n",
       " 'rxn00291': ['SGDS'],\n",
       " 'rxn00292': ['UAG2EMA'],\n",
       " 'rxn00293': ['UAGDPr'],\n",
       " 'rxn00295': ['UAG4E'],\n",
       " 'rxn00297': ['UAG2E', 'UAG2Ei'],\n",
       " 'rxn00299': ['FOL2', 'GTPCI'],\n",
       " 'rxn00300': ['GTPCII2', 'RIB1'],\n",
       " 'rxn00301': ['NTPP2'],\n",
       " 'rxn00303': ['GTPDPK'],\n",
       " 'rxn00305': ['PEPCK_re'],\n",
       " 'rxn00307': ['GUACYC'],\n",
       " 'rxn00312': ['LYSMO'],\n",
       " 'rxn00313': ['DAPDC'],\n",
       " 'rxn00320': ['LYSRC'],\n",
       " 'rxn00321': ['LYSAM'],\n",
       " 'rxn00322': ['LYSDC'],\n",
       " 'rxn00324': ['GLYCLTDy', 'GLYCLTDyr'],\n",
       " 'rxn00327': ['DAL3'],\n",
       " 'rxn00328': ['DDPGA'],\n",
       " 'rxn00330': ['DAL7', 'MALS', 'MLS1'],\n",
       " 'rxn00331': ['MCAL'],\n",
       " 'rxn00333': ['GLYCTO1', 'GLYCTO10'],\n",
       " 'rxn00336': ['ICL', 'ICL1', 'ICL2'],\n",
       " 'rxn00337': ['ASPK', 'ASPKi', 'HOM3'],\n",
       " 'rxn00338': ['ASPO6'],\n",
       " 'rxn00342': ['ASP1', 'ASP31', 'ASP32', 'ASP33', 'ASP34'],\n",
       " 'rxn00346': ['ASP1DC', 'U98'],\n",
       " 'rxn00348': ['ASPR', 'ASPRM'],\n",
       " 'rxn00350': ['GGTAe2'],\n",
       " 'rxn00351': ['GSH2', 'GTHS'],\n",
       " 'rxn00355': ['GAL7_1', 'GALT', 'GALTi'],\n",
       " 'rxn00358': ['UDPGALM'],\n",
       " 'rxn00361': ['ADSK', 'ADSKr', 'MET14'],\n",
       " 'rxn00363': ['NTD4', 'U29'],\n",
       " 'rxn00364': ['CYTK1', 'U18'],\n",
       " 'rxn00365': ['CYTDK1'],\n",
       " 'rxn00367': ['NTPP4'],\n",
       " 'rxn00369': ['CYTDK2', 'URK1_2'],\n",
       " 'rxn00371': ['FDH', 'FDH1', 'FDHr', 'YPL275W', 'YPL276W'],\n",
       " 'rxn00372': ['FCOAH2'],\n",
       " 'rxn00373': ['OXADC'],\n",
       " 'rxn00374': ['FORAMD'],\n",
       " 'rxn00375': ['NFORGLUAH'],\n",
       " 'rxn00377': ['SFGTH', 'SFGTHi', 'YJL068C'],\n",
       " 'rxn00379': ['MET3', 'SADT', 'SADT1r'],\n",
       " 'rxn00380': ['APA1_3', 'SLFAT'],\n",
       " 'rxn00391': ['ACP1(FMN)', 'ACP1_FMN', 'ACP1_FMN_', 'PHO11'],\n",
       " 'rxn00392': ['FMN1_1', 'RBFK'],\n",
       " 'rxn00395': ['ARGD', 'ARGDE'],\n",
       " 'rxn00396': ['ARGKr'],\n",
       " 'rxn00403': ['NOPD'],\n",
       " 'rxn00405': ['ARGDC'],\n",
       " 'rxn00408': ['NTP5'],\n",
       " 'rxn00409': ['NDPK3', 'YNK1_2'],\n",
       " 'rxn00410': ['URA7_2', 'URA8_2'],\n",
       " 'rxn00412': ['CTPS2', 'URA7_1', 'URA8_1'],\n",
       " 'rxn00414': ['CBPS', 'CBPSn'],\n",
       " 'rxn00416': ['ASN1', 'ASN2', 'ASNS1'],\n",
       " 'rxn00418': ['SERAS', 'SERASr'],\n",
       " 'rxn00420': ['PSP_L', 'SER2'],\n",
       " 'rxn00422': ['SPA'],\n",
       " 'rxn00423': ['SERAT', 'SERATi', 'U48'],\n",
       " 'rxn00427': ['PRDX'],\n",
       " 'rxn00429': ['ALDD1', 'ALDD1x'],\n",
       " 'rxn00433': ['SARCO', 'SARCOX'],\n",
       " 'rxn00436': ['TDP'],\n",
       " 'rxn00437': ['THI80_2', 'TMDPPK'],\n",
       " 'rxn00438': ['TMPK', 'TMPKr', 'U76'],\n",
       " 'rxn00440': ['THI80_1', 'TMDPK'],\n",
       " 'rxn00442': ['OXGDC2'],\n",
       " 'rxn00452': ['HCYSMT', 'MHT1', 'SAM4'],\n",
       " 'rxn00453': ['AHSERL', 'MET17_1'],\n",
       " 'rxn00455': ['FMETDF'],\n",
       " 'rxn00459': ['ENO', 'ENO1', 'ENO2', 'ERR1_1', 'ERR1_2', 'ERR2'],\n",
       " 'rxn00461': ['UAGCVT'],\n",
       " 'rxn00463': ['NTPP8'],\n",
       " 'rxn00470': ['or NDC'],\n",
       " 'rxn00474': ['TRPS2'],\n",
       " 'rxn00478': ['TRPO2', 'YJR078W'],\n",
       " 'rxn00483': ['TRPTA'],\n",
       " 'rxn00493': ['ARO9_1', 'PHETA1'],\n",
       " 'rxn00497': ['PHYCBOXL'],\n",
       " 'rxn00498': ['ERG9_1'],\n",
       " 'rxn00499': ['LDH_L'],\n",
       " 'rxn00500': ['LDH_D', 'LDH_Dir'],\n",
       " 'rxn00501': ['MMSAD3'],\n",
       " 'rxn00503': ['P5CD'],\n",
       " 'rxn00505': ['ICDHxi'],\n",
       " 'rxn00506': ['ALD2', 'ALD3', 'ALDD2x', 'ALDD2xr'],\n",
       " 'rxn00507': ['ALD6', 'ALDD2y'],\n",
       " 'rxn00508': ['SSALx'],\n",
       " 'rxn00509': ['SSALy', 'SSALyr', 'YBR006W'],\n",
       " 'rxn00510': ['LYS1', 'SACCD2'],\n",
       " 'rxn00512': ['GLYCLTDx', 'GLYCLTDxr'],\n",
       " 'rxn00513': ['NTP10'],\n",
       " 'rxn00514': ['ITPASE2', 'NTPP9'],\n",
       " 'rxn00515': ['NDPK9', 'YNK1_9'],\n",
       " 'rxn00527': ['AAT1_2',\n",
       "  'AAT2_2',\n",
       "  'ARO8',\n",
       "  'ARO9_2',\n",
       "  'TYRTA',\n",
       "  'TYRTAi',\n",
       "  'TYRTAm',\n",
       "  'TYRTAp'],\n",
       " 'rxn00533': ['ACC1', 'ACCOAC', 'ACCOACr'],\n",
       " 'rxn00536': ['ALCD2', 'ALCD2y'],\n",
       " 'rxn00537': ['PALDP', 'PPACAH'],\n",
       " 'rxn00540': ['HOPNTAL', 'HOPNTAL3'],\n",
       " 'rxn00541': ['GLY1', 'THRA', 'THRA2', 'THRAi', 'THRAr'],\n",
       " 'rxn00543': ['ADH1',\n",
       "  'ADH2',\n",
       "  'ADH4',\n",
       "  'ADH5',\n",
       "  'ALCD1',\n",
       "  'ALCD2if',\n",
       "  'ALCD2ir',\n",
       "  'ALCD2m',\n",
       "  'ALCD2x',\n",
       "  'SFA1_2'],\n",
       " 'rxn00545': ['PFK', 'PFK1_1', 'PFK2'],\n",
       " 'rxn00546': ['M1PD'],\n",
       " 'rxn00547': ['HEX7', 'HXK1_4', 'HXK2_4'],\n",
       " 'rxn00549': ['FBP', 'FBP1'],\n",
       " 'rxn00550': ['FBP26'],\n",
       " 'rxn00555': ['GF6PTA', 'GF6PTAr', 'GFA1'],\n",
       " 'rxn00558': ['PGI', 'PGI1_1'],\n",
       " 'rxn00559': ['MAN6PI', 'PMI40'],\n",
       " 'rxn00560': ['UREASE'],\n",
       " 'rxn00567': ['NIR'],\n",
       " 'rxn00568': ['NTRIR2x'],\n",
       " 'rxn00569': ['NTRIR2y', 'NTRIRy'],\n",
       " 'rxn00575': ['SUC2', 'SUCH', 'SUCR'],\n",
       " 'rxn00582': ['ISOMS'],\n",
       " 'rxn00584': ['BZDIOLDH'],\n",
       " 'rxn00587': ['CAT23DOX'],\n",
       " 'rxn00588': ['CATA', 'CATDOX'],\n",
       " 'rxn00598': ['3OXACOA', '3OXCOAT'],\n",
       " 'rxn00601': ['AST'],\n",
       " 'rxn00602': ['MMM', 'MMM2'],\n",
       " 'rxn00604': ['G6PDH', 'G6PDH2', 'G6PDH2r', 'G6PDHy', 'ZWF1'],\n",
       " 'rxn00605': ['TPS1', 'TPS3', 'TRE6PS', 'TSL1'],\n",
       " 'rxn00606': ['TRE6PH'],\n",
       " 'rxn00607': ['MAL6PG'],\n",
       " 'rxn00608': ['PGGH'],\n",
       " 'rxn00609': ['MI1PS'],\n",
       " 'rxn00610': ['G3PT', 'HOR2', 'RHR2'],\n",
       " 'rxn00611': ['G3PD1', 'G3PD1ir', 'GPD1', 'GPD2'],\n",
       " 'rxn00612': ['G3PD2'],\n",
       " 'rxn00615': ['GLYK', 'GLYKr', 'GUT1'],\n",
       " 'rxn00616': ['G3PD'],\n",
       " 'rxn00621': ['G3PCT'],\n",
       " 'rxn00623': ['ECM17', 'MET10', 'SULR', 'SULRi'],\n",
       " 'rxn00624': ['CYSSADS'],\n",
       " 'rxn00629': ['MNLDH'],\n",
       " 'rxn00634': ['SBTD_D', 'SBTD_D2', 'SBTD_Dr', 'SOR1'],\n",
       " 'rxn00638': ['ALGD'],\n",
       " 'rxn00639': ['GDPMNP'],\n",
       " 'rxn00640': ['MAN1PT2', 'MAN1PT2_r', 'MAN1PT2r'],\n",
       " 'rxn00641': ['MAN1PT', 'PSA1'],\n",
       " 'rxn00642': ['GDPMD', 'GMAND'],\n",
       " 'rxn00646': ['GLUCYS', 'GLUCYSL', 'GSH1'],\n",
       " 'rxn00647': ['ASPTA4', 'R00896'],\n",
       " 'rxn00649': ['CYSS', 'CYSSr', 'YGR012W'],\n",
       " 'rxn00650': ['AMPTASECG', 'TRIA'],\n",
       " 'rxn00653': ['ALDD22x'],\n",
       " 'rxn00654': ['UPPN'],\n",
       " 'rxn00656': ['APATr', 'BALAAT'],\n",
       " 'rxn00669': ['ACCOAL', 'ACCOAL2r'],\n",
       " 'rxn00670': ['PTA2', 'PTA2r', 'PTAr_ppa'],\n",
       " 'rxn00671': ['MMSAD1', 'MMTSAO'],\n",
       " 'rxn00672': ['MMCD'],\n",
       " 'rxn00674': ['ACS2'],\n",
       " 'rxn00676': ['ACACT10rr', 'ACOACAT', 'MACCOAT'],\n",
       " 'rxn00679': ['MCITS'],\n",
       " 'rxn00686': ['DFR1_2', 'DHFR', 'DHFRi'],\n",
       " 'rxn00690': ['ADE3_2', 'FTHFL', 'FTHFLi', 'FTHFLm'],\n",
       " 'rxn00691': ['FTHFD'],\n",
       " 'rxn00692': ['GHMT', 'GHMT2', 'GHMT2r', 'SHM2'],\n",
       " 'rxn00693': ['METS', 'METSMHPGLUT_b', 'METSr', 'MTHFB12D', 'U47'],\n",
       " 'rxn00695': ['GLGC', 'GLGCr'],\n",
       " 'rxn00701': ['GAL7_2', 'UGLT'],\n",
       " 'rxn00702': ['CDPGLU'],\n",
       " 'rxn00707': ['CYTDK3'],\n",
       " 'rxn00708': ['NTD2', 'U34'],\n",
       " 'rxn00709': ['URIK1', 'URK1_3'],\n",
       " 'rxn00710': ['OMPDC', 'URA3'],\n",
       " 'rxn00711': ['FUR1', 'UPPRT', 'UPPRTr'],\n",
       " 'rxn00713': ['URIK2', 'URK1_1'],\n",
       " 'rxn00715': ['URIK3'],\n",
       " 'rxn00717': ['FCY1'],\n",
       " 'rxn00720': ['DURAD'],\n",
       " 'rxn00726': ['ANS2'],\n",
       " 'rxn00727': ['ANS', 'ANS1', 'TRP2_1', 'TRP3_1'],\n",
       " 'rxn00728': ['KYN', 'KYNASE2', 'YLR231C_1'],\n",
       " 'rxn00737': ['CHA1_1'],\n",
       " 'rxn00740': ['SHSL4', 'YML082W'],\n",
       " 'rxn00741': ['2HBO', 'LDH2'],\n",
       " 'rxn00742': ['CYSTGLr'],\n",
       " 'rxn00743': ['ALKP', 'ALKPr'],\n",
       " 'rxn00744': ['DAK1', 'DAK2', 'DHAK'],\n",
       " 'rxn00745': ['DHAPT'],\n",
       " 'rxn00747': ['TPI'],\n",
       " 'rxn00748': ['MGSA'],\n",
       " 'rxn00751': ['CHOLK', 'CKI1'],\n",
       " 'rxn00756': ['CHOLSH'],\n",
       " 'rxn00758': ['GPDDA1'],\n",
       " 'rxn00762': ['GLYCDx'],\n",
       " 'rxn00763': ['ALCD19'],\n",
       " 'rxn00764': ['GLYCDy'],\n",
       " 'rxn00765': ['ALCD19_D', 'ALCD19y'],\n",
       " 'rxn00772': ['RBKr'],\n",
       " 'rxn00775': ['ADPRDP'],\n",
       " 'rxn00779': ['GAPDy1'],\n",
       " 'rxn00781': ['GAPD', 'GAPD_NAD'],\n",
       " 'rxn00782': ['GAPD(nadp)', 'GAPD_NADP'],\n",
       " 'rxn00783': ['DDPGALA'],\n",
       " 'rxn00784': ['DRPA', 'DRPAr'],\n",
       " 'rxn00785': ['TKT2'],\n",
       " 'rxn00786': ['FBA'],\n",
       " 'rxn00789': ['ATPPRT', 'ATPPRTr', 'HIS1'],\n",
       " 'rxn00790': ['ADE4', 'GLUPRT'],\n",
       " 'rxn00791': ['ANPRT', 'TRP4'],\n",
       " 'rxn00792': ['BACCL', 'BTNL1'],\n",
       " 'rxn00796': ['BTS', 'BTS3r'],\n",
       " 'rxn00797': ['PYRNS1', 'URIH'],\n",
       " 'rxn00799': ['FUM', 'FUM1_2'],\n",
       " 'rxn00800': ['ADE13_2', 'ADSL1', 'ADSL1r'],\n",
       " 'rxn00803': ['MALEI'],\n",
       " 'rxn00804': ['LLEUD'],\n",
       " 'rxn00806': ['BAT2_3', 'LEUTA', 'LEUTAi'],\n",
       " 'rxn00808': ['GAL1', 'GALK', 'GALKr'],\n",
       " 'rxn00816': ['LACZ'],\n",
       " 'rxn00817': ['DGGH', 'FSP2_2', 'GALS3', 'YBR184W_1', 'YBR184W_2'],\n",
       " 'rxn00818': ['RAFGH', 'YBR184W_3'],\n",
       " 'rxn00819': ['GGLGH', 'YBR184W_6'],\n",
       " 'rxn00829': ['DPMVD', 'MVD1'],\n",
       " 'rxn00830': ['IDI1', 'IPDDI', 'IPDDIi'],\n",
       " 'rxn00831': ['NTD11', 'U32'],\n",
       " 'rxn00832': ['ADE16_2', 'ADE17_2', 'IMPC', 'IMPCir'],\n",
       " 'rxn00834': ['FUN63', 'IMD3', 'IMD4', 'IMPD', 'PUR5', 'YAR075W'],\n",
       " 'rxn00835': ['INSK', 'U20'],\n",
       " 'rxn00836': ['HPT1_1', 'HXPRT', 'HXPRTr'],\n",
       " 'rxn00838': ['ADE12', 'ADSS', 'ADSS_i'],\n",
       " 'rxn00839': ['NDPK8', 'YNK1_7'],\n",
       " 'rxn00848': ['ALATA_D2'],\n",
       " 'rxn00849': ['ALATA_D'],\n",
       " 'rxn00851': ['ALAALA', 'ALAALAr'],\n",
       " 'rxn00853': ['CBMLPTAH'],\n",
       " 'rxn00856': ['PTRCTA'],\n",
       " 'rxn00858': ['AGMT'],\n",
       " 'rxn00859': ['HIS4_3', 'HISTD'],\n",
       " 'rxn00860': ['ARMT', 'HMT1'],\n",
       " 'rxn00866': ['HISDC'],\n",
       " 'rxn00867': ['HISD', 'HISD1r'],\n",
       " 'rxn00868': ['ACOAD1'],\n",
       " 'rxn00871': ['PBUTT'],\n",
       " 'rxn00872': ['ACOAD1f'],\n",
       " 'rxn00874': ['ACACT2r', 'KAT2', 'POT1_7'],\n",
       " 'rxn00875': ['BUTCT'],\n",
       " 'rxn00879': ['INS2D'],\n",
       " 'rxn00881': ['MI1PP'],\n",
       " 'rxn00882': ['MI4PP'],\n",
       " 'rxn00883': ['INM1', 'MI3PP', 'YDR287W'],\n",
       " 'rxn00889': ['GPDDA5'],\n",
       " 'rxn00890': ['GALIGH', 'YBR184W_4'],\n",
       " 'rxn00892': ['ACGAMK'],\n",
       " 'rxn00899': ['2LDA', 'OIVD2'],\n",
       " 'rxn00902': ['IPPS'],\n",
       " 'rxn00903': ['BAT2_2', 'VALTA'],\n",
       " 'rxn00904': ['VPAMT'],\n",
       " 'rxn00906': ['MTD1', 'MTHFD2', 'MTHFD2i'],\n",
       " 'rxn00907': ['ADE3_1', 'MTHFD'],\n",
       " 'rxn00908': ['GCV1_2', 'GLYCL_2'],\n",
       " 'rxn00910': ['MTHFR1', 'MTHFR3'],\n",
       " 'rxn00912': ['ECM31', 'MOHMT'],\n",
       " 'rxn00913': ['NTD9', 'U31'],\n",
       " 'rxn00914': ['GSNK', 'U21'],\n",
       " 'rxn00915': ['GUAPRT', 'GUAPRTr', 'HPT1_2'],\n",
       " 'rxn00917': ['GMPS2', 'GUA1'],\n",
       " 'rxn00920': ['PDE2_4', 'PDE4'],\n",
       " 'rxn00926': ['AAH1_3'],\n",
       " 'rxn00927': ['ADNUC', 'PNS1', 'URH1_2'],\n",
       " 'rxn00929': ['P5CRx', 'PRO1x'],\n",
       " 'rxn00931': ['P5CR', 'PRO3_1'],\n",
       " 'rxn00934': ['MALTK'],\n",
       " 'rxn00938': ['PNC1_1'],\n",
       " 'rxn00939': ['NNMT'],\n",
       " 'rxn00943': ['FACOAE160'],\n",
       " 'rxn00946': ['ACOAD7f'],\n",
       " 'rxn00947': ['FAA1_3', 'FAA3_1', 'FAA4_1', 'FACOAL160', 'FAT1_1'],\n",
       " 'rxn00948': ['LCB1', 'LCB2', 'SERPT'],\n",
       " 'rxn00950': ['CYSTLr'],\n",
       " 'rxn00952': ['AHSERL2', 'MET17_2', 'MET17_3', 'METACH'],\n",
       " 'rxn00953': ['CYSTS'],\n",
       " 'rxn00957': ['VNDH-2'],\n",
       " 'rxn00962': ['4HBHYOX', 'POBA'],\n",
       " 'rxn00965': ['4HBTE'],\n",
       " 'rxn00966': ['CHRPL', 'TRP2_2', 'TRP3_3'],\n",
       " 'rxn00973': ['ACONT'],\n",
       " 'rxn00974': ['ACONTa'],\n",
       " 'rxn00975': ['GLK1_2', 'HEX4', 'HXK1_3', 'HXK2_3'],\n",
       " 'rxn00977': ['EPMGH', 'YBR184W_5'],\n",
       " 'rxn00979': ['GCALDD', 'GCALDDr'],\n",
       " 'rxn00980': ['PGLYCP'],\n",
       " 'rxn00985': ['PPAK', 'PPAKr', 'PROPP'],\n",
       " 'rxn00988': ['ACAC'],\n",
       " 'rxn00990': ['ACACCT'],\n",
       " 'rxn00991': ['HMGL'],\n",
       " 'rxn00992': ['3HBUTDH', 'BDH'],\n",
       " 'rxn00993': ['FUMAC', 'FUMACA', 'U60'],\n",
       " 'rxn01000': ['PHA2', 'PPNDH'],\n",
       " 'rxn01003': ['PPYRDC', 'R01377'],\n",
       " 'rxn01008': ['GLCURE'],\n",
       " 'rxn01011': ['HPYRRx'],\n",
       " 'rxn01013': ['HPYRRy'],\n",
       " 'rxn01015': ['HPYRI'],\n",
       " 'rxn01018': ['ASPCT', 'ASPCTn', 'URA2_1'],\n",
       " 'rxn01021': ['MTAN'],\n",
       " 'rxn01025': ['MCSNAH1r'],\n",
       " 'rxn01029': ['AGMTNDMN'],\n",
       " 'rxn01032': ['BZDH'],\n",
       " 'rxn01037': ['NBAH'],\n",
       " 'rxn01043': ['XYLR'],\n",
       " 'rxn01044': ['XYLI1'],\n",
       " 'rxn01053': ['LCAD', 'LCADi', 'LCADm'],\n",
       " 'rxn01057': ['LacR'],\n",
       " 'rxn01068': ['THRD'],\n",
       " 'rxn01069': ['THR4_1', 'THRS'],\n",
       " 'rxn01071': ['EKI1', 'ETHAK'],\n",
       " 'rxn01073': ['GPDDA2'],\n",
       " 'rxn01080': ['GUI1'],\n",
       " 'rxn01093': ['DHBS', 'DHBSr'],\n",
       " 'rxn01100': ['PGK', 'PGK1'],\n",
       " 'rxn01101': ['PGCD', 'PGCDr', 'SER3', 'SER33'],\n",
       " 'rxn01102': ['GLYCK'],\n",
       " 'rxn01103': ['ACYP'],\n",
       " 'rxn01104': ['DPGase'],\n",
       " 'rxn01106': ['GPM1_2', 'GPM2', 'GPM3', 'PGM'],\n",
       " 'rxn01111': ['PRKIN'],\n",
       " 'rxn01114': ['RBK_D', 'RBK_Dr'],\n",
       " 'rxn01115': ['GND', 'GND1', 'GND2', 'PGDH', 'PGDHr'],\n",
       " 'rxn01116': ['RPE', 'RPE1'],\n",
       " 'rxn01117': ['A5PISO'],\n",
       " 'rxn01122': ['ALTRH'],\n",
       " 'rxn01123': ['DDGLK'],\n",
       " 'rxn01124': ['DGLCND', 'DKII'],\n",
       " 'rxn01127': ['DADK', 'U19'],\n",
       " 'rxn01130': ['ALCD20y'],\n",
       " 'rxn01132': ['MPL'],\n",
       " 'rxn01133': ['MALTAT', 'MALTATr'],\n",
       " 'rxn01134': ['MTI', 'TREHS'],\n",
       " 'rxn01135': ['OXACOAL'],\n",
       " 'rxn01137': ['AAH1_1'],\n",
       " 'rxn01138': ['PNP1_7', 'PUNP1', 'U103'],\n",
       " 'rxn01139': ['3NUCLE1'],\n",
       " 'rxn01143': ['TMDK1', 'U16'],\n",
       " 'rxn01145': ['NTD5', 'U25'],\n",
       " 'rxn01146': ['PNP1_2', 'TMDPP'],\n",
       " 'rxn01149': ['ARA1_1', 'ARAB1D1'],\n",
       " 'rxn01150': ['ARA1_2', 'ARAB1D2'],\n",
       " 'rxn01152': ['ARABI'],\n",
       " 'rxn01169': ['GLK1_3'],\n",
       " 'rxn01176': ['D5KGPA', 'R05378'],\n",
       " 'rxn01182': ['4CMCOAS'],\n",
       " 'rxn01187': ['XPK'],\n",
       " 'rxn01188': ['DHSKDH'],\n",
       " 'rxn01192': ['PCADYOX', 'PCAHG'],\n",
       " 'rxn01199': ['XKS1', 'XYLK'],\n",
       " 'rxn01203': ['DHEDAA', 'R01647'],\n",
       " 'rxn01204': ['ABTA', 'ABTAr', 'UGA1'],\n",
       " 'rxn01207': ['OIVD1', 'OIVD1i'],\n",
       " 'rxn01208': ['OMCDC'],\n",
       " 'rxn01209': ['FTHFI'],\n",
       " 'rxn01211': ['ADE3_3', 'MTHFC'],\n",
       " 'rxn01213': ['DMATT'],\n",
       " 'rxn01216': ['DPGM', 'GPM1_1'],\n",
       " 'rxn01217': ['DCD1_1', 'DCMPDA2ir'],\n",
       " 'rxn01218': ['NTD3', 'U28'],\n",
       " 'rxn01219': ['CYTK2', 'U17'],\n",
       " 'rxn01220': ['ADADir'],\n",
       " 'rxn01222': ['NTPP3'],\n",
       " 'rxn01225': ['GUADr'],\n",
       " 'rxn01226': ['GNNUC', 'URH1_1'],\n",
       " 'rxn01231': ['SALADC2'],\n",
       " 'rxn01236': ['BUTKr'],\n",
       " 'rxn01241': ['PDHc', 'PDHcr', 'PDHe3c'],\n",
       " 'rxn01245': ['4M2OPLOXRD', 'ODHi'],\n",
       " 'rxn01247': ['ALDD16'],\n",
       " 'rxn01251': ['PDX3_4'],\n",
       " 'rxn01252': ['PDX3_3', 'PYDXNO'],\n",
       " 'rxn01255': ['ARO2', 'CH or S', 'CHORS'],\n",
       " 'rxn01256': ['ARO7', 'CH or M', 'CHORM'],\n",
       " 'rxn01257': ['ABZ1', 'ADCS'],\n",
       " 'rxn01258': ['ICH or Si', 'ICHORS', 'ICHORSi'],\n",
       " 'rxn01265': ['NAPRT', 'NAPRTr', 'NCTPPRT', 'NPT1_1'],\n",
       " 'rxn01268': ['PPND', 'U52'],\n",
       " 'rxn01269': ['PPND2', 'TYR1'],\n",
       " 'rxn01274': ['GLYOX'],\n",
       " 'rxn01275': ['GNK', 'GNKr'],\n",
       " 'rxn01277': ['2DGLCNRy'],\n",
       " 'rxn01278': ['5DGLCNR'],\n",
       " 'rxn01280': ['HOXPRx', 'TRSAR', 'TRSARr'],\n",
       " 'rxn01285': ['TARTDC'],\n",
       " 'rxn01286': ['ALDD8x', 'GLYALDDr'],\n",
       " 'rxn01291': ['ARABR', 'ARABRr'],\n",
       " 'rxn01292': ['ARAI'],\n",
       " 'rxn01293': ['BZALDH'],\n",
       " 'rxn01294': ['BENZ'],\n",
       " 'rxn01297': ['HXAND', 'XANDa'],\n",
       " 'rxn01299': ['INSH', 'PNS3'],\n",
       " 'rxn01300': ['HSK', 'THR1'],\n",
       " 'rxn01301': ['HOM6_1', 'HSDx', 'HSDxi'],\n",
       " 'rxn01302': ['HOM6_2', 'HSDy', 'HSDyi'],\n",
       " 'rxn01303': ['HSAT', 'HSERTA', 'MET2'],\n",
       " 'rxn01304': ['HSST', 'HSSTr'],\n",
       " 'rxn01313': ['DHPR', 'DHPRx'],\n",
       " 'rxn01314': ['HPDOAi'],\n",
       " 'rxn01315': ['PHE4MO', 'PHETHPTOX'],\n",
       " 'rxn01316': ['ACNPLYSr'],\n",
       " 'rxn01322': ['ACNML'],\n",
       " 'rxn01329': ['PMANM', 'SEC53'],\n",
       " 'rxn01331': ['E4PD'],\n",
       " 'rxn01332': ['ARO3', 'ARO4', 'DAHPS', 'DDPA'],\n",
       " 'rxn01334': ['FBA3'],\n",
       " 'rxn01343': ['PFK1_3', 'PFK_3'],\n",
       " 'rxn01351': ['NTPP1'],\n",
       " 'rxn01352': ['DGTPH', 'NTPTP1'],\n",
       " 'rxn01353': ['NDPK5', 'YNK1_3'],\n",
       " 'rxn01358': ['PNP1_6', 'PUNP5'],\n",
       " 'rxn01360': ['DHORD', 'DHORD1', 'DHORDfum'],\n",
       " 'rxn01362': ['ORPT', 'URA10', 'URA5', 'or PT'],\n",
       " 'rxn01364': ['QUIDH'],\n",
       " 'rxn01366': ['PYNP2', 'PYNP2r', 'U22'],\n",
       " 'rxn01367': ['3NUCLE2'],\n",
       " 'rxn01368': ['CDD1_1'],\n",
       " 'rxn01380': ['CHLPCTD', 'PCT1'],\n",
       " 'rxn01385': ['XYLTD_D'],\n",
       " 'rxn01387': ['IDP2_1', 'IDP3_1'],\n",
       " 'rxn01388': ['ACONTb'],\n",
       " 'rxn01389': ['LXYLK', 'XYLK2'],\n",
       " 'rxn01394': ['LLXI', 'LYXI'],\n",
       " 'rxn01395': ['OXCDC'],\n",
       " 'rxn01396': ['PYDXNK', 'U81'],\n",
       " 'rxn01398': ['PDXPP'],\n",
       " 'rxn01403': ['GSPMDS'],\n",
       " 'rxn01404': ['GSPMDA'],\n",
       " 'rxn01406': ['SPMS'],\n",
       " 'rxn01416': ['THSFST'],\n",
       " 'rxn01422': ['U56'],\n",
       " 'rxn01423': ['AATA', 'U51'],\n",
       " 'rxn01427': ['CAFFCOA'],\n",
       " 'rxn01437': ['FKYNH', 'U53'],\n",
       " 'rxn01438': ['KYN3OX'],\n",
       " 'rxn01444': ['DGNSK'],\n",
       " 'rxn01445': ['NTD8', 'U27'],\n",
       " 'rxn01446': ['PNP1_5', 'PUNP4'],\n",
       " 'rxn01450': ['INDPYRD'],\n",
       " 'rxn01451': ['HACD1', 'HACD1i'],\n",
       " 'rxn01454': ['HMGCOAS', 'HMGCOASi', 'HMGS'],\n",
       " 'rxn01457': ['GUI2'],\n",
       " 'rxn01460': ['AABTN'],\n",
       " 'rxn01462': ['GUADB', 'GUDBUTNAH'],\n",
       " 'rxn01465': ['DH or TS', 'DHORTS', 'DHORTSn', 'URA4'],\n",
       " 'rxn01466': ['GRTT'],\n",
       " 'rxn01475': ['PGC2Di', 'PGLCNDH'],\n",
       " 'rxn01476': ['PGL', 'SOL1', 'SOL2', 'SOL3', 'SOL4'],\n",
       " 'rxn01477': ['EDD', 'PGDHY'],\n",
       " 'rxn01479': ['MUQ1', 'PETHCT'],\n",
       " 'rxn01480': ['HIBD', 'HIBDkt'],\n",
       " 'rxn01483': ['ACGAM6PS', 'GNA1'],\n",
       " 'rxn01484': ['AGDC', 'AGDC_r'],\n",
       " 'rxn01485': ['PGAMT'],\n",
       " 'rxn01486': ['FRTT'],\n",
       " 'rxn01492': ['FRUK_r'],\n",
       " 'rxn01501': ['HMG1', 'HMG2', 'HMGCOAR', 'HMGCOARi'],\n",
       " 'rxn01504': ['MGCH', 'MGCOAH'],\n",
       " 'rxn01506': ['AMANAPE', 'AMANAPEr'],\n",
       " 'rxn01507': ['NTD6'],\n",
       " 'rxn01508': ['DADNK'],\n",
       " 'rxn01509': ['DGK1', 'GUK1_2'],\n",
       " 'rxn01512': ['NDPK4', 'YNK1_6'],\n",
       " 'rxn01513': ['CDC8', 'DTMPK'],\n",
       " 'rxn01514': ['NTP9', 'THTRIi'],\n",
       " 'rxn01517': ['URA6_3', 'URIDK2', 'URIDK2r', 'URIDK3'],\n",
       " 'rxn01518': ['DURIK1', 'U15'],\n",
       " 'rxn01519': ['DUT1', 'DUTPDP'],\n",
       " 'rxn01520': ['CDC21', 'TMDS'],\n",
       " 'rxn01521': ['NTD1', 'U24'],\n",
       " 'rxn01522': ['XAND', 'XANDb'],\n",
       " 'rxn01537': ['TMN'],\n",
       " 'rxn01538': ['TMK', 'TMKr'],\n",
       " 'rxn01539': ['THMP', 'U77'],\n",
       " 'rxn01541': ['CYTDH', 'PYRNS2'],\n",
       " 'rxn01544': ['XPPT', 'XPT1'],\n",
       " 'rxn01545': ['PNS4', 'XTSNH'],\n",
       " 'rxn01548': ['PNP1_8', 'PUNP3', 'U104'],\n",
       " 'rxn01549': ['3NUCLE4'],\n",
       " 'rxn01555': ['Q23DO'],\n",
       " 'rxn01571': ['FERULCOAS'],\n",
       " 'rxn01575': ['BAT2_1', 'ILETA'],\n",
       " 'rxn01579': ['1PPDCRc'],\n",
       " 'rxn01580': ['LPCOXc'],\n",
       " 'rxn01602': ['DHFOR2', 'FOLR2'],\n",
       " 'rxn01603': ['DHFS', 'U89'],\n",
       " 'rxn01606': ['ACONIs'],\n",
       " 'rxn01607': ['ERG12_1', 'MEVK1'],\n",
       " 'rxn01618': ['LALDO3'],\n",
       " 'rxn01620': ['FCLPA'],\n",
       " 'rxn01621': ['RMPA'],\n",
       " 'rxn01626': ['DHPM1', 'DIHYP'],\n",
       " 'rxn01629': ['G1SAT', 'G1SATi'],\n",
       " 'rxn01630': ['APENTAMAH'],\n",
       " 'rxn01631': ['APTNAT'],\n",
       " 'rxn01634': ['D4DGCD'],\n",
       " 'rxn01637': ['ACOTA'],\n",
       " 'rxn01639': ['FGLU'],\n",
       " 'rxn01640': ['FORGLUIH', 'FORMD'],\n",
       " 'rxn01642': ['IZPN'],\n",
       " 'rxn01643': ['ASAD', 'ASADi', 'HOM2'],\n",
       " 'rxn01644': ['DHDPS'],\n",
       " 'rxn01646': ['PNP', 'RIOR'],\n",
       " 'rxn01648': ['PYNP1', 'PYNP1r'],\n",
       " 'rxn01649': ['PNP1_9', 'PUNP7'],\n",
       " 'rxn01652': ['FOMETR'],\n",
       " 'rxn01653': ['FTHFCL'],\n",
       " 'rxn01663': ['LYS9', 'SACCD1'],\n",
       " 'rxn01664': ['AADSACYCL'],\n",
       " 'rxn01670': ['NIRP'],\n",
       " 'rxn01671': ['RNMK'],\n",
       " 'rxn01672': ['DCD1_2'],\n",
       " 'rxn01673': ['NDPK7', 'YNK1_5'],\n",
       " 'rxn01675': ['G1PTMT', 'G1PTT'],\n",
       " 'rxn01677': ['NTP8'],\n",
       " 'rxn01678': ['NDPK6', 'YNK1_4'],\n",
       " 'rxn01682': ['TRPS3r'],\n",
       " 'rxn01684': ['PUNP8'],\n",
       " 'rxn01704': ['3NUCLE3'],\n",
       " 'rxn01710': ['ALCD2z'],\n",
       " 'rxn01726': ['CSNAT', 'CSNATifm', 'CSNATirm', 'CSNATirp'],\n",
       " 'rxn01729': ['GLUSD', 'OXPTNDH'],\n",
       " 'rxn01730': ['GLCOAS', 'GLUTCOAs'],\n",
       " 'rxn01737': ['INVRTSc', 'RAFH'],\n",
       " 'rxn01739': ['ARO1_4', 'SHKK'],\n",
       " 'rxn01740': ['ARO1_3', 'SHK3D', 'SHK3Dr'],\n",
       " 'rxn01746': ['ALLTAH', 'ALLTAHr', 'DAL2'],\n",
       " 'rxn01748': ['ALLTN', 'ALLTNr', 'DAL1'],\n",
       " 'rxn01750': ['CDPGHL'],\n",
       " 'rxn01761': ['RMI'],\n",
       " 'rxn01763': ['RBK_L1', 'RBK_L1r', 'RBLK1'],\n",
       " 'rxn01775': ['MANAO'],\n",
       " 'rxn01783': ['SPHPL'],\n",
       " 'rxn01790': ['DPR', 'PAN5'],\n",
       " 'rxn01791': ['PANTS', 'YIL145C'],\n",
       " 'rxn01799': ['DURIPP', 'PNP1_1'],\n",
       " 'rxn01800': ['CDD1_2'],\n",
       " 'rxn01802': ['GLTCOAD', 'GLUTCOADHc'],\n",
       " 'rxn01806': ['NHFRBO', 'NORx'],\n",
       " 'rxn01807': ['PYDAMK', 'U82'],\n",
       " 'rxn01808': ['HYPOE', 'PYDAMP', 'U84'],\n",
       " 'rxn01813': ['TMPHi'],\n",
       " 'rxn01816': ['SHSL1r'],\n",
       " 'rxn01825': ['HGENDO', 'HGNTOR', 'U58'],\n",
       " 'rxn01827': ['34HPPOR', 'HPPDO1', 'U57'],\n",
       " 'rxn01831': ['LALDO2x'],\n",
       " 'rxn01832': ['ALR2'],\n",
       " 'rxn01834': ['GLO1', 'LGTHL'],\n",
       " 'rxn01842': ['PACCOALr'],\n",
       " 'rxn01847': ['TARTRDH2'],\n",
       " 'rxn01851': ['ABUTD'],\n",
       " 'rxn01857': ['TAGUR', 'TAGURr'],\n",
       " 'rxn01858': ['AAH1_2'],\n",
       " 'rxn01859': ['PNP1_4', 'PUNP2'],\n",
       " 'rxn01867': ['BADH', 'BETALDHx'],\n",
       " 'rxn01868': ['BETALDHy'],\n",
       " 'rxn01870': ['FBA2'],\n",
       " 'rxn01872': ['AKGDbr'],\n",
       " 'rxn01883': ['2DOXG6PP'],\n",
       " 'rxn01893': ['OP4ENH', 'OP4ENH3'],\n",
       " 'rxn01894': ['4OD'],\n",
       " 'rxn01895': ['HKNDDH'],\n",
       " 'rxn01896': ['HMSH'],\n",
       " 'rxn01902': ['ALCD25xi'],\n",
       " 'rxn01911': ['DOGULNR'],\n",
       " 'rxn01917': ['ACGK'],\n",
       " 'rxn01924': ['2MACOAD'],\n",
       " 'rxn01926': ['2PGK'],\n",
       " 'rxn01927': ['3HAO', 'BNA1'],\n",
       " 'rxn01930': ['HKYNH'],\n",
       " 'rxn01938': ['ALCD26xi'],\n",
       " 'rxn01943': ['R02695'],\n",
       " 'rxn01944': ['R02697'],\n",
       " 'rxn01945': ['4HPHAC3MO', 'HPA3MO', 'R02698'],\n",
       " 'rxn01946': ['PACCOAL2'],\n",
       " 'rxn01951': ['AMANK'],\n",
       " 'rxn01960': ['ARAB14LO'],\n",
       " 'rxn01961': ['NTD10', 'U33'],\n",
       " 'rxn01962': ['NTPP11', 'XTPASE'],\n",
       " 'rxn01964': ['TRPS1r'],\n",
       " 'rxn01967': ['PGMT_B'],\n",
       " 'rxn01972': ['ADPDA'],\n",
       " 'rxn01973': ['SDPDS'],\n",
       " 'rxn01974': ['DAPE'],\n",
       " 'rxn01975': ['G6PBDH'],\n",
       " 'rxn01985': ['PNP1_3', 'PUNP6'],\n",
       " 'rxn01986': ['PPM2'],\n",
       " 'rxn01987': ['DRBK', 'DRBKr', 'RBK1_2'],\n",
       " 'rxn01989': ['GLCRD'],\n",
       " 'rxn01990': ['GLCRAL'],\n",
       " 'rxn01993': ['HMSD'],\n",
       " 'rxn01996': ['MME'],\n",
       " 'rxn01997': ['TDPGDH'],\n",
       " 'rxn02000': ['TDPDRE', 'TDPDREi'],\n",
       " 'rxn02003': ['TDPDRR'],\n",
       " 'rxn02004': ['TPS2', 'TRE6PP'],\n",
       " 'rxn02005': ['TREpts'],\n",
       " 'rxn02007': ['2INSD', 'R05659'],\n",
       " 'rxn02008': ['UAMAGS'],\n",
       " 'rxn02009': ['UAAGLS1', 'UAAGLS2'],\n",
       " 'rxn02011': ['UAAGDS'],\n",
       " 'rxn02028': ['BHMT', 'GLYBTM'],\n",
       " 'rxn02046': ['PSP_D'],\n",
       " 'rxn02056': ['SHCHF'],\n",
       " 'rxn02061': ['SPE4', 'SPRMS', 'SPRS'],\n",
       " 'rxn02062': ['ERG9_2'],\n",
       " 'rxn02063': ['ERG1', 'SQLEer'],\n",
       " 'rxn02085': ['URCN'],\n",
       " 'rxn02092': ['SORD_D'],\n",
       " 'rxn02093': ['MELTGH', 'YBR184W_7'],\n",
       " 'rxn02102': ['URDGLYCD', 'URGDH'],\n",
       " 'rxn02104': ['OXAMTC'],\n",
       " 'rxn02112': ['BTDD-RR'],\n",
       " 'rxn02122': ['ALDD32'],\n",
       " 'rxn02128': ['PTHKr'],\n",
       " 'rxn02129': ['PNCDC'],\n",
       " 'rxn02130': ['PNTEH'],\n",
       " 'rxn02133': ['LCB4_1', 'LCB5_1', 'SLCBK1'],\n",
       " 'rxn02134': ['3DSPHR', 'TSC10'],\n",
       " 'rxn02143': ['3OADPCOAT', 'PCAIJ'],\n",
       " 'rxn02144': ['OXOAEL', 'PCAD'],\n",
       " 'rxn02155': ['NNAT', 'NNATr', 'YLR328W_1'],\n",
       " 'rxn02160': ['HIS2', 'HISTP'],\n",
       " 'rxn02161': ['RMK'],\n",
       " 'rxn02167': ['ECOAH1'],\n",
       " 'rxn02173': ['GALCTND'],\n",
       " 'rxn02175': ['PTPAT', 'PTPATi', 'U94'],\n",
       " 'rxn02190': ['DHPM2'],\n",
       " 'rxn02199': ['CLAT'],\n",
       " 'rxn02200': ['DHPS'],\n",
       " 'rxn02201': ['DHPS2', 'DHPS2FOLD3', 'FOLD3', 'FOLDm'],\n",
       " 'rxn02209': ['LCARR'],\n",
       " 'rxn02212': ['ARO1_1', 'DHQS'],\n",
       " 'rxn02213': ['ARO1_2', 'DHQD', 'DHQD1', 'DHQTi'],\n",
       " 'rxn02219': ['NIT2_1'],\n",
       " 'rxn02222': ['AMD2_3'],\n",
       " 'rxn02226': ['AASAD3'],\n",
       " 'rxn02230': ['MCPST', 'MCPSTr'],\n",
       " 'rxn02246': ['CYSS2', 'SLCYSS'],\n",
       " 'rxn02263': ['FCI'],\n",
       " 'rxn02264': ['HEM4', 'UPP3S'],\n",
       " 'rxn02270': ['2MBCOAD', 'ACOAD10', 'ACOADH1'],\n",
       " 'rxn02273': ['GDBTALDH'],\n",
       " 'rxn02275': ['AMD2_1', 'YMR293C'],\n",
       " 'rxn02276': ['MACACI', 'MLACI', 'U59'],\n",
       " 'rxn02277': ['BIO4', 'DBTS', 'DBTSr'],\n",
       " 'rxn02285': ['UAPGR'],\n",
       " 'rxn02286': ['UAMAS'],\n",
       " 'rxn02287': ['UPP3MT'],\n",
       " 'rxn02288': ['UPPDC1'],\n",
       " 'rxn02290': ['ERG7', 'LNSTLS'],\n",
       " 'rxn02296': ['CHCOAL'],\n",
       " 'rxn02297': ['AOXS', 'AOXSir', 'AOXSr', 'U86'],\n",
       " 'rxn02302': ['METB1', 'METB1r', 'SHSL5'],\n",
       " 'rxn02303': ['CPPPGO'],\n",
       " 'rxn02305': ['THI6_2', 'TMPPP'],\n",
       " 'rxn02312': ['AMAOT', 'AMAOTr', 'BIO3'],\n",
       " 'rxn02318': ['GAL6PI'],\n",
       " 'rxn02319': ['FCLK'],\n",
       " 'rxn02320': ['HIS5', 'HSTPT', 'HSTPTr'],\n",
       " 'rxn02321': ['X5PL3E'],\n",
       " 'rxn02322': ['ERG8', 'PMEVK'],\n",
       " 'rxn02331': ['KDOPS'],\n",
       " 'rxn02341': ['PPCDC', 'U93'],\n",
       " 'rxn02356': ['HPROa', 'HPROx', 'PRO3_3'],\n",
       " 'rxn02358': ['HPROb', 'PRO3_2'],\n",
       " 'rxn02362': ['CDPGS'],\n",
       " 'rxn02366': ['DHPDO', 'HMPCCDO', 'R03303'],\n",
       " 'rxn02369': ['MUCCY-kt', 'PCAB'],\n",
       " 'rxn02373': ['G5SD'],\n",
       " 'rxn02374': ['G5SADr', 'G5SADs', 'G5SADsi'],\n",
       " 'rxn02377': ['UACMAMO'],\n",
       " 'rxn02380': ['G6PI2'],\n",
       " 'rxn02402': ['NNDPR', 'QPT1_1'],\n",
       " 'rxn02404': ['KDOPP'],\n",
       " 'rxn02405': ['DMOCT', 'KDOCT', 'KDOCT2'],\n",
       " 'rxn02406': ['3HIBUTCOAH'],\n",
       " 'rxn02429': ['DDGALK'],\n",
       " 'rxn02432': ['CDPDDGR'],\n",
       " 'rxn02440': ['GDPMR'],\n",
       " 'rxn02449': ['EPPP2', 'GDPT', 'GTPDPDP'],\n",
       " 'rxn02465': ['AGPR'],\n",
       " 'rxn02473': ['IGPDH'],\n",
       " 'rxn02474': ['APRAUR', 'RIB7_2'],\n",
       " 'rxn02475': ['RIB7_1'],\n",
       " 'rxn02476': ['ARO1_5', 'PSCVT', 'PSCVTi'],\n",
       " 'rxn02483': ['4CMLCL-kt', 'CMLDC', 'PCAC'],\n",
       " 'rxn02484': ['HMPK1', 'THI20_1', 'THI21', 'THI22'],\n",
       " 'rxn02504': ['DHNPA'],\n",
       " 'rxn02508': ['PRAI', 'PRAIi', 'TRP1'],\n",
       " 'rxn02518': ['NTPP10'],\n",
       " 'rxn02521': ['23CN2P1'],\n",
       " 'rxn02522': ['23CN2P2'],\n",
       " 'rxn02523': ['MALMDA'],\n",
       " 'rxn02552': ['ALLK'],\n",
       " 'rxn02569': ['SELNPS', 'SELNPSr'],\n",
       " 'rxn02596': ['GALS4'],\n",
       " 'rxn02666': ['AOBUTDs'],\n",
       " 'rxn02679': ['ACOAD3f'],\n",
       " 'rxn02680': ['ACACT4r', 'KAT4'],\n",
       " 'rxn02720': ['ACOAD5f'],\n",
       " 'rxn02729': ['ALDD4x'],\n",
       " 'rxn02733': ['MPML'],\n",
       " 'rxn02744': ['AM6SAD', 'U55'],\n",
       " 'rxn02748': ['3MOPDC'],\n",
       " 'rxn02762': ['23CN2P3'],\n",
       " 'rxn02774': ['SHCHD2'],\n",
       " 'rxn02775': ['PC20M'],\n",
       " 'rxn02782': ['CATB'],\n",
       " 'rxn02788': ['4OT'],\n",
       " 'rxn02789': ['IPPMIb', 'LEU1_2'],\n",
       " 'rxn02803': ['ACOAD6f'],\n",
       " 'rxn02804': ['ACACT7r', 'KAT7'],\n",
       " 'rxn02811': ['IPPMIa'],\n",
       " 'rxn02831': ['SUCBZL'],\n",
       " 'rxn02834': ['HIS4_1', 'PRATPP'],\n",
       " 'rxn02835': ['HIS4_2', 'PRAMPC'],\n",
       " 'rxn02842': ['2DGLCNDH', 'DGC3D'],\n",
       " 'rxn02853': ['ALDD20x'],\n",
       " 'rxn02861': ['3MCAT23DOX'],\n",
       " 'rxn02866': ['MBCOAi'],\n",
       " 'rxn02875': ['AMAA'],\n",
       " 'rxn02883': ['OHEDH', 'R04132'],\n",
       " 'rxn02885': ['HHDDI', 'R04134'],\n",
       " 'rxn02889': ['MCCC', 'MCCc'],\n",
       " 'rxn02895': ['ADE5_7_1', 'PRAGS', 'PRAGSr'],\n",
       " 'rxn02897': ['NNDMBRT'],\n",
       " 'rxn02898': ['NPHS', 'NPHSr'],\n",
       " 'rxn02900': ['2AEPPNAT', '2AMIPYT'],\n",
       " 'rxn02911': ['ECOAH5'],\n",
       " 'rxn02914': ['PSERT', 'PSERTr', 'SER1_1'],\n",
       " 'rxn02916': ['AOXHEXCYCL'],\n",
       " 'rxn02929': ['DHDPRy'],\n",
       " 'rxn02933': ['3H2MBCOAD', 'HACD8', 'HACD9'],\n",
       " 'rxn02934': ['ECOAH9', 'ECOAH9ir'],\n",
       " 'rxn02937': ['ADE5_7_2', 'PRAIS'],\n",
       " 'rxn02938': ['ADE2', 'AIRCr'],\n",
       " 'rxn02939': ['PERD'],\n",
       " 'rxn02944': ['SOTA'],\n",
       " 'rxn02949': ['ECOAH12', 'ECOAH2c'],\n",
       " 'rxn02950': ['3M2OPLOXRD', 'ODH2i'],\n",
       " 'rxn02971': ['CATC'],\n",
       " 'rxn02986': ['PTHPS'],\n",
       " 'rxn02988': ['QULNS', 'U100'],\n",
       " 'rxn02989': ['QUILSYN'],\n",
       " 'rxn03003': ['PCLAD', 'U54'],\n",
       " 'rxn03004': ['ADE8', 'GARFT', 'GARFTi'],\n",
       " 'rxn03023': ['D5KGK', 'R05661'],\n",
       " 'rxn03030': ['APATi'],\n",
       " 'rxn03031': ['THDPS'],\n",
       " 'rxn03034': ['CHACH'],\n",
       " 'rxn03038': ['HPPPNDO'],\n",
       " 'rxn03040': ['5CMHMISO', 'R04379'],\n",
       " 'rxn03041': ['OPTCCL', 'R04380'],\n",
       " 'rxn03043': ['DKI', 'KDUI'],\n",
       " 'rxn03052': ['MET6', 'MHPGLUT', 'MTHPTGHM', 'MTHPTGHMr'],\n",
       " 'rxn03055': ['5CM2HMSDH', 'CMCMSAD', 'R04418'],\n",
       " 'rxn03060': ['MCITD'],\n",
       " 'rxn03061': ['MICITD', 'MICITDr', 'MICITH'],\n",
       " 'rxn03062': ['IPMD', 'IPMDr'],\n",
       " 'rxn03063': ['ERG6', 'SAM24MT'],\n",
       " 'rxn03066': ['TDPAGTA'],\n",
       " 'rxn03070': ['PHCHGS'],\n",
       " 'rxn03071': ['HP5CD', 'PHCD'],\n",
       " 'rxn03075': ['HETZK', 'THI6_1'],\n",
       " 'rxn03080': ['RIB5'],\n",
       " 'rxn03084': ['ADE6', 'PRFGS'],\n",
       " 'rxn03086': ['APTA1i'],\n",
       " 'rxn03087': ['SDPTA'],\n",
       " 'rxn03091': ['DIPS', 'DPH5'],\n",
       " 'rxn03108': ['PMPK', 'THI20_2'],\n",
       " 'rxn03135': ['IG3PS'],\n",
       " 'rxn03136': ['ADE13_1', 'ADSL2', 'ADSL2r'],\n",
       " 'rxn03137': ['ADE16_1', 'ADE17_1', 'AICART'],\n",
       " 'rxn03140': ['UGLDDS1', 'UGLDDS2'],\n",
       " 'rxn03146': ['UHGADA'],\n",
       " 'rxn03147': ['ADE1', 'PRASCS'],\n",
       " 'rxn03150': ['RBZP', 'RZ5PP'],\n",
       " 'rxn03164': ['UGMDDS'],\n",
       " 'rxn03167': ['AKP1', 'PHO8'],\n",
       " 'rxn03175': ['PRMICI', 'PRMICIi'],\n",
       " 'rxn03181': ['TDSK'],\n",
       " 'rxn03182': ['MOAT'],\n",
       " 'rxn03236': ['4AHD2'],\n",
       " 'rxn03239': ['HACD7', 'HACD7i'],\n",
       " 'rxn03240': ['ECOAH7'],\n",
       " 'rxn03241': ['ECOAH6'],\n",
       " 'rxn03242': ['HACD5', 'HACD5i'],\n",
       " 'rxn03243': ['ACACT5r', 'KAT5'],\n",
       " 'rxn03244': ['HACD4', 'HACD4i'],\n",
       " 'rxn03245': ['ECOAH4'],\n",
       " 'rxn03246': ['HACD3', 'HACD3i'],\n",
       " 'rxn03247': ['ECOAH3'],\n",
       " 'rxn03248': ['ACACT3r', 'KAT3'],\n",
       " 'rxn03249': ['HACD2', 'HACD2i'],\n",
       " 'rxn03250': ['ECOAH2'],\n",
       " 'rxn03251': ['ACOAD2f'],\n",
       " 'rxn03253': ['ACOAD4f'],\n",
       " 'rxn03264': ['SELMETAT'],\n",
       " 'rxn03347': ['R04895'],\n",
       " 'rxn03384': ['UPPDC2'],\n",
       " 'rxn03393': ['OPHBDC'],\n",
       " 'rxn03395': ['OHPHM'],\n",
       " 'rxn03397': ['URFGTT'],\n",
       " 'rxn03398': ['SHCHCS2'],\n",
       " 'rxn03405': ['UAGPT1'],\n",
       " 'rxn03406': ['GLNSP1'],\n",
       " 'rxn03409': ['GLNSP3'],\n",
       " 'rxn03422': ['SGSAD'],\n",
       " 'rxn03423': ['NABTNO'],\n",
       " 'rxn03424': ['_4HGLSD'],\n",
       " 'rxn03433': ['3HBCOAHL', 'HIBHr'],\n",
       " 'rxn03437': ['DHAD2'],\n",
       " 'rxn03439': ['MOAT2'],\n",
       " 'rxn03445': ['OHPBAT', 'SER1_2'],\n",
       " 'rxn03446': ['4HTHRS', 'THR4_2'],\n",
       " 'rxn03483': ['23CN2P4'],\n",
       " 'rxn03486': ['HMSH3'],\n",
       " 'rxn03491': ['PC6YM'],\n",
       " 'rxn03492': ['PC6AR'],\n",
       " 'rxn03512': ['PC8XM'],\n",
       " 'rxn03513': ['PC17M'],\n",
       " 'rxn03514': ['PC11M'],\n",
       " 'rxn03517': ['ALCDkt'],\n",
       " 'rxn03532': ['P3Bs'],\n",
       " 'rxn03534': ['PRE5'],\n",
       " 'rxn03535': ['CYRDAAT'],\n",
       " 'rxn03536': ['ADCOBAK', 'ADOCBIK'],\n",
       " 'rxn03537': ['ACBIPGT'],\n",
       " 'rxn03538': ['ADOCBLS', 'COBPS'],\n",
       " 'rxn03540': ['ADCOBHEXS', 'ADCYRS'],\n",
       " 'rxn03541': ['ADCOBASr'],\n",
       " 'rxn03586': ['VNTDM'],\n",
       " 'rxn03594': ['4MBZALDH'],\n",
       " 'rxn03600': ['PXMO'],\n",
       " 'rxn03602': ['PTOLDOX'],\n",
       " 'rxn03604': ['DH4MCHCDH'],\n",
       " 'rxn03607': ['4MCAT23DOX'],\n",
       " 'rxn03610': ['HOPNTAL2'],\n",
       " 'rxn03620': ['DH3MCHCDH'],\n",
       " 'rxn03630': ['TAUDO'],\n",
       " 'rxn03638': ['G1PACTr'],\n",
       " 'rxn03649': ['3MBZALDH'],\n",
       " 'rxn03654': ['HMSD2'],\n",
       " 'rxn03675': ['4OD2'],\n",
       " 'rxn03690': ['4OT2'],\n",
       " 'rxn03743': ['MXMO'],\n",
       " 'rxn03839': ['AMID5'],\n",
       " 'rxn03840': ['PABB'],\n",
       " 'rxn03841': ['ADCL', 'U88'],\n",
       " 'rxn03856': ['GLTPD'],\n",
       " 'rxn03874': ['3HBUTCOAH'],\n",
       " 'rxn03884': ['EDA'],\n",
       " 'rxn03885': ['MNNH'],\n",
       " 'rxn03887': ['GALCTD'],\n",
       " 'rxn03891': ['HEXTT'],\n",
       " 'rxn03892': ['PPTT'],\n",
       " 'rxn03893': ['HBZOPT'],\n",
       " 'rxn03897': ['BENA', 'BZ12DOX'],\n",
       " 'rxn03900': ['UDCPK'],\n",
       " 'rxn03901': ['UDCPDP'],\n",
       " 'rxn03902': ['PAPPT1'],\n",
       " 'rxn03903': ['PAPPT2'],\n",
       " 'rxn03904': ['PAPPT3'],\n",
       " 'rxn03907': ['MEPCT'],\n",
       " 'rxn03908': ['CDPMEK'],\n",
       " 'rxn03909': ['DXPS'],\n",
       " 'rxn03910': ['MECDPS'],\n",
       " 'rxn03913': ['ERG4'],\n",
       " 'rxn03931': ['DKDID'],\n",
       " 'rxn03933': ['UAGPT2'],\n",
       " 'rxn03936': ['MTOLDOX'],\n",
       " ...}"
      ]
     },
     "execution_count": 11,
     "metadata": {},
     "output_type": "execute_result"
    }
   ],
   "source": [
    "import numpy as np\n",
    "df_seed = modelseed_reac.loc[1:6806, \"MS ID\":'External ID']\n",
    "pivoted_seed = df_seed.pivot_table(columns='MS ID',values='External ID',aggfunc = list)\n",
    "\n",
    "pivoted_seed\n",
    "modelseed_reac_dict = pivoted_seed.to_dict('index')\n",
    "modelseed_reac_dict2 = modelseed_reac_dict['External ID']\n",
    "modelseed_reac_dict2"
   ]
  },
  {
   "cell_type": "code",
   "execution_count": null,
   "metadata": {},
   "outputs": [],
   "source": [
    "for met in model.metabolites: \n",
    "     if met.annotation[\"seed.compound\"] in modelseed_met_dict2.keys():\n",
    "        #print(\"modelseed bigg id\", modelseed_met_dict2[met.annotation[\"seed.compound\"]])\n",
    "        if \"bigg.metabolite\" in met.annotation and met.annotation[\"bigg.metabolite\"] in modelseed_met_dict2[met.annotation[\"seed.compound\"]]:\n",
    "            print(\"bigg annotation\", met.annotation[\"bigg.metabolite\"])\n",
    "        else:\n",
    "            print(met.id, met.annotation, modelseed_met_dict2[met.annotation[\"seed.compound\"]])"
   ]
  },
  {
   "cell_type": "markdown",
   "metadata": {},
   "source": [
    "### Create a dict which contains the bigg Ids from modelseed reaction aliases"
   ]
  },
  {
   "cell_type": "code",
   "execution_count": 12,
   "metadata": {},
   "outputs": [
    {
     "data": {
      "text/plain": [
       "'FAS1_6_c'"
      ]
     },
     "execution_count": 12,
     "metadata": {},
     "output_type": "execute_result"
    },
    {
     "data": {
      "text/plain": [
       "'HEPTT'"
      ]
     },
     "execution_count": 12,
     "metadata": {},
     "output_type": "execute_result"
    },
    {
     "data": {
      "text/plain": [
       "'PDX5PS2'"
      ]
     },
     "execution_count": 12,
     "metadata": {},
     "output_type": "execute_result"
    },
    {
     "data": {
      "text/plain": [
       "'AMPEP13'"
      ]
     },
     "execution_count": 12,
     "metadata": {},
     "output_type": "execute_result"
    },
    {
     "data": {
      "text/plain": [
       "'PFK'"
      ]
     },
     "execution_count": 12,
     "metadata": {},
     "output_type": "execute_result"
    },
    {
     "data": {
      "text/plain": [
       "'LPLIPAL1E161pp'"
      ]
     },
     "execution_count": 12,
     "metadata": {},
     "output_type": "execute_result"
    },
    {
     "data": {
      "text/plain": [
       "'DHNPA'"
      ]
     },
     "execution_count": 12,
     "metadata": {},
     "output_type": "execute_result"
    },
    {
     "data": {
      "text/plain": [
       "'AGPAT140'"
      ]
     },
     "execution_count": 12,
     "metadata": {},
     "output_type": "execute_result"
    },
    {
     "data": {
      "text/plain": [
       "'CDPGHL'"
      ]
     },
     "execution_count": 12,
     "metadata": {},
     "output_type": "execute_result"
    },
    {
     "data": {
      "text/plain": [
       "'LPLIPAL2A120'"
      ]
     },
     "execution_count": 12,
     "metadata": {},
     "output_type": "execute_result"
    },
    {
     "data": {
      "text/plain": [
       "'DAGK141'"
      ]
     },
     "execution_count": 12,
     "metadata": {},
     "output_type": "execute_result"
    },
    {
     "data": {
      "text/plain": [
       "'FCY1'"
      ]
     },
     "execution_count": 12,
     "metadata": {},
     "output_type": "execute_result"
    },
    {
     "data": {
      "text/plain": [
       "'LPLIPAL1A120pp'"
      ]
     },
     "execution_count": 12,
     "metadata": {},
     "output_type": "execute_result"
    },
    {
     "data": {
      "text/plain": [
       "'PDX3_1'"
      ]
     },
     "execution_count": 12,
     "metadata": {},
     "output_type": "execute_result"
    },
    {
     "data": {
      "text/plain": [
       "'LPLIPAL2A181'"
      ]
     },
     "execution_count": 12,
     "metadata": {},
     "output_type": "execute_result"
    },
    {
     "data": {
      "text/plain": [
       "'3OAS60'"
      ]
     },
     "execution_count": 12,
     "metadata": {},
     "output_type": "execute_result"
    },
    {
     "data": {
      "text/plain": [
       "'ACACT3r'"
      ]
     },
     "execution_count": 12,
     "metadata": {},
     "output_type": "execute_result"
    },
    {
     "data": {
      "text/plain": [
       "'CD2abc1'"
      ]
     },
     "execution_count": 12,
     "metadata": {},
     "output_type": "execute_result"
    },
    {
     "data": {
      "text/plain": [
       "'PSSA140'"
      ]
     },
     "execution_count": 12,
     "metadata": {},
     "output_type": "execute_result"
    },
    {
     "data": {
      "text/plain": [
       "'CBL1abc'"
      ]
     },
     "execution_count": 12,
     "metadata": {},
     "output_type": "execute_result"
    },
    {
     "data": {
      "text/plain": [
       "'PSSA161'"
      ]
     },
     "execution_count": 12,
     "metadata": {},
     "output_type": "execute_result"
    },
    {
     "data": {
      "text/plain": [
       "'MEAMP1(ala-gly)'"
      ]
     },
     "execution_count": 12,
     "metadata": {},
     "output_type": "execute_result"
    },
    {
     "data": {
      "text/plain": [
       "'3OAS80'"
      ]
     },
     "execution_count": 12,
     "metadata": {},
     "output_type": "execute_result"
    },
    {
     "data": {
      "text/plain": [
       "'PSD140'"
      ]
     },
     "execution_count": 12,
     "metadata": {},
     "output_type": "execute_result"
    },
    {
     "data": {
      "text/plain": [
       "'LPLIPAL2E120'"
      ]
     },
     "execution_count": 12,
     "metadata": {},
     "output_type": "execute_result"
    },
    {
     "data": {
      "text/plain": [
       "'NADH9'"
      ]
     },
     "execution_count": 12,
     "metadata": {},
     "output_type": "execute_result"
    },
    {
     "data": {
      "text/plain": [
       "'PAPPT2'"
      ]
     },
     "execution_count": 12,
     "metadata": {},
     "output_type": "execute_result"
    },
    {
     "data": {
      "text/plain": [
       "'DCD1_1'"
      ]
     },
     "execution_count": 12,
     "metadata": {},
     "output_type": "execute_result"
    },
    {
     "data": {
      "text/plain": [
       "'SPONT1'"
      ]
     },
     "execution_count": 12,
     "metadata": {},
     "output_type": "execute_result"
    },
    {
     "data": {
      "text/plain": [
       "'DDMAT5'"
      ]
     },
     "execution_count": 12,
     "metadata": {},
     "output_type": "execute_result"
    },
    {
     "data": {
      "text/plain": [
       "'CYRDAAT'"
      ]
     },
     "execution_count": 12,
     "metadata": {},
     "output_type": "execute_result"
    },
    {
     "data": {
      "text/plain": [
       "'FRUK_r'"
      ]
     },
     "execution_count": 12,
     "metadata": {},
     "output_type": "execute_result"
    },
    {
     "data": {
      "text/plain": [
       "'LPLIPAL1A181pp'"
      ]
     },
     "execution_count": 12,
     "metadata": {},
     "output_type": "execute_result"
    },
    {
     "data": {
      "text/plain": [
       "'LPLIPAL1E181pp'"
      ]
     },
     "execution_count": 12,
     "metadata": {},
     "output_type": "execute_result"
    },
    {
     "data": {
      "text/plain": [
       "'FBP'"
      ]
     },
     "execution_count": 12,
     "metadata": {},
     "output_type": "execute_result"
    },
    {
     "data": {
      "text/plain": [
       "'THPDH'"
      ]
     },
     "execution_count": 12,
     "metadata": {},
     "output_type": "execute_result"
    },
    {
     "data": {
      "text/plain": [
       "'ADE2'"
      ]
     },
     "execution_count": 12,
     "metadata": {},
     "output_type": "execute_result"
    },
    {
     "data": {
      "text/plain": [
       "'MEAMP1(gly-pro-L)'"
      ]
     },
     "execution_count": 12,
     "metadata": {},
     "output_type": "execute_result"
    },
    {
     "data": {
      "text/plain": [
       "'AGPAT120'"
      ]
     },
     "execution_count": 12,
     "metadata": {},
     "output_type": "execute_result"
    },
    {
     "data": {
      "text/plain": [
       "'LPLIPAL1G161pp'"
      ]
     },
     "execution_count": 12,
     "metadata": {},
     "output_type": "execute_result"
    },
    {
     "data": {
      "text/plain": [
       "'LPLIPAL2G120'"
      ]
     },
     "execution_count": 12,
     "metadata": {},
     "output_type": "execute_result"
    },
    {
     "data": {
      "text/plain": [
       "'ARAI'"
      ]
     },
     "execution_count": 12,
     "metadata": {},
     "output_type": "execute_result"
    },
    {
     "data": {
      "text/plain": [
       "'G6PI2'"
      ]
     },
     "execution_count": 12,
     "metadata": {},
     "output_type": "execute_result"
    },
    {
     "data": {
      "text/plain": [
       "'D5KGK'"
      ]
     },
     "execution_count": 12,
     "metadata": {},
     "output_type": "execute_result"
    },
    {
     "data": {
      "text/plain": [
       "'PALDP'"
      ]
     },
     "execution_count": 12,
     "metadata": {},
     "output_type": "execute_result"
    },
    {
     "data": {
      "text/plain": [
       "'G3PAT180'"
      ]
     },
     "execution_count": 12,
     "metadata": {},
     "output_type": "execute_result"
    },
    {
     "data": {
      "text/plain": [
       "'3OAS120'"
      ]
     },
     "execution_count": 12,
     "metadata": {},
     "output_type": "execute_result"
    },
    {
     "data": {
      "text/plain": [
       "'MGCH'"
      ]
     },
     "execution_count": 12,
     "metadata": {},
     "output_type": "execute_result"
    },
    {
     "data": {
      "text/plain": [
       "'FAS1_7_c'"
      ]
     },
     "execution_count": 12,
     "metadata": {},
     "output_type": "execute_result"
    },
    {
     "data": {
      "text/plain": [
       "'DAGK181'"
      ]
     },
     "execution_count": 12,
     "metadata": {},
     "output_type": "execute_result"
    },
    {
     "data": {
      "text/plain": [
       "'DAGK160'"
      ]
     },
     "execution_count": 12,
     "metadata": {},
     "output_type": "execute_result"
    },
    {
     "data": {
      "text/plain": [
       "'PGSA181'"
      ]
     },
     "execution_count": 12,
     "metadata": {},
     "output_type": "execute_result"
    },
    {
     "data": {
      "text/plain": [
       "'U56'"
      ]
     },
     "execution_count": 12,
     "metadata": {},
     "output_type": "execute_result"
    },
    {
     "data": {
      "text/plain": [
       "'CATB'"
      ]
     },
     "execution_count": 12,
     "metadata": {},
     "output_type": "execute_result"
    },
    {
     "data": {
      "text/plain": [
       "'3OAS140'"
      ]
     },
     "execution_count": 12,
     "metadata": {},
     "output_type": "execute_result"
    },
    {
     "data": {
      "text/plain": [
       "'UAG4E'"
      ]
     },
     "execution_count": 12,
     "metadata": {},
     "output_type": "execute_result"
    },
    {
     "data": {
      "text/plain": [
       "'LPLIPAL2E181'"
      ]
     },
     "execution_count": 12,
     "metadata": {},
     "output_type": "execute_result"
    },
    {
     "data": {
      "text/plain": [
       "'CYTDK3'"
      ]
     },
     "execution_count": 12,
     "metadata": {},
     "output_type": "execute_result"
    },
    {
     "data": {
      "text/plain": [
       "'MEAMP1(gly-gln)'"
      ]
     },
     "execution_count": 12,
     "metadata": {},
     "output_type": "execute_result"
    },
    {
     "data": {
      "text/plain": [
       "'LPLIPAL2E140'"
      ]
     },
     "execution_count": 12,
     "metadata": {},
     "output_type": "execute_result"
    },
    {
     "data": {
      "text/plain": [
       "'HMGCOAS'"
      ]
     },
     "execution_count": 12,
     "metadata": {},
     "output_type": "execute_result"
    },
    {
     "data": {
      "text/plain": [
       "'PHE4MO'"
      ]
     },
     "execution_count": 12,
     "metadata": {},
     "output_type": "execute_result"
    },
    {
     "data": {
      "text/plain": [
       "'GF6PTA'"
      ]
     },
     "execution_count": 12,
     "metadata": {},
     "output_type": "execute_result"
    },
    {
     "data": {
      "text/plain": [
       "'MEAMP1(ala-thr)'"
      ]
     },
     "execution_count": 12,
     "metadata": {},
     "output_type": "execute_result"
    },
    {
     "data": {
      "text/plain": [
       "'DEMAT4'"
      ]
     },
     "execution_count": 12,
     "metadata": {},
     "output_type": "execute_result"
    },
    {
     "data": {
      "text/plain": [
       "'PFK(adp)'"
      ]
     },
     "execution_count": 12,
     "metadata": {},
     "output_type": "execute_result"
    },
    {
     "data": {
      "text/plain": [
       "'AGPAT160'"
      ]
     },
     "execution_count": 12,
     "metadata": {},
     "output_type": "execute_result"
    },
    {
     "data": {
      "text/plain": [
       "'NADH8'"
      ]
     },
     "execution_count": 12,
     "metadata": {},
     "output_type": "execute_result"
    },
    {
     "data": {
      "text/plain": [
       "'BTDD-RR'"
      ]
     },
     "execution_count": 12,
     "metadata": {},
     "output_type": "execute_result"
    },
    {
     "data": {
      "text/plain": [
       "'DGLCND'"
      ]
     },
     "execution_count": 12,
     "metadata": {},
     "output_type": "execute_result"
    },
    {
     "data": {
      "text/plain": [
       "'COPRECI'"
      ]
     },
     "execution_count": 12,
     "metadata": {},
     "output_type": "execute_result"
    },
    {
     "data": {
      "text/plain": [
       "'GLCS1'"
      ]
     },
     "execution_count": 12,
     "metadata": {},
     "output_type": "execute_result"
    },
    {
     "data": {
      "text/plain": [
       "'LPLIPAL1G180pp'"
      ]
     },
     "execution_count": 12,
     "metadata": {},
     "output_type": "execute_result"
    },
    {
     "data": {
      "text/plain": [
       "'LPLIPAL1A141pp'"
      ]
     },
     "execution_count": 12,
     "metadata": {},
     "output_type": "execute_result"
    },
    {
     "data": {
      "text/plain": [
       "'BET2'"
      ]
     },
     "execution_count": 12,
     "metadata": {},
     "output_type": "execute_result"
    },
    {
     "data": {
      "text/plain": [
       "'LPLIPAL2A161'"
      ]
     },
     "execution_count": 12,
     "metadata": {},
     "output_type": "execute_result"
    },
    {
     "data": {
      "text/plain": [
       "'SOD'"
      ]
     },
     "execution_count": 12,
     "metadata": {},
     "output_type": "execute_result"
    },
    {
     "data": {
      "text/plain": [
       "'GLK1_3'"
      ]
     },
     "execution_count": 12,
     "metadata": {},
     "output_type": "execute_result"
    },
    {
     "data": {
      "text/plain": [
       "'G3PAT120'"
      ]
     },
     "execution_count": 12,
     "metadata": {},
     "output_type": "execute_result"
    },
    {
     "data": {
      "text/plain": [
       "'VPAMT'"
      ]
     },
     "execution_count": 12,
     "metadata": {},
     "output_type": "execute_result"
    },
    {
     "data": {
      "text/plain": [
       "'PPPNDO'"
      ]
     },
     "execution_count": 12,
     "metadata": {},
     "output_type": "execute_result"
    },
    {
     "data": {
      "text/plain": [
       "'MEAMP1(ala-gln)'"
      ]
     },
     "execution_count": 12,
     "metadata": {},
     "output_type": "execute_result"
    },
    {
     "data": {
      "text/plain": [
       "'BUTCT'"
      ]
     },
     "execution_count": 12,
     "metadata": {},
     "output_type": "execute_result"
    },
    {
     "data": {
      "text/plain": [
       "'MEAMP1(ala-leu)'"
      ]
     },
     "execution_count": 12,
     "metadata": {},
     "output_type": "execute_result"
    },
    {
     "data": {
      "text/plain": [
       "'PSD120'"
      ]
     },
     "execution_count": 12,
     "metadata": {},
     "output_type": "execute_result"
    },
    {
     "data": {
      "text/plain": [
       "'HEMEOSm'"
      ]
     },
     "execution_count": 12,
     "metadata": {},
     "output_type": "execute_result"
    },
    {
     "data": {
      "text/plain": [
       "'AMPEP10'"
      ]
     },
     "execution_count": 12,
     "metadata": {},
     "output_type": "execute_result"
    },
    {
     "data": {
      "text/plain": [
       "'BTMAT1'"
      ]
     },
     "execution_count": 12,
     "metadata": {},
     "output_type": "execute_result"
    },
    {
     "data": {
      "text/plain": [
       "'LPLIPAL1E140pp'"
      ]
     },
     "execution_count": 12,
     "metadata": {},
     "output_type": "execute_result"
    },
    {
     "data": {
      "text/plain": [
       "'ACNPLYSr'"
      ]
     },
     "execution_count": 12,
     "metadata": {},
     "output_type": "execute_result"
    },
    {
     "data": {
      "text/plain": [
       "'UAAGDS'"
      ]
     },
     "execution_count": 12,
     "metadata": {},
     "output_type": "execute_result"
    },
    {
     "data": {
      "text/plain": [
       "'FRD3'"
      ]
     },
     "execution_count": 12,
     "metadata": {},
     "output_type": "execute_result"
    },
    {
     "data": {
      "text/plain": [
       "'PSSA120'"
      ]
     },
     "execution_count": 12,
     "metadata": {},
     "output_type": "execute_result"
    },
    {
     "data": {
      "text/plain": [
       "'PSD161'"
      ]
     },
     "execution_count": 12,
     "metadata": {},
     "output_type": "execute_result"
    },
    {
     "data": {
      "text/plain": [
       "'LPLIPAL2G180'"
      ]
     },
     "execution_count": 12,
     "metadata": {},
     "output_type": "execute_result"
    },
    {
     "data": {
      "text/plain": [
       "'RBKr'"
      ]
     },
     "execution_count": 12,
     "metadata": {},
     "output_type": "execute_result"
    },
    {
     "data": {
      "text/plain": [
       "'PGPP141pp'"
      ]
     },
     "execution_count": 12,
     "metadata": {},
     "output_type": "execute_result"
    },
    {
     "data": {
      "text/plain": [
       "'LPLIPAL1G141pp'"
      ]
     },
     "execution_count": 12,
     "metadata": {},
     "output_type": "execute_result"
    },
    {
     "data": {
      "text/plain": [
       "'M1PD'"
      ]
     },
     "execution_count": 12,
     "metadata": {},
     "output_type": "execute_result"
    },
    {
     "data": {
      "text/plain": [
       "'AGPAT141'"
      ]
     },
     "execution_count": 12,
     "metadata": {},
     "output_type": "execute_result"
    },
    {
     "data": {
      "text/plain": [
       "'R08503'"
      ]
     },
     "execution_count": 12,
     "metadata": {},
     "output_type": "execute_result"
    },
    {
     "data": {
      "text/plain": [
       "'PACCOALr'"
      ]
     },
     "execution_count": 12,
     "metadata": {},
     "output_type": "execute_result"
    },
    {
     "data": {
      "text/plain": [
       "'ARBabc'"
      ]
     },
     "execution_count": 12,
     "metadata": {},
     "output_type": "execute_result"
    },
    {
     "data": {
      "text/plain": [
       "'LPLIPAL2G141'"
      ]
     },
     "execution_count": 12,
     "metadata": {},
     "output_type": "execute_result"
    },
    {
     "data": {
      "text/plain": [
       "'DAGK180'"
      ]
     },
     "execution_count": 12,
     "metadata": {},
     "output_type": "execute_result"
    },
    {
     "data": {
      "text/plain": [
       "'L-LACD'"
      ]
     },
     "execution_count": 12,
     "metadata": {},
     "output_type": "execute_result"
    },
    {
     "data": {
      "text/plain": [
       "'G3PAT140'"
      ]
     },
     "execution_count": 12,
     "metadata": {},
     "output_type": "execute_result"
    },
    {
     "data": {
      "text/plain": [
       "'GPT2_2'"
      ]
     },
     "execution_count": 12,
     "metadata": {},
     "output_type": "execute_result"
    },
    {
     "data": {
      "text/plain": [
       "'DHPPD'"
      ]
     },
     "execution_count": 12,
     "metadata": {},
     "output_type": "execute_result"
    },
    {
     "data": {
      "text/plain": [
       "'MEAMP1(ala-glu)'"
      ]
     },
     "execution_count": 12,
     "metadata": {},
     "output_type": "execute_result"
    },
    {
     "data": {
      "text/plain": [
       "'FA80ACPHi'"
      ]
     },
     "execution_count": 12,
     "metadata": {},
     "output_type": "execute_result"
    },
    {
     "data": {
      "text/plain": [
       "'ACOAD4'"
      ]
     },
     "execution_count": 12,
     "metadata": {},
     "output_type": "execute_result"
    },
    {
     "data": {
      "text/plain": [
       "'FACOAL161'"
      ]
     },
     "execution_count": 12,
     "metadata": {},
     "output_type": "execute_result"
    },
    {
     "data": {
      "text/plain": [
       "'DHPR'"
      ]
     },
     "execution_count": 12,
     "metadata": {},
     "output_type": "execute_result"
    },
    {
     "data": {
      "text/plain": [
       "'LPLIPAL2G140'"
      ]
     },
     "execution_count": 12,
     "metadata": {},
     "output_type": "execute_result"
    },
    {
     "data": {
      "text/plain": [
       "'DHAD2'"
      ]
     },
     "execution_count": 12,
     "metadata": {},
     "output_type": "execute_result"
    },
    {
     "data": {
      "text/plain": [
       "'MEAMP1(ala-asp)'"
      ]
     },
     "execution_count": 12,
     "metadata": {},
     "output_type": "execute_result"
    },
    {
     "data": {
      "text/plain": [
       "'ADPRDP'"
      ]
     },
     "execution_count": 12,
     "metadata": {},
     "output_type": "execute_result"
    },
    {
     "data": {
      "text/plain": [
       "'HEX7'"
      ]
     },
     "execution_count": 12,
     "metadata": {},
     "output_type": "execute_result"
    },
    {
     "data": {
      "text/plain": [
       "'EAR80x'"
      ]
     },
     "execution_count": 12,
     "metadata": {},
     "output_type": "execute_result"
    },
    {
     "data": {
      "text/plain": [
       "'LPLIPAL1E120pp'"
      ]
     },
     "execution_count": 12,
     "metadata": {},
     "output_type": "execute_result"
    },
    {
     "data": {
      "text/plain": [
       "'AGPAT181'"
      ]
     },
     "execution_count": 12,
     "metadata": {},
     "output_type": "execute_result"
    },
    {
     "data": {
      "text/plain": [
       "'COCHL'"
      ]
     },
     "execution_count": 12,
     "metadata": {},
     "output_type": "execute_result"
    },
    {
     "data": {
      "text/plain": [
       "'MCSNAH1r'"
      ]
     },
     "execution_count": 12,
     "metadata": {},
     "output_type": "execute_result"
    },
    {
     "data": {
      "text/plain": [
       "'LPLIPAL2G181'"
      ]
     },
     "execution_count": 12,
     "metadata": {},
     "output_type": "execute_result"
    },
    {
     "data": {
      "text/plain": [
       "'PGPP140pp'"
      ]
     },
     "execution_count": 12,
     "metadata": {},
     "output_type": "execute_result"
    },
    {
     "data": {
      "text/plain": [
       "'G3PAT181'"
      ]
     },
     "execution_count": 12,
     "metadata": {},
     "output_type": "execute_result"
    },
    {
     "data": {
      "text/plain": [
       "'RIB7_1'"
      ]
     },
     "execution_count": 12,
     "metadata": {},
     "output_type": "execute_result"
    },
    {
     "data": {
      "text/plain": [
       "'HBUR1'"
      ]
     },
     "execution_count": 12,
     "metadata": {},
     "output_type": "execute_result"
    },
    {
     "data": {
      "text/plain": [
       "'LPLIPAL1G160pp'"
      ]
     },
     "execution_count": 12,
     "metadata": {},
     "output_type": "execute_result"
    },
    {
     "data": {
      "text/plain": [
       "'NODOx'"
      ]
     },
     "execution_count": 12,
     "metadata": {},
     "output_type": "execute_result"
    },
    {
     "data": {
      "text/plain": [
       "'CATC'"
      ]
     },
     "execution_count": 12,
     "metadata": {},
     "output_type": "execute_result"
    },
    {
     "data": {
      "text/plain": [
       "'BLACT'"
      ]
     },
     "execution_count": 12,
     "metadata": {},
     "output_type": "execute_result"
    },
    {
     "data": {
      "text/plain": [
       "'URA7_2'"
      ]
     },
     "execution_count": 12,
     "metadata": {},
     "output_type": "execute_result"
    },
    {
     "data": {
      "text/plain": [
       "'PGSA141'"
      ]
     },
     "execution_count": 12,
     "metadata": {},
     "output_type": "execute_result"
    },
    {
     "data": {
      "text/plain": [
       "'DMOCT'"
      ]
     },
     "execution_count": 12,
     "metadata": {},
     "output_type": "execute_result"
    },
    {
     "data": {
      "text/plain": [
       "'DHPS'"
      ]
     },
     "execution_count": 12,
     "metadata": {},
     "output_type": "execute_result"
    },
    {
     "data": {
      "text/plain": [
       "'FCI'"
      ]
     },
     "execution_count": 12,
     "metadata": {},
     "output_type": "execute_result"
    },
    {
     "data": {
      "text/plain": [
       "'ACACT5r'"
      ]
     },
     "execution_count": 12,
     "metadata": {},
     "output_type": "execute_result"
    },
    {
     "data": {
      "text/plain": [
       "'UREA2'"
      ]
     },
     "execution_count": 12,
     "metadata": {},
     "output_type": "execute_result"
    },
    {
     "data": {
      "text/plain": [
       "'CBIAT'"
      ]
     },
     "execution_count": 12,
     "metadata": {},
     "output_type": "execute_result"
    },
    {
     "data": {
      "text/plain": [
       "'LPLIPAL2G160'"
      ]
     },
     "execution_count": 12,
     "metadata": {},
     "output_type": "execute_result"
    },
    {
     "data": {
      "text/plain": [
       "'LPLIPAL2E141'"
      ]
     },
     "execution_count": 12,
     "metadata": {},
     "output_type": "execute_result"
    },
    {
     "data": {
      "text/plain": [
       "'HPDOAi'"
      ]
     },
     "execution_count": 12,
     "metadata": {},
     "output_type": "execute_result"
    },
    {
     "data": {
      "text/plain": [
       "'GAL6PI'"
      ]
     },
     "execution_count": 12,
     "metadata": {},
     "output_type": "execute_result"
    },
    {
     "data": {
      "text/plain": [
       "'LPLIPAL1E160pp'"
      ]
     },
     "execution_count": 12,
     "metadata": {},
     "output_type": "execute_result"
    },
    {
     "data": {
      "text/plain": [
       "'TTDCAt2'"
      ]
     },
     "execution_count": 12,
     "metadata": {},
     "output_type": "execute_result"
    },
    {
     "data": {
      "text/plain": [
       "'TMAOR2e'"
      ]
     },
     "execution_count": 12,
     "metadata": {},
     "output_type": "execute_result"
    },
    {
     "data": {
      "text/plain": [
       "'ACCOAL'"
      ]
     },
     "execution_count": 12,
     "metadata": {},
     "output_type": "execute_result"
    },
    {
     "data": {
      "text/plain": [
       "'PGPP120pp'"
      ]
     },
     "execution_count": 12,
     "metadata": {},
     "output_type": "execute_result"
    },
    {
     "data": {
      "text/plain": [
       "'ADE5_7_2'"
      ]
     },
     "execution_count": 12,
     "metadata": {},
     "output_type": "execute_result"
    },
    {
     "data": {
      "text/plain": [
       "'AGPAT180'"
      ]
     },
     "execution_count": 12,
     "metadata": {},
     "output_type": "execute_result"
    },
    {
     "data": {
      "text/plain": [
       "'LPLIPAL1G120pp'"
      ]
     },
     "execution_count": 12,
     "metadata": {},
     "output_type": "execute_result"
    },
    {
     "data": {
      "text/plain": [
       "'ADCOBASr'"
      ]
     },
     "execution_count": 12,
     "metadata": {},
     "output_type": "execute_result"
    },
    {
     "data": {
      "text/plain": [
       "'AGPAT161'"
      ]
     },
     "execution_count": 12,
     "metadata": {},
     "output_type": "execute_result"
    },
    {
     "data": {
      "text/plain": [
       "'LPLIPAL2A140'"
      ]
     },
     "execution_count": 12,
     "metadata": {},
     "output_type": "execute_result"
    },
    {
     "data": {
      "text/plain": [
       "'PSSA181'"
      ]
     },
     "execution_count": 12,
     "metadata": {},
     "output_type": "execute_result"
    },
    {
     "data": {
      "text/plain": [
       "'HXAD'"
      ]
     },
     "execution_count": 12,
     "metadata": {},
     "output_type": "execute_result"
    },
    {
     "data": {
      "text/plain": [
       "'DPGM'"
      ]
     },
     "execution_count": 12,
     "metadata": {},
     "output_type": "execute_result"
    },
    {
     "data": {
      "text/plain": [
       "'NODO'"
      ]
     },
     "execution_count": 12,
     "metadata": {},
     "output_type": "execute_result"
    },
    {
     "data": {
      "text/plain": [
       "'PHE4MOi3'"
      ]
     },
     "execution_count": 12,
     "metadata": {},
     "output_type": "execute_result"
    },
    {
     "data": {
      "text/plain": [
       "'G3PAT141'"
      ]
     },
     "execution_count": 12,
     "metadata": {},
     "output_type": "execute_result"
    },
    {
     "data": {
      "text/plain": [
       "'4AHD2'"
      ]
     },
     "execution_count": 12,
     "metadata": {},
     "output_type": "execute_result"
    },
    {
     "data": {
      "text/plain": [
       "'CDPGS'"
      ]
     },
     "execution_count": 12,
     "metadata": {},
     "output_type": "execute_result"
    },
    {
     "data": {
      "text/plain": [
       "'MEAMP1(ala-his)'"
      ]
     },
     "execution_count": 12,
     "metadata": {},
     "output_type": "execute_result"
    },
    {
     "data": {
      "text/plain": [
       "'ACOAD2'"
      ]
     },
     "execution_count": 12,
     "metadata": {},
     "output_type": "execute_result"
    },
    {
     "data": {
      "text/plain": [
       "'FA100ACPHi'"
      ]
     },
     "execution_count": 12,
     "metadata": {},
     "output_type": "execute_result"
    },
    {
     "data": {
      "text/plain": [
       "'TKT2'"
      ]
     },
     "execution_count": 12,
     "metadata": {},
     "output_type": "execute_result"
    },
    {
     "data": {
      "text/plain": [
       "'2AEPPNAT'"
      ]
     },
     "execution_count": 12,
     "metadata": {},
     "output_type": "execute_result"
    },
    {
     "data": {
      "text/plain": [
       "'ADE6'"
      ]
     },
     "execution_count": 12,
     "metadata": {},
     "output_type": "execute_result"
    },
    {
     "data": {
      "text/plain": [
       "'LPLIPAL1E180pp'"
      ]
     },
     "execution_count": 12,
     "metadata": {},
     "output_type": "execute_result"
    },
    {
     "data": {
      "text/plain": [
       "'PGI'"
      ]
     },
     "execution_count": 12,
     "metadata": {},
     "output_type": "execute_result"
    },
    {
     "data": {
      "text/plain": [
       "'MEAMP1(gly-met)'"
      ]
     },
     "execution_count": 12,
     "metadata": {},
     "output_type": "execute_result"
    },
    {
     "data": {
      "text/plain": [
       "'FBP26'"
      ]
     },
     "execution_count": 12,
     "metadata": {},
     "output_type": "execute_result"
    },
    {
     "data": {
      "text/plain": [
       "'LPLIPAL1E141pp'"
      ]
     },
     "execution_count": 12,
     "metadata": {},
     "output_type": "execute_result"
    },
    {
     "data": {
      "text/plain": [
       "'G1PACTr'"
      ]
     },
     "execution_count": 12,
     "metadata": {},
     "output_type": "execute_result"
    },
    {
     "data": {
      "text/plain": [
       "'SHSL1r'"
      ]
     },
     "execution_count": 12,
     "metadata": {},
     "output_type": "execute_result"
    },
    {
     "data": {
      "text/plain": [
       "'HMGL'"
      ]
     },
     "execution_count": 12,
     "metadata": {},
     "output_type": "execute_result"
    },
    {
     "data": {
      "text/plain": [
       "'2MACOAD'"
      ]
     },
     "execution_count": 12,
     "metadata": {},
     "output_type": "execute_result"
    },
    {
     "data": {
      "text/plain": [
       "'MNLDH'"
      ]
     },
     "execution_count": 12,
     "metadata": {},
     "output_type": "execute_result"
    },
    {
     "data": {
      "text/plain": [
       "'HIBD'"
      ]
     },
     "execution_count": 12,
     "metadata": {},
     "output_type": "execute_result"
    },
    {
     "data": {
      "text/plain": [
       "'PSD141'"
      ]
     },
     "execution_count": 12,
     "metadata": {},
     "output_type": "execute_result"
    },
    {
     "data": {
      "text/plain": [
       "'PGSA140'"
      ]
     },
     "execution_count": 12,
     "metadata": {},
     "output_type": "execute_result"
    },
    {
     "data": {
      "text/plain": [
       "'G3PD7'"
      ]
     },
     "execution_count": 12,
     "metadata": {},
     "output_type": "execute_result"
    },
    {
     "data": {
      "text/plain": [
       "'AMD1_1'"
      ]
     },
     "execution_count": 12,
     "metadata": {},
     "output_type": "execute_result"
    },
    {
     "data": {
      "text/plain": [
       "'G3PAT161'"
      ]
     },
     "execution_count": 12,
     "metadata": {},
     "output_type": "execute_result"
    },
    {
     "data": {
      "text/plain": [
       "'LPLIPAL1G140pp'"
      ]
     },
     "execution_count": 12,
     "metadata": {},
     "output_type": "execute_result"
    },
    {
     "data": {
      "text/plain": [
       "'R08504'"
      ]
     },
     "execution_count": 12,
     "metadata": {},
     "output_type": "execute_result"
    },
    {
     "data": {
      "text/plain": [
       "'LPLIPAL2A141'"
      ]
     },
     "execution_count": 12,
     "metadata": {},
     "output_type": "execute_result"
    },
    {
     "data": {
      "text/plain": [
       "'PPAK'"
      ]
     },
     "execution_count": 12,
     "metadata": {},
     "output_type": "execute_result"
    },
    {
     "data": {
      "text/plain": [
       "'DAGK120'"
      ]
     },
     "execution_count": 12,
     "metadata": {},
     "output_type": "execute_result"
    },
    {
     "data": {
      "text/plain": [
       "'METB1'"
      ]
     },
     "execution_count": 12,
     "metadata": {},
     "output_type": "execute_result"
    },
    {
     "data": {
      "text/plain": [
       "'FAS2_7_1'"
      ]
     },
     "execution_count": 12,
     "metadata": {},
     "output_type": "execute_result"
    },
    {
     "data": {
      "text/plain": [
       "'MEAMP1(met-ala)'"
      ]
     },
     "execution_count": 12,
     "metadata": {},
     "output_type": "execute_result"
    },
    {
     "data": {
      "text/plain": [
       "'G3PAT160'"
      ]
     },
     "execution_count": 12,
     "metadata": {},
     "output_type": "execute_result"
    },
    {
     "data": {
      "text/plain": [
       "'PGGH'"
      ]
     },
     "execution_count": 12,
     "metadata": {},
     "output_type": "execute_result"
    },
    {
     "data": {
      "text/plain": [
       "'GLC3'"
      ]
     },
     "execution_count": 12,
     "metadata": {},
     "output_type": "execute_result"
    },
    {
     "data": {
      "text/plain": [
       "'PSD181'"
      ]
     },
     "execution_count": 12,
     "metadata": {},
     "output_type": "execute_result"
    },
    {
     "data": {
      "text/plain": [
       "'LPLIPAL2E161'"
      ]
     },
     "execution_count": 12,
     "metadata": {},
     "output_type": "execute_result"
    },
    {
     "data": {
      "text/plain": [
       "'UDCPDP'"
      ]
     },
     "execution_count": 12,
     "metadata": {},
     "output_type": "execute_result"
    },
    {
     "data": {
      "text/plain": [
       "'EAR60x'"
      ]
     },
     "execution_count": 12,
     "metadata": {},
     "output_type": "execute_result"
    },
    {
     "data": {
      "text/plain": [
       "'LPLIPAL1A161pp'"
      ]
     },
     "execution_count": 12,
     "metadata": {},
     "output_type": "execute_result"
    },
    {
     "data": {
      "text/plain": [
       "'PSSA141'"
      ]
     },
     "execution_count": 12,
     "metadata": {},
     "output_type": "execute_result"
    },
    {
     "data": {
      "text/plain": [
       "'PGPP181pp'"
      ]
     },
     "execution_count": 12,
     "metadata": {},
     "output_type": "execute_result"
    },
    {
     "data": {
      "text/plain": [
       "'DIPEPabc5'"
      ]
     },
     "execution_count": 12,
     "metadata": {},
     "output_type": "execute_result"
    },
    {
     "data": {
      "text/plain": [
       "'CYSTLr'"
      ]
     },
     "execution_count": 12,
     "metadata": {},
     "output_type": "execute_result"
    },
    {
     "data": {
      "text/plain": [
       "'LPLIPAL1G181pp'"
      ]
     },
     "execution_count": 12,
     "metadata": {},
     "output_type": "execute_result"
    },
    {
     "data": {
      "text/plain": [
       "'LPLIPAL1A140pp'"
      ]
     },
     "execution_count": 12,
     "metadata": {},
     "output_type": "execute_result"
    },
    {
     "data": {
      "text/plain": [
       "'PGSA120'"
      ]
     },
     "execution_count": 12,
     "metadata": {},
     "output_type": "execute_result"
    },
    {
     "data": {
      "text/plain": [
       "'FCLT'"
      ]
     },
     "execution_count": 12,
     "metadata": {},
     "output_type": "execute_result"
    },
    {
     "data": {
      "text/plain": [
       "'MEAMP1(gly-asn)'"
      ]
     },
     "execution_count": 12,
     "metadata": {},
     "output_type": "execute_result"
    },
    {
     "data": {
      "text/plain": [
       "'ACS2'"
      ]
     },
     "execution_count": 12,
     "metadata": {},
     "output_type": "execute_result"
    },
    {
     "data": {
      "text/plain": [
       "'LPLIPAL2G161'"
      ]
     },
     "execution_count": 12,
     "metadata": {},
     "output_type": "execute_result"
    },
    {
     "data": {
      "text/plain": [
       "'FACOAL181'"
      ]
     },
     "execution_count": 12,
     "metadata": {},
     "output_type": "execute_result"
    },
    {
     "data": {
      "text/plain": [
       "'CCP'"
      ]
     },
     "execution_count": 12,
     "metadata": {},
     "output_type": "execute_result"
    },
    {
     "data": {
      "text/plain": [
       "'HCITS'"
      ]
     },
     "execution_count": 12,
     "metadata": {},
     "output_type": "execute_result"
    },
    {
     "data": {
      "text/plain": [
       "'DAGK140'"
      ]
     },
     "execution_count": 12,
     "metadata": {},
     "output_type": "execute_result"
    },
    {
     "data": {
      "text/plain": [
       "'3OAS100'"
      ]
     },
     "execution_count": 12,
     "metadata": {},
     "output_type": "execute_result"
    },
    {
     "data": {
      "text/plain": [
       "'FAA1_2'"
      ]
     },
     "execution_count": 12,
     "metadata": {},
     "output_type": "execute_result"
    },
    {
     "data": {
      "text/plain": [
       "'DAGK161'"
      ]
     },
     "execution_count": 12,
     "metadata": {},
     "output_type": "execute_result"
    },
    {
     "data": {
      "text/plain": [
       "'UAGDPr'"
      ]
     },
     "execution_count": 12,
     "metadata": {},
     "output_type": "execute_result"
    },
    {
     "data": {
      "text/plain": [
       "'HBUHL1'"
      ]
     },
     "execution_count": 12,
     "metadata": {},
     "output_type": "execute_result"
    },
    {
     "data": {
      "text/plain": [
       "'GLCTR1'"
      ]
     },
     "execution_count": 12,
     "metadata": {},
     "output_type": "execute_result"
    },
    {
     "data": {
      "text/plain": [
       "'UGMDDS'"
      ]
     },
     "execution_count": 12,
     "metadata": {},
     "output_type": "execute_result"
    },
    {
     "data": {
      "text/plain": [
       "'KDOPP'"
      ]
     },
     "execution_count": 12,
     "metadata": {},
     "output_type": "execute_result"
    },
    {
     "data": {
      "text/plain": [
       "'DHNAOT4'"
      ]
     },
     "execution_count": 12,
     "metadata": {},
     "output_type": "execute_result"
    },
    {
     "data": {
      "text/plain": [
       "'RHAT1'"
      ]
     },
     "execution_count": 12,
     "metadata": {},
     "output_type": "execute_result"
    },
    {
     "data": {
      "text/plain": [
       "'MNt2'"
      ]
     },
     "execution_count": 12,
     "metadata": {},
     "output_type": "execute_result"
    },
    {
     "name": "stdout",
     "output_type": "stream",
     "text": [
      "{'rxn02201': {'reac_id': 'H2PTEROATESYNTH-RXN_c0', 'seed_id': 'rxn02201', 'bigg_ann': ['DHPS2', 'DHPS2_1', 'FOLD3', 'FOLD3_1', 'FOLD3m'], 'in_modelseed': ['DHPS2', 'DHPS2FOLD3', 'FOLD3', 'FOLDm'], 'both': {'FOLD3', 'DHPS2', 'FOLDm', 'FOLD3m', 'DHPS2_1', 'FOLD3_1', 'DHPS2FOLD3'}}, 'rxn00351': {'reac_id': 'GLUTATHIONE-SYN-RXN_c0', 'seed_id': 'rxn00351', 'bigg_ann': ['GTHS', 'GTHS_1'], 'in_modelseed': ['GSH2', 'GTHS'], 'both': {'GSH2', 'GTHS', 'GTHS_1'}}, 'rxn00836': {'reac_id': 'HXPRT', 'seed_id': 'rxn00836', 'bigg_ann': 'HXPRT', 'in_modelseed': ['HPT1_1', 'HXPRT', 'HXPRTr'], 'both': {'HXPRT', 'HPT1_1', 'HXPRTr'}}, 'rxn02209': {'reac_id': 'RXN-8641_c0', 'seed_id': 'rxn02209', 'bigg_ann': ['ALCD21_D', 'LCARR'], 'in_modelseed': ['LCARR'], 'both': {'LCARR', 'ALCD21_D'}}, 'rxn08180': {'reac_id': 'MNXR96343_c0', 'seed_id': 'rxn08180', 'bigg_ann': 'BTS4', 'in_modelseed': ['BTS4'], 'both': {'BTS4'}}, 'rxn05318': {'reac_id': 'TRANS-RXN-108A_c0', 'seed_id': 'rxn05318', 'bigg_ann': ['ADNt2', 'ADNt2pp'], 'in_modelseed': ['ADNt2', 'ADNt2r', 'U174', 'U185', 'U191'], 'both': {'ADNt2r', 'U185', 'ADNt2', 'U174', 'U191', 'ADNt2pp'}}, 'rxn00062': {'reac_id': 'ATPASE-RXN_c0', 'seed_id': 'rxn00062', 'bigg_ann': ['ATPM', 'ATPPHm', 'ATPS', 'NTP1'], 'in_modelseed': ['ATPM', 'ATPOBJ', 'NTP1'], 'both': {'ATPS', 'NTP1', 'ATPPHm', 'ATPM', 'ATPOBJ'}}, 'rxn00423': {'reac_id': 'SERINE-O-ACETTRAN-RXN_c0', 'seed_id': 'rxn00423', 'bigg_ann': ['SAT', 'SATm', 'SERAT'], 'in_modelseed': ['SERAT', 'SERATi', 'U48'], 'both': {'SATm', 'U48', 'SERATi', 'SERAT', 'SAT'}}, 'rxn00364': {'reac_id': 'RXN-11832_c0', 'seed_id': 'rxn00364', 'bigg_ann': ['CYTK1', 'CYTK1m', 'CYTK1n'], 'in_modelseed': ['CYTK1', 'U18'], 'both': {'CYTK1m', 'U18', 'CYTK1', 'CYTK1n'}}, 'rxn05561': {'reac_id': 'MNXR99713_c0', 'seed_id': 'rxn05561', 'bigg_ann': ['FUMt2r', 'FUMtpp'], 'in_modelseed': ['FUMt2r', 'FUMt6', 'U207'], 'both': {'U207', 'FUMtpp', 'FUMt6', 'FUMt2r'}}, 'rxn00646': {'reac_id': 'GLUTCYSLIG-RXN_c0', 'seed_id': 'rxn00646', 'bigg_ann': ['GCL', 'GLUCYS'], 'in_modelseed': ['GLUCYS', 'GLUCYSL', 'GSH1'], 'both': {'GLUCYSL', 'GCL', 'GLUCYS', 'GSH1'}}, 'rxn01673': {'reac_id': 'DCDPKIN-RXN_c0', 'seed_id': 'rxn01673', 'bigg_ann': ['NDPK7', 'NDPK7m', 'NDPK7n'], 'in_modelseed': ['NDPK7', 'YNK1_5'], 'both': {'NDPK7n', 'NDPK7', 'YNK1_5', 'NDPK7m'}}, 'rxn00247': {'reac_id': 'PEPCARBOXYKIN-RXN_c0', 'seed_id': 'rxn00247', 'bigg_ann': ['PPCK', 'PPCKm'], 'in_modelseed': ['PCK1', 'PPCK', 'PPCKr'], 'both': {'PPCKm', 'PPCKr', 'PPCK', 'PCK1'}}, 'rxn05625': {'reac_id': 'MNXR101984_c0', 'seed_id': 'rxn05625', 'bigg_ann': ['NO2t2r', 'NO2t2rpp'], 'in_modelseed': ['NO2t2', 'NO2t2ir', 'NO2t2r'], 'both': {'NO2t2r', 'NO2t2rpp', 'NO2t2ir', 'NO2t2'}}, 'rxn05156': {'reac_id': 'ABC-37-RXN_c0', 'seed_id': 'rxn05156', 'bigg_ann': ['ORNabc', 'ORNabcpp'], 'in_modelseed': ['ORNabc'], 'both': {'ORNabcpp', 'ORNabc'}}, 'rxn00973': {'reac_id': 'MNXR95384_c0', 'seed_id': 'rxn00973', 'bigg_ann': ['ACONT', 'ACONTm', 'ACONTx'], 'in_modelseed': ['ACONT'], 'both': {'ACONTm', 'ACONTx', 'ACONT'}}, 'rxn02000': {'reac_id': 'TDPDRE', 'seed_id': 'rxn02000', 'bigg_ann': 'TDPDRE', 'in_modelseed': ['TDPDRE', 'TDPDREi'], 'both': {'TDPDREi', 'TDPDRE'}}, 'rxn03239': {'reac_id': 'RXN-14271_c0', 'seed_id': 'rxn03239', 'bigg_ann': ['HACD7', 'HACD7_1', 'HACD7i', 'HACD7m', 'HACD7p'], 'in_modelseed': ['HACD7', 'HACD7i'], 'both': {'HACD7p', 'HACD7', 'HACD7_1', 'HACD7i', 'HACD7m'}}, 'rxn00322': {'reac_id': 'LYSDC', 'seed_id': 'rxn00322', 'bigg_ann': 'LYSDC', 'in_modelseed': ['LYSDC'], 'both': {'LYSDC'}}, 'rxn05457': {'reac_id': 'RXN3O-8214_c0', 'seed_id': 'rxn05457', 'bigg_ann': 'MISSING', 'in_modelseed': ['FAS1_6_c'], 'both': {'FAS1_6_c'}}, 'rxn10118': {'reac_id': 'MNXR100753_c0', 'seed_id': 'rxn10118', 'bigg_ann': ['HYD1', 'HYD1pp'], 'in_modelseed': ['HYD1'], 'both': {'HYD1pp', 'HYD1'}}, 'rxn12008': {'reac_id': 'MNXR109713_c0', 'seed_id': 'rxn12008', 'bigg_ann': 'MISSING', 'in_modelseed': ['HEPTT'], 'both': {'HEPTT'}}, 'rxn04070': {'reac_id': 'PDXJ-RXN_c0', 'seed_id': 'rxn04070', 'bigg_ann': 'MISSING', 'in_modelseed': ['PDX5PS2'], 'both': {'PDX5PS2'}}, 'rxn00199': {'reac_id': 'RXN-8642_c0', 'seed_id': 'rxn00199', 'bigg_ann': ['r0082', 'r0083', 'r0084'], 'in_modelseed': ['IDP2_2', 'IDP3_2'], 'both': {'r0084', 'r0083', 'IDP2_2', 'r0082', 'IDP3_2'}}, 'rxn01358': {'reac_id': 'PUNP5', 'seed_id': 'rxn01358', 'bigg_ann': 'PUNP5', 'in_modelseed': ['PNP1_6', 'PUNP5'], 'both': {'PNP1_6', 'PUNP5'}}, 'rxn02944': {'reac_id': 'SOTA', 'seed_id': 'rxn02944', 'bigg_ann': 'SOTA', 'in_modelseed': ['SOTA'], 'both': {'SOTA'}}, 'rxn01867': {'reac_id': 'BADH-RXN_c0', 'seed_id': 'rxn01867', 'bigg_ann': ['BETALDHx', 'BETALDHxm'], 'in_modelseed': ['BADH', 'BETALDHx'], 'both': {'BETALDHx', 'BADH', 'BETALDHxm'}}, 'rxn12637': {'reac_id': 'RXN0-6987_c0', 'seed_id': 'rxn12637', 'bigg_ann': 'MISSING', 'in_modelseed': ['AMPEP13', 'MEAMP1(gly-asp)'], 'both': {'MEAMP1(gly-asp)', 'AMPEP13'}}, 'rxn09240': {'reac_id': 'SADT2', 'seed_id': 'rxn09240', 'bigg_ann': 'SADT2', 'in_modelseed': ['SADT2'], 'both': {'SADT2'}}, 'rxn01219': {'reac_id': 'RXN-7913_c0', 'seed_id': 'rxn01219', 'bigg_ann': ['CYTK2', 'CYTK2m', 'CYTK2n'], 'in_modelseed': ['CYTK2', 'U17'], 'both': {'CYTK2n', 'CYTK2m', 'U17', 'CYTK2'}}, 'rxn05958': {'reac_id': 'RHCCE', 'seed_id': 'rxn05958', 'bigg_ann': 'RHCCE', 'in_modelseed': ['RHCCE'], 'both': {'RHCCE'}}, 'rxn00800': {'reac_id': 'ADSL1r', 'seed_id': 'rxn00800', 'bigg_ann': 'ADSL1r', 'in_modelseed': ['ADE13_2', 'ADSL1', 'ADSL1r'], 'both': {'ADSL1r', 'ADSL1', 'ADE13_2'}}, 'rxn09177': {'reac_id': 'PPNCL2', 'seed_id': 'rxn09177', 'bigg_ann': 'PPNCL2', 'in_modelseed': ['PPNCL2', 'U92'], 'both': {'PPNCL2', 'U92'}}, 'rxn00211': {'reac_id': 'UDPGD', 'seed_id': 'rxn00211', 'bigg_ann': 'UDPGD', 'in_modelseed': ['UDPGD', 'UDPGDi', 'UDPGDr'], 'both': {'UDPGD', 'UDPGDr', 'UDPGDi'}}, 'rxn00179': {'reac_id': 'GLUTKIN-RXN_c0', 'seed_id': 'rxn00179', 'bigg_ann': ['GLU5K', 'GLU5Km'], 'in_modelseed': ['GLU5K'], 'both': {'GLU5K', 'GLU5Km'}}, 'rxn00192': {'reac_id': 'N-ACETYLTRANSFER-RXN_c0', 'seed_id': 'rxn00192', 'bigg_ann': ['ACGS', 'ACGSm'], 'in_modelseed': ['ACGS'], 'both': {'ACGS', 'ACGSm'}}, 'rxn01218': {'reac_id': 'RXN0-5292_c0', 'seed_id': 'rxn01218', 'bigg_ann': ['NTD3', 'NTD3l', 'NTD3pp'], 'in_modelseed': ['NTD3', 'U28'], 'both': {'NTD3pp', 'NTD3l', 'U28', 'NTD3'}}, 'rxn02898': {'reac_id': 'MNXR102012_c0', 'seed_id': 'rxn02898', 'bigg_ann': 'NPHS', 'in_modelseed': ['NPHS', 'NPHSr'], 'both': {'NPHSr', 'NPHS'}}, 'rxn05654': {'reac_id': 'MNXR104622_c0', 'seed_id': 'rxn05654', 'bigg_ann': ['SUCCt2b', 'SUCCt2r', 'SUCCtpp'], 'in_modelseed': ['SUCCt2b', 'SUCCt2r', 'SUCCt6', 'U205'], 'both': {'SUCCt2r', 'SUCCt2b', 'U205', 'SUCCtpp', 'SUCCt6'}}, 'rxn01199': {'reac_id': 'XYLK', 'seed_id': 'rxn01199', 'bigg_ann': 'XYLK', 'in_modelseed': ['XKS1', 'XYLK'], 'both': {'XKS1', 'XYLK'}}, 'rxn00545': {'reac_id': 'MNXR106666_c0', 'seed_id': 'rxn00545', 'bigg_ann': 'MISSING', 'in_modelseed': ['PFK', 'PFK1_1', 'PFK2'], 'both': {'PFK2', 'PFK1_1', 'PFK'}}, 'rxn02319': {'reac_id': 'FCLK', 'seed_id': 'rxn02319', 'bigg_ann': 'FCLK', 'in_modelseed': ['FCLK'], 'both': {'FCLK'}}, 'rxn08807': {'reac_id': 'MNXR135851_c0', 'seed_id': 'rxn08807', 'bigg_ann': 'MISSING', 'in_modelseed': ['LPLIPAL1E161pp'], 'both': {'LPLIPAL1E161pp'}}, 'rxn05614': {'reac_id': 'MNXR101487_c0', 'seed_id': 'rxn05614', 'bigg_ann': 'METSRabc', 'in_modelseed': ['METSRabc'], 'both': {'METSRabc'}}, 'rxn00501': {'reac_id': 'RXN-2902_c0', 'seed_id': 'rxn00501', 'bigg_ann': ['MMSAD3', 'MMSAD3m'], 'in_modelseed': ['MMSAD3'], 'both': {'MMSAD3m', 'MMSAD3'}}, 'rxn02320': {'reac_id': 'HISTAMINOTRANS-RXN_c0', 'seed_id': 'rxn02320', 'bigg_ann': ['AOOA', 'AOOAh', 'HSTPT', 'HSTPTr'], 'in_modelseed': ['HIS5', 'HSTPT', 'HSTPTr'], 'both': {'AOOAh', 'HSTPT', 'AOOA', 'HIS5', 'HSTPTr'}}, 'rxn03384': {'reac_id': 'RXN-10642_c0', 'seed_id': 'rxn03384', 'bigg_ann': ['UPPDC2', 'UPPDC2_1'], 'in_modelseed': ['UPPDC2'], 'both': {'UPPDC2', 'UPPDC2_1'}}, 'rxn02504': {'reac_id': 'DHNPA2r', 'seed_id': 'rxn02504', 'bigg_ann': 'MISSING', 'in_modelseed': ['DHNPA'], 'both': {'DHNPA'}}, 'rxn04082': {'reac_id': 'RBP4E', 'seed_id': 'rxn04082', 'bigg_ann': 'RBP4E', 'in_modelseed': ['RBP4E'], 'both': {'RBP4E'}}, 'rxn00262': {'reac_id': 'MNXR96088_c0', 'seed_id': 'rxn00262', 'bigg_ann': ['ASPO1', 'ASPOm'], 'in_modelseed': ['ASPO7'], 'both': {'ASPOm', 'ASPO1', 'ASPO7'}}, 'rxn10126': {'reac_id': 'MNXR104630_c0', 'seed_id': 'rxn10126', 'bigg_ann': 'SUCD4', 'in_modelseed': ['SUCD4'], 'both': {'SUCD4'}}, 'rxn08084': {'reac_id': 'RXN-17022_c0', 'seed_id': 'rxn08084', 'bigg_ann': 'MISSING', 'in_modelseed': ['AGPAT140'], 'both': {'AGPAT140'}}, 'rxn01486': {'reac_id': 'FARNESYLTRANSTRANSFERASE-RXN_c0', 'seed_id': 'rxn01486', 'bigg_ann': ['FRTT', 'GGPS_1'], 'in_modelseed': ['FRTT'], 'both': {'GGPS_1', 'FRTT'}}, 'rxn05334': {'reac_id': '4.2.1.59-RXN_c0', 'seed_id': 'rxn05334', 'bigg_ann': ['3HAD80', '3HAD80_1'], 'in_modelseed': ['3HAD80', 'HOCHL3'], 'both': {'3HAD80', 'HOCHL3', '3HAD80_1'}}, 'rxn05040': {'reac_id': 'DB4PS', 'seed_id': 'rxn05040', 'bigg_ann': 'DB4PS', 'in_modelseed': ['DB4PS', 'U79'], 'both': {'U79', 'DB4PS'}}, 'rxn05235': {'reac_id': 'MNXR104076_c0', 'seed_id': 'rxn05235', 'bigg_ann': 'RNTR3', 'in_modelseed': ['RNTR3'], 'both': {'RNTR3'}}, 'rxn08556': {'reac_id': 'G3PD5', 'seed_id': 'rxn08556', 'bigg_ann': 'G3PD5', 'in_modelseed': ['G3PD5'], 'both': {'G3PD5'}}, 'rxn00816': {'reac_id': 'MNXR101000_c0', 'seed_id': 'rxn00816', 'bigg_ann': ['LACZ', 'LACZe', 'LACZly', 'LACZpp'], 'in_modelseed': ['LACZ'], 'both': {'LACZe', 'LACZly', 'LACZ', 'LACZpp'}}, 'rxn01750': {'reac_id': 'CDP-GLUCOSE-46-DEHYDRATASE-RXN_c0', 'seed_id': 'rxn01750', 'bigg_ann': 'MISSING', 'in_modelseed': ['CDPGHL'], 'both': {'CDPGHL'}}, 'rxn02988': {'reac_id': 'MNXR103400_c0', 'seed_id': 'rxn02988', 'bigg_ann': ['QULNS', 'QULNS_1'], 'in_modelseed': ['QULNS', 'U100'], 'both': {'U100', 'QULNS', 'QULNS_1'}}, 'rxn04792': {'reac_id': 'FALDH2', 'seed_id': 'rxn04792', 'bigg_ann': 'FALDH2', 'in_modelseed': ['FALDH2', 'HMGDx'], 'both': {'HMGDx', 'FALDH2'}}, 'rxn01021': {'reac_id': 'MTAN', 'seed_id': 'rxn01021', 'bigg_ann': 'MTAN', 'in_modelseed': ['MTAN'], 'both': {'MTAN'}}, 'rxn00165': {'reac_id': '4.3.1.17-RXN_c0', 'seed_id': 'rxn00165', 'bigg_ann': ['SERD_L', 'SER_AL', 'THRAL'], 'in_modelseed': ['CHA1_2', 'SER_AL', 'YIL167W'], 'both': {'SERD_L', 'THRAL', 'SER_AL', 'CHA1_2', 'YIL167W'}}, 'rxn01117': {'reac_id': 'A5PISO', 'seed_id': 'rxn01117', 'bigg_ann': 'A5PISO', 'in_modelseed': ['A5PISO'], 'both': {'A5PISO'}}, 'rxn05542': {'reac_id': 'MNXR97475_c0', 'seed_id': 'rxn05542', 'bigg_ann': 'DIPEPabc4', 'in_modelseed': ['DIPEPabc4'], 'both': {'DIPEPabc4'}}, 'rxn00001': {'reac_id': 'INORGPYROPHOSPHAT-RXN_c0', 'seed_id': 'rxn00001', 'bigg_ann': ['IDPh', 'IDPm', 'PPA', 'PPA_1', 'PPA_1pp', 'PPAer', 'PPAm', 'PPAn', 'r0009'], 'in_modelseed': ['IPP1', 'PPA', 'PPA_1'], 'both': {'IDPh', 'r0009', 'IPP1', 'PPA_1', 'PPA', 'IDPm', 'PPA_1pp', 'PPAn', 'PPAer', 'PPAm'}}, 'rxn09685': {'reac_id': 'TRANS-RXN-108F_c0', 'seed_id': 'rxn09685', 'bigg_ann': ['DURIt2', 'DURIt2pp'], 'in_modelseed': ['DURIt2', 'U184', 'U190', 'U200'], 'both': {'U190', 'DURIt2pp', 'U200', 'DURIt2', 'U184'}}, 'rxn01331': {'reac_id': 'E4PD', 'seed_id': 'rxn01331', 'bigg_ann': 'E4PD', 'in_modelseed': ['E4PD'], 'both': {'E4PD'}}, 'rxn05545': {'reac_id': 'MNXR97478_c0', 'seed_id': 'rxn05545', 'bigg_ann': 'DIPEPabc7', 'in_modelseed': ['DIPEPabc7'], 'both': {'DIPEPabc7'}}, 'rxn00671': {'reac_id': 'MNXR101662_c0', 'seed_id': 'rxn00671', 'bigg_ann': ['MMSAD1', 'MMSAD1m'], 'in_modelseed': ['MMSAD1', 'MMTSAO'], 'both': {'MMSAD1m', 'MMSAD1', 'MMTSAO'}}, 'rxn00710': {'reac_id': 'OMPDC', 'seed_id': 'rxn00710', 'bigg_ann': 'OMPDC', 'in_modelseed': ['OMPDC', 'URA3'], 'both': {'URA3', 'OMPDC'}}, 'rxn01114': {'reac_id': 'D-RIBULOKIN-RXN_c0', 'seed_id': 'rxn01114', 'bigg_ann': 'RBK_Dr', 'in_modelseed': ['RBK_D', 'RBK_Dr'], 'both': {'RBK_Dr', 'RBK_D'}}, 'rxn02305': {'reac_id': 'TMPPP', 'seed_id': 'rxn02305', 'bigg_ann': 'TMPPP', 'in_modelseed': ['THI6_2', 'TMPPP'], 'both': {'TMPPP', 'THI6_2'}}, 'rxn00470': {'reac_id': 'ORNDECARBOX-RXN_c0', 'seed_id': 'rxn00470', 'bigg_ann': ['ORDCh', 'ORNDC'], 'in_modelseed': ['or NDC'], 'both': {'ORNDC', 'ORDCh', 'or NDC'}}, 'rxn08817': {'reac_id': 'MNXR135861_c0', 'seed_id': 'rxn08817', 'bigg_ann': 'MISSING', 'in_modelseed': ['LPLIPAL2A120'], 'both': {'LPLIPAL2A120'}}, 'rxn00910': {'reac_id': 'MNXR101752_c0', 'seed_id': 'rxn00910', 'bigg_ann': ['MTHFO_nadp', 'MTHFR3', 'MTHFR3_1'], 'in_modelseed': ['MTHFR1', 'MTHFR3'], 'both': {'MTHFR3_1', 'MTHFR3', 'MTHFR1', 'MTHFO_nadp'}}, 'rxn08296': {'reac_id': 'MNXR135767_c0', 'seed_id': 'rxn08296', 'bigg_ann': 'MISSING', 'in_modelseed': ['DAGK141'], 'both': {'DAGK141'}}, 'rxn05541': {'reac_id': 'MNXR97474_c0', 'seed_id': 'rxn05541', 'bigg_ann': 'DIPEPabc3', 'in_modelseed': ['DIPEPabc3'], 'both': {'DIPEPabc3'}}, 'rxn00717': {'reac_id': 'CSND', 'seed_id': 'rxn00717', 'bigg_ann': 'MISSING', 'in_modelseed': ['FCY1'], 'both': {'FCY1'}}, 'rxn08710': {'reac_id': 'HEPT1', 'seed_id': 'rxn08710', 'bigg_ann': 'HEPT1', 'in_modelseed': ['HEPT1'], 'both': {'HEPT1'}}, 'rxn05647': {'reac_id': 'MNXR104266_c0', 'seed_id': 'rxn05647', 'bigg_ann': ['SALCpts', 'SALCptspp'], 'in_modelseed': ['SALCpts'], 'both': {'SALCpts', 'SALCptspp'}}, 'rxn01297': {'reac_id': 'HXAND', 'seed_id': 'rxn01297', 'bigg_ann': 'HXAND', 'in_modelseed': ['HXAND', 'XANDa'], 'both': {'XANDa', 'HXAND'}}, 'rxn01682': {'reac_id': 'RXN0-2381_c0', 'seed_id': 'rxn01682', 'bigg_ann': ['G3PL', 'TRPS3'], 'in_modelseed': ['TRPS3r'], 'both': {'G3PL', 'TRPS3', 'TRPS3r'}}, 'rxn08796': {'reac_id': 'MNXR135842_c0', 'seed_id': 'rxn08796', 'bigg_ann': 'MISSING', 'in_modelseed': ['LPLIPAL1A120pp'], 'both': {'LPLIPAL1A120pp'}}, 'rxn03181': {'reac_id': 'TDSK', 'seed_id': 'rxn03181', 'bigg_ann': 'TDSK', 'in_modelseed': ['TDSK'], 'both': {'TDSK'}}, 'rxn02331': {'reac_id': 'KDOPS', 'seed_id': 'rxn02331', 'bigg_ann': 'KDOPS', 'in_modelseed': ['KDOPS'], 'both': {'KDOPS'}}, 'rxn06493': {'reac_id': 'MNXR100069_c0', 'seed_id': 'rxn06493', 'bigg_ann': ['GCCc', 'GCCcm'], 'in_modelseed': ['GCCc'], 'both': {'GCCcm', 'GCCc'}}, 'rxn00337': {'reac_id': 'ASPARTATEKIN-RXN_c0', 'seed_id': 'rxn00337', 'bigg_ann': ['ASPK', 'ASPK_1'], 'in_modelseed': ['ASPK', 'ASPKi', 'HOM3'], 'both': {'HOM3', 'ASPKi', 'ASPK', 'ASPK_1'}}, 'rxn01231': {'reac_id': 'CYSTAUR-RXN_c0', 'seed_id': 'rxn01231', 'bigg_ann': ['LCYSTCBOXL', 'SALADC2'], 'in_modelseed': ['SALADC2'], 'both': {'LCYSTCBOXL', 'SALADC2'}}, 'rxn05221': {'reac_id': 'TRANS-RXN-118_c0', 'seed_id': 'rxn05221', 'bigg_ann': ['PRONA1tm', 'PROt4', 'PROt4pp'], 'in_modelseed': ['PROt4', 'PROt4r'], 'both': {'PROt4r', 'PROt4pp', 'PROt4', 'PRONA1tm'}}, 'rxn08308': {'reac_id': 'DASYN141', 'seed_id': 'rxn08308', 'bigg_ann': 'DASYN141', 'in_modelseed': ['DASYN141'], 'both': {'DASYN141'}}, 'rxn00208': {'reac_id': 'PYAM5PO', 'seed_id': 'rxn00208', 'bigg_ann': 'MISSING', 'in_modelseed': ['PDX3_1', 'PDX3_5'], 'both': {'PDX3_5', 'PDX3_1'}}, 'rxn08823': {'reac_id': 'MNXR135865_c0', 'seed_id': 'rxn08823', 'bigg_ann': 'MISSING', 'in_modelseed': ['LPLIPAL2A181'], 'both': {'LPLIPAL2A181'}}, 'rxn02552': {'reac_id': 'ALLK', 'seed_id': 'rxn02552', 'bigg_ann': 'ALLK', 'in_modelseed': ['ALLK'], 'both': {'ALLK'}}, 'rxn00140': {'reac_id': 'RXN0-5038_c0', 'seed_id': 'rxn00140', 'bigg_ann': ['APNn', 'PDE1', 'PDE1g'], 'in_modelseed': ['PDE1', 'PDE2_1'], 'both': {'APNn', 'PDE1', 'PDE2_1', 'PDE1g'}}, 'rxn05346': {'reac_id': 'RXN-9516_c0', 'seed_id': 'rxn05346', 'bigg_ann': 'MISSING', 'in_modelseed': ['3OAS60', 'FAS2_2_1', 'MCMAT2'], 'both': {'FAS2_2_1', 'MCMAT2', '3OAS60'}}, 'rxn00867': {'reac_id': 'HISTIDINE-AMMONIA-LYASE-RXN_c0', 'seed_id': 'rxn00867', 'bigg_ann': ['HISDr', 'HISNH4L'], 'in_modelseed': ['HISD', 'HISD1r'], 'both': {'HISDr', 'HISNH4L', 'HISD', 'HISD1r'}}, 'rxn00452': {'reac_id': 'HCYSMT', 'seed_id': 'rxn00452', 'bigg_ann': 'HCYSMT', 'in_modelseed': ['HCYSMT', 'MHT1', 'SAM4'], 'both': {'SAM4', 'MHT1', 'HCYSMT'}}, 'rxn03248': {'reac_id': 'RXN-14277_c0', 'seed_id': 'rxn03248', 'bigg_ann': 'MISSING', 'in_modelseed': ['ACACT3r', 'KAT3'], 'both': {'ACACT3r', 'KAT3'}}, 'rxn08127': {'reac_id': 'AMALT2', 'seed_id': 'rxn08127', 'bigg_ann': 'AMALT2', 'in_modelseed': ['AMALT2'], 'both': {'AMALT2'}}, 'rxn05516': {'reac_id': 'MNXR134966_c0', 'seed_id': 'rxn05516', 'bigg_ann': 'MISSING', 'in_modelseed': ['CD2abc1'], 'both': {'CD2abc1'}}, 'rxn05733': {'reac_id': 'MNXR95636_c0', 'seed_id': 'rxn05733', 'bigg_ann': ['AHSERL4', 'CYSS_trdrd'], 'in_modelseed': ['AHSERL4'], 'both': {'CYSS_trdrd', 'AHSERL4'}}, 'rxn00416': {'reac_id': 'ASNS1', 'seed_id': 'rxn00416', 'bigg_ann': 'ASNS1', 'in_modelseed': ['ASN1', 'ASN2', 'ASNS1'], 'both': {'ASNS1', 'ASN2', 'ASN1'}}, 'rxn02270': {'reac_id': 'MNXR95306_c0', 'seed_id': 'rxn02270', 'bigg_ann': ['ACOAD10m', 'ACOADH1'], 'in_modelseed': ['2MBCOAD', 'ACOAD10', 'ACOADH1'], 'both': {'2MBCOAD', 'ACOADH1', 'ACOAD10m', 'ACOAD10'}}, 'rxn09206': {'reac_id': 'MNXR135986_c0', 'seed_id': 'rxn09206', 'bigg_ann': 'MISSING', 'in_modelseed': ['PSSA140'], 'both': {'PSSA140'}}, 'rxn10147': {'reac_id': 'MNXR135737_c0', 'seed_id': 'rxn10147', 'bigg_ann': 'MISSING', 'in_modelseed': ['CBL1abc'], 'both': {'CBL1abc'}}, 'rxn09209': {'reac_id': 'MNXR135988_c0', 'seed_id': 'rxn09209', 'bigg_ann': 'MISSING', 'in_modelseed': ['PSSA161'], 'both': {'PSSA161'}}, 'rxn12512': {'reac_id': 'RXN66-555_c0', 'seed_id': 'rxn12512', 'bigg_ann': 'PPNCL3', 'in_modelseed': ['PPNCL3'], 'both': {'PPNCL3'}}, 'rxn08669': {'reac_id': 'RXN-14073_c0', 'seed_id': 'rxn08669', 'bigg_ann': ['GPDDA4', 'GPDDA4pp'], 'in_modelseed': ['GPDDA4'], 'both': {'GPDDA4', 'GPDDA4pp'}}, 'rxn00902': {'reac_id': '2-ISOPROPYLMALATESYN-RXN_c0', 'seed_id': 'rxn00902', 'bigg_ann': ['IPPS', 'IPPSh', 'IPPSm'], 'in_modelseed': ['IPPS'], 'both': {'IPPSm', 'IPPSh', 'IPPS'}}, 'rxn06672': {'reac_id': 'MNXR96330_c0', 'seed_id': 'rxn06672', 'bigg_ann': 'BTNC', 'in_modelseed': ['BTNC'], 'both': {'BTNC'}}, 'rxn00649': {'reac_id': 'ACSERLY-RXN_c0', 'seed_id': 'rxn00649', 'bigg_ann': ['CYSS', 'CYSS_1', 'CYSS_2'], 'in_modelseed': ['CYSS', 'CYSSr', 'YGR012W'], 'both': {'CYSSr', 'CYSS', 'YGR012W', 'CYSS_1', 'CYSS_2'}}, 'rxn01739': {'reac_id': 'SHIKIMATE-KINASE-RXN_c0', 'seed_id': 'rxn01739', 'bigg_ann': ['SHKK', 'SKK'], 'in_modelseed': ['ARO1_4', 'SHKK'], 'both': {'ARO1_4', 'SKK', 'SHKK'}}, 'rxn01268': {'reac_id': 'PREPHENATEDEHYDROG-RXN_c0', 'seed_id': 'rxn01268', 'bigg_ann': ['PPND', 'PPOR_1'], 'in_modelseed': ['PPND', 'U52'], 'both': {'U52', 'PPND', 'PPOR_1'}}, 'rxn00361': {'reac_id': 'ADENYLYLSULFKIN-RXN_c0', 'seed_id': 'rxn00361', 'bigg_ann': ['AASPh', 'AASPm', 'ADSK', 'ADSKn'], 'in_modelseed': ['ADSK', 'ADSKr', 'MET14'], 'both': {'ADSKr', 'AASPh', 'ADSKn', 'MET14', 'AASPm', 'ADSK'}}, 'rxn01974': {'reac_id': 'DAPE', 'seed_id': 'rxn01974', 'bigg_ann': 'DAPE', 'in_modelseed': ['DAPE'], 'both': {'DAPE'}}, 'rxn00242': {'reac_id': 'PPGPPDP', 'seed_id': 'rxn00242', 'bigg_ann': 'PPGPPDP', 'in_modelseed': ['G35DP', 'GDPDP3PH', 'PPGPP', 'PPGPPDP'], 'both': {'G35DP', 'PPGPP', 'GDPDP3PH', 'PPGPPDP'}}, 'rxn12641': {'reac_id': 'RXN0-6977_c0', 'seed_id': 'rxn12641', 'bigg_ann': 'MISSING', 'in_modelseed': ['MEAMP1(ala-gly)'], 'both': {'MEAMP1(ala-gly)'}}, 'rxn00568': {'reac_id': 'NTRIR2x', 'seed_id': 'rxn00568', 'bigg_ann': 'NTRIR2x', 'in_modelseed': ['NTRIR2x'], 'both': {'NTRIR2x'}}, 'rxn08971': {'reac_id': 'NADH10', 'seed_id': 'rxn08971', 'bigg_ann': 'NADH10', 'in_modelseed': ['NADH10'], 'both': {'NADH10'}}, 'rxn05316': {'reac_id': 'TRANS-RXN-108G_c0', 'seed_id': 'rxn05316', 'bigg_ann': ['INSt2', 'INSt2pp'], 'in_modelseed': ['INSt2', 'INSt2r', 'U177', 'U194'], 'both': {'INSt2', 'INSt2pp', 'U177', 'U194', 'INSt2r'}}, 'rxn04384': {'reac_id': 'RXN-6261_c0', 'seed_id': 'rxn04384', 'bigg_ann': 'ADCPS2', 'in_modelseed': ['ADCOBAPS', 'ADCPS2'], 'both': {'ADCOBAPS', 'ADCPS2'}}, 'rxn03887': {'reac_id': 'GALACTARDEHYDRA-RXN_c0', 'seed_id': 'rxn03887', 'bigg_ann': ['GALCTD', 'GALCTD_1'], 'in_modelseed': ['GALCTD'], 'both': {'GALCTD_1', 'GALCTD'}}, 'rxn00060': {'reac_id': 'OHMETHYLBILANESYN-RXN_c0', 'seed_id': 'rxn00060', 'bigg_ann': ['HMBS', 'PPBNGD'], 'in_modelseed': ['HEM3'], 'both': {'PPBNGD', 'HMBS', 'HEM3'}}, 'rxn00225': {'reac_id': 'ACETATEKIN-RXN_c0', 'seed_id': 'rxn00225', 'bigg_ann': ['ACKr', 'ACKrh', 'ACKrm'], 'in_modelseed': ['ACKr'], 'both': {'ACKr', 'ACKrm', 'ACKrh'}}, 'rxn05350': {'reac_id': 'RXN-9523_c0', 'seed_id': 'rxn05350', 'bigg_ann': 'MISSING', 'in_modelseed': ['3OAS80', 'FAS2_3_1', 'MCMAT3'], 'both': {'MCMAT3', '3OAS80', 'FAS2_3_1'}}, 'rxn09198': {'reac_id': 'MNXR135981_c0', 'seed_id': 'rxn09198', 'bigg_ann': 'MISSING', 'in_modelseed': ['PSD140'], 'both': {'PSD140'}}, 'rxn08838': {'reac_id': 'MNXR135880_c0', 'seed_id': 'rxn08838', 'bigg_ann': 'MISSING', 'in_modelseed': ['LPLIPAL2E120'], 'both': {'LPLIPAL2E120'}}, 'rxn00148': {'reac_id': 'PEPDEPHOS-RXN_c0', 'seed_id': 'rxn00148', 'bigg_ann': ['PYK', 'PYKf', 'PYKm'], 'in_modelseed': ['CDC19', 'PYK', 'PYK2'], 'both': {'PYKm', 'PYK2', 'PYK', 'CDC19', 'PYKf'}}, 'rxn01102': {'reac_id': 'GLY3KIN-RXN_c0', 'seed_id': 'rxn01102', 'bigg_ann': ['GLYCK', 'GLYPT', 'r0340'], 'in_modelseed': ['GLYCK'], 'both': {'GLYPT', 'r0340', 'GLYCK'}}, 'rxn05569': {'reac_id': 'MNXR100034_c0', 'seed_id': 'rxn05569', 'bigg_ann': ['GAMpts', 'GAMptspp'], 'in_modelseed': ['GAMpts'], 'both': {'GAMpts', 'GAMptspp'}}, 'rxn00100': {'reac_id': 'DEPHOSPHOCOAKIN-RXN_c0', 'seed_id': 'rxn00100', 'bigg_ann': ['DPCOAK', 'DPCOAKm'], 'in_modelseed': ['DPCOAK', 'U96'], 'both': {'U96', 'DPCOAKm', 'DPCOAK'}}, 'rxn02842': {'reac_id': 'KDUD-RXN_c0', 'seed_id': 'rxn02842', 'bigg_ann': 'DGC3D', 'in_modelseed': ['2DGLCNDH', 'DGC3D'], 'both': {'2DGLCNDH', 'DGC3D'}}, 'rxn00789': {'reac_id': 'ATPPRT', 'seed_id': 'rxn00789', 'bigg_ann': 'ATPPRT', 'in_modelseed': ['ATPPRT', 'ATPPRTr', 'HIS1'], 'both': {'HIS1', 'ATPPRT', 'ATPPRTr'}}, 'rxn02374': {'reac_id': 'SPONTPRO-RXN_c0', 'seed_id': 'rxn02374', 'bigg_ann': ['G5SADrm', 'G5SADs'], 'in_modelseed': ['G5SADr', 'G5SADs', 'G5SADsi'], 'both': {'G5SADr', 'G5SADrm', 'G5SADsi', 'G5SADs'}}, 'rxn05560': {'reac_id': 'MNXR99661_c0', 'seed_id': 'rxn05560', 'bigg_ann': ['FRUpts', 'FRUptspp'], 'in_modelseed': ['FRUpts'], 'both': {'FRUpts', 'FRUptspp'}}, 'rxn08976': {'reac_id': 'MNXR135898_c0', 'seed_id': 'rxn08976', 'bigg_ann': 'MISSING', 'in_modelseed': ['NADH9'], 'both': {'NADH9'}}, 'rxn00781': {'reac_id': 'GAPOXNPHOSPHN-RXN_c0', 'seed_id': 'rxn00781', 'bigg_ann': ['GAPD', 'GAPDHf', 'GAPDHh', 'GAPDHi', 'GAPDHm'], 'in_modelseed': ['GAPD', 'GAPD_NAD'], 'both': {'GAPDHh', 'GAPDHf', 'GAPD_NAD', 'GAPD', 'GAPDHm', 'GAPDHi'}}, 'rxn09264': {'reac_id': 'SPMDAT1', 'seed_id': 'rxn09264', 'bigg_ann': 'SPMDAT1', 'in_modelseed': ['SPMDAT1', 'U61'], 'both': {'U61', 'SPMDAT1'}}, 'rxn05319': {'reac_id': 'TRANS-RXN-145_c0', 'seed_id': 'rxn05319', 'bigg_ann': ['EX_h2o_e', 'EX_oh1_e', 'H2Ot', 'H2Oter', 'H2Otex', 'H2Otf', 'H2Otg', 'H2Oth', 'H2Othu', 'H2Otly', 'H2Otm', 'H2Otn', 'H2Otn_1', 'H2Otp', 'H2Otpp', 'H2Ots', 'H2Otu_syn', 'H2Otv'], 'in_modelseed': ['H2Ot', 'H2Ot5'], 'both': {'H2Ot', 'H2Otg', 'H2Otex', 'H2Otf', 'H2Otv', 'H2Othu', 'H2Otn', 'H2Otp', 'H2Otn_1', 'H2Ots', 'H2Otly', 'H2Oth', 'H2Oter', 'H2Otm', 'EX_h2o_e', 'H2Otpp', 'H2Ot5', 'H2Otu_syn', 'EX_oh1_e'}}, 'rxn00881': {'reac_id': 'MI1PP', 'seed_id': 'rxn00881', 'bigg_ann': 'MI1PP', 'in_modelseed': ['MI1PP'], 'both': {'MI1PP'}}, 'rxn05298': {'reac_id': 'MNXR100285_c0', 'seed_id': 'rxn05298', 'bigg_ann': ['GLUNA1th', 'GLUNA1tm', 'GLUt4', 'GLUt4pp'], 'in_modelseed': ['GLUt4', 'GLUt4i'], 'both': {'GLUNA1th', 'GLUNA1tm', 'GLUt4', 'GLUt4pp', 'GLUt4i'}}, 'rxn10157': {'reac_id': 'TRANS-RXN-300_c0', 'seed_id': 'rxn10157', 'bigg_ann': ['SUCCt2_3', 'SUCCt2_3pp'], 'in_modelseed': ['SUCCt2_3'], 'both': {'SUCCt2_3', 'SUCCt2_3pp'}}, 'rxn09265': {'reac_id': 'SPMDAT2', 'seed_id': 'rxn09265', 'bigg_ann': 'SPMDAT2', 'in_modelseed': ['SPMDAT2'], 'both': {'SPMDAT2'}}, 'rxn08336': {'reac_id': 'DHORD5', 'seed_id': 'rxn08336', 'bigg_ann': 'DHORD5', 'in_modelseed': ['DHORD5'], 'both': {'DHORD5'}}, 'rxn05293': {'reac_id': 'MNXR101448_c0', 'seed_id': 'rxn05293', 'bigg_ann': 'MECDPDH2', 'in_modelseed': ['MECDPDH2'], 'both': {'MECDPDH2'}}, 'rxn02264': {'reac_id': 'UROGENIIISYN-RXN_c0', 'seed_id': 'rxn02264', 'bigg_ann': ['UPP3S', 'UPP3S_1'], 'in_modelseed': ['HEM4', 'UPP3S'], 'both': {'HEM4', 'UPP3S_1', 'UPP3S'}}, 'rxn05198': {'reac_id': 'TRANS-RXN-108B_c0', 'seed_id': 'rxn05198', 'bigg_ann': ['CYTDt2', 'CYTDt2pp'], 'in_modelseed': ['CYTDt2', 'CYTDt2r', 'U176', 'U186', 'U193'], 'both': {'U176', 'CYTDt2', 'CYTDt2r', 'CYTDt2pp', 'U193', 'U186'}}, 'rxn09202': {'reac_id': 'PSD180', 'seed_id': 'rxn09202', 'bigg_ann': 'PSD180', 'in_modelseed': ['PSD180'], 'both': {'PSD180'}}, 'rxn01451': {'reac_id': 'RXN-11662_c0', 'seed_id': 'rxn01451', 'bigg_ann': ['HACD1', 'HACD1_1', 'HACD1_2', 'HACD1i', 'HACD1m', 'HACD1x', 'HBCOm'], 'in_modelseed': ['HACD1', 'HACD1i'], 'both': {'HACD1i', 'HACD1x', 'HACD1_1', 'HACD1_2', 'HACD1m', 'HACD1', 'HBCOm'}}, 'rxn03903': {'reac_id': 'MNXR132731_c0', 'seed_id': 'rxn03903', 'bigg_ann': 'MISSING', 'in_modelseed': ['PAPPT2'], 'both': {'PAPPT2'}}, 'rxn00097': {'reac_id': 'ADENYL-KIN-RXN_c0', 'seed_id': 'rxn00097', 'bigg_ann': ['ADK1', 'ADK1m', 'ATAMh'], 'in_modelseed': ['ADK1', 'ADK1_1'], 'both': {'ATAMh', 'ADK1', 'ADK1m', 'ADK1_1'}}, 'rxn01217': {'reac_id': 'DCMP-DEAMINASE-RXN_c0', 'seed_id': 'rxn01217', 'bigg_ann': 'MISSING', 'in_modelseed': ['DCD1_1', 'DCMPDA2ir'], 'both': {'DCD1_1', 'DCMPDA2ir'}}, 'rxn02212': {'reac_id': '3-DEHYDROQUINATE-SYNTHASE-RXN_c0', 'seed_id': 'rxn02212', 'bigg_ann': ['DHQS', 'DHQS_1'], 'in_modelseed': ['ARO1_1', 'DHQS'], 'both': {'DHQS_1', 'DHQS', 'ARO1_1'}}, 'rxn00695': {'reac_id': 'GLUC1PADENYLTRANS-RXN_c0', 'seed_id': 'rxn00695', 'bigg_ann': ['GLGC', 'GLPThi'], 'in_modelseed': ['GLGC', 'GLGCr'], 'both': {'GLGC', 'GLGCr', 'GLPThi'}}, 'rxn05116': {'reac_id': 'RXN-8447_c0', 'seed_id': 'rxn05116', 'bigg_ann': 'MISSING', 'in_modelseed': ['SPONT1'], 'both': {'SPONT1'}}, 'rxn05324': {'reac_id': 'RXN-9661_c0', 'seed_id': 'rxn05324', 'bigg_ann': 'MISSING', 'in_modelseed': ['DDMAT5', 'EAR120x'], 'both': {'EAR120x', 'DDMAT5'}}, 'rxn10481': {'reac_id': 'MNXR96952_c0', 'seed_id': 'rxn10481', 'bigg_ann': ['CUabcpp', 'Cuabc'], 'in_modelseed': ['Cuabc'], 'both': {'Cuabc', 'CUabcpp'}}, 'rxn03535': {'reac_id': 'MNXR134526_c0', 'seed_id': 'rxn03535', 'bigg_ann': 'MISSING', 'in_modelseed': ['CYRDAAT'], 'both': {'CYRDAAT'}}, 'rxn00692': {'reac_id': 'MNXR100142_c0', 'seed_id': 'rxn00692', 'bigg_ann': ['GHMT', 'GHMT2r', 'GHMT2rm'], 'in_modelseed': ['GHMT', 'GHMT2', 'GHMT2r', 'SHM2'], 'both': {'GHMT', 'GHMT2', 'SHM2', 'GHMT2rm', 'GHMT2r'}}, 'rxn01492': {'reac_id': 'FRUK', 'seed_id': 'rxn01492', 'bigg_ann': 'MISSING', 'in_modelseed': ['FRUK_r'], 'both': {'FRUK_r'}}, 'rxn02160': {'reac_id': 'HISTIDPHOS-RXN_c0', 'seed_id': 'rxn02160', 'bigg_ann': ['HISTP', 'HP', 'HPh'], 'in_modelseed': ['HIS2', 'HISTP'], 'both': {'HIS2', 'HPh', 'HP', 'HISTP'}}, 'rxn08802': {'reac_id': 'MNXR135846_c0', 'seed_id': 'rxn08802', 'bigg_ann': 'MISSING', 'in_modelseed': ['LPLIPAL1A181pp'], 'both': {'LPLIPAL1A181pp'}}, 'rxn01825': {'reac_id': 'HOMOGENTISATE-12-DIOXYGENASE-RXN_c0', 'seed_id': 'rxn01825', 'bigg_ann': 'HGNTOR', 'in_modelseed': ['HGENDO', 'HGNTOR', 'U58'], 'both': {'HGENDO', 'HGNTOR', 'U58'}}, 'rxn00913': {'reac_id': 'RXN-7609_c0', 'seed_id': 'rxn00913', 'bigg_ann': ['GMP5N', 'NTD9', 'NTD9e', 'NTD9l', 'NTD9pp'], 'in_modelseed': ['NTD9', 'U31'], 'both': {'NTD9', 'NTD9pp', 'U31', 'NTD9l', 'GMP5N', 'NTD9e'}}, 'rxn01997': {'reac_id': 'TDPGDH', 'seed_id': 'rxn01997', 'bigg_ann': 'TDPGDH', 'in_modelseed': ['TDPGDH'], 'both': {'TDPGDH'}}, 'rxn08521': {'reac_id': 'FLVRx', 'seed_id': 'rxn08521', 'bigg_ann': 'FLVRx', 'in_modelseed': ['FLVR(NAD)', 'FLVRx'], 'both': {'FLVRx', 'FLVR(NAD)'}}, 'rxn08809': {'reac_id': 'MNXR135853_c0', 'seed_id': 'rxn08809', 'bigg_ann': 'MISSING', 'in_modelseed': ['LPLIPAL1E181pp'], 'both': {'LPLIPAL1E181pp'}}, 'rxn00171': {'reac_id': 'ACETALD-DEHYDROG-RXN_c0', 'seed_id': 'rxn00171', 'bigg_ann': ['ACALD', 'ACALDh'], 'in_modelseed': ['ACALD', 'ACALDi'], 'both': {'ACALDi', 'ACALD', 'ACALDh'}}, 'rxn03958': {'reac_id': 'DXPREDISOM-RXN_c0', 'seed_id': 'rxn03958', 'bigg_ann': ['DXPRIi', 'DXRI'], 'in_modelseed': ['DXPRI', 'DXPRIi'], 'both': {'DXPRIi', 'DXPRI', 'DXRI'}}, 'rxn00178': {'reac_id': 'ACETYL-COA-ACETYLTRANSFER-RXN_c0', 'seed_id': 'rxn00178', 'bigg_ann': ['ACACT1', 'ACACT1m', 'ACACT1r', 'ACACT1x', 'KAT1'], 'in_modelseed': ['AACOAT', 'ACACT1', 'ACACT1r', 'ERG10', 'KAT1'], 'both': {'AACOAT', 'ERG10', 'ACACT1x', 'KAT1', 'ACACT1m', 'ACACT1r', 'ACACT1'}}, 'rxn01362': {'reac_id': 'ORPT', 'seed_id': 'rxn01362', 'bigg_ann': 'ORPT', 'in_modelseed': ['ORPT', 'URA10', 'URA5', 'or PT'], 'both': {'ORPT', 'URA5', 'URA10', 'or PT'}}, 'rxn10125': {'reac_id': 'MNXR104805_c0', 'seed_id': 'rxn10125', 'bigg_ann': ['THD2', 'THD2pp'], 'in_modelseed': ['THD2'], 'both': {'THD2pp', 'THD2'}}, 'rxn05161': {'reac_id': 'ABC-35-RXN_c0', 'seed_id': 'rxn05161', 'bigg_ann': ['LEUabc', 'LEUabcpp'], 'in_modelseed': ['LEUabc'], 'both': {'LEUabcpp', 'LEUabc'}}, 'rxn00549': {'reac_id': 'MNXR106670_c0', 'seed_id': 'rxn00549', 'bigg_ann': 'MISSING', 'in_modelseed': ['FBP', 'FBP1'], 'both': {'FBP', 'FBP1'}}, 'rxn03951': {'reac_id': '1.1.1.262-RXN_c0', 'seed_id': 'rxn03951', 'bigg_ann': 'MISSING', 'in_modelseed': ['THPDH'], 'both': {'THPDH'}}, 'rxn02938': {'reac_id': 'AIRCARBOXY-RXN_c0', 'seed_id': 'rxn02938', 'bigg_ann': 'MISSING', 'in_modelseed': ['ADE2', 'AIRCr'], 'both': {'ADE2', 'AIRCr'}}, 'rxn05200': {'reac_id': 'TRANS-RXN-108H_c0', 'seed_id': 'rxn05200', 'bigg_ann': ['THMDt2', 'THMDt2pp'], 'in_modelseed': ['THMDt2', 'THMDt2r', 'U179', 'U187', 'U195'], 'both': {'THMDt2r', 'THMDt2pp', 'U187', 'U195', 'U179', 'THMDt2'}}, 'rxn00506': {'reac_id': 'RXN66-3_c0', 'seed_id': 'rxn00506', 'bigg_ann': ['ALDD2x', 'ALDD2xm'], 'in_modelseed': ['ALD2', 'ALD3', 'ALDD2x', 'ALDD2xr'], 'both': {'ALDD2xm', 'ALDD2xr', 'ALD3', 'ALDD2x', 'ALD2'}}, 'rxn00584': {'reac_id': '1.3.1.25-RXN_c0', 'seed_id': 'rxn00584', 'bigg_ann': 'BZDIOLDH', 'in_modelseed': ['BZDIOLDH'], 'both': {'BZDIOLDH'}}, 'rxn02933': {'reac_id': '1.1.1.178-RXN_c0', 'seed_id': 'rxn02933', 'bigg_ann': ['HACD9', 'HACD9m'], 'in_modelseed': ['3H2MBCOAD', 'HACD8', 'HACD9'], 'both': {'HACD9m', '3H2MBCOAD', 'HACD9', 'HACD8'}}, 'rxn00727': {'reac_id': 'ANTHRANSYN-RXN_c0', 'seed_id': 'rxn00727', 'bigg_ann': ['ANS', 'ATNS'], 'in_modelseed': ['ANS', 'ANS1', 'TRP2_1', 'TRP3_1'], 'both': {'TRP2_1', 'ATNS', 'ANS', 'ANS1', 'TRP3_1'}}, 'rxn05617': {'reac_id': 'MNXR101677_c0', 'seed_id': 'rxn05617', 'bigg_ann': ['MNLpts', 'MNLptspp'], 'in_modelseed': ['MNLpts'], 'both': {'MNLptspp', 'MNLpts'}}, 'rxn12638': {'reac_id': 'MNXR137142_c0', 'seed_id': 'rxn12638', 'bigg_ann': 'MISSING', 'in_modelseed': ['MEAMP1(gly-pro-L)'], 'both': {'MEAMP1(gly-pro-L)'}}, 'rxn05243': {'reac_id': 'MNXR101055_c0', 'seed_id': 'rxn05243', 'bigg_ann': ['LEUt2r', 'LEUt2rpp', 'LEUt7', 'LEUth', 'LEUtm'], 'in_modelseed': ['AGP1_7', 'BAP2_3', 'BAP3_3', 'GAP1_11', 'GNP1_4', 'LEUt2', 'LEUt2r', 'TAT1_2', 'VAP1_4'], 'both': {'BAP2_3', 'GAP1_11', 'LEUt2', 'BAP3_3', 'GNP1_4', 'TAT1_2', 'LEUtm', 'LEUt2rpp', 'VAP1_4', 'AGP1_7', 'LEUt2r', 'LEUth', 'LEUt7'}}, 'rxn05127': {'reac_id': 'GGGABADr', 'seed_id': 'rxn05127', 'bigg_ann': 'GGGABADr', 'in_modelseed': ['GGGABADr', 'GGLUGABDH'], 'both': {'GGGABADr', 'GGLUGABDH'}}, 'rxn09105': {'reac_id': 'MNXR102565_c0', 'seed_id': 'rxn09105', 'bigg_ann': ['PGPP161', 'PGPP161pp'], 'in_modelseed': ['PGPP161pp'], 'both': {'PGPP161pp', 'PGPP161'}}, 'rxn00305': {'reac_id': '4.1.1.32-RXN_c0', 'seed_id': 'rxn00305', 'bigg_ann': ['PEPCK_re', 'PEPCKm'], 'in_modelseed': ['PEPCK_re'], 'both': {'PEPCK_re', 'PEPCKm'}}, 'rxn01445': {'reac_id': 'RXN-14142_c0', 'seed_id': 'rxn01445', 'bigg_ann': ['NTD8', 'NTD8l', 'NTD8pp'], 'in_modelseed': ['NTD8', 'U27'], 'both': {'NTD8l', 'NTD8', 'U27', 'NTD8pp'}}, 'rxn00612': {'reac_id': 'MNXR99877_c0', 'seed_id': 'rxn00612', 'bigg_ann': ['G3PD2', 'G3PD2_1', 'G3PD2_2'], 'in_modelseed': ['G3PD2'], 'both': {'G3PD2_1', 'G3PD2_2', 'G3PD2'}}, 'rxn05539': {'reac_id': 'MNXR96656_c0', 'seed_id': 'rxn05539', 'bigg_ann': ['CGLYabcpp', 'DIPEPabc15'], 'in_modelseed': ['DIPEPabc15'], 'both': {'CGLYabcpp', 'DIPEPabc15'}}, 'rxn08841': {'reac_id': 'LPLIPAL2E160', 'seed_id': 'rxn08841', 'bigg_ann': 'LPLIPAL2E160', 'in_modelseed': ['LPLIPAL2E160'], 'both': {'LPLIPAL2E160'}}, 'rxn01111': {'reac_id': 'PHOSPHORIBULOKINASE-RXN_c0', 'seed_id': 'rxn01111', 'bigg_ann': ['PRUK', 'PRUK_1'], 'in_modelseed': ['PRKIN'], 'both': {'PRUK_1', 'PRKIN', 'PRUK'}}, 'rxn08083': {'reac_id': 'MNXR135724_c0', 'seed_id': 'rxn08083', 'bigg_ann': 'MISSING', 'in_modelseed': ['AGPAT120'], 'both': {'AGPAT120'}}, 'rxn03038': {'reac_id': '1.13.11.16-RXN_c0', 'seed_id': 'rxn03038', 'bigg_ann': ['HPPPNDO', 'HPPPNDO_1'], 'in_modelseed': ['HPPPNDO'], 'both': {'HPPPNDO', 'HPPPNDO_1'}}, 'rxn05466': {'reac_id': 'RXN-9615_c0', 'seed_id': 'rxn05466', 'bigg_ann': ['NH4t', 'NH4tex', 'NH4ti', 'NH4tm', 'NH4tn', 'NH4tp', 'NH4tpp'], 'in_modelseed': ['NH3t', 'NH4t', 'NH4ti'], 'both': {'NH4t', 'NH3t', 'NH4tm', 'NH4tp', 'NH4tpp', 'NH4ti', 'NH4tex', 'NH4tn'}}, 'rxn08814': {'reac_id': 'MNXR135858_c0', 'seed_id': 'rxn08814', 'bigg_ann': 'MISSING', 'in_modelseed': ['LPLIPAL1G161pp'], 'both': {'LPLIPAL1G161pp'}}, 'rxn08845': {'reac_id': 'MNXR135885_c0', 'seed_id': 'rxn08845', 'bigg_ann': 'MISSING', 'in_modelseed': ['LPLIPAL2G120'], 'both': {'LPLIPAL2G120'}}, 'rxn00395': {'reac_id': 'ARGININE-DEIMINASE-RXN_c0', 'seed_id': 'rxn00395', 'bigg_ann': ['ARGDI', 'ARGDr'], 'in_modelseed': ['ARGD', 'ARGDE'], 'both': {'ARGD', 'ARGDE', 'ARGDr', 'ARGDI'}}, 'rxn01292': {'reac_id': 'ARABISOM-RXN_c0', 'seed_id': 'rxn01292', 'bigg_ann': 'MISSING', 'in_modelseed': ['ARAI'], 'both': {'ARAI'}}, 'rxn00375': {'reac_id': 'N-FORMYLGLUTAMATE-DEFORMYLASE-RXN_c0', 'seed_id': 'rxn00375', 'bigg_ann': 'NFORGLUAH', 'in_modelseed': ['NFORGLUAH'], 'both': {'NFORGLUAH'}}, 'rxn00300': {'reac_id': 'GTPCII2', 'seed_id': 'rxn00300', 'bigg_ann': 'GTPCII2', 'in_modelseed': ['GTPCII2', 'RIB1'], 'both': {'RIB1', 'GTPCII2'}}, 'rxn02380': {'reac_id': 'MNXR134357_c0', 'seed_id': 'rxn02380', 'bigg_ann': 'MISSING', 'in_modelseed': ['G6PI2'], 'both': {'G6PI2'}}, 'rxn08792': {'reac_id': 'L_LACD2', 'seed_id': 'rxn08792', 'bigg_ann': 'L_LACD2', 'in_modelseed': ['L-LACD2', 'L_LACD2'], 'both': {'L_LACD2', 'L-LACD2'}}, 'rxn10131': {'reac_id': 'MNXR95946_c0', 'seed_id': 'rxn10131', 'bigg_ann': ['ARGORNt7', 'ARGORNt7pp', 'ORNtm'], 'in_modelseed': ['ARGORNt7'], 'both': {'ORNtm', 'ARGORNt7', 'ARGORNt7pp'}}, 'rxn08799': {'reac_id': 'LPLIPAL1A160pp', 'seed_id': 'rxn08799', 'bigg_ann': 'LPLIPAL1A160pp', 'in_modelseed': ['LPLIPAL1A160pp'], 'both': {'LPLIPAL1A160pp'}}, 'rxn05234': {'reac_id': 'MNXR104073_c0', 'seed_id': 'rxn05234', 'bigg_ann': 'RNTR2', 'in_modelseed': ['RNTR2'], 'both': {'RNTR2'}}, 'rxn00433': {'reac_id': 'SARCOX-RXN_c0', 'seed_id': 'rxn00433', 'bigg_ann': ['SARCOX', 'SARCOXp'], 'in_modelseed': ['SARCO', 'SARCOX'], 'both': {'SARCOXp', 'SARCOX', 'SARCO'}}, 'rxn05957': {'reac_id': 'RXN-9384_c0', 'seed_id': 'rxn05957', 'bigg_ann': ['SHSL2', 'SHSL2h', 'SHSL2r'], 'in_modelseed': ['SHSL2', 'SHSL2r'], 'both': {'SHSL2r', 'SHSL2h', 'SHSL2'}}, 'rxn05335': {'reac_id': 'RXN-9537_c0', 'seed_id': 'rxn05335', 'bigg_ann': ['3HAD140', '3HAD140_1'], 'in_modelseed': ['3HAD140'], 'both': {'3HAD140', '3HAD140_1'}}, 'rxn03023': {'reac_id': 'rxn03023_c0', 'seed_id': 'rxn03023', 'bigg_ann': 'MISSING', 'in_modelseed': ['D5KGK', 'R05661'], 'both': {'D5KGK', 'R05661'}}, 'rxn00537': {'reac_id': 'PHOSPHONOACETALDEHYDE-HYDROLASE-RXN_c0', 'seed_id': 'rxn00537', 'bigg_ann': 'MISSING', 'in_modelseed': ['PALDP', 'PPACAH'], 'both': {'PPACAH', 'PALDP'}}, 'rxn08551': {'reac_id': 'MNXR135829_c0', 'seed_id': 'rxn08551', 'bigg_ann': 'MISSING', 'in_modelseed': ['G3PAT180'], 'both': {'G3PAT180'}}, 'rxn00679': {'reac_id': '2-METHYLCITRATE-SYNTHASE-RXN_c0', 'seed_id': 'rxn00679', 'bigg_ann': ['MCITS', 'MCITSm'], 'in_modelseed': ['MCITS'], 'both': {'MCITSm', 'MCITS'}}, 'rxn00758': {'reac_id': '3.1.4.2-RXN_c0', 'seed_id': 'rxn00758', 'bigg_ann': ['GPDDA1', 'GPDDA1pp'], 'in_modelseed': ['GPDDA1'], 'both': {'GPDDA1', 'GPDDA1pp'}}, 'rxn00272': {'reac_id': 'ALANINE--GLYOXYLATE-AMINOTRANSFERASE-RXN_c0', 'seed_id': 'rxn00272', 'bigg_ann': ['AGTi', 'AGTim', 'AGTix'], 'in_modelseed': ['AGT', 'AGTi', 'YFL030W'], 'both': {'AGTix', 'AGTim', 'YFL030W', 'AGTi', 'AGT'}}, 'rxn05555': {'reac_id': 'MNXR99504_c0', 'seed_id': 'rxn05555', 'bigg_ann': ['FE2abc', 'FE2abcpp'], 'in_modelseed': ['FE2abc'], 'both': {'FE2abc', 'FE2abcpp'}}, 'rxn09111': {'reac_id': 'PGSA160', 'seed_id': 'rxn09111', 'bigg_ann': 'PGSA160', 'in_modelseed': ['PGSA160'], 'both': {'PGSA160'}}, 'rxn01746': {'reac_id': 'ALLANTOICASE-RXN_c0', 'seed_id': 'rxn01746', 'bigg_ann': ['ALLTAHr', 'ATAH'], 'in_modelseed': ['ALLTAH', 'ALLTAHr', 'DAL2'], 'both': {'ALLTAH', 'DAL2', 'ALLTAHr', 'ATAH'}}, 'rxn05607': {'reac_id': 'MNXR101363_c0', 'seed_id': 'rxn05607', 'bigg_ann': ['MALTpts', 'MALTptspp'], 'in_modelseed': ['MALTpts'], 'both': {'MALTpts', 'MALTptspp'}}, 'rxn05348': {'reac_id': 'RXN-9531_c0', 'seed_id': 'rxn05348', 'bigg_ann': 'MISSING', 'in_modelseed': ['3OAS120', 'FAS2_5_1', 'MCMAT5'], 'both': {'3OAS120', 'MCMAT5', 'FAS2_5_1'}}, 'rxn03245': {'reac_id': 'RXN-13616_c0', 'seed_id': 'rxn03245', 'bigg_ann': ['ECOAH4', 'ECOAH4_1', 'ECOAH4m', 'ECOAH4p'], 'in_modelseed': ['ECOAH4'], 'both': {'ECOAH4', 'ECOAH4m', 'ECOAH4p', 'ECOAH4_1'}}, 'rxn01504': {'reac_id': 'METHYLGLUTACONYL-COA-HYDRATASE-RXN_c0', 'seed_id': 'rxn01504', 'bigg_ann': 'MISSING', 'in_modelseed': ['MGCH', 'MGCOAH'], 'both': {'MGCOAH', 'MGCH'}}, 'rxn00907': {'reac_id': 'MNXR101749_c0', 'seed_id': 'rxn00907', 'bigg_ann': ['MTHFD', 'MTHFD_1', 'MTHFDm', 'MTHFDm_1'], 'in_modelseed': ['ADE3_1', 'MTHFD'], 'both': {'MTHFD', 'MTHFDm', 'MTHFD_1', 'MTHFDm_1', 'ADE3_1'}}, 'rxn05458': {'reac_id': 'RXN3O-9780_c0', 'seed_id': 'rxn05458', 'bigg_ann': 'MISSING', 'in_modelseed': ['FAS1_7_c'], 'both': {'FAS1_7_c'}}, 'rxn08300': {'reac_id': 'MNXR135771_c0', 'seed_id': 'rxn08300', 'bigg_ann': 'MISSING', 'in_modelseed': ['DAGK181'], 'both': {'DAGK181'}}, 'rxn08297': {'reac_id': 'MNXR135768_c0', 'seed_id': 'rxn08297', 'bigg_ann': 'MISSING', 'in_modelseed': ['DAGK160'], 'both': {'DAGK160'}}, 'rxn02911': {'reac_id': 'MNXR97890_c0', 'seed_id': 'rxn02911', 'bigg_ann': ['ECOAH5', 'ECOAH5_1', 'ECOAH5_2', 'ECOAH5m', 'ECOAH5p'], 'in_modelseed': ['ECOAH5'], 'both': {'ECOAH5_2', 'ECOAH5_1', 'ECOAH5p', 'ECOAH5m', 'ECOAH5'}}, 'rxn01280': {'reac_id': 'RXN0-5289_c0', 'seed_id': 'rxn01280', 'bigg_ann': ['HOXPRm', 'HOXPRx', 'TRSARr'], 'in_modelseed': ['HOXPRx', 'TRSAR', 'TRSARr'], 'both': {'HOXPRm', 'HOXPRx', 'TRSARr', 'TRSAR'}}, 'rxn05581': {'reac_id': 'TRANS-RXN-131_c0', 'seed_id': 'rxn05581', 'bigg_ann': ['GLYCt', 'GLYCt1', 'GLYCtex', 'GLYCtm', 'GLYCtpp'], 'in_modelseed': ['FPS1', 'GLYCt', 'GLYCt5'], 'both': {'GLYCtm', 'GLYCt1', 'GLYCt', 'FPS1', 'GLYCtex', 'GLYCtpp', 'GLYCt5'}}, 'rxn03610': {'reac_id': 'MNXR100680_c0', 'seed_id': 'rxn03610', 'bigg_ann': 'HOPNTAL2', 'in_modelseed': ['HOPNTAL2'], 'both': {'HOPNTAL2'}}, 'rxn09320': {'reac_id': 'TPRDCOAS', 'seed_id': 'rxn09320', 'bigg_ann': 'TPRDCOAS', 'in_modelseed': ['TPRDCOAS'], 'both': {'TPRDCOAS'}}, 'rxn09114': {'reac_id': 'MNXR135940_c0', 'seed_id': 'rxn09114', 'bigg_ann': 'MISSING', 'in_modelseed': ['PGSA181'], 'both': {'PGSA181'}}, 'rxn05535': {'reac_id': 'MNXR97469_c0', 'seed_id': 'rxn05535', 'bigg_ann': 'DIPEPabc11', 'in_modelseed': ['DIPEPabc11'], 'both': {'DIPEPabc11'}}, 'rxn09188': {'reac_id': 'MNXR103187_c0', 'seed_id': 'rxn09188', 'bigg_ann': ['PROD2', 'PROD2m'], 'in_modelseed': ['PRO1z', 'PROD2'], 'both': {'PROD2', 'PRO1z', 'PROD2m'}}, 'rxn01422': {'reac_id': 'MNXR134296_c0', 'seed_id': 'rxn01422', 'bigg_ann': 'MISSING', 'in_modelseed': ['U56'], 'both': {'U56'}}, 'rxn09180': {'reac_id': 'PPPGO3', 'seed_id': 'rxn09180', 'bigg_ann': 'PPPGO3', 'in_modelseed': ['PPPGO3'], 'both': {'PPPGO3'}}, 'rxn08822': {'reac_id': 'LPLIPAL2A180', 'seed_id': 'rxn08822', 'bigg_ann': 'LPLIPAL2A180', 'in_modelseed': ['LPLIPAL2A180'], 'both': {'LPLIPAL2A180'}}, 'rxn02782': {'reac_id': 'MNXR101764_c0', 'seed_id': 'rxn02782', 'bigg_ann': 'MISSING', 'in_modelseed': ['CATB'], 'both': {'CATB'}}, 'rxn01620': {'reac_id': 'FCLPA', 'seed_id': 'rxn01620', 'bigg_ann': 'FCLPA', 'in_modelseed': ['FCLPA'], 'both': {'FCLPA'}}, 'rxn05345': {'reac_id': 'RXN-9535_c0', 'seed_id': 'rxn05345', 'bigg_ann': 'MISSING', 'in_modelseed': ['3OAS140', 'FAS2_6_1', 'MCMAT6'], 'both': {'FAS2_6_1', '3OAS140', 'MCMAT6'}}, 'rxn01522': {'reac_id': 'RXN0-901_c0', 'seed_id': 'rxn01522', 'bigg_ann': ['XAND', 'XANDp'], 'in_modelseed': ['XAND', 'XANDb'], 'both': {'XAND', 'XANDp', 'XANDb'}}, 'rxn00336': {'reac_id': 'MNXR100789_c0', 'seed_id': 'rxn00336', 'bigg_ann': ['ICL', 'ICL_1'], 'in_modelseed': ['ICL', 'ICL1', 'ICL2'], 'both': {'ICL_1', 'ICL1', 'ICL', 'ICL2'}}, 'rxn03891': {'reac_id': 'MNXR100621_c0', 'seed_id': 'rxn03891', 'bigg_ann': 'HEXTT', 'in_modelseed': ['HEXTT'], 'both': {'HEXTT'}}, 'rxn01465': {'reac_id': 'DIHYDROOROT-RXN_c0', 'seed_id': 'rxn01465', 'bigg_ann': ['DHORTS', 'DHORTSn', 'DHR'], 'in_modelseed': ['DH or TS', 'DHORTS', 'DHORTSn', 'URA4'], 'both': {'DHORTSn', 'DH or TS', 'DHR', 'DHORTS', 'URA4'}}, 'rxn03052': {'reac_id': 'HOMOCYSMET-RXN_c0', 'seed_id': 'rxn03052', 'bigg_ann': ['MHPGLUT', 'MS', 'MTHPTGHMr'], 'in_modelseed': ['MET6', 'MHPGLUT', 'MTHPTGHM', 'MTHPTGHMr'], 'both': {'MHPGLUT', 'MTHPTGHMr', 'MS', 'MTHPTGHM', 'MET6'}}, 'rxn05145': {'reac_id': 'ABC-27-RXN_c0', 'seed_id': 'rxn05145', 'bigg_ann': ['PIabc', 'PIuabcpp'], 'in_modelseed': ['PIabc'], 'both': {'PIabc', 'PIuabcpp'}}, 'rxn01872': {'reac_id': 'MNXR95656_c0', 'seed_id': 'rxn01872', 'bigg_ann': ['AKGDHe2r', 'AKGDb', 'AKGDbm', 'r0556'], 'in_modelseed': ['AKGDbr'], 'both': {'AKGDHe2r', 'AKGDb', 'AKGDbm', 'AKGDbr', 'r0556'}}, 'rxn01301': {'reac_id': 'MNXR100735_c0', 'seed_id': 'rxn01301', 'bigg_ann': ['HSDx', 'HSDxi'], 'in_modelseed': ['HOM6_1', 'HSDx', 'HSDxi'], 'both': {'HOM6_1', 'HSDx', 'HSDxi'}}, 'rxn01643': {'reac_id': 'ASPARTATE-SEMIALDEHYDE-DEHYDROGENASE-RXN_c0', 'seed_id': 'rxn01643', 'bigg_ann': ['ASAD', 'ASADH', 'ASADi'], 'in_modelseed': ['ASAD', 'ASADi', 'HOM2'], 'both': {'HOM2', 'ASADi', 'ASADH', 'ASAD'}}, 'rxn04598': {'reac_id': 'CINNDO', 'seed_id': 'rxn04598', 'bigg_ann': 'CINNDO', 'in_modelseed': ['CINNDO'], 'both': {'CINNDO'}}, 'rxn02449': {'reac_id': 'PPPGPPHYDRO-RXN_c0', 'seed_id': 'rxn02449', 'bigg_ann': ['GDTP', 'GTPDPDP'], 'in_modelseed': ['EPPP2', 'GDPT', 'GTPDPDP'], 'both': {'GDPT', 'EPPP2', 'GDTP', 'GTPDPDP'}}, 'rxn00248': {'reac_id': 'MALATE-DEH-RXN_c0', 'seed_id': 'rxn00248', 'bigg_ann': ['MDH', 'MDHf', 'MDHh', 'MDHi2', 'MDHm', 'MDHm_1', 'MDHp', 'MDHx'], 'in_modelseed': ['MDH', 'MDHi2'], 'both': {'MDHf', 'MDH', 'MDHm_1', 'MDHp', 'MDHh', 'MDHm', 'MDHi2', 'MDHx'}}, 'rxn00295': {'reac_id': 'MNXR105027_c0', 'seed_id': 'rxn00295', 'bigg_ann': 'MISSING', 'in_modelseed': ['UAG4E'], 'both': {'UAG4E'}}, 'rxn00499': {'reac_id': 'L-LACTATE-DEHYDROGENASE-RXN_c0', 'seed_id': 'rxn00499', 'bigg_ann': ['LDH_L', 'LDH_Lm', 'LLDHh', 'r0173'], 'in_modelseed': ['LDH_L'], 'both': {'LLDHh', 'LDH_Lm', 'r0173', 'LDH_L'}}, 'rxn08844': {'reac_id': 'MNXR135884_c0', 'seed_id': 'rxn08844', 'bigg_ann': 'MISSING', 'in_modelseed': ['LPLIPAL2E181'], 'both': {'LPLIPAL2E181'}}, 'rxn00707': {'reac_id': 'MNXR100885_c0', 'seed_id': 'rxn00707', 'bigg_ann': 'MISSING', 'in_modelseed': ['CYTDK3'], 'both': {'CYTDK3'}}, 'rxn00369': {'reac_id': 'CYTDK2', 'seed_id': 'rxn00369', 'bigg_ann': 'CYTDK2', 'in_modelseed': ['CYTDK2', 'URK1_2'], 'both': {'URK1_2', 'CYTDK2'}}, 'rxn06937': {'reac_id': 'MNXR100295_c0', 'seed_id': 'rxn06937', 'bigg_ann': ['GLUTRS', 'GLUTRS_1', 'GLUTRSm'], 'in_modelseed': ['GLUTRS'], 'both': {'GLUTRS', 'GLUTRS_1', 'GLUTRSm'}}, 'rxn01637': {'reac_id': 'ACETYLORNTRANSAM-RXN_c0', 'seed_id': 'rxn01637', 'bigg_ann': ['ACOTA', 'ACOTAim', 'AOTA'], 'in_modelseed': ['ACOTA'], 'both': {'AOTA', 'ACOTAim', 'ACOTA'}}, 'rxn00708': {'reac_id': 'RXN-14025_c0', 'seed_id': 'rxn00708', 'bigg_ann': ['NTD2', 'NTD2e', 'NTD2l', 'NTD2m', 'NTD2pp'], 'in_modelseed': ['NTD2', 'U34'], 'both': {'NTD2', 'NTD2pp', 'NTD2e', 'NTD2m', 'U34', 'NTD2l'}}, 'rxn00289': {'reac_id': 'METHYLISOCITRATE-LYASE-RXN_c0', 'seed_id': 'rxn00289', 'bigg_ann': ['MCITL2', 'MCITL2m'], 'in_modelseed': ['MCITL2', 'MCL', 'MICITL'], 'both': {'MICITL', 'MCITL2', 'MCL', 'MCITL2m'}}, 'rxn01269': {'reac_id': 'PREPHENATE-DEHYDROGENASE-NADP+-RXN_c0', 'seed_id': 'rxn01269', 'bigg_ann': 'PPND2', 'in_modelseed': ['PPND2', 'TYR1'], 'both': {'TYR1', 'PPND2'}}, 'rxn00392': {'reac_id': 'RIBOFLAVINKIN-RXN_c0', 'seed_id': 'rxn00392', 'bigg_ann': ['RBFK', 'RBFKm'], 'in_modelseed': ['FMN1_1', 'RBFK'], 'both': {'RBFK', 'FMN1_1', 'RBFKm'}}, 'rxn00747': {'reac_id': 'TRIOSEPISOMERIZATION-RXN_c0', 'seed_id': 'rxn00747', 'bigg_ann': ['TPI', 'TPIh'], 'in_modelseed': ['TPI'], 'both': {'TPIh', 'TPI'}}, 'rxn01334': {'reac_id': 'SEDOBISALDOL-RXN_c0', 'seed_id': 'rxn01334', 'bigg_ann': ['FBA3', 'FBA3hi'], 'in_modelseed': ['FBA3'], 'both': {'FBA3hi', 'FBA3'}}, 'rxn00830': {'reac_id': 'IPPISOM-RXN_c0', 'seed_id': 'rxn00830', 'bigg_ann': ['IDIh', 'IPDDI', 'IPDDIx'], 'in_modelseed': ['IDI1', 'IPDDI', 'IPDDIi'], 'both': {'IDIh', 'IPDDIi', 'IPDDI', 'IDI1', 'IPDDIx'}}, 'rxn05219': {'reac_id': 'RXN0-4522_c0', 'seed_id': 'rxn05219', 'bigg_ann': ['METabc', 'METabcpp'], 'in_modelseed': ['METabc'], 'both': {'METabc', 'METabcpp'}}, 'rxn10113': {'reac_id': 'MNXR97035_c0', 'seed_id': 'rxn10113', 'bigg_ann': 'CYTBO3', 'in_modelseed': ['CYTBO3', 'CYTBO3pp'], 'both': {'CYTBO3', 'CYTBO3pp'}}, 'rxn00879': {'reac_id': 'MYO-INOSITOL-2-DEHYDROGENASE-RXN_c0', 'seed_id': 'rxn00879', 'bigg_ann': 'INS2D', 'in_modelseed': ['INS2D'], 'both': {'INS2D'}}, 'rxn03406': {'reac_id': 'MNXR100252_c0', 'seed_id': 'rxn03406', 'bigg_ann': 'GLNSP1', 'in_modelseed': ['GLNSP1'], 'both': {'GLNSP1'}}, 'rxn00029': {'reac_id': 'PORPHOBILSYNTH-RXN_c0', 'seed_id': 'rxn00029', 'bigg_ann': ['PPBNGS', 'PPBNGS_1'], 'in_modelseed': ['HEM2', 'PPBNGS'], 'both': {'PPBNGS', 'HEM2', 'PPBNGS_1'}}, 'rxn12646': {'reac_id': 'RXN0-6983_c0', 'seed_id': 'rxn12646', 'bigg_ann': 'MISSING', 'in_modelseed': ['MEAMP1(gly-gln)'], 'both': {'MEAMP1(gly-gln)'}}, 'rxn06777': {'reac_id': 'RXN-12507_c0', 'seed_id': 'rxn06777', 'bigg_ann': ['HACD6', 'HACD6_1', 'HACD6i', 'HACD6m', 'HACD6p'], 'in_modelseed': ['HACD6', 'HACD6i'], 'both': {'HACD6m', 'HACD6_1', 'HACD6i', 'HACD6p', 'HACD6'}}, 'rxn05256': {'reac_id': 'RXN-12019_c0', 'seed_id': 'rxn05256', 'bigg_ann': 'APSR', 'in_modelseed': ['APSPTi', 'APSR'], 'both': {'APSPTi', 'APSR'}}, 'rxn02175': {'reac_id': 'PANTEPADENYLYLTRAN-RXN_c0', 'seed_id': 'rxn02175', 'bigg_ann': ['APPAT', 'PTPATe', 'PTPATi', 'PTPATim'], 'in_modelseed': ['PTPAT', 'PTPATi', 'U94'], 'both': {'PTPATi', 'APPAT', 'PTPATim', 'U94', 'PTPATe', 'PTPAT'}}, 'rxn05317': {'reac_id': 'TRANS-RXN-108C_c0', 'seed_id': 'rxn05317', 'bigg_ann': ['DADNt2', 'DADNt2pp'], 'in_modelseed': ['DADNt2', 'U182', 'U188', 'U198'], 'both': {'U198', 'DADNt2pp', 'U182', 'DADNt2', 'U188'}}, 'rxn02835': {'reac_id': 'HISTCYCLOHYD-RXN_c0', 'seed_id': 'rxn02835', 'bigg_ann': ['PRACHh', 'PRAMPC', 'PRAMPC_1'], 'in_modelseed': ['HIS4_2', 'PRAMPC'], 'both': {'PRAMPC', 'PRACHh', 'HIS4_2', 'PRAMPC_1'}}, 'rxn03884': {'reac_id': 'EDA', 'seed_id': 'rxn03884', 'bigg_ann': 'EDA', 'in_modelseed': ['EDA'], 'both': {'EDA'}}, 'rxn01675': {'reac_id': 'G1PTT', 'seed_id': 'rxn01675', 'bigg_ann': 'G1PTT', 'in_modelseed': ['G1PTMT', 'G1PTT'], 'both': {'G1PTT', 'G1PTMT'}}, 'rxn00324': {'reac_id': 'GLYOXYLATE-REDUCTASE-NADP+-RXN_c0', 'seed_id': 'rxn00324', 'bigg_ann': ['GLYCLTDy', 'GLYCLTDym'], 'in_modelseed': ['GLYCLTDy', 'GLYCLTDyr'], 'both': {'GLYCLTDy', 'GLYCLTDyr', 'GLYCLTDym'}}, 'rxn08839': {'reac_id': 'MNXR135881_c0', 'seed_id': 'rxn08839', 'bigg_ann': 'MISSING', 'in_modelseed': ['LPLIPAL2E140'], 'both': {'LPLIPAL2E140'}}, 'rxn03536': {'reac_id': 'ADOCBIK', 'seed_id': 'rxn03536', 'bigg_ann': 'ADOCBIK', 'in_modelseed': ['ADCOBAK', 'ADOCBIK'], 'both': {'ADCOBAK', 'ADOCBIK'}}, 'rxn01575': {'reac_id': 'BRANCHED-CHAINAMINOTRANSFERILEU-RXN_c0', 'seed_id': 'rxn01575', 'bigg_ann': ['BCTA', 'BCTAh', 'ILETA', 'ILETAm'], 'in_modelseed': ['BAT2_1', 'ILETA'], 'both': {'BCTAh', 'BAT2_1', 'ILETAm', 'ILETA', 'BCTA'}}, 'rxn01454': {'reac_id': 'HYDROXYMETHYLGLUTARYL-COA-SYNTHASE-RXN_c0', 'seed_id': 'rxn01454', 'bigg_ann': 'MISSING', 'in_modelseed': ['HMGCOAS', 'HMGCOASi', 'HMGS'], 'both': {'HMGCOASi', 'HMGCOAS', 'HMGS'}}, 'rxn05150': {'reac_id': 'ABC-63-RXN_c0', 'seed_id': 'rxn05150', 'bigg_ann': ['ZNabc', 'ZNabcpp'], 'in_modelseed': ['ZN2abc2', 'ZNabc'], 'both': {'ZNabcpp', 'ZN2abc2', 'ZNabc'}}, 'rxn00656': {'reac_id': '2.6.1.18-RXN_c0', 'seed_id': 'rxn00656', 'bigg_ann': 'APATr', 'in_modelseed': ['APATr', 'BALAAT'], 'both': {'BALAAT', 'APATr'}}, 'rxn02009': {'reac_id': 'MNXR105014_c0', 'seed_id': 'rxn02009', 'bigg_ann': 'UAAGLS1', 'in_modelseed': ['UAAGLS1', 'UAAGLS2'], 'both': {'UAAGLS2', 'UAAGLS1'}}, 'rxn01315': {'reac_id': 'MNXR107174_c0', 'seed_id': 'rxn01315', 'bigg_ann': 'MISSING', 'in_modelseed': ['PHE4MO', 'PHETHPTOX'], 'both': {'PHE4MO', 'PHETHPTOX'}}, 'rxn01868': {'reac_id': 'BETALDHy', 'seed_id': 'rxn01868', 'bigg_ann': 'BETALDHy', 'in_modelseed': ['BETALDHy'], 'both': {'BETALDHy'}}, 'rxn03240': {'reac_id': 'RXN-14272_c0', 'seed_id': 'rxn03240', 'bigg_ann': ['ECOAH7', 'ECOAH7_1', 'ECOAH7m', 'ECOAH7p'], 'in_modelseed': ['ECOAH7'], 'both': {'ECOAH7p', 'ECOAH7_1', 'ECOAH7', 'ECOAH7m'}}, 'rxn09562': {'reac_id': 'MNXR100145_c0', 'seed_id': 'rxn09562', 'bigg_ann': 'GK2', 'in_modelseed': ['GK2', 'GUK1_3'], 'both': {'GK2', 'GUK1_3'}}, 'rxn00555': {'reac_id': 'MNXR106675_c0', 'seed_id': 'rxn00555', 'bigg_ann': 'MISSING', 'in_modelseed': ['GF6PTA', 'GF6PTAr', 'GFA1'], 'both': {'GF6PTAr', 'GF6PTA', 'GFA1'}}, 'rxn03080': {'reac_id': 'MNXR97501_c0', 'seed_id': 'rxn03080', 'bigg_ann': ['DLDLBT', 'RBFSa'], 'in_modelseed': ['RIB5'], 'both': {'RBFSa', 'RIB5', 'DLDLBT'}}, 'rxn01044': {'reac_id': 'XYLI1', 'seed_id': 'rxn01044', 'bigg_ann': 'XYLI1', 'in_modelseed': ['XYLI1'], 'both': {'XYLI1'}}, 'rxn10011': {'reac_id': 'MNXR95310_c0', 'seed_id': 'rxn10011', 'bigg_ann': 'ACOAD3', 'in_modelseed': ['ACOAD3'], 'both': {'ACOAD3'}}, 'rxn00143': {'reac_id': 'AHCYSNS', 'seed_id': 'rxn00143', 'bigg_ann': 'AHCYSNS', 'in_modelseed': ['AHCYSNS'], 'both': {'AHCYSNS'}}, 'rxn12644': {'reac_id': 'MNXR137144_c0', 'seed_id': 'rxn12644', 'bigg_ann': 'MISSING', 'in_modelseed': ['MEAMP1(ala-thr)'], 'both': {'MEAMP1(ala-thr)'}}, 'rxn00147': {'reac_id': 'PPS', 'seed_id': 'rxn00147', 'bigg_ann': 'PPS', 'in_modelseed': ['PPS'], 'both': {'PPS'}}, 'rxn00849': {'reac_id': 'D-ALANINE-AMINOTRANSFERASE-RXN_c0', 'seed_id': 'rxn00849', 'bigg_ann': 'ALATA_D', 'in_modelseed': ['ALATA_D'], 'both': {'ALATA_D'}}, 'rxn00737': {'reac_id': 'THREDEHYD-RXN_c0', 'seed_id': 'rxn00737', 'bigg_ann': ['TAL', 'THRD_L', 'THRD_Lm'], 'in_modelseed': ['CHA1_1'], 'both': {'THRD_L', 'CHA1_1', 'TAL', 'THRD_Lm'}}, 'rxn08843': {'reac_id': 'LPLIPAL2E180', 'seed_id': 'rxn08843', 'bigg_ann': 'LPLIPAL2E180', 'in_modelseed': ['LPLIPAL2E180'], 'both': {'LPLIPAL2E180'}}, 'rxn00213': {'reac_id': 'GALUi', 'seed_id': 'rxn00213', 'bigg_ann': 'GALUi', 'in_modelseed': ['GALU', 'GALUi', 'UGP1', 'YHL012W'], 'both': {'UGP1', 'YHL012W', 'GALUi', 'GALU'}}, 'rxn03040': {'reac_id': 'MNXR95064_c0', 'seed_id': 'rxn03040', 'bigg_ann': ['5CM2HMUDI', 'CMHMI'], 'in_modelseed': ['5CMHMISO', 'R04379'], 'both': {'CMHMI', 'R04379', '5CMHMISO', '5CM2HMUDI'}}, 'rxn05199': {'reac_id': 'TRANS-RXN-108I_c0', 'seed_id': 'rxn05199', 'bigg_ann': ['URIt2', 'URIt2pp'], 'in_modelseed': ['FUI1_1', 'FUI1_2', 'FUI1_3', 'URIt2', 'URIt2r'], 'both': {'FUI1_3', 'URIt2pp', 'URIt2', 'URIt2r', 'FUI1_2', 'FUI1_1'}}, 'rxn10162': {'reac_id': 'MNXR100583_c0', 'seed_id': 'rxn10162', 'bigg_ann': ['HDCAt2', 'HDCAt2pp'], 'in_modelseed': ['HDCAt2'], 'both': {'HDCAt2pp', 'HDCAt2'}}, 'rxn01629': {'reac_id': 'GSAAMINOTRANS-RXN_c0', 'seed_id': 'rxn01629', 'bigg_ann': ['G1SAT', 'G1SAT_1'], 'in_modelseed': ['G1SAT', 'G1SATi'], 'both': {'G1SAT', 'G1SATi', 'G1SAT_1'}}, 'rxn05164': {'reac_id': 'ABC-14-RXN_c0', 'seed_id': 'rxn05164', 'bigg_ann': ['HISabc', 'HISabcpp'], 'in_modelseed': ['HISabc'], 'both': {'HISabc', 'HISabcpp'}}, 'rxn01740': {'reac_id': 'SHIKIMATE-5-DEHYDROGENASE-RXN_c0', 'seed_id': 'rxn01740', 'bigg_ann': ['SHK3Dr', 'SKDH'], 'in_modelseed': ['ARO1_3', 'SHK3D', 'SHK3Dr'], 'both': {'SHK3D', 'SHK3Dr', 'ARO1_3', 'SKDH'}}, 'rxn05533': {'reac_id': 'MNXR97467_c0', 'seed_id': 'rxn05533', 'bigg_ann': 'DIPEPabc1', 'in_modelseed': ['DIPEPabc1'], 'both': {'DIPEPabc1'}}, 'rxn00588': {'reac_id': 'CATECHOL-12-DIOXYGENASE-RXN_c0', 'seed_id': 'rxn00588', 'bigg_ann': 'CATDOX', 'in_modelseed': ['CATA', 'CATDOX'], 'both': {'CATA', 'CATDOX'}}, 'rxn00190': {'reac_id': 'NAD-SYNTH-GLN-RXN_c0', 'seed_id': 'rxn00190', 'bigg_ann': ['DNGALh', 'NADS2'], 'in_modelseed': ['NADS2', 'NADS2i'], 'both': {'NADS2i', 'NADS2', 'DNGALh'}}, 'rxn05327': {'reac_id': 'MNXR109252_c0', 'seed_id': 'rxn05327', 'bigg_ann': 'MISSING', 'in_modelseed': ['DEMAT4', 'EAR100x'], 'both': {'EAR100x', 'DEMAT4'}}, 'rxn05205': {'reac_id': 'TRANS-RXN-108D_c0', 'seed_id': 'rxn05205', 'bigg_ann': ['DCYTt2', 'DCYTt2pp'], 'in_modelseed': ['DCYTt2', 'U183', 'U189', 'U199'], 'both': {'U199', 'U189', 'DCYTt2', 'U183', 'DCYTt2pp'}}, 'rxn01013': {'reac_id': 'RXN0-300_c0', 'seed_id': 'rxn01013', 'bigg_ann': ['GLYCOR_nadp', 'HPYRRy'], 'in_modelseed': ['HPYRRy'], 'both': {'HPYRRy', 'GLYCOR_nadp'}}, 'rxn10123': {'reac_id': 'MNXR101874_c0', 'seed_id': 'rxn10123', 'bigg_ann': 'NADH7', 'in_modelseed': ['NADH7'], 'both': {'NADH7'}}, 'rxn02762': {'reac_id': 'RXN-14112_c0', 'seed_id': 'rxn02762', 'bigg_ann': ['23CN2P3', '23PDE4pp'], 'in_modelseed': ['23CN2P3'], 'both': {'23CN2P3', '23PDE4pp'}}, 'rxn05655': {'reac_id': 'MNXR104643_c0', 'seed_id': 'rxn05655', 'bigg_ann': ['SUCpts', 'SUCptspp'], 'in_modelseed': ['SUCpts'], 'both': {'SUCptspp', 'SUCpts'}}, 'rxn08801': {'reac_id': 'LPLIPAL1A180pp', 'seed_id': 'rxn08801', 'bigg_ann': 'LPLIPAL1A180pp', 'in_modelseed': ['LPLIPAL1A180pp'], 'both': {'LPLIPAL1A180pp'}}, 'rxn02161': {'reac_id': 'RMK', 'seed_id': 'rxn02161', 'bigg_ann': 'RMK', 'in_modelseed': ['RMK'], 'both': {'RMK'}}, 'rxn05244': {'reac_id': 'MNXR100822_c0', 'seed_id': 'rxn05244', 'bigg_ann': ['ILEt2r', 'ILEt2rpp', 'ILEt7', 'ILEth', 'ILEtm'], 'in_modelseed': ['AGP1_6', 'BAP2_2', 'BAP3_2', 'GAP1_10', 'ILEt2', 'ILEt2r', 'TAT1_1', 'VAP1_3'], 'both': {'AGP1_6', 'ILEth', 'GAP1_10', 'TAT1_1', 'ILEtm', 'VAP1_3', 'ILEt7', 'BAP2_2', 'ILEt2rpp', 'BAP3_2', 'ILEt2r', 'ILEt2'}}, 'rxn00503': {'reac_id': 'PYRROLINECARBDEHYDROG-RXN_c0', 'seed_id': 'rxn00503', 'bigg_ann': ['P5CD', 'P5CDm'], 'in_modelseed': ['P5CD'], 'both': {'P5CDm', 'P5CD'}}, 'rxn00251': {'reac_id': 'PPC', 'seed_id': 'rxn00251', 'bigg_ann': 'PPC', 'in_modelseed': ['PPC'], 'both': {'PPC'}}, 'rxn04043': {'reac_id': 'MNXR109849_c0', 'seed_id': 'rxn04043', 'bigg_ann': 'MISSING', 'in_modelseed': ['PFK (adp)'], 'both': {'PFK (adp)'}}, 'rxn10432': {'reac_id': 'RXN-16701_c0', 'seed_id': 'rxn10432', 'bigg_ann': 'AHGDx', 'in_modelseed': ['AHGDx'], 'both': {'AHGDx'}}, 'rxn00139': {'reac_id': 'ADENPRIBOSYLTRAN-RXN_c0', 'seed_id': 'rxn00139', 'bigg_ann': ['ADPT', 'r0051'], 'in_modelseed': ['ADPT', 'APT1', 'APT2'], 'both': {'ADPT', 'r0051', 'APT2', 'APT1'}}, 'rxn00920': {'reac_id': '35-CYCLIC-GMP-PHOSPHODIESTERASE-RXN_c0', 'seed_id': 'rxn00920', 'bigg_ann': ['GCPN', 'GCPNn', 'PDE4', 'PDE4g'], 'in_modelseed': ['PDE2_4', 'PDE4'], 'both': {'PDE4', 'PDE2_4', 'GCPN', 'GCPNn', 'PDE4g'}}, 'rxn00790': {'reac_id': 'PRPPAMIDOTRANS-RXN_c0', 'seed_id': 'rxn00790', 'bigg_ann': ['GLUPRT', 'PRDPARh'], 'in_modelseed': ['ADE4', 'GLUPRT'], 'both': {'ADE4', 'GLUPRT', 'PRDPARh'}}, 'rxn03910': {'reac_id': 'RXN0-302_c0', 'seed_id': 'rxn03910', 'bigg_ann': ['MCS', 'MECDPS'], 'in_modelseed': ['MECDPS'], 'both': {'MCS', 'MECDPS'}}, 'rxn00237': {'reac_id': 'GDPKIN-RXN_c0', 'seed_id': 'rxn00237', 'bigg_ann': ['ATGDm', 'NDPK1', 'NDPK1m', 'NDPK1n'], 'in_modelseed': ['NDPK1', 'YNK1_8'], 'both': {'NDPK1n', 'ATGDm', 'NDPK1m', 'NDPK1', 'YNK1_8'}}, 'rxn00422': {'reac_id': 'SERINE--PYRUVATE-AMINOTRANSFERASE-RXN_c0', 'seed_id': 'rxn00422', 'bigg_ann': ['SPTc', 'SPTix'], 'in_modelseed': ['SPA'], 'both': {'SPA', 'SPTix', 'SPTc'}}, 'rxn03540': {'reac_id': 'MNXR95441_c0', 'seed_id': 'rxn03540', 'bigg_ann': 'ADCYRS', 'in_modelseed': ['ADCOBHEXS', 'ADCYRS'], 'both': {'ADCOBHEXS', 'ADCYRS'}}, 'rxn08086': {'reac_id': 'MNXR135726_c0', 'seed_id': 'rxn08086', 'bigg_ann': 'MISSING', 'in_modelseed': ['AGPAT160'], 'both': {'AGPAT160'}}, 'rxn08311': {'reac_id': 'DASYN180', 'seed_id': 'rxn08311', 'bigg_ann': 'DASYN180', 'in_modelseed': ['DASYN180'], 'both': {'DASYN180'}}, 'rxn03175': {'reac_id': 'PRIBFAICARPISOM-RXN_c0', 'seed_id': 'rxn03175', 'bigg_ann': ['PRICIh', 'PRMICI'], 'in_modelseed': ['PRMICI', 'PRMICIi'], 'both': {'PRMICIi', 'PRICIh', 'PRMICI'}}, 'rxn10124': {'reac_id': 'MNXR136191_c0', 'seed_id': 'rxn10124', 'bigg_ann': 'MISSING', 'in_modelseed': ['NADH8'], 'both': {'NADH8'}}, 'rxn01146': {'reac_id': 'TMDPP', 'seed_id': 'rxn01146', 'bigg_ann': 'TMDPP', 'in_modelseed': ['PNP1_2', 'TMDPP'], 'both': {'PNP1_2', 'TMDPP'}}, 'rxn05336': {'reac_id': 'MNXR94946_c0', 'seed_id': 'rxn05336', 'bigg_ann': ['3OAR160', '3OAR160_1'], 'in_modelseed': ['3OAR160', 'HHDR7'], 'both': {'HHDR7', '3OAR160_1', '3OAR160'}}, 'rxn09210': {'reac_id': 'PSSA180', 'seed_id': 'rxn09210', 'bigg_ann': 'PSSA180', 'in_modelseed': ['PSSA180'], 'both': {'PSSA180'}}, 'rxn01484': {'reac_id': 'AGDC', 'seed_id': 'rxn01484', 'bigg_ann': 'AGDC', 'in_modelseed': ['AGDC', 'AGDC_r'], 'both': {'AGDC_r', 'AGDC'}}, 'rxn02112': {'reac_id': 'MNXR134334_c0', 'seed_id': 'rxn02112', 'bigg_ann': 'MISSING', 'in_modelseed': ['BTDD-RR'], 'both': {'BTDD-RR'}}, 'rxn00162': {'reac_id': 'OAADC', 'seed_id': 'rxn00162', 'bigg_ann': 'OAADC', 'in_modelseed': ['OAADC', 'OXDE'], 'both': {'OAADC', 'OXDE'}}, 'rxn01124': {'reac_id': '1.1.1.127-RXN_c0', 'seed_id': 'rxn01124', 'bigg_ann': 'MISSING', 'in_modelseed': ['DGLCND', 'DKII'], 'both': {'DGLCND', 'DKII'}}, 'rxn00285': {'reac_id': 'SUCCCOASYN-RXN_c0', 'seed_id': 'rxn00285', 'bigg_ann': ['SUCLm', 'SUCOAS', 'SUCOASm'], 'in_modelseed': ['SUCOAS', 'SUCOAS1m'], 'both': {'SUCOAS1m', 'SUCLm', 'SUCOASm', 'SUCOAS'}}, 'rxn04794': {'reac_id': 'KETOBUTFORMLY-RXN_c0', 'seed_id': 'rxn04794', 'bigg_ann': ['OBTFL', 'PCFPTh', 'PCFPTm'], 'in_modelseed': ['OBTFL'], 'both': {'OBTFL', 'PCFPTh', 'PCFPTm'}}, 'rxn00182': {'reac_id': 'GLUTAMATE-DEHYDROGENASE-RXN_c0', 'seed_id': 'rxn00182', 'bigg_ann': ['GDH', 'GDH1', 'GDHm', 'GLUDxi'], 'in_modelseed': ['GDH2'], 'both': {'GDH2', 'GDH1', 'GDHm', 'GDH', 'GLUDxi'}}, 'rxn01416': {'reac_id': 'THIOSULFATE-SULFURTRANSFERASE-RXN_c0', 'seed_id': 'rxn01416', 'bigg_ann': ['CYANST', 'CYANSTm', 'CYANSTpp'], 'in_modelseed': ['THSFST'], 'both': {'CYANSTpp', 'CYANST', 'CYANSTm', 'THSFST'}}, 'rxn05567': {'reac_id': 'MNXR100018_c0', 'seed_id': 'rxn05567', 'bigg_ann': ['GALTpts', 'GALTptspp'], 'in_modelseed': ['GALTpts'], 'both': {'GALTptspp', 'GALTpts'}}, 'rxn05172': {'reac_id': '3.6.3.36-RXN_c0', 'seed_id': 'rxn05172', 'bigg_ann': ['TAURabc', 'TAURabcpp'], 'in_modelseed': ['TAURabc'], 'both': {'TAURabc', 'TAURabcpp'}}, 'rxn01642': {'reac_id': 'IMIDAZOLONEPROPIONASE-RXN_c0', 'seed_id': 'rxn01642', 'bigg_ann': ['IZPN', 'IZPN_1'], 'in_modelseed': ['IZPN'], 'both': {'IZPN_1', 'IZPN'}}, 'rxn00132': {'reac_id': 'AMP-DEPHOSPHORYLATION-RXN_c0', 'seed_id': 'rxn00132', 'bigg_ann': ['NTD7', 'NTD7e', 'NTD7l', 'NTD7pp', 'r0047'], 'in_modelseed': ['NTD7', 'U30'], 'both': {'r0047', 'NTD7e', 'NTD7', 'NTD7l', 'NTD7pp', 'U30'}}, 'rxn01204': {'reac_id': 'GABATRANSAM-RXN_c0', 'seed_id': 'rxn01204', 'bigg_ann': ['ABTA', 'ABTArm'], 'in_modelseed': ['ABTA', 'ABTAr', 'UGA1'], 'both': {'ABTAr', 'UGA1', 'ABTA', 'ABTArm'}}, 'rxn04052': {'reac_id': 'MNXR134595_c0', 'seed_id': 'rxn04052', 'bigg_ann': 'MISSING', 'in_modelseed': ['COPRECI', 'CPC8MM'], 'both': {'COPRECI', 'CPC8MM'}}, 'rxn01479': {'reac_id': '2.7.7.14-RXN_c0', 'seed_id': 'rxn01479', 'bigg_ann': 'PETHCT', 'in_modelseed': ['MUQ1', 'PETHCT'], 'both': {'MUQ1', 'PETHCT'}}, 'rxn08615': {'reac_id': 'MNXR135832_c0', 'seed_id': 'rxn08615', 'bigg_ann': 'MISSING', 'in_modelseed': ['GLCS1'], 'both': {'GLCS1'}}, 'rxn08815': {'reac_id': 'MNXR135859_c0', 'seed_id': 'rxn08815', 'bigg_ann': 'MISSING', 'in_modelseed': ['LPLIPAL1G180pp'], 'both': {'LPLIPAL1G180pp'}}, 'rxn00126': {'reac_id': 'S-ADENMETSYN-RXN_c0', 'seed_id': 'rxn00126', 'bigg_ann': ['MATm', 'METAT'], 'in_modelseed': ['METAT', 'SAM1', 'SAM2'], 'both': {'SAM2', 'MATm', 'SAM1', 'METAT'}}, 'rxn01518': {'reac_id': 'DURIDKI-RXN_c0', 'seed_id': 'rxn01518', 'bigg_ann': ['DURIK1', 'DURIK1m'], 'in_modelseed': ['DURIK1', 'U15'], 'both': {'DURIK1m', 'U15', 'DURIK1'}}, 'rxn01015': {'reac_id': 'RXN0-305_c0', 'seed_id': 'rxn01015', 'bigg_ann': ['HPI', 'HPYRI'], 'in_modelseed': ['HPYRI'], 'both': {'HPI', 'HPYRI'}}, 'rxn01684': {'reac_id': 'MNXR103350_c0', 'seed_id': 'rxn01684', 'bigg_ann': 'PUNP8', 'in_modelseed': ['PUNP8'], 'both': {'PUNP8'}}, 'rxn08798': {'reac_id': 'MNXR135844_c0', 'seed_id': 'rxn08798', 'bigg_ann': 'MISSING', 'in_modelseed': ['LPLIPAL1A141pp'], 'both': {'LPLIPAL1A141pp'}}, 'rxn05175': {'reac_id': 'ABC-24-RXN_c0', 'seed_id': 'rxn05175', 'bigg_ann': ['SPMDabc', 'SPMDabcpp'], 'in_modelseed': ['SPMDabc'], 'both': {'SPMDabc', 'SPMDabcpp'}}, 'rxn05034': {'reac_id': '2.5.1.39-RXN_c0', 'seed_id': 'rxn05034', 'bigg_ann': 'MISSING', 'in_modelseed': ['BET2', 'COQ1', 'COQ2', 'COX10', 'RAM1', 'RER2', 'SRT1'], 'both': {'COQ1', 'COX10', 'BET2', 'RAM1', 'SRT1', 'RER2', 'COQ2'}}, 'rxn13385': {'reac_id': '2.7.1.152-RXN_c0', 'seed_id': 'rxn13385', 'bigg_ann': ['MINOHPKn', 'PMI12346PS'], 'in_modelseed': ['PMI12346PS'], 'both': {'MINOHPKn', 'PMI12346PS'}}, 'rxn08306': {'reac_id': 'DASYN120', 'seed_id': 'rxn08306', 'bigg_ann': 'DASYN120', 'in_modelseed': ['DASYN120'], 'both': {'DASYN120'}}, 'rxn08821': {'reac_id': 'MNXR135864_c0', 'seed_id': 'rxn08821', 'bigg_ann': 'MISSING', 'in_modelseed': ['LPLIPAL2A161'], 'both': {'LPLIPAL2A161'}}, 'rxn00206': {'reac_id': 'MNXR134209_c0', 'seed_id': 'rxn00206', 'bigg_ann': 'MISSING', 'in_modelseed': ['SOD', 'SODr', 'SPODM'], 'both': {'SOD', 'SPODM', 'SODr'}}, 'rxn05340': {'reac_id': 'MNXR94942_c0', 'seed_id': 'rxn05340', 'bigg_ann': ['3OAR120', '3OAR120_1'], 'in_modelseed': ['3OAR120', 'HDDR5'], 'both': {'3OAR120_1', 'HDDR5', '3OAR120'}}, 'rxn00405': {'reac_id': 'ARGDECARBOX-RXN_c0', 'seed_id': 'rxn00405', 'bigg_ann': ['ARGDC', 'ARGDCm', 'ARGDCpp'], 'in_modelseed': ['ARGDC'], 'both': {'ARGDCm', 'ARGDC', 'ARGDCpp'}}, 'rxn04704': {'reac_id': 'CPPPGO2', 'seed_id': 'rxn04704', 'bigg_ann': 'CPPPGO2', 'in_modelseed': ['CPPPGO2'], 'both': {'CPPPGO2'}}, 'rxn05307': {'reac_id': 'TRANS-RXN-71_c0', 'seed_id': 'rxn05307', 'bigg_ann': ['SERt2m', 'SERt2r', 'SERt2rpp', 'SERth'], 'in_modelseed': ['AGP1_12', 'AGP3_3', 'DIP5_7', 'GAP1_18', 'GNP1_6', 'SERt2', 'SERt2r', 'SERt6'], 'both': {'SERt2r', 'DIP5_7', 'GAP1_18', 'GNP1_6', 'SERth', 'AGP1_12', 'SERt2', 'SERt2rpp', 'SERt6', 'AGP3_3', 'SERt2m'}}, 'rxn01169': {'reac_id': 'MNXR107081_c0', 'seed_id': 'rxn01169', 'bigg_ann': 'MISSING', 'in_modelseed': ['GLK1_3'], 'both': {'GLK1_3'}}, 'rxn00299': {'reac_id': 'GTP-CYCLOHYDRO-I-RXN_c0', 'seed_id': 'rxn00299', 'bigg_ann': ['GTPCI', 'GTPCI_1', 'GTPCI_2', 'GTPCIn'], 'in_modelseed': ['FOL2', 'GTPCI'], 'both': {'GTPCI', 'GTPCI_1', 'GTPCIn', 'FOL2', 'GTPCI_2'}}, 'rxn08546': {'reac_id': 'MNXR135825_c0', 'seed_id': 'rxn08546', 'bigg_ann': 'MISSING', 'in_modelseed': ['G3PAT120'], 'both': {'G3PAT120'}}, 'rxn00756': {'reac_id': 'CHOLINE-SULFATASE-RXN_c0', 'seed_id': 'rxn00756', 'bigg_ann': 'CHOLSH', 'in_modelseed': ['CHOLSH'], 'both': {'CHOLSH'}}, 'rxn08900': {'reac_id': 'MDH2', 'seed_id': 'rxn08900', 'bigg_ann': 'MDH2', 'in_modelseed': ['MDH2'], 'both': {'MDH2'}}, 'rxn10180': {'reac_id': 'TRANS-RXN-117_c0', 'seed_id': 'rxn10180', 'bigg_ann': ['PNTOt4', 'PNTOt4pp'], 'in_modelseed': ['PNTOt4'], 'both': {'PNTOt4pp', 'PNTOt4'}}, 'rxn00904': {'reac_id': 'VPAMTr', 'seed_id': 'rxn00904', 'bigg_ann': 'MISSING', 'in_modelseed': ['VPAMT'], 'both': {'VPAMT'}}, 'rxn02484': {'reac_id': 'HMPK1', 'seed_id': 'rxn02484', 'bigg_ann': 'HMPK1', 'in_modelseed': ['HMPK1', 'THI20_1', 'THI21', 'THI22'], 'both': {'THI22', 'THI21', 'THI20_1', 'HMPK1'}}, 'rxn02916': {'reac_id': 'RXN-8172_c0', 'seed_id': 'rxn02916', 'bigg_ann': ['AOXHEXCYCL', 'PPD2CSPp'], 'in_modelseed': ['AOXHEXCYCL'], 'both': {'PPD2CSPp', 'AOXHEXCYCL'}}, 'rxn04597': {'reac_id': 'MNXR110533_c0', 'seed_id': 'rxn04597', 'bigg_ann': 'MISSING', 'in_modelseed': ['PPPNDO'], 'both': {'PPPNDO'}}, 'rxn01133': {'reac_id': 'MALTATr', 'seed_id': 'rxn01133', 'bigg_ann': 'MALTATr', 'in_modelseed': ['MALTAT', 'MALTATr'], 'both': {'MALTATr', 'MALTAT'}}, 'rxn12639': {'reac_id': 'RXN0-6976_c0', 'seed_id': 'rxn12639', 'bigg_ann': 'MISSING', 'in_modelseed': ['MEAMP1(ala-gln)'], 'both': {'MEAMP1(ala-gln)'}}, 'rxn00875': {'reac_id': 'R11-RXN_c0', 'seed_id': 'rxn00875', 'bigg_ann': 'MISSING', 'in_modelseed': ['BUTCT'], 'both': {'BUTCT'}}, 'rxn01000': {'reac_id': 'PPNDH', 'seed_id': 'rxn01000', 'bigg_ann': 'PPNDH', 'in_modelseed': ['PHA2', 'PPNDH'], 'both': {'PHA2', 'PPNDH'}}, 'rxn03397': {'reac_id': 'RXN-14177_c0', 'seed_id': 'rxn03397', 'bigg_ann': 'URFGTT', 'in_modelseed': ['URFGTT'], 'both': {'URFGTT'}}, 'rxn00363': {'reac_id': 'RXN-14026_c0', 'seed_id': 'rxn00363', 'bigg_ann': ['NTD4', 'NTD4e', 'NTD4l', 'NTD4pp'], 'in_modelseed': ['NTD4', 'U29'], 'both': {'NTD4e', 'NTD4pp', 'U29', 'NTD4', 'NTD4l'}}, 'rxn01462': {'reac_id': 'GUANIDINOBUTYRASE-RXN_c0', 'seed_id': 'rxn01462', 'bigg_ann': 'GUDBUTNAH', 'in_modelseed': ['GUADB', 'GUDBUTNAH'], 'both': {'GUADB', 'GUDBUTNAH'}}, 'rxn08128': {'reac_id': 'AMALT3', 'seed_id': 'rxn08128', 'bigg_ann': 'AMALT3', 'in_modelseed': ['AMALT3'], 'both': {'AMALT3'}}, 'rxn01670': {'reac_id': 'RXN-5841_c0', 'seed_id': 'rxn01670', 'bigg_ann': ['NMNHYD', 'NMNR'], 'in_modelseed': ['NIRP'], 'both': {'NMNR', 'NMNHYD', 'NIRP'}}, 'rxn12643': {'reac_id': 'RXN0-6979_c0', 'seed_id': 'rxn12643', 'bigg_ann': 'MISSING', 'in_modelseed': ['MEAMP1(ala-leu)'], 'both': {'MEAMP1(ala-leu)'}}, 'rxn02522': {'reac_id': 'RXN-14091_c0', 'seed_id': 'rxn02522', 'bigg_ann': ['23CN2P2', '23PDE2pp', 'RE1860E'], 'in_modelseed': ['23CN2P2'], 'both': {'23PDE2pp', 'RE1860E', '23CN2P2'}}, 'rxn05183': {'reac_id': 'TRANS-RXN0-202_c0', 'seed_id': 'rxn05183', 'bigg_ann': ['METDabc', 'METDabcpp'], 'in_modelseed': ['METDabc'], 'both': {'METDabcpp', 'METDabc'}}, 'rxn01300': {'reac_id': 'HOMOSERKIN-RXN_c0', 'seed_id': 'rxn01300', 'bigg_ann': ['HSK', 'HSK_1'], 'in_modelseed': ['HSK', 'THR1'], 'both': {'THR1', 'HSK_1', 'HSK'}}, 'rxn00601': {'reac_id': 'AST', 'seed_id': 'rxn00601', 'bigg_ann': 'AST', 'in_modelseed': ['AST'], 'both': {'AST'}}, 'rxn00321': {'reac_id': 'LYSINE-23-AMINOMUTASE-RXN_c0', 'seed_id': 'rxn00321', 'bigg_ann': 'LYSAM', 'in_modelseed': ['LYSAM'], 'both': {'LYSAM'}}, 'rxn00786': {'reac_id': 'FBA', 'seed_id': 'rxn00786', 'bigg_ann': 'FBA', 'in_modelseed': ['FBA'], 'both': {'FBA'}}, 'rxn03908': {'reac_id': '2.7.1.148-RXN_c0', 'seed_id': 'rxn03908', 'bigg_ann': ['CDPMEK', 'CMK'], 'in_modelseed': ['CDPMEK'], 'both': {'CMK', 'CDPMEK'}}, 'rxn09197': {'reac_id': 'MNXR135980_c0', 'seed_id': 'rxn09197', 'bigg_ann': 'MISSING', 'in_modelseed': ['PSD120'], 'both': {'PSD120'}}, 'rxn00740': {'reac_id': 'METBALT-RXN_c0', 'seed_id': 'rxn00740', 'bigg_ann': ['SHSL4h', 'SHSL4r'], 'in_modelseed': ['SHSL4', 'YML082W'], 'both': {'SHSL4r', 'SHSL4h', 'SHSL4', 'YML082W'}}, 'rxn01100': {'reac_id': 'PHOSGLYPHOS-RXN_c0', 'seed_id': 'rxn01100', 'bigg_ann': ['PGK', 'PGK_1', 'PGKf', 'PGKh', 'PGKm'], 'in_modelseed': ['PGK', 'PGK1'], 'both': {'PGKf', 'PGKm', 'PGK', 'PGKh', 'PGK1', 'PGK_1'}}, 'rxn00838': {'reac_id': 'ADENYLOSUCCINATE-SYNTHASE-RXN_c0', 'seed_id': 'rxn00838', 'bigg_ann': ['ADSS', 'ADSSh'], 'in_modelseed': ['ADE12', 'ADSS', 'ADSS_i'], 'both': {'ADSSh', 'ADSS_i', 'ADE12', 'ADSS'}}, 'rxn08707': {'reac_id': 'MNXR135837_c0', 'seed_id': 'rxn08707', 'bigg_ann': 'MISSING', 'in_modelseed': ['HEMEOSm'], 'both': {'HEMEOSm'}}, 'rxn00102': {'reac_id': 'CARBODEHYDRAT-RXN_c0', 'seed_id': 'rxn00102', 'bigg_ann': ['H2CO3D', 'H2CO3Dm', 'HCO3E', 'HCO3E_1', 'HCO3Ee', 'HCO3Ehi', 'HCO3Em', 'HCO3Em_1', 'HCO3En'], 'in_modelseed': ['H2CO3D', 'HCO3E'], 'both': {'HCO3En', 'HCO3Ehi', 'HCO3E', 'HCO3Ee', 'HCO3Em', 'H2CO3Dm', 'HCO3E_1', 'HCO3Em_1', 'H2CO3D'}}, 'rxn00512': {'reac_id': 'GLYCOLATE-REDUCTASE-RXN_c0', 'seed_id': 'rxn00512', 'bigg_ann': ['GLYCLTDx', 'GLYCTO_syn'], 'in_modelseed': ['GLYCLTDx', 'GLYCLTDxr'], 'both': {'GLYCLTDxr', 'GLYCLTDx', 'GLYCTO_syn'}}, 'rxn00831': {'reac_id': 'RXN-7607_c0', 'seed_id': 'rxn00831', 'bigg_ann': ['NTD11', 'NTD11pp'], 'in_modelseed': ['NTD11', 'U32'], 'both': {'NTD11', 'NTD11pp', 'U32'}}, 'rxn00748': {'reac_id': 'MGSA', 'seed_id': 'rxn00748', 'bigg_ann': 'MGSA', 'in_modelseed': ['MGSA'], 'both': {'MGSA'}}, 'rxn01352': {'reac_id': 'NTPTP1', 'seed_id': 'rxn01352', 'bigg_ann': 'NTPTP1', 'in_modelseed': ['DGTPH', 'NTPTP1'], 'both': {'DGTPH', 'NTPTP1'}}, 'rxn12634': {'reac_id': 'MNXR137140_c0', 'seed_id': 'rxn12634', 'bigg_ann': 'MISSING', 'in_modelseed': ['AMPEP10', 'MEAMP1(gly-glu)'], 'both': {'MEAMP1(gly-glu)', 'AMPEP10'}}, 'rxn00883': {'reac_id': 'MYO-INOSITOL-1OR-4-MONOPHOSPHATASE-RXN_c0', 'seed_id': 'rxn00883', 'bigg_ann': 'MI3PP', 'in_modelseed': ['INM1', 'MI3PP', 'YDR287W'], 'both': {'MI3PP', 'INM1', 'YDR287W'}}, 'rxn01457': {'reac_id': 'GUI2', 'seed_id': 'rxn01457', 'bigg_ann': 'GUI2', 'in_modelseed': ['GUI2'], 'both': {'GUI2'}}, 'rxn01255': {'reac_id': 'CHORISMATE-SYNTHASE-RXN_c0', 'seed_id': 'rxn01255', 'bigg_ann': ['CHORS', 'CHRS'], 'in_modelseed': ['ARO2', 'CH or S', 'CHORS'], 'both': {'CH or S', 'ARO2', 'CHORS', 'CHRS'}}, 'rxn10014': {'reac_id': 'MNXR95315_c0', 'seed_id': 'rxn10014', 'bigg_ann': 'ACOAD6', 'in_modelseed': ['ACOAD6'], 'both': {'ACOAD6'}}, 'rxn10155': {'reac_id': 'MNXR96105_c0', 'seed_id': 'rxn10155', 'bigg_ann': ['ASPt2_3', 'ASPt2_3pp'], 'in_modelseed': ['ASPt2_3'], 'both': {'ASPt2_3pp', 'ASPt2_3'}}, 'rxn05485': {'reac_id': 'MNXR95253_c0', 'seed_id': 'rxn05485', 'bigg_ann': ['ACGApts', 'ACGAptspp'], 'in_modelseed': ['ACGApts'], 'both': {'ACGAptspp', 'ACGApts'}}, 'rxn00214': {'reac_id': 'UDPG4E', 'seed_id': 'rxn00214', 'bigg_ann': 'UDPG4E', 'in_modelseed': ['GAL10', 'UDPG4E'], 'both': {'UDPG4E', 'GAL10'}}, 'rxn01895': {'reac_id': 'MHPCHYDROL-RXN_c0', 'seed_id': 'rxn01895', 'bigg_ann': ['HKNDDH', 'HKNDDH_1'], 'in_modelseed': ['HKNDDH'], 'both': {'HKNDDH', 'HKNDDH_1'}}, 'rxn01211': {'reac_id': 'MNXR101748_c0', 'seed_id': 'rxn01211', 'bigg_ann': ['MTHFC', 'MTHFC_1', 'MTHFCm', 'MTHFCm_1', 'MTHFCx'], 'in_modelseed': ['ADE3_3', 'MTHFC'], 'both': {'MTHFC_1', 'MTHFCm', 'MTHFCx', 'MTHFC', 'MTHFCm_1', 'ADE3_3'}}, 'rxn05496': {'reac_id': 'RXN0-5202_c0', 'seed_id': 'rxn05496', 'bigg_ann': ['ALAt2pp', 'ALAt2r', 'ALAt2rL', 'ALAtm', 'ALAtx'], 'in_modelseed': ['AGP1_2', 'ALAt2', 'ALAt2r', 'DIP5_2', 'GAP1_2', 'PUT4_1', 'TAT2_1'], 'both': {'ALAt2pp', 'DIP5_2', 'GAP1_2', 'ALAt2r', 'AGP1_2', 'ALAtx', 'ALAtm', 'TAT2_1', 'PUT4_1', 'ALAt2rL', 'ALAt2'}}, 'rxn00527': {'reac_id': 'TYROSINE-AMINOTRANSFERASE-RXN_c0', 'seed_id': 'rxn00527', 'bigg_ann': ['TYRTA', 'TYRTAh', 'TYRTAi', 'TYRTAim', 'TYRTAip', 'TYRTAm', 'TYRTAp'], 'in_modelseed': ['AAT1_2', 'AAT2_2', 'ARO8', 'ARO9_2', 'TYRTA', 'TYRTAi', 'TYRTAm', 'TYRTAp'], 'both': {'AAT1_2', 'TYRTAim', 'TYRTAm', 'TYRTAh', 'TYRTAi', 'TYRTAip', 'ARO8', 'TYRTAp', 'ARO9_2', 'AAT2_2', 'TYRTA'}}, 'rxn00095': {'reac_id': '3.6.1.41-RXN_c0', 'seed_id': 'rxn00095', 'bigg_ann': ['AP4AH', 'BTPS'], 'in_modelseed': ['AP4AH', 'AP4AHr'], 'both': {'BTPS', 'AP4AH', 'AP4AHr'}}, 'rxn05322': {'reac_id': 'MNXR108883_c0', 'seed_id': 'rxn05322', 'bigg_ann': 'MISSING', 'in_modelseed': ['BTMAT1', 'EAR40x'], 'both': {'BTMAT1', 'EAR40x'}}, 'rxn03003': {'reac_id': 'MNXR102410_c0', 'seed_id': 'rxn03003', 'bigg_ann': 'PCLAD', 'in_modelseed': ['PCLAD', 'U54'], 'both': {'PCLAD', 'U54'}}, 'rxn05151': {'reac_id': 'ABC-3-RXN_c0', 'seed_id': 'rxn05151', 'bigg_ann': ['LYSabc', 'LYSabcpp'], 'in_modelseed': ['LYSabc'], 'both': {'LYSabc', 'LYSabcpp'}}, 'rxn03537': {'reac_id': 'ACBIPGT', 'seed_id': 'rxn03537', 'bigg_ann': 'ACBIPGT', 'in_modelseed': ['ACBIPGT'], 'both': {'ACBIPGT'}}, 'rxn08804': {'reac_id': 'MNXR135848_c0', 'seed_id': 'rxn08804', 'bigg_ann': 'MISSING', 'in_modelseed': ['LPLIPAL1E140pp'], 'both': {'LPLIPAL1E140pp'}}, 'rxn01316': {'reac_id': 'MNXR95297_c0', 'seed_id': 'rxn01316', 'bigg_ann': 'MISSING', 'in_modelseed': ['ACNPLYSr'], 'both': {'ACNPLYSr'}}, 'rxn00966': {'reac_id': 'CHRPL', 'seed_id': 'rxn00966', 'bigg_ann': 'CHRPL', 'in_modelseed': ['CHRPL', 'TRP2_2', 'TRP3_3'], 'both': {'TRP3_3', 'TRP2_2', 'CHRPL'}}, 'rxn01917': {'reac_id': 'ACETYLGLUTKIN-RXN_c0', 'seed_id': 'rxn01917', 'bigg_ann': ['ACGK', 'ACGKm'], 'in_modelseed': ['ACGK'], 'both': {'ACGK', 'ACGKm'}}, 'rxn08527': {'reac_id': 'FRD2', 'seed_id': 'rxn08527', 'bigg_ann': 'FRD2', 'in_modelseed': ['FRD2'], 'both': {'FRD2'}}, 'rxn01509': {'reac_id': 'DGK1', 'seed_id': 'rxn01509', 'bigg_ann': 'DGK1', 'in_modelseed': ['DGK1', 'GUK1_2'], 'both': {'DGK1', 'GUK1_2'}}, 'rxn02011': {'reac_id': 'UDP-NACMURALGLDAPLIG-RXN_c0', 'seed_id': 'rxn02011', 'bigg_ann': 'MISSING', 'in_modelseed': ['UAAGDS'], 'both': {'UAAGDS'}}, 'rxn00173': {'reac_id': 'PHOSACETYLTRANS-RXN_c0', 'seed_id': 'rxn00173', 'bigg_ann': ['PTAr', 'PTArh', 'PTArm'], 'in_modelseed': ['PTA', 'PTAr'], 'both': {'PTAr', 'PTArh', 'PTA', 'PTArm'}}, 'rxn01548': {'reac_id': 'RXN0-5199_c0', 'seed_id': 'rxn01548', 'bigg_ann': ['PUNP3', 'PUNP3m'], 'in_modelseed': ['PNP1_8', 'PUNP3', 'U104'], 'both': {'PUNP3', 'U104', 'PNP1_8', 'PUNP3m'}}, 'rxn08528': {'reac_id': 'MNXR135823_c0', 'seed_id': 'rxn08528', 'bigg_ann': 'MISSING', 'in_modelseed': ['FRD3'], 'both': {'FRD3'}}, 'rxn01145': {'reac_id': 'THYMIDYLATE-5-PHOSPHATASE-RXN_c0', 'seed_id': 'rxn01145', 'bigg_ann': ['NTD5', 'NTD5l', 'NTD5m', 'NTD5pp'], 'in_modelseed': ['NTD5', 'U25'], 'both': {'NTD5', 'NTD5l', 'NTD5m', 'NTD5pp', 'U25'}}, 'rxn09688': {'reac_id': 'MNXR97325_c0', 'seed_id': 'rxn09688', 'bigg_ann': ['DGSNt2', 'DGSNt2pp'], 'in_modelseed': ['DGSNt2', 'U181', 'U197'], 'both': {'U197', 'DGSNt2', 'DGSNt2pp', 'U181'}}, 'rxn09205': {'reac_id': 'MNXR135985_c0', 'seed_id': 'rxn09205', 'bigg_ann': 'MISSING', 'in_modelseed': ['PSSA120'], 'both': {'PSSA120'}}, 'rxn05163': {'reac_id': 'ABC-25-RXN_c0', 'seed_id': 'rxn05163', 'bigg_ann': ['PTRCabc', 'PTRCabcpp'], 'in_modelseed': ['PTRCabc'], 'both': {'PTRCabcpp', 'PTRCabc'}}, 'rxn09201': {'reac_id': 'MNXR135983_c0', 'seed_id': 'rxn09201', 'bigg_ann': 'MISSING', 'in_modelseed': ['PSD161'], 'both': {'PSD161'}}, 'rxn05202': {'reac_id': 'RXN-5076_c0', 'seed_id': 'rxn05202', 'bigg_ann': ['XANt2', 'XANt2pp'], 'in_modelseed': ['XANt2', 'XANt6'], 'both': {'XANt6', 'XANt2pp', 'XANt2'}}, 'rxn10122': {'reac_id': 'MNXR101873_c0', 'seed_id': 'rxn10122', 'bigg_ann': 'NADH6', 'in_modelseed': ['NADH6'], 'both': {'NADH6'}}, 'rxn05547': {'reac_id': 'MNXR97480_c0', 'seed_id': 'rxn05547', 'bigg_ann': 'DIPEPabc9', 'in_modelseed': ['DIPEPabc9'], 'both': {'DIPEPabc9'}}, 'rxn08352': {'reac_id': 'DMPPS', 'seed_id': 'rxn08352', 'bigg_ann': 'DMPPS', 'in_modelseed': ['DMPPS'], 'both': {'DMPPS'}}, 'rxn09106': {'reac_id': 'MNXR102566_c0', 'seed_id': 'rxn09106', 'bigg_ann': ['PGPP180', 'PGPP180pp'], 'in_modelseed': ['PGPP180pp'], 'both': {'PGPP180pp', 'PGPP180'}}, 'rxn00187': {'reac_id': 'GLUTAMINESYN-RXN_c0', 'seed_id': 'rxn00187', 'bigg_ann': ['GALh', 'GALm', 'GLNS'], 'in_modelseed': ['GLN1', 'GLNS_i'], 'both': {'GLN1', 'GALh', 'GLNS', 'GLNS_i', 'GALm'}}, 'rxn08850': {'reac_id': 'MNXR135890_c0', 'seed_id': 'rxn08850', 'bigg_ann': 'MISSING', 'in_modelseed': ['LPLIPAL2G180'], 'both': {'LPLIPAL2G180'}}, 'rxn00500': {'reac_id': 'DLACTDEHYDROGNAD-RXN_c0', 'seed_id': 'rxn00500', 'bigg_ann': ['LDH_D', 'LDHm'], 'in_modelseed': ['LDH_D', 'LDH_Dir'], 'both': {'LDHm', 'LDH_D', 'LDH_Dir'}}, 'rxn05734': {'reac_id': 'MNXR100304_c0', 'seed_id': 'rxn05734', 'bigg_ann': 'GLXO1', 'in_modelseed': ['ALDD30', 'GLXO1'], 'both': {'ALDD30', 'GLXO1'}}, 'rxn00772': {'reac_id': 'MNXR106804_c0', 'seed_id': 'rxn00772', 'bigg_ann': 'MISSING', 'in_modelseed': ['RBKr'], 'both': {'RBKr'}}, 'rxn09103': {'reac_id': 'MNXR135935_c0', 'seed_id': 'rxn09103', 'bigg_ann': 'MISSING', 'in_modelseed': ['PGPP141pp'], 'both': {'PGPP141pp'}}, 'rxn08812': {'reac_id': 'MNXR135856_c0', 'seed_id': 'rxn08812', 'bigg_ann': 'MISSING', 'in_modelseed': ['LPLIPAL1G141pp'], 'both': {'LPLIPAL1G141pp'}}, 'rxn00546': {'reac_id': 'MNXR106667_c0', 'seed_id': 'rxn00546', 'bigg_ann': 'MISSING', 'in_modelseed': ['M1PD'], 'both': {'M1PD'}}, 'rxn05682': {'reac_id': 'MNXR95770_c0', 'seed_id': 'rxn05682', 'bigg_ann': ['ALLTNt2r', 'ALLTNt2rpp'], 'in_modelseed': ['ALLNt2', 'ALLTNt2r', 'ALLTNt6'], 'both': {'ALLNt2', 'ALLTNt2r', 'ALLTNt6', 'ALLTNt2rpp'}}, 'rxn00006': {'reac_id': 'CATAL-RXN_c0', 'seed_id': 'rxn00006', 'bigg_ann': ['CAT', 'CATm', 'CATp'], 'in_modelseed': ['CAT', 'CTA1', 'CTT1'], 'both': {'CAT', 'CATm', 'CATp', 'CTT1', 'CTA1'}}, 'rxn05338': {'reac_id': 'RXN-9528_c0', 'seed_id': 'rxn05338', 'bigg_ann': ['3OAR100', '3OAR100_1'], 'in_modelseed': ['3OAR100', 'HDER4', 'HDER4r'], 'both': {'3OAR100', '3OAR100_1', 'HDER4r', 'HDER4'}}, 'rxn03135': {'reac_id': 'GLUTAMIDOTRANS-RXN_c0', 'seed_id': 'rxn03135', 'bigg_ann': ['IG3PS', 'IG3PS_1', 'IMGPSh'], 'in_modelseed': ['IG3PS'], 'both': {'IMGPSh', 'IG3PS', 'IG3PS_1'}}, 'rxn08085': {'reac_id': 'MNXR135725_c0', 'seed_id': 'rxn08085', 'bigg_ann': 'MISSING', 'in_modelseed': ['AGPAT141'], 'both': {'AGPAT141'}}, 'rxn12146': {'reac_id': 'RXN-14150_c0', 'seed_id': 'rxn12146', 'bigg_ann': 'MISSING', 'in_modelseed': ['R08503'], 'both': {'R08503'}}, 'rxn08310': {'reac_id': 'DASYN161', 'seed_id': 'rxn08310', 'bigg_ann': 'DASYN161', 'in_modelseed': ['DASYN161'], 'both': {'DASYN161'}}, 'rxn00915': {'reac_id': 'GUANPRIBOSYLTRAN-RXN_c0', 'seed_id': 'rxn00915', 'bigg_ann': ['GPAR', 'GUAPRT'], 'in_modelseed': ['GUAPRT', 'GUAPRTr', 'HPT1_2'], 'both': {'GUAPRTr', 'GPAR', 'GUAPRT', 'HPT1_2'}}, 'rxn00373': {'reac_id': 'OXALATE-DECARBOXYLASE-RXN_c0', 'seed_id': 'rxn00373', 'bigg_ann': ['OXADC', 'OXADCm'], 'in_modelseed': ['OXADC'], 'both': {'OXADCm', 'OXADC'}}, 'rxn02853': {'reac_id': 'RXN-10089_c0', 'seed_id': 'rxn02853', 'bigg_ann': ['ALDD20x_1', 'IMACTD', 'IMACTD_m'], 'in_modelseed': ['ALDD20x'], 'both': {'ALDD20x', 'IMACTD_m', 'IMACTD', 'ALDD20x_1'}}, 'rxn05337': {'reac_id': 'MNXR94952_c0', 'seed_id': 'rxn05337', 'bigg_ann': ['3OAR60', '3OAR60_1'], 'in_modelseed': ['3OAR60', 'HHYR2'], 'both': {'HHYR2', '3OAR60', '3OAR60_1'}}, 'rxn10133': {'reac_id': 'MNXR103135_c0', 'seed_id': 'rxn10133', 'bigg_ann': ['PPPNt2r', 'PPPNt2rpp'], 'in_modelseed': ['PPPNt2', 'PPPNt2r'], 'both': {'PPPNt2rpp', 'PPPNt2', 'PPPNt2r'}}, 'rxn01135': {'reac_id': 'OXALATE--COA-LIGASE-RXN_c0', 'seed_id': 'rxn01135', 'bigg_ann': 'OXACOAL', 'in_modelseed': ['OXACOAL'], 'both': {'OXACOAL'}}, 'rxn01477': {'reac_id': 'EDD', 'seed_id': 'rxn01477', 'bigg_ann': 'EDD', 'in_modelseed': ['EDD', 'PGDHY'], 'both': {'PGDHY', 'EDD'}}, 'rxn01653': {'reac_id': 'MNXR99668_c0', 'seed_id': 'rxn01653', 'bigg_ann': ['FTCL', 'FTHFCL', 'FTHFCLm'], 'in_modelseed': ['FTHFCL'], 'both': {'FTHFCL', 'FTHFCLm', 'FTCL'}}, 'rxn00474': {'reac_id': 'RXN0-2382_c0', 'seed_id': 'rxn00474', 'bigg_ann': ['TRPS2', 'TRPS2h'], 'in_modelseed': ['TRPS2'], 'both': {'TRPS2', 'TRPS2h'}}, 'rxn03147': {'reac_id': 'SAICARSYN-RXN_c0', 'seed_id': 'rxn03147', 'bigg_ann': ['PRAISh', 'PRASCSi'], 'in_modelseed': ['ADE1', 'PRASCS'], 'both': {'PRASCS', 'ADE1', 'PRAISh', 'PRASCSi'}}, 'rxn01123': {'reac_id': 'DDGLK', 'seed_id': 'rxn01123', 'bigg_ann': 'DDGLK', 'in_modelseed': ['DDGLK'], 'both': {'DDGLK'}}, 'rxn08557': {'reac_id': 'G3PD6', 'seed_id': 'rxn08557', 'bigg_ann': 'G3PD6', 'in_modelseed': ['G3PD6'], 'both': {'G3PD6'}}, 'rxn01842': {'reac_id': 'PACCOAL', 'seed_id': 'rxn01842', 'bigg_ann': 'MISSING', 'in_modelseed': ['PACCOALr'], 'both': {'PACCOALr'}}, 'rxn09687': {'reac_id': 'TRANS-RXN-108E_c0', 'seed_id': 'rxn09687', 'bigg_ann': ['DINSt2', 'DINSt2pp'], 'in_modelseed': ['DINSt2', 'U180', 'U196'], 'both': {'DINSt2', 'U196', 'U180', 'DINSt2pp'}}, 'rxn01116': {'reac_id': 'RIBULP3EPIM-RXN_c0', 'seed_id': 'rxn01116', 'bigg_ann': ['RPE', 'RPEh'], 'in_modelseed': ['RPE', 'RPE1'], 'both': {'RPEh', 'RPE1', 'RPE'}}, 'rxn00606': {'reac_id': 'TRE6PH', 'seed_id': 'rxn00606', 'bigg_ann': 'TRE6PH', 'in_modelseed': ['TRE6PH'], 'both': {'TRE6PH'}}, 'rxn02811': {'reac_id': 'RXN-8991_c0', 'seed_id': 'rxn02811', 'bigg_ann': ['IMDHT_3c2hmp', 'IPPMIa'], 'in_modelseed': ['IPPMIa'], 'both': {'IMDHT_3c2hmp', 'IPPMIa'}}, 'rxn05173': {'reac_id': 'MNXR126447_c0', 'seed_id': 'rxn05173', 'bigg_ann': 'MISSING', 'in_modelseed': ['ARBabc'], 'both': {'ARBabc'}}, 'rxn03062': {'reac_id': 'IPMD', 'seed_id': 'rxn03062', 'bigg_ann': 'IPMD', 'in_modelseed': ['IPMD', 'IPMDr'], 'both': {'IPMDr', 'IPMD'}}, 'rxn00829': {'reac_id': 'DIPHOSPHOMEVALONTE-DECARBOXYLASE-RXN_c0', 'seed_id': 'rxn00829', 'bigg_ann': ['DPMVD', 'DPMVDx'], 'in_modelseed': ['DPMVD', 'MVD1'], 'both': {'MVD1', 'DPMVDx', 'DPMVD'}}, 'rxn08847': {'reac_id': 'MNXR135887_c0', 'seed_id': 'rxn08847', 'bigg_ann': 'MISSING', 'in_modelseed': ['LPLIPAL2G141'], 'both': {'LPLIPAL2G141'}}, 'rxn00868': {'reac_id': 'RXN-12558_c0', 'seed_id': 'rxn00868', 'bigg_ann': ['ACOAD1', 'BCOR'], 'in_modelseed': ['ACOAD1'], 'both': {'ACOAD1', 'BCOR'}}, 'rxn05608': {'reac_id': 'TRANS-RXN0-503_c0', 'seed_id': 'rxn05608', 'bigg_ann': ['MALTTRabc', 'MALTTRabcpp'], 'in_modelseed': ['MALTTRabc'], 'both': {'MALTTRabc', 'MALTTRabcpp'}}, 'rxn00670': {'reac_id': 'PTAALT-RXN_c0', 'seed_id': 'rxn00670', 'bigg_ann': ['PCPPTh', 'PCPPTm', 'PTA2'], 'in_modelseed': ['PTA2', 'PTA2r', 'PTAr_ppa'], 'both': {'PCPPTh', 'PTAr_ppa', 'PCPPTm', 'PTA2', 'PTA2r'}}, 'rxn01544': {'reac_id': 'XPPT', 'seed_id': 'rxn01544', 'bigg_ann': 'XPPT', 'in_modelseed': ['XPPT', 'XPT1'], 'both': {'XPPT', 'XPT1'}}, 'rxn09113': {'reac_id': 'PGSA180', 'seed_id': 'rxn09113', 'bigg_ann': 'PGSA180', 'in_modelseed': ['PGSA180'], 'both': {'PGSA180'}}, 'rxn00711': {'reac_id': 'URACIL-PRIBOSYLTRANS-RXN_c0', 'seed_id': 'rxn00711', 'bigg_ann': ['UPPRT', 'UPRT'], 'in_modelseed': ['FUR1', 'UPPRT', 'UPPRTr'], 'both': {'UPRT', 'UPPRT', 'UPPRTr', 'FUR1'}}, 'rxn05557': {'reac_id': 'MNXR99538_c0', 'seed_id': 'rxn05557', 'bigg_ann': 'FEDCabc', 'in_modelseed': ['FEDCabc'], 'both': {'FEDCabc'}}, 'rxn10184': {'reac_id': 'MNXR104290_c0', 'seed_id': 'rxn10184', 'bigg_ann': ['SBTpts', 'SBTptspp'], 'in_modelseed': ['SBTpts'], 'both': {'SBTptspp', 'SBTpts'}}, 'rxn01763': {'reac_id': 'RBK_L1', 'seed_id': 'rxn01763', 'bigg_ann': 'RBK_L1', 'in_modelseed': ['RBK_L1', 'RBK_L1r', 'RBLK1'], 'both': {'RBLK1', 'RBK_L1r', 'RBK_L1'}}, 'rxn00908': {'reac_id': 'MNXR100330_c0', 'seed_id': 'rxn00908', 'bigg_ann': ['GLYCL', 'GLYCL_2', 'GLYCLm', 'GLYS'], 'in_modelseed': ['GCV1_2', 'GLYCL_2'], 'both': {'GLYS', 'GLYCL_2', 'GLYCL', 'GCV1_2', 'GLYCLm'}}, 'rxn08299': {'reac_id': 'MNXR135770_c0', 'seed_id': 'rxn08299', 'bigg_ann': 'MISSING', 'in_modelseed': ['DAGK180'], 'both': {'DAGK180'}}, 'rxn08711': {'reac_id': 'HEPT2', 'seed_id': 'rxn08711', 'bigg_ann': 'HEPT2', 'in_modelseed': ['HEPT2'], 'both': {'HEPT2'}}, 'rxn01138': {'reac_id': 'ADENPHOSPHOR-RXN_c0', 'seed_id': 'rxn01138', 'bigg_ann': ['PUNP1', 'PUNP1m'], 'in_modelseed': ['PNP1_7', 'PUNP1', 'U103'], 'both': {'PUNP1m', 'U103', 'PNP1_7', 'PUNP1'}}, 'rxn02402': {'reac_id': 'QUINOPRIBOTRANS-RXN_c0', 'seed_id': 'rxn02402', 'bigg_ann': ['NNDPR', 'NNDPRm'], 'in_modelseed': ['NNDPR', 'QPT1_1'], 'both': {'NNDPRm', 'NNDPR', 'QPT1_1'}}, 'rxn08291': {'reac_id': 'DAAD', 'seed_id': 'rxn08291', 'bigg_ann': 'DAAD', 'in_modelseed': ['DAAD'], 'both': {'DAAD'}}, 'rxn01607': {'reac_id': 'MEVALONATE-KINASE-RXN_c0', 'seed_id': 'rxn01607', 'bigg_ann': ['MEVK1', 'MEVK1x'], 'in_modelseed': ['ERG12_1', 'MEVK1'], 'both': {'MEVK1', 'ERG12_1', 'MEVK1x'}}, 'rxn05465': {'reac_id': 'MALONYL-COA-ACP-TRANSACYL-RXN_c0', 'seed_id': 'rxn05465', 'bigg_ann': ['MCOATA', 'MCOATA_1', 'MCOATAm'], 'in_modelseed': ['FAS1_1', 'MCOATA'], 'both': {'MCOATA', 'MCOATAm', 'MCOATA_1', 'FAS1_1'}}, 'rxn08820': {'reac_id': 'LPLIPAL2A160', 'seed_id': 'rxn08820', 'bigg_ann': 'LPLIPAL2A160', 'in_modelseed': ['LPLIPAL2A160'], 'both': {'LPLIPAL2A160'}}, 'rxn05494': {'reac_id': 'TRANS-RXN-62A_c0', 'seed_id': 'rxn05494', 'bigg_ann': ['DALAt2pp', 'DALAt2r', 'DALAt2rL'], 'in_modelseed': ['ALA_Dt2', 'ALA_Dt6', 'DALAt2', 'DALAt2r'], 'both': {'ALA_Dt6', 'DALAt2pp', 'DALAt2', 'ALA_Dt2', 'DALAt2rL', 'DALAt2r'}}, 'rxn05347': {'reac_id': '3-OXOACYL-ACP-SYNTH-BASE-RXN_c0', 'seed_id': 'rxn05347', 'bigg_ann': ['KAS14', 'KAS14_1'], 'in_modelseed': ['ACMAT1', 'FAS2_1_1', 'KAS14'], 'both': {'KAS14', 'FAS2_1_1', 'KAS14_1', 'ACMAT1'}}, 'rxn06077': {'reac_id': '1.8.4.13-RXN_c0', 'seed_id': 'rxn06077', 'bigg_ann': ['METSOXR1', 'METSOXR2', 'METSR_S1'], 'in_modelseed': ['METSR-S1'], 'both': {'METSR_S1', 'METSOXR1', 'METSOXR2', 'METSR-S1'}}, 'rxn03897': {'reac_id': 'BENZOATE-12-DIOXYGENASE-RXN_c0', 'seed_id': 'rxn03897', 'bigg_ann': 'BZ12DOX', 'in_modelseed': ['BENA', 'BZ12DOX'], 'both': {'BZ12DOX', 'BENA'}}, 'rxn00145': {'reac_id': 'MNXR134206_c0', 'seed_id': 'rxn00145', 'bigg_ann': 'MISSING', 'in_modelseed': ['L-LACD', 'L-LACDm', 'L_LACD'], 'both': {'L-LACD', 'L-LACDm', 'L_LACD'}}, 'rxn08126': {'reac_id': 'AMALT1', 'seed_id': 'rxn08126', 'bigg_ann': 'AMALT1', 'in_modelseed': ['AMALT1'], 'both': {'AMALT1'}}, 'rxn08547': {'reac_id': 'RXN-17017_c0', 'seed_id': 'rxn08547', 'bigg_ann': 'MISSING', 'in_modelseed': ['G3PAT140'], 'both': {'G3PAT140'}}, 'rxn05732': {'reac_id': 'MNXR95316_c0', 'seed_id': 'rxn05732', 'bigg_ann': 'ACOAD7', 'in_modelseed': ['ACOAD7'], 'both': {'ACOAD7'}}, 'rxn01870': {'reac_id': 'MNXR99460_c0', 'seed_id': 'rxn01870', 'bigg_ann': ['FBA2', 'FPGPL'], 'in_modelseed': ['FBA2'], 'both': {'FPGPL', 'FBA2'}}, 'rxn08901': {'reac_id': 'MDH3', 'seed_id': 'rxn08901', 'bigg_ann': 'MDH3', 'in_modelseed': ['MDH3'], 'both': {'MDH3'}}, 'rxn00497': {'reac_id': 'PHENYLALANINE-DECARBOXYLASE-RXN_c0', 'seed_id': 'rxn00497', 'bigg_ann': 'PHYCBOXL', 'in_modelseed': ['PHYCBOXL'], 'both': {'PHYCBOXL'}}, 'rxn00137': {'reac_id': 'BPNT', 'seed_id': 'rxn00137', 'bigg_ann': 'BPNT', 'in_modelseed': ['BPNT', 'MET22'], 'both': {'BPNT', 'MET22'}}, 'rxn00611': {'reac_id': '1.1.1.8-RXN_c0', 'seed_id': 'rxn00611', 'bigg_ann': ['G3PD1', 'G3PD1_1', 'G3PD1ir', 'G3PD1irm', 'r0202'], 'in_modelseed': ['G3PD1', 'G3PD1ir', 'GPD1', 'GPD2'], 'both': {'GPD1', 'G3PD1', 'GPD2', 'G3PD1ir', 'G3PD1_1', 'G3PD1irm', 'r0202'}}, 'rxn01678': {'reac_id': 'DUDPKIN-RXN_c0', 'seed_id': 'rxn01678', 'bigg_ann': ['NDPK6', 'NDPK6m', 'NDPK6n'], 'in_modelseed': ['NDPK6', 'YNK1_4'], 'both': {'YNK1_4', 'NDPK6n', 'NDPK6m', 'NDPK6'}}, 'rxn02286': {'reac_id': 'UAMAS', 'seed_id': 'rxn02286', 'bigg_ann': 'UAMAS', 'in_modelseed': ['UAMAS'], 'both': {'UAMAS'}}, 'rxn00872': {'reac_id': 'MNXR95302_c0', 'seed_id': 'rxn00872', 'bigg_ann': ['ACOA40OR', 'ACOAD1f', 'ACOAD1fm'], 'in_modelseed': ['ACOAD1f'], 'both': {'ACOA40OR', 'ACOAD1f', 'ACOAD1fm'}}, 'rxn05919': {'reac_id': 'MNXR106789_c0', 'seed_id': 'rxn05919', 'bigg_ann': 'MISSING', 'in_modelseed': ['GPT2_2', 'SCT1_2'], 'both': {'SCT1_2', 'GPT2_2'}}, 'rxn00832': {'reac_id': 'IMPCYCLOHYDROLASE-RXN_c0', 'seed_id': 'rxn00832', 'bigg_ann': ['ICH', 'IMPC'], 'in_modelseed': ['ADE16_2', 'ADE17_2', 'IMPC', 'IMPCir'], 'both': {'ICH', 'IMPC', 'ADE17_2', 'IMPCir', 'ADE16_2'}}, 'rxn04599': {'reac_id': 'MNXR110534_c0', 'seed_id': 'rxn04599', 'bigg_ann': 'MISSING', 'in_modelseed': ['DHPPD'], 'both': {'DHPPD'}}, 'rxn01106': {'reac_id': '3PGAREARR-RXN_c0', 'seed_id': 'rxn01106', 'bigg_ann': ['PGM', 'PGM_1', 'PGMf', 'PGMm'], 'in_modelseed': ['GPM1_2', 'GPM2', 'GPM3', 'PGM'], 'both': {'PGM', 'GPM2', 'PGMm', 'PGM_1', 'GPM1_2', 'GPM3', 'PGMf'}}, 'rxn12640': {'reac_id': 'MNXR137143_c0', 'seed_id': 'rxn12640', 'bigg_ann': 'MISSING', 'in_modelseed': ['MEAMP1(ala-glu)'], 'both': {'MEAMP1(ala-glu)'}}, 'rxn00690': {'reac_id': 'MNXR99672_c0', 'seed_id': 'rxn00690', 'bigg_ann': ['FTHFLi', 'FTHFLmi'], 'in_modelseed': ['ADE3_2', 'FTHFL', 'FTHFLi', 'FTHFLm'], 'both': {'FTHFLm', 'FTHFL', 'FTHFLmi', 'FTHFLi', 'ADE3_2'}}, 'rxn08438': {'reac_id': 'MNXR111734_c0', 'seed_id': 'rxn08438', 'bigg_ann': 'MISSING', 'in_modelseed': ['FA80ACPHi'], 'both': {'FA80ACPHi'}}, 'rxn00931': {'reac_id': 'MNXR102302_c0', 'seed_id': 'rxn00931', 'bigg_ann': ['P5CR', 'P5CRm', 'PRO1y'], 'in_modelseed': ['P5CR', 'PRO3_1'], 'both': {'PRO3_1', 'P5CRm', 'PRO1y', 'P5CR'}}, 'rxn08756': {'reac_id': 'IPDPS', 'seed_id': 'rxn08756', 'bigg_ann': 'IPDPS', 'in_modelseed': ['IPDPS'], 'both': {'IPDPS'}}, 'rxn10012': {'reac_id': 'MNXR95312_c0', 'seed_id': 'rxn10012', 'bigg_ann': 'MISSING', 'in_modelseed': ['ACOAD4'], 'both': {'ACOAD4'}}, 'rxn09450': {'reac_id': 'MNXR136034_c0', 'seed_id': 'rxn09450', 'bigg_ann': 'MISSING', 'in_modelseed': ['FACOAL161'], 'both': {'FACOAL161'}}, 'rxn00938': {'reac_id': 'NICOTINAMID-RXN_c0', 'seed_id': 'rxn00938', 'bigg_ann': ['NNAM', 'NNAMrm'], 'in_modelseed': ['PNC1_1'], 'both': {'NNAMrm', 'PNC1_1', 'NNAM'}}, 'rxn00412': {'reac_id': 'CTPS2', 'seed_id': 'rxn00412', 'bigg_ann': 'CTPS2', 'in_modelseed': ['CTPS2', 'URA7_1', 'URA8_1'], 'both': {'URA8_1', 'URA7_1', 'CTPS2'}}, 'rxn00650': {'reac_id': 'RXN-6622_c0', 'seed_id': 'rxn00650', 'bigg_ann': ['AMPTASECG', 'AMPTASECGe'], 'in_modelseed': ['AMPTASECG', 'TRIA'], 'both': {'TRIA', 'AMPTASECGe', 'AMPTASECG'}}, 'rxn10094': {'reac_id': 'MNXR95823_c0', 'seed_id': 'rxn10094', 'bigg_ann': 'AMMQT8_2', 'in_modelseed': ['AMMQT8_2'], 'both': {'AMMQT8_2'}}, 'rxn03167': {'reac_id': 'MNXR95665_c0', 'seed_id': 'rxn03167', 'bigg_ann': ['AKP1', 'AKP1_1', 'r0707'], 'in_modelseed': ['AKP1', 'PHO8'], 'both': {'r0707', 'PHO8', 'AKP1_1', 'AKP1'}}, 'rxn05152': {'reac_id': 'TRANS-RXN0-222_c0', 'seed_id': 'rxn05152', 'bigg_ann': ['ASPabc', 'ASPabcpp'], 'in_modelseed': ['ASPabc'], 'both': {'ASPabcpp', 'ASPabc'}}, 'rxn01103': {'reac_id': 'MNXR95410_c0', 'seed_id': 'rxn01103', 'bigg_ann': ['ACPh', 'ACYP'], 'in_modelseed': ['ACYP'], 'both': {'ACPh', 'ACYP'}}, 'rxn01313': {'reac_id': 'RXN-7909_c0', 'seed_id': 'rxn01313', 'bigg_ann': 'MISSING', 'in_modelseed': ['DHPR', 'DHPRx'], 'both': {'DHPR', 'DHPRx'}}, 'rxn04604': {'reac_id': 'MNXR100655_c0', 'seed_id': 'rxn04604', 'bigg_ann': ['HKNTDH', 'HKNTDH_1'], 'in_modelseed': ['HKNTDH'], 'both': {'HKNTDH', 'HKNTDH_1'}}, 'rxn00515': {'reac_id': 'RXN-14120_c0', 'seed_id': 'rxn00515', 'bigg_ann': ['NDPK9', 'NDPK9m', 'NDPK9n'], 'in_modelseed': ['NDPK9', 'YNK1_9'], 'both': {'NDPK9', 'NDPK9n', 'NDPK9m', 'YNK1_9'}}, 'rxn08846': {'reac_id': 'MNXR135886_c0', 'seed_id': 'rxn08846', 'bigg_ann': 'MISSING', 'in_modelseed': ['LPLIPAL2G140'], 'both': {'LPLIPAL2G140'}}, 'rxn03437': {'reac_id': 'MNXR134508_c0', 'seed_id': 'rxn03437', 'bigg_ann': 'MISSING', 'in_modelseed': ['DHAD2'], 'both': {'DHAD2'}}, 'rxn01353': {'reac_id': 'DGDPKIN-RXN_c0', 'seed_id': 'rxn01353', 'bigg_ann': ['ATDGDm', 'NDPK5', 'NDPK5m', 'NDPK5n'], 'in_modelseed': ['NDPK5', 'YNK1_3'], 'both': {'NDPK5m', 'ATDGDm', 'NDPK5n', 'NDPK5', 'YNK1_3'}}, 'rxn12633': {'reac_id': 'RXN0-6975_c0', 'seed_id': 'rxn12633', 'bigg_ann': 'MISSING', 'in_modelseed': ['MEAMP1(ala-asp)'], 'both': {'MEAMP1(ala-asp)'}}, 'rxn00882': {'reac_id': 'RXN-10952_c0', 'seed_id': 'rxn00882', 'bigg_ann': 'MI4PP', 'in_modelseed': ['MI4PP'], 'both': {'MI4PP'}}, 'rxn03244': {'reac_id': 'RXN-12490_c0', 'seed_id': 'rxn03244', 'bigg_ann': ['HACD4', 'HACD4_1', 'HACD4i', 'HACD4m', 'HACD4p'], 'in_modelseed': ['HACD4', 'HACD4i'], 'both': {'HACD4i', 'HACD4_1', 'HACD4p', 'HACD4m', 'HACD4'}}, 'rxn00616': {'reac_id': 'MNXR99875_c0', 'seed_id': 'rxn00616', 'bigg_ann': ['G3PD', 'G3PDm'], 'in_modelseed': ['G3PD'], 'both': {'G3PD', 'G3PDm'}}, 'rxn01639': {'reac_id': 'FORMIMINOGLUTAMASE-RXN_c0', 'seed_id': 'rxn01639', 'bigg_ann': ['FGLU', 'FGLU_1'], 'in_modelseed': ['FGLU'], 'both': {'FGLU_1', 'FGLU'}}, 'rxn06723': {'reac_id': 'U23GAAT', 'seed_id': 'rxn06723', 'bigg_ann': 'U23GAAT', 'in_modelseed': ['U23GAAT'], 'both': {'U23GAAT'}}, 'rxn00313': {'reac_id': 'DAPDC', 'seed_id': 'rxn00313', 'bigg_ann': 'DAPDC', 'in_modelseed': ['DAPDC'], 'both': {'DAPDC'}}, 'rxn02949': {'reac_id': 'METHYLACYLYLCOA-HYDROXY-RXN_c0', 'seed_id': 'rxn02949', 'bigg_ann': ['ECOAH12', 'ECOAH12m'], 'in_modelseed': ['ECOAH12', 'ECOAH2c'], 'both': {'ECOAH12m', 'ECOAH12', 'ECOAH2c'}}, 'rxn00775': {'reac_id': 'RXN0-1441_c0', 'seed_id': 'rxn00775', 'bigg_ann': 'MISSING', 'in_modelseed': ['ADPRDP'], 'both': {'ADPRDP'}}, 'rxn02680': {'reac_id': 'RXN-13617_c0', 'seed_id': 'rxn02680', 'bigg_ann': ['ACACT4m', 'ACACT4p', 'ACACT4r', 'KAT4'], 'in_modelseed': ['ACACT4r', 'KAT4'], 'both': {'ACACT4p', 'ACACT4m', 'KAT4', 'ACACT4r'}}, 'rxn10571': {'reac_id': '3.6.3.2-RXN_c0', 'seed_id': 'rxn10571', 'bigg_ann': ['MG2abc', 'MG2uabcpp'], 'in_modelseed': ['MG2abc', 'MG2abci', 'MGt', 'Mg2abc'], 'both': {'MG2uabcpp', 'MGt', 'MG2abc', 'MG2abci', 'Mg2abc'}}, 'rxn02290': {'reac_id': 'LANOSTEROL-SYNTHASE-RXN_c0', 'seed_id': 'rxn02290', 'bigg_ann': ['LNSTLS', 'LNSTLSr'], 'in_modelseed': ['ERG7', 'LNSTLS'], 'both': {'LNSTLS', 'ERG7', 'LNSTLSr'}}, 'rxn00547': {'reac_id': 'MNXR106668_c0', 'seed_id': 'rxn00547', 'bigg_ann': 'MISSING', 'in_modelseed': ['HEX7', 'HXK1_4', 'HXK2_4'], 'both': {'HXK1_4', 'HXK2_4', 'HEX7'}}, 'rxn01192': {'reac_id': 'PROTOCATECHUATE-34-DIOXYGENASE-RXN_c0', 'seed_id': 'rxn01192', 'bigg_ann': 'PCADYOX', 'in_modelseed': ['PCADYOX', 'PCAHG'], 'both': {'PCADYOX', 'PCAHG'}}, 'rxn05325': {'reac_id': 'RXN-9659_c0', 'seed_id': 'rxn05325', 'bigg_ann': 'MISSING', 'in_modelseed': ['EAR80x', 'OCMAT3'], 'both': {'EAR80x', 'OCMAT3'}}, 'rxn08647': {'reac_id': 'GLYCK2', 'seed_id': 'rxn08647', 'bigg_ann': 'GLYCK2', 'in_modelseed': ['GLYCK2', 'GLYCKb'], 'both': {'GLYCKb', 'GLYCK2'}}, 'rxn05610': {'reac_id': 'MNXR101401_c0', 'seed_id': 'rxn05610', 'bigg_ann': ['MANpts', 'MANptspp'], 'in_modelseed': ['MANpts'], 'both': {'MANptspp', 'MANpts'}}, 'rxn10042': {'reac_id': 'ATPSYN-RXN_c0', 'seed_id': 'rxn10042', 'bigg_ann': ['ATPS4m', 'ATPS4m_cho', 'ATPS4r', 'ATPS4rpp', 'ATPSh', 'ATPasel'], 'in_modelseed': ['ATPS4r'], 'both': {'ATPS4m', 'ATPSh', 'ATPS4r', 'ATPasel', 'ATPS4rpp', 'ATPS4m_cho'}}, 'rxn08803': {'reac_id': 'MNXR135847_c0', 'seed_id': 'rxn08803', 'bigg_ann': 'MISSING', 'in_modelseed': ['LPLIPAL1E120pp'], 'both': {'LPLIPAL1E120pp'}}, 'rxn01053': {'reac_id': 'LACTALDDEHYDROG-RXN_c0', 'seed_id': 'rxn01053', 'bigg_ann': ['LCADi', 'LCADm'], 'in_modelseed': ['LCAD', 'LCADi', 'LCADm'], 'both': {'LCADi', 'LCAD', 'LCADm'}}, 'rxn02312': {'reac_id': 'AMAOTr', 'seed_id': 'rxn02312', 'bigg_ann': 'AMAOTr', 'in_modelseed': ['AMAOT', 'AMAOTr', 'BIO3'], 'both': {'BIO3', 'AMAOTr', 'AMAOT'}}, 'rxn08025': {'reac_id': 'AB6PGH', 'seed_id': 'rxn08025', 'bigg_ann': 'AB6PGH', 'in_modelseed': ['AB6PGH'], 'both': {'AB6PGH'}}, 'rxn03422': {'reac_id': 'SGSAD', 'seed_id': 'rxn03422', 'bigg_ann': 'SGSAD', 'in_modelseed': ['SGSAD'], 'both': {'SGSAD'}}, 'rxn02895': {'reac_id': 'GLYRIBONUCSYN-RXN_c0', 'seed_id': 'rxn02895', 'bigg_ann': ['PPRGL', 'PPRGLh', 'PRAGSr'], 'in_modelseed': ['ADE5_7_1', 'PRAGS', 'PRAGSr'], 'both': {'PPRGL', 'PRAGSr', 'PPRGLh', 'ADE5_7_1', 'PRAGS'}}, 'rxn02934': {'reac_id': 'TIGLYLCOA-HYDROXY-RXN_c0', 'seed_id': 'rxn02934', 'bigg_ann': ['ECOAH9ir', 'ECOAH9m'], 'in_modelseed': ['ECOAH9', 'ECOAH9ir'], 'both': {'ECOAH9m', 'ECOAH9ir', 'ECOAH9'}}, 'rxn08089': {'reac_id': 'MNXR135729_c0', 'seed_id': 'rxn08089', 'bigg_ann': 'MISSING', 'in_modelseed': ['AGPAT181'], 'both': {'AGPAT181'}}, 'rxn00189': {'reac_id': 'GLUTAMIN-RXN_c0', 'seed_id': 'rxn00189', 'bigg_ann': ['GAM', 'GLUN', 'GLUNm', 'GLUNpp'], 'in_modelseed': ['U42', 'U43'], 'both': {'GLUNm', 'GLUNpp', 'GAM', 'U42', 'GLUN', 'U43'}}, 'rxn02508': {'reac_id': 'PRAISOM-RXN_c0', 'seed_id': 'rxn02508', 'bigg_ann': ['PRAI', 'PRAIi'], 'in_modelseed': ['PRAI', 'PRAIi', 'TRP1'], 'both': {'TRP1', 'PRAIi', 'PRAI'}}, 'rxn00543': {'reac_id': 'ALCOHOL-DEHYDROG-RXN_c0', 'seed_id': 'rxn00543', 'bigg_ann': ['ALCD2ir', 'ALCD2irm', 'ALCD2m', 'ALCD2x'], 'in_modelseed': ['ADH1', 'ADH2', 'ADH4', 'ADH5', 'ALCD1', 'ALCD2if', 'ALCD2ir', 'ALCD2m', 'ALCD2x', 'SFA1_2'], 'both': {'ALCD2m', 'ALCD2ir', 'ADH4', 'ALCD2irm', 'ADH2', 'SFA1_2', 'ALCD2x', 'ALCD1', 'ADH1', 'ALCD2if', 'ADH5'}}, 'rxn09992': {'reac_id': 'MNXR95104_c0', 'seed_id': 'rxn09992', 'bigg_ann': ['6PHBG', 'S6PG'], 'in_modelseed': ['6PHBG', 'S6PG'], 'both': {'6PHBG', 'S6PG'}}, 'rxn00420': {'reac_id': 'RXN0-5114_c0', 'seed_id': 'rxn00420', 'bigg_ann': ['PSP', 'PSP_L', 'PSP_Lpp'], 'in_modelseed': ['PSP_L', 'SER2'], 'both': {'PSP_L', 'PSP_Lpp', 'SER2', 'PSP'}}, 'rxn10476': {'reac_id': 'MNXR134528_c0', 'seed_id': 'rxn10476', 'bigg_ann': 'MISSING', 'in_modelseed': ['COCHL'], 'both': {'COCHL'}}, 'rxn02804': {'reac_id': '2.3.1.155-RXN_c0', 'seed_id': 'rxn02804', 'bigg_ann': ['ACACT7m', 'ACACT7p', 'ACACT7r', 'KAT7', 'r0653'], 'in_modelseed': ['ACACT7r', 'KAT7'], 'both': {'KAT7', 'ACACT7m', 'ACACT7r', 'ACACT7p', 'r0653'}}, 'rxn02939': {'reac_id': 'PERD', 'seed_id': 'rxn02939', 'bigg_ann': 'PERD', 'in_modelseed': ['PERD'], 'both': {'PERD'}}, 'rxn05231': {'reac_id': 'ADPREDUCT-RXN_c0', 'seed_id': 'rxn05231', 'bigg_ann': ['RNDR1', 'RNDR1n'], 'in_modelseed': ['RIBRB12', 'RNDR1'], 'both': {'RNDR1', 'RIBRB12', 'RNDR1n'}}, 'rxn09200': {'reac_id': 'PSD160', 'seed_id': 'rxn09200', 'bigg_ann': 'PSD160', 'in_modelseed': ['PSD160'], 'both': {'PSD160'}}, 'rxn00283': {'reac_id': 'ALAR', 'seed_id': 'rxn00283', 'bigg_ann': 'ALAR', 'in_modelseed': ['ALAR', 'ALARi'], 'both': {'ALAR', 'ALARi'}}, 'rxn00726': {'reac_id': 'MNXR95844_c0', 'seed_id': 'rxn00726', 'bigg_ann': ['ANS2', 'ATNS_nh4'], 'in_modelseed': ['ANS2'], 'both': {'ANS2', 'ATNS_nh4'}}, 'rxn00379': {'reac_id': 'SULFATE-ADENYLYLTRANS-RXN_c0', 'seed_id': 'rxn00379', 'bigg_ann': ['SADT', 'SADTn'], 'in_modelseed': ['MET3', 'SADT', 'SADT1r'], 'both': {'MET3', 'SADT', 'SADTn', 'SADT1r'}}, 'rxn01025': {'reac_id': 'RXN-14197_c0', 'seed_id': 'rxn01025', 'bigg_ann': 'MISSING', 'in_modelseed': ['MCSNAH1r'], 'both': {'MCSNAH1r'}}, 'rxn08851': {'reac_id': 'MNXR135891_c0', 'seed_id': 'rxn08851', 'bigg_ann': 'MISSING', 'in_modelseed': ['LPLIPAL2G181'], 'both': {'LPLIPAL2G181'}}, 'rxn05330': {'reac_id': 'MNXR94887_c0', 'seed_id': 'rxn05330', 'bigg_ann': ['3HAD60', '3HAD60_1'], 'in_modelseed': ['3HAD60', 'HHYHL2'], 'both': {'HHYHL2', '3HAD60_1', '3HAD60'}}, 'rxn02155': {'reac_id': 'NICONUCADENYLYLTRAN-RXN_c0', 'seed_id': 'rxn02155', 'bigg_ann': ['NNATm', 'NNATn', 'NNATr'], 'in_modelseed': ['NNAT', 'NNATr', 'YLR328W_1'], 'both': {'NNATn', 'YLR328W_1', 'NNATm', 'NNAT', 'NNATr'}}, 'rxn02866': {'reac_id': 'RXN-14264_c0', 'seed_id': 'rxn02866', 'bigg_ann': ['ACOAD8m', 'MBCOAi'], 'in_modelseed': ['MBCOAi'], 'both': {'ACOAD8m', 'MBCOAi'}}, 'rxn09102': {'reac_id': 'MNXR135934_c0', 'seed_id': 'rxn09102', 'bigg_ann': 'MISSING', 'in_modelseed': ['PGPP140pp'], 'both': {'PGPP140pp'}}, 'rxn08552': {'reac_id': 'MNXR135830_c0', 'seed_id': 'rxn08552', 'bigg_ann': 'MISSING', 'in_modelseed': ['G3PAT181'], 'both': {'G3PAT181'}}, 'rxn05170': {'reac_id': '3.6.3.19-RXN_c0', 'seed_id': 'rxn05170', 'bigg_ann': ['MALTabc', 'MALTabcpp'], 'in_modelseed': ['MALTabc'], 'both': {'MALTabcpp', 'MALTabc'}}, 'rxn02475': {'reac_id': 'DHPPDA2', 'seed_id': 'rxn02475', 'bigg_ann': 'MISSING', 'in_modelseed': ['RIB7_1'], 'both': {'RIB7_1'}}, 'rxn00575': {'reac_id': 'MNXR104638_c0', 'seed_id': 'rxn00575', 'bigg_ann': ['SUCR', 'SUCRe'], 'in_modelseed': ['SUC2', 'SUCH', 'SUCR'], 'both': {'SUCH', 'SUC2', 'SUCRe', 'SUCR'}}, 'rxn05339': {'reac_id': 'RXN-9514_c0', 'seed_id': 'rxn05339', 'bigg_ann': 'MISSING', 'in_modelseed': ['HBUR1'], 'both': {'HBUR1'}}, 'rxn03108': {'reac_id': 'PMPK', 'seed_id': 'rxn03108', 'bigg_ann': 'PMPK', 'in_modelseed': ['PMPK', 'THI20_2'], 'both': {'PMPK', 'THI20_2'}}, 'rxn01018': {'reac_id': 'ASPCARBTRANS-RXN_c0', 'seed_id': 'rxn01018', 'bigg_ann': ['ASPCT', 'ASPCT_1', 'ASPCTm', 'ASPCTn'], 'in_modelseed': ['ASPCT', 'ASPCTn', 'URA2_1'], 'both': {'ASPCT_1', 'ASPCT', 'ASPCTm', 'URA2_1', 'ASPCTn'}}, 'rxn05236': {'reac_id': 'MNXR104079_c0', 'seed_id': 'rxn05236', 'bigg_ann': 'RNTR4', 'in_modelseed': ['RNTR4', 'RNTR4b'], 'both': {'RNTR4', 'RNTR4b'}}, 'rxn00914': {'reac_id': 'GUANOSINEKIN-RXN_c0', 'seed_id': 'rxn00914', 'bigg_ann': ['GSNK', 'GSNKm'], 'in_modelseed': ['GSNK', 'U21'], 'both': {'GSNKm', 'U21', 'GSNK'}}, 'rxn08813': {'reac_id': 'MNXR135857_c0', 'seed_id': 'rxn08813', 'bigg_ann': 'MISSING', 'in_modelseed': ['LPLIPAL1G160pp'], 'both': {'LPLIPAL1G160pp'}}, 'rxn05602': {'reac_id': 'TRANS-RXN-104_c0', 'seed_id': 'rxn05602', 'bigg_ann': ['L_LACt2r', 'L_LACt2rpp', 'L_LACtm', 'r2516'], 'in_modelseed': ['L-LACt2', 'L-LACt2r', 'L-LACt4', 'L_LACt2r'], 'both': {'L_LACtm', 'r2516', 'L-LACt2', 'L_LACt2r', 'L_LACt2rpp', 'L-LACt2r', 'L-LACt4'}}, 'rxn00124': {'reac_id': 'PYDXK', 'seed_id': 'rxn00124', 'bigg_ann': 'PYDXK', 'in_modelseed': ['PYDXK', 'U83'], 'both': {'U83', 'PYDXK'}}, 'rxn03990': {'reac_id': 'MNXR134590_c0', 'seed_id': 'rxn03990', 'bigg_ann': 'MISSING', 'in_modelseed': ['NODOx'], 'both': {'NODOx'}}, 'rxn08793': {'reac_id': 'L_LACD3', 'seed_id': 'rxn08793', 'bigg_ann': 'L_LACD3', 'in_modelseed': ['L-LACD3', 'L_LACD3'], 'both': {'L-LACD3', 'L_LACD3'}}, 'rxn00947': {'reac_id': 'RXN-9623_c0', 'seed_id': 'rxn00947', 'bigg_ann': ['FACOAL160', 'FACOAL160p', 'r0311'], 'in_modelseed': ['FAA1_3', 'FAA3_1', 'FAA4_1', 'FACOAL160', 'FAT1_1'], 'both': {'r0311', 'FACOAL160', 'FAT1_1', 'FACOAL160p', 'FAA4_1', 'FAA1_3', 'FAA3_1'}}, 'rxn02971': {'reac_id': 'MNXR101766_c0', 'seed_id': 'rxn02971', 'bigg_ann': 'MISSING', 'in_modelseed': ['CATC'], 'both': {'CATC'}}, 'rxn03247': {'reac_id': 'MNXR97888_c0', 'seed_id': 'rxn03247', 'bigg_ann': ['ECOAH3', 'ECOAH3_1', 'ECOAH3m'], 'in_modelseed': ['ECOAH3'], 'both': {'ECOAH3m', 'ECOAH3_1', 'ECOAH3'}}, 'rxn01476': {'reac_id': '6PGLUCONOLACT-RXN_c0', 'seed_id': 'rxn01476', 'bigg_ann': ['PGL', 'PGLer', 'PGLh'], 'in_modelseed': ['PGL', 'SOL1', 'SOL2', 'SOL3', 'SOL4'], 'both': {'SOL3', 'SOL2', 'PGLh', 'PGLer', 'SOL1', 'SOL4', 'PGL'}}, 'rxn00205': {'reac_id': 'GLUTATHIONE-PEROXIDASE-RXN_c0', 'seed_id': 'rxn00205', 'bigg_ann': ['GTHPe', 'GTHPe_1', 'GTHPi', 'GTHPm'], 'in_modelseed': ['GPX1', 'GPX2', 'GSHPO', 'GTHP', 'GTHPe', 'HYR1'], 'both': {'GTHPe', 'GPX1', 'GTHPi', 'GSHPO', 'GTHP', 'GPX2', 'HYR1', 'GTHPm', 'GTHPe_1'}}, 'rxn03146': {'reac_id': 'UHGADA', 'seed_id': 'rxn03146', 'bigg_ann': 'UHGADA', 'in_modelseed': ['UHGADA'], 'both': {'UHGADA'}}, 'rxn03893': {'reac_id': 'HBZOPT', 'seed_id': 'rxn03893', 'bigg_ann': 'HBZOPT', 'in_modelseed': ['HBZOPT'], 'both': {'HBZOPT'}}, 'rxn02789': {'reac_id': '3-ISOPROPYLMALISOM-RXN_c0', 'seed_id': 'rxn02789', 'bigg_ann': ['IMDHT', 'IPPMIb'], 'in_modelseed': ['IPPMIb', 'LEU1_2'], 'both': {'IMDHT', 'LEU1_2', 'IPPMIb'}}, 'rxn07099': {'reac_id': 'MNXR135494_c0', 'seed_id': 'rxn07099', 'bigg_ann': 'MISSING', 'in_modelseed': ['BLACT'], 'both': {'BLACT'}}, 'rxn00988': {'reac_id': 'ACETOACETATE--COA-LIGASE-RXN_c0', 'seed_id': 'rxn00988', 'bigg_ann': ['AACOAT', 'r0321'], 'in_modelseed': ['ACAC'], 'both': {'r0321', 'AACOAT', 'ACAC'}}, 'rxn00410': {'reac_id': 'RXN-14325_c0', 'seed_id': 'rxn00410', 'bigg_ann': 'MISSING', 'in_modelseed': ['URA7_2', 'URA8_2'], 'both': {'URA7_2', 'URA8_2'}}, 'rxn03063': {'reac_id': 'RXN3O-178_c0', 'seed_id': 'rxn03063', 'bigg_ann': 'SAM24MT', 'in_modelseed': ['ERG6', 'SAM24MT'], 'both': {'ERG6', 'SAM24MT'}}, 'rxn12510': {'reac_id': 'PANTOTHENATE-KIN-RXN_c0', 'seed_id': 'rxn12510', 'bigg_ann': ['PNTK', 'PNTKm'], 'in_modelseed': ['PNTK', 'YDR531W'], 'both': {'PNTKm', 'PNTK', 'YDR531W'}}, 'rxn03933': {'reac_id': 'RXN-8976_c0', 'seed_id': 'rxn03933', 'bigg_ann': 'UAGPT2', 'in_modelseed': ['UAGPT2'], 'both': {'UAGPT2'}}, 'rxn05342': {'reac_id': 'RXN-9536_c0', 'seed_id': 'rxn05342', 'bigg_ann': ['3OAR140', '3OAR140_1'], 'in_modelseed': ['3OAR140', 'HTDR6'], 'both': {'3OAR140_1', 'HTDR6', '3OAR140'}}, 'rxn05146': {'reac_id': 'ABC-13-RXN_c0', 'seed_id': 'rxn05146', 'bigg_ann': ['GLUabc', 'GLUabcpp'], 'in_modelseed': ['GLUabc'], 'both': {'GLUabcpp', 'GLUabc'}}, 'rxn00414': {'reac_id': 'CARBPSYN-RXN_c0', 'seed_id': 'rxn00414', 'bigg_ann': ['CBPS', 'CBPSn', 'HCGALm'], 'in_modelseed': ['CBPS', 'CBPSn'], 'both': {'CBPS', 'CBPSn', 'HCGALm'}}, 'rxn09110': {'reac_id': 'MNXR135939_c0', 'seed_id': 'rxn09110', 'bigg_ann': 'MISSING', 'in_modelseed': ['PGSA141'], 'both': {'PGSA141'}}, 'rxn03970': {'reac_id': 'MNXR96813_c0', 'seed_id': 'rxn03970', 'bigg_ann': 'COALDDH', 'in_modelseed': ['COALDDH', 'CONFALDD'], 'both': {'CONFALDD', 'COALDDH'}}, 'rxn00159': {'reac_id': '1.1.1.39-RXN_c0', 'seed_id': 'rxn00159', 'bigg_ann': ['ME1', 'ME1m'], 'in_modelseed': ['ME1', 'ME1_rev', 'ME1x'], 'both': {'ME1_rev', 'ME1x', 'ME1', 'ME1m'}}, 'rxn05349': {'reac_id': 'ACP-S-ACETYLTRANSFER-RXN_c0', 'seed_id': 'rxn05349', 'bigg_ann': ['ACOATA', 'ACOATA_1', 'ACOATAm'], 'in_modelseed': ['ACOATA', 'FAS1_s'], 'both': {'ACOATA', 'ACOATAm', 'ACOATA_1', 'FAS1_s'}}, 'rxn00303': {'reac_id': 'GTPPYPHOSKIN-RXN_c0', 'seed_id': 'rxn00303', 'bigg_ann': ['GTPDPK', 'GTPDPK_1'], 'in_modelseed': ['GTPDPK'], 'both': {'GTPDPK', 'GTPDPK_1'}}, 'rxn00799': {'reac_id': 'FUMHYDR-RXN_c0', 'seed_id': 'rxn00799', 'bigg_ann': ['FUM', 'FUMm'], 'in_modelseed': ['FUM', 'FUM1_2'], 'both': {'FUM1_2', 'FUMm', 'FUM'}}, 'rxn01073': {'reac_id': 'RXN-14160_c0', 'seed_id': 'rxn01073', 'bigg_ann': ['GPDDA2', 'GPDDA2pp'], 'in_modelseed': ['GPDDA2'], 'both': {'GPDDA2', 'GPDDA2pp'}}, 'rxn02405': {'reac_id': 'MNXR108111_c0', 'seed_id': 'rxn02405', 'bigg_ann': 'MISSING', 'in_modelseed': ['DMOCT', 'KDOCT', 'KDOCT2'], 'both': {'DMOCT', 'KDOCT', 'KDOCT2'}}, 'rxn01986': {'reac_id': 'PPM2', 'seed_id': 'rxn01986', 'bigg_ann': 'PPM2', 'in_modelseed': ['PPM2'], 'both': {'PPM2'}}, 'rxn02200': {'reac_id': 'RXN-14226_c0', 'seed_id': 'rxn02200', 'bigg_ann': 'MISSING', 'in_modelseed': ['DHPS'], 'both': {'DHPS'}}, 'rxn01069': {'reac_id': 'THRESYN-RXN_c0', 'seed_id': 'rxn01069', 'bigg_ann': ['THRS', 'THRS_1'], 'in_modelseed': ['THR4_1', 'THRS'], 'both': {'THR4_1', 'THRS', 'THRS_1'}}, 'rxn05528': {'reac_id': '3.6.3.4-RXN_c0', 'seed_id': 'rxn05528', 'bigg_ann': ['CU2abcpp', 'CU2abcu_syn', 'Cut1'], 'in_modelseed': ['Cut1'], 'both': {'CU2abcu_syn', 'CU2abcpp', 'Cut1'}}, 'rxn00791': {'reac_id': 'PRTRANS-RXN_c0', 'seed_id': 'rxn00791', 'bigg_ann': ['ANPRT', 'ANTPPT'], 'in_modelseed': ['ANPRT', 'TRP4'], 'both': {'ANTPPT', 'ANPRT', 'TRP4'}}, 'rxn03150': {'reac_id': 'RZ5PP', 'seed_id': 'rxn03150', 'bigg_ann': 'RZ5PP', 'in_modelseed': ['RBZP', 'RZ5PP'], 'both': {'RZ5PP', 'RBZP'}}, 'rxn00065': {'reac_id': 'ADENYLATECYC-RXN_c0', 'seed_id': 'rxn00065', 'bigg_ann': ['ADECn', 'ADNCYC'], 'in_modelseed': ['ADNCYC', 'CYR1'], 'both': {'ADNCYC', 'CYR1', 'ADECn'}}, 'rxn00365': {'reac_id': 'CYTIKIN-RXN_c0', 'seed_id': 'rxn00365', 'bigg_ann': ['CYTDK1', 'CYTDK2m'], 'in_modelseed': ['CYTDK1'], 'both': {'CYTDK2m', 'CYTDK1'}}, 'rxn08783': {'reac_id': 'LDH_D2', 'seed_id': 'rxn08783', 'bigg_ann': 'LDH_D2', 'in_modelseed': ['LDH_D2'], 'both': {'LDH_D2'}}, 'rxn01827': {'reac_id': '4-HYDROXYPHENYLPYRUVATE-DIOXYGENASE-RXN_c0', 'seed_id': 'rxn01827', 'bigg_ann': '34HPPOR', 'in_modelseed': ['34HPPOR', 'HPPDO1', 'U57'], 'both': {'U57', 'HPPDO1', '34HPPOR'}}, 'rxn00358': {'reac_id': 'UDPGALM', 'seed_id': 'rxn00358', 'bigg_ann': 'UDPGALM', 'in_modelseed': ['UDPGALM'], 'both': {'UDPGALM'}}, 'rxn02321': {'reac_id': 'X5PL3E', 'seed_id': 'rxn02321', 'bigg_ann': 'X5PL3E', 'in_modelseed': ['X5PL3E'], 'both': {'X5PL3E'}}, 'rxn02263': {'reac_id': 'MNXR107994_c0', 'seed_id': 'rxn02263', 'bigg_ann': 'MISSING', 'in_modelseed': ['FCI'], 'both': {'FCI'}}, 'rxn05181': {'reac_id': 'TRANS-RXN-283_c0', 'seed_id': 'rxn05181', 'bigg_ann': ['GLYBabc', 'GLYBabcpp'], 'in_modelseed': ['GLYBabc'], 'both': {'GLYBabcpp', 'GLYBabc'}}, 'rxn05312': {'reac_id': 'TRANS-RXN-114_c0', 'seed_id': 'rxn05312', 'bigg_ann': ['PIt2m', 'PIt2n', 'PIt2p', 'PIt2r', 'PIt2rpp', 'PIt2v', 'PItf'], 'in_modelseed': ['PHO84', 'PHO90', 'PHO91', 'PIt2r', 'PIt6', 'PIt6i'], 'both': {'PIt2v', 'PItf', 'PHO84', 'PHO91', 'PIt2n', 'PIt2rpp', 'PIt6', 'PIt2p', 'PHO90', 'PIt2r', 'PIt6i', 'PIt2m'}}, 'rxn08975': {'reac_id': 'MNXR101872_c0', 'seed_id': 'rxn08975', 'bigg_ann': ['NADH5', 'NADHOR'], 'in_modelseed': ['NADH12', 'NADH5'], 'both': {'NADHOR', 'NADH12', 'NADH5'}}, 'rxn01646': {'reac_id': 'RXN0-7092_c0', 'seed_id': 'rxn01646', 'bigg_ann': 'PNP', 'in_modelseed': ['PNP', 'RIOR'], 'both': {'PNP', 'RIOR'}}, 'rxn00105': {'reac_id': '2.7.7.1-RXN_c0', 'seed_id': 'rxn00105', 'bigg_ann': ['ANNAT', 'ANNATn', 'NMNAT', 'NMNATm', 'NMNATn'], 'in_modelseed': ['NMNAT', 'NMNATr'], 'both': {'NMNATn', 'ANNATn', 'NMNAT', 'ANNAT', 'NMNATr', 'NMNATm'}}, 'rxn03243': {'reac_id': 'RXN-14274_c0', 'seed_id': 'rxn03243', 'bigg_ann': 'MISSING', 'in_modelseed': ['ACACT5r', 'KAT5'], 'both': {'KAT5', 'ACACT5r'}}, 'rxn03446': {'reac_id': '4HTHRS', 'seed_id': 'rxn03446', 'bigg_ann': '4HTHRS', 'in_modelseed': ['4HTHRS', 'THR4_2'], 'both': {'4HTHRS', 'THR4_2'}}, 'rxn01302': {'reac_id': 'MNXR100734_c0', 'seed_id': 'rxn01302', 'bigg_ann': ['HSDH', 'HSDy', 'HSDyi'], 'in_modelseed': ['HOM6_2', 'HSDy', 'HSDyi'], 'both': {'HSDyi', 'HSDy', 'HSDH', 'HOM6_2'}}, 'rxn00607': {'reac_id': 'MALTOSE-6-PHOSPHATE-GLUCOSIDASE-RXN_c0', 'seed_id': 'rxn00607', 'bigg_ann': 'MAL6PG', 'in_modelseed': ['MAL6PG'], 'both': {'MAL6PG'}}, 'rxn00101': {'reac_id': 'UREASE-RXN_c0', 'seed_id': 'rxn00101', 'bigg_ann': 'MISSING', 'in_modelseed': ['UREA2'], 'both': {'UREA2'}}, 'rxn02130': {'reac_id': '3.5.1.92-RXN_c0', 'seed_id': 'rxn02130', 'bigg_ann': ['PNTEH', 'PNTEHe'], 'in_modelseed': ['PNTEH'], 'both': {'PNTEHe', 'PNTEH'}}, 'rxn00223': {'reac_id': 'GLUCISOM-RXN_c0', 'seed_id': 'rxn00223', 'bigg_ann': ['XYLI2', 'XYLI2i'], 'in_modelseed': ['XYLI2', 'XYLI2i'], 'both': {'XYLI2i', 'XYLI2'}}, 'rxn05215': {'reac_id': 'TRANS-RXN-125_c0', 'seed_id': 'rxn05215', 'bigg_ann': ['ALANA1tm', 'ALANA1tx', 'ALAt4', 'ALAt4pp'], 'in_modelseed': ['ALAt4', 'ALAt4r', 'ALAt7'], 'both': {'ALAt4r', 'ALAt4', 'ALANA1tx', 'ALANA1tm', 'ALAt4pp', 'ALAt7'}}, 'rxn00784': {'reac_id': 'DRPA', 'seed_id': 'rxn00784', 'bigg_ann': 'DRPA', 'in_modelseed': ['DRPA', 'DRPAr'], 'both': {'DRPAr', 'DRPA'}}, 'rxn05029': {'reac_id': 'MNXR134792_c0', 'seed_id': 'rxn05029', 'bigg_ann': 'MISSING', 'in_modelseed': ['CBIAT', 'CBIAT2'], 'both': {'CBIAT2', 'CBIAT'}}, 'rxn01537': {'reac_id': 'THIAMINASE-RXN_c0', 'seed_id': 'rxn01537', 'bigg_ann': 'TMN', 'in_modelseed': ['TMN'], 'both': {'TMN'}}, 'rxn00510': {'reac_id': '1.5.1.7-RXN_c0', 'seed_id': 'rxn00510', 'bigg_ann': 'SACCD2', 'in_modelseed': ['LYS1', 'SACCD2'], 'both': {'LYS1', 'SACCD2'}}, 'rxn00328': {'reac_id': '4OH2OXOGLUTARALDOL-RXN_c0', 'seed_id': 'rxn00328', 'bigg_ann': ['DDPGA', 'DDPGAm'], 'in_modelseed': ['DDPGA'], 'both': {'DDPGA', 'DDPGAm'}}, 'rxn02285': {'reac_id': 'UAPGR', 'seed_id': 'rxn02285', 'bigg_ann': 'UAPGR', 'in_modelseed': ['UAPGR'], 'both': {'UAPGR'}}, 'rxn02303': {'reac_id': 'CPPPGO', 'seed_id': 'rxn02303', 'bigg_ann': 'CPPPGO', 'in_modelseed': ['CPPPGO'], 'both': {'CPPPGO'}}, 'rxn03087': {'reac_id': 'SUCCINYLDIAMINOPIMTRANS-RXN_c0', 'seed_id': 'rxn03087', 'bigg_ann': ['SDPTA', 'SDPTAi'], 'in_modelseed': ['SDPTA'], 'both': {'SDPTAi', 'SDPTA'}}, 'rxn00227': {'reac_id': 'MNXR95427_c0', 'seed_id': 'rxn00227', 'bigg_ann': ['ACYP_2', 'APhi'], 'in_modelseed': ['ACYP_2'], 'both': {'APhi', 'ACYP_2'}}, 'rxn02889': {'reac_id': 'METHYLCROTONYL-COA-CARBOXYLASE-RXN_c0', 'seed_id': 'rxn02889', 'bigg_ann': ['MCCC', 'MCCCrm', 'MCTC'], 'in_modelseed': ['MCCC', 'MCCc'], 'both': {'MCTC', 'MCCC', 'MCCCrm', 'MCCc'}}, 'rxn05663': {'reac_id': 'TRANS-RXN-76_c0', 'seed_id': 'rxn05663', 'bigg_ann': ['TRPt2m', 'TRPt2r', 'TRPt2rpp', 'TRPth'], 'in_modelseed': ['BAP2_6', 'BAP3_6', 'GAP1_15', 'TAT1_3', 'TAT2_5', 'TRPt2', 'TRPt2r', 'TRPt6', 'VAP1_5'], 'both': {'TRPth', 'GAP1_15', 'VAP1_5', 'TRPt2', 'BAP3_6', 'TRPt6', 'BAP2_6', 'TRPt2m', 'TAT2_5', 'TAT1_3', 'TRPt2r', 'TRPt2rpp'}}, 'rxn08848': {'reac_id': 'MNXR135888_c0', 'seed_id': 'rxn08848', 'bigg_ann': 'MISSING', 'in_modelseed': ['LPLIPAL2G160'], 'both': {'LPLIPAL2G160'}}, 'rxn00691': {'reac_id': 'FTHFD', 'seed_id': 'rxn00691', 'bigg_ann': 'FTHFD', 'in_modelseed': ['FTHFD'], 'both': {'FTHFD'}}, 'rxn08840': {'reac_id': 'MNXR135882_c0', 'seed_id': 'rxn08840', 'bigg_ann': 'MISSING', 'in_modelseed': ['LPLIPAL2E141'], 'both': {'LPLIPAL2E141'}}, 'rxn05559': {'reac_id': 'MNXR99621_c0', 'seed_id': 'rxn05559', 'bigg_ann': ['FORt2', 'FORt2pp', 'FORthi', 'FORti_1', 'FORtmi', 'FORtxi'], 'in_modelseed': ['FORt2'], 'both': {'FORtmi', 'FORthi', 'FORt2', 'FORti_1', 'FORt2pp', 'FORtxi'}}, 'rxn03907': {'reac_id': '2.7.7.60-RXN_c0', 'seed_id': 'rxn03907', 'bigg_ann': ['CMS', 'MEPCT'], 'in_modelseed': ['MEPCT'], 'both': {'MEPCT', 'CMS'}}, 'rxn01987': {'reac_id': 'MNXR97781_c0', 'seed_id': 'rxn01987', 'bigg_ann': 'DRBK', 'in_modelseed': ['DRBK', 'DRBKr', 'RBK1_2'], 'both': {'DRBK', 'DRBKr', 'RBK1_2'}}, 'rxn03538': {'reac_id': 'ADOCBLS', 'seed_id': 'rxn03538', 'bigg_ann': 'ADOCBLS', 'in_modelseed': ['ADOCBLS', 'COBPS'], 'both': {'ADOCBLS', 'COBPS'}}, 'rxn09310': {'reac_id': 'MNXR104858_c0', 'seed_id': 'rxn09310', 'bigg_ann': 'THZPSN', 'in_modelseed': ['THZPSN'], 'both': {'THZPSN'}}, 'rxn02834': {'reac_id': 'HISTPRATPHYD-RXN_c0', 'seed_id': 'rxn02834', 'bigg_ann': ['PRADPh', 'PRATPP'], 'in_modelseed': ['HIS4_1', 'PRATPP'], 'both': {'HIS4_1', 'PRATPP', 'PRADPh'}}, 'rxn01213': {'reac_id': 'GPPSYN-RXN_c0', 'seed_id': 'rxn01213', 'bigg_ann': ['DMATT', 'DMATTx', 'GPPSh'], 'in_modelseed': ['DMATT'], 'both': {'DMATTx', 'GPPSh', 'DMATT'}}, 'rxn00459': {'reac_id': '2PGADEHYDRAT-RXN_c0', 'seed_id': 'rxn00459', 'bigg_ann': ['ENO', 'ENOf', 'ENOm'], 'in_modelseed': ['ENO', 'ENO1', 'ENO2', 'ERR1_1', 'ERR1_2', 'ERR2'], 'both': {'ERR1_1', 'ENOm', 'ERR1_2', 'ERR2', 'ENO2', 'ENO', 'ENOf', 'ENO1'}}, 'rxn02085': {'reac_id': 'UROCANATE-HYDRATASE-RXN_c0', 'seed_id': 'rxn02085', 'bigg_ann': ['URCN', 'URCN_1', 'UROCANH'], 'in_modelseed': ['URCN'], 'both': {'URCN_1', 'UROCANH', 'URCN'}}, 'rxn05153': {'reac_id': '3.6.3.25-RXN_c0', 'seed_id': 'rxn05153', 'bigg_ann': ['SULabc', 'SULabcpp'], 'in_modelseed': ['SULabc'], 'both': {'SULabc', 'SULabcpp'}}, 'rxn01314': {'reac_id': 'MNXR107173_c0', 'seed_id': 'rxn01314', 'bigg_ann': 'MISSING', 'in_modelseed': ['HPDOAi'], 'both': {'HPDOAi'}}, 'rxn02318': {'reac_id': 'LACTOSE-6-PHOSPHATE-ISOMERASE-RXN_c0', 'seed_id': 'rxn02318', 'bigg_ann': 'MISSING', 'in_modelseed': ['GAL6PI'], 'both': {'GAL6PI'}}, 'rxn08806': {'reac_id': 'MNXR135850_c0', 'seed_id': 'rxn08806', 'bigg_ann': 'MISSING', 'in_modelseed': ['LPLIPAL1E160pp'], 'both': {'LPLIPAL1E160pp'}}, 'rxn05195': {'reac_id': '3.6.3.30-RXN_c0', 'seed_id': 'rxn05195', 'bigg_ann': ['FE3abc', 'FE3abcpp'], 'in_modelseed': ['FE3abc'], 'both': {'FE3abcpp', 'FE3abc'}}, 'rxn05209': {'reac_id': 'TRANS-RXN-101_c0', 'seed_id': 'rxn05209', 'bigg_ann': ['NA1Hth', 'NA1Htm', 'NAt3_1', 'NAt3_1g', 'NAt3pp'], 'in_modelseed': ['NAt3', 'NAt3_1', 'NAt7', 'NHA1'], 'both': {'NAt3pp', 'NAt3_1g', 'NAt7', 'NAt3', 'NHA1', 'NA1Htm', 'NA1Hth', 'NAt3_1'}}, 'rxn06377': {'reac_id': 'MNXR100067_c0', 'seed_id': 'rxn06377', 'bigg_ann': ['GCCa', 'GCCam', 'GLYDHD'], 'in_modelseed': ['GCCa'], 'both': {'GLYDHD', 'GCCa', 'GCCam'}}, 'rxn00175': {'reac_id': 'ACETATE--COA-LIGASE-RXN_c0', 'seed_id': 'rxn00175', 'bigg_ann': ['ACS', 'ACSm', 'ACSp'], 'in_modelseed': ['ACS', 'ACS1', 'ACSr'], 'both': {'ACS1', 'ACSm', 'ACSr', 'ACS', 'ACSp'}}, 'rxn00427': {'reac_id': 'RXN-14189_c0', 'seed_id': 'rxn00427', 'bigg_ann': ['PRDX', 'PRDXl'], 'in_modelseed': ['PRDX'], 'both': {'PRDXl', 'PRDX'}}, 'rxn01366': {'reac_id': 'PYNP2r', 'seed_id': 'rxn01366', 'bigg_ann': 'PYNP2r', 'in_modelseed': ['PYNP2', 'PYNP2r', 'U22'], 'both': {'PYNP2r', 'U22', 'PYNP2'}}, 'rxn10121': {'reac_id': 'MNXR101988_c0', 'seed_id': 'rxn10121', 'bigg_ann': ['NO3R2', 'NO3R2pp'], 'in_modelseed': ['NO3R2'], 'both': {'NO3R2pp', 'NO3R2'}}, 'rxn01208': {'reac_id': 'RXN-7800_c0', 'seed_id': 'rxn01208', 'bigg_ann': ['OMCDC', 'OMCDCm'], 'in_modelseed': ['OMCDC'], 'both': {'OMCDCm', 'OMCDC'}}, 'rxn05165': {'reac_id': 'ABC-26-RXN_c0', 'seed_id': 'rxn05165', 'bigg_ann': ['PROabc', 'PROabcpp'], 'in_modelseed': ['PROabc'], 'both': {'PROabc', 'PROabcpp'}}, 'rxn10163': {'reac_id': 'MNXR136192_c0', 'seed_id': 'rxn10163', 'bigg_ann': 'MISSING', 'in_modelseed': ['TTDCAt2'], 'both': {'TTDCAt2'}}, 'rxn01143': {'reac_id': 'THYKI-RXN_c0', 'seed_id': 'rxn01143', 'bigg_ann': ['TMDK1', 'TMDK1m'], 'in_modelseed': ['TMDK1', 'U16'], 'both': {'TMDK1', 'U16', 'TMDK1m'}}, 'rxn10474': {'reac_id': 'TRANS-RXN-141A_c0', 'seed_id': 'rxn10474', 'bigg_ann': ['COBALT2tex', 'COBALT2tpp', 'COBALTt5'], 'in_modelseed': ['COBALTt5', 'COBALTt5i'], 'both': {'COBALT2tpp', 'COBALTt5i', 'COBALT2tex', 'COBALTt5'}}, 'rxn00260': {'reac_id': 'ASPAMINOTRANS-RXN_c0', 'seed_id': 'rxn00260', 'bigg_ann': ['ASPATh', 'ASPTA', 'ASPTAm', 'ASPTAp'], 'in_modelseed': ['AAT2_1', 'ASPTA', 'ASPTA1', 'ASPTA1r'], 'both': {'ASPTAm', 'ASPTA1r', 'ASPTA1', 'ASPTA', 'AAT2_1', 'ASPATh', 'ASPTAp'}}, 'rxn10128': {'reac_id': 'MNXR136001_c0', 'seed_id': 'rxn10128', 'bigg_ann': 'MISSING', 'in_modelseed': ['TMAOR2e'], 'both': {'TMAOR2e'}}, 'rxn10120': {'reac_id': 'MNXR101986_c0', 'seed_id': 'rxn10120', 'bigg_ann': ['NO3R1', 'NO3R1pp'], 'in_modelseed': ['NO3R1'], 'both': {'NO3R1pp', 'NO3R1'}}, 'rxn00461': {'reac_id': 'UAGCVT', 'seed_id': 'rxn00461', 'bigg_ann': 'UAGCVT', 'in_modelseed': ['UAGCVT'], 'both': {'UAGCVT'}}, 'rxn05613': {'reac_id': 'RXN0-7185_c0', 'seed_id': 'rxn05613', 'bigg_ann': ['METSOX1abcpp', 'METSOX2abcpp', 'METSabc'], 'in_modelseed': ['METSabc'], 'both': {'METSabc', 'METSOX1abcpp', 'METSOX2abcpp'}}, 'rxn06037': {'reac_id': 'OHACYL-COA-DEHYDROG-RXN_c0', 'seed_id': 'rxn06037', 'bigg_ann': 'HACDp', 'in_modelseed': ['HACDp'], 'both': {'HACDp'}}, 'rxn00817': {'reac_id': 'ALPHAGALACTOSID-RXN_c0', 'seed_id': 'rxn00817', 'bigg_ann': ['DGGH', 'GALS3', 'MGHB'], 'in_modelseed': ['DGGH', 'FSP2_2', 'GALS3', 'YBR184W_1', 'YBR184W_2'], 'both': {'GALS3', 'DGGH', 'YBR184W_1', 'YBR184W_2', 'FSP2_2', 'MGHB'}}, 'rxn00669': {'reac_id': 'PROPANOATECOA-LIGASE-RXN_c0', 'seed_id': 'rxn00669', 'bigg_ann': 'MISSING', 'in_modelseed': ['ACCOAL', 'ACCOAL2r'], 'both': {'ACCOAL2r', 'ACCOAL'}}, 'rxn00858': {'reac_id': 'AGMATIN-RXN_c0', 'seed_id': 'rxn00858', 'bigg_ann': ['AGMT', 'AGMTm'], 'in_modelseed': ['AGMT'], 'both': {'AGMT', 'AGMTm'}}, 'rxn03136': {'reac_id': 'ADSL2r', 'seed_id': 'rxn03136', 'bigg_ann': 'ADSL2r', 'in_modelseed': ['ADE13_1', 'ADSL2', 'ADSL2r'], 'both': {'ADE13_1', 'ADSL2', 'ADSL2r'}}, 'rxn05287': {'reac_id': 'RXN-8813_c0', 'seed_id': 'rxn05287', 'bigg_ann': 'GGTT', 'in_modelseed': ['GGTT'], 'both': {'GGTT'}}, 'rxn01387': {'reac_id': 'MNXR105340_c0', 'seed_id': 'rxn01387', 'bigg_ann': ['r0422', 'r0423', 'r0424'], 'in_modelseed': ['IDP2_1', 'IDP3_1'], 'both': {'r0424', 'r0423', 'IDP3_1', 'IDP2_1', 'r0422'}}, 'rxn00818': {'reac_id': 'RXN-11502_c0', 'seed_id': 'rxn00818', 'bigg_ann': ['RAFGH', 'RGH'], 'in_modelseed': ['RAFGH', 'YBR184W_3'], 'both': {'YBR184W_3', 'RGH', 'RAFGH'}}, 'rxn09101': {'reac_id': 'MNXR135933_c0', 'seed_id': 'rxn09101', 'bigg_ann': 'MISSING', 'in_modelseed': ['PGPP120pp'], 'both': {'PGPP120pp'}}, 'rxn02937': {'reac_id': 'AIRS-RXN_c0', 'seed_id': 'rxn02937', 'bigg_ann': 'MISSING', 'in_modelseed': ['ADE5_7_2', 'PRAIS'], 'both': {'PRAIS', 'ADE5_7_2'}}, 'rxn08088': {'reac_id': 'MNXR135728_c0', 'seed_id': 'rxn08088', 'bigg_ann': 'MISSING', 'in_modelseed': ['AGPAT180'], 'both': {'AGPAT180'}}, 'rxn00540': {'reac_id': 'MNXR100679_c0', 'seed_id': 'rxn00540', 'bigg_ann': ['HOPNTAL', 'HOPNTAL3'], 'in_modelseed': ['HOPNTAL', 'HOPNTAL3'], 'both': {'HOPNTAL', 'HOPNTAL3'}}, 'rxn08810': {'reac_id': 'MNXR135854_c0', 'seed_id': 'rxn08810', 'bigg_ann': 'MISSING', 'in_modelseed': ['LPLIPAL1G120pp'], 'both': {'LPLIPAL1G120pp'}}, 'rxn01652': {'reac_id': 'MNXR99614_c0', 'seed_id': 'rxn01652', 'bigg_ann': ['FOMETRi', 'MTAM', 'THFAT', 'THFATm'], 'in_modelseed': ['FOMETR'], 'both': {'MTAM', 'FOMETRi', 'THFATm', 'THFAT', 'FOMETR'}}, 'rxn03541': {'reac_id': 'R346-RXN_c0', 'seed_id': 'rxn03541', 'bigg_ann': 'MISSING', 'in_modelseed': ['ADCOBASr'], 'both': {'ADCOBASr'}}, 'rxn00350': {'reac_id': 'RXN-12618_c0', 'seed_id': 'rxn00350', 'bigg_ann': ['GGTAe2', 'GTHRDH_syn', 'GTHRDHpp'], 'in_modelseed': ['GGTAe2'], 'both': {'GTHRDHpp', 'GGTAe2', 'GTHRDH_syn'}}, 'rxn03137': {'reac_id': 'AICART', 'seed_id': 'rxn03137', 'bigg_ann': 'AICART', 'in_modelseed': ['ADE16_1', 'ADE17_1', 'AICART'], 'both': {'ADE17_1', 'ADE16_1', 'AICART'}}, 'rxn05544': {'reac_id': 'MNXR97477_c0', 'seed_id': 'rxn05544', 'bigg_ann': 'DIPEPabc6', 'in_modelseed': ['DIPEPabc6'], 'both': {'DIPEPabc6'}}, 'rxn08087': {'reac_id': 'MNXR135727_c0', 'seed_id': 'rxn08087', 'bigg_ann': 'MISSING', 'in_modelseed': ['AGPAT161'], 'both': {'AGPAT161'}}, 'rxn01437': {'reac_id': 'ARYLFORMAMIDASE-RXN_c0', 'seed_id': 'rxn01437', 'bigg_ann': 'FKYNH', 'in_modelseed': ['FKYNH', 'U53'], 'both': {'U53', 'FKYNH'}}, 'rxn01115': {'reac_id': 'RXN-9952_c0', 'seed_id': 'rxn01115', 'bigg_ann': ['GND', 'GNDer', 'PGDHh'], 'in_modelseed': ['GND', 'GND1', 'GND2', 'PGDH', 'PGDHr'], 'both': {'GND', 'GNDer', 'PGDH', 'GND2', 'GND1', 'PGDHr', 'PGDHh'}}, 'rxn08818': {'reac_id': 'MNXR135862_c0', 'seed_id': 'rxn08818', 'bigg_ann': 'MISSING', 'in_modelseed': ['LPLIPAL2A140'], 'both': {'LPLIPAL2A140'}}, 'rxn00992': {'reac_id': '3-HYDROXYBUTYRATE-DEHYDROGENASE-RXN_c0', 'seed_id': 'rxn00992', 'bigg_ann': ['BDH', 'BDHm', 'HBNOx'], 'in_modelseed': ['3HBUTDH', 'BDH'], 'both': {'3HBUTDH', 'BDHm', 'BDH', 'HBNOx'}}, 'rxn05239': {'reac_id': 'PAPSR', 'seed_id': 'rxn05239', 'bigg_ann': 'PAPSR', 'in_modelseed': ['PAPR', 'PAPSR', 'PASR'], 'both': {'PAPR', 'PASR', 'PAPSR'}}, 'rxn08312': {'reac_id': 'DASYN181', 'seed_id': 'rxn08312', 'bigg_ann': 'DASYN181', 'in_modelseed': ['DASYN181'], 'both': {'DASYN181'}}, 'rxn00952': {'reac_id': 'ACETYLHOMOSER-CYS-RXN_c0', 'seed_id': 'rxn00952', 'bigg_ann': ['AHHST', 'AHSERL2'], 'in_modelseed': ['AHSERL2', 'MET17_2', 'MET17_3', 'METACH'], 'both': {'AHHST', 'AHSERL2', 'MET17_3', 'MET17_2', 'METACH'}}, 'rxn01396': {'reac_id': 'PYDXNK', 'seed_id': 'rxn01396', 'bigg_ann': 'PYDXNK', 'in_modelseed': ['PYDXNK', 'U81'], 'both': {'PYDXNK', 'U81'}}, 'rxn00161': {'reac_id': 'MALIC-NADP-RXN_c0', 'seed_id': 'rxn00161', 'bigg_ann': ['MDHC_nadp_hr', 'ME2', 'ME2m'], 'in_modelseed': ['ME2'], 'both': {'ME2', 'ME2m', 'MDHC_nadp_hr'}}, 'rxn01961': {'reac_id': 'XMPXAN-RXN_c0', 'seed_id': 'rxn01961', 'bigg_ann': ['NTD10', 'NTD10pp'], 'in_modelseed': ['NTD10', 'U33'], 'both': {'U33', 'NTD10pp', 'NTD10'}}, 'rxn01517': {'reac_id': 'RXN-14122_c0', 'seed_id': 'rxn01517', 'bigg_ann': ['URIDK2m', 'URIDK2r', 'URIDK2rn'], 'in_modelseed': ['URA6_3', 'URIDK2', 'URIDK2r', 'URIDK3'], 'both': {'URIDK3', 'URIDK2m', 'URIDK2', 'URIDK2rn', 'URA6_3', 'URIDK2r'}}, 'rxn00371': {'reac_id': '1.2.1.2-RXN_c0', 'seed_id': 'rxn00371', 'bigg_ann': 'FDH', 'in_modelseed': ['FDH', 'FDH1', 'FDHr', 'YPL275W', 'YPL276W'], 'both': {'FDH1', 'YPL276W', 'YPL275W', 'FDH', 'FDHr'}}, 'rxn08040': {'reac_id': 'ACGAMT', 'seed_id': 'rxn08040', 'bigg_ann': 'ACGAMT', 'in_modelseed': ['ACGAMT', 'GLCNACPPUNDs'], 'both': {'ACGAMT', 'GLCNACPPUNDs'}}, 'rxn09211': {'reac_id': 'MNXR135989_c0', 'seed_id': 'rxn09211', 'bigg_ann': 'MISSING', 'in_modelseed': ['PSSA181'], 'both': {'PSSA181'}}, 'rxn01807': {'reac_id': 'PYDAMK', 'seed_id': 'rxn01807', 'bigg_ann': 'PYDAMK', 'in_modelseed': ['PYDAMK', 'U82'], 'both': {'PYDAMK', 'U82'}}, 'rxn05331': {'reac_id': 'MNXR94877_c0', 'seed_id': 'rxn05331', 'bigg_ann': ['3HAD120', '3HAD120_1'], 'in_modelseed': ['3HAD120', 'HDDHL5'], 'both': {'3HAD120_1', '3HAD120', 'HDDHL5'}}, 'rxn01800': {'reac_id': 'CYTIDEAM-RXN_c0', 'seed_id': 'rxn01800', 'bigg_ann': ['DCYTD', 'DCYTDn'], 'in_modelseed': ['CDD1_2'], 'both': {'DCYTDn', 'CDD1_2', 'DCYTD'}}, 'rxn08309': {'reac_id': 'DASYN160', 'seed_id': 'rxn08309', 'bigg_ann': 'DASYN160', 'in_modelseed': ['DASYN160'], 'both': {'DASYN160'}}, 'rxn03060': {'reac_id': 'MCITD', 'seed_id': 'rxn03060', 'bigg_ann': 'MCITD', 'in_modelseed': ['MCITD'], 'both': {'MCITD'}}, 'rxn02476': {'reac_id': '2.5.1.19-RXN_c0', 'seed_id': 'rxn02476', 'bigg_ann': ['PSCIT', 'PSCVT'], 'in_modelseed': ['ARO1_5', 'PSCVT', 'PSCVTi'], 'both': {'ARO1_5', 'PSCVTi', 'PSCVT', 'PSCIT'}}, 'rxn01512': {'reac_id': 'DTDPKIN-RXN_c0', 'seed_id': 'rxn01512', 'bigg_ann': ['NDPK4', 'NDPK4m', 'NDPK4n'], 'in_modelseed': ['NDPK4', 'YNK1_6'], 'both': {'NDPK4', 'NDPK4m', 'NDPK4n', 'YNK1_6'}}, 'rxn03841': {'reac_id': 'ADCL', 'seed_id': 'rxn03841', 'bigg_ann': 'ADCL', 'in_modelseed': ['ADCL', 'U88'], 'both': {'U88', 'ADCL'}}, 'rxn00866': {'reac_id': 'HISTIDINE-DECARBOXYLASE-RXN_c0', 'seed_id': 'rxn00866', 'bigg_ann': ['HDC', 'HISDC'], 'in_modelseed': ['HISDC'], 'both': {'HISDC', 'HDC'}}, 'rxn04954': {'reac_id': 'MNXR101751_c0', 'seed_id': 'rxn04954', 'bigg_ann': ['MTHFO', 'MTHFR2', 'MTHFR2_1', 'r0792'], 'in_modelseed': ['MTHFR2'], 'both': {'MTHFR2_1', 'r0792', 'MTHFR2', 'MTHFO'}}, 'rxn03249': {'reac_id': 'RXN-12570_c0', 'seed_id': 'rxn03249', 'bigg_ann': ['HACD2', 'HACD2_1', 'HACD2i', 'HACD2m'], 'in_modelseed': ['HACD2', 'HACD2i'], 'both': {'HACD2m', 'HACD2', 'HACD2_1', 'HACD2i'}}, 'rxn00676': {'reac_id': 'METHYLACETOACETYLCOATHIOL-RXN_c0', 'seed_id': 'rxn00676', 'bigg_ann': ['ACACT10m', 'MACCOAT'], 'in_modelseed': ['ACACT10rr', 'ACOACAT', 'MACCOAT'], 'both': {'ACOACAT', 'ACACT10m', 'ACACT10rr', 'MACCOAT'}}, 'rxn05551': {'reac_id': 'MNXR97975_c0', 'seed_id': 'rxn05551', 'bigg_ann': ['ETHAt2pp', 'ETHAt6'], 'in_modelseed': ['ETHAt6'], 'both': {'ETHAt2pp', 'ETHAt6'}}, 'rxn00713': {'reac_id': 'URIK2', 'seed_id': 'rxn00713', 'bigg_ann': 'URIK2', 'in_modelseed': ['URIK2', 'URK1_1'], 'both': {'URIK2', 'URK1_1'}}, 'rxn01257': {'reac_id': 'ADCS', 'seed_id': 'rxn01257', 'bigg_ann': 'ADCS', 'in_modelseed': ['ABZ1', 'ADCS'], 'both': {'ABZ1', 'ADCS'}}, 'rxn09272': {'reac_id': 'MNXR99641_c0', 'seed_id': 'rxn09272', 'bigg_ann': ['FRD7', 'SUCDH_q8_m', 'SUCDi'], 'in_modelseed': ['SUCD7', 'SUCDi'], 'both': {'SUCDH_q8_m', 'FRD7', 'SUCD7', 'SUCDi'}}, 'rxn00903': {'reac_id': 'BRANCHED-CHAINAMINOTRANSFERVAL-RXN_c0', 'seed_id': 'rxn00903', 'bigg_ann': ['BCTA_val_h', 'BCTA_val_m', 'VALTA', 'VALTAim'], 'in_modelseed': ['BAT2_2', 'VALTA'], 'both': {'BCTA_val_m', 'BAT2_2', 'VALTAim', 'BCTA_val_h', 'VALTA'}}, 'rxn00980': {'reac_id': 'GPH-RXN_c0', 'seed_id': 'rxn00980', 'bigg_ann': ['PGLYCP', 'PGLYCPh', 'PGLYCPx'], 'in_modelseed': ['PGLYCP'], 'both': {'PGLYCPh', 'PGLYCPx', 'PGLYCP'}}, 'rxn00016': {'reac_id': 'RXN-12625_c0', 'seed_id': 'rxn00016', 'bigg_ann': 'MISSING', 'in_modelseed': ['HXAD'], 'both': {'HXAD'}}, 'rxn01216': {'reac_id': 'BISPHOSPHOGLYCERATE-MUTASE-RXN_c0', 'seed_id': 'rxn01216', 'bigg_ann': 'MISSING', 'in_modelseed': ['DPGM', 'GPM1_1'], 'both': {'DPGM', 'GPM1_1'}}, 'rxn03991': {'reac_id': 'MNXR134591_c0', 'seed_id': 'rxn03991', 'bigg_ann': 'MISSING', 'in_modelseed': ['NODO', 'NODOy'], 'both': {'NODO', 'NODOy'}}, 'rxn02213': {'reac_id': '3-DEHYDROQUINATE-DEHYDRATASE-RXN_c0', 'seed_id': 'rxn02213', 'bigg_ann': ['DHQTi', 'DQDH'], 'in_modelseed': ['ARO1_2', 'DHQD', 'DHQD1', 'DHQTi'], 'both': {'DHQTi', 'ARO1_2', 'DQDH', 'DHQD1', 'DHQD'}}, 'rxn03892': {'reac_id': 'MNXR103150_c0', 'seed_id': 'rxn03892', 'bigg_ann': ['PPTT', 'PPTTm'], 'in_modelseed': ['PPTT'], 'both': {'PPTTm', 'PPTT'}}, 'rxn00086': {'reac_id': 'GLUTATHIONE-REDUCT-NADPH-RXN_c0', 'seed_id': 'rxn00086', 'bigg_ann': ['GDR_nadp_h', 'GTHOm', 'GTHOr'], 'in_modelseed': ['GLR1', 'GTHO', 'GTHOr', 'GTHRD'], 'both': {'GTHOr', 'GTHRD', 'GDR_nadp_h', 'GTHOm', 'GLR1', 'GTHO'}}, 'rxn04989': {'reac_id': 'MNXR110899_c0', 'seed_id': 'rxn04989', 'bigg_ann': 'MISSING', 'in_modelseed': ['PHE4MOi3'], 'both': {'PHE4MOi3'}}, 'rxn01127': {'reac_id': 'DEOXYADENYLATE-KINASE-RXN_c0', 'seed_id': 'rxn01127', 'bigg_ann': ['ATDAMh', 'ATDAMm', 'DADK'], 'in_modelseed': ['DADK', 'U19'], 'both': {'ATDAMh', 'ATDAMm', 'U19', 'DADK'}}, 'rxn05537': {'reac_id': 'MNXR97471_c0', 'seed_id': 'rxn05537', 'bigg_ann': 'DIPEPabc13', 'in_modelseed': ['DIPEPabc13'], 'both': {'DIPEPabc13'}}, 'rxn05226': {'reac_id': 'MNXR100237_c0', 'seed_id': 'rxn05226', 'bigg_ann': ['GLCpts', 'GLCptspp'], 'in_modelseed': ['GLCpts'], 'both': {'GLCptspp', 'GLCpts'}}, 'rxn08548': {'reac_id': 'MNXR135826_c0', 'seed_id': 'rxn08548', 'bigg_ann': 'MISSING', 'in_modelseed': ['G3PAT141'], 'both': {'G3PAT141'}}, 'rxn00615': {'reac_id': 'GLYCEROL-KIN-RXN_c0', 'seed_id': 'rxn00615', 'bigg_ann': ['GLYK', 'GLYKm'], 'in_modelseed': ['GLYK', 'GLYKr', 'GUT1'], 'both': {'GLYK', 'GLYKm', 'GUT1', 'GLYKr'}}, 'rxn02521': {'reac_id': 'RXN-14113_c0', 'seed_id': 'rxn02521', 'bigg_ann': ['23CN2P1', '23PDE7pp'], 'in_modelseed': ['23CN2P1'], 'both': {'23PDE7pp', '23CN2P1'}}, 'rxn00569': {'reac_id': 'MNXR102063_c0', 'seed_id': 'rxn00569', 'bigg_ann': 'NTRIR2y', 'in_modelseed': ['NTRIR2y', 'NTRIRy'], 'both': {'NTRIRy', 'NTRIR2y'}}, 'rxn05341': {'reac_id': 'RXN-9524_c0', 'seed_id': 'rxn05341', 'bigg_ann': ['3OAR80', '3OAR80_1'], 'in_modelseed': ['3OAR80', 'HOCR3'], 'both': {'HOCR3', '3OAR80_1', '3OAR80'}}, 'rxn03393': {'reac_id': 'OPHBDC', 'seed_id': 'rxn03393', 'bigg_ann': 'OPHBDC', 'in_modelseed': ['OPHBDC'], 'both': {'OPHBDC'}}, 'rxn00083': {'reac_id': 'PYRNUTRANSHYDROGEN-RXN_c0', 'seed_id': 'rxn00083', 'bigg_ann': ['NADTRHD', 'NNOR'], 'in_modelseed': ['NADTRHD', 'TEST_NADTRHD', 'THD1', 'THD5'], 'both': {'NADTRHD', 'TEST_NADTRHD', 'NNOR', 'THD5', 'THD1'}}, 'rxn01626': {'reac_id': 'DIHYDROPYRIMIDINASE-RXN_c0', 'seed_id': 'rxn01626', 'bigg_ann': ['DHPD', 'DHPM1'], 'in_modelseed': ['DHPM1', 'DIHYP'], 'both': {'DHPD', 'DIHYP', 'DHPM1'}}, 'rxn00291': {'reac_id': 'SGDS', 'seed_id': 'rxn00291', 'bigg_ann': 'SGDS', 'in_modelseed': ['SGDS'], 'both': {'SGDS'}}, 'rxn00743': {'reac_id': 'RXN0-7249_c0', 'seed_id': 'rxn00743', 'bigg_ann': ['ALKP', 'r0242'], 'in_modelseed': ['ALKP', 'ALKPr'], 'both': {'ALKP', 'ALKPr', 'r0242'}}, 'rxn03483': {'reac_id': 'RXN-14064_c0', 'seed_id': 'rxn03483', 'bigg_ann': ['23CN2P4', '23PDE9pp'], 'in_modelseed': ['23CN2P4'], 'both': {'23PDE9pp', '23CN2P4'}}, 'rxn03236': {'reac_id': 'MNXR109090_c0', 'seed_id': 'rxn03236', 'bigg_ann': 'MISSING', 'in_modelseed': ['4AHD2'], 'both': {'4AHD2'}}, 'rxn01265': {'reac_id': 'MNXR101910_c0', 'seed_id': 'rxn01265', 'bigg_ann': ['NAPRT', 'NAPRTm', 'NCTPPRT'], 'in_modelseed': ['NAPRT', 'NAPRTr', 'NCTPPRT', 'NPT1_1'], 'both': {'NCTPPRT', 'NAPRT', 'NAPRTm', 'NPT1_1', 'NAPRTr'}}, 'rxn00874': {'reac_id': 'RXN-12565_c0', 'seed_id': 'rxn00874', 'bigg_ann': ['ACACT2', 'ACACT2m', 'ACACT2r', 'KAT2'], 'in_modelseed': ['ACACT2r', 'KAT2', 'POT1_7'], 'both': {'ACACT2m', 'KAT2', 'POT1_7', 'ACACT2', 'ACACT2r'}}, 'rxn00834': {'reac_id': 'IMP-DEHYDROG-RXN_c0', 'seed_id': 'rxn00834', 'bigg_ann': ['IMPD', 'IMPDm'], 'in_modelseed': ['FUN63', 'IMD3', 'IMD4', 'IMPD', 'PUR5', 'YAR075W'], 'both': {'FUN63', 'IMPD', 'YAR075W', 'IMD4', 'PUR5', 'IMPDm', 'IMD3'}}, 'rxn00782': {'reac_id': '1.2.1.13-RXN_c0', 'seed_id': 'rxn00782', 'bigg_ann': ['GAPDH_nadp_hi', 'GAPD_nadp', 'GAPDi_nadp'], 'in_modelseed': ['GAPD(nadp)', 'GAPD_NADP'], 'both': {'GAPD_NADP', 'GAPD(nadp)', 'GAPD_nadp', 'GAPDH_nadp_hi', 'GAPDi_nadp'}}, 'rxn08703': {'reac_id': 'HCYSMT2', 'seed_id': 'rxn08703', 'bigg_ann': 'HCYSMT2', 'in_modelseed': ['HCYSMT2'], 'both': {'HCYSMT2'}}, 'rxn01671': {'reac_id': 'RIBOSYLNICOTINAMIDE-KINASE-RXN_c0', 'seed_id': 'rxn01671', 'bigg_ann': 'RNMK', 'in_modelseed': ['RNMK'], 'both': {'RNMK'}}, 'rxn02362': {'reac_id': 'MNXR108083_c0', 'seed_id': 'rxn02362', 'bigg_ann': 'MISSING', 'in_modelseed': ['CDPGS'], 'both': {'CDPGS'}}, 'rxn12642': {'reac_id': 'RXN0-6978_c0', 'seed_id': 'rxn12642', 'bigg_ann': 'MISSING', 'in_modelseed': ['MEAMP1(ala-his)'], 'both': {'MEAMP1(ala-his)'}}, 'rxn05313': {'reac_id': 'MNXR102874_c0', 'seed_id': 'rxn05313', 'bigg_ann': ['PIt7', 'PIt7ipp'], 'in_modelseed': ['PIt7', 'PIt8'], 'both': {'PIt8', 'PIt7', 'PIt7ipp'}}, 'rxn05154': {'reac_id': 'ABC-4-RXN_c0', 'seed_id': 'rxn05154', 'bigg_ann': ['ARGabc', 'ARGabcpp'], 'in_modelseed': ['ARGabc'], 'both': {'ARGabcpp', 'ARGabc'}}, 'rxn10010': {'reac_id': 'RXN-12559_c0', 'seed_id': 'rxn10010', 'bigg_ann': 'MISSING', 'in_modelseed': ['ACOAD2'], 'both': {'ACOAD2'}}, 'rxn01332': {'reac_id': 'DAHPSYN-RXN_c0', 'seed_id': 'rxn01332', 'bigg_ann': ['DDPA', 'DDPAm', 'DPHS'], 'in_modelseed': ['ARO3', 'ARO4', 'DAHPS', 'DDPA'], 'both': {'DPHS', 'DAHPS', 'ARO3', 'DDPA', 'ARO4', 'DDPAm'}}, 'rxn08433': {'reac_id': 'MNXR111735_c0', 'seed_id': 'rxn08433', 'bigg_ann': 'MISSING', 'in_modelseed': ['FA100ACPHi', 'FAS1_4_f'], 'both': {'FAS1_4_f', 'FA100ACPHi'}}, 'rxn00320': {'reac_id': 'LYSINE-RACEMASE-RXN_c0', 'seed_id': 'rxn00320', 'bigg_ann': 'LYSRC', 'in_modelseed': ['LYSRC'], 'both': {'LYSRC'}}, 'rxn00785': {'reac_id': 'MNXR106812_c0', 'seed_id': 'rxn00785', 'bigg_ann': 'MISSING', 'in_modelseed': ['TKT2'], 'both': {'TKT2'}}, 'rxn00693': {'reac_id': 'MNXR101481_c0', 'seed_id': 'rxn00693', 'bigg_ann': ['METS', 'METS_1', 'METSm'], 'in_modelseed': ['METS', 'METSMHPGLUT_b', 'METSr', 'MTHFB12D', 'U47'], 'both': {'MTHFB12D', 'METSr', 'METSm', 'METSMHPGLUT_b', 'METS', 'U47', 'METS_1'}}, 'rxn03909': {'reac_id': 'DXS-RXN_c0', 'seed_id': 'rxn03909', 'bigg_ann': ['DXPS', 'DXS'], 'in_modelseed': ['DXPS'], 'both': {'DXPS', 'DXS'}}, 'rxn10806': {'reac_id': 'MNXR97032_c0', 'seed_id': 'rxn10806', 'bigg_ann': ['CYTBD2', 'CYTBD2pp'], 'in_modelseed': ['CYTBD2'], 'both': {'CYTBD2pp', 'CYTBD2'}}, 'rxn01101': {'reac_id': 'PGLYCDEHYDROG-RXN_c0', 'seed_id': 'rxn01101', 'bigg_ann': ['PGCD', 'PGLYDH'], 'in_modelseed': ['PGCD', 'PGCDr', 'SER3', 'SER33'], 'both': {'PGLYDH', 'PGCDr', 'SER3', 'SER33', 'PGCD'}}, 'rxn00355': {'reac_id': 'UTPHEXPURIDYLYLTRANS-RXN_c0', 'seed_id': 'rxn00355', 'bigg_ann': 'GALT', 'in_modelseed': ['GAL7_1', 'GALT', 'GALTi'], 'both': {'GAL7_1', 'GALTi', 'GALT'}}, 'rxn02900': {'reac_id': '2.6.1.37-RXN_c0', 'seed_id': 'rxn02900', 'bigg_ann': 'MISSING', 'in_modelseed': ['2AEPPNAT', '2AMIPYT'], 'both': {'2AEPPNAT', '2AMIPYT'}}, 'rxn03084': {'reac_id': 'FGAMSYN-RXN_c0', 'seed_id': 'rxn03084', 'bigg_ann': 'MISSING', 'in_modelseed': ['ADE6', 'PRFGS'], 'both': {'ADE6', 'PRFGS'}}, 'rxn00216': {'reac_id': 'HEX1', 'seed_id': 'rxn00216', 'bigg_ann': 'HEX1', 'in_modelseed': ['GLK1_1', 'HEX1', 'HXK1_2', 'HXK2_2'], 'both': {'HXK1_2', 'HXK2_2', 'HEX1', 'GLK1_1'}}, 'rxn02005': {'reac_id': 'MNXR104931_c0', 'seed_id': 'rxn02005', 'bigg_ann': ['TREpts', 'TREptspp'], 'in_modelseed': ['TREpts'], 'both': {'TREptspp', 'TREpts'}}, 'rxn08808': {'reac_id': 'MNXR135852_c0', 'seed_id': 'rxn08808', 'bigg_ann': 'MISSING', 'in_modelseed': ['LPLIPAL1E180pp'], 'both': {'LPLIPAL1E180pp'}}, 'rxn00558': {'reac_id': 'MNXR106678_c0', 'seed_id': 'rxn00558', 'bigg_ann': 'MISSING', 'in_modelseed': ['PGI', 'PGI1_1'], 'both': {'PGI', 'PGI1_1'}}, 'rxn12635': {'reac_id': 'RXN0-6974_c0', 'seed_id': 'rxn12635', 'bigg_ann': 'MISSING', 'in_modelseed': ['MEAMP1(gly-met)'], 'both': {'MEAMP1(gly-met)'}}, 'rxn00346': {'reac_id': 'ASP1DC', 'seed_id': 'rxn00346', 'bigg_ann': 'ASP1DC', 'in_modelseed': ['ASP1DC', 'U98'], 'both': {'ASP1DC', 'U98'}}, 'rxn05297': {'reac_id': 'MNXR100300_c0', 'seed_id': 'rxn05297', 'bigg_ann': ['GLUt2m', 'GLUt2n', 'GLUt2r', 'GLUt2rpp', 'GLUt7', 'GLUth'], 'in_modelseed': ['GLUt2', 'GLUt2r', 'GLUt6'], 'both': {'GLUt7', 'GLUth', 'GLUt6', 'GLUt2m', 'GLUt2n', 'GLUt2r', 'GLUt2', 'GLUt2rpp'}}, 'rxn00550': {'reac_id': 'MNXR106671_c0', 'seed_id': 'rxn00550', 'bigg_ann': 'MISSING', 'in_modelseed': ['FBP26'], 'both': {'FBP26'}}, 'rxn01859': {'reac_id': 'PUNP2', 'seed_id': 'rxn01859', 'bigg_ann': 'PUNP2', 'in_modelseed': ['PNP1_4', 'PUNP2'], 'both': {'PNP1_4', 'PUNP2'}}, 'rxn00194': {'reac_id': 'GLUTDECARBOX-RXN_c0', 'seed_id': 'rxn00194', 'bigg_ann': ['ARGDh', 'GLUDC'], 'in_modelseed': ['GAD1', 'GLUDC'], 'both': {'ARGDh', 'GAD1', 'GLUDC'}}, 'rxn00806': {'reac_id': 'BRANCHED-CHAINAMINOTRANSFERLEU-RXN_c0', 'seed_id': 'rxn00806', 'bigg_ann': ['BCTA_glu_h', 'LEUTA', 'LEUTAi', 'LEUTAm'], 'in_modelseed': ['BAT2_3', 'LEUTA', 'LEUTAi'], 'both': {'LEUTAi', 'LEUTA', 'LEUTAm', 'BCTA_glu_h', 'BAT2_3'}}, 'rxn05160': {'reac_id': 'ABC-28-RXN_c0', 'seed_id': 'rxn05160', 'bigg_ann': ['RIBabc', 'RIBabcpp'], 'in_modelseed': ['RIBabc'], 'both': {'RIBabcpp', 'RIBabc'}}, 'rxn01851': {'reac_id': 'AMINOBUTDEHYDROG-RXN_c0', 'seed_id': 'rxn01851', 'bigg_ann': ['ABUTD', 'ABUTDm'], 'in_modelseed': ['ABUTD'], 'both': {'ABUTDm', 'ABUTD'}}, 'rxn08178': {'reac_id': 'BSORx', 'seed_id': 'rxn08178', 'bigg_ann': 'BSORx', 'in_modelseed': ['BSORx'], 'both': {'BSORx'}}, 'rxn05201': {'reac_id': 'MNXR100748_c0', 'seed_id': 'rxn05201', 'bigg_ann': ['HXANt2pp', 'HXANt2r'], 'in_modelseed': ['HXANt2', 'HXANt2r', 'U201'], 'both': {'HXANt2pp', 'HXANt2', 'U201', 'HXANt2r'}}, 'rxn09449': {'reac_id': 'RXN-16380_c0', 'seed_id': 'rxn09449', 'bigg_ann': 'FACOAL180', 'in_modelseed': ['FACOAL180'], 'both': {'FACOAL180'}}, 'rxn05538': {'reac_id': 'MNXR97472_c0', 'seed_id': 'rxn05538', 'bigg_ann': 'DIPEPabc14', 'in_modelseed': ['DIPEPabc14'], 'both': {'DIPEPabc14'}}, 'rxn05616': {'reac_id': 'TRANS-RXN-141_c0', 'seed_id': 'rxn05616', 'bigg_ann': ['MG2t', 'MG2tex', 'MG2th', 'MG2tpp', 'MG2tu', 'MGt5'], 'in_modelseed': ['MGt5', 'MGt5i'], 'both': {'MGt5i', 'MG2tu', 'MGt5', 'MG2tex', 'MG2tpp', 'MG2t', 'MG2th'}}, 'rxn08805': {'reac_id': 'MNXR135849_c0', 'seed_id': 'rxn08805', 'bigg_ann': 'MISSING', 'in_modelseed': ['LPLIPAL1E141pp'], 'both': {'LPLIPAL1E141pp'}}, 'rxn01507': {'reac_id': 'RXN-14161_c0', 'seed_id': 'rxn01507', 'bigg_ann': ['NTD6', 'NTD6l', 'NTD6pp'], 'in_modelseed': ['NTD6'], 'both': {'NTD6pp', 'NTD6', 'NTD6l'}}, 'rxn01790': {'reac_id': '2-DEHYDROPANTOATE-REDUCT-RXN_c0', 'seed_id': 'rxn01790', 'bigg_ann': ['DPR', 'DPRm', 'PNORm', 'PNORn'], 'in_modelseed': ['DPR', 'PAN5'], 'both': {'PNORn', 'DPR', 'PNORm', 'DPRm', 'PAN5'}}, 'rxn05651': {'reac_id': 'MNXR104466_c0', 'seed_id': 'rxn05651', 'bigg_ann': ['SO4t2', 'SO4t2pp'], 'in_modelseed': ['SO4t2'], 'both': {'SO4t2pp', 'SO4t2'}}, 'rxn00077': {'reac_id': 'NAD-KIN-RXN_c0', 'seed_id': 'rxn00077', 'bigg_ann': ['NADK', 'NADKm'], 'in_modelseed': ['NADK', 'POS5_1', 'UTR1_1', 'YEL041W_1'], 'both': {'NADKm', 'POS5_1', 'YEL041W_1', 'NADK', 'UTR1_1'}}, 'rxn01388': {'reac_id': 'ACONTb', 'seed_id': 'rxn01388', 'bigg_ann': 'ACONTb', 'in_modelseed': ['ACONTb'], 'both': {'ACONTb'}}, 'rxn03638': {'reac_id': 'G1PACT', 'seed_id': 'rxn03638', 'bigg_ann': 'MISSING', 'in_modelseed': ['G1PACTr'], 'both': {'G1PACTr'}}, 'rxn02897': {'reac_id': 'NNDMBRT', 'seed_id': 'rxn02897', 'bigg_ann': 'NNDMBRT', 'in_modelseed': ['NNDMBRT'], 'both': {'NNDMBRT'}}, 'rxn01446': {'reac_id': 'PUNP4', 'seed_id': 'rxn01446', 'bigg_ann': 'PUNP4', 'in_modelseed': ['PNP1_5', 'PUNP4'], 'both': {'PUNP4', 'PNP1_5'}}, 'rxn01816': {'reac_id': 'MNXR107552_c0', 'seed_id': 'rxn01816', 'bigg_ann': 'MISSING', 'in_modelseed': ['SHSL1r'], 'both': {'SHSL1r'}}, 'rxn02056': {'reac_id': 'SIROHEME-FERROCHELAT-RXN_c0', 'seed_id': 'rxn02056', 'bigg_ann': ['SHCHF', 'SHCHF_1', 'SHCHF_2'], 'in_modelseed': ['SHCHF'], 'both': {'SHCHF_2', 'SHCHF_1', 'SHCHF'}}, 'rxn01068': {'reac_id': 'THREODEHYD-RXN_c0', 'seed_id': 'rxn01068', 'bigg_ann': ['R01465m', 'THRD'], 'in_modelseed': ['THRD'], 'both': {'THRD', 'R01465m'}}, 'rxn02277': {'reac_id': 'DBTS', 'seed_id': 'rxn02277', 'bigg_ann': 'DBTS', 'in_modelseed': ['BIO4', 'DBTS', 'DBTSr'], 'both': {'DBTSr', 'BIO4', 'DBTS'}}, 'rxn02596': {'reac_id': 'RXN-11501_c0', 'seed_id': 'rxn02596', 'bigg_ann': ['GALS4', 'STACHGALACT', 'SYGH'], 'in_modelseed': ['GALS4'], 'both': {'STACHGALACT', 'GALS4', 'SYGH'}}, 'rxn00991': {'reac_id': 'HYDROXYMETHYLGLUTARYL-COA-LYASE-RXN_c0', 'seed_id': 'rxn00991', 'bigg_ann': 'MISSING', 'in_modelseed': ['HMGL'], 'both': {'HMGL'}}, 'rxn03242': {'reac_id': 'MNXR100546_c0', 'seed_id': 'rxn03242', 'bigg_ann': ['HACD5', 'HACD5_1', 'HACD5i', 'HACD5m', 'HACD5p'], 'in_modelseed': ['HACD5', 'HACD5i'], 'both': {'HACD5', 'HACD5m', 'HACD5i', 'HACD5p', 'HACD5_1'}}, 'rxn00541': {'reac_id': 'THREONINE-ALDOLASE-RXN_c0', 'seed_id': 'rxn00541', 'bigg_ann': ['THRA', 'THRA_1', 'THRAi'], 'in_modelseed': ['GLY1', 'THRA', 'THRA2', 'THRAi', 'THRAr'], 'both': {'THRA', 'THRAi', 'THRA2', 'GLY1', 'THRA_1', 'THRAr'}}, 'rxn01924': {'reac_id': 'MEPROPCOA-FAD-RXN_c0', 'seed_id': 'rxn01924', 'bigg_ann': 'MISSING', 'in_modelseed': ['2MACOAD'], 'both': {'2MACOAD'}}, 'rxn03075': {'reac_id': 'HETZK', 'seed_id': 'rxn03075', 'bigg_ann': 'HETZK', 'in_modelseed': ['HETZK', 'THI6_1'], 'both': {'THI6_1', 'HETZK'}}, 'rxn01368': {'reac_id': 'CYTIDEAM2-RXN_c0', 'seed_id': 'rxn01368', 'bigg_ann': ['CYTD', 'CYTDn'], 'in_modelseed': ['CDD1_1'], 'both': {'CYTDn', 'CYTD', 'CDD1_1'}}, 'rxn00629': {'reac_id': 'MANNITOL-2-DEHYDROGENASE-RXN_c0', 'seed_id': 'rxn00629', 'bigg_ann': 'MISSING', 'in_modelseed': ['MNLDH'], 'both': {'MNLDH'}}, 'rxn00134': {'reac_id': 'ADENOSINE-KINASE-RXN_c0', 'seed_id': 'rxn00134', 'bigg_ann': ['ADNK1', 'ADNK1m', 'ADNK1n'], 'in_modelseed': ['ADNK1', 'YJR105W'], 'both': {'ADNK1n', 'ADNK1m', 'ADNK1', 'YJR105W'}}, 'rxn01480': {'reac_id': 'MNXR100634_c0', 'seed_id': 'rxn01480', 'bigg_ann': 'MISSING', 'in_modelseed': ['HIBD', 'HIBDkt'], 'both': {'HIBD', 'HIBDkt'}}, 'rxn09199': {'reac_id': 'MNXR135982_c0', 'seed_id': 'rxn09199', 'bigg_ann': 'MISSING', 'in_modelseed': ['PSD141'], 'both': {'PSD141'}}, 'rxn05233': {'reac_id': 'GDPREDUCT-RXN_c0', 'seed_id': 'rxn05233', 'bigg_ann': ['RNDR2', 'RNDR2n'], 'in_modelseed': ['RNDR2'], 'both': {'RNDR2n', 'RNDR2'}}, 'rxn09109': {'reac_id': 'MNXR135938_c0', 'seed_id': 'rxn09109', 'bigg_ann': 'MISSING', 'in_modelseed': ['PGSA140'], 'both': {'PGSA140'}}, 'rxn00141': {'reac_id': 'ADENOSYLHOMOCYSTEINASE-RXN_c0', 'seed_id': 'rxn00141', 'bigg_ann': ['ADSHm', 'AHCi'], 'in_modelseed': ['AHC', 'AHCi', 'SAH1'], 'both': {'AHCi', 'SAH1', 'AHC', 'ADSHm'}}, 'rxn02003': {'reac_id': 'DTDPDEHYRHAMREDUCT-RXN_c0', 'seed_id': 'rxn02003', 'bigg_ann': ['TDPDRR', 'TDPDRRr'], 'in_modelseed': ['TDPDRR'], 'both': {'TDPDRRr', 'TDPDRR'}}, 'rxn00186': {'reac_id': '5-OXOPROLINASE-ATP-HYDROLYSING-RXN_c0', 'seed_id': 'rxn00186', 'bigg_ann': 'OPAH', 'in_modelseed': ['OPAH'], 'both': {'OPAH'}}, 'rxn08558': {'reac_id': 'MNXR135831_c0', 'seed_id': 'rxn08558', 'bigg_ann': 'MISSING', 'in_modelseed': ['G3PD7'], 'both': {'G3PD7'}}, 'rxn01241': {'reac_id': 'RXN-18331_c0', 'seed_id': 'rxn01241', 'bigg_ann': ['GCC2cm', 'PDHcr', 'PDHe3hr'], 'in_modelseed': ['PDHc', 'PDHcr', 'PDHe3c'], 'both': {'PDHe3hr', 'PDHe3c', 'PDHc', 'PDHcr', 'GCC2cm'}}, 'rxn00130': {'reac_id': 'AMP-DEAMINASE-RXN_c0', 'seed_id': 'rxn00130', 'bigg_ann': 'MISSING', 'in_modelseed': ['AMD1_1'], 'both': {'AMD1_1'}}, 'rxn00859': {'reac_id': 'RXN-8001_c0', 'seed_id': 'rxn00859', 'bigg_ann': ['HDH', 'HDHh', 'HISTD'], 'in_modelseed': ['HIS4_3', 'HISTD'], 'both': {'HIS4_3', 'HDH', 'HDHh', 'HISTD'}}, 'rxn05332': {'reac_id': 'MNXR94881_c0', 'seed_id': 'rxn05332', 'bigg_ann': ['3HAD160', '3HAD160_1'], 'in_modelseed': ['3HAD160'], 'both': {'3HAD160', '3HAD160_1'}}, 'rxn00438': {'reac_id': 'TMPK', 'seed_id': 'rxn00438', 'bigg_ann': 'TMPK', 'in_modelseed': ['TMPK', 'TMPKr', 'U76'], 'both': {'U76', 'TMPK', 'TMPKr'}}, 'rxn00288': {'reac_id': 'MNXR99636_c0', 'seed_id': 'rxn00288', 'bigg_ann': ['FRD', 'FRDm', 'SUCD1', 'SUCD1m', 'SUCDHh'], 'in_modelseed': ['FRD', 'FRDSUCD1i', 'SUCD1', 'SUCD1i'], 'both': {'SUCD1i', 'FRD', 'SUCD1', 'FRDSUCD1i', 'SUCD1m', 'SUCDHh', 'FRDm'}}, 'rxn00763': {'reac_id': 'ALCD19', 'seed_id': 'rxn00763', 'bigg_ann': 'ALCD19', 'in_modelseed': ['ALCD19'], 'both': {'ALCD19'}}, 'rxn08550': {'reac_id': 'MNXR135828_c0', 'seed_id': 'rxn08550', 'bigg_ann': 'MISSING', 'in_modelseed': ['G3PAT161'], 'both': {'G3PAT161'}}, 'rxn08811': {'reac_id': 'MNXR135855_c0', 'seed_id': 'rxn08811', 'bigg_ann': 'MISSING', 'in_modelseed': ['LPLIPAL1G140pp'], 'both': {'LPLIPAL1G140pp'}}, 'rxn02473': {'reac_id': 'IMIDPHOSDEHYD-RXN_c0', 'seed_id': 'rxn02473', 'bigg_ann': ['IGPDH', 'IGPDH_1', 'IGPDh'], 'in_modelseed': ['IGPDH'], 'both': {'IGPDH', 'IGPDh', 'IGPDH_1'}}, 'rxn01275': {'reac_id': 'GLUCONOKIN-RXN_c0', 'seed_id': 'rxn01275', 'bigg_ann': ['GNK', 'GNKh', 'GNKr'], 'in_modelseed': ['GNK', 'GNKr'], 'both': {'GNK', 'GNKh', 'GNKr'}}, 'rxn10174': {'reac_id': 'MNXR101353_c0', 'seed_id': 'rxn10174', 'bigg_ann': ['MALTHXabc', 'MALTHXabcpp'], 'in_modelseed': ['MALTHXabc'], 'both': {'MALTHXabc', 'MALTHXabcpp'}}, 'rxn00912': {'reac_id': 'MNXR101702_c0', 'seed_id': 'rxn00912', 'bigg_ann': ['MOHMT', 'MTMOHT'], 'in_modelseed': ['ECM31', 'MOHMT'], 'both': {'MOHMT', 'ECM31', 'MTMOHT'}}, 'rxn12147': {'reac_id': 'RXN-14149_c0', 'seed_id': 'rxn12147', 'bigg_ann': 'MISSING', 'in_modelseed': ['R08504'], 'both': {'R08504'}}, 'rxn08819': {'reac_id': 'MNXR135863_c0', 'seed_id': 'rxn08819', 'bigg_ann': 'MISSING', 'in_modelseed': ['LPLIPAL2A141'], 'both': {'LPLIPAL2A141'}}, 'rxn03512': {'reac_id': 'MNXR102398_c0', 'seed_id': 'rxn03512', 'bigg_ann': 'PC8XM', 'in_modelseed': ['PC8XM'], 'both': {'PC8XM'}}, 'rxn00122': {'reac_id': 'FADSYN-RXN_c0', 'seed_id': 'rxn00122', 'bigg_ann': ['AFAT', 'FMNAT', 'FMNATm'], 'in_modelseed': ['FAD1', 'FMNAT', 'FMNATr'], 'both': {'AFAT', 'FMNAT', 'FMNATm', 'FAD1', 'FMNATr'}}, 'rxn06076': {'reac_id': 'CDPREDUCT-RXN_c0', 'seed_id': 'rxn06076', 'bigg_ann': ['RNDR3', 'RNDR3n'], 'in_modelseed': ['RNDR3'], 'both': {'RNDR3n', 'RNDR3'}}, 'rxn00985': {'reac_id': 'PROPKIN-RXN_c0', 'seed_id': 'rxn00985', 'bigg_ann': 'MISSING', 'in_modelseed': ['PPAK', 'PPAKr', 'PROPP'], 'both': {'PROPP', 'PPAKr', 'PPAK'}}, 'rxn01011': {'reac_id': 'GLYCERATE-DEHYDROGENASE-RXN_c0', 'seed_id': 'rxn01011', 'bigg_ann': ['GLYCDH_1', 'HPYRRx'], 'in_modelseed': ['HPYRRx'], 'both': {'GLYCDH_1', 'HPYRRx'}}, 'rxn10132': {'reac_id': 'MNXR96962_c0', 'seed_id': 'rxn10132', 'bigg_ann': ['CYNTt2', 'CYNTt2pp'], 'in_modelseed': ['CYNTt2'], 'both': {'CYNTt2', 'CYNTt2pp'}}, 'rxn05301': {'reac_id': 'TRANS-RXN-77_c0', 'seed_id': 'rxn05301', 'bigg_ann': ['TYRt2m', 'TYRt2p', 'TYRt2r', 'TYRt2rpp', 'TYRt7', 'TYRth'], 'in_modelseed': ['AGP1_10', 'BAP2_7', 'BAP3_7', 'GAP1_16', 'TAT1_4', 'TAT2_6', 'TYRt2', 'TYRt2r', 'TYRt6i', 'VAP1_6'], 'both': {'GAP1_16', 'TYRt2', 'AGP1_10', 'TYRt2m', 'TYRt2rpp', 'BAP2_7', 'BAP3_7', 'TYRt2r', 'TAT1_4', 'TYRt6i', 'TYRt2p', 'TYRt7', 'TYRth', 'VAP1_6', 'TAT2_6'}}, 'rxn08294': {'reac_id': 'MNXR135765_c0', 'seed_id': 'rxn08294', 'bigg_ann': 'MISSING', 'in_modelseed': ['DAGK120'], 'both': {'DAGK120'}}, 'rxn05179': {'reac_id': 'ABC-15-RXN_c0', 'seed_id': 'rxn05179', 'bigg_ann': ['ILEabc', 'ILEabcpp'], 'in_modelseed': ['ILEabc'], 'both': {'ILEabcpp', 'ILEabc'}}, 'rxn01602': {'reac_id': 'MNXR97400_c0', 'seed_id': 'rxn01602', 'bigg_ann': ['DHFOR2', 'FOLR2', 'FOLR2_1', 'r0514'], 'in_modelseed': ['DHFOR2', 'FOLR2'], 'both': {'DHFOR2', 'FOLR2', 'FOLR2_1', 'r0514'}}, 'rxn08094': {'reac_id': '2OXOGLUTARATEDEH-RXN_c0', 'seed_id': 'rxn08094', 'bigg_ann': ['AKGDH', 'AKGDm'], 'in_modelseed': ['AKGD', 'AKGDH', 'TEST_AKGDH'], 'both': {'AKGD', 'AKGDm', 'TEST_AKGDH', 'AKGDH'}}, 'rxn02302': {'reac_id': 'MNXR134353_c0', 'seed_id': 'rxn02302', 'bigg_ann': 'MISSING', 'in_modelseed': ['METB1', 'METB1r', 'SHSL5'], 'both': {'METB1r', 'METB1', 'SHSL5'}}, 'rxn01761': {'reac_id': 'RMI', 'seed_id': 'rxn01761', 'bigg_ann': 'RMI', 'in_modelseed': ['RMI'], 'both': {'RMI'}}, 'rxn03061': {'reac_id': 'MICITDr', 'seed_id': 'rxn03061', 'bigg_ann': 'MICITDr', 'in_modelseed': ['MICITD', 'MICITDr', 'MICITH'], 'both': {'MICITD', 'MICITDr', 'MICITH'}}, 'rxn05344': {'reac_id': 'RXN-9539_c0', 'seed_id': 'rxn05344', 'bigg_ann': 'MISSING', 'in_modelseed': ['FAS2_7_1', 'MCMAT7'], 'both': {'FAS2_7_1', 'MCMAT7'}}, 'rxn03241': {'reac_id': 'RXN-14273_c0', 'seed_id': 'rxn03241', 'bigg_ann': ['ECOAH6', 'ECOAH6_1', 'ECOAH6m', 'ECOAH6p'], 'in_modelseed': ['ECOAH6'], 'both': {'ECOAH6', 'ECOAH6p', 'ECOAH6_1', 'ECOAH6m'}}, 'rxn01521': {'reac_id': 'RXN-14143_c0', 'seed_id': 'rxn01521', 'bigg_ann': ['NTD1', 'NTD1m', 'NTD1pp'], 'in_modelseed': ['NTD1', 'U24'], 'both': {'NTD1pp', 'NTD1', 'NTD1m', 'U24'}}, 'rxn12636': {'reac_id': 'MNXR137141_c0', 'seed_id': 'rxn12636', 'bigg_ann': 'MISSING', 'in_modelseed': ['MEAMP1(met-ala)'], 'both': {'MEAMP1(met-ala)'}}, 'rxn05596': {'reac_id': 'TRANS-RXN-42_c0', 'seed_id': 'rxn05596', 'bigg_ann': ['KHte', 'Kt3g', 'Kt3pp', 'Kt3r'], 'in_modelseed': ['Kt3', 'Kt3r'], 'both': {'Kt3g', 'Kt3pp', 'Kt3', 'Kt3r', 'KHte'}}, 'rxn00338': {'reac_id': 'MNXR96094_c0', 'seed_id': 'rxn00338', 'bigg_ann': ['ASPO6', 'ASPO6_1'], 'in_modelseed': ['ASPO6'], 'both': {'ASPO6_1', 'ASPO6'}}, 'rxn01975': {'reac_id': 'MNXR99903_c0', 'seed_id': 'rxn01975', 'bigg_ann': ['G6PBDH', 'G6PBDHh'], 'in_modelseed': ['G6PBDH'], 'both': {'G6PBDH', 'G6PBDHh'}}, 'rxn02373': {'reac_id': 'GLUTSEMIALDEHYDROG-RXN_c0', 'seed_id': 'rxn02373', 'bigg_ann': ['G5DHx', 'G5SD', 'G5SDym'], 'in_modelseed': ['G5SD'], 'both': {'G5DHx', 'G5SD', 'G5SDym'}}, 'rxn01893': {'reac_id': 'MNXR102198_c0', 'seed_id': 'rxn01893', 'bigg_ann': ['OP4ENH', 'OP4ENH3'], 'in_modelseed': ['OP4ENH', 'OP4ENH3'], 'both': {'OP4ENH3', 'OP4ENH'}}, 'rxn01649': {'reac_id': 'PUNP7', 'seed_id': 'rxn01649', 'bigg_ann': 'PUNP7', 'in_modelseed': ['PNP1_9', 'PUNP7'], 'both': {'PUNP7', 'PNP1_9'}}, 'rxn00085': {'reac_id': 'GLUTAMATESYN-RXN_c0', 'seed_id': 'rxn00085', 'bigg_ann': ['GLUS_nadph', 'GLUSy'], 'in_modelseed': ['GLUSy'], 'both': {'GLUSy', 'GLUS_nadph'}}, 'rxn01737': {'reac_id': 'MNXR103420_c0', 'seed_id': 'rxn01737', 'bigg_ann': ['RAFH', 'RAFHpp'], 'in_modelseed': ['INVRTSc', 'RAFH'], 'both': {'RAFH', 'RAFHpp', 'INVRTSc'}}, 'rxn00119': {'reac_id': 'RXN-12002_c0', 'seed_id': 'rxn00119', 'bigg_ann': ['UMPK', 'UMPKm', 'UMPKn'], 'in_modelseed': ['UMPK', 'UMPKURIDK1', 'URA6_1', 'URA6_2', 'URIDK1'], 'both': {'URA6_1', 'UMPK', 'UMPKn', 'UMPKURIDK1', 'URA6_2', 'UMPKm', 'URIDK1'}}, 'rxn00709': {'reac_id': 'URIDINEKIN-RXN_c0', 'seed_id': 'rxn00709', 'bigg_ann': 'URIK1', 'in_modelseed': ['URIK1', 'URK1_3'], 'both': {'URK1_3', 'URIK1'}}, 'rxn08549': {'reac_id': 'MNXR135827_c0', 'seed_id': 'rxn08549', 'bigg_ann': 'MISSING', 'in_modelseed': ['G3PAT160'], 'both': {'G3PAT160'}}, 'rxn08179': {'reac_id': 'BSORy', 'seed_id': 'rxn08179', 'bigg_ann': 'BSORy', 'in_modelseed': ['BSORy'], 'both': {'BSORy'}}, 'rxn00608': {'reac_id': 'MNXR96758_c0', 'seed_id': 'rxn00608', 'bigg_ann': 'MISSING', 'in_modelseed': ['PGGH'], 'both': {'PGGH'}}, 'rxn05468': {'reac_id': 'TRANS-RXN0-474_c0', 'seed_id': 'rxn05468', 'bigg_ann': ['O2t', 'O2ter', 'O2tex', 'O2thr', 'O2tm', 'O2tn', 'O2tp', 'O2tpp', 'O2trhu', 'O2tu'], 'in_modelseed': ['O2t', 'O2t5i', 'U227'], 'both': {'U227', 'O2tu', 'O2tp', 'O2t5i', 'O2thr', 'O2t', 'O2tpp', 'O2tm', 'O2trhu', 'O2tn', 'O2ter', 'O2tex'}}, 'rxn01466': {'reac_id': 'FPPSYN-RXN_c0', 'seed_id': 'rxn01466', 'bigg_ann': ['FPPSh', 'GRTT', 'GRTTx'], 'in_modelseed': ['GRTT'], 'both': {'GRTT', 'FPPSh', 'GRTTx'}}, 'rxn01304': {'reac_id': 'HSST', 'seed_id': 'rxn01304', 'bigg_ann': 'HSST', 'in_modelseed': ['HSST', 'HSSTr'], 'both': {'HSSTr', 'HSST'}}, 'rxn03409': {'reac_id': 'MNXR100254_c0', 'seed_id': 'rxn03409', 'bigg_ann': 'GLNSP3', 'in_modelseed': ['GLNSP3'], 'both': {'GLNSP3'}}, 'rxn09692': {'reac_id': 'TRANS-RXN-99_c0', 'seed_id': 'rxn09692', 'bigg_ann': ['CHLt2', 'CHLt2pp'], 'in_modelseed': ['CHLt2', 'CHLt2r', 'HNM1'], 'both': {'CHLt2r', 'HNM1', 'CHLt2pp', 'CHLt2'}}, 'rxn00974': {'reac_id': 'ACONTa', 'seed_id': 'rxn00974', 'bigg_ann': 'ACONTa', 'in_modelseed': ['ACONTa'], 'both': {'ACONTa'}}, 'rxn04601': {'reac_id': '3HPPPNH', 'seed_id': 'rxn04601', 'bigg_ann': '3HPPPNH', 'in_modelseed': ['3HPPPNH'], 'both': {'3HPPPNH'}}, 'rxn02008': {'reac_id': 'UAMAGS', 'seed_id': 'rxn02008', 'bigg_ann': 'UAMAGS', 'in_modelseed': ['UAMAGS'], 'both': {'UAMAGS'}}, 'rxn05740': {'reac_id': 'MNXR135018_c0', 'seed_id': 'rxn05740', 'bigg_ann': 'MISSING', 'in_modelseed': ['GLC3', 'GPH1'], 'both': {'GLC3', 'GPH1'}}, 'rxn09203': {'reac_id': 'MNXR135984_c0', 'seed_id': 'rxn09203', 'bigg_ann': 'MISSING', 'in_modelseed': ['PSD181'], 'both': {'PSD181'}}, 'rxn03904': {'reac_id': 'PAPPT3', 'seed_id': 'rxn03904', 'bigg_ann': 'PAPPT3', 'in_modelseed': ['PAPPT3'], 'both': {'PAPPT3'}}, 'rxn01225': {'reac_id': 'GUANINE-DEAMINASE-RXN_c0', 'seed_id': 'rxn01225', 'bigg_ann': ['GUAD', 'GUAD_1'], 'in_modelseed': ['GUADr'], 'both': {'GUAD_1', 'GUAD', 'GUADr'}}, 'rxn03931': {'reac_id': 'R503-RXN_c0', 'seed_id': 'rxn03931', 'bigg_ann': 'DKDID', 'in_modelseed': ['DKDID'], 'both': {'DKDID'}}, 'rxn00835': {'reac_id': 'INOSINEKIN-RXN_c0', 'seed_id': 'rxn00835', 'bigg_ann': ['INSK', 'INSKm'], 'in_modelseed': ['INSK', 'U20'], 'both': {'INSK', 'INSKm', 'U20'}}, 'rxn02288': {'reac_id': 'UROGENDECARBOX-RXN_c0', 'seed_id': 'rxn02288', 'bigg_ann': ['UPPDC1', 'UPPDC1_1'], 'in_modelseed': ['UPPDC1'], 'both': {'UPPDC1_1', 'UPPDC1'}}, 'rxn00783': {'reac_id': 'DDPGALA', 'seed_id': 'rxn00783', 'bigg_ann': 'DDPGALA', 'in_modelseed': ['DDPGALA'], 'both': {'DDPGALA'}}, 'rxn00409': {'reac_id': 'CDPKIN-RXN_c0', 'seed_id': 'rxn00409', 'bigg_ann': ['NDPK3', 'NDPK3m', 'NDPK3n'], 'in_modelseed': ['NDPK3', 'YNK1_2'], 'both': {'NDPK3m', 'NDPK3', 'YNK1_2', 'NDPK3n'}}, 'rxn02831': {'reac_id': 'SUCBZL', 'seed_id': 'rxn02831', 'bigg_ann': 'SUCBZL', 'in_modelseed': ['SUCBZL'], 'both': {'SUCBZL'}}, 'rxn00598': {'reac_id': '3OXCOAT', 'seed_id': 'rxn00598', 'bigg_ann': '3OXCOAT', 'in_modelseed': ['3OXACOA', '3OXCOAT'], 'both': {'3OXACOA', '3OXCOAT'}}, 'rxn05534': {'reac_id': 'MNXR97468_c0', 'seed_id': 'rxn05534', 'bigg_ann': 'DIPEPabc10', 'in_modelseed': ['DIPEPabc10'], 'both': {'DIPEPabc10'}}, 'rxn01258': {'reac_id': 'ISOCHORSYN-RXN_c0', 'seed_id': 'rxn01258', 'bigg_ann': 'ICHORS', 'in_modelseed': ['ICH or Si', 'ICHORS', 'ICHORSi'], 'both': {'ICH or Si', 'ICHORSi', 'ICHORS'}}, 'rxn08842': {'reac_id': 'MNXR135883_c0', 'seed_id': 'rxn08842', 'bigg_ann': 'MISSING', 'in_modelseed': ['LPLIPAL2E161'], 'both': {'LPLIPAL2E161'}}, 'rxn01538': {'reac_id': 'TMK', 'seed_id': 'rxn01538', 'bigg_ann': 'TMK', 'in_modelseed': ['TMK', 'TMKr'], 'both': {'TMK', 'TMKr'}}, 'rxn05669': {'reac_id': 'MNXR105188_c0', 'seed_id': 'rxn05669', 'bigg_ann': ['VALt2m', 'VALt2r', 'VALt2rpp', 'VALth'], 'in_modelseed': ['AGP1_11', 'BAP2_8', 'BAP3_8', 'GAP1_17', 'VALt2', 'VALt2r', 'VAP1_7'], 'both': {'VALt2rpp', 'VALt2r', 'VALt2', 'VALth', 'BAP2_8', 'AGP1_11', 'VALt2m', 'GAP1_17', 'BAP3_8', 'VAP1_7'}}, 'rxn02128': {'reac_id': 'PANTETHEINE-KINASE-RXN_c0', 'seed_id': 'rxn02128', 'bigg_ann': ['APNPT', 'r0579'], 'in_modelseed': ['PTHKr'], 'both': {'r0579', 'APNPT', 'PTHKr'}}, 'rxn03901': {'reac_id': 'MNXR134586_c0', 'seed_id': 'rxn03901', 'bigg_ann': 'MISSING', 'in_modelseed': ['UDCPDP'], 'both': {'UDCPDP'}}, 'rxn01985': {'reac_id': 'PUNP6', 'seed_id': 'rxn01985', 'bigg_ann': 'PUNP6', 'in_modelseed': ['PNP1_3', 'PUNP6'], 'both': {'PNP1_3', 'PUNP6'}}, 'rxn00808': {'reac_id': 'GALACTOKIN-RXN_c0', 'seed_id': 'rxn00808', 'bigg_ann': ['GALKh', 'GALKr'], 'in_modelseed': ['GAL1', 'GALK', 'GALKr'], 'both': {'GALK', 'GAL1', 'GALKh', 'GALKr'}}, 'rxn10013': {'reac_id': 'MNXR95313_c0', 'seed_id': 'rxn10013', 'bigg_ann': 'ACOAD5', 'in_modelseed': ['ACOAD5'], 'both': {'ACOAD5'}}, 'rxn10052': {'reac_id': 'MNXR95451_c0', 'seed_id': 'rxn10052', 'bigg_ann': 'ADK2', 'in_modelseed': ['ADK2'], 'both': {'ADK2'}}, 'rxn05540': {'reac_id': 'MNXR97473_c0', 'seed_id': 'rxn05540', 'bigg_ann': 'DIPEPabc2', 'in_modelseed': ['DIPEPabc2'], 'both': {'DIPEPabc2'}}, 'rxn00193': {'reac_id': 'GLUR', 'seed_id': 'rxn00193', 'bigg_ann': 'GLUR', 'in_modelseed': ['GLUR'], 'both': {'GLUR'}}, 'rxn05326': {'reac_id': 'RXN-9658_c0', 'seed_id': 'rxn05326', 'bigg_ann': 'MISSING', 'in_modelseed': ['EAR60x', 'HEMAT2'], 'both': {'EAR60x', 'HEMAT2'}}, 'rxn05197': {'reac_id': 'TRANS-RXN-132_c0', 'seed_id': 'rxn05197', 'bigg_ann': ['URAt2', 'URAt2pp'], 'in_modelseed': ['FUR4', 'URAt2', 'URAt2r', 'URAt6'], 'both': {'URAt2pp', 'FUR4', 'URAt2', 'URAt6', 'URAt2r'}}, 'rxn00653': {'reac_id': 'RXN-12332_c0', 'seed_id': 'rxn00653', 'bigg_ann': 'ALDD22x', 'in_modelseed': ['ALDD22x'], 'both': {'ALDD22x'}}, 'rxn00929': {'reac_id': 'MNXR102303_c0', 'seed_id': 'rxn00929', 'bigg_ann': ['P5CRx', 'P5CRxm', 'PRO1x', 'PRO1xm'], 'in_modelseed': ['P5CRx', 'PRO1x'], 'both': {'P5CRx', 'PRO1x', 'P5CRxm', 'PRO1xm'}}, 'rxn08800': {'reac_id': 'MNXR135845_c0', 'seed_id': 'rxn08800', 'bigg_ann': 'MISSING', 'in_modelseed': ['LPLIPAL1A161pp'], 'both': {'LPLIPAL1A161pp'}}, 'rxn00256': {'reac_id': 'CITSYN-RXN_c0', 'seed_id': 'rxn00256', 'bigg_ann': ['CS', 'CSm', 'CSp'], 'in_modelseed': ['CIT2', 'CS'], 'both': {'CSp', 'CSm', 'CIT2', 'CS'}}, 'rxn08335': {'reac_id': 'DHORD2', 'seed_id': 'rxn08335', 'bigg_ann': 'DHORD2', 'in_modelseed': ['DH or D2', 'DHORD2'], 'both': {'DHORD2', 'DH or D2'}}, 'rxn03004': {'reac_id': 'MNXR99623_c0', 'seed_id': 'rxn03004', 'bigg_ann': ['FPGFTh', 'FPGFTm', 'GARFT'], 'in_modelseed': ['ADE8', 'GARFT', 'GARFTi'], 'both': {'FPGFTm', 'GARFT', 'GARFTi', 'ADE8', 'FPGFTh'}}, 'rxn00138': {'reac_id': 'NAD-SYNTH-NH3-RXN_c0', 'seed_id': 'rxn00138', 'bigg_ann': ['NADS1', 'NADS1m', 'NADS1n'], 'in_modelseed': ['NADS1m', 'QNS1_1'], 'both': {'QNS1_1', 'NADS1n', 'NADS1m', 'NADS1'}}, 'rxn05536': {'reac_id': 'MNXR97470_c0', 'seed_id': 'rxn05536', 'bigg_ann': 'DIPEPabc12', 'in_modelseed': ['DIPEPabc12'], 'both': {'DIPEPabc12'}}, 'rxn06729': {'reac_id': 'UAGAAT', 'seed_id': 'rxn06729', 'bigg_ann': 'UAGAAT', 'in_modelseed': ['UAGAAT'], 'both': {'UAGAAT'}}, 'rxn05168': {'reac_id': 'ABC-36-RXN_c0', 'seed_id': 'rxn05168', 'bigg_ann': ['VALabc', 'VALabcpp'], 'in_modelseed': ['VALabc'], 'both': {'VALabc', 'VALabcpp'}}, 'rxn05546': {'reac_id': 'MNXR97479_c0', 'seed_id': 'rxn05546', 'bigg_ann': 'DIPEPabc8', 'in_modelseed': ['DIPEPabc8'], 'both': {'DIPEPabc8'}}, 'rxn02167': {'reac_id': 'RXN-11667_c0', 'seed_id': 'rxn02167', 'bigg_ann': ['ECOAH1', 'ECOAH1_1', 'ECOAH1_2', 'ECOAH1m', 'ECOAH1x'], 'in_modelseed': ['ECOAH1'], 'both': {'ECOAH1', 'ECOAH1m', 'ECOAH1x', 'ECOAH1_1', 'ECOAH1_2'}}, 'rxn01858': {'reac_id': 'ADDALT-RXN_c0', 'seed_id': 'rxn01858', 'bigg_ann': ['DADA', 'DADAe'], 'in_modelseed': ['AAH1_2'], 'both': {'DADA', 'AAH1_2', 'DADAe'}}, 'rxn01621': {'reac_id': 'RMPA', 'seed_id': 'rxn01621', 'bigg_ann': 'RMPA', 'in_modelseed': ['RMPA'], 'both': {'RMPA'}}, 'rxn05128': {'reac_id': 'GGGABAH', 'seed_id': 'rxn05128', 'bigg_ann': 'GGGABAH', 'in_modelseed': ['GGGABAH', 'GGLUGABH'], 'both': {'GGGABAH', 'GGLUGABH'}}, 'rxn10127': {'reac_id': 'MNXR104879_c0', 'seed_id': 'rxn10127', 'bigg_ann': ['TMAOR1e', 'TMAOR1pp'], 'in_modelseed': ['TMAOR1e'], 'both': {'TMAOR1e', 'TMAOR1pp'}}, 'rxn10770': {'reac_id': 'CHOLD', 'seed_id': 'rxn10770', 'bigg_ann': 'CHOLD', 'in_modelseed': ['CHOLD'], 'both': {'CHOLD'}}, 'rxn10161': {'reac_id': 'MNXR102142_c0', 'seed_id': 'rxn10161', 'bigg_ann': ['OCDCAt2', 'OCDCAt2pp'], 'in_modelseed': ['OCDCAt2'], 'both': {'OCDCAt2pp', 'OCDCAt2'}}, 'rxn02297': {'reac_id': '7KAPSYN-RXN_c0', 'seed_id': 'rxn02297', 'bigg_ann': 'AOXSr', 'in_modelseed': ['AOXS', 'AOXSir', 'AOXSr', 'U86'], 'both': {'AOXSir', 'U86', 'AOXSr', 'AOXS'}}, 'rxn01799': {'reac_id': 'DURIPP', 'seed_id': 'rxn01799', 'bigg_ann': 'DURIPP', 'in_modelseed': ['DURIPP', 'PNP1_1'], 'both': {'PNP1_1', 'DURIPP'}}, 'rxn01485': {'reac_id': '5.4.2.10-RXN_c0', 'seed_id': 'rxn01485', 'bigg_ann': ['PGAMT', 'PGAMTi'], 'in_modelseed': ['PGAMT'], 'both': {'PGAMTi', 'PGAMT'}}, 'rxn09104': {'reac_id': 'MNXR102563_c0', 'seed_id': 'rxn09104', 'bigg_ann': ['PGPP160', 'PGPP160pp'], 'in_modelseed': ['PGPP160pp'], 'both': {'PGPP160pp', 'PGPP160'}}, 'rxn02190': {'reac_id': 'MNXR97433_c0', 'seed_id': 'rxn02190', 'bigg_ann': 'DHPM2', 'in_modelseed': ['DHPM2'], 'both': {'DHPM2'}}, 'rxn03031': {'reac_id': 'THDPS', 'seed_id': 'rxn03031', 'bigg_ann': 'THDPS', 'in_modelseed': ['THDPS'], 'both': {'THDPS'}}, 'rxn09207': {'reac_id': 'MNXR135987_c0', 'seed_id': 'rxn09207', 'bigg_ann': 'MISSING', 'in_modelseed': ['PSSA141'], 'both': {'PSSA141'}}, 'rxn09296': {'reac_id': 'RXN0-267_c0', 'seed_id': 'rxn09296', 'bigg_ann': ['THIORDXi', 'THIORDXm', 'THIORDXni', 'THIORDXp'], 'in_modelseed': ['THDPO', 'THIORDXi'], 'both': {'THIORDXp', 'THDPO', 'THIORDXm', 'THIORDXi', 'THIORDXni'}}, 'rxn00239': {'reac_id': 'GUANYL-KIN-RXN_c0', 'seed_id': 'rxn00239', 'bigg_ann': ['GK1', 'GK1m'], 'in_modelseed': ['GK1', 'GUK1_1'], 'both': {'GK1m', 'GUK1_1', 'GK1'}}, 'rxn02465': {'reac_id': 'N-ACETYLGLUTPREDUCT-RXN_c0', 'seed_id': 'rxn02465', 'bigg_ann': ['AGGPR', 'AGPR', 'AGPRim'], 'in_modelseed': ['AGPR'], 'both': {'AGPRim', 'AGGPR', 'AGPR'}}, 'rxn01791': {'reac_id': 'PANTOATE-BETA-ALANINE-LIG-RXN_c0', 'seed_id': 'rxn01791', 'bigg_ann': ['PANTS', 'PBAL', 'PBALm'], 'in_modelseed': ['PANTS', 'YIL145C'], 'both': {'YIL145C', 'PBAL', 'PBALm', 'PANTS'}}, 'rxn00183': {'reac_id': 'RXN-14116_c0', 'seed_id': 'rxn00183', 'bigg_ann': ['PUTA3', 'r0074'], 'in_modelseed': ['GSADH', 'PUTA3'], 'both': {'PUTA3', 'r0074', 'GSADH'}}, 'rxn00623': {'reac_id': 'SULFITE-REDUCT-RXN_c0', 'seed_id': 'rxn00623', 'bigg_ann': ['SULR', 'SULR_1', 'SULRi'], 'in_modelseed': ['ECM17', 'MET10', 'SULR', 'SULRi'], 'both': {'SULRi', 'SULR', 'MET10', 'ECM17', 'SULR_1'}}, 'rxn09107': {'reac_id': 'MNXR135936_c0', 'seed_id': 'rxn09107', 'bigg_ann': 'MISSING', 'in_modelseed': ['PGPP181pp'], 'both': {'PGPP181pp'}}, 'rxn05543': {'reac_id': 'MNXR127034_c0', 'seed_id': 'rxn05543', 'bigg_ann': 'MISSING', 'in_modelseed': ['DIPEPabc5'], 'both': {'DIPEPabc5'}}, 'rxn01329': {'reac_id': 'PHOSMANMUT-RXN_c0', 'seed_id': 'rxn01329', 'bigg_ann': ['MPPM', 'PMANM'], 'in_modelseed': ['PMANM', 'SEC53'], 'both': {'MPPM', 'SEC53', 'PMANM'}}, 'rxn00950': {'reac_id': 'MNXR132627_c0', 'seed_id': 'rxn00950', 'bigg_ann': 'MISSING', 'in_modelseed': ['CYSTLr'], 'both': {'CYSTLr'}}, 'rxn00002': {'reac_id': 'ALLOPHANATE-HYDROLASE-RXN_c0', 'seed_id': 'rxn00002', 'bigg_ann': ['ALPHNH', 'ALPHm'], 'in_modelseed': ['DUR1_2'], 'both': {'DUR1_2', 'ALPHm', 'ALPHNH'}}, 'rxn01029': {'reac_id': 'AGMATINE-DEIMINASE-RXN_c0', 'seed_id': 'rxn01029', 'bigg_ann': ['AGDI', 'AGDIn', 'AGMDA'], 'in_modelseed': ['AGMTNDMN'], 'both': {'AGMTNDMN', 'AGDI', 'AGDIn', 'AGMDA'}}, 'rxn05937': {'reac_id': 'MNXR99642_c0', 'seed_id': 'rxn05937', 'bigg_ann': 'FRDO', 'in_modelseed': ['FRDO', 'FRDOr'], 'both': {'FRDO', 'FRDOr'}}, 'rxn00990': {'reac_id': 'ACACCT', 'seed_id': 'rxn00990', 'bigg_ann': 'ACACCT', 'in_modelseed': ['ACACCT'], 'both': {'ACACCT'}}, 'rxn01964': {'reac_id': 'TRYPSYN-RXN_c0', 'seed_id': 'rxn01964', 'bigg_ann': ['SERH', 'TRPS1'], 'in_modelseed': ['TRPS1r'], 'both': {'TRPS1', 'SERH', 'TRPS1r'}}, 'rxn08816': {'reac_id': 'MNXR135860_c0', 'seed_id': 'rxn08816', 'bigg_ann': 'MISSING', 'in_modelseed': ['LPLIPAL1G181pp'], 'both': {'LPLIPAL1G181pp'}}, 'rxn02341': {'reac_id': 'P-PANTOCYSDECARB-RXN_c0', 'seed_id': 'rxn02341', 'bigg_ann': ['PPCDC', 'r0614'], 'in_modelseed': ['PPCDC', 'U93'], 'both': {'PPCDC', 'r0614', 'U93'}}, 'rxn06591': {'reac_id': 'MNXR100294_c0', 'seed_id': 'rxn06591', 'bigg_ann': ['GLUTRR', 'GLUTRR_1'], 'in_modelseed': ['GLUTRR'], 'both': {'GLUTRR', 'GLUTRR_1'}}, 'rxn01519': {'reac_id': 'DUTP-PYROP-RXN_c0', 'seed_id': 'rxn01519', 'bigg_ann': ['DUTPDP', 'DUTPDPm', 'DUTPDPn'], 'in_modelseed': ['DUT1', 'DUTPDP'], 'both': {'DUTPDPm', 'DUTPDP', 'DUTPDPn', 'DUT1'}}, 'rxn01137': {'reac_id': 'ADENODEAMIN-RXN_c0', 'seed_id': 'rxn01137', 'bigg_ann': ['ADA', 'ADAe'], 'in_modelseed': ['AAH1_1'], 'both': {'AAH1_1', 'ADA', 'ADAe'}}, 'rxn01343': {'reac_id': 'PFK_3', 'seed_id': 'rxn01343', 'bigg_ann': 'PFK_3', 'in_modelseed': ['PFK1_3', 'PFK_3'], 'both': {'PFK1_3', 'PFK_3'}}, 'rxn01080': {'reac_id': 'GUI1', 'seed_id': 'rxn01080', 'bigg_ann': 'GUI1', 'in_modelseed': ['GUI1'], 'both': {'GUI1'}}, 'rxn02063': {'reac_id': 'MNXR104447_c0', 'seed_id': 'rxn02063', 'bigg_ann': ['SMO', 'SQLEr'], 'in_modelseed': ['ERG1', 'SQLEer'], 'both': {'ERG1', 'SMO', 'SQLEr', 'SQLEer'}}, 'rxn08797': {'reac_id': 'MNXR135843_c0', 'seed_id': 'rxn08797', 'bigg_ann': 'MISSING', 'in_modelseed': ['LPLIPAL1A140pp'], 'both': {'LPLIPAL1A140pp'}}, 'rxn05232': {'reac_id': 'MNXR104070_c0', 'seed_id': 'rxn05232', 'bigg_ann': 'RNTR1', 'in_modelseed': ['RNTR1'], 'both': {'RNTR1'}}, 'rxn09108': {'reac_id': 'MNXR135937_c0', 'seed_id': 'rxn09108', 'bigg_ann': 'MISSING', 'in_modelseed': ['PGSA120'], 'both': {'PGSA120'}}, 'rxn00224': {'reac_id': 'MNXR134211_c0', 'seed_id': 'rxn00224', 'bigg_ann': 'MISSING', 'in_modelseed': ['FCLT'], 'both': {'FCLT'}}, 'rxn01513': {'reac_id': 'DTMPKI-RXN_c0', 'seed_id': 'rxn01513', 'bigg_ann': ['DTMPK', 'DTMPKm'], 'in_modelseed': ['CDC8', 'DTMPK'], 'both': {'CDC8', 'DTMPKm', 'DTMPK'}}, 'rxn05333': {'reac_id': 'MNXR94876_c0', 'seed_id': 'rxn05333', 'bigg_ann': ['3HAD100', '3HAD100_1'], 'in_modelseed': ['3HAD100', 'HDEHL4'], 'both': {'3HAD100_1', 'HDEHL4', '3HAD100'}}, 'rxn06510': {'reac_id': 'RXN-14268_c0', 'seed_id': 'rxn06510', 'bigg_ann': ['ACACT6m', 'ACACT6p', 'ACACT6r', 'KAT6'], 'in_modelseed': ['ACACT6r', 'KAT6'], 'both': {'ACACT6m', 'ACACT6p', 'KAT6', 'ACACT6r'}}, 'rxn08307': {'reac_id': 'DASYN140', 'seed_id': 'rxn08307', 'bigg_ann': 'DASYN140', 'in_modelseed': ['DASYN140'], 'both': {'DASYN140'}}, 'rxn05177': {'reac_id': 'ABC-32-RXN_c0', 'seed_id': 'rxn05177', 'bigg_ann': ['THMabc', 'THMabcpp'], 'in_modelseed': ['THMabc'], 'both': {'THMabc', 'THMabcpp'}}, 'rxn00209': {'reac_id': 'PDX5POi', 'seed_id': 'rxn00209', 'bigg_ann': 'PDX5POi', 'in_modelseed': ['PDX3_2', 'PDX5PO', 'PDX5POi'], 'both': {'PDX5PO', 'PDX3_2', 'PDX5POi'}}, 'rxn01274': {'reac_id': 'GLYOXII-RXN_c0', 'seed_id': 'rxn01274', 'bigg_ann': ['GLYOX', 'GLYOXm'], 'in_modelseed': ['GLYOX'], 'both': {'GLYOXm', 'GLYOX'}}, 'rxn02474': {'reac_id': 'RIBOFLAVINSYNREDUC-RXN_c0', 'seed_id': 'rxn02474', 'bigg_ann': ['APRAUR', 'AUNOR'], 'in_modelseed': ['APRAUR', 'RIB7_2'], 'both': {'RIB7_2', 'AUNOR', 'APRAUR'}}, 'rxn02230': {'reac_id': 'MCPST', 'seed_id': 'rxn02230', 'bigg_ann': 'MCPST', 'in_modelseed': ['MCPST', 'MCPSTr'], 'both': {'MCPST', 'MCPSTr'}}, 'rxn03246': {'reac_id': 'MNXR100544_c0', 'seed_id': 'rxn03246', 'bigg_ann': ['HACD3', 'HACD3_1', 'HACD3i', 'HACD3m'], 'in_modelseed': ['HACD3', 'HACD3i'], 'both': {'HACD3_1', 'HACD3m', 'HACD3i', 'HACD3'}}, 'rxn04783': {'reac_id': 'GART', 'seed_id': 'rxn04783', 'bigg_ann': 'GART', 'in_modelseed': ['GART'], 'both': {'GART'}}, 'rxn02144': {'reac_id': '3-OXOADIPATE-ENOL-LACTONASE-RXN_c0', 'seed_id': 'rxn02144', 'bigg_ann': 'OXOAEL', 'in_modelseed': ['OXOAEL', 'PCAD'], 'both': {'OXOAEL', 'PCAD'}}, 'rxn00604': {'reac_id': 'GLU6PDEHYDROG-RXN_c0', 'seed_id': 'rxn00604', 'bigg_ann': ['G6PDH2er', 'G6PDH2r'], 'in_modelseed': ['G6PDH', 'G6PDH2', 'G6PDH2r', 'G6PDHy', 'ZWF1'], 'both': {'ZWF1', 'G6PDH2', 'G6PDHy', 'G6PDH', 'G6PDH2r', 'G6PDH2er'}}, 'rxn12645': {'reac_id': 'MNXR137145_c0', 'seed_id': 'rxn12645', 'bigg_ann': 'MISSING', 'in_modelseed': ['MEAMP1(gly-asn)'], 'both': {'MEAMP1(gly-asn)'}}, 'rxn00274': {'reac_id': 'AKBLIG-RXN_c0', 'seed_id': 'rxn00274', 'bigg_ann': ['GLYAT', 'GLYATi', 'GLYATm', 'GLYATx'], 'in_modelseed': ['GLYAT', 'GLYATRi', 'GLYATi'], 'both': {'GLYATi', 'GLYATx', 'GLYATm', 'GLYATRi', 'GLYAT'}}, 'rxn00674': {'reac_id': 'PROPIONATE--COA-LIGASE-RXN_c0', 'seed_id': 'rxn00674', 'bigg_ann': 'MISSING', 'in_modelseed': ['ACS2'], 'both': {'ACS2'}}, 'rxn00715': {'reac_id': 'MNXR105164_c0', 'seed_id': 'rxn00715', 'bigg_ann': 'URIK3', 'in_modelseed': ['URIK3'], 'both': {'URIK3'}}, 'rxn08849': {'reac_id': 'MNXR135889_c0', 'seed_id': 'rxn08849', 'bigg_ann': 'MISSING', 'in_modelseed': ['LPLIPAL2G161'], 'both': {'LPLIPAL2G161'}}, 'rxn09448': {'reac_id': 'MNXR136033_c0', 'seed_id': 'rxn09448', 'bigg_ann': 'MISSING', 'in_modelseed': ['FACOAL181'], 'both': {'FACOAL181'}}, 'rxn09208': {'reac_id': 'PSSA160', 'seed_id': 'rxn09208', 'bigg_ann': 'PSSA160', 'in_modelseed': ['PSSA160'], 'both': {'PSSA160'}}, 'rxn05305': {'reac_id': 'MNXR101267_c0', 'seed_id': 'rxn05305', 'bigg_ann': ['LYSt3pp', 'LYSt3r', 'LYSt6', 'LYStm'], 'in_modelseed': ['LYSt3', 'LYSt3r'], 'both': {'LYSt3', 'LYSt3r', 'LYStm', 'LYSt3pp', 'LYSt6'}}, 'rxn00014': {'reac_id': 'MNXR134185_c0', 'seed_id': 'rxn00014', 'bigg_ann': 'MISSING', 'in_modelseed': ['CCP', 'CYCPO'], 'both': {'CCP', 'CYCPO'}}, 'rxn00202': {'reac_id': 'HOMOCITRATE-SYNTHASE-RXN_c0', 'seed_id': 'rxn00202', 'bigg_ann': 'MISSING', 'in_modelseed': ['HCITS', 'LYS20_1', 'LYS21'], 'both': {'HCITS', 'LYS21', 'LYS20_1'}}, 'rxn05593': {'reac_id': 'MNXR100841_c0', 'seed_id': 'rxn05593', 'bigg_ann': ['INOSTtpp', 'INSTt2'], 'in_modelseed': ['INSTt2', 'ITR1', 'ITR2'], 'both': {'INSTt2', 'INOSTtpp', 'ITR1', 'ITR2'}}, 'rxn08295': {'reac_id': 'MNXR135766_c0', 'seed_id': 'rxn08295', 'bigg_ann': 'MISSING', 'in_modelseed': ['DAGK140'], 'both': {'DAGK140'}}, 'rxn02914': {'reac_id': 'PSERTRANSAM-RXN_c0', 'seed_id': 'rxn02914', 'bigg_ann': ['PSAT', 'PSERT'], 'in_modelseed': ['PSERT', 'PSERTr', 'SER1_1'], 'both': {'PSAT', 'PSERT', 'PSERTr', 'SER1_1'}}, 'rxn01603': {'reac_id': 'DIHYDROFOLATESYNTH-RXN_c0', 'seed_id': 'rxn01603', 'bigg_ann': ['DHFS', 'DHFS_1'], 'in_modelseed': ['DHFS', 'U89'], 'both': {'U89', 'DHFS', 'DHFS_1'}}, 'rxn00686': {'reac_id': 'MNXR97401_c0', 'seed_id': 'rxn00686', 'bigg_ann': ['DHFR', 'DHFRim'], 'in_modelseed': ['DFR1_2', 'DHFR', 'DHFRi'], 'both': {'DHFRi', 'DHFR', 'DHFRim', 'DFR1_2'}}, 'rxn09112': {'reac_id': 'PGSA161', 'seed_id': 'rxn09112', 'bigg_ann': 'PGSA161', 'in_modelseed': ['PGSA161'], 'both': {'PGSA161'}}, 'rxn00157': {'reac_id': 'PYRUVFORMLY-RXN_c0', 'seed_id': 'rxn00157', 'bigg_ann': ['PFL', 'PFLACTm', 'PFLh'], 'in_modelseed': ['PFL', 'PFLi', 'PFLr'], 'both': {'PFL', 'PFLr', 'PFLi', 'PFLh', 'PFLACTm'}}, 'rxn06075': {'reac_id': 'UDPREDUCT-RXN_c0', 'seed_id': 'rxn06075', 'bigg_ann': ['RNDR4', 'RNDR4n'], 'in_modelseed': ['RNDR4', 'RNDR5B12'], 'both': {'RNDR5B12', 'RNDR4', 'RNDR4n'}}, 'rxn08129': {'reac_id': 'AMALT4', 'seed_id': 'rxn08129', 'bigg_ann': 'AMALT4', 'in_modelseed': ['AMALT4'], 'both': {'AMALT4'}}, 'rxn01286': {'reac_id': 'MNXR100310_c0', 'seed_id': 'rxn01286', 'bigg_ann': ['GLYALDDr', 'GLYALDOR', 'r0393'], 'in_modelseed': ['ALDD8x', 'GLYALDDr'], 'both': {'r0393', 'GLYALDOR', 'ALDD8x', 'GLYALDDr'}}, 'rxn05289': {'reac_id': 'THIOREDOXIN-REDUCT-NADPH-RXN_c0', 'seed_id': 'rxn05289', 'bigg_ann': ['TDSRh', 'TRDR', 'TRDRm'], 'in_modelseed': ['TRDR'], 'both': {'TRDR', 'TDSRh', 'TRDRm'}}, 'rxn01973': {'reac_id': 'SDPDS', 'seed_id': 'rxn01973', 'bigg_ann': 'SDPDS', 'in_modelseed': ['SDPDS'], 'both': {'SDPDS'}}, 'rxn05467': {'reac_id': 'TRANS-RXN0-545_c0', 'seed_id': 'rxn05467', 'bigg_ann': ['CO2t', 'CO2ter', 'CO2tex', 'CO2tg', 'CO2th', 'CO2tm', 'CO2tn', 'CO2tp', 'CO2tpp', 'CO2tpp_1', 'CO2tv'], 'in_modelseed': ['CO2t', 'U228'], 'both': {'CO2tg', 'CO2th', 'CO2tn', 'CO2tex', 'CO2tpp', 'CO2tpp_1', 'CO2tp', 'U228', 'CO2t', 'CO2tv', 'CO2tm', 'CO2ter'}}, 'rxn00117': {'reac_id': 'UDPKIN-RXN_c0', 'seed_id': 'rxn00117', 'bigg_ann': ['NDPK2', 'NDPK2m', 'NDPK2n'], 'in_modelseed': ['NDPK2', 'YNK1_1'], 'both': {'NDPK2', 'YNK1_1', 'NDPK2n', 'NDPK2m'}}, 'rxn05343': {'reac_id': 'RXN-9527_c0', 'seed_id': 'rxn05343', 'bigg_ann': 'MISSING', 'in_modelseed': ['3OAS100', 'FAS2_4_1', 'MCMAT4'], 'both': {'3OAS100', 'MCMAT4', 'FAS2_4_1'}}, 'rxn01520': {'reac_id': 'TMDS', 'seed_id': 'rxn01520', 'bigg_ann': 'TMDS', 'in_modelseed': ['CDC21', 'TMDS'], 'both': {'CDC21', 'TMDS'}}, 'rxn03395': {'reac_id': 'OHPHM', 'seed_id': 'rxn03395', 'bigg_ann': 'OHPHM', 'in_modelseed': ['OHPHM'], 'both': {'OHPHM'}}, 'rxn00330': {'reac_id': 'MALSYN-RXN_c0', 'seed_id': 'rxn00330', 'bigg_ann': ['MALS', 'MALSh', 'MALSm', 'MALSp'], 'in_modelseed': ['DAL7', 'MALS', 'MLS1'], 'both': {'DAL7', 'MALSm', 'MALSp', 'MALSh', 'MALS', 'MLS1'}}, 'rxn05736': {'reac_id': 'MNXR126663_c0', 'seed_id': 'rxn05736', 'bigg_ann': 'MISSING', 'in_modelseed': ['FAA1_2', 'FACOAL140'], 'both': {'FAA1_2', 'FACOAL140'}}, 'rxn03445': {'reac_id': 'OHPBAT', 'seed_id': 'rxn03445', 'bigg_ann': 'OHPBAT', 'in_modelseed': ['OHPBAT', 'SER1_2'], 'both': {'OHPBAT', 'SER1_2'}}, 'rxn00493': {'reac_id': 'PHEAMINOTRANS-RXN_c0', 'seed_id': 'rxn00493', 'bigg_ann': ['PHETA1', 'PHETA1m', 'POAT', 'POATh', 'POATm'], 'in_modelseed': ['ARO9_1', 'PHETA1'], 'both': {'POATm', 'PHETA1m', 'PHETA1', 'ARO9_1', 'POATh', 'POAT'}}, 'rxn08298': {'reac_id': 'MNXR135769_c0', 'seed_id': 'rxn08298', 'bigg_ann': 'MISSING', 'in_modelseed': ['DAGK161'], 'both': {'DAGK161'}}, 'rxn01834': {'reac_id': 'GLYOXI-RXN_c0', 'seed_id': 'rxn01834', 'bigg_ann': ['GLYOX_1', 'LGTHL'], 'in_modelseed': ['GLO1', 'LGTHL'], 'both': {'GLO1', 'LGTHL', 'GLYOX_1'}}, 'rxn00293': {'reac_id': 'UAGDP', 'seed_id': 'rxn00293', 'bigg_ann': 'MISSING', 'in_modelseed': ['UAGDPr'], 'both': {'UAGDPr'}}, 'rxn00948': {'reac_id': 'SERINE-C-PALMITOYLTRANSFERASE-RXN_c0', 'seed_id': 'rxn00948', 'bigg_ann': 'SERPT', 'in_modelseed': ['LCB1', 'LCB2', 'SERPT'], 'both': {'SERPT', 'LCB2', 'LCB1'}}, 'rxn00741': {'reac_id': 'MNXR94796_c0', 'seed_id': 'rxn00741', 'bigg_ann': ['2HBO', 'LDH2'], 'in_modelseed': ['2HBO', 'LDH2'], 'both': {'LDH2', '2HBO'}}, 'rxn00839': {'reac_id': 'DADPKIN-RXN_c0', 'seed_id': 'rxn00839', 'bigg_ann': ['NDPK8', 'NDPK8m', 'NDPK8n'], 'in_modelseed': ['NDPK8', 'YNK1_7'], 'both': {'NDPK8n', 'NDPK8', 'NDPK8m', 'YNK1_7'}}, 'rxn03439': {'reac_id': 'MOAT2', 'seed_id': 'rxn03439', 'bigg_ann': 'MOAT2', 'in_modelseed': ['MOAT2'], 'both': {'MOAT2'}}, 'rxn10473': {'reac_id': 'TRANS-RXN-139_c0', 'seed_id': 'rxn10473', 'bigg_ann': ['CLtex', 'Clt'], 'in_modelseed': ['Clt'], 'both': {'Clt', 'CLtex'}}, 'rxn00851': {'reac_id': 'ALAALAr', 'seed_id': 'rxn00851', 'bigg_ann': 'ALAALAr', 'in_modelseed': ['ALAALA', 'ALAALAr'], 'both': {'ALAALA', 'ALAALAr'}}, 'rxn05329': {'reac_id': 'MNXR94886_c0', 'seed_id': 'rxn05329', 'bigg_ann': 'MISSING', 'in_modelseed': ['HBUHL1'], 'both': {'HBUHL1'}}, 'rxn08618': {'reac_id': 'MNXR135833_c0', 'seed_id': 'rxn08618', 'bigg_ann': 'MISSING', 'in_modelseed': ['GLCTR1'], 'both': {'GLCTR1'}}, 'rxn08620': {'reac_id': 'GLCTR3', 'seed_id': 'rxn08620', 'bigg_ann': 'GLCTR3', 'in_modelseed': ['GLCTR3'], 'both': {'GLCTR3'}}, 'rxn00979': {'reac_id': 'GLYCOLALD-DEHYDROG-RXN_c0', 'seed_id': 'rxn00979', 'bigg_ann': ['GCALDD', 'GCALDDm'], 'in_modelseed': ['GCALDD', 'GCALDDr'], 'both': {'GCALDDr', 'GCALDD', 'GCALDDm'}}, 'rxn02774': {'reac_id': 'DIMETHUROPORDEHYDROG-RXN_c0', 'seed_id': 'rxn02774', 'bigg_ann': ['SHCHD2', 'SHCHD2_1'], 'in_modelseed': ['SHCHD2'], 'both': {'SHCHD2', 'SHCHD2_1'}}, 'rxn03164': {'reac_id': 'UDP-NACMURALGLDAPAALIG-RXN_c0', 'seed_id': 'rxn03164', 'bigg_ann': 'MISSING', 'in_modelseed': ['UGMDDS'], 'both': {'UGMDDS'}}, 'rxn08619': {'reac_id': 'GLCTR2', 'seed_id': 'rxn08619', 'bigg_ann': 'GLCTR2', 'in_modelseed': ['GLCTR2'], 'both': {'GLCTR2'}}, 'rxn02404': {'reac_id': 'MNXR108110_c0', 'seed_id': 'rxn02404', 'bigg_ann': 'MISSING', 'in_modelseed': ['KDOPP'], 'both': {'KDOPP'}}, 'rxn08712': {'reac_id': 'HEPT3', 'seed_id': 'rxn08712', 'bigg_ann': 'HEPT3', 'in_modelseed': ['HEPT3'], 'both': {'HEPT3'}}, 'rxn08708': {'reac_id': 'HEPK1', 'seed_id': 'rxn08708', 'bigg_ann': 'HEPK1', 'in_modelseed': ['HEPK1'], 'both': {'HEPK1'}}, 'rxn08709': {'reac_id': 'HEPK2', 'seed_id': 'rxn08709', 'bigg_ann': 'HEPK2', 'in_modelseed': ['HEPK2'], 'both': {'HEPK2'}}, 'rxn05514': {'reac_id': 'MNXR96437_c0', 'seed_id': 'rxn05514', 'bigg_ann': ['CA2t3pp', 'CAt4'], 'in_modelseed': ['CAt4', 'CAt4i'], 'both': {'CAt4i', 'CA2t3pp', 'CAt4'}}, 'rxn05039': {'reac_id': 'RIBOPHOSPHAT-RXN_c0', 'seed_id': 'rxn05039', 'bigg_ann': ['AUS', 'PMDPHT'], 'in_modelseed': ['U78'], 'both': {'PMDPHT', 'AUS', 'U78'}}, 'rxn03182': {'reac_id': 'MOAT', 'seed_id': 'rxn03182', 'bigg_ann': 'MOAT', 'in_modelseed': ['MOAT'], 'both': {'MOAT'}}, 'rxn08583': {'reac_id': 'GALT1', 'seed_id': 'rxn08583', 'bigg_ann': 'GALT1', 'in_modelseed': ['GALT1'], 'both': {'GALT1'}}, 'rxn08954': {'reac_id': 'MOAT3C', 'seed_id': 'rxn08954', 'bigg_ann': 'MOAT3C', 'in_modelseed': ['MOAT3C'], 'both': {'MOAT3C'}}, 'rxn08333': {'reac_id': 'MNXR135774_c0', 'seed_id': 'rxn08333', 'bigg_ann': 'MISSING', 'in_modelseed': ['DHNAOT4'], 'both': {'DHNAOT4'}}, 'rxn09225': {'reac_id': 'MNXR135993_c0', 'seed_id': 'rxn09225', 'bigg_ann': 'MISSING', 'in_modelseed': ['RHAT1'], 'both': {'RHAT1'}}, 'rxn05618': {'reac_id': 'MNXR134973_c0', 'seed_id': 'rxn05618', 'bigg_ann': 'MISSING', 'in_modelseed': ['MNt2'], 'both': {'MNt2'}}, 'rxn08713': {'reac_id': 'HEPT4', 'seed_id': 'rxn08713', 'bigg_ann': 'HEPT4', 'in_modelseed': ['HEPT4'], 'both': {'HEPT4'}}}\n"
     ]
    }
   ],
   "source": [
    "new_bigg_ann_dict={}\n",
    "\n",
    "for reac in model.reactions:\n",
    "\n",
    "    if \"seed.compound\" in reac.annotation and reac.annotation[\"seed.compound\"] in modelseed_reac_dict2.keys():\n",
    "        #print(\"modelseed bigg id\", modelseed_reac_dict2[reac.annotation[\"seed.compound\"]])\n",
    "        if \"bigg.reaction\" in reac.annotation and reac.annotation[\"bigg.reaction\"] in modelseed_reac_dict2[reac.annotation[\"seed.compound\"]] :\n",
    "            \n",
    "            new_bigg_ann_dict[reac.annotation[\"seed.compound\"]]={}\n",
    "            new_bigg_ann_dict[reac.annotation[\"seed.compound\"]][\"reac_id\"]=reac.id\n",
    "            new_bigg_ann_dict[reac.annotation[\"seed.compound\"]][\"seed_id\"]=reac.annotation[\"seed.compound\"]\n",
    "            new_bigg_ann_dict[reac.annotation[\"seed.compound\"]][\"bigg_ann\"]=reac.annotation[\"bigg.reaction\"]\n",
    "            new_bigg_ann_dict[reac.annotation[\"seed.compound\"]][\"in_modelseed\"]=modelseed_reac_dict2[reac.annotation[\"seed.compound\"]]\n",
    "            both_db_ann=[]\n",
    "            if type(reac.annotation[\"bigg.reaction\"])==list:\n",
    "                for rl in reac.annotation[\"bigg.reaction\"]:\n",
    "                    both_db_ann.append(rl)\n",
    "            else:\n",
    "                both_db_ann.append(reac.annotation[\"bigg.reaction\"])\n",
    "                \n",
    "            if type(modelseed_reac_dict2[reac.annotation[\"seed.compound\"]])==list:\n",
    "                for rl in modelseed_reac_dict2[reac.annotation[\"seed.compound\"]]:\n",
    "                    both_db_ann.append(rl)\n",
    "            else:\n",
    "                both_db_ann.append(modelseed_reac_dict2[reac.annotation[\"seed.compound\"]])\n",
    "                \n",
    "            new_bigg_ann_dict[reac.annotation[\"seed.compound\"]][\"both\"]=set(both_db_ann)\n",
    "            #there is annotation not list and  it is the same as in modelseed d\n",
    "        elif \"bigg.reaction\" in reac.annotation and type(reac.annotation[\"bigg.reaction\"])==list:\n",
    "            new_bigg_ann_dict[reac.annotation[\"seed.compound\"]]={}\n",
    "            new_bigg_ann_dict[reac.annotation[\"seed.compound\"]][\"reac_id\"]=reac.id\n",
    "            new_bigg_ann_dict[reac.annotation[\"seed.compound\"]][\"seed_id\"]=reac.annotation[\"seed.compound\"]\n",
    "            new_bigg_ann_dict[reac.annotation[\"seed.compound\"]][\"bigg_ann\"]=reac.annotation[\"bigg.reaction\"]\n",
    "            new_bigg_ann_dict[reac.annotation[\"seed.compound\"]][\"in_modelseed\"]=modelseed_reac_dict2[reac.annotation[\"seed.compound\"]]\n",
    "            both_db_ann=[]\n",
    "            if type(reac.annotation[\"bigg.reaction\"])==list:\n",
    "                for rl in reac.annotation[\"bigg.reaction\"]:\n",
    "                    both_db_ann.append(rl)\n",
    "            else:\n",
    "                both_db_ann.append(reac.annotation[\"bigg.reaction\"])\n",
    "                \n",
    "            if type(modelseed_reac_dict2[reac.annotation[\"seed.compound\"]])==list:\n",
    "                for rl in modelseed_reac_dict2[reac.annotation[\"seed.compound\"]]:\n",
    "                    both_db_ann.append(rl)\n",
    "            else:\n",
    "                both_db_ann.append(modelseed_reac_dict2[reac.annotation[\"seed.compound\"]])\n",
    "                \n",
    "            new_bigg_ann_dict[reac.annotation[\"seed.compound\"]][\"both\"]=set(both_db_ann)\n",
    "            \n",
    "         \n",
    "\n",
    "        else:\n",
    "            #bigg not in annotation, but there is in the modelseed\n",
    "       \n",
    "            new_bigg_ann_dict[reac.annotation[\"seed.compound\"]]={}\n",
    "            new_bigg_ann_dict[reac.annotation[\"seed.compound\"]][\"reac_id\"]=reac.id\n",
    "            new_bigg_ann_dict[reac.annotation[\"seed.compound\"]][\"seed_id\"]=reac.annotation[\"seed.compound\"]\n",
    "            new_bigg_ann_dict[reac.annotation[\"seed.compound\"]][\"bigg_ann\"]=\"MISSING\"\n",
    "            new_bigg_ann_dict[reac.annotation[\"seed.compound\"]][\"in_modelseed\"]=modelseed_reac_dict2[reac.annotation[\"seed.compound\"]]\n",
    "            new_bigg_ann_dict[reac.annotation[\"seed.compound\"]][\"both\"]=set(modelseed_reac_dict2[reac.annotation[\"seed.compound\"]])\n",
    "            newid=modelseed_reac_dict2[reac.annotation[\"seed.compound\"]][0].replace(\" \", \"\")\n",
    "        \n",
    "            reac.id=newid\n",
    "            reac.id\n",
    "            model.repair()\n",
    "print(new_bigg_ann_dict)"
   ]
  },
  {
   "cell_type": "code",
   "execution_count": 13,
   "metadata": {},
   "outputs": [
    {
     "data": {
      "text/plain": [
       "{'cpd00443': {'met_id': '4abz_c',\n",
       "  'seed_id': 'cpd00443',\n",
       "  'bigg_ann': '4abz',\n",
       "  'in_modelseed': ['4abz'],\n",
       "  'both': {'4abz'}},\n",
       " 'cpd02920': {'met_id': 'DIHYDROPTERIN-CH2OH-PP_c0',\n",
       "  'seed_id': 'cpd02920',\n",
       "  'bigg_ann': ['2ahhmd', '6hmhptpp'],\n",
       "  'in_modelseed': ['2ahhmd', '6hmhptpp'],\n",
       "  'both': {'2ahhmd', '6hmhptpp'}},\n",
       " 'cpd00012': {'met_id': 'ppi_e',\n",
       "  'seed_id': 'cpd00012',\n",
       "  'bigg_ann': 'ppi',\n",
       "  'in_modelseed': ['ppi'],\n",
       "  'both': {'ppi'}},\n",
       " 'cpd00067': {'met_id': 'h_e',\n",
       "  'seed_id': 'cpd00067',\n",
       "  'bigg_ann': 'h',\n",
       "  'in_modelseed': ['h'],\n",
       "  'both': {'h'}},\n",
       " 'cpd00683': {'met_id': 'dhpt_c',\n",
       "  'seed_id': 'cpd00683',\n",
       "  'bigg_ann': 'dhpt',\n",
       "  'in_modelseed': ['dhpt'],\n",
       "  'both': {'dhpt'}},\n",
       " 'cpd00002': {'met_id': 'atp_c',\n",
       "  'seed_id': 'cpd00002',\n",
       "  'bigg_ann': 'atp',\n",
       "  'in_modelseed': ['atp'],\n",
       "  'both': {'atp'}},\n",
       " 'cpd00033': {'met_id': 'gly_c',\n",
       "  'seed_id': 'cpd00033',\n",
       "  'bigg_ann': 'gly',\n",
       "  'in_modelseed': ['gly'],\n",
       "  'both': {'gly'}},\n",
       " 'cpd00506': {'met_id': 'glucys_c',\n",
       "  'seed_id': 'cpd00506',\n",
       "  'bigg_ann': 'glucys',\n",
       "  'in_modelseed': ['glucys'],\n",
       "  'both': {'glucys'}},\n",
       " 'cpd00008': {'met_id': 'adp_c',\n",
       "  'seed_id': 'cpd00008',\n",
       "  'bigg_ann': 'adp',\n",
       "  'in_modelseed': ['adp'],\n",
       "  'both': {'adp'}},\n",
       " 'cpd00009': {'met_id': 'pi_e',\n",
       "  'seed_id': 'cpd00009',\n",
       "  'bigg_ann': 'pi',\n",
       "  'in_modelseed': ['pi'],\n",
       "  'both': {'pi'}},\n",
       " 'cpd00042': {'met_id': 'gthrd_c',\n",
       "  'seed_id': 'cpd00042',\n",
       "  'bigg_ann': 'gthrd',\n",
       "  'in_modelseed': ['gthrd'],\n",
       "  'both': {'gthrd'}},\n",
       " 'cpd00213': {'met_id': 'LIPOAMIDE_c0',\n",
       "  'seed_id': 'cpd00213',\n",
       "  'bigg_ann': 'lpam',\n",
       "  'in_modelseed': ['lpam'],\n",
       "  'both': {'lpam'}},\n",
       " 'cpd14700': {'met_id': 'MNXM6734_c0',\n",
       "  'seed_id': 'cpd14700',\n",
       "  'bigg_ann': '2mhop',\n",
       "  'in_modelseed': ['2mhop'],\n",
       "  'both': {'2mhop'}},\n",
       " 'cpd00056': {'met_id': 'thmpp_c',\n",
       "  'seed_id': 'cpd00056',\n",
       "  'bigg_ann': 'thmpp',\n",
       "  'in_modelseed': ['thmpp'],\n",
       "  'both': {'thmpp'}},\n",
       " 'cpd02700': {'met_id': 'CPD-281_c0',\n",
       "  'seed_id': 'cpd02700',\n",
       "  'bigg_ann': '2mpdhl',\n",
       "  'in_modelseed': ['2mpdhl'],\n",
       "  'both': {'2mpdhl'}},\n",
       " 'cpd00114': {'met_id': 'imp_c',\n",
       "  'seed_id': 'cpd00114',\n",
       "  'bigg_ann': 'imp',\n",
       "  'in_modelseed': ['imp'],\n",
       "  'both': {'imp'}},\n",
       " 'cpd00103': {'met_id': 'prpp_c',\n",
       "  'seed_id': 'cpd00103',\n",
       "  'bigg_ann': 'prpp',\n",
       "  'in_modelseed': ['prpp'],\n",
       "  'both': {'prpp'}},\n",
       " 'cpd00226': {'met_id': 'hxan_e',\n",
       "  'seed_id': 'cpd00226',\n",
       "  'bigg_ann': 'hxan',\n",
       "  'in_modelseed': ['hxan'],\n",
       "  'both': {'hxan'}},\n",
       " 'cpd00003': {'met_id': 'nad_c',\n",
       "  'seed_id': 'cpd00003',\n",
       "  'bigg_ann': 'nad',\n",
       "  'in_modelseed': ['nad'],\n",
       "  'both': {'nad'}},\n",
       " 'cpd01861': {'met_id': '12ppd__R_c',\n",
       "  'seed_id': 'cpd01861',\n",
       "  'bigg_ann': '12ppd__R',\n",
       "  'in_modelseed': ['12ppd__R'],\n",
       "  'both': {'12ppd__R'}},\n",
       " 'cpd00004': {'met_id': 'nadh_c',\n",
       "  'seed_id': 'cpd00004',\n",
       "  'bigg_ann': 'nadh',\n",
       "  'in_modelseed': ['nadh'],\n",
       "  'both': {'nadh'}},\n",
       " 'cpd00693': {'met_id': 'lald__D_c',\n",
       "  'seed_id': 'cpd00693',\n",
       "  'bigg_ann': 'lald__D',\n",
       "  'in_modelseed': ['lald__D'],\n",
       "  'both': {'lald__D'}},\n",
       " 'cpd00001': {'met_id': 'CPD-15815_e0',\n",
       "  'seed_id': 'cpd00001',\n",
       "  'bigg_ann': ['h2o', 'oh1'],\n",
       "  'in_modelseed': ['oh1'],\n",
       "  'both': {'h2o', 'oh1'}},\n",
       " 'cpd00041': {'met_id': 'L-ASPARTATE_e0',\n",
       "  'seed_id': 'cpd00041',\n",
       "  'bigg_ann': ['CE1787', 'CE5868', 'asp__L'],\n",
       "  'in_modelseed': ['asp__L'],\n",
       "  'both': {'CE1787', 'CE5868', 'asp__L'}},\n",
       " 'cpd00017': {'met_id': 'amet_c',\n",
       "  'seed_id': 'cpd00017',\n",
       "  'bigg_ann': 'amet',\n",
       "  'in_modelseed': ['amet'],\n",
       "  'both': {'amet'}},\n",
       " 'cpd00074': {'met_id': 'MNXM162285_c0',\n",
       "  'seed_id': 'cpd00074',\n",
       "  'bigg_ann': 's',\n",
       "  'in_modelseed': ['s'],\n",
       "  'both': {'s'}},\n",
       " 'cpd01311': {'met_id': 'dtbt_c',\n",
       "  'seed_id': 'cpd01311',\n",
       "  'bigg_ann': 'dtbt',\n",
       "  'in_modelseed': ['dtbt'],\n",
       "  'both': {'dtbt'}},\n",
       " 'cpd00060': {'met_id': 'met__L_e',\n",
       "  'seed_id': 'cpd00060',\n",
       "  'bigg_ann': 'met__L',\n",
       "  'in_modelseed': ['met__L'],\n",
       "  'both': {'met__L'}},\n",
       " 'cpd00104': {'met_id': 'btn_c',\n",
       "  'seed_id': 'cpd00104',\n",
       "  'bigg_ann': 'btn',\n",
       "  'in_modelseed': ['btn'],\n",
       "  'both': {'btn'}},\n",
       " 'cpd03091': {'met_id': 'dad_5_c',\n",
       "  'seed_id': 'cpd03091',\n",
       "  'bigg_ann': 'dad_5',\n",
       "  'in_modelseed': ['dad_5'],\n",
       "  'both': {'dad_5'}},\n",
       " 'cpd00182': {'met_id': 'adn_c',\n",
       "  'seed_id': 'cpd00182',\n",
       "  'bigg_ann': 'adn',\n",
       "  'in_modelseed': ['adn'],\n",
       "  'both': {'adn'}},\n",
       " 'cpd01293': {'met_id': '5-OXOPROLINE_c0',\n",
       "  'seed_id': 'cpd01293',\n",
       "  'bigg_ann': '5oxpro',\n",
       "  'in_modelseed': ['5oxpro'],\n",
       "  'both': {'5oxpro'}},\n",
       " 'cpd00108': {'met_id': 'gal_c',\n",
       "  'seed_id': 'cpd00108',\n",
       "  'bigg_ann': 'gal',\n",
       "  'in_modelseed': ['gal'],\n",
       "  'both': {'gal'}},\n",
       " 'cpd00022': {'met_id': 'accoa_c',\n",
       "  'seed_id': 'cpd00022',\n",
       "  'bigg_ann': 'accoa',\n",
       "  'in_modelseed': ['accoa'],\n",
       "  'both': {'accoa'}},\n",
       " 'cpd00054': {'met_id': 'ser__L_e',\n",
       "  'seed_id': 'cpd00054',\n",
       "  'bigg_ann': 'ser__L',\n",
       "  'in_modelseed': ['ser__L'],\n",
       "  'both': {'ser__L'}},\n",
       " 'cpd00010': {'met_id': 'coa_c',\n",
       "  'seed_id': 'cpd00010',\n",
       "  'bigg_ann': 'coa',\n",
       "  'in_modelseed': ['coa'],\n",
       "  'both': {'coa'}},\n",
       " 'cpd00722': {'met_id': 'acser_c',\n",
       "  'seed_id': 'cpd00722',\n",
       "  'bigg_ann': 'acser',\n",
       "  'in_modelseed': ['acser'],\n",
       "  'both': {'acser'}},\n",
       " 'cpd00046': {'met_id': 'cmp_c',\n",
       "  'seed_id': 'cpd00046',\n",
       "  'bigg_ann': 'cmp',\n",
       "  'in_modelseed': ['cmp'],\n",
       "  'both': {'cmp'}},\n",
       " 'cpd00096': {'met_id': 'cdp_c',\n",
       "  'seed_id': 'cpd00096',\n",
       "  'bigg_ann': 'cdp',\n",
       "  'in_modelseed': ['cdp'],\n",
       "  'both': {'cdp'}},\n",
       " 'cpd00106': {'met_id': 'fum_c',\n",
       "  'seed_id': 'cpd00106',\n",
       "  'bigg_ann': 'fum',\n",
       "  'in_modelseed': ['fum'],\n",
       "  'both': {'fum'}},\n",
       " 'cpd00037': {'met_id': 'uacgam_c',\n",
       "  'seed_id': 'cpd00037',\n",
       "  'bigg_ann': 'uacgam',\n",
       "  'in_modelseed': ['uacgam'],\n",
       "  'both': {'uacgam'}},\n",
       " 'cpd03494': {'met_id': 'uagmda_c',\n",
       "  'seed_id': 'cpd03494',\n",
       "  'bigg_ann': 'uagmda',\n",
       "  'in_modelseed': ['uagmda'],\n",
       "  'both': {'uagmda'}},\n",
       " 'cpd00014': {'met_id': 'udp_c',\n",
       "  'seed_id': 'cpd00014',\n",
       "  'bigg_ann': 'udp',\n",
       "  'in_modelseed': ['udp'],\n",
       "  'both': {'udp'}},\n",
       " 'cpd03495': {'met_id': 'uaagmda_c',\n",
       "  'seed_id': 'cpd03495',\n",
       "  'bigg_ann': 'uaagmda',\n",
       "  'in_modelseed': ['uaagmda'],\n",
       "  'both': {'uaagmda'}},\n",
       " 'cpd00658': {'met_id': 'ichor_c',\n",
       "  'seed_id': 'cpd00658',\n",
       "  'bigg_ann': 'ichor',\n",
       "  'in_modelseed': ['ichor'],\n",
       "  'both': {'ichor'}},\n",
       " 'cpd00020': {'met_id': 'pyr_c',\n",
       "  'seed_id': 'cpd00020',\n",
       "  'bigg_ann': 'pyr',\n",
       "  'in_modelseed': ['pyr'],\n",
       "  'both': {'pyr'}},\n",
       " 'cpd02566': {'met_id': '23ddhb_c',\n",
       "  'seed_id': 'cpd02566',\n",
       "  'bigg_ann': '23ddhb',\n",
       "  'in_modelseed': ['23ddhb'],\n",
       "  'both': {'23ddhb'}},\n",
       " 'cpd11440': {'met_id': 'MNXM3273_c0',\n",
       "  'seed_id': 'cpd11440',\n",
       "  'bigg_ann': 'MISSING',\n",
       "  'in_modelseed': ['fa6'],\n",
       "  'both': {'fa6'}},\n",
       " 'cpd00018': {'met_id': 'amp_c',\n",
       "  'seed_id': 'cpd00018',\n",
       "  'bigg_ann': 'amp',\n",
       "  'in_modelseed': ['amp'],\n",
       "  'both': {'amp'}},\n",
       " 'cpd00023': {'met_id': 'glu__L_e',\n",
       "  'seed_id': 'cpd00023',\n",
       "  'bigg_ann': 'glu__L',\n",
       "  'in_modelseed': ['glu__L'],\n",
       "  'both': {'glu__L'}},\n",
       " 'cpd00084': {'met_id': 'cys__L_c',\n",
       "  'seed_id': 'cpd00084',\n",
       "  'bigg_ann': 'cys__L',\n",
       "  'in_modelseed': ['cys__L'],\n",
       "  'both': {'cys__L'}},\n",
       " 'cpd00015': {'met_id': 'fad_c',\n",
       "  'seed_id': 'cpd00015',\n",
       "  'bigg_ann': 'fad',\n",
       "  'in_modelseed': ['fad'],\n",
       "  'both': {'fad'}},\n",
       " 'cpd00130': {'met_id': 'mal__L_c',\n",
       "  'seed_id': 'cpd00130',\n",
       "  'bigg_ann': 'mal__L',\n",
       "  'in_modelseed': ['mal__L'],\n",
       "  'both': {'mal__L'}},\n",
       " 'cpd00032': {'met_id': 'oaa_c',\n",
       "  'seed_id': 'cpd00032',\n",
       "  'bigg_ann': 'oaa',\n",
       "  'in_modelseed': ['oaa'],\n",
       "  'both': {'oaa'}},\n",
       " 'cpd00982': {'met_id': 'fadh2_c',\n",
       "  'seed_id': 'cpd00982',\n",
       "  'bigg_ann': 'fadh2',\n",
       "  'in_modelseed': ['fadh2'],\n",
       "  'both': {'fadh2'}},\n",
       " 'cpd00533': {'met_id': 'dcdp_c',\n",
       "  'seed_id': 'cpd00533',\n",
       "  'bigg_ann': 'dcdp',\n",
       "  'in_modelseed': ['dcdp'],\n",
       "  'both': {'dcdp'}},\n",
       " 'cpd00356': {'met_id': 'dctp_c',\n",
       "  'seed_id': 'cpd00356',\n",
       "  'bigg_ann': 'dctp',\n",
       "  'in_modelseed': ['dctp'],\n",
       "  'both': {'dctp'}},\n",
       " 'cpd00011': {'met_id': 'co2_e',\n",
       "  'seed_id': 'cpd00011',\n",
       "  'bigg_ann': 'co2',\n",
       "  'in_modelseed': ['co2'],\n",
       "  'both': {'co2'}},\n",
       " 'cpd00061': {'met_id': 'pep_c',\n",
       "  'seed_id': 'cpd00061',\n",
       "  'bigg_ann': 'pep',\n",
       "  'in_modelseed': ['pep'],\n",
       "  'both': {'pep'}},\n",
       " 'cpd00075': {'met_id': 'no2_c',\n",
       "  'seed_id': 'cpd00075',\n",
       "  'bigg_ann': 'no2',\n",
       "  'in_modelseed': ['no2'],\n",
       "  'both': {'no2'}},\n",
       " 'cpd00851': {'met_id': '4-HYDROXY-L-PROLINE_c0',\n",
       "  'seed_id': 'cpd00851',\n",
       "  'bigg_ann': '4hpro_LT',\n",
       "  'in_modelseed': ['4hpro_LT'],\n",
       "  'both': {'4hpro_LT'}},\n",
       " 'cpd03049': {'met_id': '2-ALPHA-HYDROXYETHYL-THPP_c0',\n",
       "  'seed_id': 'cpd03049',\n",
       "  'bigg_ann': '2ahethmpp',\n",
       "  'in_modelseed': ['2ahethmpp'],\n",
       "  'both': {'2ahethmpp'}},\n",
       " 'cpd00836': {'met_id': 'S-ACETYLDIHYDROLIPOAMIDE_c0',\n",
       "  'seed_id': 'cpd00836',\n",
       "  'bigg_ann': ['HC00682', 'adhlam'],\n",
       "  'in_modelseed': ['adhlam'],\n",
       "  'both': {'HC00682', 'adhlam'}},\n",
       " 'cpd00064': {'met_id': 'L-ORNITHINE_c0',\n",
       "  'seed_id': 'cpd00064',\n",
       "  'bigg_ann': ['orn', 'orn__L'],\n",
       "  'in_modelseed': ['orn', 'orn__L'],\n",
       "  'both': {'orn', 'orn__L'}},\n",
       " 'cpd00179': {'met_id': 'malt_e',\n",
       "  'seed_id': 'cpd00179',\n",
       "  'bigg_ann': 'malt',\n",
       "  'in_modelseed': ['malt'],\n",
       "  'both': {'malt'}},\n",
       " 'cpd00027': {'met_id': 'Glucopyranose_e0',\n",
       "  'seed_id': 'cpd00027',\n",
       "  'bigg_ann': ['glc__D', 'glc__bD'],\n",
       "  'in_modelseed': ['glc__D'],\n",
       "  'both': {'glc__D', 'glc__bD'}},\n",
       " 'cpd00137': {'met_id': 'cit_e',\n",
       "  'seed_id': 'cpd00137',\n",
       "  'bigg_ann': 'cit',\n",
       "  'in_modelseed': ['cit'],\n",
       "  'both': {'cit'}},\n",
       " 'cpd00260': {'met_id': 'icit_c',\n",
       "  'seed_id': 'cpd00260',\n",
       "  'bigg_ann': 'icit',\n",
       "  'in_modelseed': ['icit'],\n",
       "  'both': {'icit'}},\n",
       " 'cpd01211': {'met_id': 'tcynt_c',\n",
       "  'seed_id': 'cpd01211',\n",
       "  'bigg_ann': 'tcynt',\n",
       "  'in_modelseed': ['tcynt'],\n",
       "  'both': {'tcynt'}},\n",
       " 'cpd00013': {'met_id': 'AMMONIA_e0',\n",
       "  'seed_id': 'cpd00013',\n",
       "  'bigg_ann': ['nh3', 'nh4'],\n",
       "  'in_modelseed': ['nh3', 'nh4'],\n",
       "  'both': {'nh3', 'nh4'}},\n",
       " 'cpd00521': {'met_id': 'dtdp4d6dg_c',\n",
       "  'seed_id': 'cpd00521',\n",
       "  'bigg_ann': 'dtdp4d6dg',\n",
       "  'in_modelseed': ['dtdp4d6dg'],\n",
       "  'both': {'dtdp4d6dg'}},\n",
       " 'cpd00522': {'met_id': 'dtdp4d6dm_c',\n",
       "  'seed_id': 'cpd00522',\n",
       "  'bigg_ann': 'dtdp4d6dm',\n",
       "  'in_modelseed': ['dtdp4d6dm'],\n",
       "  'both': {'dtdp4d6dm'}},\n",
       " 'cpd03113': {'met_id': '3hhdcoa_c',\n",
       "  'seed_id': 'cpd03113',\n",
       "  'bigg_ann': '3hhdcoa',\n",
       "  'in_modelseed': ['3hhdcoa'],\n",
       "  'both': {'3hhdcoa'}},\n",
       " 'cpd03114': {'met_id': '3ohdcoa_c',\n",
       "  'seed_id': 'cpd03114',\n",
       "  'bigg_ann': '3ohdcoa',\n",
       "  'in_modelseed': ['3ohdcoa'],\n",
       "  'both': {'3ohdcoa'}},\n",
       " 'cpd00007': {'met_id': 'o2_e',\n",
       "  'seed_id': 'cpd00007',\n",
       "  'bigg_ann': 'o2',\n",
       "  'in_modelseed': ['o2'],\n",
       "  'both': {'o2'}},\n",
       " 'cpd00483': {'met_id': '3-HYDROXY-ANTHRANILATE_c0',\n",
       "  'seed_id': 'cpd00483',\n",
       "  'bigg_ann': '3hanthrn',\n",
       "  'in_modelseed': ['3hanthrn'],\n",
       "  'both': {'3hanthrn'}},\n",
       " 'cpd00025': {'met_id': 'h2o2_c',\n",
       "  'seed_id': 'cpd00025',\n",
       "  'bigg_ann': 'h2o2',\n",
       "  'in_modelseed': ['h2o2'],\n",
       "  'both': {'h2o2'}},\n",
       " 'cpd00532': {'met_id': 'MNXM162331_c0',\n",
       "  'seed_id': 'cpd00532',\n",
       "  'bigg_ann': 'MISSING',\n",
       "  'in_modelseed': ['o2s'],\n",
       "  'both': {'o2s'}},\n",
       " 'cpd00039': {'met_id': 'lys__L_e',\n",
       "  'seed_id': 'cpd00039',\n",
       "  'bigg_ann': 'lys__L',\n",
       "  'in_modelseed': ['lys__L'],\n",
       "  'both': {'lys__L'}},\n",
       " 'cpd01155': {'met_id': '15dap_c',\n",
       "  'seed_id': 'cpd01155',\n",
       "  'bigg_ann': '15dap',\n",
       "  'in_modelseed': ['15dap'],\n",
       "  'both': {'15dap'}},\n",
       " 'cpd01307': {'met_id': 'CPD-355_c0',\n",
       "  'seed_id': 'cpd01307',\n",
       "  'bigg_ann': 'abt__D',\n",
       "  'in_modelseed': ['abt__D'],\n",
       "  'both': {'abt__D'}},\n",
       " 'cpd00259': {'met_id': 'D-XYLULOSE_c0',\n",
       "  'seed_id': 'cpd00259',\n",
       "  'bigg_ann': ['xylu__D', 'xylu__L'],\n",
       "  'in_modelseed': ['rbl__L', 'xylu__D'],\n",
       "  'both': {'rbl__L', 'xylu__D', 'xylu__L'}},\n",
       " 'cpd01015': {'met_id': 'cynt_e',\n",
       "  'seed_id': 'cpd01015',\n",
       "  'bigg_ann': 'cynt',\n",
       "  'in_modelseed': ['cynt'],\n",
       "  'both': {'cynt'}},\n",
       " 'cpd01101': {'met_id': 'cbm_c',\n",
       "  'seed_id': 'cpd01101',\n",
       "  'bigg_ann': 'cbm',\n",
       "  'in_modelseed': ['cbm'],\n",
       "  'both': {'cbm'}},\n",
       " 'cpd11466': {'met_id': 'Myristoyl-ACPs_c0',\n",
       "  'seed_id': 'cpd11466',\n",
       "  'bigg_ann': 'MISSING',\n",
       "  'in_modelseed': ['myrsACP'],\n",
       "  'both': {'myrsACP'}},\n",
       " 'cpd01695': {'met_id': 'tdcoa_c',\n",
       "  'seed_id': 'cpd01695',\n",
       "  'bigg_ann': 'tdcoa',\n",
       "  'in_modelseed': ['tdcoa'],\n",
       "  'both': {'tdcoa'}},\n",
       " 'cpd11493': {'met_id': 'ACP_c',\n",
       "  'seed_id': 'cpd11493',\n",
       "  'bigg_ann': 'ACP',\n",
       "  'in_modelseed': ['ACP'],\n",
       "  'both': {'ACP'}},\n",
       " 'cpd11640': {'met_id': 'h2_c',\n",
       "  'seed_id': 'cpd11640',\n",
       "  'bigg_ann': 'h2',\n",
       "  'in_modelseed': ['h2'],\n",
       "  'both': {'h2'}},\n",
       " 'cpd15560': {'met_id': 'q8_c',\n",
       "  'seed_id': 'cpd15560',\n",
       "  'bigg_ann': 'q8',\n",
       "  'in_modelseed': ['q8', 'q8h2'],\n",
       "  'both': {'q8', 'q8h2'}},\n",
       " 'cpd15561': {'met_id': 'q8h2_c',\n",
       "  'seed_id': 'cpd15561',\n",
       "  'bigg_ann': 'q8h2',\n",
       "  'in_modelseed': ['q8', 'q8h2'],\n",
       "  'both': {'q8', 'q8h2'}},\n",
       " 'cpd11492': {'met_id': 'malACP_c',\n",
       "  'seed_id': 'cpd11492',\n",
       "  'bigg_ann': 'malACP',\n",
       "  'in_modelseed': ['malACP'],\n",
       "  'both': {'malACP'}},\n",
       " 'cpd02557': {'met_id': 'octdp_c',\n",
       "  'seed_id': 'cpd02557',\n",
       "  'bigg_ann': 'octdp',\n",
       "  'in_modelseed': ['octdp', 'octdp_5'],\n",
       "  'both': {'octdp', 'octdp_5'}},\n",
       " 'cpd00113': {'met_id': 'ipdp_c',\n",
       "  'seed_id': 'cpd00113',\n",
       "  'bigg_ann': 'ipdp',\n",
       "  'in_modelseed': ['ipdp'],\n",
       "  'both': {'ipdp'}},\n",
       " 'cpd02590': {'met_id': 'ALL-TRANS-HEPTAPRENYL-DIPHOSPHATE_c0',\n",
       "  'seed_id': 'cpd02590',\n",
       "  'bigg_ann': 'hepdp',\n",
       "  'in_modelseed': ['hepdp'],\n",
       "  'both': {'hepdp'}},\n",
       " 'cpd09253': {'met_id': 'cenchddd_c',\n",
       "  'seed_id': 'cpd09253',\n",
       "  'bigg_ann': 'cenchddd',\n",
       "  'in_modelseed': ['cenchddd'],\n",
       "  'both': {'cenchddd'}},\n",
       " 'cpd09254': {'met_id': 'dhcinnm_c',\n",
       "  'seed_id': 'cpd09254',\n",
       "  'bigg_ann': 'dhcinnm',\n",
       "  'in_modelseed': ['dhcinnm'],\n",
       "  'both': {'dhcinnm'}},\n",
       " 'cpd00019': {'met_id': 'ahcys_c',\n",
       "  'seed_id': 'cpd00019',\n",
       "  'bigg_ann': 'ahcys',\n",
       "  'in_modelseed': ['ahcys'],\n",
       "  'both': {'ahcys'}},\n",
       " 'cpd08289': {'met_id': 'dxyl5p_c',\n",
       "  'seed_id': 'cpd08289',\n",
       "  'bigg_ann': 'dxyl5p',\n",
       "  'in_modelseed': ['dxyl5p'],\n",
       "  'both': {'dxyl5p'}},\n",
       " 'cpd00478': {'met_id': 'pdx5p_c',\n",
       "  'seed_id': 'cpd00478',\n",
       "  'bigg_ann': 'pdx5p',\n",
       "  'in_modelseed': ['pdx5p'],\n",
       "  'both': {'pdx5p'}},\n",
       " 'cpd00024': {'met_id': 'akg_c',\n",
       "  'seed_id': 'cpd00024',\n",
       "  'bigg_ann': 'akg',\n",
       "  'in_modelseed': ['akg'],\n",
       "  'both': {'akg'}},\n",
       " 'cpd00246': {'met_id': 'ins_e',\n",
       "  'seed_id': 'cpd00246',\n",
       "  'bigg_ann': 'ins',\n",
       "  'in_modelseed': ['ins'],\n",
       "  'both': {'ins'}},\n",
       " 'cpd00475': {'met_id': 'r1p_c',\n",
       "  'seed_id': 'cpd00475',\n",
       "  'bigg_ann': 'r1p',\n",
       "  'in_modelseed': ['r1p'],\n",
       "  'both': {'r1p'}},\n",
       " 'cpd02160': {'met_id': 'sucorn_c',\n",
       "  'seed_id': 'cpd02160',\n",
       "  'bigg_ann': 'sucorn',\n",
       "  'in_modelseed': ['sucorn'],\n",
       "  'both': {'sucorn'}},\n",
       " 'cpd03526': {'met_id': 'sucgsa_c',\n",
       "  'seed_id': 'cpd03526',\n",
       "  'bigg_ann': 'sucgsa',\n",
       "  'in_modelseed': ['sucgsa'],\n",
       "  'both': {'sucgsa'}},\n",
       " 'cpd00447': {'met_id': 'betald_c',\n",
       "  'seed_id': 'cpd00447',\n",
       "  'bigg_ann': 'betald',\n",
       "  'in_modelseed': ['betald'],\n",
       "  'both': {'betald'}},\n",
       " 'cpd00540': {'met_id': 'glyb_e',\n",
       "  'seed_id': 'cpd00540',\n",
       "  'bigg_ann': 'glyb',\n",
       "  'in_modelseed': ['glyb'],\n",
       "  'both': {'glyb'}},\n",
       " 'cpd00038': {'met_id': 'gtp_c',\n",
       "  'seed_id': 'cpd00038',\n",
       "  'bigg_ann': 'gtp',\n",
       "  'in_modelseed': ['gtp'],\n",
       "  'both': {'gtp'}},\n",
       " 'cpd00048': {'met_id': 'so4_e',\n",
       "  'seed_id': 'cpd00048',\n",
       "  'bigg_ann': 'so4',\n",
       "  'in_modelseed': ['so4'],\n",
       "  'both': {'so4'}},\n",
       " 'cpd00031': {'met_id': 'gdp_c',\n",
       "  'seed_id': 'cpd00031',\n",
       "  'bigg_ann': 'gdp',\n",
       "  'in_modelseed': ['gdp'],\n",
       "  'both': {'gdp'}},\n",
       " 'cpd00193': {'met_id': 'aps_c',\n",
       "  'seed_id': 'cpd00193',\n",
       "  'bigg_ann': 'aps',\n",
       "  'in_modelseed': ['aps'],\n",
       "  'both': {'aps'}},\n",
       " 'cpd00206': {'met_id': 'dcmp_c',\n",
       "  'seed_id': 'cpd00206',\n",
       "  'bigg_ann': 'dcmp',\n",
       "  'in_modelseed': ['dcmp'],\n",
       "  'both': {'dcmp'}},\n",
       " 'cpd02227': {'met_id': 'rhcys_c',\n",
       "  'seed_id': 'cpd02227',\n",
       "  'bigg_ann': 'rhcys',\n",
       "  'in_modelseed': ['rhcys'],\n",
       "  'both': {'rhcys'}},\n",
       " 'cpd00135': {'met_id': 'hcys__L_c',\n",
       "  'seed_id': 'cpd00135',\n",
       "  'bigg_ann': 'hcys__L',\n",
       "  'in_modelseed': ['hcys__L'],\n",
       "  'both': {'hcys__L'}},\n",
       " 'cpd08636': {'met_id': 'dhptd_c',\n",
       "  'seed_id': 'cpd08636',\n",
       "  'bigg_ann': 'dhptd',\n",
       "  'in_modelseed': ['dhptd'],\n",
       "  'both': {'dhptd'}},\n",
       " 'cpd00068': {'met_id': 'itp_c',\n",
       "  'seed_id': 'cpd00068',\n",
       "  'bigg_ann': 'itp',\n",
       "  'in_modelseed': ['itp'],\n",
       "  'both': {'itp'}},\n",
       " 'cpd00090': {'met_id': 'idp_c',\n",
       "  'seed_id': 'cpd00090',\n",
       "  'bigg_ann': 'idp',\n",
       "  'in_modelseed': ['idp'],\n",
       "  'both': {'idp'}},\n",
       " 'cpd00070': {'met_id': 'malcoa_c',\n",
       "  'seed_id': 'cpd00070',\n",
       "  'bigg_ann': 'malcoa',\n",
       "  'in_modelseed': ['malcoa'],\n",
       "  'both': {'malcoa'}},\n",
       " 'cpd02375': {'met_id': 'dcamp_c',\n",
       "  'seed_id': 'cpd02375',\n",
       "  'bigg_ann': 'dcamp',\n",
       "  'in_modelseed': ['dcamp'],\n",
       "  'both': {'dcamp'}},\n",
       " 'cpd00367': {'met_id': 'cytd_e',\n",
       "  'seed_id': 'cpd00367',\n",
       "  'bigg_ann': 'cytd',\n",
       "  'in_modelseed': ['cytd'],\n",
       "  'both': {'cytd'}},\n",
       " 'cpd00052': {'met_id': 'ctp_c',\n",
       "  'seed_id': 'cpd00052',\n",
       "  'bigg_ann': 'ctp',\n",
       "  'in_modelseed': ['ctp'],\n",
       "  'both': {'ctp'}},\n",
       " 'cpd02201': {'met_id': '4ppan_c',\n",
       "  'seed_id': 'cpd02201',\n",
       "  'bigg_ann': '4ppan',\n",
       "  'in_modelseed': ['4ppan'],\n",
       "  'both': {'4ppan'}},\n",
       " 'cpd02666': {'met_id': '4ppcys_c',\n",
       "  'seed_id': 'cpd02666',\n",
       "  'bigg_ann': '4ppcys',\n",
       "  'in_modelseed': ['4ppcys'],\n",
       "  'both': {'4ppcys'}},\n",
       " 'cpd00026': {'met_id': 'udpg_c',\n",
       "  'seed_id': 'cpd00026',\n",
       "  'bigg_ann': 'udpg',\n",
       "  'in_modelseed': ['udpg'],\n",
       "  'both': {'udpg'}},\n",
       " 'cpd00144': {'met_id': 'udpglcur_c',\n",
       "  'seed_id': 'cpd00144',\n",
       "  'bigg_ann': 'udpglcur',\n",
       "  'in_modelseed': ['udpglcur'],\n",
       "  'both': {'udpglcur'}},\n",
       " 'cpd02097': {'met_id': 'glu5p_c',\n",
       "  'seed_id': 'cpd02097',\n",
       "  'bigg_ann': 'glu5p',\n",
       "  'in_modelseed': ['glu5p'],\n",
       "  'both': {'glu5p'}},\n",
       " 'cpd00201': {'met_id': '10fthf_c',\n",
       "  'seed_id': 'cpd00201',\n",
       "  'bigg_ann': '10fthf',\n",
       "  'in_modelseed': ['10fthf'],\n",
       "  'both': {'10fthf'}},\n",
       " 'cpd03524': {'met_id': 'CPD-17115_c0',\n",
       "  'seed_id': 'cpd03524',\n",
       "  'bigg_ann': 'MISSING',\n",
       "  'in_modelseed': ['10fthfglu__L'],\n",
       "  'both': {'10fthfglu__L'}},\n",
       " 'cpd00093': {'met_id': 'anth_c',\n",
       "  'seed_id': 'cpd00093',\n",
       "  'bigg_ann': 'anth',\n",
       "  'in_modelseed': ['anth'],\n",
       "  'both': {'anth'}},\n",
       " 'cpd00477': {'met_id': 'acglu_c',\n",
       "  'seed_id': 'cpd00477',\n",
       "  'bigg_ann': 'acglu',\n",
       "  'in_modelseed': ['acglu'],\n",
       "  'both': {'acglu'}},\n",
       " 'cpd00654': {'met_id': 'dcyt_e',\n",
       "  'seed_id': 'cpd00654',\n",
       "  'bigg_ann': 'dcyt',\n",
       "  'in_modelseed': ['dcyt'],\n",
       "  'both': {'dcyt'}},\n",
       " 'cpd03349': {'met_id': 'MNXM3508_c0',\n",
       "  'seed_id': 'cpd03349',\n",
       "  'bigg_ann': '5hxkynam',\n",
       "  'in_modelseed': ['5hxkynam'],\n",
       "  'both': {'5hxkynam'}},\n",
       " 'cpd03362': {'met_id': 'MNXM2621_c0',\n",
       "  'seed_id': 'cpd03362',\n",
       "  'bigg_ann': 'MISSING',\n",
       "  'in_modelseed': ['5hxkyn'],\n",
       "  'both': {'5hxkyn'}},\n",
       " 'cpd02021': {'met_id': 'sbzcoa_c',\n",
       "  'seed_id': 'cpd02021',\n",
       "  'bigg_ann': 'sbzcoa',\n",
       "  'in_modelseed': ['sbzcoa'],\n",
       "  'both': {'sbzcoa'}},\n",
       " 'cpd02295': {'met_id': 'dhna_c',\n",
       "  'seed_id': 'cpd02295',\n",
       "  'bigg_ann': 'dhna',\n",
       "  'in_modelseed': ['dhna'],\n",
       "  'both': {'dhna'}},\n",
       " 'cpd00036': {'met_id': 'succ_c',\n",
       "  'seed_id': 'cpd00036',\n",
       "  'bigg_ann': 'succ',\n",
       "  'in_modelseed': ['succ'],\n",
       "  'both': {'succ'}},\n",
       " 'cpd00198': {'met_id': 'xu5p__D_c',\n",
       "  'seed_id': 'cpd00198',\n",
       "  'bigg_ann': 'xu5p__D',\n",
       "  'in_modelseed': ['xu5p__D'],\n",
       "  'both': {'xu5p__D'}},\n",
       " 'cpd00072': {'met_id': 'CPD-18719_c0',\n",
       "  'seed_id': 'cpd00072',\n",
       "  'bigg_ann': 'MISSING',\n",
       "  'in_modelseed': ['f6p', 'f6p_B'],\n",
       "  'both': {'f6p', 'f6p_B'}},\n",
       " 'cpd00290': {'met_id': 'fdp_c',\n",
       "  'seed_id': 'cpd00290',\n",
       "  'bigg_ann': 'fdp',\n",
       "  'in_modelseed': ['fdp'],\n",
       "  'both': {'fdp'}},\n",
       " 'cpd00101': {'met_id': 'CPD-15317_c0',\n",
       "  'seed_id': 'cpd00101',\n",
       "  'bigg_ann': 'MISSING',\n",
       "  'in_modelseed': ['r5p'],\n",
       "  'both': {'r5p'}},\n",
       " 'cpd00847': {'met_id': 'r15bp_c',\n",
       "  'seed_id': 'cpd00847',\n",
       "  'bigg_ann': 'r15bp',\n",
       "  'in_modelseed': ['r15bp'],\n",
       "  'both': {'r15bp'}},\n",
       " 'cpd01186': {'met_id': 'L-FUCULOSE_c0',\n",
       "  'seed_id': 'cpd01186',\n",
       "  'bigg_ann': ['HC00832', 'fcl__L'],\n",
       "  'in_modelseed': ['fcl__L'],\n",
       "  'both': {'HC00832', 'fcl__L'}},\n",
       " 'cpd00806': {'met_id': 'fc1p_c',\n",
       "  'seed_id': 'cpd00806',\n",
       "  'bigg_ann': 'fc1p',\n",
       "  'in_modelseed': ['fc1p'],\n",
       "  'both': {'fc1p'}},\n",
       " 'cpd15317': {'met_id': 'MNXM147671_c0',\n",
       "  'seed_id': 'cpd15317',\n",
       "  'bigg_ann': 'MISSING',\n",
       "  'in_modelseed': ['1agpe161'],\n",
       "  'both': {'1agpe161'}},\n",
       " 'cpd00908': {'met_id': 'g3pe_c',\n",
       "  'seed_id': 'cpd00908',\n",
       "  'bigg_ann': 'g3pe',\n",
       "  'in_modelseed': ['g3pe'],\n",
       "  'both': {'g3pe'}},\n",
       " 'cpd15237': {'met_id': 'MNXM900_c0',\n",
       "  'seed_id': 'cpd15237',\n",
       "  'bigg_ann': 'MISSING',\n",
       "  'in_modelseed': ['hdcea'],\n",
       "  'both': {'hdcea'}},\n",
       " 'cpd11576': {'met_id': 'MNXM8825_c0',\n",
       "  'seed_id': 'cpd11576',\n",
       "  'bigg_ann': 'metox__R',\n",
       "  'in_modelseed': ['metox__R'],\n",
       "  'both': {'metox__R'}},\n",
       " 'cpd00191': {'met_id': 'msa_c',\n",
       "  'seed_id': 'cpd00191',\n",
       "  'bigg_ann': 'msa',\n",
       "  'in_modelseed': ['msa'],\n",
       "  'both': {'msa'}},\n",
       " 'cpd00311': {'met_id': 'gsn_c',\n",
       "  'seed_id': 'cpd00311',\n",
       "  'bigg_ann': 'gsn',\n",
       "  'in_modelseed': ['gsn'],\n",
       "  'both': {'gsn'}},\n",
       " 'cpd01217': {'met_id': 'xtsn_c',\n",
       "  'seed_id': 'cpd01217',\n",
       "  'bigg_ann': 'xtsn',\n",
       "  'in_modelseed': ['xtsn'],\n",
       "  'both': {'xtsn'}},\n",
       " 'cpd15540': {'met_id': 'pg180_c',\n",
       "  'seed_id': 'cpd15540',\n",
       "  'bigg_ann': 'pg180',\n",
       "  'in_modelseed': ['pg180'],\n",
       "  'both': {'pg180'}},\n",
       " 'cpd00100': {'met_id': 'glyc_e',\n",
       "  'seed_id': 'cpd00100',\n",
       "  'bigg_ann': 'glyc',\n",
       "  'in_modelseed': ['glyc'],\n",
       "  'both': {'glyc'}},\n",
       " 'cpd00807': {'met_id': 'hisp_c',\n",
       "  'seed_id': 'cpd00807',\n",
       "  'bigg_ann': 'hisp',\n",
       "  'in_modelseed': ['hisp'],\n",
       "  'both': {'hisp'}},\n",
       " 'cpd00930': {'met_id': 'imacp_c',\n",
       "  'seed_id': 'cpd00930',\n",
       "  'bigg_ann': 'imacp',\n",
       "  'in_modelseed': ['imacp'],\n",
       "  'both': {'imacp'}},\n",
       " 'cpd03414': {'met_id': 'CPD-11444_c0',\n",
       "  'seed_id': 'cpd03414',\n",
       "  'bigg_ann': 'uppg1',\n",
       "  'in_modelseed': ['uppg1'],\n",
       "  'both': {'uppg1'}},\n",
       " 'cpd03416': {'met_id': 'COPROPORPHYRINOGEN_I_c0',\n",
       "  'seed_id': 'cpd03416',\n",
       "  'bigg_ann': 'cpppg1',\n",
       "  'in_modelseed': ['cpppg1'],\n",
       "  'both': {'cpppg1'}},\n",
       " 'cpd00118': {'met_id': 'ptrc_e',\n",
       "  'seed_id': 'cpd00118',\n",
       "  'bigg_ann': 'ptrc',\n",
       "  'in_modelseed': ['ptrc'],\n",
       "  'both': {'ptrc'}},\n",
       " 'cpd00264': {'met_id': 'spmd_e',\n",
       "  'seed_id': 'cpd00264',\n",
       "  'bigg_ann': 'spmd',\n",
       "  'in_modelseed': ['spmd'],\n",
       "  'both': {'spmd'}},\n",
       " 'cpd00726': {'met_id': 'CPD-313_c0',\n",
       "  'seed_id': 'cpd00726',\n",
       "  'bigg_ann': 'MISSING',\n",
       "  'in_modelseed': ['13dampp'],\n",
       "  'both': {'13dampp'}},\n",
       " 'cpd03802': {'met_id': 'CPD-1821_c0',\n",
       "  'seed_id': 'cpd03802',\n",
       "  'bigg_ann': 'hspmd',\n",
       "  'in_modelseed': ['hspmd'],\n",
       "  'both': {'hspmd'}},\n",
       " 'cpd02961': {'met_id': 'CPD-11770_c0',\n",
       "  'seed_id': 'cpd02961',\n",
       "  'bigg_ann': ['HC01361', 'dhnpt'],\n",
       "  'in_modelseed': ['dhnpt'],\n",
       "  'both': {'HC01361', 'dhnpt'}},\n",
       " 'cpd00229': {'met_id': 'gcald_c',\n",
       "  'seed_id': 'cpd00229',\n",
       "  'bigg_ann': 'gcald',\n",
       "  'in_modelseed': ['gcald'],\n",
       "  'both': {'gcald'}},\n",
       " 'cpd00954': {'met_id': '6hmhpt_c',\n",
       "  'seed_id': 'cpd00954',\n",
       "  'bigg_ann': '6hmhpt',\n",
       "  'in_modelseed': ['2ahhmp', '6hmhpt'],\n",
       "  'both': {'2ahhmp', '6hmhpt'}},\n",
       " 'cpd00808': {'met_id': 'ru5p__L_c',\n",
       "  'seed_id': 'cpd00808',\n",
       "  'bigg_ann': 'ru5p__L',\n",
       "  'in_modelseed': ['ru5p__L'],\n",
       "  'both': {'ru5p__L'}},\n",
       " 'cpd00006': {'met_id': 'nadp_c',\n",
       "  'seed_id': 'cpd00006',\n",
       "  'bigg_ann': 'nadp',\n",
       "  'in_modelseed': ['nadp'],\n",
       "  'both': {'nadp'}},\n",
       " 'cpd00202': {'met_id': 'dmpp_c',\n",
       "  'seed_id': 'cpd00202',\n",
       "  'bigg_ann': 'dmpp',\n",
       "  'in_modelseed': ['dmpp'],\n",
       "  'both': {'dmpp'}},\n",
       " 'cpd00005': {'met_id': 'nadph_c',\n",
       "  'seed_id': 'cpd00005',\n",
       "  'bigg_ann': 'nadph',\n",
       "  'in_modelseed': ['nadph'],\n",
       "  'both': {'nadph'}},\n",
       " 'cpd08615': {'met_id': 'h2mb4p_c',\n",
       "  'seed_id': 'cpd08615',\n",
       "  'bigg_ann': 'h2mb4p',\n",
       "  'in_modelseed': ['h2mb4p'],\n",
       "  'both': {'h2mb4p'}},\n",
       " 'cpd03246': {'met_id': 'CPD-7283_c0',\n",
       "  'seed_id': 'cpd03246',\n",
       "  'bigg_ann': 'tdchola',\n",
       "  'in_modelseed': ['tdchola'],\n",
       "  'both': {'tdchola'}},\n",
       " 'cpd00210': {'met_id': 'taur_e',\n",
       "  'seed_id': 'cpd00210',\n",
       "  'bigg_ann': 'taur',\n",
       "  'in_modelseed': ['taur'],\n",
       "  'both': {'taur'}},\n",
       " 'cpd00080': {'met_id': 'glyc3p_e',\n",
       "  'seed_id': 'cpd00080',\n",
       "  'bigg_ann': 'glyc3p',\n",
       "  'in_modelseed': ['glyc3p'],\n",
       "  'both': {'glyc3p'}},\n",
       " 'cpd15331': {'met_id': '1tdecg3p_c',\n",
       "  'seed_id': 'cpd15331',\n",
       "  'bigg_ann': '1tdecg3p',\n",
       "  'in_modelseed': ['1tdecg3p'],\n",
       "  'both': {'1tdecg3p'}},\n",
       " 'cpd15522': {'met_id': 'pa140_c',\n",
       "  'seed_id': 'cpd15522',\n",
       "  'bigg_ann': 'pa140',\n",
       "  'in_modelseed': ['pa140'],\n",
       "  'both': {'pa140'}},\n",
       " 'cpd00112': {'met_id': 'CMP-N-ACETYL-NEURAMINATE_c0',\n",
       "  'seed_id': 'cpd00112',\n",
       "  'bigg_ann': 'cmpacna',\n",
       "  'in_modelseed': ['cmpacna'],\n",
       "  'both': {'cmpacna'}},\n",
       " 'cpd00350': {'met_id': 'frdp_c',\n",
       "  'seed_id': 'cpd00350',\n",
       "  'bigg_ann': 'frdp',\n",
       "  'in_modelseed': ['frdp'],\n",
       "  'both': {'frdp'}},\n",
       " 'cpd00289': {'met_id': 'GERANYLGERANYL-PP_c0',\n",
       "  'seed_id': 'cpd00289',\n",
       "  'bigg_ann': 'ggdp',\n",
       "  'in_modelseed': ['ggdp'],\n",
       "  'both': {'ggdp'}},\n",
       " 'cpd02498': {'met_id': 'MNXM734_c0',\n",
       "  'seed_id': 'cpd02498',\n",
       "  'bigg_ann': 'MISSING',\n",
       "  'in_modelseed': ['23dhmb'],\n",
       "  'both': {'23dhmb'}},\n",
       " 'cpd00123': {'met_id': '3mob_c',\n",
       "  'seed_id': 'cpd00123',\n",
       "  'bigg_ann': '3mob',\n",
       "  'in_modelseed': ['3mob'],\n",
       "  'both': {'3mob'}},\n",
       " 'cpd11483': {'met_id': '3hoctACP_c',\n",
       "  'seed_id': 'cpd11483',\n",
       "  'bigg_ann': '3hoctACP',\n",
       "  'in_modelseed': ['3hoctACP'],\n",
       "  'both': {'3hoctACP'}},\n",
       " 'cpd11471': {'met_id': 'toct2eACP_c',\n",
       "  'seed_id': 'cpd11471',\n",
       "  'bigg_ann': 'toct2eACP',\n",
       "  'in_modelseed': ['toct2eACP'],\n",
       "  'both': {'toct2eACP'}},\n",
       " 'cpd00171': {'met_id': 'ru5p__D_c',\n",
       "  'seed_id': 'cpd00171',\n",
       "  'bigg_ann': 'ru5p__D',\n",
       "  'in_modelseed': ['ru5p__D'],\n",
       "  'both': {'ru5p__D'}},\n",
       " 'cpd00047': {'met_id': 'for_e',\n",
       "  'seed_id': 'cpd00047',\n",
       "  'bigg_ann': 'for',\n",
       "  'in_modelseed': ['for'],\n",
       "  'both': {'for'}},\n",
       " 'cpd11225': {'met_id': 'db4p_c',\n",
       "  'seed_id': 'cpd11225',\n",
       "  'bigg_ann': 'db4p',\n",
       "  'in_modelseed': ['db4p'],\n",
       "  'both': {'db4p'}},\n",
       " 'cpd00342': {'met_id': 'acorn_c',\n",
       "  'seed_id': 'cpd00342',\n",
       "  'bigg_ann': 'acorn',\n",
       "  'in_modelseed': ['acorn'],\n",
       "  'both': {'acorn'}},\n",
       " 'cpd11421': {'met_id': 'trdrd_c',\n",
       "  'seed_id': 'cpd11421',\n",
       "  'bigg_ann': 'trdrd',\n",
       "  'in_modelseed': ['trdrd'],\n",
       "  'both': {'trdrd'}},\n",
       " 'cpd11420': {'met_id': 'trdox_c',\n",
       "  'seed_id': 'cpd11420',\n",
       "  'bigg_ann': 'trdox',\n",
       "  'in_modelseed': ['trdox'],\n",
       "  'both': {'trdox'}},\n",
       " 'cpd00585': {'met_id': 'CREATININE_c0',\n",
       "  'seed_id': 'cpd00585',\n",
       "  'bigg_ann': 'MISSING',\n",
       "  'in_modelseed': ['crtn'],\n",
       "  'both': {'crtn'}},\n",
       " 'cpd00095': {'met_id': 'dhap_c',\n",
       "  'seed_id': 'cpd00095',\n",
       "  'bigg_ann': 'dhap',\n",
       "  'in_modelseed': ['dhap'],\n",
       "  'both': {'dhap'}},\n",
       " 'cpd00208': {'met_id': 'lcts_c',\n",
       "  'seed_id': 'cpd00208',\n",
       "  'bigg_ann': 'lcts',\n",
       "  'in_modelseed': ['lcts'],\n",
       "  'both': {'lcts'}},\n",
       " 'cpd00390': {'met_id': 'CDP-D-GLUCOSE_c0',\n",
       "  'seed_id': 'cpd00390',\n",
       "  'bigg_ann': 'cdpglc',\n",
       "  'in_modelseed': ['cdpglc'],\n",
       "  'both': {'cdpglc'}},\n",
       " 'cpd00897': {'met_id': 'CPD-658_c0',\n",
       "  'seed_id': 'cpd00897',\n",
       "  'bigg_ann': 'cdp4dh6doglc',\n",
       "  'in_modelseed': ['cdp4dh6doglc'],\n",
       "  'both': {'cdp4dh6doglc'}},\n",
       " 'cpd02333': {'met_id': 'quln_c',\n",
       "  'seed_id': 'cpd02333',\n",
       "  'bigg_ann': 'quln',\n",
       "  'in_modelseed': ['quln'],\n",
       "  'both': {'quln'}},\n",
       " 'cpd03470': {'met_id': 'iasp_c',\n",
       "  'seed_id': 'cpd03470',\n",
       "  'bigg_ann': 'iasp',\n",
       "  'in_modelseed': ['iasp'],\n",
       "  'both': {'iasp'}},\n",
       " 'cpd09879': {'met_id': 'hmgth_c',\n",
       "  'seed_id': 'cpd09879',\n",
       "  'bigg_ann': 'hmgth',\n",
       "  'in_modelseed': ['hmgth'],\n",
       "  'both': {'hmgth'}},\n",
       " 'cpd00759': {'met_id': 'Sfglutth_c',\n",
       "  'seed_id': 'cpd00759',\n",
       "  'bigg_ann': 'Sfglutth',\n",
       "  'in_modelseed': ['Sfglutth'],\n",
       "  'both': {'Sfglutth'}},\n",
       " 'cpd00147': {'met_id': '5mta_c',\n",
       "  'seed_id': 'cpd00147',\n",
       "  'bigg_ann': '5mta',\n",
       "  'in_modelseed': ['5mta'],\n",
       "  'both': {'5mta'}},\n",
       " 'cpd00128': {'met_id': 'ade_c',\n",
       "  'seed_id': 'cpd00128',\n",
       "  'bigg_ann': 'ade',\n",
       "  'in_modelseed': ['ade'],\n",
       "  'both': {'ade'}},\n",
       " 'cpd01981': {'met_id': '5mtr_c',\n",
       "  'seed_id': 'cpd01981',\n",
       "  'bigg_ann': '5mtr',\n",
       "  'in_modelseed': ['5mtr'],\n",
       "  'both': {'5mtr'}},\n",
       " 'cpd00817': {'met_id': 'ara5p_c',\n",
       "  'seed_id': 'cpd00817',\n",
       "  'bigg_ann': 'ara5p',\n",
       "  'in_modelseed': ['ara5p'],\n",
       "  'both': {'ara5p'}},\n",
       " 'cpd01169': {'met_id': 'L-DOPACHROME_c0',\n",
       "  'seed_id': 'cpd01169',\n",
       "  'bigg_ann': 'MISSING',\n",
       "  'in_modelseed': ['L_dpchrm'],\n",
       "  'both': {'L_dpchrm'}},\n",
       " 'cpd02571': {'met_id': '56-DIHYDROXYINDOLE-2-CARBOXYLATE_c0',\n",
       "  'seed_id': 'cpd02571',\n",
       "  'bigg_ann': 'MISSING',\n",
       "  'in_modelseed': ['56dihindlcrbxlt'],\n",
       "  'both': {'56dihindlcrbxlt'}},\n",
       " 'cpd11585': {'met_id': 'ALA-GLY_c0',\n",
       "  'seed_id': 'cpd11585',\n",
       "  'bigg_ann': 'L_alagly',\n",
       "  'in_modelseed': ['L_alagly'],\n",
       "  'both': {'L_alagly'}},\n",
       " 'cpd00162': {'met_id': 'etha_e',\n",
       "  'seed_id': 'cpd00162',\n",
       "  'bigg_ann': 'etha',\n",
       "  'in_modelseed': ['etha'],\n",
       "  'both': {'etha'}},\n",
       " 'cpd00071': {'met_id': 'acald_c',\n",
       "  'seed_id': 'cpd00071',\n",
       "  'bigg_ann': 'acald',\n",
       "  'in_modelseed': ['acald'],\n",
       "  'both': {'acald'}},\n",
       " 'cpd14891': {'met_id': 'CPD-17323_c0',\n",
       "  'seed_id': 'cpd14891',\n",
       "  'bigg_ann': 'MISSING',\n",
       "  'in_modelseed': ['adrncoa'],\n",
       "  'both': {'adrncoa'}},\n",
       " 'cpd16342': {'met_id': 'CPD-17322_c0',\n",
       "  'seed_id': 'cpd16342',\n",
       "  'bigg_ann': 'MISSING',\n",
       "  'in_modelseed': ['adrn'],\n",
       "  'both': {'adrn'}},\n",
       " 'cpd00122': {'met_id': 'acgam_e',\n",
       "  'seed_id': 'cpd00122',\n",
       "  'bigg_ann': 'acgam',\n",
       "  'in_modelseed': ['acgam'],\n",
       "  'both': {'acgam'}},\n",
       " 'cpd02611': {'met_id': 'acgam1p_c',\n",
       "  'seed_id': 'cpd02611',\n",
       "  'bigg_ann': 'acgam1p',\n",
       "  'in_modelseed': ['acgam1p'],\n",
       "  'both': {'acgam1p'}},\n",
       " 'cpd00519': {'met_id': 'mmcoa__S_c',\n",
       "  'seed_id': 'cpd00519',\n",
       "  'bigg_ann': 'mmcoa__S',\n",
       "  'in_modelseed': ['mmcoa__S'],\n",
       "  'both': {'mmcoa__S'}},\n",
       " 'cpd00086': {'met_id': 'ppcoa_c',\n",
       "  'seed_id': 'cpd00086',\n",
       "  'bigg_ann': 'ppcoa',\n",
       "  'in_modelseed': ['ppcoa'],\n",
       "  'both': {'ppcoa'}},\n",
       " 'cpd00412': {'met_id': 'duri_c',\n",
       "  'seed_id': 'cpd00412',\n",
       "  'bigg_ann': 'duri',\n",
       "  'in_modelseed': ['duri'],\n",
       "  'both': {'duri'}},\n",
       " 'cpd00236': {'met_id': 'e4p_c',\n",
       "  'seed_id': 'cpd00236',\n",
       "  'bigg_ann': 'e4p',\n",
       "  'in_modelseed': ['e4p'],\n",
       "  'both': {'e4p'}},\n",
       " 'cpd02147': {'met_id': '4per_c',\n",
       "  'seed_id': 'cpd02147',\n",
       "  'bigg_ann': '4per',\n",
       "  'in_modelseed': ['4per'],\n",
       "  'both': {'4per'}},\n",
       " 'cpd00484': {'met_id': '4-HYDROXYBENZALDEHYDE_c0',\n",
       "  'seed_id': 'cpd00484',\n",
       "  'bigg_ann': '4hbald',\n",
       "  'in_modelseed': ['4hbald'],\n",
       "  'both': {'4hbald'}},\n",
       " 'cpd00136': {'met_id': '4hbz_c',\n",
       "  'seed_id': 'cpd00136',\n",
       "  'bigg_ann': '4hbz',\n",
       "  'in_modelseed': ['4hbz'],\n",
       "  'both': {'4hbz'}},\n",
       " 'cpd00287': {'met_id': 'CPD-12179_c0',\n",
       "  'seed_id': 'cpd00287',\n",
       "  'bigg_ann': '2mop',\n",
       "  'in_modelseed': ['2mop', 'mmtsa'],\n",
       "  'both': {'2mop', 'mmtsa'}},\n",
       " 'cpd00810': {'met_id': 'orot5p_c',\n",
       "  'seed_id': 'cpd00810',\n",
       "  'bigg_ann': 'orot5p',\n",
       "  'in_modelseed': ['orot5p'],\n",
       "  'both': {'orot5p'}},\n",
       " 'cpd00091': {'met_id': 'ump_c',\n",
       "  'seed_id': 'cpd00091',\n",
       "  'bigg_ann': 'ump',\n",
       "  'in_modelseed': ['ump'],\n",
       "  'both': {'ump'}},\n",
       " 'cpd00258': {'met_id': 'D-RIBULOSE_c0',\n",
       "  'seed_id': 'cpd00258',\n",
       "  'bigg_ann': 'rbl__D',\n",
       "  'in_modelseed': ['rbl__D'],\n",
       "  'both': {'rbl__D'}},\n",
       " 'cpd02654': {'met_id': '4mpetz_c',\n",
       "  'seed_id': 'cpd02654',\n",
       "  'bigg_ann': '4mpetz',\n",
       "  'in_modelseed': ['4mpetz'],\n",
       "  'both': {'4mpetz'}},\n",
       " 'cpd02894': {'met_id': '2mahmp_c',\n",
       "  'seed_id': 'cpd02894',\n",
       "  'bigg_ann': '2mahmp',\n",
       "  'in_modelseed': ['2mahmp'],\n",
       "  'both': {'2mahmp'}},\n",
       " 'cpd00793': {'met_id': 'thmmp_c',\n",
       "  'seed_id': 'cpd00793',\n",
       "  'bigg_ann': 'thmmp',\n",
       "  'in_modelseed': ['thmmp'],\n",
       "  'both': {'thmmp'}},\n",
       " 'cpd15350': {'met_id': '2ddecg3p_c',\n",
       "  'seed_id': 'cpd15350',\n",
       "  'bigg_ann': '2ddecg3p',\n",
       "  'in_modelseed': ['2ddecg3p'],\n",
       "  'both': {'2ddecg3p'}},\n",
       " 'cpd01741': {'met_id': 'DODECANOATE_c0',\n",
       "  'seed_id': 'cpd01741',\n",
       "  'bigg_ann': 'MISSING',\n",
       "  'in_modelseed': ['ddca'],\n",
       "  'both': {'ddca'}},\n",
       " 'cpd00345': {'met_id': '5mthf_c',\n",
       "  'seed_id': 'cpd00345',\n",
       "  'bigg_ann': '5mthf',\n",
       "  'in_modelseed': ['5mthf'],\n",
       "  'both': {'5mthf'}},\n",
       " 'cpd00125': {'met_id': 'mlthf_c',\n",
       "  'seed_id': 'cpd00125',\n",
       "  'bigg_ann': 'mlthf',\n",
       "  'in_modelseed': ['mlthf'],\n",
       "  'both': {'mlthf'}},\n",
       " 'cpd02738': {'met_id': 'CPD-1302_c0',\n",
       "  'seed_id': 'cpd02738',\n",
       "  'bigg_ann': 'mhpglu',\n",
       "  'in_modelseed': ['5mthglu', 'mhpglu'],\n",
       "  'both': {'5mthglu', 'mhpglu'}},\n",
       " 'cpd02555': {'met_id': 'CPD-1301_c0',\n",
       "  'seed_id': 'cpd02555',\n",
       "  'bigg_ann': 'hpglu',\n",
       "  'in_modelseed': ['hpglu', 'thglu'],\n",
       "  'both': {'hpglu', 'thglu'}},\n",
       " 'cpd00115': {'met_id': 'datp_c',\n",
       "  'seed_id': 'cpd00115',\n",
       "  'bigg_ann': 'datp',\n",
       "  'in_modelseed': ['datp'],\n",
       "  'both': {'datp'}},\n",
       " 'cpd00249': {'met_id': 'uri_e',\n",
       "  'seed_id': 'cpd00249',\n",
       "  'bigg_ann': 'uri',\n",
       "  'in_modelseed': ['uri'],\n",
       "  'both': {'uri'}},\n",
       " 'cpd00177': {'met_id': 'dadp_c',\n",
       "  'seed_id': 'cpd00177',\n",
       "  'bigg_ann': 'dadp',\n",
       "  'in_modelseed': ['dadp'],\n",
       "  'both': {'dadp'}},\n",
       " 'cpd15308': {'met_id': 'MNXM147350_c0',\n",
       "  'seed_id': 'cpd15308',\n",
       "  'bigg_ann': 'MISSING',\n",
       "  'in_modelseed': ['12dgr141'],\n",
       "  'both': {'12dgr141'}},\n",
       " 'cpd15523': {'met_id': 'pa141_c',\n",
       "  'seed_id': 'cpd15523',\n",
       "  'bigg_ann': 'pa141',\n",
       "  'in_modelseed': ['pa141'],\n",
       "  'both': {'pa141'}},\n",
       " 'cpd00307': {'met_id': 'csn_c',\n",
       "  'seed_id': 'cpd00307',\n",
       "  'bigg_ann': 'csn',\n",
       "  'in_modelseed': ['csn'],\n",
       "  'both': {'csn'}},\n",
       " 'cpd00092': {'met_id': 'ura_e',\n",
       "  'seed_id': 'cpd00092',\n",
       "  'bigg_ann': 'ura',\n",
       "  'in_modelseed': ['ura'],\n",
       "  'both': {'ura'}},\n",
       " 'cpd03587': {'met_id': 'lipa_c',\n",
       "  'seed_id': 'cpd03587',\n",
       "  'bigg_ann': 'lipa',\n",
       "  'in_modelseed': ['lipa'],\n",
       "  'both': {'lipa'}},\n",
       " 'cpd03831': {'met_id': 'adphep_LD_c',\n",
       "  'seed_id': 'cpd03831',\n",
       "  'bigg_ann': 'adphep_LD',\n",
       "  'in_modelseed': ['adphep_LD'],\n",
       "  'both': {'adphep_LD'}},\n",
       " 'cpd15485': {'met_id': 'hlipa_c',\n",
       "  'seed_id': 'cpd15485',\n",
       "  'bigg_ann': 'hlipa',\n",
       "  'in_modelseed': ['hlipa'],\n",
       "  'both': {'hlipa'}},\n",
       " 'cpd01030': {'met_id': 'CPD-1142_e0',\n",
       "  'seed_id': 'cpd01030',\n",
       "  'bigg_ann': 'salcn',\n",
       "  'in_modelseed': ['salcn'],\n",
       "  'both': {'salcn'}},\n",
       " 'cpd03698': {'met_id': 'CPD-1181_c0',\n",
       "  'seed_id': 'cpd03698',\n",
       "  'bigg_ann': 'salcn6p',\n",
       "  'in_modelseed': ['salc6p', 'salcn6p'],\n",
       "  'both': {'salc6p', 'salcn6p'}},\n",
       " 'cpd00309': {'met_id': 'xan_e',\n",
       "  'seed_id': 'cpd00309',\n",
       "  'bigg_ann': 'xan',\n",
       "  'in_modelseed': ['xan'],\n",
       "  'both': {'xan'}},\n",
       " 'cpd00141': {'met_id': 'PROPIONATE_c0',\n",
       "  'seed_id': 'cpd00141',\n",
       "  'bigg_ann': 'MISSING',\n",
       "  'in_modelseed': ['ppa'],\n",
       "  'both': {'ppa'}},\n",
       " 'cpd00327': {'met_id': 'stcoa_c',\n",
       "  'seed_id': 'cpd00327',\n",
       "  'bigg_ann': 'stcoa',\n",
       "  'in_modelseed': ['stcoa'],\n",
       "  'both': {'stcoa'}},\n",
       " 'cpd02210': {'met_id': '3ig3p_c',\n",
       "  'seed_id': 'cpd02210',\n",
       "  'bigg_ann': '3ig3p',\n",
       "  'in_modelseed': ['3ig3p'],\n",
       "  'both': {'3ig3p'}},\n",
       " 'cpd00102': {'met_id': 'g3p_c',\n",
       "  'seed_id': 'cpd00102',\n",
       "  'bigg_ann': 'g3p',\n",
       "  'in_modelseed': ['g3p'],\n",
       "  'both': {'g3p'}},\n",
       " 'cpd00359': {'met_id': 'indole_c',\n",
       "  'seed_id': 'cpd00359',\n",
       "  'bigg_ann': 'indole',\n",
       "  'in_modelseed': ['indole'],\n",
       "  'both': {'indole'}},\n",
       " 'cpd15325': {'met_id': '1ddecg3p_c',\n",
       "  'seed_id': 'cpd15325',\n",
       "  'bigg_ann': '1ddecg3p',\n",
       "  'in_modelseed': ['1ddecg3p'],\n",
       "  'both': {'1ddecg3p'}},\n",
       " 'cpd03002': {'met_id': 'lipidAds_c',\n",
       "  'seed_id': 'cpd03002',\n",
       "  'bigg_ann': 'lipidAds',\n",
       "  'in_modelseed': ['lipidAds'],\n",
       "  'both': {'lipidAds'}},\n",
       " 'cpd02993': {'met_id': 'lipidA_c',\n",
       "  'seed_id': 'cpd02993',\n",
       "  'bigg_ann': 'lipidA',\n",
       "  'in_modelseed': ['lipidA'],\n",
       "  'both': {'lipidA'}},\n",
       " 'cpd00055': {'met_id': 'fald_c',\n",
       "  'seed_id': 'cpd00055',\n",
       "  'bigg_ann': 'fald',\n",
       "  'in_modelseed': ['fald'],\n",
       "  'both': {'fald'}},\n",
       " 'cpd00157': {'met_id': 'dha_c',\n",
       "  'seed_id': 'cpd00157',\n",
       "  'bigg_ann': 'dha',\n",
       "  'in_modelseed': ['dha'],\n",
       "  'both': {'dha'}},\n",
       " 'cpd02730': {'met_id': 'kdo8p_c',\n",
       "  'seed_id': 'cpd02730',\n",
       "  'bigg_ann': 'kdo8p',\n",
       "  'in_modelseed': ['kdo8p'],\n",
       "  'both': {'kdo8p'}},\n",
       " 'cpd12225': {'met_id': 'MNXM1663_c0',\n",
       "  'seed_id': 'cpd12225',\n",
       "  'bigg_ann': 'dhlpro',\n",
       "  'in_modelseed': ['dhlpro'],\n",
       "  'both': {'dhlpro'}},\n",
       " 'cpd12005': {'met_id': 'MNXM998_c0',\n",
       "  'seed_id': 'cpd12005',\n",
       "  'bigg_ann': 'lpro',\n",
       "  'in_modelseed': ['lpro'],\n",
       "  'both': {'lpro'}},\n",
       " 'cpd00066': {'met_id': 'phe__L_c',\n",
       "  'seed_id': 'cpd00066',\n",
       "  'bigg_ann': 'phe__L',\n",
       "  'in_modelseed': ['phe__L'],\n",
       "  'both': {'phe__L'}},\n",
       " 'cpd01977': {'met_id': '4pasp_c',\n",
       "  'seed_id': 'cpd01977',\n",
       "  'bigg_ann': '4pasp',\n",
       "  'in_modelseed': ['4pasp'],\n",
       "  'both': {'4pasp'}},\n",
       " 'cpd00395': {'met_id': 'L-CYSTEATE_c0',\n",
       "  'seed_id': 'cpd00395',\n",
       "  'bigg_ann': 'Lcyst',\n",
       "  'in_modelseed': ['Lcyst'],\n",
       "  'both': {'Lcyst'}},\n",
       " 'cpd00129': {'met_id': 'pro__L_c',\n",
       "  'seed_id': 'cpd00129',\n",
       "  'bigg_ann': 'pro__L',\n",
       "  'in_modelseed': ['pro__L'],\n",
       "  'both': {'pro__L'}},\n",
       " 'cpd00971': {'met_id': 'na1_c',\n",
       "  'seed_id': 'cpd00971',\n",
       "  'bigg_ann': 'na1',\n",
       "  'in_modelseed': ['na1'],\n",
       "  'both': {'na1'}},\n",
       " 'cpd15422': {'met_id': 'cdpdtdec7eg_c',\n",
       "  'seed_id': 'cpd15422',\n",
       "  'bigg_ann': 'cdpdtdec7eg',\n",
       "  'in_modelseed': ['cdpdtdec7eg'],\n",
       "  'both': {'cdpdtdec7eg'}},\n",
       " 'cpd00493': {'met_id': 'pyam5p_c',\n",
       "  'seed_id': 'cpd00493',\n",
       "  'bigg_ann': 'pyam5p',\n",
       "  'in_modelseed': ['pyam5p'],\n",
       "  'both': {'pyam5p'}},\n",
       " 'cpd00016': {'met_id': 'pydx5p_c',\n",
       "  'seed_id': 'cpd00016',\n",
       "  'bigg_ann': 'pydx5p',\n",
       "  'in_modelseed': ['pydx5p'],\n",
       "  'both': {'pydx5p'}},\n",
       " 'cpd01711': {'met_id': 'ISOBUTYRATE_c0',\n",
       "  'seed_id': 'cpd01711',\n",
       "  'bigg_ann': 'ibt',\n",
       "  'in_modelseed': ['ibt'],\n",
       "  'both': {'ibt'}},\n",
       " 'cpd15357': {'met_id': '2odec11eg3p_c',\n",
       "  'seed_id': 'cpd15357',\n",
       "  'bigg_ann': '2odec11eg3p',\n",
       "  'in_modelseed': ['2odec11eg3p'],\n",
       "  'both': {'2odec11eg3p'}},\n",
       " 'cpd15269': {'met_id': 'MNXM65309_c0',\n",
       "  'seed_id': 'cpd15269',\n",
       "  'bigg_ann': 'MISSING',\n",
       "  'in_modelseed': ['ocdcea'],\n",
       "  'both': {'ocdcea'}},\n",
       " 'cpd01055': {'met_id': 'all__D_c',\n",
       "  'seed_id': 'cpd01055',\n",
       "  'bigg_ann': 'all__D',\n",
       "  'in_modelseed': ['all__D'],\n",
       "  'both': {'all__D'}},\n",
       " 'cpd01901': {'met_id': 'all6p_c',\n",
       "  'seed_id': 'cpd01901',\n",
       "  'bigg_ann': 'all6p',\n",
       "  'in_modelseed': ['all6p'],\n",
       "  'both': {'all6p'}},\n",
       " 'cpd00446': {'met_id': 'camp_c',\n",
       "  'seed_id': 'cpd00446',\n",
       "  'bigg_ann': 'camp',\n",
       "  'in_modelseed': ['camp'],\n",
       "  'both': {'camp'}},\n",
       " 'cpd11464': {'met_id': 'Butanoyl-ACPs_c0',\n",
       "  'seed_id': 'cpd11464',\n",
       "  'bigg_ann': 'MISSING',\n",
       "  'in_modelseed': ['butACP'],\n",
       "  'both': {'butACP'}},\n",
       " 'cpd11486': {'met_id': '3ohexACP_c',\n",
       "  'seed_id': 'cpd11486',\n",
       "  'bigg_ann': '3ohexACP',\n",
       "  'in_modelseed': ['3ohexACP'],\n",
       "  'both': {'3ohexACP'}},\n",
       " 'cpd00119': {'met_id': 'his__L_e',\n",
       "  'seed_id': 'cpd00119',\n",
       "  'bigg_ann': 'his__L',\n",
       "  'in_modelseed': ['his__L'],\n",
       "  'both': {'his__L'}},\n",
       " 'cpd00581': {'met_id': 'UROCANATE_c0',\n",
       "  'seed_id': 'cpd00581',\n",
       "  'bigg_ann': 'urcan',\n",
       "  'in_modelseed': ['urcan'],\n",
       "  'both': {'urcan'}},\n",
       " 'cpd00300': {'met_id': 'urate_c',\n",
       "  'seed_id': 'cpd00300',\n",
       "  'bigg_ann': 'urate',\n",
       "  'in_modelseed': ['urate'],\n",
       "  'both': {'urate'}},\n",
       " 'cpd08625': {'met_id': '5-HYDROXYISOURATE_c0',\n",
       "  'seed_id': 'cpd08625',\n",
       "  'bigg_ann': ['5hiu', 'C11821'],\n",
       "  'in_modelseed': ['5hiu'],\n",
       "  'both': {'5hiu', 'C11821'}},\n",
       " 'cpd03124': {'met_id': 'HEXANOYL-COA_c0',\n",
       "  'seed_id': 'cpd03124',\n",
       "  'bigg_ann': 'MISSING',\n",
       "  'in_modelseed': ['hxcoa'],\n",
       "  'both': {'hxcoa'}},\n",
       " 'cpd03121': {'met_id': '3oocoa_c',\n",
       "  'seed_id': 'cpd03121',\n",
       "  'bigg_ann': '3oocoa',\n",
       "  'in_modelseed': ['3oocoa'],\n",
       "  'both': {'3oocoa'}},\n",
       " 'cpd01399': {'met_id': 'maltttr_c',\n",
       "  'seed_id': 'cpd01399',\n",
       "  'bigg_ann': 'maltttr',\n",
       "  'in_modelseed': ['maltttr'],\n",
       "  'both': {'maltttr'}},\n",
       " 'cpd15495': {'met_id': 'maltpt_c',\n",
       "  'seed_id': 'cpd15495',\n",
       "  'bigg_ann': 'maltpt',\n",
       "  'in_modelseed': ['maltpt'],\n",
       "  'both': {'maltpt'}},\n",
       " 'cpd01012': {'met_id': 'MNXM2646_e0',\n",
       "  'seed_id': 'cpd01012',\n",
       "  'bigg_ann': 'MISSING',\n",
       "  'in_modelseed': ['cd2'],\n",
       "  'both': {'cd2'}},\n",
       " 'cpd00268': {'met_id': 'tsul_c',\n",
       "  'seed_id': 'cpd00268',\n",
       "  'bigg_ann': 'tsul',\n",
       "  'in_modelseed': ['tsul'],\n",
       "  'both': {'tsul'}},\n",
       " 'cpd00029': {'met_id': 'ac_c',\n",
       "  'seed_id': 'cpd00029',\n",
       "  'bigg_ann': 'ac',\n",
       "  'in_modelseed': ['ac'],\n",
       "  'both': {'ac'}},\n",
       " 'cpd00081': {'met_id': 'so3_c',\n",
       "  'seed_id': 'cpd00081',\n",
       "  'bigg_ann': 'so3',\n",
       "  'in_modelseed': ['so3'],\n",
       "  'both': {'so3'}},\n",
       " 'cpd00053': {'met_id': 'gln__L_c',\n",
       "  'seed_id': 'cpd00053',\n",
       "  'bigg_ann': 'gln__L',\n",
       "  'in_modelseed': ['gln__L'],\n",
       "  'both': {'gln__L'}},\n",
       " 'cpd00132': {'met_id': 'asn__L_c',\n",
       "  'seed_id': 'cpd00132',\n",
       "  'bigg_ann': 'asn__L',\n",
       "  'in_modelseed': ['asn__L'],\n",
       "  'both': {'asn__L'}},\n",
       " 'cpd00760': {'met_id': '2-METHYL-BUTYRYL-COA_c0',\n",
       "  'seed_id': 'cpd00760',\n",
       "  'bigg_ann': '2mbcoa',\n",
       "  'in_modelseed': ['2mbcoa'],\n",
       "  'both': {'2mbcoa'}},\n",
       " 'cpd02125': {'met_id': 'CPD-1083_c0',\n",
       "  'seed_id': 'cpd02125',\n",
       "  'bigg_ann': '2mb2coa',\n",
       "  'in_modelseed': ['2mb2coa'],\n",
       "  'both': {'2mb2coa'}},\n",
       " 'cpd15423': {'met_id': 'cdpdtdecg_c',\n",
       "  'seed_id': 'cpd15423',\n",
       "  'bigg_ann': 'cdpdtdecg',\n",
       "  'in_modelseed': ['cdpdtdecg'],\n",
       "  'both': {'cdpdtdecg'}},\n",
       " 'cpd15553': {'met_id': 'MNXM92581_c0',\n",
       "  'seed_id': 'cpd15553',\n",
       "  'bigg_ann': 'MISSING',\n",
       "  'in_modelseed': ['ps140'],\n",
       "  'both': {'ps140'}},\n",
       " 'cpd00089': {'met_id': 'g1p_c',\n",
       "  'seed_id': 'cpd00089',\n",
       "  'bigg_ann': 'g1p',\n",
       "  'in_modelseed': ['g1p'],\n",
       "  'both': {'g1p'}},\n",
       " 'cpd00387': {'met_id': 'adpglc_c',\n",
       "  'seed_id': 'cpd00387',\n",
       "  'bigg_ann': 'adpglc',\n",
       "  'in_modelseed': ['adpglc'],\n",
       "  'both': {'adpglc'}},\n",
       " 'cpd00860': {'met_id': 'CPD0-341_c0',\n",
       "  'seed_id': 'cpd00860',\n",
       "  'bigg_ann': ['HC00695', 'sdhlam'],\n",
       "  'in_modelseed': ['sdhlam'],\n",
       "  'both': {'HC00695', 'sdhlam'}},\n",
       " 'cpd00635': {'met_id': 'MNXM90163_c0',\n",
       "  'seed_id': 'cpd00635',\n",
       "  'bigg_ann': 'MISSING',\n",
       "  'in_modelseed': ['cbl1'],\n",
       "  'both': {'cbl1'}},\n",
       " 'cpd15418': {'met_id': 'cdpdhdec9eg_c',\n",
       "  'seed_id': 'cpd15418',\n",
       "  'bigg_ann': 'cdpdhdec9eg',\n",
       "  'in_modelseed': ['cdpdhdec9eg'],\n",
       "  'both': {'cdpdhdec9eg'}},\n",
       " 'cpd15556': {'met_id': 'MNXM92576_c0',\n",
       "  'seed_id': 'cpd15556',\n",
       "  'bigg_ann': 'MISSING',\n",
       "  'in_modelseed': ['ps161'],\n",
       "  'both': {'ps161'}},\n",
       " 'cpd02090': {'met_id': 'g3pg_c',\n",
       "  'seed_id': 'cpd02090',\n",
       "  'bigg_ann': 'g3pg',\n",
       "  'in_modelseed': ['g3pg'],\n",
       "  'both': {'g3pg'}},\n",
       " 'cpd01646': {'met_id': '3c3hmp_c',\n",
       "  'seed_id': 'cpd01646',\n",
       "  'bigg_ann': '3c3hmp',\n",
       "  'in_modelseed': ['3c3hmp'],\n",
       "  'both': {'3c3hmp'}},\n",
       " 'cpd00085': {'met_id': 'ala_B_c',\n",
       "  'seed_id': 'cpd00085',\n",
       "  'bigg_ann': 'ala_B',\n",
       "  'in_modelseed': ['ala_B'],\n",
       "  'both': {'ala_B'}},\n",
       " 'cpd00242': {'met_id': 'CO3_c0',\n",
       "  'seed_id': 'cpd00242',\n",
       "  'bigg_ann': ['h2co3', 'hco3'],\n",
       "  'in_modelseed': ['h2co3', 'hco3'],\n",
       "  'both': {'h2co3', 'hco3'}},\n",
       " 'cpd12848': {'met_id': 'MNXM96075_c0',\n",
       "  'seed_id': 'cpd12848',\n",
       "  'bigg_ann': 'btnCCP',\n",
       "  'in_modelseed': ['btnCCP'],\n",
       "  'both': {'btnCCP'}},\n",
       " 'cpd12543': {'met_id': 'MNXM5655_c0',\n",
       "  'seed_id': 'cpd12543',\n",
       "  'bigg_ann': 'cbtnCCP',\n",
       "  'in_modelseed': ['cbtnCCP'],\n",
       "  'both': {'cbtnCCP'}},\n",
       " 'cpd02233': {'met_id': 'CPD-1106_c0',\n",
       "  'seed_id': 'cpd02233',\n",
       "  'bigg_ann': '2ameph',\n",
       "  'in_modelseed': ['2ameph'],\n",
       "  'both': {'2ameph'}},\n",
       " 'cpd03379': {'met_id': 'MNXM47346_c0',\n",
       "  'seed_id': 'cpd03379',\n",
       "  'bigg_ann': 'MISSING',\n",
       "  'in_modelseed': ['cmp2amep'],\n",
       "  'both': {'cmp2amep'}},\n",
       " 'cpd04103': {'met_id': '3-HYDROXYPIMELYL-COA_c0',\n",
       "  'seed_id': 'cpd04103',\n",
       "  'bigg_ann': '3hpimcoa',\n",
       "  'in_modelseed': ['3hpimcoa'],\n",
       "  'both': {'3hpimcoa'}},\n",
       " 'cpd00239': {'met_id': 'h2s_c',\n",
       "  'seed_id': 'cpd00239',\n",
       "  'bigg_ann': 'h2s',\n",
       "  'in_modelseed': ['h2s'],\n",
       "  'both': {'h2s'}},\n",
       " 'cpd00383': {'met_id': 'skm_c',\n",
       "  'seed_id': 'cpd00383',\n",
       "  'bigg_ann': 'skm',\n",
       "  'in_modelseed': ['skm'],\n",
       "  'both': {'skm'}},\n",
       " 'cpd02030': {'met_id': 'skm5p_c',\n",
       "  'seed_id': 'cpd02030',\n",
       "  'bigg_ann': 'skm5p',\n",
       "  'in_modelseed': ['skm5p'],\n",
       "  'both': {'skm5p'}},\n",
       " 'cpd00873': {'met_id': 'nicrnt_c',\n",
       "  'seed_id': 'cpd00873',\n",
       "  'bigg_ann': 'nicrnt',\n",
       "  'in_modelseed': ['nicrnt'],\n",
       "  'both': {'nicrnt'}},\n",
       " 'cpd03471': {'met_id': 'CPD-8259_c0',\n",
       "  'seed_id': 'cpd03471',\n",
       "  'bigg_ann': 'nicrns',\n",
       "  'in_modelseed': ['nicrns'],\n",
       "  'both': {'nicrns'}},\n",
       " 'cpd00219': {'met_id': 'pphn_c',\n",
       "  'seed_id': 'cpd00219',\n",
       "  'bigg_ann': 'pphn',\n",
       "  'in_modelseed': ['pphn'],\n",
       "  'both': {'pphn'}},\n",
       " 'cpd00868': {'met_id': 'P-HYDROXY-PHENYLPYRUVATE_c0',\n",
       "  'seed_id': 'cpd00868',\n",
       "  'bigg_ann': ['2h34hppr', '34hpp'],\n",
       "  'in_modelseed': ['2h34hppr', '34hpp'],\n",
       "  'both': {'2h34hppr', '34hpp'}},\n",
       " 'cpd00044': {'met_id': 'paps_c',\n",
       "  'seed_id': 'cpd00044',\n",
       "  'bigg_ann': 'paps',\n",
       "  'in_modelseed': ['paps'],\n",
       "  'both': {'paps'}},\n",
       " 'cpd00269': {'met_id': '2K-ADIPATE_c0',\n",
       "  'seed_id': 'cpd00269',\n",
       "  'bigg_ann': '2oxoadp',\n",
       "  'in_modelseed': ['2oxoadp'],\n",
       "  'both': {'2oxoadp'}},\n",
       " 'cpd01496': {'met_id': 'MNXM162857_c0',\n",
       "  'seed_id': 'cpd01496',\n",
       "  'bigg_ann': 'MISSING',\n",
       "  'in_modelseed': ['amuco'],\n",
       "  'both': {'amuco'}},\n",
       " 'cpd00508': {'met_id': '3mop_c',\n",
       "  'seed_id': 'cpd00508',\n",
       "  'bigg_ann': '3mop',\n",
       "  'in_modelseed': ['3mop'],\n",
       "  'both': {'3mop'}},\n",
       " 'cpd14702': {'met_id': 'MNXM6733_c0',\n",
       "  'seed_id': 'cpd14702',\n",
       "  'bigg_ann': '2mhob',\n",
       "  'in_modelseed': ['2mhob'],\n",
       "  'both': {'2mhob'}},\n",
       " 'cpd00504': {'met_id': '26dap_LL_c',\n",
       "  'seed_id': 'cpd00504',\n",
       "  'bigg_ann': '26dap_LL',\n",
       "  'in_modelseed': ['26dap_LL'],\n",
       "  'both': {'26dap_LL'}},\n",
       " 'cpd00516': {'met_id': '26dap__M_c',\n",
       "  'seed_id': 'cpd00516',\n",
       "  'bigg_ann': '26dap__M',\n",
       "  'in_modelseed': ['26dap__M'],\n",
       "  'both': {'26dap__M'}},\n",
       " 'cpd00224': {'met_id': 'L-arabinopyranose_e0',\n",
       "  'seed_id': 'cpd00224',\n",
       "  'bigg_ann': 'MISSING',\n",
       "  'in_modelseed': ['arab__L'],\n",
       "  'both': {'arab__L'}},\n",
       " 'cpd02428': {'met_id': 'CPD-1825_c0',\n",
       "  'seed_id': 'cpd02428',\n",
       "  'bigg_ann': 'B_ara1p',\n",
       "  'in_modelseed': ['B_ara1p'],\n",
       "  'both': {'B_ara1p'}},\n",
       " 'cpd00905': {'met_id': 'ppgpp_c',\n",
       "  'seed_id': 'cpd00905',\n",
       "  'bigg_ann': 'ppgpp',\n",
       "  'in_modelseed': ['ppgpp'],\n",
       "  'both': {'ppgpp'}},\n",
       " 'cpd00035': {'met_id': 'ala__L_e',\n",
       "  'seed_id': 'cpd00035',\n",
       "  'bigg_ann': 'ala__L',\n",
       "  'in_modelseed': ['ala__L'],\n",
       "  'both': {'ala__L'}},\n",
       " 'cpd10515': {'met_id': 'fe2_e',\n",
       "  'seed_id': 'cpd10515',\n",
       "  'bigg_ann': 'fe2',\n",
       "  'in_modelseed': ['fe2'],\n",
       "  'both': {'fe2'}},\n",
       " 'cpd10516': {'met_id': 'fe3_e',\n",
       "  'seed_id': 'cpd10516',\n",
       "  'bigg_ann': 'fe3',\n",
       "  'in_modelseed': ['fe3'],\n",
       "  'both': {'fe3'}},\n",
       " 'cpd15500': {'met_id': 'mqn8_e',\n",
       "  'seed_id': 'cpd15500',\n",
       "  'bigg_ann': 'mqn8',\n",
       "  'in_modelseed': ['mqn8'],\n",
       "  'both': {'mqn8'}},\n",
       " 'cpd15499': {'met_id': 'mql8_e',\n",
       "  'seed_id': 'cpd15499',\n",
       "  'bigg_ann': 'mql8',\n",
       "  'in_modelseed': ['mql8'],\n",
       "  'both': {'mql8'}},\n",
       " 'cpd00340': {'met_id': 'CPD-654_c0',\n",
       "  'seed_id': 'cpd00340',\n",
       "  'bigg_ann': 'MISSING',\n",
       "  'in_modelseed': ['25dop'],\n",
       "  'both': {'25dop'}},\n",
       " 'cpd02547': {'met_id': 'R-1-AMINOPROPAN-2-YL-PHOSPHATE_c0',\n",
       "  'seed_id': 'cpd02547',\n",
       "  'bigg_ann': 'applp',\n",
       "  'in_modelseed': ['applp'],\n",
       "  'both': {'applp'}},\n",
       " 'cpd03917': {'met_id': 'CPD-691_c0',\n",
       "  'seed_id': 'cpd03917',\n",
       "  'bigg_ann': 'adcobhex',\n",
       "  'in_modelseed': ['adcobhex'],\n",
       "  'both': {'adcobhex'}},\n",
       " 'cpd03919': {'met_id': 'adocbip_c',\n",
       "  'seed_id': 'cpd03919',\n",
       "  'bigg_ann': 'adocbip',\n",
       "  'in_modelseed': ['adocbip'],\n",
       "  'both': {'adocbip'}},\n",
       " 'cpd00652': {'met_id': 'D-GALACTARATE_c0',\n",
       "  'seed_id': 'cpd00652',\n",
       "  'bigg_ann': ['galct__D', 'galctr__D'],\n",
       "  'in_modelseed': ['galct__D'],\n",
       "  'both': {'galct__D', 'galctr__D'}},\n",
       " 'cpd00515': {'met_id': '5-KETO-4-DEOXY-D-GLUCARATE_c0',\n",
       "  'seed_id': 'cpd00515',\n",
       "  'bigg_ann': ['5d4dglcr', '5dh4dglc'],\n",
       "  'in_modelseed': ['5dh4dglc'],\n",
       "  'both': {'5d4dglcr', '5dh4dglc'}},\n",
       " 'cpd00689': {'met_id': 'ppbng_c',\n",
       "  'seed_id': 'cpd00689',\n",
       "  'bigg_ann': 'ppbng',\n",
       "  'in_modelseed': ['ppbng'],\n",
       "  'both': {'ppbng'}},\n",
       " 'cpd00755': {'met_id': 'hmbil_c',\n",
       "  'seed_id': 'cpd00755',\n",
       "  'bigg_ann': 'hmbil',\n",
       "  'in_modelseed': ['hmbil'],\n",
       "  'both': {'hmbil'}},\n",
       " 'cpd00196': {'met_id': 'actp_c',\n",
       "  'seed_id': 'cpd00196',\n",
       "  'bigg_ann': 'actp',\n",
       "  'in_modelseed': ['actp'],\n",
       "  'both': {'actp'}},\n",
       " 'cpd11472': {'met_id': 'Hexanoyl-ACPs_c0',\n",
       "  'seed_id': 'cpd11472',\n",
       "  'bigg_ann': 'MISSING',\n",
       "  'in_modelseed': ['hexACP'],\n",
       "  'both': {'hexACP'}},\n",
       " 'cpd11490': {'met_id': '3ooctACP_c',\n",
       "  'seed_id': 'cpd11490',\n",
       "  'bigg_ann': '3ooctACP',\n",
       "  'in_modelseed': ['3ooctACP'],\n",
       "  'both': {'3ooctACP'}},\n",
       " 'cpd15529': {'met_id': 'MNXM162700_c0',\n",
       "  'seed_id': 'cpd15529',\n",
       "  'bigg_ann': 'MISSING',\n",
       "  'in_modelseed': ['pe140'],\n",
       "  'both': {'pe140'}},\n",
       " 'cpd15336': {'met_id': 'MNXM146494_c0',\n",
       "  'seed_id': 'cpd15336',\n",
       "  'bigg_ann': 'MISSING',\n",
       "  'in_modelseed': ['2agpe120'],\n",
       "  'both': {'2agpe120'}},\n",
       " 'cpd00448': {'met_id': 'glyald_c',\n",
       "  'seed_id': 'cpd00448',\n",
       "  'bigg_ann': 'glyald',\n",
       "  'in_modelseed': ['glyald'],\n",
       "  'both': {'glyald'}},\n",
       " 'cpd00223': {'met_id': 'glyc__R_c',\n",
       "  'seed_id': 'cpd00223',\n",
       "  'bigg_ann': 'glyc__R',\n",
       "  'in_modelseed': ['glyc__R'],\n",
       "  'both': {'glyc__R'}},\n",
       " 'cpd00169': {'met_id': '3pg_c',\n",
       "  'seed_id': 'cpd00169',\n",
       "  'bigg_ann': '3pg',\n",
       "  'in_modelseed': ['3pg'],\n",
       "  'both': {'3pg'}},\n",
       " 'cpd00276': {'met_id': 'gam_e',\n",
       "  'seed_id': 'cpd00276',\n",
       "  'bigg_ann': 'gam',\n",
       "  'in_modelseed': ['gam'],\n",
       "  'both': {'gam'}},\n",
       " 'cpd00288': {'met_id': 'gam6p_c',\n",
       "  'seed_id': 'cpd00288',\n",
       "  'bigg_ann': 'gam6p',\n",
       "  'in_modelseed': ['gam6p'],\n",
       "  'both': {'gam6p'}},\n",
       " 'cpd00655': {'met_id': 'dpcoa_c',\n",
       "  'seed_id': 'cpd00655',\n",
       "  'bigg_ann': 'dpcoa',\n",
       "  'in_modelseed': ['dpcoa'],\n",
       "  'both': {'dpcoa'}},\n",
       " 'cpd00863': {'met_id': 'GLC-6-P_c0',\n",
       "  'seed_id': 'cpd00863',\n",
       "  'bigg_ann': 'g6p_B',\n",
       "  'in_modelseed': ['g6p_B'],\n",
       "  'both': {'g6p_B'}},\n",
       " 'cpd01553': {'met_id': 'CPD-173_c0',\n",
       "  'seed_id': 'cpd01553',\n",
       "  'bigg_ann': ['2hxmp', '2hymeph'],\n",
       "  'in_modelseed': ['2hymeph'],\n",
       "  'both': {'2hxmp', '2hymeph'}},\n",
       " 'cpd01795': {'met_id': 'DE-O-GLUCONATE_c0',\n",
       "  'seed_id': 'cpd01795',\n",
       "  'bigg_ann': '2dglcn',\n",
       "  'in_modelseed': ['2dglcn'],\n",
       "  'both': {'2dglcn'}},\n",
       " 'cpd02441': {'met_id': 'DE-O-K-GLUCONATE_c0',\n",
       "  'seed_id': 'cpd02441',\n",
       "  'bigg_ann': '3ddgc',\n",
       "  'in_modelseed': ['3ddgc'],\n",
       "  'both': {'3ddgc'}},\n",
       " 'cpd01775': {'met_id': 'prbatp_c',\n",
       "  'seed_id': 'cpd01775',\n",
       "  'bigg_ann': 'prbatp',\n",
       "  'in_modelseed': ['prbatp'],\n",
       "  'both': {'prbatp'}},\n",
       " 'cpd00858': {'met_id': 'glu5sa_c',\n",
       "  'seed_id': 'cpd00858',\n",
       "  'bigg_ann': 'glu5sa',\n",
       "  'in_modelseed': ['glu5sa'],\n",
       "  'both': {'glu5sa'}},\n",
       " 'cpd02431': {'met_id': '1pyr5c_c',\n",
       "  'seed_id': 'cpd02431',\n",
       "  'bigg_ann': '1pyr5c',\n",
       "  'in_modelseed': ['1pyr5c'],\n",
       "  'both': {'1pyr5c'}},\n",
       " 'cpd00498': {'met_id': 'MNXM163143_c0',\n",
       "  'seed_id': 'cpd00498',\n",
       "  'bigg_ann': 'MISSING',\n",
       "  'in_modelseed': ['2ahbut'],\n",
       "  'both': {'2ahbut'}},\n",
       " 'cpd00082': {'met_id': 'fru_c',\n",
       "  'seed_id': 'cpd00082',\n",
       "  'bigg_ann': 'fru',\n",
       "  'in_modelseed': ['fru'],\n",
       "  'both': {'fru'}},\n",
       " 'cpd00802': {'met_id': 'f1p_c',\n",
       "  'seed_id': 'cpd00802',\n",
       "  'bigg_ann': 'f1p',\n",
       "  'in_modelseed': ['f1p'],\n",
       "  'both': {'f1p'}},\n",
       " 'cpd00126': {'met_id': 'gmp_c',\n",
       "  'seed_id': 'cpd00126',\n",
       "  'bigg_ann': 'gmp',\n",
       "  'in_modelseed': ['gmp'],\n",
       "  'both': {'gmp'}},\n",
       " 'cpd15352': {'met_id': '2dmmq8_e',\n",
       "  'seed_id': 'cpd15352',\n",
       "  'bigg_ann': '2dmmq8',\n",
       "  'in_modelseed': ['2dmmq8'],\n",
       "  'both': {'2dmmq8'}},\n",
       " 'cpd15353': {'met_id': 'MNXM162337_e0',\n",
       "  'seed_id': 'cpd15353',\n",
       "  'bigg_ann': 'MISSING',\n",
       "  'in_modelseed': ['2dmmql8'],\n",
       "  'both': {'2dmmql8'}},\n",
       " 'cpd00203': {'met_id': '13dpg_c',\n",
       "  'seed_id': 'cpd00203',\n",
       "  'bigg_ann': '13dpg',\n",
       "  'in_modelseed': ['13dpg'],\n",
       "  'both': {'13dpg'}},\n",
       " 'cpd00470': {'met_id': 'N1aspmd_c',\n",
       "  'seed_id': 'cpd00470',\n",
       "  'bigg_ann': 'N1aspmd',\n",
       "  'in_modelseed': ['N1aspmd'],\n",
       "  'both': {'N1aspmd'}},\n",
       " 'cpd00867': {'met_id': 'mi1p__D_c',\n",
       "  'seed_id': 'cpd00867',\n",
       "  'bigg_ann': 'mi1p__D',\n",
       "  'in_modelseed': ['mi1p__D'],\n",
       "  'both': {'mi1p__D'}},\n",
       " 'cpd00121': {'met_id': 'inost_e',\n",
       "  'seed_id': 'cpd00121',\n",
       "  'bigg_ann': 'inost',\n",
       "  'in_modelseed': ['inost'],\n",
       "  'both': {'inost'}},\n",
       " 'cpd00758': {'met_id': 'n8aspmd_c',\n",
       "  'seed_id': 'cpd00758',\n",
       "  'bigg_ann': 'n8aspmd',\n",
       "  'in_modelseed': ['n8aspmd'],\n",
       "  'both': {'n8aspmd'}},\n",
       " 'cpd00481': {'met_id': 'ISOBUTYRYL-COA_c0',\n",
       "  'seed_id': 'cpd00481',\n",
       "  'bigg_ann': 'ibcoa',\n",
       "  'in_modelseed': ['ibcoa'],\n",
       "  'both': {'ibcoa'}},\n",
       " 'cpd00282': {'met_id': 'dhor__S_c',\n",
       "  'seed_id': 'cpd00282',\n",
       "  'bigg_ann': 'dhor__S',\n",
       "  'in_modelseed': ['dhor__S'],\n",
       "  'both': {'dhor__S'}},\n",
       " 'cpd00247': {'met_id': 'orot_c',\n",
       "  'seed_id': 'cpd00247',\n",
       "  'bigg_ann': 'orot',\n",
       "  'in_modelseed': ['orot'],\n",
       "  'both': {'orot'}},\n",
       " 'cpd08301': {'met_id': '2mecdp_c',\n",
       "  'seed_id': 'cpd08301',\n",
       "  'bigg_ann': '2mecdp',\n",
       "  'in_modelseed': ['2mecdp'],\n",
       "  'both': {'2mecdp'}},\n",
       " 'cpd00774': {'met_id': 'uppg3_c',\n",
       "  'seed_id': 'cpd00774',\n",
       "  'bigg_ann': 'uppg3',\n",
       "  'in_modelseed': ['uppg3'],\n",
       "  'both': {'uppg3'}},\n",
       " 'cpd15557': {'met_id': 'ps180_c',\n",
       "  'seed_id': 'cpd15557',\n",
       "  'bigg_ann': 'ps180',\n",
       "  'in_modelseed': ['ps180'],\n",
       "  'both': {'ps180'}},\n",
       " 'cpd15533': {'met_id': 'pe180_c',\n",
       "  'seed_id': 'cpd15533',\n",
       "  'bigg_ann': 'pe180',\n",
       "  'in_modelseed': ['pe180'],\n",
       "  'both': {'pe180'}},\n",
       " 'cpd00099': {'met_id': 'cl_e',\n",
       "  'seed_id': 'cpd00099',\n",
       "  'bigg_ann': 'cl',\n",
       "  'in_modelseed': ['cl'],\n",
       "  'both': {'cl'}},\n",
       " 'cpd00842': {'met_id': 'CPD-12173_c0',\n",
       "  'seed_id': 'cpd00842',\n",
       "  'bigg_ann': ['3hbcoa', '3hbycoa', '3hibutcoa'],\n",
       "  'in_modelseed': ['3hbcoa'],\n",
       "  'both': {'3hbcoa', '3hbycoa', '3hibutcoa'}},\n",
       " 'cpd00279': {'met_id': 'aacoa_c',\n",
       "  'seed_id': 'cpd00279',\n",
       "  'bigg_ann': 'aacoa',\n",
       "  'in_modelseed': ['aacoa'],\n",
       "  'both': {'aacoa'}},\n",
       " 'cpd00286': {'met_id': 'udcpp_c',\n",
       "  'seed_id': 'cpd00286',\n",
       "  'bigg_ann': 'udcpp',\n",
       "  'in_modelseed': ['udcpp'],\n",
       "  'both': {'udcpp'}},\n",
       " 'cpd02862': {'met_id': 'C3_c0',\n",
       "  'seed_id': 'cpd02862',\n",
       "  'bigg_ann': 'MISSING',\n",
       "  'in_modelseed': ['uAgla', 'uGgla'],\n",
       "  'both': {'uAgla', 'uGgla'}},\n",
       " 'cpd02948': {'met_id': 'C4_c0',\n",
       "  'seed_id': 'cpd02948',\n",
       "  'bigg_ann': 'uaGgla',\n",
       "  'in_modelseed': ['uaGgla'],\n",
       "  'both': {'uaGgla'}},\n",
       " 'cpd00299': {'met_id': 'dump_c',\n",
       "  'seed_id': 'cpd00299',\n",
       "  'bigg_ann': 'dump',\n",
       "  'in_modelseed': ['dump'],\n",
       "  'both': {'dump'}},\n",
       " 'cpd02857': {'met_id': '2dda7p_c',\n",
       "  'seed_id': 'cpd02857',\n",
       "  'bigg_ann': '2dda7p',\n",
       "  'in_modelseed': ['2dda7p'],\n",
       "  'both': {'2dda7p'}},\n",
       " 'cpd00699': {'met_id': '3dhq_c',\n",
       "  'seed_id': 'cpd00699',\n",
       "  'bigg_ann': '3dhq',\n",
       "  'in_modelseed': ['3dhq'],\n",
       "  'both': {'3dhq'}},\n",
       " 'cpd00192': {'met_id': 'P-COUMAROYL-COA_c0',\n",
       "  'seed_id': 'cpd00192',\n",
       "  'bigg_ann': 'coucoa',\n",
       "  'in_modelseed': ['4cmcoa', 'coucoa'],\n",
       "  'both': {'4cmcoa', 'coucoa'}},\n",
       " 'cpd11468': {'met_id': 'Dodecanoyl-ACPs_c0',\n",
       "  'seed_id': 'cpd11468',\n",
       "  'bigg_ann': 'MISSING',\n",
       "  'in_modelseed': ['ddcaACP'],\n",
       "  'both': {'ddcaACP'}},\n",
       " 'cpd11469': {'met_id': 'tddec2eACP_c',\n",
       "  'seed_id': 'cpd11469',\n",
       "  'bigg_ann': 'tddec2eACP',\n",
       "  'in_modelseed': ['tddec2eACP'],\n",
       "  'both': {'tddec2eACP'}},\n",
       " 'cpd00058': {'met_id': 'cu2_c',\n",
       "  'seed_id': 'cpd00058',\n",
       "  'bigg_ann': 'cu2',\n",
       "  'in_modelseed': ['cu2'],\n",
       "  'both': {'cu2'}},\n",
       " 'cpd03915': {'met_id': 'MNXM91147_c0',\n",
       "  'seed_id': 'cpd03915',\n",
       "  'bigg_ann': 'MISSING',\n",
       "  'in_modelseed': ['co1dam'],\n",
       "  'both': {'co1dam'}},\n",
       " 'cpd00421': {'met_id': 'pppi_c',\n",
       "  'seed_id': 'cpd00421',\n",
       "  'bigg_ann': 'pppi',\n",
       "  'in_modelseed': ['pppi'],\n",
       "  'both': {'pppi'}},\n",
       " 'cpd03916': {'met_id': 'MNXM92085_c0',\n",
       "  'seed_id': 'cpd03916',\n",
       "  'bigg_ann': 'adcobdam',\n",
       "  'in_modelseed': ['adcobdam'],\n",
       "  'both': {'adcobdam'}},\n",
       " 'cpd00087': {'met_id': 'thf_c',\n",
       "  'seed_id': 'cpd00087',\n",
       "  'bigg_ann': 'thf',\n",
       "  'in_modelseed': ['thf'],\n",
       "  'both': {'thf'}},\n",
       " 'cpd02152': {'met_id': 'argsuc_c',\n",
       "  'seed_id': 'cpd02152',\n",
       "  'bigg_ann': 'argsuc',\n",
       "  'in_modelseed': ['argsuc'],\n",
       "  'both': {'argsuc'}},\n",
       " 'cpd00051': {'met_id': 'arg__L_e',\n",
       "  'seed_id': 'cpd00051',\n",
       "  'bigg_ann': 'arg__L',\n",
       "  'in_modelseed': ['arg__L'],\n",
       "  'both': {'arg__L'}},\n",
       " 'cpd01092': {'met_id': 'alltn_e',\n",
       "  'seed_id': 'cpd01092',\n",
       "  'bigg_ann': 'alltn',\n",
       "  'in_modelseed': ['alltn'],\n",
       "  'both': {'alltn'}},\n",
       " 'cpd00641': {'met_id': 'histd_c',\n",
       "  'seed_id': 'cpd00641',\n",
       "  'bigg_ann': 'histd',\n",
       "  'in_modelseed': ['histd'],\n",
       "  'both': {'histd'}},\n",
       " 'cpd15328': {'met_id': '1odec11eg3p_c',\n",
       "  'seed_id': 'cpd15328',\n",
       "  'bigg_ann': '1odec11eg3p',\n",
       "  'in_modelseed': ['1odec11eg3p'],\n",
       "  'both': {'1odec11eg3p'}},\n",
       " 'cpd00426': {'met_id': 'HOMOGENTISATE_c0',\n",
       "  'seed_id': 'cpd00426',\n",
       "  'bigg_ann': 'hgentis',\n",
       "  'in_modelseed': ['hgentis'],\n",
       "  'both': {'hgentis'}},\n",
       " 'cpd00763': {'met_id': '4-MALEYL-ACETOACETATE_c0',\n",
       "  'seed_id': 'cpd00763',\n",
       "  'bigg_ann': '4mlacac',\n",
       "  'in_modelseed': ['4mlacac'],\n",
       "  'both': {'4mlacac'}},\n",
       " 'cpd00626': {'met_id': 'dtdpglu_c',\n",
       "  'seed_id': 'cpd00626',\n",
       "  'bigg_ann': 'dtdpglu',\n",
       "  'in_modelseed': ['dtdpglu'],\n",
       "  'both': {'dtdpglu'}},\n",
       " 'cpd00220': {'met_id': 'ribflv_c',\n",
       "  'seed_id': 'cpd00220',\n",
       "  'bigg_ann': 'ribflv',\n",
       "  'in_modelseed': ['ribflv'],\n",
       "  'both': {'ribflv'}},\n",
       " 'cpd00739': {'met_id': 'CPD-316_c0',\n",
       "  'seed_id': 'cpd00739',\n",
       "  'bigg_ann': ['rbflvrd', 'ribflvRD'],\n",
       "  'in_modelseed': ['rbflvrd'],\n",
       "  'both': {'rbflvrd', 'ribflvRD'}},\n",
       " 'cpd12547': {'met_id': 'MNXM96082_c0',\n",
       "  'seed_id': 'cpd12547',\n",
       "  'bigg_ann': 'MISSING',\n",
       "  'in_modelseed': ['1agpe180'],\n",
       "  'both': {'1agpe180'}},\n",
       " 'cpd00161': {'met_id': 'thr__L_c',\n",
       "  'seed_id': 'cpd00161',\n",
       "  'bigg_ann': 'thr__L',\n",
       "  'in_modelseed': ['thr__L'],\n",
       "  'both': {'thr__L'}},\n",
       " 'cpd08286': {'met_id': '2me4p_c',\n",
       "  'seed_id': 'cpd08286',\n",
       "  'bigg_ann': '2me4p',\n",
       "  'in_modelseed': ['2me4p'],\n",
       "  'both': {'2me4p'}},\n",
       " 'cpd00767': {'met_id': 'CPD-420_c0',\n",
       "  'seed_id': 'cpd00767',\n",
       "  'bigg_ann': 'MISSING',\n",
       "  'in_modelseed': ['Nacasp'],\n",
       "  'both': {'Nacasp'}},\n",
       " 'cpd02978': {'met_id': 'ahdt_c',\n",
       "  'seed_id': 'cpd02978',\n",
       "  'bigg_ann': 'ahdt',\n",
       "  'in_modelseed': ['ahdt'],\n",
       "  'both': {'ahdt'}},\n",
       " 'cpd00797': {'met_id': 'CPD-335_e0',\n",
       "  'seed_id': 'cpd00797',\n",
       "  'bigg_ann': 'bhb',\n",
       "  'in_modelseed': ['bhb'],\n",
       "  'both': {'bhb'}},\n",
       " 'cpd00107': {'met_id': 'leu__L_c',\n",
       "  'seed_id': 'cpd00107',\n",
       "  'bigg_ann': 'leu__L',\n",
       "  'in_modelseed': ['leu__L'],\n",
       "  'both': {'leu__L'}},\n",
       " 'cpd03607': {'met_id': 'phthr_c',\n",
       "  'seed_id': 'cpd03607',\n",
       "  'bigg_ann': 'phthr',\n",
       "  'in_modelseed': ['phthr'],\n",
       "  'both': {'phthr'}},\n",
       " 'cpd02893': {'met_id': '5aizc_c',\n",
       "  'seed_id': 'cpd02893',\n",
       "  'bigg_ann': '5aizc',\n",
       "  'in_modelseed': ['5aizc'],\n",
       "  'both': {'5aizc'}},\n",
       " 'cpd02140': {'met_id': '5-PHOSPHORIBOSYL-5-AMINOIMIDAZOLE_c0',\n",
       "  'seed_id': 'cpd02140',\n",
       "  'bigg_ann': 'MISSING',\n",
       "  'in_modelseed': ['air'],\n",
       "  'both': {'air'}},\n",
       " 'cpd00184': {'met_id': 'thymd_c',\n",
       "  'seed_id': 'cpd00184',\n",
       "  'bigg_ann': 'thymd',\n",
       "  'in_modelseed': ['thymd'],\n",
       "  'both': {'thymd'}},\n",
       " 'cpd00078': {'met_id': 'succoa_c',\n",
       "  'seed_id': 'cpd00078',\n",
       "  'bigg_ann': 'succoa',\n",
       "  'in_modelseed': ['succoa'],\n",
       "  'both': {'succoa'}},\n",
       " 'cpd03762': {'met_id': 'CPD-290_c0',\n",
       "  'seed_id': 'cpd03762',\n",
       "  'bigg_ann': 'bz12diol',\n",
       "  'in_modelseed': ['bz12diol'],\n",
       "  'both': {'bz12diol'}},\n",
       " 'cpd00077': {'met_id': 'CATECHOL_c0',\n",
       "  'seed_id': 'cpd00077',\n",
       "  'bigg_ann': 'catechol',\n",
       "  'in_modelseed': ['catechol'],\n",
       "  'both': {'catechol'}},\n",
       " 'cpd05238': {'met_id': 'CPD-14268_c0',\n",
       "  'seed_id': 'cpd05238',\n",
       "  'bigg_ann': 'MISSING',\n",
       "  'in_modelseed': ['nrvnc'],\n",
       "  'both': {'nrvnc'}},\n",
       " 'cpd00357': {'met_id': 'dttp_c',\n",
       "  'seed_id': 'cpd00357',\n",
       "  'bigg_ann': 'dttp',\n",
       "  'in_modelseed': ['dttp'],\n",
       "  'both': {'dttp'}},\n",
       " 'cpd00297': {'met_id': 'dtdp_c',\n",
       "  'seed_id': 'cpd00297',\n",
       "  'bigg_ann': 'dtdp',\n",
       "  'in_modelseed': ['dtdp'],\n",
       "  'both': {'dtdp'}},\n",
       " 'cpd02691': {'met_id': '2-METHYL-3-HYDROXY-BUTYRYL-COA_c0',\n",
       "  'seed_id': 'cpd02691',\n",
       "  'bigg_ann': '3hmbcoa',\n",
       "  'in_modelseed': ['3hmbcoa'],\n",
       "  'both': {'3hmbcoa'}},\n",
       " 'cpd02124': {'met_id': '2-METHYL-ACETO-ACETYL-COA_c0',\n",
       "  'seed_id': 'cpd02124',\n",
       "  'bigg_ann': '2maacoa',\n",
       "  'in_modelseed': ['2maacoa'],\n",
       "  'both': {'2maacoa'}},\n",
       " 'cpd02501': {'met_id': 'dhpppn_c',\n",
       "  'seed_id': 'cpd02501',\n",
       "  'bigg_ann': 'dhpppn',\n",
       "  'in_modelseed': ['dhpppn'],\n",
       "  'both': {'dhpppn'}},\n",
       " 'cpd00216': {'met_id': 'chor_c',\n",
       "  'seed_id': 'cpd00216',\n",
       "  'bigg_ann': 'chor',\n",
       "  'in_modelseed': ['chor'],\n",
       "  'both': {'chor'}},\n",
       " 'cpd00314': {'met_id': 'mnl_c',\n",
       "  'seed_id': 'cpd00314',\n",
       "  'bigg_ann': 'mnl',\n",
       "  'in_modelseed': ['mnl'],\n",
       "  'both': {'mnl'}},\n",
       " 'cpd00491': {'met_id': 'mnl1p_c',\n",
       "  'seed_id': 'cpd00491',\n",
       "  'bigg_ann': 'mnl1p',\n",
       "  'in_modelseed': ['mnl1p'],\n",
       "  'both': {'mnl1p'}},\n",
       " 'cpd11341': {'met_id': 'ggbutal_c',\n",
       "  'seed_id': 'cpd11341',\n",
       "  'bigg_ann': 'ggbutal',\n",
       "  'in_modelseed': ['ggbutal'],\n",
       "  'both': {'ggbutal'}},\n",
       " 'cpd11408': {'met_id': 'gg4abut_c',\n",
       "  'seed_id': 'cpd11408',\n",
       "  'bigg_ann': 'gg4abut',\n",
       "  'in_modelseed': ['gg4abut'],\n",
       "  'both': {'gg4abut'}},\n",
       " 'cpd15546': {'met_id': 'pgp161_c',\n",
       "  'seed_id': 'cpd15546',\n",
       "  'bigg_ann': 'pgp161',\n",
       "  'in_modelseed': ['pgp161'],\n",
       "  'both': {'pgp161'}},\n",
       " 'cpd15539': {'met_id': 'pg161_c',\n",
       "  'seed_id': 'cpd15539',\n",
       "  'bigg_ann': 'pg161',\n",
       "  'in_modelseed': ['pg161'],\n",
       "  'both': {'pg161'}},\n",
       " 'cpd00296': {'met_id': 'dgmp_c',\n",
       "  'seed_id': 'cpd00296',\n",
       "  'bigg_ann': 'dgmp',\n",
       "  'in_modelseed': ['dgmp'],\n",
       "  'both': {'dgmp'}},\n",
       " 'cpd00277': {'met_id': 'dgsn_e',\n",
       "  'seed_id': 'cpd00277',\n",
       "  'bigg_ann': 'dgsn',\n",
       "  'in_modelseed': ['dgsn'],\n",
       "  'both': {'dgsn'}},\n",
       " 'cpd11438': {'met_id': 'MNXM4586_c0',\n",
       "  'seed_id': 'cpd11438',\n",
       "  'bigg_ann': 'MISSING',\n",
       "  'in_modelseed': ['fa4'],\n",
       "  'both': {'fa4'}},\n",
       " 'cpd01017': {'met_id': 'cgly_c',\n",
       "  'seed_id': 'cpd01017',\n",
       "  'bigg_ann': 'cgly',\n",
       "  'in_modelseed': ['cgly'],\n",
       "  'both': {'cgly'}},\n",
       " 'cpd15339': {'met_id': '2agpe160_c',\n",
       "  'seed_id': 'cpd15339',\n",
       "  'bigg_ann': '2agpe160',\n",
       "  'in_modelseed': ['2agpe160'],\n",
       "  'both': {'2agpe160'}},\n",
       " 'cpd00214': {'met_id': 'hdca_e',\n",
       "  'seed_id': 'cpd00214',\n",
       "  'bigg_ann': 'hdca',\n",
       "  'in_modelseed': ['hdca'],\n",
       "  'both': {'hdca'}},\n",
       " 'cpd01306': {'met_id': 'CYCLOARTENOL_c0',\n",
       "  'seed_id': 'cpd01306',\n",
       "  'bigg_ann': 'cyart',\n",
       "  'in_modelseed': ['cyart'],\n",
       "  'both': {'cyart'}},\n",
       " 'cpd05727': {'met_id': 'CPD-696_c0',\n",
       "  'seed_id': 'cpd05727',\n",
       "  'bigg_ann': 'menecyart',\n",
       "  'in_modelseed': ['menecyart'],\n",
       "  'both': {'menecyart'}},\n",
       " 'cpd00134': {'met_id': 'pmtcoa_c',\n",
       "  'seed_id': 'cpd00134',\n",
       "  'bigg_ann': 'pmtcoa',\n",
       "  'in_modelseed': ['pmtcoa'],\n",
       "  'both': {'pmtcoa'}},\n",
       " 'cpd00365': {'met_id': 'CPD-13524_c0',\n",
       "  'seed_id': 'cpd00365',\n",
       "  'bigg_ann': 'retinol',\n",
       "  'in_modelseed': ['retinol'],\n",
       "  'both': {'retinol'}},\n",
       " 'cpd00871': {'met_id': 'D-RIBULOSE-15-P2_c0',\n",
       "  'seed_id': 'cpd00871',\n",
       "  'bigg_ann': 'rb15bp',\n",
       "  'in_modelseed': ['rb15bp'],\n",
       "  'both': {'rb15bp'}},\n",
       " 'cpd15521': {'met_id': 'pa120_c',\n",
       "  'seed_id': 'cpd15521',\n",
       "  'bigg_ann': 'pa120',\n",
       "  'in_modelseed': ['pa120'],\n",
       "  'both': {'pa120'}},\n",
       " 'cpd02731': {'met_id': 'hkndd_c',\n",
       "  'seed_id': 'cpd02731',\n",
       "  'bigg_ann': 'hkndd',\n",
       "  'in_modelseed': ['hkndd'],\n",
       "  'both': {'hkndd'}},\n",
       " 'cpd15322': {'met_id': 'MNXM147674_c0',\n",
       "  'seed_id': 'cpd15322',\n",
       "  'bigg_ann': 'MISSING',\n",
       "  'in_modelseed': ['1agpg161'],\n",
       "  'both': {'1agpg161'}},\n",
       " 'cpd15343': {'met_id': 'MNXM146498_c0',\n",
       "  'seed_id': 'cpd15343',\n",
       "  'bigg_ann': 'MISSING',\n",
       "  'in_modelseed': ['2agpg120'],\n",
       "  'both': {'2agpg120'}},\n",
       " 'cpd00274': {'met_id': 'citr__L_c',\n",
       "  'seed_id': 'cpd00274',\n",
       "  'bigg_ann': 'citr__L',\n",
       "  'in_modelseed': ['citr__L'],\n",
       "  'both': {'citr__L'}},\n",
       " 'cpd00397': {'met_id': 'rbl__L_c',\n",
       "  'seed_id': 'cpd00397',\n",
       "  'bigg_ann': 'rbl__L',\n",
       "  'in_modelseed': ['rbl__L', 'xylu__D'],\n",
       "  'both': {'rbl__L', 'xylu__D'}},\n",
       " 'cpd00770': {'met_id': 'CPD-600_c0',\n",
       "  'seed_id': 'cpd00770',\n",
       "  'bigg_ann': 'Nforglu',\n",
       "  'in_modelseed': ['Nforglu'],\n",
       "  'both': {'Nforglu'}},\n",
       " 'cpd00957': {'met_id': '25drapp_c',\n",
       "  'seed_id': 'cpd00957',\n",
       "  'bigg_ann': '25drapp',\n",
       "  'in_modelseed': ['25dhpp', '25drapp'],\n",
       "  'both': {'25dhpp', '25drapp'}},\n",
       " 'cpd00449': {'met_id': 'DIHYDROLIPOAMIDE_c0',\n",
       "  'seed_id': 'cpd00449',\n",
       "  'bigg_ann': 'dhlam',\n",
       "  'in_modelseed': ['dhlam'],\n",
       "  'both': {'dhlam'}},\n",
       " 'cpd00285': {'met_id': 'PHOSPHORYL-ETHANOLAMINE_c0',\n",
       "  'seed_id': 'cpd00285',\n",
       "  'bigg_ann': 'ethamp',\n",
       "  'in_modelseed': ['ethamp'],\n",
       "  'both': {'ethamp'}},\n",
       " 'cpd00159': {'met_id': 'lac__L_e',\n",
       "  'seed_id': 'cpd00159',\n",
       "  'bigg_ann': 'lac__L',\n",
       "  'in_modelseed': ['lac__L'],\n",
       "  'both': {'lac__L'}},\n",
       " 'cpd00143': {'met_id': 'phpyr_c',\n",
       "  'seed_id': 'cpd00143',\n",
       "  'bigg_ann': 'phpyr',\n",
       "  'in_modelseed': ['phpyr'],\n",
       "  'both': {'phpyr'}},\n",
       " 'cpd03480': {'met_id': 'CPD-11495_c0',\n",
       "  'seed_id': 'cpd03480',\n",
       "  'bigg_ann': '2hyoxplac',\n",
       "  'in_modelseed': ['2hyoxplac'],\n",
       "  'both': {'2hyoxplac'}},\n",
       " 'cpd03220': {'met_id': 'CPD1F-126_c0',\n",
       "  'seed_id': 'cpd03220',\n",
       "  'bigg_ann': 'gcarote',\n",
       "  'in_modelseed': ['gcarote'],\n",
       "  'both': {'gcarote'}},\n",
       " 'cpd15327': {'met_id': '1hdecg3p_c',\n",
       "  'seed_id': 'cpd15327',\n",
       "  'bigg_ann': '1hdecg3p',\n",
       "  'in_modelseed': ['1hdecg3p'],\n",
       "  'both': {'1hdecg3p'}},\n",
       " 'cpd00241': {'met_id': 'dgtp_c',\n",
       "  'seed_id': 'cpd00241',\n",
       "  'bigg_ann': 'dgtp',\n",
       "  'in_modelseed': ['dgtp'],\n",
       "  'both': {'dgtp'}},\n",
       " 'cpd00183': {'met_id': 'sarcs_c',\n",
       "  'seed_id': 'cpd00183',\n",
       "  'bigg_ann': 'sarcs',\n",
       "  'in_modelseed': ['sarcs'],\n",
       "  'both': {'sarcs'}},\n",
       " 'cpd00186': {'met_id': 'glu__D_c',\n",
       "  'seed_id': 'cpd00186',\n",
       "  'bigg_ann': 'glu__D',\n",
       "  'in_modelseed': ['glu__D'],\n",
       "  'both': {'glu__D'}},\n",
       " 'cpd02679': {'met_id': 'METHYLENETETRAHYDROMETHANOPTERIN_c0',\n",
       "  'seed_id': 'cpd02679',\n",
       "  'bigg_ann': 'MISSING',\n",
       "  'in_modelseed': ['mleneh4spt'],\n",
       "  'both': {'mleneh4spt'}},\n",
       " 'cpd00822': {'met_id': 'suchms_c',\n",
       "  'seed_id': 'cpd00822',\n",
       "  'bigg_ann': 'suchms',\n",
       "  'in_modelseed': ['suchms'],\n",
       "  'both': {'suchms'}},\n",
       " 'cpd00457': {'met_id': 'PHOSPHORYL-CHOLINE_c0',\n",
       "  'seed_id': 'cpd00457',\n",
       "  'bigg_ann': 'cholp',\n",
       "  'in_modelseed': ['cholp'],\n",
       "  'both': {'cholp'}},\n",
       " 'cpd11484': {'met_id': '3hmrsACP_c',\n",
       "  'seed_id': 'cpd11484',\n",
       "  'bigg_ann': '3hmrsACP',\n",
       "  'in_modelseed': ['3hmrsACP'],\n",
       "  'both': {'3hmrsACP'}},\n",
       " 'cpd11467': {'met_id': 'tmrs2eACP_c',\n",
       "  'seed_id': 'cpd11467',\n",
       "  'bigg_ann': 'tmrs2eACP',\n",
       "  'in_modelseed': ['tmrs2eACP'],\n",
       "  'both': {'tmrs2eACP'}},\n",
       " 'cpd02446': {'met_id': 'cpd02446_c0',\n",
       "  'seed_id': 'cpd02446',\n",
       "  'bigg_ann': 'd5kg',\n",
       "  'in_modelseed': ['d5kg'],\n",
       "  'both': {'d5kg'}},\n",
       " 'cpd02721': {'met_id': 'MNXM91569_c0',\n",
       "  'seed_id': 'cpd02721',\n",
       "  'bigg_ann': 'MISSING',\n",
       "  'in_modelseed': ['d5kgp'],\n",
       "  'both': {'d5kgp'}},\n",
       " 'cpd02024': {'met_id': 'CPD-551_c0',\n",
       "  'seed_id': 'cpd02024',\n",
       "  'bigg_ann': 'Pald',\n",
       "  'in_modelseed': ['Pald'],\n",
       "  'both': {'Pald'}},\n",
       " 'cpd15268': {'met_id': 'MNXM162484_c0',\n",
       "  'seed_id': 'cpd15268',\n",
       "  'bigg_ann': 'MISSING',\n",
       "  'in_modelseed': ['ocdcaACP'],\n",
       "  'both': {'ocdcaACP'}},\n",
       " 'cpd15329': {'met_id': '1odecg3p_c',\n",
       "  'seed_id': 'cpd15329',\n",
       "  'bigg_ann': '1odecg3p',\n",
       "  'in_modelseed': ['1odecg3p'],\n",
       "  'both': {'1odecg3p'}},\n",
       " 'cpd03733': {'met_id': 'MNXM3315_c0',\n",
       "  'seed_id': 'cpd03733',\n",
       "  'bigg_ann': 'MISSING',\n",
       "  'in_modelseed': ['acnamp'],\n",
       "  'both': {'acnamp'}},\n",
       " 'cpd02612': {'met_id': 'acmanap_c',\n",
       "  'seed_id': 'cpd02612',\n",
       "  'bigg_ann': 'acmanap',\n",
       "  'in_modelseed': ['acmanap'],\n",
       "  'both': {'acmanap'}},\n",
       " 'cpd01501': {'met_id': '2mcit_c',\n",
       "  'seed_id': 'cpd01501',\n",
       "  'bigg_ann': '2mcit',\n",
       "  'in_modelseed': ['2mcit'],\n",
       "  'both': {'2mcit'}},\n",
       " 'cpd00507': {'met_id': 'g3pc_c',\n",
       "  'seed_id': 'cpd00507',\n",
       "  'bigg_ann': 'g3pc',\n",
       "  'in_modelseed': ['g3pc'],\n",
       "  'both': {'g3pc'}},\n",
       " 'cpd00098': {'met_id': 'chol_e',\n",
       "  'seed_id': 'cpd00098',\n",
       "  'bigg_ann': 'chol',\n",
       "  'in_modelseed': ['chol'],\n",
       "  'both': {'chol'}},\n",
       " 'cpd00040': {'met_id': 'glx_c',\n",
       "  'seed_id': 'cpd00040',\n",
       "  'bigg_ann': 'glx',\n",
       "  'in_modelseed': ['glx'],\n",
       "  'both': {'glx'}},\n",
       " 'cpd15419': {'met_id': 'cdpdhdecg_c',\n",
       "  'seed_id': 'cpd15419',\n",
       "  'bigg_ann': 'cdpdhdecg',\n",
       "  'in_modelseed': ['cdpdhdecg'],\n",
       "  'both': {'cdpdhdecg'}},\n",
       " 'cpd15545': {'met_id': 'pgp160_c',\n",
       "  'seed_id': 'cpd15545',\n",
       "  'bigg_ann': 'pgp160',\n",
       "  'in_modelseed': ['pgp160'],\n",
       "  'both': {'pgp160'}},\n",
       " 'cpd00308': {'met_id': 'MALONATE_c0',\n",
       "  'seed_id': 'cpd00308',\n",
       "  'bigg_ann': 'malon',\n",
       "  'in_modelseed': ['malon'],\n",
       "  'both': {'malon'}},\n",
       " 'cpd00388': {'met_id': 'alltt_c',\n",
       "  'seed_id': 'cpd00388',\n",
       "  'bigg_ann': 'alltt',\n",
       "  'in_modelseed': ['alltt'],\n",
       "  'both': {'alltt'}},\n",
       " 'cpd00073': {'met_id': 'urea_c',\n",
       "  'seed_id': 'cpd00073',\n",
       "  'bigg_ann': 'urea',\n",
       "  'in_modelseed': ['urea'],\n",
       "  'both': {'urea'}},\n",
       " 'cpd00465': {'met_id': 'urdglyc_c',\n",
       "  'seed_id': 'cpd00465',\n",
       "  'bigg_ann': 'urdglyc',\n",
       "  'in_modelseed': ['urdglyc'],\n",
       "  'both': {'urdglyc'}},\n",
       " 'cpd00790': {'met_id': 'CPD-667_c0',\n",
       "  'seed_id': 'cpd00790',\n",
       "  'bigg_ann': 'achms',\n",
       "  'in_modelseed': ['achms'],\n",
       "  'both': {'achms'}},\n",
       " 'cpd01919': {'met_id': 'malt6p_c',\n",
       "  'seed_id': 'cpd01919',\n",
       "  'bigg_ann': 'malt6p',\n",
       "  'in_modelseed': ['malt6p'],\n",
       "  'both': {'malt6p'}},\n",
       " 'cpd11474': {'met_id': 'Decanoyl-ACPs_c0',\n",
       "  'seed_id': 'cpd11474',\n",
       "  'bigg_ann': 'MISSING',\n",
       "  'in_modelseed': ['dcaACP'],\n",
       "  'both': {'dcaACP'}},\n",
       " 'cpd11489': {'met_id': '3oddecACP_c',\n",
       "  'seed_id': 'cpd11489',\n",
       "  'bigg_ann': '3oddecACP',\n",
       "  'in_modelseed': ['3oddecACP'],\n",
       "  'both': {'3oddecACP'}},\n",
       " 'cpd00105': {'met_id': 'rib__D_e',\n",
       "  'seed_id': 'cpd00105',\n",
       "  'bigg_ann': 'rib__D',\n",
       "  'in_modelseed': ['rib__D'],\n",
       "  'both': {'rib__D'}},\n",
       " 'cpd03118': {'met_id': '3hdcoa_c',\n",
       "  'seed_id': 'cpd03118',\n",
       "  'bigg_ann': '3hdcoa',\n",
       "  'in_modelseed': ['3hdcoa'],\n",
       "  'both': {'3hdcoa'}},\n",
       " 'cpd03129': {'met_id': 'dc2coa_c',\n",
       "  'seed_id': 'cpd03129',\n",
       "  'bigg_ann': 'dc2coa',\n",
       "  'in_modelseed': ['dc2coa'],\n",
       "  'both': {'dc2coa'}},\n",
       " 'cpd03449': {'met_id': 'MNXM91072_c0',\n",
       "  'seed_id': 'cpd03449',\n",
       "  'bigg_ann': 'MISSING',\n",
       "  'in_modelseed': ['2omhmbl'],\n",
       "  'both': {'2omhmbl'}},\n",
       " 'cpd00292': {'met_id': '3-HYDROXY-3-METHYL-GLUTARYL-COA_c0',\n",
       "  'seed_id': 'cpd00292',\n",
       "  'bigg_ann': 'MISSING',\n",
       "  'in_modelseed': ['hmgcoa'],\n",
       "  'both': {'hmgcoa'}},\n",
       " 'cpd02068': {'met_id': 'TRANS-3-METHYL-GLUTACONYL-COA_c0',\n",
       "  'seed_id': 'cpd02068',\n",
       "  'bigg_ann': '3mgcoa',\n",
       "  'in_modelseed': ['3mgcoa'],\n",
       "  'both': {'3mgcoa'}},\n",
       " 'cpd00347': {'met_id': 'methf_c',\n",
       "  'seed_id': 'cpd00347',\n",
       "  'bigg_ann': 'methf',\n",
       "  'in_modelseed': ['methf'],\n",
       "  'both': {'methf'}},\n",
       " 'cpd11476': {'met_id': 'Palmitoyl-ACPs_c0',\n",
       "  'seed_id': 'cpd11476',\n",
       "  'bigg_ann': 'MISSING',\n",
       "  'in_modelseed': ['palmACP'],\n",
       "  'both': {'palmACP'}},\n",
       " 'cpd15526': {'met_id': 'pa180_c',\n",
       "  'seed_id': 'cpd15526',\n",
       "  'bigg_ann': 'pa180',\n",
       "  'in_modelseed': ['pa180'],\n",
       "  'both': {'pa180'}},\n",
       " 'cpd15312': {'met_id': 'MNXM146747_c0',\n",
       "  'seed_id': 'cpd15312',\n",
       "  'bigg_ann': 'MISSING',\n",
       "  'in_modelseed': ['12dgr181'],\n",
       "  'both': {'12dgr181'}},\n",
       " 'cpd15527': {'met_id': 'pa181_c',\n",
       "  'seed_id': 'cpd15527',\n",
       "  'bigg_ann': 'pa181',\n",
       "  'in_modelseed': ['pa181'],\n",
       "  'both': {'pa181'}},\n",
       " 'cpd15309': {'met_id': 'MNXM162790_c0',\n",
       "  'seed_id': 'cpd15309',\n",
       "  'bigg_ann': 'MISSING',\n",
       "  'in_modelseed': ['12dgr160'],\n",
       "  'both': {'12dgr160'}},\n",
       " 'cpd15524': {'met_id': 'pa160_c',\n",
       "  'seed_id': 'cpd15524',\n",
       "  'bigg_ann': 'pa160',\n",
       "  'in_modelseed': ['pa160'],\n",
       "  'both': {'pa160'}},\n",
       " 'cpd03116': {'met_id': '3hddcoa_c',\n",
       "  'seed_id': 'cpd03116',\n",
       "  'bigg_ann': '3hddcoa',\n",
       "  'in_modelseed': ['3hddcoa'],\n",
       "  'both': {'3hddcoa'}},\n",
       " 'cpd02060': {'met_id': 'CPD-7222_c0',\n",
       "  'seed_id': 'cpd02060',\n",
       "  'bigg_ann': ['dd2coa', 'trans_dd2coa'],\n",
       "  'in_modelseed': ['dd2coa', 'trans_dd2coa'],\n",
       "  'both': {'dd2coa', 'trans_dd2coa'}},\n",
       " 'cpd00076': {'met_id': 'sucr_e',\n",
       "  'seed_id': 'cpd00076',\n",
       "  'bigg_ann': 'sucr',\n",
       "  'in_modelseed': ['sucr'],\n",
       "  'both': {'sucr'}},\n",
       " 'cpd02774': {'met_id': 'BETA-HYDROXYANDROST-5-EN-17-ONE-3-SULFAT_c0',\n",
       "  'seed_id': 'cpd02774',\n",
       "  'bigg_ann': 'dheas',\n",
       "  'in_modelseed': ['dheas'],\n",
       "  'both': {'dheas'}},\n",
       " 'cpd00904': {'met_id': '3-BETA-HYDROXYANDROST-5-EN-17-ONE_c0',\n",
       "  'seed_id': 'cpd00904',\n",
       "  'bigg_ann': 'dhea',\n",
       "  'in_modelseed': ['dhea'],\n",
       "  'both': {'dhea'}},\n",
       " 'cpd00843': {'met_id': 'TARTRONATE-S-ALD_c0',\n",
       "  'seed_id': 'cpd00843',\n",
       "  'bigg_ann': ['2h3opp', '2h3oppan', 'hop'],\n",
       "  'in_modelseed': ['2h3oppan'],\n",
       "  'both': {'2h3opp', '2h3oppan', 'hop'}},\n",
       " 'cpd00270': {'met_id': 'CAFFEOYL-COA_c0',\n",
       "  'seed_id': 'cpd00270',\n",
       "  'bigg_ann': 'caffcoa',\n",
       "  'in_modelseed': ['caffcoa'],\n",
       "  'both': {'caffcoa'}},\n",
       " 'cpd00187': {'met_id': 'METHYLAMINE_c0',\n",
       "  'seed_id': 'cpd00187',\n",
       "  'bigg_ann': 'MISSING',\n",
       "  'in_modelseed': ['mma'],\n",
       "  'both': {'mma'}},\n",
       " 'cpd00371': {'met_id': 'ppal_c',\n",
       "  'seed_id': 'cpd00371',\n",
       "  'bigg_ann': 'ppal',\n",
       "  'in_modelseed': ['ppal'],\n",
       "  'both': {'ppal'}},\n",
       " 'cpd04141': {'met_id': 'MNXM2488_c0',\n",
       "  'seed_id': 'cpd04141',\n",
       "  'bigg_ann': '4hoxoh',\n",
       "  'in_modelseed': ['4hoxoh'],\n",
       "  'both': {'4hoxoh'}},\n",
       " 'cpd00069': {'met_id': 'tyr__L_e',\n",
       "  'seed_id': 'cpd00069',\n",
       "  'bigg_ann': 'tyr__L',\n",
       "  'in_modelseed': ['tyr__L'],\n",
       "  'both': {'tyr__L'}},\n",
       " 'cpd15364': {'met_id': '2tpr3dpcoa_c',\n",
       "  'seed_id': 'cpd15364',\n",
       "  'bigg_ann': '2tpr3dpcoa',\n",
       "  'in_modelseed': ['2tpr3dpcoa'],\n",
       "  'both': {'2tpr3dpcoa'}},\n",
       " 'cpd15420': {'met_id': 'cdpdodec11eg_c',\n",
       "  'seed_id': 'cpd15420',\n",
       "  'bigg_ann': 'cdpdodec11eg',\n",
       "  'in_modelseed': ['cdpdodec11eg'],\n",
       "  'both': {'cdpdodec11eg'}},\n",
       " 'cpd15548': {'met_id': 'MNXM91688_c0',\n",
       "  'seed_id': 'cpd15548',\n",
       "  'bigg_ann': 'MISSING',\n",
       "  'in_modelseed': ['pgp181'],\n",
       "  'both': {'pgp181'}},\n",
       " 'cpd00791': {'met_id': 'pppg9_c',\n",
       "  'seed_id': 'cpd00791',\n",
       "  'bigg_ann': 'pppg9',\n",
       "  'in_modelseed': ['pppg9'],\n",
       "  'both': {'pppg9'}},\n",
       " 'cpd01476': {'met_id': 'ppp9_c',\n",
       "  'seed_id': 'cpd01476',\n",
       "  'bigg_ann': 'ppp9',\n",
       "  'in_modelseed': ['ppp9'],\n",
       "  'both': {'ppp9'}},\n",
       " 'cpd15358': {'met_id': '2odecg3p_c',\n",
       "  'seed_id': 'cpd15358',\n",
       "  'bigg_ann': '2odecg3p',\n",
       "  'in_modelseed': ['2odecg3p'],\n",
       "  'both': {'2odecg3p'}},\n",
       " 'cpd01080': {'met_id': 'ocdca_e',\n",
       "  'seed_id': 'cpd01080',\n",
       "  'bigg_ann': 'ocdca',\n",
       "  'in_modelseed': ['ocdca'],\n",
       "  'both': {'ocdca'}},\n",
       " 'cpd02536': {'met_id': 'CPD-741_c0',\n",
       "  'seed_id': 'cpd02536',\n",
       "  'bigg_ann': 'mucl',\n",
       "  'in_modelseed': ['mucl'],\n",
       "  'both': {'mucl'}},\n",
       " 'cpd01630': {'met_id': 'CIS-CIS-MUCONATE_c0',\n",
       "  'seed_id': 'cpd01630',\n",
       "  'bigg_ann': 'ccmuac',\n",
       "  'in_modelseed': ['ccmuac'],\n",
       "  'both': {'ccmuac'}},\n",
       " 'cpd00232': {'met_id': 'acnam_c',\n",
       "  'seed_id': 'cpd00232',\n",
       "  'bigg_ann': 'acnam',\n",
       "  'in_modelseed': ['acnam'],\n",
       "  'both': {'acnam'}},\n",
       " 'cpd00334': {'met_id': 'lald__L_c',\n",
       "  'seed_id': 'cpd00334',\n",
       "  'bigg_ann': 'lald__L',\n",
       "  'in_modelseed': ['lald__L'],\n",
       "  'both': {'lald__L'}},\n",
       " 'cpd11491': {'met_id': '3omrsACP_c',\n",
       "  'seed_id': 'cpd11491',\n",
       "  'bigg_ann': '3omrsACP',\n",
       "  'in_modelseed': ['3omrsACP'],\n",
       "  'both': {'3omrsACP'}},\n",
       " 'cpd01318': {'met_id': 'GLYCOCHOLIC_ACID_c0',\n",
       "  'seed_id': 'cpd01318',\n",
       "  'bigg_ann': 'MISSING',\n",
       "  'in_modelseed': ['gchola'],\n",
       "  'both': {'gchola'}},\n",
       " 'cpd00526': {'met_id': 'CHOLATE_c0',\n",
       "  'seed_id': 'cpd00526',\n",
       "  'bigg_ann': 'cholate',\n",
       "  'in_modelseed': ['cholate'],\n",
       "  'both': {'cholate'}},\n",
       " 'cpd00906': {'met_id': 'ALL-TRANS-HEXAPRENYL-DIPHOSPHATE_c0',\n",
       "  'seed_id': 'cpd00906',\n",
       "  'bigg_ann': 'hexdp',\n",
       "  'in_modelseed': ['hexdp'],\n",
       "  'both': {'hexdp'}},\n",
       " 'cpd00343': {'met_id': 'cbasp_c',\n",
       "  'seed_id': 'cpd00343',\n",
       "  'bigg_ann': 'cbasp',\n",
       "  'in_modelseed': ['cbasp'],\n",
       "  'both': {'cbasp'}},\n",
       " 'cpd00939': {'met_id': '4ahmmp_c',\n",
       "  'seed_id': 'cpd00939',\n",
       "  'bigg_ann': '4ahmmp',\n",
       "  'in_modelseed': ['4ahmmp'],\n",
       "  'both': {'4ahmmp'}},\n",
       " 'cpd00227': {'met_id': 'hom__L_c',\n",
       "  'seed_id': 'cpd00227',\n",
       "  'bigg_ann': 'hom__L',\n",
       "  'in_modelseed': ['hom__L'],\n",
       "  'both': {'hom__L'}},\n",
       " 'cpd00346': {'met_id': 'aspsa_c',\n",
       "  'seed_id': 'cpd00346',\n",
       "  'bigg_ann': 'aspsa',\n",
       "  'in_modelseed': ['aspsa'],\n",
       "  'both': {'aspsa'}},\n",
       " 'cpd09027': {'met_id': 'CPD-5821_c0',\n",
       "  'seed_id': 'cpd09027',\n",
       "  'bigg_ann': ['5houdic', 'houdic'],\n",
       "  'in_modelseed': ['5houdic'],\n",
       "  'both': {'5houdic', 'houdic'}},\n",
       " 'cpd00333': {'met_id': 'cinnm_c',\n",
       "  'seed_id': 'cpd00333',\n",
       "  'bigg_ann': 'cinnm',\n",
       "  'in_modelseed': ['cinnm'],\n",
       "  'both': {'cinnm'}},\n",
       " 'cpd02740': {'met_id': 'gdptp_c',\n",
       "  'seed_id': 'cpd02740',\n",
       "  'bigg_ann': 'gdptp',\n",
       "  'in_modelseed': ['gdptp'],\n",
       "  'both': {'gdptp'}},\n",
       " 'cpd00650': {'met_id': 'b2coa_c',\n",
       "  'seed_id': 'cpd00650',\n",
       "  'bigg_ann': 'b2coa',\n",
       "  'in_modelseed': ['b2coa'],\n",
       "  'both': {'b2coa'}},\n",
       " 'cpd00175': {'met_id': 'udpacgal_c',\n",
       "  'seed_id': 'cpd00175',\n",
       "  'bigg_ann': 'udpacgal',\n",
       "  'in_modelseed': ['udpacgal'],\n",
       "  'both': {'udpacgal'}},\n",
       " 'cpd15342': {'met_id': 'MNXM146496_c0',\n",
       "  'seed_id': 'cpd15342',\n",
       "  'bigg_ann': 'MISSING',\n",
       "  'in_modelseed': ['2agpe181'],\n",
       "  'both': {'2agpe181'}},\n",
       " 'cpd11912': {'met_id': 'trnaglu_c',\n",
       "  'seed_id': 'cpd11912',\n",
       "  'bigg_ann': 'trnaglu',\n",
       "  'in_modelseed': ['trnaglu'],\n",
       "  'both': {'trnaglu'}},\n",
       " 'cpd12227': {'met_id': 'glutrna_c',\n",
       "  'seed_id': 'cpd12227',\n",
       "  'bigg_ann': 'glutrna',\n",
       "  'in_modelseed': ['glutrna'],\n",
       "  'both': {'glutrna'}},\n",
       " 'cpd11669': {'met_id': 'UBIQUINONE-2_c0',\n",
       "  'seed_id': 'cpd11669',\n",
       "  'bigg_ann': 'MISSING',\n",
       "  'in_modelseed': ['q'],\n",
       "  'both': {'q'}},\n",
       " 'cpd11665': {'met_id': 'QH2_c0',\n",
       "  'seed_id': 'cpd11665',\n",
       "  'bigg_ann': 'MISSING',\n",
       "  'in_modelseed': ['q6h2', 'qh2'],\n",
       "  'both': {'q6h2', 'qh2'}},\n",
       " 'cpd00918': {'met_id': 'acg5sa_c',\n",
       "  'seed_id': 'cpd00918',\n",
       "  'bigg_ann': 'acg5sa',\n",
       "  'in_modelseed': ['acg5sa'],\n",
       "  'both': {'acg5sa'}},\n",
       " 'cpd00773': {'met_id': 'uamr_c',\n",
       "  'seed_id': 'cpd00773',\n",
       "  'bigg_ann': 'uamr',\n",
       "  'in_modelseed': ['uamr'],\n",
       "  'both': {'uamr'}},\n",
       " 'cpd02820': {'met_id': 'uaccg_c',\n",
       "  'seed_id': 'cpd02820',\n",
       "  'bigg_ann': 'uaccg',\n",
       "  'in_modelseed': ['uaccg'],\n",
       "  'both': {'uaccg'}},\n",
       " 'cpd02799': {'met_id': 'micit_c',\n",
       "  'seed_id': 'cpd02799',\n",
       "  'bigg_ann': 'micit',\n",
       "  'in_modelseed': ['micit'],\n",
       "  'both': {'micit'}},\n",
       " 'cpd14698': {'met_id': 'MNXM6824_c0',\n",
       "  'seed_id': 'cpd14698',\n",
       "  'bigg_ann': '3mhtpp',\n",
       "  'in_modelseed': ['3mhtpp'],\n",
       "  'both': {'3mhtpp'}},\n",
       " 'cpd00050': {'met_id': 'fmn_c',\n",
       "  'seed_id': 'cpd00050',\n",
       "  'bigg_ann': 'fmn',\n",
       "  'in_modelseed': ['fmn'],\n",
       "  'both': {'fmn'}},\n",
       " 'cpd00349': {'met_id': 's17bp_c',\n",
       "  'seed_id': 'cpd00349',\n",
       "  'bigg_ann': 's17bp',\n",
       "  'in_modelseed': ['s17bp'],\n",
       "  'both': {'s17bp'}},\n",
       " 'cpd00170': {'met_id': 'GLC-D-LACTONE_c0',\n",
       "  'seed_id': 'cpd00170',\n",
       "  'bigg_ann': 'MISSING',\n",
       "  'in_modelseed': ['g15lac'],\n",
       "  'both': {'g15lac'}},\n",
       " 'cpd00524': {'met_id': 'CPD-14808_c0',\n",
       "  'seed_id': 'cpd00524',\n",
       "  'bigg_ann': '2ins',\n",
       "  'in_modelseed': ['2ins'],\n",
       "  'both': {'2ins'}},\n",
       " 'cpd03487': {'met_id': 'MNXM88512_c0',\n",
       "  'seed_id': 'cpd03487',\n",
       "  'bigg_ann': 'uaaAgla',\n",
       "  'in_modelseed': ['uaaAgla'],\n",
       "  'both': {'uaaAgla'}},\n",
       " 'cpd03488': {'met_id': 'MNXM88510_c0',\n",
       "  'seed_id': 'cpd03488',\n",
       "  'bigg_ann': 'uaaAgtla',\n",
       "  'in_modelseed': ['uaaAgtla'],\n",
       "  'both': {'uaaAgtla'}},\n",
       " 'cpd00338': {'met_id': '5aop_c',\n",
       "  'seed_id': 'cpd00338',\n",
       "  'bigg_ann': '5aop',\n",
       "  'in_modelseed': ['5aop'],\n",
       "  'both': {'5aop'}},\n",
       " 'cpd03115': {'met_id': '3htdcoa_c',\n",
       "  'seed_id': 'cpd03115',\n",
       "  'bigg_ann': '3htdcoa',\n",
       "  'in_modelseed': ['3htdcoa'],\n",
       "  'both': {'3htdcoa'}},\n",
       " 'cpd12689': {'met_id': '3otdcoa_c',\n",
       "  'seed_id': 'cpd12689',\n",
       "  'bigg_ann': '3otdcoa',\n",
       "  'in_modelseed': ['3otdcoa'],\n",
       "  'both': {'3otdcoa'}},\n",
       " 'cpd00834': {'met_id': 'pan4p_c',\n",
       "  'seed_id': 'cpd00834',\n",
       "  'bigg_ann': 'pan4p',\n",
       "  'in_modelseed': ['pan4p'],\n",
       "  'both': {'pan4p'}},\n",
       " 'cpd00438': {'met_id': 'dad_2_c',\n",
       "  'seed_id': 'cpd00438',\n",
       "  'bigg_ann': 'dad_2',\n",
       "  'in_modelseed': ['dad_2'],\n",
       "  'both': {'dad_2'}},\n",
       " 'cpd00158': {'met_id': 'CPD-15975_c0',\n",
       "  'seed_id': 'cpd00158',\n",
       "  'bigg_ann': 'MISSING',\n",
       "  'in_modelseed': ['cellb'],\n",
       "  'both': {'cellb'}},\n",
       " 'cpd01777': {'met_id': 'prbamp_c',\n",
       "  'seed_id': 'cpd01777',\n",
       "  'bigg_ann': 'prbamp',\n",
       "  'in_modelseed': ['prbamp'],\n",
       "  'both': {'prbamp'}},\n",
       " 'cpd02979': {'met_id': 'prfp_c',\n",
       "  'seed_id': 'cpd02979',\n",
       "  'bigg_ann': 'prfp',\n",
       "  'in_modelseed': ['prfp'],\n",
       "  'both': {'prfp'}},\n",
       " 'cpd03589': {'met_id': 'CPD-9408_c0',\n",
       "  'seed_id': 'cpd03589',\n",
       "  'bigg_ann': 'MISSING',\n",
       "  'in_modelseed': ['mescoa'],\n",
       "  'both': {'mescoa'}},\n",
       " 'cpd02711': {'met_id': '2ddg6p_c',\n",
       "  'seed_id': 'cpd02711',\n",
       "  'bigg_ann': '2ddg6p',\n",
       "  'in_modelseed': ['2ddg6p'],\n",
       "  'both': {'2ddg6p'}},\n",
       " 'cpd00109': {'met_id': 'MNXM91192_c0',\n",
       "  'seed_id': 'cpd00109',\n",
       "  'bigg_ann': 'MISSING',\n",
       "  'in_modelseed': ['ficytC', 'ficytc', 'ficytcc553'],\n",
       "  'both': {'ficytC', 'ficytc', 'ficytcc553'}},\n",
       " 'cpd00221': {'met_id': 'lac__D_c',\n",
       "  'seed_id': 'cpd00221',\n",
       "  'bigg_ann': 'lac__D',\n",
       "  'in_modelseed': ['lac__D'],\n",
       "  'both': {'lac__D'}},\n",
       " 'cpd00110': {'met_id': 'MNXM89776_c0',\n",
       "  'seed_id': 'cpd00110',\n",
       "  'bigg_ann': 'MISSING',\n",
       "  'in_modelseed': ['focytc', 'focytC', 'focytcc553'],\n",
       "  'both': {'focytC', 'focytc', 'focytcc553'}},\n",
       " 'cpd00139': {'met_id': 'glyclt_c',\n",
       "  'seed_id': 'cpd00139',\n",
       "  'bigg_ann': 'glyclt',\n",
       "  'in_modelseed': ['glyclt'],\n",
       "  'both': {'glyclt'}},\n",
       " 'cpd15337': {'met_id': 'MNXM3446_c0',\n",
       "  'seed_id': 'cpd15337',\n",
       "  'bigg_ann': 'MISSING',\n",
       "  'in_modelseed': ['2agpe140'],\n",
       "  'both': {'2agpe140'}},\n",
       " 'cpd03847': {'met_id': 'CPD-7836_e0',\n",
       "  'seed_id': 'cpd03847',\n",
       "  'bigg_ann': 'MISSING',\n",
       "  'in_modelseed': ['ttdca'],\n",
       "  'both': {'ttdca'}},\n",
       " 'cpd03248': {'met_id': 'CPD-7257_c0',\n",
       "  'seed_id': 'cpd03248',\n",
       "  'bigg_ann': 'MISSING',\n",
       "  'in_modelseed': ['cholcoaone'],\n",
       "  'both': {'cholcoaone'}},\n",
       " 'cpd03918': {'met_id': 'adocbi_c',\n",
       "  'seed_id': 'cpd03918',\n",
       "  'bigg_ann': 'adocbi',\n",
       "  'in_modelseed': ['adocbi'],\n",
       "  'both': {'adocbi'}},\n",
       " 'cpd00322': {'met_id': 'ile__L_e',\n",
       "  'seed_id': 'cpd00322',\n",
       "  'bigg_ann': 'ile__L',\n",
       "  'in_modelseed': ['ile__L'],\n",
       "  'both': {'ile__L'}},\n",
       " 'cpd00034': {'met_id': 'ZN+2_c0',\n",
       "  'seed_id': 'cpd00034',\n",
       "  'bigg_ann': ['HC02172', 'zn2'],\n",
       "  'in_modelseed': ['zn2'],\n",
       "  'both': {'HC02172', 'zn2'}},\n",
       " 'cpd15536': {'met_id': 'MNXM145672_c0',\n",
       "  'seed_id': 'cpd15536',\n",
       "  'bigg_ann': 'MISSING',\n",
       "  'in_modelseed': ['pg140'],\n",
       "  'both': {'pg140'}},\n",
       " 'cpd00525': {'met_id': 'uamag_c',\n",
       "  'seed_id': 'cpd00525',\n",
       "  'bigg_ann': 'uamag',\n",
       "  'in_modelseed': ['uamag'],\n",
       "  'both': {'uamag'}},\n",
       " 'cpd02861': {'met_id': 'MNXM6465_c0',\n",
       "  'seed_id': 'cpd02861',\n",
       "  'bigg_ann': 'uAgl',\n",
       "  'in_modelseed': ['uAgl', 'uGgl'],\n",
       "  'both': {'uAgl', 'uGgl'}},\n",
       " 'cpd00233': {'met_id': 'CPD-14053_c0',\n",
       "  'seed_id': 'cpd00233',\n",
       "  'bigg_ann': 'thbpt',\n",
       "  'in_modelseed': ['thbpt'],\n",
       "  'both': {'thbpt'}},\n",
       " 'cpd00231': {'met_id': 'BIOPTERIN_c0',\n",
       "  'seed_id': 'cpd00231',\n",
       "  'bigg_ann': 'MISSING',\n",
       "  'in_modelseed': ['dhbpt'],\n",
       "  'both': {'dhbpt'}},\n",
       " 'cpd03126': {'met_id': 'hdd2coa_c',\n",
       "  'seed_id': 'cpd03126',\n",
       "  'bigg_ann': 'hdd2coa',\n",
       "  'in_modelseed': ['hdd2coa'],\n",
       "  'both': {'hdd2coa'}},\n",
       " 'cpd11624': {'met_id': 'PHOSPHATIDYLCHOLINE_c0',\n",
       "  'seed_id': 'cpd11624',\n",
       "  'bigg_ann': 'MISSING',\n",
       "  'in_modelseed': ['pc_EC', 'pc_SC'],\n",
       "  'both': {'pc_EC', 'pc_SC'}},\n",
       " 'cpd03227': {'met_id': 'MNXM1138_c0',\n",
       "  'seed_id': 'cpd03227',\n",
       "  'bigg_ann': 'MISSING',\n",
       "  'in_modelseed': ['xol7ah3'],\n",
       "  'both': {'xol7ah3'}},\n",
       " 'cpd03228': {'met_id': 'MNXM1174_c0',\n",
       "  'seed_id': 'cpd03228',\n",
       "  'bigg_ann': 'MISSING',\n",
       "  'in_modelseed': ['xol7ah2al'],\n",
       "  'both': {'xol7ah2al'}},\n",
       " 'cpd02535': {'met_id': 'MNXM162891_c0',\n",
       "  'seed_id': 'cpd02535',\n",
       "  'bigg_ann': 'MISSING',\n",
       "  'in_modelseed': ['23dhmp'],\n",
       "  'both': {'23dhmp'}},\n",
       " 'cpd02882': {'met_id': '4r5au_c',\n",
       "  'seed_id': 'cpd02882',\n",
       "  'bigg_ann': '4r5au',\n",
       "  'in_modelseed': ['4r5au'],\n",
       "  'both': {'4r5au'}},\n",
       " 'cpd02656': {'met_id': 'dmlz_c',\n",
       "  'seed_id': 'cpd02656',\n",
       "  'bigg_ann': 'dmlz',\n",
       "  'in_modelseed': ['dmlz'],\n",
       "  'both': {'dmlz'}},\n",
       " 'cpd00154': {'met_id': 'xyl__D_c',\n",
       "  'seed_id': 'cpd00154',\n",
       "  'bigg_ann': 'xyl__D',\n",
       "  'in_modelseed': ['xyl__D'],\n",
       "  'both': {'xyl__D'}},\n",
       " 'cpd01335': {'met_id': 'occoa_c',\n",
       "  'seed_id': 'cpd01335',\n",
       "  'bigg_ann': 'occoa',\n",
       "  'in_modelseed': ['occoa'],\n",
       "  'both': {'occoa'}},\n",
       " 'cpd03130': {'met_id': 'oc2coa_c',\n",
       "  'seed_id': 'cpd03130',\n",
       "  'bigg_ann': 'oc2coa',\n",
       "  'in_modelseed': ['oc2coa'],\n",
       "  'both': {'oc2coa'}},\n",
       " 'cpd00293': {'met_id': 'acgam6p_c',\n",
       "  'seed_id': 'cpd00293',\n",
       "  'bigg_ann': 'acgam6p',\n",
       "  'in_modelseed': ['acgam6p'],\n",
       "  'both': {'acgam6p'}},\n",
       " 'cpd00117': {'met_id': 'ala__D_e',\n",
       "  'seed_id': 'cpd00117',\n",
       "  'bigg_ann': 'ala__D',\n",
       "  'in_modelseed': ['ala__D'],\n",
       "  'both': {'ala__D'}},\n",
       " 'cpd00094': {'met_id': '2obut_c',\n",
       "  'seed_id': 'cpd00094',\n",
       "  'bigg_ann': '2obut',\n",
       "  'in_modelseed': ['2obut'],\n",
       "  'both': {'2obut'}},\n",
       " 'cpd00225': {'met_id': 'BENZALDEHYDE_c0',\n",
       "  'seed_id': 'cpd00225',\n",
       "  'bigg_ann': 'bzal',\n",
       "  'in_modelseed': ['bzal'],\n",
       "  'both': {'bzal'}},\n",
       " 'cpd00153': {'met_id': 'BENZOATE_c0',\n",
       "  'seed_id': 'cpd00153',\n",
       "  'bigg_ann': 'bz',\n",
       "  'in_modelseed': ['bz'],\n",
       "  'both': {'bz'}},\n",
       " 'cpd15341': {'met_id': '2agpe180_c',\n",
       "  'seed_id': 'cpd15341',\n",
       "  'bigg_ann': '2agpe180',\n",
       "  'in_modelseed': ['2agpe180'],\n",
       "  'both': {'2agpe180'}},\n",
       " 'cpd00062': {'met_id': 'utp_c',\n",
       "  'seed_id': 'cpd00062',\n",
       "  'bigg_ann': 'utp',\n",
       "  'in_modelseed': ['utp'],\n",
       "  'both': {'utp'}},\n",
       " 'cpd02572': {'met_id': 'cpd02572_c0',\n",
       "  'seed_id': 'cpd02572',\n",
       "  'bigg_ann': ['5cmhm', '5cohe'],\n",
       "  'in_modelseed': ['5cmhm'],\n",
       "  'both': {'5cmhm', '5cohe'}},\n",
       " 'cpd02507': {'met_id': 'CPD-784_c0',\n",
       "  'seed_id': 'cpd02507',\n",
       "  'bigg_ann': ['5cmhm', '5cohe'],\n",
       "  'in_modelseed': ['5cohe'],\n",
       "  'both': {'5cmhm', '5cohe'}},\n",
       " 'cpd02345': {'met_id': 'glu1sa_c',\n",
       "  'seed_id': 'cpd02345',\n",
       "  'bigg_ann': 'glu1sa',\n",
       "  'in_modelseed': ['glu1sa'],\n",
       "  'both': {'glu1sa'}},\n",
       " 'cpd01716': {'met_id': '3dhsk_c',\n",
       "  'seed_id': 'cpd01716',\n",
       "  'bigg_ann': '3dhsk',\n",
       "  'in_modelseed': ['3dhsk'],\n",
       "  'both': {'3dhsk'}},\n",
       " 'cpd00638': {'met_id': 'dnad_c',\n",
       "  'seed_id': 'cpd00638',\n",
       "  'bigg_ann': 'dnad',\n",
       "  'in_modelseed': ['dnad'],\n",
       "  'both': {'dnad'}},\n",
       " 'cpd11475': {'met_id': 'tdec2eACP_c',\n",
       "  'seed_id': 'cpd11475',\n",
       "  'bigg_ann': 'tdec2eACP',\n",
       "  'in_modelseed': ['tdec2eACP'],\n",
       "  'both': {'tdec2eACP'}},\n",
       " 'cpd03555': {'met_id': '5Z8Z11Z13E-15S-15-HYDROPEROXYICOS_c0',\n",
       "  'seed_id': 'cpd03555',\n",
       "  'bigg_ann': 'MISSING',\n",
       "  'in_modelseed': ['15HPET'],\n",
       "  'both': {'15HPET'}},\n",
       " 'cpd00111': {'met_id': 'gthox_c',\n",
       "  'seed_id': 'cpd00111',\n",
       "  'bigg_ann': 'gthox',\n",
       "  'in_modelseed': ['gthox'],\n",
       "  'both': {'gthox'}},\n",
       " 'cpd00145': {'met_id': 'hpyr_c',\n",
       "  'seed_id': 'cpd00145',\n",
       "  'bigg_ann': 'hpyr',\n",
       "  'in_modelseed': ['hpyr'],\n",
       "  'both': {'hpyr'}},\n",
       " 'cpd00586': {'met_id': 'CPD-220_c0',\n",
       "  'seed_id': 'cpd00586',\n",
       "  'bigg_ann': 'arg__D',\n",
       "  'in_modelseed': ['arg__D'],\n",
       "  'both': {'arg__D'}},\n",
       " 'cpd02364': {'met_id': 'CPD-824_c0',\n",
       "  'seed_id': 'cpd02364',\n",
       "  'bigg_ann': '5g2oxpt',\n",
       "  'in_modelseed': ['5g2oxpt'],\n",
       "  'both': {'5g2oxpt'}},\n",
       " 'cpd01571': {'met_id': '23ccmp_c',\n",
       "  'seed_id': 'cpd01571',\n",
       "  'bigg_ann': '23ccmp',\n",
       "  'in_modelseed': ['23ccmp'],\n",
       "  'both': {'23ccmp'}},\n",
       " 'cpd03454': {'met_id': '3cmp_c',\n",
       "  'seed_id': 'cpd03454',\n",
       "  'bigg_ann': '3cmp',\n",
       "  'in_modelseed': ['3cmp'],\n",
       "  'both': {'3cmp'}},\n",
       " 'cpd00663': {'met_id': 'ACRYLYL-COA_c0',\n",
       "  'seed_id': 'cpd00663',\n",
       "  'bigg_ann': ['pp2coa', 'prpncoa'],\n",
       "  'in_modelseed': ['pp2coa', 'prpncoa'],\n",
       "  'both': {'pp2coa', 'prpncoa'}},\n",
       " 'cpd01693': {'met_id': 'suc6p_c',\n",
       "  'seed_id': 'cpd01693',\n",
       "  'bigg_ann': 'suc6p',\n",
       "  'in_modelseed': ['suc6p'],\n",
       "  'both': {'suc6p'}},\n",
       " 'cpd00805': {'met_id': 'tag6p__D_c',\n",
       "  'seed_id': 'cpd00805',\n",
       "  'bigg_ann': 'tag6p__D',\n",
       "  'in_modelseed': ['tag6p__D'],\n",
       "  'both': {'tag6p__D'}},\n",
       " 'cpd02371': {'met_id': 'tagdp__D_c',\n",
       "  'seed_id': 'cpd02371',\n",
       "  'bigg_ann': 'tagdp__D',\n",
       "  'in_modelseed': ['tagdp__D'],\n",
       "  'both': {'tagdp__D'}},\n",
       " 'cpd00642': {'met_id': 'rml_c',\n",
       "  'seed_id': 'cpd00642',\n",
       "  'bigg_ann': 'rml',\n",
       "  'in_modelseed': ['rml'],\n",
       "  'both': {'rml'}},\n",
       " 'cpd00831': {'met_id': 'rml1p_c',\n",
       "  'seed_id': 'cpd00831',\n",
       "  'bigg_ann': 'rml1p',\n",
       "  'in_modelseed': ['rml1p'],\n",
       "  'both': {'rml1p'}},\n",
       " 'cpd02041': {'met_id': 'CPD-381_c0',\n",
       "  'seed_id': 'cpd02041',\n",
       "  'bigg_ann': 'S2hglut',\n",
       "  'in_modelseed': ['S2hglut'],\n",
       "  'both': {'S2hglut'}},\n",
       " 'cpd00444': {'met_id': 'CDP-ETHANOLAMINE_c0',\n",
       "  'seed_id': 'cpd00444',\n",
       "  'bigg_ann': 'cdpea',\n",
       "  'in_modelseed': ['cdpea'],\n",
       "  'both': {'cdpea'}},\n",
       " 'cpd00697': {'met_id': '35cgmp_c',\n",
       "  'seed_id': 'cpd00697',\n",
       "  'bigg_ann': '35cgmp',\n",
       "  'in_modelseed': ['35cgmp'],\n",
       "  'both': {'35cgmp'}},\n",
       " 'cpd01982': {'met_id': 'pram_c',\n",
       "  'seed_id': 'cpd01982',\n",
       "  'bigg_ann': 'pram',\n",
       "  'in_modelseed': ['pram'],\n",
       "  'both': {'pram'}},\n",
       " 'cpd08288': {'met_id': '2p4c2me_c',\n",
       "  'seed_id': 'cpd08288',\n",
       "  'bigg_ann': '2p4c2me',\n",
       "  'in_modelseed': ['2p4c2me'],\n",
       "  'both': {'2p4c2me'}},\n",
       " 'cpd12273': {'met_id': '1-Alkyl-2-acyl-glycerol_c0',\n",
       "  'seed_id': 'cpd12273',\n",
       "  'bigg_ann': ['ak2g_cho', 'ak2g_hs'],\n",
       "  'in_modelseed': ['ak2g_hs'],\n",
       "  'both': {'ak2g_cho', 'ak2g_hs'}},\n",
       " 'cpd15277': {'met_id': 'MNXM162320_c0',\n",
       "  'seed_id': 'cpd15277',\n",
       "  'bigg_ann': 'MISSING',\n",
       "  'in_modelseed': ['palmACP'],\n",
       "  'both': {'palmACP'}},\n",
       " 'cpd15421': {'met_id': 'cdpdodecg_c',\n",
       "  'seed_id': 'cpd15421',\n",
       "  'bigg_ann': 'cdpdodecg',\n",
       "  'in_modelseed': ['cdpdodecg'],\n",
       "  'both': {'cdpdodecg'}},\n",
       " 'cpd08316': {'met_id': 'D-BETA-D-HEPTOSE-17-DIPHOSPHATE_c0',\n",
       "  'seed_id': 'cpd08316',\n",
       "  'bigg_ann': 'MISSING',\n",
       "  'in_modelseed': ['gmhep17bp'],\n",
       "  'both': {'gmhep17bp'}},\n",
       " 'cpd04920': {'met_id': 'gmhep1p_c',\n",
       "  'seed_id': 'cpd04920',\n",
       "  'bigg_ann': 'gmhep1p',\n",
       "  'in_modelseed': ['gmhep1p'],\n",
       "  'both': {'gmhep1p'}},\n",
       " 'cpd02991': {'met_id': 'prlp_c',\n",
       "  'seed_id': 'cpd02991',\n",
       "  'bigg_ann': 'prlp',\n",
       "  'in_modelseed': ['prlp'],\n",
       "  'both': {'prlp'}},\n",
       " 'cpd00151': {'met_id': 'thym_c',\n",
       "  'seed_id': 'cpd00151',\n",
       "  'bigg_ann': 'thym',\n",
       "  'in_modelseed': ['thym'],\n",
       "  'both': {'thym'}},\n",
       " 'cpd00509': {'met_id': '2dr1p_c',\n",
       "  'seed_id': 'cpd00509',\n",
       "  'bigg_ann': '2dr1p',\n",
       "  'in_modelseed': ['2dr1p'],\n",
       "  'both': {'2dr1p'}},\n",
       " 'cpd11481': {'met_id': '3hpalmACP_c',\n",
       "  'seed_id': 'cpd11481',\n",
       "  'bigg_ann': '3hpalmACP',\n",
       "  'in_modelseed': ['3hpalmACP'],\n",
       "  'both': {'3hpalmACP'}},\n",
       " 'cpd11485': {'met_id': '3opalmACP_c',\n",
       "  'seed_id': 'cpd11485',\n",
       "  'bigg_ann': '3opalmACP',\n",
       "  'in_modelseed': ['3opalmACP'],\n",
       "  'both': {'3opalmACP'}},\n",
       " 'cpd01947': {'met_id': 'BUTANEDIOL_c0',\n",
       "  'seed_id': 'cpd01947',\n",
       "  'bigg_ann': 'MISSING',\n",
       "  'in_modelseed': ['btd_RR'],\n",
       "  'both': {'btd_RR'}},\n",
       " 'cpd12370': {'met_id': 'MNXM2214_c0',\n",
       "  'seed_id': 'cpd12370',\n",
       "  'bigg_ann': ['HC01161', 'apoACP'],\n",
       "  'in_modelseed': ['apoACP'],\n",
       "  'both': {'HC01161', 'apoACP'}},\n",
       " 'cpd00176': {'met_id': '2-DEHYDRO-3-DEOXY-D-GALACTONATE_c0',\n",
       "  'seed_id': 'cpd00176',\n",
       "  'bigg_ann': ['2ddglcn', '2dh3dgal'],\n",
       "  'in_modelseed': ['2ddglcn'],\n",
       "  'both': {'2ddglcn', '2dh3dgal'}},\n",
       " 'cpd02663': {'met_id': 'CPD-343_c0',\n",
       "  'seed_id': 'cpd02663',\n",
       "  'bigg_ann': 'MISSING',\n",
       "  'in_modelseed': ['46dh25dohxn'],\n",
       "  'both': {'46dh25dohxn'}},\n",
       " 'cpd00541': {'met_id': 'LIPOIC-ACID_c0',\n",
       "  'seed_id': 'cpd00541',\n",
       "  'bigg_ann': ['lipoate', 'lipt'],\n",
       "  'in_modelseed': ['lipoate'],\n",
       "  'both': {'lipoate', 'lipt'}},\n",
       " 'cpd14955': {'met_id': 'LIPOYL-AMP_c0',\n",
       "  'seed_id': 'cpd14955',\n",
       "  'bigg_ann': ['CE5656', 'lipoamp'],\n",
       "  'in_modelseed': ['lipoamp'],\n",
       "  'both': {'CE5656', 'lipoamp'}},\n",
       " 'cpd00150': {'met_id': 'cyan_c',\n",
       "  'seed_id': 'cpd00150',\n",
       "  'bigg_ann': 'cyan',\n",
       "  'in_modelseed': ['cyan'],\n",
       "  'both': {'cyan'}},\n",
       " 'cpd01171': {'met_id': 'galt_e',\n",
       "  'seed_id': 'cpd01171',\n",
       "  'bigg_ann': 'galt',\n",
       "  'in_modelseed': ['galt'],\n",
       "  'both': {'galt'}},\n",
       " 'cpd03752': {'met_id': 'galt1p_c',\n",
       "  'seed_id': 'cpd03752',\n",
       "  'bigg_ann': 'galt1p',\n",
       "  'in_modelseed': ['galt1p'],\n",
       "  'both': {'galt1p'}},\n",
       " 'cpd03375': {'met_id': '3-HYDROXY-PROPIONYL-COA_c0',\n",
       "  'seed_id': 'cpd03375',\n",
       "  'bigg_ann': '3hpcoa',\n",
       "  'in_modelseed': ['3hpcoa'],\n",
       "  'both': {'3hpcoa'}},\n",
       " 'cpd04447': {'met_id': 'CPD-8774_c0',\n",
       "  'seed_id': 'cpd04447',\n",
       "  'bigg_ann': '3mbzald',\n",
       "  'in_modelseed': ['3mbzald'],\n",
       "  'both': {'3mbzald'}},\n",
       " 'cpd04449': {'met_id': 'CPD-8775_c0',\n",
       "  'seed_id': 'cpd04449',\n",
       "  'bigg_ann': 'm_tol',\n",
       "  'in_modelseed': ['m_tol'],\n",
       "  'both': {'m_tol'}},\n",
       " 'cpd02311': {'met_id': '4-IMIDAZOLONE-5-PROPIONATE_c0',\n",
       "  'seed_id': 'cpd02311',\n",
       "  'bigg_ann': '4izp',\n",
       "  'in_modelseed': ['4izp'],\n",
       "  'both': {'4izp'}},\n",
       " 'cpd00344': {'met_id': 'N-FORMIMINO-L-GLUTAMATE_c0',\n",
       "  'seed_id': 'cpd00344',\n",
       "  'bigg_ann': 'forglu',\n",
       "  'in_modelseed': ['forglu'],\n",
       "  'both': {'forglu'}},\n",
       " 'cpd14887': {'met_id': 'CPD-14426_c0',\n",
       "  'seed_id': 'cpd14887',\n",
       "  'bigg_ann': 'MISSING',\n",
       "  'in_modelseed': ['clpndcoa'],\n",
       "  'both': {'clpndcoa'}},\n",
       " 'cpd16301': {'met_id': 'CPD-13792_c0',\n",
       "  'seed_id': 'cpd16301',\n",
       "  'bigg_ann': 'MISSING',\n",
       "  'in_modelseed': ['clpnd'],\n",
       "  'both': {'clpnd'}},\n",
       " 'cpd00281': {'met_id': '4abut_c',\n",
       "  'seed_id': 'cpd00281',\n",
       "  'bigg_ann': '4abut',\n",
       "  'in_modelseed': ['4abut'],\n",
       "  'both': {'4abut'}},\n",
       " 'cpd00199': {'met_id': 'sucsal_c',\n",
       "  'seed_id': 'cpd00199',\n",
       "  'bigg_ann': 'sucsal',\n",
       "  'in_modelseed': ['sucsal'],\n",
       "  'both': {'sucsal'}},\n",
       " 'cpd08375': {'met_id': 'CPD-9045_c0',\n",
       "  'seed_id': 'cpd08375',\n",
       "  'bigg_ann': ['codscl8x', 'copre8'],\n",
       "  'in_modelseed': ['copre8'],\n",
       "  'both': {'codscl8x', 'copre8'}},\n",
       " 'cpd03421': {'met_id': 'MNXM90961_c0',\n",
       "  'seed_id': 'cpd03421',\n",
       "  'bigg_ann': 'MISSING',\n",
       "  'in_modelseed': ['cobya'],\n",
       "  'both': {'cobya'}},\n",
       " 'cpd00155': {'met_id': 'glycogen_c',\n",
       "  'seed_id': 'cpd00155',\n",
       "  'bigg_ann': 'glycogen',\n",
       "  'in_modelseed': ['glycogen'],\n",
       "  'both': {'glycogen'}},\n",
       " 'cpd15323': {'met_id': 'MNXM147676_c0',\n",
       "  'seed_id': 'cpd15323',\n",
       "  'bigg_ann': 'MISSING',\n",
       "  'in_modelseed': ['1agpg180'],\n",
       "  'both': {'1agpg180'}},\n",
       " 'cpd00404': {'met_id': 'CPD-217_c0',\n",
       "  'seed_id': 'cpd00404',\n",
       "  'bigg_ann': 'orn__D',\n",
       "  'in_modelseed': ['orn__D'],\n",
       "  'both': {'orn__D'}},\n",
       " 'cpd01197': {'met_id': 'MNXM2846_c0',\n",
       "  'seed_id': 'cpd01197',\n",
       "  'bigg_ann': 'nebari',\n",
       "  'in_modelseed': ['nebari'],\n",
       "  'both': {'nebari'}},\n",
       " 'cpd00360': {'met_id': 'PURINE_c0',\n",
       "  'seed_id': 'cpd00360',\n",
       "  'bigg_ann': 'purine',\n",
       "  'in_modelseed': ['purine'],\n",
       "  'both': {'purine'}},\n",
       " 'cpd12115': {'met_id': 'MNXM42463_c0',\n",
       "  'seed_id': 'cpd12115',\n",
       "  'bigg_ann': 'MISSING',\n",
       "  'in_modelseed': ['Larab'],\n",
       "  'both': {'Larab'}},\n",
       " 'cpd15330': {'met_id': '1tdec7eg3p_c',\n",
       "  'seed_id': 'cpd15330',\n",
       "  'bigg_ann': '1tdec7eg3p',\n",
       "  'in_modelseed': ['1tdec7eg3p'],\n",
       "  'both': {'1tdec7eg3p'}},\n",
       " 'cpd15298': {'met_id': 'MNXM83847_c0',\n",
       "  'seed_id': 'cpd15298',\n",
       "  'bigg_ann': 'MISSING',\n",
       "  'in_modelseed': ['ttdcea'],\n",
       "  'both': {'ttdcea'}},\n",
       " 'cpd00885': {'met_id': 'MI-HEXAKISPHOSPHATE_c0',\n",
       "  'seed_id': 'cpd00885',\n",
       "  'bigg_ann': ['inoshp', 'minohp', 'ppmi1346p'],\n",
       "  'in_modelseed': ['minohp', 'ppmi1346p'],\n",
       "  'both': {'inoshp', 'minohp', 'ppmi1346p'}},\n",
       " 'cpd08361': {'met_id': '5-DIPHOSPHO-1D-MYO-INOSITOL-12346P_c0',\n",
       "  'seed_id': 'cpd08361',\n",
       "  'bigg_ann': 'ppmi12346p',\n",
       "  'in_modelseed': ['ppmi12346p'],\n",
       "  'both': {'ppmi12346p'}},\n",
       " 'cpd15417': {'met_id': 'cdpdddecg_c',\n",
       "  'seed_id': 'cpd15417',\n",
       "  'bigg_ann': 'cdpdddecg',\n",
       "  'in_modelseed': ['cdpdddecg'],\n",
       "  'both': {'cdpdddecg'}},\n",
       " 'cpd15354': {'met_id': '2hdec9eg3p_c',\n",
       "  'seed_id': 'cpd15354',\n",
       "  'bigg_ann': '2hdec9eg3p',\n",
       "  'in_modelseed': ['2hdec9eg3p'],\n",
       "  'both': {'2hdec9eg3p'}},\n",
       " 'cpd16434': {'met_id': 'MNXM6119_c0',\n",
       "  'seed_id': 'cpd16434',\n",
       "  'bigg_ann': '56dh5flura',\n",
       "  'in_modelseed': ['56dh5flura'],\n",
       "  'both': {'56dh5flura'}},\n",
       " 'cpd16435': {'met_id': 'MNXM7058_c0',\n",
       "  'seed_id': 'cpd16435',\n",
       "  'bigg_ann': 'aflburppa',\n",
       "  'in_modelseed': ['aflburppa'],\n",
       "  'both': {'aflburppa'}},\n",
       " 'cpd11480': {'met_id': '3hddecACP_c',\n",
       "  'seed_id': 'cpd11480',\n",
       "  'bigg_ann': '3hddecACP',\n",
       "  'in_modelseed': ['3hddecACP'],\n",
       "  'both': {'3hddecACP'}},\n",
       " 'cpd00065': {'met_id': 'trp__L_e',\n",
       "  'seed_id': 'cpd00065',\n",
       "  'bigg_ann': 'trp__L',\n",
       "  'in_modelseed': ['trp__L'],\n",
       "  'both': {'trp__L'}},\n",
       " 'cpd00318': {'met_id': 'TRYPTAMINE_c0',\n",
       "  'seed_id': 'cpd00318',\n",
       "  'bigg_ann': 'trypta',\n",
       "  'in_modelseed': ['trypta'],\n",
       "  'both': {'trypta'}},\n",
       " 'cpd00152': {'met_id': 'agm_c',\n",
       "  'seed_id': 'cpd00152',\n",
       "  'bigg_ann': 'agm',\n",
       "  'in_modelseed': ['agm'],\n",
       "  'both': {'agm'}},\n",
       " 'cpd02083': {'met_id': 'cpppg3_c',\n",
       "  'seed_id': 'cpd02083',\n",
       "  'bigg_ann': 'cpppg3',\n",
       "  'in_modelseed': ['cpppg3'],\n",
       "  'both': {'cpppg3'}},\n",
       " 'cpd00057': {'met_id': 'Alcohols_c0',\n",
       "  'seed_id': 'cpd00057',\n",
       "  'bigg_ann': 'MISSING',\n",
       "  'in_modelseed': ['trnagln'],\n",
       "  'both': {'trnagln'}},\n",
       " 'cpd00681': {'met_id': 'CPD-543_c0',\n",
       "  'seed_id': 'cpd00681',\n",
       "  'bigg_ann': 'chols',\n",
       "  'in_modelseed': ['chols'],\n",
       "  'both': {'chols'}},\n",
       " 'cpd00644': {'met_id': 'pnto__R_c',\n",
       "  'seed_id': 'cpd00644',\n",
       "  'bigg_ann': 'pnto__R',\n",
       "  'in_modelseed': ['pnto__R'],\n",
       "  'both': {'pnto__R'}},\n",
       " 'cpd04122': {'met_id': 'CPD-1772_c0',\n",
       "  'seed_id': 'cpd04122',\n",
       "  'bigg_ann': ['aacald', 'amacald'],\n",
       "  'in_modelseed': ['aacald'],\n",
       "  'both': {'aacald', 'amacald'}},\n",
       " 'cpd03217': {'met_id': 'CPD1F-114_c0',\n",
       "  'seed_id': 'cpd03217',\n",
       "  'bigg_ann': 'lycop',\n",
       "  'in_modelseed': ['lycop'],\n",
       "  'both': {'lycop'}},\n",
       " 'cpd00156': {'met_id': 'val__L_e',\n",
       "  'seed_id': 'cpd00156',\n",
       "  'bigg_ann': 'val__L',\n",
       "  'in_modelseed': ['val__L'],\n",
       "  'both': {'val__L'}},\n",
       " 'cpd02775': {'met_id': '4ampm_c',\n",
       "  'seed_id': 'cpd02775',\n",
       "  'bigg_ann': '4ampm',\n",
       "  'in_modelseed': ['4ampm'],\n",
       "  'both': {'4ampm'}},\n",
       " 'cpd02074': {'met_id': '2-KETO-6-AMINO-CAPROATE_c0',\n",
       "  'seed_id': 'cpd02074',\n",
       "  'bigg_ann': '6a2ohxnt',\n",
       "  'in_modelseed': ['6a2ohxnt'],\n",
       "  'both': {'6a2ohxnt'}},\n",
       " 'cpd00922': {'met_id': 'DELTA1-PIPERIDEINE-2-CARBOXYLATE_c0',\n",
       "  'seed_id': 'cpd00922',\n",
       "  'bigg_ann': '1pipdn2c',\n",
       "  'in_modelseed': ['1pipdn2c'],\n",
       "  'both': {'1pipdn2c'}},\n",
       " 'cpd03343': {'met_id': 'pppn_e',\n",
       "  'seed_id': 'cpd03343',\n",
       "  'bigg_ann': 'pppn',\n",
       "  'in_modelseed': ['pppn'],\n",
       "  'both': {'pppn'}},\n",
       " 'cpd08405': {'met_id': 'MNXM163340_c0',\n",
       "  'seed_id': 'cpd08405',\n",
       "  'bigg_ann': 'MISSING',\n",
       "  'in_modelseed': ['cechddd'],\n",
       "  'both': {'cechddd'}},\n",
       " 'cpd01441': {'met_id': 'acmalt_c',\n",
       "  'seed_id': 'cpd01441',\n",
       "  'bigg_ann': 'acmalt',\n",
       "  'in_modelseed': ['acmalt'],\n",
       "  'both': {'acmalt'}},\n",
       " 'cpd02835': {'met_id': 'u23ga_c',\n",
       "  'seed_id': 'cpd02835',\n",
       "  'bigg_ann': 'u23ga',\n",
       "  'in_modelseed': ['u23ga'],\n",
       "  'both': {'u23ga'}},\n",
       " 'cpd02930': {'met_id': 'lipidX_c',\n",
       "  'seed_id': 'cpd02930',\n",
       "  'bigg_ann': 'lipidX',\n",
       "  'in_modelseed': ['lipidX', 'lipidX_HP'],\n",
       "  'both': {'lipidX', 'lipidX_HP'}},\n",
       " 'cpd00120': {'met_id': 'btcoa_c',\n",
       "  'seed_id': 'cpd00120',\n",
       "  'bigg_ann': 'btcoa',\n",
       "  'in_modelseed': ['btcoa'],\n",
       "  'both': {'btcoa'}},\n",
       " 'cpd00211': {'met_id': 'BUTYRIC_ACID_c0',\n",
       "  'seed_id': 'cpd00211',\n",
       "  'bigg_ann': 'MISSING',\n",
       "  'in_modelseed': ['but'],\n",
       "  'both': {'but'}},\n",
       " 'cpd03447': {'met_id': 'CPD-15152_c0',\n",
       "  'seed_id': 'cpd03447',\n",
       "  'bigg_ann': '2ombz',\n",
       "  'in_modelseed': ['2ombz', '2ombzl'],\n",
       "  'both': {'2ombz', '2ombzl'}},\n",
       " 'cpd03448': {'met_id': 'CPD-15153_c0',\n",
       "  'seed_id': 'cpd03448',\n",
       "  'bigg_ann': '2ommb',\n",
       "  'in_modelseed': ['2ommb', '2ommbl'],\n",
       "  'both': {'2ommb', '2ommbl'}},\n",
       " 'cpd00762': {'met_id': 'CPD-592_c0',\n",
       "  'seed_id': 'cpd00762',\n",
       "  'bigg_ann': '4gudbutn',\n",
       "  'in_modelseed': ['4gudbutn'],\n",
       "  'both': {'4gudbutn'}},\n",
       " 'cpd01329': {'met_id': 'malthx_e',\n",
       "  'seed_id': 'cpd01329',\n",
       "  'bigg_ann': 'malthx',\n",
       "  'in_modelseed': ['malthx'],\n",
       "  'both': {'malthx'}},\n",
       " 'cpd00355': {'met_id': 'nmn_c',\n",
       "  'seed_id': 'cpd00355',\n",
       "  'bigg_ann': 'nmn',\n",
       "  'in_modelseed': ['nmn'],\n",
       "  'both': {'nmn'}},\n",
       " 'cpd02016': {'met_id': 'NICOTINAMIDE_RIBOSE_c0',\n",
       "  'seed_id': 'cpd02016',\n",
       "  'bigg_ann': 'rnam',\n",
       "  'in_modelseed': ['rnam'],\n",
       "  'both': {'rnam'}},\n",
       " 'cpd01572': {'met_id': '23cump_c',\n",
       "  'seed_id': 'cpd01572',\n",
       "  'bigg_ann': '23cump',\n",
       "  'in_modelseed': ['23cump'],\n",
       "  'both': {'23cump'}},\n",
       " 'cpd00989': {'met_id': '3ump_c',\n",
       "  'seed_id': 'cpd00989',\n",
       "  'bigg_ann': '3ump',\n",
       "  'in_modelseed': ['3ump'],\n",
       "  'both': {'3ump'}},\n",
       " 'cpd00637': {'met_id': 'met__D_c',\n",
       "  'seed_id': 'cpd00637',\n",
       "  'bigg_ann': 'met__D',\n",
       "  'in_modelseed': ['met__D'],\n",
       "  'both': {'met__D'}},\n",
       " 'cpd00358': {'met_id': 'dutp_c',\n",
       "  'seed_id': 'cpd00358',\n",
       "  'bigg_ann': 'dutp',\n",
       "  'in_modelseed': ['dutp'],\n",
       "  'both': {'dutp'}},\n",
       " 'cpd00978': {'met_id': 'dudp_c',\n",
       "  'seed_id': 'cpd00978',\n",
       "  'bigg_ann': 'dudp',\n",
       "  'in_modelseed': ['dudp'],\n",
       "  'both': {'dudp'}},\n",
       " 'cpd16335': {'met_id': '2sephchc_c',\n",
       "  'seed_id': 'cpd16335',\n",
       "  'bigg_ann': '2sephchc',\n",
       "  'in_modelseed': ['2sephchc'],\n",
       "  'both': {'2sephchc'}},\n",
       " 'cpd03451': {'met_id': 'CPD-9923_c0',\n",
       "  'seed_id': 'cpd03451',\n",
       "  'bigg_ann': 'MISSING',\n",
       "  'in_modelseed': ['2shchc'],\n",
       "  'both': {'2shchc'}},\n",
       " 'cpd00809': {'met_id': 'phom_c',\n",
       "  'seed_id': 'cpd00809',\n",
       "  'bigg_ann': 'phom',\n",
       "  'in_modelseed': ['phom'],\n",
       "  'both': {'phom'}},\n",
       " 'cpd02103': {'met_id': 'sucarg_c',\n",
       "  'seed_id': 'cpd02103',\n",
       "  'bigg_ann': 'sucarg',\n",
       "  'in_modelseed': ['sucarg'],\n",
       "  'both': {'sucarg'}},\n",
       " 'cpd00840': {'met_id': 'CPD-233_c0',\n",
       "  'seed_id': 'cpd00840',\n",
       "  'bigg_ann': '36dahx',\n",
       "  'in_modelseed': ['36dahx'],\n",
       "  'both': {'36dahx'}},\n",
       " 'cpd02465': {'met_id': 'thdp_c',\n",
       "  'seed_id': 'cpd02465',\n",
       "  'bigg_ann': 'thdp',\n",
       "  'in_modelseed': ['thdp'],\n",
       "  'both': {'thdp'}},\n",
       " 'cpd08287': {'met_id': '4c2me_c',\n",
       "  'seed_id': 'cpd08287',\n",
       "  'bigg_ann': '4c2me',\n",
       "  'in_modelseed': ['4c2me'],\n",
       "  'both': {'4c2me'}},\n",
       " 'cpd15552': {'met_id': 'MNXM92575_c0',\n",
       "  'seed_id': 'cpd15552',\n",
       "  'bigg_ann': 'MISSING',\n",
       "  'in_modelseed': ['ps120'],\n",
       "  'both': {'ps120'}},\n",
       " 'cpd15528': {'met_id': 'MNXM162980_c0',\n",
       "  'seed_id': 'cpd15528',\n",
       "  'bigg_ann': 'MISSING',\n",
       "  'in_modelseed': ['pe120'],\n",
       "  'both': {'pe120'}},\n",
       " 'cpd00028': {'met_id': 'MNXM78362_c0',\n",
       "  'seed_id': 'cpd00028',\n",
       "  'bigg_ann': 'MISSING',\n",
       "  'in_modelseed': ['pheme'],\n",
       "  'both': {'pheme'}},\n",
       " 'cpd11313': {'met_id': 'hemeO_c',\n",
       "  'seed_id': 'cpd11313',\n",
       "  'bigg_ann': 'hemeO',\n",
       "  'in_modelseed': ['hemeO'],\n",
       "  'both': {'hemeO'}},\n",
       " 'cpd02197': {'met_id': '5fthf_c',\n",
       "  'seed_id': 'cpd02197',\n",
       "  'bigg_ann': '5fthf',\n",
       "  'in_modelseed': ['5fthf'],\n",
       "  'both': {'5fthf'}},\n",
       " 'cpd03231': {'met_id': 'MNXM560_c0',\n",
       "  'seed_id': 'cpd03231',\n",
       "  'bigg_ann': 'MISSING',\n",
       "  'in_modelseed': ['thcholoylcoa'],\n",
       "  'both': {'thcholoylcoa'}},\n",
       " 'cpd00646': {'met_id': 'P-NITROPHENOL_c0',\n",
       "  'seed_id': 'cpd00646',\n",
       "  'bigg_ann': 'MISSING',\n",
       "  'in_modelseed': ['4nph'],\n",
       "  'both': {'4nph'}},\n",
       " 'cpd00428': {'met_id': 'mthgxl_c',\n",
       "  'seed_id': 'cpd00428',\n",
       "  'bigg_ann': 'mthgxl',\n",
       "  'in_modelseed': ['mthgxl'],\n",
       "  'both': {'mthgxl'}},\n",
       " 'cpd02484': {'met_id': '1-L-MYO-INOSITOL-1-P_c0',\n",
       "  'seed_id': 'cpd02484',\n",
       "  'bigg_ann': 'mi3p__D',\n",
       "  'in_modelseed': ['mi3p__D'],\n",
       "  'both': {'mi3p__D'}},\n",
       " 'cpd00280': {'met_id': 'galur_c',\n",
       "  'seed_id': 'cpd00280',\n",
       "  'bigg_ann': 'galur',\n",
       "  'in_modelseed': ['galur'],\n",
       "  'both': {'galur'}},\n",
       " 'cpd00437': {'met_id': 'tagur_c',\n",
       "  'seed_id': 'cpd00437',\n",
       "  'bigg_ann': 'tagur',\n",
       "  'in_modelseed': ['tagur'],\n",
       "  'both': {'tagur'}},\n",
       " 'cpd00932': {'met_id': '3psme_c',\n",
       "  'seed_id': 'cpd00932',\n",
       "  'bigg_ann': '3psme',\n",
       "  'in_modelseed': ['3psme'],\n",
       "  'both': {'3psme'}},\n",
       " 'cpd03127': {'met_id': 'td2coa_c',\n",
       "  'seed_id': 'cpd03127',\n",
       "  'bigg_ann': 'td2coa',\n",
       "  'in_modelseed': ['td2coa'],\n",
       "  'both': {'td2coa'}},\n",
       " 'cpd00859': {'met_id': 'PSEUDOURIDINE-5-P_c0',\n",
       "  'seed_id': 'cpd00859',\n",
       "  'bigg_ann': 'MISSING',\n",
       "  'in_modelseed': ['psd5p'],\n",
       "  'both': {'psd5p'}},\n",
       " 'cpd11433': {'met_id': 'MNXM4587_c0',\n",
       "  'seed_id': 'cpd11433',\n",
       "  'bigg_ann': 'MISSING',\n",
       "  'in_modelseed': ['fa12'],\n",
       "  'both': {'fa12'}},\n",
       " 'cpd00043': {'met_id': 'udpgal_c',\n",
       "  'seed_id': 'cpd00043',\n",
       "  'bigg_ann': 'udpgal',\n",
       "  'in_modelseed': ['udpgal'],\n",
       "  'both': {'udpgal'}},\n",
       " 'cpd00461': {'met_id': 'op4en_c',\n",
       "  'seed_id': 'cpd00461',\n",
       "  'bigg_ann': 'op4en',\n",
       "  'in_modelseed': ['chpd', 'op4en'],\n",
       "  'both': {'chpd', 'op4en'}},\n",
       " 'cpd02234': {'met_id': 'CPD-650_c0',\n",
       "  'seed_id': 'cpd02234',\n",
       "  'bigg_ann': 'MISSING',\n",
       "  'in_modelseed': ['3hbcoa__R'],\n",
       "  'both': {'3hbcoa__R'}},\n",
       " 'cpd00165': {'met_id': 'HYDROXYLAMINE_c0',\n",
       "  'seed_id': 'cpd00165',\n",
       "  'bigg_ann': 'ham',\n",
       "  'in_modelseed': ['ham'],\n",
       "  'both': {'ham'}},\n",
       " 'cpd00924': {'met_id': 'ap4a_c',\n",
       "  'seed_id': 'cpd00924',\n",
       "  'bigg_ann': 'ap4a',\n",
       "  'in_modelseed': ['ap4a'],\n",
       "  'both': {'ap4a'}},\n",
       " 'cpd03446': {'met_id': '2omph_c',\n",
       "  'seed_id': 'cpd03446',\n",
       "  'bigg_ann': '2omph',\n",
       "  'in_modelseed': ['2omph'],\n",
       "  'both': {'2omph'}},\n",
       " 'cpd11465': {'met_id': 'but2eACP_c',\n",
       "  'seed_id': 'cpd11465',\n",
       "  'bigg_ann': 'but2eACP',\n",
       "  'in_modelseed': ['but2eACP'],\n",
       "  'both': {'but2eACP'}},\n",
       " 'cpd02692': {'met_id': 'MNXM1372_c0',\n",
       "  'seed_id': 'cpd02692',\n",
       "  'bigg_ann': 'cmusa',\n",
       "  'in_modelseed': ['cmusa'],\n",
       "  'both': {'cmusa'}},\n",
       " 'cpd02385': {'met_id': 'MNXM788_c0',\n",
       "  'seed_id': 'cpd02385',\n",
       "  'bigg_ann': 'am6sa',\n",
       "  'in_modelseed': ['am6sa'],\n",
       "  'both': {'am6sa'}},\n",
       " 'cpd03920': {'met_id': 'agdpcbi_c',\n",
       "  'seed_id': 'cpd03920',\n",
       "  'bigg_ann': 'agdpcbi',\n",
       "  'in_modelseed': ['agdpcbi'],\n",
       "  'both': {'agdpcbi'}},\n",
       " 'cpd15314': {'met_id': 'MNXM6598_c0',\n",
       "  'seed_id': 'cpd15314',\n",
       "  'bigg_ann': 'MISSING',\n",
       "  'in_modelseed': ['1agpe140'],\n",
       "  'both': {'1agpe140'}},\n",
       " 'cpd00492': {'met_id': 'acmana_c',\n",
       "  'seed_id': 'cpd00492',\n",
       "  'bigg_ann': 'acmana',\n",
       "  'in_modelseed': ['acmana'],\n",
       "  'both': {'acmana'}},\n",
       " 'cpd02552': {'met_id': 'acg5p_c',\n",
       "  'seed_id': 'cpd02552',\n",
       "  'bigg_ann': 'acg5p',\n",
       "  'in_modelseed': ['acg5p'],\n",
       "  'both': {'acg5p'}},\n",
       " 'cpd03696': {'met_id': 'arbt_e',\n",
       "  'seed_id': 'cpd03696',\n",
       "  'bigg_ann': 'arbt',\n",
       "  'in_modelseed': ['arbt'],\n",
       "  'both': {'arbt'}},\n",
       " 'cpd03697': {'met_id': 'arbt6p_c',\n",
       "  'seed_id': 'cpd03697',\n",
       "  'bigg_ann': 'arbt6p',\n",
       "  'in_modelseed': ['arbt6p'],\n",
       "  'both': {'arbt6p'}},\n",
       " 'cpd00295': {'met_id': 'dgdp_c',\n",
       "  'seed_id': 'cpd00295',\n",
       "  'bigg_ann': 'dgdp',\n",
       "  'in_modelseed': ['dgdp'],\n",
       "  'both': {'dgdp'}},\n",
       " 'cpd02964': {'met_id': 'UDP-AAGM-DIAMINOHEPTANEDIOATE_c0',\n",
       "  'seed_id': 'cpd02964',\n",
       "  'bigg_ann': 'MISSING',\n",
       "  'in_modelseed': ['uggmd', 'ugmd'],\n",
       "  'both': {'uggmd', 'ugmd'}},\n",
       " 'cpd00207': {'met_id': 'gua_c',\n",
       "  'seed_id': 'cpd00207',\n",
       "  'bigg_ann': 'gua',\n",
       "  'in_modelseed': ['gua'],\n",
       "  'both': {'gua'}},\n",
       " 'cpd00298': {'met_id': 'dtmp_c',\n",
       "  'seed_id': 'cpd00298',\n",
       "  'bigg_ann': 'dtmp',\n",
       "  'in_modelseed': ['dtmp'],\n",
       "  'both': {'dtmp'}},\n",
       " 'cpd00435': {'met_id': 'BENZYL-ALCOHOL_c0',\n",
       "  'seed_id': 'cpd00435',\n",
       "  'bigg_ann': 'bzalc',\n",
       "  'in_modelseed': ['bzalc'],\n",
       "  'both': {'bzalc'}},\n",
       " 'cpd15532': {'met_id': 'MNXM1945_c0',\n",
       "  'seed_id': 'cpd15532',\n",
       "  'bigg_ann': 'MISSING',\n",
       "  'in_modelseed': ['pe161'],\n",
       "  'both': {'pe161'}},\n",
       " 'cpd00320': {'met_id': 'CPD-302_c0',\n",
       "  'seed_id': 'cpd00320',\n",
       "  'bigg_ann': 'asp__D',\n",
       "  'in_modelseed': ['asp__D'],\n",
       "  'both': {'asp__D'}},\n",
       " 'cpd00830': {'met_id': 'CPD-15015_c0',\n",
       "  'seed_id': 'cpd00830',\n",
       "  'bigg_ann': '4h2oglt',\n",
       "  'in_modelseed': ['4h2oglt'],\n",
       "  'both': {'4h2oglt'}},\n",
       " 'cpd01974': {'met_id': 'MNXM2489_c0',\n",
       "  'seed_id': 'cpd01974',\n",
       "  'bigg_ann': '4hglu',\n",
       "  'in_modelseed': ['4hglu'],\n",
       "  'both': {'4hglu'}},\n",
       " 'cpd01882': {'met_id': 'ISOVALERYL-COA_c0',\n",
       "  'seed_id': 'cpd01882',\n",
       "  'bigg_ann': 'ivcoa',\n",
       "  'in_modelseed': ['ivcoa'],\n",
       "  'both': {'ivcoa'}},\n",
       " 'cpd02513': {'met_id': 'D-MYO-INOSITOL-34-BISPHOSPHATE_c0',\n",
       "  'seed_id': 'cpd02513',\n",
       "  'bigg_ann': 'MISSING',\n",
       "  'in_modelseed': ['mi34p'],\n",
       "  'both': {'mi34p'}},\n",
       " 'cpd15547': {'met_id': 'pgp180_c',\n",
       "  'seed_id': 'cpd15547',\n",
       "  'bigg_ann': 'pgp180',\n",
       "  'in_modelseed': ['pgp180'],\n",
       "  'both': {'pgp180'}},\n",
       " 'cpd15348': {'met_id': 'MNXM146501_c0',\n",
       "  'seed_id': 'cpd15348',\n",
       "  'bigg_ann': 'MISSING',\n",
       "  'in_modelseed': ['2agpg180'],\n",
       "  'both': {'2agpg180'}},\n",
       " 'cpd00180': {'met_id': 'oxa_c',\n",
       "  'seed_id': 'cpd00180',\n",
       "  'bigg_ann': 'oxa',\n",
       "  'in_modelseed': ['oxa'],\n",
       "  'both': {'oxa'}},\n",
       " 'cpd15544': {'met_id': 'MNXM91690_c0',\n",
       "  'seed_id': 'cpd15544',\n",
       "  'bigg_ann': 'MISSING',\n",
       "  'in_modelseed': ['pgp141'],\n",
       "  'both': {'pgp141'}},\n",
       " 'cpd15537': {'met_id': 'MNXM145918_c0',\n",
       "  'seed_id': 'cpd15537',\n",
       "  'bigg_ann': 'MISSING',\n",
       "  'in_modelseed': ['pg141'],\n",
       "  'both': {'pg141'}},\n",
       " 'cpd00706': {'met_id': 'mercppyr_c',\n",
       "  'seed_id': 'cpd00706',\n",
       "  'bigg_ann': 'mercppyr',\n",
       "  'in_modelseed': ['mercppyr'],\n",
       "  'both': {'mercppyr'}},\n",
       " 'cpd15320': {'met_id': 'MNXM147677_c0',\n",
       "  'seed_id': 'cpd15320',\n",
       "  'bigg_ann': 'MISSING',\n",
       "  'in_modelseed': ['1agpg141'],\n",
       "  'both': {'1agpg141'}},\n",
       " 'cpd11482': {'met_id': '3hdecACP_c',\n",
       "  'seed_id': 'cpd11482',\n",
       "  'bigg_ann': '3hdecACP',\n",
       "  'in_modelseed': ['3hdecACP'],\n",
       "  'both': {'3hdecACP'}},\n",
       " 'cpd11487': {'met_id': '3odecACP_c',\n",
       "  'seed_id': 'cpd11487',\n",
       "  'bigg_ann': '3odecACP',\n",
       "  'in_modelseed': ['3odecACP'],\n",
       "  'both': {'3odecACP'}},\n",
       " 'cpd00751': {'met_id': 'L-Fucopyranoses_c0',\n",
       "  'seed_id': 'cpd00751',\n",
       "  'bigg_ann': 'MISSING',\n",
       "  'in_modelseed': ['fuc__L'],\n",
       "  'both': {'fuc__L'}},\n",
       " 'cpd01912': {'met_id': 'CPD-488_c0',\n",
       "  'seed_id': 'cpd01912',\n",
       "  'bigg_ann': 'fuc1p__L',\n",
       "  'in_modelseed': ['fuc1p__L'],\n",
       "  'both': {'fuc1p__L'}},\n",
       " 'cpd02843': {'met_id': 'eig3p_c',\n",
       "  'seed_id': 'cpd02843',\n",
       "  'bigg_ann': 'eig3p',\n",
       "  'in_modelseed': ['eig3p'],\n",
       "  'both': {'eig3p'}},\n",
       " 'cpd02851': {'met_id': 'aicar_c',\n",
       "  'seed_id': 'cpd02851',\n",
       "  'bigg_ann': 'aicar',\n",
       "  'in_modelseed': ['aicar'],\n",
       "  'both': {'aicar'}},\n",
       " 'cpd15294': {'met_id': 'MNXM1469_c0',\n",
       "  'seed_id': 'cpd15294',\n",
       "  'bigg_ann': 'MISSING',\n",
       "  'in_modelseed': ['tdeACP'],\n",
       "  'both': {'tdeACP'}},\n",
       " 'cpd00238': {'met_id': 's7p_c',\n",
       "  'seed_id': 'cpd00238',\n",
       "  'bigg_ann': 's7p',\n",
       "  'in_modelseed': ['s7p'],\n",
       "  'both': {'s7p'}},\n",
       " 'cpd15525': {'met_id': 'pa161_c',\n",
       "  'seed_id': 'cpd15525',\n",
       "  'bigg_ann': 'pa161',\n",
       "  'in_modelseed': ['pa161'],\n",
       "  'both': {'pa161'}},\n",
       " 'cpd03052': {'met_id': 'IMIDAZOLE_ACETALDEHYDE_c0',\n",
       "  'seed_id': 'cpd03052',\n",
       "  'bigg_ann': ['im4act', 'imzacd'],\n",
       "  'in_modelseed': ['im4act'],\n",
       "  'both': {'im4act', 'imzacd'}},\n",
       " 'cpd01831': {'met_id': '4-IMIDAZOLEACETATE_c0',\n",
       "  'seed_id': 'cpd01831',\n",
       "  'bigg_ann': ['im4ac', 'imzac'],\n",
       "  'in_modelseed': ['im4ac'],\n",
       "  'both': {'im4ac', 'imzac'}},\n",
       " 'cpd11479': {'met_id': '3hhexACP_c',\n",
       "  'seed_id': 'cpd11479',\n",
       "  'bigg_ann': '3hhexACP',\n",
       "  'in_modelseed': ['3hhexACP'],\n",
       "  'both': {'3hhexACP'}},\n",
       " 'cpd00262': {'met_id': 'oxalcoa_c',\n",
       "  'seed_id': 'cpd00262',\n",
       "  'bigg_ann': 'oxalcoa',\n",
       "  'in_modelseed': ['oxalcoa'],\n",
       "  'both': {'oxalcoa'}},\n",
       " 'cpd00284': {'met_id': '6pgc_c',\n",
       "  'seed_id': 'cpd00284',\n",
       "  'bigg_ann': '6pgc',\n",
       "  'in_modelseed': ['6pgc'],\n",
       "  'both': {'6pgc'}},\n",
       " 'cpd02921': {'met_id': '25aics_c',\n",
       "  'seed_id': 'cpd02921',\n",
       "  'bigg_ann': '25aics',\n",
       "  'in_modelseed': ['25aics'],\n",
       "  'both': {'25aics'}},\n",
       " 'cpd08211': {'met_id': 'CPD0-1028_c0',\n",
       "  'seed_id': 'cpd08211',\n",
       "  'bigg_ann': 'MISSING',\n",
       "  'in_modelseed': ['ttc_ggdp'],\n",
       "  'both': {'ttc_ggdp'}},\n",
       " 'cpd00430': {'met_id': 'pac_c',\n",
       "  'seed_id': 'cpd00430',\n",
       "  'bigg_ann': 'pac',\n",
       "  'in_modelseed': ['pac'],\n",
       "  'both': {'pac'}},\n",
       " 'cpd00452': {'met_id': 'phaccoa_c',\n",
       "  'seed_id': 'cpd00452',\n",
       "  'bigg_ann': 'phaccoa',\n",
       "  'in_modelseed': ['phaccoa'],\n",
       "  'both': {'phaccoa'}},\n",
       " 'cpd03279': {'met_id': 'din_c',\n",
       "  'seed_id': 'cpd03279',\n",
       "  'bigg_ann': 'din',\n",
       "  'in_modelseed': ['din'],\n",
       "  'both': {'din'}},\n",
       " 'cpd00523': {'met_id': 'tre6p_c',\n",
       "  'seed_id': 'cpd00523',\n",
       "  'bigg_ann': 'tre6p',\n",
       "  'in_modelseed': ['tre6p'],\n",
       "  'both': {'tre6p'}},\n",
       " 'cpd00079': {'met_id': 'g6p_c',\n",
       "  'seed_id': 'cpd00079',\n",
       "  'bigg_ann': 'g6p',\n",
       "  'in_modelseed': ['g6p'],\n",
       "  'both': {'g6p'}},\n",
       " 'cpd02693': {'met_id': '3c2hmp_c',\n",
       "  'seed_id': 'cpd02693',\n",
       "  'bigg_ann': '3c2hmp',\n",
       "  'in_modelseed': ['3c2hmp'],\n",
       "  'both': {'3c2hmp'}},\n",
       " 'cpd01710': {'met_id': '2ippm_c',\n",
       "  'seed_id': 'cpd01710',\n",
       "  'bigg_ann': '2ippm',\n",
       "  'in_modelseed': ['2ippm'],\n",
       "  'both': {'2ippm'}},\n",
       " 'cpd02605': {'met_id': '3c4mop_c',\n",
       "  'seed_id': 'cpd02605',\n",
       "  'bigg_ann': '3c4mop',\n",
       "  'in_modelseed': ['3c4mop'],\n",
       "  'both': {'3c4mop'}},\n",
       " 'cpd00841': {'met_id': 'CPD-641_c0',\n",
       "  'seed_id': 'cpd00841',\n",
       "  'bigg_ann': '5dpmev',\n",
       "  'in_modelseed': ['5dpmev'],\n",
       "  'both': {'5dpmev'}},\n",
       " 'cpd15345': {'met_id': 'MNXM146502_c0',\n",
       "  'seed_id': 'cpd15345',\n",
       "  'bigg_ann': 'MISSING',\n",
       "  'in_modelseed': ['2agpg141'],\n",
       "  'both': {'2agpg141'}},\n",
       " 'cpd01262': {'met_id': 'malttr_c',\n",
       "  'seed_id': 'cpd01262',\n",
       "  'bigg_ann': 'malttr',\n",
       "  'in_modelseed': ['malttr'],\n",
       "  'both': {'malttr'}},\n",
       " 'cpd00209': {'met_id': 'no3_e',\n",
       "  'seed_id': 'cpd00209',\n",
       "  'bigg_ann': 'no3',\n",
       "  'in_modelseed': ['no3'],\n",
       "  'both': {'no3'}},\n",
       " 'cpd00705': {'met_id': 'CPD-468_c0',\n",
       "  'seed_id': 'cpd00705',\n",
       "  'bigg_ann': 'L2aadp',\n",
       "  'in_modelseed': ['L2aadp'],\n",
       "  'both': {'L2aadp'}},\n",
       " 'cpd01844': {'met_id': 'ppap_c',\n",
       "  'seed_id': 'cpd01844',\n",
       "  'bigg_ann': 'ppap',\n",
       "  'in_modelseed': ['ppap'],\n",
       "  'both': {'ppap'}},\n",
       " 'cpd00497': {'met_id': 'xmp_c',\n",
       "  'seed_id': 'cpd00497',\n",
       "  'bigg_ann': 'xmp',\n",
       "  'in_modelseed': ['xmp'],\n",
       "  'both': {'xmp'}},\n",
       " 'cpd00588': {'met_id': 'sbt__D_e',\n",
       "  'seed_id': 'cpd00588',\n",
       "  'bigg_ann': 'sbt__D',\n",
       "  'in_modelseed': ['sbt__D'],\n",
       "  'both': {'sbt__D'}},\n",
       " 'cpd00804': {'met_id': 'sbt6p_c',\n",
       "  'seed_id': 'cpd00804',\n",
       "  'bigg_ann': 'sbt6p',\n",
       "  'in_modelseed': ['sbt6p'],\n",
       "  'both': {'sbt6p'}},\n",
       " 'cpd00616': {'met_id': 'CPD-659_c0',\n",
       "  'seed_id': 'cpd00616',\n",
       "  'bigg_ann': 'Largn',\n",
       "  'in_modelseed': ['Largn'],\n",
       "  'both': {'Largn'}},\n",
       " 'cpd15311': {'met_id': 'MNXM146748_c0',\n",
       "  'seed_id': 'cpd15311',\n",
       "  'bigg_ann': 'MISSING',\n",
       "  'in_modelseed': ['12dgr180'],\n",
       "  'both': {'12dgr180'}},\n",
       " 'cpd15484': {'met_id': 'hhlipa_c',\n",
       "  'seed_id': 'cpd15484',\n",
       "  'bigg_ann': 'hhlipa',\n",
       "  'in_modelseed': ['hhlipa'],\n",
       "  'both': {'hhlipa'}},\n",
       " 'cpd03293': {'met_id': 'CPD-17700_c0',\n",
       "  'seed_id': 'cpd03293',\n",
       "  'bigg_ann': 'MISSING',\n",
       "  'in_modelseed': ['biocyt'],\n",
       "  'both': {'biocyt'}},\n",
       " 'cpd00423': {'met_id': 'MNXM90580_c0',\n",
       "  'seed_id': 'cpd00423',\n",
       "  'bigg_ann': 'cbl2',\n",
       "  'in_modelseed': ['cbl2'],\n",
       "  'both': {'cbl2'}},\n",
       " 'cpd00546': {'met_id': 'CORTISOL_c0',\n",
       "  'seed_id': 'cpd00546',\n",
       "  'bigg_ann': 'MISSING',\n",
       "  'in_modelseed': ['crtsl'],\n",
       "  'both': {'crtsl'}},\n",
       " 'cpd00332': {'met_id': 'MEVALONATE_c0',\n",
       "  'seed_id': 'cpd00332',\n",
       "  'bigg_ann': 'mev__R',\n",
       "  'in_modelseed': ['mev__R'],\n",
       "  'both': {'mev__R'}},\n",
       " 'cpd00812': {'met_id': 'CPD-499_c0',\n",
       "  'seed_id': 'cpd00812',\n",
       "  'bigg_ann': '5pmev',\n",
       "  'in_modelseed': ['5pmev'],\n",
       "  'both': {'5pmev'}},\n",
       " 'cpd15355': {'met_id': '2hdecg3p_c',\n",
       "  'seed_id': 'cpd15355',\n",
       "  'bigg_ann': '2hdecg3p',\n",
       "  'in_modelseed': ['2hdecg3p'],\n",
       "  'both': {'2hdecg3p'}},\n",
       " 'cpd11494': {'met_id': 'acACP_c',\n",
       "  'seed_id': 'cpd11494',\n",
       "  'bigg_ann': 'acACP',\n",
       "  'in_modelseed': ['acACP'],\n",
       "  'both': {'acACP'}},\n",
       " 'cpd11488': {'met_id': 'actACP_c',\n",
       "  'seed_id': 'cpd11488',\n",
       "  'bigg_ann': 'actACP',\n",
       "  'in_modelseed': ['actACP'],\n",
       "  'both': {'actACP'}},\n",
       " 'cpd01914': {'met_id': 'CPD-8989_e0',\n",
       "  'seed_id': 'cpd01914',\n",
       "  'bigg_ann': ['metox', 'metsox_R__L', 'metsox_S__L'],\n",
       "  'in_modelseed': ['metsox_S__L'],\n",
       "  'both': {'metox', 'metsox_R__L', 'metsox_S__L'}},\n",
       " 'cpd00451': {'met_id': 'GUANIDOACETIC_ACID_c0',\n",
       "  'seed_id': 'cpd00451',\n",
       "  'bigg_ann': 'MISSING',\n",
       "  'in_modelseed': ['gudac'],\n",
       "  'both': {'gudac'}},\n",
       " 'cpd03491': {'met_id': 'CPD-7695_c0',\n",
       "  'seed_id': 'cpd03491',\n",
       "  'bigg_ann': 'uaaGgla',\n",
       "  'in_modelseed': ['uaaGgla'],\n",
       "  'both': {'uaaGgla'}},\n",
       " 'cpd03492': {'met_id': 'CPD-12298_c0',\n",
       "  'seed_id': 'cpd03492',\n",
       "  'bigg_ann': 'uaaGgtla',\n",
       "  'in_modelseed': ['uaaGgtla'],\n",
       "  'both': {'uaaGgtla'}},\n",
       " 'cpd01011': {'met_id': 'btal_c',\n",
       "  'seed_id': 'cpd01011',\n",
       "  'bigg_ann': 'btal',\n",
       "  'in_modelseed': ['btal'],\n",
       "  'both': {'btal'}},\n",
       " 'cpd03662': {'met_id': 'BUTANOL_c0',\n",
       "  'seed_id': 'cpd03662',\n",
       "  'bigg_ann': ['1btol', 'btoh'],\n",
       "  'in_modelseed': ['1btol'],\n",
       "  'both': {'1btol', 'btoh'}},\n",
       " 'cpd00146': {'met_id': 'cbp_c',\n",
       "  'seed_id': 'cpd00146',\n",
       "  'bigg_ann': 'cbp',\n",
       "  'in_modelseed': ['cbp'],\n",
       "  'both': {'cbp'}},\n",
       " 'cpd03161': {'met_id': 'peamn_c',\n",
       "  'seed_id': 'cpd03161',\n",
       "  'bigg_ann': 'peamn',\n",
       "  'in_modelseed': ['peamn'],\n",
       "  'both': {'peamn'}},\n",
       " 'cpd00045': {'met_id': 'pap_c',\n",
       "  'seed_id': 'cpd00045',\n",
       "  'bigg_ann': 'pap',\n",
       "  'in_modelseed': ['pap'],\n",
       "  'both': {'pap'}},\n",
       " 'cpd00415': {'met_id': 'hqn_c',\n",
       "  'seed_id': 'cpd00415',\n",
       "  'bigg_ann': 'hqn',\n",
       "  'in_modelseed': ['hqn'],\n",
       "  'both': {'hqn'}},\n",
       " 'cpd00890': {'met_id': 'uama_c',\n",
       "  'seed_id': 'cpd00890',\n",
       "  'bigg_ann': 'uama',\n",
       "  'in_modelseed': ['uama'],\n",
       "  'both': {'uama'}},\n",
       " 'cpd11611': {'met_id': 'ACYL-COA_c0',\n",
       "  'seed_id': 'cpd11611',\n",
       "  'bigg_ann': 'acoa',\n",
       "  'in_modelseed': ['acoa'],\n",
       "  'both': {'acoa'}},\n",
       " 'cpd02884': {'met_id': 'fprica_c',\n",
       "  'seed_id': 'cpd02884',\n",
       "  'bigg_ann': 'fprica',\n",
       "  'in_modelseed': ['fprica'],\n",
       "  'both': {'fprica'}},\n",
       " 'cpd00482': {'met_id': '2pg_c',\n",
       "  'seed_id': 'cpd00482',\n",
       "  'bigg_ann': '2pg',\n",
       "  'in_modelseed': ['2pg'],\n",
       "  'both': {'2pg'}},\n",
       " 'cpd11470': {'met_id': 'Octanoyl-ACPs_c0',\n",
       "  'seed_id': 'cpd11470',\n",
       "  'bigg_ann': 'MISSING',\n",
       "  'in_modelseed': ['ocACP'],\n",
       "  'both': {'ocACP'}},\n",
       " 'cpd03846': {'met_id': 'octa_c',\n",
       "  'seed_id': 'cpd03846',\n",
       "  'bigg_ann': 'octa',\n",
       "  'in_modelseed': ['octa'],\n",
       "  'both': {'octa'}},\n",
       " 'cpd02788': {'met_id': 'CPD-6741_c0',\n",
       "  'seed_id': 'cpd02788',\n",
       "  'bigg_ann': 'mi12356p',\n",
       "  'in_modelseed': ['mi12356p'],\n",
       "  'both': {'mi12356p'}},\n",
       " 'cpd03128': {'met_id': 'CPD-10267_c0',\n",
       "  'seed_id': 'cpd03128',\n",
       "  'bigg_ann': 'MISSING',\n",
       "  'in_modelseed': ['dcacoa'],\n",
       "  'both': {'dcacoa'}},\n",
       " 'cpd15238': {'met_id': 'MNXM56353_c0',\n",
       "  'seed_id': 'cpd15238',\n",
       "  'bigg_ann': 'MISSING',\n",
       "  'in_modelseed': ['hdcoa'],\n",
       "  'both': {'hdcoa'}},\n",
       " 'cpd00133': {'met_id': 'ncam_c',\n",
       "  'seed_id': 'cpd00133',\n",
       "  'bigg_ann': 'ncam',\n",
       "  'in_modelseed': ['ncam'],\n",
       "  'both': {'ncam'}},\n",
       " 'cpd00218': {'met_id': 'nac_c',\n",
       "  'seed_id': 'cpd00218',\n",
       "  'bigg_ann': 'nac',\n",
       "  'in_modelseed': ['nac'],\n",
       "  'both': {'nac'}},\n",
       " 'cpd01482': {'met_id': 'UDP-D-GLUCOSAMINE_c0',\n",
       "  'seed_id': 'cpd01482',\n",
       "  'bigg_ann': 'ugam',\n",
       "  'in_modelseed': ['ugam'],\n",
       "  'both': {'ugam'}},\n",
       " 'cpd09255': {'met_id': 'hkntd_c',\n",
       "  'seed_id': 'cpd09255',\n",
       "  'bigg_ann': 'hkntd',\n",
       "  'in_modelseed': ['hkntd'],\n",
       "  'both': {'hkntd'}},\n",
       " 'cpd15344': {'met_id': 'MNXM146503_c0',\n",
       "  'seed_id': 'cpd15344',\n",
       "  'bigg_ann': 'MISSING',\n",
       "  'in_modelseed': ['2agpg140'],\n",
       "  'both': {'2agpg140'}},\n",
       " 'cpd02678': {'met_id': 'fgam_c',\n",
       "  'seed_id': 'cpd02678',\n",
       "  'bigg_ann': 'fgam',\n",
       "  'in_modelseed': ['fgam'],\n",
       "  'both': {'fgam'}},\n",
       " 'cpd02394': {'met_id': 'gar_c',\n",
       "  'seed_id': 'cpd02394',\n",
       "  'bigg_ann': 'gar',\n",
       "  'in_modelseed': ['gar'],\n",
       "  'both': {'gar'}},\n",
       " 'cpd02150': {'met_id': '23dappa_c',\n",
       "  'seed_id': 'cpd02150',\n",
       "  'bigg_ann': '23dappa',\n",
       "  'in_modelseed': ['23dappa'],\n",
       "  'both': {'23dappa'}},\n",
       " 'cpd02230': {'met_id': 'D-MYO-INOSITOL-4-PHOSPHATE_c0',\n",
       "  'seed_id': 'cpd02230',\n",
       "  'bigg_ann': 'mi4p__D',\n",
       "  'in_modelseed': ['mi4p__D'],\n",
       "  'both': {'mi4p__D'}},\n",
       " 'cpd03119': {'met_id': '3odcoa_c',\n",
       "  'seed_id': 'cpd03119',\n",
       "  'bigg_ann': '3odcoa',\n",
       "  'in_modelseed': ['3odcoa'],\n",
       "  'both': {'3odcoa'}},\n",
       " 'cpd00378': {'met_id': 'FORMAMIDE_c0',\n",
       "  'seed_id': 'cpd00378',\n",
       "  'bigg_ann': 'frmd',\n",
       "  'in_modelseed': ['frmd'],\n",
       "  'both': {'frmd'}},\n",
       " 'cpd03584': {'met_id': 'u3hga_c',\n",
       "  'seed_id': 'cpd03584',\n",
       "  'bigg_ann': 'u3hga',\n",
       "  'in_modelseed': ['u3hga'],\n",
       "  'both': {'u3hga'}},\n",
       " 'cpd02187': {'met_id': 'METHACRYLYL-COA_c0',\n",
       "  'seed_id': 'cpd02187',\n",
       "  'bigg_ann': '2mp2coa',\n",
       "  'in_modelseed': ['2mp2coa'],\n",
       "  'both': {'2mp2coa'}},\n",
       " 'cpd03572': {'met_id': 'cpd03572_c0',\n",
       "  'seed_id': 'cpd03572',\n",
       "  'bigg_ann': ['3hbcoa', '3hbycoa', '3hibutcoa'],\n",
       "  'in_modelseed': ['3hibutcoa'],\n",
       "  'both': {'3hbcoa', '3hbycoa', '3hibutcoa'}},\n",
       " 'cpd03593': {'met_id': 'CPD-7066_c0',\n",
       "  'seed_id': 'cpd03593',\n",
       "  'bigg_ann': 'r3mmal',\n",
       "  'in_modelseed': ['r3mmal'],\n",
       "  'both': {'r3mmal'}},\n",
       " 'cpd00251': {'met_id': 'adprib_c',\n",
       "  'seed_id': 'cpd00251',\n",
       "  'bigg_ann': 'adprib',\n",
       "  'in_modelseed': ['adprib'],\n",
       "  'both': {'adprib'}},\n",
       " 'cpd00254': {'met_id': 'mg2_c',\n",
       "  'seed_id': 'cpd00254',\n",
       "  'bigg_ann': 'mg2',\n",
       "  'in_modelseed': ['mg2'],\n",
       "  'both': {'mg2'}},\n",
       " 'cpd00776': {'met_id': 'EPOXYSQUALENE_c0',\n",
       "  'seed_id': 'cpd00776',\n",
       "  'bigg_ann': 'Ssq23epx',\n",
       "  'in_modelseed': ['Ssq23epx'],\n",
       "  'both': {'Ssq23epx'}},\n",
       " 'cpd01188': {'met_id': 'LANOSTEROL_c0',\n",
       "  'seed_id': 'cpd01188',\n",
       "  'bigg_ann': 'lanost',\n",
       "  'in_modelseed': ['lanost'],\n",
       "  'both': {'lanost'}},\n",
       " 'cpd00197': {'met_id': '3-4-DIHYDROXYBENZOATE_c0',\n",
       "  'seed_id': 'cpd00197',\n",
       "  'bigg_ann': '34dhbz',\n",
       "  'in_modelseed': ['34dhbz'],\n",
       "  'both': {'34dhbz'}},\n",
       " 'cpd00856': {'met_id': 'CPD-245_c0',\n",
       "  'seed_id': 'cpd00856',\n",
       "  'bigg_ann': 'CCbuttc',\n",
       "  'in_modelseed': ['CCbuttc'],\n",
       "  'both': {'CCbuttc'}},\n",
       " 'cpd09844': {'met_id': '3hadpcoa_c',\n",
       "  'seed_id': 'cpd09844',\n",
       "  'bigg_ann': '3hadpcoa',\n",
       "  'in_modelseed': ['3hadpcoa'],\n",
       "  'both': {'3hadpcoa'}},\n",
       " 'cpd01507': {'met_id': 'oxadpcoa_c',\n",
       "  'seed_id': 'cpd01507',\n",
       "  'bigg_ann': 'oxadpcoa',\n",
       "  'in_modelseed': ['oxadpcoa'],\n",
       "  'both': {'oxadpcoa'}},\n",
       " 'cpd01419': {'met_id': 'CPD0-2298_c0',\n",
       "  'seed_id': 'cpd01419',\n",
       "  'bigg_ann': 'MISSING',\n",
       "  'in_modelseed': ['udg'],\n",
       "  'both': {'udg'}},\n",
       " 'cpd00138': {'met_id': 'man_e',\n",
       "  'seed_id': 'cpd00138',\n",
       "  'bigg_ann': 'man',\n",
       "  'in_modelseed': ['man'],\n",
       "  'both': {'man'}},\n",
       " 'cpd00235': {'met_id': 'man6p_c',\n",
       "  'seed_id': 'cpd00235',\n",
       "  'bigg_ann': 'man6p',\n",
       "  'in_modelseed': ['man6p'],\n",
       "  'both': {'man6p'}},\n",
       " 'cpd15313': {'met_id': 'MNXM147670_c0',\n",
       "  'seed_id': 'cpd15313',\n",
       "  'bigg_ann': 'MISSING',\n",
       "  'in_modelseed': ['1agpe120'],\n",
       "  'both': {'1agpe120'}},\n",
       " 'cpd00800': {'met_id': '8aonn_c',\n",
       "  'seed_id': 'cpd00800',\n",
       "  'bigg_ann': '8aonn',\n",
       "  'in_modelseed': ['8aonn'],\n",
       "  'both': {'8aonn'}},\n",
       " 'cpd00764': {'met_id': 'dann_c',\n",
       "  'seed_id': 'cpd00764',\n",
       "  'bigg_ann': 'dann',\n",
       "  'in_modelseed': ['dann'],\n",
       "  'both': {'dann'}},\n",
       " 'cpd02701': {'met_id': 'amob_c',\n",
       "  'seed_id': 'cpd02701',\n",
       "  'bigg_ann': 'amob',\n",
       "  'in_modelseed': ['amob'],\n",
       "  'both': {'amob'}},\n",
       " 'cpd00266': {'met_id': 'crn_c',\n",
       "  'seed_id': 'cpd00266',\n",
       "  'bigg_ann': 'crn',\n",
       "  'in_modelseed': ['crn'],\n",
       "  'both': {'crn'}},\n",
       " 'cpd03525': {'met_id': 'sucglu_c',\n",
       "  'seed_id': 'cpd03525',\n",
       "  'bigg_ann': 'sucglu',\n",
       "  'in_modelseed': ['sucglu'],\n",
       "  'both': {'sucglu'}},\n",
       " 'cpd11825': {'met_id': 'Oleoyl-ACPs_c0',\n",
       "  'seed_id': 'cpd11825',\n",
       "  'bigg_ann': 'MISSING',\n",
       "  'in_modelseed': ['octeACP'],\n",
       "  'both': {'octeACP'}},\n",
       " 'cpd02642': {'met_id': 'pran_c',\n",
       "  'seed_id': 'cpd02642',\n",
       "  'bigg_ann': 'pran',\n",
       "  'in_modelseed': ['pran'],\n",
       "  'both': {'pran'}},\n",
       " 'cpd00956': {'met_id': '2cpr5p_c',\n",
       "  'seed_id': 'cpd00956',\n",
       "  'bigg_ann': '2cpr5p',\n",
       "  'in_modelseed': ['2cpr5p'],\n",
       "  'both': {'2cpr5p'}},\n",
       " 'cpd00363': {'met_id': 'etoh_c',\n",
       "  'seed_id': 'cpd00363',\n",
       "  'bigg_ann': 'etoh',\n",
       "  'in_modelseed': ['etoh'],\n",
       "  'both': {'etoh'}},\n",
       " 'cpd00738': {'met_id': 'pser__L_c',\n",
       "  'seed_id': 'cpd00738',\n",
       "  'bigg_ann': 'pser__L',\n",
       "  'in_modelseed': ['pser__L'],\n",
       "  'both': {'pser__L'}},\n",
       " 'cpd00149': {'met_id': 'cobalt2_e',\n",
       "  'seed_id': 'cpd00149',\n",
       "  'bigg_ann': 'cobalt2',\n",
       "  'in_modelseed': ['cobalt2'],\n",
       "  'both': {'cobalt2'}},\n",
       " 'cpd03913': {'met_id': 'MNXM90295_c0',\n",
       "  'seed_id': 'cpd03913',\n",
       "  'bigg_ann': 'MISSING',\n",
       "  'in_modelseed': ['hgbam'],\n",
       "  'both': {'hgbam'}},\n",
       " 'cpd03914': {'met_id': 'MNXM90529_c0',\n",
       "  'seed_id': 'cpd03914',\n",
       "  'bigg_ann': 'MISSING',\n",
       "  'in_modelseed': ['co2dam'],\n",
       "  'both': {'co2dam'}},\n",
       " 'cpd03606': {'met_id': 'ohpb_c',\n",
       "  'seed_id': 'cpd03606',\n",
       "  'bigg_ann': 'ohpb',\n",
       "  'in_modelseed': ['ohpb'],\n",
       "  'both': {'ohpb'}},\n",
       " 'cpd15555': {'met_id': 'ps160_c',\n",
       "  'seed_id': 'cpd15555',\n",
       "  'bigg_ann': 'ps160',\n",
       "  'in_modelseed': ['ps160'],\n",
       "  'both': {'ps160'}},\n",
       " 'cpd15531': {'met_id': 'pe160_c',\n",
       "  'seed_id': 'cpd15531',\n",
       "  'bigg_ann': 'pe160',\n",
       "  'in_modelseed': ['pe160'],\n",
       "  'both': {'pe160'}},\n",
       " 'cpd01587': {'met_id': 'CPD0-2018_c0',\n",
       "  'seed_id': 'cpd01587',\n",
       "  'bigg_ann': '5mcsn',\n",
       "  'in_modelseed': ['5mcsn'],\n",
       "  'both': {'5mcsn'}},\n",
       " 'cpd15349': {'met_id': 'MNXM146500_c0',\n",
       "  'seed_id': 'cpd15349',\n",
       "  'bigg_ann': 'MISSING',\n",
       "  'in_modelseed': ['2agpg181'],\n",
       "  'both': {'2agpg181'}},\n",
       " 'cpd11473': {'met_id': 'thex2eACP_c',\n",
       "  'seed_id': 'cpd11473',\n",
       "  'bigg_ann': 'thex2eACP',\n",
       "  'in_modelseed': ['thex2eACP'],\n",
       "  'both': {'thex2eACP'}},\n",
       " 'cpd01242': {'met_id': 'MNXM90412_c0',\n",
       "  'seed_id': 'cpd01242',\n",
       "  'bigg_ann': 'drib',\n",
       "  'in_modelseed': ['drib'],\n",
       "  'both': {'drib'}},\n",
       " 'cpd00668': {'met_id': 'MNXM426_c0',\n",
       "  'seed_id': 'cpd00668',\n",
       "  'bigg_ann': 'MISSING',\n",
       "  'in_modelseed': ['alac__S'],\n",
       "  'both': {'alac__S'}},\n",
       " 'cpd02569': {'met_id': 'CPD-231_c0',\n",
       "  'seed_id': 'cpd02569',\n",
       "  'bigg_ann': '3hmoa',\n",
       "  'in_modelseed': ['3hmoa'],\n",
       "  'both': {'3hmoa'}},\n",
       " 'cpd01966': {'met_id': '3-METHYL-CROTONYL-COA_c0',\n",
       "  'seed_id': 'cpd01966',\n",
       "  'bigg_ann': '3mb2coa',\n",
       "  'in_modelseed': ['3mb2coa'],\n",
       "  'both': {'3mb2coa'}},\n",
       " 'cpd15543': {'met_id': 'MNXM91691_c0',\n",
       "  'seed_id': 'cpd15543',\n",
       "  'bigg_ann': 'MISSING',\n",
       "  'in_modelseed': ['pgp140'],\n",
       "  'both': {'pgp140'}},\n",
       " 'cpd03455': {'met_id': 'MNXM6822_c0',\n",
       "  'seed_id': 'cpd03455',\n",
       "  'bigg_ann': 'MISSING',\n",
       "  'in_modelseed': ['mercplac'],\n",
       "  'both': {'mercplac'}},\n",
       " 'cpd00549': {'met_id': 'CPD-219_c0',\n",
       "  'seed_id': 'cpd00549',\n",
       "  'bigg_ann': 'lys__D',\n",
       "  'in_modelseed': ['lys__D'],\n",
       "  'both': {'lys__D'}},\n",
       " 'cpd00261': {'met_id': 'cpd00261_c0',\n",
       "  'seed_id': 'cpd00261',\n",
       "  'bigg_ann': ['xylu__D', 'xylu__L'],\n",
       "  'in_modelseed': ['xylu__L'],\n",
       "  'both': {'xylu__D', 'xylu__L'}},\n",
       " 'cpd03861': {'met_id': 'CPD0-1115_c0',\n",
       "  'seed_id': 'cpd03861',\n",
       "  'bigg_ann': 'xu1p__D',\n",
       "  'in_modelseed': ['xu1p__D'],\n",
       "  'both': {'xu1p__D'}},\n",
       " 'cpd00931': {'met_id': '5apru_c',\n",
       "  'seed_id': 'cpd00931',\n",
       "  'bigg_ann': '5apru',\n",
       "  'in_modelseed': ['5apru'],\n",
       "  'both': {'5apru'}},\n",
       " 'cpd11478': {'met_id': 'Beta-3-hydroxybutyryl-ACPs_c0',\n",
       "  'seed_id': 'cpd11478',\n",
       "  'bigg_ann': '3hbutACP',\n",
       "  'in_modelseed': ['3hbutACP'],\n",
       "  'both': {'3hbutACP'}},\n",
       " 'cpd15321': {'met_id': 'MNXM147675_c0',\n",
       "  'seed_id': 'cpd15321',\n",
       "  'bigg_ann': 'MISSING',\n",
       "  'in_modelseed': ['1agpg160'],\n",
       "  'both': {'1agpg160'}},\n",
       " 'cpd00215': {'met_id': 'pydx_c',\n",
       "  'seed_id': 'cpd00215',\n",
       "  'bigg_ann': 'pydx',\n",
       "  'in_modelseed': ['pydx'],\n",
       "  'both': {'pydx'}},\n",
       " 'cpd00418': {'met_id': 'MNXM162249_c0',\n",
       "  'seed_id': 'cpd00418',\n",
       "  'bigg_ann': 'MISSING',\n",
       "  'in_modelseed': ['no'],\n",
       "  'both': {'no'}},\n",
       " 'cpd02255': {'met_id': '3-OXOADIPATE-ENOL-LACTONE_c0',\n",
       "  'seed_id': 'cpd02255',\n",
       "  'bigg_ann': '5odhf2a',\n",
       "  'in_modelseed': ['5odhf2a'],\n",
       "  'both': {'5odhf2a'}},\n",
       " 'cpd03120': {'met_id': '3hocoa_c',\n",
       "  'seed_id': 'cpd03120',\n",
       "  'bigg_ann': '3hocoa',\n",
       "  'in_modelseed': ['3hocoa'],\n",
       "  'both': {'3hocoa'}},\n",
       " 'cpd00911': {'met_id': '6pgl_c',\n",
       "  'seed_id': 'cpd00911',\n",
       "  'bigg_ann': '6pgl',\n",
       "  'in_modelseed': ['6pgl'],\n",
       "  'both': {'6pgl'}},\n",
       " 'cpd02886': {'met_id': 'u3aga_c',\n",
       "  'seed_id': 'cpd02886',\n",
       "  'bigg_ann': 'u3aga',\n",
       "  'in_modelseed': ['u3aga'],\n",
       "  'both': {'u3aga'}},\n",
       " 'cpd03443': {'met_id': '3ophb_c',\n",
       "  'seed_id': 'cpd03443',\n",
       "  'bigg_ann': '3ophb',\n",
       "  'in_modelseed': ['3ophb'],\n",
       "  'both': {'3ophb'}},\n",
       " 'cpd11668': {'met_id': 'MNXM73074_c0',\n",
       "  'seed_id': 'cpd11668',\n",
       "  'bigg_ann': 'MISSING',\n",
       "  'in_modelseed': ['pencil'],\n",
       "  'both': {'pencil'}},\n",
       " 'cpd12884': {'met_id': 'MNXM12596_c0',\n",
       "  'seed_id': 'cpd12884',\n",
       "  'bigg_ann': 'pencilca',\n",
       "  'in_modelseed': ['pencilca'],\n",
       "  'both': {'pencilca'}},\n",
       " 'cpd00142': {'met_id': 'acac_c',\n",
       "  'seed_id': 'cpd00142',\n",
       "  'bigg_ann': 'acac',\n",
       "  'in_modelseed': ['acac'],\n",
       "  'both': {'acac'}},\n",
       " 'cpd03221': {'met_id': 'ZYMOSTEROL_c0',\n",
       "  'seed_id': 'cpd03221',\n",
       "  'bigg_ann': 'zymst',\n",
       "  'in_modelseed': ['zymst'],\n",
       "  'both': {'zymst'}},\n",
       " 'cpd02755': {'met_id': 'FECOSTEROL_c0',\n",
       "  'seed_id': 'cpd02755',\n",
       "  'bigg_ann': 'fecost',\n",
       "  'in_modelseed': ['fecost'],\n",
       "  'both': {'fecost'}},\n",
       " 'cpd02096': {'met_id': 'CPD-466_c0',\n",
       "  'seed_id': 'cpd02096',\n",
       "  'bigg_ann': 'MISSING',\n",
       "  'in_modelseed': ['3aib'],\n",
       "  'both': {'3aib'}},\n",
       " 'cpd00374': {'met_id': 'tym_c',\n",
       "  'seed_id': 'cpd00374',\n",
       "  'bigg_ann': 'tym',\n",
       "  'in_modelseed': ['tym'],\n",
       "  'both': {'tym'}},\n",
       " 'cpd01733': {'met_id': 'CONIFERYL-ALDEHYDE_c0',\n",
       "  'seed_id': 'cpd01733',\n",
       "  'bigg_ann': 'conialdh',\n",
       "  'in_modelseed': ['conialdh'],\n",
       "  'both': {'conialdh'}},\n",
       " 'cpd01059': {'met_id': 'FERULIC-ACID_c0',\n",
       "  'seed_id': 'cpd01059',\n",
       "  'bigg_ann': 'fer',\n",
       "  'in_modelseed': ['fer'],\n",
       "  'both': {'fer'}},\n",
       " 'cpd04117': {'met_id': '4-METHYLCATECHOL_c0',\n",
       "  'seed_id': 'cpd04117',\n",
       "  'bigg_ann': '4mcat',\n",
       "  'in_modelseed': ['4mcat'],\n",
       "  'both': {'4mcat'}},\n",
       " 'cpd00875': {'met_id': 'MNXM989_c0',\n",
       "  'seed_id': 'cpd00875',\n",
       "  'bigg_ann': 'MISSING',\n",
       "  'in_modelseed': ['kdo'],\n",
       "  'both': {'kdo'}},\n",
       " 'cpd02546': {'met_id': 'ckdo_c',\n",
       "  'seed_id': 'cpd02546',\n",
       "  'bigg_ann': 'ckdo',\n",
       "  'in_modelseed': ['ckdo', 'cmpkdo'],\n",
       "  'both': {'ckdo', 'cmpkdo'}},\n",
       " 'cpd00510': {'met_id': '2dr5p_c',\n",
       "  'seed_id': 'cpd00510',\n",
       "  'bigg_ann': '2dr5p',\n",
       "  'in_modelseed': ['2dr5p'],\n",
       "  'both': {'2dr5p'}},\n",
       " 'cpd02904': {'met_id': '5prdmbz_c',\n",
       "  'seed_id': 'cpd02904',\n",
       "  'bigg_ann': '5prdmbz',\n",
       "  'in_modelseed': ['5prdmbz'],\n",
       "  'both': {'5prdmbz'}},\n",
       " 'cpd03423': {'met_id': 'rdmbzi_c',\n",
       "  'seed_id': 'cpd03423',\n",
       "  'bigg_ann': 'rdmbzi',\n",
       "  'in_modelseed': ['rdmbzi'],\n",
       "  'both': {'rdmbzi'}},\n",
       " 'cpd02338': {'met_id': 'udpgalfur_c',\n",
       "  'seed_id': 'cpd02338',\n",
       "  'bigg_ann': 'udpgalfur',\n",
       "  'in_modelseed': ['udpgalfur'],\n",
       "  'both': {'udpgalfur'}},\n",
       " 'cpd02100': {'met_id': 'xu5p__L_c',\n",
       "  'seed_id': 'cpd02100',\n",
       "  'bigg_ann': 'xu5p__L',\n",
       "  'in_modelseed': ['xu5p__L'],\n",
       "  'both': {'xu5p__L'}},\n",
       " 'cpd03393': {'met_id': 'MNXM5296_c0',\n",
       "  'seed_id': 'cpd03393',\n",
       "  'bigg_ann': 'MISSING',\n",
       "  'in_modelseed': ['seahcys'],\n",
       "  'both': {'seahcys'}},\n",
       " 'cpd03397': {'met_id': 'SELENOHOMOCYSTEINE_c0',\n",
       "  'seed_id': 'cpd03397',\n",
       "  'bigg_ann': 'selhcys',\n",
       "  'in_modelseed': ['selhcys'],\n",
       "  'both': {'selhcys'}},\n",
       " 'cpd03117': {'met_id': '3oddcoa_c',\n",
       "  'seed_id': 'cpd03117',\n",
       "  'bigg_ann': '3oddcoa',\n",
       "  'in_modelseed': ['3oddcoa'],\n",
       "  'both': {'3oddcoa'}},\n",
       " 'cpd03608': {'met_id': '4hthr_c',\n",
       "  'seed_id': 'cpd03608',\n",
       "  'bigg_ann': '4hthr',\n",
       "  'in_modelseed': ['4hthr'],\n",
       "  'both': {'4hthr'}},\n",
       " 'cpd00620': {'met_id': 'CPD-511_c0',\n",
       "  'seed_id': 'cpd00620',\n",
       "  'bigg_ann': 'ptth',\n",
       "  'in_modelseed': ['ptth'],\n",
       "  'both': {'ptth'}},\n",
       " 'cpd01160': {'met_id': 'CPD-239_c0',\n",
       "  'seed_id': 'cpd01160',\n",
       "  'bigg_ann': 'cysam',\n",
       "  'in_modelseed': ['cysam'],\n",
       "  'both': {'cysam'}},\n",
       " 'cpd03216': {'met_id': 'NEUROSPORENE_c0',\n",
       "  'seed_id': 'cpd03216',\n",
       "  'bigg_ann': 'neuspn',\n",
       "  'in_modelseed': ['neuspn'],\n",
       "  'both': {'neuspn'}},\n",
       " 'cpd03422': {'met_id': 'MNXM90619_c0',\n",
       "  'seed_id': 'cpd03422',\n",
       "  'bigg_ann': 'MISSING',\n",
       "  'in_modelseed': ['cbi'],\n",
       "  'both': {'cbi'}},\n",
       " 'cpd00305': {'met_id': 'thm_e',\n",
       "  'seed_id': 'cpd00305',\n",
       "  'bigg_ann': 'thm',\n",
       "  'in_modelseed': ['thm'],\n",
       "  'both': {'thm'}},\n",
       " 'cpd02636': {'met_id': '4mhetz_c',\n",
       "  'seed_id': 'cpd02636',\n",
       "  'bigg_ann': '4mhetz',\n",
       "  'in_modelseed': ['4mhetz'],\n",
       "  'both': {'4mhetz'}},\n",
       " 'cpd00351': {'met_id': 'SACCHAROPINE_c0',\n",
       "  'seed_id': 'cpd00351',\n",
       "  'bigg_ann': 'saccrp__L',\n",
       "  'in_modelseed': ['saccrp__L'],\n",
       "  'both': {'saccrp__L'}},\n",
       " 'cpd02698': {'met_id': 'sl26da_c',\n",
       "  'seed_id': 'cpd02698',\n",
       "  'bigg_ann': 'sl26da',\n",
       "  'in_modelseed': ['sl26da'],\n",
       "  'both': {'sl26da'}},\n",
       " 'cpd02724': {'met_id': 'sl2a6o_c',\n",
       "  'seed_id': 'cpd02724',\n",
       "  'bigg_ann': 'sl2a6o',\n",
       "  'in_modelseed': ['sl2a6o'],\n",
       "  'both': {'sl2a6o'}},\n",
       " 'cpd02524': {'met_id': 'CPD-46_c0',\n",
       "  'seed_id': 'cpd02524',\n",
       "  'bigg_ann': ['HC01231', 'ptcys'],\n",
       "  'in_modelseed': ['ptcys'],\n",
       "  'both': {'HC01231', 'ptcys'}},\n",
       " 'cpd15346': {'met_id': 'MNXM146342_c0',\n",
       "  'seed_id': 'cpd15346',\n",
       "  'bigg_ann': 'MISSING',\n",
       "  'in_modelseed': ['2agpg160'],\n",
       "  'both': {'2agpg160'}},\n",
       " 'cpd15338': {'met_id': 'MNXM146497_c0',\n",
       "  'seed_id': 'cpd15338',\n",
       "  'bigg_ann': 'MISSING',\n",
       "  'in_modelseed': ['2agpe141'],\n",
       "  'both': {'2agpe141'}},\n",
       " 'cpd00460': {'met_id': 'SULFOACETALDEHYDE_c0',\n",
       "  'seed_id': 'cpd00460',\n",
       "  'bigg_ann': '2saa',\n",
       "  'in_modelseed': ['2saa'],\n",
       "  'both': {'2saa'}},\n",
       " 'cpd00166': {'met_id': 'adocbl_c',\n",
       "  'seed_id': 'cpd00166',\n",
       "  'bigg_ann': 'adocbl',\n",
       "  'in_modelseed': ['adocbl'],\n",
       "  'both': {'adocbl'}},\n",
       " 'cpd15378': {'met_id': '4-HYDROXY-BENZYL-ALCOHOL_c0',\n",
       "  'seed_id': 'cpd15378',\n",
       "  'bigg_ann': '4hba',\n",
       "  'in_modelseed': ['4hba'],\n",
       "  'both': {'4hba'}},\n",
       " 'cpd00283': {'met_id': 'grdp_c',\n",
       "  'seed_id': 'cpd00283',\n",
       "  'bigg_ann': 'grdp',\n",
       "  'in_modelseed': ['grdp'],\n",
       "  'both': {'grdp'}},\n",
       " 'cpd06711': {'met_id': 'MNXM91788_c0',\n",
       "  'seed_id': 'cpd06711',\n",
       "  'bigg_ann': 'hmpscoa',\n",
       "  'in_modelseed': ['hmpscoa'],\n",
       "  'both': {'hmpscoa'}},\n",
       " 'cpd15538': {'met_id': 'pg160_c',\n",
       "  'seed_id': 'cpd15538',\n",
       "  'bigg_ann': 'pg160',\n",
       "  'in_modelseed': ['pg160'],\n",
       "  'both': {'pg160'}},\n",
       " 'cpd00818': {'met_id': 'D-galactopyranose-6-phosphate_c0',\n",
       "  'seed_id': 'cpd00818',\n",
       "  'bigg_ann': 'MISSING',\n",
       "  'in_modelseed': ['dgal6p'],\n",
       "  'both': {'dgal6p'}},\n",
       " 'cpd15316': {'met_id': 'MNXM6600_c0',\n",
       "  'seed_id': 'cpd15316',\n",
       "  'bigg_ann': 'MISSING',\n",
       "  'in_modelseed': ['1agpe160'],\n",
       "  'both': {'1agpe160'}},\n",
       " 'cpd11830': {'met_id': 'MNXM81221_c0',\n",
       "  'seed_id': 'cpd11830',\n",
       "  'bigg_ann': 'alpro',\n",
       "  'in_modelseed': ['alpro'],\n",
       "  'both': {'alpro'}},\n",
       " 'cpd02625': {'met_id': 'PYRROLINE-HYDROXY-CARBOXYLATE_c0',\n",
       "  'seed_id': 'cpd02625',\n",
       "  'bigg_ann': '1p3h5c',\n",
       "  'in_modelseed': ['1p3h5c'],\n",
       "  'both': {'1p3h5c'}},\n",
       " 'cpd00116': {'met_id': 'meoh_c',\n",
       "  'seed_id': 'cpd00116',\n",
       "  'bigg_ann': 'meoh',\n",
       "  'in_modelseed': ['meoh'],\n",
       "  'both': {'meoh'}},\n",
       " 'cpd00200': {'met_id': '4mop_c',\n",
       "  'seed_id': 'cpd00200',\n",
       "  'bigg_ann': '4mop',\n",
       "  'in_modelseed': ['4mop'],\n",
       "  'both': {'4mop'}},\n",
       " 'cpd00811': {'met_id': 'tmao_c',\n",
       "  'seed_id': 'cpd00811',\n",
       "  'bigg_ann': 'tmao',\n",
       "  'in_modelseed': ['tmao'],\n",
       "  'both': {'tmao'}},\n",
       " 'cpd00441': {'met_id': 'tma_c',\n",
       "  'seed_id': 'cpd00441',\n",
       "  'bigg_ann': 'tma',\n",
       "  'in_modelseed': ['tma'],\n",
       "  'both': {'tma'}},\n",
       " 'cpd11718': {'met_id': 'L-3-HYDROXYACYL-COA_c0',\n",
       "  'seed_id': 'cpd11718',\n",
       "  'bigg_ann': '3hacoa',\n",
       "  'in_modelseed': ['3hacoa'],\n",
       "  'both': {'3hacoa'}},\n",
       " 'cpd11637': {'met_id': '3-KETOACYL-COA_c0',\n",
       "  'seed_id': 'cpd11637',\n",
       "  'bigg_ann': '3oacoa',\n",
       "  'in_modelseed': ['3oacoa'],\n",
       "  'both': {'3oacoa'}},\n",
       " 'cpd03198': {'met_id': 'MELIBIOSE_c0',\n",
       "  'seed_id': 'cpd03198',\n",
       "  'bigg_ann': ['6dg', 'melib'],\n",
       "  'in_modelseed': ['6dg', 'melib'],\n",
       "  'both': {'6dg', 'melib'}},\n",
       " 'cpd11430': {'met_id': 'MNXM3990_c0',\n",
       "  'seed_id': 'cpd11430',\n",
       "  'bigg_ann': 'MISSING',\n",
       "  'in_modelseed': ['fa1'],\n",
       "  'both': {'fa1'}},\n",
       " 'cpd16438': {'met_id': 'MNXM6123_c0',\n",
       "  'seed_id': 'cpd16438',\n",
       "  'bigg_ann': '5flurimp',\n",
       "  'in_modelseed': ['5flurimp'],\n",
       "  'both': {'5flurimp'}},\n",
       " 'cpd00916': {'met_id': 'INOSITOL-1-4-5-TRISPHOSPHATE_c0',\n",
       "  'seed_id': 'cpd00916',\n",
       "  'bigg_ann': 'MISSING',\n",
       "  'in_modelseed': ['mi145p'],\n",
       "  'both': {'mi145p'}},\n",
       " 'cpd00934': {'met_id': 'CPD-506_c0',\n",
       "  'seed_id': 'cpd00934',\n",
       "  'bigg_ann': 'MISSING',\n",
       "  'in_modelseed': ['mi1345p'],\n",
       "  'both': {'mi1345p'}},\n",
       " 'cpd02591': {'met_id': 'ALL-TRANS-PENTAPRENYL-DIPHOSPHATE_c0',\n",
       "  'seed_id': 'cpd02591',\n",
       "  'bigg_ann': 'pendp',\n",
       "  'in_modelseed': ['pendp'],\n",
       "  'both': {'pendp'}},\n",
       " 'cpd00382': {'met_id': 'CPD-1099_c0',\n",
       "  'seed_id': 'cpd00382',\n",
       "  'bigg_ann': 'raffin',\n",
       "  'in_modelseed': ['raffin'],\n",
       "  'both': {'raffin'}},\n",
       " 'cpd15542': {'met_id': 'MNXM91685_c0',\n",
       "  'seed_id': 'cpd15542',\n",
       "  'bigg_ann': 'MISSING',\n",
       "  'in_modelseed': ['pgp120'],\n",
       "  'both': {'pgp120'}},\n",
       " 'cpd15535': {'met_id': 'MNXM162584_c0',\n",
       "  'seed_id': 'cpd15535',\n",
       "  'bigg_ann': 'MISSING',\n",
       "  'in_modelseed': ['pg120'],\n",
       "  'both': {'pg120'}},\n",
       " 'cpd02826': {'met_id': '5-PHOSPHORIBOSYL-N-FORMYLGLYCINEAMIDINE_c0',\n",
       "  'seed_id': 'cpd02826',\n",
       "  'bigg_ann': 'MISSING',\n",
       "  'in_modelseed': ['fpram'],\n",
       "  'both': {'fpram'}},\n",
       " 'cpd02258': {'met_id': '4h2opntn_c',\n",
       "  'seed_id': 'cpd02258',\n",
       "  'bigg_ann': '4h2opntn',\n",
       "  'in_modelseed': ['4h2opntn', '4h2oxov'],\n",
       "  'both': {'4h2opntn', '4h2oxov'}},\n",
       " 'cpd15318': {'met_id': 'MNXM147673_c0',\n",
       "  'seed_id': 'cpd15318',\n",
       "  'bigg_ann': 'MISSING',\n",
       "  'in_modelseed': ['1agpg120'],\n",
       "  'both': {'1agpg120'}},\n",
       " 'cpd02039': {'met_id': 'appl_c',\n",
       "  'seed_id': 'cpd02039',\n",
       "  'bigg_ann': 'appl',\n",
       "  'in_modelseed': ['appl'],\n",
       "  'both': {'appl'}},\n",
       " 'cpd00531': {'met_id': 'hg2_e',\n",
       "  'seed_id': 'cpd00531',\n",
       "  'bigg_ann': 'hg2',\n",
       "  'in_modelseed': ['hg2'],\n",
       "  'both': {'hg2'}},\n",
       " 'cpd15239': {'met_id': 'MNXM162372_c0',\n",
       "  'seed_id': 'cpd15239',\n",
       "  'bigg_ann': 'MISSING',\n",
       "  'in_modelseed': ['hdeACP'],\n",
       "  'both': {'hdeACP'}},\n",
       " 'cpd15326': {'met_id': '1hdec9eg3p_c',\n",
       "  'seed_id': 'cpd15326',\n",
       "  'bigg_ann': '1hdec9eg3p',\n",
       "  'in_modelseed': ['1hdec9eg3p'],\n",
       "  'both': {'1hdec9eg3p'}},\n",
       " 'cpd01749': {'met_id': 'CPD-10488_c0',\n",
       "  'seed_id': 'cpd01749',\n",
       "  'bigg_ann': 'Lfmkynr',\n",
       "  'in_modelseed': ['Lfmkynr'],\n",
       "  'both': {'Lfmkynr'}},\n",
       " 'cpd00275': {'met_id': 'CPD-14736_c0',\n",
       "  'seed_id': 'cpd00275',\n",
       "  'bigg_ann': 'Lkynr',\n",
       "  'in_modelseed': ['Lkynr'],\n",
       "  'both': {'Lkynr'}},\n",
       " 'cpd15363': {'met_id': '2tdecg3p_c',\n",
       "  'seed_id': 'cpd15363',\n",
       "  'bigg_ann': '2tdecg3p',\n",
       "  'in_modelseed': ['2tdecg3p'],\n",
       "  'both': {'2tdecg3p'}},\n",
       " 'cpd00263': {'met_id': 'pydxn_c',\n",
       "  'seed_id': 'cpd00263',\n",
       "  'bigg_ann': 'pydxn',\n",
       "  'in_modelseed': ['pydxn'],\n",
       "  'both': {'pydxn'}},\n",
       " 'cpd00946': {'met_id': 'unaga_c',\n",
       "  'seed_id': 'cpd00946',\n",
       "  'bigg_ann': 'unaga',\n",
       "  'in_modelseed': ['unaga'],\n",
       "  'both': {'unaga'}},\n",
       " 'cpd15558': {'met_id': 'MNXM92578_c0',\n",
       "  'seed_id': 'cpd15558',\n",
       "  'bigg_ann': 'MISSING',\n",
       "  'in_modelseed': ['ps181'],\n",
       "  'both': {'ps181'}},\n",
       " 'cpd00419': {'met_id': 'pydam_c',\n",
       "  'seed_id': 'cpd00419',\n",
       "  'bigg_ann': 'pydam',\n",
       "  'in_modelseed': ['pydam'],\n",
       "  'both': {'pydam'}},\n",
       " 'cpd01620': {'met_id': 'DIHYDROSIROHYDROCHLORIN_c0',\n",
       "  'seed_id': 'cpd01620',\n",
       "  'bigg_ann': ['dscl', 'shcl'],\n",
       "  'in_modelseed': ['dscl', 'pre2'],\n",
       "  'both': {'dscl', 'pre2', 'shcl'}},\n",
       " 'cpd02760': {'met_id': 'CPD-507_c0',\n",
       "  'seed_id': 'cpd02760',\n",
       "  'bigg_ann': 'cellb6p',\n",
       "  'in_modelseed': ['cellb6p'],\n",
       "  'both': {'cellb6p'}},\n",
       " 'cpd00528': {'met_id': 'NITROGEN-MOLECULE_c0',\n",
       "  'seed_id': 'cpd00528',\n",
       "  'bigg_ann': 'n2',\n",
       "  'in_modelseed': ['n2'],\n",
       "  'both': {'n2'}},\n",
       " 'cpd11620': {'met_id': 'Reduced-ferredoxins_c0',\n",
       "  'seed_id': 'cpd11620',\n",
       "  'bigg_ann': 'fdxrd',\n",
       "  'in_modelseed': ['fdxrd'],\n",
       "  'both': {'fdxrd'}},\n",
       " 'cpd11621': {'met_id': 'Oxidized-ferredoxins_c0',\n",
       "  'seed_id': 'cpd11621',\n",
       "  'bigg_ann': ['fdxo_2_2', 'fdxox'],\n",
       "  'in_modelseed': ['fdxox'],\n",
       "  'both': {'fdxo_2_2', 'fdxox'}},\n",
       " 'cpd00464': {'met_id': 'pacald_c',\n",
       "  'seed_id': 'cpd00464',\n",
       "  'bigg_ann': 'pacald',\n",
       "  'in_modelseed': ['pacald'],\n",
       "  'both': {'pacald'}},\n",
       " 'cpd03292': {'met_id': 'PENICILLIN-G_c0',\n",
       "  'seed_id': 'cpd03292',\n",
       "  'bigg_ann': 'peng',\n",
       "  'in_modelseed': ['peng'],\n",
       "  'both': {'peng'}},\n",
       " 'cpd00599': {'met_id': 'CPD-110_c0',\n",
       "  'seed_id': 'cpd00599',\n",
       "  'bigg_ann': 'salc',\n",
       "  'in_modelseed': ['salc'],\n",
       "  'both': {'salc'}},\n",
       " 'cpd02597': {'met_id': '2mcacn_c',\n",
       "  'seed_id': 'cpd02597',\n",
       "  'bigg_ann': '2mcacn',\n",
       "  'in_modelseed': ['2mcacn'],\n",
       "  'both': {'2mcacn'}},\n",
       " 'cpd08210': {'met_id': '4adcho_c',\n",
       "  'seed_id': 'cpd08210',\n",
       "  'bigg_ann': '4adcho',\n",
       "  'in_modelseed': ['4adcho'],\n",
       "  'both': {'4adcho'}},\n",
       " 'cpd00312': {'met_id': 'HISTAMINE_c0',\n",
       "  'seed_id': 'cpd00312',\n",
       "  'bigg_ann': 'hista',\n",
       "  'in_modelseed': ['hista'],\n",
       "  'both': {'hista'}},\n",
       " 'cpd03736': {'met_id': 'kdo2lipid4L_c',\n",
       "  'seed_id': 'cpd03736',\n",
       "  'bigg_ann': 'kdo2lipid4L',\n",
       "  'in_modelseed': ['kdo2lipid4L'],\n",
       "  'both': {'kdo2lipid4L'}},\n",
       " 'cpd03586': {'met_id': 'kdo2lipid4_c',\n",
       "  'seed_id': 'cpd03586',\n",
       "  'bigg_ann': 'kdo2lipid4',\n",
       "  'in_modelseed': ['kdo2lipid4'],\n",
       "  'both': {'kdo2lipid4'}},\n",
       " 'cpd00222': {'met_id': 'GLUCONATE_c0',\n",
       "  'seed_id': 'cpd00222',\n",
       "  'bigg_ann': ['glcn', 'glcn__D'],\n",
       "  'in_modelseed': ['glcn', 'glcn__D'],\n",
       "  'both': {'glcn', 'glcn__D'}},\n",
       " 'cpd00480': {'met_id': 'CPD-377_c0',\n",
       "  'seed_id': 'cpd00480',\n",
       "  'bigg_ann': '2dhglcn',\n",
       "  'in_modelseed': ['2dhglcn'],\n",
       "  'both': {'2dhglcn'}},\n",
       " 'cpd03122': {'met_id': '3hhcoa_c',\n",
       "  'seed_id': 'cpd03122',\n",
       "  'bigg_ann': '3hhcoa',\n",
       "  'in_modelseed': ['3hhcoa'],\n",
       "  'both': {'3hhcoa'}},\n",
       " 'cpd03123': {'met_id': '3ohcoa_c',\n",
       "  'seed_id': 'cpd03123',\n",
       "  'bigg_ann': '3ohcoa',\n",
       "  'in_modelseed': ['3ohcoa'],\n",
       "  'both': {'3ohcoa'}},\n",
       " 'cpd12043': {'met_id': 'Protein-L-lysine_c0',\n",
       "  'seed_id': 'cpd12043',\n",
       "  'bigg_ann': 'MISSING',\n",
       "  'in_modelseed': ['peplys'],\n",
       "  'both': {'peplys'}},\n",
       " 'cpd03960': {'met_id': 'HYDROXYATRAZINE_c0',\n",
       "  'seed_id': 'cpd03960',\n",
       "  'bigg_ann': 'hatrz',\n",
       "  'in_modelseed': ['hatrz'],\n",
       "  'both': {'hatrz'}},\n",
       " 'cpd00727': {'met_id': '2pglyc_c',\n",
       "  'seed_id': 'cpd00727',\n",
       "  'bigg_ann': '2pglyc',\n",
       "  'in_modelseed': ['2pglyc'],\n",
       "  'both': {'2pglyc'}},\n",
       " 'cpd01157': {'met_id': 'chtbs_c',\n",
       "  'seed_id': 'cpd01157',\n",
       "  'bigg_ann': 'chtbs',\n",
       "  'in_modelseed': ['chtbs'],\n",
       "  'both': {'chtbs'}},\n",
       " 'cpd00853': {'met_id': '23-DIPHOSPHOGLYCERATE_c0',\n",
       "  'seed_id': 'cpd00853',\n",
       "  'bigg_ann': 'MISSING',\n",
       "  'in_modelseed': ['23dpg'],\n",
       "  'both': {'23dpg'}},\n",
       " 'cpd00291': {'met_id': 'L-DIHYDROXY-PHENYLALANINE_c0',\n",
       "  'seed_id': 'cpd00291',\n",
       "  'bigg_ann': 'MISSING',\n",
       "  'in_modelseed': ['34dhphe'],\n",
       "  'both': {'34dhphe'}},\n",
       " 'cpd00782': {'met_id': 'CPD-558_c0',\n",
       "  'seed_id': 'cpd00782',\n",
       "  'bigg_ann': 'pmcoa',\n",
       "  'in_modelseed': ['pmcoa'],\n",
       "  'both': {'pmcoa'}},\n",
       " 'cpd00294': {'met_id': 'damp_c',\n",
       "  'seed_id': 'cpd00294',\n",
       "  'bigg_ann': 'damp',\n",
       "  'in_modelseed': ['damp'],\n",
       "  'both': {'damp'}},\n",
       " 'cpd00256': {'met_id': 'CDP-CHOLINE_c0',\n",
       "  'seed_id': 'cpd00256',\n",
       "  'bigg_ann': 'cdpchol',\n",
       "  'in_modelseed': ['cdpchol'],\n",
       "  'both': {'cdpchol'}},\n",
       " 'cpd01570': {'met_id': '23camp_c',\n",
       "  'seed_id': 'cpd01570',\n",
       "  'bigg_ann': '23camp',\n",
       "  'in_modelseed': ['23camp'],\n",
       "  'both': {'23camp'}},\n",
       " 'cpd00988': {'met_id': '3amp_c',\n",
       "  'seed_id': 'cpd00988',\n",
       "  'bigg_ann': '3amp',\n",
       "  'in_modelseed': ['3amp'],\n",
       "  'both': {'3amp'}},\n",
       " 'cpd09410': {'met_id': 'CPD-6947_c0',\n",
       "  'seed_id': 'cpd09410',\n",
       "  'bigg_ann': 'dmtphllqne',\n",
       "  'in_modelseed': ['dmtphllqne'],\n",
       "  'both': {'dmtphllqne'}},\n",
       " 'cpd01401': {'met_id': 'MNXM163005_c0',\n",
       "  'seed_id': 'cpd01401',\n",
       "  'bigg_ann': 'MISSING',\n",
       "  'in_modelseed': ['phllqne'],\n",
       "  'both': {'phllqne'}},\n",
       " 'cpd03444': {'met_id': '2oph_c',\n",
       "  'seed_id': 'cpd03444',\n",
       "  'bigg_ann': '2oph',\n",
       "  'in_modelseed': ['2oph'],\n",
       "  'both': {'2oph'}},\n",
       " 'cpd02246': {'met_id': 'CoM_c0',\n",
       "  'seed_id': 'cpd02246',\n",
       "  'bigg_ann': 'com',\n",
       "  'in_modelseed': ['com'],\n",
       "  'both': {'com'}},\n",
       " 'cpd12737': {'met_id': 'MNXM4089_c0',\n",
       "  'seed_id': 'cpd12737',\n",
       "  'bigg_ann': 'MISSING',\n",
       "  'in_modelseed': ['Ndmelys'],\n",
       "  'both': {'Ndmelys'}},\n",
       " 'cpd12738': {'met_id': 'MNXM4790_c0',\n",
       "  'seed_id': 'cpd12738',\n",
       "  'bigg_ann': 'MISSING',\n",
       "  'in_modelseed': ['Ntmelys'],\n",
       "  'both': {'Ntmelys'}},\n",
       " 'cpd00815': {'met_id': '5-AMINO-2-OXOPENTANOATE_c0',\n",
       "  'seed_id': 'cpd00815',\n",
       "  'bigg_ann': '5a2opntn',\n",
       "  'in_modelseed': ['5a2opntn'],\n",
       "  'both': {'5a2opntn'}},\n",
       " 'cpd00337': {'met_id': '56dura_c',\n",
       "  'seed_id': 'cpd00337',\n",
       "  'bigg_ann': '56dura',\n",
       "  'in_modelseed': ['56dura'],\n",
       "  'both': {'56dura'}},\n",
       " 'cpd01720': {'met_id': '3-UREIDO-PROPIONATE_c0',\n",
       "  'seed_id': 'cpd01720',\n",
       "  'bigg_ann': 'cala',\n",
       "  'in_modelseed': ['cala'],\n",
       "  'both': {'cala'}},\n",
       " 'cpd03702': {'met_id': '23cgmp_c',\n",
       "  'seed_id': 'cpd03702',\n",
       "  'bigg_ann': '23cgmp',\n",
       "  'in_modelseed': ['23cgmp'],\n",
       "  'both': {'23cgmp'}},\n",
       " 'cpd03701': {'met_id': '3gmp_c',\n",
       "  'seed_id': 'cpd03701',\n",
       "  'bigg_ann': '3gmp',\n",
       "  'in_modelseed': ['3gmp'],\n",
       "  'both': {'3gmp'}},\n",
       " 'cpd03725': {'met_id': 'fe3dcit_c',\n",
       "  'seed_id': 'cpd03725',\n",
       "  'bigg_ann': 'fe3dcit',\n",
       "  'in_modelseed': ['fe3dcit'],\n",
       "  'both': {'fe3dcit'}},\n",
       " 'cpd02027': {'met_id': 'mmet_c',\n",
       "  'seed_id': 'cpd02027',\n",
       "  'bigg_ann': 'mmet',\n",
       "  'in_modelseed': ['mmet'],\n",
       "  'both': {'mmet'}},\n",
       " 'cpd00434': {'met_id': '4abutn_c',\n",
       "  'seed_id': 'cpd00434',\n",
       "  'bigg_ann': '4abutn',\n",
       "  'in_modelseed': ['4abutn'],\n",
       "  'both': {'4abutn'}},\n",
       " 'cpd11431': {'met_id': 'MNXM3274_c0',\n",
       "  'seed_id': 'cpd11431',\n",
       "  'bigg_ann': 'MISSING',\n",
       "  'in_modelseed': ['fa11'],\n",
       "  'both': {'fa11'}},\n",
       " 'cpd03699': {'met_id': 'MNXM47994_c0',\n",
       "  'seed_id': 'cpd03699',\n",
       "  'bigg_ann': 'cdpg',\n",
       "  'in_modelseed': ['cdpg'],\n",
       "  'both': {'cdpg'}},\n",
       " 'cpd03125': {'met_id': 'hx2coa_c',\n",
       "  'seed_id': 'cpd03125',\n",
       "  'bigg_ann': 'hx2coa',\n",
       "  'in_modelseed': ['hx2coa'],\n",
       "  'both': {'hx2coa'}},\n",
       " 'cpd01107': {'met_id': 'CPD-3617_c0',\n",
       "  'seed_id': 'cpd01107',\n",
       "  'bigg_ann': 'MISSING',\n",
       "  'in_modelseed': ['dca'],\n",
       "  'both': {'dca'}},\n",
       " 'cpd00406': {'met_id': 'HYPOTAURINE_c0',\n",
       "  'seed_id': 'cpd00406',\n",
       "  'bigg_ann': 'MISSING',\n",
       "  'in_modelseed': ['hyptaur'],\n",
       "  'both': {'hyptaur'}},\n",
       " 'cpd00304': {'met_id': 'CPD-13525_c0',\n",
       "  'seed_id': 'cpd00304',\n",
       "  'bigg_ann': 'retinal',\n",
       "  'in_modelseed': ['retinal'],\n",
       "  'both': {'retinal'}},\n",
       " 'cpd02357': {'met_id': 'dopa_c',\n",
       "  'seed_id': 'cpd02357',\n",
       "  'bigg_ann': 'dopa',\n",
       "  'in_modelseed': ['dopa'],\n",
       "  'both': {'dopa'}},\n",
       " 'cpd02069': {'met_id': '3php_c',\n",
       "  'seed_id': 'cpd02069',\n",
       "  'bigg_ann': '3php',\n",
       "  'in_modelseed': ['3php'],\n",
       "  'both': {'3php'}},\n",
       " 'cpd09252': {'met_id': '3hcinnm_c',\n",
       "  'seed_id': 'cpd09252',\n",
       "  'bigg_ann': '3hcinnm',\n",
       "  'in_modelseed': ['3hcinnm'],\n",
       "  'both': {'3hcinnm'}},\n",
       " 'cpd00348': {'met_id': 'gal1p_c',\n",
       "  'seed_id': 'cpd00348',\n",
       "  'bigg_ann': 'gal1p',\n",
       "  'in_modelseed': ['gal1p'],\n",
       "  'both': {'gal1p'}},\n",
       " 'cpd16494': {'met_id': 'Glycerol-1-phosphate_c0',\n",
       "  'seed_id': 'cpd16494',\n",
       "  'bigg_ann': 'glyc1p',\n",
       "  'in_modelseed': ['glyc1p'],\n",
       "  'both': {'glyc1p'}},\n",
       " 'cpd00794': {'met_id': 'tre_e',\n",
       "  'seed_id': 'cpd00794',\n",
       "  'bigg_ann': 'tre',\n",
       "  'in_modelseed': ['tre'],\n",
       "  'both': {'tre'}},\n",
       " 'cpd00503': {'met_id': 'CPD-535_c0',\n",
       "  'seed_id': 'cpd00503',\n",
       "  'bigg_ann': 'f26bp',\n",
       "  'in_modelseed': ['f26bp'],\n",
       "  'both': {'f26bp'}},\n",
       " 'cpd00667': {'met_id': 'CPD-882_c0',\n",
       "  'seed_id': 'cpd00667',\n",
       "  'bigg_ann': 'MISSING',\n",
       "  'in_modelseed': ['retinol_cis_11'],\n",
       "  'both': {'retinol_cis_11'}},\n",
       " 'cpd11477': {'met_id': 'tpalm2eACP_c',\n",
       "  'seed_id': 'cpd11477',\n",
       "  'bigg_ann': 'tpalm2eACP',\n",
       "  'in_modelseed': ['tpalm2eACP'],\n",
       "  'both': {'tpalm2eACP'}},\n",
       " 'cpd15414': {'met_id': 'btnso_c',\n",
       "  'seed_id': 'cpd15414',\n",
       "  'bigg_ann': 'btnso',\n",
       "  'in_modelseed': ['btnso'],\n",
       "  'both': {'btnso'}},\n",
       " 'cpd15315': {'met_id': 'MNXM147672_c0',\n",
       "  'seed_id': 'cpd15315',\n",
       "  'bigg_ann': 'MISSING',\n",
       "  'in_modelseed': ['1agpe141'],\n",
       "  'both': {'1agpe141'}},\n",
       " 'cpd00408': {'met_id': 'pant__R_c',\n",
       "  'seed_id': 'cpd00408',\n",
       "  'bigg_ann': 'pant__R',\n",
       "  'in_modelseed': ['pant__R'],\n",
       "  'both': {'pant__R'}},\n",
       " 'cpd00712': {'met_id': '2dhp_c',\n",
       "  'seed_id': 'cpd00712',\n",
       "  'bigg_ann': '2dhp',\n",
       "  'in_modelseed': ['2dhp'],\n",
       "  'both': {'2dhp'}},\n",
       " 'cpd00331': {'met_id': 'acon_C_c',\n",
       "  'seed_id': 'cpd00331',\n",
       "  'bigg_ann': 'acon_C',\n",
       "  'in_modelseed': ['acon_C'],\n",
       "  'both': {'acon_C'}},\n",
       " ...}"
      ]
     },
     "execution_count": 13,
     "metadata": {},
     "output_type": "execute_result"
    }
   ],
   "source": [
    "new_bigg_ann_dict_met={}\n",
    "\n",
    "for met in model.metabolites:\n",
    "\n",
    "    if \"seed.compound\" in met.annotation and met.annotation[\"seed.compound\"] in modelseed_met_dict2.keys():\n",
    "        #print(\"modelseed bigg id\", modelseed_met_dict2[met.annotation[\"seed.compound\"]])\n",
    "        if \"bigg.metabolite\" in met.annotation and met.annotation[\"bigg.metabolite\"] in modelseed_met_dict2[met.annotation[\"seed.compound\"]]:\n",
    "            \n",
    "            new_bigg_ann_dict_met[met.annotation[\"seed.compound\"]]={}\n",
    "            new_bigg_ann_dict_met[met.annotation[\"seed.compound\"]][\"met_id\"]=met.id\n",
    "            new_bigg_ann_dict_met[met.annotation[\"seed.compound\"]][\"seed_id\"]=met.annotation[\"seed.compound\"]\n",
    "            new_bigg_ann_dict_met[met.annotation[\"seed.compound\"]][\"bigg_ann\"]=met.annotation[\"bigg.metabolite\"]\n",
    "            new_bigg_ann_dict_met[met.annotation[\"seed.compound\"]][\"in_modelseed\"]=modelseed_met_dict2[met.annotation[\"seed.compound\"]]\n",
    "            both_db_ann=[]\n",
    "            if type(met.annotation[\"bigg.metabolite\"])==list:\n",
    "                for rl in met.annotation[\"bigg.metabolite\"]:\n",
    "                    both_db_ann.append(rl)\n",
    "            else:\n",
    "                both_db_ann.append(met.annotation[\"bigg.metabolite\"])\n",
    "                \n",
    "            if type(modelseed_met_dict2[met.annotation[\"seed.compound\"]])==list:\n",
    "                for rl in modelseed_met_dict2[met.annotation[\"seed.compound\"]]:\n",
    "                    both_db_ann.append(rl)\n",
    "            else:\n",
    "                both_db_ann.append(modelseed_met_dict2[met.annotation[\"seed.compound\"]])\n",
    "                \n",
    "            new_bigg_ann_dict_met[met.annotation[\"seed.compound\"]][\"both\"]=set(both_db_ann)\n",
    "            #there is annotation not list and  it is the same as in modelseed d\n",
    "        elif \"bigg.metabolite\" in met.annotation and type(met.annotation[\"bigg.metabolite\"])==list:\n",
    "            new_bigg_ann_dict_met[met.annotation[\"seed.compound\"]]={}\n",
    "            new_bigg_ann_dict_met[met.annotation[\"seed.compound\"]][\"met_id\"]=met.id\n",
    "            new_bigg_ann_dict_met[met.annotation[\"seed.compound\"]][\"seed_id\"]=met.annotation[\"seed.compound\"]\n",
    "            new_bigg_ann_dict_met[met.annotation[\"seed.compound\"]][\"bigg_ann\"]=met.annotation[\"bigg.metabolite\"]\n",
    "            new_bigg_ann_dict_met[met.annotation[\"seed.compound\"]][\"in_modelseed\"]=modelseed_met_dict2[met.annotation[\"seed.compound\"]]\n",
    "            both_db_ann=[]\n",
    "            if type(met.annotation[\"bigg.metabolite\"])==list:\n",
    "                for rl in met.annotation[\"bigg.metabolite\"]:\n",
    "                    both_db_ann.append(rl)\n",
    "            else:\n",
    "                both_db_ann.append(met.annotation[\"bigg.metabolite\"])\n",
    "                \n",
    "            if type(modelseed_met_dict2[met.annotation[\"seed.compound\"]])==list:\n",
    "                for rl in modelseed_met_dict2[met.annotation[\"seed.compound\"]]:\n",
    "                    both_db_ann.append(rl)\n",
    "            else:\n",
    "                both_db_ann.append(modelseed_met_dict2[met.annotation[\"seed.compound\"]])\n",
    "                \n",
    "            new_bigg_ann_dict_met[met.annotation[\"seed.compound\"]][\"both\"]=set(both_db_ann)\n",
    "            \n",
    "\n",
    "        else:\n",
    "            #bigg not in annotation, but there is in the modelseed\n",
    "       \n",
    "            new_bigg_ann_dict_met[met.annotation[\"seed.compound\"]]={}\n",
    "            new_bigg_ann_dict_met[met.annotation[\"seed.compound\"]][\"met_id\"]=met.id\n",
    "            new_bigg_ann_dict_met[met.annotation[\"seed.compound\"]][\"seed_id\"]=met.annotation[\"seed.compound\"]\n",
    "            new_bigg_ann_dict_met[met.annotation[\"seed.compound\"]][\"bigg_ann\"]=\"MISSING\"\n",
    "            new_bigg_ann_dict_met[met.annotation[\"seed.compound\"]][\"in_modelseed\"]=modelseed_met_dict2[met.annotation[\"seed.compound\"]]\n",
    "            new_bigg_ann_dict_met[met.annotation[\"seed.compound\"]][\"both\"]=set(modelseed_met_dict2[met.annotation[\"seed.compound\"]])\n",
    "            newid=modelseed_met_dict2[met.annotation[\"seed.compound\"]][0].replace(\" \", \"\")\n",
    "        \n",
    "            #met.id=newid\n",
    "            #met.id\n",
    "            #model.repair()\n",
    "new_bigg_ann_dict_met"
   ]
  },
  {
   "cell_type": "markdown",
   "metadata": {},
   "source": [
    "### Import e_coli escher model "
   ]
  },
  {
   "cell_type": "code",
   "execution_count": null,
   "metadata": {},
   "outputs": [],
   "source": [
    "model_ecoli_escher= cobra.io.json.from_json(escher.plots.model_json_for_name('e_coli_core'))\n",
    "model_ecoli_escher"
   ]
  },
  {
   "cell_type": "code",
   "execution_count": null,
   "metadata": {},
   "outputs": [],
   "source": [
    "model.reactions.ICL\n",
    "model_ecoli_escher.reactions.ICL\n",
    "\n",
    "model.reactions.ME2\n",
    "model_ecoli_escher.reactions.ME2\n",
    "\n",
    "model.reactions.SUCDi\n",
    "model_ecoli_escher.reactions.SUCDi"
   ]
  },
  {
   "cell_type": "code",
   "execution_count": 14,
   "metadata": {},
   "outputs": [
    {
     "name": "stdout",
     "output_type": "stream",
     "text": [
      "original id and ecoli H2PTEROATESYNTH-RXN_c0 DHPS2\n"
     ]
    },
    {
     "data": {
      "text/plain": [
       "{'DHPS2', 'DHPS2FOLD3', 'DHPS2_1', 'FOLD3', 'FOLD3_1', 'FOLD3m', 'FOLDm'}"
      ]
     },
     "execution_count": 14,
     "metadata": {},
     "output_type": "execute_result"
    },
    {
     "name": "stdout",
     "output_type": "stream",
     "text": [
      "newid DHPS2\n",
      "original id and ecoli GLUTATHIONE-SYN-RXN_c0 GTHS\n"
     ]
    },
    {
     "data": {
      "text/plain": [
       "{'GSH2', 'GTHS', 'GTHS_1'}"
      ]
     },
     "execution_count": 14,
     "metadata": {},
     "output_type": "execute_result"
    },
    {
     "name": "stdout",
     "output_type": "stream",
     "text": [
      "newid GTHS\n",
      "duplicate HXPRT {'bigg.reaction': 'HXPRT', 'biocyc': 'HYPOXANPRIBOSYLTRAN-RXN', 'kegg.reaction': 'R01132', 'metanetx.reaction': 'MNXR100752', 'seed.compound': 'rxn00836'}\n",
      "original id and ecoli RXN-8641_c0 LCARR\n"
     ]
    },
    {
     "data": {
      "text/plain": [
       "{'ALCD21_D', 'LCARR'}"
      ]
     },
     "execution_count": 14,
     "metadata": {},
     "output_type": "execute_result"
    },
    {
     "name": "stdout",
     "output_type": "stream",
     "text": [
      "newid LCARR\n",
      "original id and ecoli ATPASE-RXN_c0 ATPM\n"
     ]
    },
    {
     "data": {
      "text/plain": [
       "{'ATPM', 'ATPOBJ', 'ATPPHm', 'ATPS', 'NTP1'}"
      ]
     },
     "execution_count": 14,
     "metadata": {},
     "output_type": "execute_result"
    },
    {
     "name": "stdout",
     "output_type": "stream",
     "text": [
      "newid ATPM\n",
      "original id and ecoli ATPM NTP1\n"
     ]
    },
    {
     "data": {
      "text/plain": [
       "{'ATPM', 'ATPOBJ', 'ATPPHm', 'ATPS', 'NTP1'}"
      ]
     },
     "execution_count": 14,
     "metadata": {},
     "output_type": "execute_result"
    },
    {
     "name": "stdout",
     "output_type": "stream",
     "text": [
      "newid NTP1\n",
      "original id and ecoli SERINE-O-ACETTRAN-RXN_c0 SERAT\n"
     ]
    },
    {
     "data": {
      "text/plain": [
       "{'SAT', 'SATm', 'SERAT', 'SERATi', 'U48'}"
      ]
     },
     "execution_count": 14,
     "metadata": {},
     "output_type": "execute_result"
    },
    {
     "name": "stdout",
     "output_type": "stream",
     "text": [
      "newid SERAT\n",
      "original id and ecoli RXN-11832_c0 CYTK1\n"
     ]
    },
    {
     "data": {
      "text/plain": [
       "{'CYTK1', 'CYTK1m', 'CYTK1n', 'U18'}"
      ]
     },
     "execution_count": 14,
     "metadata": {},
     "output_type": "execute_result"
    },
    {
     "name": "stdout",
     "output_type": "stream",
     "text": [
      "newid CYTK1\n",
      "original id and ecoli GLUTCYSLIG-RXN_c0 GLUCYS\n"
     ]
    },
    {
     "data": {
      "text/plain": [
       "{'GCL', 'GLUCYS', 'GLUCYSL', 'GSH1'}"
      ]
     },
     "execution_count": 14,
     "metadata": {},
     "output_type": "execute_result"
    },
    {
     "name": "stdout",
     "output_type": "stream",
     "text": [
      "newid GLUCYS\n",
      "original id and ecoli DCDPKIN-RXN_c0 NDPK7\n"
     ]
    },
    {
     "data": {
      "text/plain": [
       "{'NDPK7', 'NDPK7m', 'NDPK7n', 'YNK1_5'}"
      ]
     },
     "execution_count": 14,
     "metadata": {},
     "output_type": "execute_result"
    },
    {
     "name": "stdout",
     "output_type": "stream",
     "text": [
      "newid NDPK7\n",
      "original id and ecoli PEPCARBOXYKIN-RXN_c0 PPCK\n"
     ]
    },
    {
     "data": {
      "text/plain": [
       "{'PCK1', 'PPCK', 'PPCKm', 'PPCKr'}"
      ]
     },
     "execution_count": 14,
     "metadata": {},
     "output_type": "execute_result"
    },
    {
     "name": "stdout",
     "output_type": "stream",
     "text": [
      "newid PPCK\n",
      "original id and ecoli MNXR101984_c0 NO2t2rpp\n"
     ]
    },
    {
     "data": {
      "text/plain": [
       "{'NO2t2', 'NO2t2ir', 'NO2t2r', 'NO2t2rpp'}"
      ]
     },
     "execution_count": 14,
     "metadata": {},
     "output_type": "execute_result"
    },
    {
     "name": "stdout",
     "output_type": "stream",
     "text": [
      "newid NO2t2rpp\n",
      "original id and ecoli ABC-37-RXN_c0 ORNabcpp\n"
     ]
    },
    {
     "data": {
      "text/plain": [
       "{'ORNabc', 'ORNabcpp'}"
      ]
     },
     "execution_count": 14,
     "metadata": {},
     "output_type": "execute_result"
    },
    {
     "name": "stdout",
     "output_type": "stream",
     "text": [
      "newid ORNabcpp\n",
      "duplicate TDPDRE {'bigg.reaction': 'TDPDRE', 'biocyc': 'DTDPDEHYDRHAMEPIM-RXN', 'kegg.reaction': 'R06514', 'metanetx.reaction': 'MNXR104759', 'seed.compound': 'rxn02000'}\n",
      "original id and ecoli RXN-14271_c0 HACD7\n"
     ]
    },
    {
     "data": {
      "text/plain": [
       "{'HACD7', 'HACD7_1', 'HACD7i', 'HACD7m', 'HACD7p'}"
      ]
     },
     "execution_count": 14,
     "metadata": {},
     "output_type": "execute_result"
    },
    {
     "name": "stdout",
     "output_type": "stream",
     "text": [
      "newid HACD7\n",
      "duplicate LYSDC {'bigg.reaction': 'LYSDC', 'biocyc': 'LYSDECARBOX-RXN', 'kegg.reaction': 'R00462', 'metanetx.reaction': 'MNXR101256', 'seed.compound': 'rxn00322'}\n",
      "original id and ecoli MNXR100753_c0 HYD1pp\n"
     ]
    },
    {
     "data": {
      "text/plain": [
       "{'HYD1', 'HYD1pp'}"
      ]
     },
     "execution_count": 14,
     "metadata": {},
     "output_type": "execute_result"
    },
    {
     "name": "stdout",
     "output_type": "stream",
     "text": [
      "newid HYD1pp\n",
      "duplicate PUNP5 {'bigg.reaction': 'PUNP5', 'biocyc': 'INOPHOSPHOR-RXN', 'kegg.reaction': 'R01863', 'metanetx.reaction': 'MNXR103347', 'seed.compound': 'rxn01358'}\n",
      "duplicate SOTA {'bigg.reaction': 'SOTA', 'biocyc': 'SUCCORNTRANSAM-RXN', 'kegg.reaction': 'R04217', 'metanetx.reaction': 'MNXR104477', 'seed.compound': 'rxn02944'}\n",
      "original id and ecoli BADH-RXN_c0 BETALDHx\n"
     ]
    },
    {
     "data": {
      "text/plain": [
       "{'BADH', 'BETALDHx', 'BETALDHxm'}"
      ]
     },
     "execution_count": 14,
     "metadata": {},
     "output_type": "execute_result"
    },
    {
     "name": "stdout",
     "output_type": "stream",
     "text": [
      "newid BETALDHx\n",
      "duplicate SADT2 {'bigg.reaction': 'SADT2', 'metanetx.reaction': 'MNXR104241', 'seed.compound': 'rxn09240'}\n",
      "original id and ecoli RXN-7913_c0 CYTK2\n"
     ]
    },
    {
     "data": {
      "text/plain": [
       "{'CYTK2', 'CYTK2m', 'CYTK2n', 'U17'}"
      ]
     },
     "execution_count": 14,
     "metadata": {},
     "output_type": "execute_result"
    },
    {
     "name": "stdout",
     "output_type": "stream",
     "text": [
      "newid CYTK2\n",
      "duplicate RHCCE {'bigg.reaction': 'RHCCE', 'biocyc': 'RIBOSYLHOMOCYSTEINASE-RXN', 'kegg.reaction': 'R01291', 'metanetx.reaction': 'MNXR104026', 'seed.compound': 'rxn05958'}\n",
      "duplicate ADSL1r {'bigg.reaction': 'ADSL1r', 'biocyc': 'AMPSYN-RXN', 'kegg.reaction': 'R01083', 'metanetx.reaction': 'MNXR95493', 'seed.compound': 'rxn00800'}\n",
      "duplicate PPNCL2 {'bigg.reaction': 'PPNCL2', 'biocyc': 'P-PANTOCYSLIG-RXN', 'kegg.reaction': 'R04231', 'metanetx.reaction': 'MNXR103119', 'seed.compound': 'rxn09177'}\n",
      "duplicate UDPGD {'bigg.reaction': 'UDPGD', 'biocyc': 'UGD-RXN', 'kegg.reaction': 'R00286', 'metanetx.reaction': 'MNXR105063', 'seed.compound': 'rxn00211'}\n",
      "original id and ecoli GLUTKIN-RXN_c0 GLU5K\n"
     ]
    },
    {
     "data": {
      "text/plain": [
       "{'GLU5K', 'GLU5Km'}"
      ]
     },
     "execution_count": 14,
     "metadata": {},
     "output_type": "execute_result"
    },
    {
     "name": "stdout",
     "output_type": "stream",
     "text": [
      "newid GLU5K\n",
      "original id and ecoli N-ACETYLTRANSFER-RXN_c0 ACGS\n"
     ]
    },
    {
     "data": {
      "text/plain": [
       "{'ACGS', 'ACGSm'}"
      ]
     },
     "execution_count": 14,
     "metadata": {},
     "output_type": "execute_result"
    },
    {
     "name": "stdout",
     "output_type": "stream",
     "text": [
      "newid ACGS\n",
      "original id and ecoli RXN0-5292_c0 NTD3\n"
     ]
    },
    {
     "data": {
      "text/plain": [
       "{'NTD3', 'NTD3l', 'NTD3pp', 'U28'}"
      ]
     },
     "execution_count": 14,
     "metadata": {},
     "output_type": "execute_result"
    },
    {
     "name": "stdout",
     "output_type": "stream",
     "text": [
      "newid NTD3\n",
      "original id and ecoli NTD3 NTD3pp\n"
     ]
    },
    {
     "data": {
      "text/plain": [
       "{'NTD3', 'NTD3l', 'NTD3pp', 'U28'}"
      ]
     },
     "execution_count": 14,
     "metadata": {},
     "output_type": "execute_result"
    },
    {
     "name": "stdout",
     "output_type": "stream",
     "text": [
      "newid NTD3pp\n",
      "duplicate XYLK {'bigg.reaction': 'XYLK', 'biocyc': 'XYLULOKIN-RXN', 'kegg.reaction': 'R01639', 'metanetx.reaction': 'MNXR105255', 'seed.compound': 'rxn01199'}\n",
      "duplicate PFK {'kegg.reaction': 'R00756', 'metanetx.reaction': 'MNXR106666', 'seed.compound': 'rxn00545'}\n",
      "duplicate FCLK {'bigg.reaction': 'FCLK', 'biocyc': 'FUCULOKIN-RXN', 'kegg.reaction': 'R03241', 'metanetx.reaction': 'MNXR99469', 'seed.compound': 'rxn02319'}\n",
      "duplicate LPLIPAL1E161pp {'metanetx.reaction': 'MNXR135851', 'seed.compound': 'rxn08807'}\n",
      "original id and ecoli HISTAMINOTRANS-RXN_c0 HSTPT\n"
     ]
    },
    {
     "data": {
      "text/plain": [
       "{'AOOA', 'AOOAh', 'HIS5', 'HSTPT', 'HSTPTr'}"
      ]
     },
     "execution_count": 14,
     "metadata": {},
     "output_type": "execute_result"
    },
    {
     "name": "stdout",
     "output_type": "stream",
     "text": [
      "newid HSTPT\n",
      "duplicate RBP4E {'bigg.reaction': 'RBP4E', 'biocyc': 'RIBULPEPIM-RXN', 'kegg.reaction': 'R05850', 'metanetx.reaction': 'MNXR103434', 'seed.compound': 'rxn04082'}\n",
      "duplicate AGPAT140 {'biocyc': 'RXN-17022', 'metanetx.reaction': 'MNXR120588', 'seed.compound': 'rxn08084'}\n",
      "original id and ecoli 4.2.1.59-RXN_c0 3HAD80\n"
     ]
    },
    {
     "data": {
      "text/plain": [
       "{'3HAD80', '3HAD80_1', 'HOCHL3'}"
      ]
     },
     "execution_count": 14,
     "metadata": {},
     "output_type": "execute_result"
    },
    {
     "name": "stdout",
     "output_type": "stream",
     "text": [
      "newid 3HAD80\n",
      "duplicate DB4PS {'bigg.reaction': 'DB4PS', 'kegg.reaction': 'R07281', 'metanetx.reaction': 'MNXR97178', 'seed.compound': 'rxn05040'}\n",
      "duplicate G3PD5 {'bigg.reaction': 'G3PD5', 'metanetx.reaction': 'MNXR99880', 'seed.compound': 'rxn08556'}\n",
      "original id and ecoli MNXR101000_c0 LACZ\n"
     ]
    },
    {
     "data": {
      "text/plain": [
       "{'LACZ', 'LACZe', 'LACZly', 'LACZpp'}"
      ]
     },
     "execution_count": 14,
     "metadata": {},
     "output_type": "execute_result"
    },
    {
     "name": "stdout",
     "output_type": "stream",
     "text": [
      "newid LACZ\n",
      "original id and ecoli LACZ LACZpp\n"
     ]
    },
    {
     "data": {
      "text/plain": [
       "{'LACZ', 'LACZe', 'LACZly', 'LACZpp'}"
      ]
     },
     "execution_count": 14,
     "metadata": {},
     "output_type": "execute_result"
    },
    {
     "name": "stdout",
     "output_type": "stream",
     "text": [
      "newid LACZpp\n",
      "original id and ecoli MNXR103400_c0 QULNS\n"
     ]
    },
    {
     "data": {
      "text/plain": [
       "{'QULNS', 'QULNS_1', 'U100'}"
      ]
     },
     "execution_count": 14,
     "metadata": {},
     "output_type": "execute_result"
    },
    {
     "name": "stdout",
     "output_type": "stream",
     "text": [
      "newid QULNS\n",
      "duplicate FALDH2 {'bigg.reaction': 'FALDH2', 'biocyc': 'RXN0-276', 'kegg.reaction': 'R06983', 'metanetx.reaction': 'MNXR99237', 'seed.compound': 'rxn04792'}\n",
      "duplicate MTAN {'bigg.reaction': 'MTAN', 'biocyc': 'METHYLTHIOADENOSINE-NUCLEOSIDASE-RXN', 'kegg.reaction': 'R01401', 'metanetx.reaction': 'MNXR101744', 'seed.compound': 'rxn01021'}\n",
      "original id and ecoli 4.3.1.17-RXN_c0 SERD_L\n"
     ]
    },
    {
     "data": {
      "text/plain": [
       "{'CHA1_2', 'SERD_L', 'SER_AL', 'THRAL', 'YIL167W'}"
      ]
     },
     "execution_count": 14,
     "metadata": {},
     "output_type": "execute_result"
    },
    {
     "name": "stdout",
     "output_type": "stream",
     "text": [
      "newid SERD_L\n",
      "duplicate A5PISO {'bigg.reaction': 'A5PISO', 'biocyc': 'DARAB5PISOM-RXN', 'kegg.reaction': 'R01530', 'metanetx.reaction': 'MNXR95132', 'seed.compound': 'rxn01117'}\n",
      "original id and ecoli INORGPYROPHOSPHAT-RXN_c0 PPA\n"
     ]
    },
    {
     "data": {
      "text/plain": [
       "{'IDPh',\n",
       " 'IDPm',\n",
       " 'IPP1',\n",
       " 'PPA',\n",
       " 'PPA_1',\n",
       " 'PPA_1pp',\n",
       " 'PPAer',\n",
       " 'PPAm',\n",
       " 'PPAn',\n",
       " 'r0009'}"
      ]
     },
     "execution_count": 14,
     "metadata": {},
     "output_type": "execute_result"
    },
    {
     "name": "stdout",
     "output_type": "stream",
     "text": [
      "newid PPA\n",
      "original id and ecoli TRANS-RXN-108F_c0 DURIt2pp\n"
     ]
    },
    {
     "data": {
      "text/plain": [
       "{'DURIt2', 'DURIt2pp', 'U184', 'U190', 'U200'}"
      ]
     },
     "execution_count": 14,
     "metadata": {},
     "output_type": "execute_result"
    },
    {
     "name": "stdout",
     "output_type": "stream",
     "text": [
      "newid DURIt2pp\n",
      "duplicate E4PD {'bigg.reaction': 'E4PD', 'biocyc': 'ERYTH4PDEHYDROG-RXN', 'kegg.reaction': 'R01825', 'metanetx.reaction': 'MNXR97842', 'seed.compound': 'rxn01331'}\n",
      "duplicate OMPDC {'bigg.reaction': 'OMPDC', 'biocyc': 'OROTPDECARB-RXN', 'kegg.reaction': 'R00965', 'metanetx.reaction': 'MNXR102190', 'seed.compound': 'rxn00710'}\n",
      "duplicate TMPPP {'bigg.reaction': 'TMPPP', 'biocyc': 'THI-P-SYN-RXN', 'kegg.reaction': 'R03223', 'metanetx.reaction': 'MNXR104908', 'seed.compound': 'rxn02305'}\n",
      "original id and ecoli ORNDECARBOX-RXN_c0 ORNDC\n"
     ]
    },
    {
     "data": {
      "text/plain": [
       "{'ORDCh', 'ORNDC', 'or NDC'}"
      ]
     },
     "execution_count": 14,
     "metadata": {},
     "output_type": "execute_result"
    },
    {
     "name": "stdout",
     "output_type": "stream",
     "text": [
      "newid ORNDC\n",
      "duplicate LPLIPAL2A120 {'metanetx.reaction': 'MNXR135861', 'seed.compound': 'rxn08817'}\n",
      "duplicate DAGK141 {'metanetx.reaction': 'MNXR135767', 'seed.compound': 'rxn08296'}\n",
      "duplicate HEPT1 {'bigg.reaction': 'HEPT1', 'metanetx.reaction': 'MNXR100602', 'seed.compound': 'rxn08710'}\n",
      "duplicate HXAND {'bigg.reaction': 'HXAND', 'biocyc': 'RXN-7682', 'kegg.reaction': 'R01768', 'metanetx.reaction': 'MNXR100747', 'seed.compound': 'rxn01297'}\n",
      "original id and ecoli RXN0-2381_c0 TRPS3\n"
     ]
    },
    {
     "data": {
      "text/plain": [
       "{'G3PL', 'TRPS3', 'TRPS3r'}"
      ]
     },
     "execution_count": 14,
     "metadata": {},
     "output_type": "execute_result"
    },
    {
     "name": "stdout",
     "output_type": "stream",
     "text": [
      "newid TRPS3\n",
      "duplicate LPLIPAL1A120pp {'metanetx.reaction': 'MNXR135842', 'seed.compound': 'rxn08796'}\n",
      "duplicate TDSK {'bigg.reaction': 'TDSK', 'biocyc': 'TETRAACYLDISACC4KIN-RXN', 'kegg.reaction': 'R04657', 'metanetx.reaction': 'MNXR104762', 'seed.compound': 'rxn03181'}\n",
      "duplicate KDOPS {'bigg.reaction': 'KDOPS', 'kegg.reaction': 'R03254', 'metanetx.reaction': 'MNXR100934', 'seed.compound': 'rxn02331'}\n",
      "original id and ecoli ASPARTATEKIN-RXN_c0 ASPK\n"
     ]
    },
    {
     "data": {
      "text/plain": [
       "{'ASPK', 'ASPK_1', 'ASPKi', 'HOM3'}"
      ]
     },
     "execution_count": 14,
     "metadata": {},
     "output_type": "execute_result"
    },
    {
     "name": "stdout",
     "output_type": "stream",
     "text": [
      "newid ASPK\n",
      "original id and ecoli TRANS-RXN-118_c0 PROt4pp\n"
     ]
    },
    {
     "data": {
      "text/plain": [
       "{'PRONA1tm', 'PROt4', 'PROt4pp', 'PROt4r'}"
      ]
     },
     "execution_count": 14,
     "metadata": {},
     "output_type": "execute_result"
    },
    {
     "name": "stdout",
     "output_type": "stream",
     "text": [
      "newid PROt4pp\n",
      "duplicate DASYN141 {'bigg.reaction': 'DASYN141', 'metanetx.reaction': 'MNXR97156', 'seed.compound': 'rxn08308'}\n",
      "duplicate LPLIPAL2A181 {'metanetx.reaction': 'MNXR135865', 'seed.compound': 'rxn08823'}\n",
      "duplicate ALLK {'bigg.reaction': 'ALLK', 'kegg.reaction': 'R03576', 'metanetx.reaction': 'MNXR95765', 'seed.compound': 'rxn02552'}\n",
      "original id and ecoli RXN0-5038_c0 PDE1\n"
     ]
    },
    {
     "data": {
      "text/plain": [
       "{'APNn', 'PDE1', 'PDE1g', 'PDE2_1'}"
      ]
     },
     "execution_count": 14,
     "metadata": {},
     "output_type": "execute_result"
    },
    {
     "name": "stdout",
     "output_type": "stream",
     "text": [
      "newid PDE1\n",
      "duplicate 3OAS60 {'biocyc': 'RXN-9516', 'kegg.reaction': 'R04952', 'metanetx.reaction': 'MNXR109245', 'seed.compound': 'rxn05346'}\n",
      "duplicate HCYSMT {'bigg.reaction': 'HCYSMT', 'biocyc': 'HOMOCYSTEINE-S-METHYLTRANSFERASE-RXN', 'kegg.reaction': 'R00650', 'metanetx.reaction': 'MNXR100577', 'seed.compound': 'rxn00452'}\n",
      "duplicate ACACT3r {'biocyc': 'RXN-14277', 'kegg.reaction': 'R04747', 'metanetx.reaction': 'MNXR109092', 'seed.compound': 'rxn03248'}\n",
      "duplicate AMALT2 {'bigg.reaction': 'AMALT2', 'biocyc': 'RXN-14260', 'metanetx.reaction': 'MNXR95801', 'seed.compound': 'rxn08127'}\n",
      "duplicate ASNS1 {'bigg.reaction': 'ASNS1', 'biocyc': 'ASNSYNB-RXN', 'kegg.reaction': 'R00578', 'metanetx.reaction': 'MNXR96059', 'seed.compound': 'rxn00416'}\n",
      "duplicate PSSA140 {'metanetx.reaction': 'MNXR135986', 'seed.compound': 'rxn09206'}\n",
      "duplicate PSSA161 {'metanetx.reaction': 'MNXR135988', 'seed.compound': 'rxn09209'}\n",
      "original id and ecoli RXN-14073_c0 GPDDA4\n"
     ]
    },
    {
     "data": {
      "text/plain": [
       "{'GPDDA4', 'GPDDA4pp'}"
      ]
     },
     "execution_count": 14,
     "metadata": {},
     "output_type": "execute_result"
    },
    {
     "name": "stdout",
     "output_type": "stream",
     "text": [
      "newid GPDDA4\n",
      "original id and ecoli GPDDA4 GPDDA4pp\n"
     ]
    },
    {
     "data": {
      "text/plain": [
       "{'GPDDA4', 'GPDDA4pp'}"
      ]
     },
     "execution_count": 14,
     "metadata": {},
     "output_type": "execute_result"
    },
    {
     "name": "stdout",
     "output_type": "stream",
     "text": [
      "newid GPDDA4pp\n",
      "original id and ecoli 2-ISOPROPYLMALATESYN-RXN_c0 IPPS\n"
     ]
    },
    {
     "data": {
      "text/plain": [
       "{'IPPS', 'IPPSh', 'IPPSm'}"
      ]
     },
     "execution_count": 14,
     "metadata": {},
     "output_type": "execute_result"
    },
    {
     "name": "stdout",
     "output_type": "stream",
     "text": [
      "newid IPPS\n",
      "original id and ecoli ACSERLY-RXN_c0 CYSS\n"
     ]
    },
    {
     "data": {
      "text/plain": [
       "{'CYSS', 'CYSS_1', 'CYSS_2', 'CYSSr', 'YGR012W'}"
      ]
     },
     "execution_count": 14,
     "metadata": {},
     "output_type": "execute_result"
    },
    {
     "name": "stdout",
     "output_type": "stream",
     "text": [
      "newid CYSS\n",
      "original id and ecoli SHIKIMATE-KINASE-RXN_c0 SHKK\n"
     ]
    },
    {
     "data": {
      "text/plain": [
       "{'ARO1_4', 'SHKK', 'SKK'}"
      ]
     },
     "execution_count": 14,
     "metadata": {},
     "output_type": "execute_result"
    },
    {
     "name": "stdout",
     "output_type": "stream",
     "text": [
      "newid SHKK\n",
      "original id and ecoli PREPHENATEDEHYDROG-RXN_c0 PPND\n"
     ]
    },
    {
     "data": {
      "text/plain": [
       "{'PPND', 'PPOR_1', 'U52'}"
      ]
     },
     "execution_count": 14,
     "metadata": {},
     "output_type": "execute_result"
    },
    {
     "name": "stdout",
     "output_type": "stream",
     "text": [
      "newid PPND\n",
      "original id and ecoli ADENYLYLSULFKIN-RXN_c0 ADSK\n"
     ]
    },
    {
     "data": {
      "text/plain": [
       "{'AASPh', 'AASPm', 'ADSK', 'ADSKn', 'ADSKr', 'MET14'}"
      ]
     },
     "execution_count": 14,
     "metadata": {},
     "output_type": "execute_result"
    },
    {
     "name": "stdout",
     "output_type": "stream",
     "text": [
      "newid ADSK\n",
      "duplicate DAPE {'bigg.reaction': 'DAPE', 'biocyc': 'DIAMINOPIMEPIM-RXN', 'kegg.reaction': 'R02735', 'metanetx.reaction': 'MNXR97143', 'seed.compound': 'rxn01974'}\n",
      "duplicate PPGPPDP {'bigg.reaction': 'PPGPPDP', 'biocyc': 'PPGPPSYN-RXN', 'kegg.reaction': 'R00336', 'metanetx.reaction': 'MNXR103109', 'seed.compound': 'rxn00242'}\n",
      "duplicate NTRIR2x {'bigg.reaction': 'NTRIR2x', 'biocyc': 'RXN-13854', 'kegg.reaction': 'R00787', 'metanetx.reaction': 'MNXR102062', 'seed.compound': 'rxn00568'}\n",
      "duplicate NADH10 {'bigg.reaction': 'NADH10', 'metanetx.reaction': 'MNXR101863', 'seed.compound': 'rxn08971'}\n",
      "original id and ecoli GALACTARDEHYDRA-RXN_c0 GALCTD\n"
     ]
    },
    {
     "data": {
      "text/plain": [
       "{'GALCTD', 'GALCTD_1'}"
      ]
     },
     "execution_count": 14,
     "metadata": {},
     "output_type": "execute_result"
    },
    {
     "name": "stdout",
     "output_type": "stream",
     "text": [
      "newid GALCTD\n",
      "original id and ecoli OHMETHYLBILANESYN-RXN_c0 HMBS\n"
     ]
    },
    {
     "data": {
      "text/plain": [
       "{'HEM3', 'HMBS', 'PPBNGD'}"
      ]
     },
     "execution_count": 14,
     "metadata": {},
     "output_type": "execute_result"
    },
    {
     "name": "stdout",
     "output_type": "stream",
     "text": [
      "newid HMBS\n",
      "original id and ecoli ACETATEKIN-RXN_c0 ACKr\n"
     ]
    },
    {
     "data": {
      "text/plain": [
       "{'ACKr', 'ACKrh', 'ACKrm'}"
      ]
     },
     "execution_count": 14,
     "metadata": {},
     "output_type": "execute_result"
    },
    {
     "name": "stdout",
     "output_type": "stream",
     "text": [
      "newid ACKr\n",
      "duplicate 3OAS80 {'biocyc': 'RXN-9523', 'kegg.reaction': 'R04957', 'metanetx.reaction': 'MNXR109248', 'seed.compound': 'rxn05350'}\n",
      "duplicate PSD140 {'metanetx.reaction': 'MNXR135981', 'seed.compound': 'rxn09198'}\n",
      "duplicate LPLIPAL2E120 {'metanetx.reaction': 'MNXR135880', 'seed.compound': 'rxn08838'}\n",
      "original id and ecoli PEPDEPHOS-RXN_c0 PYK\n"
     ]
    },
    {
     "data": {
      "text/plain": [
       "{'CDC19', 'PYK', 'PYK2', 'PYKf', 'PYKm'}"
      ]
     },
     "execution_count": 14,
     "metadata": {},
     "output_type": "execute_result"
    },
    {
     "name": "stdout",
     "output_type": "stream",
     "text": [
      "newid PYK\n",
      "original id and ecoli GLY3KIN-RXN_c0 GLYCK\n"
     ]
    },
    {
     "data": {
      "text/plain": [
       "{'GLYCK', 'GLYPT', 'r0340'}"
      ]
     },
     "execution_count": 14,
     "metadata": {},
     "output_type": "execute_result"
    },
    {
     "name": "stdout",
     "output_type": "stream",
     "text": [
      "newid GLYCK\n",
      "original id and ecoli MNXR100034_c0 GAMptspp\n"
     ]
    },
    {
     "data": {
      "text/plain": [
       "{'GAMpts', 'GAMptspp'}"
      ]
     },
     "execution_count": 14,
     "metadata": {},
     "output_type": "execute_result"
    },
    {
     "name": "stdout",
     "output_type": "stream",
     "text": [
      "newid GAMptspp\n",
      "original id and ecoli DEPHOSPHOCOAKIN-RXN_c0 DPCOAK\n"
     ]
    },
    {
     "data": {
      "text/plain": [
       "{'DPCOAK', 'DPCOAKm', 'U96'}"
      ]
     },
     "execution_count": 14,
     "metadata": {},
     "output_type": "execute_result"
    },
    {
     "name": "stdout",
     "output_type": "stream",
     "text": [
      "newid DPCOAK\n",
      "duplicate ATPPRT {'bigg.reaction': 'ATPPRT', 'biocyc': 'ATPPHOSPHORIBOSYLTRANS-RXN', 'kegg.reaction': 'R01071', 'metanetx.reaction': 'MNXR96132', 'seed.compound': 'rxn00789'}\n",
      "original id and ecoli SPONTPRO-RXN_c0 G5SADs\n"
     ]
    },
    {
     "data": {
      "text/plain": [
       "{'G5SADr', 'G5SADrm', 'G5SADs', 'G5SADsi'}"
      ]
     },
     "execution_count": 14,
     "metadata": {},
     "output_type": "execute_result"
    },
    {
     "name": "stdout",
     "output_type": "stream",
     "text": [
      "newid G5SADs\n",
      "original id and ecoli MNXR99661_c0 FRUptspp\n"
     ]
    },
    {
     "data": {
      "text/plain": [
       "{'FRUpts', 'FRUptspp'}"
      ]
     },
     "execution_count": 14,
     "metadata": {},
     "output_type": "execute_result"
    },
    {
     "name": "stdout",
     "output_type": "stream",
     "text": [
      "newid FRUptspp\n",
      "duplicate NADH9 {'metanetx.reaction': 'MNXR135898', 'seed.compound': 'rxn08976'}\n",
      "original id and ecoli GAPOXNPHOSPHN-RXN_c0 GAPD\n"
     ]
    },
    {
     "data": {
      "text/plain": [
       "{'GAPD', 'GAPDHf', 'GAPDHh', 'GAPDHi', 'GAPDHm', 'GAPD_NAD'}"
      ]
     },
     "execution_count": 14,
     "metadata": {},
     "output_type": "execute_result"
    },
    {
     "name": "stdout",
     "output_type": "stream",
     "text": [
      "newid GAPD\n",
      "duplicate SPMDAT1 {'bigg.reaction': 'SPMDAT1', 'biocyc': 'SPERMACTRAN-RXN', 'metanetx.reaction': 'MNXR104491', 'seed.compound': 'rxn09264'}\n",
      "original id and ecoli TRANS-RXN-145_c0 EX_h2o_e\n"
     ]
    },
    {
     "data": {
      "text/plain": [
       "{'EX_h2o_e',\n",
       " 'EX_oh1_e',\n",
       " 'H2Ot',\n",
       " 'H2Ot5',\n",
       " 'H2Oter',\n",
       " 'H2Otex',\n",
       " 'H2Otf',\n",
       " 'H2Otg',\n",
       " 'H2Oth',\n",
       " 'H2Othu',\n",
       " 'H2Otly',\n",
       " 'H2Otm',\n",
       " 'H2Otn',\n",
       " 'H2Otn_1',\n",
       " 'H2Otp',\n",
       " 'H2Otpp',\n",
       " 'H2Ots',\n",
       " 'H2Otu_syn',\n",
       " 'H2Otv'}"
      ]
     },
     "execution_count": 14,
     "metadata": {},
     "output_type": "execute_result"
    },
    {
     "name": "stdout",
     "output_type": "stream",
     "text": [
      "original id and ecoli TRANS-RXN-145_c0 H2Otex\n"
     ]
    },
    {
     "data": {
      "text/plain": [
       "{'EX_h2o_e',\n",
       " 'EX_oh1_e',\n",
       " 'H2Ot',\n",
       " 'H2Ot5',\n",
       " 'H2Oter',\n",
       " 'H2Otex',\n",
       " 'H2Otf',\n",
       " 'H2Otg',\n",
       " 'H2Oth',\n",
       " 'H2Othu',\n",
       " 'H2Otly',\n",
       " 'H2Otm',\n",
       " 'H2Otn',\n",
       " 'H2Otn_1',\n",
       " 'H2Otp',\n",
       " 'H2Otpp',\n",
       " 'H2Ots',\n",
       " 'H2Otu_syn',\n",
       " 'H2Otv'}"
      ]
     },
     "execution_count": 14,
     "metadata": {},
     "output_type": "execute_result"
    },
    {
     "name": "stdout",
     "output_type": "stream",
     "text": [
      "newid H2Otex\n",
      "original id and ecoli H2Otex H2Otpp\n"
     ]
    },
    {
     "data": {
      "text/plain": [
       "{'EX_h2o_e',\n",
       " 'EX_oh1_e',\n",
       " 'H2Ot',\n",
       " 'H2Ot5',\n",
       " 'H2Oter',\n",
       " 'H2Otex',\n",
       " 'H2Otf',\n",
       " 'H2Otg',\n",
       " 'H2Oth',\n",
       " 'H2Othu',\n",
       " 'H2Otly',\n",
       " 'H2Otm',\n",
       " 'H2Otn',\n",
       " 'H2Otn_1',\n",
       " 'H2Otp',\n",
       " 'H2Otpp',\n",
       " 'H2Ots',\n",
       " 'H2Otu_syn',\n",
       " 'H2Otv'}"
      ]
     },
     "execution_count": 14,
     "metadata": {},
     "output_type": "execute_result"
    },
    {
     "name": "stdout",
     "output_type": "stream",
     "text": [
      "newid H2Otpp\n",
      "duplicate MI1PP {'bigg.reaction': 'MI1PP', 'biocyc': 'RXN0-5408', 'kegg.reaction': 'R01185', 'metanetx.reaction': 'MNXR101570', 'seed.compound': 'rxn00881'}\n",
      "original id and ecoli MNXR100285_c0 GLUt4pp\n"
     ]
    },
    {
     "data": {
      "text/plain": [
       "{'GLUNA1th', 'GLUNA1tm', 'GLUt4', 'GLUt4i', 'GLUt4pp'}"
      ]
     },
     "execution_count": 14,
     "metadata": {},
     "output_type": "execute_result"
    },
    {
     "name": "stdout",
     "output_type": "stream",
     "text": [
      "newid GLUt4pp\n",
      "original id and ecoli TRANS-RXN-300_c0 SUCCt2_3pp\n"
     ]
    },
    {
     "data": {
      "text/plain": [
       "{'SUCCt2_3', 'SUCCt2_3pp'}"
      ]
     },
     "execution_count": 14,
     "metadata": {},
     "output_type": "execute_result"
    },
    {
     "name": "stdout",
     "output_type": "stream",
     "text": [
      "newid SUCCt2_3pp\n",
      "duplicate SPMDAT2 {'bigg.reaction': 'SPMDAT2', 'biocyc': 'RXN0-7165', 'metanetx.reaction': 'MNXR104492', 'seed.compound': 'rxn09265'}\n",
      "duplicate DHORD5 {'bigg.reaction': 'DHORD5', 'metanetx.reaction': 'MNXR97421', 'seed.compound': 'rxn08336'}\n",
      "original id and ecoli UROGENIIISYN-RXN_c0 UPP3S\n"
     ]
    },
    {
     "data": {
      "text/plain": [
       "{'HEM4', 'UPP3S', 'UPP3S_1'}"
      ]
     },
     "execution_count": 14,
     "metadata": {},
     "output_type": "execute_result"
    },
    {
     "name": "stdout",
     "output_type": "stream",
     "text": [
      "newid UPP3S\n",
      "duplicate PSD180 {'bigg.reaction': 'PSD180', 'metanetx.reaction': 'MNXR103234', 'seed.compound': 'rxn09202'}\n",
      "original id and ecoli RXN-11662_c0 HACD1\n"
     ]
    },
    {
     "data": {
      "text/plain": [
       "{'HACD1', 'HACD1_1', 'HACD1_2', 'HACD1i', 'HACD1m', 'HACD1x', 'HBCOm'}"
      ]
     },
     "execution_count": 14,
     "metadata": {},
     "output_type": "execute_result"
    },
    {
     "name": "stdout",
     "output_type": "stream",
     "text": [
      "newid HACD1\n",
      "original id and ecoli ADENYL-KIN-RXN_c0 ADK1\n"
     ]
    },
    {
     "data": {
      "text/plain": [
       "{'ADK1', 'ADK1_1', 'ADK1m', 'ATAMh'}"
      ]
     },
     "execution_count": 14,
     "metadata": {},
     "output_type": "execute_result"
    },
    {
     "name": "stdout",
     "output_type": "stream",
     "text": [
      "newid ADK1\n",
      "original id and ecoli 3-DEHYDROQUINATE-SYNTHASE-RXN_c0 DHQS\n"
     ]
    },
    {
     "data": {
      "text/plain": [
       "{'ARO1_1', 'DHQS', 'DHQS_1'}"
      ]
     },
     "execution_count": 14,
     "metadata": {},
     "output_type": "execute_result"
    },
    {
     "name": "stdout",
     "output_type": "stream",
     "text": [
      "newid DHQS\n",
      "original id and ecoli GLUC1PADENYLTRANS-RXN_c0 GLGC\n"
     ]
    },
    {
     "data": {
      "text/plain": [
       "{'GLGC', 'GLGCr', 'GLPThi'}"
      ]
     },
     "execution_count": 14,
     "metadata": {},
     "output_type": "execute_result"
    },
    {
     "name": "stdout",
     "output_type": "stream",
     "text": [
      "newid GLGC\n",
      "original id and ecoli DDMAT5 EAR120x\n"
     ]
    },
    {
     "data": {
      "text/plain": [
       "{'DDMAT5', 'EAR120x'}"
      ]
     },
     "execution_count": 14,
     "metadata": {},
     "output_type": "execute_result"
    },
    {
     "name": "stdout",
     "output_type": "stream",
     "text": [
      "newid EAR120x\n",
      "original id and ecoli MNXR100142_c0 GHMT2r\n"
     ]
    },
    {
     "data": {
      "text/plain": [
       "{'GHMT', 'GHMT2', 'GHMT2r', 'GHMT2rm', 'SHM2'}"
      ]
     },
     "execution_count": 14,
     "metadata": {},
     "output_type": "execute_result"
    },
    {
     "name": "stdout",
     "output_type": "stream",
     "text": [
      "newid GHMT2r\n",
      "original id and ecoli HISTIDPHOS-RXN_c0 HISTP\n"
     ]
    },
    {
     "data": {
      "text/plain": [
       "{'HIS2', 'HISTP', 'HP', 'HPh'}"
      ]
     },
     "execution_count": 14,
     "metadata": {},
     "output_type": "execute_result"
    },
    {
     "name": "stdout",
     "output_type": "stream",
     "text": [
      "newid HISTP\n",
      "duplicate LPLIPAL1A181pp {'metanetx.reaction': 'MNXR135846', 'seed.compound': 'rxn08802'}\n",
      "original id and ecoli RXN-7609_c0 NTD9\n"
     ]
    },
    {
     "data": {
      "text/plain": [
       "{'GMP5N', 'NTD9', 'NTD9e', 'NTD9l', 'NTD9pp', 'U31'}"
      ]
     },
     "execution_count": 14,
     "metadata": {},
     "output_type": "execute_result"
    },
    {
     "name": "stdout",
     "output_type": "stream",
     "text": [
      "newid NTD9\n",
      "original id and ecoli NTD9 NTD9pp\n"
     ]
    },
    {
     "data": {
      "text/plain": [
       "{'GMP5N', 'NTD9', 'NTD9e', 'NTD9l', 'NTD9pp', 'U31'}"
      ]
     },
     "execution_count": 14,
     "metadata": {},
     "output_type": "execute_result"
    },
    {
     "name": "stdout",
     "output_type": "stream",
     "text": [
      "newid NTD9pp\n",
      "duplicate TDPGDH {'bigg.reaction': 'TDPGDH', 'biocyc': 'DTDPGLUCDEHYDRAT-RXN', 'kegg.reaction': 'R06513', 'metanetx.reaction': 'MNXR104761', 'seed.compound': 'rxn01997'}\n",
      "duplicate FLVRx {'bigg.reaction': 'FLVRx', 'kegg.reaction': 'R09750', 'metanetx.reaction': 'MNXR99602', 'seed.compound': 'rxn08521'}\n",
      "duplicate LPLIPAL1E181pp {'metanetx.reaction': 'MNXR135853', 'seed.compound': 'rxn08809'}\n",
      "original id and ecoli ACETALD-DEHYDROG-RXN_c0 ACALD\n"
     ]
    },
    {
     "data": {
      "text/plain": [
       "{'ACALD', 'ACALDh', 'ACALDi'}"
      ]
     },
     "execution_count": 14,
     "metadata": {},
     "output_type": "execute_result"
    },
    {
     "name": "stdout",
     "output_type": "stream",
     "text": [
      "newid ACALD\n",
      "original id and ecoli DXPREDISOM-RXN_c0 DXPRIi\n"
     ]
    },
    {
     "data": {
      "text/plain": [
       "{'DXPRI', 'DXPRIi', 'DXRI'}"
      ]
     },
     "execution_count": 14,
     "metadata": {},
     "output_type": "execute_result"
    },
    {
     "name": "stdout",
     "output_type": "stream",
     "text": [
      "newid DXPRIi\n",
      "original id and ecoli ACETYL-COA-ACETYLTRANSFER-RXN_c0 ACACT1r\n"
     ]
    },
    {
     "data": {
      "text/plain": [
       "{'AACOAT', 'ACACT1', 'ACACT1m', 'ACACT1r', 'ACACT1x', 'ERG10', 'KAT1'}"
      ]
     },
     "execution_count": 14,
     "metadata": {},
     "output_type": "execute_result"
    },
    {
     "name": "stdout",
     "output_type": "stream",
     "text": [
      "newid ACACT1r\n",
      "duplicate ORPT {'bigg.reaction': 'ORPT', 'biocyc': 'OROPRIBTRANS-RXN', 'kegg.reaction': 'R01870', 'metanetx.reaction': 'MNXR102231', 'seed.compound': 'rxn01362'}\n",
      "original id and ecoli MNXR104805_c0 THD2pp\n"
     ]
    },
    {
     "data": {
      "text/plain": [
       "{'THD2', 'THD2pp'}"
      ]
     },
     "execution_count": 14,
     "metadata": {},
     "output_type": "execute_result"
    },
    {
     "name": "stdout",
     "output_type": "stream",
     "text": [
      "newid THD2pp\n",
      "original id and ecoli ABC-35-RXN_c0 LEUabcpp\n"
     ]
    },
    {
     "data": {
      "text/plain": [
       "{'LEUabc', 'LEUabcpp'}"
      ]
     },
     "execution_count": 14,
     "metadata": {},
     "output_type": "execute_result"
    },
    {
     "name": "stdout",
     "output_type": "stream",
     "text": [
      "newid LEUabcpp\n",
      "duplicate FBP {'kegg.reaction': 'R00762', 'metanetx.reaction': 'MNXR106670', 'seed.compound': 'rxn00549'}\n",
      "original id and ecoli RXN66-3_c0 ALDD2x\n"
     ]
    },
    {
     "data": {
      "text/plain": [
       "{'ALD2', 'ALD3', 'ALDD2x', 'ALDD2xm', 'ALDD2xr'}"
      ]
     },
     "execution_count": 14,
     "metadata": {},
     "output_type": "execute_result"
    },
    {
     "name": "stdout",
     "output_type": "stream",
     "text": [
      "newid ALDD2x\n",
      "original id and ecoli 1.1.1.178-RXN_c0 HACD8\n"
     ]
    },
    {
     "data": {
      "text/plain": [
       "{'3H2MBCOAD', 'HACD8', 'HACD9', 'HACD9m'}"
      ]
     },
     "execution_count": 14,
     "metadata": {},
     "output_type": "execute_result"
    },
    {
     "name": "stdout",
     "output_type": "stream",
     "text": [
      "newid HACD8\n",
      "##in ANS ANTHRANSYN-RXN_c0\n",
      "original id and ecoli MNXR101677_c0 MNLptspp\n"
     ]
    },
    {
     "data": {
      "text/plain": [
       "{'MNLpts', 'MNLptspp'}"
      ]
     },
     "execution_count": 14,
     "metadata": {},
     "output_type": "execute_result"
    },
    {
     "name": "stdout",
     "output_type": "stream",
     "text": [
      "newid MNLptspp\n",
      "original id and ecoli MNXR101055_c0 LEUt2rpp\n"
     ]
    },
    {
     "data": {
      "text/plain": [
       "{'AGP1_7',\n",
       " 'BAP2_3',\n",
       " 'BAP3_3',\n",
       " 'GAP1_11',\n",
       " 'GNP1_4',\n",
       " 'LEUt2',\n",
       " 'LEUt2r',\n",
       " 'LEUt2rpp',\n",
       " 'LEUt7',\n",
       " 'LEUth',\n",
       " 'LEUtm',\n",
       " 'TAT1_2',\n",
       " 'VAP1_4'}"
      ]
     },
     "execution_count": 14,
     "metadata": {},
     "output_type": "execute_result"
    },
    {
     "name": "stdout",
     "output_type": "stream",
     "text": [
      "newid LEUt2rpp\n",
      "duplicate GGGABADr {'bigg.reaction': 'GGGABADr', 'kegg.reaction': 'R07418', 'metanetx.reaction': 'MNXR100113', 'seed.compound': 'rxn05127'}\n",
      "original id and ecoli MNXR102565_c0 PGPP161\n"
     ]
    },
    {
     "data": {
      "text/plain": [
       "{'PGPP161', 'PGPP161pp'}"
      ]
     },
     "execution_count": 14,
     "metadata": {},
     "output_type": "execute_result"
    },
    {
     "name": "stdout",
     "output_type": "stream",
     "text": [
      "newid PGPP161\n",
      "original id and ecoli PGPP161 PGPP161pp\n"
     ]
    },
    {
     "data": {
      "text/plain": [
       "{'PGPP161', 'PGPP161pp'}"
      ]
     },
     "execution_count": 14,
     "metadata": {},
     "output_type": "execute_result"
    },
    {
     "name": "stdout",
     "output_type": "stream",
     "text": [
      "newid PGPP161pp\n",
      "original id and ecoli RXN-14142_c0 NTD8\n"
     ]
    },
    {
     "data": {
      "text/plain": [
       "{'NTD8', 'NTD8l', 'NTD8pp', 'U27'}"
      ]
     },
     "execution_count": 14,
     "metadata": {},
     "output_type": "execute_result"
    },
    {
     "name": "stdout",
     "output_type": "stream",
     "text": [
      "newid NTD8\n",
      "original id and ecoli NTD8 NTD8pp\n"
     ]
    },
    {
     "data": {
      "text/plain": [
       "{'NTD8', 'NTD8l', 'NTD8pp', 'U27'}"
      ]
     },
     "execution_count": 14,
     "metadata": {},
     "output_type": "execute_result"
    },
    {
     "name": "stdout",
     "output_type": "stream",
     "text": [
      "newid NTD8pp\n",
      "original id and ecoli MNXR99877_c0 G3PD2\n"
     ]
    },
    {
     "data": {
      "text/plain": [
       "{'G3PD2', 'G3PD2_1', 'G3PD2_2'}"
      ]
     },
     "execution_count": 14,
     "metadata": {},
     "output_type": "execute_result"
    },
    {
     "name": "stdout",
     "output_type": "stream",
     "text": [
      "newid G3PD2\n",
      "original id and ecoli MNXR96656_c0 CGLYabcpp\n"
     ]
    },
    {
     "data": {
      "text/plain": [
       "{'CGLYabcpp', 'DIPEPabc15'}"
      ]
     },
     "execution_count": 14,
     "metadata": {},
     "output_type": "execute_result"
    },
    {
     "name": "stdout",
     "output_type": "stream",
     "text": [
      "newid CGLYabcpp\n",
      "duplicate LPLIPAL2E160 {'bigg.reaction': 'LPLIPAL2E160', 'metanetx.reaction': 'MNXR101186', 'seed.compound': 'rxn08841'}\n",
      "duplicate AGPAT120 {'metanetx.reaction': 'MNXR135724', 'seed.compound': 'rxn08083'}\n",
      "original id and ecoli 1.13.11.16-RXN_c0 HPPPNDO\n"
     ]
    },
    {
     "data": {
      "text/plain": [
       "{'HPPPNDO', 'HPPPNDO_1'}"
      ]
     },
     "execution_count": 14,
     "metadata": {},
     "output_type": "execute_result"
    },
    {
     "name": "stdout",
     "output_type": "stream",
     "text": [
      "newid HPPPNDO\n",
      "original id and ecoli RXN-9615_c0 NH4tex\n"
     ]
    },
    {
     "data": {
      "text/plain": [
       "{'NH3t', 'NH4t', 'NH4tex', 'NH4ti', 'NH4tm', 'NH4tn', 'NH4tp', 'NH4tpp'}"
      ]
     },
     "execution_count": 14,
     "metadata": {},
     "output_type": "execute_result"
    },
    {
     "name": "stdout",
     "output_type": "stream",
     "text": [
      "newid NH4tex\n",
      "original id and ecoli NH4tex NH4tpp\n"
     ]
    },
    {
     "data": {
      "text/plain": [
       "{'NH3t', 'NH4t', 'NH4tex', 'NH4ti', 'NH4tm', 'NH4tn', 'NH4tp', 'NH4tpp'}"
      ]
     },
     "execution_count": 14,
     "metadata": {},
     "output_type": "execute_result"
    },
    {
     "name": "stdout",
     "output_type": "stream",
     "text": [
      "newid NH4tpp\n",
      "duplicate LPLIPAL1G161pp {'metanetx.reaction': 'MNXR135858', 'seed.compound': 'rxn08814'}\n",
      "duplicate LPLIPAL2G120 {'metanetx.reaction': 'MNXR135885', 'seed.compound': 'rxn08845'}\n",
      "duplicate ARAI {'biocyc': 'ARABISOM-RXN', 'kegg.reaction': 'R01761', 'metanetx.reaction': 'MNXR107160', 'seed.compound': 'rxn01292'}\n",
      "duplicate GTPCII2 {'bigg.reaction': 'GTPCII2', 'biocyc': 'GTP-CYCLOHYDRO-II-RXN', 'kegg.reaction': 'R00425', 'metanetx.reaction': 'MNXR100455', 'seed.compound': 'rxn00300'}\n",
      "duplicate L_LACD2 {'bigg.reaction': 'L_LACD2', 'metanetx.reaction': 'MNXR101273', 'seed.compound': 'rxn08792'}\n",
      "original id and ecoli MNXR95946_c0 ARGORNt7pp\n"
     ]
    },
    {
     "data": {
      "text/plain": [
       "{'ARGORNt7', 'ARGORNt7pp', 'ORNtm'}"
      ]
     },
     "execution_count": 14,
     "metadata": {},
     "output_type": "execute_result"
    },
    {
     "name": "stdout",
     "output_type": "stream",
     "text": [
      "newid ARGORNt7pp\n",
      "duplicate LPLIPAL1A160pp {'bigg.reaction': 'LPLIPAL1A160pp', 'metanetx.reaction': 'MNXR101144', 'seed.compound': 'rxn08799'}\n",
      "##in SARCOX SARCOX-RXN_c0\n",
      "original id and ecoli RXN-9537_c0 3HAD140\n"
     ]
    },
    {
     "data": {
      "text/plain": [
       "{'3HAD140', '3HAD140_1'}"
      ]
     },
     "execution_count": 14,
     "metadata": {},
     "output_type": "execute_result"
    },
    {
     "name": "stdout",
     "output_type": "stream",
     "text": [
      "newid 3HAD140\n",
      "duplicate G3PAT180 {'metanetx.reaction': 'MNXR135829', 'seed.compound': 'rxn08551'}\n",
      "original id and ecoli 2-METHYLCITRATE-SYNTHASE-RXN_c0 MCITS\n"
     ]
    },
    {
     "data": {
      "text/plain": [
       "{'MCITS', 'MCITSm'}"
      ]
     },
     "execution_count": 14,
     "metadata": {},
     "output_type": "execute_result"
    },
    {
     "name": "stdout",
     "output_type": "stream",
     "text": [
      "newid MCITS\n",
      "original id and ecoli 3.1.4.2-RXN_c0 GPDDA1\n"
     ]
    },
    {
     "data": {
      "text/plain": [
       "{'GPDDA1', 'GPDDA1pp'}"
      ]
     },
     "execution_count": 14,
     "metadata": {},
     "output_type": "execute_result"
    },
    {
     "name": "stdout",
     "output_type": "stream",
     "text": [
      "newid GPDDA1\n",
      "original id and ecoli GPDDA1 GPDDA1pp\n"
     ]
    },
    {
     "data": {
      "text/plain": [
       "{'GPDDA1', 'GPDDA1pp'}"
      ]
     },
     "execution_count": 14,
     "metadata": {},
     "output_type": "execute_result"
    },
    {
     "name": "stdout",
     "output_type": "stream",
     "text": [
      "newid GPDDA1pp\n",
      "original id and ecoli MNXR99504_c0 FE2abcpp\n"
     ]
    },
    {
     "data": {
      "text/plain": [
       "{'FE2abc', 'FE2abcpp'}"
      ]
     },
     "execution_count": 14,
     "metadata": {},
     "output_type": "execute_result"
    },
    {
     "name": "stdout",
     "output_type": "stream",
     "text": [
      "newid FE2abcpp\n",
      "duplicate PGSA160 {'bigg.reaction': 'PGSA160', 'metanetx.reaction': 'MNXR102592', 'seed.compound': 'rxn09111'}\n",
      "original id and ecoli MNXR101363_c0 MALTptspp\n"
     ]
    },
    {
     "data": {
      "text/plain": [
       "{'MALTpts', 'MALTptspp'}"
      ]
     },
     "execution_count": 14,
     "metadata": {},
     "output_type": "execute_result"
    },
    {
     "name": "stdout",
     "output_type": "stream",
     "text": [
      "newid MALTptspp\n",
      "duplicate 3OAS120 {'biocyc': 'RXN-9531', 'kegg.reaction': 'R04963', 'metanetx.reaction': 'MNXR109254', 'seed.compound': 'rxn05348'}\n",
      "original id and ecoli RXN-13616_c0 ECOAH4\n"
     ]
    },
    {
     "data": {
      "text/plain": [
       "{'ECOAH4', 'ECOAH4_1', 'ECOAH4m', 'ECOAH4p'}"
      ]
     },
     "execution_count": 14,
     "metadata": {},
     "output_type": "execute_result"
    },
    {
     "name": "stdout",
     "output_type": "stream",
     "text": [
      "newid ECOAH4\n",
      "original id and ecoli MNXR101749_c0 MTHFD\n"
     ]
    },
    {
     "data": {
      "text/plain": [
       "{'ADE3_1', 'MTHFD', 'MTHFD_1', 'MTHFDm', 'MTHFDm_1'}"
      ]
     },
     "execution_count": 14,
     "metadata": {},
     "output_type": "execute_result"
    },
    {
     "name": "stdout",
     "output_type": "stream",
     "text": [
      "newid MTHFD\n",
      "duplicate DAGK181 {'metanetx.reaction': 'MNXR135771', 'seed.compound': 'rxn08300'}\n",
      "duplicate DAGK160 {'metanetx.reaction': 'MNXR135768', 'seed.compound': 'rxn08297'}\n",
      "original id and ecoli MNXR97890_c0 ECOAH5\n"
     ]
    },
    {
     "data": {
      "text/plain": [
       "{'ECOAH5', 'ECOAH5_1', 'ECOAH5_2', 'ECOAH5m', 'ECOAH5p'}"
      ]
     },
     "execution_count": 14,
     "metadata": {},
     "output_type": "execute_result"
    },
    {
     "name": "stdout",
     "output_type": "stream",
     "text": [
      "newid ECOAH5\n",
      "original id and ecoli RXN0-5289_c0 TRSARr\n"
     ]
    },
    {
     "data": {
      "text/plain": [
       "{'HOXPRm', 'HOXPRx', 'TRSAR', 'TRSARr'}"
      ]
     },
     "execution_count": 14,
     "metadata": {},
     "output_type": "execute_result"
    },
    {
     "name": "stdout",
     "output_type": "stream",
     "text": [
      "newid TRSARr\n",
      "original id and ecoli TRANS-RXN-131_c0 GLYCtex\n"
     ]
    },
    {
     "data": {
      "text/plain": [
       "{'FPS1', 'GLYCt', 'GLYCt1', 'GLYCt5', 'GLYCtex', 'GLYCtm', 'GLYCtpp'}"
      ]
     },
     "execution_count": 14,
     "metadata": {},
     "output_type": "execute_result"
    },
    {
     "name": "stdout",
     "output_type": "stream",
     "text": [
      "newid GLYCtex\n",
      "original id and ecoli GLYCtex GLYCtpp\n"
     ]
    },
    {
     "data": {
      "text/plain": [
       "{'FPS1', 'GLYCt', 'GLYCt1', 'GLYCt5', 'GLYCtex', 'GLYCtm', 'GLYCtpp'}"
      ]
     },
     "execution_count": 14,
     "metadata": {},
     "output_type": "execute_result"
    },
    {
     "name": "stdout",
     "output_type": "stream",
     "text": [
      "newid GLYCtpp\n",
      "duplicate TPRDCOAS {'bigg.reaction': 'TPRDCOAS', 'biocyc': '2.7.8.25-RXN', 'kegg.reaction': 'R09675', 'metanetx.reaction': 'MNXR104920', 'seed.compound': 'rxn09320'}\n",
      "duplicate PGSA181 {'metanetx.reaction': 'MNXR135940', 'seed.compound': 'rxn09114'}\n",
      "original id and ecoli MNXR103187_c0 PROD2\n"
     ]
    },
    {
     "data": {
      "text/plain": [
       "{'PRO1z', 'PROD2', 'PROD2m'}"
      ]
     },
     "execution_count": 14,
     "metadata": {},
     "output_type": "execute_result"
    },
    {
     "name": "stdout",
     "output_type": "stream",
     "text": [
      "newid PROD2\n",
      "duplicate PPPGO3 {'bigg.reaction': 'PPPGO3', 'metanetx.reaction': 'MNXR103130', 'seed.compound': 'rxn09180'}\n",
      "duplicate LPLIPAL2A180 {'bigg.reaction': 'LPLIPAL2A180', 'metanetx.reaction': 'MNXR101167', 'seed.compound': 'rxn08822'}\n",
      "duplicate FCLPA {'bigg.reaction': 'FCLPA', 'biocyc': 'FUCPALDOL-RXN', 'kegg.reaction': 'R02262', 'metanetx.reaction': 'MNXR99470', 'seed.compound': 'rxn01620'}\n",
      "duplicate 3OAS140 {'biocyc': 'RXN-9535', 'kegg.reaction': 'R04726', 'metanetx.reaction': 'MNXR109082', 'seed.compound': 'rxn05345'}\n",
      "original id and ecoli RXN0-901_c0 XAND\n"
     ]
    },
    {
     "data": {
      "text/plain": [
       "{'XAND', 'XANDb', 'XANDp'}"
      ]
     },
     "execution_count": 14,
     "metadata": {},
     "output_type": "execute_result"
    },
    {
     "name": "stdout",
     "output_type": "stream",
     "text": [
      "newid XAND\n",
      "original id and ecoli MNXR100789_c0 ICL\n"
     ]
    },
    {
     "data": {
      "text/plain": [
       "{'ICL', 'ICL1', 'ICL2', 'ICL_1'}"
      ]
     },
     "execution_count": 14,
     "metadata": {},
     "output_type": "execute_result"
    },
    {
     "name": "stdout",
     "output_type": "stream",
     "text": [
      "newid ICL\n",
      "original id and ecoli DIHYDROOROT-RXN_c0 DHORTS\n"
     ]
    },
    {
     "data": {
      "text/plain": [
       "{'DH or TS', 'DHORTS', 'DHORTSn', 'DHR', 'URA4'}"
      ]
     },
     "execution_count": 14,
     "metadata": {},
     "output_type": "execute_result"
    },
    {
     "name": "stdout",
     "output_type": "stream",
     "text": [
      "newid DHORTS\n",
      "original id and ecoli ABC-27-RXN_c0 PIuabcpp\n"
     ]
    },
    {
     "data": {
      "text/plain": [
       "{'PIabc', 'PIuabcpp'}"
      ]
     },
     "execution_count": 14,
     "metadata": {},
     "output_type": "execute_result"
    },
    {
     "name": "stdout",
     "output_type": "stream",
     "text": [
      "newid PIuabcpp\n",
      "original id and ecoli ASPARTATE-SEMIALDEHYDE-DEHYDROGENASE-RXN_c0 ASAD\n"
     ]
    },
    {
     "data": {
      "text/plain": [
       "{'ASAD', 'ASADH', 'ASADi', 'HOM2'}"
      ]
     },
     "execution_count": 14,
     "metadata": {},
     "output_type": "execute_result"
    },
    {
     "name": "stdout",
     "output_type": "stream",
     "text": [
      "newid ASAD\n",
      "duplicate CINNDO {'bigg.reaction': 'CINNDO', 'kegg.reaction': 'R06783', 'metanetx.reaction': 'MNXR96722', 'seed.compound': 'rxn04598'}\n",
      "original id and ecoli PPPGPPHYDRO-RXN_c0 GTPDPDP\n"
     ]
    },
    {
     "data": {
      "text/plain": [
       "{'EPPP2', 'GDPT', 'GDTP', 'GTPDPDP'}"
      ]
     },
     "execution_count": 14,
     "metadata": {},
     "output_type": "execute_result"
    },
    {
     "name": "stdout",
     "output_type": "stream",
     "text": [
      "newid GTPDPDP\n",
      "original id and ecoli MALATE-DEH-RXN_c0 MDH\n"
     ]
    },
    {
     "data": {
      "text/plain": [
       "{'MDH', 'MDHf', 'MDHh', 'MDHi2', 'MDHm', 'MDHm_1', 'MDHp', 'MDHx'}"
      ]
     },
     "execution_count": 14,
     "metadata": {},
     "output_type": "execute_result"
    },
    {
     "name": "stdout",
     "output_type": "stream",
     "text": [
      "newid MDH\n",
      "duplicate LPLIPAL2E181 {'metanetx.reaction': 'MNXR135884', 'seed.compound': 'rxn08844'}\n",
      "duplicate CYTDK2 {'bigg.reaction': 'CYTDK2', 'biocyc': 'CYTIDINEKIN-RXN', 'kegg.reaction': 'R00517', 'metanetx.reaction': 'MNXR97042', 'seed.compound': 'rxn00369'}\n",
      "original id and ecoli MNXR100295_c0 GLUTRS\n"
     ]
    },
    {
     "data": {
      "text/plain": [
       "{'GLUTRS', 'GLUTRS_1', 'GLUTRSm'}"
      ]
     },
     "execution_count": 14,
     "metadata": {},
     "output_type": "execute_result"
    },
    {
     "name": "stdout",
     "output_type": "stream",
     "text": [
      "newid GLUTRS\n",
      "original id and ecoli ACETYLORNTRANSAM-RXN_c0 ACOTA\n"
     ]
    },
    {
     "data": {
      "text/plain": [
       "{'ACOTA', 'ACOTAim', 'AOTA'}"
      ]
     },
     "execution_count": 14,
     "metadata": {},
     "output_type": "execute_result"
    },
    {
     "name": "stdout",
     "output_type": "stream",
     "text": [
      "newid ACOTA\n",
      "original id and ecoli RXN-14025_c0 NTD2\n"
     ]
    },
    {
     "data": {
      "text/plain": [
       "{'NTD2', 'NTD2e', 'NTD2l', 'NTD2m', 'NTD2pp', 'U34'}"
      ]
     },
     "execution_count": 14,
     "metadata": {},
     "output_type": "execute_result"
    },
    {
     "name": "stdout",
     "output_type": "stream",
     "text": [
      "newid NTD2\n",
      "original id and ecoli NTD2 NTD2pp\n"
     ]
    },
    {
     "data": {
      "text/plain": [
       "{'NTD2', 'NTD2e', 'NTD2l', 'NTD2m', 'NTD2pp', 'U34'}"
      ]
     },
     "execution_count": 14,
     "metadata": {},
     "output_type": "execute_result"
    },
    {
     "name": "stdout",
     "output_type": "stream",
     "text": [
      "newid NTD2pp\n",
      "original id and ecoli METHYLISOCITRATE-LYASE-RXN_c0 MCITL2\n"
     ]
    },
    {
     "data": {
      "text/plain": [
       "{'MCITL2', 'MCITL2m', 'MCL', 'MICITL'}"
      ]
     },
     "execution_count": 14,
     "metadata": {},
     "output_type": "execute_result"
    },
    {
     "name": "stdout",
     "output_type": "stream",
     "text": [
      "newid MCITL2\n",
      "original id and ecoli RIBOFLAVINKIN-RXN_c0 RBFK\n"
     ]
    },
    {
     "data": {
      "text/plain": [
       "{'FMN1_1', 'RBFK', 'RBFKm'}"
      ]
     },
     "execution_count": 14,
     "metadata": {},
     "output_type": "execute_result"
    },
    {
     "name": "stdout",
     "output_type": "stream",
     "text": [
      "newid RBFK\n",
      "original id and ecoli TRIOSEPISOMERIZATION-RXN_c0 TPI\n"
     ]
    },
    {
     "data": {
      "text/plain": [
       "{'TPI', 'TPIh'}"
      ]
     },
     "execution_count": 14,
     "metadata": {},
     "output_type": "execute_result"
    },
    {
     "name": "stdout",
     "output_type": "stream",
     "text": [
      "newid TPI\n",
      "original id and ecoli SEDOBISALDOL-RXN_c0 FBA3\n"
     ]
    },
    {
     "data": {
      "text/plain": [
       "{'FBA3', 'FBA3hi'}"
      ]
     },
     "execution_count": 14,
     "metadata": {},
     "output_type": "execute_result"
    },
    {
     "name": "stdout",
     "output_type": "stream",
     "text": [
      "newid FBA3\n",
      "original id and ecoli IPPISOM-RXN_c0 IPDDI\n"
     ]
    },
    {
     "data": {
      "text/plain": [
       "{'IDI1', 'IDIh', 'IPDDI', 'IPDDIi', 'IPDDIx'}"
      ]
     },
     "execution_count": 14,
     "metadata": {},
     "output_type": "execute_result"
    },
    {
     "name": "stdout",
     "output_type": "stream",
     "text": [
      "newid IPDDI\n",
      "original id and ecoli RXN0-4522_c0 METabcpp\n"
     ]
    },
    {
     "data": {
      "text/plain": [
       "{'METabc', 'METabcpp'}"
      ]
     },
     "execution_count": 14,
     "metadata": {},
     "output_type": "execute_result"
    },
    {
     "name": "stdout",
     "output_type": "stream",
     "text": [
      "newid METabcpp\n",
      "original id and ecoli PORPHOBILSYNTH-RXN_c0 PPBNGS\n"
     ]
    },
    {
     "data": {
      "text/plain": [
       "{'HEM2', 'PPBNGS', 'PPBNGS_1'}"
      ]
     },
     "execution_count": 14,
     "metadata": {},
     "output_type": "execute_result"
    },
    {
     "name": "stdout",
     "output_type": "stream",
     "text": [
      "newid PPBNGS\n",
      "original id and ecoli RXN-12507_c0 HACD6\n"
     ]
    },
    {
     "data": {
      "text/plain": [
       "{'HACD6', 'HACD6_1', 'HACD6i', 'HACD6m', 'HACD6p'}"
      ]
     },
     "execution_count": 14,
     "metadata": {},
     "output_type": "execute_result"
    },
    {
     "name": "stdout",
     "output_type": "stream",
     "text": [
      "newid HACD6\n",
      "original id and ecoli PANTEPADENYLYLTRAN-RXN_c0 PTPATi\n"
     ]
    },
    {
     "data": {
      "text/plain": [
       "{'APPAT', 'PTPAT', 'PTPATe', 'PTPATi', 'PTPATim', 'U94'}"
      ]
     },
     "execution_count": 14,
     "metadata": {},
     "output_type": "execute_result"
    },
    {
     "name": "stdout",
     "output_type": "stream",
     "text": [
      "newid PTPATi\n",
      "original id and ecoli TRANS-RXN-108C_c0 DADNt2pp\n"
     ]
    },
    {
     "data": {
      "text/plain": [
       "{'DADNt2', 'DADNt2pp', 'U182', 'U188', 'U198'}"
      ]
     },
     "execution_count": 14,
     "metadata": {},
     "output_type": "execute_result"
    },
    {
     "name": "stdout",
     "output_type": "stream",
     "text": [
      "newid DADNt2pp\n",
      "original id and ecoli HISTCYCLOHYD-RXN_c0 PRAMPC\n"
     ]
    },
    {
     "data": {
      "text/plain": [
       "{'HIS4_2', 'PRACHh', 'PRAMPC', 'PRAMPC_1'}"
      ]
     },
     "execution_count": 14,
     "metadata": {},
     "output_type": "execute_result"
    },
    {
     "name": "stdout",
     "output_type": "stream",
     "text": [
      "newid PRAMPC\n",
      "duplicate EDA {'bigg.reaction': 'EDA', 'biocyc': 'KDPGALDOL-RXN', 'kegg.reaction': 'R05605', 'metanetx.reaction': 'MNXR97897', 'seed.compound': 'rxn03884'}\n",
      "duplicate G1PTT {'bigg.reaction': 'G1PTT', 'biocyc': 'DTDPGLUCOSEPP-RXN', 'kegg.reaction': 'R02328', 'metanetx.reaction': 'MNXR99846', 'seed.compound': 'rxn01675'}\n",
      "original id and ecoli GLYOXYLATE-REDUCTASE-NADP+-RXN_c0 GLYCLTDy\n"
     ]
    },
    {
     "data": {
      "text/plain": [
       "{'GLYCLTDy', 'GLYCLTDym', 'GLYCLTDyr'}"
      ]
     },
     "execution_count": 14,
     "metadata": {},
     "output_type": "execute_result"
    },
    {
     "name": "stdout",
     "output_type": "stream",
     "text": [
      "newid GLYCLTDy\n",
      "duplicate LPLIPAL2E140 {'metanetx.reaction': 'MNXR135881', 'seed.compound': 'rxn08839'}\n",
      "duplicate ADOCBIK {'bigg.reaction': 'ADOCBIK', 'biocyc': 'COBINAMIDEKIN-RXN', 'kegg.reaction': 'R05221', 'metanetx.reaction': 'MNXR95465', 'seed.compound': 'rxn03536'}\n",
      "original id and ecoli BRANCHED-CHAINAMINOTRANSFERILEU-RXN_c0 ILETA\n"
     ]
    },
    {
     "data": {
      "text/plain": [
       "{'BAT2_1', 'BCTA', 'BCTAh', 'ILETA', 'ILETAm'}"
      ]
     },
     "execution_count": 14,
     "metadata": {},
     "output_type": "execute_result"
    },
    {
     "name": "stdout",
     "output_type": "stream",
     "text": [
      "newid ILETA\n",
      "original id and ecoli ABC-63-RXN_c0 ZNabcpp\n"
     ]
    },
    {
     "data": {
      "text/plain": [
       "{'ZN2abc2', 'ZNabc', 'ZNabcpp'}"
      ]
     },
     "execution_count": 14,
     "metadata": {},
     "output_type": "execute_result"
    },
    {
     "name": "stdout",
     "output_type": "stream",
     "text": [
      "newid ZNabcpp\n",
      "duplicate BETALDHy {'bigg.reaction': 'BETALDHy', 'kegg.reaction': 'R02566', 'metanetx.reaction': 'MNXR96238', 'seed.compound': 'rxn01868'}\n",
      "original id and ecoli RXN-14272_c0 ECOAH7\n"
     ]
    },
    {
     "data": {
      "text/plain": [
       "{'ECOAH7', 'ECOAH7_1', 'ECOAH7m', 'ECOAH7p'}"
      ]
     },
     "execution_count": 14,
     "metadata": {},
     "output_type": "execute_result"
    },
    {
     "name": "stdout",
     "output_type": "stream",
     "text": [
      "newid ECOAH7\n",
      "duplicate GF6PTA {'kegg.reaction': 'R00768', 'metanetx.reaction': 'MNXR106675', 'seed.compound': 'rxn00555'}\n",
      "original id and ecoli MNXR97501_c0 RBFSa\n"
     ]
    },
    {
     "data": {
      "text/plain": [
       "{'DLDLBT', 'RBFSa', 'RIB5'}"
      ]
     },
     "execution_count": 14,
     "metadata": {},
     "output_type": "execute_result"
    },
    {
     "name": "stdout",
     "output_type": "stream",
     "text": [
      "newid RBFSa\n",
      "duplicate XYLI1 {'bigg.reaction': 'XYLI1', 'biocyc': 'XYLISOM-RXN', 'kegg.reaction': 'R01432', 'metanetx.reaction': 'MNXR105253', 'seed.compound': 'rxn01044'}\n",
      "duplicate AHCYSNS {'bigg.reaction': 'AHCYSNS', 'biocyc': 'ADENOSYLHOMOCYSTEINE-NUCLEOSIDASE-RXN', 'kegg.reaction': 'R00194', 'metanetx.reaction': 'MNXR95625', 'seed.compound': 'rxn00143'}\n",
      "duplicate PPS {'bigg.reaction': 'PPS', 'biocyc': 'PEPSYNTH-RXN', 'kegg.reaction': 'R00199', 'metanetx.reaction': 'MNXR103140', 'seed.compound': 'rxn00147'}\n",
      "original id and ecoli THREDEHYD-RXN_c0 THRD_L\n"
     ]
    },
    {
     "data": {
      "text/plain": [
       "{'CHA1_1', 'TAL', 'THRD_L', 'THRD_Lm'}"
      ]
     },
     "execution_count": 14,
     "metadata": {},
     "output_type": "execute_result"
    },
    {
     "name": "stdout",
     "output_type": "stream",
     "text": [
      "newid THRD_L\n",
      "duplicate LPLIPAL2E180 {'bigg.reaction': 'LPLIPAL2E180', 'metanetx.reaction': 'MNXR101188', 'seed.compound': 'rxn08843'}\n",
      "duplicate GALUi {'bigg.reaction': 'GALUi', 'biocyc': 'GLUC1PURIDYLTRANS-RXN', 'kegg.reaction': 'R00289', 'metanetx.reaction': 'MNXR100022', 'seed.compound': 'rxn00213'}\n",
      "original id and ecoli GSAAMINOTRANS-RXN_c0 G1SAT\n"
     ]
    },
    {
     "data": {
      "text/plain": [
       "{'G1SAT', 'G1SAT_1', 'G1SATi'}"
      ]
     },
     "execution_count": 14,
     "metadata": {},
     "output_type": "execute_result"
    },
    {
     "name": "stdout",
     "output_type": "stream",
     "text": [
      "newid G1SAT\n",
      "original id and ecoli ABC-14-RXN_c0 HISabcpp\n"
     ]
    },
    {
     "data": {
      "text/plain": [
       "{'HISabc', 'HISabcpp'}"
      ]
     },
     "execution_count": 14,
     "metadata": {},
     "output_type": "execute_result"
    },
    {
     "name": "stdout",
     "output_type": "stream",
     "text": [
      "newid HISabcpp\n",
      "original id and ecoli SHIKIMATE-5-DEHYDROGENASE-RXN_c0 SHK3Dr\n"
     ]
    },
    {
     "data": {
      "text/plain": [
       "{'ARO1_3', 'SHK3D', 'SHK3Dr', 'SKDH'}"
      ]
     },
     "execution_count": 14,
     "metadata": {},
     "output_type": "execute_result"
    },
    {
     "name": "stdout",
     "output_type": "stream",
     "text": [
      "newid SHK3Dr\n",
      "original id and ecoli DEMAT4 EAR100x\n"
     ]
    },
    {
     "data": {
      "text/plain": [
       "{'DEMAT4', 'EAR100x'}"
      ]
     },
     "execution_count": 14,
     "metadata": {},
     "output_type": "execute_result"
    },
    {
     "name": "stdout",
     "output_type": "stream",
     "text": [
      "newid EAR100x\n",
      "original id and ecoli TRANS-RXN-108D_c0 DCYTt2pp\n"
     ]
    },
    {
     "data": {
      "text/plain": [
       "{'DCYTt2', 'DCYTt2pp', 'U183', 'U189', 'U199'}"
      ]
     },
     "execution_count": 14,
     "metadata": {},
     "output_type": "execute_result"
    },
    {
     "name": "stdout",
     "output_type": "stream",
     "text": [
      "newid DCYTt2pp\n",
      "original id and ecoli RXN0-300_c0 HPYRRy\n"
     ]
    },
    {
     "data": {
      "text/plain": [
       "{'GLYCOR_nadp', 'HPYRRy'}"
      ]
     },
     "execution_count": 14,
     "metadata": {},
     "output_type": "execute_result"
    },
    {
     "name": "stdout",
     "output_type": "stream",
     "text": [
      "newid HPYRRy\n",
      "original id and ecoli RXN-14112_c0 23PDE4pp\n"
     ]
    },
    {
     "data": {
      "text/plain": [
       "{'23CN2P3', '23PDE4pp'}"
      ]
     },
     "execution_count": 14,
     "metadata": {},
     "output_type": "execute_result"
    },
    {
     "name": "stdout",
     "output_type": "stream",
     "text": [
      "newid 23PDE4pp\n",
      "original id and ecoli MNXR104643_c0 SUCptspp\n"
     ]
    },
    {
     "data": {
      "text/plain": [
       "{'SUCpts', 'SUCptspp'}"
      ]
     },
     "execution_count": 14,
     "metadata": {},
     "output_type": "execute_result"
    },
    {
     "name": "stdout",
     "output_type": "stream",
     "text": [
      "newid SUCptspp\n",
      "duplicate LPLIPAL1A180pp {'bigg.reaction': 'LPLIPAL1A180pp', 'metanetx.reaction': 'MNXR101146', 'seed.compound': 'rxn08801'}\n",
      "duplicate RMK {'bigg.reaction': 'RMK', 'kegg.reaction': 'R03014', 'metanetx.reaction': 'MNXR104039', 'seed.compound': 'rxn02161'}\n",
      "original id and ecoli MNXR100822_c0 ILEt2rpp\n"
     ]
    },
    {
     "data": {
      "text/plain": [
       "{'AGP1_6',\n",
       " 'BAP2_2',\n",
       " 'BAP3_2',\n",
       " 'GAP1_10',\n",
       " 'ILEt2',\n",
       " 'ILEt2r',\n",
       " 'ILEt2rpp',\n",
       " 'ILEt7',\n",
       " 'ILEth',\n",
       " 'ILEtm',\n",
       " 'TAT1_1',\n",
       " 'VAP1_3'}"
      ]
     },
     "execution_count": 14,
     "metadata": {},
     "output_type": "execute_result"
    },
    {
     "name": "stdout",
     "output_type": "stream",
     "text": [
      "newid ILEt2rpp\n",
      "original id and ecoli PYRROLINECARBDEHYDROG-RXN_c0 P5CD\n"
     ]
    },
    {
     "data": {
      "text/plain": [
       "{'P5CD', 'P5CDm'}"
      ]
     },
     "execution_count": 14,
     "metadata": {},
     "output_type": "execute_result"
    },
    {
     "name": "stdout",
     "output_type": "stream",
     "text": [
      "newid P5CD\n",
      "duplicate PPC {'bigg.reaction': 'PPC', 'kegg.reaction': 'R00345', 'metanetx.reaction': 'MNXR103096', 'seed.compound': 'rxn00251'}\n",
      "original id and ecoli ADENPRIBOSYLTRAN-RXN_c0 ADPT\n"
     ]
    },
    {
     "data": {
      "text/plain": [
       "{'ADPT', 'APT1', 'APT2', 'r0051'}"
      ]
     },
     "execution_count": 14,
     "metadata": {},
     "output_type": "execute_result"
    },
    {
     "name": "stdout",
     "output_type": "stream",
     "text": [
      "newid ADPT\n",
      "original id and ecoli 35-CYCLIC-GMP-PHOSPHODIESTERASE-RXN_c0 PDE4\n"
     ]
    },
    {
     "data": {
      "text/plain": [
       "{'GCPN', 'GCPNn', 'PDE2_4', 'PDE4', 'PDE4g'}"
      ]
     },
     "execution_count": 14,
     "metadata": {},
     "output_type": "execute_result"
    },
    {
     "name": "stdout",
     "output_type": "stream",
     "text": [
      "newid PDE4\n",
      "original id and ecoli PRPPAMIDOTRANS-RXN_c0 GLUPRT\n"
     ]
    },
    {
     "data": {
      "text/plain": [
       "{'ADE4', 'GLUPRT', 'PRDPARh'}"
      ]
     },
     "execution_count": 14,
     "metadata": {},
     "output_type": "execute_result"
    },
    {
     "name": "stdout",
     "output_type": "stream",
     "text": [
      "newid GLUPRT\n",
      "original id and ecoli RXN0-302_c0 MECDPS\n"
     ]
    },
    {
     "data": {
      "text/plain": [
       "{'MCS', 'MECDPS'}"
      ]
     },
     "execution_count": 14,
     "metadata": {},
     "output_type": "execute_result"
    },
    {
     "name": "stdout",
     "output_type": "stream",
     "text": [
      "newid MECDPS\n",
      "original id and ecoli GDPKIN-RXN_c0 NDPK1\n"
     ]
    },
    {
     "data": {
      "text/plain": [
       "{'ATGDm', 'NDPK1', 'NDPK1m', 'NDPK1n', 'YNK1_8'}"
      ]
     },
     "execution_count": 14,
     "metadata": {},
     "output_type": "execute_result"
    },
    {
     "name": "stdout",
     "output_type": "stream",
     "text": [
      "newid NDPK1\n",
      "duplicate AGPAT160 {'metanetx.reaction': 'MNXR135726', 'seed.compound': 'rxn08086'}\n",
      "duplicate DASYN180 {'bigg.reaction': 'DASYN180', 'metanetx.reaction': 'MNXR97160', 'seed.compound': 'rxn08311'}\n",
      "original id and ecoli PRIBFAICARPISOM-RXN_c0 PRMICI\n"
     ]
    },
    {
     "data": {
      "text/plain": [
       "{'PRICIh', 'PRMICI', 'PRMICIi'}"
      ]
     },
     "execution_count": 14,
     "metadata": {},
     "output_type": "execute_result"
    },
    {
     "name": "stdout",
     "output_type": "stream",
     "text": [
      "newid PRMICI\n",
      "duplicate TMDPP {'bigg.reaction': 'TMDPP', 'biocyc': 'THYM-PHOSPH-RXN', 'kegg.reaction': 'R01570', 'metanetx.reaction': 'MNXR104887', 'seed.compound': 'rxn01146'}\n",
      "original id and ecoli MNXR94946_c0 3OAR160\n"
     ]
    },
    {
     "data": {
      "text/plain": [
       "{'3OAR160', '3OAR160_1', 'HHDR7'}"
      ]
     },
     "execution_count": 14,
     "metadata": {},
     "output_type": "execute_result"
    },
    {
     "name": "stdout",
     "output_type": "stream",
     "text": [
      "newid 3OAR160\n",
      "duplicate PSSA180 {'bigg.reaction': 'PSSA180', 'metanetx.reaction': 'MNXR103271', 'seed.compound': 'rxn09210'}\n",
      "duplicate AGDC {'bigg.reaction': 'AGDC', 'biocyc': 'NAG6PDEACET-RXN', 'kegg.reaction': 'R02059', 'metanetx.reaction': 'MNXR95528', 'seed.compound': 'rxn01484'}\n",
      "duplicate OAADC {'bigg.reaction': 'OAADC', 'biocyc': 'OXALODECARB-RXN', 'kegg.reaction': ['R00217', 'R00219'], 'metanetx.reaction': 'MNXR102097', 'seed.compound': 'rxn00162'}\n",
      "original id and ecoli SUCCCOASYN-RXN_c0 SUCOAS\n"
     ]
    },
    {
     "data": {
      "text/plain": [
       "{'SUCLm', 'SUCOAS', 'SUCOAS1m', 'SUCOASm'}"
      ]
     },
     "execution_count": 14,
     "metadata": {},
     "output_type": "execute_result"
    },
    {
     "name": "stdout",
     "output_type": "stream",
     "text": [
      "newid SUCOAS\n",
      "original id and ecoli KETOBUTFORMLY-RXN_c0 OBTFL\n"
     ]
    },
    {
     "data": {
      "text/plain": [
       "{'OBTFL', 'PCFPTh', 'PCFPTm'}"
      ]
     },
     "execution_count": 14,
     "metadata": {},
     "output_type": "execute_result"
    },
    {
     "name": "stdout",
     "output_type": "stream",
     "text": [
      "newid OBTFL\n",
      "original id and ecoli THIOSULFATE-SULFURTRANSFERASE-RXN_c0 CYANST\n"
     ]
    },
    {
     "data": {
      "text/plain": [
       "{'CYANST', 'CYANSTm', 'CYANSTpp', 'THSFST'}"
      ]
     },
     "execution_count": 14,
     "metadata": {},
     "output_type": "execute_result"
    },
    {
     "name": "stdout",
     "output_type": "stream",
     "text": [
      "newid CYANST\n",
      "original id and ecoli CYANST CYANSTpp\n"
     ]
    },
    {
     "data": {
      "text/plain": [
       "{'CYANST', 'CYANSTm', 'CYANSTpp', 'THSFST'}"
      ]
     },
     "execution_count": 14,
     "metadata": {},
     "output_type": "execute_result"
    },
    {
     "name": "stdout",
     "output_type": "stream",
     "text": [
      "newid CYANSTpp\n",
      "original id and ecoli MNXR100018_c0 GALTptspp\n"
     ]
    },
    {
     "data": {
      "text/plain": [
       "{'GALTpts', 'GALTptspp'}"
      ]
     },
     "execution_count": 14,
     "metadata": {},
     "output_type": "execute_result"
    },
    {
     "name": "stdout",
     "output_type": "stream",
     "text": [
      "newid GALTptspp\n",
      "original id and ecoli 3.6.3.36-RXN_c0 TAURabcpp\n"
     ]
    },
    {
     "data": {
      "text/plain": [
       "{'TAURabc', 'TAURabcpp'}"
      ]
     },
     "execution_count": 14,
     "metadata": {},
     "output_type": "execute_result"
    },
    {
     "name": "stdout",
     "output_type": "stream",
     "text": [
      "newid TAURabcpp\n",
      "original id and ecoli AMP-DEPHOSPHORYLATION-RXN_c0 NTD7\n"
     ]
    },
    {
     "data": {
      "text/plain": [
       "{'NTD7', 'NTD7e', 'NTD7l', 'NTD7pp', 'U30', 'r0047'}"
      ]
     },
     "execution_count": 14,
     "metadata": {},
     "output_type": "execute_result"
    },
    {
     "name": "stdout",
     "output_type": "stream",
     "text": [
      "newid NTD7\n",
      "original id and ecoli NTD7 NTD7pp\n"
     ]
    },
    {
     "data": {
      "text/plain": [
       "{'NTD7', 'NTD7e', 'NTD7l', 'NTD7pp', 'U30', 'r0047'}"
      ]
     },
     "execution_count": 14,
     "metadata": {},
     "output_type": "execute_result"
    },
    {
     "name": "stdout",
     "output_type": "stream",
     "text": [
      "newid NTD7pp\n",
      "original id and ecoli GABATRANSAM-RXN_c0 ABTA\n"
     ]
    },
    {
     "data": {
      "text/plain": [
       "{'ABTA', 'ABTAr', 'ABTArm', 'UGA1'}"
      ]
     },
     "execution_count": 14,
     "metadata": {},
     "output_type": "execute_result"
    },
    {
     "name": "stdout",
     "output_type": "stream",
     "text": [
      "newid ABTA\n",
      "duplicate GLCS1 {'metanetx.reaction': 'MNXR135832', 'seed.compound': 'rxn08615'}\n",
      "duplicate LPLIPAL1G180pp {'metanetx.reaction': 'MNXR135859', 'seed.compound': 'rxn08815'}\n",
      "original id and ecoli S-ADENMETSYN-RXN_c0 METAT\n"
     ]
    },
    {
     "data": {
      "text/plain": [
       "{'MATm', 'METAT', 'SAM1', 'SAM2'}"
      ]
     },
     "execution_count": 14,
     "metadata": {},
     "output_type": "execute_result"
    },
    {
     "name": "stdout",
     "output_type": "stream",
     "text": [
      "newid METAT\n",
      "original id and ecoli DURIDKI-RXN_c0 DURIK1\n"
     ]
    },
    {
     "data": {
      "text/plain": [
       "{'DURIK1', 'DURIK1m', 'U15'}"
      ]
     },
     "execution_count": 14,
     "metadata": {},
     "output_type": "execute_result"
    },
    {
     "name": "stdout",
     "output_type": "stream",
     "text": [
      "newid DURIK1\n",
      "original id and ecoli RXN0-305_c0 HPYRI\n"
     ]
    },
    {
     "data": {
      "text/plain": [
       "{'HPI', 'HPYRI'}"
      ]
     },
     "execution_count": 14,
     "metadata": {},
     "output_type": "execute_result"
    },
    {
     "name": "stdout",
     "output_type": "stream",
     "text": [
      "newid HPYRI\n",
      "duplicate LPLIPAL1A141pp {'metanetx.reaction': 'MNXR135844', 'seed.compound': 'rxn08798'}\n",
      "original id and ecoli ABC-24-RXN_c0 SPMDabcpp\n"
     ]
    },
    {
     "data": {
      "text/plain": [
       "{'SPMDabc', 'SPMDabcpp'}"
      ]
     },
     "execution_count": 14,
     "metadata": {},
     "output_type": "execute_result"
    },
    {
     "name": "stdout",
     "output_type": "stream",
     "text": [
      "newid SPMDabcpp\n",
      "duplicate DASYN120 {'bigg.reaction': 'DASYN120', 'metanetx.reaction': 'MNXR97154', 'seed.compound': 'rxn08306'}\n",
      "duplicate LPLIPAL2A161 {'metanetx.reaction': 'MNXR135864', 'seed.compound': 'rxn08821'}\n",
      "original id and ecoli SOD SPODM\n"
     ]
    },
    {
     "data": {
      "text/plain": [
       "{'SOD', 'SODr', 'SPODM'}"
      ]
     },
     "execution_count": 14,
     "metadata": {},
     "output_type": "execute_result"
    },
    {
     "name": "stdout",
     "output_type": "stream",
     "text": [
      "newid SPODM\n",
      "original id and ecoli MNXR94942_c0 3OAR120\n"
     ]
    },
    {
     "data": {
      "text/plain": [
       "{'3OAR120', '3OAR120_1', 'HDDR5'}"
      ]
     },
     "execution_count": 14,
     "metadata": {},
     "output_type": "execute_result"
    },
    {
     "name": "stdout",
     "output_type": "stream",
     "text": [
      "newid 3OAR120\n",
      "original id and ecoli ARGDECARBOX-RXN_c0 ARGDC\n"
     ]
    },
    {
     "data": {
      "text/plain": [
       "{'ARGDC', 'ARGDCm', 'ARGDCpp'}"
      ]
     },
     "execution_count": 14,
     "metadata": {},
     "output_type": "execute_result"
    },
    {
     "name": "stdout",
     "output_type": "stream",
     "text": [
      "newid ARGDC\n",
      "original id and ecoli ARGDC ARGDCpp\n"
     ]
    },
    {
     "data": {
      "text/plain": [
       "{'ARGDC', 'ARGDCm', 'ARGDCpp'}"
      ]
     },
     "execution_count": 14,
     "metadata": {},
     "output_type": "execute_result"
    },
    {
     "name": "stdout",
     "output_type": "stream",
     "text": [
      "newid ARGDCpp\n",
      "duplicate CPPPGO2 {'bigg.reaction': 'CPPPGO2', 'biocyc': 'HEMN-RXN', 'kegg.reaction': 'R06895', 'metanetx.reaction': 'MNXR96881', 'seed.compound': 'rxn04704'}\n",
      "original id and ecoli TRANS-RXN-71_c0 SERt2rpp\n"
     ]
    },
    {
     "data": {
      "text/plain": [
       "{'AGP1_12',\n",
       " 'AGP3_3',\n",
       " 'DIP5_7',\n",
       " 'GAP1_18',\n",
       " 'GNP1_6',\n",
       " 'SERt2',\n",
       " 'SERt2m',\n",
       " 'SERt2r',\n",
       " 'SERt2rpp',\n",
       " 'SERt6',\n",
       " 'SERth'}"
      ]
     },
     "execution_count": 14,
     "metadata": {},
     "output_type": "execute_result"
    },
    {
     "name": "stdout",
     "output_type": "stream",
     "text": [
      "newid SERt2rpp\n",
      "original id and ecoli GTP-CYCLOHYDRO-I-RXN_c0 GTPCI\n"
     ]
    },
    {
     "data": {
      "text/plain": [
       "{'FOL2', 'GTPCI', 'GTPCI_1', 'GTPCI_2', 'GTPCIn'}"
      ]
     },
     "execution_count": 14,
     "metadata": {},
     "output_type": "execute_result"
    },
    {
     "name": "stdout",
     "output_type": "stream",
     "text": [
      "newid GTPCI\n",
      "duplicate G3PAT120 {'metanetx.reaction': 'MNXR135825', 'seed.compound': 'rxn08546'}\n",
      "duplicate MDH2 {'bigg.reaction': 'MDH2', 'metanetx.reaction': 'MNXR101440', 'seed.compound': 'rxn08900'}\n",
      "original id and ecoli TRANS-RXN-117_c0 PNTOt4pp\n"
     ]
    },
    {
     "data": {
      "text/plain": [
       "{'PNTOt4', 'PNTOt4pp'}"
      ]
     },
     "execution_count": 14,
     "metadata": {},
     "output_type": "execute_result"
    },
    {
     "name": "stdout",
     "output_type": "stream",
     "text": [
      "newid PNTOt4pp\n",
      "duplicate HMPK1 {'bigg.reaction': 'HMPK1', 'biocyc': 'OHMETPYRKIN-RXN', 'kegg.reaction': 'R03471', 'metanetx.reaction': 'MNXR100664', 'seed.compound': 'rxn02484'}\n",
      "duplicate PPPNDO {'kegg.reaction': 'R06782', 'metanetx.reaction': 'MNXR110533', 'seed.compound': 'rxn04597'}\n",
      "duplicate MALTATr {'bigg.reaction': 'MALTATr', 'biocyc': 'MALTACETYLTRAN-RXN', 'kegg.reaction': ['R01556', 'R06251'], 'metanetx.reaction': 'MNXR101351', 'seed.compound': 'rxn01133'}\n",
      "duplicate BUTCT {'biocyc': 'R11-RXN', 'kegg.reaction': 'R01179', 'metanetx.reaction': 'MNXR106854', 'seed.compound': 'rxn00875'}\n",
      "duplicate PPNDH {'bigg.reaction': 'PPNDH', 'biocyc': 'PREPHENATEDEHYDRAT-RXN', 'kegg.reaction': 'R01373', 'metanetx.reaction': 'MNXR103123', 'seed.compound': 'rxn01000'}\n",
      "original id and ecoli RXN-14026_c0 NTD4\n"
     ]
    },
    {
     "data": {
      "text/plain": [
       "{'NTD4', 'NTD4e', 'NTD4l', 'NTD4pp', 'U29'}"
      ]
     },
     "execution_count": 14,
     "metadata": {},
     "output_type": "execute_result"
    },
    {
     "name": "stdout",
     "output_type": "stream",
     "text": [
      "newid NTD4\n",
      "original id and ecoli NTD4 NTD4pp\n"
     ]
    },
    {
     "data": {
      "text/plain": [
       "{'NTD4', 'NTD4e', 'NTD4l', 'NTD4pp', 'U29'}"
      ]
     },
     "execution_count": 14,
     "metadata": {},
     "output_type": "execute_result"
    },
    {
     "name": "stdout",
     "output_type": "stream",
     "text": [
      "newid NTD4pp\n",
      "duplicate AMALT3 {'bigg.reaction': 'AMALT3', 'biocyc': 'RXN-14261', 'metanetx.reaction': 'MNXR95802', 'seed.compound': 'rxn08128'}\n",
      "original id and ecoli RXN-14091_c0 23PDE2pp\n"
     ]
    },
    {
     "data": {
      "text/plain": [
       "{'23CN2P2', '23PDE2pp', 'RE1860E'}"
      ]
     },
     "execution_count": 14,
     "metadata": {},
     "output_type": "execute_result"
    },
    {
     "name": "stdout",
     "output_type": "stream",
     "text": [
      "newid 23PDE2pp\n",
      "original id and ecoli TRANS-RXN0-202_c0 METDabcpp\n"
     ]
    },
    {
     "data": {
      "text/plain": [
       "{'METDabc', 'METDabcpp'}"
      ]
     },
     "execution_count": 14,
     "metadata": {},
     "output_type": "execute_result"
    },
    {
     "name": "stdout",
     "output_type": "stream",
     "text": [
      "newid METDabcpp\n",
      "original id and ecoli HOMOSERKIN-RXN_c0 HSK\n"
     ]
    },
    {
     "data": {
      "text/plain": [
       "{'HSK', 'HSK_1', 'THR1'}"
      ]
     },
     "execution_count": 14,
     "metadata": {},
     "output_type": "execute_result"
    },
    {
     "name": "stdout",
     "output_type": "stream",
     "text": [
      "newid HSK\n",
      "duplicate AST {'bigg.reaction': 'AST', 'biocyc': 'ARGININE-N-SUCCINYLTRANSFERASE-RXN', 'kegg.reaction': 'R00832', 'metanetx.reaction': 'MNXR96115', 'seed.compound': 'rxn00601'}\n",
      "duplicate FBA {'bigg.reaction': 'FBA', 'kegg.reaction': 'R01068', 'metanetx.reaction': 'MNXR99459', 'seed.compound': 'rxn00786'}\n",
      "original id and ecoli 2.7.1.148-RXN_c0 CDPMEK\n"
     ]
    },
    {
     "data": {
      "text/plain": [
       "{'CDPMEK', 'CMK'}"
      ]
     },
     "execution_count": 14,
     "metadata": {},
     "output_type": "execute_result"
    },
    {
     "name": "stdout",
     "output_type": "stream",
     "text": [
      "newid CDPMEK\n",
      "duplicate PSD120 {'metanetx.reaction': 'MNXR135980', 'seed.compound': 'rxn09197'}\n",
      "original id and ecoli PHOSGLYPHOS-RXN_c0 PGK\n"
     ]
    },
    {
     "data": {
      "text/plain": [
       "{'PGK', 'PGK1', 'PGK_1', 'PGKf', 'PGKh', 'PGKm'}"
      ]
     },
     "execution_count": 14,
     "metadata": {},
     "output_type": "execute_result"
    },
    {
     "name": "stdout",
     "output_type": "stream",
     "text": [
      "newid PGK\n",
      "original id and ecoli ADENYLOSUCCINATE-SYNTHASE-RXN_c0 ADSS\n"
     ]
    },
    {
     "data": {
      "text/plain": [
       "{'ADE12', 'ADSS', 'ADSS_i', 'ADSSh'}"
      ]
     },
     "execution_count": 14,
     "metadata": {},
     "output_type": "execute_result"
    },
    {
     "name": "stdout",
     "output_type": "stream",
     "text": [
      "newid ADSS\n",
      "original id and ecoli CARBODEHYDRAT-RXN_c0 HCO3E\n"
     ]
    },
    {
     "data": {
      "text/plain": [
       "{'H2CO3D',\n",
       " 'H2CO3Dm',\n",
       " 'HCO3E',\n",
       " 'HCO3E_1',\n",
       " 'HCO3Ee',\n",
       " 'HCO3Ehi',\n",
       " 'HCO3Em',\n",
       " 'HCO3Em_1',\n",
       " 'HCO3En'}"
      ]
     },
     "execution_count": 14,
     "metadata": {},
     "output_type": "execute_result"
    },
    {
     "name": "stdout",
     "output_type": "stream",
     "text": [
      "newid HCO3E\n",
      "original id and ecoli GLYCOLATE-REDUCTASE-RXN_c0 GLYCLTDx\n"
     ]
    },
    {
     "data": {
      "text/plain": [
       "{'GLYCLTDx', 'GLYCLTDxr', 'GLYCTO_syn'}"
      ]
     },
     "execution_count": 14,
     "metadata": {},
     "output_type": "execute_result"
    },
    {
     "name": "stdout",
     "output_type": "stream",
     "text": [
      "newid GLYCLTDx\n",
      "original id and ecoli RXN-7607_c0 NTD11\n"
     ]
    },
    {
     "data": {
      "text/plain": [
       "{'NTD11', 'NTD11pp', 'U32'}"
      ]
     },
     "execution_count": 14,
     "metadata": {},
     "output_type": "execute_result"
    },
    {
     "name": "stdout",
     "output_type": "stream",
     "text": [
      "newid NTD11\n",
      "original id and ecoli NTD11 NTD11pp\n"
     ]
    },
    {
     "data": {
      "text/plain": [
       "{'NTD11', 'NTD11pp', 'U32'}"
      ]
     },
     "execution_count": 14,
     "metadata": {},
     "output_type": "execute_result"
    },
    {
     "name": "stdout",
     "output_type": "stream",
     "text": [
      "newid NTD11pp\n",
      "duplicate MGSA {'bigg.reaction': 'MGSA', 'biocyc': 'METHGLYSYN-RXN', 'kegg.reaction': 'R01016', 'metanetx.reaction': 'MNXR101551', 'seed.compound': 'rxn00748'}\n",
      "duplicate NTPTP1 {'bigg.reaction': 'NTPTP1', 'biocyc': 'DGTPTRIPHYDRO-RXN', 'kegg.reaction': 'R01856', 'metanetx.reaction': 'MNXR102057', 'seed.compound': 'rxn01352'}\n",
      "duplicate GUI2 {'bigg.reaction': 'GUI2', 'kegg.reaction': 'R01983', 'metanetx.reaction': 'MNXR100469', 'seed.compound': 'rxn01457'}\n",
      "original id and ecoli CHORISMATE-SYNTHASE-RXN_c0 CHORS\n"
     ]
    },
    {
     "data": {
      "text/plain": [
       "{'ARO2', 'CH or S', 'CHORS', 'CHRS'}"
      ]
     },
     "execution_count": 14,
     "metadata": {},
     "output_type": "execute_result"
    },
    {
     "name": "stdout",
     "output_type": "stream",
     "text": [
      "newid CHORS\n",
      "original id and ecoli MNXR96105_c0 ASPt2_3pp\n"
     ]
    },
    {
     "data": {
      "text/plain": [
       "{'ASPt2_3', 'ASPt2_3pp'}"
      ]
     },
     "execution_count": 14,
     "metadata": {},
     "output_type": "execute_result"
    },
    {
     "name": "stdout",
     "output_type": "stream",
     "text": [
      "newid ASPt2_3pp\n",
      "original id and ecoli MNXR95253_c0 ACGAptspp\n"
     ]
    },
    {
     "data": {
      "text/plain": [
       "{'ACGApts', 'ACGAptspp'}"
      ]
     },
     "execution_count": 14,
     "metadata": {},
     "output_type": "execute_result"
    },
    {
     "name": "stdout",
     "output_type": "stream",
     "text": [
      "newid ACGAptspp\n",
      "duplicate UDPG4E {'bigg.reaction': 'UDPG4E', 'biocyc': 'UDPGLUCEPIM-RXN', 'kegg.reaction': 'R00291', 'metanetx.reaction': 'MNXR105057', 'seed.compound': 'rxn00214'}\n",
      "original id and ecoli MHPCHYDROL-RXN_c0 HKNDDH\n"
     ]
    },
    {
     "data": {
      "text/plain": [
       "{'HKNDDH', 'HKNDDH_1'}"
      ]
     },
     "execution_count": 14,
     "metadata": {},
     "output_type": "execute_result"
    },
    {
     "name": "stdout",
     "output_type": "stream",
     "text": [
      "newid HKNDDH\n",
      "original id and ecoli MNXR101748_c0 MTHFC\n"
     ]
    },
    {
     "data": {
      "text/plain": [
       "{'ADE3_3', 'MTHFC', 'MTHFC_1', 'MTHFCm', 'MTHFCm_1', 'MTHFCx'}"
      ]
     },
     "execution_count": 14,
     "metadata": {},
     "output_type": "execute_result"
    },
    {
     "name": "stdout",
     "output_type": "stream",
     "text": [
      "newid MTHFC\n",
      "original id and ecoli TYROSINE-AMINOTRANSFERASE-RXN_c0 TYRTA\n"
     ]
    },
    {
     "data": {
      "text/plain": [
       "{'AAT1_2',\n",
       " 'AAT2_2',\n",
       " 'ARO8',\n",
       " 'ARO9_2',\n",
       " 'TYRTA',\n",
       " 'TYRTAh',\n",
       " 'TYRTAi',\n",
       " 'TYRTAim',\n",
       " 'TYRTAip',\n",
       " 'TYRTAm',\n",
       " 'TYRTAp'}"
      ]
     },
     "execution_count": 14,
     "metadata": {},
     "output_type": "execute_result"
    },
    {
     "name": "stdout",
     "output_type": "stream",
     "text": [
      "newid TYRTA\n",
      "original id and ecoli 3.6.1.41-RXN_c0 AP4AH\n"
     ]
    },
    {
     "data": {
      "text/plain": [
       "{'AP4AH', 'AP4AHr', 'BTPS'}"
      ]
     },
     "execution_count": 14,
     "metadata": {},
     "output_type": "execute_result"
    },
    {
     "name": "stdout",
     "output_type": "stream",
     "text": [
      "newid AP4AH\n",
      "original id and ecoli BTMAT1 EAR40x\n"
     ]
    },
    {
     "data": {
      "text/plain": [
       "{'BTMAT1', 'EAR40x'}"
      ]
     },
     "execution_count": 14,
     "metadata": {},
     "output_type": "execute_result"
    },
    {
     "name": "stdout",
     "output_type": "stream",
     "text": [
      "newid EAR40x\n",
      "original id and ecoli ABC-3-RXN_c0 LYSabcpp\n"
     ]
    },
    {
     "data": {
      "text/plain": [
       "{'LYSabc', 'LYSabcpp'}"
      ]
     },
     "execution_count": 14,
     "metadata": {},
     "output_type": "execute_result"
    },
    {
     "name": "stdout",
     "output_type": "stream",
     "text": [
      "newid LYSabcpp\n",
      "duplicate ACBIPGT {'bigg.reaction': 'ACBIPGT', 'biocyc': 'COBINPGUANYLYLTRANS-RXN', 'kegg.reaction': 'R05222', 'metanetx.reaction': 'MNXR95216', 'seed.compound': 'rxn03537'}\n",
      "duplicate LPLIPAL1E140pp {'metanetx.reaction': 'MNXR135848', 'seed.compound': 'rxn08804'}\n",
      "duplicate CHRPL {'bigg.reaction': 'CHRPL', 'biocyc': 'CHORPYRLY-RXN', 'kegg.reaction': 'R01302', 'metanetx.reaction': 'MNXR96711', 'seed.compound': 'rxn00966'}\n",
      "original id and ecoli ACETYLGLUTKIN-RXN_c0 ACGK\n"
     ]
    },
    {
     "data": {
      "text/plain": [
       "{'ACGK', 'ACGKm'}"
      ]
     },
     "execution_count": 14,
     "metadata": {},
     "output_type": "execute_result"
    },
    {
     "name": "stdout",
     "output_type": "stream",
     "text": [
      "newid ACGK\n",
      "duplicate FRD2 {'bigg.reaction': 'FRD2', 'metanetx.reaction': 'MNXR99637', 'seed.compound': 'rxn08527'}\n",
      "duplicate DGK1 {'bigg.reaction': 'DGK1', 'biocyc': 'GMKALT-RXN', 'kegg.reaction': 'R02090', 'metanetx.reaction': 'MNXR97320', 'seed.compound': 'rxn01509'}\n",
      "duplicate UAAGDS {'biocyc': 'UDP-NACMURALGLDAPLIG-RXN', 'kegg.reaction': 'R02788', 'metanetx.reaction': 'MNXR107722', 'seed.compound': 'rxn02011'}\n",
      "original id and ecoli PHOSACETYLTRANS-RXN_c0 PTAr\n"
     ]
    },
    {
     "data": {
      "text/plain": [
       "{'PTA', 'PTAr', 'PTArh', 'PTArm'}"
      ]
     },
     "execution_count": 14,
     "metadata": {},
     "output_type": "execute_result"
    },
    {
     "name": "stdout",
     "output_type": "stream",
     "text": [
      "newid PTAr\n",
      "original id and ecoli RXN0-5199_c0 PUNP3\n"
     ]
    },
    {
     "data": {
      "text/plain": [
       "{'PNP1_8', 'PUNP3', 'PUNP3m', 'U104'}"
      ]
     },
     "execution_count": 14,
     "metadata": {},
     "output_type": "execute_result"
    },
    {
     "name": "stdout",
     "output_type": "stream",
     "text": [
      "newid PUNP3\n",
      "duplicate FRD3 {'metanetx.reaction': 'MNXR135823', 'seed.compound': 'rxn08528'}\n",
      "original id and ecoli THYMIDYLATE-5-PHOSPHATASE-RXN_c0 NTD5\n"
     ]
    },
    {
     "data": {
      "text/plain": [
       "{'NTD5', 'NTD5l', 'NTD5m', 'NTD5pp', 'U25'}"
      ]
     },
     "execution_count": 14,
     "metadata": {},
     "output_type": "execute_result"
    },
    {
     "name": "stdout",
     "output_type": "stream",
     "text": [
      "newid NTD5\n",
      "original id and ecoli NTD5 NTD5pp\n"
     ]
    },
    {
     "data": {
      "text/plain": [
       "{'NTD5', 'NTD5l', 'NTD5m', 'NTD5pp', 'U25'}"
      ]
     },
     "execution_count": 14,
     "metadata": {},
     "output_type": "execute_result"
    },
    {
     "name": "stdout",
     "output_type": "stream",
     "text": [
      "newid NTD5pp\n",
      "original id and ecoli MNXR97325_c0 DGSNt2pp\n"
     ]
    },
    {
     "data": {
      "text/plain": [
       "{'DGSNt2', 'DGSNt2pp', 'U181', 'U197'}"
      ]
     },
     "execution_count": 14,
     "metadata": {},
     "output_type": "execute_result"
    },
    {
     "name": "stdout",
     "output_type": "stream",
     "text": [
      "newid DGSNt2pp\n",
      "duplicate PSSA120 {'metanetx.reaction': 'MNXR135985', 'seed.compound': 'rxn09205'}\n",
      "original id and ecoli ABC-25-RXN_c0 PTRCabcpp\n"
     ]
    },
    {
     "data": {
      "text/plain": [
       "{'PTRCabc', 'PTRCabcpp'}"
      ]
     },
     "execution_count": 14,
     "metadata": {},
     "output_type": "execute_result"
    },
    {
     "name": "stdout",
     "output_type": "stream",
     "text": [
      "newid PTRCabcpp\n",
      "duplicate PSD161 {'metanetx.reaction': 'MNXR135983', 'seed.compound': 'rxn09201'}\n",
      "original id and ecoli RXN-5076_c0 XANt2pp\n"
     ]
    },
    {
     "data": {
      "text/plain": [
       "{'XANt2', 'XANt2pp', 'XANt6'}"
      ]
     },
     "execution_count": 14,
     "metadata": {},
     "output_type": "execute_result"
    },
    {
     "name": "stdout",
     "output_type": "stream",
     "text": [
      "newid XANt2pp\n",
      "duplicate DMPPS {'bigg.reaction': 'DMPPS', 'metanetx.reaction': 'MNXR97524', 'seed.compound': 'rxn08352'}\n",
      "original id and ecoli MNXR102566_c0 PGPP180\n"
     ]
    },
    {
     "data": {
      "text/plain": [
       "{'PGPP180', 'PGPP180pp'}"
      ]
     },
     "execution_count": 14,
     "metadata": {},
     "output_type": "execute_result"
    },
    {
     "name": "stdout",
     "output_type": "stream",
     "text": [
      "newid PGPP180\n",
      "original id and ecoli PGPP180 PGPP180pp\n"
     ]
    },
    {
     "data": {
      "text/plain": [
       "{'PGPP180', 'PGPP180pp'}"
      ]
     },
     "execution_count": 14,
     "metadata": {},
     "output_type": "execute_result"
    },
    {
     "name": "stdout",
     "output_type": "stream",
     "text": [
      "newid PGPP180pp\n",
      "original id and ecoli GLUTAMINESYN-RXN_c0 GLNS\n"
     ]
    },
    {
     "data": {
      "text/plain": [
       "{'GALh', 'GALm', 'GLN1', 'GLNS', 'GLNS_i'}"
      ]
     },
     "execution_count": 14,
     "metadata": {},
     "output_type": "execute_result"
    },
    {
     "name": "stdout",
     "output_type": "stream",
     "text": [
      "newid GLNS\n",
      "duplicate LPLIPAL2G180 {'metanetx.reaction': 'MNXR135890', 'seed.compound': 'rxn08850'}\n",
      "original id and ecoli DLACTDEHYDROGNAD-RXN_c0 LDH_D\n"
     ]
    },
    {
     "data": {
      "text/plain": [
       "{'LDH_D', 'LDH_Dir', 'LDHm'}"
      ]
     },
     "execution_count": 14,
     "metadata": {},
     "output_type": "execute_result"
    },
    {
     "name": "stdout",
     "output_type": "stream",
     "text": [
      "newid LDH_D\n",
      "duplicate PGPP141pp {'metanetx.reaction': 'MNXR135935', 'seed.compound': 'rxn09103'}\n",
      "duplicate LPLIPAL1G141pp {'metanetx.reaction': 'MNXR135856', 'seed.compound': 'rxn08812'}\n",
      "duplicate M1PD {'kegg.reaction': 'R00758', 'metanetx.reaction': 'MNXR106667', 'seed.compound': 'rxn00546'}\n",
      "original id and ecoli MNXR95770_c0 ALLTNt2rpp\n"
     ]
    },
    {
     "data": {
      "text/plain": [
       "{'ALLNt2', 'ALLTNt2r', 'ALLTNt2rpp', 'ALLTNt6'}"
      ]
     },
     "execution_count": 14,
     "metadata": {},
     "output_type": "execute_result"
    },
    {
     "name": "stdout",
     "output_type": "stream",
     "text": [
      "newid ALLTNt2rpp\n",
      "##in CAT CATAL-RXN_c0\n",
      "original id and ecoli RXN-9528_c0 3OAR100\n"
     ]
    },
    {
     "data": {
      "text/plain": [
       "{'3OAR100', '3OAR100_1', 'HDER4', 'HDER4r'}"
      ]
     },
     "execution_count": 14,
     "metadata": {},
     "output_type": "execute_result"
    },
    {
     "name": "stdout",
     "output_type": "stream",
     "text": [
      "newid 3OAR100\n",
      "original id and ecoli GLUTAMIDOTRANS-RXN_c0 IG3PS\n"
     ]
    },
    {
     "data": {
      "text/plain": [
       "{'IG3PS', 'IG3PS_1', 'IMGPSh'}"
      ]
     },
     "execution_count": 14,
     "metadata": {},
     "output_type": "execute_result"
    },
    {
     "name": "stdout",
     "output_type": "stream",
     "text": [
      "newid IG3PS\n",
      "duplicate AGPAT141 {'metanetx.reaction': 'MNXR135725', 'seed.compound': 'rxn08085'}\n",
      "duplicate DASYN161 {'bigg.reaction': 'DASYN161', 'metanetx.reaction': 'MNXR97159', 'seed.compound': 'rxn08310'}\n",
      "original id and ecoli GUANPRIBOSYLTRAN-RXN_c0 GUAPRT\n"
     ]
    },
    {
     "data": {
      "text/plain": [
       "{'GPAR', 'GUAPRT', 'GUAPRTr', 'HPT1_2'}"
      ]
     },
     "execution_count": 14,
     "metadata": {},
     "output_type": "execute_result"
    },
    {
     "name": "stdout",
     "output_type": "stream",
     "text": [
      "newid GUAPRT\n",
      "original id and ecoli MNXR94952_c0 3OAR60\n"
     ]
    },
    {
     "data": {
      "text/plain": [
       "{'3OAR60', '3OAR60_1', 'HHYR2'}"
      ]
     },
     "execution_count": 14,
     "metadata": {},
     "output_type": "execute_result"
    },
    {
     "name": "stdout",
     "output_type": "stream",
     "text": [
      "newid 3OAR60\n",
      "original id and ecoli MNXR103135_c0 PPPNt2rpp\n"
     ]
    },
    {
     "data": {
      "text/plain": [
       "{'PPPNt2', 'PPPNt2r', 'PPPNt2rpp'}"
      ]
     },
     "execution_count": 14,
     "metadata": {},
     "output_type": "execute_result"
    },
    {
     "name": "stdout",
     "output_type": "stream",
     "text": [
      "newid PPPNt2rpp\n",
      "duplicate EDD {'bigg.reaction': 'EDD', 'biocyc': 'PGLUCONDEHYDRAT-RXN', 'kegg.reaction': 'R02036', 'metanetx.reaction': 'MNXR97898', 'seed.compound': 'rxn01477'}\n",
      "original id and ecoli RXN0-2382_c0 TRPS2\n"
     ]
    },
    {
     "data": {
      "text/plain": [
       "{'TRPS2', 'TRPS2h'}"
      ]
     },
     "execution_count": 14,
     "metadata": {},
     "output_type": "execute_result"
    },
    {
     "name": "stdout",
     "output_type": "stream",
     "text": [
      "newid TRPS2\n",
      "original id and ecoli SAICARSYN-RXN_c0 PRASCSi\n"
     ]
    },
    {
     "data": {
      "text/plain": [
       "{'ADE1', 'PRAISh', 'PRASCS', 'PRASCSi'}"
      ]
     },
     "execution_count": 14,
     "metadata": {},
     "output_type": "execute_result"
    },
    {
     "name": "stdout",
     "output_type": "stream",
     "text": [
      "newid PRASCSi\n",
      "duplicate DDGLK {'bigg.reaction': 'DDGLK', 'biocyc': 'DEOXYGLUCONOKIN-RXN', 'kegg.reaction': 'R01541', 'metanetx.reaction': 'MNXR97216', 'seed.compound': 'rxn01123'}\n",
      "duplicate G3PD6 {'bigg.reaction': 'G3PD6', 'metanetx.reaction': 'MNXR99881', 'seed.compound': 'rxn08557'}\n",
      "original id and ecoli TRANS-RXN-108E_c0 DINSt2pp\n"
     ]
    },
    {
     "data": {
      "text/plain": [
       "{'DINSt2', 'DINSt2pp', 'U180', 'U196'}"
      ]
     },
     "execution_count": 14,
     "metadata": {},
     "output_type": "execute_result"
    },
    {
     "name": "stdout",
     "output_type": "stream",
     "text": [
      "newid DINSt2pp\n",
      "original id and ecoli RIBULP3EPIM-RXN_c0 RPE\n"
     ]
    },
    {
     "data": {
      "text/plain": [
       "{'RPE', 'RPE1', 'RPEh'}"
      ]
     },
     "execution_count": 14,
     "metadata": {},
     "output_type": "execute_result"
    },
    {
     "name": "stdout",
     "output_type": "stream",
     "text": [
      "newid RPE\n",
      "duplicate TRE6PH {'bigg.reaction': 'TRE6PH', 'biocyc': 'TRE6PHYDRO-RXN', 'kegg.reaction': ['R00837', 'R06113'], 'metanetx.reaction': 'MNXR104925', 'seed.compound': 'rxn00606'}\n",
      "original id and ecoli RXN-8991_c0 IPPMIa\n"
     ]
    },
    {
     "data": {
      "text/plain": [
       "{'IMDHT_3c2hmp', 'IPPMIa'}"
      ]
     },
     "execution_count": 14,
     "metadata": {},
     "output_type": "execute_result"
    },
    {
     "name": "stdout",
     "output_type": "stream",
     "text": [
      "newid IPPMIa\n",
      "duplicate IPMD {'bigg.reaction': 'IPMD', 'biocyc': '3-ISOPROPYLMALDEHYDROG-RXN', 'kegg.reaction': 'R04426', 'metanetx.reaction': 'MNXR100878', 'seed.compound': 'rxn03062'}\n",
      "duplicate LPLIPAL2G141 {'metanetx.reaction': 'MNXR135887', 'seed.compound': 'rxn08847'}\n",
      "original id and ecoli TRANS-RXN0-503_c0 MALTTRabcpp\n"
     ]
    },
    {
     "data": {
      "text/plain": [
       "{'MALTTRabc', 'MALTTRabcpp'}"
      ]
     },
     "execution_count": 14,
     "metadata": {},
     "output_type": "execute_result"
    },
    {
     "name": "stdout",
     "output_type": "stream",
     "text": [
      "newid MALTTRabcpp\n",
      "original id and ecoli PTAALT-RXN_c0 PTA2\n"
     ]
    },
    {
     "data": {
      "text/plain": [
       "{'PCPPTh', 'PCPPTm', 'PTA2', 'PTA2r', 'PTAr_ppa'}"
      ]
     },
     "execution_count": 14,
     "metadata": {},
     "output_type": "execute_result"
    },
    {
     "name": "stdout",
     "output_type": "stream",
     "text": [
      "newid PTA2\n",
      "duplicate XPPT {'bigg.reaction': 'XPPT', 'biocyc': 'XANPRIBOSYLTRAN-RXN', 'kegg.reaction': 'R02142', 'metanetx.reaction': 'MNXR105243', 'seed.compound': 'rxn01544'}\n",
      "duplicate PGSA180 {'bigg.reaction': 'PGSA180', 'metanetx.reaction': 'MNXR102595', 'seed.compound': 'rxn09113'}\n",
      "original id and ecoli URACIL-PRIBOSYLTRANS-RXN_c0 UPPRT\n"
     ]
    },
    {
     "data": {
      "text/plain": [
       "{'FUR1', 'UPPRT', 'UPPRTr', 'UPRT'}"
      ]
     },
     "execution_count": 14,
     "metadata": {},
     "output_type": "execute_result"
    },
    {
     "name": "stdout",
     "output_type": "stream",
     "text": [
      "newid UPPRT\n",
      "original id and ecoli MNXR104290_c0 SBTptspp\n"
     ]
    },
    {
     "data": {
      "text/plain": [
       "{'SBTpts', 'SBTptspp'}"
      ]
     },
     "execution_count": 14,
     "metadata": {},
     "output_type": "execute_result"
    },
    {
     "name": "stdout",
     "output_type": "stream",
     "text": [
      "newid SBTptspp\n",
      "duplicate RBK_L1 {'bigg.reaction': 'RBK_L1', 'biocyc': 'RXN0-5116', 'kegg.reaction': 'R02439', 'metanetx.reaction': 'MNXR103433', 'seed.compound': 'rxn01763'}\n",
      "original id and ecoli MNXR100330_c0 GLYCL\n"
     ]
    },
    {
     "data": {
      "text/plain": [
       "{'GCV1_2', 'GLYCL', 'GLYCL_2', 'GLYCLm', 'GLYS'}"
      ]
     },
     "execution_count": 14,
     "metadata": {},
     "output_type": "execute_result"
    },
    {
     "name": "stdout",
     "output_type": "stream",
     "text": [
      "newid GLYCL\n",
      "duplicate DAGK180 {'metanetx.reaction': 'MNXR135770', 'seed.compound': 'rxn08299'}\n",
      "duplicate HEPT2 {'bigg.reaction': 'HEPT2', 'biocyc': 'RXN0-5061', 'metanetx.reaction': 'MNXR100604', 'seed.compound': 'rxn08711'}\n",
      "original id and ecoli ADENPHOSPHOR-RXN_c0 PUNP1\n"
     ]
    },
    {
     "data": {
      "text/plain": [
       "{'PNP1_7', 'PUNP1', 'PUNP1m', 'U103'}"
      ]
     },
     "execution_count": 14,
     "metadata": {},
     "output_type": "execute_result"
    },
    {
     "name": "stdout",
     "output_type": "stream",
     "text": [
      "newid PUNP1\n",
      "original id and ecoli QUINOPRIBOTRANS-RXN_c0 NNDPR\n"
     ]
    },
    {
     "data": {
      "text/plain": [
       "{'NNDPR', 'NNDPRm', 'QPT1_1'}"
      ]
     },
     "execution_count": 14,
     "metadata": {},
     "output_type": "execute_result"
    },
    {
     "name": "stdout",
     "output_type": "stream",
     "text": [
      "newid NNDPR\n",
      "duplicate DAAD {'bigg.reaction': 'DAAD', 'metanetx.reaction': 'MNXR97073', 'seed.compound': 'rxn08291'}\n",
      "original id and ecoli MALONYL-COA-ACP-TRANSACYL-RXN_c0 MCOATA\n"
     ]
    },
    {
     "data": {
      "text/plain": [
       "{'FAS1_1', 'MCOATA', 'MCOATA_1', 'MCOATAm'}"
      ]
     },
     "execution_count": 14,
     "metadata": {},
     "output_type": "execute_result"
    },
    {
     "name": "stdout",
     "output_type": "stream",
     "text": [
      "newid MCOATA\n",
      "duplicate LPLIPAL2A160 {'bigg.reaction': 'LPLIPAL2A160', 'metanetx.reaction': 'MNXR101165', 'seed.compound': 'rxn08820'}\n",
      "original id and ecoli TRANS-RXN-62A_c0 DALAt2pp\n"
     ]
    },
    {
     "data": {
      "text/plain": [
       "{'ALA_Dt2', 'ALA_Dt6', 'DALAt2', 'DALAt2pp', 'DALAt2r', 'DALAt2rL'}"
      ]
     },
     "execution_count": 14,
     "metadata": {},
     "output_type": "execute_result"
    },
    {
     "name": "stdout",
     "output_type": "stream",
     "text": [
      "newid DALAt2pp\n",
      "original id and ecoli 3-OXOACYL-ACP-SYNTH-BASE-RXN_c0 KAS14\n"
     ]
    },
    {
     "data": {
      "text/plain": [
       "{'ACMAT1', 'FAS2_1_1', 'KAS14', 'KAS14_1'}"
      ]
     },
     "execution_count": 14,
     "metadata": {},
     "output_type": "execute_result"
    },
    {
     "name": "stdout",
     "output_type": "stream",
     "text": [
      "newid KAS14\n",
      "original id and ecoli 1.8.4.13-RXN_c0 METSOXR1\n"
     ]
    },
    {
     "data": {
      "text/plain": [
       "{'METSOXR1', 'METSOXR2', 'METSR-S1', 'METSR_S1'}"
      ]
     },
     "execution_count": 14,
     "metadata": {},
     "output_type": "execute_result"
    },
    {
     "name": "stdout",
     "output_type": "stream",
     "text": [
      "newid METSOXR1\n",
      "original id and ecoli METSOXR1 METSOXR2\n"
     ]
    },
    {
     "data": {
      "text/plain": [
       "{'METSOXR1', 'METSOXR2', 'METSR-S1', 'METSR_S1'}"
      ]
     },
     "execution_count": 14,
     "metadata": {},
     "output_type": "execute_result"
    },
    {
     "name": "stdout",
     "output_type": "stream",
     "text": [
      "newid METSOXR2\n",
      "duplicate AMALT1 {'bigg.reaction': 'AMALT1', 'biocyc': 'AMYLOMALT-RXN', 'metanetx.reaction': 'MNXR95800', 'seed.compound': 'rxn08126'}\n",
      "duplicate G3PAT140 {'biocyc': 'RXN-17017', 'metanetx.reaction': 'MNXR120583', 'seed.compound': 'rxn08547'}\n",
      "duplicate MDH3 {'bigg.reaction': 'MDH3', 'metanetx.reaction': 'MNXR101441', 'seed.compound': 'rxn08901'}\n",
      "duplicate BPNT {'bigg.reaction': 'BPNT', 'biocyc': '325-BISPHOSPHATE-NUCLEOTIDASE-RXN', 'kegg.reaction': 'R00188', 'metanetx.reaction': 'MNXR96321', 'seed.compound': 'rxn00137'}\n",
      "original id and ecoli DUDPKIN-RXN_c0 NDPK6\n"
     ]
    },
    {
     "data": {
      "text/plain": [
       "{'NDPK6', 'NDPK6m', 'NDPK6n', 'YNK1_4'}"
      ]
     },
     "execution_count": 14,
     "metadata": {},
     "output_type": "execute_result"
    },
    {
     "name": "stdout",
     "output_type": "stream",
     "text": [
      "newid NDPK6\n",
      "duplicate UAMAS {'bigg.reaction': 'UAMAS', 'biocyc': 'UDP-NACMUR-ALA-LIG-RXN', 'kegg.reaction': 'R03193', 'metanetx.reaction': 'MNXR105039', 'seed.compound': 'rxn02286'}\n",
      "original id and ecoli MNXR95302_c0 ACOAD1f\n"
     ]
    },
    {
     "data": {
      "text/plain": [
       "{'ACOA40OR', 'ACOAD1f', 'ACOAD1fm'}"
      ]
     },
     "execution_count": 14,
     "metadata": {},
     "output_type": "execute_result"
    },
    {
     "name": "stdout",
     "output_type": "stream",
     "text": [
      "newid ACOAD1f\n",
      "##in IMPC IMPCYCLOHYDROLASE-RXN_c0\n",
      "duplicate DHPPD {'kegg.reaction': 'R06784', 'metanetx.reaction': 'MNXR110534', 'seed.compound': 'rxn04599'}\n",
      "original id and ecoli 3PGAREARR-RXN_c0 PGM\n"
     ]
    },
    {
     "data": {
      "text/plain": [
       "{'GPM1_2', 'GPM2', 'GPM3', 'PGM', 'PGM_1', 'PGMf', 'PGMm'}"
      ]
     },
     "execution_count": 14,
     "metadata": {},
     "output_type": "execute_result"
    },
    {
     "name": "stdout",
     "output_type": "stream",
     "text": [
      "newid PGM\n",
      "original id and ecoli MNXR99672_c0 FTHFLi\n"
     ]
    },
    {
     "data": {
      "text/plain": [
       "{'ADE3_2', 'FTHFL', 'FTHFLi', 'FTHFLm', 'FTHFLmi'}"
      ]
     },
     "execution_count": 14,
     "metadata": {},
     "output_type": "execute_result"
    },
    {
     "name": "stdout",
     "output_type": "stream",
     "text": [
      "newid FTHFLi\n",
      "duplicate FA80ACPHi {'kegg.reaction': 'R08157', 'metanetx.reaction': 'MNXR111734', 'seed.compound': 'rxn08438'}\n",
      "original id and ecoli MNXR102302_c0 P5CR\n"
     ]
    },
    {
     "data": {
      "text/plain": [
       "{'P5CR', 'P5CRm', 'PRO1y', 'PRO3_1'}"
      ]
     },
     "execution_count": 14,
     "metadata": {},
     "output_type": "execute_result"
    },
    {
     "name": "stdout",
     "output_type": "stream",
     "text": [
      "newid P5CR\n",
      "duplicate IPDPS {'bigg.reaction': 'IPDPS', 'metanetx.reaction': 'MNXR100874', 'seed.compound': 'rxn08756'}\n",
      "original id and ecoli NICOTINAMID-RXN_c0 NNAM\n"
     ]
    },
    {
     "data": {
      "text/plain": [
       "{'NNAM', 'NNAMrm', 'PNC1_1'}"
      ]
     },
     "execution_count": 14,
     "metadata": {},
     "output_type": "execute_result"
    },
    {
     "name": "stdout",
     "output_type": "stream",
     "text": [
      "newid NNAM\n",
      "duplicate CTPS2 {'bigg.reaction': 'CTPS2', 'biocyc': 'CTPSYN-RXN', 'kegg.reaction': 'R00573', 'metanetx.reaction': 'MNXR96945', 'seed.compound': 'rxn00412'}\n",
      "original id and ecoli RXN-6622_c0 AMPTASECG\n"
     ]
    },
    {
     "data": {
      "text/plain": [
       "{'AMPTASECG', 'AMPTASECGe', 'TRIA'}"
      ]
     },
     "execution_count": 14,
     "metadata": {},
     "output_type": "execute_result"
    },
    {
     "name": "stdout",
     "output_type": "stream",
     "text": [
      "newid AMPTASECG\n",
      "original id and ecoli TRANS-RXN0-222_c0 ASPabcpp\n"
     ]
    },
    {
     "data": {
      "text/plain": [
       "{'ASPabc', 'ASPabcpp'}"
      ]
     },
     "execution_count": 14,
     "metadata": {},
     "output_type": "execute_result"
    },
    {
     "name": "stdout",
     "output_type": "stream",
     "text": [
      "newid ASPabcpp\n",
      "original id and ecoli MNXR100655_c0 HKNTDH\n"
     ]
    },
    {
     "data": {
      "text/plain": [
       "{'HKNTDH', 'HKNTDH_1'}"
      ]
     },
     "execution_count": 14,
     "metadata": {},
     "output_type": "execute_result"
    },
    {
     "name": "stdout",
     "output_type": "stream",
     "text": [
      "newid HKNTDH\n",
      "duplicate LPLIPAL2G140 {'metanetx.reaction': 'MNXR135886', 'seed.compound': 'rxn08846'}\n",
      "duplicate DHAD2 {'metanetx.reaction': 'MNXR134508', 'seed.compound': 'rxn03437'}\n",
      "original id and ecoli DGDPKIN-RXN_c0 NDPK5\n"
     ]
    },
    {
     "data": {
      "text/plain": [
       "{'ATDGDm', 'NDPK5', 'NDPK5m', 'NDPK5n', 'YNK1_3'}"
      ]
     },
     "execution_count": 14,
     "metadata": {},
     "output_type": "execute_result"
    },
    {
     "name": "stdout",
     "output_type": "stream",
     "text": [
      "newid NDPK5\n",
      "original id and ecoli RXN-12490_c0 HACD4\n"
     ]
    },
    {
     "data": {
      "text/plain": [
       "{'HACD4', 'HACD4_1', 'HACD4i', 'HACD4m', 'HACD4p'}"
      ]
     },
     "execution_count": 14,
     "metadata": {},
     "output_type": "execute_result"
    },
    {
     "name": "stdout",
     "output_type": "stream",
     "text": [
      "newid HACD4\n",
      "duplicate U23GAAT {'bigg.reaction': 'U23GAAT', 'biocyc': 'UDPHYDROXYMYRGLUCOSAMNACETYLTRANS-RXN', 'kegg.reaction': 'R04550', 'metanetx.reaction': 'MNXR105007', 'seed.compound': 'rxn06723'}\n",
      "duplicate DAPDC {'bigg.reaction': 'DAPDC', 'biocyc': 'DIAMINOPIMDECARB-RXN', 'kegg.reaction': 'R00451', 'metanetx.reaction': 'MNXR97141', 'seed.compound': 'rxn00313'}\n",
      "duplicate ADPRDP {'biocyc': 'RXN0-1441', 'kegg.reaction': 'R01054', 'metanetx.reaction': 'MNXR106807', 'seed.compound': 'rxn00775'}\n",
      "original id and ecoli RXN-13617_c0 ACACT4r\n"
     ]
    },
    {
     "data": {
      "text/plain": [
       "{'ACACT4m', 'ACACT4p', 'ACACT4r', 'KAT4'}"
      ]
     },
     "execution_count": 14,
     "metadata": {},
     "output_type": "execute_result"
    },
    {
     "name": "stdout",
     "output_type": "stream",
     "text": [
      "newid ACACT4r\n",
      "original id and ecoli 3.6.3.2-RXN_c0 MG2uabcpp\n"
     ]
    },
    {
     "data": {
      "text/plain": [
       "{'MG2abc', 'MG2abci', 'MG2uabcpp', 'MGt', 'Mg2abc'}"
      ]
     },
     "execution_count": 14,
     "metadata": {},
     "output_type": "execute_result"
    },
    {
     "name": "stdout",
     "output_type": "stream",
     "text": [
      "newid MG2uabcpp\n",
      "duplicate HEX7 {'kegg.reaction': 'R00760', 'metanetx.reaction': 'MNXR106668', 'seed.compound': 'rxn00547'}\n",
      "duplicate EAR80x {'biocyc': 'RXN-9659', 'kegg.reaction': 'R04958', 'metanetx.reaction': 'MNXR109249', 'seed.compound': 'rxn05325'}\n",
      "duplicate GLYCK2 {'bigg.reaction': 'GLYCK2', 'biocyc': 'GKI-RXN', 'kegg.reaction': 'R08572', 'metanetx.reaction': 'MNXR100329', 'seed.compound': 'rxn08647'}\n",
      "original id and ecoli MNXR101401_c0 MANptspp\n"
     ]
    },
    {
     "data": {
      "text/plain": [
       "{'MANpts', 'MANptspp'}"
      ]
     },
     "execution_count": 14,
     "metadata": {},
     "output_type": "execute_result"
    },
    {
     "name": "stdout",
     "output_type": "stream",
     "text": [
      "newid MANptspp\n",
      "original id and ecoli ATPSYN-RXN_c0 ATPS4rpp\n"
     ]
    },
    {
     "data": {
      "text/plain": [
       "{'ATPS4m', 'ATPS4m_cho', 'ATPS4r', 'ATPS4rpp', 'ATPSh', 'ATPasel'}"
      ]
     },
     "execution_count": 14,
     "metadata": {},
     "output_type": "execute_result"
    },
    {
     "name": "stdout",
     "output_type": "stream",
     "text": [
      "newid ATPS4rpp\n",
      "duplicate LPLIPAL1E120pp {'metanetx.reaction': 'MNXR135847', 'seed.compound': 'rxn08803'}\n",
      "original id and ecoli LACTALDDEHYDROG-RXN_c0 LCADi\n"
     ]
    },
    {
     "data": {
      "text/plain": [
       "{'LCAD', 'LCADi', 'LCADm'}"
      ]
     },
     "execution_count": 14,
     "metadata": {},
     "output_type": "execute_result"
    },
    {
     "name": "stdout",
     "output_type": "stream",
     "text": [
      "newid LCADi\n",
      "duplicate AMAOTr {'bigg.reaction': 'AMAOTr', 'biocyc': 'DAPASYN-RXN', 'kegg.reaction': 'R03231', 'metanetx.reaction': 'MNXR95806', 'seed.compound': 'rxn02312'}\n",
      "duplicate AB6PGH {'bigg.reaction': 'AB6PGH', 'metanetx.reaction': 'MNXR95165', 'seed.compound': 'rxn08025'}\n",
      "duplicate SGSAD {'bigg.reaction': 'SGSAD', 'biocyc': 'SUCCGLUALDDEHYD-RXN', 'kegg.reaction': 'R05049', 'metanetx.reaction': 'MNXR104368', 'seed.compound': 'rxn03422'}\n",
      "original id and ecoli GLYRIBONUCSYN-RXN_c0 PRAGSr\n"
     ]
    },
    {
     "data": {
      "text/plain": [
       "{'ADE5_7_1', 'PPRGL', 'PPRGLh', 'PRAGS', 'PRAGSr'}"
      ]
     },
     "execution_count": 14,
     "metadata": {},
     "output_type": "execute_result"
    },
    {
     "name": "stdout",
     "output_type": "stream",
     "text": [
      "newid PRAGSr\n",
      "duplicate AGPAT181 {'metanetx.reaction': 'MNXR135729', 'seed.compound': 'rxn08089'}\n",
      "original id and ecoli GLUTAMIN-RXN_c0 GLUN\n"
     ]
    },
    {
     "data": {
      "text/plain": [
       "{'GAM', 'GLUN', 'GLUNm', 'GLUNpp', 'U42', 'U43'}"
      ]
     },
     "execution_count": 14,
     "metadata": {},
     "output_type": "execute_result"
    },
    {
     "name": "stdout",
     "output_type": "stream",
     "text": [
      "newid GLUN\n",
      "original id and ecoli GLUN GLUNpp\n"
     ]
    },
    {
     "data": {
      "text/plain": [
       "{'GAM', 'GLUN', 'GLUNm', 'GLUNpp', 'U42', 'U43'}"
      ]
     },
     "execution_count": 14,
     "metadata": {},
     "output_type": "execute_result"
    },
    {
     "name": "stdout",
     "output_type": "stream",
     "text": [
      "newid GLUNpp\n",
      "original id and ecoli PRAISOM-RXN_c0 PRAIi\n"
     ]
    },
    {
     "data": {
      "text/plain": [
       "{'PRAI', 'PRAIi', 'TRP1'}"
      ]
     },
     "execution_count": 14,
     "metadata": {},
     "output_type": "execute_result"
    },
    {
     "name": "stdout",
     "output_type": "stream",
     "text": [
      "newid PRAIi\n",
      "original id and ecoli ALCOHOL-DEHYDROG-RXN_c0 ALCD2x\n"
     ]
    },
    {
     "data": {
      "text/plain": [
       "{'ADH1',\n",
       " 'ADH2',\n",
       " 'ADH4',\n",
       " 'ADH5',\n",
       " 'ALCD1',\n",
       " 'ALCD2if',\n",
       " 'ALCD2ir',\n",
       " 'ALCD2irm',\n",
       " 'ALCD2m',\n",
       " 'ALCD2x',\n",
       " 'SFA1_2'}"
      ]
     },
     "execution_count": 14,
     "metadata": {},
     "output_type": "execute_result"
    },
    {
     "name": "stdout",
     "output_type": "stream",
     "text": [
      "newid ALCD2x\n",
      "original id and ecoli RXN0-5114_c0 PSP_L\n"
     ]
    },
    {
     "data": {
      "text/plain": [
       "{'PSP', 'PSP_L', 'PSP_Lpp', 'SER2'}"
      ]
     },
     "execution_count": 14,
     "metadata": {},
     "output_type": "execute_result"
    },
    {
     "name": "stdout",
     "output_type": "stream",
     "text": [
      "newid PSP_L\n",
      "original id and ecoli PSP_L PSP_Lpp\n"
     ]
    },
    {
     "data": {
      "text/plain": [
       "{'PSP', 'PSP_L', 'PSP_Lpp', 'SER2'}"
      ]
     },
     "execution_count": 14,
     "metadata": {},
     "output_type": "execute_result"
    },
    {
     "name": "stdout",
     "output_type": "stream",
     "text": [
      "newid PSP_Lpp\n",
      "original id and ecoli 2.3.1.155-RXN_c0 ACACT7r\n"
     ]
    },
    {
     "data": {
      "text/plain": [
       "{'ACACT7m', 'ACACT7p', 'ACACT7r', 'KAT7', 'r0653'}"
      ]
     },
     "execution_count": 14,
     "metadata": {},
     "output_type": "execute_result"
    },
    {
     "name": "stdout",
     "output_type": "stream",
     "text": [
      "newid ACACT7r\n",
      "duplicate PERD {'bigg.reaction': 'PERD', 'biocyc': 'ERYTHRON4PDEHYDROG-RXN', 'kegg.reaction': 'R04210', 'metanetx.reaction': 'MNXR102495', 'seed.compound': 'rxn02939'}\n",
      "original id and ecoli ADPREDUCT-RXN_c0 RNDR1\n"
     ]
    },
    {
     "data": {
      "text/plain": [
       "{'RIBRB12', 'RNDR1', 'RNDR1n'}"
      ]
     },
     "execution_count": 14,
     "metadata": {},
     "output_type": "execute_result"
    },
    {
     "name": "stdout",
     "output_type": "stream",
     "text": [
      "newid RNDR1\n",
      "duplicate PSD160 {'bigg.reaction': 'PSD160', 'metanetx.reaction': 'MNXR103232', 'seed.compound': 'rxn09200'}\n",
      "duplicate ALAR {'bigg.reaction': 'ALAR', 'biocyc': 'ALARACECAT-RXN', 'kegg.reaction': 'R00401', 'metanetx.reaction': 'MNXR95693', 'seed.compound': 'rxn00283'}\n",
      "duplicate LPLIPAL2G181 {'metanetx.reaction': 'MNXR135891', 'seed.compound': 'rxn08851'}\n",
      "original id and ecoli MNXR94887_c0 3HAD60\n"
     ]
    },
    {
     "data": {
      "text/plain": [
       "{'3HAD60', '3HAD60_1', 'HHYHL2'}"
      ]
     },
     "execution_count": 14,
     "metadata": {},
     "output_type": "execute_result"
    },
    {
     "name": "stdout",
     "output_type": "stream",
     "text": [
      "newid 3HAD60\n",
      "original id and ecoli NICONUCADENYLYLTRAN-RXN_c0 NNATr\n"
     ]
    },
    {
     "data": {
      "text/plain": [
       "{'NNAT', 'NNATm', 'NNATn', 'NNATr', 'YLR328W_1'}"
      ]
     },
     "execution_count": 14,
     "metadata": {},
     "output_type": "execute_result"
    },
    {
     "name": "stdout",
     "output_type": "stream",
     "text": [
      "newid NNATr\n",
      "duplicate PGPP140pp {'metanetx.reaction': 'MNXR135934', 'seed.compound': 'rxn09102'}\n",
      "duplicate G3PAT181 {'metanetx.reaction': 'MNXR135830', 'seed.compound': 'rxn08552'}\n",
      "original id and ecoli 3.6.3.19-RXN_c0 MALTabcpp\n"
     ]
    },
    {
     "data": {
      "text/plain": [
       "{'MALTabc', 'MALTabcpp'}"
      ]
     },
     "execution_count": 14,
     "metadata": {},
     "output_type": "execute_result"
    },
    {
     "name": "stdout",
     "output_type": "stream",
     "text": [
      "newid MALTabcpp\n",
      "duplicate PMPK {'bigg.reaction': 'PMPK', 'biocyc': 'PYRIMSYN3-RXN', 'kegg.reaction': 'R04509', 'metanetx.reaction': 'MNXR103045', 'seed.compound': 'rxn03108'}\n",
      "original id and ecoli ASPCARBTRANS-RXN_c0 ASPCT\n"
     ]
    },
    {
     "data": {
      "text/plain": [
       "{'ASPCT', 'ASPCT_1', 'ASPCTm', 'ASPCTn', 'URA2_1'}"
      ]
     },
     "execution_count": 14,
     "metadata": {},
     "output_type": "execute_result"
    },
    {
     "name": "stdout",
     "output_type": "stream",
     "text": [
      "newid ASPCT\n",
      "original id and ecoli GUANOSINEKIN-RXN_c0 GSNK\n"
     ]
    },
    {
     "data": {
      "text/plain": [
       "{'GSNK', 'GSNKm', 'U21'}"
      ]
     },
     "execution_count": 14,
     "metadata": {},
     "output_type": "execute_result"
    },
    {
     "name": "stdout",
     "output_type": "stream",
     "text": [
      "newid GSNK\n",
      "duplicate LPLIPAL1G160pp {'metanetx.reaction': 'MNXR135857', 'seed.compound': 'rxn08813'}\n",
      "original id and ecoli TRANS-RXN-104_c0 L_LACt2rpp\n"
     ]
    },
    {
     "data": {
      "text/plain": [
       "{'L-LACt2',\n",
       " 'L-LACt2r',\n",
       " 'L-LACt4',\n",
       " 'L_LACt2r',\n",
       " 'L_LACt2rpp',\n",
       " 'L_LACtm',\n",
       " 'r2516'}"
      ]
     },
     "execution_count": 14,
     "metadata": {},
     "output_type": "execute_result"
    },
    {
     "name": "stdout",
     "output_type": "stream",
     "text": [
      "newid L_LACt2rpp\n",
      "duplicate PYDXK {'bigg.reaction': 'PYDXK', 'biocyc': 'PYRIDOXKIN-RXN', 'kegg.reaction': 'R00174', 'metanetx.reaction': 'MNXR103361', 'seed.compound': 'rxn00124'}\n",
      "duplicate NODOx {'metanetx.reaction': 'MNXR134590', 'seed.compound': 'rxn03990'}\n",
      "duplicate L_LACD3 {'bigg.reaction': 'L_LACD3', 'metanetx.reaction': 'MNXR101275', 'seed.compound': 'rxn08793'}\n",
      "original id and ecoli MNXR97888_c0 ECOAH3\n"
     ]
    },
    {
     "data": {
      "text/plain": [
       "{'ECOAH3', 'ECOAH3_1', 'ECOAH3m'}"
      ]
     },
     "execution_count": 14,
     "metadata": {},
     "output_type": "execute_result"
    },
    {
     "name": "stdout",
     "output_type": "stream",
     "text": [
      "newid ECOAH3\n",
      "##in PGL 6PGLUCONOLACT-RXN_c0\n",
      "original id and ecoli GLUTATHIONE-PEROXIDASE-RXN_c0 GTHPi\n"
     ]
    },
    {
     "data": {
      "text/plain": [
       "{'GPX1', 'GPX2', 'GSHPO', 'GTHP', 'GTHPe', 'GTHPe_1', 'GTHPi', 'GTHPm', 'HYR1'}"
      ]
     },
     "execution_count": 14,
     "metadata": {},
     "output_type": "execute_result"
    },
    {
     "name": "stdout",
     "output_type": "stream",
     "text": [
      "newid GTHPi\n",
      "duplicate UHGADA {'bigg.reaction': 'UHGADA', 'biocyc': 'UDPACYLGLCNACDEACETYL-RXN', 'kegg.reaction': 'R04587', 'metanetx.reaction': 'MNXR105110', 'seed.compound': 'rxn03146'}\n",
      "duplicate HBZOPT {'bigg.reaction': 'HBZOPT', 'biocyc': '4OHBENZOATE-OCTAPRENYLTRANSFER-RXN', 'kegg.reaction': 'R05615', 'metanetx.reaction': 'MNXR100566', 'seed.compound': 'rxn03893'}\n",
      "original id and ecoli 3-ISOPROPYLMALISOM-RXN_c0 IPPMIb\n"
     ]
    },
    {
     "data": {
      "text/plain": [
       "{'IMDHT', 'IPPMIb', 'LEU1_2'}"
      ]
     },
     "execution_count": 14,
     "metadata": {},
     "output_type": "execute_result"
    },
    {
     "name": "stdout",
     "output_type": "stream",
     "text": [
      "newid IPPMIb\n",
      "original id and ecoli PANTOTHENATE-KIN-RXN_c0 PNTK\n"
     ]
    },
    {
     "data": {
      "text/plain": [
       "{'PNTK', 'PNTKm', 'YDR531W'}"
      ]
     },
     "execution_count": 14,
     "metadata": {},
     "output_type": "execute_result"
    },
    {
     "name": "stdout",
     "output_type": "stream",
     "text": [
      "newid PNTK\n",
      "original id and ecoli RXN-9536_c0 3OAR140\n"
     ]
    },
    {
     "data": {
      "text/plain": [
       "{'3OAR140', '3OAR140_1', 'HTDR6'}"
      ]
     },
     "execution_count": 14,
     "metadata": {},
     "output_type": "execute_result"
    },
    {
     "name": "stdout",
     "output_type": "stream",
     "text": [
      "newid 3OAR140\n",
      "original id and ecoli ABC-13-RXN_c0 GLUabcpp\n"
     ]
    },
    {
     "data": {
      "text/plain": [
       "{'GLUabc', 'GLUabcpp'}"
      ]
     },
     "execution_count": 14,
     "metadata": {},
     "output_type": "execute_result"
    },
    {
     "name": "stdout",
     "output_type": "stream",
     "text": [
      "newid GLUabcpp\n",
      "original id and ecoli CARBPSYN-RXN_c0 CBPS\n"
     ]
    },
    {
     "data": {
      "text/plain": [
       "{'CBPS', 'CBPSn', 'HCGALm'}"
      ]
     },
     "execution_count": 14,
     "metadata": {},
     "output_type": "execute_result"
    },
    {
     "name": "stdout",
     "output_type": "stream",
     "text": [
      "newid CBPS\n",
      "duplicate PGSA141 {'metanetx.reaction': 'MNXR135939', 'seed.compound': 'rxn09110'}\n",
      "original id and ecoli 1.1.1.39-RXN_c0 ME1\n"
     ]
    },
    {
     "data": {
      "text/plain": [
       "{'ME1', 'ME1_rev', 'ME1m', 'ME1x'}"
      ]
     },
     "execution_count": 14,
     "metadata": {},
     "output_type": "execute_result"
    },
    {
     "name": "stdout",
     "output_type": "stream",
     "text": [
      "newid ME1\n",
      "original id and ecoli ACP-S-ACETYLTRANSFER-RXN_c0 ACOATA\n"
     ]
    },
    {
     "data": {
      "text/plain": [
       "{'ACOATA', 'ACOATA_1', 'ACOATAm', 'FAS1_s'}"
      ]
     },
     "execution_count": 14,
     "metadata": {},
     "output_type": "execute_result"
    },
    {
     "name": "stdout",
     "output_type": "stream",
     "text": [
      "newid ACOATA\n",
      "original id and ecoli GTPPYPHOSKIN-RXN_c0 GTPDPK\n"
     ]
    },
    {
     "data": {
      "text/plain": [
       "{'GTPDPK', 'GTPDPK_1'}"
      ]
     },
     "execution_count": 14,
     "metadata": {},
     "output_type": "execute_result"
    },
    {
     "name": "stdout",
     "output_type": "stream",
     "text": [
      "newid GTPDPK\n",
      "##in FUM FUMHYDR-RXN_c0\n",
      "original id and ecoli RXN-14160_c0 GPDDA2\n"
     ]
    },
    {
     "data": {
      "text/plain": [
       "{'GPDDA2', 'GPDDA2pp'}"
      ]
     },
     "execution_count": 14,
     "metadata": {},
     "output_type": "execute_result"
    },
    {
     "name": "stdout",
     "output_type": "stream",
     "text": [
      "newid GPDDA2\n",
      "original id and ecoli GPDDA2 GPDDA2pp\n"
     ]
    },
    {
     "data": {
      "text/plain": [
       "{'GPDDA2', 'GPDDA2pp'}"
      ]
     },
     "execution_count": 14,
     "metadata": {},
     "output_type": "execute_result"
    },
    {
     "name": "stdout",
     "output_type": "stream",
     "text": [
      "newid GPDDA2pp\n",
      "original id and ecoli DMOCT KDOCT2\n"
     ]
    },
    {
     "data": {
      "text/plain": [
       "{'DMOCT', 'KDOCT', 'KDOCT2'}"
      ]
     },
     "execution_count": 14,
     "metadata": {},
     "output_type": "execute_result"
    },
    {
     "name": "stdout",
     "output_type": "stream",
     "text": [
      "newid KDOCT2\n",
      "duplicate PPM2 {'bigg.reaction': 'PPM2', 'biocyc': 'D-PPENTOMUT-RXN', 'kegg.reaction': 'R02749', 'metanetx.reaction': 'MNXR103116', 'seed.compound': 'rxn01986'}\n",
      "original id and ecoli THRESYN-RXN_c0 THRS\n"
     ]
    },
    {
     "data": {
      "text/plain": [
       "{'THR4_1', 'THRS', 'THRS_1'}"
      ]
     },
     "execution_count": 14,
     "metadata": {},
     "output_type": "execute_result"
    },
    {
     "name": "stdout",
     "output_type": "stream",
     "text": [
      "newid THRS\n",
      "original id and ecoli 3.6.3.4-RXN_c0 CU2abcpp\n"
     ]
    },
    {
     "data": {
      "text/plain": [
       "{'CU2abcpp', 'CU2abcu_syn', 'Cut1'}"
      ]
     },
     "execution_count": 14,
     "metadata": {},
     "output_type": "execute_result"
    },
    {
     "name": "stdout",
     "output_type": "stream",
     "text": [
      "newid CU2abcpp\n",
      "original id and ecoli PRTRANS-RXN_c0 ANPRT\n"
     ]
    },
    {
     "data": {
      "text/plain": [
       "{'ANPRT', 'ANTPPT', 'TRP4'}"
      ]
     },
     "execution_count": 14,
     "metadata": {},
     "output_type": "execute_result"
    },
    {
     "name": "stdout",
     "output_type": "stream",
     "text": [
      "newid ANPRT\n",
      "duplicate RZ5PP {'bigg.reaction': 'RZ5PP', 'biocyc': ['RIBAZOLEPHOSPHAT-RXN', 'RXN-16788'], 'kegg.reaction': 'R04594', 'metanetx.reaction': 'MNXR104116', 'seed.compound': 'rxn03150'}\n",
      "original id and ecoli ADENYLATECYC-RXN_c0 ADNCYC\n"
     ]
    },
    {
     "data": {
      "text/plain": [
       "{'ADECn', 'ADNCYC', 'CYR1'}"
      ]
     },
     "execution_count": 14,
     "metadata": {},
     "output_type": "execute_result"
    },
    {
     "name": "stdout",
     "output_type": "stream",
     "text": [
      "newid ADNCYC\n",
      "duplicate LDH_D2 {'bigg.reaction': 'LDH_D2', 'metanetx.reaction': 'MNXR101039', 'seed.compound': 'rxn08783'}\n",
      "duplicate UDPGALM {'bigg.reaction': 'UDPGALM', 'biocyc': 'GALPMUT-RXN', 'kegg.reaction': 'R00505', 'metanetx.reaction': 'MNXR105058', 'seed.compound': 'rxn00358'}\n",
      "duplicate X5PL3E {'bigg.reaction': 'X5PL3E', 'biocyc': 'LXULRU5P-RXN', 'kegg.reaction': 'R03244', 'metanetx.reaction': 'MNXR105224', 'seed.compound': 'rxn02321'}\n",
      "duplicate FCI {'kegg.reaction': 'R03163', 'metanetx.reaction': 'MNXR107994', 'seed.compound': 'rxn02263'}\n",
      "original id and ecoli TRANS-RXN-283_c0 GLYBabcpp\n"
     ]
    },
    {
     "data": {
      "text/plain": [
       "{'GLYBabc', 'GLYBabcpp'}"
      ]
     },
     "execution_count": 14,
     "metadata": {},
     "output_type": "execute_result"
    },
    {
     "name": "stdout",
     "output_type": "stream",
     "text": [
      "newid GLYBabcpp\n",
      "original id and ecoli TRANS-RXN-114_c0 PIt2rpp\n"
     ]
    },
    {
     "data": {
      "text/plain": [
       "{'PHO84',\n",
       " 'PHO90',\n",
       " 'PHO91',\n",
       " 'PIt2m',\n",
       " 'PIt2n',\n",
       " 'PIt2p',\n",
       " 'PIt2r',\n",
       " 'PIt2rpp',\n",
       " 'PIt2v',\n",
       " 'PIt6',\n",
       " 'PIt6i',\n",
       " 'PItf'}"
      ]
     },
     "execution_count": 14,
     "metadata": {},
     "output_type": "execute_result"
    },
    {
     "name": "stdout",
     "output_type": "stream",
     "text": [
      "newid PIt2rpp\n",
      "original id and ecoli MNXR101872_c0 NADH5\n"
     ]
    },
    {
     "data": {
      "text/plain": [
       "{'NADH12', 'NADH5', 'NADHOR'}"
      ]
     },
     "execution_count": 14,
     "metadata": {},
     "output_type": "execute_result"
    },
    {
     "name": "stdout",
     "output_type": "stream",
     "text": [
      "newid NADH5\n",
      "original id and ecoli 2.7.7.1-RXN_c0 NMNAT\n"
     ]
    },
    {
     "data": {
      "text/plain": [
       "{'ANNAT', 'ANNATn', 'NMNAT', 'NMNATm', 'NMNATn', 'NMNATr'}"
      ]
     },
     "execution_count": 14,
     "metadata": {},
     "output_type": "execute_result"
    },
    {
     "name": "stdout",
     "output_type": "stream",
     "text": [
      "newid NMNAT\n",
      "duplicate ACACT5r {'bigg.reaction': 'ACACT5r_1', 'biocyc': 'RXN-14274', 'kegg.reaction': 'R04742', 'metanetx.reaction': 'MNXR95200', 'seed.compound': 'rxn03243'}\n",
      "duplicate 4HTHRS {'bigg.reaction': '4HTHRS', 'biocyc': 'RXN-14125', 'kegg.reaction': 'R05086', 'metanetx.reaction': 'MNXR95024', 'seed.compound': 'rxn03446'}\n",
      "original id and ecoli MNXR100734_c0 HSDy\n"
     ]
    },
    {
     "data": {
      "text/plain": [
       "{'HOM6_2', 'HSDH', 'HSDy', 'HSDyi'}"
      ]
     },
     "execution_count": 14,
     "metadata": {},
     "output_type": "execute_result"
    },
    {
     "name": "stdout",
     "output_type": "stream",
     "text": [
      "newid HSDy\n",
      "original id and ecoli GLUCISOM-RXN_c0 XYLI2\n"
     ]
    },
    {
     "data": {
      "text/plain": [
       "{'XYLI2', 'XYLI2i'}"
      ]
     },
     "execution_count": 14,
     "metadata": {},
     "output_type": "execute_result"
    },
    {
     "name": "stdout",
     "output_type": "stream",
     "text": [
      "newid XYLI2\n",
      "original id and ecoli TRANS-RXN-125_c0 ALAt4pp\n"
     ]
    },
    {
     "data": {
      "text/plain": [
       "{'ALANA1tm', 'ALANA1tx', 'ALAt4', 'ALAt4pp', 'ALAt4r', 'ALAt7'}"
      ]
     },
     "execution_count": 14,
     "metadata": {},
     "output_type": "execute_result"
    },
    {
     "name": "stdout",
     "output_type": "stream",
     "text": [
      "newid ALAt4pp\n",
      "duplicate DRPA {'bigg.reaction': 'DRPA', 'biocyc': 'DEOXYRIBOSE-P-ALD-RXN', 'kegg.reaction': 'R01066', 'metanetx.reaction': 'MNXR97787', 'seed.compound': 'rxn00784'}\n",
      "duplicate CBIAT {'metanetx.reaction': 'MNXR134792', 'seed.compound': 'rxn05029'}\n",
      "duplicate UAPGR {'bigg.reaction': 'UAPGR', 'biocyc': 'UDPNACETYLMURAMATEDEHYDROG-RXN', 'kegg.reaction': 'R03192', 'metanetx.reaction': 'MNXR105041', 'seed.compound': 'rxn02285'}\n",
      "duplicate CPPPGO {'bigg.reaction': 'CPPPGO', 'biocyc': 'RXN0-1461', 'kegg.reaction': 'R03220', 'metanetx.reaction': 'MNXR96880', 'seed.compound': 'rxn02303'}\n",
      "original id and ecoli SUCCINYLDIAMINOPIMTRANS-RXN_c0 SDPTA\n"
     ]
    },
    {
     "data": {
      "text/plain": [
       "{'SDPTA', 'SDPTAi'}"
      ]
     },
     "execution_count": 14,
     "metadata": {},
     "output_type": "execute_result"
    },
    {
     "name": "stdout",
     "output_type": "stream",
     "text": [
      "newid SDPTA\n",
      "original id and ecoli TRANS-RXN-76_c0 TRPt2rpp\n"
     ]
    },
    {
     "data": {
      "text/plain": [
       "{'BAP2_6',\n",
       " 'BAP3_6',\n",
       " 'GAP1_15',\n",
       " 'TAT1_3',\n",
       " 'TAT2_5',\n",
       " 'TRPt2',\n",
       " 'TRPt2m',\n",
       " 'TRPt2r',\n",
       " 'TRPt2rpp',\n",
       " 'TRPt6',\n",
       " 'TRPth',\n",
       " 'VAP1_5'}"
      ]
     },
     "execution_count": 14,
     "metadata": {},
     "output_type": "execute_result"
    },
    {
     "name": "stdout",
     "output_type": "stream",
     "text": [
      "newid TRPt2rpp\n",
      "duplicate LPLIPAL2G160 {'metanetx.reaction': 'MNXR135888', 'seed.compound': 'rxn08848'}\n",
      "duplicate FTHFD {'bigg.reaction': 'FTHFD', 'kegg.reaction': 'R00944', 'metanetx.reaction': 'MNXR99669', 'seed.compound': 'rxn00691'}\n",
      "duplicate LPLIPAL2E141 {'metanetx.reaction': 'MNXR135882', 'seed.compound': 'rxn08840'}\n",
      "original id and ecoli MNXR99621_c0 FORt2pp\n"
     ]
    },
    {
     "data": {
      "text/plain": [
       "{'FORt2', 'FORt2pp', 'FORthi', 'FORti_1', 'FORtmi', 'FORtxi'}"
      ]
     },
     "execution_count": 14,
     "metadata": {},
     "output_type": "execute_result"
    },
    {
     "name": "stdout",
     "output_type": "stream",
     "text": [
      "newid FORt2pp\n",
      "original id and ecoli 2.7.7.60-RXN_c0 MEPCT\n"
     ]
    },
    {
     "data": {
      "text/plain": [
       "{'CMS', 'MEPCT'}"
      ]
     },
     "execution_count": 14,
     "metadata": {},
     "output_type": "execute_result"
    },
    {
     "name": "stdout",
     "output_type": "stream",
     "text": [
      "newid MEPCT\n",
      "duplicate ADOCBLS {'bigg.reaction': 'ADOCBLS', 'biocyc': 'COBALAMINSYN-RXN', 'kegg.reaction': 'R05223', 'metanetx.reaction': 'MNXR95469', 'seed.compound': 'rxn03538'}\n",
      "original id and ecoli HISTPRATPHYD-RXN_c0 PRATPP\n"
     ]
    },
    {
     "data": {
      "text/plain": [
       "{'HIS4_1', 'PRADPh', 'PRATPP'}"
      ]
     },
     "execution_count": 14,
     "metadata": {},
     "output_type": "execute_result"
    },
    {
     "name": "stdout",
     "output_type": "stream",
     "text": [
      "newid PRATPP\n",
      "original id and ecoli GPPSYN-RXN_c0 DMATT\n"
     ]
    },
    {
     "data": {
      "text/plain": [
       "{'DMATT', 'DMATTx', 'GPPSh'}"
      ]
     },
     "execution_count": 14,
     "metadata": {},
     "output_type": "execute_result"
    },
    {
     "name": "stdout",
     "output_type": "stream",
     "text": [
      "newid DMATT\n",
      "original id and ecoli 2PGADEHYDRAT-RXN_c0 ENO\n"
     ]
    },
    {
     "data": {
      "text/plain": [
       "{'ENO', 'ENO1', 'ENO2', 'ENOf', 'ENOm', 'ERR1_1', 'ERR1_2', 'ERR2'}"
      ]
     },
     "execution_count": 14,
     "metadata": {},
     "output_type": "execute_result"
    },
    {
     "name": "stdout",
     "output_type": "stream",
     "text": [
      "newid ENO\n",
      "original id and ecoli 3.6.3.25-RXN_c0 SULabcpp\n"
     ]
    },
    {
     "data": {
      "text/plain": [
       "{'SULabc', 'SULabcpp'}"
      ]
     },
     "execution_count": 14,
     "metadata": {},
     "output_type": "execute_result"
    },
    {
     "name": "stdout",
     "output_type": "stream",
     "text": [
      "newid SULabcpp\n",
      "duplicate LPLIPAL1E160pp {'metanetx.reaction': 'MNXR135850', 'seed.compound': 'rxn08806'}\n",
      "original id and ecoli 3.6.3.30-RXN_c0 FE3abcpp\n"
     ]
    },
    {
     "data": {
      "text/plain": [
       "{'FE3abc', 'FE3abcpp'}"
      ]
     },
     "execution_count": 14,
     "metadata": {},
     "output_type": "execute_result"
    },
    {
     "name": "stdout",
     "output_type": "stream",
     "text": [
      "newid FE3abcpp\n",
      "original id and ecoli TRANS-RXN-101_c0 NAt3pp\n"
     ]
    },
    {
     "data": {
      "text/plain": [
       "{'NA1Hth', 'NA1Htm', 'NAt3', 'NAt3_1', 'NAt3_1g', 'NAt3pp', 'NAt7', 'NHA1'}"
      ]
     },
     "execution_count": 14,
     "metadata": {},
     "output_type": "execute_result"
    },
    {
     "name": "stdout",
     "output_type": "stream",
     "text": [
      "newid NAt3pp\n",
      "original id and ecoli ACETATE--COA-LIGASE-RXN_c0 ACS\n"
     ]
    },
    {
     "data": {
      "text/plain": [
       "{'ACS', 'ACS1', 'ACSm', 'ACSp', 'ACSr'}"
      ]
     },
     "execution_count": 14,
     "metadata": {},
     "output_type": "execute_result"
    },
    {
     "name": "stdout",
     "output_type": "stream",
     "text": [
      "newid ACS\n",
      "duplicate PYNP2r {'bigg.reaction': 'PYNP2r', 'biocyc': 'URPHOS-RXN', 'kegg.reaction': 'R01876', 'metanetx.reaction': 'MNXR103377', 'seed.compound': 'rxn01366'}\n",
      "original id and ecoli MNXR101988_c0 NO3R2pp\n"
     ]
    },
    {
     "data": {
      "text/plain": [
       "{'NO3R2', 'NO3R2pp'}"
      ]
     },
     "execution_count": 14,
     "metadata": {},
     "output_type": "execute_result"
    },
    {
     "name": "stdout",
     "output_type": "stream",
     "text": [
      "newid NO3R2pp\n",
      "original id and ecoli RXN-7800_c0 OMCDC\n"
     ]
    },
    {
     "data": {
      "text/plain": [
       "{'OMCDC', 'OMCDCm'}"
      ]
     },
     "execution_count": 14,
     "metadata": {},
     "output_type": "execute_result"
    },
    {
     "name": "stdout",
     "output_type": "stream",
     "text": [
      "newid OMCDC\n",
      "original id and ecoli ABC-26-RXN_c0 PROabcpp\n"
     ]
    },
    {
     "data": {
      "text/plain": [
       "{'PROabc', 'PROabcpp'}"
      ]
     },
     "execution_count": 14,
     "metadata": {},
     "output_type": "execute_result"
    },
    {
     "name": "stdout",
     "output_type": "stream",
     "text": [
      "newid PROabcpp\n",
      "original id and ecoli THYKI-RXN_c0 TMDK1\n"
     ]
    },
    {
     "data": {
      "text/plain": [
       "{'TMDK1', 'TMDK1m', 'U16'}"
      ]
     },
     "execution_count": 14,
     "metadata": {},
     "output_type": "execute_result"
    },
    {
     "name": "stdout",
     "output_type": "stream",
     "text": [
      "newid TMDK1\n",
      "original id and ecoli TRANS-RXN-141A_c0 COBALT2tex\n"
     ]
    },
    {
     "data": {
      "text/plain": [
       "{'COBALT2tex', 'COBALT2tpp', 'COBALTt5', 'COBALTt5i'}"
      ]
     },
     "execution_count": 14,
     "metadata": {},
     "output_type": "execute_result"
    },
    {
     "name": "stdout",
     "output_type": "stream",
     "text": [
      "newid COBALT2tex\n",
      "original id and ecoli COBALT2tex COBALT2tpp\n"
     ]
    },
    {
     "data": {
      "text/plain": [
       "{'COBALT2tex', 'COBALT2tpp', 'COBALTt5', 'COBALTt5i'}"
      ]
     },
     "execution_count": 14,
     "metadata": {},
     "output_type": "execute_result"
    },
    {
     "name": "stdout",
     "output_type": "stream",
     "text": [
      "newid COBALT2tpp\n",
      "original id and ecoli ASPAMINOTRANS-RXN_c0 ASPTA\n"
     ]
    },
    {
     "data": {
      "text/plain": [
       "{'AAT2_1', 'ASPATh', 'ASPTA', 'ASPTA1', 'ASPTA1r', 'ASPTAm', 'ASPTAp'}"
      ]
     },
     "execution_count": 14,
     "metadata": {},
     "output_type": "execute_result"
    },
    {
     "name": "stdout",
     "output_type": "stream",
     "text": [
      "newid ASPTA\n",
      "original id and ecoli MNXR101986_c0 NO3R1pp\n"
     ]
    },
    {
     "data": {
      "text/plain": [
       "{'NO3R1', 'NO3R1pp'}"
      ]
     },
     "execution_count": 14,
     "metadata": {},
     "output_type": "execute_result"
    },
    {
     "name": "stdout",
     "output_type": "stream",
     "text": [
      "newid NO3R1pp\n",
      "duplicate UAGCVT {'bigg.reaction': 'UAGCVT', 'biocyc': 'UDPNACETYLGLUCOSAMENOLPYRTRANS-RXN', 'kegg.reaction': 'R00660', 'metanetx.reaction': 'MNXR105032', 'seed.compound': 'rxn00461'}\n",
      "original id and ecoli RXN0-7185_c0 METSOX1abcpp\n"
     ]
    },
    {
     "data": {
      "text/plain": [
       "{'METSOX1abcpp', 'METSOX2abcpp', 'METSabc'}"
      ]
     },
     "execution_count": 14,
     "metadata": {},
     "output_type": "execute_result"
    },
    {
     "name": "stdout",
     "output_type": "stream",
     "text": [
      "newid METSOX1abcpp\n",
      "original id and ecoli METSOX1abcpp METSOX2abcpp\n"
     ]
    },
    {
     "data": {
      "text/plain": [
       "{'METSOX1abcpp', 'METSOX2abcpp', 'METSabc'}"
      ]
     },
     "execution_count": 14,
     "metadata": {},
     "output_type": "execute_result"
    },
    {
     "name": "stdout",
     "output_type": "stream",
     "text": [
      "newid METSOX2abcpp\n",
      "original id and ecoli ALPHAGALACTOSID-RXN_c0 GALS3\n"
     ]
    },
    {
     "data": {
      "text/plain": [
       "{'DGGH', 'FSP2_2', 'GALS3', 'MGHB', 'YBR184W_1', 'YBR184W_2'}"
      ]
     },
     "execution_count": 14,
     "metadata": {},
     "output_type": "execute_result"
    },
    {
     "name": "stdout",
     "output_type": "stream",
     "text": [
      "newid GALS3\n",
      "duplicate ACCOAL {'biocyc': 'PROPANOATECOA-LIGASE-RXN', 'kegg.reaction': 'R00920', 'metanetx.reaction': 'MNXR106752', 'seed.compound': 'rxn00669'}\n",
      "original id and ecoli AGMATIN-RXN_c0 AGMT\n"
     ]
    },
    {
     "data": {
      "text/plain": [
       "{'AGMT', 'AGMTm'}"
      ]
     },
     "execution_count": 14,
     "metadata": {},
     "output_type": "execute_result"
    },
    {
     "name": "stdout",
     "output_type": "stream",
     "text": [
      "newid AGMT\n",
      "duplicate ADSL2r {'bigg.reaction': 'ADSL2r', 'biocyc': 'AICARSYN-RXN', 'metanetx.reaction': 'MNXR95494', 'seed.compound': 'rxn03136'}\n",
      "duplicate PGPP120pp {'metanetx.reaction': 'MNXR135933', 'seed.compound': 'rxn09101'}\n",
      "original id and ecoli ADE5_7_2 PRAIS\n"
     ]
    },
    {
     "data": {
      "text/plain": [
       "{'ADE5_7_2', 'PRAIS'}"
      ]
     },
     "execution_count": 14,
     "metadata": {},
     "output_type": "execute_result"
    },
    {
     "name": "stdout",
     "output_type": "stream",
     "text": [
      "newid PRAIS\n",
      "duplicate AGPAT180 {'metanetx.reaction': 'MNXR135728', 'seed.compound': 'rxn08088'}\n",
      "original id and ecoli MNXR100679_c0 HOPNTAL\n"
     ]
    },
    {
     "data": {
      "text/plain": [
       "{'HOPNTAL', 'HOPNTAL3'}"
      ]
     },
     "execution_count": 14,
     "metadata": {},
     "output_type": "execute_result"
    },
    {
     "name": "stdout",
     "output_type": "stream",
     "text": [
      "newid HOPNTAL\n",
      "duplicate LPLIPAL1G120pp {'metanetx.reaction': 'MNXR135854', 'seed.compound': 'rxn08810'}\n",
      "original id and ecoli MNXR99614_c0 FOMETRi\n"
     ]
    },
    {
     "data": {
      "text/plain": [
       "{'FOMETR', 'FOMETRi', 'MTAM', 'THFAT', 'THFATm'}"
      ]
     },
     "execution_count": 14,
     "metadata": {},
     "output_type": "execute_result"
    },
    {
     "name": "stdout",
     "output_type": "stream",
     "text": [
      "newid FOMETRi\n",
      "original id and ecoli FOMETRi THFAT\n"
     ]
    },
    {
     "data": {
      "text/plain": [
       "{'FOMETR', 'FOMETRi', 'MTAM', 'THFAT', 'THFATm'}"
      ]
     },
     "execution_count": 14,
     "metadata": {},
     "output_type": "execute_result"
    },
    {
     "name": "stdout",
     "output_type": "stream",
     "text": [
      "newid THFAT\n",
      "original id and ecoli RXN-12618_c0 GTHRDHpp\n"
     ]
    },
    {
     "data": {
      "text/plain": [
       "{'GGTAe2', 'GTHRDH_syn', 'GTHRDHpp'}"
      ]
     },
     "execution_count": 14,
     "metadata": {},
     "output_type": "execute_result"
    },
    {
     "name": "stdout",
     "output_type": "stream",
     "text": [
      "newid GTHRDHpp\n",
      "duplicate AICART {'bigg.reaction': 'AICART', 'kegg.reaction': 'R04560', 'metanetx.reaction': 'MNXR95639', 'seed.compound': 'rxn03137'}\n",
      "duplicate AGPAT161 {'metanetx.reaction': 'MNXR135727', 'seed.compound': 'rxn08087'}\n",
      "original id and ecoli RXN-9952_c0 GND\n"
     ]
    },
    {
     "data": {
      "text/plain": [
       "{'GND', 'GND1', 'GND2', 'GNDer', 'PGDH', 'PGDHh', 'PGDHr'}"
      ]
     },
     "execution_count": 14,
     "metadata": {},
     "output_type": "execute_result"
    },
    {
     "name": "stdout",
     "output_type": "stream",
     "text": [
      "newid GND\n",
      "duplicate LPLIPAL2A140 {'metanetx.reaction': 'MNXR135862', 'seed.compound': 'rxn08818'}\n",
      "duplicate PAPSR {'bigg.reaction': 'PAPSR', 'biocyc': '1.8.4.8-RXN', 'kegg.reaction': 'R02021', 'metanetx.reaction': 'MNXR102376', 'seed.compound': 'rxn05239'}\n",
      "duplicate DASYN181 {'bigg.reaction': 'DASYN181', 'metanetx.reaction': 'MNXR97161', 'seed.compound': 'rxn08312'}\n",
      "duplicate PYDXNK {'bigg.reaction': 'PYDXNK', 'biocyc': 'PNKIN-RXN', 'kegg.reaction': 'R01909', 'metanetx.reaction': 'MNXR103362', 'seed.compound': 'rxn01396'}\n",
      "original id and ecoli MALIC-NADP-RXN_c0 ME2\n"
     ]
    },
    {
     "data": {
      "text/plain": [
       "{'MDHC_nadp_hr', 'ME2', 'ME2m'}"
      ]
     },
     "execution_count": 14,
     "metadata": {},
     "output_type": "execute_result"
    },
    {
     "name": "stdout",
     "output_type": "stream",
     "text": [
      "newid ME2\n",
      "original id and ecoli XMPXAN-RXN_c0 NTD10\n"
     ]
    },
    {
     "data": {
      "text/plain": [
       "{'NTD10', 'NTD10pp', 'U33'}"
      ]
     },
     "execution_count": 14,
     "metadata": {},
     "output_type": "execute_result"
    },
    {
     "name": "stdout",
     "output_type": "stream",
     "text": [
      "newid NTD10\n",
      "original id and ecoli NTD10 NTD10pp\n"
     ]
    },
    {
     "data": {
      "text/plain": [
       "{'NTD10', 'NTD10pp', 'U33'}"
      ]
     },
     "execution_count": 14,
     "metadata": {},
     "output_type": "execute_result"
    },
    {
     "name": "stdout",
     "output_type": "stream",
     "text": [
      "newid NTD10pp\n",
      "duplicate ACGAMT {'bigg.reaction': 'ACGAMT', 'metanetx.reaction': 'MNXR95251', 'seed.compound': 'rxn08040'}\n",
      "duplicate PSSA181 {'metanetx.reaction': 'MNXR135989', 'seed.compound': 'rxn09211'}\n",
      "duplicate PYDAMK {'bigg.reaction': 'PYDAMK', 'biocyc': 'PYRAMKIN-RXN', 'kegg.reaction': 'R02493', 'metanetx.reaction': 'MNXR103357', 'seed.compound': 'rxn01807'}\n",
      "original id and ecoli MNXR94877_c0 3HAD120\n"
     ]
    },
    {
     "data": {
      "text/plain": [
       "{'3HAD120', '3HAD120_1', 'HDDHL5'}"
      ]
     },
     "execution_count": 14,
     "metadata": {},
     "output_type": "execute_result"
    },
    {
     "name": "stdout",
     "output_type": "stream",
     "text": [
      "newid 3HAD120\n",
      "original id and ecoli CYTIDEAM-RXN_c0 DCYTD\n"
     ]
    },
    {
     "data": {
      "text/plain": [
       "{'CDD1_2', 'DCYTD', 'DCYTDn'}"
      ]
     },
     "execution_count": 14,
     "metadata": {},
     "output_type": "execute_result"
    },
    {
     "name": "stdout",
     "output_type": "stream",
     "text": [
      "newid DCYTD\n",
      "duplicate DASYN160 {'bigg.reaction': 'DASYN160', 'metanetx.reaction': 'MNXR97157', 'seed.compound': 'rxn08309'}\n",
      "duplicate MCITD {'bigg.reaction': 'MCITD', 'biocyc': '2-METHYLCITRATE-DEHYDRATASE-RXN', 'kegg.reaction': 'R04424', 'metanetx.reaction': 'MNXR101413', 'seed.compound': 'rxn03060'}\n",
      "original id and ecoli 2.5.1.19-RXN_c0 PSCVT\n"
     ]
    },
    {
     "data": {
      "text/plain": [
       "{'ARO1_5', 'PSCIT', 'PSCVT', 'PSCVTi'}"
      ]
     },
     "execution_count": 14,
     "metadata": {},
     "output_type": "execute_result"
    },
    {
     "name": "stdout",
     "output_type": "stream",
     "text": [
      "newid PSCVT\n",
      "original id and ecoli DTDPKIN-RXN_c0 NDPK4\n"
     ]
    },
    {
     "data": {
      "text/plain": [
       "{'NDPK4', 'NDPK4m', 'NDPK4n', 'YNK1_6'}"
      ]
     },
     "execution_count": 14,
     "metadata": {},
     "output_type": "execute_result"
    },
    {
     "name": "stdout",
     "output_type": "stream",
     "text": [
      "newid NDPK4\n",
      "duplicate ADCL {'bigg.reaction': 'ADCL', 'biocyc': 'ADCLY-RXN', 'kegg.reaction': 'R05553', 'metanetx.reaction': 'MNXR95436', 'seed.compound': 'rxn03841'}\n",
      "original id and ecoli MNXR101751_c0 MTHFR2\n"
     ]
    },
    {
     "data": {
      "text/plain": [
       "{'MTHFO', 'MTHFR2', 'MTHFR2_1', 'r0792'}"
      ]
     },
     "execution_count": 14,
     "metadata": {},
     "output_type": "execute_result"
    },
    {
     "name": "stdout",
     "output_type": "stream",
     "text": [
      "newid MTHFR2\n",
      "original id and ecoli RXN-12570_c0 HACD2\n"
     ]
    },
    {
     "data": {
      "text/plain": [
       "{'HACD2', 'HACD2_1', 'HACD2i', 'HACD2m'}"
      ]
     },
     "execution_count": 14,
     "metadata": {},
     "output_type": "execute_result"
    },
    {
     "name": "stdout",
     "output_type": "stream",
     "text": [
      "newid HACD2\n",
      "original id and ecoli MNXR97975_c0 ETHAt2pp\n"
     ]
    },
    {
     "data": {
      "text/plain": [
       "{'ETHAt2pp', 'ETHAt6'}"
      ]
     },
     "execution_count": 14,
     "metadata": {},
     "output_type": "execute_result"
    },
    {
     "name": "stdout",
     "output_type": "stream",
     "text": [
      "newid ETHAt2pp\n",
      "duplicate URIK2 {'bigg.reaction': 'URIK2', 'biocyc': 'URKI-RXN', 'kegg.reaction': 'R00968', 'metanetx.reaction': 'MNXR105163', 'seed.compound': 'rxn00713'}\n",
      "duplicate ADCS {'bigg.reaction': 'ADCS', 'biocyc': 'PABASYN-RXN', 'kegg.reaction': 'R01716', 'metanetx.reaction': 'MNXR95440', 'seed.compound': 'rxn01257'}\n",
      "original id and ecoli MNXR99641_c0 SUCDi\n"
     ]
    },
    {
     "data": {
      "text/plain": [
       "{'FRD7', 'SUCD7', 'SUCDH_q8_m', 'SUCDi'}"
      ]
     },
     "execution_count": 14,
     "metadata": {},
     "output_type": "execute_result"
    },
    {
     "name": "stdout",
     "output_type": "stream",
     "text": [
      "newid SUCDi\n",
      "original id and ecoli BRANCHED-CHAINAMINOTRANSFERVAL-RXN_c0 VALTA\n"
     ]
    },
    {
     "data": {
      "text/plain": [
       "{'BAT2_2', 'BCTA_val_h', 'BCTA_val_m', 'VALTA', 'VALTAim'}"
      ]
     },
     "execution_count": 14,
     "metadata": {},
     "output_type": "execute_result"
    },
    {
     "name": "stdout",
     "output_type": "stream",
     "text": [
      "newid VALTA\n",
      "original id and ecoli GPH-RXN_c0 PGLYCP\n"
     ]
    },
    {
     "data": {
      "text/plain": [
       "{'PGLYCP', 'PGLYCPh', 'PGLYCPx'}"
      ]
     },
     "execution_count": 14,
     "metadata": {},
     "output_type": "execute_result"
    },
    {
     "name": "stdout",
     "output_type": "stream",
     "text": [
      "newid PGLYCP\n",
      "original id and ecoli NODO NODOy\n"
     ]
    },
    {
     "data": {
      "text/plain": [
       "{'NODO', 'NODOy'}"
      ]
     },
     "execution_count": 14,
     "metadata": {},
     "output_type": "execute_result"
    },
    {
     "name": "stdout",
     "output_type": "stream",
     "text": [
      "newid NODOy\n",
      "original id and ecoli 3-DEHYDROQUINATE-DEHYDRATASE-RXN_c0 DHQTi\n"
     ]
    },
    {
     "data": {
      "text/plain": [
       "{'ARO1_2', 'DHQD', 'DHQD1', 'DHQTi', 'DQDH'}"
      ]
     },
     "execution_count": 14,
     "metadata": {},
     "output_type": "execute_result"
    },
    {
     "name": "stdout",
     "output_type": "stream",
     "text": [
      "newid DHQTi\n",
      "original id and ecoli GLUTATHIONE-REDUCT-NADPH-RXN_c0 GTHOr\n"
     ]
    },
    {
     "data": {
      "text/plain": [
       "{'GDR_nadp_h', 'GLR1', 'GTHO', 'GTHOm', 'GTHOr', 'GTHRD'}"
      ]
     },
     "execution_count": 14,
     "metadata": {},
     "output_type": "execute_result"
    },
    {
     "name": "stdout",
     "output_type": "stream",
     "text": [
      "newid GTHOr\n",
      "original id and ecoli DEOXYADENYLATE-KINASE-RXN_c0 DADK\n"
     ]
    },
    {
     "data": {
      "text/plain": [
       "{'ATDAMh', 'ATDAMm', 'DADK', 'U19'}"
      ]
     },
     "execution_count": 14,
     "metadata": {},
     "output_type": "execute_result"
    },
    {
     "name": "stdout",
     "output_type": "stream",
     "text": [
      "newid DADK\n",
      "original id and ecoli MNXR100237_c0 GLCptspp\n"
     ]
    },
    {
     "data": {
      "text/plain": [
       "{'GLCpts', 'GLCptspp'}"
      ]
     },
     "execution_count": 14,
     "metadata": {},
     "output_type": "execute_result"
    },
    {
     "name": "stdout",
     "output_type": "stream",
     "text": [
      "newid GLCptspp\n",
      "duplicate G3PAT141 {'metanetx.reaction': 'MNXR135826', 'seed.compound': 'rxn08548'}\n",
      "original id and ecoli GLYCEROL-KIN-RXN_c0 GLYK\n"
     ]
    },
    {
     "data": {
      "text/plain": [
       "{'GLYK', 'GLYKm', 'GLYKr', 'GUT1'}"
      ]
     },
     "execution_count": 14,
     "metadata": {},
     "output_type": "execute_result"
    },
    {
     "name": "stdout",
     "output_type": "stream",
     "text": [
      "newid GLYK\n",
      "original id and ecoli RXN-14113_c0 23PDE7pp\n"
     ]
    },
    {
     "data": {
      "text/plain": [
       "{'23CN2P1', '23PDE7pp'}"
      ]
     },
     "execution_count": 14,
     "metadata": {},
     "output_type": "execute_result"
    },
    {
     "name": "stdout",
     "output_type": "stream",
     "text": [
      "newid 23PDE7pp\n",
      "original id and ecoli RXN-9524_c0 3OAR80\n"
     ]
    },
    {
     "data": {
      "text/plain": [
       "{'3OAR80', '3OAR80_1', 'HOCR3'}"
      ]
     },
     "execution_count": 14,
     "metadata": {},
     "output_type": "execute_result"
    },
    {
     "name": "stdout",
     "output_type": "stream",
     "text": [
      "newid 3OAR80\n",
      "duplicate OPHBDC {'bigg.reaction': 'OPHBDC', 'biocyc': '3-OCTAPRENYL-4-OHBENZOATE-DECARBOX-RXN', 'kegg.reaction': 'R04986', 'metanetx.reaction': 'MNXR102201', 'seed.compound': 'rxn03393'}\n",
      "original id and ecoli PYRNUTRANSHYDROGEN-RXN_c0 NADTRHD\n"
     ]
    },
    {
     "data": {
      "text/plain": [
       "{'NADTRHD', 'NNOR', 'TEST_NADTRHD', 'THD1', 'THD5'}"
      ]
     },
     "execution_count": 14,
     "metadata": {},
     "output_type": "execute_result"
    },
    {
     "name": "stdout",
     "output_type": "stream",
     "text": [
      "newid NADTRHD\n",
      "duplicate SGDS {'bigg.reaction': 'SGDS', 'biocyc': 'SUCCGLUDESUCC-RXN', 'kegg.reaction': 'R00411', 'metanetx.reaction': 'MNXR104362', 'seed.compound': 'rxn00291'}\n",
      "original id and ecoli RXN-14064_c0 23PDE9pp\n"
     ]
    },
    {
     "data": {
      "text/plain": [
       "{'23CN2P4', '23PDE9pp'}"
      ]
     },
     "execution_count": 14,
     "metadata": {},
     "output_type": "execute_result"
    },
    {
     "name": "stdout",
     "output_type": "stream",
     "text": [
      "newid 23PDE9pp\n",
      "original id and ecoli RXN-12565_c0 ACACT2r\n"
     ]
    },
    {
     "data": {
      "text/plain": [
       "{'ACACT2', 'ACACT2m', 'ACACT2r', 'KAT2', 'POT1_7'}"
      ]
     },
     "execution_count": 14,
     "metadata": {},
     "output_type": "execute_result"
    },
    {
     "name": "stdout",
     "output_type": "stream",
     "text": [
      "newid ACACT2r\n",
      "original id and ecoli IMP-DEHYDROG-RXN_c0 IMPD\n"
     ]
    },
    {
     "data": {
      "text/plain": [
       "{'FUN63', 'IMD3', 'IMD4', 'IMPD', 'IMPDm', 'PUR5', 'YAR075W'}"
      ]
     },
     "execution_count": 14,
     "metadata": {},
     "output_type": "execute_result"
    },
    {
     "name": "stdout",
     "output_type": "stream",
     "text": [
      "newid IMPD\n",
      "duplicate HCYSMT2 {'bigg.reaction': 'HCYSMT2', 'biocyc': 'MMUM-RXN', 'kegg.reaction': 'R11063', 'metanetx.reaction': 'MNXR100578', 'seed.compound': 'rxn08703'}\n",
      "original id and ecoli ABC-4-RXN_c0 ARGabcpp\n"
     ]
    },
    {
     "data": {
      "text/plain": [
       "{'ARGabc', 'ARGabcpp'}"
      ]
     },
     "execution_count": 14,
     "metadata": {},
     "output_type": "execute_result"
    },
    {
     "name": "stdout",
     "output_type": "stream",
     "text": [
      "newid ARGabcpp\n",
      "original id and ecoli DAHPSYN-RXN_c0 DDPA\n"
     ]
    },
    {
     "data": {
      "text/plain": [
       "{'ARO3', 'ARO4', 'DAHPS', 'DDPA', 'DDPAm', 'DPHS'}"
      ]
     },
     "execution_count": 14,
     "metadata": {},
     "output_type": "execute_result"
    },
    {
     "name": "stdout",
     "output_type": "stream",
     "text": [
      "newid DDPA\n",
      "duplicate FA100ACPHi {'kegg.reaction': 'R08158', 'metanetx.reaction': 'MNXR111735', 'seed.compound': 'rxn08433'}\n",
      "duplicate TKT2 {'kegg.reaction': 'R01067', 'metanetx.reaction': 'MNXR106812', 'seed.compound': 'rxn00785'}\n",
      "original id and ecoli MNXR101481_c0 METS\n"
     ]
    },
    {
     "data": {
      "text/plain": [
       "{'METS', 'METSMHPGLUT_b', 'METS_1', 'METSm', 'METSr', 'MTHFB12D', 'U47'}"
      ]
     },
     "execution_count": 14,
     "metadata": {},
     "output_type": "execute_result"
    },
    {
     "name": "stdout",
     "output_type": "stream",
     "text": [
      "newid METS\n",
      "original id and ecoli DXS-RXN_c0 DXPS\n"
     ]
    },
    {
     "data": {
      "text/plain": [
       "{'DXPS', 'DXS'}"
      ]
     },
     "execution_count": 14,
     "metadata": {},
     "output_type": "execute_result"
    },
    {
     "name": "stdout",
     "output_type": "stream",
     "text": [
      "newid DXPS\n",
      "original id and ecoli MNXR97032_c0 CYTBD2pp\n"
     ]
    },
    {
     "data": {
      "text/plain": [
       "{'CYTBD2', 'CYTBD2pp'}"
      ]
     },
     "execution_count": 14,
     "metadata": {},
     "output_type": "execute_result"
    },
    {
     "name": "stdout",
     "output_type": "stream",
     "text": [
      "newid CYTBD2pp\n",
      "original id and ecoli PGLYCDEHYDROG-RXN_c0 PGCD\n"
     ]
    },
    {
     "data": {
      "text/plain": [
       "{'PGCD', 'PGCDr', 'PGLYDH', 'SER3', 'SER33'}"
      ]
     },
     "execution_count": 14,
     "metadata": {},
     "output_type": "execute_result"
    },
    {
     "name": "stdout",
     "output_type": "stream",
     "text": [
      "newid PGCD\n",
      "original id and ecoli ADE6 PRFGS\n"
     ]
    },
    {
     "data": {
      "text/plain": [
       "{'ADE6', 'PRFGS'}"
      ]
     },
     "execution_count": 14,
     "metadata": {},
     "output_type": "execute_result"
    },
    {
     "name": "stdout",
     "output_type": "stream",
     "text": [
      "newid PRFGS\n",
      "duplicate HEX1 {'bigg.reaction': 'HEX1', 'biocyc': 'GLUCOKIN-RXN', 'kegg.reaction': 'R00299', 'metanetx.reaction': 'MNXR100612', 'seed.compound': 'rxn00216'}\n",
      "original id and ecoli MNXR104931_c0 TREptspp\n"
     ]
    },
    {
     "data": {
      "text/plain": [
       "{'TREpts', 'TREptspp'}"
      ]
     },
     "execution_count": 14,
     "metadata": {},
     "output_type": "execute_result"
    },
    {
     "name": "stdout",
     "output_type": "stream",
     "text": [
      "newid TREptspp\n",
      "duplicate LPLIPAL1E180pp {'metanetx.reaction': 'MNXR135852', 'seed.compound': 'rxn08808'}\n",
      "duplicate PGI {'kegg.reaction': 'R00771', 'metanetx.reaction': 'MNXR106678', 'seed.compound': 'rxn00558'}\n",
      "duplicate ASP1DC {'bigg.reaction': 'ASP1DC', 'biocyc': 'ASPDECARBOX-RXN', 'kegg.reaction': 'R00489', 'metanetx.reaction': 'MNXR96077', 'seed.compound': 'rxn00346'}\n",
      "original id and ecoli MNXR100300_c0 GLUt2rpp\n"
     ]
    },
    {
     "data": {
      "text/plain": [
       "{'GLUt2', 'GLUt2m', 'GLUt2n', 'GLUt2r', 'GLUt2rpp', 'GLUt6', 'GLUt7', 'GLUth'}"
      ]
     },
     "execution_count": 14,
     "metadata": {},
     "output_type": "execute_result"
    },
    {
     "name": "stdout",
     "output_type": "stream",
     "text": [
      "newid GLUt2rpp\n",
      "duplicate PUNP2 {'bigg.reaction': 'PUNP2', 'biocyc': 'DEOXYADENPHOSPHOR-RXN', 'kegg.reaction': 'R02557', 'metanetx.reaction': 'MNXR103344', 'seed.compound': 'rxn01859'}\n",
      "original id and ecoli GLUTDECARBOX-RXN_c0 GLUDC\n"
     ]
    },
    {
     "data": {
      "text/plain": [
       "{'ARGDh', 'GAD1', 'GLUDC'}"
      ]
     },
     "execution_count": 14,
     "metadata": {},
     "output_type": "execute_result"
    },
    {
     "name": "stdout",
     "output_type": "stream",
     "text": [
      "newid GLUDC\n",
      "original id and ecoli BRANCHED-CHAINAMINOTRANSFERLEU-RXN_c0 LEUTAi\n"
     ]
    },
    {
     "data": {
      "text/plain": [
       "{'BAT2_3', 'BCTA_glu_h', 'LEUTA', 'LEUTAi', 'LEUTAm'}"
      ]
     },
     "execution_count": 14,
     "metadata": {},
     "output_type": "execute_result"
    },
    {
     "name": "stdout",
     "output_type": "stream",
     "text": [
      "newid LEUTAi\n",
      "original id and ecoli ABC-28-RXN_c0 RIBabcpp\n"
     ]
    },
    {
     "data": {
      "text/plain": [
       "{'RIBabc', 'RIBabcpp'}"
      ]
     },
     "execution_count": 14,
     "metadata": {},
     "output_type": "execute_result"
    },
    {
     "name": "stdout",
     "output_type": "stream",
     "text": [
      "newid RIBabcpp\n",
      "original id and ecoli AMINOBUTDEHYDROG-RXN_c0 ABUTD\n"
     ]
    },
    {
     "data": {
      "text/plain": [
       "{'ABUTD', 'ABUTDm'}"
      ]
     },
     "execution_count": 14,
     "metadata": {},
     "output_type": "execute_result"
    },
    {
     "name": "stdout",
     "output_type": "stream",
     "text": [
      "newid ABUTD\n",
      "duplicate BSORx {'bigg.reaction': 'BSORx', 'metanetx.reaction': 'MNXR96325', 'seed.compound': 'rxn08178'}\n",
      "original id and ecoli TRANS-RXN-141_c0 MG2tex\n"
     ]
    },
    {
     "data": {
      "text/plain": [
       "{'MG2t', 'MG2tex', 'MG2th', 'MG2tpp', 'MG2tu', 'MGt5', 'MGt5i'}"
      ]
     },
     "execution_count": 14,
     "metadata": {},
     "output_type": "execute_result"
    },
    {
     "name": "stdout",
     "output_type": "stream",
     "text": [
      "newid MG2tex\n",
      "original id and ecoli MG2tex MG2tpp\n"
     ]
    },
    {
     "data": {
      "text/plain": [
       "{'MG2t', 'MG2tex', 'MG2th', 'MG2tpp', 'MG2tu', 'MGt5', 'MGt5i'}"
      ]
     },
     "execution_count": 14,
     "metadata": {},
     "output_type": "execute_result"
    },
    {
     "name": "stdout",
     "output_type": "stream",
     "text": [
      "newid MG2tpp\n",
      "duplicate LPLIPAL1E141pp {'metanetx.reaction': 'MNXR135849', 'seed.compound': 'rxn08805'}\n",
      "original id and ecoli RXN-14161_c0 NTD6\n"
     ]
    },
    {
     "data": {
      "text/plain": [
       "{'NTD6', 'NTD6l', 'NTD6pp'}"
      ]
     },
     "execution_count": 14,
     "metadata": {},
     "output_type": "execute_result"
    },
    {
     "name": "stdout",
     "output_type": "stream",
     "text": [
      "newid NTD6\n",
      "original id and ecoli NTD6 NTD6pp\n"
     ]
    },
    {
     "data": {
      "text/plain": [
       "{'NTD6', 'NTD6l', 'NTD6pp'}"
      ]
     },
     "execution_count": 14,
     "metadata": {},
     "output_type": "execute_result"
    },
    {
     "name": "stdout",
     "output_type": "stream",
     "text": [
      "newid NTD6pp\n",
      "original id and ecoli 2-DEHYDROPANTOATE-REDUCT-RXN_c0 DPR\n"
     ]
    },
    {
     "data": {
      "text/plain": [
       "{'DPR', 'DPRm', 'PAN5', 'PNORm', 'PNORn'}"
      ]
     },
     "execution_count": 14,
     "metadata": {},
     "output_type": "execute_result"
    },
    {
     "name": "stdout",
     "output_type": "stream",
     "text": [
      "newid DPR\n",
      "original id and ecoli MNXR104466_c0 SO4t2pp\n"
     ]
    },
    {
     "data": {
      "text/plain": [
       "{'SO4t2', 'SO4t2pp'}"
      ]
     },
     "execution_count": 14,
     "metadata": {},
     "output_type": "execute_result"
    },
    {
     "name": "stdout",
     "output_type": "stream",
     "text": [
      "newid SO4t2pp\n",
      "original id and ecoli NAD-KIN-RXN_c0 NADK\n"
     ]
    },
    {
     "data": {
      "text/plain": [
       "{'NADK', 'NADKm', 'POS5_1', 'UTR1_1', 'YEL041W_1'}"
      ]
     },
     "execution_count": 14,
     "metadata": {},
     "output_type": "execute_result"
    },
    {
     "name": "stdout",
     "output_type": "stream",
     "text": [
      "newid NADK\n",
      "duplicate ACONTb {'bigg.reaction': 'ACONTb', 'kegg.reaction': 'R01900', 'metanetx.reaction': 'MNXR95387', 'seed.compound': 'rxn01388'}\n",
      "duplicate NNDMBRT {'bigg.reaction': 'NNDMBRT', 'biocyc': 'DMBPPRIBOSYLTRANS-RXN', 'kegg.reaction': 'R04148', 'metanetx.reaction': 'MNXR101979', 'seed.compound': 'rxn02897'}\n",
      "duplicate PUNP4 {'bigg.reaction': 'PUNP4', 'biocyc': 'DEOXYGUANPHOSPHOR-RXN', 'kegg.reaction': 'R01969', 'metanetx.reaction': 'MNXR103346', 'seed.compound': 'rxn01446'}\n",
      "original id and ecoli SIROHEME-FERROCHELAT-RXN_c0 SHCHF\n"
     ]
    },
    {
     "data": {
      "text/plain": [
       "{'SHCHF', 'SHCHF_1', 'SHCHF_2'}"
      ]
     },
     "execution_count": 14,
     "metadata": {},
     "output_type": "execute_result"
    },
    {
     "name": "stdout",
     "output_type": "stream",
     "text": [
      "newid SHCHF\n",
      "original id and ecoli THREODEHYD-RXN_c0 THRD\n"
     ]
    },
    {
     "data": {
      "text/plain": [
       "{'R01465m', 'THRD'}"
      ]
     },
     "execution_count": 14,
     "metadata": {},
     "output_type": "execute_result"
    },
    {
     "name": "stdout",
     "output_type": "stream",
     "text": [
      "newid THRD\n",
      "duplicate DBTS {'bigg.reaction': 'DBTS', 'biocyc': 'DETHIOBIOTIN-SYN-RXN', 'kegg.reaction': 'R03182', 'metanetx.reaction': 'MNXR97180', 'seed.compound': 'rxn02277'}\n",
      "original id and ecoli MNXR100546_c0 HACD5\n"
     ]
    },
    {
     "data": {
      "text/plain": [
       "{'HACD5', 'HACD5_1', 'HACD5i', 'HACD5m', 'HACD5p'}"
      ]
     },
     "execution_count": 14,
     "metadata": {},
     "output_type": "execute_result"
    },
    {
     "name": "stdout",
     "output_type": "stream",
     "text": [
      "newid HACD5\n",
      "original id and ecoli THREONINE-ALDOLASE-RXN_c0 THRA2\n"
     ]
    },
    {
     "data": {
      "text/plain": [
       "{'GLY1', 'THRA', 'THRA2', 'THRA_1', 'THRAi', 'THRAr'}"
      ]
     },
     "execution_count": 14,
     "metadata": {},
     "output_type": "execute_result"
    },
    {
     "name": "stdout",
     "output_type": "stream",
     "text": [
      "newid THRA2\n",
      "##in THRA THRA2\n",
      "duplicate HETZK {'bigg.reaction': 'HETZK', 'biocyc': 'THIAZOLSYN3-RXN', 'kegg.reaction': 'R04448', 'metanetx.reaction': 'MNXR100611', 'seed.compound': 'rxn03075'}\n",
      "original id and ecoli CYTIDEAM2-RXN_c0 CYTD\n"
     ]
    },
    {
     "data": {
      "text/plain": [
       "{'CDD1_1', 'CYTD', 'CYTDn'}"
      ]
     },
     "execution_count": 14,
     "metadata": {},
     "output_type": "execute_result"
    },
    {
     "name": "stdout",
     "output_type": "stream",
     "text": [
      "newid CYTD\n",
      "original id and ecoli ADENOSINE-KINASE-RXN_c0 ADNK1\n"
     ]
    },
    {
     "data": {
      "text/plain": [
       "{'ADNK1', 'ADNK1m', 'ADNK1n', 'YJR105W'}"
      ]
     },
     "execution_count": 14,
     "metadata": {},
     "output_type": "execute_result"
    },
    {
     "name": "stdout",
     "output_type": "stream",
     "text": [
      "newid ADNK1\n",
      "duplicate PSD141 {'metanetx.reaction': 'MNXR135982', 'seed.compound': 'rxn09199'}\n",
      "original id and ecoli GDPREDUCT-RXN_c0 RNDR2\n"
     ]
    },
    {
     "data": {
      "text/plain": [
       "{'RNDR2', 'RNDR2n'}"
      ]
     },
     "execution_count": 14,
     "metadata": {},
     "output_type": "execute_result"
    },
    {
     "name": "stdout",
     "output_type": "stream",
     "text": [
      "newid RNDR2\n",
      "duplicate PGSA140 {'metanetx.reaction': 'MNXR135938', 'seed.compound': 'rxn09109'}\n",
      "original id and ecoli DTDPDEHYRHAMREDUCT-RXN_c0 TDPDRR\n"
     ]
    },
    {
     "data": {
      "text/plain": [
       "{'TDPDRR', 'TDPDRRr'}"
      ]
     },
     "execution_count": 14,
     "metadata": {},
     "output_type": "execute_result"
    },
    {
     "name": "stdout",
     "output_type": "stream",
     "text": [
      "newid TDPDRR\n",
      "duplicate G3PD7 {'metanetx.reaction': 'MNXR135831', 'seed.compound': 'rxn08558'}\n",
      "original id and ecoli RXN-8001_c0 HISTD\n"
     ]
    },
    {
     "data": {
      "text/plain": [
       "{'HDH', 'HDHh', 'HIS4_3', 'HISTD'}"
      ]
     },
     "execution_count": 14,
     "metadata": {},
     "output_type": "execute_result"
    },
    {
     "name": "stdout",
     "output_type": "stream",
     "text": [
      "newid HISTD\n",
      "original id and ecoli MNXR94881_c0 3HAD160\n"
     ]
    },
    {
     "data": {
      "text/plain": [
       "{'3HAD160', '3HAD160_1'}"
      ]
     },
     "execution_count": 14,
     "metadata": {},
     "output_type": "execute_result"
    },
    {
     "name": "stdout",
     "output_type": "stream",
     "text": [
      "newid 3HAD160\n",
      "duplicate TMPK {'bigg.reaction': 'TMPK', 'biocyc': 'THI-P-KIN-RXN', 'kegg.reaction': 'R00617', 'metanetx.reaction': 'MNXR104907', 'seed.compound': 'rxn00438'}\n",
      "duplicate ALCD19 {'bigg.reaction': 'ALCD19', 'kegg.reaction': 'R01036', 'metanetx.reaction': 'MNXR95709', 'seed.compound': 'rxn00763'}\n",
      "duplicate G3PAT161 {'metanetx.reaction': 'MNXR135828', 'seed.compound': 'rxn08550'}\n",
      "duplicate LPLIPAL1G140pp {'metanetx.reaction': 'MNXR135855', 'seed.compound': 'rxn08811'}\n",
      "original id and ecoli IMIDPHOSDEHYD-RXN_c0 IGPDH\n"
     ]
    },
    {
     "data": {
      "text/plain": [
       "{'IGPDH', 'IGPDH_1', 'IGPDh'}"
      ]
     },
     "execution_count": 14,
     "metadata": {},
     "output_type": "execute_result"
    },
    {
     "name": "stdout",
     "output_type": "stream",
     "text": [
      "newid IGPDH\n",
      "original id and ecoli GLUCONOKIN-RXN_c0 GNK\n"
     ]
    },
    {
     "data": {
      "text/plain": [
       "{'GNK', 'GNKh', 'GNKr'}"
      ]
     },
     "execution_count": 14,
     "metadata": {},
     "output_type": "execute_result"
    },
    {
     "name": "stdout",
     "output_type": "stream",
     "text": [
      "newid GNK\n",
      "original id and ecoli MNXR101353_c0 MALTHXabcpp\n"
     ]
    },
    {
     "data": {
      "text/plain": [
       "{'MALTHXabc', 'MALTHXabcpp'}"
      ]
     },
     "execution_count": 14,
     "metadata": {},
     "output_type": "execute_result"
    },
    {
     "name": "stdout",
     "output_type": "stream",
     "text": [
      "newid MALTHXabcpp\n",
      "original id and ecoli MNXR101702_c0 MOHMT\n"
     ]
    },
    {
     "data": {
      "text/plain": [
       "{'ECM31', 'MOHMT', 'MTMOHT'}"
      ]
     },
     "execution_count": 14,
     "metadata": {},
     "output_type": "execute_result"
    },
    {
     "name": "stdout",
     "output_type": "stream",
     "text": [
      "newid MOHMT\n",
      "duplicate LPLIPAL2A141 {'metanetx.reaction': 'MNXR135863', 'seed.compound': 'rxn08819'}\n",
      "original id and ecoli FADSYN-RXN_c0 FMNAT\n"
     ]
    },
    {
     "data": {
      "text/plain": [
       "{'AFAT', 'FAD1', 'FMNAT', 'FMNATm', 'FMNATr'}"
      ]
     },
     "execution_count": 14,
     "metadata": {},
     "output_type": "execute_result"
    },
    {
     "name": "stdout",
     "output_type": "stream",
     "text": [
      "newid FMNAT\n",
      "original id and ecoli CDPREDUCT-RXN_c0 RNDR3\n"
     ]
    },
    {
     "data": {
      "text/plain": [
       "{'RNDR3', 'RNDR3n'}"
      ]
     },
     "execution_count": 14,
     "metadata": {},
     "output_type": "execute_result"
    },
    {
     "name": "stdout",
     "output_type": "stream",
     "text": [
      "newid RNDR3\n",
      "original id and ecoli PPAK PPAKr\n"
     ]
    },
    {
     "data": {
      "text/plain": [
       "{'PPAK', 'PPAKr', 'PROPP'}"
      ]
     },
     "execution_count": 14,
     "metadata": {},
     "output_type": "execute_result"
    },
    {
     "name": "stdout",
     "output_type": "stream",
     "text": [
      "newid PPAKr\n",
      "original id and ecoli GLYCERATE-DEHYDROGENASE-RXN_c0 HPYRRx\n"
     ]
    },
    {
     "data": {
      "text/plain": [
       "{'GLYCDH_1', 'HPYRRx'}"
      ]
     },
     "execution_count": 14,
     "metadata": {},
     "output_type": "execute_result"
    },
    {
     "name": "stdout",
     "output_type": "stream",
     "text": [
      "newid HPYRRx\n",
      "original id and ecoli MNXR96962_c0 CYNTt2pp\n"
     ]
    },
    {
     "data": {
      "text/plain": [
       "{'CYNTt2', 'CYNTt2pp'}"
      ]
     },
     "execution_count": 14,
     "metadata": {},
     "output_type": "execute_result"
    },
    {
     "name": "stdout",
     "output_type": "stream",
     "text": [
      "newid CYNTt2pp\n",
      "original id and ecoli TRANS-RXN-77_c0 TYRt2rpp\n"
     ]
    },
    {
     "data": {
      "text/plain": [
       "{'AGP1_10',\n",
       " 'BAP2_7',\n",
       " 'BAP3_7',\n",
       " 'GAP1_16',\n",
       " 'TAT1_4',\n",
       " 'TAT2_6',\n",
       " 'TYRt2',\n",
       " 'TYRt2m',\n",
       " 'TYRt2p',\n",
       " 'TYRt2r',\n",
       " 'TYRt2rpp',\n",
       " 'TYRt6i',\n",
       " 'TYRt7',\n",
       " 'TYRth',\n",
       " 'VAP1_6'}"
      ]
     },
     "execution_count": 14,
     "metadata": {},
     "output_type": "execute_result"
    },
    {
     "name": "stdout",
     "output_type": "stream",
     "text": [
      "newid TYRt2rpp\n",
      "duplicate DAGK120 {'metanetx.reaction': 'MNXR135765', 'seed.compound': 'rxn08294'}\n",
      "original id and ecoli ABC-15-RXN_c0 ILEabcpp\n"
     ]
    },
    {
     "data": {
      "text/plain": [
       "{'ILEabc', 'ILEabcpp'}"
      ]
     },
     "execution_count": 14,
     "metadata": {},
     "output_type": "execute_result"
    },
    {
     "name": "stdout",
     "output_type": "stream",
     "text": [
      "newid ILEabcpp\n",
      "original id and ecoli 2OXOGLUTARATEDEH-RXN_c0 AKGDH\n"
     ]
    },
    {
     "data": {
      "text/plain": [
       "{'AKGD', 'AKGDH', 'AKGDm', 'TEST_AKGDH'}"
      ]
     },
     "execution_count": 14,
     "metadata": {},
     "output_type": "execute_result"
    },
    {
     "name": "stdout",
     "output_type": "stream",
     "text": [
      "newid AKGDH\n",
      "duplicate RMI {'bigg.reaction': 'RMI', 'kegg.reaction': 'R02437', 'metanetx.reaction': 'MNXR104038', 'seed.compound': 'rxn01761'}\n",
      "duplicate MICITDr {'bigg.reaction': 'MICITDr', 'biocyc': '4.2.1.99-RXN', 'kegg.reaction': 'R04425', 'metanetx.reaction': 'MNXR101580', 'seed.compound': 'rxn03061'}\n",
      "original id and ecoli RXN-14273_c0 ECOAH6\n"
     ]
    },
    {
     "data": {
      "text/plain": [
       "{'ECOAH6', 'ECOAH6_1', 'ECOAH6m', 'ECOAH6p'}"
      ]
     },
     "execution_count": 14,
     "metadata": {},
     "output_type": "execute_result"
    },
    {
     "name": "stdout",
     "output_type": "stream",
     "text": [
      "newid ECOAH6\n",
      "original id and ecoli RXN-14143_c0 NTD1\n"
     ]
    },
    {
     "data": {
      "text/plain": [
       "{'NTD1', 'NTD1m', 'NTD1pp', 'U24'}"
      ]
     },
     "execution_count": 14,
     "metadata": {},
     "output_type": "execute_result"
    },
    {
     "name": "stdout",
     "output_type": "stream",
     "text": [
      "newid NTD1\n",
      "original id and ecoli NTD1 NTD1pp\n"
     ]
    },
    {
     "data": {
      "text/plain": [
       "{'NTD1', 'NTD1m', 'NTD1pp', 'U24'}"
      ]
     },
     "execution_count": 14,
     "metadata": {},
     "output_type": "execute_result"
    },
    {
     "name": "stdout",
     "output_type": "stream",
     "text": [
      "newid NTD1pp\n",
      "original id and ecoli TRANS-RXN-42_c0 Kt3pp\n"
     ]
    },
    {
     "data": {
      "text/plain": [
       "{'KHte', 'Kt3', 'Kt3g', 'Kt3pp', 'Kt3r'}"
      ]
     },
     "execution_count": 14,
     "metadata": {},
     "output_type": "execute_result"
    },
    {
     "name": "stdout",
     "output_type": "stream",
     "text": [
      "newid Kt3pp\n",
      "original id and ecoli MNXR96094_c0 ASPO6\n"
     ]
    },
    {
     "data": {
      "text/plain": [
       "{'ASPO6', 'ASPO6_1'}"
      ]
     },
     "execution_count": 14,
     "metadata": {},
     "output_type": "execute_result"
    },
    {
     "name": "stdout",
     "output_type": "stream",
     "text": [
      "newid ASPO6\n",
      "original id and ecoli GLUTSEMIALDEHYDROG-RXN_c0 G5SD\n"
     ]
    },
    {
     "data": {
      "text/plain": [
       "{'G5DHx', 'G5SD', 'G5SDym'}"
      ]
     },
     "execution_count": 14,
     "metadata": {},
     "output_type": "execute_result"
    },
    {
     "name": "stdout",
     "output_type": "stream",
     "text": [
      "newid G5SD\n",
      "original id and ecoli MNXR102198_c0 OP4ENH\n"
     ]
    },
    {
     "data": {
      "text/plain": [
       "{'OP4ENH', 'OP4ENH3'}"
      ]
     },
     "execution_count": 14,
     "metadata": {},
     "output_type": "execute_result"
    },
    {
     "name": "stdout",
     "output_type": "stream",
     "text": [
      "newid OP4ENH\n",
      "duplicate PUNP7 {'bigg.reaction': 'PUNP7', 'biocyc': 'XANTHOSINEPHOSPHORY-RXN', 'kegg.reaction': 'R02297', 'metanetx.reaction': 'MNXR103349', 'seed.compound': 'rxn01649'}\n",
      "original id and ecoli GLUTAMATESYN-RXN_c0 GLUSy\n"
     ]
    },
    {
     "data": {
      "text/plain": [
       "{'GLUS_nadph', 'GLUSy'}"
      ]
     },
     "execution_count": 14,
     "metadata": {},
     "output_type": "execute_result"
    },
    {
     "name": "stdout",
     "output_type": "stream",
     "text": [
      "newid GLUSy\n",
      "original id and ecoli RXN-12002_c0 UMPK\n"
     ]
    },
    {
     "data": {
      "text/plain": [
       "{'UMPK', 'UMPKURIDK1', 'UMPKm', 'UMPKn', 'URA6_1', 'URA6_2', 'URIDK1'}"
      ]
     },
     "execution_count": 14,
     "metadata": {},
     "output_type": "execute_result"
    },
    {
     "name": "stdout",
     "output_type": "stream",
     "text": [
      "newid UMPK\n",
      "duplicate G3PAT160 {'metanetx.reaction': 'MNXR135827', 'seed.compound': 'rxn08549'}\n",
      "duplicate BSORy {'bigg.reaction': 'BSORy', 'kegg.reaction': 'R10127', 'metanetx.reaction': 'MNXR96326', 'seed.compound': 'rxn08179'}\n",
      "original id and ecoli TRANS-RXN0-474_c0 O2tex\n"
     ]
    },
    {
     "data": {
      "text/plain": [
       "{'O2t',\n",
       " 'O2t5i',\n",
       " 'O2ter',\n",
       " 'O2tex',\n",
       " 'O2thr',\n",
       " 'O2tm',\n",
       " 'O2tn',\n",
       " 'O2tp',\n",
       " 'O2tpp',\n",
       " 'O2trhu',\n",
       " 'O2tu',\n",
       " 'U227'}"
      ]
     },
     "execution_count": 14,
     "metadata": {},
     "output_type": "execute_result"
    },
    {
     "name": "stdout",
     "output_type": "stream",
     "text": [
      "newid O2tex\n",
      "original id and ecoli O2tex O2tpp\n"
     ]
    },
    {
     "data": {
      "text/plain": [
       "{'O2t',\n",
       " 'O2t5i',\n",
       " 'O2ter',\n",
       " 'O2tex',\n",
       " 'O2thr',\n",
       " 'O2tm',\n",
       " 'O2tn',\n",
       " 'O2tp',\n",
       " 'O2tpp',\n",
       " 'O2trhu',\n",
       " 'O2tu',\n",
       " 'U227'}"
      ]
     },
     "execution_count": 14,
     "metadata": {},
     "output_type": "execute_result"
    },
    {
     "name": "stdout",
     "output_type": "stream",
     "text": [
      "newid O2tpp\n",
      "original id and ecoli FPPSYN-RXN_c0 GRTT\n"
     ]
    },
    {
     "data": {
      "text/plain": [
       "{'FPPSh', 'GRTT', 'GRTTx'}"
      ]
     },
     "execution_count": 14,
     "metadata": {},
     "output_type": "execute_result"
    },
    {
     "name": "stdout",
     "output_type": "stream",
     "text": [
      "newid GRTT\n",
      "duplicate HSST {'bigg.reaction': 'HSST', 'biocyc': 'HOMSUCTRAN-RXN', 'kegg.reaction': 'R01777', 'metanetx.reaction': 'MNXR100741', 'seed.compound': 'rxn01304'}\n",
      "original id and ecoli TRANS-RXN-99_c0 CHLt2pp\n"
     ]
    },
    {
     "data": {
      "text/plain": [
       "{'CHLt2', 'CHLt2pp', 'CHLt2r', 'HNM1'}"
      ]
     },
     "execution_count": 14,
     "metadata": {},
     "output_type": "execute_result"
    },
    {
     "name": "stdout",
     "output_type": "stream",
     "text": [
      "newid CHLt2pp\n",
      "duplicate ACONTa {'bigg.reaction': 'ACONTa', 'biocyc': 'ACONITATEDEHYDR-RXN', 'kegg.reaction': 'R01325', 'metanetx.reaction': 'MNXR95386', 'seed.compound': 'rxn00974'}\n",
      "duplicate 3HPPPNH {'bigg.reaction': '3HPPPNH', 'biocyc': 'MHPHYDROXY-RXN', 'kegg.reaction': 'R06786', 'metanetx.reaction': 'MNXR94903', 'seed.compound': 'rxn04601'}\n",
      "duplicate UAMAGS {'bigg.reaction': 'UAMAGS', 'biocyc': 'UDP-NACMURALA-GLU-LIG-RXN', 'kegg.reaction': 'R02783', 'metanetx.reaction': 'MNXR105038', 'seed.compound': 'rxn02008'}\n",
      "duplicate PSD181 {'metanetx.reaction': 'MNXR135984', 'seed.compound': 'rxn09203'}\n",
      "duplicate PAPPT3 {'bigg.reaction': 'PAPPT3', 'metanetx.reaction': 'MNXR102373', 'seed.compound': 'rxn03904'}\n",
      "original id and ecoli GUANINE-DEAMINASE-RXN_c0 GUAD\n"
     ]
    },
    {
     "data": {
      "text/plain": [
       "{'GUAD', 'GUAD_1', 'GUADr'}"
      ]
     },
     "execution_count": 14,
     "metadata": {},
     "output_type": "execute_result"
    },
    {
     "name": "stdout",
     "output_type": "stream",
     "text": [
      "newid GUAD\n",
      "original id and ecoli INOSINEKIN-RXN_c0 INSK\n"
     ]
    },
    {
     "data": {
      "text/plain": [
       "{'INSK', 'INSKm', 'U20'}"
      ]
     },
     "execution_count": 14,
     "metadata": {},
     "output_type": "execute_result"
    },
    {
     "name": "stdout",
     "output_type": "stream",
     "text": [
      "newid INSK\n",
      "original id and ecoli UROGENDECARBOX-RXN_c0 UPPDC1\n"
     ]
    },
    {
     "data": {
      "text/plain": [
       "{'UPPDC1', 'UPPDC1_1'}"
      ]
     },
     "execution_count": 14,
     "metadata": {},
     "output_type": "execute_result"
    },
    {
     "name": "stdout",
     "output_type": "stream",
     "text": [
      "newid UPPDC1\n",
      "duplicate DDPGALA {'bigg.reaction': 'DDPGALA', 'biocyc': 'DEHYDDEOXPHOSGALACT-ALDOL-RXN', 'kegg.reaction': 'R01064', 'metanetx.reaction': 'MNXR97220', 'seed.compound': 'rxn00783'}\n",
      "original id and ecoli CDPKIN-RXN_c0 NDPK3\n"
     ]
    },
    {
     "data": {
      "text/plain": [
       "{'NDPK3', 'NDPK3m', 'NDPK3n', 'YNK1_2'}"
      ]
     },
     "execution_count": 14,
     "metadata": {},
     "output_type": "execute_result"
    },
    {
     "name": "stdout",
     "output_type": "stream",
     "text": [
      "newid NDPK3\n",
      "duplicate SUCBZL {'bigg.reaction': 'SUCBZL', 'biocyc': 'O-SUCCINYLBENZOATE-COA-LIG-RXN', 'kegg.reaction': 'R04030', 'metanetx.reaction': 'MNXR104612', 'seed.compound': 'rxn02831'}\n",
      "duplicate 3OXCOAT {'bigg.reaction': '3OXCOAT', 'biocyc': 'RXN-3641', 'kegg.reaction': 'R00829', 'metanetx.reaction': 'MNXR94967', 'seed.compound': 'rxn00598'}\n",
      "duplicate LPLIPAL2E161 {'metanetx.reaction': 'MNXR135883', 'seed.compound': 'rxn08842'}\n",
      "duplicate TMK {'bigg.reaction': 'TMK', 'biocyc': 'THIKIN-RXN', 'kegg.reaction': 'R02134', 'metanetx.reaction': 'MNXR104898', 'seed.compound': 'rxn01538'}\n",
      "original id and ecoli MNXR105188_c0 VALt2rpp\n"
     ]
    },
    {
     "data": {
      "text/plain": [
       "{'AGP1_11',\n",
       " 'BAP2_8',\n",
       " 'BAP3_8',\n",
       " 'GAP1_17',\n",
       " 'VALt2',\n",
       " 'VALt2m',\n",
       " 'VALt2r',\n",
       " 'VALt2rpp',\n",
       " 'VALth',\n",
       " 'VAP1_7'}"
      ]
     },
     "execution_count": 14,
     "metadata": {},
     "output_type": "execute_result"
    },
    {
     "name": "stdout",
     "output_type": "stream",
     "text": [
      "newid VALt2rpp\n",
      "duplicate UDCPDP {'metanetx.reaction': 'MNXR134586', 'seed.compound': 'rxn03901'}\n",
      "duplicate PUNP6 {'bigg.reaction': 'PUNP6', 'biocyc': 'DEOXYINOPHOSPHOR-RXN', 'kegg.reaction': 'R02748', 'metanetx.reaction': 'MNXR103348', 'seed.compound': 'rxn01985'}\n",
      "original id and ecoli GALACTOKIN-RXN_c0 GALKr\n"
     ]
    },
    {
     "data": {
      "text/plain": [
       "{'GAL1', 'GALK', 'GALKh', 'GALKr'}"
      ]
     },
     "execution_count": 14,
     "metadata": {},
     "output_type": "execute_result"
    },
    {
     "name": "stdout",
     "output_type": "stream",
     "text": [
      "newid GALKr\n",
      "duplicate GLUR {'bigg.reaction': 'GLUR', 'biocyc': 'GLUTRACE-RXN', 'kegg.reaction': 'R00260', 'metanetx.reaction': 'MNXR100288', 'seed.compound': 'rxn00193'}\n",
      "duplicate EAR60x {'biocyc': 'RXN-9658', 'kegg.reaction': 'R04955', 'metanetx.reaction': 'MNXR109246', 'seed.compound': 'rxn05326'}\n",
      "duplicate LPLIPAL1A161pp {'metanetx.reaction': 'MNXR135845', 'seed.compound': 'rxn08800'}\n",
      "original id and ecoli CITSYN-RXN_c0 CS\n"
     ]
    },
    {
     "data": {
      "text/plain": [
       "{'CIT2', 'CS', 'CSm', 'CSp'}"
      ]
     },
     "execution_count": 14,
     "metadata": {},
     "output_type": "execute_result"
    },
    {
     "name": "stdout",
     "output_type": "stream",
     "text": [
      "newid CS\n",
      "duplicate DHORD2 {'bigg.reaction': 'DHORD2', 'metanetx.reaction': 'MNXR97418', 'seed.compound': 'rxn08335'}\n",
      "original id and ecoli MNXR99623_c0 GARFT\n"
     ]
    },
    {
     "data": {
      "text/plain": [
       "{'ADE8', 'FPGFTh', 'FPGFTm', 'GARFT', 'GARFTi'}"
      ]
     },
     "execution_count": 14,
     "metadata": {},
     "output_type": "execute_result"
    },
    {
     "name": "stdout",
     "output_type": "stream",
     "text": [
      "newid GARFT\n",
      "original id and ecoli NAD-SYNTH-NH3-RXN_c0 NADS1\n"
     ]
    },
    {
     "data": {
      "text/plain": [
       "{'NADS1', 'NADS1m', 'NADS1n', 'QNS1_1'}"
      ]
     },
     "execution_count": 14,
     "metadata": {},
     "output_type": "execute_result"
    },
    {
     "name": "stdout",
     "output_type": "stream",
     "text": [
      "newid NADS1\n",
      "duplicate UAGAAT {'bigg.reaction': 'UAGAAT', 'biocyc': 'UDPNACETYLGLUCOSAMACYLTRANS-RXN', 'kegg.reaction': 'R04567', 'metanetx.reaction': 'MNXR105028', 'seed.compound': 'rxn06729'}\n",
      "original id and ecoli ABC-36-RXN_c0 VALabcpp\n"
     ]
    },
    {
     "data": {
      "text/plain": [
       "{'VALabc', 'VALabcpp'}"
      ]
     },
     "execution_count": 14,
     "metadata": {},
     "output_type": "execute_result"
    },
    {
     "name": "stdout",
     "output_type": "stream",
     "text": [
      "newid VALabcpp\n",
      "original id and ecoli RXN-11667_c0 ECOAH1\n"
     ]
    },
    {
     "data": {
      "text/plain": [
       "{'ECOAH1', 'ECOAH1_1', 'ECOAH1_2', 'ECOAH1m', 'ECOAH1x'}"
      ]
     },
     "execution_count": 14,
     "metadata": {},
     "output_type": "execute_result"
    },
    {
     "name": "stdout",
     "output_type": "stream",
     "text": [
      "newid ECOAH1\n",
      "original id and ecoli ADDALT-RXN_c0 DADA\n"
     ]
    },
    {
     "data": {
      "text/plain": [
       "{'AAH1_2', 'DADA', 'DADAe'}"
      ]
     },
     "execution_count": 14,
     "metadata": {},
     "output_type": "execute_result"
    },
    {
     "name": "stdout",
     "output_type": "stream",
     "text": [
      "newid DADA\n",
      "duplicate RMPA {'bigg.reaction': 'RMPA', 'biocyc': 'RHAMNULPALDOL-RXN', 'kegg.reaction': 'R02263', 'metanetx.reaction': 'MNXR104043', 'seed.compound': 'rxn01621'}\n",
      "duplicate GGGABAH {'bigg.reaction': 'GGGABAH', 'biocyc': 'RXN0-3942', 'kegg.reaction': 'R07419', 'metanetx.reaction': 'MNXR100114', 'seed.compound': 'rxn05128'}\n",
      "original id and ecoli MNXR104879_c0 TMAOR1pp\n"
     ]
    },
    {
     "data": {
      "text/plain": [
       "{'TMAOR1e', 'TMAOR1pp'}"
      ]
     },
     "execution_count": 14,
     "metadata": {},
     "output_type": "execute_result"
    },
    {
     "name": "stdout",
     "output_type": "stream",
     "text": [
      "newid TMAOR1pp\n",
      "duplicate CHOLD {'bigg.reaction': 'CHOLD', 'biocyc': 'RXN-6021', 'kegg.reaction': 'R08557', 'metanetx.reaction': 'MNXR96697', 'seed.compound': 'rxn10770'}\n",
      "duplicate DURIPP {'bigg.reaction': 'DURIPP', 'biocyc': 'URA-PHOSPH-RXN', 'kegg.reaction': 'R02484', 'metanetx.reaction': 'MNXR97818', 'seed.compound': 'rxn01799'}\n",
      "original id and ecoli 5.4.2.10-RXN_c0 PGAMT\n"
     ]
    },
    {
     "data": {
      "text/plain": [
       "{'PGAMT', 'PGAMTi'}"
      ]
     },
     "execution_count": 14,
     "metadata": {},
     "output_type": "execute_result"
    },
    {
     "name": "stdout",
     "output_type": "stream",
     "text": [
      "newid PGAMT\n",
      "original id and ecoli MNXR102563_c0 PGPP160\n"
     ]
    },
    {
     "data": {
      "text/plain": [
       "{'PGPP160', 'PGPP160pp'}"
      ]
     },
     "execution_count": 14,
     "metadata": {},
     "output_type": "execute_result"
    },
    {
     "name": "stdout",
     "output_type": "stream",
     "text": [
      "newid PGPP160\n",
      "original id and ecoli PGPP160 PGPP160pp\n"
     ]
    },
    {
     "data": {
      "text/plain": [
       "{'PGPP160', 'PGPP160pp'}"
      ]
     },
     "execution_count": 14,
     "metadata": {},
     "output_type": "execute_result"
    },
    {
     "name": "stdout",
     "output_type": "stream",
     "text": [
      "newid PGPP160pp\n",
      "duplicate THDPS {'bigg.reaction': 'THDPS', 'biocyc': 'TETHYDPICSUCC-RXN', 'kegg.reaction': 'R04365', 'metanetx.reaction': 'MNXR104806', 'seed.compound': 'rxn03031'}\n",
      "duplicate PSSA141 {'metanetx.reaction': 'MNXR135987', 'seed.compound': 'rxn09207'}\n",
      "original id and ecoli RXN0-267_c0 THIORDXi\n"
     ]
    },
    {
     "data": {
      "text/plain": [
       "{'THDPO', 'THIORDXi', 'THIORDXm', 'THIORDXni', 'THIORDXp'}"
      ]
     },
     "execution_count": 14,
     "metadata": {},
     "output_type": "execute_result"
    },
    {
     "name": "stdout",
     "output_type": "stream",
     "text": [
      "newid THIORDXi\n",
      "original id and ecoli GUANYL-KIN-RXN_c0 GK1\n"
     ]
    },
    {
     "data": {
      "text/plain": [
       "{'GK1', 'GK1m', 'GUK1_1'}"
      ]
     },
     "execution_count": 14,
     "metadata": {},
     "output_type": "execute_result"
    },
    {
     "name": "stdout",
     "output_type": "stream",
     "text": [
      "newid GK1\n",
      "original id and ecoli N-ACETYLGLUTPREDUCT-RXN_c0 AGPR\n"
     ]
    },
    {
     "data": {
      "text/plain": [
       "{'AGGPR', 'AGPR', 'AGPRim'}"
      ]
     },
     "execution_count": 14,
     "metadata": {},
     "output_type": "execute_result"
    },
    {
     "name": "stdout",
     "output_type": "stream",
     "text": [
      "newid AGPR\n",
      "original id and ecoli PANTOATE-BETA-ALANINE-LIG-RXN_c0 PANTS\n"
     ]
    },
    {
     "data": {
      "text/plain": [
       "{'PANTS', 'PBAL', 'PBALm', 'YIL145C'}"
      ]
     },
     "execution_count": 14,
     "metadata": {},
     "output_type": "execute_result"
    },
    {
     "name": "stdout",
     "output_type": "stream",
     "text": [
      "newid PANTS\n",
      "original id and ecoli SULFITE-REDUCT-RXN_c0 SULR\n"
     ]
    },
    {
     "data": {
      "text/plain": [
       "{'ECM17', 'MET10', 'SULR', 'SULR_1', 'SULRi'}"
      ]
     },
     "execution_count": 14,
     "metadata": {},
     "output_type": "execute_result"
    },
    {
     "name": "stdout",
     "output_type": "stream",
     "text": [
      "newid SULR\n",
      "duplicate PGPP181pp {'metanetx.reaction': 'MNXR135936', 'seed.compound': 'rxn09107'}\n",
      "original id and ecoli PHOSMANMUT-RXN_c0 PMANM\n"
     ]
    },
    {
     "data": {
      "text/plain": [
       "{'MPPM', 'PMANM', 'SEC53'}"
      ]
     },
     "execution_count": 14,
     "metadata": {},
     "output_type": "execute_result"
    },
    {
     "name": "stdout",
     "output_type": "stream",
     "text": [
      "newid PMANM\n",
      "duplicate ACACCT {'bigg.reaction': 'ACACCT', 'biocyc': 'ACETOACETYL-COA-TRANSFER-RXN', 'kegg.reaction': 'R01359', 'metanetx.reaction': 'MNXR95193', 'seed.compound': 'rxn00990'}\n",
      "original id and ecoli TRYPSYN-RXN_c0 TRPS1\n"
     ]
    },
    {
     "data": {
      "text/plain": [
       "{'SERH', 'TRPS1', 'TRPS1r'}"
      ]
     },
     "execution_count": 14,
     "metadata": {},
     "output_type": "execute_result"
    },
    {
     "name": "stdout",
     "output_type": "stream",
     "text": [
      "newid TRPS1\n",
      "duplicate LPLIPAL1G181pp {'metanetx.reaction': 'MNXR135860', 'seed.compound': 'rxn08816'}\n",
      "original id and ecoli P-PANTOCYSDECARB-RXN_c0 PPCDC\n"
     ]
    },
    {
     "data": {
      "text/plain": [
       "{'PPCDC', 'U93', 'r0614'}"
      ]
     },
     "execution_count": 14,
     "metadata": {},
     "output_type": "execute_result"
    },
    {
     "name": "stdout",
     "output_type": "stream",
     "text": [
      "newid PPCDC\n",
      "original id and ecoli MNXR100294_c0 GLUTRR\n"
     ]
    },
    {
     "data": {
      "text/plain": [
       "{'GLUTRR', 'GLUTRR_1'}"
      ]
     },
     "execution_count": 14,
     "metadata": {},
     "output_type": "execute_result"
    },
    {
     "name": "stdout",
     "output_type": "stream",
     "text": [
      "newid GLUTRR\n",
      "original id and ecoli DUTP-PYROP-RXN_c0 DUTPDP\n"
     ]
    },
    {
     "data": {
      "text/plain": [
       "{'DUT1', 'DUTPDP', 'DUTPDPm', 'DUTPDPn'}"
      ]
     },
     "execution_count": 14,
     "metadata": {},
     "output_type": "execute_result"
    },
    {
     "name": "stdout",
     "output_type": "stream",
     "text": [
      "newid DUTPDP\n",
      "original id and ecoli ADENODEAMIN-RXN_c0 ADA\n"
     ]
    },
    {
     "data": {
      "text/plain": [
       "{'AAH1_1', 'ADA', 'ADAe'}"
      ]
     },
     "execution_count": 14,
     "metadata": {},
     "output_type": "execute_result"
    },
    {
     "name": "stdout",
     "output_type": "stream",
     "text": [
      "newid ADA\n",
      "duplicate PFK_3 {'bigg.reaction': 'PFK_3', 'biocyc': 'RXN0-6541', 'kegg.reaction': 'R01843', 'metanetx.reaction': 'MNXR102510', 'seed.compound': 'rxn01343'}\n",
      "duplicate GUI1 {'bigg.reaction': 'GUI1', 'kegg.reaction': 'R01482', 'metanetx.reaction': 'MNXR100468', 'seed.compound': 'rxn01080'}\n",
      "duplicate LPLIPAL1A140pp {'metanetx.reaction': 'MNXR135843', 'seed.compound': 'rxn08797'}\n",
      "duplicate PGSA120 {'metanetx.reaction': 'MNXR135937', 'seed.compound': 'rxn09108'}\n",
      "duplicate FCLT {'metanetx.reaction': 'MNXR134211', 'seed.compound': 'rxn00224'}\n",
      "##in DTMPK DTMPKI-RXN_c0\n",
      "original id and ecoli MNXR94876_c0 3HAD100\n"
     ]
    },
    {
     "data": {
      "text/plain": [
       "{'3HAD100', '3HAD100_1', 'HDEHL4'}"
      ]
     },
     "execution_count": 14,
     "metadata": {},
     "output_type": "execute_result"
    },
    {
     "name": "stdout",
     "output_type": "stream",
     "text": [
      "newid 3HAD100\n",
      "original id and ecoli RXN-14268_c0 ACACT6r\n"
     ]
    },
    {
     "data": {
      "text/plain": [
       "{'ACACT6m', 'ACACT6p', 'ACACT6r', 'KAT6'}"
      ]
     },
     "execution_count": 14,
     "metadata": {},
     "output_type": "execute_result"
    },
    {
     "name": "stdout",
     "output_type": "stream",
     "text": [
      "newid ACACT6r\n",
      "duplicate DASYN140 {'bigg.reaction': 'DASYN140', 'metanetx.reaction': 'MNXR97155', 'seed.compound': 'rxn08307'}\n",
      "original id and ecoli ABC-32-RXN_c0 THMabcpp\n"
     ]
    },
    {
     "data": {
      "text/plain": [
       "{'THMabc', 'THMabcpp'}"
      ]
     },
     "execution_count": 14,
     "metadata": {},
     "output_type": "execute_result"
    },
    {
     "name": "stdout",
     "output_type": "stream",
     "text": [
      "newid THMabcpp\n",
      "duplicate PDX5POi {'bigg.reaction': 'PDX5POi', 'biocyc': 'PNPOXI-RXN', 'kegg.reaction': 'R00278', 'metanetx.reaction': 'MNXR102438', 'seed.compound': 'rxn00209'}\n",
      "##in GLYOX GLYOXII-RXN_c0\n",
      "original id and ecoli RIBOFLAVINSYNREDUC-RXN_c0 APRAUR\n"
     ]
    },
    {
     "data": {
      "text/plain": [
       "{'APRAUR', 'AUNOR', 'RIB7_2'}"
      ]
     },
     "execution_count": 14,
     "metadata": {},
     "output_type": "execute_result"
    },
    {
     "name": "stdout",
     "output_type": "stream",
     "text": [
      "newid APRAUR\n",
      "duplicate MCPST {'bigg.reaction': 'MCPST', 'biocyc': 'MERCAPYSTRANS-RXN', 'kegg.reaction': 'R03106', 'metanetx.reaction': 'MNXR101422', 'seed.compound': 'rxn02230'}\n",
      "original id and ecoli MNXR100544_c0 HACD3\n"
     ]
    },
    {
     "data": {
      "text/plain": [
       "{'HACD3', 'HACD3_1', 'HACD3i', 'HACD3m'}"
      ]
     },
     "execution_count": 14,
     "metadata": {},
     "output_type": "execute_result"
    },
    {
     "name": "stdout",
     "output_type": "stream",
     "text": [
      "newid HACD3\n",
      "duplicate GART {'bigg.reaction': 'GART', 'biocyc': 'GARTRANSFORMYL2-RXN', 'kegg.reaction': 'R06974', 'metanetx.reaction': 'MNXR100042', 'seed.compound': 'rxn04783'}\n",
      "original id and ecoli GLU6PDEHYDROG-RXN_c0 G6PDH2r\n"
     ]
    },
    {
     "data": {
      "text/plain": [
       "{'G6PDH', 'G6PDH2', 'G6PDH2er', 'G6PDH2r', 'G6PDHy', 'ZWF1'}"
      ]
     },
     "execution_count": 14,
     "metadata": {},
     "output_type": "execute_result"
    },
    {
     "name": "stdout",
     "output_type": "stream",
     "text": [
      "newid G6PDH2r\n",
      "original id and ecoli AKBLIG-RXN_c0 GLYAT\n"
     ]
    },
    {
     "data": {
      "text/plain": [
       "{'GLYAT', 'GLYATRi', 'GLYATi', 'GLYATm', 'GLYATx'}"
      ]
     },
     "execution_count": 14,
     "metadata": {},
     "output_type": "execute_result"
    },
    {
     "name": "stdout",
     "output_type": "stream",
     "text": [
      "newid GLYAT\n",
      "duplicate LPLIPAL2G161 {'metanetx.reaction': 'MNXR135889', 'seed.compound': 'rxn08849'}\n",
      "duplicate PSSA160 {'bigg.reaction': 'PSSA160', 'metanetx.reaction': 'MNXR103269', 'seed.compound': 'rxn09208'}\n",
      "original id and ecoli MNXR101267_c0 LYSt3pp\n"
     ]
    },
    {
     "data": {
      "text/plain": [
       "{'LYSt3', 'LYSt3pp', 'LYSt3r', 'LYSt6', 'LYStm'}"
      ]
     },
     "execution_count": 14,
     "metadata": {},
     "output_type": "execute_result"
    },
    {
     "name": "stdout",
     "output_type": "stream",
     "text": [
      "newid LYSt3pp\n",
      "duplicate DAGK140 {'metanetx.reaction': 'MNXR135766', 'seed.compound': 'rxn08295'}\n",
      "##in PSERT PSERTRANSAM-RXN_c0\n",
      "original id and ecoli DIHYDROFOLATESYNTH-RXN_c0 DHFS\n"
     ]
    },
    {
     "data": {
      "text/plain": [
       "{'DHFS', 'DHFS_1', 'U89'}"
      ]
     },
     "execution_count": 14,
     "metadata": {},
     "output_type": "execute_result"
    },
    {
     "name": "stdout",
     "output_type": "stream",
     "text": [
      "newid DHFS\n",
      "original id and ecoli MNXR97401_c0 DHFR\n"
     ]
    },
    {
     "data": {
      "text/plain": [
       "{'DFR1_2', 'DHFR', 'DHFRi', 'DHFRim'}"
      ]
     },
     "execution_count": 14,
     "metadata": {},
     "output_type": "execute_result"
    },
    {
     "name": "stdout",
     "output_type": "stream",
     "text": [
      "newid DHFR\n",
      "duplicate PGSA161 {'bigg.reaction': 'PGSA161', 'metanetx.reaction': 'MNXR102594', 'seed.compound': 'rxn09112'}\n",
      "original id and ecoli PYRUVFORMLY-RXN_c0 PFL\n"
     ]
    },
    {
     "data": {
      "text/plain": [
       "{'PFL', 'PFLACTm', 'PFLh', 'PFLi', 'PFLr'}"
      ]
     },
     "execution_count": 14,
     "metadata": {},
     "output_type": "execute_result"
    },
    {
     "name": "stdout",
     "output_type": "stream",
     "text": [
      "newid PFL\n",
      "original id and ecoli UDPREDUCT-RXN_c0 RNDR4\n"
     ]
    },
    {
     "data": {
      "text/plain": [
       "{'RNDR4', 'RNDR4n', 'RNDR5B12'}"
      ]
     },
     "execution_count": 14,
     "metadata": {},
     "output_type": "execute_result"
    },
    {
     "name": "stdout",
     "output_type": "stream",
     "text": [
      "newid RNDR4\n",
      "duplicate AMALT4 {'bigg.reaction': 'AMALT4', 'biocyc': 'MALTODEG-RXN', 'metanetx.reaction': 'MNXR95803', 'seed.compound': 'rxn08129'}\n",
      "original id and ecoli THIOREDOXIN-REDUCT-NADPH-RXN_c0 TRDR\n"
     ]
    },
    {
     "data": {
      "text/plain": [
       "{'TDSRh', 'TRDR', 'TRDRm'}"
      ]
     },
     "execution_count": 14,
     "metadata": {},
     "output_type": "execute_result"
    },
    {
     "name": "stdout",
     "output_type": "stream",
     "text": [
      "newid TRDR\n",
      "duplicate SDPDS {'bigg.reaction': 'SDPDS', 'biocyc': 'SUCCDIAMINOPIMDESUCC-RXN', 'kegg.reaction': 'R02734', 'metanetx.reaction': 'MNXR104300', 'seed.compound': 'rxn01973'}\n",
      "original id and ecoli TRANS-RXN0-545_c0 CO2tex\n"
     ]
    },
    {
     "data": {
      "text/plain": [
       "{'CO2t',\n",
       " 'CO2ter',\n",
       " 'CO2tex',\n",
       " 'CO2tg',\n",
       " 'CO2th',\n",
       " 'CO2tm',\n",
       " 'CO2tn',\n",
       " 'CO2tp',\n",
       " 'CO2tpp',\n",
       " 'CO2tpp_1',\n",
       " 'CO2tv',\n",
       " 'U228'}"
      ]
     },
     "execution_count": 14,
     "metadata": {},
     "output_type": "execute_result"
    },
    {
     "name": "stdout",
     "output_type": "stream",
     "text": [
      "newid CO2tex\n",
      "original id and ecoli CO2tex CO2tpp\n"
     ]
    },
    {
     "data": {
      "text/plain": [
       "{'CO2t',\n",
       " 'CO2ter',\n",
       " 'CO2tex',\n",
       " 'CO2tg',\n",
       " 'CO2th',\n",
       " 'CO2tm',\n",
       " 'CO2tn',\n",
       " 'CO2tp',\n",
       " 'CO2tpp',\n",
       " 'CO2tpp_1',\n",
       " 'CO2tv',\n",
       " 'U228'}"
      ]
     },
     "execution_count": 14,
     "metadata": {},
     "output_type": "execute_result"
    },
    {
     "name": "stdout",
     "output_type": "stream",
     "text": [
      "newid CO2tpp\n",
      "original id and ecoli UDPKIN-RXN_c0 NDPK2\n"
     ]
    },
    {
     "data": {
      "text/plain": [
       "{'NDPK2', 'NDPK2m', 'NDPK2n', 'YNK1_1'}"
      ]
     },
     "execution_count": 14,
     "metadata": {},
     "output_type": "execute_result"
    },
    {
     "name": "stdout",
     "output_type": "stream",
     "text": [
      "newid NDPK2\n",
      "duplicate 3OAS100 {'biocyc': 'RXN-9527', 'kegg.reaction': 'R04960', 'metanetx.reaction': 'MNXR109251', 'seed.compound': 'rxn05343'}\n",
      "duplicate TMDS {'bigg.reaction': 'TMDS', 'kegg.reaction': 'R02101', 'metanetx.reaction': 'MNXR104889', 'seed.compound': 'rxn01520'}\n",
      "duplicate OHPHM {'bigg.reaction': 'OHPHM', 'biocyc': '2-OCTAPRENYL-6-OHPHENOL-METHY-RXN', 'kegg.reaction': 'R04988', 'metanetx.reaction': 'MNXR102170', 'seed.compound': 'rxn03395'}\n",
      "##in MALS MALSYN-RXN_c0\n",
      "duplicate OHPBAT {'bigg.reaction': 'OHPBAT', 'biocyc': 'PSERTRANSAMPYR-RXN', 'kegg.reaction': 'R05085', 'metanetx.reaction': 'MNXR102169', 'seed.compound': 'rxn03445'}\n",
      "original id and ecoli PHEAMINOTRANS-RXN_c0 PHETA1\n"
     ]
    },
    {
     "data": {
      "text/plain": [
       "{'ARO9_1', 'PHETA1', 'PHETA1m', 'POAT', 'POATh', 'POATm'}"
      ]
     },
     "execution_count": 14,
     "metadata": {},
     "output_type": "execute_result"
    },
    {
     "name": "stdout",
     "output_type": "stream",
     "text": [
      "newid PHETA1\n",
      "duplicate DAGK161 {'metanetx.reaction': 'MNXR135769', 'seed.compound': 'rxn08298'}\n",
      "original id and ecoli GLYOXI-RXN_c0 LGTHL\n"
     ]
    },
    {
     "data": {
      "text/plain": [
       "{'GLO1', 'GLYOX_1', 'LGTHL'}"
      ]
     },
     "execution_count": 14,
     "metadata": {},
     "output_type": "execute_result"
    },
    {
     "name": "stdout",
     "output_type": "stream",
     "text": [
      "newid LGTHL\n",
      "original id and ecoli DADPKIN-RXN_c0 NDPK8\n"
     ]
    },
    {
     "data": {
      "text/plain": [
       "{'NDPK8', 'NDPK8m', 'NDPK8n', 'YNK1_7'}"
      ]
     },
     "execution_count": 14,
     "metadata": {},
     "output_type": "execute_result"
    },
    {
     "name": "stdout",
     "output_type": "stream",
     "text": [
      "newid NDPK8\n",
      "duplicate MOAT2 {'bigg.reaction': 'MOAT2', 'biocyc': 'KDOTRANS2-RXN', 'kegg.reaction': ['R05074', 'R06285'], 'metanetx.reaction': 'MNXR101684', 'seed.compound': 'rxn03439'}\n",
      "original id and ecoli TRANS-RXN-139_c0 CLtex\n"
     ]
    },
    {
     "data": {
      "text/plain": [
       "{'CLtex', 'Clt'}"
      ]
     },
     "execution_count": 14,
     "metadata": {},
     "output_type": "execute_result"
    },
    {
     "name": "stdout",
     "output_type": "stream",
     "text": [
      "newid CLtex\n",
      "duplicate ALAALAr {'bigg.reaction': 'ALAALAr', 'biocyc': 'DALADALALIG-RXN', 'kegg.reaction': 'R01150', 'metanetx.reaction': 'MNXR95678', 'seed.compound': 'rxn00851'}\n",
      "duplicate GLCTR1 {'metanetx.reaction': 'MNXR135833', 'seed.compound': 'rxn08618'}\n",
      "duplicate GLCTR3 {'bigg.reaction': 'GLCTR3', 'metanetx.reaction': 'MNXR100228', 'seed.compound': 'rxn08620'}\n",
      "original id and ecoli GLYCOLALD-DEHYDROG-RXN_c0 GCALDD\n"
     ]
    },
    {
     "data": {
      "text/plain": [
       "{'GCALDD', 'GCALDDm', 'GCALDDr'}"
      ]
     },
     "execution_count": 14,
     "metadata": {},
     "output_type": "execute_result"
    },
    {
     "name": "stdout",
     "output_type": "stream",
     "text": [
      "newid GCALDD\n",
      "original id and ecoli DIMETHUROPORDEHYDROG-RXN_c0 SHCHD2\n"
     ]
    },
    {
     "data": {
      "text/plain": [
       "{'SHCHD2', 'SHCHD2_1'}"
      ]
     },
     "execution_count": 14,
     "metadata": {},
     "output_type": "execute_result"
    },
    {
     "name": "stdout",
     "output_type": "stream",
     "text": [
      "newid SHCHD2\n",
      "duplicate UGMDDS {'biocyc': 'UDP-NACMURALGLDAPAALIG-RXN', 'kegg.reaction': 'R04617', 'metanetx.reaction': 'MNXR109004', 'seed.compound': 'rxn03164'}\n",
      "duplicate GLCTR2 {'bigg.reaction': 'GLCTR2', 'metanetx.reaction': 'MNXR100227', 'seed.compound': 'rxn08619'}\n",
      "duplicate KDOPP {'kegg.reaction': 'R03350', 'metanetx.reaction': 'MNXR108110', 'seed.compound': 'rxn02404'}\n",
      "duplicate HEPT3 {'bigg.reaction': 'HEPT3', 'metanetx.reaction': 'MNXR100606', 'seed.compound': 'rxn08712'}\n",
      "duplicate HEPK1 {'bigg.reaction': 'HEPK1', 'metanetx.reaction': 'MNXR100598', 'seed.compound': 'rxn08708'}\n",
      "duplicate HEPK2 {'bigg.reaction': 'HEPK2', 'metanetx.reaction': 'MNXR100599', 'seed.compound': 'rxn08709'}\n",
      "original id and ecoli MNXR96437_c0 CA2t3pp\n"
     ]
    },
    {
     "data": {
      "text/plain": [
       "{'CA2t3pp', 'CAt4', 'CAt4i'}"
      ]
     },
     "execution_count": 14,
     "metadata": {},
     "output_type": "execute_result"
    },
    {
     "name": "stdout",
     "output_type": "stream",
     "text": [
      "newid CA2t3pp\n",
      "original id and ecoli RIBOPHOSPHAT-RXN_c0 PMDPHT\n"
     ]
    },
    {
     "data": {
      "text/plain": [
       "{'AUS', 'PMDPHT', 'U78'}"
      ]
     },
     "execution_count": 14,
     "metadata": {},
     "output_type": "execute_result"
    },
    {
     "name": "stdout",
     "output_type": "stream",
     "text": [
      "newid PMDPHT\n",
      "duplicate MOAT {'bigg.reaction': 'MOAT', 'biocyc': 'KDOTRANS-RXN', 'kegg.reaction': 'R04658', 'metanetx.reaction': 'MNXR101683', 'seed.compound': 'rxn03182'}\n",
      "duplicate GALT1 {'bigg.reaction': 'GALT1', 'metanetx.reaction': 'MNXR100015', 'seed.compound': 'rxn08583'}\n",
      "duplicate MOAT3C {'bigg.reaction': 'MOAT3C', 'metanetx.reaction': 'MNXR101686', 'seed.compound': 'rxn08954'}\n",
      "duplicate DHNAOT4 {'metanetx.reaction': 'MNXR135774', 'seed.compound': 'rxn08333'}\n",
      "duplicate RHAT1 {'metanetx.reaction': 'MNXR135993', 'seed.compound': 'rxn09225'}\n",
      "duplicate HEPT4 {'bigg.reaction': 'HEPT4', 'metanetx.reaction': 'MNXR100607', 'seed.compound': 'rxn08713'}\n"
     ]
    }
   ],
   "source": [
    "\n",
    "for reac in model.reactions:\n",
    "    for eco in ecoli_model.reactions:\n",
    "        #for d in new_bigg_ann_dict.keys():\n",
    "\n",
    "        try:\n",
    "            if \"seed.compound\" in reac.annotation and eco.id in new_bigg_ann_dict[reac.annotation[\"seed.compound\"]][\"both\"] and reac.annotation[\"seed.compound\"] in new_bigg_ann_dict.keys():\n",
    "                if eco.id == reac.id:\n",
    "                    print(\"duplicate\", reac.id, reac.annotation)\n",
    "                    continue\n",
    "                    \n",
    "                elif eco.id in reac.id and eco.id in new_bigg_ann_dict[reac.annotation[\"seed.compound\"]][\"both\"]:\n",
    "                    print(\"##in\", eco.id, reac.id)\n",
    "                    reac.id=eco.id\n",
    "                    model.repair()\n",
    "                else:\n",
    "                    print(\"original id and ecoli\",reac.id, eco.id)\n",
    "                    new_bigg_ann_dict[reac.annotation[\"seed.compound\"]][\"both\"]\n",
    "                    reac.id=eco.id\n",
    "                    print(\"newid\", reac.id)\n",
    "                    model.repair()\n",
    "        except:\n",
    "            pass\n"
   ]
  },
  {
   "cell_type": "code",
   "execution_count": 26,
   "metadata": {},
   "outputs": [],
   "source": [
    "for met in model.metabolites:\n",
    "    for eco in ecoli_model.metabolites:\n",
    "        #for d in new_bigg_ann_dict_met.keys():\n",
    "\n",
    "        try:\n",
    "            if \"seed.compound\" in met.annotation and eco.id in new_bigg_ann_dict_met[met.annotation[\"seed.compound\"]][\"both\"] and met.annotation[\"seed.compound\"] in new_bigg_ann_dict_met.keys():\n",
    "                if eco.id in met.id:\n",
    "                    print(\"duplicate\", met.id, met.annotation)\n",
    "                    continue\n",
    "                elif eco.id in reac.id and eco.id in new_bigg_ann_dict[reac.annotation[\"seed.compound\"]][\"both\"]:\n",
    "                    print(\"##in\", eco.id, reac.id)\n",
    "                    reac.id=eco.id\n",
    "                    model.repair()\n",
    "                    \n",
    "                else:\n",
    "                    print(\"original id and ecoli\",met.id, eco.id)\n",
    "                    new_bigg_ann_dict_met[met.annotation[\"seed.compound\"]][\"both\"]\n",
    "                    met.id=eco.id\n",
    "                    print(\"newid\", met.id)\n",
    "                    model.repair()\n",
    "        except:\n",
    "            pass\n"
   ]
  },
  {
   "cell_type": "code",
   "execution_count": null,
   "metadata": {},
   "outputs": [],
   "source": [
    "count=0\n",
    "notin=0\n",
    "for reac in model.reactions:\n",
    "    for eco in ecoli_model.reactions:\n",
    "        if eco.id == reac.id:\n",
    "            eco.id, reac.id\n",
    "            count+=1\n",
    "        elif \"seed.compound\" in reac.annotation and reac.annotation[\"seed.compound\"] in new_bigg_ann_dict.keys():\n",
    "            if eco.id in new_bigg_ann_dict[reac.annotation[\"seed.compound\"]][\"both\"]:\n",
    "                print(\"in the new ann dict \", eco.id)\n",
    "\n",
    "            \n",
    "count\n",
    "len(ecoli_model.reactions)\n",
    "len(model.reactions)"
   ]
  },
  {
   "cell_type": "code",
   "execution_count": null,
   "metadata": {},
   "outputs": [],
   "source": [
    "count=0\n",
    "notin=0\n",
    "for met in model.metabolites:\n",
    "    for eco in ecoli_model.metabolites:\n",
    "        if eco.id == met.id:\n",
    "            eco.id, met.id\n",
    "            count+=1\n",
    "        elif \"seed.compound\" in met.annotation and met.annotation[\"seed.compound\"] in new_bigg_ann_dict_met.keys():\n",
    "            if eco.id in new_bigg_ann_dict_met[met.annotation[\"seed.compound\"]][\"both\"]:\n",
    "                print(\"in the new ann dict \", eco.id)\n",
    "\n",
    "            \n",
    "count\n",
    "len(ecoli_model.metabolites)\n",
    "len(model.metabolites)"
   ]
  },
  {
   "cell_type": "code",
   "execution_count": null,
   "metadata": {},
   "outputs": [],
   "source": [
    "model_ecoli_escher.reactions.ICDHyr\n",
    "model.reactions.query(\"rxn00198\")"
   ]
  },
  {
   "cell_type": "code",
   "execution_count": null,
   "metadata": {},
   "outputs": [],
   "source": [
    "for i in model.reactions:\n",
    "    print(i.annotation[\"seed.compound\"])"
   ]
  },
  {
   "cell_type": "code",
   "execution_count": null,
   "metadata": {},
   "outputs": [],
   "source": [
    "for e in ecoli_model.reactions:\n",
    "    for d in new_bigg_ann_dict.keys():\n",
    "        if e.id in new_bigg_ann_dict[d]:\n",
    "            print(e.id)\n",
    "            \n",
    "    "
   ]
  },
  {
   "cell_type": "code",
   "execution_count": null,
   "metadata": {
    "scrolled": true
   },
   "outputs": [],
   "source": [
    "ecoli_model.reactions.THD2pp\n",
    "#??replaced\n",
    "model.reactions.NTP1\n",
    "ecoli_model.reactions.ATPM\n"
   ]
  },
  {
   "cell_type": "code",
   "execution_count": 23,
   "metadata": {},
   "outputs": [
    {
     "data": {
      "text/plain": [
       "[<DOM Element: entry at 0x112183210>,\n",
       " <DOM Element: entry at 0x112183340>,\n",
       " <DOM Element: entry at 0x112183470>,\n",
       " <DOM Element: entry at 0x1121835a0>,\n",
       " <DOM Element: entry at 0x1121836d0>,\n",
       " <DOM Element: entry at 0x112183800>,\n",
       " <DOM Element: entry at 0x112183930>,\n",
       " <DOM Element: entry at 0x112183a60>,\n",
       " <DOM Element: entry at 0x112183b90>,\n",
       " <DOM Element: entry at 0x112183cc0>,\n",
       " <DOM Element: entry at 0x112183df0>,\n",
       " <DOM Element: entry at 0x112183f20>,\n",
       " <DOM Element: entry at 0x111d9f0e0>,\n",
       " <DOM Element: entry at 0x111d9f210>,\n",
       " <DOM Element: entry at 0x111d9f340>,\n",
       " <DOM Element: entry at 0x111d9f470>,\n",
       " <DOM Element: entry at 0x111d9f5a0>,\n",
       " <DOM Element: entry at 0x111d9f6d0>,\n",
       " <DOM Element: entry at 0x111d9f800>,\n",
       " <DOM Element: entry at 0x111d9f930>,\n",
       " <DOM Element: entry at 0x111d9fa60>,\n",
       " <DOM Element: entry at 0x111d9fb90>,\n",
       " <DOM Element: entry at 0x111d9fcc0>,\n",
       " <DOM Element: entry at 0x111d9fdf0>,\n",
       " <DOM Element: entry at 0x111d9ff20>,\n",
       " <DOM Element: entry at 0x1117790e0>,\n",
       " <DOM Element: entry at 0x111779210>,\n",
       " <DOM Element: entry at 0x111779340>,\n",
       " <DOM Element: entry at 0x111779470>,\n",
       " <DOM Element: entry at 0x1117795a0>,\n",
       " <DOM Element: entry at 0x1117796d0>,\n",
       " <DOM Element: entry at 0x111779800>,\n",
       " <DOM Element: entry at 0x111779930>,\n",
       " <DOM Element: entry at 0x111779a60>,\n",
       " <DOM Element: entry at 0x111779b90>,\n",
       " <DOM Element: entry at 0x111779cc0>,\n",
       " <DOM Element: entry at 0x111779df0>,\n",
       " <DOM Element: entry at 0x111779f20>,\n",
       " <DOM Element: entry at 0x1117650e0>,\n",
       " <DOM Element: entry at 0x111765210>,\n",
       " <DOM Element: entry at 0x111765340>,\n",
       " <DOM Element: entry at 0x111765470>,\n",
       " <DOM Element: entry at 0x1117655a0>,\n",
       " <DOM Element: entry at 0x1117656d0>,\n",
       " <DOM Element: entry at 0x111765800>,\n",
       " <DOM Element: entry at 0x111765930>,\n",
       " <DOM Element: entry at 0x111765a60>,\n",
       " <DOM Element: entry at 0x111765b90>,\n",
       " <DOM Element: entry at 0x111765cc0>,\n",
       " <DOM Element: entry at 0x111765df0>,\n",
       " <DOM Element: entry at 0x111765f20>,\n",
       " <DOM Element: entry at 0x111dfa0e0>,\n",
       " <DOM Element: entry at 0x111dfa210>,\n",
       " <DOM Element: entry at 0x111dfa340>,\n",
       " <DOM Element: entry at 0x111dfa470>,\n",
       " <DOM Element: entry at 0x111dfa5a0>,\n",
       " <DOM Element: entry at 0x111dfa6d0>,\n",
       " <DOM Element: entry at 0x111dfa800>,\n",
       " <DOM Element: entry at 0x111dfa930>,\n",
       " <DOM Element: entry at 0x111dfaa60>,\n",
       " <DOM Element: entry at 0x111dfab90>,\n",
       " <DOM Element: entry at 0x111dfacc0>,\n",
       " <DOM Element: entry at 0x111dfadf0>,\n",
       " <DOM Element: entry at 0x111dfaf20>,\n",
       " <DOM Element: entry at 0x111dc50e0>,\n",
       " <DOM Element: entry at 0x111dc5210>,\n",
       " <DOM Element: entry at 0x111dc5340>,\n",
       " <DOM Element: entry at 0x111dc5470>,\n",
       " <DOM Element: entry at 0x111dc55a0>,\n",
       " <DOM Element: entry at 0x111dc56d0>,\n",
       " <DOM Element: entry at 0x111dc5800>,\n",
       " <DOM Element: entry at 0x111dc5930>,\n",
       " <DOM Element: entry at 0x111dc5a60>,\n",
       " <DOM Element: entry at 0x111dc5b90>,\n",
       " <DOM Element: entry at 0x111dc5cc0>,\n",
       " <DOM Element: entry at 0x111dc5df0>,\n",
       " <DOM Element: entry at 0x111dc5f20>,\n",
       " <DOM Element: entry at 0x111c6a0e0>,\n",
       " <DOM Element: entry at 0x111c6a210>,\n",
       " <DOM Element: entry at 0x111c6a340>,\n",
       " <DOM Element: entry at 0x111c6a470>,\n",
       " <DOM Element: entry at 0x111c6a5a0>,\n",
       " <DOM Element: entry at 0x111c6a6d0>,\n",
       " <DOM Element: entry at 0x111c6a800>,\n",
       " <DOM Element: entry at 0x111c6a930>,\n",
       " <DOM Element: entry at 0x111c6aa60>,\n",
       " <DOM Element: entry at 0x111c6ab90>,\n",
       " <DOM Element: entry at 0x111c6acc0>,\n",
       " <DOM Element: entry at 0x111c6adf0>,\n",
       " <DOM Element: entry at 0x111c6af20>,\n",
       " <DOM Element: entry at 0x111cf70e0>,\n",
       " <DOM Element: entry at 0x111cf7210>,\n",
       " <DOM Element: entry at 0x111cf7340>,\n",
       " <DOM Element: entry at 0x111cf7470>,\n",
       " <DOM Element: entry at 0x111cf75a0>,\n",
       " <DOM Element: entry at 0x111cf76d0>,\n",
       " <DOM Element: entry at 0x111cf7800>,\n",
       " <DOM Element: entry at 0x111cf7930>,\n",
       " <DOM Element: entry at 0x111cf7a60>,\n",
       " <DOM Element: entry at 0x111cf7b90>]"
      ]
     },
     "execution_count": 23,
     "metadata": {},
     "output_type": "execute_result"
    },
    {
     "name": "stdout",
     "output_type": "stream",
     "text": [
      "100\n",
      "vna:PN96_00905\n",
      "HURRA vna:PN96_00905\n",
      "HURRA vna:PN96_19520\n",
      "HURRA vna:PN96_03185 vna:PN96_04715 vna:PN96_16515 vna:PN96_21720 vna:PN96_22510\n",
      "HURRA vna:PN96_01335 vna:PN96_21070 vna:PN96_21075\n",
      "HURRA vna:PN96_01335 vna:PN96_21070 vna:PN96_21075\n",
      "HURRA vna:PN96_01340 vna:PN96_21080 vna:PN96_21130\n",
      "HURRA vna:PN96_16800\n",
      "HURRA vna:PN96_03585 vna:PN96_11555\n",
      "HURRA vna:PN96_01075\n",
      "HURRA vna:PN96_03030 vna:PN96_13945 vna:PN96_17940\n",
      "HURRA vna:PN96_12085\n",
      "HURRA vna:PN96_14310\n",
      "HURRA vna:PN96_11745 vna:PN96_12055\n",
      "HURRA vna:PN96_03555 vna:PN96_09525\n",
      "HURRA vna:PN96_14920\n",
      "HURRA vna:PN96_09320\n",
      "HURRA vna:PN96_14920\n",
      "HURRA vna:PN96_22390\n",
      "HURRA vna:PN96_14920\n",
      "HURRA vna:PN96_03025\n",
      "HURRA vna:PN96_16050\n",
      "HURRA vna:PN96_22390\n",
      "HURRA vna:PN96_01345 vna:PN96_21795\n",
      "HURRA vna:PN96_00900\n",
      "HURRA vna:PN96_09525\n",
      "HURRA vna:PN96_09525\n",
      "HURRA vna:PN96_06535 vna:PN96_08690 vna:PN96_17680 vna:PN96_17690 vna:PN96_19460\n",
      "HURRA vna:PN96_06535 vna:PN96_08690 vna:PN96_17680 vna:PN96_17690 vna:PN96_19460\n",
      "HURRA vna:PN96_12720\n",
      "HURRA vna:PN96_14210 vna:PN96_21120\n",
      "HURRA vna:PN96_14435\n",
      "HURRA vna:PN96_05305\n"
     ]
    },
    {
     "data": {
      "text/plain": [
       "['vna:PN96_00905',\n",
       " 'vna:PN96_19520',\n",
       " 'vna:PN96_03185 vna:PN96_04715 vna:PN96_16515 vna:PN96_21720 vna:PN96_22510',\n",
       " 'vna:PN96_01335 vna:PN96_21070 vna:PN96_21075',\n",
       " 'vna:PN96_01335 vna:PN96_21070 vna:PN96_21075',\n",
       " 'vna:PN96_01340 vna:PN96_21080 vna:PN96_21130',\n",
       " 'vna:PN96_16800',\n",
       " 'vna:PN96_03585 vna:PN96_11555',\n",
       " 'vna:PN96_01075',\n",
       " 'vna:PN96_03030 vna:PN96_13945 vna:PN96_17940',\n",
       " 'vna:PN96_12085',\n",
       " 'vna:PN96_14310',\n",
       " 'vna:PN96_11745 vna:PN96_12055',\n",
       " 'vna:PN96_03555 vna:PN96_09525',\n",
       " 'vna:PN96_14920',\n",
       " 'vna:PN96_09320',\n",
       " 'vna:PN96_14920',\n",
       " 'vna:PN96_22390',\n",
       " 'vna:PN96_14920',\n",
       " 'vna:PN96_03025',\n",
       " 'vna:PN96_16050',\n",
       " 'vna:PN96_22390',\n",
       " 'vna:PN96_01345 vna:PN96_21795',\n",
       " 'vna:PN96_00900',\n",
       " 'vna:PN96_09525',\n",
       " 'vna:PN96_09525',\n",
       " 'vna:PN96_06535 vna:PN96_08690 vna:PN96_17680 vna:PN96_17690 vna:PN96_19460',\n",
       " 'vna:PN96_06535 vna:PN96_08690 vna:PN96_17680 vna:PN96_17690 vna:PN96_19460',\n",
       " 'vna:PN96_12720',\n",
       " 'vna:PN96_14210 vna:PN96_21120',\n",
       " 'vna:PN96_14435',\n",
       " 'vna:PN96_05305']"
      ]
     },
     "execution_count": 23,
     "metadata": {},
     "output_type": "execute_result"
    }
   ],
   "source": [
    "gene_list=[]\n",
    "from xml.dom import minidom\n",
    "xmldoc = minidom.parse('/Users/lizrad/Documents/Vibrio_folder/vna00010.xml')\n",
    "itemlist = xmldoc.getElementsByTagName('entry')\n",
    "itemlist\n",
    "print(len(itemlist))\n",
    "if itemlist[0].attributes['type'].value==\"gene\":\n",
    "    print(itemlist[0].attributes['name'].value)\n",
    "    for s in itemlist:\n",
    "        if \"type\" in s.attributes and \"gene\" in s.attributes['name'].value: \n",
    "            #s.getAttribute[\"type\"]\n",
    "            print(\"gene\", s.attributes['name'].value)\n",
    "            #print(s.attributes['reaction'].value\n",
    "        \n",
    "        if s.attributes['name'].value.startswith(\"vna\"):\n",
    "            print(\"HURRA\", s.attributes['name'].value)\n",
    "            gene_list.append(s.attributes['name'].value)\n",
    "gene_list"
   ]
  },
  {
   "cell_type": "code",
   "execution_count": 25,
   "metadata": {},
   "outputs": [
    {
     "ename": "AttributeError",
     "evalue": "DictList has no attribute or entry id",
     "output_type": "error",
     "traceback": [
      "\u001b[0;31m---------------------------------------------------------------------------\u001b[0m",
      "\u001b[0;31mKeyError\u001b[0m                                  Traceback (most recent call last)",
      "\u001b[0;32m~/anaconda3/envs/vibrio/lib/python3.6/site-packages/cobra/core/dictlist.py\u001b[0m in \u001b[0;36m__getattr__\u001b[0;34m(self, attr)\u001b[0m\n\u001b[1;32m    450\u001b[0m         \u001b[0;32mtry\u001b[0m\u001b[0;34m:\u001b[0m\u001b[0;34m\u001b[0m\u001b[0m\n\u001b[0;32m--> 451\u001b[0;31m             \u001b[0;32mreturn\u001b[0m \u001b[0mDictList\u001b[0m\u001b[0;34m.\u001b[0m\u001b[0mget_by_id\u001b[0m\u001b[0;34m(\u001b[0m\u001b[0mself\u001b[0m\u001b[0;34m,\u001b[0m \u001b[0mattr\u001b[0m\u001b[0;34m)\u001b[0m\u001b[0;34m\u001b[0m\u001b[0m\n\u001b[0m\u001b[1;32m    452\u001b[0m         \u001b[0;32mexcept\u001b[0m \u001b[0mKeyError\u001b[0m\u001b[0;34m:\u001b[0m\u001b[0;34m\u001b[0m\u001b[0m\n",
      "\u001b[0;32m~/anaconda3/envs/vibrio/lib/python3.6/site-packages/cobra/core/dictlist.py\u001b[0m in \u001b[0;36mget_by_id\u001b[0;34m(self, id)\u001b[0m\n\u001b[1;32m     57\u001b[0m         \u001b[0;34m\"\"\"return the element with a matching id\"\"\"\u001b[0m\u001b[0;34m\u001b[0m\u001b[0m\n\u001b[0;32m---> 58\u001b[0;31m         \u001b[0;32mreturn\u001b[0m \u001b[0mlist\u001b[0m\u001b[0;34m.\u001b[0m\u001b[0m__getitem__\u001b[0m\u001b[0;34m(\u001b[0m\u001b[0mself\u001b[0m\u001b[0;34m,\u001b[0m \u001b[0mself\u001b[0m\u001b[0;34m.\u001b[0m\u001b[0m_dict\u001b[0m\u001b[0;34m[\u001b[0m\u001b[0mid\u001b[0m\u001b[0;34m]\u001b[0m\u001b[0;34m)\u001b[0m\u001b[0;34m\u001b[0m\u001b[0m\n\u001b[0m\u001b[1;32m     59\u001b[0m \u001b[0;34m\u001b[0m\u001b[0m\n",
      "\u001b[0;31mKeyError\u001b[0m: 'id'",
      "\nDuring handling of the above exception, another exception occurred:\n",
      "\u001b[0;31mAttributeError\u001b[0m                            Traceback (most recent call last)",
      "\u001b[0;32m<ipython-input-25-4e57b69aa8d5>\u001b[0m in \u001b[0;36m<module>\u001b[0;34m()\u001b[0m\n\u001b[0;32m----> 1\u001b[0;31m \u001b[0mmodel\u001b[0m\u001b[0;34m.\u001b[0m\u001b[0mgenes\u001b[0m\u001b[0;34m.\u001b[0m\u001b[0mid\u001b[0m\u001b[0;34m\u001b[0m\u001b[0m\n\u001b[0m",
      "\u001b[0;32m~/anaconda3/envs/vibrio/lib/python3.6/site-packages/cobra/core/dictlist.py\u001b[0m in \u001b[0;36m__getattr__\u001b[0;34m(self, attr)\u001b[0m\n\u001b[1;32m    452\u001b[0m         \u001b[0;32mexcept\u001b[0m \u001b[0mKeyError\u001b[0m\u001b[0;34m:\u001b[0m\u001b[0;34m\u001b[0m\u001b[0m\n\u001b[1;32m    453\u001b[0m             raise AttributeError(\"DictList has no attribute or entry %s\" %\n\u001b[0;32m--> 454\u001b[0;31m                                  attr)\n\u001b[0m\u001b[1;32m    455\u001b[0m \u001b[0;34m\u001b[0m\u001b[0m\n\u001b[1;32m    456\u001b[0m     \u001b[0;32mdef\u001b[0m \u001b[0m__dir__\u001b[0m\u001b[0;34m(\u001b[0m\u001b[0mself\u001b[0m\u001b[0;34m)\u001b[0m\u001b[0;34m:\u001b[0m\u001b[0;34m\u001b[0m\u001b[0m\n",
      "\u001b[0;31mAttributeError\u001b[0m: DictList has no attribute or entry id"
     ]
    }
   ],
   "source": [
    "model.ge"
   ]
  },
  {
   "cell_type": "code",
   "execution_count": null,
   "metadata": {},
   "outputs": [],
   "source": []
  }
 ],
 "metadata": {
  "kernelspec": {
   "display_name": "Python (vibrio)",
   "language": "python",
   "name": "vibrio"
  },
  "language_info": {
   "codemirror_mode": {
    "name": "ipython",
    "version": 3
   },
   "file_extension": ".py",
   "mimetype": "text/x-python",
   "name": "python",
   "nbconvert_exporter": "python",
   "pygments_lexer": "ipython3",
   "version": "3.6.6"
  }
 },
 "nbformat": 4,
 "nbformat_minor": 2
}
