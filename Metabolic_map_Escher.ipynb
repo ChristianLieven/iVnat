{
 "cells": [
  {
   "cell_type": "code",
   "execution_count": 1,
   "metadata": {},
   "outputs": [],
   "source": [
    "from pandas import read_csv, DataFrame\n",
    "import pandas as pd\n",
    "import os\n",
    "import re #Both patterns and strings to be searched can be Unicode strings as well as 8-bit strings.\n",
    "import math\n",
    "import cobra\n",
    "import cobra.test\n",
    "from __future__ import print_function\n",
    "from os.path import join\n",
    "from cobra.io import write_sbml_model\n",
    "import itertools\n",
    "from IPython.core.interactiveshell import InteractiveShell\n",
    "\n",
    "InteractiveShell.ast_node_interactivity = \"all\""
   ]
  },
  {
   "cell_type": "code",
   "execution_count": 2,
   "metadata": {},
   "outputs": [],
   "source": [
    "import cobra\n",
    "from os.path import join\n",
    "    \n",
    "# Load a cobra model from anywhere you like\n",
    "data_dir = \"/Users/lizrad/Documents/Vibrio_folder/\"\n",
    "model=cobra.io.read_sbml_model(join(data_dir, \"iVnat_newbigg.xml\"))\n",
    "\n"
   ]
  },
  {
   "cell_type": "markdown",
   "metadata": {},
   "source": [
    "### Upload ecoli model and check metabolite and reaction IDs"
   ]
  },
  {
   "cell_type": "code",
   "execution_count": 3,
   "metadata": {},
   "outputs": [
    {
     "data": {
      "text/html": [
       "\n",
       "        <table>\n",
       "            <tr>\n",
       "                <td><strong>Name</strong></td>\n",
       "                <td>iML1515</td>\n",
       "            </tr><tr>\n",
       "                <td><strong>Memory address</strong></td>\n",
       "                <td>0x0113ebd080</td>\n",
       "            </tr><tr>\n",
       "                <td><strong>Number of metabolites</strong></td>\n",
       "                <td>1877</td>\n",
       "            </tr><tr>\n",
       "                <td><strong>Number of reactions</strong></td>\n",
       "                <td>2712</td>\n",
       "            </tr><tr>\n",
       "                <td><strong>Objective expression</strong></td>\n",
       "                <td>-1.0*BIOMASS_Ec_iML1515_core_75p37M_reverse_35685 + 1.0*BIOMASS_Ec_iML1515_core_75p37M</td>\n",
       "            </tr><tr>\n",
       "                <td><strong>Compartments</strong></td>\n",
       "                <td>cytosol, extracellular space, periplasm</td>\n",
       "            </tr>\n",
       "          </table>"
      ],
      "text/plain": [
       "<Model iML1515 at 0x113ebd080>"
      ]
     },
     "execution_count": 3,
     "metadata": {},
     "output_type": "execute_result"
    }
   ],
   "source": [
    "data_dir = \"/Users/lizrad/Documents/Vibrio_folder/\"\n",
    "ecoli_model=cobra.io.read_sbml_model(join(data_dir, \"iML1515.xml\"))\n",
    "ecoli_model"
   ]
  },
  {
   "cell_type": "code",
   "execution_count": null,
   "metadata": {},
   "outputs": [],
   "source": [
    "count=0\n",
    "for e_met in ecoli_model.metabolites:\n",
    "    for met in model.metabolites:\n",
    "        bigg, compartment=e_met.id.rsplit(\"_\", 1)\n",
    "        if bigg in met.annotation.values():\n",
    "            \n",
    "            \n",
    "            print(e_met.id, met.id, met.annotation[\"bigg.metabolite\"])\n",
    "            met.id=bigg+ \"_\"+ met.compartment[0]\n",
    "            print(\"####new ID:\",met.id)\n",
    "            model.repair()\n",
    "            \n",
    "        elif bigg in met.annotation.values() and type(met.annotation[\"bigg.metabolite\"])==list:\n",
    "            print(\"lista\")\n",
    "            count+=1\n",
    "count"
   ]
  },
  {
   "cell_type": "code",
   "execution_count": null,
   "metadata": {},
   "outputs": [],
   "source": [
    "count_r=0\n",
    "for e_reac in ecoli_model.reactions:\n",
    "    for reac in model.reactions:\n",
    "        #bigg, compartment=e_reac.id.rsplit(\"_\", 1)\n",
    "        if e_reac.id in reac.annotation.values():\n",
    "            \n",
    "            \n",
    "            print(e_reac.id, reac.id, reac.annotation[\"bigg.reaction\"])\n",
    "            reac.id=e_reac.id\n",
    "            print(\"####new ID:\",reac.id)\n",
    "            model.repair()\n",
    "            \n",
    "        elif bigg in reac.annotation.values() and type(reac.annotation[\"bigg.reaction\"])==list:\n",
    "            print(\"lista\")\n",
    "            count_r+=1\n",
    "count_r"
   ]
  },
  {
   "cell_type": "code",
   "execution_count": null,
   "metadata": {},
   "outputs": [],
   "source": [
    "#not used\n",
    "for e_met in ecoli_model.metabolites:\n",
    "    for met in model.metabolites:\n",
    "        bigg, compartment=e_met.id.rsplit(\"_\", 1)\n",
    "        if bigg in met.annotation.values():\n",
    "            print(e_met.id, met.id, met.annotation)\n",
    "            met.id=bigg+ \"_\"+ met.compartment[0]\n",
    "            print(\"####new ID:\",met.id)\n",
    "            model.repair()\n"
   ]
  },
  {
   "cell_type": "code",
   "execution_count": null,
   "metadata": {},
   "outputs": [],
   "source": [
    "#not used\n",
    "for e_reac in ecoli_model.reactions:\n",
    "    for reac in model.reactions:\n",
    "        if e_reac.id in reac.annotation.values():\n",
    "            if \"bigg.reaction\" in reac.annotation.keys():\n",
    "                print(e_reac.id, reac.id, reac.annotation)\n",
    "               # print(e_reac.id, reac.annotation.values() )\n",
    "               # for value in reac.annotation.values():\n",
    "                reac.id=e_reac.id\n",
    "                model.repair()\n"
   ]
  },
  {
   "cell_type": "markdown",
   "metadata": {},
   "source": [
    "### Exchange reactions "
   ]
  },
  {
   "cell_type": "code",
   "execution_count": null,
   "metadata": {
    "scrolled": true
   },
   "outputs": [],
   "source": [
    "not_found=[]\n",
    "ex_met_list=[]\n",
    "for ex in model.exchanges:\n",
    "   # if ex.id.startswith(\"EX\"):\n",
    "    pre, seed=ex.id.split(\"_\")\n",
    "    for met in model.metabolites:\n",
    "        if seed in met.annotation.values() and \"bigg.metabolite\" in met.annotation.keys():\n",
    "            try:\n",
    "                if type(met.annotation[\"bigg.metabolite\"]) == list:\n",
    "                    ex_met_list.append(ex)\n",
    "\n",
    "                    for bigg in ecoli_model.metabolites:\n",
    "                        identif, compartment= bigg.id.rsplit(\"_\", 1)\n",
    "                        if identif in met.annotation[\"bigg.metabolite\"]:\n",
    "                            print(\"from list\", identif, met.annotation[\"bigg.metabolite\"])\n",
    "                            ex.id=\"EX_\"+identif+\"_\"+ met.compartment[0]\n",
    "                            print(\"From list:\", ex.id)\n",
    "                            model.repair()\n",
    "                        else:\n",
    "                            not_found.append(ex.id)\n",
    "\n",
    "\n",
    "                else:\n",
    "                    met.annotation[\"bigg.metabolite\"]\n",
    "                    ex.id=\"EX_\"+met.annotation[\"bigg.metabolite\"]+\"_\"+ met.compartment[0]\n",
    "                    model.repair()\n",
    "                    print(ex.id)\n",
    "            except:\n",
    "                pass\n",
    "\n",
    "                \n",
    "\n",
    "                \n",
    "mult_bigg=set(ex_met_list)\n",
    "mult_bigg\n"
   ]
  },
  {
   "cell_type": "code",
   "execution_count": null,
   "metadata": {},
   "outputs": [],
   "source": [
    "#write_sbml_model(model, \"/Users/lizrad/Documents/Vibrio_folder/iVnat_newbigg.xml\")"
   ]
  },
  {
   "cell_type": "code",
   "execution_count": 8,
   "metadata": {},
   "outputs": [],
   "source": [
    "# generate a json file to load into Escher\n",
    "cobra.io.save_json_model(model, 'iVnat_newbigg.json')\n"
   ]
  },
  {
   "cell_type": "code",
   "execution_count": 9,
   "metadata": {},
   "outputs": [
    {
     "name": "stdout",
     "output_type": "stream",
     "text": [
      "\n",
      "Note: You must interrupt the kernel to end this command\n",
      "\n",
      "Serving to http://127.0.0.1:7655/\n",
      "[Ctrl-C to exit from terminal, or Ctrl-M i i to interrupt notebook kernel]\n"
     ]
    },
    {
     "name": "stderr",
     "output_type": "stream",
     "text": [
      "127.0.0.1 - - [11/Sep/2018 14:14:21] \"GET / HTTP/1.1\" 200 -\n"
     ]
    },
    {
     "name": "stdout",
     "output_type": "stream",
     "text": [
      "\n",
      "stopping Server...\n"
     ]
    }
   ],
   "source": [
    "from escher import Builder\n",
    "b = Builder(map_name='e_coli_core.Core metabolism')\n",
    "b.display_in_browser()"
   ]
  },
  {
   "cell_type": "code",
   "execution_count": null,
   "metadata": {},
   "outputs": [],
   "source": [
    "maps = Builder(model=model, map_name=\"iJO1366.Central metabolism\")\n",
    "\n",
    "maps.display_in_browser()"
   ]
  },
  {
   "cell_type": "code",
   "execution_count": null,
   "metadata": {},
   "outputs": [],
   "source": [
    "maps = Builder(model=model, map_name=\"iJO1366.Central metabolism\")\n",
    "\n",
    "maps.display_in_browser()\n",
    "\n"
   ]
  },
  {
   "cell_type": "code",
   "execution_count": null,
   "metadata": {},
   "outputs": [],
   "source": [
    "for x in model.metabolites.fdp_c.reactions:\n",
    "    print(x.reaction, x.name, x.id)"
   ]
  },
  {
   "cell_type": "code",
   "execution_count": null,
   "metadata": {},
   "outputs": [],
   "source": [
    "model.reactions.MNXR106666.annotation"
   ]
  },
  {
   "cell_type": "code",
   "execution_count": null,
   "metadata": {},
   "outputs": [],
   "source": [
    "count=0\n",
    "count_list=0\n",
    "for met in model.metabolites:\n",
    "    if \"chebi\" in met.annotation.keys():\n",
    "        print(met.id, met.annotation[\"chebi\"])\n",
    "        count+=1\n",
    "        if type(met.annotation[\"chebi\"])==list:\n",
    "            count_list+=1\n",
    "            \n",
    "count\n",
    "len(model.metabolites)\n",
    "count_list"
   ]
  },
  {
   "cell_type": "code",
   "execution_count": null,
   "metadata": {},
   "outputs": [],
   "source": [
    "rcount=0\n",
    "rcount_list=0\n",
    "for reac in model.reactions:\n",
    "    if \"chebi\" in reac.annotation.keys():\n",
    "        print(reac.id, reac.annotation[\"chebi\"])\n",
    "        rcount+=1\n",
    "        if type(reac.annotation[\"chebi\"])==list:\n",
    "            rcount_list+=1\n",
    "            \n",
    "rcount\n",
    "len(model.reactions)\n",
    "rcount_list"
   ]
  },
  {
   "cell_type": "code",
   "execution_count": null,
   "metadata": {},
   "outputs": [],
   "source": [
    "\n",
    "model.metabolites.C3_c.annotation"
   ]
  },
  {
   "cell_type": "code",
   "execution_count": null,
   "metadata": {},
   "outputs": [],
   "source": [
    "modelseed = read_csv(\"/Users/lizrad/Documents/Vibrio_folder/compound_aliases_modelseed.tsv\" , sep='\\t' , low_memory=False)\n",
    "modelseed"
   ]
  },
  {
   "cell_type": "code",
   "execution_count": null,
   "metadata": {},
   "outputs": [],
   "source": [
    "import numpy as np\n",
    "df_seed = modelseed.loc[36463:39317, \"MS ID\":'External ID']\n",
    "pivoted_seed = df_seed.pivot_table( columns='MS ID',values='External ID', aggfunc=list)\n",
    "\n",
    "pivoted_seed\n",
    "modelseed_met_dict = pivoted_seed.to_dict('index')\n",
    "modelseed_met_dict2 = modelseed_met_dict['External ID']\n",
    "modelseed_met_dict2\n",
    "modelseed_met_dict2[\"cpd00013\"]\n"
   ]
  },
  {
   "cell_type": "code",
   "execution_count": 4,
   "metadata": {},
   "outputs": [
    {
     "data": {
      "text/html": [
       "<div>\n",
       "<style scoped>\n",
       "    .dataframe tbody tr th:only-of-type {\n",
       "        vertical-align: middle;\n",
       "    }\n",
       "\n",
       "    .dataframe tbody tr th {\n",
       "        vertical-align: top;\n",
       "    }\n",
       "\n",
       "    .dataframe thead th {\n",
       "        text-align: right;\n",
       "    }\n",
       "</style>\n",
       "<table border=\"1\" class=\"dataframe\">\n",
       "  <thead>\n",
       "    <tr style=\"text-align: right;\">\n",
       "      <th></th>\n",
       "      <th>MS ID</th>\n",
       "      <th>Old MS ID</th>\n",
       "      <th>External ID</th>\n",
       "      <th>Source</th>\n",
       "    </tr>\n",
       "  </thead>\n",
       "  <tbody>\n",
       "    <tr>\n",
       "      <th>0</th>\n",
       "      <td>rxn07912</td>\n",
       "      <td>rxn07912</td>\n",
       "      <td>12DGR120tipp</td>\n",
       "      <td>BiGG</td>\n",
       "    </tr>\n",
       "    <tr>\n",
       "      <th>1</th>\n",
       "      <td>rxn07913</td>\n",
       "      <td>rxn07913</td>\n",
       "      <td>12DGR140tipp</td>\n",
       "      <td>BiGG</td>\n",
       "    </tr>\n",
       "    <tr>\n",
       "      <th>2</th>\n",
       "      <td>rxn07914</td>\n",
       "      <td>rxn07914</td>\n",
       "      <td>12DGR141tipp</td>\n",
       "      <td>BiGG</td>\n",
       "    </tr>\n",
       "    <tr>\n",
       "      <th>3</th>\n",
       "      <td>rxn07915</td>\n",
       "      <td>rxn07915</td>\n",
       "      <td>12DGR160tipp</td>\n",
       "      <td>BiGG</td>\n",
       "    </tr>\n",
       "    <tr>\n",
       "      <th>4</th>\n",
       "      <td>rxn07916</td>\n",
       "      <td>rxn07916</td>\n",
       "      <td>12DGR161tipp</td>\n",
       "      <td>BiGG</td>\n",
       "    </tr>\n",
       "    <tr>\n",
       "      <th>5</th>\n",
       "      <td>rxn07917</td>\n",
       "      <td>rxn07917</td>\n",
       "      <td>12DGR180tipp</td>\n",
       "      <td>BiGG</td>\n",
       "    </tr>\n",
       "    <tr>\n",
       "      <th>6</th>\n",
       "      <td>rxn07918</td>\n",
       "      <td>rxn07918</td>\n",
       "      <td>12DGR181tipp</td>\n",
       "      <td>BiGG</td>\n",
       "    </tr>\n",
       "    <tr>\n",
       "      <th>7</th>\n",
       "      <td>rxn07919</td>\n",
       "      <td>rxn07919</td>\n",
       "      <td>12PPDRtex</td>\n",
       "      <td>BiGG</td>\n",
       "    </tr>\n",
       "    <tr>\n",
       "      <th>8</th>\n",
       "      <td>rxn07920</td>\n",
       "      <td>rxn07920</td>\n",
       "      <td>12PPDRtpp</td>\n",
       "      <td>BiGG</td>\n",
       "    </tr>\n",
       "    <tr>\n",
       "      <th>9</th>\n",
       "      <td>rxn07921</td>\n",
       "      <td>rxn07921</td>\n",
       "      <td>12PPDStex</td>\n",
       "      <td>BiGG</td>\n",
       "    </tr>\n",
       "    <tr>\n",
       "      <th>10</th>\n",
       "      <td>rxn07922</td>\n",
       "      <td>rxn07922</td>\n",
       "      <td>12PPDStpp</td>\n",
       "      <td>BiGG</td>\n",
       "    </tr>\n",
       "    <tr>\n",
       "      <th>11</th>\n",
       "      <td>rxn10140</td>\n",
       "      <td>rxn10140</td>\n",
       "      <td>12PPDt</td>\n",
       "      <td>BiGG</td>\n",
       "    </tr>\n",
       "    <tr>\n",
       "      <th>12</th>\n",
       "      <td>rxn09611</td>\n",
       "      <td>rxn09611</td>\n",
       "      <td>13BGH</td>\n",
       "      <td>BiGG</td>\n",
       "    </tr>\n",
       "    <tr>\n",
       "      <th>13</th>\n",
       "      <td>rxn39070</td>\n",
       "      <td>rxn09611</td>\n",
       "      <td>13BGHe</td>\n",
       "      <td>BiGG</td>\n",
       "    </tr>\n",
       "    <tr>\n",
       "      <th>14</th>\n",
       "      <td>rxn09400</td>\n",
       "      <td>rxn09400</td>\n",
       "      <td>13GS</td>\n",
       "      <td>BiGG</td>\n",
       "    </tr>\n",
       "    <tr>\n",
       "      <th>15</th>\n",
       "      <td>rxn07923</td>\n",
       "      <td>rxn07923</td>\n",
       "      <td>14GLUCANabcpp</td>\n",
       "      <td>BiGG</td>\n",
       "    </tr>\n",
       "    <tr>\n",
       "      <th>16</th>\n",
       "      <td>rxn07924</td>\n",
       "      <td>rxn07924</td>\n",
       "      <td>14GLUCANtexi</td>\n",
       "      <td>BiGG</td>\n",
       "    </tr>\n",
       "    <tr>\n",
       "      <th>17</th>\n",
       "      <td>rxn13184</td>\n",
       "      <td>rxn13184</td>\n",
       "      <td>16GS</td>\n",
       "      <td>BiGG</td>\n",
       "    </tr>\n",
       "    <tr>\n",
       "      <th>18</th>\n",
       "      <td>rxn01579</td>\n",
       "      <td>NaN</td>\n",
       "      <td>1PPDCRc</td>\n",
       "      <td>BiGG</td>\n",
       "    </tr>\n",
       "    <tr>\n",
       "      <th>19</th>\n",
       "      <td>rxn07925</td>\n",
       "      <td>rxn07925</td>\n",
       "      <td>23CAMPtex</td>\n",
       "      <td>BiGG</td>\n",
       "    </tr>\n",
       "    <tr>\n",
       "      <th>20</th>\n",
       "      <td>rxn13185</td>\n",
       "      <td>rxn13185</td>\n",
       "      <td>23CAPPD</td>\n",
       "      <td>BiGG</td>\n",
       "    </tr>\n",
       "    <tr>\n",
       "      <th>21</th>\n",
       "      <td>rxn07926</td>\n",
       "      <td>rxn07926</td>\n",
       "      <td>23CCMPtex</td>\n",
       "      <td>BiGG</td>\n",
       "    </tr>\n",
       "    <tr>\n",
       "      <th>22</th>\n",
       "      <td>rxn07927</td>\n",
       "      <td>rxn07927</td>\n",
       "      <td>23CGMPtex</td>\n",
       "      <td>BiGG</td>\n",
       "    </tr>\n",
       "    <tr>\n",
       "      <th>23</th>\n",
       "      <td>rxn02521</td>\n",
       "      <td>NaN</td>\n",
       "      <td>23CN2P1</td>\n",
       "      <td>BiGG</td>\n",
       "    </tr>\n",
       "    <tr>\n",
       "      <th>24</th>\n",
       "      <td>rxn02522</td>\n",
       "      <td>NaN</td>\n",
       "      <td>23CN2P2</td>\n",
       "      <td>BiGG</td>\n",
       "    </tr>\n",
       "    <tr>\n",
       "      <th>25</th>\n",
       "      <td>rxn02762</td>\n",
       "      <td>NaN</td>\n",
       "      <td>23CN2P3</td>\n",
       "      <td>BiGG</td>\n",
       "    </tr>\n",
       "    <tr>\n",
       "      <th>26</th>\n",
       "      <td>rxn03483</td>\n",
       "      <td>NaN</td>\n",
       "      <td>23CN2P4</td>\n",
       "      <td>BiGG</td>\n",
       "    </tr>\n",
       "    <tr>\n",
       "      <th>27</th>\n",
       "      <td>rxn07928</td>\n",
       "      <td>rxn07928</td>\n",
       "      <td>23CUMPtex</td>\n",
       "      <td>BiGG</td>\n",
       "    </tr>\n",
       "    <tr>\n",
       "      <th>28</th>\n",
       "      <td>rxn07929</td>\n",
       "      <td>rxn07929</td>\n",
       "      <td>23DAPPAt2pp</td>\n",
       "      <td>BiGG</td>\n",
       "    </tr>\n",
       "    <tr>\n",
       "      <th>29</th>\n",
       "      <td>rxn07930</td>\n",
       "      <td>rxn07930</td>\n",
       "      <td>23DAPPAtex</td>\n",
       "      <td>BiGG</td>\n",
       "    </tr>\n",
       "    <tr>\n",
       "      <th>...</th>\n",
       "      <td>...</td>\n",
       "      <td>...</td>\n",
       "      <td>...</td>\n",
       "      <td>...</td>\n",
       "    </tr>\n",
       "    <tr>\n",
       "      <th>53477</th>\n",
       "      <td>rxn27418</td>\n",
       "      <td>NaN</td>\n",
       "      <td>UGD-RXN.c</td>\n",
       "      <td>PlantCyc</td>\n",
       "    </tr>\n",
       "    <tr>\n",
       "      <th>53478</th>\n",
       "      <td>rxn00211</td>\n",
       "      <td>NaN</td>\n",
       "      <td>UGD-RXN.c.plantexp.CPD-12575</td>\n",
       "      <td>PlantCyc</td>\n",
       "    </tr>\n",
       "    <tr>\n",
       "      <th>53479</th>\n",
       "      <td>rxn00119</td>\n",
       "      <td>NaN</td>\n",
       "      <td>UMPKI-RXN.c</td>\n",
       "      <td>PlantCyc</td>\n",
       "    </tr>\n",
       "    <tr>\n",
       "      <th>53480</th>\n",
       "      <td>rxn17638</td>\n",
       "      <td>NaN</td>\n",
       "      <td>UPPSYN-RXN.c</td>\n",
       "      <td>PlantCyc</td>\n",
       "    </tr>\n",
       "    <tr>\n",
       "      <th>53481</th>\n",
       "      <td>rxn00711</td>\n",
       "      <td>NaN</td>\n",
       "      <td>URACIL-PRIBOSYLTRANS-RXN.c</td>\n",
       "      <td>PlantCyc</td>\n",
       "    </tr>\n",
       "    <tr>\n",
       "      <th>53482</th>\n",
       "      <td>rxn29942</td>\n",
       "      <td>NaN</td>\n",
       "      <td>URACIL-PRIBOSYLTRANS-RXN.d</td>\n",
       "      <td>PlantCyc</td>\n",
       "    </tr>\n",
       "    <tr>\n",
       "      <th>53483</th>\n",
       "      <td>rxn01523</td>\n",
       "      <td>NaN</td>\n",
       "      <td>URATE-OXIDASE-RXN.c</td>\n",
       "      <td>PlantCyc</td>\n",
       "    </tr>\n",
       "    <tr>\n",
       "      <th>53484</th>\n",
       "      <td>rxn12897</td>\n",
       "      <td>NaN</td>\n",
       "      <td>UREA-CARBOXYLASE-RXN.c</td>\n",
       "      <td>PlantCyc</td>\n",
       "    </tr>\n",
       "    <tr>\n",
       "      <th>53485</th>\n",
       "      <td>rxn00101</td>\n",
       "      <td>NaN</td>\n",
       "      <td>UREASE-RXN.c</td>\n",
       "      <td>PlantCyc</td>\n",
       "    </tr>\n",
       "    <tr>\n",
       "      <th>53486</th>\n",
       "      <td>rxn00327</td>\n",
       "      <td>NaN</td>\n",
       "      <td>UREIDOGLYCOLATE-HYDROLASE-RXN.c</td>\n",
       "      <td>PlantCyc</td>\n",
       "    </tr>\n",
       "    <tr>\n",
       "      <th>53487</th>\n",
       "      <td>rxn00562</td>\n",
       "      <td>NaN</td>\n",
       "      <td>UREIDOGLYCOLATE-LYASE-RXN.c</td>\n",
       "      <td>PlantCyc</td>\n",
       "    </tr>\n",
       "    <tr>\n",
       "      <th>53488</th>\n",
       "      <td>rxn27430</td>\n",
       "      <td>NaN</td>\n",
       "      <td>URIDINE-NUCLEOSIDASE-RXN.c</td>\n",
       "      <td>PlantCyc</td>\n",
       "    </tr>\n",
       "    <tr>\n",
       "      <th>53489</th>\n",
       "      <td>rxn15118</td>\n",
       "      <td>NaN</td>\n",
       "      <td>URIDINE-NUCLEOSIDASE-RXN.c.plantexp.CPD0-1108</td>\n",
       "      <td>PlantCyc</td>\n",
       "    </tr>\n",
       "    <tr>\n",
       "      <th>53490</th>\n",
       "      <td>rxn00713</td>\n",
       "      <td>NaN</td>\n",
       "      <td>URKI-RXN.c</td>\n",
       "      <td>PlantCyc</td>\n",
       "    </tr>\n",
       "    <tr>\n",
       "      <th>53491</th>\n",
       "      <td>rxn02288</td>\n",
       "      <td>NaN</td>\n",
       "      <td>UROGENDECARBOX-RXN.c</td>\n",
       "      <td>PlantCyc</td>\n",
       "    </tr>\n",
       "    <tr>\n",
       "      <th>53492</th>\n",
       "      <td>rxn02264</td>\n",
       "      <td>NaN</td>\n",
       "      <td>UROGENIIISYN-RXN.c</td>\n",
       "      <td>PlantCyc</td>\n",
       "    </tr>\n",
       "    <tr>\n",
       "      <th>53493</th>\n",
       "      <td>rxn05005</td>\n",
       "      <td>NaN</td>\n",
       "      <td>UROPORIIIMETHYLTRANSA-RXN.c</td>\n",
       "      <td>PlantCyc</td>\n",
       "    </tr>\n",
       "    <tr>\n",
       "      <th>53494</th>\n",
       "      <td>rxn01366</td>\n",
       "      <td>NaN</td>\n",
       "      <td>URPHOS-RXN.c</td>\n",
       "      <td>PlantCyc</td>\n",
       "    </tr>\n",
       "    <tr>\n",
       "      <th>53495</th>\n",
       "      <td>rxn03842</td>\n",
       "      <td>NaN</td>\n",
       "      <td>URUR-RXN.c</td>\n",
       "      <td>PlantCyc</td>\n",
       "    </tr>\n",
       "    <tr>\n",
       "      <th>53496</th>\n",
       "      <td>rxn00355</td>\n",
       "      <td>NaN</td>\n",
       "      <td>UTPHEXPURIDYLYLTRANS-RXN.c</td>\n",
       "      <td>PlantCyc</td>\n",
       "    </tr>\n",
       "    <tr>\n",
       "      <th>53497</th>\n",
       "      <td>rxn27438</td>\n",
       "      <td>NaN</td>\n",
       "      <td>VALINE--TRNA-LIGASE-RXN.c</td>\n",
       "      <td>PlantCyc</td>\n",
       "    </tr>\n",
       "    <tr>\n",
       "      <th>53498</th>\n",
       "      <td>rxn27442</td>\n",
       "      <td>NaN</td>\n",
       "      <td>VITEXIN-BETA-GLUCOSYLTRANSFERASE-RXN.c</td>\n",
       "      <td>PlantCyc</td>\n",
       "    </tr>\n",
       "    <tr>\n",
       "      <th>53499</th>\n",
       "      <td>rxn02544</td>\n",
       "      <td>NaN</td>\n",
       "      <td>VITEXIN-BETA-GLUCOSYLTRANSFERASE-RXN.c.plantex...</td>\n",
       "      <td>PlantCyc</td>\n",
       "    </tr>\n",
       "    <tr>\n",
       "      <th>53500</th>\n",
       "      <td>rxn01544</td>\n",
       "      <td>NaN</td>\n",
       "      <td>XANPRIBOSYLTRAN-RXN.c</td>\n",
       "      <td>PlantCyc</td>\n",
       "    </tr>\n",
       "    <tr>\n",
       "      <th>53501</th>\n",
       "      <td>rxn01649</td>\n",
       "      <td>NaN</td>\n",
       "      <td>XANTHOSINEPHOSPHORY-RXN.c</td>\n",
       "      <td>PlantCyc</td>\n",
       "    </tr>\n",
       "    <tr>\n",
       "      <th>53502</th>\n",
       "      <td>rxn01961</td>\n",
       "      <td>NaN</td>\n",
       "      <td>XMPXAN-RXN.c</td>\n",
       "      <td>PlantCyc</td>\n",
       "    </tr>\n",
       "    <tr>\n",
       "      <th>53503</th>\n",
       "      <td>rxn27445</td>\n",
       "      <td>NaN</td>\n",
       "      <td>XYLISOM-RXN.c</td>\n",
       "      <td>PlantCyc</td>\n",
       "    </tr>\n",
       "    <tr>\n",
       "      <th>53504</th>\n",
       "      <td>rxn15192</td>\n",
       "      <td>NaN</td>\n",
       "      <td>XYLISOM-RXN.c.plantexp.BETA-D-XYLOSE</td>\n",
       "      <td>PlantCyc</td>\n",
       "    </tr>\n",
       "    <tr>\n",
       "      <th>53505</th>\n",
       "      <td>rxn15191</td>\n",
       "      <td>NaN</td>\n",
       "      <td>XYLISOM-RXN.c.plantexp.XYLOSE</td>\n",
       "      <td>PlantCyc</td>\n",
       "    </tr>\n",
       "    <tr>\n",
       "      <th>53506</th>\n",
       "      <td>rxn01199</td>\n",
       "      <td>NaN</td>\n",
       "      <td>XYLULOKIN-RXN.c</td>\n",
       "      <td>PlantCyc</td>\n",
       "    </tr>\n",
       "  </tbody>\n",
       "</table>\n",
       "<p>53507 rows × 4 columns</p>\n",
       "</div>"
      ],
      "text/plain": [
       "          MS ID Old MS ID                                        External ID  \\\n",
       "0      rxn07912  rxn07912                                       12DGR120tipp   \n",
       "1      rxn07913  rxn07913                                       12DGR140tipp   \n",
       "2      rxn07914  rxn07914                                       12DGR141tipp   \n",
       "3      rxn07915  rxn07915                                       12DGR160tipp   \n",
       "4      rxn07916  rxn07916                                       12DGR161tipp   \n",
       "5      rxn07917  rxn07917                                       12DGR180tipp   \n",
       "6      rxn07918  rxn07918                                       12DGR181tipp   \n",
       "7      rxn07919  rxn07919                                          12PPDRtex   \n",
       "8      rxn07920  rxn07920                                          12PPDRtpp   \n",
       "9      rxn07921  rxn07921                                          12PPDStex   \n",
       "10     rxn07922  rxn07922                                          12PPDStpp   \n",
       "11     rxn10140  rxn10140                                             12PPDt   \n",
       "12     rxn09611  rxn09611                                              13BGH   \n",
       "13     rxn39070  rxn09611                                             13BGHe   \n",
       "14     rxn09400  rxn09400                                               13GS   \n",
       "15     rxn07923  rxn07923                                      14GLUCANabcpp   \n",
       "16     rxn07924  rxn07924                                       14GLUCANtexi   \n",
       "17     rxn13184  rxn13184                                               16GS   \n",
       "18     rxn01579       NaN                                            1PPDCRc   \n",
       "19     rxn07925  rxn07925                                          23CAMPtex   \n",
       "20     rxn13185  rxn13185                                            23CAPPD   \n",
       "21     rxn07926  rxn07926                                          23CCMPtex   \n",
       "22     rxn07927  rxn07927                                          23CGMPtex   \n",
       "23     rxn02521       NaN                                            23CN2P1   \n",
       "24     rxn02522       NaN                                            23CN2P2   \n",
       "25     rxn02762       NaN                                            23CN2P3   \n",
       "26     rxn03483       NaN                                            23CN2P4   \n",
       "27     rxn07928  rxn07928                                          23CUMPtex   \n",
       "28     rxn07929  rxn07929                                        23DAPPAt2pp   \n",
       "29     rxn07930  rxn07930                                         23DAPPAtex   \n",
       "...         ...       ...                                                ...   \n",
       "53477  rxn27418       NaN                                          UGD-RXN.c   \n",
       "53478  rxn00211       NaN                       UGD-RXN.c.plantexp.CPD-12575   \n",
       "53479  rxn00119       NaN                                        UMPKI-RXN.c   \n",
       "53480  rxn17638       NaN                                       UPPSYN-RXN.c   \n",
       "53481  rxn00711       NaN                         URACIL-PRIBOSYLTRANS-RXN.c   \n",
       "53482  rxn29942       NaN                         URACIL-PRIBOSYLTRANS-RXN.d   \n",
       "53483  rxn01523       NaN                                URATE-OXIDASE-RXN.c   \n",
       "53484  rxn12897       NaN                             UREA-CARBOXYLASE-RXN.c   \n",
       "53485  rxn00101       NaN                                       UREASE-RXN.c   \n",
       "53486  rxn00327       NaN                    UREIDOGLYCOLATE-HYDROLASE-RXN.c   \n",
       "53487  rxn00562       NaN                        UREIDOGLYCOLATE-LYASE-RXN.c   \n",
       "53488  rxn27430       NaN                         URIDINE-NUCLEOSIDASE-RXN.c   \n",
       "53489  rxn15118       NaN      URIDINE-NUCLEOSIDASE-RXN.c.plantexp.CPD0-1108   \n",
       "53490  rxn00713       NaN                                         URKI-RXN.c   \n",
       "53491  rxn02288       NaN                               UROGENDECARBOX-RXN.c   \n",
       "53492  rxn02264       NaN                                 UROGENIIISYN-RXN.c   \n",
       "53493  rxn05005       NaN                        UROPORIIIMETHYLTRANSA-RXN.c   \n",
       "53494  rxn01366       NaN                                       URPHOS-RXN.c   \n",
       "53495  rxn03842       NaN                                         URUR-RXN.c   \n",
       "53496  rxn00355       NaN                         UTPHEXPURIDYLYLTRANS-RXN.c   \n",
       "53497  rxn27438       NaN                          VALINE--TRNA-LIGASE-RXN.c   \n",
       "53498  rxn27442       NaN             VITEXIN-BETA-GLUCOSYLTRANSFERASE-RXN.c   \n",
       "53499  rxn02544       NaN  VITEXIN-BETA-GLUCOSYLTRANSFERASE-RXN.c.plantex...   \n",
       "53500  rxn01544       NaN                              XANPRIBOSYLTRAN-RXN.c   \n",
       "53501  rxn01649       NaN                          XANTHOSINEPHOSPHORY-RXN.c   \n",
       "53502  rxn01961       NaN                                       XMPXAN-RXN.c   \n",
       "53503  rxn27445       NaN                                      XYLISOM-RXN.c   \n",
       "53504  rxn15192       NaN               XYLISOM-RXN.c.plantexp.BETA-D-XYLOSE   \n",
       "53505  rxn15191       NaN                      XYLISOM-RXN.c.plantexp.XYLOSE   \n",
       "53506  rxn01199       NaN                                    XYLULOKIN-RXN.c   \n",
       "\n",
       "         Source  \n",
       "0          BiGG  \n",
       "1          BiGG  \n",
       "2          BiGG  \n",
       "3          BiGG  \n",
       "4          BiGG  \n",
       "5          BiGG  \n",
       "6          BiGG  \n",
       "7          BiGG  \n",
       "8          BiGG  \n",
       "9          BiGG  \n",
       "10         BiGG  \n",
       "11         BiGG  \n",
       "12         BiGG  \n",
       "13         BiGG  \n",
       "14         BiGG  \n",
       "15         BiGG  \n",
       "16         BiGG  \n",
       "17         BiGG  \n",
       "18         BiGG  \n",
       "19         BiGG  \n",
       "20         BiGG  \n",
       "21         BiGG  \n",
       "22         BiGG  \n",
       "23         BiGG  \n",
       "24         BiGG  \n",
       "25         BiGG  \n",
       "26         BiGG  \n",
       "27         BiGG  \n",
       "28         BiGG  \n",
       "29         BiGG  \n",
       "...         ...  \n",
       "53477  PlantCyc  \n",
       "53478  PlantCyc  \n",
       "53479  PlantCyc  \n",
       "53480  PlantCyc  \n",
       "53481  PlantCyc  \n",
       "53482  PlantCyc  \n",
       "53483  PlantCyc  \n",
       "53484  PlantCyc  \n",
       "53485  PlantCyc  \n",
       "53486  PlantCyc  \n",
       "53487  PlantCyc  \n",
       "53488  PlantCyc  \n",
       "53489  PlantCyc  \n",
       "53490  PlantCyc  \n",
       "53491  PlantCyc  \n",
       "53492  PlantCyc  \n",
       "53493  PlantCyc  \n",
       "53494  PlantCyc  \n",
       "53495  PlantCyc  \n",
       "53496  PlantCyc  \n",
       "53497  PlantCyc  \n",
       "53498  PlantCyc  \n",
       "53499  PlantCyc  \n",
       "53500  PlantCyc  \n",
       "53501  PlantCyc  \n",
       "53502  PlantCyc  \n",
       "53503  PlantCyc  \n",
       "53504  PlantCyc  \n",
       "53505  PlantCyc  \n",
       "53506  PlantCyc  \n",
       "\n",
       "[53507 rows x 4 columns]"
      ]
     },
     "execution_count": 4,
     "metadata": {},
     "output_type": "execute_result"
    }
   ],
   "source": [
    "modelseed_reac = read_csv(\"/Users/lizrad/Documents/Vibrio_folder/reaction_aliases_modelseed.tsv\" , sep='\\t' , low_memory=False)\n",
    "modelseed_reac"
   ]
  },
  {
   "cell_type": "code",
   "execution_count": 5,
   "metadata": {},
   "outputs": [
    {
     "data": {
      "text/html": [
       "<div>\n",
       "<style scoped>\n",
       "    .dataframe tbody tr th:only-of-type {\n",
       "        vertical-align: middle;\n",
       "    }\n",
       "\n",
       "    .dataframe tbody tr th {\n",
       "        vertical-align: top;\n",
       "    }\n",
       "\n",
       "    .dataframe thead th {\n",
       "        text-align: right;\n",
       "    }\n",
       "</style>\n",
       "<table border=\"1\" class=\"dataframe\">\n",
       "  <thead>\n",
       "    <tr style=\"text-align: right;\">\n",
       "      <th>MS ID</th>\n",
       "      <th>rxn00001</th>\n",
       "      <th>rxn00002</th>\n",
       "      <th>rxn00006</th>\n",
       "      <th>rxn00007</th>\n",
       "      <th>rxn00010</th>\n",
       "      <th>rxn00014</th>\n",
       "      <th>rxn00016</th>\n",
       "      <th>rxn00018</th>\n",
       "      <th>rxn00029</th>\n",
       "      <th>rxn00044</th>\n",
       "      <th>...</th>\n",
       "      <th>rxn39083</th>\n",
       "      <th>rxn39084</th>\n",
       "      <th>rxn39085</th>\n",
       "      <th>rxn39086</th>\n",
       "      <th>rxn39087</th>\n",
       "      <th>rxn39088</th>\n",
       "      <th>rxn39089</th>\n",
       "      <th>rxn39090</th>\n",
       "      <th>rxn39091</th>\n",
       "      <th>rxn39092</th>\n",
       "    </tr>\n",
       "  </thead>\n",
       "  <tbody>\n",
       "    <tr>\n",
       "      <th>External ID</th>\n",
       "      <td>[IPP1, PPA, PPA_1]</td>\n",
       "      <td>[DUR1_2]</td>\n",
       "      <td>[CAT, CTA1, CTT1]</td>\n",
       "      <td>[ATH1, NTH1, NTH2, TREH]</td>\n",
       "      <td>[GLXCBL, GLXCL]</td>\n",
       "      <td>[CCP, CYCPO]</td>\n",
       "      <td>[HXAD]</td>\n",
       "      <td>[RBPC]</td>\n",
       "      <td>[HEM2, PPBNGS]</td>\n",
       "      <td>[AHXDH]</td>\n",
       "      <td>...</td>\n",
       "      <td>[G16MTg]</td>\n",
       "      <td>[GCC2bim]</td>\n",
       "      <td>[NH4tm]</td>\n",
       "      <td>[NTRLASE2]</td>\n",
       "      <td>[PIN4Kn_SC]</td>\n",
       "      <td>[PSERDv_SC]</td>\n",
       "      <td>[PSERSm_SC]</td>\n",
       "      <td>[SBPP2er]</td>\n",
       "      <td>[THMDPe]</td>\n",
       "      <td>[SO3De]</td>\n",
       "    </tr>\n",
       "  </tbody>\n",
       "</table>\n",
       "<p>1 rows × 5134 columns</p>\n",
       "</div>"
      ],
      "text/plain": [
       "MS ID                  rxn00001  rxn00002           rxn00006  \\\n",
       "External ID  [IPP1, PPA, PPA_1]  [DUR1_2]  [CAT, CTA1, CTT1]   \n",
       "\n",
       "MS ID                        rxn00007         rxn00010      rxn00014 rxn00016  \\\n",
       "External ID  [ATH1, NTH1, NTH2, TREH]  [GLXCBL, GLXCL]  [CCP, CYCPO]   [HXAD]   \n",
       "\n",
       "MS ID       rxn00018        rxn00029 rxn00044   ...     rxn39083   rxn39084  \\\n",
       "External ID   [RBPC]  [HEM2, PPBNGS]  [AHXDH]   ...     [G16MTg]  [GCC2bim]   \n",
       "\n",
       "MS ID       rxn39085    rxn39086     rxn39087     rxn39088     rxn39089  \\\n",
       "External ID  [NH4tm]  [NTRLASE2]  [PIN4Kn_SC]  [PSERDv_SC]  [PSERSm_SC]   \n",
       "\n",
       "MS ID         rxn39090  rxn39091 rxn39092  \n",
       "External ID  [SBPP2er]  [THMDPe]  [SO3De]  \n",
       "\n",
       "[1 rows x 5134 columns]"
      ]
     },
     "execution_count": 5,
     "metadata": {},
     "output_type": "execute_result"
    },
    {
     "data": {
      "text/plain": [
       "{'rxn00001': ['IPP1', 'PPA', 'PPA_1'],\n",
       " 'rxn00002': ['DUR1_2'],\n",
       " 'rxn00006': ['CAT', 'CTA1', 'CTT1'],\n",
       " 'rxn00007': ['ATH1', 'NTH1', 'NTH2', 'TREH'],\n",
       " 'rxn00010': ['GLXCBL', 'GLXCL'],\n",
       " 'rxn00014': ['CCP', 'CYCPO'],\n",
       " 'rxn00016': ['HXAD'],\n",
       " 'rxn00018': ['RBPC'],\n",
       " 'rxn00029': ['HEM2', 'PPBNGS'],\n",
       " 'rxn00044': ['AHXDH'],\n",
       " 'rxn00060': ['HEM3'],\n",
       " 'rxn00061': ['ATPH1'],\n",
       " 'rxn00062': ['ATPM', 'ATPOBJ', 'NTP1'],\n",
       " 'rxn00063': ['NTPP6'],\n",
       " 'rxn00065': ['ADNCYC', 'CYR1'],\n",
       " 'rxn00069': ['GLT1', 'GLUSx'],\n",
       " 'rxn00075': ['NADNm'],\n",
       " 'rxn00076': ['NADDP', 'NADDPe'],\n",
       " 'rxn00077': ['NADK', 'POS5_1', 'UTR1_1', 'YEL041W_1'],\n",
       " 'rxn00083': ['NADTRHD', 'TEST_NADTRHD', 'THD1', 'THD5'],\n",
       " 'rxn00085': ['GLUSy'],\n",
       " 'rxn00086': ['GLR1', 'GTHO', 'GTHOr', 'GTHRD'],\n",
       " 'rxn00088': ['NADPPPS', 'U101'],\n",
       " 'rxn00092': ['NDP1'],\n",
       " 'rxn00095': ['AP4AH', 'AP4AHr'],\n",
       " 'rxn00096': ['APA2', 'ATPATF1'],\n",
       " 'rxn00097': ['ADK1', 'ADK1_1'],\n",
       " 'rxn00100': ['DPCOAK', 'U96'],\n",
       " 'rxn00101': ['UREA2'],\n",
       " 'rxn00102': ['H2CO3D', 'HCO3E'],\n",
       " 'rxn00104': ['PPIK', 'PPK2', 'PPK2r'],\n",
       " 'rxn00105': ['NMNAT', 'NMNATr'],\n",
       " 'rxn00106': ['PPA2'],\n",
       " 'rxn00116': ['NDP7'],\n",
       " 'rxn00117': ['NDPK2', 'YNK1_1'],\n",
       " 'rxn00119': ['UMPK', 'UMPKURIDK1', 'URA6_1', 'URA6_2', 'URIDK1'],\n",
       " 'rxn00120': ['NTP7'],\n",
       " 'rxn00122': ['FAD1', 'FMNAT', 'FMNATr'],\n",
       " 'rxn00123': ['PYDXPP'],\n",
       " 'rxn00124': ['PYDXK', 'U83'],\n",
       " 'rxn00126': ['METAT', 'SAM1', 'SAM2'],\n",
       " 'rxn00127': ['ADMDC', 'ADMDCr', 'SPE2'],\n",
       " 'rxn00130': ['AMD1_1'],\n",
       " 'rxn00132': ['NTD7', 'U30'],\n",
       " 'rxn00134': ['ADNK1', 'YJR105W'],\n",
       " 'rxn00137': ['BPNT', 'MET22'],\n",
       " 'rxn00138': ['NADS1m', 'QNS1_1'],\n",
       " 'rxn00139': ['ADPT', 'APT1', 'APT2'],\n",
       " 'rxn00140': ['PDE1', 'PDE2_1'],\n",
       " 'rxn00141': ['AHC', 'AHCi', 'SAH1'],\n",
       " 'rxn00143': ['AHCYSNS'],\n",
       " 'rxn00145': ['L-LACD', 'L-LACDm', 'L_LACD'],\n",
       " 'rxn00147': ['PPS'],\n",
       " 'rxn00148': ['CDC19', 'PYK', 'PYK2'],\n",
       " 'rxn00151': ['PPDK'],\n",
       " 'rxn00154': ['PDH'],\n",
       " 'rxn00157': ['PFL', 'PFLi', 'PFLr'],\n",
       " 'rxn00159': ['ME1', 'ME1_rev', 'ME1x'],\n",
       " 'rxn00160': ['MALDDH', 'ME1x_D'],\n",
       " 'rxn00161': ['ME2'],\n",
       " 'rxn00162': ['OAADC', 'OXDE'],\n",
       " 'rxn00165': ['CHA1_2', 'SER_AL', 'YIL167W'],\n",
       " 'rxn00168': ['PDC1', 'PDC5', 'PDC6', 'PYRDC'],\n",
       " 'rxn00170': ['ACH1', 'ACOAH'],\n",
       " 'rxn00171': ['ACALD', 'ACALDi'],\n",
       " 'rxn00173': ['PTA', 'PTAr'],\n",
       " 'rxn00174': ['MCD'],\n",
       " 'rxn00175': ['ACS', 'ACS1', 'ACSr'],\n",
       " 'rxn00178': ['AACOAT', 'ACACT1', 'ACACT1r', 'ERG10', 'KAT1'],\n",
       " 'rxn00179': ['GLU5K'],\n",
       " 'rxn00180': ['PRO1'],\n",
       " 'rxn00182': ['GDH2'],\n",
       " 'rxn00183': ['GSADH', 'PUTA3'],\n",
       " 'rxn00184': ['GDH1', 'GDH3'],\n",
       " 'rxn00186': ['OPAH'],\n",
       " 'rxn00187': ['GLN1', 'GLNS_i'],\n",
       " 'rxn00189': ['U42', 'U43'],\n",
       " 'rxn00190': ['NADS2', 'NADS2i'],\n",
       " 'rxn00191': ['ALATA_L', 'YDR111C'],\n",
       " 'rxn00192': ['ACGS'],\n",
       " 'rxn00193': ['GLUR'],\n",
       " 'rxn00194': ['GAD1', 'GLUDC'],\n",
       " 'rxn00198': ['ICDHy', 'ICDHyr'],\n",
       " 'rxn00199': ['IDP2_2', 'IDP3_2'],\n",
       " 'rxn00202': ['HCITS', 'LYS20_1', 'LYS21'],\n",
       " 'rxn00203': ['OXGDC'],\n",
       " 'rxn00205': ['GPX1', 'GPX2', 'GSHPO', 'GTHP', 'GTHPe', 'HYR1'],\n",
       " 'rxn00206': ['SOD', 'SODr', 'SPODM'],\n",
       " 'rxn00208': ['PDX3_1', 'PDX3_5'],\n",
       " 'rxn00209': ['PDX3_2', 'PDX5PO', 'PDX5POi'],\n",
       " 'rxn00211': ['UDPGD', 'UDPGDi', 'UDPGDr'],\n",
       " 'rxn00213': ['GALU', 'GALUi', 'UGP1', 'YHL012W'],\n",
       " 'rxn00214': ['GAL10', 'UDPG4E'],\n",
       " 'rxn00216': ['GLK1_1', 'HEX1', 'HXK1_2', 'HXK2_2'],\n",
       " 'rxn00217': ['G1Dx'],\n",
       " 'rxn00220': ['G6PP'],\n",
       " 'rxn00221': ['G1PP'],\n",
       " 'rxn00223': ['XYLI2', 'XYLI2i'],\n",
       " 'rxn00224': ['FCLT'],\n",
       " 'rxn00225': ['ACKr'],\n",
       " 'rxn00227': ['ACYP_2'],\n",
       " 'rxn00229': ['LO'],\n",
       " 'rxn00236': ['NDP3'],\n",
       " 'rxn00237': ['NDPK1', 'YNK1_8'],\n",
       " 'rxn00239': ['GK1', 'GUK1_1'],\n",
       " 'rxn00241': ['NTP3'],\n",
       " 'rxn00242': ['G35DP', 'GDPDP3PH', 'PPGPP', 'PPGPPDP'],\n",
       " 'rxn00245': ['TARTD'],\n",
       " 'rxn00247': ['PCK1', 'PPCK', 'PPCKr'],\n",
       " 'rxn00248': ['MDH', 'MDHi2'],\n",
       " 'rxn00249': ['MDHy'],\n",
       " 'rxn00250': ['PC', 'PYC1', 'PYC2'],\n",
       " 'rxn00251': ['PPC'],\n",
       " 'rxn00256': ['CIT2', 'CS'],\n",
       " 'rxn00260': ['AAT2_1', 'ASPTA', 'ASPTA1', 'ASPTA1r'],\n",
       " 'rxn00262': ['ASPO7'],\n",
       " 'rxn00265': ['CITL', 'CITLr'],\n",
       " 'rxn00269': ['GLYO1'],\n",
       " 'rxn00272': ['AGT', 'AGTi', 'YFL030W'],\n",
       " 'rxn00274': ['GLYAT', 'GLYATRi', 'GLYATi'],\n",
       " 'rxn00283': ['ALAR', 'ALARi'],\n",
       " 'rxn00285': ['SUCOAS', 'SUCOAS1m'],\n",
       " 'rxn00288': ['FRD', 'FRDSUCD1i', 'SUCD1', 'SUCD1i'],\n",
       " 'rxn00289': ['MCITL2', 'MCL', 'MICITL'],\n",
       " 'rxn00290': ['OCOAT1', 'OCOAT1r'],\n",
       " 'rxn00291': ['SGDS'],\n",
       " 'rxn00292': ['UAG2EMA'],\n",
       " 'rxn00293': ['UAGDPr'],\n",
       " 'rxn00295': ['UAG4E'],\n",
       " 'rxn00297': ['UAG2E', 'UAG2Ei'],\n",
       " 'rxn00299': ['FOL2', 'GTPCI'],\n",
       " 'rxn00300': ['GTPCII2', 'RIB1'],\n",
       " 'rxn00301': ['NTPP2'],\n",
       " 'rxn00303': ['GTPDPK'],\n",
       " 'rxn00305': ['PEPCK_re'],\n",
       " 'rxn00307': ['GUACYC'],\n",
       " 'rxn00312': ['LYSMO'],\n",
       " 'rxn00313': ['DAPDC'],\n",
       " 'rxn00320': ['LYSRC'],\n",
       " 'rxn00321': ['LYSAM'],\n",
       " 'rxn00322': ['LYSDC'],\n",
       " 'rxn00324': ['GLYCLTDy', 'GLYCLTDyr'],\n",
       " 'rxn00327': ['DAL3'],\n",
       " 'rxn00328': ['DDPGA'],\n",
       " 'rxn00330': ['DAL7', 'MALS', 'MLS1'],\n",
       " 'rxn00331': ['MCAL'],\n",
       " 'rxn00333': ['GLYCTO1', 'GLYCTO10'],\n",
       " 'rxn00336': ['ICL', 'ICL1', 'ICL2'],\n",
       " 'rxn00337': ['ASPK', 'ASPKi', 'HOM3'],\n",
       " 'rxn00338': ['ASPO6'],\n",
       " 'rxn00342': ['ASP1', 'ASP31', 'ASP32', 'ASP33', 'ASP34'],\n",
       " 'rxn00346': ['ASP1DC', 'U98'],\n",
       " 'rxn00348': ['ASPR', 'ASPRM'],\n",
       " 'rxn00350': ['GGTAe2'],\n",
       " 'rxn00351': ['GSH2', 'GTHS'],\n",
       " 'rxn00355': ['GAL7_1', 'GALT', 'GALTi'],\n",
       " 'rxn00358': ['UDPGALM'],\n",
       " 'rxn00361': ['ADSK', 'ADSKr', 'MET14'],\n",
       " 'rxn00363': ['NTD4', 'U29'],\n",
       " 'rxn00364': ['CYTK1', 'U18'],\n",
       " 'rxn00365': ['CYTDK1'],\n",
       " 'rxn00367': ['NTPP4'],\n",
       " 'rxn00369': ['CYTDK2', 'URK1_2'],\n",
       " 'rxn00371': ['FDH', 'FDH1', 'FDHr', 'YPL275W', 'YPL276W'],\n",
       " 'rxn00372': ['FCOAH2'],\n",
       " 'rxn00373': ['OXADC'],\n",
       " 'rxn00374': ['FORAMD'],\n",
       " 'rxn00375': ['NFORGLUAH'],\n",
       " 'rxn00377': ['SFGTH', 'SFGTHi', 'YJL068C'],\n",
       " 'rxn00379': ['MET3', 'SADT', 'SADT1r'],\n",
       " 'rxn00380': ['APA1_3', 'SLFAT'],\n",
       " 'rxn00391': ['ACP1(FMN)', 'ACP1_FMN', 'ACP1_FMN_', 'PHO11'],\n",
       " 'rxn00392': ['FMN1_1', 'RBFK'],\n",
       " 'rxn00395': ['ARGD', 'ARGDE'],\n",
       " 'rxn00396': ['ARGKr'],\n",
       " 'rxn00403': ['NOPD'],\n",
       " 'rxn00405': ['ARGDC'],\n",
       " 'rxn00408': ['NTP5'],\n",
       " 'rxn00409': ['NDPK3', 'YNK1_2'],\n",
       " 'rxn00410': ['URA7_2', 'URA8_2'],\n",
       " 'rxn00412': ['CTPS2', 'URA7_1', 'URA8_1'],\n",
       " 'rxn00414': ['CBPS', 'CBPSn'],\n",
       " 'rxn00416': ['ASN1', 'ASN2', 'ASNS1'],\n",
       " 'rxn00418': ['SERAS', 'SERASr'],\n",
       " 'rxn00420': ['PSP_L', 'SER2'],\n",
       " 'rxn00422': ['SPA'],\n",
       " 'rxn00423': ['SERAT', 'SERATi', 'U48'],\n",
       " 'rxn00427': ['PRDX'],\n",
       " 'rxn00429': ['ALDD1', 'ALDD1x'],\n",
       " 'rxn00433': ['SARCO', 'SARCOX'],\n",
       " 'rxn00436': ['TDP'],\n",
       " 'rxn00437': ['THI80_2', 'TMDPPK'],\n",
       " 'rxn00438': ['TMPK', 'TMPKr', 'U76'],\n",
       " 'rxn00440': ['THI80_1', 'TMDPK'],\n",
       " 'rxn00442': ['OXGDC2'],\n",
       " 'rxn00452': ['HCYSMT', 'MHT1', 'SAM4'],\n",
       " 'rxn00453': ['AHSERL', 'MET17_1'],\n",
       " 'rxn00455': ['FMETDF'],\n",
       " 'rxn00459': ['ENO', 'ENO1', 'ENO2', 'ERR1_1', 'ERR1_2', 'ERR2'],\n",
       " 'rxn00461': ['UAGCVT'],\n",
       " 'rxn00463': ['NTPP8'],\n",
       " 'rxn00470': ['or NDC'],\n",
       " 'rxn00474': ['TRPS2'],\n",
       " 'rxn00478': ['TRPO2', 'YJR078W'],\n",
       " 'rxn00483': ['TRPTA'],\n",
       " 'rxn00493': ['ARO9_1', 'PHETA1'],\n",
       " 'rxn00497': ['PHYCBOXL'],\n",
       " 'rxn00498': ['ERG9_1'],\n",
       " 'rxn00499': ['LDH_L'],\n",
       " 'rxn00500': ['LDH_D', 'LDH_Dir'],\n",
       " 'rxn00501': ['MMSAD3'],\n",
       " 'rxn00503': ['P5CD'],\n",
       " 'rxn00505': ['ICDHxi'],\n",
       " 'rxn00506': ['ALD2', 'ALD3', 'ALDD2x', 'ALDD2xr'],\n",
       " 'rxn00507': ['ALD6', 'ALDD2y'],\n",
       " 'rxn00508': ['SSALx'],\n",
       " 'rxn00509': ['SSALy', 'SSALyr', 'YBR006W'],\n",
       " 'rxn00510': ['LYS1', 'SACCD2'],\n",
       " 'rxn00512': ['GLYCLTDx', 'GLYCLTDxr'],\n",
       " 'rxn00513': ['NTP10'],\n",
       " 'rxn00514': ['ITPASE2', 'NTPP9'],\n",
       " 'rxn00515': ['NDPK9', 'YNK1_9'],\n",
       " 'rxn00527': ['AAT1_2',\n",
       "  'AAT2_2',\n",
       "  'ARO8',\n",
       "  'ARO9_2',\n",
       "  'TYRTA',\n",
       "  'TYRTAi',\n",
       "  'TYRTAm',\n",
       "  'TYRTAp'],\n",
       " 'rxn00533': ['ACC1', 'ACCOAC', 'ACCOACr'],\n",
       " 'rxn00536': ['ALCD2', 'ALCD2y'],\n",
       " 'rxn00537': ['PALDP', 'PPACAH'],\n",
       " 'rxn00540': ['HOPNTAL', 'HOPNTAL3'],\n",
       " 'rxn00541': ['GLY1', 'THRA', 'THRA2', 'THRAi', 'THRAr'],\n",
       " 'rxn00543': ['ADH1',\n",
       "  'ADH2',\n",
       "  'ADH4',\n",
       "  'ADH5',\n",
       "  'ALCD1',\n",
       "  'ALCD2if',\n",
       "  'ALCD2ir',\n",
       "  'ALCD2m',\n",
       "  'ALCD2x',\n",
       "  'SFA1_2'],\n",
       " 'rxn00545': ['PFK', 'PFK1_1', 'PFK2'],\n",
       " 'rxn00546': ['M1PD'],\n",
       " 'rxn00547': ['HEX7', 'HXK1_4', 'HXK2_4'],\n",
       " 'rxn00549': ['FBP', 'FBP1'],\n",
       " 'rxn00550': ['FBP26'],\n",
       " 'rxn00555': ['GF6PTA', 'GF6PTAr', 'GFA1'],\n",
       " 'rxn00558': ['PGI', 'PGI1_1'],\n",
       " 'rxn00559': ['MAN6PI', 'PMI40'],\n",
       " 'rxn00560': ['UREASE'],\n",
       " 'rxn00567': ['NIR'],\n",
       " 'rxn00568': ['NTRIR2x'],\n",
       " 'rxn00569': ['NTRIR2y', 'NTRIRy'],\n",
       " 'rxn00575': ['SUC2', 'SUCH', 'SUCR'],\n",
       " 'rxn00582': ['ISOMS'],\n",
       " 'rxn00584': ['BZDIOLDH'],\n",
       " 'rxn00587': ['CAT23DOX'],\n",
       " 'rxn00588': ['CATA', 'CATDOX'],\n",
       " 'rxn00598': ['3OXACOA', '3OXCOAT'],\n",
       " 'rxn00601': ['AST'],\n",
       " 'rxn00602': ['MMM', 'MMM2'],\n",
       " 'rxn00604': ['G6PDH', 'G6PDH2', 'G6PDH2r', 'G6PDHy', 'ZWF1'],\n",
       " 'rxn00605': ['TPS1', 'TPS3', 'TRE6PS', 'TSL1'],\n",
       " 'rxn00606': ['TRE6PH'],\n",
       " 'rxn00607': ['MAL6PG'],\n",
       " 'rxn00608': ['PGGH'],\n",
       " 'rxn00609': ['MI1PS'],\n",
       " 'rxn00610': ['G3PT', 'HOR2', 'RHR2'],\n",
       " 'rxn00611': ['G3PD1', 'G3PD1ir', 'GPD1', 'GPD2'],\n",
       " 'rxn00612': ['G3PD2'],\n",
       " 'rxn00615': ['GLYK', 'GLYKr', 'GUT1'],\n",
       " 'rxn00616': ['G3PD'],\n",
       " 'rxn00621': ['G3PCT'],\n",
       " 'rxn00623': ['ECM17', 'MET10', 'SULR', 'SULRi'],\n",
       " 'rxn00624': ['CYSSADS'],\n",
       " 'rxn00629': ['MNLDH'],\n",
       " 'rxn00634': ['SBTD_D', 'SBTD_D2', 'SBTD_Dr', 'SOR1'],\n",
       " 'rxn00638': ['ALGD'],\n",
       " 'rxn00639': ['GDPMNP'],\n",
       " 'rxn00640': ['MAN1PT2', 'MAN1PT2_r', 'MAN1PT2r'],\n",
       " 'rxn00641': ['MAN1PT', 'PSA1'],\n",
       " 'rxn00642': ['GDPMD', 'GMAND'],\n",
       " 'rxn00646': ['GLUCYS', 'GLUCYSL', 'GSH1'],\n",
       " 'rxn00647': ['ASPTA4', 'R00896'],\n",
       " 'rxn00649': ['CYSS', 'CYSSr', 'YGR012W'],\n",
       " 'rxn00650': ['AMPTASECG', 'TRIA'],\n",
       " 'rxn00653': ['ALDD22x'],\n",
       " 'rxn00654': ['UPPN'],\n",
       " 'rxn00656': ['APATr', 'BALAAT'],\n",
       " 'rxn00669': ['ACCOAL', 'ACCOAL2r'],\n",
       " 'rxn00670': ['PTA2', 'PTA2r', 'PTAr_ppa'],\n",
       " 'rxn00671': ['MMSAD1', 'MMTSAO'],\n",
       " 'rxn00672': ['MMCD'],\n",
       " 'rxn00674': ['ACS2'],\n",
       " 'rxn00676': ['ACACT10rr', 'ACOACAT', 'MACCOAT'],\n",
       " 'rxn00679': ['MCITS'],\n",
       " 'rxn00686': ['DFR1_2', 'DHFR', 'DHFRi'],\n",
       " 'rxn00690': ['ADE3_2', 'FTHFL', 'FTHFLi', 'FTHFLm'],\n",
       " 'rxn00691': ['FTHFD'],\n",
       " 'rxn00692': ['GHMT', 'GHMT2', 'GHMT2r', 'SHM2'],\n",
       " 'rxn00693': ['METS', 'METSMHPGLUT_b', 'METSr', 'MTHFB12D', 'U47'],\n",
       " 'rxn00695': ['GLGC', 'GLGCr'],\n",
       " 'rxn00701': ['GAL7_2', 'UGLT'],\n",
       " 'rxn00702': ['CDPGLU'],\n",
       " 'rxn00707': ['CYTDK3'],\n",
       " 'rxn00708': ['NTD2', 'U34'],\n",
       " 'rxn00709': ['URIK1', 'URK1_3'],\n",
       " 'rxn00710': ['OMPDC', 'URA3'],\n",
       " 'rxn00711': ['FUR1', 'UPPRT', 'UPPRTr'],\n",
       " 'rxn00713': ['URIK2', 'URK1_1'],\n",
       " 'rxn00715': ['URIK3'],\n",
       " 'rxn00717': ['FCY1'],\n",
       " 'rxn00720': ['DURAD'],\n",
       " 'rxn00726': ['ANS2'],\n",
       " 'rxn00727': ['ANS', 'ANS1', 'TRP2_1', 'TRP3_1'],\n",
       " 'rxn00728': ['KYN', 'KYNASE2', 'YLR231C_1'],\n",
       " 'rxn00737': ['CHA1_1'],\n",
       " 'rxn00740': ['SHSL4', 'YML082W'],\n",
       " 'rxn00741': ['2HBO', 'LDH2'],\n",
       " 'rxn00742': ['CYSTGLr'],\n",
       " 'rxn00743': ['ALKP', 'ALKPr'],\n",
       " 'rxn00744': ['DAK1', 'DAK2', 'DHAK'],\n",
       " 'rxn00745': ['DHAPT'],\n",
       " 'rxn00747': ['TPI'],\n",
       " 'rxn00748': ['MGSA'],\n",
       " 'rxn00751': ['CHOLK', 'CKI1'],\n",
       " 'rxn00756': ['CHOLSH'],\n",
       " 'rxn00758': ['GPDDA1'],\n",
       " 'rxn00762': ['GLYCDx'],\n",
       " 'rxn00763': ['ALCD19'],\n",
       " 'rxn00764': ['GLYCDy'],\n",
       " 'rxn00765': ['ALCD19_D', 'ALCD19y'],\n",
       " 'rxn00772': ['RBKr'],\n",
       " 'rxn00775': ['ADPRDP'],\n",
       " 'rxn00779': ['GAPDy1'],\n",
       " 'rxn00781': ['GAPD', 'GAPD_NAD'],\n",
       " 'rxn00782': ['GAPD(nadp)', 'GAPD_NADP'],\n",
       " 'rxn00783': ['DDPGALA'],\n",
       " 'rxn00784': ['DRPA', 'DRPAr'],\n",
       " 'rxn00785': ['TKT2'],\n",
       " 'rxn00786': ['FBA'],\n",
       " 'rxn00789': ['ATPPRT', 'ATPPRTr', 'HIS1'],\n",
       " 'rxn00790': ['ADE4', 'GLUPRT'],\n",
       " 'rxn00791': ['ANPRT', 'TRP4'],\n",
       " 'rxn00792': ['BACCL', 'BTNL1'],\n",
       " 'rxn00796': ['BTS', 'BTS3r'],\n",
       " 'rxn00797': ['PYRNS1', 'URIH'],\n",
       " 'rxn00799': ['FUM', 'FUM1_2'],\n",
       " 'rxn00800': ['ADE13_2', 'ADSL1', 'ADSL1r'],\n",
       " 'rxn00803': ['MALEI'],\n",
       " 'rxn00804': ['LLEUD'],\n",
       " 'rxn00806': ['BAT2_3', 'LEUTA', 'LEUTAi'],\n",
       " 'rxn00808': ['GAL1', 'GALK', 'GALKr'],\n",
       " 'rxn00816': ['LACZ'],\n",
       " 'rxn00817': ['DGGH', 'FSP2_2', 'GALS3', 'YBR184W_1', 'YBR184W_2'],\n",
       " 'rxn00818': ['RAFGH', 'YBR184W_3'],\n",
       " 'rxn00819': ['GGLGH', 'YBR184W_6'],\n",
       " 'rxn00829': ['DPMVD', 'MVD1'],\n",
       " 'rxn00830': ['IDI1', 'IPDDI', 'IPDDIi'],\n",
       " 'rxn00831': ['NTD11', 'U32'],\n",
       " 'rxn00832': ['ADE16_2', 'ADE17_2', 'IMPC', 'IMPCir'],\n",
       " 'rxn00834': ['FUN63', 'IMD3', 'IMD4', 'IMPD', 'PUR5', 'YAR075W'],\n",
       " 'rxn00835': ['INSK', 'U20'],\n",
       " 'rxn00836': ['HPT1_1', 'HXPRT', 'HXPRTr'],\n",
       " 'rxn00838': ['ADE12', 'ADSS', 'ADSS_i'],\n",
       " 'rxn00839': ['NDPK8', 'YNK1_7'],\n",
       " 'rxn00848': ['ALATA_D2'],\n",
       " 'rxn00849': ['ALATA_D'],\n",
       " 'rxn00851': ['ALAALA', 'ALAALAr'],\n",
       " 'rxn00853': ['CBMLPTAH'],\n",
       " 'rxn00856': ['PTRCTA'],\n",
       " 'rxn00858': ['AGMT'],\n",
       " 'rxn00859': ['HIS4_3', 'HISTD'],\n",
       " 'rxn00860': ['ARMT', 'HMT1'],\n",
       " 'rxn00866': ['HISDC'],\n",
       " 'rxn00867': ['HISD', 'HISD1r'],\n",
       " 'rxn00868': ['ACOAD1'],\n",
       " 'rxn00871': ['PBUTT'],\n",
       " 'rxn00872': ['ACOAD1f'],\n",
       " 'rxn00874': ['ACACT2r', 'KAT2', 'POT1_7'],\n",
       " 'rxn00875': ['BUTCT'],\n",
       " 'rxn00879': ['INS2D'],\n",
       " 'rxn00881': ['MI1PP'],\n",
       " 'rxn00882': ['MI4PP'],\n",
       " 'rxn00883': ['INM1', 'MI3PP', 'YDR287W'],\n",
       " 'rxn00889': ['GPDDA5'],\n",
       " 'rxn00890': ['GALIGH', 'YBR184W_4'],\n",
       " 'rxn00892': ['ACGAMK'],\n",
       " 'rxn00899': ['2LDA', 'OIVD2'],\n",
       " 'rxn00902': ['IPPS'],\n",
       " 'rxn00903': ['BAT2_2', 'VALTA'],\n",
       " 'rxn00904': ['VPAMT'],\n",
       " 'rxn00906': ['MTD1', 'MTHFD2', 'MTHFD2i'],\n",
       " 'rxn00907': ['ADE3_1', 'MTHFD'],\n",
       " 'rxn00908': ['GCV1_2', 'GLYCL_2'],\n",
       " 'rxn00910': ['MTHFR1', 'MTHFR3'],\n",
       " 'rxn00912': ['ECM31', 'MOHMT'],\n",
       " 'rxn00913': ['NTD9', 'U31'],\n",
       " 'rxn00914': ['GSNK', 'U21'],\n",
       " 'rxn00915': ['GUAPRT', 'GUAPRTr', 'HPT1_2'],\n",
       " 'rxn00917': ['GMPS2', 'GUA1'],\n",
       " 'rxn00920': ['PDE2_4', 'PDE4'],\n",
       " 'rxn00926': ['AAH1_3'],\n",
       " 'rxn00927': ['ADNUC', 'PNS1', 'URH1_2'],\n",
       " 'rxn00929': ['P5CRx', 'PRO1x'],\n",
       " 'rxn00931': ['P5CR', 'PRO3_1'],\n",
       " 'rxn00934': ['MALTK'],\n",
       " 'rxn00938': ['PNC1_1'],\n",
       " 'rxn00939': ['NNMT'],\n",
       " 'rxn00943': ['FACOAE160'],\n",
       " 'rxn00946': ['ACOAD7f'],\n",
       " 'rxn00947': ['FAA1_3', 'FAA3_1', 'FAA4_1', 'FACOAL160', 'FAT1_1'],\n",
       " 'rxn00948': ['LCB1', 'LCB2', 'SERPT'],\n",
       " 'rxn00950': ['CYSTLr'],\n",
       " 'rxn00952': ['AHSERL2', 'MET17_2', 'MET17_3', 'METACH'],\n",
       " 'rxn00953': ['CYSTS'],\n",
       " 'rxn00957': ['VNDH-2'],\n",
       " 'rxn00962': ['4HBHYOX', 'POBA'],\n",
       " 'rxn00965': ['4HBTE'],\n",
       " 'rxn00966': ['CHRPL', 'TRP2_2', 'TRP3_3'],\n",
       " 'rxn00973': ['ACONT'],\n",
       " 'rxn00974': ['ACONTa'],\n",
       " 'rxn00975': ['GLK1_2', 'HEX4', 'HXK1_3', 'HXK2_3'],\n",
       " 'rxn00977': ['EPMGH', 'YBR184W_5'],\n",
       " 'rxn00979': ['GCALDD', 'GCALDDr'],\n",
       " 'rxn00980': ['PGLYCP'],\n",
       " 'rxn00985': ['PPAK', 'PPAKr', 'PROPP'],\n",
       " 'rxn00988': ['ACAC'],\n",
       " 'rxn00990': ['ACACCT'],\n",
       " 'rxn00991': ['HMGL'],\n",
       " 'rxn00992': ['3HBUTDH', 'BDH'],\n",
       " 'rxn00993': ['FUMAC', 'FUMACA', 'U60'],\n",
       " 'rxn01000': ['PHA2', 'PPNDH'],\n",
       " 'rxn01003': ['PPYRDC', 'R01377'],\n",
       " 'rxn01008': ['GLCURE'],\n",
       " 'rxn01011': ['HPYRRx'],\n",
       " 'rxn01013': ['HPYRRy'],\n",
       " 'rxn01015': ['HPYRI'],\n",
       " 'rxn01018': ['ASPCT', 'ASPCTn', 'URA2_1'],\n",
       " 'rxn01021': ['MTAN'],\n",
       " 'rxn01025': ['MCSNAH1r'],\n",
       " 'rxn01029': ['AGMTNDMN'],\n",
       " 'rxn01032': ['BZDH'],\n",
       " 'rxn01037': ['NBAH'],\n",
       " 'rxn01043': ['XYLR'],\n",
       " 'rxn01044': ['XYLI1'],\n",
       " 'rxn01053': ['LCAD', 'LCADi', 'LCADm'],\n",
       " 'rxn01057': ['LacR'],\n",
       " 'rxn01068': ['THRD'],\n",
       " 'rxn01069': ['THR4_1', 'THRS'],\n",
       " 'rxn01071': ['EKI1', 'ETHAK'],\n",
       " 'rxn01073': ['GPDDA2'],\n",
       " 'rxn01080': ['GUI1'],\n",
       " 'rxn01093': ['DHBS', 'DHBSr'],\n",
       " 'rxn01100': ['PGK', 'PGK1'],\n",
       " 'rxn01101': ['PGCD', 'PGCDr', 'SER3', 'SER33'],\n",
       " 'rxn01102': ['GLYCK'],\n",
       " 'rxn01103': ['ACYP'],\n",
       " 'rxn01104': ['DPGase'],\n",
       " 'rxn01106': ['GPM1_2', 'GPM2', 'GPM3', 'PGM'],\n",
       " 'rxn01111': ['PRKIN'],\n",
       " 'rxn01114': ['RBK_D', 'RBK_Dr'],\n",
       " 'rxn01115': ['GND', 'GND1', 'GND2', 'PGDH', 'PGDHr'],\n",
       " 'rxn01116': ['RPE', 'RPE1'],\n",
       " 'rxn01117': ['A5PISO'],\n",
       " 'rxn01122': ['ALTRH'],\n",
       " 'rxn01123': ['DDGLK'],\n",
       " 'rxn01124': ['DGLCND', 'DKII'],\n",
       " 'rxn01127': ['DADK', 'U19'],\n",
       " 'rxn01130': ['ALCD20y'],\n",
       " 'rxn01132': ['MPL'],\n",
       " 'rxn01133': ['MALTAT', 'MALTATr'],\n",
       " 'rxn01134': ['MTI', 'TREHS'],\n",
       " 'rxn01135': ['OXACOAL'],\n",
       " 'rxn01137': ['AAH1_1'],\n",
       " 'rxn01138': ['PNP1_7', 'PUNP1', 'U103'],\n",
       " 'rxn01139': ['3NUCLE1'],\n",
       " 'rxn01143': ['TMDK1', 'U16'],\n",
       " 'rxn01145': ['NTD5', 'U25'],\n",
       " 'rxn01146': ['PNP1_2', 'TMDPP'],\n",
       " 'rxn01149': ['ARA1_1', 'ARAB1D1'],\n",
       " 'rxn01150': ['ARA1_2', 'ARAB1D2'],\n",
       " 'rxn01152': ['ARABI'],\n",
       " 'rxn01169': ['GLK1_3'],\n",
       " 'rxn01176': ['D5KGPA', 'R05378'],\n",
       " 'rxn01182': ['4CMCOAS'],\n",
       " 'rxn01187': ['XPK'],\n",
       " 'rxn01188': ['DHSKDH'],\n",
       " 'rxn01192': ['PCADYOX', 'PCAHG'],\n",
       " 'rxn01199': ['XKS1', 'XYLK'],\n",
       " 'rxn01203': ['DHEDAA', 'R01647'],\n",
       " 'rxn01204': ['ABTA', 'ABTAr', 'UGA1'],\n",
       " 'rxn01207': ['OIVD1', 'OIVD1i'],\n",
       " 'rxn01208': ['OMCDC'],\n",
       " 'rxn01209': ['FTHFI'],\n",
       " 'rxn01211': ['ADE3_3', 'MTHFC'],\n",
       " 'rxn01213': ['DMATT'],\n",
       " 'rxn01216': ['DPGM', 'GPM1_1'],\n",
       " 'rxn01217': ['DCD1_1', 'DCMPDA2ir'],\n",
       " 'rxn01218': ['NTD3', 'U28'],\n",
       " 'rxn01219': ['CYTK2', 'U17'],\n",
       " 'rxn01220': ['ADADir'],\n",
       " 'rxn01222': ['NTPP3'],\n",
       " 'rxn01225': ['GUADr'],\n",
       " 'rxn01226': ['GNNUC', 'URH1_1'],\n",
       " 'rxn01231': ['SALADC2'],\n",
       " 'rxn01236': ['BUTKr'],\n",
       " 'rxn01241': ['PDHc', 'PDHcr', 'PDHe3c'],\n",
       " 'rxn01245': ['4M2OPLOXRD', 'ODHi'],\n",
       " 'rxn01247': ['ALDD16'],\n",
       " 'rxn01251': ['PDX3_4'],\n",
       " 'rxn01252': ['PDX3_3', 'PYDXNO'],\n",
       " 'rxn01255': ['ARO2', 'CH or S', 'CHORS'],\n",
       " 'rxn01256': ['ARO7', 'CH or M', 'CHORM'],\n",
       " 'rxn01257': ['ABZ1', 'ADCS'],\n",
       " 'rxn01258': ['ICH or Si', 'ICHORS', 'ICHORSi'],\n",
       " 'rxn01265': ['NAPRT', 'NAPRTr', 'NCTPPRT', 'NPT1_1'],\n",
       " 'rxn01268': ['PPND', 'U52'],\n",
       " 'rxn01269': ['PPND2', 'TYR1'],\n",
       " 'rxn01274': ['GLYOX'],\n",
       " 'rxn01275': ['GNK', 'GNKr'],\n",
       " 'rxn01277': ['2DGLCNRy'],\n",
       " 'rxn01278': ['5DGLCNR'],\n",
       " 'rxn01280': ['HOXPRx', 'TRSAR', 'TRSARr'],\n",
       " 'rxn01285': ['TARTDC'],\n",
       " 'rxn01286': ['ALDD8x', 'GLYALDDr'],\n",
       " 'rxn01291': ['ARABR', 'ARABRr'],\n",
       " 'rxn01292': ['ARAI'],\n",
       " 'rxn01293': ['BZALDH'],\n",
       " 'rxn01294': ['BENZ'],\n",
       " 'rxn01297': ['HXAND', 'XANDa'],\n",
       " 'rxn01299': ['INSH', 'PNS3'],\n",
       " 'rxn01300': ['HSK', 'THR1'],\n",
       " 'rxn01301': ['HOM6_1', 'HSDx', 'HSDxi'],\n",
       " 'rxn01302': ['HOM6_2', 'HSDy', 'HSDyi'],\n",
       " 'rxn01303': ['HSAT', 'HSERTA', 'MET2'],\n",
       " 'rxn01304': ['HSST', 'HSSTr'],\n",
       " 'rxn01313': ['DHPR', 'DHPRx'],\n",
       " 'rxn01314': ['HPDOAi'],\n",
       " 'rxn01315': ['PHE4MO', 'PHETHPTOX'],\n",
       " 'rxn01316': ['ACNPLYSr'],\n",
       " 'rxn01322': ['ACNML'],\n",
       " 'rxn01329': ['PMANM', 'SEC53'],\n",
       " 'rxn01331': ['E4PD'],\n",
       " 'rxn01332': ['ARO3', 'ARO4', 'DAHPS', 'DDPA'],\n",
       " 'rxn01334': ['FBA3'],\n",
       " 'rxn01343': ['PFK1_3', 'PFK_3'],\n",
       " 'rxn01351': ['NTPP1'],\n",
       " 'rxn01352': ['DGTPH', 'NTPTP1'],\n",
       " 'rxn01353': ['NDPK5', 'YNK1_3'],\n",
       " 'rxn01358': ['PNP1_6', 'PUNP5'],\n",
       " 'rxn01360': ['DHORD', 'DHORD1', 'DHORDfum'],\n",
       " 'rxn01362': ['ORPT', 'URA10', 'URA5', 'or PT'],\n",
       " 'rxn01364': ['QUIDH'],\n",
       " 'rxn01366': ['PYNP2', 'PYNP2r', 'U22'],\n",
       " 'rxn01367': ['3NUCLE2'],\n",
       " 'rxn01368': ['CDD1_1'],\n",
       " 'rxn01380': ['CHLPCTD', 'PCT1'],\n",
       " 'rxn01385': ['XYLTD_D'],\n",
       " 'rxn01387': ['IDP2_1', 'IDP3_1'],\n",
       " 'rxn01388': ['ACONTb'],\n",
       " 'rxn01389': ['LXYLK', 'XYLK2'],\n",
       " 'rxn01394': ['LLXI', 'LYXI'],\n",
       " 'rxn01395': ['OXCDC'],\n",
       " 'rxn01396': ['PYDXNK', 'U81'],\n",
       " 'rxn01398': ['PDXPP'],\n",
       " 'rxn01403': ['GSPMDS'],\n",
       " 'rxn01404': ['GSPMDA'],\n",
       " 'rxn01406': ['SPMS'],\n",
       " 'rxn01416': ['THSFST'],\n",
       " 'rxn01422': ['U56'],\n",
       " 'rxn01423': ['AATA', 'U51'],\n",
       " 'rxn01427': ['CAFFCOA'],\n",
       " 'rxn01437': ['FKYNH', 'U53'],\n",
       " 'rxn01438': ['KYN3OX'],\n",
       " 'rxn01444': ['DGNSK'],\n",
       " 'rxn01445': ['NTD8', 'U27'],\n",
       " 'rxn01446': ['PNP1_5', 'PUNP4'],\n",
       " 'rxn01450': ['INDPYRD'],\n",
       " 'rxn01451': ['HACD1', 'HACD1i'],\n",
       " 'rxn01454': ['HMGCOAS', 'HMGCOASi', 'HMGS'],\n",
       " 'rxn01457': ['GUI2'],\n",
       " 'rxn01460': ['AABTN'],\n",
       " 'rxn01462': ['GUADB', 'GUDBUTNAH'],\n",
       " 'rxn01465': ['DH or TS', 'DHORTS', 'DHORTSn', 'URA4'],\n",
       " 'rxn01466': ['GRTT'],\n",
       " 'rxn01475': ['PGC2Di', 'PGLCNDH'],\n",
       " 'rxn01476': ['PGL', 'SOL1', 'SOL2', 'SOL3', 'SOL4'],\n",
       " 'rxn01477': ['EDD', 'PGDHY'],\n",
       " 'rxn01479': ['MUQ1', 'PETHCT'],\n",
       " 'rxn01480': ['HIBD', 'HIBDkt'],\n",
       " 'rxn01483': ['ACGAM6PS', 'GNA1'],\n",
       " 'rxn01484': ['AGDC', 'AGDC_r'],\n",
       " 'rxn01485': ['PGAMT'],\n",
       " 'rxn01486': ['FRTT'],\n",
       " 'rxn01492': ['FRUK_r'],\n",
       " 'rxn01501': ['HMG1', 'HMG2', 'HMGCOAR', 'HMGCOARi'],\n",
       " 'rxn01504': ['MGCH', 'MGCOAH'],\n",
       " 'rxn01506': ['AMANAPE', 'AMANAPEr'],\n",
       " 'rxn01507': ['NTD6'],\n",
       " 'rxn01508': ['DADNK'],\n",
       " 'rxn01509': ['DGK1', 'GUK1_2'],\n",
       " 'rxn01512': ['NDPK4', 'YNK1_6'],\n",
       " 'rxn01513': ['CDC8', 'DTMPK'],\n",
       " 'rxn01514': ['NTP9', 'THTRIi'],\n",
       " 'rxn01517': ['URA6_3', 'URIDK2', 'URIDK2r', 'URIDK3'],\n",
       " 'rxn01518': ['DURIK1', 'U15'],\n",
       " 'rxn01519': ['DUT1', 'DUTPDP'],\n",
       " 'rxn01520': ['CDC21', 'TMDS'],\n",
       " 'rxn01521': ['NTD1', 'U24'],\n",
       " 'rxn01522': ['XAND', 'XANDb'],\n",
       " 'rxn01537': ['TMN'],\n",
       " 'rxn01538': ['TMK', 'TMKr'],\n",
       " 'rxn01539': ['THMP', 'U77'],\n",
       " 'rxn01541': ['CYTDH', 'PYRNS2'],\n",
       " 'rxn01544': ['XPPT', 'XPT1'],\n",
       " 'rxn01545': ['PNS4', 'XTSNH'],\n",
       " 'rxn01548': ['PNP1_8', 'PUNP3', 'U104'],\n",
       " 'rxn01549': ['3NUCLE4'],\n",
       " 'rxn01555': ['Q23DO'],\n",
       " 'rxn01571': ['FERULCOAS'],\n",
       " 'rxn01575': ['BAT2_1', 'ILETA'],\n",
       " 'rxn01579': ['1PPDCRc'],\n",
       " 'rxn01580': ['LPCOXc'],\n",
       " 'rxn01602': ['DHFOR2', 'FOLR2'],\n",
       " 'rxn01603': ['DHFS', 'U89'],\n",
       " 'rxn01606': ['ACONIs'],\n",
       " 'rxn01607': ['ERG12_1', 'MEVK1'],\n",
       " 'rxn01618': ['LALDO3'],\n",
       " 'rxn01620': ['FCLPA'],\n",
       " 'rxn01621': ['RMPA'],\n",
       " 'rxn01626': ['DHPM1', 'DIHYP'],\n",
       " 'rxn01629': ['G1SAT', 'G1SATi'],\n",
       " 'rxn01630': ['APENTAMAH'],\n",
       " 'rxn01631': ['APTNAT'],\n",
       " 'rxn01634': ['D4DGCD'],\n",
       " 'rxn01637': ['ACOTA'],\n",
       " 'rxn01639': ['FGLU'],\n",
       " 'rxn01640': ['FORGLUIH', 'FORMD'],\n",
       " 'rxn01642': ['IZPN'],\n",
       " 'rxn01643': ['ASAD', 'ASADi', 'HOM2'],\n",
       " 'rxn01644': ['DHDPS'],\n",
       " 'rxn01646': ['PNP', 'RIOR'],\n",
       " 'rxn01648': ['PYNP1', 'PYNP1r'],\n",
       " 'rxn01649': ['PNP1_9', 'PUNP7'],\n",
       " 'rxn01652': ['FOMETR'],\n",
       " 'rxn01653': ['FTHFCL'],\n",
       " 'rxn01663': ['LYS9', 'SACCD1'],\n",
       " 'rxn01664': ['AADSACYCL'],\n",
       " 'rxn01670': ['NIRP'],\n",
       " 'rxn01671': ['RNMK'],\n",
       " 'rxn01672': ['DCD1_2'],\n",
       " 'rxn01673': ['NDPK7', 'YNK1_5'],\n",
       " 'rxn01675': ['G1PTMT', 'G1PTT'],\n",
       " 'rxn01677': ['NTP8'],\n",
       " 'rxn01678': ['NDPK6', 'YNK1_4'],\n",
       " 'rxn01682': ['TRPS3r'],\n",
       " 'rxn01684': ['PUNP8'],\n",
       " 'rxn01704': ['3NUCLE3'],\n",
       " 'rxn01710': ['ALCD2z'],\n",
       " 'rxn01726': ['CSNAT', 'CSNATifm', 'CSNATirm', 'CSNATirp'],\n",
       " 'rxn01729': ['GLUSD', 'OXPTNDH'],\n",
       " 'rxn01730': ['GLCOAS', 'GLUTCOAs'],\n",
       " 'rxn01737': ['INVRTSc', 'RAFH'],\n",
       " 'rxn01739': ['ARO1_4', 'SHKK'],\n",
       " 'rxn01740': ['ARO1_3', 'SHK3D', 'SHK3Dr'],\n",
       " 'rxn01746': ['ALLTAH', 'ALLTAHr', 'DAL2'],\n",
       " 'rxn01748': ['ALLTN', 'ALLTNr', 'DAL1'],\n",
       " 'rxn01750': ['CDPGHL'],\n",
       " 'rxn01761': ['RMI'],\n",
       " 'rxn01763': ['RBK_L1', 'RBK_L1r', 'RBLK1'],\n",
       " 'rxn01775': ['MANAO'],\n",
       " 'rxn01783': ['SPHPL'],\n",
       " 'rxn01790': ['DPR', 'PAN5'],\n",
       " 'rxn01791': ['PANTS', 'YIL145C'],\n",
       " 'rxn01799': ['DURIPP', 'PNP1_1'],\n",
       " 'rxn01800': ['CDD1_2'],\n",
       " 'rxn01802': ['GLTCOAD', 'GLUTCOADHc'],\n",
       " 'rxn01806': ['NHFRBO', 'NORx'],\n",
       " 'rxn01807': ['PYDAMK', 'U82'],\n",
       " 'rxn01808': ['HYPOE', 'PYDAMP', 'U84'],\n",
       " 'rxn01813': ['TMPHi'],\n",
       " 'rxn01816': ['SHSL1r'],\n",
       " 'rxn01825': ['HGENDO', 'HGNTOR', 'U58'],\n",
       " 'rxn01827': ['34HPPOR', 'HPPDO1', 'U57'],\n",
       " 'rxn01831': ['LALDO2x'],\n",
       " 'rxn01832': ['ALR2'],\n",
       " 'rxn01834': ['GLO1', 'LGTHL'],\n",
       " 'rxn01842': ['PACCOALr'],\n",
       " 'rxn01847': ['TARTRDH2'],\n",
       " 'rxn01851': ['ABUTD'],\n",
       " 'rxn01857': ['TAGUR', 'TAGURr'],\n",
       " 'rxn01858': ['AAH1_2'],\n",
       " 'rxn01859': ['PNP1_4', 'PUNP2'],\n",
       " 'rxn01867': ['BADH', 'BETALDHx'],\n",
       " 'rxn01868': ['BETALDHy'],\n",
       " 'rxn01870': ['FBA2'],\n",
       " 'rxn01872': ['AKGDbr'],\n",
       " 'rxn01883': ['2DOXG6PP'],\n",
       " 'rxn01893': ['OP4ENH', 'OP4ENH3'],\n",
       " 'rxn01894': ['4OD'],\n",
       " 'rxn01895': ['HKNDDH'],\n",
       " 'rxn01896': ['HMSH'],\n",
       " 'rxn01902': ['ALCD25xi'],\n",
       " 'rxn01911': ['DOGULNR'],\n",
       " 'rxn01917': ['ACGK'],\n",
       " 'rxn01924': ['2MACOAD'],\n",
       " 'rxn01926': ['2PGK'],\n",
       " 'rxn01927': ['3HAO', 'BNA1'],\n",
       " 'rxn01930': ['HKYNH'],\n",
       " 'rxn01938': ['ALCD26xi'],\n",
       " 'rxn01943': ['R02695'],\n",
       " 'rxn01944': ['R02697'],\n",
       " 'rxn01945': ['4HPHAC3MO', 'HPA3MO', 'R02698'],\n",
       " 'rxn01946': ['PACCOAL2'],\n",
       " 'rxn01951': ['AMANK'],\n",
       " 'rxn01960': ['ARAB14LO'],\n",
       " 'rxn01961': ['NTD10', 'U33'],\n",
       " 'rxn01962': ['NTPP11', 'XTPASE'],\n",
       " 'rxn01964': ['TRPS1r'],\n",
       " 'rxn01967': ['PGMT_B'],\n",
       " 'rxn01972': ['ADPDA'],\n",
       " 'rxn01973': ['SDPDS'],\n",
       " 'rxn01974': ['DAPE'],\n",
       " 'rxn01975': ['G6PBDH'],\n",
       " 'rxn01985': ['PNP1_3', 'PUNP6'],\n",
       " 'rxn01986': ['PPM2'],\n",
       " 'rxn01987': ['DRBK', 'DRBKr', 'RBK1_2'],\n",
       " 'rxn01989': ['GLCRD'],\n",
       " 'rxn01990': ['GLCRAL'],\n",
       " 'rxn01993': ['HMSD'],\n",
       " 'rxn01996': ['MME'],\n",
       " 'rxn01997': ['TDPGDH'],\n",
       " 'rxn02000': ['TDPDRE', 'TDPDREi'],\n",
       " 'rxn02003': ['TDPDRR'],\n",
       " 'rxn02004': ['TPS2', 'TRE6PP'],\n",
       " 'rxn02005': ['TREpts'],\n",
       " 'rxn02007': ['2INSD', 'R05659'],\n",
       " 'rxn02008': ['UAMAGS'],\n",
       " 'rxn02009': ['UAAGLS1', 'UAAGLS2'],\n",
       " 'rxn02011': ['UAAGDS'],\n",
       " 'rxn02028': ['BHMT', 'GLYBTM'],\n",
       " 'rxn02046': ['PSP_D'],\n",
       " 'rxn02056': ['SHCHF'],\n",
       " 'rxn02061': ['SPE4', 'SPRMS', 'SPRS'],\n",
       " 'rxn02062': ['ERG9_2'],\n",
       " 'rxn02063': ['ERG1', 'SQLEer'],\n",
       " 'rxn02085': ['URCN'],\n",
       " 'rxn02092': ['SORD_D'],\n",
       " 'rxn02093': ['MELTGH', 'YBR184W_7'],\n",
       " 'rxn02102': ['URDGLYCD', 'URGDH'],\n",
       " 'rxn02104': ['OXAMTC'],\n",
       " 'rxn02112': ['BTDD-RR'],\n",
       " 'rxn02122': ['ALDD32'],\n",
       " 'rxn02128': ['PTHKr'],\n",
       " 'rxn02129': ['PNCDC'],\n",
       " 'rxn02130': ['PNTEH'],\n",
       " 'rxn02133': ['LCB4_1', 'LCB5_1', 'SLCBK1'],\n",
       " 'rxn02134': ['3DSPHR', 'TSC10'],\n",
       " 'rxn02143': ['3OADPCOAT', 'PCAIJ'],\n",
       " 'rxn02144': ['OXOAEL', 'PCAD'],\n",
       " 'rxn02155': ['NNAT', 'NNATr', 'YLR328W_1'],\n",
       " 'rxn02160': ['HIS2', 'HISTP'],\n",
       " 'rxn02161': ['RMK'],\n",
       " 'rxn02167': ['ECOAH1'],\n",
       " 'rxn02173': ['GALCTND'],\n",
       " 'rxn02175': ['PTPAT', 'PTPATi', 'U94'],\n",
       " 'rxn02190': ['DHPM2'],\n",
       " 'rxn02199': ['CLAT'],\n",
       " 'rxn02200': ['DHPS'],\n",
       " 'rxn02201': ['DHPS2', 'DHPS2FOLD3', 'FOLD3', 'FOLDm'],\n",
       " 'rxn02209': ['LCARR'],\n",
       " 'rxn02212': ['ARO1_1', 'DHQS'],\n",
       " 'rxn02213': ['ARO1_2', 'DHQD', 'DHQD1', 'DHQTi'],\n",
       " 'rxn02219': ['NIT2_1'],\n",
       " 'rxn02222': ['AMD2_3'],\n",
       " 'rxn02226': ['AASAD3'],\n",
       " 'rxn02230': ['MCPST', 'MCPSTr'],\n",
       " 'rxn02246': ['CYSS2', 'SLCYSS'],\n",
       " 'rxn02263': ['FCI'],\n",
       " 'rxn02264': ['HEM4', 'UPP3S'],\n",
       " 'rxn02270': ['2MBCOAD', 'ACOAD10', 'ACOADH1'],\n",
       " 'rxn02273': ['GDBTALDH'],\n",
       " 'rxn02275': ['AMD2_1', 'YMR293C'],\n",
       " 'rxn02276': ['MACACI', 'MLACI', 'U59'],\n",
       " 'rxn02277': ['BIO4', 'DBTS', 'DBTSr'],\n",
       " 'rxn02285': ['UAPGR'],\n",
       " 'rxn02286': ['UAMAS'],\n",
       " 'rxn02287': ['UPP3MT'],\n",
       " 'rxn02288': ['UPPDC1'],\n",
       " 'rxn02290': ['ERG7', 'LNSTLS'],\n",
       " 'rxn02296': ['CHCOAL'],\n",
       " 'rxn02297': ['AOXS', 'AOXSir', 'AOXSr', 'U86'],\n",
       " 'rxn02302': ['METB1', 'METB1r', 'SHSL5'],\n",
       " 'rxn02303': ['CPPPGO'],\n",
       " 'rxn02305': ['THI6_2', 'TMPPP'],\n",
       " 'rxn02312': ['AMAOT', 'AMAOTr', 'BIO3'],\n",
       " 'rxn02318': ['GAL6PI'],\n",
       " 'rxn02319': ['FCLK'],\n",
       " 'rxn02320': ['HIS5', 'HSTPT', 'HSTPTr'],\n",
       " 'rxn02321': ['X5PL3E'],\n",
       " 'rxn02322': ['ERG8', 'PMEVK'],\n",
       " 'rxn02331': ['KDOPS'],\n",
       " 'rxn02341': ['PPCDC', 'U93'],\n",
       " 'rxn02356': ['HPROa', 'HPROx', 'PRO3_3'],\n",
       " 'rxn02358': ['HPROb', 'PRO3_2'],\n",
       " 'rxn02362': ['CDPGS'],\n",
       " 'rxn02366': ['DHPDO', 'HMPCCDO', 'R03303'],\n",
       " 'rxn02369': ['MUCCY-kt', 'PCAB'],\n",
       " 'rxn02373': ['G5SD'],\n",
       " 'rxn02374': ['G5SADr', 'G5SADs', 'G5SADsi'],\n",
       " 'rxn02377': ['UACMAMO'],\n",
       " 'rxn02380': ['G6PI2'],\n",
       " 'rxn02402': ['NNDPR', 'QPT1_1'],\n",
       " 'rxn02404': ['KDOPP'],\n",
       " 'rxn02405': ['DMOCT', 'KDOCT', 'KDOCT2'],\n",
       " 'rxn02406': ['3HIBUTCOAH'],\n",
       " 'rxn02429': ['DDGALK'],\n",
       " 'rxn02432': ['CDPDDGR'],\n",
       " 'rxn02440': ['GDPMR'],\n",
       " 'rxn02449': ['EPPP2', 'GDPT', 'GTPDPDP'],\n",
       " 'rxn02465': ['AGPR'],\n",
       " 'rxn02473': ['IGPDH'],\n",
       " 'rxn02474': ['APRAUR', 'RIB7_2'],\n",
       " 'rxn02475': ['RIB7_1'],\n",
       " 'rxn02476': ['ARO1_5', 'PSCVT', 'PSCVTi'],\n",
       " 'rxn02483': ['4CMLCL-kt', 'CMLDC', 'PCAC'],\n",
       " 'rxn02484': ['HMPK1', 'THI20_1', 'THI21', 'THI22'],\n",
       " 'rxn02504': ['DHNPA'],\n",
       " 'rxn02508': ['PRAI', 'PRAIi', 'TRP1'],\n",
       " 'rxn02518': ['NTPP10'],\n",
       " 'rxn02521': ['23CN2P1'],\n",
       " 'rxn02522': ['23CN2P2'],\n",
       " 'rxn02523': ['MALMDA'],\n",
       " 'rxn02552': ['ALLK'],\n",
       " 'rxn02569': ['SELNPS', 'SELNPSr'],\n",
       " 'rxn02596': ['GALS4'],\n",
       " 'rxn02666': ['AOBUTDs'],\n",
       " 'rxn02679': ['ACOAD3f'],\n",
       " 'rxn02680': ['ACACT4r', 'KAT4'],\n",
       " 'rxn02720': ['ACOAD5f'],\n",
       " 'rxn02729': ['ALDD4x'],\n",
       " 'rxn02733': ['MPML'],\n",
       " 'rxn02744': ['AM6SAD', 'U55'],\n",
       " 'rxn02748': ['3MOPDC'],\n",
       " 'rxn02762': ['23CN2P3'],\n",
       " 'rxn02774': ['SHCHD2'],\n",
       " 'rxn02775': ['PC20M'],\n",
       " 'rxn02782': ['CATB'],\n",
       " 'rxn02788': ['4OT'],\n",
       " 'rxn02789': ['IPPMIb', 'LEU1_2'],\n",
       " 'rxn02803': ['ACOAD6f'],\n",
       " 'rxn02804': ['ACACT7r', 'KAT7'],\n",
       " 'rxn02811': ['IPPMIa'],\n",
       " 'rxn02831': ['SUCBZL'],\n",
       " 'rxn02834': ['HIS4_1', 'PRATPP'],\n",
       " 'rxn02835': ['HIS4_2', 'PRAMPC'],\n",
       " 'rxn02842': ['2DGLCNDH', 'DGC3D'],\n",
       " 'rxn02853': ['ALDD20x'],\n",
       " 'rxn02861': ['3MCAT23DOX'],\n",
       " 'rxn02866': ['MBCOAi'],\n",
       " 'rxn02875': ['AMAA'],\n",
       " 'rxn02883': ['OHEDH', 'R04132'],\n",
       " 'rxn02885': ['HHDDI', 'R04134'],\n",
       " 'rxn02889': ['MCCC', 'MCCc'],\n",
       " 'rxn02895': ['ADE5_7_1', 'PRAGS', 'PRAGSr'],\n",
       " 'rxn02897': ['NNDMBRT'],\n",
       " 'rxn02898': ['NPHS', 'NPHSr'],\n",
       " 'rxn02900': ['2AEPPNAT', '2AMIPYT'],\n",
       " 'rxn02911': ['ECOAH5'],\n",
       " 'rxn02914': ['PSERT', 'PSERTr', 'SER1_1'],\n",
       " 'rxn02916': ['AOXHEXCYCL'],\n",
       " 'rxn02929': ['DHDPRy'],\n",
       " 'rxn02933': ['3H2MBCOAD', 'HACD8', 'HACD9'],\n",
       " 'rxn02934': ['ECOAH9', 'ECOAH9ir'],\n",
       " 'rxn02937': ['ADE5_7_2', 'PRAIS'],\n",
       " 'rxn02938': ['ADE2', 'AIRCr'],\n",
       " 'rxn02939': ['PERD'],\n",
       " 'rxn02944': ['SOTA'],\n",
       " 'rxn02949': ['ECOAH12', 'ECOAH2c'],\n",
       " 'rxn02950': ['3M2OPLOXRD', 'ODH2i'],\n",
       " 'rxn02971': ['CATC'],\n",
       " 'rxn02986': ['PTHPS'],\n",
       " 'rxn02988': ['QULNS', 'U100'],\n",
       " 'rxn02989': ['QUILSYN'],\n",
       " 'rxn03003': ['PCLAD', 'U54'],\n",
       " 'rxn03004': ['ADE8', 'GARFT', 'GARFTi'],\n",
       " 'rxn03023': ['D5KGK', 'R05661'],\n",
       " 'rxn03030': ['APATi'],\n",
       " 'rxn03031': ['THDPS'],\n",
       " 'rxn03034': ['CHACH'],\n",
       " 'rxn03038': ['HPPPNDO'],\n",
       " 'rxn03040': ['5CMHMISO', 'R04379'],\n",
       " 'rxn03041': ['OPTCCL', 'R04380'],\n",
       " 'rxn03043': ['DKI', 'KDUI'],\n",
       " 'rxn03052': ['MET6', 'MHPGLUT', 'MTHPTGHM', 'MTHPTGHMr'],\n",
       " 'rxn03055': ['5CM2HMSDH', 'CMCMSAD', 'R04418'],\n",
       " 'rxn03060': ['MCITD'],\n",
       " 'rxn03061': ['MICITD', 'MICITDr', 'MICITH'],\n",
       " 'rxn03062': ['IPMD', 'IPMDr'],\n",
       " 'rxn03063': ['ERG6', 'SAM24MT'],\n",
       " 'rxn03066': ['TDPAGTA'],\n",
       " 'rxn03070': ['PHCHGS'],\n",
       " 'rxn03071': ['HP5CD', 'PHCD'],\n",
       " 'rxn03075': ['HETZK', 'THI6_1'],\n",
       " 'rxn03080': ['RIB5'],\n",
       " 'rxn03084': ['ADE6', 'PRFGS'],\n",
       " 'rxn03086': ['APTA1i'],\n",
       " 'rxn03087': ['SDPTA'],\n",
       " 'rxn03091': ['DIPS', 'DPH5'],\n",
       " 'rxn03108': ['PMPK', 'THI20_2'],\n",
       " 'rxn03135': ['IG3PS'],\n",
       " 'rxn03136': ['ADE13_1', 'ADSL2', 'ADSL2r'],\n",
       " 'rxn03137': ['ADE16_1', 'ADE17_1', 'AICART'],\n",
       " 'rxn03140': ['UGLDDS1', 'UGLDDS2'],\n",
       " 'rxn03146': ['UHGADA'],\n",
       " 'rxn03147': ['ADE1', 'PRASCS'],\n",
       " 'rxn03150': ['RBZP', 'RZ5PP'],\n",
       " 'rxn03164': ['UGMDDS'],\n",
       " 'rxn03167': ['AKP1', 'PHO8'],\n",
       " 'rxn03175': ['PRMICI', 'PRMICIi'],\n",
       " 'rxn03181': ['TDSK'],\n",
       " 'rxn03182': ['MOAT'],\n",
       " 'rxn03236': ['4AHD2'],\n",
       " 'rxn03239': ['HACD7', 'HACD7i'],\n",
       " 'rxn03240': ['ECOAH7'],\n",
       " 'rxn03241': ['ECOAH6'],\n",
       " 'rxn03242': ['HACD5', 'HACD5i'],\n",
       " 'rxn03243': ['ACACT5r', 'KAT5'],\n",
       " 'rxn03244': ['HACD4', 'HACD4i'],\n",
       " 'rxn03245': ['ECOAH4'],\n",
       " 'rxn03246': ['HACD3', 'HACD3i'],\n",
       " 'rxn03247': ['ECOAH3'],\n",
       " 'rxn03248': ['ACACT3r', 'KAT3'],\n",
       " 'rxn03249': ['HACD2', 'HACD2i'],\n",
       " 'rxn03250': ['ECOAH2'],\n",
       " 'rxn03251': ['ACOAD2f'],\n",
       " 'rxn03253': ['ACOAD4f'],\n",
       " 'rxn03264': ['SELMETAT'],\n",
       " 'rxn03347': ['R04895'],\n",
       " 'rxn03384': ['UPPDC2'],\n",
       " 'rxn03393': ['OPHBDC'],\n",
       " 'rxn03395': ['OHPHM'],\n",
       " 'rxn03397': ['URFGTT'],\n",
       " 'rxn03398': ['SHCHCS2'],\n",
       " 'rxn03405': ['UAGPT1'],\n",
       " 'rxn03406': ['GLNSP1'],\n",
       " 'rxn03409': ['GLNSP3'],\n",
       " 'rxn03422': ['SGSAD'],\n",
       " 'rxn03423': ['NABTNO'],\n",
       " 'rxn03424': ['_4HGLSD'],\n",
       " 'rxn03433': ['3HBCOAHL', 'HIBHr'],\n",
       " 'rxn03437': ['DHAD2'],\n",
       " 'rxn03439': ['MOAT2'],\n",
       " 'rxn03445': ['OHPBAT', 'SER1_2'],\n",
       " 'rxn03446': ['4HTHRS', 'THR4_2'],\n",
       " 'rxn03483': ['23CN2P4'],\n",
       " 'rxn03486': ['HMSH3'],\n",
       " 'rxn03491': ['PC6YM'],\n",
       " 'rxn03492': ['PC6AR'],\n",
       " 'rxn03512': ['PC8XM'],\n",
       " 'rxn03513': ['PC17M'],\n",
       " 'rxn03514': ['PC11M'],\n",
       " 'rxn03517': ['ALCDkt'],\n",
       " 'rxn03532': ['P3Bs'],\n",
       " 'rxn03534': ['PRE5'],\n",
       " 'rxn03535': ['CYRDAAT'],\n",
       " 'rxn03536': ['ADCOBAK', 'ADOCBIK'],\n",
       " 'rxn03537': ['ACBIPGT'],\n",
       " 'rxn03538': ['ADOCBLS', 'COBPS'],\n",
       " 'rxn03540': ['ADCOBHEXS', 'ADCYRS'],\n",
       " 'rxn03541': ['ADCOBASr'],\n",
       " 'rxn03586': ['VNTDM'],\n",
       " 'rxn03594': ['4MBZALDH'],\n",
       " 'rxn03600': ['PXMO'],\n",
       " 'rxn03602': ['PTOLDOX'],\n",
       " 'rxn03604': ['DH4MCHCDH'],\n",
       " 'rxn03607': ['4MCAT23DOX'],\n",
       " 'rxn03610': ['HOPNTAL2'],\n",
       " 'rxn03620': ['DH3MCHCDH'],\n",
       " 'rxn03630': ['TAUDO'],\n",
       " 'rxn03638': ['G1PACTr'],\n",
       " 'rxn03649': ['3MBZALDH'],\n",
       " 'rxn03654': ['HMSD2'],\n",
       " 'rxn03675': ['4OD2'],\n",
       " 'rxn03690': ['4OT2'],\n",
       " 'rxn03743': ['MXMO'],\n",
       " 'rxn03839': ['AMID5'],\n",
       " 'rxn03840': ['PABB'],\n",
       " 'rxn03841': ['ADCL', 'U88'],\n",
       " 'rxn03856': ['GLTPD'],\n",
       " 'rxn03874': ['3HBUTCOAH'],\n",
       " 'rxn03884': ['EDA'],\n",
       " 'rxn03885': ['MNNH'],\n",
       " 'rxn03887': ['GALCTD'],\n",
       " 'rxn03891': ['HEXTT'],\n",
       " 'rxn03892': ['PPTT'],\n",
       " 'rxn03893': ['HBZOPT'],\n",
       " 'rxn03897': ['BENA', 'BZ12DOX'],\n",
       " 'rxn03900': ['UDCPK'],\n",
       " 'rxn03901': ['UDCPDP'],\n",
       " 'rxn03902': ['PAPPT1'],\n",
       " 'rxn03903': ['PAPPT2'],\n",
       " 'rxn03904': ['PAPPT3'],\n",
       " 'rxn03907': ['MEPCT'],\n",
       " 'rxn03908': ['CDPMEK'],\n",
       " 'rxn03909': ['DXPS'],\n",
       " 'rxn03910': ['MECDPS'],\n",
       " 'rxn03913': ['ERG4'],\n",
       " 'rxn03931': ['DKDID'],\n",
       " 'rxn03933': ['UAGPT2'],\n",
       " 'rxn03936': ['MTOLDOX'],\n",
       " ...}"
      ]
     },
     "execution_count": 5,
     "metadata": {},
     "output_type": "execute_result"
    }
   ],
   "source": [
    "import numpy as np\n",
    "df_seed = modelseed_reac.loc[1:6806, \"MS ID\":'External ID']\n",
    "pivoted_seed = df_seed.pivot_table(columns='MS ID',values='External ID',aggfunc = list)\n",
    "\n",
    "pivoted_seed\n",
    "modelseed_reac_dict = pivoted_seed.to_dict('index')\n",
    "modelseed_reac_dict2 = modelseed_reac_dict['External ID']\n",
    "modelseed_reac_dict2"
   ]
  },
  {
   "cell_type": "code",
   "execution_count": 6,
   "metadata": {},
   "outputs": [
    {
     "ename": "NameError",
     "evalue": "name 'modelseed_met_dict2' is not defined",
     "output_type": "error",
     "traceback": [
      "\u001b[0;31m---------------------------------------------------------------------------\u001b[0m",
      "\u001b[0;31mNameError\u001b[0m                                 Traceback (most recent call last)",
      "\u001b[0;32m<ipython-input-6-045af3e9cdf4>\u001b[0m in \u001b[0;36m<module>\u001b[0;34m()\u001b[0m\n\u001b[1;32m      1\u001b[0m \u001b[0;32mfor\u001b[0m \u001b[0mmet\u001b[0m \u001b[0;32min\u001b[0m \u001b[0mmodel\u001b[0m\u001b[0;34m.\u001b[0m\u001b[0mmetabolites\u001b[0m\u001b[0;34m:\u001b[0m\u001b[0;34m\u001b[0m\u001b[0m\n\u001b[0;32m----> 2\u001b[0;31m      \u001b[0;32mif\u001b[0m \u001b[0mmet\u001b[0m\u001b[0;34m.\u001b[0m\u001b[0mannotation\u001b[0m\u001b[0;34m[\u001b[0m\u001b[0;34m\"seed.compound\"\u001b[0m\u001b[0;34m]\u001b[0m \u001b[0;32min\u001b[0m \u001b[0mmodelseed_met_dict2\u001b[0m\u001b[0;34m.\u001b[0m\u001b[0mkeys\u001b[0m\u001b[0;34m(\u001b[0m\u001b[0;34m)\u001b[0m\u001b[0;34m:\u001b[0m\u001b[0;34m\u001b[0m\u001b[0m\n\u001b[0m\u001b[1;32m      3\u001b[0m         \u001b[0;31m#print(\"modelseed bigg id\", modelseed_met_dict2[met.annotation[\"seed.compound\"]])\u001b[0m\u001b[0;34m\u001b[0m\u001b[0;34m\u001b[0m\u001b[0m\n\u001b[1;32m      4\u001b[0m         \u001b[0;32mif\u001b[0m \u001b[0;34m\"bigg.metabolite\"\u001b[0m \u001b[0;32min\u001b[0m \u001b[0mmet\u001b[0m\u001b[0;34m.\u001b[0m\u001b[0mannotation\u001b[0m \u001b[0;32mand\u001b[0m \u001b[0mmet\u001b[0m\u001b[0;34m.\u001b[0m\u001b[0mannotation\u001b[0m\u001b[0;34m[\u001b[0m\u001b[0;34m\"bigg.metabolite\"\u001b[0m\u001b[0;34m]\u001b[0m \u001b[0;32min\u001b[0m \u001b[0mmodelseed_met_dict2\u001b[0m\u001b[0;34m[\u001b[0m\u001b[0mmet\u001b[0m\u001b[0;34m.\u001b[0m\u001b[0mannotation\u001b[0m\u001b[0;34m[\u001b[0m\u001b[0;34m\"seed.compound\"\u001b[0m\u001b[0;34m]\u001b[0m\u001b[0;34m]\u001b[0m\u001b[0;34m:\u001b[0m\u001b[0;34m\u001b[0m\u001b[0m\n\u001b[1;32m      5\u001b[0m             \u001b[0mprint\u001b[0m\u001b[0;34m(\u001b[0m\u001b[0;34m\"bigg annotation\"\u001b[0m\u001b[0;34m,\u001b[0m \u001b[0mmet\u001b[0m\u001b[0;34m.\u001b[0m\u001b[0mannotation\u001b[0m\u001b[0;34m[\u001b[0m\u001b[0;34m\"bigg.metabolite\"\u001b[0m\u001b[0;34m]\u001b[0m\u001b[0;34m)\u001b[0m\u001b[0;34m\u001b[0m\u001b[0m\n",
      "\u001b[0;31mNameError\u001b[0m: name 'modelseed_met_dict2' is not defined"
     ]
    }
   ],
   "source": [
    "for met in model.metabolites: \n",
    "     if met.annotation[\"seed.compound\"] in modelseed_met_dict2.keys():\n",
    "        #print(\"modelseed bigg id\", modelseed_met_dict2[met.annotation[\"seed.compound\"]])\n",
    "        if \"bigg.metabolite\" in met.annotation and met.annotation[\"bigg.metabolite\"] in modelseed_met_dict2[met.annotation[\"seed.compound\"]]:\n",
    "            print(\"bigg annotation\", met.annotation[\"bigg.metabolite\"])\n",
    "        else:\n",
    "            print(met.id, met.annotation, modelseed_met_dict2[met.annotation[\"seed.compound\"]])"
   ]
  },
  {
   "cell_type": "code",
   "execution_count": 7,
   "metadata": {},
   "outputs": [
    {
     "data": {
      "text/plain": [
       "'FAS1_6_c'"
      ]
     },
     "execution_count": 7,
     "metadata": {},
     "output_type": "execute_result"
    },
    {
     "data": {
      "text/plain": [
       "'HEPTT'"
      ]
     },
     "execution_count": 7,
     "metadata": {},
     "output_type": "execute_result"
    },
    {
     "data": {
      "text/plain": [
       "'PDX5PS2'"
      ]
     },
     "execution_count": 7,
     "metadata": {},
     "output_type": "execute_result"
    },
    {
     "data": {
      "text/plain": [
       "'AMPEP13'"
      ]
     },
     "execution_count": 7,
     "metadata": {},
     "output_type": "execute_result"
    },
    {
     "data": {
      "text/plain": [
       "'PFK'"
      ]
     },
     "execution_count": 7,
     "metadata": {},
     "output_type": "execute_result"
    },
    {
     "data": {
      "text/plain": [
       "'LPLIPAL1E161pp'"
      ]
     },
     "execution_count": 7,
     "metadata": {},
     "output_type": "execute_result"
    },
    {
     "data": {
      "text/plain": [
       "'DHNPA'"
      ]
     },
     "execution_count": 7,
     "metadata": {},
     "output_type": "execute_result"
    },
    {
     "data": {
      "text/plain": [
       "'AGPAT140'"
      ]
     },
     "execution_count": 7,
     "metadata": {},
     "output_type": "execute_result"
    },
    {
     "data": {
      "text/plain": [
       "'CDPGHL'"
      ]
     },
     "execution_count": 7,
     "metadata": {},
     "output_type": "execute_result"
    },
    {
     "data": {
      "text/plain": [
       "'LPLIPAL2A120'"
      ]
     },
     "execution_count": 7,
     "metadata": {},
     "output_type": "execute_result"
    },
    {
     "data": {
      "text/plain": [
       "'DAGK141'"
      ]
     },
     "execution_count": 7,
     "metadata": {},
     "output_type": "execute_result"
    },
    {
     "data": {
      "text/plain": [
       "'FCY1'"
      ]
     },
     "execution_count": 7,
     "metadata": {},
     "output_type": "execute_result"
    },
    {
     "data": {
      "text/plain": [
       "'LPLIPAL1A120pp'"
      ]
     },
     "execution_count": 7,
     "metadata": {},
     "output_type": "execute_result"
    },
    {
     "data": {
      "text/plain": [
       "'PDX3_1'"
      ]
     },
     "execution_count": 7,
     "metadata": {},
     "output_type": "execute_result"
    },
    {
     "data": {
      "text/plain": [
       "'LPLIPAL2A181'"
      ]
     },
     "execution_count": 7,
     "metadata": {},
     "output_type": "execute_result"
    },
    {
     "data": {
      "text/plain": [
       "'3OAS60'"
      ]
     },
     "execution_count": 7,
     "metadata": {},
     "output_type": "execute_result"
    },
    {
     "data": {
      "text/plain": [
       "'ACACT3r'"
      ]
     },
     "execution_count": 7,
     "metadata": {},
     "output_type": "execute_result"
    },
    {
     "data": {
      "text/plain": [
       "'CD2abc1'"
      ]
     },
     "execution_count": 7,
     "metadata": {},
     "output_type": "execute_result"
    },
    {
     "data": {
      "text/plain": [
       "'PSSA140'"
      ]
     },
     "execution_count": 7,
     "metadata": {},
     "output_type": "execute_result"
    },
    {
     "data": {
      "text/plain": [
       "'CBL1abc'"
      ]
     },
     "execution_count": 7,
     "metadata": {},
     "output_type": "execute_result"
    },
    {
     "data": {
      "text/plain": [
       "'PSSA161'"
      ]
     },
     "execution_count": 7,
     "metadata": {},
     "output_type": "execute_result"
    },
    {
     "data": {
      "text/plain": [
       "'MEAMP1(ala-gly)'"
      ]
     },
     "execution_count": 7,
     "metadata": {},
     "output_type": "execute_result"
    },
    {
     "data": {
      "text/plain": [
       "'3OAS80'"
      ]
     },
     "execution_count": 7,
     "metadata": {},
     "output_type": "execute_result"
    },
    {
     "data": {
      "text/plain": [
       "'PSD140'"
      ]
     },
     "execution_count": 7,
     "metadata": {},
     "output_type": "execute_result"
    },
    {
     "data": {
      "text/plain": [
       "'LPLIPAL2E120'"
      ]
     },
     "execution_count": 7,
     "metadata": {},
     "output_type": "execute_result"
    },
    {
     "data": {
      "text/plain": [
       "'NADH9'"
      ]
     },
     "execution_count": 7,
     "metadata": {},
     "output_type": "execute_result"
    },
    {
     "data": {
      "text/plain": [
       "'PAPPT2'"
      ]
     },
     "execution_count": 7,
     "metadata": {},
     "output_type": "execute_result"
    },
    {
     "data": {
      "text/plain": [
       "'DCD1_1'"
      ]
     },
     "execution_count": 7,
     "metadata": {},
     "output_type": "execute_result"
    },
    {
     "data": {
      "text/plain": [
       "'SPONT1'"
      ]
     },
     "execution_count": 7,
     "metadata": {},
     "output_type": "execute_result"
    },
    {
     "data": {
      "text/plain": [
       "'DDMAT5'"
      ]
     },
     "execution_count": 7,
     "metadata": {},
     "output_type": "execute_result"
    },
    {
     "data": {
      "text/plain": [
       "'CYRDAAT'"
      ]
     },
     "execution_count": 7,
     "metadata": {},
     "output_type": "execute_result"
    },
    {
     "data": {
      "text/plain": [
       "'FRUK_r'"
      ]
     },
     "execution_count": 7,
     "metadata": {},
     "output_type": "execute_result"
    },
    {
     "data": {
      "text/plain": [
       "'LPLIPAL1A181pp'"
      ]
     },
     "execution_count": 7,
     "metadata": {},
     "output_type": "execute_result"
    },
    {
     "data": {
      "text/plain": [
       "'LPLIPAL1E181pp'"
      ]
     },
     "execution_count": 7,
     "metadata": {},
     "output_type": "execute_result"
    },
    {
     "data": {
      "text/plain": [
       "'FBP'"
      ]
     },
     "execution_count": 7,
     "metadata": {},
     "output_type": "execute_result"
    },
    {
     "data": {
      "text/plain": [
       "'THPDH'"
      ]
     },
     "execution_count": 7,
     "metadata": {},
     "output_type": "execute_result"
    },
    {
     "data": {
      "text/plain": [
       "'ADE2'"
      ]
     },
     "execution_count": 7,
     "metadata": {},
     "output_type": "execute_result"
    },
    {
     "data": {
      "text/plain": [
       "'MEAMP1(gly-pro-L)'"
      ]
     },
     "execution_count": 7,
     "metadata": {},
     "output_type": "execute_result"
    },
    {
     "data": {
      "text/plain": [
       "'AGPAT120'"
      ]
     },
     "execution_count": 7,
     "metadata": {},
     "output_type": "execute_result"
    },
    {
     "data": {
      "text/plain": [
       "'LPLIPAL1G161pp'"
      ]
     },
     "execution_count": 7,
     "metadata": {},
     "output_type": "execute_result"
    },
    {
     "data": {
      "text/plain": [
       "'LPLIPAL2G120'"
      ]
     },
     "execution_count": 7,
     "metadata": {},
     "output_type": "execute_result"
    },
    {
     "data": {
      "text/plain": [
       "'ARAI'"
      ]
     },
     "execution_count": 7,
     "metadata": {},
     "output_type": "execute_result"
    },
    {
     "data": {
      "text/plain": [
       "'G6PI2'"
      ]
     },
     "execution_count": 7,
     "metadata": {},
     "output_type": "execute_result"
    },
    {
     "data": {
      "text/plain": [
       "'D5KGK'"
      ]
     },
     "execution_count": 7,
     "metadata": {},
     "output_type": "execute_result"
    },
    {
     "data": {
      "text/plain": [
       "'PALDP'"
      ]
     },
     "execution_count": 7,
     "metadata": {},
     "output_type": "execute_result"
    },
    {
     "data": {
      "text/plain": [
       "'G3PAT180'"
      ]
     },
     "execution_count": 7,
     "metadata": {},
     "output_type": "execute_result"
    },
    {
     "data": {
      "text/plain": [
       "'3OAS120'"
      ]
     },
     "execution_count": 7,
     "metadata": {},
     "output_type": "execute_result"
    },
    {
     "data": {
      "text/plain": [
       "'MGCH'"
      ]
     },
     "execution_count": 7,
     "metadata": {},
     "output_type": "execute_result"
    },
    {
     "data": {
      "text/plain": [
       "'FAS1_7_c'"
      ]
     },
     "execution_count": 7,
     "metadata": {},
     "output_type": "execute_result"
    },
    {
     "data": {
      "text/plain": [
       "'DAGK181'"
      ]
     },
     "execution_count": 7,
     "metadata": {},
     "output_type": "execute_result"
    },
    {
     "data": {
      "text/plain": [
       "'DAGK160'"
      ]
     },
     "execution_count": 7,
     "metadata": {},
     "output_type": "execute_result"
    },
    {
     "data": {
      "text/plain": [
       "'PGSA181'"
      ]
     },
     "execution_count": 7,
     "metadata": {},
     "output_type": "execute_result"
    },
    {
     "data": {
      "text/plain": [
       "'U56'"
      ]
     },
     "execution_count": 7,
     "metadata": {},
     "output_type": "execute_result"
    },
    {
     "data": {
      "text/plain": [
       "'CATB'"
      ]
     },
     "execution_count": 7,
     "metadata": {},
     "output_type": "execute_result"
    },
    {
     "data": {
      "text/plain": [
       "'3OAS140'"
      ]
     },
     "execution_count": 7,
     "metadata": {},
     "output_type": "execute_result"
    },
    {
     "data": {
      "text/plain": [
       "'UAG4E'"
      ]
     },
     "execution_count": 7,
     "metadata": {},
     "output_type": "execute_result"
    },
    {
     "data": {
      "text/plain": [
       "'LPLIPAL2E181'"
      ]
     },
     "execution_count": 7,
     "metadata": {},
     "output_type": "execute_result"
    },
    {
     "data": {
      "text/plain": [
       "'CYTDK3'"
      ]
     },
     "execution_count": 7,
     "metadata": {},
     "output_type": "execute_result"
    },
    {
     "data": {
      "text/plain": [
       "'MEAMP1(gly-gln)'"
      ]
     },
     "execution_count": 7,
     "metadata": {},
     "output_type": "execute_result"
    },
    {
     "data": {
      "text/plain": [
       "'LPLIPAL2E140'"
      ]
     },
     "execution_count": 7,
     "metadata": {},
     "output_type": "execute_result"
    },
    {
     "data": {
      "text/plain": [
       "'HMGCOAS'"
      ]
     },
     "execution_count": 7,
     "metadata": {},
     "output_type": "execute_result"
    },
    {
     "data": {
      "text/plain": [
       "'PHE4MO'"
      ]
     },
     "execution_count": 7,
     "metadata": {},
     "output_type": "execute_result"
    },
    {
     "data": {
      "text/plain": [
       "'GF6PTA'"
      ]
     },
     "execution_count": 7,
     "metadata": {},
     "output_type": "execute_result"
    },
    {
     "data": {
      "text/plain": [
       "'MEAMP1(ala-thr)'"
      ]
     },
     "execution_count": 7,
     "metadata": {},
     "output_type": "execute_result"
    },
    {
     "data": {
      "text/plain": [
       "'DEMAT4'"
      ]
     },
     "execution_count": 7,
     "metadata": {},
     "output_type": "execute_result"
    },
    {
     "data": {
      "text/plain": [
       "'PFK(adp)'"
      ]
     },
     "execution_count": 7,
     "metadata": {},
     "output_type": "execute_result"
    },
    {
     "data": {
      "text/plain": [
       "'AGPAT160'"
      ]
     },
     "execution_count": 7,
     "metadata": {},
     "output_type": "execute_result"
    },
    {
     "data": {
      "text/plain": [
       "'NADH8'"
      ]
     },
     "execution_count": 7,
     "metadata": {},
     "output_type": "execute_result"
    },
    {
     "data": {
      "text/plain": [
       "'BTDD-RR'"
      ]
     },
     "execution_count": 7,
     "metadata": {},
     "output_type": "execute_result"
    },
    {
     "data": {
      "text/plain": [
       "'DGLCND'"
      ]
     },
     "execution_count": 7,
     "metadata": {},
     "output_type": "execute_result"
    },
    {
     "data": {
      "text/plain": [
       "'COPRECI'"
      ]
     },
     "execution_count": 7,
     "metadata": {},
     "output_type": "execute_result"
    },
    {
     "data": {
      "text/plain": [
       "'GLCS1'"
      ]
     },
     "execution_count": 7,
     "metadata": {},
     "output_type": "execute_result"
    },
    {
     "data": {
      "text/plain": [
       "'LPLIPAL1G180pp'"
      ]
     },
     "execution_count": 7,
     "metadata": {},
     "output_type": "execute_result"
    },
    {
     "data": {
      "text/plain": [
       "'LPLIPAL1A141pp'"
      ]
     },
     "execution_count": 7,
     "metadata": {},
     "output_type": "execute_result"
    },
    {
     "data": {
      "text/plain": [
       "'BET2'"
      ]
     },
     "execution_count": 7,
     "metadata": {},
     "output_type": "execute_result"
    },
    {
     "data": {
      "text/plain": [
       "'LPLIPAL2A161'"
      ]
     },
     "execution_count": 7,
     "metadata": {},
     "output_type": "execute_result"
    },
    {
     "data": {
      "text/plain": [
       "'SOD'"
      ]
     },
     "execution_count": 7,
     "metadata": {},
     "output_type": "execute_result"
    },
    {
     "data": {
      "text/plain": [
       "'GLK1_3'"
      ]
     },
     "execution_count": 7,
     "metadata": {},
     "output_type": "execute_result"
    },
    {
     "data": {
      "text/plain": [
       "'G3PAT120'"
      ]
     },
     "execution_count": 7,
     "metadata": {},
     "output_type": "execute_result"
    },
    {
     "data": {
      "text/plain": [
       "'VPAMT'"
      ]
     },
     "execution_count": 7,
     "metadata": {},
     "output_type": "execute_result"
    },
    {
     "data": {
      "text/plain": [
       "'PPPNDO'"
      ]
     },
     "execution_count": 7,
     "metadata": {},
     "output_type": "execute_result"
    },
    {
     "data": {
      "text/plain": [
       "'MEAMP1(ala-gln)'"
      ]
     },
     "execution_count": 7,
     "metadata": {},
     "output_type": "execute_result"
    },
    {
     "data": {
      "text/plain": [
       "'BUTCT'"
      ]
     },
     "execution_count": 7,
     "metadata": {},
     "output_type": "execute_result"
    },
    {
     "data": {
      "text/plain": [
       "'MEAMP1(ala-leu)'"
      ]
     },
     "execution_count": 7,
     "metadata": {},
     "output_type": "execute_result"
    },
    {
     "data": {
      "text/plain": [
       "'PSD120'"
      ]
     },
     "execution_count": 7,
     "metadata": {},
     "output_type": "execute_result"
    },
    {
     "data": {
      "text/plain": [
       "'HEMEOSm'"
      ]
     },
     "execution_count": 7,
     "metadata": {},
     "output_type": "execute_result"
    },
    {
     "data": {
      "text/plain": [
       "'AMPEP10'"
      ]
     },
     "execution_count": 7,
     "metadata": {},
     "output_type": "execute_result"
    },
    {
     "data": {
      "text/plain": [
       "'BTMAT1'"
      ]
     },
     "execution_count": 7,
     "metadata": {},
     "output_type": "execute_result"
    },
    {
     "data": {
      "text/plain": [
       "'LPLIPAL1E140pp'"
      ]
     },
     "execution_count": 7,
     "metadata": {},
     "output_type": "execute_result"
    },
    {
     "data": {
      "text/plain": [
       "'ACNPLYSr'"
      ]
     },
     "execution_count": 7,
     "metadata": {},
     "output_type": "execute_result"
    },
    {
     "data": {
      "text/plain": [
       "'UAAGDS'"
      ]
     },
     "execution_count": 7,
     "metadata": {},
     "output_type": "execute_result"
    },
    {
     "data": {
      "text/plain": [
       "'FRD3'"
      ]
     },
     "execution_count": 7,
     "metadata": {},
     "output_type": "execute_result"
    },
    {
     "data": {
      "text/plain": [
       "'PSSA120'"
      ]
     },
     "execution_count": 7,
     "metadata": {},
     "output_type": "execute_result"
    },
    {
     "data": {
      "text/plain": [
       "'PSD161'"
      ]
     },
     "execution_count": 7,
     "metadata": {},
     "output_type": "execute_result"
    },
    {
     "data": {
      "text/plain": [
       "'LPLIPAL2G180'"
      ]
     },
     "execution_count": 7,
     "metadata": {},
     "output_type": "execute_result"
    },
    {
     "data": {
      "text/plain": [
       "'RBKr'"
      ]
     },
     "execution_count": 7,
     "metadata": {},
     "output_type": "execute_result"
    },
    {
     "data": {
      "text/plain": [
       "'PGPP141pp'"
      ]
     },
     "execution_count": 7,
     "metadata": {},
     "output_type": "execute_result"
    },
    {
     "data": {
      "text/plain": [
       "'LPLIPAL1G141pp'"
      ]
     },
     "execution_count": 7,
     "metadata": {},
     "output_type": "execute_result"
    },
    {
     "data": {
      "text/plain": [
       "'M1PD'"
      ]
     },
     "execution_count": 7,
     "metadata": {},
     "output_type": "execute_result"
    },
    {
     "data": {
      "text/plain": [
       "'AGPAT141'"
      ]
     },
     "execution_count": 7,
     "metadata": {},
     "output_type": "execute_result"
    },
    {
     "data": {
      "text/plain": [
       "'R08503'"
      ]
     },
     "execution_count": 7,
     "metadata": {},
     "output_type": "execute_result"
    },
    {
     "data": {
      "text/plain": [
       "'PACCOALr'"
      ]
     },
     "execution_count": 7,
     "metadata": {},
     "output_type": "execute_result"
    },
    {
     "data": {
      "text/plain": [
       "'ARBabc'"
      ]
     },
     "execution_count": 7,
     "metadata": {},
     "output_type": "execute_result"
    },
    {
     "data": {
      "text/plain": [
       "'LPLIPAL2G141'"
      ]
     },
     "execution_count": 7,
     "metadata": {},
     "output_type": "execute_result"
    },
    {
     "data": {
      "text/plain": [
       "'DAGK180'"
      ]
     },
     "execution_count": 7,
     "metadata": {},
     "output_type": "execute_result"
    },
    {
     "data": {
      "text/plain": [
       "'L-LACD'"
      ]
     },
     "execution_count": 7,
     "metadata": {},
     "output_type": "execute_result"
    },
    {
     "data": {
      "text/plain": [
       "'G3PAT140'"
      ]
     },
     "execution_count": 7,
     "metadata": {},
     "output_type": "execute_result"
    },
    {
     "data": {
      "text/plain": [
       "'GPT2_2'"
      ]
     },
     "execution_count": 7,
     "metadata": {},
     "output_type": "execute_result"
    },
    {
     "data": {
      "text/plain": [
       "'DHPPD'"
      ]
     },
     "execution_count": 7,
     "metadata": {},
     "output_type": "execute_result"
    },
    {
     "data": {
      "text/plain": [
       "'MEAMP1(ala-glu)'"
      ]
     },
     "execution_count": 7,
     "metadata": {},
     "output_type": "execute_result"
    },
    {
     "data": {
      "text/plain": [
       "'FA80ACPHi'"
      ]
     },
     "execution_count": 7,
     "metadata": {},
     "output_type": "execute_result"
    },
    {
     "data": {
      "text/plain": [
       "'ACOAD4'"
      ]
     },
     "execution_count": 7,
     "metadata": {},
     "output_type": "execute_result"
    },
    {
     "data": {
      "text/plain": [
       "'FACOAL161'"
      ]
     },
     "execution_count": 7,
     "metadata": {},
     "output_type": "execute_result"
    },
    {
     "data": {
      "text/plain": [
       "'DHPR'"
      ]
     },
     "execution_count": 7,
     "metadata": {},
     "output_type": "execute_result"
    },
    {
     "data": {
      "text/plain": [
       "'LPLIPAL2G140'"
      ]
     },
     "execution_count": 7,
     "metadata": {},
     "output_type": "execute_result"
    },
    {
     "data": {
      "text/plain": [
       "'DHAD2'"
      ]
     },
     "execution_count": 7,
     "metadata": {},
     "output_type": "execute_result"
    },
    {
     "data": {
      "text/plain": [
       "'MEAMP1(ala-asp)'"
      ]
     },
     "execution_count": 7,
     "metadata": {},
     "output_type": "execute_result"
    },
    {
     "data": {
      "text/plain": [
       "'ADPRDP'"
      ]
     },
     "execution_count": 7,
     "metadata": {},
     "output_type": "execute_result"
    },
    {
     "data": {
      "text/plain": [
       "'HEX7'"
      ]
     },
     "execution_count": 7,
     "metadata": {},
     "output_type": "execute_result"
    },
    {
     "data": {
      "text/plain": [
       "'EAR80x'"
      ]
     },
     "execution_count": 7,
     "metadata": {},
     "output_type": "execute_result"
    },
    {
     "data": {
      "text/plain": [
       "'LPLIPAL1E120pp'"
      ]
     },
     "execution_count": 7,
     "metadata": {},
     "output_type": "execute_result"
    },
    {
     "data": {
      "text/plain": [
       "'AGPAT181'"
      ]
     },
     "execution_count": 7,
     "metadata": {},
     "output_type": "execute_result"
    },
    {
     "data": {
      "text/plain": [
       "'COCHL'"
      ]
     },
     "execution_count": 7,
     "metadata": {},
     "output_type": "execute_result"
    },
    {
     "data": {
      "text/plain": [
       "'MCSNAH1r'"
      ]
     },
     "execution_count": 7,
     "metadata": {},
     "output_type": "execute_result"
    },
    {
     "data": {
      "text/plain": [
       "'LPLIPAL2G181'"
      ]
     },
     "execution_count": 7,
     "metadata": {},
     "output_type": "execute_result"
    },
    {
     "data": {
      "text/plain": [
       "'PGPP140pp'"
      ]
     },
     "execution_count": 7,
     "metadata": {},
     "output_type": "execute_result"
    },
    {
     "data": {
      "text/plain": [
       "'G3PAT181'"
      ]
     },
     "execution_count": 7,
     "metadata": {},
     "output_type": "execute_result"
    },
    {
     "data": {
      "text/plain": [
       "'RIB7_1'"
      ]
     },
     "execution_count": 7,
     "metadata": {},
     "output_type": "execute_result"
    },
    {
     "data": {
      "text/plain": [
       "'HBUR1'"
      ]
     },
     "execution_count": 7,
     "metadata": {},
     "output_type": "execute_result"
    },
    {
     "data": {
      "text/plain": [
       "'LPLIPAL1G160pp'"
      ]
     },
     "execution_count": 7,
     "metadata": {},
     "output_type": "execute_result"
    },
    {
     "data": {
      "text/plain": [
       "'NODOx'"
      ]
     },
     "execution_count": 7,
     "metadata": {},
     "output_type": "execute_result"
    },
    {
     "data": {
      "text/plain": [
       "'CATC'"
      ]
     },
     "execution_count": 7,
     "metadata": {},
     "output_type": "execute_result"
    },
    {
     "data": {
      "text/plain": [
       "'BLACT'"
      ]
     },
     "execution_count": 7,
     "metadata": {},
     "output_type": "execute_result"
    },
    {
     "data": {
      "text/plain": [
       "'URA7_2'"
      ]
     },
     "execution_count": 7,
     "metadata": {},
     "output_type": "execute_result"
    },
    {
     "data": {
      "text/plain": [
       "'PGSA141'"
      ]
     },
     "execution_count": 7,
     "metadata": {},
     "output_type": "execute_result"
    },
    {
     "data": {
      "text/plain": [
       "'DMOCT'"
      ]
     },
     "execution_count": 7,
     "metadata": {},
     "output_type": "execute_result"
    },
    {
     "data": {
      "text/plain": [
       "'DHPS'"
      ]
     },
     "execution_count": 7,
     "metadata": {},
     "output_type": "execute_result"
    },
    {
     "data": {
      "text/plain": [
       "'FCI'"
      ]
     },
     "execution_count": 7,
     "metadata": {},
     "output_type": "execute_result"
    },
    {
     "data": {
      "text/plain": [
       "'ACACT5r'"
      ]
     },
     "execution_count": 7,
     "metadata": {},
     "output_type": "execute_result"
    },
    {
     "data": {
      "text/plain": [
       "'UREA2'"
      ]
     },
     "execution_count": 7,
     "metadata": {},
     "output_type": "execute_result"
    },
    {
     "data": {
      "text/plain": [
       "'CBIAT'"
      ]
     },
     "execution_count": 7,
     "metadata": {},
     "output_type": "execute_result"
    },
    {
     "data": {
      "text/plain": [
       "'LPLIPAL2G160'"
      ]
     },
     "execution_count": 7,
     "metadata": {},
     "output_type": "execute_result"
    },
    {
     "data": {
      "text/plain": [
       "'LPLIPAL2E141'"
      ]
     },
     "execution_count": 7,
     "metadata": {},
     "output_type": "execute_result"
    },
    {
     "data": {
      "text/plain": [
       "'HPDOAi'"
      ]
     },
     "execution_count": 7,
     "metadata": {},
     "output_type": "execute_result"
    },
    {
     "data": {
      "text/plain": [
       "'GAL6PI'"
      ]
     },
     "execution_count": 7,
     "metadata": {},
     "output_type": "execute_result"
    },
    {
     "data": {
      "text/plain": [
       "'LPLIPAL1E160pp'"
      ]
     },
     "execution_count": 7,
     "metadata": {},
     "output_type": "execute_result"
    },
    {
     "data": {
      "text/plain": [
       "'TTDCAt2'"
      ]
     },
     "execution_count": 7,
     "metadata": {},
     "output_type": "execute_result"
    },
    {
     "data": {
      "text/plain": [
       "'TMAOR2e'"
      ]
     },
     "execution_count": 7,
     "metadata": {},
     "output_type": "execute_result"
    },
    {
     "data": {
      "text/plain": [
       "'ACCOAL'"
      ]
     },
     "execution_count": 7,
     "metadata": {},
     "output_type": "execute_result"
    },
    {
     "data": {
      "text/plain": [
       "'PGPP120pp'"
      ]
     },
     "execution_count": 7,
     "metadata": {},
     "output_type": "execute_result"
    },
    {
     "data": {
      "text/plain": [
       "'ADE5_7_2'"
      ]
     },
     "execution_count": 7,
     "metadata": {},
     "output_type": "execute_result"
    },
    {
     "data": {
      "text/plain": [
       "'AGPAT180'"
      ]
     },
     "execution_count": 7,
     "metadata": {},
     "output_type": "execute_result"
    },
    {
     "data": {
      "text/plain": [
       "'LPLIPAL1G120pp'"
      ]
     },
     "execution_count": 7,
     "metadata": {},
     "output_type": "execute_result"
    },
    {
     "data": {
      "text/plain": [
       "'ADCOBASr'"
      ]
     },
     "execution_count": 7,
     "metadata": {},
     "output_type": "execute_result"
    },
    {
     "data": {
      "text/plain": [
       "'AGPAT161'"
      ]
     },
     "execution_count": 7,
     "metadata": {},
     "output_type": "execute_result"
    },
    {
     "data": {
      "text/plain": [
       "'LPLIPAL2A140'"
      ]
     },
     "execution_count": 7,
     "metadata": {},
     "output_type": "execute_result"
    },
    {
     "data": {
      "text/plain": [
       "'PSSA181'"
      ]
     },
     "execution_count": 7,
     "metadata": {},
     "output_type": "execute_result"
    },
    {
     "data": {
      "text/plain": [
       "'HXAD'"
      ]
     },
     "execution_count": 7,
     "metadata": {},
     "output_type": "execute_result"
    },
    {
     "data": {
      "text/plain": [
       "'DPGM'"
      ]
     },
     "execution_count": 7,
     "metadata": {},
     "output_type": "execute_result"
    },
    {
     "data": {
      "text/plain": [
       "'NODO'"
      ]
     },
     "execution_count": 7,
     "metadata": {},
     "output_type": "execute_result"
    },
    {
     "data": {
      "text/plain": [
       "'PHE4MOi3'"
      ]
     },
     "execution_count": 7,
     "metadata": {},
     "output_type": "execute_result"
    },
    {
     "data": {
      "text/plain": [
       "'G3PAT141'"
      ]
     },
     "execution_count": 7,
     "metadata": {},
     "output_type": "execute_result"
    },
    {
     "data": {
      "text/plain": [
       "'4AHD2'"
      ]
     },
     "execution_count": 7,
     "metadata": {},
     "output_type": "execute_result"
    },
    {
     "data": {
      "text/plain": [
       "'CDPGS'"
      ]
     },
     "execution_count": 7,
     "metadata": {},
     "output_type": "execute_result"
    },
    {
     "data": {
      "text/plain": [
       "'MEAMP1(ala-his)'"
      ]
     },
     "execution_count": 7,
     "metadata": {},
     "output_type": "execute_result"
    },
    {
     "data": {
      "text/plain": [
       "'ACOAD2'"
      ]
     },
     "execution_count": 7,
     "metadata": {},
     "output_type": "execute_result"
    },
    {
     "data": {
      "text/plain": [
       "'FA100ACPHi'"
      ]
     },
     "execution_count": 7,
     "metadata": {},
     "output_type": "execute_result"
    },
    {
     "data": {
      "text/plain": [
       "'TKT2'"
      ]
     },
     "execution_count": 7,
     "metadata": {},
     "output_type": "execute_result"
    },
    {
     "data": {
      "text/plain": [
       "'2AEPPNAT'"
      ]
     },
     "execution_count": 7,
     "metadata": {},
     "output_type": "execute_result"
    },
    {
     "data": {
      "text/plain": [
       "'ADE6'"
      ]
     },
     "execution_count": 7,
     "metadata": {},
     "output_type": "execute_result"
    },
    {
     "data": {
      "text/plain": [
       "'LPLIPAL1E180pp'"
      ]
     },
     "execution_count": 7,
     "metadata": {},
     "output_type": "execute_result"
    },
    {
     "data": {
      "text/plain": [
       "'PGI'"
      ]
     },
     "execution_count": 7,
     "metadata": {},
     "output_type": "execute_result"
    },
    {
     "data": {
      "text/plain": [
       "'MEAMP1(gly-met)'"
      ]
     },
     "execution_count": 7,
     "metadata": {},
     "output_type": "execute_result"
    },
    {
     "data": {
      "text/plain": [
       "'FBP26'"
      ]
     },
     "execution_count": 7,
     "metadata": {},
     "output_type": "execute_result"
    },
    {
     "data": {
      "text/plain": [
       "'LPLIPAL1E141pp'"
      ]
     },
     "execution_count": 7,
     "metadata": {},
     "output_type": "execute_result"
    },
    {
     "data": {
      "text/plain": [
       "'G1PACTr'"
      ]
     },
     "execution_count": 7,
     "metadata": {},
     "output_type": "execute_result"
    },
    {
     "data": {
      "text/plain": [
       "'SHSL1r'"
      ]
     },
     "execution_count": 7,
     "metadata": {},
     "output_type": "execute_result"
    },
    {
     "data": {
      "text/plain": [
       "'HMGL'"
      ]
     },
     "execution_count": 7,
     "metadata": {},
     "output_type": "execute_result"
    },
    {
     "data": {
      "text/plain": [
       "'2MACOAD'"
      ]
     },
     "execution_count": 7,
     "metadata": {},
     "output_type": "execute_result"
    },
    {
     "data": {
      "text/plain": [
       "'MNLDH'"
      ]
     },
     "execution_count": 7,
     "metadata": {},
     "output_type": "execute_result"
    },
    {
     "data": {
      "text/plain": [
       "'HIBD'"
      ]
     },
     "execution_count": 7,
     "metadata": {},
     "output_type": "execute_result"
    },
    {
     "data": {
      "text/plain": [
       "'PSD141'"
      ]
     },
     "execution_count": 7,
     "metadata": {},
     "output_type": "execute_result"
    },
    {
     "data": {
      "text/plain": [
       "'PGSA140'"
      ]
     },
     "execution_count": 7,
     "metadata": {},
     "output_type": "execute_result"
    },
    {
     "data": {
      "text/plain": [
       "'G3PD7'"
      ]
     },
     "execution_count": 7,
     "metadata": {},
     "output_type": "execute_result"
    },
    {
     "data": {
      "text/plain": [
       "'AMD1_1'"
      ]
     },
     "execution_count": 7,
     "metadata": {},
     "output_type": "execute_result"
    },
    {
     "data": {
      "text/plain": [
       "'G3PAT161'"
      ]
     },
     "execution_count": 7,
     "metadata": {},
     "output_type": "execute_result"
    },
    {
     "data": {
      "text/plain": [
       "'LPLIPAL1G140pp'"
      ]
     },
     "execution_count": 7,
     "metadata": {},
     "output_type": "execute_result"
    },
    {
     "data": {
      "text/plain": [
       "'R08504'"
      ]
     },
     "execution_count": 7,
     "metadata": {},
     "output_type": "execute_result"
    },
    {
     "data": {
      "text/plain": [
       "'LPLIPAL2A141'"
      ]
     },
     "execution_count": 7,
     "metadata": {},
     "output_type": "execute_result"
    },
    {
     "data": {
      "text/plain": [
       "'PPAK'"
      ]
     },
     "execution_count": 7,
     "metadata": {},
     "output_type": "execute_result"
    },
    {
     "data": {
      "text/plain": [
       "'DAGK120'"
      ]
     },
     "execution_count": 7,
     "metadata": {},
     "output_type": "execute_result"
    },
    {
     "data": {
      "text/plain": [
       "'METB1'"
      ]
     },
     "execution_count": 7,
     "metadata": {},
     "output_type": "execute_result"
    },
    {
     "data": {
      "text/plain": [
       "'FAS2_7_1'"
      ]
     },
     "execution_count": 7,
     "metadata": {},
     "output_type": "execute_result"
    },
    {
     "data": {
      "text/plain": [
       "'MEAMP1(met-ala)'"
      ]
     },
     "execution_count": 7,
     "metadata": {},
     "output_type": "execute_result"
    },
    {
     "data": {
      "text/plain": [
       "'G3PAT160'"
      ]
     },
     "execution_count": 7,
     "metadata": {},
     "output_type": "execute_result"
    },
    {
     "data": {
      "text/plain": [
       "'PGGH'"
      ]
     },
     "execution_count": 7,
     "metadata": {},
     "output_type": "execute_result"
    },
    {
     "data": {
      "text/plain": [
       "'GLC3'"
      ]
     },
     "execution_count": 7,
     "metadata": {},
     "output_type": "execute_result"
    },
    {
     "data": {
      "text/plain": [
       "'PSD181'"
      ]
     },
     "execution_count": 7,
     "metadata": {},
     "output_type": "execute_result"
    },
    {
     "data": {
      "text/plain": [
       "'LPLIPAL2E161'"
      ]
     },
     "execution_count": 7,
     "metadata": {},
     "output_type": "execute_result"
    },
    {
     "data": {
      "text/plain": [
       "'UDCPDP'"
      ]
     },
     "execution_count": 7,
     "metadata": {},
     "output_type": "execute_result"
    },
    {
     "data": {
      "text/plain": [
       "'EAR60x'"
      ]
     },
     "execution_count": 7,
     "metadata": {},
     "output_type": "execute_result"
    },
    {
     "data": {
      "text/plain": [
       "'LPLIPAL1A161pp'"
      ]
     },
     "execution_count": 7,
     "metadata": {},
     "output_type": "execute_result"
    },
    {
     "data": {
      "text/plain": [
       "'PSSA141'"
      ]
     },
     "execution_count": 7,
     "metadata": {},
     "output_type": "execute_result"
    },
    {
     "data": {
      "text/plain": [
       "'PGPP181pp'"
      ]
     },
     "execution_count": 7,
     "metadata": {},
     "output_type": "execute_result"
    },
    {
     "data": {
      "text/plain": [
       "'DIPEPabc5'"
      ]
     },
     "execution_count": 7,
     "metadata": {},
     "output_type": "execute_result"
    },
    {
     "data": {
      "text/plain": [
       "'CYSTLr'"
      ]
     },
     "execution_count": 7,
     "metadata": {},
     "output_type": "execute_result"
    },
    {
     "data": {
      "text/plain": [
       "'LPLIPAL1G181pp'"
      ]
     },
     "execution_count": 7,
     "metadata": {},
     "output_type": "execute_result"
    },
    {
     "data": {
      "text/plain": [
       "'LPLIPAL1A140pp'"
      ]
     },
     "execution_count": 7,
     "metadata": {},
     "output_type": "execute_result"
    },
    {
     "data": {
      "text/plain": [
       "'PGSA120'"
      ]
     },
     "execution_count": 7,
     "metadata": {},
     "output_type": "execute_result"
    },
    {
     "data": {
      "text/plain": [
       "'FCLT'"
      ]
     },
     "execution_count": 7,
     "metadata": {},
     "output_type": "execute_result"
    },
    {
     "data": {
      "text/plain": [
       "'MEAMP1(gly-asn)'"
      ]
     },
     "execution_count": 7,
     "metadata": {},
     "output_type": "execute_result"
    },
    {
     "data": {
      "text/plain": [
       "'ACS2'"
      ]
     },
     "execution_count": 7,
     "metadata": {},
     "output_type": "execute_result"
    },
    {
     "data": {
      "text/plain": [
       "'LPLIPAL2G161'"
      ]
     },
     "execution_count": 7,
     "metadata": {},
     "output_type": "execute_result"
    },
    {
     "data": {
      "text/plain": [
       "'FACOAL181'"
      ]
     },
     "execution_count": 7,
     "metadata": {},
     "output_type": "execute_result"
    },
    {
     "data": {
      "text/plain": [
       "'CCP'"
      ]
     },
     "execution_count": 7,
     "metadata": {},
     "output_type": "execute_result"
    },
    {
     "data": {
      "text/plain": [
       "'HCITS'"
      ]
     },
     "execution_count": 7,
     "metadata": {},
     "output_type": "execute_result"
    },
    {
     "data": {
      "text/plain": [
       "'DAGK140'"
      ]
     },
     "execution_count": 7,
     "metadata": {},
     "output_type": "execute_result"
    },
    {
     "data": {
      "text/plain": [
       "'3OAS100'"
      ]
     },
     "execution_count": 7,
     "metadata": {},
     "output_type": "execute_result"
    },
    {
     "data": {
      "text/plain": [
       "'FAA1_2'"
      ]
     },
     "execution_count": 7,
     "metadata": {},
     "output_type": "execute_result"
    },
    {
     "data": {
      "text/plain": [
       "'DAGK161'"
      ]
     },
     "execution_count": 7,
     "metadata": {},
     "output_type": "execute_result"
    },
    {
     "data": {
      "text/plain": [
       "'UAGDPr'"
      ]
     },
     "execution_count": 7,
     "metadata": {},
     "output_type": "execute_result"
    },
    {
     "data": {
      "text/plain": [
       "'HBUHL1'"
      ]
     },
     "execution_count": 7,
     "metadata": {},
     "output_type": "execute_result"
    },
    {
     "data": {
      "text/plain": [
       "'GLCTR1'"
      ]
     },
     "execution_count": 7,
     "metadata": {},
     "output_type": "execute_result"
    },
    {
     "data": {
      "text/plain": [
       "'UGMDDS'"
      ]
     },
     "execution_count": 7,
     "metadata": {},
     "output_type": "execute_result"
    },
    {
     "data": {
      "text/plain": [
       "'KDOPP'"
      ]
     },
     "execution_count": 7,
     "metadata": {},
     "output_type": "execute_result"
    },
    {
     "data": {
      "text/plain": [
       "'DHNAOT4'"
      ]
     },
     "execution_count": 7,
     "metadata": {},
     "output_type": "execute_result"
    },
    {
     "data": {
      "text/plain": [
       "'RHAT1'"
      ]
     },
     "execution_count": 7,
     "metadata": {},
     "output_type": "execute_result"
    },
    {
     "data": {
      "text/plain": [
       "'MNt2'"
      ]
     },
     "execution_count": 7,
     "metadata": {},
     "output_type": "execute_result"
    },
    {
     "data": {
      "text/plain": [
       "{'rxn02201': {'bigg_ann': ['DHPS2', 'DHPS2_1', 'FOLD3', 'FOLD3_1', 'FOLD3m'],\n",
       "  'in_modelseed': ['DHPS2', 'DHPS2FOLD3', 'FOLD3', 'FOLDm'],\n",
       "  'both': {'DHPS2',\n",
       "   'DHPS2FOLD3',\n",
       "   'DHPS2_1',\n",
       "   'FOLD3',\n",
       "   'FOLD3_1',\n",
       "   'FOLD3m',\n",
       "   'FOLDm'}},\n",
       " 'rxn00351': {'bigg_ann': ['GTHS', 'GTHS_1'],\n",
       "  'in_modelseed': ['GSH2', 'GTHS'],\n",
       "  'both': {'GSH2', 'GTHS', 'GTHS_1'}},\n",
       " 'rxn00836': {'bigg_ann': 'HXPRT',\n",
       "  'in_modelseed': ['HPT1_1', 'HXPRT', 'HXPRTr'],\n",
       "  'both': {'HPT1_1', 'HXPRT', 'HXPRTr'}},\n",
       " 'rxn02209': {'bigg_ann': ['ALCD21_D', 'LCARR'],\n",
       "  'in_modelseed': ['LCARR'],\n",
       "  'both': {'ALCD21_D', 'LCARR'}},\n",
       " 'rxn08180': {'bigg_ann': 'BTS4', 'in_modelseed': ['BTS4'], 'both': {'BTS4'}},\n",
       " 'rxn05318': {'bigg_ann': ['ADNt2', 'ADNt2pp'],\n",
       "  'in_modelseed': ['ADNt2', 'ADNt2r', 'U174', 'U185', 'U191'],\n",
       "  'both': {'ADNt2', 'ADNt2pp', 'ADNt2r', 'U174', 'U185', 'U191'}},\n",
       " 'rxn00062': {'bigg_ann': ['ATPM', 'ATPPHm', 'ATPS', 'NTP1'],\n",
       "  'in_modelseed': ['ATPM', 'ATPOBJ', 'NTP1'],\n",
       "  'both': {'ATPM', 'ATPOBJ', 'ATPPHm', 'ATPS', 'NTP1'}},\n",
       " 'rxn00423': {'bigg_ann': ['SAT', 'SATm', 'SERAT'],\n",
       "  'in_modelseed': ['SERAT', 'SERATi', 'U48'],\n",
       "  'both': {'SAT', 'SATm', 'SERAT', 'SERATi', 'U48'}},\n",
       " 'rxn00364': {'bigg_ann': ['CYTK1', 'CYTK1m', 'CYTK1n'],\n",
       "  'in_modelseed': ['CYTK1', 'U18'],\n",
       "  'both': {'CYTK1', 'CYTK1m', 'CYTK1n', 'U18'}},\n",
       " 'rxn05561': {'bigg_ann': ['FUMt2r', 'FUMtpp'],\n",
       "  'in_modelseed': ['FUMt2r', 'FUMt6', 'U207'],\n",
       "  'both': {'FUMt2r', 'FUMt6', 'FUMtpp', 'U207'}},\n",
       " 'rxn00646': {'bigg_ann': ['GCL', 'GLUCYS'],\n",
       "  'in_modelseed': ['GLUCYS', 'GLUCYSL', 'GSH1'],\n",
       "  'both': {'GCL', 'GLUCYS', 'GLUCYSL', 'GSH1'}},\n",
       " 'rxn01673': {'bigg_ann': ['NDPK7', 'NDPK7m', 'NDPK7n'],\n",
       "  'in_modelseed': ['NDPK7', 'YNK1_5'],\n",
       "  'both': {'NDPK7', 'NDPK7m', 'NDPK7n', 'YNK1_5'}},\n",
       " 'rxn00247': {'bigg_ann': ['PPCK', 'PPCKm'],\n",
       "  'in_modelseed': ['PCK1', 'PPCK', 'PPCKr'],\n",
       "  'both': {'PCK1', 'PPCK', 'PPCKm', 'PPCKr'}},\n",
       " 'rxn05625': {'bigg_ann': ['NO2t2r', 'NO2t2rpp'],\n",
       "  'in_modelseed': ['NO2t2', 'NO2t2ir', 'NO2t2r'],\n",
       "  'both': {'NO2t2', 'NO2t2ir', 'NO2t2r', 'NO2t2rpp'}},\n",
       " 'rxn05156': {'bigg_ann': ['ORNabc', 'ORNabcpp'],\n",
       "  'in_modelseed': ['ORNabc'],\n",
       "  'both': {'ORNabc', 'ORNabcpp'}},\n",
       " 'rxn00973': {'bigg_ann': ['ACONT', 'ACONTm', 'ACONTx'],\n",
       "  'in_modelseed': ['ACONT'],\n",
       "  'both': {'ACONT', 'ACONTm', 'ACONTx'}},\n",
       " 'rxn02000': {'bigg_ann': 'TDPDRE',\n",
       "  'in_modelseed': ['TDPDRE', 'TDPDREi'],\n",
       "  'both': {'TDPDRE', 'TDPDREi'}},\n",
       " 'rxn03239': {'bigg_ann': ['HACD7', 'HACD7_1', 'HACD7i', 'HACD7m', 'HACD7p'],\n",
       "  'in_modelseed': ['HACD7', 'HACD7i'],\n",
       "  'both': {'HACD7', 'HACD7_1', 'HACD7i', 'HACD7m', 'HACD7p'}},\n",
       " 'rxn00322': {'bigg_ann': 'LYSDC',\n",
       "  'in_modelseed': ['LYSDC'],\n",
       "  'both': {'LYSDC'}},\n",
       " 'rxn05457': {'bigg_ann': 'MISSING', 'in_modelseed': ['FAS1_6_c']},\n",
       " 'rxn10118': {'bigg_ann': ['HYD1', 'HYD1pp'],\n",
       "  'in_modelseed': ['HYD1'],\n",
       "  'both': {'HYD1', 'HYD1pp'}},\n",
       " 'rxn12008': {'bigg_ann': 'MISSING', 'in_modelseed': ['HEPTT']},\n",
       " 'rxn04070': {'bigg_ann': 'MISSING', 'in_modelseed': ['PDX5PS2']},\n",
       " 'rxn01358': {'bigg_ann': 'PUNP5',\n",
       "  'in_modelseed': ['PNP1_6', 'PUNP5'],\n",
       "  'both': {'PNP1_6', 'PUNP5'}},\n",
       " 'rxn02944': {'bigg_ann': 'SOTA', 'in_modelseed': ['SOTA'], 'both': {'SOTA'}},\n",
       " 'rxn01867': {'bigg_ann': ['BETALDHx', 'BETALDHxm'],\n",
       "  'in_modelseed': ['BADH', 'BETALDHx'],\n",
       "  'both': {'BADH', 'BETALDHx', 'BETALDHxm'}},\n",
       " 'rxn12637': {'bigg_ann': 'MISSING',\n",
       "  'in_modelseed': ['AMPEP13', 'MEAMP1(gly-asp)']},\n",
       " 'rxn09240': {'bigg_ann': 'SADT2',\n",
       "  'in_modelseed': ['SADT2'],\n",
       "  'both': {'SADT2'}},\n",
       " 'rxn01219': {'bigg_ann': ['CYTK2', 'CYTK2m', 'CYTK2n'],\n",
       "  'in_modelseed': ['CYTK2', 'U17'],\n",
       "  'both': {'CYTK2', 'CYTK2m', 'CYTK2n', 'U17'}},\n",
       " 'rxn05958': {'bigg_ann': 'RHCCE',\n",
       "  'in_modelseed': ['RHCCE'],\n",
       "  'both': {'RHCCE'}},\n",
       " 'rxn00800': {'bigg_ann': 'ADSL1r',\n",
       "  'in_modelseed': ['ADE13_2', 'ADSL1', 'ADSL1r'],\n",
       "  'both': {'ADE13_2', 'ADSL1', 'ADSL1r'}},\n",
       " 'rxn09177': {'bigg_ann': 'PPNCL2',\n",
       "  'in_modelseed': ['PPNCL2', 'U92'],\n",
       "  'both': {'PPNCL2', 'U92'}},\n",
       " 'rxn00211': {'bigg_ann': 'UDPGD',\n",
       "  'in_modelseed': ['UDPGD', 'UDPGDi', 'UDPGDr'],\n",
       "  'both': {'UDPGD', 'UDPGDi', 'UDPGDr'}},\n",
       " 'rxn00179': {'bigg_ann': ['GLU5K', 'GLU5Km'],\n",
       "  'in_modelseed': ['GLU5K'],\n",
       "  'both': {'GLU5K', 'GLU5Km'}},\n",
       " 'rxn00192': {'bigg_ann': ['ACGS', 'ACGSm'],\n",
       "  'in_modelseed': ['ACGS'],\n",
       "  'both': {'ACGS', 'ACGSm'}},\n",
       " 'rxn01218': {'bigg_ann': ['NTD3', 'NTD3l', 'NTD3pp'],\n",
       "  'in_modelseed': ['NTD3', 'U28'],\n",
       "  'both': {'NTD3', 'NTD3l', 'NTD3pp', 'U28'}},\n",
       " 'rxn02898': {'bigg_ann': 'NPHS',\n",
       "  'in_modelseed': ['NPHS', 'NPHSr'],\n",
       "  'both': {'NPHS', 'NPHSr'}},\n",
       " 'rxn05654': {'bigg_ann': ['SUCCt2b', 'SUCCt2r', 'SUCCtpp'],\n",
       "  'in_modelseed': ['SUCCt2b', 'SUCCt2r', 'SUCCt6', 'U205'],\n",
       "  'both': {'SUCCt2b', 'SUCCt2r', 'SUCCt6', 'SUCCtpp', 'U205'}},\n",
       " 'rxn01199': {'bigg_ann': 'XYLK',\n",
       "  'in_modelseed': ['XKS1', 'XYLK'],\n",
       "  'both': {'XKS1', 'XYLK'}},\n",
       " 'rxn00545': {'bigg_ann': 'MISSING',\n",
       "  'in_modelseed': ['PFK', 'PFK1_1', 'PFK2']},\n",
       " 'rxn02319': {'bigg_ann': 'FCLK', 'in_modelseed': ['FCLK'], 'both': {'FCLK'}},\n",
       " 'rxn08807': {'bigg_ann': 'MISSING', 'in_modelseed': ['LPLIPAL1E161pp']},\n",
       " 'rxn05614': {'bigg_ann': 'METSRabc',\n",
       "  'in_modelseed': ['METSRabc'],\n",
       "  'both': {'METSRabc'}},\n",
       " 'rxn00501': {'bigg_ann': ['MMSAD3', 'MMSAD3m'],\n",
       "  'in_modelseed': ['MMSAD3'],\n",
       "  'both': {'MMSAD3', 'MMSAD3m'}},\n",
       " 'rxn02320': {'bigg_ann': ['AOOA', 'AOOAh', 'HSTPT', 'HSTPTr'],\n",
       "  'in_modelseed': ['HIS5', 'HSTPT', 'HSTPTr'],\n",
       "  'both': {'AOOA', 'AOOAh', 'HIS5', 'HSTPT', 'HSTPTr'}},\n",
       " 'rxn03384': {'bigg_ann': ['UPPDC2', 'UPPDC2_1'],\n",
       "  'in_modelseed': ['UPPDC2'],\n",
       "  'both': {'UPPDC2', 'UPPDC2_1'}},\n",
       " 'rxn02504': {'bigg_ann': 'MISSING', 'in_modelseed': ['DHNPA']},\n",
       " 'rxn04082': {'bigg_ann': 'RBP4E',\n",
       "  'in_modelseed': ['RBP4E'],\n",
       "  'both': {'RBP4E'}},\n",
       " 'rxn10126': {'bigg_ann': 'SUCD4',\n",
       "  'in_modelseed': ['SUCD4'],\n",
       "  'both': {'SUCD4'}},\n",
       " 'rxn08084': {'bigg_ann': 'MISSING', 'in_modelseed': ['AGPAT140']},\n",
       " 'rxn01486': {'bigg_ann': ['FRTT', 'GGPS_1'],\n",
       "  'in_modelseed': ['FRTT'],\n",
       "  'both': {'FRTT', 'GGPS_1'}},\n",
       " 'rxn05334': {'bigg_ann': ['3HAD80', '3HAD80_1'],\n",
       "  'in_modelseed': ['3HAD80', 'HOCHL3'],\n",
       "  'both': {'3HAD80', '3HAD80_1', 'HOCHL3'}},\n",
       " 'rxn05040': {'bigg_ann': 'DB4PS',\n",
       "  'in_modelseed': ['DB4PS', 'U79'],\n",
       "  'both': {'DB4PS', 'U79'}},\n",
       " 'rxn05235': {'bigg_ann': 'RNTR3',\n",
       "  'in_modelseed': ['RNTR3'],\n",
       "  'both': {'RNTR3'}},\n",
       " 'rxn08556': {'bigg_ann': 'G3PD5',\n",
       "  'in_modelseed': ['G3PD5'],\n",
       "  'both': {'G3PD5'}},\n",
       " 'rxn00816': {'bigg_ann': ['LACZ', 'LACZe', 'LACZly', 'LACZpp'],\n",
       "  'in_modelseed': ['LACZ'],\n",
       "  'both': {'LACZ', 'LACZe', 'LACZly', 'LACZpp'}},\n",
       " 'rxn01750': {'bigg_ann': 'MISSING', 'in_modelseed': ['CDPGHL']},\n",
       " 'rxn02988': {'bigg_ann': ['QULNS', 'QULNS_1'],\n",
       "  'in_modelseed': ['QULNS', 'U100'],\n",
       "  'both': {'QULNS', 'QULNS_1', 'U100'}},\n",
       " 'rxn04792': {'bigg_ann': 'FALDH2',\n",
       "  'in_modelseed': ['FALDH2', 'HMGDx'],\n",
       "  'both': {'FALDH2', 'HMGDx'}},\n",
       " 'rxn01021': {'bigg_ann': 'MTAN', 'in_modelseed': ['MTAN'], 'both': {'MTAN'}},\n",
       " 'rxn00165': {'bigg_ann': ['SERD_L', 'SER_AL', 'THRAL'],\n",
       "  'in_modelseed': ['CHA1_2', 'SER_AL', 'YIL167W'],\n",
       "  'both': {'CHA1_2', 'SERD_L', 'SER_AL', 'THRAL', 'YIL167W'}},\n",
       " 'rxn01117': {'bigg_ann': 'A5PISO',\n",
       "  'in_modelseed': ['A5PISO'],\n",
       "  'both': {'A5PISO'}},\n",
       " 'rxn05542': {'bigg_ann': 'DIPEPabc4',\n",
       "  'in_modelseed': ['DIPEPabc4'],\n",
       "  'both': {'DIPEPabc4'}},\n",
       " 'rxn00001': {'bigg_ann': ['IDPh',\n",
       "   'IDPm',\n",
       "   'PPA',\n",
       "   'PPA_1',\n",
       "   'PPA_1pp',\n",
       "   'PPAer',\n",
       "   'PPAm',\n",
       "   'PPAn',\n",
       "   'r0009'],\n",
       "  'in_modelseed': ['IPP1', 'PPA', 'PPA_1'],\n",
       "  'both': {'IDPh',\n",
       "   'IDPm',\n",
       "   'IPP1',\n",
       "   'PPA',\n",
       "   'PPA_1',\n",
       "   'PPA_1pp',\n",
       "   'PPAer',\n",
       "   'PPAm',\n",
       "   'PPAn',\n",
       "   'r0009'}},\n",
       " 'rxn09685': {'bigg_ann': ['DURIt2', 'DURIt2pp'],\n",
       "  'in_modelseed': ['DURIt2', 'U184', 'U190', 'U200'],\n",
       "  'both': {'DURIt2', 'DURIt2pp', 'U184', 'U190', 'U200'}},\n",
       " 'rxn01331': {'bigg_ann': 'E4PD', 'in_modelseed': ['E4PD'], 'both': {'E4PD'}},\n",
       " 'rxn05545': {'bigg_ann': 'DIPEPabc7',\n",
       "  'in_modelseed': ['DIPEPabc7'],\n",
       "  'both': {'DIPEPabc7'}},\n",
       " 'rxn00671': {'bigg_ann': ['MMSAD1', 'MMSAD1m'],\n",
       "  'in_modelseed': ['MMSAD1', 'MMTSAO'],\n",
       "  'both': {'MMSAD1', 'MMSAD1m', 'MMTSAO'}},\n",
       " 'rxn00710': {'bigg_ann': 'OMPDC',\n",
       "  'in_modelseed': ['OMPDC', 'URA3'],\n",
       "  'both': {'OMPDC', 'URA3'}},\n",
       " 'rxn01114': {'bigg_ann': 'RBK_Dr',\n",
       "  'in_modelseed': ['RBK_D', 'RBK_Dr'],\n",
       "  'both': {'RBK_D', 'RBK_Dr'}},\n",
       " 'rxn02305': {'bigg_ann': 'TMPPP',\n",
       "  'in_modelseed': ['THI6_2', 'TMPPP'],\n",
       "  'both': {'THI6_2', 'TMPPP'}},\n",
       " 'rxn08817': {'bigg_ann': 'MISSING', 'in_modelseed': ['LPLIPAL2A120']},\n",
       " 'rxn00910': {'bigg_ann': ['MTHFO_nadp', 'MTHFR3', 'MTHFR3_1'],\n",
       "  'in_modelseed': ['MTHFR1', 'MTHFR3'],\n",
       "  'both': {'MTHFO_nadp', 'MTHFR1', 'MTHFR3', 'MTHFR3_1'}},\n",
       " 'rxn08296': {'bigg_ann': 'MISSING', 'in_modelseed': ['DAGK141']},\n",
       " 'rxn05541': {'bigg_ann': 'DIPEPabc3',\n",
       "  'in_modelseed': ['DIPEPabc3'],\n",
       "  'both': {'DIPEPabc3'}},\n",
       " 'rxn00717': {'bigg_ann': 'MISSING', 'in_modelseed': ['FCY1']},\n",
       " 'rxn08710': {'bigg_ann': 'HEPT1',\n",
       "  'in_modelseed': ['HEPT1'],\n",
       "  'both': {'HEPT1'}},\n",
       " 'rxn05647': {'bigg_ann': ['SALCpts', 'SALCptspp'],\n",
       "  'in_modelseed': ['SALCpts'],\n",
       "  'both': {'SALCpts', 'SALCptspp'}},\n",
       " 'rxn01297': {'bigg_ann': 'HXAND',\n",
       "  'in_modelseed': ['HXAND', 'XANDa'],\n",
       "  'both': {'HXAND', 'XANDa'}},\n",
       " 'rxn08796': {'bigg_ann': 'MISSING', 'in_modelseed': ['LPLIPAL1A120pp']},\n",
       " 'rxn03181': {'bigg_ann': 'TDSK', 'in_modelseed': ['TDSK'], 'both': {'TDSK'}},\n",
       " 'rxn02331': {'bigg_ann': 'KDOPS',\n",
       "  'in_modelseed': ['KDOPS'],\n",
       "  'both': {'KDOPS'}},\n",
       " 'rxn06493': {'bigg_ann': ['GCCc', 'GCCcm'],\n",
       "  'in_modelseed': ['GCCc'],\n",
       "  'both': {'GCCc', 'GCCcm'}},\n",
       " 'rxn00337': {'bigg_ann': ['ASPK', 'ASPK_1'],\n",
       "  'in_modelseed': ['ASPK', 'ASPKi', 'HOM3'],\n",
       "  'both': {'ASPK', 'ASPK_1', 'ASPKi', 'HOM3'}},\n",
       " 'rxn01231': {'bigg_ann': ['LCYSTCBOXL', 'SALADC2'],\n",
       "  'in_modelseed': ['SALADC2'],\n",
       "  'both': {'LCYSTCBOXL', 'SALADC2'}},\n",
       " 'rxn05221': {'bigg_ann': ['PRONA1tm', 'PROt4', 'PROt4pp'],\n",
       "  'in_modelseed': ['PROt4', 'PROt4r'],\n",
       "  'both': {'PRONA1tm', 'PROt4', 'PROt4pp', 'PROt4r'}},\n",
       " 'rxn08308': {'bigg_ann': 'DASYN141',\n",
       "  'in_modelseed': ['DASYN141'],\n",
       "  'both': {'DASYN141'}},\n",
       " 'rxn00208': {'bigg_ann': 'MISSING', 'in_modelseed': ['PDX3_1', 'PDX3_5']},\n",
       " 'rxn08823': {'bigg_ann': 'MISSING', 'in_modelseed': ['LPLIPAL2A181']},\n",
       " 'rxn02552': {'bigg_ann': 'ALLK', 'in_modelseed': ['ALLK'], 'both': {'ALLK'}},\n",
       " 'rxn00140': {'bigg_ann': ['APNn', 'PDE1', 'PDE1g'],\n",
       "  'in_modelseed': ['PDE1', 'PDE2_1'],\n",
       "  'both': {'APNn', 'PDE1', 'PDE1g', 'PDE2_1'}},\n",
       " 'rxn05346': {'bigg_ann': 'MISSING',\n",
       "  'in_modelseed': ['3OAS60', 'FAS2_2_1', 'MCMAT2']},\n",
       " 'rxn00452': {'bigg_ann': 'HCYSMT',\n",
       "  'in_modelseed': ['HCYSMT', 'MHT1', 'SAM4'],\n",
       "  'both': {'HCYSMT', 'MHT1', 'SAM4'}},\n",
       " 'rxn03248': {'bigg_ann': 'MISSING', 'in_modelseed': ['ACACT3r', 'KAT3']},\n",
       " 'rxn08127': {'bigg_ann': 'AMALT2',\n",
       "  'in_modelseed': ['AMALT2'],\n",
       "  'both': {'AMALT2'}},\n",
       " 'rxn05516': {'bigg_ann': 'MISSING', 'in_modelseed': ['CD2abc1']},\n",
       " 'rxn05733': {'bigg_ann': ['AHSERL4', 'CYSS_trdrd'],\n",
       "  'in_modelseed': ['AHSERL4'],\n",
       "  'both': {'AHSERL4', 'CYSS_trdrd'}},\n",
       " 'rxn00416': {'bigg_ann': 'ASNS1',\n",
       "  'in_modelseed': ['ASN1', 'ASN2', 'ASNS1'],\n",
       "  'both': {'ASN1', 'ASN2', 'ASNS1'}},\n",
       " 'rxn02270': {'bigg_ann': ['ACOAD10m', 'ACOADH1'],\n",
       "  'in_modelseed': ['2MBCOAD', 'ACOAD10', 'ACOADH1'],\n",
       "  'both': {'2MBCOAD', 'ACOAD10', 'ACOAD10m', 'ACOADH1'}},\n",
       " 'rxn09206': {'bigg_ann': 'MISSING', 'in_modelseed': ['PSSA140']},\n",
       " 'rxn10147': {'bigg_ann': 'MISSING', 'in_modelseed': ['CBL1abc']},\n",
       " 'rxn09209': {'bigg_ann': 'MISSING', 'in_modelseed': ['PSSA161']},\n",
       " 'rxn12512': {'bigg_ann': 'PPNCL3',\n",
       "  'in_modelseed': ['PPNCL3'],\n",
       "  'both': {'PPNCL3'}},\n",
       " 'rxn08669': {'bigg_ann': ['GPDDA4', 'GPDDA4pp'],\n",
       "  'in_modelseed': ['GPDDA4'],\n",
       "  'both': {'GPDDA4', 'GPDDA4pp'}},\n",
       " 'rxn00902': {'bigg_ann': ['IPPS', 'IPPSh', 'IPPSm'],\n",
       "  'in_modelseed': ['IPPS'],\n",
       "  'both': {'IPPS', 'IPPSh', 'IPPSm'}},\n",
       " 'rxn06672': {'bigg_ann': 'BTNC', 'in_modelseed': ['BTNC'], 'both': {'BTNC'}},\n",
       " 'rxn00649': {'bigg_ann': ['CYSS', 'CYSS_1', 'CYSS_2'],\n",
       "  'in_modelseed': ['CYSS', 'CYSSr', 'YGR012W'],\n",
       "  'both': {'CYSS', 'CYSS_1', 'CYSS_2', 'CYSSr', 'YGR012W'}},\n",
       " 'rxn01739': {'bigg_ann': ['SHKK', 'SKK'],\n",
       "  'in_modelseed': ['ARO1_4', 'SHKK'],\n",
       "  'both': {'ARO1_4', 'SHKK', 'SKK'}},\n",
       " 'rxn01268': {'bigg_ann': ['PPND', 'PPOR_1'],\n",
       "  'in_modelseed': ['PPND', 'U52'],\n",
       "  'both': {'PPND', 'PPOR_1', 'U52'}},\n",
       " 'rxn00361': {'bigg_ann': ['AASPh', 'AASPm', 'ADSK', 'ADSKn'],\n",
       "  'in_modelseed': ['ADSK', 'ADSKr', 'MET14'],\n",
       "  'both': {'AASPh', 'AASPm', 'ADSK', 'ADSKn', 'ADSKr', 'MET14'}},\n",
       " 'rxn01974': {'bigg_ann': 'DAPE', 'in_modelseed': ['DAPE'], 'both': {'DAPE'}},\n",
       " 'rxn00242': {'bigg_ann': 'PPGPPDP',\n",
       "  'in_modelseed': ['G35DP', 'GDPDP3PH', 'PPGPP', 'PPGPPDP'],\n",
       "  'both': {'G35DP', 'GDPDP3PH', 'PPGPP', 'PPGPPDP'}},\n",
       " 'rxn12641': {'bigg_ann': 'MISSING', 'in_modelseed': ['MEAMP1(ala-gly)']},\n",
       " 'rxn00568': {'bigg_ann': 'NTRIR2x',\n",
       "  'in_modelseed': ['NTRIR2x'],\n",
       "  'both': {'NTRIR2x'}},\n",
       " 'rxn08971': {'bigg_ann': 'NADH10',\n",
       "  'in_modelseed': ['NADH10'],\n",
       "  'both': {'NADH10'}},\n",
       " 'rxn05316': {'bigg_ann': ['INSt2', 'INSt2pp'],\n",
       "  'in_modelseed': ['INSt2', 'INSt2r', 'U177', 'U194'],\n",
       "  'both': {'INSt2', 'INSt2pp', 'INSt2r', 'U177', 'U194'}},\n",
       " 'rxn04384': {'bigg_ann': 'ADCPS2',\n",
       "  'in_modelseed': ['ADCOBAPS', 'ADCPS2'],\n",
       "  'both': {'ADCOBAPS', 'ADCPS2'}},\n",
       " 'rxn03887': {'bigg_ann': ['GALCTD', 'GALCTD_1'],\n",
       "  'in_modelseed': ['GALCTD'],\n",
       "  'both': {'GALCTD', 'GALCTD_1'}},\n",
       " 'rxn00225': {'bigg_ann': ['ACKr', 'ACKrh', 'ACKrm'],\n",
       "  'in_modelseed': ['ACKr'],\n",
       "  'both': {'ACKr', 'ACKrh', 'ACKrm'}},\n",
       " 'rxn05350': {'bigg_ann': 'MISSING',\n",
       "  'in_modelseed': ['3OAS80', 'FAS2_3_1', 'MCMAT3']},\n",
       " 'rxn09198': {'bigg_ann': 'MISSING', 'in_modelseed': ['PSD140']},\n",
       " 'rxn08838': {'bigg_ann': 'MISSING', 'in_modelseed': ['LPLIPAL2E120']},\n",
       " 'rxn00148': {'bigg_ann': ['PYK', 'PYKf', 'PYKm'],\n",
       "  'in_modelseed': ['CDC19', 'PYK', 'PYK2'],\n",
       "  'both': {'CDC19', 'PYK', 'PYK2', 'PYKf', 'PYKm'}},\n",
       " 'rxn01102': {'bigg_ann': ['GLYCK', 'GLYPT', 'r0340'],\n",
       "  'in_modelseed': ['GLYCK'],\n",
       "  'both': {'GLYCK', 'GLYPT', 'r0340'}},\n",
       " 'rxn05569': {'bigg_ann': ['GAMpts', 'GAMptspp'],\n",
       "  'in_modelseed': ['GAMpts'],\n",
       "  'both': {'GAMpts', 'GAMptspp'}},\n",
       " 'rxn00100': {'bigg_ann': ['DPCOAK', 'DPCOAKm'],\n",
       "  'in_modelseed': ['DPCOAK', 'U96'],\n",
       "  'both': {'DPCOAK', 'DPCOAKm', 'U96'}},\n",
       " 'rxn02842': {'bigg_ann': 'DGC3D',\n",
       "  'in_modelseed': ['2DGLCNDH', 'DGC3D'],\n",
       "  'both': {'2DGLCNDH', 'DGC3D'}},\n",
       " 'rxn00789': {'bigg_ann': 'ATPPRT',\n",
       "  'in_modelseed': ['ATPPRT', 'ATPPRTr', 'HIS1'],\n",
       "  'both': {'ATPPRT', 'ATPPRTr', 'HIS1'}},\n",
       " 'rxn02374': {'bigg_ann': ['G5SADrm', 'G5SADs'],\n",
       "  'in_modelseed': ['G5SADr', 'G5SADs', 'G5SADsi'],\n",
       "  'both': {'G5SADr', 'G5SADrm', 'G5SADs', 'G5SADsi'}},\n",
       " 'rxn05560': {'bigg_ann': ['FRUpts', 'FRUptspp'],\n",
       "  'in_modelseed': ['FRUpts'],\n",
       "  'both': {'FRUpts', 'FRUptspp'}},\n",
       " 'rxn08976': {'bigg_ann': 'MISSING', 'in_modelseed': ['NADH9']},\n",
       " 'rxn00781': {'bigg_ann': ['GAPD', 'GAPDHf', 'GAPDHh', 'GAPDHi', 'GAPDHm'],\n",
       "  'in_modelseed': ['GAPD', 'GAPD_NAD'],\n",
       "  'both': {'GAPD', 'GAPDHf', 'GAPDHh', 'GAPDHi', 'GAPDHm', 'GAPD_NAD'}},\n",
       " 'rxn09264': {'bigg_ann': 'SPMDAT1',\n",
       "  'in_modelseed': ['SPMDAT1', 'U61'],\n",
       "  'both': {'SPMDAT1', 'U61'}},\n",
       " 'rxn05319': {'bigg_ann': ['EX_h2o_e',\n",
       "   'EX_oh1_e',\n",
       "   'H2Ot',\n",
       "   'H2Oter',\n",
       "   'H2Otex',\n",
       "   'H2Otf',\n",
       "   'H2Otg',\n",
       "   'H2Oth',\n",
       "   'H2Othu',\n",
       "   'H2Otly',\n",
       "   'H2Otm',\n",
       "   'H2Otn',\n",
       "   'H2Otn_1',\n",
       "   'H2Otp',\n",
       "   'H2Otpp',\n",
       "   'H2Ots',\n",
       "   'H2Otu_syn',\n",
       "   'H2Otv'],\n",
       "  'in_modelseed': ['H2Ot', 'H2Ot5'],\n",
       "  'both': {'EX_h2o_e',\n",
       "   'EX_oh1_e',\n",
       "   'H2Ot',\n",
       "   'H2Ot5',\n",
       "   'H2Oter',\n",
       "   'H2Otex',\n",
       "   'H2Otf',\n",
       "   'H2Otg',\n",
       "   'H2Oth',\n",
       "   'H2Othu',\n",
       "   'H2Otly',\n",
       "   'H2Otm',\n",
       "   'H2Otn',\n",
       "   'H2Otn_1',\n",
       "   'H2Otp',\n",
       "   'H2Otpp',\n",
       "   'H2Ots',\n",
       "   'H2Otu_syn',\n",
       "   'H2Otv'}},\n",
       " 'rxn00881': {'bigg_ann': 'MI1PP',\n",
       "  'in_modelseed': ['MI1PP'],\n",
       "  'both': {'MI1PP'}},\n",
       " 'rxn05298': {'bigg_ann': ['GLUNA1th', 'GLUNA1tm', 'GLUt4', 'GLUt4pp'],\n",
       "  'in_modelseed': ['GLUt4', 'GLUt4i'],\n",
       "  'both': {'GLUNA1th', 'GLUNA1tm', 'GLUt4', 'GLUt4i', 'GLUt4pp'}},\n",
       " 'rxn10157': {'bigg_ann': ['SUCCt2_3', 'SUCCt2_3pp'],\n",
       "  'in_modelseed': ['SUCCt2_3'],\n",
       "  'both': {'SUCCt2_3', 'SUCCt2_3pp'}},\n",
       " 'rxn09265': {'bigg_ann': 'SPMDAT2',\n",
       "  'in_modelseed': ['SPMDAT2'],\n",
       "  'both': {'SPMDAT2'}},\n",
       " 'rxn08336': {'bigg_ann': 'DHORD5',\n",
       "  'in_modelseed': ['DHORD5'],\n",
       "  'both': {'DHORD5'}},\n",
       " 'rxn05293': {'bigg_ann': 'MECDPDH2',\n",
       "  'in_modelseed': ['MECDPDH2'],\n",
       "  'both': {'MECDPDH2'}},\n",
       " 'rxn02264': {'bigg_ann': ['UPP3S', 'UPP3S_1'],\n",
       "  'in_modelseed': ['HEM4', 'UPP3S'],\n",
       "  'both': {'HEM4', 'UPP3S', 'UPP3S_1'}},\n",
       " 'rxn05198': {'bigg_ann': ['CYTDt2', 'CYTDt2pp'],\n",
       "  'in_modelseed': ['CYTDt2', 'CYTDt2r', 'U176', 'U186', 'U193'],\n",
       "  'both': {'CYTDt2', 'CYTDt2pp', 'CYTDt2r', 'U176', 'U186', 'U193'}},\n",
       " 'rxn09202': {'bigg_ann': 'PSD180',\n",
       "  'in_modelseed': ['PSD180'],\n",
       "  'both': {'PSD180'}},\n",
       " 'rxn01451': {'bigg_ann': ['HACD1',\n",
       "   'HACD1_1',\n",
       "   'HACD1_2',\n",
       "   'HACD1i',\n",
       "   'HACD1m',\n",
       "   'HACD1x',\n",
       "   'HBCOm'],\n",
       "  'in_modelseed': ['HACD1', 'HACD1i'],\n",
       "  'both': {'HACD1',\n",
       "   'HACD1_1',\n",
       "   'HACD1_2',\n",
       "   'HACD1i',\n",
       "   'HACD1m',\n",
       "   'HACD1x',\n",
       "   'HBCOm'}},\n",
       " 'rxn03903': {'bigg_ann': 'MISSING', 'in_modelseed': ['PAPPT2']},\n",
       " 'rxn00097': {'bigg_ann': ['ADK1', 'ADK1m', 'ATAMh'],\n",
       "  'in_modelseed': ['ADK1', 'ADK1_1'],\n",
       "  'both': {'ADK1', 'ADK1_1', 'ADK1m', 'ATAMh'}},\n",
       " 'rxn01217': {'bigg_ann': 'MISSING', 'in_modelseed': ['DCD1_1', 'DCMPDA2ir']},\n",
       " 'rxn02212': {'bigg_ann': ['DHQS', 'DHQS_1'],\n",
       "  'in_modelseed': ['ARO1_1', 'DHQS'],\n",
       "  'both': {'ARO1_1', 'DHQS', 'DHQS_1'}},\n",
       " 'rxn00695': {'bigg_ann': ['GLGC', 'GLPThi'],\n",
       "  'in_modelseed': ['GLGC', 'GLGCr'],\n",
       "  'both': {'GLGC', 'GLGCr', 'GLPThi'}},\n",
       " 'rxn05116': {'bigg_ann': 'MISSING', 'in_modelseed': ['SPONT1']},\n",
       " 'rxn05324': {'bigg_ann': 'MISSING', 'in_modelseed': ['DDMAT5', 'EAR120x']},\n",
       " 'rxn10481': {'bigg_ann': ['CUabcpp', 'Cuabc'],\n",
       "  'in_modelseed': ['Cuabc'],\n",
       "  'both': {'CUabcpp', 'Cuabc'}},\n",
       " 'rxn03535': {'bigg_ann': 'MISSING', 'in_modelseed': ['CYRDAAT']},\n",
       " 'rxn00692': {'bigg_ann': ['GHMT', 'GHMT2r', 'GHMT2rm'],\n",
       "  'in_modelseed': ['GHMT', 'GHMT2', 'GHMT2r', 'SHM2'],\n",
       "  'both': {'GHMT', 'GHMT2', 'GHMT2r', 'GHMT2rm', 'SHM2'}},\n",
       " 'rxn01492': {'bigg_ann': 'MISSING', 'in_modelseed': ['FRUK_r']},\n",
       " 'rxn02160': {'bigg_ann': ['HISTP', 'HP', 'HPh'],\n",
       "  'in_modelseed': ['HIS2', 'HISTP'],\n",
       "  'both': {'HIS2', 'HISTP', 'HP', 'HPh'}},\n",
       " 'rxn08802': {'bigg_ann': 'MISSING', 'in_modelseed': ['LPLIPAL1A181pp']},\n",
       " 'rxn01825': {'bigg_ann': 'HGNTOR',\n",
       "  'in_modelseed': ['HGENDO', 'HGNTOR', 'U58'],\n",
       "  'both': {'HGENDO', 'HGNTOR', 'U58'}},\n",
       " 'rxn00913': {'bigg_ann': ['GMP5N', 'NTD9', 'NTD9e', 'NTD9l', 'NTD9pp'],\n",
       "  'in_modelseed': ['NTD9', 'U31'],\n",
       "  'both': {'GMP5N', 'NTD9', 'NTD9e', 'NTD9l', 'NTD9pp', 'U31'}},\n",
       " 'rxn01997': {'bigg_ann': 'TDPGDH',\n",
       "  'in_modelseed': ['TDPGDH'],\n",
       "  'both': {'TDPGDH'}},\n",
       " 'rxn08521': {'bigg_ann': 'FLVRx',\n",
       "  'in_modelseed': ['FLVR(NAD)', 'FLVRx'],\n",
       "  'both': {'FLVR(NAD)', 'FLVRx'}},\n",
       " 'rxn08809': {'bigg_ann': 'MISSING', 'in_modelseed': ['LPLIPAL1E181pp']},\n",
       " 'rxn00171': {'bigg_ann': ['ACALD', 'ACALDh'],\n",
       "  'in_modelseed': ['ACALD', 'ACALDi'],\n",
       "  'both': {'ACALD', 'ACALDh', 'ACALDi'}},\n",
       " 'rxn03958': {'bigg_ann': ['DXPRIi', 'DXRI'],\n",
       "  'in_modelseed': ['DXPRI', 'DXPRIi'],\n",
       "  'both': {'DXPRI', 'DXPRIi', 'DXRI'}},\n",
       " 'rxn00178': {'bigg_ann': ['ACACT1', 'ACACT1m', 'ACACT1r', 'ACACT1x', 'KAT1'],\n",
       "  'in_modelseed': ['AACOAT', 'ACACT1', 'ACACT1r', 'ERG10', 'KAT1'],\n",
       "  'both': {'AACOAT',\n",
       "   'ACACT1',\n",
       "   'ACACT1m',\n",
       "   'ACACT1r',\n",
       "   'ACACT1x',\n",
       "   'ERG10',\n",
       "   'KAT1'}},\n",
       " 'rxn01362': {'bigg_ann': 'ORPT',\n",
       "  'in_modelseed': ['ORPT', 'URA10', 'URA5', 'or PT'],\n",
       "  'both': {'ORPT', 'URA10', 'URA5', 'or PT'}},\n",
       " 'rxn10125': {'bigg_ann': ['THD2', 'THD2pp'],\n",
       "  'in_modelseed': ['THD2'],\n",
       "  'both': {'THD2', 'THD2pp'}},\n",
       " 'rxn05161': {'bigg_ann': ['LEUabc', 'LEUabcpp'],\n",
       "  'in_modelseed': ['LEUabc'],\n",
       "  'both': {'LEUabc', 'LEUabcpp'}},\n",
       " 'rxn00549': {'bigg_ann': 'MISSING', 'in_modelseed': ['FBP', 'FBP1']},\n",
       " 'rxn03951': {'bigg_ann': 'MISSING', 'in_modelseed': ['THPDH']},\n",
       " 'rxn02938': {'bigg_ann': 'MISSING', 'in_modelseed': ['ADE2', 'AIRCr']},\n",
       " 'rxn05200': {'bigg_ann': ['THMDt2', 'THMDt2pp'],\n",
       "  'in_modelseed': ['THMDt2', 'THMDt2r', 'U179', 'U187', 'U195'],\n",
       "  'both': {'THMDt2', 'THMDt2pp', 'THMDt2r', 'U179', 'U187', 'U195'}},\n",
       " 'rxn00506': {'bigg_ann': ['ALDD2x', 'ALDD2xm'],\n",
       "  'in_modelseed': ['ALD2', 'ALD3', 'ALDD2x', 'ALDD2xr'],\n",
       "  'both': {'ALD2', 'ALD3', 'ALDD2x', 'ALDD2xm', 'ALDD2xr'}},\n",
       " 'rxn00584': {'bigg_ann': 'BZDIOLDH',\n",
       "  'in_modelseed': ['BZDIOLDH'],\n",
       "  'both': {'BZDIOLDH'}},\n",
       " 'rxn02933': {'bigg_ann': ['HACD9', 'HACD9m'],\n",
       "  'in_modelseed': ['3H2MBCOAD', 'HACD8', 'HACD9'],\n",
       "  'both': {'3H2MBCOAD', 'HACD8', 'HACD9', 'HACD9m'}},\n",
       " 'rxn00727': {'bigg_ann': ['ANS', 'ATNS'],\n",
       "  'in_modelseed': ['ANS', 'ANS1', 'TRP2_1', 'TRP3_1'],\n",
       "  'both': {'ANS', 'ANS1', 'ATNS', 'TRP2_1', 'TRP3_1'}},\n",
       " 'rxn05617': {'bigg_ann': ['MNLpts', 'MNLptspp'],\n",
       "  'in_modelseed': ['MNLpts'],\n",
       "  'both': {'MNLpts', 'MNLptspp'}},\n",
       " 'rxn12638': {'bigg_ann': 'MISSING', 'in_modelseed': ['MEAMP1(gly-pro-L)']},\n",
       " 'rxn05243': {'bigg_ann': ['LEUt2r', 'LEUt2rpp', 'LEUt7', 'LEUth', 'LEUtm'],\n",
       "  'in_modelseed': ['AGP1_7',\n",
       "   'BAP2_3',\n",
       "   'BAP3_3',\n",
       "   'GAP1_11',\n",
       "   'GNP1_4',\n",
       "   'LEUt2',\n",
       "   'LEUt2r',\n",
       "   'TAT1_2',\n",
       "   'VAP1_4'],\n",
       "  'both': {'AGP1_7',\n",
       "   'BAP2_3',\n",
       "   'BAP3_3',\n",
       "   'GAP1_11',\n",
       "   'GNP1_4',\n",
       "   'LEUt2',\n",
       "   'LEUt2r',\n",
       "   'LEUt2rpp',\n",
       "   'LEUt7',\n",
       "   'LEUth',\n",
       "   'LEUtm',\n",
       "   'TAT1_2',\n",
       "   'VAP1_4'}},\n",
       " 'rxn05127': {'bigg_ann': 'GGGABADr',\n",
       "  'in_modelseed': ['GGGABADr', 'GGLUGABDH'],\n",
       "  'both': {'GGGABADr', 'GGLUGABDH'}},\n",
       " 'rxn09105': {'bigg_ann': ['PGPP161', 'PGPP161pp'],\n",
       "  'in_modelseed': ['PGPP161pp'],\n",
       "  'both': {'PGPP161', 'PGPP161pp'}},\n",
       " 'rxn00305': {'bigg_ann': ['PEPCK_re', 'PEPCKm'],\n",
       "  'in_modelseed': ['PEPCK_re'],\n",
       "  'both': {'PEPCK_re', 'PEPCKm'}},\n",
       " 'rxn01445': {'bigg_ann': ['NTD8', 'NTD8l', 'NTD8pp'],\n",
       "  'in_modelseed': ['NTD8', 'U27'],\n",
       "  'both': {'NTD8', 'NTD8l', 'NTD8pp', 'U27'}},\n",
       " 'rxn00612': {'bigg_ann': ['G3PD2', 'G3PD2_1', 'G3PD2_2'],\n",
       "  'in_modelseed': ['G3PD2'],\n",
       "  'both': {'G3PD2', 'G3PD2_1', 'G3PD2_2'}},\n",
       " 'rxn05539': {'bigg_ann': ['CGLYabcpp', 'DIPEPabc15'],\n",
       "  'in_modelseed': ['DIPEPabc15'],\n",
       "  'both': {'CGLYabcpp', 'DIPEPabc15'}},\n",
       " 'rxn08841': {'bigg_ann': 'LPLIPAL2E160',\n",
       "  'in_modelseed': ['LPLIPAL2E160'],\n",
       "  'both': {'LPLIPAL2E160'}},\n",
       " 'rxn08083': {'bigg_ann': 'MISSING', 'in_modelseed': ['AGPAT120']},\n",
       " 'rxn03038': {'bigg_ann': ['HPPPNDO', 'HPPPNDO_1'],\n",
       "  'in_modelseed': ['HPPPNDO'],\n",
       "  'both': {'HPPPNDO', 'HPPPNDO_1'}},\n",
       " 'rxn05466': {'bigg_ann': ['NH4t',\n",
       "   'NH4tex',\n",
       "   'NH4ti',\n",
       "   'NH4tm',\n",
       "   'NH4tn',\n",
       "   'NH4tp',\n",
       "   'NH4tpp'],\n",
       "  'in_modelseed': ['NH3t', 'NH4t', 'NH4ti'],\n",
       "  'both': {'NH3t',\n",
       "   'NH4t',\n",
       "   'NH4tex',\n",
       "   'NH4ti',\n",
       "   'NH4tm',\n",
       "   'NH4tn',\n",
       "   'NH4tp',\n",
       "   'NH4tpp'}},\n",
       " 'rxn08814': {'bigg_ann': 'MISSING', 'in_modelseed': ['LPLIPAL1G161pp']},\n",
       " 'rxn08845': {'bigg_ann': 'MISSING', 'in_modelseed': ['LPLIPAL2G120']},\n",
       " 'rxn01292': {'bigg_ann': 'MISSING', 'in_modelseed': ['ARAI']},\n",
       " 'rxn00375': {'bigg_ann': 'NFORGLUAH',\n",
       "  'in_modelseed': ['NFORGLUAH'],\n",
       "  'both': {'NFORGLUAH'}},\n",
       " 'rxn00300': {'bigg_ann': 'GTPCII2',\n",
       "  'in_modelseed': ['GTPCII2', 'RIB1'],\n",
       "  'both': {'GTPCII2', 'RIB1'}},\n",
       " 'rxn02380': {'bigg_ann': 'MISSING', 'in_modelseed': ['G6PI2']},\n",
       " 'rxn08792': {'bigg_ann': 'L_LACD2',\n",
       "  'in_modelseed': ['L-LACD2', 'L_LACD2'],\n",
       "  'both': {'L-LACD2', 'L_LACD2'}},\n",
       " 'rxn10131': {'bigg_ann': ['ARGORNt7', 'ARGORNt7pp', 'ORNtm'],\n",
       "  'in_modelseed': ['ARGORNt7'],\n",
       "  'both': {'ARGORNt7', 'ARGORNt7pp', 'ORNtm'}},\n",
       " 'rxn08799': {'bigg_ann': 'LPLIPAL1A160pp',\n",
       "  'in_modelseed': ['LPLIPAL1A160pp'],\n",
       "  'both': {'LPLIPAL1A160pp'}},\n",
       " 'rxn05234': {'bigg_ann': 'RNTR2',\n",
       "  'in_modelseed': ['RNTR2'],\n",
       "  'both': {'RNTR2'}},\n",
       " 'rxn00433': {'bigg_ann': ['SARCOX', 'SARCOXp'],\n",
       "  'in_modelseed': ['SARCO', 'SARCOX'],\n",
       "  'both': {'SARCO', 'SARCOX', 'SARCOXp'}},\n",
       " 'rxn05957': {'bigg_ann': ['SHSL2', 'SHSL2h', 'SHSL2r'],\n",
       "  'in_modelseed': ['SHSL2', 'SHSL2r'],\n",
       "  'both': {'SHSL2', 'SHSL2h', 'SHSL2r'}},\n",
       " 'rxn05335': {'bigg_ann': ['3HAD140', '3HAD140_1'],\n",
       "  'in_modelseed': ['3HAD140'],\n",
       "  'both': {'3HAD140', '3HAD140_1'}},\n",
       " 'rxn03023': {'bigg_ann': 'MISSING', 'in_modelseed': ['D5KGK', 'R05661']},\n",
       " 'rxn00537': {'bigg_ann': 'MISSING', 'in_modelseed': ['PALDP', 'PPACAH']},\n",
       " 'rxn08551': {'bigg_ann': 'MISSING', 'in_modelseed': ['G3PAT180']},\n",
       " 'rxn00679': {'bigg_ann': ['MCITS', 'MCITSm'],\n",
       "  'in_modelseed': ['MCITS'],\n",
       "  'both': {'MCITS', 'MCITSm'}},\n",
       " 'rxn00758': {'bigg_ann': ['GPDDA1', 'GPDDA1pp'],\n",
       "  'in_modelseed': ['GPDDA1'],\n",
       "  'both': {'GPDDA1', 'GPDDA1pp'}},\n",
       " 'rxn00272': {'bigg_ann': ['AGTi', 'AGTim', 'AGTix'],\n",
       "  'in_modelseed': ['AGT', 'AGTi', 'YFL030W'],\n",
       "  'both': {'AGT', 'AGTi', 'AGTim', 'AGTix', 'YFL030W'}},\n",
       " 'rxn05555': {'bigg_ann': ['FE2abc', 'FE2abcpp'],\n",
       "  'in_modelseed': ['FE2abc'],\n",
       "  'both': {'FE2abc', 'FE2abcpp'}},\n",
       " 'rxn09111': {'bigg_ann': 'PGSA160',\n",
       "  'in_modelseed': ['PGSA160'],\n",
       "  'both': {'PGSA160'}},\n",
       " 'rxn01746': {'bigg_ann': ['ALLTAHr', 'ATAH'],\n",
       "  'in_modelseed': ['ALLTAH', 'ALLTAHr', 'DAL2'],\n",
       "  'both': {'ALLTAH', 'ALLTAHr', 'ATAH', 'DAL2'}},\n",
       " 'rxn05607': {'bigg_ann': ['MALTpts', 'MALTptspp'],\n",
       "  'in_modelseed': ['MALTpts'],\n",
       "  'both': {'MALTpts', 'MALTptspp'}},\n",
       " 'rxn05348': {'bigg_ann': 'MISSING',\n",
       "  'in_modelseed': ['3OAS120', 'FAS2_5_1', 'MCMAT5']},\n",
       " 'rxn03245': {'bigg_ann': ['ECOAH4', 'ECOAH4_1', 'ECOAH4m', 'ECOAH4p'],\n",
       "  'in_modelseed': ['ECOAH4'],\n",
       "  'both': {'ECOAH4', 'ECOAH4_1', 'ECOAH4m', 'ECOAH4p'}},\n",
       " 'rxn01504': {'bigg_ann': 'MISSING', 'in_modelseed': ['MGCH', 'MGCOAH']},\n",
       " 'rxn00907': {'bigg_ann': ['MTHFD', 'MTHFD_1', 'MTHFDm', 'MTHFDm_1'],\n",
       "  'in_modelseed': ['ADE3_1', 'MTHFD'],\n",
       "  'both': {'ADE3_1', 'MTHFD', 'MTHFD_1', 'MTHFDm', 'MTHFDm_1'}},\n",
       " 'rxn05458': {'bigg_ann': 'MISSING', 'in_modelseed': ['FAS1_7_c']},\n",
       " 'rxn08300': {'bigg_ann': 'MISSING', 'in_modelseed': ['DAGK181']},\n",
       " 'rxn08297': {'bigg_ann': 'MISSING', 'in_modelseed': ['DAGK160']},\n",
       " 'rxn02911': {'bigg_ann': ['ECOAH5',\n",
       "   'ECOAH5_1',\n",
       "   'ECOAH5_2',\n",
       "   'ECOAH5m',\n",
       "   'ECOAH5p'],\n",
       "  'in_modelseed': ['ECOAH5'],\n",
       "  'both': {'ECOAH5', 'ECOAH5_1', 'ECOAH5_2', 'ECOAH5m', 'ECOAH5p'}},\n",
       " 'rxn01280': {'bigg_ann': ['HOXPRm', 'HOXPRx', 'TRSARr'],\n",
       "  'in_modelseed': ['HOXPRx', 'TRSAR', 'TRSARr'],\n",
       "  'both': {'HOXPRm', 'HOXPRx', 'TRSAR', 'TRSARr'}},\n",
       " 'rxn05581': {'bigg_ann': ['GLYCt', 'GLYCt1', 'GLYCtex', 'GLYCtm', 'GLYCtpp'],\n",
       "  'in_modelseed': ['FPS1', 'GLYCt', 'GLYCt5'],\n",
       "  'both': {'FPS1',\n",
       "   'GLYCt',\n",
       "   'GLYCt1',\n",
       "   'GLYCt5',\n",
       "   'GLYCtex',\n",
       "   'GLYCtm',\n",
       "   'GLYCtpp'}},\n",
       " 'rxn03610': {'bigg_ann': 'HOPNTAL2',\n",
       "  'in_modelseed': ['HOPNTAL2'],\n",
       "  'both': {'HOPNTAL2'}},\n",
       " 'rxn09320': {'bigg_ann': 'TPRDCOAS',\n",
       "  'in_modelseed': ['TPRDCOAS'],\n",
       "  'both': {'TPRDCOAS'}},\n",
       " 'rxn09114': {'bigg_ann': 'MISSING', 'in_modelseed': ['PGSA181']},\n",
       " 'rxn05535': {'bigg_ann': 'DIPEPabc11',\n",
       "  'in_modelseed': ['DIPEPabc11'],\n",
       "  'both': {'DIPEPabc11'}},\n",
       " 'rxn09188': {'bigg_ann': ['PROD2', 'PROD2m'],\n",
       "  'in_modelseed': ['PRO1z', 'PROD2'],\n",
       "  'both': {'PRO1z', 'PROD2', 'PROD2m'}},\n",
       " 'rxn01422': {'bigg_ann': 'MISSING', 'in_modelseed': ['U56']},\n",
       " 'rxn09180': {'bigg_ann': 'PPPGO3',\n",
       "  'in_modelseed': ['PPPGO3'],\n",
       "  'both': {'PPPGO3'}},\n",
       " 'rxn08822': {'bigg_ann': 'LPLIPAL2A180',\n",
       "  'in_modelseed': ['LPLIPAL2A180'],\n",
       "  'both': {'LPLIPAL2A180'}},\n",
       " 'rxn02782': {'bigg_ann': 'MISSING', 'in_modelseed': ['CATB']},\n",
       " 'rxn01620': {'bigg_ann': 'FCLPA',\n",
       "  'in_modelseed': ['FCLPA'],\n",
       "  'both': {'FCLPA'}},\n",
       " 'rxn05345': {'bigg_ann': 'MISSING',\n",
       "  'in_modelseed': ['3OAS140', 'FAS2_6_1', 'MCMAT6']},\n",
       " 'rxn01522': {'bigg_ann': ['XAND', 'XANDp'],\n",
       "  'in_modelseed': ['XAND', 'XANDb'],\n",
       "  'both': {'XAND', 'XANDb', 'XANDp'}},\n",
       " 'rxn00336': {'bigg_ann': ['ICL', 'ICL_1'],\n",
       "  'in_modelseed': ['ICL', 'ICL1', 'ICL2'],\n",
       "  'both': {'ICL', 'ICL1', 'ICL2', 'ICL_1'}},\n",
       " 'rxn03891': {'bigg_ann': 'HEXTT',\n",
       "  'in_modelseed': ['HEXTT'],\n",
       "  'both': {'HEXTT'}},\n",
       " 'rxn01465': {'bigg_ann': ['DHORTS', 'DHORTSn', 'DHR'],\n",
       "  'in_modelseed': ['DH or TS', 'DHORTS', 'DHORTSn', 'URA4'],\n",
       "  'both': {'DH or TS', 'DHORTS', 'DHORTSn', 'DHR', 'URA4'}},\n",
       " 'rxn03052': {'bigg_ann': ['MHPGLUT', 'MS', 'MTHPTGHMr'],\n",
       "  'in_modelseed': ['MET6', 'MHPGLUT', 'MTHPTGHM', 'MTHPTGHMr'],\n",
       "  'both': {'MET6', 'MHPGLUT', 'MS', 'MTHPTGHM', 'MTHPTGHMr'}},\n",
       " 'rxn05145': {'bigg_ann': ['PIabc', 'PIuabcpp'],\n",
       "  'in_modelseed': ['PIabc'],\n",
       "  'both': {'PIabc', 'PIuabcpp'}},\n",
       " 'rxn01301': {'bigg_ann': ['HSDx', 'HSDxi'],\n",
       "  'in_modelseed': ['HOM6_1', 'HSDx', 'HSDxi'],\n",
       "  'both': {'HOM6_1', 'HSDx', 'HSDxi'}},\n",
       " 'rxn01643': {'bigg_ann': ['ASAD', 'ASADH', 'ASADi'],\n",
       "  'in_modelseed': ['ASAD', 'ASADi', 'HOM2'],\n",
       "  'both': {'ASAD', 'ASADH', 'ASADi', 'HOM2'}},\n",
       " 'rxn04598': {'bigg_ann': 'CINNDO',\n",
       "  'in_modelseed': ['CINNDO'],\n",
       "  'both': {'CINNDO'}},\n",
       " 'rxn02449': {'bigg_ann': ['GDTP', 'GTPDPDP'],\n",
       "  'in_modelseed': ['EPPP2', 'GDPT', 'GTPDPDP'],\n",
       "  'both': {'EPPP2', 'GDPT', 'GDTP', 'GTPDPDP'}},\n",
       " 'rxn00248': {'bigg_ann': ['MDH',\n",
       "   'MDHf',\n",
       "   'MDHh',\n",
       "   'MDHi2',\n",
       "   'MDHm',\n",
       "   'MDHm_1',\n",
       "   'MDHp',\n",
       "   'MDHx'],\n",
       "  'in_modelseed': ['MDH', 'MDHi2'],\n",
       "  'both': {'MDH', 'MDHf', 'MDHh', 'MDHi2', 'MDHm', 'MDHm_1', 'MDHp', 'MDHx'}},\n",
       " 'rxn00295': {'bigg_ann': 'MISSING', 'in_modelseed': ['UAG4E']},\n",
       " 'rxn00499': {'bigg_ann': ['LDH_L', 'LDH_Lm', 'LLDHh', 'r0173'],\n",
       "  'in_modelseed': ['LDH_L'],\n",
       "  'both': {'LDH_L', 'LDH_Lm', 'LLDHh', 'r0173'}},\n",
       " 'rxn08844': {'bigg_ann': 'MISSING', 'in_modelseed': ['LPLIPAL2E181']},\n",
       " 'rxn00707': {'bigg_ann': 'MISSING', 'in_modelseed': ['CYTDK3']},\n",
       " 'rxn00369': {'bigg_ann': 'CYTDK2',\n",
       "  'in_modelseed': ['CYTDK2', 'URK1_2'],\n",
       "  'both': {'CYTDK2', 'URK1_2'}},\n",
       " 'rxn06937': {'bigg_ann': ['GLUTRS', 'GLUTRS_1', 'GLUTRSm'],\n",
       "  'in_modelseed': ['GLUTRS'],\n",
       "  'both': {'GLUTRS', 'GLUTRS_1', 'GLUTRSm'}},\n",
       " 'rxn01637': {'bigg_ann': ['ACOTA', 'ACOTAim', 'AOTA'],\n",
       "  'in_modelseed': ['ACOTA'],\n",
       "  'both': {'ACOTA', 'ACOTAim', 'AOTA'}},\n",
       " 'rxn00708': {'bigg_ann': ['NTD2', 'NTD2e', 'NTD2l', 'NTD2m', 'NTD2pp'],\n",
       "  'in_modelseed': ['NTD2', 'U34'],\n",
       "  'both': {'NTD2', 'NTD2e', 'NTD2l', 'NTD2m', 'NTD2pp', 'U34'}},\n",
       " 'rxn00289': {'bigg_ann': ['MCITL2', 'MCITL2m'],\n",
       "  'in_modelseed': ['MCITL2', 'MCL', 'MICITL'],\n",
       "  'both': {'MCITL2', 'MCITL2m', 'MCL', 'MICITL'}},\n",
       " 'rxn01269': {'bigg_ann': 'PPND2',\n",
       "  'in_modelseed': ['PPND2', 'TYR1'],\n",
       "  'both': {'PPND2', 'TYR1'}},\n",
       " 'rxn00392': {'bigg_ann': ['RBFK', 'RBFKm'],\n",
       "  'in_modelseed': ['FMN1_1', 'RBFK'],\n",
       "  'both': {'FMN1_1', 'RBFK', 'RBFKm'}},\n",
       " 'rxn00747': {'bigg_ann': ['TPI', 'TPIh'],\n",
       "  'in_modelseed': ['TPI'],\n",
       "  'both': {'TPI', 'TPIh'}},\n",
       " 'rxn01334': {'bigg_ann': ['FBA3', 'FBA3hi'],\n",
       "  'in_modelseed': ['FBA3'],\n",
       "  'both': {'FBA3', 'FBA3hi'}},\n",
       " 'rxn00830': {'bigg_ann': ['IDIh', 'IPDDI', 'IPDDIx'],\n",
       "  'in_modelseed': ['IDI1', 'IPDDI', 'IPDDIi'],\n",
       "  'both': {'IDI1', 'IDIh', 'IPDDI', 'IPDDIi', 'IPDDIx'}},\n",
       " 'rxn05219': {'bigg_ann': ['METabc', 'METabcpp'],\n",
       "  'in_modelseed': ['METabc'],\n",
       "  'both': {'METabc', 'METabcpp'}},\n",
       " 'rxn10113': {'bigg_ann': 'CYTBO3',\n",
       "  'in_modelseed': ['CYTBO3', 'CYTBO3pp'],\n",
       "  'both': {'CYTBO3', 'CYTBO3pp'}},\n",
       " 'rxn00879': {'bigg_ann': 'INS2D',\n",
       "  'in_modelseed': ['INS2D'],\n",
       "  'both': {'INS2D'}},\n",
       " 'rxn03406': {'bigg_ann': 'GLNSP1',\n",
       "  'in_modelseed': ['GLNSP1'],\n",
       "  'both': {'GLNSP1'}},\n",
       " 'rxn00029': {'bigg_ann': ['PPBNGS', 'PPBNGS_1'],\n",
       "  'in_modelseed': ['HEM2', 'PPBNGS'],\n",
       "  'both': {'HEM2', 'PPBNGS', 'PPBNGS_1'}},\n",
       " 'rxn12646': {'bigg_ann': 'MISSING', 'in_modelseed': ['MEAMP1(gly-gln)']},\n",
       " 'rxn06777': {'bigg_ann': ['HACD6', 'HACD6_1', 'HACD6i', 'HACD6m', 'HACD6p'],\n",
       "  'in_modelseed': ['HACD6', 'HACD6i'],\n",
       "  'both': {'HACD6', 'HACD6_1', 'HACD6i', 'HACD6m', 'HACD6p'}},\n",
       " 'rxn05256': {'bigg_ann': 'APSR',\n",
       "  'in_modelseed': ['APSPTi', 'APSR'],\n",
       "  'both': {'APSPTi', 'APSR'}},\n",
       " 'rxn02175': {'bigg_ann': ['APPAT', 'PTPATe', 'PTPATi', 'PTPATim'],\n",
       "  'in_modelseed': ['PTPAT', 'PTPATi', 'U94'],\n",
       "  'both': {'APPAT', 'PTPAT', 'PTPATe', 'PTPATi', 'PTPATim', 'U94'}},\n",
       " 'rxn05317': {'bigg_ann': ['DADNt2', 'DADNt2pp'],\n",
       "  'in_modelseed': ['DADNt2', 'U182', 'U188', 'U198'],\n",
       "  'both': {'DADNt2', 'DADNt2pp', 'U182', 'U188', 'U198'}},\n",
       " 'rxn02835': {'bigg_ann': ['PRACHh', 'PRAMPC', 'PRAMPC_1'],\n",
       "  'in_modelseed': ['HIS4_2', 'PRAMPC'],\n",
       "  'both': {'HIS4_2', 'PRACHh', 'PRAMPC', 'PRAMPC_1'}},\n",
       " 'rxn03884': {'bigg_ann': 'EDA', 'in_modelseed': ['EDA'], 'both': {'EDA'}},\n",
       " 'rxn01675': {'bigg_ann': 'G1PTT',\n",
       "  'in_modelseed': ['G1PTMT', 'G1PTT'],\n",
       "  'both': {'G1PTMT', 'G1PTT'}},\n",
       " 'rxn00324': {'bigg_ann': ['GLYCLTDy', 'GLYCLTDym'],\n",
       "  'in_modelseed': ['GLYCLTDy', 'GLYCLTDyr'],\n",
       "  'both': {'GLYCLTDy', 'GLYCLTDym', 'GLYCLTDyr'}},\n",
       " 'rxn08839': {'bigg_ann': 'MISSING', 'in_modelseed': ['LPLIPAL2E140']},\n",
       " 'rxn03536': {'bigg_ann': 'ADOCBIK',\n",
       "  'in_modelseed': ['ADCOBAK', 'ADOCBIK'],\n",
       "  'both': {'ADCOBAK', 'ADOCBIK'}},\n",
       " 'rxn01575': {'bigg_ann': ['BCTA', 'BCTAh', 'ILETA', 'ILETAm'],\n",
       "  'in_modelseed': ['BAT2_1', 'ILETA'],\n",
       "  'both': {'BAT2_1', 'BCTA', 'BCTAh', 'ILETA', 'ILETAm'}},\n",
       " 'rxn01454': {'bigg_ann': 'MISSING',\n",
       "  'in_modelseed': ['HMGCOAS', 'HMGCOASi', 'HMGS']},\n",
       " 'rxn05150': {'bigg_ann': ['ZNabc', 'ZNabcpp'],\n",
       "  'in_modelseed': ['ZN2abc2', 'ZNabc'],\n",
       "  'both': {'ZN2abc2', 'ZNabc', 'ZNabcpp'}},\n",
       " 'rxn00656': {'bigg_ann': 'APATr',\n",
       "  'in_modelseed': ['APATr', 'BALAAT'],\n",
       "  'both': {'APATr', 'BALAAT'}},\n",
       " 'rxn02009': {'bigg_ann': 'UAAGLS1',\n",
       "  'in_modelseed': ['UAAGLS1', 'UAAGLS2'],\n",
       "  'both': {'UAAGLS1', 'UAAGLS2'}},\n",
       " 'rxn01315': {'bigg_ann': 'MISSING', 'in_modelseed': ['PHE4MO', 'PHETHPTOX']},\n",
       " 'rxn01868': {'bigg_ann': 'BETALDHy',\n",
       "  'in_modelseed': ['BETALDHy'],\n",
       "  'both': {'BETALDHy'}},\n",
       " 'rxn03240': {'bigg_ann': ['ECOAH7', 'ECOAH7_1', 'ECOAH7m', 'ECOAH7p'],\n",
       "  'in_modelseed': ['ECOAH7'],\n",
       "  'both': {'ECOAH7', 'ECOAH7_1', 'ECOAH7m', 'ECOAH7p'}},\n",
       " 'rxn09562': {'bigg_ann': 'GK2',\n",
       "  'in_modelseed': ['GK2', 'GUK1_3'],\n",
       "  'both': {'GK2', 'GUK1_3'}},\n",
       " 'rxn00555': {'bigg_ann': 'MISSING',\n",
       "  'in_modelseed': ['GF6PTA', 'GF6PTAr', 'GFA1']},\n",
       " 'rxn01044': {'bigg_ann': 'XYLI1',\n",
       "  'in_modelseed': ['XYLI1'],\n",
       "  'both': {'XYLI1'}},\n",
       " 'rxn10011': {'bigg_ann': 'ACOAD3',\n",
       "  'in_modelseed': ['ACOAD3'],\n",
       "  'both': {'ACOAD3'}},\n",
       " 'rxn00143': {'bigg_ann': 'AHCYSNS',\n",
       "  'in_modelseed': ['AHCYSNS'],\n",
       "  'both': {'AHCYSNS'}},\n",
       " 'rxn12644': {'bigg_ann': 'MISSING', 'in_modelseed': ['MEAMP1(ala-thr)']},\n",
       " 'rxn00147': {'bigg_ann': 'PPS', 'in_modelseed': ['PPS'], 'both': {'PPS'}},\n",
       " 'rxn00849': {'bigg_ann': 'ALATA_D',\n",
       "  'in_modelseed': ['ALATA_D'],\n",
       "  'both': {'ALATA_D'}},\n",
       " 'rxn08843': {'bigg_ann': 'LPLIPAL2E180',\n",
       "  'in_modelseed': ['LPLIPAL2E180'],\n",
       "  'both': {'LPLIPAL2E180'}},\n",
       " 'rxn00213': {'bigg_ann': 'GALUi',\n",
       "  'in_modelseed': ['GALU', 'GALUi', 'UGP1', 'YHL012W'],\n",
       "  'both': {'GALU', 'GALUi', 'UGP1', 'YHL012W'}},\n",
       " 'rxn05199': {'bigg_ann': ['URIt2', 'URIt2pp'],\n",
       "  'in_modelseed': ['FUI1_1', 'FUI1_2', 'FUI1_3', 'URIt2', 'URIt2r'],\n",
       "  'both': {'FUI1_1', 'FUI1_2', 'FUI1_3', 'URIt2', 'URIt2pp', 'URIt2r'}},\n",
       " 'rxn10162': {'bigg_ann': ['HDCAt2', 'HDCAt2pp'],\n",
       "  'in_modelseed': ['HDCAt2'],\n",
       "  'both': {'HDCAt2', 'HDCAt2pp'}},\n",
       " 'rxn01629': {'bigg_ann': ['G1SAT', 'G1SAT_1'],\n",
       "  'in_modelseed': ['G1SAT', 'G1SATi'],\n",
       "  'both': {'G1SAT', 'G1SAT_1', 'G1SATi'}},\n",
       " 'rxn05164': {'bigg_ann': ['HISabc', 'HISabcpp'],\n",
       "  'in_modelseed': ['HISabc'],\n",
       "  'both': {'HISabc', 'HISabcpp'}},\n",
       " 'rxn01740': {'bigg_ann': ['SHK3Dr', 'SKDH'],\n",
       "  'in_modelseed': ['ARO1_3', 'SHK3D', 'SHK3Dr'],\n",
       "  'both': {'ARO1_3', 'SHK3D', 'SHK3Dr', 'SKDH'}},\n",
       " 'rxn05533': {'bigg_ann': 'DIPEPabc1',\n",
       "  'in_modelseed': ['DIPEPabc1'],\n",
       "  'both': {'DIPEPabc1'}},\n",
       " 'rxn00588': {'bigg_ann': 'CATDOX',\n",
       "  'in_modelseed': ['CATA', 'CATDOX'],\n",
       "  'both': {'CATA', 'CATDOX'}},\n",
       " 'rxn00190': {'bigg_ann': ['DNGALh', 'NADS2'],\n",
       "  'in_modelseed': ['NADS2', 'NADS2i'],\n",
       "  'both': {'DNGALh', 'NADS2', 'NADS2i'}},\n",
       " 'rxn05327': {'bigg_ann': 'MISSING', 'in_modelseed': ['DEMAT4', 'EAR100x']},\n",
       " 'rxn05205': {'bigg_ann': ['DCYTt2', 'DCYTt2pp'],\n",
       "  'in_modelseed': ['DCYTt2', 'U183', 'U189', 'U199'],\n",
       "  'both': {'DCYTt2', 'DCYTt2pp', 'U183', 'U189', 'U199'}},\n",
       " 'rxn01013': {'bigg_ann': ['GLYCOR_nadp', 'HPYRRy'],\n",
       "  'in_modelseed': ['HPYRRy'],\n",
       "  'both': {'GLYCOR_nadp', 'HPYRRy'}},\n",
       " 'rxn10123': {'bigg_ann': 'NADH7',\n",
       "  'in_modelseed': ['NADH7'],\n",
       "  'both': {'NADH7'}},\n",
       " 'rxn02762': {'bigg_ann': ['23CN2P3', '23PDE4pp'],\n",
       "  'in_modelseed': ['23CN2P3'],\n",
       "  'both': {'23CN2P3', '23PDE4pp'}},\n",
       " 'rxn05655': {'bigg_ann': ['SUCpts', 'SUCptspp'],\n",
       "  'in_modelseed': ['SUCpts'],\n",
       "  'both': {'SUCpts', 'SUCptspp'}},\n",
       " 'rxn08801': {'bigg_ann': 'LPLIPAL1A180pp',\n",
       "  'in_modelseed': ['LPLIPAL1A180pp'],\n",
       "  'both': {'LPLIPAL1A180pp'}},\n",
       " 'rxn02161': {'bigg_ann': 'RMK', 'in_modelseed': ['RMK'], 'both': {'RMK'}},\n",
       " 'rxn05244': {'bigg_ann': ['ILEt2r', 'ILEt2rpp', 'ILEt7', 'ILEth', 'ILEtm'],\n",
       "  'in_modelseed': ['AGP1_6',\n",
       "   'BAP2_2',\n",
       "   'BAP3_2',\n",
       "   'GAP1_10',\n",
       "   'ILEt2',\n",
       "   'ILEt2r',\n",
       "   'TAT1_1',\n",
       "   'VAP1_3'],\n",
       "  'both': {'AGP1_6',\n",
       "   'BAP2_2',\n",
       "   'BAP3_2',\n",
       "   'GAP1_10',\n",
       "   'ILEt2',\n",
       "   'ILEt2r',\n",
       "   'ILEt2rpp',\n",
       "   'ILEt7',\n",
       "   'ILEth',\n",
       "   'ILEtm',\n",
       "   'TAT1_1',\n",
       "   'VAP1_3'}},\n",
       " 'rxn00503': {'bigg_ann': ['P5CD', 'P5CDm'],\n",
       "  'in_modelseed': ['P5CD'],\n",
       "  'both': {'P5CD', 'P5CDm'}},\n",
       " 'rxn00251': {'bigg_ann': 'PPC', 'in_modelseed': ['PPC'], 'both': {'PPC'}},\n",
       " 'rxn04043': {'bigg_ann': 'MISSING', 'in_modelseed': ['PFK (adp)']},\n",
       " 'rxn10432': {'bigg_ann': 'AHGDx',\n",
       "  'in_modelseed': ['AHGDx'],\n",
       "  'both': {'AHGDx'}},\n",
       " 'rxn00139': {'bigg_ann': ['ADPT', 'r0051'],\n",
       "  'in_modelseed': ['ADPT', 'APT1', 'APT2'],\n",
       "  'both': {'ADPT', 'APT1', 'APT2', 'r0051'}},\n",
       " 'rxn00920': {'bigg_ann': ['GCPN', 'GCPNn', 'PDE4', 'PDE4g'],\n",
       "  'in_modelseed': ['PDE2_4', 'PDE4'],\n",
       "  'both': {'GCPN', 'GCPNn', 'PDE2_4', 'PDE4', 'PDE4g'}},\n",
       " 'rxn00790': {'bigg_ann': ['GLUPRT', 'PRDPARh'],\n",
       "  'in_modelseed': ['ADE4', 'GLUPRT'],\n",
       "  'both': {'ADE4', 'GLUPRT', 'PRDPARh'}},\n",
       " 'rxn03910': {'bigg_ann': ['MCS', 'MECDPS'],\n",
       "  'in_modelseed': ['MECDPS'],\n",
       "  'both': {'MCS', 'MECDPS'}},\n",
       " 'rxn00237': {'bigg_ann': ['ATGDm', 'NDPK1', 'NDPK1m', 'NDPK1n'],\n",
       "  'in_modelseed': ['NDPK1', 'YNK1_8'],\n",
       "  'both': {'ATGDm', 'NDPK1', 'NDPK1m', 'NDPK1n', 'YNK1_8'}},\n",
       " 'rxn03540': {'bigg_ann': 'ADCYRS',\n",
       "  'in_modelseed': ['ADCOBHEXS', 'ADCYRS'],\n",
       "  'both': {'ADCOBHEXS', 'ADCYRS'}},\n",
       " 'rxn08086': {'bigg_ann': 'MISSING', 'in_modelseed': ['AGPAT160']},\n",
       " 'rxn08311': {'bigg_ann': 'DASYN180',\n",
       "  'in_modelseed': ['DASYN180'],\n",
       "  'both': {'DASYN180'}},\n",
       " 'rxn03175': {'bigg_ann': ['PRICIh', 'PRMICI'],\n",
       "  'in_modelseed': ['PRMICI', 'PRMICIi'],\n",
       "  'both': {'PRICIh', 'PRMICI', 'PRMICIi'}},\n",
       " 'rxn10124': {'bigg_ann': 'MISSING', 'in_modelseed': ['NADH8']},\n",
       " 'rxn01146': {'bigg_ann': 'TMDPP',\n",
       "  'in_modelseed': ['PNP1_2', 'TMDPP'],\n",
       "  'both': {'PNP1_2', 'TMDPP'}},\n",
       " 'rxn05336': {'bigg_ann': ['3OAR160', '3OAR160_1'],\n",
       "  'in_modelseed': ['3OAR160', 'HHDR7'],\n",
       "  'both': {'3OAR160', '3OAR160_1', 'HHDR7'}},\n",
       " 'rxn09210': {'bigg_ann': 'PSSA180',\n",
       "  'in_modelseed': ['PSSA180'],\n",
       "  'both': {'PSSA180'}},\n",
       " 'rxn01484': {'bigg_ann': 'AGDC',\n",
       "  'in_modelseed': ['AGDC', 'AGDC_r'],\n",
       "  'both': {'AGDC', 'AGDC_r'}},\n",
       " 'rxn02112': {'bigg_ann': 'MISSING', 'in_modelseed': ['BTDD-RR']},\n",
       " 'rxn00162': {'bigg_ann': 'OAADC',\n",
       "  'in_modelseed': ['OAADC', 'OXDE'],\n",
       "  'both': {'OAADC', 'OXDE'}},\n",
       " 'rxn01124': {'bigg_ann': 'MISSING', 'in_modelseed': ['DGLCND', 'DKII']},\n",
       " 'rxn00285': {'bigg_ann': ['SUCLm', 'SUCOAS', 'SUCOASm'],\n",
       "  'in_modelseed': ['SUCOAS', 'SUCOAS1m'],\n",
       "  'both': {'SUCLm', 'SUCOAS', 'SUCOAS1m', 'SUCOASm'}},\n",
       " 'rxn04794': {'bigg_ann': ['OBTFL', 'PCFPTh', 'PCFPTm'],\n",
       "  'in_modelseed': ['OBTFL'],\n",
       "  'both': {'OBTFL', 'PCFPTh', 'PCFPTm'}},\n",
       " 'rxn05567': {'bigg_ann': ['GALTpts', 'GALTptspp'],\n",
       "  'in_modelseed': ['GALTpts'],\n",
       "  'both': {'GALTpts', 'GALTptspp'}},\n",
       " 'rxn05172': {'bigg_ann': ['TAURabc', 'TAURabcpp'],\n",
       "  'in_modelseed': ['TAURabc'],\n",
       "  'both': {'TAURabc', 'TAURabcpp'}},\n",
       " 'rxn01642': {'bigg_ann': ['IZPN', 'IZPN_1'],\n",
       "  'in_modelseed': ['IZPN'],\n",
       "  'both': {'IZPN', 'IZPN_1'}},\n",
       " 'rxn00132': {'bigg_ann': ['NTD7', 'NTD7e', 'NTD7l', 'NTD7pp', 'r0047'],\n",
       "  'in_modelseed': ['NTD7', 'U30'],\n",
       "  'both': {'NTD7', 'NTD7e', 'NTD7l', 'NTD7pp', 'U30', 'r0047'}},\n",
       " 'rxn01204': {'bigg_ann': ['ABTA', 'ABTArm'],\n",
       "  'in_modelseed': ['ABTA', 'ABTAr', 'UGA1'],\n",
       "  'both': {'ABTA', 'ABTAr', 'ABTArm', 'UGA1'}},\n",
       " 'rxn04052': {'bigg_ann': 'MISSING', 'in_modelseed': ['COPRECI', 'CPC8MM']},\n",
       " 'rxn01479': {'bigg_ann': 'PETHCT',\n",
       "  'in_modelseed': ['MUQ1', 'PETHCT'],\n",
       "  'both': {'MUQ1', 'PETHCT'}},\n",
       " 'rxn08615': {'bigg_ann': 'MISSING', 'in_modelseed': ['GLCS1']},\n",
       " 'rxn08815': {'bigg_ann': 'MISSING', 'in_modelseed': ['LPLIPAL1G180pp']},\n",
       " 'rxn00126': {'bigg_ann': ['MATm', 'METAT'],\n",
       "  'in_modelseed': ['METAT', 'SAM1', 'SAM2'],\n",
       "  'both': {'MATm', 'METAT', 'SAM1', 'SAM2'}},\n",
       " 'rxn01518': {'bigg_ann': ['DURIK1', 'DURIK1m'],\n",
       "  'in_modelseed': ['DURIK1', 'U15'],\n",
       "  'both': {'DURIK1', 'DURIK1m', 'U15'}},\n",
       " 'rxn01015': {'bigg_ann': ['HPI', 'HPYRI'],\n",
       "  'in_modelseed': ['HPYRI'],\n",
       "  'both': {'HPI', 'HPYRI'}},\n",
       " 'rxn01684': {'bigg_ann': 'PUNP8',\n",
       "  'in_modelseed': ['PUNP8'],\n",
       "  'both': {'PUNP8'}},\n",
       " 'rxn08798': {'bigg_ann': 'MISSING', 'in_modelseed': ['LPLIPAL1A141pp']},\n",
       " 'rxn05175': {'bigg_ann': ['SPMDabc', 'SPMDabcpp'],\n",
       "  'in_modelseed': ['SPMDabc'],\n",
       "  'both': {'SPMDabc', 'SPMDabcpp'}},\n",
       " 'rxn05034': {'bigg_ann': 'MISSING',\n",
       "  'in_modelseed': ['BET2', 'COQ1', 'COQ2', 'COX10', 'RAM1', 'RER2', 'SRT1']},\n",
       " 'rxn13385': {'bigg_ann': ['MINOHPKn', 'PMI12346PS'],\n",
       "  'in_modelseed': ['PMI12346PS'],\n",
       "  'both': {'MINOHPKn', 'PMI12346PS'}},\n",
       " 'rxn08306': {'bigg_ann': 'DASYN120',\n",
       "  'in_modelseed': ['DASYN120'],\n",
       "  'both': {'DASYN120'}},\n",
       " 'rxn08821': {'bigg_ann': 'MISSING', 'in_modelseed': ['LPLIPAL2A161']},\n",
       " 'rxn00206': {'bigg_ann': 'MISSING', 'in_modelseed': ['SOD', 'SODr', 'SPODM']},\n",
       " 'rxn05340': {'bigg_ann': ['3OAR120', '3OAR120_1'],\n",
       "  'in_modelseed': ['3OAR120', 'HDDR5'],\n",
       "  'both': {'3OAR120', '3OAR120_1', 'HDDR5'}},\n",
       " 'rxn00405': {'bigg_ann': ['ARGDC', 'ARGDCm', 'ARGDCpp'],\n",
       "  'in_modelseed': ['ARGDC'],\n",
       "  'both': {'ARGDC', 'ARGDCm', 'ARGDCpp'}},\n",
       " 'rxn04704': {'bigg_ann': 'CPPPGO2',\n",
       "  'in_modelseed': ['CPPPGO2'],\n",
       "  'both': {'CPPPGO2'}},\n",
       " 'rxn05307': {'bigg_ann': ['SERt2m', 'SERt2r', 'SERt2rpp', 'SERth'],\n",
       "  'in_modelseed': ['AGP1_12',\n",
       "   'AGP3_3',\n",
       "   'DIP5_7',\n",
       "   'GAP1_18',\n",
       "   'GNP1_6',\n",
       "   'SERt2',\n",
       "   'SERt2r',\n",
       "   'SERt6'],\n",
       "  'both': {'AGP1_12',\n",
       "   'AGP3_3',\n",
       "   'DIP5_7',\n",
       "   'GAP1_18',\n",
       "   'GNP1_6',\n",
       "   'SERt2',\n",
       "   'SERt2m',\n",
       "   'SERt2r',\n",
       "   'SERt2rpp',\n",
       "   'SERt6',\n",
       "   'SERth'}},\n",
       " 'rxn01169': {'bigg_ann': 'MISSING', 'in_modelseed': ['GLK1_3']},\n",
       " 'rxn00299': {'bigg_ann': ['GTPCI', 'GTPCI_1', 'GTPCI_2', 'GTPCIn'],\n",
       "  'in_modelseed': ['FOL2', 'GTPCI'],\n",
       "  'both': {'FOL2', 'GTPCI', 'GTPCI_1', 'GTPCI_2', 'GTPCIn'}},\n",
       " 'rxn08546': {'bigg_ann': 'MISSING', 'in_modelseed': ['G3PAT120']},\n",
       " 'rxn00756': {'bigg_ann': 'CHOLSH',\n",
       "  'in_modelseed': ['CHOLSH'],\n",
       "  'both': {'CHOLSH'}},\n",
       " 'rxn08900': {'bigg_ann': 'MDH2', 'in_modelseed': ['MDH2'], 'both': {'MDH2'}},\n",
       " 'rxn10180': {'bigg_ann': ['PNTOt4', 'PNTOt4pp'],\n",
       "  'in_modelseed': ['PNTOt4'],\n",
       "  'both': {'PNTOt4', 'PNTOt4pp'}},\n",
       " 'rxn00904': {'bigg_ann': 'MISSING', 'in_modelseed': ['VPAMT']},\n",
       " 'rxn02484': {'bigg_ann': 'HMPK1',\n",
       "  'in_modelseed': ['HMPK1', 'THI20_1', 'THI21', 'THI22'],\n",
       "  'both': {'HMPK1', 'THI20_1', 'THI21', 'THI22'}},\n",
       " 'rxn02916': {'bigg_ann': ['AOXHEXCYCL', 'PPD2CSPp'],\n",
       "  'in_modelseed': ['AOXHEXCYCL'],\n",
       "  'both': {'AOXHEXCYCL', 'PPD2CSPp'}},\n",
       " 'rxn04597': {'bigg_ann': 'MISSING', 'in_modelseed': ['PPPNDO']},\n",
       " 'rxn01133': {'bigg_ann': 'MALTATr',\n",
       "  'in_modelseed': ['MALTAT', 'MALTATr'],\n",
       "  'both': {'MALTAT', 'MALTATr'}},\n",
       " 'rxn12639': {'bigg_ann': 'MISSING', 'in_modelseed': ['MEAMP1(ala-gln)']},\n",
       " 'rxn00875': {'bigg_ann': 'MISSING', 'in_modelseed': ['BUTCT']},\n",
       " 'rxn01000': {'bigg_ann': 'PPNDH',\n",
       "  'in_modelseed': ['PHA2', 'PPNDH'],\n",
       "  'both': {'PHA2', 'PPNDH'}},\n",
       " 'rxn03397': {'bigg_ann': 'URFGTT',\n",
       "  'in_modelseed': ['URFGTT'],\n",
       "  'both': {'URFGTT'}},\n",
       " 'rxn00363': {'bigg_ann': ['NTD4', 'NTD4e', 'NTD4l', 'NTD4pp'],\n",
       "  'in_modelseed': ['NTD4', 'U29'],\n",
       "  'both': {'NTD4', 'NTD4e', 'NTD4l', 'NTD4pp', 'U29'}},\n",
       " 'rxn01462': {'bigg_ann': 'GUDBUTNAH',\n",
       "  'in_modelseed': ['GUADB', 'GUDBUTNAH'],\n",
       "  'both': {'GUADB', 'GUDBUTNAH'}},\n",
       " 'rxn08128': {'bigg_ann': 'AMALT3',\n",
       "  'in_modelseed': ['AMALT3'],\n",
       "  'both': {'AMALT3'}},\n",
       " 'rxn12643': {'bigg_ann': 'MISSING', 'in_modelseed': ['MEAMP1(ala-leu)']},\n",
       " 'rxn02522': {'bigg_ann': ['23CN2P2', '23PDE2pp', 'RE1860E'],\n",
       "  'in_modelseed': ['23CN2P2'],\n",
       "  'both': {'23CN2P2', '23PDE2pp', 'RE1860E'}},\n",
       " 'rxn05183': {'bigg_ann': ['METDabc', 'METDabcpp'],\n",
       "  'in_modelseed': ['METDabc'],\n",
       "  'both': {'METDabc', 'METDabcpp'}},\n",
       " 'rxn01300': {'bigg_ann': ['HSK', 'HSK_1'],\n",
       "  'in_modelseed': ['HSK', 'THR1'],\n",
       "  'both': {'HSK', 'HSK_1', 'THR1'}},\n",
       " 'rxn00601': {'bigg_ann': 'AST', 'in_modelseed': ['AST'], 'both': {'AST'}},\n",
       " 'rxn00321': {'bigg_ann': 'LYSAM',\n",
       "  'in_modelseed': ['LYSAM'],\n",
       "  'both': {'LYSAM'}},\n",
       " 'rxn00786': {'bigg_ann': 'FBA', 'in_modelseed': ['FBA'], 'both': {'FBA'}},\n",
       " 'rxn03908': {'bigg_ann': ['CDPMEK', 'CMK'],\n",
       "  'in_modelseed': ['CDPMEK'],\n",
       "  'both': {'CDPMEK', 'CMK'}},\n",
       " 'rxn09197': {'bigg_ann': 'MISSING', 'in_modelseed': ['PSD120']},\n",
       " 'rxn01100': {'bigg_ann': ['PGK', 'PGK_1', 'PGKf', 'PGKh', 'PGKm'],\n",
       "  'in_modelseed': ['PGK', 'PGK1'],\n",
       "  'both': {'PGK', 'PGK1', 'PGK_1', 'PGKf', 'PGKh', 'PGKm'}},\n",
       " 'rxn00838': {'bigg_ann': ['ADSS', 'ADSSh'],\n",
       "  'in_modelseed': ['ADE12', 'ADSS', 'ADSS_i'],\n",
       "  'both': {'ADE12', 'ADSS', 'ADSS_i', 'ADSSh'}},\n",
       " 'rxn08707': {'bigg_ann': 'MISSING', 'in_modelseed': ['HEMEOSm']},\n",
       " 'rxn00102': {'bigg_ann': ['H2CO3D',\n",
       "   'H2CO3Dm',\n",
       "   'HCO3E',\n",
       "   'HCO3E_1',\n",
       "   'HCO3Ee',\n",
       "   'HCO3Ehi',\n",
       "   'HCO3Em',\n",
       "   'HCO3Em_1',\n",
       "   'HCO3En'],\n",
       "  'in_modelseed': ['H2CO3D', 'HCO3E'],\n",
       "  'both': {'H2CO3D',\n",
       "   'H2CO3Dm',\n",
       "   'HCO3E',\n",
       "   'HCO3E_1',\n",
       "   'HCO3Ee',\n",
       "   'HCO3Ehi',\n",
       "   'HCO3Em',\n",
       "   'HCO3Em_1',\n",
       "   'HCO3En'}},\n",
       " 'rxn00512': {'bigg_ann': ['GLYCLTDx', 'GLYCTO_syn'],\n",
       "  'in_modelseed': ['GLYCLTDx', 'GLYCLTDxr'],\n",
       "  'both': {'GLYCLTDx', 'GLYCLTDxr', 'GLYCTO_syn'}},\n",
       " 'rxn00831': {'bigg_ann': ['NTD11', 'NTD11pp'],\n",
       "  'in_modelseed': ['NTD11', 'U32'],\n",
       "  'both': {'NTD11', 'NTD11pp', 'U32'}},\n",
       " 'rxn00748': {'bigg_ann': 'MGSA', 'in_modelseed': ['MGSA'], 'both': {'MGSA'}},\n",
       " 'rxn01352': {'bigg_ann': 'NTPTP1',\n",
       "  'in_modelseed': ['DGTPH', 'NTPTP1'],\n",
       "  'both': {'DGTPH', 'NTPTP1'}},\n",
       " 'rxn12634': {'bigg_ann': 'MISSING',\n",
       "  'in_modelseed': ['AMPEP10', 'MEAMP1(gly-glu)']},\n",
       " 'rxn00883': {'bigg_ann': 'MI3PP',\n",
       "  'in_modelseed': ['INM1', 'MI3PP', 'YDR287W'],\n",
       "  'both': {'INM1', 'MI3PP', 'YDR287W'}},\n",
       " 'rxn01457': {'bigg_ann': 'GUI2', 'in_modelseed': ['GUI2'], 'both': {'GUI2'}},\n",
       " 'rxn01255': {'bigg_ann': ['CHORS', 'CHRS'],\n",
       "  'in_modelseed': ['ARO2', 'CH or S', 'CHORS'],\n",
       "  'both': {'ARO2', 'CH or S', 'CHORS', 'CHRS'}},\n",
       " 'rxn10014': {'bigg_ann': 'ACOAD6',\n",
       "  'in_modelseed': ['ACOAD6'],\n",
       "  'both': {'ACOAD6'}},\n",
       " 'rxn10155': {'bigg_ann': ['ASPt2_3', 'ASPt2_3pp'],\n",
       "  'in_modelseed': ['ASPt2_3'],\n",
       "  'both': {'ASPt2_3', 'ASPt2_3pp'}},\n",
       " 'rxn05485': {'bigg_ann': ['ACGApts', 'ACGAptspp'],\n",
       "  'in_modelseed': ['ACGApts'],\n",
       "  'both': {'ACGApts', 'ACGAptspp'}},\n",
       " 'rxn00214': {'bigg_ann': 'UDPG4E',\n",
       "  'in_modelseed': ['GAL10', 'UDPG4E'],\n",
       "  'both': {'GAL10', 'UDPG4E'}},\n",
       " 'rxn01895': {'bigg_ann': ['HKNDDH', 'HKNDDH_1'],\n",
       "  'in_modelseed': ['HKNDDH'],\n",
       "  'both': {'HKNDDH', 'HKNDDH_1'}},\n",
       " 'rxn01211': {'bigg_ann': ['MTHFC', 'MTHFC_1', 'MTHFCm', 'MTHFCm_1', 'MTHFCx'],\n",
       "  'in_modelseed': ['ADE3_3', 'MTHFC'],\n",
       "  'both': {'ADE3_3', 'MTHFC', 'MTHFC_1', 'MTHFCm', 'MTHFCm_1', 'MTHFCx'}},\n",
       " 'rxn05496': {'bigg_ann': ['ALAt2pp', 'ALAt2r', 'ALAt2rL', 'ALAtm', 'ALAtx'],\n",
       "  'in_modelseed': ['AGP1_2',\n",
       "   'ALAt2',\n",
       "   'ALAt2r',\n",
       "   'DIP5_2',\n",
       "   'GAP1_2',\n",
       "   'PUT4_1',\n",
       "   'TAT2_1'],\n",
       "  'both': {'AGP1_2',\n",
       "   'ALAt2',\n",
       "   'ALAt2pp',\n",
       "   'ALAt2r',\n",
       "   'ALAt2rL',\n",
       "   'ALAtm',\n",
       "   'ALAtx',\n",
       "   'DIP5_2',\n",
       "   'GAP1_2',\n",
       "   'PUT4_1',\n",
       "   'TAT2_1'}},\n",
       " 'rxn00527': {'bigg_ann': ['TYRTA',\n",
       "   'TYRTAh',\n",
       "   'TYRTAi',\n",
       "   'TYRTAim',\n",
       "   'TYRTAip',\n",
       "   'TYRTAm',\n",
       "   'TYRTAp'],\n",
       "  'in_modelseed': ['AAT1_2',\n",
       "   'AAT2_2',\n",
       "   'ARO8',\n",
       "   'ARO9_2',\n",
       "   'TYRTA',\n",
       "   'TYRTAi',\n",
       "   'TYRTAm',\n",
       "   'TYRTAp'],\n",
       "  'both': {'AAT1_2',\n",
       "   'AAT2_2',\n",
       "   'ARO8',\n",
       "   'ARO9_2',\n",
       "   'TYRTA',\n",
       "   'TYRTAh',\n",
       "   'TYRTAi',\n",
       "   'TYRTAim',\n",
       "   'TYRTAip',\n",
       "   'TYRTAm',\n",
       "   'TYRTAp'}},\n",
       " 'rxn00095': {'bigg_ann': ['AP4AH', 'BTPS'],\n",
       "  'in_modelseed': ['AP4AH', 'AP4AHr'],\n",
       "  'both': {'AP4AH', 'AP4AHr', 'BTPS'}},\n",
       " 'rxn05322': {'bigg_ann': 'MISSING', 'in_modelseed': ['BTMAT1', 'EAR40x']},\n",
       " 'rxn03003': {'bigg_ann': 'PCLAD',\n",
       "  'in_modelseed': ['PCLAD', 'U54'],\n",
       "  'both': {'PCLAD', 'U54'}},\n",
       " 'rxn05151': {'bigg_ann': ['LYSabc', 'LYSabcpp'],\n",
       "  'in_modelseed': ['LYSabc'],\n",
       "  'both': {'LYSabc', 'LYSabcpp'}},\n",
       " 'rxn03537': {'bigg_ann': 'ACBIPGT',\n",
       "  'in_modelseed': ['ACBIPGT'],\n",
       "  'both': {'ACBIPGT'}},\n",
       " 'rxn08804': {'bigg_ann': 'MISSING', 'in_modelseed': ['LPLIPAL1E140pp']},\n",
       " 'rxn01316': {'bigg_ann': 'MISSING', 'in_modelseed': ['ACNPLYSr']},\n",
       " 'rxn00966': {'bigg_ann': 'CHRPL',\n",
       "  'in_modelseed': ['CHRPL', 'TRP2_2', 'TRP3_3'],\n",
       "  'both': {'CHRPL', 'TRP2_2', 'TRP3_3'}},\n",
       " 'rxn01917': {'bigg_ann': ['ACGK', 'ACGKm'],\n",
       "  'in_modelseed': ['ACGK'],\n",
       "  'both': {'ACGK', 'ACGKm'}},\n",
       " 'rxn08527': {'bigg_ann': 'FRD2', 'in_modelseed': ['FRD2'], 'both': {'FRD2'}},\n",
       " 'rxn01509': {'bigg_ann': 'DGK1',\n",
       "  'in_modelseed': ['DGK1', 'GUK1_2'],\n",
       "  'both': {'DGK1', 'GUK1_2'}},\n",
       " 'rxn02011': {'bigg_ann': 'MISSING', 'in_modelseed': ['UAAGDS']},\n",
       " 'rxn00173': {'bigg_ann': ['PTAr', 'PTArh', 'PTArm'],\n",
       "  'in_modelseed': ['PTA', 'PTAr'],\n",
       "  'both': {'PTA', 'PTAr', 'PTArh', 'PTArm'}},\n",
       " 'rxn01548': {'bigg_ann': ['PUNP3', 'PUNP3m'],\n",
       "  'in_modelseed': ['PNP1_8', 'PUNP3', 'U104'],\n",
       "  'both': {'PNP1_8', 'PUNP3', 'PUNP3m', 'U104'}},\n",
       " 'rxn08528': {'bigg_ann': 'MISSING', 'in_modelseed': ['FRD3']},\n",
       " 'rxn01145': {'bigg_ann': ['NTD5', 'NTD5l', 'NTD5m', 'NTD5pp'],\n",
       "  'in_modelseed': ['NTD5', 'U25'],\n",
       "  'both': {'NTD5', 'NTD5l', 'NTD5m', 'NTD5pp', 'U25'}},\n",
       " 'rxn09688': {'bigg_ann': ['DGSNt2', 'DGSNt2pp'],\n",
       "  'in_modelseed': ['DGSNt2', 'U181', 'U197'],\n",
       "  'both': {'DGSNt2', 'DGSNt2pp', 'U181', 'U197'}},\n",
       " 'rxn09205': {'bigg_ann': 'MISSING', 'in_modelseed': ['PSSA120']},\n",
       " 'rxn05163': {'bigg_ann': ['PTRCabc', 'PTRCabcpp'],\n",
       "  'in_modelseed': ['PTRCabc'],\n",
       "  'both': {'PTRCabc', 'PTRCabcpp'}},\n",
       " 'rxn09201': {'bigg_ann': 'MISSING', 'in_modelseed': ['PSD161']},\n",
       " 'rxn05202': {'bigg_ann': ['XANt2', 'XANt2pp'],\n",
       "  'in_modelseed': ['XANt2', 'XANt6'],\n",
       "  'both': {'XANt2', 'XANt2pp', 'XANt6'}},\n",
       " 'rxn10122': {'bigg_ann': 'NADH6',\n",
       "  'in_modelseed': ['NADH6'],\n",
       "  'both': {'NADH6'}},\n",
       " 'rxn05547': {'bigg_ann': 'DIPEPabc9',\n",
       "  'in_modelseed': ['DIPEPabc9'],\n",
       "  'both': {'DIPEPabc9'}},\n",
       " 'rxn08352': {'bigg_ann': 'DMPPS',\n",
       "  'in_modelseed': ['DMPPS'],\n",
       "  'both': {'DMPPS'}},\n",
       " 'rxn09106': {'bigg_ann': ['PGPP180', 'PGPP180pp'],\n",
       "  'in_modelseed': ['PGPP180pp'],\n",
       "  'both': {'PGPP180', 'PGPP180pp'}},\n",
       " 'rxn08850': {'bigg_ann': 'MISSING', 'in_modelseed': ['LPLIPAL2G180']},\n",
       " 'rxn00500': {'bigg_ann': ['LDH_D', 'LDHm'],\n",
       "  'in_modelseed': ['LDH_D', 'LDH_Dir'],\n",
       "  'both': {'LDH_D', 'LDH_Dir', 'LDHm'}},\n",
       " 'rxn05734': {'bigg_ann': 'GLXO1',\n",
       "  'in_modelseed': ['ALDD30', 'GLXO1'],\n",
       "  'both': {'ALDD30', 'GLXO1'}},\n",
       " 'rxn00772': {'bigg_ann': 'MISSING', 'in_modelseed': ['RBKr']},\n",
       " 'rxn09103': {'bigg_ann': 'MISSING', 'in_modelseed': ['PGPP141pp']},\n",
       " 'rxn08812': {'bigg_ann': 'MISSING', 'in_modelseed': ['LPLIPAL1G141pp']},\n",
       " 'rxn00546': {'bigg_ann': 'MISSING', 'in_modelseed': ['M1PD']},\n",
       " 'rxn05682': {'bigg_ann': ['ALLTNt2r', 'ALLTNt2rpp'],\n",
       "  'in_modelseed': ['ALLNt2', 'ALLTNt2r', 'ALLTNt6'],\n",
       "  'both': {'ALLNt2', 'ALLTNt2r', 'ALLTNt2rpp', 'ALLTNt6'}},\n",
       " 'rxn00006': {'bigg_ann': ['CAT', 'CATm', 'CATp'],\n",
       "  'in_modelseed': ['CAT', 'CTA1', 'CTT1'],\n",
       "  'both': {'CAT', 'CATm', 'CATp', 'CTA1', 'CTT1'}},\n",
       " 'rxn05338': {'bigg_ann': ['3OAR100', '3OAR100_1'],\n",
       "  'in_modelseed': ['3OAR100', 'HDER4', 'HDER4r'],\n",
       "  'both': {'3OAR100', '3OAR100_1', 'HDER4', 'HDER4r'}},\n",
       " 'rxn03135': {'bigg_ann': ['IG3PS', 'IG3PS_1', 'IMGPSh'],\n",
       "  'in_modelseed': ['IG3PS'],\n",
       "  'both': {'IG3PS', 'IG3PS_1', 'IMGPSh'}},\n",
       " 'rxn08085': {'bigg_ann': 'MISSING', 'in_modelseed': ['AGPAT141']},\n",
       " 'rxn12146': {'bigg_ann': 'MISSING', 'in_modelseed': ['R08503']},\n",
       " 'rxn08310': {'bigg_ann': 'DASYN161',\n",
       "  'in_modelseed': ['DASYN161'],\n",
       "  'both': {'DASYN161'}},\n",
       " 'rxn00915': {'bigg_ann': ['GPAR', 'GUAPRT'],\n",
       "  'in_modelseed': ['GUAPRT', 'GUAPRTr', 'HPT1_2'],\n",
       "  'both': {'GPAR', 'GUAPRT', 'GUAPRTr', 'HPT1_2'}},\n",
       " 'rxn00373': {'bigg_ann': ['OXADC', 'OXADCm'],\n",
       "  'in_modelseed': ['OXADC'],\n",
       "  'both': {'OXADC', 'OXADCm'}},\n",
       " 'rxn05337': {'bigg_ann': ['3OAR60', '3OAR60_1'],\n",
       "  'in_modelseed': ['3OAR60', 'HHYR2'],\n",
       "  'both': {'3OAR60', '3OAR60_1', 'HHYR2'}},\n",
       " 'rxn10133': {'bigg_ann': ['PPPNt2r', 'PPPNt2rpp'],\n",
       "  'in_modelseed': ['PPPNt2', 'PPPNt2r'],\n",
       "  'both': {'PPPNt2', 'PPPNt2r', 'PPPNt2rpp'}},\n",
       " 'rxn01135': {'bigg_ann': 'OXACOAL',\n",
       "  'in_modelseed': ['OXACOAL'],\n",
       "  'both': {'OXACOAL'}},\n",
       " 'rxn01477': {'bigg_ann': 'EDD',\n",
       "  'in_modelseed': ['EDD', 'PGDHY'],\n",
       "  'both': {'EDD', 'PGDHY'}},\n",
       " 'rxn01653': {'bigg_ann': ['FTCL', 'FTHFCL', 'FTHFCLm'],\n",
       "  'in_modelseed': ['FTHFCL'],\n",
       "  'both': {'FTCL', 'FTHFCL', 'FTHFCLm'}},\n",
       " 'rxn00474': {'bigg_ann': ['TRPS2', 'TRPS2h'],\n",
       "  'in_modelseed': ['TRPS2'],\n",
       "  'both': {'TRPS2', 'TRPS2h'}},\n",
       " 'rxn01123': {'bigg_ann': 'DDGLK',\n",
       "  'in_modelseed': ['DDGLK'],\n",
       "  'both': {'DDGLK'}},\n",
       " 'rxn08557': {'bigg_ann': 'G3PD6',\n",
       "  'in_modelseed': ['G3PD6'],\n",
       "  'both': {'G3PD6'}},\n",
       " 'rxn01842': {'bigg_ann': 'MISSING', 'in_modelseed': ['PACCOALr']},\n",
       " 'rxn09687': {'bigg_ann': ['DINSt2', 'DINSt2pp'],\n",
       "  'in_modelseed': ['DINSt2', 'U180', 'U196'],\n",
       "  'both': {'DINSt2', 'DINSt2pp', 'U180', 'U196'}},\n",
       " 'rxn01116': {'bigg_ann': ['RPE', 'RPEh'],\n",
       "  'in_modelseed': ['RPE', 'RPE1'],\n",
       "  'both': {'RPE', 'RPE1', 'RPEh'}},\n",
       " 'rxn00606': {'bigg_ann': 'TRE6PH',\n",
       "  'in_modelseed': ['TRE6PH'],\n",
       "  'both': {'TRE6PH'}},\n",
       " 'rxn02811': {'bigg_ann': ['IMDHT_3c2hmp', 'IPPMIa'],\n",
       "  'in_modelseed': ['IPPMIa'],\n",
       "  'both': {'IMDHT_3c2hmp', 'IPPMIa'}},\n",
       " 'rxn05173': {'bigg_ann': 'MISSING', 'in_modelseed': ['ARBabc']},\n",
       " 'rxn03062': {'bigg_ann': 'IPMD',\n",
       "  'in_modelseed': ['IPMD', 'IPMDr'],\n",
       "  'both': {'IPMD', 'IPMDr'}},\n",
       " 'rxn00829': {'bigg_ann': ['DPMVD', 'DPMVDx'],\n",
       "  'in_modelseed': ['DPMVD', 'MVD1'],\n",
       "  'both': {'DPMVD', 'DPMVDx', 'MVD1'}},\n",
       " 'rxn08847': {'bigg_ann': 'MISSING', 'in_modelseed': ['LPLIPAL2G141']},\n",
       " 'rxn00868': {'bigg_ann': ['ACOAD1', 'BCOR'],\n",
       "  'in_modelseed': ['ACOAD1'],\n",
       "  'both': {'ACOAD1', 'BCOR'}},\n",
       " 'rxn05608': {'bigg_ann': ['MALTTRabc', 'MALTTRabcpp'],\n",
       "  'in_modelseed': ['MALTTRabc'],\n",
       "  'both': {'MALTTRabc', 'MALTTRabcpp'}},\n",
       " 'rxn00670': {'bigg_ann': ['PCPPTh', 'PCPPTm', 'PTA2'],\n",
       "  'in_modelseed': ['PTA2', 'PTA2r', 'PTAr_ppa'],\n",
       "  'both': {'PCPPTh', 'PCPPTm', 'PTA2', 'PTA2r', 'PTAr_ppa'}},\n",
       " 'rxn01544': {'bigg_ann': 'XPPT',\n",
       "  'in_modelseed': ['XPPT', 'XPT1'],\n",
       "  'both': {'XPPT', 'XPT1'}},\n",
       " 'rxn09113': {'bigg_ann': 'PGSA180',\n",
       "  'in_modelseed': ['PGSA180'],\n",
       "  'both': {'PGSA180'}},\n",
       " 'rxn00711': {'bigg_ann': ['UPPRT', 'UPRT'],\n",
       "  'in_modelseed': ['FUR1', 'UPPRT', 'UPPRTr'],\n",
       "  'both': {'FUR1', 'UPPRT', 'UPPRTr', 'UPRT'}},\n",
       " 'rxn05557': {'bigg_ann': 'FEDCabc',\n",
       "  'in_modelseed': ['FEDCabc'],\n",
       "  'both': {'FEDCabc'}},\n",
       " 'rxn10184': {'bigg_ann': ['SBTpts', 'SBTptspp'],\n",
       "  'in_modelseed': ['SBTpts'],\n",
       "  'both': {'SBTpts', 'SBTptspp'}},\n",
       " 'rxn01763': {'bigg_ann': 'RBK_L1',\n",
       "  'in_modelseed': ['RBK_L1', 'RBK_L1r', 'RBLK1'],\n",
       "  'both': {'RBK_L1', 'RBK_L1r', 'RBLK1'}},\n",
       " 'rxn00908': {'bigg_ann': ['GLYCL', 'GLYCL_2', 'GLYCLm', 'GLYS'],\n",
       "  'in_modelseed': ['GCV1_2', 'GLYCL_2'],\n",
       "  'both': {'GCV1_2', 'GLYCL', 'GLYCL_2', 'GLYCLm', 'GLYS'}},\n",
       " 'rxn08299': {'bigg_ann': 'MISSING', 'in_modelseed': ['DAGK180']},\n",
       " 'rxn08711': {'bigg_ann': 'HEPT2',\n",
       "  'in_modelseed': ['HEPT2'],\n",
       "  'both': {'HEPT2'}},\n",
       " 'rxn01138': {'bigg_ann': ['PUNP1', 'PUNP1m'],\n",
       "  'in_modelseed': ['PNP1_7', 'PUNP1', 'U103'],\n",
       "  'both': {'PNP1_7', 'PUNP1', 'PUNP1m', 'U103'}},\n",
       " 'rxn02402': {'bigg_ann': ['NNDPR', 'NNDPRm'],\n",
       "  'in_modelseed': ['NNDPR', 'QPT1_1'],\n",
       "  'both': {'NNDPR', 'NNDPRm', 'QPT1_1'}},\n",
       " 'rxn08291': {'bigg_ann': 'DAAD', 'in_modelseed': ['DAAD'], 'both': {'DAAD'}},\n",
       " 'rxn01607': {'bigg_ann': ['MEVK1', 'MEVK1x'],\n",
       "  'in_modelseed': ['ERG12_1', 'MEVK1'],\n",
       "  'both': {'ERG12_1', 'MEVK1', 'MEVK1x'}},\n",
       " 'rxn05465': {'bigg_ann': ['MCOATA', 'MCOATA_1', 'MCOATAm'],\n",
       "  'in_modelseed': ['FAS1_1', 'MCOATA'],\n",
       "  'both': {'FAS1_1', 'MCOATA', 'MCOATA_1', 'MCOATAm'}},\n",
       " 'rxn08820': {'bigg_ann': 'LPLIPAL2A160',\n",
       "  'in_modelseed': ['LPLIPAL2A160'],\n",
       "  'both': {'LPLIPAL2A160'}},\n",
       " 'rxn05494': {'bigg_ann': ['DALAt2pp', 'DALAt2r', 'DALAt2rL'],\n",
       "  'in_modelseed': ['ALA_Dt2', 'ALA_Dt6', 'DALAt2', 'DALAt2r'],\n",
       "  'both': {'ALA_Dt2', 'ALA_Dt6', 'DALAt2', 'DALAt2pp', 'DALAt2r', 'DALAt2rL'}},\n",
       " 'rxn05347': {'bigg_ann': ['KAS14', 'KAS14_1'],\n",
       "  'in_modelseed': ['ACMAT1', 'FAS2_1_1', 'KAS14'],\n",
       "  'both': {'ACMAT1', 'FAS2_1_1', 'KAS14', 'KAS14_1'}},\n",
       " 'rxn03897': {'bigg_ann': 'BZ12DOX',\n",
       "  'in_modelseed': ['BENA', 'BZ12DOX'],\n",
       "  'both': {'BENA', 'BZ12DOX'}},\n",
       " 'rxn00145': {'bigg_ann': 'MISSING',\n",
       "  'in_modelseed': ['L-LACD', 'L-LACDm', 'L_LACD']},\n",
       " 'rxn08126': {'bigg_ann': 'AMALT1',\n",
       "  'in_modelseed': ['AMALT1'],\n",
       "  'both': {'AMALT1'}},\n",
       " 'rxn08547': {'bigg_ann': 'MISSING', 'in_modelseed': ['G3PAT140']},\n",
       " 'rxn05732': {'bigg_ann': 'ACOAD7',\n",
       "  'in_modelseed': ['ACOAD7'],\n",
       "  'both': {'ACOAD7'}},\n",
       " 'rxn01870': {'bigg_ann': ['FBA2', 'FPGPL'],\n",
       "  'in_modelseed': ['FBA2'],\n",
       "  'both': {'FBA2', 'FPGPL'}},\n",
       " 'rxn08901': {'bigg_ann': 'MDH3', 'in_modelseed': ['MDH3'], 'both': {'MDH3'}},\n",
       " 'rxn00497': {'bigg_ann': 'PHYCBOXL',\n",
       "  'in_modelseed': ['PHYCBOXL'],\n",
       "  'both': {'PHYCBOXL'}},\n",
       " 'rxn00137': {'bigg_ann': 'BPNT',\n",
       "  'in_modelseed': ['BPNT', 'MET22'],\n",
       "  'both': {'BPNT', 'MET22'}},\n",
       " 'rxn00611': {'bigg_ann': ['G3PD1', 'G3PD1_1', 'G3PD1ir', 'G3PD1irm', 'r0202'],\n",
       "  'in_modelseed': ['G3PD1', 'G3PD1ir', 'GPD1', 'GPD2'],\n",
       "  'both': {'G3PD1',\n",
       "   'G3PD1_1',\n",
       "   'G3PD1ir',\n",
       "   'G3PD1irm',\n",
       "   'GPD1',\n",
       "   'GPD2',\n",
       "   'r0202'}},\n",
       " 'rxn01678': {'bigg_ann': ['NDPK6', 'NDPK6m', 'NDPK6n'],\n",
       "  'in_modelseed': ['NDPK6', 'YNK1_4'],\n",
       "  'both': {'NDPK6', 'NDPK6m', 'NDPK6n', 'YNK1_4'}},\n",
       " 'rxn02286': {'bigg_ann': 'UAMAS',\n",
       "  'in_modelseed': ['UAMAS'],\n",
       "  'both': {'UAMAS'}},\n",
       " 'rxn00872': {'bigg_ann': ['ACOA40OR', 'ACOAD1f', 'ACOAD1fm'],\n",
       "  'in_modelseed': ['ACOAD1f'],\n",
       "  'both': {'ACOA40OR', 'ACOAD1f', 'ACOAD1fm'}},\n",
       " 'rxn05919': {'bigg_ann': 'MISSING', 'in_modelseed': ['GPT2_2', 'SCT1_2']},\n",
       " 'rxn00832': {'bigg_ann': ['ICH', 'IMPC'],\n",
       "  'in_modelseed': ['ADE16_2', 'ADE17_2', 'IMPC', 'IMPCir'],\n",
       "  'both': {'ADE16_2', 'ADE17_2', 'ICH', 'IMPC', 'IMPCir'}},\n",
       " 'rxn04599': {'bigg_ann': 'MISSING', 'in_modelseed': ['DHPPD']},\n",
       " 'rxn01106': {'bigg_ann': ['PGM', 'PGM_1', 'PGMf', 'PGMm'],\n",
       "  'in_modelseed': ['GPM1_2', 'GPM2', 'GPM3', 'PGM'],\n",
       "  'both': {'GPM1_2', 'GPM2', 'GPM3', 'PGM', 'PGM_1', 'PGMf', 'PGMm'}},\n",
       " 'rxn12640': {'bigg_ann': 'MISSING', 'in_modelseed': ['MEAMP1(ala-glu)']},\n",
       " 'rxn00690': {'bigg_ann': ['FTHFLi', 'FTHFLmi'],\n",
       "  'in_modelseed': ['ADE3_2', 'FTHFL', 'FTHFLi', 'FTHFLm'],\n",
       "  'both': {'ADE3_2', 'FTHFL', 'FTHFLi', 'FTHFLm', 'FTHFLmi'}},\n",
       " 'rxn08438': {'bigg_ann': 'MISSING', 'in_modelseed': ['FA80ACPHi']},\n",
       " 'rxn00931': {'bigg_ann': ['P5CR', 'P5CRm', 'PRO1y'],\n",
       "  'in_modelseed': ['P5CR', 'PRO3_1'],\n",
       "  'both': {'P5CR', 'P5CRm', 'PRO1y', 'PRO3_1'}},\n",
       " 'rxn08756': {'bigg_ann': 'IPDPS',\n",
       "  'in_modelseed': ['IPDPS'],\n",
       "  'both': {'IPDPS'}},\n",
       " 'rxn10012': {'bigg_ann': 'MISSING', 'in_modelseed': ['ACOAD4']},\n",
       " 'rxn09450': {'bigg_ann': 'MISSING', 'in_modelseed': ['FACOAL161']},\n",
       " 'rxn00412': {'bigg_ann': 'CTPS2',\n",
       "  'in_modelseed': ['CTPS2', 'URA7_1', 'URA8_1'],\n",
       "  'both': {'CTPS2', 'URA7_1', 'URA8_1'}},\n",
       " 'rxn00650': {'bigg_ann': ['AMPTASECG', 'AMPTASECGe'],\n",
       "  'in_modelseed': ['AMPTASECG', 'TRIA'],\n",
       "  'both': {'AMPTASECG', 'AMPTASECGe', 'TRIA'}},\n",
       " 'rxn10094': {'bigg_ann': 'AMMQT8_2',\n",
       "  'in_modelseed': ['AMMQT8_2'],\n",
       "  'both': {'AMMQT8_2'}},\n",
       " 'rxn03167': {'bigg_ann': ['AKP1', 'AKP1_1', 'r0707'],\n",
       "  'in_modelseed': ['AKP1', 'PHO8'],\n",
       "  'both': {'AKP1', 'AKP1_1', 'PHO8', 'r0707'}},\n",
       " 'rxn05152': {'bigg_ann': ['ASPabc', 'ASPabcpp'],\n",
       "  'in_modelseed': ['ASPabc'],\n",
       "  'both': {'ASPabc', 'ASPabcpp'}},\n",
       " 'rxn01103': {'bigg_ann': ['ACPh', 'ACYP'],\n",
       "  'in_modelseed': ['ACYP'],\n",
       "  'both': {'ACPh', 'ACYP'}},\n",
       " 'rxn01313': {'bigg_ann': 'MISSING', 'in_modelseed': ['DHPR', 'DHPRx']},\n",
       " 'rxn04604': {'bigg_ann': ['HKNTDH', 'HKNTDH_1'],\n",
       "  'in_modelseed': ['HKNTDH'],\n",
       "  'both': {'HKNTDH', 'HKNTDH_1'}},\n",
       " 'rxn00515': {'bigg_ann': ['NDPK9', 'NDPK9m', 'NDPK9n'],\n",
       "  'in_modelseed': ['NDPK9', 'YNK1_9'],\n",
       "  'both': {'NDPK9', 'NDPK9m', 'NDPK9n', 'YNK1_9'}},\n",
       " 'rxn08846': {'bigg_ann': 'MISSING', 'in_modelseed': ['LPLIPAL2G140']},\n",
       " 'rxn03437': {'bigg_ann': 'MISSING', 'in_modelseed': ['DHAD2']},\n",
       " 'rxn01353': {'bigg_ann': ['ATDGDm', 'NDPK5', 'NDPK5m', 'NDPK5n'],\n",
       "  'in_modelseed': ['NDPK5', 'YNK1_3'],\n",
       "  'both': {'ATDGDm', 'NDPK5', 'NDPK5m', 'NDPK5n', 'YNK1_3'}},\n",
       " 'rxn12633': {'bigg_ann': 'MISSING', 'in_modelseed': ['MEAMP1(ala-asp)']},\n",
       " 'rxn00882': {'bigg_ann': 'MI4PP',\n",
       "  'in_modelseed': ['MI4PP'],\n",
       "  'both': {'MI4PP'}},\n",
       " 'rxn03244': {'bigg_ann': ['HACD4', 'HACD4_1', 'HACD4i', 'HACD4m', 'HACD4p'],\n",
       "  'in_modelseed': ['HACD4', 'HACD4i'],\n",
       "  'both': {'HACD4', 'HACD4_1', 'HACD4i', 'HACD4m', 'HACD4p'}},\n",
       " 'rxn00616': {'bigg_ann': ['G3PD', 'G3PDm'],\n",
       "  'in_modelseed': ['G3PD'],\n",
       "  'both': {'G3PD', 'G3PDm'}},\n",
       " 'rxn01639': {'bigg_ann': ['FGLU', 'FGLU_1'],\n",
       "  'in_modelseed': ['FGLU'],\n",
       "  'both': {'FGLU', 'FGLU_1'}},\n",
       " 'rxn06723': {'bigg_ann': 'U23GAAT',\n",
       "  'in_modelseed': ['U23GAAT'],\n",
       "  'both': {'U23GAAT'}},\n",
       " 'rxn00313': {'bigg_ann': 'DAPDC',\n",
       "  'in_modelseed': ['DAPDC'],\n",
       "  'both': {'DAPDC'}},\n",
       " 'rxn02949': {'bigg_ann': ['ECOAH12', 'ECOAH12m'],\n",
       "  'in_modelseed': ['ECOAH12', 'ECOAH2c'],\n",
       "  'both': {'ECOAH12', 'ECOAH12m', 'ECOAH2c'}},\n",
       " 'rxn00775': {'bigg_ann': 'MISSING', 'in_modelseed': ['ADPRDP']},\n",
       " 'rxn02680': {'bigg_ann': ['ACACT4m', 'ACACT4p', 'ACACT4r', 'KAT4'],\n",
       "  'in_modelseed': ['ACACT4r', 'KAT4'],\n",
       "  'both': {'ACACT4m', 'ACACT4p', 'ACACT4r', 'KAT4'}},\n",
       " 'rxn10571': {'bigg_ann': ['MG2abc', 'MG2uabcpp'],\n",
       "  'in_modelseed': ['MG2abc', 'MG2abci', 'MGt', 'Mg2abc'],\n",
       "  'both': {'MG2abc', 'MG2abci', 'MG2uabcpp', 'MGt', 'Mg2abc'}},\n",
       " 'rxn02290': {'bigg_ann': ['LNSTLS', 'LNSTLSr'],\n",
       "  'in_modelseed': ['ERG7', 'LNSTLS'],\n",
       "  'both': {'ERG7', 'LNSTLS', 'LNSTLSr'}},\n",
       " 'rxn00547': {'bigg_ann': 'MISSING',\n",
       "  'in_modelseed': ['HEX7', 'HXK1_4', 'HXK2_4']},\n",
       " 'rxn01192': {'bigg_ann': 'PCADYOX',\n",
       "  'in_modelseed': ['PCADYOX', 'PCAHG'],\n",
       "  'both': {'PCADYOX', 'PCAHG'}},\n",
       " 'rxn05325': {'bigg_ann': 'MISSING', 'in_modelseed': ['EAR80x', 'OCMAT3']},\n",
       " 'rxn08647': {'bigg_ann': 'GLYCK2',\n",
       "  'in_modelseed': ['GLYCK2', 'GLYCKb'],\n",
       "  'both': {'GLYCK2', 'GLYCKb'}},\n",
       " 'rxn05610': {'bigg_ann': ['MANpts', 'MANptspp'],\n",
       "  'in_modelseed': ['MANpts'],\n",
       "  'both': {'MANpts', 'MANptspp'}},\n",
       " 'rxn10042': {'bigg_ann': ['ATPS4m',\n",
       "   'ATPS4m_cho',\n",
       "   'ATPS4r',\n",
       "   'ATPS4rpp',\n",
       "   'ATPSh',\n",
       "   'ATPasel'],\n",
       "  'in_modelseed': ['ATPS4r'],\n",
       "  'both': {'ATPS4m', 'ATPS4m_cho', 'ATPS4r', 'ATPS4rpp', 'ATPSh', 'ATPasel'}},\n",
       " 'rxn08803': {'bigg_ann': 'MISSING', 'in_modelseed': ['LPLIPAL1E120pp']},\n",
       " 'rxn01053': {'bigg_ann': ['LCADi', 'LCADm'],\n",
       "  'in_modelseed': ['LCAD', 'LCADi', 'LCADm'],\n",
       "  'both': {'LCAD', 'LCADi', 'LCADm'}},\n",
       " 'rxn02312': {'bigg_ann': 'AMAOTr',\n",
       "  'in_modelseed': ['AMAOT', 'AMAOTr', 'BIO3'],\n",
       "  'both': {'AMAOT', 'AMAOTr', 'BIO3'}},\n",
       " 'rxn08025': {'bigg_ann': 'AB6PGH',\n",
       "  'in_modelseed': ['AB6PGH'],\n",
       "  'both': {'AB6PGH'}},\n",
       " 'rxn03422': {'bigg_ann': 'SGSAD',\n",
       "  'in_modelseed': ['SGSAD'],\n",
       "  'both': {'SGSAD'}},\n",
       " 'rxn02895': {'bigg_ann': ['PPRGL', 'PPRGLh', 'PRAGSr'],\n",
       "  'in_modelseed': ['ADE5_7_1', 'PRAGS', 'PRAGSr'],\n",
       "  'both': {'ADE5_7_1', 'PPRGL', 'PPRGLh', 'PRAGS', 'PRAGSr'}},\n",
       " 'rxn02934': {'bigg_ann': ['ECOAH9ir', 'ECOAH9m'],\n",
       "  'in_modelseed': ['ECOAH9', 'ECOAH9ir'],\n",
       "  'both': {'ECOAH9', 'ECOAH9ir', 'ECOAH9m'}},\n",
       " 'rxn08089': {'bigg_ann': 'MISSING', 'in_modelseed': ['AGPAT181']},\n",
       " 'rxn02508': {'bigg_ann': ['PRAI', 'PRAIi'],\n",
       "  'in_modelseed': ['PRAI', 'PRAIi', 'TRP1'],\n",
       "  'both': {'PRAI', 'PRAIi', 'TRP1'}},\n",
       " 'rxn00543': {'bigg_ann': ['ALCD2ir', 'ALCD2irm', 'ALCD2m', 'ALCD2x'],\n",
       "  'in_modelseed': ['ADH1',\n",
       "   'ADH2',\n",
       "   'ADH4',\n",
       "   'ADH5',\n",
       "   'ALCD1',\n",
       "   'ALCD2if',\n",
       "   'ALCD2ir',\n",
       "   'ALCD2m',\n",
       "   'ALCD2x',\n",
       "   'SFA1_2'],\n",
       "  'both': {'ADH1',\n",
       "   'ADH2',\n",
       "   'ADH4',\n",
       "   'ADH5',\n",
       "   'ALCD1',\n",
       "   'ALCD2if',\n",
       "   'ALCD2ir',\n",
       "   'ALCD2irm',\n",
       "   'ALCD2m',\n",
       "   'ALCD2x',\n",
       "   'SFA1_2'}},\n",
       " 'rxn09992': {'bigg_ann': ['6PHBG', 'S6PG'],\n",
       "  'in_modelseed': ['6PHBG', 'S6PG'],\n",
       "  'both': {'6PHBG', 'S6PG'}},\n",
       " 'rxn00420': {'bigg_ann': ['PSP', 'PSP_L', 'PSP_Lpp'],\n",
       "  'in_modelseed': ['PSP_L', 'SER2'],\n",
       "  'both': {'PSP', 'PSP_L', 'PSP_Lpp', 'SER2'}},\n",
       " 'rxn10476': {'bigg_ann': 'MISSING', 'in_modelseed': ['COCHL']},\n",
       " 'rxn02804': {'bigg_ann': ['ACACT7m', 'ACACT7p', 'ACACT7r', 'KAT7', 'r0653'],\n",
       "  'in_modelseed': ['ACACT7r', 'KAT7'],\n",
       "  'both': {'ACACT7m', 'ACACT7p', 'ACACT7r', 'KAT7', 'r0653'}},\n",
       " 'rxn02939': {'bigg_ann': 'PERD', 'in_modelseed': ['PERD'], 'both': {'PERD'}},\n",
       " 'rxn05231': {'bigg_ann': ['RNDR1', 'RNDR1n'],\n",
       "  'in_modelseed': ['RIBRB12', 'RNDR1'],\n",
       "  'both': {'RIBRB12', 'RNDR1', 'RNDR1n'}},\n",
       " 'rxn09200': {'bigg_ann': 'PSD160',\n",
       "  'in_modelseed': ['PSD160'],\n",
       "  'both': {'PSD160'}},\n",
       " 'rxn00283': {'bigg_ann': 'ALAR',\n",
       "  'in_modelseed': ['ALAR', 'ALARi'],\n",
       "  'both': {'ALAR', 'ALARi'}},\n",
       " 'rxn00726': {'bigg_ann': ['ANS2', 'ATNS_nh4'],\n",
       "  'in_modelseed': ['ANS2'],\n",
       "  'both': {'ANS2', 'ATNS_nh4'}},\n",
       " 'rxn00379': {'bigg_ann': ['SADT', 'SADTn'],\n",
       "  'in_modelseed': ['MET3', 'SADT', 'SADT1r'],\n",
       "  'both': {'MET3', 'SADT', 'SADT1r', 'SADTn'}},\n",
       " 'rxn01025': {'bigg_ann': 'MISSING', 'in_modelseed': ['MCSNAH1r']},\n",
       " 'rxn08851': {'bigg_ann': 'MISSING', 'in_modelseed': ['LPLIPAL2G181']},\n",
       " 'rxn05330': {'bigg_ann': ['3HAD60', '3HAD60_1'],\n",
       "  'in_modelseed': ['3HAD60', 'HHYHL2'],\n",
       "  'both': {'3HAD60', '3HAD60_1', 'HHYHL2'}},\n",
       " 'rxn02155': {'bigg_ann': ['NNATm', 'NNATn', 'NNATr'],\n",
       "  'in_modelseed': ['NNAT', 'NNATr', 'YLR328W_1'],\n",
       "  'both': {'NNAT', 'NNATm', 'NNATn', 'NNATr', 'YLR328W_1'}},\n",
       " 'rxn02866': {'bigg_ann': ['ACOAD8m', 'MBCOAi'],\n",
       "  'in_modelseed': ['MBCOAi'],\n",
       "  'both': {'ACOAD8m', 'MBCOAi'}},\n",
       " 'rxn09102': {'bigg_ann': 'MISSING', 'in_modelseed': ['PGPP140pp']},\n",
       " 'rxn08552': {'bigg_ann': 'MISSING', 'in_modelseed': ['G3PAT181']},\n",
       " 'rxn05170': {'bigg_ann': ['MALTabc', 'MALTabcpp'],\n",
       "  'in_modelseed': ['MALTabc'],\n",
       "  'both': {'MALTabc', 'MALTabcpp'}},\n",
       " 'rxn02475': {'bigg_ann': 'MISSING', 'in_modelseed': ['RIB7_1']},\n",
       " 'rxn00575': {'bigg_ann': ['SUCR', 'SUCRe'],\n",
       "  'in_modelseed': ['SUC2', 'SUCH', 'SUCR'],\n",
       "  'both': {'SUC2', 'SUCH', 'SUCR', 'SUCRe'}},\n",
       " 'rxn05339': {'bigg_ann': 'MISSING', 'in_modelseed': ['HBUR1']},\n",
       " 'rxn03108': {'bigg_ann': 'PMPK',\n",
       "  'in_modelseed': ['PMPK', 'THI20_2'],\n",
       "  'both': {'PMPK', 'THI20_2'}},\n",
       " 'rxn01018': {'bigg_ann': ['ASPCT', 'ASPCT_1', 'ASPCTm', 'ASPCTn'],\n",
       "  'in_modelseed': ['ASPCT', 'ASPCTn', 'URA2_1'],\n",
       "  'both': {'ASPCT', 'ASPCT_1', 'ASPCTm', 'ASPCTn', 'URA2_1'}},\n",
       " 'rxn05236': {'bigg_ann': 'RNTR4',\n",
       "  'in_modelseed': ['RNTR4', 'RNTR4b'],\n",
       "  'both': {'RNTR4', 'RNTR4b'}},\n",
       " 'rxn00914': {'bigg_ann': ['GSNK', 'GSNKm'],\n",
       "  'in_modelseed': ['GSNK', 'U21'],\n",
       "  'both': {'GSNK', 'GSNKm', 'U21'}},\n",
       " 'rxn08813': {'bigg_ann': 'MISSING', 'in_modelseed': ['LPLIPAL1G160pp']},\n",
       " 'rxn05602': {'bigg_ann': ['L_LACt2r', 'L_LACt2rpp', 'L_LACtm', 'r2516'],\n",
       "  'in_modelseed': ['L-LACt2', 'L-LACt2r', 'L-LACt4', 'L_LACt2r'],\n",
       "  'both': {'L-LACt2',\n",
       "   'L-LACt2r',\n",
       "   'L-LACt4',\n",
       "   'L_LACt2r',\n",
       "   'L_LACt2rpp',\n",
       "   'L_LACtm',\n",
       "   'r2516'}},\n",
       " 'rxn00124': {'bigg_ann': 'PYDXK',\n",
       "  'in_modelseed': ['PYDXK', 'U83'],\n",
       "  'both': {'PYDXK', 'U83'}},\n",
       " 'rxn03990': {'bigg_ann': 'MISSING', 'in_modelseed': ['NODOx']},\n",
       " 'rxn08793': {'bigg_ann': 'L_LACD3',\n",
       "  'in_modelseed': ['L-LACD3', 'L_LACD3'],\n",
       "  'both': {'L-LACD3', 'L_LACD3'}},\n",
       " 'rxn00947': {'bigg_ann': ['FACOAL160', 'FACOAL160p', 'r0311'],\n",
       "  'in_modelseed': ['FAA1_3', 'FAA3_1', 'FAA4_1', 'FACOAL160', 'FAT1_1'],\n",
       "  'both': {'FAA1_3',\n",
       "   'FAA3_1',\n",
       "   'FAA4_1',\n",
       "   'FACOAL160',\n",
       "   'FACOAL160p',\n",
       "   'FAT1_1',\n",
       "   'r0311'}},\n",
       " 'rxn02971': {'bigg_ann': 'MISSING', 'in_modelseed': ['CATC']},\n",
       " 'rxn03247': {'bigg_ann': ['ECOAH3', 'ECOAH3_1', 'ECOAH3m'],\n",
       "  'in_modelseed': ['ECOAH3'],\n",
       "  'both': {'ECOAH3', 'ECOAH3_1', 'ECOAH3m'}},\n",
       " 'rxn01476': {'bigg_ann': ['PGL', 'PGLer', 'PGLh'],\n",
       "  'in_modelseed': ['PGL', 'SOL1', 'SOL2', 'SOL3', 'SOL4'],\n",
       "  'both': {'PGL', 'PGLer', 'PGLh', 'SOL1', 'SOL2', 'SOL3', 'SOL4'}},\n",
       " 'rxn00205': {'bigg_ann': ['GTHPe', 'GTHPe_1', 'GTHPi', 'GTHPm'],\n",
       "  'in_modelseed': ['GPX1', 'GPX2', 'GSHPO', 'GTHP', 'GTHPe', 'HYR1'],\n",
       "  'both': {'GPX1',\n",
       "   'GPX2',\n",
       "   'GSHPO',\n",
       "   'GTHP',\n",
       "   'GTHPe',\n",
       "   'GTHPe_1',\n",
       "   'GTHPi',\n",
       "   'GTHPm',\n",
       "   'HYR1'}},\n",
       " 'rxn03146': {'bigg_ann': 'UHGADA',\n",
       "  'in_modelseed': ['UHGADA'],\n",
       "  'both': {'UHGADA'}},\n",
       " 'rxn03893': {'bigg_ann': 'HBZOPT',\n",
       "  'in_modelseed': ['HBZOPT'],\n",
       "  'both': {'HBZOPT'}},\n",
       " 'rxn02789': {'bigg_ann': ['IMDHT', 'IPPMIb'],\n",
       "  'in_modelseed': ['IPPMIb', 'LEU1_2'],\n",
       "  'both': {'IMDHT', 'IPPMIb', 'LEU1_2'}},\n",
       " 'rxn07099': {'bigg_ann': 'MISSING', 'in_modelseed': ['BLACT']},\n",
       " 'rxn00410': {'bigg_ann': 'MISSING', 'in_modelseed': ['URA7_2', 'URA8_2']},\n",
       " 'rxn03063': {'bigg_ann': 'SAM24MT',\n",
       "  'in_modelseed': ['ERG6', 'SAM24MT'],\n",
       "  'both': {'ERG6', 'SAM24MT'}},\n",
       " 'rxn12510': {'bigg_ann': ['PNTK', 'PNTKm'],\n",
       "  'in_modelseed': ['PNTK', 'YDR531W'],\n",
       "  'both': {'PNTK', 'PNTKm', 'YDR531W'}},\n",
       " 'rxn03933': {'bigg_ann': 'UAGPT2',\n",
       "  'in_modelseed': ['UAGPT2'],\n",
       "  'both': {'UAGPT2'}},\n",
       " 'rxn05342': {'bigg_ann': ['3OAR140', '3OAR140_1'],\n",
       "  'in_modelseed': ['3OAR140', 'HTDR6'],\n",
       "  'both': {'3OAR140', '3OAR140_1', 'HTDR6'}},\n",
       " 'rxn05146': {'bigg_ann': ['GLUabc', 'GLUabcpp'],\n",
       "  'in_modelseed': ['GLUabc'],\n",
       "  'both': {'GLUabc', 'GLUabcpp'}},\n",
       " 'rxn00414': {'bigg_ann': ['CBPS', 'CBPSn', 'HCGALm'],\n",
       "  'in_modelseed': ['CBPS', 'CBPSn'],\n",
       "  'both': {'CBPS', 'CBPSn', 'HCGALm'}},\n",
       " 'rxn09110': {'bigg_ann': 'MISSING', 'in_modelseed': ['PGSA141']},\n",
       " 'rxn03970': {'bigg_ann': 'COALDDH',\n",
       "  'in_modelseed': ['COALDDH', 'CONFALDD'],\n",
       "  'both': {'COALDDH', 'CONFALDD'}},\n",
       " 'rxn00159': {'bigg_ann': ['ME1', 'ME1m'],\n",
       "  'in_modelseed': ['ME1', 'ME1_rev', 'ME1x'],\n",
       "  'both': {'ME1', 'ME1_rev', 'ME1m', 'ME1x'}},\n",
       " 'rxn05349': {'bigg_ann': ['ACOATA', 'ACOATA_1', 'ACOATAm'],\n",
       "  'in_modelseed': ['ACOATA', 'FAS1_s'],\n",
       "  'both': {'ACOATA', 'ACOATA_1', 'ACOATAm', 'FAS1_s'}},\n",
       " 'rxn00303': {'bigg_ann': ['GTPDPK', 'GTPDPK_1'],\n",
       "  'in_modelseed': ['GTPDPK'],\n",
       "  'both': {'GTPDPK', 'GTPDPK_1'}},\n",
       " 'rxn00799': {'bigg_ann': ['FUM', 'FUMm'],\n",
       "  'in_modelseed': ['FUM', 'FUM1_2'],\n",
       "  'both': {'FUM', 'FUM1_2', 'FUMm'}},\n",
       " 'rxn01073': {'bigg_ann': ['GPDDA2', 'GPDDA2pp'],\n",
       "  'in_modelseed': ['GPDDA2'],\n",
       "  'both': {'GPDDA2', 'GPDDA2pp'}},\n",
       " 'rxn02405': {'bigg_ann': 'MISSING',\n",
       "  'in_modelseed': ['DMOCT', 'KDOCT', 'KDOCT2']},\n",
       " 'rxn01986': {'bigg_ann': 'PPM2', 'in_modelseed': ['PPM2'], 'both': {'PPM2'}},\n",
       " 'rxn02200': {'bigg_ann': 'MISSING', 'in_modelseed': ['DHPS']},\n",
       " 'rxn01069': {'bigg_ann': ['THRS', 'THRS_1'],\n",
       "  'in_modelseed': ['THR4_1', 'THRS'],\n",
       "  'both': {'THR4_1', 'THRS', 'THRS_1'}},\n",
       " 'rxn05528': {'bigg_ann': ['CU2abcpp', 'CU2abcu_syn', 'Cut1'],\n",
       "  'in_modelseed': ['Cut1'],\n",
       "  'both': {'CU2abcpp', 'CU2abcu_syn', 'Cut1'}},\n",
       " 'rxn00791': {'bigg_ann': ['ANPRT', 'ANTPPT'],\n",
       "  'in_modelseed': ['ANPRT', 'TRP4'],\n",
       "  'both': {'ANPRT', 'ANTPPT', 'TRP4'}},\n",
       " 'rxn03150': {'bigg_ann': 'RZ5PP',\n",
       "  'in_modelseed': ['RBZP', 'RZ5PP'],\n",
       "  'both': {'RBZP', 'RZ5PP'}},\n",
       " 'rxn00065': {'bigg_ann': ['ADECn', 'ADNCYC'],\n",
       "  'in_modelseed': ['ADNCYC', 'CYR1'],\n",
       "  'both': {'ADECn', 'ADNCYC', 'CYR1'}},\n",
       " 'rxn00365': {'bigg_ann': ['CYTDK1', 'CYTDK2m'],\n",
       "  'in_modelseed': ['CYTDK1'],\n",
       "  'both': {'CYTDK1', 'CYTDK2m'}},\n",
       " 'rxn08783': {'bigg_ann': 'LDH_D2',\n",
       "  'in_modelseed': ['LDH_D2'],\n",
       "  'both': {'LDH_D2'}},\n",
       " 'rxn01827': {'bigg_ann': '34HPPOR',\n",
       "  'in_modelseed': ['34HPPOR', 'HPPDO1', 'U57'],\n",
       "  'both': {'34HPPOR', 'HPPDO1', 'U57'}},\n",
       " 'rxn00358': {'bigg_ann': 'UDPGALM',\n",
       "  'in_modelseed': ['UDPGALM'],\n",
       "  'both': {'UDPGALM'}},\n",
       " 'rxn02321': {'bigg_ann': 'X5PL3E',\n",
       "  'in_modelseed': ['X5PL3E'],\n",
       "  'both': {'X5PL3E'}},\n",
       " 'rxn02263': {'bigg_ann': 'MISSING', 'in_modelseed': ['FCI']},\n",
       " 'rxn05181': {'bigg_ann': ['GLYBabc', 'GLYBabcpp'],\n",
       "  'in_modelseed': ['GLYBabc'],\n",
       "  'both': {'GLYBabc', 'GLYBabcpp'}},\n",
       " 'rxn05312': {'bigg_ann': ['PIt2m',\n",
       "   'PIt2n',\n",
       "   'PIt2p',\n",
       "   'PIt2r',\n",
       "   'PIt2rpp',\n",
       "   'PIt2v',\n",
       "   'PItf'],\n",
       "  'in_modelseed': ['PHO84', 'PHO90', 'PHO91', 'PIt2r', 'PIt6', 'PIt6i'],\n",
       "  'both': {'PHO84',\n",
       "   'PHO90',\n",
       "   'PHO91',\n",
       "   'PIt2m',\n",
       "   'PIt2n',\n",
       "   'PIt2p',\n",
       "   'PIt2r',\n",
       "   'PIt2rpp',\n",
       "   'PIt2v',\n",
       "   'PIt6',\n",
       "   'PIt6i',\n",
       "   'PItf'}},\n",
       " 'rxn08975': {'bigg_ann': ['NADH5', 'NADHOR'],\n",
       "  'in_modelseed': ['NADH12', 'NADH5'],\n",
       "  'both': {'NADH12', 'NADH5', 'NADHOR'}},\n",
       " 'rxn01646': {'bigg_ann': 'PNP',\n",
       "  'in_modelseed': ['PNP', 'RIOR'],\n",
       "  'both': {'PNP', 'RIOR'}},\n",
       " 'rxn00105': {'bigg_ann': ['ANNAT', 'ANNATn', 'NMNAT', 'NMNATm', 'NMNATn'],\n",
       "  'in_modelseed': ['NMNAT', 'NMNATr'],\n",
       "  'both': {'ANNAT', 'ANNATn', 'NMNAT', 'NMNATm', 'NMNATn', 'NMNATr'}},\n",
       " 'rxn03243': {'bigg_ann': 'MISSING', 'in_modelseed': ['ACACT5r', 'KAT5']},\n",
       " 'rxn03446': {'bigg_ann': '4HTHRS',\n",
       "  'in_modelseed': ['4HTHRS', 'THR4_2'],\n",
       "  'both': {'4HTHRS', 'THR4_2'}},\n",
       " 'rxn01302': {'bigg_ann': ['HSDH', 'HSDy', 'HSDyi'],\n",
       "  'in_modelseed': ['HOM6_2', 'HSDy', 'HSDyi'],\n",
       "  'both': {'HOM6_2', 'HSDH', 'HSDy', 'HSDyi'}},\n",
       " 'rxn00607': {'bigg_ann': 'MAL6PG',\n",
       "  'in_modelseed': ['MAL6PG'],\n",
       "  'both': {'MAL6PG'}},\n",
       " 'rxn00101': {'bigg_ann': 'MISSING', 'in_modelseed': ['UREA2']},\n",
       " 'rxn02130': {'bigg_ann': ['PNTEH', 'PNTEHe'],\n",
       "  'in_modelseed': ['PNTEH'],\n",
       "  'both': {'PNTEH', 'PNTEHe'}},\n",
       " 'rxn00223': {'bigg_ann': ['XYLI2', 'XYLI2i'],\n",
       "  'in_modelseed': ['XYLI2', 'XYLI2i'],\n",
       "  'both': {'XYLI2', 'XYLI2i'}},\n",
       " 'rxn05215': {'bigg_ann': ['ALANA1tm', 'ALANA1tx', 'ALAt4', 'ALAt4pp'],\n",
       "  'in_modelseed': ['ALAt4', 'ALAt4r', 'ALAt7'],\n",
       "  'both': {'ALANA1tm', 'ALANA1tx', 'ALAt4', 'ALAt4pp', 'ALAt4r', 'ALAt7'}},\n",
       " 'rxn00784': {'bigg_ann': 'DRPA',\n",
       "  'in_modelseed': ['DRPA', 'DRPAr'],\n",
       "  'both': {'DRPA', 'DRPAr'}},\n",
       " 'rxn05029': {'bigg_ann': 'MISSING', 'in_modelseed': ['CBIAT', 'CBIAT2']},\n",
       " 'rxn01537': {'bigg_ann': 'TMN', 'in_modelseed': ['TMN'], 'both': {'TMN'}},\n",
       " 'rxn00510': {'bigg_ann': 'SACCD2',\n",
       "  'in_modelseed': ['LYS1', 'SACCD2'],\n",
       "  'both': {'LYS1', 'SACCD2'}},\n",
       " 'rxn00328': {'bigg_ann': ['DDPGA', 'DDPGAm'],\n",
       "  'in_modelseed': ['DDPGA'],\n",
       "  'both': {'DDPGA', 'DDPGAm'}},\n",
       " 'rxn02285': {'bigg_ann': 'UAPGR',\n",
       "  'in_modelseed': ['UAPGR'],\n",
       "  'both': {'UAPGR'}},\n",
       " 'rxn02303': {'bigg_ann': 'CPPPGO',\n",
       "  'in_modelseed': ['CPPPGO'],\n",
       "  'both': {'CPPPGO'}},\n",
       " 'rxn03087': {'bigg_ann': ['SDPTA', 'SDPTAi'],\n",
       "  'in_modelseed': ['SDPTA'],\n",
       "  'both': {'SDPTA', 'SDPTAi'}},\n",
       " 'rxn00227': {'bigg_ann': ['ACYP_2', 'APhi'],\n",
       "  'in_modelseed': ['ACYP_2'],\n",
       "  'both': {'ACYP_2', 'APhi'}},\n",
       " 'rxn02889': {'bigg_ann': ['MCCC', 'MCCCrm', 'MCTC'],\n",
       "  'in_modelseed': ['MCCC', 'MCCc'],\n",
       "  'both': {'MCCC', 'MCCCrm', 'MCCc', 'MCTC'}},\n",
       " 'rxn05663': {'bigg_ann': ['TRPt2m', 'TRPt2r', 'TRPt2rpp', 'TRPth'],\n",
       "  'in_modelseed': ['BAP2_6',\n",
       "   'BAP3_6',\n",
       "   'GAP1_15',\n",
       "   'TAT1_3',\n",
       "   'TAT2_5',\n",
       "   'TRPt2',\n",
       "   'TRPt2r',\n",
       "   'TRPt6',\n",
       "   'VAP1_5'],\n",
       "  'both': {'BAP2_6',\n",
       "   'BAP3_6',\n",
       "   'GAP1_15',\n",
       "   'TAT1_3',\n",
       "   'TAT2_5',\n",
       "   'TRPt2',\n",
       "   'TRPt2m',\n",
       "   'TRPt2r',\n",
       "   'TRPt2rpp',\n",
       "   'TRPt6',\n",
       "   'TRPth',\n",
       "   'VAP1_5'}},\n",
       " 'rxn08848': {'bigg_ann': 'MISSING', 'in_modelseed': ['LPLIPAL2G160']},\n",
       " 'rxn00691': {'bigg_ann': 'FTHFD',\n",
       "  'in_modelseed': ['FTHFD'],\n",
       "  'both': {'FTHFD'}},\n",
       " 'rxn08840': {'bigg_ann': 'MISSING', 'in_modelseed': ['LPLIPAL2E141']},\n",
       " 'rxn05559': {'bigg_ann': ['FORt2',\n",
       "   'FORt2pp',\n",
       "   'FORthi',\n",
       "   'FORti_1',\n",
       "   'FORtmi',\n",
       "   'FORtxi'],\n",
       "  'in_modelseed': ['FORt2'],\n",
       "  'both': {'FORt2', 'FORt2pp', 'FORthi', 'FORti_1', 'FORtmi', 'FORtxi'}},\n",
       " 'rxn03907': {'bigg_ann': ['CMS', 'MEPCT'],\n",
       "  'in_modelseed': ['MEPCT'],\n",
       "  'both': {'CMS', 'MEPCT'}},\n",
       " 'rxn01987': {'bigg_ann': 'DRBK',\n",
       "  'in_modelseed': ['DRBK', 'DRBKr', 'RBK1_2'],\n",
       "  'both': {'DRBK', 'DRBKr', 'RBK1_2'}},\n",
       " 'rxn03538': {'bigg_ann': 'ADOCBLS',\n",
       "  'in_modelseed': ['ADOCBLS', 'COBPS'],\n",
       "  'both': {'ADOCBLS', 'COBPS'}},\n",
       " 'rxn09310': {'bigg_ann': 'THZPSN',\n",
       "  'in_modelseed': ['THZPSN'],\n",
       "  'both': {'THZPSN'}},\n",
       " 'rxn02834': {'bigg_ann': ['PRADPh', 'PRATPP'],\n",
       "  'in_modelseed': ['HIS4_1', 'PRATPP'],\n",
       "  'both': {'HIS4_1', 'PRADPh', 'PRATPP'}},\n",
       " 'rxn01213': {'bigg_ann': ['DMATT', 'DMATTx', 'GPPSh'],\n",
       "  'in_modelseed': ['DMATT'],\n",
       "  'both': {'DMATT', 'DMATTx', 'GPPSh'}},\n",
       " 'rxn00459': {'bigg_ann': ['ENO', 'ENOf', 'ENOm'],\n",
       "  'in_modelseed': ['ENO', 'ENO1', 'ENO2', 'ERR1_1', 'ERR1_2', 'ERR2'],\n",
       "  'both': {'ENO', 'ENO1', 'ENO2', 'ENOf', 'ENOm', 'ERR1_1', 'ERR1_2', 'ERR2'}},\n",
       " 'rxn02085': {'bigg_ann': ['URCN', 'URCN_1', 'UROCANH'],\n",
       "  'in_modelseed': ['URCN'],\n",
       "  'both': {'URCN', 'URCN_1', 'UROCANH'}},\n",
       " 'rxn05153': {'bigg_ann': ['SULabc', 'SULabcpp'],\n",
       "  'in_modelseed': ['SULabc'],\n",
       "  'both': {'SULabc', 'SULabcpp'}},\n",
       " 'rxn01314': {'bigg_ann': 'MISSING', 'in_modelseed': ['HPDOAi']},\n",
       " 'rxn02318': {'bigg_ann': 'MISSING', 'in_modelseed': ['GAL6PI']},\n",
       " 'rxn08806': {'bigg_ann': 'MISSING', 'in_modelseed': ['LPLIPAL1E160pp']},\n",
       " 'rxn05195': {'bigg_ann': ['FE3abc', 'FE3abcpp'],\n",
       "  'in_modelseed': ['FE3abc'],\n",
       "  'both': {'FE3abc', 'FE3abcpp'}},\n",
       " 'rxn05209': {'bigg_ann': ['NA1Hth', 'NA1Htm', 'NAt3_1', 'NAt3_1g', 'NAt3pp'],\n",
       "  'in_modelseed': ['NAt3', 'NAt3_1', 'NAt7', 'NHA1'],\n",
       "  'both': {'NA1Hth',\n",
       "   'NA1Htm',\n",
       "   'NAt3',\n",
       "   'NAt3_1',\n",
       "   'NAt3_1g',\n",
       "   'NAt3pp',\n",
       "   'NAt7',\n",
       "   'NHA1'}},\n",
       " 'rxn06377': {'bigg_ann': ['GCCa', 'GCCam', 'GLYDHD'],\n",
       "  'in_modelseed': ['GCCa'],\n",
       "  'both': {'GCCa', 'GCCam', 'GLYDHD'}},\n",
       " 'rxn00175': {'bigg_ann': ['ACS', 'ACSm', 'ACSp'],\n",
       "  'in_modelseed': ['ACS', 'ACS1', 'ACSr'],\n",
       "  'both': {'ACS', 'ACS1', 'ACSm', 'ACSp', 'ACSr'}},\n",
       " 'rxn00427': {'bigg_ann': ['PRDX', 'PRDXl'],\n",
       "  'in_modelseed': ['PRDX'],\n",
       "  'both': {'PRDX', 'PRDXl'}},\n",
       " 'rxn01366': {'bigg_ann': 'PYNP2r',\n",
       "  'in_modelseed': ['PYNP2', 'PYNP2r', 'U22'],\n",
       "  'both': {'PYNP2', 'PYNP2r', 'U22'}},\n",
       " 'rxn10121': {'bigg_ann': ['NO3R2', 'NO3R2pp'],\n",
       "  'in_modelseed': ['NO3R2'],\n",
       "  'both': {'NO3R2', 'NO3R2pp'}},\n",
       " 'rxn01208': {'bigg_ann': ['OMCDC', 'OMCDCm'],\n",
       "  'in_modelseed': ['OMCDC'],\n",
       "  'both': {'OMCDC', 'OMCDCm'}},\n",
       " 'rxn05165': {'bigg_ann': ['PROabc', 'PROabcpp'],\n",
       "  'in_modelseed': ['PROabc'],\n",
       "  'both': {'PROabc', 'PROabcpp'}},\n",
       " 'rxn10163': {'bigg_ann': 'MISSING', 'in_modelseed': ['TTDCAt2']},\n",
       " 'rxn01143': {'bigg_ann': ['TMDK1', 'TMDK1m'],\n",
       "  'in_modelseed': ['TMDK1', 'U16'],\n",
       "  'both': {'TMDK1', 'TMDK1m', 'U16'}},\n",
       " 'rxn10474': {'bigg_ann': ['COBALT2tex', 'COBALT2tpp', 'COBALTt5'],\n",
       "  'in_modelseed': ['COBALTt5', 'COBALTt5i'],\n",
       "  'both': {'COBALT2tex', 'COBALT2tpp', 'COBALTt5', 'COBALTt5i'}},\n",
       " 'rxn00260': {'bigg_ann': ['ASPATh', 'ASPTA', 'ASPTAm', 'ASPTAp'],\n",
       "  'in_modelseed': ['AAT2_1', 'ASPTA', 'ASPTA1', 'ASPTA1r'],\n",
       "  'both': {'AAT2_1',\n",
       "   'ASPATh',\n",
       "   'ASPTA',\n",
       "   'ASPTA1',\n",
       "   'ASPTA1r',\n",
       "   'ASPTAm',\n",
       "   'ASPTAp'}},\n",
       " 'rxn10128': {'bigg_ann': 'MISSING', 'in_modelseed': ['TMAOR2e']},\n",
       " 'rxn10120': {'bigg_ann': ['NO3R1', 'NO3R1pp'],\n",
       "  'in_modelseed': ['NO3R1'],\n",
       "  'both': {'NO3R1', 'NO3R1pp'}},\n",
       " 'rxn00461': {'bigg_ann': 'UAGCVT',\n",
       "  'in_modelseed': ['UAGCVT'],\n",
       "  'both': {'UAGCVT'}},\n",
       " 'rxn05613': {'bigg_ann': ['METSOX1abcpp', 'METSOX2abcpp', 'METSabc'],\n",
       "  'in_modelseed': ['METSabc'],\n",
       "  'both': {'METSOX1abcpp', 'METSOX2abcpp', 'METSabc'}},\n",
       " 'rxn06037': {'bigg_ann': 'HACDp',\n",
       "  'in_modelseed': ['HACDp'],\n",
       "  'both': {'HACDp'}},\n",
       " 'rxn00817': {'bigg_ann': ['DGGH', 'GALS3', 'MGHB'],\n",
       "  'in_modelseed': ['DGGH', 'FSP2_2', 'GALS3', 'YBR184W_1', 'YBR184W_2'],\n",
       "  'both': {'DGGH', 'FSP2_2', 'GALS3', 'MGHB', 'YBR184W_1', 'YBR184W_2'}},\n",
       " 'rxn00669': {'bigg_ann': 'MISSING', 'in_modelseed': ['ACCOAL', 'ACCOAL2r']},\n",
       " 'rxn00858': {'bigg_ann': ['AGMT', 'AGMTm'],\n",
       "  'in_modelseed': ['AGMT'],\n",
       "  'both': {'AGMT', 'AGMTm'}},\n",
       " 'rxn03136': {'bigg_ann': 'ADSL2r',\n",
       "  'in_modelseed': ['ADE13_1', 'ADSL2', 'ADSL2r'],\n",
       "  'both': {'ADE13_1', 'ADSL2', 'ADSL2r'}},\n",
       " 'rxn05287': {'bigg_ann': 'GGTT', 'in_modelseed': ['GGTT'], 'both': {'GGTT'}},\n",
       " 'rxn00818': {'bigg_ann': ['RAFGH', 'RGH'],\n",
       "  'in_modelseed': ['RAFGH', 'YBR184W_3'],\n",
       "  'both': {'RAFGH', 'RGH', 'YBR184W_3'}},\n",
       " 'rxn09101': {'bigg_ann': 'MISSING', 'in_modelseed': ['PGPP120pp']},\n",
       " 'rxn02937': {'bigg_ann': 'MISSING', 'in_modelseed': ['ADE5_7_2', 'PRAIS']},\n",
       " 'rxn08088': {'bigg_ann': 'MISSING', 'in_modelseed': ['AGPAT180']},\n",
       " 'rxn00540': {'bigg_ann': ['HOPNTAL', 'HOPNTAL3'],\n",
       "  'in_modelseed': ['HOPNTAL', 'HOPNTAL3'],\n",
       "  'both': {'HOPNTAL', 'HOPNTAL3'}},\n",
       " 'rxn08810': {'bigg_ann': 'MISSING', 'in_modelseed': ['LPLIPAL1G120pp']},\n",
       " 'rxn03541': {'bigg_ann': 'MISSING', 'in_modelseed': ['ADCOBASr']},\n",
       " 'rxn00350': {'bigg_ann': ['GGTAe2', 'GTHRDH_syn', 'GTHRDHpp'],\n",
       "  'in_modelseed': ['GGTAe2'],\n",
       "  'both': {'GGTAe2', 'GTHRDH_syn', 'GTHRDHpp'}},\n",
       " 'rxn03137': {'bigg_ann': 'AICART',\n",
       "  'in_modelseed': ['ADE16_1', 'ADE17_1', 'AICART'],\n",
       "  'both': {'ADE16_1', 'ADE17_1', 'AICART'}},\n",
       " 'rxn05544': {'bigg_ann': 'DIPEPabc6',\n",
       "  'in_modelseed': ['DIPEPabc6'],\n",
       "  'both': {'DIPEPabc6'}},\n",
       " 'rxn08087': {'bigg_ann': 'MISSING', 'in_modelseed': ['AGPAT161']},\n",
       " 'rxn01437': {'bigg_ann': 'FKYNH',\n",
       "  'in_modelseed': ['FKYNH', 'U53'],\n",
       "  'both': {'FKYNH', 'U53'}},\n",
       " 'rxn01115': {'bigg_ann': ['GND', 'GNDer', 'PGDHh'],\n",
       "  'in_modelseed': ['GND', 'GND1', 'GND2', 'PGDH', 'PGDHr'],\n",
       "  'both': {'GND', 'GND1', 'GND2', 'GNDer', 'PGDH', 'PGDHh', 'PGDHr'}},\n",
       " 'rxn08818': {'bigg_ann': 'MISSING', 'in_modelseed': ['LPLIPAL2A140']},\n",
       " 'rxn00992': {'bigg_ann': ['BDH', 'BDHm', 'HBNOx'],\n",
       "  'in_modelseed': ['3HBUTDH', 'BDH'],\n",
       "  'both': {'3HBUTDH', 'BDH', 'BDHm', 'HBNOx'}},\n",
       " 'rxn05239': {'bigg_ann': 'PAPSR',\n",
       "  'in_modelseed': ['PAPR', 'PAPSR', 'PASR'],\n",
       "  'both': {'PAPR', 'PAPSR', 'PASR'}},\n",
       " 'rxn08312': {'bigg_ann': 'DASYN181',\n",
       "  'in_modelseed': ['DASYN181'],\n",
       "  'both': {'DASYN181'}},\n",
       " 'rxn00952': {'bigg_ann': ['AHHST', 'AHSERL2'],\n",
       "  'in_modelseed': ['AHSERL2', 'MET17_2', 'MET17_3', 'METACH'],\n",
       "  'both': {'AHHST', 'AHSERL2', 'MET17_2', 'MET17_3', 'METACH'}},\n",
       " 'rxn01396': {'bigg_ann': 'PYDXNK',\n",
       "  'in_modelseed': ['PYDXNK', 'U81'],\n",
       "  'both': {'PYDXNK', 'U81'}},\n",
       " 'rxn00161': {'bigg_ann': ['MDHC_nadp_hr', 'ME2', 'ME2m'],\n",
       "  'in_modelseed': ['ME2'],\n",
       "  'both': {'MDHC_nadp_hr', 'ME2', 'ME2m'}},\n",
       " 'rxn01961': {'bigg_ann': ['NTD10', 'NTD10pp'],\n",
       "  'in_modelseed': ['NTD10', 'U33'],\n",
       "  'both': {'NTD10', 'NTD10pp', 'U33'}},\n",
       " 'rxn01517': {'bigg_ann': ['URIDK2m', 'URIDK2r', 'URIDK2rn'],\n",
       "  'in_modelseed': ['URA6_3', 'URIDK2', 'URIDK2r', 'URIDK3'],\n",
       "  'both': {'URA6_3', 'URIDK2', 'URIDK2m', 'URIDK2r', 'URIDK2rn', 'URIDK3'}},\n",
       " 'rxn00371': {'bigg_ann': 'FDH',\n",
       "  'in_modelseed': ['FDH', 'FDH1', 'FDHr', 'YPL275W', 'YPL276W'],\n",
       "  'both': {'FDH', 'FDH1', 'FDHr', 'YPL275W', 'YPL276W'}},\n",
       " 'rxn08040': {'bigg_ann': 'ACGAMT',\n",
       "  'in_modelseed': ['ACGAMT', 'GLCNACPPUNDs'],\n",
       "  'both': {'ACGAMT', 'GLCNACPPUNDs'}},\n",
       " 'rxn09211': {'bigg_ann': 'MISSING', 'in_modelseed': ['PSSA181']},\n",
       " 'rxn01807': {'bigg_ann': 'PYDAMK',\n",
       "  'in_modelseed': ['PYDAMK', 'U82'],\n",
       "  'both': {'PYDAMK', 'U82'}},\n",
       " 'rxn05331': {'bigg_ann': ['3HAD120', '3HAD120_1'],\n",
       "  'in_modelseed': ['3HAD120', 'HDDHL5'],\n",
       "  'both': {'3HAD120', '3HAD120_1', 'HDDHL5'}},\n",
       " 'rxn08309': {'bigg_ann': 'DASYN160',\n",
       "  'in_modelseed': ['DASYN160'],\n",
       "  'both': {'DASYN160'}},\n",
       " 'rxn03060': {'bigg_ann': 'MCITD',\n",
       "  'in_modelseed': ['MCITD'],\n",
       "  'both': {'MCITD'}},\n",
       " 'rxn02476': {'bigg_ann': ['PSCIT', 'PSCVT'],\n",
       "  'in_modelseed': ['ARO1_5', 'PSCVT', 'PSCVTi'],\n",
       "  'both': {'ARO1_5', 'PSCIT', 'PSCVT', 'PSCVTi'}},\n",
       " 'rxn01512': {'bigg_ann': ['NDPK4', 'NDPK4m', 'NDPK4n'],\n",
       "  'in_modelseed': ['NDPK4', 'YNK1_6'],\n",
       "  'both': {'NDPK4', 'NDPK4m', 'NDPK4n', 'YNK1_6'}},\n",
       " 'rxn03841': {'bigg_ann': 'ADCL',\n",
       "  'in_modelseed': ['ADCL', 'U88'],\n",
       "  'both': {'ADCL', 'U88'}},\n",
       " 'rxn00866': {'bigg_ann': ['HDC', 'HISDC'],\n",
       "  'in_modelseed': ['HISDC'],\n",
       "  'both': {'HDC', 'HISDC'}},\n",
       " 'rxn04954': {'bigg_ann': ['MTHFO', 'MTHFR2', 'MTHFR2_1', 'r0792'],\n",
       "  'in_modelseed': ['MTHFR2'],\n",
       "  'both': {'MTHFO', 'MTHFR2', 'MTHFR2_1', 'r0792'}},\n",
       " 'rxn03249': {'bigg_ann': ['HACD2', 'HACD2_1', 'HACD2i', 'HACD2m'],\n",
       "  'in_modelseed': ['HACD2', 'HACD2i'],\n",
       "  'both': {'HACD2', 'HACD2_1', 'HACD2i', 'HACD2m'}},\n",
       " 'rxn00676': {'bigg_ann': ['ACACT10m', 'MACCOAT'],\n",
       "  'in_modelseed': ['ACACT10rr', 'ACOACAT', 'MACCOAT'],\n",
       "  'both': {'ACACT10m', 'ACACT10rr', 'ACOACAT', 'MACCOAT'}},\n",
       " 'rxn05551': {'bigg_ann': ['ETHAt2pp', 'ETHAt6'],\n",
       "  'in_modelseed': ['ETHAt6'],\n",
       "  'both': {'ETHAt2pp', 'ETHAt6'}},\n",
       " 'rxn00713': {'bigg_ann': 'URIK2',\n",
       "  'in_modelseed': ['URIK2', 'URK1_1'],\n",
       "  'both': {'URIK2', 'URK1_1'}},\n",
       " 'rxn01257': {'bigg_ann': 'ADCS',\n",
       "  'in_modelseed': ['ABZ1', 'ADCS'],\n",
       "  'both': {'ABZ1', 'ADCS'}},\n",
       " 'rxn09272': {'bigg_ann': ['FRD7', 'SUCDH_q8_m', 'SUCDi'],\n",
       "  'in_modelseed': ['SUCD7', 'SUCDi'],\n",
       "  'both': {'FRD7', 'SUCD7', 'SUCDH_q8_m', 'SUCDi'}},\n",
       " 'rxn00903': {'bigg_ann': ['BCTA_val_h', 'BCTA_val_m', 'VALTA', 'VALTAim'],\n",
       "  'in_modelseed': ['BAT2_2', 'VALTA'],\n",
       "  'both': {'BAT2_2', 'BCTA_val_h', 'BCTA_val_m', 'VALTA', 'VALTAim'}},\n",
       " 'rxn00980': {'bigg_ann': ['PGLYCP', 'PGLYCPh', 'PGLYCPx'],\n",
       "  'in_modelseed': ['PGLYCP'],\n",
       "  'both': {'PGLYCP', 'PGLYCPh', 'PGLYCPx'}},\n",
       " 'rxn00016': {'bigg_ann': 'MISSING', 'in_modelseed': ['HXAD']},\n",
       " 'rxn01216': {'bigg_ann': 'MISSING', 'in_modelseed': ['DPGM', 'GPM1_1']},\n",
       " 'rxn03991': {'bigg_ann': 'MISSING', 'in_modelseed': ['NODO', 'NODOy']},\n",
       " 'rxn02213': {'bigg_ann': ['DHQTi', 'DQDH'],\n",
       "  'in_modelseed': ['ARO1_2', 'DHQD', 'DHQD1', 'DHQTi'],\n",
       "  'both': {'ARO1_2', 'DHQD', 'DHQD1', 'DHQTi', 'DQDH'}},\n",
       " 'rxn03892': {'bigg_ann': ['PPTT', 'PPTTm'],\n",
       "  'in_modelseed': ['PPTT'],\n",
       "  'both': {'PPTT', 'PPTTm'}},\n",
       " 'rxn00086': {'bigg_ann': ['GDR_nadp_h', 'GTHOm', 'GTHOr'],\n",
       "  'in_modelseed': ['GLR1', 'GTHO', 'GTHOr', 'GTHRD'],\n",
       "  'both': {'GDR_nadp_h', 'GLR1', 'GTHO', 'GTHOm', 'GTHOr', 'GTHRD'}},\n",
       " 'rxn04989': {'bigg_ann': 'MISSING', 'in_modelseed': ['PHE4MOi3']},\n",
       " 'rxn01127': {'bigg_ann': ['ATDAMh', 'ATDAMm', 'DADK'],\n",
       "  'in_modelseed': ['DADK', 'U19'],\n",
       "  'both': {'ATDAMh', 'ATDAMm', 'DADK', 'U19'}},\n",
       " 'rxn05537': {'bigg_ann': 'DIPEPabc13',\n",
       "  'in_modelseed': ['DIPEPabc13'],\n",
       "  'both': {'DIPEPabc13'}},\n",
       " 'rxn05226': {'bigg_ann': ['GLCpts', 'GLCptspp'],\n",
       "  'in_modelseed': ['GLCpts'],\n",
       "  'both': {'GLCpts', 'GLCptspp'}},\n",
       " 'rxn08548': {'bigg_ann': 'MISSING', 'in_modelseed': ['G3PAT141']},\n",
       " 'rxn00615': {'bigg_ann': ['GLYK', 'GLYKm'],\n",
       "  'in_modelseed': ['GLYK', 'GLYKr', 'GUT1'],\n",
       "  'both': {'GLYK', 'GLYKm', 'GLYKr', 'GUT1'}},\n",
       " 'rxn02521': {'bigg_ann': ['23CN2P1', '23PDE7pp'],\n",
       "  'in_modelseed': ['23CN2P1'],\n",
       "  'both': {'23CN2P1', '23PDE7pp'}},\n",
       " 'rxn00569': {'bigg_ann': 'NTRIR2y',\n",
       "  'in_modelseed': ['NTRIR2y', 'NTRIRy'],\n",
       "  'both': {'NTRIR2y', 'NTRIRy'}},\n",
       " 'rxn05341': {'bigg_ann': ['3OAR80', '3OAR80_1'],\n",
       "  'in_modelseed': ['3OAR80', 'HOCR3'],\n",
       "  'both': {'3OAR80', '3OAR80_1', 'HOCR3'}},\n",
       " 'rxn03393': {'bigg_ann': 'OPHBDC',\n",
       "  'in_modelseed': ['OPHBDC'],\n",
       "  'both': {'OPHBDC'}},\n",
       " 'rxn00083': {'bigg_ann': ['NADTRHD', 'NNOR'],\n",
       "  'in_modelseed': ['NADTRHD', 'TEST_NADTRHD', 'THD1', 'THD5'],\n",
       "  'both': {'NADTRHD', 'NNOR', 'TEST_NADTRHD', 'THD1', 'THD5'}},\n",
       " 'rxn01626': {'bigg_ann': ['DHPD', 'DHPM1'],\n",
       "  'in_modelseed': ['DHPM1', 'DIHYP'],\n",
       "  'both': {'DHPD', 'DHPM1', 'DIHYP'}},\n",
       " 'rxn00291': {'bigg_ann': 'SGDS', 'in_modelseed': ['SGDS'], 'both': {'SGDS'}},\n",
       " 'rxn00743': {'bigg_ann': ['ALKP', 'r0242'],\n",
       "  'in_modelseed': ['ALKP', 'ALKPr'],\n",
       "  'both': {'ALKP', 'ALKPr', 'r0242'}},\n",
       " 'rxn03483': {'bigg_ann': ['23CN2P4', '23PDE9pp'],\n",
       "  'in_modelseed': ['23CN2P4'],\n",
       "  'both': {'23CN2P4', '23PDE9pp'}},\n",
       " 'rxn03236': {'bigg_ann': 'MISSING', 'in_modelseed': ['4AHD2']},\n",
       " 'rxn01265': {'bigg_ann': ['NAPRT', 'NAPRTm', 'NCTPPRT'],\n",
       "  'in_modelseed': ['NAPRT', 'NAPRTr', 'NCTPPRT', 'NPT1_1'],\n",
       "  'both': {'NAPRT', 'NAPRTm', 'NAPRTr', 'NCTPPRT', 'NPT1_1'}},\n",
       " 'rxn00874': {'bigg_ann': ['ACACT2', 'ACACT2m', 'ACACT2r', 'KAT2'],\n",
       "  'in_modelseed': ['ACACT2r', 'KAT2', 'POT1_7'],\n",
       "  'both': {'ACACT2', 'ACACT2m', 'ACACT2r', 'KAT2', 'POT1_7'}},\n",
       " 'rxn00834': {'bigg_ann': ['IMPD', 'IMPDm'],\n",
       "  'in_modelseed': ['FUN63', 'IMD3', 'IMD4', 'IMPD', 'PUR5', 'YAR075W'],\n",
       "  'both': {'FUN63', 'IMD3', 'IMD4', 'IMPD', 'IMPDm', 'PUR5', 'YAR075W'}},\n",
       " 'rxn08703': {'bigg_ann': 'HCYSMT2',\n",
       "  'in_modelseed': ['HCYSMT2'],\n",
       "  'both': {'HCYSMT2'}},\n",
       " 'rxn01671': {'bigg_ann': 'RNMK', 'in_modelseed': ['RNMK'], 'both': {'RNMK'}},\n",
       " 'rxn02362': {'bigg_ann': 'MISSING', 'in_modelseed': ['CDPGS']},\n",
       " 'rxn12642': {'bigg_ann': 'MISSING', 'in_modelseed': ['MEAMP1(ala-his)']},\n",
       " 'rxn05313': {'bigg_ann': ['PIt7', 'PIt7ipp'],\n",
       "  'in_modelseed': ['PIt7', 'PIt8'],\n",
       "  'both': {'PIt7', 'PIt7ipp', 'PIt8'}},\n",
       " 'rxn05154': {'bigg_ann': ['ARGabc', 'ARGabcpp'],\n",
       "  'in_modelseed': ['ARGabc'],\n",
       "  'both': {'ARGabc', 'ARGabcpp'}},\n",
       " 'rxn10010': {'bigg_ann': 'MISSING', 'in_modelseed': ['ACOAD2']},\n",
       " 'rxn01332': {'bigg_ann': ['DDPA', 'DDPAm', 'DPHS'],\n",
       "  'in_modelseed': ['ARO3', 'ARO4', 'DAHPS', 'DDPA'],\n",
       "  'both': {'ARO3', 'ARO4', 'DAHPS', 'DDPA', 'DDPAm', 'DPHS'}},\n",
       " 'rxn08433': {'bigg_ann': 'MISSING',\n",
       "  'in_modelseed': ['FA100ACPHi', 'FAS1_4_f']},\n",
       " 'rxn00320': {'bigg_ann': 'LYSRC',\n",
       "  'in_modelseed': ['LYSRC'],\n",
       "  'both': {'LYSRC'}},\n",
       " 'rxn00785': {'bigg_ann': 'MISSING', 'in_modelseed': ['TKT2']},\n",
       " 'rxn00693': {'bigg_ann': ['METS', 'METS_1', 'METSm'],\n",
       "  'in_modelseed': ['METS', 'METSMHPGLUT_b', 'METSr', 'MTHFB12D', 'U47'],\n",
       "  'both': {'METS',\n",
       "   'METSMHPGLUT_b',\n",
       "   'METS_1',\n",
       "   'METSm',\n",
       "   'METSr',\n",
       "   'MTHFB12D',\n",
       "   'U47'}},\n",
       " 'rxn03909': {'bigg_ann': ['DXPS', 'DXS'],\n",
       "  'in_modelseed': ['DXPS'],\n",
       "  'both': {'DXPS', 'DXS'}},\n",
       " 'rxn10806': {'bigg_ann': ['CYTBD2', 'CYTBD2pp'],\n",
       "  'in_modelseed': ['CYTBD2'],\n",
       "  'both': {'CYTBD2', 'CYTBD2pp'}},\n",
       " 'rxn01101': {'bigg_ann': ['PGCD', 'PGLYDH'],\n",
       "  'in_modelseed': ['PGCD', 'PGCDr', 'SER3', 'SER33'],\n",
       "  'both': {'PGCD', 'PGCDr', 'PGLYDH', 'SER3', 'SER33'}},\n",
       " 'rxn00355': {'bigg_ann': 'GALT',\n",
       "  'in_modelseed': ['GAL7_1', 'GALT', 'GALTi'],\n",
       "  'both': {'GAL7_1', 'GALT', 'GALTi'}},\n",
       " 'rxn02900': {'bigg_ann': 'MISSING', 'in_modelseed': ['2AEPPNAT', '2AMIPYT']},\n",
       " 'rxn03084': {'bigg_ann': 'MISSING', 'in_modelseed': ['ADE6', 'PRFGS']},\n",
       " 'rxn00216': {'bigg_ann': 'HEX1',\n",
       "  'in_modelseed': ['GLK1_1', 'HEX1', 'HXK1_2', 'HXK2_2'],\n",
       "  'both': {'GLK1_1', 'HEX1', 'HXK1_2', 'HXK2_2'}},\n",
       " 'rxn02005': {'bigg_ann': ['TREpts', 'TREptspp'],\n",
       "  'in_modelseed': ['TREpts'],\n",
       "  'both': {'TREpts', 'TREptspp'}},\n",
       " 'rxn08808': {'bigg_ann': 'MISSING', 'in_modelseed': ['LPLIPAL1E180pp']},\n",
       " 'rxn00558': {'bigg_ann': 'MISSING', 'in_modelseed': ['PGI', 'PGI1_1']},\n",
       " 'rxn12635': {'bigg_ann': 'MISSING', 'in_modelseed': ['MEAMP1(gly-met)']},\n",
       " 'rxn00346': {'bigg_ann': 'ASP1DC',\n",
       "  'in_modelseed': ['ASP1DC', 'U98'],\n",
       "  'both': {'ASP1DC', 'U98'}},\n",
       " 'rxn05297': {'bigg_ann': ['GLUt2m',\n",
       "   'GLUt2n',\n",
       "   'GLUt2r',\n",
       "   'GLUt2rpp',\n",
       "   'GLUt7',\n",
       "   'GLUth'],\n",
       "  'in_modelseed': ['GLUt2', 'GLUt2r', 'GLUt6'],\n",
       "  'both': {'GLUt2',\n",
       "   'GLUt2m',\n",
       "   'GLUt2n',\n",
       "   'GLUt2r',\n",
       "   'GLUt2rpp',\n",
       "   'GLUt6',\n",
       "   'GLUt7',\n",
       "   'GLUth'}},\n",
       " 'rxn00550': {'bigg_ann': 'MISSING', 'in_modelseed': ['FBP26']},\n",
       " 'rxn01859': {'bigg_ann': 'PUNP2',\n",
       "  'in_modelseed': ['PNP1_4', 'PUNP2'],\n",
       "  'both': {'PNP1_4', 'PUNP2'}},\n",
       " 'rxn00194': {'bigg_ann': ['ARGDh', 'GLUDC'],\n",
       "  'in_modelseed': ['GAD1', 'GLUDC'],\n",
       "  'both': {'ARGDh', 'GAD1', 'GLUDC'}},\n",
       " 'rxn00806': {'bigg_ann': ['BCTA_glu_h', 'LEUTA', 'LEUTAi', 'LEUTAm'],\n",
       "  'in_modelseed': ['BAT2_3', 'LEUTA', 'LEUTAi'],\n",
       "  'both': {'BAT2_3', 'BCTA_glu_h', 'LEUTA', 'LEUTAi', 'LEUTAm'}},\n",
       " 'rxn05160': {'bigg_ann': ['RIBabc', 'RIBabcpp'],\n",
       "  'in_modelseed': ['RIBabc'],\n",
       "  'both': {'RIBabc', 'RIBabcpp'}},\n",
       " 'rxn01851': {'bigg_ann': ['ABUTD', 'ABUTDm'],\n",
       "  'in_modelseed': ['ABUTD'],\n",
       "  'both': {'ABUTD', 'ABUTDm'}},\n",
       " 'rxn08178': {'bigg_ann': 'BSORx',\n",
       "  'in_modelseed': ['BSORx'],\n",
       "  'both': {'BSORx'}},\n",
       " 'rxn05201': {'bigg_ann': ['HXANt2pp', 'HXANt2r'],\n",
       "  'in_modelseed': ['HXANt2', 'HXANt2r', 'U201'],\n",
       "  'both': {'HXANt2', 'HXANt2pp', 'HXANt2r', 'U201'}},\n",
       " 'rxn09449': {'bigg_ann': 'FACOAL180',\n",
       "  'in_modelseed': ['FACOAL180'],\n",
       "  'both': {'FACOAL180'}},\n",
       " 'rxn05538': {'bigg_ann': 'DIPEPabc14',\n",
       "  'in_modelseed': ['DIPEPabc14'],\n",
       "  'both': {'DIPEPabc14'}},\n",
       " 'rxn05616': {'bigg_ann': ['MG2t',\n",
       "   'MG2tex',\n",
       "   'MG2th',\n",
       "   'MG2tpp',\n",
       "   'MG2tu',\n",
       "   'MGt5'],\n",
       "  'in_modelseed': ['MGt5', 'MGt5i'],\n",
       "  'both': {'MG2t', 'MG2tex', 'MG2th', 'MG2tpp', 'MG2tu', 'MGt5', 'MGt5i'}},\n",
       " 'rxn08805': {'bigg_ann': 'MISSING', 'in_modelseed': ['LPLIPAL1E141pp']},\n",
       " 'rxn01507': {'bigg_ann': ['NTD6', 'NTD6l', 'NTD6pp'],\n",
       "  'in_modelseed': ['NTD6'],\n",
       "  'both': {'NTD6', 'NTD6l', 'NTD6pp'}},\n",
       " 'rxn01790': {'bigg_ann': ['DPR', 'DPRm', 'PNORm', 'PNORn'],\n",
       "  'in_modelseed': ['DPR', 'PAN5'],\n",
       "  'both': {'DPR', 'DPRm', 'PAN5', 'PNORm', 'PNORn'}},\n",
       " 'rxn05651': {'bigg_ann': ['SO4t2', 'SO4t2pp'],\n",
       "  'in_modelseed': ['SO4t2'],\n",
       "  'both': {'SO4t2', 'SO4t2pp'}},\n",
       " 'rxn00077': {'bigg_ann': ['NADK', 'NADKm'],\n",
       "  'in_modelseed': ['NADK', 'POS5_1', 'UTR1_1', 'YEL041W_1'],\n",
       "  'both': {'NADK', 'NADKm', 'POS5_1', 'UTR1_1', 'YEL041W_1'}},\n",
       " 'rxn01388': {'bigg_ann': 'ACONTb',\n",
       "  'in_modelseed': ['ACONTb'],\n",
       "  'both': {'ACONTb'}},\n",
       " 'rxn03638': {'bigg_ann': 'MISSING', 'in_modelseed': ['G1PACTr']},\n",
       " 'rxn02897': {'bigg_ann': 'NNDMBRT',\n",
       "  'in_modelseed': ['NNDMBRT'],\n",
       "  'both': {'NNDMBRT'}},\n",
       " 'rxn01446': {'bigg_ann': 'PUNP4',\n",
       "  'in_modelseed': ['PNP1_5', 'PUNP4'],\n",
       "  'both': {'PNP1_5', 'PUNP4'}},\n",
       " 'rxn01816': {'bigg_ann': 'MISSING', 'in_modelseed': ['SHSL1r']},\n",
       " 'rxn02056': {'bigg_ann': ['SHCHF', 'SHCHF_1', 'SHCHF_2'],\n",
       "  'in_modelseed': ['SHCHF'],\n",
       "  'both': {'SHCHF', 'SHCHF_1', 'SHCHF_2'}},\n",
       " 'rxn01068': {'bigg_ann': ['R01465m', 'THRD'],\n",
       "  'in_modelseed': ['THRD'],\n",
       "  'both': {'R01465m', 'THRD'}},\n",
       " 'rxn02277': {'bigg_ann': 'DBTS',\n",
       "  'in_modelseed': ['BIO4', 'DBTS', 'DBTSr'],\n",
       "  'both': {'BIO4', 'DBTS', 'DBTSr'}},\n",
       " 'rxn02596': {'bigg_ann': ['GALS4', 'STACHGALACT', 'SYGH'],\n",
       "  'in_modelseed': ['GALS4'],\n",
       "  'both': {'GALS4', 'STACHGALACT', 'SYGH'}},\n",
       " 'rxn00991': {'bigg_ann': 'MISSING', 'in_modelseed': ['HMGL']},\n",
       " 'rxn03242': {'bigg_ann': ['HACD5', 'HACD5_1', 'HACD5i', 'HACD5m', 'HACD5p'],\n",
       "  'in_modelseed': ['HACD5', 'HACD5i'],\n",
       "  'both': {'HACD5', 'HACD5_1', 'HACD5i', 'HACD5m', 'HACD5p'}},\n",
       " 'rxn00541': {'bigg_ann': ['THRA', 'THRA_1', 'THRAi'],\n",
       "  'in_modelseed': ['GLY1', 'THRA', 'THRA2', 'THRAi', 'THRAr'],\n",
       "  'both': {'GLY1', 'THRA', 'THRA2', 'THRA_1', 'THRAi', 'THRAr'}},\n",
       " 'rxn01924': {'bigg_ann': 'MISSING', 'in_modelseed': ['2MACOAD']},\n",
       " 'rxn03075': {'bigg_ann': 'HETZK',\n",
       "  'in_modelseed': ['HETZK', 'THI6_1'],\n",
       "  'both': {'HETZK', 'THI6_1'}},\n",
       " 'rxn00629': {'bigg_ann': 'MISSING', 'in_modelseed': ['MNLDH']},\n",
       " 'rxn00134': {'bigg_ann': ['ADNK1', 'ADNK1m', 'ADNK1n'],\n",
       "  'in_modelseed': ['ADNK1', 'YJR105W'],\n",
       "  'both': {'ADNK1', 'ADNK1m', 'ADNK1n', 'YJR105W'}},\n",
       " 'rxn01480': {'bigg_ann': 'MISSING', 'in_modelseed': ['HIBD', 'HIBDkt']},\n",
       " 'rxn09199': {'bigg_ann': 'MISSING', 'in_modelseed': ['PSD141']},\n",
       " 'rxn05233': {'bigg_ann': ['RNDR2', 'RNDR2n'],\n",
       "  'in_modelseed': ['RNDR2'],\n",
       "  'both': {'RNDR2', 'RNDR2n'}},\n",
       " 'rxn09109': {'bigg_ann': 'MISSING', 'in_modelseed': ['PGSA140']},\n",
       " 'rxn00141': {'bigg_ann': ['ADSHm', 'AHCi'],\n",
       "  'in_modelseed': ['AHC', 'AHCi', 'SAH1'],\n",
       "  'both': {'ADSHm', 'AHC', 'AHCi', 'SAH1'}},\n",
       " 'rxn02003': {'bigg_ann': ['TDPDRR', 'TDPDRRr'],\n",
       "  'in_modelseed': ['TDPDRR'],\n",
       "  'both': {'TDPDRR', 'TDPDRRr'}},\n",
       " 'rxn00186': {'bigg_ann': 'OPAH', 'in_modelseed': ['OPAH'], 'both': {'OPAH'}},\n",
       " 'rxn08558': {'bigg_ann': 'MISSING', 'in_modelseed': ['G3PD7']},\n",
       " 'rxn01241': {'bigg_ann': ['GCC2cm', 'PDHcr', 'PDHe3hr'],\n",
       "  'in_modelseed': ['PDHc', 'PDHcr', 'PDHe3c'],\n",
       "  'both': {'GCC2cm', 'PDHc', 'PDHcr', 'PDHe3c', 'PDHe3hr'}},\n",
       " 'rxn00130': {'bigg_ann': 'MISSING', 'in_modelseed': ['AMD1_1']},\n",
       " 'rxn00859': {'bigg_ann': ['HDH', 'HDHh', 'HISTD'],\n",
       "  'in_modelseed': ['HIS4_3', 'HISTD'],\n",
       "  'both': {'HDH', 'HDHh', 'HIS4_3', 'HISTD'}},\n",
       " 'rxn05332': {'bigg_ann': ['3HAD160', '3HAD160_1'],\n",
       "  'in_modelseed': ['3HAD160'],\n",
       "  'both': {'3HAD160', '3HAD160_1'}},\n",
       " 'rxn00438': {'bigg_ann': 'TMPK',\n",
       "  'in_modelseed': ['TMPK', 'TMPKr', 'U76'],\n",
       "  'both': {'TMPK', 'TMPKr', 'U76'}},\n",
       " 'rxn00288': {'bigg_ann': ['FRD', 'FRDm', 'SUCD1', 'SUCD1m', 'SUCDHh'],\n",
       "  'in_modelseed': ['FRD', 'FRDSUCD1i', 'SUCD1', 'SUCD1i'],\n",
       "  'both': {'FRD', 'FRDSUCD1i', 'FRDm', 'SUCD1', 'SUCD1i', 'SUCD1m', 'SUCDHh'}},\n",
       " 'rxn00763': {'bigg_ann': 'ALCD19',\n",
       "  'in_modelseed': ['ALCD19'],\n",
       "  'both': {'ALCD19'}},\n",
       " 'rxn08550': {'bigg_ann': 'MISSING', 'in_modelseed': ['G3PAT161']},\n",
       " 'rxn08811': {'bigg_ann': 'MISSING', 'in_modelseed': ['LPLIPAL1G140pp']},\n",
       " 'rxn02473': {'bigg_ann': ['IGPDH', 'IGPDH_1', 'IGPDh'],\n",
       "  'in_modelseed': ['IGPDH'],\n",
       "  'both': {'IGPDH', 'IGPDH_1', 'IGPDh'}},\n",
       " 'rxn01275': {'bigg_ann': ['GNK', 'GNKh', 'GNKr'],\n",
       "  'in_modelseed': ['GNK', 'GNKr'],\n",
       "  'both': {'GNK', 'GNKh', 'GNKr'}},\n",
       " 'rxn10174': {'bigg_ann': ['MALTHXabc', 'MALTHXabcpp'],\n",
       "  'in_modelseed': ['MALTHXabc'],\n",
       "  'both': {'MALTHXabc', 'MALTHXabcpp'}},\n",
       " 'rxn00912': {'bigg_ann': ['MOHMT', 'MTMOHT'],\n",
       "  'in_modelseed': ['ECM31', 'MOHMT'],\n",
       "  'both': {'ECM31', 'MOHMT', 'MTMOHT'}},\n",
       " 'rxn12147': {'bigg_ann': 'MISSING', 'in_modelseed': ['R08504']},\n",
       " 'rxn08819': {'bigg_ann': 'MISSING', 'in_modelseed': ['LPLIPAL2A141']},\n",
       " 'rxn03512': {'bigg_ann': 'PC8XM',\n",
       "  'in_modelseed': ['PC8XM'],\n",
       "  'both': {'PC8XM'}},\n",
       " 'rxn00122': {'bigg_ann': ['AFAT', 'FMNAT', 'FMNATm'],\n",
       "  'in_modelseed': ['FAD1', 'FMNAT', 'FMNATr'],\n",
       "  'both': {'AFAT', 'FAD1', 'FMNAT', 'FMNATm', 'FMNATr'}},\n",
       " 'rxn06076': {'bigg_ann': ['RNDR3', 'RNDR3n'],\n",
       "  'in_modelseed': ['RNDR3'],\n",
       "  'both': {'RNDR3', 'RNDR3n'}},\n",
       " 'rxn00985': {'bigg_ann': 'MISSING',\n",
       "  'in_modelseed': ['PPAK', 'PPAKr', 'PROPP']},\n",
       " 'rxn01011': {'bigg_ann': ['GLYCDH_1', 'HPYRRx'],\n",
       "  'in_modelseed': ['HPYRRx'],\n",
       "  'both': {'GLYCDH_1', 'HPYRRx'}},\n",
       " 'rxn10132': {'bigg_ann': ['CYNTt2', 'CYNTt2pp'],\n",
       "  'in_modelseed': ['CYNTt2'],\n",
       "  'both': {'CYNTt2', 'CYNTt2pp'}},\n",
       " 'rxn05301': {'bigg_ann': ['TYRt2m',\n",
       "   'TYRt2p',\n",
       "   'TYRt2r',\n",
       "   'TYRt2rpp',\n",
       "   'TYRt7',\n",
       "   'TYRth'],\n",
       "  'in_modelseed': ['AGP1_10',\n",
       "   'BAP2_7',\n",
       "   'BAP3_7',\n",
       "   'GAP1_16',\n",
       "   'TAT1_4',\n",
       "   'TAT2_6',\n",
       "   'TYRt2',\n",
       "   'TYRt2r',\n",
       "   'TYRt6i',\n",
       "   'VAP1_6'],\n",
       "  'both': {'AGP1_10',\n",
       "   'BAP2_7',\n",
       "   'BAP3_7',\n",
       "   'GAP1_16',\n",
       "   'TAT1_4',\n",
       "   'TAT2_6',\n",
       "   'TYRt2',\n",
       "   'TYRt2m',\n",
       "   'TYRt2p',\n",
       "   'TYRt2r',\n",
       "   'TYRt2rpp',\n",
       "   'TYRt6i',\n",
       "   'TYRt7',\n",
       "   'TYRth',\n",
       "   'VAP1_6'}},\n",
       " 'rxn08294': {'bigg_ann': 'MISSING', 'in_modelseed': ['DAGK120']},\n",
       " 'rxn05179': {'bigg_ann': ['ILEabc', 'ILEabcpp'],\n",
       "  'in_modelseed': ['ILEabc'],\n",
       "  'both': {'ILEabc', 'ILEabcpp'}},\n",
       " 'rxn01602': {'bigg_ann': ['DHFOR2', 'FOLR2', 'FOLR2_1', 'r0514'],\n",
       "  'in_modelseed': ['DHFOR2', 'FOLR2'],\n",
       "  'both': {'DHFOR2', 'FOLR2', 'FOLR2_1', 'r0514'}},\n",
       " 'rxn08094': {'bigg_ann': ['AKGDH', 'AKGDm'],\n",
       "  'in_modelseed': ['AKGD', 'AKGDH', 'TEST_AKGDH'],\n",
       "  'both': {'AKGD', 'AKGDH', 'AKGDm', 'TEST_AKGDH'}},\n",
       " 'rxn02302': {'bigg_ann': 'MISSING',\n",
       "  'in_modelseed': ['METB1', 'METB1r', 'SHSL5']},\n",
       " 'rxn01761': {'bigg_ann': 'RMI', 'in_modelseed': ['RMI'], 'both': {'RMI'}},\n",
       " 'rxn03061': {'bigg_ann': 'MICITDr',\n",
       "  'in_modelseed': ['MICITD', 'MICITDr', 'MICITH'],\n",
       "  'both': {'MICITD', 'MICITDr', 'MICITH'}},\n",
       " 'rxn05344': {'bigg_ann': 'MISSING', 'in_modelseed': ['FAS2_7_1', 'MCMAT7']},\n",
       " 'rxn03241': {'bigg_ann': ['ECOAH6', 'ECOAH6_1', 'ECOAH6m', 'ECOAH6p'],\n",
       "  'in_modelseed': ['ECOAH6'],\n",
       "  'both': {'ECOAH6', 'ECOAH6_1', 'ECOAH6m', 'ECOAH6p'}},\n",
       " 'rxn01521': {'bigg_ann': ['NTD1', 'NTD1m', 'NTD1pp'],\n",
       "  'in_modelseed': ['NTD1', 'U24'],\n",
       "  'both': {'NTD1', 'NTD1m', 'NTD1pp', 'U24'}},\n",
       " 'rxn12636': {'bigg_ann': 'MISSING', 'in_modelseed': ['MEAMP1(met-ala)']},\n",
       " 'rxn05596': {'bigg_ann': ['KHte', 'Kt3g', 'Kt3pp', 'Kt3r'],\n",
       "  'in_modelseed': ['Kt3', 'Kt3r'],\n",
       "  'both': {'KHte', 'Kt3', 'Kt3g', 'Kt3pp', 'Kt3r'}},\n",
       " 'rxn00338': {'bigg_ann': ['ASPO6', 'ASPO6_1'],\n",
       "  'in_modelseed': ['ASPO6'],\n",
       "  'both': {'ASPO6', 'ASPO6_1'}},\n",
       " 'rxn01975': {'bigg_ann': ['G6PBDH', 'G6PBDHh'],\n",
       "  'in_modelseed': ['G6PBDH'],\n",
       "  'both': {'G6PBDH', 'G6PBDHh'}},\n",
       " 'rxn02373': {'bigg_ann': ['G5DHx', 'G5SD', 'G5SDym'],\n",
       "  'in_modelseed': ['G5SD'],\n",
       "  'both': {'G5DHx', 'G5SD', 'G5SDym'}},\n",
       " 'rxn01893': {'bigg_ann': ['OP4ENH', 'OP4ENH3'],\n",
       "  'in_modelseed': ['OP4ENH', 'OP4ENH3'],\n",
       "  'both': {'OP4ENH', 'OP4ENH3'}},\n",
       " 'rxn01649': {'bigg_ann': 'PUNP7',\n",
       "  'in_modelseed': ['PNP1_9', 'PUNP7'],\n",
       "  'both': {'PNP1_9', 'PUNP7'}},\n",
       " 'rxn00085': {'bigg_ann': ['GLUS_nadph', 'GLUSy'],\n",
       "  'in_modelseed': ['GLUSy'],\n",
       "  'both': {'GLUS_nadph', 'GLUSy'}},\n",
       " 'rxn01737': {'bigg_ann': ['RAFH', 'RAFHpp'],\n",
       "  'in_modelseed': ['INVRTSc', 'RAFH'],\n",
       "  'both': {'INVRTSc', 'RAFH', 'RAFHpp'}},\n",
       " 'rxn00119': {'bigg_ann': ['UMPK', 'UMPKm', 'UMPKn'],\n",
       "  'in_modelseed': ['UMPK', 'UMPKURIDK1', 'URA6_1', 'URA6_2', 'URIDK1'],\n",
       "  'both': {'UMPK',\n",
       "   'UMPKURIDK1',\n",
       "   'UMPKm',\n",
       "   'UMPKn',\n",
       "   'URA6_1',\n",
       "   'URA6_2',\n",
       "   'URIDK1'}},\n",
       " 'rxn00709': {'bigg_ann': 'URIK1',\n",
       "  'in_modelseed': ['URIK1', 'URK1_3'],\n",
       "  'both': {'URIK1', 'URK1_3'}},\n",
       " 'rxn08549': {'bigg_ann': 'MISSING', 'in_modelseed': ['G3PAT160']},\n",
       " 'rxn08179': {'bigg_ann': 'BSORy',\n",
       "  'in_modelseed': ['BSORy'],\n",
       "  'both': {'BSORy'}},\n",
       " 'rxn00608': {'bigg_ann': 'MISSING', 'in_modelseed': ['PGGH']},\n",
       " 'rxn05468': {'bigg_ann': ['O2t',\n",
       "   'O2ter',\n",
       "   'O2tex',\n",
       "   'O2thr',\n",
       "   'O2tm',\n",
       "   'O2tn',\n",
       "   'O2tp',\n",
       "   'O2tpp',\n",
       "   'O2trhu',\n",
       "   'O2tu'],\n",
       "  'in_modelseed': ['O2t', 'O2t5i', 'U227'],\n",
       "  'both': {'O2t',\n",
       "   'O2t5i',\n",
       "   'O2ter',\n",
       "   'O2tex',\n",
       "   'O2thr',\n",
       "   'O2tm',\n",
       "   'O2tn',\n",
       "   'O2tp',\n",
       "   'O2tpp',\n",
       "   'O2trhu',\n",
       "   'O2tu',\n",
       "   'U227'}},\n",
       " 'rxn01466': {'bigg_ann': ['FPPSh', 'GRTT', 'GRTTx'],\n",
       "  'in_modelseed': ['GRTT'],\n",
       "  'both': {'FPPSh', 'GRTT', 'GRTTx'}},\n",
       " 'rxn01304': {'bigg_ann': 'HSST',\n",
       "  'in_modelseed': ['HSST', 'HSSTr'],\n",
       "  'both': {'HSST', 'HSSTr'}},\n",
       " 'rxn03409': {'bigg_ann': 'GLNSP3',\n",
       "  'in_modelseed': ['GLNSP3'],\n",
       "  'both': {'GLNSP3'}},\n",
       " 'rxn09692': {'bigg_ann': ['CHLt2', 'CHLt2pp'],\n",
       "  'in_modelseed': ['CHLt2', 'CHLt2r', 'HNM1'],\n",
       "  'both': {'CHLt2', 'CHLt2pp', 'CHLt2r', 'HNM1'}},\n",
       " 'rxn00974': {'bigg_ann': 'ACONTa',\n",
       "  'in_modelseed': ['ACONTa'],\n",
       "  'both': {'ACONTa'}},\n",
       " 'rxn04601': {'bigg_ann': '3HPPPNH',\n",
       "  'in_modelseed': ['3HPPPNH'],\n",
       "  'both': {'3HPPPNH'}},\n",
       " 'rxn02008': {'bigg_ann': 'UAMAGS',\n",
       "  'in_modelseed': ['UAMAGS'],\n",
       "  'both': {'UAMAGS'}},\n",
       " 'rxn05740': {'bigg_ann': 'MISSING', 'in_modelseed': ['GLC3', 'GPH1']},\n",
       " 'rxn09203': {'bigg_ann': 'MISSING', 'in_modelseed': ['PSD181']},\n",
       " 'rxn03904': {'bigg_ann': 'PAPPT3',\n",
       "  'in_modelseed': ['PAPPT3'],\n",
       "  'both': {'PAPPT3'}},\n",
       " 'rxn03931': {'bigg_ann': 'DKDID',\n",
       "  'in_modelseed': ['DKDID'],\n",
       "  'both': {'DKDID'}},\n",
       " 'rxn00835': {'bigg_ann': ['INSK', 'INSKm'],\n",
       "  'in_modelseed': ['INSK', 'U20'],\n",
       "  'both': {'INSK', 'INSKm', 'U20'}},\n",
       " 'rxn02288': {'bigg_ann': ['UPPDC1', 'UPPDC1_1'],\n",
       "  'in_modelseed': ['UPPDC1'],\n",
       "  'both': {'UPPDC1', 'UPPDC1_1'}},\n",
       " 'rxn00783': {'bigg_ann': 'DDPGALA',\n",
       "  'in_modelseed': ['DDPGALA'],\n",
       "  'both': {'DDPGALA'}},\n",
       " 'rxn00409': {'bigg_ann': ['NDPK3', 'NDPK3m', 'NDPK3n'],\n",
       "  'in_modelseed': ['NDPK3', 'YNK1_2'],\n",
       "  'both': {'NDPK3', 'NDPK3m', 'NDPK3n', 'YNK1_2'}},\n",
       " 'rxn02831': {'bigg_ann': 'SUCBZL',\n",
       "  'in_modelseed': ['SUCBZL'],\n",
       "  'both': {'SUCBZL'}},\n",
       " 'rxn00598': {'bigg_ann': '3OXCOAT',\n",
       "  'in_modelseed': ['3OXACOA', '3OXCOAT'],\n",
       "  'both': {'3OXACOA', '3OXCOAT'}},\n",
       " 'rxn05534': {'bigg_ann': 'DIPEPabc10',\n",
       "  'in_modelseed': ['DIPEPabc10'],\n",
       "  'both': {'DIPEPabc10'}},\n",
       " 'rxn01258': {'bigg_ann': 'ICHORS',\n",
       "  'in_modelseed': ['ICH or Si', 'ICHORS', 'ICHORSi'],\n",
       "  'both': {'ICH or Si', 'ICHORS', 'ICHORSi'}},\n",
       " 'rxn08842': {'bigg_ann': 'MISSING', 'in_modelseed': ['LPLIPAL2E161']},\n",
       " 'rxn01538': {'bigg_ann': 'TMK',\n",
       "  'in_modelseed': ['TMK', 'TMKr'],\n",
       "  'both': {'TMK', 'TMKr'}},\n",
       " 'rxn05669': {'bigg_ann': ['VALt2m', 'VALt2r', 'VALt2rpp', 'VALth'],\n",
       "  'in_modelseed': ['AGP1_11',\n",
       "   'BAP2_8',\n",
       "   'BAP3_8',\n",
       "   'GAP1_17',\n",
       "   'VALt2',\n",
       "   'VALt2r',\n",
       "   'VAP1_7'],\n",
       "  'both': {'AGP1_11',\n",
       "   'BAP2_8',\n",
       "   'BAP3_8',\n",
       "   'GAP1_17',\n",
       "   'VALt2',\n",
       "   'VALt2m',\n",
       "   'VALt2r',\n",
       "   'VALt2rpp',\n",
       "   'VALth',\n",
       "   'VAP1_7'}},\n",
       " 'rxn03901': {'bigg_ann': 'MISSING', 'in_modelseed': ['UDCPDP']},\n",
       " 'rxn01985': {'bigg_ann': 'PUNP6',\n",
       "  'in_modelseed': ['PNP1_3', 'PUNP6'],\n",
       "  'both': {'PNP1_3', 'PUNP6'}},\n",
       " 'rxn00808': {'bigg_ann': ['GALKh', 'GALKr'],\n",
       "  'in_modelseed': ['GAL1', 'GALK', 'GALKr'],\n",
       "  'both': {'GAL1', 'GALK', 'GALKh', 'GALKr'}},\n",
       " 'rxn10013': {'bigg_ann': 'ACOAD5',\n",
       "  'in_modelseed': ['ACOAD5'],\n",
       "  'both': {'ACOAD5'}},\n",
       " 'rxn10052': {'bigg_ann': 'ADK2', 'in_modelseed': ['ADK2'], 'both': {'ADK2'}},\n",
       " 'rxn05540': {'bigg_ann': 'DIPEPabc2',\n",
       "  'in_modelseed': ['DIPEPabc2'],\n",
       "  'both': {'DIPEPabc2'}},\n",
       " 'rxn00193': {'bigg_ann': 'GLUR', 'in_modelseed': ['GLUR'], 'both': {'GLUR'}},\n",
       " 'rxn05326': {'bigg_ann': 'MISSING', 'in_modelseed': ['EAR60x', 'HEMAT2']},\n",
       " 'rxn05197': {'bigg_ann': ['URAt2', 'URAt2pp'],\n",
       "  'in_modelseed': ['FUR4', 'URAt2', 'URAt2r', 'URAt6'],\n",
       "  'both': {'FUR4', 'URAt2', 'URAt2pp', 'URAt2r', 'URAt6'}},\n",
       " 'rxn00653': {'bigg_ann': 'ALDD22x',\n",
       "  'in_modelseed': ['ALDD22x'],\n",
       "  'both': {'ALDD22x'}},\n",
       " 'rxn00929': {'bigg_ann': ['P5CRx', 'P5CRxm', 'PRO1x', 'PRO1xm'],\n",
       "  'in_modelseed': ['P5CRx', 'PRO1x'],\n",
       "  'both': {'P5CRx', 'P5CRxm', 'PRO1x', 'PRO1xm'}},\n",
       " 'rxn08800': {'bigg_ann': 'MISSING', 'in_modelseed': ['LPLIPAL1A161pp']},\n",
       " 'rxn00256': {'bigg_ann': ['CS', 'CSm', 'CSp'],\n",
       "  'in_modelseed': ['CIT2', 'CS'],\n",
       "  'both': {'CIT2', 'CS', 'CSm', 'CSp'}},\n",
       " 'rxn08335': {'bigg_ann': 'DHORD2',\n",
       "  'in_modelseed': ['DH or D2', 'DHORD2'],\n",
       "  'both': {'DH or D2', 'DHORD2'}},\n",
       " 'rxn03004': {'bigg_ann': ['FPGFTh', 'FPGFTm', 'GARFT'],\n",
       "  'in_modelseed': ['ADE8', 'GARFT', 'GARFTi'],\n",
       "  'both': {'ADE8', 'FPGFTh', 'FPGFTm', 'GARFT', 'GARFTi'}},\n",
       " 'rxn00138': {'bigg_ann': ['NADS1', 'NADS1m', 'NADS1n'],\n",
       "  'in_modelseed': ['NADS1m', 'QNS1_1'],\n",
       "  'both': {'NADS1', 'NADS1m', 'NADS1n', 'QNS1_1'}},\n",
       " 'rxn05536': {'bigg_ann': 'DIPEPabc12',\n",
       "  'in_modelseed': ['DIPEPabc12'],\n",
       "  'both': {'DIPEPabc12'}},\n",
       " 'rxn06729': {'bigg_ann': 'UAGAAT',\n",
       "  'in_modelseed': ['UAGAAT'],\n",
       "  'both': {'UAGAAT'}},\n",
       " 'rxn05168': {'bigg_ann': ['VALabc', 'VALabcpp'],\n",
       "  'in_modelseed': ['VALabc'],\n",
       "  'both': {'VALabc', 'VALabcpp'}},\n",
       " 'rxn05546': {'bigg_ann': 'DIPEPabc8',\n",
       "  'in_modelseed': ['DIPEPabc8'],\n",
       "  'both': {'DIPEPabc8'}},\n",
       " 'rxn02167': {'bigg_ann': ['ECOAH1',\n",
       "   'ECOAH1_1',\n",
       "   'ECOAH1_2',\n",
       "   'ECOAH1m',\n",
       "   'ECOAH1x'],\n",
       "  'in_modelseed': ['ECOAH1'],\n",
       "  'both': {'ECOAH1', 'ECOAH1_1', 'ECOAH1_2', 'ECOAH1m', 'ECOAH1x'}},\n",
       " 'rxn01621': {'bigg_ann': 'RMPA', 'in_modelseed': ['RMPA'], 'both': {'RMPA'}},\n",
       " 'rxn05128': {'bigg_ann': 'GGGABAH',\n",
       "  'in_modelseed': ['GGGABAH', 'GGLUGABH'],\n",
       "  'both': {'GGGABAH', 'GGLUGABH'}},\n",
       " 'rxn10127': {'bigg_ann': ['TMAOR1e', 'TMAOR1pp'],\n",
       "  'in_modelseed': ['TMAOR1e'],\n",
       "  'both': {'TMAOR1e', 'TMAOR1pp'}},\n",
       " 'rxn10770': {'bigg_ann': 'CHOLD',\n",
       "  'in_modelseed': ['CHOLD'],\n",
       "  'both': {'CHOLD'}},\n",
       " 'rxn10161': {'bigg_ann': ['OCDCAt2', 'OCDCAt2pp'],\n",
       "  'in_modelseed': ['OCDCAt2'],\n",
       "  'both': {'OCDCAt2', 'OCDCAt2pp'}},\n",
       " 'rxn02297': {'bigg_ann': 'AOXSr',\n",
       "  'in_modelseed': ['AOXS', 'AOXSir', 'AOXSr', 'U86'],\n",
       "  'both': {'AOXS', 'AOXSir', 'AOXSr', 'U86'}},\n",
       " 'rxn01799': {'bigg_ann': 'DURIPP',\n",
       "  'in_modelseed': ['DURIPP', 'PNP1_1'],\n",
       "  'both': {'DURIPP', 'PNP1_1'}},\n",
       " 'rxn01485': {'bigg_ann': ['PGAMT', 'PGAMTi'],\n",
       "  'in_modelseed': ['PGAMT'],\n",
       "  'both': {'PGAMT', 'PGAMTi'}},\n",
       " 'rxn09104': {'bigg_ann': ['PGPP160', 'PGPP160pp'],\n",
       "  'in_modelseed': ['PGPP160pp'],\n",
       "  'both': {'PGPP160', 'PGPP160pp'}},\n",
       " 'rxn02190': {'bigg_ann': 'DHPM2',\n",
       "  'in_modelseed': ['DHPM2'],\n",
       "  'both': {'DHPM2'}},\n",
       " 'rxn03031': {'bigg_ann': 'THDPS',\n",
       "  'in_modelseed': ['THDPS'],\n",
       "  'both': {'THDPS'}},\n",
       " 'rxn09207': {'bigg_ann': 'MISSING', 'in_modelseed': ['PSSA141']},\n",
       " 'rxn09296': {'bigg_ann': ['THIORDXi', 'THIORDXm', 'THIORDXni', 'THIORDXp'],\n",
       "  'in_modelseed': ['THDPO', 'THIORDXi'],\n",
       "  'both': {'THDPO', 'THIORDXi', 'THIORDXm', 'THIORDXni', 'THIORDXp'}},\n",
       " 'rxn00239': {'bigg_ann': ['GK1', 'GK1m'],\n",
       "  'in_modelseed': ['GK1', 'GUK1_1'],\n",
       "  'both': {'GK1', 'GK1m', 'GUK1_1'}},\n",
       " 'rxn02465': {'bigg_ann': ['AGGPR', 'AGPR', 'AGPRim'],\n",
       "  'in_modelseed': ['AGPR'],\n",
       "  'both': {'AGGPR', 'AGPR', 'AGPRim'}},\n",
       " 'rxn01791': {'bigg_ann': ['PANTS', 'PBAL', 'PBALm'],\n",
       "  'in_modelseed': ['PANTS', 'YIL145C'],\n",
       "  'both': {'PANTS', 'PBAL', 'PBALm', 'YIL145C'}},\n",
       " 'rxn00183': {'bigg_ann': ['PUTA3', 'r0074'],\n",
       "  'in_modelseed': ['GSADH', 'PUTA3'],\n",
       "  'both': {'GSADH', 'PUTA3', 'r0074'}},\n",
       " 'rxn00623': {'bigg_ann': ['SULR', 'SULR_1', 'SULRi'],\n",
       "  'in_modelseed': ['ECM17', 'MET10', 'SULR', 'SULRi'],\n",
       "  'both': {'ECM17', 'MET10', 'SULR', 'SULR_1', 'SULRi'}},\n",
       " 'rxn09107': {'bigg_ann': 'MISSING', 'in_modelseed': ['PGPP181pp']},\n",
       " 'rxn05543': {'bigg_ann': 'MISSING', 'in_modelseed': ['DIPEPabc5']},\n",
       " 'rxn01329': {'bigg_ann': ['MPPM', 'PMANM'],\n",
       "  'in_modelseed': ['PMANM', 'SEC53'],\n",
       "  'both': {'MPPM', 'PMANM', 'SEC53'}},\n",
       " 'rxn00950': {'bigg_ann': 'MISSING', 'in_modelseed': ['CYSTLr']},\n",
       " 'rxn05937': {'bigg_ann': 'FRDO',\n",
       "  'in_modelseed': ['FRDO', 'FRDOr'],\n",
       "  'both': {'FRDO', 'FRDOr'}},\n",
       " 'rxn00990': {'bigg_ann': 'ACACCT',\n",
       "  'in_modelseed': ['ACACCT'],\n",
       "  'both': {'ACACCT'}},\n",
       " 'rxn08816': {'bigg_ann': 'MISSING', 'in_modelseed': ['LPLIPAL1G181pp']},\n",
       " 'rxn02341': {'bigg_ann': ['PPCDC', 'r0614'],\n",
       "  'in_modelseed': ['PPCDC', 'U93'],\n",
       "  'both': {'PPCDC', 'U93', 'r0614'}},\n",
       " 'rxn06591': {'bigg_ann': ['GLUTRR', 'GLUTRR_1'],\n",
       "  'in_modelseed': ['GLUTRR'],\n",
       "  'both': {'GLUTRR', 'GLUTRR_1'}},\n",
       " 'rxn01519': {'bigg_ann': ['DUTPDP', 'DUTPDPm', 'DUTPDPn'],\n",
       "  'in_modelseed': ['DUT1', 'DUTPDP'],\n",
       "  'both': {'DUT1', 'DUTPDP', 'DUTPDPm', 'DUTPDPn'}},\n",
       " 'rxn01343': {'bigg_ann': 'PFK_3',\n",
       "  'in_modelseed': ['PFK1_3', 'PFK_3'],\n",
       "  'both': {'PFK1_3', 'PFK_3'}},\n",
       " 'rxn01080': {'bigg_ann': 'GUI1', 'in_modelseed': ['GUI1'], 'both': {'GUI1'}},\n",
       " 'rxn08797': {'bigg_ann': 'MISSING', 'in_modelseed': ['LPLIPAL1A140pp']},\n",
       " 'rxn05232': {'bigg_ann': 'RNTR1',\n",
       "  'in_modelseed': ['RNTR1'],\n",
       "  'both': {'RNTR1'}},\n",
       " 'rxn09108': {'bigg_ann': 'MISSING', 'in_modelseed': ['PGSA120']},\n",
       " 'rxn00224': {'bigg_ann': 'MISSING', 'in_modelseed': ['FCLT']},\n",
       " 'rxn01513': {'bigg_ann': ['DTMPK', 'DTMPKm'],\n",
       "  'in_modelseed': ['CDC8', 'DTMPK'],\n",
       "  'both': {'CDC8', 'DTMPK', 'DTMPKm'}},\n",
       " 'rxn05333': {'bigg_ann': ['3HAD100', '3HAD100_1'],\n",
       "  'in_modelseed': ['3HAD100', 'HDEHL4'],\n",
       "  'both': {'3HAD100', '3HAD100_1', 'HDEHL4'}},\n",
       " 'rxn06510': {'bigg_ann': ['ACACT6m', 'ACACT6p', 'ACACT6r', 'KAT6'],\n",
       "  'in_modelseed': ['ACACT6r', 'KAT6'],\n",
       "  'both': {'ACACT6m', 'ACACT6p', 'ACACT6r', 'KAT6'}},\n",
       " 'rxn08307': {'bigg_ann': 'DASYN140',\n",
       "  'in_modelseed': ['DASYN140'],\n",
       "  'both': {'DASYN140'}},\n",
       " 'rxn05177': {'bigg_ann': ['THMabc', 'THMabcpp'],\n",
       "  'in_modelseed': ['THMabc'],\n",
       "  'both': {'THMabc', 'THMabcpp'}},\n",
       " 'rxn00209': {'bigg_ann': 'PDX5POi',\n",
       "  'in_modelseed': ['PDX3_2', 'PDX5PO', 'PDX5POi'],\n",
       "  'both': {'PDX3_2', 'PDX5PO', 'PDX5POi'}},\n",
       " 'rxn01274': {'bigg_ann': ['GLYOX', 'GLYOXm'],\n",
       "  'in_modelseed': ['GLYOX'],\n",
       "  'both': {'GLYOX', 'GLYOXm'}},\n",
       " 'rxn02474': {'bigg_ann': ['APRAUR', 'AUNOR'],\n",
       "  'in_modelseed': ['APRAUR', 'RIB7_2'],\n",
       "  'both': {'APRAUR', 'AUNOR', 'RIB7_2'}},\n",
       " 'rxn02230': {'bigg_ann': 'MCPST',\n",
       "  'in_modelseed': ['MCPST', 'MCPSTr'],\n",
       "  'both': {'MCPST', 'MCPSTr'}},\n",
       " 'rxn03246': {'bigg_ann': ['HACD3', 'HACD3_1', 'HACD3i', 'HACD3m'],\n",
       "  'in_modelseed': ['HACD3', 'HACD3i'],\n",
       "  'both': {'HACD3', 'HACD3_1', 'HACD3i', 'HACD3m'}},\n",
       " 'rxn04783': {'bigg_ann': 'GART', 'in_modelseed': ['GART'], 'both': {'GART'}},\n",
       " 'rxn02144': {'bigg_ann': 'OXOAEL',\n",
       "  'in_modelseed': ['OXOAEL', 'PCAD'],\n",
       "  'both': {'OXOAEL', 'PCAD'}},\n",
       " 'rxn00604': {'bigg_ann': ['G6PDH2er', 'G6PDH2r'],\n",
       "  'in_modelseed': ['G6PDH', 'G6PDH2', 'G6PDH2r', 'G6PDHy', 'ZWF1'],\n",
       "  'both': {'G6PDH', 'G6PDH2', 'G6PDH2er', 'G6PDH2r', 'G6PDHy', 'ZWF1'}},\n",
       " 'rxn12645': {'bigg_ann': 'MISSING', 'in_modelseed': ['MEAMP1(gly-asn)']},\n",
       " 'rxn00274': {'bigg_ann': ['GLYAT', 'GLYATi', 'GLYATm', 'GLYATx'],\n",
       "  'in_modelseed': ['GLYAT', 'GLYATRi', 'GLYATi'],\n",
       "  'both': {'GLYAT', 'GLYATRi', 'GLYATi', 'GLYATm', 'GLYATx'}},\n",
       " 'rxn00674': {'bigg_ann': 'MISSING', 'in_modelseed': ['ACS2']},\n",
       " 'rxn00715': {'bigg_ann': 'URIK3',\n",
       "  'in_modelseed': ['URIK3'],\n",
       "  'both': {'URIK3'}},\n",
       " 'rxn08849': {'bigg_ann': 'MISSING', 'in_modelseed': ['LPLIPAL2G161']},\n",
       " 'rxn09448': {'bigg_ann': 'MISSING', 'in_modelseed': ['FACOAL181']},\n",
       " 'rxn09208': {'bigg_ann': 'PSSA160',\n",
       "  'in_modelseed': ['PSSA160'],\n",
       "  'both': {'PSSA160'}},\n",
       " 'rxn05305': {'bigg_ann': ['LYSt3pp', 'LYSt3r', 'LYSt6', 'LYStm'],\n",
       "  'in_modelseed': ['LYSt3', 'LYSt3r'],\n",
       "  'both': {'LYSt3', 'LYSt3pp', 'LYSt3r', 'LYSt6', 'LYStm'}},\n",
       " 'rxn00014': {'bigg_ann': 'MISSING', 'in_modelseed': ['CCP', 'CYCPO']},\n",
       " 'rxn00202': {'bigg_ann': 'MISSING',\n",
       "  'in_modelseed': ['HCITS', 'LYS20_1', 'LYS21']},\n",
       " 'rxn05593': {'bigg_ann': ['INOSTtpp', 'INSTt2'],\n",
       "  'in_modelseed': ['INSTt2', 'ITR1', 'ITR2'],\n",
       "  'both': {'INOSTtpp', 'INSTt2', 'ITR1', 'ITR2'}},\n",
       " 'rxn08295': {'bigg_ann': 'MISSING', 'in_modelseed': ['DAGK140']},\n",
       " 'rxn02914': {'bigg_ann': ['PSAT', 'PSERT'],\n",
       "  'in_modelseed': ['PSERT', 'PSERTr', 'SER1_1'],\n",
       "  'both': {'PSAT', 'PSERT', 'PSERTr', 'SER1_1'}},\n",
       " 'rxn01603': {'bigg_ann': ['DHFS', 'DHFS_1'],\n",
       "  'in_modelseed': ['DHFS', 'U89'],\n",
       "  'both': {'DHFS', 'DHFS_1', 'U89'}},\n",
       " 'rxn00686': {'bigg_ann': ['DHFR', 'DHFRim'],\n",
       "  'in_modelseed': ['DFR1_2', 'DHFR', 'DHFRi'],\n",
       "  'both': {'DFR1_2', 'DHFR', 'DHFRi', 'DHFRim'}},\n",
       " 'rxn09112': {'bigg_ann': 'PGSA161',\n",
       "  'in_modelseed': ['PGSA161'],\n",
       "  'both': {'PGSA161'}},\n",
       " 'rxn00157': {'bigg_ann': ['PFL', 'PFLACTm', 'PFLh'],\n",
       "  'in_modelseed': ['PFL', 'PFLi', 'PFLr'],\n",
       "  'both': {'PFL', 'PFLACTm', 'PFLh', 'PFLi', 'PFLr'}},\n",
       " 'rxn06075': {'bigg_ann': ['RNDR4', 'RNDR4n'],\n",
       "  'in_modelseed': ['RNDR4', 'RNDR5B12'],\n",
       "  'both': {'RNDR4', 'RNDR4n', 'RNDR5B12'}},\n",
       " 'rxn08129': {'bigg_ann': 'AMALT4',\n",
       "  'in_modelseed': ['AMALT4'],\n",
       "  'both': {'AMALT4'}},\n",
       " 'rxn01286': {'bigg_ann': ['GLYALDDr', 'GLYALDOR', 'r0393'],\n",
       "  'in_modelseed': ['ALDD8x', 'GLYALDDr'],\n",
       "  'both': {'ALDD8x', 'GLYALDDr', 'GLYALDOR', 'r0393'}},\n",
       " 'rxn05289': {'bigg_ann': ['TDSRh', 'TRDR', 'TRDRm'],\n",
       "  'in_modelseed': ['TRDR'],\n",
       "  'both': {'TDSRh', 'TRDR', 'TRDRm'}},\n",
       " 'rxn01973': {'bigg_ann': 'SDPDS',\n",
       "  'in_modelseed': ['SDPDS'],\n",
       "  'both': {'SDPDS'}},\n",
       " 'rxn05467': {'bigg_ann': ['CO2t',\n",
       "   'CO2ter',\n",
       "   'CO2tex',\n",
       "   'CO2tg',\n",
       "   'CO2th',\n",
       "   'CO2tm',\n",
       "   'CO2tn',\n",
       "   'CO2tp',\n",
       "   'CO2tpp',\n",
       "   'CO2tpp_1',\n",
       "   'CO2tv'],\n",
       "  'in_modelseed': ['CO2t', 'U228'],\n",
       "  'both': {'CO2t',\n",
       "   'CO2ter',\n",
       "   'CO2tex',\n",
       "   'CO2tg',\n",
       "   'CO2th',\n",
       "   'CO2tm',\n",
       "   'CO2tn',\n",
       "   'CO2tp',\n",
       "   'CO2tpp',\n",
       "   'CO2tpp_1',\n",
       "   'CO2tv',\n",
       "   'U228'}},\n",
       " 'rxn00117': {'bigg_ann': ['NDPK2', 'NDPK2m', 'NDPK2n'],\n",
       "  'in_modelseed': ['NDPK2', 'YNK1_1'],\n",
       "  'both': {'NDPK2', 'NDPK2m', 'NDPK2n', 'YNK1_1'}},\n",
       " 'rxn05343': {'bigg_ann': 'MISSING',\n",
       "  'in_modelseed': ['3OAS100', 'FAS2_4_1', 'MCMAT4']},\n",
       " 'rxn01520': {'bigg_ann': 'TMDS',\n",
       "  'in_modelseed': ['CDC21', 'TMDS'],\n",
       "  'both': {'CDC21', 'TMDS'}},\n",
       " 'rxn03395': {'bigg_ann': 'OHPHM',\n",
       "  'in_modelseed': ['OHPHM'],\n",
       "  'both': {'OHPHM'}},\n",
       " 'rxn00330': {'bigg_ann': ['MALS', 'MALSh', 'MALSm', 'MALSp'],\n",
       "  'in_modelseed': ['DAL7', 'MALS', 'MLS1'],\n",
       "  'both': {'DAL7', 'MALS', 'MALSh', 'MALSm', 'MALSp', 'MLS1'}},\n",
       " 'rxn05736': {'bigg_ann': 'MISSING', 'in_modelseed': ['FAA1_2', 'FACOAL140']},\n",
       " 'rxn03445': {'bigg_ann': 'OHPBAT',\n",
       "  'in_modelseed': ['OHPBAT', 'SER1_2'],\n",
       "  'both': {'OHPBAT', 'SER1_2'}},\n",
       " 'rxn00493': {'bigg_ann': ['PHETA1', 'PHETA1m', 'POAT', 'POATh', 'POATm'],\n",
       "  'in_modelseed': ['ARO9_1', 'PHETA1'],\n",
       "  'both': {'ARO9_1', 'PHETA1', 'PHETA1m', 'POAT', 'POATh', 'POATm'}},\n",
       " 'rxn08298': {'bigg_ann': 'MISSING', 'in_modelseed': ['DAGK161']},\n",
       " 'rxn01834': {'bigg_ann': ['GLYOX_1', 'LGTHL'],\n",
       "  'in_modelseed': ['GLO1', 'LGTHL'],\n",
       "  'both': {'GLO1', 'GLYOX_1', 'LGTHL'}},\n",
       " 'rxn00293': {'bigg_ann': 'MISSING', 'in_modelseed': ['UAGDPr']},\n",
       " 'rxn00948': {'bigg_ann': 'SERPT',\n",
       "  'in_modelseed': ['LCB1', 'LCB2', 'SERPT'],\n",
       "  'both': {'LCB1', 'LCB2', 'SERPT'}},\n",
       " 'rxn00741': {'bigg_ann': ['2HBO', 'LDH2'],\n",
       "  'in_modelseed': ['2HBO', 'LDH2'],\n",
       "  'both': {'2HBO', 'LDH2'}},\n",
       " 'rxn00839': {'bigg_ann': ['NDPK8', 'NDPK8m', 'NDPK8n'],\n",
       "  'in_modelseed': ['NDPK8', 'YNK1_7'],\n",
       "  'both': {'NDPK8', 'NDPK8m', 'NDPK8n', 'YNK1_7'}},\n",
       " 'rxn03439': {'bigg_ann': 'MOAT2',\n",
       "  'in_modelseed': ['MOAT2'],\n",
       "  'both': {'MOAT2'}},\n",
       " 'rxn10473': {'bigg_ann': ['CLtex', 'Clt'],\n",
       "  'in_modelseed': ['Clt'],\n",
       "  'both': {'CLtex', 'Clt'}},\n",
       " 'rxn00851': {'bigg_ann': 'ALAALAr',\n",
       "  'in_modelseed': ['ALAALA', 'ALAALAr'],\n",
       "  'both': {'ALAALA', 'ALAALAr'}},\n",
       " 'rxn05329': {'bigg_ann': 'MISSING', 'in_modelseed': ['HBUHL1']},\n",
       " 'rxn08618': {'bigg_ann': 'MISSING', 'in_modelseed': ['GLCTR1']},\n",
       " 'rxn08620': {'bigg_ann': 'GLCTR3',\n",
       "  'in_modelseed': ['GLCTR3'],\n",
       "  'both': {'GLCTR3'}},\n",
       " 'rxn00979': {'bigg_ann': ['GCALDD', 'GCALDDm'],\n",
       "  'in_modelseed': ['GCALDD', 'GCALDDr'],\n",
       "  'both': {'GCALDD', 'GCALDDm', 'GCALDDr'}},\n",
       " 'rxn02774': {'bigg_ann': ['SHCHD2', 'SHCHD2_1'],\n",
       "  'in_modelseed': ['SHCHD2'],\n",
       "  'both': {'SHCHD2', 'SHCHD2_1'}},\n",
       " 'rxn03164': {'bigg_ann': 'MISSING', 'in_modelseed': ['UGMDDS']},\n",
       " 'rxn08619': {'bigg_ann': 'GLCTR2',\n",
       "  'in_modelseed': ['GLCTR2'],\n",
       "  'both': {'GLCTR2'}},\n",
       " 'rxn02404': {'bigg_ann': 'MISSING', 'in_modelseed': ['KDOPP']},\n",
       " 'rxn08712': {'bigg_ann': 'HEPT3',\n",
       "  'in_modelseed': ['HEPT3'],\n",
       "  'both': {'HEPT3'}},\n",
       " 'rxn08708': {'bigg_ann': 'HEPK1',\n",
       "  'in_modelseed': ['HEPK1'],\n",
       "  'both': {'HEPK1'}},\n",
       " 'rxn08709': {'bigg_ann': 'HEPK2',\n",
       "  'in_modelseed': ['HEPK2'],\n",
       "  'both': {'HEPK2'}},\n",
       " 'rxn05514': {'bigg_ann': ['CA2t3pp', 'CAt4'],\n",
       "  'in_modelseed': ['CAt4', 'CAt4i'],\n",
       "  'both': {'CA2t3pp', 'CAt4', 'CAt4i'}},\n",
       " 'rxn03182': {'bigg_ann': 'MOAT', 'in_modelseed': ['MOAT'], 'both': {'MOAT'}},\n",
       " 'rxn08583': {'bigg_ann': 'GALT1',\n",
       "  'in_modelseed': ['GALT1'],\n",
       "  'both': {'GALT1'}},\n",
       " 'rxn08954': {'bigg_ann': 'MOAT3C',\n",
       "  'in_modelseed': ['MOAT3C'],\n",
       "  'both': {'MOAT3C'}},\n",
       " 'rxn08333': {'bigg_ann': 'MISSING', 'in_modelseed': ['DHNAOT4']},\n",
       " ...}"
      ]
     },
     "execution_count": 7,
     "metadata": {},
     "output_type": "execute_result"
    }
   ],
   "source": [
    "new_bigg_ann_dict={}\n",
    "\n",
    "for reac in model.reactions:\n",
    "\n",
    "    if \"seed.compound\" in reac.annotation and reac.annotation[\"seed.compound\"] in modelseed_reac_dict2.keys():\n",
    "        #print(\"modelseed bigg id\", modelseed_reac_dict2[reac.annotation[\"seed.compound\"]])\n",
    "        if \"bigg.reaction\" in reac.annotation and reac.annotation[\"bigg.reaction\"] in modelseed_reac_dict2[reac.annotation[\"seed.compound\"]]:\n",
    "            \n",
    "            new_bigg_ann_dict[reac.annotation[\"seed.compound\"]]={}\n",
    "            new_bigg_ann_dict[reac.annotation[\"seed.compound\"]][\"bigg_ann\"]=reac.annotation[\"bigg.reaction\"]\n",
    "            new_bigg_ann_dict[reac.annotation[\"seed.compound\"]][\"in_modelseed\"]=modelseed_reac_dict2[reac.annotation[\"seed.compound\"]]\n",
    "            both_db_ann=[]\n",
    "            if type(reac.annotation[\"bigg.reaction\"])==list:\n",
    "                for rl in reac.annotation[\"bigg.reaction\"]:\n",
    "                    both_db_ann.append(rl)\n",
    "            else:\n",
    "                both_db_ann.append(reac.annotation[\"bigg.reaction\"])\n",
    "                \n",
    "            if type(modelseed_reac_dict2[reac.annotation[\"seed.compound\"]])==list:\n",
    "                for rl in modelseed_reac_dict2[reac.annotation[\"seed.compound\"]]:\n",
    "                    both_db_ann.append(rl)\n",
    "            else:\n",
    "                both_db_ann.append(modelseed_reac_dict2[reac.annotation[\"seed.compound\"]])\n",
    "                \n",
    "            new_bigg_ann_dict[reac.annotation[\"seed.compound\"]][\"both\"]=set(both_db_ann)\n",
    "            #there is annotation not list and  it is the same as in modelseed db\n",
    "        elif \"bigg.reaction\" in reac.annotation and type(reac.annotation[\"bigg.reaction\"])==list:\n",
    "            #annotation is list but check if is the same\n",
    "            for reac_list in reac.annotation[\"bigg.reaction\"]: \n",
    "                if reac_list in modelseed_reac_dict2[reac.annotation[\"seed.compound\"]]:\n",
    "                    \n",
    "                    new_bigg_ann_dict[reac.annotation[\"seed.compound\"]]={}\n",
    "                    new_bigg_ann_dict[reac.annotation[\"seed.compound\"]][\"bigg_ann\"]=reac.annotation[\"bigg.reaction\"]\n",
    "                    new_bigg_ann_dict[reac.annotation[\"seed.compound\"]][\"in_modelseed\"]=modelseed_reac_dict2[reac.annotation[\"seed.compound\"]]\n",
    "                    \n",
    "                    both_db_ann=[]\n",
    "                    if type(reac.annotation[\"bigg.reaction\"])==list:\n",
    "                        for rl in reac.annotation[\"bigg.reaction\"]:\n",
    "                            both_db_ann.append(rl)\n",
    "                    else:\n",
    "                        both_db_ann.append(reac.annotation[\"bigg.reaction\"])\n",
    "\n",
    "                    if type(modelseed_reac_dict2[reac.annotation[\"seed.compound\"]])==list:\n",
    "                        for rl in modelseed_reac_dict2[reac.annotation[\"seed.compound\"]]:\n",
    "                            both_db_ann.append(rl)\n",
    "                    else:\n",
    "                        both_db_ann.append(modelseed_reac_dict2[reac.annotation[\"seed.compound\"]])\n",
    "\n",
    "                    new_bigg_ann_dict[reac.annotation[\"seed.compound\"]][\"both\"]=set(both_db_ann)\n",
    "\n",
    "        else:\n",
    "            #bigg not in annotation, but there is in the modelseed\n",
    "       \n",
    "            new_bigg_ann_dict[reac.annotation[\"seed.compound\"]]={}\n",
    "            new_bigg_ann_dict[reac.annotation[\"seed.compound\"]][\"bigg_ann\"]=\"MISSING\"\n",
    "            new_bigg_ann_dict[reac.annotation[\"seed.compound\"]][\"in_modelseed\"]=modelseed_reac_dict2[reac.annotation[\"seed.compound\"]]\n",
    "            \n",
    "            newid=modelseed_reac_dict2[reac.annotation[\"seed.compound\"]][0].replace(\" \", \"\")\n",
    "        \n",
    "            reac.id=newid\n",
    "            reac.id\n",
    "            model.repair()\n",
    "new_bigg_ann_dict"
   ]
  },
  {
   "cell_type": "code",
   "execution_count": null,
   "metadata": {},
   "outputs": [],
   "source": [
    "model.reactions.DHNAOT4\n",
    "ecoli_model.reactions.DHNAOT4"
   ]
  },
  {
   "cell_type": "code",
   "execution_count": null,
   "metadata": {},
   "outputs": [],
   "source": [
    "for eco in ecoli_model.reactions:\n",
    "\n",
    "    for d in new_bigg_ann_dict.keys():\n",
    "        if eco.id in new_bigg_ann_dict[d] and eco.id not in new_bigg_ann_dict[d][\"bigg_ann\"]:\n",
    "            print(eco.id, new_bigg_ann_dict[d])"
   ]
  },
  {
   "cell_type": "markdown",
   "metadata": {},
   "source": []
  }
 ],
 "metadata": {
  "kernelspec": {
   "display_name": "Python (vibrio)",
   "language": "python",
   "name": "vibrio"
  },
  "language_info": {
   "codemirror_mode": {
    "name": "ipython",
    "version": 3
   },
   "file_extension": ".py",
   "mimetype": "text/x-python",
   "name": "python",
   "nbconvert_exporter": "python",
   "pygments_lexer": "ipython3",
   "version": "3.6.6"
  }
 },
 "nbformat": 4,
 "nbformat_minor": 2
}
