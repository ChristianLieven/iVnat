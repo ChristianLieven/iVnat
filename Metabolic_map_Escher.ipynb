{
 "cells": [
  {
   "cell_type": "code",
   "execution_count": 1,
   "metadata": {},
   "outputs": [],
   "source": [
    "import cobra\n",
    "from os.path import join\n",
    "    \n",
    "# Load a cobra model from anywhere you like\n",
    "data_dir = \"/Users/lizrad/Documents/Vibrio_folder/\"\n",
    "model=cobra.io.read_sbml_model(join(data_dir, \"iVnat_bigg.xml\"))\n",
    "\n"
   ]
  },
  {
   "cell_type": "code",
   "execution_count": 2,
   "metadata": {},
   "outputs": [],
   "source": [
    "# generate a json file to load into Escher\n",
    "cobra.io.save_json_model(model, 'iVnat_newbigg.json')"
   ]
  },
  {
   "cell_type": "code",
   "execution_count": 6,
   "metadata": {},
   "outputs": [
    {
     "name": "stdout",
     "output_type": "stream",
     "text": [
      "\n",
      "Note: You must interrupt the kernel to end this command\n",
      "\n",
      "Serving to http://127.0.0.1:7655/\n",
      "[Ctrl-C to exit from terminal, or Ctrl-M i i to interrupt notebook kernel]\n"
     ]
    },
    {
     "name": "stderr",
     "output_type": "stream",
     "text": [
      "127.0.0.1 - - [06/Sep/2018 14:37:58] \"GET / HTTP/1.1\" 200 -\n"
     ]
    },
    {
     "name": "stdout",
     "output_type": "stream",
     "text": [
      "\n",
      "stopping Server...\n"
     ]
    }
   ],
   "source": [
    "from escher import Builder\n",
    "b = Builder(map_name='e_coli_core.Core metabolism')\n",
    "b.display_in_browser()"
   ]
  },
  {
   "cell_type": "code",
   "execution_count": null,
   "metadata": {},
   "outputs": [],
   "source": []
  },
  {
   "cell_type": "code",
   "execution_count": 5,
   "metadata": {},
   "outputs": [
    {
     "name": "stdout",
     "output_type": "stream",
     "text": [
      "\n",
      "Note: You must interrupt the kernel to end this command\n",
      "\n",
      "Serving to http://127.0.0.1:7655/\n",
      "[Ctrl-C to exit from terminal, or Ctrl-M i i to interrupt notebook kernel]\n"
     ]
    },
    {
     "name": "stderr",
     "output_type": "stream",
     "text": [
      "127.0.0.1 - - [06/Sep/2018 14:37:37] \"GET / HTTP/1.1\" 200 -\n"
     ]
    },
    {
     "name": "stdout",
     "output_type": "stream",
     "text": [
      "\n",
      "stopping Server...\n"
     ]
    }
   ],
   "source": [
    "maps = Builder(model=model)#map_name='e_coli_core.Core metabolism')\n",
    "\n",
    "maps.display_in_browser()"
   ]
  },
  {
   "cell_type": "code",
   "execution_count": null,
   "metadata": {},
   "outputs": [],
   "source": [
    "model_modified = model.copy()\n",
    "# for example, delete a reaction\n",
    "#model_modified.reactions.GAPD.delete()"
   ]
  }
 ],
 "metadata": {
  "kernelspec": {
   "display_name": "Python (vibrio)",
   "language": "python",
   "name": "vibrio"
  },
  "language_info": {
   "codemirror_mode": {
    "name": "ipython",
    "version": 3
   },
   "file_extension": ".py",
   "mimetype": "text/x-python",
   "name": "python",
   "nbconvert_exporter": "python",
   "pygments_lexer": "ipython3",
   "version": "3.6.6"
  }
 },
 "nbformat": 4,
 "nbformat_minor": 2
}
