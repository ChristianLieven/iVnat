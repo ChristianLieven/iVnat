{
 "cells": [
  {
   "cell_type": "code",
   "execution_count": 1,
   "metadata": {},
   "outputs": [
    {
     "name": "stdout",
     "output_type": "stream",
     "text": [
      "files found: \n",
      "iVnat.xml\n"
     ]
    },
    {
     "data": {
      "text/html": [
       "\n",
       "        <table>\n",
       "            <tr>\n",
       "                <td><strong>Name</strong></td>\n",
       "                <td>GCF_001456255_1_rast_metabolic_model</td>\n",
       "            </tr><tr>\n",
       "                <td><strong>Memory address</strong></td>\n",
       "                <td>0x01127de7b8</td>\n",
       "            </tr><tr>\n",
       "                <td><strong>Number of metabolites</strong></td>\n",
       "                <td>1842</td>\n",
       "            </tr><tr>\n",
       "                <td><strong>Number of reactions</strong></td>\n",
       "                <td>1906</td>\n",
       "            </tr><tr>\n",
       "                <td><strong>Objective expression</strong></td>\n",
       "                <td>-1.0*bio1_reverse_b18f7 + 1.0*bio1</td>\n",
       "            </tr><tr>\n",
       "                <td><strong>Compartments</strong></td>\n",
       "                <td>Cytosol_0, Extracellular_0</td>\n",
       "            </tr>\n",
       "          </table>"
      ],
      "text/plain": [
       "<Model GCF_001456255_1_rast_metabolic_model at 0x1127de7b8>"
      ]
     },
     "execution_count": 1,
     "metadata": {},
     "output_type": "execute_result"
    }
   ],
   "source": [
    "from pandas import read_csv, DataFrame\n",
    "import pandas as pd\n",
    "import os\n",
    "import re #Both patterns and strings to be searched can be Unicode strings as well as 8-bit strings.\n",
    "import math\n",
    "import cobra\n",
    "import cobra.test\n",
    "from __future__ import print_function\n",
    "from os.path import join\n",
    "from cobra.io import write_sbml_model\n",
    "from cobra.flux_analysis import flux_variability_analysis\n",
    "#from cobra.medium import minimal_medium\n",
    "#from cobra.medium import minimal_medium\n",
    "from IPython.core.interactiveshell import InteractiveShell\n",
    "import itertools\n",
    "import re\n",
    "import memote\n",
    "\n",
    "InteractiveShell.ast_node_interactivity = \"all\"\n",
    "\n",
    "data_dir = \"/Users/lizrad/Dev/iVnat\"\n",
    "print(\"files found: \")\n",
    "print(\", \".join(i for i in os.listdir(data_dir) if i.startswith(\"iVnat\")))\n",
    "model=cobra.io.read_sbml_model(join(data_dir, \"iVnat.xml\"))\n",
    "#model=cobra.io.read_legacy_sbml(\"/Users/lizrad/Documents/Vibrio_folder/iVnat_gapfill_glu.xml\")\n",
    "model"
   ]
  },
  {
   "cell_type": "markdown",
   "metadata": {},
   "source": [
    "## Memote biomass and consistency functions"
   ]
  },
  {
   "cell_type": "code",
   "execution_count": 2,
   "metadata": {},
   "outputs": [],
   "source": [
    "from memote.support.biomass import find_blocked_biomass_precursors, sum_biomass_weight, find_biomass_precursors, find_direct_metabolites, gam_in_biomass, detect_false_positive_direct_metabolites, bundle_biomass_components, essential_precursors_not_in_biomass"
   ]
  },
  {
   "cell_type": "code",
   "execution_count": 3,
   "metadata": {},
   "outputs": [],
   "source": [
    "from memote.support.consistency import check_stoichiometric_consistency\n",
    "from memote.support.helpers import find_compartment_id_in_model"
   ]
  },
  {
   "cell_type": "markdown",
   "metadata": {},
   "source": [
    "### Finding biomass precursors"
   ]
  },
  {
   "cell_type": "code",
   "execution_count": null,
   "metadata": {
    "scrolled": true
   },
   "outputs": [],
   "source": [
    "bio_precursor=find_biomass_precursors(model, model.reactions.bio1)\n",
    "\n",
    "print(\"Number of found biomass precursors:\" , len(bio_precursor))\n",
    "bio_precursor"
   ]
  },
  {
   "cell_type": "markdown",
   "metadata": {},
   "source": [
    "### Missing essential precursors"
   ]
  },
  {
   "cell_type": "code",
   "execution_count": null,
   "metadata": {
    "scrolled": true
   },
   "outputs": [],
   "source": [
    "missing_essential=essential_precursors_not_in_biomass(model, model.reactions.bio1)\n",
    "missing_essential\n",
    "\n",
    "len(missing_essential)\n",
    "for_real=[]\n",
    "for bio in model.reactions.bio1.metabolites:\n",
    "    if bio.annotation[\"metanetx.chemical\"] in missing_essential:\n",
    "        for_real.append(bio.annotation[\"metanetx.chemical\"])\n",
    "        print(bio.annotation[\"metanetx.chemical\"])\n",
    "        bio.compartment\n",
    "    \n",
    "        \n",
    "len(for_real)\n",
    "\n",
    "\n",
    "main_comp = find_compartment_id_in_model(model, 'c')\n",
    "main_comp\n",
    "\n",
    "\n",
    "#memote looks for ids not in the annotation field, my IDs contain c0 "
   ]
  },
  {
   "cell_type": "code",
   "execution_count": null,
   "metadata": {
    "scrolled": true
   },
   "outputs": [],
   "source": [
    "\n",
    "list_missing_met=[]        \n",
    "for met in model.metabolites:\n",
    "    for mis in missing_essential_precursors:\n",
    "        if mis in met.annotation.values():\n",
    "           \n",
    "            list_missing_met.append(met.id)\n",
    "            print(met.id, mis)\n",
    "            \n",
    "len(list_missing_met)       \n",
    "#37 vs. 52 missing metabolite--> duplication in e0/c0\n",
    "\n"
   ]
  },
  {
   "cell_type": "code",
   "execution_count": null,
   "metadata": {},
   "outputs": [],
   "source": [
    "both=set()      #because of duplicate ids c0 e0  \n",
    "for met in model.metabolites:\n",
    "    for mis in missing_essential_precursors:\n",
    "        if mis in met.annotation.values():\n",
    "            both.add(mis)\n",
    "            \n",
    "len(both)            \n",
    "print(both)            \n",
    "  \n",
    "#no missing essential precursors"
   ]
  },
  {
   "cell_type": "markdown",
   "metadata": {},
   "source": [
    "### Blocked biomass precursors"
   ]
  },
  {
   "cell_type": "code",
   "execution_count": null,
   "metadata": {
    "scrolled": true
   },
   "outputs": [],
   "source": [
    "#blocked=find_blocked_biomass_precursors(model, model.reactions.bio1)\n",
    "\n",
    "blocked_bio=find_blocked_biomass_precursors(model.reactions.bio1, model)\n",
    "blocked_bio"
   ]
  },
  {
   "cell_type": "markdown",
   "metadata": {},
   "source": [
    "### Sum biomass weight"
   ]
  },
  {
   "cell_type": "code",
   "execution_count": null,
   "metadata": {},
   "outputs": [],
   "source": [
    "with model:\n",
    "    \n",
    "    for met in model.metabolites:\n",
    "        \n",
    "        met.formula=re.sub(\"(([R])\\d+)\", \"\", met.formula)\n",
    "        met.formula=re.sub(\"([R])\" , \"\", met.formula)\n",
    "        met.formula=re.sub(\"(MISSING)\" , \"\", met.formula)\n",
    "        \n",
    "    #sum_bio=sum_biomass_weight(model.reactions.bio1)\n",
    "    #sum_bio\n",
    "       \n",
    "            "
   ]
  },
  {
   "cell_type": "code",
   "execution_count": null,
   "metadata": {},
   "outputs": [],
   "source": [
    "sum_bio=sum_biomass_weight(model.reactions.bio1)\n",
    "sum_bio\n",
    "       "
   ]
  },
  {
   "cell_type": "markdown",
   "metadata": {},
   "source": [
    "### Growth associated maintenance"
   ]
  },
  {
   "cell_type": "code",
   "execution_count": null,
   "metadata": {},
   "outputs": [],
   "source": [
    "#growth-associated maintenance\n",
    "#True if the biomass reaction includes ATP and H2O as reactants and ADP,Pi and H as products, False otherwise.\n",
    "gam=gam_in_biomass(model, model.reactions.bio1)\n",
    "gam\n",
    "model.reactions.bio1.reaction\n",
    "#What does it check(id?)?\n",
    "\n",
    "model.metabolites.MNXM2214_c0\n",
    "model.metabolites.MNXM5258_c0\n",
    "model.metabolites.MNXM90619_c0\n",
    "\n"
   ]
  },
  {
   "cell_type": "markdown",
   "metadata": {},
   "source": [
    "### False positive direct metabolites"
   ]
  },
  {
   "cell_type": "markdown",
   "metadata": {},
   "source": [
    "### Bundle biomass components"
   ]
  },
  {
   "cell_type": "code",
   "execution_count": null,
   "metadata": {},
   "outputs": [],
   "source": [
    "bundle=bundle_biomass_components(model, model.reactions.bio1)\n",
    "bundle"
   ]
  },
  {
   "cell_type": "markdown",
   "metadata": {},
   "source": [
    "### Find direct metabolites"
   ]
  },
  {
   "cell_type": "code",
   "execution_count": 4,
   "metadata": {},
   "outputs": [
    {
     "data": {
      "text/plain": [
       "'C21H33N5O9P2'"
      ]
     },
     "execution_count": 4,
     "metadata": {},
     "output_type": "execute_result"
    },
    {
     "data": {
      "text/plain": [
       "'C10H16N2NO2O6S'"
      ]
     },
     "execution_count": 4,
     "metadata": {},
     "output_type": "execute_result"
    },
    {
     "data": {
      "text/plain": [
       "[<Metabolite MNXM81014_c0 at 0x1153ac160>,\n",
       " <Metabolite MNXM51417_c0 at 0x115156470>,\n",
       " <Metabolite MG+2_c0 at 0x1154c4550>,\n",
       " <Metabolite MN+2_c0 at 0x1156208d0>,\n",
       " <Metabolite CU+2_c0 at 0x11527b9b0>,\n",
       " <Metabolite ZN+2_c0 at 0x115393a58>,\n",
       " <Metabolite K+_c0 at 0x1155c6c18>,\n",
       " <Metabolite MNXM78334_c0 at 0x115450da0>,\n",
       " <Metabolite CA+2_c0 at 0x115620f28>]"
      ]
     },
     "execution_count": 4,
     "metadata": {},
     "output_type": "execute_result"
    },
    {
     "data": {
      "text/plain": [
       "0.9190716038475946"
      ]
     },
     "execution_count": 4,
     "metadata": {},
     "output_type": "execute_result"
    }
   ],
   "source": [
    "\n",
    "with model: \n",
    "    #for met in model.metabolites:\n",
    "     #   if \"(\" in met.formula:\n",
    "      #      print(met.formula, met.id)\n",
    "            \n",
    "  \n",
    "    model.metabolites.MNXM8231_c0.formula=\"C21H33N5O9P2\"\n",
    "   \n",
    "    model.metabolites.get_by_id(\"DNA-6-O-Methyl-Guanines_c0\").formula=\"C10H16N2NO2O6S\"\n",
    "    model.metabolites.MNXM8231_c0.formula\n",
    "    model.metabolites.get_by_id(\"DNA-6-O-Methyl-Guanines_c0\").formula\n",
    "    direct_met=find_direct_metabolites(model, model.reactions.bio1, tolerance=1e-06)\n",
    "    \n",
    "    direct_met\n",
    "   \n",
    "   #     met.formula=re.sub(\"(([R])\\d+)\", \"\", met.formula)\n",
    "   #     met.formula=re.sub(\"(([R]))\" , \"\", met.formula)\n",
    "   #     met.formula=re.sub(\"(MISSING)\" , \"\", met.formula)\n",
    "        \n",
    "    sum_bio=sum_biomass_weight(model.reactions.bio1)\n",
    "    sum_bio\n",
    "    "
   ]
  },
  {
   "cell_type": "markdown",
   "metadata": {},
   "source": [
    "### Stoichiometric consistency"
   ]
  },
  {
   "cell_type": "code",
   "execution_count": null,
   "metadata": {},
   "outputs": [],
   "source": [
    "stoich=check_stoichiometric_consistency(model)\n",
    "stoich"
   ]
  },
  {
   "cell_type": "markdown",
   "metadata": {},
   "source": [
    "### Memote repair"
   ]
  },
  {
   "cell_type": "markdown",
   "metadata": {},
   "source": [
    "from memote import test_model"
   ]
  },
  {
   "cell_type": "code",
   "execution_count": null,
   "metadata": {},
   "outputs": [],
   "source": [
    "#_, result = test_model(model, results=True)"
   ]
  },
  {
   "cell_type": "code",
   "execution_count": null,
   "metadata": {},
   "outputs": [],
   "source": [
    "#result"
   ]
  },
  {
   "cell_type": "markdown",
   "metadata": {},
   "source": [
    "### Reset the exchange fluxes to zero"
   ]
  },
  {
   "cell_type": "markdown",
   "metadata": {},
   "source": [
    "Change the exchange fluxes to zero. Then add the ones that are necessary for minimal media. (What if there is no media that we want? How does the media work ? Where does it show? \n",
    "Create a dictionary where there is a readable format for the medium. Is there an annotation field for medium? "
   ]
  },
  {
   "cell_type": "code",
   "execution_count": null,
   "metadata": {
    "scrolled": false
   },
   "outputs": [],
   "source": [
    "#model.reactions.EX_cpd00009_e0.bounds = (0,1000)\n",
    "\n",
    "    \n",
    "with model:\n",
    "    \n",
    "    for reac in model.reactions:\n",
    "        if reac.id.startswith(\"EX\") or  [\"MNXR137716_c0\", 'MNXR137717_c0', 'MNXR137715_c0']:\n",
    "            reac.bounds=(0,0)\n",
    "        \n",
    "    model.medium \n",
    "    model.reactions.EX_cpd00012_e0.bounds = (-1000,1000) #ppi\n",
    "    model.reactions.EX_cpd00009_e0.bounds = (-1000,1000) #pi\n",
    "    model.reactions.EX_cpd00209_e0.bounds = (-1000,1000) #NO3\n",
    "    model.reactions.EX_cpd00075_e0.bounds = (-1000,1000) #NO2\n",
    "    model.reactions.EX_cpd00013_e0.bounds = (-1000,1000) #NH4\n",
    "    model.reactions.EX_cpd00048_e0.bounds = (-1000,1000) #SO4\n",
    "    model.reactions.EX_cpd00027_e0.bounds = (-1000,1000) #D-glucose\n",
    "    model.reactions.EX_cpd00971_e0.bounds = (-1000,1000) #Na+\n",
    "    model.reactions.EX_cpd00076_e0.bounds = (-1000,1000) #Sucrose\n",
    "    model.reactions.EX_cpd00080_e0.bounds = (-1000,1000) #D-Glycerol 1-phosphate\n",
    "    model.reactions.EX_cpd00001_e0.bounds = (-1000,1000) #H2O\n",
    "    model.reactions.EX_cpd00011_e0.bounds = (-1000,1000) #CO2\n",
    "    model.reactions.EX_cpd00067_e0.bounds = (-1000,1000) #H+\n",
    "    model.reactions.EX_cpd00063_e0.bounds = (-1000,1000) #Ca2+\n",
    "    model.reactions.EX_cpd00099_e0.bounds = (-1000,1000) #Cl-\n",
    "    model.reactions.EX_cpd00205_e0.bounds = (-1000,1000) #K+\n",
    "    model.reactions.EX_cpd00254_e0.bounds = (-1000,1000) #Mg2+\n",
    "    model.reactions.EX_cpd00030_e0.bounds = (-1000,1000) #Mn2+\n",
    "    model.reactions.EX_cpd00007_e0.bounds = (-1000,1000) #O2\n",
    "    model.reactions.MNXR137716_c0.bounds = (-1000,1000) #\n",
    "    model.reactions.MNXR137715_c0.bounds = (-1000,1000) #\n",
    "    model.reactions.MNXR137717_c0.bounds = (-1000,1000) #\n",
    "    model.reactions.EX_cpd00058_e0.bounds = (-1000,1000) #Cu2+\n",
    "    model.reactions.EX_cpd10515_e0.bounds = (-1000,1000) #Fe2+\n",
    "    model.reactions.EX_cpd10516_e0.bounds = (-1000,1000) #Fe2+\n",
    "    model.reactions.EX_cpd00034_e0.bounds = (-1000,1000) #Fe2+\n",
    "    \n",
    "    model.reactions.EX_cpd00035_e0.bounds = (-1000,1000) #Fe2+\n",
    "    model.reactions.EX_cpd00039_e0.bounds = (-1000,1000) #Fe2+\n",
    "    model.reactions.EX_cpd00041_e0.bounds = (-1000,1000) #Fe2+\n",
    "    model.reactions.EX_cpd11580_e0.bounds = (-1000,1000) #Fe2+\n",
    "    model.reactions.EX_cpd00023_e0.bounds = (-1000,1000) #Fe2\n",
    "    model.slim_optimize()\n",
    "    \n",
    "\n",
    "    model.medium\n",
    "    #model.optimize()\n",
    "    \n",
    "    model.reactions.MNXR137715_c0"
   ]
  },
  {
   "cell_type": "markdown",
   "metadata": {},
   "source": [
    "### Existing media and their description to dict"
   ]
  },
  {
   "cell_type": "code",
   "execution_count": null,
   "metadata": {},
   "outputs": [],
   "source": [
    "chem_xref = read_csv(\"/Users/lizrad/Documents/Vibrio_folder/chem_xref.tsv\" , sep='\\t' , low_memory=False)\n",
    "chem_xref\n",
    "#499091 530559\n",
    "\n",
    "df_seed = chem_xref.loc[499088:530556,'XREF':'Description']\n",
    "pivoted_seed = df_seed.pivot_table(index='XREF',columns='XREF_ID',values='Description',aggfunc = lambda x: x)\n",
    "\n",
    "#pivoted_seedd=pivoted_seed.drop(['metanetx'])\n",
    "pivoted_seed\n",
    "chem_xref_MNX_seed_dict = pivoted_seed.to_dict('index')\n",
    "chem_xref_MNX_seed_dict2 = chem_xref_MNX_seed_dict['seed']\n",
    "print(chem_xref_MNX_seed_dict2)\n"
   ]
  },
  {
   "cell_type": "code",
   "execution_count": null,
   "metadata": {},
   "outputs": [],
   "source": [
    "#MNXR137716_c0','MNXR137717_c0','MNXR137715_c0' dont have seed IDs\n",
    "medium_dict={}\n",
    "for med in model.medium:\n",
    "    if med.startswith(\"MNXR\"):\n",
    "        continue\n",
    "    pre, seed, compartment=med.split(\"_\")\n",
    "    print(seed)\n",
    "    for k in chem_xref_MNX_seed_dict2.keys():\n",
    "        if seed in k: \n",
    "            print (chem_xref_MNX_seed_dict2[k])\n",
    "            medium_dict[pre+\"_\"+seed+\"_\"+compartment]=chem_xref_MNX_seed_dict2[k]\n",
    "            \n",
    "print(medium_dict)"
   ]
  },
  {
   "cell_type": "code",
   "execution_count": null,
   "metadata": {},
   "outputs": [],
   "source": [
    "#check every combinations of mediums :(  \n",
    "#for L in range(0, len(model.medium)+1):\n",
    "#    for subset in itertools.combinations(model.medium, L):\n",
    "#        print(subset)"
   ]
  },
  {
   "cell_type": "markdown",
   "metadata": {},
   "source": [
    "From KBase download medium in tsv. Try LB(Lysogeny Broth) and minimal nms(nitrate minimal salts medium). With Edit Media Application in KBase one can modify the existing medium) \n",
    "\n",
    "Result: No growth (neither).\n",
    "Check for blocked precursors: both blocked with 76 metabolites. \n"
   ]
  },
  {
   "cell_type": "code",
   "execution_count": 5,
   "metadata": {},
   "outputs": [
    {
     "data": {
      "text/html": [
       "<div>\n",
       "<style scoped>\n",
       "    .dataframe tbody tr th:only-of-type {\n",
       "        vertical-align: middle;\n",
       "    }\n",
       "\n",
       "    .dataframe tbody tr th {\n",
       "        vertical-align: top;\n",
       "    }\n",
       "\n",
       "    .dataframe thead th {\n",
       "        text-align: right;\n",
       "    }\n",
       "</style>\n",
       "<table border=\"1\" class=\"dataframe\">\n",
       "  <thead>\n",
       "    <tr style=\"text-align: right;\">\n",
       "      <th></th>\n",
       "      <th>compounds</th>\n",
       "      <th>name</th>\n",
       "      <th>formula</th>\n",
       "      <th>minFlux</th>\n",
       "      <th>maxFlux</th>\n",
       "      <th>concentration</th>\n",
       "    </tr>\n",
       "  </thead>\n",
       "  <tbody>\n",
       "    <tr>\n",
       "      <th>0</th>\n",
       "      <td>cpd00001</td>\n",
       "      <td>H2O</td>\n",
       "      <td>H2O</td>\n",
       "      <td>-100</td>\n",
       "      <td>100</td>\n",
       "      <td>0.001</td>\n",
       "    </tr>\n",
       "    <tr>\n",
       "      <th>1</th>\n",
       "      <td>cpd00007</td>\n",
       "      <td>O2</td>\n",
       "      <td>O2</td>\n",
       "      <td>-100</td>\n",
       "      <td>100</td>\n",
       "      <td>0.001</td>\n",
       "    </tr>\n",
       "    <tr>\n",
       "      <th>2</th>\n",
       "      <td>cpd00009</td>\n",
       "      <td>Phosphate</td>\n",
       "      <td>HO4P</td>\n",
       "      <td>-100</td>\n",
       "      <td>100</td>\n",
       "      <td>0.001</td>\n",
       "    </tr>\n",
       "    <tr>\n",
       "      <th>3</th>\n",
       "      <td>cpd00018</td>\n",
       "      <td>AMP</td>\n",
       "      <td>C10H13N5O7P</td>\n",
       "      <td>-100</td>\n",
       "      <td>100</td>\n",
       "      <td>0.001</td>\n",
       "    </tr>\n",
       "    <tr>\n",
       "      <th>4</th>\n",
       "      <td>cpd00023</td>\n",
       "      <td>L-Glutamate</td>\n",
       "      <td>C5H8NO4</td>\n",
       "      <td>-100</td>\n",
       "      <td>100</td>\n",
       "      <td>0.001</td>\n",
       "    </tr>\n",
       "    <tr>\n",
       "      <th>5</th>\n",
       "      <td>cpd00027</td>\n",
       "      <td>D-Glucose</td>\n",
       "      <td>C6H12O6</td>\n",
       "      <td>-100</td>\n",
       "      <td>100</td>\n",
       "      <td>0.001</td>\n",
       "    </tr>\n",
       "    <tr>\n",
       "      <th>6</th>\n",
       "      <td>cpd00028</td>\n",
       "      <td>Heme</td>\n",
       "      <td>C34H30FeN4O4</td>\n",
       "      <td>-100</td>\n",
       "      <td>100</td>\n",
       "      <td>0.001</td>\n",
       "    </tr>\n",
       "    <tr>\n",
       "      <th>7</th>\n",
       "      <td>cpd00030</td>\n",
       "      <td>Mn2+</td>\n",
       "      <td>Mn</td>\n",
       "      <td>-100</td>\n",
       "      <td>100</td>\n",
       "      <td>0.001</td>\n",
       "    </tr>\n",
       "    <tr>\n",
       "      <th>8</th>\n",
       "      <td>cpd00033</td>\n",
       "      <td>Glycine</td>\n",
       "      <td>C2H5NO2</td>\n",
       "      <td>-100</td>\n",
       "      <td>100</td>\n",
       "      <td>0.001</td>\n",
       "    </tr>\n",
       "    <tr>\n",
       "      <th>9</th>\n",
       "      <td>cpd00034</td>\n",
       "      <td>Zn2+</td>\n",
       "      <td>Zn</td>\n",
       "      <td>-100</td>\n",
       "      <td>100</td>\n",
       "      <td>0.001</td>\n",
       "    </tr>\n",
       "    <tr>\n",
       "      <th>10</th>\n",
       "      <td>cpd00035</td>\n",
       "      <td>L-Alanine</td>\n",
       "      <td>C3H7NO2</td>\n",
       "      <td>-100</td>\n",
       "      <td>100</td>\n",
       "      <td>0.001</td>\n",
       "    </tr>\n",
       "    <tr>\n",
       "      <th>11</th>\n",
       "      <td>cpd00039</td>\n",
       "      <td>L-Lysine</td>\n",
       "      <td>C6H15N2O2</td>\n",
       "      <td>-100</td>\n",
       "      <td>100</td>\n",
       "      <td>0.001</td>\n",
       "    </tr>\n",
       "    <tr>\n",
       "      <th>12</th>\n",
       "      <td>cpd00041</td>\n",
       "      <td>L-Aspartate</td>\n",
       "      <td>C4H6NO4</td>\n",
       "      <td>-100</td>\n",
       "      <td>100</td>\n",
       "      <td>0.001</td>\n",
       "    </tr>\n",
       "    <tr>\n",
       "      <th>13</th>\n",
       "      <td>cpd00046</td>\n",
       "      <td>CMP</td>\n",
       "      <td>C9H13N3O8P</td>\n",
       "      <td>-100</td>\n",
       "      <td>100</td>\n",
       "      <td>0.001</td>\n",
       "    </tr>\n",
       "    <tr>\n",
       "      <th>14</th>\n",
       "      <td>cpd00048</td>\n",
       "      <td>Sulfate</td>\n",
       "      <td>O4S</td>\n",
       "      <td>-100</td>\n",
       "      <td>100</td>\n",
       "      <td>0.001</td>\n",
       "    </tr>\n",
       "    <tr>\n",
       "      <th>15</th>\n",
       "      <td>cpd00051</td>\n",
       "      <td>L-Arginine</td>\n",
       "      <td>C6H15N4O2</td>\n",
       "      <td>-100</td>\n",
       "      <td>100</td>\n",
       "      <td>0.001</td>\n",
       "    </tr>\n",
       "    <tr>\n",
       "      <th>16</th>\n",
       "      <td>cpd00054</td>\n",
       "      <td>L-Serine</td>\n",
       "      <td>C3H7NO3</td>\n",
       "      <td>-100</td>\n",
       "      <td>100</td>\n",
       "      <td>0.001</td>\n",
       "    </tr>\n",
       "    <tr>\n",
       "      <th>17</th>\n",
       "      <td>cpd00058</td>\n",
       "      <td>Cu2+</td>\n",
       "      <td>Cu</td>\n",
       "      <td>-100</td>\n",
       "      <td>100</td>\n",
       "      <td>0.001</td>\n",
       "    </tr>\n",
       "    <tr>\n",
       "      <th>18</th>\n",
       "      <td>cpd00060</td>\n",
       "      <td>L-Methionine</td>\n",
       "      <td>C5H11NO2S</td>\n",
       "      <td>-100</td>\n",
       "      <td>100</td>\n",
       "      <td>0.001</td>\n",
       "    </tr>\n",
       "    <tr>\n",
       "      <th>19</th>\n",
       "      <td>cpd00063</td>\n",
       "      <td>Ca2+</td>\n",
       "      <td>Ca</td>\n",
       "      <td>-100</td>\n",
       "      <td>100</td>\n",
       "      <td>0.001</td>\n",
       "    </tr>\n",
       "    <tr>\n",
       "      <th>20</th>\n",
       "      <td>cpd00065</td>\n",
       "      <td>L-Tryptophan</td>\n",
       "      <td>C11H12N2O2</td>\n",
       "      <td>-100</td>\n",
       "      <td>100</td>\n",
       "      <td>0.001</td>\n",
       "    </tr>\n",
       "    <tr>\n",
       "      <th>21</th>\n",
       "      <td>cpd00066</td>\n",
       "      <td>L-Phenylalanine</td>\n",
       "      <td>C9H11NO2</td>\n",
       "      <td>-100</td>\n",
       "      <td>100</td>\n",
       "      <td>0.001</td>\n",
       "    </tr>\n",
       "    <tr>\n",
       "      <th>22</th>\n",
       "      <td>cpd00067</td>\n",
       "      <td>H+</td>\n",
       "      <td>H</td>\n",
       "      <td>-100</td>\n",
       "      <td>100</td>\n",
       "      <td>0.001</td>\n",
       "    </tr>\n",
       "    <tr>\n",
       "      <th>23</th>\n",
       "      <td>cpd00069</td>\n",
       "      <td>L-Tyrosine</td>\n",
       "      <td>C9H11NO3</td>\n",
       "      <td>-100</td>\n",
       "      <td>100</td>\n",
       "      <td>0.001</td>\n",
       "    </tr>\n",
       "    <tr>\n",
       "      <th>24</th>\n",
       "      <td>cpd00084</td>\n",
       "      <td>L-Cysteine</td>\n",
       "      <td>C3H7NO2S</td>\n",
       "      <td>-100</td>\n",
       "      <td>100</td>\n",
       "      <td>0.001</td>\n",
       "    </tr>\n",
       "    <tr>\n",
       "      <th>25</th>\n",
       "      <td>cpd00091</td>\n",
       "      <td>UMP</td>\n",
       "      <td>C9H12N2O9P</td>\n",
       "      <td>-100</td>\n",
       "      <td>100</td>\n",
       "      <td>0.001</td>\n",
       "    </tr>\n",
       "    <tr>\n",
       "      <th>26</th>\n",
       "      <td>cpd00092</td>\n",
       "      <td>Uracil</td>\n",
       "      <td>C4H4N2O2</td>\n",
       "      <td>-100</td>\n",
       "      <td>100</td>\n",
       "      <td>0.001</td>\n",
       "    </tr>\n",
       "    <tr>\n",
       "      <th>27</th>\n",
       "      <td>cpd00099</td>\n",
       "      <td>Cl-</td>\n",
       "      <td>Cl</td>\n",
       "      <td>-100</td>\n",
       "      <td>100</td>\n",
       "      <td>0.001</td>\n",
       "    </tr>\n",
       "    <tr>\n",
       "      <th>28</th>\n",
       "      <td>cpd00107</td>\n",
       "      <td>L-Leucine</td>\n",
       "      <td>C6H13NO2</td>\n",
       "      <td>-100</td>\n",
       "      <td>100</td>\n",
       "      <td>0.001</td>\n",
       "    </tr>\n",
       "    <tr>\n",
       "      <th>29</th>\n",
       "      <td>cpd00119</td>\n",
       "      <td>L-Histidine</td>\n",
       "      <td>C6H9N3O2</td>\n",
       "      <td>-100</td>\n",
       "      <td>100</td>\n",
       "      <td>0.001</td>\n",
       "    </tr>\n",
       "    <tr>\n",
       "      <th>...</th>\n",
       "      <td>...</td>\n",
       "      <td>...</td>\n",
       "      <td>...</td>\n",
       "      <td>...</td>\n",
       "      <td>...</td>\n",
       "      <td>...</td>\n",
       "    </tr>\n",
       "    <tr>\n",
       "      <th>35</th>\n",
       "      <td>cpd00182</td>\n",
       "      <td>Adenosine</td>\n",
       "      <td>C10H13N5O4</td>\n",
       "      <td>-100</td>\n",
       "      <td>100</td>\n",
       "      <td>0.001</td>\n",
       "    </tr>\n",
       "    <tr>\n",
       "      <th>36</th>\n",
       "      <td>cpd00184</td>\n",
       "      <td>Thymidine</td>\n",
       "      <td>C10H14N2O5</td>\n",
       "      <td>-100</td>\n",
       "      <td>100</td>\n",
       "      <td>0.001</td>\n",
       "    </tr>\n",
       "    <tr>\n",
       "      <th>37</th>\n",
       "      <td>cpd00205</td>\n",
       "      <td>K+</td>\n",
       "      <td>K</td>\n",
       "      <td>-100</td>\n",
       "      <td>100</td>\n",
       "      <td>0.001</td>\n",
       "    </tr>\n",
       "    <tr>\n",
       "      <th>38</th>\n",
       "      <td>cpd00215</td>\n",
       "      <td>Pyridoxal</td>\n",
       "      <td>C8H9NO3</td>\n",
       "      <td>-100</td>\n",
       "      <td>100</td>\n",
       "      <td>0.001</td>\n",
       "    </tr>\n",
       "    <tr>\n",
       "      <th>39</th>\n",
       "      <td>cpd00218</td>\n",
       "      <td>Niacin</td>\n",
       "      <td>C6H4NO2</td>\n",
       "      <td>-100</td>\n",
       "      <td>100</td>\n",
       "      <td>0.001</td>\n",
       "    </tr>\n",
       "    <tr>\n",
       "      <th>40</th>\n",
       "      <td>cpd00219</td>\n",
       "      <td>Prephenate</td>\n",
       "      <td>C10H8O6</td>\n",
       "      <td>-100</td>\n",
       "      <td>100</td>\n",
       "      <td>0.001</td>\n",
       "    </tr>\n",
       "    <tr>\n",
       "      <th>41</th>\n",
       "      <td>cpd00220</td>\n",
       "      <td>Riboflavin</td>\n",
       "      <td>C17H20N4O6</td>\n",
       "      <td>-100</td>\n",
       "      <td>100</td>\n",
       "      <td>0.001</td>\n",
       "    </tr>\n",
       "    <tr>\n",
       "      <th>42</th>\n",
       "      <td>cpd00226</td>\n",
       "      <td>HYXN</td>\n",
       "      <td>C5H4N4O</td>\n",
       "      <td>-100</td>\n",
       "      <td>100</td>\n",
       "      <td>0.001</td>\n",
       "    </tr>\n",
       "    <tr>\n",
       "      <th>43</th>\n",
       "      <td>cpd00239</td>\n",
       "      <td>H2S</td>\n",
       "      <td>H2S</td>\n",
       "      <td>-100</td>\n",
       "      <td>100</td>\n",
       "      <td>0.001</td>\n",
       "    </tr>\n",
       "    <tr>\n",
       "      <th>44</th>\n",
       "      <td>cpd00246</td>\n",
       "      <td>Inosine</td>\n",
       "      <td>C10H12N4O5</td>\n",
       "      <td>-100</td>\n",
       "      <td>100</td>\n",
       "      <td>0.001</td>\n",
       "    </tr>\n",
       "    <tr>\n",
       "      <th>45</th>\n",
       "      <td>cpd00249</td>\n",
       "      <td>Uridine</td>\n",
       "      <td>C9H12N2O6</td>\n",
       "      <td>-100</td>\n",
       "      <td>100</td>\n",
       "      <td>0.001</td>\n",
       "    </tr>\n",
       "    <tr>\n",
       "      <th>46</th>\n",
       "      <td>cpd00254</td>\n",
       "      <td>Mg</td>\n",
       "      <td>Mg</td>\n",
       "      <td>-100</td>\n",
       "      <td>100</td>\n",
       "      <td>0.001</td>\n",
       "    </tr>\n",
       "    <tr>\n",
       "      <th>47</th>\n",
       "      <td>cpd00311</td>\n",
       "      <td>Guanosine</td>\n",
       "      <td>C10H13N5O5</td>\n",
       "      <td>-100</td>\n",
       "      <td>100</td>\n",
       "      <td>0.001</td>\n",
       "    </tr>\n",
       "    <tr>\n",
       "      <th>48</th>\n",
       "      <td>cpd00322</td>\n",
       "      <td>L-Isoleucine</td>\n",
       "      <td>C6H13NO2</td>\n",
       "      <td>-100</td>\n",
       "      <td>100</td>\n",
       "      <td>0.001</td>\n",
       "    </tr>\n",
       "    <tr>\n",
       "      <th>49</th>\n",
       "      <td>cpd00381</td>\n",
       "      <td>L-Cystine</td>\n",
       "      <td>C6H12N2O4S2</td>\n",
       "      <td>-100</td>\n",
       "      <td>100</td>\n",
       "      <td>0.001</td>\n",
       "    </tr>\n",
       "    <tr>\n",
       "      <th>50</th>\n",
       "      <td>cpd00383</td>\n",
       "      <td>Shikimate</td>\n",
       "      <td>C7H9O5</td>\n",
       "      <td>-100</td>\n",
       "      <td>100</td>\n",
       "      <td>0.001</td>\n",
       "    </tr>\n",
       "    <tr>\n",
       "      <th>51</th>\n",
       "      <td>cpd00393</td>\n",
       "      <td>Folate</td>\n",
       "      <td>C19H17N7O6</td>\n",
       "      <td>-100</td>\n",
       "      <td>100</td>\n",
       "      <td>0.001</td>\n",
       "    </tr>\n",
       "    <tr>\n",
       "      <th>52</th>\n",
       "      <td>cpd00438</td>\n",
       "      <td>Deoxyadenosine</td>\n",
       "      <td>C10H13N5O3</td>\n",
       "      <td>-100</td>\n",
       "      <td>100</td>\n",
       "      <td>0.001</td>\n",
       "    </tr>\n",
       "    <tr>\n",
       "      <th>53</th>\n",
       "      <td>cpd00531</td>\n",
       "      <td>Hg2+</td>\n",
       "      <td>Hg</td>\n",
       "      <td>-100</td>\n",
       "      <td>100</td>\n",
       "      <td>0.001</td>\n",
       "    </tr>\n",
       "    <tr>\n",
       "      <th>54</th>\n",
       "      <td>cpd00541</td>\n",
       "      <td>Lipoate</td>\n",
       "      <td>C8H13O2S2</td>\n",
       "      <td>-100</td>\n",
       "      <td>100</td>\n",
       "      <td>0.001</td>\n",
       "    </tr>\n",
       "    <tr>\n",
       "      <th>55</th>\n",
       "      <td>cpd00644</td>\n",
       "      <td>PAN</td>\n",
       "      <td>C9H16NO5</td>\n",
       "      <td>-100</td>\n",
       "      <td>100</td>\n",
       "      <td>0.001</td>\n",
       "    </tr>\n",
       "    <tr>\n",
       "      <th>56</th>\n",
       "      <td>cpd00654</td>\n",
       "      <td>Deoxycytidine</td>\n",
       "      <td>C9H13N3O4</td>\n",
       "      <td>-100</td>\n",
       "      <td>100</td>\n",
       "      <td>0.001</td>\n",
       "    </tr>\n",
       "    <tr>\n",
       "      <th>57</th>\n",
       "      <td>cpd00793</td>\n",
       "      <td>Thiamine phosphate</td>\n",
       "      <td>C12H17N4O4PS</td>\n",
       "      <td>-100</td>\n",
       "      <td>100</td>\n",
       "      <td>0.001</td>\n",
       "    </tr>\n",
       "    <tr>\n",
       "      <th>58</th>\n",
       "      <td>cpd00971</td>\n",
       "      <td>Na+</td>\n",
       "      <td>Na</td>\n",
       "      <td>-100</td>\n",
       "      <td>100</td>\n",
       "      <td>0.001</td>\n",
       "    </tr>\n",
       "    <tr>\n",
       "      <th>59</th>\n",
       "      <td>cpd01012</td>\n",
       "      <td>Cd2+</td>\n",
       "      <td>Cd</td>\n",
       "      <td>-100</td>\n",
       "      <td>100</td>\n",
       "      <td>0.001</td>\n",
       "    </tr>\n",
       "    <tr>\n",
       "      <th>60</th>\n",
       "      <td>cpd01048</td>\n",
       "      <td>Arsenate</td>\n",
       "      <td>HO4As</td>\n",
       "      <td>-100</td>\n",
       "      <td>100</td>\n",
       "      <td>0.001</td>\n",
       "    </tr>\n",
       "    <tr>\n",
       "      <th>61</th>\n",
       "      <td>cpd03424</td>\n",
       "      <td>Vitamin B12</td>\n",
       "      <td>C61H86CoN13O14PR</td>\n",
       "      <td>-100</td>\n",
       "      <td>100</td>\n",
       "      <td>0.001</td>\n",
       "    </tr>\n",
       "    <tr>\n",
       "      <th>62</th>\n",
       "      <td>cpd10515</td>\n",
       "      <td>Fe2+</td>\n",
       "      <td>Fe</td>\n",
       "      <td>-100</td>\n",
       "      <td>100</td>\n",
       "      <td>0.001</td>\n",
       "    </tr>\n",
       "    <tr>\n",
       "      <th>63</th>\n",
       "      <td>cpd10516</td>\n",
       "      <td>fe3</td>\n",
       "      <td>Fe</td>\n",
       "      <td>-100</td>\n",
       "      <td>100</td>\n",
       "      <td>0.001</td>\n",
       "    </tr>\n",
       "    <tr>\n",
       "      <th>64</th>\n",
       "      <td>cpd11595</td>\n",
       "      <td>chromate</td>\n",
       "      <td>H2O4Cr</td>\n",
       "      <td>-100</td>\n",
       "      <td>100</td>\n",
       "      <td>0.001</td>\n",
       "    </tr>\n",
       "  </tbody>\n",
       "</table>\n",
       "<p>65 rows × 6 columns</p>\n",
       "</div>"
      ],
      "text/plain": [
       "   compounds                name           formula  minFlux  maxFlux  \\\n",
       "0   cpd00001                 H2O               H2O     -100      100   \n",
       "1   cpd00007                  O2                O2     -100      100   \n",
       "2   cpd00009           Phosphate              HO4P     -100      100   \n",
       "3   cpd00018                 AMP       C10H13N5O7P     -100      100   \n",
       "4   cpd00023         L-Glutamate           C5H8NO4     -100      100   \n",
       "5   cpd00027           D-Glucose           C6H12O6     -100      100   \n",
       "6   cpd00028                Heme      C34H30FeN4O4     -100      100   \n",
       "7   cpd00030                Mn2+                Mn     -100      100   \n",
       "8   cpd00033             Glycine           C2H5NO2     -100      100   \n",
       "9   cpd00034                Zn2+                Zn     -100      100   \n",
       "10  cpd00035           L-Alanine           C3H7NO2     -100      100   \n",
       "11  cpd00039            L-Lysine         C6H15N2O2     -100      100   \n",
       "12  cpd00041         L-Aspartate           C4H6NO4     -100      100   \n",
       "13  cpd00046                 CMP        C9H13N3O8P     -100      100   \n",
       "14  cpd00048             Sulfate               O4S     -100      100   \n",
       "15  cpd00051          L-Arginine         C6H15N4O2     -100      100   \n",
       "16  cpd00054            L-Serine           C3H7NO3     -100      100   \n",
       "17  cpd00058                Cu2+                Cu     -100      100   \n",
       "18  cpd00060        L-Methionine         C5H11NO2S     -100      100   \n",
       "19  cpd00063                Ca2+                Ca     -100      100   \n",
       "20  cpd00065        L-Tryptophan        C11H12N2O2     -100      100   \n",
       "21  cpd00066     L-Phenylalanine          C9H11NO2     -100      100   \n",
       "22  cpd00067                  H+                 H     -100      100   \n",
       "23  cpd00069          L-Tyrosine          C9H11NO3     -100      100   \n",
       "24  cpd00084          L-Cysteine          C3H7NO2S     -100      100   \n",
       "25  cpd00091                 UMP        C9H12N2O9P     -100      100   \n",
       "26  cpd00092              Uracil          C4H4N2O2     -100      100   \n",
       "27  cpd00099                 Cl-                Cl     -100      100   \n",
       "28  cpd00107           L-Leucine          C6H13NO2     -100      100   \n",
       "29  cpd00119         L-Histidine          C6H9N3O2     -100      100   \n",
       "..       ...                 ...               ...      ...      ...   \n",
       "35  cpd00182           Adenosine        C10H13N5O4     -100      100   \n",
       "36  cpd00184           Thymidine        C10H14N2O5     -100      100   \n",
       "37  cpd00205                  K+                 K     -100      100   \n",
       "38  cpd00215           Pyridoxal           C8H9NO3     -100      100   \n",
       "39  cpd00218              Niacin           C6H4NO2     -100      100   \n",
       "40  cpd00219          Prephenate           C10H8O6     -100      100   \n",
       "41  cpd00220          Riboflavin        C17H20N4O6     -100      100   \n",
       "42  cpd00226                HYXN           C5H4N4O     -100      100   \n",
       "43  cpd00239                 H2S               H2S     -100      100   \n",
       "44  cpd00246             Inosine        C10H12N4O5     -100      100   \n",
       "45  cpd00249             Uridine         C9H12N2O6     -100      100   \n",
       "46  cpd00254                  Mg                Mg     -100      100   \n",
       "47  cpd00311           Guanosine        C10H13N5O5     -100      100   \n",
       "48  cpd00322        L-Isoleucine          C6H13NO2     -100      100   \n",
       "49  cpd00381           L-Cystine       C6H12N2O4S2     -100      100   \n",
       "50  cpd00383           Shikimate            C7H9O5     -100      100   \n",
       "51  cpd00393              Folate        C19H17N7O6     -100      100   \n",
       "52  cpd00438      Deoxyadenosine        C10H13N5O3     -100      100   \n",
       "53  cpd00531                Hg2+                Hg     -100      100   \n",
       "54  cpd00541             Lipoate         C8H13O2S2     -100      100   \n",
       "55  cpd00644                 PAN          C9H16NO5     -100      100   \n",
       "56  cpd00654       Deoxycytidine         C9H13N3O4     -100      100   \n",
       "57  cpd00793  Thiamine phosphate      C12H17N4O4PS     -100      100   \n",
       "58  cpd00971                 Na+                Na     -100      100   \n",
       "59  cpd01012                Cd2+                Cd     -100      100   \n",
       "60  cpd01048            Arsenate             HO4As     -100      100   \n",
       "61  cpd03424         Vitamin B12  C61H86CoN13O14PR     -100      100   \n",
       "62  cpd10515                Fe2+                Fe     -100      100   \n",
       "63  cpd10516                 fe3                Fe     -100      100   \n",
       "64  cpd11595            chromate            H2O4Cr     -100      100   \n",
       "\n",
       "    concentration  \n",
       "0           0.001  \n",
       "1           0.001  \n",
       "2           0.001  \n",
       "3           0.001  \n",
       "4           0.001  \n",
       "5           0.001  \n",
       "6           0.001  \n",
       "7           0.001  \n",
       "8           0.001  \n",
       "9           0.001  \n",
       "10          0.001  \n",
       "11          0.001  \n",
       "12          0.001  \n",
       "13          0.001  \n",
       "14          0.001  \n",
       "15          0.001  \n",
       "16          0.001  \n",
       "17          0.001  \n",
       "18          0.001  \n",
       "19          0.001  \n",
       "20          0.001  \n",
       "21          0.001  \n",
       "22          0.001  \n",
       "23          0.001  \n",
       "24          0.001  \n",
       "25          0.001  \n",
       "26          0.001  \n",
       "27          0.001  \n",
       "28          0.001  \n",
       "29          0.001  \n",
       "..            ...  \n",
       "35          0.001  \n",
       "36          0.001  \n",
       "37          0.001  \n",
       "38          0.001  \n",
       "39          0.001  \n",
       "40          0.001  \n",
       "41          0.001  \n",
       "42          0.001  \n",
       "43          0.001  \n",
       "44          0.001  \n",
       "45          0.001  \n",
       "46          0.001  \n",
       "47          0.001  \n",
       "48          0.001  \n",
       "49          0.001  \n",
       "50          0.001  \n",
       "51          0.001  \n",
       "52          0.001  \n",
       "53          0.001  \n",
       "54          0.001  \n",
       "55          0.001  \n",
       "56          0.001  \n",
       "57          0.001  \n",
       "58          0.001  \n",
       "59          0.001  \n",
       "60          0.001  \n",
       "61          0.001  \n",
       "62          0.001  \n",
       "63          0.001  \n",
       "64          0.001  \n",
       "\n",
       "[65 rows x 6 columns]"
      ]
     },
     "execution_count": 5,
     "metadata": {},
     "output_type": "execute_result"
    },
    {
     "name": "stdout",
     "output_type": "stream",
     "text": [
      "PROTON_c0 cpd00067\n",
      "GLY_c0 cpd00033\n",
      "CPD-16459_c0 cpd00009\n",
      "HYPOXANTHINE_c0 cpd00226\n",
      "CPD-15815_c0 cpd00001\n",
      "L-ASPARTATE_c0 cpd00041\n",
      "MET_c0 cpd00060\n",
      "PROTON_e0 cpd00067\n",
      "ADENOSINE_e0 cpd00182\n",
      "ADENOSINE_c0 cpd00182\n",
      "SER_c0 cpd00054\n",
      "CMP_c0 cpd00046\n",
      "AMP_c0 cpd00018\n",
      "GLT_c0 cpd00023\n",
      "CYS_c0 cpd00084\n",
      "Glucopyranose_c0 cpd00027\n",
      "OXYGEN-MOLECULE_c0 cpd00007\n",
      "LYS_c0 cpd00039\n",
      "INOSINE_c0 cpd00246\n",
      "HSO4_c0 cpd00048\n",
      "DEOXYCYTIDINE_c0 cpd00654\n",
      "GUANOSINE_c0 cpd00311\n",
      "UMP_c0 cpd00091\n",
      "THIAMINE-P_c0 cpd00793\n",
      "URIDINE_c0 cpd00249\n",
      "URACIL_c0 cpd00092\n",
      "PHE_c0 cpd00066\n",
      "PRO_e0 cpd00129\n",
      "CPD0-2422_e0 cpd00971\n",
      "PRO_c0 cpd00129\n",
      "CPD0-2422_c0 cpd00971\n",
      "HIS_c0 cpd00119\n",
      "MNXM2646_c0 cpd01012\n",
      "MNXM2646_e0 cpd01012\n",
      "CPD-7046_c0 cpd00239\n",
      "SHIKIMATE_c0 cpd00383\n",
      "PREPHENATE_c0 cpd00219\n",
      "L-ALPHA-ALANINE_c0 cpd00035\n",
      "FE+2_c0 cpd10515\n",
      "FE+3_c0 cpd10516\n",
      "INOSINE_e0 cpd00246\n",
      "GMP_c0 cpd00126\n",
      "CPD-15815_e0 cpd00001\n",
      "GLT_e0 cpd00023\n",
      "CL-_c0 cpd00099\n",
      "CU+2_e0 cpd00058\n",
      "CU+2_c0 cpd00058\n",
      "ARG_c0 cpd00051\n",
      "RIBOFLAVIN_c0 cpd00220\n",
      "THR_c0 cpd00161\n",
      "LEU_e0 cpd00107\n",
      "LEU_c0 cpd00107\n",
      "THYMIDINE_e0 cpd00184\n",
      "THYMIDINE_c0 cpd00184\n",
      "ARG_e0 cpd00051\n",
      "FE+2_e0 cpd10515\n",
      "TYR_c0 cpd00069\n",
      "CPD-16459_e0 cpd00009\n",
      "MET_e0 cpd00060\n",
      "DEOXYADENOSINE_e0 cpd00438\n",
      "DEOXYADENOSINE_c0 cpd00438\n",
      "ILE_c0 cpd00322\n",
      "ZN+2_e0 cpd00034\n",
      "ZN+2_c0 cpd00034\n",
      "URIDINE_e0 cpd00249\n",
      "HIS_e0 cpd00119\n",
      "DEOXYCYTIDINE_e0 cpd00654\n",
      "ILE_e0 cpd00322\n",
      "LIPOIC-ACID_c0 cpd00541\n",
      "TRP_c0 cpd00065\n",
      "SER_e0 cpd00054\n",
      "PANTOTHENATE_e0 cpd00644\n",
      "PANTOTHENATE_c0 cpd00644\n",
      "VAL_c0 cpd00156\n",
      "MNXM78362_c0 cpd00028\n",
      "L-ASPARTATE_e0 cpd00041\n",
      "L-ALPHA-ALANINE_e0 cpd00035\n",
      "LYS_e0 cpd00039\n",
      "FE+3_e0 cpd10516\n",
      "NIACINE_c0 cpd00218\n",
      "MG+2_e0 cpd00254\n",
      "MG+2_c0 cpd00254\n",
      "CO+2_c0 cpd00149\n",
      "PYRIDOXAL_c0 cpd00215\n",
      "TRP_e0 cpd00065\n",
      "HSO4_e0 cpd00048\n",
      "CO+2_e0 cpd00149\n",
      "HG+2_c0 cpd00531\n",
      "HG+2_e0 cpd00531\n",
      "Glucopyranose_e0 cpd00027\n",
      "HYPOXANTHINE_e0 cpd00226\n",
      "TYR_e0 cpd00069\n",
      "CPD-12826_c0 cpd00393\n",
      "K+_c0 cpd00205\n",
      "K+_e0 cpd00205\n",
      "OXYGEN-MOLECULE_e0 cpd00007\n",
      "CPD-17105_e0 cpd03424\n",
      "CPD-17105_c0 cpd03424\n",
      "VAL_e0 cpd00156\n",
      "URACIL_e0 cpd00092\n",
      "MN+2_c0 cpd00030\n",
      "CA+2_c0 cpd00063\n",
      "CL-_e0 cpd00099\n",
      "CA+2_e0 cpd00063\n",
      "MN+2_e0 cpd00030\n"
     ]
    },
    {
     "data": {
      "text/plain": [
       "'EX_cpd00067_e0'"
      ]
     },
     "execution_count": 5,
     "metadata": {},
     "output_type": "execute_result"
    },
    {
     "data": {
      "text/plain": [
       "'EX_cpd00182_e0'"
      ]
     },
     "execution_count": 5,
     "metadata": {},
     "output_type": "execute_result"
    },
    {
     "data": {
      "text/plain": [
       "'EX_cpd00106_e0'"
      ]
     },
     "execution_count": 5,
     "metadata": {},
     "output_type": "execute_result"
    },
    {
     "data": {
      "text/plain": [
       "'EX_cpd00075_e0'"
      ]
     },
     "execution_count": 5,
     "metadata": {},
     "output_type": "execute_result"
    },
    {
     "data": {
      "text/plain": [
       "'EX_cpd00064_e0'"
      ]
     },
     "execution_count": 5,
     "metadata": {},
     "output_type": "execute_result"
    },
    {
     "data": {
      "text/plain": [
       "'EX_cpd08636_c0'"
      ]
     },
     "execution_count": 5,
     "metadata": {},
     "output_type": "execute_result"
    },
    {
     "data": {
      "text/plain": [
       "'EX_cpd00036_e0'"
      ]
     },
     "execution_count": 5,
     "metadata": {},
     "output_type": "execute_result"
    },
    {
     "data": {
      "text/plain": [
       "'EX_cpd11576_e0'"
      ]
     },
     "execution_count": 5,
     "metadata": {},
     "output_type": "execute_result"
    },
    {
     "data": {
      "text/plain": [
       "'EX_cpd04097_e0'"
      ]
     },
     "execution_count": 5,
     "metadata": {},
     "output_type": "execute_result"
    },
    {
     "data": {
      "text/plain": [
       "'EX_cpd11585_e0'"
      ]
     },
     "execution_count": 5,
     "metadata": {},
     "output_type": "execute_result"
    },
    {
     "data": {
      "text/plain": [
       "'EX_cpd00412_e0'"
      ]
     },
     "execution_count": 5,
     "metadata": {},
     "output_type": "execute_result"
    },
    {
     "data": {
      "text/plain": [
       "'EX_cpd11582_e0'"
      ]
     },
     "execution_count": 5,
     "metadata": {},
     "output_type": "execute_result"
    },
    {
     "data": {
      "text/plain": [
       "'EX_cpd00012_e0'"
      ]
     },
     "execution_count": 5,
     "metadata": {},
     "output_type": "execute_result"
    },
    {
     "data": {
      "text/plain": [
       "'EX_cpd11586_e0'"
      ]
     },
     "execution_count": 5,
     "metadata": {},
     "output_type": "execute_result"
    },
    {
     "data": {
      "text/plain": [
       "'EX_cpd01030_e0'"
      ]
     },
     "execution_count": 5,
     "metadata": {},
     "output_type": "execute_result"
    },
    {
     "data": {
      "text/plain": [
       "'EX_cpd00129_e0'"
      ]
     },
     "execution_count": 5,
     "metadata": {},
     "output_type": "execute_result"
    },
    {
     "data": {
      "text/plain": [
       "'EX_cpd00971_e0'"
      ]
     },
     "execution_count": 5,
     "metadata": {},
     "output_type": "execute_result"
    },
    {
     "data": {
      "text/plain": [
       "'EX_cpd01012_e0'"
      ]
     },
     "execution_count": 5,
     "metadata": {},
     "output_type": "execute_result"
    },
    {
     "data": {
      "text/plain": [
       "'EX_cpd00635_e0'"
      ]
     },
     "execution_count": 5,
     "metadata": {},
     "output_type": "execute_result"
    },
    {
     "data": {
      "text/plain": [
       "'EX_cpd00246_e0'"
      ]
     },
     "execution_count": 5,
     "metadata": {},
     "output_type": "execute_result"
    },
    {
     "data": {
      "text/plain": [
       "'EX_cpd00276_e0'"
      ]
     },
     "execution_count": 5,
     "metadata": {},
     "output_type": "execute_result"
    },
    {
     "data": {
      "text/plain": [
       "'EX_cpd00082_e0'"
      ]
     },
     "execution_count": 5,
     "metadata": {},
     "output_type": "execute_result"
    },
    {
     "data": {
      "text/plain": [
       "'EX_cpd00001_e0'"
      ]
     },
     "execution_count": 5,
     "metadata": {},
     "output_type": "execute_result"
    },
    {
     "data": {
      "text/plain": [
       "'EX_cpd00023_e0'"
      ]
     },
     "execution_count": 5,
     "metadata": {},
     "output_type": "execute_result"
    },
    {
     "data": {
      "text/plain": [
       "'EX_cpd00367_e0'"
      ]
     },
     "execution_count": 5,
     "metadata": {},
     "output_type": "execute_result"
    },
    {
     "data": {
      "text/plain": [
       "'EX_cpd00058_e0'"
      ]
     },
     "execution_count": 5,
     "metadata": {},
     "output_type": "execute_result"
    },
    {
     "data": {
      "text/plain": [
       "'EX_cpd00080_e0'"
      ]
     },
     "execution_count": 5,
     "metadata": {},
     "output_type": "execute_result"
    },
    {
     "data": {
      "text/plain": [
       "'EX_cpd00107_e0'"
      ]
     },
     "execution_count": 5,
     "metadata": {},
     "output_type": "execute_result"
    },
    {
     "data": {
      "text/plain": [
       "'EX_cpd00184_e0'"
      ]
     },
     "execution_count": 5,
     "metadata": {},
     "output_type": "execute_result"
    },
    {
     "data": {
      "text/plain": [
       "'EX_cpd00314_e0'"
      ]
     },
     "execution_count": 5,
     "metadata": {},
     "output_type": "execute_result"
    },
    {
     "data": {
      "text/plain": [
       "'EX_cpd01017_e0'"
      ]
     },
     "execution_count": 5,
     "metadata": {},
     "output_type": "execute_result"
    },
    {
     "data": {
      "text/plain": [
       "'EX_cpd00797_e0'"
      ]
     },
     "execution_count": 5,
     "metadata": {},
     "output_type": "execute_result"
    },
    {
     "data": {
      "text/plain": [
       "'EX_cpd00013_e0'"
      ]
     },
     "execution_count": 5,
     "metadata": {},
     "output_type": "execute_result"
    },
    {
     "data": {
      "text/plain": [
       "'EX_cpd00051_e0'"
      ]
     },
     "execution_count": 5,
     "metadata": {},
     "output_type": "execute_result"
    },
    {
     "data": {
      "text/plain": [
       "'EX_cpd10515_e0'"
      ]
     },
     "execution_count": 5,
     "metadata": {},
     "output_type": "execute_result"
    },
    {
     "data": {
      "text/plain": [
       "'EX_cpd00308_e0'"
      ]
     },
     "execution_count": 5,
     "metadata": {},
     "output_type": "execute_result"
    },
    {
     "data": {
      "text/plain": [
       "'EX_cpd00179_e0'"
      ]
     },
     "execution_count": 5,
     "metadata": {},
     "output_type": "execute_result"
    },
    {
     "data": {
      "text/plain": [
       "'EX_cpd00100_e0'"
      ]
     },
     "execution_count": 5,
     "metadata": {},
     "output_type": "execute_result"
    },
    {
     "data": {
      "text/plain": [
       "'EX_cpd11591_e0'"
      ]
     },
     "execution_count": 5,
     "metadata": {},
     "output_type": "execute_result"
    },
    {
     "data": {
      "text/plain": [
       "'EX_cpd00009_e0'"
      ]
     },
     "execution_count": 5,
     "metadata": {},
     "output_type": "execute_result"
    },
    {
     "data": {
      "text/plain": [
       "'EX_cpd00060_e0'"
      ]
     },
     "execution_count": 5,
     "metadata": {},
     "output_type": "execute_result"
    },
    {
     "data": {
      "text/plain": [
       "'EX_cpd00438_e0'"
      ]
     },
     "execution_count": 5,
     "metadata": {},
     "output_type": "execute_result"
    },
    {
     "data": {
      "text/plain": [
       "'EX_cpd00034_e0'"
      ]
     },
     "execution_count": 5,
     "metadata": {},
     "output_type": "execute_result"
    },
    {
     "data": {
      "text/plain": [
       "'EX_cpd00249_e0'"
      ]
     },
     "execution_count": 5,
     "metadata": {},
     "output_type": "execute_result"
    },
    {
     "data": {
      "text/plain": [
       "'EX_cpd00214_e0'"
      ]
     },
     "execution_count": 5,
     "metadata": {},
     "output_type": "execute_result"
    },
    {
     "data": {
      "text/plain": [
       "'EX_cpd00119_e0'"
      ]
     },
     "execution_count": 5,
     "metadata": {},
     "output_type": "execute_result"
    },
    {
     "data": {
      "text/plain": [
       "'EX_cpd11593_e0'"
      ]
     },
     "execution_count": 5,
     "metadata": {},
     "output_type": "execute_result"
    },
    {
     "data": {
      "text/plain": [
       "'EX_cpd00654_e0'"
      ]
     },
     "execution_count": 5,
     "metadata": {},
     "output_type": "execute_result"
    },
    {
     "data": {
      "text/plain": [
       "'EX_cpd00076_e0'"
      ]
     },
     "execution_count": 5,
     "metadata": {},
     "output_type": "execute_result"
    },
    {
     "data": {
      "text/plain": [
       "'EX_cpd00322_e0'"
      ]
     },
     "execution_count": 5,
     "metadata": {},
     "output_type": "execute_result"
    },
    {
     "data": {
      "text/plain": [
       "'EX_cpd01171_e0'"
      ]
     },
     "execution_count": 5,
     "metadata": {},
     "output_type": "execute_result"
    },
    {
     "data": {
      "text/plain": [
       "'EX_cpd00210_e0'"
      ]
     },
     "execution_count": 5,
     "metadata": {},
     "output_type": "execute_result"
    },
    {
     "data": {
      "text/plain": [
       "'EX_cpd15302_c0'"
      ]
     },
     "execution_count": 5,
     "metadata": {},
     "output_type": "execute_result"
    },
    {
     "data": {
      "text/plain": [
       "'EX_cpd15605_e0'"
      ]
     },
     "execution_count": 5,
     "metadata": {},
     "output_type": "execute_result"
    },
    {
     "data": {
      "text/plain": [
       "'EX_cpd00264_e0'"
      ]
     },
     "execution_count": 5,
     "metadata": {},
     "output_type": "execute_result"
    },
    {
     "data": {
      "text/plain": [
       "'EX_cpd00054_e0'"
      ]
     },
     "execution_count": 5,
     "metadata": {},
     "output_type": "execute_result"
    },
    {
     "data": {
      "text/plain": [
       "'EX_cpd00644_e0'"
      ]
     },
     "execution_count": 5,
     "metadata": {},
     "output_type": "execute_result"
    },
    {
     "data": {
      "text/plain": [
       "'EX_cpd00637_e0'"
      ]
     },
     "execution_count": 5,
     "metadata": {},
     "output_type": "execute_result"
    },
    {
     "data": {
      "text/plain": [
       "'EX_cpd00041_e0'"
      ]
     },
     "execution_count": 5,
     "metadata": {},
     "output_type": "execute_result"
    },
    {
     "data": {
      "text/plain": [
       "'EX_cpd00122_e0'"
      ]
     },
     "execution_count": 5,
     "metadata": {},
     "output_type": "execute_result"
    },
    {
     "data": {
      "text/plain": [
       "'EX_cpd00035_e0'"
      ]
     },
     "execution_count": 5,
     "metadata": {},
     "output_type": "execute_result"
    },
    {
     "data": {
      "text/plain": [
       "'EX_cpd15603_e0'"
      ]
     },
     "execution_count": 5,
     "metadata": {},
     "output_type": "execute_result"
    },
    {
     "data": {
      "text/plain": [
       "'EX_cpd00039_e0'"
      ]
     },
     "execution_count": 5,
     "metadata": {},
     "output_type": "execute_result"
    },
    {
     "data": {
      "text/plain": [
       "'EX_cpd03696_e0'"
      ]
     },
     "execution_count": 5,
     "metadata": {},
     "output_type": "execute_result"
    },
    {
     "data": {
      "text/plain": [
       "'EX_cpd00277_e0'"
      ]
     },
     "execution_count": 5,
     "metadata": {},
     "output_type": "execute_result"
    },
    {
     "data": {
      "text/plain": [
       "'EX_cpd00118_e0'"
      ]
     },
     "execution_count": 5,
     "metadata": {},
     "output_type": "execute_result"
    },
    {
     "data": {
      "text/plain": [
       "'EX_cpd00309_e0'"
      ]
     },
     "execution_count": 5,
     "metadata": {},
     "output_type": "execute_result"
    },
    {
     "data": {
      "text/plain": [
       "'EX_cpd11580_e0'"
      ]
     },
     "execution_count": 5,
     "metadata": {},
     "output_type": "execute_result"
    },
    {
     "data": {
      "text/plain": [
       "'EX_cpd01092_e0'"
      ]
     },
     "execution_count": 5,
     "metadata": {},
     "output_type": "execute_result"
    },
    {
     "data": {
      "text/plain": [
       "'EX_cpd03343_e0'"
      ]
     },
     "execution_count": 5,
     "metadata": {},
     "output_type": "execute_result"
    },
    {
     "data": {
      "text/plain": [
       "'EX_cpd03279_e0'"
      ]
     },
     "execution_count": 5,
     "metadata": {},
     "output_type": "execute_result"
    },
    {
     "data": {
      "text/plain": [
       "'EX_cpd00224_e0'"
      ]
     },
     "execution_count": 5,
     "metadata": {},
     "output_type": "execute_result"
    },
    {
     "data": {
      "text/plain": [
       "'EX_cpd01262_e0'"
      ]
     },
     "execution_count": 5,
     "metadata": {},
     "output_type": "execute_result"
    },
    {
     "data": {
      "text/plain": [
       "'EX_cpd00137_e0'"
      ]
     },
     "execution_count": 5,
     "metadata": {},
     "output_type": "execute_result"
    },
    {
     "data": {
      "text/plain": [
       "'EX_cpd10516_e0'"
      ]
     },
     "execution_count": 5,
     "metadata": {},
     "output_type": "execute_result"
    },
    {
     "data": {
      "text/plain": [
       "'EX_cpd00588_e0'"
      ]
     },
     "execution_count": 5,
     "metadata": {},
     "output_type": "execute_result"
    },
    {
     "data": {
      "text/plain": [
       "'EX_cpd00423_e0'"
      ]
     },
     "execution_count": 5,
     "metadata": {},
     "output_type": "execute_result"
    },
    {
     "data": {
      "text/plain": [
       "'EX_cpd00117_e0'"
      ]
     },
     "execution_count": 5,
     "metadata": {},
     "output_type": "execute_result"
    },
    {
     "data": {
      "text/plain": [
       "'EX_cpd00254_e0'"
      ]
     },
     "execution_count": 5,
     "metadata": {},
     "output_type": "execute_result"
    },
    {
     "data": {
      "text/plain": [
       "'EX_cpd00138_e0'"
      ]
     },
     "execution_count": 5,
     "metadata": {},
     "output_type": "execute_result"
    },
    {
     "data": {
      "text/plain": [
       "'EX_cpd02701_c0'"
      ]
     },
     "execution_count": 5,
     "metadata": {},
     "output_type": "execute_result"
    },
    {
     "data": {
      "text/plain": [
       "'EX_cpd01242_e0'"
      ]
     },
     "execution_count": 5,
     "metadata": {},
     "output_type": "execute_result"
    },
    {
     "data": {
      "text/plain": [
       "'EX_cpd00159_e0'"
      ]
     },
     "execution_count": 5,
     "metadata": {},
     "output_type": "execute_result"
    },
    {
     "data": {
      "text/plain": [
       "'EX_cpd00540_e0'"
      ]
     },
     "execution_count": 5,
     "metadata": {},
     "output_type": "execute_result"
    },
    {
     "data": {
      "text/plain": [
       "'EX_cpd00065_e0'"
      ]
     },
     "execution_count": 5,
     "metadata": {},
     "output_type": "execute_result"
    },
    {
     "data": {
      "text/plain": [
       "'EX_cpd00047_e0'"
      ]
     },
     "execution_count": 5,
     "metadata": {},
     "output_type": "execute_result"
    },
    {
     "data": {
      "text/plain": [
       "'EX_cpd15606_e0'"
      ]
     },
     "execution_count": 5,
     "metadata": {},
     "output_type": "execute_result"
    },
    {
     "data": {
      "text/plain": [
       "'EX_cpd00048_e0'"
      ]
     },
     "execution_count": 5,
     "metadata": {},
     "output_type": "execute_result"
    },
    {
     "data": {
      "text/plain": [
       "'EX_cpd03847_e0'"
      ]
     },
     "execution_count": 5,
     "metadata": {},
     "output_type": "execute_result"
    },
    {
     "data": {
      "text/plain": [
       "'EX_cpd00149_e0'"
      ]
     },
     "execution_count": 5,
     "metadata": {},
     "output_type": "execute_result"
    },
    {
     "data": {
      "text/plain": [
       "'EX_cpd15353_e0'"
      ]
     },
     "execution_count": 5,
     "metadata": {},
     "output_type": "execute_result"
    },
    {
     "data": {
      "text/plain": [
       "'EX_cpd15352_e0'"
      ]
     },
     "execution_count": 5,
     "metadata": {},
     "output_type": "execute_result"
    },
    {
     "data": {
      "text/plain": [
       "'EX_cpd01914_e0'"
      ]
     },
     "execution_count": 5,
     "metadata": {},
     "output_type": "execute_result"
    },
    {
     "data": {
      "text/plain": [
       "'EX_cpd00531_e0'"
      ]
     },
     "execution_count": 5,
     "metadata": {},
     "output_type": "execute_result"
    },
    {
     "data": {
      "text/plain": [
       "'EX_cpd11583_e0'"
      ]
     },
     "execution_count": 5,
     "metadata": {},
     "output_type": "execute_result"
    },
    {
     "data": {
      "text/plain": [
       "'EX_cpd00162_e0'"
      ]
     },
     "execution_count": 5,
     "metadata": {},
     "output_type": "execute_result"
    },
    {
     "data": {
      "text/plain": [
       "'EX_cpd11589_e0'"
      ]
     },
     "execution_count": 5,
     "metadata": {},
     "output_type": "execute_result"
    },
    {
     "data": {
      "text/plain": [
       "'EX_cpd00027_e0'"
      ]
     },
     "execution_count": 5,
     "metadata": {},
     "output_type": "execute_result"
    },
    {
     "data": {
      "text/plain": [
       "'EX_cpd03725_e0'"
      ]
     },
     "execution_count": 5,
     "metadata": {},
     "output_type": "execute_result"
    },
    {
     "data": {
      "text/plain": [
       "'EX_cpd00209_e0'"
      ]
     },
     "execution_count": 5,
     "metadata": {},
     "output_type": "execute_result"
    },
    {
     "data": {
      "text/plain": [
       "'EX_cpd00794_e0'"
      ]
     },
     "execution_count": 5,
     "metadata": {},
     "output_type": "execute_result"
    },
    {
     "data": {
      "text/plain": [
       "'EX_cpd00105_e0'"
      ]
     },
     "execution_count": 5,
     "metadata": {},
     "output_type": "execute_result"
    },
    {
     "data": {
      "text/plain": [
       "'EX_cpd00226_e0'"
      ]
     },
     "execution_count": 5,
     "metadata": {},
     "output_type": "execute_result"
    },
    {
     "data": {
      "text/plain": [
       "'EX_cpd11588_e0'"
      ]
     },
     "execution_count": 5,
     "metadata": {},
     "output_type": "execute_result"
    },
    {
     "data": {
      "text/plain": [
       "'EX_cpd01329_e0'"
      ]
     },
     "execution_count": 5,
     "metadata": {},
     "output_type": "execute_result"
    },
    {
     "data": {
      "text/plain": [
       "'EX_cpd15604_e0'"
      ]
     },
     "execution_count": 5,
     "metadata": {},
     "output_type": "execute_result"
    },
    {
     "data": {
      "text/plain": [
       "'EX_cpd01015_e0'"
      ]
     },
     "execution_count": 5,
     "metadata": {},
     "output_type": "execute_result"
    },
    {
     "data": {
      "text/plain": [
       "'EX_cpd00069_e0'"
      ]
     },
     "execution_count": 5,
     "metadata": {},
     "output_type": "execute_result"
    },
    {
     "data": {
      "text/plain": [
       "'EX_cpd00205_e0'"
      ]
     },
     "execution_count": 5,
     "metadata": {},
     "output_type": "execute_result"
    },
    {
     "data": {
      "text/plain": [
       "'EX_cpd00007_e0'"
      ]
     },
     "execution_count": 5,
     "metadata": {},
     "output_type": "execute_result"
    },
    {
     "data": {
      "text/plain": [
       "'EX_cpd03424_e0'"
      ]
     },
     "execution_count": 5,
     "metadata": {},
     "output_type": "execute_result"
    },
    {
     "data": {
      "text/plain": [
       "'EX_cpd00098_e0'"
      ]
     },
     "execution_count": 5,
     "metadata": {},
     "output_type": "execute_result"
    },
    {
     "data": {
      "text/plain": [
       "'EX_cpd11592_e0'"
      ]
     },
     "execution_count": 5,
     "metadata": {},
     "output_type": "execute_result"
    },
    {
     "data": {
      "text/plain": [
       "'EX_cpd00156_e0'"
      ]
     },
     "execution_count": 5,
     "metadata": {},
     "output_type": "execute_result"
    },
    {
     "data": {
      "text/plain": [
       "'EX_cpd11587_e0'"
      ]
     },
     "execution_count": 5,
     "metadata": {},
     "output_type": "execute_result"
    },
    {
     "data": {
      "text/plain": [
       "'EX_cpd00092_e0'"
      ]
     },
     "execution_count": 5,
     "metadata": {},
     "output_type": "execute_result"
    },
    {
     "data": {
      "text/plain": [
       "'EX_cpd11590_e0'"
      ]
     },
     "execution_count": 5,
     "metadata": {},
     "output_type": "execute_result"
    },
    {
     "data": {
      "text/plain": [
       "'EX_cpd11581_e0'"
      ]
     },
     "execution_count": 5,
     "metadata": {},
     "output_type": "execute_result"
    },
    {
     "data": {
      "text/plain": [
       "'EX_cpd15499_e0'"
      ]
     },
     "execution_count": 5,
     "metadata": {},
     "output_type": "execute_result"
    },
    {
     "data": {
      "text/plain": [
       "'EX_cpd15500_e0'"
      ]
     },
     "execution_count": 5,
     "metadata": {},
     "output_type": "execute_result"
    },
    {
     "data": {
      "text/plain": [
       "'EX_cpd01080_e0'"
      ]
     },
     "execution_count": 5,
     "metadata": {},
     "output_type": "execute_result"
    },
    {
     "data": {
      "text/plain": [
       "'EX_cpd11584_e0'"
      ]
     },
     "execution_count": 5,
     "metadata": {},
     "output_type": "execute_result"
    },
    {
     "data": {
      "text/plain": [
       "'EX_cpd00305_e0'"
      ]
     },
     "execution_count": 5,
     "metadata": {},
     "output_type": "execute_result"
    },
    {
     "data": {
      "text/plain": [
       "'EX_cpd00121_e0'"
      ]
     },
     "execution_count": 5,
     "metadata": {},
     "output_type": "execute_result"
    },
    {
     "data": {
      "text/plain": [
       "'EX_cpd00011_e0'"
      ]
     },
     "execution_count": 5,
     "metadata": {},
     "output_type": "execute_result"
    },
    {
     "data": {
      "text/plain": [
       "'EX_cpd11416_c0'"
      ]
     },
     "execution_count": 5,
     "metadata": {},
     "output_type": "execute_result"
    },
    {
     "data": {
      "text/plain": [
       "'EX_cpd00099_e0'"
      ]
     },
     "execution_count": 5,
     "metadata": {},
     "output_type": "execute_result"
    },
    {
     "data": {
      "text/plain": [
       "'EX_cpd00063_e0'"
      ]
     },
     "execution_count": 5,
     "metadata": {},
     "output_type": "execute_result"
    },
    {
     "data": {
      "text/plain": [
       "'EX_cpd00030_e0'"
      ]
     },
     "execution_count": 5,
     "metadata": {},
     "output_type": "execute_result"
    },
    {
     "data": {
      "text/html": [
       "\n",
       "        <table>\n",
       "            <tr>\n",
       "                <td><strong>Reaction identifier</strong></td><td>EX_MNXM81014_c0</td>\n",
       "            </tr><tr>\n",
       "                <td><strong>Name</strong></td><td>RNA_transcription exchange</td>\n",
       "            </tr><tr>\n",
       "                <td><strong>Memory address</strong></td>\n",
       "                <td>0x011379ce10</td>\n",
       "            </tr><tr>\n",
       "                <td><strong>Stoichiometry</strong></td>\n",
       "                <td>\n",
       "                    <p style='text-align:right'>MNXM81014_c0 <=> </p>\n",
       "                    <p style='text-align:right'>RNA_transcription <=> </p>\n",
       "                </td>\n",
       "            </tr><tr>\n",
       "                <td><strong>GPR</strong></td><td></td>\n",
       "            </tr><tr>\n",
       "                <td><strong>Lower bound</strong></td><td>-1000.0</td>\n",
       "            </tr><tr>\n",
       "                <td><strong>Upper bound</strong></td><td>1000.0</td>\n",
       "            </tr>\n",
       "        </table>\n",
       "        "
      ],
      "text/plain": [
       "<Reaction EX_MNXM81014_c0 at 0x11379ce10>"
      ]
     },
     "execution_count": 5,
     "metadata": {},
     "output_type": "execute_result"
    },
    {
     "data": {
      "text/html": [
       "\n",
       "        <table>\n",
       "            <tr>\n",
       "                <td><strong>Reaction identifier</strong></td><td>EX_MNXM51417_c0</td>\n",
       "            </tr><tr>\n",
       "                <td><strong>Name</strong></td><td>DNA_replication exchange</td>\n",
       "            </tr><tr>\n",
       "                <td><strong>Memory address</strong></td>\n",
       "                <td>0x011379cf28</td>\n",
       "            </tr><tr>\n",
       "                <td><strong>Stoichiometry</strong></td>\n",
       "                <td>\n",
       "                    <p style='text-align:right'>MNXM51417_c0 <=> </p>\n",
       "                    <p style='text-align:right'>DNA_replication <=> </p>\n",
       "                </td>\n",
       "            </tr><tr>\n",
       "                <td><strong>GPR</strong></td><td></td>\n",
       "            </tr><tr>\n",
       "                <td><strong>Lower bound</strong></td><td>-1000.0</td>\n",
       "            </tr><tr>\n",
       "                <td><strong>Upper bound</strong></td><td>1000.0</td>\n",
       "            </tr>\n",
       "        </table>\n",
       "        "
      ],
      "text/plain": [
       "<Reaction EX_MNXM51417_c0 at 0x11379cf28>"
      ]
     },
     "execution_count": 5,
     "metadata": {},
     "output_type": "execute_result"
    },
    {
     "data": {
      "text/html": [
       "\n",
       "        <table>\n",
       "            <tr>\n",
       "                <td><strong>Reaction identifier</strong></td><td>EX_MG+2_c0</td>\n",
       "            </tr><tr>\n",
       "                <td><strong>Name</strong></td><td>Mg exchange</td>\n",
       "            </tr><tr>\n",
       "                <td><strong>Memory address</strong></td>\n",
       "                <td>0x011379cd30</td>\n",
       "            </tr><tr>\n",
       "                <td><strong>Stoichiometry</strong></td>\n",
       "                <td>\n",
       "                    <p style='text-align:right'>MG+2_c0 <=> </p>\n",
       "                    <p style='text-align:right'>Mg <=> </p>\n",
       "                </td>\n",
       "            </tr><tr>\n",
       "                <td><strong>GPR</strong></td><td></td>\n",
       "            </tr><tr>\n",
       "                <td><strong>Lower bound</strong></td><td>-1000.0</td>\n",
       "            </tr><tr>\n",
       "                <td><strong>Upper bound</strong></td><td>1000.0</td>\n",
       "            </tr>\n",
       "        </table>\n",
       "        "
      ],
      "text/plain": [
       "<Reaction EX_MG+2_c0 at 0x11379cd30>"
      ]
     },
     "execution_count": 5,
     "metadata": {},
     "output_type": "execute_result"
    },
    {
     "data": {
      "text/html": [
       "\n",
       "        <table>\n",
       "            <tr>\n",
       "                <td><strong>Reaction identifier</strong></td><td>EX_MN+2_c0</td>\n",
       "            </tr><tr>\n",
       "                <td><strong>Name</strong></td><td>Mn2_plus_ exchange</td>\n",
       "            </tr><tr>\n",
       "                <td><strong>Memory address</strong></td>\n",
       "                <td>0x011379cac8</td>\n",
       "            </tr><tr>\n",
       "                <td><strong>Stoichiometry</strong></td>\n",
       "                <td>\n",
       "                    <p style='text-align:right'>MN+2_c0 <=> </p>\n",
       "                    <p style='text-align:right'>Mn2_plus_ <=> </p>\n",
       "                </td>\n",
       "            </tr><tr>\n",
       "                <td><strong>GPR</strong></td><td></td>\n",
       "            </tr><tr>\n",
       "                <td><strong>Lower bound</strong></td><td>-1000.0</td>\n",
       "            </tr><tr>\n",
       "                <td><strong>Upper bound</strong></td><td>1000.0</td>\n",
       "            </tr>\n",
       "        </table>\n",
       "        "
      ],
      "text/plain": [
       "<Reaction EX_MN+2_c0 at 0x11379cac8>"
      ]
     },
     "execution_count": 5,
     "metadata": {},
     "output_type": "execute_result"
    },
    {
     "data": {
      "text/html": [
       "\n",
       "        <table>\n",
       "            <tr>\n",
       "                <td><strong>Reaction identifier</strong></td><td>EX_CU+2_c0</td>\n",
       "            </tr><tr>\n",
       "                <td><strong>Name</strong></td><td>Cu2_plus_ exchange</td>\n",
       "            </tr><tr>\n",
       "                <td><strong>Memory address</strong></td>\n",
       "                <td>0x011379c9e8</td>\n",
       "            </tr><tr>\n",
       "                <td><strong>Stoichiometry</strong></td>\n",
       "                <td>\n",
       "                    <p style='text-align:right'>CU+2_c0 <=> </p>\n",
       "                    <p style='text-align:right'>Cu2_plus_ <=> </p>\n",
       "                </td>\n",
       "            </tr><tr>\n",
       "                <td><strong>GPR</strong></td><td></td>\n",
       "            </tr><tr>\n",
       "                <td><strong>Lower bound</strong></td><td>-1000.0</td>\n",
       "            </tr><tr>\n",
       "                <td><strong>Upper bound</strong></td><td>1000.0</td>\n",
       "            </tr>\n",
       "        </table>\n",
       "        "
      ],
      "text/plain": [
       "<Reaction EX_CU+2_c0 at 0x11379c9e8>"
      ]
     },
     "execution_count": 5,
     "metadata": {},
     "output_type": "execute_result"
    },
    {
     "data": {
      "text/html": [
       "\n",
       "        <table>\n",
       "            <tr>\n",
       "                <td><strong>Reaction identifier</strong></td><td>EX_ZN+2_c0</td>\n",
       "            </tr><tr>\n",
       "                <td><strong>Name</strong></td><td>Zn2_plus_ exchange</td>\n",
       "            </tr><tr>\n",
       "                <td><strong>Memory address</strong></td>\n",
       "                <td>0x011379c710</td>\n",
       "            </tr><tr>\n",
       "                <td><strong>Stoichiometry</strong></td>\n",
       "                <td>\n",
       "                    <p style='text-align:right'>ZN+2_c0 <=> </p>\n",
       "                    <p style='text-align:right'>Zn2_plus_ <=> </p>\n",
       "                </td>\n",
       "            </tr><tr>\n",
       "                <td><strong>GPR</strong></td><td></td>\n",
       "            </tr><tr>\n",
       "                <td><strong>Lower bound</strong></td><td>-1000.0</td>\n",
       "            </tr><tr>\n",
       "                <td><strong>Upper bound</strong></td><td>1000.0</td>\n",
       "            </tr>\n",
       "        </table>\n",
       "        "
      ],
      "text/plain": [
       "<Reaction EX_ZN+2_c0 at 0x11379c710>"
      ]
     },
     "execution_count": 5,
     "metadata": {},
     "output_type": "execute_result"
    },
    {
     "data": {
      "text/html": [
       "\n",
       "        <table>\n",
       "            <tr>\n",
       "                <td><strong>Reaction identifier</strong></td><td>EX_K+_c0</td>\n",
       "            </tr><tr>\n",
       "                <td><strong>Name</strong></td><td>K_plus_ exchange</td>\n",
       "            </tr><tr>\n",
       "                <td><strong>Memory address</strong></td>\n",
       "                <td>0x011379c7b8</td>\n",
       "            </tr><tr>\n",
       "                <td><strong>Stoichiometry</strong></td>\n",
       "                <td>\n",
       "                    <p style='text-align:right'>K+_c0 <=> </p>\n",
       "                    <p style='text-align:right'>K_plus_ <=> </p>\n",
       "                </td>\n",
       "            </tr><tr>\n",
       "                <td><strong>GPR</strong></td><td></td>\n",
       "            </tr><tr>\n",
       "                <td><strong>Lower bound</strong></td><td>-1000.0</td>\n",
       "            </tr><tr>\n",
       "                <td><strong>Upper bound</strong></td><td>1000.0</td>\n",
       "            </tr>\n",
       "        </table>\n",
       "        "
      ],
      "text/plain": [
       "<Reaction EX_K+_c0 at 0x11379c7b8>"
      ]
     },
     "execution_count": 5,
     "metadata": {},
     "output_type": "execute_result"
    },
    {
     "data": {
      "text/html": [
       "\n",
       "        <table>\n",
       "            <tr>\n",
       "                <td><strong>Reaction identifier</strong></td><td>EX_MNXM78334_c0</td>\n",
       "            </tr><tr>\n",
       "                <td><strong>Name</strong></td><td>Protein_biosynthesis exchange</td>\n",
       "            </tr><tr>\n",
       "                <td><strong>Memory address</strong></td>\n",
       "                <td>0x011379c278</td>\n",
       "            </tr><tr>\n",
       "                <td><strong>Stoichiometry</strong></td>\n",
       "                <td>\n",
       "                    <p style='text-align:right'>MNXM78334_c0 <=> </p>\n",
       "                    <p style='text-align:right'>Protein_biosynthesis <=> </p>\n",
       "                </td>\n",
       "            </tr><tr>\n",
       "                <td><strong>GPR</strong></td><td></td>\n",
       "            </tr><tr>\n",
       "                <td><strong>Lower bound</strong></td><td>-1000.0</td>\n",
       "            </tr><tr>\n",
       "                <td><strong>Upper bound</strong></td><td>1000.0</td>\n",
       "            </tr>\n",
       "        </table>\n",
       "        "
      ],
      "text/plain": [
       "<Reaction EX_MNXM78334_c0 at 0x11379c278>"
      ]
     },
     "execution_count": 5,
     "metadata": {},
     "output_type": "execute_result"
    },
    {
     "data": {
      "text/html": [
       "\n",
       "        <table>\n",
       "            <tr>\n",
       "                <td><strong>Reaction identifier</strong></td><td>EX_CA+2_c0</td>\n",
       "            </tr><tr>\n",
       "                <td><strong>Name</strong></td><td>Ca2_plus_ exchange</td>\n",
       "            </tr><tr>\n",
       "                <td><strong>Memory address</strong></td>\n",
       "                <td>0x011379c390</td>\n",
       "            </tr><tr>\n",
       "                <td><strong>Stoichiometry</strong></td>\n",
       "                <td>\n",
       "                    <p style='text-align:right'>CA+2_c0 <=> </p>\n",
       "                    <p style='text-align:right'>Ca2_plus_ <=> </p>\n",
       "                </td>\n",
       "            </tr><tr>\n",
       "                <td><strong>GPR</strong></td><td></td>\n",
       "            </tr><tr>\n",
       "                <td><strong>Lower bound</strong></td><td>-1000.0</td>\n",
       "            </tr><tr>\n",
       "                <td><strong>Upper bound</strong></td><td>1000.0</td>\n",
       "            </tr>\n",
       "        </table>\n",
       "        "
      ],
      "text/plain": [
       "<Reaction EX_CA+2_c0 at 0x11379c390>"
      ]
     },
     "execution_count": 5,
     "metadata": {},
     "output_type": "execute_result"
    },
    {
     "data": {
      "text/plain": [
       "{'EX_cpd00067_e0': 1000,\n",
       " 'EX_cpd00182_e0': 1000,\n",
       " 'EX_cpd00129_e0': 1000,\n",
       " 'EX_cpd00971_e0': 1000,\n",
       " 'EX_cpd01012_e0': 1000,\n",
       " 'EX_cpd00246_e0': 1000,\n",
       " 'EX_cpd00001_e0': 1000,\n",
       " 'EX_cpd00023_e0': 1000,\n",
       " 'EX_cpd00058_e0': 1000,\n",
       " 'EX_cpd00107_e0': 1000,\n",
       " 'EX_cpd00184_e0': 1000,\n",
       " 'EX_cpd00051_e0': 1000,\n",
       " 'EX_cpd10515_e0': 1000,\n",
       " 'EX_cpd00009_e0': 1000,\n",
       " 'EX_cpd00060_e0': 1000,\n",
       " 'EX_cpd00438_e0': 1000,\n",
       " 'EX_cpd00034_e0': 1000,\n",
       " 'EX_cpd00249_e0': 1000,\n",
       " 'EX_cpd00119_e0': 1000,\n",
       " 'EX_cpd00654_e0': 1000,\n",
       " 'EX_cpd00322_e0': 1000,\n",
       " 'EX_cpd00054_e0': 1000,\n",
       " 'EX_cpd00644_e0': 1000,\n",
       " 'EX_cpd00041_e0': 1000,\n",
       " 'EX_cpd00035_e0': 1000,\n",
       " 'EX_cpd00039_e0': 1000,\n",
       " 'EX_cpd10516_e0': 1000,\n",
       " 'EX_cpd00254_e0': 1000,\n",
       " 'EX_cpd00065_e0': 1000,\n",
       " 'EX_cpd00048_e0': 1000,\n",
       " 'EX_cpd00149_e0': 1000,\n",
       " 'EX_cpd00531_e0': 1000,\n",
       " 'EX_cpd00027_e0': 1000,\n",
       " 'EX_cpd00226_e0': 1000,\n",
       " 'EX_cpd00069_e0': 1000,\n",
       " 'EX_cpd00205_e0': 1000,\n",
       " 'EX_cpd00007_e0': 1000,\n",
       " 'EX_cpd03424_e0': 1000,\n",
       " 'EX_cpd00156_e0': 1000,\n",
       " 'EX_cpd00092_e0': 1000,\n",
       " 'EX_cpd00099_e0': 1000,\n",
       " 'EX_cpd00063_e0': 1000,\n",
       " 'EX_cpd00030_e0': 1000}"
      ]
     },
     "execution_count": 5,
     "metadata": {},
     "output_type": "execute_result"
    },
    {
     "data": {
      "text/plain": [
       "43"
      ]
     },
     "execution_count": 5,
     "metadata": {},
     "output_type": "execute_result"
    },
    {
     "data": {
      "text/plain": [
       "1.0051609738699301e-13"
      ]
     },
     "execution_count": 5,
     "metadata": {},
     "output_type": "execute_result"
    },
    {
     "name": "stdout",
     "output_type": "stream",
     "text": [
      "IN FLUXES                 OUT FLUXES                OBJECTIVES\n",
      "------------------------  ------------------------  --------------\n",
      "ADENOSINE_e0       1e+03  HYPOXANTHINE_e0    1e+03  bio1  1.01e-13\n",
      "GLT_e0             1e+03  PRO_e0             1e+03\n",
      "DEOXYCYTIDIN...  685      URACIL_e0        685\n",
      "PROTON_e0        373      CPD-15815_e0     418\n",
      "                          URIDINE_e0       369\n",
      "                          L-ASPARTATE_e0   365\n",
      "                          L-ALPHA-ALAN...  320\n",
      "                          PANTOTHENATE_e0  262\n",
      "                          Glucopyranos...   54.6\n"
     ]
    }
   ],
   "source": [
    "media_nms = read_csv(\"/Users/lizrad/Documents/Vibrio_folder/LB.tsv\" , sep='\\t' , low_memory=False)\n",
    "#media_nms = read_csv(\"/Users/lizrad/Documents/Vibrio_folder/minimal_nms.tsv\" , sep='\\t' , low_memory=False)\n",
    "media_nms\n",
    "\n",
    "comp_list=media_nms[\"compounds\"].tolist()\n",
    "\n",
    "with model:\n",
    "    for met in model.metabolites: \n",
    "        if met.annotation[\"seed.compound\"] in comp_list: \n",
    "            print(met.id, met.annotation[\"seed.compound\"])\n",
    "\n",
    "        \n",
    "    #Adding the direct metabolites as exchange reactions\n",
    "         \n",
    "    for reac in model.reactions:\n",
    "        if reac.id.startswith(\"EX\"):\n",
    "            \n",
    "            reac.bounds=(0,0)\n",
    "            reac.id\n",
    "            pre, seed, compart =reac.id.split(\"_\")\n",
    "            if seed in comp_list: \n",
    "                reac.bounds=(-1000,1000)\n",
    "            for i in direct_met:\n",
    "                meta, compart =i.id.split(\"_\")\n",
    "                if meta in seed:\n",
    "                    reac.bounds\n",
    "                    reac.bounds=(-1000,1000)\n",
    "                    reac.bounds\n",
    "    for d in direct_met:\n",
    "        model.add_boundary(model.metabolites.get_by_id(d.id), type=\"exchange\", reaction_id=None, lb=-1000.0, ub=1000.0)\n",
    "    #\n",
    "    model.medium\n",
    "    len(model.medium)\n",
    "    model.optimize().objective_value\n",
    "    model.summary()\n",
    "    \n",
    "   # blocked_precursors=find_blocked_biomass_precursors(model.reactions.bio1, model)\n",
    "   # blocked_precursors\n",
    "   # len(blocked_precursors)\n",
    "#model.reactions.get_by_id['EX_cpd00067_e0'].bounds\n",
    "\n",
    "    "
   ]
  },
  {
   "cell_type": "code",
   "execution_count": 6,
   "metadata": {},
   "outputs": [
    {
     "data": {
      "text/plain": [
       "['MNXM81014_c0',\n",
       " 'MNXM51417_c0',\n",
       " 'MG+2_c0',\n",
       " 'MN+2_c0',\n",
       " 'CU+2_c0',\n",
       " 'ZN+2_c0',\n",
       " 'K+_c0',\n",
       " 'MNXM78334_c0',\n",
       " 'CA+2_c0']"
      ]
     },
     "execution_count": 6,
     "metadata": {},
     "output_type": "execute_result"
    }
   ],
   "source": [
    "direct_list=[]\n",
    "with model:\n",
    "    \n",
    "    for d in direct_met:\n",
    "        metanet,suff =d.id.split(\"_\")\n",
    "        direct_list.append(d.id)\n",
    "        \n",
    "direct_list\n",
    "\n"
   ]
  },
  {
   "cell_type": "code",
   "execution_count": 7,
   "metadata": {},
   "outputs": [
    {
     "name": "stdout",
     "output_type": "stream",
     "text": [
      "MNXM51417_c0 is in the reaction of  MNXR137716_c0:  --> MNXM51417_c0\n",
      "CU+2_c0 is in the reaction of  MNXR96952_c0: ATP_c0 + CPD-15815_c0 + CU+2_e0 --> ADP_c0 + CPD-16459_c0 + CU+2_c0 + PROTON_c0\n",
      "ZN+2_c0 is in the reaction of  ABC-63-RXN_c0: ATP_c0 + CPD-15815_c0 + ZN+2_e0 --> ADP_c0 + CPD-16459_c0 + PROTON_c0 + ZN+2_c0\n",
      "MNXM81014_c0 is in the reaction of  MNXR137717_c0:  --> MNXM81014_c0\n",
      "MNXM78334_c0 is in the reaction of  MNXR137715_c0:  --> MNXM78334_c0\n",
      "MG+2_c0 is in the reaction of  3.6.3.2-RXN_c0: ATP_c0 + CPD-15815_c0 + MG+2_e0 --> ADP_c0 + CPD-16459_c0 + MG+2_c0 + PROTON_c0\n",
      "CU+2_c0 is in the reaction of  3.6.3.4-RXN_c0: ATP_c0 + CPD-15815_c0 + CU+2_c0 --> ADP_c0 + CPD-16459_c0 + CU+2_e0 + PROTON_c0\n",
      "MG+2_c0 is in the reaction of  TRANS-RXN-141_c0: MG+2_c0 <=> MG+2_e0\n",
      "K+_c0 is in the reaction of  TRANS-RXN-42_c0: K+_c0 + PROTON_e0 <=> K+_e0 + PROTON_c0\n",
      "K+_c0 is in the reaction of  TRANS-RXN-143_c0: K+_e0 <=> K+_c0\n",
      "CA+2_c0 is in the reaction of  MNXR96437_c0: CA+2_e0 + PROTON_c0 --> CA+2_c0 + PROTON_e0\n",
      "MN+2_c0 is in the reaction of  MNXR134973_c0: MN+2_e0 + PROTON_e0 --> MN+2_c0 + PROTON_c0\n",
      "CA+2_c0 is in the reaction of  bio1: 0.00309646685192537 10-FORMYL-THF_c0 + 0.00309646685192537 5-METHYL-THF_c0 + 0.00309646685192537 ACP_c0 + 0.00309646685192537 ADENOSYLCOBALAMIN_c0 + 0.246696822701341 ARG_c0 + 0.200830806928348 ASN_c0 + 40.1101757365074 ATP_c0 + 0.00309646685192537 CA+2_c0 + 0.00309646685192537 CL-_c0 + 0.00309646685192537 CO+2_c0 + 0.00309646685192537 CO-A_c0 + 0.0106480421341882 CPD-12818_c0 + 0.0106480421341882 CPD-12822_c0 + 35.5403092430435 CPD-15815_c0 + 0.00309646685192537 CPD-9728_c0 + 0.0250105977108944 CPD0-2271_c0 + 0.0841036156544863 CTP_c0 + 0.00309646685192537 CU+2_c0 + 0.0761464922056484 CYS_c0 + 0.0175915886179248 DATP_c0 + 0.0144513778992424 DCTP_c0 + 0.00309646685192537 DEMETHYLMENAQUINONE_c0 + 0.0144513778992424 DGTP_c0 + 0.00309646685192537 FAD_c0 + 0.00309646685192537 FE+2_c0 + 0.00309646685192537 FE+3_c0 + 0.219088153012743 GLN_c0 + 0.219088153012743 GLT_c0 + 0.00309646685192537 GLUTATHIONE_c0 + 0.509869786991038 GLY_c0 + 0.135406821203723 GTP_c0 + 0.0792636000737159 HIS_c0 + 0.00309646685192537 HSO4_c0 + 0.241798510337235 ILE_c0 + 0.00309646685192537 K+_c0 + 0.427934380173264 L-ALPHA-ALANINE_c0 + 0.200830806928348 L-ASPARTATE_c0 + 0.375388847540127 LEU_c0 + 0.285438020490179 LYS_c0 + 0.127801422590767 MET_c0 + 0.00309646685192537 MG+2_c0 + 0.00309646685192537 MN+2_c0 + 0.0106480421341882 MNXM5124_c0 + 0.0106480421341882 MNXM5129_c0 + MNXM51417_c0 + 0.0106480421341882 MNXM6175_c0 + 0.0106480421341882 MNXM6297_c0 + 0.0106480421341882 MNXM6440_c0 + 0.0106480421341882 MNXM7294_c0 + 0.0106480421341882 MNXM7305_c0 + 0.0250105977108944 MNXM7630_c0 + MNXM78334_c0 + 0.00309646685192537 MNXM78362_c0 + MNXM81014_c0 + 0.00309646685192537 NADP_c0 + 0.00309646685192537 NAD_c0 + 0.154519490031345 PHE_c0 + 0.184354665339991 PRO_c0 + 0.00309646685192537 PUTRESCINE_c0 + 0.00309646685192537 PYRIDOXAL_PHOSPHATE_c0 + 0.00309646685192537 RIBOFLAVIN_c0 + 0.00309646685192537 S-ADENOSYLMETHIONINE_c0 + 0.179456352975885 SER_c0 + 0.00309646685192537 SIROHEME_c0 + 0.00309646685192537 SPERMIDINE_c0 + 0.00309646685192537 THF_c0 + 0.00309646685192537 THIAMINE-PYROPHOSPHATE_c0 + 0.211072732780569 THR_c0 + 0.0472019191450218 TRP_c0 + 0.0175915886179248 TTP_c0 + 0.120676604606612 TYR_c0 + 0.00309646685192537 UBIQUINONE-8_c0 + 0.0250105977108944 UNDECAPRENYL-DIPHOSPHATE_c0 + 0.0908319049068452 UTP_c0 + 0.352233189091625 VAL_c0 + 0.00309646685192537 ZN+2_c0 --> 40.0 ADP_c0 + BIOMASS_c0 + 39.9969035331481 CPD-16459_c0 + 0.00309646685192537 DIMETHYLBENZIMIDAZOLE_c0 + 0.00309646685192537 MNXM2214_c0 + 0.0250105977108944 MNXM5258_c0 + 0.00309646685192537 MNXM90619_c0 + 0.484604011306766 PPI_c0 + 40.0 PROTON_c0\n",
      "CU+2_c0 is in the reaction of  bio1: 0.00309646685192537 10-FORMYL-THF_c0 + 0.00309646685192537 5-METHYL-THF_c0 + 0.00309646685192537 ACP_c0 + 0.00309646685192537 ADENOSYLCOBALAMIN_c0 + 0.246696822701341 ARG_c0 + 0.200830806928348 ASN_c0 + 40.1101757365074 ATP_c0 + 0.00309646685192537 CA+2_c0 + 0.00309646685192537 CL-_c0 + 0.00309646685192537 CO+2_c0 + 0.00309646685192537 CO-A_c0 + 0.0106480421341882 CPD-12818_c0 + 0.0106480421341882 CPD-12822_c0 + 35.5403092430435 CPD-15815_c0 + 0.00309646685192537 CPD-9728_c0 + 0.0250105977108944 CPD0-2271_c0 + 0.0841036156544863 CTP_c0 + 0.00309646685192537 CU+2_c0 + 0.0761464922056484 CYS_c0 + 0.0175915886179248 DATP_c0 + 0.0144513778992424 DCTP_c0 + 0.00309646685192537 DEMETHYLMENAQUINONE_c0 + 0.0144513778992424 DGTP_c0 + 0.00309646685192537 FAD_c0 + 0.00309646685192537 FE+2_c0 + 0.00309646685192537 FE+3_c0 + 0.219088153012743 GLN_c0 + 0.219088153012743 GLT_c0 + 0.00309646685192537 GLUTATHIONE_c0 + 0.509869786991038 GLY_c0 + 0.135406821203723 GTP_c0 + 0.0792636000737159 HIS_c0 + 0.00309646685192537 HSO4_c0 + 0.241798510337235 ILE_c0 + 0.00309646685192537 K+_c0 + 0.427934380173264 L-ALPHA-ALANINE_c0 + 0.200830806928348 L-ASPARTATE_c0 + 0.375388847540127 LEU_c0 + 0.285438020490179 LYS_c0 + 0.127801422590767 MET_c0 + 0.00309646685192537 MG+2_c0 + 0.00309646685192537 MN+2_c0 + 0.0106480421341882 MNXM5124_c0 + 0.0106480421341882 MNXM5129_c0 + MNXM51417_c0 + 0.0106480421341882 MNXM6175_c0 + 0.0106480421341882 MNXM6297_c0 + 0.0106480421341882 MNXM6440_c0 + 0.0106480421341882 MNXM7294_c0 + 0.0106480421341882 MNXM7305_c0 + 0.0250105977108944 MNXM7630_c0 + MNXM78334_c0 + 0.00309646685192537 MNXM78362_c0 + MNXM81014_c0 + 0.00309646685192537 NADP_c0 + 0.00309646685192537 NAD_c0 + 0.154519490031345 PHE_c0 + 0.184354665339991 PRO_c0 + 0.00309646685192537 PUTRESCINE_c0 + 0.00309646685192537 PYRIDOXAL_PHOSPHATE_c0 + 0.00309646685192537 RIBOFLAVIN_c0 + 0.00309646685192537 S-ADENOSYLMETHIONINE_c0 + 0.179456352975885 SER_c0 + 0.00309646685192537 SIROHEME_c0 + 0.00309646685192537 SPERMIDINE_c0 + 0.00309646685192537 THF_c0 + 0.00309646685192537 THIAMINE-PYROPHOSPHATE_c0 + 0.211072732780569 THR_c0 + 0.0472019191450218 TRP_c0 + 0.0175915886179248 TTP_c0 + 0.120676604606612 TYR_c0 + 0.00309646685192537 UBIQUINONE-8_c0 + 0.0250105977108944 UNDECAPRENYL-DIPHOSPHATE_c0 + 0.0908319049068452 UTP_c0 + 0.352233189091625 VAL_c0 + 0.00309646685192537 ZN+2_c0 --> 40.0 ADP_c0 + BIOMASS_c0 + 39.9969035331481 CPD-16459_c0 + 0.00309646685192537 DIMETHYLBENZIMIDAZOLE_c0 + 0.00309646685192537 MNXM2214_c0 + 0.0250105977108944 MNXM5258_c0 + 0.00309646685192537 MNXM90619_c0 + 0.484604011306766 PPI_c0 + 40.0 PROTON_c0\n",
      "K+_c0 is in the reaction of  bio1: 0.00309646685192537 10-FORMYL-THF_c0 + 0.00309646685192537 5-METHYL-THF_c0 + 0.00309646685192537 ACP_c0 + 0.00309646685192537 ADENOSYLCOBALAMIN_c0 + 0.246696822701341 ARG_c0 + 0.200830806928348 ASN_c0 + 40.1101757365074 ATP_c0 + 0.00309646685192537 CA+2_c0 + 0.00309646685192537 CL-_c0 + 0.00309646685192537 CO+2_c0 + 0.00309646685192537 CO-A_c0 + 0.0106480421341882 CPD-12818_c0 + 0.0106480421341882 CPD-12822_c0 + 35.5403092430435 CPD-15815_c0 + 0.00309646685192537 CPD-9728_c0 + 0.0250105977108944 CPD0-2271_c0 + 0.0841036156544863 CTP_c0 + 0.00309646685192537 CU+2_c0 + 0.0761464922056484 CYS_c0 + 0.0175915886179248 DATP_c0 + 0.0144513778992424 DCTP_c0 + 0.00309646685192537 DEMETHYLMENAQUINONE_c0 + 0.0144513778992424 DGTP_c0 + 0.00309646685192537 FAD_c0 + 0.00309646685192537 FE+2_c0 + 0.00309646685192537 FE+3_c0 + 0.219088153012743 GLN_c0 + 0.219088153012743 GLT_c0 + 0.00309646685192537 GLUTATHIONE_c0 + 0.509869786991038 GLY_c0 + 0.135406821203723 GTP_c0 + 0.0792636000737159 HIS_c0 + 0.00309646685192537 HSO4_c0 + 0.241798510337235 ILE_c0 + 0.00309646685192537 K+_c0 + 0.427934380173264 L-ALPHA-ALANINE_c0 + 0.200830806928348 L-ASPARTATE_c0 + 0.375388847540127 LEU_c0 + 0.285438020490179 LYS_c0 + 0.127801422590767 MET_c0 + 0.00309646685192537 MG+2_c0 + 0.00309646685192537 MN+2_c0 + 0.0106480421341882 MNXM5124_c0 + 0.0106480421341882 MNXM5129_c0 + MNXM51417_c0 + 0.0106480421341882 MNXM6175_c0 + 0.0106480421341882 MNXM6297_c0 + 0.0106480421341882 MNXM6440_c0 + 0.0106480421341882 MNXM7294_c0 + 0.0106480421341882 MNXM7305_c0 + 0.0250105977108944 MNXM7630_c0 + MNXM78334_c0 + 0.00309646685192537 MNXM78362_c0 + MNXM81014_c0 + 0.00309646685192537 NADP_c0 + 0.00309646685192537 NAD_c0 + 0.154519490031345 PHE_c0 + 0.184354665339991 PRO_c0 + 0.00309646685192537 PUTRESCINE_c0 + 0.00309646685192537 PYRIDOXAL_PHOSPHATE_c0 + 0.00309646685192537 RIBOFLAVIN_c0 + 0.00309646685192537 S-ADENOSYLMETHIONINE_c0 + 0.179456352975885 SER_c0 + 0.00309646685192537 SIROHEME_c0 + 0.00309646685192537 SPERMIDINE_c0 + 0.00309646685192537 THF_c0 + 0.00309646685192537 THIAMINE-PYROPHOSPHATE_c0 + 0.211072732780569 THR_c0 + 0.0472019191450218 TRP_c0 + 0.0175915886179248 TTP_c0 + 0.120676604606612 TYR_c0 + 0.00309646685192537 UBIQUINONE-8_c0 + 0.0250105977108944 UNDECAPRENYL-DIPHOSPHATE_c0 + 0.0908319049068452 UTP_c0 + 0.352233189091625 VAL_c0 + 0.00309646685192537 ZN+2_c0 --> 40.0 ADP_c0 + BIOMASS_c0 + 39.9969035331481 CPD-16459_c0 + 0.00309646685192537 DIMETHYLBENZIMIDAZOLE_c0 + 0.00309646685192537 MNXM2214_c0 + 0.0250105977108944 MNXM5258_c0 + 0.00309646685192537 MNXM90619_c0 + 0.484604011306766 PPI_c0 + 40.0 PROTON_c0\n",
      "MG+2_c0 is in the reaction of  bio1: 0.00309646685192537 10-FORMYL-THF_c0 + 0.00309646685192537 5-METHYL-THF_c0 + 0.00309646685192537 ACP_c0 + 0.00309646685192537 ADENOSYLCOBALAMIN_c0 + 0.246696822701341 ARG_c0 + 0.200830806928348 ASN_c0 + 40.1101757365074 ATP_c0 + 0.00309646685192537 CA+2_c0 + 0.00309646685192537 CL-_c0 + 0.00309646685192537 CO+2_c0 + 0.00309646685192537 CO-A_c0 + 0.0106480421341882 CPD-12818_c0 + 0.0106480421341882 CPD-12822_c0 + 35.5403092430435 CPD-15815_c0 + 0.00309646685192537 CPD-9728_c0 + 0.0250105977108944 CPD0-2271_c0 + 0.0841036156544863 CTP_c0 + 0.00309646685192537 CU+2_c0 + 0.0761464922056484 CYS_c0 + 0.0175915886179248 DATP_c0 + 0.0144513778992424 DCTP_c0 + 0.00309646685192537 DEMETHYLMENAQUINONE_c0 + 0.0144513778992424 DGTP_c0 + 0.00309646685192537 FAD_c0 + 0.00309646685192537 FE+2_c0 + 0.00309646685192537 FE+3_c0 + 0.219088153012743 GLN_c0 + 0.219088153012743 GLT_c0 + 0.00309646685192537 GLUTATHIONE_c0 + 0.509869786991038 GLY_c0 + 0.135406821203723 GTP_c0 + 0.0792636000737159 HIS_c0 + 0.00309646685192537 HSO4_c0 + 0.241798510337235 ILE_c0 + 0.00309646685192537 K+_c0 + 0.427934380173264 L-ALPHA-ALANINE_c0 + 0.200830806928348 L-ASPARTATE_c0 + 0.375388847540127 LEU_c0 + 0.285438020490179 LYS_c0 + 0.127801422590767 MET_c0 + 0.00309646685192537 MG+2_c0 + 0.00309646685192537 MN+2_c0 + 0.0106480421341882 MNXM5124_c0 + 0.0106480421341882 MNXM5129_c0 + MNXM51417_c0 + 0.0106480421341882 MNXM6175_c0 + 0.0106480421341882 MNXM6297_c0 + 0.0106480421341882 MNXM6440_c0 + 0.0106480421341882 MNXM7294_c0 + 0.0106480421341882 MNXM7305_c0 + 0.0250105977108944 MNXM7630_c0 + MNXM78334_c0 + 0.00309646685192537 MNXM78362_c0 + MNXM81014_c0 + 0.00309646685192537 NADP_c0 + 0.00309646685192537 NAD_c0 + 0.154519490031345 PHE_c0 + 0.184354665339991 PRO_c0 + 0.00309646685192537 PUTRESCINE_c0 + 0.00309646685192537 PYRIDOXAL_PHOSPHATE_c0 + 0.00309646685192537 RIBOFLAVIN_c0 + 0.00309646685192537 S-ADENOSYLMETHIONINE_c0 + 0.179456352975885 SER_c0 + 0.00309646685192537 SIROHEME_c0 + 0.00309646685192537 SPERMIDINE_c0 + 0.00309646685192537 THF_c0 + 0.00309646685192537 THIAMINE-PYROPHOSPHATE_c0 + 0.211072732780569 THR_c0 + 0.0472019191450218 TRP_c0 + 0.0175915886179248 TTP_c0 + 0.120676604606612 TYR_c0 + 0.00309646685192537 UBIQUINONE-8_c0 + 0.0250105977108944 UNDECAPRENYL-DIPHOSPHATE_c0 + 0.0908319049068452 UTP_c0 + 0.352233189091625 VAL_c0 + 0.00309646685192537 ZN+2_c0 --> 40.0 ADP_c0 + BIOMASS_c0 + 39.9969035331481 CPD-16459_c0 + 0.00309646685192537 DIMETHYLBENZIMIDAZOLE_c0 + 0.00309646685192537 MNXM2214_c0 + 0.0250105977108944 MNXM5258_c0 + 0.00309646685192537 MNXM90619_c0 + 0.484604011306766 PPI_c0 + 40.0 PROTON_c0\n",
      "MN+2_c0 is in the reaction of  bio1: 0.00309646685192537 10-FORMYL-THF_c0 + 0.00309646685192537 5-METHYL-THF_c0 + 0.00309646685192537 ACP_c0 + 0.00309646685192537 ADENOSYLCOBALAMIN_c0 + 0.246696822701341 ARG_c0 + 0.200830806928348 ASN_c0 + 40.1101757365074 ATP_c0 + 0.00309646685192537 CA+2_c0 + 0.00309646685192537 CL-_c0 + 0.00309646685192537 CO+2_c0 + 0.00309646685192537 CO-A_c0 + 0.0106480421341882 CPD-12818_c0 + 0.0106480421341882 CPD-12822_c0 + 35.5403092430435 CPD-15815_c0 + 0.00309646685192537 CPD-9728_c0 + 0.0250105977108944 CPD0-2271_c0 + 0.0841036156544863 CTP_c0 + 0.00309646685192537 CU+2_c0 + 0.0761464922056484 CYS_c0 + 0.0175915886179248 DATP_c0 + 0.0144513778992424 DCTP_c0 + 0.00309646685192537 DEMETHYLMENAQUINONE_c0 + 0.0144513778992424 DGTP_c0 + 0.00309646685192537 FAD_c0 + 0.00309646685192537 FE+2_c0 + 0.00309646685192537 FE+3_c0 + 0.219088153012743 GLN_c0 + 0.219088153012743 GLT_c0 + 0.00309646685192537 GLUTATHIONE_c0 + 0.509869786991038 GLY_c0 + 0.135406821203723 GTP_c0 + 0.0792636000737159 HIS_c0 + 0.00309646685192537 HSO4_c0 + 0.241798510337235 ILE_c0 + 0.00309646685192537 K+_c0 + 0.427934380173264 L-ALPHA-ALANINE_c0 + 0.200830806928348 L-ASPARTATE_c0 + 0.375388847540127 LEU_c0 + 0.285438020490179 LYS_c0 + 0.127801422590767 MET_c0 + 0.00309646685192537 MG+2_c0 + 0.00309646685192537 MN+2_c0 + 0.0106480421341882 MNXM5124_c0 + 0.0106480421341882 MNXM5129_c0 + MNXM51417_c0 + 0.0106480421341882 MNXM6175_c0 + 0.0106480421341882 MNXM6297_c0 + 0.0106480421341882 MNXM6440_c0 + 0.0106480421341882 MNXM7294_c0 + 0.0106480421341882 MNXM7305_c0 + 0.0250105977108944 MNXM7630_c0 + MNXM78334_c0 + 0.00309646685192537 MNXM78362_c0 + MNXM81014_c0 + 0.00309646685192537 NADP_c0 + 0.00309646685192537 NAD_c0 + 0.154519490031345 PHE_c0 + 0.184354665339991 PRO_c0 + 0.00309646685192537 PUTRESCINE_c0 + 0.00309646685192537 PYRIDOXAL_PHOSPHATE_c0 + 0.00309646685192537 RIBOFLAVIN_c0 + 0.00309646685192537 S-ADENOSYLMETHIONINE_c0 + 0.179456352975885 SER_c0 + 0.00309646685192537 SIROHEME_c0 + 0.00309646685192537 SPERMIDINE_c0 + 0.00309646685192537 THF_c0 + 0.00309646685192537 THIAMINE-PYROPHOSPHATE_c0 + 0.211072732780569 THR_c0 + 0.0472019191450218 TRP_c0 + 0.0175915886179248 TTP_c0 + 0.120676604606612 TYR_c0 + 0.00309646685192537 UBIQUINONE-8_c0 + 0.0250105977108944 UNDECAPRENYL-DIPHOSPHATE_c0 + 0.0908319049068452 UTP_c0 + 0.352233189091625 VAL_c0 + 0.00309646685192537 ZN+2_c0 --> 40.0 ADP_c0 + BIOMASS_c0 + 39.9969035331481 CPD-16459_c0 + 0.00309646685192537 DIMETHYLBENZIMIDAZOLE_c0 + 0.00309646685192537 MNXM2214_c0 + 0.0250105977108944 MNXM5258_c0 + 0.00309646685192537 MNXM90619_c0 + 0.484604011306766 PPI_c0 + 40.0 PROTON_c0\n",
      "MNXM51417_c0 is in the reaction of  bio1: 0.00309646685192537 10-FORMYL-THF_c0 + 0.00309646685192537 5-METHYL-THF_c0 + 0.00309646685192537 ACP_c0 + 0.00309646685192537 ADENOSYLCOBALAMIN_c0 + 0.246696822701341 ARG_c0 + 0.200830806928348 ASN_c0 + 40.1101757365074 ATP_c0 + 0.00309646685192537 CA+2_c0 + 0.00309646685192537 CL-_c0 + 0.00309646685192537 CO+2_c0 + 0.00309646685192537 CO-A_c0 + 0.0106480421341882 CPD-12818_c0 + 0.0106480421341882 CPD-12822_c0 + 35.5403092430435 CPD-15815_c0 + 0.00309646685192537 CPD-9728_c0 + 0.0250105977108944 CPD0-2271_c0 + 0.0841036156544863 CTP_c0 + 0.00309646685192537 CU+2_c0 + 0.0761464922056484 CYS_c0 + 0.0175915886179248 DATP_c0 + 0.0144513778992424 DCTP_c0 + 0.00309646685192537 DEMETHYLMENAQUINONE_c0 + 0.0144513778992424 DGTP_c0 + 0.00309646685192537 FAD_c0 + 0.00309646685192537 FE+2_c0 + 0.00309646685192537 FE+3_c0 + 0.219088153012743 GLN_c0 + 0.219088153012743 GLT_c0 + 0.00309646685192537 GLUTATHIONE_c0 + 0.509869786991038 GLY_c0 + 0.135406821203723 GTP_c0 + 0.0792636000737159 HIS_c0 + 0.00309646685192537 HSO4_c0 + 0.241798510337235 ILE_c0 + 0.00309646685192537 K+_c0 + 0.427934380173264 L-ALPHA-ALANINE_c0 + 0.200830806928348 L-ASPARTATE_c0 + 0.375388847540127 LEU_c0 + 0.285438020490179 LYS_c0 + 0.127801422590767 MET_c0 + 0.00309646685192537 MG+2_c0 + 0.00309646685192537 MN+2_c0 + 0.0106480421341882 MNXM5124_c0 + 0.0106480421341882 MNXM5129_c0 + MNXM51417_c0 + 0.0106480421341882 MNXM6175_c0 + 0.0106480421341882 MNXM6297_c0 + 0.0106480421341882 MNXM6440_c0 + 0.0106480421341882 MNXM7294_c0 + 0.0106480421341882 MNXM7305_c0 + 0.0250105977108944 MNXM7630_c0 + MNXM78334_c0 + 0.00309646685192537 MNXM78362_c0 + MNXM81014_c0 + 0.00309646685192537 NADP_c0 + 0.00309646685192537 NAD_c0 + 0.154519490031345 PHE_c0 + 0.184354665339991 PRO_c0 + 0.00309646685192537 PUTRESCINE_c0 + 0.00309646685192537 PYRIDOXAL_PHOSPHATE_c0 + 0.00309646685192537 RIBOFLAVIN_c0 + 0.00309646685192537 S-ADENOSYLMETHIONINE_c0 + 0.179456352975885 SER_c0 + 0.00309646685192537 SIROHEME_c0 + 0.00309646685192537 SPERMIDINE_c0 + 0.00309646685192537 THF_c0 + 0.00309646685192537 THIAMINE-PYROPHOSPHATE_c0 + 0.211072732780569 THR_c0 + 0.0472019191450218 TRP_c0 + 0.0175915886179248 TTP_c0 + 0.120676604606612 TYR_c0 + 0.00309646685192537 UBIQUINONE-8_c0 + 0.0250105977108944 UNDECAPRENYL-DIPHOSPHATE_c0 + 0.0908319049068452 UTP_c0 + 0.352233189091625 VAL_c0 + 0.00309646685192537 ZN+2_c0 --> 40.0 ADP_c0 + BIOMASS_c0 + 39.9969035331481 CPD-16459_c0 + 0.00309646685192537 DIMETHYLBENZIMIDAZOLE_c0 + 0.00309646685192537 MNXM2214_c0 + 0.0250105977108944 MNXM5258_c0 + 0.00309646685192537 MNXM90619_c0 + 0.484604011306766 PPI_c0 + 40.0 PROTON_c0\n",
      "MNXM78334_c0 is in the reaction of  bio1: 0.00309646685192537 10-FORMYL-THF_c0 + 0.00309646685192537 5-METHYL-THF_c0 + 0.00309646685192537 ACP_c0 + 0.00309646685192537 ADENOSYLCOBALAMIN_c0 + 0.246696822701341 ARG_c0 + 0.200830806928348 ASN_c0 + 40.1101757365074 ATP_c0 + 0.00309646685192537 CA+2_c0 + 0.00309646685192537 CL-_c0 + 0.00309646685192537 CO+2_c0 + 0.00309646685192537 CO-A_c0 + 0.0106480421341882 CPD-12818_c0 + 0.0106480421341882 CPD-12822_c0 + 35.5403092430435 CPD-15815_c0 + 0.00309646685192537 CPD-9728_c0 + 0.0250105977108944 CPD0-2271_c0 + 0.0841036156544863 CTP_c0 + 0.00309646685192537 CU+2_c0 + 0.0761464922056484 CYS_c0 + 0.0175915886179248 DATP_c0 + 0.0144513778992424 DCTP_c0 + 0.00309646685192537 DEMETHYLMENAQUINONE_c0 + 0.0144513778992424 DGTP_c0 + 0.00309646685192537 FAD_c0 + 0.00309646685192537 FE+2_c0 + 0.00309646685192537 FE+3_c0 + 0.219088153012743 GLN_c0 + 0.219088153012743 GLT_c0 + 0.00309646685192537 GLUTATHIONE_c0 + 0.509869786991038 GLY_c0 + 0.135406821203723 GTP_c0 + 0.0792636000737159 HIS_c0 + 0.00309646685192537 HSO4_c0 + 0.241798510337235 ILE_c0 + 0.00309646685192537 K+_c0 + 0.427934380173264 L-ALPHA-ALANINE_c0 + 0.200830806928348 L-ASPARTATE_c0 + 0.375388847540127 LEU_c0 + 0.285438020490179 LYS_c0 + 0.127801422590767 MET_c0 + 0.00309646685192537 MG+2_c0 + 0.00309646685192537 MN+2_c0 + 0.0106480421341882 MNXM5124_c0 + 0.0106480421341882 MNXM5129_c0 + MNXM51417_c0 + 0.0106480421341882 MNXM6175_c0 + 0.0106480421341882 MNXM6297_c0 + 0.0106480421341882 MNXM6440_c0 + 0.0106480421341882 MNXM7294_c0 + 0.0106480421341882 MNXM7305_c0 + 0.0250105977108944 MNXM7630_c0 + MNXM78334_c0 + 0.00309646685192537 MNXM78362_c0 + MNXM81014_c0 + 0.00309646685192537 NADP_c0 + 0.00309646685192537 NAD_c0 + 0.154519490031345 PHE_c0 + 0.184354665339991 PRO_c0 + 0.00309646685192537 PUTRESCINE_c0 + 0.00309646685192537 PYRIDOXAL_PHOSPHATE_c0 + 0.00309646685192537 RIBOFLAVIN_c0 + 0.00309646685192537 S-ADENOSYLMETHIONINE_c0 + 0.179456352975885 SER_c0 + 0.00309646685192537 SIROHEME_c0 + 0.00309646685192537 SPERMIDINE_c0 + 0.00309646685192537 THF_c0 + 0.00309646685192537 THIAMINE-PYROPHOSPHATE_c0 + 0.211072732780569 THR_c0 + 0.0472019191450218 TRP_c0 + 0.0175915886179248 TTP_c0 + 0.120676604606612 TYR_c0 + 0.00309646685192537 UBIQUINONE-8_c0 + 0.0250105977108944 UNDECAPRENYL-DIPHOSPHATE_c0 + 0.0908319049068452 UTP_c0 + 0.352233189091625 VAL_c0 + 0.00309646685192537 ZN+2_c0 --> 40.0 ADP_c0 + BIOMASS_c0 + 39.9969035331481 CPD-16459_c0 + 0.00309646685192537 DIMETHYLBENZIMIDAZOLE_c0 + 0.00309646685192537 MNXM2214_c0 + 0.0250105977108944 MNXM5258_c0 + 0.00309646685192537 MNXM90619_c0 + 0.484604011306766 PPI_c0 + 40.0 PROTON_c0\n",
      "MNXM81014_c0 is in the reaction of  bio1: 0.00309646685192537 10-FORMYL-THF_c0 + 0.00309646685192537 5-METHYL-THF_c0 + 0.00309646685192537 ACP_c0 + 0.00309646685192537 ADENOSYLCOBALAMIN_c0 + 0.246696822701341 ARG_c0 + 0.200830806928348 ASN_c0 + 40.1101757365074 ATP_c0 + 0.00309646685192537 CA+2_c0 + 0.00309646685192537 CL-_c0 + 0.00309646685192537 CO+2_c0 + 0.00309646685192537 CO-A_c0 + 0.0106480421341882 CPD-12818_c0 + 0.0106480421341882 CPD-12822_c0 + 35.5403092430435 CPD-15815_c0 + 0.00309646685192537 CPD-9728_c0 + 0.0250105977108944 CPD0-2271_c0 + 0.0841036156544863 CTP_c0 + 0.00309646685192537 CU+2_c0 + 0.0761464922056484 CYS_c0 + 0.0175915886179248 DATP_c0 + 0.0144513778992424 DCTP_c0 + 0.00309646685192537 DEMETHYLMENAQUINONE_c0 + 0.0144513778992424 DGTP_c0 + 0.00309646685192537 FAD_c0 + 0.00309646685192537 FE+2_c0 + 0.00309646685192537 FE+3_c0 + 0.219088153012743 GLN_c0 + 0.219088153012743 GLT_c0 + 0.00309646685192537 GLUTATHIONE_c0 + 0.509869786991038 GLY_c0 + 0.135406821203723 GTP_c0 + 0.0792636000737159 HIS_c0 + 0.00309646685192537 HSO4_c0 + 0.241798510337235 ILE_c0 + 0.00309646685192537 K+_c0 + 0.427934380173264 L-ALPHA-ALANINE_c0 + 0.200830806928348 L-ASPARTATE_c0 + 0.375388847540127 LEU_c0 + 0.285438020490179 LYS_c0 + 0.127801422590767 MET_c0 + 0.00309646685192537 MG+2_c0 + 0.00309646685192537 MN+2_c0 + 0.0106480421341882 MNXM5124_c0 + 0.0106480421341882 MNXM5129_c0 + MNXM51417_c0 + 0.0106480421341882 MNXM6175_c0 + 0.0106480421341882 MNXM6297_c0 + 0.0106480421341882 MNXM6440_c0 + 0.0106480421341882 MNXM7294_c0 + 0.0106480421341882 MNXM7305_c0 + 0.0250105977108944 MNXM7630_c0 + MNXM78334_c0 + 0.00309646685192537 MNXM78362_c0 + MNXM81014_c0 + 0.00309646685192537 NADP_c0 + 0.00309646685192537 NAD_c0 + 0.154519490031345 PHE_c0 + 0.184354665339991 PRO_c0 + 0.00309646685192537 PUTRESCINE_c0 + 0.00309646685192537 PYRIDOXAL_PHOSPHATE_c0 + 0.00309646685192537 RIBOFLAVIN_c0 + 0.00309646685192537 S-ADENOSYLMETHIONINE_c0 + 0.179456352975885 SER_c0 + 0.00309646685192537 SIROHEME_c0 + 0.00309646685192537 SPERMIDINE_c0 + 0.00309646685192537 THF_c0 + 0.00309646685192537 THIAMINE-PYROPHOSPHATE_c0 + 0.211072732780569 THR_c0 + 0.0472019191450218 TRP_c0 + 0.0175915886179248 TTP_c0 + 0.120676604606612 TYR_c0 + 0.00309646685192537 UBIQUINONE-8_c0 + 0.0250105977108944 UNDECAPRENYL-DIPHOSPHATE_c0 + 0.0908319049068452 UTP_c0 + 0.352233189091625 VAL_c0 + 0.00309646685192537 ZN+2_c0 --> 40.0 ADP_c0 + BIOMASS_c0 + 39.9969035331481 CPD-16459_c0 + 0.00309646685192537 DIMETHYLBENZIMIDAZOLE_c0 + 0.00309646685192537 MNXM2214_c0 + 0.0250105977108944 MNXM5258_c0 + 0.00309646685192537 MNXM90619_c0 + 0.484604011306766 PPI_c0 + 40.0 PROTON_c0\n",
      "ZN+2_c0 is in the reaction of  bio1: 0.00309646685192537 10-FORMYL-THF_c0 + 0.00309646685192537 5-METHYL-THF_c0 + 0.00309646685192537 ACP_c0 + 0.00309646685192537 ADENOSYLCOBALAMIN_c0 + 0.246696822701341 ARG_c0 + 0.200830806928348 ASN_c0 + 40.1101757365074 ATP_c0 + 0.00309646685192537 CA+2_c0 + 0.00309646685192537 CL-_c0 + 0.00309646685192537 CO+2_c0 + 0.00309646685192537 CO-A_c0 + 0.0106480421341882 CPD-12818_c0 + 0.0106480421341882 CPD-12822_c0 + 35.5403092430435 CPD-15815_c0 + 0.00309646685192537 CPD-9728_c0 + 0.0250105977108944 CPD0-2271_c0 + 0.0841036156544863 CTP_c0 + 0.00309646685192537 CU+2_c0 + 0.0761464922056484 CYS_c0 + 0.0175915886179248 DATP_c0 + 0.0144513778992424 DCTP_c0 + 0.00309646685192537 DEMETHYLMENAQUINONE_c0 + 0.0144513778992424 DGTP_c0 + 0.00309646685192537 FAD_c0 + 0.00309646685192537 FE+2_c0 + 0.00309646685192537 FE+3_c0 + 0.219088153012743 GLN_c0 + 0.219088153012743 GLT_c0 + 0.00309646685192537 GLUTATHIONE_c0 + 0.509869786991038 GLY_c0 + 0.135406821203723 GTP_c0 + 0.0792636000737159 HIS_c0 + 0.00309646685192537 HSO4_c0 + 0.241798510337235 ILE_c0 + 0.00309646685192537 K+_c0 + 0.427934380173264 L-ALPHA-ALANINE_c0 + 0.200830806928348 L-ASPARTATE_c0 + 0.375388847540127 LEU_c0 + 0.285438020490179 LYS_c0 + 0.127801422590767 MET_c0 + 0.00309646685192537 MG+2_c0 + 0.00309646685192537 MN+2_c0 + 0.0106480421341882 MNXM5124_c0 + 0.0106480421341882 MNXM5129_c0 + MNXM51417_c0 + 0.0106480421341882 MNXM6175_c0 + 0.0106480421341882 MNXM6297_c0 + 0.0106480421341882 MNXM6440_c0 + 0.0106480421341882 MNXM7294_c0 + 0.0106480421341882 MNXM7305_c0 + 0.0250105977108944 MNXM7630_c0 + MNXM78334_c0 + 0.00309646685192537 MNXM78362_c0 + MNXM81014_c0 + 0.00309646685192537 NADP_c0 + 0.00309646685192537 NAD_c0 + 0.154519490031345 PHE_c0 + 0.184354665339991 PRO_c0 + 0.00309646685192537 PUTRESCINE_c0 + 0.00309646685192537 PYRIDOXAL_PHOSPHATE_c0 + 0.00309646685192537 RIBOFLAVIN_c0 + 0.00309646685192537 S-ADENOSYLMETHIONINE_c0 + 0.179456352975885 SER_c0 + 0.00309646685192537 SIROHEME_c0 + 0.00309646685192537 SPERMIDINE_c0 + 0.00309646685192537 THF_c0 + 0.00309646685192537 THIAMINE-PYROPHOSPHATE_c0 + 0.211072732780569 THR_c0 + 0.0472019191450218 TRP_c0 + 0.0175915886179248 TTP_c0 + 0.120676604606612 TYR_c0 + 0.00309646685192537 UBIQUINONE-8_c0 + 0.0250105977108944 UNDECAPRENYL-DIPHOSPHATE_c0 + 0.0908319049068452 UTP_c0 + 0.352233189091625 VAL_c0 + 0.00309646685192537 ZN+2_c0 --> 40.0 ADP_c0 + BIOMASS_c0 + 39.9969035331481 CPD-16459_c0 + 0.00309646685192537 DIMETHYLBENZIMIDAZOLE_c0 + 0.00309646685192537 MNXM2214_c0 + 0.0250105977108944 MNXM5258_c0 + 0.00309646685192537 MNXM90619_c0 + 0.484604011306766 PPI_c0 + 40.0 PROTON_c0\n"
     ]
    }
   ],
   "source": [
    "direct_met_reaction_dict={}\n",
    "for reac in model.reactions:\n",
    "    for rmet in reac.metabolites:\n",
    "    \n",
    "        if  rmet in direct_met:\n",
    "            #direct_met_reaction_dict[direct_met].append(rmet)\n",
    "            print(rmet, \"is in the reaction of \", reac)\n",
    "            \n",
    "            \n"
   ]
  },
  {
   "cell_type": "markdown",
   "metadata": {},
   "source": [
    "Setting the direct precursors to medium, those that are already in the medium are found, the other direct metabolites cannot be found among the mediums. "
   ]
  },
  {
   "cell_type": "code",
   "execution_count": 16,
   "metadata": {},
   "outputs": [
    {
     "data": {
      "text/html": [
       "\n",
       "        <table>\n",
       "            <tr>\n",
       "                <td><strong>Metabolite identifier</strong></td><td>MNXM81014_e0</td>\n",
       "            </tr><tr>\n",
       "                <td><strong>Name</strong></td><td></td>\n",
       "            </tr><tr>\n",
       "                <td><strong>Memory address</strong></td>\n",
       "                <td>0x011353ec88</td>\n",
       "            </tr><tr>\n",
       "                <td><strong>Formula</strong></td><td></td>\n",
       "            </tr><tr>\n",
       "                <td><strong>Compartment</strong></td><td>e0</td>\n",
       "            </tr><tr>\n",
       "                <td><strong>In 0 reaction(s)</strong></td><td>\n",
       "                    </td>\n",
       "            </tr>\n",
       "        </table>"
      ],
      "text/plain": [
       "<Metabolite MNXM81014_e0 at 0x11353ec88>"
      ]
     },
     "execution_count": 16,
     "metadata": {},
     "output_type": "execute_result"
    },
    {
     "data": {
      "text/plain": [
       "<bound method Metabolite.remove_from_model of <Metabolite K+_e0 at 0x11353e518>>"
      ]
     },
     "execution_count": 16,
     "metadata": {},
     "output_type": "execute_result"
    },
    {
     "data": {
      "text/plain": [
       "<bound method Metabolite.remove_from_model of <Metabolite K+_c0 at 0x11353e438>>"
      ]
     },
     "execution_count": 16,
     "metadata": {},
     "output_type": "execute_result"
    },
    {
     "data": {
      "text/plain": [
       "'K+_e0 + MNXM81014_c0 <=> K+_c0 + MNXM81014_e0'"
      ]
     },
     "execution_count": 16,
     "metadata": {},
     "output_type": "execute_result"
    },
    {
     "data": {
      "text/html": [
       "\n",
       "        <table>\n",
       "            <tr>\n",
       "                <td><strong>Metabolite identifier</strong></td><td>MNXM51417_e0</td>\n",
       "            </tr><tr>\n",
       "                <td><strong>Name</strong></td><td></td>\n",
       "            </tr><tr>\n",
       "                <td><strong>Memory address</strong></td>\n",
       "                <td>0x011353e240</td>\n",
       "            </tr><tr>\n",
       "                <td><strong>Formula</strong></td><td></td>\n",
       "            </tr><tr>\n",
       "                <td><strong>Compartment</strong></td><td>e0</td>\n",
       "            </tr><tr>\n",
       "                <td><strong>In 0 reaction(s)</strong></td><td>\n",
       "                    </td>\n",
       "            </tr>\n",
       "        </table>"
      ],
      "text/plain": [
       "<Metabolite MNXM51417_e0 at 0x11353e240>"
      ]
     },
     "execution_count": 16,
     "metadata": {},
     "output_type": "execute_result"
    },
    {
     "data": {
      "text/plain": [
       "<bound method Metabolite.remove_from_model of <Metabolite K+_e0 at 0x113528dd8>>"
      ]
     },
     "execution_count": 16,
     "metadata": {},
     "output_type": "execute_result"
    },
    {
     "data": {
      "text/plain": [
       "<bound method Metabolite.remove_from_model of <Metabolite K+_c0 at 0x113528cc0>>"
      ]
     },
     "execution_count": 16,
     "metadata": {},
     "output_type": "execute_result"
    },
    {
     "data": {
      "text/plain": [
       "'K+_e0 + MNXM51417_c0 <=> K+_c0 + MNXM51417_e0'"
      ]
     },
     "execution_count": 16,
     "metadata": {},
     "output_type": "execute_result"
    },
    {
     "data": {
      "text/html": [
       "\n",
       "        <table>\n",
       "            <tr>\n",
       "                <td><strong>Metabolite identifier</strong></td><td>MG+2_e0</td>\n",
       "            </tr><tr>\n",
       "                <td><strong>Name</strong></td><td></td>\n",
       "            </tr><tr>\n",
       "                <td><strong>Memory address</strong></td>\n",
       "                <td>0x0113528ba8</td>\n",
       "            </tr><tr>\n",
       "                <td><strong>Formula</strong></td><td></td>\n",
       "            </tr><tr>\n",
       "                <td><strong>Compartment</strong></td><td>e0</td>\n",
       "            </tr><tr>\n",
       "                <td><strong>In 0 reaction(s)</strong></td><td>\n",
       "                    </td>\n",
       "            </tr>\n",
       "        </table>"
      ],
      "text/plain": [
       "<Metabolite MG+2_e0 at 0x113528ba8>"
      ]
     },
     "execution_count": 16,
     "metadata": {},
     "output_type": "execute_result"
    },
    {
     "data": {
      "text/plain": [
       "<bound method Metabolite.remove_from_model of <Metabolite K+_e0 at 0x113528710>>"
      ]
     },
     "execution_count": 16,
     "metadata": {},
     "output_type": "execute_result"
    },
    {
     "data": {
      "text/plain": [
       "<bound method Metabolite.remove_from_model of <Metabolite K+_c0 at 0x113528630>>"
      ]
     },
     "execution_count": 16,
     "metadata": {},
     "output_type": "execute_result"
    },
    {
     "data": {
      "text/plain": [
       "'K+_e0 + MG+2_c0 <=> K+_c0 + MG+2_e0'"
      ]
     },
     "execution_count": 16,
     "metadata": {},
     "output_type": "execute_result"
    },
    {
     "data": {
      "text/html": [
       "\n",
       "        <table>\n",
       "            <tr>\n",
       "                <td><strong>Metabolite identifier</strong></td><td>MN+2_e0</td>\n",
       "            </tr><tr>\n",
       "                <td><strong>Name</strong></td><td></td>\n",
       "            </tr><tr>\n",
       "                <td><strong>Memory address</strong></td>\n",
       "                <td>0x0113528ac8</td>\n",
       "            </tr><tr>\n",
       "                <td><strong>Formula</strong></td><td></td>\n",
       "            </tr><tr>\n",
       "                <td><strong>Compartment</strong></td><td>e0</td>\n",
       "            </tr><tr>\n",
       "                <td><strong>In 0 reaction(s)</strong></td><td>\n",
       "                    </td>\n",
       "            </tr>\n",
       "        </table>"
      ],
      "text/plain": [
       "<Metabolite MN+2_e0 at 0x113528ac8>"
      ]
     },
     "execution_count": 16,
     "metadata": {},
     "output_type": "execute_result"
    },
    {
     "data": {
      "text/plain": [
       "<bound method Metabolite.remove_from_model of <Metabolite K+_e0 at 0x1135280f0>>"
      ]
     },
     "execution_count": 16,
     "metadata": {},
     "output_type": "execute_result"
    },
    {
     "data": {
      "text/plain": [
       "<bound method Metabolite.remove_from_model of <Metabolite K+_c0 at 0x1135281d0>>"
      ]
     },
     "execution_count": 16,
     "metadata": {},
     "output_type": "execute_result"
    },
    {
     "data": {
      "text/plain": [
       "'K+_e0 + MN+2_c0 <=> K+_c0 + MN+2_e0'"
      ]
     },
     "execution_count": 16,
     "metadata": {},
     "output_type": "execute_result"
    },
    {
     "data": {
      "text/html": [
       "\n",
       "        <table>\n",
       "            <tr>\n",
       "                <td><strong>Metabolite identifier</strong></td><td>CU+2_e0</td>\n",
       "            </tr><tr>\n",
       "                <td><strong>Name</strong></td><td></td>\n",
       "            </tr><tr>\n",
       "                <td><strong>Memory address</strong></td>\n",
       "                <td>0x0113528390</td>\n",
       "            </tr><tr>\n",
       "                <td><strong>Formula</strong></td><td></td>\n",
       "            </tr><tr>\n",
       "                <td><strong>Compartment</strong></td><td>e0</td>\n",
       "            </tr><tr>\n",
       "                <td><strong>In 0 reaction(s)</strong></td><td>\n",
       "                    </td>\n",
       "            </tr>\n",
       "        </table>"
      ],
      "text/plain": [
       "<Metabolite CU+2_e0 at 0x113528390>"
      ]
     },
     "execution_count": 16,
     "metadata": {},
     "output_type": "execute_result"
    },
    {
     "data": {
      "text/plain": [
       "<bound method Metabolite.remove_from_model of <Metabolite K+_e0 at 0x11350eb00>>"
      ]
     },
     "execution_count": 16,
     "metadata": {},
     "output_type": "execute_result"
    },
    {
     "data": {
      "text/plain": [
       "<bound method Metabolite.remove_from_model of <Metabolite K+_c0 at 0x11350ea20>>"
      ]
     },
     "execution_count": 16,
     "metadata": {},
     "output_type": "execute_result"
    },
    {
     "data": {
      "text/plain": [
       "'CU+2_c0 + K+_e0 <=> CU+2_e0 + K+_c0'"
      ]
     },
     "execution_count": 16,
     "metadata": {},
     "output_type": "execute_result"
    },
    {
     "data": {
      "text/html": [
       "\n",
       "        <table>\n",
       "            <tr>\n",
       "                <td><strong>Metabolite identifier</strong></td><td>ZN+2_e0</td>\n",
       "            </tr><tr>\n",
       "                <td><strong>Name</strong></td><td></td>\n",
       "            </tr><tr>\n",
       "                <td><strong>Memory address</strong></td>\n",
       "                <td>0x011350eda0</td>\n",
       "            </tr><tr>\n",
       "                <td><strong>Formula</strong></td><td></td>\n",
       "            </tr><tr>\n",
       "                <td><strong>Compartment</strong></td><td>e0</td>\n",
       "            </tr><tr>\n",
       "                <td><strong>In 0 reaction(s)</strong></td><td>\n",
       "                    </td>\n",
       "            </tr>\n",
       "        </table>"
      ],
      "text/plain": [
       "<Metabolite ZN+2_e0 at 0x11350eda0>"
      ]
     },
     "execution_count": 16,
     "metadata": {},
     "output_type": "execute_result"
    },
    {
     "data": {
      "text/plain": [
       "<bound method Metabolite.remove_from_model of <Metabolite K+_e0 at 0x11350e4e0>>"
      ]
     },
     "execution_count": 16,
     "metadata": {},
     "output_type": "execute_result"
    },
    {
     "data": {
      "text/plain": [
       "<bound method Metabolite.remove_from_model of <Metabolite K+_c0 at 0x11350e400>>"
      ]
     },
     "execution_count": 16,
     "metadata": {},
     "output_type": "execute_result"
    },
    {
     "data": {
      "text/plain": [
       "'K+_e0 + ZN+2_c0 <=> K+_c0 + ZN+2_e0'"
      ]
     },
     "execution_count": 16,
     "metadata": {},
     "output_type": "execute_result"
    },
    {
     "data": {
      "text/html": [
       "\n",
       "        <table>\n",
       "            <tr>\n",
       "                <td><strong>Metabolite identifier</strong></td><td>K+_e0</td>\n",
       "            </tr><tr>\n",
       "                <td><strong>Name</strong></td><td></td>\n",
       "            </tr><tr>\n",
       "                <td><strong>Memory address</strong></td>\n",
       "                <td>0x011350e828</td>\n",
       "            </tr><tr>\n",
       "                <td><strong>Formula</strong></td><td></td>\n",
       "            </tr><tr>\n",
       "                <td><strong>Compartment</strong></td><td>e0</td>\n",
       "            </tr><tr>\n",
       "                <td><strong>In 0 reaction(s)</strong></td><td>\n",
       "                    </td>\n",
       "            </tr>\n",
       "        </table>"
      ],
      "text/plain": [
       "<Metabolite K+_e0 at 0x11350e828>"
      ]
     },
     "execution_count": 16,
     "metadata": {},
     "output_type": "execute_result"
    },
    {
     "data": {
      "text/plain": [
       "<bound method Metabolite.remove_from_model of <Metabolite K+_e0 at 0x1135281d0>>"
      ]
     },
     "execution_count": 16,
     "metadata": {},
     "output_type": "execute_result"
    },
    {
     "data": {
      "text/plain": [
       "<bound method Metabolite.remove_from_model of <Metabolite K+_c0 at 0x113528518>>"
      ]
     },
     "execution_count": 16,
     "metadata": {},
     "output_type": "execute_result"
    },
    {
     "data": {
      "text/plain": [
       "' <=> '"
      ]
     },
     "execution_count": 16,
     "metadata": {},
     "output_type": "execute_result"
    },
    {
     "data": {
      "text/html": [
       "\n",
       "        <table>\n",
       "            <tr>\n",
       "                <td><strong>Metabolite identifier</strong></td><td>MNXM78334_e0</td>\n",
       "            </tr><tr>\n",
       "                <td><strong>Name</strong></td><td></td>\n",
       "            </tr><tr>\n",
       "                <td><strong>Memory address</strong></td>\n",
       "                <td>0x011350e160</td>\n",
       "            </tr><tr>\n",
       "                <td><strong>Formula</strong></td><td></td>\n",
       "            </tr><tr>\n",
       "                <td><strong>Compartment</strong></td><td>e0</td>\n",
       "            </tr><tr>\n",
       "                <td><strong>In 0 reaction(s)</strong></td><td>\n",
       "                    </td>\n",
       "            </tr>\n",
       "        </table>"
      ],
      "text/plain": [
       "<Metabolite MNXM78334_e0 at 0x11350e160>"
      ]
     },
     "execution_count": 16,
     "metadata": {},
     "output_type": "execute_result"
    },
    {
     "data": {
      "text/plain": [
       "<bound method Metabolite.remove_from_model of <Metabolite K+_e0 at 0x11353eb00>>"
      ]
     },
     "execution_count": 16,
     "metadata": {},
     "output_type": "execute_result"
    },
    {
     "data": {
      "text/plain": [
       "<bound method Metabolite.remove_from_model of <Metabolite K+_c0 at 0x11353e828>>"
      ]
     },
     "execution_count": 16,
     "metadata": {},
     "output_type": "execute_result"
    },
    {
     "data": {
      "text/plain": [
       "'K+_e0 + MNXM78334_c0 <=> K+_c0 + MNXM78334_e0'"
      ]
     },
     "execution_count": 16,
     "metadata": {},
     "output_type": "execute_result"
    },
    {
     "data": {
      "text/html": [
       "\n",
       "        <table>\n",
       "            <tr>\n",
       "                <td><strong>Metabolite identifier</strong></td><td>CA+2_e0</td>\n",
       "            </tr><tr>\n",
       "                <td><strong>Name</strong></td><td></td>\n",
       "            </tr><tr>\n",
       "                <td><strong>Memory address</strong></td>\n",
       "                <td>0x0113556630</td>\n",
       "            </tr><tr>\n",
       "                <td><strong>Formula</strong></td><td></td>\n",
       "            </tr><tr>\n",
       "                <td><strong>Compartment</strong></td><td>e0</td>\n",
       "            </tr><tr>\n",
       "                <td><strong>In 0 reaction(s)</strong></td><td>\n",
       "                    </td>\n",
       "            </tr>\n",
       "        </table>"
      ],
      "text/plain": [
       "<Metabolite CA+2_e0 at 0x113556630>"
      ]
     },
     "execution_count": 16,
     "metadata": {},
     "output_type": "execute_result"
    },
    {
     "data": {
      "text/plain": [
       "<bound method Metabolite.remove_from_model of <Metabolite K+_e0 at 0x1134f9cf8>>"
      ]
     },
     "execution_count": 16,
     "metadata": {},
     "output_type": "execute_result"
    },
    {
     "data": {
      "text/plain": [
       "<bound method Metabolite.remove_from_model of <Metabolite K+_c0 at 0x1134f9c18>>"
      ]
     },
     "execution_count": 16,
     "metadata": {},
     "output_type": "execute_result"
    },
    {
     "data": {
      "text/plain": [
       "'CA+2_c0 + K+_e0 <=> CA+2_e0 + K+_c0'"
      ]
     },
     "execution_count": 16,
     "metadata": {},
     "output_type": "execute_result"
    },
    {
     "data": {
      "text/html": [
       "\n",
       "        <table>\n",
       "            <tr>\n",
       "                <td><strong>Reaction identifier</strong></td><td>TRANS-RXN-143_c0</td>\n",
       "            </tr><tr>\n",
       "                <td><strong>Name</strong></td><td>TRANS_RXN_187ce_c0</td>\n",
       "            </tr><tr>\n",
       "                <td><strong>Memory address</strong></td>\n",
       "                <td>0x01167e2748</td>\n",
       "            </tr><tr>\n",
       "                <td><strong>Stoichiometry</strong></td>\n",
       "                <td>\n",
       "                    <p style='text-align:right'>K+_e0 <=> K+_c0</p>\n",
       "                    <p style='text-align:right'>K_plus_ <=> K_plus_</p>\n",
       "                </td>\n",
       "            </tr><tr>\n",
       "                <td><strong>GPR</strong></td><td>PN96_RS22240 or PN96_RS19215</td>\n",
       "            </tr><tr>\n",
       "                <td><strong>Lower bound</strong></td><td>-1000.0</td>\n",
       "            </tr><tr>\n",
       "                <td><strong>Upper bound</strong></td><td>1000.0</td>\n",
       "            </tr>\n",
       "        </table>\n",
       "        "
      ],
      "text/plain": [
       "<Reaction TRANS-RXN-143_c0 at 0x1167e2748>"
      ]
     },
     "execution_count": 16,
     "metadata": {},
     "output_type": "execute_result"
    }
   ],
   "source": [
    " \n",
    "with model:\n",
    "    \n",
    "    for d in direct_list:\n",
    "        pre1, suff1 =d.split(\"_\")\n",
    "        \n",
    "        \n",
    "        #create a new metabolite in the e0 compartment\n",
    "        mcopy=model.metabolites.get_by_id(\"K+_c0\").copy()\n",
    "        mcopy.compartment = 'e0'\n",
    "        mcopy.id = pre1+\"_e0\"\n",
    "        mcopy.formula=\"\"\n",
    "        mcopy.name=\"\"\n",
    "        model.add_metabolites(mcopy)\n",
    "        \n",
    "        mcopy\n",
    "        #create a new reaction between the c0 and e0 compartment\n",
    "        \n",
    "        rcopy=model.reactions.get_by_id(\"TRANS-RXN-143_c0\").copy()\n",
    "        rcopy.id=\"TRANS_\"+d\n",
    "        for r in rcopy.metabolites:\n",
    "            r.remove_from_model\n",
    "        #model.reactions.get_by_id(rcopy).subtract_metabolites()   \n",
    "        rcopy.name=\"\"\n",
    "        rcopy.gene_reaction_rule=\"\"\n",
    "        pre, suff=mcopy.id.split(\"_\")\n",
    "        rcopy.add_metabolites({\n",
    "        model.metabolites.get_by_id(pre+\"_c0\"): -1.0, model.metabolites.get_by_id(mcopy.id): 1.0 })\n",
    "        rcopy.reaction\n",
    "        \n",
    "model.reactions.get_by_id(\"TRANS-RXN-143_c0\")   \n"
   ]
  },
  {
   "cell_type": "code",
   "execution_count": null,
   "metadata": {},
   "outputs": [],
   "source": [
    "from memote.support.helpers import find_transport_reactions"
   ]
  },
  {
   "cell_type": "code",
   "execution_count": null,
   "metadata": {},
   "outputs": [],
   "source": [
    "for rxn in model.metabolites.MNXM5129_c0.reactions:\n",
    "    rxn\n",
    "    if rxn in find_transport_reactions(model):\n",
    "        print(rxn.id)"
   ]
  },
  {
   "cell_type": "code",
   "execution_count": null,
   "metadata": {},
   "outputs": [],
   "source": [
    "for met in model.reactions.MNXR136333_c0.metabolites:\n",
    "    print(met.compartment, met.formula)\n",
    "model.reactions.MNXR136333_c0.copy"
   ]
  },
  {
   "cell_type": "code",
   "execution_count": null,
   "metadata": {},
   "outputs": [],
   "source": [
    "for met in model.reactions.MNXR136261_c0.metabolites:\n",
    "    print(met, met.compartment, met.formula, met.annotation)\n",
    "model.reactions.MNXR136261_c0.reaction\n",
    "model.reactions.MNXR136261_c0.annotation"
   ]
  },
  {
   "cell_type": "code",
   "execution_count": null,
   "metadata": {},
   "outputs": [],
   "source": [
    "for met in model.reactions.MNXR136333_c0.metabolites:\n",
    "    print(met, met.compartment, met.formula)\n",
    "model.reactions.MNXR136333_c0.reaction"
   ]
  },
  {
   "cell_type": "code",
   "execution_count": null,
   "metadata": {},
   "outputs": [],
   "source": [
    "len(find_transport_reactions(model))\n"
   ]
  },
  {
   "cell_type": "code",
   "execution_count": null,
   "metadata": {},
   "outputs": [],
   "source": [
    "\n",
    "with model: \n",
    "   # add_ex = model.add_boundary(model.metabolites.MNXM6175_c0, type=\"exchange\")\n",
    "    #add_ex.id\n",
    "    \n",
    "    for d in direct_met:\n",
    "        if d not in model.medium:\n",
    "            metd=d.id\n",
    "            model.metabolites.get_by_id(metd)\n",
    "            model.add_boundary(model.metabolites.get_by_id(d.id), type=\"exchange\", reaction_id=\"EX\"+\"_\"+metd, lb=-1000, ub=1000)\n",
    "        #model.reactions.add(add_ex)\n",
    "        #model.reactions.EX\n",
    "    for reac in model.reactions:\n",
    "        \n",
    "        if reac.id.startswith(\"EX\"):\n",
    "            print(reac.id)\n",
    "    \n",
    "    model.medium\n",
    "    model.optimize()\n",
    "    model.exchanges\n",
    "    for reac in model.reactions:\n",
    "        B=is_boundary_type(reac, \"exchange\", \"c0\")\n",
    "    \n",
    "        if B :\n",
    "            reac.id\n",
    "    \n",
    "        "
   ]
  },
  {
   "cell_type": "code",
   "execution_count": null,
   "metadata": {},
   "outputs": [],
   "source": [
    "from memote.support.helpers import find_biomass_reaction\n",
    "with model:\n",
    "    model.reactions.bio1.annotation['sbo'] = 'SBO:0000629'\n",
    "    #model.reactions.bio1.annotation['SBO'] = 'SBO:0000629'\n",
    "    model.reactions.bio1.annotation\n",
    "    #model.reactions.bio1.id=\"biomass\"\n",
    "\n",
    "    biomass_reac=find_biomass_reaction(model)\n",
    "    biomass_reac\n",
    "\n",
    "#write_sbml_model(model, \"/Users/lizrad/Dev/iVnat/iVnat.xml\")\n",
    "    "
   ]
  },
  {
   "cell_type": "code",
   "execution_count": null,
   "metadata": {},
   "outputs": [],
   "source": [
    "#what is the id for the selected substrates from seed id\n",
    "substrate=[\"cpd00076\",\"cpd00027\", \"cpd00080\",\"cpd00179\", \"cpd00082\", \"cpd00036\", \"cpd00224\", \"cpd00314\", \"cpd00020\",\"cpd00029\",\"cpd00154\",\n",
    "           \"cpd00208\",\"cpd00138\",\"cpd00158\",\"cpd00363\",\"cpd00116\",\"cpd00047\"]\n",
    "\n",
    "for met in model.metabolites:\n",
    "    if met.annotation[\"seed.compound\"] in substrate and met.compartment==\"c0\":\n",
    "        print(met.id, met.annotation[\"seed.compound\"] )\n",
    "\n",
    "        \n",
    "#does the subsrate have exchange reaction        \n",
    "\n",
    "ex_substrate=[]        \n",
    "for exchange in medium_dict.keys():\n",
    "    ex, seed, suff=exchange.split(\"_\")\n",
    "    if  seed in substrate:\n",
    "        print(exchange, medium_dict[exchange])\n",
    "        ex_substrate.append(exchange)\n",
    "\n",
    "\n"
   ]
  },
  {
   "cell_type": "markdown",
   "metadata": {},
   "source": [
    "### Transport reaction bug"
   ]
  },
  {
   "cell_type": "code",
   "execution_count": null,
   "metadata": {},
   "outputs": [],
   "source": [
    "from __future__ import absolute_import\n",
    "\n",
    "import logging\n",
    "import re\n",
    "from collections import defaultdict\n",
    "from operator import itemgetter\n",
    "\n",
    "\n",
    "import numpy as np\n",
    "import pandas as pd\n",
    "from six import iteritems, itervalues\n",
    "from sympy import expand\n",
    "from importlib_resources import open_text\n",
    "from cobra.exceptions import Infeasible\n",
    "from cobra.medium import find_boundary_types\n",
    "from pylru import lrudecorator\n",
    "\n",
    "import memote.utils as utils\n",
    "import memote.support.data\n",
    "import memote.utils as utils\n",
    "import memote.support.data\n",
    "from memote.support.helpers import find_biomass_reaction"
   ]
  },
  {
   "cell_type": "code",
   "execution_count": null,
   "metadata": {},
   "outputs": [],
   "source": [
    "import memote\n",
    "import cobra"
   ]
  },
  {
   "cell_type": "code",
   "execution_count": null,
   "metadata": {},
   "outputs": [],
   "source": [
    "from cobra import Model, Reaction, Metabolite\n",
    "# Best practise: SBML compliant IDs\n",
    "model2 = Model('example_model')\n",
    "\n",
    "#def abc_pump_annotations(base):\n",
    "   # \"\"\"Provide a model with an ABC transport reaction.\"\"\"\n",
    "atp = cobra.Metabolite(\"atp_c\", compartment=\"c\")\n",
    "adp = cobra.Metabolite(\"adp_c\", compartment=\"c\")\n",
    "h = cobra.Metabolite(\"h_c\", formula=\"H\",compartment=\"c\")\n",
    "pi = cobra.Metabolite(\"pi_c\", compartment=\"c\")\n",
    "h2o = cobra.Metabolite(\"h2o_c\", formula=\"H2O\", compartment=\"c\")\n",
    "aso_c = cobra.Metabolite(\"aso3_c\", compartment=\"c\")\n",
    "aso_e = cobra.Metabolite(\"aso3_e\", compartment=\"e\")\n",
    "\n",
    "atp.annotation[\"biocyc\"] = [\"META:ATP\", \"META:CPD0-1634\"]\n",
    "adp.annotation[\"biocyc\"] = [\"META:ADP\", \"META:CPD0-1651\"]\n",
    "h.annotation[\"biocyc\"] = \"META:PROTON\"\n",
    "pi.annotation[\"biocyc\"] = [\"META:CPD-16459\", \"META:CPD-9010\"]\n",
    "h2o.annotation[\"biocyc\"] = [\"META:CPD-15815\", \"META:HYDROXYL-GROUP\"]\n",
    "aso_c.annotation[\"biocyc\"] = [\"META:CPD0-2040\", \"META:CPD-763\"]\n",
    "aso_e.annotation[\"biocyc\"] = [\"META:CPD0-2040\", \"META:CPD-763\"]\n",
    "\n",
    "pump = cobra.Reaction(\"PUMP\")\n",
    "pump.add_metabolites({aso_c: -1, atp: -1, h2o: -1,\n",
    "                          adp: 1, h: 1, pi: 1, aso_e: 1})\n",
    "model2.add_reactions([pump])\n",
    "####################\n",
    "MNXM11392_c0 = cobra.Metabolite(\"MNXM11392_c0\", formula=\"C40H78O13P2\", compartment=\"c\" )\n",
    "MNXM5129_c0 = cobra.Metabolite(\"MNXM5129_c0\", formula=\"C40H78O10P\", compartment=\"c\" )\n",
    "CPD_16459_c0 = cobra.Metabolite(\"CPD_16459_c0\", formula=\"HO4P\", compartment=\"c\" )\n",
    "\n",
    "#MNXM11392_c0 = cobra.Metabolite(\"MNXM11392_c0\",  compartment=\"c\" )\n",
    "#MNXM5129_c0 = cobra.Metabolite(\"MNXM5129_c0\",  compartment=\"c\" )\n",
    "#CPD_16459_c0=cobra.Metabolite(\"MNXM5129_c0\",  compartment=\"c\" )\n",
    "h2o.annotation['bigg.metabolite']=['h2o', 'oh1']\n",
    "h2o.annotation[\"chebi\"]=['CHEBI:15377']\n",
    "h2o.annotation['inchi']=['InChI=1S/H2O/h1H2']\n",
    "MNXM11392_c0.annotation={'inchi': 'MISSING', 'inchikey': 'MISSING', 'metanetx.chemical': 'MNXM11392', 'seed.compound': 'cpd15716', 'smiles': 'MISSING'}\n",
    "CPD_16459_c0.annotation={'bigg.metabolite': 'pi', 'biocyc': ['CPD-16459', 'CPD-9010', 'PHOSPHATE-GROUP', 'Pi'], 'chebi': 'CHEBI:43474', 'inchi': 'InChI=1S/H3O4P/c1-5(2,3)4/h(H3,1,2,3,4)/p-2', 'inchikey': 'NBIIXXVUZAFLBC-UHFFFAOYSA-L', 'kegg.compound': ['C00009', 'C13558'], 'metanetx.chemical': 'MNXM9', 'seed.compound': 'cpd00009', 'smiles': 'OP([O-])([O-])=O'}\n",
    "MNXM5129_c0.annotation={'inchi': 'MISSING', 'inchikey': 'MISSING', 'metanetx.chemical': 'MNXM5129', 'seed.compound': 'cpd15722', 'smiles': 'MISSING'}\n",
    "\n",
    "\n",
    "\n",
    "MNXR136261_c0=cobra.Reaction(\"MNXR136261_c0\")\n",
    "MNXR136261_c0.add_metabolites({ MNXM11392_c0: -1, h2o: -1,\n",
    "                           h: 1, CPD_16459_c0: 1, MNXM5129_c0: 1})\n",
    "\n",
    "model2.add_reactions([MNXR136261_c0])\n",
    "#'CPD-15815_c0 + MNXM11392_c0 --> CPD-16459_c0 + MNXM5129_c0 + PROTON_c0'\n",
    "####################\n",
    "\n",
    "\n",
    "GLYCEROL_c0 = cobra.Metabolite(\"GLYCEROL_c0\", formula=\"C3H8O3\", compartment=\"c\" )\n",
    "MNXM6297_c0 = cobra.Metabolite(\"MNXM6297_c0\", formula=\"C77H148O17P2\", compartment=\"c\" )\n",
    "\n",
    "\n",
    "MNXR136333_c0=cobra.Reaction(\"MNXR136333_c0\", lower_bound=-1000)\n",
    "MNXR136333_c0.add_metabolites({ MNXM5129_c0: -2, GLYCEROL_c0: 1,\n",
    "                           MNXM6297_c0: 1})\n",
    "\n",
    "model2.add_reactions([MNXR136333_c0])\n",
    "\n",
    "\n",
    "\n",
    "\n",
    "model2\n",
    "    #return base\n",
    "print('%i reaction' % len(model2.reactions))\n",
    "print('%i metabolites' % len(model2.metabolites))\n",
    "print('%i genes' % len(model2.genes))\n",
    "pump.reaction\n",
    "MNXR136261_c0.reaction\n",
    "MNXR136333_c0.reaction\n",
    "MNXM5129_c0.annotation\n",
    "    \n"
   ]
  },
  {
   "cell_type": "code",
   "execution_count": null,
   "metadata": {},
   "outputs": [],
   "source": [
    "def find_biomass_reaction(model):\n",
    "    \"\"\"\n",
    "    Return a list of the biomass reaction(s) of the model.\n",
    "    This function identifies possible biomass reactions using two steps:\n",
    "    1. Return reactions that include the SBO annotation \"SBO:0000629\" for\n",
    "    biomass.\n",
    "    If no reactions can be identifies this way:\n",
    "    2. Look for the ``buzzwords`` \"biomass\", \"growth\" and \"bof\" in reaction IDs.\n",
    "    3. Look for metabolite IDs or names that contain the ``buzzword`` \"biomass\"\n",
    "    and obtain the set of reactions they are involved in.\n",
    "    4. Remove boundary reactions from this set.\n",
    "    5. Return the union of reactions that match the buzzwords and of the\n",
    "    reactions that metabolites are involved in that match the buzzword.\n",
    "    Parameters\n",
    "    ----------\n",
    "    model : cobra.Model\n",
    "        The metabolic model under investigation.\n",
    "    Returns\n",
    "    -------\n",
    "    list\n",
    "        Identified biomass reactions.\n",
    "    \"\"\"\n",
    "    sbo_matches = set([rxn for rxn in model.reactions if\n",
    "                       rxn.annotation is not None and\n",
    "                       'SBO' in rxn.annotation and\n",
    "                       rxn.annotation['SBO'] == 'SBO:0000629'])\n",
    "\n",
    "    if len(sbo_matches) > 0:\n",
    "        return list(sbo_matches)\n",
    "\n",
    "    buzzwords = ['biomass', 'growth', 'bof']\n",
    "\n",
    "    buzzword_matches = set([rxn for rxn in model.reactions if any(\n",
    "        string in rxn.id.lower() for string in buzzwords)])\n",
    "\n",
    "    biomass_met = []\n",
    "    for met in model.metabolites:\n",
    "        if met.id.lower().startswith('biomass') or met.name.lower().startswith(\n",
    "            'biomass'\n",
    "        ):\n",
    "            biomass_met.append(met)\n",
    "    if biomass_met == 1:\n",
    "        biomass_met_matches = set(\n",
    "            biomass_met.reactions\n",
    "        ) - set(model.boundary)\n",
    "    else:\n",
    "        biomass_met_matches = set()\n",
    "\n",
    "    return list(buzzword_matches | biomass_met_matches)\n"
   ]
  },
  {
   "cell_type": "code",
   "execution_count": null,
   "metadata": {},
   "outputs": [],
   "source": [
    "def is_transport_reaction_formulae(rxn):\n",
    "    \"\"\"\n",
    "    Return boolean if a reaction is a transport reaction (from formulae).\n",
    "    Parameters\n",
    "    ----------\n",
    "    rxn: cobra.Reaction\n",
    "        The metabolic reaction under investigation.\n",
    "    \"\"\"\n",
    "    # Collecting criteria to classify transporters by.\n",
    "    rxn_reactants = set([met.formula for met in rxn.reactants])\n",
    "    rxn_products = set([met.formula for met in rxn.products])\n",
    "    # Looking for formulas that stay the same on both side of the reaction.\n",
    "    transported_mets = \\\n",
    "        [formula for formula in rxn_reactants if formula in rxn_products]\n",
    "    # Collect information on the elemental differences between\n",
    "    # compartments in the reaction.\n",
    "    delta_dicts = find_transported_elements(rxn)\n",
    "    non_zero_array = [v for (k, v) in iteritems(delta_dicts) if v != 0]\n",
    "    # Excluding reactions such as oxidoreductases where no net\n",
    "    # transport of Hydrogen is occurring, but rather just an exchange of\n",
    "    # electrons or charges effecting a change in protonation.\n",
    "    if set(transported_mets) != set('H') and list(\n",
    "        delta_dicts.keys()\n",
    "    ) == ['H']:\n",
    "        pass\n",
    "    # All other reactions for which the amount of transported elements is\n",
    "    # not zero, which are not part of the model's exchange nor\n",
    "    # biomass reactions, are defined as transport reactions.\n",
    "    # This includes reactions where the transported metabolite reacts with\n",
    "    # a carrier molecule.\n",
    "    elif sum(non_zero_array):\n",
    "        return True"
   ]
  },
  {
   "cell_type": "code",
   "execution_count": null,
   "metadata": {},
   "outputs": [],
   "source": [
    "def find_transported_elements(rxn):\n",
    "    \"\"\"\n",
    "    Return a dictionary showing the amount of transported elements of a rxn.\n",
    "    Collects the elements for each metabolite participating in a reaction,\n",
    "    multiplies the amount by the metabolite's stoichiometry in the reaction and\n",
    "    bins the result according to the compartment that metabolite is in. This\n",
    "    produces a dictionary of dictionaries such as this\n",
    "    ``{'p': {'C': -1, 'H': -4}, c: {'C': 1, 'H': 4}}`` which shows the\n",
    "    transported entities. This dictionary is then simplified to only include\n",
    "    the non-zero elements of one single compartment i.e. showing the precise\n",
    "    elements that are transported.\n",
    "    Parameters\n",
    "    ----------\n",
    "    rxn : cobra.Reaction\n",
    "        Any cobra.Reaction containing metabolites.\n",
    "    \"\"\"\n",
    "    element_dist = defaultdict()\n",
    "    # Collecting elements for each metabolite.\n",
    "    for met in rxn.metabolites:\n",
    "        if met.compartment not in element_dist:\n",
    "            # Multiplication by the metabolite stoichiometry.\n",
    "            element_dist[met.compartment] = \\\n",
    "                {k: v * rxn.metabolites[met]\n",
    "                 for (k, v) in iteritems(met.elements)}\n",
    "        else:\n",
    "            x = {k: v * rxn.metabolites[met] for (k, v) in\n",
    "                 iteritems(met.elements)}\n",
    "            y = element_dist[met.compartment]\n",
    "            element_dist[met.compartment] = \\\n",
    "                {k: x.get(k, 0) + y.get(k, 0) for k in set(x) | set(y)}\n",
    "    delta_dict = defaultdict()\n",
    "    # Simplification of the resulting dictionary of dictionaries.\n",
    "    for elements in itervalues(element_dist):\n",
    "        delta_dict.update(elements)\n",
    "    # Only non-zero values get included in the returned delta-dict.\n",
    "    delta_dict = {k: abs(v) for (k, v) in iteritems(delta_dict) if v != 0}\n",
    "    return delta_dict\n"
   ]
  },
  {
   "cell_type": "code",
   "execution_count": null,
   "metadata": {},
   "outputs": [],
   "source": [
    "def is_transport_reaction_annotations(rxn):\n",
    "    \"\"\"\n",
    "    Return boolean if a reaction is a transport reaction (from annotations).\n",
    "    Parameters\n",
    "    ----------\n",
    "    rxn: cobra.Reaction\n",
    "        The metabolic reaction under investigation.\n",
    "    \"\"\"\n",
    "    reactants = set([(k, tuple(v)) for met in rxn.reactants\n",
    "                     for k, v in iteritems(met.annotation)\n",
    "                     if met.id is not \"H\" and k is not None and v is not None])\n",
    "    #print(\"reactants\", reactants)\n",
    "    products = set([(k, tuple(v)) for met in rxn.products\n",
    "                    for k, v in iteritems(met.annotation)\n",
    "                    if met.id is not \"H\" and k is not None and v is not None])\n",
    "    #print(\"products\", products)\n",
    "    # Find intersection between reactant annotations and\n",
    "    # product annotations to find common metabolites between them,\n",
    "    # satisfying the requirements for a transport reaction. Reactions such\n",
    "    # as those involving oxidoreductases (where no net transport of\n",
    "    # Hydrogen is occurring, but rather just an exchange of electrons or\n",
    "    # charges effecting a change in protonation) are excluded.\n",
    "    transported_mets = reactants & products\n",
    "    #print(\"transported_mets\", transported_mets, len(transported_mets))\n",
    "    \n",
    "    if len(transported_mets) > 0:\n",
    "        return True\n"
   ]
  },
  {
   "cell_type": "code",
   "execution_count": null,
   "metadata": {},
   "outputs": [],
   "source": [
    "def find_transport_reactions(model):\n",
    "    \"\"\"\n",
    "    Return a list of all transport reactions.\n",
    "    Parameters\n",
    "    ----------\n",
    "    model : cobra.Model\n",
    "        The metabolic model under investigation.\n",
    "    Notes\n",
    "    -----\n",
    "    A transport reaction is defined as follows:\n",
    "    1. It contains metabolites from at least 2 compartments and\n",
    "    2. at least 1 metabolite undergoes no chemical reaction, i.e.,\n",
    "    the formula and/or annotation stays the same on both sides of the equation.\n",
    "    A notable exception is transport via PTS, which also contains the following\n",
    "    restriction:\n",
    "    3. The transported metabolite(s) are transported into a compartment through\n",
    "    the exchange of a phosphate group.\n",
    "    An example of transport via PTS would be\n",
    "    pep(c) + glucose(e) -> glucose-6-phosphate(c) + pyr(c)\n",
    "    Reactions similar to transport via PTS (referred to as \"modified transport\n",
    "    reactions\") follow a similar pattern:\n",
    "    A(x) + B-R(y) -> A-R(y) + B(y)\n",
    "    Such modified transport reactions can be detected, but only when a formula\n",
    "    field exists for all metabolites in a particular reaction. If this is not\n",
    "    the case, transport reactions are identified through annotations, which\n",
    "    cannot detect modified transport reactions.\n",
    "    \"\"\"\n",
    "    transport_reactions = []\n",
    "    transport_rxn_candidates = set(model.reactions) - set(model.boundary) \\\n",
    "        - set(find_biomass_reaction(model))\n",
    "    #print(\"transport_rxn_candidates\",transport_rxn_candidates)\n",
    "    # Add all labeled transport reactions\n",
    "    sbo_matches = set([rxn for rxn in transport_rxn_candidates if\n",
    "                       rxn.annotation is not None and\n",
    "                       'SBO' in rxn.annotation and\n",
    "                       rxn.annotation['SBO'] in TRANSPORT_RXN_SBO_TERMS])\n",
    "    if len(sbo_matches) > 0:\n",
    "        transport_reactions += list(sbo_matches)\n",
    "    # Find unlabeled transport reactions via formula or annotation checks\n",
    "    for rxn in transport_rxn_candidates:\n",
    "        # Check if metabolites have formula field\n",
    "        rxn_mets = set([met.formula for met in rxn.metabolites])\n",
    "        if (None not in rxn_mets) and (len(rxn_mets) != 0):\n",
    "            if is_transport_reaction_formulae(rxn):\n",
    "                transport_reactions.append(rxn)\n",
    "        elif is_transport_reaction_annotations(rxn): #\n",
    "            transport_reactions.append(rxn)\n",
    "       # print(\"rxn_mets\",rxn_mets)\n",
    "    return set(transport_reactions)\n",
    "\n",
    "    "
   ]
  },
  {
   "cell_type": "code",
   "execution_count": null,
   "metadata": {},
   "outputs": [],
   "source": [
    "for rxn in model.metabolites.MNXM5129_c0.reactions:\n",
    "    \n",
    "    if rxn in find_transport_reactions(model):\n",
    "        print(rxn.id)"
   ]
  },
  {
   "cell_type": "code",
   "execution_count": null,
   "metadata": {},
   "outputs": [],
   "source": [
    "model2_trans=memote.support.helpers.find_transport_reactions(model2)\n",
    "model2_trans\n",
    "#find_direct_metabolites(model, bio1)"
   ]
  },
  {
   "cell_type": "code",
   "execution_count": null,
   "metadata": {},
   "outputs": [],
   "source": [
    "model2_bio=find_biomass_reaction(model2)\n",
    "model2_bio"
   ]
  },
  {
   "cell_type": "code",
   "execution_count": null,
   "metadata": {},
   "outputs": [],
   "source": [
    "find_transported_elements(MNXR136261_c0)"
   ]
  },
  {
   "cell_type": "code",
   "execution_count": null,
   "metadata": {
    "scrolled": true
   },
   "outputs": [],
   "source": [
    "istranspann=is_transport_reaction_annotations(MNXR136261_c0)\n",
    "istranspann"
   ]
  },
  {
   "cell_type": "code",
   "execution_count": null,
   "metadata": {},
   "outputs": [],
   "source": []
  },
  {
   "cell_type": "code",
   "execution_count": null,
   "metadata": {},
   "outputs": [],
   "source": [
    "\n",
    "from memote.support.helpers import find_compartment_id_in_model, find_met_in_model\n",
    "\n",
    "ESSENTIAL_PRECURSOR_IDS = \\\n",
    "    ['MNXM94', 'MNXM55', 'MNXM134', 'MNXM76', 'MNXM61',\n",
    "     'MNXM97', 'MNXM53', 'MNXM114', 'MNXM42', 'MNXM142',\n",
    "     'MNXM37', 'MNXM89557', 'MNXM231', 'MNXM70', 'MNXM78',\n",
    "     'MNXM199', 'MNXM140', 'MNXM32', 'MNXM29', 'MNXM147',\n",
    "     'MNXM286', 'MNXM360', 'MNXM394', 'MNXM344',\n",
    "     'MNXM3', 'MNXM51', 'MNXM63', 'MNXM121',\n",
    "     'MNXM8', 'MNXM5', 'MNXM16', 'MNXM33', 'MNXM161',\n",
    "     'MNXM12', 'MNXM256', 'MNXM119', 'MNXM2']\n",
    "\n",
    "def essential_precursors_not_in_biomass(model, reaction):\n",
    "   \n",
    "   \n",
    "    main_comp =find_compartment_id_in_model(model, 'c')\n",
    "    biomass_eq = bundle_biomass_components(model, reaction)\n",
    "    pooled_precursors = set(\n",
    "        [met for rxn in biomass_eq for met in rxn.metabolites])\n",
    "    print(pooled_precursors)\n",
    "    missing_essential_precursors = []\n",
    "    for mnx_id in ESSENTIAL_PRECURSOR_IDS:\n",
    "        try:\n",
    "            met = find_met_in_model(model, mnx_id, main_comp)[0]\n",
    "            if met not in pooled_precursors:\n",
    "                missing_essential_precursors.append(met.id)\n",
    "        except RuntimeError:\n",
    "            missing_essential_precursors.append(mnx_id)\n",
    "\n",
    "    return missing_essential_precursors\n"
   ]
  },
  {
   "cell_type": "code",
   "execution_count": null,
   "metadata": {},
   "outputs": [],
   "source": [
    "missing_essential=essential_precursors_not_in_biomass(model, model.reactions.bio1)\n",
    "missing_essential\n"
   ]
  },
  {
   "cell_type": "code",
   "execution_count": null,
   "metadata": {},
   "outputs": [],
   "source": []
  }
 ],
 "metadata": {
  "kernelspec": {
   "display_name": "Python (vibrio)",
   "language": "python",
   "name": "vibrio"
  },
  "language_info": {
   "codemirror_mode": {
    "name": "ipython",
    "version": 3
   },
   "file_extension": ".py",
   "mimetype": "text/x-python",
   "name": "python",
   "nbconvert_exporter": "python",
   "pygments_lexer": "ipython3",
   "version": "3.6.6"
  }
 },
 "nbformat": 4,
 "nbformat_minor": 2
}
