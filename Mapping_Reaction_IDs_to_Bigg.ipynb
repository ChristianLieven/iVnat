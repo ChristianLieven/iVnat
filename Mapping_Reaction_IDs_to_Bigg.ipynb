{
 "cells": [
  {
   "cell_type": "code",
   "execution_count": null,
   "metadata": {},
   "outputs": [],
   "source": [
    "from pandas import read_csv, DataFrame\n",
    "import pandas as pd\n",
    "import os\n",
    "import re #Both patterns and strings to be searched can be Unicode strings as well as 8-bit strings.\n",
    "import math\n",
    "import cobra\n",
    "import cobra.test\n",
    "from __future__ import print_function\n",
    "from os.path import join\n",
    "from cobra.io import write_sbml_model"
   ]
  },
  {
   "cell_type": "code",
   "execution_count": null,
   "metadata": {},
   "outputs": [],
   "source": [
    "from IPython.core.interactiveshell import InteractiveShell\n",
    "\n",
    "InteractiveShell.ast_node_interactivity = \"all\""
   ]
  },
  {
   "cell_type": "code",
   "execution_count": null,
   "metadata": {},
   "outputs": [],
   "source": [
    "data_dir = \"/Users/lizrad/Dev/iVnat\"\n",
    "print(\"files found: \")\n",
    "print(\", \".join(i for i in os.listdir(data_dir) if i.startswith(\"iVnat\")))\n",
    "model=cobra.io.read_sbml_model(join(data_dir, \"iVnat.xml\"))\n",
    "#model=cobra.io.read_legacy_sbml(\"C:\\\\Users\\Asus\\Documents\\Vibrio_project_literature\\GCF_001456255.1_rast_metabolic_model.SBML\\GCF_001456255.1_rast_metabolic_model.xml\")\n",
    "model"
   ]
  },
  {
   "cell_type": "code",
   "execution_count": null,
   "metadata": {},
   "outputs": [],
   "source": [
    "#skip\n",
    "#data_dir = \"/Users/lizrad/Dev/iVnat\"\n",
    "#print(\"files found: \")\n",
    "#print(\", \".join(i for i in os.listdir(data_dir) if i.startswith(\"iVnat\")))\n",
    "#model=cobra.io.read_sbml_model(join(data_dir, \"iVnat_mapped.xml\"))\n",
    "#model=cobra.io.read_legacy_sbml(\"C:\\\\Users\\Asus\\Documents\\Vibrio_project_literature\\GCF_001456255.1_rast_metabolic_model.SBML\\GCF_001456255.1_rast_metabolic_model.xml\")\n",
    "#model\n",
    "\n",
    "\n"
   ]
  },
  {
   "cell_type": "markdown",
   "metadata": {},
   "source": [
    "### Reading the reac_xref"
   ]
  },
  {
   "cell_type": "code",
   "execution_count": null,
   "metadata": {
    "scrolled": true
   },
   "outputs": [],
   "source": [
    "reac_xref = read_csv(\"/Users/lizrad/Documents/Vibrio_folder/reac_xref.tsv\" , sep='\\t')\n",
    "reac_xref"
   ]
  },
  {
   "cell_type": "markdown",
   "metadata": {},
   "source": [
    "### Number of MNXR reactions in the model"
   ]
  },
  {
   "cell_type": "code",
   "execution_count": null,
   "metadata": {},
   "outputs": [],
   "source": [
    "print ('This is the total amount of reactions in the model: %i' % (len(model.reactions)))\n",
    "\n",
    "print ('We focus on mapping those %i reactions in the model that have an MNXR ID' % (len([met for met in model.reactions if met.id.startswith('MNXR') ])))\n",
    "\n",
    "for met in model.reactions:\n",
    "    if not met.id.startswith('MNXR'):\n",
    "        print(met.id)"
   ]
  },
  {
   "cell_type": "code",
   "execution_count": null,
   "metadata": {},
   "outputs": [],
   "source": [
    "bigg_reactions = [rxn for rxn in model.reactions if rxn.id.startswith('MNXR')]\n",
    "\n",
    "print (len(bigg_reactions))\n",
    "print (len(model.reactions))"
   ]
  },
  {
   "cell_type": "code",
   "execution_count": null,
   "metadata": {},
   "outputs": [],
   "source": [
    "#skip\n",
    "rxn_mnx2bigg = []\n",
    "rxn_nobiggid = []\n",
    "\n",
    "for rxn in [rxn for rxn in model.reactions if rxn.id.startswith('MNXR')]:\n",
    "    if 'bigg' in rxn.annotation:\n",
    "        reaction_id = rxn.annotation['BIGG'][0].split(', ')\n",
    "        tag_split = rxn.id.split('_')\n",
    "        rxn.id = str(reaction_id[0]) +'_'+ tag_split[1]\n",
    "        rxn_mnx2bigg.append(reaction_id)\n",
    "        cameo_model.repair()\n",
    "    else:\n",
    "        rxn_nobiggid.append(rxn)\n",
    "        \n",
    "print len(rxn_mnx2bigg)\n",
    "print len(rxn_nobiggid)"
   ]
  },
  {
   "cell_type": "markdown",
   "metadata": {},
   "source": [
    "### Formatting and creating Bigg MNX dictionary"
   ]
  },
  {
   "cell_type": "code",
   "execution_count": null,
   "metadata": {},
   "outputs": [],
   "source": [
    "\n",
    "df_1 = reac_xref.loc[:,'XREF':'MNX_ID']\n",
    "groups = df_1.groupby(['MNX_ID','XREF'])\n",
    "df_1 = groups.apply(lambda x:list(x['XREF_ID']))\n",
    "df_1 =df_1.unstack('XREF') \n",
    "reac_xref_MNX_1_dict = df_1.to_dict('index')\n",
    "reac_xref_MNX_1_dict"
   ]
  },
  {
   "cell_type": "code",
   "execution_count": null,
   "metadata": {},
   "outputs": [],
   "source": [
    "\n",
    "reac_property_MNX = read_csv(\"/Users/lizrad/Documents/Vibrio_folder/reac_xref.tsv\" , sep='\\t')\n",
    "reac_property_MNX.set_index('MNX_ID',inplace = True)\n",
    "df_3 = reac_property_MNX.fillna('MISSING')  #Fill NA/NaN values using the specified method\n",
    "df_3\n",
    "reac_property_MNX_dict = df_3.to_dict('index')\n",
    "reac_property_MNX_dict"
   ]
  },
  {
   "cell_type": "code",
   "execution_count": null,
   "metadata": {},
   "outputs": [],
   "source": [
    "#skip\n",
    "#rxn_ID_not_in_MetaNetX_2 = [rxn for rxn in rxn_nobiggid if rxn.id.startswith('MNXR') and ''.join(re.findall('(MNXR\\d*)_',rxn.id)) not in reac_xref_MNX_2_dict.keys()]\n",
    "#print len(rxn_ID_not_in_MetaNetX_2)"
   ]
  },
  {
   "cell_type": "code",
   "execution_count": null,
   "metadata": {},
   "outputs": [],
   "source": [
    "# Get a mapping from KEGG to the new MNXR IDs, for those reactions that cannot be found in the MNX Database,\n",
    "# but that have a KEGG ID in their annotation. \n",
    "#153644- 170637\n",
    "df_2 = reac_xref.loc[6:26957,'XREF_ID':'MNX_ID']\n",
    "df_2 = df_2.set_index(['XREF_ID'])\n",
    "seed_2_mnx_dict_2 = df_2.to_dict('index')\n",
    "seed_2_mnx_dict_2"
   ]
  },
  {
   "cell_type": "code",
   "execution_count": null,
   "metadata": {},
   "outputs": [],
   "source": [
    "reac_xref_MNXR_bigg = read_csv(\"/Users/lizrad/Documents/Vibrio_folder/reac_xref.tsv\" , sep='\\t', low_memory=False)\n",
    "df_bigg = reac_xref_MNXR_bigg.loc[4:26955,'XREF':'MNX_ID']\n",
    "pivoted_bigg = df_bigg.pivot_table(index='XREF',columns='XREF_ID',values='MNX_ID',aggfunc = lambda x: x)\n",
    "pivoted_bigg=pivoted_bigg.drop(['metanetx'])\n",
    "pivoted_bigg\n",
    "reac_xref_MNX_bigg_dict = pivoted_bigg.to_dict('index')\n",
    "reac_xref_MNX_bigg_dict2 = reac_xref_MNX_bigg_dict['bigg']\n",
    "reac_xref_MNX_bigg_dict2"
   ]
  },
  {
   "cell_type": "code",
   "execution_count": null,
   "metadata": {},
   "outputs": [],
   "source": [
    "not_in_reac_xref = []\n",
    "in_reac_xref = []\n",
    "\n",
    "for met in model.reactions:\n",
    "    split=met.id.split(\"_\")\n",
    "    met_clean=split[0]\n",
    "    print(met_clean)\n",
    "    if not met_clean == '':\n",
    "        \n",
    "        if not met_clean in reac_xref_MNX_bigg_dict2.keys():\n",
    "            not_in_reac_xref.append(met)\n",
    "        else:\n",
    "            in_reac_xref.append(met)\n",
    "\n",
    "print ('%i metabolites with MNXR ID cannot be found in the MNX database' % (len(not_in_reac_xref)))\n",
    "in_reac_xref"
   ]
  },
  {
   "cell_type": "markdown",
   "metadata": {},
   "source": [
    "### Bigg Ids to reaction annotation"
   ]
  },
  {
   "cell_type": "code",
   "execution_count": null,
   "metadata": {},
   "outputs": [],
   "source": [
    "for reac in model.reactions:\n",
    "    reac.annotation"
   ]
  },
  {
   "cell_type": "code",
   "execution_count": null,
   "metadata": {},
   "outputs": [],
   "source": [
    "for reac in model.reactions:\n",
    "    data=''\n",
    "    if 'metanetx.reaction' in reac.annotation:\n",
    "        data=reac.annotation['metanetx.reaction'] \n",
    "        \n",
    "        for xref in reac_xref_MNX_bigg_dict2.keys():\n",
    "            if reac_xref_MNX_bigg_dict2[xref]==data:\n",
    "                reac.annotation['bigg.reaction']= xref\n",
    "                print(reac.annotation)\n",
    "                \n",
    "                \n"
   ]
  },
  {
   "cell_type": "markdown",
   "metadata": {},
   "source": [
    "### Check for multiple ids "
   ]
  },
  {
   "cell_type": "code",
   "execution_count": null,
   "metadata": {},
   "outputs": [],
   "source": [
    "dupl_bigg = {}\n",
    "for reac in model.reactions:\n",
    "    if \"bigg.reaction\" not in reac.annotation.keys():  #skip EX reactions\n",
    "        #print(reac.id)\n",
    "        continue\n",
    "    if reac.annotation[\"bigg.reaction\"] not in dupl_bigg.keys():\n",
    "        dupl_bigg.setdefault(reac.annotation[\"bigg.reaction\"],[reac.id]) #similar to get(), but will set dict[key]=default if key is not already in dict.\n",
    "\n",
    "\n",
    "    else:\n",
    "        dupl_bigg[reac.annotation[\"bigg.reaction\"]].append(reac.id)\n",
    "        \n",
    "dupl_bigg\n"
   ]
  },
  {
   "cell_type": "code",
   "execution_count": null,
   "metadata": {},
   "outputs": [],
   "source": [
    "for ls in dupl_bigg.values():\n",
    "    if len(ls) > 1:\n",
    "        print(ls)"
   ]
  },
  {
   "cell_type": "code",
   "execution_count": null,
   "metadata": {
    "scrolled": true
   },
   "outputs": [],
   "source": [
    "for ls in dupl_bigg.values():\n",
    "    if len(ls) > 1:\n",
    "        print(ls)\n",
    "        x=[]\n",
    "        y=[]\n",
    "        for members in ls: \n",
    "            main_id, comp =members.split(\"_\")\n",
    "            x.append(main_id)\n",
    "            y.append(comp)\n",
    "        if not x[0]==x[1]:\n",
    "            print(x,y)\n",
    "            for pair in zip(x,y):\n",
    "                print(len(model.reactions.get_by_id(pair[0]+\"_\"+pair[1]).reaction))"
   ]
  },
  {
   "cell_type": "code",
   "execution_count": null,
   "metadata": {},
   "outputs": [],
   "source": [
    "model.reactions.rxn03023_c0.reactants\n",
    "model.reactions.rxn03932_c0.reactants\n",
    "\n",
    "model.reactions.rxn03023_c0.annotation\n",
    "\n",
    "model.reactions.rxn03932_c0.reaction\n"
   ]
  },
  {
   "cell_type": "code",
   "execution_count": null,
   "metadata": {},
   "outputs": [],
   "source": [
    "for reac in model.reactions:\n",
    "    \n",
    "    \n",
    "    if \"bigg.reaction\" not in reac.annotation.keys():\n",
    "        #print(reac.id)\n",
    "        continue\n",
    "    if reac.id.startswith('MNXR'):    \n",
    "        #if reac.id in [\"rxn03023_c0\"]:\n",
    "         #   pass\n",
    "        #else:\n",
    "        split, compartment=reac.id.split(\"_\")\n",
    "        reac.id\n",
    "        reac.id=reac.annotation['bigg.reaction']+ '_' + compartment\n",
    "        model.repair()\n",
    "        print(reac.id)\n",
    "    "
   ]
  },
  {
   "cell_type": "code",
   "execution_count": null,
   "metadata": {},
   "outputs": [],
   "source": [
    "#chem_xref['#XREF'] = chem_xref['#XREF'].str.replace(':','\\t')\n",
    "\n",
    "#^[0-9A-Za-z]*:[0-9A-Za-z]*\n",
    "#    (^[0-9A-Za-z]*):([0-9A-Za-z]*)\n",
    "#        $1 \\t $2\n",
    "        \n",
    "\n"
   ]
  },
  {
   "cell_type": "code",
   "execution_count": null,
   "metadata": {},
   "outputs": [],
   "source": [
    "write_sbml_model(model, \"/Users/lizrad/Dev/iVnat/iVnat.xml\")"
   ]
  }
 ],
 "metadata": {
  "kernelspec": {
   "display_name": "Python (vibrio)",
   "language": "python",
   "name": "vibrio"
  },
  "language_info": {
   "codemirror_mode": {
    "name": "ipython",
    "version": 3
   },
   "file_extension": ".py",
   "mimetype": "text/x-python",
   "name": "python",
   "nbconvert_exporter": "python",
   "pygments_lexer": "ipython3",
   "version": "3.6.6"
  }
 },
 "nbformat": 4,
 "nbformat_minor": 2
}
