{
 "cells": [
  {
   "cell_type": "code",
   "execution_count": 1,
   "metadata": {},
   "outputs": [],
   "source": [
    "from pandas import read_csv, DataFrame\n",
    "import pandas as pd\n",
    "import os\n",
    "import re #Both patterns and strings to be searched can be Unicode strings as well as 8-bit strings.\n",
    "import math\n",
    "import cobra\n",
    "import cobra.test\n",
    "from __future__ import print_function\n",
    "from os.path import join"
   ]
  },
  {
   "cell_type": "code",
   "execution_count": 2,
   "metadata": {},
   "outputs": [],
   "source": [
    "from IPython.core.interactiveshell import InteractiveShell\n",
    "\n",
    "InteractiveShell.ast_node_interactivity = \"all\""
   ]
  },
  {
   "cell_type": "code",
   "execution_count": 3,
   "metadata": {},
   "outputs": [
    {
     "name": "stdout",
     "output_type": "stream",
     "text": [
      "/Users/lizrad/Dev/iVnat\n",
      "files found: \n",
      "GCF_001456255.1_rast_metabolic_model.xml\n"
     ]
    },
    {
     "data": {
      "text/html": [
       "\n",
       "        <table>\n",
       "            <tr>\n",
       "                <td><strong>Name</strong></td>\n",
       "                <td>GCF_001456255_1_rast_metabolic_model</td>\n",
       "            </tr><tr>\n",
       "                <td><strong>Memory address</strong></td>\n",
       "                <td>0x0111b9c5c0</td>\n",
       "            </tr><tr>\n",
       "                <td><strong>Number of metabolites</strong></td>\n",
       "                <td>1842</td>\n",
       "            </tr><tr>\n",
       "                <td><strong>Number of reactions</strong></td>\n",
       "                <td>1906</td>\n",
       "            </tr><tr>\n",
       "                <td><strong>Objective expression</strong></td>\n",
       "                <td>-1.0*bio1_reverse_b18f7 + 1.0*bio1</td>\n",
       "            </tr><tr>\n",
       "                <td><strong>Compartments</strong></td>\n",
       "                <td>Cytosol_0, Extracellular_0</td>\n",
       "            </tr>\n",
       "          </table>"
      ],
      "text/plain": [
       "<Model GCF_001456255_1_rast_metabolic_model at 0x111b9c5c0>"
      ]
     },
     "execution_count": 3,
     "metadata": {},
     "output_type": "execute_result"
    }
   ],
   "source": [
    "relative_directory = os.getcwd()\n",
    "print(relative_directory)\n",
    "\n",
    "data_dir = \"/Users/lizrad/Documents/Vibrio_folder\"\n",
    "print(\"files found: \")\n",
    "print(\", \".join(i for i in os.listdir(data_dir) if i.startswith(\"GCF\")))\n",
    "model=cobra.io.read_legacy_sbml(join(data_dir, \"GCF_001456255.1_rast_metabolic_model.xml\"))\n",
    "#model=cobra.io.read_legacy_sbml(\"C:\\\\Users\\Asus\\Documents\\Vibrio_project_literature\\GCF_001456255.1_rast_metabolic_model.SBML\\GCF_001456255.1_rast_metabolic_model.xml\")\n",
    "model"
   ]
  },
  {
   "cell_type": "markdown",
   "metadata": {},
   "source": [
    "# Metabolites"
   ]
  },
  {
   "cell_type": "markdown",
   "metadata": {},
   "source": [
    "## Read chem_prop"
   ]
  },
  {
   "cell_type": "code",
   "execution_count": null,
   "metadata": {},
   "outputs": [],
   "source": [
    "chem_prop = read_csv(\"/Users/lizrad/Documents/Vibrio_folder/chem_prop.tsv\" , sep='\\t' , skiprows=365)\n",
    "chem_prop"
   ]
  },
  {
   "cell_type": "code",
   "execution_count": null,
   "metadata": {},
   "outputs": [],
   "source": [
    "\n",
    "chem_prop_reordered = chem_prop.set_index(\"#MNX_ID\")\n",
    "chem_prop_reordered\n",
    "chem_prop_dict = chem_prop_reordered.to_dict('index')\n",
    "chem_prop_dict\n",
    "\n",
    "\n",
    "\n",
    "\n",
    "\n"
   ]
  },
  {
   "cell_type": "markdown",
   "metadata": {},
   "source": [
    "### Read chem_xref"
   ]
  },
  {
   "cell_type": "code",
   "execution_count": null,
   "metadata": {},
   "outputs": [],
   "source": [
    "chem_xref = read_csv(\"/Users/lizrad/Documents/Vibrio_folder/chem_xref3.tsv\" , sep='\\t' , low_memory=False)\n",
    "chem_xref\n"
   ]
  },
  {
   "cell_type": "code",
   "execution_count": null,
   "metadata": {},
   "outputs": [],
   "source": [
    "df_2 = chem_xref.loc[:,'XREF':'MNX_ID']\n",
    "df_2\n",
    "groups = df_2.groupby(['MNX_ID','XREF'])\n",
    "df_2 = groups.apply(lambda x:list(x['XREF_ID']))\n",
    "df_2\n",
    "df_2 =df_2.unstack('XREF')\n",
    "df_2\n",
    "chem_xref_MNX_2_dict = df_2.to_dict('index')\n",
    "chem_xref_MNX_2_dict\n",
    "\n",
    "\n"
   ]
  },
  {
   "cell_type": "markdown",
   "metadata": {},
   "source": [
    "### SEED IDs to dict key"
   ]
  },
  {
   "cell_type": "code",
   "execution_count": null,
   "metadata": {
    "scrolled": true
   },
   "outputs": [],
   "source": [
    "\n",
    "#499091 530559\n",
    "chem_xref_MNX_seed = read_csv(\"/Users/lizrad/Documents/Vibrio_folder/chem_xref2.tsv\" , sep='\\t', low_memory=False)\n",
    "df_seed = chem_xref.loc[499088:530556,'XREF':'MNX_ID']\n",
    "pivoted_seed = df_seed.pivot_table(index='XREF',columns='XREF_ID',values='MNX_ID',aggfunc = lambda x: x)\n",
    "pivoted_seedd=pivoted_seed.drop(['metanetx'])\n",
    "chem_xref_MNX_seed_dict = pivoted_seedd.to_dict('index')\n",
    "chem_xref_MNX_seed_dict2 = chem_xref_MNX_seed_dict['seed']\n"
   ]
  },
  {
   "cell_type": "code",
   "execution_count": null,
   "metadata": {
    "scrolled": true
   },
   "outputs": [],
   "source": [
    "pivoted_seed.drop(['metanetx'])"
   ]
  },
  {
   "cell_type": "code",
   "execution_count": null,
   "metadata": {},
   "outputs": [],
   "source": [
    "chem_xref_MNX_seed_dict2"
   ]
  },
  {
   "cell_type": "markdown",
   "metadata": {},
   "source": [
    "### Check how many Metabolites can be found in the SEED database and how many cannot be found at all. "
   ]
  },
  {
   "cell_type": "code",
   "execution_count": null,
   "metadata": {},
   "outputs": [],
   "source": [
    "print ('This is the total amount of metabolites in the model: %i' % (len(model.metabolites)))\n",
    "\n",
    "print ('We focus on mapping those %i metabolites in the model that have an MNX ID' % (len([met for met in model.metabolites if met.id.startswith('cpd')])))"
   ]
  },
  {
   "cell_type": "markdown",
   "metadata": {},
   "source": [
    "### How many SEED metabolites can we find?"
   ]
  },
  {
   "cell_type": "code",
   "execution_count": null,
   "metadata": {},
   "outputs": [],
   "source": [
    "for met in model.metabolites:\n",
    "    id_split=met.id.split(\"_\")\n",
    "    print(id_split[0])\n",
    "    "
   ]
  },
  {
   "cell_type": "code",
   "execution_count": null,
   "metadata": {},
   "outputs": [],
   "source": [
    "  met_clean, compartment=model.metabolites.cpd00001_e0.id.split(\"_\")\n",
    "    "
   ]
  },
  {
   "cell_type": "code",
   "execution_count": null,
   "metadata": {},
   "outputs": [],
   "source": [
    "not_in_chem_xref = []\n",
    "in_chem_xref = []\n",
    "\n",
    "\n",
    "\n",
    "\n",
    "for met in model.metabolites:\n",
    "    split=met.id.split(\"_\")\n",
    "    met_clean=split[0]\n",
    "    print(met_clean)\n",
    "    if not met_clean == '':\n",
    "        if not met_clean in chem_xref_MNX_seed_dict2.keys():\n",
    "            not_in_chem_xref.append(met)\n",
    "        else:\n",
    "            in_chem_xref.append(met)\n",
    "\n",
    "print ('%i metabolites with SEED ID cannot be found in the MNX database' % (len(not_in_chem_xref)))\n",
    "\n",
    "\n"
   ]
  },
  {
   "cell_type": "markdown",
   "metadata": {},
   "source": [
    "### Seed ids to annotation field"
   ]
  },
  {
   "cell_type": "code",
   "execution_count": null,
   "metadata": {},
   "outputs": [],
   "source": [
    "len(in_chem_xref)"
   ]
  },
  {
   "cell_type": "code",
   "execution_count": null,
   "metadata": {
    "scrolled": true
   },
   "outputs": [],
   "source": [
    "for met in model.metabolites:\n",
    "    split, compartment=met.id.split(\"_\")\n",
    "    met.annotation['seed.compound']=split\n",
    "    print(met.annotation)\n",
    "    compartment\n",
    "\n"
   ]
  },
  {
   "cell_type": "markdown",
   "metadata": {},
   "source": [
    "### MNX ids to annotation field"
   ]
  },
  {
   "cell_type": "code",
   "execution_count": null,
   "metadata": {},
   "outputs": [],
   "source": [
    "for met in model.metabolites:\n",
    "    print(met.id)"
   ]
  },
  {
   "cell_type": "code",
   "execution_count": null,
   "metadata": {},
   "outputs": [],
   "source": [
    "for met in model.metabolites:\n",
    "    data=''\n",
    "    if 'seed.compound' in met.annotation:\n",
    "        data=met.annotation['seed.compound'] \n",
    "        \n",
    "        for xref in chem_xref_MNX_seed_dict2.keys():\n",
    "            if xref==data:\n",
    "                met.annotation['metanetx.chemical']=chem_xref_MNX_seed_dict2[xref]\n",
    "                print(met.annotation)\n",
    "              \n",
    "            \n",
    "                "
   ]
  },
  {
   "cell_type": "code",
   "execution_count": null,
   "metadata": {
    "scrolled": false
   },
   "outputs": [],
   "source": [
    "\n",
    "#for met in model.metabolites:\n",
    "#    if met.id.startswith('MNXM'):\n",
    "#        met.id=met.annotation['seed.compound']\n",
    " #       print(met.id)\n",
    "    \n",
    "        "
   ]
  },
  {
   "cell_type": "code",
   "execution_count": null,
   "metadata": {},
   "outputs": [],
   "source": [
    "dupl = {}\n",
    "for met in model.metabolites:\n",
    "    if met.annotation[\"metanetx.chemical\"] not in dupl.keys():\n",
    "        dupl.setdefault(met.annotation[\"metanetx.chemical\"],[met.id])\n",
    "    else:\n",
    "        dupl[met.annotation[\"metanetx.chemical\"]].append(met.id)"
   ]
  },
  {
   "cell_type": "code",
   "execution_count": null,
   "metadata": {},
   "outputs": [],
   "source": [
    "for ls in dupl.values():\n",
    "    if len(ls) > 1:\n",
    "        print(ls)"
   ]
  },
  {
   "cell_type": "code",
   "execution_count": null,
   "metadata": {},
   "outputs": [],
   "source": [
    "for ls in dupl.values():\n",
    "    if len(ls) > 1:\n",
    "        #print(ls)\n",
    "        x=[]\n",
    "        y=[]\n",
    "        for members in ls: \n",
    "            main_id, comp =members.split(\"_\")\n",
    "            x.append(main_id)\n",
    "            y.append(comp)\n",
    "        if not x[0]==x[1]:\n",
    "            print(x,y)\n",
    "            reaction_involved=[]\n",
    "            for pair in zip(x,y):\n",
    "                react_number=len(model.metabolites.get_by_id(pair[0]+\"_\"+pair[1]).reactions)\n",
    "                reaction_involved.append(react_number)\n",
    "                print (react_number)\n",
    "            \n",
    "        #if not y[0] == y[1]: \n",
    "        #   print(\"different compartment same number\", x,y)"
   ]
  },
  {
   "cell_type": "code",
   "execution_count": null,
   "metadata": {},
   "outputs": [],
   "source": [
    "for ls in dupl.values():\n",
    "    if len(ls) > 1:\n",
    "        #print(ls)\n",
    "        x=[]\n",
    "        y=[]\n",
    "        for members in ls: \n",
    "            main_id, comp =members.split(\"_\")\n",
    "            x.append(main_id)\n",
    "            y.append(comp)\n",
    "        if not x[0]==x[1]:\n",
    "            print(x,y)\n",
    "            for pair in zip(x,y):\n",
    "                print(len(model.metabolites.get_by_id(pair[0]+\"_\"+pair[1]).reactions))\n",
    "        #if x[0]==x[1] and y[0]==y[1]:\n",
    "         #   print(x,y)\n",
    "        #if not y[0] == y[1]:\n",
    "         #   print(\"different compartment same number\", x,y)"
   ]
  },
  {
   "cell_type": "code",
   "execution_count": null,
   "metadata": {
    "scrolled": true
   },
   "outputs": [],
   "source": [
    "for met in model.metabolites:\n",
    "    split, compartment=met.id.split(\"_\")\n",
    "    #if met.id.startswith('cpd'):\n",
    "    met.id\n",
    "    if met.id in [\"cpd00261_c0\", \"cpd06227_c0\", \"cpd03572_c0\", \"cpd02446_c0\",\"cpd02572_c0\", \"cpd01466_c0\" ]:\n",
    "        pass\n",
    "    else:\n",
    "        met.id=met.annotation['metanetx.chemical']+ '_' + compartment\n",
    "        model.repair()\n",
    "    print(met.id)\n",
    "    \n",
    "\n"
   ]
  },
  {
   "cell_type": "code",
   "execution_count": null,
   "metadata": {},
   "outputs": [],
   "source": [
    "model.metabolites.query(\"H_plus_\", attribute=\"name\")"
   ]
  },
  {
   "cell_type": "markdown",
   "metadata": {},
   "source": [
    "\n",
    "\n",
    "\n",
    "model.metabolites.cpd00001_c0.formula"
   ]
  },
  {
   "cell_type": "code",
   "execution_count": null,
   "metadata": {},
   "outputs": [],
   "source": [
    "copy_met = model.metabolites.cpd00002_c0"
   ]
  },
  {
   "cell_type": "code",
   "execution_count": null,
   "metadata": {},
   "outputs": [],
   "source": [
    "copy_met.annotation[\"seed.compound\"] = \"cpd00002\""
   ]
  },
  {
   "cell_type": "code",
   "execution_count": null,
   "metadata": {},
   "outputs": [],
   "source": [
    "copy_met.id = \"\""
   ]
  },
  {
   "cell_type": "code",
   "execution_count": null,
   "metadata": {},
   "outputs": [],
   "source": [
    "# Quick check-up to compare conditions before and after:\n",
    "print (len(model.metabolites))\n",
    "print (len([met for met in model.metabolites if met.formula == 'c0']))  # ??? none of them has a formula\n",
    "print (len([met for met in model.metabolites if met.formula == '' and met.id.startswith('cpd')]))\n",
    "\n",
    "print (len([met for met in model.metabolites if not met.charge]))\n",
    "print (len([met for met in model.metabolites if not met.charge and met.id.startswith('cpd')]))\n",
    "\n",
    "\n",
    "for met in model.metabolites:\n",
    "    print(met.id.startswith('cpd'))"
   ]
  },
  {
   "cell_type": "code",
   "execution_count": null,
   "metadata": {},
   "outputs": [],
   "source": [
    "# No KEGG ID or the KEGG IDs don't match.\n",
    "no_match_via_kegg = []\n",
    "# Matched\n",
    "jackpot = []\n",
    "\n",
    "for met in in_chem_xref:\n",
    "    if 'seed' in met.notes and met.notes['seed'] != '':\n",
    "        if met.notes['seed'][0] in chem_xref_MNX_seed_dict:\n",
    "            updated_mnx_id = chem_xref_MNX_2_dict[met.notes['seed'][0]]\n",
    "            temp_id = met.id.split('_')\n",
    "            met.id = updated_mnx_id +'_'+ temp_id[1]\n",
    "            model.repair()\n",
    "            met.notes['MXNREF'] = [updated_mnx_id ]\n",
    "            jackpot.append(met)\n",
    "        else:\n",
    "            no_match_via_kegg.append(met)\n",
    "    else:\n",
    "        no_match_via_kegg.append(met)\n",
    "        \n",
    "\n",
    "print(len(jackpot))\n",
    "print(len(no_match_via_kegg))"
   ]
  },
  {
   "cell_type": "markdown",
   "metadata": {},
   "source": [
    "## Save draft with mapped metabolites"
   ]
  },
  {
   "cell_type": "code",
   "execution_count": 70,
   "metadata": {},
   "outputs": [],
   "source": [
    "from cobra.io import write_sbml_model"
   ]
  },
  {
   "cell_type": "code",
   "execution_count": null,
   "metadata": {},
   "outputs": [],
   "source": [
    "write_sbml_model(model, \"/Users/lizrad/Dev/iVnat/iVnat.xml\")"
   ]
  }
 ],
 "metadata": {
  "kernelspec": {
   "display_name": "Python (vibrio)",
   "language": "python",
   "name": "vibrio"
  },
  "language_info": {
   "codemirror_mode": {
    "name": "ipython",
    "version": 3
   },
   "file_extension": ".py",
   "mimetype": "text/x-python",
   "name": "python",
   "nbconvert_exporter": "python",
   "pygments_lexer": "ipython3",
   "version": "3.6.6"
  }
 },
 "nbformat": 4,
 "nbformat_minor": 2
}
