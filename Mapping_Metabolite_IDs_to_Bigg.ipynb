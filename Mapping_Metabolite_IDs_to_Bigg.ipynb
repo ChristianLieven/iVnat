{
 "cells": [
  {
   "cell_type": "code",
   "execution_count": 1,
   "metadata": {},
   "outputs": [],
   "source": [
    "from pandas import read_csv, DataFrame\n",
    "import pandas as pd\n",
    "import os\n",
    "import re #Both patterns and strings to be searched can be Unicode strings as well as 8-bit strings.\n",
    "import math\n",
    "import cobra\n",
    "import cobra.test\n",
    "from __future__ import print_function\n",
    "from os.path import join\n",
    "from cobra.io import write_sbml_model"
   ]
  },
  {
   "cell_type": "code",
   "execution_count": 2,
   "metadata": {},
   "outputs": [],
   "source": [
    "from IPython.core.interactiveshell import InteractiveShell\n",
    "\n",
    "InteractiveShell.ast_node_interactivity = \"all\""
   ]
  },
  {
   "cell_type": "code",
   "execution_count": 3,
   "metadata": {},
   "outputs": [
    {
     "name": "stdout",
     "output_type": "stream",
     "text": [
      "files found: \n",
      "iVnat.xml, iVnat_mapped.xml\n"
     ]
    },
    {
     "data": {
      "text/html": [
       "\n",
       "        <table>\n",
       "            <tr>\n",
       "                <td><strong>Name</strong></td>\n",
       "                <td>GCF_001456255_1_rast_metabolic_model</td>\n",
       "            </tr><tr>\n",
       "                <td><strong>Memory address</strong></td>\n",
       "                <td>0x010e771d30</td>\n",
       "            </tr><tr>\n",
       "                <td><strong>Number of metabolites</strong></td>\n",
       "                <td>1842</td>\n",
       "            </tr><tr>\n",
       "                <td><strong>Number of reactions</strong></td>\n",
       "                <td>1906</td>\n",
       "            </tr><tr>\n",
       "                <td><strong>Objective expression</strong></td>\n",
       "                <td>-1.0*bio1_reverse_b18f7 + 1.0*bio1</td>\n",
       "            </tr><tr>\n",
       "                <td><strong>Compartments</strong></td>\n",
       "                <td>Cytosol_0, Extracellular_0</td>\n",
       "            </tr>\n",
       "          </table>"
      ],
      "text/plain": [
       "<Model GCF_001456255_1_rast_metabolic_model at 0x10e771d30>"
      ]
     },
     "execution_count": 3,
     "metadata": {},
     "output_type": "execute_result"
    }
   ],
   "source": [
    "data_dir = \"/Users/lizrad/Dev/iVnat\"\n",
    "print(\"files found: \")\n",
    "print(\", \".join(i for i in os.listdir(data_dir) if i.startswith(\"iVnat\")))\n",
    "model=cobra.io.read_sbml_model(join(data_dir, \"iVnat.xml\"))\n",
    "#model=cobra.io.read_legacy_sbml(\"C:\\\\Users\\Asus\\Documents\\Vibrio_project_literature\\GCF_001456255.1_rast_metabolic_model.SBML\\GCF_001456255.1_rast_metabolic_model.xml\")\n",
    "model"
   ]
  },
  {
   "cell_type": "markdown",
   "metadata": {},
   "source": [
    "### Read chem_xref"
   ]
  },
  {
   "cell_type": "code",
   "execution_count": 4,
   "metadata": {},
   "outputs": [
    {
     "data": {
      "text/html": [
       "<div>\n",
       "<style scoped>\n",
       "    .dataframe tbody tr th:only-of-type {\n",
       "        vertical-align: middle;\n",
       "    }\n",
       "\n",
       "    .dataframe tbody tr th {\n",
       "        vertical-align: top;\n",
       "    }\n",
       "\n",
       "    .dataframe thead th {\n",
       "        text-align: right;\n",
       "    }\n",
       "</style>\n",
       "<table border=\"1\" class=\"dataframe\">\n",
       "  <thead>\n",
       "    <tr style=\"text-align: right;\">\n",
       "      <th></th>\n",
       "      <th>XREF</th>\n",
       "      <th>XREF_ID</th>\n",
       "      <th>MNX_ID</th>\n",
       "      <th>Evidence</th>\n",
       "      <th>Description</th>\n",
       "    </tr>\n",
       "  </thead>\n",
       "  <tbody>\n",
       "    <tr>\n",
       "      <th>0</th>\n",
       "      <td>BIOMASS</td>\n",
       "      <td>BIOMASS</td>\n",
       "      <td>inferred</td>\n",
       "      <td>biomass</td>\n",
       "      <td>NaN</td>\n",
       "    </tr>\n",
       "    <tr>\n",
       "      <th>1</th>\n",
       "      <td>Biomass</td>\n",
       "      <td>BIOMASS</td>\n",
       "      <td>inferred</td>\n",
       "      <td>biomass</td>\n",
       "      <td>NaN</td>\n",
       "    </tr>\n",
       "    <tr>\n",
       "      <th>2</th>\n",
       "      <td>metanetx</td>\n",
       "      <td>MNXM01</td>\n",
       "      <td>MNXM01</td>\n",
       "      <td>identity</td>\n",
       "      <td>H(+)</td>\n",
       "    </tr>\n",
       "    <tr>\n",
       "      <th>3</th>\n",
       "      <td>bigg</td>\n",
       "      <td>10fthf</td>\n",
       "      <td>MNXM237</td>\n",
       "      <td>inferred</td>\n",
       "      <td>10-Formyltetrahydrofolate</td>\n",
       "    </tr>\n",
       "    <tr>\n",
       "      <th>4</th>\n",
       "      <td>metanetx</td>\n",
       "      <td>MNXM237</td>\n",
       "      <td>MNXM237</td>\n",
       "      <td>identity</td>\n",
       "      <td>NaN</td>\n",
       "    </tr>\n",
       "    <tr>\n",
       "      <th>5</th>\n",
       "      <td>bigg</td>\n",
       "      <td>10fthf5glu</td>\n",
       "      <td>MNXM3428</td>\n",
       "      <td>identity</td>\n",
       "      <td>10fthf5glu</td>\n",
       "    </tr>\n",
       "    <tr>\n",
       "      <th>6</th>\n",
       "      <td>metanetx</td>\n",
       "      <td>MNXM3428</td>\n",
       "      <td>MNXM3428</td>\n",
       "      <td>identity</td>\n",
       "      <td>NaN</td>\n",
       "    </tr>\n",
       "    <tr>\n",
       "      <th>7</th>\n",
       "      <td>bigg</td>\n",
       "      <td>10fthf6glu</td>\n",
       "      <td>MNXM3429</td>\n",
       "      <td>identity</td>\n",
       "      <td>10fthf6glu</td>\n",
       "    </tr>\n",
       "    <tr>\n",
       "      <th>8</th>\n",
       "      <td>metanetx</td>\n",
       "      <td>MNXM3429</td>\n",
       "      <td>MNXM3429</td>\n",
       "      <td>identity</td>\n",
       "      <td>NaN</td>\n",
       "    </tr>\n",
       "    <tr>\n",
       "      <th>9</th>\n",
       "      <td>bigg</td>\n",
       "      <td>10fthf7glu</td>\n",
       "      <td>MNXM5422</td>\n",
       "      <td>identity</td>\n",
       "      <td>10fthf7glu</td>\n",
       "    </tr>\n",
       "    <tr>\n",
       "      <th>10</th>\n",
       "      <td>metanetx</td>\n",
       "      <td>MNXM5422</td>\n",
       "      <td>MNXM5422</td>\n",
       "      <td>identity</td>\n",
       "      <td>NaN</td>\n",
       "    </tr>\n",
       "    <tr>\n",
       "      <th>11</th>\n",
       "      <td>bigg</td>\n",
       "      <td>10fthfglu__L</td>\n",
       "      <td>MNXM164047</td>\n",
       "      <td>inferred</td>\n",
       "      <td>10-Formyltetrahydrofolyl L-glutamate</td>\n",
       "    </tr>\n",
       "    <tr>\n",
       "      <th>12</th>\n",
       "      <td>metanetx</td>\n",
       "      <td>MNXM164047</td>\n",
       "      <td>MNXM164047</td>\n",
       "      <td>identity</td>\n",
       "      <td>NaN</td>\n",
       "    </tr>\n",
       "    <tr>\n",
       "      <th>13</th>\n",
       "      <td>bigg</td>\n",
       "      <td>11_cis_retfa</td>\n",
       "      <td>MNXM146564</td>\n",
       "      <td>identity</td>\n",
       "      <td>11 cis retfa</td>\n",
       "    </tr>\n",
       "    <tr>\n",
       "      <th>14</th>\n",
       "      <td>metanetx</td>\n",
       "      <td>MNXM146564</td>\n",
       "      <td>MNXM146564</td>\n",
       "      <td>identity</td>\n",
       "      <td>NaN</td>\n",
       "    </tr>\n",
       "    <tr>\n",
       "      <th>15</th>\n",
       "      <td>bigg</td>\n",
       "      <td>11docrtsl</td>\n",
       "      <td>MNXM163103</td>\n",
       "      <td>identity</td>\n",
       "      <td>11docrtsl</td>\n",
       "    </tr>\n",
       "    <tr>\n",
       "      <th>16</th>\n",
       "      <td>metanetx</td>\n",
       "      <td>MNXM163103</td>\n",
       "      <td>MNXM163103</td>\n",
       "      <td>identity</td>\n",
       "      <td>NaN</td>\n",
       "    </tr>\n",
       "    <tr>\n",
       "      <th>17</th>\n",
       "      <td>bigg</td>\n",
       "      <td>11docrtstrn</td>\n",
       "      <td>MNXM162887</td>\n",
       "      <td>identity</td>\n",
       "      <td>11docrtstrn</td>\n",
       "    </tr>\n",
       "    <tr>\n",
       "      <th>18</th>\n",
       "      <td>metanetx</td>\n",
       "      <td>MNXM162887</td>\n",
       "      <td>MNXM162887</td>\n",
       "      <td>identity</td>\n",
       "      <td>NaN</td>\n",
       "    </tr>\n",
       "    <tr>\n",
       "      <th>19</th>\n",
       "      <td>bigg</td>\n",
       "      <td>12HPET</td>\n",
       "      <td>MNXM13989</td>\n",
       "      <td>identity</td>\n",
       "      <td>12HPET</td>\n",
       "    </tr>\n",
       "    <tr>\n",
       "      <th>20</th>\n",
       "      <td>metanetx</td>\n",
       "      <td>MNXM13989</td>\n",
       "      <td>MNXM13989</td>\n",
       "      <td>identity</td>\n",
       "      <td>NaN</td>\n",
       "    </tr>\n",
       "    <tr>\n",
       "      <th>21</th>\n",
       "      <td>bigg</td>\n",
       "      <td>12RHPET</td>\n",
       "      <td>MNXM13994</td>\n",
       "      <td>identity</td>\n",
       "      <td>12RHPET</td>\n",
       "    </tr>\n",
       "    <tr>\n",
       "      <th>22</th>\n",
       "      <td>metanetx</td>\n",
       "      <td>MNXM13994</td>\n",
       "      <td>MNXM13994</td>\n",
       "      <td>identity</td>\n",
       "      <td>NaN</td>\n",
       "    </tr>\n",
       "    <tr>\n",
       "      <th>23</th>\n",
       "      <td>bigg</td>\n",
       "      <td>12d3k5m</td>\n",
       "      <td>MNXM163631</td>\n",
       "      <td>identity</td>\n",
       "      <td>1 2 dihydroxy 3 keto 5 methylthiopentene</td>\n",
       "    </tr>\n",
       "    <tr>\n",
       "      <th>24</th>\n",
       "      <td>metanetx</td>\n",
       "      <td>MNXM163631</td>\n",
       "      <td>MNXM163631</td>\n",
       "      <td>identity</td>\n",
       "      <td>NaN</td>\n",
       "    </tr>\n",
       "    <tr>\n",
       "      <th>25</th>\n",
       "      <td>bigg</td>\n",
       "      <td>12dag3p_BS</td>\n",
       "      <td>MNXM163072</td>\n",
       "      <td>identity</td>\n",
       "      <td>1 2 diacyl sn glycerol 3 phosphate</td>\n",
       "    </tr>\n",
       "    <tr>\n",
       "      <th>26</th>\n",
       "      <td>metanetx</td>\n",
       "      <td>MNXM163072</td>\n",
       "      <td>MNXM163072</td>\n",
       "      <td>identity</td>\n",
       "      <td>NaN</td>\n",
       "    </tr>\n",
       "    <tr>\n",
       "      <th>27</th>\n",
       "      <td>bigg</td>\n",
       "      <td>12dgr120</td>\n",
       "      <td>MNXM4939</td>\n",
       "      <td>identity</td>\n",
       "      <td>1,2-Diacyl-sn-glycerol (didodecanoyl, n-C12:0)</td>\n",
       "    </tr>\n",
       "    <tr>\n",
       "      <th>28</th>\n",
       "      <td>metanetx</td>\n",
       "      <td>MNXM4939</td>\n",
       "      <td>MNXM4939</td>\n",
       "      <td>identity</td>\n",
       "      <td>NaN</td>\n",
       "    </tr>\n",
       "    <tr>\n",
       "      <th>29</th>\n",
       "      <td>bigg</td>\n",
       "      <td>12dgr140</td>\n",
       "      <td>MNXM146479</td>\n",
       "      <td>identity</td>\n",
       "      <td>1,2-Diacyl-sn-glycerol (ditetradecanoyl, n-C14:0)</td>\n",
       "    </tr>\n",
       "    <tr>\n",
       "      <th>...</th>\n",
       "      <td>...</td>\n",
       "      <td>...</td>\n",
       "      <td>...</td>\n",
       "      <td>...</td>\n",
       "      <td>...</td>\n",
       "    </tr>\n",
       "    <tr>\n",
       "      <th>1533476</th>\n",
       "      <td>deprecated</td>\n",
       "      <td>MNXM9795</td>\n",
       "      <td>MNXM63188</td>\n",
       "      <td>inferred</td>\n",
       "      <td>NaN</td>\n",
       "    </tr>\n",
       "    <tr>\n",
       "      <th>1533477</th>\n",
       "      <td>deprecated</td>\n",
       "      <td>MNXM9799</td>\n",
       "      <td>MNXM37826</td>\n",
       "      <td>inferred</td>\n",
       "      <td>NaN</td>\n",
       "    </tr>\n",
       "    <tr>\n",
       "      <th>1533478</th>\n",
       "      <td>deprecated</td>\n",
       "      <td>MNXM980</td>\n",
       "      <td>MNXM31441</td>\n",
       "      <td>inferred</td>\n",
       "      <td>NaN</td>\n",
       "    </tr>\n",
       "    <tr>\n",
       "      <th>1533479</th>\n",
       "      <td>deprecated</td>\n",
       "      <td>MNXM9817</td>\n",
       "      <td>MNXM17214</td>\n",
       "      <td>inferred</td>\n",
       "      <td>NaN</td>\n",
       "    </tr>\n",
       "    <tr>\n",
       "      <th>1533480</th>\n",
       "      <td>deprecated</td>\n",
       "      <td>MNXM9819</td>\n",
       "      <td>MNXM9818</td>\n",
       "      <td>inferred</td>\n",
       "      <td>NaN</td>\n",
       "    </tr>\n",
       "    <tr>\n",
       "      <th>1533481</th>\n",
       "      <td>deprecated</td>\n",
       "      <td>MNXM9836</td>\n",
       "      <td>MNXM35167</td>\n",
       "      <td>inferred</td>\n",
       "      <td>NaN</td>\n",
       "    </tr>\n",
       "    <tr>\n",
       "      <th>1533482</th>\n",
       "      <td>deprecated</td>\n",
       "      <td>MNXM98442</td>\n",
       "      <td>MNXM95059</td>\n",
       "      <td>inferred</td>\n",
       "      <td>NaN</td>\n",
       "    </tr>\n",
       "    <tr>\n",
       "      <th>1533483</th>\n",
       "      <td>deprecated</td>\n",
       "      <td>MNXM98443</td>\n",
       "      <td>MNXM56082</td>\n",
       "      <td>inferred</td>\n",
       "      <td>NaN</td>\n",
       "    </tr>\n",
       "    <tr>\n",
       "      <th>1533484</th>\n",
       "      <td>deprecated</td>\n",
       "      <td>MNXM9856</td>\n",
       "      <td>MNXM35236</td>\n",
       "      <td>inferred</td>\n",
       "      <td>NaN</td>\n",
       "    </tr>\n",
       "    <tr>\n",
       "      <th>1533485</th>\n",
       "      <td>deprecated</td>\n",
       "      <td>MNXM98561</td>\n",
       "      <td>MNXM156993</td>\n",
       "      <td>inferred</td>\n",
       "      <td>NaN</td>\n",
       "    </tr>\n",
       "    <tr>\n",
       "      <th>1533486</th>\n",
       "      <td>deprecated</td>\n",
       "      <td>MNXM9858</td>\n",
       "      <td>MNXM35277</td>\n",
       "      <td>inferred</td>\n",
       "      <td>NaN</td>\n",
       "    </tr>\n",
       "    <tr>\n",
       "      <th>1533487</th>\n",
       "      <td>deprecated</td>\n",
       "      <td>MNXM9861</td>\n",
       "      <td>MNXM90279</td>\n",
       "      <td>inferred</td>\n",
       "      <td>NaN</td>\n",
       "    </tr>\n",
       "    <tr>\n",
       "      <th>1533488</th>\n",
       "      <td>deprecated</td>\n",
       "      <td>MNXM9884</td>\n",
       "      <td>MNXM30541</td>\n",
       "      <td>inferred</td>\n",
       "      <td>NaN</td>\n",
       "    </tr>\n",
       "    <tr>\n",
       "      <th>1533489</th>\n",
       "      <td>deprecated</td>\n",
       "      <td>MNXM98929</td>\n",
       "      <td>MNXM80939</td>\n",
       "      <td>inferred</td>\n",
       "      <td>NaN</td>\n",
       "    </tr>\n",
       "    <tr>\n",
       "      <th>1533490</th>\n",
       "      <td>deprecated</td>\n",
       "      <td>MNXM98986</td>\n",
       "      <td>MNXM87035</td>\n",
       "      <td>inferred</td>\n",
       "      <td>NaN</td>\n",
       "    </tr>\n",
       "    <tr>\n",
       "      <th>1533491</th>\n",
       "      <td>deprecated</td>\n",
       "      <td>MNXM99013</td>\n",
       "      <td>MNXM4444</td>\n",
       "      <td>inferred</td>\n",
       "      <td>NaN</td>\n",
       "    </tr>\n",
       "    <tr>\n",
       "      <th>1533492</th>\n",
       "      <td>deprecated</td>\n",
       "      <td>MNXM99014</td>\n",
       "      <td>MNXM4920</td>\n",
       "      <td>inferred</td>\n",
       "      <td>NaN</td>\n",
       "    </tr>\n",
       "    <tr>\n",
       "      <th>1533493</th>\n",
       "      <td>deprecated</td>\n",
       "      <td>MNXM9902</td>\n",
       "      <td>MNXM10521</td>\n",
       "      <td>inferred</td>\n",
       "      <td>NaN</td>\n",
       "    </tr>\n",
       "    <tr>\n",
       "      <th>1533494</th>\n",
       "      <td>deprecated</td>\n",
       "      <td>MNXM9917</td>\n",
       "      <td>MNXM3231</td>\n",
       "      <td>inferred</td>\n",
       "      <td>NaN</td>\n",
       "    </tr>\n",
       "    <tr>\n",
       "      <th>1533495</th>\n",
       "      <td>deprecated</td>\n",
       "      <td>MNXM99242</td>\n",
       "      <td>MNXM99665</td>\n",
       "      <td>inferred</td>\n",
       "      <td>NaN</td>\n",
       "    </tr>\n",
       "    <tr>\n",
       "      <th>1533496</th>\n",
       "      <td>deprecated</td>\n",
       "      <td>MNXM9925</td>\n",
       "      <td>MNXM14440</td>\n",
       "      <td>inferred</td>\n",
       "      <td>NaN</td>\n",
       "    </tr>\n",
       "    <tr>\n",
       "      <th>1533497</th>\n",
       "      <td>deprecated</td>\n",
       "      <td>MNXM99441</td>\n",
       "      <td>MNXM830</td>\n",
       "      <td>inferred</td>\n",
       "      <td>NaN</td>\n",
       "    </tr>\n",
       "    <tr>\n",
       "      <th>1533498</th>\n",
       "      <td>deprecated</td>\n",
       "      <td>MNXM99496</td>\n",
       "      <td>MNXM106625</td>\n",
       "      <td>inferred</td>\n",
       "      <td>NaN</td>\n",
       "    </tr>\n",
       "    <tr>\n",
       "      <th>1533499</th>\n",
       "      <td>deprecated</td>\n",
       "      <td>MNXM9960</td>\n",
       "      <td>MNXM23275</td>\n",
       "      <td>inferred</td>\n",
       "      <td>NaN</td>\n",
       "    </tr>\n",
       "    <tr>\n",
       "      <th>1533500</th>\n",
       "      <td>deprecated</td>\n",
       "      <td>MNXM99613</td>\n",
       "      <td>MNXM25923</td>\n",
       "      <td>inferred</td>\n",
       "      <td>NaN</td>\n",
       "    </tr>\n",
       "    <tr>\n",
       "      <th>1533501</th>\n",
       "      <td>deprecated</td>\n",
       "      <td>MNXM99738</td>\n",
       "      <td>MNXM595</td>\n",
       "      <td>inferred</td>\n",
       "      <td>NaN</td>\n",
       "    </tr>\n",
       "    <tr>\n",
       "      <th>1533502</th>\n",
       "      <td>deprecated</td>\n",
       "      <td>MNXM99839</td>\n",
       "      <td>MNXM99318</td>\n",
       "      <td>inferred</td>\n",
       "      <td>NaN</td>\n",
       "    </tr>\n",
       "    <tr>\n",
       "      <th>1533503</th>\n",
       "      <td>deprecated</td>\n",
       "      <td>MNXM9985</td>\n",
       "      <td>MNXM14516</td>\n",
       "      <td>inferred</td>\n",
       "      <td>NaN</td>\n",
       "    </tr>\n",
       "    <tr>\n",
       "      <th>1533504</th>\n",
       "      <td>deprecated</td>\n",
       "      <td>MNXM9996</td>\n",
       "      <td>MNXM36393</td>\n",
       "      <td>inferred</td>\n",
       "      <td>NaN</td>\n",
       "    </tr>\n",
       "    <tr>\n",
       "      <th>1533505</th>\n",
       "      <td>deprecated</td>\n",
       "      <td>MNXM9998</td>\n",
       "      <td>MNXM147000</td>\n",
       "      <td>inferred</td>\n",
       "      <td>NaN</td>\n",
       "    </tr>\n",
       "  </tbody>\n",
       "</table>\n",
       "<p>1533506 rows × 5 columns</p>\n",
       "</div>"
      ],
      "text/plain": [
       "               XREF       XREF_ID      MNX_ID  Evidence  \\\n",
       "0           BIOMASS       BIOMASS    inferred   biomass   \n",
       "1           Biomass       BIOMASS    inferred   biomass   \n",
       "2          metanetx        MNXM01      MNXM01  identity   \n",
       "3              bigg        10fthf     MNXM237  inferred   \n",
       "4          metanetx       MNXM237     MNXM237  identity   \n",
       "5              bigg    10fthf5glu    MNXM3428  identity   \n",
       "6          metanetx      MNXM3428    MNXM3428  identity   \n",
       "7              bigg    10fthf6glu    MNXM3429  identity   \n",
       "8          metanetx      MNXM3429    MNXM3429  identity   \n",
       "9              bigg    10fthf7glu    MNXM5422  identity   \n",
       "10         metanetx      MNXM5422    MNXM5422  identity   \n",
       "11             bigg  10fthfglu__L  MNXM164047  inferred   \n",
       "12         metanetx    MNXM164047  MNXM164047  identity   \n",
       "13             bigg  11_cis_retfa  MNXM146564  identity   \n",
       "14         metanetx    MNXM146564  MNXM146564  identity   \n",
       "15             bigg     11docrtsl  MNXM163103  identity   \n",
       "16         metanetx    MNXM163103  MNXM163103  identity   \n",
       "17             bigg   11docrtstrn  MNXM162887  identity   \n",
       "18         metanetx    MNXM162887  MNXM162887  identity   \n",
       "19             bigg        12HPET   MNXM13989  identity   \n",
       "20         metanetx     MNXM13989   MNXM13989  identity   \n",
       "21             bigg       12RHPET   MNXM13994  identity   \n",
       "22         metanetx     MNXM13994   MNXM13994  identity   \n",
       "23             bigg       12d3k5m  MNXM163631  identity   \n",
       "24         metanetx    MNXM163631  MNXM163631  identity   \n",
       "25             bigg    12dag3p_BS  MNXM163072  identity   \n",
       "26         metanetx    MNXM163072  MNXM163072  identity   \n",
       "27             bigg      12dgr120    MNXM4939  identity   \n",
       "28         metanetx      MNXM4939    MNXM4939  identity   \n",
       "29             bigg      12dgr140  MNXM146479  identity   \n",
       "...             ...           ...         ...       ...   \n",
       "1533476  deprecated      MNXM9795   MNXM63188  inferred   \n",
       "1533477  deprecated      MNXM9799   MNXM37826  inferred   \n",
       "1533478  deprecated       MNXM980   MNXM31441  inferred   \n",
       "1533479  deprecated      MNXM9817   MNXM17214  inferred   \n",
       "1533480  deprecated      MNXM9819    MNXM9818  inferred   \n",
       "1533481  deprecated      MNXM9836   MNXM35167  inferred   \n",
       "1533482  deprecated     MNXM98442   MNXM95059  inferred   \n",
       "1533483  deprecated     MNXM98443   MNXM56082  inferred   \n",
       "1533484  deprecated      MNXM9856   MNXM35236  inferred   \n",
       "1533485  deprecated     MNXM98561  MNXM156993  inferred   \n",
       "1533486  deprecated      MNXM9858   MNXM35277  inferred   \n",
       "1533487  deprecated      MNXM9861   MNXM90279  inferred   \n",
       "1533488  deprecated      MNXM9884   MNXM30541  inferred   \n",
       "1533489  deprecated     MNXM98929   MNXM80939  inferred   \n",
       "1533490  deprecated     MNXM98986   MNXM87035  inferred   \n",
       "1533491  deprecated     MNXM99013    MNXM4444  inferred   \n",
       "1533492  deprecated     MNXM99014    MNXM4920  inferred   \n",
       "1533493  deprecated      MNXM9902   MNXM10521  inferred   \n",
       "1533494  deprecated      MNXM9917    MNXM3231  inferred   \n",
       "1533495  deprecated     MNXM99242   MNXM99665  inferred   \n",
       "1533496  deprecated      MNXM9925   MNXM14440  inferred   \n",
       "1533497  deprecated     MNXM99441     MNXM830  inferred   \n",
       "1533498  deprecated     MNXM99496  MNXM106625  inferred   \n",
       "1533499  deprecated      MNXM9960   MNXM23275  inferred   \n",
       "1533500  deprecated     MNXM99613   MNXM25923  inferred   \n",
       "1533501  deprecated     MNXM99738     MNXM595  inferred   \n",
       "1533502  deprecated     MNXM99839   MNXM99318  inferred   \n",
       "1533503  deprecated      MNXM9985   MNXM14516  inferred   \n",
       "1533504  deprecated      MNXM9996   MNXM36393  inferred   \n",
       "1533505  deprecated      MNXM9998  MNXM147000  inferred   \n",
       "\n",
       "                                               Description  \n",
       "0                                                      NaN  \n",
       "1                                                      NaN  \n",
       "2                                                     H(+)  \n",
       "3                                10-Formyltetrahydrofolate  \n",
       "4                                                      NaN  \n",
       "5                                               10fthf5glu  \n",
       "6                                                      NaN  \n",
       "7                                               10fthf6glu  \n",
       "8                                                      NaN  \n",
       "9                                               10fthf7glu  \n",
       "10                                                     NaN  \n",
       "11                    10-Formyltetrahydrofolyl L-glutamate  \n",
       "12                                                     NaN  \n",
       "13                                            11 cis retfa  \n",
       "14                                                     NaN  \n",
       "15                                               11docrtsl  \n",
       "16                                                     NaN  \n",
       "17                                             11docrtstrn  \n",
       "18                                                     NaN  \n",
       "19                                                  12HPET  \n",
       "20                                                     NaN  \n",
       "21                                                 12RHPET  \n",
       "22                                                     NaN  \n",
       "23                1 2 dihydroxy 3 keto 5 methylthiopentene  \n",
       "24                                                     NaN  \n",
       "25                      1 2 diacyl sn glycerol 3 phosphate  \n",
       "26                                                     NaN  \n",
       "27          1,2-Diacyl-sn-glycerol (didodecanoyl, n-C12:0)  \n",
       "28                                                     NaN  \n",
       "29       1,2-Diacyl-sn-glycerol (ditetradecanoyl, n-C14:0)  \n",
       "...                                                    ...  \n",
       "1533476                                                NaN  \n",
       "1533477                                                NaN  \n",
       "1533478                                                NaN  \n",
       "1533479                                                NaN  \n",
       "1533480                                                NaN  \n",
       "1533481                                                NaN  \n",
       "1533482                                                NaN  \n",
       "1533483                                                NaN  \n",
       "1533484                                                NaN  \n",
       "1533485                                                NaN  \n",
       "1533486                                                NaN  \n",
       "1533487                                                NaN  \n",
       "1533488                                                NaN  \n",
       "1533489                                                NaN  \n",
       "1533490                                                NaN  \n",
       "1533491                                                NaN  \n",
       "1533492                                                NaN  \n",
       "1533493                                                NaN  \n",
       "1533494                                                NaN  \n",
       "1533495                                                NaN  \n",
       "1533496                                                NaN  \n",
       "1533497                                                NaN  \n",
       "1533498                                                NaN  \n",
       "1533499                                                NaN  \n",
       "1533500                                                NaN  \n",
       "1533501                                                NaN  \n",
       "1533502                                                NaN  \n",
       "1533503                                                NaN  \n",
       "1533504                                                NaN  \n",
       "1533505                                                NaN  \n",
       "\n",
       "[1533506 rows x 5 columns]"
      ]
     },
     "execution_count": 4,
     "metadata": {},
     "output_type": "execute_result"
    }
   ],
   "source": [
    "chem_xref = read_csv(\"/Users/lizrad/Dev/iVnat/chem_xref.tsv\" , sep='\\t' , low_memory=False)\n",
    "chem_xref"
   ]
  },
  {
   "cell_type": "markdown",
   "metadata": {},
   "source": [
    "### Bigg IDs to dict key"
   ]
  },
  {
   "cell_type": "code",
   "execution_count": 5,
   "metadata": {},
   "outputs": [
    {
     "data": {
      "text/html": [
       "<div>\n",
       "<style scoped>\n",
       "    .dataframe tbody tr th:only-of-type {\n",
       "        vertical-align: middle;\n",
       "    }\n",
       "\n",
       "    .dataframe tbody tr th {\n",
       "        vertical-align: top;\n",
       "    }\n",
       "\n",
       "    .dataframe thead th {\n",
       "        text-align: right;\n",
       "    }\n",
       "</style>\n",
       "<table border=\"1\" class=\"dataframe\">\n",
       "  <thead>\n",
       "    <tr style=\"text-align: right;\">\n",
       "      <th>XREF_ID</th>\n",
       "      <th>10fthf</th>\n",
       "      <th>10fthf5glu</th>\n",
       "      <th>10fthf6glu</th>\n",
       "      <th>10fthf7glu</th>\n",
       "      <th>10fthfglu__L</th>\n",
       "      <th>11_cis_retfa</th>\n",
       "      <th>11docrtsl</th>\n",
       "      <th>11docrtstrn</th>\n",
       "      <th>12HPET</th>\n",
       "      <th>12RHPET</th>\n",
       "      <th>...</th>\n",
       "      <th>xylu__L</th>\n",
       "      <th>zcarote</th>\n",
       "      <th>zeax</th>\n",
       "      <th>zn2</th>\n",
       "      <th>zxan</th>\n",
       "      <th>zym_int1</th>\n",
       "      <th>zym_int2</th>\n",
       "      <th>zymst</th>\n",
       "      <th>zymstest_SC</th>\n",
       "      <th>zymstnl</th>\n",
       "    </tr>\n",
       "    <tr>\n",
       "      <th>XREF</th>\n",
       "      <th></th>\n",
       "      <th></th>\n",
       "      <th></th>\n",
       "      <th></th>\n",
       "      <th></th>\n",
       "      <th></th>\n",
       "      <th></th>\n",
       "      <th></th>\n",
       "      <th></th>\n",
       "      <th></th>\n",
       "      <th></th>\n",
       "      <th></th>\n",
       "      <th></th>\n",
       "      <th></th>\n",
       "      <th></th>\n",
       "      <th></th>\n",
       "      <th></th>\n",
       "      <th></th>\n",
       "      <th></th>\n",
       "      <th></th>\n",
       "      <th></th>\n",
       "    </tr>\n",
       "  </thead>\n",
       "  <tbody>\n",
       "    <tr>\n",
       "      <th>bigg</th>\n",
       "      <td>MNXM237</td>\n",
       "      <td>MNXM3428</td>\n",
       "      <td>MNXM3429</td>\n",
       "      <td>MNXM5422</td>\n",
       "      <td>MNXM164047</td>\n",
       "      <td>MNXM146564</td>\n",
       "      <td>MNXM163103</td>\n",
       "      <td>MNXM162887</td>\n",
       "      <td>MNXM13989</td>\n",
       "      <td>MNXM13994</td>\n",
       "      <td>...</td>\n",
       "      <td>MNXM597</td>\n",
       "      <td>MNXM1039</td>\n",
       "      <td>MNXM403</td>\n",
       "      <td>MNXM149</td>\n",
       "      <td>MNXM3903</td>\n",
       "      <td>MNXM91328</td>\n",
       "      <td>MNXM97119</td>\n",
       "      <td>MNXM574</td>\n",
       "      <td>MNXM147334</td>\n",
       "      <td>MNXM2494</td>\n",
       "    </tr>\n",
       "    <tr>\n",
       "      <th>metanetx</th>\n",
       "      <td>NaN</td>\n",
       "      <td>NaN</td>\n",
       "      <td>NaN</td>\n",
       "      <td>NaN</td>\n",
       "      <td>NaN</td>\n",
       "      <td>NaN</td>\n",
       "      <td>NaN</td>\n",
       "      <td>NaN</td>\n",
       "      <td>NaN</td>\n",
       "      <td>NaN</td>\n",
       "      <td>...</td>\n",
       "      <td>NaN</td>\n",
       "      <td>NaN</td>\n",
       "      <td>NaN</td>\n",
       "      <td>NaN</td>\n",
       "      <td>NaN</td>\n",
       "      <td>NaN</td>\n",
       "      <td>NaN</td>\n",
       "      <td>NaN</td>\n",
       "      <td>NaN</td>\n",
       "      <td>NaN</td>\n",
       "    </tr>\n",
       "  </tbody>\n",
       "</table>\n",
       "<p>2 rows × 10215 columns</p>\n",
       "</div>"
      ],
      "text/plain": [
       "XREF_ID    10fthf 10fthf5glu 10fthf6glu 10fthf7glu 10fthfglu__L 11_cis_retfa  \\\n",
       "XREF                                                                           \n",
       "bigg      MNXM237   MNXM3428   MNXM3429   MNXM5422   MNXM164047   MNXM146564   \n",
       "metanetx      NaN        NaN        NaN        NaN          NaN          NaN   \n",
       "\n",
       "XREF_ID    11docrtsl 11docrtstrn     12HPET    12RHPET    ...     xylu__L  \\\n",
       "XREF                                                      ...               \n",
       "bigg      MNXM163103  MNXM162887  MNXM13989  MNXM13994    ...     MNXM597   \n",
       "metanetx         NaN         NaN        NaN        NaN    ...         NaN   \n",
       "\n",
       "XREF_ID    zcarote     zeax      zn2      zxan   zym_int1   zym_int2    zymst  \\\n",
       "XREF                                                                            \n",
       "bigg      MNXM1039  MNXM403  MNXM149  MNXM3903  MNXM91328  MNXM97119  MNXM574   \n",
       "metanetx       NaN      NaN      NaN       NaN        NaN        NaN      NaN   \n",
       "\n",
       "XREF_ID  zymstest_SC   zymstnl  \n",
       "XREF                            \n",
       "bigg      MNXM147334  MNXM2494  \n",
       "metanetx         NaN       NaN  \n",
       "\n",
       "[2 rows x 10215 columns]"
      ]
     },
     "execution_count": 5,
     "metadata": {},
     "output_type": "execute_result"
    },
    {
     "data": {
      "text/plain": [
       "{'10fthf': 'MNXM237',\n",
       " '10fthf5glu': 'MNXM3428',\n",
       " '10fthf6glu': 'MNXM3429',\n",
       " '10fthf7glu': 'MNXM5422',\n",
       " '10fthfglu__L': 'MNXM164047',\n",
       " '11_cis_retfa': 'MNXM146564',\n",
       " '11docrtsl': 'MNXM163103',\n",
       " '11docrtstrn': 'MNXM162887',\n",
       " '12HPET': 'MNXM13989',\n",
       " '12RHPET': 'MNXM13994',\n",
       " '12d3k5m': 'MNXM163631',\n",
       " '12dag3p_BS': 'MNXM163072',\n",
       " '12dgr120': 'MNXM4939',\n",
       " '12dgr140': 'MNXM146479',\n",
       " '12dgr141': 'MNXM4940',\n",
       " '12dgr160': 'MNXM3132',\n",
       " '12dgr16018111Z': 'MNXM145578',\n",
       " '12dgr1601819Z': 'MNXM145574',\n",
       " '12dgr161': 'MNXM3774',\n",
       " '12dgr180': 'MNXM4217',\n",
       " '12dgr1801819Z': 'MNXM145575',\n",
       " '12dgr181': 'MNXM3775',\n",
       " '12dgr18111Z160': 'MNXM147342',\n",
       " '12dgr18111Z18111Z': 'MNXM145577',\n",
       " '12dgr18111Z1819Z': 'MNXM145566',\n",
       " '12dgr1819Z160': 'MNXM146745',\n",
       " '12dgr1819Z1619Z': 'MNXM147343',\n",
       " '12dgr1819Z18111Z': 'MNXM145573',\n",
       " '12dgr1819Z1819Z': 'MNXM145565',\n",
       " '12dgr181_9': 'MNXM147348',\n",
       " '12dgr182_9_12': 'MNXM147347',\n",
       " '12dgr183_6_9_12': 'MNXM147345',\n",
       " '12dgr183_9_12_15': 'MNXM147346',\n",
       " '12dgr184_6_9_12_15': 'MNXM147344',\n",
       " '12dgr2_ST': 'MNXM147508',\n",
       " '12dgr_BS': 'MNXM162881',\n",
       " '12dgr_EC': 'MNXM90584',\n",
       " '12dgr_HP': 'MNXM9526',\n",
       " '12dgr_SA': 'MNXM91042',\n",
       " '12dgr_SC': 'MNXM1012',\n",
       " '12harachd': 'MNXM13977',\n",
       " '12ppd__R': 'MNXM90191',\n",
       " '12ppd__S': 'MNXM1255',\n",
       " '13BDglcn': 'MNXM91349',\n",
       " '13Shocdcy1829Z11Ea': 'MNXM9689',\n",
       " '13Shpocdcy1829Z11Ea': 'MNXM2313',\n",
       " '13_cis_oretn': 'MNXM146866',\n",
       " '13_cis_retn': 'MNXM58377',\n",
       " '13_cis_retnglc': 'MNXM146867',\n",
       " '13dampp': 'MNXM146468',\n",
       " '13dpg': 'MNXM261',\n",
       " '13oocdcy1829Z11Ea': 'MNXM101404',\n",
       " '13ppd': 'MNXM2861',\n",
       " '14bxyl': 'MNXM165397',\n",
       " '14dhncoa': 'MNXM147663',\n",
       " '14glucan': 'MNXM2905',\n",
       " '14glun': 'MNXM91761',\n",
       " '15HPET': 'MNXM162620',\n",
       " '15dap': 'MNXM943',\n",
       " '16BDglcn': 'MNXM165456',\n",
       " '17ahprgnlone': 'MNXM162733',\n",
       " '17ahprgstrn': 'MNXM162621',\n",
       " '18harachd': 'MNXM14054',\n",
       " '1Dgali': 'MNXM878',\n",
       " '1a2425thvitd2': 'MNXM9596',\n",
       " '1a2425thvitd3': 'MNXM9597',\n",
       " '1a25dhvitd2': 'MNXM9598',\n",
       " '1a25dhvitd3': 'MNXM9599',\n",
       " '1acpc': 'MNXM1128',\n",
       " '1ag3p_BS': 'MNXM6656',\n",
       " '1ag3p_SC': 'MNXM145527',\n",
       " '1agly3p_SC': 'MNXM91819',\n",
       " '1agpc_SC': 'MNXM147657',\n",
       " '1agpe120': 'MNXM32692',\n",
       " '1agpe140': 'MNXM32693',\n",
       " '1agpe141': 'MNXM6599',\n",
       " '1agpe160': 'MNXM32511',\n",
       " '1agpe161': 'MNXM6601',\n",
       " '1agpe180': 'MNXM32694',\n",
       " '1agpe181': 'MNXM9584',\n",
       " '1agpe18111Z': 'MNXM145879',\n",
       " '1agpe1819Z': 'MNXM145880',\n",
       " '1agpe1829Z12Z': 'MNXM147357',\n",
       " '1agpg120': 'MNXM32695',\n",
       " '1agpg140': 'MNXM6603',\n",
       " '1agpg141': 'MNXM6604',\n",
       " '1agpg160': 'MNXM6605',\n",
       " '1agpg161': 'MNXM6606',\n",
       " '1agpg180': 'MNXM6607',\n",
       " '1agpg181': 'MNXM73868',\n",
       " '1btol': 'MNXM3230',\n",
       " '1ddecg3p': 'MNXM4232',\n",
       " '1glyc_cho': 'MNXM164013',\n",
       " '1glyc_hs': 'MNXM13807',\n",
       " '1hdec9eg3p': 'MNXM91047',\n",
       " '1hdecg3p': 'MNXM90586',\n",
       " '1mncam': 'MNXM2172',\n",
       " '1mpyr': 'MNXM1615',\n",
       " '1msg3p': 'MNXM91355',\n",
       " '1odec11eg3p': 'MNXM91049',\n",
       " '1odec691215eg3p': 'MNXM147680',\n",
       " '1odec6912eg3p': 'MNXM147681',\n",
       " '1odec91215eg3p': 'MNXM147682',\n",
       " '1odec912eg3p': 'MNXM147683',\n",
       " '1odec9eg3p': 'MNXM145555',\n",
       " '1odecg3p': 'MNXM32950',\n",
       " '1p2cbxl': 'MNXM165560',\n",
       " '1p3h5c': 'MNXM114091',\n",
       " '1pipdn2c': 'MNXM911',\n",
       " '1pyr5c': 'MNXM1617',\n",
       " '1tdec7eg3p': 'MNXM91053',\n",
       " '1tdecg3p': 'MNXM3426',\n",
       " '20ahchsterol': 'MNXM164166',\n",
       " '23camp': 'MNXM2598',\n",
       " '23ccmp': 'MNXM3148',\n",
       " '23cgmp': 'MNXM3149',\n",
       " '23cump': 'MNXM3150',\n",
       " '23dappa': 'MNXM91374',\n",
       " '23ddhb': 'MNXM114261',\n",
       " '23dhacoa': 'MNXM9750',\n",
       " '23dhb': 'MNXM455',\n",
       " '23dhba': 'MNXM1978',\n",
       " '23dhbzs': 'MNXM1487',\n",
       " '23dhbzs2': 'MNXM147716',\n",
       " '23dhbzs3': 'MNXM145882',\n",
       " '23dhdp': 'MNXM163139',\n",
       " '23dhmb': 'MNXM114097',\n",
       " '23dhmp': 'MNXM1202',\n",
       " '23dmphol': 'MNXM4266',\n",
       " '23doguln': 'MNXM958',\n",
       " '23dpg': 'MNXM146487',\n",
       " '2425dhvitd2': 'MNXM6764',\n",
       " '2425dhvitd3': 'MNXM6763',\n",
       " '24dab': 'MNXM840',\n",
       " '24dhhed': 'MNXM1623',\n",
       " '24nph': 'MNXM9757',\n",
       " '25aics': 'MNXM32478',\n",
       " '25dhpp': 'MNXM90906',\n",
       " '25dkglcn': 'MNXM936',\n",
       " '25dop': 'MNXM165561',\n",
       " '25drapp': 'MNXM648',\n",
       " '25dthpp': 'MNXM90774',\n",
       " '25hvitd2': 'MNXM4976',\n",
       " '25hvitd3': 'MNXM162388',\n",
       " '26dap_LL': 'MNXM644',\n",
       " '26dap__M': 'MNXM529',\n",
       " '26dapime': 'MNXM164994',\n",
       " '26dmani': 'MNXM2917',\n",
       " '2a3pp': 'MNXM5455',\n",
       " '2agpe120': 'MNXM34808',\n",
       " '2agpe140': 'MNXM34809',\n",
       " '2agpe141': 'MNXM3447',\n",
       " '2agpe160': 'MNXM34810',\n",
       " '2agpe161': 'MNXM3448',\n",
       " '2agpe180': 'MNXM34811',\n",
       " '2agpe181': 'MNXM3449',\n",
       " '2agpg120': 'MNXM3450',\n",
       " '2agpg140': 'MNXM34739',\n",
       " '2agpg141': 'MNXM3452',\n",
       " '2agpg160': 'MNXM34740',\n",
       " '2agpg161': 'MNXM3453',\n",
       " '2agpg180': 'MNXM150642',\n",
       " '2agpg181': 'MNXM3455',\n",
       " '2ahbut': 'MNXM114220',\n",
       " '2ahethmpp': 'MNXM1705',\n",
       " '2ahhmd': 'MNXM1160',\n",
       " '2ahhmp': 'MNXM146055',\n",
       " '2amac': 'MNXM3414',\n",
       " '2ameph': 'MNXM1692',\n",
       " '2amsa': 'MNXM2124',\n",
       " '2aobut': 'MNXM114087',\n",
       " '2c23dh56dhoxin': 'MNXM163662',\n",
       " '2coum': 'MNXM3237',\n",
       " '2cpr5p': 'MNXM1455',\n",
       " '2d5kg': 'MNXM147758',\n",
       " '2dda7p': 'MNXM1219',\n",
       " '2ddecg3p': 'MNXM5461',\n",
       " '2ddg6p': 'MNXM649',\n",
       " '2ddglcn': 'MNXM1627',\n",
       " '2dglc': 'MNXM2925',\n",
       " '2dglcn': 'MNXM3460',\n",
       " '2dh3dgal': 'MNXM1627',\n",
       " '2dh3dgal6p': 'MNXM90136',\n",
       " '2dhglcn': 'MNXM582',\n",
       " '2dhguln': 'MNXM114283',\n",
       " '2dhp': 'MNXM959',\n",
       " '2dhphaccoa': 'MNXM6576',\n",
       " '2dmmq6': 'MNXM6065',\n",
       " '2dmmq7': 'MNXM164125',\n",
       " '2dmmq8': 'MNXM2178',\n",
       " '2dmmql8': 'MNXM558',\n",
       " '2doxg6p': 'MNXM3809',\n",
       " '2dp6mep': 'MNXM91882',\n",
       " '2dp6mobq': 'MNXM9806',\n",
       " '2dp6mobq_me': 'MNXM9803',\n",
       " '2dpmhobq': 'MNXM9802',\n",
       " '2dr1p': 'MNXM789',\n",
       " '2dr5p': 'MNXM2179',\n",
       " '2fe1s': 'MNXM147395',\n",
       " '2fe2s': 'MNXM151647',\n",
       " '2h34hppr': 'MNXM153',\n",
       " '2h3k5m': 'MNXM409',\n",
       " '2h3opp': 'MNXM475',\n",
       " '2h3oppan': 'MNXM475',\n",
       " '2hb': 'MNXM4968',\n",
       " '2hbut': 'MNXM4968',\n",
       " '2hchd': 'MNXM1448',\n",
       " '2hdec9eg3p': 'MNXM5464',\n",
       " '2hdecg3p': 'MNXM5465',\n",
       " '2hh24dd': 'MNXM146251',\n",
       " '2hhxdal': 'MNXM35167',\n",
       " '2hmc': 'MNXM6068',\n",
       " '2hmcnsad': 'MNXM1102',\n",
       " '2hog': 'MNXM1210',\n",
       " '2hp6mbq': 'MNXM147698',\n",
       " '2hp6mp': 'MNXM4291',\n",
       " '2hphaccoa': 'MNXM148614',\n",
       " '2hpmhmbq': 'MNXM147696',\n",
       " '2hpmmbq': 'MNXM147697',\n",
       " '2hxmp': 'MNXM1855',\n",
       " '2hymeph': 'MNXM1855',\n",
       " '2hyoxplac': 'MNXM2160',\n",
       " '2ins': 'MNXM676',\n",
       " '2ippm': 'MNXM1706',\n",
       " '2kmb': 'MNXM276',\n",
       " '2m3osuc': 'MNXM2068',\n",
       " '2m6phol': 'MNXM3160',\n",
       " '2maacoa': 'MNXM524',\n",
       " '2mahmp': 'MNXM1135',\n",
       " '2mb2coa': 'MNXM609',\n",
       " '2mbac': 'MNXM35277',\n",
       " '2mbald': 'MNXM2604',\n",
       " '2mbcoa': 'MNXM569',\n",
       " '2mbdhl': 'MNXM9096',\n",
       " '2mbtoh': 'MNXM5476',\n",
       " '2mcacn': 'MNXM1792',\n",
       " '2mcit': 'MNXM90279',\n",
       " '2me4p': 'MNXM1626',\n",
       " '2mecdp': 'MNXM1168',\n",
       " '2mhob': 'MNXM6733',\n",
       " '2mhop': 'MNXM6734',\n",
       " '2mop': 'MNXM305',\n",
       " '2mp2coa': 'MNXM947',\n",
       " '2mpdhl': 'MNXM7749',\n",
       " '2mppal': 'MNXM5189',\n",
       " '2o3mpt': 'MNXM94056',\n",
       " '2obut': 'MNXM159',\n",
       " '2odec11eg3p': 'MNXM5480',\n",
       " '2odecg3p': 'MNXM5481',\n",
       " '2ohed': 'MNXM90958',\n",
       " '2ohph': 'MNXM1635',\n",
       " '2ohph_5': 'MNXM5483',\n",
       " '2ombz': 'MNXM1903',\n",
       " '2ombzl': 'MNXM162799',\n",
       " '2ombzl_5': 'MNXM6753',\n",
       " '2omcm': 'MNXM4398',\n",
       " '2omhmbl': 'MNXM2187',\n",
       " '2omhmbl_5': 'MNXM6752',\n",
       " '2ommb': 'MNXM90440',\n",
       " '2ommbl': 'MNXM35383',\n",
       " '2ommbl_5': 'MNXM6754',\n",
       " '2omph': 'MNXM1707',\n",
       " '2omph_5': 'MNXM4300',\n",
       " '2ood': 'MNXM114285',\n",
       " '2oph': 'MNXM1886',\n",
       " '2oph_5': 'MNXM6755',\n",
       " '2oxoadp': 'MNXM263',\n",
       " '2oxpaccoa': 'MNXM2851',\n",
       " '2p4c2me': 'MNXM1641',\n",
       " '2pcpgc': 'MNXM3442',\n",
       " '2pg': 'MNXM275',\n",
       " '2pglyc': 'MNXM2074',\n",
       " '2phetoh': 'MNXM2476',\n",
       " '2plac__L': 'MNXM2888',\n",
       " '2ppoh': 'MNXM3085',\n",
       " '2saa': 'MNXM434',\n",
       " '2sephchc': 'MNXM1861',\n",
       " '2shchc': 'MNXM162721',\n",
       " '2tcc': 'MNXM5452',\n",
       " '2tdec7eg3p': 'MNXM5490',\n",
       " '2tdecg3p': 'MNXM5491',\n",
       " '2tpr3dpcoa': 'MNXM2769',\n",
       " '34dhbald': 'MNXM2779',\n",
       " '34dhbz': 'MNXM204',\n",
       " '34dhcinm': 'MNXM890',\n",
       " '34dhmald': 'MNXM1633',\n",
       " '34dhoxmand': 'MNXM90911',\n",
       " '34dhoxpeg': 'MNXM2931',\n",
       " '34dhpac': 'MNXM1401',\n",
       " '34dhpacet': 'MNXM645',\n",
       " '34dhpha': 'MNXM645',\n",
       " '34dhphaccoa': 'MNXM14479',\n",
       " '34dhphe': 'MNXM162631',\n",
       " '34hpl': 'MNXM114141',\n",
       " '34hpp': 'MNXM153',\n",
       " '35ccmp': 'MNXM148637',\n",
       " '35cdamp': 'MNXM91927',\n",
       " '35cgmp': 'MNXM665',\n",
       " '35cimp': 'MNXM91928',\n",
       " '35dhpha': 'MNXM148638',\n",
       " '35dhphaccoa': 'MNXM148639',\n",
       " '35diotyr': 'MNXM163675',\n",
       " '36dahx': 'MNXM1865',\n",
       " '3AStmyn': 'MNXM14448',\n",
       " '3AStrmyn': 'MNXM9930',\n",
       " '3aap': 'MNXM771',\n",
       " '3aib': 'MNXM786',\n",
       " '3aib__D': 'MNXM162802',\n",
       " '3amac': 'MNXM162288',\n",
       " '3amba': 'MNXM36331',\n",
       " '3amp': 'MNXM1985',\n",
       " '3bcrn': 'MNXM163668',\n",
       " '3c2hmp': 'MNXM891',\n",
       " '3c3hmp': 'MNXM985',\n",
       " '3c4mop': 'MNXM1602',\n",
       " '3cmp': 'MNXM2182',\n",
       " '3ddcrn': 'MNXM150910',\n",
       " '3ddgc': 'MNXM3482',\n",
       " '3deccrn': 'MNXM150909',\n",
       " '3dh5hpb': 'MNXM2783',\n",
       " '3dhguln': 'MNXM736',\n",
       " '3dhgulnp': 'MNXM1170',\n",
       " '3dhphaccoa': 'MNXM148613',\n",
       " '3dhq': 'MNXM478',\n",
       " '3dhsk': 'MNXM611',\n",
       " '3dpdhb': 'MNXM91405',\n",
       " '3dpdhb_me': 'MNXM91944',\n",
       " '3dphb': 'MNXM91406',\n",
       " '3dsphgn': 'MNXM559',\n",
       " '3fe4s': 'MNXM147396',\n",
       " '3g12dgr_SA2': 'MNXM103135',\n",
       " '3gmp': 'MNXM2183',\n",
       " '3h26dm5coa': 'MNXM6801',\n",
       " '3haACP': 'MNXM5861',\n",
       " '3hacoa': 'MNXM1875',\n",
       " '3hadpcoa': 'MNXM2784',\n",
       " '3hanthrn': 'MNXM359',\n",
       " '3hbcoa': 'MNXM446',\n",
       " '3hbcoa__R': 'MNXM162788',\n",
       " '3hbutACP': 'MNXM91793',\n",
       " '3hbycoa': 'MNXM446',\n",
       " '3hcddec5eACP': 'MNXM5389',\n",
       " '3hcdgggp': 'MNXM91139',\n",
       " '3hcinnm': 'MNXM1799',\n",
       " '3hcmrs7eACP': 'MNXM5390',\n",
       " '3hcpalm9eACP': 'MNXM6556',\n",
       " '3hcvac11eACP': 'MNXM6557',\n",
       " '3hdcoa': 'MNXM674',\n",
       " '3hddcoa': 'MNXM733',\n",
       " '3hddecACP': 'MNXM27066',\n",
       " '3hdecACP': 'MNXM7127',\n",
       " '3hdgggp': 'MNXM91919',\n",
       " '3hdgggps': 'MNXM91920',\n",
       " '3hdggpg': 'MNXM91917',\n",
       " '3hdggpgp': 'MNXM91918',\n",
       " '3hdggpi': 'MNXM6751',\n",
       " '3hdpgpe': 'MNXM6748',\n",
       " '3hdpgpg': 'MNXM91389',\n",
       " '3hdpgpi': 'MNXM6750',\n",
       " '3hdpgps': 'MNXM91071',\n",
       " '3hexdcoa': 'MNXM163183',\n",
       " '3hexdcrn': 'MNXM36524',\n",
       " '3hfrdp': 'MNXM6807',\n",
       " '3hggdp': 'MNXM6809',\n",
       " '3hgrdp': 'MNXM6808',\n",
       " '3hhcoa': 'MNXM757',\n",
       " '3hhdcoa': 'MNXM825',\n",
       " '3hhexACP': 'MNXM25370',\n",
       " '3hib': 'MNXM114176',\n",
       " '3hibutcoa': 'MNXM446',\n",
       " '3hivcoa': 'MNXM4987',\n",
       " '3hlido': 'MNXM6814',\n",
       " '3hmbcoa': 'MNXM701',\n",
       " '3hmoa': 'MNXM1638',\n",
       " '3hmop': 'MNXM114594',\n",
       " '3hmp': 'MNXM396',\n",
       " '3hmrsACP': 'MNXM7733',\n",
       " '3hocoa': 'MNXM766',\n",
       " '3hoctACP': 'MNXM10019',\n",
       " '3hoctaACP': 'MNXM6417',\n",
       " '3hodcoa': 'MNXM31746',\n",
       " '3hoxpac': 'MNXM1639',\n",
       " '3hpalmACP': 'MNXM2576',\n",
       " '3hpcoa': 'MNXM1263',\n",
       " '3hph5mb': 'MNXM3166',\n",
       " '3hphaccoa': 'MNXM36544',\n",
       " '3hpimcoa': 'MNXM2188',\n",
       " '3hpp': 'MNXM872',\n",
       " '3hppnl': 'MNXM1526',\n",
       " '3hpppn': 'MNXM1634',\n",
       " '3hptcoa': 'MNXM147789',\n",
       " '3htdcoa': 'MNXM767',\n",
       " '3htmelys': 'MNXM91413',\n",
       " '3httdca': 'MNXM146921',\n",
       " '3hxccoa': 'MNXM91798',\n",
       " '3hxkynam': 'MNXM36534',\n",
       " '3ig3p': 'MNXM866',\n",
       " '3ipmmest': 'MNXM14578',\n",
       " '3ityr__L': 'MNXM163676',\n",
       " '3m4hpga': 'MNXM162904',\n",
       " '3mb': 'MNXM7454',\n",
       " '3mb2coa': 'MNXM389',\n",
       " '3mbald': 'MNXM5280',\n",
       " '3mbdhl': 'MNXM5589',\n",
       " '3mbzalc': 'MNXM3486',\n",
       " '3mbzald': 'MNXM4040',\n",
       " '3mcat': 'MNXM1064',\n",
       " '3mgcoa': 'MNXM91417',\n",
       " '3mhtpp': 'MNXM6824',\n",
       " '3mlda': 'MNXM91418',\n",
       " '3mldz': 'MNXM147791',\n",
       " '3mob': 'MNXM238',\n",
       " '3mop': 'MNXM439',\n",
       " '3mox4hoxm': 'MNXM163196',\n",
       " '3mox4hpac': 'MNXM4183',\n",
       " '3moxtyr': 'MNXM3848',\n",
       " '3mtp': 'MNXM2782',\n",
       " '3ntym': 'MNXM97190',\n",
       " '3oacoa': 'MNXM1310',\n",
       " '3ocddec5eACP': 'MNXM6837',\n",
       " '3ocmrs7eACP': 'MNXM6838',\n",
       " '3ocpalm9eACP': 'MNXM6839',\n",
       " '3ocvac11eACP': 'MNXM6840',\n",
       " '3odcoa': 'MNXM677',\n",
       " '3oddcoa': 'MNXM705',\n",
       " '3oddecACP': 'MNXM28933',\n",
       " '3odecACP': 'MNXM26616',\n",
       " '3ohcoa': 'MNXM717',\n",
       " '3ohdcoa': 'MNXM738',\n",
       " '3ohexACP': 'MNXM25602',\n",
       " '3ohodcoa': 'MNXM513',\n",
       " '3ohxccoa': 'MNXM36758',\n",
       " '3omrsACP': 'MNXM26095',\n",
       " '3oocoa': 'MNXM706',\n",
       " '3ooctACP': 'MNXM28031',\n",
       " '3ooctdACP': 'MNXM3491',\n",
       " '3opalmACP': 'MNXM4345',\n",
       " '3opcoa': 'MNXM6325',\n",
       " '3ophb': 'MNXM2195',\n",
       " '3ophb_5': 'MNXM3167',\n",
       " '3opimcoa': 'MNXM2941',\n",
       " '3optcoa': 'MNXM147794',\n",
       " '3otdcoa': 'MNXM707',\n",
       " '3oxdhscoa': 'MNXM3852',\n",
       " '3oxoadp': 'MNXM716',\n",
       " '3padsel': 'MNXM92909',\n",
       " '3pg': 'MNXM126',\n",
       " '3php': 'MNXM541',\n",
       " '3pop': 'MNXM1215',\n",
       " '3psme': 'MNXM1365',\n",
       " '3sala': 'MNXM498',\n",
       " '3snpyr': 'MNXM162632',\n",
       " '3spyr': 'MNXM594',\n",
       " '3tdcrn': 'MNXM150929',\n",
       " '3uib': 'MNXM1015',\n",
       " '3ump': 'MNXM2184',\n",
       " '42A3HP24DB': 'MNXM163203',\n",
       " '44mctr': 'MNXM97101',\n",
       " '44mzym': 'MNXM146507',\n",
       " '46dh25dohxn': 'MNXM164321',\n",
       " '46dhoxquin': 'MNXM9072',\n",
       " '48dhoxquin': 'MNXM9073',\n",
       " '4aabutn': 'MNXM2083',\n",
       " '4abut': 'MNXM192',\n",
       " '4abutn': 'MNXM422',\n",
       " '4abz': 'MNXM421',\n",
       " '4adcho': 'MNXM1458',\n",
       " '4ahmmp': 'MNXM874',\n",
       " '4ampm': 'MNXM790',\n",
       " '4aphdob': 'MNXM163204',\n",
       " '4c2me': 'MNXM1642',\n",
       " '4cml': 'MNXM1521',\n",
       " '4crsol': 'MNXM828',\n",
       " '4fe4s': 'MNXM37766',\n",
       " '4fumacac': 'MNXM708',\n",
       " '4gudbd': 'MNXM2617',\n",
       " '4gudbutn': 'MNXM1312',\n",
       " '4h2kpi': 'MNXM1623',\n",
       " '4h2oglt': 'MNXM894',\n",
       " '4h2opntn': 'MNXM1176',\n",
       " '4h3npac': 'MNXM31169',\n",
       " '4h3npacald': 'MNXM97102',\n",
       " '4hba': 'MNXM107505',\n",
       " '4hbald': 'MNXM577',\n",
       " '4hbutcoa': 'MNXM2334',\n",
       " '4hbz': 'MNXM164',\n",
       " '4hbzACP': 'MNXM6883',\n",
       " '4hbzcoa': 'MNXM739',\n",
       " '4hdebrisoquine': 'MNXM10135',\n",
       " '4hglu': 'MNXM2489',\n",
       " '4hglusa': 'MNXM2687',\n",
       " '4hoxoh': 'MNXM2488',\n",
       " '4hoxpac': 'MNXM3863',\n",
       " '4hoxpacd': 'MNXM479',\n",
       " '4hphac': 'MNXM3863',\n",
       " '4hpro_LT': 'MNXM87584',\n",
       " '4hproara': 'MNXM147484',\n",
       " '4hproara_ara_gal': 'MNXM147487',\n",
       " '4hproara_ara_galara': 'MNXM147488',\n",
       " '4hproara_ara_galaragal': 'MNXM149077',\n",
       " '4hproara_aragal_gal': 'MNXM147126',\n",
       " '4hproara_aragal_galara': 'MNXM148285',\n",
       " '4hproara_aragalara_gal': 'MNXM148284',\n",
       " '4hproaraara': 'MNXM147125',\n",
       " '4hproaraara_ara_gal': 'MNXM149076',\n",
       " '4hproaraara_gal_gal': 'MNXM148283',\n",
       " '4hproaraara_gal_megal': 'MNXM149075',\n",
       " '4hproaraaraara': 'MNXM147486',\n",
       " '4hproaraaraaragal': 'MNXM149074',\n",
       " '4hproaraaragal': 'MNXM146574',\n",
       " '4hproaraaragalara': 'MNXM147485',\n",
       " '4hproaraaragalmeara': 'MNXM149072',\n",
       " '4hproaraaramegal': 'MNXM149073',\n",
       " '4hproaragal': 'MNXM149071',\n",
       " '4hprogal': 'MNXM149070',\n",
       " '4hthr': 'MNXM1802',\n",
       " '4izp': 'MNXM90394',\n",
       " '4kfbp': 'MNXM6894',\n",
       " '4mbzalc': 'MNXM3500',\n",
       " '4mbzald': 'MNXM4077',\n",
       " '4mcat': 'MNXM961',\n",
       " '4met2obut': 'MNXM276',\n",
       " '4mhetz': 'MNXM962',\n",
       " '4mlacac': 'MNXM691',\n",
       " '4mop': 'MNXM404',\n",
       " '4mpetz': 'MNXM960',\n",
       " '4mptnl': 'MNXM162907',\n",
       " '4mtolbutamide': 'MNXM10136',\n",
       " '4mzym': 'MNXM1804',\n",
       " '4mzym_int1': 'MNXM7449',\n",
       " '4mzym_int2': 'MNXM8744',\n",
       " '4nph': 'MNXM162908',\n",
       " '4nphsf': 'MNXM10226',\n",
       " '4ogm': 'MNXM4374',\n",
       " '4pasp': 'MNXM1177',\n",
       " '4per': 'MNXM1407',\n",
       " '4ppan': 'MNXM415',\n",
       " '4ppcys': 'MNXM483',\n",
       " '4pyrdx': 'MNXM163205',\n",
       " '4r5au': 'MNXM791',\n",
       " '4tmeabut': 'MNXM163683',\n",
       " '4tmeabutn': 'MNXM626',\n",
       " '56dh5flura': 'MNXM6119',\n",
       " '56dihindlcrbxlt': 'MNXM10284',\n",
       " '56dthm': 'MNXM772',\n",
       " '56dura': 'MNXM506',\n",
       " '56iqcrbxlt': 'MNXM6292',\n",
       " '5HPET': 'MNXM163693',\n",
       " '5a2opntn': 'MNXM1714',\n",
       " '5adtststerone': 'MNXM162520',\n",
       " '5adtststeroneglc': 'MNXM8181',\n",
       " '5adtststerones': 'MNXM10347',\n",
       " '5aizc': 'MNXM507',\n",
       " '5aop': 'MNXM405',\n",
       " '5apentam': 'MNXM2090',\n",
       " '5aprbu': 'MNXM1178',\n",
       " '5apru': 'MNXM1532',\n",
       " '5aptn': 'MNXM792',\n",
       " '5caiz': 'MNXM1409',\n",
       " '5cmhm': 'MNXM1163',\n",
       " '5cmhmsa': 'MNXM1628',\n",
       " '5cohe': 'MNXM1163',\n",
       " '5d4dglcr': 'MNXM854',\n",
       " '5dglcn': 'MNXM963',\n",
       " '5dh4dglc': 'MNXM854',\n",
       " '5dh4dglcn': 'MNXM718',\n",
       " '5dhf': 'MNXM4080',\n",
       " '5dpmev': 'MNXM689',\n",
       " '5drib': 'MNXM4391',\n",
       " '5flura': 'MNXM1993',\n",
       " '5flurimp': 'MNXM6123',\n",
       " '5forthf': 'MNXM915',\n",
       " '5fthf': 'MNXM1392',\n",
       " '5g2oxpt': 'MNXM1037',\n",
       " '5hbzid': 'MNXM6924',\n",
       " '5hiu': 'MNXM1137',\n",
       " '5homeprazole': 'MNXM10267',\n",
       " '5houdic': 'MNXM1805',\n",
       " '5hoxindact': 'MNXM1057',\n",
       " '5hoxindoa': 'MNXM90519',\n",
       " '5hoxnfkyn': 'MNXM166597',\n",
       " '5htrp': 'MNXM162909',\n",
       " '5hxkyn': 'MNXM166598',\n",
       " '5hxkynam': 'MNXM3508',\n",
       " '5mcsn': 'MNXM3509',\n",
       " '5mdr1p': 'MNXM407',\n",
       " '5mdru1p': 'MNXM522',\n",
       " '5moxact': 'MNXM38195',\n",
       " '5mta': 'MNXM150',\n",
       " '5mthf': 'MNXM318',\n",
       " '5mtr': 'MNXM1592',\n",
       " '5odhf2a': 'MNXM829',\n",
       " '5oxpro': 'MNXM964',\n",
       " '5pg35pg': 'MNXM4772',\n",
       " '5pmev': 'MNXM567',\n",
       " '5pr5hbz': 'MNXM7577',\n",
       " '5prdmbz': 'MNXM1224',\n",
       " '5thf': 'MNXM3687',\n",
       " '6a2ohxnt': 'MNXM916',\n",
       " '6ampenc': 'MNXM2495',\n",
       " '6apa': 'MNXM2495',\n",
       " '6ax': 'MNXM2339',\n",
       " '6ax6ax': 'MNXM2137',\n",
       " '6dg': 'MNXM1434',\n",
       " '6dhf': 'MNXM3615',\n",
       " '6hch1eccoa': 'MNXM2792',\n",
       " '6hmhpt': 'MNXM937',\n",
       " '6hmhptpp': 'MNXM1160',\n",
       " '6hnac': 'MNXM773',\n",
       " '6hoxmelatn': 'MNXM164382',\n",
       " '6htststerone': 'MNXM163219',\n",
       " '6mpur': 'MNXM1156',\n",
       " '6occhcoa': 'MNXM5572',\n",
       " '6p2dhglcn': 'MNXM1218',\n",
       " '6pgc': 'MNXM325',\n",
       " '6pgg': 'MNXM147389',\n",
       " '6pgl': 'MNXM429',\n",
       " '6pthp': 'MNXM467',\n",
       " '6tgsnmp': 'MNXM5574',\n",
       " '6thf': 'MNXM3616',\n",
       " '6tins5mp': 'MNXM3196',\n",
       " '6txan5mp': 'MNXM6955',\n",
       " '7dhchsterol': 'MNXM162639',\n",
       " '7dhf': 'MNXM5779',\n",
       " '7mhp': 'MNXM5029',\n",
       " '7mht': 'MNXM3883',\n",
       " '7ohp': 'MNXM4423',\n",
       " '7thf': 'MNXM5780',\n",
       " '8aonn': 'MNXM1141',\n",
       " '9_cis_retfa': 'MNXM146565',\n",
       " 'ACP': 'MNXM925',\n",
       " 'Ac1PIM1': 'MNXM7024',\n",
       " 'Ac1PIM2': 'MNXM4431',\n",
       " 'Ac1PIM3': 'MNXM7025',\n",
       " 'Ac1PIM4': 'MNXM10580',\n",
       " 'Ac2PIM2': 'MNXM11348',\n",
       " 'Asn_X_Ser_Thr': 'MNXM145923',\n",
       " 'B_ara1p': 'MNXM2808',\n",
       " 'Brfap': 'MNXM114345',\n",
       " 'C01241': 'MNXM91270',\n",
       " 'C01507': 'MNXM168132',\n",
       " 'C01601': 'MNXM12480',\n",
       " 'C01747': 'MNXM163889',\n",
       " 'C01836': 'MNXM64520',\n",
       " 'C02147': 'MNXM3585',\n",
       " 'C02356': 'MNXM17054',\n",
       " 'C02442': 'MNXM3670',\n",
       " 'C02470': 'MNXM5989',\n",
       " 'C02528': 'MNXM1183',\n",
       " 'C02712': 'MNXM7576',\n",
       " 'C02744': 'MNXM7718',\n",
       " 'C03405': 'MNXM59674',\n",
       " 'C03413': 'MNXM4676',\n",
       " 'C03577': 'MNXM3823',\n",
       " 'C03681': 'MNXM1066',\n",
       " 'C03693': 'MNXM48557',\n",
       " 'C03958': 'MNXM21371',\n",
       " 'C04051': 'MNXM4388',\n",
       " 'C04295': 'MNXM2973',\n",
       " 'C04308': 'MNXM75100',\n",
       " 'C04717': 'MNXM165530',\n",
       " 'C04805': 'MNXM38414',\n",
       " 'C04843': 'MNXM5376',\n",
       " 'C04849': 'MNXM4921',\n",
       " 'C05284': 'MNXM2593',\n",
       " 'C05298': 'MNXM3813',\n",
       " 'C05299': 'MNXM4971',\n",
       " 'C05300': 'MNXM3794',\n",
       " 'C05301': 'MNXM2926',\n",
       " 'C05302': 'MNXM4970',\n",
       " 'C05708': 'MNXM81813',\n",
       " 'C05769': 'MNXM167472',\n",
       " 'C05957': 'MNXM7704',\n",
       " 'C06199': 'MNXM11832',\n",
       " 'C06314': 'MNXM12129',\n",
       " 'C06315': 'MNXM12130',\n",
       " 'C06350': 'MNXM114536',\n",
       " 'C06453': 'MNXM90852',\n",
       " 'C06948': 'MNXM50391',\n",
       " 'C07486': 'MNXM64920',\n",
       " 'C07535': 'MNXM3216',\n",
       " 'C08261': 'MNXM164574',\n",
       " 'C08276': 'MNXM2782',\n",
       " 'C09209': 'MNXM11747',\n",
       " 'C09640': 'MNXM13455',\n",
       " 'C09642': 'MNXM9366',\n",
       " 'C100mclPHA': 'MNXM6198',\n",
       " 'C10164': 'MNXM168895',\n",
       " 'C11304': 'MNXM81247',\n",
       " 'C11695': 'MNXM5060',\n",
       " 'C11821': 'MNXM1137',\n",
       " 'C120mclPHA': 'MNXM6199',\n",
       " 'C121mclPHA': 'MNXM8355',\n",
       " 'C13856': 'MNXM1167',\n",
       " 'C140mclPHA': 'MNXM8356',\n",
       " 'C141mclPHA': 'MNXM8357',\n",
       " 'C14768': 'MNXM6120',\n",
       " 'C14769': 'MNXM6139',\n",
       " 'C14770': 'MNXM6048',\n",
       " 'C14771': 'MNXM6053',\n",
       " 'C14825': 'MNXM6142',\n",
       " 'C14826': 'MNXM91839',\n",
       " 'C14849': 'MNXM7106',\n",
       " 'C14851': 'MNXM7104',\n",
       " 'C60mclPHA': 'MNXM6200',\n",
       " 'C80mclPHA': 'MNXM6201',\n",
       " 'CCbuttc': 'MNXM1134',\n",
       " 'CDP_4keto_36dideox_glc': 'MNXM148986',\n",
       " 'CDP_4keto_6deox_glc': 'MNXM148987',\n",
       " 'CE0074': 'MNXM15828',\n",
       " 'CE0233': 'MNXM151435',\n",
       " 'CE0347': 'MNXM162888',\n",
       " 'CE0469': 'MNXM167779',\n",
       " 'CE0692': 'MNXM166246',\n",
       " 'CE0693': 'MNXM166245',\n",
       " 'CE0713': 'MNXM166247',\n",
       " 'CE0737': 'MNXM61004',\n",
       " 'CE0782': 'MNXM166248',\n",
       " 'CE0853': 'MNXM166250',\n",
       " 'CE0955': 'MNXM6131',\n",
       " 'CE1059': 'MNXM64037',\n",
       " 'CE1102': 'MNXM167439',\n",
       " 'CE1162': 'MNXM169417',\n",
       " 'CE1243': 'MNXM13995',\n",
       " 'CE1272': 'MNXM29720',\n",
       " 'CE1273': 'MNXM163691',\n",
       " 'CE1274': 'MNXM151029',\n",
       " 'CE1277': 'MNXM28106',\n",
       " 'CE1278': 'MNXM164360',\n",
       " 'CE1279': 'MNXM164359',\n",
       " 'CE1292': 'MNXM163195',\n",
       " 'CE1293': 'MNXM166031',\n",
       " 'CE1294': 'MNXM150736',\n",
       " 'CE1297': 'MNXM164395',\n",
       " 'CE1298': 'MNXM163194',\n",
       " 'CE1310': 'MNXM98606',\n",
       " 'CE1401': 'MNXM59433',\n",
       " 'CE1447': 'MNXM9667',\n",
       " 'CE1554': 'MNXM19630',\n",
       " 'CE1556': 'MNXM163469',\n",
       " 'CE1562': 'MNXM6292',\n",
       " 'CE1589': 'MNXM3972',\n",
       " 'CE1617': 'MNXM10472',\n",
       " 'CE1661': 'MNXM167780',\n",
       " 'CE1665': 'MNXM167778',\n",
       " 'CE1761': 'MNXM164305',\n",
       " 'CE1787': 'MNXM42',\n",
       " 'CE1918': 'MNXM8173',\n",
       " 'CE1925': 'MNXM163170',\n",
       " 'CE1926': 'MNXM163392',\n",
       " 'CE1935': 'MNXM162716',\n",
       " 'CE1936': 'MNXM82536',\n",
       " 'CE1937': 'MNXM161256',\n",
       " 'CE1939': 'MNXM162714',\n",
       " 'CE1940': 'MNXM162715',\n",
       " 'CE1941': 'MNXM58163',\n",
       " 'CE1943': 'MNXM162776',\n",
       " 'CE1944': 'MNXM1880',\n",
       " 'CE1957': 'MNXM31169',\n",
       " 'CE2006': 'MNXM6110',\n",
       " 'CE2011': 'MNXM57006',\n",
       " 'CE2020': 'MNXM63653',\n",
       " 'CE2026': 'MNXM166207',\n",
       " 'CE2028': 'MNXM36533',\n",
       " 'CE2047': 'MNXM93048',\n",
       " 'CE2049': 'MNXM163104',\n",
       " 'CE2053': 'MNXM35503',\n",
       " 'CE2056': 'MNXM35484',\n",
       " 'CE2065': 'MNXM40087',\n",
       " 'CE2072': 'MNXM95678',\n",
       " 'CE2084': 'MNXM94297',\n",
       " 'CE2088': 'MNXM168488',\n",
       " 'CE2089': 'MNXM165124',\n",
       " 'CE2095': 'MNXM163184',\n",
       " 'CE2102': 'MNXM60228',\n",
       " 'CE2122': 'MNXM12249',\n",
       " 'CE2152': 'MNXM32042',\n",
       " 'CE2153': 'MNXM166635',\n",
       " 'CE2172': 'MNXM166603',\n",
       " 'CE2173': 'MNXM158565',\n",
       " 'CE2174': 'MNXM151064',\n",
       " 'CE2176': 'MNXM10073',\n",
       " 'CE2180': 'MNXM37528',\n",
       " 'CE2183': 'MNXM165923',\n",
       " 'CE2184': 'MNXM35123',\n",
       " 'CE2186': 'MNXM37599',\n",
       " 'CE2189': 'MNXM151212',\n",
       " 'CE2196': 'MNXM31535',\n",
       " 'CE2201': 'MNXM30699',\n",
       " 'CE2202': 'MNXM30695',\n",
       " 'CE2203': 'MNXM150729',\n",
       " 'CE2204': 'MNXM150730',\n",
       " 'CE2206': 'MNXM4159',\n",
       " 'CE2207': 'MNXM6501',\n",
       " 'CE2209': 'MNXM90931',\n",
       " 'CE2211': 'MNXM3494',\n",
       " 'CE2242': 'MNXM97615',\n",
       " 'CE2243': 'MNXM163905',\n",
       " 'CE2245': 'MNXM165192',\n",
       " 'CE2246': 'MNXM162568',\n",
       " 'CE2247': 'MNXM146349',\n",
       " 'CE2248': 'MNXM1309',\n",
       " 'CE2249': 'MNXM163185',\n",
       " 'CE2250': 'MNXM36756',\n",
       " 'CE2251': 'MNXM36762',\n",
       " 'CE2253': 'MNXM36773',\n",
       " 'CE2303': 'MNXM151630',\n",
       " 'CE2304': 'MNXM150158',\n",
       " 'CE2305': 'MNXM150189',\n",
       " 'CE2306': 'MNXM150196',\n",
       " 'CE2313': 'MNXM166287',\n",
       " 'CE2314': 'MNXM5534',\n",
       " 'CE2345': 'MNXM164390',\n",
       " 'CE2414': 'MNXM165293',\n",
       " 'CE2416': 'MNXM165274',\n",
       " 'CE2417': 'MNXM166068',\n",
       " 'CE2418': 'MNXM31113',\n",
       " 'CE2420': 'MNXM31119',\n",
       " 'CE2421': 'MNXM31120',\n",
       " 'CE2422': 'MNXM166235',\n",
       " 'CE2424': 'MNXM166234',\n",
       " 'CE2445': 'MNXM48977',\n",
       " 'CE2446': 'MNXM164381',\n",
       " 'CE2510': 'MNXM165514',\n",
       " 'CE2516': 'MNXM5607',\n",
       " 'CE2537': 'MNXM165539',\n",
       " 'CE2565': 'MNXM33399',\n",
       " 'CE2566': 'MNXM162637',\n",
       " 'CE2567': 'MNXM162458',\n",
       " 'CE2568': 'MNXM38672',\n",
       " 'CE2569': 'MNXM33428',\n",
       " 'CE2576': 'MNXM14753',\n",
       " 'CE2577': 'MNXM7935',\n",
       " 'CE2592': 'MNXM31749',\n",
       " 'CE2597': 'MNXM166067',\n",
       " 'CE2615': 'MNXM164138',\n",
       " 'CE2616': 'MNXM165945',\n",
       " 'CE2705': 'MNXM90267',\n",
       " 'CE2751': 'MNXM164752',\n",
       " 'CE2754': 'MNXM690',\n",
       " 'CE2838': 'MNXM61030',\n",
       " 'CE2839': 'MNXM61023',\n",
       " 'CE2846': 'MNXM167748',\n",
       " 'CE2847': 'MNXM53921',\n",
       " 'CE2848': 'MNXM167747',\n",
       " 'CE2858': 'MNXM51736',\n",
       " 'CE2862': 'MNXM165013',\n",
       " 'CE2863': 'MNXM64523',\n",
       " 'CE2866': 'MNXM1986',\n",
       " 'CE2870': 'MNXM164192',\n",
       " 'CE2872': 'MNXM9935',\n",
       " 'CE2874': 'MNXM169240',\n",
       " 'CE2875': 'MNXM150752',\n",
       " 'CE2876': 'MNXM150745',\n",
       " 'CE2877': 'MNXM166090',\n",
       " 'CE2878': 'MNXM166073',\n",
       " 'CE2879': 'MNXM166093',\n",
       " 'CE2880': 'MNXM166076',\n",
       " 'CE2881': 'MNXM166091',\n",
       " 'CE2882': 'MNXM166074',\n",
       " 'CE2883': 'MNXM166094',\n",
       " 'CE2884': 'MNXM166036',\n",
       " 'CE2885': 'MNXM166092',\n",
       " 'CE2886': 'MNXM166075',\n",
       " 'CE2887': 'MNXM166095',\n",
       " 'CE2888': 'MNXM166037',\n",
       " 'CE2890': 'MNXM51735',\n",
       " 'CE2891': 'MNXM51738',\n",
       " 'CE2915': 'MNXM163311',\n",
       " 'CE2916': 'MNXM158695',\n",
       " 'CE2917': 'MNXM42305',\n",
       " 'CE2934': 'MNXM35291',\n",
       " 'CE2947': 'MNXM89165',\n",
       " 'CE2949': 'MNXM168758',\n",
       " 'CE2953': 'MNXM10632',\n",
       " 'CE2955': 'MNXM40794',\n",
       " 'CE2957': 'MNXM164069',\n",
       " 'CE2958': 'MNXM160766',\n",
       " 'CE2961': 'MNXM151179',\n",
       " 'CE2962': 'MNXM160765',\n",
       " 'CE2963': 'MNXM164331',\n",
       " 'CE2964': 'MNXM164331',\n",
       " 'CE3038': 'MNXM6853',\n",
       " 'CE3075': 'MNXM48480',\n",
       " 'CE3086': 'MNXM166294',\n",
       " 'CE3087': 'MNXM43781',\n",
       " 'CE3092': 'MNXM165154',\n",
       " 'CE3136': 'MNXM166718',\n",
       " 'CE3140': 'MNXM32416',\n",
       " 'CE3481': 'MNXM32836',\n",
       " 'CE3554': 'MNXM35505',\n",
       " 'CE4633': 'MNXM3035',\n",
       " 'CE4722': 'MNXM152651',\n",
       " 'CE4723': 'MNXM158696',\n",
       " 'CE4724': 'MNXM152293',\n",
       " 'CE4753': 'MNXM51740',\n",
       " 'CE4754': 'MNXM51741',\n",
       " 'CE4793': 'MNXM166236',\n",
       " 'CE4810': 'MNXM7114',\n",
       " 'CE4811': 'MNXM164249',\n",
       " 'CE4812': 'MNXM164756',\n",
       " 'CE4816': 'MNXM164161',\n",
       " 'CE4817': 'MNXM164187',\n",
       " 'CE4818': 'MNXM164189',\n",
       " 'CE4819': 'MNXM164262',\n",
       " 'CE4820': 'MNXM164259',\n",
       " 'CE4821': 'MNXM164160',\n",
       " 'CE4824': 'MNXM169215',\n",
       " 'CE4830': 'MNXM163157',\n",
       " 'CE4831': 'MNXM164188',\n",
       " 'CE4833': 'MNXM164263',\n",
       " 'CE4834': 'MNXM164266',\n",
       " 'CE4835': 'MNXM145822',\n",
       " 'CE4837': 'MNXM165171',\n",
       " 'CE4840': 'MNXM163965',\n",
       " 'CE4841': 'MNXM164268',\n",
       " 'CE4842': 'MNXM165186',\n",
       " 'CE4843': 'MNXM167435',\n",
       " 'CE4844': 'MNXM150755',\n",
       " 'CE4845': 'MNXM164264',\n",
       " 'CE4846': 'MNXM161733',\n",
       " 'CE4847': 'MNXM153498',\n",
       " 'CE4848': 'MNXM150759',\n",
       " 'CE4849': 'MNXM150760',\n",
       " 'CE4850': 'MNXM164261',\n",
       " 'CE4851': 'MNXM164265',\n",
       " 'CE4852': 'MNXM161731',\n",
       " 'CE4853': 'MNXM161732',\n",
       " 'CE4854': 'MNXM164507',\n",
       " 'CE4855': 'MNXM151927',\n",
       " 'CE4872': 'MNXM867',\n",
       " 'CE4874': 'MNXM163692',\n",
       " 'CE4876': 'MNXM6638',\n",
       " 'CE4877': 'MNXM164061',\n",
       " 'CE4881': 'MNXM162976',\n",
       " 'CE4888': 'MNXM163363',\n",
       " 'CE4890': 'MNXM31861',\n",
       " 'CE4898': 'MNXM164055',\n",
       " 'CE4936': 'MNXM63564',\n",
       " 'CE4968': 'MNXM58397',\n",
       " 'CE4969': 'MNXM57844',\n",
       " 'CE4970': 'MNXM35282',\n",
       " 'CE4980': 'MNXM78303',\n",
       " 'CE4987': 'MNXM33031',\n",
       " 'CE4988': 'MNXM162617',\n",
       " 'CE4989': 'MNXM163164',\n",
       " 'CE4990': 'MNXM6635',\n",
       " 'CE4993': 'MNXM150154',\n",
       " 'CE5013': 'MNXM165537',\n",
       " 'CE5014': 'MNXM42129',\n",
       " 'CE5016': 'MNXM165531',\n",
       " 'CE5021': 'MNXM166990',\n",
       " 'CE5022': 'MNXM164520',\n",
       " 'CE5025': 'MNXM164351',\n",
       " 'CE5026': 'MNXM164352',\n",
       " 'CE5068': 'MNXM165975',\n",
       " 'CE5072': 'MNXM8277',\n",
       " 'CE5082': 'MNXM168463',\n",
       " 'CE5114': 'MNXM165187',\n",
       " 'CE5122': 'MNXM166069',\n",
       " 'CE5126': 'MNXM35866',\n",
       " 'CE5138': 'MNXM33278',\n",
       " 'CE5139': 'MNXM33277',\n",
       " 'CE5140': 'MNXM33279',\n",
       " 'CE5141': 'MNXM150182',\n",
       " 'CE5144': 'MNXM163188',\n",
       " 'CE5148': 'MNXM163172',\n",
       " 'CE5150': 'MNXM163588',\n",
       " 'CE5151': 'MNXM11852',\n",
       " 'CE5152': 'MNXM163189',\n",
       " 'CE5153': 'MNXM163173',\n",
       " 'CE5154': 'MNXM163589',\n",
       " 'CE5155': 'MNXM162947',\n",
       " 'CE5156': 'MNXM163190',\n",
       " 'CE5157': 'MNXM163174',\n",
       " 'CE5158': 'MNXM163590',\n",
       " 'CE5160': 'MNXM163191',\n",
       " 'CE5161': 'MNXM163175',\n",
       " 'CE5162': 'MNXM163591',\n",
       " 'CE5168': 'MNXM166027',\n",
       " 'CE5178': 'MNXM38280',\n",
       " 'CE5179': 'MNXM163695',\n",
       " 'CE5236': 'MNXM65212',\n",
       " 'CE5239': 'MNXM163148',\n",
       " 'CE5240': 'MNXM35159',\n",
       " 'CE5241': 'MNXM163147',\n",
       " 'CE5242': 'MNXM35158',\n",
       " 'CE5243': 'MNXM151160',\n",
       " 'CE5244': 'MNXM37530',\n",
       " 'CE5249': 'MNXM150262',\n",
       " 'CE5250': 'MNXM150261',\n",
       " 'CE5251': 'MNXM52647',\n",
       " 'CE5252': 'MNXM52646',\n",
       " 'CE5253': 'MNXM165551',\n",
       " 'CE5254': 'MNXM165550',\n",
       " 'CE5255': 'MNXM167710',\n",
       " 'CE5256': 'MNXM167709',\n",
       " 'CE5276': 'MNXM5727',\n",
       " 'CE5277': 'MNXM152198',\n",
       " 'CE5278': 'MNXM51534',\n",
       " ...}"
      ]
     },
     "execution_count": 5,
     "metadata": {},
     "output_type": "execute_result"
    }
   ],
   "source": [
    "df_bigg = chem_xref.loc[2:10216,'XREF':'MNX_ID']\n",
    "pivoted_bigg = df_bigg.pivot_table(index='XREF',columns='XREF_ID',values='MNX_ID',aggfunc = lambda x: x)\n",
    "pivoted_bigg\n",
    "#pivoted_bigg=pivoted_bigg.drop(['metanetx'])\n",
    "chem_xref_MNX_bigg_dict = pivoted_bigg.to_dict('index')\n",
    "chem_xref_MNX_bigg_dict2 = chem_xref_MNX_bigg_dict['bigg']\n",
    "chem_xref_MNX_bigg_dict2"
   ]
  },
  {
   "cell_type": "markdown",
   "metadata": {},
   "source": [
    "### Bigg IDs to annotation field"
   ]
  },
  {
   "cell_type": "code",
   "execution_count": 6,
   "metadata": {},
   "outputs": [
    {
     "name": "stdout",
     "output_type": "stream",
     "text": [
      "{'metanetx.chemical': 'MNXM421', 'seed.compound': 'cpd00443', 'bigg.metabolite': '4abz'}\n",
      "{'metanetx.chemical': 'MNXM1160', 'seed.compound': 'cpd02920', 'bigg.metabolite': '2ahhmd'}\n",
      "{'metanetx.chemical': 'MNXM1160', 'seed.compound': 'cpd02920', 'bigg.metabolite': '6hmhptpp'}\n",
      "{'metanetx.chemical': 'MNXM11', 'seed.compound': 'cpd00012', 'bigg.metabolite': 'ppi'}\n",
      "{'metanetx.chemical': 'MNXM1', 'seed.compound': 'cpd00067', 'bigg.metabolite': 'h'}\n",
      "{'metanetx.chemical': 'MNXM965', 'seed.compound': 'cpd00683', 'bigg.metabolite': 'dhpt'}\n",
      "{'metanetx.chemical': 'MNXM3', 'seed.compound': 'cpd00002', 'bigg.metabolite': 'atp'}\n",
      "{'metanetx.chemical': 'MNXM29', 'seed.compound': 'cpd00033', 'bigg.metabolite': 'gly'}\n",
      "{'metanetx.chemical': 'MNXM412', 'seed.compound': 'cpd00506', 'bigg.metabolite': 'glucys'}\n",
      "{'metanetx.chemical': 'MNXM7', 'seed.compound': 'cpd00008', 'bigg.metabolite': 'adp'}\n",
      "{'metanetx.chemical': 'MNXM9', 'seed.compound': 'cpd00009', 'bigg.metabolite': 'pi'}\n",
      "{'metanetx.chemical': 'MNXM57', 'seed.compound': 'cpd00042', 'bigg.metabolite': 'gthrd'}\n",
      "{'metanetx.chemical': 'MNXM1024', 'seed.compound': 'cpd00213', 'bigg.metabolite': 'lpam'}\n",
      "{'metanetx.chemical': 'MNXM6734', 'seed.compound': 'cpd14700', 'bigg.metabolite': '2mhop'}\n",
      "{'metanetx.chemical': 'MNXM256', 'seed.compound': 'cpd00056', 'bigg.metabolite': 'thmpp'}\n",
      "{'metanetx.chemical': 'MNXM7749', 'seed.compound': 'cpd02700', 'bigg.metabolite': '2mpdhl'}\n",
      "{'metanetx.chemical': 'MNXM125', 'seed.compound': 'cpd00114', 'bigg.metabolite': 'imp'}\n",
      "{'metanetx.chemical': 'MNXM91', 'seed.compound': 'cpd00103', 'bigg.metabolite': 'prpp'}\n",
      "{'metanetx.chemical': 'MNXM213', 'seed.compound': 'cpd00226', 'bigg.metabolite': 'hxan'}\n",
      "{'metanetx.chemical': 'MNXM8', 'seed.compound': 'cpd00003', 'bigg.metabolite': 'nad'}\n",
      "{'metanetx.chemical': 'MNXM90191', 'seed.compound': 'cpd01861', 'bigg.metabolite': '12ppd__R'}\n",
      "{'metanetx.chemical': 'MNXM10', 'seed.compound': 'cpd00004', 'bigg.metabolite': 'nadh'}\n",
      "{'metanetx.chemical': 'MNXM909', 'seed.compound': 'cpd00693', 'bigg.metabolite': 'lald__D'}\n",
      "{'metanetx.chemical': 'MNXM2', 'seed.compound': 'cpd00001', 'bigg.metabolite': 'h2o'}\n",
      "{'metanetx.chemical': 'MNXM2', 'seed.compound': 'cpd00001', 'bigg.metabolite': 'oh1'}\n",
      "{'metanetx.chemical': 'MNXM42', 'seed.compound': 'cpd00041', 'bigg.metabolite': 'CE1787'}\n",
      "{'metanetx.chemical': 'MNXM42', 'seed.compound': 'cpd00041', 'bigg.metabolite': 'CE5868'}\n",
      "{'metanetx.chemical': 'MNXM42', 'seed.compound': 'cpd00041', 'bigg.metabolite': 'asp__L'}\n",
      "{'metanetx.chemical': 'MNXM16', 'seed.compound': 'cpd00017', 'bigg.metabolite': 'amet'}\n",
      "{'metanetx.chemical': 'MNXM162285', 'seed.compound': 'cpd00074', 'bigg.metabolite': 's'}\n",
      "{'metanetx.chemical': 'MNXM1020', 'seed.compound': 'cpd01311', 'bigg.metabolite': 'dtbt'}\n",
      "{'metanetx.chemical': 'MNXM61', 'seed.compound': 'cpd00060', 'bigg.metabolite': 'met__L'}\n",
      "{'metanetx.chemical': 'MNXM304', 'seed.compound': 'cpd00104', 'bigg.metabolite': 'btn'}\n",
      "{'metanetx.chemical': 'MNXM316', 'seed.compound': 'cpd03091', 'bigg.metabolite': 'dad_5'}\n",
      "{'metanetx.chemical': 'MNXM1', 'seed.compound': 'cpd00067', 'bigg.metabolite': 'h'}\n",
      "{'metanetx.chemical': 'MNXM212', 'seed.compound': 'cpd00182', 'bigg.metabolite': 'adn'}\n",
      "{'metanetx.chemical': 'MNXM212', 'seed.compound': 'cpd00182', 'bigg.metabolite': 'adn'}\n",
      "{'metanetx.chemical': 'MNXM964', 'seed.compound': 'cpd01293', 'bigg.metabolite': '5oxpro'}\n",
      "{'metanetx.chemical': 'MNXM390', 'seed.compound': 'cpd00108', 'bigg.metabolite': 'gal'}\n",
      "{'metanetx.chemical': 'MNXM146539', 'seed.compound': 'cpd00878', 'bigg.metabolite': 'gluside_cho'}\n",
      "{'metanetx.chemical': 'MNXM21', 'seed.compound': 'cpd00022', 'bigg.metabolite': 'accoa'}\n",
      "{'metanetx.chemical': 'MNXM53', 'seed.compound': 'cpd00054', 'bigg.metabolite': 'ser__L'}\n",
      "{'metanetx.chemical': 'MNXM12', 'seed.compound': 'cpd00010', 'bigg.metabolite': 'coa'}\n",
      "{'metanetx.chemical': 'MNXM418', 'seed.compound': 'cpd00722', 'bigg.metabolite': 'acser'}\n",
      "{'metanetx.chemical': 'MNXM31', 'seed.compound': 'cpd00046', 'bigg.metabolite': 'cmp'}\n",
      "{'metanetx.chemical': 'MNXM220', 'seed.compound': 'cpd00096', 'bigg.metabolite': 'cdp'}\n",
      "{'metanetx.chemical': 'MNXM93', 'seed.compound': 'cpd00106', 'bigg.metabolite': 'fum'}\n",
      "{'metanetx.chemical': 'MNXM93', 'seed.compound': 'cpd00106', 'bigg.metabolite': 'fum'}\n",
      "{'metanetx.chemical': 'MNXM47', 'seed.compound': 'cpd00037', 'bigg.metabolite': 'uacgam'}\n",
      "{'metanetx.chemical': 'MNXM2264', 'seed.compound': 'cpd03494', 'bigg.metabolite': 'uagmda'}\n",
      "{'metanetx.chemical': 'MNXM17', 'seed.compound': 'cpd00014', 'bigg.metabolite': 'udp'}\n",
      "{'metanetx.chemical': 'MNXM1242', 'seed.compound': 'cpd03495', 'bigg.metabolite': 'uaagmda'}\n",
      "{'metanetx.chemical': 'MNXM799', 'seed.compound': 'cpd00658', 'bigg.metabolite': 'ichor'}\n",
      "{'metanetx.chemical': 'MNXM23', 'seed.compound': 'cpd00020', 'bigg.metabolite': 'pyr'}\n",
      "{'metanetx.chemical': 'MNXM114261', 'seed.compound': 'cpd02566', 'bigg.metabolite': '23ddhb'}\n",
      "{'metanetx.chemical': 'MNXM14', 'seed.compound': 'cpd00018', 'bigg.metabolite': 'amp'}\n",
      "{'metanetx.chemical': 'MNXM89557', 'seed.compound': 'cpd00023', 'bigg.metabolite': 'glu__L'}\n",
      "{'metanetx.chemical': 'MNXM55', 'seed.compound': 'cpd00084', 'bigg.metabolite': 'cys__L'}\n",
      "{'metanetx.chemical': 'MNXM33', 'seed.compound': 'cpd00015', 'bigg.metabolite': 'fad'}\n",
      "{'metanetx.chemical': 'MNXM98', 'seed.compound': 'cpd00130', 'bigg.metabolite': 'mal__L'}\n",
      "{'metanetx.chemical': 'MNXM46', 'seed.compound': 'cpd00032', 'bigg.metabolite': 'oaa'}\n",
      "{'metanetx.chemical': 'MNXM38', 'seed.compound': 'cpd00982', 'bigg.metabolite': 'fadh2'}\n",
      "{'metanetx.chemical': 'MNXM411', 'seed.compound': 'cpd00533', 'bigg.metabolite': 'dcdp'}\n",
      "{'metanetx.chemical': 'MNXM360', 'seed.compound': 'cpd00356', 'bigg.metabolite': 'dctp'}\n",
      "{'metanetx.chemical': 'MNXM13', 'seed.compound': 'cpd00011', 'bigg.metabolite': 'co2'}\n",
      "{'metanetx.chemical': 'MNXM73', 'seed.compound': 'cpd00061', 'bigg.metabolite': 'pep'}\n",
      "{'metanetx.chemical': 'MNXM107', 'seed.compound': 'cpd00075', 'bigg.metabolite': 'no2'}\n",
      "{'metanetx.chemical': 'MNXM107', 'seed.compound': 'cpd00075', 'bigg.metabolite': 'no2'}\n",
      "{'metanetx.chemical': 'MNXM87584', 'seed.compound': 'cpd00851', 'bigg.metabolite': '4hpro_LT'}\n",
      "{'metanetx.chemical': 'MNXM1705', 'seed.compound': 'cpd03049', 'bigg.metabolite': '2ahethmpp'}\n",
      "{'metanetx.chemical': 'MNXM4815', 'seed.compound': 'cpd00836', 'bigg.metabolite': 'HC00682'}\n",
      "{'metanetx.chemical': 'MNXM4815', 'seed.compound': 'cpd00836', 'bigg.metabolite': 'adhlam'}\n",
      "{'metanetx.chemical': 'MNXM89689', 'seed.compound': 'cpd00064', 'bigg.metabolite': 'orn'}\n",
      "{'metanetx.chemical': 'MNXM89689', 'seed.compound': 'cpd00064', 'bigg.metabolite': 'orn__L'}\n",
      "{'metanetx.chemical': 'MNXM89689', 'seed.compound': 'cpd00064', 'bigg.metabolite': 'orn'}\n",
      "{'metanetx.chemical': 'MNXM89689', 'seed.compound': 'cpd00064', 'bigg.metabolite': 'orn__L'}\n",
      "{'metanetx.chemical': 'MNXM165', 'seed.compound': 'cpd00179', 'bigg.metabolite': 'malt'}\n",
      "{'metanetx.chemical': 'MNXM41', 'seed.compound': 'cpd00027', 'bigg.metabolite': 'glc__D'}\n",
      "{'metanetx.chemical': 'MNXM41', 'seed.compound': 'cpd00027', 'bigg.metabolite': 'glc__bD'}\n",
      "{'metanetx.chemical': 'MNXM131', 'seed.compound': 'cpd00137', 'bigg.metabolite': 'cit'}\n",
      "{'metanetx.chemical': 'MNXM89661', 'seed.compound': 'cpd00260', 'bigg.metabolite': 'icit'}\n",
      "{'metanetx.chemical': 'MNXM762', 'seed.compound': 'cpd01211', 'bigg.metabolite': 'tcynt'}\n",
      "{'metanetx.chemical': 'MNXM15', 'seed.compound': 'cpd00013', 'bigg.metabolite': 'nh3'}\n",
      "{'metanetx.chemical': 'MNXM15', 'seed.compound': 'cpd00013', 'bigg.metabolite': 'nh4'}\n",
      "{'metanetx.chemical': 'MNXM451', 'seed.compound': 'cpd00521', 'bigg.metabolite': 'dtdp4d6dg'}\n",
      "{'metanetx.chemical': 'MNXM2371', 'seed.compound': 'cpd00522', 'bigg.metabolite': 'dtdp4d6dm'}\n",
      "{'metanetx.chemical': 'MNXM825', 'seed.compound': 'cpd03113', 'bigg.metabolite': '3hhdcoa'}\n",
      "{'metanetx.chemical': 'MNXM738', 'seed.compound': 'cpd03114', 'bigg.metabolite': '3ohdcoa'}\n",
      "{'metanetx.chemical': 'MNXM4', 'seed.compound': 'cpd00007', 'bigg.metabolite': 'o2'}\n",
      "{'metanetx.chemical': 'MNXM359', 'seed.compound': 'cpd00483', 'bigg.metabolite': '3hanthrn'}\n",
      "{'metanetx.chemical': 'MNXM22', 'seed.compound': 'cpd00025', 'bigg.metabolite': 'h2o2'}\n",
      "{'metanetx.chemical': 'MNXM78', 'seed.compound': 'cpd00039', 'bigg.metabolite': 'lys__L'}\n",
      "{'metanetx.chemical': 'MNXM943', 'seed.compound': 'cpd01155', 'bigg.metabolite': '15dap'}\n",
      "{'metanetx.chemical': 'MNXM1018', 'seed.compound': 'cpd01307', 'bigg.metabolite': 'abt__D'}\n",
      "{'metanetx.chemical': 'MNXM597', 'seed.compound': 'cpd00259', 'bigg.metabolite': 'xylu__D'}\n",
      "{'metanetx.chemical': 'MNXM597', 'seed.compound': 'cpd00259', 'bigg.metabolite': 'xylu__L'}\n",
      "{'metanetx.chemical': 'MNXM1191', 'seed.compound': 'cpd01015', 'bigg.metabolite': 'cynt'}\n",
      "{'metanetx.chemical': 'MNXM742', 'seed.compound': 'cpd01101', 'bigg.metabolite': 'cbm'}\n",
      "{'metanetx.chemical': 'MNXM224', 'seed.compound': 'cpd01695', 'bigg.metabolite': 'tdcoa'}\n",
      "{'metanetx.chemical': 'MNXM925', 'seed.compound': 'cpd11493', 'bigg.metabolite': 'ACP'}\n",
      "{'metanetx.chemical': 'MNXM195', 'seed.compound': 'cpd11640', 'bigg.metabolite': 'h2'}\n",
      "{'metanetx.chemical': 'MNXM232', 'seed.compound': 'cpd15560', 'bigg.metabolite': 'q8'}\n",
      "{'metanetx.chemical': 'MNXM191', 'seed.compound': 'cpd15561', 'bigg.metabolite': 'q8h2'}\n",
      "{'metanetx.chemical': 'MNXM184', 'seed.compound': 'cpd11492', 'bigg.metabolite': 'malACP'}\n",
      "{'metanetx.chemical': 'MNXM811', 'seed.compound': 'cpd02557', 'bigg.metabolite': 'octdp'}\n",
      "{'metanetx.chemical': 'MNXM83', 'seed.compound': 'cpd00113', 'bigg.metabolite': 'ipdp'}\n",
      "{'metanetx.chemical': 'MNXM1722', 'seed.compound': 'cpd02590', 'bigg.metabolite': 'hepdp'}\n",
      "{'metanetx.chemical': 'MNXM2161', 'seed.compound': 'cpd09253', 'bigg.metabolite': 'cenchddd'}\n",
      "{'metanetx.chemical': 'MNXM1130', 'seed.compound': 'cpd09254', 'bigg.metabolite': 'dhcinnm'}\n",
      "{'metanetx.chemical': 'MNXM1491', 'seed.compound': 'cpd00888', 'bigg.metabolite': 'HC00718'}\n",
      "{'metanetx.chemical': 'MNXM19', 'seed.compound': 'cpd00019', 'bigg.metabolite': 'ahcys'}\n",
      "{'metanetx.chemical': 'MNXM2261', 'seed.compound': 'cpd09444', 'bigg.metabolite': 'HC01842'}\n",
      "{'metanetx.chemical': 'MNXM622', 'seed.compound': 'cpd08289', 'bigg.metabolite': 'dxyl5p'}\n",
      "{'metanetx.chemical': 'MNXM454', 'seed.compound': 'cpd00478', 'bigg.metabolite': 'pdx5p'}\n",
      "{'metanetx.chemical': 'MNXM1289', 'seed.compound': 'cpd03187', 'bigg.metabolite': 'HC01434'}\n",
      "{'metanetx.chemical': 'MNXM20', 'seed.compound': 'cpd00024', 'bigg.metabolite': 'akg'}\n",
      "{'metanetx.chemical': 'MNXM334', 'seed.compound': 'cpd00246', 'bigg.metabolite': 'ins'}\n",
      "{'metanetx.chemical': 'MNXM295', 'seed.compound': 'cpd00475', 'bigg.metabolite': 'r1p'}\n",
      "{'metanetx.chemical': 'MNXM1152', 'seed.compound': 'cpd02160', 'bigg.metabolite': 'sucorn'}\n",
      "{'metanetx.chemical': 'MNXM1763', 'seed.compound': 'cpd03526', 'bigg.metabolite': 'sucgsa'}\n",
      "{'metanetx.chemical': 'MNXM457', 'seed.compound': 'cpd00447', 'bigg.metabolite': 'betald'}\n",
      "{'metanetx.chemical': 'MNXM289', 'seed.compound': 'cpd00540', 'bigg.metabolite': 'glyb'}\n"
     ]
    },
    {
     "name": "stdout",
     "output_type": "stream",
     "text": [
      "{'metanetx.chemical': 'MNXM55269', 'seed.compound': 'cpd11589', 'bigg.metabolite': 'gly_asp__L'}\n",
      "{'metanetx.chemical': 'MNXM51', 'seed.compound': 'cpd00038', 'bigg.metabolite': 'gtp'}\n",
      "{'metanetx.chemical': 'MNXM58', 'seed.compound': 'cpd00048', 'bigg.metabolite': 'so4'}\n",
      "{'metanetx.chemical': 'MNXM30', 'seed.compound': 'cpd00031', 'bigg.metabolite': 'gdp'}\n",
      "{'metanetx.chemical': 'MNXM287', 'seed.compound': 'cpd00193', 'bigg.metabolite': 'aps'}\n",
      "{'metanetx.chemical': 'MNXM266', 'seed.compound': 'cpd00206', 'bigg.metabolite': 'dcmp'}\n",
      "{'metanetx.chemical': 'MNXM1777', 'seed.compound': 'cpd02227', 'bigg.metabolite': 'rhcys'}\n",
      "{'metanetx.chemical': 'MNXM123', 'seed.compound': 'cpd00135', 'bigg.metabolite': 'hcys__L'}\n",
      "{'metanetx.chemical': 'MNXM2449', 'seed.compound': 'cpd08636', 'bigg.metabolite': 'dhptd'}\n",
      "{'metanetx.chemical': 'MNXM423', 'seed.compound': 'cpd00068', 'bigg.metabolite': 'itp'}\n",
      "{'metanetx.chemical': 'MNXM495', 'seed.compound': 'cpd00090', 'bigg.metabolite': 'idp'}\n",
      "{'metanetx.chemical': 'MNXM40', 'seed.compound': 'cpd00070', 'bigg.metabolite': 'malcoa'}\n",
      "{'metanetx.chemical': 'MNXM565', 'seed.compound': 'cpd02375', 'bigg.metabolite': 'dcamp'}\n",
      "{'metanetx.chemical': 'MNXM338', 'seed.compound': 'cpd00367', 'bigg.metabolite': 'cytd'}\n",
      "{'metanetx.chemical': 'MNXM63', 'seed.compound': 'cpd00052', 'bigg.metabolite': 'ctp'}\n",
      "{'metanetx.chemical': 'MNXM415', 'seed.compound': 'cpd02201', 'bigg.metabolite': '4ppan'}\n",
      "{'metanetx.chemical': 'MNXM483', 'seed.compound': 'cpd02666', 'bigg.metabolite': '4ppcys'}\n",
      "{'metanetx.chemical': 'MNXM52', 'seed.compound': 'cpd00026', 'bigg.metabolite': 'udpg'}\n",
      "{'metanetx.chemical': 'MNXM87', 'seed.compound': 'cpd00144', 'bigg.metabolite': 'udpglcur'}\n",
      "{'metanetx.chemical': 'MNXM1280', 'seed.compound': 'cpd02097', 'bigg.metabolite': 'glu5p'}\n",
      "{'metanetx.chemical': 'MNXM237', 'seed.compound': 'cpd00201', 'bigg.metabolite': '10fthf'}\n",
      "{'metanetx.chemical': 'MNXM188', 'seed.compound': 'cpd00093', 'bigg.metabolite': 'anth'}\n",
      "{'metanetx.chemical': 'MNXM730', 'seed.compound': 'cpd00477', 'bigg.metabolite': 'acglu'}\n",
      "{'metanetx.chemical': 'MNXM704', 'seed.compound': 'cpd00654', 'bigg.metabolite': 'dcyt'}\n",
      "{'metanetx.chemical': 'MNXM3508', 'seed.compound': 'cpd03349', 'bigg.metabolite': '5hxkynam'}\n",
      "{'metanetx.chemical': 'MNXM1132', 'seed.compound': 'cpd02021', 'bigg.metabolite': 'sbzcoa'}\n",
      "{'metanetx.chemical': 'MNXM552', 'seed.compound': 'cpd02295', 'bigg.metabolite': 'dhna'}\n",
      "{'metanetx.chemical': 'MNXM25', 'seed.compound': 'cpd00036', 'bigg.metabolite': 'succ'}\n",
      "{'metanetx.chemical': 'MNXM25', 'seed.compound': 'cpd00036', 'bigg.metabolite': 'succ'}\n",
      "{'metanetx.chemical': 'MNXM186', 'seed.compound': 'cpd00198', 'bigg.metabolite': 'xu5p__D'}\n",
      "{'metanetx.chemical': 'MNXM417', 'seed.compound': 'cpd00290', 'bigg.metabolite': 'fdp'}\n",
      "{'metanetx.chemical': 'MNXM881', 'seed.compound': 'cpd00847', 'bigg.metabolite': 'r15bp'}\n",
      "{'metanetx.chemical': 'MNXM1748', 'seed.compound': 'cpd01186', 'bigg.metabolite': 'HC00832'}\n",
      "{'metanetx.chemical': 'MNXM1748', 'seed.compound': 'cpd01186', 'bigg.metabolite': 'fcl__L'}\n",
      "{'metanetx.chemical': 'MNXM1749', 'seed.compound': 'cpd00806', 'bigg.metabolite': 'fc1p'}\n",
      "{'metanetx.chemical': 'MNXM368', 'seed.compound': 'cpd00908', 'bigg.metabolite': 'g3pe'}\n",
      "{'metanetx.chemical': 'MNXM8825', 'seed.compound': 'cpd11576', 'bigg.metabolite': 'metox__R'}\n",
      "{'metanetx.chemical': 'MNXM8825', 'seed.compound': 'cpd11576', 'bigg.metabolite': 'metox__R'}\n",
      "{'metanetx.chemical': 'MNXM244', 'seed.compound': 'cpd00191', 'bigg.metabolite': 'msa'}\n",
      "{'metanetx.chemical': 'MNXM401', 'seed.compound': 'cpd00311', 'bigg.metabolite': 'gsn'}\n",
      "{'metanetx.chemical': 'MNXM687', 'seed.compound': 'cpd01217', 'bigg.metabolite': 'xtsn'}\n",
      "{'metanetx.chemical': 'MNXM75102', 'seed.compound': 'cpd15540', 'bigg.metabolite': 'pg180'}\n",
      "{'metanetx.chemical': 'MNXM89612', 'seed.compound': 'cpd00100', 'bigg.metabolite': 'glyc'}\n",
      "{'metanetx.chemical': 'MNXM1482', 'seed.compound': 'cpd00807', 'bigg.metabolite': 'hisp'}\n",
      "{'metanetx.chemical': 'MNXM1456', 'seed.compound': 'cpd00930', 'bigg.metabolite': 'imacp'}\n",
      "{'metanetx.chemical': 'MNXM1123', 'seed.compound': 'cpd03414', 'bigg.metabolite': 'uppg1'}\n",
      "{'metanetx.chemical': 'MNXM1322', 'seed.compound': 'cpd03416', 'bigg.metabolite': 'cpppg1'}\n",
      "{'metanetx.chemical': 'MNXM118', 'seed.compound': 'cpd00118', 'bigg.metabolite': 'ptrc'}\n",
      "{'metanetx.chemical': 'MNXM124', 'seed.compound': 'cpd00264', 'bigg.metabolite': 'spmd'}\n",
      "{'metanetx.chemical': 'MNXM1778', 'seed.compound': 'cpd03802', 'bigg.metabolite': 'hspmd'}\n",
      "{'metanetx.chemical': 'MNXM993', 'seed.compound': 'cpd02961', 'bigg.metabolite': 'HC01361'}\n",
      "{'metanetx.chemical': 'MNXM993', 'seed.compound': 'cpd02961', 'bigg.metabolite': 'dhnpt'}\n",
      "{'metanetx.chemical': 'MNXM349', 'seed.compound': 'cpd00229', 'bigg.metabolite': 'gcald'}\n",
      "{'metanetx.chemical': 'MNXM937', 'seed.compound': 'cpd00954', 'bigg.metabolite': '6hmhpt'}\n",
      "{'metanetx.chemical': 'MNXM901', 'seed.compound': 'cpd00808', 'bigg.metabolite': 'ru5p__L'}\n",
      "{'metanetx.chemical': 'MNXM5', 'seed.compound': 'cpd00006', 'bigg.metabolite': 'nadp'}\n",
      "{'metanetx.chemical': 'MNXM132', 'seed.compound': 'cpd00202', 'bigg.metabolite': 'dmpp'}\n",
      "{'metanetx.chemical': 'MNXM6', 'seed.compound': 'cpd00005', 'bigg.metabolite': 'nadph'}\n",
      "{'metanetx.chemical': 'MNXM606', 'seed.compound': 'cpd08615', 'bigg.metabolite': 'h2mb4p'}\n",
      "{'metanetx.chemical': 'MNXM1779', 'seed.compound': 'cpd03246', 'bigg.metabolite': 'tdchola'}\n",
      "{'metanetx.chemical': 'MNXM282', 'seed.compound': 'cpd00210', 'bigg.metabolite': 'taur'}\n",
      "{'metanetx.chemical': 'MNXM1183', 'seed.compound': 'cpd01663', 'bigg.metabolite': 'C02528'}\n",
      "{'metanetx.chemical': 'MNXM66', 'seed.compound': 'cpd00080', 'bigg.metabolite': 'glyc3p'}\n",
      "{'metanetx.chemical': 'MNXM3426', 'seed.compound': 'cpd15331', 'bigg.metabolite': '1tdecg3p'}\n",
      "{'metanetx.chemical': 'MNXM51017', 'seed.compound': 'cpd15522', 'bigg.metabolite': 'pa140'}\n",
      "{'metanetx.chemical': 'MNXM141', 'seed.compound': 'cpd00112', 'bigg.metabolite': 'cmpacna'}\n",
      "{'metanetx.chemical': 'MNXM5618', 'seed.compound': 'cpd03658', 'bigg.metabolite': 'gt1a_cho'}\n",
      "{'metanetx.chemical': 'MNXM34', 'seed.compound': 'cpd00350', 'bigg.metabolite': 'frdp'}\n",
      "{'metanetx.chemical': 'MNXM139', 'seed.compound': 'cpd00289', 'bigg.metabolite': 'ggdp'}\n",
      "{'metanetx.chemical': 'MNXM238', 'seed.compound': 'cpd00123', 'bigg.metabolite': '3mob'}\n",
      "{'metanetx.chemical': 'MNXM10019', 'seed.compound': 'cpd11483', 'bigg.metabolite': '3hoctACP'}\n",
      "{'metanetx.chemical': 'MNXM23766', 'seed.compound': 'cpd11471', 'bigg.metabolite': 'toct2eACP'}\n",
      "{'metanetx.chemical': 'MNXM145', 'seed.compound': 'cpd00171', 'bigg.metabolite': 'ru5p__D'}\n",
      "{'metanetx.chemical': 'MNXM39', 'seed.compound': 'cpd00047', 'bigg.metabolite': 'for'}\n",
      "{'metanetx.chemical': 'MNXM2323', 'seed.compound': 'cpd11225', 'bigg.metabolite': 'db4p'}\n",
      "{'metanetx.chemical': 'MNXM817', 'seed.compound': 'cpd00342', 'bigg.metabolite': 'acorn'}\n",
      "{'metanetx.chemical': 'MNXM96993', 'seed.compound': 'cpd11421', 'bigg.metabolite': 'trdrd'}\n",
      "{'metanetx.chemical': 'MNXM148', 'seed.compound': 'cpd11420', 'bigg.metabolite': 'trdox'}\n",
      "{'metanetx.chemical': 'MNXM1470', 'seed.compound': 'cpd00585', 'bigg.metabolite': 'creat'}\n",
      "{'metanetx.chemical': 'MNXM77', 'seed.compound': 'cpd00095', 'bigg.metabolite': 'dhap'}\n",
      "{'metanetx.chemical': 'MNXM362', 'seed.compound': 'cpd00208', 'bigg.metabolite': 'lcts'}\n",
      "{'metanetx.chemical': 'MNXM45895', 'seed.compound': 'cpd00390', 'bigg.metabolite': 'cdpglc'}\n",
      "{'metanetx.chemical': 'MNXM1370', 'seed.compound': 'cpd00897', 'bigg.metabolite': 'cdp4dh6doglc'}\n",
      "{'metanetx.chemical': 'MNXM555', 'seed.compound': 'cpd02333', 'bigg.metabolite': 'quln'}\n",
      "{'metanetx.chemical': 'MNXM599', 'seed.compound': 'cpd03470', 'bigg.metabolite': 'iasp'}\n",
      "{'metanetx.chemical': 'MNXM1051', 'seed.compound': 'cpd09879', 'bigg.metabolite': 'hmgth'}\n",
      "{'metanetx.chemical': 'MNXM952', 'seed.compound': 'cpd00759', 'bigg.metabolite': 'Sfglutth'}\n",
      "{'metanetx.chemical': 'MNXM150', 'seed.compound': 'cpd00147', 'bigg.metabolite': '5mta'}\n",
      "{'metanetx.chemical': 'MNXM168', 'seed.compound': 'cpd00128', 'bigg.metabolite': 'ade'}\n",
      "{'metanetx.chemical': 'MNXM1592', 'seed.compound': 'cpd01981', 'bigg.metabolite': '5mtr'}\n",
      "{'metanetx.chemical': 'MNXM1184', 'seed.compound': 'cpd00817', 'bigg.metabolite': 'ara5p'}\n",
      "{'metanetx.chemical': 'MNXM15783', 'seed.compound': 'cpd11585', 'bigg.metabolite': 'L_alagly'}\n",
      "{'metanetx.chemical': 'MNXM15783', 'seed.compound': 'cpd11585', 'bigg.metabolite': 'L_alagly'}\n",
      "{'metanetx.chemical': 'MNXM218', 'seed.compound': 'cpd00162', 'bigg.metabolite': 'etha'}\n",
      "{'metanetx.chemical': 'MNXM75', 'seed.compound': 'cpd00071', 'bigg.metabolite': 'acald'}\n",
      "{'metanetx.chemical': 'MNXM143', 'seed.compound': 'cpd00122', 'bigg.metabolite': 'acgam'}\n",
      "{'metanetx.chemical': 'MNXM91871', 'seed.compound': 'cpd02611', 'bigg.metabolite': 'acgam1p'}\n",
      "{'metanetx.chemical': 'MNXM89955', 'seed.compound': 'cpd00519', 'bigg.metabolite': 'mmcoa__S'}\n",
      "{'metanetx.chemical': 'MNXM86', 'seed.compound': 'cpd00086', 'bigg.metabolite': 'ppcoa'}\n",
      "{'metanetx.chemical': 'MNXM492', 'seed.compound': 'cpd00412', 'bigg.metabolite': 'duri'}\n",
      "{'metanetx.chemical': 'MNXM492', 'seed.compound': 'cpd00412', 'bigg.metabolite': 'duri'}\n",
      "{'metanetx.chemical': 'MNXM258', 'seed.compound': 'cpd00236', 'bigg.metabolite': 'e4p'}\n",
      "{'metanetx.chemical': 'MNXM1407', 'seed.compound': 'cpd02147', 'bigg.metabolite': '4per'}\n",
      "{'metanetx.chemical': 'MNXM8264', 'seed.compound': 'cpd11582', 'bigg.metabolite': 'ala_L_Thr__L'}\n",
      "{'metanetx.chemical': 'MNXM8264', 'seed.compound': 'cpd11582', 'bigg.metabolite': 'ala_L_Thr__L'}\n",
      "{'metanetx.chemical': 'MNXM577', 'seed.compound': 'cpd00484', 'bigg.metabolite': '4hbald'}\n",
      "{'metanetx.chemical': 'MNXM164', 'seed.compound': 'cpd00136', 'bigg.metabolite': '4hbz'}\n",
      "{'metanetx.chemical': 'MNXM305', 'seed.compound': 'cpd00287', 'bigg.metabolite': '2mop'}\n",
      "{'metanetx.chemical': 'MNXM11', 'seed.compound': 'cpd00012', 'bigg.metabolite': 'ppi'}\n",
      "{'metanetx.chemical': 'MNXM519', 'seed.compound': 'cpd00810', 'bigg.metabolite': 'orot5p'}\n",
      "{'metanetx.chemical': 'MNXM80', 'seed.compound': 'cpd00091', 'bigg.metabolite': 'ump'}\n",
      "{'metanetx.chemical': 'MNXM41271', 'seed.compound': 'cpd00258', 'bigg.metabolite': 'rbl__D'}\n",
      "{'metanetx.chemical': 'MNXM960', 'seed.compound': 'cpd02654', 'bigg.metabolite': '4mpetz'}\n",
      "{'metanetx.chemical': 'MNXM1135', 'seed.compound': 'cpd02894', 'bigg.metabolite': '2mahmp'}\n",
      "{'metanetx.chemical': 'MNXM662', 'seed.compound': 'cpd00793', 'bigg.metabolite': 'thmmp'}\n",
      "{'metanetx.chemical': 'MNXM5461', 'seed.compound': 'cpd15350', 'bigg.metabolite': '2ddecg3p'}\n",
      "{'metanetx.chemical': 'MNXM318', 'seed.compound': 'cpd00345', 'bigg.metabolite': '5mthf'}\n",
      "{'metanetx.chemical': 'MNXM183', 'seed.compound': 'cpd00125', 'bigg.metabolite': 'mlthf'}\n",
      "{'metanetx.chemical': 'MNXM2623', 'seed.compound': 'cpd02738', 'bigg.metabolite': 'mhpglu'}\n",
      "{'metanetx.chemical': 'MNXM2563', 'seed.compound': 'cpd02555', 'bigg.metabolite': 'hpglu'}\n",
      "{'metanetx.chemical': 'MNXM286', 'seed.compound': 'cpd00115', 'bigg.metabolite': 'datp'}\n",
      "{'metanetx.chemical': 'MNXM288', 'seed.compound': 'cpd00249', 'bigg.metabolite': 'uri'}\n",
      "{'metanetx.chemical': 'MNXM374', 'seed.compound': 'cpd00177', 'bigg.metabolite': 'dadp'}\n",
      "{'metanetx.chemical': 'MNXM90512', 'seed.compound': 'cpd15523', 'bigg.metabolite': 'pa141'}\n",
      "{'metanetx.chemical': 'MNXM8263', 'seed.compound': 'cpd11586', 'bigg.metabolite': 'ala_L_glu__L'}\n",
      "{'metanetx.chemical': 'MNXM8263', 'seed.compound': 'cpd11586', 'bigg.metabolite': 'ala_L_glu__L'}\n",
      "{'metanetx.chemical': 'MNXM761', 'seed.compound': 'cpd00307', 'bigg.metabolite': 'csn'}\n",
      "{'metanetx.chemical': 'MNXM158', 'seed.compound': 'cpd00092', 'bigg.metabolite': 'ura'}\n",
      "{'metanetx.chemical': 'MNXM946', 'seed.compound': 'cpd03587', 'bigg.metabolite': 'lipa'}\n",
      "{'metanetx.chemical': 'MNXM857', 'seed.compound': 'cpd03831', 'bigg.metabolite': 'adphep_LD'}\n",
      "{'metanetx.chemical': 'MNXM2680', 'seed.compound': 'cpd15485', 'bigg.metabolite': 'hlipa'}\n",
      "{'metanetx.chemical': 'MNXM2561', 'seed.compound': 'cpd01030', 'bigg.metabolite': 'salcn'}\n",
      "{'metanetx.chemical': 'MNXM3356', 'seed.compound': 'cpd03698', 'bigg.metabolite': 'salcn6p'}\n",
      "{'metanetx.chemical': 'MNXM174', 'seed.compound': 'cpd00309', 'bigg.metabolite': 'xan'}\n",
      "{'metanetx.chemical': 'MNXM272', 'seed.compound': 'cpd00327', 'bigg.metabolite': 'stcoa'}\n",
      "{'metanetx.chemical': 'MNXM866', 'seed.compound': 'cpd02210', 'bigg.metabolite': '3ig3p'}\n",
      "{'metanetx.chemical': 'MNXM74', 'seed.compound': 'cpd00102', 'bigg.metabolite': 'g3p'}\n",
      "{'metanetx.chemical': 'MNXM377', 'seed.compound': 'cpd00359', 'bigg.metabolite': 'indole'}\n",
      "{'metanetx.chemical': 'MNXM4232', 'seed.compound': 'cpd15325', 'bigg.metabolite': '1ddecg3p'}\n",
      "{'metanetx.chemical': 'MNXM1569', 'seed.compound': 'cpd03002', 'bigg.metabolite': 'lipidAds'}\n",
      "{'metanetx.chemical': 'MNXM1754', 'seed.compound': 'cpd02993', 'bigg.metabolite': 'lipidA'}\n",
      "{'metanetx.chemical': 'MNXM56', 'seed.compound': 'cpd00055', 'bigg.metabolite': 'fald'}\n",
      "{'metanetx.chemical': 'MNXM460', 'seed.compound': 'cpd00157', 'bigg.metabolite': 'dha'}\n",
      "{'metanetx.chemical': 'MNXM146080', 'seed.compound': 'cpd02730', 'bigg.metabolite': 'kdo8p'}\n",
      "{'metanetx.chemical': 'MNXM1663', 'seed.compound': 'cpd12225', 'bigg.metabolite': 'dhlpro'}\n",
      "{'metanetx.chemical': 'MNXM998', 'seed.compound': 'cpd12005', 'bigg.metabolite': 'lpro'}\n"
     ]
    },
    {
     "name": "stdout",
     "output_type": "stream",
     "text": [
      "{'metanetx.chemical': 'MNXM8669', 'seed.compound': 'cpd15605', 'bigg.metabolite': 'gly_phe__L'}\n",
      "{'metanetx.chemical': 'MNXM8669', 'seed.compound': 'cpd15605', 'bigg.metabolite': 'glyphe'}\n",
      "{'metanetx.chemical': 'MNXM97', 'seed.compound': 'cpd00066', 'bigg.metabolite': 'phe__L'}\n",
      "{'metanetx.chemical': 'MNXM1177', 'seed.compound': 'cpd01977', 'bigg.metabolite': '4pasp'}\n",
      "{'metanetx.chemical': 'MNXM713', 'seed.compound': 'cpd00395', 'bigg.metabolite': 'Lcyst'}\n",
      "{'metanetx.chemical': 'MNXM114', 'seed.compound': 'cpd00129', 'bigg.metabolite': 'pro__L'}\n",
      "{'metanetx.chemical': 'MNXM27', 'seed.compound': 'cpd00971', 'bigg.metabolite': 'na1'}\n",
      "{'metanetx.chemical': 'MNXM114', 'seed.compound': 'cpd00129', 'bigg.metabolite': 'pro__L'}\n",
      "{'metanetx.chemical': 'MNXM27', 'seed.compound': 'cpd00971', 'bigg.metabolite': 'na1'}\n",
      "{'metanetx.chemical': 'MNXM4511', 'seed.compound': 'cpd15422', 'bigg.metabolite': 'cdpdtdec7eg'}\n",
      "{'metanetx.chemical': 'MNXM366', 'seed.compound': 'cpd00493', 'bigg.metabolite': 'pyam5p'}\n",
      "{'metanetx.chemical': 'MNXM161', 'seed.compound': 'cpd00016', 'bigg.metabolite': 'pydx5p'}\n",
      "{'metanetx.chemical': 'MNXM2531', 'seed.compound': 'cpd01711', 'bigg.metabolite': 'ibt'}\n",
      "{'metanetx.chemical': 'MNXM5480', 'seed.compound': 'cpd15357', 'bigg.metabolite': '2odec11eg3p'}\n",
      "{'metanetx.chemical': 'MNXM1919', 'seed.compound': 'cpd01055', 'bigg.metabolite': 'all__D'}\n",
      "{'metanetx.chemical': 'MNXM4545', 'seed.compound': 'cpd01901', 'bigg.metabolite': 'all6p'}\n",
      "{'metanetx.chemical': 'MNXM243', 'seed.compound': 'cpd00446', 'bigg.metabolite': 'camp'}\n",
      "{'metanetx.chemical': 'MNXM25602', 'seed.compound': 'cpd11486', 'bigg.metabolite': '3ohexACP'}\n",
      "{'metanetx.chemical': 'MNXM134', 'seed.compound': 'cpd00119', 'bigg.metabolite': 'his__L'}\n",
      "{'metanetx.chemical': 'MNXM700', 'seed.compound': 'cpd00581', 'bigg.metabolite': 'urcan'}\n",
      "{'metanetx.chemical': 'MNXM441', 'seed.compound': 'cpd00300', 'bigg.metabolite': 'urate'}\n",
      "{'metanetx.chemical': 'MNXM1137', 'seed.compound': 'cpd08625', 'bigg.metabolite': '5hiu'}\n",
      "{'metanetx.chemical': 'MNXM1137', 'seed.compound': 'cpd08625', 'bigg.metabolite': 'C11821'}\n",
      "{'metanetx.chemical': 'MNXM706', 'seed.compound': 'cpd03121', 'bigg.metabolite': '3oocoa'}\n",
      "{'metanetx.chemical': 'MNXM5663', 'seed.compound': 'cpd01399', 'bigg.metabolite': 'maltttr'}\n",
      "{'metanetx.chemical': 'MNXM1538', 'seed.compound': 'cpd15495', 'bigg.metabolite': 'maltpt'}\n",
      "{'metanetx.chemical': 'MNXM323', 'seed.compound': 'cpd00268', 'bigg.metabolite': 'tsul'}\n",
      "{'metanetx.chemical': 'MNXM26', 'seed.compound': 'cpd00029', 'bigg.metabolite': 'ac'}\n",
      "{'metanetx.chemical': 'MNXM105630', 'seed.compound': 'cpd00081', 'bigg.metabolite': 'so3'}\n",
      "{'metanetx.chemical': 'MNXM37', 'seed.compound': 'cpd00053', 'bigg.metabolite': 'gln__L'}\n",
      "{'metanetx.chemical': 'MNXM147', 'seed.compound': 'cpd00132', 'bigg.metabolite': 'asn__L'}\n",
      "{'metanetx.chemical': 'MNXM569', 'seed.compound': 'cpd00760', 'bigg.metabolite': '2mbcoa'}\n",
      "{'metanetx.chemical': 'MNXM609', 'seed.compound': 'cpd02125', 'bigg.metabolite': '2mb2coa'}\n",
      "{'metanetx.chemical': 'MNXM4512', 'seed.compound': 'cpd15423', 'bigg.metabolite': 'cdpdtdecg'}\n",
      "{'metanetx.chemical': 'MNXM89588', 'seed.compound': 'cpd00089', 'bigg.metabolite': 'g1p'}\n",
      "{'metanetx.chemical': 'MNXM561', 'seed.compound': 'cpd00387', 'bigg.metabolite': 'adpglc'}\n",
      "{'metanetx.chemical': 'MNXM3480', 'seed.compound': 'cpd03189', 'bigg.metabolite': 'HC01435'}\n",
      "{'metanetx.chemical': 'MNXM3710', 'seed.compound': 'cpd00860', 'bigg.metabolite': 'HC00695'}\n",
      "{'metanetx.chemical': 'MNXM3710', 'seed.compound': 'cpd00860', 'bigg.metabolite': 'sdhlam'}\n",
      "{'metanetx.chemical': 'MNXM4508', 'seed.compound': 'cpd15418', 'bigg.metabolite': 'cdpdhdec9eg'}\n",
      "{'metanetx.chemical': 'MNXM598', 'seed.compound': 'cpd02090', 'bigg.metabolite': 'g3pg'}\n",
      "{'metanetx.chemical': 'MNXM985', 'seed.compound': 'cpd01646', 'bigg.metabolite': '3c3hmp'}\n",
      "{'metanetx.chemical': 'MNXM144', 'seed.compound': 'cpd00085', 'bigg.metabolite': 'ala_B'}\n",
      "{'metanetx.chemical': 'MNXM60', 'seed.compound': 'cpd00242', 'bigg.metabolite': 'h2co3'}\n",
      "{'metanetx.chemical': 'MNXM60', 'seed.compound': 'cpd00242', 'bigg.metabolite': 'hco3'}\n",
      "{'metanetx.chemical': 'MNXM96075', 'seed.compound': 'cpd12848', 'bigg.metabolite': 'btnCCP'}\n",
      "{'metanetx.chemical': 'MNXM5655', 'seed.compound': 'cpd12543', 'bigg.metabolite': 'cbtnCCP'}\n",
      "{'metanetx.chemical': 'MNXM1692', 'seed.compound': 'cpd02233', 'bigg.metabolite': '2ameph'}\n",
      "{'metanetx.chemical': 'MNXM2188', 'seed.compound': 'cpd04103', 'bigg.metabolite': '3hpimcoa'}\n",
      "{'metanetx.chemical': 'MNXM89582', 'seed.compound': 'cpd00239', 'bigg.metabolite': 'h2s'}\n",
      "{'metanetx.chemical': 'MNXM602', 'seed.compound': 'cpd00383', 'bigg.metabolite': 'skm'}\n",
      "{'metanetx.chemical': 'MNXM1265', 'seed.compound': 'cpd02030', 'bigg.metabolite': 'skm5p'}\n",
      "{'metanetx.chemical': 'MNXM194', 'seed.compound': 'cpd00873', 'bigg.metabolite': 'nicrnt'}\n",
      "{'metanetx.chemical': 'MNXM1915', 'seed.compound': 'cpd03471', 'bigg.metabolite': 'nicrns'}\n",
      "{'metanetx.chemical': 'MNXM503', 'seed.compound': 'cpd00219', 'bigg.metabolite': 'pphn'}\n",
      "{'metanetx.chemical': 'MNXM153', 'seed.compound': 'cpd00868', 'bigg.metabolite': '2h34hppr'}\n",
      "{'metanetx.chemical': 'MNXM153', 'seed.compound': 'cpd00868', 'bigg.metabolite': '34hpp'}\n",
      "{'metanetx.chemical': 'MNXM49', 'seed.compound': 'cpd00044', 'bigg.metabolite': 'paps'}\n",
      "{'metanetx.chemical': 'MNXM263', 'seed.compound': 'cpd00269', 'bigg.metabolite': '2oxoadp'}\n",
      "{'metanetx.chemical': 'MNXM439', 'seed.compound': 'cpd00508', 'bigg.metabolite': '3mop'}\n",
      "{'metanetx.chemical': 'MNXM6733', 'seed.compound': 'cpd14702', 'bigg.metabolite': '2mhob'}\n",
      "{'metanetx.chemical': 'MNXM644', 'seed.compound': 'cpd00504', 'bigg.metabolite': '26dap_LL'}\n",
      "{'metanetx.chemical': 'MNXM529', 'seed.compound': 'cpd00516', 'bigg.metabolite': '26dap__M'}\n",
      "{'metanetx.chemical': 'MNXM2808', 'seed.compound': 'cpd02428', 'bigg.metabolite': 'B_ara1p'}\n",
      "{'metanetx.chemical': 'MNXM1189', 'seed.compound': 'cpd00905', 'bigg.metabolite': 'ppgpp'}\n",
      "{'metanetx.chemical': 'MNXM32', 'seed.compound': 'cpd00035', 'bigg.metabolite': 'ala__L'}\n",
      "{'metanetx.chemical': 'MNXM111', 'seed.compound': 'cpd10515', 'bigg.metabolite': 'fe2'}\n",
      "{'metanetx.chemical': 'MNXM196', 'seed.compound': 'cpd10516', 'bigg.metabolite': 'fe3'}\n",
      "{'metanetx.chemical': 'MNXM509', 'seed.compound': 'cpd15500', 'bigg.metabolite': 'mqn8'}\n",
      "{'metanetx.chemical': 'MNXM223', 'seed.compound': 'cpd15499', 'bigg.metabolite': 'mql8'}\n",
      "{'metanetx.chemical': 'MNXM334', 'seed.compound': 'cpd00246', 'bigg.metabolite': 'ins'}\n",
      "{'metanetx.chemical': 'MNXM1697', 'seed.compound': 'cpd02547', 'bigg.metabolite': 'applp'}\n",
      "{'metanetx.chemical': 'MNXM877', 'seed.compound': 'cpd03917', 'bigg.metabolite': 'adcobhex'}\n",
      "{'metanetx.chemical': 'MNXM856', 'seed.compound': 'cpd03919', 'bigg.metabolite': 'adocbip'}\n",
      "{'metanetx.chemical': 'MNXM1080', 'seed.compound': 'cpd00652', 'bigg.metabolite': 'galct__D'}\n",
      "{'metanetx.chemical': 'MNXM1080', 'seed.compound': 'cpd00652', 'bigg.metabolite': 'galctr__D'}\n",
      "{'metanetx.chemical': 'MNXM854', 'seed.compound': 'cpd00515', 'bigg.metabolite': '5d4dglcr'}\n",
      "{'metanetx.chemical': 'MNXM854', 'seed.compound': 'cpd00515', 'bigg.metabolite': '5dh4dglc'}\n",
      "{'metanetx.chemical': 'MNXM554', 'seed.compound': 'cpd00689', 'bigg.metabolite': 'ppbng'}\n",
      "{'metanetx.chemical': 'MNXM547', 'seed.compound': 'cpd00755', 'bigg.metabolite': 'hmbil'}\n",
      "{'metanetx.chemical': 'MNXM280', 'seed.compound': 'cpd00196', 'bigg.metabolite': 'actp'}\n",
      "{'metanetx.chemical': 'MNXM28031', 'seed.compound': 'cpd11490', 'bigg.metabolite': '3ooctACP'}\n",
      "{'metanetx.chemical': 'MNXM435', 'seed.compound': 'cpd00448', 'bigg.metabolite': 'glyald'}\n",
      "{'metanetx.chemical': 'MNXM189', 'seed.compound': 'cpd00223', 'bigg.metabolite': 'glyc__R'}\n",
      "{'metanetx.chemical': 'MNXM126', 'seed.compound': 'cpd00169', 'bigg.metabolite': '3pg'}\n",
      "{'metanetx.chemical': 'MNXM533', 'seed.compound': 'cpd00276', 'bigg.metabolite': 'gam'}\n",
      "{'metanetx.chemical': 'MNXM370', 'seed.compound': 'cpd00288', 'bigg.metabolite': 'gam6p'}\n",
      "{'metanetx.chemical': 'MNXM481', 'seed.compound': 'cpd00655', 'bigg.metabolite': 'dpcoa'}\n",
      "{'metanetx.chemical': 'MNXM508', 'seed.compound': 'cpd00863', 'bigg.metabolite': 'g6p_B'}\n",
      "{'metanetx.chemical': 'MNXM1855', 'seed.compound': 'cpd01553', 'bigg.metabolite': '2hxmp'}\n",
      "{'metanetx.chemical': 'MNXM1855', 'seed.compound': 'cpd01553', 'bigg.metabolite': '2hymeph'}\n",
      "{'metanetx.chemical': 'MNXM3460', 'seed.compound': 'cpd01795', 'bigg.metabolite': '2dglcn'}\n",
      "{'metanetx.chemical': 'MNXM3482', 'seed.compound': 'cpd02441', 'bigg.metabolite': '3ddgc'}\n",
      "{'metanetx.chemical': 'MNXM1351', 'seed.compound': 'cpd01775', 'bigg.metabolite': 'prbatp'}\n",
      "{'metanetx.chemical': 'MNXM245', 'seed.compound': 'cpd00858', 'bigg.metabolite': 'glu5sa'}\n",
      "{'metanetx.chemical': 'MNXM1617', 'seed.compound': 'cpd02431', 'bigg.metabolite': '1pyr5c'}\n",
      "{'metanetx.chemical': 'MNXM114594', 'seed.compound': 'cpd10162', 'bigg.metabolite': '3hmop'}\n",
      "{'metanetx.chemical': 'MNXM175', 'seed.compound': 'cpd00082', 'bigg.metabolite': 'fru'}\n",
      "{'metanetx.chemical': 'MNXM145568', 'seed.compound': 'cpd00802', 'bigg.metabolite': 'f1p'}\n",
      "{'metanetx.chemical': 'MNXM113', 'seed.compound': 'cpd00126', 'bigg.metabolite': 'gmp'}\n",
      "{'metanetx.chemical': 'MNXM2178', 'seed.compound': 'cpd15352', 'bigg.metabolite': '2dmmq8'}\n",
      "{'metanetx.chemical': 'MNXM261', 'seed.compound': 'cpd00203', 'bigg.metabolite': '13dpg'}\n",
      "{'metanetx.chemical': 'MNXM501', 'seed.compound': 'cpd00470', 'bigg.metabolite': 'N1aspmd'}\n",
      "{'metanetx.chemical': 'MNXM2', 'seed.compound': 'cpd00001', 'bigg.metabolite': 'h2o'}\n",
      "{'metanetx.chemical': 'MNXM2', 'seed.compound': 'cpd00001', 'bigg.metabolite': 'oh1'}\n",
      "{'metanetx.chemical': 'MNXM646', 'seed.compound': 'cpd00867', 'bigg.metabolite': 'mi1p__D'}\n",
      "{'metanetx.chemical': 'MNXM127', 'seed.compound': 'cpd00121', 'bigg.metabolite': 'inost'}\n",
      "{'metanetx.chemical': 'MNXM89557', 'seed.compound': 'cpd00023', 'bigg.metabolite': 'glu__L'}\n",
      "{'metanetx.chemical': 'MNXM1679', 'seed.compound': 'cpd00758', 'bigg.metabolite': 'n8aspmd'}\n",
      "{'metanetx.chemical': 'MNXM470', 'seed.compound': 'cpd00481', 'bigg.metabolite': 'ibcoa'}\n",
      "{'metanetx.chemical': 'MNXM252', 'seed.compound': 'cpd00282', 'bigg.metabolite': 'dhor__S'}\n",
      "{'metanetx.chemical': 'MNXM235', 'seed.compound': 'cpd00247', 'bigg.metabolite': 'orot'}\n",
      "{'metanetx.chemical': 'MNXM1168', 'seed.compound': 'cpd08301', 'bigg.metabolite': '2mecdp'}\n",
      "{'metanetx.chemical': 'MNXM414', 'seed.compound': 'cpd00774', 'bigg.metabolite': 'uppg3'}\n",
      "{'metanetx.chemical': 'MNXM338', 'seed.compound': 'cpd00367', 'bigg.metabolite': 'cytd'}\n",
      "{'metanetx.chemical': 'MNXM2348', 'seed.compound': 'cpd03660', 'bigg.metabolite': 'gt1b_cho'}\n",
      "{'metanetx.chemical': 'MNXM75116', 'seed.compound': 'cpd15557', 'bigg.metabolite': 'ps180'}\n",
      "{'metanetx.chemical': 'MNXM31536', 'seed.compound': 'cpd15533', 'bigg.metabolite': 'pe180'}\n",
      "{'metanetx.chemical': 'MNXM43', 'seed.compound': 'cpd00099', 'bigg.metabolite': 'cl'}\n",
      "{'metanetx.chemical': 'MNXM446', 'seed.compound': 'cpd00842', 'bigg.metabolite': '3hbcoa'}\n",
      "{'metanetx.chemical': 'MNXM446', 'seed.compound': 'cpd00842', 'bigg.metabolite': '3hbycoa'}\n",
      "{'metanetx.chemical': 'MNXM446', 'seed.compound': 'cpd00842', 'bigg.metabolite': '3hibutcoa'}\n",
      "{'metanetx.chemical': 'MNXM133', 'seed.compound': 'cpd00279', 'bigg.metabolite': 'aacoa'}\n",
      "{'metanetx.chemical': 'MNXM251', 'seed.compound': 'cpd00286', 'bigg.metabolite': 'udcpp'}\n",
      "{'metanetx.chemical': 'MNXM1955', 'seed.compound': 'cpd02948', 'bigg.metabolite': 'uaGgla'}\n",
      "{'metanetx.chemical': 'MNXM234', 'seed.compound': 'cpd00299', 'bigg.metabolite': 'dump'}\n",
      "{'metanetx.chemical': 'MNXM1219', 'seed.compound': 'cpd02857', 'bigg.metabolite': '2dda7p'}\n",
      "{'metanetx.chemical': 'MNXM478', 'seed.compound': 'cpd00699', 'bigg.metabolite': '3dhq'}\n",
      "{'metanetx.chemical': 'MNXM264', 'seed.compound': 'cpd00192', 'bigg.metabolite': 'coucoa'}\n",
      "{'metanetx.chemical': 'MNXM23842', 'seed.compound': 'cpd11469', 'bigg.metabolite': 'tddec2eACP'}\n",
      "{'metanetx.chemical': 'MNXM632', 'seed.compound': 'cpd00058', 'bigg.metabolite': 'cu2'}\n",
      "{'metanetx.chemical': 'MNXM632', 'seed.compound': 'cpd00058', 'bigg.metabolite': 'cu2'}\n",
      "{'metanetx.chemical': 'MNXM332', 'seed.compound': 'cpd00421', 'bigg.metabolite': 'pppi'}\n",
      "{'metanetx.chemical': 'MNXM92085', 'seed.compound': 'cpd03916', 'bigg.metabolite': 'adcobdam'}\n",
      "{'metanetx.chemical': 'MNXM79', 'seed.compound': 'cpd00087', 'bigg.metabolite': 'thf'}\n",
      "{'metanetx.chemical': 'MNXM550', 'seed.compound': 'cpd02152', 'bigg.metabolite': 'argsuc'}\n",
      "{'metanetx.chemical': 'MNXM70', 'seed.compound': 'cpd00051', 'bigg.metabolite': 'arg__L'}\n",
      "{'metanetx.chemical': 'MNXM612', 'seed.compound': 'cpd01092', 'bigg.metabolite': 'alltn'}\n",
      "{'metanetx.chemical': 'MNXM1281', 'seed.compound': 'cpd00641', 'bigg.metabolite': 'histd'}\n",
      "{'metanetx.chemical': 'MNXM91049', 'seed.compound': 'cpd15328', 'bigg.metabolite': '1odec11eg3p'}\n",
      "{'metanetx.chemical': 'MNXM345', 'seed.compound': 'cpd00426', 'bigg.metabolite': 'hgentis'}\n",
      "{'metanetx.chemical': 'MNXM691', 'seed.compound': 'cpd00763', 'bigg.metabolite': '4mlacac'}\n",
      "{'metanetx.chemical': 'MNXM1376', 'seed.compound': 'cpd00626', 'bigg.metabolite': 'dtdpglu'}\n",
      "{'metanetx.chemical': 'MNXM270', 'seed.compound': 'cpd00220', 'bigg.metabolite': 'ribflv'}\n",
      "{'metanetx.chemical': 'MNXM1246', 'seed.compound': 'cpd00739', 'bigg.metabolite': 'rbflvrd'}\n",
      "{'metanetx.chemical': 'MNXM1246', 'seed.compound': 'cpd00739', 'bigg.metabolite': 'ribflvRD'}\n",
      "{'metanetx.chemical': 'MNXM142', 'seed.compound': 'cpd00161', 'bigg.metabolite': 'thr__L'}\n",
      "{'metanetx.chemical': 'MNXM1626', 'seed.compound': 'cpd08286', 'bigg.metabolite': '2me4p'}\n",
      "{'metanetx.chemical': 'MNXM66', 'seed.compound': 'cpd00080', 'bigg.metabolite': 'glyc3p'}\n",
      "{'metanetx.chemical': 'MNXM397', 'seed.compound': 'cpd02978', 'bigg.metabolite': 'ahdt'}\n",
      "{'metanetx.chemical': 'MNXM4269', 'seed.compound': 'cpd03666', 'bigg.metabolite': 'HC01710'}\n",
      "{'metanetx.chemical': 'MNXM663', 'seed.compound': 'cpd00797', 'bigg.metabolite': 'bhb'}\n",
      "{'metanetx.chemical': 'MNXM140', 'seed.compound': 'cpd00107', 'bigg.metabolite': 'leu__L'}\n",
      "{'metanetx.chemical': 'MNXM140', 'seed.compound': 'cpd00107', 'bigg.metabolite': 'leu__L'}\n",
      "{'metanetx.chemical': 'MNXM759', 'seed.compound': 'cpd03607', 'bigg.metabolite': 'phthr'}\n",
      "{'metanetx.chemical': 'MNXM507', 'seed.compound': 'cpd02893', 'bigg.metabolite': '5aizc'}\n"
     ]
    },
    {
     "name": "stdout",
     "output_type": "stream",
     "text": [
      "{'metanetx.chemical': 'MNXM420', 'seed.compound': 'cpd00184', 'bigg.metabolite': 'thymd'}\n",
      "{'metanetx.chemical': 'MNXM420', 'seed.compound': 'cpd00184', 'bigg.metabolite': 'thymd'}\n",
      "{'metanetx.chemical': 'MNXM92', 'seed.compound': 'cpd00078', 'bigg.metabolite': 'succoa'}\n",
      "{'metanetx.chemical': 'MNXM1508', 'seed.compound': 'cpd03762', 'bigg.metabolite': 'bz12diol'}\n",
      "{'metanetx.chemical': 'MNXM181', 'seed.compound': 'cpd00077', 'bigg.metabolite': 'catechol'}\n",
      "{'metanetx.chemical': 'MNXM394', 'seed.compound': 'cpd00357', 'bigg.metabolite': 'dttp'}\n",
      "{'metanetx.chemical': 'MNXM152', 'seed.compound': 'cpd00297', 'bigg.metabolite': 'dtdp'}\n",
      "{'metanetx.chemical': 'MNXM701', 'seed.compound': 'cpd02691', 'bigg.metabolite': '3hmbcoa'}\n",
      "{'metanetx.chemical': 'MNXM524', 'seed.compound': 'cpd02124', 'bigg.metabolite': '2maacoa'}\n",
      "{'metanetx.chemical': 'MNXM826', 'seed.compound': 'cpd02501', 'bigg.metabolite': 'dhpppn'}\n",
      "{'metanetx.chemical': 'MNXM337', 'seed.compound': 'cpd00216', 'bigg.metabolite': 'chor'}\n",
      "{'metanetx.chemical': 'MNXM615', 'seed.compound': 'cpd00314', 'bigg.metabolite': 'mnl'}\n",
      "{'metanetx.chemical': 'MNXM90126', 'seed.compound': 'cpd00491', 'bigg.metabolite': 'mnl1p'}\n",
      "{'metanetx.chemical': 'MNXM8670', 'seed.compound': 'cpd11588', 'bigg.metabolite': 'gly_pro__L'}\n",
      "{'metanetx.chemical': 'MNXM1378', 'seed.compound': 'cpd11341', 'bigg.metabolite': 'ggbutal'}\n",
      "{'metanetx.chemical': 'MNXM1406', 'seed.compound': 'cpd11408', 'bigg.metabolite': 'gg4abut'}\n",
      "{'metanetx.chemical': 'MNXM75103', 'seed.compound': 'cpd15546', 'bigg.metabolite': 'pgp161'}\n",
      "{'metanetx.chemical': 'MNXM75101', 'seed.compound': 'cpd15539', 'bigg.metabolite': 'pg161'}\n",
      "{'metanetx.chemical': 'MNXM546', 'seed.compound': 'cpd00296', 'bigg.metabolite': 'dgmp'}\n",
      "{'metanetx.chemical': 'MNXM647', 'seed.compound': 'cpd00277', 'bigg.metabolite': 'dgsn'}\n",
      "{'metanetx.chemical': 'MNXM683', 'seed.compound': 'cpd01017', 'bigg.metabolite': 'cgly'}\n",
      "{'metanetx.chemical': 'MNXM683', 'seed.compound': 'cpd01017', 'bigg.metabolite': 'cgly'}\n",
      "{'metanetx.chemical': 'MNXM34810', 'seed.compound': 'cpd15339', 'bigg.metabolite': '2agpe160'}\n",
      "{'metanetx.chemical': 'MNXM108', 'seed.compound': 'cpd00214', 'bigg.metabolite': 'hdca'}\n",
      "{'metanetx.chemical': 'MNXM1323', 'seed.compound': 'cpd01306', 'bigg.metabolite': 'cyart'}\n",
      "{'metanetx.chemical': 'MNXM4975', 'seed.compound': 'cpd05727', 'bigg.metabolite': 'menecyart'}\n",
      "{'metanetx.chemical': 'MNXM663', 'seed.compound': 'cpd00797', 'bigg.metabolite': 'bhb'}\n",
      "{'metanetx.chemical': 'MNXM88', 'seed.compound': 'cpd00134', 'bigg.metabolite': 'pmtcoa'}\n",
      "{'metanetx.chemical': 'MNXM162234', 'seed.compound': 'cpd00365', 'bigg.metabolite': 'retinol'}\n",
      "{'metanetx.chemical': 'MNXM918', 'seed.compound': 'cpd01691', 'bigg.metabolite': 'retpalm'}\n",
      "{'metanetx.chemical': 'MNXM1276', 'seed.compound': 'cpd00871', 'bigg.metabolite': 'rb15bp'}\n",
      "{'metanetx.chemical': 'MNXM90509', 'seed.compound': 'cpd15521', 'bigg.metabolite': 'pa120'}\n",
      "{'metanetx.chemical': 'MNXM1693', 'seed.compound': 'cpd02731', 'bigg.metabolite': 'hkndd'}\n",
      "{'metanetx.chemical': 'MNXM1014', 'seed.compound': 'cpd01651', 'bigg.metabolite': 'HC00955'}\n",
      "{'metanetx.chemical': 'MNXM11629', 'seed.compound': 'cpd03407', 'bigg.metabolite': 'HC01577'}\n",
      "{'metanetx.chemical': 'MNXM15', 'seed.compound': 'cpd00013', 'bigg.metabolite': 'nh3'}\n",
      "{'metanetx.chemical': 'MNXM15', 'seed.compound': 'cpd00013', 'bigg.metabolite': 'nh4'}\n",
      "{'metanetx.chemical': 'MNXM211', 'seed.compound': 'cpd00274', 'bigg.metabolite': 'citr__L'}\n",
      "{'metanetx.chemical': 'MNXM685', 'seed.compound': 'cpd00397', 'bigg.metabolite': 'rbl__L'}\n",
      "{'metanetx.chemical': 'MNXM1287', 'seed.compound': 'cpd00770', 'bigg.metabolite': 'Nforglu'}\n",
      "{'metanetx.chemical': 'MNXM648', 'seed.compound': 'cpd00957', 'bigg.metabolite': '25drapp'}\n",
      "{'metanetx.chemical': 'MNXM1277', 'seed.compound': 'cpd00449', 'bigg.metabolite': 'dhlam'}\n",
      "{'metanetx.chemical': 'MNXM187', 'seed.compound': 'cpd00285', 'bigg.metabolite': 'ethamp'}\n",
      "{'metanetx.chemical': 'MNXM179', 'seed.compound': 'cpd00159', 'bigg.metabolite': 'lac__L'}\n",
      "{'metanetx.chemical': 'MNXM210', 'seed.compound': 'cpd00143', 'bigg.metabolite': 'phpyr'}\n",
      "{'metanetx.chemical': 'MNXM2160', 'seed.compound': 'cpd03480', 'bigg.metabolite': '2hyoxplac'}\n",
      "{'metanetx.chemical': 'MNXM1048', 'seed.compound': 'cpd03220', 'bigg.metabolite': 'gcarote'}\n",
      "{'metanetx.chemical': 'MNXM70', 'seed.compound': 'cpd00051', 'bigg.metabolite': 'arg__L'}\n",
      "{'metanetx.chemical': 'MNXM90586', 'seed.compound': 'cpd15327', 'bigg.metabolite': '1hdecg3p'}\n",
      "{'metanetx.chemical': 'MNXM344', 'seed.compound': 'cpd00241', 'bigg.metabolite': 'dgtp'}\n",
      "{'metanetx.chemical': 'MNXM300', 'seed.compound': 'cpd00183', 'bigg.metabolite': 'sarcs'}\n",
      "{'metanetx.chemical': 'MNXM331', 'seed.compound': 'cpd00186', 'bigg.metabolite': 'glu__D'}\n",
      "{'metanetx.chemical': 'MNXM820', 'seed.compound': 'cpd00822', 'bigg.metabolite': 'suchms'}\n",
      "{'metanetx.chemical': 'MNXM96425', 'seed.compound': 'cpd00167', 'bigg.metabolite': 'crm_cho'}\n",
      "{'metanetx.chemical': 'MNXM229', 'seed.compound': 'cpd00457', 'bigg.metabolite': 'cholp'}\n",
      "{'metanetx.chemical': 'MNXM7733', 'seed.compound': 'cpd11484', 'bigg.metabolite': '3hmrsACP'}\n",
      "{'metanetx.chemical': 'MNXM24297', 'seed.compound': 'cpd11467', 'bigg.metabolite': 'tmrs2eACP'}\n",
      "{'metanetx.chemical': 'MNXM1897', 'seed.compound': 'cpd02446', 'bigg.metabolite': 'd5kg'}\n",
      "{'metanetx.chemical': 'MNXM803', 'seed.compound': 'cpd02024', 'bigg.metabolite': 'Pald'}\n",
      "{'metanetx.chemical': 'MNXM53766', 'seed.compound': 'cpd03518', 'bigg.metabolite': 'HC01651'}\n",
      "{'metanetx.chemical': 'MNXM2773', 'seed.compound': 'cpd03519', 'bigg.metabolite': 'HC01652'}\n",
      "{'metanetx.chemical': 'MNXM32950', 'seed.compound': 'cpd15329', 'bigg.metabolite': '1odecg3p'}\n",
      "{'metanetx.chemical': 'MNXM4708', 'seed.compound': 'cpd02612', 'bigg.metabolite': 'acmanap'}\n",
      "{'metanetx.chemical': 'MNXM90279', 'seed.compound': 'cpd01501', 'bigg.metabolite': '2mcit'}\n",
      "{'metanetx.chemical': 'MNXM367', 'seed.compound': 'cpd00507', 'bigg.metabolite': 'g3pc'}\n",
      "{'metanetx.chemical': 'MNXM90', 'seed.compound': 'cpd00098', 'bigg.metabolite': 'chol'}\n",
      "{'metanetx.chemical': 'MNXM69', 'seed.compound': 'cpd00040', 'bigg.metabolite': 'glx'}\n",
      "{'metanetx.chemical': 'MNXM111', 'seed.compound': 'cpd10515', 'bigg.metabolite': 'fe2'}\n",
      "{'metanetx.chemical': 'MNXM3232', 'seed.compound': 'cpd15419', 'bigg.metabolite': 'cdpdhdecg'}\n",
      "{'metanetx.chemical': 'MNXM32180', 'seed.compound': 'cpd15545', 'bigg.metabolite': 'pgp160'}\n",
      "{'metanetx.chemical': 'MNXM477', 'seed.compound': 'cpd00308', 'bigg.metabolite': 'malon'}\n",
      "{'metanetx.chemical': 'MNXM477', 'seed.compound': 'cpd00308', 'bigg.metabolite': 'malon'}\n",
      "{'metanetx.chemical': 'MNXM584', 'seed.compound': 'cpd00388', 'bigg.metabolite': 'alltt'}\n",
      "{'metanetx.chemical': 'MNXM117', 'seed.compound': 'cpd00073', 'bigg.metabolite': 'urea'}\n",
      "{'metanetx.chemical': 'MNXM490', 'seed.compound': 'cpd00465', 'bigg.metabolite': 'urdglyc'}\n",
      "{'metanetx.chemical': 'MNXM699', 'seed.compound': 'cpd00790', 'bigg.metabolite': 'achms'}\n",
      "{'metanetx.chemical': 'MNXM165', 'seed.compound': 'cpd00179', 'bigg.metabolite': 'malt'}\n",
      "{'metanetx.chemical': 'MNXM2394', 'seed.compound': 'cpd01919', 'bigg.metabolite': 'malt6p'}\n",
      "{'metanetx.chemical': 'MNXM28933', 'seed.compound': 'cpd11489', 'bigg.metabolite': '3oddecACP'}\n",
      "{'metanetx.chemical': 'MNXM242', 'seed.compound': 'cpd00105', 'bigg.metabolite': 'rib__D'}\n",
      "{'metanetx.chemical': 'MNXM674', 'seed.compound': 'cpd03118', 'bigg.metabolite': '3hdcoa'}\n",
      "{'metanetx.chemical': 'MNXM580', 'seed.compound': 'cpd03129', 'bigg.metabolite': 'dc2coa'}\n",
      "{'metanetx.chemical': 'MNXM91417', 'seed.compound': 'cpd02068', 'bigg.metabolite': '3mgcoa'}\n",
      "{'metanetx.chemical': 'MNXM511', 'seed.compound': 'cpd00347', 'bigg.metabolite': 'methf'}\n",
      "{'metanetx.chemical': 'MNXM51279', 'seed.compound': 'cpd15526', 'bigg.metabolite': 'pa180'}\n",
      "{'metanetx.chemical': 'MNXM90511', 'seed.compound': 'cpd15527', 'bigg.metabolite': 'pa181'}\n",
      "{'metanetx.chemical': 'MNXM17312', 'seed.compound': 'cpd15524', 'bigg.metabolite': 'pa160'}\n",
      "{'metanetx.chemical': 'MNXM733', 'seed.compound': 'cpd03116', 'bigg.metabolite': '3hddcoa'}\n",
      "{'metanetx.chemical': 'MNXM642', 'seed.compound': 'cpd02060', 'bigg.metabolite': 'dd2coa'}\n",
      "{'metanetx.chemical': 'MNXM642', 'seed.compound': 'cpd02060', 'bigg.metabolite': 'trans_dd2coa'}\n",
      "{'metanetx.chemical': 'MNXM167', 'seed.compound': 'cpd00076', 'bigg.metabolite': 'sucr'}\n",
      "{'metanetx.chemical': 'MNXM991', 'seed.compound': 'cpd02774', 'bigg.metabolite': 'dheas'}\n",
      "{'metanetx.chemical': 'MNXM375', 'seed.compound': 'cpd00904', 'bigg.metabolite': 'dhea'}\n",
      "{'metanetx.chemical': 'MNXM475', 'seed.compound': 'cpd00843', 'bigg.metabolite': '2h3opp'}\n",
      "{'metanetx.chemical': 'MNXM475', 'seed.compound': 'cpd00843', 'bigg.metabolite': '2h3oppan'}\n",
      "{'metanetx.chemical': 'MNXM475', 'seed.compound': 'cpd00843', 'bigg.metabolite': 'hop'}\n",
      "{'metanetx.chemical': 'MNXM89612', 'seed.compound': 'cpd00100', 'bigg.metabolite': 'glyc'}\n",
      "{'metanetx.chemical': 'MNXM443', 'seed.compound': 'cpd00270', 'bigg.metabolite': 'caffcoa'}\n",
      "{'metanetx.chemical': 'MNXM821', 'seed.compound': 'cpd00371', 'bigg.metabolite': 'ppal'}\n",
      "{'metanetx.chemical': 'MNXM2488', 'seed.compound': 'cpd04141', 'bigg.metabolite': '4hoxoh'}\n",
      "{'metanetx.chemical': 'MNXM76', 'seed.compound': 'cpd00069', 'bigg.metabolite': 'tyr__L'}\n",
      "{'metanetx.chemical': 'MNXM2769', 'seed.compound': 'cpd15364', 'bigg.metabolite': '2tpr3dpcoa'}\n",
      "{'metanetx.chemical': 'MNXM4509', 'seed.compound': 'cpd15420', 'bigg.metabolite': 'cdpdodec11eg'}\n",
      "{'metanetx.chemical': 'MNXM55287', 'seed.compound': 'cpd11591', 'bigg.metabolite': 'gly_met__L'}\n",
      "{'metanetx.chemical': 'MNXM55287', 'seed.compound': 'cpd11591', 'bigg.metabolite': 'gly_met__L'}\n",
      "{'metanetx.chemical': 'MNXM351', 'seed.compound': 'cpd00791', 'bigg.metabolite': 'pppg9'}\n",
      "{'metanetx.chemical': 'MNXM346', 'seed.compound': 'cpd01476', 'bigg.metabolite': 'ppp9'}\n",
      "{'metanetx.chemical': 'MNXM5481', 'seed.compound': 'cpd15358', 'bigg.metabolite': '2odecg3p'}\n",
      "{'metanetx.chemical': 'MNXM236', 'seed.compound': 'cpd01080', 'bigg.metabolite': 'ocdca'}\n",
      "{'metanetx.chemical': 'MNXM1104', 'seed.compound': 'cpd02536', 'bigg.metabolite': 'mucl'}\n",
      "{'metanetx.chemical': 'MNXM1144', 'seed.compound': 'cpd01630', 'bigg.metabolite': 'ccmuac'}\n",
      "{'metanetx.chemical': 'MNXM227', 'seed.compound': 'cpd00232', 'bigg.metabolite': 'acnam'}\n",
      "{'metanetx.chemical': 'MNXM2387', 'seed.compound': 'cpd00334', 'bigg.metabolite': 'lald__L'}\n",
      "{'metanetx.chemical': 'MNXM26095', 'seed.compound': 'cpd11491', 'bigg.metabolite': '3omrsACP'}\n",
      "{'metanetx.chemical': 'MNXM450', 'seed.compound': 'cpd00526', 'bigg.metabolite': 'cholate'}\n",
      "{'metanetx.chemical': 'MNXM1067', 'seed.compound': 'cpd00906', 'bigg.metabolite': 'hexdp'}\n"
     ]
    },
    {
     "name": "stdout",
     "output_type": "stream",
     "text": [
      "{'metanetx.chemical': 'MNXM465', 'seed.compound': 'cpd00343', 'bigg.metabolite': 'cbasp'}\n",
      "{'metanetx.chemical': 'MNXM874', 'seed.compound': 'cpd00939', 'bigg.metabolite': '4ahmmp'}\n",
      "{'metanetx.chemical': 'MNXM9', 'seed.compound': 'cpd00009', 'bigg.metabolite': 'pi'}\n",
      "{'metanetx.chemical': 'MNXM353', 'seed.compound': 'cpd00227', 'bigg.metabolite': 'hom__L'}\n",
      "{'metanetx.chemical': 'MNXM361', 'seed.compound': 'cpd00346', 'bigg.metabolite': 'aspsa'}\n",
      "{'metanetx.chemical': 'MNXM1805', 'seed.compound': 'cpd09027', 'bigg.metabolite': '5houdic'}\n",
      "{'metanetx.chemical': 'MNXM1805', 'seed.compound': 'cpd09027', 'bigg.metabolite': 'houdic'}\n",
      "{'metanetx.chemical': 'MNXM438', 'seed.compound': 'cpd00333', 'bigg.metabolite': 'cinnm'}\n",
      "{'metanetx.chemical': 'MNXM1561', 'seed.compound': 'cpd02740', 'bigg.metabolite': 'gdptp'}\n",
      "{'metanetx.chemical': 'MNXM214', 'seed.compound': 'cpd00650', 'bigg.metabolite': 'b2coa'}\n",
      "{'metanetx.chemical': 'MNXM162233', 'seed.compound': 'cpd00175', 'bigg.metabolite': 'udpacgal'}\n",
      "{'metanetx.chemical': 'MNXM90886', 'seed.compound': 'cpd11912', 'bigg.metabolite': 'trnaglu'}\n",
      "{'metanetx.chemical': 'MNXM89752', 'seed.compound': 'cpd12227', 'bigg.metabolite': 'glutrna'}\n",
      "{'metanetx.chemical': 'MNXM1062', 'seed.compound': 'cpd00918', 'bigg.metabolite': 'acg5sa'}\n",
      "{'metanetx.chemical': 'MNXM9132', 'seed.compound': 'cpd03244', 'bigg.metabolite': 'tdechola'}\n",
      "{'metanetx.chemical': 'MNXM57907', 'seed.compound': 'cpd02733', 'bigg.metabolite': 'dchac'}\n",
      "{'metanetx.chemical': 'MNXM785', 'seed.compound': 'cpd00773', 'bigg.metabolite': 'uamr'}\n",
      "{'metanetx.chemical': 'MNXM1688', 'seed.compound': 'cpd02820', 'bigg.metabolite': 'uaccg'}\n",
      "{'metanetx.chemical': 'MNXM1694', 'seed.compound': 'cpd02799', 'bigg.metabolite': 'micit'}\n",
      "{'metanetx.chemical': 'MNXM6824', 'seed.compound': 'cpd14698', 'bigg.metabolite': '3mhtpp'}\n",
      "{'metanetx.chemical': 'MNXM5589', 'seed.compound': 'cpd14699', 'bigg.metabolite': '3mbdhl'}\n",
      "{'metanetx.chemical': 'MNXM5589', 'seed.compound': 'cpd14699', 'bigg.metabolite': 'HC01377'}\n",
      "{'metanetx.chemical': 'MNXM119', 'seed.compound': 'cpd00050', 'bigg.metabolite': 'fmn'}\n",
      "{'metanetx.chemical': 'MNXM1294', 'seed.compound': 'cpd00349', 'bigg.metabolite': 's17bp'}\n",
      "{'metanetx.chemical': 'MNXM61', 'seed.compound': 'cpd00060', 'bigg.metabolite': 'met__L'}\n",
      "{'metanetx.chemical': 'MNXM676', 'seed.compound': 'cpd00524', 'bigg.metabolite': '2ins'}\n",
      "{'metanetx.chemical': 'MNXM88512', 'seed.compound': 'cpd03487', 'bigg.metabolite': 'uaaAgla'}\n",
      "{'metanetx.chemical': 'MNXM88510', 'seed.compound': 'cpd03488', 'bigg.metabolite': 'uaaAgtla'}\n",
      "{'metanetx.chemical': 'MNXM405', 'seed.compound': 'cpd00338', 'bigg.metabolite': '5aop'}\n",
      "{'metanetx.chemical': 'MNXM55276', 'seed.compound': 'cpd11580', 'bigg.metabolite': 'gly_gln__L'}\n",
      "{'metanetx.chemical': 'MNXM767', 'seed.compound': 'cpd03115', 'bigg.metabolite': '3htdcoa'}\n",
      "{'metanetx.chemical': 'MNXM707', 'seed.compound': 'cpd12689', 'bigg.metabolite': '3otdcoa'}\n",
      "{'metanetx.chemical': 'MNXM373', 'seed.compound': 'cpd00834', 'bigg.metabolite': 'pan4p'}\n",
      "{'metanetx.chemical': 'MNXM625', 'seed.compound': 'cpd00438', 'bigg.metabolite': 'dad_2'}\n",
      "{'metanetx.chemical': 'MNXM625', 'seed.compound': 'cpd00438', 'bigg.metabolite': 'dad_2'}\n",
      "{'metanetx.chemical': 'MNXM1515', 'seed.compound': 'cpd01777', 'bigg.metabolite': 'prbamp'}\n",
      "{'metanetx.chemical': 'MNXM1397', 'seed.compound': 'cpd02979', 'bigg.metabolite': 'prfp'}\n",
      "{'metanetx.chemical': 'MNXM649', 'seed.compound': 'cpd02711', 'bigg.metabolite': '2ddg6p'}\n",
      "{'metanetx.chemical': 'MNXM285', 'seed.compound': 'cpd00221', 'bigg.metabolite': 'lac__D'}\n",
      "{'metanetx.chemical': 'MNXM222', 'seed.compound': 'cpd00139', 'bigg.metabolite': 'glyclt'}\n",
      "{'metanetx.chemical': 'MNXM827', 'seed.compound': 'cpd03233', 'bigg.metabolite': 'HC01459'}\n",
      "{'metanetx.chemical': 'MNXM90790', 'seed.compound': 'cpd03918', 'bigg.metabolite': 'adocbi'}\n",
      "{'metanetx.chemical': 'MNXM231', 'seed.compound': 'cpd00322', 'bigg.metabolite': 'ile__L'}\n",
      "{'metanetx.chemical': 'MNXM149', 'seed.compound': 'cpd00034', 'bigg.metabolite': 'HC02172'}\n",
      "{'metanetx.chemical': 'MNXM149', 'seed.compound': 'cpd00034', 'bigg.metabolite': 'zn2'}\n",
      "{'metanetx.chemical': 'MNXM149', 'seed.compound': 'cpd00034', 'bigg.metabolite': 'HC02172'}\n",
      "{'metanetx.chemical': 'MNXM149', 'seed.compound': 'cpd00034', 'bigg.metabolite': 'zn2'}\n",
      "{'metanetx.chemical': 'MNXM955', 'seed.compound': 'cpd00525', 'bigg.metabolite': 'uamag'}\n",
      "{'metanetx.chemical': 'MNXM6465', 'seed.compound': 'cpd02861', 'bigg.metabolite': 'uAgl'}\n",
      "{'metanetx.chemical': 'MNXM89658', 'seed.compound': 'cpd00233', 'bigg.metabolite': 'thbpt'}\n",
      "{'metanetx.chemical': 'MNXM90267', 'seed.compound': 'cpd00231', 'bigg.metabolite': 'CE2705'}\n",
      "{'metanetx.chemical': 'MNXM581', 'seed.compound': 'cpd03126', 'bigg.metabolite': 'hdd2coa'}\n",
      "{'metanetx.chemical': 'MNXM96952', 'seed.compound': 'cpd11624', 'bigg.metabolite': 'pchol_cho'}\n",
      "{'metanetx.chemical': 'MNXM791', 'seed.compound': 'cpd02882', 'bigg.metabolite': '4r5au'}\n",
      "{'metanetx.chemical': 'MNXM1313', 'seed.compound': 'cpd02656', 'bigg.metabolite': 'dmlz'}\n",
      "{'metanetx.chemical': 'MNXM348', 'seed.compound': 'cpd00154', 'bigg.metabolite': 'xyl__D'}\n",
      "{'metanetx.chemical': 'MNXM342', 'seed.compound': 'cpd01335', 'bigg.metabolite': 'occoa'}\n",
      "{'metanetx.chemical': 'MNXM784', 'seed.compound': 'cpd03130', 'bigg.metabolite': 'oc2coa'}\n",
      "{'metanetx.chemical': 'MNXM63556', 'seed.compound': 'cpd00293', 'bigg.metabolite': 'acgam6p'}\n",
      "{'metanetx.chemical': 'MNXM156', 'seed.compound': 'cpd00117', 'bigg.metabolite': 'ala__D'}\n",
      "{'metanetx.chemical': 'MNXM159', 'seed.compound': 'cpd00094', 'bigg.metabolite': '2obut'}\n",
      "{'metanetx.chemical': 'MNXM371', 'seed.compound': 'cpd00225', 'bigg.metabolite': 'bzal'}\n",
      "{'metanetx.chemical': 'MNXM217', 'seed.compound': 'cpd00153', 'bigg.metabolite': 'bz'}\n",
      "{'metanetx.chemical': 'MNXM34811', 'seed.compound': 'cpd15341', 'bigg.metabolite': '2agpe180'}\n",
      "{'metanetx.chemical': 'MNXM121', 'seed.compound': 'cpd00062', 'bigg.metabolite': 'utp'}\n",
      "{'metanetx.chemical': 'MNXM1163', 'seed.compound': 'cpd02572', 'bigg.metabolite': '5cmhm'}\n",
      "{'metanetx.chemical': 'MNXM1163', 'seed.compound': 'cpd02572', 'bigg.metabolite': '5cohe'}\n",
      "{'metanetx.chemical': 'MNXM1163', 'seed.compound': 'cpd02507', 'bigg.metabolite': '5cmhm'}\n",
      "{'metanetx.chemical': 'MNXM1163', 'seed.compound': 'cpd02507', 'bigg.metabolite': '5cohe'}\n",
      "{'metanetx.chemical': 'MNXM288', 'seed.compound': 'cpd00249', 'bigg.metabolite': 'uri'}\n",
      "{'metanetx.chemical': 'MNXM108', 'seed.compound': 'cpd00214', 'bigg.metabolite': 'hdca'}\n",
      "{'metanetx.chemical': 'MNXM1453', 'seed.compound': 'cpd02345', 'bigg.metabolite': 'glu1sa'}\n",
      "{'metanetx.chemical': 'MNXM134', 'seed.compound': 'cpd00119', 'bigg.metabolite': 'his__L'}\n",
      "{'metanetx.chemical': 'MNXM1210', 'seed.compound': 'cpd01709', 'bigg.metabolite': '2hog'}\n",
      "{'metanetx.chemical': 'MNXM611', 'seed.compound': 'cpd01716', 'bigg.metabolite': '3dhsk'}\n",
      "{'metanetx.chemical': 'MNXM40494', 'seed.compound': 'cpd11593', 'bigg.metabolite': 'ala_L_asp__L'}\n",
      "{'metanetx.chemical': 'MNXM40494', 'seed.compound': 'cpd11593', 'bigg.metabolite': 'ala_L_asp__L'}\n",
      "{'metanetx.chemical': 'MNXM309', 'seed.compound': 'cpd00638', 'bigg.metabolite': 'dnad'}\n",
      "{'metanetx.chemical': 'MNXM28221', 'seed.compound': 'cpd11475', 'bigg.metabolite': 'tdec2eACP'}\n",
      "{'metanetx.chemical': 'MNXM151', 'seed.compound': 'cpd00111', 'bigg.metabolite': 'gthox'}\n",
      "{'metanetx.chemical': 'MNXM704', 'seed.compound': 'cpd00654', 'bigg.metabolite': 'dcyt'}\n",
      "{'metanetx.chemical': 'MNXM392', 'seed.compound': 'cpd00145', 'bigg.metabolite': 'hpyr'}\n",
      "{'metanetx.chemical': 'MNXM162338', 'seed.compound': 'cpd01466', 'bigg.metabolite': 'fumpyr'}\n",
      "{'metanetx.chemical': 'MNXM162338', 'seed.compound': 'cpd01653', 'bigg.metabolite': 'fumpyr'}\n",
      "{'metanetx.chemical': 'MNXM1552', 'seed.compound': 'cpd00586', 'bigg.metabolite': 'arg__D'}\n",
      "{'metanetx.chemical': 'MNXM1037', 'seed.compound': 'cpd02364', 'bigg.metabolite': '5g2oxpt'}\n",
      "{'metanetx.chemical': 'MNXM3148', 'seed.compound': 'cpd01571', 'bigg.metabolite': '23ccmp'}\n",
      "{'metanetx.chemical': 'MNXM2182', 'seed.compound': 'cpd03454', 'bigg.metabolite': '3cmp'}\n",
      "{'metanetx.chemical': 'MNXM650', 'seed.compound': 'cpd00663', 'bigg.metabolite': 'pp2coa'}\n",
      "{'metanetx.chemical': 'MNXM650', 'seed.compound': 'cpd00663', 'bigg.metabolite': 'prpncoa'}\n",
      "{'metanetx.chemical': 'MNXM167', 'seed.compound': 'cpd00076', 'bigg.metabolite': 'sucr'}\n",
      "{'metanetx.chemical': 'MNXM1004', 'seed.compound': 'cpd01693', 'bigg.metabolite': 'suc6p'}\n",
      "{'metanetx.chemical': 'MNXM795', 'seed.compound': 'cpd00805', 'bigg.metabolite': 'tag6p__D'}\n",
      "{'metanetx.chemical': 'MNXM1324', 'seed.compound': 'cpd02371', 'bigg.metabolite': 'tagdp__D'}\n",
      "{'metanetx.chemical': 'MNXM1750', 'seed.compound': 'cpd00642', 'bigg.metabolite': 'rml'}\n",
      "{'metanetx.chemical': 'MNXM1675', 'seed.compound': 'cpd00831', 'bigg.metabolite': 'rml1p'}\n",
      "{'metanetx.chemical': 'MNXM231', 'seed.compound': 'cpd00322', 'bigg.metabolite': 'ile__L'}\n",
      "{'metanetx.chemical': 'MNXM90068', 'seed.compound': 'cpd02041', 'bigg.metabolite': 'S2hglut'}\n",
      "{'metanetx.chemical': 'MNXM449', 'seed.compound': 'cpd00444', 'bigg.metabolite': 'cdpea'}\n",
      "{'metanetx.chemical': 'MNXM665', 'seed.compound': 'cpd00697', 'bigg.metabolite': '35cgmp'}\n",
      "{'metanetx.chemical': 'MNXM90003', 'seed.compound': 'cpd01982', 'bigg.metabolite': 'pram'}\n",
      "{'metanetx.chemical': 'MNXM1641', 'seed.compound': 'cpd08288', 'bigg.metabolite': '2p4c2me'}\n",
      "{'metanetx.chemical': 'MNXM90768', 'seed.compound': 'cpd12273', 'bigg.metabolite': 'ak2g_cho'}\n",
      "{'metanetx.chemical': 'MNXM90768', 'seed.compound': 'cpd12273', 'bigg.metabolite': 'ak2g_hs'}\n",
      "{'metanetx.chemical': 'MNXM45856', 'seed.compound': 'cpd15421', 'bigg.metabolite': 'cdpdodecg'}\n",
      "{'metanetx.chemical': 'MNXM1661', 'seed.compound': 'cpd04920', 'bigg.metabolite': 'gmhep1p'}\n",
      "{'metanetx.chemical': 'MNXM1408', 'seed.compound': 'cpd02991', 'bigg.metabolite': 'prlp'}\n",
      "{'metanetx.chemical': 'MNXM386', 'seed.compound': 'cpd00151', 'bigg.metabolite': 'thym'}\n",
      "{'metanetx.chemical': 'MNXM789', 'seed.compound': 'cpd00509', 'bigg.metabolite': '2dr1p'}\n",
      "{'metanetx.chemical': 'MNXM2576', 'seed.compound': 'cpd11481', 'bigg.metabolite': '3hpalmACP'}\n",
      "{'metanetx.chemical': 'MNXM4345', 'seed.compound': 'cpd11485', 'bigg.metabolite': '3opalmACP'}\n",
      "{'metanetx.chemical': 'MNXM2214', 'seed.compound': 'cpd12370', 'bigg.metabolite': 'HC01161'}\n",
      "{'metanetx.chemical': 'MNXM2214', 'seed.compound': 'cpd12370', 'bigg.metabolite': 'apoACP'}\n",
      "{'metanetx.chemical': 'MNXM1627', 'seed.compound': 'cpd00176', 'bigg.metabolite': '2ddglcn'}\n",
      "{'metanetx.chemical': 'MNXM1627', 'seed.compound': 'cpd00176', 'bigg.metabolite': '2dh3dgal'}\n",
      "{'metanetx.chemical': 'MNXM1484', 'seed.compound': 'cpd00541', 'bigg.metabolite': 'lipoate'}\n",
      "{'metanetx.chemical': 'MNXM1484', 'seed.compound': 'cpd00541', 'bigg.metabolite': 'lipt'}\n",
      "{'metanetx.chemical': 'MNXM2392', 'seed.compound': 'cpd14955', 'bigg.metabolite': 'CE5656'}\n",
      "{'metanetx.chemical': 'MNXM2392', 'seed.compound': 'cpd14955', 'bigg.metabolite': 'lipoamp'}\n",
      "{'metanetx.chemical': 'MNXM254', 'seed.compound': 'cpd00150', 'bigg.metabolite': 'cyan'}\n",
      "{'metanetx.chemical': 'MNXM1233', 'seed.compound': 'cpd01171', 'bigg.metabolite': 'galt'}\n",
      "{'metanetx.chemical': 'MNXM1667', 'seed.compound': 'cpd03752', 'bigg.metabolite': 'galt1p'}\n",
      "{'metanetx.chemical': 'MNXM1263', 'seed.compound': 'cpd03375', 'bigg.metabolite': '3hpcoa'}\n",
      "{'metanetx.chemical': 'MNXM4040', 'seed.compound': 'cpd04447', 'bigg.metabolite': '3mbzald'}\n",
      "{'metanetx.chemical': 'MNXM4661', 'seed.compound': 'cpd04449', 'bigg.metabolite': 'm_tol'}\n",
      "{'metanetx.chemical': 'MNXM282', 'seed.compound': 'cpd00210', 'bigg.metabolite': 'taur'}\n",
      "{'metanetx.chemical': 'MNXM90394', 'seed.compound': 'cpd02311', 'bigg.metabolite': '4izp'}\n",
      "{'metanetx.chemical': 'MNXM496', 'seed.compound': 'cpd00344', 'bigg.metabolite': 'forglu'}\n",
      "{'metanetx.chemical': 'MNXM192', 'seed.compound': 'cpd00281', 'bigg.metabolite': '4abut'}\n"
     ]
    },
    {
     "name": "stdout",
     "output_type": "stream",
     "text": [
      "{'metanetx.chemical': 'MNXM172', 'seed.compound': 'cpd00199', 'bigg.metabolite': 'sucsal'}\n",
      "{'metanetx.chemical': 'MNXM145761', 'seed.compound': 'cpd08375', 'bigg.metabolite': 'codscl8x'}\n",
      "{'metanetx.chemical': 'MNXM145761', 'seed.compound': 'cpd08375', 'bigg.metabolite': 'copre8'}\n",
      "{'metanetx.chemical': 'MNXM55375', 'seed.compound': 'cpd00155', 'bigg.metabolite': 'glycogen'}\n",
      "{'metanetx.chemical': 'MNXM8669', 'seed.compound': 'cpd15605', 'bigg.metabolite': 'gly_phe__L'}\n",
      "{'metanetx.chemical': 'MNXM8669', 'seed.compound': 'cpd15605', 'bigg.metabolite': 'glyphe'}\n",
      "{'metanetx.chemical': 'MNXM1148', 'seed.compound': 'cpd00404', 'bigg.metabolite': 'orn__D'}\n",
      "{'metanetx.chemical': 'MNXM8666', 'seed.compound': 'cpd15603', 'bigg.metabolite': 'gly_cys__L'}\n",
      "{'metanetx.chemical': 'MNXM2846', 'seed.compound': 'cpd01197', 'bigg.metabolite': 'nebari'}\n",
      "{'metanetx.chemical': 'MNXM2342', 'seed.compound': 'cpd00360', 'bigg.metabolite': 'purine'}\n",
      "{'metanetx.chemical': 'MNXM91053', 'seed.compound': 'cpd15330', 'bigg.metabolite': '1tdec7eg3p'}\n",
      "{'metanetx.chemical': 'MNXM514', 'seed.compound': 'cpd11988', 'bigg.metabolite': 'ghb'}\n",
      "{'metanetx.chemical': 'MNXM124', 'seed.compound': 'cpd00264', 'bigg.metabolite': 'spmd'}\n",
      "{'metanetx.chemical': 'MNXM491', 'seed.compound': 'cpd00885', 'bigg.metabolite': 'inoshp'}\n",
      "{'metanetx.chemical': 'MNXM491', 'seed.compound': 'cpd00885', 'bigg.metabolite': 'minohp'}\n",
      "{'metanetx.chemical': 'MNXM491', 'seed.compound': 'cpd00885', 'bigg.metabolite': 'ppmi1346p'}\n",
      "{'metanetx.chemical': 'MNXM1715', 'seed.compound': 'cpd08361', 'bigg.metabolite': 'ppmi12346p'}\n",
      "{'metanetx.chemical': 'MNXM4507', 'seed.compound': 'cpd15417', 'bigg.metabolite': 'cdpdddecg'}\n",
      "{'metanetx.chemical': 'MNXM5464', 'seed.compound': 'cpd15354', 'bigg.metabolite': '2hdec9eg3p'}\n",
      "{'metanetx.chemical': 'MNXM6119', 'seed.compound': 'cpd16434', 'bigg.metabolite': '56dh5flura'}\n",
      "{'metanetx.chemical': 'MNXM7058', 'seed.compound': 'cpd16435', 'bigg.metabolite': 'aflburppa'}\n",
      "{'metanetx.chemical': 'MNXM27066', 'seed.compound': 'cpd11480', 'bigg.metabolite': '3hddecACP'}\n",
      "{'metanetx.chemical': 'MNXM94', 'seed.compound': 'cpd00065', 'bigg.metabolite': 'trp__L'}\n",
      "{'metanetx.chemical': 'MNXM806', 'seed.compound': 'cpd00318', 'bigg.metabolite': 'trypta'}\n",
      "{'metanetx.chemical': 'MNXM328', 'seed.compound': 'cpd00152', 'bigg.metabolite': 'agm'}\n",
      "{'metanetx.chemical': 'MNXM410', 'seed.compound': 'cpd02083', 'bigg.metabolite': 'cpppg3'}\n",
      "{'metanetx.chemical': 'MNXM53', 'seed.compound': 'cpd00054', 'bigg.metabolite': 'ser__L'}\n",
      "{'metanetx.chemical': 'MNXM1547', 'seed.compound': 'cpd00681', 'bigg.metabolite': 'chols'}\n",
      "{'metanetx.chemical': 'MNXM209', 'seed.compound': 'cpd13383', 'bigg.metabolite': 'pail34p_cho'}\n",
      "{'metanetx.chemical': 'MNXM102', 'seed.compound': 'cpd12572', 'bigg.metabolite': 'pail3p_cho'}\n",
      "{'metanetx.chemical': 'MNXM364', 'seed.compound': 'cpd00644', 'bigg.metabolite': 'pnto__R'}\n",
      "{'metanetx.chemical': 'MNXM364', 'seed.compound': 'cpd00644', 'bigg.metabolite': 'pnto__R'}\n",
      "{'metanetx.chemical': 'MNXM2212', 'seed.compound': 'cpd04122', 'bigg.metabolite': 'aacald'}\n",
      "{'metanetx.chemical': 'MNXM2212', 'seed.compound': 'cpd04122', 'bigg.metabolite': 'amacald'}\n",
      "{'metanetx.chemical': 'MNXM445', 'seed.compound': 'cpd03217', 'bigg.metabolite': 'lycop'}\n",
      "{'metanetx.chemical': 'MNXM199', 'seed.compound': 'cpd00156', 'bigg.metabolite': 'val__L'}\n",
      "{'metanetx.chemical': 'MNXM790', 'seed.compound': 'cpd02775', 'bigg.metabolite': '4ampm'}\n",
      "{'metanetx.chemical': 'MNXM916', 'seed.compound': 'cpd02074', 'bigg.metabolite': '6a2ohxnt'}\n",
      "{'metanetx.chemical': 'MNXM911', 'seed.compound': 'cpd00922', 'bigg.metabolite': '1pipdn2c'}\n",
      "{'metanetx.chemical': 'MNXM1403', 'seed.compound': 'cpd03343', 'bigg.metabolite': 'pppn'}\n",
      "{'metanetx.chemical': 'MNXM3135', 'seed.compound': 'cpd01441', 'bigg.metabolite': 'acmalt'}\n",
      "{'metanetx.chemical': 'MNXM40495', 'seed.compound': 'cpd11587', 'bigg.metabolite': 'ala_L_gln__L'}\n",
      "{'metanetx.chemical': 'MNXM1199', 'seed.compound': 'cpd02835', 'bigg.metabolite': 'u23ga'}\n",
      "{'metanetx.chemical': 'MNXM1839', 'seed.compound': 'cpd02930', 'bigg.metabolite': 'lipidX'}\n",
      "{'metanetx.chemical': 'MNXM233', 'seed.compound': 'cpd00120', 'bigg.metabolite': 'btcoa'}\n",
      "{'metanetx.chemical': 'MNXM1903', 'seed.compound': 'cpd03447', 'bigg.metabolite': '2ombz'}\n",
      "{'metanetx.chemical': 'MNXM90440', 'seed.compound': 'cpd03448', 'bigg.metabolite': '2ommb'}\n",
      "{'metanetx.chemical': 'MNXM1312', 'seed.compound': 'cpd00762', 'bigg.metabolite': '4gudbutn'}\n",
      "{'metanetx.chemical': 'MNXM1317', 'seed.compound': 'cpd01329', 'bigg.metabolite': 'malthx'}\n",
      "{'metanetx.chemical': 'MNXM355', 'seed.compound': 'cpd00355', 'bigg.metabolite': 'nmn'}\n",
      "{'metanetx.chemical': 'MNXM1115', 'seed.compound': 'cpd02016', 'bigg.metabolite': 'rnam'}\n",
      "{'metanetx.chemical': 'MNXM15786', 'seed.compound': 'cpd11583', 'bigg.metabolite': 'CE5866'}\n",
      "{'metanetx.chemical': 'MNXM15786', 'seed.compound': 'cpd11583', 'bigg.metabolite': 'ala_L_leu__L'}\n",
      "{'metanetx.chemical': 'MNXM3150', 'seed.compound': 'cpd01572', 'bigg.metabolite': '23cump'}\n",
      "{'metanetx.chemical': 'MNXM2184', 'seed.compound': 'cpd00989', 'bigg.metabolite': '3ump'}\n",
      "{'metanetx.chemical': 'MNXM1275', 'seed.compound': 'cpd00637', 'bigg.metabolite': 'met__D'}\n",
      "{'metanetx.chemical': 'MNXM1275', 'seed.compound': 'cpd00637', 'bigg.metabolite': 'met__D'}\n",
      "{'metanetx.chemical': 'MNXM452', 'seed.compound': 'cpd00358', 'bigg.metabolite': 'dutp'}\n",
      "{'metanetx.chemical': 'MNXM572', 'seed.compound': 'cpd00978', 'bigg.metabolite': 'dudp'}\n",
      "{'metanetx.chemical': 'MNXM1861', 'seed.compound': 'cpd16335', 'bigg.metabolite': '2sephchc'}\n",
      "{'metanetx.chemical': 'MNXM1334', 'seed.compound': 'cpd00809', 'bigg.metabolite': 'phom'}\n",
      "{'metanetx.chemical': 'MNXM1756', 'seed.compound': 'cpd02103', 'bigg.metabolite': 'sucarg'}\n",
      "{'metanetx.chemical': 'MNXM1865', 'seed.compound': 'cpd00840', 'bigg.metabolite': '36dahx'}\n",
      "{'metanetx.chemical': 'MNXM480', 'seed.compound': 'cpd02465', 'bigg.metabolite': 'thdp'}\n",
      "{'metanetx.chemical': 'MNXM1642', 'seed.compound': 'cpd08287', 'bigg.metabolite': '4c2me'}\n",
      "{'metanetx.chemical': 'MNXM1278', 'seed.compound': 'cpd11313', 'bigg.metabolite': 'hemeO'}\n",
      "{'metanetx.chemical': 'MNXM1392', 'seed.compound': 'cpd02197', 'bigg.metabolite': '5fthf'}\n",
      "{'metanetx.chemical': 'MNXM310', 'seed.compound': 'cpd00428', 'bigg.metabolite': 'mthgxl'}\n",
      "{'metanetx.chemical': 'MNXM8667', 'seed.compound': 'cpd11592', 'bigg.metabolite': 'gly_glu__L'}\n",
      "{'metanetx.chemical': 'MNXM540', 'seed.compound': 'cpd02484', 'bigg.metabolite': 'mi3p__D'}\n",
      "{'metanetx.chemical': 'MNXM48464', 'seed.compound': 'cpd00280', 'bigg.metabolite': 'galur'}\n",
      "{'metanetx.chemical': 'MNXM1423', 'seed.compound': 'cpd00437', 'bigg.metabolite': 'tagur'}\n",
      "{'metanetx.chemical': 'MNXM1365', 'seed.compound': 'cpd00932', 'bigg.metabolite': '3psme'}\n",
      "{'metanetx.chemical': 'MNXM654', 'seed.compound': 'cpd03127', 'bigg.metabolite': 'td2coa'}\n",
      "{'metanetx.chemical': 'MNXM42', 'seed.compound': 'cpd00041', 'bigg.metabolite': 'CE1787'}\n",
      "{'metanetx.chemical': 'MNXM42', 'seed.compound': 'cpd00041', 'bigg.metabolite': 'CE5868'}\n",
      "{'metanetx.chemical': 'MNXM42', 'seed.compound': 'cpd00041', 'bigg.metabolite': 'asp__L'}\n",
      "{'metanetx.chemical': 'MNXM143', 'seed.compound': 'cpd00122', 'bigg.metabolite': 'acgam'}\n",
      "{'metanetx.chemical': 'MNXM89795', 'seed.compound': 'cpd00043', 'bigg.metabolite': 'udpgal'}\n",
      "{'metanetx.chemical': 'MNXM9829', 'seed.compound': 'cpd00461', 'bigg.metabolite': 'op4en'}\n",
      "{'metanetx.chemical': 'MNXM32', 'seed.compound': 'cpd00035', 'bigg.metabolite': 'ala__L'}\n",
      "{'metanetx.chemical': 'MNXM433', 'seed.compound': 'cpd00165', 'bigg.metabolite': 'ham'}\n",
      "{'metanetx.chemical': 'MNXM1089', 'seed.compound': 'cpd00924', 'bigg.metabolite': 'ap4a'}\n",
      "{'metanetx.chemical': 'MNXM1707', 'seed.compound': 'cpd03446', 'bigg.metabolite': '2omph'}\n",
      "{'metanetx.chemical': 'MNXM3229', 'seed.compound': 'cpd11465', 'bigg.metabolite': 'but2eACP'}\n",
      "{'metanetx.chemical': 'MNXM8666', 'seed.compound': 'cpd15603', 'bigg.metabolite': 'gly_cys__L'}\n",
      "{'metanetx.chemical': 'MNXM1372', 'seed.compound': 'cpd02692', 'bigg.metabolite': 'cmusa'}\n",
      "{'metanetx.chemical': 'MNXM788', 'seed.compound': 'cpd02385', 'bigg.metabolite': 'am6sa'}\n",
      "{'metanetx.chemical': 'MNXM78', 'seed.compound': 'cpd00039', 'bigg.metabolite': 'lys__L'}\n",
      "{'metanetx.chemical': 'MNXM1105', 'seed.compound': 'cpd03920', 'bigg.metabolite': 'agdpcbi'}\n",
      "{'metanetx.chemical': 'MNXM2403', 'seed.compound': 'cpd00492', 'bigg.metabolite': 'acmana'}\n",
      "{'metanetx.chemical': 'MNXM1384', 'seed.compound': 'cpd02552', 'bigg.metabolite': 'acg5p'}\n",
      "{'metanetx.chemical': 'MNXM2683', 'seed.compound': 'cpd03696', 'bigg.metabolite': 'arbt'}\n",
      "{'metanetx.chemical': 'MNXM2806', 'seed.compound': 'cpd03697', 'bigg.metabolite': 'arbt6p'}\n",
      "{'metanetx.chemical': 'MNXM436', 'seed.compound': 'cpd00295', 'bigg.metabolite': 'dgdp'}\n",
      "{'metanetx.chemical': 'MNXM259', 'seed.compound': 'cpd00207', 'bigg.metabolite': 'gua'}\n",
      "{'metanetx.chemical': 'MNXM257', 'seed.compound': 'cpd00298', 'bigg.metabolite': 'dtmp'}\n",
      "{'metanetx.chemical': 'MNXM647', 'seed.compound': 'cpd00277', 'bigg.metabolite': 'dgsn'}\n",
      "{'metanetx.chemical': 'MNXM118', 'seed.compound': 'cpd00118', 'bigg.metabolite': 'ptrc'}\n",
      "{'metanetx.chemical': 'MNXM562', 'seed.compound': 'cpd00435', 'bigg.metabolite': 'bzalc'}\n",
      "{'metanetx.chemical': 'MNXM974', 'seed.compound': 'cpd00320', 'bigg.metabolite': 'asp__D'}\n",
      "{'metanetx.chemical': 'MNXM894', 'seed.compound': 'cpd00830', 'bigg.metabolite': '4h2oglt'}\n",
      "{'metanetx.chemical': 'MNXM2489', 'seed.compound': 'cpd01974', 'bigg.metabolite': '4hglu'}\n",
      "{'metanetx.chemical': 'MNXM471', 'seed.compound': 'cpd01882', 'bigg.metabolite': 'ivcoa'}\n",
      "{'metanetx.chemical': 'MNXM174', 'seed.compound': 'cpd00309', 'bigg.metabolite': 'xan'}\n",
      "{'metanetx.chemical': 'MNXM55276', 'seed.compound': 'cpd11580', 'bigg.metabolite': 'gly_gln__L'}\n",
      "{'metanetx.chemical': 'MNXM11852', 'seed.compound': 'cpd16344', 'bigg.metabolite': 'CE5151'}\n",
      "{'metanetx.chemical': 'MNXM75104', 'seed.compound': 'cpd15547', 'bigg.metabolite': 'pgp180'}\n"
     ]
    },
    {
     "name": "stdout",
     "output_type": "stream",
     "text": [
      "{'metanetx.chemical': 'MNXM291', 'seed.compound': 'cpd00180', 'bigg.metabolite': 'oxa'}\n",
      "{'metanetx.chemical': 'MNXM1214', 'seed.compound': 'cpd00706', 'bigg.metabolite': 'mercppyr'}\n",
      "{'metanetx.chemical': 'MNXM612', 'seed.compound': 'cpd01092', 'bigg.metabolite': 'alltn'}\n",
      "{'metanetx.chemical': 'MNXM7127', 'seed.compound': 'cpd11482', 'bigg.metabolite': '3hdecACP'}\n",
      "{'metanetx.chemical': 'MNXM26616', 'seed.compound': 'cpd11487', 'bigg.metabolite': '3odecACP'}\n",
      "{'metanetx.chemical': 'MNXM1727', 'seed.compound': 'cpd01912', 'bigg.metabolite': 'fuc1p__L'}\n",
      "{'metanetx.chemical': 'MNXM175', 'seed.compound': 'cpd00082', 'bigg.metabolite': 'fru'}\n",
      "{'metanetx.chemical': 'MNXM1422', 'seed.compound': 'cpd02843', 'bigg.metabolite': 'eig3p'}\n",
      "{'metanetx.chemical': 'MNXM365', 'seed.compound': 'cpd02851', 'bigg.metabolite': 'aicar'}\n",
      "{'metanetx.chemical': 'MNXM1897', 'seed.compound': 'cpd04242', 'bigg.metabolite': 'd5kg'}\n",
      "{'metanetx.chemical': 'MNXM271', 'seed.compound': 'cpd00238', 'bigg.metabolite': 's7p'}\n",
      "{'metanetx.chemical': 'MNXM90510', 'seed.compound': 'cpd15525', 'bigg.metabolite': 'pa161'}\n",
      "{'metanetx.chemical': 'MNXM1745', 'seed.compound': 'cpd03052', 'bigg.metabolite': 'im4act'}\n",
      "{'metanetx.chemical': 'MNXM1745', 'seed.compound': 'cpd03052', 'bigg.metabolite': 'imzacd'}\n",
      "{'metanetx.chemical': 'MNXM1330', 'seed.compound': 'cpd01831', 'bigg.metabolite': 'im4ac'}\n",
      "{'metanetx.chemical': 'MNXM1330', 'seed.compound': 'cpd01831', 'bigg.metabolite': 'imzac'}\n",
      "{'metanetx.chemical': 'MNXM63441', 'seed.compound': 'cpd03656', 'bigg.metabolite': 'ga2_cho'}\n",
      "{'metanetx.chemical': 'MNXM25370', 'seed.compound': 'cpd11479', 'bigg.metabolite': '3hhexACP'}\n",
      "{'metanetx.chemical': 'MNXM1403', 'seed.compound': 'cpd03343', 'bigg.metabolite': 'pppn'}\n",
      "{'metanetx.chemical': 'MNXM618', 'seed.compound': 'cpd00262', 'bigg.metabolite': 'oxalcoa'}\n",
      "{'metanetx.chemical': 'MNXM325', 'seed.compound': 'cpd00284', 'bigg.metabolite': '6pgc'}\n",
      "{'metanetx.chemical': 'MNXM32478', 'seed.compound': 'cpd02921', 'bigg.metabolite': '25aics'}\n",
      "{'metanetx.chemical': 'MNXM497', 'seed.compound': 'cpd00430', 'bigg.metabolite': 'pac'}\n",
      "{'metanetx.chemical': 'MNXM502', 'seed.compound': 'cpd00452', 'bigg.metabolite': 'phaccoa'}\n",
      "{'metanetx.chemical': 'MNXM935', 'seed.compound': 'cpd03279', 'bigg.metabolite': 'din'}\n",
      "{'metanetx.chemical': 'MNXM935', 'seed.compound': 'cpd03279', 'bigg.metabolite': 'din'}\n",
      "{'metanetx.chemical': 'MNXM448', 'seed.compound': 'cpd00523', 'bigg.metabolite': 'tre6p'}\n",
      "{'metanetx.chemical': 'MNXM160', 'seed.compound': 'cpd00079', 'bigg.metabolite': 'g6p'}\n",
      "{'metanetx.chemical': 'MNXM891', 'seed.compound': 'cpd02693', 'bigg.metabolite': '3c2hmp'}\n",
      "{'metanetx.chemical': 'MNXM1706', 'seed.compound': 'cpd01710', 'bigg.metabolite': '2ippm'}\n",
      "{'metanetx.chemical': 'MNXM1602', 'seed.compound': 'cpd02605', 'bigg.metabolite': '3c4mop'}\n",
      "{'metanetx.chemical': 'MNXM689', 'seed.compound': 'cpd00841', 'bigg.metabolite': '5dpmev'}\n",
      "{'metanetx.chemical': 'MNXM468', 'seed.compound': 'cpd01262', 'bigg.metabolite': 'malttr'}\n",
      "{'metanetx.chemical': 'MNXM468', 'seed.compound': 'cpd01262', 'bigg.metabolite': 'malttr'}\n",
      "{'metanetx.chemical': 'MNXM207', 'seed.compound': 'cpd00209', 'bigg.metabolite': 'no3'}\n",
      "{'metanetx.chemical': 'MNXM268', 'seed.compound': 'cpd00705', 'bigg.metabolite': 'L2aadp'}\n",
      "{'metanetx.chemical': 'MNXM1499', 'seed.compound': 'cpd01844', 'bigg.metabolite': 'ppap'}\n",
      "{'metanetx.chemical': 'MNXM298', 'seed.compound': 'cpd00497', 'bigg.metabolite': 'xmp'}\n",
      "{'metanetx.chemical': 'MNXM10780', 'seed.compound': 'cpd16343', 'bigg.metabolite': 'docoscoa'}\n",
      "{'metanetx.chemical': 'MNXM131', 'seed.compound': 'cpd00137', 'bigg.metabolite': 'cit'}\n",
      "{'metanetx.chemical': 'MNXM196', 'seed.compound': 'cpd10516', 'bigg.metabolite': 'fe3'}\n",
      "{'metanetx.chemical': 'MNXM469', 'seed.compound': 'cpd00588', 'bigg.metabolite': 'sbt__D'}\n",
      "{'metanetx.chemical': 'MNXM393', 'seed.compound': 'cpd00804', 'bigg.metabolite': 'sbt6p'}\n",
      "{'metanetx.chemical': 'MNXM696', 'seed.compound': 'cpd00616', 'bigg.metabolite': 'Largn'}\n",
      "{'metanetx.chemical': 'MNXM2582', 'seed.compound': 'cpd15484', 'bigg.metabolite': 'hhlipa'}\n",
      "{'metanetx.chemical': 'MNXM90580', 'seed.compound': 'cpd00423', 'bigg.metabolite': 'cbl2'}\n",
      "{'metanetx.chemical': 'MNXM90580', 'seed.compound': 'cpd00423', 'bigg.metabolite': 'cbl2'}\n",
      "{'metanetx.chemical': 'MNXM333', 'seed.compound': 'cpd00332', 'bigg.metabolite': 'mev__R'}\n",
      "{'metanetx.chemical': 'MNXM567', 'seed.compound': 'cpd00812', 'bigg.metabolite': '5pmev'}\n",
      "{'metanetx.chemical': 'MNXM126241', 'seed.compound': 'cpd15604', 'bigg.metabolite': 'gly_leu__L'}\n",
      "{'metanetx.chemical': 'MNXM126241', 'seed.compound': 'cpd15604', 'bigg.metabolite': 'glyleu'}\n",
      "{'metanetx.chemical': 'MNXM5465', 'seed.compound': 'cpd15355', 'bigg.metabolite': '2hdecg3p'}\n",
      "{'metanetx.chemical': 'MNXM156', 'seed.compound': 'cpd00117', 'bigg.metabolite': 'ala__D'}\n",
      "{'metanetx.chemical': 'MNXM1269', 'seed.compound': 'cpd11494', 'bigg.metabolite': 'acACP'}\n",
      "{'metanetx.chemical': 'MNXM1223', 'seed.compound': 'cpd11488', 'bigg.metabolite': 'actACP'}\n",
      "{'metanetx.chemical': 'MNXM2246', 'seed.compound': 'cpd01914', 'bigg.metabolite': 'metox'}\n",
      "{'metanetx.chemical': 'MNXM2246', 'seed.compound': 'cpd01914', 'bigg.metabolite': 'metsox_R__L'}\n",
      "{'metanetx.chemical': 'MNXM2246', 'seed.compound': 'cpd01914', 'bigg.metabolite': 'metsox_S__L'}\n",
      "{'metanetx.chemical': 'MNXM1344', 'seed.compound': 'cpd03491', 'bigg.metabolite': 'uaaGgla'}\n",
      "{'metanetx.chemical': 'MNXM3113', 'seed.compound': 'cpd03492', 'bigg.metabolite': 'uaaGgtla'}\n",
      "{'metanetx.chemical': 'MNXM1017', 'seed.compound': 'cpd01011', 'bigg.metabolite': 'btal'}\n",
      "{'metanetx.chemical': 'MNXM3230', 'seed.compound': 'cpd03662', 'bigg.metabolite': '1btol'}\n",
      "{'metanetx.chemical': 'MNXM3230', 'seed.compound': 'cpd03662', 'bigg.metabolite': 'btoh'}\n",
      "{'metanetx.chemical': 'MNXM138', 'seed.compound': 'cpd00146', 'bigg.metabolite': 'cbp'}\n",
      "{'metanetx.chemical': 'MNXM660', 'seed.compound': 'cpd03161', 'bigg.metabolite': 'peamn'}\n",
      "{'metanetx.chemical': 'MNXM45', 'seed.compound': 'cpd00045', 'bigg.metabolite': 'pap'}\n",
      "{'metanetx.chemical': 'MNXM376', 'seed.compound': 'cpd00415', 'bigg.metabolite': 'hqn'}\n",
      "{'metanetx.chemical': 'MNXM1953', 'seed.compound': 'cpd00890', 'bigg.metabolite': 'uama'}\n",
      "{'metanetx.chemical': 'MNXM44', 'seed.compound': 'cpd11611', 'bigg.metabolite': 'acoa'}\n",
      "{'metanetx.chemical': 'MNXM94364', 'seed.compound': 'cpd12300', 'bigg.metabolite': 'adhap_hs'}\n",
      "{'metanetx.chemical': 'MNXM456', 'seed.compound': 'cpd02884', 'bigg.metabolite': 'fprica'}\n",
      "{'metanetx.chemical': 'MNXM275', 'seed.compound': 'cpd00482', 'bigg.metabolite': '2pg'}\n",
      "{'metanetx.chemical': 'MNXM750', 'seed.compound': 'cpd03846', 'bigg.metabolite': 'octa'}\n",
      "{'metanetx.chemical': 'MNXM3146', 'seed.compound': 'cpd02788', 'bigg.metabolite': 'mi12356p'}\n",
      "{'metanetx.chemical': 'MNXM486', 'seed.compound': 'cpd03128', 'bigg.metabolite': 'dccoa'}\n",
      "{'metanetx.chemical': 'MNXM216', 'seed.compound': 'cpd00133', 'bigg.metabolite': 'ncam'}\n",
      "{'metanetx.chemical': 'MNXM274', 'seed.compound': 'cpd00218', 'bigg.metabolite': 'nac'}\n",
      "{'metanetx.chemical': 'MNXM7861', 'seed.compound': 'cpd01482', 'bigg.metabolite': 'ugam'}\n",
      "{'metanetx.chemical': 'MNXM2040', 'seed.compound': 'cpd09255', 'bigg.metabolite': 'hkntd'}\n",
      "{'metanetx.chemical': 'MNXM453', 'seed.compound': 'cpd02678', 'bigg.metabolite': 'fgam'}\n",
      "{'metanetx.chemical': 'MNXM463', 'seed.compound': 'cpd02394', 'bigg.metabolite': 'gar'}\n",
      "{'metanetx.chemical': 'MNXM91374', 'seed.compound': 'cpd02150', 'bigg.metabolite': '23dappa'}\n",
      "{'metanetx.chemical': 'MNXM2063', 'seed.compound': 'cpd02230', 'bigg.metabolite': 'mi4p__D'}\n",
      "{'metanetx.chemical': 'MNXM677', 'seed.compound': 'cpd03119', 'bigg.metabolite': '3odcoa'}\n",
      "{'metanetx.chemical': 'MNXM1231', 'seed.compound': 'cpd00378', 'bigg.metabolite': 'frmd'}\n",
      "{'metanetx.chemical': 'MNXM2036', 'seed.compound': 'cpd03584', 'bigg.metabolite': 'u3hga'}\n",
      "{'metanetx.chemical': 'MNXM947', 'seed.compound': 'cpd02187', 'bigg.metabolite': '2mp2coa'}\n",
      "{'metanetx.chemical': 'MNXM446', 'seed.compound': 'cpd03572', 'bigg.metabolite': '3hbcoa'}\n",
      "{'metanetx.chemical': 'MNXM446', 'seed.compound': 'cpd03572', 'bigg.metabolite': '3hbycoa'}\n",
      "{'metanetx.chemical': 'MNXM446', 'seed.compound': 'cpd03572', 'bigg.metabolite': '3hibutcoa'}\n",
      "{'metanetx.chemical': 'MNXM2512', 'seed.compound': 'cpd03593', 'bigg.metabolite': 'r3mmal'}\n",
      "{'metanetx.chemical': 'MNXM48596', 'seed.compound': 'cpd00251', 'bigg.metabolite': 'adprib'}\n",
      "{'metanetx.chemical': 'MNXM653', 'seed.compound': 'cpd00254', 'bigg.metabolite': 'mg2'}\n",
      "{'metanetx.chemical': 'MNXM653', 'seed.compound': 'cpd00254', 'bigg.metabolite': 'mg2'}\n",
      "{'metanetx.chemical': 'MNXM130', 'seed.compound': 'cpd00776', 'bigg.metabolite': 'Ssq23epx'}\n",
      "{'metanetx.chemical': 'MNXM482', 'seed.compound': 'cpd01188', 'bigg.metabolite': 'lanost'}\n",
      "{'metanetx.chemical': 'MNXM204', 'seed.compound': 'cpd00197', 'bigg.metabolite': '34dhbz'}\n",
      "{'metanetx.chemical': 'MNXM1134', 'seed.compound': 'cpd00856', 'bigg.metabolite': 'CCbuttc'}\n",
      "{'metanetx.chemical': 'MNXM2784', 'seed.compound': 'cpd09844', 'bigg.metabolite': '3hadpcoa'}\n",
      "{'metanetx.chemical': 'MNXM1264', 'seed.compound': 'cpd01507', 'bigg.metabolite': 'oxadpcoa'}\n",
      "{'metanetx.chemical': 'MNXM182', 'seed.compound': 'cpd00138', 'bigg.metabolite': 'man'}\n",
      "{'metanetx.chemical': 'MNXM427', 'seed.compound': 'cpd00235', 'bigg.metabolite': 'man6p'}\n",
      "{'metanetx.chemical': 'MNXM1141', 'seed.compound': 'cpd00800', 'bigg.metabolite': '8aonn'}\n",
      "{'metanetx.chemical': 'MNXM1140', 'seed.compound': 'cpd00764', 'bigg.metabolite': 'dann'}\n",
      "{'metanetx.chemical': 'MNXM3090', 'seed.compound': 'cpd02701', 'bigg.metabolite': 'amob'}\n",
      "{'metanetx.chemical': 'MNXM173', 'seed.compound': 'cpd00266', 'bigg.metabolite': 'crn'}\n",
      "{'metanetx.chemical': 'MNXM1757', 'seed.compound': 'cpd03525', 'bigg.metabolite': 'sucglu'}\n",
      "{'metanetx.chemical': 'MNXM1489', 'seed.compound': 'cpd02642', 'bigg.metabolite': 'pran'}\n",
      "{'metanetx.chemical': 'MNXM1455', 'seed.compound': 'cpd00956', 'bigg.metabolite': '2cpr5p'}\n",
      "{'metanetx.chemical': 'MNXM303', 'seed.compound': 'cpd00363', 'bigg.metabolite': 'etoh'}\n",
      "{'metanetx.chemical': 'MNXM379', 'seed.compound': 'cpd00738', 'bigg.metabolite': 'pser__L'}\n",
      "{'metanetx.chemical': 'MNXM8633', 'seed.compound': 'cpd03646', 'bigg.metabolite': 'HC01700'}\n",
      "{'metanetx.chemical': 'MNXM90960', 'seed.compound': 'cpd00149', 'bigg.metabolite': 'cobalt2'}\n",
      "{'metanetx.chemical': 'MNXM2379', 'seed.compound': 'cpd03247', 'bigg.metabolite': 'gdchola'}\n",
      "{'metanetx.chemical': 'MNXM1514', 'seed.compound': 'cpd03606', 'bigg.metabolite': 'ohpb'}\n",
      "{'metanetx.chemical': 'MNXM32181', 'seed.compound': 'cpd15555', 'bigg.metabolite': 'ps160'}\n",
      "{'metanetx.chemical': 'MNXM32178', 'seed.compound': 'cpd15531', 'bigg.metabolite': 'pe160'}\n",
      "{'metanetx.chemical': 'MNXM11520', 'seed.compound': 'cpd05231', 'bigg.metabolite': 'doco13ac'}\n",
      "{'metanetx.chemical': 'MNXM3509', 'seed.compound': 'cpd01587', 'bigg.metabolite': '5mcsn'}\n",
      "{'metanetx.chemical': 'MNXM24502', 'seed.compound': 'cpd11473', 'bigg.metabolite': 'thex2eACP'}\n",
      "{'metanetx.chemical': 'MNXM90412', 'seed.compound': 'cpd01242', 'bigg.metabolite': 'drib'}\n",
      "{'metanetx.chemical': 'MNXM90412', 'seed.compound': 'cpd01242', 'bigg.metabolite': 'drib'}\n",
      "{'metanetx.chemical': 'MNXM1638', 'seed.compound': 'cpd02569', 'bigg.metabolite': '3hmoa'}\n",
      "{'metanetx.chemical': 'MNXM389', 'seed.compound': 'cpd01966', 'bigg.metabolite': '3mb2coa'}\n",
      "{'metanetx.chemical': 'MNXM975', 'seed.compound': 'cpd00549', 'bigg.metabolite': 'lys__D'}\n",
      "{'metanetx.chemical': 'MNXM597', 'seed.compound': 'cpd00261', 'bigg.metabolite': 'xylu__D'}\n",
      "{'metanetx.chemical': 'MNXM597', 'seed.compound': 'cpd00261', 'bigg.metabolite': 'xylu__L'}\n",
      "{'metanetx.chemical': 'MNXM59594', 'seed.compound': 'cpd03861', 'bigg.metabolite': 'xu1p__D'}\n",
      "{'metanetx.chemical': 'MNXM1532', 'seed.compound': 'cpd00931', 'bigg.metabolite': '5apru'}\n",
      "{'metanetx.chemical': 'MNXM91793', 'seed.compound': 'cpd11478', 'bigg.metabolite': '3hbutACP'}\n",
      "{'metanetx.chemical': 'MNXM179', 'seed.compound': 'cpd00159', 'bigg.metabolite': 'lac__L'}\n",
      "{'metanetx.chemical': 'MNXM311', 'seed.compound': 'cpd00215', 'bigg.metabolite': 'pydx'}\n",
      "{'metanetx.chemical': 'MNXM829', 'seed.compound': 'cpd02255', 'bigg.metabolite': '5odhf2a'}\n",
      "{'metanetx.chemical': 'MNXM766', 'seed.compound': 'cpd03120', 'bigg.metabolite': '3hocoa'}\n",
      "{'metanetx.chemical': 'MNXM429', 'seed.compound': 'cpd00911', 'bigg.metabolite': '6pgl'}\n",
      "{'metanetx.chemical': 'MNXM2157', 'seed.compound': 'cpd02886', 'bigg.metabolite': 'u3aga'}\n",
      "{'metanetx.chemical': 'MNXM2195', 'seed.compound': 'cpd03443', 'bigg.metabolite': '3ophb'}\n",
      "{'metanetx.chemical': 'MNXM12596', 'seed.compound': 'cpd12884', 'bigg.metabolite': 'pencilca'}\n",
      "{'metanetx.chemical': 'MNXM154', 'seed.compound': 'cpd00142', 'bigg.metabolite': 'acac'}\n",
      "{'metanetx.chemical': 'MNXM574', 'seed.compound': 'cpd03221', 'bigg.metabolite': 'zymst'}\n",
      "{'metanetx.chemical': 'MNXM1741', 'seed.compound': 'cpd02755', 'bigg.metabolite': 'fecost'}\n",
      "{'metanetx.chemical': 'MNXM603', 'seed.compound': 'cpd00374', 'bigg.metabolite': 'tym'}\n",
      "{'metanetx.chemical': 'MNXM858', 'seed.compound': 'cpd01733', 'bigg.metabolite': 'conialdh'}\n",
      "{'metanetx.chemical': 'MNXM573', 'seed.compound': 'cpd01059', 'bigg.metabolite': 'fer'}\n",
      "{'metanetx.chemical': 'MNXM961', 'seed.compound': 'cpd04117', 'bigg.metabolite': '4mcat'}\n",
      "{'metanetx.chemical': 'MNXM535', 'seed.compound': 'cpd02546', 'bigg.metabolite': 'ckdo'}\n",
      "{'metanetx.chemical': 'MNXM2179', 'seed.compound': 'cpd00510', 'bigg.metabolite': '2dr5p'}\n",
      "{'metanetx.chemical': 'MNXM1224', 'seed.compound': 'cpd02904', 'bigg.metabolite': '5prdmbz'}\n",
      "{'metanetx.chemical': 'MNXM1539', 'seed.compound': 'cpd03423', 'bigg.metabolite': 'rdmbzi'}\n",
      "{'metanetx.chemical': 'MNXM2158', 'seed.compound': 'cpd02338', 'bigg.metabolite': 'udpgalfur'}\n",
      "{'metanetx.chemical': 'MNXM1238', 'seed.compound': 'cpd02100', 'bigg.metabolite': 'xu5p__L'}\n",
      "{'metanetx.chemical': 'MNXM289', 'seed.compound': 'cpd00540', 'bigg.metabolite': 'glyb'}\n",
      "{'metanetx.chemical': 'MNXM2562', 'seed.compound': 'cpd03397', 'bigg.metabolite': 'selhcys'}\n",
      "{'metanetx.chemical': 'MNXM705', 'seed.compound': 'cpd03117', 'bigg.metabolite': '3oddcoa'}\n",
      "{'metanetx.chemical': 'MNXM1802', 'seed.compound': 'cpd03608', 'bigg.metabolite': '4hthr'}\n",
      "{'metanetx.chemical': 'MNXM1154', 'seed.compound': 'cpd00620', 'bigg.metabolite': 'ptth'}\n",
      "{'metanetx.chemical': 'MNXM1226', 'seed.compound': 'cpd01160', 'bigg.metabolite': 'cysam'}\n",
      "{'metanetx.chemical': 'MNXM949', 'seed.compound': 'cpd03216', 'bigg.metabolite': 'neuspn'}\n",
      "{'metanetx.chemical': 'MNXM36578', 'seed.compound': 'cpd03199', 'bigg.metabolite': 'HC01446'}\n",
      "{'metanetx.chemical': 'MNXM4339', 'seed.compound': 'cpd03193', 'bigg.metabolite': 'HC01440'}\n",
      "{'metanetx.chemical': 'MNXM322', 'seed.compound': 'cpd00305', 'bigg.metabolite': 'thm'}\n",
      "{'metanetx.chemical': 'MNXM962', 'seed.compound': 'cpd02636', 'bigg.metabolite': '4mhetz'}\n",
      "{'metanetx.chemical': 'MNXM384', 'seed.compound': 'cpd00351', 'bigg.metabolite': 'saccrp__L'}\n",
      "{'metanetx.chemical': 'MNXM1488', 'seed.compound': 'cpd02698', 'bigg.metabolite': 'sl26da'}\n",
      "{'metanetx.chemical': 'MNXM1563', 'seed.compound': 'cpd02724', 'bigg.metabolite': 'sl2a6o'}\n",
      "{'metanetx.chemical': 'MNXM3059', 'seed.compound': 'cpd02524', 'bigg.metabolite': 'HC01231'}\n",
      "{'metanetx.chemical': 'MNXM3059', 'seed.compound': 'cpd02524', 'bigg.metabolite': 'ptcys'}\n",
      "{'metanetx.chemical': 'MNXM94', 'seed.compound': 'cpd00065', 'bigg.metabolite': 'trp__L'}\n"
     ]
    },
    {
     "name": "stdout",
     "output_type": "stream",
     "text": [
      "{'metanetx.chemical': 'MNXM39', 'seed.compound': 'cpd00047', 'bigg.metabolite': 'for'}\n",
      "{'metanetx.chemical': 'MNXM434', 'seed.compound': 'cpd00460', 'bigg.metabolite': '2saa'}\n",
      "{'metanetx.chemical': 'MNXM90703', 'seed.compound': 'cpd00166', 'bigg.metabolite': 'adocbl'}\n",
      "{'metanetx.chemical': 'MNXM107505', 'seed.compound': 'cpd15378', 'bigg.metabolite': '4hba'}\n",
      "{'metanetx.chemical': 'MNXM100', 'seed.compound': 'cpd00283', 'bigg.metabolite': 'grdp'}\n",
      "{'metanetx.chemical': 'MNXM91788', 'seed.compound': 'cpd06711', 'bigg.metabolite': 'hmpscoa'}\n",
      "{'metanetx.chemical': 'MNXM32179', 'seed.compound': 'cpd15538', 'bigg.metabolite': 'pg160'}\n",
      "{'metanetx.chemical': 'MNXM58', 'seed.compound': 'cpd00048', 'bigg.metabolite': 'so4'}\n",
      "{'metanetx.chemical': 'MNXM81221', 'seed.compound': 'cpd11830', 'bigg.metabolite': 'alpro'}\n",
      "{'metanetx.chemical': 'MNXM114091', 'seed.compound': 'cpd02625', 'bigg.metabolite': '1p3h5c'}\n",
      "{'metanetx.chemical': 'MNXM157', 'seed.compound': 'cpd00116', 'bigg.metabolite': 'meoh'}\n",
      "{'metanetx.chemical': 'MNXM404', 'seed.compound': 'cpd00200', 'bigg.metabolite': '4mop'}\n",
      "{'metanetx.chemical': 'MNXM90960', 'seed.compound': 'cpd00149', 'bigg.metabolite': 'cobalt2'}\n",
      "{'metanetx.chemical': 'MNXM437', 'seed.compound': 'cpd00811', 'bigg.metabolite': 'tmao'}\n",
      "{'metanetx.chemical': 'MNXM352', 'seed.compound': 'cpd00441', 'bigg.metabolite': 'tma'}\n",
      "{'metanetx.chemical': 'MNXM2178', 'seed.compound': 'cpd15352', 'bigg.metabolite': '2dmmq8'}\n",
      "{'metanetx.chemical': 'MNXM2246', 'seed.compound': 'cpd01914', 'bigg.metabolite': 'metox'}\n",
      "{'metanetx.chemical': 'MNXM2246', 'seed.compound': 'cpd01914', 'bigg.metabolite': 'metsox_R__L'}\n",
      "{'metanetx.chemical': 'MNXM2246', 'seed.compound': 'cpd01914', 'bigg.metabolite': 'metsox_S__L'}\n",
      "{'metanetx.chemical': 'MNXM1875', 'seed.compound': 'cpd11718', 'bigg.metabolite': '3hacoa'}\n",
      "{'metanetx.chemical': 'MNXM1310', 'seed.compound': 'cpd11637', 'bigg.metabolite': '3oacoa'}\n",
      "{'metanetx.chemical': 'MNXM1434', 'seed.compound': 'cpd03198', 'bigg.metabolite': '6dg'}\n",
      "{'metanetx.chemical': 'MNXM1434', 'seed.compound': 'cpd03198', 'bigg.metabolite': 'melib'}\n",
      "{'metanetx.chemical': 'MNXM6123', 'seed.compound': 'cpd16438', 'bigg.metabolite': '5flurimp'}\n",
      "{'metanetx.chemical': 'MNXM2210', 'seed.compound': 'cpd02591', 'bigg.metabolite': 'pendp'}\n",
      "{'metanetx.chemical': 'MNXM621', 'seed.compound': 'cpd00382', 'bigg.metabolite': 'raffin'}\n",
      "{'metanetx.chemical': 'MNXM1176', 'seed.compound': 'cpd02258', 'bigg.metabolite': '4h2opntn'}\n",
      "{'metanetx.chemical': 'MNXM44096', 'seed.compound': 'cpd03661', 'bigg.metabolite': 'gd1b_cho'}\n",
      "{'metanetx.chemical': 'MNXM1029', 'seed.compound': 'cpd02039', 'bigg.metabolite': 'appl'}\n",
      "{'metanetx.chemical': 'MNXM1562', 'seed.compound': 'cpd00531', 'bigg.metabolite': 'hg2'}\n",
      "{'metanetx.chemical': 'MNXM1562', 'seed.compound': 'cpd00531', 'bigg.metabolite': 'hg2'}\n",
      "{'metanetx.chemical': 'MNXM15786', 'seed.compound': 'cpd11583', 'bigg.metabolite': 'CE5866'}\n",
      "{'metanetx.chemical': 'MNXM15786', 'seed.compound': 'cpd11583', 'bigg.metabolite': 'ala_L_leu__L'}\n",
      "{'metanetx.chemical': 'MNXM91047', 'seed.compound': 'cpd15326', 'bigg.metabolite': '1hdec9eg3p'}\n",
      "{'metanetx.chemical': 'MNXM1288', 'seed.compound': 'cpd01749', 'bigg.metabolite': 'Lfmkynr'}\n",
      "{'metanetx.chemical': 'MNXM260', 'seed.compound': 'cpd00275', 'bigg.metabolite': 'Lkynr'}\n",
      "{'metanetx.chemical': 'MNXM5491', 'seed.compound': 'cpd15363', 'bigg.metabolite': '2tdecg3p'}\n",
      "{'metanetx.chemical': 'MNXM419', 'seed.compound': 'cpd00263', 'bigg.metabolite': 'pydxn'}\n",
      "{'metanetx.chemical': 'MNXM44103', 'seed.compound': 'cpd03655', 'bigg.metabolite': 'gd2_cho'}\n",
      "{'metanetx.chemical': 'MNXM61741', 'seed.compound': 'cpd15584', 'bigg.metabolite': 'madg'}\n",
      "{'metanetx.chemical': 'MNXM1333', 'seed.compound': 'cpd00946', 'bigg.metabolite': 'unaga'}\n",
      "{'metanetx.chemical': 'MNXM548', 'seed.compound': 'cpd00419', 'bigg.metabolite': 'pydam'}\n",
      "{'metanetx.chemical': 'MNXM672', 'seed.compound': 'cpd01620', 'bigg.metabolite': 'dscl'}\n",
      "{'metanetx.chemical': 'MNXM672', 'seed.compound': 'cpd01620', 'bigg.metabolite': 'shcl'}\n",
      "{'metanetx.chemical': 'MNXM4419', 'seed.compound': 'cpd02760', 'bigg.metabolite': 'cellb6p'}\n",
      "{'metanetx.chemical': 'MNXM724', 'seed.compound': 'cpd00528', 'bigg.metabolite': 'n2'}\n",
      "{'metanetx.chemical': 'MNXM169', 'seed.compound': 'cpd11620', 'bigg.metabolite': 'fdxrd'}\n",
      "{'metanetx.chemical': 'MNXM178', 'seed.compound': 'cpd11621', 'bigg.metabolite': 'fdxo_2_2'}\n",
      "{'metanetx.chemical': 'MNXM178', 'seed.compound': 'cpd11621', 'bigg.metabolite': 'fdxox'}\n",
      "{'metanetx.chemical': 'MNXM473', 'seed.compound': 'cpd00464', 'bigg.metabolite': 'pacald'}\n",
      "{'metanetx.chemical': 'MNXM1812', 'seed.compound': 'cpd03292', 'bigg.metabolite': 'peng'}\n",
      "{'metanetx.chemical': 'MNXM378', 'seed.compound': 'cpd00599', 'bigg.metabolite': 'salc'}\n",
      "{'metanetx.chemical': 'MNXM1792', 'seed.compound': 'cpd02597', 'bigg.metabolite': '2mcacn'}\n",
      "{'metanetx.chemical': 'MNXM1458', 'seed.compound': 'cpd08210', 'bigg.metabolite': '4adcho'}\n",
      "{'metanetx.chemical': 'MNXM635', 'seed.compound': 'cpd00312', 'bigg.metabolite': 'hista'}\n",
      "{'metanetx.chemical': 'MNXM1870', 'seed.compound': 'cpd03736', 'bigg.metabolite': 'kdo2lipid4L'}\n",
      "{'metanetx.chemical': 'MNXM824', 'seed.compound': 'cpd03586', 'bigg.metabolite': 'kdo2lipid4'}\n",
      "{'metanetx.chemical': 'MNXM341', 'seed.compound': 'cpd00222', 'bigg.metabolite': 'glcn'}\n",
      "{'metanetx.chemical': 'MNXM341', 'seed.compound': 'cpd00222', 'bigg.metabolite': 'glcn__D'}\n",
      "{'metanetx.chemical': 'MNXM582', 'seed.compound': 'cpd00480', 'bigg.metabolite': '2dhglcn'}\n",
      "{'metanetx.chemical': 'MNXM757', 'seed.compound': 'cpd03122', 'bigg.metabolite': '3hhcoa'}\n",
      "{'metanetx.chemical': 'MNXM717', 'seed.compound': 'cpd03123', 'bigg.metabolite': '3ohcoa'}\n",
      "{'metanetx.chemical': 'MNXM218', 'seed.compound': 'cpd00162', 'bigg.metabolite': 'etha'}\n",
      "{'metanetx.chemical': 'MNXM149166', 'seed.compound': 'cpd12043', 'bigg.metabolite': 'pcollglys'}\n",
      "{'metanetx.chemical': 'MNXM1528', 'seed.compound': 'cpd03960', 'bigg.metabolite': 'hatrz'}\n",
      "{'metanetx.chemical': 'MNXM2074', 'seed.compound': 'cpd00727', 'bigg.metabolite': '2pglyc'}\n",
      "{'metanetx.chemical': 'MNXM1680', 'seed.compound': 'cpd01157', 'bigg.metabolite': 'chtbs'}\n",
      "{'metanetx.chemical': 'MNXM951', 'seed.compound': 'cpd00782', 'bigg.metabolite': 'pmcoa'}\n",
      "{'metanetx.chemical': 'MNXM432', 'seed.compound': 'cpd00294', 'bigg.metabolite': 'damp'}\n",
      "{'metanetx.chemical': 'MNXM55269', 'seed.compound': 'cpd11589', 'bigg.metabolite': 'gly_asp__L'}\n",
      "{'metanetx.chemical': 'MNXM41', 'seed.compound': 'cpd00027', 'bigg.metabolite': 'glc__D'}\n",
      "{'metanetx.chemical': 'MNXM41', 'seed.compound': 'cpd00027', 'bigg.metabolite': 'glc__bD'}\n",
      "{'metanetx.chemical': 'MNXM283', 'seed.compound': 'cpd00256', 'bigg.metabolite': 'cdpchol'}\n",
      "{'metanetx.chemical': 'MNXM2598', 'seed.compound': 'cpd01570', 'bigg.metabolite': '23camp'}\n",
      "{'metanetx.chemical': 'MNXM1985', 'seed.compound': 'cpd00988', 'bigg.metabolite': '3amp'}\n",
      "{'metanetx.chemical': 'MNXM35431', 'seed.compound': 'cpd09410', 'bigg.metabolite': 'dmtphllqne'}\n",
      "{'metanetx.chemical': 'MNXM1886', 'seed.compound': 'cpd03444', 'bigg.metabolite': '2oph'}\n",
      "{'metanetx.chemical': 'MNXM399', 'seed.compound': 'cpd02246', 'bigg.metabolite': 'com'}\n",
      "{'metanetx.chemical': 'MNXM1714', 'seed.compound': 'cpd00815', 'bigg.metabolite': '5a2opntn'}\n",
      "{'metanetx.chemical': 'MNXM506', 'seed.compound': 'cpd00337', 'bigg.metabolite': '56dura'}\n",
      "{'metanetx.chemical': 'MNXM802', 'seed.compound': 'cpd01720', 'bigg.metabolite': 'cala'}\n",
      "{'metanetx.chemical': 'MNXM162464', 'seed.compound': 'cpd03654', 'bigg.metabolite': 'gd3_cho'}\n",
      "{'metanetx.chemical': 'MNXM3149', 'seed.compound': 'cpd03702', 'bigg.metabolite': '23cgmp'}\n",
      "{'metanetx.chemical': 'MNXM2183', 'seed.compound': 'cpd03701', 'bigg.metabolite': '3gmp'}\n",
      "{'metanetx.chemical': 'MNXM146388', 'seed.compound': 'cpd03725', 'bigg.metabolite': 'fe3dcit'}\n",
      "{'metanetx.chemical': 'MNXM146388', 'seed.compound': 'cpd03725', 'bigg.metabolite': 'fe3dcit'}\n",
      "{'metanetx.chemical': 'MNXM1119', 'seed.compound': 'cpd02027', 'bigg.metabolite': 'mmet'}\n",
      "{'metanetx.chemical': 'MNXM422', 'seed.compound': 'cpd00434', 'bigg.metabolite': '4abutn'}\n",
      "{'metanetx.chemical': 'MNXM47994', 'seed.compound': 'cpd03699', 'bigg.metabolite': 'cdpg'}\n",
      "{'metanetx.chemical': 'MNXM207', 'seed.compound': 'cpd00209', 'bigg.metabolite': 'no3'}\n",
      "{'metanetx.chemical': 'MNXM753', 'seed.compound': 'cpd03125', 'bigg.metabolite': 'hx2coa'}\n",
      "{'metanetx.chemical': 'MNXM425', 'seed.compound': 'cpd00304', 'bigg.metabolite': 'retinal'}\n",
      "{'metanetx.chemical': 'MNXM205', 'seed.compound': 'cpd02357', 'bigg.metabolite': 'dopa'}\n",
      "{'metanetx.chemical': 'MNXM541', 'seed.compound': 'cpd02069', 'bigg.metabolite': '3php'}\n",
      "{'metanetx.chemical': 'MNXM1799', 'seed.compound': 'cpd09252', 'bigg.metabolite': '3hcinnm'}\n",
      "{'metanetx.chemical': 'MNXM336', 'seed.compound': 'cpd00348', 'bigg.metabolite': 'gal1p'}\n",
      "{'metanetx.chemical': 'MNXM682', 'seed.compound': 'cpd16494', 'bigg.metabolite': 'glyc1p'}\n",
      "{'metanetx.chemical': 'MNXM198', 'seed.compound': 'cpd00794', 'bigg.metabolite': 'tre'}\n",
      "{'metanetx.chemical': 'MNXM651', 'seed.compound': 'cpd00503', 'bigg.metabolite': 'f26bp'}\n"
     ]
    },
    {
     "name": "stdout",
     "output_type": "stream",
     "text": [
      "{'metanetx.chemical': 'MNXM29072', 'seed.compound': 'cpd11477', 'bigg.metabolite': 'tpalm2eACP'}\n",
      "{'metanetx.chemical': 'MNXM242', 'seed.compound': 'cpd00105', 'bigg.metabolite': 'rib__D'}\n",
      "{'metanetx.chemical': 'MNXM3932', 'seed.compound': 'cpd15414', 'bigg.metabolite': 'btnso'}\n",
      "{'metanetx.chemical': 'MNXM213', 'seed.compound': 'cpd00226', 'bigg.metabolite': 'hxan'}\n",
      "{'metanetx.chemical': 'MNXM8670', 'seed.compound': 'cpd11588', 'bigg.metabolite': 'gly_pro__L'}\n",
      "{'metanetx.chemical': 'MNXM593', 'seed.compound': 'cpd00408', 'bigg.metabolite': 'pant__R'}\n",
      "{'metanetx.chemical': 'MNXM959', 'seed.compound': 'cpd00712', 'bigg.metabolite': '2dhp'}\n",
      "{'metanetx.chemical': 'MNXM813', 'seed.compound': 'cpd00331', 'bigg.metabolite': 'acon_C'}\n",
      "{'metanetx.chemical': 'MNXM969', 'seed.compound': 'cpd03671', 'bigg.metabolite': 'gam1p'}\n",
      "{'metanetx.chemical': 'MNXM1531', 'seed.compound': 'cpd01997', 'bigg.metabolite': 'dmbzid'}\n",
      "{'metanetx.chemical': 'MNXM82173', 'seed.compound': 'cpd00557', 'bigg.metabolite': 'sheme'}\n",
      "{'metanetx.chemical': 'MNXM863', 'seed.compound': 'cpd03426', 'bigg.metabolite': 'scl'}\n",
      "{'metanetx.chemical': 'MNXM863', 'seed.compound': 'cpd03426', 'bigg.metabolite': 'srch'}\n",
      "{'metanetx.chemical': 'MNXM114087', 'seed.compound': 'cpd02211', 'bigg.metabolite': '2aobut'}\n",
      "{'metanetx.chemical': 'MNXM1503', 'seed.compound': 'cpd01133', 'bigg.metabolite': 'stchs'}\n",
      "{'metanetx.chemical': 'MNXM1503', 'seed.compound': 'cpd01133', 'bigg.metabolite': 'stys'}\n",
      "{'metanetx.chemical': 'MNXM694', 'seed.compound': 'cpd00550', 'bigg.metabolite': 'ser__D'}\n",
      "{'metanetx.chemical': 'MNXM615', 'seed.compound': 'cpd00314', 'bigg.metabolite': 'mnl'}\n",
      "{'metanetx.chemical': 'MNXM396', 'seed.compound': 'cpd00876', 'bigg.metabolite': '3hmp'}\n",
      "{'metanetx.chemical': 'MNXM3196', 'seed.compound': 'cpd02832', 'bigg.metabolite': '6tins5mp'}\n",
      "{'metanetx.chemical': 'MNXM6955', 'seed.compound': 'cpd16422', 'bigg.metabolite': '6txan5mp'}\n",
      "{'metanetx.chemical': 'MNXM899', 'seed.compound': 'cpd02113', 'bigg.metabolite': 'dtdprmn'}\n",
      "{'metanetx.chemical': 'MNXM1317', 'seed.compound': 'cpd01329', 'bigg.metabolite': 'malthx'}\n",
      "{'metanetx.chemical': 'MNXM114119', 'seed.compound': 'cpd02631', 'bigg.metabolite': 'dkdi'}\n",
      "{'metanetx.chemical': 'MNXM5490', 'seed.compound': 'cpd15362', 'bigg.metabolite': '2tdec7eg3p'}\n",
      "{'metanetx.chemical': 'MNXM1122', 'seed.compound': 'cpd00742', 'bigg.metabolite': 'allphn'}\n",
      "{'metanetx.chemical': 'MNXM163558', 'seed.compound': 'cpd03835', 'bigg.metabolite': 'pre8'}\n",
      "{'metanetx.chemical': 'MNXM1279', 'seed.compound': 'cpd03832', 'bigg.metabolite': 'hgbyr'}\n",
      "{'metanetx.chemical': 'MNXM10816', 'seed.compound': 'cpd15585', 'bigg.metabolite': 'mbdg'}\n",
      "{'metanetx.chemical': 'MNXM126241', 'seed.compound': 'cpd15604', 'bigg.metabolite': 'gly_leu__L'}\n",
      "{'metanetx.chemical': 'MNXM126241', 'seed.compound': 'cpd15604', 'bigg.metabolite': 'glyleu'}\n",
      "{'metanetx.chemical': 'MNXM1191', 'seed.compound': 'cpd01015', 'bigg.metabolite': 'cynt'}\n",
      "{'metanetx.chemical': 'MNXM76', 'seed.compound': 'cpd00069', 'bigg.metabolite': 'tyr__L'}\n",
      "{'metanetx.chemical': 'MNXM281', 'seed.compound': 'cpd00330', 'bigg.metabolite': 'dhf'}\n",
      "{'metanetx.chemical': 'MNXM617', 'seed.compound': 'cpd00393', 'bigg.metabolite': 'fol'}\n",
      "{'metanetx.chemical': 'MNXM928', 'seed.compound': 'cpd00765', 'bigg.metabolite': 'gullac'}\n",
      "{'metanetx.chemical': 'MNXM1927', 'seed.compound': 'cpd00594', 'bigg.metabolite': 'guln__L'}\n",
      "{'metanetx.chemical': 'MNXM2967', 'seed.compound': 'cpd00396', 'bigg.metabolite': 'rmn'}\n",
      "{'metanetx.chemical': 'MNXM8868', 'seed.compound': 'cpd11590', 'bigg.metabolite': 'met_L_ala__L'}\n",
      "{'metanetx.chemical': 'MNXM1635', 'seed.compound': 'cpd03445', 'bigg.metabolite': '2ohph'}\n",
      "{'metanetx.chemical': 'MNXM1993', 'seed.compound': 'cpd04810', 'bigg.metabolite': '5flura'}\n",
      "{'metanetx.chemical': 'MNXM95', 'seed.compound': 'cpd00205', 'bigg.metabolite': 'k'}\n",
      "{'metanetx.chemical': 'MNXM95', 'seed.compound': 'cpd00205', 'bigg.metabolite': 'k'}\n",
      "{'metanetx.chemical': 'MNXM4002', 'seed.compound': 'cpd01391', 'bigg.metabolite': 'glygly'}\n",
      "{'metanetx.chemical': 'MNXM4', 'seed.compound': 'cpd00007', 'bigg.metabolite': 'o2'}\n",
      "{'metanetx.chemical': 'MNXM326', 'seed.compound': 'cpd02229', 'bigg.metabolite': 'dtpcudcpp'}\n",
      "{'metanetx.chemical': 'MNXM1734', 'seed.compound': 'cpd00653', 'bigg.metabolite': 'galctn__D'}\n",
      "{'metanetx.chemical': 'MNXM88508', 'seed.compound': 'cpd03496', 'bigg.metabolite': 'uaagtmda'}\n",
      "{'metanetx.chemical': 'MNXM90', 'seed.compound': 'cpd00098', 'bigg.metabolite': 'chol'}\n",
      "{'metanetx.chemical': 'MNXM1634', 'seed.compound': 'cpd08304', 'bigg.metabolite': '3hpppn'}\n",
      "{'metanetx.chemical': 'MNXM357', 'seed.compound': 'cpd00579', 'bigg.metabolite': 'srtn'}\n",
      "{'metanetx.chemical': 'MNXM5261', 'seed.compound': 'cpd01773', 'bigg.metabolite': 'pphos'}\n",
      "{'metanetx.chemical': 'MNXM4077', 'seed.compound': 'cpd04138', 'bigg.metabolite': '4mbzald'}\n",
      "{'metanetx.chemical': 'MNXM3331', 'seed.compound': 'cpd01033', 'bigg.metabolite': 'p_tol'}\n",
      "{'metanetx.chemical': 'MNXM1954', 'seed.compound': 'cpd02968', 'bigg.metabolite': 'ugmda'}\n",
      "{'metanetx.chemical': 'MNXM90136', 'seed.compound': 'cpd00945', 'bigg.metabolite': '2dh3dgal6p'}\n",
      "{'metanetx.chemical': 'MNXM1212', 'seed.compound': 'cpd01772', 'bigg.metabolite': 'sucbz'}\n",
      "{'metanetx.chemical': 'MNXM8667', 'seed.compound': 'cpd11592', 'bigg.metabolite': 'gly_glu__L'}\n",
      "{'metanetx.chemical': 'MNXM199', 'seed.compound': 'cpd00156', 'bigg.metabolite': 'val__L'}\n",
      "{'metanetx.chemical': 'MNXM363', 'seed.compound': 'cpd01260', 'bigg.metabolite': 'ddcacoa'}\n",
      "{'metanetx.chemical': 'MNXM40495', 'seed.compound': 'cpd11587', 'bigg.metabolite': 'ala_L_gln__L'}\n",
      "{'metanetx.chemical': 'MNXM2174', 'seed.compound': 'cpd00976', 'bigg.metabolite': 'didp'}\n",
      "{'metanetx.chemical': 'MNXM1325', 'seed.compound': 'cpd00977', 'bigg.metabolite': 'ditp'}\n",
      "{'metanetx.chemical': 'MNXM38414', 'seed.compound': 'cpd02918', 'bigg.metabolite': 'C04805'}\n",
      "{'metanetx.chemical': 'MNXM158', 'seed.compound': 'cpd00092', 'bigg.metabolite': 'ura'}\n",
      "{'metanetx.chemical': 'MNXM493', 'seed.compound': 'cpd01504', 'bigg.metabolite': 'aproa'}\n",
      "{'metanetx.chemical': 'MNXM2590', 'seed.compound': 'cpd02184', 'bigg.metabolite': 'retpalm_11_cis'}\n",
      "{'metanetx.chemical': 'MNXM3867', 'seed.compound': 'cpd02135', 'bigg.metabolite': 'HC01104'}\n",
      "{'metanetx.chemical': 'MNXM8868', 'seed.compound': 'cpd11590', 'bigg.metabolite': 'met_L_ala__L'}\n",
      "{'metanetx.chemical': 'MNXM320', 'seed.compound': 'cpd00127', 'bigg.metabolite': 'phenol'}\n",
      "{'metanetx.chemical': 'MNXM2288', 'seed.compound': 'cpd03047', 'bigg.metabolite': 'tchola'}\n",
      "{'metanetx.chemical': 'MNXM8664', 'seed.compound': 'cpd11581', 'bigg.metabolite': 'gly_asn__L'}\n",
      "{'metanetx.chemical': 'MNXM8664', 'seed.compound': 'cpd11581', 'bigg.metabolite': 'gly_asn__L'}\n",
      "{'metanetx.chemical': 'MNXM223', 'seed.compound': 'cpd15499', 'bigg.metabolite': 'mql8'}\n",
      "{'metanetx.chemical': 'MNXM509', 'seed.compound': 'cpd15500', 'bigg.metabolite': 'mqn8'}\n",
      "{'metanetx.chemical': 'MNXM236', 'seed.compound': 'cpd01080', 'bigg.metabolite': 'ocdca'}\n",
      "{'metanetx.chemical': 'MNXM772', 'seed.compound': 'cpd00673', 'bigg.metabolite': '56dthm'}\n",
      "{'metanetx.chemical': 'MNXM1015', 'seed.compound': 'cpd03034', 'bigg.metabolite': '3uib'}\n",
      "{'metanetx.chemical': 'MNXM2931', 'seed.compound': 'cpd03306', 'bigg.metabolite': '34dhoxpeg'}\n",
      "{'metanetx.chemical': 'MNXM1633', 'seed.compound': 'cpd03307', 'bigg.metabolite': '34dhmald'}\n",
      "{'metanetx.chemical': 'MNXM1222', 'seed.compound': 'cpd12072', 'bigg.metabolite': 'protdt'}\n",
      "{'metanetx.chemical': 'MNXM1221', 'seed.compound': 'cpd12139', 'bigg.metabolite': 'protds'}\n",
      "{'metanetx.chemical': 'MNXM721', 'seed.compound': 'cpd00485', 'bigg.metabolite': 'man1p'}\n",
      "{'metanetx.chemical': 'MNXM1243', 'seed.compound': 'cpd00341', 'bigg.metabolite': 'Ncbmpts'}\n",
      "{'metanetx.chemical': 'MNXM1648', 'seed.compound': 'cpd03830', 'bigg.metabolite': 'adphep_DD'}\n",
      "{'metanetx.chemical': 'MNXM241', 'seed.compound': 'cpd00164', 'bigg.metabolite': 'glcur'}\n",
      "{'metanetx.chemical': 'MNXM1660', 'seed.compound': 'cpd00672', 'bigg.metabolite': 'fruur'}\n",
      "{'metanetx.chemical': 'MNXM292', 'seed.compound': 'cpd00559', 'bigg.metabolite': 'sql'}\n",
      "{'metanetx.chemical': 'MNXM3382', 'seed.compound': 'cpd00597', 'bigg.metabolite': 'pta'}\n",
      "{'metanetx.chemical': 'MNXM322', 'seed.compound': 'cpd00305', 'bigg.metabolite': 'thm'}\n",
      "{'metanetx.chemical': 'MNXM1253', 'seed.compound': 'cpd02182', 'bigg.metabolite': 'lgt__S'}\n",
      "{'metanetx.chemical': 'MNXM1178', 'seed.compound': 'cpd02720', 'bigg.metabolite': '5aprbu'}\n",
      "{'metanetx.chemical': 'MNXM3414', 'seed.compound': 'cpd01495', 'bigg.metabolite': '2amac'}\n",
      "{'metanetx.chemical': 'MNXM716', 'seed.compound': 'cpd00630', 'bigg.metabolite': '3oxoadp'}\n",
      "{'metanetx.chemical': 'MNXM127', 'seed.compound': 'cpd00121', 'bigg.metabolite': 'inost'}\n",
      "{'metanetx.chemical': 'MNXM112', 'seed.compound': 'cpd00709', 'bigg.metabolite': 'gal_bD'}\n",
      "{'metanetx.chemical': 'MNXM2563', 'seed.compound': 'cpd06227', 'bigg.metabolite': 'hpglu'}\n",
      "{'metanetx.chemical': 'MNXM61025', 'seed.compound': 'cpd15494', 'bigg.metabolite': 'malthp'}\n",
      "{'metanetx.chemical': 'MNXM13', 'seed.compound': 'cpd00011', 'bigg.metabolite': 'co2'}\n",
      "{'metanetx.chemical': 'MNXM915', 'seed.compound': 'cpd00502', 'bigg.metabolite': '5forthf'}\n",
      "{'metanetx.chemical': 'MNXM559', 'seed.compound': 'cpd01879', 'bigg.metabolite': '3dsphgn'}\n",
      "{'metanetx.chemical': 'MNXM4968', 'seed.compound': 'cpd03561', 'bigg.metabolite': '2hb'}\n",
      "{'metanetx.chemical': 'MNXM4968', 'seed.compound': 'cpd03561', 'bigg.metabolite': '2hbut'}\n",
      "{'metanetx.chemical': 'MNXM61111', 'seed.compound': 'cpd03200', 'bigg.metabolite': 'mnt'}\n",
      "{'metanetx.chemical': 'MNXM2255', 'seed.compound': 'cpd00030', 'bigg.metabolite': 'mn2'}\n",
      "{'metanetx.chemical': 'MNXM47647', 'seed.compound': 'cpd15432', 'bigg.metabolite': 'colipa'}\n",
      "{'metanetx.chemical': 'MNXM128', 'seed.compound': 'cpd00063', 'bigg.metabolite': 'ca2'}\n",
      "{'metanetx.chemical': 'MNXM1206', 'seed.compound': 'cpd03585', 'bigg.metabolite': 'kdolipid4'}\n",
      "{'metanetx.chemical': 'MNXM43', 'seed.compound': 'cpd00099', 'bigg.metabolite': 'cl'}\n",
      "{'metanetx.chemical': 'MNXM669', 'seed.compound': 'cpd00731', 'bigg.metabolite': 'alaala'}\n",
      "{'metanetx.chemical': 'MNXM669', 'seed.compound': 'cpd00731', 'bigg.metabolite': 'diala__L'}\n",
      "{'metanetx.chemical': 'MNXM55194', 'seed.compound': 'cpd15479', 'bigg.metabolite': 'gicolipa'}\n",
      "{'metanetx.chemical': 'MNXM55192', 'seed.compound': 'cpd15475', 'bigg.metabolite': 'ggagicolipa'}\n",
      "{'metanetx.chemical': 'MNXM55193', 'seed.compound': 'cpd15477', 'bigg.metabolite': 'gggagicolipa'}\n",
      "{'metanetx.chemical': 'MNXM17114', 'seed.compound': 'cpd04918', 'bigg.metabolite': 'gmhep7p'}\n"
     ]
    },
    {
     "name": "stdout",
     "output_type": "stream",
     "text": [
      "{'metanetx.chemical': 'MNXM54163', 'seed.compound': 'cpd15469', 'bigg.metabolite': 'gagicolipa'}\n",
      "{'metanetx.chemical': 'MNXM75132', 'seed.compound': 'cpd15549', 'bigg.metabolite': 'phhlipa'}\n",
      "{'metanetx.chemical': 'MNXM56168', 'seed.compound': 'cpd15488', 'bigg.metabolite': 'hphhlipa'}\n",
      "{'metanetx.chemical': 'MNXM75133', 'seed.compound': 'cpd15550', 'bigg.metabolite': 'phphhlipa'}\n",
      "{'metanetx.chemical': 'MNXM128', 'seed.compound': 'cpd00063', 'bigg.metabolite': 'ca2'}\n",
      "{'metanetx.chemical': 'MNXM58984', 'seed.compound': 'cpd15492', 'bigg.metabolite': 'kphphhlipa'}\n",
      "{'metanetx.chemical': 'MNXM2255', 'seed.compound': 'cpd00030', 'bigg.metabolite': 'mn2'}\n"
     ]
    }
   ],
   "source": [
    "for met in model.metabolites:\n",
    "    data=''\n",
    "    if 'metanetx.chemical' in met.annotation:\n",
    "        data=met.annotation['metanetx.chemical'] \n",
    "        \n",
    "        for xref in chem_xref_MNX_bigg_dict2.keys():\n",
    "            if chem_xref_MNX_bigg_dict2[xref]==data:\n",
    "                met.annotation['bigg.metabolite']=xref\n",
    "                print(met.annotation)"
   ]
  },
  {
   "cell_type": "markdown",
   "metadata": {},
   "source": [
    "\n",
    "### Check for multiplicatives among the Bigg IDs"
   ]
  },
  {
   "cell_type": "code",
   "execution_count": 7,
   "metadata": {},
   "outputs": [
    {
     "data": {
      "text/plain": [
       "['MNXM421_c0']"
      ]
     },
     "execution_count": 7,
     "metadata": {},
     "output_type": "execute_result"
    },
    {
     "data": {
      "text/plain": [
       "['MNXM1160_c0']"
      ]
     },
     "execution_count": 7,
     "metadata": {},
     "output_type": "execute_result"
    },
    {
     "data": {
      "text/plain": [
       "['MNXM11_c0']"
      ]
     },
     "execution_count": 7,
     "metadata": {},
     "output_type": "execute_result"
    },
    {
     "data": {
      "text/plain": [
       "['MNXM1_c0']"
      ]
     },
     "execution_count": 7,
     "metadata": {},
     "output_type": "execute_result"
    },
    {
     "data": {
      "text/plain": [
       "['MNXM965_c0']"
      ]
     },
     "execution_count": 7,
     "metadata": {},
     "output_type": "execute_result"
    },
    {
     "data": {
      "text/plain": [
       "['MNXM3_c0']"
      ]
     },
     "execution_count": 7,
     "metadata": {},
     "output_type": "execute_result"
    },
    {
     "data": {
      "text/plain": [
       "['MNXM29_c0']"
      ]
     },
     "execution_count": 7,
     "metadata": {},
     "output_type": "execute_result"
    },
    {
     "data": {
      "text/plain": [
       "['MNXM412_c0']"
      ]
     },
     "execution_count": 7,
     "metadata": {},
     "output_type": "execute_result"
    },
    {
     "data": {
      "text/plain": [
       "['MNXM7_c0']"
      ]
     },
     "execution_count": 7,
     "metadata": {},
     "output_type": "execute_result"
    },
    {
     "data": {
      "text/plain": [
       "['MNXM9_c0']"
      ]
     },
     "execution_count": 7,
     "metadata": {},
     "output_type": "execute_result"
    },
    {
     "data": {
      "text/plain": [
       "['MNXM57_c0']"
      ]
     },
     "execution_count": 7,
     "metadata": {},
     "output_type": "execute_result"
    },
    {
     "data": {
      "text/plain": [
       "['MNXM1024_c0']"
      ]
     },
     "execution_count": 7,
     "metadata": {},
     "output_type": "execute_result"
    },
    {
     "data": {
      "text/plain": [
       "['MNXM6734_c0']"
      ]
     },
     "execution_count": 7,
     "metadata": {},
     "output_type": "execute_result"
    },
    {
     "data": {
      "text/plain": [
       "['MNXM256_c0']"
      ]
     },
     "execution_count": 7,
     "metadata": {},
     "output_type": "execute_result"
    },
    {
     "data": {
      "text/plain": [
       "['MNXM7749_c0']"
      ]
     },
     "execution_count": 7,
     "metadata": {},
     "output_type": "execute_result"
    },
    {
     "data": {
      "text/plain": [
       "['MNXM125_c0']"
      ]
     },
     "execution_count": 7,
     "metadata": {},
     "output_type": "execute_result"
    },
    {
     "data": {
      "text/plain": [
       "['MNXM91_c0']"
      ]
     },
     "execution_count": 7,
     "metadata": {},
     "output_type": "execute_result"
    },
    {
     "data": {
      "text/plain": [
       "['MNXM213_c0']"
      ]
     },
     "execution_count": 7,
     "metadata": {},
     "output_type": "execute_result"
    },
    {
     "data": {
      "text/plain": [
       "['MNXM8_c0']"
      ]
     },
     "execution_count": 7,
     "metadata": {},
     "output_type": "execute_result"
    },
    {
     "data": {
      "text/plain": [
       "['MNXM90191_c0']"
      ]
     },
     "execution_count": 7,
     "metadata": {},
     "output_type": "execute_result"
    },
    {
     "data": {
      "text/plain": [
       "['MNXM10_c0']"
      ]
     },
     "execution_count": 7,
     "metadata": {},
     "output_type": "execute_result"
    },
    {
     "data": {
      "text/plain": [
       "['MNXM909_c0']"
      ]
     },
     "execution_count": 7,
     "metadata": {},
     "output_type": "execute_result"
    },
    {
     "data": {
      "text/plain": [
       "['MNXM2_c0']"
      ]
     },
     "execution_count": 7,
     "metadata": {},
     "output_type": "execute_result"
    },
    {
     "data": {
      "text/plain": [
       "['MNXM42_c0']"
      ]
     },
     "execution_count": 7,
     "metadata": {},
     "output_type": "execute_result"
    },
    {
     "data": {
      "text/plain": [
       "['MNXM16_c0']"
      ]
     },
     "execution_count": 7,
     "metadata": {},
     "output_type": "execute_result"
    },
    {
     "data": {
      "text/plain": [
       "['MNXM162285_c0']"
      ]
     },
     "execution_count": 7,
     "metadata": {},
     "output_type": "execute_result"
    },
    {
     "data": {
      "text/plain": [
       "['MNXM1020_c0']"
      ]
     },
     "execution_count": 7,
     "metadata": {},
     "output_type": "execute_result"
    },
    {
     "data": {
      "text/plain": [
       "['MNXM61_c0']"
      ]
     },
     "execution_count": 7,
     "metadata": {},
     "output_type": "execute_result"
    },
    {
     "data": {
      "text/plain": [
       "['MNXM304_c0']"
      ]
     },
     "execution_count": 7,
     "metadata": {},
     "output_type": "execute_result"
    },
    {
     "data": {
      "text/plain": [
       "['MNXM316_c0']"
      ]
     },
     "execution_count": 7,
     "metadata": {},
     "output_type": "execute_result"
    },
    {
     "data": {
      "text/plain": [
       "['MNXM212_e0']"
      ]
     },
     "execution_count": 7,
     "metadata": {},
     "output_type": "execute_result"
    },
    {
     "data": {
      "text/plain": [
       "['MNXM964_c0']"
      ]
     },
     "execution_count": 7,
     "metadata": {},
     "output_type": "execute_result"
    },
    {
     "data": {
      "text/plain": [
       "['MNXM390_c0']"
      ]
     },
     "execution_count": 7,
     "metadata": {},
     "output_type": "execute_result"
    },
    {
     "data": {
      "text/plain": [
       "['MNXM146539_c0']"
      ]
     },
     "execution_count": 7,
     "metadata": {},
     "output_type": "execute_result"
    },
    {
     "data": {
      "text/plain": [
       "['MNXM21_c0']"
      ]
     },
     "execution_count": 7,
     "metadata": {},
     "output_type": "execute_result"
    },
    {
     "data": {
      "text/plain": [
       "['MNXM53_c0']"
      ]
     },
     "execution_count": 7,
     "metadata": {},
     "output_type": "execute_result"
    },
    {
     "data": {
      "text/plain": [
       "['MNXM12_c0']"
      ]
     },
     "execution_count": 7,
     "metadata": {},
     "output_type": "execute_result"
    },
    {
     "data": {
      "text/plain": [
       "['MNXM418_c0']"
      ]
     },
     "execution_count": 7,
     "metadata": {},
     "output_type": "execute_result"
    },
    {
     "data": {
      "text/plain": [
       "['MNXM31_c0']"
      ]
     },
     "execution_count": 7,
     "metadata": {},
     "output_type": "execute_result"
    },
    {
     "data": {
      "text/plain": [
       "['MNXM220_c0']"
      ]
     },
     "execution_count": 7,
     "metadata": {},
     "output_type": "execute_result"
    },
    {
     "data": {
      "text/plain": [
       "['MNXM93_e0']"
      ]
     },
     "execution_count": 7,
     "metadata": {},
     "output_type": "execute_result"
    },
    {
     "data": {
      "text/plain": [
       "['MNXM47_c0']"
      ]
     },
     "execution_count": 7,
     "metadata": {},
     "output_type": "execute_result"
    },
    {
     "data": {
      "text/plain": [
       "['MNXM2264_c0']"
      ]
     },
     "execution_count": 7,
     "metadata": {},
     "output_type": "execute_result"
    },
    {
     "data": {
      "text/plain": [
       "['MNXM17_c0']"
      ]
     },
     "execution_count": 7,
     "metadata": {},
     "output_type": "execute_result"
    },
    {
     "data": {
      "text/plain": [
       "['MNXM1242_c0']"
      ]
     },
     "execution_count": 7,
     "metadata": {},
     "output_type": "execute_result"
    },
    {
     "data": {
      "text/plain": [
       "['MNXM799_c0']"
      ]
     },
     "execution_count": 7,
     "metadata": {},
     "output_type": "execute_result"
    },
    {
     "data": {
      "text/plain": [
       "['MNXM23_c0']"
      ]
     },
     "execution_count": 7,
     "metadata": {},
     "output_type": "execute_result"
    },
    {
     "data": {
      "text/plain": [
       "['MNXM114261_c0']"
      ]
     },
     "execution_count": 7,
     "metadata": {},
     "output_type": "execute_result"
    },
    {
     "data": {
      "text/plain": [
       "['MNXM14_c0']"
      ]
     },
     "execution_count": 7,
     "metadata": {},
     "output_type": "execute_result"
    },
    {
     "data": {
      "text/plain": [
       "['MNXM89557_c0']"
      ]
     },
     "execution_count": 7,
     "metadata": {},
     "output_type": "execute_result"
    },
    {
     "data": {
      "text/plain": [
       "['MNXM55_c0']"
      ]
     },
     "execution_count": 7,
     "metadata": {},
     "output_type": "execute_result"
    },
    {
     "data": {
      "text/plain": [
       "['MNXM33_c0']"
      ]
     },
     "execution_count": 7,
     "metadata": {},
     "output_type": "execute_result"
    },
    {
     "data": {
      "text/plain": [
       "['MNXM98_c0']"
      ]
     },
     "execution_count": 7,
     "metadata": {},
     "output_type": "execute_result"
    },
    {
     "data": {
      "text/plain": [
       "['MNXM46_c0']"
      ]
     },
     "execution_count": 7,
     "metadata": {},
     "output_type": "execute_result"
    },
    {
     "data": {
      "text/plain": [
       "['MNXM38_c0']"
      ]
     },
     "execution_count": 7,
     "metadata": {},
     "output_type": "execute_result"
    },
    {
     "data": {
      "text/plain": [
       "['MNXM411_c0']"
      ]
     },
     "execution_count": 7,
     "metadata": {},
     "output_type": "execute_result"
    },
    {
     "data": {
      "text/plain": [
       "['MNXM360_c0']"
      ]
     },
     "execution_count": 7,
     "metadata": {},
     "output_type": "execute_result"
    },
    {
     "data": {
      "text/plain": [
       "['MNXM13_c0']"
      ]
     },
     "execution_count": 7,
     "metadata": {},
     "output_type": "execute_result"
    },
    {
     "data": {
      "text/plain": [
       "['MNXM73_c0']"
      ]
     },
     "execution_count": 7,
     "metadata": {},
     "output_type": "execute_result"
    },
    {
     "data": {
      "text/plain": [
       "['MNXM107_e0']"
      ]
     },
     "execution_count": 7,
     "metadata": {},
     "output_type": "execute_result"
    },
    {
     "data": {
      "text/plain": [
       "['MNXM87584_c0']"
      ]
     },
     "execution_count": 7,
     "metadata": {},
     "output_type": "execute_result"
    },
    {
     "data": {
      "text/plain": [
       "['MNXM1705_c0']"
      ]
     },
     "execution_count": 7,
     "metadata": {},
     "output_type": "execute_result"
    },
    {
     "data": {
      "text/plain": [
       "['MNXM4815_c0']"
      ]
     },
     "execution_count": 7,
     "metadata": {},
     "output_type": "execute_result"
    },
    {
     "data": {
      "text/plain": [
       "['MNXM89689_e0']"
      ]
     },
     "execution_count": 7,
     "metadata": {},
     "output_type": "execute_result"
    },
    {
     "data": {
      "text/plain": [
       "['MNXM165_c0']"
      ]
     },
     "execution_count": 7,
     "metadata": {},
     "output_type": "execute_result"
    },
    {
     "data": {
      "text/plain": [
       "['MNXM41_c0']"
      ]
     },
     "execution_count": 7,
     "metadata": {},
     "output_type": "execute_result"
    },
    {
     "data": {
      "text/plain": [
       "['MNXM131_c0']"
      ]
     },
     "execution_count": 7,
     "metadata": {},
     "output_type": "execute_result"
    },
    {
     "data": {
      "text/plain": [
       "['MNXM89661_c0']"
      ]
     },
     "execution_count": 7,
     "metadata": {},
     "output_type": "execute_result"
    },
    {
     "data": {
      "text/plain": [
       "['MNXM762_c0']"
      ]
     },
     "execution_count": 7,
     "metadata": {},
     "output_type": "execute_result"
    },
    {
     "data": {
      "text/plain": [
       "['MNXM15_c0']"
      ]
     },
     "execution_count": 7,
     "metadata": {},
     "output_type": "execute_result"
    },
    {
     "data": {
      "text/plain": [
       "['MNXM451_c0']"
      ]
     },
     "execution_count": 7,
     "metadata": {},
     "output_type": "execute_result"
    },
    {
     "data": {
      "text/plain": [
       "['MNXM2371_c0']"
      ]
     },
     "execution_count": 7,
     "metadata": {},
     "output_type": "execute_result"
    },
    {
     "data": {
      "text/plain": [
       "['MNXM825_c0']"
      ]
     },
     "execution_count": 7,
     "metadata": {},
     "output_type": "execute_result"
    },
    {
     "data": {
      "text/plain": [
       "['MNXM738_c0']"
      ]
     },
     "execution_count": 7,
     "metadata": {},
     "output_type": "execute_result"
    },
    {
     "data": {
      "text/plain": [
       "['MNXM4_c0']"
      ]
     },
     "execution_count": 7,
     "metadata": {},
     "output_type": "execute_result"
    },
    {
     "data": {
      "text/plain": [
       "['MNXM359_c0']"
      ]
     },
     "execution_count": 7,
     "metadata": {},
     "output_type": "execute_result"
    },
    {
     "data": {
      "text/plain": [
       "['MNXM22_c0']"
      ]
     },
     "execution_count": 7,
     "metadata": {},
     "output_type": "execute_result"
    },
    {
     "data": {
      "text/plain": [
       "['MNXM78_c0']"
      ]
     },
     "execution_count": 7,
     "metadata": {},
     "output_type": "execute_result"
    },
    {
     "data": {
      "text/plain": [
       "['MNXM943_c0']"
      ]
     },
     "execution_count": 7,
     "metadata": {},
     "output_type": "execute_result"
    },
    {
     "data": {
      "text/plain": [
       "['MNXM1018_c0']"
      ]
     },
     "execution_count": 7,
     "metadata": {},
     "output_type": "execute_result"
    },
    {
     "data": {
      "text/plain": [
       "['MNXM597_c0']"
      ]
     },
     "execution_count": 7,
     "metadata": {},
     "output_type": "execute_result"
    },
    {
     "data": {
      "text/plain": [
       "['MNXM1191_c0']"
      ]
     },
     "execution_count": 7,
     "metadata": {},
     "output_type": "execute_result"
    },
    {
     "data": {
      "text/plain": [
       "['MNXM742_c0']"
      ]
     },
     "execution_count": 7,
     "metadata": {},
     "output_type": "execute_result"
    },
    {
     "data": {
      "text/plain": [
       "['MNXM224_c0']"
      ]
     },
     "execution_count": 7,
     "metadata": {},
     "output_type": "execute_result"
    },
    {
     "data": {
      "text/plain": [
       "['MNXM925_c0']"
      ]
     },
     "execution_count": 7,
     "metadata": {},
     "output_type": "execute_result"
    },
    {
     "data": {
      "text/plain": [
       "['MNXM195_c0']"
      ]
     },
     "execution_count": 7,
     "metadata": {},
     "output_type": "execute_result"
    },
    {
     "data": {
      "text/plain": [
       "['MNXM232_c0']"
      ]
     },
     "execution_count": 7,
     "metadata": {},
     "output_type": "execute_result"
    },
    {
     "data": {
      "text/plain": [
       "['MNXM191_c0']"
      ]
     },
     "execution_count": 7,
     "metadata": {},
     "output_type": "execute_result"
    },
    {
     "data": {
      "text/plain": [
       "['MNXM184_c0']"
      ]
     },
     "execution_count": 7,
     "metadata": {},
     "output_type": "execute_result"
    },
    {
     "data": {
      "text/plain": [
       "['MNXM811_c0']"
      ]
     },
     "execution_count": 7,
     "metadata": {},
     "output_type": "execute_result"
    },
    {
     "data": {
      "text/plain": [
       "['MNXM83_c0']"
      ]
     },
     "execution_count": 7,
     "metadata": {},
     "output_type": "execute_result"
    },
    {
     "data": {
      "text/plain": [
       "['MNXM1722_c0']"
      ]
     },
     "execution_count": 7,
     "metadata": {},
     "output_type": "execute_result"
    },
    {
     "data": {
      "text/plain": [
       "['MNXM2161_c0']"
      ]
     },
     "execution_count": 7,
     "metadata": {},
     "output_type": "execute_result"
    },
    {
     "data": {
      "text/plain": [
       "['MNXM1130_c0']"
      ]
     },
     "execution_count": 7,
     "metadata": {},
     "output_type": "execute_result"
    },
    {
     "data": {
      "text/plain": [
       "['MNXM1491_c0']"
      ]
     },
     "execution_count": 7,
     "metadata": {},
     "output_type": "execute_result"
    },
    {
     "data": {
      "text/plain": [
       "['MNXM19_c0']"
      ]
     },
     "execution_count": 7,
     "metadata": {},
     "output_type": "execute_result"
    },
    {
     "data": {
      "text/plain": [
       "['MNXM2261_c0']"
      ]
     },
     "execution_count": 7,
     "metadata": {},
     "output_type": "execute_result"
    },
    {
     "data": {
      "text/plain": [
       "['MNXM622_c0']"
      ]
     },
     "execution_count": 7,
     "metadata": {},
     "output_type": "execute_result"
    },
    {
     "data": {
      "text/plain": [
       "['MNXM454_c0']"
      ]
     },
     "execution_count": 7,
     "metadata": {},
     "output_type": "execute_result"
    },
    {
     "data": {
      "text/plain": [
       "['MNXM1289_c0']"
      ]
     },
     "execution_count": 7,
     "metadata": {},
     "output_type": "execute_result"
    },
    {
     "data": {
      "text/plain": [
       "['MNXM20_c0']"
      ]
     },
     "execution_count": 7,
     "metadata": {},
     "output_type": "execute_result"
    },
    {
     "data": {
      "text/plain": [
       "['MNXM334_c0']"
      ]
     },
     "execution_count": 7,
     "metadata": {},
     "output_type": "execute_result"
    },
    {
     "data": {
      "text/plain": [
       "['MNXM295_c0']"
      ]
     },
     "execution_count": 7,
     "metadata": {},
     "output_type": "execute_result"
    },
    {
     "data": {
      "text/plain": [
       "['MNXM1152_c0']"
      ]
     },
     "execution_count": 7,
     "metadata": {},
     "output_type": "execute_result"
    },
    {
     "data": {
      "text/plain": [
       "['MNXM1763_c0']"
      ]
     },
     "execution_count": 7,
     "metadata": {},
     "output_type": "execute_result"
    },
    {
     "data": {
      "text/plain": [
       "['MNXM457_c0']"
      ]
     },
     "execution_count": 7,
     "metadata": {},
     "output_type": "execute_result"
    },
    {
     "data": {
      "text/plain": [
       "['MNXM289_c0']"
      ]
     },
     "execution_count": 7,
     "metadata": {},
     "output_type": "execute_result"
    },
    {
     "data": {
      "text/plain": [
       "['MNXM55269_c0']"
      ]
     },
     "execution_count": 7,
     "metadata": {},
     "output_type": "execute_result"
    },
    {
     "data": {
      "text/plain": [
       "['MNXM51_c0']"
      ]
     },
     "execution_count": 7,
     "metadata": {},
     "output_type": "execute_result"
    },
    {
     "data": {
      "text/plain": [
       "['MNXM58_c0']"
      ]
     },
     "execution_count": 7,
     "metadata": {},
     "output_type": "execute_result"
    },
    {
     "data": {
      "text/plain": [
       "['MNXM30_c0']"
      ]
     },
     "execution_count": 7,
     "metadata": {},
     "output_type": "execute_result"
    },
    {
     "data": {
      "text/plain": [
       "['MNXM287_c0']"
      ]
     },
     "execution_count": 7,
     "metadata": {},
     "output_type": "execute_result"
    },
    {
     "data": {
      "text/plain": [
       "['MNXM266_c0']"
      ]
     },
     "execution_count": 7,
     "metadata": {},
     "output_type": "execute_result"
    },
    {
     "data": {
      "text/plain": [
       "['MNXM1777_c0']"
      ]
     },
     "execution_count": 7,
     "metadata": {},
     "output_type": "execute_result"
    },
    {
     "data": {
      "text/plain": [
       "['MNXM123_c0']"
      ]
     },
     "execution_count": 7,
     "metadata": {},
     "output_type": "execute_result"
    },
    {
     "data": {
      "text/plain": [
       "['MNXM2449_c0']"
      ]
     },
     "execution_count": 7,
     "metadata": {},
     "output_type": "execute_result"
    },
    {
     "data": {
      "text/plain": [
       "['MNXM423_c0']"
      ]
     },
     "execution_count": 7,
     "metadata": {},
     "output_type": "execute_result"
    },
    {
     "data": {
      "text/plain": [
       "['MNXM495_c0']"
      ]
     },
     "execution_count": 7,
     "metadata": {},
     "output_type": "execute_result"
    },
    {
     "data": {
      "text/plain": [
       "['MNXM40_c0']"
      ]
     },
     "execution_count": 7,
     "metadata": {},
     "output_type": "execute_result"
    },
    {
     "data": {
      "text/plain": [
       "['MNXM565_c0']"
      ]
     },
     "execution_count": 7,
     "metadata": {},
     "output_type": "execute_result"
    },
    {
     "data": {
      "text/plain": [
       "['MNXM338_c0']"
      ]
     },
     "execution_count": 7,
     "metadata": {},
     "output_type": "execute_result"
    },
    {
     "data": {
      "text/plain": [
       "['MNXM63_c0']"
      ]
     },
     "execution_count": 7,
     "metadata": {},
     "output_type": "execute_result"
    },
    {
     "data": {
      "text/plain": [
       "['MNXM415_c0']"
      ]
     },
     "execution_count": 7,
     "metadata": {},
     "output_type": "execute_result"
    },
    {
     "data": {
      "text/plain": [
       "['MNXM483_c0']"
      ]
     },
     "execution_count": 7,
     "metadata": {},
     "output_type": "execute_result"
    },
    {
     "data": {
      "text/plain": [
       "['MNXM52_c0']"
      ]
     },
     "execution_count": 7,
     "metadata": {},
     "output_type": "execute_result"
    },
    {
     "data": {
      "text/plain": [
       "['MNXM87_c0']"
      ]
     },
     "execution_count": 7,
     "metadata": {},
     "output_type": "execute_result"
    },
    {
     "data": {
      "text/plain": [
       "['MNXM1280_c0']"
      ]
     },
     "execution_count": 7,
     "metadata": {},
     "output_type": "execute_result"
    },
    {
     "data": {
      "text/plain": [
       "['MNXM237_c0']"
      ]
     },
     "execution_count": 7,
     "metadata": {},
     "output_type": "execute_result"
    },
    {
     "data": {
      "text/plain": [
       "['MNXM188_c0']"
      ]
     },
     "execution_count": 7,
     "metadata": {},
     "output_type": "execute_result"
    },
    {
     "data": {
      "text/plain": [
       "['MNXM730_c0']"
      ]
     },
     "execution_count": 7,
     "metadata": {},
     "output_type": "execute_result"
    },
    {
     "data": {
      "text/plain": [
       "['MNXM704_c0']"
      ]
     },
     "execution_count": 7,
     "metadata": {},
     "output_type": "execute_result"
    },
    {
     "data": {
      "text/plain": [
       "['MNXM3508_c0']"
      ]
     },
     "execution_count": 7,
     "metadata": {},
     "output_type": "execute_result"
    },
    {
     "data": {
      "text/plain": [
       "['MNXM1132_c0']"
      ]
     },
     "execution_count": 7,
     "metadata": {},
     "output_type": "execute_result"
    },
    {
     "data": {
      "text/plain": [
       "['MNXM552_c0']"
      ]
     },
     "execution_count": 7,
     "metadata": {},
     "output_type": "execute_result"
    },
    {
     "data": {
      "text/plain": [
       "['MNXM25_e0']"
      ]
     },
     "execution_count": 7,
     "metadata": {},
     "output_type": "execute_result"
    },
    {
     "data": {
      "text/plain": [
       "['MNXM186_c0']"
      ]
     },
     "execution_count": 7,
     "metadata": {},
     "output_type": "execute_result"
    },
    {
     "data": {
      "text/plain": [
       "['MNXM417_c0']"
      ]
     },
     "execution_count": 7,
     "metadata": {},
     "output_type": "execute_result"
    },
    {
     "data": {
      "text/plain": [
       "['MNXM881_c0']"
      ]
     },
     "execution_count": 7,
     "metadata": {},
     "output_type": "execute_result"
    },
    {
     "data": {
      "text/plain": [
       "['MNXM1748_c0']"
      ]
     },
     "execution_count": 7,
     "metadata": {},
     "output_type": "execute_result"
    },
    {
     "data": {
      "text/plain": [
       "['MNXM1749_c0']"
      ]
     },
     "execution_count": 7,
     "metadata": {},
     "output_type": "execute_result"
    },
    {
     "data": {
      "text/plain": [
       "['MNXM368_c0']"
      ]
     },
     "execution_count": 7,
     "metadata": {},
     "output_type": "execute_result"
    },
    {
     "data": {
      "text/plain": [
       "['MNXM8825_e0']"
      ]
     },
     "execution_count": 7,
     "metadata": {},
     "output_type": "execute_result"
    },
    {
     "data": {
      "text/plain": [
       "['MNXM244_c0']"
      ]
     },
     "execution_count": 7,
     "metadata": {},
     "output_type": "execute_result"
    },
    {
     "data": {
      "text/plain": [
       "['MNXM401_c0']"
      ]
     },
     "execution_count": 7,
     "metadata": {},
     "output_type": "execute_result"
    },
    {
     "data": {
      "text/plain": [
       "['MNXM687_c0']"
      ]
     },
     "execution_count": 7,
     "metadata": {},
     "output_type": "execute_result"
    },
    {
     "data": {
      "text/plain": [
       "['MNXM75102_c0']"
      ]
     },
     "execution_count": 7,
     "metadata": {},
     "output_type": "execute_result"
    },
    {
     "data": {
      "text/plain": [
       "['MNXM89612_c0']"
      ]
     },
     "execution_count": 7,
     "metadata": {},
     "output_type": "execute_result"
    },
    {
     "data": {
      "text/plain": [
       "['MNXM1482_c0']"
      ]
     },
     "execution_count": 7,
     "metadata": {},
     "output_type": "execute_result"
    },
    {
     "data": {
      "text/plain": [
       "['MNXM1456_c0']"
      ]
     },
     "execution_count": 7,
     "metadata": {},
     "output_type": "execute_result"
    },
    {
     "data": {
      "text/plain": [
       "['MNXM1123_c0']"
      ]
     },
     "execution_count": 7,
     "metadata": {},
     "output_type": "execute_result"
    },
    {
     "data": {
      "text/plain": [
       "['MNXM1322_c0']"
      ]
     },
     "execution_count": 7,
     "metadata": {},
     "output_type": "execute_result"
    },
    {
     "data": {
      "text/plain": [
       "['MNXM118_c0']"
      ]
     },
     "execution_count": 7,
     "metadata": {},
     "output_type": "execute_result"
    },
    {
     "data": {
      "text/plain": [
       "['MNXM124_c0']"
      ]
     },
     "execution_count": 7,
     "metadata": {},
     "output_type": "execute_result"
    },
    {
     "data": {
      "text/plain": [
       "['MNXM1778_c0']"
      ]
     },
     "execution_count": 7,
     "metadata": {},
     "output_type": "execute_result"
    },
    {
     "data": {
      "text/plain": [
       "['MNXM993_c0']"
      ]
     },
     "execution_count": 7,
     "metadata": {},
     "output_type": "execute_result"
    },
    {
     "data": {
      "text/plain": [
       "['MNXM349_c0']"
      ]
     },
     "execution_count": 7,
     "metadata": {},
     "output_type": "execute_result"
    },
    {
     "data": {
      "text/plain": [
       "['MNXM937_c0']"
      ]
     },
     "execution_count": 7,
     "metadata": {},
     "output_type": "execute_result"
    },
    {
     "data": {
      "text/plain": [
       "['MNXM901_c0']"
      ]
     },
     "execution_count": 7,
     "metadata": {},
     "output_type": "execute_result"
    },
    {
     "data": {
      "text/plain": [
       "['MNXM5_c0']"
      ]
     },
     "execution_count": 7,
     "metadata": {},
     "output_type": "execute_result"
    },
    {
     "data": {
      "text/plain": [
       "['MNXM132_c0']"
      ]
     },
     "execution_count": 7,
     "metadata": {},
     "output_type": "execute_result"
    },
    {
     "data": {
      "text/plain": [
       "['MNXM6_c0']"
      ]
     },
     "execution_count": 7,
     "metadata": {},
     "output_type": "execute_result"
    },
    {
     "data": {
      "text/plain": [
       "['MNXM606_c0']"
      ]
     },
     "execution_count": 7,
     "metadata": {},
     "output_type": "execute_result"
    },
    {
     "data": {
      "text/plain": [
       "['MNXM1779_c0']"
      ]
     },
     "execution_count": 7,
     "metadata": {},
     "output_type": "execute_result"
    },
    {
     "data": {
      "text/plain": [
       "['MNXM282_c0']"
      ]
     },
     "execution_count": 7,
     "metadata": {},
     "output_type": "execute_result"
    },
    {
     "data": {
      "text/plain": [
       "['MNXM1183_c0']"
      ]
     },
     "execution_count": 7,
     "metadata": {},
     "output_type": "execute_result"
    },
    {
     "data": {
      "text/plain": [
       "['MNXM66_c0']"
      ]
     },
     "execution_count": 7,
     "metadata": {},
     "output_type": "execute_result"
    },
    {
     "data": {
      "text/plain": [
       "['MNXM3426_c0']"
      ]
     },
     "execution_count": 7,
     "metadata": {},
     "output_type": "execute_result"
    },
    {
     "data": {
      "text/plain": [
       "['MNXM51017_c0']"
      ]
     },
     "execution_count": 7,
     "metadata": {},
     "output_type": "execute_result"
    },
    {
     "data": {
      "text/plain": [
       "['MNXM141_c0']"
      ]
     },
     "execution_count": 7,
     "metadata": {},
     "output_type": "execute_result"
    },
    {
     "data": {
      "text/plain": [
       "['MNXM5618_c0']"
      ]
     },
     "execution_count": 7,
     "metadata": {},
     "output_type": "execute_result"
    },
    {
     "data": {
      "text/plain": [
       "['MNXM34_c0']"
      ]
     },
     "execution_count": 7,
     "metadata": {},
     "output_type": "execute_result"
    },
    {
     "data": {
      "text/plain": [
       "['MNXM139_c0']"
      ]
     },
     "execution_count": 7,
     "metadata": {},
     "output_type": "execute_result"
    },
    {
     "data": {
      "text/plain": [
       "['MNXM238_c0']"
      ]
     },
     "execution_count": 7,
     "metadata": {},
     "output_type": "execute_result"
    },
    {
     "data": {
      "text/plain": [
       "['MNXM10019_c0']"
      ]
     },
     "execution_count": 7,
     "metadata": {},
     "output_type": "execute_result"
    },
    {
     "data": {
      "text/plain": [
       "['MNXM23766_c0']"
      ]
     },
     "execution_count": 7,
     "metadata": {},
     "output_type": "execute_result"
    },
    {
     "data": {
      "text/plain": [
       "['MNXM145_c0']"
      ]
     },
     "execution_count": 7,
     "metadata": {},
     "output_type": "execute_result"
    },
    {
     "data": {
      "text/plain": [
       "['MNXM39_c0']"
      ]
     },
     "execution_count": 7,
     "metadata": {},
     "output_type": "execute_result"
    },
    {
     "data": {
      "text/plain": [
       "['MNXM2323_c0']"
      ]
     },
     "execution_count": 7,
     "metadata": {},
     "output_type": "execute_result"
    },
    {
     "data": {
      "text/plain": [
       "['MNXM817_c0']"
      ]
     },
     "execution_count": 7,
     "metadata": {},
     "output_type": "execute_result"
    },
    {
     "data": {
      "text/plain": [
       "['MNXM96993_c0']"
      ]
     },
     "execution_count": 7,
     "metadata": {},
     "output_type": "execute_result"
    },
    {
     "data": {
      "text/plain": [
       "['MNXM148_c0']"
      ]
     },
     "execution_count": 7,
     "metadata": {},
     "output_type": "execute_result"
    },
    {
     "data": {
      "text/plain": [
       "['MNXM1470_c0']"
      ]
     },
     "execution_count": 7,
     "metadata": {},
     "output_type": "execute_result"
    },
    {
     "data": {
      "text/plain": [
       "['MNXM77_c0']"
      ]
     },
     "execution_count": 7,
     "metadata": {},
     "output_type": "execute_result"
    },
    {
     "data": {
      "text/plain": [
       "['MNXM362_c0']"
      ]
     },
     "execution_count": 7,
     "metadata": {},
     "output_type": "execute_result"
    },
    {
     "data": {
      "text/plain": [
       "['MNXM45895_c0']"
      ]
     },
     "execution_count": 7,
     "metadata": {},
     "output_type": "execute_result"
    },
    {
     "data": {
      "text/plain": [
       "['MNXM1370_c0']"
      ]
     },
     "execution_count": 7,
     "metadata": {},
     "output_type": "execute_result"
    },
    {
     "data": {
      "text/plain": [
       "['MNXM555_c0']"
      ]
     },
     "execution_count": 7,
     "metadata": {},
     "output_type": "execute_result"
    },
    {
     "data": {
      "text/plain": [
       "['MNXM599_c0']"
      ]
     },
     "execution_count": 7,
     "metadata": {},
     "output_type": "execute_result"
    },
    {
     "data": {
      "text/plain": [
       "['MNXM1051_c0']"
      ]
     },
     "execution_count": 7,
     "metadata": {},
     "output_type": "execute_result"
    },
    {
     "data": {
      "text/plain": [
       "['MNXM952_c0']"
      ]
     },
     "execution_count": 7,
     "metadata": {},
     "output_type": "execute_result"
    },
    {
     "data": {
      "text/plain": [
       "['MNXM150_c0']"
      ]
     },
     "execution_count": 7,
     "metadata": {},
     "output_type": "execute_result"
    },
    {
     "data": {
      "text/plain": [
       "['MNXM168_c0']"
      ]
     },
     "execution_count": 7,
     "metadata": {},
     "output_type": "execute_result"
    },
    {
     "data": {
      "text/plain": [
       "['MNXM1592_c0']"
      ]
     },
     "execution_count": 7,
     "metadata": {},
     "output_type": "execute_result"
    },
    {
     "data": {
      "text/plain": [
       "['MNXM1184_c0']"
      ]
     },
     "execution_count": 7,
     "metadata": {},
     "output_type": "execute_result"
    },
    {
     "data": {
      "text/plain": [
       "['MNXM15783_e0']"
      ]
     },
     "execution_count": 7,
     "metadata": {},
     "output_type": "execute_result"
    },
    {
     "data": {
      "text/plain": [
       "['MNXM218_c0']"
      ]
     },
     "execution_count": 7,
     "metadata": {},
     "output_type": "execute_result"
    },
    {
     "data": {
      "text/plain": [
       "['MNXM75_c0']"
      ]
     },
     "execution_count": 7,
     "metadata": {},
     "output_type": "execute_result"
    },
    {
     "data": {
      "text/plain": [
       "['MNXM143_c0']"
      ]
     },
     "execution_count": 7,
     "metadata": {},
     "output_type": "execute_result"
    },
    {
     "data": {
      "text/plain": [
       "['MNXM91871_c0']"
      ]
     },
     "execution_count": 7,
     "metadata": {},
     "output_type": "execute_result"
    },
    {
     "data": {
      "text/plain": [
       "['MNXM89955_c0']"
      ]
     },
     "execution_count": 7,
     "metadata": {},
     "output_type": "execute_result"
    },
    {
     "data": {
      "text/plain": [
       "['MNXM86_c0']"
      ]
     },
     "execution_count": 7,
     "metadata": {},
     "output_type": "execute_result"
    },
    {
     "data": {
      "text/plain": [
       "['MNXM492_e0']"
      ]
     },
     "execution_count": 7,
     "metadata": {},
     "output_type": "execute_result"
    },
    {
     "data": {
      "text/plain": [
       "['MNXM258_c0']"
      ]
     },
     "execution_count": 7,
     "metadata": {},
     "output_type": "execute_result"
    },
    {
     "data": {
      "text/plain": [
       "['MNXM1407_c0']"
      ]
     },
     "execution_count": 7,
     "metadata": {},
     "output_type": "execute_result"
    },
    {
     "data": {
      "text/plain": [
       "['MNXM8264_e0']"
      ]
     },
     "execution_count": 7,
     "metadata": {},
     "output_type": "execute_result"
    },
    {
     "data": {
      "text/plain": [
       "['MNXM577_c0']"
      ]
     },
     "execution_count": 7,
     "metadata": {},
     "output_type": "execute_result"
    },
    {
     "data": {
      "text/plain": [
       "['MNXM164_c0']"
      ]
     },
     "execution_count": 7,
     "metadata": {},
     "output_type": "execute_result"
    },
    {
     "data": {
      "text/plain": [
       "['MNXM305_c0']"
      ]
     },
     "execution_count": 7,
     "metadata": {},
     "output_type": "execute_result"
    },
    {
     "data": {
      "text/plain": [
       "['MNXM519_c0']"
      ]
     },
     "execution_count": 7,
     "metadata": {},
     "output_type": "execute_result"
    },
    {
     "data": {
      "text/plain": [
       "['MNXM80_c0']"
      ]
     },
     "execution_count": 7,
     "metadata": {},
     "output_type": "execute_result"
    },
    {
     "data": {
      "text/plain": [
       "['MNXM41271_c0']"
      ]
     },
     "execution_count": 7,
     "metadata": {},
     "output_type": "execute_result"
    },
    {
     "data": {
      "text/plain": [
       "['MNXM960_c0']"
      ]
     },
     "execution_count": 7,
     "metadata": {},
     "output_type": "execute_result"
    },
    {
     "data": {
      "text/plain": [
       "['MNXM1135_c0']"
      ]
     },
     "execution_count": 7,
     "metadata": {},
     "output_type": "execute_result"
    },
    {
     "data": {
      "text/plain": [
       "['MNXM662_c0']"
      ]
     },
     "execution_count": 7,
     "metadata": {},
     "output_type": "execute_result"
    },
    {
     "data": {
      "text/plain": [
       "['MNXM5461_c0']"
      ]
     },
     "execution_count": 7,
     "metadata": {},
     "output_type": "execute_result"
    },
    {
     "data": {
      "text/plain": [
       "['MNXM318_c0']"
      ]
     },
     "execution_count": 7,
     "metadata": {},
     "output_type": "execute_result"
    },
    {
     "data": {
      "text/plain": [
       "['MNXM183_c0']"
      ]
     },
     "execution_count": 7,
     "metadata": {},
     "output_type": "execute_result"
    },
    {
     "data": {
      "text/plain": [
       "['MNXM2623_c0']"
      ]
     },
     "execution_count": 7,
     "metadata": {},
     "output_type": "execute_result"
    },
    {
     "data": {
      "text/plain": [
       "['MNXM2563_c0']"
      ]
     },
     "execution_count": 7,
     "metadata": {},
     "output_type": "execute_result"
    },
    {
     "data": {
      "text/plain": [
       "['MNXM286_c0']"
      ]
     },
     "execution_count": 7,
     "metadata": {},
     "output_type": "execute_result"
    },
    {
     "data": {
      "text/plain": [
       "['MNXM288_c0']"
      ]
     },
     "execution_count": 7,
     "metadata": {},
     "output_type": "execute_result"
    },
    {
     "data": {
      "text/plain": [
       "['MNXM374_c0']"
      ]
     },
     "execution_count": 7,
     "metadata": {},
     "output_type": "execute_result"
    },
    {
     "data": {
      "text/plain": [
       "['MNXM90512_c0']"
      ]
     },
     "execution_count": 7,
     "metadata": {},
     "output_type": "execute_result"
    },
    {
     "data": {
      "text/plain": [
       "['MNXM8263_e0']"
      ]
     },
     "execution_count": 7,
     "metadata": {},
     "output_type": "execute_result"
    },
    {
     "data": {
      "text/plain": [
       "['MNXM761_c0']"
      ]
     },
     "execution_count": 7,
     "metadata": {},
     "output_type": "execute_result"
    },
    {
     "data": {
      "text/plain": [
       "['MNXM158_c0']"
      ]
     },
     "execution_count": 7,
     "metadata": {},
     "output_type": "execute_result"
    },
    {
     "data": {
      "text/plain": [
       "['MNXM946_c0']"
      ]
     },
     "execution_count": 7,
     "metadata": {},
     "output_type": "execute_result"
    },
    {
     "data": {
      "text/plain": [
       "['MNXM857_c0']"
      ]
     },
     "execution_count": 7,
     "metadata": {},
     "output_type": "execute_result"
    },
    {
     "data": {
      "text/plain": [
       "['MNXM2680_c0']"
      ]
     },
     "execution_count": 7,
     "metadata": {},
     "output_type": "execute_result"
    },
    {
     "data": {
      "text/plain": [
       "['MNXM2561_e0']"
      ]
     },
     "execution_count": 7,
     "metadata": {},
     "output_type": "execute_result"
    },
    {
     "data": {
      "text/plain": [
       "['MNXM3356_c0']"
      ]
     },
     "execution_count": 7,
     "metadata": {},
     "output_type": "execute_result"
    },
    {
     "data": {
      "text/plain": [
       "['MNXM174_c0']"
      ]
     },
     "execution_count": 7,
     "metadata": {},
     "output_type": "execute_result"
    },
    {
     "data": {
      "text/plain": [
       "['MNXM272_c0']"
      ]
     },
     "execution_count": 7,
     "metadata": {},
     "output_type": "execute_result"
    },
    {
     "data": {
      "text/plain": [
       "['MNXM866_c0']"
      ]
     },
     "execution_count": 7,
     "metadata": {},
     "output_type": "execute_result"
    },
    {
     "data": {
      "text/plain": [
       "['MNXM74_c0']"
      ]
     },
     "execution_count": 7,
     "metadata": {},
     "output_type": "execute_result"
    },
    {
     "data": {
      "text/plain": [
       "['MNXM377_c0']"
      ]
     },
     "execution_count": 7,
     "metadata": {},
     "output_type": "execute_result"
    },
    {
     "data": {
      "text/plain": [
       "['MNXM4232_c0']"
      ]
     },
     "execution_count": 7,
     "metadata": {},
     "output_type": "execute_result"
    },
    {
     "data": {
      "text/plain": [
       "['MNXM1569_c0']"
      ]
     },
     "execution_count": 7,
     "metadata": {},
     "output_type": "execute_result"
    },
    {
     "data": {
      "text/plain": [
       "['MNXM1754_c0']"
      ]
     },
     "execution_count": 7,
     "metadata": {},
     "output_type": "execute_result"
    },
    {
     "data": {
      "text/plain": [
       "['MNXM56_c0']"
      ]
     },
     "execution_count": 7,
     "metadata": {},
     "output_type": "execute_result"
    },
    {
     "data": {
      "text/plain": [
       "['MNXM460_c0']"
      ]
     },
     "execution_count": 7,
     "metadata": {},
     "output_type": "execute_result"
    },
    {
     "data": {
      "text/plain": [
       "['MNXM146080_c0']"
      ]
     },
     "execution_count": 7,
     "metadata": {},
     "output_type": "execute_result"
    },
    {
     "data": {
      "text/plain": [
       "['MNXM1663_c0']"
      ]
     },
     "execution_count": 7,
     "metadata": {},
     "output_type": "execute_result"
    },
    {
     "data": {
      "text/plain": [
       "['MNXM998_c0']"
      ]
     },
     "execution_count": 7,
     "metadata": {},
     "output_type": "execute_result"
    },
    {
     "data": {
      "text/plain": [
       "['MNXM8669_c0']"
      ]
     },
     "execution_count": 7,
     "metadata": {},
     "output_type": "execute_result"
    },
    {
     "data": {
      "text/plain": [
       "['MNXM97_c0']"
      ]
     },
     "execution_count": 7,
     "metadata": {},
     "output_type": "execute_result"
    },
    {
     "data": {
      "text/plain": [
       "['MNXM1177_c0']"
      ]
     },
     "execution_count": 7,
     "metadata": {},
     "output_type": "execute_result"
    },
    {
     "data": {
      "text/plain": [
       "['MNXM713_c0']"
      ]
     },
     "execution_count": 7,
     "metadata": {},
     "output_type": "execute_result"
    },
    {
     "data": {
      "text/plain": [
       "['MNXM114_e0']"
      ]
     },
     "execution_count": 7,
     "metadata": {},
     "output_type": "execute_result"
    },
    {
     "data": {
      "text/plain": [
       "['MNXM27_e0']"
      ]
     },
     "execution_count": 7,
     "metadata": {},
     "output_type": "execute_result"
    },
    {
     "data": {
      "text/plain": [
       "['MNXM4511_c0']"
      ]
     },
     "execution_count": 7,
     "metadata": {},
     "output_type": "execute_result"
    },
    {
     "data": {
      "text/plain": [
       "['MNXM366_c0']"
      ]
     },
     "execution_count": 7,
     "metadata": {},
     "output_type": "execute_result"
    },
    {
     "data": {
      "text/plain": [
       "['MNXM161_c0']"
      ]
     },
     "execution_count": 7,
     "metadata": {},
     "output_type": "execute_result"
    },
    {
     "data": {
      "text/plain": [
       "['MNXM2531_c0']"
      ]
     },
     "execution_count": 7,
     "metadata": {},
     "output_type": "execute_result"
    },
    {
     "data": {
      "text/plain": [
       "['MNXM5480_c0']"
      ]
     },
     "execution_count": 7,
     "metadata": {},
     "output_type": "execute_result"
    },
    {
     "data": {
      "text/plain": [
       "['MNXM1919_c0']"
      ]
     },
     "execution_count": 7,
     "metadata": {},
     "output_type": "execute_result"
    },
    {
     "data": {
      "text/plain": [
       "['MNXM4545_c0']"
      ]
     },
     "execution_count": 7,
     "metadata": {},
     "output_type": "execute_result"
    },
    {
     "data": {
      "text/plain": [
       "['MNXM243_c0']"
      ]
     },
     "execution_count": 7,
     "metadata": {},
     "output_type": "execute_result"
    },
    {
     "data": {
      "text/plain": [
       "['MNXM25602_c0']"
      ]
     },
     "execution_count": 7,
     "metadata": {},
     "output_type": "execute_result"
    },
    {
     "data": {
      "text/plain": [
       "['MNXM134_c0']"
      ]
     },
     "execution_count": 7,
     "metadata": {},
     "output_type": "execute_result"
    },
    {
     "data": {
      "text/plain": [
       "['MNXM700_c0']"
      ]
     },
     "execution_count": 7,
     "metadata": {},
     "output_type": "execute_result"
    },
    {
     "data": {
      "text/plain": [
       "['MNXM441_c0']"
      ]
     },
     "execution_count": 7,
     "metadata": {},
     "output_type": "execute_result"
    },
    {
     "data": {
      "text/plain": [
       "['MNXM1137_c0']"
      ]
     },
     "execution_count": 7,
     "metadata": {},
     "output_type": "execute_result"
    },
    {
     "data": {
      "text/plain": [
       "['MNXM706_c0']"
      ]
     },
     "execution_count": 7,
     "metadata": {},
     "output_type": "execute_result"
    },
    {
     "data": {
      "text/plain": [
       "['MNXM5663_c0']"
      ]
     },
     "execution_count": 7,
     "metadata": {},
     "output_type": "execute_result"
    },
    {
     "data": {
      "text/plain": [
       "['MNXM1538_c0']"
      ]
     },
     "execution_count": 7,
     "metadata": {},
     "output_type": "execute_result"
    },
    {
     "data": {
      "text/plain": [
       "['MNXM323_c0']"
      ]
     },
     "execution_count": 7,
     "metadata": {},
     "output_type": "execute_result"
    },
    {
     "data": {
      "text/plain": [
       "['MNXM26_c0']"
      ]
     },
     "execution_count": 7,
     "metadata": {},
     "output_type": "execute_result"
    },
    {
     "data": {
      "text/plain": [
       "['MNXM105630_c0']"
      ]
     },
     "execution_count": 7,
     "metadata": {},
     "output_type": "execute_result"
    },
    {
     "data": {
      "text/plain": [
       "['MNXM37_c0']"
      ]
     },
     "execution_count": 7,
     "metadata": {},
     "output_type": "execute_result"
    },
    {
     "data": {
      "text/plain": [
       "['MNXM147_c0']"
      ]
     },
     "execution_count": 7,
     "metadata": {},
     "output_type": "execute_result"
    },
    {
     "data": {
      "text/plain": [
       "['MNXM569_c0']"
      ]
     },
     "execution_count": 7,
     "metadata": {},
     "output_type": "execute_result"
    },
    {
     "data": {
      "text/plain": [
       "['MNXM609_c0']"
      ]
     },
     "execution_count": 7,
     "metadata": {},
     "output_type": "execute_result"
    },
    {
     "data": {
      "text/plain": [
       "['MNXM4512_c0']"
      ]
     },
     "execution_count": 7,
     "metadata": {},
     "output_type": "execute_result"
    },
    {
     "data": {
      "text/plain": [
       "['MNXM89588_c0']"
      ]
     },
     "execution_count": 7,
     "metadata": {},
     "output_type": "execute_result"
    },
    {
     "data": {
      "text/plain": [
       "['MNXM561_c0']"
      ]
     },
     "execution_count": 7,
     "metadata": {},
     "output_type": "execute_result"
    },
    {
     "data": {
      "text/plain": [
       "['MNXM3480_c0']"
      ]
     },
     "execution_count": 7,
     "metadata": {},
     "output_type": "execute_result"
    },
    {
     "data": {
      "text/plain": [
       "['MNXM3710_c0']"
      ]
     },
     "execution_count": 7,
     "metadata": {},
     "output_type": "execute_result"
    },
    {
     "data": {
      "text/plain": [
       "['MNXM4508_c0']"
      ]
     },
     "execution_count": 7,
     "metadata": {},
     "output_type": "execute_result"
    },
    {
     "data": {
      "text/plain": [
       "['MNXM598_c0']"
      ]
     },
     "execution_count": 7,
     "metadata": {},
     "output_type": "execute_result"
    },
    {
     "data": {
      "text/plain": [
       "['MNXM985_c0']"
      ]
     },
     "execution_count": 7,
     "metadata": {},
     "output_type": "execute_result"
    },
    {
     "data": {
      "text/plain": [
       "['MNXM144_c0']"
      ]
     },
     "execution_count": 7,
     "metadata": {},
     "output_type": "execute_result"
    },
    {
     "data": {
      "text/plain": [
       "['MNXM60_c0']"
      ]
     },
     "execution_count": 7,
     "metadata": {},
     "output_type": "execute_result"
    },
    {
     "data": {
      "text/plain": [
       "['MNXM96075_c0']"
      ]
     },
     "execution_count": 7,
     "metadata": {},
     "output_type": "execute_result"
    },
    {
     "data": {
      "text/plain": [
       "['MNXM5655_c0']"
      ]
     },
     "execution_count": 7,
     "metadata": {},
     "output_type": "execute_result"
    },
    {
     "data": {
      "text/plain": [
       "['MNXM1692_c0']"
      ]
     },
     "execution_count": 7,
     "metadata": {},
     "output_type": "execute_result"
    },
    {
     "data": {
      "text/plain": [
       "['MNXM2188_c0']"
      ]
     },
     "execution_count": 7,
     "metadata": {},
     "output_type": "execute_result"
    },
    {
     "data": {
      "text/plain": [
       "['MNXM89582_c0']"
      ]
     },
     "execution_count": 7,
     "metadata": {},
     "output_type": "execute_result"
    },
    {
     "data": {
      "text/plain": [
       "['MNXM602_c0']"
      ]
     },
     "execution_count": 7,
     "metadata": {},
     "output_type": "execute_result"
    },
    {
     "data": {
      "text/plain": [
       "['MNXM1265_c0']"
      ]
     },
     "execution_count": 7,
     "metadata": {},
     "output_type": "execute_result"
    },
    {
     "data": {
      "text/plain": [
       "['MNXM194_c0']"
      ]
     },
     "execution_count": 7,
     "metadata": {},
     "output_type": "execute_result"
    },
    {
     "data": {
      "text/plain": [
       "['MNXM1915_c0']"
      ]
     },
     "execution_count": 7,
     "metadata": {},
     "output_type": "execute_result"
    },
    {
     "data": {
      "text/plain": [
       "['MNXM503_c0']"
      ]
     },
     "execution_count": 7,
     "metadata": {},
     "output_type": "execute_result"
    },
    {
     "data": {
      "text/plain": [
       "['MNXM153_c0']"
      ]
     },
     "execution_count": 7,
     "metadata": {},
     "output_type": "execute_result"
    },
    {
     "data": {
      "text/plain": [
       "['MNXM49_c0']"
      ]
     },
     "execution_count": 7,
     "metadata": {},
     "output_type": "execute_result"
    },
    {
     "data": {
      "text/plain": [
       "['MNXM263_c0']"
      ]
     },
     "execution_count": 7,
     "metadata": {},
     "output_type": "execute_result"
    },
    {
     "data": {
      "text/plain": [
       "['MNXM439_c0']"
      ]
     },
     "execution_count": 7,
     "metadata": {},
     "output_type": "execute_result"
    },
    {
     "data": {
      "text/plain": [
       "['MNXM6733_c0']"
      ]
     },
     "execution_count": 7,
     "metadata": {},
     "output_type": "execute_result"
    },
    {
     "data": {
      "text/plain": [
       "['MNXM644_c0']"
      ]
     },
     "execution_count": 7,
     "metadata": {},
     "output_type": "execute_result"
    },
    {
     "data": {
      "text/plain": [
       "['MNXM529_c0']"
      ]
     },
     "execution_count": 7,
     "metadata": {},
     "output_type": "execute_result"
    },
    {
     "data": {
      "text/plain": [
       "['MNXM2808_c0']"
      ]
     },
     "execution_count": 7,
     "metadata": {},
     "output_type": "execute_result"
    },
    {
     "data": {
      "text/plain": [
       "['MNXM1189_c0']"
      ]
     },
     "execution_count": 7,
     "metadata": {},
     "output_type": "execute_result"
    },
    {
     "data": {
      "text/plain": [
       "['MNXM32_c0']"
      ]
     },
     "execution_count": 7,
     "metadata": {},
     "output_type": "execute_result"
    },
    {
     "data": {
      "text/plain": [
       "['MNXM111_c0']"
      ]
     },
     "execution_count": 7,
     "metadata": {},
     "output_type": "execute_result"
    },
    {
     "data": {
      "text/plain": [
       "['MNXM196_c0']"
      ]
     },
     "execution_count": 7,
     "metadata": {},
     "output_type": "execute_result"
    },
    {
     "data": {
      "text/plain": [
       "['MNXM509_c0']"
      ]
     },
     "execution_count": 7,
     "metadata": {},
     "output_type": "execute_result"
    },
    {
     "data": {
      "text/plain": [
       "['MNXM223_c0']"
      ]
     },
     "execution_count": 7,
     "metadata": {},
     "output_type": "execute_result"
    },
    {
     "data": {
      "text/plain": [
       "['MNXM1697_c0']"
      ]
     },
     "execution_count": 7,
     "metadata": {},
     "output_type": "execute_result"
    },
    {
     "data": {
      "text/plain": [
       "['MNXM877_c0']"
      ]
     },
     "execution_count": 7,
     "metadata": {},
     "output_type": "execute_result"
    },
    {
     "data": {
      "text/plain": [
       "['MNXM856_c0']"
      ]
     },
     "execution_count": 7,
     "metadata": {},
     "output_type": "execute_result"
    },
    {
     "data": {
      "text/plain": [
       "['MNXM1080_c0']"
      ]
     },
     "execution_count": 7,
     "metadata": {},
     "output_type": "execute_result"
    },
    {
     "data": {
      "text/plain": [
       "['MNXM854_c0']"
      ]
     },
     "execution_count": 7,
     "metadata": {},
     "output_type": "execute_result"
    },
    {
     "data": {
      "text/plain": [
       "['MNXM554_c0']"
      ]
     },
     "execution_count": 7,
     "metadata": {},
     "output_type": "execute_result"
    },
    {
     "data": {
      "text/plain": [
       "['MNXM547_c0']"
      ]
     },
     "execution_count": 7,
     "metadata": {},
     "output_type": "execute_result"
    },
    {
     "data": {
      "text/plain": [
       "['MNXM280_c0']"
      ]
     },
     "execution_count": 7,
     "metadata": {},
     "output_type": "execute_result"
    },
    {
     "data": {
      "text/plain": [
       "['MNXM28031_c0']"
      ]
     },
     "execution_count": 7,
     "metadata": {},
     "output_type": "execute_result"
    },
    {
     "data": {
      "text/plain": [
       "['MNXM435_c0']"
      ]
     },
     "execution_count": 7,
     "metadata": {},
     "output_type": "execute_result"
    },
    {
     "data": {
      "text/plain": [
       "['MNXM189_c0']"
      ]
     },
     "execution_count": 7,
     "metadata": {},
     "output_type": "execute_result"
    },
    {
     "data": {
      "text/plain": [
       "['MNXM126_c0']"
      ]
     },
     "execution_count": 7,
     "metadata": {},
     "output_type": "execute_result"
    },
    {
     "data": {
      "text/plain": [
       "['MNXM533_e0']"
      ]
     },
     "execution_count": 7,
     "metadata": {},
     "output_type": "execute_result"
    },
    {
     "data": {
      "text/plain": [
       "['MNXM370_c0']"
      ]
     },
     "execution_count": 7,
     "metadata": {},
     "output_type": "execute_result"
    },
    {
     "data": {
      "text/plain": [
       "['MNXM481_c0']"
      ]
     },
     "execution_count": 7,
     "metadata": {},
     "output_type": "execute_result"
    },
    {
     "data": {
      "text/plain": [
       "['MNXM508_c0']"
      ]
     },
     "execution_count": 7,
     "metadata": {},
     "output_type": "execute_result"
    },
    {
     "data": {
      "text/plain": [
       "['MNXM1855_c0']"
      ]
     },
     "execution_count": 7,
     "metadata": {},
     "output_type": "execute_result"
    },
    {
     "data": {
      "text/plain": [
       "['MNXM3460_c0']"
      ]
     },
     "execution_count": 7,
     "metadata": {},
     "output_type": "execute_result"
    },
    {
     "data": {
      "text/plain": [
       "['MNXM3482_c0']"
      ]
     },
     "execution_count": 7,
     "metadata": {},
     "output_type": "execute_result"
    },
    {
     "data": {
      "text/plain": [
       "['MNXM1351_c0']"
      ]
     },
     "execution_count": 7,
     "metadata": {},
     "output_type": "execute_result"
    },
    {
     "data": {
      "text/plain": [
       "['MNXM245_c0']"
      ]
     },
     "execution_count": 7,
     "metadata": {},
     "output_type": "execute_result"
    },
    {
     "data": {
      "text/plain": [
       "['MNXM1617_c0']"
      ]
     },
     "execution_count": 7,
     "metadata": {},
     "output_type": "execute_result"
    },
    {
     "data": {
      "text/plain": [
       "['MNXM114594_c0']"
      ]
     },
     "execution_count": 7,
     "metadata": {},
     "output_type": "execute_result"
    },
    {
     "data": {
      "text/plain": [
       "['MNXM175_e0']"
      ]
     },
     "execution_count": 7,
     "metadata": {},
     "output_type": "execute_result"
    },
    {
     "data": {
      "text/plain": [
       "['MNXM145568_c0']"
      ]
     },
     "execution_count": 7,
     "metadata": {},
     "output_type": "execute_result"
    },
    {
     "data": {
      "text/plain": [
       "['MNXM113_c0']"
      ]
     },
     "execution_count": 7,
     "metadata": {},
     "output_type": "execute_result"
    },
    {
     "data": {
      "text/plain": [
       "['MNXM2178_c0']"
      ]
     },
     "execution_count": 7,
     "metadata": {},
     "output_type": "execute_result"
    },
    {
     "data": {
      "text/plain": [
       "['MNXM261_c0']"
      ]
     },
     "execution_count": 7,
     "metadata": {},
     "output_type": "execute_result"
    },
    {
     "data": {
      "text/plain": [
       "['MNXM501_c0']"
      ]
     },
     "execution_count": 7,
     "metadata": {},
     "output_type": "execute_result"
    },
    {
     "data": {
      "text/plain": [
       "['MNXM646_c0']"
      ]
     },
     "execution_count": 7,
     "metadata": {},
     "output_type": "execute_result"
    },
    {
     "data": {
      "text/plain": [
       "['MNXM127_c0']"
      ]
     },
     "execution_count": 7,
     "metadata": {},
     "output_type": "execute_result"
    },
    {
     "data": {
      "text/plain": [
       "['MNXM1679_c0']"
      ]
     },
     "execution_count": 7,
     "metadata": {},
     "output_type": "execute_result"
    },
    {
     "data": {
      "text/plain": [
       "['MNXM470_c0']"
      ]
     },
     "execution_count": 7,
     "metadata": {},
     "output_type": "execute_result"
    },
    {
     "data": {
      "text/plain": [
       "['MNXM252_c0']"
      ]
     },
     "execution_count": 7,
     "metadata": {},
     "output_type": "execute_result"
    },
    {
     "data": {
      "text/plain": [
       "['MNXM235_c0']"
      ]
     },
     "execution_count": 7,
     "metadata": {},
     "output_type": "execute_result"
    },
    {
     "data": {
      "text/plain": [
       "['MNXM1168_c0']"
      ]
     },
     "execution_count": 7,
     "metadata": {},
     "output_type": "execute_result"
    },
    {
     "data": {
      "text/plain": [
       "['MNXM414_c0']"
      ]
     },
     "execution_count": 7,
     "metadata": {},
     "output_type": "execute_result"
    },
    {
     "data": {
      "text/plain": [
       "['MNXM2348_c0']"
      ]
     },
     "execution_count": 7,
     "metadata": {},
     "output_type": "execute_result"
    },
    {
     "data": {
      "text/plain": [
       "['MNXM75116_c0']"
      ]
     },
     "execution_count": 7,
     "metadata": {},
     "output_type": "execute_result"
    },
    {
     "data": {
      "text/plain": [
       "['MNXM31536_c0']"
      ]
     },
     "execution_count": 7,
     "metadata": {},
     "output_type": "execute_result"
    },
    {
     "data": {
      "text/plain": [
       "['MNXM43_c0']"
      ]
     },
     "execution_count": 7,
     "metadata": {},
     "output_type": "execute_result"
    },
    {
     "data": {
      "text/plain": [
       "['MNXM446_c0']"
      ]
     },
     "execution_count": 7,
     "metadata": {},
     "output_type": "execute_result"
    },
    {
     "data": {
      "text/plain": [
       "['MNXM133_c0']"
      ]
     },
     "execution_count": 7,
     "metadata": {},
     "output_type": "execute_result"
    },
    {
     "data": {
      "text/plain": [
       "['MNXM251_c0']"
      ]
     },
     "execution_count": 7,
     "metadata": {},
     "output_type": "execute_result"
    },
    {
     "data": {
      "text/plain": [
       "['MNXM1955_c0']"
      ]
     },
     "execution_count": 7,
     "metadata": {},
     "output_type": "execute_result"
    },
    {
     "data": {
      "text/plain": [
       "['MNXM234_c0']"
      ]
     },
     "execution_count": 7,
     "metadata": {},
     "output_type": "execute_result"
    },
    {
     "data": {
      "text/plain": [
       "['MNXM1219_c0']"
      ]
     },
     "execution_count": 7,
     "metadata": {},
     "output_type": "execute_result"
    },
    {
     "data": {
      "text/plain": [
       "['MNXM478_c0']"
      ]
     },
     "execution_count": 7,
     "metadata": {},
     "output_type": "execute_result"
    },
    {
     "data": {
      "text/plain": [
       "['MNXM264_c0']"
      ]
     },
     "execution_count": 7,
     "metadata": {},
     "output_type": "execute_result"
    },
    {
     "data": {
      "text/plain": [
       "['MNXM23842_c0']"
      ]
     },
     "execution_count": 7,
     "metadata": {},
     "output_type": "execute_result"
    },
    {
     "data": {
      "text/plain": [
       "['MNXM632_e0']"
      ]
     },
     "execution_count": 7,
     "metadata": {},
     "output_type": "execute_result"
    },
    {
     "data": {
      "text/plain": [
       "['MNXM332_c0']"
      ]
     },
     "execution_count": 7,
     "metadata": {},
     "output_type": "execute_result"
    },
    {
     "data": {
      "text/plain": [
       "['MNXM92085_c0']"
      ]
     },
     "execution_count": 7,
     "metadata": {},
     "output_type": "execute_result"
    },
    {
     "data": {
      "text/plain": [
       "['MNXM79_c0']"
      ]
     },
     "execution_count": 7,
     "metadata": {},
     "output_type": "execute_result"
    },
    {
     "data": {
      "text/plain": [
       "['MNXM550_c0']"
      ]
     },
     "execution_count": 7,
     "metadata": {},
     "output_type": "execute_result"
    },
    {
     "data": {
      "text/plain": [
       "['MNXM70_c0']"
      ]
     },
     "execution_count": 7,
     "metadata": {},
     "output_type": "execute_result"
    },
    {
     "data": {
      "text/plain": [
       "['MNXM612_c0']"
      ]
     },
     "execution_count": 7,
     "metadata": {},
     "output_type": "execute_result"
    },
    {
     "data": {
      "text/plain": [
       "['MNXM1281_c0']"
      ]
     },
     "execution_count": 7,
     "metadata": {},
     "output_type": "execute_result"
    },
    {
     "data": {
      "text/plain": [
       "['MNXM91049_c0']"
      ]
     },
     "execution_count": 7,
     "metadata": {},
     "output_type": "execute_result"
    },
    {
     "data": {
      "text/plain": [
       "['MNXM345_c0']"
      ]
     },
     "execution_count": 7,
     "metadata": {},
     "output_type": "execute_result"
    },
    {
     "data": {
      "text/plain": [
       "['MNXM691_c0']"
      ]
     },
     "execution_count": 7,
     "metadata": {},
     "output_type": "execute_result"
    },
    {
     "data": {
      "text/plain": [
       "['MNXM1376_c0']"
      ]
     },
     "execution_count": 7,
     "metadata": {},
     "output_type": "execute_result"
    },
    {
     "data": {
      "text/plain": [
       "['MNXM270_c0']"
      ]
     },
     "execution_count": 7,
     "metadata": {},
     "output_type": "execute_result"
    },
    {
     "data": {
      "text/plain": [
       "['MNXM1246_c0']"
      ]
     },
     "execution_count": 7,
     "metadata": {},
     "output_type": "execute_result"
    },
    {
     "data": {
      "text/plain": [
       "['MNXM142_c0']"
      ]
     },
     "execution_count": 7,
     "metadata": {},
     "output_type": "execute_result"
    },
    {
     "data": {
      "text/plain": [
       "['MNXM1626_c0']"
      ]
     },
     "execution_count": 7,
     "metadata": {},
     "output_type": "execute_result"
    },
    {
     "data": {
      "text/plain": [
       "['MNXM397_c0']"
      ]
     },
     "execution_count": 7,
     "metadata": {},
     "output_type": "execute_result"
    },
    {
     "data": {
      "text/plain": [
       "['MNXM4269_c0']"
      ]
     },
     "execution_count": 7,
     "metadata": {},
     "output_type": "execute_result"
    },
    {
     "data": {
      "text/plain": [
       "['MNXM663_c0']"
      ]
     },
     "execution_count": 7,
     "metadata": {},
     "output_type": "execute_result"
    },
    {
     "data": {
      "text/plain": [
       "['MNXM140_e0']"
      ]
     },
     "execution_count": 7,
     "metadata": {},
     "output_type": "execute_result"
    },
    {
     "data": {
      "text/plain": [
       "['MNXM759_c0']"
      ]
     },
     "execution_count": 7,
     "metadata": {},
     "output_type": "execute_result"
    },
    {
     "data": {
      "text/plain": [
       "['MNXM507_c0']"
      ]
     },
     "execution_count": 7,
     "metadata": {},
     "output_type": "execute_result"
    },
    {
     "data": {
      "text/plain": [
       "['MNXM420_e0']"
      ]
     },
     "execution_count": 7,
     "metadata": {},
     "output_type": "execute_result"
    },
    {
     "data": {
      "text/plain": [
       "['MNXM92_c0']"
      ]
     },
     "execution_count": 7,
     "metadata": {},
     "output_type": "execute_result"
    },
    {
     "data": {
      "text/plain": [
       "['MNXM1508_c0']"
      ]
     },
     "execution_count": 7,
     "metadata": {},
     "output_type": "execute_result"
    },
    {
     "data": {
      "text/plain": [
       "['MNXM181_c0']"
      ]
     },
     "execution_count": 7,
     "metadata": {},
     "output_type": "execute_result"
    },
    {
     "data": {
      "text/plain": [
       "['MNXM394_c0']"
      ]
     },
     "execution_count": 7,
     "metadata": {},
     "output_type": "execute_result"
    },
    {
     "data": {
      "text/plain": [
       "['MNXM152_c0']"
      ]
     },
     "execution_count": 7,
     "metadata": {},
     "output_type": "execute_result"
    },
    {
     "data": {
      "text/plain": [
       "['MNXM701_c0']"
      ]
     },
     "execution_count": 7,
     "metadata": {},
     "output_type": "execute_result"
    },
    {
     "data": {
      "text/plain": [
       "['MNXM524_c0']"
      ]
     },
     "execution_count": 7,
     "metadata": {},
     "output_type": "execute_result"
    },
    {
     "data": {
      "text/plain": [
       "['MNXM826_c0']"
      ]
     },
     "execution_count": 7,
     "metadata": {},
     "output_type": "execute_result"
    },
    {
     "data": {
      "text/plain": [
       "['MNXM337_c0']"
      ]
     },
     "execution_count": 7,
     "metadata": {},
     "output_type": "execute_result"
    },
    {
     "data": {
      "text/plain": [
       "['MNXM615_e0']"
      ]
     },
     "execution_count": 7,
     "metadata": {},
     "output_type": "execute_result"
    },
    {
     "data": {
      "text/plain": [
       "['MNXM90126_c0']"
      ]
     },
     "execution_count": 7,
     "metadata": {},
     "output_type": "execute_result"
    },
    {
     "data": {
      "text/plain": [
       "['MNXM8670_c0']"
      ]
     },
     "execution_count": 7,
     "metadata": {},
     "output_type": "execute_result"
    },
    {
     "data": {
      "text/plain": [
       "['MNXM1378_c0']"
      ]
     },
     "execution_count": 7,
     "metadata": {},
     "output_type": "execute_result"
    },
    {
     "data": {
      "text/plain": [
       "['MNXM1406_c0']"
      ]
     },
     "execution_count": 7,
     "metadata": {},
     "output_type": "execute_result"
    },
    {
     "data": {
      "text/plain": [
       "['MNXM75103_c0']"
      ]
     },
     "execution_count": 7,
     "metadata": {},
     "output_type": "execute_result"
    },
    {
     "data": {
      "text/plain": [
       "['MNXM75101_c0']"
      ]
     },
     "execution_count": 7,
     "metadata": {},
     "output_type": "execute_result"
    },
    {
     "data": {
      "text/plain": [
       "['MNXM546_c0']"
      ]
     },
     "execution_count": 7,
     "metadata": {},
     "output_type": "execute_result"
    },
    {
     "data": {
      "text/plain": [
       "['MNXM647_c0']"
      ]
     },
     "execution_count": 7,
     "metadata": {},
     "output_type": "execute_result"
    },
    {
     "data": {
      "text/plain": [
       "['MNXM683_e0']"
      ]
     },
     "execution_count": 7,
     "metadata": {},
     "output_type": "execute_result"
    },
    {
     "data": {
      "text/plain": [
       "['MNXM34810_c0']"
      ]
     },
     "execution_count": 7,
     "metadata": {},
     "output_type": "execute_result"
    },
    {
     "data": {
      "text/plain": [
       "['MNXM108_c0']"
      ]
     },
     "execution_count": 7,
     "metadata": {},
     "output_type": "execute_result"
    },
    {
     "data": {
      "text/plain": [
       "['MNXM1323_c0']"
      ]
     },
     "execution_count": 7,
     "metadata": {},
     "output_type": "execute_result"
    },
    {
     "data": {
      "text/plain": [
       "['MNXM4975_c0']"
      ]
     },
     "execution_count": 7,
     "metadata": {},
     "output_type": "execute_result"
    },
    {
     "data": {
      "text/plain": [
       "['MNXM88_c0']"
      ]
     },
     "execution_count": 7,
     "metadata": {},
     "output_type": "execute_result"
    },
    {
     "data": {
      "text/plain": [
       "['MNXM162234_c0']"
      ]
     },
     "execution_count": 7,
     "metadata": {},
     "output_type": "execute_result"
    },
    {
     "data": {
      "text/plain": [
       "['MNXM918_c0']"
      ]
     },
     "execution_count": 7,
     "metadata": {},
     "output_type": "execute_result"
    },
    {
     "data": {
      "text/plain": [
       "['MNXM1276_c0']"
      ]
     },
     "execution_count": 7,
     "metadata": {},
     "output_type": "execute_result"
    },
    {
     "data": {
      "text/plain": [
       "['MNXM90509_c0']"
      ]
     },
     "execution_count": 7,
     "metadata": {},
     "output_type": "execute_result"
    },
    {
     "data": {
      "text/plain": [
       "['MNXM1693_c0']"
      ]
     },
     "execution_count": 7,
     "metadata": {},
     "output_type": "execute_result"
    },
    {
     "data": {
      "text/plain": [
       "['MNXM1014_c0']"
      ]
     },
     "execution_count": 7,
     "metadata": {},
     "output_type": "execute_result"
    },
    {
     "data": {
      "text/plain": [
       "['MNXM11629_c0']"
      ]
     },
     "execution_count": 7,
     "metadata": {},
     "output_type": "execute_result"
    },
    {
     "data": {
      "text/plain": [
       "['MNXM211_c0']"
      ]
     },
     "execution_count": 7,
     "metadata": {},
     "output_type": "execute_result"
    },
    {
     "data": {
      "text/plain": [
       "['MNXM685_c0']"
      ]
     },
     "execution_count": 7,
     "metadata": {},
     "output_type": "execute_result"
    },
    {
     "data": {
      "text/plain": [
       "['MNXM1287_c0']"
      ]
     },
     "execution_count": 7,
     "metadata": {},
     "output_type": "execute_result"
    },
    {
     "data": {
      "text/plain": [
       "['MNXM648_c0']"
      ]
     },
     "execution_count": 7,
     "metadata": {},
     "output_type": "execute_result"
    },
    {
     "data": {
      "text/plain": [
       "['MNXM1277_c0']"
      ]
     },
     "execution_count": 7,
     "metadata": {},
     "output_type": "execute_result"
    },
    {
     "data": {
      "text/plain": [
       "['MNXM187_c0']"
      ]
     },
     "execution_count": 7,
     "metadata": {},
     "output_type": "execute_result"
    },
    {
     "data": {
      "text/plain": [
       "['MNXM179_c0']"
      ]
     },
     "execution_count": 7,
     "metadata": {},
     "output_type": "execute_result"
    },
    {
     "data": {
      "text/plain": [
       "['MNXM210_c0']"
      ]
     },
     "execution_count": 7,
     "metadata": {},
     "output_type": "execute_result"
    },
    {
     "data": {
      "text/plain": [
       "['MNXM2160_c0']"
      ]
     },
     "execution_count": 7,
     "metadata": {},
     "output_type": "execute_result"
    },
    {
     "data": {
      "text/plain": [
       "['MNXM1048_c0']"
      ]
     },
     "execution_count": 7,
     "metadata": {},
     "output_type": "execute_result"
    },
    {
     "data": {
      "text/plain": [
       "['MNXM90586_c0']"
      ]
     },
     "execution_count": 7,
     "metadata": {},
     "output_type": "execute_result"
    },
    {
     "data": {
      "text/plain": [
       "['MNXM344_c0']"
      ]
     },
     "execution_count": 7,
     "metadata": {},
     "output_type": "execute_result"
    },
    {
     "data": {
      "text/plain": [
       "['MNXM300_c0']"
      ]
     },
     "execution_count": 7,
     "metadata": {},
     "output_type": "execute_result"
    },
    {
     "data": {
      "text/plain": [
       "['MNXM331_c0']"
      ]
     },
     "execution_count": 7,
     "metadata": {},
     "output_type": "execute_result"
    },
    {
     "data": {
      "text/plain": [
       "['MNXM820_c0']"
      ]
     },
     "execution_count": 7,
     "metadata": {},
     "output_type": "execute_result"
    },
    {
     "data": {
      "text/plain": [
       "['MNXM96425_c0']"
      ]
     },
     "execution_count": 7,
     "metadata": {},
     "output_type": "execute_result"
    },
    {
     "data": {
      "text/plain": [
       "['MNXM229_c0']"
      ]
     },
     "execution_count": 7,
     "metadata": {},
     "output_type": "execute_result"
    },
    {
     "data": {
      "text/plain": [
       "['MNXM7733_c0']"
      ]
     },
     "execution_count": 7,
     "metadata": {},
     "output_type": "execute_result"
    },
    {
     "data": {
      "text/plain": [
       "['MNXM24297_c0']"
      ]
     },
     "execution_count": 7,
     "metadata": {},
     "output_type": "execute_result"
    },
    {
     "data": {
      "text/plain": [
       "['MNXM803_c0']"
      ]
     },
     "execution_count": 7,
     "metadata": {},
     "output_type": "execute_result"
    },
    {
     "data": {
      "text/plain": [
       "['MNXM53766_c0']"
      ]
     },
     "execution_count": 7,
     "metadata": {},
     "output_type": "execute_result"
    },
    {
     "data": {
      "text/plain": [
       "['MNXM2773_c0']"
      ]
     },
     "execution_count": 7,
     "metadata": {},
     "output_type": "execute_result"
    },
    {
     "data": {
      "text/plain": [
       "['MNXM32950_c0']"
      ]
     },
     "execution_count": 7,
     "metadata": {},
     "output_type": "execute_result"
    },
    {
     "data": {
      "text/plain": [
       "['MNXM4708_c0']"
      ]
     },
     "execution_count": 7,
     "metadata": {},
     "output_type": "execute_result"
    },
    {
     "data": {
      "text/plain": [
       "['MNXM90279_c0']"
      ]
     },
     "execution_count": 7,
     "metadata": {},
     "output_type": "execute_result"
    },
    {
     "data": {
      "text/plain": [
       "['MNXM367_c0']"
      ]
     },
     "execution_count": 7,
     "metadata": {},
     "output_type": "execute_result"
    },
    {
     "data": {
      "text/plain": [
       "['MNXM90_c0']"
      ]
     },
     "execution_count": 7,
     "metadata": {},
     "output_type": "execute_result"
    },
    {
     "data": {
      "text/plain": [
       "['MNXM69_c0']"
      ]
     },
     "execution_count": 7,
     "metadata": {},
     "output_type": "execute_result"
    },
    {
     "data": {
      "text/plain": [
       "['MNXM3232_c0']"
      ]
     },
     "execution_count": 7,
     "metadata": {},
     "output_type": "execute_result"
    },
    {
     "data": {
      "text/plain": [
       "['MNXM32180_c0']"
      ]
     },
     "execution_count": 7,
     "metadata": {},
     "output_type": "execute_result"
    },
    {
     "data": {
      "text/plain": [
       "['MNXM477_e0']"
      ]
     },
     "execution_count": 7,
     "metadata": {},
     "output_type": "execute_result"
    },
    {
     "data": {
      "text/plain": [
       "['MNXM584_c0']"
      ]
     },
     "execution_count": 7,
     "metadata": {},
     "output_type": "execute_result"
    },
    {
     "data": {
      "text/plain": [
       "['MNXM117_c0']"
      ]
     },
     "execution_count": 7,
     "metadata": {},
     "output_type": "execute_result"
    },
    {
     "data": {
      "text/plain": [
       "['MNXM490_c0']"
      ]
     },
     "execution_count": 7,
     "metadata": {},
     "output_type": "execute_result"
    },
    {
     "data": {
      "text/plain": [
       "['MNXM699_c0']"
      ]
     },
     "execution_count": 7,
     "metadata": {},
     "output_type": "execute_result"
    },
    {
     "data": {
      "text/plain": [
       "['MNXM2394_c0']"
      ]
     },
     "execution_count": 7,
     "metadata": {},
     "output_type": "execute_result"
    },
    {
     "data": {
      "text/plain": [
       "['MNXM28933_c0']"
      ]
     },
     "execution_count": 7,
     "metadata": {},
     "output_type": "execute_result"
    },
    {
     "data": {
      "text/plain": [
       "['MNXM242_c0']"
      ]
     },
     "execution_count": 7,
     "metadata": {},
     "output_type": "execute_result"
    },
    {
     "data": {
      "text/plain": [
       "['MNXM674_c0']"
      ]
     },
     "execution_count": 7,
     "metadata": {},
     "output_type": "execute_result"
    },
    {
     "data": {
      "text/plain": [
       "['MNXM580_c0']"
      ]
     },
     "execution_count": 7,
     "metadata": {},
     "output_type": "execute_result"
    },
    {
     "data": {
      "text/plain": [
       "['MNXM91417_c0']"
      ]
     },
     "execution_count": 7,
     "metadata": {},
     "output_type": "execute_result"
    },
    {
     "data": {
      "text/plain": [
       "['MNXM511_c0']"
      ]
     },
     "execution_count": 7,
     "metadata": {},
     "output_type": "execute_result"
    },
    {
     "data": {
      "text/plain": [
       "['MNXM51279_c0']"
      ]
     },
     "execution_count": 7,
     "metadata": {},
     "output_type": "execute_result"
    },
    {
     "data": {
      "text/plain": [
       "['MNXM90511_c0']"
      ]
     },
     "execution_count": 7,
     "metadata": {},
     "output_type": "execute_result"
    },
    {
     "data": {
      "text/plain": [
       "['MNXM17312_c0']"
      ]
     },
     "execution_count": 7,
     "metadata": {},
     "output_type": "execute_result"
    },
    {
     "data": {
      "text/plain": [
       "['MNXM733_c0']"
      ]
     },
     "execution_count": 7,
     "metadata": {},
     "output_type": "execute_result"
    },
    {
     "data": {
      "text/plain": [
       "['MNXM642_c0']"
      ]
     },
     "execution_count": 7,
     "metadata": {},
     "output_type": "execute_result"
    },
    {
     "data": {
      "text/plain": [
       "['MNXM167_c0']"
      ]
     },
     "execution_count": 7,
     "metadata": {},
     "output_type": "execute_result"
    },
    {
     "data": {
      "text/plain": [
       "['MNXM991_c0']"
      ]
     },
     "execution_count": 7,
     "metadata": {},
     "output_type": "execute_result"
    },
    {
     "data": {
      "text/plain": [
       "['MNXM375_c0']"
      ]
     },
     "execution_count": 7,
     "metadata": {},
     "output_type": "execute_result"
    },
    {
     "data": {
      "text/plain": [
       "['MNXM475_c0']"
      ]
     },
     "execution_count": 7,
     "metadata": {},
     "output_type": "execute_result"
    },
    {
     "data": {
      "text/plain": [
       "['MNXM443_c0']"
      ]
     },
     "execution_count": 7,
     "metadata": {},
     "output_type": "execute_result"
    },
    {
     "data": {
      "text/plain": [
       "['MNXM821_c0']"
      ]
     },
     "execution_count": 7,
     "metadata": {},
     "output_type": "execute_result"
    },
    {
     "data": {
      "text/plain": [
       "['MNXM2488_c0']"
      ]
     },
     "execution_count": 7,
     "metadata": {},
     "output_type": "execute_result"
    },
    {
     "data": {
      "text/plain": [
       "['MNXM76_c0']"
      ]
     },
     "execution_count": 7,
     "metadata": {},
     "output_type": "execute_result"
    },
    {
     "data": {
      "text/plain": [
       "['MNXM2769_c0']"
      ]
     },
     "execution_count": 7,
     "metadata": {},
     "output_type": "execute_result"
    },
    {
     "data": {
      "text/plain": [
       "['MNXM4509_c0']"
      ]
     },
     "execution_count": 7,
     "metadata": {},
     "output_type": "execute_result"
    },
    {
     "data": {
      "text/plain": [
       "['MNXM55287_e0']"
      ]
     },
     "execution_count": 7,
     "metadata": {},
     "output_type": "execute_result"
    },
    {
     "data": {
      "text/plain": [
       "['MNXM351_c0']"
      ]
     },
     "execution_count": 7,
     "metadata": {},
     "output_type": "execute_result"
    },
    {
     "data": {
      "text/plain": [
       "['MNXM346_c0']"
      ]
     },
     "execution_count": 7,
     "metadata": {},
     "output_type": "execute_result"
    },
    {
     "data": {
      "text/plain": [
       "['MNXM5481_c0']"
      ]
     },
     "execution_count": 7,
     "metadata": {},
     "output_type": "execute_result"
    },
    {
     "data": {
      "text/plain": [
       "['MNXM236_c0']"
      ]
     },
     "execution_count": 7,
     "metadata": {},
     "output_type": "execute_result"
    },
    {
     "data": {
      "text/plain": [
       "['MNXM1104_c0']"
      ]
     },
     "execution_count": 7,
     "metadata": {},
     "output_type": "execute_result"
    },
    {
     "data": {
      "text/plain": [
       "['MNXM1144_c0']"
      ]
     },
     "execution_count": 7,
     "metadata": {},
     "output_type": "execute_result"
    },
    {
     "data": {
      "text/plain": [
       "['MNXM227_c0']"
      ]
     },
     "execution_count": 7,
     "metadata": {},
     "output_type": "execute_result"
    },
    {
     "data": {
      "text/plain": [
       "['MNXM2387_c0']"
      ]
     },
     "execution_count": 7,
     "metadata": {},
     "output_type": "execute_result"
    },
    {
     "data": {
      "text/plain": [
       "['MNXM26095_c0']"
      ]
     },
     "execution_count": 7,
     "metadata": {},
     "output_type": "execute_result"
    },
    {
     "data": {
      "text/plain": [
       "['MNXM450_c0']"
      ]
     },
     "execution_count": 7,
     "metadata": {},
     "output_type": "execute_result"
    },
    {
     "data": {
      "text/plain": [
       "['MNXM1067_c0']"
      ]
     },
     "execution_count": 7,
     "metadata": {},
     "output_type": "execute_result"
    },
    {
     "data": {
      "text/plain": [
       "['MNXM465_c0']"
      ]
     },
     "execution_count": 7,
     "metadata": {},
     "output_type": "execute_result"
    },
    {
     "data": {
      "text/plain": [
       "['MNXM874_c0']"
      ]
     },
     "execution_count": 7,
     "metadata": {},
     "output_type": "execute_result"
    },
    {
     "data": {
      "text/plain": [
       "['MNXM353_c0']"
      ]
     },
     "execution_count": 7,
     "metadata": {},
     "output_type": "execute_result"
    },
    {
     "data": {
      "text/plain": [
       "['MNXM361_c0']"
      ]
     },
     "execution_count": 7,
     "metadata": {},
     "output_type": "execute_result"
    },
    {
     "data": {
      "text/plain": [
       "['MNXM1805_c0']"
      ]
     },
     "execution_count": 7,
     "metadata": {},
     "output_type": "execute_result"
    },
    {
     "data": {
      "text/plain": [
       "['MNXM438_c0']"
      ]
     },
     "execution_count": 7,
     "metadata": {},
     "output_type": "execute_result"
    },
    {
     "data": {
      "text/plain": [
       "['MNXM1561_c0']"
      ]
     },
     "execution_count": 7,
     "metadata": {},
     "output_type": "execute_result"
    },
    {
     "data": {
      "text/plain": [
       "['MNXM214_c0']"
      ]
     },
     "execution_count": 7,
     "metadata": {},
     "output_type": "execute_result"
    },
    {
     "data": {
      "text/plain": [
       "['MNXM162233_c0']"
      ]
     },
     "execution_count": 7,
     "metadata": {},
     "output_type": "execute_result"
    },
    {
     "data": {
      "text/plain": [
       "['MNXM90886_c0']"
      ]
     },
     "execution_count": 7,
     "metadata": {},
     "output_type": "execute_result"
    },
    {
     "data": {
      "text/plain": [
       "['MNXM89752_c0']"
      ]
     },
     "execution_count": 7,
     "metadata": {},
     "output_type": "execute_result"
    },
    {
     "data": {
      "text/plain": [
       "['MNXM1062_c0']"
      ]
     },
     "execution_count": 7,
     "metadata": {},
     "output_type": "execute_result"
    },
    {
     "data": {
      "text/plain": [
       "['MNXM9132_c0']"
      ]
     },
     "execution_count": 7,
     "metadata": {},
     "output_type": "execute_result"
    },
    {
     "data": {
      "text/plain": [
       "['MNXM57907_c0']"
      ]
     },
     "execution_count": 7,
     "metadata": {},
     "output_type": "execute_result"
    },
    {
     "data": {
      "text/plain": [
       "['MNXM785_c0']"
      ]
     },
     "execution_count": 7,
     "metadata": {},
     "output_type": "execute_result"
    },
    {
     "data": {
      "text/plain": [
       "['MNXM1688_c0']"
      ]
     },
     "execution_count": 7,
     "metadata": {},
     "output_type": "execute_result"
    },
    {
     "data": {
      "text/plain": [
       "['MNXM1694_c0']"
      ]
     },
     "execution_count": 7,
     "metadata": {},
     "output_type": "execute_result"
    },
    {
     "data": {
      "text/plain": [
       "['MNXM6824_c0']"
      ]
     },
     "execution_count": 7,
     "metadata": {},
     "output_type": "execute_result"
    },
    {
     "data": {
      "text/plain": [
       "['MNXM5589_c0']"
      ]
     },
     "execution_count": 7,
     "metadata": {},
     "output_type": "execute_result"
    },
    {
     "data": {
      "text/plain": [
       "['MNXM119_c0']"
      ]
     },
     "execution_count": 7,
     "metadata": {},
     "output_type": "execute_result"
    },
    {
     "data": {
      "text/plain": [
       "['MNXM1294_c0']"
      ]
     },
     "execution_count": 7,
     "metadata": {},
     "output_type": "execute_result"
    },
    {
     "data": {
      "text/plain": [
       "['MNXM676_c0']"
      ]
     },
     "execution_count": 7,
     "metadata": {},
     "output_type": "execute_result"
    },
    {
     "data": {
      "text/plain": [
       "['MNXM88512_c0']"
      ]
     },
     "execution_count": 7,
     "metadata": {},
     "output_type": "execute_result"
    },
    {
     "data": {
      "text/plain": [
       "['MNXM88510_c0']"
      ]
     },
     "execution_count": 7,
     "metadata": {},
     "output_type": "execute_result"
    },
    {
     "data": {
      "text/plain": [
       "['MNXM405_c0']"
      ]
     },
     "execution_count": 7,
     "metadata": {},
     "output_type": "execute_result"
    },
    {
     "data": {
      "text/plain": [
       "['MNXM55276_c0']"
      ]
     },
     "execution_count": 7,
     "metadata": {},
     "output_type": "execute_result"
    },
    {
     "data": {
      "text/plain": [
       "['MNXM767_c0']"
      ]
     },
     "execution_count": 7,
     "metadata": {},
     "output_type": "execute_result"
    },
    {
     "data": {
      "text/plain": [
       "['MNXM707_c0']"
      ]
     },
     "execution_count": 7,
     "metadata": {},
     "output_type": "execute_result"
    },
    {
     "data": {
      "text/plain": [
       "['MNXM373_c0']"
      ]
     },
     "execution_count": 7,
     "metadata": {},
     "output_type": "execute_result"
    },
    {
     "data": {
      "text/plain": [
       "['MNXM625_e0']"
      ]
     },
     "execution_count": 7,
     "metadata": {},
     "output_type": "execute_result"
    },
    {
     "data": {
      "text/plain": [
       "['MNXM1515_c0']"
      ]
     },
     "execution_count": 7,
     "metadata": {},
     "output_type": "execute_result"
    },
    {
     "data": {
      "text/plain": [
       "['MNXM1397_c0']"
      ]
     },
     "execution_count": 7,
     "metadata": {},
     "output_type": "execute_result"
    },
    {
     "data": {
      "text/plain": [
       "['MNXM649_c0']"
      ]
     },
     "execution_count": 7,
     "metadata": {},
     "output_type": "execute_result"
    },
    {
     "data": {
      "text/plain": [
       "['MNXM285_c0']"
      ]
     },
     "execution_count": 7,
     "metadata": {},
     "output_type": "execute_result"
    },
    {
     "data": {
      "text/plain": [
       "['MNXM222_c0']"
      ]
     },
     "execution_count": 7,
     "metadata": {},
     "output_type": "execute_result"
    },
    {
     "data": {
      "text/plain": [
       "['MNXM827_c0']"
      ]
     },
     "execution_count": 7,
     "metadata": {},
     "output_type": "execute_result"
    },
    {
     "data": {
      "text/plain": [
       "['MNXM90790_c0']"
      ]
     },
     "execution_count": 7,
     "metadata": {},
     "output_type": "execute_result"
    },
    {
     "data": {
      "text/plain": [
       "['MNXM231_c0']"
      ]
     },
     "execution_count": 7,
     "metadata": {},
     "output_type": "execute_result"
    },
    {
     "data": {
      "text/plain": [
       "['MNXM149_e0']"
      ]
     },
     "execution_count": 7,
     "metadata": {},
     "output_type": "execute_result"
    },
    {
     "data": {
      "text/plain": [
       "['MNXM955_c0']"
      ]
     },
     "execution_count": 7,
     "metadata": {},
     "output_type": "execute_result"
    },
    {
     "data": {
      "text/plain": [
       "['MNXM6465_c0']"
      ]
     },
     "execution_count": 7,
     "metadata": {},
     "output_type": "execute_result"
    },
    {
     "data": {
      "text/plain": [
       "['MNXM89658_c0']"
      ]
     },
     "execution_count": 7,
     "metadata": {},
     "output_type": "execute_result"
    },
    {
     "data": {
      "text/plain": [
       "['MNXM90267_c0']"
      ]
     },
     "execution_count": 7,
     "metadata": {},
     "output_type": "execute_result"
    },
    {
     "data": {
      "text/plain": [
       "['MNXM581_c0']"
      ]
     },
     "execution_count": 7,
     "metadata": {},
     "output_type": "execute_result"
    },
    {
     "data": {
      "text/plain": [
       "['MNXM96952_c0']"
      ]
     },
     "execution_count": 7,
     "metadata": {},
     "output_type": "execute_result"
    },
    {
     "data": {
      "text/plain": [
       "['MNXM791_c0']"
      ]
     },
     "execution_count": 7,
     "metadata": {},
     "output_type": "execute_result"
    },
    {
     "data": {
      "text/plain": [
       "['MNXM1313_c0']"
      ]
     },
     "execution_count": 7,
     "metadata": {},
     "output_type": "execute_result"
    },
    {
     "data": {
      "text/plain": [
       "['MNXM348_c0']"
      ]
     },
     "execution_count": 7,
     "metadata": {},
     "output_type": "execute_result"
    },
    {
     "data": {
      "text/plain": [
       "['MNXM342_c0']"
      ]
     },
     "execution_count": 7,
     "metadata": {},
     "output_type": "execute_result"
    },
    {
     "data": {
      "text/plain": [
       "['MNXM784_c0']"
      ]
     },
     "execution_count": 7,
     "metadata": {},
     "output_type": "execute_result"
    },
    {
     "data": {
      "text/plain": [
       "['MNXM63556_c0']"
      ]
     },
     "execution_count": 7,
     "metadata": {},
     "output_type": "execute_result"
    },
    {
     "data": {
      "text/plain": [
       "['MNXM156_c0']"
      ]
     },
     "execution_count": 7,
     "metadata": {},
     "output_type": "execute_result"
    },
    {
     "data": {
      "text/plain": [
       "['MNXM159_c0']"
      ]
     },
     "execution_count": 7,
     "metadata": {},
     "output_type": "execute_result"
    },
    {
     "data": {
      "text/plain": [
       "['MNXM371_c0']"
      ]
     },
     "execution_count": 7,
     "metadata": {},
     "output_type": "execute_result"
    },
    {
     "data": {
      "text/plain": [
       "['MNXM217_c0']"
      ]
     },
     "execution_count": 7,
     "metadata": {},
     "output_type": "execute_result"
    },
    {
     "data": {
      "text/plain": [
       "['MNXM34811_c0']"
      ]
     },
     "execution_count": 7,
     "metadata": {},
     "output_type": "execute_result"
    },
    {
     "data": {
      "text/plain": [
       "['MNXM121_c0']"
      ]
     },
     "execution_count": 7,
     "metadata": {},
     "output_type": "execute_result"
    },
    {
     "data": {
      "text/plain": [
       "['MNXM1163_c0']"
      ]
     },
     "execution_count": 7,
     "metadata": {},
     "output_type": "execute_result"
    },
    {
     "data": {
      "text/plain": [
       "['MNXM1453_c0']"
      ]
     },
     "execution_count": 7,
     "metadata": {},
     "output_type": "execute_result"
    },
    {
     "data": {
      "text/plain": [
       "['MNXM1210_c0']"
      ]
     },
     "execution_count": 7,
     "metadata": {},
     "output_type": "execute_result"
    },
    {
     "data": {
      "text/plain": [
       "['MNXM611_c0']"
      ]
     },
     "execution_count": 7,
     "metadata": {},
     "output_type": "execute_result"
    },
    {
     "data": {
      "text/plain": [
       "['MNXM40494_e0']"
      ]
     },
     "execution_count": 7,
     "metadata": {},
     "output_type": "execute_result"
    },
    {
     "data": {
      "text/plain": [
       "['MNXM309_c0']"
      ]
     },
     "execution_count": 7,
     "metadata": {},
     "output_type": "execute_result"
    },
    {
     "data": {
      "text/plain": [
       "['MNXM28221_c0']"
      ]
     },
     "execution_count": 7,
     "metadata": {},
     "output_type": "execute_result"
    },
    {
     "data": {
      "text/plain": [
       "['MNXM151_c0']"
      ]
     },
     "execution_count": 7,
     "metadata": {},
     "output_type": "execute_result"
    },
    {
     "data": {
      "text/plain": [
       "['MNXM392_c0']"
      ]
     },
     "execution_count": 7,
     "metadata": {},
     "output_type": "execute_result"
    },
    {
     "data": {
      "text/plain": [
       "['MNXM162338_c0']"
      ]
     },
     "execution_count": 7,
     "metadata": {},
     "output_type": "execute_result"
    },
    {
     "data": {
      "text/plain": [
       "['MNXM1552_c0']"
      ]
     },
     "execution_count": 7,
     "metadata": {},
     "output_type": "execute_result"
    },
    {
     "data": {
      "text/plain": [
       "['MNXM1037_c0']"
      ]
     },
     "execution_count": 7,
     "metadata": {},
     "output_type": "execute_result"
    },
    {
     "data": {
      "text/plain": [
       "['MNXM3148_c0']"
      ]
     },
     "execution_count": 7,
     "metadata": {},
     "output_type": "execute_result"
    },
    {
     "data": {
      "text/plain": [
       "['MNXM2182_c0']"
      ]
     },
     "execution_count": 7,
     "metadata": {},
     "output_type": "execute_result"
    },
    {
     "data": {
      "text/plain": [
       "['MNXM650_c0']"
      ]
     },
     "execution_count": 7,
     "metadata": {},
     "output_type": "execute_result"
    },
    {
     "data": {
      "text/plain": [
       "['MNXM1004_c0']"
      ]
     },
     "execution_count": 7,
     "metadata": {},
     "output_type": "execute_result"
    },
    {
     "data": {
      "text/plain": [
       "['MNXM795_c0']"
      ]
     },
     "execution_count": 7,
     "metadata": {},
     "output_type": "execute_result"
    },
    {
     "data": {
      "text/plain": [
       "['MNXM1324_c0']"
      ]
     },
     "execution_count": 7,
     "metadata": {},
     "output_type": "execute_result"
    },
    {
     "data": {
      "text/plain": [
       "['MNXM1750_c0']"
      ]
     },
     "execution_count": 7,
     "metadata": {},
     "output_type": "execute_result"
    },
    {
     "data": {
      "text/plain": [
       "['MNXM1675_c0']"
      ]
     },
     "execution_count": 7,
     "metadata": {},
     "output_type": "execute_result"
    },
    {
     "data": {
      "text/plain": [
       "['MNXM90068_c0']"
      ]
     },
     "execution_count": 7,
     "metadata": {},
     "output_type": "execute_result"
    },
    {
     "data": {
      "text/plain": [
       "['MNXM449_c0']"
      ]
     },
     "execution_count": 7,
     "metadata": {},
     "output_type": "execute_result"
    },
    {
     "data": {
      "text/plain": [
       "['MNXM665_c0']"
      ]
     },
     "execution_count": 7,
     "metadata": {},
     "output_type": "execute_result"
    },
    {
     "data": {
      "text/plain": [
       "['MNXM90003_c0']"
      ]
     },
     "execution_count": 7,
     "metadata": {},
     "output_type": "execute_result"
    },
    {
     "data": {
      "text/plain": [
       "['MNXM1641_c0']"
      ]
     },
     "execution_count": 7,
     "metadata": {},
     "output_type": "execute_result"
    },
    {
     "data": {
      "text/plain": [
       "['MNXM90768_c0']"
      ]
     },
     "execution_count": 7,
     "metadata": {},
     "output_type": "execute_result"
    },
    {
     "data": {
      "text/plain": [
       "['MNXM45856_c0']"
      ]
     },
     "execution_count": 7,
     "metadata": {},
     "output_type": "execute_result"
    },
    {
     "data": {
      "text/plain": [
       "['MNXM1661_c0']"
      ]
     },
     "execution_count": 7,
     "metadata": {},
     "output_type": "execute_result"
    },
    {
     "data": {
      "text/plain": [
       "['MNXM1408_c0']"
      ]
     },
     "execution_count": 7,
     "metadata": {},
     "output_type": "execute_result"
    },
    {
     "data": {
      "text/plain": [
       "['MNXM386_c0']"
      ]
     },
     "execution_count": 7,
     "metadata": {},
     "output_type": "execute_result"
    },
    {
     "data": {
      "text/plain": [
       "['MNXM789_c0']"
      ]
     },
     "execution_count": 7,
     "metadata": {},
     "output_type": "execute_result"
    },
    {
     "data": {
      "text/plain": [
       "['MNXM2576_c0']"
      ]
     },
     "execution_count": 7,
     "metadata": {},
     "output_type": "execute_result"
    },
    {
     "data": {
      "text/plain": [
       "['MNXM4345_c0']"
      ]
     },
     "execution_count": 7,
     "metadata": {},
     "output_type": "execute_result"
    },
    {
     "data": {
      "text/plain": [
       "['MNXM2214_c0']"
      ]
     },
     "execution_count": 7,
     "metadata": {},
     "output_type": "execute_result"
    },
    {
     "data": {
      "text/plain": [
       "['MNXM1627_c0']"
      ]
     },
     "execution_count": 7,
     "metadata": {},
     "output_type": "execute_result"
    },
    {
     "data": {
      "text/plain": [
       "['MNXM1484_c0']"
      ]
     },
     "execution_count": 7,
     "metadata": {},
     "output_type": "execute_result"
    },
    {
     "data": {
      "text/plain": [
       "['MNXM2392_c0']"
      ]
     },
     "execution_count": 7,
     "metadata": {},
     "output_type": "execute_result"
    },
    {
     "data": {
      "text/plain": [
       "['MNXM254_c0']"
      ]
     },
     "execution_count": 7,
     "metadata": {},
     "output_type": "execute_result"
    },
    {
     "data": {
      "text/plain": [
       "['MNXM1233_e0']"
      ]
     },
     "execution_count": 7,
     "metadata": {},
     "output_type": "execute_result"
    },
    {
     "data": {
      "text/plain": [
       "['MNXM1667_c0']"
      ]
     },
     "execution_count": 7,
     "metadata": {},
     "output_type": "execute_result"
    },
    {
     "data": {
      "text/plain": [
       "['MNXM1263_c0']"
      ]
     },
     "execution_count": 7,
     "metadata": {},
     "output_type": "execute_result"
    },
    {
     "data": {
      "text/plain": [
       "['MNXM4040_c0']"
      ]
     },
     "execution_count": 7,
     "metadata": {},
     "output_type": "execute_result"
    },
    {
     "data": {
      "text/plain": [
       "['MNXM4661_c0']"
      ]
     },
     "execution_count": 7,
     "metadata": {},
     "output_type": "execute_result"
    },
    {
     "data": {
      "text/plain": [
       "['MNXM90394_c0']"
      ]
     },
     "execution_count": 7,
     "metadata": {},
     "output_type": "execute_result"
    },
    {
     "data": {
      "text/plain": [
       "['MNXM496_c0']"
      ]
     },
     "execution_count": 7,
     "metadata": {},
     "output_type": "execute_result"
    },
    {
     "data": {
      "text/plain": [
       "['MNXM192_c0']"
      ]
     },
     "execution_count": 7,
     "metadata": {},
     "output_type": "execute_result"
    },
    {
     "data": {
      "text/plain": [
       "['MNXM172_c0']"
      ]
     },
     "execution_count": 7,
     "metadata": {},
     "output_type": "execute_result"
    },
    {
     "data": {
      "text/plain": [
       "['MNXM145761_c0']"
      ]
     },
     "execution_count": 7,
     "metadata": {},
     "output_type": "execute_result"
    },
    {
     "data": {
      "text/plain": [
       "['MNXM55375_c0']"
      ]
     },
     "execution_count": 7,
     "metadata": {},
     "output_type": "execute_result"
    },
    {
     "data": {
      "text/plain": [
       "['MNXM1148_c0']"
      ]
     },
     "execution_count": 7,
     "metadata": {},
     "output_type": "execute_result"
    },
    {
     "data": {
      "text/plain": [
       "['MNXM8666_c0']"
      ]
     },
     "execution_count": 7,
     "metadata": {},
     "output_type": "execute_result"
    },
    {
     "data": {
      "text/plain": [
       "['MNXM2846_c0']"
      ]
     },
     "execution_count": 7,
     "metadata": {},
     "output_type": "execute_result"
    },
    {
     "data": {
      "text/plain": [
       "['MNXM2342_c0']"
      ]
     },
     "execution_count": 7,
     "metadata": {},
     "output_type": "execute_result"
    },
    {
     "data": {
      "text/plain": [
       "['MNXM91053_c0']"
      ]
     },
     "execution_count": 7,
     "metadata": {},
     "output_type": "execute_result"
    },
    {
     "data": {
      "text/plain": [
       "['MNXM514_c0']"
      ]
     },
     "execution_count": 7,
     "metadata": {},
     "output_type": "execute_result"
    },
    {
     "data": {
      "text/plain": [
       "['MNXM491_c0']"
      ]
     },
     "execution_count": 7,
     "metadata": {},
     "output_type": "execute_result"
    },
    {
     "data": {
      "text/plain": [
       "['MNXM1715_c0']"
      ]
     },
     "execution_count": 7,
     "metadata": {},
     "output_type": "execute_result"
    },
    {
     "data": {
      "text/plain": [
       "['MNXM4507_c0']"
      ]
     },
     "execution_count": 7,
     "metadata": {},
     "output_type": "execute_result"
    },
    {
     "data": {
      "text/plain": [
       "['MNXM5464_c0']"
      ]
     },
     "execution_count": 7,
     "metadata": {},
     "output_type": "execute_result"
    },
    {
     "data": {
      "text/plain": [
       "['MNXM6119_c0']"
      ]
     },
     "execution_count": 7,
     "metadata": {},
     "output_type": "execute_result"
    },
    {
     "data": {
      "text/plain": [
       "['MNXM7058_c0']"
      ]
     },
     "execution_count": 7,
     "metadata": {},
     "output_type": "execute_result"
    },
    {
     "data": {
      "text/plain": [
       "['MNXM27066_c0']"
      ]
     },
     "execution_count": 7,
     "metadata": {},
     "output_type": "execute_result"
    },
    {
     "data": {
      "text/plain": [
       "['MNXM94_c0']"
      ]
     },
     "execution_count": 7,
     "metadata": {},
     "output_type": "execute_result"
    },
    {
     "data": {
      "text/plain": [
       "['MNXM806_c0']"
      ]
     },
     "execution_count": 7,
     "metadata": {},
     "output_type": "execute_result"
    },
    {
     "data": {
      "text/plain": [
       "['MNXM328_c0']"
      ]
     },
     "execution_count": 7,
     "metadata": {},
     "output_type": "execute_result"
    },
    {
     "data": {
      "text/plain": [
       "['MNXM410_c0']"
      ]
     },
     "execution_count": 7,
     "metadata": {},
     "output_type": "execute_result"
    },
    {
     "data": {
      "text/plain": [
       "['MNXM1547_c0']"
      ]
     },
     "execution_count": 7,
     "metadata": {},
     "output_type": "execute_result"
    },
    {
     "data": {
      "text/plain": [
       "['MNXM209_c0']"
      ]
     },
     "execution_count": 7,
     "metadata": {},
     "output_type": "execute_result"
    },
    {
     "data": {
      "text/plain": [
       "['MNXM102_c0']"
      ]
     },
     "execution_count": 7,
     "metadata": {},
     "output_type": "execute_result"
    },
    {
     "data": {
      "text/plain": [
       "['MNXM364_e0']"
      ]
     },
     "execution_count": 7,
     "metadata": {},
     "output_type": "execute_result"
    },
    {
     "data": {
      "text/plain": [
       "['MNXM2212_c0']"
      ]
     },
     "execution_count": 7,
     "metadata": {},
     "output_type": "execute_result"
    },
    {
     "data": {
      "text/plain": [
       "['MNXM445_c0']"
      ]
     },
     "execution_count": 7,
     "metadata": {},
     "output_type": "execute_result"
    },
    {
     "data": {
      "text/plain": [
       "['MNXM199_c0']"
      ]
     },
     "execution_count": 7,
     "metadata": {},
     "output_type": "execute_result"
    },
    {
     "data": {
      "text/plain": [
       "['MNXM790_c0']"
      ]
     },
     "execution_count": 7,
     "metadata": {},
     "output_type": "execute_result"
    },
    {
     "data": {
      "text/plain": [
       "['MNXM916_c0']"
      ]
     },
     "execution_count": 7,
     "metadata": {},
     "output_type": "execute_result"
    },
    {
     "data": {
      "text/plain": [
       "['MNXM911_c0']"
      ]
     },
     "execution_count": 7,
     "metadata": {},
     "output_type": "execute_result"
    },
    {
     "data": {
      "text/plain": [
       "['MNXM1403_c0']"
      ]
     },
     "execution_count": 7,
     "metadata": {},
     "output_type": "execute_result"
    },
    {
     "data": {
      "text/plain": [
       "['MNXM3135_c0']"
      ]
     },
     "execution_count": 7,
     "metadata": {},
     "output_type": "execute_result"
    },
    {
     "data": {
      "text/plain": [
       "['MNXM40495_c0']"
      ]
     },
     "execution_count": 7,
     "metadata": {},
     "output_type": "execute_result"
    },
    {
     "data": {
      "text/plain": [
       "['MNXM1199_c0']"
      ]
     },
     "execution_count": 7,
     "metadata": {},
     "output_type": "execute_result"
    },
    {
     "data": {
      "text/plain": [
       "['MNXM1839_c0']"
      ]
     },
     "execution_count": 7,
     "metadata": {},
     "output_type": "execute_result"
    },
    {
     "data": {
      "text/plain": [
       "['MNXM233_c0']"
      ]
     },
     "execution_count": 7,
     "metadata": {},
     "output_type": "execute_result"
    },
    {
     "data": {
      "text/plain": [
       "['MNXM1903_c0']"
      ]
     },
     "execution_count": 7,
     "metadata": {},
     "output_type": "execute_result"
    },
    {
     "data": {
      "text/plain": [
       "['MNXM90440_c0']"
      ]
     },
     "execution_count": 7,
     "metadata": {},
     "output_type": "execute_result"
    },
    {
     "data": {
      "text/plain": [
       "['MNXM1312_c0']"
      ]
     },
     "execution_count": 7,
     "metadata": {},
     "output_type": "execute_result"
    },
    {
     "data": {
      "text/plain": [
       "['MNXM1317_c0']"
      ]
     },
     "execution_count": 7,
     "metadata": {},
     "output_type": "execute_result"
    },
    {
     "data": {
      "text/plain": [
       "['MNXM355_c0']"
      ]
     },
     "execution_count": 7,
     "metadata": {},
     "output_type": "execute_result"
    },
    {
     "data": {
      "text/plain": [
       "['MNXM1115_c0']"
      ]
     },
     "execution_count": 7,
     "metadata": {},
     "output_type": "execute_result"
    },
    {
     "data": {
      "text/plain": [
       "['MNXM15786_c0']"
      ]
     },
     "execution_count": 7,
     "metadata": {},
     "output_type": "execute_result"
    },
    {
     "data": {
      "text/plain": [
       "['MNXM3150_c0']"
      ]
     },
     "execution_count": 7,
     "metadata": {},
     "output_type": "execute_result"
    },
    {
     "data": {
      "text/plain": [
       "['MNXM2184_c0']"
      ]
     },
     "execution_count": 7,
     "metadata": {},
     "output_type": "execute_result"
    },
    {
     "data": {
      "text/plain": [
       "['MNXM1275_e0']"
      ]
     },
     "execution_count": 7,
     "metadata": {},
     "output_type": "execute_result"
    },
    {
     "data": {
      "text/plain": [
       "['MNXM452_c0']"
      ]
     },
     "execution_count": 7,
     "metadata": {},
     "output_type": "execute_result"
    },
    {
     "data": {
      "text/plain": [
       "['MNXM572_c0']"
      ]
     },
     "execution_count": 7,
     "metadata": {},
     "output_type": "execute_result"
    },
    {
     "data": {
      "text/plain": [
       "['MNXM1861_c0']"
      ]
     },
     "execution_count": 7,
     "metadata": {},
     "output_type": "execute_result"
    },
    {
     "data": {
      "text/plain": [
       "['MNXM1334_c0']"
      ]
     },
     "execution_count": 7,
     "metadata": {},
     "output_type": "execute_result"
    },
    {
     "data": {
      "text/plain": [
       "['MNXM1756_c0']"
      ]
     },
     "execution_count": 7,
     "metadata": {},
     "output_type": "execute_result"
    },
    {
     "data": {
      "text/plain": [
       "['MNXM1865_c0']"
      ]
     },
     "execution_count": 7,
     "metadata": {},
     "output_type": "execute_result"
    },
    {
     "data": {
      "text/plain": [
       "['MNXM480_c0']"
      ]
     },
     "execution_count": 7,
     "metadata": {},
     "output_type": "execute_result"
    },
    {
     "data": {
      "text/plain": [
       "['MNXM1642_c0']"
      ]
     },
     "execution_count": 7,
     "metadata": {},
     "output_type": "execute_result"
    },
    {
     "data": {
      "text/plain": [
       "['MNXM1278_c0']"
      ]
     },
     "execution_count": 7,
     "metadata": {},
     "output_type": "execute_result"
    },
    {
     "data": {
      "text/plain": [
       "['MNXM1392_c0']"
      ]
     },
     "execution_count": 7,
     "metadata": {},
     "output_type": "execute_result"
    },
    {
     "data": {
      "text/plain": [
       "['MNXM310_c0']"
      ]
     },
     "execution_count": 7,
     "metadata": {},
     "output_type": "execute_result"
    },
    {
     "data": {
      "text/plain": [
       "['MNXM8667_c0']"
      ]
     },
     "execution_count": 7,
     "metadata": {},
     "output_type": "execute_result"
    },
    {
     "data": {
      "text/plain": [
       "['MNXM540_c0']"
      ]
     },
     "execution_count": 7,
     "metadata": {},
     "output_type": "execute_result"
    },
    {
     "data": {
      "text/plain": [
       "['MNXM48464_c0']"
      ]
     },
     "execution_count": 7,
     "metadata": {},
     "output_type": "execute_result"
    },
    {
     "data": {
      "text/plain": [
       "['MNXM1423_c0']"
      ]
     },
     "execution_count": 7,
     "metadata": {},
     "output_type": "execute_result"
    },
    {
     "data": {
      "text/plain": [
       "['MNXM1365_c0']"
      ]
     },
     "execution_count": 7,
     "metadata": {},
     "output_type": "execute_result"
    },
    {
     "data": {
      "text/plain": [
       "['MNXM654_c0']"
      ]
     },
     "execution_count": 7,
     "metadata": {},
     "output_type": "execute_result"
    },
    {
     "data": {
      "text/plain": [
       "['MNXM89795_c0']"
      ]
     },
     "execution_count": 7,
     "metadata": {},
     "output_type": "execute_result"
    },
    {
     "data": {
      "text/plain": [
       "['MNXM9829_c0']"
      ]
     },
     "execution_count": 7,
     "metadata": {},
     "output_type": "execute_result"
    },
    {
     "data": {
      "text/plain": [
       "['MNXM433_c0']"
      ]
     },
     "execution_count": 7,
     "metadata": {},
     "output_type": "execute_result"
    },
    {
     "data": {
      "text/plain": [
       "['MNXM1089_c0']"
      ]
     },
     "execution_count": 7,
     "metadata": {},
     "output_type": "execute_result"
    },
    {
     "data": {
      "text/plain": [
       "['MNXM1707_c0']"
      ]
     },
     "execution_count": 7,
     "metadata": {},
     "output_type": "execute_result"
    },
    {
     "data": {
      "text/plain": [
       "['MNXM3229_c0']"
      ]
     },
     "execution_count": 7,
     "metadata": {},
     "output_type": "execute_result"
    },
    {
     "data": {
      "text/plain": [
       "['MNXM1372_c0']"
      ]
     },
     "execution_count": 7,
     "metadata": {},
     "output_type": "execute_result"
    },
    {
     "data": {
      "text/plain": [
       "['MNXM788_c0']"
      ]
     },
     "execution_count": 7,
     "metadata": {},
     "output_type": "execute_result"
    },
    {
     "data": {
      "text/plain": [
       "['MNXM1105_c0']"
      ]
     },
     "execution_count": 7,
     "metadata": {},
     "output_type": "execute_result"
    },
    {
     "data": {
      "text/plain": [
       "['MNXM2403_c0']"
      ]
     },
     "execution_count": 7,
     "metadata": {},
     "output_type": "execute_result"
    },
    {
     "data": {
      "text/plain": [
       "['MNXM1384_c0']"
      ]
     },
     "execution_count": 7,
     "metadata": {},
     "output_type": "execute_result"
    },
    {
     "data": {
      "text/plain": [
       "['MNXM2683_e0']"
      ]
     },
     "execution_count": 7,
     "metadata": {},
     "output_type": "execute_result"
    },
    {
     "data": {
      "text/plain": [
       "['MNXM2806_c0']"
      ]
     },
     "execution_count": 7,
     "metadata": {},
     "output_type": "execute_result"
    },
    {
     "data": {
      "text/plain": [
       "['MNXM436_c0']"
      ]
     },
     "execution_count": 7,
     "metadata": {},
     "output_type": "execute_result"
    },
    {
     "data": {
      "text/plain": [
       "['MNXM259_c0']"
      ]
     },
     "execution_count": 7,
     "metadata": {},
     "output_type": "execute_result"
    },
    {
     "data": {
      "text/plain": [
       "['MNXM257_c0']"
      ]
     },
     "execution_count": 7,
     "metadata": {},
     "output_type": "execute_result"
    },
    {
     "data": {
      "text/plain": [
       "['MNXM562_c0']"
      ]
     },
     "execution_count": 7,
     "metadata": {},
     "output_type": "execute_result"
    },
    {
     "data": {
      "text/plain": [
       "['MNXM974_c0']"
      ]
     },
     "execution_count": 7,
     "metadata": {},
     "output_type": "execute_result"
    },
    {
     "data": {
      "text/plain": [
       "['MNXM894_c0']"
      ]
     },
     "execution_count": 7,
     "metadata": {},
     "output_type": "execute_result"
    },
    {
     "data": {
      "text/plain": [
       "['MNXM2489_c0']"
      ]
     },
     "execution_count": 7,
     "metadata": {},
     "output_type": "execute_result"
    },
    {
     "data": {
      "text/plain": [
       "['MNXM471_c0']"
      ]
     },
     "execution_count": 7,
     "metadata": {},
     "output_type": "execute_result"
    },
    {
     "data": {
      "text/plain": [
       "['MNXM11852_c0']"
      ]
     },
     "execution_count": 7,
     "metadata": {},
     "output_type": "execute_result"
    },
    {
     "data": {
      "text/plain": [
       "['MNXM75104_c0']"
      ]
     },
     "execution_count": 7,
     "metadata": {},
     "output_type": "execute_result"
    },
    {
     "data": {
      "text/plain": [
       "['MNXM291_c0']"
      ]
     },
     "execution_count": 7,
     "metadata": {},
     "output_type": "execute_result"
    },
    {
     "data": {
      "text/plain": [
       "['MNXM1214_c0']"
      ]
     },
     "execution_count": 7,
     "metadata": {},
     "output_type": "execute_result"
    },
    {
     "data": {
      "text/plain": [
       "['MNXM7127_c0']"
      ]
     },
     "execution_count": 7,
     "metadata": {},
     "output_type": "execute_result"
    },
    {
     "data": {
      "text/plain": [
       "['MNXM26616_c0']"
      ]
     },
     "execution_count": 7,
     "metadata": {},
     "output_type": "execute_result"
    },
    {
     "data": {
      "text/plain": [
       "['MNXM1727_c0']"
      ]
     },
     "execution_count": 7,
     "metadata": {},
     "output_type": "execute_result"
    },
    {
     "data": {
      "text/plain": [
       "['MNXM1422_c0']"
      ]
     },
     "execution_count": 7,
     "metadata": {},
     "output_type": "execute_result"
    },
    {
     "data": {
      "text/plain": [
       "['MNXM365_c0']"
      ]
     },
     "execution_count": 7,
     "metadata": {},
     "output_type": "execute_result"
    },
    {
     "data": {
      "text/plain": [
       "['MNXM1897_c0']"
      ]
     },
     "execution_count": 7,
     "metadata": {},
     "output_type": "execute_result"
    },
    {
     "data": {
      "text/plain": [
       "['MNXM271_c0']"
      ]
     },
     "execution_count": 7,
     "metadata": {},
     "output_type": "execute_result"
    },
    {
     "data": {
      "text/plain": [
       "['MNXM90510_c0']"
      ]
     },
     "execution_count": 7,
     "metadata": {},
     "output_type": "execute_result"
    },
    {
     "data": {
      "text/plain": [
       "['MNXM1745_c0']"
      ]
     },
     "execution_count": 7,
     "metadata": {},
     "output_type": "execute_result"
    },
    {
     "data": {
      "text/plain": [
       "['MNXM1330_c0']"
      ]
     },
     "execution_count": 7,
     "metadata": {},
     "output_type": "execute_result"
    },
    {
     "data": {
      "text/plain": [
       "['MNXM63441_c0']"
      ]
     },
     "execution_count": 7,
     "metadata": {},
     "output_type": "execute_result"
    },
    {
     "data": {
      "text/plain": [
       "['MNXM25370_c0']"
      ]
     },
     "execution_count": 7,
     "metadata": {},
     "output_type": "execute_result"
    },
    {
     "data": {
      "text/plain": [
       "['MNXM618_c0']"
      ]
     },
     "execution_count": 7,
     "metadata": {},
     "output_type": "execute_result"
    },
    {
     "data": {
      "text/plain": [
       "['MNXM325_c0']"
      ]
     },
     "execution_count": 7,
     "metadata": {},
     "output_type": "execute_result"
    },
    {
     "data": {
      "text/plain": [
       "['MNXM32478_c0']"
      ]
     },
     "execution_count": 7,
     "metadata": {},
     "output_type": "execute_result"
    },
    {
     "data": {
      "text/plain": [
       "['MNXM497_c0']"
      ]
     },
     "execution_count": 7,
     "metadata": {},
     "output_type": "execute_result"
    },
    {
     "data": {
      "text/plain": [
       "['MNXM502_c0']"
      ]
     },
     "execution_count": 7,
     "metadata": {},
     "output_type": "execute_result"
    },
    {
     "data": {
      "text/plain": [
       "['MNXM935_e0']"
      ]
     },
     "execution_count": 7,
     "metadata": {},
     "output_type": "execute_result"
    },
    {
     "data": {
      "text/plain": [
       "['MNXM448_c0']"
      ]
     },
     "execution_count": 7,
     "metadata": {},
     "output_type": "execute_result"
    },
    {
     "data": {
      "text/plain": [
       "['MNXM160_c0']"
      ]
     },
     "execution_count": 7,
     "metadata": {},
     "output_type": "execute_result"
    },
    {
     "data": {
      "text/plain": [
       "['MNXM891_c0']"
      ]
     },
     "execution_count": 7,
     "metadata": {},
     "output_type": "execute_result"
    },
    {
     "data": {
      "text/plain": [
       "['MNXM1706_c0']"
      ]
     },
     "execution_count": 7,
     "metadata": {},
     "output_type": "execute_result"
    },
    {
     "data": {
      "text/plain": [
       "['MNXM1602_c0']"
      ]
     },
     "execution_count": 7,
     "metadata": {},
     "output_type": "execute_result"
    },
    {
     "data": {
      "text/plain": [
       "['MNXM689_c0']"
      ]
     },
     "execution_count": 7,
     "metadata": {},
     "output_type": "execute_result"
    },
    {
     "data": {
      "text/plain": [
       "['MNXM468_e0']"
      ]
     },
     "execution_count": 7,
     "metadata": {},
     "output_type": "execute_result"
    },
    {
     "data": {
      "text/plain": [
       "['MNXM207_c0']"
      ]
     },
     "execution_count": 7,
     "metadata": {},
     "output_type": "execute_result"
    },
    {
     "data": {
      "text/plain": [
       "['MNXM268_c0']"
      ]
     },
     "execution_count": 7,
     "metadata": {},
     "output_type": "execute_result"
    },
    {
     "data": {
      "text/plain": [
       "['MNXM1499_c0']"
      ]
     },
     "execution_count": 7,
     "metadata": {},
     "output_type": "execute_result"
    },
    {
     "data": {
      "text/plain": [
       "['MNXM298_c0']"
      ]
     },
     "execution_count": 7,
     "metadata": {},
     "output_type": "execute_result"
    },
    {
     "data": {
      "text/plain": [
       "['MNXM10780_c0']"
      ]
     },
     "execution_count": 7,
     "metadata": {},
     "output_type": "execute_result"
    },
    {
     "data": {
      "text/plain": [
       "['MNXM469_e0']"
      ]
     },
     "execution_count": 7,
     "metadata": {},
     "output_type": "execute_result"
    },
    {
     "data": {
      "text/plain": [
       "['MNXM393_c0']"
      ]
     },
     "execution_count": 7,
     "metadata": {},
     "output_type": "execute_result"
    },
    {
     "data": {
      "text/plain": [
       "['MNXM696_c0']"
      ]
     },
     "execution_count": 7,
     "metadata": {},
     "output_type": "execute_result"
    },
    {
     "data": {
      "text/plain": [
       "['MNXM2582_c0']"
      ]
     },
     "execution_count": 7,
     "metadata": {},
     "output_type": "execute_result"
    },
    {
     "data": {
      "text/plain": [
       "['MNXM90580_e0']"
      ]
     },
     "execution_count": 7,
     "metadata": {},
     "output_type": "execute_result"
    },
    {
     "data": {
      "text/plain": [
       "['MNXM333_c0']"
      ]
     },
     "execution_count": 7,
     "metadata": {},
     "output_type": "execute_result"
    },
    {
     "data": {
      "text/plain": [
       "['MNXM567_c0']"
      ]
     },
     "execution_count": 7,
     "metadata": {},
     "output_type": "execute_result"
    },
    {
     "data": {
      "text/plain": [
       "['MNXM126241_c0']"
      ]
     },
     "execution_count": 7,
     "metadata": {},
     "output_type": "execute_result"
    },
    {
     "data": {
      "text/plain": [
       "['MNXM5465_c0']"
      ]
     },
     "execution_count": 7,
     "metadata": {},
     "output_type": "execute_result"
    },
    {
     "data": {
      "text/plain": [
       "['MNXM1269_c0']"
      ]
     },
     "execution_count": 7,
     "metadata": {},
     "output_type": "execute_result"
    },
    {
     "data": {
      "text/plain": [
       "['MNXM1223_c0']"
      ]
     },
     "execution_count": 7,
     "metadata": {},
     "output_type": "execute_result"
    },
    {
     "data": {
      "text/plain": [
       "['MNXM2246_c0']"
      ]
     },
     "execution_count": 7,
     "metadata": {},
     "output_type": "execute_result"
    },
    {
     "data": {
      "text/plain": [
       "['MNXM1344_c0']"
      ]
     },
     "execution_count": 7,
     "metadata": {},
     "output_type": "execute_result"
    },
    {
     "data": {
      "text/plain": [
       "['MNXM3113_c0']"
      ]
     },
     "execution_count": 7,
     "metadata": {},
     "output_type": "execute_result"
    },
    {
     "data": {
      "text/plain": [
       "['MNXM1017_c0']"
      ]
     },
     "execution_count": 7,
     "metadata": {},
     "output_type": "execute_result"
    },
    {
     "data": {
      "text/plain": [
       "['MNXM3230_c0']"
      ]
     },
     "execution_count": 7,
     "metadata": {},
     "output_type": "execute_result"
    },
    {
     "data": {
      "text/plain": [
       "['MNXM138_c0']"
      ]
     },
     "execution_count": 7,
     "metadata": {},
     "output_type": "execute_result"
    },
    {
     "data": {
      "text/plain": [
       "['MNXM660_c0']"
      ]
     },
     "execution_count": 7,
     "metadata": {},
     "output_type": "execute_result"
    },
    {
     "data": {
      "text/plain": [
       "['MNXM45_c0']"
      ]
     },
     "execution_count": 7,
     "metadata": {},
     "output_type": "execute_result"
    },
    {
     "data": {
      "text/plain": [
       "['MNXM376_c0']"
      ]
     },
     "execution_count": 7,
     "metadata": {},
     "output_type": "execute_result"
    },
    {
     "data": {
      "text/plain": [
       "['MNXM1953_c0']"
      ]
     },
     "execution_count": 7,
     "metadata": {},
     "output_type": "execute_result"
    },
    {
     "data": {
      "text/plain": [
       "['MNXM44_c0']"
      ]
     },
     "execution_count": 7,
     "metadata": {},
     "output_type": "execute_result"
    },
    {
     "data": {
      "text/plain": [
       "['MNXM94364_c0']"
      ]
     },
     "execution_count": 7,
     "metadata": {},
     "output_type": "execute_result"
    },
    {
     "data": {
      "text/plain": [
       "['MNXM456_c0']"
      ]
     },
     "execution_count": 7,
     "metadata": {},
     "output_type": "execute_result"
    },
    {
     "data": {
      "text/plain": [
       "['MNXM275_c0']"
      ]
     },
     "execution_count": 7,
     "metadata": {},
     "output_type": "execute_result"
    },
    {
     "data": {
      "text/plain": [
       "['MNXM750_c0']"
      ]
     },
     "execution_count": 7,
     "metadata": {},
     "output_type": "execute_result"
    },
    {
     "data": {
      "text/plain": [
       "['MNXM3146_c0']"
      ]
     },
     "execution_count": 7,
     "metadata": {},
     "output_type": "execute_result"
    },
    {
     "data": {
      "text/plain": [
       "['MNXM486_c0']"
      ]
     },
     "execution_count": 7,
     "metadata": {},
     "output_type": "execute_result"
    },
    {
     "data": {
      "text/plain": [
       "['MNXM216_c0']"
      ]
     },
     "execution_count": 7,
     "metadata": {},
     "output_type": "execute_result"
    },
    {
     "data": {
      "text/plain": [
       "['MNXM274_c0']"
      ]
     },
     "execution_count": 7,
     "metadata": {},
     "output_type": "execute_result"
    },
    {
     "data": {
      "text/plain": [
       "['MNXM7861_c0']"
      ]
     },
     "execution_count": 7,
     "metadata": {},
     "output_type": "execute_result"
    },
    {
     "data": {
      "text/plain": [
       "['MNXM2040_c0']"
      ]
     },
     "execution_count": 7,
     "metadata": {},
     "output_type": "execute_result"
    },
    {
     "data": {
      "text/plain": [
       "['MNXM453_c0']"
      ]
     },
     "execution_count": 7,
     "metadata": {},
     "output_type": "execute_result"
    },
    {
     "data": {
      "text/plain": [
       "['MNXM463_c0']"
      ]
     },
     "execution_count": 7,
     "metadata": {},
     "output_type": "execute_result"
    },
    {
     "data": {
      "text/plain": [
       "['MNXM91374_c0']"
      ]
     },
     "execution_count": 7,
     "metadata": {},
     "output_type": "execute_result"
    },
    {
     "data": {
      "text/plain": [
       "['MNXM2063_c0']"
      ]
     },
     "execution_count": 7,
     "metadata": {},
     "output_type": "execute_result"
    },
    {
     "data": {
      "text/plain": [
       "['MNXM677_c0']"
      ]
     },
     "execution_count": 7,
     "metadata": {},
     "output_type": "execute_result"
    },
    {
     "data": {
      "text/plain": [
       "['MNXM1231_c0']"
      ]
     },
     "execution_count": 7,
     "metadata": {},
     "output_type": "execute_result"
    },
    {
     "data": {
      "text/plain": [
       "['MNXM2036_c0']"
      ]
     },
     "execution_count": 7,
     "metadata": {},
     "output_type": "execute_result"
    },
    {
     "data": {
      "text/plain": [
       "['MNXM947_c0']"
      ]
     },
     "execution_count": 7,
     "metadata": {},
     "output_type": "execute_result"
    },
    {
     "data": {
      "text/plain": [
       "['MNXM2512_c0']"
      ]
     },
     "execution_count": 7,
     "metadata": {},
     "output_type": "execute_result"
    },
    {
     "data": {
      "text/plain": [
       "['MNXM48596_c0']"
      ]
     },
     "execution_count": 7,
     "metadata": {},
     "output_type": "execute_result"
    },
    {
     "data": {
      "text/plain": [
       "['MNXM653_e0']"
      ]
     },
     "execution_count": 7,
     "metadata": {},
     "output_type": "execute_result"
    },
    {
     "data": {
      "text/plain": [
       "['MNXM130_c0']"
      ]
     },
     "execution_count": 7,
     "metadata": {},
     "output_type": "execute_result"
    },
    {
     "data": {
      "text/plain": [
       "['MNXM482_c0']"
      ]
     },
     "execution_count": 7,
     "metadata": {},
     "output_type": "execute_result"
    },
    {
     "data": {
      "text/plain": [
       "['MNXM204_c0']"
      ]
     },
     "execution_count": 7,
     "metadata": {},
     "output_type": "execute_result"
    },
    {
     "data": {
      "text/plain": [
       "['MNXM1134_c0']"
      ]
     },
     "execution_count": 7,
     "metadata": {},
     "output_type": "execute_result"
    },
    {
     "data": {
      "text/plain": [
       "['MNXM2784_c0']"
      ]
     },
     "execution_count": 7,
     "metadata": {},
     "output_type": "execute_result"
    },
    {
     "data": {
      "text/plain": [
       "['MNXM1264_c0']"
      ]
     },
     "execution_count": 7,
     "metadata": {},
     "output_type": "execute_result"
    },
    {
     "data": {
      "text/plain": [
       "['MNXM182_e0']"
      ]
     },
     "execution_count": 7,
     "metadata": {},
     "output_type": "execute_result"
    },
    {
     "data": {
      "text/plain": [
       "['MNXM427_c0']"
      ]
     },
     "execution_count": 7,
     "metadata": {},
     "output_type": "execute_result"
    },
    {
     "data": {
      "text/plain": [
       "['MNXM1141_c0']"
      ]
     },
     "execution_count": 7,
     "metadata": {},
     "output_type": "execute_result"
    },
    {
     "data": {
      "text/plain": [
       "['MNXM1140_c0']"
      ]
     },
     "execution_count": 7,
     "metadata": {},
     "output_type": "execute_result"
    },
    {
     "data": {
      "text/plain": [
       "['MNXM3090_c0']"
      ]
     },
     "execution_count": 7,
     "metadata": {},
     "output_type": "execute_result"
    },
    {
     "data": {
      "text/plain": [
       "['MNXM173_c0']"
      ]
     },
     "execution_count": 7,
     "metadata": {},
     "output_type": "execute_result"
    },
    {
     "data": {
      "text/plain": [
       "['MNXM1757_c0']"
      ]
     },
     "execution_count": 7,
     "metadata": {},
     "output_type": "execute_result"
    },
    {
     "data": {
      "text/plain": [
       "['MNXM1489_c0']"
      ]
     },
     "execution_count": 7,
     "metadata": {},
     "output_type": "execute_result"
    },
    {
     "data": {
      "text/plain": [
       "['MNXM1455_c0']"
      ]
     },
     "execution_count": 7,
     "metadata": {},
     "output_type": "execute_result"
    },
    {
     "data": {
      "text/plain": [
       "['MNXM303_c0']"
      ]
     },
     "execution_count": 7,
     "metadata": {},
     "output_type": "execute_result"
    },
    {
     "data": {
      "text/plain": [
       "['MNXM379_c0']"
      ]
     },
     "execution_count": 7,
     "metadata": {},
     "output_type": "execute_result"
    },
    {
     "data": {
      "text/plain": [
       "['MNXM8633_c0']"
      ]
     },
     "execution_count": 7,
     "metadata": {},
     "output_type": "execute_result"
    },
    {
     "data": {
      "text/plain": [
       "['MNXM90960_c0']"
      ]
     },
     "execution_count": 7,
     "metadata": {},
     "output_type": "execute_result"
    },
    {
     "data": {
      "text/plain": [
       "['MNXM2379_c0']"
      ]
     },
     "execution_count": 7,
     "metadata": {},
     "output_type": "execute_result"
    },
    {
     "data": {
      "text/plain": [
       "['MNXM1514_c0']"
      ]
     },
     "execution_count": 7,
     "metadata": {},
     "output_type": "execute_result"
    },
    {
     "data": {
      "text/plain": [
       "['MNXM32181_c0']"
      ]
     },
     "execution_count": 7,
     "metadata": {},
     "output_type": "execute_result"
    },
    {
     "data": {
      "text/plain": [
       "['MNXM32178_c0']"
      ]
     },
     "execution_count": 7,
     "metadata": {},
     "output_type": "execute_result"
    },
    {
     "data": {
      "text/plain": [
       "['MNXM11520_c0']"
      ]
     },
     "execution_count": 7,
     "metadata": {},
     "output_type": "execute_result"
    },
    {
     "data": {
      "text/plain": [
       "['MNXM3509_c0']"
      ]
     },
     "execution_count": 7,
     "metadata": {},
     "output_type": "execute_result"
    },
    {
     "data": {
      "text/plain": [
       "['MNXM24502_c0']"
      ]
     },
     "execution_count": 7,
     "metadata": {},
     "output_type": "execute_result"
    },
    {
     "data": {
      "text/plain": [
       "['MNXM90412_e0']"
      ]
     },
     "execution_count": 7,
     "metadata": {},
     "output_type": "execute_result"
    },
    {
     "data": {
      "text/plain": [
       "['MNXM1638_c0']"
      ]
     },
     "execution_count": 7,
     "metadata": {},
     "output_type": "execute_result"
    },
    {
     "data": {
      "text/plain": [
       "['MNXM389_c0']"
      ]
     },
     "execution_count": 7,
     "metadata": {},
     "output_type": "execute_result"
    },
    {
     "data": {
      "text/plain": [
       "['MNXM975_c0']"
      ]
     },
     "execution_count": 7,
     "metadata": {},
     "output_type": "execute_result"
    },
    {
     "data": {
      "text/plain": [
       "['MNXM59594_c0']"
      ]
     },
     "execution_count": 7,
     "metadata": {},
     "output_type": "execute_result"
    },
    {
     "data": {
      "text/plain": [
       "['MNXM1532_c0']"
      ]
     },
     "execution_count": 7,
     "metadata": {},
     "output_type": "execute_result"
    },
    {
     "data": {
      "text/plain": [
       "['MNXM91793_c0']"
      ]
     },
     "execution_count": 7,
     "metadata": {},
     "output_type": "execute_result"
    },
    {
     "data": {
      "text/plain": [
       "['MNXM311_c0']"
      ]
     },
     "execution_count": 7,
     "metadata": {},
     "output_type": "execute_result"
    },
    {
     "data": {
      "text/plain": [
       "['MNXM829_c0']"
      ]
     },
     "execution_count": 7,
     "metadata": {},
     "output_type": "execute_result"
    },
    {
     "data": {
      "text/plain": [
       "['MNXM766_c0']"
      ]
     },
     "execution_count": 7,
     "metadata": {},
     "output_type": "execute_result"
    },
    {
     "data": {
      "text/plain": [
       "['MNXM429_c0']"
      ]
     },
     "execution_count": 7,
     "metadata": {},
     "output_type": "execute_result"
    },
    {
     "data": {
      "text/plain": [
       "['MNXM2157_c0']"
      ]
     },
     "execution_count": 7,
     "metadata": {},
     "output_type": "execute_result"
    },
    {
     "data": {
      "text/plain": [
       "['MNXM2195_c0']"
      ]
     },
     "execution_count": 7,
     "metadata": {},
     "output_type": "execute_result"
    },
    {
     "data": {
      "text/plain": [
       "['MNXM12596_c0']"
      ]
     },
     "execution_count": 7,
     "metadata": {},
     "output_type": "execute_result"
    },
    {
     "data": {
      "text/plain": [
       "['MNXM154_c0']"
      ]
     },
     "execution_count": 7,
     "metadata": {},
     "output_type": "execute_result"
    },
    {
     "data": {
      "text/plain": [
       "['MNXM574_c0']"
      ]
     },
     "execution_count": 7,
     "metadata": {},
     "output_type": "execute_result"
    },
    {
     "data": {
      "text/plain": [
       "['MNXM1741_c0']"
      ]
     },
     "execution_count": 7,
     "metadata": {},
     "output_type": "execute_result"
    },
    {
     "data": {
      "text/plain": [
       "['MNXM603_c0']"
      ]
     },
     "execution_count": 7,
     "metadata": {},
     "output_type": "execute_result"
    },
    {
     "data": {
      "text/plain": [
       "['MNXM858_c0']"
      ]
     },
     "execution_count": 7,
     "metadata": {},
     "output_type": "execute_result"
    },
    {
     "data": {
      "text/plain": [
       "['MNXM573_c0']"
      ]
     },
     "execution_count": 7,
     "metadata": {},
     "output_type": "execute_result"
    },
    {
     "data": {
      "text/plain": [
       "['MNXM961_c0']"
      ]
     },
     "execution_count": 7,
     "metadata": {},
     "output_type": "execute_result"
    },
    {
     "data": {
      "text/plain": [
       "['MNXM535_c0']"
      ]
     },
     "execution_count": 7,
     "metadata": {},
     "output_type": "execute_result"
    },
    {
     "data": {
      "text/plain": [
       "['MNXM2179_c0']"
      ]
     },
     "execution_count": 7,
     "metadata": {},
     "output_type": "execute_result"
    },
    {
     "data": {
      "text/plain": [
       "['MNXM1224_c0']"
      ]
     },
     "execution_count": 7,
     "metadata": {},
     "output_type": "execute_result"
    },
    {
     "data": {
      "text/plain": [
       "['MNXM1539_c0']"
      ]
     },
     "execution_count": 7,
     "metadata": {},
     "output_type": "execute_result"
    },
    {
     "data": {
      "text/plain": [
       "['MNXM2158_c0']"
      ]
     },
     "execution_count": 7,
     "metadata": {},
     "output_type": "execute_result"
    },
    {
     "data": {
      "text/plain": [
       "['MNXM1238_c0']"
      ]
     },
     "execution_count": 7,
     "metadata": {},
     "output_type": "execute_result"
    },
    {
     "data": {
      "text/plain": [
       "['MNXM2562_c0']"
      ]
     },
     "execution_count": 7,
     "metadata": {},
     "output_type": "execute_result"
    },
    {
     "data": {
      "text/plain": [
       "['MNXM705_c0']"
      ]
     },
     "execution_count": 7,
     "metadata": {},
     "output_type": "execute_result"
    },
    {
     "data": {
      "text/plain": [
       "['MNXM1802_c0']"
      ]
     },
     "execution_count": 7,
     "metadata": {},
     "output_type": "execute_result"
    },
    {
     "data": {
      "text/plain": [
       "['MNXM1154_c0']"
      ]
     },
     "execution_count": 7,
     "metadata": {},
     "output_type": "execute_result"
    },
    {
     "data": {
      "text/plain": [
       "['MNXM1226_c0']"
      ]
     },
     "execution_count": 7,
     "metadata": {},
     "output_type": "execute_result"
    },
    {
     "data": {
      "text/plain": [
       "['MNXM949_c0']"
      ]
     },
     "execution_count": 7,
     "metadata": {},
     "output_type": "execute_result"
    },
    {
     "data": {
      "text/plain": [
       "['MNXM36578_c0']"
      ]
     },
     "execution_count": 7,
     "metadata": {},
     "output_type": "execute_result"
    },
    {
     "data": {
      "text/plain": [
       "['MNXM4339_c0']"
      ]
     },
     "execution_count": 7,
     "metadata": {},
     "output_type": "execute_result"
    },
    {
     "data": {
      "text/plain": [
       "['MNXM322_c0']"
      ]
     },
     "execution_count": 7,
     "metadata": {},
     "output_type": "execute_result"
    },
    {
     "data": {
      "text/plain": [
       "['MNXM962_c0']"
      ]
     },
     "execution_count": 7,
     "metadata": {},
     "output_type": "execute_result"
    },
    {
     "data": {
      "text/plain": [
       "['MNXM384_c0']"
      ]
     },
     "execution_count": 7,
     "metadata": {},
     "output_type": "execute_result"
    },
    {
     "data": {
      "text/plain": [
       "['MNXM1488_c0']"
      ]
     },
     "execution_count": 7,
     "metadata": {},
     "output_type": "execute_result"
    },
    {
     "data": {
      "text/plain": [
       "['MNXM1563_c0']"
      ]
     },
     "execution_count": 7,
     "metadata": {},
     "output_type": "execute_result"
    },
    {
     "data": {
      "text/plain": [
       "['MNXM3059_c0']"
      ]
     },
     "execution_count": 7,
     "metadata": {},
     "output_type": "execute_result"
    },
    {
     "data": {
      "text/plain": [
       "['MNXM434_c0']"
      ]
     },
     "execution_count": 7,
     "metadata": {},
     "output_type": "execute_result"
    },
    {
     "data": {
      "text/plain": [
       "['MNXM90703_c0']"
      ]
     },
     "execution_count": 7,
     "metadata": {},
     "output_type": "execute_result"
    },
    {
     "data": {
      "text/plain": [
       "['MNXM107505_c0']"
      ]
     },
     "execution_count": 7,
     "metadata": {},
     "output_type": "execute_result"
    },
    {
     "data": {
      "text/plain": [
       "['MNXM100_c0']"
      ]
     },
     "execution_count": 7,
     "metadata": {},
     "output_type": "execute_result"
    },
    {
     "data": {
      "text/plain": [
       "['MNXM91788_c0']"
      ]
     },
     "execution_count": 7,
     "metadata": {},
     "output_type": "execute_result"
    },
    {
     "data": {
      "text/plain": [
       "['MNXM32179_c0']"
      ]
     },
     "execution_count": 7,
     "metadata": {},
     "output_type": "execute_result"
    },
    {
     "data": {
      "text/plain": [
       "['MNXM81221_c0']"
      ]
     },
     "execution_count": 7,
     "metadata": {},
     "output_type": "execute_result"
    },
    {
     "data": {
      "text/plain": [
       "['MNXM114091_c0']"
      ]
     },
     "execution_count": 7,
     "metadata": {},
     "output_type": "execute_result"
    },
    {
     "data": {
      "text/plain": [
       "['MNXM157_c0']"
      ]
     },
     "execution_count": 7,
     "metadata": {},
     "output_type": "execute_result"
    },
    {
     "data": {
      "text/plain": [
       "['MNXM404_c0']"
      ]
     },
     "execution_count": 7,
     "metadata": {},
     "output_type": "execute_result"
    },
    {
     "data": {
      "text/plain": [
       "['MNXM437_c0']"
      ]
     },
     "execution_count": 7,
     "metadata": {},
     "output_type": "execute_result"
    },
    {
     "data": {
      "text/plain": [
       "['MNXM352_c0']"
      ]
     },
     "execution_count": 7,
     "metadata": {},
     "output_type": "execute_result"
    },
    {
     "data": {
      "text/plain": [
       "['MNXM1875_c0']"
      ]
     },
     "execution_count": 7,
     "metadata": {},
     "output_type": "execute_result"
    },
    {
     "data": {
      "text/plain": [
       "['MNXM1310_c0']"
      ]
     },
     "execution_count": 7,
     "metadata": {},
     "output_type": "execute_result"
    },
    {
     "data": {
      "text/plain": [
       "['MNXM1434_c0']"
      ]
     },
     "execution_count": 7,
     "metadata": {},
     "output_type": "execute_result"
    },
    {
     "data": {
      "text/plain": [
       "['MNXM6123_c0']"
      ]
     },
     "execution_count": 7,
     "metadata": {},
     "output_type": "execute_result"
    },
    {
     "data": {
      "text/plain": [
       "['MNXM2210_c0']"
      ]
     },
     "execution_count": 7,
     "metadata": {},
     "output_type": "execute_result"
    },
    {
     "data": {
      "text/plain": [
       "['MNXM621_c0']"
      ]
     },
     "execution_count": 7,
     "metadata": {},
     "output_type": "execute_result"
    },
    {
     "data": {
      "text/plain": [
       "['MNXM1176_c0']"
      ]
     },
     "execution_count": 7,
     "metadata": {},
     "output_type": "execute_result"
    },
    {
     "data": {
      "text/plain": [
       "['MNXM44096_c0']"
      ]
     },
     "execution_count": 7,
     "metadata": {},
     "output_type": "execute_result"
    },
    {
     "data": {
      "text/plain": [
       "['MNXM1029_c0']"
      ]
     },
     "execution_count": 7,
     "metadata": {},
     "output_type": "execute_result"
    },
    {
     "data": {
      "text/plain": [
       "['MNXM1562_c0']"
      ]
     },
     "execution_count": 7,
     "metadata": {},
     "output_type": "execute_result"
    },
    {
     "data": {
      "text/plain": [
       "['MNXM91047_c0']"
      ]
     },
     "execution_count": 7,
     "metadata": {},
     "output_type": "execute_result"
    },
    {
     "data": {
      "text/plain": [
       "['MNXM1288_c0']"
      ]
     },
     "execution_count": 7,
     "metadata": {},
     "output_type": "execute_result"
    },
    {
     "data": {
      "text/plain": [
       "['MNXM260_c0']"
      ]
     },
     "execution_count": 7,
     "metadata": {},
     "output_type": "execute_result"
    },
    {
     "data": {
      "text/plain": [
       "['MNXM5491_c0']"
      ]
     },
     "execution_count": 7,
     "metadata": {},
     "output_type": "execute_result"
    },
    {
     "data": {
      "text/plain": [
       "['MNXM419_c0']"
      ]
     },
     "execution_count": 7,
     "metadata": {},
     "output_type": "execute_result"
    },
    {
     "data": {
      "text/plain": [
       "['MNXM44103_c0']"
      ]
     },
     "execution_count": 7,
     "metadata": {},
     "output_type": "execute_result"
    },
    {
     "data": {
      "text/plain": [
       "['MNXM61741_c0']"
      ]
     },
     "execution_count": 7,
     "metadata": {},
     "output_type": "execute_result"
    },
    {
     "data": {
      "text/plain": [
       "['MNXM1333_c0']"
      ]
     },
     "execution_count": 7,
     "metadata": {},
     "output_type": "execute_result"
    },
    {
     "data": {
      "text/plain": [
       "['MNXM548_c0']"
      ]
     },
     "execution_count": 7,
     "metadata": {},
     "output_type": "execute_result"
    },
    {
     "data": {
      "text/plain": [
       "['MNXM672_c0']"
      ]
     },
     "execution_count": 7,
     "metadata": {},
     "output_type": "execute_result"
    },
    {
     "data": {
      "text/plain": [
       "['MNXM4419_c0']"
      ]
     },
     "execution_count": 7,
     "metadata": {},
     "output_type": "execute_result"
    },
    {
     "data": {
      "text/plain": [
       "['MNXM724_c0']"
      ]
     },
     "execution_count": 7,
     "metadata": {},
     "output_type": "execute_result"
    },
    {
     "data": {
      "text/plain": [
       "['MNXM169_c0']"
      ]
     },
     "execution_count": 7,
     "metadata": {},
     "output_type": "execute_result"
    },
    {
     "data": {
      "text/plain": [
       "['MNXM178_c0']"
      ]
     },
     "execution_count": 7,
     "metadata": {},
     "output_type": "execute_result"
    },
    {
     "data": {
      "text/plain": [
       "['MNXM473_c0']"
      ]
     },
     "execution_count": 7,
     "metadata": {},
     "output_type": "execute_result"
    },
    {
     "data": {
      "text/plain": [
       "['MNXM1812_c0']"
      ]
     },
     "execution_count": 7,
     "metadata": {},
     "output_type": "execute_result"
    },
    {
     "data": {
      "text/plain": [
       "['MNXM378_c0']"
      ]
     },
     "execution_count": 7,
     "metadata": {},
     "output_type": "execute_result"
    },
    {
     "data": {
      "text/plain": [
       "['MNXM1792_c0']"
      ]
     },
     "execution_count": 7,
     "metadata": {},
     "output_type": "execute_result"
    },
    {
     "data": {
      "text/plain": [
       "['MNXM1458_c0']"
      ]
     },
     "execution_count": 7,
     "metadata": {},
     "output_type": "execute_result"
    },
    {
     "data": {
      "text/plain": [
       "['MNXM635_c0']"
      ]
     },
     "execution_count": 7,
     "metadata": {},
     "output_type": "execute_result"
    },
    {
     "data": {
      "text/plain": [
       "['MNXM1870_c0']"
      ]
     },
     "execution_count": 7,
     "metadata": {},
     "output_type": "execute_result"
    },
    {
     "data": {
      "text/plain": [
       "['MNXM824_c0']"
      ]
     },
     "execution_count": 7,
     "metadata": {},
     "output_type": "execute_result"
    },
    {
     "data": {
      "text/plain": [
       "['MNXM341_c0']"
      ]
     },
     "execution_count": 7,
     "metadata": {},
     "output_type": "execute_result"
    },
    {
     "data": {
      "text/plain": [
       "['MNXM582_c0']"
      ]
     },
     "execution_count": 7,
     "metadata": {},
     "output_type": "execute_result"
    },
    {
     "data": {
      "text/plain": [
       "['MNXM757_c0']"
      ]
     },
     "execution_count": 7,
     "metadata": {},
     "output_type": "execute_result"
    },
    {
     "data": {
      "text/plain": [
       "['MNXM717_c0']"
      ]
     },
     "execution_count": 7,
     "metadata": {},
     "output_type": "execute_result"
    },
    {
     "data": {
      "text/plain": [
       "['MNXM149166_c0']"
      ]
     },
     "execution_count": 7,
     "metadata": {},
     "output_type": "execute_result"
    },
    {
     "data": {
      "text/plain": [
       "['MNXM1528_c0']"
      ]
     },
     "execution_count": 7,
     "metadata": {},
     "output_type": "execute_result"
    },
    {
     "data": {
      "text/plain": [
       "['MNXM2074_c0']"
      ]
     },
     "execution_count": 7,
     "metadata": {},
     "output_type": "execute_result"
    },
    {
     "data": {
      "text/plain": [
       "['MNXM1680_c0']"
      ]
     },
     "execution_count": 7,
     "metadata": {},
     "output_type": "execute_result"
    },
    {
     "data": {
      "text/plain": [
       "['MNXM951_c0']"
      ]
     },
     "execution_count": 7,
     "metadata": {},
     "output_type": "execute_result"
    },
    {
     "data": {
      "text/plain": [
       "['MNXM432_c0']"
      ]
     },
     "execution_count": 7,
     "metadata": {},
     "output_type": "execute_result"
    },
    {
     "data": {
      "text/plain": [
       "['MNXM283_c0']"
      ]
     },
     "execution_count": 7,
     "metadata": {},
     "output_type": "execute_result"
    },
    {
     "data": {
      "text/plain": [
       "['MNXM2598_c0']"
      ]
     },
     "execution_count": 7,
     "metadata": {},
     "output_type": "execute_result"
    },
    {
     "data": {
      "text/plain": [
       "['MNXM1985_c0']"
      ]
     },
     "execution_count": 7,
     "metadata": {},
     "output_type": "execute_result"
    },
    {
     "data": {
      "text/plain": [
       "['MNXM35431_c0']"
      ]
     },
     "execution_count": 7,
     "metadata": {},
     "output_type": "execute_result"
    },
    {
     "data": {
      "text/plain": [
       "['MNXM1886_c0']"
      ]
     },
     "execution_count": 7,
     "metadata": {},
     "output_type": "execute_result"
    },
    {
     "data": {
      "text/plain": [
       "['MNXM399_c0']"
      ]
     },
     "execution_count": 7,
     "metadata": {},
     "output_type": "execute_result"
    },
    {
     "data": {
      "text/plain": [
       "['MNXM1714_c0']"
      ]
     },
     "execution_count": 7,
     "metadata": {},
     "output_type": "execute_result"
    },
    {
     "data": {
      "text/plain": [
       "['MNXM506_c0']"
      ]
     },
     "execution_count": 7,
     "metadata": {},
     "output_type": "execute_result"
    },
    {
     "data": {
      "text/plain": [
       "['MNXM802_c0']"
      ]
     },
     "execution_count": 7,
     "metadata": {},
     "output_type": "execute_result"
    },
    {
     "data": {
      "text/plain": [
       "['MNXM162464_c0']"
      ]
     },
     "execution_count": 7,
     "metadata": {},
     "output_type": "execute_result"
    },
    {
     "data": {
      "text/plain": [
       "['MNXM3149_c0']"
      ]
     },
     "execution_count": 7,
     "metadata": {},
     "output_type": "execute_result"
    },
    {
     "data": {
      "text/plain": [
       "['MNXM2183_c0']"
      ]
     },
     "execution_count": 7,
     "metadata": {},
     "output_type": "execute_result"
    },
    {
     "data": {
      "text/plain": [
       "['MNXM146388_e0']"
      ]
     },
     "execution_count": 7,
     "metadata": {},
     "output_type": "execute_result"
    },
    {
     "data": {
      "text/plain": [
       "['MNXM1119_c0']"
      ]
     },
     "execution_count": 7,
     "metadata": {},
     "output_type": "execute_result"
    },
    {
     "data": {
      "text/plain": [
       "['MNXM422_c0']"
      ]
     },
     "execution_count": 7,
     "metadata": {},
     "output_type": "execute_result"
    },
    {
     "data": {
      "text/plain": [
       "['MNXM47994_c0']"
      ]
     },
     "execution_count": 7,
     "metadata": {},
     "output_type": "execute_result"
    },
    {
     "data": {
      "text/plain": [
       "['MNXM753_c0']"
      ]
     },
     "execution_count": 7,
     "metadata": {},
     "output_type": "execute_result"
    },
    {
     "data": {
      "text/plain": [
       "['MNXM425_c0']"
      ]
     },
     "execution_count": 7,
     "metadata": {},
     "output_type": "execute_result"
    },
    {
     "data": {
      "text/plain": [
       "['MNXM205_c0']"
      ]
     },
     "execution_count": 7,
     "metadata": {},
     "output_type": "execute_result"
    },
    {
     "data": {
      "text/plain": [
       "['MNXM541_c0']"
      ]
     },
     "execution_count": 7,
     "metadata": {},
     "output_type": "execute_result"
    },
    {
     "data": {
      "text/plain": [
       "['MNXM1799_c0']"
      ]
     },
     "execution_count": 7,
     "metadata": {},
     "output_type": "execute_result"
    },
    {
     "data": {
      "text/plain": [
       "['MNXM336_c0']"
      ]
     },
     "execution_count": 7,
     "metadata": {},
     "output_type": "execute_result"
    },
    {
     "data": {
      "text/plain": [
       "['MNXM682_c0']"
      ]
     },
     "execution_count": 7,
     "metadata": {},
     "output_type": "execute_result"
    },
    {
     "data": {
      "text/plain": [
       "['MNXM198_e0']"
      ]
     },
     "execution_count": 7,
     "metadata": {},
     "output_type": "execute_result"
    },
    {
     "data": {
      "text/plain": [
       "['MNXM651_c0']"
      ]
     },
     "execution_count": 7,
     "metadata": {},
     "output_type": "execute_result"
    },
    {
     "data": {
      "text/plain": [
       "['MNXM29072_c0']"
      ]
     },
     "execution_count": 7,
     "metadata": {},
     "output_type": "execute_result"
    },
    {
     "data": {
      "text/plain": [
       "['MNXM3932_c0']"
      ]
     },
     "execution_count": 7,
     "metadata": {},
     "output_type": "execute_result"
    },
    {
     "data": {
      "text/plain": [
       "['MNXM593_c0']"
      ]
     },
     "execution_count": 7,
     "metadata": {},
     "output_type": "execute_result"
    },
    {
     "data": {
      "text/plain": [
       "['MNXM959_c0']"
      ]
     },
     "execution_count": 7,
     "metadata": {},
     "output_type": "execute_result"
    },
    {
     "data": {
      "text/plain": [
       "['MNXM813_c0']"
      ]
     },
     "execution_count": 7,
     "metadata": {},
     "output_type": "execute_result"
    },
    {
     "data": {
      "text/plain": [
       "['MNXM969_c0']"
      ]
     },
     "execution_count": 7,
     "metadata": {},
     "output_type": "execute_result"
    },
    {
     "data": {
      "text/plain": [
       "['MNXM1531_c0']"
      ]
     },
     "execution_count": 7,
     "metadata": {},
     "output_type": "execute_result"
    },
    {
     "data": {
      "text/plain": [
       "['MNXM82173_c0']"
      ]
     },
     "execution_count": 7,
     "metadata": {},
     "output_type": "execute_result"
    },
    {
     "data": {
      "text/plain": [
       "['MNXM863_c0']"
      ]
     },
     "execution_count": 7,
     "metadata": {},
     "output_type": "execute_result"
    },
    {
     "data": {
      "text/plain": [
       "['MNXM114087_c0']"
      ]
     },
     "execution_count": 7,
     "metadata": {},
     "output_type": "execute_result"
    },
    {
     "data": {
      "text/plain": [
       "['MNXM1503_c0']"
      ]
     },
     "execution_count": 7,
     "metadata": {},
     "output_type": "execute_result"
    },
    {
     "data": {
      "text/plain": [
       "['MNXM694_c0']"
      ]
     },
     "execution_count": 7,
     "metadata": {},
     "output_type": "execute_result"
    },
    {
     "data": {
      "text/plain": [
       "['MNXM396_c0']"
      ]
     },
     "execution_count": 7,
     "metadata": {},
     "output_type": "execute_result"
    },
    {
     "data": {
      "text/plain": [
       "['MNXM3196_c0']"
      ]
     },
     "execution_count": 7,
     "metadata": {},
     "output_type": "execute_result"
    },
    {
     "data": {
      "text/plain": [
       "['MNXM6955_c0']"
      ]
     },
     "execution_count": 7,
     "metadata": {},
     "output_type": "execute_result"
    },
    {
     "data": {
      "text/plain": [
       "['MNXM899_c0']"
      ]
     },
     "execution_count": 7,
     "metadata": {},
     "output_type": "execute_result"
    },
    {
     "data": {
      "text/plain": [
       "['MNXM114119_c0']"
      ]
     },
     "execution_count": 7,
     "metadata": {},
     "output_type": "execute_result"
    },
    {
     "data": {
      "text/plain": [
       "['MNXM5490_c0']"
      ]
     },
     "execution_count": 7,
     "metadata": {},
     "output_type": "execute_result"
    },
    {
     "data": {
      "text/plain": [
       "['MNXM1122_c0']"
      ]
     },
     "execution_count": 7,
     "metadata": {},
     "output_type": "execute_result"
    },
    {
     "data": {
      "text/plain": [
       "['MNXM163558_c0']"
      ]
     },
     "execution_count": 7,
     "metadata": {},
     "output_type": "execute_result"
    },
    {
     "data": {
      "text/plain": [
       "['MNXM1279_c0']"
      ]
     },
     "execution_count": 7,
     "metadata": {},
     "output_type": "execute_result"
    },
    {
     "data": {
      "text/plain": [
       "['MNXM10816_c0']"
      ]
     },
     "execution_count": 7,
     "metadata": {},
     "output_type": "execute_result"
    },
    {
     "data": {
      "text/plain": [
       "['MNXM281_c0']"
      ]
     },
     "execution_count": 7,
     "metadata": {},
     "output_type": "execute_result"
    },
    {
     "data": {
      "text/plain": [
       "['MNXM617_c0']"
      ]
     },
     "execution_count": 7,
     "metadata": {},
     "output_type": "execute_result"
    },
    {
     "data": {
      "text/plain": [
       "['MNXM928_c0']"
      ]
     },
     "execution_count": 7,
     "metadata": {},
     "output_type": "execute_result"
    },
    {
     "data": {
      "text/plain": [
       "['MNXM1927_c0']"
      ]
     },
     "execution_count": 7,
     "metadata": {},
     "output_type": "execute_result"
    },
    {
     "data": {
      "text/plain": [
       "['MNXM2967_c0']"
      ]
     },
     "execution_count": 7,
     "metadata": {},
     "output_type": "execute_result"
    },
    {
     "data": {
      "text/plain": [
       "['MNXM8868_c0']"
      ]
     },
     "execution_count": 7,
     "metadata": {},
     "output_type": "execute_result"
    },
    {
     "data": {
      "text/plain": [
       "['MNXM1635_c0']"
      ]
     },
     "execution_count": 7,
     "metadata": {},
     "output_type": "execute_result"
    },
    {
     "data": {
      "text/plain": [
       "['MNXM1993_c0']"
      ]
     },
     "execution_count": 7,
     "metadata": {},
     "output_type": "execute_result"
    },
    {
     "data": {
      "text/plain": [
       "['MNXM95_c0']"
      ]
     },
     "execution_count": 7,
     "metadata": {},
     "output_type": "execute_result"
    },
    {
     "data": {
      "text/plain": [
       "['MNXM4002_c0']"
      ]
     },
     "execution_count": 7,
     "metadata": {},
     "output_type": "execute_result"
    },
    {
     "data": {
      "text/plain": [
       "['MNXM326_c0']"
      ]
     },
     "execution_count": 7,
     "metadata": {},
     "output_type": "execute_result"
    },
    {
     "data": {
      "text/plain": [
       "['MNXM1734_c0']"
      ]
     },
     "execution_count": 7,
     "metadata": {},
     "output_type": "execute_result"
    },
    {
     "data": {
      "text/plain": [
       "['MNXM88508_c0']"
      ]
     },
     "execution_count": 7,
     "metadata": {},
     "output_type": "execute_result"
    },
    {
     "data": {
      "text/plain": [
       "['MNXM1634_c0']"
      ]
     },
     "execution_count": 7,
     "metadata": {},
     "output_type": "execute_result"
    },
    {
     "data": {
      "text/plain": [
       "['MNXM357_c0']"
      ]
     },
     "execution_count": 7,
     "metadata": {},
     "output_type": "execute_result"
    },
    {
     "data": {
      "text/plain": [
       "['MNXM5261_c0']"
      ]
     },
     "execution_count": 7,
     "metadata": {},
     "output_type": "execute_result"
    },
    {
     "data": {
      "text/plain": [
       "['MNXM4077_c0']"
      ]
     },
     "execution_count": 7,
     "metadata": {},
     "output_type": "execute_result"
    },
    {
     "data": {
      "text/plain": [
       "['MNXM3331_c0']"
      ]
     },
     "execution_count": 7,
     "metadata": {},
     "output_type": "execute_result"
    },
    {
     "data": {
      "text/plain": [
       "['MNXM1954_c0']"
      ]
     },
     "execution_count": 7,
     "metadata": {},
     "output_type": "execute_result"
    },
    {
     "data": {
      "text/plain": [
       "['MNXM90136_c0']"
      ]
     },
     "execution_count": 7,
     "metadata": {},
     "output_type": "execute_result"
    },
    {
     "data": {
      "text/plain": [
       "['MNXM1212_c0']"
      ]
     },
     "execution_count": 7,
     "metadata": {},
     "output_type": "execute_result"
    },
    {
     "data": {
      "text/plain": [
       "['MNXM363_c0']"
      ]
     },
     "execution_count": 7,
     "metadata": {},
     "output_type": "execute_result"
    },
    {
     "data": {
      "text/plain": [
       "['MNXM2174_c0']"
      ]
     },
     "execution_count": 7,
     "metadata": {},
     "output_type": "execute_result"
    },
    {
     "data": {
      "text/plain": [
       "['MNXM1325_c0']"
      ]
     },
     "execution_count": 7,
     "metadata": {},
     "output_type": "execute_result"
    },
    {
     "data": {
      "text/plain": [
       "['MNXM38414_c0']"
      ]
     },
     "execution_count": 7,
     "metadata": {},
     "output_type": "execute_result"
    },
    {
     "data": {
      "text/plain": [
       "['MNXM493_c0']"
      ]
     },
     "execution_count": 7,
     "metadata": {},
     "output_type": "execute_result"
    },
    {
     "data": {
      "text/plain": [
       "['MNXM2590_c0']"
      ]
     },
     "execution_count": 7,
     "metadata": {},
     "output_type": "execute_result"
    },
    {
     "data": {
      "text/plain": [
       "['MNXM3867_c0']"
      ]
     },
     "execution_count": 7,
     "metadata": {},
     "output_type": "execute_result"
    },
    {
     "data": {
      "text/plain": [
       "['MNXM320_c0']"
      ]
     },
     "execution_count": 7,
     "metadata": {},
     "output_type": "execute_result"
    },
    {
     "data": {
      "text/plain": [
       "['MNXM2288_c0']"
      ]
     },
     "execution_count": 7,
     "metadata": {},
     "output_type": "execute_result"
    },
    {
     "data": {
      "text/plain": [
       "['MNXM8664_e0']"
      ]
     },
     "execution_count": 7,
     "metadata": {},
     "output_type": "execute_result"
    },
    {
     "data": {
      "text/plain": [
       "['MNXM772_c0']"
      ]
     },
     "execution_count": 7,
     "metadata": {},
     "output_type": "execute_result"
    },
    {
     "data": {
      "text/plain": [
       "['MNXM1015_c0']"
      ]
     },
     "execution_count": 7,
     "metadata": {},
     "output_type": "execute_result"
    },
    {
     "data": {
      "text/plain": [
       "['MNXM2931_c0']"
      ]
     },
     "execution_count": 7,
     "metadata": {},
     "output_type": "execute_result"
    },
    {
     "data": {
      "text/plain": [
       "['MNXM1633_c0']"
      ]
     },
     "execution_count": 7,
     "metadata": {},
     "output_type": "execute_result"
    },
    {
     "data": {
      "text/plain": [
       "['MNXM1222_c0']"
      ]
     },
     "execution_count": 7,
     "metadata": {},
     "output_type": "execute_result"
    },
    {
     "data": {
      "text/plain": [
       "['MNXM1221_c0']"
      ]
     },
     "execution_count": 7,
     "metadata": {},
     "output_type": "execute_result"
    },
    {
     "data": {
      "text/plain": [
       "['MNXM721_c0']"
      ]
     },
     "execution_count": 7,
     "metadata": {},
     "output_type": "execute_result"
    },
    {
     "data": {
      "text/plain": [
       "['MNXM1243_c0']"
      ]
     },
     "execution_count": 7,
     "metadata": {},
     "output_type": "execute_result"
    },
    {
     "data": {
      "text/plain": [
       "['MNXM1648_c0']"
      ]
     },
     "execution_count": 7,
     "metadata": {},
     "output_type": "execute_result"
    },
    {
     "data": {
      "text/plain": [
       "['MNXM241_c0']"
      ]
     },
     "execution_count": 7,
     "metadata": {},
     "output_type": "execute_result"
    },
    {
     "data": {
      "text/plain": [
       "['MNXM1660_c0']"
      ]
     },
     "execution_count": 7,
     "metadata": {},
     "output_type": "execute_result"
    },
    {
     "data": {
      "text/plain": [
       "['MNXM292_c0']"
      ]
     },
     "execution_count": 7,
     "metadata": {},
     "output_type": "execute_result"
    },
    {
     "data": {
      "text/plain": [
       "['MNXM3382_c0']"
      ]
     },
     "execution_count": 7,
     "metadata": {},
     "output_type": "execute_result"
    },
    {
     "data": {
      "text/plain": [
       "['MNXM1253_c0']"
      ]
     },
     "execution_count": 7,
     "metadata": {},
     "output_type": "execute_result"
    },
    {
     "data": {
      "text/plain": [
       "['MNXM1178_c0']"
      ]
     },
     "execution_count": 7,
     "metadata": {},
     "output_type": "execute_result"
    },
    {
     "data": {
      "text/plain": [
       "['MNXM3414_c0']"
      ]
     },
     "execution_count": 7,
     "metadata": {},
     "output_type": "execute_result"
    },
    {
     "data": {
      "text/plain": [
       "['MNXM716_c0']"
      ]
     },
     "execution_count": 7,
     "metadata": {},
     "output_type": "execute_result"
    },
    {
     "data": {
      "text/plain": [
       "['MNXM112_c0']"
      ]
     },
     "execution_count": 7,
     "metadata": {},
     "output_type": "execute_result"
    },
    {
     "data": {
      "text/plain": [
       "['MNXM61025_c0']"
      ]
     },
     "execution_count": 7,
     "metadata": {},
     "output_type": "execute_result"
    },
    {
     "data": {
      "text/plain": [
       "['MNXM915_c0']"
      ]
     },
     "execution_count": 7,
     "metadata": {},
     "output_type": "execute_result"
    },
    {
     "data": {
      "text/plain": [
       "['MNXM559_c0']"
      ]
     },
     "execution_count": 7,
     "metadata": {},
     "output_type": "execute_result"
    },
    {
     "data": {
      "text/plain": [
       "['MNXM4968_c0']"
      ]
     },
     "execution_count": 7,
     "metadata": {},
     "output_type": "execute_result"
    },
    {
     "data": {
      "text/plain": [
       "['MNXM61111_c0']"
      ]
     },
     "execution_count": 7,
     "metadata": {},
     "output_type": "execute_result"
    },
    {
     "data": {
      "text/plain": [
       "['MNXM2255_c0']"
      ]
     },
     "execution_count": 7,
     "metadata": {},
     "output_type": "execute_result"
    },
    {
     "data": {
      "text/plain": [
       "['MNXM47647_c0']"
      ]
     },
     "execution_count": 7,
     "metadata": {},
     "output_type": "execute_result"
    },
    {
     "data": {
      "text/plain": [
       "['MNXM128_c0']"
      ]
     },
     "execution_count": 7,
     "metadata": {},
     "output_type": "execute_result"
    },
    {
     "data": {
      "text/plain": [
       "['MNXM1206_c0']"
      ]
     },
     "execution_count": 7,
     "metadata": {},
     "output_type": "execute_result"
    },
    {
     "data": {
      "text/plain": [
       "['MNXM669_c0']"
      ]
     },
     "execution_count": 7,
     "metadata": {},
     "output_type": "execute_result"
    },
    {
     "data": {
      "text/plain": [
       "['MNXM55194_c0']"
      ]
     },
     "execution_count": 7,
     "metadata": {},
     "output_type": "execute_result"
    },
    {
     "data": {
      "text/plain": [
       "['MNXM55192_c0']"
      ]
     },
     "execution_count": 7,
     "metadata": {},
     "output_type": "execute_result"
    },
    {
     "data": {
      "text/plain": [
       "['MNXM55193_c0']"
      ]
     },
     "execution_count": 7,
     "metadata": {},
     "output_type": "execute_result"
    },
    {
     "data": {
      "text/plain": [
       "['MNXM17114_c0']"
      ]
     },
     "execution_count": 7,
     "metadata": {},
     "output_type": "execute_result"
    },
    {
     "data": {
      "text/plain": [
       "['MNXM54163_c0']"
      ]
     },
     "execution_count": 7,
     "metadata": {},
     "output_type": "execute_result"
    },
    {
     "data": {
      "text/plain": [
       "['MNXM75132_c0']"
      ]
     },
     "execution_count": 7,
     "metadata": {},
     "output_type": "execute_result"
    },
    {
     "data": {
      "text/plain": [
       "['MNXM56168_c0']"
      ]
     },
     "execution_count": 7,
     "metadata": {},
     "output_type": "execute_result"
    },
    {
     "data": {
      "text/plain": [
       "['MNXM75133_c0']"
      ]
     },
     "execution_count": 7,
     "metadata": {},
     "output_type": "execute_result"
    },
    {
     "data": {
      "text/plain": [
       "['MNXM58984_c0']"
      ]
     },
     "execution_count": 7,
     "metadata": {},
     "output_type": "execute_result"
    }
   ],
   "source": [
    "dupl_bigg = {}\n",
    "for met in model.metabolites:\n",
    "    if \"bigg.metabolite\" not in met.annotation.keys():\n",
    "        continue\n",
    "    if met.id in [\"cpd00261_c0\", \"cpd06227_c0\", \"cpd03572_c0\", \"cpd02446_c0\",\"cpd02572_c0\", \"cpd01466_c0\" ]:\n",
    "        pass\n",
    "    else:    \n",
    "        if met.annotation[\"bigg.metabolite\"] not in dupl_bigg.keys():\n",
    "            dupl_bigg.setdefault(met.annotation[\"bigg.metabolite\"],[met.id])\n",
    "        else:\n",
    "            dupl_bigg[met.annotation[\"bigg.metabolite\"]].append(met.id)"
   ]
  },
  {
   "cell_type": "code",
   "execution_count": 8,
   "metadata": {},
   "outputs": [
    {
     "name": "stdout",
     "output_type": "stream",
     "text": [
      "['MNXM11_c0', 'MNXM11_e0']\n",
      "['MNXM1_c0', 'MNXM1_e0']\n",
      "['MNXM9_c0', 'MNXM9_e0']\n",
      "['MNXM213_c0', 'MNXM213_e0']\n",
      "['MNXM2_c0', 'MNXM2_e0']\n",
      "['MNXM42_c0', 'MNXM42_e0']\n",
      "['MNXM61_c0', 'MNXM61_e0']\n",
      "['MNXM212_e0', 'MNXM212_c0']\n",
      "['MNXM53_c0', 'MNXM53_e0']\n",
      "['MNXM93_e0', 'MNXM93_c0']\n",
      "['MNXM89557_c0', 'MNXM89557_e0']\n",
      "['MNXM13_c0', 'MNXM13_e0']\n",
      "['MNXM107_e0', 'MNXM107_c0']\n",
      "['MNXM89689_e0', 'MNXM89689_c0']\n",
      "['MNXM165_c0', 'MNXM165_e0']\n",
      "['MNXM41_c0', 'MNXM41_e0']\n",
      "['MNXM131_c0', 'MNXM131_e0']\n",
      "['MNXM15_c0', 'MNXM15_e0']\n",
      "['MNXM4_c0', 'MNXM4_e0']\n",
      "['MNXM78_c0', 'MNXM78_e0']\n",
      "['MNXM1191_c0', 'MNXM1191_e0']\n",
      "['MNXM334_c0', 'MNXM334_e0']\n",
      "['MNXM289_c0', 'MNXM289_e0']\n",
      "['MNXM55269_c0', 'MNXM55269_e0']\n",
      "['MNXM58_c0', 'MNXM58_e0']\n",
      "['MNXM338_c0', 'MNXM338_e0']\n",
      "['MNXM704_c0', 'MNXM704_e0']\n",
      "['MNXM25_e0', 'MNXM25_c0']\n",
      "['MNXM8825_e0', 'MNXM8825_c0']\n",
      "['MNXM89612_c0', 'MNXM89612_e0']\n",
      "['MNXM118_c0', 'MNXM118_e0']\n",
      "['MNXM124_c0', 'MNXM124_e0']\n",
      "['MNXM282_c0', 'MNXM282_e0']\n",
      "['MNXM66_c0', 'MNXM66_e0']\n",
      "['MNXM39_c0', 'MNXM39_e0']\n",
      "['MNXM15783_e0', 'MNXM15783_c0']\n",
      "['MNXM218_c0', 'MNXM218_e0']\n",
      "['MNXM143_c0', 'MNXM143_e0']\n",
      "['MNXM492_e0', 'MNXM492_c0']\n",
      "['MNXM8264_e0', 'MNXM8264_c0']\n",
      "['MNXM288_c0', 'MNXM288_e0']\n",
      "['MNXM8263_e0', 'MNXM8263_c0']\n",
      "['MNXM158_c0', 'MNXM158_e0']\n",
      "['MNXM174_c0', 'MNXM174_e0']\n",
      "['MNXM8669_c0', 'MNXM8669_e0']\n",
      "['MNXM114_e0', 'MNXM114_c0']\n",
      "['MNXM27_e0', 'MNXM27_c0']\n",
      "['MNXM134_c0', 'MNXM134_e0']\n",
      "['MNXM32_c0', 'MNXM32_e0']\n",
      "['MNXM111_c0', 'MNXM111_e0']\n",
      "['MNXM196_c0', 'MNXM196_e0']\n",
      "['MNXM509_c0', 'MNXM509_e0']\n",
      "['MNXM223_c0', 'MNXM223_e0']\n",
      "['MNXM175_e0', 'MNXM175_c0']\n",
      "['MNXM2178_c0', 'MNXM2178_e0']\n",
      "['MNXM127_c0', 'MNXM127_e0']\n",
      "['MNXM43_c0', 'MNXM43_e0']\n",
      "['MNXM632_e0', 'MNXM632_c0']\n",
      "['MNXM70_c0', 'MNXM70_e0']\n",
      "['MNXM612_c0', 'MNXM612_e0']\n",
      "['MNXM663_c0', 'MNXM663_e0']\n",
      "['MNXM140_e0', 'MNXM140_c0']\n",
      "['MNXM420_e0', 'MNXM420_c0']\n",
      "['MNXM615_e0', 'MNXM615_c0']\n",
      "['MNXM8670_c0', 'MNXM8670_e0']\n",
      "['MNXM647_c0', 'MNXM647_e0']\n",
      "['MNXM683_e0', 'MNXM683_c0']\n",
      "['MNXM108_c0', 'MNXM108_e0']\n",
      "['MNXM179_c0', 'MNXM179_e0']\n",
      "['MNXM90_c0', 'MNXM90_e0']\n",
      "['MNXM477_e0', 'MNXM477_c0']\n",
      "['MNXM242_c0', 'MNXM242_e0']\n",
      "['MNXM167_c0', 'MNXM167_e0']\n",
      "['MNXM76_c0', 'MNXM76_e0']\n",
      "['MNXM55287_e0', 'MNXM55287_c0']\n",
      "['MNXM236_c0', 'MNXM236_e0']\n",
      "['MNXM55276_c0', 'MNXM55276_e0']\n",
      "['MNXM625_e0', 'MNXM625_c0']\n",
      "['MNXM231_c0', 'MNXM231_e0']\n",
      "['MNXM149_e0', 'MNXM149_c0']\n",
      "['MNXM156_c0', 'MNXM156_e0']\n",
      "['MNXM40494_e0', 'MNXM40494_c0']\n",
      "['MNXM8666_c0', 'MNXM8666_e0']\n",
      "['MNXM94_c0', 'MNXM94_e0']\n",
      "['MNXM364_e0', 'MNXM364_c0']\n",
      "['MNXM199_c0', 'MNXM199_e0']\n",
      "['MNXM1403_c0', 'MNXM1403_e0']\n",
      "['MNXM40495_c0', 'MNXM40495_e0']\n",
      "['MNXM1317_c0', 'MNXM1317_e0']\n",
      "['MNXM15786_c0', 'MNXM15786_e0']\n",
      "['MNXM1275_e0', 'MNXM1275_c0']\n",
      "['MNXM8667_c0', 'MNXM8667_e0']\n",
      "['MNXM935_e0', 'MNXM935_c0']\n",
      "['MNXM468_e0', 'MNXM468_c0']\n",
      "['MNXM207_c0', 'MNXM207_e0']\n",
      "['MNXM90580_e0', 'MNXM90580_c0']\n",
      "['MNXM126241_c0', 'MNXM126241_e0']\n",
      "['MNXM2246_c0', 'MNXM2246_e0']\n",
      "['MNXM653_e0', 'MNXM653_c0']\n",
      "['MNXM90960_c0', 'MNXM90960_e0']\n",
      "['MNXM90412_e0', 'MNXM90412_c0']\n",
      "['MNXM322_c0', 'MNXM322_e0']\n",
      "['MNXM1562_c0', 'MNXM1562_e0']\n",
      "['MNXM146388_e0', 'MNXM146388_c0']\n",
      "['MNXM8868_c0', 'MNXM8868_e0']\n",
      "['MNXM95_c0', 'MNXM95_e0']\n",
      "['MNXM8664_e0', 'MNXM8664_c0']\n",
      "['MNXM2255_c0', 'MNXM2255_e0']\n",
      "['MNXM128_c0', 'MNXM128_e0']\n"
     ]
    }
   ],
   "source": [
    "for ls in dupl_bigg.values():\n",
    "    if len(ls) > 1:\n",
    "        print(ls)"
   ]
  },
  {
   "cell_type": "code",
   "execution_count": 9,
   "metadata": {},
   "outputs": [],
   "source": [
    "for ls in dupl_bigg.values():\n",
    "    if len(ls) > 1:\n",
    "        #print(ls)\n",
    "        x=[]\n",
    "        y=[]\n",
    "        for members in ls: \n",
    "            main_id, comp =members.split(\"_\")\n",
    "            x.append(main_id)\n",
    "            y.append(comp)\n",
    "        if not x[0]==x[1]:\n",
    "            print(x,y)\n",
    "            for pair in zip(x,y):\n",
    "                print(len(model.metabolites.get_by_id(pair[0]+\"_\"+pair[1]).reactions))"
   ]
  },
  {
   "cell_type": "markdown",
   "metadata": {},
   "source": [
    "### Change the MNXM IDs to Bigg IDs"
   ]
  },
  {
   "cell_type": "code",
   "execution_count": 10,
   "metadata": {},
   "outputs": [
    {
     "data": {
      "text/plain": [
       "'MNXM421_c0'"
      ]
     },
     "execution_count": 10,
     "metadata": {},
     "output_type": "execute_result"
    },
    {
     "name": "stdout",
     "output_type": "stream",
     "text": [
      "4abz_c0\n"
     ]
    },
    {
     "data": {
      "text/plain": [
       "'MNXM1160_c0'"
      ]
     },
     "execution_count": 10,
     "metadata": {},
     "output_type": "execute_result"
    },
    {
     "name": "stdout",
     "output_type": "stream",
     "text": [
      "6hmhptpp_c0\n"
     ]
    },
    {
     "data": {
      "text/plain": [
       "'MNXM11_c0'"
      ]
     },
     "execution_count": 10,
     "metadata": {},
     "output_type": "execute_result"
    },
    {
     "name": "stdout",
     "output_type": "stream",
     "text": [
      "ppi_c0\n"
     ]
    },
    {
     "data": {
      "text/plain": [
       "'MNXM1_c0'"
      ]
     },
     "execution_count": 10,
     "metadata": {},
     "output_type": "execute_result"
    },
    {
     "name": "stdout",
     "output_type": "stream",
     "text": [
      "h_c0\n"
     ]
    },
    {
     "data": {
      "text/plain": [
       "'MNXM965_c0'"
      ]
     },
     "execution_count": 10,
     "metadata": {},
     "output_type": "execute_result"
    },
    {
     "name": "stdout",
     "output_type": "stream",
     "text": [
      "dhpt_c0\n"
     ]
    },
    {
     "data": {
      "text/plain": [
       "'MNXM3_c0'"
      ]
     },
     "execution_count": 10,
     "metadata": {},
     "output_type": "execute_result"
    },
    {
     "name": "stdout",
     "output_type": "stream",
     "text": [
      "atp_c0\n"
     ]
    },
    {
     "data": {
      "text/plain": [
       "'MNXM29_c0'"
      ]
     },
     "execution_count": 10,
     "metadata": {},
     "output_type": "execute_result"
    },
    {
     "name": "stdout",
     "output_type": "stream",
     "text": [
      "gly_c0\n"
     ]
    },
    {
     "data": {
      "text/plain": [
       "'MNXM412_c0'"
      ]
     },
     "execution_count": 10,
     "metadata": {},
     "output_type": "execute_result"
    },
    {
     "name": "stdout",
     "output_type": "stream",
     "text": [
      "glucys_c0\n"
     ]
    },
    {
     "data": {
      "text/plain": [
       "'MNXM7_c0'"
      ]
     },
     "execution_count": 10,
     "metadata": {},
     "output_type": "execute_result"
    },
    {
     "name": "stdout",
     "output_type": "stream",
     "text": [
      "adp_c0\n"
     ]
    },
    {
     "data": {
      "text/plain": [
       "'MNXM9_c0'"
      ]
     },
     "execution_count": 10,
     "metadata": {},
     "output_type": "execute_result"
    },
    {
     "name": "stdout",
     "output_type": "stream",
     "text": [
      "pi_c0\n"
     ]
    },
    {
     "data": {
      "text/plain": [
       "'MNXM57_c0'"
      ]
     },
     "execution_count": 10,
     "metadata": {},
     "output_type": "execute_result"
    },
    {
     "name": "stdout",
     "output_type": "stream",
     "text": [
      "gthrd_c0\n"
     ]
    },
    {
     "data": {
      "text/plain": [
       "'MNXM1024_c0'"
      ]
     },
     "execution_count": 10,
     "metadata": {},
     "output_type": "execute_result"
    },
    {
     "name": "stdout",
     "output_type": "stream",
     "text": [
      "lpam_c0\n"
     ]
    },
    {
     "data": {
      "text/plain": [
       "'MNXM6734_c0'"
      ]
     },
     "execution_count": 10,
     "metadata": {},
     "output_type": "execute_result"
    },
    {
     "name": "stdout",
     "output_type": "stream",
     "text": [
      "2mhop_c0\n"
     ]
    },
    {
     "data": {
      "text/plain": [
       "'MNXM256_c0'"
      ]
     },
     "execution_count": 10,
     "metadata": {},
     "output_type": "execute_result"
    },
    {
     "name": "stdout",
     "output_type": "stream",
     "text": [
      "thmpp_c0\n"
     ]
    },
    {
     "data": {
      "text/plain": [
       "'MNXM7749_c0'"
      ]
     },
     "execution_count": 10,
     "metadata": {},
     "output_type": "execute_result"
    },
    {
     "name": "stdout",
     "output_type": "stream",
     "text": [
      "2mpdhl_c0\n"
     ]
    },
    {
     "data": {
      "text/plain": [
       "'MNXM125_c0'"
      ]
     },
     "execution_count": 10,
     "metadata": {},
     "output_type": "execute_result"
    },
    {
     "name": "stdout",
     "output_type": "stream",
     "text": [
      "imp_c0\n"
     ]
    },
    {
     "data": {
      "text/plain": [
       "'MNXM91_c0'"
      ]
     },
     "execution_count": 10,
     "metadata": {},
     "output_type": "execute_result"
    },
    {
     "name": "stdout",
     "output_type": "stream",
     "text": [
      "prpp_c0\n"
     ]
    },
    {
     "data": {
      "text/plain": [
       "'MNXM213_c0'"
      ]
     },
     "execution_count": 10,
     "metadata": {},
     "output_type": "execute_result"
    },
    {
     "name": "stdout",
     "output_type": "stream",
     "text": [
      "hxan_c0\n"
     ]
    },
    {
     "data": {
      "text/plain": [
       "'MNXM8_c0'"
      ]
     },
     "execution_count": 10,
     "metadata": {},
     "output_type": "execute_result"
    },
    {
     "name": "stdout",
     "output_type": "stream",
     "text": [
      "nad_c0\n"
     ]
    },
    {
     "data": {
      "text/plain": [
       "'MNXM90191_c0'"
      ]
     },
     "execution_count": 10,
     "metadata": {},
     "output_type": "execute_result"
    },
    {
     "name": "stdout",
     "output_type": "stream",
     "text": [
      "12ppd__R_c0\n"
     ]
    },
    {
     "data": {
      "text/plain": [
       "'MNXM10_c0'"
      ]
     },
     "execution_count": 10,
     "metadata": {},
     "output_type": "execute_result"
    },
    {
     "name": "stdout",
     "output_type": "stream",
     "text": [
      "nadh_c0\n"
     ]
    },
    {
     "data": {
      "text/plain": [
       "'MNXM909_c0'"
      ]
     },
     "execution_count": 10,
     "metadata": {},
     "output_type": "execute_result"
    },
    {
     "name": "stdout",
     "output_type": "stream",
     "text": [
      "lald__D_c0\n"
     ]
    },
    {
     "data": {
      "text/plain": [
       "'MNXM2_c0'"
      ]
     },
     "execution_count": 10,
     "metadata": {},
     "output_type": "execute_result"
    },
    {
     "name": "stdout",
     "output_type": "stream",
     "text": [
      "oh1_c0\n"
     ]
    },
    {
     "data": {
      "text/plain": [
       "'MNXM42_c0'"
      ]
     },
     "execution_count": 10,
     "metadata": {},
     "output_type": "execute_result"
    },
    {
     "name": "stdout",
     "output_type": "stream",
     "text": [
      "asp__L_c0\n"
     ]
    },
    {
     "data": {
      "text/plain": [
       "'MNXM16_c0'"
      ]
     },
     "execution_count": 10,
     "metadata": {},
     "output_type": "execute_result"
    },
    {
     "name": "stdout",
     "output_type": "stream",
     "text": [
      "amet_c0\n"
     ]
    },
    {
     "data": {
      "text/plain": [
       "'MNXM162285_c0'"
      ]
     },
     "execution_count": 10,
     "metadata": {},
     "output_type": "execute_result"
    },
    {
     "name": "stdout",
     "output_type": "stream",
     "text": [
      "s_c0\n"
     ]
    },
    {
     "data": {
      "text/plain": [
       "'MNXM1020_c0'"
      ]
     },
     "execution_count": 10,
     "metadata": {},
     "output_type": "execute_result"
    },
    {
     "name": "stdout",
     "output_type": "stream",
     "text": [
      "dtbt_c0\n"
     ]
    },
    {
     "data": {
      "text/plain": [
       "'MNXM61_c0'"
      ]
     },
     "execution_count": 10,
     "metadata": {},
     "output_type": "execute_result"
    },
    {
     "name": "stdout",
     "output_type": "stream",
     "text": [
      "met__L_c0\n"
     ]
    },
    {
     "data": {
      "text/plain": [
       "'MNXM304_c0'"
      ]
     },
     "execution_count": 10,
     "metadata": {},
     "output_type": "execute_result"
    },
    {
     "name": "stdout",
     "output_type": "stream",
     "text": [
      "btn_c0\n"
     ]
    },
    {
     "data": {
      "text/plain": [
       "'MNXM316_c0'"
      ]
     },
     "execution_count": 10,
     "metadata": {},
     "output_type": "execute_result"
    },
    {
     "name": "stdout",
     "output_type": "stream",
     "text": [
      "dad_5_c0\n"
     ]
    },
    {
     "data": {
      "text/plain": [
       "'MNXM1_e0'"
      ]
     },
     "execution_count": 10,
     "metadata": {},
     "output_type": "execute_result"
    },
    {
     "name": "stdout",
     "output_type": "stream",
     "text": [
      "h_e0\n"
     ]
    },
    {
     "data": {
      "text/plain": [
       "'MNXM212_e0'"
      ]
     },
     "execution_count": 10,
     "metadata": {},
     "output_type": "execute_result"
    },
    {
     "name": "stdout",
     "output_type": "stream",
     "text": [
      "adn_e0\n"
     ]
    },
    {
     "data": {
      "text/plain": [
       "'MNXM212_c0'"
      ]
     },
     "execution_count": 10,
     "metadata": {},
     "output_type": "execute_result"
    },
    {
     "name": "stdout",
     "output_type": "stream",
     "text": [
      "adn_c0\n"
     ]
    },
    {
     "data": {
      "text/plain": [
       "'MNXM964_c0'"
      ]
     },
     "execution_count": 10,
     "metadata": {},
     "output_type": "execute_result"
    },
    {
     "name": "stdout",
     "output_type": "stream",
     "text": [
      "5oxpro_c0\n"
     ]
    },
    {
     "data": {
      "text/plain": [
       "'MNXM390_c0'"
      ]
     },
     "execution_count": 10,
     "metadata": {},
     "output_type": "execute_result"
    },
    {
     "name": "stdout",
     "output_type": "stream",
     "text": [
      "gal_c0\n"
     ]
    },
    {
     "data": {
      "text/plain": [
       "'MNXM146539_c0'"
      ]
     },
     "execution_count": 10,
     "metadata": {},
     "output_type": "execute_result"
    },
    {
     "name": "stdout",
     "output_type": "stream",
     "text": [
      "gluside_cho_c0\n"
     ]
    },
    {
     "data": {
      "text/plain": [
       "'MNXM21_c0'"
      ]
     },
     "execution_count": 10,
     "metadata": {},
     "output_type": "execute_result"
    },
    {
     "name": "stdout",
     "output_type": "stream",
     "text": [
      "accoa_c0\n"
     ]
    },
    {
     "data": {
      "text/plain": [
       "'MNXM53_c0'"
      ]
     },
     "execution_count": 10,
     "metadata": {},
     "output_type": "execute_result"
    },
    {
     "name": "stdout",
     "output_type": "stream",
     "text": [
      "ser__L_c0\n"
     ]
    },
    {
     "data": {
      "text/plain": [
       "'MNXM12_c0'"
      ]
     },
     "execution_count": 10,
     "metadata": {},
     "output_type": "execute_result"
    },
    {
     "name": "stdout",
     "output_type": "stream",
     "text": [
      "coa_c0\n"
     ]
    },
    {
     "data": {
      "text/plain": [
       "'MNXM418_c0'"
      ]
     },
     "execution_count": 10,
     "metadata": {},
     "output_type": "execute_result"
    },
    {
     "name": "stdout",
     "output_type": "stream",
     "text": [
      "acser_c0\n"
     ]
    },
    {
     "data": {
      "text/plain": [
       "'MNXM31_c0'"
      ]
     },
     "execution_count": 10,
     "metadata": {},
     "output_type": "execute_result"
    },
    {
     "name": "stdout",
     "output_type": "stream",
     "text": [
      "cmp_c0\n"
     ]
    },
    {
     "data": {
      "text/plain": [
       "'MNXM220_c0'"
      ]
     },
     "execution_count": 10,
     "metadata": {},
     "output_type": "execute_result"
    },
    {
     "name": "stdout",
     "output_type": "stream",
     "text": [
      "cdp_c0\n"
     ]
    },
    {
     "data": {
      "text/plain": [
       "'MNXM93_e0'"
      ]
     },
     "execution_count": 10,
     "metadata": {},
     "output_type": "execute_result"
    },
    {
     "name": "stdout",
     "output_type": "stream",
     "text": [
      "fum_e0\n"
     ]
    },
    {
     "data": {
      "text/plain": [
       "'MNXM93_c0'"
      ]
     },
     "execution_count": 10,
     "metadata": {},
     "output_type": "execute_result"
    },
    {
     "name": "stdout",
     "output_type": "stream",
     "text": [
      "fum_c0\n"
     ]
    },
    {
     "data": {
      "text/plain": [
       "'MNXM47_c0'"
      ]
     },
     "execution_count": 10,
     "metadata": {},
     "output_type": "execute_result"
    },
    {
     "name": "stdout",
     "output_type": "stream",
     "text": [
      "uacgam_c0\n"
     ]
    },
    {
     "data": {
      "text/plain": [
       "'MNXM2264_c0'"
      ]
     },
     "execution_count": 10,
     "metadata": {},
     "output_type": "execute_result"
    },
    {
     "name": "stdout",
     "output_type": "stream",
     "text": [
      "uagmda_c0\n"
     ]
    },
    {
     "data": {
      "text/plain": [
       "'MNXM17_c0'"
      ]
     },
     "execution_count": 10,
     "metadata": {},
     "output_type": "execute_result"
    },
    {
     "name": "stdout",
     "output_type": "stream",
     "text": [
      "udp_c0\n"
     ]
    },
    {
     "data": {
      "text/plain": [
       "'MNXM1242_c0'"
      ]
     },
     "execution_count": 10,
     "metadata": {},
     "output_type": "execute_result"
    },
    {
     "name": "stdout",
     "output_type": "stream",
     "text": [
      "uaagmda_c0\n"
     ]
    },
    {
     "data": {
      "text/plain": [
       "'MNXM799_c0'"
      ]
     },
     "execution_count": 10,
     "metadata": {},
     "output_type": "execute_result"
    },
    {
     "name": "stdout",
     "output_type": "stream",
     "text": [
      "ichor_c0\n"
     ]
    },
    {
     "data": {
      "text/plain": [
       "'MNXM23_c0'"
      ]
     },
     "execution_count": 10,
     "metadata": {},
     "output_type": "execute_result"
    },
    {
     "name": "stdout",
     "output_type": "stream",
     "text": [
      "pyr_c0\n"
     ]
    },
    {
     "data": {
      "text/plain": [
       "'MNXM114261_c0'"
      ]
     },
     "execution_count": 10,
     "metadata": {},
     "output_type": "execute_result"
    },
    {
     "name": "stdout",
     "output_type": "stream",
     "text": [
      "23ddhb_c0\n"
     ]
    },
    {
     "data": {
      "text/plain": [
       "'MNXM14_c0'"
      ]
     },
     "execution_count": 10,
     "metadata": {},
     "output_type": "execute_result"
    },
    {
     "name": "stdout",
     "output_type": "stream",
     "text": [
      "amp_c0\n"
     ]
    },
    {
     "data": {
      "text/plain": [
       "'MNXM89557_c0'"
      ]
     },
     "execution_count": 10,
     "metadata": {},
     "output_type": "execute_result"
    },
    {
     "name": "stdout",
     "output_type": "stream",
     "text": [
      "glu__L_c0\n"
     ]
    },
    {
     "data": {
      "text/plain": [
       "'MNXM55_c0'"
      ]
     },
     "execution_count": 10,
     "metadata": {},
     "output_type": "execute_result"
    },
    {
     "name": "stdout",
     "output_type": "stream",
     "text": [
      "cys__L_c0\n"
     ]
    },
    {
     "data": {
      "text/plain": [
       "'MNXM33_c0'"
      ]
     },
     "execution_count": 10,
     "metadata": {},
     "output_type": "execute_result"
    },
    {
     "name": "stdout",
     "output_type": "stream",
     "text": [
      "fad_c0\n"
     ]
    },
    {
     "data": {
      "text/plain": [
       "'MNXM98_c0'"
      ]
     },
     "execution_count": 10,
     "metadata": {},
     "output_type": "execute_result"
    },
    {
     "name": "stdout",
     "output_type": "stream",
     "text": [
      "mal__L_c0\n"
     ]
    },
    {
     "data": {
      "text/plain": [
       "'MNXM46_c0'"
      ]
     },
     "execution_count": 10,
     "metadata": {},
     "output_type": "execute_result"
    },
    {
     "name": "stdout",
     "output_type": "stream",
     "text": [
      "oaa_c0\n"
     ]
    },
    {
     "data": {
      "text/plain": [
       "'MNXM38_c0'"
      ]
     },
     "execution_count": 10,
     "metadata": {},
     "output_type": "execute_result"
    },
    {
     "name": "stdout",
     "output_type": "stream",
     "text": [
      "fadh2_c0\n"
     ]
    },
    {
     "data": {
      "text/plain": [
       "'MNXM411_c0'"
      ]
     },
     "execution_count": 10,
     "metadata": {},
     "output_type": "execute_result"
    },
    {
     "name": "stdout",
     "output_type": "stream",
     "text": [
      "dcdp_c0\n"
     ]
    },
    {
     "data": {
      "text/plain": [
       "'MNXM360_c0'"
      ]
     },
     "execution_count": 10,
     "metadata": {},
     "output_type": "execute_result"
    },
    {
     "name": "stdout",
     "output_type": "stream",
     "text": [
      "dctp_c0\n"
     ]
    },
    {
     "data": {
      "text/plain": [
       "'MNXM13_c0'"
      ]
     },
     "execution_count": 10,
     "metadata": {},
     "output_type": "execute_result"
    },
    {
     "name": "stdout",
     "output_type": "stream",
     "text": [
      "co2_c0\n"
     ]
    },
    {
     "data": {
      "text/plain": [
       "'MNXM73_c0'"
      ]
     },
     "execution_count": 10,
     "metadata": {},
     "output_type": "execute_result"
    },
    {
     "name": "stdout",
     "output_type": "stream",
     "text": [
      "pep_c0\n"
     ]
    },
    {
     "data": {
      "text/plain": [
       "'MNXM107_e0'"
      ]
     },
     "execution_count": 10,
     "metadata": {},
     "output_type": "execute_result"
    },
    {
     "name": "stdout",
     "output_type": "stream",
     "text": [
      "no2_e0\n"
     ]
    },
    {
     "data": {
      "text/plain": [
       "'MNXM107_c0'"
      ]
     },
     "execution_count": 10,
     "metadata": {},
     "output_type": "execute_result"
    },
    {
     "name": "stdout",
     "output_type": "stream",
     "text": [
      "no2_c0\n"
     ]
    },
    {
     "data": {
      "text/plain": [
       "'MNXM87584_c0'"
      ]
     },
     "execution_count": 10,
     "metadata": {},
     "output_type": "execute_result"
    },
    {
     "name": "stdout",
     "output_type": "stream",
     "text": [
      "4hpro_LT_c0\n"
     ]
    },
    {
     "data": {
      "text/plain": [
       "'MNXM1705_c0'"
      ]
     },
     "execution_count": 10,
     "metadata": {},
     "output_type": "execute_result"
    },
    {
     "name": "stdout",
     "output_type": "stream",
     "text": [
      "2ahethmpp_c0\n"
     ]
    },
    {
     "data": {
      "text/plain": [
       "'MNXM4815_c0'"
      ]
     },
     "execution_count": 10,
     "metadata": {},
     "output_type": "execute_result"
    },
    {
     "name": "stdout",
     "output_type": "stream",
     "text": [
      "adhlam_c0\n"
     ]
    },
    {
     "data": {
      "text/plain": [
       "'MNXM89689_e0'"
      ]
     },
     "execution_count": 10,
     "metadata": {},
     "output_type": "execute_result"
    },
    {
     "name": "stdout",
     "output_type": "stream",
     "text": [
      "orn__L_e0\n"
     ]
    },
    {
     "data": {
      "text/plain": [
       "'MNXM89689_c0'"
      ]
     },
     "execution_count": 10,
     "metadata": {},
     "output_type": "execute_result"
    },
    {
     "name": "stdout",
     "output_type": "stream",
     "text": [
      "orn__L_c0\n"
     ]
    },
    {
     "data": {
      "text/plain": [
       "'MNXM165_c0'"
      ]
     },
     "execution_count": 10,
     "metadata": {},
     "output_type": "execute_result"
    },
    {
     "name": "stdout",
     "output_type": "stream",
     "text": [
      "malt_c0\n"
     ]
    },
    {
     "data": {
      "text/plain": [
       "'MNXM41_c0'"
      ]
     },
     "execution_count": 10,
     "metadata": {},
     "output_type": "execute_result"
    },
    {
     "name": "stdout",
     "output_type": "stream",
     "text": [
      "glc__bD_c0\n"
     ]
    },
    {
     "data": {
      "text/plain": [
       "'MNXM131_c0'"
      ]
     },
     "execution_count": 10,
     "metadata": {},
     "output_type": "execute_result"
    },
    {
     "name": "stdout",
     "output_type": "stream",
     "text": [
      "cit_c0\n"
     ]
    },
    {
     "data": {
      "text/plain": [
       "'MNXM89661_c0'"
      ]
     },
     "execution_count": 10,
     "metadata": {},
     "output_type": "execute_result"
    },
    {
     "name": "stdout",
     "output_type": "stream",
     "text": [
      "icit_c0\n"
     ]
    },
    {
     "data": {
      "text/plain": [
       "'MNXM762_c0'"
      ]
     },
     "execution_count": 10,
     "metadata": {},
     "output_type": "execute_result"
    },
    {
     "name": "stdout",
     "output_type": "stream",
     "text": [
      "tcynt_c0\n"
     ]
    },
    {
     "data": {
      "text/plain": [
       "'MNXM15_c0'"
      ]
     },
     "execution_count": 10,
     "metadata": {},
     "output_type": "execute_result"
    },
    {
     "name": "stdout",
     "output_type": "stream",
     "text": [
      "nh4_c0\n"
     ]
    },
    {
     "data": {
      "text/plain": [
       "'MNXM451_c0'"
      ]
     },
     "execution_count": 10,
     "metadata": {},
     "output_type": "execute_result"
    },
    {
     "name": "stdout",
     "output_type": "stream",
     "text": [
      "dtdp4d6dg_c0\n"
     ]
    },
    {
     "data": {
      "text/plain": [
       "'MNXM2371_c0'"
      ]
     },
     "execution_count": 10,
     "metadata": {},
     "output_type": "execute_result"
    },
    {
     "name": "stdout",
     "output_type": "stream",
     "text": [
      "dtdp4d6dm_c0\n"
     ]
    },
    {
     "data": {
      "text/plain": [
       "'MNXM825_c0'"
      ]
     },
     "execution_count": 10,
     "metadata": {},
     "output_type": "execute_result"
    },
    {
     "name": "stdout",
     "output_type": "stream",
     "text": [
      "3hhdcoa_c0\n"
     ]
    },
    {
     "data": {
      "text/plain": [
       "'MNXM738_c0'"
      ]
     },
     "execution_count": 10,
     "metadata": {},
     "output_type": "execute_result"
    },
    {
     "name": "stdout",
     "output_type": "stream",
     "text": [
      "3ohdcoa_c0\n"
     ]
    },
    {
     "data": {
      "text/plain": [
       "'MNXM4_c0'"
      ]
     },
     "execution_count": 10,
     "metadata": {},
     "output_type": "execute_result"
    },
    {
     "name": "stdout",
     "output_type": "stream",
     "text": [
      "o2_c0\n"
     ]
    },
    {
     "data": {
      "text/plain": [
       "'MNXM359_c0'"
      ]
     },
     "execution_count": 10,
     "metadata": {},
     "output_type": "execute_result"
    },
    {
     "name": "stdout",
     "output_type": "stream",
     "text": [
      "3hanthrn_c0\n"
     ]
    },
    {
     "data": {
      "text/plain": [
       "'MNXM22_c0'"
      ]
     },
     "execution_count": 10,
     "metadata": {},
     "output_type": "execute_result"
    },
    {
     "name": "stdout",
     "output_type": "stream",
     "text": [
      "h2o2_c0\n"
     ]
    },
    {
     "data": {
      "text/plain": [
       "'MNXM78_c0'"
      ]
     },
     "execution_count": 10,
     "metadata": {},
     "output_type": "execute_result"
    },
    {
     "name": "stdout",
     "output_type": "stream",
     "text": [
      "lys__L_c0\n"
     ]
    },
    {
     "data": {
      "text/plain": [
       "'MNXM943_c0'"
      ]
     },
     "execution_count": 10,
     "metadata": {},
     "output_type": "execute_result"
    },
    {
     "name": "stdout",
     "output_type": "stream",
     "text": [
      "15dap_c0\n"
     ]
    },
    {
     "data": {
      "text/plain": [
       "'MNXM1018_c0'"
      ]
     },
     "execution_count": 10,
     "metadata": {},
     "output_type": "execute_result"
    },
    {
     "name": "stdout",
     "output_type": "stream",
     "text": [
      "abt__D_c0\n"
     ]
    },
    {
     "data": {
      "text/plain": [
       "'MNXM597_c0'"
      ]
     },
     "execution_count": 10,
     "metadata": {},
     "output_type": "execute_result"
    },
    {
     "name": "stdout",
     "output_type": "stream",
     "text": [
      "xylu__L_c0\n"
     ]
    },
    {
     "data": {
      "text/plain": [
       "'MNXM1191_c0'"
      ]
     },
     "execution_count": 10,
     "metadata": {},
     "output_type": "execute_result"
    },
    {
     "name": "stdout",
     "output_type": "stream",
     "text": [
      "cynt_c0\n"
     ]
    },
    {
     "data": {
      "text/plain": [
       "'MNXM742_c0'"
      ]
     },
     "execution_count": 10,
     "metadata": {},
     "output_type": "execute_result"
    },
    {
     "name": "stdout",
     "output_type": "stream",
     "text": [
      "cbm_c0\n"
     ]
    },
    {
     "data": {
      "text/plain": [
       "'MNXM224_c0'"
      ]
     },
     "execution_count": 10,
     "metadata": {},
     "output_type": "execute_result"
    },
    {
     "name": "stdout",
     "output_type": "stream",
     "text": [
      "tdcoa_c0\n"
     ]
    },
    {
     "data": {
      "text/plain": [
       "'MNXM925_c0'"
      ]
     },
     "execution_count": 10,
     "metadata": {},
     "output_type": "execute_result"
    },
    {
     "name": "stdout",
     "output_type": "stream",
     "text": [
      "ACP_c0\n"
     ]
    },
    {
     "data": {
      "text/plain": [
       "'MNXM195_c0'"
      ]
     },
     "execution_count": 10,
     "metadata": {},
     "output_type": "execute_result"
    },
    {
     "name": "stdout",
     "output_type": "stream",
     "text": [
      "h2_c0\n"
     ]
    },
    {
     "data": {
      "text/plain": [
       "'MNXM232_c0'"
      ]
     },
     "execution_count": 10,
     "metadata": {},
     "output_type": "execute_result"
    },
    {
     "name": "stdout",
     "output_type": "stream",
     "text": [
      "q8_c0\n"
     ]
    },
    {
     "data": {
      "text/plain": [
       "'MNXM191_c0'"
      ]
     },
     "execution_count": 10,
     "metadata": {},
     "output_type": "execute_result"
    },
    {
     "name": "stdout",
     "output_type": "stream",
     "text": [
      "q8h2_c0\n"
     ]
    },
    {
     "data": {
      "text/plain": [
       "'MNXM184_c0'"
      ]
     },
     "execution_count": 10,
     "metadata": {},
     "output_type": "execute_result"
    },
    {
     "name": "stdout",
     "output_type": "stream",
     "text": [
      "malACP_c0\n"
     ]
    },
    {
     "data": {
      "text/plain": [
       "'MNXM811_c0'"
      ]
     },
     "execution_count": 10,
     "metadata": {},
     "output_type": "execute_result"
    },
    {
     "name": "stdout",
     "output_type": "stream",
     "text": [
      "octdp_c0\n"
     ]
    },
    {
     "data": {
      "text/plain": [
       "'MNXM83_c0'"
      ]
     },
     "execution_count": 10,
     "metadata": {},
     "output_type": "execute_result"
    },
    {
     "name": "stdout",
     "output_type": "stream",
     "text": [
      "ipdp_c0\n"
     ]
    },
    {
     "data": {
      "text/plain": [
       "'MNXM1722_c0'"
      ]
     },
     "execution_count": 10,
     "metadata": {},
     "output_type": "execute_result"
    },
    {
     "name": "stdout",
     "output_type": "stream",
     "text": [
      "hepdp_c0\n"
     ]
    },
    {
     "data": {
      "text/plain": [
       "'MNXM2161_c0'"
      ]
     },
     "execution_count": 10,
     "metadata": {},
     "output_type": "execute_result"
    },
    {
     "name": "stdout",
     "output_type": "stream",
     "text": [
      "cenchddd_c0\n"
     ]
    },
    {
     "data": {
      "text/plain": [
       "'MNXM1130_c0'"
      ]
     },
     "execution_count": 10,
     "metadata": {},
     "output_type": "execute_result"
    },
    {
     "name": "stdout",
     "output_type": "stream",
     "text": [
      "dhcinnm_c0\n"
     ]
    },
    {
     "data": {
      "text/plain": [
       "'MNXM1491_c0'"
      ]
     },
     "execution_count": 10,
     "metadata": {},
     "output_type": "execute_result"
    },
    {
     "name": "stdout",
     "output_type": "stream",
     "text": [
      "HC00718_c0\n"
     ]
    },
    {
     "data": {
      "text/plain": [
       "'MNXM19_c0'"
      ]
     },
     "execution_count": 10,
     "metadata": {},
     "output_type": "execute_result"
    },
    {
     "name": "stdout",
     "output_type": "stream",
     "text": [
      "ahcys_c0\n"
     ]
    },
    {
     "data": {
      "text/plain": [
       "'MNXM2261_c0'"
      ]
     },
     "execution_count": 10,
     "metadata": {},
     "output_type": "execute_result"
    },
    {
     "name": "stdout",
     "output_type": "stream",
     "text": [
      "HC01842_c0\n"
     ]
    },
    {
     "data": {
      "text/plain": [
       "'MNXM622_c0'"
      ]
     },
     "execution_count": 10,
     "metadata": {},
     "output_type": "execute_result"
    },
    {
     "name": "stdout",
     "output_type": "stream",
     "text": [
      "dxyl5p_c0\n"
     ]
    },
    {
     "data": {
      "text/plain": [
       "'MNXM454_c0'"
      ]
     },
     "execution_count": 10,
     "metadata": {},
     "output_type": "execute_result"
    },
    {
     "name": "stdout",
     "output_type": "stream",
     "text": [
      "pdx5p_c0\n"
     ]
    },
    {
     "data": {
      "text/plain": [
       "'MNXM1289_c0'"
      ]
     },
     "execution_count": 10,
     "metadata": {},
     "output_type": "execute_result"
    },
    {
     "name": "stdout",
     "output_type": "stream",
     "text": [
      "HC01434_c0\n"
     ]
    },
    {
     "data": {
      "text/plain": [
       "'MNXM20_c0'"
      ]
     },
     "execution_count": 10,
     "metadata": {},
     "output_type": "execute_result"
    },
    {
     "name": "stdout",
     "output_type": "stream",
     "text": [
      "akg_c0\n"
     ]
    },
    {
     "data": {
      "text/plain": [
       "'MNXM334_c0'"
      ]
     },
     "execution_count": 10,
     "metadata": {},
     "output_type": "execute_result"
    },
    {
     "name": "stdout",
     "output_type": "stream",
     "text": [
      "ins_c0\n"
     ]
    },
    {
     "data": {
      "text/plain": [
       "'MNXM295_c0'"
      ]
     },
     "execution_count": 10,
     "metadata": {},
     "output_type": "execute_result"
    },
    {
     "name": "stdout",
     "output_type": "stream",
     "text": [
      "r1p_c0\n"
     ]
    },
    {
     "data": {
      "text/plain": [
       "'MNXM1152_c0'"
      ]
     },
     "execution_count": 10,
     "metadata": {},
     "output_type": "execute_result"
    },
    {
     "name": "stdout",
     "output_type": "stream",
     "text": [
      "sucorn_c0\n"
     ]
    },
    {
     "data": {
      "text/plain": [
       "'MNXM1763_c0'"
      ]
     },
     "execution_count": 10,
     "metadata": {},
     "output_type": "execute_result"
    },
    {
     "name": "stdout",
     "output_type": "stream",
     "text": [
      "sucgsa_c0\n"
     ]
    },
    {
     "data": {
      "text/plain": [
       "'MNXM457_c0'"
      ]
     },
     "execution_count": 10,
     "metadata": {},
     "output_type": "execute_result"
    },
    {
     "name": "stdout",
     "output_type": "stream",
     "text": [
      "betald_c0\n"
     ]
    },
    {
     "data": {
      "text/plain": [
       "'MNXM289_c0'"
      ]
     },
     "execution_count": 10,
     "metadata": {},
     "output_type": "execute_result"
    },
    {
     "name": "stdout",
     "output_type": "stream",
     "text": [
      "glyb_c0\n"
     ]
    },
    {
     "data": {
      "text/plain": [
       "'MNXM55269_c0'"
      ]
     },
     "execution_count": 10,
     "metadata": {},
     "output_type": "execute_result"
    },
    {
     "name": "stdout",
     "output_type": "stream",
     "text": [
      "gly_asp__L_c0\n"
     ]
    },
    {
     "data": {
      "text/plain": [
       "'MNXM51_c0'"
      ]
     },
     "execution_count": 10,
     "metadata": {},
     "output_type": "execute_result"
    },
    {
     "name": "stdout",
     "output_type": "stream",
     "text": [
      "gtp_c0\n"
     ]
    },
    {
     "data": {
      "text/plain": [
       "'MNXM58_c0'"
      ]
     },
     "execution_count": 10,
     "metadata": {},
     "output_type": "execute_result"
    },
    {
     "name": "stdout",
     "output_type": "stream",
     "text": [
      "so4_c0\n"
     ]
    },
    {
     "data": {
      "text/plain": [
       "'MNXM30_c0'"
      ]
     },
     "execution_count": 10,
     "metadata": {},
     "output_type": "execute_result"
    },
    {
     "name": "stdout",
     "output_type": "stream",
     "text": [
      "gdp_c0\n"
     ]
    },
    {
     "data": {
      "text/plain": [
       "'MNXM287_c0'"
      ]
     },
     "execution_count": 10,
     "metadata": {},
     "output_type": "execute_result"
    },
    {
     "name": "stdout",
     "output_type": "stream",
     "text": [
      "aps_c0\n"
     ]
    },
    {
     "data": {
      "text/plain": [
       "'MNXM266_c0'"
      ]
     },
     "execution_count": 10,
     "metadata": {},
     "output_type": "execute_result"
    },
    {
     "name": "stdout",
     "output_type": "stream",
     "text": [
      "dcmp_c0\n"
     ]
    },
    {
     "data": {
      "text/plain": [
       "'MNXM1777_c0'"
      ]
     },
     "execution_count": 10,
     "metadata": {},
     "output_type": "execute_result"
    },
    {
     "name": "stdout",
     "output_type": "stream",
     "text": [
      "rhcys_c0\n"
     ]
    },
    {
     "data": {
      "text/plain": [
       "'MNXM123_c0'"
      ]
     },
     "execution_count": 10,
     "metadata": {},
     "output_type": "execute_result"
    },
    {
     "name": "stdout",
     "output_type": "stream",
     "text": [
      "hcys__L_c0\n"
     ]
    },
    {
     "data": {
      "text/plain": [
       "'MNXM2449_c0'"
      ]
     },
     "execution_count": 10,
     "metadata": {},
     "output_type": "execute_result"
    },
    {
     "name": "stdout",
     "output_type": "stream",
     "text": [
      "dhptd_c0\n"
     ]
    },
    {
     "data": {
      "text/plain": [
       "'MNXM423_c0'"
      ]
     },
     "execution_count": 10,
     "metadata": {},
     "output_type": "execute_result"
    },
    {
     "name": "stdout",
     "output_type": "stream",
     "text": [
      "itp_c0\n"
     ]
    },
    {
     "data": {
      "text/plain": [
       "'MNXM495_c0'"
      ]
     },
     "execution_count": 10,
     "metadata": {},
     "output_type": "execute_result"
    },
    {
     "name": "stdout",
     "output_type": "stream",
     "text": [
      "idp_c0\n"
     ]
    },
    {
     "data": {
      "text/plain": [
       "'MNXM40_c0'"
      ]
     },
     "execution_count": 10,
     "metadata": {},
     "output_type": "execute_result"
    },
    {
     "name": "stdout",
     "output_type": "stream",
     "text": [
      "malcoa_c0\n"
     ]
    },
    {
     "data": {
      "text/plain": [
       "'MNXM565_c0'"
      ]
     },
     "execution_count": 10,
     "metadata": {},
     "output_type": "execute_result"
    },
    {
     "name": "stdout",
     "output_type": "stream",
     "text": [
      "dcamp_c0\n"
     ]
    },
    {
     "data": {
      "text/plain": [
       "'MNXM338_c0'"
      ]
     },
     "execution_count": 10,
     "metadata": {},
     "output_type": "execute_result"
    },
    {
     "name": "stdout",
     "output_type": "stream",
     "text": [
      "cytd_c0\n"
     ]
    },
    {
     "data": {
      "text/plain": [
       "'MNXM63_c0'"
      ]
     },
     "execution_count": 10,
     "metadata": {},
     "output_type": "execute_result"
    },
    {
     "name": "stdout",
     "output_type": "stream",
     "text": [
      "ctp_c0\n"
     ]
    },
    {
     "data": {
      "text/plain": [
       "'MNXM415_c0'"
      ]
     },
     "execution_count": 10,
     "metadata": {},
     "output_type": "execute_result"
    },
    {
     "name": "stdout",
     "output_type": "stream",
     "text": [
      "4ppan_c0\n"
     ]
    },
    {
     "data": {
      "text/plain": [
       "'MNXM483_c0'"
      ]
     },
     "execution_count": 10,
     "metadata": {},
     "output_type": "execute_result"
    },
    {
     "name": "stdout",
     "output_type": "stream",
     "text": [
      "4ppcys_c0\n"
     ]
    },
    {
     "data": {
      "text/plain": [
       "'MNXM52_c0'"
      ]
     },
     "execution_count": 10,
     "metadata": {},
     "output_type": "execute_result"
    },
    {
     "name": "stdout",
     "output_type": "stream",
     "text": [
      "udpg_c0\n"
     ]
    },
    {
     "data": {
      "text/plain": [
       "'MNXM87_c0'"
      ]
     },
     "execution_count": 10,
     "metadata": {},
     "output_type": "execute_result"
    },
    {
     "name": "stdout",
     "output_type": "stream",
     "text": [
      "udpglcur_c0\n"
     ]
    },
    {
     "data": {
      "text/plain": [
       "'MNXM1280_c0'"
      ]
     },
     "execution_count": 10,
     "metadata": {},
     "output_type": "execute_result"
    },
    {
     "name": "stdout",
     "output_type": "stream",
     "text": [
      "glu5p_c0\n"
     ]
    },
    {
     "data": {
      "text/plain": [
       "'MNXM237_c0'"
      ]
     },
     "execution_count": 10,
     "metadata": {},
     "output_type": "execute_result"
    },
    {
     "name": "stdout",
     "output_type": "stream",
     "text": [
      "10fthf_c0\n"
     ]
    },
    {
     "data": {
      "text/plain": [
       "'MNXM188_c0'"
      ]
     },
     "execution_count": 10,
     "metadata": {},
     "output_type": "execute_result"
    },
    {
     "name": "stdout",
     "output_type": "stream",
     "text": [
      "anth_c0\n"
     ]
    },
    {
     "data": {
      "text/plain": [
       "'MNXM730_c0'"
      ]
     },
     "execution_count": 10,
     "metadata": {},
     "output_type": "execute_result"
    },
    {
     "name": "stdout",
     "output_type": "stream",
     "text": [
      "acglu_c0\n"
     ]
    },
    {
     "data": {
      "text/plain": [
       "'MNXM704_c0'"
      ]
     },
     "execution_count": 10,
     "metadata": {},
     "output_type": "execute_result"
    },
    {
     "name": "stdout",
     "output_type": "stream",
     "text": [
      "dcyt_c0\n"
     ]
    },
    {
     "data": {
      "text/plain": [
       "'MNXM3508_c0'"
      ]
     },
     "execution_count": 10,
     "metadata": {},
     "output_type": "execute_result"
    },
    {
     "name": "stdout",
     "output_type": "stream",
     "text": [
      "5hxkynam_c0\n"
     ]
    },
    {
     "data": {
      "text/plain": [
       "'MNXM1132_c0'"
      ]
     },
     "execution_count": 10,
     "metadata": {},
     "output_type": "execute_result"
    },
    {
     "name": "stdout",
     "output_type": "stream",
     "text": [
      "sbzcoa_c0\n"
     ]
    },
    {
     "data": {
      "text/plain": [
       "'MNXM552_c0'"
      ]
     },
     "execution_count": 10,
     "metadata": {},
     "output_type": "execute_result"
    },
    {
     "name": "stdout",
     "output_type": "stream",
     "text": [
      "dhna_c0\n"
     ]
    },
    {
     "data": {
      "text/plain": [
       "'MNXM25_e0'"
      ]
     },
     "execution_count": 10,
     "metadata": {},
     "output_type": "execute_result"
    },
    {
     "name": "stdout",
     "output_type": "stream",
     "text": [
      "succ_e0\n"
     ]
    },
    {
     "data": {
      "text/plain": [
       "'MNXM25_c0'"
      ]
     },
     "execution_count": 10,
     "metadata": {},
     "output_type": "execute_result"
    },
    {
     "name": "stdout",
     "output_type": "stream",
     "text": [
      "succ_c0\n"
     ]
    },
    {
     "data": {
      "text/plain": [
       "'MNXM186_c0'"
      ]
     },
     "execution_count": 10,
     "metadata": {},
     "output_type": "execute_result"
    },
    {
     "name": "stdout",
     "output_type": "stream",
     "text": [
      "xu5p__D_c0\n"
     ]
    },
    {
     "data": {
      "text/plain": [
       "'MNXM417_c0'"
      ]
     },
     "execution_count": 10,
     "metadata": {},
     "output_type": "execute_result"
    },
    {
     "name": "stdout",
     "output_type": "stream",
     "text": [
      "fdp_c0\n"
     ]
    },
    {
     "data": {
      "text/plain": [
       "'MNXM881_c0'"
      ]
     },
     "execution_count": 10,
     "metadata": {},
     "output_type": "execute_result"
    },
    {
     "name": "stdout",
     "output_type": "stream",
     "text": [
      "r15bp_c0\n"
     ]
    },
    {
     "data": {
      "text/plain": [
       "'MNXM1748_c0'"
      ]
     },
     "execution_count": 10,
     "metadata": {},
     "output_type": "execute_result"
    },
    {
     "name": "stdout",
     "output_type": "stream",
     "text": [
      "fcl__L_c0\n"
     ]
    },
    {
     "data": {
      "text/plain": [
       "'MNXM1749_c0'"
      ]
     },
     "execution_count": 10,
     "metadata": {},
     "output_type": "execute_result"
    },
    {
     "name": "stdout",
     "output_type": "stream",
     "text": [
      "fc1p_c0\n"
     ]
    },
    {
     "data": {
      "text/plain": [
       "'MNXM368_c0'"
      ]
     },
     "execution_count": 10,
     "metadata": {},
     "output_type": "execute_result"
    },
    {
     "name": "stdout",
     "output_type": "stream",
     "text": [
      "g3pe_c0\n"
     ]
    },
    {
     "data": {
      "text/plain": [
       "'MNXM8825_e0'"
      ]
     },
     "execution_count": 10,
     "metadata": {},
     "output_type": "execute_result"
    },
    {
     "name": "stdout",
     "output_type": "stream",
     "text": [
      "metox__R_e0\n"
     ]
    },
    {
     "data": {
      "text/plain": [
       "'MNXM8825_c0'"
      ]
     },
     "execution_count": 10,
     "metadata": {},
     "output_type": "execute_result"
    },
    {
     "name": "stdout",
     "output_type": "stream",
     "text": [
      "metox__R_c0\n"
     ]
    },
    {
     "data": {
      "text/plain": [
       "'MNXM244_c0'"
      ]
     },
     "execution_count": 10,
     "metadata": {},
     "output_type": "execute_result"
    },
    {
     "name": "stdout",
     "output_type": "stream",
     "text": [
      "msa_c0\n"
     ]
    },
    {
     "data": {
      "text/plain": [
       "'MNXM401_c0'"
      ]
     },
     "execution_count": 10,
     "metadata": {},
     "output_type": "execute_result"
    },
    {
     "name": "stdout",
     "output_type": "stream",
     "text": [
      "gsn_c0\n"
     ]
    },
    {
     "data": {
      "text/plain": [
       "'MNXM687_c0'"
      ]
     },
     "execution_count": 10,
     "metadata": {},
     "output_type": "execute_result"
    },
    {
     "name": "stdout",
     "output_type": "stream",
     "text": [
      "xtsn_c0\n"
     ]
    },
    {
     "data": {
      "text/plain": [
       "'MNXM75102_c0'"
      ]
     },
     "execution_count": 10,
     "metadata": {},
     "output_type": "execute_result"
    },
    {
     "name": "stdout",
     "output_type": "stream",
     "text": [
      "pg180_c0\n"
     ]
    },
    {
     "data": {
      "text/plain": [
       "'MNXM89612_c0'"
      ]
     },
     "execution_count": 10,
     "metadata": {},
     "output_type": "execute_result"
    },
    {
     "name": "stdout",
     "output_type": "stream",
     "text": [
      "glyc_c0\n"
     ]
    },
    {
     "data": {
      "text/plain": [
       "'MNXM1482_c0'"
      ]
     },
     "execution_count": 10,
     "metadata": {},
     "output_type": "execute_result"
    },
    {
     "name": "stdout",
     "output_type": "stream",
     "text": [
      "hisp_c0\n"
     ]
    },
    {
     "data": {
      "text/plain": [
       "'MNXM1456_c0'"
      ]
     },
     "execution_count": 10,
     "metadata": {},
     "output_type": "execute_result"
    },
    {
     "name": "stdout",
     "output_type": "stream",
     "text": [
      "imacp_c0\n"
     ]
    },
    {
     "data": {
      "text/plain": [
       "'MNXM1123_c0'"
      ]
     },
     "execution_count": 10,
     "metadata": {},
     "output_type": "execute_result"
    },
    {
     "name": "stdout",
     "output_type": "stream",
     "text": [
      "uppg1_c0\n"
     ]
    },
    {
     "data": {
      "text/plain": [
       "'MNXM1322_c0'"
      ]
     },
     "execution_count": 10,
     "metadata": {},
     "output_type": "execute_result"
    },
    {
     "name": "stdout",
     "output_type": "stream",
     "text": [
      "cpppg1_c0\n"
     ]
    },
    {
     "data": {
      "text/plain": [
       "'MNXM118_c0'"
      ]
     },
     "execution_count": 10,
     "metadata": {},
     "output_type": "execute_result"
    },
    {
     "name": "stdout",
     "output_type": "stream",
     "text": [
      "ptrc_c0\n"
     ]
    },
    {
     "data": {
      "text/plain": [
       "'MNXM124_c0'"
      ]
     },
     "execution_count": 10,
     "metadata": {},
     "output_type": "execute_result"
    },
    {
     "name": "stdout",
     "output_type": "stream",
     "text": [
      "spmd_c0\n"
     ]
    },
    {
     "data": {
      "text/plain": [
       "'MNXM1778_c0'"
      ]
     },
     "execution_count": 10,
     "metadata": {},
     "output_type": "execute_result"
    },
    {
     "name": "stdout",
     "output_type": "stream",
     "text": [
      "hspmd_c0\n"
     ]
    },
    {
     "data": {
      "text/plain": [
       "'MNXM993_c0'"
      ]
     },
     "execution_count": 10,
     "metadata": {},
     "output_type": "execute_result"
    },
    {
     "name": "stdout",
     "output_type": "stream",
     "text": [
      "dhnpt_c0\n"
     ]
    },
    {
     "data": {
      "text/plain": [
       "'MNXM349_c0'"
      ]
     },
     "execution_count": 10,
     "metadata": {},
     "output_type": "execute_result"
    },
    {
     "name": "stdout",
     "output_type": "stream",
     "text": [
      "gcald_c0\n"
     ]
    },
    {
     "data": {
      "text/plain": [
       "'MNXM937_c0'"
      ]
     },
     "execution_count": 10,
     "metadata": {},
     "output_type": "execute_result"
    },
    {
     "name": "stdout",
     "output_type": "stream",
     "text": [
      "6hmhpt_c0\n"
     ]
    },
    {
     "data": {
      "text/plain": [
       "'MNXM901_c0'"
      ]
     },
     "execution_count": 10,
     "metadata": {},
     "output_type": "execute_result"
    },
    {
     "name": "stdout",
     "output_type": "stream",
     "text": [
      "ru5p__L_c0\n"
     ]
    },
    {
     "data": {
      "text/plain": [
       "'MNXM5_c0'"
      ]
     },
     "execution_count": 10,
     "metadata": {},
     "output_type": "execute_result"
    },
    {
     "name": "stdout",
     "output_type": "stream",
     "text": [
      "nadp_c0\n"
     ]
    },
    {
     "data": {
      "text/plain": [
       "'MNXM132_c0'"
      ]
     },
     "execution_count": 10,
     "metadata": {},
     "output_type": "execute_result"
    },
    {
     "name": "stdout",
     "output_type": "stream",
     "text": [
      "dmpp_c0\n"
     ]
    },
    {
     "data": {
      "text/plain": [
       "'MNXM6_c0'"
      ]
     },
     "execution_count": 10,
     "metadata": {},
     "output_type": "execute_result"
    },
    {
     "name": "stdout",
     "output_type": "stream",
     "text": [
      "nadph_c0\n"
     ]
    },
    {
     "data": {
      "text/plain": [
       "'MNXM606_c0'"
      ]
     },
     "execution_count": 10,
     "metadata": {},
     "output_type": "execute_result"
    },
    {
     "name": "stdout",
     "output_type": "stream",
     "text": [
      "h2mb4p_c0\n"
     ]
    },
    {
     "data": {
      "text/plain": [
       "'MNXM1779_c0'"
      ]
     },
     "execution_count": 10,
     "metadata": {},
     "output_type": "execute_result"
    },
    {
     "name": "stdout",
     "output_type": "stream",
     "text": [
      "tdchola_c0\n"
     ]
    },
    {
     "data": {
      "text/plain": [
       "'MNXM282_c0'"
      ]
     },
     "execution_count": 10,
     "metadata": {},
     "output_type": "execute_result"
    },
    {
     "name": "stdout",
     "output_type": "stream",
     "text": [
      "taur_c0\n"
     ]
    },
    {
     "data": {
      "text/plain": [
       "'MNXM1183_c0'"
      ]
     },
     "execution_count": 10,
     "metadata": {},
     "output_type": "execute_result"
    },
    {
     "name": "stdout",
     "output_type": "stream",
     "text": [
      "C02528_c0\n"
     ]
    },
    {
     "data": {
      "text/plain": [
       "'MNXM66_c0'"
      ]
     },
     "execution_count": 10,
     "metadata": {},
     "output_type": "execute_result"
    },
    {
     "name": "stdout",
     "output_type": "stream",
     "text": [
      "glyc3p_c0\n"
     ]
    },
    {
     "data": {
      "text/plain": [
       "'MNXM3426_c0'"
      ]
     },
     "execution_count": 10,
     "metadata": {},
     "output_type": "execute_result"
    },
    {
     "name": "stdout",
     "output_type": "stream",
     "text": [
      "1tdecg3p_c0\n"
     ]
    },
    {
     "data": {
      "text/plain": [
       "'MNXM51017_c0'"
      ]
     },
     "execution_count": 10,
     "metadata": {},
     "output_type": "execute_result"
    },
    {
     "name": "stdout",
     "output_type": "stream",
     "text": [
      "pa140_c0\n"
     ]
    },
    {
     "data": {
      "text/plain": [
       "'MNXM141_c0'"
      ]
     },
     "execution_count": 10,
     "metadata": {},
     "output_type": "execute_result"
    },
    {
     "name": "stdout",
     "output_type": "stream",
     "text": [
      "cmpacna_c0\n"
     ]
    },
    {
     "data": {
      "text/plain": [
       "'MNXM5618_c0'"
      ]
     },
     "execution_count": 10,
     "metadata": {},
     "output_type": "execute_result"
    },
    {
     "name": "stdout",
     "output_type": "stream",
     "text": [
      "gt1a_cho_c0\n"
     ]
    },
    {
     "data": {
      "text/plain": [
       "'MNXM34_c0'"
      ]
     },
     "execution_count": 10,
     "metadata": {},
     "output_type": "execute_result"
    },
    {
     "name": "stdout",
     "output_type": "stream",
     "text": [
      "frdp_c0\n"
     ]
    },
    {
     "data": {
      "text/plain": [
       "'MNXM139_c0'"
      ]
     },
     "execution_count": 10,
     "metadata": {},
     "output_type": "execute_result"
    },
    {
     "name": "stdout",
     "output_type": "stream",
     "text": [
      "ggdp_c0\n"
     ]
    },
    {
     "data": {
      "text/plain": [
       "'MNXM238_c0'"
      ]
     },
     "execution_count": 10,
     "metadata": {},
     "output_type": "execute_result"
    },
    {
     "name": "stdout",
     "output_type": "stream",
     "text": [
      "3mob_c0\n"
     ]
    },
    {
     "data": {
      "text/plain": [
       "'MNXM10019_c0'"
      ]
     },
     "execution_count": 10,
     "metadata": {},
     "output_type": "execute_result"
    },
    {
     "name": "stdout",
     "output_type": "stream",
     "text": [
      "3hoctACP_c0\n"
     ]
    },
    {
     "data": {
      "text/plain": [
       "'MNXM23766_c0'"
      ]
     },
     "execution_count": 10,
     "metadata": {},
     "output_type": "execute_result"
    },
    {
     "name": "stdout",
     "output_type": "stream",
     "text": [
      "toct2eACP_c0\n"
     ]
    },
    {
     "data": {
      "text/plain": [
       "'MNXM145_c0'"
      ]
     },
     "execution_count": 10,
     "metadata": {},
     "output_type": "execute_result"
    },
    {
     "name": "stdout",
     "output_type": "stream",
     "text": [
      "ru5p__D_c0\n"
     ]
    },
    {
     "data": {
      "text/plain": [
       "'MNXM39_c0'"
      ]
     },
     "execution_count": 10,
     "metadata": {},
     "output_type": "execute_result"
    },
    {
     "name": "stdout",
     "output_type": "stream",
     "text": [
      "for_c0\n"
     ]
    },
    {
     "data": {
      "text/plain": [
       "'MNXM2323_c0'"
      ]
     },
     "execution_count": 10,
     "metadata": {},
     "output_type": "execute_result"
    },
    {
     "name": "stdout",
     "output_type": "stream",
     "text": [
      "db4p_c0\n"
     ]
    },
    {
     "data": {
      "text/plain": [
       "'MNXM817_c0'"
      ]
     },
     "execution_count": 10,
     "metadata": {},
     "output_type": "execute_result"
    },
    {
     "name": "stdout",
     "output_type": "stream",
     "text": [
      "acorn_c0\n"
     ]
    },
    {
     "data": {
      "text/plain": [
       "'MNXM96993_c0'"
      ]
     },
     "execution_count": 10,
     "metadata": {},
     "output_type": "execute_result"
    },
    {
     "name": "stdout",
     "output_type": "stream",
     "text": [
      "trdrd_c0\n"
     ]
    },
    {
     "data": {
      "text/plain": [
       "'MNXM148_c0'"
      ]
     },
     "execution_count": 10,
     "metadata": {},
     "output_type": "execute_result"
    },
    {
     "name": "stdout",
     "output_type": "stream",
     "text": [
      "trdox_c0\n"
     ]
    },
    {
     "data": {
      "text/plain": [
       "'MNXM1470_c0'"
      ]
     },
     "execution_count": 10,
     "metadata": {},
     "output_type": "execute_result"
    },
    {
     "name": "stdout",
     "output_type": "stream",
     "text": [
      "creat_c0\n"
     ]
    },
    {
     "data": {
      "text/plain": [
       "'MNXM77_c0'"
      ]
     },
     "execution_count": 10,
     "metadata": {},
     "output_type": "execute_result"
    },
    {
     "name": "stdout",
     "output_type": "stream",
     "text": [
      "dhap_c0\n"
     ]
    },
    {
     "data": {
      "text/plain": [
       "'MNXM362_c0'"
      ]
     },
     "execution_count": 10,
     "metadata": {},
     "output_type": "execute_result"
    },
    {
     "name": "stdout",
     "output_type": "stream",
     "text": [
      "lcts_c0\n"
     ]
    },
    {
     "data": {
      "text/plain": [
       "'MNXM45895_c0'"
      ]
     },
     "execution_count": 10,
     "metadata": {},
     "output_type": "execute_result"
    },
    {
     "name": "stdout",
     "output_type": "stream",
     "text": [
      "cdpglc_c0\n"
     ]
    },
    {
     "data": {
      "text/plain": [
       "'MNXM1370_c0'"
      ]
     },
     "execution_count": 10,
     "metadata": {},
     "output_type": "execute_result"
    },
    {
     "name": "stdout",
     "output_type": "stream",
     "text": [
      "cdp4dh6doglc_c0\n"
     ]
    },
    {
     "data": {
      "text/plain": [
       "'MNXM555_c0'"
      ]
     },
     "execution_count": 10,
     "metadata": {},
     "output_type": "execute_result"
    },
    {
     "name": "stdout",
     "output_type": "stream",
     "text": [
      "quln_c0\n"
     ]
    },
    {
     "data": {
      "text/plain": [
       "'MNXM599_c0'"
      ]
     },
     "execution_count": 10,
     "metadata": {},
     "output_type": "execute_result"
    },
    {
     "name": "stdout",
     "output_type": "stream",
     "text": [
      "iasp_c0\n"
     ]
    },
    {
     "data": {
      "text/plain": [
       "'MNXM1051_c0'"
      ]
     },
     "execution_count": 10,
     "metadata": {},
     "output_type": "execute_result"
    },
    {
     "name": "stdout",
     "output_type": "stream",
     "text": [
      "hmgth_c0\n"
     ]
    },
    {
     "data": {
      "text/plain": [
       "'MNXM952_c0'"
      ]
     },
     "execution_count": 10,
     "metadata": {},
     "output_type": "execute_result"
    },
    {
     "name": "stdout",
     "output_type": "stream",
     "text": [
      "Sfglutth_c0\n"
     ]
    },
    {
     "data": {
      "text/plain": [
       "'MNXM150_c0'"
      ]
     },
     "execution_count": 10,
     "metadata": {},
     "output_type": "execute_result"
    },
    {
     "name": "stdout",
     "output_type": "stream",
     "text": [
      "5mta_c0\n"
     ]
    },
    {
     "data": {
      "text/plain": [
       "'MNXM168_c0'"
      ]
     },
     "execution_count": 10,
     "metadata": {},
     "output_type": "execute_result"
    },
    {
     "name": "stdout",
     "output_type": "stream",
     "text": [
      "ade_c0\n"
     ]
    },
    {
     "data": {
      "text/plain": [
       "'MNXM1592_c0'"
      ]
     },
     "execution_count": 10,
     "metadata": {},
     "output_type": "execute_result"
    },
    {
     "name": "stdout",
     "output_type": "stream",
     "text": [
      "5mtr_c0\n"
     ]
    },
    {
     "data": {
      "text/plain": [
       "'MNXM1184_c0'"
      ]
     },
     "execution_count": 10,
     "metadata": {},
     "output_type": "execute_result"
    },
    {
     "name": "stdout",
     "output_type": "stream",
     "text": [
      "ara5p_c0\n"
     ]
    },
    {
     "data": {
      "text/plain": [
       "'MNXM15783_e0'"
      ]
     },
     "execution_count": 10,
     "metadata": {},
     "output_type": "execute_result"
    },
    {
     "name": "stdout",
     "output_type": "stream",
     "text": [
      "L_alagly_e0\n"
     ]
    },
    {
     "data": {
      "text/plain": [
       "'MNXM15783_c0'"
      ]
     },
     "execution_count": 10,
     "metadata": {},
     "output_type": "execute_result"
    },
    {
     "name": "stdout",
     "output_type": "stream",
     "text": [
      "L_alagly_c0\n"
     ]
    },
    {
     "data": {
      "text/plain": [
       "'MNXM218_c0'"
      ]
     },
     "execution_count": 10,
     "metadata": {},
     "output_type": "execute_result"
    },
    {
     "name": "stdout",
     "output_type": "stream",
     "text": [
      "etha_c0\n"
     ]
    },
    {
     "data": {
      "text/plain": [
       "'MNXM75_c0'"
      ]
     },
     "execution_count": 10,
     "metadata": {},
     "output_type": "execute_result"
    },
    {
     "name": "stdout",
     "output_type": "stream",
     "text": [
      "acald_c0\n"
     ]
    },
    {
     "data": {
      "text/plain": [
       "'MNXM143_c0'"
      ]
     },
     "execution_count": 10,
     "metadata": {},
     "output_type": "execute_result"
    },
    {
     "name": "stdout",
     "output_type": "stream",
     "text": [
      "acgam_c0\n"
     ]
    },
    {
     "data": {
      "text/plain": [
       "'MNXM91871_c0'"
      ]
     },
     "execution_count": 10,
     "metadata": {},
     "output_type": "execute_result"
    },
    {
     "name": "stdout",
     "output_type": "stream",
     "text": [
      "acgam1p_c0\n"
     ]
    },
    {
     "data": {
      "text/plain": [
       "'MNXM89955_c0'"
      ]
     },
     "execution_count": 10,
     "metadata": {},
     "output_type": "execute_result"
    },
    {
     "name": "stdout",
     "output_type": "stream",
     "text": [
      "mmcoa__S_c0\n"
     ]
    },
    {
     "data": {
      "text/plain": [
       "'MNXM86_c0'"
      ]
     },
     "execution_count": 10,
     "metadata": {},
     "output_type": "execute_result"
    },
    {
     "name": "stdout",
     "output_type": "stream",
     "text": [
      "ppcoa_c0\n"
     ]
    },
    {
     "data": {
      "text/plain": [
       "'MNXM492_e0'"
      ]
     },
     "execution_count": 10,
     "metadata": {},
     "output_type": "execute_result"
    },
    {
     "name": "stdout",
     "output_type": "stream",
     "text": [
      "duri_e0\n"
     ]
    },
    {
     "data": {
      "text/plain": [
       "'MNXM492_c0'"
      ]
     },
     "execution_count": 10,
     "metadata": {},
     "output_type": "execute_result"
    },
    {
     "name": "stdout",
     "output_type": "stream",
     "text": [
      "duri_c0\n"
     ]
    },
    {
     "data": {
      "text/plain": [
       "'MNXM258_c0'"
      ]
     },
     "execution_count": 10,
     "metadata": {},
     "output_type": "execute_result"
    },
    {
     "name": "stdout",
     "output_type": "stream",
     "text": [
      "e4p_c0\n"
     ]
    },
    {
     "data": {
      "text/plain": [
       "'MNXM1407_c0'"
      ]
     },
     "execution_count": 10,
     "metadata": {},
     "output_type": "execute_result"
    },
    {
     "name": "stdout",
     "output_type": "stream",
     "text": [
      "4per_c0\n"
     ]
    },
    {
     "data": {
      "text/plain": [
       "'MNXM8264_e0'"
      ]
     },
     "execution_count": 10,
     "metadata": {},
     "output_type": "execute_result"
    },
    {
     "name": "stdout",
     "output_type": "stream",
     "text": [
      "ala_L_Thr__L_e0\n"
     ]
    },
    {
     "data": {
      "text/plain": [
       "'MNXM8264_c0'"
      ]
     },
     "execution_count": 10,
     "metadata": {},
     "output_type": "execute_result"
    },
    {
     "name": "stdout",
     "output_type": "stream",
     "text": [
      "ala_L_Thr__L_c0\n"
     ]
    },
    {
     "data": {
      "text/plain": [
       "'MNXM577_c0'"
      ]
     },
     "execution_count": 10,
     "metadata": {},
     "output_type": "execute_result"
    },
    {
     "name": "stdout",
     "output_type": "stream",
     "text": [
      "4hbald_c0\n"
     ]
    },
    {
     "data": {
      "text/plain": [
       "'MNXM164_c0'"
      ]
     },
     "execution_count": 10,
     "metadata": {},
     "output_type": "execute_result"
    },
    {
     "name": "stdout",
     "output_type": "stream",
     "text": [
      "4hbz_c0\n"
     ]
    },
    {
     "data": {
      "text/plain": [
       "'MNXM305_c0'"
      ]
     },
     "execution_count": 10,
     "metadata": {},
     "output_type": "execute_result"
    },
    {
     "name": "stdout",
     "output_type": "stream",
     "text": [
      "2mop_c0\n"
     ]
    },
    {
     "data": {
      "text/plain": [
       "'MNXM11_e0'"
      ]
     },
     "execution_count": 10,
     "metadata": {},
     "output_type": "execute_result"
    },
    {
     "name": "stdout",
     "output_type": "stream",
     "text": [
      "ppi_e0\n"
     ]
    },
    {
     "data": {
      "text/plain": [
       "'MNXM519_c0'"
      ]
     },
     "execution_count": 10,
     "metadata": {},
     "output_type": "execute_result"
    },
    {
     "name": "stdout",
     "output_type": "stream",
     "text": [
      "orot5p_c0\n"
     ]
    },
    {
     "data": {
      "text/plain": [
       "'MNXM80_c0'"
      ]
     },
     "execution_count": 10,
     "metadata": {},
     "output_type": "execute_result"
    },
    {
     "name": "stdout",
     "output_type": "stream",
     "text": [
      "ump_c0\n"
     ]
    },
    {
     "data": {
      "text/plain": [
       "'MNXM41271_c0'"
      ]
     },
     "execution_count": 10,
     "metadata": {},
     "output_type": "execute_result"
    },
    {
     "name": "stdout",
     "output_type": "stream",
     "text": [
      "rbl__D_c0\n"
     ]
    },
    {
     "data": {
      "text/plain": [
       "'MNXM960_c0'"
      ]
     },
     "execution_count": 10,
     "metadata": {},
     "output_type": "execute_result"
    },
    {
     "name": "stdout",
     "output_type": "stream",
     "text": [
      "4mpetz_c0\n"
     ]
    },
    {
     "data": {
      "text/plain": [
       "'MNXM1135_c0'"
      ]
     },
     "execution_count": 10,
     "metadata": {},
     "output_type": "execute_result"
    },
    {
     "name": "stdout",
     "output_type": "stream",
     "text": [
      "2mahmp_c0\n"
     ]
    },
    {
     "data": {
      "text/plain": [
       "'MNXM662_c0'"
      ]
     },
     "execution_count": 10,
     "metadata": {},
     "output_type": "execute_result"
    },
    {
     "name": "stdout",
     "output_type": "stream",
     "text": [
      "thmmp_c0\n"
     ]
    },
    {
     "data": {
      "text/plain": [
       "'MNXM5461_c0'"
      ]
     },
     "execution_count": 10,
     "metadata": {},
     "output_type": "execute_result"
    },
    {
     "name": "stdout",
     "output_type": "stream",
     "text": [
      "2ddecg3p_c0\n"
     ]
    },
    {
     "data": {
      "text/plain": [
       "'MNXM318_c0'"
      ]
     },
     "execution_count": 10,
     "metadata": {},
     "output_type": "execute_result"
    },
    {
     "name": "stdout",
     "output_type": "stream",
     "text": [
      "5mthf_c0\n"
     ]
    },
    {
     "data": {
      "text/plain": [
       "'MNXM183_c0'"
      ]
     },
     "execution_count": 10,
     "metadata": {},
     "output_type": "execute_result"
    },
    {
     "name": "stdout",
     "output_type": "stream",
     "text": [
      "mlthf_c0\n"
     ]
    },
    {
     "data": {
      "text/plain": [
       "'MNXM2623_c0'"
      ]
     },
     "execution_count": 10,
     "metadata": {},
     "output_type": "execute_result"
    },
    {
     "name": "stdout",
     "output_type": "stream",
     "text": [
      "mhpglu_c0\n"
     ]
    },
    {
     "data": {
      "text/plain": [
       "'MNXM2563_c0'"
      ]
     },
     "execution_count": 10,
     "metadata": {},
     "output_type": "execute_result"
    },
    {
     "name": "stdout",
     "output_type": "stream",
     "text": [
      "hpglu_c0\n"
     ]
    },
    {
     "data": {
      "text/plain": [
       "'MNXM286_c0'"
      ]
     },
     "execution_count": 10,
     "metadata": {},
     "output_type": "execute_result"
    },
    {
     "name": "stdout",
     "output_type": "stream",
     "text": [
      "datp_c0\n"
     ]
    },
    {
     "data": {
      "text/plain": [
       "'MNXM288_c0'"
      ]
     },
     "execution_count": 10,
     "metadata": {},
     "output_type": "execute_result"
    },
    {
     "name": "stdout",
     "output_type": "stream",
     "text": [
      "uri_c0\n"
     ]
    },
    {
     "data": {
      "text/plain": [
       "'MNXM374_c0'"
      ]
     },
     "execution_count": 10,
     "metadata": {},
     "output_type": "execute_result"
    },
    {
     "name": "stdout",
     "output_type": "stream",
     "text": [
      "dadp_c0\n"
     ]
    },
    {
     "data": {
      "text/plain": [
       "'MNXM90512_c0'"
      ]
     },
     "execution_count": 10,
     "metadata": {},
     "output_type": "execute_result"
    },
    {
     "name": "stdout",
     "output_type": "stream",
     "text": [
      "pa141_c0\n"
     ]
    },
    {
     "data": {
      "text/plain": [
       "'MNXM8263_e0'"
      ]
     },
     "execution_count": 10,
     "metadata": {},
     "output_type": "execute_result"
    },
    {
     "name": "stdout",
     "output_type": "stream",
     "text": [
      "ala_L_glu__L_e0\n"
     ]
    },
    {
     "data": {
      "text/plain": [
       "'MNXM8263_c0'"
      ]
     },
     "execution_count": 10,
     "metadata": {},
     "output_type": "execute_result"
    },
    {
     "name": "stdout",
     "output_type": "stream",
     "text": [
      "ala_L_glu__L_c0\n"
     ]
    },
    {
     "data": {
      "text/plain": [
       "'MNXM761_c0'"
      ]
     },
     "execution_count": 10,
     "metadata": {},
     "output_type": "execute_result"
    },
    {
     "name": "stdout",
     "output_type": "stream",
     "text": [
      "csn_c0\n"
     ]
    },
    {
     "data": {
      "text/plain": [
       "'MNXM158_c0'"
      ]
     },
     "execution_count": 10,
     "metadata": {},
     "output_type": "execute_result"
    },
    {
     "name": "stdout",
     "output_type": "stream",
     "text": [
      "ura_c0\n"
     ]
    },
    {
     "data": {
      "text/plain": [
       "'MNXM946_c0'"
      ]
     },
     "execution_count": 10,
     "metadata": {},
     "output_type": "execute_result"
    },
    {
     "name": "stdout",
     "output_type": "stream",
     "text": [
      "lipa_c0\n"
     ]
    },
    {
     "data": {
      "text/plain": [
       "'MNXM857_c0'"
      ]
     },
     "execution_count": 10,
     "metadata": {},
     "output_type": "execute_result"
    },
    {
     "name": "stdout",
     "output_type": "stream",
     "text": [
      "adphep_LD_c0\n"
     ]
    },
    {
     "data": {
      "text/plain": [
       "'MNXM2680_c0'"
      ]
     },
     "execution_count": 10,
     "metadata": {},
     "output_type": "execute_result"
    },
    {
     "name": "stdout",
     "output_type": "stream",
     "text": [
      "hlipa_c0\n"
     ]
    },
    {
     "data": {
      "text/plain": [
       "'MNXM2561_e0'"
      ]
     },
     "execution_count": 10,
     "metadata": {},
     "output_type": "execute_result"
    },
    {
     "name": "stdout",
     "output_type": "stream",
     "text": [
      "salcn_e0\n"
     ]
    },
    {
     "data": {
      "text/plain": [
       "'MNXM3356_c0'"
      ]
     },
     "execution_count": 10,
     "metadata": {},
     "output_type": "execute_result"
    },
    {
     "name": "stdout",
     "output_type": "stream",
     "text": [
      "salcn6p_c0\n"
     ]
    },
    {
     "data": {
      "text/plain": [
       "'MNXM174_c0'"
      ]
     },
     "execution_count": 10,
     "metadata": {},
     "output_type": "execute_result"
    },
    {
     "name": "stdout",
     "output_type": "stream",
     "text": [
      "xan_c0\n"
     ]
    },
    {
     "data": {
      "text/plain": [
       "'MNXM272_c0'"
      ]
     },
     "execution_count": 10,
     "metadata": {},
     "output_type": "execute_result"
    },
    {
     "name": "stdout",
     "output_type": "stream",
     "text": [
      "stcoa_c0\n"
     ]
    },
    {
     "data": {
      "text/plain": [
       "'MNXM866_c0'"
      ]
     },
     "execution_count": 10,
     "metadata": {},
     "output_type": "execute_result"
    },
    {
     "name": "stdout",
     "output_type": "stream",
     "text": [
      "3ig3p_c0\n"
     ]
    },
    {
     "data": {
      "text/plain": [
       "'MNXM74_c0'"
      ]
     },
     "execution_count": 10,
     "metadata": {},
     "output_type": "execute_result"
    },
    {
     "name": "stdout",
     "output_type": "stream",
     "text": [
      "g3p_c0\n"
     ]
    },
    {
     "data": {
      "text/plain": [
       "'MNXM377_c0'"
      ]
     },
     "execution_count": 10,
     "metadata": {},
     "output_type": "execute_result"
    },
    {
     "name": "stdout",
     "output_type": "stream",
     "text": [
      "indole_c0\n"
     ]
    },
    {
     "data": {
      "text/plain": [
       "'MNXM4232_c0'"
      ]
     },
     "execution_count": 10,
     "metadata": {},
     "output_type": "execute_result"
    },
    {
     "name": "stdout",
     "output_type": "stream",
     "text": [
      "1ddecg3p_c0\n"
     ]
    },
    {
     "data": {
      "text/plain": [
       "'MNXM1569_c0'"
      ]
     },
     "execution_count": 10,
     "metadata": {},
     "output_type": "execute_result"
    },
    {
     "name": "stdout",
     "output_type": "stream",
     "text": [
      "lipidAds_c0\n"
     ]
    },
    {
     "data": {
      "text/plain": [
       "'MNXM1754_c0'"
      ]
     },
     "execution_count": 10,
     "metadata": {},
     "output_type": "execute_result"
    },
    {
     "name": "stdout",
     "output_type": "stream",
     "text": [
      "lipidA_c0\n"
     ]
    },
    {
     "data": {
      "text/plain": [
       "'MNXM56_c0'"
      ]
     },
     "execution_count": 10,
     "metadata": {},
     "output_type": "execute_result"
    },
    {
     "name": "stdout",
     "output_type": "stream",
     "text": [
      "fald_c0\n"
     ]
    },
    {
     "data": {
      "text/plain": [
       "'MNXM460_c0'"
      ]
     },
     "execution_count": 10,
     "metadata": {},
     "output_type": "execute_result"
    },
    {
     "name": "stdout",
     "output_type": "stream",
     "text": [
      "dha_c0\n"
     ]
    },
    {
     "data": {
      "text/plain": [
       "'MNXM146080_c0'"
      ]
     },
     "execution_count": 10,
     "metadata": {},
     "output_type": "execute_result"
    },
    {
     "name": "stdout",
     "output_type": "stream",
     "text": [
      "kdo8p_c0\n"
     ]
    },
    {
     "data": {
      "text/plain": [
       "'MNXM1663_c0'"
      ]
     },
     "execution_count": 10,
     "metadata": {},
     "output_type": "execute_result"
    },
    {
     "name": "stdout",
     "output_type": "stream",
     "text": [
      "dhlpro_c0\n"
     ]
    },
    {
     "data": {
      "text/plain": [
       "'MNXM998_c0'"
      ]
     },
     "execution_count": 10,
     "metadata": {},
     "output_type": "execute_result"
    },
    {
     "name": "stdout",
     "output_type": "stream",
     "text": [
      "lpro_c0\n"
     ]
    },
    {
     "data": {
      "text/plain": [
       "'MNXM8669_c0'"
      ]
     },
     "execution_count": 10,
     "metadata": {},
     "output_type": "execute_result"
    },
    {
     "name": "stdout",
     "output_type": "stream",
     "text": [
      "glyphe_c0\n"
     ]
    },
    {
     "data": {
      "text/plain": [
       "'MNXM97_c0'"
      ]
     },
     "execution_count": 10,
     "metadata": {},
     "output_type": "execute_result"
    },
    {
     "name": "stdout",
     "output_type": "stream",
     "text": [
      "phe__L_c0\n"
     ]
    },
    {
     "data": {
      "text/plain": [
       "'MNXM1177_c0'"
      ]
     },
     "execution_count": 10,
     "metadata": {},
     "output_type": "execute_result"
    },
    {
     "name": "stdout",
     "output_type": "stream",
     "text": [
      "4pasp_c0\n"
     ]
    },
    {
     "data": {
      "text/plain": [
       "'MNXM713_c0'"
      ]
     },
     "execution_count": 10,
     "metadata": {},
     "output_type": "execute_result"
    },
    {
     "name": "stdout",
     "output_type": "stream",
     "text": [
      "Lcyst_c0\n"
     ]
    },
    {
     "data": {
      "text/plain": [
       "'MNXM114_e0'"
      ]
     },
     "execution_count": 10,
     "metadata": {},
     "output_type": "execute_result"
    },
    {
     "name": "stdout",
     "output_type": "stream",
     "text": [
      "pro__L_e0\n"
     ]
    },
    {
     "data": {
      "text/plain": [
       "'MNXM27_e0'"
      ]
     },
     "execution_count": 10,
     "metadata": {},
     "output_type": "execute_result"
    },
    {
     "name": "stdout",
     "output_type": "stream",
     "text": [
      "na1_e0\n"
     ]
    },
    {
     "data": {
      "text/plain": [
       "'MNXM114_c0'"
      ]
     },
     "execution_count": 10,
     "metadata": {},
     "output_type": "execute_result"
    },
    {
     "name": "stdout",
     "output_type": "stream",
     "text": [
      "pro__L_c0\n"
     ]
    },
    {
     "data": {
      "text/plain": [
       "'MNXM27_c0'"
      ]
     },
     "execution_count": 10,
     "metadata": {},
     "output_type": "execute_result"
    },
    {
     "name": "stdout",
     "output_type": "stream",
     "text": [
      "na1_c0\n"
     ]
    },
    {
     "data": {
      "text/plain": [
       "'MNXM4511_c0'"
      ]
     },
     "execution_count": 10,
     "metadata": {},
     "output_type": "execute_result"
    },
    {
     "name": "stdout",
     "output_type": "stream",
     "text": [
      "cdpdtdec7eg_c0\n"
     ]
    },
    {
     "data": {
      "text/plain": [
       "'MNXM366_c0'"
      ]
     },
     "execution_count": 10,
     "metadata": {},
     "output_type": "execute_result"
    },
    {
     "name": "stdout",
     "output_type": "stream",
     "text": [
      "pyam5p_c0\n"
     ]
    },
    {
     "data": {
      "text/plain": [
       "'MNXM161_c0'"
      ]
     },
     "execution_count": 10,
     "metadata": {},
     "output_type": "execute_result"
    },
    {
     "name": "stdout",
     "output_type": "stream",
     "text": [
      "pydx5p_c0\n"
     ]
    },
    {
     "data": {
      "text/plain": [
       "'MNXM2531_c0'"
      ]
     },
     "execution_count": 10,
     "metadata": {},
     "output_type": "execute_result"
    },
    {
     "name": "stdout",
     "output_type": "stream",
     "text": [
      "ibt_c0\n"
     ]
    },
    {
     "data": {
      "text/plain": [
       "'MNXM5480_c0'"
      ]
     },
     "execution_count": 10,
     "metadata": {},
     "output_type": "execute_result"
    },
    {
     "name": "stdout",
     "output_type": "stream",
     "text": [
      "2odec11eg3p_c0\n"
     ]
    },
    {
     "data": {
      "text/plain": [
       "'MNXM1919_c0'"
      ]
     },
     "execution_count": 10,
     "metadata": {},
     "output_type": "execute_result"
    },
    {
     "name": "stdout",
     "output_type": "stream",
     "text": [
      "all__D_c0\n"
     ]
    },
    {
     "data": {
      "text/plain": [
       "'MNXM4545_c0'"
      ]
     },
     "execution_count": 10,
     "metadata": {},
     "output_type": "execute_result"
    },
    {
     "name": "stdout",
     "output_type": "stream",
     "text": [
      "all6p_c0\n"
     ]
    },
    {
     "data": {
      "text/plain": [
       "'MNXM243_c0'"
      ]
     },
     "execution_count": 10,
     "metadata": {},
     "output_type": "execute_result"
    },
    {
     "name": "stdout",
     "output_type": "stream",
     "text": [
      "camp_c0\n"
     ]
    },
    {
     "data": {
      "text/plain": [
       "'MNXM25602_c0'"
      ]
     },
     "execution_count": 10,
     "metadata": {},
     "output_type": "execute_result"
    },
    {
     "name": "stdout",
     "output_type": "stream",
     "text": [
      "3ohexACP_c0\n"
     ]
    },
    {
     "data": {
      "text/plain": [
       "'MNXM134_c0'"
      ]
     },
     "execution_count": 10,
     "metadata": {},
     "output_type": "execute_result"
    },
    {
     "name": "stdout",
     "output_type": "stream",
     "text": [
      "his__L_c0\n"
     ]
    },
    {
     "data": {
      "text/plain": [
       "'MNXM700_c0'"
      ]
     },
     "execution_count": 10,
     "metadata": {},
     "output_type": "execute_result"
    },
    {
     "name": "stdout",
     "output_type": "stream",
     "text": [
      "urcan_c0\n"
     ]
    },
    {
     "data": {
      "text/plain": [
       "'MNXM441_c0'"
      ]
     },
     "execution_count": 10,
     "metadata": {},
     "output_type": "execute_result"
    },
    {
     "name": "stdout",
     "output_type": "stream",
     "text": [
      "urate_c0\n"
     ]
    },
    {
     "data": {
      "text/plain": [
       "'MNXM1137_c0'"
      ]
     },
     "execution_count": 10,
     "metadata": {},
     "output_type": "execute_result"
    },
    {
     "name": "stdout",
     "output_type": "stream",
     "text": [
      "C11821_c0\n"
     ]
    },
    {
     "data": {
      "text/plain": [
       "'MNXM706_c0'"
      ]
     },
     "execution_count": 10,
     "metadata": {},
     "output_type": "execute_result"
    },
    {
     "name": "stdout",
     "output_type": "stream",
     "text": [
      "3oocoa_c0\n"
     ]
    },
    {
     "data": {
      "text/plain": [
       "'MNXM5663_c0'"
      ]
     },
     "execution_count": 10,
     "metadata": {},
     "output_type": "execute_result"
    },
    {
     "name": "stdout",
     "output_type": "stream",
     "text": [
      "maltttr_c0\n"
     ]
    },
    {
     "data": {
      "text/plain": [
       "'MNXM1538_c0'"
      ]
     },
     "execution_count": 10,
     "metadata": {},
     "output_type": "execute_result"
    },
    {
     "name": "stdout",
     "output_type": "stream",
     "text": [
      "maltpt_c0\n"
     ]
    },
    {
     "data": {
      "text/plain": [
       "'MNXM323_c0'"
      ]
     },
     "execution_count": 10,
     "metadata": {},
     "output_type": "execute_result"
    },
    {
     "name": "stdout",
     "output_type": "stream",
     "text": [
      "tsul_c0\n"
     ]
    },
    {
     "data": {
      "text/plain": [
       "'MNXM26_c0'"
      ]
     },
     "execution_count": 10,
     "metadata": {},
     "output_type": "execute_result"
    },
    {
     "name": "stdout",
     "output_type": "stream",
     "text": [
      "ac_c0\n"
     ]
    },
    {
     "data": {
      "text/plain": [
       "'MNXM105630_c0'"
      ]
     },
     "execution_count": 10,
     "metadata": {},
     "output_type": "execute_result"
    },
    {
     "name": "stdout",
     "output_type": "stream",
     "text": [
      "so3_c0\n"
     ]
    },
    {
     "data": {
      "text/plain": [
       "'MNXM37_c0'"
      ]
     },
     "execution_count": 10,
     "metadata": {},
     "output_type": "execute_result"
    },
    {
     "name": "stdout",
     "output_type": "stream",
     "text": [
      "gln__L_c0\n"
     ]
    },
    {
     "data": {
      "text/plain": [
       "'MNXM147_c0'"
      ]
     },
     "execution_count": 10,
     "metadata": {},
     "output_type": "execute_result"
    },
    {
     "name": "stdout",
     "output_type": "stream",
     "text": [
      "asn__L_c0\n"
     ]
    },
    {
     "data": {
      "text/plain": [
       "'MNXM569_c0'"
      ]
     },
     "execution_count": 10,
     "metadata": {},
     "output_type": "execute_result"
    },
    {
     "name": "stdout",
     "output_type": "stream",
     "text": [
      "2mbcoa_c0\n"
     ]
    },
    {
     "data": {
      "text/plain": [
       "'MNXM609_c0'"
      ]
     },
     "execution_count": 10,
     "metadata": {},
     "output_type": "execute_result"
    },
    {
     "name": "stdout",
     "output_type": "stream",
     "text": [
      "2mb2coa_c0\n"
     ]
    },
    {
     "data": {
      "text/plain": [
       "'MNXM4512_c0'"
      ]
     },
     "execution_count": 10,
     "metadata": {},
     "output_type": "execute_result"
    },
    {
     "name": "stdout",
     "output_type": "stream",
     "text": [
      "cdpdtdecg_c0\n"
     ]
    },
    {
     "data": {
      "text/plain": [
       "'MNXM89588_c0'"
      ]
     },
     "execution_count": 10,
     "metadata": {},
     "output_type": "execute_result"
    },
    {
     "name": "stdout",
     "output_type": "stream",
     "text": [
      "g1p_c0\n"
     ]
    },
    {
     "data": {
      "text/plain": [
       "'MNXM561_c0'"
      ]
     },
     "execution_count": 10,
     "metadata": {},
     "output_type": "execute_result"
    },
    {
     "name": "stdout",
     "output_type": "stream",
     "text": [
      "adpglc_c0\n"
     ]
    },
    {
     "data": {
      "text/plain": [
       "'MNXM3480_c0'"
      ]
     },
     "execution_count": 10,
     "metadata": {},
     "output_type": "execute_result"
    },
    {
     "name": "stdout",
     "output_type": "stream",
     "text": [
      "HC01435_c0\n"
     ]
    },
    {
     "data": {
      "text/plain": [
       "'MNXM3710_c0'"
      ]
     },
     "execution_count": 10,
     "metadata": {},
     "output_type": "execute_result"
    },
    {
     "name": "stdout",
     "output_type": "stream",
     "text": [
      "sdhlam_c0\n"
     ]
    },
    {
     "data": {
      "text/plain": [
       "'MNXM4508_c0'"
      ]
     },
     "execution_count": 10,
     "metadata": {},
     "output_type": "execute_result"
    },
    {
     "name": "stdout",
     "output_type": "stream",
     "text": [
      "cdpdhdec9eg_c0\n"
     ]
    },
    {
     "data": {
      "text/plain": [
       "'MNXM598_c0'"
      ]
     },
     "execution_count": 10,
     "metadata": {},
     "output_type": "execute_result"
    },
    {
     "name": "stdout",
     "output_type": "stream",
     "text": [
      "g3pg_c0\n"
     ]
    },
    {
     "data": {
      "text/plain": [
       "'MNXM985_c0'"
      ]
     },
     "execution_count": 10,
     "metadata": {},
     "output_type": "execute_result"
    },
    {
     "name": "stdout",
     "output_type": "stream",
     "text": [
      "3c3hmp_c0\n"
     ]
    },
    {
     "data": {
      "text/plain": [
       "'MNXM144_c0'"
      ]
     },
     "execution_count": 10,
     "metadata": {},
     "output_type": "execute_result"
    },
    {
     "name": "stdout",
     "output_type": "stream",
     "text": [
      "ala_B_c0\n"
     ]
    },
    {
     "data": {
      "text/plain": [
       "'MNXM60_c0'"
      ]
     },
     "execution_count": 10,
     "metadata": {},
     "output_type": "execute_result"
    },
    {
     "name": "stdout",
     "output_type": "stream",
     "text": [
      "hco3_c0\n"
     ]
    },
    {
     "data": {
      "text/plain": [
       "'MNXM96075_c0'"
      ]
     },
     "execution_count": 10,
     "metadata": {},
     "output_type": "execute_result"
    },
    {
     "name": "stdout",
     "output_type": "stream",
     "text": [
      "btnCCP_c0\n"
     ]
    },
    {
     "data": {
      "text/plain": [
       "'MNXM5655_c0'"
      ]
     },
     "execution_count": 10,
     "metadata": {},
     "output_type": "execute_result"
    },
    {
     "name": "stdout",
     "output_type": "stream",
     "text": [
      "cbtnCCP_c0\n"
     ]
    },
    {
     "data": {
      "text/plain": [
       "'MNXM1692_c0'"
      ]
     },
     "execution_count": 10,
     "metadata": {},
     "output_type": "execute_result"
    },
    {
     "name": "stdout",
     "output_type": "stream",
     "text": [
      "2ameph_c0\n"
     ]
    },
    {
     "data": {
      "text/plain": [
       "'MNXM2188_c0'"
      ]
     },
     "execution_count": 10,
     "metadata": {},
     "output_type": "execute_result"
    },
    {
     "name": "stdout",
     "output_type": "stream",
     "text": [
      "3hpimcoa_c0\n"
     ]
    },
    {
     "data": {
      "text/plain": [
       "'MNXM89582_c0'"
      ]
     },
     "execution_count": 10,
     "metadata": {},
     "output_type": "execute_result"
    },
    {
     "name": "stdout",
     "output_type": "stream",
     "text": [
      "h2s_c0\n"
     ]
    },
    {
     "data": {
      "text/plain": [
       "'MNXM602_c0'"
      ]
     },
     "execution_count": 10,
     "metadata": {},
     "output_type": "execute_result"
    },
    {
     "name": "stdout",
     "output_type": "stream",
     "text": [
      "skm_c0\n"
     ]
    },
    {
     "data": {
      "text/plain": [
       "'MNXM1265_c0'"
      ]
     },
     "execution_count": 10,
     "metadata": {},
     "output_type": "execute_result"
    },
    {
     "name": "stdout",
     "output_type": "stream",
     "text": [
      "skm5p_c0\n"
     ]
    },
    {
     "data": {
      "text/plain": [
       "'MNXM194_c0'"
      ]
     },
     "execution_count": 10,
     "metadata": {},
     "output_type": "execute_result"
    },
    {
     "name": "stdout",
     "output_type": "stream",
     "text": [
      "nicrnt_c0\n"
     ]
    },
    {
     "data": {
      "text/plain": [
       "'MNXM1915_c0'"
      ]
     },
     "execution_count": 10,
     "metadata": {},
     "output_type": "execute_result"
    },
    {
     "name": "stdout",
     "output_type": "stream",
     "text": [
      "nicrns_c0\n"
     ]
    },
    {
     "data": {
      "text/plain": [
       "'MNXM503_c0'"
      ]
     },
     "execution_count": 10,
     "metadata": {},
     "output_type": "execute_result"
    },
    {
     "name": "stdout",
     "output_type": "stream",
     "text": [
      "pphn_c0\n"
     ]
    },
    {
     "data": {
      "text/plain": [
       "'MNXM153_c0'"
      ]
     },
     "execution_count": 10,
     "metadata": {},
     "output_type": "execute_result"
    },
    {
     "name": "stdout",
     "output_type": "stream",
     "text": [
      "34hpp_c0\n"
     ]
    },
    {
     "data": {
      "text/plain": [
       "'MNXM49_c0'"
      ]
     },
     "execution_count": 10,
     "metadata": {},
     "output_type": "execute_result"
    },
    {
     "name": "stdout",
     "output_type": "stream",
     "text": [
      "paps_c0\n"
     ]
    },
    {
     "data": {
      "text/plain": [
       "'MNXM263_c0'"
      ]
     },
     "execution_count": 10,
     "metadata": {},
     "output_type": "execute_result"
    },
    {
     "name": "stdout",
     "output_type": "stream",
     "text": [
      "2oxoadp_c0\n"
     ]
    },
    {
     "data": {
      "text/plain": [
       "'MNXM439_c0'"
      ]
     },
     "execution_count": 10,
     "metadata": {},
     "output_type": "execute_result"
    },
    {
     "name": "stdout",
     "output_type": "stream",
     "text": [
      "3mop_c0\n"
     ]
    },
    {
     "data": {
      "text/plain": [
       "'MNXM6733_c0'"
      ]
     },
     "execution_count": 10,
     "metadata": {},
     "output_type": "execute_result"
    },
    {
     "name": "stdout",
     "output_type": "stream",
     "text": [
      "2mhob_c0\n"
     ]
    },
    {
     "data": {
      "text/plain": [
       "'MNXM644_c0'"
      ]
     },
     "execution_count": 10,
     "metadata": {},
     "output_type": "execute_result"
    },
    {
     "name": "stdout",
     "output_type": "stream",
     "text": [
      "26dap_LL_c0\n"
     ]
    },
    {
     "data": {
      "text/plain": [
       "'MNXM529_c0'"
      ]
     },
     "execution_count": 10,
     "metadata": {},
     "output_type": "execute_result"
    },
    {
     "name": "stdout",
     "output_type": "stream",
     "text": [
      "26dap__M_c0\n"
     ]
    },
    {
     "data": {
      "text/plain": [
       "'MNXM2808_c0'"
      ]
     },
     "execution_count": 10,
     "metadata": {},
     "output_type": "execute_result"
    },
    {
     "name": "stdout",
     "output_type": "stream",
     "text": [
      "B_ara1p_c0\n"
     ]
    },
    {
     "data": {
      "text/plain": [
       "'MNXM1189_c0'"
      ]
     },
     "execution_count": 10,
     "metadata": {},
     "output_type": "execute_result"
    },
    {
     "name": "stdout",
     "output_type": "stream",
     "text": [
      "ppgpp_c0\n"
     ]
    },
    {
     "data": {
      "text/plain": [
       "'MNXM32_c0'"
      ]
     },
     "execution_count": 10,
     "metadata": {},
     "output_type": "execute_result"
    },
    {
     "name": "stdout",
     "output_type": "stream",
     "text": [
      "ala__L_c0\n"
     ]
    },
    {
     "data": {
      "text/plain": [
       "'MNXM111_c0'"
      ]
     },
     "execution_count": 10,
     "metadata": {},
     "output_type": "execute_result"
    },
    {
     "name": "stdout",
     "output_type": "stream",
     "text": [
      "fe2_c0\n"
     ]
    },
    {
     "data": {
      "text/plain": [
       "'MNXM196_c0'"
      ]
     },
     "execution_count": 10,
     "metadata": {},
     "output_type": "execute_result"
    },
    {
     "name": "stdout",
     "output_type": "stream",
     "text": [
      "fe3_c0\n"
     ]
    },
    {
     "data": {
      "text/plain": [
       "'MNXM509_c0'"
      ]
     },
     "execution_count": 10,
     "metadata": {},
     "output_type": "execute_result"
    },
    {
     "name": "stdout",
     "output_type": "stream",
     "text": [
      "mqn8_c0\n"
     ]
    },
    {
     "data": {
      "text/plain": [
       "'MNXM223_c0'"
      ]
     },
     "execution_count": 10,
     "metadata": {},
     "output_type": "execute_result"
    },
    {
     "name": "stdout",
     "output_type": "stream",
     "text": [
      "mql8_c0\n"
     ]
    },
    {
     "data": {
      "text/plain": [
       "'MNXM334_e0'"
      ]
     },
     "execution_count": 10,
     "metadata": {},
     "output_type": "execute_result"
    },
    {
     "name": "stdout",
     "output_type": "stream",
     "text": [
      "ins_e0\n"
     ]
    },
    {
     "data": {
      "text/plain": [
       "'MNXM1697_c0'"
      ]
     },
     "execution_count": 10,
     "metadata": {},
     "output_type": "execute_result"
    },
    {
     "name": "stdout",
     "output_type": "stream",
     "text": [
      "applp_c0\n"
     ]
    },
    {
     "data": {
      "text/plain": [
       "'MNXM877_c0'"
      ]
     },
     "execution_count": 10,
     "metadata": {},
     "output_type": "execute_result"
    },
    {
     "name": "stdout",
     "output_type": "stream",
     "text": [
      "adcobhex_c0\n"
     ]
    },
    {
     "data": {
      "text/plain": [
       "'MNXM856_c0'"
      ]
     },
     "execution_count": 10,
     "metadata": {},
     "output_type": "execute_result"
    },
    {
     "name": "stdout",
     "output_type": "stream",
     "text": [
      "adocbip_c0\n"
     ]
    },
    {
     "data": {
      "text/plain": [
       "'MNXM1080_c0'"
      ]
     },
     "execution_count": 10,
     "metadata": {},
     "output_type": "execute_result"
    },
    {
     "name": "stdout",
     "output_type": "stream",
     "text": [
      "galctr__D_c0\n"
     ]
    },
    {
     "data": {
      "text/plain": [
       "'MNXM854_c0'"
      ]
     },
     "execution_count": 10,
     "metadata": {},
     "output_type": "execute_result"
    },
    {
     "name": "stdout",
     "output_type": "stream",
     "text": [
      "5dh4dglc_c0\n"
     ]
    },
    {
     "data": {
      "text/plain": [
       "'MNXM554_c0'"
      ]
     },
     "execution_count": 10,
     "metadata": {},
     "output_type": "execute_result"
    },
    {
     "name": "stdout",
     "output_type": "stream",
     "text": [
      "ppbng_c0\n"
     ]
    },
    {
     "data": {
      "text/plain": [
       "'MNXM547_c0'"
      ]
     },
     "execution_count": 10,
     "metadata": {},
     "output_type": "execute_result"
    },
    {
     "name": "stdout",
     "output_type": "stream",
     "text": [
      "hmbil_c0\n"
     ]
    },
    {
     "data": {
      "text/plain": [
       "'MNXM280_c0'"
      ]
     },
     "execution_count": 10,
     "metadata": {},
     "output_type": "execute_result"
    },
    {
     "name": "stdout",
     "output_type": "stream",
     "text": [
      "actp_c0\n"
     ]
    },
    {
     "data": {
      "text/plain": [
       "'MNXM28031_c0'"
      ]
     },
     "execution_count": 10,
     "metadata": {},
     "output_type": "execute_result"
    },
    {
     "name": "stdout",
     "output_type": "stream",
     "text": [
      "3ooctACP_c0\n"
     ]
    },
    {
     "data": {
      "text/plain": [
       "'MNXM435_c0'"
      ]
     },
     "execution_count": 10,
     "metadata": {},
     "output_type": "execute_result"
    },
    {
     "name": "stdout",
     "output_type": "stream",
     "text": [
      "glyald_c0\n"
     ]
    },
    {
     "data": {
      "text/plain": [
       "'MNXM189_c0'"
      ]
     },
     "execution_count": 10,
     "metadata": {},
     "output_type": "execute_result"
    },
    {
     "name": "stdout",
     "output_type": "stream",
     "text": [
      "glyc__R_c0\n"
     ]
    },
    {
     "data": {
      "text/plain": [
       "'MNXM126_c0'"
      ]
     },
     "execution_count": 10,
     "metadata": {},
     "output_type": "execute_result"
    },
    {
     "name": "stdout",
     "output_type": "stream",
     "text": [
      "3pg_c0\n"
     ]
    },
    {
     "data": {
      "text/plain": [
       "'MNXM533_e0'"
      ]
     },
     "execution_count": 10,
     "metadata": {},
     "output_type": "execute_result"
    },
    {
     "name": "stdout",
     "output_type": "stream",
     "text": [
      "gam_e0\n"
     ]
    },
    {
     "data": {
      "text/plain": [
       "'MNXM370_c0'"
      ]
     },
     "execution_count": 10,
     "metadata": {},
     "output_type": "execute_result"
    },
    {
     "name": "stdout",
     "output_type": "stream",
     "text": [
      "gam6p_c0\n"
     ]
    },
    {
     "data": {
      "text/plain": [
       "'MNXM481_c0'"
      ]
     },
     "execution_count": 10,
     "metadata": {},
     "output_type": "execute_result"
    },
    {
     "name": "stdout",
     "output_type": "stream",
     "text": [
      "dpcoa_c0\n"
     ]
    },
    {
     "data": {
      "text/plain": [
       "'MNXM508_c0'"
      ]
     },
     "execution_count": 10,
     "metadata": {},
     "output_type": "execute_result"
    },
    {
     "name": "stdout",
     "output_type": "stream",
     "text": [
      "g6p_B_c0\n"
     ]
    },
    {
     "data": {
      "text/plain": [
       "'MNXM1855_c0'"
      ]
     },
     "execution_count": 10,
     "metadata": {},
     "output_type": "execute_result"
    },
    {
     "name": "stdout",
     "output_type": "stream",
     "text": [
      "2hymeph_c0\n"
     ]
    },
    {
     "data": {
      "text/plain": [
       "'MNXM3460_c0'"
      ]
     },
     "execution_count": 10,
     "metadata": {},
     "output_type": "execute_result"
    },
    {
     "name": "stdout",
     "output_type": "stream",
     "text": [
      "2dglcn_c0\n"
     ]
    },
    {
     "data": {
      "text/plain": [
       "'MNXM3482_c0'"
      ]
     },
     "execution_count": 10,
     "metadata": {},
     "output_type": "execute_result"
    },
    {
     "name": "stdout",
     "output_type": "stream",
     "text": [
      "3ddgc_c0\n"
     ]
    },
    {
     "data": {
      "text/plain": [
       "'MNXM1351_c0'"
      ]
     },
     "execution_count": 10,
     "metadata": {},
     "output_type": "execute_result"
    },
    {
     "name": "stdout",
     "output_type": "stream",
     "text": [
      "prbatp_c0\n"
     ]
    },
    {
     "data": {
      "text/plain": [
       "'MNXM245_c0'"
      ]
     },
     "execution_count": 10,
     "metadata": {},
     "output_type": "execute_result"
    },
    {
     "name": "stdout",
     "output_type": "stream",
     "text": [
      "glu5sa_c0\n"
     ]
    },
    {
     "data": {
      "text/plain": [
       "'MNXM1617_c0'"
      ]
     },
     "execution_count": 10,
     "metadata": {},
     "output_type": "execute_result"
    },
    {
     "name": "stdout",
     "output_type": "stream",
     "text": [
      "1pyr5c_c0\n"
     ]
    },
    {
     "data": {
      "text/plain": [
       "'MNXM114594_c0'"
      ]
     },
     "execution_count": 10,
     "metadata": {},
     "output_type": "execute_result"
    },
    {
     "name": "stdout",
     "output_type": "stream",
     "text": [
      "3hmop_c0\n"
     ]
    },
    {
     "data": {
      "text/plain": [
       "'MNXM175_e0'"
      ]
     },
     "execution_count": 10,
     "metadata": {},
     "output_type": "execute_result"
    },
    {
     "name": "stdout",
     "output_type": "stream",
     "text": [
      "fru_e0\n"
     ]
    },
    {
     "data": {
      "text/plain": [
       "'MNXM145568_c0'"
      ]
     },
     "execution_count": 10,
     "metadata": {},
     "output_type": "execute_result"
    },
    {
     "name": "stdout",
     "output_type": "stream",
     "text": [
      "f1p_c0\n"
     ]
    },
    {
     "data": {
      "text/plain": [
       "'MNXM113_c0'"
      ]
     },
     "execution_count": 10,
     "metadata": {},
     "output_type": "execute_result"
    },
    {
     "name": "stdout",
     "output_type": "stream",
     "text": [
      "gmp_c0\n"
     ]
    },
    {
     "data": {
      "text/plain": [
       "'MNXM2178_c0'"
      ]
     },
     "execution_count": 10,
     "metadata": {},
     "output_type": "execute_result"
    },
    {
     "name": "stdout",
     "output_type": "stream",
     "text": [
      "2dmmq8_c0\n"
     ]
    },
    {
     "data": {
      "text/plain": [
       "'MNXM261_c0'"
      ]
     },
     "execution_count": 10,
     "metadata": {},
     "output_type": "execute_result"
    },
    {
     "name": "stdout",
     "output_type": "stream",
     "text": [
      "13dpg_c0\n"
     ]
    },
    {
     "data": {
      "text/plain": [
       "'MNXM501_c0'"
      ]
     },
     "execution_count": 10,
     "metadata": {},
     "output_type": "execute_result"
    },
    {
     "name": "stdout",
     "output_type": "stream",
     "text": [
      "N1aspmd_c0\n"
     ]
    },
    {
     "data": {
      "text/plain": [
       "'MNXM2_e0'"
      ]
     },
     "execution_count": 10,
     "metadata": {},
     "output_type": "execute_result"
    },
    {
     "name": "stdout",
     "output_type": "stream",
     "text": [
      "oh1_e0\n"
     ]
    },
    {
     "data": {
      "text/plain": [
       "'MNXM646_c0'"
      ]
     },
     "execution_count": 10,
     "metadata": {},
     "output_type": "execute_result"
    },
    {
     "name": "stdout",
     "output_type": "stream",
     "text": [
      "mi1p__D_c0\n"
     ]
    },
    {
     "data": {
      "text/plain": [
       "'MNXM127_c0'"
      ]
     },
     "execution_count": 10,
     "metadata": {},
     "output_type": "execute_result"
    },
    {
     "name": "stdout",
     "output_type": "stream",
     "text": [
      "inost_c0\n"
     ]
    },
    {
     "data": {
      "text/plain": [
       "'MNXM89557_e0'"
      ]
     },
     "execution_count": 10,
     "metadata": {},
     "output_type": "execute_result"
    },
    {
     "name": "stdout",
     "output_type": "stream",
     "text": [
      "glu__L_e0\n"
     ]
    },
    {
     "data": {
      "text/plain": [
       "'MNXM1679_c0'"
      ]
     },
     "execution_count": 10,
     "metadata": {},
     "output_type": "execute_result"
    },
    {
     "name": "stdout",
     "output_type": "stream",
     "text": [
      "n8aspmd_c0\n"
     ]
    },
    {
     "data": {
      "text/plain": [
       "'MNXM470_c0'"
      ]
     },
     "execution_count": 10,
     "metadata": {},
     "output_type": "execute_result"
    },
    {
     "name": "stdout",
     "output_type": "stream",
     "text": [
      "ibcoa_c0\n"
     ]
    },
    {
     "data": {
      "text/plain": [
       "'MNXM252_c0'"
      ]
     },
     "execution_count": 10,
     "metadata": {},
     "output_type": "execute_result"
    },
    {
     "name": "stdout",
     "output_type": "stream",
     "text": [
      "dhor__S_c0\n"
     ]
    },
    {
     "data": {
      "text/plain": [
       "'MNXM235_c0'"
      ]
     },
     "execution_count": 10,
     "metadata": {},
     "output_type": "execute_result"
    },
    {
     "name": "stdout",
     "output_type": "stream",
     "text": [
      "orot_c0\n"
     ]
    },
    {
     "data": {
      "text/plain": [
       "'MNXM1168_c0'"
      ]
     },
     "execution_count": 10,
     "metadata": {},
     "output_type": "execute_result"
    },
    {
     "name": "stdout",
     "output_type": "stream",
     "text": [
      "2mecdp_c0\n"
     ]
    },
    {
     "data": {
      "text/plain": [
       "'MNXM414_c0'"
      ]
     },
     "execution_count": 10,
     "metadata": {},
     "output_type": "execute_result"
    },
    {
     "name": "stdout",
     "output_type": "stream",
     "text": [
      "uppg3_c0\n"
     ]
    },
    {
     "data": {
      "text/plain": [
       "'MNXM338_e0'"
      ]
     },
     "execution_count": 10,
     "metadata": {},
     "output_type": "execute_result"
    },
    {
     "name": "stdout",
     "output_type": "stream",
     "text": [
      "cytd_e0\n"
     ]
    },
    {
     "data": {
      "text/plain": [
       "'MNXM2348_c0'"
      ]
     },
     "execution_count": 10,
     "metadata": {},
     "output_type": "execute_result"
    },
    {
     "name": "stdout",
     "output_type": "stream",
     "text": [
      "gt1b_cho_c0\n"
     ]
    },
    {
     "data": {
      "text/plain": [
       "'MNXM75116_c0'"
      ]
     },
     "execution_count": 10,
     "metadata": {},
     "output_type": "execute_result"
    },
    {
     "name": "stdout",
     "output_type": "stream",
     "text": [
      "ps180_c0\n"
     ]
    },
    {
     "data": {
      "text/plain": [
       "'MNXM31536_c0'"
      ]
     },
     "execution_count": 10,
     "metadata": {},
     "output_type": "execute_result"
    },
    {
     "name": "stdout",
     "output_type": "stream",
     "text": [
      "pe180_c0\n"
     ]
    },
    {
     "data": {
      "text/plain": [
       "'MNXM43_c0'"
      ]
     },
     "execution_count": 10,
     "metadata": {},
     "output_type": "execute_result"
    },
    {
     "name": "stdout",
     "output_type": "stream",
     "text": [
      "cl_c0\n"
     ]
    },
    {
     "data": {
      "text/plain": [
       "'MNXM446_c0'"
      ]
     },
     "execution_count": 10,
     "metadata": {},
     "output_type": "execute_result"
    },
    {
     "name": "stdout",
     "output_type": "stream",
     "text": [
      "3hibutcoa_c0\n"
     ]
    },
    {
     "data": {
      "text/plain": [
       "'MNXM133_c0'"
      ]
     },
     "execution_count": 10,
     "metadata": {},
     "output_type": "execute_result"
    },
    {
     "name": "stdout",
     "output_type": "stream",
     "text": [
      "aacoa_c0\n"
     ]
    },
    {
     "data": {
      "text/plain": [
       "'MNXM251_c0'"
      ]
     },
     "execution_count": 10,
     "metadata": {},
     "output_type": "execute_result"
    },
    {
     "name": "stdout",
     "output_type": "stream",
     "text": [
      "udcpp_c0\n"
     ]
    },
    {
     "data": {
      "text/plain": [
       "'MNXM1955_c0'"
      ]
     },
     "execution_count": 10,
     "metadata": {},
     "output_type": "execute_result"
    },
    {
     "name": "stdout",
     "output_type": "stream",
     "text": [
      "uaGgla_c0\n"
     ]
    },
    {
     "data": {
      "text/plain": [
       "'MNXM234_c0'"
      ]
     },
     "execution_count": 10,
     "metadata": {},
     "output_type": "execute_result"
    },
    {
     "name": "stdout",
     "output_type": "stream",
     "text": [
      "dump_c0\n"
     ]
    },
    {
     "data": {
      "text/plain": [
       "'MNXM1219_c0'"
      ]
     },
     "execution_count": 10,
     "metadata": {},
     "output_type": "execute_result"
    },
    {
     "name": "stdout",
     "output_type": "stream",
     "text": [
      "2dda7p_c0\n"
     ]
    },
    {
     "data": {
      "text/plain": [
       "'MNXM478_c0'"
      ]
     },
     "execution_count": 10,
     "metadata": {},
     "output_type": "execute_result"
    },
    {
     "name": "stdout",
     "output_type": "stream",
     "text": [
      "3dhq_c0\n"
     ]
    },
    {
     "data": {
      "text/plain": [
       "'MNXM264_c0'"
      ]
     },
     "execution_count": 10,
     "metadata": {},
     "output_type": "execute_result"
    },
    {
     "name": "stdout",
     "output_type": "stream",
     "text": [
      "coucoa_c0\n"
     ]
    },
    {
     "data": {
      "text/plain": [
       "'MNXM23842_c0'"
      ]
     },
     "execution_count": 10,
     "metadata": {},
     "output_type": "execute_result"
    },
    {
     "name": "stdout",
     "output_type": "stream",
     "text": [
      "tddec2eACP_c0\n"
     ]
    },
    {
     "data": {
      "text/plain": [
       "'MNXM632_e0'"
      ]
     },
     "execution_count": 10,
     "metadata": {},
     "output_type": "execute_result"
    },
    {
     "name": "stdout",
     "output_type": "stream",
     "text": [
      "cu2_e0\n"
     ]
    },
    {
     "data": {
      "text/plain": [
       "'MNXM632_c0'"
      ]
     },
     "execution_count": 10,
     "metadata": {},
     "output_type": "execute_result"
    },
    {
     "name": "stdout",
     "output_type": "stream",
     "text": [
      "cu2_c0\n"
     ]
    },
    {
     "data": {
      "text/plain": [
       "'MNXM332_c0'"
      ]
     },
     "execution_count": 10,
     "metadata": {},
     "output_type": "execute_result"
    },
    {
     "name": "stdout",
     "output_type": "stream",
     "text": [
      "pppi_c0\n"
     ]
    },
    {
     "data": {
      "text/plain": [
       "'MNXM92085_c0'"
      ]
     },
     "execution_count": 10,
     "metadata": {},
     "output_type": "execute_result"
    },
    {
     "name": "stdout",
     "output_type": "stream",
     "text": [
      "adcobdam_c0\n"
     ]
    },
    {
     "data": {
      "text/plain": [
       "'MNXM79_c0'"
      ]
     },
     "execution_count": 10,
     "metadata": {},
     "output_type": "execute_result"
    },
    {
     "name": "stdout",
     "output_type": "stream",
     "text": [
      "thf_c0\n"
     ]
    },
    {
     "data": {
      "text/plain": [
       "'MNXM550_c0'"
      ]
     },
     "execution_count": 10,
     "metadata": {},
     "output_type": "execute_result"
    },
    {
     "name": "stdout",
     "output_type": "stream",
     "text": [
      "argsuc_c0\n"
     ]
    },
    {
     "data": {
      "text/plain": [
       "'MNXM70_c0'"
      ]
     },
     "execution_count": 10,
     "metadata": {},
     "output_type": "execute_result"
    },
    {
     "name": "stdout",
     "output_type": "stream",
     "text": [
      "arg__L_c0\n"
     ]
    },
    {
     "data": {
      "text/plain": [
       "'MNXM612_c0'"
      ]
     },
     "execution_count": 10,
     "metadata": {},
     "output_type": "execute_result"
    },
    {
     "name": "stdout",
     "output_type": "stream",
     "text": [
      "alltn_c0\n"
     ]
    },
    {
     "data": {
      "text/plain": [
       "'MNXM1281_c0'"
      ]
     },
     "execution_count": 10,
     "metadata": {},
     "output_type": "execute_result"
    },
    {
     "name": "stdout",
     "output_type": "stream",
     "text": [
      "histd_c0\n"
     ]
    },
    {
     "data": {
      "text/plain": [
       "'MNXM91049_c0'"
      ]
     },
     "execution_count": 10,
     "metadata": {},
     "output_type": "execute_result"
    },
    {
     "name": "stdout",
     "output_type": "stream",
     "text": [
      "1odec11eg3p_c0\n"
     ]
    },
    {
     "data": {
      "text/plain": [
       "'MNXM345_c0'"
      ]
     },
     "execution_count": 10,
     "metadata": {},
     "output_type": "execute_result"
    },
    {
     "name": "stdout",
     "output_type": "stream",
     "text": [
      "hgentis_c0\n"
     ]
    },
    {
     "data": {
      "text/plain": [
       "'MNXM691_c0'"
      ]
     },
     "execution_count": 10,
     "metadata": {},
     "output_type": "execute_result"
    },
    {
     "name": "stdout",
     "output_type": "stream",
     "text": [
      "4mlacac_c0\n"
     ]
    },
    {
     "data": {
      "text/plain": [
       "'MNXM1376_c0'"
      ]
     },
     "execution_count": 10,
     "metadata": {},
     "output_type": "execute_result"
    },
    {
     "name": "stdout",
     "output_type": "stream",
     "text": [
      "dtdpglu_c0\n"
     ]
    },
    {
     "data": {
      "text/plain": [
       "'MNXM270_c0'"
      ]
     },
     "execution_count": 10,
     "metadata": {},
     "output_type": "execute_result"
    },
    {
     "name": "stdout",
     "output_type": "stream",
     "text": [
      "ribflv_c0\n"
     ]
    },
    {
     "data": {
      "text/plain": [
       "'MNXM1246_c0'"
      ]
     },
     "execution_count": 10,
     "metadata": {},
     "output_type": "execute_result"
    },
    {
     "name": "stdout",
     "output_type": "stream",
     "text": [
      "ribflvRD_c0\n"
     ]
    },
    {
     "data": {
      "text/plain": [
       "'MNXM142_c0'"
      ]
     },
     "execution_count": 10,
     "metadata": {},
     "output_type": "execute_result"
    },
    {
     "name": "stdout",
     "output_type": "stream",
     "text": [
      "thr__L_c0\n"
     ]
    },
    {
     "data": {
      "text/plain": [
       "'MNXM1626_c0'"
      ]
     },
     "execution_count": 10,
     "metadata": {},
     "output_type": "execute_result"
    },
    {
     "name": "stdout",
     "output_type": "stream",
     "text": [
      "2me4p_c0\n"
     ]
    },
    {
     "data": {
      "text/plain": [
       "'MNXM66_e0'"
      ]
     },
     "execution_count": 10,
     "metadata": {},
     "output_type": "execute_result"
    },
    {
     "name": "stdout",
     "output_type": "stream",
     "text": [
      "glyc3p_e0\n"
     ]
    },
    {
     "data": {
      "text/plain": [
       "'MNXM397_c0'"
      ]
     },
     "execution_count": 10,
     "metadata": {},
     "output_type": "execute_result"
    },
    {
     "name": "stdout",
     "output_type": "stream",
     "text": [
      "ahdt_c0\n"
     ]
    },
    {
     "data": {
      "text/plain": [
       "'MNXM4269_c0'"
      ]
     },
     "execution_count": 10,
     "metadata": {},
     "output_type": "execute_result"
    },
    {
     "name": "stdout",
     "output_type": "stream",
     "text": [
      "HC01710_c0\n"
     ]
    },
    {
     "data": {
      "text/plain": [
       "'MNXM663_c0'"
      ]
     },
     "execution_count": 10,
     "metadata": {},
     "output_type": "execute_result"
    },
    {
     "name": "stdout",
     "output_type": "stream",
     "text": [
      "bhb_c0\n"
     ]
    },
    {
     "data": {
      "text/plain": [
       "'MNXM140_e0'"
      ]
     },
     "execution_count": 10,
     "metadata": {},
     "output_type": "execute_result"
    },
    {
     "name": "stdout",
     "output_type": "stream",
     "text": [
      "leu__L_e0\n"
     ]
    },
    {
     "data": {
      "text/plain": [
       "'MNXM140_c0'"
      ]
     },
     "execution_count": 10,
     "metadata": {},
     "output_type": "execute_result"
    },
    {
     "name": "stdout",
     "output_type": "stream",
     "text": [
      "leu__L_c0\n"
     ]
    },
    {
     "data": {
      "text/plain": [
       "'MNXM759_c0'"
      ]
     },
     "execution_count": 10,
     "metadata": {},
     "output_type": "execute_result"
    },
    {
     "name": "stdout",
     "output_type": "stream",
     "text": [
      "phthr_c0\n"
     ]
    },
    {
     "data": {
      "text/plain": [
       "'MNXM507_c0'"
      ]
     },
     "execution_count": 10,
     "metadata": {},
     "output_type": "execute_result"
    },
    {
     "name": "stdout",
     "output_type": "stream",
     "text": [
      "5aizc_c0\n"
     ]
    },
    {
     "data": {
      "text/plain": [
       "'MNXM420_e0'"
      ]
     },
     "execution_count": 10,
     "metadata": {},
     "output_type": "execute_result"
    },
    {
     "name": "stdout",
     "output_type": "stream",
     "text": [
      "thymd_e0\n"
     ]
    },
    {
     "data": {
      "text/plain": [
       "'MNXM420_c0'"
      ]
     },
     "execution_count": 10,
     "metadata": {},
     "output_type": "execute_result"
    },
    {
     "name": "stdout",
     "output_type": "stream",
     "text": [
      "thymd_c0\n"
     ]
    },
    {
     "data": {
      "text/plain": [
       "'MNXM92_c0'"
      ]
     },
     "execution_count": 10,
     "metadata": {},
     "output_type": "execute_result"
    },
    {
     "name": "stdout",
     "output_type": "stream",
     "text": [
      "succoa_c0\n"
     ]
    },
    {
     "data": {
      "text/plain": [
       "'MNXM1508_c0'"
      ]
     },
     "execution_count": 10,
     "metadata": {},
     "output_type": "execute_result"
    },
    {
     "name": "stdout",
     "output_type": "stream",
     "text": [
      "bz12diol_c0\n"
     ]
    },
    {
     "data": {
      "text/plain": [
       "'MNXM181_c0'"
      ]
     },
     "execution_count": 10,
     "metadata": {},
     "output_type": "execute_result"
    },
    {
     "name": "stdout",
     "output_type": "stream",
     "text": [
      "catechol_c0\n"
     ]
    },
    {
     "data": {
      "text/plain": [
       "'MNXM394_c0'"
      ]
     },
     "execution_count": 10,
     "metadata": {},
     "output_type": "execute_result"
    },
    {
     "name": "stdout",
     "output_type": "stream",
     "text": [
      "dttp_c0\n"
     ]
    },
    {
     "data": {
      "text/plain": [
       "'MNXM152_c0'"
      ]
     },
     "execution_count": 10,
     "metadata": {},
     "output_type": "execute_result"
    },
    {
     "name": "stdout",
     "output_type": "stream",
     "text": [
      "dtdp_c0\n"
     ]
    },
    {
     "data": {
      "text/plain": [
       "'MNXM701_c0'"
      ]
     },
     "execution_count": 10,
     "metadata": {},
     "output_type": "execute_result"
    },
    {
     "name": "stdout",
     "output_type": "stream",
     "text": [
      "3hmbcoa_c0\n"
     ]
    },
    {
     "data": {
      "text/plain": [
       "'MNXM524_c0'"
      ]
     },
     "execution_count": 10,
     "metadata": {},
     "output_type": "execute_result"
    },
    {
     "name": "stdout",
     "output_type": "stream",
     "text": [
      "2maacoa_c0\n"
     ]
    },
    {
     "data": {
      "text/plain": [
       "'MNXM826_c0'"
      ]
     },
     "execution_count": 10,
     "metadata": {},
     "output_type": "execute_result"
    },
    {
     "name": "stdout",
     "output_type": "stream",
     "text": [
      "dhpppn_c0\n"
     ]
    },
    {
     "data": {
      "text/plain": [
       "'MNXM337_c0'"
      ]
     },
     "execution_count": 10,
     "metadata": {},
     "output_type": "execute_result"
    },
    {
     "name": "stdout",
     "output_type": "stream",
     "text": [
      "chor_c0\n"
     ]
    },
    {
     "data": {
      "text/plain": [
       "'MNXM615_e0'"
      ]
     },
     "execution_count": 10,
     "metadata": {},
     "output_type": "execute_result"
    },
    {
     "name": "stdout",
     "output_type": "stream",
     "text": [
      "mnl_e0\n"
     ]
    },
    {
     "data": {
      "text/plain": [
       "'MNXM90126_c0'"
      ]
     },
     "execution_count": 10,
     "metadata": {},
     "output_type": "execute_result"
    },
    {
     "name": "stdout",
     "output_type": "stream",
     "text": [
      "mnl1p_c0\n"
     ]
    },
    {
     "data": {
      "text/plain": [
       "'MNXM8670_c0'"
      ]
     },
     "execution_count": 10,
     "metadata": {},
     "output_type": "execute_result"
    },
    {
     "name": "stdout",
     "output_type": "stream",
     "text": [
      "gly_pro__L_c0\n"
     ]
    },
    {
     "data": {
      "text/plain": [
       "'MNXM1378_c0'"
      ]
     },
     "execution_count": 10,
     "metadata": {},
     "output_type": "execute_result"
    },
    {
     "name": "stdout",
     "output_type": "stream",
     "text": [
      "ggbutal_c0\n"
     ]
    },
    {
     "data": {
      "text/plain": [
       "'MNXM1406_c0'"
      ]
     },
     "execution_count": 10,
     "metadata": {},
     "output_type": "execute_result"
    },
    {
     "name": "stdout",
     "output_type": "stream",
     "text": [
      "gg4abut_c0\n"
     ]
    },
    {
     "data": {
      "text/plain": [
       "'MNXM75103_c0'"
      ]
     },
     "execution_count": 10,
     "metadata": {},
     "output_type": "execute_result"
    },
    {
     "name": "stdout",
     "output_type": "stream",
     "text": [
      "pgp161_c0\n"
     ]
    },
    {
     "data": {
      "text/plain": [
       "'MNXM75101_c0'"
      ]
     },
     "execution_count": 10,
     "metadata": {},
     "output_type": "execute_result"
    },
    {
     "name": "stdout",
     "output_type": "stream",
     "text": [
      "pg161_c0\n"
     ]
    },
    {
     "data": {
      "text/plain": [
       "'MNXM546_c0'"
      ]
     },
     "execution_count": 10,
     "metadata": {},
     "output_type": "execute_result"
    },
    {
     "name": "stdout",
     "output_type": "stream",
     "text": [
      "dgmp_c0\n"
     ]
    },
    {
     "data": {
      "text/plain": [
       "'MNXM647_c0'"
      ]
     },
     "execution_count": 10,
     "metadata": {},
     "output_type": "execute_result"
    },
    {
     "name": "stdout",
     "output_type": "stream",
     "text": [
      "dgsn_c0\n"
     ]
    },
    {
     "data": {
      "text/plain": [
       "'MNXM683_e0'"
      ]
     },
     "execution_count": 10,
     "metadata": {},
     "output_type": "execute_result"
    },
    {
     "name": "stdout",
     "output_type": "stream",
     "text": [
      "cgly_e0\n"
     ]
    },
    {
     "data": {
      "text/plain": [
       "'MNXM683_c0'"
      ]
     },
     "execution_count": 10,
     "metadata": {},
     "output_type": "execute_result"
    },
    {
     "name": "stdout",
     "output_type": "stream",
     "text": [
      "cgly_c0\n"
     ]
    },
    {
     "data": {
      "text/plain": [
       "'MNXM34810_c0'"
      ]
     },
     "execution_count": 10,
     "metadata": {},
     "output_type": "execute_result"
    },
    {
     "name": "stdout",
     "output_type": "stream",
     "text": [
      "2agpe160_c0\n"
     ]
    },
    {
     "data": {
      "text/plain": [
       "'MNXM108_c0'"
      ]
     },
     "execution_count": 10,
     "metadata": {},
     "output_type": "execute_result"
    },
    {
     "name": "stdout",
     "output_type": "stream",
     "text": [
      "hdca_c0\n"
     ]
    },
    {
     "data": {
      "text/plain": [
       "'MNXM1323_c0'"
      ]
     },
     "execution_count": 10,
     "metadata": {},
     "output_type": "execute_result"
    },
    {
     "name": "stdout",
     "output_type": "stream",
     "text": [
      "cyart_c0\n"
     ]
    },
    {
     "data": {
      "text/plain": [
       "'MNXM4975_c0'"
      ]
     },
     "execution_count": 10,
     "metadata": {},
     "output_type": "execute_result"
    },
    {
     "name": "stdout",
     "output_type": "stream",
     "text": [
      "menecyart_c0\n"
     ]
    },
    {
     "data": {
      "text/plain": [
       "'MNXM663_e0'"
      ]
     },
     "execution_count": 10,
     "metadata": {},
     "output_type": "execute_result"
    },
    {
     "name": "stdout",
     "output_type": "stream",
     "text": [
      "bhb_e0\n"
     ]
    },
    {
     "data": {
      "text/plain": [
       "'MNXM88_c0'"
      ]
     },
     "execution_count": 10,
     "metadata": {},
     "output_type": "execute_result"
    },
    {
     "name": "stdout",
     "output_type": "stream",
     "text": [
      "pmtcoa_c0\n"
     ]
    },
    {
     "data": {
      "text/plain": [
       "'MNXM162234_c0'"
      ]
     },
     "execution_count": 10,
     "metadata": {},
     "output_type": "execute_result"
    },
    {
     "name": "stdout",
     "output_type": "stream",
     "text": [
      "retinol_c0\n"
     ]
    },
    {
     "data": {
      "text/plain": [
       "'MNXM918_c0'"
      ]
     },
     "execution_count": 10,
     "metadata": {},
     "output_type": "execute_result"
    },
    {
     "name": "stdout",
     "output_type": "stream",
     "text": [
      "retpalm_c0\n"
     ]
    },
    {
     "data": {
      "text/plain": [
       "'MNXM1276_c0'"
      ]
     },
     "execution_count": 10,
     "metadata": {},
     "output_type": "execute_result"
    },
    {
     "name": "stdout",
     "output_type": "stream",
     "text": [
      "rb15bp_c0\n"
     ]
    },
    {
     "data": {
      "text/plain": [
       "'MNXM90509_c0'"
      ]
     },
     "execution_count": 10,
     "metadata": {},
     "output_type": "execute_result"
    },
    {
     "name": "stdout",
     "output_type": "stream",
     "text": [
      "pa120_c0\n"
     ]
    },
    {
     "data": {
      "text/plain": [
       "'MNXM1693_c0'"
      ]
     },
     "execution_count": 10,
     "metadata": {},
     "output_type": "execute_result"
    },
    {
     "name": "stdout",
     "output_type": "stream",
     "text": [
      "hkndd_c0\n"
     ]
    },
    {
     "data": {
      "text/plain": [
       "'MNXM1014_c0'"
      ]
     },
     "execution_count": 10,
     "metadata": {},
     "output_type": "execute_result"
    },
    {
     "name": "stdout",
     "output_type": "stream",
     "text": [
      "HC00955_c0\n"
     ]
    },
    {
     "data": {
      "text/plain": [
       "'MNXM11629_c0'"
      ]
     },
     "execution_count": 10,
     "metadata": {},
     "output_type": "execute_result"
    },
    {
     "name": "stdout",
     "output_type": "stream",
     "text": [
      "HC01577_c0\n"
     ]
    },
    {
     "data": {
      "text/plain": [
       "'MNXM15_e0'"
      ]
     },
     "execution_count": 10,
     "metadata": {},
     "output_type": "execute_result"
    },
    {
     "name": "stdout",
     "output_type": "stream",
     "text": [
      "nh4_e0\n"
     ]
    },
    {
     "data": {
      "text/plain": [
       "'MNXM211_c0'"
      ]
     },
     "execution_count": 10,
     "metadata": {},
     "output_type": "execute_result"
    },
    {
     "name": "stdout",
     "output_type": "stream",
     "text": [
      "citr__L_c0\n"
     ]
    },
    {
     "data": {
      "text/plain": [
       "'MNXM685_c0'"
      ]
     },
     "execution_count": 10,
     "metadata": {},
     "output_type": "execute_result"
    },
    {
     "name": "stdout",
     "output_type": "stream",
     "text": [
      "rbl__L_c0\n"
     ]
    },
    {
     "data": {
      "text/plain": [
       "'MNXM1287_c0'"
      ]
     },
     "execution_count": 10,
     "metadata": {},
     "output_type": "execute_result"
    },
    {
     "name": "stdout",
     "output_type": "stream",
     "text": [
      "Nforglu_c0\n"
     ]
    },
    {
     "data": {
      "text/plain": [
       "'MNXM648_c0'"
      ]
     },
     "execution_count": 10,
     "metadata": {},
     "output_type": "execute_result"
    },
    {
     "name": "stdout",
     "output_type": "stream",
     "text": [
      "25drapp_c0\n"
     ]
    },
    {
     "data": {
      "text/plain": [
       "'MNXM1277_c0'"
      ]
     },
     "execution_count": 10,
     "metadata": {},
     "output_type": "execute_result"
    },
    {
     "name": "stdout",
     "output_type": "stream",
     "text": [
      "dhlam_c0\n"
     ]
    },
    {
     "data": {
      "text/plain": [
       "'MNXM187_c0'"
      ]
     },
     "execution_count": 10,
     "metadata": {},
     "output_type": "execute_result"
    },
    {
     "name": "stdout",
     "output_type": "stream",
     "text": [
      "ethamp_c0\n"
     ]
    },
    {
     "data": {
      "text/plain": [
       "'MNXM179_c0'"
      ]
     },
     "execution_count": 10,
     "metadata": {},
     "output_type": "execute_result"
    },
    {
     "name": "stdout",
     "output_type": "stream",
     "text": [
      "lac__L_c0\n"
     ]
    },
    {
     "data": {
      "text/plain": [
       "'MNXM210_c0'"
      ]
     },
     "execution_count": 10,
     "metadata": {},
     "output_type": "execute_result"
    },
    {
     "name": "stdout",
     "output_type": "stream",
     "text": [
      "phpyr_c0\n"
     ]
    },
    {
     "data": {
      "text/plain": [
       "'MNXM2160_c0'"
      ]
     },
     "execution_count": 10,
     "metadata": {},
     "output_type": "execute_result"
    },
    {
     "name": "stdout",
     "output_type": "stream",
     "text": [
      "2hyoxplac_c0\n"
     ]
    },
    {
     "data": {
      "text/plain": [
       "'MNXM1048_c0'"
      ]
     },
     "execution_count": 10,
     "metadata": {},
     "output_type": "execute_result"
    },
    {
     "name": "stdout",
     "output_type": "stream",
     "text": [
      "gcarote_c0\n"
     ]
    },
    {
     "data": {
      "text/plain": [
       "'MNXM70_e0'"
      ]
     },
     "execution_count": 10,
     "metadata": {},
     "output_type": "execute_result"
    },
    {
     "name": "stdout",
     "output_type": "stream",
     "text": [
      "arg__L_e0\n"
     ]
    },
    {
     "data": {
      "text/plain": [
       "'MNXM90586_c0'"
      ]
     },
     "execution_count": 10,
     "metadata": {},
     "output_type": "execute_result"
    },
    {
     "name": "stdout",
     "output_type": "stream",
     "text": [
      "1hdecg3p_c0\n"
     ]
    },
    {
     "data": {
      "text/plain": [
       "'MNXM344_c0'"
      ]
     },
     "execution_count": 10,
     "metadata": {},
     "output_type": "execute_result"
    },
    {
     "name": "stdout",
     "output_type": "stream",
     "text": [
      "dgtp_c0\n"
     ]
    },
    {
     "data": {
      "text/plain": [
       "'MNXM300_c0'"
      ]
     },
     "execution_count": 10,
     "metadata": {},
     "output_type": "execute_result"
    },
    {
     "name": "stdout",
     "output_type": "stream",
     "text": [
      "sarcs_c0\n"
     ]
    },
    {
     "data": {
      "text/plain": [
       "'MNXM331_c0'"
      ]
     },
     "execution_count": 10,
     "metadata": {},
     "output_type": "execute_result"
    },
    {
     "name": "stdout",
     "output_type": "stream",
     "text": [
      "glu__D_c0\n"
     ]
    },
    {
     "data": {
      "text/plain": [
       "'MNXM820_c0'"
      ]
     },
     "execution_count": 10,
     "metadata": {},
     "output_type": "execute_result"
    },
    {
     "name": "stdout",
     "output_type": "stream",
     "text": [
      "suchms_c0\n"
     ]
    },
    {
     "data": {
      "text/plain": [
       "'MNXM96425_c0'"
      ]
     },
     "execution_count": 10,
     "metadata": {},
     "output_type": "execute_result"
    },
    {
     "name": "stdout",
     "output_type": "stream",
     "text": [
      "crm_cho_c0\n"
     ]
    },
    {
     "data": {
      "text/plain": [
       "'MNXM229_c0'"
      ]
     },
     "execution_count": 10,
     "metadata": {},
     "output_type": "execute_result"
    },
    {
     "name": "stdout",
     "output_type": "stream",
     "text": [
      "cholp_c0\n"
     ]
    },
    {
     "data": {
      "text/plain": [
       "'MNXM7733_c0'"
      ]
     },
     "execution_count": 10,
     "metadata": {},
     "output_type": "execute_result"
    },
    {
     "name": "stdout",
     "output_type": "stream",
     "text": [
      "3hmrsACP_c0\n"
     ]
    },
    {
     "data": {
      "text/plain": [
       "'MNXM24297_c0'"
      ]
     },
     "execution_count": 10,
     "metadata": {},
     "output_type": "execute_result"
    },
    {
     "name": "stdout",
     "output_type": "stream",
     "text": [
      "tmrs2eACP_c0\n"
     ]
    },
    {
     "data": {
      "text/plain": [
       "'MNXM803_c0'"
      ]
     },
     "execution_count": 10,
     "metadata": {},
     "output_type": "execute_result"
    },
    {
     "name": "stdout",
     "output_type": "stream",
     "text": [
      "Pald_c0\n"
     ]
    },
    {
     "data": {
      "text/plain": [
       "'MNXM53766_c0'"
      ]
     },
     "execution_count": 10,
     "metadata": {},
     "output_type": "execute_result"
    },
    {
     "name": "stdout",
     "output_type": "stream",
     "text": [
      "HC01651_c0\n"
     ]
    },
    {
     "data": {
      "text/plain": [
       "'MNXM2773_c0'"
      ]
     },
     "execution_count": 10,
     "metadata": {},
     "output_type": "execute_result"
    },
    {
     "name": "stdout",
     "output_type": "stream",
     "text": [
      "HC01652_c0\n"
     ]
    },
    {
     "data": {
      "text/plain": [
       "'MNXM32950_c0'"
      ]
     },
     "execution_count": 10,
     "metadata": {},
     "output_type": "execute_result"
    },
    {
     "name": "stdout",
     "output_type": "stream",
     "text": [
      "1odecg3p_c0\n"
     ]
    },
    {
     "data": {
      "text/plain": [
       "'MNXM4708_c0'"
      ]
     },
     "execution_count": 10,
     "metadata": {},
     "output_type": "execute_result"
    },
    {
     "name": "stdout",
     "output_type": "stream",
     "text": [
      "acmanap_c0\n"
     ]
    },
    {
     "data": {
      "text/plain": [
       "'MNXM90279_c0'"
      ]
     },
     "execution_count": 10,
     "metadata": {},
     "output_type": "execute_result"
    },
    {
     "name": "stdout",
     "output_type": "stream",
     "text": [
      "2mcit_c0\n"
     ]
    },
    {
     "data": {
      "text/plain": [
       "'MNXM367_c0'"
      ]
     },
     "execution_count": 10,
     "metadata": {},
     "output_type": "execute_result"
    },
    {
     "name": "stdout",
     "output_type": "stream",
     "text": [
      "g3pc_c0\n"
     ]
    },
    {
     "data": {
      "text/plain": [
       "'MNXM90_c0'"
      ]
     },
     "execution_count": 10,
     "metadata": {},
     "output_type": "execute_result"
    },
    {
     "name": "stdout",
     "output_type": "stream",
     "text": [
      "chol_c0\n"
     ]
    },
    {
     "data": {
      "text/plain": [
       "'MNXM69_c0'"
      ]
     },
     "execution_count": 10,
     "metadata": {},
     "output_type": "execute_result"
    },
    {
     "name": "stdout",
     "output_type": "stream",
     "text": [
      "glx_c0\n"
     ]
    },
    {
     "data": {
      "text/plain": [
       "'MNXM111_e0'"
      ]
     },
     "execution_count": 10,
     "metadata": {},
     "output_type": "execute_result"
    },
    {
     "name": "stdout",
     "output_type": "stream",
     "text": [
      "fe2_e0\n"
     ]
    },
    {
     "data": {
      "text/plain": [
       "'MNXM3232_c0'"
      ]
     },
     "execution_count": 10,
     "metadata": {},
     "output_type": "execute_result"
    },
    {
     "name": "stdout",
     "output_type": "stream",
     "text": [
      "cdpdhdecg_c0\n"
     ]
    },
    {
     "data": {
      "text/plain": [
       "'MNXM32180_c0'"
      ]
     },
     "execution_count": 10,
     "metadata": {},
     "output_type": "execute_result"
    },
    {
     "name": "stdout",
     "output_type": "stream",
     "text": [
      "pgp160_c0\n"
     ]
    },
    {
     "data": {
      "text/plain": [
       "'MNXM477_e0'"
      ]
     },
     "execution_count": 10,
     "metadata": {},
     "output_type": "execute_result"
    },
    {
     "name": "stdout",
     "output_type": "stream",
     "text": [
      "malon_e0\n"
     ]
    },
    {
     "data": {
      "text/plain": [
       "'MNXM477_c0'"
      ]
     },
     "execution_count": 10,
     "metadata": {},
     "output_type": "execute_result"
    },
    {
     "name": "stdout",
     "output_type": "stream",
     "text": [
      "malon_c0\n"
     ]
    },
    {
     "data": {
      "text/plain": [
       "'MNXM584_c0'"
      ]
     },
     "execution_count": 10,
     "metadata": {},
     "output_type": "execute_result"
    },
    {
     "name": "stdout",
     "output_type": "stream",
     "text": [
      "alltt_c0\n"
     ]
    },
    {
     "data": {
      "text/plain": [
       "'MNXM117_c0'"
      ]
     },
     "execution_count": 10,
     "metadata": {},
     "output_type": "execute_result"
    },
    {
     "name": "stdout",
     "output_type": "stream",
     "text": [
      "urea_c0\n"
     ]
    },
    {
     "data": {
      "text/plain": [
       "'MNXM490_c0'"
      ]
     },
     "execution_count": 10,
     "metadata": {},
     "output_type": "execute_result"
    },
    {
     "name": "stdout",
     "output_type": "stream",
     "text": [
      "urdglyc_c0\n"
     ]
    },
    {
     "data": {
      "text/plain": [
       "'MNXM699_c0'"
      ]
     },
     "execution_count": 10,
     "metadata": {},
     "output_type": "execute_result"
    },
    {
     "name": "stdout",
     "output_type": "stream",
     "text": [
      "achms_c0\n"
     ]
    },
    {
     "data": {
      "text/plain": [
       "'MNXM165_e0'"
      ]
     },
     "execution_count": 10,
     "metadata": {},
     "output_type": "execute_result"
    },
    {
     "name": "stdout",
     "output_type": "stream",
     "text": [
      "malt_e0\n"
     ]
    },
    {
     "data": {
      "text/plain": [
       "'MNXM2394_c0'"
      ]
     },
     "execution_count": 10,
     "metadata": {},
     "output_type": "execute_result"
    },
    {
     "name": "stdout",
     "output_type": "stream",
     "text": [
      "malt6p_c0\n"
     ]
    },
    {
     "data": {
      "text/plain": [
       "'MNXM28933_c0'"
      ]
     },
     "execution_count": 10,
     "metadata": {},
     "output_type": "execute_result"
    },
    {
     "name": "stdout",
     "output_type": "stream",
     "text": [
      "3oddecACP_c0\n"
     ]
    },
    {
     "data": {
      "text/plain": [
       "'MNXM242_c0'"
      ]
     },
     "execution_count": 10,
     "metadata": {},
     "output_type": "execute_result"
    },
    {
     "name": "stdout",
     "output_type": "stream",
     "text": [
      "rib__D_c0\n"
     ]
    },
    {
     "data": {
      "text/plain": [
       "'MNXM674_c0'"
      ]
     },
     "execution_count": 10,
     "metadata": {},
     "output_type": "execute_result"
    },
    {
     "name": "stdout",
     "output_type": "stream",
     "text": [
      "3hdcoa_c0\n"
     ]
    },
    {
     "data": {
      "text/plain": [
       "'MNXM580_c0'"
      ]
     },
     "execution_count": 10,
     "metadata": {},
     "output_type": "execute_result"
    },
    {
     "name": "stdout",
     "output_type": "stream",
     "text": [
      "dc2coa_c0\n"
     ]
    },
    {
     "data": {
      "text/plain": [
       "'MNXM91417_c0'"
      ]
     },
     "execution_count": 10,
     "metadata": {},
     "output_type": "execute_result"
    },
    {
     "name": "stdout",
     "output_type": "stream",
     "text": [
      "3mgcoa_c0\n"
     ]
    },
    {
     "data": {
      "text/plain": [
       "'MNXM511_c0'"
      ]
     },
     "execution_count": 10,
     "metadata": {},
     "output_type": "execute_result"
    },
    {
     "name": "stdout",
     "output_type": "stream",
     "text": [
      "methf_c0\n"
     ]
    },
    {
     "data": {
      "text/plain": [
       "'MNXM51279_c0'"
      ]
     },
     "execution_count": 10,
     "metadata": {},
     "output_type": "execute_result"
    },
    {
     "name": "stdout",
     "output_type": "stream",
     "text": [
      "pa180_c0\n"
     ]
    },
    {
     "data": {
      "text/plain": [
       "'MNXM90511_c0'"
      ]
     },
     "execution_count": 10,
     "metadata": {},
     "output_type": "execute_result"
    },
    {
     "name": "stdout",
     "output_type": "stream",
     "text": [
      "pa181_c0\n"
     ]
    },
    {
     "data": {
      "text/plain": [
       "'MNXM17312_c0'"
      ]
     },
     "execution_count": 10,
     "metadata": {},
     "output_type": "execute_result"
    },
    {
     "name": "stdout",
     "output_type": "stream",
     "text": [
      "pa160_c0\n"
     ]
    },
    {
     "data": {
      "text/plain": [
       "'MNXM733_c0'"
      ]
     },
     "execution_count": 10,
     "metadata": {},
     "output_type": "execute_result"
    },
    {
     "name": "stdout",
     "output_type": "stream",
     "text": [
      "3hddcoa_c0\n"
     ]
    },
    {
     "data": {
      "text/plain": [
       "'MNXM642_c0'"
      ]
     },
     "execution_count": 10,
     "metadata": {},
     "output_type": "execute_result"
    },
    {
     "name": "stdout",
     "output_type": "stream",
     "text": [
      "trans_dd2coa_c0\n"
     ]
    },
    {
     "data": {
      "text/plain": [
       "'MNXM167_c0'"
      ]
     },
     "execution_count": 10,
     "metadata": {},
     "output_type": "execute_result"
    },
    {
     "name": "stdout",
     "output_type": "stream",
     "text": [
      "sucr_c0\n"
     ]
    },
    {
     "data": {
      "text/plain": [
       "'MNXM991_c0'"
      ]
     },
     "execution_count": 10,
     "metadata": {},
     "output_type": "execute_result"
    },
    {
     "name": "stdout",
     "output_type": "stream",
     "text": [
      "dheas_c0\n"
     ]
    },
    {
     "data": {
      "text/plain": [
       "'MNXM375_c0'"
      ]
     },
     "execution_count": 10,
     "metadata": {},
     "output_type": "execute_result"
    },
    {
     "name": "stdout",
     "output_type": "stream",
     "text": [
      "dhea_c0\n"
     ]
    },
    {
     "data": {
      "text/plain": [
       "'MNXM475_c0'"
      ]
     },
     "execution_count": 10,
     "metadata": {},
     "output_type": "execute_result"
    },
    {
     "name": "stdout",
     "output_type": "stream",
     "text": [
      "hop_c0\n"
     ]
    },
    {
     "data": {
      "text/plain": [
       "'MNXM89612_e0'"
      ]
     },
     "execution_count": 10,
     "metadata": {},
     "output_type": "execute_result"
    },
    {
     "name": "stdout",
     "output_type": "stream",
     "text": [
      "glyc_e0\n"
     ]
    },
    {
     "data": {
      "text/plain": [
       "'MNXM443_c0'"
      ]
     },
     "execution_count": 10,
     "metadata": {},
     "output_type": "execute_result"
    },
    {
     "name": "stdout",
     "output_type": "stream",
     "text": [
      "caffcoa_c0\n"
     ]
    },
    {
     "data": {
      "text/plain": [
       "'MNXM821_c0'"
      ]
     },
     "execution_count": 10,
     "metadata": {},
     "output_type": "execute_result"
    },
    {
     "name": "stdout",
     "output_type": "stream",
     "text": [
      "ppal_c0\n"
     ]
    },
    {
     "data": {
      "text/plain": [
       "'MNXM2488_c0'"
      ]
     },
     "execution_count": 10,
     "metadata": {},
     "output_type": "execute_result"
    },
    {
     "name": "stdout",
     "output_type": "stream",
     "text": [
      "4hoxoh_c0\n"
     ]
    },
    {
     "data": {
      "text/plain": [
       "'MNXM76_c0'"
      ]
     },
     "execution_count": 10,
     "metadata": {},
     "output_type": "execute_result"
    },
    {
     "name": "stdout",
     "output_type": "stream",
     "text": [
      "tyr__L_c0\n"
     ]
    },
    {
     "data": {
      "text/plain": [
       "'MNXM2769_c0'"
      ]
     },
     "execution_count": 10,
     "metadata": {},
     "output_type": "execute_result"
    },
    {
     "name": "stdout",
     "output_type": "stream",
     "text": [
      "2tpr3dpcoa_c0\n"
     ]
    },
    {
     "data": {
      "text/plain": [
       "'MNXM4509_c0'"
      ]
     },
     "execution_count": 10,
     "metadata": {},
     "output_type": "execute_result"
    },
    {
     "name": "stdout",
     "output_type": "stream",
     "text": [
      "cdpdodec11eg_c0\n"
     ]
    },
    {
     "data": {
      "text/plain": [
       "'MNXM55287_e0'"
      ]
     },
     "execution_count": 10,
     "metadata": {},
     "output_type": "execute_result"
    },
    {
     "name": "stdout",
     "output_type": "stream",
     "text": [
      "gly_met__L_e0\n"
     ]
    },
    {
     "data": {
      "text/plain": [
       "'MNXM55287_c0'"
      ]
     },
     "execution_count": 10,
     "metadata": {},
     "output_type": "execute_result"
    },
    {
     "name": "stdout",
     "output_type": "stream",
     "text": [
      "gly_met__L_c0\n"
     ]
    },
    {
     "data": {
      "text/plain": [
       "'MNXM351_c0'"
      ]
     },
     "execution_count": 10,
     "metadata": {},
     "output_type": "execute_result"
    },
    {
     "name": "stdout",
     "output_type": "stream",
     "text": [
      "pppg9_c0\n"
     ]
    },
    {
     "data": {
      "text/plain": [
       "'MNXM346_c0'"
      ]
     },
     "execution_count": 10,
     "metadata": {},
     "output_type": "execute_result"
    },
    {
     "name": "stdout",
     "output_type": "stream",
     "text": [
      "ppp9_c0\n"
     ]
    },
    {
     "data": {
      "text/plain": [
       "'MNXM5481_c0'"
      ]
     },
     "execution_count": 10,
     "metadata": {},
     "output_type": "execute_result"
    },
    {
     "name": "stdout",
     "output_type": "stream",
     "text": [
      "2odecg3p_c0\n"
     ]
    },
    {
     "data": {
      "text/plain": [
       "'MNXM236_c0'"
      ]
     },
     "execution_count": 10,
     "metadata": {},
     "output_type": "execute_result"
    },
    {
     "name": "stdout",
     "output_type": "stream",
     "text": [
      "ocdca_c0\n"
     ]
    },
    {
     "data": {
      "text/plain": [
       "'MNXM1104_c0'"
      ]
     },
     "execution_count": 10,
     "metadata": {},
     "output_type": "execute_result"
    },
    {
     "name": "stdout",
     "output_type": "stream",
     "text": [
      "mucl_c0\n"
     ]
    },
    {
     "data": {
      "text/plain": [
       "'MNXM1144_c0'"
      ]
     },
     "execution_count": 10,
     "metadata": {},
     "output_type": "execute_result"
    },
    {
     "name": "stdout",
     "output_type": "stream",
     "text": [
      "ccmuac_c0\n"
     ]
    },
    {
     "data": {
      "text/plain": [
       "'MNXM227_c0'"
      ]
     },
     "execution_count": 10,
     "metadata": {},
     "output_type": "execute_result"
    },
    {
     "name": "stdout",
     "output_type": "stream",
     "text": [
      "acnam_c0\n"
     ]
    },
    {
     "data": {
      "text/plain": [
       "'MNXM2387_c0'"
      ]
     },
     "execution_count": 10,
     "metadata": {},
     "output_type": "execute_result"
    },
    {
     "name": "stdout",
     "output_type": "stream",
     "text": [
      "lald__L_c0\n"
     ]
    },
    {
     "data": {
      "text/plain": [
       "'MNXM26095_c0'"
      ]
     },
     "execution_count": 10,
     "metadata": {},
     "output_type": "execute_result"
    },
    {
     "name": "stdout",
     "output_type": "stream",
     "text": [
      "3omrsACP_c0\n"
     ]
    },
    {
     "data": {
      "text/plain": [
       "'MNXM450_c0'"
      ]
     },
     "execution_count": 10,
     "metadata": {},
     "output_type": "execute_result"
    },
    {
     "name": "stdout",
     "output_type": "stream",
     "text": [
      "cholate_c0\n"
     ]
    },
    {
     "data": {
      "text/plain": [
       "'MNXM1067_c0'"
      ]
     },
     "execution_count": 10,
     "metadata": {},
     "output_type": "execute_result"
    },
    {
     "name": "stdout",
     "output_type": "stream",
     "text": [
      "hexdp_c0\n"
     ]
    },
    {
     "data": {
      "text/plain": [
       "'MNXM465_c0'"
      ]
     },
     "execution_count": 10,
     "metadata": {},
     "output_type": "execute_result"
    },
    {
     "name": "stdout",
     "output_type": "stream",
     "text": [
      "cbasp_c0\n"
     ]
    },
    {
     "data": {
      "text/plain": [
       "'MNXM874_c0'"
      ]
     },
     "execution_count": 10,
     "metadata": {},
     "output_type": "execute_result"
    },
    {
     "name": "stdout",
     "output_type": "stream",
     "text": [
      "4ahmmp_c0\n"
     ]
    },
    {
     "data": {
      "text/plain": [
       "'MNXM9_e0'"
      ]
     },
     "execution_count": 10,
     "metadata": {},
     "output_type": "execute_result"
    },
    {
     "name": "stdout",
     "output_type": "stream",
     "text": [
      "pi_e0\n"
     ]
    },
    {
     "data": {
      "text/plain": [
       "'MNXM353_c0'"
      ]
     },
     "execution_count": 10,
     "metadata": {},
     "output_type": "execute_result"
    },
    {
     "name": "stdout",
     "output_type": "stream",
     "text": [
      "hom__L_c0\n"
     ]
    },
    {
     "data": {
      "text/plain": [
       "'MNXM361_c0'"
      ]
     },
     "execution_count": 10,
     "metadata": {},
     "output_type": "execute_result"
    },
    {
     "name": "stdout",
     "output_type": "stream",
     "text": [
      "aspsa_c0\n"
     ]
    },
    {
     "data": {
      "text/plain": [
       "'MNXM1805_c0'"
      ]
     },
     "execution_count": 10,
     "metadata": {},
     "output_type": "execute_result"
    },
    {
     "name": "stdout",
     "output_type": "stream",
     "text": [
      "houdic_c0\n"
     ]
    },
    {
     "data": {
      "text/plain": [
       "'MNXM438_c0'"
      ]
     },
     "execution_count": 10,
     "metadata": {},
     "output_type": "execute_result"
    },
    {
     "name": "stdout",
     "output_type": "stream",
     "text": [
      "cinnm_c0\n"
     ]
    },
    {
     "data": {
      "text/plain": [
       "'MNXM1561_c0'"
      ]
     },
     "execution_count": 10,
     "metadata": {},
     "output_type": "execute_result"
    },
    {
     "name": "stdout",
     "output_type": "stream",
     "text": [
      "gdptp_c0\n"
     ]
    },
    {
     "data": {
      "text/plain": [
       "'MNXM214_c0'"
      ]
     },
     "execution_count": 10,
     "metadata": {},
     "output_type": "execute_result"
    },
    {
     "name": "stdout",
     "output_type": "stream",
     "text": [
      "b2coa_c0\n"
     ]
    },
    {
     "data": {
      "text/plain": [
       "'MNXM162233_c0'"
      ]
     },
     "execution_count": 10,
     "metadata": {},
     "output_type": "execute_result"
    },
    {
     "name": "stdout",
     "output_type": "stream",
     "text": [
      "udpacgal_c0\n"
     ]
    },
    {
     "data": {
      "text/plain": [
       "'MNXM90886_c0'"
      ]
     },
     "execution_count": 10,
     "metadata": {},
     "output_type": "execute_result"
    },
    {
     "name": "stdout",
     "output_type": "stream",
     "text": [
      "trnaglu_c0\n"
     ]
    },
    {
     "data": {
      "text/plain": [
       "'MNXM89752_c0'"
      ]
     },
     "execution_count": 10,
     "metadata": {},
     "output_type": "execute_result"
    },
    {
     "name": "stdout",
     "output_type": "stream",
     "text": [
      "glutrna_c0\n"
     ]
    },
    {
     "data": {
      "text/plain": [
       "'MNXM1062_c0'"
      ]
     },
     "execution_count": 10,
     "metadata": {},
     "output_type": "execute_result"
    },
    {
     "name": "stdout",
     "output_type": "stream",
     "text": [
      "acg5sa_c0\n"
     ]
    },
    {
     "data": {
      "text/plain": [
       "'MNXM9132_c0'"
      ]
     },
     "execution_count": 10,
     "metadata": {},
     "output_type": "execute_result"
    },
    {
     "name": "stdout",
     "output_type": "stream",
     "text": [
      "tdechola_c0\n"
     ]
    },
    {
     "data": {
      "text/plain": [
       "'MNXM57907_c0'"
      ]
     },
     "execution_count": 10,
     "metadata": {},
     "output_type": "execute_result"
    },
    {
     "name": "stdout",
     "output_type": "stream",
     "text": [
      "dchac_c0\n"
     ]
    },
    {
     "data": {
      "text/plain": [
       "'MNXM785_c0'"
      ]
     },
     "execution_count": 10,
     "metadata": {},
     "output_type": "execute_result"
    },
    {
     "name": "stdout",
     "output_type": "stream",
     "text": [
      "uamr_c0\n"
     ]
    },
    {
     "data": {
      "text/plain": [
       "'MNXM1688_c0'"
      ]
     },
     "execution_count": 10,
     "metadata": {},
     "output_type": "execute_result"
    },
    {
     "name": "stdout",
     "output_type": "stream",
     "text": [
      "uaccg_c0\n"
     ]
    },
    {
     "data": {
      "text/plain": [
       "'MNXM1694_c0'"
      ]
     },
     "execution_count": 10,
     "metadata": {},
     "output_type": "execute_result"
    },
    {
     "name": "stdout",
     "output_type": "stream",
     "text": [
      "micit_c0\n"
     ]
    },
    {
     "data": {
      "text/plain": [
       "'MNXM6824_c0'"
      ]
     },
     "execution_count": 10,
     "metadata": {},
     "output_type": "execute_result"
    },
    {
     "name": "stdout",
     "output_type": "stream",
     "text": [
      "3mhtpp_c0\n"
     ]
    },
    {
     "data": {
      "text/plain": [
       "'MNXM5589_c0'"
      ]
     },
     "execution_count": 10,
     "metadata": {},
     "output_type": "execute_result"
    },
    {
     "name": "stdout",
     "output_type": "stream",
     "text": [
      "HC01377_c0\n"
     ]
    },
    {
     "data": {
      "text/plain": [
       "'MNXM119_c0'"
      ]
     },
     "execution_count": 10,
     "metadata": {},
     "output_type": "execute_result"
    },
    {
     "name": "stdout",
     "output_type": "stream",
     "text": [
      "fmn_c0\n"
     ]
    },
    {
     "data": {
      "text/plain": [
       "'MNXM1294_c0'"
      ]
     },
     "execution_count": 10,
     "metadata": {},
     "output_type": "execute_result"
    },
    {
     "name": "stdout",
     "output_type": "stream",
     "text": [
      "s17bp_c0\n"
     ]
    },
    {
     "data": {
      "text/plain": [
       "'MNXM61_e0'"
      ]
     },
     "execution_count": 10,
     "metadata": {},
     "output_type": "execute_result"
    },
    {
     "name": "stdout",
     "output_type": "stream",
     "text": [
      "met__L_e0\n"
     ]
    },
    {
     "data": {
      "text/plain": [
       "'MNXM676_c0'"
      ]
     },
     "execution_count": 10,
     "metadata": {},
     "output_type": "execute_result"
    },
    {
     "name": "stdout",
     "output_type": "stream",
     "text": [
      "2ins_c0\n"
     ]
    },
    {
     "data": {
      "text/plain": [
       "'MNXM88512_c0'"
      ]
     },
     "execution_count": 10,
     "metadata": {},
     "output_type": "execute_result"
    },
    {
     "name": "stdout",
     "output_type": "stream",
     "text": [
      "uaaAgla_c0\n"
     ]
    },
    {
     "data": {
      "text/plain": [
       "'MNXM88510_c0'"
      ]
     },
     "execution_count": 10,
     "metadata": {},
     "output_type": "execute_result"
    },
    {
     "name": "stdout",
     "output_type": "stream",
     "text": [
      "uaaAgtla_c0\n"
     ]
    },
    {
     "data": {
      "text/plain": [
       "'MNXM405_c0'"
      ]
     },
     "execution_count": 10,
     "metadata": {},
     "output_type": "execute_result"
    },
    {
     "name": "stdout",
     "output_type": "stream",
     "text": [
      "5aop_c0\n"
     ]
    },
    {
     "data": {
      "text/plain": [
       "'MNXM55276_c0'"
      ]
     },
     "execution_count": 10,
     "metadata": {},
     "output_type": "execute_result"
    },
    {
     "name": "stdout",
     "output_type": "stream",
     "text": [
      "gly_gln__L_c0\n"
     ]
    },
    {
     "data": {
      "text/plain": [
       "'MNXM767_c0'"
      ]
     },
     "execution_count": 10,
     "metadata": {},
     "output_type": "execute_result"
    },
    {
     "name": "stdout",
     "output_type": "stream",
     "text": [
      "3htdcoa_c0\n"
     ]
    },
    {
     "data": {
      "text/plain": [
       "'MNXM707_c0'"
      ]
     },
     "execution_count": 10,
     "metadata": {},
     "output_type": "execute_result"
    },
    {
     "name": "stdout",
     "output_type": "stream",
     "text": [
      "3otdcoa_c0\n"
     ]
    },
    {
     "data": {
      "text/plain": [
       "'MNXM373_c0'"
      ]
     },
     "execution_count": 10,
     "metadata": {},
     "output_type": "execute_result"
    },
    {
     "name": "stdout",
     "output_type": "stream",
     "text": [
      "pan4p_c0\n"
     ]
    },
    {
     "data": {
      "text/plain": [
       "'MNXM625_e0'"
      ]
     },
     "execution_count": 10,
     "metadata": {},
     "output_type": "execute_result"
    },
    {
     "name": "stdout",
     "output_type": "stream",
     "text": [
      "dad_2_e0\n"
     ]
    },
    {
     "data": {
      "text/plain": [
       "'MNXM625_c0'"
      ]
     },
     "execution_count": 10,
     "metadata": {},
     "output_type": "execute_result"
    },
    {
     "name": "stdout",
     "output_type": "stream",
     "text": [
      "dad_2_c0\n"
     ]
    },
    {
     "data": {
      "text/plain": [
       "'MNXM1515_c0'"
      ]
     },
     "execution_count": 10,
     "metadata": {},
     "output_type": "execute_result"
    },
    {
     "name": "stdout",
     "output_type": "stream",
     "text": [
      "prbamp_c0\n"
     ]
    },
    {
     "data": {
      "text/plain": [
       "'MNXM1397_c0'"
      ]
     },
     "execution_count": 10,
     "metadata": {},
     "output_type": "execute_result"
    },
    {
     "name": "stdout",
     "output_type": "stream",
     "text": [
      "prfp_c0\n"
     ]
    },
    {
     "data": {
      "text/plain": [
       "'MNXM649_c0'"
      ]
     },
     "execution_count": 10,
     "metadata": {},
     "output_type": "execute_result"
    },
    {
     "name": "stdout",
     "output_type": "stream",
     "text": [
      "2ddg6p_c0\n"
     ]
    },
    {
     "data": {
      "text/plain": [
       "'MNXM285_c0'"
      ]
     },
     "execution_count": 10,
     "metadata": {},
     "output_type": "execute_result"
    },
    {
     "name": "stdout",
     "output_type": "stream",
     "text": [
      "lac__D_c0\n"
     ]
    },
    {
     "data": {
      "text/plain": [
       "'MNXM222_c0'"
      ]
     },
     "execution_count": 10,
     "metadata": {},
     "output_type": "execute_result"
    },
    {
     "name": "stdout",
     "output_type": "stream",
     "text": [
      "glyclt_c0\n"
     ]
    },
    {
     "data": {
      "text/plain": [
       "'MNXM827_c0'"
      ]
     },
     "execution_count": 10,
     "metadata": {},
     "output_type": "execute_result"
    },
    {
     "name": "stdout",
     "output_type": "stream",
     "text": [
      "HC01459_c0\n"
     ]
    },
    {
     "data": {
      "text/plain": [
       "'MNXM90790_c0'"
      ]
     },
     "execution_count": 10,
     "metadata": {},
     "output_type": "execute_result"
    },
    {
     "name": "stdout",
     "output_type": "stream",
     "text": [
      "adocbi_c0\n"
     ]
    },
    {
     "data": {
      "text/plain": [
       "'MNXM231_c0'"
      ]
     },
     "execution_count": 10,
     "metadata": {},
     "output_type": "execute_result"
    },
    {
     "name": "stdout",
     "output_type": "stream",
     "text": [
      "ile__L_c0\n"
     ]
    },
    {
     "data": {
      "text/plain": [
       "'MNXM149_e0'"
      ]
     },
     "execution_count": 10,
     "metadata": {},
     "output_type": "execute_result"
    },
    {
     "name": "stdout",
     "output_type": "stream",
     "text": [
      "zn2_e0\n"
     ]
    },
    {
     "data": {
      "text/plain": [
       "'MNXM149_c0'"
      ]
     },
     "execution_count": 10,
     "metadata": {},
     "output_type": "execute_result"
    },
    {
     "name": "stdout",
     "output_type": "stream",
     "text": [
      "zn2_c0\n"
     ]
    },
    {
     "data": {
      "text/plain": [
       "'MNXM955_c0'"
      ]
     },
     "execution_count": 10,
     "metadata": {},
     "output_type": "execute_result"
    },
    {
     "name": "stdout",
     "output_type": "stream",
     "text": [
      "uamag_c0\n"
     ]
    },
    {
     "data": {
      "text/plain": [
       "'MNXM6465_c0'"
      ]
     },
     "execution_count": 10,
     "metadata": {},
     "output_type": "execute_result"
    },
    {
     "name": "stdout",
     "output_type": "stream",
     "text": [
      "uAgl_c0\n"
     ]
    },
    {
     "data": {
      "text/plain": [
       "'MNXM89658_c0'"
      ]
     },
     "execution_count": 10,
     "metadata": {},
     "output_type": "execute_result"
    },
    {
     "name": "stdout",
     "output_type": "stream",
     "text": [
      "thbpt_c0\n"
     ]
    },
    {
     "data": {
      "text/plain": [
       "'MNXM90267_c0'"
      ]
     },
     "execution_count": 10,
     "metadata": {},
     "output_type": "execute_result"
    },
    {
     "name": "stdout",
     "output_type": "stream",
     "text": [
      "CE2705_c0\n"
     ]
    },
    {
     "data": {
      "text/plain": [
       "'MNXM581_c0'"
      ]
     },
     "execution_count": 10,
     "metadata": {},
     "output_type": "execute_result"
    },
    {
     "name": "stdout",
     "output_type": "stream",
     "text": [
      "hdd2coa_c0\n"
     ]
    },
    {
     "data": {
      "text/plain": [
       "'MNXM96952_c0'"
      ]
     },
     "execution_count": 10,
     "metadata": {},
     "output_type": "execute_result"
    },
    {
     "name": "stdout",
     "output_type": "stream",
     "text": [
      "pchol_cho_c0\n"
     ]
    },
    {
     "data": {
      "text/plain": [
       "'MNXM791_c0'"
      ]
     },
     "execution_count": 10,
     "metadata": {},
     "output_type": "execute_result"
    },
    {
     "name": "stdout",
     "output_type": "stream",
     "text": [
      "4r5au_c0\n"
     ]
    },
    {
     "data": {
      "text/plain": [
       "'MNXM1313_c0'"
      ]
     },
     "execution_count": 10,
     "metadata": {},
     "output_type": "execute_result"
    },
    {
     "name": "stdout",
     "output_type": "stream",
     "text": [
      "dmlz_c0\n"
     ]
    },
    {
     "data": {
      "text/plain": [
       "'MNXM348_c0'"
      ]
     },
     "execution_count": 10,
     "metadata": {},
     "output_type": "execute_result"
    },
    {
     "name": "stdout",
     "output_type": "stream",
     "text": [
      "xyl__D_c0\n"
     ]
    },
    {
     "data": {
      "text/plain": [
       "'MNXM342_c0'"
      ]
     },
     "execution_count": 10,
     "metadata": {},
     "output_type": "execute_result"
    },
    {
     "name": "stdout",
     "output_type": "stream",
     "text": [
      "occoa_c0\n"
     ]
    },
    {
     "data": {
      "text/plain": [
       "'MNXM784_c0'"
      ]
     },
     "execution_count": 10,
     "metadata": {},
     "output_type": "execute_result"
    },
    {
     "name": "stdout",
     "output_type": "stream",
     "text": [
      "oc2coa_c0\n"
     ]
    },
    {
     "data": {
      "text/plain": [
       "'MNXM63556_c0'"
      ]
     },
     "execution_count": 10,
     "metadata": {},
     "output_type": "execute_result"
    },
    {
     "name": "stdout",
     "output_type": "stream",
     "text": [
      "acgam6p_c0\n"
     ]
    },
    {
     "data": {
      "text/plain": [
       "'MNXM156_c0'"
      ]
     },
     "execution_count": 10,
     "metadata": {},
     "output_type": "execute_result"
    },
    {
     "name": "stdout",
     "output_type": "stream",
     "text": [
      "ala__D_c0\n"
     ]
    },
    {
     "data": {
      "text/plain": [
       "'MNXM159_c0'"
      ]
     },
     "execution_count": 10,
     "metadata": {},
     "output_type": "execute_result"
    },
    {
     "name": "stdout",
     "output_type": "stream",
     "text": [
      "2obut_c0\n"
     ]
    },
    {
     "data": {
      "text/plain": [
       "'MNXM371_c0'"
      ]
     },
     "execution_count": 10,
     "metadata": {},
     "output_type": "execute_result"
    },
    {
     "name": "stdout",
     "output_type": "stream",
     "text": [
      "bzal_c0\n"
     ]
    },
    {
     "data": {
      "text/plain": [
       "'MNXM217_c0'"
      ]
     },
     "execution_count": 10,
     "metadata": {},
     "output_type": "execute_result"
    },
    {
     "name": "stdout",
     "output_type": "stream",
     "text": [
      "bz_c0\n"
     ]
    },
    {
     "data": {
      "text/plain": [
       "'MNXM34811_c0'"
      ]
     },
     "execution_count": 10,
     "metadata": {},
     "output_type": "execute_result"
    },
    {
     "name": "stdout",
     "output_type": "stream",
     "text": [
      "2agpe180_c0\n"
     ]
    },
    {
     "data": {
      "text/plain": [
       "'MNXM121_c0'"
      ]
     },
     "execution_count": 10,
     "metadata": {},
     "output_type": "execute_result"
    },
    {
     "name": "stdout",
     "output_type": "stream",
     "text": [
      "utp_c0\n"
     ]
    },
    {
     "data": {
      "text/plain": [
       "'MNXM1163_c0'"
      ]
     },
     "execution_count": 10,
     "metadata": {},
     "output_type": "execute_result"
    },
    {
     "name": "stdout",
     "output_type": "stream",
     "text": [
      "5cohe_c0\n"
     ]
    },
    {
     "data": {
      "text/plain": [
       "'MNXM288_e0'"
      ]
     },
     "execution_count": 10,
     "metadata": {},
     "output_type": "execute_result"
    },
    {
     "name": "stdout",
     "output_type": "stream",
     "text": [
      "uri_e0\n"
     ]
    },
    {
     "data": {
      "text/plain": [
       "'MNXM108_e0'"
      ]
     },
     "execution_count": 10,
     "metadata": {},
     "output_type": "execute_result"
    },
    {
     "name": "stdout",
     "output_type": "stream",
     "text": [
      "hdca_e0\n"
     ]
    },
    {
     "data": {
      "text/plain": [
       "'MNXM1453_c0'"
      ]
     },
     "execution_count": 10,
     "metadata": {},
     "output_type": "execute_result"
    },
    {
     "name": "stdout",
     "output_type": "stream",
     "text": [
      "glu1sa_c0\n"
     ]
    },
    {
     "data": {
      "text/plain": [
       "'MNXM134_e0'"
      ]
     },
     "execution_count": 10,
     "metadata": {},
     "output_type": "execute_result"
    },
    {
     "name": "stdout",
     "output_type": "stream",
     "text": [
      "his__L_e0\n"
     ]
    },
    {
     "data": {
      "text/plain": [
       "'MNXM1210_c0'"
      ]
     },
     "execution_count": 10,
     "metadata": {},
     "output_type": "execute_result"
    },
    {
     "name": "stdout",
     "output_type": "stream",
     "text": [
      "2hog_c0\n"
     ]
    },
    {
     "data": {
      "text/plain": [
       "'MNXM611_c0'"
      ]
     },
     "execution_count": 10,
     "metadata": {},
     "output_type": "execute_result"
    },
    {
     "name": "stdout",
     "output_type": "stream",
     "text": [
      "3dhsk_c0\n"
     ]
    },
    {
     "data": {
      "text/plain": [
       "'MNXM40494_e0'"
      ]
     },
     "execution_count": 10,
     "metadata": {},
     "output_type": "execute_result"
    },
    {
     "name": "stdout",
     "output_type": "stream",
     "text": [
      "ala_L_asp__L_e0\n"
     ]
    },
    {
     "data": {
      "text/plain": [
       "'MNXM40494_c0'"
      ]
     },
     "execution_count": 10,
     "metadata": {},
     "output_type": "execute_result"
    },
    {
     "name": "stdout",
     "output_type": "stream",
     "text": [
      "ala_L_asp__L_c0\n"
     ]
    },
    {
     "data": {
      "text/plain": [
       "'MNXM309_c0'"
      ]
     },
     "execution_count": 10,
     "metadata": {},
     "output_type": "execute_result"
    },
    {
     "name": "stdout",
     "output_type": "stream",
     "text": [
      "dnad_c0\n"
     ]
    },
    {
     "data": {
      "text/plain": [
       "'MNXM28221_c0'"
      ]
     },
     "execution_count": 10,
     "metadata": {},
     "output_type": "execute_result"
    },
    {
     "name": "stdout",
     "output_type": "stream",
     "text": [
      "tdec2eACP_c0\n"
     ]
    },
    {
     "data": {
      "text/plain": [
       "'MNXM151_c0'"
      ]
     },
     "execution_count": 10,
     "metadata": {},
     "output_type": "execute_result"
    },
    {
     "name": "stdout",
     "output_type": "stream",
     "text": [
      "gthox_c0\n"
     ]
    },
    {
     "data": {
      "text/plain": [
       "'MNXM704_e0'"
      ]
     },
     "execution_count": 10,
     "metadata": {},
     "output_type": "execute_result"
    },
    {
     "name": "stdout",
     "output_type": "stream",
     "text": [
      "dcyt_e0\n"
     ]
    },
    {
     "data": {
      "text/plain": [
       "'MNXM392_c0'"
      ]
     },
     "execution_count": 10,
     "metadata": {},
     "output_type": "execute_result"
    },
    {
     "name": "stdout",
     "output_type": "stream",
     "text": [
      "hpyr_c0\n"
     ]
    },
    {
     "data": {
      "text/plain": [
       "'MNXM162338_c0'"
      ]
     },
     "execution_count": 10,
     "metadata": {},
     "output_type": "execute_result"
    },
    {
     "name": "stdout",
     "output_type": "stream",
     "text": [
      "fumpyr_c0\n"
     ]
    },
    {
     "data": {
      "text/plain": [
       "'MNXM1552_c0'"
      ]
     },
     "execution_count": 10,
     "metadata": {},
     "output_type": "execute_result"
    },
    {
     "name": "stdout",
     "output_type": "stream",
     "text": [
      "arg__D_c0\n"
     ]
    },
    {
     "data": {
      "text/plain": [
       "'MNXM1037_c0'"
      ]
     },
     "execution_count": 10,
     "metadata": {},
     "output_type": "execute_result"
    },
    {
     "name": "stdout",
     "output_type": "stream",
     "text": [
      "5g2oxpt_c0\n"
     ]
    },
    {
     "data": {
      "text/plain": [
       "'MNXM3148_c0'"
      ]
     },
     "execution_count": 10,
     "metadata": {},
     "output_type": "execute_result"
    },
    {
     "name": "stdout",
     "output_type": "stream",
     "text": [
      "23ccmp_c0\n"
     ]
    },
    {
     "data": {
      "text/plain": [
       "'MNXM2182_c0'"
      ]
     },
     "execution_count": 10,
     "metadata": {},
     "output_type": "execute_result"
    },
    {
     "name": "stdout",
     "output_type": "stream",
     "text": [
      "3cmp_c0\n"
     ]
    },
    {
     "data": {
      "text/plain": [
       "'MNXM650_c0'"
      ]
     },
     "execution_count": 10,
     "metadata": {},
     "output_type": "execute_result"
    },
    {
     "name": "stdout",
     "output_type": "stream",
     "text": [
      "prpncoa_c0\n"
     ]
    },
    {
     "data": {
      "text/plain": [
       "'MNXM167_e0'"
      ]
     },
     "execution_count": 10,
     "metadata": {},
     "output_type": "execute_result"
    },
    {
     "name": "stdout",
     "output_type": "stream",
     "text": [
      "sucr_e0\n"
     ]
    },
    {
     "data": {
      "text/plain": [
       "'MNXM1004_c0'"
      ]
     },
     "execution_count": 10,
     "metadata": {},
     "output_type": "execute_result"
    },
    {
     "name": "stdout",
     "output_type": "stream",
     "text": [
      "suc6p_c0\n"
     ]
    },
    {
     "data": {
      "text/plain": [
       "'MNXM795_c0'"
      ]
     },
     "execution_count": 10,
     "metadata": {},
     "output_type": "execute_result"
    },
    {
     "name": "stdout",
     "output_type": "stream",
     "text": [
      "tag6p__D_c0\n"
     ]
    },
    {
     "data": {
      "text/plain": [
       "'MNXM1324_c0'"
      ]
     },
     "execution_count": 10,
     "metadata": {},
     "output_type": "execute_result"
    },
    {
     "name": "stdout",
     "output_type": "stream",
     "text": [
      "tagdp__D_c0\n"
     ]
    },
    {
     "data": {
      "text/plain": [
       "'MNXM1750_c0'"
      ]
     },
     "execution_count": 10,
     "metadata": {},
     "output_type": "execute_result"
    },
    {
     "name": "stdout",
     "output_type": "stream",
     "text": [
      "rml_c0\n"
     ]
    },
    {
     "data": {
      "text/plain": [
       "'MNXM1675_c0'"
      ]
     },
     "execution_count": 10,
     "metadata": {},
     "output_type": "execute_result"
    },
    {
     "name": "stdout",
     "output_type": "stream",
     "text": [
      "rml1p_c0\n"
     ]
    },
    {
     "data": {
      "text/plain": [
       "'MNXM231_e0'"
      ]
     },
     "execution_count": 10,
     "metadata": {},
     "output_type": "execute_result"
    },
    {
     "name": "stdout",
     "output_type": "stream",
     "text": [
      "ile__L_e0\n"
     ]
    },
    {
     "data": {
      "text/plain": [
       "'MNXM90068_c0'"
      ]
     },
     "execution_count": 10,
     "metadata": {},
     "output_type": "execute_result"
    },
    {
     "name": "stdout",
     "output_type": "stream",
     "text": [
      "S2hglut_c0\n"
     ]
    },
    {
     "data": {
      "text/plain": [
       "'MNXM449_c0'"
      ]
     },
     "execution_count": 10,
     "metadata": {},
     "output_type": "execute_result"
    },
    {
     "name": "stdout",
     "output_type": "stream",
     "text": [
      "cdpea_c0\n"
     ]
    },
    {
     "data": {
      "text/plain": [
       "'MNXM665_c0'"
      ]
     },
     "execution_count": 10,
     "metadata": {},
     "output_type": "execute_result"
    },
    {
     "name": "stdout",
     "output_type": "stream",
     "text": [
      "35cgmp_c0\n"
     ]
    },
    {
     "data": {
      "text/plain": [
       "'MNXM90003_c0'"
      ]
     },
     "execution_count": 10,
     "metadata": {},
     "output_type": "execute_result"
    },
    {
     "name": "stdout",
     "output_type": "stream",
     "text": [
      "pram_c0\n"
     ]
    },
    {
     "data": {
      "text/plain": [
       "'MNXM1641_c0'"
      ]
     },
     "execution_count": 10,
     "metadata": {},
     "output_type": "execute_result"
    },
    {
     "name": "stdout",
     "output_type": "stream",
     "text": [
      "2p4c2me_c0\n"
     ]
    },
    {
     "data": {
      "text/plain": [
       "'MNXM90768_c0'"
      ]
     },
     "execution_count": 10,
     "metadata": {},
     "output_type": "execute_result"
    },
    {
     "name": "stdout",
     "output_type": "stream",
     "text": [
      "ak2g_hs_c0\n"
     ]
    },
    {
     "data": {
      "text/plain": [
       "'MNXM45856_c0'"
      ]
     },
     "execution_count": 10,
     "metadata": {},
     "output_type": "execute_result"
    },
    {
     "name": "stdout",
     "output_type": "stream",
     "text": [
      "cdpdodecg_c0\n"
     ]
    },
    {
     "data": {
      "text/plain": [
       "'MNXM1661_c0'"
      ]
     },
     "execution_count": 10,
     "metadata": {},
     "output_type": "execute_result"
    },
    {
     "name": "stdout",
     "output_type": "stream",
     "text": [
      "gmhep1p_c0\n"
     ]
    },
    {
     "data": {
      "text/plain": [
       "'MNXM1408_c0'"
      ]
     },
     "execution_count": 10,
     "metadata": {},
     "output_type": "execute_result"
    },
    {
     "name": "stdout",
     "output_type": "stream",
     "text": [
      "prlp_c0\n"
     ]
    },
    {
     "data": {
      "text/plain": [
       "'MNXM386_c0'"
      ]
     },
     "execution_count": 10,
     "metadata": {},
     "output_type": "execute_result"
    },
    {
     "name": "stdout",
     "output_type": "stream",
     "text": [
      "thym_c0\n"
     ]
    },
    {
     "data": {
      "text/plain": [
       "'MNXM789_c0'"
      ]
     },
     "execution_count": 10,
     "metadata": {},
     "output_type": "execute_result"
    },
    {
     "name": "stdout",
     "output_type": "stream",
     "text": [
      "2dr1p_c0\n"
     ]
    },
    {
     "data": {
      "text/plain": [
       "'MNXM2576_c0'"
      ]
     },
     "execution_count": 10,
     "metadata": {},
     "output_type": "execute_result"
    },
    {
     "name": "stdout",
     "output_type": "stream",
     "text": [
      "3hpalmACP_c0\n"
     ]
    },
    {
     "data": {
      "text/plain": [
       "'MNXM4345_c0'"
      ]
     },
     "execution_count": 10,
     "metadata": {},
     "output_type": "execute_result"
    },
    {
     "name": "stdout",
     "output_type": "stream",
     "text": [
      "3opalmACP_c0\n"
     ]
    },
    {
     "data": {
      "text/plain": [
       "'MNXM2214_c0'"
      ]
     },
     "execution_count": 10,
     "metadata": {},
     "output_type": "execute_result"
    },
    {
     "name": "stdout",
     "output_type": "stream",
     "text": [
      "apoACP_c0\n"
     ]
    },
    {
     "data": {
      "text/plain": [
       "'MNXM1627_c0'"
      ]
     },
     "execution_count": 10,
     "metadata": {},
     "output_type": "execute_result"
    },
    {
     "name": "stdout",
     "output_type": "stream",
     "text": [
      "2dh3dgal_c0\n"
     ]
    },
    {
     "data": {
      "text/plain": [
       "'MNXM1484_c0'"
      ]
     },
     "execution_count": 10,
     "metadata": {},
     "output_type": "execute_result"
    },
    {
     "name": "stdout",
     "output_type": "stream",
     "text": [
      "lipt_c0\n"
     ]
    },
    {
     "data": {
      "text/plain": [
       "'MNXM2392_c0'"
      ]
     },
     "execution_count": 10,
     "metadata": {},
     "output_type": "execute_result"
    },
    {
     "name": "stdout",
     "output_type": "stream",
     "text": [
      "lipoamp_c0\n"
     ]
    },
    {
     "data": {
      "text/plain": [
       "'MNXM254_c0'"
      ]
     },
     "execution_count": 10,
     "metadata": {},
     "output_type": "execute_result"
    },
    {
     "name": "stdout",
     "output_type": "stream",
     "text": [
      "cyan_c0\n"
     ]
    },
    {
     "data": {
      "text/plain": [
       "'MNXM1233_e0'"
      ]
     },
     "execution_count": 10,
     "metadata": {},
     "output_type": "execute_result"
    },
    {
     "name": "stdout",
     "output_type": "stream",
     "text": [
      "galt_e0\n"
     ]
    },
    {
     "data": {
      "text/plain": [
       "'MNXM1667_c0'"
      ]
     },
     "execution_count": 10,
     "metadata": {},
     "output_type": "execute_result"
    },
    {
     "name": "stdout",
     "output_type": "stream",
     "text": [
      "galt1p_c0\n"
     ]
    },
    {
     "data": {
      "text/plain": [
       "'MNXM1263_c0'"
      ]
     },
     "execution_count": 10,
     "metadata": {},
     "output_type": "execute_result"
    },
    {
     "name": "stdout",
     "output_type": "stream",
     "text": [
      "3hpcoa_c0\n"
     ]
    },
    {
     "data": {
      "text/plain": [
       "'MNXM4040_c0'"
      ]
     },
     "execution_count": 10,
     "metadata": {},
     "output_type": "execute_result"
    },
    {
     "name": "stdout",
     "output_type": "stream",
     "text": [
      "3mbzald_c0\n"
     ]
    },
    {
     "data": {
      "text/plain": [
       "'MNXM4661_c0'"
      ]
     },
     "execution_count": 10,
     "metadata": {},
     "output_type": "execute_result"
    },
    {
     "name": "stdout",
     "output_type": "stream",
     "text": [
      "m_tol_c0\n"
     ]
    },
    {
     "data": {
      "text/plain": [
       "'MNXM282_e0'"
      ]
     },
     "execution_count": 10,
     "metadata": {},
     "output_type": "execute_result"
    },
    {
     "name": "stdout",
     "output_type": "stream",
     "text": [
      "taur_e0\n"
     ]
    },
    {
     "data": {
      "text/plain": [
       "'MNXM90394_c0'"
      ]
     },
     "execution_count": 10,
     "metadata": {},
     "output_type": "execute_result"
    },
    {
     "name": "stdout",
     "output_type": "stream",
     "text": [
      "4izp_c0\n"
     ]
    },
    {
     "data": {
      "text/plain": [
       "'MNXM496_c0'"
      ]
     },
     "execution_count": 10,
     "metadata": {},
     "output_type": "execute_result"
    },
    {
     "name": "stdout",
     "output_type": "stream",
     "text": [
      "forglu_c0\n"
     ]
    },
    {
     "data": {
      "text/plain": [
       "'MNXM192_c0'"
      ]
     },
     "execution_count": 10,
     "metadata": {},
     "output_type": "execute_result"
    },
    {
     "name": "stdout",
     "output_type": "stream",
     "text": [
      "4abut_c0\n"
     ]
    },
    {
     "data": {
      "text/plain": [
       "'MNXM172_c0'"
      ]
     },
     "execution_count": 10,
     "metadata": {},
     "output_type": "execute_result"
    },
    {
     "name": "stdout",
     "output_type": "stream",
     "text": [
      "sucsal_c0\n"
     ]
    },
    {
     "data": {
      "text/plain": [
       "'MNXM145761_c0'"
      ]
     },
     "execution_count": 10,
     "metadata": {},
     "output_type": "execute_result"
    },
    {
     "name": "stdout",
     "output_type": "stream",
     "text": [
      "copre8_c0\n"
     ]
    },
    {
     "data": {
      "text/plain": [
       "'MNXM55375_c0'"
      ]
     },
     "execution_count": 10,
     "metadata": {},
     "output_type": "execute_result"
    },
    {
     "name": "stdout",
     "output_type": "stream",
     "text": [
      "glycogen_c0\n"
     ]
    },
    {
     "data": {
      "text/plain": [
       "'MNXM8669_e0'"
      ]
     },
     "execution_count": 10,
     "metadata": {},
     "output_type": "execute_result"
    },
    {
     "name": "stdout",
     "output_type": "stream",
     "text": [
      "glyphe_e0\n"
     ]
    },
    {
     "data": {
      "text/plain": [
       "'MNXM1148_c0'"
      ]
     },
     "execution_count": 10,
     "metadata": {},
     "output_type": "execute_result"
    },
    {
     "name": "stdout",
     "output_type": "stream",
     "text": [
      "orn__D_c0\n"
     ]
    },
    {
     "data": {
      "text/plain": [
       "'MNXM8666_c0'"
      ]
     },
     "execution_count": 10,
     "metadata": {},
     "output_type": "execute_result"
    },
    {
     "name": "stdout",
     "output_type": "stream",
     "text": [
      "gly_cys__L_c0\n"
     ]
    },
    {
     "data": {
      "text/plain": [
       "'MNXM2846_c0'"
      ]
     },
     "execution_count": 10,
     "metadata": {},
     "output_type": "execute_result"
    },
    {
     "name": "stdout",
     "output_type": "stream",
     "text": [
      "nebari_c0\n"
     ]
    },
    {
     "data": {
      "text/plain": [
       "'MNXM2342_c0'"
      ]
     },
     "execution_count": 10,
     "metadata": {},
     "output_type": "execute_result"
    },
    {
     "name": "stdout",
     "output_type": "stream",
     "text": [
      "purine_c0\n"
     ]
    },
    {
     "data": {
      "text/plain": [
       "'MNXM91053_c0'"
      ]
     },
     "execution_count": 10,
     "metadata": {},
     "output_type": "execute_result"
    },
    {
     "name": "stdout",
     "output_type": "stream",
     "text": [
      "1tdec7eg3p_c0\n"
     ]
    },
    {
     "data": {
      "text/plain": [
       "'MNXM514_c0'"
      ]
     },
     "execution_count": 10,
     "metadata": {},
     "output_type": "execute_result"
    },
    {
     "name": "stdout",
     "output_type": "stream",
     "text": [
      "ghb_c0\n"
     ]
    },
    {
     "data": {
      "text/plain": [
       "'MNXM124_e0'"
      ]
     },
     "execution_count": 10,
     "metadata": {},
     "output_type": "execute_result"
    },
    {
     "name": "stdout",
     "output_type": "stream",
     "text": [
      "spmd_e0\n"
     ]
    },
    {
     "data": {
      "text/plain": [
       "'MNXM491_c0'"
      ]
     },
     "execution_count": 10,
     "metadata": {},
     "output_type": "execute_result"
    },
    {
     "name": "stdout",
     "output_type": "stream",
     "text": [
      "ppmi1346p_c0\n"
     ]
    },
    {
     "data": {
      "text/plain": [
       "'MNXM1715_c0'"
      ]
     },
     "execution_count": 10,
     "metadata": {},
     "output_type": "execute_result"
    },
    {
     "name": "stdout",
     "output_type": "stream",
     "text": [
      "ppmi12346p_c0\n"
     ]
    },
    {
     "data": {
      "text/plain": [
       "'MNXM4507_c0'"
      ]
     },
     "execution_count": 10,
     "metadata": {},
     "output_type": "execute_result"
    },
    {
     "name": "stdout",
     "output_type": "stream",
     "text": [
      "cdpdddecg_c0\n"
     ]
    },
    {
     "data": {
      "text/plain": [
       "'MNXM5464_c0'"
      ]
     },
     "execution_count": 10,
     "metadata": {},
     "output_type": "execute_result"
    },
    {
     "name": "stdout",
     "output_type": "stream",
     "text": [
      "2hdec9eg3p_c0\n"
     ]
    },
    {
     "data": {
      "text/plain": [
       "'MNXM6119_c0'"
      ]
     },
     "execution_count": 10,
     "metadata": {},
     "output_type": "execute_result"
    },
    {
     "name": "stdout",
     "output_type": "stream",
     "text": [
      "56dh5flura_c0\n"
     ]
    },
    {
     "data": {
      "text/plain": [
       "'MNXM7058_c0'"
      ]
     },
     "execution_count": 10,
     "metadata": {},
     "output_type": "execute_result"
    },
    {
     "name": "stdout",
     "output_type": "stream",
     "text": [
      "aflburppa_c0\n"
     ]
    },
    {
     "data": {
      "text/plain": [
       "'MNXM27066_c0'"
      ]
     },
     "execution_count": 10,
     "metadata": {},
     "output_type": "execute_result"
    },
    {
     "name": "stdout",
     "output_type": "stream",
     "text": [
      "3hddecACP_c0\n"
     ]
    },
    {
     "data": {
      "text/plain": [
       "'MNXM94_c0'"
      ]
     },
     "execution_count": 10,
     "metadata": {},
     "output_type": "execute_result"
    },
    {
     "name": "stdout",
     "output_type": "stream",
     "text": [
      "trp__L_c0\n"
     ]
    },
    {
     "data": {
      "text/plain": [
       "'MNXM806_c0'"
      ]
     },
     "execution_count": 10,
     "metadata": {},
     "output_type": "execute_result"
    },
    {
     "name": "stdout",
     "output_type": "stream",
     "text": [
      "trypta_c0\n"
     ]
    },
    {
     "data": {
      "text/plain": [
       "'MNXM328_c0'"
      ]
     },
     "execution_count": 10,
     "metadata": {},
     "output_type": "execute_result"
    },
    {
     "name": "stdout",
     "output_type": "stream",
     "text": [
      "agm_c0\n"
     ]
    },
    {
     "data": {
      "text/plain": [
       "'MNXM410_c0'"
      ]
     },
     "execution_count": 10,
     "metadata": {},
     "output_type": "execute_result"
    },
    {
     "name": "stdout",
     "output_type": "stream",
     "text": [
      "cpppg3_c0\n"
     ]
    },
    {
     "data": {
      "text/plain": [
       "'MNXM53_e0'"
      ]
     },
     "execution_count": 10,
     "metadata": {},
     "output_type": "execute_result"
    },
    {
     "name": "stdout",
     "output_type": "stream",
     "text": [
      "ser__L_e0\n"
     ]
    },
    {
     "data": {
      "text/plain": [
       "'MNXM1547_c0'"
      ]
     },
     "execution_count": 10,
     "metadata": {},
     "output_type": "execute_result"
    },
    {
     "name": "stdout",
     "output_type": "stream",
     "text": [
      "chols_c0\n"
     ]
    },
    {
     "data": {
      "text/plain": [
       "'MNXM209_c0'"
      ]
     },
     "execution_count": 10,
     "metadata": {},
     "output_type": "execute_result"
    },
    {
     "name": "stdout",
     "output_type": "stream",
     "text": [
      "pail34p_cho_c0\n"
     ]
    },
    {
     "data": {
      "text/plain": [
       "'MNXM102_c0'"
      ]
     },
     "execution_count": 10,
     "metadata": {},
     "output_type": "execute_result"
    },
    {
     "name": "stdout",
     "output_type": "stream",
     "text": [
      "pail3p_cho_c0\n"
     ]
    },
    {
     "data": {
      "text/plain": [
       "'MNXM364_e0'"
      ]
     },
     "execution_count": 10,
     "metadata": {},
     "output_type": "execute_result"
    },
    {
     "name": "stdout",
     "output_type": "stream",
     "text": [
      "pnto__R_e0\n"
     ]
    },
    {
     "data": {
      "text/plain": [
       "'MNXM364_c0'"
      ]
     },
     "execution_count": 10,
     "metadata": {},
     "output_type": "execute_result"
    },
    {
     "name": "stdout",
     "output_type": "stream",
     "text": [
      "pnto__R_c0\n"
     ]
    },
    {
     "data": {
      "text/plain": [
       "'MNXM2212_c0'"
      ]
     },
     "execution_count": 10,
     "metadata": {},
     "output_type": "execute_result"
    },
    {
     "name": "stdout",
     "output_type": "stream",
     "text": [
      "amacald_c0\n"
     ]
    },
    {
     "data": {
      "text/plain": [
       "'MNXM445_c0'"
      ]
     },
     "execution_count": 10,
     "metadata": {},
     "output_type": "execute_result"
    },
    {
     "name": "stdout",
     "output_type": "stream",
     "text": [
      "lycop_c0\n"
     ]
    },
    {
     "data": {
      "text/plain": [
       "'MNXM199_c0'"
      ]
     },
     "execution_count": 10,
     "metadata": {},
     "output_type": "execute_result"
    },
    {
     "name": "stdout",
     "output_type": "stream",
     "text": [
      "val__L_c0\n"
     ]
    },
    {
     "data": {
      "text/plain": [
       "'MNXM790_c0'"
      ]
     },
     "execution_count": 10,
     "metadata": {},
     "output_type": "execute_result"
    },
    {
     "name": "stdout",
     "output_type": "stream",
     "text": [
      "4ampm_c0\n"
     ]
    },
    {
     "data": {
      "text/plain": [
       "'MNXM916_c0'"
      ]
     },
     "execution_count": 10,
     "metadata": {},
     "output_type": "execute_result"
    },
    {
     "name": "stdout",
     "output_type": "stream",
     "text": [
      "6a2ohxnt_c0\n"
     ]
    },
    {
     "data": {
      "text/plain": [
       "'MNXM911_c0'"
      ]
     },
     "execution_count": 10,
     "metadata": {},
     "output_type": "execute_result"
    },
    {
     "name": "stdout",
     "output_type": "stream",
     "text": [
      "1pipdn2c_c0\n"
     ]
    },
    {
     "data": {
      "text/plain": [
       "'MNXM1403_c0'"
      ]
     },
     "execution_count": 10,
     "metadata": {},
     "output_type": "execute_result"
    },
    {
     "name": "stdout",
     "output_type": "stream",
     "text": [
      "pppn_c0\n"
     ]
    },
    {
     "data": {
      "text/plain": [
       "'MNXM3135_c0'"
      ]
     },
     "execution_count": 10,
     "metadata": {},
     "output_type": "execute_result"
    },
    {
     "name": "stdout",
     "output_type": "stream",
     "text": [
      "acmalt_c0\n"
     ]
    },
    {
     "data": {
      "text/plain": [
       "'MNXM40495_c0'"
      ]
     },
     "execution_count": 10,
     "metadata": {},
     "output_type": "execute_result"
    },
    {
     "name": "stdout",
     "output_type": "stream",
     "text": [
      "ala_L_gln__L_c0\n"
     ]
    },
    {
     "data": {
      "text/plain": [
       "'MNXM1199_c0'"
      ]
     },
     "execution_count": 10,
     "metadata": {},
     "output_type": "execute_result"
    },
    {
     "name": "stdout",
     "output_type": "stream",
     "text": [
      "u23ga_c0\n"
     ]
    },
    {
     "data": {
      "text/plain": [
       "'MNXM1839_c0'"
      ]
     },
     "execution_count": 10,
     "metadata": {},
     "output_type": "execute_result"
    },
    {
     "name": "stdout",
     "output_type": "stream",
     "text": [
      "lipidX_c0\n"
     ]
    },
    {
     "data": {
      "text/plain": [
       "'MNXM233_c0'"
      ]
     },
     "execution_count": 10,
     "metadata": {},
     "output_type": "execute_result"
    },
    {
     "name": "stdout",
     "output_type": "stream",
     "text": [
      "btcoa_c0\n"
     ]
    },
    {
     "data": {
      "text/plain": [
       "'MNXM1903_c0'"
      ]
     },
     "execution_count": 10,
     "metadata": {},
     "output_type": "execute_result"
    },
    {
     "name": "stdout",
     "output_type": "stream",
     "text": [
      "2ombz_c0\n"
     ]
    },
    {
     "data": {
      "text/plain": [
       "'MNXM90440_c0'"
      ]
     },
     "execution_count": 10,
     "metadata": {},
     "output_type": "execute_result"
    },
    {
     "name": "stdout",
     "output_type": "stream",
     "text": [
      "2ommb_c0\n"
     ]
    },
    {
     "data": {
      "text/plain": [
       "'MNXM1312_c0'"
      ]
     },
     "execution_count": 10,
     "metadata": {},
     "output_type": "execute_result"
    },
    {
     "name": "stdout",
     "output_type": "stream",
     "text": [
      "4gudbutn_c0\n"
     ]
    },
    {
     "data": {
      "text/plain": [
       "'MNXM1317_c0'"
      ]
     },
     "execution_count": 10,
     "metadata": {},
     "output_type": "execute_result"
    },
    {
     "name": "stdout",
     "output_type": "stream",
     "text": [
      "malthx_c0\n"
     ]
    },
    {
     "data": {
      "text/plain": [
       "'MNXM355_c0'"
      ]
     },
     "execution_count": 10,
     "metadata": {},
     "output_type": "execute_result"
    },
    {
     "name": "stdout",
     "output_type": "stream",
     "text": [
      "nmn_c0\n"
     ]
    },
    {
     "data": {
      "text/plain": [
       "'MNXM1115_c0'"
      ]
     },
     "execution_count": 10,
     "metadata": {},
     "output_type": "execute_result"
    },
    {
     "name": "stdout",
     "output_type": "stream",
     "text": [
      "rnam_c0\n"
     ]
    },
    {
     "data": {
      "text/plain": [
       "'MNXM15786_c0'"
      ]
     },
     "execution_count": 10,
     "metadata": {},
     "output_type": "execute_result"
    },
    {
     "name": "stdout",
     "output_type": "stream",
     "text": [
      "ala_L_leu__L_c0\n"
     ]
    },
    {
     "data": {
      "text/plain": [
       "'MNXM3150_c0'"
      ]
     },
     "execution_count": 10,
     "metadata": {},
     "output_type": "execute_result"
    },
    {
     "name": "stdout",
     "output_type": "stream",
     "text": [
      "23cump_c0\n"
     ]
    },
    {
     "data": {
      "text/plain": [
       "'MNXM2184_c0'"
      ]
     },
     "execution_count": 10,
     "metadata": {},
     "output_type": "execute_result"
    },
    {
     "name": "stdout",
     "output_type": "stream",
     "text": [
      "3ump_c0\n"
     ]
    },
    {
     "data": {
      "text/plain": [
       "'MNXM1275_e0'"
      ]
     },
     "execution_count": 10,
     "metadata": {},
     "output_type": "execute_result"
    },
    {
     "name": "stdout",
     "output_type": "stream",
     "text": [
      "met__D_e0\n"
     ]
    },
    {
     "data": {
      "text/plain": [
       "'MNXM1275_c0'"
      ]
     },
     "execution_count": 10,
     "metadata": {},
     "output_type": "execute_result"
    },
    {
     "name": "stdout",
     "output_type": "stream",
     "text": [
      "met__D_c0\n"
     ]
    },
    {
     "data": {
      "text/plain": [
       "'MNXM452_c0'"
      ]
     },
     "execution_count": 10,
     "metadata": {},
     "output_type": "execute_result"
    },
    {
     "name": "stdout",
     "output_type": "stream",
     "text": [
      "dutp_c0\n"
     ]
    },
    {
     "data": {
      "text/plain": [
       "'MNXM572_c0'"
      ]
     },
     "execution_count": 10,
     "metadata": {},
     "output_type": "execute_result"
    },
    {
     "name": "stdout",
     "output_type": "stream",
     "text": [
      "dudp_c0\n"
     ]
    },
    {
     "data": {
      "text/plain": [
       "'MNXM1861_c0'"
      ]
     },
     "execution_count": 10,
     "metadata": {},
     "output_type": "execute_result"
    },
    {
     "name": "stdout",
     "output_type": "stream",
     "text": [
      "2sephchc_c0\n"
     ]
    },
    {
     "data": {
      "text/plain": [
       "'MNXM1334_c0'"
      ]
     },
     "execution_count": 10,
     "metadata": {},
     "output_type": "execute_result"
    },
    {
     "name": "stdout",
     "output_type": "stream",
     "text": [
      "phom_c0\n"
     ]
    },
    {
     "data": {
      "text/plain": [
       "'MNXM1756_c0'"
      ]
     },
     "execution_count": 10,
     "metadata": {},
     "output_type": "execute_result"
    },
    {
     "name": "stdout",
     "output_type": "stream",
     "text": [
      "sucarg_c0\n"
     ]
    },
    {
     "data": {
      "text/plain": [
       "'MNXM1865_c0'"
      ]
     },
     "execution_count": 10,
     "metadata": {},
     "output_type": "execute_result"
    },
    {
     "name": "stdout",
     "output_type": "stream",
     "text": [
      "36dahx_c0\n"
     ]
    },
    {
     "data": {
      "text/plain": [
       "'MNXM480_c0'"
      ]
     },
     "execution_count": 10,
     "metadata": {},
     "output_type": "execute_result"
    },
    {
     "name": "stdout",
     "output_type": "stream",
     "text": [
      "thdp_c0\n"
     ]
    },
    {
     "data": {
      "text/plain": [
       "'MNXM1642_c0'"
      ]
     },
     "execution_count": 10,
     "metadata": {},
     "output_type": "execute_result"
    },
    {
     "name": "stdout",
     "output_type": "stream",
     "text": [
      "4c2me_c0\n"
     ]
    },
    {
     "data": {
      "text/plain": [
       "'MNXM1278_c0'"
      ]
     },
     "execution_count": 10,
     "metadata": {},
     "output_type": "execute_result"
    },
    {
     "name": "stdout",
     "output_type": "stream",
     "text": [
      "hemeO_c0\n"
     ]
    },
    {
     "data": {
      "text/plain": [
       "'MNXM1392_c0'"
      ]
     },
     "execution_count": 10,
     "metadata": {},
     "output_type": "execute_result"
    },
    {
     "name": "stdout",
     "output_type": "stream",
     "text": [
      "5fthf_c0\n"
     ]
    },
    {
     "data": {
      "text/plain": [
       "'MNXM310_c0'"
      ]
     },
     "execution_count": 10,
     "metadata": {},
     "output_type": "execute_result"
    },
    {
     "name": "stdout",
     "output_type": "stream",
     "text": [
      "mthgxl_c0\n"
     ]
    },
    {
     "data": {
      "text/plain": [
       "'MNXM8667_c0'"
      ]
     },
     "execution_count": 10,
     "metadata": {},
     "output_type": "execute_result"
    },
    {
     "name": "stdout",
     "output_type": "stream",
     "text": [
      "gly_glu__L_c0\n"
     ]
    },
    {
     "data": {
      "text/plain": [
       "'MNXM540_c0'"
      ]
     },
     "execution_count": 10,
     "metadata": {},
     "output_type": "execute_result"
    },
    {
     "name": "stdout",
     "output_type": "stream",
     "text": [
      "mi3p__D_c0\n"
     ]
    },
    {
     "data": {
      "text/plain": [
       "'MNXM48464_c0'"
      ]
     },
     "execution_count": 10,
     "metadata": {},
     "output_type": "execute_result"
    },
    {
     "name": "stdout",
     "output_type": "stream",
     "text": [
      "galur_c0\n"
     ]
    },
    {
     "data": {
      "text/plain": [
       "'MNXM1423_c0'"
      ]
     },
     "execution_count": 10,
     "metadata": {},
     "output_type": "execute_result"
    },
    {
     "name": "stdout",
     "output_type": "stream",
     "text": [
      "tagur_c0\n"
     ]
    },
    {
     "data": {
      "text/plain": [
       "'MNXM1365_c0'"
      ]
     },
     "execution_count": 10,
     "metadata": {},
     "output_type": "execute_result"
    },
    {
     "name": "stdout",
     "output_type": "stream",
     "text": [
      "3psme_c0\n"
     ]
    },
    {
     "data": {
      "text/plain": [
       "'MNXM654_c0'"
      ]
     },
     "execution_count": 10,
     "metadata": {},
     "output_type": "execute_result"
    },
    {
     "name": "stdout",
     "output_type": "stream",
     "text": [
      "td2coa_c0\n"
     ]
    },
    {
     "data": {
      "text/plain": [
       "'MNXM42_e0'"
      ]
     },
     "execution_count": 10,
     "metadata": {},
     "output_type": "execute_result"
    },
    {
     "name": "stdout",
     "output_type": "stream",
     "text": [
      "asp__L_e0\n"
     ]
    },
    {
     "data": {
      "text/plain": [
       "'MNXM143_e0'"
      ]
     },
     "execution_count": 10,
     "metadata": {},
     "output_type": "execute_result"
    },
    {
     "name": "stdout",
     "output_type": "stream",
     "text": [
      "acgam_e0\n"
     ]
    },
    {
     "data": {
      "text/plain": [
       "'MNXM89795_c0'"
      ]
     },
     "execution_count": 10,
     "metadata": {},
     "output_type": "execute_result"
    },
    {
     "name": "stdout",
     "output_type": "stream",
     "text": [
      "udpgal_c0\n"
     ]
    },
    {
     "data": {
      "text/plain": [
       "'MNXM9829_c0'"
      ]
     },
     "execution_count": 10,
     "metadata": {},
     "output_type": "execute_result"
    },
    {
     "name": "stdout",
     "output_type": "stream",
     "text": [
      "op4en_c0\n"
     ]
    },
    {
     "data": {
      "text/plain": [
       "'MNXM32_e0'"
      ]
     },
     "execution_count": 10,
     "metadata": {},
     "output_type": "execute_result"
    },
    {
     "name": "stdout",
     "output_type": "stream",
     "text": [
      "ala__L_e0\n"
     ]
    },
    {
     "data": {
      "text/plain": [
       "'MNXM433_c0'"
      ]
     },
     "execution_count": 10,
     "metadata": {},
     "output_type": "execute_result"
    },
    {
     "name": "stdout",
     "output_type": "stream",
     "text": [
      "ham_c0\n"
     ]
    },
    {
     "data": {
      "text/plain": [
       "'MNXM1089_c0'"
      ]
     },
     "execution_count": 10,
     "metadata": {},
     "output_type": "execute_result"
    },
    {
     "name": "stdout",
     "output_type": "stream",
     "text": [
      "ap4a_c0\n"
     ]
    },
    {
     "data": {
      "text/plain": [
       "'MNXM1707_c0'"
      ]
     },
     "execution_count": 10,
     "metadata": {},
     "output_type": "execute_result"
    },
    {
     "name": "stdout",
     "output_type": "stream",
     "text": [
      "2omph_c0\n"
     ]
    },
    {
     "data": {
      "text/plain": [
       "'MNXM3229_c0'"
      ]
     },
     "execution_count": 10,
     "metadata": {},
     "output_type": "execute_result"
    },
    {
     "name": "stdout",
     "output_type": "stream",
     "text": [
      "but2eACP_c0\n"
     ]
    },
    {
     "data": {
      "text/plain": [
       "'MNXM8666_e0'"
      ]
     },
     "execution_count": 10,
     "metadata": {},
     "output_type": "execute_result"
    },
    {
     "name": "stdout",
     "output_type": "stream",
     "text": [
      "gly_cys__L_e0\n"
     ]
    },
    {
     "data": {
      "text/plain": [
       "'MNXM1372_c0'"
      ]
     },
     "execution_count": 10,
     "metadata": {},
     "output_type": "execute_result"
    },
    {
     "name": "stdout",
     "output_type": "stream",
     "text": [
      "cmusa_c0\n"
     ]
    },
    {
     "data": {
      "text/plain": [
       "'MNXM788_c0'"
      ]
     },
     "execution_count": 10,
     "metadata": {},
     "output_type": "execute_result"
    },
    {
     "name": "stdout",
     "output_type": "stream",
     "text": [
      "am6sa_c0\n"
     ]
    },
    {
     "data": {
      "text/plain": [
       "'MNXM78_e0'"
      ]
     },
     "execution_count": 10,
     "metadata": {},
     "output_type": "execute_result"
    },
    {
     "name": "stdout",
     "output_type": "stream",
     "text": [
      "lys__L_e0\n"
     ]
    },
    {
     "data": {
      "text/plain": [
       "'MNXM1105_c0'"
      ]
     },
     "execution_count": 10,
     "metadata": {},
     "output_type": "execute_result"
    },
    {
     "name": "stdout",
     "output_type": "stream",
     "text": [
      "agdpcbi_c0\n"
     ]
    },
    {
     "data": {
      "text/plain": [
       "'MNXM2403_c0'"
      ]
     },
     "execution_count": 10,
     "metadata": {},
     "output_type": "execute_result"
    },
    {
     "name": "stdout",
     "output_type": "stream",
     "text": [
      "acmana_c0\n"
     ]
    },
    {
     "data": {
      "text/plain": [
       "'MNXM1384_c0'"
      ]
     },
     "execution_count": 10,
     "metadata": {},
     "output_type": "execute_result"
    },
    {
     "name": "stdout",
     "output_type": "stream",
     "text": [
      "acg5p_c0\n"
     ]
    },
    {
     "data": {
      "text/plain": [
       "'MNXM2683_e0'"
      ]
     },
     "execution_count": 10,
     "metadata": {},
     "output_type": "execute_result"
    },
    {
     "name": "stdout",
     "output_type": "stream",
     "text": [
      "arbt_e0\n"
     ]
    },
    {
     "data": {
      "text/plain": [
       "'MNXM2806_c0'"
      ]
     },
     "execution_count": 10,
     "metadata": {},
     "output_type": "execute_result"
    },
    {
     "name": "stdout",
     "output_type": "stream",
     "text": [
      "arbt6p_c0\n"
     ]
    },
    {
     "data": {
      "text/plain": [
       "'MNXM436_c0'"
      ]
     },
     "execution_count": 10,
     "metadata": {},
     "output_type": "execute_result"
    },
    {
     "name": "stdout",
     "output_type": "stream",
     "text": [
      "dgdp_c0\n"
     ]
    },
    {
     "data": {
      "text/plain": [
       "'MNXM259_c0'"
      ]
     },
     "execution_count": 10,
     "metadata": {},
     "output_type": "execute_result"
    },
    {
     "name": "stdout",
     "output_type": "stream",
     "text": [
      "gua_c0\n"
     ]
    },
    {
     "data": {
      "text/plain": [
       "'MNXM257_c0'"
      ]
     },
     "execution_count": 10,
     "metadata": {},
     "output_type": "execute_result"
    },
    {
     "name": "stdout",
     "output_type": "stream",
     "text": [
      "dtmp_c0\n"
     ]
    },
    {
     "data": {
      "text/plain": [
       "'MNXM647_e0'"
      ]
     },
     "execution_count": 10,
     "metadata": {},
     "output_type": "execute_result"
    },
    {
     "name": "stdout",
     "output_type": "stream",
     "text": [
      "dgsn_e0\n"
     ]
    },
    {
     "data": {
      "text/plain": [
       "'MNXM118_e0'"
      ]
     },
     "execution_count": 10,
     "metadata": {},
     "output_type": "execute_result"
    },
    {
     "name": "stdout",
     "output_type": "stream",
     "text": [
      "ptrc_e0\n"
     ]
    },
    {
     "data": {
      "text/plain": [
       "'MNXM562_c0'"
      ]
     },
     "execution_count": 10,
     "metadata": {},
     "output_type": "execute_result"
    },
    {
     "name": "stdout",
     "output_type": "stream",
     "text": [
      "bzalc_c0\n"
     ]
    },
    {
     "data": {
      "text/plain": [
       "'MNXM974_c0'"
      ]
     },
     "execution_count": 10,
     "metadata": {},
     "output_type": "execute_result"
    },
    {
     "name": "stdout",
     "output_type": "stream",
     "text": [
      "asp__D_c0\n"
     ]
    },
    {
     "data": {
      "text/plain": [
       "'MNXM894_c0'"
      ]
     },
     "execution_count": 10,
     "metadata": {},
     "output_type": "execute_result"
    },
    {
     "name": "stdout",
     "output_type": "stream",
     "text": [
      "4h2oglt_c0\n"
     ]
    },
    {
     "data": {
      "text/plain": [
       "'MNXM2489_c0'"
      ]
     },
     "execution_count": 10,
     "metadata": {},
     "output_type": "execute_result"
    },
    {
     "name": "stdout",
     "output_type": "stream",
     "text": [
      "4hglu_c0\n"
     ]
    },
    {
     "data": {
      "text/plain": [
       "'MNXM471_c0'"
      ]
     },
     "execution_count": 10,
     "metadata": {},
     "output_type": "execute_result"
    },
    {
     "name": "stdout",
     "output_type": "stream",
     "text": [
      "ivcoa_c0\n"
     ]
    },
    {
     "data": {
      "text/plain": [
       "'MNXM174_e0'"
      ]
     },
     "execution_count": 10,
     "metadata": {},
     "output_type": "execute_result"
    },
    {
     "name": "stdout",
     "output_type": "stream",
     "text": [
      "xan_e0\n"
     ]
    },
    {
     "data": {
      "text/plain": [
       "'MNXM55276_e0'"
      ]
     },
     "execution_count": 10,
     "metadata": {},
     "output_type": "execute_result"
    },
    {
     "name": "stdout",
     "output_type": "stream",
     "text": [
      "gly_gln__L_e0\n"
     ]
    },
    {
     "data": {
      "text/plain": [
       "'MNXM11852_c0'"
      ]
     },
     "execution_count": 10,
     "metadata": {},
     "output_type": "execute_result"
    },
    {
     "name": "stdout",
     "output_type": "stream",
     "text": [
      "CE5151_c0\n"
     ]
    },
    {
     "data": {
      "text/plain": [
       "'MNXM75104_c0'"
      ]
     },
     "execution_count": 10,
     "metadata": {},
     "output_type": "execute_result"
    },
    {
     "name": "stdout",
     "output_type": "stream",
     "text": [
      "pgp180_c0\n"
     ]
    },
    {
     "data": {
      "text/plain": [
       "'MNXM291_c0'"
      ]
     },
     "execution_count": 10,
     "metadata": {},
     "output_type": "execute_result"
    },
    {
     "name": "stdout",
     "output_type": "stream",
     "text": [
      "oxa_c0\n"
     ]
    },
    {
     "data": {
      "text/plain": [
       "'MNXM1214_c0'"
      ]
     },
     "execution_count": 10,
     "metadata": {},
     "output_type": "execute_result"
    },
    {
     "name": "stdout",
     "output_type": "stream",
     "text": [
      "mercppyr_c0\n"
     ]
    },
    {
     "data": {
      "text/plain": [
       "'MNXM612_e0'"
      ]
     },
     "execution_count": 10,
     "metadata": {},
     "output_type": "execute_result"
    },
    {
     "name": "stdout",
     "output_type": "stream",
     "text": [
      "alltn_e0\n"
     ]
    },
    {
     "data": {
      "text/plain": [
       "'MNXM7127_c0'"
      ]
     },
     "execution_count": 10,
     "metadata": {},
     "output_type": "execute_result"
    },
    {
     "name": "stdout",
     "output_type": "stream",
     "text": [
      "3hdecACP_c0\n"
     ]
    },
    {
     "data": {
      "text/plain": [
       "'MNXM26616_c0'"
      ]
     },
     "execution_count": 10,
     "metadata": {},
     "output_type": "execute_result"
    },
    {
     "name": "stdout",
     "output_type": "stream",
     "text": [
      "3odecACP_c0\n"
     ]
    },
    {
     "data": {
      "text/plain": [
       "'MNXM1727_c0'"
      ]
     },
     "execution_count": 10,
     "metadata": {},
     "output_type": "execute_result"
    },
    {
     "name": "stdout",
     "output_type": "stream",
     "text": [
      "fuc1p__L_c0\n"
     ]
    },
    {
     "data": {
      "text/plain": [
       "'MNXM175_c0'"
      ]
     },
     "execution_count": 10,
     "metadata": {},
     "output_type": "execute_result"
    },
    {
     "name": "stdout",
     "output_type": "stream",
     "text": [
      "fru_c0\n"
     ]
    },
    {
     "data": {
      "text/plain": [
       "'MNXM1422_c0'"
      ]
     },
     "execution_count": 10,
     "metadata": {},
     "output_type": "execute_result"
    },
    {
     "name": "stdout",
     "output_type": "stream",
     "text": [
      "eig3p_c0\n"
     ]
    },
    {
     "data": {
      "text/plain": [
       "'MNXM365_c0'"
      ]
     },
     "execution_count": 10,
     "metadata": {},
     "output_type": "execute_result"
    },
    {
     "name": "stdout",
     "output_type": "stream",
     "text": [
      "aicar_c0\n"
     ]
    },
    {
     "data": {
      "text/plain": [
       "'MNXM1897_c0'"
      ]
     },
     "execution_count": 10,
     "metadata": {},
     "output_type": "execute_result"
    },
    {
     "name": "stdout",
     "output_type": "stream",
     "text": [
      "d5kg_c0\n"
     ]
    },
    {
     "data": {
      "text/plain": [
       "'MNXM271_c0'"
      ]
     },
     "execution_count": 10,
     "metadata": {},
     "output_type": "execute_result"
    },
    {
     "name": "stdout",
     "output_type": "stream",
     "text": [
      "s7p_c0\n"
     ]
    },
    {
     "data": {
      "text/plain": [
       "'MNXM90510_c0'"
      ]
     },
     "execution_count": 10,
     "metadata": {},
     "output_type": "execute_result"
    },
    {
     "name": "stdout",
     "output_type": "stream",
     "text": [
      "pa161_c0\n"
     ]
    },
    {
     "data": {
      "text/plain": [
       "'MNXM1745_c0'"
      ]
     },
     "execution_count": 10,
     "metadata": {},
     "output_type": "execute_result"
    },
    {
     "name": "stdout",
     "output_type": "stream",
     "text": [
      "imzacd_c0\n"
     ]
    },
    {
     "data": {
      "text/plain": [
       "'MNXM1330_c0'"
      ]
     },
     "execution_count": 10,
     "metadata": {},
     "output_type": "execute_result"
    },
    {
     "name": "stdout",
     "output_type": "stream",
     "text": [
      "imzac_c0\n"
     ]
    },
    {
     "data": {
      "text/plain": [
       "'MNXM63441_c0'"
      ]
     },
     "execution_count": 10,
     "metadata": {},
     "output_type": "execute_result"
    },
    {
     "name": "stdout",
     "output_type": "stream",
     "text": [
      "ga2_cho_c0\n"
     ]
    },
    {
     "data": {
      "text/plain": [
       "'MNXM25370_c0'"
      ]
     },
     "execution_count": 10,
     "metadata": {},
     "output_type": "execute_result"
    },
    {
     "name": "stdout",
     "output_type": "stream",
     "text": [
      "3hhexACP_c0\n"
     ]
    },
    {
     "data": {
      "text/plain": [
       "'MNXM1403_e0'"
      ]
     },
     "execution_count": 10,
     "metadata": {},
     "output_type": "execute_result"
    },
    {
     "name": "stdout",
     "output_type": "stream",
     "text": [
      "pppn_e0\n"
     ]
    },
    {
     "data": {
      "text/plain": [
       "'MNXM618_c0'"
      ]
     },
     "execution_count": 10,
     "metadata": {},
     "output_type": "execute_result"
    },
    {
     "name": "stdout",
     "output_type": "stream",
     "text": [
      "oxalcoa_c0\n"
     ]
    },
    {
     "data": {
      "text/plain": [
       "'MNXM325_c0'"
      ]
     },
     "execution_count": 10,
     "metadata": {},
     "output_type": "execute_result"
    },
    {
     "name": "stdout",
     "output_type": "stream",
     "text": [
      "6pgc_c0\n"
     ]
    },
    {
     "data": {
      "text/plain": [
       "'MNXM32478_c0'"
      ]
     },
     "execution_count": 10,
     "metadata": {},
     "output_type": "execute_result"
    },
    {
     "name": "stdout",
     "output_type": "stream",
     "text": [
      "25aics_c0\n"
     ]
    },
    {
     "data": {
      "text/plain": [
       "'MNXM497_c0'"
      ]
     },
     "execution_count": 10,
     "metadata": {},
     "output_type": "execute_result"
    },
    {
     "name": "stdout",
     "output_type": "stream",
     "text": [
      "pac_c0\n"
     ]
    },
    {
     "data": {
      "text/plain": [
       "'MNXM502_c0'"
      ]
     },
     "execution_count": 10,
     "metadata": {},
     "output_type": "execute_result"
    },
    {
     "name": "stdout",
     "output_type": "stream",
     "text": [
      "phaccoa_c0\n"
     ]
    },
    {
     "data": {
      "text/plain": [
       "'MNXM935_e0'"
      ]
     },
     "execution_count": 10,
     "metadata": {},
     "output_type": "execute_result"
    },
    {
     "name": "stdout",
     "output_type": "stream",
     "text": [
      "din_e0\n"
     ]
    },
    {
     "data": {
      "text/plain": [
       "'MNXM935_c0'"
      ]
     },
     "execution_count": 10,
     "metadata": {},
     "output_type": "execute_result"
    },
    {
     "name": "stdout",
     "output_type": "stream",
     "text": [
      "din_c0\n"
     ]
    },
    {
     "data": {
      "text/plain": [
       "'MNXM448_c0'"
      ]
     },
     "execution_count": 10,
     "metadata": {},
     "output_type": "execute_result"
    },
    {
     "name": "stdout",
     "output_type": "stream",
     "text": [
      "tre6p_c0\n"
     ]
    },
    {
     "data": {
      "text/plain": [
       "'MNXM160_c0'"
      ]
     },
     "execution_count": 10,
     "metadata": {},
     "output_type": "execute_result"
    },
    {
     "name": "stdout",
     "output_type": "stream",
     "text": [
      "g6p_c0\n"
     ]
    },
    {
     "data": {
      "text/plain": [
       "'MNXM891_c0'"
      ]
     },
     "execution_count": 10,
     "metadata": {},
     "output_type": "execute_result"
    },
    {
     "name": "stdout",
     "output_type": "stream",
     "text": [
      "3c2hmp_c0\n"
     ]
    },
    {
     "data": {
      "text/plain": [
       "'MNXM1706_c0'"
      ]
     },
     "execution_count": 10,
     "metadata": {},
     "output_type": "execute_result"
    },
    {
     "name": "stdout",
     "output_type": "stream",
     "text": [
      "2ippm_c0\n"
     ]
    },
    {
     "data": {
      "text/plain": [
       "'MNXM1602_c0'"
      ]
     },
     "execution_count": 10,
     "metadata": {},
     "output_type": "execute_result"
    },
    {
     "name": "stdout",
     "output_type": "stream",
     "text": [
      "3c4mop_c0\n"
     ]
    },
    {
     "data": {
      "text/plain": [
       "'MNXM689_c0'"
      ]
     },
     "execution_count": 10,
     "metadata": {},
     "output_type": "execute_result"
    },
    {
     "name": "stdout",
     "output_type": "stream",
     "text": [
      "5dpmev_c0\n"
     ]
    },
    {
     "data": {
      "text/plain": [
       "'MNXM468_e0'"
      ]
     },
     "execution_count": 10,
     "metadata": {},
     "output_type": "execute_result"
    },
    {
     "name": "stdout",
     "output_type": "stream",
     "text": [
      "malttr_e0\n"
     ]
    },
    {
     "data": {
      "text/plain": [
       "'MNXM468_c0'"
      ]
     },
     "execution_count": 10,
     "metadata": {},
     "output_type": "execute_result"
    },
    {
     "name": "stdout",
     "output_type": "stream",
     "text": [
      "malttr_c0\n"
     ]
    },
    {
     "data": {
      "text/plain": [
       "'MNXM207_c0'"
      ]
     },
     "execution_count": 10,
     "metadata": {},
     "output_type": "execute_result"
    },
    {
     "name": "stdout",
     "output_type": "stream",
     "text": [
      "no3_c0\n"
     ]
    },
    {
     "data": {
      "text/plain": [
       "'MNXM268_c0'"
      ]
     },
     "execution_count": 10,
     "metadata": {},
     "output_type": "execute_result"
    },
    {
     "name": "stdout",
     "output_type": "stream",
     "text": [
      "L2aadp_c0\n"
     ]
    },
    {
     "data": {
      "text/plain": [
       "'MNXM1499_c0'"
      ]
     },
     "execution_count": 10,
     "metadata": {},
     "output_type": "execute_result"
    },
    {
     "name": "stdout",
     "output_type": "stream",
     "text": [
      "ppap_c0\n"
     ]
    },
    {
     "data": {
      "text/plain": [
       "'MNXM298_c0'"
      ]
     },
     "execution_count": 10,
     "metadata": {},
     "output_type": "execute_result"
    },
    {
     "name": "stdout",
     "output_type": "stream",
     "text": [
      "xmp_c0\n"
     ]
    },
    {
     "data": {
      "text/plain": [
       "'MNXM10780_c0'"
      ]
     },
     "execution_count": 10,
     "metadata": {},
     "output_type": "execute_result"
    },
    {
     "name": "stdout",
     "output_type": "stream",
     "text": [
      "docoscoa_c0\n"
     ]
    },
    {
     "data": {
      "text/plain": [
       "'MNXM131_e0'"
      ]
     },
     "execution_count": 10,
     "metadata": {},
     "output_type": "execute_result"
    },
    {
     "name": "stdout",
     "output_type": "stream",
     "text": [
      "cit_e0\n"
     ]
    },
    {
     "data": {
      "text/plain": [
       "'MNXM196_e0'"
      ]
     },
     "execution_count": 10,
     "metadata": {},
     "output_type": "execute_result"
    },
    {
     "name": "stdout",
     "output_type": "stream",
     "text": [
      "fe3_e0\n"
     ]
    },
    {
     "data": {
      "text/plain": [
       "'MNXM469_e0'"
      ]
     },
     "execution_count": 10,
     "metadata": {},
     "output_type": "execute_result"
    },
    {
     "name": "stdout",
     "output_type": "stream",
     "text": [
      "sbt__D_e0\n"
     ]
    },
    {
     "data": {
      "text/plain": [
       "'MNXM393_c0'"
      ]
     },
     "execution_count": 10,
     "metadata": {},
     "output_type": "execute_result"
    },
    {
     "name": "stdout",
     "output_type": "stream",
     "text": [
      "sbt6p_c0\n"
     ]
    },
    {
     "data": {
      "text/plain": [
       "'MNXM696_c0'"
      ]
     },
     "execution_count": 10,
     "metadata": {},
     "output_type": "execute_result"
    },
    {
     "name": "stdout",
     "output_type": "stream",
     "text": [
      "Largn_c0\n"
     ]
    },
    {
     "data": {
      "text/plain": [
       "'MNXM2582_c0'"
      ]
     },
     "execution_count": 10,
     "metadata": {},
     "output_type": "execute_result"
    },
    {
     "name": "stdout",
     "output_type": "stream",
     "text": [
      "hhlipa_c0\n"
     ]
    },
    {
     "data": {
      "text/plain": [
       "'MNXM90580_e0'"
      ]
     },
     "execution_count": 10,
     "metadata": {},
     "output_type": "execute_result"
    },
    {
     "name": "stdout",
     "output_type": "stream",
     "text": [
      "cbl2_e0\n"
     ]
    },
    {
     "data": {
      "text/plain": [
       "'MNXM90580_c0'"
      ]
     },
     "execution_count": 10,
     "metadata": {},
     "output_type": "execute_result"
    },
    {
     "name": "stdout",
     "output_type": "stream",
     "text": [
      "cbl2_c0\n"
     ]
    },
    {
     "data": {
      "text/plain": [
       "'MNXM333_c0'"
      ]
     },
     "execution_count": 10,
     "metadata": {},
     "output_type": "execute_result"
    },
    {
     "name": "stdout",
     "output_type": "stream",
     "text": [
      "mev__R_c0\n"
     ]
    },
    {
     "data": {
      "text/plain": [
       "'MNXM567_c0'"
      ]
     },
     "execution_count": 10,
     "metadata": {},
     "output_type": "execute_result"
    },
    {
     "name": "stdout",
     "output_type": "stream",
     "text": [
      "5pmev_c0\n"
     ]
    },
    {
     "data": {
      "text/plain": [
       "'MNXM126241_c0'"
      ]
     },
     "execution_count": 10,
     "metadata": {},
     "output_type": "execute_result"
    },
    {
     "name": "stdout",
     "output_type": "stream",
     "text": [
      "glyleu_c0\n"
     ]
    },
    {
     "data": {
      "text/plain": [
       "'MNXM5465_c0'"
      ]
     },
     "execution_count": 10,
     "metadata": {},
     "output_type": "execute_result"
    },
    {
     "name": "stdout",
     "output_type": "stream",
     "text": [
      "2hdecg3p_c0\n"
     ]
    },
    {
     "data": {
      "text/plain": [
       "'MNXM156_e0'"
      ]
     },
     "execution_count": 10,
     "metadata": {},
     "output_type": "execute_result"
    },
    {
     "name": "stdout",
     "output_type": "stream",
     "text": [
      "ala__D_e0\n"
     ]
    },
    {
     "data": {
      "text/plain": [
       "'MNXM1269_c0'"
      ]
     },
     "execution_count": 10,
     "metadata": {},
     "output_type": "execute_result"
    },
    {
     "name": "stdout",
     "output_type": "stream",
     "text": [
      "acACP_c0\n"
     ]
    },
    {
     "data": {
      "text/plain": [
       "'MNXM1223_c0'"
      ]
     },
     "execution_count": 10,
     "metadata": {},
     "output_type": "execute_result"
    },
    {
     "name": "stdout",
     "output_type": "stream",
     "text": [
      "actACP_c0\n"
     ]
    },
    {
     "data": {
      "text/plain": [
       "'MNXM2246_c0'"
      ]
     },
     "execution_count": 10,
     "metadata": {},
     "output_type": "execute_result"
    },
    {
     "name": "stdout",
     "output_type": "stream",
     "text": [
      "metsox_S__L_c0\n"
     ]
    },
    {
     "data": {
      "text/plain": [
       "'MNXM1344_c0'"
      ]
     },
     "execution_count": 10,
     "metadata": {},
     "output_type": "execute_result"
    },
    {
     "name": "stdout",
     "output_type": "stream",
     "text": [
      "uaaGgla_c0\n"
     ]
    },
    {
     "data": {
      "text/plain": [
       "'MNXM3113_c0'"
      ]
     },
     "execution_count": 10,
     "metadata": {},
     "output_type": "execute_result"
    },
    {
     "name": "stdout",
     "output_type": "stream",
     "text": [
      "uaaGgtla_c0\n"
     ]
    },
    {
     "data": {
      "text/plain": [
       "'MNXM1017_c0'"
      ]
     },
     "execution_count": 10,
     "metadata": {},
     "output_type": "execute_result"
    },
    {
     "name": "stdout",
     "output_type": "stream",
     "text": [
      "btal_c0\n"
     ]
    },
    {
     "data": {
      "text/plain": [
       "'MNXM3230_c0'"
      ]
     },
     "execution_count": 10,
     "metadata": {},
     "output_type": "execute_result"
    },
    {
     "name": "stdout",
     "output_type": "stream",
     "text": [
      "btoh_c0\n"
     ]
    },
    {
     "data": {
      "text/plain": [
       "'MNXM138_c0'"
      ]
     },
     "execution_count": 10,
     "metadata": {},
     "output_type": "execute_result"
    },
    {
     "name": "stdout",
     "output_type": "stream",
     "text": [
      "cbp_c0\n"
     ]
    },
    {
     "data": {
      "text/plain": [
       "'MNXM660_c0'"
      ]
     },
     "execution_count": 10,
     "metadata": {},
     "output_type": "execute_result"
    },
    {
     "name": "stdout",
     "output_type": "stream",
     "text": [
      "peamn_c0\n"
     ]
    },
    {
     "data": {
      "text/plain": [
       "'MNXM45_c0'"
      ]
     },
     "execution_count": 10,
     "metadata": {},
     "output_type": "execute_result"
    },
    {
     "name": "stdout",
     "output_type": "stream",
     "text": [
      "pap_c0\n"
     ]
    },
    {
     "data": {
      "text/plain": [
       "'MNXM376_c0'"
      ]
     },
     "execution_count": 10,
     "metadata": {},
     "output_type": "execute_result"
    },
    {
     "name": "stdout",
     "output_type": "stream",
     "text": [
      "hqn_c0\n"
     ]
    },
    {
     "data": {
      "text/plain": [
       "'MNXM1953_c0'"
      ]
     },
     "execution_count": 10,
     "metadata": {},
     "output_type": "execute_result"
    },
    {
     "name": "stdout",
     "output_type": "stream",
     "text": [
      "uama_c0\n"
     ]
    },
    {
     "data": {
      "text/plain": [
       "'MNXM44_c0'"
      ]
     },
     "execution_count": 10,
     "metadata": {},
     "output_type": "execute_result"
    },
    {
     "name": "stdout",
     "output_type": "stream",
     "text": [
      "acoa_c0\n"
     ]
    },
    {
     "data": {
      "text/plain": [
       "'MNXM94364_c0'"
      ]
     },
     "execution_count": 10,
     "metadata": {},
     "output_type": "execute_result"
    },
    {
     "name": "stdout",
     "output_type": "stream",
     "text": [
      "adhap_hs_c0\n"
     ]
    },
    {
     "data": {
      "text/plain": [
       "'MNXM456_c0'"
      ]
     },
     "execution_count": 10,
     "metadata": {},
     "output_type": "execute_result"
    },
    {
     "name": "stdout",
     "output_type": "stream",
     "text": [
      "fprica_c0\n"
     ]
    },
    {
     "data": {
      "text/plain": [
       "'MNXM275_c0'"
      ]
     },
     "execution_count": 10,
     "metadata": {},
     "output_type": "execute_result"
    },
    {
     "name": "stdout",
     "output_type": "stream",
     "text": [
      "2pg_c0\n"
     ]
    },
    {
     "data": {
      "text/plain": [
       "'MNXM750_c0'"
      ]
     },
     "execution_count": 10,
     "metadata": {},
     "output_type": "execute_result"
    },
    {
     "name": "stdout",
     "output_type": "stream",
     "text": [
      "octa_c0\n"
     ]
    },
    {
     "data": {
      "text/plain": [
       "'MNXM3146_c0'"
      ]
     },
     "execution_count": 10,
     "metadata": {},
     "output_type": "execute_result"
    },
    {
     "name": "stdout",
     "output_type": "stream",
     "text": [
      "mi12356p_c0\n"
     ]
    },
    {
     "data": {
      "text/plain": [
       "'MNXM486_c0'"
      ]
     },
     "execution_count": 10,
     "metadata": {},
     "output_type": "execute_result"
    },
    {
     "name": "stdout",
     "output_type": "stream",
     "text": [
      "dccoa_c0\n"
     ]
    },
    {
     "data": {
      "text/plain": [
       "'MNXM216_c0'"
      ]
     },
     "execution_count": 10,
     "metadata": {},
     "output_type": "execute_result"
    },
    {
     "name": "stdout",
     "output_type": "stream",
     "text": [
      "ncam_c0\n"
     ]
    },
    {
     "data": {
      "text/plain": [
       "'MNXM274_c0'"
      ]
     },
     "execution_count": 10,
     "metadata": {},
     "output_type": "execute_result"
    },
    {
     "name": "stdout",
     "output_type": "stream",
     "text": [
      "nac_c0\n"
     ]
    },
    {
     "data": {
      "text/plain": [
       "'MNXM7861_c0'"
      ]
     },
     "execution_count": 10,
     "metadata": {},
     "output_type": "execute_result"
    },
    {
     "name": "stdout",
     "output_type": "stream",
     "text": [
      "ugam_c0\n"
     ]
    },
    {
     "data": {
      "text/plain": [
       "'MNXM2040_c0'"
      ]
     },
     "execution_count": 10,
     "metadata": {},
     "output_type": "execute_result"
    },
    {
     "name": "stdout",
     "output_type": "stream",
     "text": [
      "hkntd_c0\n"
     ]
    },
    {
     "data": {
      "text/plain": [
       "'MNXM453_c0'"
      ]
     },
     "execution_count": 10,
     "metadata": {},
     "output_type": "execute_result"
    },
    {
     "name": "stdout",
     "output_type": "stream",
     "text": [
      "fgam_c0\n"
     ]
    },
    {
     "data": {
      "text/plain": [
       "'MNXM463_c0'"
      ]
     },
     "execution_count": 10,
     "metadata": {},
     "output_type": "execute_result"
    },
    {
     "name": "stdout",
     "output_type": "stream",
     "text": [
      "gar_c0\n"
     ]
    },
    {
     "data": {
      "text/plain": [
       "'MNXM91374_c0'"
      ]
     },
     "execution_count": 10,
     "metadata": {},
     "output_type": "execute_result"
    },
    {
     "name": "stdout",
     "output_type": "stream",
     "text": [
      "23dappa_c0\n"
     ]
    },
    {
     "data": {
      "text/plain": [
       "'MNXM2063_c0'"
      ]
     },
     "execution_count": 10,
     "metadata": {},
     "output_type": "execute_result"
    },
    {
     "name": "stdout",
     "output_type": "stream",
     "text": [
      "mi4p__D_c0\n"
     ]
    },
    {
     "data": {
      "text/plain": [
       "'MNXM677_c0'"
      ]
     },
     "execution_count": 10,
     "metadata": {},
     "output_type": "execute_result"
    },
    {
     "name": "stdout",
     "output_type": "stream",
     "text": [
      "3odcoa_c0\n"
     ]
    },
    {
     "data": {
      "text/plain": [
       "'MNXM1231_c0'"
      ]
     },
     "execution_count": 10,
     "metadata": {},
     "output_type": "execute_result"
    },
    {
     "name": "stdout",
     "output_type": "stream",
     "text": [
      "frmd_c0\n"
     ]
    },
    {
     "data": {
      "text/plain": [
       "'MNXM2036_c0'"
      ]
     },
     "execution_count": 10,
     "metadata": {},
     "output_type": "execute_result"
    },
    {
     "name": "stdout",
     "output_type": "stream",
     "text": [
      "u3hga_c0\n"
     ]
    },
    {
     "data": {
      "text/plain": [
       "'MNXM947_c0'"
      ]
     },
     "execution_count": 10,
     "metadata": {},
     "output_type": "execute_result"
    },
    {
     "name": "stdout",
     "output_type": "stream",
     "text": [
      "2mp2coa_c0\n"
     ]
    },
    {
     "data": {
      "text/plain": [
       "'MNXM2512_c0'"
      ]
     },
     "execution_count": 10,
     "metadata": {},
     "output_type": "execute_result"
    },
    {
     "name": "stdout",
     "output_type": "stream",
     "text": [
      "r3mmal_c0\n"
     ]
    },
    {
     "data": {
      "text/plain": [
       "'MNXM48596_c0'"
      ]
     },
     "execution_count": 10,
     "metadata": {},
     "output_type": "execute_result"
    },
    {
     "name": "stdout",
     "output_type": "stream",
     "text": [
      "adprib_c0\n"
     ]
    },
    {
     "data": {
      "text/plain": [
       "'MNXM653_e0'"
      ]
     },
     "execution_count": 10,
     "metadata": {},
     "output_type": "execute_result"
    },
    {
     "name": "stdout",
     "output_type": "stream",
     "text": [
      "mg2_e0\n"
     ]
    },
    {
     "data": {
      "text/plain": [
       "'MNXM653_c0'"
      ]
     },
     "execution_count": 10,
     "metadata": {},
     "output_type": "execute_result"
    },
    {
     "name": "stdout",
     "output_type": "stream",
     "text": [
      "mg2_c0\n"
     ]
    },
    {
     "data": {
      "text/plain": [
       "'MNXM130_c0'"
      ]
     },
     "execution_count": 10,
     "metadata": {},
     "output_type": "execute_result"
    },
    {
     "name": "stdout",
     "output_type": "stream",
     "text": [
      "Ssq23epx_c0\n"
     ]
    },
    {
     "data": {
      "text/plain": [
       "'MNXM482_c0'"
      ]
     },
     "execution_count": 10,
     "metadata": {},
     "output_type": "execute_result"
    },
    {
     "name": "stdout",
     "output_type": "stream",
     "text": [
      "lanost_c0\n"
     ]
    },
    {
     "data": {
      "text/plain": [
       "'MNXM204_c0'"
      ]
     },
     "execution_count": 10,
     "metadata": {},
     "output_type": "execute_result"
    },
    {
     "name": "stdout",
     "output_type": "stream",
     "text": [
      "34dhbz_c0\n"
     ]
    },
    {
     "data": {
      "text/plain": [
       "'MNXM1134_c0'"
      ]
     },
     "execution_count": 10,
     "metadata": {},
     "output_type": "execute_result"
    },
    {
     "name": "stdout",
     "output_type": "stream",
     "text": [
      "CCbuttc_c0\n"
     ]
    },
    {
     "data": {
      "text/plain": [
       "'MNXM2784_c0'"
      ]
     },
     "execution_count": 10,
     "metadata": {},
     "output_type": "execute_result"
    },
    {
     "name": "stdout",
     "output_type": "stream",
     "text": [
      "3hadpcoa_c0\n"
     ]
    },
    {
     "data": {
      "text/plain": [
       "'MNXM1264_c0'"
      ]
     },
     "execution_count": 10,
     "metadata": {},
     "output_type": "execute_result"
    },
    {
     "name": "stdout",
     "output_type": "stream",
     "text": [
      "oxadpcoa_c0\n"
     ]
    },
    {
     "data": {
      "text/plain": [
       "'MNXM182_e0'"
      ]
     },
     "execution_count": 10,
     "metadata": {},
     "output_type": "execute_result"
    },
    {
     "name": "stdout",
     "output_type": "stream",
     "text": [
      "man_e0\n"
     ]
    },
    {
     "data": {
      "text/plain": [
       "'MNXM427_c0'"
      ]
     },
     "execution_count": 10,
     "metadata": {},
     "output_type": "execute_result"
    },
    {
     "name": "stdout",
     "output_type": "stream",
     "text": [
      "man6p_c0\n"
     ]
    },
    {
     "data": {
      "text/plain": [
       "'MNXM1141_c0'"
      ]
     },
     "execution_count": 10,
     "metadata": {},
     "output_type": "execute_result"
    },
    {
     "name": "stdout",
     "output_type": "stream",
     "text": [
      "8aonn_c0\n"
     ]
    },
    {
     "data": {
      "text/plain": [
       "'MNXM1140_c0'"
      ]
     },
     "execution_count": 10,
     "metadata": {},
     "output_type": "execute_result"
    },
    {
     "name": "stdout",
     "output_type": "stream",
     "text": [
      "dann_c0\n"
     ]
    },
    {
     "data": {
      "text/plain": [
       "'MNXM3090_c0'"
      ]
     },
     "execution_count": 10,
     "metadata": {},
     "output_type": "execute_result"
    },
    {
     "name": "stdout",
     "output_type": "stream",
     "text": [
      "amob_c0\n"
     ]
    },
    {
     "data": {
      "text/plain": [
       "'MNXM173_c0'"
      ]
     },
     "execution_count": 10,
     "metadata": {},
     "output_type": "execute_result"
    },
    {
     "name": "stdout",
     "output_type": "stream",
     "text": [
      "crn_c0\n"
     ]
    },
    {
     "data": {
      "text/plain": [
       "'MNXM1757_c0'"
      ]
     },
     "execution_count": 10,
     "metadata": {},
     "output_type": "execute_result"
    },
    {
     "name": "stdout",
     "output_type": "stream",
     "text": [
      "sucglu_c0\n"
     ]
    },
    {
     "data": {
      "text/plain": [
       "'MNXM1489_c0'"
      ]
     },
     "execution_count": 10,
     "metadata": {},
     "output_type": "execute_result"
    },
    {
     "name": "stdout",
     "output_type": "stream",
     "text": [
      "pran_c0\n"
     ]
    },
    {
     "data": {
      "text/plain": [
       "'MNXM1455_c0'"
      ]
     },
     "execution_count": 10,
     "metadata": {},
     "output_type": "execute_result"
    },
    {
     "name": "stdout",
     "output_type": "stream",
     "text": [
      "2cpr5p_c0\n"
     ]
    },
    {
     "data": {
      "text/plain": [
       "'MNXM303_c0'"
      ]
     },
     "execution_count": 10,
     "metadata": {},
     "output_type": "execute_result"
    },
    {
     "name": "stdout",
     "output_type": "stream",
     "text": [
      "etoh_c0\n"
     ]
    },
    {
     "data": {
      "text/plain": [
       "'MNXM379_c0'"
      ]
     },
     "execution_count": 10,
     "metadata": {},
     "output_type": "execute_result"
    },
    {
     "name": "stdout",
     "output_type": "stream",
     "text": [
      "pser__L_c0\n"
     ]
    },
    {
     "data": {
      "text/plain": [
       "'MNXM8633_c0'"
      ]
     },
     "execution_count": 10,
     "metadata": {},
     "output_type": "execute_result"
    },
    {
     "name": "stdout",
     "output_type": "stream",
     "text": [
      "HC01700_c0\n"
     ]
    },
    {
     "data": {
      "text/plain": [
       "'MNXM90960_c0'"
      ]
     },
     "execution_count": 10,
     "metadata": {},
     "output_type": "execute_result"
    },
    {
     "name": "stdout",
     "output_type": "stream",
     "text": [
      "cobalt2_c0\n"
     ]
    },
    {
     "data": {
      "text/plain": [
       "'MNXM2379_c0'"
      ]
     },
     "execution_count": 10,
     "metadata": {},
     "output_type": "execute_result"
    },
    {
     "name": "stdout",
     "output_type": "stream",
     "text": [
      "gdchola_c0\n"
     ]
    },
    {
     "data": {
      "text/plain": [
       "'MNXM1514_c0'"
      ]
     },
     "execution_count": 10,
     "metadata": {},
     "output_type": "execute_result"
    },
    {
     "name": "stdout",
     "output_type": "stream",
     "text": [
      "ohpb_c0\n"
     ]
    },
    {
     "data": {
      "text/plain": [
       "'MNXM32181_c0'"
      ]
     },
     "execution_count": 10,
     "metadata": {},
     "output_type": "execute_result"
    },
    {
     "name": "stdout",
     "output_type": "stream",
     "text": [
      "ps160_c0\n"
     ]
    },
    {
     "data": {
      "text/plain": [
       "'MNXM32178_c0'"
      ]
     },
     "execution_count": 10,
     "metadata": {},
     "output_type": "execute_result"
    },
    {
     "name": "stdout",
     "output_type": "stream",
     "text": [
      "pe160_c0\n"
     ]
    },
    {
     "data": {
      "text/plain": [
       "'MNXM11520_c0'"
      ]
     },
     "execution_count": 10,
     "metadata": {},
     "output_type": "execute_result"
    },
    {
     "name": "stdout",
     "output_type": "stream",
     "text": [
      "doco13ac_c0\n"
     ]
    },
    {
     "data": {
      "text/plain": [
       "'MNXM3509_c0'"
      ]
     },
     "execution_count": 10,
     "metadata": {},
     "output_type": "execute_result"
    },
    {
     "name": "stdout",
     "output_type": "stream",
     "text": [
      "5mcsn_c0\n"
     ]
    },
    {
     "data": {
      "text/plain": [
       "'MNXM24502_c0'"
      ]
     },
     "execution_count": 10,
     "metadata": {},
     "output_type": "execute_result"
    },
    {
     "name": "stdout",
     "output_type": "stream",
     "text": [
      "thex2eACP_c0\n"
     ]
    },
    {
     "data": {
      "text/plain": [
       "'MNXM90412_e0'"
      ]
     },
     "execution_count": 10,
     "metadata": {},
     "output_type": "execute_result"
    },
    {
     "name": "stdout",
     "output_type": "stream",
     "text": [
      "drib_e0\n"
     ]
    },
    {
     "data": {
      "text/plain": [
       "'MNXM90412_c0'"
      ]
     },
     "execution_count": 10,
     "metadata": {},
     "output_type": "execute_result"
    },
    {
     "name": "stdout",
     "output_type": "stream",
     "text": [
      "drib_c0\n"
     ]
    },
    {
     "data": {
      "text/plain": [
       "'MNXM1638_c0'"
      ]
     },
     "execution_count": 10,
     "metadata": {},
     "output_type": "execute_result"
    },
    {
     "name": "stdout",
     "output_type": "stream",
     "text": [
      "3hmoa_c0\n"
     ]
    },
    {
     "data": {
      "text/plain": [
       "'MNXM389_c0'"
      ]
     },
     "execution_count": 10,
     "metadata": {},
     "output_type": "execute_result"
    },
    {
     "name": "stdout",
     "output_type": "stream",
     "text": [
      "3mb2coa_c0\n"
     ]
    },
    {
     "data": {
      "text/plain": [
       "'MNXM975_c0'"
      ]
     },
     "execution_count": 10,
     "metadata": {},
     "output_type": "execute_result"
    },
    {
     "name": "stdout",
     "output_type": "stream",
     "text": [
      "lys__D_c0\n"
     ]
    },
    {
     "data": {
      "text/plain": [
       "'MNXM59594_c0'"
      ]
     },
     "execution_count": 10,
     "metadata": {},
     "output_type": "execute_result"
    },
    {
     "name": "stdout",
     "output_type": "stream",
     "text": [
      "xu1p__D_c0\n"
     ]
    },
    {
     "data": {
      "text/plain": [
       "'MNXM1532_c0'"
      ]
     },
     "execution_count": 10,
     "metadata": {},
     "output_type": "execute_result"
    },
    {
     "name": "stdout",
     "output_type": "stream",
     "text": [
      "5apru_c0\n"
     ]
    },
    {
     "data": {
      "text/plain": [
       "'MNXM91793_c0'"
      ]
     },
     "execution_count": 10,
     "metadata": {},
     "output_type": "execute_result"
    },
    {
     "name": "stdout",
     "output_type": "stream",
     "text": [
      "3hbutACP_c0\n"
     ]
    },
    {
     "data": {
      "text/plain": [
       "'MNXM179_e0'"
      ]
     },
     "execution_count": 10,
     "metadata": {},
     "output_type": "execute_result"
    },
    {
     "name": "stdout",
     "output_type": "stream",
     "text": [
      "lac__L_e0\n"
     ]
    },
    {
     "data": {
      "text/plain": [
       "'MNXM311_c0'"
      ]
     },
     "execution_count": 10,
     "metadata": {},
     "output_type": "execute_result"
    },
    {
     "name": "stdout",
     "output_type": "stream",
     "text": [
      "pydx_c0\n"
     ]
    },
    {
     "data": {
      "text/plain": [
       "'MNXM829_c0'"
      ]
     },
     "execution_count": 10,
     "metadata": {},
     "output_type": "execute_result"
    },
    {
     "name": "stdout",
     "output_type": "stream",
     "text": [
      "5odhf2a_c0\n"
     ]
    },
    {
     "data": {
      "text/plain": [
       "'MNXM766_c0'"
      ]
     },
     "execution_count": 10,
     "metadata": {},
     "output_type": "execute_result"
    },
    {
     "name": "stdout",
     "output_type": "stream",
     "text": [
      "3hocoa_c0\n"
     ]
    },
    {
     "data": {
      "text/plain": [
       "'MNXM429_c0'"
      ]
     },
     "execution_count": 10,
     "metadata": {},
     "output_type": "execute_result"
    },
    {
     "name": "stdout",
     "output_type": "stream",
     "text": [
      "6pgl_c0\n"
     ]
    },
    {
     "data": {
      "text/plain": [
       "'MNXM2157_c0'"
      ]
     },
     "execution_count": 10,
     "metadata": {},
     "output_type": "execute_result"
    },
    {
     "name": "stdout",
     "output_type": "stream",
     "text": [
      "u3aga_c0\n"
     ]
    },
    {
     "data": {
      "text/plain": [
       "'MNXM2195_c0'"
      ]
     },
     "execution_count": 10,
     "metadata": {},
     "output_type": "execute_result"
    },
    {
     "name": "stdout",
     "output_type": "stream",
     "text": [
      "3ophb_c0\n"
     ]
    },
    {
     "data": {
      "text/plain": [
       "'MNXM12596_c0'"
      ]
     },
     "execution_count": 10,
     "metadata": {},
     "output_type": "execute_result"
    },
    {
     "name": "stdout",
     "output_type": "stream",
     "text": [
      "pencilca_c0\n"
     ]
    },
    {
     "data": {
      "text/plain": [
       "'MNXM154_c0'"
      ]
     },
     "execution_count": 10,
     "metadata": {},
     "output_type": "execute_result"
    },
    {
     "name": "stdout",
     "output_type": "stream",
     "text": [
      "acac_c0\n"
     ]
    },
    {
     "data": {
      "text/plain": [
       "'MNXM574_c0'"
      ]
     },
     "execution_count": 10,
     "metadata": {},
     "output_type": "execute_result"
    },
    {
     "name": "stdout",
     "output_type": "stream",
     "text": [
      "zymst_c0\n"
     ]
    },
    {
     "data": {
      "text/plain": [
       "'MNXM1741_c0'"
      ]
     },
     "execution_count": 10,
     "metadata": {},
     "output_type": "execute_result"
    },
    {
     "name": "stdout",
     "output_type": "stream",
     "text": [
      "fecost_c0\n"
     ]
    },
    {
     "data": {
      "text/plain": [
       "'MNXM603_c0'"
      ]
     },
     "execution_count": 10,
     "metadata": {},
     "output_type": "execute_result"
    },
    {
     "name": "stdout",
     "output_type": "stream",
     "text": [
      "tym_c0\n"
     ]
    },
    {
     "data": {
      "text/plain": [
       "'MNXM858_c0'"
      ]
     },
     "execution_count": 10,
     "metadata": {},
     "output_type": "execute_result"
    },
    {
     "name": "stdout",
     "output_type": "stream",
     "text": [
      "conialdh_c0\n"
     ]
    },
    {
     "data": {
      "text/plain": [
       "'MNXM573_c0'"
      ]
     },
     "execution_count": 10,
     "metadata": {},
     "output_type": "execute_result"
    },
    {
     "name": "stdout",
     "output_type": "stream",
     "text": [
      "fer_c0\n"
     ]
    },
    {
     "data": {
      "text/plain": [
       "'MNXM961_c0'"
      ]
     },
     "execution_count": 10,
     "metadata": {},
     "output_type": "execute_result"
    },
    {
     "name": "stdout",
     "output_type": "stream",
     "text": [
      "4mcat_c0\n"
     ]
    },
    {
     "data": {
      "text/plain": [
       "'MNXM535_c0'"
      ]
     },
     "execution_count": 10,
     "metadata": {},
     "output_type": "execute_result"
    },
    {
     "name": "stdout",
     "output_type": "stream",
     "text": [
      "ckdo_c0\n"
     ]
    },
    {
     "data": {
      "text/plain": [
       "'MNXM2179_c0'"
      ]
     },
     "execution_count": 10,
     "metadata": {},
     "output_type": "execute_result"
    },
    {
     "name": "stdout",
     "output_type": "stream",
     "text": [
      "2dr5p_c0\n"
     ]
    },
    {
     "data": {
      "text/plain": [
       "'MNXM1224_c0'"
      ]
     },
     "execution_count": 10,
     "metadata": {},
     "output_type": "execute_result"
    },
    {
     "name": "stdout",
     "output_type": "stream",
     "text": [
      "5prdmbz_c0\n"
     ]
    },
    {
     "data": {
      "text/plain": [
       "'MNXM1539_c0'"
      ]
     },
     "execution_count": 10,
     "metadata": {},
     "output_type": "execute_result"
    },
    {
     "name": "stdout",
     "output_type": "stream",
     "text": [
      "rdmbzi_c0\n"
     ]
    },
    {
     "data": {
      "text/plain": [
       "'MNXM2158_c0'"
      ]
     },
     "execution_count": 10,
     "metadata": {},
     "output_type": "execute_result"
    },
    {
     "name": "stdout",
     "output_type": "stream",
     "text": [
      "udpgalfur_c0\n"
     ]
    },
    {
     "data": {
      "text/plain": [
       "'MNXM1238_c0'"
      ]
     },
     "execution_count": 10,
     "metadata": {},
     "output_type": "execute_result"
    },
    {
     "name": "stdout",
     "output_type": "stream",
     "text": [
      "xu5p__L_c0\n"
     ]
    },
    {
     "data": {
      "text/plain": [
       "'MNXM289_e0'"
      ]
     },
     "execution_count": 10,
     "metadata": {},
     "output_type": "execute_result"
    },
    {
     "name": "stdout",
     "output_type": "stream",
     "text": [
      "glyb_e0\n"
     ]
    },
    {
     "data": {
      "text/plain": [
       "'MNXM2562_c0'"
      ]
     },
     "execution_count": 10,
     "metadata": {},
     "output_type": "execute_result"
    },
    {
     "name": "stdout",
     "output_type": "stream",
     "text": [
      "selhcys_c0\n"
     ]
    },
    {
     "data": {
      "text/plain": [
       "'MNXM705_c0'"
      ]
     },
     "execution_count": 10,
     "metadata": {},
     "output_type": "execute_result"
    },
    {
     "name": "stdout",
     "output_type": "stream",
     "text": [
      "3oddcoa_c0\n"
     ]
    },
    {
     "data": {
      "text/plain": [
       "'MNXM1802_c0'"
      ]
     },
     "execution_count": 10,
     "metadata": {},
     "output_type": "execute_result"
    },
    {
     "name": "stdout",
     "output_type": "stream",
     "text": [
      "4hthr_c0\n"
     ]
    },
    {
     "data": {
      "text/plain": [
       "'MNXM1154_c0'"
      ]
     },
     "execution_count": 10,
     "metadata": {},
     "output_type": "execute_result"
    },
    {
     "name": "stdout",
     "output_type": "stream",
     "text": [
      "ptth_c0\n"
     ]
    },
    {
     "data": {
      "text/plain": [
       "'MNXM1226_c0'"
      ]
     },
     "execution_count": 10,
     "metadata": {},
     "output_type": "execute_result"
    },
    {
     "name": "stdout",
     "output_type": "stream",
     "text": [
      "cysam_c0\n"
     ]
    },
    {
     "data": {
      "text/plain": [
       "'MNXM949_c0'"
      ]
     },
     "execution_count": 10,
     "metadata": {},
     "output_type": "execute_result"
    },
    {
     "name": "stdout",
     "output_type": "stream",
     "text": [
      "neuspn_c0\n"
     ]
    },
    {
     "data": {
      "text/plain": [
       "'MNXM36578_c0'"
      ]
     },
     "execution_count": 10,
     "metadata": {},
     "output_type": "execute_result"
    },
    {
     "name": "stdout",
     "output_type": "stream",
     "text": [
      "HC01446_c0\n"
     ]
    },
    {
     "data": {
      "text/plain": [
       "'MNXM4339_c0'"
      ]
     },
     "execution_count": 10,
     "metadata": {},
     "output_type": "execute_result"
    },
    {
     "name": "stdout",
     "output_type": "stream",
     "text": [
      "HC01440_c0\n"
     ]
    },
    {
     "data": {
      "text/plain": [
       "'MNXM322_c0'"
      ]
     },
     "execution_count": 10,
     "metadata": {},
     "output_type": "execute_result"
    },
    {
     "name": "stdout",
     "output_type": "stream",
     "text": [
      "thm_c0\n"
     ]
    },
    {
     "data": {
      "text/plain": [
       "'MNXM962_c0'"
      ]
     },
     "execution_count": 10,
     "metadata": {},
     "output_type": "execute_result"
    },
    {
     "name": "stdout",
     "output_type": "stream",
     "text": [
      "4mhetz_c0\n"
     ]
    },
    {
     "data": {
      "text/plain": [
       "'MNXM384_c0'"
      ]
     },
     "execution_count": 10,
     "metadata": {},
     "output_type": "execute_result"
    },
    {
     "name": "stdout",
     "output_type": "stream",
     "text": [
      "saccrp__L_c0\n"
     ]
    },
    {
     "data": {
      "text/plain": [
       "'MNXM1488_c0'"
      ]
     },
     "execution_count": 10,
     "metadata": {},
     "output_type": "execute_result"
    },
    {
     "name": "stdout",
     "output_type": "stream",
     "text": [
      "sl26da_c0\n"
     ]
    },
    {
     "data": {
      "text/plain": [
       "'MNXM1563_c0'"
      ]
     },
     "execution_count": 10,
     "metadata": {},
     "output_type": "execute_result"
    },
    {
     "name": "stdout",
     "output_type": "stream",
     "text": [
      "sl2a6o_c0\n"
     ]
    },
    {
     "data": {
      "text/plain": [
       "'MNXM3059_c0'"
      ]
     },
     "execution_count": 10,
     "metadata": {},
     "output_type": "execute_result"
    },
    {
     "name": "stdout",
     "output_type": "stream",
     "text": [
      "ptcys_c0\n"
     ]
    },
    {
     "data": {
      "text/plain": [
       "'MNXM94_e0'"
      ]
     },
     "execution_count": 10,
     "metadata": {},
     "output_type": "execute_result"
    },
    {
     "name": "stdout",
     "output_type": "stream",
     "text": [
      "trp__L_e0\n"
     ]
    },
    {
     "data": {
      "text/plain": [
       "'MNXM39_e0'"
      ]
     },
     "execution_count": 10,
     "metadata": {},
     "output_type": "execute_result"
    },
    {
     "name": "stdout",
     "output_type": "stream",
     "text": [
      "for_e0\n"
     ]
    },
    {
     "data": {
      "text/plain": [
       "'MNXM434_c0'"
      ]
     },
     "execution_count": 10,
     "metadata": {},
     "output_type": "execute_result"
    },
    {
     "name": "stdout",
     "output_type": "stream",
     "text": [
      "2saa_c0\n"
     ]
    },
    {
     "data": {
      "text/plain": [
       "'MNXM90703_c0'"
      ]
     },
     "execution_count": 10,
     "metadata": {},
     "output_type": "execute_result"
    },
    {
     "name": "stdout",
     "output_type": "stream",
     "text": [
      "adocbl_c0\n"
     ]
    },
    {
     "data": {
      "text/plain": [
       "'MNXM107505_c0'"
      ]
     },
     "execution_count": 10,
     "metadata": {},
     "output_type": "execute_result"
    },
    {
     "name": "stdout",
     "output_type": "stream",
     "text": [
      "4hba_c0\n"
     ]
    },
    {
     "data": {
      "text/plain": [
       "'MNXM100_c0'"
      ]
     },
     "execution_count": 10,
     "metadata": {},
     "output_type": "execute_result"
    },
    {
     "name": "stdout",
     "output_type": "stream",
     "text": [
      "grdp_c0\n"
     ]
    },
    {
     "data": {
      "text/plain": [
       "'MNXM91788_c0'"
      ]
     },
     "execution_count": 10,
     "metadata": {},
     "output_type": "execute_result"
    },
    {
     "name": "stdout",
     "output_type": "stream",
     "text": [
      "hmpscoa_c0\n"
     ]
    },
    {
     "data": {
      "text/plain": [
       "'MNXM32179_c0'"
      ]
     },
     "execution_count": 10,
     "metadata": {},
     "output_type": "execute_result"
    },
    {
     "name": "stdout",
     "output_type": "stream",
     "text": [
      "pg160_c0\n"
     ]
    },
    {
     "data": {
      "text/plain": [
       "'MNXM58_e0'"
      ]
     },
     "execution_count": 10,
     "metadata": {},
     "output_type": "execute_result"
    },
    {
     "name": "stdout",
     "output_type": "stream",
     "text": [
      "so4_e0\n"
     ]
    },
    {
     "data": {
      "text/plain": [
       "'MNXM81221_c0'"
      ]
     },
     "execution_count": 10,
     "metadata": {},
     "output_type": "execute_result"
    },
    {
     "name": "stdout",
     "output_type": "stream",
     "text": [
      "alpro_c0\n"
     ]
    },
    {
     "data": {
      "text/plain": [
       "'MNXM114091_c0'"
      ]
     },
     "execution_count": 10,
     "metadata": {},
     "output_type": "execute_result"
    },
    {
     "name": "stdout",
     "output_type": "stream",
     "text": [
      "1p3h5c_c0\n"
     ]
    },
    {
     "data": {
      "text/plain": [
       "'MNXM157_c0'"
      ]
     },
     "execution_count": 10,
     "metadata": {},
     "output_type": "execute_result"
    },
    {
     "name": "stdout",
     "output_type": "stream",
     "text": [
      "meoh_c0\n"
     ]
    },
    {
     "data": {
      "text/plain": [
       "'MNXM404_c0'"
      ]
     },
     "execution_count": 10,
     "metadata": {},
     "output_type": "execute_result"
    },
    {
     "name": "stdout",
     "output_type": "stream",
     "text": [
      "4mop_c0\n"
     ]
    },
    {
     "data": {
      "text/plain": [
       "'MNXM90960_e0'"
      ]
     },
     "execution_count": 10,
     "metadata": {},
     "output_type": "execute_result"
    },
    {
     "name": "stdout",
     "output_type": "stream",
     "text": [
      "cobalt2_e0\n"
     ]
    },
    {
     "data": {
      "text/plain": [
       "'MNXM437_c0'"
      ]
     },
     "execution_count": 10,
     "metadata": {},
     "output_type": "execute_result"
    },
    {
     "name": "stdout",
     "output_type": "stream",
     "text": [
      "tmao_c0\n"
     ]
    },
    {
     "data": {
      "text/plain": [
       "'MNXM352_c0'"
      ]
     },
     "execution_count": 10,
     "metadata": {},
     "output_type": "execute_result"
    },
    {
     "name": "stdout",
     "output_type": "stream",
     "text": [
      "tma_c0\n"
     ]
    },
    {
     "data": {
      "text/plain": [
       "'MNXM2178_e0'"
      ]
     },
     "execution_count": 10,
     "metadata": {},
     "output_type": "execute_result"
    },
    {
     "name": "stdout",
     "output_type": "stream",
     "text": [
      "2dmmq8_e0\n"
     ]
    },
    {
     "data": {
      "text/plain": [
       "'MNXM2246_e0'"
      ]
     },
     "execution_count": 10,
     "metadata": {},
     "output_type": "execute_result"
    },
    {
     "name": "stdout",
     "output_type": "stream",
     "text": [
      "metsox_S__L_e0\n"
     ]
    },
    {
     "data": {
      "text/plain": [
       "'MNXM1875_c0'"
      ]
     },
     "execution_count": 10,
     "metadata": {},
     "output_type": "execute_result"
    },
    {
     "name": "stdout",
     "output_type": "stream",
     "text": [
      "3hacoa_c0\n"
     ]
    },
    {
     "data": {
      "text/plain": [
       "'MNXM1310_c0'"
      ]
     },
     "execution_count": 10,
     "metadata": {},
     "output_type": "execute_result"
    },
    {
     "name": "stdout",
     "output_type": "stream",
     "text": [
      "3oacoa_c0\n"
     ]
    },
    {
     "data": {
      "text/plain": [
       "'MNXM1434_c0'"
      ]
     },
     "execution_count": 10,
     "metadata": {},
     "output_type": "execute_result"
    },
    {
     "name": "stdout",
     "output_type": "stream",
     "text": [
      "melib_c0\n"
     ]
    },
    {
     "data": {
      "text/plain": [
       "'MNXM6123_c0'"
      ]
     },
     "execution_count": 10,
     "metadata": {},
     "output_type": "execute_result"
    },
    {
     "name": "stdout",
     "output_type": "stream",
     "text": [
      "5flurimp_c0\n"
     ]
    },
    {
     "data": {
      "text/plain": [
       "'MNXM2210_c0'"
      ]
     },
     "execution_count": 10,
     "metadata": {},
     "output_type": "execute_result"
    },
    {
     "name": "stdout",
     "output_type": "stream",
     "text": [
      "pendp_c0\n"
     ]
    },
    {
     "data": {
      "text/plain": [
       "'MNXM621_c0'"
      ]
     },
     "execution_count": 10,
     "metadata": {},
     "output_type": "execute_result"
    },
    {
     "name": "stdout",
     "output_type": "stream",
     "text": [
      "raffin_c0\n"
     ]
    },
    {
     "data": {
      "text/plain": [
       "'MNXM1176_c0'"
      ]
     },
     "execution_count": 10,
     "metadata": {},
     "output_type": "execute_result"
    },
    {
     "name": "stdout",
     "output_type": "stream",
     "text": [
      "4h2opntn_c0\n"
     ]
    },
    {
     "data": {
      "text/plain": [
       "'MNXM44096_c0'"
      ]
     },
     "execution_count": 10,
     "metadata": {},
     "output_type": "execute_result"
    },
    {
     "name": "stdout",
     "output_type": "stream",
     "text": [
      "gd1b_cho_c0\n"
     ]
    },
    {
     "data": {
      "text/plain": [
       "'MNXM1029_c0'"
      ]
     },
     "execution_count": 10,
     "metadata": {},
     "output_type": "execute_result"
    },
    {
     "name": "stdout",
     "output_type": "stream",
     "text": [
      "appl_c0\n"
     ]
    },
    {
     "data": {
      "text/plain": [
       "'MNXM1562_c0'"
      ]
     },
     "execution_count": 10,
     "metadata": {},
     "output_type": "execute_result"
    },
    {
     "name": "stdout",
     "output_type": "stream",
     "text": [
      "hg2_c0\n"
     ]
    },
    {
     "data": {
      "text/plain": [
       "'MNXM1562_e0'"
      ]
     },
     "execution_count": 10,
     "metadata": {},
     "output_type": "execute_result"
    },
    {
     "name": "stdout",
     "output_type": "stream",
     "text": [
      "hg2_e0\n"
     ]
    },
    {
     "data": {
      "text/plain": [
       "'MNXM15786_e0'"
      ]
     },
     "execution_count": 10,
     "metadata": {},
     "output_type": "execute_result"
    },
    {
     "name": "stdout",
     "output_type": "stream",
     "text": [
      "ala_L_leu__L_e0\n"
     ]
    },
    {
     "data": {
      "text/plain": [
       "'MNXM91047_c0'"
      ]
     },
     "execution_count": 10,
     "metadata": {},
     "output_type": "execute_result"
    },
    {
     "name": "stdout",
     "output_type": "stream",
     "text": [
      "1hdec9eg3p_c0\n"
     ]
    },
    {
     "data": {
      "text/plain": [
       "'MNXM1288_c0'"
      ]
     },
     "execution_count": 10,
     "metadata": {},
     "output_type": "execute_result"
    },
    {
     "name": "stdout",
     "output_type": "stream",
     "text": [
      "Lfmkynr_c0\n"
     ]
    },
    {
     "data": {
      "text/plain": [
       "'MNXM260_c0'"
      ]
     },
     "execution_count": 10,
     "metadata": {},
     "output_type": "execute_result"
    },
    {
     "name": "stdout",
     "output_type": "stream",
     "text": [
      "Lkynr_c0\n"
     ]
    },
    {
     "data": {
      "text/plain": [
       "'MNXM5491_c0'"
      ]
     },
     "execution_count": 10,
     "metadata": {},
     "output_type": "execute_result"
    },
    {
     "name": "stdout",
     "output_type": "stream",
     "text": [
      "2tdecg3p_c0\n"
     ]
    },
    {
     "data": {
      "text/plain": [
       "'MNXM419_c0'"
      ]
     },
     "execution_count": 10,
     "metadata": {},
     "output_type": "execute_result"
    },
    {
     "name": "stdout",
     "output_type": "stream",
     "text": [
      "pydxn_c0\n"
     ]
    },
    {
     "data": {
      "text/plain": [
       "'MNXM44103_c0'"
      ]
     },
     "execution_count": 10,
     "metadata": {},
     "output_type": "execute_result"
    },
    {
     "name": "stdout",
     "output_type": "stream",
     "text": [
      "gd2_cho_c0\n"
     ]
    },
    {
     "data": {
      "text/plain": [
       "'MNXM61741_c0'"
      ]
     },
     "execution_count": 10,
     "metadata": {},
     "output_type": "execute_result"
    },
    {
     "name": "stdout",
     "output_type": "stream",
     "text": [
      "madg_c0\n"
     ]
    },
    {
     "data": {
      "text/plain": [
       "'MNXM1333_c0'"
      ]
     },
     "execution_count": 10,
     "metadata": {},
     "output_type": "execute_result"
    },
    {
     "name": "stdout",
     "output_type": "stream",
     "text": [
      "unaga_c0\n"
     ]
    },
    {
     "data": {
      "text/plain": [
       "'MNXM548_c0'"
      ]
     },
     "execution_count": 10,
     "metadata": {},
     "output_type": "execute_result"
    },
    {
     "name": "stdout",
     "output_type": "stream",
     "text": [
      "pydam_c0\n"
     ]
    },
    {
     "data": {
      "text/plain": [
       "'MNXM672_c0'"
      ]
     },
     "execution_count": 10,
     "metadata": {},
     "output_type": "execute_result"
    },
    {
     "name": "stdout",
     "output_type": "stream",
     "text": [
      "shcl_c0\n"
     ]
    },
    {
     "data": {
      "text/plain": [
       "'MNXM4419_c0'"
      ]
     },
     "execution_count": 10,
     "metadata": {},
     "output_type": "execute_result"
    },
    {
     "name": "stdout",
     "output_type": "stream",
     "text": [
      "cellb6p_c0\n"
     ]
    },
    {
     "data": {
      "text/plain": [
       "'MNXM724_c0'"
      ]
     },
     "execution_count": 10,
     "metadata": {},
     "output_type": "execute_result"
    },
    {
     "name": "stdout",
     "output_type": "stream",
     "text": [
      "n2_c0\n"
     ]
    },
    {
     "data": {
      "text/plain": [
       "'MNXM169_c0'"
      ]
     },
     "execution_count": 10,
     "metadata": {},
     "output_type": "execute_result"
    },
    {
     "name": "stdout",
     "output_type": "stream",
     "text": [
      "fdxrd_c0\n"
     ]
    },
    {
     "data": {
      "text/plain": [
       "'MNXM178_c0'"
      ]
     },
     "execution_count": 10,
     "metadata": {},
     "output_type": "execute_result"
    },
    {
     "name": "stdout",
     "output_type": "stream",
     "text": [
      "fdxox_c0\n"
     ]
    },
    {
     "data": {
      "text/plain": [
       "'MNXM473_c0'"
      ]
     },
     "execution_count": 10,
     "metadata": {},
     "output_type": "execute_result"
    },
    {
     "name": "stdout",
     "output_type": "stream",
     "text": [
      "pacald_c0\n"
     ]
    },
    {
     "data": {
      "text/plain": [
       "'MNXM1812_c0'"
      ]
     },
     "execution_count": 10,
     "metadata": {},
     "output_type": "execute_result"
    },
    {
     "name": "stdout",
     "output_type": "stream",
     "text": [
      "peng_c0\n"
     ]
    },
    {
     "data": {
      "text/plain": [
       "'MNXM378_c0'"
      ]
     },
     "execution_count": 10,
     "metadata": {},
     "output_type": "execute_result"
    },
    {
     "name": "stdout",
     "output_type": "stream",
     "text": [
      "salc_c0\n"
     ]
    },
    {
     "data": {
      "text/plain": [
       "'MNXM1792_c0'"
      ]
     },
     "execution_count": 10,
     "metadata": {},
     "output_type": "execute_result"
    },
    {
     "name": "stdout",
     "output_type": "stream",
     "text": [
      "2mcacn_c0\n"
     ]
    },
    {
     "data": {
      "text/plain": [
       "'MNXM1458_c0'"
      ]
     },
     "execution_count": 10,
     "metadata": {},
     "output_type": "execute_result"
    },
    {
     "name": "stdout",
     "output_type": "stream",
     "text": [
      "4adcho_c0\n"
     ]
    },
    {
     "data": {
      "text/plain": [
       "'MNXM635_c0'"
      ]
     },
     "execution_count": 10,
     "metadata": {},
     "output_type": "execute_result"
    },
    {
     "name": "stdout",
     "output_type": "stream",
     "text": [
      "hista_c0\n"
     ]
    },
    {
     "data": {
      "text/plain": [
       "'MNXM1870_c0'"
      ]
     },
     "execution_count": 10,
     "metadata": {},
     "output_type": "execute_result"
    },
    {
     "name": "stdout",
     "output_type": "stream",
     "text": [
      "kdo2lipid4L_c0\n"
     ]
    },
    {
     "data": {
      "text/plain": [
       "'MNXM824_c0'"
      ]
     },
     "execution_count": 10,
     "metadata": {},
     "output_type": "execute_result"
    },
    {
     "name": "stdout",
     "output_type": "stream",
     "text": [
      "kdo2lipid4_c0\n"
     ]
    },
    {
     "data": {
      "text/plain": [
       "'MNXM341_c0'"
      ]
     },
     "execution_count": 10,
     "metadata": {},
     "output_type": "execute_result"
    },
    {
     "name": "stdout",
     "output_type": "stream",
     "text": [
      "glcn__D_c0\n"
     ]
    },
    {
     "data": {
      "text/plain": [
       "'MNXM582_c0'"
      ]
     },
     "execution_count": 10,
     "metadata": {},
     "output_type": "execute_result"
    },
    {
     "name": "stdout",
     "output_type": "stream",
     "text": [
      "2dhglcn_c0\n"
     ]
    },
    {
     "data": {
      "text/plain": [
       "'MNXM757_c0'"
      ]
     },
     "execution_count": 10,
     "metadata": {},
     "output_type": "execute_result"
    },
    {
     "name": "stdout",
     "output_type": "stream",
     "text": [
      "3hhcoa_c0\n"
     ]
    },
    {
     "data": {
      "text/plain": [
       "'MNXM717_c0'"
      ]
     },
     "execution_count": 10,
     "metadata": {},
     "output_type": "execute_result"
    },
    {
     "name": "stdout",
     "output_type": "stream",
     "text": [
      "3ohcoa_c0\n"
     ]
    },
    {
     "data": {
      "text/plain": [
       "'MNXM218_e0'"
      ]
     },
     "execution_count": 10,
     "metadata": {},
     "output_type": "execute_result"
    },
    {
     "name": "stdout",
     "output_type": "stream",
     "text": [
      "etha_e0\n"
     ]
    },
    {
     "data": {
      "text/plain": [
       "'MNXM149166_c0'"
      ]
     },
     "execution_count": 10,
     "metadata": {},
     "output_type": "execute_result"
    },
    {
     "name": "stdout",
     "output_type": "stream",
     "text": [
      "pcollglys_c0\n"
     ]
    },
    {
     "data": {
      "text/plain": [
       "'MNXM1528_c0'"
      ]
     },
     "execution_count": 10,
     "metadata": {},
     "output_type": "execute_result"
    },
    {
     "name": "stdout",
     "output_type": "stream",
     "text": [
      "hatrz_c0\n"
     ]
    },
    {
     "data": {
      "text/plain": [
       "'MNXM2074_c0'"
      ]
     },
     "execution_count": 10,
     "metadata": {},
     "output_type": "execute_result"
    },
    {
     "name": "stdout",
     "output_type": "stream",
     "text": [
      "2pglyc_c0\n"
     ]
    },
    {
     "data": {
      "text/plain": [
       "'MNXM1680_c0'"
      ]
     },
     "execution_count": 10,
     "metadata": {},
     "output_type": "execute_result"
    },
    {
     "name": "stdout",
     "output_type": "stream",
     "text": [
      "chtbs_c0\n"
     ]
    },
    {
     "data": {
      "text/plain": [
       "'MNXM951_c0'"
      ]
     },
     "execution_count": 10,
     "metadata": {},
     "output_type": "execute_result"
    },
    {
     "name": "stdout",
     "output_type": "stream",
     "text": [
      "pmcoa_c0\n"
     ]
    },
    {
     "data": {
      "text/plain": [
       "'MNXM432_c0'"
      ]
     },
     "execution_count": 10,
     "metadata": {},
     "output_type": "execute_result"
    },
    {
     "name": "stdout",
     "output_type": "stream",
     "text": [
      "damp_c0\n"
     ]
    },
    {
     "data": {
      "text/plain": [
       "'MNXM55269_e0'"
      ]
     },
     "execution_count": 10,
     "metadata": {},
     "output_type": "execute_result"
    },
    {
     "name": "stdout",
     "output_type": "stream",
     "text": [
      "gly_asp__L_e0\n"
     ]
    },
    {
     "data": {
      "text/plain": [
       "'MNXM41_e0'"
      ]
     },
     "execution_count": 10,
     "metadata": {},
     "output_type": "execute_result"
    },
    {
     "name": "stdout",
     "output_type": "stream",
     "text": [
      "glc__bD_e0\n"
     ]
    },
    {
     "data": {
      "text/plain": [
       "'MNXM283_c0'"
      ]
     },
     "execution_count": 10,
     "metadata": {},
     "output_type": "execute_result"
    },
    {
     "name": "stdout",
     "output_type": "stream",
     "text": [
      "cdpchol_c0\n"
     ]
    },
    {
     "data": {
      "text/plain": [
       "'MNXM2598_c0'"
      ]
     },
     "execution_count": 10,
     "metadata": {},
     "output_type": "execute_result"
    },
    {
     "name": "stdout",
     "output_type": "stream",
     "text": [
      "23camp_c0\n"
     ]
    },
    {
     "data": {
      "text/plain": [
       "'MNXM1985_c0'"
      ]
     },
     "execution_count": 10,
     "metadata": {},
     "output_type": "execute_result"
    },
    {
     "name": "stdout",
     "output_type": "stream",
     "text": [
      "3amp_c0\n"
     ]
    },
    {
     "data": {
      "text/plain": [
       "'MNXM35431_c0'"
      ]
     },
     "execution_count": 10,
     "metadata": {},
     "output_type": "execute_result"
    },
    {
     "name": "stdout",
     "output_type": "stream",
     "text": [
      "dmtphllqne_c0\n"
     ]
    },
    {
     "data": {
      "text/plain": [
       "'MNXM1886_c0'"
      ]
     },
     "execution_count": 10,
     "metadata": {},
     "output_type": "execute_result"
    },
    {
     "name": "stdout",
     "output_type": "stream",
     "text": [
      "2oph_c0\n"
     ]
    },
    {
     "data": {
      "text/plain": [
       "'MNXM399_c0'"
      ]
     },
     "execution_count": 10,
     "metadata": {},
     "output_type": "execute_result"
    },
    {
     "name": "stdout",
     "output_type": "stream",
     "text": [
      "com_c0\n"
     ]
    },
    {
     "data": {
      "text/plain": [
       "'MNXM1714_c0'"
      ]
     },
     "execution_count": 10,
     "metadata": {},
     "output_type": "execute_result"
    },
    {
     "name": "stdout",
     "output_type": "stream",
     "text": [
      "5a2opntn_c0\n"
     ]
    },
    {
     "data": {
      "text/plain": [
       "'MNXM506_c0'"
      ]
     },
     "execution_count": 10,
     "metadata": {},
     "output_type": "execute_result"
    },
    {
     "name": "stdout",
     "output_type": "stream",
     "text": [
      "56dura_c0\n"
     ]
    },
    {
     "data": {
      "text/plain": [
       "'MNXM802_c0'"
      ]
     },
     "execution_count": 10,
     "metadata": {},
     "output_type": "execute_result"
    },
    {
     "name": "stdout",
     "output_type": "stream",
     "text": [
      "cala_c0\n"
     ]
    },
    {
     "data": {
      "text/plain": [
       "'MNXM162464_c0'"
      ]
     },
     "execution_count": 10,
     "metadata": {},
     "output_type": "execute_result"
    },
    {
     "name": "stdout",
     "output_type": "stream",
     "text": [
      "gd3_cho_c0\n"
     ]
    },
    {
     "data": {
      "text/plain": [
       "'MNXM3149_c0'"
      ]
     },
     "execution_count": 10,
     "metadata": {},
     "output_type": "execute_result"
    },
    {
     "name": "stdout",
     "output_type": "stream",
     "text": [
      "23cgmp_c0\n"
     ]
    },
    {
     "data": {
      "text/plain": [
       "'MNXM2183_c0'"
      ]
     },
     "execution_count": 10,
     "metadata": {},
     "output_type": "execute_result"
    },
    {
     "name": "stdout",
     "output_type": "stream",
     "text": [
      "3gmp_c0\n"
     ]
    },
    {
     "data": {
      "text/plain": [
       "'MNXM146388_e0'"
      ]
     },
     "execution_count": 10,
     "metadata": {},
     "output_type": "execute_result"
    },
    {
     "name": "stdout",
     "output_type": "stream",
     "text": [
      "fe3dcit_e0\n"
     ]
    },
    {
     "data": {
      "text/plain": [
       "'MNXM146388_c0'"
      ]
     },
     "execution_count": 10,
     "metadata": {},
     "output_type": "execute_result"
    },
    {
     "name": "stdout",
     "output_type": "stream",
     "text": [
      "fe3dcit_c0\n"
     ]
    },
    {
     "data": {
      "text/plain": [
       "'MNXM1119_c0'"
      ]
     },
     "execution_count": 10,
     "metadata": {},
     "output_type": "execute_result"
    },
    {
     "name": "stdout",
     "output_type": "stream",
     "text": [
      "mmet_c0\n"
     ]
    },
    {
     "data": {
      "text/plain": [
       "'MNXM422_c0'"
      ]
     },
     "execution_count": 10,
     "metadata": {},
     "output_type": "execute_result"
    },
    {
     "name": "stdout",
     "output_type": "stream",
     "text": [
      "4abutn_c0\n"
     ]
    },
    {
     "data": {
      "text/plain": [
       "'MNXM47994_c0'"
      ]
     },
     "execution_count": 10,
     "metadata": {},
     "output_type": "execute_result"
    },
    {
     "name": "stdout",
     "output_type": "stream",
     "text": [
      "cdpg_c0\n"
     ]
    },
    {
     "data": {
      "text/plain": [
       "'MNXM207_e0'"
      ]
     },
     "execution_count": 10,
     "metadata": {},
     "output_type": "execute_result"
    },
    {
     "name": "stdout",
     "output_type": "stream",
     "text": [
      "no3_e0\n"
     ]
    },
    {
     "data": {
      "text/plain": [
       "'MNXM753_c0'"
      ]
     },
     "execution_count": 10,
     "metadata": {},
     "output_type": "execute_result"
    },
    {
     "name": "stdout",
     "output_type": "stream",
     "text": [
      "hx2coa_c0\n"
     ]
    },
    {
     "data": {
      "text/plain": [
       "'MNXM425_c0'"
      ]
     },
     "execution_count": 10,
     "metadata": {},
     "output_type": "execute_result"
    },
    {
     "name": "stdout",
     "output_type": "stream",
     "text": [
      "retinal_c0\n"
     ]
    },
    {
     "data": {
      "text/plain": [
       "'MNXM205_c0'"
      ]
     },
     "execution_count": 10,
     "metadata": {},
     "output_type": "execute_result"
    },
    {
     "name": "stdout",
     "output_type": "stream",
     "text": [
      "dopa_c0\n"
     ]
    },
    {
     "data": {
      "text/plain": [
       "'MNXM541_c0'"
      ]
     },
     "execution_count": 10,
     "metadata": {},
     "output_type": "execute_result"
    },
    {
     "name": "stdout",
     "output_type": "stream",
     "text": [
      "3php_c0\n"
     ]
    },
    {
     "data": {
      "text/plain": [
       "'MNXM1799_c0'"
      ]
     },
     "execution_count": 10,
     "metadata": {},
     "output_type": "execute_result"
    },
    {
     "name": "stdout",
     "output_type": "stream",
     "text": [
      "3hcinnm_c0\n"
     ]
    },
    {
     "data": {
      "text/plain": [
       "'MNXM336_c0'"
      ]
     },
     "execution_count": 10,
     "metadata": {},
     "output_type": "execute_result"
    },
    {
     "name": "stdout",
     "output_type": "stream",
     "text": [
      "gal1p_c0\n"
     ]
    },
    {
     "data": {
      "text/plain": [
       "'MNXM682_c0'"
      ]
     },
     "execution_count": 10,
     "metadata": {},
     "output_type": "execute_result"
    },
    {
     "name": "stdout",
     "output_type": "stream",
     "text": [
      "glyc1p_c0\n"
     ]
    },
    {
     "data": {
      "text/plain": [
       "'MNXM198_e0'"
      ]
     },
     "execution_count": 10,
     "metadata": {},
     "output_type": "execute_result"
    },
    {
     "name": "stdout",
     "output_type": "stream",
     "text": [
      "tre_e0\n"
     ]
    },
    {
     "data": {
      "text/plain": [
       "'MNXM651_c0'"
      ]
     },
     "execution_count": 10,
     "metadata": {},
     "output_type": "execute_result"
    },
    {
     "name": "stdout",
     "output_type": "stream",
     "text": [
      "f26bp_c0\n"
     ]
    },
    {
     "data": {
      "text/plain": [
       "'MNXM29072_c0'"
      ]
     },
     "execution_count": 10,
     "metadata": {},
     "output_type": "execute_result"
    },
    {
     "name": "stdout",
     "output_type": "stream",
     "text": [
      "tpalm2eACP_c0\n"
     ]
    },
    {
     "data": {
      "text/plain": [
       "'MNXM242_e0'"
      ]
     },
     "execution_count": 10,
     "metadata": {},
     "output_type": "execute_result"
    },
    {
     "name": "stdout",
     "output_type": "stream",
     "text": [
      "rib__D_e0\n"
     ]
    },
    {
     "data": {
      "text/plain": [
       "'MNXM3932_c0'"
      ]
     },
     "execution_count": 10,
     "metadata": {},
     "output_type": "execute_result"
    },
    {
     "name": "stdout",
     "output_type": "stream",
     "text": [
      "btnso_c0\n"
     ]
    },
    {
     "data": {
      "text/plain": [
       "'MNXM213_e0'"
      ]
     },
     "execution_count": 10,
     "metadata": {},
     "output_type": "execute_result"
    },
    {
     "name": "stdout",
     "output_type": "stream",
     "text": [
      "hxan_e0\n"
     ]
    },
    {
     "data": {
      "text/plain": [
       "'MNXM8670_e0'"
      ]
     },
     "execution_count": 10,
     "metadata": {},
     "output_type": "execute_result"
    },
    {
     "name": "stdout",
     "output_type": "stream",
     "text": [
      "gly_pro__L_e0\n"
     ]
    },
    {
     "data": {
      "text/plain": [
       "'MNXM593_c0'"
      ]
     },
     "execution_count": 10,
     "metadata": {},
     "output_type": "execute_result"
    },
    {
     "name": "stdout",
     "output_type": "stream",
     "text": [
      "pant__R_c0\n"
     ]
    },
    {
     "data": {
      "text/plain": [
       "'MNXM959_c0'"
      ]
     },
     "execution_count": 10,
     "metadata": {},
     "output_type": "execute_result"
    },
    {
     "name": "stdout",
     "output_type": "stream",
     "text": [
      "2dhp_c0\n"
     ]
    },
    {
     "data": {
      "text/plain": [
       "'MNXM813_c0'"
      ]
     },
     "execution_count": 10,
     "metadata": {},
     "output_type": "execute_result"
    },
    {
     "name": "stdout",
     "output_type": "stream",
     "text": [
      "acon_C_c0\n"
     ]
    },
    {
     "data": {
      "text/plain": [
       "'MNXM969_c0'"
      ]
     },
     "execution_count": 10,
     "metadata": {},
     "output_type": "execute_result"
    },
    {
     "name": "stdout",
     "output_type": "stream",
     "text": [
      "gam1p_c0\n"
     ]
    },
    {
     "data": {
      "text/plain": [
       "'MNXM1531_c0'"
      ]
     },
     "execution_count": 10,
     "metadata": {},
     "output_type": "execute_result"
    },
    {
     "name": "stdout",
     "output_type": "stream",
     "text": [
      "dmbzid_c0\n"
     ]
    },
    {
     "data": {
      "text/plain": [
       "'MNXM82173_c0'"
      ]
     },
     "execution_count": 10,
     "metadata": {},
     "output_type": "execute_result"
    },
    {
     "name": "stdout",
     "output_type": "stream",
     "text": [
      "sheme_c0\n"
     ]
    },
    {
     "data": {
      "text/plain": [
       "'MNXM863_c0'"
      ]
     },
     "execution_count": 10,
     "metadata": {},
     "output_type": "execute_result"
    },
    {
     "name": "stdout",
     "output_type": "stream",
     "text": [
      "srch_c0\n"
     ]
    },
    {
     "data": {
      "text/plain": [
       "'MNXM114087_c0'"
      ]
     },
     "execution_count": 10,
     "metadata": {},
     "output_type": "execute_result"
    },
    {
     "name": "stdout",
     "output_type": "stream",
     "text": [
      "2aobut_c0\n"
     ]
    },
    {
     "data": {
      "text/plain": [
       "'MNXM1503_c0'"
      ]
     },
     "execution_count": 10,
     "metadata": {},
     "output_type": "execute_result"
    },
    {
     "name": "stdout",
     "output_type": "stream",
     "text": [
      "stys_c0\n"
     ]
    },
    {
     "data": {
      "text/plain": [
       "'MNXM694_c0'"
      ]
     },
     "execution_count": 10,
     "metadata": {},
     "output_type": "execute_result"
    },
    {
     "name": "stdout",
     "output_type": "stream",
     "text": [
      "ser__D_c0\n"
     ]
    },
    {
     "data": {
      "text/plain": [
       "'MNXM615_c0'"
      ]
     },
     "execution_count": 10,
     "metadata": {},
     "output_type": "execute_result"
    },
    {
     "name": "stdout",
     "output_type": "stream",
     "text": [
      "mnl_c0\n"
     ]
    },
    {
     "data": {
      "text/plain": [
       "'MNXM396_c0'"
      ]
     },
     "execution_count": 10,
     "metadata": {},
     "output_type": "execute_result"
    },
    {
     "name": "stdout",
     "output_type": "stream",
     "text": [
      "3hmp_c0\n"
     ]
    },
    {
     "data": {
      "text/plain": [
       "'MNXM3196_c0'"
      ]
     },
     "execution_count": 10,
     "metadata": {},
     "output_type": "execute_result"
    },
    {
     "name": "stdout",
     "output_type": "stream",
     "text": [
      "6tins5mp_c0\n"
     ]
    },
    {
     "data": {
      "text/plain": [
       "'MNXM6955_c0'"
      ]
     },
     "execution_count": 10,
     "metadata": {},
     "output_type": "execute_result"
    },
    {
     "name": "stdout",
     "output_type": "stream",
     "text": [
      "6txan5mp_c0\n"
     ]
    },
    {
     "data": {
      "text/plain": [
       "'MNXM899_c0'"
      ]
     },
     "execution_count": 10,
     "metadata": {},
     "output_type": "execute_result"
    },
    {
     "name": "stdout",
     "output_type": "stream",
     "text": [
      "dtdprmn_c0\n"
     ]
    },
    {
     "data": {
      "text/plain": [
       "'MNXM1317_e0'"
      ]
     },
     "execution_count": 10,
     "metadata": {},
     "output_type": "execute_result"
    },
    {
     "name": "stdout",
     "output_type": "stream",
     "text": [
      "malthx_e0\n"
     ]
    },
    {
     "data": {
      "text/plain": [
       "'MNXM114119_c0'"
      ]
     },
     "execution_count": 10,
     "metadata": {},
     "output_type": "execute_result"
    },
    {
     "name": "stdout",
     "output_type": "stream",
     "text": [
      "dkdi_c0\n"
     ]
    },
    {
     "data": {
      "text/plain": [
       "'MNXM5490_c0'"
      ]
     },
     "execution_count": 10,
     "metadata": {},
     "output_type": "execute_result"
    },
    {
     "name": "stdout",
     "output_type": "stream",
     "text": [
      "2tdec7eg3p_c0\n"
     ]
    },
    {
     "data": {
      "text/plain": [
       "'MNXM1122_c0'"
      ]
     },
     "execution_count": 10,
     "metadata": {},
     "output_type": "execute_result"
    },
    {
     "name": "stdout",
     "output_type": "stream",
     "text": [
      "allphn_c0\n"
     ]
    },
    {
     "data": {
      "text/plain": [
       "'MNXM163558_c0'"
      ]
     },
     "execution_count": 10,
     "metadata": {},
     "output_type": "execute_result"
    },
    {
     "name": "stdout",
     "output_type": "stream",
     "text": [
      "pre8_c0\n"
     ]
    },
    {
     "data": {
      "text/plain": [
       "'MNXM1279_c0'"
      ]
     },
     "execution_count": 10,
     "metadata": {},
     "output_type": "execute_result"
    },
    {
     "name": "stdout",
     "output_type": "stream",
     "text": [
      "hgbyr_c0\n"
     ]
    },
    {
     "data": {
      "text/plain": [
       "'MNXM10816_c0'"
      ]
     },
     "execution_count": 10,
     "metadata": {},
     "output_type": "execute_result"
    },
    {
     "name": "stdout",
     "output_type": "stream",
     "text": [
      "mbdg_c0\n"
     ]
    },
    {
     "data": {
      "text/plain": [
       "'MNXM126241_e0'"
      ]
     },
     "execution_count": 10,
     "metadata": {},
     "output_type": "execute_result"
    },
    {
     "name": "stdout",
     "output_type": "stream",
     "text": [
      "glyleu_e0\n"
     ]
    },
    {
     "data": {
      "text/plain": [
       "'MNXM1191_e0'"
      ]
     },
     "execution_count": 10,
     "metadata": {},
     "output_type": "execute_result"
    },
    {
     "name": "stdout",
     "output_type": "stream",
     "text": [
      "cynt_e0\n"
     ]
    },
    {
     "data": {
      "text/plain": [
       "'MNXM76_e0'"
      ]
     },
     "execution_count": 10,
     "metadata": {},
     "output_type": "execute_result"
    },
    {
     "name": "stdout",
     "output_type": "stream",
     "text": [
      "tyr__L_e0\n"
     ]
    },
    {
     "data": {
      "text/plain": [
       "'MNXM281_c0'"
      ]
     },
     "execution_count": 10,
     "metadata": {},
     "output_type": "execute_result"
    },
    {
     "name": "stdout",
     "output_type": "stream",
     "text": [
      "dhf_c0\n"
     ]
    },
    {
     "data": {
      "text/plain": [
       "'MNXM617_c0'"
      ]
     },
     "execution_count": 10,
     "metadata": {},
     "output_type": "execute_result"
    },
    {
     "name": "stdout",
     "output_type": "stream",
     "text": [
      "fol_c0\n"
     ]
    },
    {
     "data": {
      "text/plain": [
       "'MNXM928_c0'"
      ]
     },
     "execution_count": 10,
     "metadata": {},
     "output_type": "execute_result"
    },
    {
     "name": "stdout",
     "output_type": "stream",
     "text": [
      "gullac_c0\n"
     ]
    },
    {
     "data": {
      "text/plain": [
       "'MNXM1927_c0'"
      ]
     },
     "execution_count": 10,
     "metadata": {},
     "output_type": "execute_result"
    },
    {
     "name": "stdout",
     "output_type": "stream",
     "text": [
      "guln__L_c0\n"
     ]
    },
    {
     "data": {
      "text/plain": [
       "'MNXM2967_c0'"
      ]
     },
     "execution_count": 10,
     "metadata": {},
     "output_type": "execute_result"
    },
    {
     "name": "stdout",
     "output_type": "stream",
     "text": [
      "rmn_c0\n"
     ]
    },
    {
     "data": {
      "text/plain": [
       "'MNXM8868_c0'"
      ]
     },
     "execution_count": 10,
     "metadata": {},
     "output_type": "execute_result"
    },
    {
     "name": "stdout",
     "output_type": "stream",
     "text": [
      "met_L_ala__L_c0\n"
     ]
    },
    {
     "data": {
      "text/plain": [
       "'MNXM1635_c0'"
      ]
     },
     "execution_count": 10,
     "metadata": {},
     "output_type": "execute_result"
    },
    {
     "name": "stdout",
     "output_type": "stream",
     "text": [
      "2ohph_c0\n"
     ]
    },
    {
     "data": {
      "text/plain": [
       "'MNXM1993_c0'"
      ]
     },
     "execution_count": 10,
     "metadata": {},
     "output_type": "execute_result"
    },
    {
     "name": "stdout",
     "output_type": "stream",
     "text": [
      "5flura_c0\n"
     ]
    },
    {
     "data": {
      "text/plain": [
       "'MNXM95_c0'"
      ]
     },
     "execution_count": 10,
     "metadata": {},
     "output_type": "execute_result"
    },
    {
     "name": "stdout",
     "output_type": "stream",
     "text": [
      "k_c0\n"
     ]
    },
    {
     "data": {
      "text/plain": [
       "'MNXM95_e0'"
      ]
     },
     "execution_count": 10,
     "metadata": {},
     "output_type": "execute_result"
    },
    {
     "name": "stdout",
     "output_type": "stream",
     "text": [
      "k_e0\n"
     ]
    },
    {
     "data": {
      "text/plain": [
       "'MNXM4002_c0'"
      ]
     },
     "execution_count": 10,
     "metadata": {},
     "output_type": "execute_result"
    },
    {
     "name": "stdout",
     "output_type": "stream",
     "text": [
      "glygly_c0\n"
     ]
    },
    {
     "data": {
      "text/plain": [
       "'MNXM4_e0'"
      ]
     },
     "execution_count": 10,
     "metadata": {},
     "output_type": "execute_result"
    },
    {
     "name": "stdout",
     "output_type": "stream",
     "text": [
      "o2_e0\n"
     ]
    },
    {
     "data": {
      "text/plain": [
       "'MNXM326_c0'"
      ]
     },
     "execution_count": 10,
     "metadata": {},
     "output_type": "execute_result"
    },
    {
     "name": "stdout",
     "output_type": "stream",
     "text": [
      "dtpcudcpp_c0\n"
     ]
    },
    {
     "data": {
      "text/plain": [
       "'MNXM1734_c0'"
      ]
     },
     "execution_count": 10,
     "metadata": {},
     "output_type": "execute_result"
    },
    {
     "name": "stdout",
     "output_type": "stream",
     "text": [
      "galctn__D_c0\n"
     ]
    },
    {
     "data": {
      "text/plain": [
       "'MNXM88508_c0'"
      ]
     },
     "execution_count": 10,
     "metadata": {},
     "output_type": "execute_result"
    },
    {
     "name": "stdout",
     "output_type": "stream",
     "text": [
      "uaagtmda_c0\n"
     ]
    },
    {
     "data": {
      "text/plain": [
       "'MNXM90_e0'"
      ]
     },
     "execution_count": 10,
     "metadata": {},
     "output_type": "execute_result"
    },
    {
     "name": "stdout",
     "output_type": "stream",
     "text": [
      "chol_e0\n"
     ]
    },
    {
     "data": {
      "text/plain": [
       "'MNXM1634_c0'"
      ]
     },
     "execution_count": 10,
     "metadata": {},
     "output_type": "execute_result"
    },
    {
     "name": "stdout",
     "output_type": "stream",
     "text": [
      "3hpppn_c0\n"
     ]
    },
    {
     "data": {
      "text/plain": [
       "'MNXM357_c0'"
      ]
     },
     "execution_count": 10,
     "metadata": {},
     "output_type": "execute_result"
    },
    {
     "name": "stdout",
     "output_type": "stream",
     "text": [
      "srtn_c0\n"
     ]
    },
    {
     "data": {
      "text/plain": [
       "'MNXM5261_c0'"
      ]
     },
     "execution_count": 10,
     "metadata": {},
     "output_type": "execute_result"
    },
    {
     "name": "stdout",
     "output_type": "stream",
     "text": [
      "pphos_c0\n"
     ]
    },
    {
     "data": {
      "text/plain": [
       "'MNXM4077_c0'"
      ]
     },
     "execution_count": 10,
     "metadata": {},
     "output_type": "execute_result"
    },
    {
     "name": "stdout",
     "output_type": "stream",
     "text": [
      "4mbzald_c0\n"
     ]
    },
    {
     "data": {
      "text/plain": [
       "'MNXM3331_c0'"
      ]
     },
     "execution_count": 10,
     "metadata": {},
     "output_type": "execute_result"
    },
    {
     "name": "stdout",
     "output_type": "stream",
     "text": [
      "p_tol_c0\n"
     ]
    },
    {
     "data": {
      "text/plain": [
       "'MNXM1954_c0'"
      ]
     },
     "execution_count": 10,
     "metadata": {},
     "output_type": "execute_result"
    },
    {
     "name": "stdout",
     "output_type": "stream",
     "text": [
      "ugmda_c0\n"
     ]
    },
    {
     "data": {
      "text/plain": [
       "'MNXM90136_c0'"
      ]
     },
     "execution_count": 10,
     "metadata": {},
     "output_type": "execute_result"
    },
    {
     "name": "stdout",
     "output_type": "stream",
     "text": [
      "2dh3dgal6p_c0\n"
     ]
    },
    {
     "data": {
      "text/plain": [
       "'MNXM1212_c0'"
      ]
     },
     "execution_count": 10,
     "metadata": {},
     "output_type": "execute_result"
    },
    {
     "name": "stdout",
     "output_type": "stream",
     "text": [
      "sucbz_c0\n"
     ]
    },
    {
     "data": {
      "text/plain": [
       "'MNXM8667_e0'"
      ]
     },
     "execution_count": 10,
     "metadata": {},
     "output_type": "execute_result"
    },
    {
     "name": "stdout",
     "output_type": "stream",
     "text": [
      "gly_glu__L_e0\n"
     ]
    },
    {
     "data": {
      "text/plain": [
       "'MNXM199_e0'"
      ]
     },
     "execution_count": 10,
     "metadata": {},
     "output_type": "execute_result"
    },
    {
     "name": "stdout",
     "output_type": "stream",
     "text": [
      "val__L_e0\n"
     ]
    },
    {
     "data": {
      "text/plain": [
       "'MNXM363_c0'"
      ]
     },
     "execution_count": 10,
     "metadata": {},
     "output_type": "execute_result"
    },
    {
     "name": "stdout",
     "output_type": "stream",
     "text": [
      "ddcacoa_c0\n"
     ]
    },
    {
     "data": {
      "text/plain": [
       "'MNXM40495_e0'"
      ]
     },
     "execution_count": 10,
     "metadata": {},
     "output_type": "execute_result"
    },
    {
     "name": "stdout",
     "output_type": "stream",
     "text": [
      "ala_L_gln__L_e0\n"
     ]
    },
    {
     "data": {
      "text/plain": [
       "'MNXM2174_c0'"
      ]
     },
     "execution_count": 10,
     "metadata": {},
     "output_type": "execute_result"
    },
    {
     "name": "stdout",
     "output_type": "stream",
     "text": [
      "didp_c0\n"
     ]
    },
    {
     "data": {
      "text/plain": [
       "'MNXM1325_c0'"
      ]
     },
     "execution_count": 10,
     "metadata": {},
     "output_type": "execute_result"
    },
    {
     "name": "stdout",
     "output_type": "stream",
     "text": [
      "ditp_c0\n"
     ]
    },
    {
     "data": {
      "text/plain": [
       "'MNXM38414_c0'"
      ]
     },
     "execution_count": 10,
     "metadata": {},
     "output_type": "execute_result"
    },
    {
     "name": "stdout",
     "output_type": "stream",
     "text": [
      "C04805_c0\n"
     ]
    },
    {
     "data": {
      "text/plain": [
       "'MNXM158_e0'"
      ]
     },
     "execution_count": 10,
     "metadata": {},
     "output_type": "execute_result"
    },
    {
     "name": "stdout",
     "output_type": "stream",
     "text": [
      "ura_e0\n"
     ]
    },
    {
     "data": {
      "text/plain": [
       "'MNXM493_c0'"
      ]
     },
     "execution_count": 10,
     "metadata": {},
     "output_type": "execute_result"
    },
    {
     "name": "stdout",
     "output_type": "stream",
     "text": [
      "aproa_c0\n"
     ]
    },
    {
     "data": {
      "text/plain": [
       "'MNXM2590_c0'"
      ]
     },
     "execution_count": 10,
     "metadata": {},
     "output_type": "execute_result"
    },
    {
     "name": "stdout",
     "output_type": "stream",
     "text": [
      "retpalm_11_cis_c0\n"
     ]
    },
    {
     "data": {
      "text/plain": [
       "'MNXM3867_c0'"
      ]
     },
     "execution_count": 10,
     "metadata": {},
     "output_type": "execute_result"
    },
    {
     "name": "stdout",
     "output_type": "stream",
     "text": [
      "HC01104_c0\n"
     ]
    },
    {
     "data": {
      "text/plain": [
       "'MNXM8868_e0'"
      ]
     },
     "execution_count": 10,
     "metadata": {},
     "output_type": "execute_result"
    },
    {
     "name": "stdout",
     "output_type": "stream",
     "text": [
      "met_L_ala__L_e0\n"
     ]
    },
    {
     "data": {
      "text/plain": [
       "'MNXM320_c0'"
      ]
     },
     "execution_count": 10,
     "metadata": {},
     "output_type": "execute_result"
    },
    {
     "name": "stdout",
     "output_type": "stream",
     "text": [
      "phenol_c0\n"
     ]
    },
    {
     "data": {
      "text/plain": [
       "'MNXM2288_c0'"
      ]
     },
     "execution_count": 10,
     "metadata": {},
     "output_type": "execute_result"
    },
    {
     "name": "stdout",
     "output_type": "stream",
     "text": [
      "tchola_c0\n"
     ]
    },
    {
     "data": {
      "text/plain": [
       "'MNXM8664_e0'"
      ]
     },
     "execution_count": 10,
     "metadata": {},
     "output_type": "execute_result"
    },
    {
     "name": "stdout",
     "output_type": "stream",
     "text": [
      "gly_asn__L_e0\n"
     ]
    },
    {
     "data": {
      "text/plain": [
       "'MNXM8664_c0'"
      ]
     },
     "execution_count": 10,
     "metadata": {},
     "output_type": "execute_result"
    },
    {
     "name": "stdout",
     "output_type": "stream",
     "text": [
      "gly_asn__L_c0\n"
     ]
    },
    {
     "data": {
      "text/plain": [
       "'MNXM223_e0'"
      ]
     },
     "execution_count": 10,
     "metadata": {},
     "output_type": "execute_result"
    },
    {
     "name": "stdout",
     "output_type": "stream",
     "text": [
      "mql8_e0\n"
     ]
    },
    {
     "data": {
      "text/plain": [
       "'MNXM509_e0'"
      ]
     },
     "execution_count": 10,
     "metadata": {},
     "output_type": "execute_result"
    },
    {
     "name": "stdout",
     "output_type": "stream",
     "text": [
      "mqn8_e0\n"
     ]
    },
    {
     "data": {
      "text/plain": [
       "'MNXM236_e0'"
      ]
     },
     "execution_count": 10,
     "metadata": {},
     "output_type": "execute_result"
    },
    {
     "name": "stdout",
     "output_type": "stream",
     "text": [
      "ocdca_e0\n"
     ]
    },
    {
     "data": {
      "text/plain": [
       "'MNXM772_c0'"
      ]
     },
     "execution_count": 10,
     "metadata": {},
     "output_type": "execute_result"
    },
    {
     "name": "stdout",
     "output_type": "stream",
     "text": [
      "56dthm_c0\n"
     ]
    },
    {
     "data": {
      "text/plain": [
       "'MNXM1015_c0'"
      ]
     },
     "execution_count": 10,
     "metadata": {},
     "output_type": "execute_result"
    },
    {
     "name": "stdout",
     "output_type": "stream",
     "text": [
      "3uib_c0\n"
     ]
    },
    {
     "data": {
      "text/plain": [
       "'MNXM2931_c0'"
      ]
     },
     "execution_count": 10,
     "metadata": {},
     "output_type": "execute_result"
    },
    {
     "name": "stdout",
     "output_type": "stream",
     "text": [
      "34dhoxpeg_c0\n"
     ]
    },
    {
     "data": {
      "text/plain": [
       "'MNXM1633_c0'"
      ]
     },
     "execution_count": 10,
     "metadata": {},
     "output_type": "execute_result"
    },
    {
     "name": "stdout",
     "output_type": "stream",
     "text": [
      "34dhmald_c0\n"
     ]
    },
    {
     "data": {
      "text/plain": [
       "'MNXM1222_c0'"
      ]
     },
     "execution_count": 10,
     "metadata": {},
     "output_type": "execute_result"
    },
    {
     "name": "stdout",
     "output_type": "stream",
     "text": [
      "protdt_c0\n"
     ]
    },
    {
     "data": {
      "text/plain": [
       "'MNXM1221_c0'"
      ]
     },
     "execution_count": 10,
     "metadata": {},
     "output_type": "execute_result"
    },
    {
     "name": "stdout",
     "output_type": "stream",
     "text": [
      "protds_c0\n"
     ]
    },
    {
     "data": {
      "text/plain": [
       "'MNXM721_c0'"
      ]
     },
     "execution_count": 10,
     "metadata": {},
     "output_type": "execute_result"
    },
    {
     "name": "stdout",
     "output_type": "stream",
     "text": [
      "man1p_c0\n"
     ]
    },
    {
     "data": {
      "text/plain": [
       "'MNXM1243_c0'"
      ]
     },
     "execution_count": 10,
     "metadata": {},
     "output_type": "execute_result"
    },
    {
     "name": "stdout",
     "output_type": "stream",
     "text": [
      "Ncbmpts_c0\n"
     ]
    },
    {
     "data": {
      "text/plain": [
       "'MNXM1648_c0'"
      ]
     },
     "execution_count": 10,
     "metadata": {},
     "output_type": "execute_result"
    },
    {
     "name": "stdout",
     "output_type": "stream",
     "text": [
      "adphep_DD_c0\n"
     ]
    },
    {
     "data": {
      "text/plain": [
       "'MNXM241_c0'"
      ]
     },
     "execution_count": 10,
     "metadata": {},
     "output_type": "execute_result"
    },
    {
     "name": "stdout",
     "output_type": "stream",
     "text": [
      "glcur_c0\n"
     ]
    },
    {
     "data": {
      "text/plain": [
       "'MNXM1660_c0'"
      ]
     },
     "execution_count": 10,
     "metadata": {},
     "output_type": "execute_result"
    },
    {
     "name": "stdout",
     "output_type": "stream",
     "text": [
      "fruur_c0\n"
     ]
    },
    {
     "data": {
      "text/plain": [
       "'MNXM292_c0'"
      ]
     },
     "execution_count": 10,
     "metadata": {},
     "output_type": "execute_result"
    },
    {
     "name": "stdout",
     "output_type": "stream",
     "text": [
      "sql_c0\n"
     ]
    },
    {
     "data": {
      "text/plain": [
       "'MNXM3382_c0'"
      ]
     },
     "execution_count": 10,
     "metadata": {},
     "output_type": "execute_result"
    },
    {
     "name": "stdout",
     "output_type": "stream",
     "text": [
      "pta_c0\n"
     ]
    },
    {
     "data": {
      "text/plain": [
       "'MNXM322_e0'"
      ]
     },
     "execution_count": 10,
     "metadata": {},
     "output_type": "execute_result"
    },
    {
     "name": "stdout",
     "output_type": "stream",
     "text": [
      "thm_e0\n"
     ]
    },
    {
     "data": {
      "text/plain": [
       "'MNXM1253_c0'"
      ]
     },
     "execution_count": 10,
     "metadata": {},
     "output_type": "execute_result"
    },
    {
     "name": "stdout",
     "output_type": "stream",
     "text": [
      "lgt__S_c0\n"
     ]
    },
    {
     "data": {
      "text/plain": [
       "'MNXM1178_c0'"
      ]
     },
     "execution_count": 10,
     "metadata": {},
     "output_type": "execute_result"
    },
    {
     "name": "stdout",
     "output_type": "stream",
     "text": [
      "5aprbu_c0\n"
     ]
    },
    {
     "data": {
      "text/plain": [
       "'MNXM3414_c0'"
      ]
     },
     "execution_count": 10,
     "metadata": {},
     "output_type": "execute_result"
    },
    {
     "name": "stdout",
     "output_type": "stream",
     "text": [
      "2amac_c0\n"
     ]
    },
    {
     "data": {
      "text/plain": [
       "'MNXM716_c0'"
      ]
     },
     "execution_count": 10,
     "metadata": {},
     "output_type": "execute_result"
    },
    {
     "name": "stdout",
     "output_type": "stream",
     "text": [
      "3oxoadp_c0\n"
     ]
    },
    {
     "data": {
      "text/plain": [
       "'MNXM127_e0'"
      ]
     },
     "execution_count": 10,
     "metadata": {},
     "output_type": "execute_result"
    },
    {
     "name": "stdout",
     "output_type": "stream",
     "text": [
      "inost_e0\n"
     ]
    },
    {
     "data": {
      "text/plain": [
       "'MNXM112_c0'"
      ]
     },
     "execution_count": 10,
     "metadata": {},
     "output_type": "execute_result"
    },
    {
     "name": "stdout",
     "output_type": "stream",
     "text": [
      "gal_bD_c0\n"
     ]
    },
    {
     "data": {
      "text/plain": [
       "'MNXM61025_c0'"
      ]
     },
     "execution_count": 10,
     "metadata": {},
     "output_type": "execute_result"
    },
    {
     "name": "stdout",
     "output_type": "stream",
     "text": [
      "malthp_c0\n"
     ]
    },
    {
     "data": {
      "text/plain": [
       "'MNXM13_e0'"
      ]
     },
     "execution_count": 10,
     "metadata": {},
     "output_type": "execute_result"
    },
    {
     "name": "stdout",
     "output_type": "stream",
     "text": [
      "co2_e0\n"
     ]
    },
    {
     "data": {
      "text/plain": [
       "'MNXM915_c0'"
      ]
     },
     "execution_count": 10,
     "metadata": {},
     "output_type": "execute_result"
    },
    {
     "name": "stdout",
     "output_type": "stream",
     "text": [
      "5forthf_c0\n"
     ]
    },
    {
     "data": {
      "text/plain": [
       "'MNXM559_c0'"
      ]
     },
     "execution_count": 10,
     "metadata": {},
     "output_type": "execute_result"
    },
    {
     "name": "stdout",
     "output_type": "stream",
     "text": [
      "3dsphgn_c0\n"
     ]
    },
    {
     "data": {
      "text/plain": [
       "'MNXM4968_c0'"
      ]
     },
     "execution_count": 10,
     "metadata": {},
     "output_type": "execute_result"
    },
    {
     "name": "stdout",
     "output_type": "stream",
     "text": [
      "2hbut_c0\n"
     ]
    },
    {
     "data": {
      "text/plain": [
       "'MNXM61111_c0'"
      ]
     },
     "execution_count": 10,
     "metadata": {},
     "output_type": "execute_result"
    },
    {
     "name": "stdout",
     "output_type": "stream",
     "text": [
      "mnt_c0\n"
     ]
    },
    {
     "data": {
      "text/plain": [
       "'MNXM2255_c0'"
      ]
     },
     "execution_count": 10,
     "metadata": {},
     "output_type": "execute_result"
    },
    {
     "name": "stdout",
     "output_type": "stream",
     "text": [
      "mn2_c0\n"
     ]
    },
    {
     "data": {
      "text/plain": [
       "'MNXM47647_c0'"
      ]
     },
     "execution_count": 10,
     "metadata": {},
     "output_type": "execute_result"
    },
    {
     "name": "stdout",
     "output_type": "stream",
     "text": [
      "colipa_c0\n"
     ]
    },
    {
     "data": {
      "text/plain": [
       "'MNXM128_c0'"
      ]
     },
     "execution_count": 10,
     "metadata": {},
     "output_type": "execute_result"
    },
    {
     "name": "stdout",
     "output_type": "stream",
     "text": [
      "ca2_c0\n"
     ]
    },
    {
     "data": {
      "text/plain": [
       "'MNXM1206_c0'"
      ]
     },
     "execution_count": 10,
     "metadata": {},
     "output_type": "execute_result"
    },
    {
     "name": "stdout",
     "output_type": "stream",
     "text": [
      "kdolipid4_c0\n"
     ]
    },
    {
     "data": {
      "text/plain": [
       "'MNXM43_e0'"
      ]
     },
     "execution_count": 10,
     "metadata": {},
     "output_type": "execute_result"
    },
    {
     "name": "stdout",
     "output_type": "stream",
     "text": [
      "cl_e0\n"
     ]
    },
    {
     "data": {
      "text/plain": [
       "'MNXM669_c0'"
      ]
     },
     "execution_count": 10,
     "metadata": {},
     "output_type": "execute_result"
    },
    {
     "name": "stdout",
     "output_type": "stream",
     "text": [
      "diala__L_c0\n"
     ]
    },
    {
     "data": {
      "text/plain": [
       "'MNXM55194_c0'"
      ]
     },
     "execution_count": 10,
     "metadata": {},
     "output_type": "execute_result"
    },
    {
     "name": "stdout",
     "output_type": "stream",
     "text": [
      "gicolipa_c0\n"
     ]
    },
    {
     "data": {
      "text/plain": [
       "'MNXM55192_c0'"
      ]
     },
     "execution_count": 10,
     "metadata": {},
     "output_type": "execute_result"
    },
    {
     "name": "stdout",
     "output_type": "stream",
     "text": [
      "ggagicolipa_c0\n"
     ]
    },
    {
     "data": {
      "text/plain": [
       "'MNXM55193_c0'"
      ]
     },
     "execution_count": 10,
     "metadata": {},
     "output_type": "execute_result"
    },
    {
     "name": "stdout",
     "output_type": "stream",
     "text": [
      "gggagicolipa_c0\n"
     ]
    },
    {
     "data": {
      "text/plain": [
       "'MNXM17114_c0'"
      ]
     },
     "execution_count": 10,
     "metadata": {},
     "output_type": "execute_result"
    },
    {
     "name": "stdout",
     "output_type": "stream",
     "text": [
      "gmhep7p_c0\n"
     ]
    },
    {
     "data": {
      "text/plain": [
       "'MNXM54163_c0'"
      ]
     },
     "execution_count": 10,
     "metadata": {},
     "output_type": "execute_result"
    },
    {
     "name": "stdout",
     "output_type": "stream",
     "text": [
      "gagicolipa_c0\n"
     ]
    },
    {
     "data": {
      "text/plain": [
       "'MNXM75132_c0'"
      ]
     },
     "execution_count": 10,
     "metadata": {},
     "output_type": "execute_result"
    },
    {
     "name": "stdout",
     "output_type": "stream",
     "text": [
      "phhlipa_c0\n"
     ]
    },
    {
     "data": {
      "text/plain": [
       "'MNXM56168_c0'"
      ]
     },
     "execution_count": 10,
     "metadata": {},
     "output_type": "execute_result"
    },
    {
     "name": "stdout",
     "output_type": "stream",
     "text": [
      "hphhlipa_c0\n"
     ]
    },
    {
     "data": {
      "text/plain": [
       "'MNXM75133_c0'"
      ]
     },
     "execution_count": 10,
     "metadata": {},
     "output_type": "execute_result"
    },
    {
     "name": "stdout",
     "output_type": "stream",
     "text": [
      "phphhlipa_c0\n"
     ]
    },
    {
     "data": {
      "text/plain": [
       "'MNXM128_e0'"
      ]
     },
     "execution_count": 10,
     "metadata": {},
     "output_type": "execute_result"
    },
    {
     "name": "stdout",
     "output_type": "stream",
     "text": [
      "ca2_e0\n"
     ]
    },
    {
     "data": {
      "text/plain": [
       "'MNXM58984_c0'"
      ]
     },
     "execution_count": 10,
     "metadata": {},
     "output_type": "execute_result"
    },
    {
     "name": "stdout",
     "output_type": "stream",
     "text": [
      "kphphhlipa_c0\n"
     ]
    },
    {
     "data": {
      "text/plain": [
       "'MNXM2255_e0'"
      ]
     },
     "execution_count": 10,
     "metadata": {},
     "output_type": "execute_result"
    },
    {
     "name": "stdout",
     "output_type": "stream",
     "text": [
      "mn2_e0\n"
     ]
    }
   ],
   "source": [
    "for met in model.metabolites:\n",
    "    \n",
    "    if \"bigg.metabolite\" not in met.annotation.keys():\n",
    "        continue\n",
    "    if met.id in [\"cpd00261_c0\", \"cpd06227_c0\", \"cpd03572_c0\", \"cpd02446_c0\",\"cpd02572_c0\", \"cpd01466_c0\" ]:\n",
    "        pass\n",
    "    else:    \n",
    "    #if met.id.startswith('cpd'):\n",
    "        split, compartment=met.id.split(\"_\")\n",
    "        met.id\n",
    "    \n",
    "        met.id=met.annotation['bigg.metabolite']+ '_' + compartment\n",
    "        model.repair()\n",
    "        print(met.id)"
   ]
  },
  {
   "cell_type": "markdown",
   "metadata": {},
   "source": [
    "### Save draft with mapped Bigg IDs"
   ]
  },
  {
   "cell_type": "code",
   "execution_count": 11,
   "metadata": {},
   "outputs": [],
   "source": [
    "#write_sbml_model(model, \"/Users/lizrad/Dev/iVnat/iVnat.xml\")"
   ]
  }
 ],
 "metadata": {
  "kernelspec": {
   "display_name": "Python (vibrio)",
   "language": "python",
   "name": "vibrio"
  },
  "language_info": {
   "codemirror_mode": {
    "name": "ipython",
    "version": 3
   },
   "file_extension": ".py",
   "mimetype": "text/x-python",
   "name": "python",
   "nbconvert_exporter": "python",
   "pygments_lexer": "ipython3",
   "version": "3.6.6"
  }
 },
 "nbformat": 4,
 "nbformat_minor": 2
}
