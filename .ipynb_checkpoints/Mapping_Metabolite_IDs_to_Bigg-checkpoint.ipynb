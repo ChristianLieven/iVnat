{
 "cells": [
  {
   "cell_type": "code",
   "execution_count": 2,
   "metadata": {},
   "outputs": [],
   "source": [
    "from pandas import read_csv, DataFrame\n",
    "import pandas as pd\n",
    "import os\n",
    "import re #Both patterns and strings to be searched can be Unicode strings as well as 8-bit strings.\n",
    "import math\n",
    "import cobra\n",
    "import cobra.test\n",
    "from __future__ import print_function\n",
    "from os.path import join\n",
    "from cobra.io import write_sbml_model"
   ]
  },
  {
   "cell_type": "code",
   "execution_count": 11,
   "metadata": {},
   "outputs": [],
   "source": [
    "from IPython.core.interactiveshell import InteractiveShell\n",
    "\n",
    "InteractiveShell.ast_node_interactivity = \"all\""
   ]
  },
  {
   "cell_type": "code",
   "execution_count": null,
   "metadata": {},
   "outputs": [],
   "source": [
    "data_dir = \"/Users/lizrad/Dev/iVnat\"\n",
    "print(\"files found: \")\n",
    "print(\", \".join(i for i in os.listdir(data_dir) if i.startswith(\"iVnat\")))\n",
    "model=cobra.io.read_sbml_model(join(data_dir, \"iVnat.xml\"))\n",
    "#model=cobra.io.read_legacy_sbml(\"C:\\\\Users\\Asus\\Documents\\Vibrio_project_literature\\GCF_001456255.1_rast_metabolic_model.SBML\\GCF_001456255.1_rast_metabolic_model.xml\")\n",
    "model"
   ]
  },
  {
   "cell_type": "markdown",
   "metadata": {},
   "source": [
    "### Read chem_xref"
   ]
  },
  {
   "cell_type": "code",
   "execution_count": null,
   "metadata": {},
   "outputs": [],
   "source": [
    "chem_xref = read_csv(\"/Users/lizrad/Dev/iVnat/chem_xref.tsv\" , sep='\\t' , low_memory=False)\n",
    "chem_xref"
   ]
  },
  {
   "cell_type": "markdown",
   "metadata": {},
   "source": [
    "### Bigg IDs to dict key"
   ]
  },
  {
   "cell_type": "code",
   "execution_count": null,
   "metadata": {},
   "outputs": [],
   "source": [
    "df_bigg = chem_xref.loc[2:10216,'XREF':'MNX_ID']\n",
    "pivoted_bigg = df_bigg.pivot_table(index='XREF',columns='XREF_ID',values='MNX_ID',aggfunc = lambda x: x)\n",
    "pivoted_bigg\n",
    "#pivoted_bigg=pivoted_bigg.drop(['metanetx'])\n",
    "chem_xref_MNX_bigg_dict = pivoted_bigg.to_dict('index')\n",
    "chem_xref_MNX_bigg_dict2 = chem_xref_MNX_bigg_dict['bigg']\n",
    "chem_xref_MNX_bigg_dict2"
   ]
  },
  {
   "cell_type": "markdown",
   "metadata": {},
   "source": [
    "### Bigg IDs to annotation field"
   ]
  },
  {
   "cell_type": "code",
   "execution_count": null,
   "metadata": {},
   "outputs": [],
   "source": [
    "for met in model.metabolites:\n",
    "    data=''\n",
    "    if 'metanetx.chemical' in met.annotation:\n",
    "        data=met.annotation['metanetx.chemical'] \n",
    "        \n",
    "        for xref in chem_xref_MNX_bigg_dict2.keys():\n",
    "            if chem_xref_MNX_bigg_dict2[xref]==data:\n",
    "                met.annotation['bigg.metabolite']=xref\n",
    "                print(met.annotation)"
   ]
  },
  {
   "cell_type": "markdown",
   "metadata": {},
   "source": [
    "\n",
    "### Check for multiplicatives among the Bigg IDs"
   ]
  },
  {
   "cell_type": "code",
   "execution_count": null,
   "metadata": {},
   "outputs": [],
   "source": [
    "dupl_bigg = {}\n",
    "for met in model.metabolites:\n",
    "    if \"bigg.metabolite\" not in met.annotation.keys():\n",
    "        continue\n",
    "    if met.id in [\"cpd00261_c0\", \"cpd06227_c0\", \"cpd03572_c0\", \"cpd02446_c0\",\"cpd02572_c0\", \"cpd01466_c0\" ]:\n",
    "        pass\n",
    "    else:    \n",
    "        if met.annotation[\"bigg.metabolite\"] not in dupl_bigg.keys():\n",
    "            dupl_bigg.setdefault(met.annotation[\"bigg.metabolite\"],[met.id])\n",
    "        else:\n",
    "            dupl_bigg[met.annotation[\"bigg.metabolite\"]].append(met.id)"
   ]
  },
  {
   "cell_type": "code",
   "execution_count": null,
   "metadata": {},
   "outputs": [],
   "source": [
    "for ls in dupl_bigg.values():\n",
    "    if len(ls) > 1:\n",
    "        print(ls)"
   ]
  },
  {
   "cell_type": "code",
   "execution_count": null,
   "metadata": {},
   "outputs": [],
   "source": [
    "for ls in dupl_bigg.values():\n",
    "    if len(ls) > 1:\n",
    "        #print(ls)\n",
    "        x=[]\n",
    "        y=[]\n",
    "        for members in ls: \n",
    "            main_id, comp =members.split(\"_\")\n",
    "            x.append(main_id)\n",
    "            y.append(comp)\n",
    "        if not x[0]==x[1]:\n",
    "            print(x,y)\n",
    "            for pair in zip(x,y):\n",
    "                print(len(model.metabolites.get_by_id(pair[0]+\"_\"+pair[1]).reactions))"
   ]
  },
  {
   "cell_type": "markdown",
   "metadata": {},
   "source": [
    "### Change the MNXM IDs to Bigg IDs"
   ]
  },
  {
   "cell_type": "code",
   "execution_count": 6,
   "metadata": {},
   "outputs": [
    {
     "name": "stdout",
     "output_type": "stream",
     "text": [
      "files found: \n",
      "iVnat_newbigg.xml, iVnatReport.html, iVnat_gapfill_glu.xml, iVnat_20180817.xml\n"
     ]
    },
    {
     "data": {
      "text/html": [
       "\n",
       "        <table>\n",
       "            <tr>\n",
       "                <td><strong>Name</strong></td>\n",
       "                <td>GCF_001456255_1_rast_metabolic_model</td>\n",
       "            </tr><tr>\n",
       "                <td><strong>Memory address</strong></td>\n",
       "                <td>0x010bbecc50</td>\n",
       "            </tr><tr>\n",
       "                <td><strong>Number of metabolites</strong></td>\n",
       "                <td>1842</td>\n",
       "            </tr><tr>\n",
       "                <td><strong>Number of reactions</strong></td>\n",
       "                <td>1906</td>\n",
       "            </tr><tr>\n",
       "                <td><strong>Objective expression</strong></td>\n",
       "                <td>-1.0*bio1_reverse_b18f7 + 1.0*bio1</td>\n",
       "            </tr><tr>\n",
       "                <td><strong>Compartments</strong></td>\n",
       "                <td>Cytosol_0, Extracellular_0</td>\n",
       "            </tr>\n",
       "          </table>"
      ],
      "text/plain": [
       "<Model GCF_001456255_1_rast_metabolic_model at 0x10bbecc50>"
      ]
     },
     "execution_count": 6,
     "metadata": {},
     "output_type": "execute_result"
    }
   ],
   "source": [
    "data_dir = \"/Users/lizrad/Documents/Vibrio_folder\"\n",
    "print(\"files found: \")\n",
    "print(\", \".join(i for i in os.listdir(data_dir) if i.startswith(\"iVnat\")))\n",
    "model_new=cobra.io.read_sbml_model(join(data_dir, \"iVnat_newbigg.xml\"))\n",
    "#model=cobra.io.read_legacy_sbml(\"C:\\\\Users\\Asus\\Documents\\Vibrio_project_literature\\GCF_001456255.1_rast_metabolic_model.SBML\\GCF_001456255.1_rast_metabolic_model.xml\")\n",
    "model_new"
   ]
  },
  {
   "cell_type": "markdown",
   "metadata": {},
   "source": [
    "just choosing the first bigg id from the list (not ideal!!!!)\n",
    "\n",
    "there are 63 metabolites which have multiple bigg id "
   ]
  },
  {
   "cell_type": "code",
   "execution_count": 13,
   "metadata": {},
   "outputs": [
    {
     "name": "stdout",
     "output_type": "stream",
     "text": [
      "4abz_c0\n",
      "4abz_c0\n"
     ]
    },
    {
     "data": {
      "text/plain": [
       "'4abz'"
      ]
     },
     "execution_count": 13,
     "metadata": {},
     "output_type": "execute_result"
    },
    {
     "name": "stdout",
     "output_type": "stream",
     "text": [
      "2ahhmd_c0\n",
      "whole annotation: ['2ahhmd', '6hmhptpp']\n",
      "2ahhmd_c0\n"
     ]
    },
    {
     "data": {
      "text/plain": [
       "['2ahhmd', '6hmhptpp']"
      ]
     },
     "execution_count": 13,
     "metadata": {},
     "output_type": "execute_result"
    },
    {
     "name": "stdout",
     "output_type": "stream",
     "text": [
      "ppi_c0\n",
      "ppi_c0\n"
     ]
    },
    {
     "data": {
      "text/plain": [
       "'ppi'"
      ]
     },
     "execution_count": 13,
     "metadata": {},
     "output_type": "execute_result"
    },
    {
     "name": "stdout",
     "output_type": "stream",
     "text": [
      "h_c0\n",
      "h_c0\n"
     ]
    },
    {
     "data": {
      "text/plain": [
       "'h'"
      ]
     },
     "execution_count": 13,
     "metadata": {},
     "output_type": "execute_result"
    },
    {
     "name": "stdout",
     "output_type": "stream",
     "text": [
      "dhpt_c0\n",
      "dhpt_c0\n"
     ]
    },
    {
     "data": {
      "text/plain": [
       "'dhpt'"
      ]
     },
     "execution_count": 13,
     "metadata": {},
     "output_type": "execute_result"
    },
    {
     "name": "stdout",
     "output_type": "stream",
     "text": [
      "atp_c0\n",
      "atp_c0\n"
     ]
    },
    {
     "data": {
      "text/plain": [
       "'atp'"
      ]
     },
     "execution_count": 13,
     "metadata": {},
     "output_type": "execute_result"
    },
    {
     "name": "stdout",
     "output_type": "stream",
     "text": [
      "gly_c0\n",
      "gly_c0\n"
     ]
    },
    {
     "data": {
      "text/plain": [
       "'gly'"
      ]
     },
     "execution_count": 13,
     "metadata": {},
     "output_type": "execute_result"
    },
    {
     "name": "stdout",
     "output_type": "stream",
     "text": [
      "glucys_c0\n",
      "glucys_c0\n"
     ]
    },
    {
     "data": {
      "text/plain": [
       "'glucys'"
      ]
     },
     "execution_count": 13,
     "metadata": {},
     "output_type": "execute_result"
    },
    {
     "name": "stdout",
     "output_type": "stream",
     "text": [
      "adp_c0\n",
      "adp_c0\n"
     ]
    },
    {
     "data": {
      "text/plain": [
       "'adp'"
      ]
     },
     "execution_count": 13,
     "metadata": {},
     "output_type": "execute_result"
    },
    {
     "name": "stdout",
     "output_type": "stream",
     "text": [
      "pi_c0\n",
      "pi_c0\n"
     ]
    },
    {
     "data": {
      "text/plain": [
       "'pi'"
      ]
     },
     "execution_count": 13,
     "metadata": {},
     "output_type": "execute_result"
    },
    {
     "name": "stdout",
     "output_type": "stream",
     "text": [
      "gthrd_c0\n",
      "gthrd_c0\n"
     ]
    },
    {
     "data": {
      "text/plain": [
       "'gthrd'"
      ]
     },
     "execution_count": 13,
     "metadata": {},
     "output_type": "execute_result"
    },
    {
     "name": "stdout",
     "output_type": "stream",
     "text": [
      "lpam_c0\n",
      "lpam_c0\n"
     ]
    },
    {
     "data": {
      "text/plain": [
       "'lpam'"
      ]
     },
     "execution_count": 13,
     "metadata": {},
     "output_type": "execute_result"
    },
    {
     "name": "stdout",
     "output_type": "stream",
     "text": [
      "2mhop_c0\n",
      "2mhop_c0\n"
     ]
    },
    {
     "data": {
      "text/plain": [
       "'2mhop'"
      ]
     },
     "execution_count": 13,
     "metadata": {},
     "output_type": "execute_result"
    },
    {
     "name": "stdout",
     "output_type": "stream",
     "text": [
      "thmpp_c0\n",
      "thmpp_c0\n"
     ]
    },
    {
     "data": {
      "text/plain": [
       "'thmpp'"
      ]
     },
     "execution_count": 13,
     "metadata": {},
     "output_type": "execute_result"
    },
    {
     "name": "stdout",
     "output_type": "stream",
     "text": [
      "2mpdhl_c0\n",
      "2mpdhl_c0\n"
     ]
    },
    {
     "data": {
      "text/plain": [
       "'2mpdhl'"
      ]
     },
     "execution_count": 13,
     "metadata": {},
     "output_type": "execute_result"
    },
    {
     "name": "stdout",
     "output_type": "stream",
     "text": [
      "imp_c0\n",
      "imp_c0\n"
     ]
    },
    {
     "data": {
      "text/plain": [
       "'imp'"
      ]
     },
     "execution_count": 13,
     "metadata": {},
     "output_type": "execute_result"
    },
    {
     "name": "stdout",
     "output_type": "stream",
     "text": [
      "prpp_c0\n",
      "prpp_c0\n"
     ]
    },
    {
     "data": {
      "text/plain": [
       "'prpp'"
      ]
     },
     "execution_count": 13,
     "metadata": {},
     "output_type": "execute_result"
    },
    {
     "name": "stdout",
     "output_type": "stream",
     "text": [
      "hxan_c0\n",
      "hxan_c0\n"
     ]
    },
    {
     "data": {
      "text/plain": [
       "'hxan'"
      ]
     },
     "execution_count": 13,
     "metadata": {},
     "output_type": "execute_result"
    },
    {
     "name": "stdout",
     "output_type": "stream",
     "text": [
      "nad_c0\n",
      "nad_c0\n"
     ]
    },
    {
     "data": {
      "text/plain": [
       "'nad'"
      ]
     },
     "execution_count": 13,
     "metadata": {},
     "output_type": "execute_result"
    },
    {
     "name": "stdout",
     "output_type": "stream",
     "text": [
      "12ppd__R_c0\n",
      "12ppd__R_c0\n"
     ]
    },
    {
     "data": {
      "text/plain": [
       "'12ppd__R'"
      ]
     },
     "execution_count": 13,
     "metadata": {},
     "output_type": "execute_result"
    },
    {
     "name": "stdout",
     "output_type": "stream",
     "text": [
      "nadh_c0\n",
      "nadh_c0\n"
     ]
    },
    {
     "data": {
      "text/plain": [
       "'nadh'"
      ]
     },
     "execution_count": 13,
     "metadata": {},
     "output_type": "execute_result"
    },
    {
     "name": "stdout",
     "output_type": "stream",
     "text": [
      "lald__D_c0\n",
      "lald__D_c0\n"
     ]
    },
    {
     "data": {
      "text/plain": [
       "'lald__D'"
      ]
     },
     "execution_count": 13,
     "metadata": {},
     "output_type": "execute_result"
    },
    {
     "name": "stdout",
     "output_type": "stream",
     "text": [
      "h2o_c0\n",
      "whole annotation: ['h2o', 'oh1']\n",
      "h2o_c0\n"
     ]
    },
    {
     "data": {
      "text/plain": [
       "['h2o', 'oh1']"
      ]
     },
     "execution_count": 13,
     "metadata": {},
     "output_type": "execute_result"
    },
    {
     "name": "stdout",
     "output_type": "stream",
     "text": [
      "CPD-576_c0\n",
      "CE1787_c0\n",
      "whole annotation: ['CE1787', 'CE5868', 'asp__L']\n",
      "CE1787_c0\n"
     ]
    },
    {
     "data": {
      "text/plain": [
       "['CE1787', 'CE5868', 'asp__L']"
      ]
     },
     "execution_count": 13,
     "metadata": {},
     "output_type": "execute_result"
    },
    {
     "name": "stdout",
     "output_type": "stream",
     "text": [
      "Carboxylates_c0\n",
      "amet_c0\n",
      "amet_c0\n"
     ]
    },
    {
     "data": {
      "text/plain": [
       "'amet'"
      ]
     },
     "execution_count": 13,
     "metadata": {},
     "output_type": "execute_result"
    },
    {
     "name": "stdout",
     "output_type": "stream",
     "text": [
      "s_c0\n",
      "s_c0\n"
     ]
    },
    {
     "data": {
      "text/plain": [
       "'s'"
      ]
     },
     "execution_count": 13,
     "metadata": {},
     "output_type": "execute_result"
    },
    {
     "name": "stdout",
     "output_type": "stream",
     "text": [
      "dtbt_c0\n",
      "dtbt_c0\n"
     ]
    },
    {
     "data": {
      "text/plain": [
       "'dtbt'"
      ]
     },
     "execution_count": 13,
     "metadata": {},
     "output_type": "execute_result"
    },
    {
     "name": "stdout",
     "output_type": "stream",
     "text": [
      "met__L_c0\n",
      "met__L_c0\n"
     ]
    },
    {
     "data": {
      "text/plain": [
       "'met__L'"
      ]
     },
     "execution_count": 13,
     "metadata": {},
     "output_type": "execute_result"
    },
    {
     "name": "stdout",
     "output_type": "stream",
     "text": [
      "btn_c0\n",
      "btn_c0\n"
     ]
    },
    {
     "data": {
      "text/plain": [
       "'btn'"
      ]
     },
     "execution_count": 13,
     "metadata": {},
     "output_type": "execute_result"
    },
    {
     "name": "stdout",
     "output_type": "stream",
     "text": [
      "dad_5_c0\n",
      "dad_5_c0\n"
     ]
    },
    {
     "data": {
      "text/plain": [
       "'dad_5'"
      ]
     },
     "execution_count": 13,
     "metadata": {},
     "output_type": "execute_result"
    },
    {
     "name": "stdout",
     "output_type": "stream",
     "text": [
      "h_e0\n",
      "h_e0\n"
     ]
    },
    {
     "data": {
      "text/plain": [
       "'h'"
      ]
     },
     "execution_count": 13,
     "metadata": {},
     "output_type": "execute_result"
    },
    {
     "name": "stdout",
     "output_type": "stream",
     "text": [
      "adn_e0\n",
      "adn_e0\n"
     ]
    },
    {
     "data": {
      "text/plain": [
       "'adn'"
      ]
     },
     "execution_count": 13,
     "metadata": {},
     "output_type": "execute_result"
    },
    {
     "name": "stdout",
     "output_type": "stream",
     "text": [
      "adn_c0\n",
      "adn_c0\n"
     ]
    },
    {
     "data": {
      "text/plain": [
       "'adn'"
      ]
     },
     "execution_count": 13,
     "metadata": {},
     "output_type": "execute_result"
    },
    {
     "name": "stdout",
     "output_type": "stream",
     "text": [
      "5-L-GLUTAMYL-L-AMINO-ACID_c0\n",
      "5oxpro_c0\n",
      "5oxpro_c0\n"
     ]
    },
    {
     "data": {
      "text/plain": [
       "'5oxpro'"
      ]
     },
     "execution_count": 13,
     "metadata": {},
     "output_type": "execute_result"
    },
    {
     "name": "stdout",
     "output_type": "stream",
     "text": [
      "L-Amino-Acids_c0\n",
      "Lactosyl-Ceramides_c0\n",
      "gal_c0\n",
      "gal_c0\n"
     ]
    },
    {
     "data": {
      "text/plain": [
       "'gal'"
      ]
     },
     "execution_count": 13,
     "metadata": {},
     "output_type": "execute_result"
    },
    {
     "name": "stdout",
     "output_type": "stream",
     "text": [
      "gluside_cho_c0\n",
      "gluside_cho_c0\n"
     ]
    },
    {
     "data": {
      "text/plain": [
       "'gluside_cho'"
      ]
     },
     "execution_count": 13,
     "metadata": {},
     "output_type": "execute_result"
    },
    {
     "name": "stdout",
     "output_type": "stream",
     "text": [
      "accoa_c0\n",
      "accoa_c0\n"
     ]
    },
    {
     "data": {
      "text/plain": [
       "'accoa'"
      ]
     },
     "execution_count": 13,
     "metadata": {},
     "output_type": "execute_result"
    },
    {
     "name": "stdout",
     "output_type": "stream",
     "text": [
      "ser__L_c0\n",
      "ser__L_c0\n"
     ]
    },
    {
     "data": {
      "text/plain": [
       "'ser__L'"
      ]
     },
     "execution_count": 13,
     "metadata": {},
     "output_type": "execute_result"
    },
    {
     "name": "stdout",
     "output_type": "stream",
     "text": [
      "coa_c0\n",
      "coa_c0\n"
     ]
    },
    {
     "data": {
      "text/plain": [
       "'coa'"
      ]
     },
     "execution_count": 13,
     "metadata": {},
     "output_type": "execute_result"
    },
    {
     "name": "stdout",
     "output_type": "stream",
     "text": [
      "acser_c0\n",
      "acser_c0\n"
     ]
    },
    {
     "data": {
      "text/plain": [
       "'acser'"
      ]
     },
     "execution_count": 13,
     "metadata": {},
     "output_type": "execute_result"
    },
    {
     "name": "stdout",
     "output_type": "stream",
     "text": [
      "cmp_c0\n",
      "cmp_c0\n"
     ]
    },
    {
     "data": {
      "text/plain": [
       "'cmp'"
      ]
     },
     "execution_count": 13,
     "metadata": {},
     "output_type": "execute_result"
    },
    {
     "name": "stdout",
     "output_type": "stream",
     "text": [
      "cdp_c0\n",
      "cdp_c0\n"
     ]
    },
    {
     "data": {
      "text/plain": [
       "'cdp'"
      ]
     },
     "execution_count": 13,
     "metadata": {},
     "output_type": "execute_result"
    },
    {
     "name": "stdout",
     "output_type": "stream",
     "text": [
      "fum_e0\n",
      "fum_e0\n"
     ]
    },
    {
     "data": {
      "text/plain": [
       "'fum'"
      ]
     },
     "execution_count": 13,
     "metadata": {},
     "output_type": "execute_result"
    },
    {
     "name": "stdout",
     "output_type": "stream",
     "text": [
      "fum_c0\n",
      "fum_c0\n"
     ]
    },
    {
     "data": {
      "text/plain": [
       "'fum'"
      ]
     },
     "execution_count": 13,
     "metadata": {},
     "output_type": "execute_result"
    },
    {
     "name": "stdout",
     "output_type": "stream",
     "text": [
      "uacgam_c0\n",
      "uacgam_c0\n"
     ]
    },
    {
     "data": {
      "text/plain": [
       "'uacgam'"
      ]
     },
     "execution_count": 13,
     "metadata": {},
     "output_type": "execute_result"
    },
    {
     "name": "stdout",
     "output_type": "stream",
     "text": [
      "uagmda_c0\n",
      "uagmda_c0\n"
     ]
    },
    {
     "data": {
      "text/plain": [
       "'uagmda'"
      ]
     },
     "execution_count": 13,
     "metadata": {},
     "output_type": "execute_result"
    },
    {
     "name": "stdout",
     "output_type": "stream",
     "text": [
      "udp_c0\n",
      "udp_c0\n"
     ]
    },
    {
     "data": {
      "text/plain": [
       "'udp'"
      ]
     },
     "execution_count": 13,
     "metadata": {},
     "output_type": "execute_result"
    },
    {
     "name": "stdout",
     "output_type": "stream",
     "text": [
      "uaagmda_c0\n",
      "uaagmda_c0\n"
     ]
    },
    {
     "data": {
      "text/plain": [
       "'uaagmda'"
      ]
     },
     "execution_count": 13,
     "metadata": {},
     "output_type": "execute_result"
    },
    {
     "name": "stdout",
     "output_type": "stream",
     "text": [
      "ichor_c0\n",
      "ichor_c0\n"
     ]
    },
    {
     "data": {
      "text/plain": [
       "'ichor'"
      ]
     },
     "execution_count": 13,
     "metadata": {},
     "output_type": "execute_result"
    },
    {
     "name": "stdout",
     "output_type": "stream",
     "text": [
      "pyr_c0\n",
      "pyr_c0\n"
     ]
    },
    {
     "data": {
      "text/plain": [
       "'pyr'"
      ]
     },
     "execution_count": 13,
     "metadata": {},
     "output_type": "execute_result"
    },
    {
     "name": "stdout",
     "output_type": "stream",
     "text": [
      "23ddhb_c0\n",
      "23ddhb_c0\n"
     ]
    },
    {
     "data": {
      "text/plain": [
       "'23ddhb'"
      ]
     },
     "execution_count": 13,
     "metadata": {},
     "output_type": "execute_result"
    },
    {
     "name": "stdout",
     "output_type": "stream",
     "text": [
      "MNXM3273_c0\n",
      "amp_c0\n",
      "amp_c0\n"
     ]
    },
    {
     "data": {
      "text/plain": [
       "'amp'"
      ]
     },
     "execution_count": 13,
     "metadata": {},
     "output_type": "execute_result"
    },
    {
     "name": "stdout",
     "output_type": "stream",
     "text": [
      "MNXM5746_c0\n",
      "glu__L_c0\n",
      "glu__L_c0\n"
     ]
    },
    {
     "data": {
      "text/plain": [
       "'glu__L'"
      ]
     },
     "execution_count": 13,
     "metadata": {},
     "output_type": "execute_result"
    },
    {
     "name": "stdout",
     "output_type": "stream",
     "text": [
      "cys__L_c0\n",
      "cys__L_c0\n"
     ]
    },
    {
     "data": {
      "text/plain": [
       "'cys__L'"
      ]
     },
     "execution_count": 13,
     "metadata": {},
     "output_type": "execute_result"
    },
    {
     "name": "stdout",
     "output_type": "stream",
     "text": [
      "fad_c0\n",
      "fad_c0\n"
     ]
    },
    {
     "data": {
      "text/plain": [
       "'fad'"
      ]
     },
     "execution_count": 13,
     "metadata": {},
     "output_type": "execute_result"
    },
    {
     "name": "stdout",
     "output_type": "stream",
     "text": [
      "mal__L_c0\n",
      "mal__L_c0\n"
     ]
    },
    {
     "data": {
      "text/plain": [
       "'mal__L'"
      ]
     },
     "execution_count": 13,
     "metadata": {},
     "output_type": "execute_result"
    },
    {
     "name": "stdout",
     "output_type": "stream",
     "text": [
      "oaa_c0\n",
      "oaa_c0\n"
     ]
    },
    {
     "data": {
      "text/plain": [
       "'oaa'"
      ]
     },
     "execution_count": 13,
     "metadata": {},
     "output_type": "execute_result"
    },
    {
     "name": "stdout",
     "output_type": "stream",
     "text": [
      "fadh2_c0\n",
      "fadh2_c0\n"
     ]
    },
    {
     "data": {
      "text/plain": [
       "'fadh2'"
      ]
     },
     "execution_count": 13,
     "metadata": {},
     "output_type": "execute_result"
    },
    {
     "name": "stdout",
     "output_type": "stream",
     "text": [
      "dcdp_c0\n",
      "dcdp_c0\n"
     ]
    },
    {
     "data": {
      "text/plain": [
       "'dcdp'"
      ]
     },
     "execution_count": 13,
     "metadata": {},
     "output_type": "execute_result"
    },
    {
     "name": "stdout",
     "output_type": "stream",
     "text": [
      "dctp_c0\n",
      "dctp_c0\n"
     ]
    },
    {
     "data": {
      "text/plain": [
       "'dctp'"
      ]
     },
     "execution_count": 13,
     "metadata": {},
     "output_type": "execute_result"
    },
    {
     "name": "stdout",
     "output_type": "stream",
     "text": [
      "co2_c0\n",
      "co2_c0\n"
     ]
    },
    {
     "data": {
      "text/plain": [
       "'co2'"
      ]
     },
     "execution_count": 13,
     "metadata": {},
     "output_type": "execute_result"
    },
    {
     "name": "stdout",
     "output_type": "stream",
     "text": [
      "pep_c0\n",
      "pep_c0\n"
     ]
    },
    {
     "data": {
      "text/plain": [
       "'pep'"
      ]
     },
     "execution_count": 13,
     "metadata": {},
     "output_type": "execute_result"
    },
    {
     "name": "stdout",
     "output_type": "stream",
     "text": [
      "no2_e0\n",
      "no2_e0\n"
     ]
    },
    {
     "data": {
      "text/plain": [
       "'no2'"
      ]
     },
     "execution_count": 13,
     "metadata": {},
     "output_type": "execute_result"
    },
    {
     "name": "stdout",
     "output_type": "stream",
     "text": [
      "no2_c0\n",
      "no2_c0\n"
     ]
    },
    {
     "data": {
      "text/plain": [
       "'no2'"
      ]
     },
     "execution_count": 13,
     "metadata": {},
     "output_type": "execute_result"
    },
    {
     "name": "stdout",
     "output_type": "stream",
     "text": [
      "4hpro_LT_c0\n",
      "4hpro_LT_c0\n"
     ]
    },
    {
     "data": {
      "text/plain": [
       "'4hpro_LT'"
      ]
     },
     "execution_count": 13,
     "metadata": {},
     "output_type": "execute_result"
    },
    {
     "name": "stdout",
     "output_type": "stream",
     "text": [
      "CIS-4-HYDROXY-D-PROLINE_c0\n",
      "2ahethmpp_c0\n",
      "2ahethmpp_c0\n"
     ]
    },
    {
     "data": {
      "text/plain": [
       "'2ahethmpp'"
      ]
     },
     "execution_count": 13,
     "metadata": {},
     "output_type": "execute_result"
    },
    {
     "name": "stdout",
     "output_type": "stream",
     "text": [
      "HC00682_c0\n",
      "whole annotation: ['HC00682', 'adhlam']\n",
      "HC00682_c0\n"
     ]
    },
    {
     "data": {
      "text/plain": [
       "['HC00682', 'adhlam']"
      ]
     },
     "execution_count": 13,
     "metadata": {},
     "output_type": "execute_result"
    },
    {
     "name": "stdout",
     "output_type": "stream",
     "text": [
      "MNXM5622_c0\n",
      "MNXM8308_c0\n",
      "orn_e0\n",
      "whole annotation: ['orn', 'orn__L']\n",
      "orn_e0\n"
     ]
    },
    {
     "data": {
      "text/plain": [
       "['orn', 'orn__L']"
      ]
     },
     "execution_count": 13,
     "metadata": {},
     "output_type": "execute_result"
    },
    {
     "name": "stdout",
     "output_type": "stream",
     "text": [
      "orn_c0\n",
      "whole annotation: ['orn', 'orn__L']\n",
      "orn_c0\n"
     ]
    },
    {
     "data": {
      "text/plain": [
       "['orn', 'orn__L']"
      ]
     },
     "execution_count": 13,
     "metadata": {},
     "output_type": "execute_result"
    },
    {
     "name": "stdout",
     "output_type": "stream",
     "text": [
      "malt_c0\n",
      "malt_c0\n"
     ]
    },
    {
     "data": {
      "text/plain": [
       "'malt'"
      ]
     },
     "execution_count": 13,
     "metadata": {},
     "output_type": "execute_result"
    },
    {
     "name": "stdout",
     "output_type": "stream",
     "text": [
      "glc__D_c0\n",
      "whole annotation: ['glc__D', 'glc__bD']\n",
      "glc__D_c0\n"
     ]
    },
    {
     "data": {
      "text/plain": [
       "['glc__D', 'glc__bD']"
      ]
     },
     "execution_count": 13,
     "metadata": {},
     "output_type": "execute_result"
    },
    {
     "name": "stdout",
     "output_type": "stream",
     "text": [
      "cit_c0\n",
      "cit_c0\n"
     ]
    },
    {
     "data": {
      "text/plain": [
       "'cit'"
      ]
     },
     "execution_count": 13,
     "metadata": {},
     "output_type": "execute_result"
    },
    {
     "name": "stdout",
     "output_type": "stream",
     "text": [
      "icit_c0\n",
      "icit_c0\n"
     ]
    },
    {
     "data": {
      "text/plain": [
       "'icit'"
      ]
     },
     "execution_count": 13,
     "metadata": {},
     "output_type": "execute_result"
    },
    {
     "name": "stdout",
     "output_type": "stream",
     "text": [
      "tcynt_c0\n",
      "tcynt_c0\n"
     ]
    },
    {
     "data": {
      "text/plain": [
       "'tcynt'"
      ]
     },
     "execution_count": 13,
     "metadata": {},
     "output_type": "execute_result"
    },
    {
     "name": "stdout",
     "output_type": "stream",
     "text": [
      "nh3_c0\n",
      "whole annotation: ['nh3', 'nh4']\n",
      "nh3_c0\n"
     ]
    },
    {
     "data": {
      "text/plain": [
       "['nh3', 'nh4']"
      ]
     },
     "execution_count": 13,
     "metadata": {},
     "output_type": "execute_result"
    },
    {
     "name": "stdout",
     "output_type": "stream",
     "text": [
      "CARBONYL-SULFIDE_c0\n",
      "dtdp4d6dg_c0\n",
      "dtdp4d6dg_c0\n"
     ]
    },
    {
     "data": {
      "text/plain": [
       "'dtdp4d6dg'"
      ]
     },
     "execution_count": 13,
     "metadata": {},
     "output_type": "execute_result"
    },
    {
     "name": "stdout",
     "output_type": "stream",
     "text": [
      "dtdp4d6dm_c0\n",
      "dtdp4d6dm_c0\n"
     ]
    },
    {
     "data": {
      "text/plain": [
       "'dtdp4d6dm'"
      ]
     },
     "execution_count": 13,
     "metadata": {},
     "output_type": "execute_result"
    },
    {
     "name": "stdout",
     "output_type": "stream",
     "text": [
      "3hhdcoa_c0\n",
      "3hhdcoa_c0\n"
     ]
    },
    {
     "data": {
      "text/plain": [
       "'3hhdcoa'"
      ]
     },
     "execution_count": 13,
     "metadata": {},
     "output_type": "execute_result"
    },
    {
     "name": "stdout",
     "output_type": "stream",
     "text": [
      "3ohdcoa_c0\n",
      "3ohdcoa_c0\n"
     ]
    },
    {
     "data": {
      "text/plain": [
       "'3ohdcoa'"
      ]
     },
     "execution_count": 13,
     "metadata": {},
     "output_type": "execute_result"
    },
    {
     "name": "stdout",
     "output_type": "stream",
     "text": [
      "UDP-APIOSE_c0\n",
      "APIGENIN-7-O-BETA-D-GLUCOSIDE_c0\n",
      "7-O-BETA-D-APIOFURANOSYL-12-BETA-D-GLU_c0\n",
      "CPD-346_c0\n",
      "CPD-255_c0\n",
      "o2_c0\n",
      "o2_c0\n"
     ]
    },
    {
     "data": {
      "text/plain": [
       "'o2'"
      ]
     },
     "execution_count": 13,
     "metadata": {},
     "output_type": "execute_result"
    },
    {
     "name": "stdout",
     "output_type": "stream",
     "text": [
      "3hanthrn_c0\n",
      "3hanthrn_c0\n"
     ]
    },
    {
     "data": {
      "text/plain": [
       "'3hanthrn'"
      ]
     },
     "execution_count": 13,
     "metadata": {},
     "output_type": "execute_result"
    },
    {
     "name": "stdout",
     "output_type": "stream",
     "text": [
      "h2o2_c0\n",
      "h2o2_c0\n"
     ]
    },
    {
     "data": {
      "text/plain": [
       "'h2o2'"
      ]
     },
     "execution_count": 13,
     "metadata": {},
     "output_type": "execute_result"
    },
    {
     "name": "stdout",
     "output_type": "stream",
     "text": [
      "MNXM162331_c0\n",
      "CPD-16175_c0\n",
      "lys__L_c0\n",
      "lys__L_c0\n"
     ]
    },
    {
     "data": {
      "text/plain": [
       "'lys__L'"
      ]
     },
     "execution_count": 13,
     "metadata": {},
     "output_type": "execute_result"
    },
    {
     "name": "stdout",
     "output_type": "stream",
     "text": [
      "15dap_c0\n",
      "15dap_c0\n"
     ]
    },
    {
     "data": {
      "text/plain": [
       "'15dap'"
      ]
     },
     "execution_count": 13,
     "metadata": {},
     "output_type": "execute_result"
    },
    {
     "name": "stdout",
     "output_type": "stream",
     "text": [
      "abt__D_c0\n",
      "abt__D_c0\n"
     ]
    },
    {
     "data": {
      "text/plain": [
       "'abt__D'"
      ]
     },
     "execution_count": 13,
     "metadata": {},
     "output_type": "execute_result"
    },
    {
     "name": "stdout",
     "output_type": "stream",
     "text": [
      "xylu__D_c0\n",
      "whole annotation: ['xylu__D', 'xylu__L']\n",
      "xylu__D_c0\n"
     ]
    },
    {
     "data": {
      "text/plain": [
       "['xylu__D', 'xylu__L']"
      ]
     },
     "execution_count": 13,
     "metadata": {},
     "output_type": "execute_result"
    },
    {
     "name": "stdout",
     "output_type": "stream",
     "text": [
      "cynt_c0\n",
      "cynt_c0\n"
     ]
    },
    {
     "data": {
      "text/plain": [
       "'cynt'"
      ]
     },
     "execution_count": 13,
     "metadata": {},
     "output_type": "execute_result"
    },
    {
     "name": "stdout",
     "output_type": "stream",
     "text": [
      "cbm_c0\n",
      "cbm_c0\n"
     ]
    },
    {
     "data": {
      "text/plain": [
       "'cbm'"
      ]
     },
     "execution_count": 13,
     "metadata": {},
     "output_type": "execute_result"
    },
    {
     "name": "stdout",
     "output_type": "stream",
     "text": [
      "Myristoyl-ACPs_c0\n",
      "tdcoa_c0\n",
      "tdcoa_c0\n"
     ]
    },
    {
     "data": {
      "text/plain": [
       "'tdcoa'"
      ]
     },
     "execution_count": 13,
     "metadata": {},
     "output_type": "execute_result"
    },
    {
     "name": "stdout",
     "output_type": "stream",
     "text": [
      "ACP_c0\n",
      "ACP_c0\n"
     ]
    },
    {
     "data": {
      "text/plain": [
       "'ACP'"
      ]
     },
     "execution_count": 13,
     "metadata": {},
     "output_type": "execute_result"
    },
    {
     "name": "stdout",
     "output_type": "stream",
     "text": [
      "CPD0-1345_c0\n",
      "DEOXY-OH-METHYLCYTIDINE-TRIPHOSPHATE_c0\n",
      "MNXM13081_c0\n",
      "MNXM6454_c0\n",
      "MNXM51417_c0\n",
      "h2_c0\n",
      "h2_c0\n"
     ]
    },
    {
     "data": {
      "text/plain": [
       "'h2'"
      ]
     },
     "execution_count": 13,
     "metadata": {},
     "output_type": "execute_result"
    },
    {
     "name": "stdout",
     "output_type": "stream",
     "text": [
      "q8_c0\n",
      "q8_c0\n"
     ]
    },
    {
     "data": {
      "text/plain": [
       "'q8'"
      ]
     },
     "execution_count": 13,
     "metadata": {},
     "output_type": "execute_result"
    },
    {
     "name": "stdout",
     "output_type": "stream",
     "text": [
      "q8h2_c0\n",
      "q8h2_c0\n"
     ]
    },
    {
     "data": {
      "text/plain": [
       "'q8h2'"
      ]
     },
     "execution_count": 13,
     "metadata": {},
     "output_type": "execute_result"
    },
    {
     "name": "stdout",
     "output_type": "stream",
     "text": [
      "malACP_c0\n",
      "malACP_c0\n"
     ]
    },
    {
     "data": {
      "text/plain": [
       "'malACP'"
      ]
     },
     "execution_count": 13,
     "metadata": {},
     "output_type": "execute_result"
    },
    {
     "name": "stdout",
     "output_type": "stream",
     "text": [
      "MNXM8209_c0\n",
      "MNXM10475_c0\n",
      "octdp_c0\n",
      "octdp_c0\n"
     ]
    },
    {
     "data": {
      "text/plain": [
       "'octdp'"
      ]
     },
     "execution_count": 13,
     "metadata": {},
     "output_type": "execute_result"
    },
    {
     "name": "stdout",
     "output_type": "stream",
     "text": [
      "ipdp_c0\n",
      "ipdp_c0\n"
     ]
    },
    {
     "data": {
      "text/plain": [
       "'ipdp'"
      ]
     },
     "execution_count": 13,
     "metadata": {},
     "output_type": "execute_result"
    },
    {
     "name": "stdout",
     "output_type": "stream",
     "text": [
      "hepdp_c0\n",
      "hepdp_c0\n"
     ]
    },
    {
     "data": {
      "text/plain": [
       "'hepdp'"
      ]
     },
     "execution_count": 13,
     "metadata": {},
     "output_type": "execute_result"
    },
    {
     "name": "stdout",
     "output_type": "stream",
     "text": [
      "cenchddd_c0\n",
      "cenchddd_c0\n"
     ]
    },
    {
     "data": {
      "text/plain": [
       "'cenchddd'"
      ]
     },
     "execution_count": 13,
     "metadata": {},
     "output_type": "execute_result"
    },
    {
     "name": "stdout",
     "output_type": "stream",
     "text": [
      "dhcinnm_c0\n",
      "dhcinnm_c0\n"
     ]
    },
    {
     "data": {
      "text/plain": [
       "'dhcinnm'"
      ]
     },
     "execution_count": 13,
     "metadata": {},
     "output_type": "execute_result"
    },
    {
     "name": "stdout",
     "output_type": "stream",
     "text": [
      "HC00718_c0\n",
      "HC00718_c0\n"
     ]
    },
    {
     "data": {
      "text/plain": [
       "'HC00718'"
      ]
     },
     "execution_count": 13,
     "metadata": {},
     "output_type": "execute_result"
    },
    {
     "name": "stdout",
     "output_type": "stream",
     "text": [
      "ahcys_c0\n",
      "ahcys_c0\n"
     ]
    },
    {
     "data": {
      "text/plain": [
       "'ahcys'"
      ]
     },
     "execution_count": 13,
     "metadata": {},
     "output_type": "execute_result"
    },
    {
     "name": "stdout",
     "output_type": "stream",
     "text": [
      "HC01842_c0\n",
      "HC01842_c0\n"
     ]
    },
    {
     "data": {
      "text/plain": [
       "'HC01842'"
      ]
     },
     "execution_count": 13,
     "metadata": {},
     "output_type": "execute_result"
    },
    {
     "name": "stdout",
     "output_type": "stream",
     "text": [
      "dxyl5p_c0\n",
      "dxyl5p_c0\n"
     ]
    },
    {
     "data": {
      "text/plain": [
       "'dxyl5p'"
      ]
     },
     "execution_count": 13,
     "metadata": {},
     "output_type": "execute_result"
    },
    {
     "name": "stdout",
     "output_type": "stream",
     "text": [
      "1-AMINO-PROPAN-2-ONE-3-PHOSPHATE_c0\n",
      "pdx5p_c0\n",
      "pdx5p_c0\n"
     ]
    },
    {
     "data": {
      "text/plain": [
       "'pdx5p'"
      ]
     },
     "execution_count": 13,
     "metadata": {},
     "output_type": "execute_result"
    },
    {
     "name": "stdout",
     "output_type": "stream",
     "text": [
      "HC01434_c0\n",
      "HC01434_c0\n"
     ]
    },
    {
     "data": {
      "text/plain": [
       "'HC01434'"
      ]
     },
     "execution_count": 13,
     "metadata": {},
     "output_type": "execute_result"
    },
    {
     "name": "stdout",
     "output_type": "stream",
     "text": [
      "akg_c0\n",
      "akg_c0\n"
     ]
    },
    {
     "data": {
      "text/plain": [
       "'akg'"
      ]
     },
     "execution_count": 13,
     "metadata": {},
     "output_type": "execute_result"
    },
    {
     "name": "stdout",
     "output_type": "stream",
     "text": [
      "ins_c0\n",
      "ins_c0\n"
     ]
    },
    {
     "data": {
      "text/plain": [
       "'ins'"
      ]
     },
     "execution_count": 13,
     "metadata": {},
     "output_type": "execute_result"
    },
    {
     "name": "stdout",
     "output_type": "stream",
     "text": [
      "r1p_c0\n",
      "r1p_c0\n"
     ]
    },
    {
     "data": {
      "text/plain": [
       "'r1p'"
      ]
     },
     "execution_count": 13,
     "metadata": {},
     "output_type": "execute_result"
    },
    {
     "name": "stdout",
     "output_type": "stream",
     "text": [
      "MNXM8380_c0\n",
      "MNXM11395_c0\n",
      "sucorn_c0\n",
      "sucorn_c0\n"
     ]
    },
    {
     "data": {
      "text/plain": [
       "'sucorn'"
      ]
     },
     "execution_count": 13,
     "metadata": {},
     "output_type": "execute_result"
    },
    {
     "name": "stdout",
     "output_type": "stream",
     "text": [
      "sucgsa_c0\n",
      "sucgsa_c0\n"
     ]
    },
    {
     "data": {
      "text/plain": [
       "'sucgsa'"
      ]
     },
     "execution_count": 13,
     "metadata": {},
     "output_type": "execute_result"
    },
    {
     "name": "stdout",
     "output_type": "stream",
     "text": [
      "betald_c0\n",
      "betald_c0\n"
     ]
    },
    {
     "data": {
      "text/plain": [
       "'betald'"
      ]
     },
     "execution_count": 13,
     "metadata": {},
     "output_type": "execute_result"
    },
    {
     "name": "stdout",
     "output_type": "stream",
     "text": [
      "glyb_c0\n",
      "glyb_c0\n"
     ]
    },
    {
     "data": {
      "text/plain": [
       "'glyb'"
      ]
     },
     "execution_count": 13,
     "metadata": {},
     "output_type": "execute_result"
    },
    {
     "name": "stdout",
     "output_type": "stream",
     "text": [
      "CPD-10622_c0\n",
      "CPD-10635_c0\n",
      "MNXM11394_c0\n",
      "MNXM5130_c0\n",
      "gly_asp__L_c0\n",
      "gly_asp__L_c0\n"
     ]
    },
    {
     "data": {
      "text/plain": [
       "'gly_asp__L'"
      ]
     },
     "execution_count": 13,
     "metadata": {},
     "output_type": "execute_result"
    },
    {
     "name": "stdout",
     "output_type": "stream",
     "text": [
      "GUANIDINOETHYL-METHYL-PHOSPHATE_c0\n",
      "N-PHOSPHOGUANIDINOETHYL-METHYL-PHOSPHAT_c0\n",
      "gtp_c0\n",
      "gtp_c0\n"
     ]
    },
    {
     "data": {
      "text/plain": [
       "'gtp'"
      ]
     },
     "execution_count": 13,
     "metadata": {},
     "output_type": "execute_result"
    },
    {
     "name": "stdout",
     "output_type": "stream",
     "text": [
      "so4_c0\n",
      "so4_c0\n"
     ]
    },
    {
     "data": {
      "text/plain": [
       "'so4'"
      ]
     },
     "execution_count": 13,
     "metadata": {},
     "output_type": "execute_result"
    },
    {
     "name": "stdout",
     "output_type": "stream",
     "text": [
      "gdp_c0\n",
      "gdp_c0\n"
     ]
    },
    {
     "data": {
      "text/plain": [
       "'gdp'"
      ]
     },
     "execution_count": 13,
     "metadata": {},
     "output_type": "execute_result"
    },
    {
     "name": "stdout",
     "output_type": "stream",
     "text": [
      "aps_c0\n",
      "aps_c0\n"
     ]
    },
    {
     "data": {
      "text/plain": [
       "'aps'"
      ]
     },
     "execution_count": 13,
     "metadata": {},
     "output_type": "execute_result"
    },
    {
     "name": "stdout",
     "output_type": "stream",
     "text": [
      "dcmp_c0\n",
      "dcmp_c0\n"
     ]
    },
    {
     "data": {
      "text/plain": [
       "'dcmp'"
      ]
     },
     "execution_count": 13,
     "metadata": {},
     "output_type": "execute_result"
    },
    {
     "name": "stdout",
     "output_type": "stream",
     "text": [
      "rhcys_c0\n",
      "rhcys_c0\n"
     ]
    },
    {
     "data": {
      "text/plain": [
       "'rhcys'"
      ]
     },
     "execution_count": 13,
     "metadata": {},
     "output_type": "execute_result"
    },
    {
     "name": "stdout",
     "output_type": "stream",
     "text": [
      "hcys__L_c0\n",
      "hcys__L_c0\n"
     ]
    },
    {
     "data": {
      "text/plain": [
       "'hcys__L'"
      ]
     },
     "execution_count": 13,
     "metadata": {},
     "output_type": "execute_result"
    },
    {
     "name": "stdout",
     "output_type": "stream",
     "text": [
      "dhptd_c0\n",
      "dhptd_c0\n"
     ]
    },
    {
     "data": {
      "text/plain": [
       "'dhptd'"
      ]
     },
     "execution_count": 13,
     "metadata": {},
     "output_type": "execute_result"
    },
    {
     "name": "stdout",
     "output_type": "stream",
     "text": [
      "itp_c0\n",
      "itp_c0\n"
     ]
    },
    {
     "data": {
      "text/plain": [
       "'itp'"
      ]
     },
     "execution_count": 13,
     "metadata": {},
     "output_type": "execute_result"
    },
    {
     "name": "stdout",
     "output_type": "stream",
     "text": [
      "idp_c0\n",
      "idp_c0\n"
     ]
    },
    {
     "data": {
      "text/plain": [
       "'idp'"
      ]
     },
     "execution_count": 13,
     "metadata": {},
     "output_type": "execute_result"
    },
    {
     "name": "stdout",
     "output_type": "stream",
     "text": [
      "malcoa_c0\n",
      "malcoa_c0\n"
     ]
    },
    {
     "data": {
      "text/plain": [
       "'malcoa'"
      ]
     },
     "execution_count": 13,
     "metadata": {},
     "output_type": "execute_result"
    },
    {
     "name": "stdout",
     "output_type": "stream",
     "text": [
      "dcamp_c0\n",
      "dcamp_c0\n"
     ]
    },
    {
     "data": {
      "text/plain": [
       "'dcamp'"
      ]
     },
     "execution_count": 13,
     "metadata": {},
     "output_type": "execute_result"
    },
    {
     "name": "stdout",
     "output_type": "stream",
     "text": [
      "cytd_c0\n",
      "cytd_c0\n"
     ]
    },
    {
     "data": {
      "text/plain": [
       "'cytd'"
      ]
     },
     "execution_count": 13,
     "metadata": {},
     "output_type": "execute_result"
    },
    {
     "name": "stdout",
     "output_type": "stream",
     "text": [
      "ctp_c0\n",
      "ctp_c0\n"
     ]
    },
    {
     "data": {
      "text/plain": [
       "'ctp'"
      ]
     },
     "execution_count": 13,
     "metadata": {},
     "output_type": "execute_result"
    },
    {
     "name": "stdout",
     "output_type": "stream",
     "text": [
      "4ppan_c0\n",
      "4ppan_c0\n"
     ]
    },
    {
     "data": {
      "text/plain": [
       "'4ppan'"
      ]
     },
     "execution_count": 13,
     "metadata": {},
     "output_type": "execute_result"
    },
    {
     "name": "stdout",
     "output_type": "stream",
     "text": [
      "4ppcys_c0\n",
      "4ppcys_c0\n"
     ]
    },
    {
     "data": {
      "text/plain": [
       "'4ppcys'"
      ]
     },
     "execution_count": 13,
     "metadata": {},
     "output_type": "execute_result"
    },
    {
     "name": "stdout",
     "output_type": "stream",
     "text": [
      "udpg_c0\n",
      "udpg_c0\n"
     ]
    },
    {
     "data": {
      "text/plain": [
       "'udpg'"
      ]
     },
     "execution_count": 13,
     "metadata": {},
     "output_type": "execute_result"
    },
    {
     "name": "stdout",
     "output_type": "stream",
     "text": [
      "udpglcur_c0\n",
      "udpglcur_c0\n"
     ]
    },
    {
     "data": {
      "text/plain": [
       "'udpglcur'"
      ]
     },
     "execution_count": 13,
     "metadata": {},
     "output_type": "execute_result"
    },
    {
     "name": "stdout",
     "output_type": "stream",
     "text": [
      "glu5p_c0\n",
      "glu5p_c0\n"
     ]
    },
    {
     "data": {
      "text/plain": [
       "'glu5p'"
      ]
     },
     "execution_count": 13,
     "metadata": {},
     "output_type": "execute_result"
    },
    {
     "name": "stdout",
     "output_type": "stream",
     "text": [
      "10fthf_c0\n",
      "10fthf_c0\n"
     ]
    },
    {
     "data": {
      "text/plain": [
       "'10fthf'"
      ]
     },
     "execution_count": 13,
     "metadata": {},
     "output_type": "execute_result"
    },
    {
     "name": "stdout",
     "output_type": "stream",
     "text": [
      "CPD-17115_c0\n",
      "anth_c0\n",
      "anth_c0\n"
     ]
    },
    {
     "data": {
      "text/plain": [
       "'anth'"
      ]
     },
     "execution_count": 13,
     "metadata": {},
     "output_type": "execute_result"
    },
    {
     "name": "stdout",
     "output_type": "stream",
     "text": [
      "CPD-422_c0\n",
      "acglu_c0\n",
      "acglu_c0\n"
     ]
    },
    {
     "data": {
      "text/plain": [
       "'acglu'"
      ]
     },
     "execution_count": 13,
     "metadata": {},
     "output_type": "execute_result"
    },
    {
     "name": "stdout",
     "output_type": "stream",
     "text": [
      "dcyt_c0\n",
      "dcyt_c0\n"
     ]
    },
    {
     "data": {
      "text/plain": [
       "'dcyt'"
      ]
     },
     "execution_count": 13,
     "metadata": {},
     "output_type": "execute_result"
    },
    {
     "name": "stdout",
     "output_type": "stream",
     "text": [
      "MNXM8195_c0\n",
      "MNXM10448_c0\n",
      "6-OXO-HEXANOATE_c0\n",
      "CPD0-1349_c0\n",
      "5hxkynam_c0\n",
      "5hxkynam_c0\n"
     ]
    },
    {
     "data": {
      "text/plain": [
       "'5hxkynam'"
      ]
     },
     "execution_count": 13,
     "metadata": {},
     "output_type": "execute_result"
    },
    {
     "name": "stdout",
     "output_type": "stream",
     "text": [
      "MNXM2621_c0\n",
      "sbzcoa_c0\n",
      "sbzcoa_c0\n"
     ]
    },
    {
     "data": {
      "text/plain": [
       "'sbzcoa'"
      ]
     },
     "execution_count": 13,
     "metadata": {},
     "output_type": "execute_result"
    },
    {
     "name": "stdout",
     "output_type": "stream",
     "text": [
      "dhna_c0\n",
      "dhna_c0\n"
     ]
    },
    {
     "data": {
      "text/plain": [
       "'dhna'"
      ]
     },
     "execution_count": 13,
     "metadata": {},
     "output_type": "execute_result"
    },
    {
     "name": "stdout",
     "output_type": "stream",
     "text": [
      "succ_e0\n",
      "succ_e0\n"
     ]
    },
    {
     "data": {
      "text/plain": [
       "'succ'"
      ]
     },
     "execution_count": 13,
     "metadata": {},
     "output_type": "execute_result"
    },
    {
     "name": "stdout",
     "output_type": "stream",
     "text": [
      "succ_c0\n",
      "succ_c0\n"
     ]
    },
    {
     "data": {
      "text/plain": [
       "'succ'"
      ]
     },
     "execution_count": 13,
     "metadata": {},
     "output_type": "execute_result"
    },
    {
     "name": "stdout",
     "output_type": "stream",
     "text": [
      "xu5p__D_c0\n",
      "xu5p__D_c0\n"
     ]
    },
    {
     "data": {
      "text/plain": [
       "'xu5p__D'"
      ]
     },
     "execution_count": 13,
     "metadata": {},
     "output_type": "execute_result"
    },
    {
     "name": "stdout",
     "output_type": "stream",
     "text": [
      "CPD-18719_c0\n",
      "fdp_c0\n",
      "fdp_c0\n"
     ]
    },
    {
     "data": {
      "text/plain": [
       "'fdp'"
      ]
     },
     "execution_count": 13,
     "metadata": {},
     "output_type": "execute_result"
    },
    {
     "name": "stdout",
     "output_type": "stream",
     "text": [
      "CPD-15317_c0\n",
      "r15bp_c0\n",
      "r15bp_c0\n"
     ]
    },
    {
     "data": {
      "text/plain": [
       "'r15bp'"
      ]
     },
     "execution_count": 13,
     "metadata": {},
     "output_type": "execute_result"
    },
    {
     "name": "stdout",
     "output_type": "stream",
     "text": [
      "HC00832_c0\n",
      "whole annotation: ['HC00832', 'fcl__L']\n",
      "HC00832_c0\n"
     ]
    },
    {
     "data": {
      "text/plain": [
       "['HC00832', 'fcl__L']"
      ]
     },
     "execution_count": 13,
     "metadata": {},
     "output_type": "execute_result"
    },
    {
     "name": "stdout",
     "output_type": "stream",
     "text": [
      "fc1p_c0\n",
      "fc1p_c0\n"
     ]
    },
    {
     "data": {
      "text/plain": [
       "'fc1p'"
      ]
     },
     "execution_count": 13,
     "metadata": {},
     "output_type": "execute_result"
    },
    {
     "name": "stdout",
     "output_type": "stream",
     "text": [
      "MNXM147671_c0\n",
      "g3pe_c0\n",
      "g3pe_c0\n"
     ]
    },
    {
     "data": {
      "text/plain": [
       "'g3pe'"
      ]
     },
     "execution_count": 13,
     "metadata": {},
     "output_type": "execute_result"
    },
    {
     "name": "stdout",
     "output_type": "stream",
     "text": [
      "MNXM900_c0\n",
      "metox__R_e0\n",
      "metox__R_e0\n"
     ]
    },
    {
     "data": {
      "text/plain": [
       "'metox__R'"
      ]
     },
     "execution_count": 13,
     "metadata": {},
     "output_type": "execute_result"
    },
    {
     "name": "stdout",
     "output_type": "stream",
     "text": [
      "metox__R_c0\n",
      "metox__R_c0\n"
     ]
    },
    {
     "data": {
      "text/plain": [
       "'metox__R'"
      ]
     },
     "execution_count": 13,
     "metadata": {},
     "output_type": "execute_result"
    },
    {
     "name": "stdout",
     "output_type": "stream",
     "text": [
      "msa_c0\n",
      "msa_c0\n"
     ]
    },
    {
     "data": {
      "text/plain": [
       "'msa'"
      ]
     },
     "execution_count": 13,
     "metadata": {},
     "output_type": "execute_result"
    },
    {
     "name": "stdout",
     "output_type": "stream",
     "text": [
      "MNXM19009_c0\n",
      "MNXM19009_e0\n",
      "gsn_c0\n",
      "gsn_c0\n"
     ]
    },
    {
     "data": {
      "text/plain": [
       "'gsn'"
      ]
     },
     "execution_count": 13,
     "metadata": {},
     "output_type": "execute_result"
    },
    {
     "name": "stdout",
     "output_type": "stream",
     "text": [
      "xtsn_c0\n",
      "xtsn_c0\n"
     ]
    },
    {
     "data": {
      "text/plain": [
       "'xtsn'"
      ]
     },
     "execution_count": 13,
     "metadata": {},
     "output_type": "execute_result"
    },
    {
     "name": "stdout",
     "output_type": "stream",
     "text": [
      "pg180_c0\n",
      "pg180_c0\n"
     ]
    },
    {
     "data": {
      "text/plain": [
       "'pg180'"
      ]
     },
     "execution_count": 13,
     "metadata": {},
     "output_type": "execute_result"
    },
    {
     "name": "stdout",
     "output_type": "stream",
     "text": [
      "glyc_c0\n",
      "glyc_c0\n"
     ]
    },
    {
     "data": {
      "text/plain": [
       "'glyc'"
      ]
     },
     "execution_count": 13,
     "metadata": {},
     "output_type": "execute_result"
    },
    {
     "name": "stdout",
     "output_type": "stream",
     "text": [
      "MNXM6440_c0\n",
      "hisp_c0\n",
      "hisp_c0\n"
     ]
    },
    {
     "data": {
      "text/plain": [
       "'hisp'"
      ]
     },
     "execution_count": 13,
     "metadata": {},
     "output_type": "execute_result"
    },
    {
     "name": "stdout",
     "output_type": "stream",
     "text": [
      "imacp_c0\n",
      "imacp_c0\n"
     ]
    },
    {
     "data": {
      "text/plain": [
       "'imacp'"
      ]
     },
     "execution_count": 13,
     "metadata": {},
     "output_type": "execute_result"
    },
    {
     "name": "stdout",
     "output_type": "stream",
     "text": [
      "uppg1_c0\n",
      "uppg1_c0\n"
     ]
    },
    {
     "data": {
      "text/plain": [
       "'uppg1'"
      ]
     },
     "execution_count": 13,
     "metadata": {},
     "output_type": "execute_result"
    },
    {
     "name": "stdout",
     "output_type": "stream",
     "text": [
      "cpppg1_c0\n",
      "cpppg1_c0\n"
     ]
    },
    {
     "data": {
      "text/plain": [
       "'cpppg1'"
      ]
     },
     "execution_count": 13,
     "metadata": {},
     "output_type": "execute_result"
    },
    {
     "name": "stdout",
     "output_type": "stream",
     "text": [
      "CPD-270_c0\n",
      "CPD-1109_c0\n",
      "ptrc_c0\n",
      "ptrc_c0\n"
     ]
    },
    {
     "data": {
      "text/plain": [
       "'ptrc'"
      ]
     },
     "execution_count": 13,
     "metadata": {},
     "output_type": "execute_result"
    },
    {
     "name": "stdout",
     "output_type": "stream",
     "text": [
      "spmd_c0\n",
      "spmd_c0\n"
     ]
    },
    {
     "data": {
      "text/plain": [
       "'spmd'"
      ]
     },
     "execution_count": 13,
     "metadata": {},
     "output_type": "execute_result"
    },
    {
     "name": "stdout",
     "output_type": "stream",
     "text": [
      "CPD-313_c0\n",
      "hspmd_c0\n",
      "hspmd_c0\n"
     ]
    },
    {
     "data": {
      "text/plain": [
       "'hspmd'"
      ]
     },
     "execution_count": 13,
     "metadata": {},
     "output_type": "execute_result"
    },
    {
     "name": "stdout",
     "output_type": "stream",
     "text": [
      "HC01361_c0\n",
      "whole annotation: ['HC01361', 'dhnpt']\n",
      "HC01361_c0\n"
     ]
    },
    {
     "data": {
      "text/plain": [
       "['HC01361', 'dhnpt']"
      ]
     },
     "execution_count": 13,
     "metadata": {},
     "output_type": "execute_result"
    },
    {
     "name": "stdout",
     "output_type": "stream",
     "text": [
      "gcald_c0\n",
      "gcald_c0\n"
     ]
    },
    {
     "data": {
      "text/plain": [
       "'gcald'"
      ]
     },
     "execution_count": 13,
     "metadata": {},
     "output_type": "execute_result"
    },
    {
     "name": "stdout",
     "output_type": "stream",
     "text": [
      "6hmhpt_c0\n",
      "6hmhpt_c0\n"
     ]
    },
    {
     "data": {
      "text/plain": [
       "'6hmhpt'"
      ]
     },
     "execution_count": 13,
     "metadata": {},
     "output_type": "execute_result"
    },
    {
     "name": "stdout",
     "output_type": "stream",
     "text": [
      "ru5p__L_c0\n",
      "ru5p__L_c0\n"
     ]
    },
    {
     "data": {
      "text/plain": [
       "'ru5p__L'"
      ]
     },
     "execution_count": 13,
     "metadata": {},
     "output_type": "execute_result"
    },
    {
     "name": "stdout",
     "output_type": "stream",
     "text": [
      "nadp_c0\n",
      "nadp_c0\n"
     ]
    },
    {
     "data": {
      "text/plain": [
       "'nadp'"
      ]
     },
     "execution_count": 13,
     "metadata": {},
     "output_type": "execute_result"
    },
    {
     "name": "stdout",
     "output_type": "stream",
     "text": [
      "dmpp_c0\n",
      "dmpp_c0\n"
     ]
    },
    {
     "data": {
      "text/plain": [
       "'dmpp'"
      ]
     },
     "execution_count": 13,
     "metadata": {},
     "output_type": "execute_result"
    },
    {
     "name": "stdout",
     "output_type": "stream",
     "text": [
      "nadph_c0\n",
      "nadph_c0\n"
     ]
    },
    {
     "data": {
      "text/plain": [
       "'nadph'"
      ]
     },
     "execution_count": 13,
     "metadata": {},
     "output_type": "execute_result"
    },
    {
     "name": "stdout",
     "output_type": "stream",
     "text": [
      "h2mb4p_c0\n",
      "h2mb4p_c0\n"
     ]
    },
    {
     "data": {
      "text/plain": [
       "'h2mb4p'"
      ]
     },
     "execution_count": 13,
     "metadata": {},
     "output_type": "execute_result"
    },
    {
     "name": "stdout",
     "output_type": "stream",
     "text": [
      "MNXM6644_c0\n",
      "MNXM9707_c0\n",
      "tdchola_c0\n",
      "tdchola_c0\n"
     ]
    },
    {
     "data": {
      "text/plain": [
       "'tdchola'"
      ]
     },
     "execution_count": 13,
     "metadata": {},
     "output_type": "execute_result"
    },
    {
     "name": "stdout",
     "output_type": "stream",
     "text": [
      "taur_c0\n",
      "taur_c0\n"
     ]
    },
    {
     "data": {
      "text/plain": [
       "'taur'"
      ]
     },
     "execution_count": 13,
     "metadata": {},
     "output_type": "execute_result"
    },
    {
     "name": "stdout",
     "output_type": "stream",
     "text": [
      "C02528_c0\n",
      "C02528_c0\n"
     ]
    },
    {
     "data": {
      "text/plain": [
       "'C02528'"
      ]
     },
     "execution_count": 13,
     "metadata": {},
     "output_type": "execute_result"
    },
    {
     "name": "stdout",
     "output_type": "stream",
     "text": [
      "glyc3p_c0\n",
      "glyc3p_c0\n"
     ]
    },
    {
     "data": {
      "text/plain": [
       "'glyc3p'"
      ]
     },
     "execution_count": 13,
     "metadata": {},
     "output_type": "execute_result"
    },
    {
     "name": "stdout",
     "output_type": "stream",
     "text": [
      "MNXM8381_c0\n",
      "MNXM11396_c0\n",
      "MNXM5745_c0\n",
      "MNXM9604_c0\n",
      "1tdecg3p_c0\n",
      "1tdecg3p_c0\n"
     ]
    },
    {
     "data": {
      "text/plain": [
       "'1tdecg3p'"
      ]
     },
     "execution_count": 13,
     "metadata": {},
     "output_type": "execute_result"
    },
    {
     "name": "stdout",
     "output_type": "stream",
     "text": [
      "pa140_c0\n",
      "pa140_c0\n"
     ]
    },
    {
     "data": {
      "text/plain": [
       "'pa140'"
      ]
     },
     "execution_count": 13,
     "metadata": {},
     "output_type": "execute_result"
    },
    {
     "name": "stdout",
     "output_type": "stream",
     "text": [
      "MNXM6581_c0\n",
      "cmpacna_c0\n",
      "cmpacna_c0\n"
     ]
    },
    {
     "data": {
      "text/plain": [
       "'cmpacna'"
      ]
     },
     "execution_count": 13,
     "metadata": {},
     "output_type": "execute_result"
    },
    {
     "name": "stdout",
     "output_type": "stream",
     "text": [
      "gt1a_cho_c0\n",
      "gt1a_cho_c0\n"
     ]
    },
    {
     "data": {
      "text/plain": [
       "'gt1a_cho'"
      ]
     },
     "execution_count": 13,
     "metadata": {},
     "output_type": "execute_result"
    },
    {
     "name": "stdout",
     "output_type": "stream",
     "text": [
      "Ganglioside-GQ1b_c0\n",
      "frdp_c0\n",
      "frdp_c0\n"
     ]
    },
    {
     "data": {
      "text/plain": [
       "'frdp'"
      ]
     },
     "execution_count": 13,
     "metadata": {},
     "output_type": "execute_result"
    },
    {
     "name": "stdout",
     "output_type": "stream",
     "text": [
      "ggdp_c0\n",
      "ggdp_c0\n"
     ]
    },
    {
     "data": {
      "text/plain": [
       "'ggdp'"
      ]
     },
     "execution_count": 13,
     "metadata": {},
     "output_type": "execute_result"
    },
    {
     "name": "stdout",
     "output_type": "stream",
     "text": [
      "MNXM734_c0\n",
      "3mob_c0\n",
      "3mob_c0\n"
     ]
    },
    {
     "data": {
      "text/plain": [
       "'3mob'"
      ]
     },
     "execution_count": 13,
     "metadata": {},
     "output_type": "execute_result"
    },
    {
     "name": "stdout",
     "output_type": "stream",
     "text": [
      "3hoctACP_c0\n",
      "3hoctACP_c0\n"
     ]
    },
    {
     "data": {
      "text/plain": [
       "'3hoctACP'"
      ]
     },
     "execution_count": 13,
     "metadata": {},
     "output_type": "execute_result"
    },
    {
     "name": "stdout",
     "output_type": "stream",
     "text": [
      "toct2eACP_c0\n",
      "toct2eACP_c0\n"
     ]
    },
    {
     "data": {
      "text/plain": [
       "'toct2eACP'"
      ]
     },
     "execution_count": 13,
     "metadata": {},
     "output_type": "execute_result"
    },
    {
     "name": "stdout",
     "output_type": "stream",
     "text": [
      "MNXM5741_c0\n",
      "MNXM9620_c0\n",
      "ru5p__D_c0\n",
      "ru5p__D_c0\n"
     ]
    },
    {
     "data": {
      "text/plain": [
       "'ru5p__D'"
      ]
     },
     "execution_count": 13,
     "metadata": {},
     "output_type": "execute_result"
    },
    {
     "name": "stdout",
     "output_type": "stream",
     "text": [
      "for_c0\n",
      "for_c0\n"
     ]
    },
    {
     "data": {
      "text/plain": [
       "'for'"
      ]
     },
     "execution_count": 13,
     "metadata": {},
     "output_type": "execute_result"
    },
    {
     "name": "stdout",
     "output_type": "stream",
     "text": [
      "db4p_c0\n",
      "db4p_c0\n"
     ]
    },
    {
     "data": {
      "text/plain": [
       "'db4p'"
      ]
     },
     "execution_count": 13,
     "metadata": {},
     "output_type": "execute_result"
    },
    {
     "name": "stdout",
     "output_type": "stream",
     "text": [
      "MNXM8010_c0\n",
      "MNXM9695_c0\n",
      "acorn_c0\n",
      "acorn_c0\n"
     ]
    },
    {
     "data": {
      "text/plain": [
       "'acorn'"
      ]
     },
     "execution_count": 13,
     "metadata": {},
     "output_type": "execute_result"
    },
    {
     "name": "stdout",
     "output_type": "stream",
     "text": [
      "trdrd_c0\n",
      "trdrd_c0\n"
     ]
    },
    {
     "data": {
      "text/plain": [
       "'trdrd'"
      ]
     },
     "execution_count": 13,
     "metadata": {},
     "output_type": "execute_result"
    },
    {
     "name": "stdout",
     "output_type": "stream",
     "text": [
      "trdox_c0\n",
      "trdox_c0\n"
     ]
    },
    {
     "data": {
      "text/plain": [
       "'trdox'"
      ]
     },
     "execution_count": 13,
     "metadata": {},
     "output_type": "execute_result"
    },
    {
     "name": "stdout",
     "output_type": "stream",
     "text": [
      "creat_c0\n",
      "creat_c0\n"
     ]
    },
    {
     "data": {
      "text/plain": [
       "'creat'"
      ]
     },
     "execution_count": 13,
     "metadata": {},
     "output_type": "execute_result"
    },
    {
     "name": "stdout",
     "output_type": "stream",
     "text": [
      "N-METHYLHYDANTOIN_c0\n",
      "dhap_c0\n",
      "dhap_c0\n"
     ]
    },
    {
     "data": {
      "text/plain": [
       "'dhap'"
      ]
     },
     "execution_count": 13,
     "metadata": {},
     "output_type": "execute_result"
    },
    {
     "name": "stdout",
     "output_type": "stream",
     "text": [
      "lcts_c0\n",
      "lcts_c0\n"
     ]
    },
    {
     "data": {
      "text/plain": [
       "'lcts'"
      ]
     },
     "execution_count": 13,
     "metadata": {},
     "output_type": "execute_result"
    },
    {
     "name": "stdout",
     "output_type": "stream",
     "text": [
      "cdpglc_c0\n",
      "cdpglc_c0\n"
     ]
    },
    {
     "data": {
      "text/plain": [
       "'cdpglc'"
      ]
     },
     "execution_count": 13,
     "metadata": {},
     "output_type": "execute_result"
    },
    {
     "name": "stdout",
     "output_type": "stream",
     "text": [
      "cdp4dh6doglc_c0\n",
      "cdp4dh6doglc_c0\n"
     ]
    },
    {
     "data": {
      "text/plain": [
       "'cdp4dh6doglc'"
      ]
     },
     "execution_count": 13,
     "metadata": {},
     "output_type": "execute_result"
    },
    {
     "name": "stdout",
     "output_type": "stream",
     "text": [
      "quln_c0\n",
      "quln_c0\n"
     ]
    },
    {
     "data": {
      "text/plain": [
       "'quln'"
      ]
     },
     "execution_count": 13,
     "metadata": {},
     "output_type": "execute_result"
    },
    {
     "name": "stdout",
     "output_type": "stream",
     "text": [
      "iasp_c0\n",
      "iasp_c0\n"
     ]
    },
    {
     "data": {
      "text/plain": [
       "'iasp'"
      ]
     },
     "execution_count": 13,
     "metadata": {},
     "output_type": "execute_result"
    },
    {
     "name": "stdout",
     "output_type": "stream",
     "text": [
      "hmgth_c0\n",
      "hmgth_c0\n"
     ]
    },
    {
     "data": {
      "text/plain": [
       "'hmgth'"
      ]
     },
     "execution_count": 13,
     "metadata": {},
     "output_type": "execute_result"
    },
    {
     "name": "stdout",
     "output_type": "stream",
     "text": [
      "Sfglutth_c0\n",
      "Sfglutth_c0\n"
     ]
    },
    {
     "data": {
      "text/plain": [
       "'Sfglutth'"
      ]
     },
     "execution_count": 13,
     "metadata": {},
     "output_type": "execute_result"
    },
    {
     "name": "stdout",
     "output_type": "stream",
     "text": [
      "5mta_c0\n",
      "5mta_c0\n"
     ]
    },
    {
     "data": {
      "text/plain": [
       "'5mta'"
      ]
     },
     "execution_count": 13,
     "metadata": {},
     "output_type": "execute_result"
    },
    {
     "name": "stdout",
     "output_type": "stream",
     "text": [
      "ade_c0\n",
      "ade_c0\n"
     ]
    },
    {
     "data": {
      "text/plain": [
       "'ade'"
      ]
     },
     "execution_count": 13,
     "metadata": {},
     "output_type": "execute_result"
    },
    {
     "name": "stdout",
     "output_type": "stream",
     "text": [
      "5mtr_c0\n",
      "5mtr_c0\n"
     ]
    },
    {
     "data": {
      "text/plain": [
       "'5mtr'"
      ]
     },
     "execution_count": 13,
     "metadata": {},
     "output_type": "execute_result"
    },
    {
     "name": "stdout",
     "output_type": "stream",
     "text": [
      "MNXM8382_c0\n",
      "MNXM11399_c0\n",
      "ara5p_c0\n",
      "ara5p_c0\n"
     ]
    },
    {
     "data": {
      "text/plain": [
       "'ara5p'"
      ]
     },
     "execution_count": 13,
     "metadata": {},
     "output_type": "execute_result"
    },
    {
     "name": "stdout",
     "output_type": "stream",
     "text": [
      "L-DOPACHROME_c0\n",
      "56-DIHYDROXYINDOLE-2-CARBOXYLATE_c0\n",
      "MNXM96971_c0\n",
      "Nucleoside-Diphosphates_c0\n",
      "L_alagly_e0\n",
      "L_alagly_e0\n"
     ]
    },
    {
     "data": {
      "text/plain": [
       "'L_alagly'"
      ]
     },
     "execution_count": 13,
     "metadata": {},
     "output_type": "execute_result"
    },
    {
     "name": "stdout",
     "output_type": "stream",
     "text": [
      "L_alagly_c0\n",
      "L_alagly_c0\n"
     ]
    },
    {
     "data": {
      "text/plain": [
       "'L_alagly'"
      ]
     },
     "execution_count": 13,
     "metadata": {},
     "output_type": "execute_result"
    },
    {
     "name": "stdout",
     "output_type": "stream",
     "text": [
      "etha_c0\n",
      "etha_c0\n"
     ]
    },
    {
     "data": {
      "text/plain": [
       "'etha'"
      ]
     },
     "execution_count": 13,
     "metadata": {},
     "output_type": "execute_result"
    },
    {
     "name": "stdout",
     "output_type": "stream",
     "text": [
      "acald_c0\n",
      "acald_c0\n"
     ]
    },
    {
     "data": {
      "text/plain": [
       "'acald'"
      ]
     },
     "execution_count": 13,
     "metadata": {},
     "output_type": "execute_result"
    },
    {
     "name": "stdout",
     "output_type": "stream",
     "text": [
      "CPD-17323_c0\n",
      "CPD-17322_c0\n",
      "acgam_c0\n",
      "acgam_c0\n"
     ]
    },
    {
     "data": {
      "text/plain": [
       "'acgam'"
      ]
     },
     "execution_count": 13,
     "metadata": {},
     "output_type": "execute_result"
    },
    {
     "name": "stdout",
     "output_type": "stream",
     "text": [
      "acgam1p_c0\n",
      "acgam1p_c0\n"
     ]
    },
    {
     "data": {
      "text/plain": [
       "'acgam1p'"
      ]
     },
     "execution_count": 13,
     "metadata": {},
     "output_type": "execute_result"
    },
    {
     "name": "stdout",
     "output_type": "stream",
     "text": [
      "mmcoa__S_c0\n",
      "mmcoa__S_c0\n"
     ]
    },
    {
     "data": {
      "text/plain": [
       "'mmcoa__S'"
      ]
     },
     "execution_count": 13,
     "metadata": {},
     "output_type": "execute_result"
    },
    {
     "name": "stdout",
     "output_type": "stream",
     "text": [
      "ppcoa_c0\n",
      "ppcoa_c0\n"
     ]
    },
    {
     "data": {
      "text/plain": [
       "'ppcoa'"
      ]
     },
     "execution_count": 13,
     "metadata": {},
     "output_type": "execute_result"
    },
    {
     "name": "stdout",
     "output_type": "stream",
     "text": [
      "CPD-12708_c0\n",
      "CPD-12709_c0\n",
      "duri_e0\n",
      "duri_e0\n"
     ]
    },
    {
     "data": {
      "text/plain": [
       "'duri'"
      ]
     },
     "execution_count": 13,
     "metadata": {},
     "output_type": "execute_result"
    },
    {
     "name": "stdout",
     "output_type": "stream",
     "text": [
      "duri_c0\n",
      "duri_c0\n"
     ]
    },
    {
     "data": {
      "text/plain": [
       "'duri'"
      ]
     },
     "execution_count": 13,
     "metadata": {},
     "output_type": "execute_result"
    },
    {
     "name": "stdout",
     "output_type": "stream",
     "text": [
      "e4p_c0\n",
      "e4p_c0\n"
     ]
    },
    {
     "data": {
      "text/plain": [
       "'e4p'"
      ]
     },
     "execution_count": 13,
     "metadata": {},
     "output_type": "execute_result"
    },
    {
     "name": "stdout",
     "output_type": "stream",
     "text": [
      "4per_c0\n",
      "4per_c0\n"
     ]
    },
    {
     "data": {
      "text/plain": [
       "'4per'"
      ]
     },
     "execution_count": 13,
     "metadata": {},
     "output_type": "execute_result"
    },
    {
     "name": "stdout",
     "output_type": "stream",
     "text": [
      "ala_L_Thr__L_e0\n",
      "ala_L_Thr__L_e0\n"
     ]
    },
    {
     "data": {
      "text/plain": [
       "'ala_L_Thr__L'"
      ]
     },
     "execution_count": 13,
     "metadata": {},
     "output_type": "execute_result"
    },
    {
     "name": "stdout",
     "output_type": "stream",
     "text": [
      "ala_L_Thr__L_c0\n",
      "ala_L_Thr__L_c0\n"
     ]
    },
    {
     "data": {
      "text/plain": [
       "'ala_L_Thr__L'"
      ]
     },
     "execution_count": 13,
     "metadata": {},
     "output_type": "execute_result"
    },
    {
     "name": "stdout",
     "output_type": "stream",
     "text": [
      "4hbald_c0\n",
      "4hbald_c0\n"
     ]
    },
    {
     "data": {
      "text/plain": [
       "'4hbald'"
      ]
     },
     "execution_count": 13,
     "metadata": {},
     "output_type": "execute_result"
    },
    {
     "name": "stdout",
     "output_type": "stream",
     "text": [
      "4hbz_c0\n",
      "4hbz_c0\n"
     ]
    },
    {
     "data": {
      "text/plain": [
       "'4hbz'"
      ]
     },
     "execution_count": 13,
     "metadata": {},
     "output_type": "execute_result"
    },
    {
     "name": "stdout",
     "output_type": "stream",
     "text": [
      "2mop_c0\n",
      "2mop_c0\n"
     ]
    },
    {
     "data": {
      "text/plain": [
       "'2mop'"
      ]
     },
     "execution_count": 13,
     "metadata": {},
     "output_type": "execute_result"
    },
    {
     "name": "stdout",
     "output_type": "stream",
     "text": [
      "ppi_e0\n",
      "ppi_e0\n"
     ]
    },
    {
     "data": {
      "text/plain": [
       "'ppi'"
      ]
     },
     "execution_count": 13,
     "metadata": {},
     "output_type": "execute_result"
    },
    {
     "name": "stdout",
     "output_type": "stream",
     "text": [
      "orot5p_c0\n",
      "orot5p_c0\n"
     ]
    },
    {
     "data": {
      "text/plain": [
       "'orot5p'"
      ]
     },
     "execution_count": 13,
     "metadata": {},
     "output_type": "execute_result"
    },
    {
     "name": "stdout",
     "output_type": "stream",
     "text": [
      "ump_c0\n",
      "ump_c0\n"
     ]
    },
    {
     "data": {
      "text/plain": [
       "'ump'"
      ]
     },
     "execution_count": 13,
     "metadata": {},
     "output_type": "execute_result"
    },
    {
     "name": "stdout",
     "output_type": "stream",
     "text": [
      "rbl__D_c0\n",
      "rbl__D_c0\n"
     ]
    },
    {
     "data": {
      "text/plain": [
       "'rbl__D'"
      ]
     },
     "execution_count": 13,
     "metadata": {},
     "output_type": "execute_result"
    },
    {
     "name": "stdout",
     "output_type": "stream",
     "text": [
      "4mpetz_c0\n",
      "4mpetz_c0\n"
     ]
    },
    {
     "data": {
      "text/plain": [
       "'4mpetz'"
      ]
     },
     "execution_count": 13,
     "metadata": {},
     "output_type": "execute_result"
    },
    {
     "name": "stdout",
     "output_type": "stream",
     "text": [
      "2mahmp_c0\n",
      "2mahmp_c0\n"
     ]
    },
    {
     "data": {
      "text/plain": [
       "'2mahmp'"
      ]
     },
     "execution_count": 13,
     "metadata": {},
     "output_type": "execute_result"
    },
    {
     "name": "stdout",
     "output_type": "stream",
     "text": [
      "thmmp_c0\n",
      "thmmp_c0\n"
     ]
    },
    {
     "data": {
      "text/plain": [
       "'thmmp'"
      ]
     },
     "execution_count": 13,
     "metadata": {},
     "output_type": "execute_result"
    },
    {
     "name": "stdout",
     "output_type": "stream",
     "text": [
      "2ddecg3p_c0\n",
      "2ddecg3p_c0\n"
     ]
    },
    {
     "data": {
      "text/plain": [
       "'2ddecg3p'"
      ]
     },
     "execution_count": 13,
     "metadata": {},
     "output_type": "execute_result"
    },
    {
     "name": "stdout",
     "output_type": "stream",
     "text": [
      "DODECANOATE_c0\n",
      "5mthf_c0\n",
      "5mthf_c0\n"
     ]
    },
    {
     "data": {
      "text/plain": [
       "'5mthf'"
      ]
     },
     "execution_count": 13,
     "metadata": {},
     "output_type": "execute_result"
    },
    {
     "name": "stdout",
     "output_type": "stream",
     "text": [
      "mlthf_c0\n",
      "mlthf_c0\n"
     ]
    },
    {
     "data": {
      "text/plain": [
       "'mlthf'"
      ]
     },
     "execution_count": 13,
     "metadata": {},
     "output_type": "execute_result"
    },
    {
     "name": "stdout",
     "output_type": "stream",
     "text": [
      "mhpglu_c0\n",
      "mhpglu_c0\n"
     ]
    },
    {
     "data": {
      "text/plain": [
       "'mhpglu'"
      ]
     },
     "execution_count": 13,
     "metadata": {},
     "output_type": "execute_result"
    },
    {
     "name": "stdout",
     "output_type": "stream",
     "text": [
      "hpglu_c0\n",
      "hpglu_c0\n"
     ]
    },
    {
     "data": {
      "text/plain": [
       "'hpglu'"
      ]
     },
     "execution_count": 13,
     "metadata": {},
     "output_type": "execute_result"
    },
    {
     "name": "stdout",
     "output_type": "stream",
     "text": [
      "datp_c0\n",
      "datp_c0\n"
     ]
    },
    {
     "data": {
      "text/plain": [
       "'datp'"
      ]
     },
     "execution_count": 13,
     "metadata": {},
     "output_type": "execute_result"
    },
    {
     "name": "stdout",
     "output_type": "stream",
     "text": [
      "uri_c0\n",
      "uri_c0\n"
     ]
    },
    {
     "data": {
      "text/plain": [
       "'uri'"
      ]
     },
     "execution_count": 13,
     "metadata": {},
     "output_type": "execute_result"
    },
    {
     "name": "stdout",
     "output_type": "stream",
     "text": [
      "dadp_c0\n",
      "dadp_c0\n"
     ]
    },
    {
     "data": {
      "text/plain": [
       "'dadp'"
      ]
     },
     "execution_count": 13,
     "metadata": {},
     "output_type": "execute_result"
    },
    {
     "name": "stdout",
     "output_type": "stream",
     "text": [
      "MNXM147350_c0\n",
      "pa141_c0\n",
      "pa141_c0\n"
     ]
    },
    {
     "data": {
      "text/plain": [
       "'pa141'"
      ]
     },
     "execution_count": 13,
     "metadata": {},
     "output_type": "execute_result"
    },
    {
     "name": "stdout",
     "output_type": "stream",
     "text": [
      "ala_L_glu__L_e0\n",
      "ala_L_glu__L_e0\n"
     ]
    },
    {
     "data": {
      "text/plain": [
       "'ala_L_glu__L'"
      ]
     },
     "execution_count": 13,
     "metadata": {},
     "output_type": "execute_result"
    },
    {
     "name": "stdout",
     "output_type": "stream",
     "text": [
      "ala_L_glu__L_c0\n",
      "ala_L_glu__L_c0\n"
     ]
    },
    {
     "data": {
      "text/plain": [
       "'ala_L_glu__L'"
      ]
     },
     "execution_count": 13,
     "metadata": {},
     "output_type": "execute_result"
    },
    {
     "name": "stdout",
     "output_type": "stream",
     "text": [
      "csn_c0\n",
      "csn_c0\n"
     ]
    },
    {
     "data": {
      "text/plain": [
       "'csn'"
      ]
     },
     "execution_count": 13,
     "metadata": {},
     "output_type": "execute_result"
    },
    {
     "name": "stdout",
     "output_type": "stream",
     "text": [
      "ura_c0\n",
      "ura_c0\n"
     ]
    },
    {
     "data": {
      "text/plain": [
       "'ura'"
      ]
     },
     "execution_count": 13,
     "metadata": {},
     "output_type": "execute_result"
    },
    {
     "name": "stdout",
     "output_type": "stream",
     "text": [
      "lipa_c0\n",
      "lipa_c0\n"
     ]
    },
    {
     "data": {
      "text/plain": [
       "'lipa'"
      ]
     },
     "execution_count": 13,
     "metadata": {},
     "output_type": "execute_result"
    },
    {
     "name": "stdout",
     "output_type": "stream",
     "text": [
      "adphep_LD_c0\n",
      "adphep_LD_c0\n"
     ]
    },
    {
     "data": {
      "text/plain": [
       "'adphep_LD'"
      ]
     },
     "execution_count": 13,
     "metadata": {},
     "output_type": "execute_result"
    },
    {
     "name": "stdout",
     "output_type": "stream",
     "text": [
      "hlipa_c0\n",
      "hlipa_c0\n"
     ]
    },
    {
     "data": {
      "text/plain": [
       "'hlipa'"
      ]
     },
     "execution_count": 13,
     "metadata": {},
     "output_type": "execute_result"
    },
    {
     "name": "stdout",
     "output_type": "stream",
     "text": [
      "salcn_e0\n",
      "salcn_e0\n"
     ]
    },
    {
     "data": {
      "text/plain": [
       "'salcn'"
      ]
     },
     "execution_count": 13,
     "metadata": {},
     "output_type": "execute_result"
    },
    {
     "name": "stdout",
     "output_type": "stream",
     "text": [
      "salcn6p_c0\n",
      "salcn6p_c0\n"
     ]
    },
    {
     "data": {
      "text/plain": [
       "'salcn6p'"
      ]
     },
     "execution_count": 13,
     "metadata": {},
     "output_type": "execute_result"
    },
    {
     "name": "stdout",
     "output_type": "stream",
     "text": [
      "xan_c0\n",
      "xan_c0\n"
     ]
    },
    {
     "data": {
      "text/plain": [
       "'xan'"
      ]
     },
     "execution_count": 13,
     "metadata": {},
     "output_type": "execute_result"
    },
    {
     "name": "stdout",
     "output_type": "stream",
     "text": [
      "MNXM7956_c0\n",
      "MNXM6573_c0\n",
      "CPD-61_c0\n",
      "PROPIONATE_c0\n",
      "MNXM7607_c0\n",
      "stcoa_c0\n",
      "stcoa_c0\n"
     ]
    },
    {
     "data": {
      "text/plain": [
       "'stcoa'"
      ]
     },
     "execution_count": 13,
     "metadata": {},
     "output_type": "execute_result"
    },
    {
     "name": "stdout",
     "output_type": "stream",
     "text": [
      "MNXM5744_c0\n",
      "3ig3p_c0\n",
      "3ig3p_c0\n"
     ]
    },
    {
     "data": {
      "text/plain": [
       "'3ig3p'"
      ]
     },
     "execution_count": 13,
     "metadata": {},
     "output_type": "execute_result"
    },
    {
     "name": "stdout",
     "output_type": "stream",
     "text": [
      "g3p_c0\n",
      "g3p_c0\n"
     ]
    },
    {
     "data": {
      "text/plain": [
       "'g3p'"
      ]
     },
     "execution_count": 13,
     "metadata": {},
     "output_type": "execute_result"
    },
    {
     "name": "stdout",
     "output_type": "stream",
     "text": [
      "indole_c0\n",
      "indole_c0\n"
     ]
    },
    {
     "data": {
      "text/plain": [
       "'indole'"
      ]
     },
     "execution_count": 13,
     "metadata": {},
     "output_type": "execute_result"
    },
    {
     "name": "stdout",
     "output_type": "stream",
     "text": [
      "1ddecg3p_c0\n",
      "1ddecg3p_c0\n"
     ]
    },
    {
     "data": {
      "text/plain": [
       "'1ddecg3p'"
      ]
     },
     "execution_count": 13,
     "metadata": {},
     "output_type": "execute_result"
    },
    {
     "name": "stdout",
     "output_type": "stream",
     "text": [
      "TRANS-2-CHLORO-4-CARBOXYMETHYLENEBUT-2-E_c0\n",
      "CIS-2-CHLORO-4-CARBOXYMETHYLENEBUT-2-EN-_c0\n",
      "lipidAds_c0\n",
      "lipidAds_c0\n"
     ]
    },
    {
     "data": {
      "text/plain": [
       "'lipidAds'"
      ]
     },
     "execution_count": 13,
     "metadata": {},
     "output_type": "execute_result"
    },
    {
     "name": "stdout",
     "output_type": "stream",
     "text": [
      "lipidA_c0\n",
      "lipidA_c0\n"
     ]
    },
    {
     "data": {
      "text/plain": [
       "'lipidA'"
      ]
     },
     "execution_count": 13,
     "metadata": {},
     "output_type": "execute_result"
    },
    {
     "name": "stdout",
     "output_type": "stream",
     "text": [
      "fald_c0\n",
      "fald_c0\n"
     ]
    },
    {
     "data": {
      "text/plain": [
       "'fald'"
      ]
     },
     "execution_count": 13,
     "metadata": {},
     "output_type": "execute_result"
    },
    {
     "name": "stdout",
     "output_type": "stream",
     "text": [
      "dha_c0\n",
      "dha_c0\n"
     ]
    },
    {
     "data": {
      "text/plain": [
       "'dha'"
      ]
     },
     "execution_count": 13,
     "metadata": {},
     "output_type": "execute_result"
    },
    {
     "name": "stdout",
     "output_type": "stream",
     "text": [
      "CPD-34_c0\n",
      "KIEVITONE-CPD_c0\n",
      "kdo8p_c0\n",
      "kdo8p_c0\n"
     ]
    },
    {
     "data": {
      "text/plain": [
       "'kdo8p'"
      ]
     },
     "execution_count": 13,
     "metadata": {},
     "output_type": "execute_result"
    },
    {
     "name": "stdout",
     "output_type": "stream",
     "text": [
      "dhlpro_c0\n",
      "dhlpro_c0\n"
     ]
    },
    {
     "data": {
      "text/plain": [
       "'dhlpro'"
      ]
     },
     "execution_count": 13,
     "metadata": {},
     "output_type": "execute_result"
    },
    {
     "name": "stdout",
     "output_type": "stream",
     "text": [
      "lpro_c0\n",
      "lpro_c0\n"
     ]
    },
    {
     "data": {
      "text/plain": [
       "'lpro'"
      ]
     },
     "execution_count": 13,
     "metadata": {},
     "output_type": "execute_result"
    },
    {
     "name": "stdout",
     "output_type": "stream",
     "text": [
      "MNXM6580_c0\n",
      "gly_phe__L_c0\n",
      "whole annotation: ['gly_phe__L', 'glyphe']\n",
      "gly_phe__L_c0\n"
     ]
    },
    {
     "data": {
      "text/plain": [
       "['gly_phe__L', 'glyphe']"
      ]
     },
     "execution_count": 13,
     "metadata": {},
     "output_type": "execute_result"
    },
    {
     "name": "stdout",
     "output_type": "stream",
     "text": [
      "phe__L_c0\n",
      "phe__L_c0\n"
     ]
    },
    {
     "data": {
      "text/plain": [
       "'phe__L'"
      ]
     },
     "execution_count": 13,
     "metadata": {},
     "output_type": "execute_result"
    },
    {
     "name": "stdout",
     "output_type": "stream",
     "text": [
      "4pasp_c0\n",
      "4pasp_c0\n"
     ]
    },
    {
     "data": {
      "text/plain": [
       "'4pasp'"
      ]
     },
     "execution_count": 13,
     "metadata": {},
     "output_type": "execute_result"
    },
    {
     "name": "stdout",
     "output_type": "stream",
     "text": [
      "Lcyst_c0\n",
      "Lcyst_c0\n"
     ]
    },
    {
     "data": {
      "text/plain": [
       "'Lcyst'"
      ]
     },
     "execution_count": 13,
     "metadata": {},
     "output_type": "execute_result"
    },
    {
     "name": "stdout",
     "output_type": "stream",
     "text": [
      "pro__L_e0\n",
      "pro__L_e0\n"
     ]
    },
    {
     "data": {
      "text/plain": [
       "'pro__L'"
      ]
     },
     "execution_count": 13,
     "metadata": {},
     "output_type": "execute_result"
    },
    {
     "name": "stdout",
     "output_type": "stream",
     "text": [
      "na1_e0\n",
      "na1_e0\n"
     ]
    },
    {
     "data": {
      "text/plain": [
       "'na1'"
      ]
     },
     "execution_count": 13,
     "metadata": {},
     "output_type": "execute_result"
    },
    {
     "name": "stdout",
     "output_type": "stream",
     "text": [
      "pro__L_c0\n",
      "pro__L_c0\n"
     ]
    },
    {
     "data": {
      "text/plain": [
       "'pro__L'"
      ]
     },
     "execution_count": 13,
     "metadata": {},
     "output_type": "execute_result"
    },
    {
     "name": "stdout",
     "output_type": "stream",
     "text": [
      "na1_c0\n",
      "na1_c0\n"
     ]
    },
    {
     "data": {
      "text/plain": [
       "'na1'"
      ]
     },
     "execution_count": 13,
     "metadata": {},
     "output_type": "execute_result"
    },
    {
     "name": "stdout",
     "output_type": "stream",
     "text": [
      "cdpdtdec7eg_c0\n",
      "cdpdtdec7eg_c0\n"
     ]
    },
    {
     "data": {
      "text/plain": [
       "'cdpdtdec7eg'"
      ]
     },
     "execution_count": 13,
     "metadata": {},
     "output_type": "execute_result"
    },
    {
     "name": "stdout",
     "output_type": "stream",
     "text": [
      "pyam5p_c0\n",
      "pyam5p_c0\n"
     ]
    },
    {
     "data": {
      "text/plain": [
       "'pyam5p'"
      ]
     },
     "execution_count": 13,
     "metadata": {},
     "output_type": "execute_result"
    },
    {
     "name": "stdout",
     "output_type": "stream",
     "text": [
      "pydx5p_c0\n",
      "pydx5p_c0\n"
     ]
    },
    {
     "data": {
      "text/plain": [
       "'pydx5p'"
      ]
     },
     "execution_count": 13,
     "metadata": {},
     "output_type": "execute_result"
    },
    {
     "name": "stdout",
     "output_type": "stream",
     "text": [
      "ibt_c0\n",
      "ibt_c0\n"
     ]
    },
    {
     "data": {
      "text/plain": [
       "'ibt'"
      ]
     },
     "execution_count": 13,
     "metadata": {},
     "output_type": "execute_result"
    },
    {
     "name": "stdout",
     "output_type": "stream",
     "text": [
      "ISOBUTANOATE-P_c0\n",
      "2odec11eg3p_c0\n",
      "2odec11eg3p_c0\n"
     ]
    },
    {
     "data": {
      "text/plain": [
       "'2odec11eg3p'"
      ]
     },
     "execution_count": 13,
     "metadata": {},
     "output_type": "execute_result"
    },
    {
     "name": "stdout",
     "output_type": "stream",
     "text": [
      "MNXM65309_c0\n",
      "all__D_c0\n",
      "all__D_c0\n"
     ]
    },
    {
     "data": {
      "text/plain": [
       "'all__D'"
      ]
     },
     "execution_count": 13,
     "metadata": {},
     "output_type": "execute_result"
    },
    {
     "name": "stdout",
     "output_type": "stream",
     "text": [
      "all6p_c0\n",
      "all6p_c0\n"
     ]
    },
    {
     "data": {
      "text/plain": [
       "'all6p'"
      ]
     },
     "execution_count": 13,
     "metadata": {},
     "output_type": "execute_result"
    },
    {
     "name": "stdout",
     "output_type": "stream",
     "text": [
      "camp_c0\n",
      "camp_c0\n"
     ]
    },
    {
     "data": {
      "text/plain": [
       "'camp'"
      ]
     },
     "execution_count": 13,
     "metadata": {},
     "output_type": "execute_result"
    },
    {
     "name": "stdout",
     "output_type": "stream",
     "text": [
      "Butanoyl-ACPs_c0\n",
      "3ohexACP_c0\n",
      "3ohexACP_c0\n"
     ]
    },
    {
     "data": {
      "text/plain": [
       "'3ohexACP'"
      ]
     },
     "execution_count": 13,
     "metadata": {},
     "output_type": "execute_result"
    },
    {
     "name": "stdout",
     "output_type": "stream",
     "text": [
      "his__L_c0\n",
      "his__L_c0\n"
     ]
    },
    {
     "data": {
      "text/plain": [
       "'his__L'"
      ]
     },
     "execution_count": 13,
     "metadata": {},
     "output_type": "execute_result"
    },
    {
     "name": "stdout",
     "output_type": "stream",
     "text": [
      "urcan_c0\n",
      "urcan_c0\n"
     ]
    },
    {
     "data": {
      "text/plain": [
       "'urcan'"
      ]
     },
     "execution_count": 13,
     "metadata": {},
     "output_type": "execute_result"
    },
    {
     "name": "stdout",
     "output_type": "stream",
     "text": [
      "MNXM5873_c0\n",
      "MNXM5874_c0\n",
      "urate_c0\n",
      "urate_c0\n"
     ]
    },
    {
     "data": {
      "text/plain": [
       "'urate'"
      ]
     },
     "execution_count": 13,
     "metadata": {},
     "output_type": "execute_result"
    },
    {
     "name": "stdout",
     "output_type": "stream",
     "text": [
      "5hiu_c0\n",
      "whole annotation: ['5hiu', 'C11821']\n",
      "5hiu_c0\n"
     ]
    },
    {
     "data": {
      "text/plain": [
       "['5hiu', 'C11821']"
      ]
     },
     "execution_count": 13,
     "metadata": {},
     "output_type": "execute_result"
    },
    {
     "name": "stdout",
     "output_type": "stream",
     "text": [
      "HEXANOYL-COA_c0\n",
      "3oocoa_c0\n",
      "3oocoa_c0\n"
     ]
    },
    {
     "data": {
      "text/plain": [
       "'3oocoa'"
      ]
     },
     "execution_count": 13,
     "metadata": {},
     "output_type": "execute_result"
    },
    {
     "name": "stdout",
     "output_type": "stream",
     "text": [
      "maltttr_c0\n",
      "maltttr_c0\n"
     ]
    },
    {
     "data": {
      "text/plain": [
       "'maltttr'"
      ]
     },
     "execution_count": 13,
     "metadata": {},
     "output_type": "execute_result"
    },
    {
     "name": "stdout",
     "output_type": "stream",
     "text": [
      "maltpt_c0\n",
      "maltpt_c0\n"
     ]
    },
    {
     "data": {
      "text/plain": [
       "'maltpt'"
      ]
     },
     "execution_count": 13,
     "metadata": {},
     "output_type": "execute_result"
    },
    {
     "name": "stdout",
     "output_type": "stream",
     "text": [
      "MNXM2646_c0\n",
      "MNXM2646_e0\n",
      "SINAPALDEHYDE_c0\n",
      "SINAPATE_c0\n",
      "tsul_c0\n",
      "tsul_c0\n"
     ]
    },
    {
     "data": {
      "text/plain": [
       "'tsul'"
      ]
     },
     "execution_count": 13,
     "metadata": {},
     "output_type": "execute_result"
    },
    {
     "name": "stdout",
     "output_type": "stream",
     "text": [
      "ac_c0\n",
      "ac_c0\n"
     ]
    },
    {
     "data": {
      "text/plain": [
       "'ac'"
      ]
     },
     "execution_count": 13,
     "metadata": {},
     "output_type": "execute_result"
    },
    {
     "name": "stdout",
     "output_type": "stream",
     "text": [
      "so3_c0\n",
      "so3_c0\n"
     ]
    },
    {
     "data": {
      "text/plain": [
       "'so3'"
      ]
     },
     "execution_count": 13,
     "metadata": {},
     "output_type": "execute_result"
    },
    {
     "name": "stdout",
     "output_type": "stream",
     "text": [
      "gln__L_c0\n",
      "gln__L_c0\n"
     ]
    },
    {
     "data": {
      "text/plain": [
       "'gln__L'"
      ]
     },
     "execution_count": 13,
     "metadata": {},
     "output_type": "execute_result"
    },
    {
     "name": "stdout",
     "output_type": "stream",
     "text": [
      "asn__L_c0\n",
      "asn__L_c0\n"
     ]
    },
    {
     "data": {
      "text/plain": [
       "'asn__L'"
      ]
     },
     "execution_count": 13,
     "metadata": {},
     "output_type": "execute_result"
    },
    {
     "name": "stdout",
     "output_type": "stream",
     "text": [
      "2mbcoa_c0\n",
      "2mbcoa_c0\n"
     ]
    },
    {
     "data": {
      "text/plain": [
       "'2mbcoa'"
      ]
     },
     "execution_count": 13,
     "metadata": {},
     "output_type": "execute_result"
    },
    {
     "name": "stdout",
     "output_type": "stream",
     "text": [
      "2mb2coa_c0\n",
      "2mb2coa_c0\n"
     ]
    },
    {
     "data": {
      "text/plain": [
       "'2mb2coa'"
      ]
     },
     "execution_count": 13,
     "metadata": {},
     "output_type": "execute_result"
    },
    {
     "name": "stdout",
     "output_type": "stream",
     "text": [
      "cdpdtdecg_c0\n",
      "cdpdtdecg_c0\n"
     ]
    },
    {
     "data": {
      "text/plain": [
       "'cdpdtdecg'"
      ]
     },
     "execution_count": 13,
     "metadata": {},
     "output_type": "execute_result"
    },
    {
     "name": "stdout",
     "output_type": "stream",
     "text": [
      "MNXM92581_c0\n",
      "g1p_c0\n",
      "g1p_c0\n"
     ]
    },
    {
     "data": {
      "text/plain": [
       "'g1p'"
      ]
     },
     "execution_count": 13,
     "metadata": {},
     "output_type": "execute_result"
    },
    {
     "name": "stdout",
     "output_type": "stream",
     "text": [
      "adpglc_c0\n",
      "adpglc_c0\n"
     ]
    },
    {
     "data": {
      "text/plain": [
       "'adpglc'"
      ]
     },
     "execution_count": 13,
     "metadata": {},
     "output_type": "execute_result"
    },
    {
     "name": "stdout",
     "output_type": "stream",
     "text": [
      "HC01435_c0\n",
      "HC01435_c0\n"
     ]
    },
    {
     "data": {
      "text/plain": [
       "'HC01435'"
      ]
     },
     "execution_count": 13,
     "metadata": {},
     "output_type": "execute_result"
    },
    {
     "name": "stdout",
     "output_type": "stream",
     "text": [
      "HC00695_c0\n",
      "whole annotation: ['HC00695', 'sdhlam']\n",
      "HC00695_c0\n"
     ]
    },
    {
     "data": {
      "text/plain": [
       "['HC00695', 'sdhlam']"
      ]
     },
     "execution_count": 13,
     "metadata": {},
     "output_type": "execute_result"
    },
    {
     "name": "stdout",
     "output_type": "stream",
     "text": [
      "MNXM90163_e0\n",
      "MNXM90163_c0\n",
      "cdpdhdec9eg_c0\n",
      "cdpdhdec9eg_c0\n"
     ]
    },
    {
     "data": {
      "text/plain": [
       "'cdpdhdec9eg'"
      ]
     },
     "execution_count": 13,
     "metadata": {},
     "output_type": "execute_result"
    },
    {
     "name": "stdout",
     "output_type": "stream",
     "text": [
      "MNXM92576_c0\n",
      "g3pg_c0\n",
      "g3pg_c0\n"
     ]
    },
    {
     "data": {
      "text/plain": [
       "'g3pg'"
      ]
     },
     "execution_count": 13,
     "metadata": {},
     "output_type": "execute_result"
    },
    {
     "name": "stdout",
     "output_type": "stream",
     "text": [
      "CPD-10613_c0\n",
      "CPD-10879_c0\n",
      "3c3hmp_c0\n",
      "3c3hmp_c0\n"
     ]
    },
    {
     "data": {
      "text/plain": [
       "'3c3hmp'"
      ]
     },
     "execution_count": 13,
     "metadata": {},
     "output_type": "execute_result"
    },
    {
     "name": "stdout",
     "output_type": "stream",
     "text": [
      "CPD-580_c0\n",
      "ala_B_c0\n",
      "ala_B_c0\n"
     ]
    },
    {
     "data": {
      "text/plain": [
       "'ala_B'"
      ]
     },
     "execution_count": 13,
     "metadata": {},
     "output_type": "execute_result"
    },
    {
     "name": "stdout",
     "output_type": "stream",
     "text": [
      "h2co3_c0\n",
      "whole annotation: ['h2co3', 'hco3']\n",
      "h2co3_c0\n"
     ]
    },
    {
     "data": {
      "text/plain": [
       "['h2co3', 'hco3']"
      ]
     },
     "execution_count": 13,
     "metadata": {},
     "output_type": "execute_result"
    },
    {
     "name": "stdout",
     "output_type": "stream",
     "text": [
      "btnCCP_c0\n",
      "btnCCP_c0\n"
     ]
    },
    {
     "data": {
      "text/plain": [
       "'btnCCP'"
      ]
     },
     "execution_count": 13,
     "metadata": {},
     "output_type": "execute_result"
    },
    {
     "name": "stdout",
     "output_type": "stream",
     "text": [
      "cbtnCCP_c0\n",
      "cbtnCCP_c0\n"
     ]
    },
    {
     "data": {
      "text/plain": [
       "'cbtnCCP'"
      ]
     },
     "execution_count": 13,
     "metadata": {},
     "output_type": "execute_result"
    },
    {
     "name": "stdout",
     "output_type": "stream",
     "text": [
      "2ameph_c0\n",
      "2ameph_c0\n"
     ]
    },
    {
     "data": {
      "text/plain": [
       "'2ameph'"
      ]
     },
     "execution_count": 13,
     "metadata": {},
     "output_type": "execute_result"
    },
    {
     "name": "stdout",
     "output_type": "stream",
     "text": [
      "MNXM47346_c0\n",
      "MNXM92046_c0\n",
      "3hpimcoa_c0\n",
      "3hpimcoa_c0\n"
     ]
    },
    {
     "data": {
      "text/plain": [
       "'3hpimcoa'"
      ]
     },
     "execution_count": 13,
     "metadata": {},
     "output_type": "execute_result"
    },
    {
     "name": "stdout",
     "output_type": "stream",
     "text": [
      "h2s_c0\n",
      "h2s_c0\n"
     ]
    },
    {
     "data": {
      "text/plain": [
       "'h2s'"
      ]
     },
     "execution_count": 13,
     "metadata": {},
     "output_type": "execute_result"
    },
    {
     "name": "stdout",
     "output_type": "stream",
     "text": [
      "CPD-8624_c0\n",
      "CPD-8625_c0\n",
      "skm_c0\n",
      "skm_c0\n"
     ]
    },
    {
     "data": {
      "text/plain": [
       "'skm'"
      ]
     },
     "execution_count": 13,
     "metadata": {},
     "output_type": "execute_result"
    },
    {
     "name": "stdout",
     "output_type": "stream",
     "text": [
      "skm5p_c0\n",
      "skm5p_c0\n"
     ]
    },
    {
     "data": {
      "text/plain": [
       "'skm5p'"
      ]
     },
     "execution_count": 13,
     "metadata": {},
     "output_type": "execute_result"
    },
    {
     "name": "stdout",
     "output_type": "stream",
     "text": [
      "nicrnt_c0\n",
      "nicrnt_c0\n"
     ]
    },
    {
     "data": {
      "text/plain": [
       "'nicrnt'"
      ]
     },
     "execution_count": 13,
     "metadata": {},
     "output_type": "execute_result"
    },
    {
     "name": "stdout",
     "output_type": "stream",
     "text": [
      "nicrns_c0\n",
      "nicrns_c0\n"
     ]
    },
    {
     "data": {
      "text/plain": [
       "'nicrns'"
      ]
     },
     "execution_count": 13,
     "metadata": {},
     "output_type": "execute_result"
    },
    {
     "name": "stdout",
     "output_type": "stream",
     "text": [
      "pphn_c0\n",
      "pphn_c0\n"
     ]
    },
    {
     "data": {
      "text/plain": [
       "'pphn'"
      ]
     },
     "execution_count": 13,
     "metadata": {},
     "output_type": "execute_result"
    },
    {
     "name": "stdout",
     "output_type": "stream",
     "text": [
      "2h34hppr_c0\n",
      "whole annotation: ['2h34hppr', '34hpp']\n",
      "2h34hppr_c0\n"
     ]
    },
    {
     "data": {
      "text/plain": [
       "['2h34hppr', '34hpp']"
      ]
     },
     "execution_count": 13,
     "metadata": {},
     "output_type": "execute_result"
    },
    {
     "name": "stdout",
     "output_type": "stream",
     "text": [
      "paps_c0\n",
      "paps_c0\n"
     ]
    },
    {
     "data": {
      "text/plain": [
       "'paps'"
      ]
     },
     "execution_count": 13,
     "metadata": {},
     "output_type": "execute_result"
    },
    {
     "name": "stdout",
     "output_type": "stream",
     "text": [
      "2oxoadp_c0\n",
      "2oxoadp_c0\n"
     ]
    },
    {
     "data": {
      "text/plain": [
       "'2oxoadp'"
      ]
     },
     "execution_count": 13,
     "metadata": {},
     "output_type": "execute_result"
    },
    {
     "name": "stdout",
     "output_type": "stream",
     "text": [
      "MNXM162857_c0\n",
      "3mop_c0\n",
      "3mop_c0\n"
     ]
    },
    {
     "data": {
      "text/plain": [
       "'3mop'"
      ]
     },
     "execution_count": 13,
     "metadata": {},
     "output_type": "execute_result"
    },
    {
     "name": "stdout",
     "output_type": "stream",
     "text": [
      "2mhob_c0\n",
      "2mhob_c0\n"
     ]
    },
    {
     "data": {
      "text/plain": [
       "'2mhob'"
      ]
     },
     "execution_count": 13,
     "metadata": {},
     "output_type": "execute_result"
    },
    {
     "name": "stdout",
     "output_type": "stream",
     "text": [
      "26dap_LL_c0\n",
      "26dap_LL_c0\n"
     ]
    },
    {
     "data": {
      "text/plain": [
       "'26dap_LL'"
      ]
     },
     "execution_count": 13,
     "metadata": {},
     "output_type": "execute_result"
    },
    {
     "name": "stdout",
     "output_type": "stream",
     "text": [
      "26dap__M_c0\n",
      "26dap__M_c0\n"
     ]
    },
    {
     "data": {
      "text/plain": [
       "'26dap__M'"
      ]
     },
     "execution_count": 13,
     "metadata": {},
     "output_type": "execute_result"
    },
    {
     "name": "stdout",
     "output_type": "stream",
     "text": [
      "L-arabinopyranose_c0\n",
      "B_ara1p_c0\n",
      "B_ara1p_c0\n"
     ]
    },
    {
     "data": {
      "text/plain": [
       "'B_ara1p'"
      ]
     },
     "execution_count": 13,
     "metadata": {},
     "output_type": "execute_result"
    },
    {
     "name": "stdout",
     "output_type": "stream",
     "text": [
      "ppgpp_c0\n",
      "ppgpp_c0\n"
     ]
    },
    {
     "data": {
      "text/plain": [
       "'ppgpp'"
      ]
     },
     "execution_count": 13,
     "metadata": {},
     "output_type": "execute_result"
    },
    {
     "name": "stdout",
     "output_type": "stream",
     "text": [
      "ala__L_c0\n",
      "ala__L_c0\n"
     ]
    },
    {
     "data": {
      "text/plain": [
       "'ala__L'"
      ]
     },
     "execution_count": 13,
     "metadata": {},
     "output_type": "execute_result"
    },
    {
     "name": "stdout",
     "output_type": "stream",
     "text": [
      "fe2_c0\n",
      "fe2_c0\n"
     ]
    },
    {
     "data": {
      "text/plain": [
       "'fe2'"
      ]
     },
     "execution_count": 13,
     "metadata": {},
     "output_type": "execute_result"
    },
    {
     "name": "stdout",
     "output_type": "stream",
     "text": [
      "fe3_c0\n",
      "fe3_c0\n"
     ]
    },
    {
     "data": {
      "text/plain": [
       "'fe3'"
      ]
     },
     "execution_count": 13,
     "metadata": {},
     "output_type": "execute_result"
    },
    {
     "name": "stdout",
     "output_type": "stream",
     "text": [
      "mqn8_c0\n",
      "mqn8_c0\n"
     ]
    },
    {
     "data": {
      "text/plain": [
       "'mqn8'"
      ]
     },
     "execution_count": 13,
     "metadata": {},
     "output_type": "execute_result"
    },
    {
     "name": "stdout",
     "output_type": "stream",
     "text": [
      "mql8_c0\n",
      "mql8_c0\n"
     ]
    },
    {
     "data": {
      "text/plain": [
       "'mql8'"
      ]
     },
     "execution_count": 13,
     "metadata": {},
     "output_type": "execute_result"
    },
    {
     "name": "stdout",
     "output_type": "stream",
     "text": [
      "ins_e0\n",
      "ins_e0\n"
     ]
    },
    {
     "data": {
      "text/plain": [
       "'ins'"
      ]
     },
     "execution_count": 13,
     "metadata": {},
     "output_type": "execute_result"
    },
    {
     "name": "stdout",
     "output_type": "stream",
     "text": [
      "CPD-1128_c0\n",
      "CPD-654_c0\n",
      "applp_c0\n",
      "applp_c0\n"
     ]
    },
    {
     "data": {
      "text/plain": [
       "'applp'"
      ]
     },
     "execution_count": 13,
     "metadata": {},
     "output_type": "execute_result"
    },
    {
     "name": "stdout",
     "output_type": "stream",
     "text": [
      "adcobhex_c0\n",
      "adcobhex_c0\n"
     ]
    },
    {
     "data": {
      "text/plain": [
       "'adcobhex'"
      ]
     },
     "execution_count": 13,
     "metadata": {},
     "output_type": "execute_result"
    },
    {
     "name": "stdout",
     "output_type": "stream",
     "text": [
      "adocbip_c0\n",
      "adocbip_c0\n"
     ]
    },
    {
     "data": {
      "text/plain": [
       "'adocbip'"
      ]
     },
     "execution_count": 13,
     "metadata": {},
     "output_type": "execute_result"
    },
    {
     "name": "stdout",
     "output_type": "stream",
     "text": [
      "galct__D_c0\n",
      "whole annotation: ['galct__D', 'galctr__D']\n",
      "galct__D_c0\n"
     ]
    },
    {
     "data": {
      "text/plain": [
       "['galct__D', 'galctr__D']"
      ]
     },
     "execution_count": 13,
     "metadata": {},
     "output_type": "execute_result"
    },
    {
     "name": "stdout",
     "output_type": "stream",
     "text": [
      "5d4dglcr_c0\n",
      "whole annotation: ['5d4dglcr', '5dh4dglc']\n",
      "5d4dglcr_c0\n"
     ]
    },
    {
     "data": {
      "text/plain": [
       "['5d4dglcr', '5dh4dglc']"
      ]
     },
     "execution_count": 13,
     "metadata": {},
     "output_type": "execute_result"
    },
    {
     "name": "stdout",
     "output_type": "stream",
     "text": [
      "ppbng_c0\n",
      "ppbng_c0\n"
     ]
    },
    {
     "data": {
      "text/plain": [
       "'ppbng'"
      ]
     },
     "execution_count": 13,
     "metadata": {},
     "output_type": "execute_result"
    },
    {
     "name": "stdout",
     "output_type": "stream",
     "text": [
      "hmbil_c0\n",
      "hmbil_c0\n"
     ]
    },
    {
     "data": {
      "text/plain": [
       "'hmbil'"
      ]
     },
     "execution_count": 13,
     "metadata": {},
     "output_type": "execute_result"
    },
    {
     "name": "stdout",
     "output_type": "stream",
     "text": [
      "actp_c0\n",
      "actp_c0\n"
     ]
    },
    {
     "data": {
      "text/plain": [
       "'actp'"
      ]
     },
     "execution_count": 13,
     "metadata": {},
     "output_type": "execute_result"
    },
    {
     "name": "stdout",
     "output_type": "stream",
     "text": [
      "Hexanoyl-ACPs_c0\n",
      "3ooctACP_c0\n",
      "3ooctACP_c0\n"
     ]
    },
    {
     "data": {
      "text/plain": [
       "'3ooctACP'"
      ]
     },
     "execution_count": 13,
     "metadata": {},
     "output_type": "execute_result"
    },
    {
     "name": "stdout",
     "output_type": "stream",
     "text": [
      "MNXM162700_c0\n",
      "MNXM146494_c0\n",
      "glyald_c0\n",
      "glyald_c0\n"
     ]
    },
    {
     "data": {
      "text/plain": [
       "'glyald'"
      ]
     },
     "execution_count": 13,
     "metadata": {},
     "output_type": "execute_result"
    },
    {
     "name": "stdout",
     "output_type": "stream",
     "text": [
      "glyc__R_c0\n",
      "glyc__R_c0\n"
     ]
    },
    {
     "data": {
      "text/plain": [
       "'glyc__R'"
      ]
     },
     "execution_count": 13,
     "metadata": {},
     "output_type": "execute_result"
    },
    {
     "name": "stdout",
     "output_type": "stream",
     "text": [
      "3pg_c0\n",
      "3pg_c0\n"
     ]
    },
    {
     "data": {
      "text/plain": [
       "'3pg'"
      ]
     },
     "execution_count": 13,
     "metadata": {},
     "output_type": "execute_result"
    },
    {
     "name": "stdout",
     "output_type": "stream",
     "text": [
      "CPD-11468_c0\n",
      "CPD-11467_c0\n",
      "gam_e0\n",
      "gam_e0\n"
     ]
    },
    {
     "data": {
      "text/plain": [
       "'gam'"
      ]
     },
     "execution_count": 13,
     "metadata": {},
     "output_type": "execute_result"
    },
    {
     "name": "stdout",
     "output_type": "stream",
     "text": [
      "gam6p_c0\n",
      "gam6p_c0\n"
     ]
    },
    {
     "data": {
      "text/plain": [
       "'gam6p'"
      ]
     },
     "execution_count": 13,
     "metadata": {},
     "output_type": "execute_result"
    },
    {
     "name": "stdout",
     "output_type": "stream",
     "text": [
      "MNXM9860_c0\n",
      "dpcoa_c0\n",
      "dpcoa_c0\n"
     ]
    },
    {
     "data": {
      "text/plain": [
       "'dpcoa'"
      ]
     },
     "execution_count": 13,
     "metadata": {},
     "output_type": "execute_result"
    },
    {
     "name": "stdout",
     "output_type": "stream",
     "text": [
      "g6p_B_c0\n",
      "g6p_B_c0\n"
     ]
    },
    {
     "data": {
      "text/plain": [
       "'g6p_B'"
      ]
     },
     "execution_count": 13,
     "metadata": {},
     "output_type": "execute_result"
    },
    {
     "name": "stdout",
     "output_type": "stream",
     "text": [
      "2hxmp_c0\n",
      "whole annotation: ['2hxmp', '2hymeph']\n",
      "2hxmp_c0\n"
     ]
    },
    {
     "data": {
      "text/plain": [
       "['2hxmp', '2hymeph']"
      ]
     },
     "execution_count": 13,
     "metadata": {},
     "output_type": "execute_result"
    },
    {
     "name": "stdout",
     "output_type": "stream",
     "text": [
      "2dglcn_c0\n",
      "2dglcn_c0\n"
     ]
    },
    {
     "data": {
      "text/plain": [
       "'2dglcn'"
      ]
     },
     "execution_count": 13,
     "metadata": {},
     "output_type": "execute_result"
    },
    {
     "name": "stdout",
     "output_type": "stream",
     "text": [
      "3ddgc_c0\n",
      "3ddgc_c0\n"
     ]
    },
    {
     "data": {
      "text/plain": [
       "'3ddgc'"
      ]
     },
     "execution_count": 13,
     "metadata": {},
     "output_type": "execute_result"
    },
    {
     "name": "stdout",
     "output_type": "stream",
     "text": [
      "prbatp_c0\n",
      "prbatp_c0\n"
     ]
    },
    {
     "data": {
      "text/plain": [
       "'prbatp'"
      ]
     },
     "execution_count": 13,
     "metadata": {},
     "output_type": "execute_result"
    },
    {
     "name": "stdout",
     "output_type": "stream",
     "text": [
      "glu5sa_c0\n",
      "glu5sa_c0\n"
     ]
    },
    {
     "data": {
      "text/plain": [
       "'glu5sa'"
      ]
     },
     "execution_count": 13,
     "metadata": {},
     "output_type": "execute_result"
    },
    {
     "name": "stdout",
     "output_type": "stream",
     "text": [
      "1pyr5c_c0\n",
      "1pyr5c_c0\n"
     ]
    },
    {
     "data": {
      "text/plain": [
       "'1pyr5c'"
      ]
     },
     "execution_count": 13,
     "metadata": {},
     "output_type": "execute_result"
    },
    {
     "name": "stdout",
     "output_type": "stream",
     "text": [
      "MNXM163143_c0\n",
      "3hmop_c0\n",
      "3hmop_c0\n"
     ]
    },
    {
     "data": {
      "text/plain": [
       "'3hmop'"
      ]
     },
     "execution_count": 13,
     "metadata": {},
     "output_type": "execute_result"
    },
    {
     "name": "stdout",
     "output_type": "stream",
     "text": [
      "fru_e0\n",
      "fru_e0\n"
     ]
    },
    {
     "data": {
      "text/plain": [
       "'fru'"
      ]
     },
     "execution_count": 13,
     "metadata": {},
     "output_type": "execute_result"
    },
    {
     "name": "stdout",
     "output_type": "stream",
     "text": [
      "f1p_c0\n",
      "f1p_c0\n"
     ]
    },
    {
     "data": {
      "text/plain": [
       "'f1p'"
      ]
     },
     "execution_count": 13,
     "metadata": {},
     "output_type": "execute_result"
    },
    {
     "name": "stdout",
     "output_type": "stream",
     "text": [
      "gmp_c0\n",
      "gmp_c0\n"
     ]
    },
    {
     "data": {
      "text/plain": [
       "'gmp'"
      ]
     },
     "execution_count": 13,
     "metadata": {},
     "output_type": "execute_result"
    },
    {
     "name": "stdout",
     "output_type": "stream",
     "text": [
      "2dmmq8_c0\n",
      "2dmmq8_c0\n"
     ]
    },
    {
     "data": {
      "text/plain": [
       "'2dmmq8'"
      ]
     },
     "execution_count": 13,
     "metadata": {},
     "output_type": "execute_result"
    },
    {
     "name": "stdout",
     "output_type": "stream",
     "text": [
      "MNXM162337_c0\n",
      "13dpg_c0\n",
      "13dpg_c0\n"
     ]
    },
    {
     "data": {
      "text/plain": [
       "'13dpg'"
      ]
     },
     "execution_count": 13,
     "metadata": {},
     "output_type": "execute_result"
    },
    {
     "name": "stdout",
     "output_type": "stream",
     "text": [
      "N1aspmd_c0\n",
      "N1aspmd_c0\n"
     ]
    },
    {
     "data": {
      "text/plain": [
       "'N1aspmd'"
      ]
     },
     "execution_count": 13,
     "metadata": {},
     "output_type": "execute_result"
    },
    {
     "name": "stdout",
     "output_type": "stream",
     "text": [
      "h2o_e0\n",
      "whole annotation: ['h2o', 'oh1']\n",
      "h2o_e0\n"
     ]
    },
    {
     "data": {
      "text/plain": [
       "['h2o', 'oh1']"
      ]
     },
     "execution_count": 13,
     "metadata": {},
     "output_type": "execute_result"
    },
    {
     "name": "stdout",
     "output_type": "stream",
     "text": [
      "mi1p__D_c0\n",
      "mi1p__D_c0\n"
     ]
    },
    {
     "data": {
      "text/plain": [
       "'mi1p__D'"
      ]
     },
     "execution_count": 13,
     "metadata": {},
     "output_type": "execute_result"
    },
    {
     "name": "stdout",
     "output_type": "stream",
     "text": [
      "inost_c0\n",
      "inost_c0\n"
     ]
    },
    {
     "data": {
      "text/plain": [
       "'inost'"
      ]
     },
     "execution_count": 13,
     "metadata": {},
     "output_type": "execute_result"
    },
    {
     "name": "stdout",
     "output_type": "stream",
     "text": [
      "glu__L_e0\n",
      "glu__L_e0\n"
     ]
    },
    {
     "data": {
      "text/plain": [
       "'glu__L'"
      ]
     },
     "execution_count": 13,
     "metadata": {},
     "output_type": "execute_result"
    },
    {
     "name": "stdout",
     "output_type": "stream",
     "text": [
      "n8aspmd_c0\n",
      "n8aspmd_c0\n"
     ]
    },
    {
     "data": {
      "text/plain": [
       "'n8aspmd'"
      ]
     },
     "execution_count": 13,
     "metadata": {},
     "output_type": "execute_result"
    },
    {
     "name": "stdout",
     "output_type": "stream",
     "text": [
      "ibcoa_c0\n",
      "ibcoa_c0\n"
     ]
    },
    {
     "data": {
      "text/plain": [
       "'ibcoa'"
      ]
     },
     "execution_count": 13,
     "metadata": {},
     "output_type": "execute_result"
    },
    {
     "name": "stdout",
     "output_type": "stream",
     "text": [
      "MNXM11912_c0\n",
      "MNXM5129_c0\n",
      "MNXM6297_c0\n",
      "dhor__S_c0\n",
      "dhor__S_c0\n"
     ]
    },
    {
     "data": {
      "text/plain": [
       "'dhor__S'"
      ]
     },
     "execution_count": 13,
     "metadata": {},
     "output_type": "execute_result"
    },
    {
     "name": "stdout",
     "output_type": "stream",
     "text": [
      "orot_c0\n",
      "orot_c0\n"
     ]
    },
    {
     "data": {
      "text/plain": [
       "'orot'"
      ]
     },
     "execution_count": 13,
     "metadata": {},
     "output_type": "execute_result"
    },
    {
     "name": "stdout",
     "output_type": "stream",
     "text": [
      "2mecdp_c0\n",
      "2mecdp_c0\n"
     ]
    },
    {
     "data": {
      "text/plain": [
       "'2mecdp'"
      ]
     },
     "execution_count": 13,
     "metadata": {},
     "output_type": "execute_result"
    },
    {
     "name": "stdout",
     "output_type": "stream",
     "text": [
      "MNXM9694_c0\n",
      "uppg3_c0\n",
      "uppg3_c0\n"
     ]
    },
    {
     "data": {
      "text/plain": [
       "'uppg3'"
      ]
     },
     "execution_count": 13,
     "metadata": {},
     "output_type": "execute_result"
    },
    {
     "name": "stdout",
     "output_type": "stream",
     "text": [
      "MNXM5124_c0\n",
      "MNXM6175_c0\n",
      "cytd_e0\n",
      "cytd_e0\n"
     ]
    },
    {
     "data": {
      "text/plain": [
       "'cytd'"
      ]
     },
     "execution_count": 13,
     "metadata": {},
     "output_type": "execute_result"
    },
    {
     "name": "stdout",
     "output_type": "stream",
     "text": [
      "N-ACETYLNEURAMINYL-ETCETERA-GLUCOSYLCERA_c0\n",
      "gt1b_cho_c0\n",
      "gt1b_cho_c0\n"
     ]
    },
    {
     "data": {
      "text/plain": [
       "'gt1b_cho'"
      ]
     },
     "execution_count": 13,
     "metadata": {},
     "output_type": "execute_result"
    },
    {
     "name": "stdout",
     "output_type": "stream",
     "text": [
      "ps180_c0\n",
      "ps180_c0\n"
     ]
    },
    {
     "data": {
      "text/plain": [
       "'ps180'"
      ]
     },
     "execution_count": 13,
     "metadata": {},
     "output_type": "execute_result"
    },
    {
     "name": "stdout",
     "output_type": "stream",
     "text": [
      "pe180_c0\n",
      "pe180_c0\n"
     ]
    },
    {
     "data": {
      "text/plain": [
       "'pe180'"
      ]
     },
     "execution_count": 13,
     "metadata": {},
     "output_type": "execute_result"
    },
    {
     "name": "stdout",
     "output_type": "stream",
     "text": [
      "MNXM6104_c0\n",
      "cl_c0\n",
      "cl_c0\n"
     ]
    },
    {
     "data": {
      "text/plain": [
       "'cl'"
      ]
     },
     "execution_count": 13,
     "metadata": {},
     "output_type": "execute_result"
    },
    {
     "name": "stdout",
     "output_type": "stream",
     "text": [
      "CPD-7400_c0\n",
      "3hbcoa_c0\n",
      "whole annotation: ['3hbcoa', '3hbycoa', '3hibutcoa']\n",
      "3hbcoa_c0\n"
     ]
    },
    {
     "data": {
      "text/plain": [
       "['3hbcoa', '3hbycoa', '3hibutcoa']"
      ]
     },
     "execution_count": 13,
     "metadata": {},
     "output_type": "execute_result"
    },
    {
     "name": "stdout",
     "output_type": "stream",
     "text": [
      "aacoa_c0\n",
      "aacoa_c0\n"
     ]
    },
    {
     "data": {
      "text/plain": [
       "'aacoa'"
      ]
     },
     "execution_count": 13,
     "metadata": {},
     "output_type": "execute_result"
    },
    {
     "name": "stdout",
     "output_type": "stream",
     "text": [
      "CPD-121_c0\n",
      "PHENYLGLYOXYLATE_c0\n",
      "udcpp_c0\n",
      "udcpp_c0\n"
     ]
    },
    {
     "data": {
      "text/plain": [
       "'udcpp'"
      ]
     },
     "execution_count": 13,
     "metadata": {},
     "output_type": "execute_result"
    },
    {
     "name": "stdout",
     "output_type": "stream",
     "text": [
      "C3_c0\n",
      "uaGgla_c0\n",
      "uaGgla_c0\n"
     ]
    },
    {
     "data": {
      "text/plain": [
       "'uaGgla'"
      ]
     },
     "execution_count": 13,
     "metadata": {},
     "output_type": "execute_result"
    },
    {
     "name": "stdout",
     "output_type": "stream",
     "text": [
      "dump_c0\n",
      "dump_c0\n"
     ]
    },
    {
     "data": {
      "text/plain": [
       "'dump'"
      ]
     },
     "execution_count": 13,
     "metadata": {},
     "output_type": "execute_result"
    },
    {
     "name": "stdout",
     "output_type": "stream",
     "text": [
      "2dda7p_c0\n",
      "2dda7p_c0\n"
     ]
    },
    {
     "data": {
      "text/plain": [
       "'2dda7p'"
      ]
     },
     "execution_count": 13,
     "metadata": {},
     "output_type": "execute_result"
    },
    {
     "name": "stdout",
     "output_type": "stream",
     "text": [
      "3dhq_c0\n",
      "3dhq_c0\n"
     ]
    },
    {
     "data": {
      "text/plain": [
       "'3dhq'"
      ]
     },
     "execution_count": 13,
     "metadata": {},
     "output_type": "execute_result"
    },
    {
     "name": "stdout",
     "output_type": "stream",
     "text": [
      "coucoa_c0\n",
      "coucoa_c0\n"
     ]
    },
    {
     "data": {
      "text/plain": [
       "'coucoa'"
      ]
     },
     "execution_count": 13,
     "metadata": {},
     "output_type": "execute_result"
    },
    {
     "name": "stdout",
     "output_type": "stream",
     "text": [
      "CPD-7137_c0\n",
      "MNXM93760_c0\n",
      "2-AMINO-3-OXO-4-PHOSPHONOOXYBUTYRATE_c0\n",
      "Dodecanoyl-ACPs_c0\n",
      "tddec2eACP_c0\n",
      "tddec2eACP_c0\n"
     ]
    },
    {
     "data": {
      "text/plain": [
       "'tddec2eACP'"
      ]
     },
     "execution_count": 13,
     "metadata": {},
     "output_type": "execute_result"
    },
    {
     "name": "stdout",
     "output_type": "stream",
     "text": [
      "cu2_e0\n",
      "cu2_e0\n"
     ]
    },
    {
     "data": {
      "text/plain": [
       "'cu2'"
      ]
     },
     "execution_count": 13,
     "metadata": {},
     "output_type": "execute_result"
    },
    {
     "name": "stdout",
     "output_type": "stream",
     "text": [
      "cu2_c0\n",
      "cu2_c0\n"
     ]
    },
    {
     "data": {
      "text/plain": [
       "'cu2'"
      ]
     },
     "execution_count": 13,
     "metadata": {},
     "output_type": "execute_result"
    },
    {
     "name": "stdout",
     "output_type": "stream",
     "text": [
      "MNXM91147_c0\n",
      "pppi_c0\n",
      "pppi_c0\n"
     ]
    },
    {
     "data": {
      "text/plain": [
       "'pppi'"
      ]
     },
     "execution_count": 13,
     "metadata": {},
     "output_type": "execute_result"
    },
    {
     "name": "stdout",
     "output_type": "stream",
     "text": [
      "adcobdam_c0\n",
      "adcobdam_c0\n"
     ]
    },
    {
     "data": {
      "text/plain": [
       "'adcobdam'"
      ]
     },
     "execution_count": 13,
     "metadata": {},
     "output_type": "execute_result"
    },
    {
     "name": "stdout",
     "output_type": "stream",
     "text": [
      "CPD-311_c0\n",
      "thf_c0\n",
      "thf_c0\n"
     ]
    },
    {
     "data": {
      "text/plain": [
       "'thf'"
      ]
     },
     "execution_count": 13,
     "metadata": {},
     "output_type": "execute_result"
    },
    {
     "name": "stdout",
     "output_type": "stream",
     "text": [
      "argsuc_c0\n",
      "argsuc_c0\n"
     ]
    },
    {
     "data": {
      "text/plain": [
       "'argsuc'"
      ]
     },
     "execution_count": 13,
     "metadata": {},
     "output_type": "execute_result"
    },
    {
     "name": "stdout",
     "output_type": "stream",
     "text": [
      "arg__L_c0\n",
      "arg__L_c0\n"
     ]
    },
    {
     "data": {
      "text/plain": [
       "'arg__L'"
      ]
     },
     "execution_count": 13,
     "metadata": {},
     "output_type": "execute_result"
    },
    {
     "name": "stdout",
     "output_type": "stream",
     "text": [
      "alltn_c0\n",
      "alltn_c0\n"
     ]
    },
    {
     "data": {
      "text/plain": [
       "'alltn'"
      ]
     },
     "execution_count": 13,
     "metadata": {},
     "output_type": "execute_result"
    },
    {
     "name": "stdout",
     "output_type": "stream",
     "text": [
      "R--ALLANTOIN_c0\n",
      "histd_c0\n",
      "histd_c0\n"
     ]
    },
    {
     "data": {
      "text/plain": [
       "'histd'"
      ]
     },
     "execution_count": 13,
     "metadata": {},
     "output_type": "execute_result"
    },
    {
     "name": "stdout",
     "output_type": "stream",
     "text": [
      "1odec11eg3p_c0\n",
      "1odec11eg3p_c0\n"
     ]
    },
    {
     "data": {
      "text/plain": [
       "'1odec11eg3p'"
      ]
     },
     "execution_count": 13,
     "metadata": {},
     "output_type": "execute_result"
    },
    {
     "name": "stdout",
     "output_type": "stream",
     "text": [
      "hgentis_c0\n",
      "hgentis_c0\n"
     ]
    },
    {
     "data": {
      "text/plain": [
       "'hgentis'"
      ]
     },
     "execution_count": 13,
     "metadata": {},
     "output_type": "execute_result"
    },
    {
     "name": "stdout",
     "output_type": "stream",
     "text": [
      "4mlacac_c0\n",
      "4mlacac_c0\n"
     ]
    },
    {
     "data": {
      "text/plain": [
       "'4mlacac'"
      ]
     },
     "execution_count": 13,
     "metadata": {},
     "output_type": "execute_result"
    },
    {
     "name": "stdout",
     "output_type": "stream",
     "text": [
      "MNXM8378_c0\n",
      "MNXM11361_c0\n",
      "MNXM8148_c0\n",
      "MNXM10369_c0\n",
      "SEDOHEPTULOSE_c0\n",
      "MNXM12925_c0\n",
      "dtdpglu_c0\n",
      "dtdpglu_c0\n"
     ]
    },
    {
     "data": {
      "text/plain": [
       "'dtdpglu'"
      ]
     },
     "execution_count": 13,
     "metadata": {},
     "output_type": "execute_result"
    },
    {
     "name": "stdout",
     "output_type": "stream",
     "text": [
      "ribflv_c0\n",
      "ribflv_c0\n"
     ]
    },
    {
     "data": {
      "text/plain": [
       "'ribflv'"
      ]
     },
     "execution_count": 13,
     "metadata": {},
     "output_type": "execute_result"
    },
    {
     "name": "stdout",
     "output_type": "stream",
     "text": [
      "rbflvrd_c0\n",
      "whole annotation: ['rbflvrd', 'ribflvRD']\n",
      "rbflvrd_c0\n"
     ]
    },
    {
     "data": {
      "text/plain": [
       "['rbflvrd', 'ribflvRD']"
      ]
     },
     "execution_count": 13,
     "metadata": {},
     "output_type": "execute_result"
    },
    {
     "name": "stdout",
     "output_type": "stream",
     "text": [
      "MNXM96082_c0\n",
      "thr__L_c0\n",
      "thr__L_c0\n"
     ]
    },
    {
     "data": {
      "text/plain": [
       "'thr__L'"
      ]
     },
     "execution_count": 13,
     "metadata": {},
     "output_type": "execute_result"
    },
    {
     "name": "stdout",
     "output_type": "stream",
     "text": [
      "CPD-12710_c0\n",
      "2me4p_c0\n",
      "2me4p_c0\n"
     ]
    },
    {
     "data": {
      "text/plain": [
       "'2me4p'"
      ]
     },
     "execution_count": 13,
     "metadata": {},
     "output_type": "execute_result"
    },
    {
     "name": "stdout",
     "output_type": "stream",
     "text": [
      "3S-CITRYL-COA_c0\n",
      "CPD-420_c0\n",
      "glyc3p_e0\n",
      "glyc3p_e0\n"
     ]
    },
    {
     "data": {
      "text/plain": [
       "'glyc3p'"
      ]
     },
     "execution_count": 13,
     "metadata": {},
     "output_type": "execute_result"
    },
    {
     "name": "stdout",
     "output_type": "stream",
     "text": [
      "CPD-3041_c0\n",
      "ahdt_c0\n",
      "ahdt_c0\n"
     ]
    },
    {
     "data": {
      "text/plain": [
       "'ahdt'"
      ]
     },
     "execution_count": 13,
     "metadata": {},
     "output_type": "execute_result"
    },
    {
     "name": "stdout",
     "output_type": "stream",
     "text": [
      "HC01710_c0\n",
      "HC01710_c0\n"
     ]
    },
    {
     "data": {
      "text/plain": [
       "'HC01710'"
      ]
     },
     "execution_count": 13,
     "metadata": {},
     "output_type": "execute_result"
    },
    {
     "name": "stdout",
     "output_type": "stream",
     "text": [
      "CPD-1116_c0\n",
      "bhb_c0\n",
      "bhb_c0\n"
     ]
    },
    {
     "data": {
      "text/plain": [
       "'bhb'"
      ]
     },
     "execution_count": 13,
     "metadata": {},
     "output_type": "execute_result"
    },
    {
     "name": "stdout",
     "output_type": "stream",
     "text": [
      "leu__L_e0\n",
      "leu__L_e0\n"
     ]
    },
    {
     "data": {
      "text/plain": [
       "'leu__L'"
      ]
     },
     "execution_count": 13,
     "metadata": {},
     "output_type": "execute_result"
    },
    {
     "name": "stdout",
     "output_type": "stream",
     "text": [
      "leu__L_c0\n",
      "leu__L_c0\n"
     ]
    },
    {
     "data": {
      "text/plain": [
       "'leu__L'"
      ]
     },
     "execution_count": 13,
     "metadata": {},
     "output_type": "execute_result"
    },
    {
     "name": "stdout",
     "output_type": "stream",
     "text": [
      "phthr_c0\n",
      "phthr_c0\n"
     ]
    },
    {
     "data": {
      "text/plain": [
       "'phthr'"
      ]
     },
     "execution_count": 13,
     "metadata": {},
     "output_type": "execute_result"
    },
    {
     "name": "stdout",
     "output_type": "stream",
     "text": [
      "5aizc_c0\n",
      "5aizc_c0\n"
     ]
    },
    {
     "data": {
      "text/plain": [
       "'5aizc'"
      ]
     },
     "execution_count": 13,
     "metadata": {},
     "output_type": "execute_result"
    },
    {
     "name": "stdout",
     "output_type": "stream",
     "text": [
      "5-PHOSPHORIBOSYL-5-AMINOIMIDAZOLE_c0\n",
      "CPD-7403_c0\n",
      "CPD-7404_c0\n",
      "GERANIAL_c0\n",
      "CPD-7618_c0\n",
      "MNXM10449_c0\n",
      "MNXM10447_c0\n",
      "thymd_e0\n",
      "thymd_e0\n"
     ]
    },
    {
     "data": {
      "text/plain": [
       "'thymd'"
      ]
     },
     "execution_count": 13,
     "metadata": {},
     "output_type": "execute_result"
    },
    {
     "name": "stdout",
     "output_type": "stream",
     "text": [
      "thymd_c0\n",
      "thymd_c0\n"
     ]
    },
    {
     "data": {
      "text/plain": [
       "'thymd'"
      ]
     },
     "execution_count": 13,
     "metadata": {},
     "output_type": "execute_result"
    },
    {
     "name": "stdout",
     "output_type": "stream",
     "text": [
      "succoa_c0\n",
      "succoa_c0\n"
     ]
    },
    {
     "data": {
      "text/plain": [
       "'succoa'"
      ]
     },
     "execution_count": 13,
     "metadata": {},
     "output_type": "execute_result"
    },
    {
     "name": "stdout",
     "output_type": "stream",
     "text": [
      "MNXM6742_c0\n",
      "MNXM7585_c0\n",
      "bz12diol_c0\n",
      "bz12diol_c0\n"
     ]
    },
    {
     "data": {
      "text/plain": [
       "'bz12diol'"
      ]
     },
     "execution_count": 13,
     "metadata": {},
     "output_type": "execute_result"
    },
    {
     "name": "stdout",
     "output_type": "stream",
     "text": [
      "catechol_c0\n",
      "catechol_c0\n"
     ]
    },
    {
     "data": {
      "text/plain": [
       "'catechol'"
      ]
     },
     "execution_count": 13,
     "metadata": {},
     "output_type": "execute_result"
    },
    {
     "name": "stdout",
     "output_type": "stream",
     "text": [
      "CPD-14269_c0\n",
      "CPD-14268_c0\n",
      "dttp_c0\n",
      "dttp_c0\n"
     ]
    },
    {
     "data": {
      "text/plain": [
       "'dttp'"
      ]
     },
     "execution_count": 13,
     "metadata": {},
     "output_type": "execute_result"
    },
    {
     "name": "stdout",
     "output_type": "stream",
     "text": [
      "dtdp_c0\n",
      "dtdp_c0\n"
     ]
    },
    {
     "data": {
      "text/plain": [
       "'dtdp'"
      ]
     },
     "execution_count": 13,
     "metadata": {},
     "output_type": "execute_result"
    },
    {
     "name": "stdout",
     "output_type": "stream",
     "text": [
      "3hmbcoa_c0\n",
      "3hmbcoa_c0\n"
     ]
    },
    {
     "data": {
      "text/plain": [
       "'3hmbcoa'"
      ]
     },
     "execution_count": 13,
     "metadata": {},
     "output_type": "execute_result"
    },
    {
     "name": "stdout",
     "output_type": "stream",
     "text": [
      "2maacoa_c0\n",
      "2maacoa_c0\n"
     ]
    },
    {
     "data": {
      "text/plain": [
       "'2maacoa'"
      ]
     },
     "execution_count": 13,
     "metadata": {},
     "output_type": "execute_result"
    },
    {
     "name": "stdout",
     "output_type": "stream",
     "text": [
      "MELILOTATE_c0\n",
      "dhpppn_c0\n",
      "dhpppn_c0\n"
     ]
    },
    {
     "data": {
      "text/plain": [
       "'dhpppn'"
      ]
     },
     "execution_count": 13,
     "metadata": {},
     "output_type": "execute_result"
    },
    {
     "name": "stdout",
     "output_type": "stream",
     "text": [
      "chor_c0\n",
      "chor_c0\n"
     ]
    },
    {
     "data": {
      "text/plain": [
       "'chor'"
      ]
     },
     "execution_count": 13,
     "metadata": {},
     "output_type": "execute_result"
    },
    {
     "name": "stdout",
     "output_type": "stream",
     "text": [
      "MNXM5882_c0\n",
      "MNXM8989_c0\n",
      "mnl_e0\n",
      "mnl_e0\n"
     ]
    },
    {
     "data": {
      "text/plain": [
       "'mnl'"
      ]
     },
     "execution_count": 13,
     "metadata": {},
     "output_type": "execute_result"
    },
    {
     "name": "stdout",
     "output_type": "stream",
     "text": [
      "mnl1p_c0\n",
      "mnl1p_c0\n"
     ]
    },
    {
     "data": {
      "text/plain": [
       "'mnl1p'"
      ]
     },
     "execution_count": 13,
     "metadata": {},
     "output_type": "execute_result"
    },
    {
     "name": "stdout",
     "output_type": "stream",
     "text": [
      "gly_pro__L_c0\n",
      "gly_pro__L_c0\n"
     ]
    },
    {
     "data": {
      "text/plain": [
       "'gly_pro__L'"
      ]
     },
     "execution_count": 13,
     "metadata": {},
     "output_type": "execute_result"
    },
    {
     "name": "stdout",
     "output_type": "stream",
     "text": [
      "ggbutal_c0\n",
      "ggbutal_c0\n"
     ]
    },
    {
     "data": {
      "text/plain": [
       "'ggbutal'"
      ]
     },
     "execution_count": 13,
     "metadata": {},
     "output_type": "execute_result"
    },
    {
     "name": "stdout",
     "output_type": "stream",
     "text": [
      "gg4abut_c0\n",
      "gg4abut_c0\n"
     ]
    },
    {
     "data": {
      "text/plain": [
       "'gg4abut'"
      ]
     },
     "execution_count": 13,
     "metadata": {},
     "output_type": "execute_result"
    },
    {
     "name": "stdout",
     "output_type": "stream",
     "text": [
      "pgp161_c0\n",
      "pgp161_c0\n"
     ]
    },
    {
     "data": {
      "text/plain": [
       "'pgp161'"
      ]
     },
     "execution_count": 13,
     "metadata": {},
     "output_type": "execute_result"
    },
    {
     "name": "stdout",
     "output_type": "stream",
     "text": [
      "pg161_c0\n",
      "pg161_c0\n"
     ]
    },
    {
     "data": {
      "text/plain": [
       "'pg161'"
      ]
     },
     "execution_count": 13,
     "metadata": {},
     "output_type": "execute_result"
    },
    {
     "name": "stdout",
     "output_type": "stream",
     "text": [
      "dgmp_c0\n",
      "dgmp_c0\n"
     ]
    },
    {
     "data": {
      "text/plain": [
       "'dgmp'"
      ]
     },
     "execution_count": 13,
     "metadata": {},
     "output_type": "execute_result"
    },
    {
     "name": "stdout",
     "output_type": "stream",
     "text": [
      "dgsn_c0\n",
      "dgsn_c0\n"
     ]
    },
    {
     "data": {
      "text/plain": [
       "'dgsn'"
      ]
     },
     "execution_count": 13,
     "metadata": {},
     "output_type": "execute_result"
    },
    {
     "name": "stdout",
     "output_type": "stream",
     "text": [
      "MNXM4586_c0\n",
      "cgly_e0\n",
      "cgly_e0\n"
     ]
    },
    {
     "data": {
      "text/plain": [
       "'cgly'"
      ]
     },
     "execution_count": 13,
     "metadata": {},
     "output_type": "execute_result"
    },
    {
     "name": "stdout",
     "output_type": "stream",
     "text": [
      "cgly_c0\n",
      "cgly_c0\n"
     ]
    },
    {
     "data": {
      "text/plain": [
       "'cgly'"
      ]
     },
     "execution_count": 13,
     "metadata": {},
     "output_type": "execute_result"
    },
    {
     "name": "stdout",
     "output_type": "stream",
     "text": [
      "2agpe160_c0\n",
      "2agpe160_c0\n"
     ]
    },
    {
     "data": {
      "text/plain": [
       "'2agpe160'"
      ]
     },
     "execution_count": 13,
     "metadata": {},
     "output_type": "execute_result"
    },
    {
     "name": "stdout",
     "output_type": "stream",
     "text": [
      "hdca_c0\n",
      "hdca_c0\n"
     ]
    },
    {
     "data": {
      "text/plain": [
       "'hdca'"
      ]
     },
     "execution_count": 13,
     "metadata": {},
     "output_type": "execute_result"
    },
    {
     "name": "stdout",
     "output_type": "stream",
     "text": [
      "MNXM10116_c0\n",
      "MNXM10035_c0\n",
      "cyart_c0\n",
      "cyart_c0\n"
     ]
    },
    {
     "data": {
      "text/plain": [
       "'cyart'"
      ]
     },
     "execution_count": 13,
     "metadata": {},
     "output_type": "execute_result"
    },
    {
     "name": "stdout",
     "output_type": "stream",
     "text": [
      "menecyart_c0\n",
      "menecyart_c0\n"
     ]
    },
    {
     "data": {
      "text/plain": [
       "'menecyart'"
      ]
     },
     "execution_count": 13,
     "metadata": {},
     "output_type": "execute_result"
    },
    {
     "name": "stdout",
     "output_type": "stream",
     "text": [
      "bhb_e0\n",
      "bhb_e0\n"
     ]
    },
    {
     "data": {
      "text/plain": [
       "'bhb'"
      ]
     },
     "execution_count": 13,
     "metadata": {},
     "output_type": "execute_result"
    },
    {
     "name": "stdout",
     "output_type": "stream",
     "text": [
      "pmtcoa_c0\n",
      "pmtcoa_c0\n"
     ]
    },
    {
     "data": {
      "text/plain": [
       "'pmtcoa'"
      ]
     },
     "execution_count": 13,
     "metadata": {},
     "output_type": "execute_result"
    },
    {
     "name": "stdout",
     "output_type": "stream",
     "text": [
      "retinol_c0\n",
      "retinol_c0\n"
     ]
    },
    {
     "data": {
      "text/plain": [
       "'retinol'"
      ]
     },
     "execution_count": 13,
     "metadata": {},
     "output_type": "execute_result"
    },
    {
     "name": "stdout",
     "output_type": "stream",
     "text": [
      "retpalm_c0\n",
      "retpalm_c0\n"
     ]
    },
    {
     "data": {
      "text/plain": [
       "'retpalm'"
      ]
     },
     "execution_count": 13,
     "metadata": {},
     "output_type": "execute_result"
    },
    {
     "name": "stdout",
     "output_type": "stream",
     "text": [
      "HISTIDINAL_c0\n",
      "rb15bp_c0\n",
      "rb15bp_c0\n"
     ]
    },
    {
     "data": {
      "text/plain": [
       "'rb15bp'"
      ]
     },
     "execution_count": 13,
     "metadata": {},
     "output_type": "execute_result"
    },
    {
     "name": "stdout",
     "output_type": "stream",
     "text": [
      "pa120_c0\n",
      "pa120_c0\n"
     ]
    },
    {
     "data": {
      "text/plain": [
       "'pa120'"
      ]
     },
     "execution_count": 13,
     "metadata": {},
     "output_type": "execute_result"
    },
    {
     "name": "stdout",
     "output_type": "stream",
     "text": [
      "MNXM6583_c0\n",
      "hkndd_c0\n",
      "hkndd_c0\n"
     ]
    },
    {
     "data": {
      "text/plain": [
       "'hkndd'"
      ]
     },
     "execution_count": 13,
     "metadata": {},
     "output_type": "execute_result"
    },
    {
     "name": "stdout",
     "output_type": "stream",
     "text": [
      "MNXM11360_c0\n",
      "HC00955_c0\n",
      "HC00955_c0\n"
     ]
    },
    {
     "data": {
      "text/plain": [
       "'HC00955'"
      ]
     },
     "execution_count": 13,
     "metadata": {},
     "output_type": "execute_result"
    },
    {
     "name": "stdout",
     "output_type": "stream",
     "text": [
      "HC01577_c0\n",
      "HC01577_c0\n"
     ]
    },
    {
     "data": {
      "text/plain": [
       "'HC01577'"
      ]
     },
     "execution_count": 13,
     "metadata": {},
     "output_type": "execute_result"
    },
    {
     "name": "stdout",
     "output_type": "stream",
     "text": [
      "nh3_e0\n",
      "whole annotation: ['nh3', 'nh4']\n",
      "nh3_e0\n"
     ]
    },
    {
     "data": {
      "text/plain": [
       "['nh3', 'nh4']"
      ]
     },
     "execution_count": 13,
     "metadata": {},
     "output_type": "execute_result"
    },
    {
     "name": "stdout",
     "output_type": "stream",
     "text": [
      "MNXM147674_c0\n",
      "MNXM146498_c0\n",
      "citr__L_c0\n",
      "citr__L_c0\n"
     ]
    },
    {
     "data": {
      "text/plain": [
       "'citr__L'"
      ]
     },
     "execution_count": 13,
     "metadata": {},
     "output_type": "execute_result"
    },
    {
     "name": "stdout",
     "output_type": "stream",
     "text": [
      "rbl__L_c0\n",
      "rbl__L_c0\n"
     ]
    },
    {
     "data": {
      "text/plain": [
       "'rbl__L'"
      ]
     },
     "execution_count": 13,
     "metadata": {},
     "output_type": "execute_result"
    },
    {
     "name": "stdout",
     "output_type": "stream",
     "text": [
      "Nforglu_c0\n",
      "Nforglu_c0\n"
     ]
    },
    {
     "data": {
      "text/plain": [
       "'Nforglu'"
      ]
     },
     "execution_count": 13,
     "metadata": {},
     "output_type": "execute_result"
    },
    {
     "name": "stdout",
     "output_type": "stream",
     "text": [
      "25drapp_c0\n",
      "25drapp_c0\n"
     ]
    },
    {
     "data": {
      "text/plain": [
       "'25drapp'"
      ]
     },
     "execution_count": 13,
     "metadata": {},
     "output_type": "execute_result"
    },
    {
     "name": "stdout",
     "output_type": "stream",
     "text": [
      "dhlam_c0\n",
      "dhlam_c0\n"
     ]
    },
    {
     "data": {
      "text/plain": [
       "'dhlam'"
      ]
     },
     "execution_count": 13,
     "metadata": {},
     "output_type": "execute_result"
    },
    {
     "name": "stdout",
     "output_type": "stream",
     "text": [
      "CPD-480_c0\n",
      "ethamp_c0\n",
      "ethamp_c0\n"
     ]
    },
    {
     "data": {
      "text/plain": [
       "'ethamp'"
      ]
     },
     "execution_count": 13,
     "metadata": {},
     "output_type": "execute_result"
    },
    {
     "name": "stdout",
     "output_type": "stream",
     "text": [
      "lac__L_c0\n",
      "lac__L_c0\n"
     ]
    },
    {
     "data": {
      "text/plain": [
       "'lac__L'"
      ]
     },
     "execution_count": 13,
     "metadata": {},
     "output_type": "execute_result"
    },
    {
     "name": "stdout",
     "output_type": "stream",
     "text": [
      "phpyr_c0\n",
      "phpyr_c0\n"
     ]
    },
    {
     "data": {
      "text/plain": [
       "'phpyr'"
      ]
     },
     "execution_count": 13,
     "metadata": {},
     "output_type": "execute_result"
    },
    {
     "name": "stdout",
     "output_type": "stream",
     "text": [
      "2hyoxplac_c0\n",
      "2hyoxplac_c0\n"
     ]
    },
    {
     "data": {
      "text/plain": [
       "'2hyoxplac'"
      ]
     },
     "execution_count": 13,
     "metadata": {},
     "output_type": "execute_result"
    },
    {
     "name": "stdout",
     "output_type": "stream",
     "text": [
      "MNXM5339_c0\n",
      "gcarote_c0\n",
      "gcarote_c0\n"
     ]
    },
    {
     "data": {
      "text/plain": [
       "'gcarote'"
      ]
     },
     "execution_count": 13,
     "metadata": {},
     "output_type": "execute_result"
    },
    {
     "name": "stdout",
     "output_type": "stream",
     "text": [
      "CPD-11446_c0\n",
      "arg__L_e0\n",
      "arg__L_e0\n"
     ]
    },
    {
     "data": {
      "text/plain": [
       "'arg__L'"
      ]
     },
     "execution_count": 13,
     "metadata": {},
     "output_type": "execute_result"
    },
    {
     "name": "stdout",
     "output_type": "stream",
     "text": [
      "MNXM8194_c0\n",
      "CPD-625_c0\n",
      "CYCLOHEXANONE_c0\n",
      "1hdecg3p_c0\n",
      "1hdecg3p_c0\n"
     ]
    },
    {
     "data": {
      "text/plain": [
       "'1hdecg3p'"
      ]
     },
     "execution_count": 13,
     "metadata": {},
     "output_type": "execute_result"
    },
    {
     "name": "stdout",
     "output_type": "stream",
     "text": [
      "dgtp_c0\n",
      "dgtp_c0\n"
     ]
    },
    {
     "data": {
      "text/plain": [
       "'dgtp'"
      ]
     },
     "execution_count": 13,
     "metadata": {},
     "output_type": "execute_result"
    },
    {
     "name": "stdout",
     "output_type": "stream",
     "text": [
      "sarcs_c0\n",
      "sarcs_c0\n"
     ]
    },
    {
     "data": {
      "text/plain": [
       "'sarcs'"
      ]
     },
     "execution_count": 13,
     "metadata": {},
     "output_type": "execute_result"
    },
    {
     "name": "stdout",
     "output_type": "stream",
     "text": [
      "glu__D_c0\n",
      "glu__D_c0\n"
     ]
    },
    {
     "data": {
      "text/plain": [
       "'glu__D'"
      ]
     },
     "execution_count": 13,
     "metadata": {},
     "output_type": "execute_result"
    },
    {
     "name": "stdout",
     "output_type": "stream",
     "text": [
      "CPD-656_c0\n",
      "METHYLENETETRAHYDROMETHANOPTERIN_c0\n",
      "METHENYLTETRAHYDROMETHANOPTERIN_c0\n",
      "suchms_c0\n",
      "suchms_c0\n"
     ]
    },
    {
     "data": {
      "text/plain": [
       "'suchms'"
      ]
     },
     "execution_count": 13,
     "metadata": {},
     "output_type": "execute_result"
    },
    {
     "name": "stdout",
     "output_type": "stream",
     "text": [
      "Sphingomyelins_c0\n",
      "crm_cho_c0\n",
      "crm_cho_c0\n"
     ]
    },
    {
     "data": {
      "text/plain": [
       "'crm_cho'"
      ]
     },
     "execution_count": 13,
     "metadata": {},
     "output_type": "execute_result"
    },
    {
     "name": "stdout",
     "output_type": "stream",
     "text": [
      "cholp_c0\n",
      "cholp_c0\n"
     ]
    },
    {
     "data": {
      "text/plain": [
       "'cholp'"
      ]
     },
     "execution_count": 13,
     "metadata": {},
     "output_type": "execute_result"
    },
    {
     "name": "stdout",
     "output_type": "stream",
     "text": [
      "3hmrsACP_c0\n",
      "3hmrsACP_c0\n"
     ]
    },
    {
     "data": {
      "text/plain": [
       "'3hmrsACP'"
      ]
     },
     "execution_count": 13,
     "metadata": {},
     "output_type": "execute_result"
    },
    {
     "name": "stdout",
     "output_type": "stream",
     "text": [
      "tmrs2eACP_c0\n",
      "tmrs2eACP_c0\n"
     ]
    },
    {
     "data": {
      "text/plain": [
       "'tmrs2eACP'"
      ]
     },
     "execution_count": 13,
     "metadata": {},
     "output_type": "execute_result"
    },
    {
     "name": "stdout",
     "output_type": "stream",
     "text": [
      "cpd02446_c0\n",
      "MNXM91569_c0\n",
      "Pald_c0\n",
      "Pald_c0\n"
     ]
    },
    {
     "data": {
      "text/plain": [
       "'Pald'"
      ]
     },
     "execution_count": 13,
     "metadata": {},
     "output_type": "execute_result"
    },
    {
     "name": "stdout",
     "output_type": "stream",
     "text": [
      "HC01651_c0\n",
      "HC01651_c0\n"
     ]
    },
    {
     "data": {
      "text/plain": [
       "'HC01651'"
      ]
     },
     "execution_count": 13,
     "metadata": {},
     "output_type": "execute_result"
    },
    {
     "name": "stdout",
     "output_type": "stream",
     "text": [
      "HC01652_c0\n",
      "HC01652_c0\n"
     ]
    },
    {
     "data": {
      "text/plain": [
       "'HC01652'"
      ]
     },
     "execution_count": 13,
     "metadata": {},
     "output_type": "execute_result"
    },
    {
     "name": "stdout",
     "output_type": "stream",
     "text": [
      "MNXM162484_c0\n",
      "1odecg3p_c0\n",
      "1odecg3p_c0\n"
     ]
    },
    {
     "data": {
      "text/plain": [
       "'1odecg3p'"
      ]
     },
     "execution_count": 13,
     "metadata": {},
     "output_type": "execute_result"
    },
    {
     "name": "stdout",
     "output_type": "stream",
     "text": [
      "MNXM3315_c0\n",
      "acmanap_c0\n",
      "acmanap_c0\n"
     ]
    },
    {
     "data": {
      "text/plain": [
       "'acmanap'"
      ]
     },
     "execution_count": 13,
     "metadata": {},
     "output_type": "execute_result"
    },
    {
     "name": "stdout",
     "output_type": "stream",
     "text": [
      "MNXM7960_c0\n",
      "MNXM6582_c0\n",
      "CPD-7405_c0\n",
      "CPD-19468_c0\n",
      "CPD-7406_c0\n",
      "2mcit_c0\n",
      "2mcit_c0\n"
     ]
    },
    {
     "data": {
      "text/plain": [
       "'2mcit'"
      ]
     },
     "execution_count": 13,
     "metadata": {},
     "output_type": "execute_result"
    },
    {
     "name": "stdout",
     "output_type": "stream",
     "text": [
      "g3pc_c0\n",
      "g3pc_c0\n"
     ]
    },
    {
     "data": {
      "text/plain": [
       "'g3pc'"
      ]
     },
     "execution_count": 13,
     "metadata": {},
     "output_type": "execute_result"
    },
    {
     "name": "stdout",
     "output_type": "stream",
     "text": [
      "chol_c0\n",
      "chol_c0\n"
     ]
    },
    {
     "data": {
      "text/plain": [
       "'chol'"
      ]
     },
     "execution_count": 13,
     "metadata": {},
     "output_type": "execute_result"
    },
    {
     "name": "stdout",
     "output_type": "stream",
     "text": [
      "PHENYL_c0\n",
      "BENZOYL-ACETATE_c0\n",
      "glx_c0\n",
      "glx_c0\n"
     ]
    },
    {
     "data": {
      "text/plain": [
       "'glx'"
      ]
     },
     "execution_count": 13,
     "metadata": {},
     "output_type": "execute_result"
    },
    {
     "name": "stdout",
     "output_type": "stream",
     "text": [
      "fe2_e0\n",
      "fe2_e0\n"
     ]
    },
    {
     "data": {
      "text/plain": [
       "'fe2'"
      ]
     },
     "execution_count": 13,
     "metadata": {},
     "output_type": "execute_result"
    },
    {
     "name": "stdout",
     "output_type": "stream",
     "text": [
      "MNXM5623_c0\n",
      "MNXM8312_c0\n",
      "cdpdhdecg_c0\n",
      "cdpdhdecg_c0\n"
     ]
    },
    {
     "data": {
      "text/plain": [
       "'cdpdhdecg'"
      ]
     },
     "execution_count": 13,
     "metadata": {},
     "output_type": "execute_result"
    },
    {
     "name": "stdout",
     "output_type": "stream",
     "text": [
      "pgp160_c0\n",
      "pgp160_c0\n"
     ]
    },
    {
     "data": {
      "text/plain": [
       "'pgp160'"
      ]
     },
     "execution_count": 13,
     "metadata": {},
     "output_type": "execute_result"
    },
    {
     "name": "stdout",
     "output_type": "stream",
     "text": [
      "malon_e0\n",
      "malon_e0\n"
     ]
    },
    {
     "data": {
      "text/plain": [
       "'malon'"
      ]
     },
     "execution_count": 13,
     "metadata": {},
     "output_type": "execute_result"
    },
    {
     "name": "stdout",
     "output_type": "stream",
     "text": [
      "malon_c0\n",
      "malon_c0\n"
     ]
    },
    {
     "data": {
      "text/plain": [
       "'malon'"
      ]
     },
     "execution_count": 13,
     "metadata": {},
     "output_type": "execute_result"
    },
    {
     "name": "stdout",
     "output_type": "stream",
     "text": [
      "alltt_c0\n",
      "alltt_c0\n"
     ]
    },
    {
     "data": {
      "text/plain": [
       "'alltt'"
      ]
     },
     "execution_count": 13,
     "metadata": {},
     "output_type": "execute_result"
    },
    {
     "name": "stdout",
     "output_type": "stream",
     "text": [
      "urea_c0\n",
      "urea_c0\n"
     ]
    },
    {
     "data": {
      "text/plain": [
       "'urea'"
      ]
     },
     "execution_count": 13,
     "metadata": {},
     "output_type": "execute_result"
    },
    {
     "name": "stdout",
     "output_type": "stream",
     "text": [
      "urdglyc_c0\n",
      "urdglyc_c0\n"
     ]
    },
    {
     "data": {
      "text/plain": [
       "'urdglyc'"
      ]
     },
     "execution_count": 13,
     "metadata": {},
     "output_type": "execute_result"
    },
    {
     "name": "stdout",
     "output_type": "stream",
     "text": [
      "achms_c0\n",
      "achms_c0\n"
     ]
    },
    {
     "data": {
      "text/plain": [
       "'achms'"
      ]
     },
     "execution_count": 13,
     "metadata": {},
     "output_type": "execute_result"
    },
    {
     "name": "stdout",
     "output_type": "stream",
     "text": [
      "malt_e0\n",
      "malt_e0\n"
     ]
    },
    {
     "data": {
      "text/plain": [
       "'malt'"
      ]
     },
     "execution_count": 13,
     "metadata": {},
     "output_type": "execute_result"
    },
    {
     "name": "stdout",
     "output_type": "stream",
     "text": [
      "malt6p_c0\n",
      "malt6p_c0\n"
     ]
    },
    {
     "data": {
      "text/plain": [
       "'malt6p'"
      ]
     },
     "execution_count": 13,
     "metadata": {},
     "output_type": "execute_result"
    },
    {
     "name": "stdout",
     "output_type": "stream",
     "text": [
      "CPD-809_c0\n",
      "Decanoyl-ACPs_c0\n",
      "3oddecACP_c0\n",
      "3oddecACP_c0\n"
     ]
    },
    {
     "data": {
      "text/plain": [
       "'3oddecACP'"
      ]
     },
     "execution_count": 13,
     "metadata": {},
     "output_type": "execute_result"
    },
    {
     "name": "stdout",
     "output_type": "stream",
     "text": [
      "CPD-12612_c0\n",
      "CPD-12613_c0\n",
      "rib__D_c0\n",
      "rib__D_c0\n"
     ]
    },
    {
     "data": {
      "text/plain": [
       "'rib__D'"
      ]
     },
     "execution_count": 13,
     "metadata": {},
     "output_type": "execute_result"
    },
    {
     "name": "stdout",
     "output_type": "stream",
     "text": [
      "3hdcoa_c0\n",
      "3hdcoa_c0\n"
     ]
    },
    {
     "data": {
      "text/plain": [
       "'3hdcoa'"
      ]
     },
     "execution_count": 13,
     "metadata": {},
     "output_type": "execute_result"
    },
    {
     "name": "stdout",
     "output_type": "stream",
     "text": [
      "dc2coa_c0\n",
      "dc2coa_c0\n"
     ]
    },
    {
     "data": {
      "text/plain": [
       "'dc2coa'"
      ]
     },
     "execution_count": 13,
     "metadata": {},
     "output_type": "execute_result"
    },
    {
     "name": "stdout",
     "output_type": "stream",
     "text": [
      "MNXM91072_c0\n",
      "3-HYDROXY-3-METHYL-GLUTARYL-COA_c0\n",
      "3mgcoa_c0\n",
      "3mgcoa_c0\n"
     ]
    },
    {
     "data": {
      "text/plain": [
       "'3mgcoa'"
      ]
     },
     "execution_count": 13,
     "metadata": {},
     "output_type": "execute_result"
    },
    {
     "name": "stdout",
     "output_type": "stream",
     "text": [
      "methf_c0\n",
      "methf_c0\n"
     ]
    },
    {
     "data": {
      "text/plain": [
       "'methf'"
      ]
     },
     "execution_count": 13,
     "metadata": {},
     "output_type": "execute_result"
    },
    {
     "name": "stdout",
     "output_type": "stream",
     "text": [
      "Palmitoyl-ACPs_c0\n",
      "pa180_c0\n",
      "pa180_c0\n"
     ]
    },
    {
     "data": {
      "text/plain": [
       "'pa180'"
      ]
     },
     "execution_count": 13,
     "metadata": {},
     "output_type": "execute_result"
    },
    {
     "name": "stdout",
     "output_type": "stream",
     "text": [
      "MNXM146747_c0\n",
      "pa181_c0\n",
      "pa181_c0\n"
     ]
    },
    {
     "data": {
      "text/plain": [
       "'pa181'"
      ]
     },
     "execution_count": 13,
     "metadata": {},
     "output_type": "execute_result"
    },
    {
     "name": "stdout",
     "output_type": "stream",
     "text": [
      "MNXM162790_c0\n",
      "pa160_c0\n",
      "pa160_c0\n"
     ]
    },
    {
     "data": {
      "text/plain": [
       "'pa160'"
      ]
     },
     "execution_count": 13,
     "metadata": {},
     "output_type": "execute_result"
    },
    {
     "name": "stdout",
     "output_type": "stream",
     "text": [
      "3hddcoa_c0\n",
      "3hddcoa_c0\n"
     ]
    },
    {
     "data": {
      "text/plain": [
       "'3hddcoa'"
      ]
     },
     "execution_count": 13,
     "metadata": {},
     "output_type": "execute_result"
    },
    {
     "name": "stdout",
     "output_type": "stream",
     "text": [
      "dd2coa_c0\n",
      "whole annotation: ['dd2coa', 'trans_dd2coa']\n",
      "dd2coa_c0\n"
     ]
    },
    {
     "data": {
      "text/plain": [
       "['dd2coa', 'trans_dd2coa']"
      ]
     },
     "execution_count": 13,
     "metadata": {},
     "output_type": "execute_result"
    },
    {
     "name": "stdout",
     "output_type": "stream",
     "text": [
      "sucr_c0\n",
      "sucr_c0\n"
     ]
    },
    {
     "data": {
      "text/plain": [
       "'sucr'"
      ]
     },
     "execution_count": 13,
     "metadata": {},
     "output_type": "execute_result"
    },
    {
     "name": "stdout",
     "output_type": "stream",
     "text": [
      "1-KESTOTRIOSE_c0\n",
      "dheas_c0\n",
      "dheas_c0\n"
     ]
    },
    {
     "data": {
      "text/plain": [
       "'dheas'"
      ]
     },
     "execution_count": 13,
     "metadata": {},
     "output_type": "execute_result"
    },
    {
     "name": "stdout",
     "output_type": "stream",
     "text": [
      "dhea_c0\n",
      "dhea_c0\n"
     ]
    },
    {
     "data": {
      "text/plain": [
       "'dhea'"
      ]
     },
     "execution_count": 13,
     "metadata": {},
     "output_type": "execute_result"
    },
    {
     "name": "stdout",
     "output_type": "stream",
     "text": [
      "2h3opp_c0\n",
      "whole annotation: ['2h3opp', '2h3oppan', 'hop']\n",
      "2h3opp_c0\n"
     ]
    },
    {
     "data": {
      "text/plain": [
       "['2h3opp', '2h3oppan', 'hop']"
      ]
     },
     "execution_count": 13,
     "metadata": {},
     "output_type": "execute_result"
    },
    {
     "name": "stdout",
     "output_type": "stream",
     "text": [
      "glyc_e0\n",
      "glyc_e0\n"
     ]
    },
    {
     "data": {
      "text/plain": [
       "'glyc'"
      ]
     },
     "execution_count": 13,
     "metadata": {},
     "output_type": "execute_result"
    },
    {
     "name": "stdout",
     "output_type": "stream",
     "text": [
      "caffcoa_c0\n",
      "caffcoa_c0\n"
     ]
    },
    {
     "data": {
      "text/plain": [
       "'caffcoa'"
      ]
     },
     "execution_count": 13,
     "metadata": {},
     "output_type": "execute_result"
    },
    {
     "name": "stdout",
     "output_type": "stream",
     "text": [
      "CPD-7138_c0\n",
      "MNXM11215_c0\n",
      "CPD-579_c0\n",
      "METHYLAMINE_c0\n",
      "ppal_c0\n",
      "ppal_c0\n"
     ]
    },
    {
     "data": {
      "text/plain": [
       "'ppal'"
      ]
     },
     "execution_count": 13,
     "metadata": {},
     "output_type": "execute_result"
    },
    {
     "name": "stdout",
     "output_type": "stream",
     "text": [
      "4hoxoh_c0\n",
      "4hoxoh_c0\n"
     ]
    },
    {
     "data": {
      "text/plain": [
       "'4hoxoh'"
      ]
     },
     "execution_count": 13,
     "metadata": {},
     "output_type": "execute_result"
    },
    {
     "name": "stdout",
     "output_type": "stream",
     "text": [
      "MNXM8671_c0\n",
      "tyr__L_c0\n",
      "tyr__L_c0\n"
     ]
    },
    {
     "data": {
      "text/plain": [
       "'tyr__L'"
      ]
     },
     "execution_count": 13,
     "metadata": {},
     "output_type": "execute_result"
    },
    {
     "name": "stdout",
     "output_type": "stream",
     "text": [
      "MNXM10220_c0\n",
      "MNXM10218_c0\n",
      "2tpr3dpcoa_c0\n",
      "2tpr3dpcoa_c0\n"
     ]
    },
    {
     "data": {
      "text/plain": [
       "'2tpr3dpcoa'"
      ]
     },
     "execution_count": 13,
     "metadata": {},
     "output_type": "execute_result"
    },
    {
     "name": "stdout",
     "output_type": "stream",
     "text": [
      "cdpdodec11eg_c0\n",
      "cdpdodec11eg_c0\n"
     ]
    },
    {
     "data": {
      "text/plain": [
       "'cdpdodec11eg'"
      ]
     },
     "execution_count": 13,
     "metadata": {},
     "output_type": "execute_result"
    },
    {
     "name": "stdout",
     "output_type": "stream",
     "text": [
      "MNXM91688_c0\n",
      "gly_met__L_e0\n",
      "gly_met__L_e0\n"
     ]
    },
    {
     "data": {
      "text/plain": [
       "'gly_met__L'"
      ]
     },
     "execution_count": 13,
     "metadata": {},
     "output_type": "execute_result"
    },
    {
     "name": "stdout",
     "output_type": "stream",
     "text": [
      "gly_met__L_c0\n",
      "gly_met__L_c0\n"
     ]
    },
    {
     "data": {
      "text/plain": [
       "'gly_met__L'"
      ]
     },
     "execution_count": 13,
     "metadata": {},
     "output_type": "execute_result"
    },
    {
     "name": "stdout",
     "output_type": "stream",
     "text": [
      "pppg9_c0\n",
      "pppg9_c0\n"
     ]
    },
    {
     "data": {
      "text/plain": [
       "'pppg9'"
      ]
     },
     "execution_count": 13,
     "metadata": {},
     "output_type": "execute_result"
    },
    {
     "name": "stdout",
     "output_type": "stream",
     "text": [
      "ppp9_c0\n",
      "ppp9_c0\n"
     ]
    },
    {
     "data": {
      "text/plain": [
       "'ppp9'"
      ]
     },
     "execution_count": 13,
     "metadata": {},
     "output_type": "execute_result"
    },
    {
     "name": "stdout",
     "output_type": "stream",
     "text": [
      "2odecg3p_c0\n",
      "2odecg3p_c0\n"
     ]
    },
    {
     "data": {
      "text/plain": [
       "'2odecg3p'"
      ]
     },
     "execution_count": 13,
     "metadata": {},
     "output_type": "execute_result"
    },
    {
     "name": "stdout",
     "output_type": "stream",
     "text": [
      "ocdca_c0\n",
      "ocdca_c0\n"
     ]
    },
    {
     "data": {
      "text/plain": [
       "'ocdca'"
      ]
     },
     "execution_count": 13,
     "metadata": {},
     "output_type": "execute_result"
    },
    {
     "name": "stdout",
     "output_type": "stream",
     "text": [
      "MNXM5611_c0\n",
      "mucl_c0\n",
      "mucl_c0\n"
     ]
    },
    {
     "data": {
      "text/plain": [
       "'mucl'"
      ]
     },
     "execution_count": 13,
     "metadata": {},
     "output_type": "execute_result"
    },
    {
     "name": "stdout",
     "output_type": "stream",
     "text": [
      "ccmuac_c0\n",
      "ccmuac_c0\n"
     ]
    },
    {
     "data": {
      "text/plain": [
       "'ccmuac'"
      ]
     },
     "execution_count": 13,
     "metadata": {},
     "output_type": "execute_result"
    },
    {
     "name": "stdout",
     "output_type": "stream",
     "text": [
      "acnam_c0\n",
      "acnam_c0\n"
     ]
    },
    {
     "data": {
      "text/plain": [
       "'acnam'"
      ]
     },
     "execution_count": 13,
     "metadata": {},
     "output_type": "execute_result"
    },
    {
     "name": "stdout",
     "output_type": "stream",
     "text": [
      "Cerebrosides_c0\n",
      "Ganglioside-GM4_c0\n",
      "MNXM9622_c0\n",
      "lald__L_c0\n",
      "lald__L_c0\n"
     ]
    },
    {
     "data": {
      "text/plain": [
       "'lald__L'"
      ]
     },
     "execution_count": 13,
     "metadata": {},
     "output_type": "execute_result"
    },
    {
     "name": "stdout",
     "output_type": "stream",
     "text": [
      "3omrsACP_c0\n",
      "3omrsACP_c0\n"
     ]
    },
    {
     "data": {
      "text/plain": [
       "'3omrsACP'"
      ]
     },
     "execution_count": 13,
     "metadata": {},
     "output_type": "execute_result"
    },
    {
     "name": "stdout",
     "output_type": "stream",
     "text": [
      "GLYCOCHOLIC_ACID_c0\n",
      "cholate_c0\n",
      "cholate_c0\n"
     ]
    },
    {
     "data": {
      "text/plain": [
       "'cholate'"
      ]
     },
     "execution_count": 13,
     "metadata": {},
     "output_type": "execute_result"
    },
    {
     "name": "stdout",
     "output_type": "stream",
     "text": [
      "MNXM9656_c0\n",
      "MNXM9654_c0\n",
      "hexdp_c0\n",
      "hexdp_c0\n"
     ]
    },
    {
     "data": {
      "text/plain": [
       "'hexdp'"
      ]
     },
     "execution_count": 13,
     "metadata": {},
     "output_type": "execute_result"
    },
    {
     "name": "stdout",
     "output_type": "stream",
     "text": [
      "cbasp_c0\n",
      "cbasp_c0\n"
     ]
    },
    {
     "data": {
      "text/plain": [
       "'cbasp'"
      ]
     },
     "execution_count": 13,
     "metadata": {},
     "output_type": "execute_result"
    },
    {
     "name": "stdout",
     "output_type": "stream",
     "text": [
      "4ahmmp_c0\n",
      "4ahmmp_c0\n"
     ]
    },
    {
     "data": {
      "text/plain": [
       "'4ahmmp'"
      ]
     },
     "execution_count": 13,
     "metadata": {},
     "output_type": "execute_result"
    },
    {
     "name": "stdout",
     "output_type": "stream",
     "text": [
      "pi_e0\n",
      "pi_e0\n"
     ]
    },
    {
     "data": {
      "text/plain": [
       "'pi'"
      ]
     },
     "execution_count": 13,
     "metadata": {},
     "output_type": "execute_result"
    },
    {
     "name": "stdout",
     "output_type": "stream",
     "text": [
      "hom__L_c0\n",
      "hom__L_c0\n"
     ]
    },
    {
     "data": {
      "text/plain": [
       "'hom__L'"
      ]
     },
     "execution_count": 13,
     "metadata": {},
     "output_type": "execute_result"
    },
    {
     "name": "stdout",
     "output_type": "stream",
     "text": [
      "aspsa_c0\n",
      "aspsa_c0\n"
     ]
    },
    {
     "data": {
      "text/plain": [
       "'aspsa'"
      ]
     },
     "execution_count": 13,
     "metadata": {},
     "output_type": "execute_result"
    },
    {
     "name": "stdout",
     "output_type": "stream",
     "text": [
      "5houdic_c0\n",
      "whole annotation: ['5houdic', 'houdic']\n",
      "5houdic_c0\n"
     ]
    },
    {
     "data": {
      "text/plain": [
       "['5houdic', 'houdic']"
      ]
     },
     "execution_count": 13,
     "metadata": {},
     "output_type": "execute_result"
    },
    {
     "name": "stdout",
     "output_type": "stream",
     "text": [
      "cinnm_c0\n",
      "cinnm_c0\n"
     ]
    },
    {
     "data": {
      "text/plain": [
       "'cinnm'"
      ]
     },
     "execution_count": 13,
     "metadata": {},
     "output_type": "execute_result"
    },
    {
     "name": "stdout",
     "output_type": "stream",
     "text": [
      "gdptp_c0\n",
      "gdptp_c0\n"
     ]
    },
    {
     "data": {
      "text/plain": [
       "'gdptp'"
      ]
     },
     "execution_count": 13,
     "metadata": {},
     "output_type": "execute_result"
    },
    {
     "name": "stdout",
     "output_type": "stream",
     "text": [
      "CPD-9152_c0\n",
      "CPD-279_c0\n",
      "CPD-672_c0\n",
      "b2coa_c0\n",
      "b2coa_c0\n"
     ]
    },
    {
     "data": {
      "text/plain": [
       "'b2coa'"
      ]
     },
     "execution_count": 13,
     "metadata": {},
     "output_type": "execute_result"
    },
    {
     "name": "stdout",
     "output_type": "stream",
     "text": [
      "udpacgal_c0\n",
      "udpacgal_c0\n"
     ]
    },
    {
     "data": {
      "text/plain": [
       "'udpacgal'"
      ]
     },
     "execution_count": 13,
     "metadata": {},
     "output_type": "execute_result"
    },
    {
     "name": "stdout",
     "output_type": "stream",
     "text": [
      "MNXM5839_c0\n",
      "MNXM146496_c0\n",
      "MNXM10327_c0\n",
      "MNXM10326_c0\n",
      "trnaglu_c0\n",
      "trnaglu_c0\n"
     ]
    },
    {
     "data": {
      "text/plain": [
       "'trnaglu'"
      ]
     },
     "execution_count": 13,
     "metadata": {},
     "output_type": "execute_result"
    },
    {
     "name": "stdout",
     "output_type": "stream",
     "text": [
      "glutrna_c0\n",
      "glutrna_c0\n"
     ]
    },
    {
     "data": {
      "text/plain": [
       "'glutrna'"
      ]
     },
     "execution_count": 13,
     "metadata": {},
     "output_type": "execute_result"
    },
    {
     "name": "stdout",
     "output_type": "stream",
     "text": [
      "UBIQUINONE-2_c0\n",
      "QH2_c0\n",
      "acg5sa_c0\n",
      "acg5sa_c0\n"
     ]
    },
    {
     "data": {
      "text/plain": [
       "'acg5sa'"
      ]
     },
     "execution_count": 13,
     "metadata": {},
     "output_type": "execute_result"
    },
    {
     "name": "stdout",
     "output_type": "stream",
     "text": [
      "tdechola_c0\n",
      "tdechola_c0\n"
     ]
    },
    {
     "data": {
      "text/plain": [
       "'tdechola'"
      ]
     },
     "execution_count": 13,
     "metadata": {},
     "output_type": "execute_result"
    },
    {
     "name": "stdout",
     "output_type": "stream",
     "text": [
      "dchac_c0\n",
      "dchac_c0\n"
     ]
    },
    {
     "data": {
      "text/plain": [
       "'dchac'"
      ]
     },
     "execution_count": 13,
     "metadata": {},
     "output_type": "execute_result"
    },
    {
     "name": "stdout",
     "output_type": "stream",
     "text": [
      "uamr_c0\n",
      "uamr_c0\n"
     ]
    },
    {
     "data": {
      "text/plain": [
       "'uamr'"
      ]
     },
     "execution_count": 13,
     "metadata": {},
     "output_type": "execute_result"
    },
    {
     "name": "stdout",
     "output_type": "stream",
     "text": [
      "uaccg_c0\n",
      "uaccg_c0\n"
     ]
    },
    {
     "data": {
      "text/plain": [
       "'uaccg'"
      ]
     },
     "execution_count": 13,
     "metadata": {},
     "output_type": "execute_result"
    },
    {
     "name": "stdout",
     "output_type": "stream",
     "text": [
      "micit_c0\n",
      "micit_c0\n"
     ]
    },
    {
     "data": {
      "text/plain": [
       "'micit'"
      ]
     },
     "execution_count": 13,
     "metadata": {},
     "output_type": "execute_result"
    },
    {
     "name": "stdout",
     "output_type": "stream",
     "text": [
      "3mhtpp_c0\n",
      "3mhtpp_c0\n"
     ]
    },
    {
     "data": {
      "text/plain": [
       "'3mhtpp'"
      ]
     },
     "execution_count": 13,
     "metadata": {},
     "output_type": "execute_result"
    },
    {
     "name": "stdout",
     "output_type": "stream",
     "text": [
      "3mbdhl_c0\n",
      "whole annotation: ['3mbdhl', 'HC01377']\n",
      "3mbdhl_c0\n"
     ]
    },
    {
     "data": {
      "text/plain": [
       "['3mbdhl', 'HC01377']"
      ]
     },
     "execution_count": 13,
     "metadata": {},
     "output_type": "execute_result"
    },
    {
     "name": "stdout",
     "output_type": "stream",
     "text": [
      "L-N2-2-CARBOXYETHYLARGININE_c0\n",
      "fmn_c0\n",
      "fmn_c0\n"
     ]
    },
    {
     "data": {
      "text/plain": [
       "'fmn'"
      ]
     },
     "execution_count": 13,
     "metadata": {},
     "output_type": "execute_result"
    },
    {
     "name": "stdout",
     "output_type": "stream",
     "text": [
      "s17bp_c0\n",
      "s17bp_c0\n"
     ]
    },
    {
     "data": {
      "text/plain": [
       "'s17bp'"
      ]
     },
     "execution_count": 13,
     "metadata": {},
     "output_type": "execute_result"
    },
    {
     "name": "stdout",
     "output_type": "stream",
     "text": [
      "GLC_c0\n",
      "GLC-D-LACTONE_c0\n",
      "met__L_e0\n",
      "met__L_e0\n"
     ]
    },
    {
     "data": {
      "text/plain": [
       "'met__L'"
      ]
     },
     "execution_count": 13,
     "metadata": {},
     "output_type": "execute_result"
    },
    {
     "name": "stdout",
     "output_type": "stream",
     "text": [
      "2ins_c0\n",
      "2ins_c0\n"
     ]
    },
    {
     "data": {
      "text/plain": [
       "'2ins'"
      ]
     },
     "execution_count": 13,
     "metadata": {},
     "output_type": "execute_result"
    },
    {
     "name": "stdout",
     "output_type": "stream",
     "text": [
      "uaaAgla_c0\n",
      "uaaAgla_c0\n"
     ]
    },
    {
     "data": {
      "text/plain": [
       "'uaaAgla'"
      ]
     },
     "execution_count": 13,
     "metadata": {},
     "output_type": "execute_result"
    },
    {
     "name": "stdout",
     "output_type": "stream",
     "text": [
      "uaaAgtla_c0\n",
      "uaaAgtla_c0\n"
     ]
    },
    {
     "data": {
      "text/plain": [
       "'uaaAgtla'"
      ]
     },
     "execution_count": 13,
     "metadata": {},
     "output_type": "execute_result"
    },
    {
     "name": "stdout",
     "output_type": "stream",
     "text": [
      "5aop_c0\n",
      "5aop_c0\n"
     ]
    },
    {
     "data": {
      "text/plain": [
       "'5aop'"
      ]
     },
     "execution_count": 13,
     "metadata": {},
     "output_type": "execute_result"
    },
    {
     "name": "stdout",
     "output_type": "stream",
     "text": [
      "CPD-7139_c0\n",
      "MNXM5713_c0\n",
      "gly_gln__L_c0\n",
      "gly_gln__L_c0\n"
     ]
    },
    {
     "data": {
      "text/plain": [
       "'gly_gln__L'"
      ]
     },
     "execution_count": 13,
     "metadata": {},
     "output_type": "execute_result"
    },
    {
     "name": "stdout",
     "output_type": "stream",
     "text": [
      "3htdcoa_c0\n",
      "3htdcoa_c0\n"
     ]
    },
    {
     "data": {
      "text/plain": [
       "'3htdcoa'"
      ]
     },
     "execution_count": 13,
     "metadata": {},
     "output_type": "execute_result"
    },
    {
     "name": "stdout",
     "output_type": "stream",
     "text": [
      "3otdcoa_c0\n",
      "3otdcoa_c0\n"
     ]
    },
    {
     "data": {
      "text/plain": [
       "'3otdcoa'"
      ]
     },
     "execution_count": 13,
     "metadata": {},
     "output_type": "execute_result"
    },
    {
     "name": "stdout",
     "output_type": "stream",
     "text": [
      "pan4p_c0\n",
      "pan4p_c0\n"
     ]
    },
    {
     "data": {
      "text/plain": [
       "'pan4p'"
      ]
     },
     "execution_count": 13,
     "metadata": {},
     "output_type": "execute_result"
    },
    {
     "name": "stdout",
     "output_type": "stream",
     "text": [
      "dad_2_e0\n",
      "dad_2_e0\n"
     ]
    },
    {
     "data": {
      "text/plain": [
       "'dad_2'"
      ]
     },
     "execution_count": 13,
     "metadata": {},
     "output_type": "execute_result"
    },
    {
     "name": "stdout",
     "output_type": "stream",
     "text": [
      "dad_2_c0\n",
      "dad_2_c0\n"
     ]
    },
    {
     "data": {
      "text/plain": [
       "'dad_2'"
      ]
     },
     "execution_count": 13,
     "metadata": {},
     "output_type": "execute_result"
    },
    {
     "name": "stdout",
     "output_type": "stream",
     "text": [
      "CPD-15975_c0\n",
      "prbamp_c0\n",
      "prbamp_c0\n"
     ]
    },
    {
     "data": {
      "text/plain": [
       "'prbamp'"
      ]
     },
     "execution_count": 13,
     "metadata": {},
     "output_type": "execute_result"
    },
    {
     "name": "stdout",
     "output_type": "stream",
     "text": [
      "prfp_c0\n",
      "prfp_c0\n"
     ]
    },
    {
     "data": {
      "text/plain": [
       "'prfp'"
      ]
     },
     "execution_count": 13,
     "metadata": {},
     "output_type": "execute_result"
    },
    {
     "name": "stdout",
     "output_type": "stream",
     "text": [
      "CPD-9409_c0\n",
      "CPD-9408_c0\n",
      "DEOXY-HYDROXYMETHYLCYTIDINE-PHOSPHATE_c0\n",
      "2ddg6p_c0\n",
      "2ddg6p_c0\n"
     ]
    },
    {
     "data": {
      "text/plain": [
       "'2ddg6p'"
      ]
     },
     "execution_count": 13,
     "metadata": {},
     "output_type": "execute_result"
    },
    {
     "name": "stdout",
     "output_type": "stream",
     "text": [
      "CPD-1081_c0\n",
      "CPD-323_c0\n",
      "MNXM91192_c0\n",
      "lac__D_c0\n",
      "lac__D_c0\n"
     ]
    },
    {
     "data": {
      "text/plain": [
       "'lac__D'"
      ]
     },
     "execution_count": 13,
     "metadata": {},
     "output_type": "execute_result"
    },
    {
     "name": "stdout",
     "output_type": "stream",
     "text": [
      "MNXM89776_c0\n",
      "glyclt_c0\n",
      "glyclt_c0\n"
     ]
    },
    {
     "data": {
      "text/plain": [
       "'glyclt'"
      ]
     },
     "execution_count": 13,
     "metadata": {},
     "output_type": "execute_result"
    },
    {
     "name": "stdout",
     "output_type": "stream",
     "text": [
      "MNXM3446_c0\n",
      "CPD-7836_c0\n",
      "HC01459_c0\n",
      "HC01459_c0\n"
     ]
    },
    {
     "data": {
      "text/plain": [
       "'HC01459'"
      ]
     },
     "execution_count": 13,
     "metadata": {},
     "output_type": "execute_result"
    },
    {
     "name": "stdout",
     "output_type": "stream",
     "text": [
      "CPD-7257_c0\n",
      "adocbi_c0\n",
      "adocbi_c0\n"
     ]
    },
    {
     "data": {
      "text/plain": [
       "'adocbi'"
      ]
     },
     "execution_count": 13,
     "metadata": {},
     "output_type": "execute_result"
    },
    {
     "name": "stdout",
     "output_type": "stream",
     "text": [
      "ile__L_c0\n",
      "ile__L_c0\n"
     ]
    },
    {
     "data": {
      "text/plain": [
       "'ile__L'"
      ]
     },
     "execution_count": 13,
     "metadata": {},
     "output_type": "execute_result"
    },
    {
     "name": "stdout",
     "output_type": "stream",
     "text": [
      "HC02172_e0\n",
      "whole annotation: ['HC02172', 'zn2']\n",
      "HC02172_e0\n"
     ]
    },
    {
     "data": {
      "text/plain": [
       "['HC02172', 'zn2']"
      ]
     },
     "execution_count": 13,
     "metadata": {},
     "output_type": "execute_result"
    },
    {
     "name": "stdout",
     "output_type": "stream",
     "text": [
      "HC02172_c0\n",
      "whole annotation: ['HC02172', 'zn2']\n",
      "HC02172_c0\n"
     ]
    },
    {
     "data": {
      "text/plain": [
       "['HC02172', 'zn2']"
      ]
     },
     "execution_count": 13,
     "metadata": {},
     "output_type": "execute_result"
    },
    {
     "name": "stdout",
     "output_type": "stream",
     "text": [
      "MNXM145672_c0\n",
      "MNXM6335_c0\n",
      "uamag_c0\n",
      "uamag_c0\n"
     ]
    },
    {
     "data": {
      "text/plain": [
       "'uamag'"
      ]
     },
     "execution_count": 13,
     "metadata": {},
     "output_type": "execute_result"
    },
    {
     "name": "stdout",
     "output_type": "stream",
     "text": [
      "uAgl_c0\n",
      "uAgl_c0\n"
     ]
    },
    {
     "data": {
      "text/plain": [
       "'uAgl'"
      ]
     },
     "execution_count": 13,
     "metadata": {},
     "output_type": "execute_result"
    },
    {
     "name": "stdout",
     "output_type": "stream",
     "text": [
      "thbpt_c0\n",
      "thbpt_c0\n"
     ]
    },
    {
     "data": {
      "text/plain": [
       "'thbpt'"
      ]
     },
     "execution_count": 13,
     "metadata": {},
     "output_type": "execute_result"
    },
    {
     "name": "stdout",
     "output_type": "stream",
     "text": [
      "CE2705_c0\n",
      "CE2705_c0\n"
     ]
    },
    {
     "data": {
      "text/plain": [
       "'CE2705'"
      ]
     },
     "execution_count": 13,
     "metadata": {},
     "output_type": "execute_result"
    },
    {
     "name": "stdout",
     "output_type": "stream",
     "text": [
      "hdd2coa_c0\n",
      "hdd2coa_c0\n"
     ]
    },
    {
     "data": {
      "text/plain": [
       "'hdd2coa'"
      ]
     },
     "execution_count": 13,
     "metadata": {},
     "output_type": "execute_result"
    },
    {
     "name": "stdout",
     "output_type": "stream",
     "text": [
      "MNXM10219_c0\n",
      "Sterols_c0\n",
      "pchol_cho_c0\n",
      "pchol_cho_c0\n"
     ]
    },
    {
     "data": {
      "text/plain": [
       "'pchol_cho'"
      ]
     },
     "execution_count": 13,
     "metadata": {},
     "output_type": "execute_result"
    },
    {
     "name": "stdout",
     "output_type": "stream",
     "text": [
      "2-Lysophosphatidylcholines_c0\n",
      "Steryl-Esters_c0\n",
      "MNXM1138_c0\n",
      "MNXM1174_c0\n",
      "MNXM162891_c0\n",
      "4r5au_c0\n",
      "4r5au_c0\n"
     ]
    },
    {
     "data": {
      "text/plain": [
       "'4r5au'"
      ]
     },
     "execution_count": 13,
     "metadata": {},
     "output_type": "execute_result"
    },
    {
     "name": "stdout",
     "output_type": "stream",
     "text": [
      "dmlz_c0\n",
      "dmlz_c0\n"
     ]
    },
    {
     "data": {
      "text/plain": [
       "'dmlz'"
      ]
     },
     "execution_count": 13,
     "metadata": {},
     "output_type": "execute_result"
    },
    {
     "name": "stdout",
     "output_type": "stream",
     "text": [
      "MNXM7306_c0\n",
      "xyl__D_c0\n",
      "xyl__D_c0\n"
     ]
    },
    {
     "data": {
      "text/plain": [
       "'xyl__D'"
      ]
     },
     "execution_count": 13,
     "metadata": {},
     "output_type": "execute_result"
    },
    {
     "name": "stdout",
     "output_type": "stream",
     "text": [
      "CPD-10808_c0\n",
      "occoa_c0\n",
      "occoa_c0\n"
     ]
    },
    {
     "data": {
      "text/plain": [
       "'occoa'"
      ]
     },
     "execution_count": 13,
     "metadata": {},
     "output_type": "execute_result"
    },
    {
     "name": "stdout",
     "output_type": "stream",
     "text": [
      "oc2coa_c0\n",
      "oc2coa_c0\n"
     ]
    },
    {
     "data": {
      "text/plain": [
       "'oc2coa'"
      ]
     },
     "execution_count": 13,
     "metadata": {},
     "output_type": "execute_result"
    },
    {
     "name": "stdout",
     "output_type": "stream",
     "text": [
      "acgam6p_c0\n",
      "acgam6p_c0\n"
     ]
    },
    {
     "data": {
      "text/plain": [
       "'acgam6p'"
      ]
     },
     "execution_count": 13,
     "metadata": {},
     "output_type": "execute_result"
    },
    {
     "name": "stdout",
     "output_type": "stream",
     "text": [
      "ala__D_c0\n",
      "ala__D_c0\n"
     ]
    },
    {
     "data": {
      "text/plain": [
       "'ala__D'"
      ]
     },
     "execution_count": 13,
     "metadata": {},
     "output_type": "execute_result"
    },
    {
     "name": "stdout",
     "output_type": "stream",
     "text": [
      "2obut_c0\n",
      "2obut_c0\n"
     ]
    },
    {
     "data": {
      "text/plain": [
       "'2obut'"
      ]
     },
     "execution_count": 13,
     "metadata": {},
     "output_type": "execute_result"
    },
    {
     "name": "stdout",
     "output_type": "stream",
     "text": [
      "bzal_c0\n",
      "bzal_c0\n"
     ]
    },
    {
     "data": {
      "text/plain": [
       "'bzal'"
      ]
     },
     "execution_count": 13,
     "metadata": {},
     "output_type": "execute_result"
    },
    {
     "name": "stdout",
     "output_type": "stream",
     "text": [
      "bz_c0\n",
      "bz_c0\n"
     ]
    },
    {
     "data": {
      "text/plain": [
       "'bz'"
      ]
     },
     "execution_count": 13,
     "metadata": {},
     "output_type": "execute_result"
    },
    {
     "name": "stdout",
     "output_type": "stream",
     "text": [
      "2agpe180_c0\n",
      "2agpe180_c0\n"
     ]
    },
    {
     "data": {
      "text/plain": [
       "'2agpe180'"
      ]
     },
     "execution_count": 13,
     "metadata": {},
     "output_type": "execute_result"
    },
    {
     "name": "stdout",
     "output_type": "stream",
     "text": [
      "MNXM6827_c0\n",
      "CPD-10665_c0\n",
      "MNXM7163_c0\n",
      "MNXM7439_c0\n",
      "utp_c0\n",
      "utp_c0\n"
     ]
    },
    {
     "data": {
      "text/plain": [
       "'utp'"
      ]
     },
     "execution_count": 13,
     "metadata": {},
     "output_type": "execute_result"
    },
    {
     "name": "stdout",
     "output_type": "stream",
     "text": [
      "cpd02572_c0\n",
      "5cmhm_c0\n",
      "whole annotation: ['5cmhm', '5cohe']\n",
      "5cmhm_c0\n"
     ]
    },
    {
     "data": {
      "text/plain": [
       "['5cmhm', '5cohe']"
      ]
     },
     "execution_count": 13,
     "metadata": {},
     "output_type": "execute_result"
    },
    {
     "name": "stdout",
     "output_type": "stream",
     "text": [
      "uri_e0\n",
      "uri_e0\n"
     ]
    },
    {
     "data": {
      "text/plain": [
       "'uri'"
      ]
     },
     "execution_count": 13,
     "metadata": {},
     "output_type": "execute_result"
    },
    {
     "name": "stdout",
     "output_type": "stream",
     "text": [
      "hdca_e0\n",
      "hdca_e0\n"
     ]
    },
    {
     "data": {
      "text/plain": [
       "'hdca'"
      ]
     },
     "execution_count": 13,
     "metadata": {},
     "output_type": "execute_result"
    },
    {
     "name": "stdout",
     "output_type": "stream",
     "text": [
      "glu1sa_c0\n",
      "glu1sa_c0\n"
     ]
    },
    {
     "data": {
      "text/plain": [
       "'glu1sa'"
      ]
     },
     "execution_count": 13,
     "metadata": {},
     "output_type": "execute_result"
    },
    {
     "name": "stdout",
     "output_type": "stream",
     "text": [
      "his__L_e0\n",
      "his__L_e0\n"
     ]
    },
    {
     "data": {
      "text/plain": [
       "'his__L'"
      ]
     },
     "execution_count": 13,
     "metadata": {},
     "output_type": "execute_result"
    },
    {
     "name": "stdout",
     "output_type": "stream",
     "text": [
      "MNXM81014_c0\n",
      "2hog_c0\n",
      "2hog_c0\n"
     ]
    },
    {
     "data": {
      "text/plain": [
       "'2hog'"
      ]
     },
     "execution_count": 13,
     "metadata": {},
     "output_type": "execute_result"
    },
    {
     "name": "stdout",
     "output_type": "stream",
     "text": [
      "3dhsk_c0\n",
      "3dhsk_c0\n"
     ]
    },
    {
     "data": {
      "text/plain": [
       "'3dhsk'"
      ]
     },
     "execution_count": 13,
     "metadata": {},
     "output_type": "execute_result"
    },
    {
     "name": "stdout",
     "output_type": "stream",
     "text": [
      "ala_L_asp__L_e0\n",
      "ala_L_asp__L_e0\n"
     ]
    },
    {
     "data": {
      "text/plain": [
       "'ala_L_asp__L'"
      ]
     },
     "execution_count": 13,
     "metadata": {},
     "output_type": "execute_result"
    },
    {
     "name": "stdout",
     "output_type": "stream",
     "text": [
      "ala_L_asp__L_c0\n",
      "ala_L_asp__L_c0\n"
     ]
    },
    {
     "data": {
      "text/plain": [
       "'ala_L_asp__L'"
      ]
     },
     "execution_count": 13,
     "metadata": {},
     "output_type": "execute_result"
    },
    {
     "name": "stdout",
     "output_type": "stream",
     "text": [
      "dnad_c0\n",
      "dnad_c0\n"
     ]
    },
    {
     "data": {
      "text/plain": [
       "'dnad'"
      ]
     },
     "execution_count": 13,
     "metadata": {},
     "output_type": "execute_result"
    },
    {
     "name": "stdout",
     "output_type": "stream",
     "text": [
      "CPD-242_c0\n",
      "tdec2eACP_c0\n",
      "tdec2eACP_c0\n"
     ]
    },
    {
     "data": {
      "text/plain": [
       "'tdec2eACP'"
      ]
     },
     "execution_count": 13,
     "metadata": {},
     "output_type": "execute_result"
    },
    {
     "name": "stdout",
     "output_type": "stream",
     "text": [
      "5Z8Z11Z13E-15S-15-HYDROPEROXYICOS_c0\n",
      "gthox_c0\n",
      "gthox_c0\n"
     ]
    },
    {
     "data": {
      "text/plain": [
       "'gthox'"
      ]
     },
     "execution_count": 13,
     "metadata": {},
     "output_type": "execute_result"
    },
    {
     "name": "stdout",
     "output_type": "stream",
     "text": [
      "CPD66-55_c0\n",
      "dcyt_e0\n",
      "dcyt_e0\n"
     ]
    },
    {
     "data": {
      "text/plain": [
       "'dcyt'"
      ]
     },
     "execution_count": 13,
     "metadata": {},
     "output_type": "execute_result"
    },
    {
     "name": "stdout",
     "output_type": "stream",
     "text": [
      "hpyr_c0\n",
      "hpyr_c0\n"
     ]
    },
    {
     "data": {
      "text/plain": [
       "'hpyr'"
      ]
     },
     "execution_count": 13,
     "metadata": {},
     "output_type": "execute_result"
    },
    {
     "name": "stdout",
     "output_type": "stream",
     "text": [
      "cpd01466_c0\n",
      "fumpyr_c0\n",
      "fumpyr_c0\n"
     ]
    },
    {
     "data": {
      "text/plain": [
       "'fumpyr'"
      ]
     },
     "execution_count": 13,
     "metadata": {},
     "output_type": "execute_result"
    },
    {
     "name": "stdout",
     "output_type": "stream",
     "text": [
      "arg__D_c0\n",
      "arg__D_c0\n"
     ]
    },
    {
     "data": {
      "text/plain": [
       "'arg__D'"
      ]
     },
     "execution_count": 13,
     "metadata": {},
     "output_type": "execute_result"
    },
    {
     "name": "stdout",
     "output_type": "stream",
     "text": [
      "2-Oxo-Acids_c0\n",
      "5g2oxpt_c0\n",
      "5g2oxpt_c0\n"
     ]
    },
    {
     "data": {
      "text/plain": [
       "'5g2oxpt'"
      ]
     },
     "execution_count": 13,
     "metadata": {},
     "output_type": "execute_result"
    },
    {
     "name": "stdout",
     "output_type": "stream",
     "text": [
      "D-Amino-Acids_c0\n",
      "23ccmp_c0\n",
      "23ccmp_c0\n"
     ]
    },
    {
     "data": {
      "text/plain": [
       "'23ccmp'"
      ]
     },
     "execution_count": 13,
     "metadata": {},
     "output_type": "execute_result"
    },
    {
     "name": "stdout",
     "output_type": "stream",
     "text": [
      "3cmp_c0\n",
      "3cmp_c0\n"
     ]
    },
    {
     "data": {
      "text/plain": [
       "'3cmp'"
      ]
     },
     "execution_count": 13,
     "metadata": {},
     "output_type": "execute_result"
    },
    {
     "name": "stdout",
     "output_type": "stream",
     "text": [
      "pp2coa_c0\n",
      "whole annotation: ['pp2coa', 'prpncoa']\n",
      "pp2coa_c0\n"
     ]
    },
    {
     "data": {
      "text/plain": [
       "['pp2coa', 'prpncoa']"
      ]
     },
     "execution_count": 13,
     "metadata": {},
     "output_type": "execute_result"
    },
    {
     "name": "stdout",
     "output_type": "stream",
     "text": [
      "sucr_e0\n",
      "sucr_e0\n"
     ]
    },
    {
     "data": {
      "text/plain": [
       "'sucr'"
      ]
     },
     "execution_count": 13,
     "metadata": {},
     "output_type": "execute_result"
    },
    {
     "name": "stdout",
     "output_type": "stream",
     "text": [
      "suc6p_c0\n",
      "suc6p_c0\n"
     ]
    },
    {
     "data": {
      "text/plain": [
       "'suc6p'"
      ]
     },
     "execution_count": 13,
     "metadata": {},
     "output_type": "execute_result"
    },
    {
     "name": "stdout",
     "output_type": "stream",
     "text": [
      "tag6p__D_c0\n",
      "tag6p__D_c0\n"
     ]
    },
    {
     "data": {
      "text/plain": [
       "'tag6p__D'"
      ]
     },
     "execution_count": 13,
     "metadata": {},
     "output_type": "execute_result"
    },
    {
     "name": "stdout",
     "output_type": "stream",
     "text": [
      "tagdp__D_c0\n",
      "tagdp__D_c0\n"
     ]
    },
    {
     "data": {
      "text/plain": [
       "'tagdp__D'"
      ]
     },
     "execution_count": 13,
     "metadata": {},
     "output_type": "execute_result"
    },
    {
     "name": "stdout",
     "output_type": "stream",
     "text": [
      "rml_c0\n",
      "rml_c0\n"
     ]
    },
    {
     "data": {
      "text/plain": [
       "'rml'"
      ]
     },
     "execution_count": 13,
     "metadata": {},
     "output_type": "execute_result"
    },
    {
     "name": "stdout",
     "output_type": "stream",
     "text": [
      "rml1p_c0\n",
      "rml1p_c0\n"
     ]
    },
    {
     "data": {
      "text/plain": [
       "'rml1p'"
      ]
     },
     "execution_count": 13,
     "metadata": {},
     "output_type": "execute_result"
    },
    {
     "name": "stdout",
     "output_type": "stream",
     "text": [
      "ile__L_e0\n",
      "ile__L_e0\n"
     ]
    },
    {
     "data": {
      "text/plain": [
       "'ile__L'"
      ]
     },
     "execution_count": 13,
     "metadata": {},
     "output_type": "execute_result"
    },
    {
     "name": "stdout",
     "output_type": "stream",
     "text": [
      "S2hglut_c0\n",
      "S2hglut_c0\n"
     ]
    },
    {
     "data": {
      "text/plain": [
       "'S2hglut'"
      ]
     },
     "execution_count": 13,
     "metadata": {},
     "output_type": "execute_result"
    },
    {
     "name": "stdout",
     "output_type": "stream",
     "text": [
      "Alkyl-enyl-acyl-gly-P-EtOH-amines_c0\n",
      "cdpea_c0\n",
      "cdpea_c0\n"
     ]
    },
    {
     "data": {
      "text/plain": [
       "'cdpea'"
      ]
     },
     "execution_count": 13,
     "metadata": {},
     "output_type": "execute_result"
    },
    {
     "name": "stdout",
     "output_type": "stream",
     "text": [
      "1-ALKENYL-2-ACYLGLYCEROL_c0\n",
      "35cgmp_c0\n",
      "35cgmp_c0\n"
     ]
    },
    {
     "data": {
      "text/plain": [
       "'35cgmp'"
      ]
     },
     "execution_count": 13,
     "metadata": {},
     "output_type": "execute_result"
    },
    {
     "name": "stdout",
     "output_type": "stream",
     "text": [
      "pram_c0\n",
      "pram_c0\n"
     ]
    },
    {
     "data": {
      "text/plain": [
       "'pram'"
      ]
     },
     "execution_count": 13,
     "metadata": {},
     "output_type": "execute_result"
    },
    {
     "name": "stdout",
     "output_type": "stream",
     "text": [
      "MNXM10122_c0\n",
      "MNXM12665_c0\n",
      "2p4c2me_c0\n",
      "2p4c2me_c0\n"
     ]
    },
    {
     "data": {
      "text/plain": [
       "'2p4c2me'"
      ]
     },
     "execution_count": 13,
     "metadata": {},
     "output_type": "execute_result"
    },
    {
     "name": "stdout",
     "output_type": "stream",
     "text": [
      "ak2g_cho_c0\n",
      "whole annotation: ['ak2g_cho', 'ak2g_hs']\n",
      "ak2g_cho_c0\n"
     ]
    },
    {
     "data": {
      "text/plain": [
       "['ak2g_cho', 'ak2g_hs']"
      ]
     },
     "execution_count": 13,
     "metadata": {},
     "output_type": "execute_result"
    },
    {
     "name": "stdout",
     "output_type": "stream",
     "text": [
      "Alkyl-acyl-gly-P-EtOH-amines_c0\n",
      "MNXM6298_c0\n",
      "MNXM162320_c0\n",
      "cdpdodecg_c0\n",
      "cdpdodecg_c0\n"
     ]
    },
    {
     "data": {
      "text/plain": [
       "'cdpdodecg'"
      ]
     },
     "execution_count": 13,
     "metadata": {},
     "output_type": "execute_result"
    },
    {
     "name": "stdout",
     "output_type": "stream",
     "text": [
      "D-BETA-D-HEPTOSE-17-DIPHOSPHATE_c0\n",
      "gmhep1p_c0\n",
      "gmhep1p_c0\n"
     ]
    },
    {
     "data": {
      "text/plain": [
       "'gmhep1p'"
      ]
     },
     "execution_count": 13,
     "metadata": {},
     "output_type": "execute_result"
    },
    {
     "name": "stdout",
     "output_type": "stream",
     "text": [
      "prlp_c0\n",
      "prlp_c0\n"
     ]
    },
    {
     "data": {
      "text/plain": [
       "'prlp'"
      ]
     },
     "execution_count": 13,
     "metadata": {},
     "output_type": "execute_result"
    },
    {
     "name": "stdout",
     "output_type": "stream",
     "text": [
      "MNXM8377_c0\n",
      "MNXM11359_c0\n",
      "thym_c0\n",
      "thym_c0\n"
     ]
    },
    {
     "data": {
      "text/plain": [
       "'thym'"
      ]
     },
     "execution_count": 13,
     "metadata": {},
     "output_type": "execute_result"
    },
    {
     "name": "stdout",
     "output_type": "stream",
     "text": [
      "2dr1p_c0\n",
      "2dr1p_c0\n"
     ]
    },
    {
     "data": {
      "text/plain": [
       "'2dr1p'"
      ]
     },
     "execution_count": 13,
     "metadata": {},
     "output_type": "execute_result"
    },
    {
     "name": "stdout",
     "output_type": "stream",
     "text": [
      "3hpalmACP_c0\n",
      "3hpalmACP_c0\n"
     ]
    },
    {
     "data": {
      "text/plain": [
       "'3hpalmACP'"
      ]
     },
     "execution_count": 13,
     "metadata": {},
     "output_type": "execute_result"
    },
    {
     "name": "stdout",
     "output_type": "stream",
     "text": [
      "3opalmACP_c0\n",
      "3opalmACP_c0\n"
     ]
    },
    {
     "data": {
      "text/plain": [
       "'3opalmACP'"
      ]
     },
     "execution_count": 13,
     "metadata": {},
     "output_type": "execute_result"
    },
    {
     "name": "stdout",
     "output_type": "stream",
     "text": [
      "MNXM5477_c0\n",
      "BUTANEDIOL_c0\n",
      "ACETOIN_c0\n",
      "HC01161_c0\n",
      "whole annotation: ['HC01161', 'apoACP']\n",
      "HC01161_c0\n"
     ]
    },
    {
     "data": {
      "text/plain": [
       "['HC01161', 'apoACP']"
      ]
     },
     "execution_count": 13,
     "metadata": {},
     "output_type": "execute_result"
    },
    {
     "name": "stdout",
     "output_type": "stream",
     "text": [
      "2ddglcn_c0\n",
      "whole annotation: ['2ddglcn', '2dh3dgal']\n",
      "2ddglcn_c0\n"
     ]
    },
    {
     "data": {
      "text/plain": [
       "['2ddglcn', '2dh3dgal']"
      ]
     },
     "execution_count": 13,
     "metadata": {},
     "output_type": "execute_result"
    },
    {
     "name": "stdout",
     "output_type": "stream",
     "text": [
      "CPD-343_c0\n",
      "MNXM8218_c0\n",
      "MNXM9655_c0\n",
      "lipoate_c0\n",
      "whole annotation: ['lipoate', 'lipt']\n",
      "lipoate_c0\n"
     ]
    },
    {
     "data": {
      "text/plain": [
       "['lipoate', 'lipt']"
      ]
     },
     "execution_count": 13,
     "metadata": {},
     "output_type": "execute_result"
    },
    {
     "name": "stdout",
     "output_type": "stream",
     "text": [
      "CE5656_c0\n",
      "whole annotation: ['CE5656', 'lipoamp']\n",
      "CE5656_c0\n"
     ]
    },
    {
     "data": {
      "text/plain": [
       "['CE5656', 'lipoamp']"
      ]
     },
     "execution_count": 13,
     "metadata": {},
     "output_type": "execute_result"
    },
    {
     "name": "stdout",
     "output_type": "stream",
     "text": [
      "cyan_c0\n",
      "cyan_c0\n"
     ]
    },
    {
     "data": {
      "text/plain": [
       "'cyan'"
      ]
     },
     "execution_count": 13,
     "metadata": {},
     "output_type": "execute_result"
    },
    {
     "name": "stdout",
     "output_type": "stream",
     "text": [
      "galt_e0\n",
      "galt_e0\n"
     ]
    },
    {
     "data": {
      "text/plain": [
       "'galt'"
      ]
     },
     "execution_count": 13,
     "metadata": {},
     "output_type": "execute_result"
    },
    {
     "name": "stdout",
     "output_type": "stream",
     "text": [
      "galt1p_c0\n",
      "galt1p_c0\n"
     ]
    },
    {
     "data": {
      "text/plain": [
       "'galt1p'"
      ]
     },
     "execution_count": 13,
     "metadata": {},
     "output_type": "execute_result"
    },
    {
     "name": "stdout",
     "output_type": "stream",
     "text": [
      "3hpcoa_c0\n",
      "3hpcoa_c0\n"
     ]
    },
    {
     "data": {
      "text/plain": [
       "'3hpcoa'"
      ]
     },
     "execution_count": 13,
     "metadata": {},
     "output_type": "execute_result"
    },
    {
     "name": "stdout",
     "output_type": "stream",
     "text": [
      "3mbzald_c0\n",
      "3mbzald_c0\n"
     ]
    },
    {
     "data": {
      "text/plain": [
       "'3mbzald'"
      ]
     },
     "execution_count": 13,
     "metadata": {},
     "output_type": "execute_result"
    },
    {
     "name": "stdout",
     "output_type": "stream",
     "text": [
      "m_tol_c0\n",
      "m_tol_c0\n"
     ]
    },
    {
     "data": {
      "text/plain": [
       "'m_tol'"
      ]
     },
     "execution_count": 13,
     "metadata": {},
     "output_type": "execute_result"
    },
    {
     "name": "stdout",
     "output_type": "stream",
     "text": [
      "taur_e0\n",
      "taur_e0\n"
     ]
    },
    {
     "data": {
      "text/plain": [
       "'taur'"
      ]
     },
     "execution_count": 13,
     "metadata": {},
     "output_type": "execute_result"
    },
    {
     "name": "stdout",
     "output_type": "stream",
     "text": [
      "4izp_c0\n",
      "4izp_c0\n"
     ]
    },
    {
     "data": {
      "text/plain": [
       "'4izp'"
      ]
     },
     "execution_count": 13,
     "metadata": {},
     "output_type": "execute_result"
    },
    {
     "name": "stdout",
     "output_type": "stream",
     "text": [
      "forglu_c0\n",
      "forglu_c0\n"
     ]
    },
    {
     "data": {
      "text/plain": [
       "'forglu'"
      ]
     },
     "execution_count": 13,
     "metadata": {},
     "output_type": "execute_result"
    },
    {
     "name": "stdout",
     "output_type": "stream",
     "text": [
      "CPD-14426_c0\n",
      "CPD-13792_c0\n",
      "4abut_c0\n",
      "4abut_c0\n"
     ]
    },
    {
     "data": {
      "text/plain": [
       "'4abut'"
      ]
     },
     "execution_count": 13,
     "metadata": {},
     "output_type": "execute_result"
    },
    {
     "name": "stdout",
     "output_type": "stream",
     "text": [
      "sucsal_c0\n",
      "sucsal_c0\n"
     ]
    },
    {
     "data": {
      "text/plain": [
       "'sucsal'"
      ]
     },
     "execution_count": 13,
     "metadata": {},
     "output_type": "execute_result"
    },
    {
     "name": "stdout",
     "output_type": "stream",
     "text": [
      "codscl8x_c0\n",
      "whole annotation: ['codscl8x', 'copre8']\n",
      "codscl8x_c0\n"
     ]
    },
    {
     "data": {
      "text/plain": [
       "['codscl8x', 'copre8']"
      ]
     },
     "execution_count": 13,
     "metadata": {},
     "output_type": "execute_result"
    },
    {
     "name": "stdout",
     "output_type": "stream",
     "text": [
      "MNXM90961_c0\n",
      "MNXM163919_c0\n",
      "CPD-13833_c0\n",
      "16-METHOXY-23-DIHYDRO-3-HYDROXYTABERSON_c0\n",
      "DEACETOXYVINDOLINE_c0\n",
      "MNXM6281_c0\n",
      "glycogen_c0\n",
      "glycogen_c0\n"
     ]
    },
    {
     "data": {
      "text/plain": [
       "'glycogen'"
      ]
     },
     "execution_count": 13,
     "metadata": {},
     "output_type": "execute_result"
    },
    {
     "name": "stdout",
     "output_type": "stream",
     "text": [
      "gly_phe__L_e0\n",
      "whole annotation: ['gly_phe__L', 'glyphe']\n",
      "gly_phe__L_e0\n"
     ]
    },
    {
     "data": {
      "text/plain": [
       "['gly_phe__L', 'glyphe']"
      ]
     },
     "execution_count": 13,
     "metadata": {},
     "output_type": "execute_result"
    },
    {
     "name": "stdout",
     "output_type": "stream",
     "text": [
      "MNXM147676_c0\n",
      "orn__D_c0\n",
      "orn__D_c0\n"
     ]
    },
    {
     "data": {
      "text/plain": [
       "'orn__D'"
      ]
     },
     "execution_count": 13,
     "metadata": {},
     "output_type": "execute_result"
    },
    {
     "name": "stdout",
     "output_type": "stream",
     "text": [
      "gly_cys__L_c0\n",
      "gly_cys__L_c0\n"
     ]
    },
    {
     "data": {
      "text/plain": [
       "'gly_cys__L'"
      ]
     },
     "execution_count": 13,
     "metadata": {},
     "output_type": "execute_result"
    },
    {
     "name": "stdout",
     "output_type": "stream",
     "text": [
      "MNXM5743_c0\n",
      "MNXM9623_c0\n",
      "nebari_c0\n",
      "nebari_c0\n"
     ]
    },
    {
     "data": {
      "text/plain": [
       "'nebari'"
      ]
     },
     "execution_count": 13,
     "metadata": {},
     "output_type": "execute_result"
    },
    {
     "name": "stdout",
     "output_type": "stream",
     "text": [
      "purine_c0\n",
      "purine_c0\n"
     ]
    },
    {
     "data": {
      "text/plain": [
       "'purine'"
      ]
     },
     "execution_count": 13,
     "metadata": {},
     "output_type": "execute_result"
    },
    {
     "name": "stdout",
     "output_type": "stream",
     "text": [
      "MNXM42463_c0\n",
      "1tdec7eg3p_c0\n",
      "1tdec7eg3p_c0\n"
     ]
    },
    {
     "data": {
      "text/plain": [
       "'1tdec7eg3p'"
      ]
     },
     "execution_count": 13,
     "metadata": {},
     "output_type": "execute_result"
    },
    {
     "name": "stdout",
     "output_type": "stream",
     "text": [
      "MNXM83847_c0\n",
      "CPD-8574_c0\n",
      "ghb_c0\n",
      "ghb_c0\n"
     ]
    },
    {
     "data": {
      "text/plain": [
       "'ghb'"
      ]
     },
     "execution_count": 13,
     "metadata": {},
     "output_type": "execute_result"
    },
    {
     "name": "stdout",
     "output_type": "stream",
     "text": [
      "spmd_e0\n",
      "spmd_e0\n"
     ]
    },
    {
     "data": {
      "text/plain": [
       "'spmd'"
      ]
     },
     "execution_count": 13,
     "metadata": {},
     "output_type": "execute_result"
    },
    {
     "name": "stdout",
     "output_type": "stream",
     "text": [
      "SOLANESYL-PYROPHOSPHATE_c0\n",
      "NONAPRENYL-4-HYDROXYBENZOATE_c0\n",
      "inoshp_c0\n",
      "whole annotation: ['inoshp', 'minohp', 'ppmi1346p']\n",
      "inoshp_c0\n"
     ]
    },
    {
     "data": {
      "text/plain": [
       "['inoshp', 'minohp', 'ppmi1346p']"
      ]
     },
     "execution_count": 13,
     "metadata": {},
     "output_type": "execute_result"
    },
    {
     "name": "stdout",
     "output_type": "stream",
     "text": [
      "ppmi12346p_c0\n",
      "ppmi12346p_c0\n"
     ]
    },
    {
     "data": {
      "text/plain": [
       "'ppmi12346p'"
      ]
     },
     "execution_count": 13,
     "metadata": {},
     "output_type": "execute_result"
    },
    {
     "name": "stdout",
     "output_type": "stream",
     "text": [
      "cdpdddecg_c0\n",
      "cdpdddecg_c0\n"
     ]
    },
    {
     "data": {
      "text/plain": [
       "'cdpdddecg'"
      ]
     },
     "execution_count": 13,
     "metadata": {},
     "output_type": "execute_result"
    },
    {
     "name": "stdout",
     "output_type": "stream",
     "text": [
      "2hdec9eg3p_c0\n",
      "2hdec9eg3p_c0\n"
     ]
    },
    {
     "data": {
      "text/plain": [
       "'2hdec9eg3p'"
      ]
     },
     "execution_count": 13,
     "metadata": {},
     "output_type": "execute_result"
    },
    {
     "name": "stdout",
     "output_type": "stream",
     "text": [
      "12-DIACYL-3-O-ALPHA-D-GLUCOPYRANOSYL_c0\n",
      "12-DIACYL-3-O-ALPHA-D-GLUCOPYRANOSYL1_c0\n",
      "56dh5flura_c0\n",
      "56dh5flura_c0\n"
     ]
    },
    {
     "data": {
      "text/plain": [
       "'56dh5flura'"
      ]
     },
     "execution_count": 13,
     "metadata": {},
     "output_type": "execute_result"
    },
    {
     "name": "stdout",
     "output_type": "stream",
     "text": [
      "aflburppa_c0\n",
      "aflburppa_c0\n"
     ]
    },
    {
     "data": {
      "text/plain": [
       "'aflburppa'"
      ]
     },
     "execution_count": 13,
     "metadata": {},
     "output_type": "execute_result"
    },
    {
     "name": "stdout",
     "output_type": "stream",
     "text": [
      "3hddecACP_c0\n",
      "3hddecACP_c0\n"
     ]
    },
    {
     "data": {
      "text/plain": [
       "'3hddecACP'"
      ]
     },
     "execution_count": 13,
     "metadata": {},
     "output_type": "execute_result"
    },
    {
     "name": "stdout",
     "output_type": "stream",
     "text": [
      "trp__L_c0\n",
      "trp__L_c0\n"
     ]
    },
    {
     "data": {
      "text/plain": [
       "'trp__L'"
      ]
     },
     "execution_count": 13,
     "metadata": {},
     "output_type": "execute_result"
    },
    {
     "name": "stdout",
     "output_type": "stream",
     "text": [
      "trypta_c0\n",
      "trypta_c0\n"
     ]
    },
    {
     "data": {
      "text/plain": [
       "'trypta'"
      ]
     },
     "execution_count": 13,
     "metadata": {},
     "output_type": "execute_result"
    },
    {
     "name": "stdout",
     "output_type": "stream",
     "text": [
      "agm_c0\n",
      "agm_c0\n"
     ]
    },
    {
     "data": {
      "text/plain": [
       "'agm'"
      ]
     },
     "execution_count": 13,
     "metadata": {},
     "output_type": "execute_result"
    },
    {
     "name": "stdout",
     "output_type": "stream",
     "text": [
      "cpppg3_c0\n",
      "cpppg3_c0\n"
     ]
    },
    {
     "data": {
      "text/plain": [
       "'cpppg3'"
      ]
     },
     "execution_count": 13,
     "metadata": {},
     "output_type": "execute_result"
    },
    {
     "name": "stdout",
     "output_type": "stream",
     "text": [
      "ser__L_e0\n",
      "ser__L_e0\n"
     ]
    },
    {
     "data": {
      "text/plain": [
       "'ser__L'"
      ]
     },
     "execution_count": 13,
     "metadata": {},
     "output_type": "execute_result"
    },
    {
     "name": "stdout",
     "output_type": "stream",
     "text": [
      "TAUROCYAMINE_c0\n",
      "MNXM161585_c0\n",
      "Alkyl-Hydro-Peroxides_c0\n",
      "Alcohols_c0\n",
      "MNXM8973_c0\n",
      "Protein-Tyrosines_c0\n",
      "Protein-tyrosine-phosphates_c0\n",
      "chols_c0\n",
      "chols_c0\n"
     ]
    },
    {
     "data": {
      "text/plain": [
       "'chols'"
      ]
     },
     "execution_count": 13,
     "metadata": {},
     "output_type": "execute_result"
    },
    {
     "name": "stdout",
     "output_type": "stream",
     "text": [
      "MNXM10423_c0\n",
      "MNXM10422_c0\n",
      "pail34p_cho_c0\n",
      "pail34p_cho_c0\n"
     ]
    },
    {
     "data": {
      "text/plain": [
       "'pail34p_cho'"
      ]
     },
     "execution_count": 13,
     "metadata": {},
     "output_type": "execute_result"
    },
    {
     "name": "stdout",
     "output_type": "stream",
     "text": [
      "pail3p_cho_c0\n",
      "pail3p_cho_c0\n"
     ]
    },
    {
     "data": {
      "text/plain": [
       "'pail3p_cho'"
      ]
     },
     "execution_count": 13,
     "metadata": {},
     "output_type": "execute_result"
    },
    {
     "name": "stdout",
     "output_type": "stream",
     "text": [
      "MNXM4972_c0\n",
      "CPD-15898_c0\n",
      "pnto__R_e0\n",
      "pnto__R_e0\n"
     ]
    },
    {
     "data": {
      "text/plain": [
       "'pnto__R'"
      ]
     },
     "execution_count": 13,
     "metadata": {},
     "output_type": "execute_result"
    },
    {
     "name": "stdout",
     "output_type": "stream",
     "text": [
      "pnto__R_c0\n",
      "pnto__R_c0\n"
     ]
    },
    {
     "data": {
      "text/plain": [
       "'pnto__R'"
      ]
     },
     "execution_count": 13,
     "metadata": {},
     "output_type": "execute_result"
    },
    {
     "name": "stdout",
     "output_type": "stream",
     "text": [
      "aacald_c0\n",
      "whole annotation: ['aacald', 'amacald']\n",
      "aacald_c0\n"
     ]
    },
    {
     "data": {
      "text/plain": [
       "['aacald', 'amacald']"
      ]
     },
     "execution_count": 13,
     "metadata": {},
     "output_type": "execute_result"
    },
    {
     "name": "stdout",
     "output_type": "stream",
     "text": [
      "MNXM6614_c0\n",
      "HYDROXYNAPHTHOATE_c0\n",
      "lycop_c0\n",
      "lycop_c0\n"
     ]
    },
    {
     "data": {
      "text/plain": [
       "'lycop'"
      ]
     },
     "execution_count": 13,
     "metadata": {},
     "output_type": "execute_result"
    },
    {
     "name": "stdout",
     "output_type": "stream",
     "text": [
      "CPD-11447_c0\n",
      "CPD-9424_c0\n",
      "CPD-9425_c0\n",
      "val__L_c0\n",
      "val__L_c0\n"
     ]
    },
    {
     "data": {
      "text/plain": [
       "'val__L'"
      ]
     },
     "execution_count": 13,
     "metadata": {},
     "output_type": "execute_result"
    },
    {
     "name": "stdout",
     "output_type": "stream",
     "text": [
      "4ampm_c0\n",
      "4ampm_c0\n"
     ]
    },
    {
     "data": {
      "text/plain": [
       "'4ampm'"
      ]
     },
     "execution_count": 13,
     "metadata": {},
     "output_type": "execute_result"
    },
    {
     "name": "stdout",
     "output_type": "stream",
     "text": [
      "6a2ohxnt_c0\n",
      "6a2ohxnt_c0\n"
     ]
    },
    {
     "data": {
      "text/plain": [
       "'6a2ohxnt'"
      ]
     },
     "execution_count": 13,
     "metadata": {},
     "output_type": "execute_result"
    },
    {
     "name": "stdout",
     "output_type": "stream",
     "text": [
      "1pipdn2c_c0\n",
      "1pipdn2c_c0\n"
     ]
    },
    {
     "data": {
      "text/plain": [
       "'1pipdn2c'"
      ]
     },
     "execution_count": 13,
     "metadata": {},
     "output_type": "execute_result"
    },
    {
     "name": "stdout",
     "output_type": "stream",
     "text": [
      "CPD1G-2_c0\n",
      "CPD1G-121_c0\n",
      "pppn_c0\n",
      "pppn_c0\n"
     ]
    },
    {
     "data": {
      "text/plain": [
       "'pppn'"
      ]
     },
     "execution_count": 13,
     "metadata": {},
     "output_type": "execute_result"
    },
    {
     "name": "stdout",
     "output_type": "stream",
     "text": [
      "MNXM163340_c0\n",
      "acmalt_c0\n",
      "acmalt_c0\n"
     ]
    },
    {
     "data": {
      "text/plain": [
       "'acmalt'"
      ]
     },
     "execution_count": 13,
     "metadata": {},
     "output_type": "execute_result"
    },
    {
     "name": "stdout",
     "output_type": "stream",
     "text": [
      "ala_L_gln__L_c0\n",
      "ala_L_gln__L_c0\n"
     ]
    },
    {
     "data": {
      "text/plain": [
       "'ala_L_gln__L'"
      ]
     },
     "execution_count": 13,
     "metadata": {},
     "output_type": "execute_result"
    },
    {
     "name": "stdout",
     "output_type": "stream",
     "text": [
      "u23ga_c0\n",
      "u23ga_c0\n"
     ]
    },
    {
     "data": {
      "text/plain": [
       "'u23ga'"
      ]
     },
     "execution_count": 13,
     "metadata": {},
     "output_type": "execute_result"
    },
    {
     "name": "stdout",
     "output_type": "stream",
     "text": [
      "lipidX_c0\n",
      "lipidX_c0\n"
     ]
    },
    {
     "data": {
      "text/plain": [
       "'lipidX'"
      ]
     },
     "execution_count": 13,
     "metadata": {},
     "output_type": "execute_result"
    },
    {
     "name": "stdout",
     "output_type": "stream",
     "text": [
      "btcoa_c0\n",
      "btcoa_c0\n"
     ]
    },
    {
     "data": {
      "text/plain": [
       "'btcoa'"
      ]
     },
     "execution_count": 13,
     "metadata": {},
     "output_type": "execute_result"
    },
    {
     "name": "stdout",
     "output_type": "stream",
     "text": [
      "BUTYRIC_ACID_c0\n",
      "2ombz_c0\n",
      "2ombz_c0\n"
     ]
    },
    {
     "data": {
      "text/plain": [
       "'2ombz'"
      ]
     },
     "execution_count": 13,
     "metadata": {},
     "output_type": "execute_result"
    },
    {
     "name": "stdout",
     "output_type": "stream",
     "text": [
      "2ommb_c0\n",
      "2ommb_c0\n"
     ]
    },
    {
     "data": {
      "text/plain": [
       "'2ommb'"
      ]
     },
     "execution_count": 13,
     "metadata": {},
     "output_type": "execute_result"
    },
    {
     "name": "stdout",
     "output_type": "stream",
     "text": [
      "4gudbutn_c0\n",
      "4gudbutn_c0\n"
     ]
    },
    {
     "data": {
      "text/plain": [
       "'4gudbutn'"
      ]
     },
     "execution_count": 13,
     "metadata": {},
     "output_type": "execute_result"
    },
    {
     "name": "stdout",
     "output_type": "stream",
     "text": [
      "malthx_c0\n",
      "malthx_c0\n"
     ]
    },
    {
     "data": {
      "text/plain": [
       "'malthx'"
      ]
     },
     "execution_count": 13,
     "metadata": {},
     "output_type": "execute_result"
    },
    {
     "name": "stdout",
     "output_type": "stream",
     "text": [
      "nmn_c0\n",
      "nmn_c0\n"
     ]
    },
    {
     "data": {
      "text/plain": [
       "'nmn'"
      ]
     },
     "execution_count": 13,
     "metadata": {},
     "output_type": "execute_result"
    },
    {
     "name": "stdout",
     "output_type": "stream",
     "text": [
      "rnam_c0\n",
      "rnam_c0\n"
     ]
    },
    {
     "data": {
      "text/plain": [
       "'rnam'"
      ]
     },
     "execution_count": 13,
     "metadata": {},
     "output_type": "execute_result"
    },
    {
     "name": "stdout",
     "output_type": "stream",
     "text": [
      "CE5866_c0\n",
      "whole annotation: ['CE5866', 'ala_L_leu__L']\n",
      "CE5866_c0\n"
     ]
    },
    {
     "data": {
      "text/plain": [
       "['CE5866', 'ala_L_leu__L']"
      ]
     },
     "execution_count": 13,
     "metadata": {},
     "output_type": "execute_result"
    },
    {
     "name": "stdout",
     "output_type": "stream",
     "text": [
      "23cump_c0\n",
      "23cump_c0\n"
     ]
    },
    {
     "data": {
      "text/plain": [
       "'23cump'"
      ]
     },
     "execution_count": 13,
     "metadata": {},
     "output_type": "execute_result"
    },
    {
     "name": "stdout",
     "output_type": "stream",
     "text": [
      "3ump_c0\n",
      "3ump_c0\n"
     ]
    },
    {
     "data": {
      "text/plain": [
       "'3ump'"
      ]
     },
     "execution_count": 13,
     "metadata": {},
     "output_type": "execute_result"
    },
    {
     "name": "stdout",
     "output_type": "stream",
     "text": [
      "met__D_e0\n",
      "met__D_e0\n"
     ]
    },
    {
     "data": {
      "text/plain": [
       "'met__D'"
      ]
     },
     "execution_count": 13,
     "metadata": {},
     "output_type": "execute_result"
    },
    {
     "name": "stdout",
     "output_type": "stream",
     "text": [
      "met__D_c0\n",
      "met__D_c0\n"
     ]
    },
    {
     "data": {
      "text/plain": [
       "'met__D'"
      ]
     },
     "execution_count": 13,
     "metadata": {},
     "output_type": "execute_result"
    },
    {
     "name": "stdout",
     "output_type": "stream",
     "text": [
      "dutp_c0\n",
      "dutp_c0\n"
     ]
    },
    {
     "data": {
      "text/plain": [
       "'dutp'"
      ]
     },
     "execution_count": 13,
     "metadata": {},
     "output_type": "execute_result"
    },
    {
     "name": "stdout",
     "output_type": "stream",
     "text": [
      "dudp_c0\n",
      "dudp_c0\n"
     ]
    },
    {
     "data": {
      "text/plain": [
       "'dudp'"
      ]
     },
     "execution_count": 13,
     "metadata": {},
     "output_type": "execute_result"
    },
    {
     "name": "stdout",
     "output_type": "stream",
     "text": [
      "2sephchc_c0\n",
      "2sephchc_c0\n"
     ]
    },
    {
     "data": {
      "text/plain": [
       "'2sephchc'"
      ]
     },
     "execution_count": 13,
     "metadata": {},
     "output_type": "execute_result"
    },
    {
     "name": "stdout",
     "output_type": "stream",
     "text": [
      "CPD-9923_c0\n",
      "phom_c0\n",
      "phom_c0\n"
     ]
    },
    {
     "data": {
      "text/plain": [
       "'phom'"
      ]
     },
     "execution_count": 13,
     "metadata": {},
     "output_type": "execute_result"
    },
    {
     "name": "stdout",
     "output_type": "stream",
     "text": [
      "MNXM6798_c0\n",
      "sucarg_c0\n",
      "sucarg_c0\n"
     ]
    },
    {
     "data": {
      "text/plain": [
       "'sucarg'"
      ]
     },
     "execution_count": 13,
     "metadata": {},
     "output_type": "execute_result"
    },
    {
     "name": "stdout",
     "output_type": "stream",
     "text": [
      "MNXM5245_c0\n",
      "MNXM538_c0\n",
      "36dahx_c0\n",
      "36dahx_c0\n"
     ]
    },
    {
     "data": {
      "text/plain": [
       "'36dahx'"
      ]
     },
     "execution_count": 13,
     "metadata": {},
     "output_type": "execute_result"
    },
    {
     "name": "stdout",
     "output_type": "stream",
     "text": [
      "CPD-7273_c0\n",
      "CPD-7274_c0\n",
      "MNXM150873_c0\n",
      "MNXM5312_c0\n",
      "L-ALPHA-AMINO-EPSILON-KETO-PIMELATE_c0\n",
      "thdp_c0\n",
      "thdp_c0\n"
     ]
    },
    {
     "data": {
      "text/plain": [
       "'thdp'"
      ]
     },
     "execution_count": 13,
     "metadata": {},
     "output_type": "execute_result"
    },
    {
     "name": "stdout",
     "output_type": "stream",
     "text": [
      "4c2me_c0\n",
      "4c2me_c0\n"
     ]
    },
    {
     "data": {
      "text/plain": [
       "'4c2me'"
      ]
     },
     "execution_count": 13,
     "metadata": {},
     "output_type": "execute_result"
    },
    {
     "name": "stdout",
     "output_type": "stream",
     "text": [
      "MNXM92575_c0\n",
      "MNXM162980_c0\n",
      "MNXM78362_c0\n",
      "hemeO_c0\n",
      "hemeO_c0\n"
     ]
    },
    {
     "data": {
      "text/plain": [
       "'hemeO'"
      ]
     },
     "execution_count": 13,
     "metadata": {},
     "output_type": "execute_result"
    },
    {
     "name": "stdout",
     "output_type": "stream",
     "text": [
      "5fthf_c0\n",
      "5fthf_c0\n"
     ]
    },
    {
     "data": {
      "text/plain": [
       "'5fthf'"
      ]
     },
     "execution_count": 13,
     "metadata": {},
     "output_type": "execute_result"
    },
    {
     "name": "stdout",
     "output_type": "stream",
     "text": [
      "MNXM560_c0\n",
      "MNXM3173_c0\n",
      "MNXM8225_c0\n",
      "MNXM9671_c0\n",
      "PARATHION_c0\n",
      "P-NITROPHENOL_c0\n",
      "DIETHYLTHIOPHOSPHATE_c0\n",
      "mthgxl_c0\n",
      "mthgxl_c0\n"
     ]
    },
    {
     "data": {
      "text/plain": [
       "'mthgxl'"
      ]
     },
     "execution_count": 13,
     "metadata": {},
     "output_type": "execute_result"
    },
    {
     "name": "stdout",
     "output_type": "stream",
     "text": [
      "gly_glu__L_c0\n",
      "gly_glu__L_c0\n"
     ]
    },
    {
     "data": {
      "text/plain": [
       "'gly_glu__L'"
      ]
     },
     "execution_count": 13,
     "metadata": {},
     "output_type": "execute_result"
    },
    {
     "name": "stdout",
     "output_type": "stream",
     "text": [
      "mi3p__D_c0\n",
      "mi3p__D_c0\n"
     ]
    },
    {
     "data": {
      "text/plain": [
       "'mi3p__D'"
      ]
     },
     "execution_count": 13,
     "metadata": {},
     "output_type": "execute_result"
    },
    {
     "name": "stdout",
     "output_type": "stream",
     "text": [
      "galur_c0\n",
      "galur_c0\n"
     ]
    },
    {
     "data": {
      "text/plain": [
       "'galur'"
      ]
     },
     "execution_count": 13,
     "metadata": {},
     "output_type": "execute_result"
    },
    {
     "name": "stdout",
     "output_type": "stream",
     "text": [
      "tagur_c0\n",
      "tagur_c0\n"
     ]
    },
    {
     "data": {
      "text/plain": [
       "'tagur'"
      ]
     },
     "execution_count": 13,
     "metadata": {},
     "output_type": "execute_result"
    },
    {
     "name": "stdout",
     "output_type": "stream",
     "text": [
      "3psme_c0\n",
      "3psme_c0\n"
     ]
    },
    {
     "data": {
      "text/plain": [
       "'3psme'"
      ]
     },
     "execution_count": 13,
     "metadata": {},
     "output_type": "execute_result"
    },
    {
     "name": "stdout",
     "output_type": "stream",
     "text": [
      "Secondary-Alcohols_c0\n",
      "LONG-CHAIN-KETONE_c0\n",
      "td2coa_c0\n",
      "td2coa_c0\n"
     ]
    },
    {
     "data": {
      "text/plain": [
       "'td2coa'"
      ]
     },
     "execution_count": 13,
     "metadata": {},
     "output_type": "execute_result"
    },
    {
     "name": "stdout",
     "output_type": "stream",
     "text": [
      "CPD-7614_c0\n",
      "CPD-7615_c0\n",
      "PSEUDOURIDINE-5-P_c0\n",
      "MNXM90987_c0\n",
      "CPD-76_c0\n",
      "CE1787_e0\n",
      "whole annotation: ['CE1787', 'CE5868', 'asp__L']\n",
      "CE1787_e0\n"
     ]
    },
    {
     "data": {
      "text/plain": [
       "['CE1787', 'CE5868', 'asp__L']"
      ]
     },
     "execution_count": 13,
     "metadata": {},
     "output_type": "execute_result"
    },
    {
     "name": "stdout",
     "output_type": "stream",
     "text": [
      "MNXM4587_c0\n",
      "MNXM5742_c0\n",
      "acgam_e0\n",
      "acgam_e0\n"
     ]
    },
    {
     "data": {
      "text/plain": [
       "'acgam'"
      ]
     },
     "execution_count": 13,
     "metadata": {},
     "output_type": "execute_result"
    },
    {
     "name": "stdout",
     "output_type": "stream",
     "text": [
      "MNXM5676_c0\n",
      "MNXM6216_c0\n",
      "udpgal_c0\n",
      "udpgal_c0\n"
     ]
    },
    {
     "data": {
      "text/plain": [
       "'udpgal'"
      ]
     },
     "execution_count": 13,
     "metadata": {},
     "output_type": "execute_result"
    },
    {
     "name": "stdout",
     "output_type": "stream",
     "text": [
      "op4en_c0\n",
      "op4en_c0\n"
     ]
    },
    {
     "data": {
      "text/plain": [
       "'op4en'"
      ]
     },
     "execution_count": 13,
     "metadata": {},
     "output_type": "execute_result"
    },
    {
     "name": "stdout",
     "output_type": "stream",
     "text": [
      "GlcA-Gal-Gal-Xyl-Proteins_c0\n",
      "GlcNAc-GlcA-Gal-Gal-Xyl-Protein_c0\n",
      "CPD-650_c0\n",
      "ala__L_e0\n",
      "ala__L_e0\n"
     ]
    },
    {
     "data": {
      "text/plain": [
       "'ala__L'"
      ]
     },
     "execution_count": 13,
     "metadata": {},
     "output_type": "execute_result"
    },
    {
     "name": "stdout",
     "output_type": "stream",
     "text": [
      "ham_c0\n",
      "ham_c0\n"
     ]
    },
    {
     "data": {
      "text/plain": [
       "'ham'"
      ]
     },
     "execution_count": 13,
     "metadata": {},
     "output_type": "execute_result"
    },
    {
     "name": "stdout",
     "output_type": "stream",
     "text": [
      "ap4a_c0\n",
      "ap4a_c0\n"
     ]
    },
    {
     "data": {
      "text/plain": [
       "'ap4a'"
      ]
     },
     "execution_count": 13,
     "metadata": {},
     "output_type": "execute_result"
    },
    {
     "name": "stdout",
     "output_type": "stream",
     "text": [
      "ALPHA-GLUCOSE-16-BISPHOSPHATE_c0\n",
      "2omph_c0\n",
      "2omph_c0\n"
     ]
    },
    {
     "data": {
      "text/plain": [
       "'2omph'"
      ]
     },
     "execution_count": 13,
     "metadata": {},
     "output_type": "execute_result"
    },
    {
     "name": "stdout",
     "output_type": "stream",
     "text": [
      "but2eACP_c0\n",
      "but2eACP_c0\n"
     ]
    },
    {
     "data": {
      "text/plain": [
       "'but2eACP'"
      ]
     },
     "execution_count": 13,
     "metadata": {},
     "output_type": "execute_result"
    },
    {
     "name": "stdout",
     "output_type": "stream",
     "text": [
      "gly_cys__L_e0\n",
      "gly_cys__L_e0\n"
     ]
    },
    {
     "data": {
      "text/plain": [
       "'gly_cys__L'"
      ]
     },
     "execution_count": 13,
     "metadata": {},
     "output_type": "execute_result"
    },
    {
     "name": "stdout",
     "output_type": "stream",
     "text": [
      "cmusa_c0\n",
      "cmusa_c0\n"
     ]
    },
    {
     "data": {
      "text/plain": [
       "'cmusa'"
      ]
     },
     "execution_count": 13,
     "metadata": {},
     "output_type": "execute_result"
    },
    {
     "name": "stdout",
     "output_type": "stream",
     "text": [
      "am6sa_c0\n",
      "am6sa_c0\n"
     ]
    },
    {
     "data": {
      "text/plain": [
       "'am6sa'"
      ]
     },
     "execution_count": 13,
     "metadata": {},
     "output_type": "execute_result"
    },
    {
     "name": "stdout",
     "output_type": "stream",
     "text": [
      "lys__L_e0\n",
      "lys__L_e0\n"
     ]
    },
    {
     "data": {
      "text/plain": [
       "'lys__L'"
      ]
     },
     "execution_count": 13,
     "metadata": {},
     "output_type": "execute_result"
    },
    {
     "name": "stdout",
     "output_type": "stream",
     "text": [
      "agdpcbi_c0\n",
      "agdpcbi_c0\n"
     ]
    },
    {
     "data": {
      "text/plain": [
       "'agdpcbi'"
      ]
     },
     "execution_count": 13,
     "metadata": {},
     "output_type": "execute_result"
    },
    {
     "name": "stdout",
     "output_type": "stream",
     "text": [
      "MNXM6598_c0\n",
      "acmana_c0\n",
      "acmana_c0\n"
     ]
    },
    {
     "data": {
      "text/plain": [
       "'acmana'"
      ]
     },
     "execution_count": 13,
     "metadata": {},
     "output_type": "execute_result"
    },
    {
     "name": "stdout",
     "output_type": "stream",
     "text": [
      "MNXM78334_c0\n",
      "Z-2-METHYL-5-ISOPROPYLHEXA-25-DIENAL_c0\n",
      "MNXM6214_c0\n",
      "MNXM9701_c0\n",
      "MNXM9699_c0\n",
      "MNXM6882_c0\n",
      "MNXM6125_c0\n",
      "acg5p_c0\n",
      "acg5p_c0\n"
     ]
    },
    {
     "data": {
      "text/plain": [
       "'acg5p'"
      ]
     },
     "execution_count": 13,
     "metadata": {},
     "output_type": "execute_result"
    },
    {
     "name": "stdout",
     "output_type": "stream",
     "text": [
      "MNXM7295_c0\n",
      "arbt_e0\n",
      "arbt_e0\n"
     ]
    },
    {
     "data": {
      "text/plain": [
       "'arbt'"
      ]
     },
     "execution_count": 13,
     "metadata": {},
     "output_type": "execute_result"
    },
    {
     "name": "stdout",
     "output_type": "stream",
     "text": [
      "arbt6p_c0\n",
      "arbt6p_c0\n"
     ]
    },
    {
     "data": {
      "text/plain": [
       "'arbt6p'"
      ]
     },
     "execution_count": 13,
     "metadata": {},
     "output_type": "execute_result"
    },
    {
     "name": "stdout",
     "output_type": "stream",
     "text": [
      "dgdp_c0\n",
      "dgdp_c0\n"
     ]
    },
    {
     "data": {
      "text/plain": [
       "'dgdp'"
      ]
     },
     "execution_count": 13,
     "metadata": {},
     "output_type": "execute_result"
    },
    {
     "name": "stdout",
     "output_type": "stream",
     "text": [
      "UDP-AAGM-DIAMINOHEPTANEDIOATE_c0\n",
      "gua_c0\n",
      "gua_c0\n"
     ]
    },
    {
     "data": {
      "text/plain": [
       "'gua'"
      ]
     },
     "execution_count": 13,
     "metadata": {},
     "output_type": "execute_result"
    },
    {
     "name": "stdout",
     "output_type": "stream",
     "text": [
      "dtmp_c0\n",
      "dtmp_c0\n"
     ]
    },
    {
     "data": {
      "text/plain": [
       "'dtmp'"
      ]
     },
     "execution_count": 13,
     "metadata": {},
     "output_type": "execute_result"
    },
    {
     "name": "stdout",
     "output_type": "stream",
     "text": [
      "dgsn_e0\n",
      "dgsn_e0\n"
     ]
    },
    {
     "data": {
      "text/plain": [
       "'dgsn'"
      ]
     },
     "execution_count": 13,
     "metadata": {},
     "output_type": "execute_result"
    },
    {
     "name": "stdout",
     "output_type": "stream",
     "text": [
      "ptrc_e0\n",
      "ptrc_e0\n"
     ]
    },
    {
     "data": {
      "text/plain": [
       "'ptrc'"
      ]
     },
     "execution_count": 13,
     "metadata": {},
     "output_type": "execute_result"
    },
    {
     "name": "stdout",
     "output_type": "stream",
     "text": [
      "CPD-677_c0\n",
      "MNXM10370_c0\n",
      "MNXM10368_c0\n",
      "CPD-199_c0\n",
      "bzalc_c0\n",
      "bzalc_c0\n"
     ]
    },
    {
     "data": {
      "text/plain": [
       "'bzalc'"
      ]
     },
     "execution_count": 13,
     "metadata": {},
     "output_type": "execute_result"
    },
    {
     "name": "stdout",
     "output_type": "stream",
     "text": [
      "MNXM1945_c0\n",
      "asp__D_c0\n",
      "asp__D_c0\n"
     ]
    },
    {
     "data": {
      "text/plain": [
       "'asp__D'"
      ]
     },
     "execution_count": 13,
     "metadata": {},
     "output_type": "execute_result"
    },
    {
     "name": "stdout",
     "output_type": "stream",
     "text": [
      "4h2oglt_c0\n",
      "4h2oglt_c0\n"
     ]
    },
    {
     "data": {
      "text/plain": [
       "'4h2oglt'"
      ]
     },
     "execution_count": 13,
     "metadata": {},
     "output_type": "execute_result"
    },
    {
     "name": "stdout",
     "output_type": "stream",
     "text": [
      "4hglu_c0\n",
      "4hglu_c0\n"
     ]
    },
    {
     "data": {
      "text/plain": [
       "'4hglu'"
      ]
     },
     "execution_count": 13,
     "metadata": {},
     "output_type": "execute_result"
    },
    {
     "name": "stdout",
     "output_type": "stream",
     "text": [
      "ivcoa_c0\n",
      "ivcoa_c0\n"
     ]
    },
    {
     "data": {
      "text/plain": [
       "'ivcoa'"
      ]
     },
     "execution_count": 13,
     "metadata": {},
     "output_type": "execute_result"
    },
    {
     "name": "stdout",
     "output_type": "stream",
     "text": [
      "3-METHYL-1-246-TRIHYDROXYPHENYLBUTAN_c0\n",
      "xan_e0\n",
      "xan_e0\n"
     ]
    },
    {
     "data": {
      "text/plain": [
       "'xan'"
      ]
     },
     "execution_count": 13,
     "metadata": {},
     "output_type": "execute_result"
    },
    {
     "name": "stdout",
     "output_type": "stream",
     "text": [
      "D-MYO-INOSITOL-34-BISPHOSPHATE_c0\n",
      "gly_gln__L_e0\n",
      "gly_gln__L_e0\n"
     ]
    },
    {
     "data": {
      "text/plain": [
       "'gly_gln__L'"
      ]
     },
     "execution_count": 13,
     "metadata": {},
     "output_type": "execute_result"
    },
    {
     "name": "stdout",
     "output_type": "stream",
     "text": [
      "CE5151_c0\n",
      "CE5151_c0\n"
     ]
    },
    {
     "data": {
      "text/plain": [
       "'CE5151'"
      ]
     },
     "execution_count": 13,
     "metadata": {},
     "output_type": "execute_result"
    },
    {
     "name": "stdout",
     "output_type": "stream",
     "text": [
      "CPD-12189_c0\n",
      "pgp180_c0\n",
      "pgp180_c0\n"
     ]
    },
    {
     "data": {
      "text/plain": [
       "'pgp180'"
      ]
     },
     "execution_count": 13,
     "metadata": {},
     "output_type": "execute_result"
    },
    {
     "name": "stdout",
     "output_type": "stream",
     "text": [
      "CPD-583_c0\n",
      "MNXM4363_c0\n",
      "MNXM6796_c0\n",
      "MNXM146501_c0\n",
      "oxa_c0\n",
      "oxa_c0\n"
     ]
    },
    {
     "data": {
      "text/plain": [
       "'oxa'"
      ]
     },
     "execution_count": 13,
     "metadata": {},
     "output_type": "execute_result"
    },
    {
     "name": "stdout",
     "output_type": "stream",
     "text": [
      "MNXM91690_c0\n",
      "MNXM145918_c0\n",
      "mercppyr_c0\n",
      "mercppyr_c0\n"
     ]
    },
    {
     "data": {
      "text/plain": [
       "'mercppyr'"
      ]
     },
     "execution_count": 13,
     "metadata": {},
     "output_type": "execute_result"
    },
    {
     "name": "stdout",
     "output_type": "stream",
     "text": [
      "CPD-486_c0\n",
      "MNXM147677_c0\n",
      "alltn_e0\n",
      "alltn_e0\n"
     ]
    },
    {
     "data": {
      "text/plain": [
       "'alltn'"
      ]
     },
     "execution_count": 13,
     "metadata": {},
     "output_type": "execute_result"
    },
    {
     "name": "stdout",
     "output_type": "stream",
     "text": [
      "3hdecACP_c0\n",
      "3hdecACP_c0\n"
     ]
    },
    {
     "data": {
      "text/plain": [
       "'3hdecACP'"
      ]
     },
     "execution_count": 13,
     "metadata": {},
     "output_type": "execute_result"
    },
    {
     "name": "stdout",
     "output_type": "stream",
     "text": [
      "3odecACP_c0\n",
      "3odecACP_c0\n"
     ]
    },
    {
     "data": {
      "text/plain": [
       "'3odecACP'"
      ]
     },
     "execution_count": 13,
     "metadata": {},
     "output_type": "execute_result"
    },
    {
     "name": "stdout",
     "output_type": "stream",
     "text": [
      "L-Fucopyranoses_c0\n",
      "fuc1p__L_c0\n",
      "fuc1p__L_c0\n"
     ]
    },
    {
     "data": {
      "text/plain": [
       "'fuc1p__L'"
      ]
     },
     "execution_count": 13,
     "metadata": {},
     "output_type": "execute_result"
    },
    {
     "name": "stdout",
     "output_type": "stream",
     "text": [
      "fru_c0\n",
      "fru_c0\n"
     ]
    },
    {
     "data": {
      "text/plain": [
       "'fru'"
      ]
     },
     "execution_count": 13,
     "metadata": {},
     "output_type": "execute_result"
    },
    {
     "name": "stdout",
     "output_type": "stream",
     "text": [
      "eig3p_c0\n",
      "eig3p_c0\n"
     ]
    },
    {
     "data": {
      "text/plain": [
       "'eig3p'"
      ]
     },
     "execution_count": 13,
     "metadata": {},
     "output_type": "execute_result"
    },
    {
     "name": "stdout",
     "output_type": "stream",
     "text": [
      "aicar_c0\n",
      "aicar_c0\n"
     ]
    },
    {
     "data": {
      "text/plain": [
       "'aicar'"
      ]
     },
     "execution_count": 13,
     "metadata": {},
     "output_type": "execute_result"
    },
    {
     "name": "stdout",
     "output_type": "stream",
     "text": [
      "CPD-13832_c0\n",
      "MNXM1469_c0\n",
      "CPD-15127_c0\n",
      "d5kg_c0\n",
      "d5kg_c0\n"
     ]
    },
    {
     "data": {
      "text/plain": [
       "'d5kg'"
      ]
     },
     "execution_count": 13,
     "metadata": {},
     "output_type": "execute_result"
    },
    {
     "name": "stdout",
     "output_type": "stream",
     "text": [
      "s7p_c0\n",
      "s7p_c0\n"
     ]
    },
    {
     "data": {
      "text/plain": [
       "'s7p'"
      ]
     },
     "execution_count": 13,
     "metadata": {},
     "output_type": "execute_result"
    },
    {
     "name": "stdout",
     "output_type": "stream",
     "text": [
      "MNXM6637_c0\n",
      "MNXM11392_c0\n",
      "pa161_c0\n",
      "pa161_c0\n"
     ]
    },
    {
     "data": {
      "text/plain": [
       "'pa161'"
      ]
     },
     "execution_count": 13,
     "metadata": {},
     "output_type": "execute_result"
    },
    {
     "name": "stdout",
     "output_type": "stream",
     "text": [
      "CPD-10608_c0\n",
      "PARAOXON_c0\n",
      "DIETHYLPHOSPHATE_c0\n",
      "AN-ALPHA-L-FUCOSIDE_c0\n",
      "im4act_c0\n",
      "whole annotation: ['im4act', 'imzacd']\n",
      "im4act_c0\n"
     ]
    },
    {
     "data": {
      "text/plain": [
       "['im4act', 'imzacd']"
      ]
     },
     "execution_count": 13,
     "metadata": {},
     "output_type": "execute_result"
    },
    {
     "name": "stdout",
     "output_type": "stream",
     "text": [
      "im4ac_c0\n",
      "whole annotation: ['im4ac', 'imzac']\n",
      "im4ac_c0\n"
     ]
    },
    {
     "data": {
      "text/plain": [
       "['im4ac', 'imzac']"
      ]
     },
     "execution_count": 13,
     "metadata": {},
     "output_type": "execute_result"
    },
    {
     "name": "stdout",
     "output_type": "stream",
     "text": [
      "MNXM729_c0\n",
      "ga2_cho_c0\n",
      "ga2_cho_c0\n"
     ]
    },
    {
     "data": {
      "text/plain": [
       "'ga2_cho'"
      ]
     },
     "execution_count": 13,
     "metadata": {},
     "output_type": "execute_result"
    },
    {
     "name": "stdout",
     "output_type": "stream",
     "text": [
      "MNXM2977_c0\n",
      "MNXM6574_c0\n",
      "3hhexACP_c0\n",
      "3hhexACP_c0\n"
     ]
    },
    {
     "data": {
      "text/plain": [
       "'3hhexACP'"
      ]
     },
     "execution_count": 13,
     "metadata": {},
     "output_type": "execute_result"
    },
    {
     "name": "stdout",
     "output_type": "stream",
     "text": [
      "pppn_e0\n",
      "pppn_e0\n"
     ]
    },
    {
     "data": {
      "text/plain": [
       "'pppn'"
      ]
     },
     "execution_count": 13,
     "metadata": {},
     "output_type": "execute_result"
    },
    {
     "name": "stdout",
     "output_type": "stream",
     "text": [
      "oxalcoa_c0\n",
      "oxalcoa_c0\n"
     ]
    },
    {
     "data": {
      "text/plain": [
       "'oxalcoa'"
      ]
     },
     "execution_count": 13,
     "metadata": {},
     "output_type": "execute_result"
    },
    {
     "name": "stdout",
     "output_type": "stream",
     "text": [
      "6pgc_c0\n",
      "6pgc_c0\n"
     ]
    },
    {
     "data": {
      "text/plain": [
       "'6pgc'"
      ]
     },
     "execution_count": 13,
     "metadata": {},
     "output_type": "execute_result"
    },
    {
     "name": "stdout",
     "output_type": "stream",
     "text": [
      "25aics_c0\n",
      "25aics_c0\n"
     ]
    },
    {
     "data": {
      "text/plain": [
       "'25aics'"
      ]
     },
     "execution_count": 13,
     "metadata": {},
     "output_type": "execute_result"
    },
    {
     "name": "stdout",
     "output_type": "stream",
     "text": [
      "CPD0-1028_c0\n",
      "MNXM9684_c0\n",
      "MNXM9682_c0\n",
      "pac_c0\n",
      "pac_c0\n"
     ]
    },
    {
     "data": {
      "text/plain": [
       "'pac'"
      ]
     },
     "execution_count": 13,
     "metadata": {},
     "output_type": "execute_result"
    },
    {
     "name": "stdout",
     "output_type": "stream",
     "text": [
      "phaccoa_c0\n",
      "phaccoa_c0\n"
     ]
    },
    {
     "data": {
      "text/plain": [
       "'phaccoa'"
      ]
     },
     "execution_count": 13,
     "metadata": {},
     "output_type": "execute_result"
    },
    {
     "name": "stdout",
     "output_type": "stream",
     "text": [
      "MNXM2968_c0\n",
      "MNXM10616_c0\n",
      "din_e0\n",
      "din_e0\n"
     ]
    },
    {
     "data": {
      "text/plain": [
       "'din'"
      ]
     },
     "execution_count": 13,
     "metadata": {},
     "output_type": "execute_result"
    },
    {
     "name": "stdout",
     "output_type": "stream",
     "text": [
      "din_c0\n",
      "din_c0\n"
     ]
    },
    {
     "data": {
      "text/plain": [
       "'din'"
      ]
     },
     "execution_count": 13,
     "metadata": {},
     "output_type": "execute_result"
    },
    {
     "name": "stdout",
     "output_type": "stream",
     "text": [
      "tre6p_c0\n",
      "tre6p_c0\n"
     ]
    },
    {
     "data": {
      "text/plain": [
       "'tre6p'"
      ]
     },
     "execution_count": 13,
     "metadata": {},
     "output_type": "execute_result"
    },
    {
     "name": "stdout",
     "output_type": "stream",
     "text": [
      "g6p_c0\n",
      "g6p_c0\n"
     ]
    },
    {
     "data": {
      "text/plain": [
       "'g6p'"
      ]
     },
     "execution_count": 13,
     "metadata": {},
     "output_type": "execute_result"
    },
    {
     "name": "stdout",
     "output_type": "stream",
     "text": [
      "BETA-ALANYL-COA_c0\n",
      "3c2hmp_c0\n",
      "3c2hmp_c0\n"
     ]
    },
    {
     "data": {
      "text/plain": [
       "'3c2hmp'"
      ]
     },
     "execution_count": 13,
     "metadata": {},
     "output_type": "execute_result"
    },
    {
     "name": "stdout",
     "output_type": "stream",
     "text": [
      "2ippm_c0\n",
      "2ippm_c0\n"
     ]
    },
    {
     "data": {
      "text/plain": [
       "'2ippm'"
      ]
     },
     "execution_count": 13,
     "metadata": {},
     "output_type": "execute_result"
    },
    {
     "name": "stdout",
     "output_type": "stream",
     "text": [
      "L-arabinopyranose_e0\n",
      "3c4mop_c0\n",
      "3c4mop_c0\n"
     ]
    },
    {
     "data": {
      "text/plain": [
       "'3c4mop'"
      ]
     },
     "execution_count": 13,
     "metadata": {},
     "output_type": "execute_result"
    },
    {
     "name": "stdout",
     "output_type": "stream",
     "text": [
      "MNXM7959_c0\n",
      "5dpmev_c0\n",
      "5dpmev_c0\n"
     ]
    },
    {
     "data": {
      "text/plain": [
       "'5dpmev'"
      ]
     },
     "execution_count": 13,
     "metadata": {},
     "output_type": "execute_result"
    },
    {
     "name": "stdout",
     "output_type": "stream",
     "text": [
      "MNXM146502_c0\n",
      "malttr_e0\n",
      "malttr_e0\n"
     ]
    },
    {
     "data": {
      "text/plain": [
       "'malttr'"
      ]
     },
     "execution_count": 13,
     "metadata": {},
     "output_type": "execute_result"
    },
    {
     "name": "stdout",
     "output_type": "stream",
     "text": [
      "malttr_c0\n",
      "malttr_c0\n"
     ]
    },
    {
     "data": {
      "text/plain": [
       "'malttr'"
      ]
     },
     "execution_count": 13,
     "metadata": {},
     "output_type": "execute_result"
    },
    {
     "name": "stdout",
     "output_type": "stream",
     "text": [
      "no3_c0\n",
      "no3_c0\n"
     ]
    },
    {
     "data": {
      "text/plain": [
       "'no3'"
      ]
     },
     "execution_count": 13,
     "metadata": {},
     "output_type": "execute_result"
    },
    {
     "name": "stdout",
     "output_type": "stream",
     "text": [
      "L2aadp_c0\n",
      "L2aadp_c0\n"
     ]
    },
    {
     "data": {
      "text/plain": [
       "'L2aadp'"
      ]
     },
     "execution_count": 13,
     "metadata": {},
     "output_type": "execute_result"
    },
    {
     "name": "stdout",
     "output_type": "stream",
     "text": [
      "N-5S-5-AMINO-5-CARBOXYPENTANOYL-L-CY_c0\n",
      "ppap_c0\n",
      "ppap_c0\n"
     ]
    },
    {
     "data": {
      "text/plain": [
       "'ppap'"
      ]
     },
     "execution_count": 13,
     "metadata": {},
     "output_type": "execute_result"
    },
    {
     "name": "stdout",
     "output_type": "stream",
     "text": [
      "xmp_c0\n",
      "xmp_c0\n"
     ]
    },
    {
     "data": {
      "text/plain": [
       "'xmp'"
      ]
     },
     "execution_count": 13,
     "metadata": {},
     "output_type": "execute_result"
    },
    {
     "name": "stdout",
     "output_type": "stream",
     "text": [
      "docoscoa_c0\n",
      "docoscoa_c0\n"
     ]
    },
    {
     "data": {
      "text/plain": [
       "'docoscoa'"
      ]
     },
     "execution_count": 13,
     "metadata": {},
     "output_type": "execute_result"
    },
    {
     "name": "stdout",
     "output_type": "stream",
     "text": [
      "DOCOSANOATE_c0\n",
      "cit_e0\n",
      "cit_e0\n"
     ]
    },
    {
     "data": {
      "text/plain": [
       "'cit'"
      ]
     },
     "execution_count": 13,
     "metadata": {},
     "output_type": "execute_result"
    },
    {
     "name": "stdout",
     "output_type": "stream",
     "text": [
      "fe3_e0\n",
      "fe3_e0\n"
     ]
    },
    {
     "data": {
      "text/plain": [
       "'fe3'"
      ]
     },
     "execution_count": 13,
     "metadata": {},
     "output_type": "execute_result"
    },
    {
     "name": "stdout",
     "output_type": "stream",
     "text": [
      "sbt__D_e0\n",
      "sbt__D_e0\n"
     ]
    },
    {
     "data": {
      "text/plain": [
       "'sbt__D'"
      ]
     },
     "execution_count": 13,
     "metadata": {},
     "output_type": "execute_result"
    },
    {
     "name": "stdout",
     "output_type": "stream",
     "text": [
      "sbt6p_c0\n",
      "sbt6p_c0\n"
     ]
    },
    {
     "data": {
      "text/plain": [
       "'sbt6p'"
      ]
     },
     "execution_count": 13,
     "metadata": {},
     "output_type": "execute_result"
    },
    {
     "name": "stdout",
     "output_type": "stream",
     "text": [
      "Largn_c0\n",
      "Largn_c0\n"
     ]
    },
    {
     "data": {
      "text/plain": [
       "'Largn'"
      ]
     },
     "execution_count": 13,
     "metadata": {},
     "output_type": "execute_result"
    },
    {
     "name": "stdout",
     "output_type": "stream",
     "text": [
      "MNXM146748_c0\n",
      "hhlipa_c0\n",
      "hhlipa_c0\n"
     ]
    },
    {
     "data": {
      "text/plain": [
       "'hhlipa'"
      ]
     },
     "execution_count": 13,
     "metadata": {},
     "output_type": "execute_result"
    },
    {
     "name": "stdout",
     "output_type": "stream",
     "text": [
      "CPD-17700_c0\n",
      "cbl2_e0\n",
      "cbl2_e0\n"
     ]
    },
    {
     "data": {
      "text/plain": [
       "'cbl2'"
      ]
     },
     "execution_count": 13,
     "metadata": {},
     "output_type": "execute_result"
    },
    {
     "name": "stdout",
     "output_type": "stream",
     "text": [
      "cbl2_c0\n",
      "cbl2_c0\n"
     ]
    },
    {
     "data": {
      "text/plain": [
       "'cbl2'"
      ]
     },
     "execution_count": 13,
     "metadata": {},
     "output_type": "execute_result"
    },
    {
     "name": "stdout",
     "output_type": "stream",
     "text": [
      "PROPIONYL_ADENYLATE_c0\n",
      "MNXM9603_c0\n",
      "Acetyl-CoA-carboxylase-phosphate_c0\n",
      "MNXM571_c0\n",
      "CPD-9442_c0\n",
      "CPD-9441_c0\n",
      "CORTISOL_c0\n",
      "CPD-417_c0\n",
      "MNXM8022_c0\n",
      "mev__R_c0\n",
      "mev__R_c0\n"
     ]
    },
    {
     "data": {
      "text/plain": [
       "'mev__R'"
      ]
     },
     "execution_count": 13,
     "metadata": {},
     "output_type": "execute_result"
    },
    {
     "name": "stdout",
     "output_type": "stream",
     "text": [
      "5pmev_c0\n",
      "5pmev_c0\n"
     ]
    },
    {
     "data": {
      "text/plain": [
       "'5pmev'"
      ]
     },
     "execution_count": 13,
     "metadata": {},
     "output_type": "execute_result"
    },
    {
     "name": "stdout",
     "output_type": "stream",
     "text": [
      "gly_leu__L_c0\n",
      "whole annotation: ['gly_leu__L', 'glyleu']\n",
      "gly_leu__L_c0\n"
     ]
    },
    {
     "data": {
      "text/plain": [
       "['gly_leu__L', 'glyleu']"
      ]
     },
     "execution_count": 13,
     "metadata": {},
     "output_type": "execute_result"
    },
    {
     "name": "stdout",
     "output_type": "stream",
     "text": [
      "2hdecg3p_c0\n",
      "2hdecg3p_c0\n"
     ]
    },
    {
     "data": {
      "text/plain": [
       "'2hdecg3p'"
      ]
     },
     "execution_count": 13,
     "metadata": {},
     "output_type": "execute_result"
    },
    {
     "name": "stdout",
     "output_type": "stream",
     "text": [
      "ala__D_e0\n",
      "ala__D_e0\n"
     ]
    },
    {
     "data": {
      "text/plain": [
       "'ala__D'"
      ]
     },
     "execution_count": 13,
     "metadata": {},
     "output_type": "execute_result"
    },
    {
     "name": "stdout",
     "output_type": "stream",
     "text": [
      "MNXM9700_c0\n",
      "MNXM9698_c0\n",
      "acACP_c0\n",
      "acACP_c0\n"
     ]
    },
    {
     "data": {
      "text/plain": [
       "'acACP'"
      ]
     },
     "execution_count": 13,
     "metadata": {},
     "output_type": "execute_result"
    },
    {
     "name": "stdout",
     "output_type": "stream",
     "text": [
      "actACP_c0\n",
      "actACP_c0\n"
     ]
    },
    {
     "data": {
      "text/plain": [
       "'actACP'"
      ]
     },
     "execution_count": 13,
     "metadata": {},
     "output_type": "execute_result"
    },
    {
     "name": "stdout",
     "output_type": "stream",
     "text": [
      "metox_c0\n",
      "whole annotation: ['metox', 'metsox_R__L', 'metsox_S__L']\n",
      "metox_c0\n"
     ]
    },
    {
     "data": {
      "text/plain": [
       "['metox', 'metsox_R__L', 'metsox_S__L']"
      ]
     },
     "execution_count": 13,
     "metadata": {},
     "output_type": "execute_result"
    },
    {
     "name": "stdout",
     "output_type": "stream",
     "text": [
      "GUANIDOACETIC_ACID_c0\n",
      "uaaGgla_c0\n",
      "uaaGgla_c0\n"
     ]
    },
    {
     "data": {
      "text/plain": [
       "'uaaGgla'"
      ]
     },
     "execution_count": 13,
     "metadata": {},
     "output_type": "execute_result"
    },
    {
     "name": "stdout",
     "output_type": "stream",
     "text": [
      "uaaGgtla_c0\n",
      "uaaGgtla_c0\n"
     ]
    },
    {
     "data": {
      "text/plain": [
       "'uaaGgtla'"
      ]
     },
     "execution_count": 13,
     "metadata": {},
     "output_type": "execute_result"
    },
    {
     "name": "stdout",
     "output_type": "stream",
     "text": [
      "MNXM8175_c0\n",
      "btal_c0\n",
      "btal_c0\n"
     ]
    },
    {
     "data": {
      "text/plain": [
       "'btal'"
      ]
     },
     "execution_count": 13,
     "metadata": {},
     "output_type": "execute_result"
    },
    {
     "name": "stdout",
     "output_type": "stream",
     "text": [
      "1btol_c0\n",
      "whole annotation: ['1btol', 'btoh']\n",
      "1btol_c0\n"
     ]
    },
    {
     "data": {
      "text/plain": [
       "['1btol', 'btoh']"
      ]
     },
     "execution_count": 13,
     "metadata": {},
     "output_type": "execute_result"
    },
    {
     "name": "stdout",
     "output_type": "stream",
     "text": [
      "cbp_c0\n",
      "cbp_c0\n"
     ]
    },
    {
     "data": {
      "text/plain": [
       "'cbp'"
      ]
     },
     "execution_count": 13,
     "metadata": {},
     "output_type": "execute_result"
    },
    {
     "name": "stdout",
     "output_type": "stream",
     "text": [
      "MNXM4910_c0\n",
      "peamn_c0\n",
      "peamn_c0\n"
     ]
    },
    {
     "data": {
      "text/plain": [
       "'peamn'"
      ]
     },
     "execution_count": 13,
     "metadata": {},
     "output_type": "execute_result"
    },
    {
     "name": "stdout",
     "output_type": "stream",
     "text": [
      "pap_c0\n",
      "pap_c0\n"
     ]
    },
    {
     "data": {
      "text/plain": [
       "'pap'"
      ]
     },
     "execution_count": 13,
     "metadata": {},
     "output_type": "execute_result"
    },
    {
     "name": "stdout",
     "output_type": "stream",
     "text": [
      "hqn_c0\n",
      "hqn_c0\n"
     ]
    },
    {
     "data": {
      "text/plain": [
       "'hqn'"
      ]
     },
     "execution_count": 13,
     "metadata": {},
     "output_type": "execute_result"
    },
    {
     "name": "stdout",
     "output_type": "stream",
     "text": [
      "MNXM5588_c0\n",
      "uama_c0\n",
      "uama_c0\n"
     ]
    },
    {
     "data": {
      "text/plain": [
       "'uama'"
      ]
     },
     "execution_count": 13,
     "metadata": {},
     "output_type": "execute_result"
    },
    {
     "name": "stdout",
     "output_type": "stream",
     "text": [
      "acoa_c0\n",
      "acoa_c0\n"
     ]
    },
    {
     "data": {
      "text/plain": [
       "'acoa'"
      ]
     },
     "execution_count": 13,
     "metadata": {},
     "output_type": "execute_result"
    },
    {
     "name": "stdout",
     "output_type": "stream",
     "text": [
      "adhap_hs_c0\n",
      "adhap_hs_c0\n"
     ]
    },
    {
     "data": {
      "text/plain": [
       "'adhap_hs'"
      ]
     },
     "execution_count": 13,
     "metadata": {},
     "output_type": "execute_result"
    },
    {
     "name": "stdout",
     "output_type": "stream",
     "text": [
      "fprica_c0\n",
      "fprica_c0\n"
     ]
    },
    {
     "data": {
      "text/plain": [
       "'fprica'"
      ]
     },
     "execution_count": 13,
     "metadata": {},
     "output_type": "execute_result"
    },
    {
     "name": "stdout",
     "output_type": "stream",
     "text": [
      "Primary-Alcohols_c0\n",
      "Aldehydes_c0\n",
      "2pg_c0\n",
      "2pg_c0\n"
     ]
    },
    {
     "data": {
      "text/plain": [
       "'2pg'"
      ]
     },
     "execution_count": 13,
     "metadata": {},
     "output_type": "execute_result"
    },
    {
     "name": "stdout",
     "output_type": "stream",
     "text": [
      "Octanoyl-ACPs_c0\n",
      "octa_c0\n",
      "octa_c0\n"
     ]
    },
    {
     "data": {
      "text/plain": [
       "'octa'"
      ]
     },
     "execution_count": 13,
     "metadata": {},
     "output_type": "execute_result"
    },
    {
     "name": "stdout",
     "output_type": "stream",
     "text": [
      "MNXM93065_c0\n",
      "Myelin-N-o-methyl-arginines_c0\n",
      "mi12356p_c0\n",
      "mi12356p_c0\n"
     ]
    },
    {
     "data": {
      "text/plain": [
       "'mi12356p'"
      ]
     },
     "execution_count": 13,
     "metadata": {},
     "output_type": "execute_result"
    },
    {
     "name": "stdout",
     "output_type": "stream",
     "text": [
      "dccoa_c0\n",
      "dccoa_c0\n"
     ]
    },
    {
     "data": {
      "text/plain": [
       "'dccoa'"
      ]
     },
     "execution_count": 13,
     "metadata": {},
     "output_type": "execute_result"
    },
    {
     "name": "stdout",
     "output_type": "stream",
     "text": [
      "MNXM56353_c0\n",
      "ncam_c0\n",
      "ncam_c0\n"
     ]
    },
    {
     "data": {
      "text/plain": [
       "'ncam'"
      ]
     },
     "execution_count": 13,
     "metadata": {},
     "output_type": "execute_result"
    },
    {
     "name": "stdout",
     "output_type": "stream",
     "text": [
      "nac_c0\n",
      "nac_c0\n"
     ]
    },
    {
     "data": {
      "text/plain": [
       "'nac'"
      ]
     },
     "execution_count": 13,
     "metadata": {},
     "output_type": "execute_result"
    },
    {
     "name": "stdout",
     "output_type": "stream",
     "text": [
      "ugam_c0\n",
      "ugam_c0\n"
     ]
    },
    {
     "data": {
      "text/plain": [
       "'ugam'"
      ]
     },
     "execution_count": 13,
     "metadata": {},
     "output_type": "execute_result"
    },
    {
     "name": "stdout",
     "output_type": "stream",
     "text": [
      "UDP-D-GALACTOSAMINE_c0\n",
      "hkntd_c0\n",
      "hkntd_c0\n"
     ]
    },
    {
     "data": {
      "text/plain": [
       "'hkntd'"
      ]
     },
     "execution_count": 13,
     "metadata": {},
     "output_type": "execute_result"
    },
    {
     "name": "stdout",
     "output_type": "stream",
     "text": [
      "3-OH-BENZALDEHYDE_c0\n",
      "3-HYDROXYBENZOATE_c0\n",
      "MNXM146503_c0\n",
      "MNXM9670_c0\n",
      "fgam_c0\n",
      "fgam_c0\n"
     ]
    },
    {
     "data": {
      "text/plain": [
       "'fgam'"
      ]
     },
     "execution_count": 13,
     "metadata": {},
     "output_type": "execute_result"
    },
    {
     "name": "stdout",
     "output_type": "stream",
     "text": [
      "gar_c0\n",
      "gar_c0\n"
     ]
    },
    {
     "data": {
      "text/plain": [
       "'gar'"
      ]
     },
     "execution_count": 13,
     "metadata": {},
     "output_type": "execute_result"
    },
    {
     "name": "stdout",
     "output_type": "stream",
     "text": [
      "CPD-7224_c0\n",
      "MNXM11397_c0\n",
      "MNXM7307_c0\n",
      "23dappa_c0\n",
      "23dappa_c0\n"
     ]
    },
    {
     "data": {
      "text/plain": [
       "'23dappa'"
      ]
     },
     "execution_count": 13,
     "metadata": {},
     "output_type": "execute_result"
    },
    {
     "name": "stdout",
     "output_type": "stream",
     "text": [
      "N3-OXALYL-L-23-DIAMINOPROPANOATE_c0\n",
      "mi4p__D_c0\n",
      "mi4p__D_c0\n"
     ]
    },
    {
     "data": {
      "text/plain": [
       "'mi4p__D'"
      ]
     },
     "execution_count": 13,
     "metadata": {},
     "output_type": "execute_result"
    },
    {
     "name": "stdout",
     "output_type": "stream",
     "text": [
      "3odcoa_c0\n",
      "3odcoa_c0\n"
     ]
    },
    {
     "data": {
      "text/plain": [
       "'3odcoa'"
      ]
     },
     "execution_count": 13,
     "metadata": {},
     "output_type": "execute_result"
    },
    {
     "name": "stdout",
     "output_type": "stream",
     "text": [
      "frmd_c0\n",
      "frmd_c0\n"
     ]
    },
    {
     "data": {
      "text/plain": [
       "'frmd'"
      ]
     },
     "execution_count": 13,
     "metadata": {},
     "output_type": "execute_result"
    },
    {
     "name": "stdout",
     "output_type": "stream",
     "text": [
      "u3hga_c0\n",
      "u3hga_c0\n"
     ]
    },
    {
     "data": {
      "text/plain": [
       "'u3hga'"
      ]
     },
     "execution_count": 13,
     "metadata": {},
     "output_type": "execute_result"
    },
    {
     "name": "stdout",
     "output_type": "stream",
     "text": [
      "2mp2coa_c0\n",
      "2mp2coa_c0\n"
     ]
    },
    {
     "data": {
      "text/plain": [
       "'2mp2coa'"
      ]
     },
     "execution_count": 13,
     "metadata": {},
     "output_type": "execute_result"
    },
    {
     "name": "stdout",
     "output_type": "stream",
     "text": [
      "cpd03572_c0\n",
      "MNXM96124_c0\n",
      "MNXM16906_c0\n",
      "r3mmal_c0\n",
      "r3mmal_c0\n"
     ]
    },
    {
     "data": {
      "text/plain": [
       "'r3mmal'"
      ]
     },
     "execution_count": 13,
     "metadata": {},
     "output_type": "execute_result"
    },
    {
     "name": "stdout",
     "output_type": "stream",
     "text": [
      "MNXM6818_c0\n",
      "MNXM36570_c0\n",
      "adprib_c0\n",
      "adprib_c0\n"
     ]
    },
    {
     "data": {
      "text/plain": [
       "'adprib'"
      ]
     },
     "execution_count": 13,
     "metadata": {},
     "output_type": "execute_result"
    },
    {
     "name": "stdout",
     "output_type": "stream",
     "text": [
      "MNXM9706_c0\n",
      "mg2_e0\n",
      "mg2_e0\n"
     ]
    },
    {
     "data": {
      "text/plain": [
       "'mg2'"
      ]
     },
     "execution_count": 13,
     "metadata": {},
     "output_type": "execute_result"
    },
    {
     "name": "stdout",
     "output_type": "stream",
     "text": [
      "mg2_c0\n",
      "mg2_c0\n"
     ]
    },
    {
     "data": {
      "text/plain": [
       "'mg2'"
      ]
     },
     "execution_count": 13,
     "metadata": {},
     "output_type": "execute_result"
    },
    {
     "name": "stdout",
     "output_type": "stream",
     "text": [
      "Ssq23epx_c0\n",
      "Ssq23epx_c0\n"
     ]
    },
    {
     "data": {
      "text/plain": [
       "'Ssq23epx'"
      ]
     },
     "execution_count": 13,
     "metadata": {},
     "output_type": "execute_result"
    },
    {
     "name": "stdout",
     "output_type": "stream",
     "text": [
      "lanost_c0\n",
      "lanost_c0\n"
     ]
    },
    {
     "data": {
      "text/plain": [
       "'lanost'"
      ]
     },
     "execution_count": 13,
     "metadata": {},
     "output_type": "execute_result"
    },
    {
     "name": "stdout",
     "output_type": "stream",
     "text": [
      "MNXM8147_c0\n",
      "34dhbz_c0\n",
      "34dhbz_c0\n"
     ]
    },
    {
     "data": {
      "text/plain": [
       "'34dhbz'"
      ]
     },
     "execution_count": 13,
     "metadata": {},
     "output_type": "execute_result"
    },
    {
     "name": "stdout",
     "output_type": "stream",
     "text": [
      "CCbuttc_c0\n",
      "CCbuttc_c0\n"
     ]
    },
    {
     "data": {
      "text/plain": [
       "'CCbuttc'"
      ]
     },
     "execution_count": 13,
     "metadata": {},
     "output_type": "execute_result"
    },
    {
     "name": "stdout",
     "output_type": "stream",
     "text": [
      "3hadpcoa_c0\n",
      "3hadpcoa_c0\n"
     ]
    },
    {
     "data": {
      "text/plain": [
       "'3hadpcoa'"
      ]
     },
     "execution_count": 13,
     "metadata": {},
     "output_type": "execute_result"
    },
    {
     "name": "stdout",
     "output_type": "stream",
     "text": [
      "oxadpcoa_c0\n",
      "oxadpcoa_c0\n"
     ]
    },
    {
     "data": {
      "text/plain": [
       "'oxadpcoa'"
      ]
     },
     "execution_count": 13,
     "metadata": {},
     "output_type": "execute_result"
    },
    {
     "name": "stdout",
     "output_type": "stream",
     "text": [
      "P-BENZOQUINONE_c0\n",
      "CPD0-2298_c0\n",
      "man_e0\n",
      "man_e0\n"
     ]
    },
    {
     "data": {
      "text/plain": [
       "'man'"
      ]
     },
     "execution_count": 13,
     "metadata": {},
     "output_type": "execute_result"
    },
    {
     "name": "stdout",
     "output_type": "stream",
     "text": [
      "man6p_c0\n",
      "man6p_c0\n"
     ]
    },
    {
     "data": {
      "text/plain": [
       "'man6p'"
      ]
     },
     "execution_count": 13,
     "metadata": {},
     "output_type": "execute_result"
    },
    {
     "name": "stdout",
     "output_type": "stream",
     "text": [
      "MNXM4381_c0\n",
      "MNXM5008_c0\n",
      "CDP-N-METHYLETHANOLAMIN_c0\n",
      "MNXM147670_c0\n",
      "8aonn_c0\n",
      "8aonn_c0\n"
     ]
    },
    {
     "data": {
      "text/plain": [
       "'8aonn'"
      ]
     },
     "execution_count": 13,
     "metadata": {},
     "output_type": "execute_result"
    },
    {
     "name": "stdout",
     "output_type": "stream",
     "text": [
      "dann_c0\n",
      "dann_c0\n"
     ]
    },
    {
     "data": {
      "text/plain": [
       "'dann'"
      ]
     },
     "execution_count": 13,
     "metadata": {},
     "output_type": "execute_result"
    },
    {
     "name": "stdout",
     "output_type": "stream",
     "text": [
      "amob_c0\n",
      "amob_c0\n"
     ]
    },
    {
     "data": {
      "text/plain": [
       "'amob'"
      ]
     },
     "execution_count": 13,
     "metadata": {},
     "output_type": "execute_result"
    },
    {
     "name": "stdout",
     "output_type": "stream",
     "text": [
      "Glycerophosphodiesters_c0\n",
      "MNXM158870_c0\n",
      "crn_c0\n",
      "crn_c0\n"
     ]
    },
    {
     "data": {
      "text/plain": [
       "'crn'"
      ]
     },
     "execution_count": 13,
     "metadata": {},
     "output_type": "execute_result"
    },
    {
     "name": "stdout",
     "output_type": "stream",
     "text": [
      "sucglu_c0\n",
      "sucglu_c0\n"
     ]
    },
    {
     "data": {
      "text/plain": [
       "'sucglu'"
      ]
     },
     "execution_count": 13,
     "metadata": {},
     "output_type": "execute_result"
    },
    {
     "name": "stdout",
     "output_type": "stream",
     "text": [
      "Oleoyl-ACPs_c0\n",
      "MNXM5865_c0\n",
      "MNXM5866_c0\n",
      "MNXM5125_c0\n",
      "pran_c0\n",
      "pran_c0\n"
     ]
    },
    {
     "data": {
      "text/plain": [
       "'pran'"
      ]
     },
     "execution_count": 13,
     "metadata": {},
     "output_type": "execute_result"
    },
    {
     "name": "stdout",
     "output_type": "stream",
     "text": [
      "2cpr5p_c0\n",
      "2cpr5p_c0\n"
     ]
    },
    {
     "data": {
      "text/plain": [
       "'2cpr5p'"
      ]
     },
     "execution_count": 13,
     "metadata": {},
     "output_type": "execute_result"
    },
    {
     "name": "stdout",
     "output_type": "stream",
     "text": [
      "etoh_c0\n",
      "etoh_c0\n"
     ]
    },
    {
     "data": {
      "text/plain": [
       "'etoh'"
      ]
     },
     "execution_count": 13,
     "metadata": {},
     "output_type": "execute_result"
    },
    {
     "name": "stdout",
     "output_type": "stream",
     "text": [
      "CPD-681_c0\n",
      "MNXM5131_c0\n",
      "MNXM6301_c0\n",
      "pser__L_c0\n",
      "pser__L_c0\n"
     ]
    },
    {
     "data": {
      "text/plain": [
       "'pser__L'"
      ]
     },
     "execution_count": 13,
     "metadata": {},
     "output_type": "execute_result"
    },
    {
     "name": "stdout",
     "output_type": "stream",
     "text": [
      "MNXM7958_c0\n",
      "HC01700_c0\n",
      "HC01700_c0\n"
     ]
    },
    {
     "data": {
      "text/plain": [
       "'HC01700'"
      ]
     },
     "execution_count": 13,
     "metadata": {},
     "output_type": "execute_result"
    },
    {
     "name": "stdout",
     "output_type": "stream",
     "text": [
      "MNXM6636_c0\n",
      "cobalt2_c0\n",
      "cobalt2_c0\n"
     ]
    },
    {
     "data": {
      "text/plain": [
       "'cobalt2'"
      ]
     },
     "execution_count": 13,
     "metadata": {},
     "output_type": "execute_result"
    },
    {
     "name": "stdout",
     "output_type": "stream",
     "text": [
      "MNXM90295_c0\n",
      "MNXM90529_c0\n",
      "MNXM11358_c0\n",
      "CPD-9038_c0\n",
      "gdchola_c0\n",
      "gdchola_c0\n"
     ]
    },
    {
     "data": {
      "text/plain": [
       "'gdchola'"
      ]
     },
     "execution_count": 13,
     "metadata": {},
     "output_type": "execute_result"
    },
    {
     "name": "stdout",
     "output_type": "stream",
     "text": [
      "ohpb_c0\n",
      "ohpb_c0\n"
     ]
    },
    {
     "data": {
      "text/plain": [
       "'ohpb'"
      ]
     },
     "execution_count": 13,
     "metadata": {},
     "output_type": "execute_result"
    },
    {
     "name": "stdout",
     "output_type": "stream",
     "text": [
      "CPD-12885_c0\n",
      "Citronellates_c0\n",
      "ps160_c0\n",
      "ps160_c0\n"
     ]
    },
    {
     "data": {
      "text/plain": [
       "'ps160'"
      ]
     },
     "execution_count": 13,
     "metadata": {},
     "output_type": "execute_result"
    },
    {
     "name": "stdout",
     "output_type": "stream",
     "text": [
      "pe160_c0\n",
      "pe160_c0\n"
     ]
    },
    {
     "data": {
      "text/plain": [
       "'pe160'"
      ]
     },
     "execution_count": 13,
     "metadata": {},
     "output_type": "execute_result"
    },
    {
     "name": "stdout",
     "output_type": "stream",
     "text": [
      "CPD-14293_c0\n",
      "doco13ac_c0\n",
      "doco13ac_c0\n"
     ]
    },
    {
     "data": {
      "text/plain": [
       "'doco13ac'"
      ]
     },
     "execution_count": 13,
     "metadata": {},
     "output_type": "execute_result"
    },
    {
     "name": "stdout",
     "output_type": "stream",
     "text": [
      "5mcsn_c0\n",
      "5mcsn_c0\n"
     ]
    },
    {
     "data": {
      "text/plain": [
       "'5mcsn'"
      ]
     },
     "execution_count": 13,
     "metadata": {},
     "output_type": "execute_result"
    },
    {
     "name": "stdout",
     "output_type": "stream",
     "text": [
      "MNXM146500_c0\n",
      "thex2eACP_c0\n",
      "thex2eACP_c0\n"
     ]
    },
    {
     "data": {
      "text/plain": [
       "'thex2eACP'"
      ]
     },
     "execution_count": 13,
     "metadata": {},
     "output_type": "execute_result"
    },
    {
     "name": "stdout",
     "output_type": "stream",
     "text": [
      "drib_e0\n",
      "drib_e0\n"
     ]
    },
    {
     "data": {
      "text/plain": [
       "'drib'"
      ]
     },
     "execution_count": 13,
     "metadata": {},
     "output_type": "execute_result"
    },
    {
     "name": "stdout",
     "output_type": "stream",
     "text": [
      "drib_c0\n",
      "drib_c0\n"
     ]
    },
    {
     "data": {
      "text/plain": [
       "'drib'"
      ]
     },
     "execution_count": 13,
     "metadata": {},
     "output_type": "execute_result"
    },
    {
     "name": "stdout",
     "output_type": "stream",
     "text": [
      "MNXM426_c0\n",
      "3hmoa_c0\n",
      "3hmoa_c0\n"
     ]
    },
    {
     "data": {
      "text/plain": [
       "'3hmoa'"
      ]
     },
     "execution_count": 13,
     "metadata": {},
     "output_type": "execute_result"
    },
    {
     "name": "stdout",
     "output_type": "stream",
     "text": [
      "3mb2coa_c0\n",
      "3mb2coa_c0\n"
     ]
    },
    {
     "data": {
      "text/plain": [
       "'3mb2coa'"
      ]
     },
     "execution_count": 13,
     "metadata": {},
     "output_type": "execute_result"
    },
    {
     "name": "stdout",
     "output_type": "stream",
     "text": [
      "MNXM91691_c0\n",
      "MNXM6822_c0\n",
      "lys__D_c0\n",
      "lys__D_c0\n"
     ]
    },
    {
     "data": {
      "text/plain": [
       "'lys__D'"
      ]
     },
     "execution_count": 13,
     "metadata": {},
     "output_type": "execute_result"
    },
    {
     "name": "stdout",
     "output_type": "stream",
     "text": [
      "ERYTHRITOL_c0\n",
      "D-ERYTHRITOL-4P_c0\n",
      "cpd00261_c0\n",
      "xu1p__D_c0\n",
      "xu1p__D_c0\n"
     ]
    },
    {
     "data": {
      "text/plain": [
       "'xu1p__D'"
      ]
     },
     "execution_count": 13,
     "metadata": {},
     "output_type": "execute_result"
    },
    {
     "name": "stdout",
     "output_type": "stream",
     "text": [
      "5apru_c0\n",
      "5apru_c0\n"
     ]
    },
    {
     "data": {
      "text/plain": [
       "'5apru'"
      ]
     },
     "execution_count": 13,
     "metadata": {},
     "output_type": "execute_result"
    },
    {
     "name": "stdout",
     "output_type": "stream",
     "text": [
      "3hbutACP_c0\n",
      "3hbutACP_c0\n"
     ]
    },
    {
     "data": {
      "text/plain": [
       "'3hbutACP'"
      ]
     },
     "execution_count": 13,
     "metadata": {},
     "output_type": "execute_result"
    },
    {
     "name": "stdout",
     "output_type": "stream",
     "text": [
      "GIBBERELLIN_c0\n",
      "GIBBERELLIN-2-O-BETA-D-GLUCOSIDE_c0\n",
      "CPD-13834_c0\n",
      "CPD-13835_c0\n",
      "MNXM5794_c0\n",
      "MNXM8772_c0\n",
      "RS-3-Sulfolactate_c0\n",
      "MNXM147675_c0\n",
      "lac__L_e0\n",
      "lac__L_e0\n"
     ]
    },
    {
     "data": {
      "text/plain": [
       "'lac__L'"
      ]
     },
     "execution_count": 13,
     "metadata": {},
     "output_type": "execute_result"
    },
    {
     "name": "stdout",
     "output_type": "stream",
     "text": [
      "pydx_c0\n",
      "pydx_c0\n"
     ]
    },
    {
     "data": {
      "text/plain": [
       "'pydx'"
      ]
     },
     "execution_count": 13,
     "metadata": {},
     "output_type": "execute_result"
    },
    {
     "name": "stdout",
     "output_type": "stream",
     "text": [
      "MNXM9621_c0\n",
      "MNXM162249_c0\n",
      "MNXM9382_c0\n",
      "MNXM9691_c0\n",
      "5odhf2a_c0\n",
      "5odhf2a_c0\n"
     ]
    },
    {
     "data": {
      "text/plain": [
       "'5odhf2a'"
      ]
     },
     "execution_count": 13,
     "metadata": {},
     "output_type": "execute_result"
    },
    {
     "name": "stdout",
     "output_type": "stream",
     "text": [
      "3hocoa_c0\n",
      "3hocoa_c0\n"
     ]
    },
    {
     "data": {
      "text/plain": [
       "'3hocoa'"
      ]
     },
     "execution_count": 13,
     "metadata": {},
     "output_type": "execute_result"
    },
    {
     "name": "stdout",
     "output_type": "stream",
     "text": [
      "CPD-161_c0\n",
      "6pgl_c0\n",
      "6pgl_c0\n"
     ]
    },
    {
     "data": {
      "text/plain": [
       "'6pgl'"
      ]
     },
     "execution_count": 13,
     "metadata": {},
     "output_type": "execute_result"
    },
    {
     "name": "stdout",
     "output_type": "stream",
     "text": [
      "VIOMYCIN_c0\n",
      "VIOMYCIN-P_c0\n",
      "u3aga_c0\n",
      "u3aga_c0\n"
     ]
    },
    {
     "data": {
      "text/plain": [
       "'u3aga'"
      ]
     },
     "execution_count": 13,
     "metadata": {},
     "output_type": "execute_result"
    },
    {
     "name": "stdout",
     "output_type": "stream",
     "text": [
      "3ophb_c0\n",
      "3ophb_c0\n"
     ]
    },
    {
     "data": {
      "text/plain": [
       "'3ophb'"
      ]
     },
     "execution_count": 13,
     "metadata": {},
     "output_type": "execute_result"
    },
    {
     "name": "stdout",
     "output_type": "stream",
     "text": [
      "MNXM73074_c0\n",
      "pencilca_c0\n",
      "pencilca_c0\n"
     ]
    },
    {
     "data": {
      "text/plain": [
       "'pencilca'"
      ]
     },
     "execution_count": 13,
     "metadata": {},
     "output_type": "execute_result"
    },
    {
     "name": "stdout",
     "output_type": "stream",
     "text": [
      "acac_c0\n",
      "acac_c0\n"
     ]
    },
    {
     "data": {
      "text/plain": [
       "'acac'"
      ]
     },
     "execution_count": 13,
     "metadata": {},
     "output_type": "execute_result"
    },
    {
     "name": "stdout",
     "output_type": "stream",
     "text": [
      "CPD-216_c0\n",
      "CPD-303_c0\n",
      "zymst_c0\n",
      "zymst_c0\n"
     ]
    },
    {
     "data": {
      "text/plain": [
       "'zymst'"
      ]
     },
     "execution_count": 13,
     "metadata": {},
     "output_type": "execute_result"
    },
    {
     "name": "stdout",
     "output_type": "stream",
     "text": [
      "fecost_c0\n",
      "fecost_c0\n"
     ]
    },
    {
     "data": {
      "text/plain": [
       "'fecost'"
      ]
     },
     "execution_count": 13,
     "metadata": {},
     "output_type": "execute_result"
    },
    {
     "name": "stdout",
     "output_type": "stream",
     "text": [
      "CPD-466_c0\n",
      "MNXM7957_c0\n",
      "MNXM613_c0\n",
      "MNXM5869_c0\n",
      "MNXM5870_c0\n",
      "CPD-485_c0\n",
      "tym_c0\n",
      "tym_c0\n"
     ]
    },
    {
     "data": {
      "text/plain": [
       "'tym'"
      ]
     },
     "execution_count": 13,
     "metadata": {},
     "output_type": "execute_result"
    },
    {
     "name": "stdout",
     "output_type": "stream",
     "text": [
      "conialdh_c0\n",
      "conialdh_c0\n"
     ]
    },
    {
     "data": {
      "text/plain": [
       "'conialdh'"
      ]
     },
     "execution_count": 13,
     "metadata": {},
     "output_type": "execute_result"
    },
    {
     "name": "stdout",
     "output_type": "stream",
     "text": [
      "fer_c0\n",
      "fer_c0\n"
     ]
    },
    {
     "data": {
      "text/plain": [
       "'fer'"
      ]
     },
     "execution_count": 13,
     "metadata": {},
     "output_type": "execute_result"
    },
    {
     "name": "stdout",
     "output_type": "stream",
     "text": [
      "4mcat_c0\n",
      "4mcat_c0\n"
     ]
    },
    {
     "data": {
      "text/plain": [
       "'4mcat'"
      ]
     },
     "execution_count": 13,
     "metadata": {},
     "output_type": "execute_result"
    },
    {
     "name": "stdout",
     "output_type": "stream",
     "text": [
      "CPD-10656_c0\n",
      "MNXM989_c0\n",
      "ckdo_c0\n",
      "ckdo_c0\n"
     ]
    },
    {
     "data": {
      "text/plain": [
       "'ckdo'"
      ]
     },
     "execution_count": 13,
     "metadata": {},
     "output_type": "execute_result"
    },
    {
     "name": "stdout",
     "output_type": "stream",
     "text": [
      "2dr5p_c0\n",
      "2dr5p_c0\n"
     ]
    },
    {
     "data": {
      "text/plain": [
       "'2dr5p'"
      ]
     },
     "execution_count": 13,
     "metadata": {},
     "output_type": "execute_result"
    },
    {
     "name": "stdout",
     "output_type": "stream",
     "text": [
      "5prdmbz_c0\n",
      "5prdmbz_c0\n"
     ]
    },
    {
     "data": {
      "text/plain": [
       "'5prdmbz'"
      ]
     },
     "execution_count": 13,
     "metadata": {},
     "output_type": "execute_result"
    },
    {
     "name": "stdout",
     "output_type": "stream",
     "text": [
      "rdmbzi_c0\n",
      "rdmbzi_c0\n"
     ]
    },
    {
     "data": {
      "text/plain": [
       "'rdmbzi'"
      ]
     },
     "execution_count": 13,
     "metadata": {},
     "output_type": "execute_result"
    },
    {
     "name": "stdout",
     "output_type": "stream",
     "text": [
      "udpgalfur_c0\n",
      "udpgalfur_c0\n"
     ]
    },
    {
     "data": {
      "text/plain": [
       "'udpgalfur'"
      ]
     },
     "execution_count": 13,
     "metadata": {},
     "output_type": "execute_result"
    },
    {
     "name": "stdout",
     "output_type": "stream",
     "text": [
      "xu5p__L_c0\n",
      "xu5p__L_c0\n"
     ]
    },
    {
     "data": {
      "text/plain": [
       "'xu5p__L'"
      ]
     },
     "execution_count": 13,
     "metadata": {},
     "output_type": "execute_result"
    },
    {
     "name": "stdout",
     "output_type": "stream",
     "text": [
      "glyb_e0\n",
      "glyb_e0\n"
     ]
    },
    {
     "data": {
      "text/plain": [
       "'glyb'"
      ]
     },
     "execution_count": 13,
     "metadata": {},
     "output_type": "execute_result"
    },
    {
     "name": "stdout",
     "output_type": "stream",
     "text": [
      "1-Alkyl-glycerol-3-phosphate_c0\n",
      "MNXM91872_c0\n",
      "MNXM5296_c0\n",
      "selhcys_c0\n",
      "selhcys_c0\n"
     ]
    },
    {
     "data": {
      "text/plain": [
       "'selhcys'"
      ]
     },
     "execution_count": 13,
     "metadata": {},
     "output_type": "execute_result"
    },
    {
     "name": "stdout",
     "output_type": "stream",
     "text": [
      "3oddcoa_c0\n",
      "3oddcoa_c0\n"
     ]
    },
    {
     "data": {
      "text/plain": [
       "'3oddcoa'"
      ]
     },
     "execution_count": 13,
     "metadata": {},
     "output_type": "execute_result"
    },
    {
     "name": "stdout",
     "output_type": "stream",
     "text": [
      "4hthr_c0\n",
      "4hthr_c0\n"
     ]
    },
    {
     "data": {
      "text/plain": [
       "'4hthr'"
      ]
     },
     "execution_count": 13,
     "metadata": {},
     "output_type": "execute_result"
    },
    {
     "name": "stdout",
     "output_type": "stream",
     "text": [
      "ptth_c0\n",
      "ptth_c0\n"
     ]
    },
    {
     "data": {
      "text/plain": [
       "'ptth'"
      ]
     },
     "execution_count": 13,
     "metadata": {},
     "output_type": "execute_result"
    },
    {
     "name": "stdout",
     "output_type": "stream",
     "text": [
      "cysam_c0\n",
      "cysam_c0\n"
     ]
    },
    {
     "data": {
      "text/plain": [
       "'cysam'"
      ]
     },
     "execution_count": 13,
     "metadata": {},
     "output_type": "execute_result"
    },
    {
     "name": "stdout",
     "output_type": "stream",
     "text": [
      "neuspn_c0\n",
      "neuspn_c0\n"
     ]
    },
    {
     "data": {
      "text/plain": [
       "'neuspn'"
      ]
     },
     "execution_count": 13,
     "metadata": {},
     "output_type": "execute_result"
    },
    {
     "name": "stdout",
     "output_type": "stream",
     "text": [
      "CPD-11463_c0\n",
      "MNXM90619_c0\n",
      "HC01446_c0\n",
      "HC01446_c0\n"
     ]
    },
    {
     "data": {
      "text/plain": [
       "'HC01446'"
      ]
     },
     "execution_count": 13,
     "metadata": {},
     "output_type": "execute_result"
    },
    {
     "name": "stdout",
     "output_type": "stream",
     "text": [
      "HC01440_c0\n",
      "HC01440_c0\n"
     ]
    },
    {
     "data": {
      "text/plain": [
       "'HC01440'"
      ]
     },
     "execution_count": 13,
     "metadata": {},
     "output_type": "execute_result"
    },
    {
     "name": "stdout",
     "output_type": "stream",
     "text": [
      "MNXM10474_c0\n",
      "thm_c0\n",
      "thm_c0\n"
     ]
    },
    {
     "data": {
      "text/plain": [
       "'thm'"
      ]
     },
     "execution_count": 13,
     "metadata": {},
     "output_type": "execute_result"
    },
    {
     "name": "stdout",
     "output_type": "stream",
     "text": [
      "4mhetz_c0\n",
      "4mhetz_c0\n"
     ]
    },
    {
     "data": {
      "text/plain": [
       "'4mhetz'"
      ]
     },
     "execution_count": 13,
     "metadata": {},
     "output_type": "execute_result"
    },
    {
     "name": "stdout",
     "output_type": "stream",
     "text": [
      "saccrp__L_c0\n",
      "saccrp__L_c0\n"
     ]
    },
    {
     "data": {
      "text/plain": [
       "'saccrp__L'"
      ]
     },
     "execution_count": 13,
     "metadata": {},
     "output_type": "execute_result"
    },
    {
     "name": "stdout",
     "output_type": "stream",
     "text": [
      "sl26da_c0\n",
      "sl26da_c0\n"
     ]
    },
    {
     "data": {
      "text/plain": [
       "'sl26da'"
      ]
     },
     "execution_count": 13,
     "metadata": {},
     "output_type": "execute_result"
    },
    {
     "name": "stdout",
     "output_type": "stream",
     "text": [
      "sl2a6o_c0\n",
      "sl2a6o_c0\n"
     ]
    },
    {
     "data": {
      "text/plain": [
       "'sl2a6o'"
      ]
     },
     "execution_count": 13,
     "metadata": {},
     "output_type": "execute_result"
    },
    {
     "name": "stdout",
     "output_type": "stream",
     "text": [
      "HC01231_c0\n",
      "whole annotation: ['HC01231', 'ptcys']\n",
      "HC01231_c0\n"
     ]
    },
    {
     "data": {
      "text/plain": [
       "['HC01231', 'ptcys']"
      ]
     },
     "execution_count": 13,
     "metadata": {},
     "output_type": "execute_result"
    },
    {
     "name": "stdout",
     "output_type": "stream",
     "text": [
      "trp__L_e0\n",
      "trp__L_e0\n"
     ]
    },
    {
     "data": {
      "text/plain": [
       "'trp__L'"
      ]
     },
     "execution_count": 13,
     "metadata": {},
     "output_type": "execute_result"
    },
    {
     "name": "stdout",
     "output_type": "stream",
     "text": [
      "MNXM146342_c0\n",
      "MNXM6361_c0\n",
      "CPD-10574_c0\n",
      "CPD-12905_c0\n",
      "CPD-12906_c0\n",
      "MNXM146497_c0\n",
      "CPD-2041_c0\n",
      "for_e0\n",
      "for_e0\n"
     ]
    },
    {
     "data": {
      "text/plain": [
       "'for'"
      ]
     },
     "execution_count": 13,
     "metadata": {},
     "output_type": "execute_result"
    },
    {
     "name": "stdout",
     "output_type": "stream",
     "text": [
      "2saa_c0\n",
      "2saa_c0\n"
     ]
    },
    {
     "data": {
      "text/plain": [
       "'2saa'"
      ]
     },
     "execution_count": 13,
     "metadata": {},
     "output_type": "execute_result"
    },
    {
     "name": "stdout",
     "output_type": "stream",
     "text": [
      "DIPHTHAMIDE_c0\n",
      "CPD-12345_c0\n",
      "adocbl_c0\n",
      "adocbl_c0\n"
     ]
    },
    {
     "data": {
      "text/plain": [
       "'adocbl'"
      ]
     },
     "execution_count": 13,
     "metadata": {},
     "output_type": "execute_result"
    },
    {
     "name": "stdout",
     "output_type": "stream",
     "text": [
      "4hba_c0\n",
      "4hba_c0\n"
     ]
    },
    {
     "data": {
      "text/plain": [
       "'4hba'"
      ]
     },
     "execution_count": 13,
     "metadata": {},
     "output_type": "execute_result"
    },
    {
     "name": "stdout",
     "output_type": "stream",
     "text": [
      "grdp_c0\n",
      "grdp_c0\n"
     ]
    },
    {
     "data": {
      "text/plain": [
       "'grdp'"
      ]
     },
     "execution_count": 13,
     "metadata": {},
     "output_type": "execute_result"
    },
    {
     "name": "stdout",
     "output_type": "stream",
     "text": [
      "PROT-CYS_c0\n",
      "DNA-6-O-Methyl-Guanines_c0\n",
      "Protein-S-methyl-L-cysteine_c0\n",
      "MNXM5722_c0\n",
      "hmpscoa_c0\n",
      "hmpscoa_c0\n"
     ]
    },
    {
     "data": {
      "text/plain": [
       "'hmpscoa'"
      ]
     },
     "execution_count": 13,
     "metadata": {},
     "output_type": "execute_result"
    },
    {
     "name": "stdout",
     "output_type": "stream",
     "text": [
      "BENZOYLSUCCINYL-COA_c0\n",
      "MNXM8671_e0\n",
      "pg160_c0\n",
      "pg160_c0\n"
     ]
    },
    {
     "data": {
      "text/plain": [
       "'pg160'"
      ]
     },
     "execution_count": 13,
     "metadata": {},
     "output_type": "execute_result"
    },
    {
     "name": "stdout",
     "output_type": "stream",
     "text": [
      "MNXM6370_c0\n",
      "so4_e0\n",
      "so4_e0\n"
     ]
    },
    {
     "data": {
      "text/plain": [
       "'so4'"
      ]
     },
     "execution_count": 13,
     "metadata": {},
     "output_type": "execute_result"
    },
    {
     "name": "stdout",
     "output_type": "stream",
     "text": [
      "D-galactopyranose-6-phosphate_c0\n",
      "MNXM6600_c0\n",
      "alpro_c0\n",
      "alpro_c0\n"
     ]
    },
    {
     "data": {
      "text/plain": [
       "'alpro'"
      ]
     },
     "execution_count": 13,
     "metadata": {},
     "output_type": "execute_result"
    },
    {
     "name": "stdout",
     "output_type": "stream",
     "text": [
      "1p3h5c_c0\n",
      "1p3h5c_c0\n"
     ]
    },
    {
     "data": {
      "text/plain": [
       "'1p3h5c'"
      ]
     },
     "execution_count": 13,
     "metadata": {},
     "output_type": "execute_result"
    },
    {
     "name": "stdout",
     "output_type": "stream",
     "text": [
      "MNXM7308_c0\n",
      "meoh_c0\n",
      "meoh_c0\n"
     ]
    },
    {
     "data": {
      "text/plain": [
       "'meoh'"
      ]
     },
     "execution_count": 13,
     "metadata": {},
     "output_type": "execute_result"
    },
    {
     "name": "stdout",
     "output_type": "stream",
     "text": [
      "Protein-Histidines_c0\n",
      "MNXM90093_c0\n",
      "4mop_c0\n",
      "4mop_c0\n"
     ]
    },
    {
     "data": {
      "text/plain": [
       "'4mop'"
      ]
     },
     "execution_count": 13,
     "metadata": {},
     "output_type": "execute_result"
    },
    {
     "name": "stdout",
     "output_type": "stream",
     "text": [
      "CPD-7836_e0\n",
      "MNXM5792_c0\n",
      "MNXM8761_c0\n",
      "cobalt2_e0\n",
      "cobalt2_e0\n"
     ]
    },
    {
     "data": {
      "text/plain": [
       "'cobalt2'"
      ]
     },
     "execution_count": 13,
     "metadata": {},
     "output_type": "execute_result"
    },
    {
     "name": "stdout",
     "output_type": "stream",
     "text": [
      "tmao_c0\n",
      "tmao_c0\n"
     ]
    },
    {
     "data": {
      "text/plain": [
       "'tmao'"
      ]
     },
     "execution_count": 13,
     "metadata": {},
     "output_type": "execute_result"
    },
    {
     "name": "stdout",
     "output_type": "stream",
     "text": [
      "MNXM162337_e0\n",
      "tma_c0\n",
      "tma_c0\n"
     ]
    },
    {
     "data": {
      "text/plain": [
       "'tma'"
      ]
     },
     "execution_count": 13,
     "metadata": {},
     "output_type": "execute_result"
    },
    {
     "name": "stdout",
     "output_type": "stream",
     "text": [
      "2dmmq8_e0\n",
      "2dmmq8_e0\n"
     ]
    },
    {
     "data": {
      "text/plain": [
       "'2dmmq8'"
      ]
     },
     "execution_count": 13,
     "metadata": {},
     "output_type": "execute_result"
    },
    {
     "name": "stdout",
     "output_type": "stream",
     "text": [
      "PHENYLACETALDOXIME_c0\n",
      "PHENYLACETONITRILE_c0\n",
      "metox_e0\n",
      "whole annotation: ['metox', 'metsox_R__L', 'metsox_S__L']\n",
      "metox_e0\n"
     ]
    },
    {
     "data": {
      "text/plain": [
       "['metox', 'metsox_R__L', 'metsox_S__L']"
      ]
     },
     "execution_count": 13,
     "metadata": {},
     "output_type": "execute_result"
    },
    {
     "name": "stdout",
     "output_type": "stream",
     "text": [
      "3hacoa_c0\n",
      "3hacoa_c0\n"
     ]
    },
    {
     "data": {
      "text/plain": [
       "'3hacoa'"
      ]
     },
     "execution_count": 13,
     "metadata": {},
     "output_type": "execute_result"
    },
    {
     "name": "stdout",
     "output_type": "stream",
     "text": [
      "3oacoa_c0\n",
      "3oacoa_c0\n"
     ]
    },
    {
     "data": {
      "text/plain": [
       "'3oacoa'"
      ]
     },
     "execution_count": 13,
     "metadata": {},
     "output_type": "execute_result"
    },
    {
     "name": "stdout",
     "output_type": "stream",
     "text": [
      "6dg_c0\n",
      "whole annotation: ['6dg', 'melib']\n",
      "6dg_c0\n"
     ]
    },
    {
     "data": {
      "text/plain": [
       "['6dg', 'melib']"
      ]
     },
     "execution_count": 13,
     "metadata": {},
     "output_type": "execute_result"
    },
    {
     "name": "stdout",
     "output_type": "stream",
     "text": [
      "ALPHA-L-GLUTAMYL-PHOSPHATE_c0\n",
      "MNXM3990_c0\n",
      "CPD0-2367_c0\n",
      "5flurimp_c0\n",
      "5flurimp_c0\n"
     ]
    },
    {
     "data": {
      "text/plain": [
       "'5flurimp'"
      ]
     },
     "execution_count": 13,
     "metadata": {},
     "output_type": "execute_result"
    },
    {
     "name": "stdout",
     "output_type": "stream",
     "text": [
      "INOSITOL-1-4-5-TRISPHOSPHATE_c0\n",
      "CPD-506_c0\n",
      "TRYPANOTHIONE_c0\n",
      "TRYPANOTHIONE-DISULFIDE_c0\n",
      "MNXM162349_c0\n",
      "pendp_c0\n",
      "pendp_c0\n"
     ]
    },
    {
     "data": {
      "text/plain": [
       "'pendp'"
      ]
     },
     "execution_count": 13,
     "metadata": {},
     "output_type": "execute_result"
    },
    {
     "name": "stdout",
     "output_type": "stream",
     "text": [
      "raffin_c0\n",
      "raffin_c0\n"
     ]
    },
    {
     "data": {
      "text/plain": [
       "'raffin'"
      ]
     },
     "execution_count": 13,
     "metadata": {},
     "output_type": "execute_result"
    },
    {
     "name": "stdout",
     "output_type": "stream",
     "text": [
      "MNXM6497_c0\n",
      "CPD-17320_c0\n",
      "MNXM91685_c0\n",
      "MNXM162584_c0\n",
      "ASPULVINONE-E_c0\n",
      "ASPULVINONE-H_c0\n",
      "5-PHOSPHORIBOSYL-N-FORMYLGLYCINEAMIDINE_c0\n",
      "4h2opntn_c0\n",
      "4h2opntn_c0\n"
     ]
    },
    {
     "data": {
      "text/plain": [
       "'4h2opntn'"
      ]
     },
     "execution_count": 13,
     "metadata": {},
     "output_type": "execute_result"
    },
    {
     "name": "stdout",
     "output_type": "stream",
     "text": [
      "MNXM147673_c0\n",
      "gd1b_cho_c0\n",
      "gd1b_cho_c0\n"
     ]
    },
    {
     "data": {
      "text/plain": [
       "'gd1b_cho'"
      ]
     },
     "execution_count": 13,
     "metadata": {},
     "output_type": "execute_result"
    },
    {
     "name": "stdout",
     "output_type": "stream",
     "text": [
      "DL-12-Propanediol_c0\n",
      "appl_c0\n",
      "appl_c0\n"
     ]
    },
    {
     "data": {
      "text/plain": [
       "'appl'"
      ]
     },
     "execution_count": 13,
     "metadata": {},
     "output_type": "execute_result"
    },
    {
     "name": "stdout",
     "output_type": "stream",
     "text": [
      "hg2_c0\n",
      "hg2_c0\n"
     ]
    },
    {
     "data": {
      "text/plain": [
       "'hg2'"
      ]
     },
     "execution_count": 13,
     "metadata": {},
     "output_type": "execute_result"
    },
    {
     "name": "stdout",
     "output_type": "stream",
     "text": [
      "hg2_e0\n",
      "hg2_e0\n"
     ]
    },
    {
     "data": {
      "text/plain": [
       "'hg2'"
      ]
     },
     "execution_count": 13,
     "metadata": {},
     "output_type": "execute_result"
    },
    {
     "name": "stdout",
     "output_type": "stream",
     "text": [
      "CE5866_e0\n",
      "whole annotation: ['CE5866', 'ala_L_leu__L']\n",
      "CE5866_e0\n"
     ]
    },
    {
     "data": {
      "text/plain": [
       "['CE5866', 'ala_L_leu__L']"
      ]
     },
     "execution_count": 13,
     "metadata": {},
     "output_type": "execute_result"
    },
    {
     "name": "stdout",
     "output_type": "stream",
     "text": [
      "MNXM162372_c0\n",
      "1hdec9eg3p_c0\n",
      "1hdec9eg3p_c0\n"
     ]
    },
    {
     "data": {
      "text/plain": [
       "'1hdec9eg3p'"
      ]
     },
     "execution_count": 13,
     "metadata": {},
     "output_type": "execute_result"
    },
    {
     "name": "stdout",
     "output_type": "stream",
     "text": [
      "Lfmkynr_c0\n",
      "Lfmkynr_c0\n"
     ]
    },
    {
     "data": {
      "text/plain": [
       "'Lfmkynr'"
      ]
     },
     "execution_count": 13,
     "metadata": {},
     "output_type": "execute_result"
    },
    {
     "name": "stdout",
     "output_type": "stream",
     "text": [
      "Lkynr_c0\n",
      "Lkynr_c0\n"
     ]
    },
    {
     "data": {
      "text/plain": [
       "'Lkynr'"
      ]
     },
     "execution_count": 13,
     "metadata": {},
     "output_type": "execute_result"
    },
    {
     "name": "stdout",
     "output_type": "stream",
     "text": [
      "2tdecg3p_c0\n",
      "2tdecg3p_c0\n"
     ]
    },
    {
     "data": {
      "text/plain": [
       "'2tdecg3p'"
      ]
     },
     "execution_count": 13,
     "metadata": {},
     "output_type": "execute_result"
    },
    {
     "name": "stdout",
     "output_type": "stream",
     "text": [
      "MNXM11398_c0\n",
      "MNXM5132_c0\n",
      "pydxn_c0\n",
      "pydxn_c0\n"
     ]
    },
    {
     "data": {
      "text/plain": [
       "'pydxn'"
      ]
     },
     "execution_count": 13,
     "metadata": {},
     "output_type": "execute_result"
    },
    {
     "name": "stdout",
     "output_type": "stream",
     "text": [
      "gd2_cho_c0\n",
      "gd2_cho_c0\n"
     ]
    },
    {
     "data": {
      "text/plain": [
       "'gd2_cho'"
      ]
     },
     "execution_count": 13,
     "metadata": {},
     "output_type": "execute_result"
    },
    {
     "name": "stdout",
     "output_type": "stream",
     "text": [
      "CPD-59_c0\n",
      "CPD-728_c0\n",
      "MNXM8379_c0\n",
      "MNXM11393_c0\n",
      "madg_c0\n",
      "madg_c0\n"
     ]
    },
    {
     "data": {
      "text/plain": [
       "'madg'"
      ]
     },
     "execution_count": 13,
     "metadata": {},
     "output_type": "execute_result"
    },
    {
     "name": "stdout",
     "output_type": "stream",
     "text": [
      "unaga_c0\n",
      "unaga_c0\n"
     ]
    },
    {
     "data": {
      "text/plain": [
       "'unaga'"
      ]
     },
     "execution_count": 13,
     "metadata": {},
     "output_type": "execute_result"
    },
    {
     "name": "stdout",
     "output_type": "stream",
     "text": [
      "MNXM92578_c0\n",
      "pydam_c0\n",
      "pydam_c0\n"
     ]
    },
    {
     "data": {
      "text/plain": [
       "'pydam'"
      ]
     },
     "execution_count": 13,
     "metadata": {},
     "output_type": "execute_result"
    },
    {
     "name": "stdout",
     "output_type": "stream",
     "text": [
      "dscl_c0\n",
      "whole annotation: ['dscl', 'shcl']\n",
      "dscl_c0\n"
     ]
    },
    {
     "data": {
      "text/plain": [
       "['dscl', 'shcl']"
      ]
     },
     "execution_count": 13,
     "metadata": {},
     "output_type": "execute_result"
    },
    {
     "name": "stdout",
     "output_type": "stream",
     "text": [
      "cellb6p_c0\n",
      "cellb6p_c0\n"
     ]
    },
    {
     "data": {
      "text/plain": [
       "'cellb6p'"
      ]
     },
     "execution_count": 13,
     "metadata": {},
     "output_type": "execute_result"
    },
    {
     "name": "stdout",
     "output_type": "stream",
     "text": [
      "n2_c0\n",
      "n2_c0\n"
     ]
    },
    {
     "data": {
      "text/plain": [
       "'n2'"
      ]
     },
     "execution_count": 13,
     "metadata": {},
     "output_type": "execute_result"
    },
    {
     "name": "stdout",
     "output_type": "stream",
     "text": [
      "fdxrd_c0\n",
      "fdxrd_c0\n"
     ]
    },
    {
     "data": {
      "text/plain": [
       "'fdxrd'"
      ]
     },
     "execution_count": 13,
     "metadata": {},
     "output_type": "execute_result"
    },
    {
     "name": "stdout",
     "output_type": "stream",
     "text": [
      "fdxo_2_2_c0\n",
      "whole annotation: ['fdxo_2_2', 'fdxox']\n",
      "fdxo_2_2_c0\n"
     ]
    },
    {
     "data": {
      "text/plain": [
       "['fdxo_2_2', 'fdxox']"
      ]
     },
     "execution_count": 13,
     "metadata": {},
     "output_type": "execute_result"
    },
    {
     "name": "stdout",
     "output_type": "stream",
     "text": [
      "pacald_c0\n",
      "pacald_c0\n"
     ]
    },
    {
     "data": {
      "text/plain": [
       "'pacald'"
      ]
     },
     "execution_count": 13,
     "metadata": {},
     "output_type": "execute_result"
    },
    {
     "name": "stdout",
     "output_type": "stream",
     "text": [
      "MNXM114402_c0\n",
      "peng_c0\n",
      "peng_c0\n"
     ]
    },
    {
     "data": {
      "text/plain": [
       "'peng'"
      ]
     },
     "execution_count": 13,
     "metadata": {},
     "output_type": "execute_result"
    },
    {
     "name": "stdout",
     "output_type": "stream",
     "text": [
      "SALICYLALDEHYDE_c0\n",
      "salc_c0\n",
      "salc_c0\n"
     ]
    },
    {
     "data": {
      "text/plain": [
       "'salc'"
      ]
     },
     "execution_count": 13,
     "metadata": {},
     "output_type": "execute_result"
    },
    {
     "name": "stdout",
     "output_type": "stream",
     "text": [
      "2mcacn_c0\n",
      "2mcacn_c0\n"
     ]
    },
    {
     "data": {
      "text/plain": [
       "'2mcacn'"
      ]
     },
     "execution_count": 13,
     "metadata": {},
     "output_type": "execute_result"
    },
    {
     "name": "stdout",
     "output_type": "stream",
     "text": [
      "4adcho_c0\n",
      "4adcho_c0\n"
     ]
    },
    {
     "data": {
      "text/plain": [
       "'4adcho'"
      ]
     },
     "execution_count": 13,
     "metadata": {},
     "output_type": "execute_result"
    },
    {
     "name": "stdout",
     "output_type": "stream",
     "text": [
      "hista_c0\n",
      "hista_c0\n"
     ]
    },
    {
     "data": {
      "text/plain": [
       "'hista'"
      ]
     },
     "execution_count": 13,
     "metadata": {},
     "output_type": "execute_result"
    },
    {
     "name": "stdout",
     "output_type": "stream",
     "text": [
      "kdo2lipid4L_c0\n",
      "kdo2lipid4L_c0\n"
     ]
    },
    {
     "data": {
      "text/plain": [
       "'kdo2lipid4L'"
      ]
     },
     "execution_count": 13,
     "metadata": {},
     "output_type": "execute_result"
    },
    {
     "name": "stdout",
     "output_type": "stream",
     "text": [
      "kdo2lipid4_c0\n",
      "kdo2lipid4_c0\n"
     ]
    },
    {
     "data": {
      "text/plain": [
       "'kdo2lipid4'"
      ]
     },
     "execution_count": 13,
     "metadata": {},
     "output_type": "execute_result"
    },
    {
     "name": "stdout",
     "output_type": "stream",
     "text": [
      "glcn_c0\n",
      "whole annotation: ['glcn', 'glcn__D']\n",
      "glcn_c0\n"
     ]
    },
    {
     "data": {
      "text/plain": [
       "['glcn', 'glcn__D']"
      ]
     },
     "execution_count": 13,
     "metadata": {},
     "output_type": "execute_result"
    },
    {
     "name": "stdout",
     "output_type": "stream",
     "text": [
      "2dhglcn_c0\n",
      "2dhglcn_c0\n"
     ]
    },
    {
     "data": {
      "text/plain": [
       "'2dhglcn'"
      ]
     },
     "execution_count": 13,
     "metadata": {},
     "output_type": "execute_result"
    },
    {
     "name": "stdout",
     "output_type": "stream",
     "text": [
      "3hhcoa_c0\n",
      "3hhcoa_c0\n"
     ]
    },
    {
     "data": {
      "text/plain": [
       "'3hhcoa'"
      ]
     },
     "execution_count": 13,
     "metadata": {},
     "output_type": "execute_result"
    },
    {
     "name": "stdout",
     "output_type": "stream",
     "text": [
      "3ohcoa_c0\n",
      "3ohcoa_c0\n"
     ]
    },
    {
     "data": {
      "text/plain": [
       "'3ohcoa'"
      ]
     },
     "execution_count": 13,
     "metadata": {},
     "output_type": "execute_result"
    },
    {
     "name": "stdout",
     "output_type": "stream",
     "text": [
      "etha_e0\n",
      "etha_e0\n"
     ]
    },
    {
     "data": {
      "text/plain": [
       "'etha'"
      ]
     },
     "execution_count": 13,
     "metadata": {},
     "output_type": "execute_result"
    },
    {
     "name": "stdout",
     "output_type": "stream",
     "text": [
      "pcollglys_c0\n",
      "pcollglys_c0\n"
     ]
    },
    {
     "data": {
      "text/plain": [
       "'pcollglys'"
      ]
     },
     "execution_count": 13,
     "metadata": {},
     "output_type": "execute_result"
    },
    {
     "name": "stdout",
     "output_type": "stream",
     "text": [
      "MNXM97151_c0\n",
      "MNXM163652_c0\n",
      "25-DICHLORO-CISCIS-MUCONATE_c0\n",
      "hatrz_c0\n",
      "hatrz_c0\n"
     ]
    },
    {
     "data": {
      "text/plain": [
       "'hatrz'"
      ]
     },
     "execution_count": 13,
     "metadata": {},
     "output_type": "execute_result"
    },
    {
     "name": "stdout",
     "output_type": "stream",
     "text": [
      "ETHANAMINE_c0\n",
      "N-ISOPROPYLAMMELIDE_c0\n",
      "2pglyc_c0\n",
      "2pglyc_c0\n"
     ]
    },
    {
     "data": {
      "text/plain": [
       "'2pglyc'"
      ]
     },
     "execution_count": 13,
     "metadata": {},
     "output_type": "execute_result"
    },
    {
     "name": "stdout",
     "output_type": "stream",
     "text": [
      "chtbs_c0\n",
      "chtbs_c0\n"
     ]
    },
    {
     "data": {
      "text/plain": [
       "'chtbs'"
      ]
     },
     "execution_count": 13,
     "metadata": {},
     "output_type": "execute_result"
    },
    {
     "name": "stdout",
     "output_type": "stream",
     "text": [
      "23-DIPHOSPHOGLYCERATE_c0\n",
      "L-DIHYDROXY-PHENYLALANINE_c0\n",
      "34-DIHYDROXYPHENYLPYRUVATE_c0\n",
      "CPD-554_c0\n",
      "pmcoa_c0\n",
      "pmcoa_c0\n"
     ]
    },
    {
     "data": {
      "text/plain": [
       "'pmcoa'"
      ]
     },
     "execution_count": 13,
     "metadata": {},
     "output_type": "execute_result"
    },
    {
     "name": "stdout",
     "output_type": "stream",
     "text": [
      "MNXM31340_c0\n",
      "MNXM8026_c0\n",
      "damp_c0\n",
      "damp_c0\n"
     ]
    },
    {
     "data": {
      "text/plain": [
       "'damp'"
      ]
     },
     "execution_count": 13,
     "metadata": {},
     "output_type": "execute_result"
    },
    {
     "name": "stdout",
     "output_type": "stream",
     "text": [
      "gly_asp__L_e0\n",
      "gly_asp__L_e0\n"
     ]
    },
    {
     "data": {
      "text/plain": [
       "'gly_asp__L'"
      ]
     },
     "execution_count": 13,
     "metadata": {},
     "output_type": "execute_result"
    },
    {
     "name": "stdout",
     "output_type": "stream",
     "text": [
      "CPD0-1476_c0\n",
      "CPD-9673_c0\n",
      "glc__D_e0\n",
      "whole annotation: ['glc__D', 'glc__bD']\n",
      "glc__D_e0\n"
     ]
    },
    {
     "data": {
      "text/plain": [
       "['glc__D', 'glc__bD']"
      ]
     },
     "execution_count": 13,
     "metadata": {},
     "output_type": "execute_result"
    },
    {
     "name": "stdout",
     "output_type": "stream",
     "text": [
      "cdpchol_c0\n",
      "cdpchol_c0\n"
     ]
    },
    {
     "data": {
      "text/plain": [
       "'cdpchol'"
      ]
     },
     "execution_count": 13,
     "metadata": {},
     "output_type": "execute_result"
    },
    {
     "name": "stdout",
     "output_type": "stream",
     "text": [
      "PLASMENYLCHOLINE_c0\n",
      "All-trans-Retinyl-Esters_c0\n",
      "23camp_c0\n",
      "23camp_c0\n"
     ]
    },
    {
     "data": {
      "text/plain": [
       "'23camp'"
      ]
     },
     "execution_count": 13,
     "metadata": {},
     "output_type": "execute_result"
    },
    {
     "name": "stdout",
     "output_type": "stream",
     "text": [
      "3amp_c0\n",
      "3amp_c0\n"
     ]
    },
    {
     "data": {
      "text/plain": [
       "'3amp'"
      ]
     },
     "execution_count": 13,
     "metadata": {},
     "output_type": "execute_result"
    },
    {
     "name": "stdout",
     "output_type": "stream",
     "text": [
      "dmtphllqne_c0\n",
      "dmtphllqne_c0\n"
     ]
    },
    {
     "data": {
      "text/plain": [
       "'dmtphllqne'"
      ]
     },
     "execution_count": 13,
     "metadata": {},
     "output_type": "execute_result"
    },
    {
     "name": "stdout",
     "output_type": "stream",
     "text": [
      "MNXM163005_c0\n",
      "CPD-621_c0\n",
      "2oph_c0\n",
      "2oph_c0\n"
     ]
    },
    {
     "data": {
      "text/plain": [
       "'2oph'"
      ]
     },
     "execution_count": 13,
     "metadata": {},
     "output_type": "execute_result"
    },
    {
     "name": "stdout",
     "output_type": "stream",
     "text": [
      "com_c0\n",
      "com_c0\n"
     ]
    },
    {
     "data": {
      "text/plain": [
       "'com'"
      ]
     },
     "execution_count": 13,
     "metadata": {},
     "output_type": "execute_result"
    },
    {
     "name": "stdout",
     "output_type": "stream",
     "text": [
      "2-OXOPROPYL-COM_c0\n",
      "MNXM4089_c0\n",
      "MNXM4790_c0\n",
      "GLYCOL_c0\n",
      "5a2opntn_c0\n",
      "5a2opntn_c0\n"
     ]
    },
    {
     "data": {
      "text/plain": [
       "'5a2opntn'"
      ]
     },
     "execution_count": 13,
     "metadata": {},
     "output_type": "execute_result"
    },
    {
     "name": "stdout",
     "output_type": "stream",
     "text": [
      "56dura_c0\n",
      "56dura_c0\n"
     ]
    },
    {
     "data": {
      "text/plain": [
       "'56dura'"
      ]
     },
     "execution_count": 13,
     "metadata": {},
     "output_type": "execute_result"
    },
    {
     "name": "stdout",
     "output_type": "stream",
     "text": [
      "cala_c0\n",
      "cala_c0\n"
     ]
    },
    {
     "data": {
      "text/plain": [
       "'cala'"
      ]
     },
     "execution_count": 13,
     "metadata": {},
     "output_type": "execute_result"
    },
    {
     "name": "stdout",
     "output_type": "stream",
     "text": [
      "Protein-L-serines_c0\n",
      "Protein-D-serines_c0\n",
      "MNXM163551_c0\n",
      "Protein-L-methionine-R-S-oxides_c0\n",
      "gd3_cho_c0\n",
      "gd3_cho_c0\n"
     ]
    },
    {
     "data": {
      "text/plain": [
       "'gd3_cho'"
      ]
     },
     "execution_count": 13,
     "metadata": {},
     "output_type": "execute_result"
    },
    {
     "name": "stdout",
     "output_type": "stream",
     "text": [
      "PYRAZOLE_c0\n",
      "CPD-670_c0\n",
      "23cgmp_c0\n",
      "23cgmp_c0\n"
     ]
    },
    {
     "data": {
      "text/plain": [
       "'23cgmp'"
      ]
     },
     "execution_count": 13,
     "metadata": {},
     "output_type": "execute_result"
    },
    {
     "name": "stdout",
     "output_type": "stream",
     "text": [
      "3gmp_c0\n",
      "3gmp_c0\n"
     ]
    },
    {
     "data": {
      "text/plain": [
       "'3gmp'"
      ]
     },
     "execution_count": 13,
     "metadata": {},
     "output_type": "execute_result"
    },
    {
     "name": "stdout",
     "output_type": "stream",
     "text": [
      "CPD-4210_c0\n",
      "CPD-669_c0\n",
      "MNXM8231_c0\n",
      "MNXM159891_c0\n",
      "fe3dcit_e0\n",
      "fe3dcit_e0\n"
     ]
    },
    {
     "data": {
      "text/plain": [
       "'fe3dcit'"
      ]
     },
     "execution_count": 13,
     "metadata": {},
     "output_type": "execute_result"
    },
    {
     "name": "stdout",
     "output_type": "stream",
     "text": [
      "fe3dcit_c0\n",
      "fe3dcit_c0\n"
     ]
    },
    {
     "data": {
      "text/plain": [
       "'fe3dcit'"
      ]
     },
     "execution_count": 13,
     "metadata": {},
     "output_type": "execute_result"
    },
    {
     "name": "stdout",
     "output_type": "stream",
     "text": [
      "mmet_c0\n",
      "mmet_c0\n"
     ]
    },
    {
     "data": {
      "text/plain": [
       "'mmet'"
      ]
     },
     "execution_count": 13,
     "metadata": {},
     "output_type": "execute_result"
    },
    {
     "name": "stdout",
     "output_type": "stream",
     "text": [
      "4abutn_c0\n",
      "4abutn_c0\n"
     ]
    },
    {
     "data": {
      "text/plain": [
       "'4abutn'"
      ]
     },
     "execution_count": 13,
     "metadata": {},
     "output_type": "execute_result"
    },
    {
     "name": "stdout",
     "output_type": "stream",
     "text": [
      "MNXM3274_c0\n",
      "cdpg_c0\n",
      "cdpg_c0\n"
     ]
    },
    {
     "data": {
      "text/plain": [
       "'cdpg'"
      ]
     },
     "execution_count": 13,
     "metadata": {},
     "output_type": "execute_result"
    },
    {
     "name": "stdout",
     "output_type": "stream",
     "text": [
      "no3_e0\n",
      "no3_e0\n"
     ]
    },
    {
     "data": {
      "text/plain": [
       "'no3'"
      ]
     },
     "execution_count": 13,
     "metadata": {},
     "output_type": "execute_result"
    },
    {
     "name": "stdout",
     "output_type": "stream",
     "text": [
      "CPD-13401_c0\n",
      "MNXM18772_c0\n",
      "hx2coa_c0\n",
      "hx2coa_c0\n"
     ]
    },
    {
     "data": {
      "text/plain": [
       "'hx2coa'"
      ]
     },
     "execution_count": 13,
     "metadata": {},
     "output_type": "execute_result"
    },
    {
     "name": "stdout",
     "output_type": "stream",
     "text": [
      "MNXM11326_c0\n",
      "CPD-3617_c0\n",
      "HYPOTAURINE_c0\n",
      "retinal_c0\n",
      "retinal_c0\n"
     ]
    },
    {
     "data": {
      "text/plain": [
       "'retinal'"
      ]
     },
     "execution_count": 13,
     "metadata": {},
     "output_type": "execute_result"
    },
    {
     "name": "stdout",
     "output_type": "stream",
     "text": [
      "dopa_c0\n",
      "dopa_c0\n"
     ]
    },
    {
     "data": {
      "text/plain": [
       "'dopa'"
      ]
     },
     "execution_count": 13,
     "metadata": {},
     "output_type": "execute_result"
    },
    {
     "name": "stdout",
     "output_type": "stream",
     "text": [
      "3php_c0\n",
      "3php_c0\n"
     ]
    },
    {
     "data": {
      "text/plain": [
       "'3php'"
      ]
     },
     "execution_count": 13,
     "metadata": {},
     "output_type": "execute_result"
    },
    {
     "name": "stdout",
     "output_type": "stream",
     "text": [
      "3hcinnm_c0\n",
      "3hcinnm_c0\n"
     ]
    },
    {
     "data": {
      "text/plain": [
       "'3hcinnm'"
      ]
     },
     "execution_count": 13,
     "metadata": {},
     "output_type": "execute_result"
    },
    {
     "name": "stdout",
     "output_type": "stream",
     "text": [
      "gal1p_c0\n",
      "gal1p_c0\n"
     ]
    },
    {
     "data": {
      "text/plain": [
       "'gal1p'"
      ]
     },
     "execution_count": 13,
     "metadata": {},
     "output_type": "execute_result"
    },
    {
     "name": "stdout",
     "output_type": "stream",
     "text": [
      "MNXM7294_c0\n",
      "CPD-540_c0\n",
      "glyc1p_c0\n",
      "glyc1p_c0\n"
     ]
    },
    {
     "data": {
      "text/plain": [
       "'glyc1p'"
      ]
     },
     "execution_count": 13,
     "metadata": {},
     "output_type": "execute_result"
    },
    {
     "name": "stdout",
     "output_type": "stream",
     "text": [
      "MNXM3907_c0\n",
      "MNXM4462_c0\n",
      "tre_e0\n",
      "tre_e0\n"
     ]
    },
    {
     "data": {
      "text/plain": [
       "'tre'"
      ]
     },
     "execution_count": 13,
     "metadata": {},
     "output_type": "execute_result"
    },
    {
     "name": "stdout",
     "output_type": "stream",
     "text": [
      "MNXM6494_c0\n",
      "f26bp_c0\n",
      "f26bp_c0\n"
     ]
    },
    {
     "data": {
      "text/plain": [
       "'f26bp'"
      ]
     },
     "execution_count": 13,
     "metadata": {},
     "output_type": "execute_result"
    },
    {
     "name": "stdout",
     "output_type": "stream",
     "text": [
      "CPD-4201_c0\n",
      "CPD-882_c0\n",
      "CPD-11466_c0\n",
      "CPD-17308_c0\n",
      "tpalm2eACP_c0\n",
      "tpalm2eACP_c0\n"
     ]
    },
    {
     "data": {
      "text/plain": [
       "'tpalm2eACP'"
      ]
     },
     "execution_count": 13,
     "metadata": {},
     "output_type": "execute_result"
    },
    {
     "name": "stdout",
     "output_type": "stream",
     "text": [
      "rib__D_e0\n",
      "rib__D_e0\n"
     ]
    },
    {
     "data": {
      "text/plain": [
       "'rib__D'"
      ]
     },
     "execution_count": 13,
     "metadata": {},
     "output_type": "execute_result"
    },
    {
     "name": "stdout",
     "output_type": "stream",
     "text": [
      "CPD-9925_c0\n",
      "btnso_c0\n",
      "btnso_c0\n"
     ]
    },
    {
     "data": {
      "text/plain": [
       "'btnso'"
      ]
     },
     "execution_count": 13,
     "metadata": {},
     "output_type": "execute_result"
    },
    {
     "name": "stdout",
     "output_type": "stream",
     "text": [
      "MNXM6074_c0\n",
      "MNXM3835_c0\n",
      "hxan_e0\n",
      "hxan_e0\n"
     ]
    },
    {
     "data": {
      "text/plain": [
       "'hxan'"
      ]
     },
     "execution_count": 13,
     "metadata": {},
     "output_type": "execute_result"
    },
    {
     "name": "stdout",
     "output_type": "stream",
     "text": [
      "CPD-12702_c0\n",
      "VICIANOSE_c0\n",
      "R-VICIANIN_c0\n",
      "S-METHYL-3-PHOSPHO-1-THIO-D-GLYCERATE_c0\n",
      "S-METHYL-1-THIO-D-GLYCERATE_c0\n",
      "CPD-306_c0\n",
      "gly_pro__L_e0\n",
      "gly_pro__L_e0\n"
     ]
    },
    {
     "data": {
      "text/plain": [
       "'gly_pro__L'"
      ]
     },
     "execution_count": 13,
     "metadata": {},
     "output_type": "execute_result"
    },
    {
     "name": "stdout",
     "output_type": "stream",
     "text": [
      "MNXM147672_c0\n",
      "pant__R_c0\n",
      "pant__R_c0\n"
     ]
    },
    {
     "data": {
      "text/plain": [
       "'pant__R'"
      ]
     },
     "execution_count": 13,
     "metadata": {},
     "output_type": "execute_result"
    },
    {
     "name": "stdout",
     "output_type": "stream",
     "text": [
      "2dhp_c0\n",
      "2dhp_c0\n"
     ]
    },
    {
     "data": {
      "text/plain": [
       "'2dhp'"
      ]
     },
     "execution_count": 13,
     "metadata": {},
     "output_type": "execute_result"
    },
    {
     "name": "stdout",
     "output_type": "stream",
     "text": [
      "acon_C_c0\n",
      "acon_C_c0\n"
     ]
    },
    {
     "data": {
      "text/plain": [
       "'acon_C'"
      ]
     },
     "execution_count": 13,
     "metadata": {},
     "output_type": "execute_result"
    },
    {
     "name": "stdout",
     "output_type": "stream",
     "text": [
      "2-Acylglycero-Phosphocholines_c0\n",
      "gam1p_c0\n",
      "gam1p_c0\n"
     ]
    },
    {
     "data": {
      "text/plain": [
       "'gam1p'"
      ]
     },
     "execution_count": 13,
     "metadata": {},
     "output_type": "execute_result"
    },
    {
     "name": "stdout",
     "output_type": "stream",
     "text": [
      "dmbzid_c0\n",
      "dmbzid_c0\n"
     ]
    },
    {
     "data": {
      "text/plain": [
       "'dmbzid'"
      ]
     },
     "execution_count": 13,
     "metadata": {},
     "output_type": "execute_result"
    },
    {
     "name": "stdout",
     "output_type": "stream",
     "text": [
      "MNXM5933_c0\n",
      "MNXM9122_c0\n",
      "MNXM3272_c0\n",
      "MNXM7231_c0\n",
      "sheme_c0\n",
      "sheme_c0\n"
     ]
    },
    {
     "data": {
      "text/plain": [
       "'sheme'"
      ]
     },
     "execution_count": 13,
     "metadata": {},
     "output_type": "execute_result"
    },
    {
     "name": "stdout",
     "output_type": "stream",
     "text": [
      "scl_c0\n",
      "whole annotation: ['scl', 'srch']\n",
      "scl_c0\n"
     ]
    },
    {
     "data": {
      "text/plain": [
       "['scl', 'srch']"
      ]
     },
     "execution_count": 13,
     "metadata": {},
     "output_type": "execute_result"
    },
    {
     "name": "stdout",
     "output_type": "stream",
     "text": [
      "CPD-322_c0\n",
      "2aobut_c0\n",
      "2aobut_c0\n"
     ]
    },
    {
     "data": {
      "text/plain": [
       "'2aobut'"
      ]
     },
     "execution_count": 13,
     "metadata": {},
     "output_type": "execute_result"
    },
    {
     "name": "stdout",
     "output_type": "stream",
     "text": [
      "Alpha-D-aldose-1-phosphates_c0\n",
      "ADP-Aldoses_c0\n",
      "N2ACETYL-ALPHA-NP_c0\n",
      "N-ACETYL-AAA-SEMIALDEHYDE_c0\n",
      "stchs_c0\n",
      "whole annotation: ['stchs', 'stys']\n",
      "stchs_c0\n"
     ]
    },
    {
     "data": {
      "text/plain": [
       "['stchs', 'stys']"
      ]
     },
     "execution_count": 13,
     "metadata": {},
     "output_type": "execute_result"
    },
    {
     "name": "stdout",
     "output_type": "stream",
     "text": [
      "CPD-1131_c0\n",
      "PHTHALATE_c0\n",
      "ser__D_c0\n",
      "ser__D_c0\n"
     ]
    },
    {
     "data": {
      "text/plain": [
       "'ser__D'"
      ]
     },
     "execution_count": 13,
     "metadata": {},
     "output_type": "execute_result"
    },
    {
     "name": "stdout",
     "output_type": "stream",
     "text": [
      "mnl_c0\n",
      "mnl_c0\n"
     ]
    },
    {
     "data": {
      "text/plain": [
       "'mnl'"
      ]
     },
     "execution_count": 13,
     "metadata": {},
     "output_type": "execute_result"
    },
    {
     "name": "stdout",
     "output_type": "stream",
     "text": [
      "3hmp_c0\n",
      "3hmp_c0\n"
     ]
    },
    {
     "data": {
      "text/plain": [
       "'3hmp'"
      ]
     },
     "execution_count": 13,
     "metadata": {},
     "output_type": "execute_result"
    },
    {
     "name": "stdout",
     "output_type": "stream",
     "text": [
      "MNXM92580_c0\n",
      "MNXM146608_c0\n",
      "6tins5mp_c0\n",
      "6tins5mp_c0\n"
     ]
    },
    {
     "data": {
      "text/plain": [
       "'6tins5mp'"
      ]
     },
     "execution_count": 13,
     "metadata": {},
     "output_type": "execute_result"
    },
    {
     "name": "stdout",
     "output_type": "stream",
     "text": [
      "6txan5mp_c0\n",
      "6txan5mp_c0\n"
     ]
    },
    {
     "data": {
      "text/plain": [
       "'6txan5mp'"
      ]
     },
     "execution_count": 13,
     "metadata": {},
     "output_type": "execute_result"
    },
    {
     "name": "stdout",
     "output_type": "stream",
     "text": [
      "dtdprmn_c0\n",
      "dtdprmn_c0\n"
     ]
    },
    {
     "data": {
      "text/plain": [
       "'dtdprmn'"
      ]
     },
     "execution_count": 13,
     "metadata": {},
     "output_type": "execute_result"
    },
    {
     "name": "stdout",
     "output_type": "stream",
     "text": [
      "MNXM94421_c0\n",
      "MNXM8003_c0\n",
      "CPD-8764_c0\n",
      "CPD-10280_c0\n",
      "TETRACOSANOATE_c0\n",
      "MNXM6122_c0\n",
      "CPD-6061_c0\n",
      "MNXM6887_c0\n",
      "MNXM6888_c0\n",
      "MNXM147678_c0\n",
      "malthx_e0\n",
      "malthx_e0\n"
     ]
    },
    {
     "data": {
      "text/plain": [
       "'malthx'"
      ]
     },
     "execution_count": 13,
     "metadata": {},
     "output_type": "execute_result"
    },
    {
     "name": "stdout",
     "output_type": "stream",
     "text": [
      "MNXM4550_c0\n",
      "MNXM4549_c0\n",
      "MNXM5793_c0\n",
      "MNXM8765_c0\n",
      "dkdi_c0\n",
      "dkdi_c0\n"
     ]
    },
    {
     "data": {
      "text/plain": [
       "'dkdi'"
      ]
     },
     "execution_count": 13,
     "metadata": {},
     "output_type": "execute_result"
    },
    {
     "name": "stdout",
     "output_type": "stream",
     "text": [
      "2tdec7eg3p_c0\n",
      "2tdec7eg3p_c0\n"
     ]
    },
    {
     "data": {
      "text/plain": [
       "'2tdec7eg3p'"
      ]
     },
     "execution_count": 13,
     "metadata": {},
     "output_type": "execute_result"
    },
    {
     "name": "stdout",
     "output_type": "stream",
     "text": [
      "GALACTOSYLCERAMIDE-SULFATE_c0\n",
      "allphn_c0\n",
      "allphn_c0\n"
     ]
    },
    {
     "data": {
      "text/plain": [
       "'allphn'"
      ]
     },
     "execution_count": 13,
     "metadata": {},
     "output_type": "execute_result"
    },
    {
     "name": "stdout",
     "output_type": "stream",
     "text": [
      "pre8_c0\n",
      "pre8_c0\n"
     ]
    },
    {
     "data": {
      "text/plain": [
       "'pre8'"
      ]
     },
     "execution_count": 13,
     "metadata": {},
     "output_type": "execute_result"
    },
    {
     "name": "stdout",
     "output_type": "stream",
     "text": [
      "hgbyr_c0\n",
      "hgbyr_c0\n"
     ]
    },
    {
     "data": {
      "text/plain": [
       "'hgbyr'"
      ]
     },
     "execution_count": 13,
     "metadata": {},
     "output_type": "execute_result"
    },
    {
     "name": "stdout",
     "output_type": "stream",
     "text": [
      "mbdg_c0\n",
      "mbdg_c0\n"
     ]
    },
    {
     "data": {
      "text/plain": [
       "'mbdg'"
      ]
     },
     "execution_count": 13,
     "metadata": {},
     "output_type": "execute_result"
    },
    {
     "name": "stdout",
     "output_type": "stream",
     "text": [
      "gly_leu__L_e0\n",
      "whole annotation: ['gly_leu__L', 'glyleu']\n",
      "gly_leu__L_e0\n"
     ]
    },
    {
     "data": {
      "text/plain": [
       "['gly_leu__L', 'glyleu']"
      ]
     },
     "execution_count": 13,
     "metadata": {},
     "output_type": "execute_result"
    },
    {
     "name": "stdout",
     "output_type": "stream",
     "text": [
      "cynt_e0\n",
      "cynt_e0\n"
     ]
    },
    {
     "data": {
      "text/plain": [
       "'cynt'"
      ]
     },
     "execution_count": 13,
     "metadata": {},
     "output_type": "execute_result"
    },
    {
     "name": "stdout",
     "output_type": "stream",
     "text": [
      "tyr__L_e0\n",
      "tyr__L_e0\n"
     ]
    },
    {
     "data": {
      "text/plain": [
       "'tyr__L'"
      ]
     },
     "execution_count": 13,
     "metadata": {},
     "output_type": "execute_result"
    },
    {
     "name": "stdout",
     "output_type": "stream",
     "text": [
      "MNXM147349_c0\n",
      "dhf_c0\n",
      "dhf_c0\n"
     ]
    },
    {
     "data": {
      "text/plain": [
       "'dhf'"
      ]
     },
     "execution_count": 13,
     "metadata": {},
     "output_type": "execute_result"
    },
    {
     "name": "stdout",
     "output_type": "stream",
     "text": [
      "fol_c0\n",
      "fol_c0\n"
     ]
    },
    {
     "data": {
      "text/plain": [
       "'fol'"
      ]
     },
     "execution_count": 13,
     "metadata": {},
     "output_type": "execute_result"
    },
    {
     "name": "stdout",
     "output_type": "stream",
     "text": [
      "MNXM12593_c0\n",
      "gullac_c0\n",
      "gullac_c0\n"
     ]
    },
    {
     "data": {
      "text/plain": [
       "'gullac'"
      ]
     },
     "execution_count": 13,
     "metadata": {},
     "output_type": "execute_result"
    },
    {
     "name": "stdout",
     "output_type": "stream",
     "text": [
      "guln__L_c0\n",
      "guln__L_c0\n"
     ]
    },
    {
     "data": {
      "text/plain": [
       "'guln__L'"
      ]
     },
     "execution_count": 13,
     "metadata": {},
     "output_type": "execute_result"
    },
    {
     "name": "stdout",
     "output_type": "stream",
     "text": [
      "CPD-574_c0\n",
      "rmn_c0\n",
      "rmn_c0\n"
     ]
    },
    {
     "data": {
      "text/plain": [
       "'rmn'"
      ]
     },
     "execution_count": 13,
     "metadata": {},
     "output_type": "execute_result"
    },
    {
     "name": "stdout",
     "output_type": "stream",
     "text": [
      "CPD-563_c0\n",
      "met_L_ala__L_c0\n",
      "met_L_ala__L_c0\n"
     ]
    },
    {
     "data": {
      "text/plain": [
       "'met_L_ala__L'"
      ]
     },
     "execution_count": 13,
     "metadata": {},
     "output_type": "execute_result"
    },
    {
     "name": "stdout",
     "output_type": "stream",
     "text": [
      "2ohph_c0\n",
      "2ohph_c0\n"
     ]
    },
    {
     "data": {
      "text/plain": [
       "'2ohph'"
      ]
     },
     "execution_count": 13,
     "metadata": {},
     "output_type": "execute_result"
    },
    {
     "name": "stdout",
     "output_type": "stream",
     "text": [
      "5flura_c0\n",
      "5flura_c0\n"
     ]
    },
    {
     "data": {
      "text/plain": [
       "'5flura'"
      ]
     },
     "execution_count": 13,
     "metadata": {},
     "output_type": "execute_result"
    },
    {
     "name": "stdout",
     "output_type": "stream",
     "text": [
      "MNXM10367_c0\n",
      "k_c0\n",
      "k_c0\n"
     ]
    },
    {
     "data": {
      "text/plain": [
       "'k'"
      ]
     },
     "execution_count": 13,
     "metadata": {},
     "output_type": "execute_result"
    },
    {
     "name": "stdout",
     "output_type": "stream",
     "text": [
      "k_e0\n",
      "k_e0\n"
     ]
    },
    {
     "data": {
      "text/plain": [
       "'k'"
      ]
     },
     "execution_count": 13,
     "metadata": {},
     "output_type": "execute_result"
    },
    {
     "name": "stdout",
     "output_type": "stream",
     "text": [
      "DIOXOPIPERAZINE_c0\n",
      "glygly_c0\n",
      "glygly_c0\n"
     ]
    },
    {
     "data": {
      "text/plain": [
       "'glygly'"
      ]
     },
     "execution_count": 13,
     "metadata": {},
     "output_type": "execute_result"
    },
    {
     "name": "stdout",
     "output_type": "stream",
     "text": [
      "MNXM11926_c0\n",
      "GDP-D-GLUCOSE_c0\n",
      "GLYCODEOXYCHOLIC_ACID_c0\n",
      "MNXM6115_c0\n",
      "MNXM6908_c0\n",
      "2-CL-MUCONATE_c0\n",
      "4-CARBOXYMETHYLENEBUT-2-EN-4-OLIDE_c0\n",
      "o2_e0\n",
      "o2_e0\n"
     ]
    },
    {
     "data": {
      "text/plain": [
       "'o2'"
      ]
     },
     "execution_count": 13,
     "metadata": {},
     "output_type": "execute_result"
    },
    {
     "name": "stdout",
     "output_type": "stream",
     "text": [
      "dtpcudcpp_c0\n",
      "dtpcudcpp_c0\n"
     ]
    },
    {
     "data": {
      "text/plain": [
       "'dtpcudcpp'"
      ]
     },
     "execution_count": 13,
     "metadata": {},
     "output_type": "execute_result"
    },
    {
     "name": "stdout",
     "output_type": "stream",
     "text": [
      "D-GALACTONO-1-4-LACTONE_c0\n",
      "galctn__D_c0\n",
      "galctn__D_c0\n"
     ]
    },
    {
     "data": {
      "text/plain": [
       "'galctn__D'"
      ]
     },
     "execution_count": 13,
     "metadata": {},
     "output_type": "execute_result"
    },
    {
     "name": "stdout",
     "output_type": "stream",
     "text": [
      "CPD-17105_e0\n",
      "CPD-17105_c0\n",
      "CPD-399_c0\n",
      "CPD-1110_c0\n",
      "uaagtmda_c0\n",
      "uaagtmda_c0\n"
     ]
    },
    {
     "data": {
      "text/plain": [
       "'uaagtmda'"
      ]
     },
     "execution_count": 13,
     "metadata": {},
     "output_type": "execute_result"
    },
    {
     "name": "stdout",
     "output_type": "stream",
     "text": [
      "chol_e0\n",
      "chol_e0\n"
     ]
    },
    {
     "data": {
      "text/plain": [
       "'chol'"
      ]
     },
     "execution_count": 13,
     "metadata": {},
     "output_type": "execute_result"
    },
    {
     "name": "stdout",
     "output_type": "stream",
     "text": [
      "3hpppn_c0\n",
      "3hpppn_c0\n"
     ]
    },
    {
     "data": {
      "text/plain": [
       "'3hpppn'"
      ]
     },
     "execution_count": 13,
     "metadata": {},
     "output_type": "execute_result"
    },
    {
     "name": "stdout",
     "output_type": "stream",
     "text": [
      "5-HYDROXY-TRYPTOPHAN_c0\n",
      "srtn_c0\n",
      "srtn_c0\n"
     ]
    },
    {
     "data": {
      "text/plain": [
       "'srtn'"
      ]
     },
     "execution_count": 13,
     "metadata": {},
     "output_type": "execute_result"
    },
    {
     "name": "stdout",
     "output_type": "stream",
     "text": [
      "pphos_c0\n",
      "pphos_c0\n"
     ]
    },
    {
     "data": {
      "text/plain": [
       "'pphos'"
      ]
     },
     "execution_count": 13,
     "metadata": {},
     "output_type": "execute_result"
    },
    {
     "name": "stdout",
     "output_type": "stream",
     "text": [
      "4mbzald_c0\n",
      "4mbzald_c0\n"
     ]
    },
    {
     "data": {
      "text/plain": [
       "'4mbzald'"
      ]
     },
     "execution_count": 13,
     "metadata": {},
     "output_type": "execute_result"
    },
    {
     "name": "stdout",
     "output_type": "stream",
     "text": [
      "p_tol_c0\n",
      "p_tol_c0\n"
     ]
    },
    {
     "data": {
      "text/plain": [
       "'p_tol'"
      ]
     },
     "execution_count": 13,
     "metadata": {},
     "output_type": "execute_result"
    },
    {
     "name": "stdout",
     "output_type": "stream",
     "text": [
      "MNXM162770_c0\n",
      "ugmda_c0\n",
      "ugmda_c0\n"
     ]
    },
    {
     "data": {
      "text/plain": [
       "'ugmda'"
      ]
     },
     "execution_count": 13,
     "metadata": {},
     "output_type": "execute_result"
    },
    {
     "name": "stdout",
     "output_type": "stream",
     "text": [
      "CPD-11700_c0\n",
      "CPD-4203_c0\n",
      "CPD-10636_c0\n",
      "MNXM5258_c0\n",
      "MNXM7630_c0\n",
      "2dh3dgal6p_c0\n",
      "2dh3dgal6p_c0\n"
     ]
    },
    {
     "data": {
      "text/plain": [
       "'2dh3dgal6p'"
      ]
     },
     "execution_count": 13,
     "metadata": {},
     "output_type": "execute_result"
    },
    {
     "name": "stdout",
     "output_type": "stream",
     "text": [
      "sucbz_c0\n",
      "sucbz_c0\n"
     ]
    },
    {
     "data": {
      "text/plain": [
       "'sucbz'"
      ]
     },
     "execution_count": 13,
     "metadata": {},
     "output_type": "execute_result"
    },
    {
     "name": "stdout",
     "output_type": "stream",
     "text": [
      "CPD-7986_c0\n",
      "CPD-501_c0\n",
      "gly_glu__L_e0\n",
      "gly_glu__L_e0\n"
     ]
    },
    {
     "data": {
      "text/plain": [
       "'gly_glu__L'"
      ]
     },
     "execution_count": 13,
     "metadata": {},
     "output_type": "execute_result"
    },
    {
     "name": "stdout",
     "output_type": "stream",
     "text": [
      "MNXM146495_c0\n",
      "val__L_e0\n",
      "val__L_e0\n"
     ]
    },
    {
     "data": {
      "text/plain": [
       "'val__L'"
      ]
     },
     "execution_count": 13,
     "metadata": {},
     "output_type": "execute_result"
    },
    {
     "name": "stdout",
     "output_type": "stream",
     "text": [
      "ddcacoa_c0\n",
      "ddcacoa_c0\n"
     ]
    },
    {
     "data": {
      "text/plain": [
       "'ddcacoa'"
      ]
     },
     "execution_count": 13,
     "metadata": {},
     "output_type": "execute_result"
    },
    {
     "name": "stdout",
     "output_type": "stream",
     "text": [
      "MNXM11217_c0\n",
      "ala_L_gln__L_e0\n",
      "ala_L_gln__L_e0\n"
     ]
    },
    {
     "data": {
      "text/plain": [
       "'ala_L_gln__L'"
      ]
     },
     "execution_count": 13,
     "metadata": {},
     "output_type": "execute_result"
    },
    {
     "name": "stdout",
     "output_type": "stream",
     "text": [
      "didp_c0\n",
      "didp_c0\n"
     ]
    },
    {
     "data": {
      "text/plain": [
       "'didp'"
      ]
     },
     "execution_count": 13,
     "metadata": {},
     "output_type": "execute_result"
    },
    {
     "name": "stdout",
     "output_type": "stream",
     "text": [
      "ditp_c0\n",
      "ditp_c0\n"
     ]
    },
    {
     "data": {
      "text/plain": [
       "'ditp'"
      ]
     },
     "execution_count": 13,
     "metadata": {},
     "output_type": "execute_result"
    },
    {
     "name": "stdout",
     "output_type": "stream",
     "text": [
      "MNXM1225_c0\n",
      "6E8Z11Z14Z-5S-5-HYDROPEROXYCOSA-6_c0\n",
      "C04805_c0\n",
      "C04805_c0\n"
     ]
    },
    {
     "data": {
      "text/plain": [
       "'C04805'"
      ]
     },
     "execution_count": 13,
     "metadata": {},
     "output_type": "execute_result"
    },
    {
     "name": "stdout",
     "output_type": "stream",
     "text": [
      "ura_e0\n",
      "ura_e0\n"
     ]
    },
    {
     "data": {
      "text/plain": [
       "'ura'"
      ]
     },
     "execution_count": 13,
     "metadata": {},
     "output_type": "execute_result"
    },
    {
     "name": "stdout",
     "output_type": "stream",
     "text": [
      "aproa_c0\n",
      "aproa_c0\n"
     ]
    },
    {
     "data": {
      "text/plain": [
       "'aproa'"
      ]
     },
     "execution_count": 13,
     "metadata": {},
     "output_type": "execute_result"
    },
    {
     "name": "stdout",
     "output_type": "stream",
     "text": [
      "11-DEOXYCORTICOSTERONE_c0\n",
      "20-HYDROXY-3-OXOPREGN-4-EN-21-AL_c0\n",
      "MNXM92585_c0\n",
      "MNXM93816_c0\n",
      "NARINGENIN-CMPD_c0\n",
      "CPD-9440_c0\n",
      "retpalm_11_cis_c0\n",
      "retpalm_11_cis_c0\n"
     ]
    },
    {
     "data": {
      "text/plain": [
       "'retpalm_11_cis'"
      ]
     },
     "execution_count": 13,
     "metadata": {},
     "output_type": "execute_result"
    },
    {
     "name": "stdout",
     "output_type": "stream",
     "text": [
      "HC01104_c0\n",
      "HC01104_c0\n"
     ]
    },
    {
     "data": {
      "text/plain": [
       "'HC01104'"
      ]
     },
     "execution_count": 13,
     "metadata": {},
     "output_type": "execute_result"
    },
    {
     "name": "stdout",
     "output_type": "stream",
     "text": [
      "MNXM7305_c0\n",
      "met_L_ala__L_e0\n",
      "met_L_ala__L_e0\n"
     ]
    },
    {
     "data": {
      "text/plain": [
       "'met_L_ala__L'"
      ]
     },
     "execution_count": 13,
     "metadata": {},
     "output_type": "execute_result"
    },
    {
     "name": "stdout",
     "output_type": "stream",
     "text": [
      "phenol_c0\n",
      "phenol_c0\n"
     ]
    },
    {
     "data": {
      "text/plain": [
       "'phenol'"
      ]
     },
     "execution_count": 13,
     "metadata": {},
     "output_type": "execute_result"
    },
    {
     "name": "stdout",
     "output_type": "stream",
     "text": [
      "tchola_c0\n",
      "tchola_c0\n"
     ]
    },
    {
     "data": {
      "text/plain": [
       "'tchola'"
      ]
     },
     "execution_count": 13,
     "metadata": {},
     "output_type": "execute_result"
    },
    {
     "name": "stdout",
     "output_type": "stream",
     "text": [
      "gly_asn__L_e0\n",
      "gly_asn__L_e0\n"
     ]
    },
    {
     "data": {
      "text/plain": [
       "'gly_asn__L'"
      ]
     },
     "execution_count": 13,
     "metadata": {},
     "output_type": "execute_result"
    },
    {
     "name": "stdout",
     "output_type": "stream",
     "text": [
      "gly_asn__L_c0\n",
      "gly_asn__L_c0\n"
     ]
    },
    {
     "data": {
      "text/plain": [
       "'gly_asn__L'"
      ]
     },
     "execution_count": 13,
     "metadata": {},
     "output_type": "execute_result"
    },
    {
     "name": "stdout",
     "output_type": "stream",
     "text": [
      "MNXM10446_c0\n",
      "mql8_e0\n",
      "mql8_e0\n"
     ]
    },
    {
     "data": {
      "text/plain": [
       "'mql8'"
      ]
     },
     "execution_count": 13,
     "metadata": {},
     "output_type": "execute_result"
    },
    {
     "name": "stdout",
     "output_type": "stream",
     "text": [
      "mqn8_e0\n",
      "mqn8_e0\n"
     ]
    },
    {
     "data": {
      "text/plain": [
       "'mqn8'"
      ]
     },
     "execution_count": 13,
     "metadata": {},
     "output_type": "execute_result"
    },
    {
     "name": "stdout",
     "output_type": "stream",
     "text": [
      "CPD-9151_c0\n",
      "ocdca_e0\n",
      "ocdca_e0\n"
     ]
    },
    {
     "data": {
      "text/plain": [
       "'ocdca'"
      ]
     },
     "execution_count": 13,
     "metadata": {},
     "output_type": "execute_result"
    },
    {
     "name": "stdout",
     "output_type": "stream",
     "text": [
      "S-PRENYL-L-CYSTEINE_c0\n",
      "PRENAL_c0\n",
      "MNXM10217_c0\n",
      "MNXM6879_c0\n",
      "MNXM8219_c0\n",
      "56dthm_c0\n",
      "56dthm_c0\n"
     ]
    },
    {
     "data": {
      "text/plain": [
       "'56dthm'"
      ]
     },
     "execution_count": 13,
     "metadata": {},
     "output_type": "execute_result"
    },
    {
     "name": "stdout",
     "output_type": "stream",
     "text": [
      "3uib_c0\n",
      "3uib_c0\n"
     ]
    },
    {
     "data": {
      "text/plain": [
       "'3uib'"
      ]
     },
     "execution_count": 13,
     "metadata": {},
     "output_type": "execute_result"
    },
    {
     "name": "stdout",
     "output_type": "stream",
     "text": [
      "MNXM6920_c0\n",
      "MNXM162552_c0\n",
      "34dhoxpeg_c0\n",
      "34dhoxpeg_c0\n"
     ]
    },
    {
     "data": {
      "text/plain": [
       "'34dhoxpeg'"
      ]
     },
     "execution_count": 13,
     "metadata": {},
     "output_type": "execute_result"
    },
    {
     "name": "stdout",
     "output_type": "stream",
     "text": [
      "34dhmald_c0\n",
      "34dhmald_c0\n"
     ]
    },
    {
     "data": {
      "text/plain": [
       "'34dhmald'"
      ]
     },
     "execution_count": 13,
     "metadata": {},
     "output_type": "execute_result"
    },
    {
     "name": "stdout",
     "output_type": "stream",
     "text": [
      "CPD-12646_c0\n",
      "CPD-17188_c0\n",
      "MNXM5827_c0\n",
      "MNXM8894_c0\n",
      "protdt_c0\n",
      "protdt_c0\n"
     ]
    },
    {
     "data": {
      "text/plain": [
       "'protdt'"
      ]
     },
     "execution_count": 13,
     "metadata": {},
     "output_type": "execute_result"
    },
    {
     "name": "stdout",
     "output_type": "stream",
     "text": [
      "protds_c0\n",
      "protds_c0\n"
     ]
    },
    {
     "data": {
      "text/plain": [
       "'protds'"
      ]
     },
     "execution_count": 13,
     "metadata": {},
     "output_type": "execute_result"
    },
    {
     "name": "stdout",
     "output_type": "stream",
     "text": [
      "CPD-13401_e0\n",
      "man1p_c0\n",
      "man1p_c0\n"
     ]
    },
    {
     "data": {
      "text/plain": [
       "'man1p'"
      ]
     },
     "execution_count": 13,
     "metadata": {},
     "output_type": "execute_result"
    },
    {
     "name": "stdout",
     "output_type": "stream",
     "text": [
      "Ncbmpts_c0\n",
      "Ncbmpts_c0\n"
     ]
    },
    {
     "data": {
      "text/plain": [
       "'Ncbmpts'"
      ]
     },
     "execution_count": 13,
     "metadata": {},
     "output_type": "execute_result"
    },
    {
     "name": "stdout",
     "output_type": "stream",
     "text": [
      "MNXM6176_c0\n",
      "MNXM6608_c0\n",
      "adphep_DD_c0\n",
      "adphep_DD_c0\n"
     ]
    },
    {
     "data": {
      "text/plain": [
       "'adphep_DD'"
      ]
     },
     "execution_count": 13,
     "metadata": {},
     "output_type": "execute_result"
    },
    {
     "name": "stdout",
     "output_type": "stream",
     "text": [
      "CPD-8678_c0\n",
      "CPD-8682_c0\n",
      "glcur_c0\n",
      "glcur_c0\n"
     ]
    },
    {
     "data": {
      "text/plain": [
       "'glcur'"
      ]
     },
     "execution_count": 13,
     "metadata": {},
     "output_type": "execute_result"
    },
    {
     "name": "stdout",
     "output_type": "stream",
     "text": [
      "fruur_c0\n",
      "fruur_c0\n"
     ]
    },
    {
     "data": {
      "text/plain": [
       "'fruur'"
      ]
     },
     "execution_count": 13,
     "metadata": {},
     "output_type": "execute_result"
    },
    {
     "name": "stdout",
     "output_type": "stream",
     "text": [
      "MNXM7961_c0\n",
      "sql_c0\n",
      "sql_c0\n"
     ]
    },
    {
     "data": {
      "text/plain": [
       "'sql'"
      ]
     },
     "execution_count": 13,
     "metadata": {},
     "output_type": "execute_result"
    },
    {
     "name": "stdout",
     "output_type": "stream",
     "text": [
      "D-3-HYDROXYACYL-COA_c0\n",
      "CPD-472_c0\n",
      "CPD-13777_c0\n",
      "5-UREIDO-4-IMIDAZOLE_CARBOXYLATE_c0\n",
      "4-AMINO-5-IMIDAZOLE_CARBOXYLATE_c0\n",
      "MNXM9653_c0\n",
      "CPD-586_c0\n",
      "pta_c0\n",
      "pta_c0\n"
     ]
    },
    {
     "data": {
      "text/plain": [
       "'pta'"
      ]
     },
     "execution_count": 13,
     "metadata": {},
     "output_type": "execute_result"
    },
    {
     "name": "stdout",
     "output_type": "stream",
     "text": [
      "thm_e0\n",
      "thm_e0\n"
     ]
    },
    {
     "data": {
      "text/plain": [
       "'thm'"
      ]
     },
     "execution_count": 13,
     "metadata": {},
     "output_type": "execute_result"
    },
    {
     "name": "stdout",
     "output_type": "stream",
     "text": [
      "MNXM9685_c0\n",
      "MNXM9683_c0\n",
      "lgt__S_c0\n",
      "lgt__S_c0\n"
     ]
    },
    {
     "data": {
      "text/plain": [
       "'lgt__S'"
      ]
     },
     "execution_count": 13,
     "metadata": {},
     "output_type": "execute_result"
    },
    {
     "name": "stdout",
     "output_type": "stream",
     "text": [
      "5aprbu_c0\n",
      "5aprbu_c0\n"
     ]
    },
    {
     "data": {
      "text/plain": [
       "'5aprbu'"
      ]
     },
     "execution_count": 13,
     "metadata": {},
     "output_type": "execute_result"
    },
    {
     "name": "stdout",
     "output_type": "stream",
     "text": [
      "S-Alkyl-L-Cysteine-S-Oxides_c0\n",
      "2amac_c0\n",
      "2amac_c0\n"
     ]
    },
    {
     "data": {
      "text/plain": [
       "'2amac'"
      ]
     },
     "execution_count": 13,
     "metadata": {},
     "output_type": "execute_result"
    },
    {
     "name": "stdout",
     "output_type": "stream",
     "text": [
      "Alkyl-Sulfenates_c0\n",
      "3oxoadp_c0\n",
      "3oxoadp_c0\n"
     ]
    },
    {
     "data": {
      "text/plain": [
       "'3oxoadp'"
      ]
     },
     "execution_count": 13,
     "metadata": {},
     "output_type": "execute_result"
    },
    {
     "name": "stdout",
     "output_type": "stream",
     "text": [
      "CPD-10823_c0\n",
      "CPD-10824_c0\n",
      "MNXM5797_c0\n",
      "MNXM8777_c0\n",
      "Linalools_c0\n",
      "MNXM6771_c0\n",
      "MNXM6766_c0\n",
      "MNXM146499_c0\n",
      "MNXM162298_c0\n",
      "2-hydroxyacyl-glutathiones_c0\n",
      "2-Hydroxy-carboxylates_c0\n",
      "HOMO-CIT_c0\n",
      "inost_e0\n",
      "inost_e0\n"
     ]
    },
    {
     "data": {
      "text/plain": [
       "'inost'"
      ]
     },
     "execution_count": 13,
     "metadata": {},
     "output_type": "execute_result"
    },
    {
     "name": "stdout",
     "output_type": "stream",
     "text": [
      "MNXM2902_c0\n",
      "CPD-463_c0\n",
      "MNXM8023_c0\n",
      "gal_bD_c0\n",
      "gal_bD_c0\n"
     ]
    },
    {
     "data": {
      "text/plain": [
       "'gal_bD'"
      ]
     },
     "execution_count": 13,
     "metadata": {},
     "output_type": "execute_result"
    },
    {
     "name": "stdout",
     "output_type": "stream",
     "text": [
      "cpd06227_c0\n",
      "malthp_c0\n",
      "malthp_c0\n"
     ]
    },
    {
     "data": {
      "text/plain": [
       "'malthp'"
      ]
     },
     "execution_count": 13,
     "metadata": {},
     "output_type": "execute_result"
    },
    {
     "name": "stdout",
     "output_type": "stream",
     "text": [
      "co2_e0\n",
      "co2_e0\n"
     ]
    },
    {
     "data": {
      "text/plain": [
       "'co2'"
      ]
     },
     "execution_count": 13,
     "metadata": {},
     "output_type": "execute_result"
    },
    {
     "name": "stdout",
     "output_type": "stream",
     "text": [
      "MNXM8006_c0\n",
      "5forthf_c0\n",
      "5forthf_c0\n"
     ]
    },
    {
     "data": {
      "text/plain": [
       "'5forthf'"
      ]
     },
     "execution_count": 13,
     "metadata": {},
     "output_type": "execute_result"
    },
    {
     "name": "stdout",
     "output_type": "stream",
     "text": [
      "D-PROLINE_c0\n",
      "MNXM146746_c0\n",
      "3dsphgn_c0\n",
      "3dsphgn_c0\n"
     ]
    },
    {
     "data": {
      "text/plain": [
       "'3dsphgn'"
      ]
     },
     "execution_count": 13,
     "metadata": {},
     "output_type": "execute_result"
    },
    {
     "name": "stdout",
     "output_type": "stream",
     "text": [
      "2hb_c0\n",
      "whole annotation: ['2hb', '2hbut']\n",
      "2hb_c0\n"
     ]
    },
    {
     "data": {
      "text/plain": [
       "['2hb', '2hbut']"
      ]
     },
     "execution_count": 13,
     "metadata": {},
     "output_type": "execute_result"
    },
    {
     "name": "stdout",
     "output_type": "stream",
     "text": [
      "Aryl-Dialkyl-Phosphate_c0\n",
      "Dialkyl-phosphates_c0\n",
      "mnt_c0\n",
      "mnt_c0\n"
     ]
    },
    {
     "data": {
      "text/plain": [
       "'mnt'"
      ]
     },
     "execution_count": 13,
     "metadata": {},
     "output_type": "execute_result"
    },
    {
     "name": "stdout",
     "output_type": "stream",
     "text": [
      "mn2_c0\n",
      "mn2_c0\n"
     ]
    },
    {
     "data": {
      "text/plain": [
       "'mn2'"
      ]
     },
     "execution_count": 13,
     "metadata": {},
     "output_type": "execute_result"
    },
    {
     "name": "stdout",
     "output_type": "stream",
     "text": [
      "BIOMASS_c0\n",
      "colipa_c0\n",
      "colipa_c0\n"
     ]
    },
    {
     "data": {
      "text/plain": [
       "'colipa'"
      ]
     },
     "execution_count": 13,
     "metadata": {},
     "output_type": "execute_result"
    },
    {
     "name": "stdout",
     "output_type": "stream",
     "text": [
      "ca2_c0\n",
      "ca2_c0\n"
     ]
    },
    {
     "data": {
      "text/plain": [
       "'ca2'"
      ]
     },
     "execution_count": 13,
     "metadata": {},
     "output_type": "execute_result"
    },
    {
     "name": "stdout",
     "output_type": "stream",
     "text": [
      "kdolipid4_c0\n",
      "kdolipid4_c0\n"
     ]
    },
    {
     "data": {
      "text/plain": [
       "'kdolipid4'"
      ]
     },
     "execution_count": 13,
     "metadata": {},
     "output_type": "execute_result"
    },
    {
     "name": "stdout",
     "output_type": "stream",
     "text": [
      "MNXM8210_c0\n",
      "MNXM8176_c0\n",
      "cl_e0\n",
      "cl_e0\n"
     ]
    },
    {
     "data": {
      "text/plain": [
       "'cl'"
      ]
     },
     "execution_count": 13,
     "metadata": {},
     "output_type": "execute_result"
    },
    {
     "name": "stdout",
     "output_type": "stream",
     "text": [
      "MNXM8220_c0\n",
      "alaala_c0\n",
      "whole annotation: ['alaala', 'diala__L']\n",
      "alaala_c0\n"
     ]
    },
    {
     "data": {
      "text/plain": [
       "['alaala', 'diala__L']"
      ]
     },
     "execution_count": 13,
     "metadata": {},
     "output_type": "execute_result"
    },
    {
     "name": "stdout",
     "output_type": "stream",
     "text": [
      "MNXM92389_c0\n",
      "gicolipa_c0\n",
      "gicolipa_c0\n"
     ]
    },
    {
     "data": {
      "text/plain": [
       "'gicolipa'"
      ]
     },
     "execution_count": 13,
     "metadata": {},
     "output_type": "execute_result"
    },
    {
     "name": "stdout",
     "output_type": "stream",
     "text": [
      "ggagicolipa_c0\n",
      "ggagicolipa_c0\n"
     ]
    },
    {
     "data": {
      "text/plain": [
       "'ggagicolipa'"
      ]
     },
     "execution_count": 13,
     "metadata": {},
     "output_type": "execute_result"
    },
    {
     "name": "stdout",
     "output_type": "stream",
     "text": [
      "gggagicolipa_c0\n",
      "gggagicolipa_c0\n"
     ]
    },
    {
     "data": {
      "text/plain": [
       "'gggagicolipa'"
      ]
     },
     "execution_count": 13,
     "metadata": {},
     "output_type": "execute_result"
    },
    {
     "name": "stdout",
     "output_type": "stream",
     "text": [
      "MNXM8149_c0\n",
      "MNXM8024_c0\n",
      "gmhep7p_c0\n",
      "gmhep7p_c0\n"
     ]
    },
    {
     "data": {
      "text/plain": [
       "'gmhep7p'"
      ]
     },
     "execution_count": 13,
     "metadata": {},
     "output_type": "execute_result"
    },
    {
     "name": "stdout",
     "output_type": "stream",
     "text": [
      "MNXM8015_c0\n",
      "gagicolipa_c0\n",
      "gagicolipa_c0\n"
     ]
    },
    {
     "data": {
      "text/plain": [
       "'gagicolipa'"
      ]
     },
     "execution_count": 13,
     "metadata": {},
     "output_type": "execute_result"
    },
    {
     "name": "stdout",
     "output_type": "stream",
     "text": [
      "phhlipa_c0\n",
      "phhlipa_c0\n"
     ]
    },
    {
     "data": {
      "text/plain": [
       "'phhlipa'"
      ]
     },
     "execution_count": 13,
     "metadata": {},
     "output_type": "execute_result"
    },
    {
     "name": "stdout",
     "output_type": "stream",
     "text": [
      "hphhlipa_c0\n",
      "hphhlipa_c0\n"
     ]
    },
    {
     "data": {
      "text/plain": [
       "'hphhlipa'"
      ]
     },
     "execution_count": 13,
     "metadata": {},
     "output_type": "execute_result"
    },
    {
     "name": "stdout",
     "output_type": "stream",
     "text": [
      "phphhlipa_c0\n",
      "phphhlipa_c0\n"
     ]
    },
    {
     "data": {
      "text/plain": [
       "'phphhlipa'"
      ]
     },
     "execution_count": 13,
     "metadata": {},
     "output_type": "execute_result"
    },
    {
     "name": "stdout",
     "output_type": "stream",
     "text": [
      "MNXM8197_c0\n",
      "MNXM8027_c0\n",
      "ca2_e0\n",
      "ca2_e0\n"
     ]
    },
    {
     "data": {
      "text/plain": [
       "'ca2'"
      ]
     },
     "execution_count": 13,
     "metadata": {},
     "output_type": "execute_result"
    },
    {
     "name": "stdout",
     "output_type": "stream",
     "text": [
      "MNXM8011_c0\n",
      "MNXM8019_c0\n",
      "MNXM8004_c0\n",
      "kphphhlipa_c0\n",
      "kphphhlipa_c0\n"
     ]
    },
    {
     "data": {
      "text/plain": [
       "'kphphhlipa'"
      ]
     },
     "execution_count": 13,
     "metadata": {},
     "output_type": "execute_result"
    },
    {
     "name": "stdout",
     "output_type": "stream",
     "text": [
      "MNXM8226_c0\n",
      "mn2_e0\n",
      "mn2_e0\n"
     ]
    },
    {
     "data": {
      "text/plain": [
       "'mn2'"
      ]
     },
     "execution_count": 13,
     "metadata": {},
     "output_type": "execute_result"
    }
   ],
   "source": [
    "with_bigg=0\n",
    "for met in model_new.metabolites:\n",
    "    print(met.id)\n",
    "    split, compartment=met.id.rsplit(\"_\", 1)\n",
    "    if \"bigg.metabolite\" not in met.annotation.keys():\n",
    "        continue\n",
    "    if met.id in [\"cpd00261_c0\", \"cpd06227_c0\", \"cpd03572_c0\", \"cpd02446_c0\",\"cpd02572_c0\", \"cpd01466_c0\" ]:\n",
    "        pass\n",
    "    else: \n",
    "        with_bigg+=1\n",
    "        if type(met.annotation[\"bigg.metabolite\"]) == list:\n",
    "            print(\"whole annotation:\" ,met.annotation['bigg.metabolite'])\n",
    "            \n",
    "            met.id=met.annotation['bigg.metabolite'][0]+ '_' + compartment\n",
    "        else: \n",
    "            met.id=met.annotation['bigg.metabolite']+ '_' + compartment\n",
    "            \n",
    "            \n",
    "    #if met.id.startswith('cpd'):\n",
    "        \n",
    "        print(met.id)\n",
    "        met.annotation[\"bigg.metabolite\"]\n",
    "\n",
    "        \n",
    "        #model_new.repair()\n",
    "       # print(met.id)"
   ]
  },
  {
   "cell_type": "code",
   "execution_count": 9,
   "metadata": {},
   "outputs": [],
   "source": [
    "count = 0\n",
    "for met in model_new.metabolites:\n",
    "    if \"bigg.metabolite\"  in met.annotation.keys():\n",
    "        if type(met.annotation[\"bigg.metabolite\"]) == list:\n",
    "            count+=1"
   ]
  },
  {
   "cell_type": "code",
   "execution_count": 14,
   "metadata": {},
   "outputs": [
    {
     "data": {
      "text/plain": [
       "1842"
      ]
     },
     "execution_count": 14,
     "metadata": {},
     "output_type": "execute_result"
    },
    {
     "data": {
      "text/plain": [
       "1089"
      ]
     },
     "execution_count": 14,
     "metadata": {},
     "output_type": "execute_result"
    },
    {
     "data": {
      "text/plain": [
       "63"
      ]
     },
     "execution_count": 14,
     "metadata": {},
     "output_type": "execute_result"
    }
   ],
   "source": [
    "len(model_new.metabolites)\n",
    "with_bigg\n",
    "count"
   ]
  },
  {
   "cell_type": "markdown",
   "metadata": {},
   "source": [
    "### Save draft with mapped Bigg IDs"
   ]
  },
  {
   "cell_type": "code",
   "execution_count": null,
   "metadata": {},
   "outputs": [],
   "source": [
    "#write_sbml_model(model, \"/Users/lizrad/Dev/iVnat/iVnat.xml\")"
   ]
  }
 ],
 "metadata": {
  "kernelspec": {
   "display_name": "Python (vibrio)",
   "language": "python",
   "name": "vibrio"
  },
  "language_info": {
   "codemirror_mode": {
    "name": "ipython",
    "version": 3
   },
   "file_extension": ".py",
   "mimetype": "text/x-python",
   "name": "python",
   "nbconvert_exporter": "python",
   "pygments_lexer": "ipython3",
   "version": "3.6.6"
  }
 },
 "nbformat": 4,
 "nbformat_minor": 2
}
