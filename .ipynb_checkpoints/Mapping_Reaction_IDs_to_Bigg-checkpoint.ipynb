{
 "cells": [
  {
   "cell_type": "code",
   "execution_count": 1,
   "metadata": {},
   "outputs": [],
   "source": [
    "from pandas import read_csv, DataFrame\n",
    "import pandas as pd\n",
    "import os\n",
    "import re #Both patterns and strings to be searched can be Unicode strings as well as 8-bit strings.\n",
    "import math\n",
    "import cobra\n",
    "import cobra.test\n",
    "from __future__ import print_function\n",
    "from os.path import join\n",
    "from cobra.io import write_sbml_model"
   ]
  },
  {
   "cell_type": "code",
   "execution_count": 2,
   "metadata": {},
   "outputs": [],
   "source": [
    "from IPython.core.interactiveshell import InteractiveShell\n",
    "\n",
    "InteractiveShell.ast_node_interactivity = \"all\""
   ]
  },
  {
   "cell_type": "code",
   "execution_count": 3,
   "metadata": {},
   "outputs": [
    {
     "name": "stdout",
     "output_type": "stream",
     "text": [
      "files found: \n",
      "iVnat.xml, iVnat_mapped.xml\n"
     ]
    },
    {
     "data": {
      "text/html": [
       "\n",
       "        <table>\n",
       "            <tr>\n",
       "                <td><strong>Name</strong></td>\n",
       "                <td>GCF_001456255_1_rast_metabolic_model</td>\n",
       "            </tr><tr>\n",
       "                <td><strong>Memory address</strong></td>\n",
       "                <td>0x01152dec50</td>\n",
       "            </tr><tr>\n",
       "                <td><strong>Number of metabolites</strong></td>\n",
       "                <td>1842</td>\n",
       "            </tr><tr>\n",
       "                <td><strong>Number of reactions</strong></td>\n",
       "                <td>1906</td>\n",
       "            </tr><tr>\n",
       "                <td><strong>Objective expression</strong></td>\n",
       "                <td>-1.0*bio1_reverse_b18f7 + 1.0*bio1</td>\n",
       "            </tr><tr>\n",
       "                <td><strong>Compartments</strong></td>\n",
       "                <td>Cytosol_0, Extracellular_0</td>\n",
       "            </tr>\n",
       "          </table>"
      ],
      "text/plain": [
       "<Model GCF_001456255_1_rast_metabolic_model at 0x1152dec50>"
      ]
     },
     "execution_count": 3,
     "metadata": {},
     "output_type": "execute_result"
    }
   ],
   "source": [
    "data_dir = \"/Users/lizrad/Dev/iVnat\"\n",
    "print(\"files found: \")\n",
    "print(\", \".join(i for i in os.listdir(data_dir) if i.startswith(\"iVnat\")))\n",
    "model=cobra.io.read_sbml_model(join(data_dir, \"iVnat.xml\"))\n",
    "#model=cobra.io.read_legacy_sbml(\"C:\\\\Users\\Asus\\Documents\\Vibrio_project_literature\\GCF_001456255.1_rast_metabolic_model.SBML\\GCF_001456255.1_rast_metabolic_model.xml\")\n",
    "model"
   ]
  },
  {
   "cell_type": "code",
   "execution_count": null,
   "metadata": {},
   "outputs": [],
   "source": [
    "#skip\n",
    "#data_dir = \"/Users/lizrad/Dev/iVnat\"\n",
    "#print(\"files found: \")\n",
    "#print(\", \".join(i for i in os.listdir(data_dir) if i.startswith(\"iVnat\")))\n",
    "#model=cobra.io.read_sbml_model(join(data_dir, \"iVnat_mapped.xml\"))\n",
    "#model=cobra.io.read_legacy_sbml(\"C:\\\\Users\\Asus\\Documents\\Vibrio_project_literature\\GCF_001456255.1_rast_metabolic_model.SBML\\GCF_001456255.1_rast_metabolic_model.xml\")\n",
    "#model\n",
    "\n",
    "\n"
   ]
  },
  {
   "cell_type": "markdown",
   "metadata": {},
   "source": [
    "### Reading the reac_xref"
   ]
  },
  {
   "cell_type": "code",
   "execution_count": 4,
   "metadata": {
    "scrolled": true
   },
   "outputs": [
    {
     "data": {
      "text/html": [
       "<div>\n",
       "<style scoped>\n",
       "    .dataframe tbody tr th:only-of-type {\n",
       "        vertical-align: middle;\n",
       "    }\n",
       "\n",
       "    .dataframe tbody tr th {\n",
       "        vertical-align: top;\n",
       "    }\n",
       "\n",
       "    .dataframe thead th {\n",
       "        text-align: right;\n",
       "    }\n",
       "</style>\n",
       "<table border=\"1\" class=\"dataframe\">\n",
       "  <thead>\n",
       "    <tr style=\"text-align: right;\">\n",
       "      <th></th>\n",
       "      <th>XREF</th>\n",
       "      <th>XREF_ID</th>\n",
       "      <th>MNX_ID</th>\n",
       "    </tr>\n",
       "  </thead>\n",
       "  <tbody>\n",
       "    <tr>\n",
       "      <th>0</th>\n",
       "      <td>BIOMASS_EXT</td>\n",
       "      <td>MNXR94667</td>\n",
       "      <td>NaN</td>\n",
       "    </tr>\n",
       "    <tr>\n",
       "      <th>1</th>\n",
       "      <td>seed</td>\n",
       "      <td>rxn12985</td>\n",
       "      <td>MNXR94667</td>\n",
       "    </tr>\n",
       "    <tr>\n",
       "      <th>2</th>\n",
       "      <td>metanetx</td>\n",
       "      <td>MNXR94667</td>\n",
       "      <td>MNXR94667</td>\n",
       "    </tr>\n",
       "    <tr>\n",
       "      <th>3</th>\n",
       "      <td>metanetx</td>\n",
       "      <td>MNXR01</td>\n",
       "      <td>MNXR01</td>\n",
       "    </tr>\n",
       "    <tr>\n",
       "      <th>4</th>\n",
       "      <td>bigg</td>\n",
       "      <td>10FTHF5GLUtl</td>\n",
       "      <td>MNXR94668</td>\n",
       "    </tr>\n",
       "    <tr>\n",
       "      <th>5</th>\n",
       "      <td>metanetx</td>\n",
       "      <td>MNXR94668</td>\n",
       "      <td>MNXR94668</td>\n",
       "    </tr>\n",
       "    <tr>\n",
       "      <th>6</th>\n",
       "      <td>bigg</td>\n",
       "      <td>10FTHF5GLUtm</td>\n",
       "      <td>MNXR94668</td>\n",
       "    </tr>\n",
       "    <tr>\n",
       "      <th>7</th>\n",
       "      <td>bigg</td>\n",
       "      <td>10FTHF6GLUtl</td>\n",
       "      <td>MNXR94669</td>\n",
       "    </tr>\n",
       "    <tr>\n",
       "      <th>8</th>\n",
       "      <td>metanetx</td>\n",
       "      <td>MNXR94669</td>\n",
       "      <td>MNXR94669</td>\n",
       "    </tr>\n",
       "    <tr>\n",
       "      <th>9</th>\n",
       "      <td>bigg</td>\n",
       "      <td>10FTHF6GLUtm</td>\n",
       "      <td>MNXR94669</td>\n",
       "    </tr>\n",
       "    <tr>\n",
       "      <th>10</th>\n",
       "      <td>bigg</td>\n",
       "      <td>10FTHF7GLUtl</td>\n",
       "      <td>MNXR94670</td>\n",
       "    </tr>\n",
       "    <tr>\n",
       "      <th>11</th>\n",
       "      <td>metanetx</td>\n",
       "      <td>MNXR94670</td>\n",
       "      <td>MNXR94670</td>\n",
       "    </tr>\n",
       "    <tr>\n",
       "      <th>12</th>\n",
       "      <td>bigg</td>\n",
       "      <td>10FTHF7GLUtm</td>\n",
       "      <td>MNXR94670</td>\n",
       "    </tr>\n",
       "    <tr>\n",
       "      <th>13</th>\n",
       "      <td>bigg</td>\n",
       "      <td>10FTHFGLULL</td>\n",
       "      <td>MNXR94671</td>\n",
       "    </tr>\n",
       "    <tr>\n",
       "      <th>14</th>\n",
       "      <td>metanetx</td>\n",
       "      <td>MNXR94671</td>\n",
       "      <td>MNXR94671</td>\n",
       "    </tr>\n",
       "    <tr>\n",
       "      <th>15</th>\n",
       "      <td>bigg</td>\n",
       "      <td>10FTHFGLULLm</td>\n",
       "      <td>MNXR94671</td>\n",
       "    </tr>\n",
       "    <tr>\n",
       "      <th>16</th>\n",
       "      <td>bigg</td>\n",
       "      <td>10FTHFtl</td>\n",
       "      <td>MNXR94672</td>\n",
       "    </tr>\n",
       "    <tr>\n",
       "      <th>17</th>\n",
       "      <td>metanetx</td>\n",
       "      <td>MNXR94672</td>\n",
       "      <td>MNXR94672</td>\n",
       "    </tr>\n",
       "    <tr>\n",
       "      <th>18</th>\n",
       "      <td>bigg</td>\n",
       "      <td>10FTHFtm</td>\n",
       "      <td>MNXR94672</td>\n",
       "    </tr>\n",
       "    <tr>\n",
       "      <th>19</th>\n",
       "      <td>bigg</td>\n",
       "      <td>10FTHFtx</td>\n",
       "      <td>MNXR94672</td>\n",
       "    </tr>\n",
       "    <tr>\n",
       "      <th>20</th>\n",
       "      <td>bigg</td>\n",
       "      <td>11DOCRTSLtm</td>\n",
       "      <td>MNXR94673</td>\n",
       "    </tr>\n",
       "    <tr>\n",
       "      <th>21</th>\n",
       "      <td>metanetx</td>\n",
       "      <td>MNXR94673</td>\n",
       "      <td>MNXR94673</td>\n",
       "    </tr>\n",
       "    <tr>\n",
       "      <th>22</th>\n",
       "      <td>bigg</td>\n",
       "      <td>11DOCRTSLtr</td>\n",
       "      <td>MNXR94673</td>\n",
       "    </tr>\n",
       "    <tr>\n",
       "      <th>23</th>\n",
       "      <td>bigg</td>\n",
       "      <td>11DOCRTSTRNtm</td>\n",
       "      <td>MNXR94674</td>\n",
       "    </tr>\n",
       "    <tr>\n",
       "      <th>24</th>\n",
       "      <td>metanetx</td>\n",
       "      <td>MNXR94674</td>\n",
       "      <td>MNXR94674</td>\n",
       "    </tr>\n",
       "    <tr>\n",
       "      <th>25</th>\n",
       "      <td>bigg</td>\n",
       "      <td>11DOCRTSTRNtr</td>\n",
       "      <td>MNXR94674</td>\n",
       "    </tr>\n",
       "    <tr>\n",
       "      <th>26</th>\n",
       "      <td>bigg</td>\n",
       "      <td>12DGR120tipp</td>\n",
       "      <td>MNXR94675</td>\n",
       "    </tr>\n",
       "    <tr>\n",
       "      <th>27</th>\n",
       "      <td>metanetx</td>\n",
       "      <td>MNXR94675</td>\n",
       "      <td>MNXR94675</td>\n",
       "    </tr>\n",
       "    <tr>\n",
       "      <th>28</th>\n",
       "      <td>bigg</td>\n",
       "      <td>12DGR140tipp</td>\n",
       "      <td>MNXR94676</td>\n",
       "    </tr>\n",
       "    <tr>\n",
       "      <th>29</th>\n",
       "      <td>metanetx</td>\n",
       "      <td>MNXR94676</td>\n",
       "      <td>MNXR94676</td>\n",
       "    </tr>\n",
       "    <tr>\n",
       "      <th>...</th>\n",
       "      <td>...</td>\n",
       "      <td>...</td>\n",
       "      <td>...</td>\n",
       "    </tr>\n",
       "    <tr>\n",
       "      <th>215994</th>\n",
       "      <td>deprecated</td>\n",
       "      <td>MNXR81319</td>\n",
       "      <td>MNXR94702</td>\n",
       "    </tr>\n",
       "    <tr>\n",
       "      <th>215995</th>\n",
       "      <td>deprecated</td>\n",
       "      <td>MNXR81318</td>\n",
       "      <td>MNXR94701</td>\n",
       "    </tr>\n",
       "    <tr>\n",
       "      <th>215996</th>\n",
       "      <td>deprecated</td>\n",
       "      <td>MNXR81317</td>\n",
       "      <td>MNXR94700</td>\n",
       "    </tr>\n",
       "    <tr>\n",
       "      <th>215997</th>\n",
       "      <td>deprecated</td>\n",
       "      <td>MNXR81316</td>\n",
       "      <td>MNXR94699</td>\n",
       "    </tr>\n",
       "    <tr>\n",
       "      <th>215998</th>\n",
       "      <td>deprecated</td>\n",
       "      <td>MNXR81315</td>\n",
       "      <td>MNXR94698</td>\n",
       "    </tr>\n",
       "    <tr>\n",
       "      <th>215999</th>\n",
       "      <td>deprecated</td>\n",
       "      <td>MNXR81314</td>\n",
       "      <td>MNXR94697</td>\n",
       "    </tr>\n",
       "    <tr>\n",
       "      <th>216000</th>\n",
       "      <td>deprecated</td>\n",
       "      <td>MNXR81313</td>\n",
       "      <td>MNXR94696</td>\n",
       "    </tr>\n",
       "    <tr>\n",
       "      <th>216001</th>\n",
       "      <td>deprecated</td>\n",
       "      <td>MNXR81312</td>\n",
       "      <td>MNXR94692</td>\n",
       "    </tr>\n",
       "    <tr>\n",
       "      <th>216002</th>\n",
       "      <td>deprecated</td>\n",
       "      <td>MNXR81322</td>\n",
       "      <td>MNXR94705</td>\n",
       "    </tr>\n",
       "    <tr>\n",
       "      <th>216003</th>\n",
       "      <td>deprecated</td>\n",
       "      <td>MNXR81321</td>\n",
       "      <td>MNXR94704</td>\n",
       "    </tr>\n",
       "    <tr>\n",
       "      <th>216004</th>\n",
       "      <td>deprecated</td>\n",
       "      <td>MNXR81320</td>\n",
       "      <td>MNXR94703</td>\n",
       "    </tr>\n",
       "    <tr>\n",
       "      <th>216005</th>\n",
       "      <td>deprecated</td>\n",
       "      <td>MNXR56385</td>\n",
       "      <td>MNXR126582</td>\n",
       "    </tr>\n",
       "    <tr>\n",
       "      <th>216006</th>\n",
       "      <td>deprecated</td>\n",
       "      <td>MNXR56382</td>\n",
       "      <td>MNXR107704</td>\n",
       "    </tr>\n",
       "    <tr>\n",
       "      <th>216007</th>\n",
       "      <td>deprecated</td>\n",
       "      <td>MNXR4921</td>\n",
       "      <td>MNXR104563</td>\n",
       "    </tr>\n",
       "    <tr>\n",
       "      <th>216008</th>\n",
       "      <td>deprecated</td>\n",
       "      <td>MNXR56432</td>\n",
       "      <td>MNXR107705</td>\n",
       "    </tr>\n",
       "    <tr>\n",
       "      <th>216009</th>\n",
       "      <td>deprecated</td>\n",
       "      <td>MNXR56431</td>\n",
       "      <td>MNXR107406</td>\n",
       "    </tr>\n",
       "    <tr>\n",
       "      <th>216010</th>\n",
       "      <td>deprecated</td>\n",
       "      <td>MNXR56430</td>\n",
       "      <td>MNXR116140</td>\n",
       "    </tr>\n",
       "    <tr>\n",
       "      <th>216011</th>\n",
       "      <td>deprecated</td>\n",
       "      <td>MNXR56438</td>\n",
       "      <td>MNXR110582</td>\n",
       "    </tr>\n",
       "    <tr>\n",
       "      <th>216012</th>\n",
       "      <td>deprecated</td>\n",
       "      <td>MNXR56435</td>\n",
       "      <td>MNXR115887</td>\n",
       "    </tr>\n",
       "    <tr>\n",
       "      <th>216013</th>\n",
       "      <td>deprecated</td>\n",
       "      <td>MNXR56440</td>\n",
       "      <td>MNXR106610</td>\n",
       "    </tr>\n",
       "    <tr>\n",
       "      <th>216014</th>\n",
       "      <td>deprecated</td>\n",
       "      <td>MNXR56449</td>\n",
       "      <td>MNXR115789</td>\n",
       "    </tr>\n",
       "    <tr>\n",
       "      <th>216015</th>\n",
       "      <td>deprecated</td>\n",
       "      <td>MNXR56448</td>\n",
       "      <td>MNXR108555</td>\n",
       "    </tr>\n",
       "    <tr>\n",
       "      <th>216016</th>\n",
       "      <td>deprecated</td>\n",
       "      <td>MNXR56444</td>\n",
       "      <td>MNXR115235</td>\n",
       "    </tr>\n",
       "    <tr>\n",
       "      <th>216017</th>\n",
       "      <td>deprecated</td>\n",
       "      <td>MNXR56421</td>\n",
       "      <td>MNXR107020</td>\n",
       "    </tr>\n",
       "    <tr>\n",
       "      <th>216018</th>\n",
       "      <td>deprecated</td>\n",
       "      <td>MNXR56429</td>\n",
       "      <td>MNXR116163</td>\n",
       "    </tr>\n",
       "    <tr>\n",
       "      <th>216019</th>\n",
       "      <td>deprecated</td>\n",
       "      <td>MNXR56427</td>\n",
       "      <td>MNXR116132</td>\n",
       "    </tr>\n",
       "    <tr>\n",
       "      <th>216020</th>\n",
       "      <td>deprecated</td>\n",
       "      <td>MNXR56426</td>\n",
       "      <td>MNXR108670</td>\n",
       "    </tr>\n",
       "    <tr>\n",
       "      <th>216021</th>\n",
       "      <td>deprecated</td>\n",
       "      <td>MNXR56425</td>\n",
       "      <td>MNXR108723</td>\n",
       "    </tr>\n",
       "    <tr>\n",
       "      <th>216022</th>\n",
       "      <td>deprecated</td>\n",
       "      <td>MNXR56424</td>\n",
       "      <td>MNXR106728</td>\n",
       "    </tr>\n",
       "    <tr>\n",
       "      <th>216023</th>\n",
       "      <td>deprecated</td>\n",
       "      <td>MNXR56422</td>\n",
       "      <td>MNXR114907</td>\n",
       "    </tr>\n",
       "  </tbody>\n",
       "</table>\n",
       "<p>216024 rows × 3 columns</p>\n",
       "</div>"
      ],
      "text/plain": [
       "               XREF        XREF_ID      MNX_ID\n",
       "0       BIOMASS_EXT      MNXR94667         NaN\n",
       "1              seed       rxn12985   MNXR94667\n",
       "2          metanetx      MNXR94667   MNXR94667\n",
       "3          metanetx         MNXR01      MNXR01\n",
       "4              bigg   10FTHF5GLUtl   MNXR94668\n",
       "5          metanetx      MNXR94668   MNXR94668\n",
       "6              bigg   10FTHF5GLUtm   MNXR94668\n",
       "7              bigg   10FTHF6GLUtl   MNXR94669\n",
       "8          metanetx      MNXR94669   MNXR94669\n",
       "9              bigg   10FTHF6GLUtm   MNXR94669\n",
       "10             bigg   10FTHF7GLUtl   MNXR94670\n",
       "11         metanetx      MNXR94670   MNXR94670\n",
       "12             bigg   10FTHF7GLUtm   MNXR94670\n",
       "13             bigg    10FTHFGLULL   MNXR94671\n",
       "14         metanetx      MNXR94671   MNXR94671\n",
       "15             bigg   10FTHFGLULLm   MNXR94671\n",
       "16             bigg       10FTHFtl   MNXR94672\n",
       "17         metanetx      MNXR94672   MNXR94672\n",
       "18             bigg       10FTHFtm   MNXR94672\n",
       "19             bigg       10FTHFtx   MNXR94672\n",
       "20             bigg    11DOCRTSLtm   MNXR94673\n",
       "21         metanetx      MNXR94673   MNXR94673\n",
       "22             bigg    11DOCRTSLtr   MNXR94673\n",
       "23             bigg  11DOCRTSTRNtm   MNXR94674\n",
       "24         metanetx      MNXR94674   MNXR94674\n",
       "25             bigg  11DOCRTSTRNtr   MNXR94674\n",
       "26             bigg   12DGR120tipp   MNXR94675\n",
       "27         metanetx      MNXR94675   MNXR94675\n",
       "28             bigg   12DGR140tipp   MNXR94676\n",
       "29         metanetx      MNXR94676   MNXR94676\n",
       "...             ...            ...         ...\n",
       "215994   deprecated      MNXR81319   MNXR94702\n",
       "215995   deprecated      MNXR81318   MNXR94701\n",
       "215996   deprecated      MNXR81317   MNXR94700\n",
       "215997   deprecated      MNXR81316   MNXR94699\n",
       "215998   deprecated      MNXR81315   MNXR94698\n",
       "215999   deprecated      MNXR81314   MNXR94697\n",
       "216000   deprecated      MNXR81313   MNXR94696\n",
       "216001   deprecated      MNXR81312   MNXR94692\n",
       "216002   deprecated      MNXR81322   MNXR94705\n",
       "216003   deprecated      MNXR81321   MNXR94704\n",
       "216004   deprecated      MNXR81320   MNXR94703\n",
       "216005   deprecated      MNXR56385  MNXR126582\n",
       "216006   deprecated      MNXR56382  MNXR107704\n",
       "216007   deprecated       MNXR4921  MNXR104563\n",
       "216008   deprecated      MNXR56432  MNXR107705\n",
       "216009   deprecated      MNXR56431  MNXR107406\n",
       "216010   deprecated      MNXR56430  MNXR116140\n",
       "216011   deprecated      MNXR56438  MNXR110582\n",
       "216012   deprecated      MNXR56435  MNXR115887\n",
       "216013   deprecated      MNXR56440  MNXR106610\n",
       "216014   deprecated      MNXR56449  MNXR115789\n",
       "216015   deprecated      MNXR56448  MNXR108555\n",
       "216016   deprecated      MNXR56444  MNXR115235\n",
       "216017   deprecated      MNXR56421  MNXR107020\n",
       "216018   deprecated      MNXR56429  MNXR116163\n",
       "216019   deprecated      MNXR56427  MNXR116132\n",
       "216020   deprecated      MNXR56426  MNXR108670\n",
       "216021   deprecated      MNXR56425  MNXR108723\n",
       "216022   deprecated      MNXR56424  MNXR106728\n",
       "216023   deprecated      MNXR56422  MNXR114907\n",
       "\n",
       "[216024 rows x 3 columns]"
      ]
     },
     "execution_count": 4,
     "metadata": {},
     "output_type": "execute_result"
    }
   ],
   "source": [
    "reac_xref = read_csv(\"/Users/lizrad/Documents/Vibrio_folder/reac_xref.tsv\" , sep='\\t')\n",
    "reac_xref"
   ]
  },
  {
   "cell_type": "markdown",
   "metadata": {},
   "source": [
    "### Number of MNXR reactions in the model"
   ]
  },
  {
   "cell_type": "code",
   "execution_count": 5,
   "metadata": {},
   "outputs": [
    {
     "name": "stdout",
     "output_type": "stream",
     "text": [
      "This is the total amount of reactions in the model: 1906\n",
      "We focus on mapping those 0 reactions in the model that have an MNXR ID\n",
      "rxn02201_c0\n",
      "rxn00351_c0\n",
      "rxn07431_c0\n",
      "rxn00836_c0\n",
      "rxn02209_c0\n",
      "rxn00390_c0\n",
      "rxn08180_c0\n",
      "rxn05318_c0\n",
      "rxn00062_c0\n",
      "rxn06472_c0\n",
      "rxn11567_c0\n",
      "rxn00423_c0\n",
      "rxn00364_c0\n",
      "rxn05561_c0\n",
      "rxn03408_c0\n",
      "rxn02177_c0\n",
      "rxn05250_c0\n",
      "rxn00646_c0\n",
      "rxn00935_c0\n",
      "rxn01673_c0\n",
      "rxn00247_c0\n",
      "rxn05625_c0\n",
      "rxn02360_c0\n",
      "rxn02342_c0\n",
      "rxn10311_c0\n",
      "rxn05156_c0\n",
      "rxn00022_c0\n",
      "rxn00973_c0\n",
      "rxn04031_c0\n",
      "rxn02000_c0\n",
      "rxn03239_c0\n",
      "rxn03120_c0\n",
      "rxn02632_c0\n",
      "rxn11962_c0\n",
      "rxn00322_c0\n",
      "rxn03883_c0\n",
      "rxn05063_c0\n",
      "rxn05457_c0\n",
      "rxn00107_c0\n",
      "rxn04271_c0\n",
      "rxn13783_c0\n",
      "rxn10118_c0\n",
      "rxn05392_c0\n",
      "rxn12008_c0\n",
      "rxn04600_c0\n",
      "rxn04681_c0\n",
      "rxn04070_c0\n",
      "rxn00199_c0\n",
      "rxn01358_c0\n",
      "rxn10231_c0\n",
      "rxn02944_c0\n",
      "rxn01867_c0\n",
      "rxn04648_c0\n",
      "rxn10270_c0\n",
      "rxn12637_c0\n",
      "rxn03046_c0\n",
      "rxn09240_c0\n",
      "rxn01219_c0\n",
      "rxn05958_c0\n",
      "rxn00519_c0\n",
      "rxn00258_c0\n",
      "rxn00800_c0\n",
      "rxn01705_c0\n",
      "rxn09177_c0\n",
      "rxn00211_c0\n",
      "rxn00179_c0\n",
      "rxn01210_c0\n",
      "rxn00730_c0\n",
      "rxn00192_c0\n",
      "rxn01218_c0\n",
      "rxn05367_c0\n",
      "rxn03456_c0\n",
      "rxn03360_c0\n",
      "rxn02898_c0\n",
      "rxn05654_c0\n",
      "rxn01199_c0\n",
      "rxn00545_c0\n",
      "rxn00771_c0\n",
      "rxn02319_c0\n",
      "rxn08807_c0\n",
      "rxn05614_c0\n",
      "rxn00501_c0\n",
      "rxn00257_c0\n",
      "rxn10344_c0\n",
      "rxn01547_c0\n",
      "rxn10336_c0\n",
      "rxn02320_c0\n",
      "rxn03384_c0\n",
      "rxn06208_c0\n",
      "rxn01405_c0\n",
      "rxn02504_c0\n",
      "rxn04082_c0\n",
      "rxn04996_c0\n",
      "rxn00262_c0\n",
      "rxn05404_c0\n",
      "rxn02796_c0\n",
      "rxn10262_c0\n",
      "rxn10126_c0\n",
      "rxn10209_c0\n",
      "rxn08084_c0\n",
      "rxn10225_c0\n",
      "rxn03463_c0\n",
      "rxn01486_c0\n",
      "rxn00898_c0\n",
      "rxn05334_c0\n",
      "rxn10205_c0\n",
      "rxn05040_c0\n",
      "rxn05400_c0\n",
      "rxn01636_c0\n",
      "rxn05235_c0\n",
      "rxn02090_c0\n",
      "rxn08556_c0\n",
      "rxn00816_c0\n",
      "rxn01750_c0\n",
      "rxn02988_c0\n",
      "rxn04792_c0\n",
      "rxn01021_c0\n",
      "rxn00165_c0\n",
      "rxn10228_c0\n",
      "rxn01117_c0\n",
      "rxn02610_c0\n",
      "rxn05814_c0\n",
      "rxn05542_c0\n",
      "rxn00539_c0\n",
      "rxn11726_c0\n",
      "rxn13990_c0\n",
      "rxn00678_c0\n",
      "rxn00001_c0\n",
      "rxn04951_c0\n",
      "rxn09685_c0\n",
      "rxn01331_c0\n",
      "rxn05545_c0\n",
      "rxn00958_c0\n",
      "rxn00671_c0\n",
      "rxn11268_c0\n",
      "rxn00710_c0\n",
      "rxn01114_c0\n",
      "rxn02305_c0\n",
      "rxn00470_c0\n",
      "rxn08817_c0\n",
      "rxn00910_c0\n",
      "rxn11944_c0\n",
      "rxn01129_c0\n",
      "rxn08296_c0\n",
      "rxn05541_c0\n",
      "rxn00717_c0\n",
      "rxn08710_c0\n",
      "rxn05647_c0\n",
      "rxn01297_c0\n",
      "rxn10254_c0\n",
      "rxn00987_c0\n",
      "rxn05459_c0\n",
      "rxn05453_c0\n",
      "rxn01682_c0\n",
      "rxn08796_c0\n",
      "rxn03142_c0\n",
      "rxn03181_c0\n",
      "rxn01048_c0\n",
      "rxn02586_c0\n",
      "rxn02331_c0\n",
      "rxn06493_c0\n",
      "rxn10214_c0\n",
      "rxn12846_c0\n",
      "rxn00337_c0\n",
      "rxn01231_c0\n",
      "rxn05221_c0\n",
      "rxn08308_c0\n",
      "rxn00208_c0\n",
      "rxn02812_c0\n",
      "rxn08823_c0\n",
      "rxn02552_c0\n",
      "rxn00140_c0\n",
      "rxn05346_c0\n",
      "rxn00867_c0\n",
      "rxn07680_c0\n",
      "rxn01523_c0\n",
      "rxn00452_c0\n",
      "rxn03248_c0\n",
      "rxn08127_c0\n",
      "rxn05516_c0\n",
      "rxn05142_c0\n",
      "rxn05733_c0\n",
      "rxn00416_c0\n",
      "rxn02270_c0\n",
      "rxn09206_c0\n",
      "rxn12158_c0\n",
      "rxn02376_c0\n",
      "rxn10147_c0\n",
      "rxn09209_c0\n",
      "rxn12512_c0\n",
      "rxn08669_c0\n",
      "rxn07902_c0\n",
      "rxn00902_c0\n",
      "rxn00015_c0\n",
      "rxn00658_c0\n",
      "rxn06672_c0\n",
      "rxn02961_c0\n",
      "rxn03872_c0\n",
      "rxn00649_c0\n",
      "rxn06633_c0\n",
      "rxn01739_c0\n",
      "rxn02400_c0\n",
      "rxn01268_c0\n",
      "rxn00361_c0\n",
      "rxn01421_c0\n",
      "rxn07434_c0\n",
      "rxn01974_c0\n",
      "rxn01287_c0\n",
      "rxn00242_c0\n",
      "rxn12641_c0\n",
      "rxn00068_c0\n",
      "rxn00568_c0\n",
      "rxn08971_c0\n",
      "rxn05316_c0\n",
      "rxn01635_c0\n",
      "rxn04384_c0\n",
      "rxn03887_c0\n",
      "rxn00060_c0\n",
      "rxn00225_c0\n",
      "rxn05350_c0\n",
      "rxn09198_c0\n",
      "rxn08838_c0\n",
      "rxn00780_c0\n",
      "rxn05064_c0\n",
      "rxn00148_c0\n",
      "rxn01102_c0\n",
      "rxn07367_c0\n",
      "rxn05569_c0\n",
      "rxn05358_c0\n",
      "rxn00100_c0\n",
      "rxn03482_c0\n",
      "rxn02842_c0\n",
      "rxn00789_c0\n",
      "rxn02374_c0\n",
      "rxn03436_c0\n",
      "rxn05560_c0\n",
      "rxn00837_c0\n",
      "rxn08976_c0\n",
      "rxn00781_c0\n",
      "rxn09264_c0\n",
      "rxn05319_c0\n",
      "rxn00881_c0\n",
      "rxn05298_c0\n",
      "rxn10157_c0\n",
      "rxn09265_c0\n",
      "rxn05408_c0\n",
      "rxn10337_c0\n",
      "rxn08336_c0\n",
      "rxn05293_c0\n",
      "rxn05401_c0\n",
      "rxn02264_c0\n",
      "rxn00212_c0\n",
      "rxn10338_c0\n",
      "rxn05198_c0\n",
      "rxn03185_c0\n",
      "rxn09202_c0\n",
      "rxn07177_c0\n",
      "rxn01451_c0\n",
      "rxn02687_c0\n",
      "rxn03903_c0\n",
      "rxn00097_c0\n",
      "rxn01217_c0\n",
      "rxn02212_c0\n",
      "rxn00695_c0\n",
      "rxn07670_c0\n",
      "rxn05116_c0\n",
      "rxn05324_c0\n",
      "rxn10481_c0\n",
      "rxn03535_c0\n",
      "rxn00655_c0\n",
      "rxn00692_c0\n",
      "rxn01492_c0\n",
      "rxn00802_c0\n",
      "rxn02761_c0\n",
      "rxn02160_c0\n",
      "rxn08802_c0\n",
      "rxn01825_c0\n",
      "rxn10230_c0\n",
      "rxn05413_c0\n",
      "rxn02703_c0\n",
      "rxn00913_c0\n",
      "rxn01997_c0\n",
      "rxn08521_c0\n",
      "rxn08809_c0\n",
      "rxn00171_c0\n",
      "rxn05014_c0\n",
      "rxn03958_c0\n",
      "rxn00259_c0\n",
      "rxn00345_c0\n",
      "rxn05578_c0\n",
      "rxn07219_c0\n",
      "rxn00178_c0\n",
      "rxn01362_c0\n",
      "rxn03174_c0\n",
      "rxn10125_c0\n",
      "rxn00038_c0\n",
      "rxn05161_c0\n",
      "rxn00549_c0\n",
      "rxn03951_c0\n",
      "rxn02938_c0\n",
      "rxn04779_c0\n",
      "rxn07875_c0\n",
      "rxn05418_c0\n",
      "rxn05200_c0\n",
      "rxn00506_c0\n",
      "rxn04713_c0\n",
      "rxn00584_c0\n",
      "rxn11723_c0\n",
      "rxn10060_c0\n",
      "rxn02933_c0\n",
      "rxn02416_c0\n",
      "rxn00727_c0\n",
      "rxn10307_c0\n",
      "rxn05617_c0\n",
      "rxn12638_c0\n",
      "rxn05243_c0\n",
      "rxn02268_c0\n",
      "rxn05127_c0\n",
      "rxn09105_c0\n",
      "rxn00305_c0\n",
      "rxn01445_c0\n",
      "rxn05248_c0\n",
      "rxn00612_c0\n",
      "rxn05539_c0\n",
      "rxn08841_c0\n",
      "rxn05461_c0\n",
      "rxn07312_c0\n",
      "rxn12405_c0\n",
      "rxn01701_c0\n",
      "rxn02159_c0\n",
      "rxn01111_c0\n",
      "rxn08083_c0\n",
      "rxn10222_c0\n",
      "rxn03038_c0\n",
      "rxn10263_c0\n",
      "rxn02791_c0\n",
      "rxn05466_c0\n",
      "rxn08814_c0\n",
      "rxn08845_c0\n",
      "rxn00395_c0\n",
      "rxn01292_c0\n",
      "rxn00375_c0\n",
      "rxn00300_c0\n",
      "rxn01925_c0\n",
      "rxn02380_c0\n",
      "rxn02026_c0\n",
      "rxn08792_c0\n",
      "rxn00999_c0\n",
      "rxn07907_c0\n",
      "rxn07347_c0\n",
      "rxn10131_c0\n",
      "rxn05417_c0\n",
      "rxn01599_c0\n",
      "rxn08799_c0\n",
      "rxn05234_c0\n",
      "rxn00433_c0\n",
      "rxn01157_c0\n",
      "rxn07848_c0\n",
      "rxn05957_c0\n",
      "rxn01844_c0\n",
      "rxn05335_c0\n",
      "rxn03023_c0\n",
      "rxn00537_c0\n",
      "rxn03419_c0\n",
      "rxn08551_c0\n",
      "rxn03064_c0\n",
      "rxn10256_c0\n",
      "rxn04781_c0\n",
      "rxn00679_c0\n",
      "rxn01516_c0\n",
      "rxn00758_c0\n",
      "rxn03753_c0\n",
      "rxn00272_c0\n",
      "rxn05555_c0\n",
      "rxn10314_c0\n",
      "rxn09111_c0\n",
      "rxn12432_c0\n",
      "rxn01746_c0\n",
      "rxn06078_c0\n",
      "rxn00471_c0\n",
      "rxn05607_c0\n",
      "rxn03848_c0\n",
      "rxn05348_c0\n",
      "rxn07353_c0\n",
      "rxn00798_c0\n",
      "rxn03245_c0\n",
      "rxn11946_c0\n",
      "rxn01504_c0\n",
      "rxn00907_c0\n",
      "rxn05458_c0\n",
      "rxn10213_c0\n",
      "rxn05229_c0\n",
      "rxn08300_c0\n",
      "rxn08297_c0\n",
      "rxn02911_c0\n",
      "rxn00012_c0\n",
      "rxn02444_c0\n",
      "rxn01280_c0\n",
      "rxn05581_c0\n",
      "rxn07721_c0\n",
      "rxn01161_c0\n",
      "rxn03610_c0\n",
      "rxn12847_c0\n",
      "rxn05410_c0\n",
      "rxn09320_c0\n",
      "rxn09114_c0\n",
      "rxn05535_c0\n",
      "rxn09188_c0\n",
      "rxn01422_c0\n",
      "rxn09180_c0\n",
      "rxn08822_c0\n",
      "rxn04677_c0\n",
      "rxn02782_c0\n",
      "rxn02821_c0\n",
      "rxn10208_c0\n",
      "rxn01620_c0\n",
      "rxn05345_c0\n",
      "rxn04068_c0\n",
      "rxn01522_c0\n",
      "rxn00336_c0\n",
      "rxn05422_c0\n",
      "rxn03891_c0\n",
      "rxn01465_c0\n",
      "rxn03052_c0\n",
      "rxn10204_c0\n",
      "rxn09997_c0\n",
      "rxn05145_c0\n",
      "rxn01872_c0\n",
      "rxn01301_c0\n",
      "rxn01643_c0\n",
      "rxn04457_c0\n",
      "rxn04598_c0\n",
      "rxn02449_c0\n",
      "rxn02969_c0\n",
      "rxn02170_c0\n",
      "rxn00248_c0\n",
      "rxn00295_c0\n",
      "rxn00499_c0\n",
      "rxn05953_c0\n",
      "rxn08844_c0\n",
      "rxn05385_c0\n",
      "rxn00707_c0\n",
      "rxn00369_c0\n",
      "rxn06937_c0\n",
      "rxn14017_c0\n",
      "rxn01637_c0\n",
      "rxn03095_c0\n",
      "rxn00566_c0\n",
      "rxn00708_c0\n",
      "rxn02284_c0\n",
      "rxn00289_c0\n",
      "rxn07433_c0\n",
      "rxn03762_c0\n",
      "rxn01269_c0\n",
      "rxn00392_c0\n",
      "rxn00747_c0\n",
      "rxn01334_c0\n",
      "rxn00830_c0\n",
      "rxn01108_c0\n",
      "rxn05219_c0\n",
      "rxn10113_c0\n",
      "rxn00879_c0\n",
      "rxn03406_c0\n",
      "rxn00029_c0\n",
      "rxn06673_c0\n",
      "rxn07734_c0\n",
      "rxn12646_c0\n",
      "rxn06777_c0\n",
      "rxn05256_c0\n",
      "rxn02175_c0\n",
      "rxn05317_c0\n",
      "rxn00020_c0\n",
      "rxn02835_c0\n",
      "rxn03440_c0\n",
      "rxn00108_c0\n",
      "rxn03884_c0\n",
      "rxn01901_c0\n",
      "rxn01675_c0\n",
      "rxn00146_c0\n",
      "rxn00324_c0\n",
      "rxn08839_c0\n",
      "rxn03289_c0\n",
      "rxn03536_c0\n",
      "rxn14003_c0\n",
      "rxn01575_c0\n",
      "rxn01454_c0\n",
      "rxn05150_c0\n",
      "rxn00656_c0\n",
      "rxn10335_c0\n",
      "rxn02009_c0\n",
      "rxn01315_c0\n",
      "rxn01868_c0\n",
      "rxn03240_c0\n",
      "rxn09562_c0\n",
      "rxn05359_c0\n",
      "rxn06098_c0\n",
      "rxn00555_c0\n",
      "rxn03282_c0\n",
      "rxn03435_c0\n",
      "rxn03080_c0\n",
      "rxn10237_c0\n",
      "rxn01044_c0\n",
      "rxn05058_c0\n",
      "rxn10011_c0\n",
      "rxn00143_c0\n",
      "rxn12644_c0\n",
      "rxn00147_c0\n",
      "rxn01505_c0\n",
      "rxn00849_c0\n",
      "rxn00737_c0\n",
      "rxn01033_c0\n",
      "rxn08843_c0\n",
      "rxn04723_c0\n",
      "rxn07374_c0\n",
      "rxn00213_c0\n",
      "rxn03040_c0\n",
      "rxn05199_c0\n",
      "rxn10162_c0\n",
      "rxn01629_c0\n",
      "rxn00777_c0\n",
      "rxn05164_c0\n",
      "rxn13784_c0\n",
      "rxn11732_c0\n",
      "rxn01740_c0\n",
      "rxn05533_c0\n",
      "rxn00588_c0\n",
      "rxn00190_c0\n",
      "rxn00968_c0\n",
      "rxn05327_c0\n",
      "rxn04841_c0\n",
      "rxn05205_c0\n",
      "rxn01013_c0\n",
      "rxn10123_c0\n",
      "rxn02728_c0\n",
      "rxn06281_c0\n",
      "rxn02762_c0\n",
      "rxn00668_c0\n",
      "rxn05655_c0\n",
      "rxn02314_c0\n",
      "rxn08801_c0\n",
      "rxn02161_c0\n",
      "rxn05244_c0\n",
      "rxn00503_c0\n",
      "rxn00251_c0\n",
      "rxn04043_c0\n",
      "rxn10432_c0\n",
      "rxn00139_c0\n",
      "rxn07261_c0\n",
      "rxn00920_c0\n",
      "rxn00790_c0\n",
      "rxn02936_c0\n",
      "rxn03910_c0\n",
      "rxn00237_c0\n",
      "rxn00422_c0\n",
      "rxn07100_c0\n",
      "rxn10342_c0\n",
      "rxn03540_c0\n",
      "rxn08086_c0\n",
      "rxn08311_c0\n",
      "rxn03919_c0\n",
      "rxn03175_c0\n",
      "rxn10264_c0\n",
      "rxn10124_c0\n",
      "rxn03421_c0\n",
      "rxn10227_c0\n",
      "rxn01146_c0\n",
      "rxn05336_c0\n",
      "rxn09210_c0\n",
      "rxn01484_c0\n",
      "rxn04712_c0\n",
      "rxn02112_c0\n",
      "rxn00162_c0\n",
      "rxn06022_c0\n",
      "rxn01124_c0\n",
      "rxn00285_c0\n",
      "rxn05371_c0\n",
      "rxn04794_c0\n",
      "rxn07584_c0\n",
      "rxn00182_c0\n",
      "rxn01416_c0\n",
      "rxn05567_c0\n",
      "rxn02181_c0\n",
      "rxn03935_c0\n",
      "rxn00532_c0\n",
      "rxn05172_c0\n",
      "rxn01642_c0\n",
      "rxn00132_c0\n",
      "rxn11724_c0\n",
      "rxn01204_c0\n",
      "rxn04052_c0\n",
      "rxn04323_c0\n",
      "rxn02819_c0\n",
      "rxn00712_c0\n",
      "rxn01479_c0\n",
      "rxn08615_c0\n",
      "rxn12850_c0\n",
      "rxn08815_c0\n",
      "rxn00472_c0\n",
      "rxn00126_c0\n",
      "rxn01518_c0\n",
      "rxn01015_c0\n",
      "rxn12844_c0\n",
      "rxn10216_c0\n",
      "rxn01684_c0\n",
      "rxn09988_c0\n",
      "rxn08798_c0\n",
      "rxn06461_c0\n",
      "rxn05175_c0\n",
      "rxn01478_c0\n",
      "rxn00058_c0\n",
      "rxn05034_c0\n",
      "rxn13385_c0\n",
      "rxn08306_c0\n",
      "rxn08821_c0\n",
      "rxn06869_c0\n",
      "rxn00206_c0\n",
      "rxn11755_c0\n",
      "rxn01871_c0\n",
      "rxn05340_c0\n",
      "rxn00484_c0\n",
      "rxn00405_c0\n",
      "rxn04704_c0\n",
      "rxn05307_c0\n",
      "rxn01169_c0\n",
      "rxn14301_c0\n",
      "rxn00299_c0\n",
      "rxn08546_c0\n",
      "rxn12013_c0\n",
      "rxn06181_c0\n",
      "rxn00756_c0\n",
      "rxn05389_c0\n",
      "rxn08900_c0\n",
      "rxn07230_c0\n",
      "rxn04737_c0\n",
      "rxn10180_c0\n",
      "rxn05735_c0\n",
      "rxn03921_c0\n",
      "rxn07350_c0\n",
      "rxn12153_c0\n",
      "rxn00904_c0\n",
      "rxn02484_c0\n",
      "rxn02916_c0\n",
      "rxn03618_c0\n",
      "rxn04597_c0\n",
      "rxn01133_c0\n",
      "rxn12639_c0\n",
      "rxn03159_c0\n",
      "rxn00875_c0\n",
      "rxn01000_c0\n",
      "rxn03397_c0\n",
      "rxn00363_c0\n",
      "rxn01462_c0\n",
      "rxn08128_c0\n",
      "rxn01281_c0\n",
      "rxn01670_c0\n",
      "rxn12643_c0\n",
      "rxn02522_c0\n",
      "rxn05183_c0\n",
      "rxn01706_c0\n",
      "rxn11703_c0\n",
      "rxn01300_c0\n",
      "rxn07899_c0\n",
      "rxn00601_c0\n",
      "rxn02334_c0\n",
      "rxn00321_c0\n",
      "rxn00786_c0\n",
      "rxn05066_c0\n",
      "rxn14054_c0\n",
      "rxn03012_c0\n",
      "rxn03908_c0\n",
      "rxn09197_c0\n",
      "rxn00740_c0\n",
      "rxn01100_c0\n",
      "rxn00838_c0\n",
      "rxn08707_c0\n",
      "rxn00102_c0\n",
      "rxn02283_c0\n",
      "rxn03287_c0\n",
      "rxn00512_c0\n",
      "rxn05396_c0\n",
      "rxn00831_c0\n",
      "rxn03721_c0\n",
      "rxn00748_c0\n",
      "rxn01352_c0\n",
      "rxn12634_c0\n",
      "rxn00883_c0\n",
      "rxn01457_c0\n",
      "rxn01255_c0\n",
      "rxn05872_c0\n",
      "rxn10014_c0\n",
      "rxn04727_c0\n",
      "rxn00776_c0\n",
      "rxn11569_c0\n",
      "rxn10155_c0\n",
      "rxn05251_c0\n",
      "rxn05485_c0\n",
      "rxn14089_c0\n",
      "rxn00214_c0\n",
      "rxn01895_c0\n",
      "rxn07268_c0\n",
      "rxn01211_c0\n",
      "rxn01453_c0\n",
      "rxn01981_c0\n",
      "rxn05496_c0\n",
      "rxn00109_c0\n",
      "rxn00527_c0\n",
      "rxn00095_c0\n",
      "rxn01215_c0\n",
      "rxn12224_c0\n",
      "rxn05322_c0\n",
      "rxn12848_c0\n",
      "rxn03003_c0\n",
      "rxn05151_c0\n",
      "rxn03537_c0\n",
      "rxn08804_c0\n",
      "rxn01316_c0\n",
      "rxn00966_c0\n",
      "rxn13782_c0\n",
      "rxn04270_c0\n",
      "rxn05430_c0\n",
      "rxn11838_c0\n",
      "rxn01917_c0\n",
      "rxn10236_c0\n",
      "rxn08527_c0\n",
      "rxn05501_c0\n",
      "rxn01509_c0\n",
      "rxn02011_c0\n",
      "rxn00173_c0\n",
      "rxn01548_c0\n",
      "rxn08528_c0\n",
      "rxn01145_c0\n",
      "rxn09688_c0\n",
      "rxn09205_c0\n",
      "rxn05163_c0\n",
      "rxn00158_c0\n",
      "rxn05364_c0\n",
      "rxn01854_c0\n",
      "rxn09201_c0\n",
      "rxn03426_c0\n",
      "rxn03637_c0\n",
      "rxn05202_c0\n",
      "rxn03035_c0\n",
      "rxn02115_c0\n",
      "rxn10122_c0\n",
      "rxn05547_c0\n",
      "rxn11721_c0\n",
      "rxn08352_c0\n",
      "rxn09106_c0\n",
      "rxn00187_c0\n",
      "rxn00376_c0\n",
      "rxn07903_c0\n",
      "rxn08850_c0\n",
      "rxn00500_c0\n",
      "rxn05734_c0\n",
      "rxn00772_c0\n",
      "rxn09103_c0\n",
      "rxn02229_c0\n",
      "rxn00721_c0\n",
      "rxn08812_c0\n",
      "rxn00546_c0\n",
      "rxn05682_c0\n",
      "rxn00006_c0\n",
      "rxn02503_c0\n",
      "rxn05338_c0\n",
      "rxn02262_c0\n",
      "rxn00627_c0\n",
      "rxn03135_c0\n",
      "rxn04324_c0\n",
      "rxn08085_c0\n",
      "rxn12146_c0\n",
      "rxn01345_c0\n",
      "rxn05429_c0\n",
      "rxn10265_c0\n",
      "rxn08310_c0\n",
      "rxn06910_c0\n",
      "rxn00915_c0\n",
      "rxn03837_c0\n",
      "rxn00373_c0\n",
      "rxn06328_c0\n",
      "rxn02853_c0\n",
      "rxn01515_c0\n",
      "rxn06752_c0\n",
      "rxn03462_c0\n",
      "rxn10224_c0\n",
      "rxn05337_c0\n",
      "rxn10133_c0\n",
      "rxn01135_c0\n",
      "rxn01477_c0\n",
      "rxn01653_c0\n",
      "rxn00474_c0\n",
      "rxn03147_c0\n",
      "rxn03843_c0\n",
      "rxn05376_c0\n",
      "rxn01123_c0\n",
      "rxn08557_c0\n",
      "rxn01842_c0\n",
      "rxn11809_c0\n",
      "rxn09687_c0\n",
      "rxn01116_c0\n",
      "rxn00606_c0\n",
      "rxn02182_c0\n",
      "rxn02811_c0\n",
      "rxn05173_c0\n",
      "rxn03062_c0\n",
      "rxn10258_c0\n",
      "rxn00829_c0\n",
      "rxn08847_c0\n",
      "rxn00868_c0\n",
      "rxn05608_c0\n",
      "rxn00572_c0\n",
      "rxn03326_c0\n",
      "rxn00670_c0\n",
      "rxn01544_c0\n",
      "rxn00863_c0\n",
      "rxn09113_c0\n",
      "rxn11719_c0\n",
      "rxn00711_c0\n",
      "rxn05557_c0\n",
      "rxn10184_c0\n",
      "rxn01270_c0\n",
      "rxn01763_c0\n",
      "rxn00473_c0\n",
      "rxn00908_c0\n",
      "rxn08299_c0\n",
      "rxn08711_c0\n",
      "rxn00795_c0\n",
      "rxn05982_c0\n",
      "rxn05515_c0\n",
      "rxn00986_c0\n",
      "rxn10215_c0\n",
      "rxn06356_c0\n",
      "rxn01138_c0\n",
      "rxn14090_c0\n",
      "rxn02402_c0\n",
      "rxn08291_c0\n",
      "rxn02036_c0\n",
      "rxn05452_c0\n",
      "rxn01607_c0\n",
      "rxn05465_c0\n",
      "rxn12845_c0\n",
      "rxn08820_c0\n",
      "rxn05494_c0\n",
      "rxn05380_c0\n",
      "rxn05347_c0\n",
      "rxn06077_c0\n",
      "rxn04413_c0\n",
      "rxn00404_c0\n",
      "rxn03897_c0\n",
      "rxn00145_c0\n",
      "rxn08126_c0\n",
      "rxn03407_c0\n",
      "rxn08547_c0\n",
      "rxn05143_c0\n",
      "rxn05732_c0\n",
      "rxn05388_c0\n",
      "rxn02527_c0\n",
      "rxn01870_c0\n",
      "rxn08901_c0\n",
      "rxn00113_c0\n",
      "rxn04736_c0\n",
      "rxn00497_c0\n",
      "rxn00137_c0\n",
      "rxn06023_c0\n",
      "rxn03481_c0\n",
      "rxn00611_c0\n",
      "rxn07435_c0\n",
      "rxn01678_c0\n",
      "rxn02286_c0\n",
      "rxn00394_c0\n",
      "rxn00872_c0\n",
      "rxn05919_c0\n",
      "rxn00832_c0\n",
      "rxn04599_c0\n",
      "rxn05871_c0\n",
      "rxn01106_c0\n",
      "rxn12640_c0\n",
      "rxn00690_c0\n",
      "rxn08438_c0\n",
      "rxn00931_c0\n",
      "rxn06771_c0\n",
      "rxn02418_c0\n",
      "rxn08756_c0\n",
      "rxn10012_c0\n",
      "rxn09450_c0\n",
      "rxn00938_c0\n",
      "rxn04938_c0\n",
      "rxn00412_c0\n",
      "rxn02339_c0\n",
      "rxn00326_c0\n",
      "rxn00650_c0\n",
      "rxn10094_c0\n",
      "rxn03167_c0\n",
      "rxn05152_c0\n",
      "rxn02737_c0\n",
      "rxn01103_c0\n",
      "rxn01313_c0\n",
      "rxn04604_c0\n",
      "rxn07481_c0\n",
      "rxn00515_c0\n",
      "rxn08846_c0\n",
      "rxn05397_c0\n",
      "rxn03005_c0\n",
      "rxn05012_c0\n",
      "rxn03437_c0\n",
      "rxn01353_c0\n",
      "rxn10235_c0\n",
      "rxn02940_c0\n",
      "rxn12633_c0\n",
      "rxn00882_c0\n",
      "rxn03244_c0\n",
      "rxn04139_c0\n",
      "rxn00616_c0\n",
      "rxn00552_c0\n",
      "rxn01639_c0\n",
      "rxn05409_c0\n",
      "rxn06723_c0\n",
      "rxn00313_c0\n",
      "rxn02949_c0\n",
      "rxn06570_c0\n",
      "rxn00735_c0\n",
      "rxn04278_c0\n",
      "rxn00775_c0\n",
      "rxn02680_c0\n",
      "rxn05405_c0\n",
      "rxn10571_c0\n",
      "rxn02290_c0\n",
      "rxn05363_c0\n",
      "rxn00547_c0\n",
      "rxn01192_c0\n",
      "rxn04750_c0\n",
      "rxn05325_c0\n",
      "rxn14229_c0\n",
      "rxn08647_c0\n",
      "rxn11040_c0\n",
      "rxn03842_c0\n",
      "rxn02760_c0\n",
      "rxn05610_c0\n",
      "rxn03366_c0\n",
      "rxn02421_c0\n",
      "rxn10042_c0\n",
      "rxn08803_c0\n",
      "rxn01053_c0\n",
      "rxn02312_c0\n",
      "rxn08025_c0\n",
      "rxn00622_c0\n",
      "rxn06062_c0\n",
      "rxn03422_c0\n",
      "rxn02895_c0\n",
      "rxn02934_c0\n",
      "rxn08089_c0\n",
      "rxn07688_c0\n",
      "rxn00189_c0\n",
      "rxn10269_c0\n",
      "rxn02508_c0\n",
      "rxn00543_c0\n",
      "rxn00428_c0\n",
      "rxn09992_c0\n",
      "rxn10340_c0\n",
      "rxn00420_c0\n",
      "rxn01500_c0\n",
      "rxn10253_c0\n",
      "rxn10207_c0\n",
      "rxn10221_c0\n",
      "rxn02792_c0\n",
      "rxn05451_c0\n",
      "rxn10476_c0\n",
      "rxn00469_c0\n",
      "rxn10266_c0\n",
      "rxn02804_c0\n",
      "rxn05005_c0\n",
      "rxn02795_c0\n",
      "rxn10203_c0\n",
      "rxn02939_c0\n",
      "rxn00048_c0\n",
      "rxn07876_c0\n",
      "rxn12191_c0\n",
      "rxn05231_c0\n",
      "rxn09200_c0\n",
      "rxn00283_c0\n",
      "rxn11722_c0\n",
      "rxn00726_c0\n",
      "rxn00379_c0\n",
      "rxn01025_c0\n",
      "rxn08851_c0\n",
      "rxn05330_c0\n",
      "rxn02155_c0\n",
      "rxn05549_c0\n",
      "rxn02187_c0\n",
      "rxn02866_c0\n",
      "rxn09102_c0\n",
      "rxn02228_c0\n",
      "rxn11968_c0\n",
      "rxn01754_c0\n",
      "rxn08552_c0\n",
      "rxn05170_c0\n",
      "rxn01390_c0\n",
      "rxn02475_c0\n",
      "rxn00575_c0\n",
      "rxn05339_c0\n",
      "rxn05460_c0\n",
      "rxn02614_c0\n",
      "rxn04325_c0\n",
      "rxn03108_c0\n",
      "rxn10313_c0\n",
      "rxn07449_c0\n",
      "rxn00675_c0\n",
      "rxn01018_c0\n",
      "rxn04132_c0\n",
      "rxn05236_c0\n",
      "rxn00914_c0\n",
      "rxn08813_c0\n",
      "rxn05602_c0\n",
      "rxn00124_c0\n",
      "rxn10219_c0\n",
      "rxn03990_c0\n",
      "rxn11801_c0\n",
      "rxn08793_c0\n",
      "rxn00947_c0\n",
      "rxn02971_c0\n",
      "rxn03247_c0\n",
      "rxn10210_c0\n",
      "rxn00278_c0\n",
      "rxn01017_c0\n",
      "rxn01476_c0\n",
      "rxn00205_c0\n",
      "rxn02576_c0\n",
      "rxn03146_c0\n",
      "rxn03893_c0\n",
      "rxn02789_c0\n",
      "rxn01370_c0\n",
      "rxn07099_c0\n",
      "rxn00988_c0\n",
      "rxn01156_c0\n",
      "rxn01600_c0\n",
      "rxn05455_c0\n",
      "rxn00410_c0\n",
      "rxn03063_c0\n",
      "rxn01333_c0\n",
      "rxn02925_c0\n",
      "rxn10257_c0\n",
      "rxn06586_c0\n",
      "rxn06394_c0\n",
      "rxn12510_c0\n",
      "rxn03933_c0\n",
      "rxn04780_c0\n",
      "rxn07684_c0\n",
      "rxn05342_c0\n",
      "rxn00486_c0\n",
      "rxn05146_c0\n",
      "rxn00414_c0\n",
      "rxn09110_c0\n",
      "rxn00529_c0\n",
      "rxn03970_c0\n",
      "rxn00159_c0\n",
      "rxn05349_c0\n",
      "rxn00303_c0\n",
      "rxn00799_c0\n",
      "rxn03611_c0\n",
      "rxn01977_c0\n",
      "rxn01073_c0\n",
      "rxn02405_c0\n",
      "rxn00011_c0\n",
      "rxn07430_c0\n",
      "rxn01986_c0\n",
      "rxn02200_c0\n",
      "rxn01069_c0\n",
      "rxn05528_c0\n",
      "rxn00791_c0\n",
      "rxn03150_c0\n",
      "rxn00065_c0\n",
      "rxn00365_c0\n",
      "rxn04676_c0\n",
      "rxn08783_c0\n",
      "rxn01827_c0\n",
      "rxn00358_c0\n",
      "rxn02321_c0\n",
      "rxn02263_c0\n",
      "rxn05181_c0\n",
      "rxn05312_c0\n",
      "rxn08975_c0\n",
      "rxn01646_c0\n",
      "rxn06386_c0\n",
      "rxn03378_c0\n",
      "rxn00105_c0\n",
      "rxn03243_c0\n",
      "rxn03446_c0\n",
      "rxn01302_c0\n",
      "rxn00230_c0\n",
      "rxn00607_c0\n",
      "rxn00101_c0\n",
      "rxn02130_c0\n",
      "rxn00223_c0\n",
      "rxn05215_c0\n",
      "rxn00784_c0\n",
      "rxn07363_c0\n",
      "rxn05029_c0\n",
      "rxn00368_c0\n",
      "rxn03273_c0\n",
      "rxn05393_c0\n",
      "rxn01537_c0\n",
      "rxn04603_c0\n",
      "rxn00510_c0\n",
      "rxn00328_c0\n",
      "rxn02285_c0\n",
      "rxn02303_c0\n",
      "rxn03087_c0\n",
      "rxn00227_c0\n",
      "rxn03047_c0\n",
      "rxn02889_c0\n",
      "rxn05663_c0\n",
      "rxn01109_c0\n",
      "rxn08848_c0\n",
      "rxn03934_c0\n",
      "rxn07883_c0\n",
      "rxn00691_c0\n",
      "rxn08840_c0\n",
      "rxn00807_c0\n",
      "rxn05559_c0\n",
      "rxn03923_c0\n",
      "rxn06577_c0\n",
      "rxn03907_c0\n",
      "rxn01987_c0\n",
      "rxn03538_c0\n",
      "rxn09310_c0\n",
      "rxn02834_c0\n",
      "rxn01213_c0\n",
      "rxn06647_c0\n",
      "rxn09953_c0\n",
      "rxn03860_c0\n",
      "rxn00459_c0\n",
      "rxn02085_c0\n",
      "rxn03932_c0\n",
      "rxn12851_c0\n",
      "rxn00770_c0\n",
      "rxn10334_c0\n",
      "rxn05153_c0\n",
      "rxn01314_c0\n",
      "rxn02318_c0\n",
      "rxn08806_c0\n",
      "rxn05195_c0\n",
      "rxn05209_c0\n",
      "rxn06377_c0\n",
      "rxn02359_c0\n",
      "rxn10234_c0\n",
      "rxn05059_c0\n",
      "rxn00175_c0\n",
      "rxn00427_c0\n",
      "rxn01366_c0\n",
      "rxn10121_c0\n",
      "rxn06197_c0\n",
      "rxn01208_c0\n",
      "rxn05165_c0\n",
      "rxn10163_c0\n",
      "rxn10310_c0\n",
      "rxn01143_c0\n",
      "rxn01647_c0\n",
      "rxn10474_c0\n",
      "rxn00260_c0\n",
      "rxn10128_c0\n",
      "rxn10120_c0\n",
      "rxn07454_c0\n",
      "rxn00461_c0\n",
      "rxn05613_c0\n",
      "rxn06037_c0\n",
      "rxn00817_c0\n",
      "rxn00181_c0\n",
      "rxn00669_c0\n",
      "rxn05247_c0\n",
      "rxn11760_c0\n",
      "rxn02460_c0\n",
      "rxn00858_c0\n",
      "rxn03136_c0\n",
      "rxn00222_c0\n",
      "rxn10229_c0\n",
      "rxn12052_c0\n",
      "rxn05287_c0\n",
      "rxn01387_c0\n",
      "rxn00818_c0\n",
      "rxn11727_c0\n",
      "rxn09101_c0\n",
      "rxn02693_c0\n",
      "rxn02937_c0\n",
      "rxn08088_c0\n",
      "rxn00540_c0\n",
      "rxn08810_c0\n",
      "rxn03467_c0\n",
      "rxn01652_c0\n",
      "rxn01615_c0\n",
      "rxn03541_c0\n",
      "rxn00350_c0\n",
      "rxn03137_c0\n",
      "rxn10343_c0\n",
      "rxn05544_c0\n",
      "rxn08087_c0\n",
      "rxn01437_c0\n",
      "rxn01115_c0\n",
      "rxn08818_c0\n",
      "rxn00992_c0\n",
      "rxn10267_c0\n",
      "rxn01128_c0\n",
      "rxn05239_c0\n",
      "rxn08312_c0\n",
      "rxn00952_c0\n",
      "rxn01396_c0\n",
      "rxn00161_c0\n",
      "rxn01961_c0\n",
      "rxn01517_c0\n",
      "rxn00371_c0\n",
      "rxn06750_c0\n",
      "rxn07653_c0\n",
      "rxn10226_c0\n",
      "rxn09978_c0\n",
      "rxn08040_c0\n",
      "rxn09211_c0\n",
      "rxn01807_c0\n",
      "rxn05006_c0\n",
      "rxn01049_c0\n",
      "rxn06874_c0\n",
      "rxn01840_c0\n",
      "rxn11599_c0\n",
      "rxn12206_c0\n",
      "rxn05331_c0\n",
      "rxn01800_c0\n",
      "rxn02107_c0\n",
      "rxn08309_c0\n",
      "rxn05379_c0\n",
      "rxn03060_c0\n",
      "rxn02476_c0\n",
      "rxn01512_c0\n",
      "rxn03841_c0\n",
      "rxn00866_c0\n",
      "rxn04954_c0\n",
      "rxn06865_c0\n",
      "rxn01279_c0\n",
      "rxn03249_c0\n",
      "rxn04113_c0\n",
      "rxn00676_c0\n",
      "rxn05551_c0\n",
      "rxn00713_c0\n",
      "rxn06515_c0\n",
      "rxn10218_c0\n",
      "rxn01257_c0\n",
      "rxn09272_c0\n",
      "rxn02970_c0\n",
      "rxn03693_c0\n",
      "rxn03845_c0\n",
      "rxn00903_c0\n",
      "rxn00980_c0\n",
      "rxn00056_c0\n",
      "rxn00016_c0\n",
      "rxn01216_c0\n",
      "rxn14282_c0\n",
      "rxn03991_c0\n",
      "rxn02213_c0\n",
      "rxn03365_c0\n",
      "rxn03892_c0\n",
      "rxn00086_c0\n",
      "rxn03871_c0\n",
      "rxn00680_c0\n",
      "rxn04989_c0\n",
      "rxn05454_c0\n",
      "rxn01127_c0\n",
      "rxn01461_c0\n",
      "rxn05537_c0\n",
      "rxn04908_c0\n",
      "rxn05226_c0\n",
      "rxn08548_c0\n",
      "rxn06314_c0\n",
      "rxn00615_c0\n",
      "rxn06160_c0\n",
      "rxn02521_c0\n",
      "rxn04674_c0\n",
      "rxn00569_c0\n",
      "rxn00332_c0\n",
      "rxn05341_c0\n",
      "rxn00406_c0\n",
      "rxn03393_c0\n",
      "rxn03979_c0\n",
      "rxn06805_c0\n",
      "rxn01305_c0\n",
      "rxn06168_c0\n",
      "rxn03971_c0\n",
      "rxn10206_c0\n",
      "rxn00083_c0\n",
      "rxn01626_c0\n",
      "rxn00291_c0\n",
      "rxn00495_c0\n",
      "rxn06870_c0\n",
      "rxn07438_c0\n",
      "rxn00743_c0\n",
      "rxn10202_c0\n",
      "rxn06735_c0\n",
      "rxn02248_c0\n",
      "rxn03483_c0\n",
      "rxn06804_c0\n",
      "rxn03236_c0\n",
      "rxn02247_c0\n",
      "rxn01265_c0\n",
      "rxn00874_c0\n",
      "rxn00834_c0\n",
      "rxn00782_c0\n",
      "rxn06540_c0\n",
      "rxn05189_c0\n",
      "rxn00704_c0\n",
      "rxn08703_c0\n",
      "rxn01459_c0\n",
      "rxn05252_c0\n",
      "rxn01671_c0\n",
      "rxn02362_c0\n",
      "rxn05627_c0\n",
      "rxn12642_c0\n",
      "rxn05313_c0\n",
      "rxn05154_c0\n",
      "rxn10339_c0\n",
      "rxn10010_c0\n",
      "rxn11702_c0\n",
      "rxn07673_c0\n",
      "rxn01332_c0\n",
      "rxn08433_c0\n",
      "rxn01510_c0\n",
      "rxn01230_c0\n",
      "rxn01530_c0\n",
      "rxn01499_c0\n",
      "rxn00320_c0\n",
      "rxn00785_c0\n",
      "rxn00693_c0\n",
      "rxn03909_c0\n",
      "rxn10806_c0\n",
      "rxn01101_c0\n",
      "rxn04602_c0\n",
      "rxn00355_c0\n",
      "rxn02900_c0\n",
      "rxn03084_c0\n",
      "rxn10233_c0\n",
      "rxn06600_c0\n",
      "rxn00216_c0\n",
      "rxn11961_c0\n",
      "rxn06728_c0\n",
      "rxn02005_c0\n",
      "rxn08808_c0\n",
      "rxn00558_c0\n",
      "rxn12635_c0\n",
      "rxn00346_c0\n",
      "rxn05297_c0\n",
      "rxn04726_c0\n",
      "rxn00550_c0\n",
      "rxn07841_c0\n",
      "rxn01703_c0\n",
      "rxn01859_c0\n",
      "rxn00194_c0\n",
      "rxn00806_c0\n",
      "rxn07370_c0\n",
      "rxn05328_c0\n",
      "rxn05160_c0\n",
      "rxn05024_c0\n",
      "rxn01851_c0\n",
      "rxn08178_c0\n",
      "rxn11834_c0\n",
      "rxn05201_c0\n",
      "rxn09449_c0\n",
      "rxn05323_c0\n",
      "rxn02604_c0\n",
      "rxn03002_c0\n",
      "rxn00314_c0\n",
      "rxn05538_c0\n",
      "rxn05616_c0\n",
      "rxn08805_c0\n",
      "rxn01507_c0\n",
      "rxn01790_c0\n",
      "rxn05651_c0\n",
      "rxn00077_c0\n",
      "rxn01388_c0\n",
      "rxn02391_c0\n",
      "rxn03638_c0\n",
      "rxn02897_c0\n",
      "rxn05126_c0\n",
      "rxn10217_c0\n",
      "rxn01446_c0\n",
      "rxn10309_c0\n",
      "rxn05249_c0\n",
      "rxn01816_c0\n",
      "rxn02056_c0\n",
      "rxn10043_c0\n",
      "rxn03980_c0\n",
      "rxn01068_c0\n",
      "rxn02277_c0\n",
      "rxn06322_c0\n",
      "rxn10223_c0\n",
      "rxn04658_c0\n",
      "rxn02596_c0\n",
      "rxn00991_c0\n",
      "rxn10260_c0\n",
      "rxn03915_c0\n",
      "rxn00166_c0\n",
      "rxn03242_c0\n",
      "rxn00541_c0\n",
      "rxn01924_c0\n",
      "rxn03075_c0\n",
      "rxn01368_c0\n",
      "rxn00629_c0\n",
      "rxn00134_c0\n",
      "rxn01480_c0\n",
      "rxn09199_c0\n",
      "rxn11768_c0\n",
      "rxn05233_c0\n",
      "rxn09109_c0\n",
      "rxn00141_c0\n",
      "rxn02003_c0\n",
      "rxn07056_c0\n",
      "rxn05375_c0\n",
      "rxn14294_c0\n",
      "rxn01200_c0\n",
      "rxn00186_c0\n",
      "rxn08558_c0\n",
      "rxn01241_c0\n",
      "rxn00130_c0\n",
      "rxn11720_c0\n",
      "rxn00859_c0\n",
      "rxn11761_c0\n",
      "rxn05332_c0\n",
      "rxn00438_c0\n",
      "rxn04744_c0\n",
      "rxn00288_c0\n",
      "rxn02185_c0\n",
      "rxn00763_c0\n",
      "rxn08550_c0\n",
      "rxn08811_c0\n",
      "rxn02473_c0\n",
      "rxn01275_c0\n",
      "rxn10174_c0\n",
      "rxn06690_c0\n",
      "rxn10315_c0\n",
      "rxn01434_c0\n",
      "rxn00912_c0\n",
      "rxn05644_c0\n",
      "rxn12147_c0\n",
      "rxn08819_c0\n",
      "rxn02345_c0\n",
      "rxn06798_c0\n",
      "rxn03849_c0\n",
      "rxn03512_c0\n",
      "rxn00122_c0\n",
      "rxn09979_c0\n",
      "rxn06076_c0\n",
      "rxn00985_c0\n",
      "rxn10212_c0\n",
      "rxn01011_c0\n",
      "rxn12849_c0\n",
      "rxn10132_c0\n",
      "rxn05301_c0\n",
      "rxn08294_c0\n",
      "rxn05179_c0\n",
      "rxn10259_c0\n",
      "rxn01602_c0\n",
      "rxn07720_c0\n",
      "rxn08094_c0\n",
      "rxn02302_c0\n"
     ]
    },
    {
     "name": "stdout",
     "output_type": "stream",
     "text": [
      "rxn03068_c0\n",
      "rxn02100_c0\n",
      "rxn00794_c0\n",
      "rxn01761_c0\n",
      "rxn06313_c0\n",
      "rxn03061_c0\n",
      "rxn02927_c0\n",
      "rxn05344_c0\n",
      "rxn00114_c0\n",
      "rxn03241_c0\n",
      "rxn01521_c0\n",
      "rxn12636_c0\n",
      "rxn03394_c0\n",
      "rxn11759_c0\n",
      "rxn05414_c0\n",
      "rxn05596_c0\n",
      "rxn02700_c0\n",
      "rxn00338_c0\n",
      "rxn05384_c0\n",
      "rxn01975_c0\n",
      "rxn00700_c0\n",
      "rxn02373_c0\n",
      "rxn01893_c0\n",
      "rxn01649_c0\n",
      "rxn03094_c0\n",
      "rxn00085_c0\n",
      "rxn01737_c0\n",
      "rxn00119_c0\n",
      "rxn02529_c0\n",
      "rxn00709_c0\n",
      "rxn07432_c0\n",
      "rxn11749_c0\n",
      "rxn04453_c0\n",
      "rxn07169_c0\n",
      "rxn08549_c0\n",
      "rxn08179_c0\n",
      "rxn00608_c0\n",
      "rxn05468_c0\n",
      "rxn09345_c0\n",
      "rxn02174_c0\n",
      "rxn01466_c0\n",
      "rxn05187_c0\n",
      "rxn02957_c0\n",
      "rxn01304_c0\n",
      "rxn03409_c0\n",
      "rxn09692_c0\n",
      "rxn01674_c0\n",
      "rxn00974_c0\n",
      "rxn02962_c0\n",
      "rxn04601_c0\n",
      "rxn01948_c0\n",
      "rxn03882_c0\n",
      "rxn02008_c0\n",
      "rxn05740_c0\n",
      "rxn03601_c0\n",
      "rxn09203_c0\n",
      "rxn03904_c0\n",
      "rxn01225_c0\n",
      "rxn01679_c0\n",
      "rxn04039_c0\n",
      "rxn07842_c0\n",
      "rxn01171_c0\n",
      "rxn03931_c0\n",
      "rxn00835_c0\n",
      "rxn04649_c0\n",
      "rxn02288_c0\n",
      "rxn10199_c0\n",
      "rxn00783_c0\n",
      "rxn00409_c0\n",
      "rxn02831_c0\n",
      "rxn07885_c0\n",
      "rxn00598_c0\n",
      "rxn01455_c0\n",
      "rxn05534_c0\n",
      "rxn01258_c0\n",
      "rxn08842_c0\n",
      "rxn01538_c0\n",
      "rxn05669_c0\n",
      "rxn02128_c0\n",
      "rxn00778_c0\n",
      "rxn03901_c0\n",
      "rxn01985_c0\n",
      "rxn00808_c0\n",
      "rxn10013_c0\n",
      "rxn02832_c0\n",
      "rxn01747_c0\n",
      "rxn10052_c0\n",
      "rxn07672_c0\n",
      "rxn04133_c0\n",
      "rxn05540_c0\n",
      "rxn00193_c0\n",
      "rxn02517_c0\n",
      "rxn05326_c0\n",
      "rxn06760_c0\n",
      "rxn04840_c0\n",
      "rxn05197_c0\n",
      "rxn00653_c0\n",
      "rxn02907_c0\n",
      "rxn06372_c0\n",
      "rxn00929_c0\n",
      "rxn08800_c0\n",
      "rxn14264_c0\n",
      "rxn04682_c0\n",
      "rxn11892_c0\n",
      "rxn02166_c0\n",
      "rxn00256_c0\n",
      "rxn08335_c0\n",
      "rxn03004_c0\n",
      "rxn10232_c0\n",
      "rxn00138_c0\n",
      "rxn05536_c0\n",
      "rxn06729_c0\n",
      "rxn00921_c0\n",
      "rxn05168_c0\n",
      "rxn02015_c0\n",
      "rxn05546_c0\n",
      "rxn00347_c0\n",
      "rxn05054_c0\n",
      "rxn02167_c0\n",
      "rxn05368_c0\n",
      "rxn01858_c0\n",
      "rxn01621_c0\n",
      "rxn05128_c0\n",
      "rxn10127_c0\n",
      "rxn10770_c0\n",
      "rxn04654_c0\n",
      "rxn10161_c0\n",
      "rxn05089_c0\n",
      "rxn05360_c0\n",
      "rxn02297_c0\n",
      "rxn07901_c0\n",
      "rxn05421_c0\n",
      "rxn01799_c0\n",
      "rxn00897_c0\n",
      "rxn01485_c0\n",
      "rxn09104_c0\n",
      "rxn05206_c0\n",
      "rxn02190_c0\n",
      "rxn03031_c0\n",
      "rxn09207_c0\n",
      "rxn09296_c0\n",
      "rxn00239_c0\n",
      "rxn00441_c0\n",
      "rxn00302_c0\n",
      "rxn02465_c0\n",
      "rxn03130_c0\n",
      "rxn01791_c0\n",
      "rxn00183_c0\n",
      "rxn07900_c0\n",
      "rxn00623_c0\n",
      "rxn09107_c0\n",
      "rxn03333_c0\n",
      "rxn11725_c0\n",
      "rxn10308_c0\n",
      "rxn06526_c0\n",
      "rxn05543_c0\n",
      "rxn03465_c0\n",
      "rxn01329_c0\n",
      "rxn00950_c0\n",
      "rxn00002_c0\n",
      "rxn02507_c0\n",
      "rxn10268_c0\n",
      "rxn00542_c0\n",
      "rxn01029_c0\n",
      "rxn10341_c0\n",
      "rxn05937_c0\n",
      "rxn10220_c0\n",
      "rxn10261_c0\n",
      "rxn00990_c0\n",
      "rxn01964_c0\n",
      "rxn08816_c0\n",
      "rxn02341_c0\n",
      "rxn03511_c0\n",
      "rxn01923_c0\n",
      "rxn06591_c0\n",
      "rxn01519_c0\n",
      "rxn01137_c0\n",
      "rxn01343_c0\n",
      "rxn07655_c0\n",
      "rxn01080_c0\n",
      "rxn10255_c0\n",
      "rxn02063_c0\n",
      "rxn08797_c0\n",
      "rxn06038_c0\n",
      "rxn05232_c0\n",
      "rxn06759_c0\n",
      "rxn09108_c0\n",
      "rxn00224_c0\n",
      "rxn14293_c0\n",
      "rxn03323_c0\n",
      "rxn01513_c0\n",
      "rxn05372_c0\n",
      "rxn05333_c0\n",
      "rxn06510_c0\n",
      "rxn02105_c0\n",
      "rxn02186_c0\n",
      "rxn08307_c0\n",
      "rxn11612_c0\n",
      "rxn05177_c0\n",
      "rxn05426_c0\n",
      "rxn00209_c0\n",
      "rxn01274_c0\n",
      "rxn02474_c0\n",
      "rxn02230_c0\n",
      "rxn03246_c0\n",
      "rxn04783_c0\n",
      "rxn06517_c0\n",
      "rxn02144_c0\n",
      "rxn00604_c0\n",
      "rxn12645_c0\n",
      "rxn00274_c0\n",
      "rxn03109_c0\n",
      "rxn10312_c0\n",
      "rxn07448_c0\n",
      "rxn00674_c0\n",
      "rxn07359_c0\n",
      "rxn00715_c0\n",
      "rxn01019_c0\n",
      "rxn06335_c0\n",
      "rxn08849_c0\n",
      "rxn09448_c0\n",
      "rxn09208_c0\n",
      "rxn05305_c0\n",
      "rxn10211_c0\n",
      "rxn00014_c0\n",
      "rxn06584_c0\n",
      "rxn00202_c0\n",
      "rxn05593_c0\n",
      "rxn08295_c0\n",
      "rxn02914_c0\n",
      "rxn01603_c0\n",
      "rxn00055_c0\n",
      "rxn00686_c0\n",
      "rxn00905_c0\n",
      "rxn05456_c0\n",
      "rxn02409_c0\n",
      "rxn09112_c0\n",
      "rxn00157_c0\n",
      "rxn03194_c0\n",
      "rxn06075_c0\n",
      "rxn03898_c0\n",
      "rxn00689_c0\n",
      "rxn08129_c0\n",
      "rxn01286_c0\n",
      "rxn05289_c0\n",
      "rxn01973_c0\n",
      "rxn05467_c0\n",
      "rxn00117_c0\n",
      "rxn05343_c0\n",
      "rxn01520_c0\n",
      "rxn05425_c0\n",
      "rxn03395_c0\n",
      "rxn00330_c0\n",
      "rxn05736_c0\n",
      "rxn03445_c0\n",
      "rxn01641_c0\n",
      "rxn11663_c0\n",
      "rxn00493_c0\n",
      "rxn00933_c0\n",
      "rxn08298_c0\n",
      "rxn01834_c0\n",
      "rxn00293_c0\n",
      "rxn00948_c0\n",
      "rxn05383_c0\n",
      "rxn00741_c0\n",
      "rxn11584_c0\n",
      "rxn00839_c0\n",
      "rxn03838_c0\n",
      "rxn03439_c0\n",
      "rxn05390_c0\n",
      "rxn05386_c0\n",
      "rxn10473_c0\n",
      "rxn05435_c0\n",
      "rxn05391_c0\n",
      "rxn00851_c0\n",
      "rxn05329_c0\n",
      "rxn08618_c0\n",
      "rxn08620_c0\n",
      "rxn05433_c0\n",
      "rxn05438_c0\n",
      "rxn03916_c0\n",
      "rxn00979_c0\n",
      "rxn03918_c0\n",
      "rxn05437_c0\n",
      "rxn02774_c0\n",
      "rxn03164_c0\n",
      "rxn08619_c0\n",
      "rxn03917_c0\n",
      "rxn06848_c0\n",
      "rxn02404_c0\n",
      "rxn08712_c0\n",
      "rxn08708_c0\n",
      "rxn08709_c0\n",
      "rxn05434_c0\n",
      "rxn05444_c0\n",
      "rxn05361_c0\n",
      "rxn05514_c0\n",
      "rxn05406_c0\n",
      "rxn05039_c0\n",
      "rxn05365_c0\n",
      "rxn05398_c0\n",
      "rxn03182_c0\n",
      "rxn05369_c0\n",
      "rxn05402_c0\n",
      "rxn05381_c0\n",
      "rxn08583_c0\n",
      "rxn05436_c0\n",
      "rxn05443_c0\n",
      "rxn05439_c0\n",
      "rxn08954_c0\n",
      "rxn08333_c0\n",
      "rxn05441_c0\n",
      "rxn05394_c0\n",
      "rxn05373_c0\n",
      "rxn05442_c0\n",
      "rxn09225_c0\n",
      "rxn05618_c0\n",
      "rxn05377_c0\n",
      "rxn08713_c0\n",
      "bio1\n",
      "EX_cpd00067_e0\n",
      "EX_cpd00182_e0\n",
      "EX_cpd00106_e0\n",
      "EX_cpd00075_e0\n",
      "EX_cpd00064_e0\n",
      "EX_cpd08636_c0\n",
      "EX_cpd00036_e0\n",
      "EX_cpd11576_e0\n",
      "EX_cpd04097_e0\n",
      "EX_cpd11585_e0\n",
      "EX_cpd00412_e0\n",
      "EX_cpd11582_e0\n",
      "EX_cpd00012_e0\n",
      "EX_cpd11586_e0\n",
      "EX_cpd01030_e0\n",
      "EX_cpd00129_e0\n",
      "EX_cpd00971_e0\n",
      "EX_cpd01012_e0\n",
      "EX_cpd00635_e0\n",
      "EX_cpd00246_e0\n",
      "EX_cpd00276_e0\n",
      "EX_cpd00082_e0\n",
      "EX_cpd00001_e0\n",
      "EX_cpd00023_e0\n",
      "EX_cpd00367_e0\n",
      "EX_cpd00058_e0\n",
      "EX_cpd00080_e0\n",
      "EX_cpd00107_e0\n",
      "EX_cpd00184_e0\n",
      "EX_cpd00314_e0\n",
      "EX_cpd01017_e0\n",
      "EX_cpd00797_e0\n",
      "EX_cpd00013_e0\n",
      "EX_cpd00051_e0\n",
      "EX_cpd10515_e0\n",
      "EX_cpd00308_e0\n",
      "EX_cpd00179_e0\n",
      "EX_cpd00100_e0\n",
      "EX_cpd11591_e0\n",
      "EX_cpd00009_e0\n",
      "EX_cpd00060_e0\n",
      "EX_cpd00438_e0\n",
      "EX_cpd00034_e0\n",
      "EX_cpd00249_e0\n",
      "EX_cpd00214_e0\n",
      "EX_cpd00119_e0\n",
      "EX_cpd11593_e0\n",
      "EX_cpd00654_e0\n",
      "EX_cpd00076_e0\n",
      "EX_cpd00322_e0\n",
      "EX_cpd01171_e0\n",
      "EX_cpd00210_e0\n",
      "EX_cpd15302_c0\n",
      "EX_cpd15605_e0\n",
      "EX_cpd00264_e0\n",
      "EX_cpd00054_e0\n",
      "EX_cpd00644_e0\n",
      "EX_cpd00637_e0\n",
      "EX_cpd00041_e0\n",
      "EX_cpd00122_e0\n",
      "EX_cpd00035_e0\n",
      "EX_cpd15603_e0\n",
      "EX_cpd00039_e0\n",
      "EX_cpd03696_e0\n",
      "EX_cpd00277_e0\n",
      "EX_cpd00118_e0\n",
      "EX_cpd00309_e0\n",
      "EX_cpd11580_e0\n",
      "EX_cpd01092_e0\n",
      "EX_cpd03343_e0\n",
      "EX_cpd03279_e0\n",
      "EX_cpd00224_e0\n",
      "EX_cpd01262_e0\n",
      "EX_cpd00137_e0\n",
      "EX_cpd10516_e0\n",
      "EX_cpd00588_e0\n",
      "EX_cpd00423_e0\n",
      "EX_cpd00117_e0\n",
      "EX_cpd00254_e0\n",
      "EX_cpd00138_e0\n",
      "EX_cpd02701_c0\n",
      "EX_cpd01242_e0\n",
      "EX_cpd00159_e0\n",
      "EX_cpd00540_e0\n",
      "EX_cpd00065_e0\n",
      "EX_cpd00047_e0\n",
      "EX_cpd15606_e0\n",
      "EX_cpd00048_e0\n",
      "EX_cpd03847_e0\n",
      "EX_cpd00149_e0\n",
      "EX_cpd15353_e0\n",
      "EX_cpd15352_e0\n",
      "EX_cpd01914_e0\n",
      "EX_cpd00531_e0\n",
      "EX_cpd11583_e0\n",
      "EX_cpd00162_e0\n",
      "EX_cpd11589_e0\n",
      "EX_cpd00027_e0\n",
      "EX_cpd03725_e0\n",
      "EX_cpd00209_e0\n",
      "EX_cpd00794_e0\n",
      "EX_cpd00105_e0\n",
      "EX_cpd00226_e0\n",
      "EX_cpd11588_e0\n",
      "EX_cpd01329_e0\n",
      "EX_cpd15604_e0\n",
      "EX_cpd01015_e0\n",
      "EX_cpd00069_e0\n",
      "EX_cpd00205_e0\n",
      "EX_cpd00007_e0\n",
      "EX_cpd03424_e0\n",
      "EX_cpd00098_e0\n",
      "EX_cpd11592_e0\n",
      "EX_cpd00156_e0\n",
      "EX_cpd11587_e0\n",
      "EX_cpd00092_e0\n",
      "EX_cpd11590_e0\n",
      "EX_cpd11581_e0\n",
      "EX_cpd15499_e0\n",
      "EX_cpd15500_e0\n",
      "EX_cpd01080_e0\n",
      "EX_cpd11584_e0\n",
      "EX_cpd00305_e0\n",
      "EX_cpd00121_e0\n",
      "EX_cpd00011_e0\n",
      "EX_cpd11416_c0\n",
      "EX_cpd00099_e0\n",
      "EX_cpd00063_e0\n",
      "EX_cpd00030_e0\n"
     ]
    }
   ],
   "source": [
    "print ('This is the total amount of reactions in the model: %i' % (len(model.reactions)))\n",
    "\n",
    "print ('We focus on mapping those %i reactions in the model that have an MNXR ID' % (len([met for met in model.reactions if met.id.startswith('MNXR') ])))\n",
    "\n",
    "for met in model.reactions:\n",
    "    if not met.id.startswith('MNXR'):\n",
    "        print(met.id)"
   ]
  },
  {
   "cell_type": "code",
   "execution_count": 6,
   "metadata": {},
   "outputs": [
    {
     "name": "stdout",
     "output_type": "stream",
     "text": [
      "0\n",
      "1906\n"
     ]
    }
   ],
   "source": [
    "bigg_reactions = [rxn for rxn in model.reactions if rxn.id.startswith('MNXR')]\n",
    "\n",
    "print (len(bigg_reactions))\n",
    "print (len(model.reactions))"
   ]
  },
  {
   "cell_type": "code",
   "execution_count": null,
   "metadata": {},
   "outputs": [],
   "source": [
    "#skip\n",
    "rxn_mnx2bigg = []\n",
    "rxn_nobiggid = []\n",
    "\n",
    "for rxn in [rxn for rxn in model.reactions if rxn.id.startswith('MNXR')]:\n",
    "    if 'bigg' in rxn.annotation:\n",
    "        reaction_id = rxn.annotation['BIGG'][0].split(', ')\n",
    "        tag_split = rxn.id.split('_')\n",
    "        rxn.id = str(reaction_id[0]) +'_'+ tag_split[1]\n",
    "        rxn_mnx2bigg.append(reaction_id)\n",
    "        cameo_model.repair()\n",
    "    else:\n",
    "        rxn_nobiggid.append(rxn)\n",
    "        \n",
    "print len(rxn_mnx2bigg)\n",
    "print len(rxn_nobiggid)"
   ]
  },
  {
   "cell_type": "markdown",
   "metadata": {},
   "source": [
    "### Formatting and creating Bigg MNX dictionary"
   ]
  },
  {
   "cell_type": "code",
   "execution_count": 7,
   "metadata": {},
   "outputs": [
    {
     "data": {
      "text/plain": [
       "{'MNXR01': {'metanetx': ['MNXR01'],\n",
       "  'bigg': nan,\n",
       "  'deprecated': nan,\n",
       "  'kegg': nan,\n",
       "  'seed': nan,\n",
       "  'metacyc': nan,\n",
       "  'rhea': nan,\n",
       "  'sabiork': nan,\n",
       "  'reactome': nan},\n",
       " 'MNXR100000': {'metanetx': ['MNXR100000'],\n",
       "  'bigg': ['GALNACT5g'],\n",
       "  'deprecated': ['MNXR55538'],\n",
       "  'kegg': nan,\n",
       "  'seed': nan,\n",
       "  'metacyc': nan,\n",
       "  'rhea': nan,\n",
       "  'sabiork': nan,\n",
       "  'reactome': nan},\n",
       " 'MNXR100001': {'metanetx': ['MNXR100001'],\n",
       "  'bigg': ['GALNTg', 'NAGA2ly'],\n",
       "  'deprecated': ['MNXR55539', 'MNXR69102', 'MNXR82961'],\n",
       "  'kegg': nan,\n",
       "  'seed': nan,\n",
       "  'metacyc': nan,\n",
       "  'rhea': nan,\n",
       "  'sabiork': nan,\n",
       "  'reactome': nan},\n",
       " 'MNXR100002': {'metanetx': ['MNXR100002'],\n",
       "  'bigg': ['GALO'],\n",
       "  'deprecated': ['MNXR65868', 'MNXR35564'],\n",
       "  'kegg': ['R01098'],\n",
       "  'seed': ['rxn00814'],\n",
       "  'metacyc': nan,\n",
       "  'rhea': nan,\n",
       "  'sabiork': nan,\n",
       "  'reactome': nan},\n",
       " 'MNXR100003': {'metanetx': ['MNXR100003'],\n",
       "  'bigg': ['GALOR'],\n",
       "  'deprecated': ['MNXR31513', 'MNXR2525'],\n",
       "  'kegg': ['R01095'],\n",
       "  'seed': ['rxn11552'],\n",
       "  'metacyc': ['RXN-12078'],\n",
       "  'rhea': ['37967', '37968', '37969', '37970'],\n",
       "  'sabiork': ['1357'],\n",
       "  'reactome': nan},\n",
       " 'MNXR100004': {'metanetx': ['MNXR100004'],\n",
       "  'bigg': ['GALR1TRA1'],\n",
       "  'deprecated': ['MNXR82962'],\n",
       "  'kegg': nan,\n",
       "  'seed': nan,\n",
       "  'metacyc': nan,\n",
       "  'rhea': nan,\n",
       "  'sabiork': nan,\n",
       "  'reactome': nan},\n",
       " 'MNXR100005': {'metanetx': ['MNXR100005'],\n",
       "  'bigg': ['GALR1TRA2'],\n",
       "  'deprecated': ['MNXR82963'],\n",
       "  'kegg': nan,\n",
       "  'seed': nan,\n",
       "  'metacyc': nan,\n",
       "  'rhea': nan,\n",
       "  'sabiork': nan,\n",
       "  'reactome': nan},\n",
       " 'MNXR100006': {'metanetx': ['MNXR100006'],\n",
       "  'bigg': ['GALR1TRB1'],\n",
       "  'deprecated': ['MNXR82964'],\n",
       "  'kegg': nan,\n",
       "  'seed': nan,\n",
       "  'metacyc': nan,\n",
       "  'rhea': nan,\n",
       "  'sabiork': nan,\n",
       "  'reactome': nan},\n",
       " 'MNXR100007': {'metanetx': ['MNXR100007'],\n",
       "  'bigg': ['GALR1TRB2'],\n",
       "  'deprecated': ['MNXR82965'],\n",
       "  'kegg': nan,\n",
       "  'seed': nan,\n",
       "  'metacyc': nan,\n",
       "  'rhea': nan,\n",
       "  'sabiork': nan,\n",
       "  'reactome': nan},\n",
       " 'MNXR100008': {'metanetx': ['MNXR100008'],\n",
       "  'bigg': ['GALS1'],\n",
       "  'deprecated': ['MNXR45115'],\n",
       "  'kegg': nan,\n",
       "  'seed': ['rxn09983'],\n",
       "  'metacyc': nan,\n",
       "  'rhea': nan,\n",
       "  'sabiork': nan,\n",
       "  'reactome': nan},\n",
       " 'MNXR100009': {'metanetx': ['MNXR100009'],\n",
       "  'bigg': ['GALS2'],\n",
       "  'deprecated': ['MNXR45116'],\n",
       "  'kegg': nan,\n",
       "  'seed': ['rxn09984'],\n",
       "  'metacyc': nan,\n",
       "  'rhea': nan,\n",
       "  'sabiork': nan,\n",
       "  'reactome': nan},\n",
       " 'MNXR100010': {'metanetx': ['MNXR100010'],\n",
       "  'bigg': ['GALS4', 'STACHGALACT', 'SYGH'],\n",
       "  'deprecated': ['MNXR21524', 'MNXR35877'],\n",
       "  'kegg': ['R03634', 'R06152'],\n",
       "  'seed': ['rxn02596'],\n",
       "  'metacyc': ['RXN-11501'],\n",
       "  'rhea': nan,\n",
       "  'sabiork': ['3416'],\n",
       "  'reactome': nan},\n",
       " 'MNXR100011': {'metanetx': ['MNXR100011'],\n",
       "  'bigg': ['GALSGLT1le'],\n",
       "  'deprecated': nan,\n",
       "  'kegg': nan,\n",
       "  'seed': nan,\n",
       "  'metacyc': nan,\n",
       "  'rhea': nan,\n",
       "  'sabiork': nan,\n",
       "  'reactome': nan},\n",
       " 'MNXR100012': {'metanetx': ['MNXR100012'],\n",
       "  'bigg': ['GALSIDEtg', 'GALSIDEtl'],\n",
       "  'deprecated': ['MNXR2527'],\n",
       "  'kegg': nan,\n",
       "  'seed': nan,\n",
       "  'metacyc': nan,\n",
       "  'rhea': nan,\n",
       "  'sabiork': nan,\n",
       "  'reactome': nan},\n",
       " 'MNXR100013': {'metanetx': ['MNXR100013'],\n",
       "  'bigg': ['GALSIDEtg_cho', 'GALSIDEtl_cho'],\n",
       "  'deprecated': nan,\n",
       "  'kegg': nan,\n",
       "  'seed': nan,\n",
       "  'metacyc': nan,\n",
       "  'rhea': nan,\n",
       "  'sabiork': nan,\n",
       "  'reactome': nan},\n",
       " 'MNXR100014': {'metanetx': ['MNXR100014'],\n",
       "  'bigg': ['GALT'],\n",
       "  'deprecated': ['MNXR55540', 'MNXR69103'],\n",
       "  'kegg': ['R00502'],\n",
       "  'seed': ['rxn00355'],\n",
       "  'metacyc': ['UTPHEXPURIDYLYLTRANS-RXN'],\n",
       "  'rhea': ['14209', '14210', '14211', '14212'],\n",
       "  'sabiork': ['932'],\n",
       "  'reactome': nan},\n",
       " 'MNXR100015': {'metanetx': ['MNXR100015'],\n",
       "  'bigg': ['GALT1'],\n",
       "  'deprecated': ['MNXR55541', 'MNXR69104'],\n",
       "  'kegg': nan,\n",
       "  'seed': ['rxn08583'],\n",
       "  'metacyc': nan,\n",
       "  'rhea': nan,\n",
       "  'sabiork': nan,\n",
       "  'reactome': nan},\n",
       " 'MNXR100016': {'metanetx': ['MNXR100016'],\n",
       "  'bigg': ['GALT2g'],\n",
       "  'deprecated': ['MNXR59969', 'MNXR55542'],\n",
       "  'kegg': ['R05927'],\n",
       "  'seed': nan,\n",
       "  'metacyc': nan,\n",
       "  'rhea': nan,\n",
       "  'sabiork': nan,\n",
       "  'reactome': nan},\n",
       " 'MNXR100017': {'metanetx': ['MNXR100017'],\n",
       "  'bigg': ['GALTg'],\n",
       "  'deprecated': ['MNXR55543'],\n",
       "  'kegg': nan,\n",
       "  'seed': nan,\n",
       "  'metacyc': nan,\n",
       "  'rhea': nan,\n",
       "  'sabiork': nan,\n",
       "  'reactome': nan},\n",
       " 'MNXR100018': {'metanetx': ['MNXR100018'],\n",
       "  'bigg': ['GALTpts', 'GALTptspp'],\n",
       "  'deprecated': ['MNXR2532'],\n",
       "  'kegg': nan,\n",
       "  'seed': ['rxn05567', 'rxn08586'],\n",
       "  'metacyc': nan,\n",
       "  'rhea': nan,\n",
       "  'sabiork': nan,\n",
       "  'reactome': nan},\n",
       " 'MNXR100019': {'metanetx': ['MNXR100019'],\n",
       "  'bigg': ['GALTtex'],\n",
       "  'deprecated': ['MNXR2533'],\n",
       "  'kegg': nan,\n",
       "  'seed': ['rxn08587'],\n",
       "  'metacyc': nan,\n",
       "  'rhea': ['33143', '33144', '33145', '33146'],\n",
       "  'sabiork': nan,\n",
       "  'reactome': nan},\n",
       " 'MNXR100020': {'metanetx': ['MNXR100020'],\n",
       "  'bigg': ['GALURt2r', 'GALURt2rpp'],\n",
       "  'deprecated': ['MNXR55544', 'MNXR93934'],\n",
       "  'kegg': nan,\n",
       "  'seed': ['rxn05673', 'rxn08588'],\n",
       "  'metacyc': nan,\n",
       "  'rhea': nan,\n",
       "  'sabiork': nan,\n",
       "  'reactome': nan},\n",
       " 'MNXR100021': {'metanetx': ['MNXR100021'],\n",
       "  'bigg': ['GALURtex'],\n",
       "  'deprecated': ['MNXR55545', 'MNXR69106', 'MNXR94188'],\n",
       "  'kegg': nan,\n",
       "  'seed': ['rxn08589'],\n",
       "  'metacyc': nan,\n",
       "  'rhea': nan,\n",
       "  'sabiork': nan,\n",
       "  'reactome': nan},\n",
       " 'MNXR100022': {'metanetx': ['MNXR100022'],\n",
       "  'bigg': ['GALUi'],\n",
       "  'deprecated': ['MNXR79464', 'MNXR70273', 'MNXR69105', 'MNXR37123'],\n",
       "  'kegg': ['R00289'],\n",
       "  'seed': ['rxn00213'],\n",
       "  'metacyc': ['GLUC1PURIDYLTRANS-RXN'],\n",
       "  'rhea': ['19889', '19890', '19891', '19892'],\n",
       "  'sabiork': ['68', '8973'],\n",
       "  'reactome': ['R-ATH-70286',\n",
       "   'R-BTA-70286',\n",
       "   'R-CEL-70286',\n",
       "   'R-CFA-70286',\n",
       "   'R-DDI-70286',\n",
       "   'R-DME-70286',\n",
       "   'R-DRE-70286',\n",
       "   'R-GGA-70286',\n",
       "   'R-HSA-70286',\n",
       "   'R-MMU-70286',\n",
       "   'R-OSA-70286',\n",
       "   'R-RNO-70286',\n",
       "   'R-SCE-70286',\n",
       "   'R-SPO-70286',\n",
       "   'R-SSC-70286',\n",
       "   'R-TGU-70286',\n",
       "   'R-XTR-70286']},\n",
       " 'MNXR100023': {'metanetx': ['MNXR100023'],\n",
       "  'bigg': ['GALabc', 'GALabcpp'],\n",
       "  'deprecated': ['MNXR50923'],\n",
       "  'kegg': nan,\n",
       "  'seed': ['rxn05162', 'rxn08573'],\n",
       "  'metacyc': ['ABC-18-RXN'],\n",
       "  'rhea': nan,\n",
       "  'sabiork': nan,\n",
       "  'reactome': nan},\n",
       " 'MNXR100024': {'metanetx': ['MNXR100024'],\n",
       "  'bigg': ['GALh', 'GALm', 'GLNS'],\n",
       "  'deprecated': ['MNXR32767', 'MNXR82966'],\n",
       "  'kegg': ['R00253'],\n",
       "  'seed': ['rxn00187'],\n",
       "  'metacyc': ['GLUTAMINESYN-RXN'],\n",
       "  'rhea': ['16169', '16170', '16171', '16172'],\n",
       "  'sabiork': ['760'],\n",
       "  'reactome': nan},\n",
       " 'MNXR100025': {'metanetx': ['MNXR100025'],\n",
       "  'bigg': ['GALt1r', 'GALtex', 'GALtly'],\n",
       "  'deprecated': ['MNXR31517'],\n",
       "  'kegg': nan,\n",
       "  'seed': ['rxn08585', 'rxn10911'],\n",
       "  'metacyc': nan,\n",
       "  'rhea': ['34915', '34916', '34917', '34918'],\n",
       "  'sabiork': ['7001'],\n",
       "  'reactome': nan},\n",
       " 'MNXR100026': {'metanetx': ['MNXR100026'],\n",
       "  'bigg': ['GALt2', 'GALt2pp', 'GALth'],\n",
       "  'deprecated': ['MNXR90757', 'MNXR31518'],\n",
       "  'kegg': nan,\n",
       "  'seed': ['rxn05566', 'rxn08584'],\n",
       "  'metacyc': ['TRANS-RXN-21'],\n",
       "  'rhea': ['29019', '29020', '29021', '29022'],\n",
       "  'sabiork': nan,\n",
       "  'reactome': nan},\n",
       " 'MNXR100027': {'metanetx': ['MNXR100027'],\n",
       "  'bigg': ['GALt2_2'],\n",
       "  'deprecated': ['MNXR31519'],\n",
       "  'kegg': nan,\n",
       "  'seed': nan,\n",
       "  'metacyc': nan,\n",
       "  'rhea': nan,\n",
       "  'sabiork': nan,\n",
       "  'reactome': nan},\n",
       " 'MNXR100028': {'metanetx': ['MNXR100028'],\n",
       "  'bigg': ['GALt4'],\n",
       "  'deprecated': ['MNXR31520'],\n",
       "  'kegg': nan,\n",
       "  'seed': nan,\n",
       "  'metacyc': nan,\n",
       "  'rhea': nan,\n",
       "  'sabiork': nan,\n",
       "  'reactome': nan},\n",
       " 'MNXR100029': {'metanetx': ['MNXR100029'],\n",
       "  'bigg': ['GALt4_2'],\n",
       "  'deprecated': ['MNXR31521'],\n",
       "  'kegg': nan,\n",
       "  'seed': nan,\n",
       "  'metacyc': nan,\n",
       "  'rhea': nan,\n",
       "  'sabiork': nan,\n",
       "  'reactome': nan},\n",
       " 'MNXR100030': {'metanetx': ['MNXR100030'],\n",
       "  'bigg': ['GAM', 'GLUN', 'GLUNm', 'GLUNpp'],\n",
       "  'deprecated': ['MNXR32746', 'MNXR82967'],\n",
       "  'kegg': ['R00256'],\n",
       "  'seed': ['rxn00189'],\n",
       "  'metacyc': ['GLUTAMIN-RXN'],\n",
       "  'rhea': ['15889', '15890', '15891', '15892'],\n",
       "  'sabiork': ['762'],\n",
       "  'reactome': ['R-BTA-70609',\n",
       "   'R-CEL-70609',\n",
       "   'R-CFA-70609',\n",
       "   'R-DDI-70609',\n",
       "   'R-DME-70609',\n",
       "   'R-DRE-70609',\n",
       "   'R-GGA-70609',\n",
       "   'R-HSA-70609',\n",
       "   'R-MMU-70609',\n",
       "   'R-RNO-70609',\n",
       "   'R-SSC-70609',\n",
       "   'R-TGU-70609',\n",
       "   'R-XTR-70609']},\n",
       " 'MNXR100031': {'metanetx': ['MNXR100031'],\n",
       "  'bigg': ['GAM6Pt', 'GAMAN6Ptex'],\n",
       "  'deprecated': ['MNXR79912', 'MNXR2542'],\n",
       "  'kegg': nan,\n",
       "  'seed': ['rxn05568', 'rxn08591', 'rxn13642'],\n",
       "  'metacyc': nan,\n",
       "  'rhea': nan,\n",
       "  'sabiork': nan,\n",
       "  'reactome': nan},\n",
       " 'MNXR100032': {'metanetx': ['MNXR100032'],\n",
       "  'bigg': ['GAM6Pt6_2pp'],\n",
       "  'deprecated': ['MNXR80375', 'MNXR2543'],\n",
       "  'kegg': nan,\n",
       "  'seed': ['rxn08590'],\n",
       "  'metacyc': nan,\n",
       "  'rhea': nan,\n",
       "  'sabiork': nan,\n",
       "  'reactome': nan},\n",
       " 'MNXR100033': {'metanetx': ['MNXR100033'],\n",
       "  'bigg': ['GAMYe'],\n",
       "  'deprecated': ['MNXR2544', 'MNXR82968'],\n",
       "  'kegg': nan,\n",
       "  'seed': nan,\n",
       "  'metacyc': nan,\n",
       "  'rhea': nan,\n",
       "  'sabiork': nan,\n",
       "  'reactome': nan},\n",
       " 'MNXR100034': {'metanetx': ['MNXR100034'],\n",
       "  'bigg': ['GAMpts', 'GAMptspp'],\n",
       "  'deprecated': ['MNXR79913', 'MNXR2545'],\n",
       "  'kegg': nan,\n",
       "  'seed': ['rxn05569', 'rxn08592'],\n",
       "  'metacyc': nan,\n",
       "  'rhea': nan,\n",
       "  'sabiork': nan,\n",
       "  'reactome': nan},\n",
       " 'MNXR100035': {'metanetx': ['MNXR100035'],\n",
       "  'bigg': ['GAMt1r', 'GAMtex'],\n",
       "  'deprecated': ['MNXR80376', 'MNXR2546'],\n",
       "  'kegg': nan,\n",
       "  'seed': ['rxn08593'],\n",
       "  'metacyc': nan,\n",
       "  'rhea': nan,\n",
       "  'sabiork': nan,\n",
       "  'reactome': nan},\n",
       " 'MNXR100036': {'metanetx': ['MNXR100036'],\n",
       "  'bigg': ['GAO1', 'GAO1g'],\n",
       "  'deprecated': ['MNXR2547'],\n",
       "  'kegg': nan,\n",
       "  'seed': nan,\n",
       "  'metacyc': nan,\n",
       "  'rhea': nan,\n",
       "  'sabiork': nan,\n",
       "  'reactome': nan},\n",
       " 'MNXR100037': {'metanetx': ['MNXR100037'],\n",
       "  'bigg': ['GAO1_cho', 'GAO1g_cho'],\n",
       "  'deprecated': nan,\n",
       "  'kegg': nan,\n",
       "  'seed': nan,\n",
       "  'metacyc': nan,\n",
       "  'rhea': nan,\n",
       "  'sabiork': nan,\n",
       "  'reactome': nan},\n",
       " 'MNXR100038': {'metanetx': ['MNXR100038'],\n",
       "  'bigg': ['GAO2', 'GAO2g'],\n",
       "  'deprecated': ['MNXR2548'],\n",
       "  'kegg': nan,\n",
       "  'seed': nan,\n",
       "  'metacyc': nan,\n",
       "  'rhea': nan,\n",
       "  'sabiork': nan,\n",
       "  'reactome': nan},\n",
       " 'MNXR100039': {'metanetx': ['MNXR100039'],\n",
       "  'bigg': ['GAO2_cho', 'GAO2g_cho'],\n",
       "  'deprecated': nan,\n",
       "  'kegg': nan,\n",
       "  'seed': nan,\n",
       "  'metacyc': nan,\n",
       "  'rhea': nan,\n",
       "  'sabiork': nan,\n",
       "  'reactome': nan},\n",
       " 'MNXR100040': {'metanetx': ['MNXR100040'],\n",
       "  'bigg': ['GAPD', 'GAPDHf', 'GAPDHh', 'GAPDHi', 'GAPDHm'],\n",
       "  'deprecated': ['MNXR50924', 'MNXR2549'],\n",
       "  'kegg': ['R01061'],\n",
       "  'seed': ['rxn00781'],\n",
       "  'metacyc': ['GAPOXNPHOSPHN-RXN'],\n",
       "  'rhea': ['10300', '10301', '10302', '10303'],\n",
       "  'sabiork': ['7844'],\n",
       "  'reactome': nan},\n",
       " 'MNXR100041': {'metanetx': ['MNXR100041'],\n",
       "  'bigg': ['GAPDH_nadp_hi', 'GAPD_nadp', 'GAPDi_nadp'],\n",
       "  'deprecated': ['MNXR2550'],\n",
       "  'kegg': ['R01063'],\n",
       "  'seed': ['rxn00782'],\n",
       "  'metacyc': ['1.2.1.13-RXN'],\n",
       "  'rhea': ['10296', '10297', '10298', '10299'],\n",
       "  'sabiork': ['7845'],\n",
       "  'reactome': nan},\n",
       " 'MNXR100042': {'metanetx': ['MNXR100042'],\n",
       "  'bigg': ['GART'],\n",
       "  'deprecated': ['MNXR2552'],\n",
       "  'kegg': ['R06974'],\n",
       "  'seed': ['rxn04783'],\n",
       "  'metacyc': ['GARTRANSFORMYL2-RXN'],\n",
       "  'rhea': ['24829', '24830', '24831', '24832'],\n",
       "  'sabiork': nan,\n",
       "  'reactome': nan},\n",
       " 'MNXR100043': {'metanetx': ['MNXR100043'],\n",
       "  'bigg': ['GASNASE2ly'],\n",
       "  'deprecated': ['MNXR69107', 'MNXR2553', 'MNXR82969'],\n",
       "  'kegg': nan,\n",
       "  'seed': nan,\n",
       "  'metacyc': nan,\n",
       "  'rhea': nan,\n",
       "  'sabiork': nan,\n",
       "  'reactome': nan},\n",
       " 'MNXR100044': {'metanetx': ['MNXR100044'],\n",
       "  'bigg': ['GASNASE3ly'],\n",
       "  'deprecated': ['MNXR2554', 'MNXR82970'],\n",
       "  'kegg': nan,\n",
       "  'seed': nan,\n",
       "  'metacyc': nan,\n",
       "  'rhea': nan,\n",
       "  'sabiork': nan,\n",
       "  'reactome': nan},\n",
       " 'MNXR100045': {'metanetx': ['MNXR100045'],\n",
       "  'bigg': ['GASNASEly'],\n",
       "  'deprecated': ['MNXR2555', 'MNXR82971'],\n",
       "  'kegg': nan,\n",
       "  'seed': nan,\n",
       "  'metacyc': nan,\n",
       "  'rhea': nan,\n",
       "  'sabiork': nan,\n",
       "  'reactome': nan},\n",
       " 'MNXR100046': {'metanetx': ['MNXR100046'],\n",
       "  'bigg': ['GAT1_SC'],\n",
       "  'deprecated': ['MNXR50926', 'MNXR69108', 'MNXR82972'],\n",
       "  'kegg': nan,\n",
       "  'seed': nan,\n",
       "  'metacyc': nan,\n",
       "  'rhea': nan,\n",
       "  'sabiork': nan,\n",
       "  'reactome': nan},\n",
       " 'MNXR100047': {'metanetx': ['MNXR100047'],\n",
       "  'bigg': ['GAT2_SC'],\n",
       "  'deprecated': ['MNXR50927', 'MNXR69109', 'MNXR82973'],\n",
       "  'kegg': nan,\n",
       "  'seed': nan,\n",
       "  'metacyc': nan,\n",
       "  'rhea': nan,\n",
       "  'sabiork': nan,\n",
       "  'reactome': nan},\n",
       " 'MNXR100048': {'metanetx': ['MNXR100048'],\n",
       "  'bigg': ['GAt1'],\n",
       "  'deprecated': nan,\n",
       "  'kegg': nan,\n",
       "  'seed': ['rxn12797'],\n",
       "  'metacyc': nan,\n",
       "  'rhea': nan,\n",
       "  'sabiork': nan,\n",
       "  'reactome': nan},\n",
       " 'MNXR100049': {'metanetx': ['MNXR100049'],\n",
       "  'bigg': ['GAt2pp'],\n",
       "  'deprecated': ['MNXR2559'],\n",
       "  'kegg': nan,\n",
       "  'seed': ['rxn12798'],\n",
       "  'metacyc': nan,\n",
       "  'rhea': ['36471', '36472', '36473', '36474'],\n",
       "  'sabiork': nan,\n",
       "  'reactome': nan},\n",
       " 'MNXR100050': {'metanetx': ['MNXR100050'],\n",
       "  'bigg': ['GBA', 'GBAl'],\n",
       "  'deprecated': ['MNXR2560'],\n",
       "  'kegg': nan,\n",
       "  'seed': nan,\n",
       "  'metacyc': nan,\n",
       "  'rhea': nan,\n",
       "  'sabiork': nan,\n",
       "  'reactome': nan},\n",
       " 'MNXR100051': {'metanetx': ['MNXR100051'],\n",
       "  'bigg': ['GBA_cho', 'GBAl_cho'],\n",
       "  'deprecated': ['MNXR73780', 'MNXR14480', 'MNXR93721'],\n",
       "  'kegg': ['R01498'],\n",
       "  'seed': ['rxn01089'],\n",
       "  'metacyc': nan,\n",
       "  'rhea': nan,\n",
       "  'sabiork': nan,\n",
       "  'reactome': nan},\n",
       " 'MNXR100052': {'metanetx': ['MNXR100052'],\n",
       "  'bigg': ['GBBTNabc'],\n",
       "  'deprecated': ['MNXR79914', 'MNXR27793'],\n",
       "  'kegg': nan,\n",
       "  'seed': ['rxn05570'],\n",
       "  'metacyc': nan,\n",
       "  'rhea': nan,\n",
       "  'sabiork': nan,\n",
       "  'reactome': nan},\n",
       " 'MNXR100053': {'metanetx': ['MNXR100053'],\n",
       "  'bigg': ['GBBTNtex'],\n",
       "  'deprecated': ['MNXR69110', 'MNXR2561'],\n",
       "  'kegg': nan,\n",
       "  'seed': ['rxn08595'],\n",
       "  'metacyc': nan,\n",
       "  'rhea': ['32835', '32836', '32837', '32838'],\n",
       "  'sabiork': nan,\n",
       "  'reactome': nan},\n",
       " 'MNXR100054': {'metanetx': ['MNXR100054'],\n",
       "  'bigg': ['GBEZ', 'GBEZY'],\n",
       "  'deprecated': ['MNXR31530', 'MNXR69111', 'MNXR82974'],\n",
       "  'kegg': nan,\n",
       "  'seed': nan,\n",
       "  'metacyc': nan,\n",
       "  'rhea': nan,\n",
       "  'sabiork': nan,\n",
       "  'reactome': nan},\n",
       " 'MNXR100055': {'metanetx': ['MNXR100055'],\n",
       "  'bigg': ['GBGT1', 'NAGAly'],\n",
       "  'deprecated': ['MNXR55546', 'MNXR69112'],\n",
       "  'kegg': nan,\n",
       "  'seed': nan,\n",
       "  'metacyc': nan,\n",
       "  'rhea': nan,\n",
       "  'sabiork': nan,\n",
       "  'reactome': nan},\n",
       " 'MNXR100056': {'metanetx': ['MNXR100056'],\n",
       "  'bigg': ['GBGT1_cho', 'NAGAly_cho'],\n",
       "  'deprecated': nan,\n",
       "  'kegg': nan,\n",
       "  'seed': nan,\n",
       "  'metacyc': nan,\n",
       "  'rhea': nan,\n",
       "  'sabiork': nan,\n",
       "  'reactome': nan},\n",
       " 'MNXR100057': {'metanetx': ['MNXR100057'],\n",
       "  'bigg': ['GBPS'],\n",
       "  'deprecated': nan,\n",
       "  'kegg': nan,\n",
       "  'seed': nan,\n",
       "  'metacyc': nan,\n",
       "  'rhea': nan,\n",
       "  'sabiork': nan,\n",
       "  'reactome': nan},\n",
       " 'MNXR100058': {'metanetx': ['MNXR100058'],\n",
       "  'bigg': ['GBSIDEte', 'GBSIDEtl'],\n",
       "  'deprecated': ['MNXR2564'],\n",
       "  'kegg': nan,\n",
       "  'seed': nan,\n",
       "  'metacyc': nan,\n",
       "  'rhea': nan,\n",
       "  'sabiork': nan,\n",
       "  'reactome': nan},\n",
       " 'MNXR100059': {'metanetx': ['MNXR100059'],\n",
       "  'bigg': ['GBSIDEte_cho', 'GBSIDEtl_cho'],\n",
       "  'deprecated': nan,\n",
       "  'kegg': nan,\n",
       "  'seed': nan,\n",
       "  'metacyc': nan,\n",
       "  'rhea': nan,\n",
       "  'sabiork': nan,\n",
       "  'reactome': nan},\n",
       " 'MNXR100060': {'metanetx': ['MNXR100060'],\n",
       "  'bigg': ['GCALDD', 'GCALDDm'],\n",
       "  'deprecated': ['MNXR2565'],\n",
       "  'kegg': ['R01333'],\n",
       "  'seed': ['rxn00979'],\n",
       "  'metacyc': ['GLYCOLALD-DEHYDROG-RXN'],\n",
       "  'rhea': ['20001', '20002', '20003', '20004'],\n",
       "  'sabiork': ['434'],\n",
       "  'reactome': nan},\n",
       " 'MNXR100061': {'metanetx': ['MNXR100061'],\n",
       "  'bigg': ['GCALDt', 'GCALDtm'],\n",
       "  'deprecated': ['MNXR2566'],\n",
       "  'kegg': nan,\n",
       "  'seed': ['rxn09680', 'rxn09752'],\n",
       "  'metacyc': nan,\n",
       "  'rhea': nan,\n",
       "  'sabiork': nan,\n",
       "  'reactome': nan},\n",
       " 'MNXR100062': {'metanetx': ['MNXR100062'],\n",
       "  'bigg': ['GCAROtu'],\n",
       "  'deprecated': ['MNXR82975'],\n",
       "  'kegg': nan,\n",
       "  'seed': nan,\n",
       "  'metacyc': nan,\n",
       "  'rhea': nan,\n",
       "  'sabiork': nan,\n",
       "  'reactome': nan},\n",
       " 'MNXR100063': {'metanetx': ['MNXR100063'],\n",
       "  'bigg': ['GCATENEC', 'LCYB'],\n",
       "  'deprecated': ['MNXR15454'],\n",
       "  'kegg': ['R03824'],\n",
       "  'seed': ['rxn11574'],\n",
       "  'metacyc': ['RXN1F-151'],\n",
       "  'rhea': ['32239', '32240', '32241', '32242'],\n",
       "  'sabiork': nan,\n",
       "  'reactome': nan},\n",
       " 'MNXR100064': {'metanetx': ['MNXR100064'],\n",
       "  'bigg': ['GCC2', 'GCC2bim'],\n",
       "  'deprecated': ['MNXR55547', 'MNXR69113', 'MNXR82976'],\n",
       "  'kegg': nan,\n",
       "  'seed': ['rxn09498'],\n",
       "  'metacyc': nan,\n",
       "  'rhea': nan,\n",
       "  'sabiork': nan,\n",
       "  'reactome': nan},\n",
       " 'MNXR100065': {'metanetx': ['MNXR100065'],\n",
       "  'bigg': ['GCC2am'],\n",
       "  'deprecated': ['MNXR69114', 'MNXR2568'],\n",
       "  'kegg': nan,\n",
       "  'seed': ['rxn09499'],\n",
       "  'metacyc': nan,\n",
       "  'rhea': nan,\n",
       "  'sabiork': nan,\n",
       "  'reactome': nan},\n",
       " 'MNXR100066': {'metanetx': ['MNXR100066'],\n",
       "  'bigg': ['GCC2cm', 'PDHcr', 'PDHe3hr'],\n",
       "  'deprecated': ['MNXR55548'],\n",
       "  'kegg': ['R01698'],\n",
       "  'seed': ['rxn01241'],\n",
       "  'metacyc': ['RXN-18331'],\n",
       "  'rhea': ['33059', '33060', '33061', '33062'],\n",
       "  'sabiork': ['60'],\n",
       "  'reactome': nan},\n",
       " 'MNXR100067': {'metanetx': ['MNXR100067'],\n",
       "  'bigg': ['GCCa', 'GCCam', 'GLYDHD'],\n",
       "  'deprecated': ['MNXR55549'],\n",
       "  'kegg': ['R03425'],\n",
       "  'seed': ['rxn06377'],\n",
       "  'metacyc': nan,\n",
       "  'rhea': nan,\n",
       "  'sabiork': ['3223'],\n",
       "  'reactome': nan},\n",
       " 'MNXR100068': {'metanetx': ['MNXR100068'],\n",
       "  'bigg': ['GCCb', 'GCCbim', 'MTAM_nh4'],\n",
       "  'deprecated': ['MNXR55550', 'MNXR82977'],\n",
       "  'kegg': ['R04125'],\n",
       "  'seed': ['rxn06600'],\n",
       "  'metacyc': nan,\n",
       "  'rhea': nan,\n",
       "  'sabiork': nan,\n",
       "  'reactome': nan},\n",
       " 'MNXR100069': {'metanetx': ['MNXR100069'],\n",
       "  'bigg': ['GCCc', 'GCCcm'],\n",
       "  'deprecated': ['MNXR2572'],\n",
       "  'kegg': ['R03815'],\n",
       "  'seed': ['rxn06493'],\n",
       "  'metacyc': nan,\n",
       "  'rhea': nan,\n",
       "  'sabiork': ['9140'],\n",
       "  'reactome': nan},\n",
       " 'MNXR100070': {'metanetx': ['MNXR100070'],\n",
       "  'bigg': ['GCHOLAt'],\n",
       "  'deprecated': ['MNXR31536', 'MNXR69115'],\n",
       "  'kegg': nan,\n",
       "  'seed': nan,\n",
       "  'metacyc': nan,\n",
       "  'rhea': nan,\n",
       "  'sabiork': nan,\n",
       "  'reactome': nan},\n",
       " 'MNXR100071': {'metanetx': ['MNXR100071'],\n",
       "  'bigg': ['GCHOLAt2'],\n",
       "  'deprecated': ['MNXR2574'],\n",
       "  'kegg': nan,\n",
       "  'seed': nan,\n",
       "  'metacyc': nan,\n",
       "  'rhea': nan,\n",
       "  'sabiork': nan,\n",
       "  'reactome': nan},\n",
       " 'MNXR100072': {'metanetx': ['MNXR100072'],\n",
       "  'bigg': ['GCHOLAt3'],\n",
       "  'deprecated': ['MNXR2575'],\n",
       "  'kegg': nan,\n",
       "  'seed': nan,\n",
       "  'metacyc': nan,\n",
       "  'rhea': nan,\n",
       "  'sabiork': nan,\n",
       "  'reactome': nan},\n",
       " 'MNXR100073': {'metanetx': ['MNXR100073'],\n",
       "  'bigg': ['GCHOLAte', 'GCHOLAtx'],\n",
       "  'deprecated': ['MNXR2576'],\n",
       "  'kegg': nan,\n",
       "  'seed': nan,\n",
       "  'metacyc': nan,\n",
       "  'rhea': nan,\n",
       "  'sabiork': nan,\n",
       "  'reactome': nan},\n",
       " 'MNXR100074': {'metanetx': ['MNXR100074'],\n",
       "  'bigg': ['GCL', 'GLUCYS'],\n",
       "  'deprecated': ['MNXR32879'],\n",
       "  'kegg': ['R00894'],\n",
       "  'seed': ['rxn00646'],\n",
       "  'metacyc': ['GLUTCYSLIG-RXN'],\n",
       "  'rhea': ['13285', '13286', '13287', '13288'],\n",
       "  'sabiork': ['1217'],\n",
       "  'reactome': nan},\n",
       " 'MNXR100075': {'metanetx': ['MNXR100075'],\n",
       "  'bigg': ['GCLDH'],\n",
       "  'deprecated': ['MNXR82978'],\n",
       "  'kegg': nan,\n",
       "  'seed': nan,\n",
       "  'metacyc': nan,\n",
       "  'rhea': nan,\n",
       "  'sabiork': nan,\n",
       "  'reactome': nan},\n",
       " 'MNXR100076': {'metanetx': ['MNXR100076'],\n",
       "  'bigg': ['GCNTg'],\n",
       "  'deprecated': ['MNXR55551', 'MNXR69116'],\n",
       "  'kegg': nan,\n",
       "  'seed': nan,\n",
       "  'metacyc': nan,\n",
       "  'rhea': nan,\n",
       "  'sabiork': nan,\n",
       "  'reactome': nan},\n",
       " 'MNXR100077': {'metanetx': ['MNXR100077'],\n",
       "  'bigg': ['GCNTg_cho'],\n",
       "  'deprecated': nan,\n",
       "  'kegg': nan,\n",
       "  'seed': nan,\n",
       "  'metacyc': nan,\n",
       "  'rhea': nan,\n",
       "  'sabiork': nan,\n",
       "  'reactome': nan},\n",
       " 'MNXR100078': {'metanetx': ['MNXR100078'],\n",
       "  'bigg': ['GCPN', 'GCPNn', 'PDE4', 'PDE4g'],\n",
       "  'deprecated': ['MNXR4130'],\n",
       "  'kegg': ['R01234'],\n",
       "  'seed': ['rxn00920'],\n",
       "  'metacyc': ['35-CYCLIC-GMP-PHOSPHODIESTERASE-RXN'],\n",
       "  'rhea': ['16957', '16958', '16959', '16960'],\n",
       "  'sabiork': nan,\n",
       "  'reactome': nan},\n",
       " 'MNXR100079': {'metanetx': ['MNXR100079'],\n",
       "  'bigg': ['GD1B2te', 'GD1B2tg'],\n",
       "  'deprecated': ['MNXR2578'],\n",
       "  'kegg': nan,\n",
       "  'seed': nan,\n",
       "  'metacyc': nan,\n",
       "  'rhea': nan,\n",
       "  'sabiork': nan,\n",
       "  'reactome': nan},\n",
       " 'MNXR100080': {'metanetx': ['MNXR100080'],\n",
       "  'bigg': ['GD1B2te_cho', 'GD1B2tg_cho'],\n",
       "  'deprecated': nan,\n",
       "  'kegg': nan,\n",
       "  'seed': nan,\n",
       "  'metacyc': nan,\n",
       "  'rhea': nan,\n",
       "  'sabiork': nan,\n",
       "  'reactome': nan},\n",
       " 'MNXR100081': {'metanetx': ['MNXR100081'],\n",
       "  'bigg': ['GD1Cte', 'GD1Ctg'],\n",
       "  'deprecated': ['MNXR2579'],\n",
       "  'kegg': nan,\n",
       "  'seed': nan,\n",
       "  'metacyc': nan,\n",
       "  'rhea': nan,\n",
       "  'sabiork': nan,\n",
       "  'reactome': nan},\n",
       " 'MNXR100082': {'metanetx': ['MNXR100082'],\n",
       "  'bigg': ['GD1Cte_cho', 'GD1Ctg_cho'],\n",
       "  'deprecated': nan,\n",
       "  'kegg': nan,\n",
       "  'seed': nan,\n",
       "  'metacyc': nan,\n",
       "  'rhea': nan,\n",
       "  'sabiork': nan,\n",
       "  'reactome': nan},\n",
       " 'MNXR100083': {'metanetx': ['MNXR100083'],\n",
       "  'bigg': ['GDBTALDH'],\n",
       "  'deprecated': ['MNXR2580'],\n",
       "  'kegg': ['R03177'],\n",
       "  'seed': ['rxn02273'],\n",
       "  'metacyc': ['1.2.1.54-RXN'],\n",
       "  'rhea': ['14381', '14382', '14383', '14384'],\n",
       "  'sabiork': ['3007'],\n",
       "  'reactome': nan},\n",
       " 'MNXR100084': {'metanetx': ['MNXR100084'],\n",
       "  'bigg': ['GDCHOLAte', 'GDCHOLAtx'],\n",
       "  'deprecated': ['MNXR2581'],\n",
       "  'kegg': nan,\n",
       "  'seed': nan,\n",
       "  'metacyc': nan,\n",
       "  'rhea': nan,\n",
       "  'sabiork': nan,\n",
       "  'reactome': nan},\n",
       " 'MNXR100085': {'metanetx': ['MNXR100085'],\n",
       "  'bigg': ['GDH', 'GDH1', 'GDHm', 'GLUDxi'],\n",
       "  'deprecated': ['MNXR32818', 'MNXR82979'],\n",
       "  'kegg': ['R00243'],\n",
       "  'seed': ['rxn00182'],\n",
       "  'metacyc': ['GLUTAMATE-DEHYDROGENASE-RXN'],\n",
       "  'rhea': ['15133', '15134', '15135', '15136'],\n",
       "  'sabiork': ['755'],\n",
       "  'reactome': nan},\n",
       " 'MNXR100086': {'metanetx': ['MNXR100086'],\n",
       "  'bigg': ['GDH_nadp', 'GLUDy', 'GLUDyi', 'GLUDym'],\n",
       "  'deprecated': ['MNXR33333', 'MNXR82980'],\n",
       "  'kegg': ['R00248'],\n",
       "  'seed': ['rxn00184'],\n",
       "  'metacyc': ['GLUTDEHYD-RXN'],\n",
       "  'rhea': ['11612', '11613', '11614', '11615'],\n",
       "  'sabiork': ['757'],\n",
       "  'reactome': nan},\n",
       " 'MNXR100087': {'metanetx': ['MNXR100087'],\n",
       "  'bigg': ['GDMANE'],\n",
       "  'deprecated': ['MNXR2582'],\n",
       "  'kegg': nan,\n",
       "  'seed': ['rxn08597'],\n",
       "  'metacyc': nan,\n",
       "  'rhea': nan,\n",
       "  'sabiork': nan,\n",
       "  'reactome': nan},\n",
       " 'MNXR100088': {'metanetx': ['MNXR100088'],\n",
       "  'bigg': ['GDPDPK'],\n",
       "  'deprecated': ['MNXR55552', 'MNXR69117'],\n",
       "  'kegg': nan,\n",
       "  'seed': ['rxn08598'],\n",
       "  'metacyc': ['GDPPYPHOSKIN-RXN'],\n",
       "  'rhea': ['28098', '28099', '28100', '28101'],\n",
       "  'sabiork': nan,\n",
       "  'reactome': nan},\n",
       " 'MNXR100089': {'metanetx': ['MNXR100089'],\n",
       "  'bigg': ['GDPFUCtg'],\n",
       "  'deprecated': ['MNXR69118', 'MNXR2584'],\n",
       "  'kegg': nan,\n",
       "  'seed': nan,\n",
       "  'metacyc': nan,\n",
       "  'rhea': nan,\n",
       "  'sabiork': nan,\n",
       "  'reactome': nan},\n",
       " 'MNXR100090': {'metanetx': ['MNXR100090'],\n",
       "  'bigg': ['GDPMANNtg'],\n",
       "  'deprecated': ['MNXR25533'],\n",
       "  'kegg': nan,\n",
       "  'seed': ['rxn13296'],\n",
       "  'metacyc': nan,\n",
       "  'rhea': nan,\n",
       "  'sabiork': nan,\n",
       "  'reactome': nan},\n",
       " 'MNXR100091': {'metanetx': ['MNXR100091'],\n",
       "  'bigg': ['GDPMNH'],\n",
       "  'deprecated': ['MNXR55553', 'MNXR69119'],\n",
       "  'kegg': nan,\n",
       "  'seed': ['rxn08599'],\n",
       "  'metacyc': nan,\n",
       "  'rhea': ['28102', '28103', '28104', '28105'],\n",
       "  'sabiork': nan,\n",
       "  'reactome': nan},\n",
       " 'MNXR100092': {'metanetx': ['MNXR100092'],\n",
       "  'bigg': ['GDPMNP'],\n",
       "  'deprecated': ['MNXR2586'],\n",
       "  'kegg': ['R00881'],\n",
       "  'seed': ['rxn00639'],\n",
       "  'metacyc': ['RXN0-5108'],\n",
       "  'rhea': ['27978', '27979', '27980', '27981'],\n",
       "  'sabiork': nan,\n",
       "  'reactome': nan},\n",
       " 'MNXR100093': {'metanetx': ['MNXR100093'],\n",
       "  'bigg': ['GDPMT'],\n",
       "  'deprecated': ['MNXR82981'],\n",
       "  'kegg': nan,\n",
       "  'seed': nan,\n",
       "  'metacyc': nan,\n",
       "  'rhea': nan,\n",
       "  'sabiork': nan,\n",
       "  'reactome': nan},\n",
       " 'MNXR100094': {'metanetx': ['MNXR100094'],\n",
       "  'bigg': ['GDPTPDP'],\n",
       "  'deprecated': ['MNXR78000', 'MNXR63945'],\n",
       "  'kegg': nan,\n",
       "  'seed': nan,\n",
       "  'metacyc': ['RXN0-6427'],\n",
       "  'rhea': ['33055', '33056', '33057', '33058'],\n",
       "  'sabiork': nan,\n",
       "  'reactome': nan},\n",
       " 'MNXR100095': {'metanetx': ['MNXR100095'],\n",
       "  'bigg': ['GDPt3g'],\n",
       "  'deprecated': ['MNXR55554'],\n",
       "  'kegg': nan,\n",
       "  'seed': ['rxn09705'],\n",
       "  'metacyc': nan,\n",
       "  'rhea': nan,\n",
       "  'sabiork': nan,\n",
       "  'reactome': nan},\n",
       " 'MNXR100096': {'metanetx': ['MNXR100096'],\n",
       "  'bigg': ['GDPtex', 'GDPtg', 'GDPtn'],\n",
       "  'deprecated': ['MNXR55555'],\n",
       "  'kegg': nan,\n",
       "  'seed': ['rxn08600', 'rxn09815'],\n",
       "  'metacyc': nan,\n",
       "  'rhea': nan,\n",
       "  'sabiork': nan,\n",
       "  'reactome': ['R-HSA-111812']},\n",
       " 'MNXR100097': {'metanetx': ['MNXR100097'],\n",
       "  'bigg': ['GDR', 'GDRh', 'GDRm', 'r0021', 'r0022'],\n",
       "  'deprecated': ['MNXR13448', 'MNXR82982'],\n",
       "  'kegg': ['R00094'],\n",
       "  'seed': ['rxn00070'],\n",
       "  'metacyc': nan,\n",
       "  'rhea': nan,\n",
       "  'sabiork': ['676'],\n",
       "  'reactome': nan},\n",
       " 'MNXR100098': {'metanetx': ['MNXR100098'],\n",
       "  'bigg': ['GDR_nadp_h', 'GTHOm', 'GTHOr'],\n",
       "  'deprecated': ['MNXR2826', 'MNXR82983'],\n",
       "  'kegg': ['R00115'],\n",
       "  'seed': ['rxn00086'],\n",
       "  'metacyc': ['GLUTATHIONE-REDUCT-NADPH-RXN'],\n",
       "  'rhea': ['11740', '11741', '11742', '11743'],\n",
       "  'sabiork': ['695'],\n",
       "  'reactome': ['R-ATH-3323079',\n",
       "   'R-ATH-71682',\n",
       "   'R-BTA-3323079',\n",
       "   'R-BTA-71682',\n",
       "   'R-CEL-3323079',\n",
       "   'R-CEL-71682',\n",
       "   'R-CFA-3323079',\n",
       "   'R-CFA-71682',\n",
       "   'R-DDI-3323079',\n",
       "   'R-DDI-71682',\n",
       "   'R-DRE-3323079',\n",
       "   'R-DRE-71682',\n",
       "   'R-GGA-3323079',\n",
       "   'R-GGA-71682',\n",
       "   'R-HSA-3323079',\n",
       "   'R-HSA-71682',\n",
       "   'R-MMU-3323079',\n",
       "   'R-MMU-71682',\n",
       "   'R-OSA-3323079',\n",
       "   'R-OSA-71682',\n",
       "   'R-PFA-3323079',\n",
       "   'R-PFA-71682',\n",
       "   'R-RNO-3323079',\n",
       "   'R-RNO-71682',\n",
       "   'R-SCE-3323079',\n",
       "   'R-SCE-71682',\n",
       "   'R-SPO-3323079',\n",
       "   'R-SPO-71682',\n",
       "   'R-SSC-3323079',\n",
       "   'R-SSC-71682',\n",
       "   'R-TGU-3323079',\n",
       "   'R-TGU-71682',\n",
       "   'R-XTR-3323079',\n",
       "   'R-XTR-71682']},\n",
       " 'MNXR100099': {'metanetx': ['MNXR100099'],\n",
       "  'bigg': ['GDTP', 'GTPDPDP'],\n",
       "  'deprecated': ['MNXR55609', 'MNXR69191'],\n",
       "  'kegg': ['R03409'],\n",
       "  'seed': ['rxn02449'],\n",
       "  'metacyc': ['PPPGPPHYDRO-RXN'],\n",
       "  'rhea': ['13073', '13074', '13075', '13076'],\n",
       "  'sabiork': nan,\n",
       "  'reactome': nan},\n",
       " 'MNXR100100': {'metanetx': ['MNXR100100'],\n",
       "  'bigg': ['GF4GL_0'],\n",
       "  'deprecated': ['MNXR55556', 'MNXR69120'],\n",
       "  'kegg': ['R09399'],\n",
       "  'seed': ['rxn10525'],\n",
       "  'metacyc': ['RXN-8080'],\n",
       "  'rhea': ['30555', '30556', '30557', '30558'],\n",
       "  'sabiork': ['13473'],\n",
       "  'reactome': nan},\n",
       " 'MNXR100101': {'metanetx': ['MNXR100101'],\n",
       "  'bigg': ['GF4GL_1'],\n",
       "  'deprecated': ['MNXR71589', 'MNXR55557', 'MNXR69121', 'MNXR82984'],\n",
       "  'kegg': ['R09400'],\n",
       "  'seed': ['rxn10526'],\n",
       "  'metacyc': ['RXN-8081'],\n",
       "  'rhea': ['30523', '30524', '30525', '30526'],\n",
       "  'sabiork': ['13474'],\n",
       "  'reactome': nan},\n",
       " 'MNXR100102': {'metanetx': ['MNXR100102'],\n",
       "  'bigg': ['GF4GL_2'],\n",
       "  'deprecated': ['MNXR69122'],\n",
       "  'kegg': nan,\n",
       "  'seed': ['rxn10527'],\n",
       "  'metacyc': nan,\n",
       "  'rhea': nan,\n",
       "  'sabiork': nan,\n",
       "  'reactome': nan},\n",
       " 'MNXR100103': {'metanetx': ['MNXR100103'],\n",
       "  'bigg': ['GF4GL_3'],\n",
       "  'deprecated': ['MNXR69123'],\n",
       "  'kegg': nan,\n",
       "  'seed': ['rxn10528'],\n",
       "  'metacyc': nan,\n",
       "  'rhea': nan,\n",
       "  'sabiork': nan,\n",
       "  'reactome': nan},\n",
       " 'MNXR100104': {'metanetx': ['MNXR100104'],\n",
       "  'bigg': ['GF4GL_4'],\n",
       "  'deprecated': ['MNXR69124'],\n",
       "  'kegg': nan,\n",
       "  'seed': ['rxn10529'],\n",
       "  'metacyc': nan,\n",
       "  'rhea': nan,\n",
       "  'sabiork': nan,\n",
       "  'reactome': nan},\n",
       " 'MNXR100105': {'metanetx': ['MNXR100105'],\n",
       "  'bigg': ['GF4GL_5'],\n",
       "  'deprecated': ['MNXR69125'],\n",
       "  'kegg': nan,\n",
       "  'seed': ['rxn10530'],\n",
       "  'metacyc': nan,\n",
       "  'rhea': nan,\n",
       "  'sabiork': nan,\n",
       "  'reactome': nan},\n",
       " 'MNXR100106': {'metanetx': ['MNXR100106'],\n",
       "  'bigg': ['GF4GL_6'],\n",
       "  'deprecated': ['MNXR69126'],\n",
       "  'kegg': nan,\n",
       "  'seed': ['rxn10531'],\n",
       "  'metacyc': nan,\n",
       "  'rhea': nan,\n",
       "  'sabiork': nan,\n",
       "  'reactome': nan},\n",
       " 'MNXR100107': {'metanetx': ['MNXR100107'],\n",
       "  'bigg': ['GF6PTA', 'GF6PTA_1'],\n",
       "  'deprecated': ['MNXR69127'],\n",
       "  'kegg': nan,\n",
       "  'seed': nan,\n",
       "  'metacyc': ['L-GLN-FRUCT-6-P-AMINOTRANS-RXN'],\n",
       "  'rhea': nan,\n",
       "  'sabiork': nan,\n",
       "  'reactome': nan},\n",
       " 'MNXR100108': {'metanetx': ['MNXR100108'],\n",
       "  'bigg': ['GFUCS'],\n",
       "  'deprecated': ['MNXR69128', 'MNXR2597'],\n",
       "  'kegg': ['R05692'],\n",
       "  'seed': ['rxn03962'],\n",
       "  'metacyc': ['1.1.1.271-RXN'],\n",
       "  'rhea': ['18885', '18886', '18887', '18888'],\n",
       "  'sabiork': nan,\n",
       "  'reactome': nan},\n",
       " 'MNXR100109': {'metanetx': ['MNXR100109'],\n",
       "  'bigg': ['GGCHLDAR'],\n",
       "  'deprecated': ['MNXR82985'],\n",
       "  'kegg': nan,\n",
       "  'seed': nan,\n",
       "  'metacyc': ['RXN-17428'],\n",
       "  'rhea': nan,\n",
       "  'sabiork': nan,\n",
       "  'reactome': nan},\n",
       " 'MNXR100110': {'metanetx': ['MNXR100110'],\n",
       "  'bigg': ['GGCHLDBR'],\n",
       "  'deprecated': ['MNXR82986'],\n",
       "  'kegg': nan,\n",
       "  'seed': nan,\n",
       "  'metacyc': nan,\n",
       "  'rhea': nan,\n",
       "  'sabiork': nan,\n",
       "  'reactome': nan},\n",
       " 'MNXR100111': {'metanetx': ['MNXR100111'],\n",
       "  'bigg': ['GGDPR', 'GGDR'],\n",
       "  'deprecated': ['MNXR70387', 'MNXR56321'],\n",
       "  'kegg': ['R02063'],\n",
       "  'seed': ['rxn01487'],\n",
       "  'metacyc': ['RXN-10625'],\n",
       "  'rhea': ['26229', '26230', '26231', '26232'],\n",
       "  'sabiork': nan,\n",
       "  'reactome': nan},\n",
       " 'MNXR100112': {'metanetx': ['MNXR100112'],\n",
       "  'bigg': ['GGDPtu'],\n",
       "  'deprecated': ['MNXR82987'],\n",
       "  'kegg': nan,\n",
       "  'seed': nan,\n",
       "  'metacyc': nan,\n",
       "  'rhea': nan,\n",
       "  'sabiork': nan,\n",
       "  'reactome': nan},\n",
       " 'MNXR100113': {'metanetx': ['MNXR100113'],\n",
       "  'bigg': ['GGGABADr'],\n",
       "  'deprecated': ['MNXR2598'],\n",
       "  'kegg': ['R07418'],\n",
       "  'seed': ['rxn05127'],\n",
       "  'metacyc': nan,\n",
       "  'rhea': ['28410', '28411', '28412', '28413'],\n",
       "  'sabiork': nan,\n",
       "  'reactome': nan},\n",
       " 'MNXR100114': {'metanetx': ['MNXR100114'],\n",
       "  'bigg': ['GGGABAH'],\n",
       "  'deprecated': ['MNXR31549'],\n",
       "  'kegg': ['R07419'],\n",
       "  'seed': ['rxn05128'],\n",
       "  'metacyc': ['RXN0-3942'],\n",
       "  'rhea': ['19737', '19738', '19739', '19740'],\n",
       "  'sabiork': nan,\n",
       "  'reactome': nan},\n",
       " 'MNXR100115': {'metanetx': ['MNXR100115'],\n",
       "  'bigg': ['GGGH', 'GGLGH', 'r0627'],\n",
       "  'deprecated': ['MNXR31560', 'MNXR69130'],\n",
       "  'kegg': ['R01104'],\n",
       "  'seed': ['rxn00819'],\n",
       "  'metacyc': nan,\n",
       "  'rhea': nan,\n",
       "  'sabiork': nan,\n",
       "  'reactome': nan},\n",
       " 'MNXR100116': {'metanetx': ['MNXR100116'],\n",
       "  'bigg': ['GGGPS'],\n",
       "  'deprecated': ['MNXR69129'],\n",
       "  'kegg': nan,\n",
       "  'seed': nan,\n",
       "  'metacyc': nan,\n",
       "  'rhea': nan,\n",
       "  'sabiork': nan,\n",
       "  'reactome': nan},\n",
       " 'MNXR100117': {'metanetx': ['MNXR100117'],\n",
       "  'bigg': ['GGH_10FTHF5GLUe', 'GGH_10FTHF5GLUl'],\n",
       "  'deprecated': nan,\n",
       "  'kegg': nan,\n",
       "  'seed': nan,\n",
       "  'metacyc': nan,\n",
       "  'rhea': nan,\n",
       "  'sabiork': nan,\n",
       "  'reactome': nan},\n",
       " 'MNXR100118': {'metanetx': ['MNXR100118'],\n",
       "  'bigg': ['GGH_10FTHF6GLUe', 'GGH_10FTHF6GLUl'],\n",
       "  'deprecated': nan,\n",
       "  'kegg': nan,\n",
       "  'seed': nan,\n",
       "  'metacyc': nan,\n",
       "  'rhea': nan,\n",
       "  'sabiork': nan,\n",
       "  'reactome': nan},\n",
       " 'MNXR100119': {'metanetx': ['MNXR100119'],\n",
       "  'bigg': ['GGH_10FTHF7GLUe', 'GGH_10FTHF7GLUl'],\n",
       "  'deprecated': nan,\n",
       "  'kegg': nan,\n",
       "  'seed': nan,\n",
       "  'metacyc': nan,\n",
       "  'rhea': nan,\n",
       "  'sabiork': nan,\n",
       "  'reactome': nan},\n",
       " 'MNXR100120': {'metanetx': ['MNXR100120'],\n",
       "  'bigg': ['GGH_5DHFe', 'GGH_5DHFl'],\n",
       "  'deprecated': nan,\n",
       "  'kegg': nan,\n",
       "  'seed': nan,\n",
       "  'metacyc': nan,\n",
       "  'rhea': nan,\n",
       "  'sabiork': nan,\n",
       "  'reactome': nan},\n",
       " 'MNXR100121': {'metanetx': ['MNXR100121'],\n",
       "  'bigg': ['GGH_5THFe', 'GGH_5THFl'],\n",
       "  'deprecated': nan,\n",
       "  'kegg': nan,\n",
       "  'seed': nan,\n",
       "  'metacyc': nan,\n",
       "  'rhea': nan,\n",
       "  'sabiork': nan,\n",
       "  'reactome': nan},\n",
       " 'MNXR100122': {'metanetx': ['MNXR100122'],\n",
       "  'bigg': ['GGH_6DHFe', 'GGH_6DHFl'],\n",
       "  'deprecated': nan,\n",
       "  'kegg': nan,\n",
       "  'seed': nan,\n",
       "  'metacyc': nan,\n",
       "  'rhea': nan,\n",
       "  'sabiork': nan,\n",
       "  'reactome': nan},\n",
       " 'MNXR100123': {'metanetx': ['MNXR100123'],\n",
       "  'bigg': ['GGH_6THFe', 'GGH_6THFl'],\n",
       "  'deprecated': nan,\n",
       "  'kegg': nan,\n",
       "  'seed': nan,\n",
       "  'metacyc': nan,\n",
       "  'rhea': nan,\n",
       "  'sabiork': nan,\n",
       "  'reactome': nan},\n",
       " 'MNXR100124': {'metanetx': ['MNXR100124'],\n",
       "  'bigg': ['GGH_7DHFe', 'GGH_7DHFl'],\n",
       "  'deprecated': nan,\n",
       "  'kegg': nan,\n",
       "  'seed': nan,\n",
       "  'metacyc': nan,\n",
       "  'rhea': nan,\n",
       "  'sabiork': nan,\n",
       "  'reactome': nan},\n",
       " 'MNXR100125': {'metanetx': ['MNXR100125'],\n",
       "  'bigg': ['GGH_7THFe', 'GGH_7THFl'],\n",
       "  'deprecated': nan,\n",
       "  'kegg': nan,\n",
       "  'seed': nan,\n",
       "  'metacyc': nan,\n",
       "  'rhea': nan,\n",
       "  'sabiork': nan,\n",
       "  'reactome': nan},\n",
       " 'MNXR100126': {'metanetx': ['MNXR100126'],\n",
       "  'bigg': ['GGLUCT'],\n",
       "  'deprecated': nan,\n",
       "  'kegg': nan,\n",
       "  'seed': nan,\n",
       "  'metacyc': nan,\n",
       "  'rhea': nan,\n",
       "  'sabiork': nan,\n",
       "  'reactome': nan},\n",
       " 'MNXR100127': {'metanetx': ['MNXR100127'],\n",
       "  'bigg': ['GGLUCT2'],\n",
       "  'deprecated': ['MNXR31561', 'MNXR69131', 'MNXR82988'],\n",
       "  'kegg': nan,\n",
       "  'seed': ['rxn10753'],\n",
       "  'metacyc': nan,\n",
       "  'rhea': nan,\n",
       "  'sabiork': nan,\n",
       "  'reactome': nan},\n",
       " 'MNXR100128': {'metanetx': ['MNXR100128'],\n",
       "  'bigg': ['GGNG'],\n",
       "  'deprecated': ['MNXR55565', 'MNXR69132', 'MNXR82989'],\n",
       "  'kegg': nan,\n",
       "  'seed': nan,\n",
       "  'metacyc': nan,\n",
       "  'rhea': nan,\n",
       "  'sabiork': nan,\n",
       "  'reactome': nan},\n",
       " 'MNXR100129': {'metanetx': ['MNXR100129'],\n",
       "  'bigg': ['GGPP'],\n",
       "  'deprecated': nan,\n",
       "  'kegg': nan,\n",
       "  'seed': ['rxn04038'],\n",
       "  'metacyc': nan,\n",
       "  'rhea': nan,\n",
       "  'sabiork': nan,\n",
       "  'reactome': nan},\n",
       " 'MNXR100130': {'metanetx': ['MNXR100130'],\n",
       "  'bigg': ['GGPS'],\n",
       "  'deprecated': nan,\n",
       "  'kegg': nan,\n",
       "  'seed': ['rxn03635'],\n",
       "  'metacyc': nan,\n",
       "  'rhea': nan,\n",
       "  'sabiork': nan,\n",
       "  'reactome': nan},\n",
       " 'MNXR100131': {'metanetx': ['MNXR100131'],\n",
       "  'bigg': ['GGPTRCO'],\n",
       "  'deprecated': ['MNXR69133'],\n",
       "  'kegg': nan,\n",
       "  'seed': ['rxn08603'],\n",
       "  'metacyc': nan,\n",
       "  'rhea': nan,\n",
       "  'sabiork': nan,\n",
       "  'reactome': nan},\n",
       " 'MNXR100132': {'metanetx': ['MNXR100132'],\n",
       "  'bigg': ['GGPTRCS'],\n",
       "  'deprecated': ['MNXR69134'],\n",
       "  'kegg': nan,\n",
       "  'seed': ['rxn08604'],\n",
       "  'metacyc': nan,\n",
       "  'rhea': nan,\n",
       "  'sabiork': nan,\n",
       "  'reactome': nan},\n",
       " 'MNXR100133': {'metanetx': ['MNXR100133'],\n",
       "  'bigg': ['GGT'],\n",
       "  'deprecated': nan,\n",
       "  'kegg': nan,\n",
       "  'seed': nan,\n",
       "  'metacyc': nan,\n",
       "  'rhea': nan,\n",
       "  'sabiork': nan,\n",
       "  'reactome': nan},\n",
       " 'MNXR100134': {'metanetx': ['MNXR100134'],\n",
       "  'bigg': ['GGT5r', 'r0641'],\n",
       "  'deprecated': nan,\n",
       "  'kegg': nan,\n",
       "  'seed': nan,\n",
       "  'metacyc': nan,\n",
       "  'rhea': nan,\n",
       "  'sabiork': nan,\n",
       "  'reactome': nan},\n",
       " 'MNXR100135': {'metanetx': ['MNXR100135'],\n",
       "  'bigg': ['GGT6'],\n",
       "  'deprecated': nan,\n",
       "  'kegg': nan,\n",
       "  'seed': nan,\n",
       "  'metacyc': nan,\n",
       "  'rhea': nan,\n",
       "  'sabiork': nan,\n",
       "  'reactome': nan},\n",
       " 'MNXR100136': {'metanetx': ['MNXR100136'],\n",
       "  'bigg': ['GGTAe2', 'GTHRDH_syn', 'GTHRDHpp'],\n",
       "  'deprecated': ['MNXR31648', 'MNXR83073'],\n",
       "  'kegg': ['R00494'],\n",
       "  'seed': ['rxn00350'],\n",
       "  'metacyc': ['RXN-12618', 'RXN-15856'],\n",
       "  'rhea': ['28807', '28808', '28809', '28810'],\n",
       "  'sabiork': ['926'],\n",
       "  'reactome': ['R-ATH-8943279',\n",
       "   'R-BTA-8943279',\n",
       "   'R-CEL-8943279',\n",
       "   'R-CFA-8943279',\n",
       "   'R-DME-8943279',\n",
       "   'R-DRE-8943279',\n",
       "   'R-GGA-8943279',\n",
       "   'R-HSA-8943279',\n",
       "   'R-MMU-8943279',\n",
       "   'R-OSA-8943279',\n",
       "   'R-RNO-8943279',\n",
       "   'R-SCE-8943279',\n",
       "   'R-SPO-8943279',\n",
       "   'R-SSC-8943279',\n",
       "   'R-TGU-8943279',\n",
       "   'R-XTR-8943279']},\n",
       " 'MNXR100137': {'metanetx': ['MNXR100137'],\n",
       "  'bigg': ['GGTT'],\n",
       "  'deprecated': ['MNXR71442', 'MNXR57223'],\n",
       "  'kegg': ['R07475'],\n",
       "  'seed': ['rxn05287'],\n",
       "  'metacyc': ['RXN-8813'],\n",
       "  'rhea': ['25694', '25695', '25696', '25697'],\n",
       "  'sabiork': nan,\n",
       "  'reactome': nan},\n",
       " 'MNXR100138': {'metanetx': ['MNXR100138'],\n",
       "  'bigg': ['GGT_L'],\n",
       "  'deprecated': ['MNXR55566', 'MNXR69136', 'MNXR82991'],\n",
       "  'kegg': nan,\n",
       "  'seed': nan,\n",
       "  'metacyc': nan,\n",
       "  'rhea': nan,\n",
       "  'sabiork': nan,\n",
       "  'reactome': nan},\n",
       " 'MNXR100139': {'metanetx': ['MNXR100139'],\n",
       "  'bigg': ['GGT_U'],\n",
       "  'deprecated': ['MNXR55567', 'MNXR69137'],\n",
       "  'kegg': nan,\n",
       "  'seed': nan,\n",
       "  'metacyc': nan,\n",
       "  'rhea': nan,\n",
       "  'sabiork': nan,\n",
       "  'reactome': nan},\n",
       " 'MNXR100140': {'metanetx': ['MNXR100140'],\n",
       "  'bigg': ['GHBDHx'],\n",
       "  'deprecated': ['MNXR5495'],\n",
       "  'kegg': ['R01644'],\n",
       "  'seed': ['rxn01201'],\n",
       "  'metacyc': ['4-HYDROXYBUTYRATE-DEHYDROGENASE-RXN'],\n",
       "  'rhea': ['23948', '23949', '23950', '23951'],\n",
       "  'sabiork': ['1781'],\n",
       "  'reactome': nan},\n",
       " 'MNXR100141': {'metanetx': ['MNXR100141'],\n",
       "  'bigg': ['GHBDHy'],\n",
       "  'deprecated': ['MNXR9987'],\n",
       "  'kegg': ['R09281'],\n",
       "  'seed': nan,\n",
       "  'metacyc': ['RXN-11002'],\n",
       "  'rhea': ['26381', '26382', '26383', '26384'],\n",
       "  'sabiork': ['10705'],\n",
       "  'reactome': nan},\n",
       " 'MNXR100142': {'metanetx': ['MNXR100142'],\n",
       "  'bigg': ['GHMT', 'GHMT2r', 'GHMT2rm'],\n",
       "  'deprecated': ['MNXR2619'],\n",
       "  'kegg': ['R00945'],\n",
       "  'seed': ['rxn00692'],\n",
       "  'metacyc': nan,\n",
       "  'rhea': ['15481', '15482', '15483', '15484'],\n",
       "  'sabiork': ['95'],\n",
       "  'reactome': nan},\n",
       " 'MNXR100143': {'metanetx': ['MNXR100143'],\n",
       "  'bigg': ['GHMT3', 'GHMT3m'],\n",
       "  'deprecated': nan,\n",
       "  'kegg': nan,\n",
       "  'seed': nan,\n",
       "  'metacyc': nan,\n",
       "  'rhea': nan,\n",
       "  'sabiork': nan,\n",
       "  'reactome': nan},\n",
       " 'MNXR100144': {'metanetx': ['MNXR100144'],\n",
       "  'bigg': ['GK1', 'GK1m'],\n",
       "  'deprecated': ['MNXR55568', 'MNXR69138'],\n",
       "  'kegg': ['R00332'],\n",
       "  'seed': ['rxn00239'],\n",
       "  'metacyc': ['GUANYL-KIN-RXN'],\n",
       "  'rhea': ['20780', '20781', '20782', '20783'],\n",
       "  'sabiork': ['77'],\n",
       "  'reactome': nan},\n",
       " 'MNXR100145': {'metanetx': ['MNXR100145'],\n",
       "  'bigg': ['GK2'],\n",
       "  'deprecated': ['MNXR55569', 'MNXR69139'],\n",
       "  'kegg': nan,\n",
       "  'seed': ['rxn09562'],\n",
       "  'metacyc': nan,\n",
       "  'rhea': nan,\n",
       "  'sabiork': nan,\n",
       "  'reactome': nan},\n",
       " 'MNXR100146': {'metanetx': ['MNXR100146'],\n",
       "  'bigg': ['GK_adp'],\n",
       "  'deprecated': ['MNXR55570', 'MNXR69140', 'MNXR93877'],\n",
       "  'kegg': ['R05804'],\n",
       "  'seed': ['rxn04042'],\n",
       "  'metacyc': ['RXN-17001'],\n",
       "  'rhea': ['11460', '11461', '11462', '11463'],\n",
       "  'sabiork': ['5395', '9512'],\n",
       "  'reactome': nan},\n",
       " 'MNXR100147': {'metanetx': ['MNXR100147'],\n",
       "  'bigg': ['GLA'],\n",
       "  'deprecated': ['MNXR82992'],\n",
       "  'kegg': nan,\n",
       "  'seed': nan,\n",
       "  'metacyc': nan,\n",
       "  'rhea': nan,\n",
       "  'sabiork': nan,\n",
       "  'reactome': nan},\n",
       " 'MNXR100148': {'metanetx': ['MNXR100148'],\n",
       "  'bigg': ['GLACO', 'GLACOm'],\n",
       "  'deprecated': nan,\n",
       "  'kegg': nan,\n",
       "  'seed': nan,\n",
       "  'metacyc': nan,\n",
       "  'rhea': nan,\n",
       "  'sabiork': nan,\n",
       "  'reactome': nan},\n",
       " 'MNXR100149': {'metanetx': ['MNXR100149'],\n",
       "  'bigg': ['GLACter'],\n",
       "  'deprecated': ['MNXR31571'],\n",
       "  'kegg': nan,\n",
       "  'seed': nan,\n",
       "  'metacyc': nan,\n",
       "  'rhea': nan,\n",
       "  'sabiork': nan,\n",
       "  'reactome': nan},\n",
       " 'MNXR100150': {'metanetx': ['MNXR100150'],\n",
       "  'bigg': ['GLAl'],\n",
       "  'deprecated': ['MNXR69141', 'MNXR54057'],\n",
       "  'kegg': nan,\n",
       "  'seed': nan,\n",
       "  'metacyc': nan,\n",
       "  'rhea': nan,\n",
       "  'sabiork': nan,\n",
       "  'reactome': nan},\n",
       " 'MNXR100151': {'metanetx': ['MNXR100151'],\n",
       "  'bigg': ['GLAl_cho'],\n",
       "  'deprecated': nan,\n",
       "  'kegg': nan,\n",
       "  'seed': nan,\n",
       "  'metacyc': nan,\n",
       "  'rhea': nan,\n",
       "  'sabiork': nan,\n",
       "  'reactome': nan},\n",
       " 'MNXR100152': {'metanetx': ['MNXR100152'],\n",
       "  'bigg': ['GLB1'],\n",
       "  'deprecated': ['MNXR31573'],\n",
       "  'kegg': nan,\n",
       "  'seed': nan,\n",
       "  'metacyc': nan,\n",
       "  'rhea': nan,\n",
       "  'sabiork': nan,\n",
       "  'reactome': nan},\n",
       " 'MNXR100153': {'metanetx': ['MNXR100153'],\n",
       "  'bigg': ['GLB1_cho'],\n",
       "  'deprecated': nan,\n",
       "  'kegg': nan,\n",
       "  'seed': nan,\n",
       "  'metacyc': nan,\n",
       "  'rhea': nan,\n",
       "  'sabiork': nan,\n",
       "  'reactome': nan},\n",
       " 'MNXR100154': {'metanetx': ['MNXR100154'],\n",
       "  'bigg': ['GLBRAN'],\n",
       "  'deprecated': ['MNXR2628'],\n",
       "  'kegg': nan,\n",
       "  'seed': nan,\n",
       "  'metacyc': nan,\n",
       "  'rhea': nan,\n",
       "  'sabiork': nan,\n",
       "  'reactome': nan},\n",
       " 'MNXR100155': {'metanetx': ['MNXR100155'],\n",
       "  'bigg': ['GLBRAN2', 'GLDBRAN2'],\n",
       "  'deprecated': ['MNXR31574', 'MNXR44643', 'MNXR69142'],\n",
       "  'kegg': nan,\n",
       "  'seed': ['rxn08605'],\n",
       "  'metacyc': nan,\n",
       "  'rhea': nan,\n",
       "  'sabiork': nan,\n",
       "  'reactome': nan},\n",
       " 'MNXR100156': {'metanetx': ['MNXR100156'],\n",
       "  'bigg': ['GLCAASE1ly'],\n",
       "  'deprecated': ['MNXR69143', 'MNXR2630'],\n",
       "  'kegg': nan,\n",
       "  'seed': nan,\n",
       "  'metacyc': nan,\n",
       "  'rhea': nan,\n",
       "  'sabiork': nan,\n",
       "  'reactome': nan},\n",
       " 'MNXR100157': {'metanetx': ['MNXR100157'],\n",
       "  'bigg': ['GLCAASE3'],\n",
       "  'deprecated': ['MNXR82993'],\n",
       "  'kegg': nan,\n",
       "  'seed': nan,\n",
       "  'metacyc': nan,\n",
       "  'rhea': nan,\n",
       "  'sabiork': nan,\n",
       "  'reactome': nan},\n",
       " 'MNXR100158': {'metanetx': ['MNXR100158'],\n",
       "  'bigg': ['GLCAASE4ly'],\n",
       "  'deprecated': ['MNXR69144', 'MNXR2631'],\n",
       "  'kegg': nan,\n",
       "  'seed': nan,\n",
       "  'metacyc': nan,\n",
       "  'rhea': nan,\n",
       "  'sabiork': nan,\n",
       "  'reactome': nan},\n",
       " 'MNXR100159': {'metanetx': ['MNXR100159'],\n",
       "  'bigg': ['GLCAASE5ly'],\n",
       "  'deprecated': ['MNXR69145', 'MNXR2632'],\n",
       "  'kegg': nan,\n",
       "  'seed': nan,\n",
       "  'metacyc': nan,\n",
       "  'rhea': nan,\n",
       "  'sabiork': nan,\n",
       "  'reactome': nan},\n",
       " 'MNXR100160': {'metanetx': ['MNXR100160'],\n",
       "  'bigg': ['GLCAASE6ly'],\n",
       "  'deprecated': ['MNXR69146', 'MNXR2633'],\n",
       "  'kegg': nan,\n",
       "  'seed': nan,\n",
       "  'metacyc': nan,\n",
       "  'rhea': nan,\n",
       "  'sabiork': nan,\n",
       "  'reactome': nan},\n",
       " 'MNXR100161': {'metanetx': ['MNXR100161'],\n",
       "  'bigg': ['GLCAASE7ly'],\n",
       "  'deprecated': ['MNXR69147', 'MNXR2634'],\n",
       "  'kegg': nan,\n",
       "  'seed': nan,\n",
       "  'metacyc': nan,\n",
       "  'rhea': nan,\n",
       "  'sabiork': nan,\n",
       "  'reactome': nan},\n",
       " 'MNXR100162': {'metanetx': ['MNXR100162'],\n",
       "  'bigg': ['GLCAASE8ly'],\n",
       "  'deprecated': ['MNXR31575', 'MNXR69148', 'MNXR82994'],\n",
       "  'kegg': nan,\n",
       "  'seed': nan,\n",
       "  'metacyc': nan,\n",
       "  'rhea': nan,\n",
       "  'sabiork': nan,\n",
       "  'reactome': nan},\n",
       " 'MNXR100163': {'metanetx': ['MNXR100163'],\n",
       "  'bigg': ['GLCAASE9ly'],\n",
       "  'deprecated': ['MNXR69149', 'MNXR2636', 'MNXR82995'],\n",
       "  'kegg': nan,\n",
       "  'seed': nan,\n",
       "  'metacyc': nan,\n",
       "  'rhea': nan,\n",
       "  'sabiork': nan,\n",
       "  'reactome': nan},\n",
       " 'MNXR100164': {'metanetx': ['MNXR100164'],\n",
       "  'bigg': ['GLCAE1g'],\n",
       "  'deprecated': ['MNXR2637', 'MNXR82996'],\n",
       "  'kegg': nan,\n",
       "  'seed': nan,\n",
       "  'metacyc': nan,\n",
       "  'rhea': nan,\n",
       "  'sabiork': nan,\n",
       "  'reactome': nan},\n",
       " 'MNXR100165': {'metanetx': ['MNXR100165'],\n",
       "  'bigg': ['GLCAE2g'],\n",
       "  'deprecated': ['MNXR2638'],\n",
       "  'kegg': nan,\n",
       "  'seed': nan,\n",
       "  'metacyc': nan,\n",
       "  'rhea': nan,\n",
       "  'sabiork': nan,\n",
       "  'reactome': nan},\n",
       " 'MNXR100166': {'metanetx': ['MNXR100166'],\n",
       "  'bigg': ['GLCAT2g'],\n",
       "  'deprecated': ['MNXR55571', 'MNXR82997'],\n",
       "  'kegg': nan,\n",
       "  'seed': nan,\n",
       "  'metacyc': nan,\n",
       "  'rhea': nan,\n",
       "  'sabiork': nan,\n",
       "  'reactome': nan},\n",
       " 'MNXR100167': {'metanetx': ['MNXR100167'],\n",
       "  'bigg': ['GLCAT3g'],\n",
       "  'deprecated': ['MNXR55572', 'MNXR82998'],\n",
       "  'kegg': nan,\n",
       "  'seed': nan,\n",
       "  'metacyc': nan,\n",
       "  'rhea': nan,\n",
       "  'sabiork': nan,\n",
       "  'reactome': nan},\n",
       " 'MNXR100168': {'metanetx': ['MNXR100168'],\n",
       "  'bigg': ['GLCAT4g'],\n",
       "  'deprecated': ['MNXR55573'],\n",
       "  'kegg': nan,\n",
       "  'seed': nan,\n",
       "  'metacyc': nan,\n",
       "  'rhea': nan,\n",
       "  'sabiork': nan,\n",
       "  'reactome': nan},\n",
       " 'MNXR100169': {'metanetx': ['MNXR100169'],\n",
       "  'bigg': ['GLCAT5g'],\n",
       "  'deprecated': ['MNXR55574'],\n",
       "  'kegg': nan,\n",
       "  'seed': nan,\n",
       "  'metacyc': nan,\n",
       "  'rhea': nan,\n",
       "  'sabiork': nan,\n",
       "  'reactome': nan},\n",
       " 'MNXR100170': {'metanetx': ['MNXR100170'],\n",
       "  'bigg': ['GLCAT6g'],\n",
       "  'deprecated': ['MNXR55575'],\n",
       "  'kegg': nan,\n",
       "  'seed': nan,\n",
       "  'metacyc': nan,\n",
       "  'rhea': nan,\n",
       "  'sabiork': nan,\n",
       "  'reactome': nan},\n",
       " 'MNXR100171': {'metanetx': ['MNXR100171'],\n",
       "  'bigg': ['GLCAT7g'],\n",
       "  'deprecated': ['MNXR55576'],\n",
       "  'kegg': nan,\n",
       "  'seed': nan,\n",
       "  'metacyc': nan,\n",
       "  'rhea': nan,\n",
       "  'sabiork': nan,\n",
       "  'reactome': nan},\n",
       " 'MNXR100172': {'metanetx': ['MNXR100172'],\n",
       "  'bigg': ['GLCAT8g'],\n",
       "  'deprecated': ['MNXR55577'],\n",
       "  'kegg': nan,\n",
       "  'seed': nan,\n",
       "  'metacyc': nan,\n",
       "  'rhea': nan,\n",
       "  'sabiork': nan,\n",
       "  'reactome': nan},\n",
       " 'MNXR100173': {'metanetx': ['MNXR100173'],\n",
       "  'bigg': ['GLCAT9g'],\n",
       "  'deprecated': ['MNXR55578'],\n",
       "  'kegg': nan,\n",
       "  'seed': nan,\n",
       "  'metacyc': nan,\n",
       "  'rhea': nan,\n",
       "  'sabiork': nan,\n",
       "  'reactome': nan},\n",
       " 'MNXR100174': {'metanetx': ['MNXR100174'],\n",
       "  'bigg': ['GLCATg'],\n",
       "  'deprecated': ['MNXR55579', 'MNXR82999'],\n",
       "  'kegg': nan,\n",
       "  'seed': nan,\n",
       "  'metacyc': nan,\n",
       "  'rhea': nan,\n",
       "  'sabiork': nan,\n",
       "  'reactome': nan},\n",
       " 'MNXR100175': {'metanetx': ['MNXR100175'],\n",
       "  'bigg': ['GLCATg_cho'],\n",
       "  'deprecated': nan,\n",
       "  'kegg': nan,\n",
       "  'seed': nan,\n",
       "  'metacyc': nan,\n",
       "  'rhea': nan,\n",
       "  'sabiork': nan,\n",
       "  'reactome': nan},\n",
       " 'MNXR100176': {'metanetx': ['MNXR100176'],\n",
       "  'bigg': ['GLCATr'],\n",
       "  'deprecated': ['MNXR69150', 'MNXR94189', 'MNXR2648'],\n",
       "  'kegg': nan,\n",
       "  'seed': ['rxn08607'],\n",
       "  'metacyc': nan,\n",
       "  'rhea': nan,\n",
       "  'sabiork': nan,\n",
       "  'reactome': nan},\n",
       " 'MNXR100177': {'metanetx': ['MNXR100177'],\n",
       "  'bigg': ['GLCDe', 'GLCDpp'],\n",
       "  'deprecated': ['MNXR55580', 'MNXR94190'],\n",
       "  'kegg': nan,\n",
       "  'seed': ['rxn08608', 'rxn10116'],\n",
       "  'metacyc': nan,\n",
       "  'rhea': nan,\n",
       "  'sabiork': nan,\n",
       "  'reactome': nan},\n",
       " 'MNXR100178': {'metanetx': ['MNXR100178'],\n",
       "  'bigg': ['GLCGLYCabcpp_syn'],\n",
       "  'deprecated': ['MNXR27592'],\n",
       "  'kegg': nan,\n",
       "  'seed': ['rxn05194'],\n",
       "  'metacyc': nan,\n",
       "  'rhea': nan,\n",
       "  'sabiork': nan,\n",
       "  'reactome': nan},\n",
       " 'MNXR100179': {'metanetx': ['MNXR100179'],\n",
       "  'bigg': ['GLCGLYCtex'],\n",
       "  'deprecated': nan,\n",
       "  'kegg': nan,\n",
       "  'seed': nan,\n",
       "  'metacyc': nan,\n",
       "  'rhea': nan,\n",
       "  'sabiork': nan,\n",
       "  'reactome': nan},\n",
       " 'MNXR100180': {'metanetx': ['MNXR100180'],\n",
       "  'bigg': ['GLCGSD', 'GLCGSDv'],\n",
       "  'deprecated': ['MNXR46602', 'MNXR31577', 'MNXR94539', 'MNXR69151'],\n",
       "  'kegg': nan,\n",
       "  'seed': ['rxn13297'],\n",
       "  'metacyc': nan,\n",
       "  'rhea': nan,\n",
       "  'sabiork': nan,\n",
       "  'reactome': nan},\n",
       " 'MNXR100181': {'metanetx': ['MNXR100181'],\n",
       "  'bigg': ['GLCMAN4'],\n",
       "  'deprecated': ['MNXR83000'],\n",
       "  'kegg': nan,\n",
       "  'seed': nan,\n",
       "  'metacyc': nan,\n",
       "  'rhea': nan,\n",
       "  'sabiork': nan,\n",
       "  'reactome': nan},\n",
       " 'MNXR100182': {'metanetx': ['MNXR100182'],\n",
       "  'bigg': ['GLCMAN4abc'],\n",
       "  'deprecated': ['MNXR83001'],\n",
       "  'kegg': nan,\n",
       "  'seed': nan,\n",
       "  'metacyc': nan,\n",
       "  'rhea': nan,\n",
       "  'sabiork': nan,\n",
       "  'reactome': nan},\n",
       " 'MNXR100183': {'metanetx': ['MNXR100183'],\n",
       "  'bigg': ['GLCMAN6'],\n",
       "  'deprecated': ['MNXR83002'],\n",
       "  'kegg': nan,\n",
       "  'seed': nan,\n",
       "  'metacyc': nan,\n",
       "  'rhea': nan,\n",
       "  'sabiork': nan,\n",
       "  'reactome': nan},\n",
       " 'MNXR100184': {'metanetx': ['MNXR100184'],\n",
       "  'bigg': ['GLCMAN600a_e'],\n",
       "  'deprecated': ['MNXR83003'],\n",
       "  'kegg': nan,\n",
       "  'seed': nan,\n",
       "  'metacyc': nan,\n",
       "  'rhea': nan,\n",
       "  'sabiork': nan,\n",
       "  'reactome': nan},\n",
       " 'MNXR100185': {'metanetx': ['MNXR100185'],\n",
       "  'bigg': ['GLCMAN600b_e'],\n",
       "  'deprecated': ['MNXR83004'],\n",
       "  'kegg': nan,\n",
       "  'seed': nan,\n",
       "  'metacyc': nan,\n",
       "  'rhea': nan,\n",
       "  'sabiork': nan,\n",
       "  'reactome': nan},\n",
       " 'MNXR100186': {'metanetx': ['MNXR100186'],\n",
       "  'bigg': ['GLCMAN600c_e'],\n",
       "  'deprecated': ['MNXR83005'],\n",
       "  'kegg': nan,\n",
       "  'seed': nan,\n",
       "  'metacyc': nan,\n",
       "  'rhea': nan,\n",
       "  'sabiork': nan,\n",
       "  'reactome': nan},\n",
       " 'MNXR100187': {'metanetx': ['MNXR100187'],\n",
       "  'bigg': ['GLCMAN6abc'],\n",
       "  'deprecated': ['MNXR83006'],\n",
       "  'kegg': nan,\n",
       "  'seed': nan,\n",
       "  'metacyc': nan,\n",
       "  'rhea': nan,\n",
       "  'sabiork': nan,\n",
       "  'reactome': nan},\n",
       " 'MNXR100188': {'metanetx': ['MNXR100188'],\n",
       "  'bigg': ['GLCMter', 'GLCt1', 'GLCter', 'GLCtex', 'GLCtg', 'GLCtly', 'GLCtv'],\n",
       "  'deprecated': ['MNXR90823', 'MNXR94191', 'MNXR2651'],\n",
       "  'kegg': nan,\n",
       "  'seed': ['rxn08617', 'rxn09679', 'rxn09875'],\n",
       "  'metacyc': ['TRANS-RXN0-574'],\n",
       "  'rhea': nan,\n",
       "  'sabiork': ['601', '7002'],\n",
       "  'reactome': nan},\n",
       " 'MNXR100189': {'metanetx': ['MNXR100189'],\n",
       "  'bigg': ['GLCNACASE1ly'],\n",
       "  'deprecated': ['MNXR2652'],\n",
       "  'kegg': nan,\n",
       "  'seed': nan,\n",
       "  'metacyc': nan,\n",
       "  'rhea': nan,\n",
       "  'sabiork': nan,\n",
       "  'reactome': nan},\n",
       " 'MNXR100190': {'metanetx': ['MNXR100190'],\n",
       "  'bigg': ['GLCNACASE2ly'],\n",
       "  'deprecated': ['MNXR2653'],\n",
       "  'kegg': nan,\n",
       "  'seed': nan,\n",
       "  'metacyc': nan,\n",
       "  'rhea': nan,\n",
       "  'sabiork': nan,\n",
       "  'reactome': nan},\n",
       " 'MNXR100191': {'metanetx': ['MNXR100191'],\n",
       "  'bigg': ['GLCNACASE3ly'],\n",
       "  'deprecated': ['MNXR2654'],\n",
       "  'kegg': nan,\n",
       "  'seed': nan,\n",
       "  'metacyc': nan,\n",
       "  'rhea': nan,\n",
       "  'sabiork': nan,\n",
       "  'reactome': nan},\n",
       " 'MNXR100192': {'metanetx': ['MNXR100192'],\n",
       "  'bigg': ['GLCNACASE4ly'],\n",
       "  'deprecated': ['MNXR2655'],\n",
       "  'kegg': nan,\n",
       "  'seed': nan,\n",
       "  'metacyc': nan,\n",
       "  'rhea': nan,\n",
       "  'sabiork': nan,\n",
       "  'reactome': nan},\n",
       " 'MNXR100193': {'metanetx': ['MNXR100193'],\n",
       "  'bigg': ['GLCNACASE5ly'],\n",
       "  'deprecated': ['MNXR2656'],\n",
       "  'kegg': nan,\n",
       "  'seed': nan,\n",
       "  'metacyc': nan,\n",
       "  'rhea': nan,\n",
       "  'sabiork': nan,\n",
       "  'reactome': nan},\n",
       " 'MNXR100194': {'metanetx': ['MNXR100194'],\n",
       "  'bigg': ['GLCNACDASg'],\n",
       "  'deprecated': ['MNXR2657'],\n",
       "  'kegg': nan,\n",
       "  'seed': nan,\n",
       "  'metacyc': nan,\n",
       "  'rhea': nan,\n",
       "  'sabiork': nan,\n",
       "  'reactome': nan},\n",
       " 'MNXR100195': {'metanetx': ['MNXR100195'],\n",
       "  'bigg': ['GLCNACPT'],\n",
       "  'deprecated': ['MNXR83007'],\n",
       "  'kegg': nan,\n",
       "  'seed': nan,\n",
       "  'metacyc': nan,\n",
       "  'rhea': nan,\n",
       "  'sabiork': nan,\n",
       "  'reactome': nan},\n",
       " 'MNXR100196': {'metanetx': ['MNXR100196'],\n",
       "  'bigg': ['GLCNACPT_L'],\n",
       "  'deprecated': ['MNXR2658', 'MNXR83008'],\n",
       "  'kegg': nan,\n",
       "  'seed': nan,\n",
       "  'metacyc': nan,\n",
       "  'rhea': nan,\n",
       "  'sabiork': nan,\n",
       "  'reactome': nan},\n",
       " 'MNXR100197': {'metanetx': ['MNXR100197'],\n",
       "  'bigg': ['GLCNACPT_U'],\n",
       "  'deprecated': ['MNXR2659'],\n",
       "  'kegg': nan,\n",
       "  'seed': nan,\n",
       "  'metacyc': nan,\n",
       "  'rhea': nan,\n",
       "  'sabiork': nan,\n",
       "  'reactome': nan},\n",
       " 'MNXR100198': {'metanetx': ['MNXR100198'],\n",
       "  'bigg': ['GLCNACPT_cho'],\n",
       "  'deprecated': nan,\n",
       "  'kegg': nan,\n",
       "  'seed': nan,\n",
       "  'metacyc': nan,\n",
       "  'rhea': nan,\n",
       "  'sabiork': nan,\n",
       "  'reactome': nan},\n",
       " 'MNXR100199': {'metanetx': ['MNXR100199'],\n",
       "  'bigg': ['GLCNACT'],\n",
       "  'deprecated': ['MNXR83009'],\n",
       "  'kegg': nan,\n",
       "  'seed': nan,\n",
       "  'metacyc': nan,\n",
       "  'rhea': nan,\n",
       "  'sabiork': nan,\n",
       "  'reactome': nan},\n",
       " 'MNXR100200': {'metanetx': ['MNXR100200'],\n",
       "  'bigg': ['GLCNACT1g'],\n",
       "  'deprecated': ['MNXR55581', 'MNXR83010'],\n",
       "  'kegg': nan,\n",
       "  'seed': nan,\n",
       "  'metacyc': nan,\n",
       "  'rhea': nan,\n",
       "  'sabiork': nan,\n",
       "  'reactome': nan},\n",
       " 'MNXR100201': {'metanetx': ['MNXR100201'],\n",
       "  'bigg': ['GLCNACT1g_cho'],\n",
       "  'deprecated': nan,\n",
       "  'kegg': nan,\n",
       "  'seed': nan,\n",
       "  'metacyc': nan,\n",
       "  'rhea': nan,\n",
       "  'sabiork': nan,\n",
       "  'reactome': nan},\n",
       " 'MNXR100202': {'metanetx': ['MNXR100202'],\n",
       "  'bigg': ['GLCNACT2g'],\n",
       "  'deprecated': ['MNXR55582'],\n",
       "  'kegg': nan,\n",
       "  'seed': nan,\n",
       "  'metacyc': nan,\n",
       "  'rhea': nan,\n",
       "  'sabiork': nan,\n",
       "  'reactome': nan},\n",
       " 'MNXR100203': {'metanetx': ['MNXR100203'],\n",
       "  'bigg': ['GLCNACT3g'],\n",
       "  'deprecated': ['MNXR55583'],\n",
       "  'kegg': nan,\n",
       "  'seed': nan,\n",
       "  'metacyc': nan,\n",
       "  'rhea': nan,\n",
       "  'sabiork': nan,\n",
       "  'reactome': nan},\n",
       " 'MNXR100204': {'metanetx': ['MNXR100204'],\n",
       "  'bigg': ['GLCNACT4g'],\n",
       "  'deprecated': ['MNXR55584'],\n",
       "  'kegg': nan,\n",
       "  'seed': nan,\n",
       "  'metacyc': nan,\n",
       "  'rhea': nan,\n",
       "  'sabiork': nan,\n",
       "  'reactome': nan},\n",
       " 'MNXR100205': {'metanetx': ['MNXR100205'],\n",
       "  'bigg': ['GLCNACT5g'],\n",
       "  'deprecated': ['MNXR55585'],\n",
       "  'kegg': nan,\n",
       "  'seed': nan,\n",
       "  'metacyc': nan,\n",
       "  'rhea': nan,\n",
       "  'sabiork': nan,\n",
       "  'reactome': nan},\n",
       " 'MNXR100206': {'metanetx': ['MNXR100206'],\n",
       "  'bigg': ['GLCNACT_L'],\n",
       "  'deprecated': ['MNXR55586', 'MNXR83011'],\n",
       "  'kegg': nan,\n",
       "  'seed': nan,\n",
       "  'metacyc': nan,\n",
       "  'rhea': nan,\n",
       "  'sabiork': nan,\n",
       "  'reactome': nan},\n",
       " 'MNXR100207': {'metanetx': ['MNXR100207'],\n",
       "  'bigg': ['GLCNACT_U'],\n",
       "  'deprecated': ['MNXR55587'],\n",
       "  'kegg': nan,\n",
       "  'seed': nan,\n",
       "  'metacyc': nan,\n",
       "  'rhea': nan,\n",
       "  'sabiork': nan,\n",
       "  'reactome': nan},\n",
       " 'MNXR100208': {'metanetx': ['MNXR100208'],\n",
       "  'bigg': ['GLCNACT_cho'],\n",
       "  'deprecated': ['MNXR59657', 'MNXR91997', 'MNXR74278'],\n",
       "  'kegg': ['R04494', 'R05970'],\n",
       "  'seed': nan,\n",
       "  'metacyc': nan,\n",
       "  'rhea': ['23380', '23381', '23382', '23383'],\n",
       "  'sabiork': nan,\n",
       "  'reactome': nan},\n",
       " 'MNXR100209': {'metanetx': ['MNXR100209'],\n",
       "  'bigg': ['GLCNt2ir', 'GLCNt2r', 'GLCNt2rpp'],\n",
       "  'deprecated': ['MNXR2667'],\n",
       "  'kegg': nan,\n",
       "  'seed': ['rxn05571', 'rxn08609'],\n",
       "  'metacyc': ['TRANS-RXN0-209'],\n",
       "  'rhea': ['28831', '28832', '28833', '28834'],\n",
       "  'sabiork': nan,\n",
       "  'reactome': nan},\n",
       " 'MNXR100210': {'metanetx': ['MNXR100210'],\n",
       "  'bigg': ['GLCNtex'],\n",
       "  'deprecated': ['MNXR2668'],\n",
       "  'kegg': nan,\n",
       "  'seed': ['rxn08610', 'rxn12424'],\n",
       "  'metacyc': nan,\n",
       "  'rhea': nan,\n",
       "  'sabiork': ['13786'],\n",
       "  'reactome': nan},\n",
       " 'MNXR100211': {'metanetx': ['MNXR100211'],\n",
       "  'bigg': ['GLCNtv', 'GLYCOGENt'],\n",
       "  'deprecated': ['MNXR79915', 'MNXR42957'],\n",
       "  'kegg': nan,\n",
       "  'seed': ['rxn05580', 'rxn13298'],\n",
       "  'metacyc': nan,\n",
       "  'rhea': nan,\n",
       "  'sabiork': nan,\n",
       "  'reactome': nan},\n",
       " 'MNXR100212': {'metanetx': ['MNXR100212'],\n",
       "  'bigg': ['GLCOAS'],\n",
       "  'deprecated': ['MNXR2669'],\n",
       "  'kegg': ['R02402'],\n",
       "  'seed': ['rxn01730'],\n",
       "  'metacyc': ['GLUTARATE--COA-LIGASE-RXN'],\n",
       "  'rhea': ['14169', '14170', '14171', '14172'],\n",
       "  'sabiork': nan,\n",
       "  'reactome': nan},\n",
       " 'MNXR100213': {'metanetx': ['MNXR100213'],\n",
       "  'bigg': ['GLCOASYNT', 'r0557'],\n",
       "  'deprecated': ['MNXR67667', 'MNXR80760', 'MNXR55588', 'MNXR69152'],\n",
       "  'kegg': nan,\n",
       "  'seed': ['rxn01873', 'rxn11960'],\n",
       "  'metacyc': nan,\n",
       "  'rhea': nan,\n",
       "  'sabiork': nan,\n",
       "  'reactome': nan},\n",
       " 'MNXR100214': {'metanetx': ['MNXR100214'],\n",
       "  'bigg': ['GLCP'],\n",
       "  'deprecated': ['MNXR50940', 'MNXR53901', 'MNXR81045', 'MNXR69153'],\n",
       "  'kegg': nan,\n",
       "  'seed': ['rxn13299'],\n",
       "  'metacyc': nan,\n",
       "  'rhea': nan,\n",
       "  'sabiork': nan,\n",
       "  'reactome': nan},\n",
       " 'MNXR100215': {'metanetx': ['MNXR100215'],\n",
       "  'bigg': ['GLCP2'],\n",
       "  'deprecated': ['MNXR50941', 'MNXR53617', 'MNXR80377'],\n",
       "  'kegg': nan,\n",
       "  'seed': ['rxn08611'],\n",
       "  'metacyc': nan,\n",
       "  'rhea': nan,\n",
       "  'sabiork': nan,\n",
       "  'reactome': nan},\n",
       " 'MNXR100216': {'metanetx': ['MNXR100216'],\n",
       "  'bigg': ['GLCPcom_SA'],\n",
       "  'deprecated': ['MNXR69154', 'MNXR2673'],\n",
       "  'kegg': nan,\n",
       "  'seed': nan,\n",
       "  'metacyc': nan,\n",
       "  'rhea': nan,\n",
       "  'sabiork': nan,\n",
       "  'reactome': nan},\n",
       " 'MNXR100217': {'metanetx': ['MNXR100217'],\n",
       "  'bigg': ['GLCR1TRA1'],\n",
       "  'deprecated': ['MNXR83012'],\n",
       "  'kegg': nan,\n",
       "  'seed': nan,\n",
       "  'metacyc': nan,\n",
       "  'rhea': nan,\n",
       "  'sabiork': nan,\n",
       "  'reactome': nan},\n",
       " 'MNXR100218': {'metanetx': ['MNXR100218'],\n",
       "  'bigg': ['GLCR1TRB1'],\n",
       "  'deprecated': ['MNXR83013'],\n",
       "  'kegg': nan,\n",
       "  'seed': nan,\n",
       "  'metacyc': nan,\n",
       "  'rhea': nan,\n",
       "  'sabiork': nan,\n",
       "  'reactome': nan},\n",
       " 'MNXR100219': {'metanetx': ['MNXR100219'],\n",
       "  'bigg': ['GLCRAL', 'GLCRAL_1'],\n",
       "  'deprecated': ['MNXR2674'],\n",
       "  'kegg': ['R02754'],\n",
       "  'seed': ['rxn01990'],\n",
       "  'metacyc': ['KDGALDOL-RXN'],\n",
       "  'rhea': ['27726', '27727', '27728', '27729'],\n",
       "  'sabiork': nan,\n",
       "  'reactome': nan},\n",
       " 'MNXR100220': {'metanetx': ['MNXR100220'],\n",
       "  'bigg': ['GLCRD', 'GLCRD_1'],\n",
       "  'deprecated': ['MNXR2675'],\n",
       "  'kegg': ['R02752'],\n",
       "  'seed': ['rxn01989'],\n",
       "  'metacyc': ['GLUCARDEHYDRA-RXN'],\n",
       "  'rhea': ['14573', '14574', '14575', '14576'],\n",
       "  'sabiork': ['2632'],\n",
       "  'reactome': nan},\n",
       " 'MNXR100221': {'metanetx': ['MNXR100221'],\n",
       "  'bigg': ['GLCRt2r', 'GLCRt2rpp'],\n",
       "  'deprecated': ['MNXR2676'],\n",
       "  'kegg': nan,\n",
       "  'seed': ['rxn05572', 'rxn08613'],\n",
       "  'metacyc': nan,\n",
       "  'rhea': nan,\n",
       "  'sabiork': nan,\n",
       "  'reactome': nan},\n",
       " 'MNXR100222': {'metanetx': ['MNXR100222'],\n",
       "  'bigg': ['GLCRtex'],\n",
       "  'deprecated': ['MNXR2677'],\n",
       "  'kegg': nan,\n",
       "  'seed': ['rxn08614', 'rxn12442'],\n",
       "  'metacyc': ['TRANS-RXN0-204'],\n",
       "  'rhea': ['28474', '28475', '28476', '28477'],\n",
       "  'sabiork': nan,\n",
       "  'reactome': nan},\n",
       " 'MNXR100223': {'metanetx': ['MNXR100223'],\n",
       "  'bigg': ['GLCS1'],\n",
       "  'deprecated': ['MNXR50942', 'MNXR53949', 'MNXR69155'],\n",
       "  'kegg': nan,\n",
       "  'seed': ['rxn13643'],\n",
       "  'metacyc': nan,\n",
       "  'rhea': nan,\n",
       "  'sabiork': nan,\n",
       "  'reactome': nan},\n",
       " 'MNXR100224': {'metanetx': ['MNXR100224'],\n",
       "  'bigg': ['GLCS2'],\n",
       "  'deprecated': ['MNXR67901', 'MNXR55589', 'MNXR69156'],\n",
       "  'kegg': nan,\n",
       "  'seed': ['rxn13300'],\n",
       "  'metacyc': nan,\n",
       "  'rhea': nan,\n",
       "  'sabiork': nan,\n",
       "  'reactome': nan},\n",
       " 'MNXR100225': {'metanetx': ['MNXR100225'],\n",
       "  'bigg': ['GLCSGLT1le'],\n",
       "  'deprecated': nan,\n",
       "  'kegg': nan,\n",
       "  'seed': nan,\n",
       "  'metacyc': nan,\n",
       "  'rhea': nan,\n",
       "  'sabiork': nan,\n",
       "  'reactome': nan},\n",
       " 'MNXR100226': {'metanetx': ['MNXR100226'],\n",
       "  'bigg': ['GLCTR1'],\n",
       "  'deprecated': ['MNXR55590'],\n",
       "  'kegg': nan,\n",
       "  'seed': nan,\n",
       "  'metacyc': nan,\n",
       "  'rhea': nan,\n",
       "  'sabiork': nan,\n",
       "  'reactome': nan},\n",
       " 'MNXR100227': {'metanetx': ['MNXR100227'],\n",
       "  'bigg': ['GLCTR2'],\n",
       "  'deprecated': ['MNXR55591', 'MNXR69158'],\n",
       "  'kegg': nan,\n",
       "  'seed': ['rxn08619'],\n",
       "  'metacyc': nan,\n",
       "  'rhea': nan,\n",
       "  'sabiork': nan,\n",
       "  'reactome': nan},\n",
       " 'MNXR100228': {'metanetx': ['MNXR100228'],\n",
       "  'bigg': ['GLCTR3'],\n",
       "  'deprecated': ['MNXR55592', 'MNXR69159'],\n",
       "  'kegg': nan,\n",
       "  'seed': ['rxn08620'],\n",
       "  'metacyc': nan,\n",
       "  'rhea': nan,\n",
       "  'sabiork': nan,\n",
       "  'reactome': nan},\n",
       " 'MNXR100229': {'metanetx': ['MNXR100229'],\n",
       "  'bigg': ['GLCTR4'],\n",
       "  'deprecated': ['MNXR83014'],\n",
       "  'kegg': nan,\n",
       "  'seed': nan,\n",
       "  'metacyc': nan,\n",
       "  'rhea': nan,\n",
       "  'sabiork': nan,\n",
       "  'reactome': nan},\n",
       " 'MNXR100230': {'metanetx': ['MNXR100230'],\n",
       "  'bigg': ['GLCTR4N'],\n",
       "  'deprecated': ['MNXR83015'],\n",
       "  'kegg': nan,\n",
       "  'seed': nan,\n",
       "  'metacyc': nan,\n",
       "  'rhea': nan,\n",
       "  'sabiork': nan,\n",
       "  'reactome': nan},\n",
       " 'MNXR100231': {'metanetx': ['MNXR100231'],\n",
       "  'bigg': ['GLCUR1Ptex'],\n",
       "  'deprecated': ['MNXR69160', 'MNXR2683'],\n",
       "  'kegg': nan,\n",
       "  'seed': ['rxn08621'],\n",
       "  'metacyc': nan,\n",
       "  'rhea': nan,\n",
       "  'sabiork': nan,\n",
       "  'reactome': nan},\n",
       " 'MNXR100232': {'metanetx': ['MNXR100232'],\n",
       "  'bigg': ['GLCURS1'],\n",
       "  'deprecated': ['MNXR83016'],\n",
       "  'kegg': nan,\n",
       "  'seed': nan,\n",
       "  'metacyc': nan,\n",
       "  'rhea': nan,\n",
       "  'sabiork': nan,\n",
       "  'reactome': nan},\n",
       " 'MNXR100233': {'metanetx': ['MNXR100233'],\n",
       "  'bigg': ['GLCURT'],\n",
       "  'deprecated': ['MNXR83017'],\n",
       "  'kegg': nan,\n",
       "  'seed': nan,\n",
       "  'metacyc': nan,\n",
       "  'rhea': nan,\n",
       "  'sabiork': nan,\n",
       "  'reactome': nan},\n",
       " 'MNXR100234': {'metanetx': ['MNXR100234'],\n",
       "  'bigg': ['GLCURt2r', 'GLCURt2rpp', 'GLCURtly'],\n",
       "  'deprecated': ['MNXR69161', 'MNXR2684'],\n",
       "  'kegg': nan,\n",
       "  'seed': ['rxn05574', 'rxn08622'],\n",
       "  'metacyc': nan,\n",
       "  'rhea': ['28955', '28956', '28957', '28958'],\n",
       "  'sabiork': nan,\n",
       "  'reactome': nan},\n",
       " 'MNXR100235': {'metanetx': ['MNXR100235'],\n",
       "  'bigg': ['GLCURter', 'GLCURtex'],\n",
       "  'deprecated': ['MNXR69162', 'MNXR2685'],\n",
       "  'kegg': nan,\n",
       "  'seed': ['rxn08623'],\n",
       "  'metacyc': nan,\n",
       "  'rhea': nan,\n",
       "  'sabiork': nan,\n",
       "  'reactome': nan},\n",
       " 'MNXR100236': {'metanetx': ['MNXR100236'],\n",
       "  'bigg': ['GLCabc', 'GLCabcpp'],\n",
       "  'deprecated': ['MNXR2686', 'MNXR93922'],\n",
       "  'kegg': nan,\n",
       "  'seed': ['rxn05147', 'rxn08606'],\n",
       "  'metacyc': ['TRANS-RXN-320'],\n",
       "  'rhea': nan,\n",
       "  'sabiork': nan,\n",
       "  'reactome': nan},\n",
       " 'MNXR100237': {'metanetx': ['MNXR100237'],\n",
       "  'bigg': ['GLCpts', 'GLCptspp'],\n",
       "  'deprecated': ['MNXR55593', 'MNXR69163', 'MNXR93928'],\n",
       "  'kegg': nan,\n",
       "  'seed': ['rxn05226', 'rxn08612'],\n",
       "  'metacyc': nan,\n",
       "  'rhea': nan,\n",
       "  'sabiork': nan,\n",
       "  'reactome': nan},\n",
       " 'MNXR100238': {'metanetx': ['MNXR100238'],\n",
       "  'bigg': ['GLCt2', 'GLCt2pp'],\n",
       "  'deprecated': ['MNXR2688', 'MNXR93933'],\n",
       "  'kegg': nan,\n",
       "  'seed': ['rxn05573', 'rxn08616'],\n",
       "  'metacyc': ['RXN0-7077'],\n",
       "  'rhea': nan,\n",
       "  'sabiork': nan,\n",
       "  'reactome': nan},\n",
       " 'MNXR100239': {'metanetx': ['MNXR100239'],\n",
       "  'bigg': ['GLCt2_2'],\n",
       "  'deprecated': ['MNXR2689'],\n",
       "  'kegg': nan,\n",
       "  'seed': nan,\n",
       "  'metacyc': nan,\n",
       "  'rhea': nan,\n",
       "  'sabiork': nan,\n",
       "  'reactome': nan},\n",
       " 'MNXR100240': {'metanetx': ['MNXR100240'],\n",
       "  'bigg': ['GLCt4'],\n",
       "  'deprecated': ['MNXR2690'],\n",
       "  'kegg': nan,\n",
       "  'seed': nan,\n",
       "  'metacyc': nan,\n",
       "  'rhea': nan,\n",
       "  'sabiork': nan,\n",
       "  'reactome': nan},\n",
       " 'MNXR100241': {'metanetx': ['MNXR100241'],\n",
       "  'bigg': ['GLCt4_2'],\n",
       "  'deprecated': ['MNXR2691'],\n",
       "  'kegg': nan,\n",
       "  'seed': nan,\n",
       "  'metacyc': nan,\n",
       "  'rhea': nan,\n",
       "  'sabiork': nan,\n",
       "  'reactome': nan},\n",
       " 'MNXR100242': {'metanetx': ['MNXR100242'],\n",
       "  'bigg': ['GLDBRAN'],\n",
       "  'deprecated': ['MNXR2692'],\n",
       "  'kegg': nan,\n",
       "  'seed': nan,\n",
       "  'metacyc': nan,\n",
       "  'rhea': nan,\n",
       "  'sabiork': nan,\n",
       "  'reactome': nan},\n",
       " 'MNXR100243': {'metanetx': ['MNXR100243'],\n",
       "  'bigg': ['GLGC', 'GLPThi'],\n",
       "  'deprecated': ['MNXR79481', 'MNXR33815', 'MNXR76312'],\n",
       "  'kegg': ['R00948'],\n",
       "  'seed': ['rxn00695'],\n",
       "  'metacyc': ['GLUC1PADENYLTRANS-RXN'],\n",
       "  'rhea': ['12120', '12121', '12122', '12123'],\n",
       "  'sabiork': ['1262', '9396'],\n",
       "  'reactome': nan},\n",
       " 'MNXR100244': {'metanetx': ['MNXR100244'],\n",
       "  'bigg': ['GLGNS1'],\n",
       "  'deprecated': ['MNXR55594', 'MNXR69164'],\n",
       "  'kegg': nan,\n",
       "  'seed': nan,\n",
       "  'metacyc': nan,\n",
       "  'rhea': nan,\n",
       "  'sabiork': nan,\n",
       "  'reactome': nan},\n",
       " 'MNXR100245': {'metanetx': ['MNXR100245'],\n",
       "  'bigg': ['GLMS_syn', 'GLUS_ferr'],\n",
       "  'deprecated': ['MNXR70858', 'MNXR35431', 'MNXR83032', 'MNXR83018'],\n",
       "  'kegg': ['R00021'],\n",
       "  'seed': ['rxn12822'],\n",
       "  'metacyc': ['GLUTAMATE-SYNTHASE-FERREDOXIN-RXN'],\n",
       "  'rhea': nan,\n",
       "  'sabiork': nan,\n",
       "  'reactome': nan},\n",
       " 'MNXR100246': {'metanetx': ['MNXR100246'],\n",
       "  'bigg': ['GLNALANaEx'],\n",
       "  'deprecated': nan,\n",
       "  'kegg': nan,\n",
       "  'seed': nan,\n",
       "  'metacyc': nan,\n",
       "  'rhea': nan,\n",
       "  'sabiork': nan,\n",
       "  'reactome': nan},\n",
       " 'MNXR100247': {'metanetx': ['MNXR100247'],\n",
       "  'bigg': ['GLNASNNaEx'],\n",
       "  'deprecated': nan,\n",
       "  'kegg': nan,\n",
       "  'seed': nan,\n",
       "  'metacyc': nan,\n",
       "  'rhea': nan,\n",
       "  'sabiork': nan,\n",
       "  'reactome': nan},\n",
       " 'MNXR100248': {'metanetx': ['MNXR100248'],\n",
       "  'bigg': ['GLNATB0tc'],\n",
       "  'deprecated': nan,\n",
       "  'kegg': nan,\n",
       "  'seed': nan,\n",
       "  'metacyc': nan,\n",
       "  'rhea': nan,\n",
       "  'sabiork': nan,\n",
       "  'reactome': nan},\n",
       " 'MNXR100249': {'metanetx': ['MNXR100249'],\n",
       "  'bigg': ['GLNCYSNaEx'],\n",
       "  'deprecated': nan,\n",
       "  'kegg': nan,\n",
       "  'seed': nan,\n",
       "  'metacyc': nan,\n",
       "  'rhea': nan,\n",
       "  'sabiork': nan,\n",
       "  'reactome': nan},\n",
       " 'MNXR100250': {'metanetx': ['MNXR100250'],\n",
       "  'bigg': ['GLNLASEer'],\n",
       "  'deprecated': ['MNXR5652'],\n",
       "  'kegg': ['R02933'],\n",
       "  'seed': ['rxn02100'],\n",
       "  'metacyc': ['RXN-8783'],\n",
       "  'rhea': ['42516', '42517', '42518', '42519'],\n",
       "  'sabiork': ['2792'],\n",
       "  'reactome': nan},\n",
       " 'MNXR100251': {'metanetx': ['MNXR100251'],\n",
       "  'bigg': ['GLNSERNaEx'],\n",
       "  'deprecated': ['MNXR2697'],\n",
       "  'kegg': nan,\n",
       "  'seed': nan,\n",
       "  'metacyc': nan,\n",
       "  'rhea': nan,\n",
       "  'sabiork': nan,\n",
       "  'reactome': nan},\n",
       " 'MNXR100252': {'metanetx': ['MNXR100252'],\n",
       "  'bigg': ['GLNSP1'],\n",
       "  'deprecated': ['MNXR2698', 'MNXR83019'],\n",
       "  'kegg': nan,\n",
       "  'seed': ['rxn03406'],\n",
       "  'metacyc': nan,\n",
       "  'rhea': nan,\n",
       "  'sabiork': nan,\n",
       "  'reactome': nan},\n",
       " 'MNXR100253': {'metanetx': ['MNXR100253'],\n",
       "  'bigg': ['GLNSP2'],\n",
       "  'deprecated': ['MNXR2699', 'MNXR83020'],\n",
       "  'kegg': ['R05030'],\n",
       "  'seed': ['rxn03407'],\n",
       "  'metacyc': nan,\n",
       "  'rhea': nan,\n",
       "  'sabiork': nan,\n",
       "  'reactome': nan},\n",
       " 'MNXR100254': {'metanetx': ['MNXR100254'],\n",
       "  'bigg': ['GLNSP3'],\n",
       "  'deprecated': ['MNXR2700', 'MNXR83021'],\n",
       "  'kegg': nan,\n",
       "  'seed': ['rxn03409'],\n",
       "  'metacyc': nan,\n",
       "  'rhea': nan,\n",
       "  'sabiork': nan,\n",
       "  'reactome': nan},\n",
       " 'MNXR100255': {'metanetx': ['MNXR100255'],\n",
       "  'bigg': ['GLNTHRNaEx'],\n",
       "  'deprecated': ['MNXR2701'],\n",
       "  'kegg': nan,\n",
       "  'seed': nan,\n",
       "  'metacyc': nan,\n",
       "  'rhea': nan,\n",
       "  'sabiork': nan,\n",
       "  'reactome': nan},\n",
       " 'MNXR100256': {'metanetx': ['MNXR100256'],\n",
       "  'bigg': ['GLNTRAT'],\n",
       "  'deprecated': ['MNXR55595', 'MNXR80093'],\n",
       "  'kegg': ['R03905'],\n",
       "  'seed': ['rxn06520', 'rxn10534'],\n",
       "  'metacyc': nan,\n",
       "  'rhea': nan,\n",
       "  'sabiork': ['3650'],\n",
       "  'reactome': nan},\n",
       " 'MNXR100257': {'metanetx': ['MNXR100257'],\n",
       "  'bigg': ['GLNTRS'],\n",
       "  'deprecated': ['MNXR91631'],\n",
       "  'kegg': ['R03652'],\n",
       "  'seed': ['rxn06437'],\n",
       "  'metacyc': nan,\n",
       "  'rhea': nan,\n",
       "  'sabiork': ['3430'],\n",
       "  'reactome': ['R-HSA-379982', 'R-HSA-380241']},\n",
       " 'MNXR100258': {'metanetx': ['MNXR100258'],\n",
       "  'bigg': ['GLNabc', 'GLNabcpp'],\n",
       "  'deprecated': ['MNXR28966', 'MNXR27593', 'MNXR29064'],\n",
       "  'kegg': nan,\n",
       "  'seed': ['rxn05155', 'rxn05196', 'rxn08624', 'rxn11101', 'rxn11233'],\n",
       "  'metacyc': ['ABC-12-RXN'],\n",
       "  'rhea': ['29895#1', '29896#1', '29897#1', '29898#1'],\n",
       "  'sabiork': nan,\n",
       "  'reactome': nan},\n",
       " 'MNXR100259': {'metanetx': ['MNXR100259'],\n",
       "  'bigg': ['GLNt', 'GLNtex', 'GLNtm'],\n",
       "  'deprecated': ['MNXR2708'],\n",
       "  'kegg': nan,\n",
       "  'seed': ['rxn08625', 'rxn10928'],\n",
       "  'metacyc': ['TRANS-RXN-233'],\n",
       "  'rhea': nan,\n",
       "  'sabiork': ['13421'],\n",
       "  'reactome': ['R-BTA-212614',\n",
       "   'R-CFA-212614',\n",
       "   'R-GGA-212614',\n",
       "   'R-HSA-212614',\n",
       "   'R-HSA-212651',\n",
       "   'R-MMU-212614',\n",
       "   'R-RNO-212614',\n",
       "   'R-SCE-212614',\n",
       "   'R-SSC-212614',\n",
       "   'R-TGU-212614']},\n",
       " 'MNXR100260': {'metanetx': ['MNXR100260'],\n",
       "  'bigg': ['GLNt2n', 'GLNt2r', 'GLNt7', 'GLNth', 'GLNtm_1'],\n",
       "  'deprecated': ['MNXR2705'],\n",
       "  'kegg': nan,\n",
       "  'seed': ['rxn09678', 'rxn09814', 'rxn13302'],\n",
       "  'metacyc': nan,\n",
       "  'rhea': nan,\n",
       "  'sabiork': nan,\n",
       "  'reactome': nan},\n",
       " 'MNXR100261': {'metanetx': ['MNXR100261'],\n",
       "  'bigg': ['GLNt4'],\n",
       "  'deprecated': ['MNXR2706'],\n",
       "  'kegg': nan,\n",
       "  'seed': ['rxn05216'],\n",
       "  'metacyc': nan,\n",
       "  'rhea': nan,\n",
       "  'sabiork': nan,\n",
       "  'reactome': ['R-BTA-212642',\n",
       "   'R-CFA-212642',\n",
       "   'R-DRE-212642',\n",
       "   'R-GGA-212642',\n",
       "   'R-HSA-212642',\n",
       "   'R-MMU-212642',\n",
       "   'R-RNO-212642',\n",
       "   'R-SCE-212642',\n",
       "   'R-SSC-212642',\n",
       "   'R-TGU-212642',\n",
       "   'R-XTR-212642']},\n",
       " 'MNXR100262': {'metanetx': ['MNXR100262'],\n",
       "  'bigg': ['GLNt6'],\n",
       "  'deprecated': nan,\n",
       "  'kegg': nan,\n",
       "  'seed': ['rxn13301'],\n",
       "  'metacyc': nan,\n",
       "  'rhea': nan,\n",
       "  'sabiork': nan,\n",
       "  'reactome': nan},\n",
       " 'MNXR100263': {'metanetx': ['MNXR100263'],\n",
       "  'bigg': ['GLNtN1'],\n",
       "  'deprecated': ['MNXR2707'],\n",
       "  'kegg': nan,\n",
       "  'seed': nan,\n",
       "  'metacyc': nan,\n",
       "  'rhea': nan,\n",
       "  'sabiork': nan,\n",
       "  'reactome': nan},\n",
       " 'MNXR100264': {'metanetx': ['MNXR100264'],\n",
       "  'bigg': ['GLNyLATthc'],\n",
       "  'deprecated': nan,\n",
       "  'kegg': nan,\n",
       "  'seed': nan,\n",
       "  'metacyc': nan,\n",
       "  'rhea': nan,\n",
       "  'sabiork': nan,\n",
       "  'reactome': nan},\n",
       " 'MNXR100265': {'metanetx': ['MNXR100265'],\n",
       "  'bigg': ['GLPASE1'],\n",
       "  'deprecated': ['MNXR50944'],\n",
       "  'kegg': nan,\n",
       "  'seed': nan,\n",
       "  'metacyc': nan,\n",
       "  'rhea': nan,\n",
       "  'sabiork': nan,\n",
       "  'reactome': nan},\n",
       " 'MNXR100266': {'metanetx': ['MNXR100266'],\n",
       "  'bigg': ['GLPASE2'],\n",
       "  'deprecated': ['MNXR2710', 'MNXR83024'],\n",
       "  'kegg': nan,\n",
       "  'seed': nan,\n",
       "  'metacyc': nan,\n",
       "  'rhea': nan,\n",
       "  'sabiork': nan,\n",
       "  'reactome': nan},\n",
       " 'MNXR100267': {'metanetx': ['MNXR100267'],\n",
       "  'bigg': ['GLPASE2a'],\n",
       "  'deprecated': nan,\n",
       "  'kegg': nan,\n",
       "  'seed': nan,\n",
       "  'metacyc': nan,\n",
       "  'rhea': nan,\n",
       "  'sabiork': nan,\n",
       "  'reactome': nan},\n",
       " 'MNXR100268': {'metanetx': ['MNXR100268'],\n",
       "  'bigg': ['GLPT'],\n",
       "  'deprecated': ['MNXR86600', 'MNXR69166', 'MNXR2711'],\n",
       "  'kegg': ['R03992'],\n",
       "  'seed': ['rxn06549'],\n",
       "  'metacyc': ['2.3.1.97-RXN'],\n",
       "  'rhea': nan,\n",
       "  'sabiork': ['3727'],\n",
       "  'reactome': nan},\n",
       " 'MNXR100269': {'metanetx': ['MNXR100269'],\n",
       "  'bigg': ['GLRASE'],\n",
       "  'deprecated': nan,\n",
       "  'kegg': nan,\n",
       "  'seed': nan,\n",
       "  'metacyc': nan,\n",
       "  'rhea': nan,\n",
       "  'sabiork': nan,\n",
       "  'reactome': nan},\n",
       " 'MNXR100270': {'metanetx': ['MNXR100270'],\n",
       "  'bigg': ['GLS'],\n",
       "  'deprecated': ['MNXR83025'],\n",
       "  'kegg': nan,\n",
       "  'seed': nan,\n",
       "  'metacyc': nan,\n",
       "  'rhea': nan,\n",
       "  'sabiork': nan,\n",
       "  'reactome': nan},\n",
       " 'MNXR100271': {'metanetx': ['MNXR100271'],\n",
       "  'bigg': ['GLS2'],\n",
       "  'deprecated': ['MNXR83026'],\n",
       "  'kegg': nan,\n",
       "  'seed': nan,\n",
       "  'metacyc': nan,\n",
       "  'rhea': nan,\n",
       "  'sabiork': nan,\n",
       "  'reactome': nan},\n",
       " 'MNXR100272': {'metanetx': ['MNXR100272'],\n",
       "  'bigg': ['GLS2e'],\n",
       "  'deprecated': ['MNXR83027'],\n",
       "  'kegg': nan,\n",
       "  'seed': nan,\n",
       "  'metacyc': nan,\n",
       "  'rhea': nan,\n",
       "  'sabiork': nan,\n",
       "  'reactome': nan},\n",
       " 'MNXR100273': {'metanetx': ['MNXR100273'],\n",
       "  'bigg': ['GLS3e'],\n",
       "  'deprecated': ['MNXR83028'],\n",
       "  'kegg': nan,\n",
       "  'seed': nan,\n",
       "  'metacyc': nan,\n",
       "  'rhea': nan,\n",
       "  'sabiork': nan,\n",
       "  'reactome': nan},\n",
       " 'MNXR100274': {'metanetx': ['MNXR100274'],\n",
       "  'bigg': ['GLSe'],\n",
       "  'deprecated': ['MNXR83029'],\n",
       "  'kegg': nan,\n",
       "  'seed': nan,\n",
       "  'metacyc': nan,\n",
       "  'rhea': nan,\n",
       "  'sabiork': nan,\n",
       "  'reactome': nan},\n",
       " 'MNXR100275': {'metanetx': ['MNXR100275'],\n",
       "  'bigg': ['GLTPD'],\n",
       "  'deprecated': nan,\n",
       "  'kegg': ['R05571'],\n",
       "  'seed': ['rxn03856'],\n",
       "  'metacyc': nan,\n",
       "  'rhea': nan,\n",
       "  'sabiork': nan,\n",
       "  'reactome': nan},\n",
       " 'MNXR100276': {'metanetx': ['MNXR100276'],\n",
       "  'bigg': ['GLU4ABUTthi', 'GLU4ABUTtmi', 'GLUABUTt7', 'GLUABUTt7pp'],\n",
       "  'deprecated': ['MNXR31598'],\n",
       "  'kegg': nan,\n",
       "  'seed': ['rxn08628', 'rxn10136'],\n",
       "  'metacyc': ['TRANS-RXN-261'],\n",
       "  'rhea': ['28919', '28920', '28921', '28922'],\n",
       "  'sabiork': nan,\n",
       "  'reactome': nan},\n",
       " 'MNXR100277': {'metanetx': ['MNXR100277'],\n",
       "  'bigg': ['GLU5K', 'GLU5Km'],\n",
       "  'deprecated': ['MNXR32778'],\n",
       "  'kegg': ['R00239'],\n",
       "  'seed': ['rxn00179'],\n",
       "  'metacyc': ['GLUTKIN-RXN'],\n",
       "  'rhea': ['14877', '14878', '14879', '14880'],\n",
       "  'sabiork': ['752'],\n",
       "  'reactome': nan},\n",
       " 'MNXR100278': {'metanetx': ['MNXR100278'],\n",
       "  'bigg': ['GLU5SAtmc'],\n",
       "  'deprecated': nan,\n",
       "  'kegg': nan,\n",
       "  'seed': nan,\n",
       "  'metacyc': nan,\n",
       "  'rhea': nan,\n",
       "  'sabiork': nan,\n",
       "  'reactome': nan},\n",
       " 'MNXR100279': {'metanetx': ['MNXR100279'],\n",
       "  'bigg': ['GLUCAN2abc'],\n",
       "  'deprecated': ['MNXR83030'],\n",
       "  'kegg': nan,\n",
       "  'seed': nan,\n",
       "  'metacyc': nan,\n",
       "  'rhea': nan,\n",
       "  'sabiork': nan,\n",
       "  'reactome': nan},\n",
       " 'MNXR100280': {'metanetx': ['MNXR100280'],\n",
       "  'bigg': ['GLUCANabc'],\n",
       "  'deprecated': ['MNXR83031'],\n",
       "  'kegg': nan,\n",
       "  'seed': nan,\n",
       "  'metacyc': nan,\n",
       "  'rhea': nan,\n",
       "  'sabiork': nan,\n",
       "  'reactome': nan},\n",
       " 'MNXR100281': {'metanetx': ['MNXR100281'],\n",
       "  'bigg': ['GLUFORT', 'GluForTx'],\n",
       "  'deprecated': ['MNXR32839'],\n",
       "  'kegg': ['R02287'],\n",
       "  'seed': ['rxn01641'],\n",
       "  'metacyc': nan,\n",
       "  'rhea': ['15097', '15098', '15099', '15100'],\n",
       "  'sabiork': ['2252'],\n",
       "  'reactome': ['R-BTA-70920',\n",
       "   'R-CFA-70920',\n",
       "   'R-DDI-70920',\n",
       "   'R-DRE-70920',\n",
       "   'R-GGA-70920',\n",
       "   'R-HSA-70920',\n",
       "   'R-MMU-70920',\n",
       "   'R-OSA-70920',\n",
       "   'R-RNO-70920',\n",
       "   'R-SSC-70920',\n",
       "   'R-TGU-70920',\n",
       "   'R-XTR-70920']},\n",
       " 'MNXR100282': {'metanetx': ['MNXR100282'],\n",
       "  'bigg': ['GLUFT'],\n",
       "  'deprecated': ['MNXR59457', 'MNXR39706'],\n",
       "  'kegg': ['R03189'],\n",
       "  'seed': ['rxn02283'],\n",
       "  'metacyc': nan,\n",
       "  'rhea': ['23240', '23241', '23242', '23243'],\n",
       "  'sabiork': nan,\n",
       "  'reactome': nan},\n",
       " 'MNXR100283': {'metanetx': ['MNXR100283'],\n",
       "  'bigg': ['GLUK', 'GLUKBh', 'GLUK_syn'],\n",
       "  'deprecated': ['MNXR55596', 'MNXR94278'],\n",
       "  'kegg': nan,\n",
       "  'seed': ['rxn09502'],\n",
       "  'metacyc': nan,\n",
       "  'rhea': nan,\n",
       "  'sabiork': nan,\n",
       "  'reactome': nan},\n",
       " 'MNXR100284': {'metanetx': ['MNXR100284'],\n",
       "  'bigg': ['GLUKA', 'GLUKAh'],\n",
       "  'deprecated': nan,\n",
       "  'kegg': ['R01786'],\n",
       "  'seed': nan,\n",
       "  'metacyc': nan,\n",
       "  'rhea': ['36495', '36496', '36497', '36498'],\n",
       "  'sabiork': ['10'],\n",
       "  'reactome': nan},\n",
       " 'MNXR100285': {'metanetx': ['MNXR100285'],\n",
       "  'bigg': ['GLUNA1th', 'GLUNA1tm', 'GLUt4', 'GLUt4pp'],\n",
       "  'deprecated': ['MNXR31616'],\n",
       "  'kegg': nan,\n",
       "  'seed': ['rxn05298', 'rxn08632'],\n",
       "  'metacyc': nan,\n",
       "  'rhea': ['29031', '29032', '29033', '29034'],\n",
       "  'sabiork': nan,\n",
       "  'reactome': nan},\n",
       " 'MNXR100286': {'metanetx': ['MNXR100286'],\n",
       "  'bigg': ['GLUPROASCT1'],\n",
       "  'deprecated': nan,\n",
       "  'kegg': nan,\n",
       "  'seed': nan,\n",
       "  'metacyc': nan,\n",
       "  'rhea': nan,\n",
       "  'sabiork': nan,\n",
       "  'reactome': nan},\n",
       " 'MNXR100287': {'metanetx': ['MNXR100287'],\n",
       "  'bigg': ['GLUPRT', 'PRDPARh'],\n",
       "  'deprecated': ['MNXR55597', 'MNXR69167'],\n",
       "  'kegg': ['R01072'],\n",
       "  'seed': ['rxn00790'],\n",
       "  'metacyc': ['PRPPAMIDOTRANS-RXN'],\n",
       "  'rhea': ['14905', '14906', '14907', '14908'],\n",
       "  'sabiork': ['114'],\n",
       "  'reactome': ['R-ATH-73815',\n",
       "   'R-BTA-73815',\n",
       "   'R-CEL-73815',\n",
       "   'R-CFA-73815',\n",
       "   'R-DDI-73815',\n",
       "   'R-DME-73815',\n",
       "   'R-DRE-73815',\n",
       "   'R-GGA-419152',\n",
       "   'R-GGA-73815',\n",
       "   'R-HSA-73815',\n",
       "   'R-MMU-73815',\n",
       "   'R-OSA-73815',\n",
       "   'R-RNO-73815',\n",
       "   'R-SCE-73815',\n",
       "   'R-SPO-73815',\n",
       "   'R-SSC-73815',\n",
       "   'R-TGU-73815',\n",
       "   'R-XTR-73815']},\n",
       " 'MNXR100288': {'metanetx': ['MNXR100288'],\n",
       "  'bigg': ['GLUR'],\n",
       "  'deprecated': ['MNXR31606'],\n",
       "  'kegg': ['R00260'],\n",
       "  'seed': ['rxn00193'],\n",
       "  'metacyc': ['GLUTRACE-RXN'],\n",
       "  'rhea': ['12813', '12814', '12815', '12816'],\n",
       "  'sabiork': ['765'],\n",
       "  'reactome': nan},\n",
       " 'MNXR100289': {'metanetx': ['MNXR100289'],\n",
       "  'bigg': ['GLUS', 'GLUSx'],\n",
       "  'deprecated': ['MNXR31608'],\n",
       "  'kegg': ['R00093'],\n",
       "  'seed': ['rxn00069'],\n",
       "  'metacyc': ['GLUTAMATE-SYNTHASE-NADH-RXN'],\n",
       "  'rhea': ['13753', '13754', '13755', '13756'],\n",
       "  'sabiork': ['675'],\n",
       "  'reactome': nan},\n",
       " 'MNXR100290': {'metanetx': ['MNXR100290'],\n",
       "  'bigg': ['GLUS_F420'],\n",
       "  'deprecated': ['MNXR69168'],\n",
       "  'kegg': nan,\n",
       "  'seed': ['rxn10535'],\n",
       "  'metacyc': nan,\n",
       "  'rhea': nan,\n",
       "  'sabiork': nan,\n",
       "  'reactome': nan},\n",
       " 'MNXR100291': {'metanetx': ['MNXR100291'],\n",
       "  'bigg': ['GLUS_nadph', 'GLUSy'],\n",
       "  'deprecated': ['MNXR31609'],\n",
       "  'kegg': ['R00114'],\n",
       "  'seed': ['rxn00085'],\n",
       "  'metacyc': ['GLUTAMATESYN-RXN'],\n",
       "  'rhea': ['15501', '15502', '15503', '15504'],\n",
       "  'sabiork': ['694'],\n",
       "  'reactome': nan},\n",
       " 'MNXR100292': {'metanetx': ['MNXR100292'],\n",
       "  'bigg': ['GLUSz'],\n",
       "  'deprecated': ['MNXR83033'],\n",
       "  'kegg': nan,\n",
       "  'seed': nan,\n",
       "  'metacyc': nan,\n",
       "  'rhea': nan,\n",
       "  'sabiork': nan,\n",
       "  'reactome': nan},\n",
       " 'MNXR100293': {'metanetx': ['MNXR100293'],\n",
       "  'bigg': ['GLUTCOADHc', 'GLUTCOADHm'],\n",
       "  'deprecated': ['MNXR26320', 'MNXR55598', 'MNXR69169', 'MNXR83034'],\n",
       "  'kegg': ['R02487'],\n",
       "  'seed': ['rxn01802'],\n",
       "  'metacyc': nan,\n",
       "  'rhea': ['13389',\n",
       "   '13390',\n",
       "   '13391',\n",
       "   '13392',\n",
       "   '30847',\n",
       "   '30848',\n",
       "   '30849',\n",
       "   '30850'],\n",
       "  'sabiork': ['2417'],\n",
       "  'reactome': ['R-ATH-71046',\n",
       "   'R-BTA-71046',\n",
       "   'R-CEL-71046',\n",
       "   'R-CFA-71046',\n",
       "   'R-DDI-71046',\n",
       "   'R-DME-71046',\n",
       "   'R-DRE-71046',\n",
       "   'R-GGA-71046',\n",
       "   'R-HSA-71046',\n",
       "   'R-MMU-71046',\n",
       "   'R-OSA-71046',\n",
       "   'R-RNO-71046',\n",
       "   'R-SSC-71046',\n",
       "   'R-XTR-71046']},\n",
       " 'MNXR100294': {'metanetx': ['MNXR100294'],\n",
       "  'bigg': ['GLUTRR', 'GLUTRR_1'],\n",
       "  'deprecated': nan,\n",
       "  'kegg': ['R04109'],\n",
       "  'seed': ['rxn06591'],\n",
       "  'metacyc': nan,\n",
       "  'rhea': nan,\n",
       "  'sabiork': ['9145'],\n",
       "  'reactome': nan},\n",
       " 'MNXR100295': {'metanetx': ['MNXR100295'],\n",
       "  'bigg': ['GLUTRS', 'GLUTRS_1', 'GLUTRSm'],\n",
       "  'deprecated': ['MNXR91622'],\n",
       "  'kegg': ['R05578'],\n",
       "  'seed': ['rxn06937'],\n",
       "  'metacyc': nan,\n",
       "  'rhea': nan,\n",
       "  'sabiork': ['5179'],\n",
       "  'reactome': ['R-HSA-379861', 'R-HSA-380216']},\n",
       " 'MNXR100296': {'metanetx': ['MNXR100296'],\n",
       "  'bigg': ['GLUTRS_Gln'],\n",
       "  'deprecated': ['MNXR59509', 'MNXR69170', 'MNXR83035'],\n",
       "  'kegg': ['R03651'],\n",
       "  'seed': ['rxn06436'],\n",
       "  'metacyc': ['RXN-9386'],\n",
       "  'rhea': nan,\n",
       "  'sabiork': ['406'],\n",
       "  'reactome': nan},\n",
       " 'MNXR100297': {'metanetx': ['MNXR100297'],\n",
       "  'bigg': ['GLUVESSEC'],\n",
       "  'deprecated': nan,\n",
       "  'kegg': nan,\n",
       "  'seed': nan,\n",
       "  'metacyc': nan,\n",
       "  'rhea': ['29035#2', '29036#2', '29037#2', '29038#2'],\n",
       "  'sabiork': nan,\n",
       "  'reactome': nan},\n",
       " 'MNXR100298': {'metanetx': ['MNXR100298'],\n",
       "  'bigg': ['GLU_Dt2'],\n",
       "  'deprecated': ['MNXR27822'],\n",
       "  'kegg': nan,\n",
       "  'seed': ['rxn05672'],\n",
       "  'metacyc': nan,\n",
       "  'rhea': nan,\n",
       "  'sabiork': nan,\n",
       "  'reactome': nan},\n",
       " 'MNXR100299': {'metanetx': ['MNXR100299'],\n",
       "  'bigg': ['GLUabc', 'GLUabcpp'],\n",
       "  'deprecated': ['MNXR53763'],\n",
       "  'kegg': nan,\n",
       "  'seed': ['rxn05146', 'rxn08627', 'rxn11235'],\n",
       "  'metacyc': ['ABC-13-RXN'],\n",
       "  'rhea': ['29035#1', '29036#1', '29037#1', '29038#1'],\n",
       "  'sabiork': nan,\n",
       "  'reactome': nan},\n",
       " 'MNXR100300': {'metanetx': ['MNXR100300'],\n",
       "  'bigg': ['GLUt2m', 'GLUt2n', 'GLUt2r', 'GLUt2rpp', 'GLUt7', 'GLUth'],\n",
       "  'deprecated': nan,\n",
       "  'kegg': nan,\n",
       "  'seed': ['rxn05297', 'rxn08631', 'rxn09751', 'rxn09813', 'rxn13303'],\n",
       "  'metacyc': nan,\n",
       "  'rhea': nan,\n",
       "  'sabiork': nan,\n",
       "  'reactome': ['R-BTA-8875623',\n",
       "   'R-CEL-8875623',\n",
       "   'R-CFA-8875623',\n",
       "   'R-DDI-8875623',\n",
       "   'R-DME-8875623',\n",
       "   'R-DRE-8875623',\n",
       "   'R-GGA-8875623',\n",
       "   'R-HSA-8875623',\n",
       "   'R-MMU-8875623',\n",
       "   'R-RNO-8875623',\n",
       "   'R-SCE-8875623',\n",
       "   'R-SSC-8875623',\n",
       "   'R-TGU-8875623',\n",
       "   'R-XTR-8875623']},\n",
       " 'MNXR100301': {'metanetx': ['MNXR100301'],\n",
       "  'bigg': ['GLUt5m', 'GLUt7l', 'GLUt7m', 'GLUtex', 'GLUtr'],\n",
       "  'deprecated': ['MNXR31617', 'MNXR31619'],\n",
       "  'kegg': nan,\n",
       "  'seed': ['rxn08633', 'rxn09750', 'rxn10917', 'rxn13120', 'rxn13304'],\n",
       "  'metacyc': ['TRANS-RXN-232', 'TRANS-RXN-234'],\n",
       "  'rhea': nan,\n",
       "  'sabiork': ['12283'],\n",
       "  'reactome': ['R-BTA-210439',\n",
       "   'R-CEL-210439',\n",
       "   'R-CFA-210439',\n",
       "   'R-DME-210439',\n",
       "   'R-DRE-210439',\n",
       "   'R-GGA-210439',\n",
       "   'R-HSA-210439',\n",
       "   'R-HSA-212658',\n",
       "   'R-MMU-210439',\n",
       "   'R-RNO-210439',\n",
       "   'R-SSC-210439',\n",
       "   'R-TGU-210439',\n",
       "   'R-XTR-210439']},\n",
       " 'MNXR100302': {'metanetx': ['MNXR100302'],\n",
       "  'bigg': ['GLUt6'],\n",
       "  'deprecated': ['MNXR31618', 'MNXR91313'],\n",
       "  'kegg': nan,\n",
       "  'seed': nan,\n",
       "  'metacyc': nan,\n",
       "  'rhea': nan,\n",
       "  'sabiork': nan,\n",
       "  'reactome': ['R-BTA-210404',\n",
       "   'R-CEL-210404',\n",
       "   'R-CFA-210404',\n",
       "   'R-DME-210404',\n",
       "   'R-DRE-210404',\n",
       "   'R-GGA-210404',\n",
       "   'R-HSA-210404',\n",
       "   'R-MMU-210404',\n",
       "   'R-RNO-210404',\n",
       "   'R-SSC-210404',\n",
       "   'R-TGU-210404',\n",
       "   'R-XTR-210404']},\n",
       " 'MNXR100303': {'metanetx': ['MNXR100303'],\n",
       "  'bigg': ['GLXCBL', 'GLXCL'],\n",
       "  'deprecated': ['MNXR2736'],\n",
       "  'kegg': ['R00013'],\n",
       "  'seed': ['rxn00010'],\n",
       "  'metacyc': ['GLYOCARBOLIG-RXN'],\n",
       "  'rhea': ['10136', '10137', '10138', '10139'],\n",
       "  'sabiork': nan,\n",
       "  'reactome': nan},\n",
       " 'MNXR100304': {'metanetx': ['MNXR100304'],\n",
       "  'bigg': ['GLXO1'],\n",
       "  'deprecated': ['MNXR2737'],\n",
       "  'kegg': nan,\n",
       "  'seed': ['rxn05734'],\n",
       "  'metacyc': nan,\n",
       "  'rhea': nan,\n",
       "  'sabiork': nan,\n",
       "  'reactome': nan},\n",
       " 'MNXR100305': {'metanetx': ['MNXR100305'],\n",
       "  'bigg': ['GLXO2p', 'GLXO3r'],\n",
       "  'deprecated': ['MNXR65811', 'MNXR2738'],\n",
       "  'kegg': ['R00466'],\n",
       "  'seed': ['rxn00325'],\n",
       "  'metacyc': ['GLYOXYLATE-OXIDASE-RXN'],\n",
       "  'rhea': ['14837', '14838', '14839', '14840'],\n",
       "  'sabiork': nan,\n",
       "  'reactome': ['R-ATH-389862',\n",
       "   'R-BTA-389862',\n",
       "   'R-CEL-389862',\n",
       "   'R-CFA-389862',\n",
       "   'R-DDI-389862',\n",
       "   'R-DME-389862',\n",
       "   'R-DRE-389862',\n",
       "   'R-GGA-389862',\n",
       "   'R-HSA-389862',\n",
       "   'R-MMU-389862',\n",
       "   'R-OSA-389862',\n",
       "   'R-RNO-389862',\n",
       "   'R-SCE-389862',\n",
       "   'R-SPO-389862',\n",
       "   'R-SSC-389862',\n",
       "   'R-TGU-389862',\n",
       "   'R-XTR-389862']},\n",
       " 'MNXR100306': {'metanetx': ['MNXR100306'],\n",
       "  'bigg': ['GLXt', 'GLXtm', 'GLXtp'],\n",
       "  'deprecated': ['MNXR2739'],\n",
       "  'kegg': nan,\n",
       "  'seed': ['rxn09839', 'rxn13305'],\n",
       "  'metacyc': ['RXN0-1982'],\n",
       "  'rhea': ['29723', '29724', '29725', '29726'],\n",
       "  'sabiork': ['12466'],\n",
       "  'reactome': nan},\n",
       " 'MNXR100307': {'metanetx': ['MNXR100307'],\n",
       "  'bigg': ['GLXt2'],\n",
       "  'deprecated': ['MNXR27794'],\n",
       "  'kegg': nan,\n",
       "  'seed': ['rxn05577'],\n",
       "  'metacyc': nan,\n",
       "  'rhea': nan,\n",
       "  'sabiork': nan,\n",
       "  'reactome': nan},\n",
       " 'MNXR100308': {'metanetx': ['MNXR100308'],\n",
       "  'bigg': ['GLY3Pt', 'GLYC3Ptex', 'GLYC3Pth', 'GLYC3Ptm', 'GLYC3Ptmc'],\n",
       "  'deprecated': ['MNXR2752'],\n",
       "  'kegg': nan,\n",
       "  'seed': ['rxn08643', 'rxn09749', 'rxn11234'],\n",
       "  'metacyc': nan,\n",
       "  'rhea': ['34967', '34968', '34969', '34970'],\n",
       "  'sabiork': nan,\n",
       "  'reactome': nan},\n",
       " 'MNXR100309': {'metanetx': ['MNXR100309'],\n",
       "  'bigg': ['GLY3Pt2'],\n",
       "  'deprecated': ['MNXR27795'],\n",
       "  'kegg': nan,\n",
       "  'seed': ['rxn05578'],\n",
       "  'metacyc': nan,\n",
       "  'rhea': nan,\n",
       "  'sabiork': nan,\n",
       "  'reactome': nan},\n",
       " 'MNXR100310': {'metanetx': ['MNXR100310'],\n",
       "  'bigg': ['GLYALDDr', 'GLYALDOR', 'r0393'],\n",
       "  'deprecated': ['MNXR2740'],\n",
       "  'kegg': ['R01752'],\n",
       "  'seed': ['rxn01286'],\n",
       "  'metacyc': nan,\n",
       "  'rhea': ['30783', '30784', '30785', '30786'],\n",
       "  'sabiork': ['1853'],\n",
       "  'reactome': ['R-ATH-6813749',\n",
       "   'R-BTA-6813749',\n",
       "   'R-CEL-6813749',\n",
       "   'R-CFA-6813749',\n",
       "   'R-GGA-6813749',\n",
       "   'R-HSA-6813749',\n",
       "   'R-MMU-6813749',\n",
       "   'R-OSA-6813749',\n",
       "   'R-RNO-6813749',\n",
       "   'R-SCE-6813749',\n",
       "   'R-SSC-6813749',\n",
       "   'R-TGU-6813749',\n",
       "   'R-XTR-6813749']},\n",
       " 'MNXR100311': {'metanetx': ['MNXR100311'],\n",
       "  'bigg': ['GLYALDt', 'GLYALDtex', 'GLYALDtpp'],\n",
       "  'deprecated': ['MNXR2741'],\n",
       "  'kegg': nan,\n",
       "  'seed': ['rxn08635', 'rxn08636', 'rxn10164'],\n",
       "  'metacyc': nan,\n",
       "  'rhea': nan,\n",
       "  'sabiork': nan,\n",
       "  'reactome': nan},\n",
       " 'MNXR100312': {'metanetx': ['MNXR100312'],\n",
       "  'bigg': ['GLYAMDTR', 'GLYAMDTRc'],\n",
       "  'deprecated': ['MNXR31620'],\n",
       "  'kegg': nan,\n",
       "  'seed': nan,\n",
       "  'metacyc': nan,\n",
       "  'rhea': nan,\n",
       "  'sabiork': nan,\n",
       "  'reactome': nan},\n",
       " 'MNXR100313': {'metanetx': ['MNXR100313'],\n",
       "  'bigg': ['GLYAT', 'GLYATi', 'GLYATm', 'GLYATx'],\n",
       "  'deprecated': ['MNXR69171', 'MNXR2743'],\n",
       "  'kegg': ['R00371'],\n",
       "  'seed': ['rxn00274'],\n",
       "  'metacyc': ['AKBLIG-RXN'],\n",
       "  'rhea': ['20736', '20737', '20738', '20739'],\n",
       "  'sabiork': ['838'],\n",
       "  'reactome': nan},\n",
       " 'MNXR100314': {'metanetx': ['MNXR100314'],\n",
       "  'bigg': ['GLYBabc', 'GLYBabcpp'],\n",
       "  'deprecated': ['MNXR29052'],\n",
       "  'kegg': nan,\n",
       "  'seed': ['rxn05181', 'rxn08637', 'rxn11216'],\n",
       "  'metacyc': ['TRANS-RXN-283'],\n",
       "  'rhea': ['32783#1', '32784#1', '32785#1', '32786#1'],\n",
       "  'sabiork': nan,\n",
       "  'reactome': nan},\n",
       " 'MNXR100315': {'metanetx': ['MNXR100315'],\n",
       "  'bigg': ['GLYBt2pp', 'GLYBt2r'],\n",
       "  'deprecated': ['MNXR2745'],\n",
       "  'kegg': nan,\n",
       "  'seed': ['rxn05579', 'rxn08638'],\n",
       "  'metacyc': ['TRANS-RXN-29A'],\n",
       "  'rhea': nan,\n",
       "  'sabiork': nan,\n",
       "  'reactome': nan},\n",
       " 'MNXR100316': {'metanetx': ['MNXR100316'],\n",
       "  'bigg': ['GLYBt4_2_r'],\n",
       "  'deprecated': nan,\n",
       "  'kegg': nan,\n",
       "  'seed': nan,\n",
       "  'metacyc': nan,\n",
       "  'rhea': nan,\n",
       "  'sabiork': nan,\n",
       "  'reactome': nan},\n",
       " 'MNXR100317': {'metanetx': ['MNXR100317'],\n",
       "  'bigg': ['GLYBtex', 'GLYBtm'],\n",
       "  'deprecated': ['MNXR2747'],\n",
       "  'kegg': nan,\n",
       "  'seed': ['rxn08639', 'rxn12430'],\n",
       "  'metacyc': ['TRANS-RXN0-490'],\n",
       "  'rhea': ['28943', '28944', '28945', '28946'],\n",
       "  'sabiork': ['11693'],\n",
       "  'reactome': ['R-HSA-6797957']},\n",
       " 'MNXR100318': {'metanetx': ['MNXR100318'],\n",
       "  'bigg': ['GLYC2Pabcpp'],\n",
       "  'deprecated': nan,\n",
       "  'kegg': nan,\n",
       "  'seed': nan,\n",
       "  'metacyc': nan,\n",
       "  'rhea': ['34759#1', '34760#1', '34761#1', '34762#1'],\n",
       "  'sabiork': nan,\n",
       "  'reactome': nan},\n",
       " 'MNXR100319': {'metanetx': ['MNXR100319'],\n",
       "  'bigg': ['GLYC2Ptex'],\n",
       "  'deprecated': ['MNXR2749'],\n",
       "  'kegg': nan,\n",
       "  'seed': ['rxn08640'],\n",
       "  'metacyc': nan,\n",
       "  'rhea': nan,\n",
       "  'sabiork': nan,\n",
       "  'reactome': nan},\n",
       " 'MNXR100320': {'metanetx': ['MNXR100320'],\n",
       "  'bigg': ['GLYC3Pabc', 'GLYC3Pabcpp'],\n",
       "  'deprecated': nan,\n",
       "  'kegg': nan,\n",
       "  'seed': ['rxn05158', 'rxn08641'],\n",
       "  'metacyc': ['3.6.3.20-RXN', 'ABC-34-RXN'],\n",
       "  'rhea': ['21668#1', '21669#1', '21670#1', '21671#1'],\n",
       "  'sabiork': nan,\n",
       "  'reactome': nan},\n",
       " 'MNXR100321': {'metanetx': ['MNXR100321'],\n",
       "  'bigg': ['GLYC3Pt6', 'GLYC3Pt6pp', 'r2472'],\n",
       "  'deprecated': ['MNXR2751'],\n",
       "  'kegg': nan,\n",
       "  'seed': ['rxn08642', 'rxn10165'],\n",
       "  'metacyc': ['TRANS-RXN-22'],\n",
       "  'rhea': ['29015', '29016', '29017', '29018'],\n",
       "  'sabiork': nan,\n",
       "  'reactome': nan},\n",
       " 'MNXR100322': {'metanetx': ['MNXR100322'],\n",
       "  'bigg': ['GLYCAt2rpp'],\n",
       "  'deprecated': ['MNXR2753'],\n",
       "  'kegg': nan,\n",
       "  'seed': ['rxn08644', 'rxn13711'],\n",
       "  'metacyc': nan,\n",
       "  'rhea': nan,\n",
       "  'sabiork': nan,\n",
       "  'reactome': nan},\n",
       " 'MNXR100323': {'metanetx': ['MNXR100323'],\n",
       "  'bigg': ['GLYCAtex'],\n",
       "  'deprecated': ['MNXR2754'],\n",
       "  'kegg': nan,\n",
       "  'seed': ['rxn08645'],\n",
       "  'metacyc': ['TRANS-RXN0-523'],\n",
       "  'rhea': nan,\n",
       "  'sabiork': nan,\n",
       "  'reactome': nan},\n",
       " 'MNXR100324': {'metanetx': ['MNXR100324'],\n",
       "  'bigg': ['GLYCDH'],\n",
       "  'deprecated': ['MNXR70808', 'MNXR7130'],\n",
       "  'kegg': ['R01047'],\n",
       "  'seed': ['rxn00768'],\n",
       "  'metacyc': ['GLYCEROL-DEHYDRATASE-RXN'],\n",
       "  'rhea': ['19765', '19766', '19767', '19768'],\n",
       "  'sabiork': nan,\n",
       "  'reactome': nan},\n",
       " 'MNXR100325': {'metanetx': ['MNXR100325'],\n",
       "  'bigg': ['GLYCDH_1', 'HPYRRx'],\n",
       "  'deprecated': ['MNXR2769'],\n",
       "  'kegg': ['R01388'],\n",
       "  'seed': ['rxn01011'],\n",
       "  'metacyc': ['GLYCERATE-DEHYDROGENASE-RXN'],\n",
       "  'rhea': ['17905', '17906', '17907', '17908'],\n",
       "  'sabiork': ['426', '9902'],\n",
       "  'reactome': nan},\n",
       " 'MNXR100326': {'metanetx': ['MNXR100326'],\n",
       "  'bigg': ['GLYCDx'],\n",
       "  'deprecated': ['MNXR69172', 'MNXR2755'],\n",
       "  'kegg': ['R01034'],\n",
       "  'seed': ['rxn00762'],\n",
       "  'metacyc': ['GLYCDEH-RXN'],\n",
       "  'rhea': ['13769', '13770', '13771', '13772'],\n",
       "  'sabiork': ['1322'],\n",
       "  'reactome': nan},\n",
       " 'MNXR100327': {'metanetx': ['MNXR100327'],\n",
       "  'bigg': ['GLYCDy'],\n",
       "  'deprecated': ['MNXR70735', 'MNXR6857'],\n",
       "  'kegg': ['R01039'],\n",
       "  'seed': ['rxn00764'],\n",
       "  'metacyc': ['GLYCEROL-2-DEHYDROGENASE-NADP+-RXN'],\n",
       "  'rhea': ['12753', '12754', '12755', '12756'],\n",
       "  'sabiork': ['1324'],\n",
       "  'reactome': nan},\n",
       " 'MNXR100328': {'metanetx': ['MNXR100328'],\n",
       "  'bigg': ['GLYCK', 'GLYPT', 'r0340'],\n",
       "  'deprecated': ['MNXR2756'],\n",
       "  'kegg': ['R01514'],\n",
       "  'seed': ['rxn01102'],\n",
       "  'metacyc': ['GLY3KIN-RXN'],\n",
       "  'rhea': ['23516', '23517', '23518', '23519'],\n",
       "  'sabiork': ['428'],\n",
       "  'reactome': ['R-BTA-6799495',\n",
       "   'R-CEL-6799495',\n",
       "   'R-CFA-6799495',\n",
       "   'R-DME-6799495',\n",
       "   'R-DRE-6799495',\n",
       "   'R-GGA-6799495',\n",
       "   'R-HSA-6799495',\n",
       "   'R-MMU-6799495',\n",
       "   'R-RNO-6799495',\n",
       "   'R-SSC-6799495',\n",
       "   'R-TGU-6799495',\n",
       "   'R-XTR-6799495']},\n",
       " 'MNXR100329': {'metanetx': ['MNXR100329'],\n",
       "  'bigg': ['GLYCK2'],\n",
       "  'deprecated': ['MNXR2757'],\n",
       "  'kegg': ['R08572'],\n",
       "  'seed': ['rxn08647'],\n",
       "  'metacyc': ['GKI-RXN'],\n",
       "  'rhea': ['27377', '27378', '27379', '27380'],\n",
       "  'sabiork': ['11393'],\n",
       "  'reactome': nan},\n",
       " 'MNXR100330': {'metanetx': ['MNXR100330'],\n",
       "  'bigg': ['GLYCL', 'GLYCL_2', 'GLYCLm', 'GLYS'],\n",
       "  'deprecated': ['MNXR2758', 'MNXR83036'],\n",
       "  'kegg': ['R01221'],\n",
       "  'seed': ['rxn00908'],\n",
       "  'metacyc': nan,\n",
       "  'rhea': ['27758', '27759', '27760', '27761'],\n",
       "  'sabiork': ['1451'],\n",
       "  'reactome': nan},\n",
       " 'MNXR100331': {'metanetx': ['MNXR100331'],\n",
       "  'bigg': ['GLYCLTDx', 'GLYCTO_syn'],\n",
       "  'deprecated': ['MNXR2759'],\n",
       "  'kegg': ['R00717'],\n",
       "  'seed': ['rxn00512'],\n",
       "  'metacyc': ['GLYCOLATE-REDUCTASE-RXN'],\n",
       "  'rhea': ['18229', '18230', '18231', '18232'],\n",
       "  'sabiork': ['425'],\n",
       "  'reactome': nan},\n",
       " 'MNXR100332': {'metanetx': ['MNXR100332'],\n",
       "  'bigg': ['GLYCLTDy', 'GLYCLTDym'],\n",
       "  'deprecated': ['MNXR2760'],\n",
       "  'kegg': ['R00465'],\n",
       "  'seed': ['rxn00324'],\n",
       "  'metacyc': ['GLYOXYLATE-REDUCTASE-NADP+-RXN'],\n",
       "  'rhea': ['10992', '10993', '10994', '10995'],\n",
       "  'sabiork': ['159'],\n",
       "  'reactome': ['R-ATH-389826',\n",
       "   'R-BTA-389826',\n",
       "   'R-CFA-389826',\n",
       "   'R-DDI-389826',\n",
       "   'R-DME-389826',\n",
       "   'R-DRE-389826',\n",
       "   'R-GGA-389826',\n",
       "   'R-HSA-389826',\n",
       "   'R-MMU-389826',\n",
       "   'R-OSA-389826',\n",
       "   'R-RNO-389826',\n",
       "   'R-SCE-389826',\n",
       "   'R-SPO-389826',\n",
       "   'R-SSC-389826',\n",
       "   'R-TGU-389826',\n",
       "   'R-XTR-389826']},\n",
       " 'MNXR100333': {'metanetx': ['MNXR100333'],\n",
       "  'bigg': ['GLYCLTt', 'GLYCLTtex', 'GLYCLTth', 'GLYCLTtm', 'GLYCLTtp'],\n",
       "  'deprecated': ['MNXR2763'],\n",
       "  'kegg': nan,\n",
       "  'seed': ['rxn08653', 'rxn12426'],\n",
       "  'metacyc': ['RXN0-5111'],\n",
       "  'rhea': ['29447', '29448', '29449', '29450'],\n",
       "  'sabiork': ['12468'],\n",
       "  'reactome': nan},\n",
       " 'MNXR100334': {'metanetx': ['MNXR100334'],\n",
       "  'bigg': ['GLYCLTt2r', 'GLYCLTt2rpp'],\n",
       "  'deprecated': ['MNXR2761'],\n",
       "  'kegg': nan,\n",
       "  'seed': ['rxn05470', 'rxn08651'],\n",
       "  'metacyc': ['TRANS-RXN-105'],\n",
       "  'rhea': ['29411', '29412', '29413', '29414'],\n",
       "  'sabiork': nan,\n",
       "  'reactome': nan},\n",
       " 'MNXR100335': {'metanetx': ['MNXR100335'],\n",
       "  'bigg': ['GLYCLTt4pp'],\n",
       "  'deprecated': ['MNXR2762'],\n",
       "  'kegg': nan,\n",
       "  'seed': ['rxn08652'],\n",
       "  'metacyc': nan,\n",
       "  'rhea': nan,\n",
       "  'sabiork': nan,\n",
       "  'reactome': nan},\n",
       " 'MNXR100336': {'metanetx': ['MNXR100336'],\n",
       "  'bigg': ['GLYCOR_nadp', 'HPYRRy'],\n",
       "  'deprecated': ['MNXR3016'],\n",
       "  'kegg': ['R01392'],\n",
       "  'seed': ['rxn01013'],\n",
       "  'metacyc': ['RXN0-300'],\n",
       "  'rhea': ['18657', '18658', '18659', '18660'],\n",
       "  'sabiork': ['427'],\n",
       "  'reactome': nan},\n",
       " 'MNXR100337': {'metanetx': ['MNXR100337'],\n",
       "  'bigg': ['GLYCOe'],\n",
       "  'deprecated': ['MNXR83037'],\n",
       "  'kegg': nan,\n",
       "  'seed': nan,\n",
       "  'metacyc': nan,\n",
       "  'rhea': nan,\n",
       "  'sabiork': nan,\n",
       "  'reactome': nan},\n",
       " 'MNXR100338': {'metanetx': ['MNXR100338'],\n",
       "  'bigg': ['GLYCTO1', 'GLYCTO1p'],\n",
       "  'deprecated': ['MNXR65812', 'MNXR2764'],\n",
       "  'kegg': ['R00475'],\n",
       "  'seed': ['rxn00333'],\n",
       "  'metacyc': ['RXN-969'],\n",
       "  'rhea': ['25311', '25312', '25313', '25314'],\n",
       "  'sabiork': ['907'],\n",
       "  'reactome': ['R-ATH-389842',\n",
       "   'R-BTA-389842',\n",
       "   'R-CEL-389842',\n",
       "   'R-CFA-389842',\n",
       "   'R-DDI-389842',\n",
       "   'R-DME-389842',\n",
       "   'R-DRE-389842',\n",
       "   'R-GGA-389842',\n",
       "   'R-HSA-389842',\n",
       "   'R-MMU-389842',\n",
       "   'R-OSA-389842',\n",
       "   'R-RNO-389842',\n",
       "   'R-SCE-389842',\n",
       "   'R-SPO-389842',\n",
       "   'R-SSC-389842',\n",
       "   'R-TGU-389842',\n",
       "   'R-XTR-389842']},\n",
       " 'MNXR100339': {'metanetx': ['MNXR100339'],\n",
       "  'bigg': ['GLYCTO2'],\n",
       "  'deprecated': ['MNXR55600'],\n",
       "  'kegg': nan,\n",
       "  'seed': ['rxn08655'],\n",
       "  'metacyc': nan,\n",
       "  'rhea': nan,\n",
       "  'sabiork': nan,\n",
       "  'reactome': nan},\n",
       " 'MNXR100340': {'metanetx': ['MNXR100340'],\n",
       "  'bigg': ['GLYCTO3'],\n",
       "  'deprecated': ['MNXR50948', 'MNXR69173'],\n",
       "  'kegg': nan,\n",
       "  'seed': ['rxn08656'],\n",
       "  'metacyc': nan,\n",
       "  'rhea': nan,\n",
       "  'sabiork': nan,\n",
       "  'reactome': nan},\n",
       " 'MNXR100341': {'metanetx': ['MNXR100341'],\n",
       "  'bigg': ['GLYCTO4'],\n",
       "  'deprecated': ['MNXR50949'],\n",
       "  'kegg': nan,\n",
       "  'seed': nan,\n",
       "  'metacyc': nan,\n",
       "  'rhea': nan,\n",
       "  'sabiork': nan,\n",
       "  'reactome': nan},\n",
       " 'MNXR100342': {'metanetx': ['MNXR100342'],\n",
       "  'bigg': ['GLYC_St'],\n",
       "  'deprecated': nan,\n",
       "  'kegg': nan,\n",
       "  'seed': nan,\n",
       "  'metacyc': nan,\n",
       "  'rhea': nan,\n",
       "  'sabiork': nan,\n",
       "  'reactome': nan},\n",
       " 'MNXR100343': {'metanetx': ['MNXR100343'],\n",
       "  'bigg': ['GLYCt', 'GLYCt1', 'GLYCtex', 'GLYCtm', 'GLYCtpp'],\n",
       "  'deprecated': ['MNXR91379', 'MNXR69175', 'MNXR2768'],\n",
       "  'kegg': nan,\n",
       "  'seed': ['rxn05581', 'rxn08654', 'rxn08658'],\n",
       "  'metacyc': ['TRANS-RXN-131'],\n",
       "  'rhea': ['29675', '29676', '29677', '29678'],\n",
       "  'sabiork': nan,\n",
       "  'reactome': ['R-BTA-432049',\n",
       "   'R-BTA-432074',\n",
       "   'R-BTA-507869',\n",
       "   'R-BTA-507871',\n",
       "   'R-CEL-432049',\n",
       "   'R-CEL-432074',\n",
       "   'R-CEL-507869',\n",
       "   'R-CEL-507871',\n",
       "   'R-CFA-432049',\n",
       "   'R-CFA-432074',\n",
       "   'R-CFA-507869',\n",
       "   'R-CFA-507871',\n",
       "   'R-DRE-432049',\n",
       "   'R-DRE-432074',\n",
       "   'R-DRE-507869',\n",
       "   'R-DRE-507871',\n",
       "   'R-GGA-432049',\n",
       "   'R-GGA-432074',\n",
       "   'R-GGA-507869',\n",
       "   'R-GGA-507871',\n",
       "   'R-HSA-432049',\n",
       "   'R-HSA-432074',\n",
       "   'R-HSA-507869',\n",
       "   'R-HSA-507871',\n",
       "   'R-MMU-432049',\n",
       "   'R-MMU-432074',\n",
       "   'R-MMU-507869',\n",
       "   'R-MMU-507871',\n",
       "   'R-PFA-432049',\n",
       "   'R-PFA-432074',\n",
       "   'R-PFA-507869',\n",
       "   'R-PFA-507871',\n",
       "   'R-RNO-432049',\n",
       "   'R-RNO-432074',\n",
       "   'R-RNO-507869',\n",
       "   'R-RNO-507871',\n",
       "   'R-SCE-432049',\n",
       "   'R-SCE-432074',\n",
       "   'R-SCE-507869',\n",
       "   'R-SCE-507871',\n",
       "   'R-SPO-432049',\n",
       "   'R-SPO-432074',\n",
       "   'R-SPO-507869',\n",
       "   'R-SPO-507871',\n",
       "   'R-SSC-432049',\n",
       "   'R-SSC-432074',\n",
       "   'R-SSC-507869',\n",
       "   'R-SSC-507871',\n",
       "   'R-TGU-432049',\n",
       "   'R-TGU-432074',\n",
       "   'R-TGU-507869',\n",
       "   'R-TGU-507871',\n",
       "   'R-XTR-432049',\n",
       "   'R-XTR-432074',\n",
       "   'R-XTR-507869',\n",
       "   'R-XTR-507871']},\n",
       " 'MNXR100344': {'metanetx': ['MNXR100344'],\n",
       "  'bigg': ['GLYCt2', 'GLYCth'],\n",
       "  'deprecated': ['MNXR80849', 'MNXR29481'],\n",
       "  'kegg': nan,\n",
       "  'seed': ['rxn12529'],\n",
       "  'metacyc': nan,\n",
       "  'rhea': nan,\n",
       "  'sabiork': nan,\n",
       "  'reactome': nan},\n",
       " 'MNXR100345': {'metanetx': ['MNXR100345'],\n",
       "  'bigg': ['GLYGLYCNc'],\n",
       "  'deprecated': nan,\n",
       "  'kegg': nan,\n",
       "  'seed': nan,\n",
       "  'metacyc': nan,\n",
       "  'rhea': nan,\n",
       "  'sabiork': nan,\n",
       "  'reactome': nan},\n",
       " 'MNXR100346': {'metanetx': ['MNXR100346'],\n",
       "  'bigg': ['GLYGLYPEPT1tc'],\n",
       "  'deprecated': nan,\n",
       "  'kegg': nan,\n",
       "  'seed': nan,\n",
       "  'metacyc': nan,\n",
       "  'rhea': nan,\n",
       "  'sabiork': nan,\n",
       "  'reactome': nan},\n",
       " 'MNXR100347': {'metanetx': ['MNXR100347'],\n",
       "  'bigg': ['GLYGS'],\n",
       "  'deprecated': ['MNXR55601', 'MNXR69176', 'MNXR83038'],\n",
       "  'kegg': nan,\n",
       "  'seed': nan,\n",
       "  'metacyc': nan,\n",
       "  'rhea': nan,\n",
       "  'sabiork': nan,\n",
       "  'reactome': nan},\n",
       " 'MNXR100348': {'metanetx': ['MNXR100348'],\n",
       "  'bigg': ['GLYK', 'GLYKm'],\n",
       "  'deprecated': ['MNXR91134', 'MNXR69177', 'MNXR2771'],\n",
       "  'kegg': ['R00847'],\n",
       "  'seed': ['rxn00615'],\n",
       "  'metacyc': ['GLYCEROL-KIN-RXN'],\n",
       "  'rhea': ['21644', '21645', '21646', '21647'],\n",
       "  'sabiork': ['99'],\n",
       "  'reactome': ['R-ATH-75887',\n",
       "   'R-BTA-75887',\n",
       "   'R-CEL-75887',\n",
       "   'R-CFA-75887',\n",
       "   'R-DDI-75887',\n",
       "   'R-DME-75887',\n",
       "   'R-DRE-75887',\n",
       "   'R-GGA-75887',\n",
       "   'R-HSA-75887',\n",
       "   'R-MMU-75887',\n",
       "   'R-OSA-75887',\n",
       "   'R-PFA-75887',\n",
       "   'R-RNO-75887',\n",
       "   'R-SCE-75887',\n",
       "   'R-SSC-75887',\n",
       "   'R-TGU-75887',\n",
       "   'R-XTR-75887']},\n",
       " 'MNXR100349': {'metanetx': ['MNXR100349'],\n",
       "  'bigg': ['GLYLEUHYDROc'],\n",
       "  'deprecated': ['MNXR94492', 'MNXR29605'],\n",
       "  'kegg': nan,\n",
       "  'seed': ['rxn12845'],\n",
       "  'metacyc': nan,\n",
       "  'rhea': nan,\n",
       "  'sabiork': nan,\n",
       "  'reactome': nan},\n",
       " 'MNXR100350': {'metanetx': ['MNXR100350'],\n",
       "  'bigg': ['GLYLEUPEPT1tc'],\n",
       "  'deprecated': nan,\n",
       "  'kegg': nan,\n",
       "  'seed': nan,\n",
       "  'metacyc': nan,\n",
       "  'rhea': nan,\n",
       "  'sabiork': nan,\n",
       "  'reactome': nan},\n",
       " 'MNXR100351': {'metanetx': ['MNXR100351'],\n",
       "  'bigg': ['GLYNA1th', 'GLYNA1tm', 'GLYt4', 'GLYt4pp'],\n",
       "  'deprecated': ['MNXR2779'],\n",
       "  'kegg': nan,\n",
       "  'seed': ['rxn08661', 'rxn10537'],\n",
       "  'metacyc': nan,\n",
       "  'rhea': nan,\n",
       "  'sabiork': nan,\n",
       "  'reactome': nan},\n",
       " 'MNXR100352': {'metanetx': ['MNXR100352'],\n",
       "  'bigg': ['GLYO1', 'GLYOp'],\n",
       "  'deprecated': ['MNXR65806', 'MNXR2774', 'MNXR83042'],\n",
       "  'kegg': ['R00366'],\n",
       "  'seed': ['rxn00269'],\n",
       "  'metacyc': ['1.4.3.19-RXN'],\n",
       "  'rhea': ['11532', '11533', '11534', '11535'],\n",
       "  'sabiork': ['833'],\n",
       "  'reactome': ['R-BTA-389821',\n",
       "   'R-CEL-389821',\n",
       "   'R-CFA-389821',\n",
       "   'R-DDI-389821',\n",
       "   'R-DME-389821',\n",
       "   'R-DRE-389821',\n",
       "   'R-GGA-389821',\n",
       "   'R-HSA-389821',\n",
       "   'R-MMU-389821',\n",
       "   'R-RNO-389821',\n",
       "   'R-SPO-389821',\n",
       "   'R-SSC-389821',\n",
       "   'R-TGU-389821',\n",
       "   'R-XTR-389821']},\n",
       " 'MNXR100353': {'metanetx': ['MNXR100353'],\n",
       "  'bigg': ['GLYOX', 'GLYOXm'],\n",
       "  'deprecated': ['MNXR2772', 'MNXR83039'],\n",
       "  'kegg': ['R01736'],\n",
       "  'seed': ['rxn01274'],\n",
       "  'metacyc': ['GLYOXII-RXN'],\n",
       "  'rhea': ['25245', '25246', '25247', '25248'],\n",
       "  'sabiork': ['283', '9752'],\n",
       "  'reactome': nan},\n",
       " 'MNXR100354': {'metanetx': ['MNXR100354'],\n",
       "  'bigg': ['GLYOX3'],\n",
       "  'deprecated': ['MNXR2773'],\n",
       "  'kegg': ['R09796'],\n",
       "  'seed': ['rxn08659'],\n",
       "  'metacyc': ['GLYOXIII-RXN'],\n",
       "  'rhea': ['27754', '27755', '27756', '27757'],\n",
       "  'sabiork': nan,\n",
       "  'reactome': nan},\n",
       " 'MNXR100355': {'metanetx': ['MNXR100355'],\n",
       "  'bigg': ['GLYOX_1', 'LGTHL'],\n",
       "  'deprecated': ['MNXR3231', 'MNXR83040'],\n",
       "  'kegg': ['R02530'],\n",
       "  'seed': ['rxn01834'],\n",
       "  'metacyc': ['GLYOXI-RXN'],\n",
       "  'rhea': ['19069', '19070', '19071', '19072'],\n",
       "  'sabiork': ['177'],\n",
       "  'reactome': ['R-ATH-5694071',\n",
       "   'R-BTA-5694071',\n",
       "   'R-CFA-5694071',\n",
       "   'R-DDI-5694071',\n",
       "   'R-DME-5694071',\n",
       "   'R-DRE-5694071',\n",
       "   'R-GGA-5694071',\n",
       "   'R-HSA-5694071',\n",
       "   'R-MMU-5694071',\n",
       "   'R-OSA-5694071',\n",
       "   'R-PFA-5694071',\n",
       "   'R-RNO-5694071',\n",
       "   'R-SCE-5694071',\n",
       "   'R-SPO-5694071',\n",
       "   'R-SSC-5694071',\n",
       "   'R-TGU-5694071',\n",
       "   'R-XTR-5694071']},\n",
       " 'MNXR100356': {'metanetx': ['MNXR100356'],\n",
       "  'bigg': ['GLYOX_2'],\n",
       "  'deprecated': ['MNXR83041'],\n",
       "  'kegg': nan,\n",
       "  'seed': nan,\n",
       "  'metacyc': nan,\n",
       "  'rhea': nan,\n",
       "  'sabiork': nan,\n",
       "  'reactome': nan},\n",
       " 'MNXR100357': {'metanetx': ['MNXR100357'],\n",
       "  'bigg': ['GLYPHEHYc'],\n",
       "  'deprecated': ['MNXR29606'],\n",
       "  'kegg': nan,\n",
       "  'seed': ['rxn12846'],\n",
       "  'metacyc': nan,\n",
       "  'rhea': nan,\n",
       "  'sabiork': ['10588'],\n",
       "  'reactome': nan},\n",
       " 'MNXR100358': {'metanetx': ['MNXR100358'],\n",
       "  'bigg': ['GLYPHEPEPT1tc'],\n",
       "  'deprecated': nan,\n",
       "  'kegg': nan,\n",
       "  'seed': nan,\n",
       "  'metacyc': nan,\n",
       "  'rhea': nan,\n",
       "  'sabiork': nan,\n",
       "  'reactome': nan},\n",
       " 'MNXR100359': {'metanetx': ['MNXR100359'],\n",
       "  'bigg': ['GLYPROPEPT1tc'],\n",
       "  'deprecated': nan,\n",
       "  'kegg': nan,\n",
       "  'seed': nan,\n",
       "  'metacyc': nan,\n",
       "  'rhea': nan,\n",
       "  'sabiork': nan,\n",
       "  'reactome': nan},\n",
       " 'MNXR100360': {'metanetx': ['MNXR100360'],\n",
       "  'bigg': ['GLYPROPRO1c'],\n",
       "  'deprecated': ['MNXR55045'],\n",
       "  'kegg': nan,\n",
       "  'seed': nan,\n",
       "  'metacyc': ['RXN0-6988'],\n",
       "  'rhea': ['36459', '36460', '36461', '36462'],\n",
       "  'sabiork': ['12810'],\n",
       "  'reactome': nan},\n",
       " 'MNXR100361': {'metanetx': ['MNXR100361'],\n",
       "  'bigg': ['GLYSARCNc'],\n",
       "  'deprecated': nan,\n",
       "  'kegg': nan,\n",
       "  'seed': nan,\n",
       "  'metacyc': nan,\n",
       "  'rhea': nan,\n",
       "  'sabiork': nan,\n",
       "  'reactome': nan},\n",
       " 'MNXR100362': {'metanetx': ['MNXR100362'],\n",
       "  'bigg': ['GLYSARPEPT1tc'],\n",
       "  'deprecated': nan,\n",
       "  'kegg': nan,\n",
       "  'seed': nan,\n",
       "  'metacyc': nan,\n",
       "  'rhea': nan,\n",
       "  'sabiork': nan,\n",
       "  'reactome': nan},\n",
       " 'MNXR100363': {'metanetx': ['MNXR100363'],\n",
       "  'bigg': ['GLYSNAT5tc'],\n",
       "  'deprecated': nan,\n",
       "  'kegg': nan,\n",
       "  'seed': nan,\n",
       "  'metacyc': nan,\n",
       "  'rhea': nan,\n",
       "  'sabiork': nan,\n",
       "  'reactome': nan},\n",
       " 'MNXR100364': {'metanetx': ['MNXR100364'],\n",
       "  'bigg': ['GLYTA', 'GLYTA_1'],\n",
       "  'deprecated': ['MNXR33777'],\n",
       "  'kegg': ['R00372'],\n",
       "  'seed': ['rxn00275'],\n",
       "  'metacyc': ['GLYCINE-AMINOTRANSFERASE-RXN'],\n",
       "  'rhea': ['14089', '14090', '14091', '14092'],\n",
       "  'sabiork': ['839'],\n",
       "  'reactome': nan},\n",
       " 'MNXR100365': {'metanetx': ['MNXR100365'],\n",
       "  'bigg': ['GLYTLm', 'GLYTRS'],\n",
       "  'deprecated': ['MNXR91639', 'MNXR83043'],\n",
       "  'kegg': ['R03654'],\n",
       "  'seed': ['rxn06438'],\n",
       "  'metacyc': nan,\n",
       "  'rhea': nan,\n",
       "  'sabiork': nan,\n",
       "  'reactome': ['R-HSA-380048', 'R-HSA-380240']},\n",
       " 'MNXR100366': {'metanetx': ['MNXR100366'],\n",
       "  'bigg': ['GLYVESSEC'],\n",
       "  'deprecated': ['MNXR2776'],\n",
       "  'kegg': nan,\n",
       "  'seed': nan,\n",
       "  'metacyc': nan,\n",
       "  'rhea': nan,\n",
       "  'sabiork': nan,\n",
       "  'reactome': nan},\n",
       " 'MNXR100367': {'metanetx': ['MNXR100367'],\n",
       "  'bigg': ['GLYabc', 'GLYabcpp'],\n",
       "  'deprecated': ['MNXR2777'],\n",
       "  'kegg': nan,\n",
       "  'seed': ['rxn10862', 'rxn12799'],\n",
       "  'metacyc': nan,\n",
       "  'rhea': nan,\n",
       "  'sabiork': nan,\n",
       "  'reactome': nan},\n",
       " 'MNXR100368': {'metanetx': ['MNXR100368'],\n",
       "  'bigg': ['GLYt2m', 'GLYt2pp', 'GLYt2r', 'GLYt2rL', 'GLYth', 'GLYtx'],\n",
       "  'deprecated': nan,\n",
       "  'kegg': nan,\n",
       "  'seed': ['rxn05582', 'rxn08660', 'rxn09748'],\n",
       "  'metacyc': ['TRANS-RXN-62B'],\n",
       "  'rhea': ['28899', '28900', '28901', '28902'],\n",
       "  'sabiork': nan,\n",
       "  'reactome': nan},\n",
       " 'MNXR100369': {'metanetx': ['MNXR100369'],\n",
       "  'bigg': ['GLYt7_211_r'],\n",
       "  'deprecated': nan,\n",
       "  'kegg': nan,\n",
       "  'seed': nan,\n",
       "  'metacyc': nan,\n",
       "  'rhea': nan,\n",
       "  'sabiork': nan,\n",
       "  'reactome': nan},\n",
       " 'MNXR100370': {'metanetx': ['MNXR100370'],\n",
       "  'bigg': ['GLYt7_311_r'],\n",
       "  'deprecated': nan,\n",
       "  'kegg': nan,\n",
       "  'seed': nan,\n",
       "  'metacyc': nan,\n",
       "  'rhea': nan,\n",
       "  'sabiork': nan,\n",
       "  'reactome': nan},\n",
       " 'MNXR100371': {'metanetx': ['MNXR100371'],\n",
       "  'bigg': ['GLYtex', 'GLYtm', 'GLYtp'],\n",
       "  'deprecated': ['MNXR2782'],\n",
       "  'kegg': nan,\n",
       "  'seed': ['rxn05218', 'rxn08662', 'rxn13111'],\n",
       "  'metacyc': ['TRANS-RXN0-537'],\n",
       "  'rhea': nan,\n",
       "  'sabiork': ['13462'],\n",
       "  'reactome': ['R-BTA-351963',\n",
       "   'R-CEL-351963',\n",
       "   'R-CFA-351963',\n",
       "   'R-DRE-351963',\n",
       "   'R-GGA-351963',\n",
       "   'R-HSA-351963',\n",
       "   'R-MMU-351963',\n",
       "   'R-RNO-351963',\n",
       "   'R-SSC-351963',\n",
       "   'R-TGU-351963']},\n",
       " 'MNXR100372': {'metanetx': ['MNXR100372'],\n",
       "  'bigg': ['GM1LIPA3ODAex'],\n",
       "  'deprecated': ['MNXR83044'],\n",
       "  'kegg': nan,\n",
       "  'seed': nan,\n",
       "  'metacyc': nan,\n",
       "  'rhea': nan,\n",
       "  'sabiork': nan,\n",
       "  'reactome': nan},\n",
       " 'MNXR100373': {'metanetx': ['MNXR100373'],\n",
       "  'bigg': ['GM1LIPAabcpp'],\n",
       "  'deprecated': ['MNXR83045'],\n",
       "  'kegg': nan,\n",
       "  'seed': nan,\n",
       "  'metacyc': nan,\n",
       "  'rhea': nan,\n",
       "  'sabiork': nan,\n",
       "  'reactome': nan},\n",
       " 'MNXR100374': {'metanetx': ['MNXR100374'],\n",
       "  'bigg': ['GM1LIPAabctex'],\n",
       "  'deprecated': ['MNXR83046'],\n",
       "  'kegg': nan,\n",
       "  'seed': nan,\n",
       "  'metacyc': nan,\n",
       "  'rhea': nan,\n",
       "  'sabiork': nan,\n",
       "  'reactome': nan},\n",
       " 'MNXR100375': {'metanetx': ['MNXR100375'],\n",
       "  'bigg': ['GM2LIPAabcpp'],\n",
       "  'deprecated': ['MNXR83047'],\n",
       "  'kegg': nan,\n",
       "  'seed': nan,\n",
       "  'metacyc': nan,\n",
       "  'rhea': nan,\n",
       "  'sabiork': nan,\n",
       "  'reactome': nan},\n",
       " 'MNXR100376': {'metanetx': ['MNXR100376'],\n",
       "  'bigg': ['GM2LIPAabctex'],\n",
       "  'deprecated': ['MNXR83048'],\n",
       "  'kegg': nan,\n",
       "  'seed': nan,\n",
       "  'metacyc': nan,\n",
       "  'rhea': nan,\n",
       "  'sabiork': nan,\n",
       "  'reactome': nan},\n",
       " 'MNXR100377': {'metanetx': ['MNXR100377'],\n",
       "  'bigg': ['GMAND'],\n",
       "  'deprecated': ['MNXR2783'],\n",
       "  'kegg': ['R00888'],\n",
       "  'seed': ['rxn00642'],\n",
       "  'metacyc': ['GDPMANDEHYDRA-RXN'],\n",
       "  'rhea': ['23820', '23821', '23822', '23823'],\n",
       "  'sabiork': ['588'],\n",
       "  'reactome': nan},\n",
       " 'MNXR100378': {'metanetx': ['MNXR100378'],\n",
       "  'bigg': ['GMHEPAT'],\n",
       "  'deprecated': ['MNXR55602', 'MNXR74523'],\n",
       "  'kegg': ['R05644'],\n",
       "  'seed': ['rxn03916', 'rxn13940'],\n",
       "  'metacyc': ['RXN0-4342'],\n",
       "  'rhea': ['27465', '27466', '27467', '27468'],\n",
       "  'sabiork': nan,\n",
       "  'reactome': nan},\n",
       " 'MNXR100379': {'metanetx': ['MNXR100379'],\n",
       "  'bigg': ['GMHEPK'],\n",
       "  'deprecated': ['MNXR83049'],\n",
       "  'kegg': nan,\n",
       "  'seed': nan,\n",
       "  'metacyc': nan,\n",
       "  'rhea': nan,\n",
       "  'sabiork': nan,\n",
       "  'reactome': nan},\n",
       " 'MNXR100380': {'metanetx': ['MNXR100380'],\n",
       "  'bigg': ['GMHEPPA'],\n",
       "  'deprecated': ['MNXR83050'],\n",
       "  'kegg': nan,\n",
       "  'seed': nan,\n",
       "  'metacyc': nan,\n",
       "  'rhea': nan,\n",
       "  'sabiork': nan,\n",
       "  'reactome': nan},\n",
       " 'MNXR100381': {'metanetx': ['MNXR100381'],\n",
       "  'bigg': ['GMP5N', 'NTD9', 'NTD9e', 'NTD9l', 'NTD9pp'],\n",
       "  'deprecated': ['MNXR3882'],\n",
       "  'kegg': ['R01227'],\n",
       "  'seed': ['rxn00913'],\n",
       "  'metacyc': ['RXN-7609'],\n",
       "  'rhea': ['27714', '27715', '27716', '27717'],\n",
       "  'sabiork': ['186'],\n",
       "  'reactome': nan},\n",
       " 'MNXR100382': {'metanetx': ['MNXR100382'],\n",
       "  'bigg': ['GMPR'],\n",
       "  'deprecated': ['MNXR2787', 'MNXR83051'],\n",
       "  'kegg': ['R01134'],\n",
       "  'seed': ['rxn00837'],\n",
       "  'metacyc': ['GMP-REDUCT-RXN'],\n",
       "  'rhea': ['17185', '17186', '17187', '17188'],\n",
       "  'sabiork': nan,\n",
       "  'reactome': nan},\n",
       " 'MNXR100383': {'metanetx': ['MNXR100383'],\n",
       "  'bigg': ['GMPS', 'GMPSm'],\n",
       "  'deprecated': ['MNXR2788', 'MNXR83052'],\n",
       "  'kegg': ['R01230'],\n",
       "  'seed': ['rxn00916'],\n",
       "  'metacyc': ['GMP-SYN-NH3-RXN'],\n",
       "  'rhea': ['18301', '18302', '18303', '18304'],\n",
       "  'sabiork': ['191'],\n",
       "  'reactome': nan},\n",
       " 'MNXR100384': {'metanetx': ['MNXR100384'],\n",
       "  'bigg': ['GMPS2', 'GMPS_glu_m'],\n",
       "  'deprecated': ['MNXR32727'],\n",
       "  'kegg': ['R01231'],\n",
       "  'seed': ['rxn00917'],\n",
       "  'metacyc': ['GMP-SYN-GLUT-RXN'],\n",
       "  'rhea': ['11680', '11681', '11682', '11683'],\n",
       "  'sabiork': ['215'],\n",
       "  'reactome': nan},\n",
       " 'MNXR100385': {'metanetx': ['MNXR100385'],\n",
       "  'bigg': ['GMPt6'],\n",
       "  'deprecated': ['MNXR27740'],\n",
       "  'kegg': nan,\n",
       "  'seed': ['rxn05471'],\n",
       "  'metacyc': nan,\n",
       "  'rhea': nan,\n",
       "  'sabiork': nan,\n",
       "  'reactome': nan},\n",
       " 'MNXR100386': {'metanetx': ['MNXR100386'],\n",
       "  'bigg': ['GMPtex', 'GMPtg', 'GMPtm', 'GMPtn', 'GMPtn_1'],\n",
       "  'deprecated': ['MNXR2790', 'MNXR83053'],\n",
       "  'kegg': nan,\n",
       "  'seed': ['rxn08664'],\n",
       "  'metacyc': ['TRANS-RXN0-565'],\n",
       "  'rhea': nan,\n",
       "  'sabiork': nan,\n",
       "  'reactome': nan},\n",
       " 'MNXR100387': {'metanetx': ['MNXR100387'],\n",
       "  'bigg': ['GMT1'],\n",
       "  'deprecated': ['MNXR55603', 'MNXR69178'],\n",
       "  'kegg': nan,\n",
       "  'seed': ['rxn10751'],\n",
       "  'metacyc': nan,\n",
       "  'rhea': nan,\n",
       "  'sabiork': nan,\n",
       "  'reactome': nan},\n",
       " 'MNXR100388': {'metanetx': ['MNXR100388'],\n",
       "  'bigg': ['GMT2'],\n",
       "  'deprecated': ['MNXR55604', 'MNXR69179'],\n",
       "  'kegg': nan,\n",
       "  'seed': ['rxn10686'],\n",
       "  'metacyc': nan,\n",
       "  'rhea': nan,\n",
       "  'sabiork': nan,\n",
       "  'reactome': nan},\n",
       " 'MNXR100389': {'metanetx': ['MNXR100389'],\n",
       "  'bigg': ['GND', 'GNDer', 'PGDHh'],\n",
       "  'deprecated': ['MNXR2793'],\n",
       "  'kegg': ['R01528'],\n",
       "  'seed': ['rxn01115'],\n",
       "  'metacyc': ['RXN-9952'],\n",
       "  'rhea': ['10116', '10117', '10118', '10119'],\n",
       "  'sabiork': ['108'],\n",
       "  'reactome': ['R-ATH-71299',\n",
       "   'R-BTA-71299',\n",
       "   'R-CEL-71299',\n",
       "   'R-CFA-71299',\n",
       "   'R-DDI-71299',\n",
       "   'R-DME-71299',\n",
       "   'R-DRE-71299',\n",
       "   'R-GGA-71299',\n",
       "   'R-HSA-71299',\n",
       "   'R-MMU-71299',\n",
       "   'R-OSA-71299',\n",
       "   'R-PFA-71299',\n",
       "   'R-SCE-71299',\n",
       "   'R-SPO-71299',\n",
       "   'R-SSC-71299',\n",
       "   'R-TGU-71299',\n",
       "   'R-XTR-71299']},\n",
       " 'MNXR100390': {'metanetx': ['MNXR100390'],\n",
       "  'bigg': ['GNK', 'GNKh', 'GNKr'],\n",
       "  'deprecated': ['MNXR2794'],\n",
       "  'kegg': ['R01737'],\n",
       "  'seed': ['rxn01275'],\n",
       "  'metacyc': ['GLUCONOKIN-RXN'],\n",
       "  'rhea': ['19433', '19434', '19435', '19436'],\n",
       "  'sabiork': ['1845'],\n",
       "  'reactome': nan},\n",
       " 'MNXR100391': {'metanetx': ['MNXR100391'],\n",
       "  'bigg': ['GNMT'],\n",
       "  'deprecated': ['MNXR2795'],\n",
       "  'kegg': ['R00367'],\n",
       "  'seed': ['rxn00270'],\n",
       "  'metacyc': ['GLYCINE-N-METHYLTRANSFERASE-RXN'],\n",
       "  'rhea': ['19937', '19938', '19939', '19940'],\n",
       "  'sabiork': ['834'],\n",
       "  'reactome': ['R-BTA-6798317',\n",
       "   'R-CFA-6798317',\n",
       "   'R-DME-6798317',\n",
       "   'R-DRE-6798317',\n",
       "   'R-GGA-6798317',\n",
       "   'R-HSA-6798317',\n",
       "   'R-MMU-6798317',\n",
       "   'R-RNO-6798317',\n",
       "   'R-SSC-6798317',\n",
       "   'R-TGU-6798317',\n",
       "   'R-XTR-6798317']},\n",
       " 'MNXR100392': {'metanetx': ['MNXR100392'],\n",
       "  'bigg': ['GNNUC'],\n",
       "  'deprecated': ['MNXR56161', 'MNXR55605', 'MNXR69180', 'MNXR24172'],\n",
       "  'kegg': ['R01677'],\n",
       "  'seed': ['rxn01226'],\n",
       "  'metacyc': ['RXN0-366'],\n",
       "  'rhea': ['30771', '30772', '30773', '30774'],\n",
       "  'sabiork': ['321'],\n",
       "  'reactome': nan},\n",
       " 'MNXR100393': {'metanetx': ['MNXR100393'],\n",
       "  'bigg': ['GOFUCR'],\n",
       "  'deprecated': ['MNXR69181', 'MNXR2797'],\n",
       "  'kegg': nan,\n",
       "  'seed': ['rxn08666'],\n",
       "  'metacyc': nan,\n",
       "  'rhea': nan,\n",
       "  'sabiork': nan,\n",
       "  'reactome': nan},\n",
       " 'MNXR100394': {'metanetx': ['MNXR100394'],\n",
       "  'bigg': ['GP1CALPHAte', 'GP1CALPHAtg'],\n",
       "  'deprecated': ['MNXR2798'],\n",
       "  'kegg': nan,\n",
       "  'seed': nan,\n",
       "  'metacyc': nan,\n",
       "  'rhea': nan,\n",
       "  'sabiork': nan,\n",
       "  'reactome': nan},\n",
       " 'MNXR100395': {'metanetx': ['MNXR100395'],\n",
       "  'bigg': ['GP1CALPHAte_cho', 'GP1CALPHAtg_cho'],\n",
       "  'deprecated': nan,\n",
       "  'kegg': nan,\n",
       "  'seed': nan,\n",
       "  'metacyc': nan,\n",
       "  'rhea': nan,\n",
       "  'sabiork': nan,\n",
       "  'reactome': nan},\n",
       " 'MNXR100396': {'metanetx': ['MNXR100396'],\n",
       "  'bigg': ['GP1Cte', 'GP1Ctg'],\n",
       "  'deprecated': ['MNXR2799'],\n",
       "  'kegg': nan,\n",
       "  'seed': nan,\n",
       "  'metacyc': nan,\n",
       "  'rhea': nan,\n",
       "  'sabiork': nan,\n",
       "  'reactome': nan},\n",
       " 'MNXR100397': {'metanetx': ['MNXR100397'],\n",
       "  'bigg': ['GP1Cte_cho', 'GP1Ctg_cho'],\n",
       "  'deprecated': nan,\n",
       "  'kegg': nan,\n",
       "  'seed': nan,\n",
       "  'metacyc': nan,\n",
       "  'rhea': nan,\n",
       "  'sabiork': nan,\n",
       "  'reactome': nan},\n",
       " 'MNXR100398': {'metanetx': ['MNXR100398'],\n",
       "  'bigg': ['GP4GH'],\n",
       "  'deprecated': ['MNXR55606', 'MNXR69182'],\n",
       "  'kegg': nan,\n",
       "  'seed': ['rxn08667'],\n",
       "  'metacyc': nan,\n",
       "  'rhea': ['30203', '30204', '30205', '30206'],\n",
       "  'sabiork': nan,\n",
       "  'reactome': nan},\n",
       " 'MNXR100399': {'metanetx': ['MNXR100399'],\n",
       "  'bigg': ['GPAM_cho', 'GPAMm_cho'],\n",
       "  'deprecated': nan,\n",
       "  'kegg': nan,\n",
       "  'seed': nan,\n",
       "  'metacyc': nan,\n",
       "  'rhea': nan,\n",
       "  'sabiork': nan,\n",
       "  'reactome': nan},\n",
       " 'MNXR100400': {'metanetx': ['MNXR100400'],\n",
       "  'bigg': ['GPAM_hs', 'GPAMm_hs'],\n",
       "  'deprecated': ['MNXR2801'],\n",
       "  'kegg': nan,\n",
       "  'seed': nan,\n",
       "  'metacyc': nan,\n",
       "  'rhea': nan,\n",
       "  'sabiork': nan,\n",
       "  'reactome': nan},\n",
       " 'MNXR100401': {'metanetx': ['MNXR100401'],\n",
       "  'bigg': ['GPAM_hs_16_0'],\n",
       "  'deprecated': ['MNXR83054'],\n",
       "  'kegg': nan,\n",
       "  'seed': nan,\n",
       "  'metacyc': nan,\n",
       "  'rhea': nan,\n",
       "  'sabiork': nan,\n",
       "  'reactome': nan},\n",
       " 'MNXR100402': {'metanetx': ['MNXR100402'],\n",
       "  'bigg': ['GPAM_hs_16_1'],\n",
       "  'deprecated': ['MNXR83055'],\n",
       "  'kegg': nan,\n",
       "  'seed': nan,\n",
       "  'metacyc': nan,\n",
       "  'rhea': nan,\n",
       "  'sabiork': nan,\n",
       "  'reactome': nan},\n",
       " 'MNXR100403': {'metanetx': ['MNXR100403'],\n",
       "  'bigg': ['GPAM_hs_18_0'],\n",
       "  'deprecated': ['MNXR83056'],\n",
       "  'kegg': nan,\n",
       "  'seed': nan,\n",
       "  'metacyc': nan,\n",
       "  'rhea': nan,\n",
       "  'sabiork': nan,\n",
       "  'reactome': nan},\n",
       " 'MNXR100404': {'metanetx': ['MNXR100404'],\n",
       "  'bigg': ['GPAM_hs_18_1'],\n",
       "  'deprecated': ['MNXR83057'],\n",
       "  'kegg': nan,\n",
       "  'seed': nan,\n",
       "  'metacyc': nan,\n",
       "  'rhea': nan,\n",
       "  'sabiork': nan,\n",
       "  'reactome': nan},\n",
       " 'MNXR100405': {'metanetx': ['MNXR100405'],\n",
       "  'bigg': ['GPAM_hs_18_2'],\n",
       "  'deprecated': ['MNXR83058'],\n",
       "  'kegg': nan,\n",
       "  'seed': nan,\n",
       "  'metacyc': nan,\n",
       "  'rhea': nan,\n",
       "  'sabiork': nan,\n",
       "  'reactome': nan},\n",
       " 'MNXR100406': {'metanetx': ['MNXR100406'],\n",
       "  'bigg': ['GPAM_hs_18_3'],\n",
       "  'deprecated': ['MNXR83059'],\n",
       "  'kegg': nan,\n",
       "  'seed': nan,\n",
       "  'metacyc': nan,\n",
       "  'rhea': nan,\n",
       "  'sabiork': nan,\n",
       "  'reactome': nan},\n",
       " 'MNXR100407': {'metanetx': ['MNXR100407'],\n",
       "  'bigg': ['GPAM_hs_18_4'],\n",
       "  'deprecated': ['MNXR83060'],\n",
       "  'kegg': nan,\n",
       "  'seed': nan,\n",
       "  'metacyc': nan,\n",
       "  'rhea': nan,\n",
       "  'sabiork': nan,\n",
       "  'reactome': nan},\n",
       " 'MNXR100408': {'metanetx': ['MNXR100408'],\n",
       "  'bigg': ['GPAM_hs_20_4'],\n",
       "  'deprecated': ['MNXR83061'],\n",
       "  'kegg': nan,\n",
       "  'seed': nan,\n",
       "  'metacyc': nan,\n",
       "  'rhea': nan,\n",
       "  'sabiork': nan,\n",
       "  'reactome': nan},\n",
       " 'MNXR100409': {'metanetx': ['MNXR100409'],\n",
       "  'bigg': ['GPAR', 'GUAPRT'],\n",
       "  'deprecated': ['MNXR55611', 'MNXR69194'],\n",
       "  'kegg': ['R01229'],\n",
       "  'seed': ['rxn00915'],\n",
       "  'metacyc': ['GUANPRIBOSYLTRAN-RXN'],\n",
       "  'rhea': ['25424', '25425', '25426', '25427'],\n",
       "  'sabiork': ['195'],\n",
       "  'reactome': nan},\n",
       " 'MNXR100410': {'metanetx': ['MNXR100410'],\n",
       "  'bigg': ['GPDDA1', 'GPDDA1pp'],\n",
       "  'deprecated': ['MNXR2802'],\n",
       "  'kegg': ['R01030'],\n",
       "  'seed': ['rxn00758'],\n",
       "  'metacyc': ['3.1.4.2-RXN'],\n",
       "  'rhea': ['16061', '16062', '16063', '16064'],\n",
       "  'sabiork': ['1318'],\n",
       "  'reactome': ['R-HSA-1483116',\n",
       "   'R-HSA-6814132',\n",
       "   'R-MMU-1483112',\n",
       "   'R-MMU-6814137']},\n",
       " 'MNXR100411': {'metanetx': ['MNXR100411'],\n",
       "  'bigg': ['GPDDA2', 'GPDDA2pp'],\n",
       "  'deprecated': ['MNXR2803'],\n",
       "  'kegg': ['R01470'],\n",
       "  'seed': ['rxn01073'],\n",
       "  'metacyc': ['RXN-14160'],\n",
       "  'rhea': ['29319', '29320', '29321', '29322'],\n",
       "  'sabiork': ['397'],\n",
       "  'reactome': nan},\n",
       " 'MNXR100412': {'metanetx': ['MNXR100412'],\n",
       "  'bigg': ['GPDDA3', 'GPDDA3pp'],\n",
       "  'deprecated': ['MNXR26738', 'MNXR2804', 'MNXR83062'],\n",
       "  'kegg': nan,\n",
       "  'seed': ['rxn08668'],\n",
       "  'metacyc': ['RXN-14136'],\n",
       "  'rhea': ['29875', '29876', '29877', '29878'],\n",
       "  'sabiork': nan,\n",
       "  'reactome': nan},\n",
       " 'MNXR100413': {'metanetx': ['MNXR100413'],\n",
       "  'bigg': ['GPDDA4', 'GPDDA4pp'],\n",
       "  'deprecated': nan,\n",
       "  'kegg': nan,\n",
       "  'seed': ['rxn08669'],\n",
       "  'metacyc': ['RXN-14073'],\n",
       "  'rhea': nan,\n",
       "  'sabiork': ['13035'],\n",
       "  'reactome': nan},\n",
       " 'MNXR100414': {'metanetx': ['MNXR100414'],\n",
       "  'bigg': ['GPDDA5', 'GPDDA5pp'],\n",
       "  'deprecated': ['MNXR2806'],\n",
       "  'kegg': ['R01193'],\n",
       "  'seed': ['rxn00889'],\n",
       "  'metacyc': ['3.1.4.44-RXN'],\n",
       "  'rhea': ['16501', '16502', '16503', '16504'],\n",
       "  'sabiork': ['1430'],\n",
       "  'reactome': ['R-BTA-6813740',\n",
       "   'R-CEL-6813740',\n",
       "   'R-CFA-6813740',\n",
       "   'R-DDI-6813740',\n",
       "   'R-DME-6813740',\n",
       "   'R-DRE-6813740',\n",
       "   'R-GGA-6813740',\n",
       "   'R-HSA-6813740',\n",
       "   'R-MMU-6813740',\n",
       "   'R-RNO-6813740',\n",
       "   'R-SSC-6813740',\n",
       "   'R-TGU-6813740',\n",
       "   'R-XTR-6813740']},\n",
       " 'MNXR100415': {'metanetx': ['MNXR100415'],\n",
       "  'bigg': ['GPIAT'],\n",
       "  'deprecated': ['MNXR48206', 'MNXR69184'],\n",
       "  'kegg': nan,\n",
       "  'seed': nan,\n",
       "  'metacyc': nan,\n",
       "  'rhea': nan,\n",
       "  'sabiork': nan,\n",
       "  'reactome': nan},\n",
       " 'MNXR100416': {'metanetx': ['MNXR100416'],\n",
       "  'bigg': ['GPIAT_cho'],\n",
       "  'deprecated': nan,\n",
       "  'kegg': nan,\n",
       "  'seed': nan,\n",
       "  'metacyc': nan,\n",
       "  'rhea': nan,\n",
       "  'sabiork': nan,\n",
       "  'reactome': nan},\n",
       " 'MNXR100417': {'metanetx': ['MNXR100417'],\n",
       "  'bigg': ['GPIDA2er'],\n",
       "  'deprecated': ['MNXR2808'],\n",
       "  'kegg': nan,\n",
       "  'seed': nan,\n",
       "  'metacyc': nan,\n",
       "  'rhea': nan,\n",
       "  'sabiork': nan,\n",
       "  'reactome': nan},\n",
       " 'MNXR100418': {'metanetx': ['MNXR100418'],\n",
       "  'bigg': ['GPIDA2er_cho'],\n",
       "  'deprecated': nan,\n",
       "  'kegg': nan,\n",
       "  'seed': nan,\n",
       "  'metacyc': nan,\n",
       "  'rhea': nan,\n",
       "  'sabiork': nan,\n",
       "  'reactome': nan},\n",
       " 'MNXR100419': {'metanetx': ['MNXR100419'],\n",
       "  'bigg': ['GPIDAer'],\n",
       "  'deprecated': ['MNXR2809'],\n",
       "  'kegg': nan,\n",
       "  'seed': nan,\n",
       "  'metacyc': nan,\n",
       "  'rhea': nan,\n",
       "  'sabiork': nan,\n",
       "  'reactome': nan},\n",
       " 'MNXR100420': {'metanetx': ['MNXR100420'],\n",
       "  'bigg': ['GPIDAer_cho'],\n",
       "  'deprecated': nan,\n",
       "  'kegg': nan,\n",
       "  'seed': nan,\n",
       "  'metacyc': nan,\n",
       "  'rhea': nan,\n",
       "  'sabiork': nan,\n",
       "  'reactome': nan},\n",
       " 'MNXR100421': {'metanetx': ['MNXR100421'],\n",
       "  'bigg': ['GPIMTer'],\n",
       "  'deprecated': nan,\n",
       "  'kegg': nan,\n",
       "  'seed': nan,\n",
       "  'metacyc': nan,\n",
       "  'rhea': nan,\n",
       "  'sabiork': nan,\n",
       "  'reactome': nan},\n",
       " 'MNXR100422': {'metanetx': ['MNXR100422'],\n",
       "  'bigg': ['GPIMTer_L'],\n",
       "  'deprecated': ['MNXR2810', 'MNXR83063'],\n",
       "  'kegg': nan,\n",
       "  'seed': nan,\n",
       "  'metacyc': nan,\n",
       "  'rhea': nan,\n",
       "  'sabiork': nan,\n",
       "  'reactome': nan},\n",
       " 'MNXR100423': {'metanetx': ['MNXR100423'],\n",
       "  'bigg': ['GPIMTer_U'],\n",
       "  'deprecated': ['MNXR2811'],\n",
       "  'kegg': nan,\n",
       "  'seed': nan,\n",
       "  'metacyc': nan,\n",
       "  'rhea': nan,\n",
       "  'sabiork': nan,\n",
       "  'reactome': nan},\n",
       " 'MNXR100424': {'metanetx': ['MNXR100424'],\n",
       "  'bigg': ['GQ1BALPHAte', 'GQ1BALPHAtg'],\n",
       "  'deprecated': ['MNXR2812'],\n",
       "  'kegg': nan,\n",
       "  'seed': nan,\n",
       "  'metacyc': nan,\n",
       "  'rhea': nan,\n",
       "  'sabiork': nan,\n",
       "  'reactome': nan},\n",
       " 'MNXR100425': {'metanetx': ['MNXR100425'],\n",
       "  'bigg': ['GQ1BALPHAte_cho', 'GQ1BALPHAtg_cho'],\n",
       "  'deprecated': nan,\n",
       "  'kegg': nan,\n",
       "  'seed': nan,\n",
       "  'metacyc': nan,\n",
       "  'rhea': nan,\n",
       "  'sabiork': nan,\n",
       "  'reactome': nan},\n",
       " 'MNXR100426': {'metanetx': ['MNXR100426'],\n",
       "  'bigg': ['GQ1Bte', 'GQ1Btg'],\n",
       "  'deprecated': ['MNXR2813'],\n",
       "  'kegg': nan,\n",
       "  'seed': nan,\n",
       "  'metacyc': nan,\n",
       "  'rhea': nan,\n",
       "  'sabiork': nan,\n",
       "  'reactome': nan},\n",
       " 'MNXR100427': {'metanetx': ['MNXR100427'],\n",
       "  'bigg': ['GQ1Bte_cho', 'GQ1Btg_cho'],\n",
       "  'deprecated': nan,\n",
       "  'kegg': nan,\n",
       "  'seed': nan,\n",
       "  'metacyc': nan,\n",
       "  'rhea': nan,\n",
       "  'sabiork': nan,\n",
       "  'reactome': nan},\n",
       " 'MNXR100428': {'metanetx': ['MNXR100428'],\n",
       "  'bigg': ['GRDPth'],\n",
       "  'deprecated': ['MNXR83064'],\n",
       "  'kegg': nan,\n",
       "  'seed': nan,\n",
       "  'metacyc': nan,\n",
       "  'rhea': nan,\n",
       "  'sabiork': nan,\n",
       "  'reactome': nan},\n",
       " 'MNXR100429': {'metanetx': ['MNXR100429'],\n",
       "  'bigg': ['GRGT'],\n",
       "  'deprecated': ['MNXR8141', 'MNXR61587'],\n",
       "  'kegg': ['R03418', 'R06042'],\n",
       "  'seed': ['rxn02451'],\n",
       "  'metacyc': ['2.4.1.67-RXN'],\n",
       "  'rhea': ['20776', '20777', '20778', '20779'],\n",
       "  'sabiork': ['3217'],\n",
       "  'reactome': nan},\n",
       " 'MNXR100430': {'metanetx': ['MNXR100430'],\n",
       "  'bigg': ['GRTT2'],\n",
       "  'deprecated': ['MNXR69186'],\n",
       "  'kegg': nan,\n",
       "  'seed': ['rxn10538'],\n",
       "  'metacyc': nan,\n",
       "  'rhea': nan,\n",
       "  'sabiork': nan,\n",
       "  'reactome': nan},\n",
       " 'MNXR100431': {'metanetx': ['MNXR100431'],\n",
       "  'bigg': ['GRXR'],\n",
       "  'deprecated': ['MNXR31644', 'MNXR69187', 'MNXR94193', 'MNXR83065'],\n",
       "  'kegg': nan,\n",
       "  'seed': ['rxn08670'],\n",
       "  'metacyc': nan,\n",
       "  'rhea': nan,\n",
       "  'sabiork': nan,\n",
       "  'reactome': nan},\n",
       " 'MNXR100432': {'metanetx': ['MNXR100432'],\n",
       "  'bigg': ['GSNK', 'GSNKm'],\n",
       "  'deprecated': ['MNXR2817'],\n",
       "  'kegg': ['R01228'],\n",
       "  'seed': ['rxn00914'],\n",
       "  'metacyc': ['GUANOSINEKIN-RXN'],\n",
       "  'rhea': ['27710', '27711', '27712', '27713'],\n",
       "  'sabiork': nan,\n",
       "  'reactome': nan},\n",
       " 'MNXR100433': {'metanetx': ['MNXR100433'],\n",
       "  'bigg': ['GSNt', 'GSNtex', 'GSNtl', 'GSNtm'],\n",
       "  'deprecated': ['MNXR2818'],\n",
       "  'kegg': nan,\n",
       "  'seed': ['rxn08672', 'rxn10897'],\n",
       "  'metacyc': nan,\n",
       "  'rhea': nan,\n",
       "  'sabiork': nan,\n",
       "  'reactome': nan},\n",
       " 'MNXR100434': {'metanetx': ['MNXR100434'],\n",
       "  'bigg': ['GSNt2', 'GSNt2m', 'GSNt2pp'],\n",
       "  'deprecated': nan,\n",
       "  'kegg': nan,\n",
       "  'seed': ['rxn05204', 'rxn08671', 'rxn09747'],\n",
       "  'metacyc': nan,\n",
       "  'rhea': nan,\n",
       "  'sabiork': nan,\n",
       "  'reactome': nan},\n",
       " 'MNXR100435': {'metanetx': ['MNXR100435'],\n",
       "  'bigg': ['GSNt4'],\n",
       "  'deprecated': ['MNXR2820'],\n",
       "  'kegg': nan,\n",
       "  'seed': nan,\n",
       "  'metacyc': nan,\n",
       "  'rhea': nan,\n",
       "  'sabiork': nan,\n",
       "  'reactome': nan},\n",
       " 'MNXR100436': {'metanetx': ['MNXR100436'],\n",
       "  'bigg': ['GSNt5'],\n",
       "  'deprecated': ['MNXR2821'],\n",
       "  'kegg': nan,\n",
       "  'seed': nan,\n",
       "  'metacyc': nan,\n",
       "  'rhea': nan,\n",
       "  'sabiork': nan,\n",
       "  'reactome': nan},\n",
       " 'MNXR100437': {'metanetx': ['MNXR100437'],\n",
       "  'bigg': ['GSPMDA'],\n",
       "  'deprecated': ['MNXR2822', 'MNXR83066'],\n",
       "  'kegg': ['R01918'],\n",
       "  'seed': ['rxn01404'],\n",
       "  'metacyc': ['GSPAMID-RXN'],\n",
       "  'rhea': ['17173', '17174', '17175', '17176'],\n",
       "  'sabiork': ['1972'],\n",
       "  'reactome': nan},\n",
       " 'MNXR100438': {'metanetx': ['MNXR100438'],\n",
       "  'bigg': ['GSPMDS'],\n",
       "  'deprecated': ['MNXR2823', 'MNXR83067'],\n",
       "  'kegg': ['R01917'],\n",
       "  'seed': ['rxn01403'],\n",
       "  'metacyc': ['GSPSYN-RXN'],\n",
       "  'rhea': ['21272', '21273', '21274', '21275'],\n",
       "  'sabiork': ['1971'],\n",
       "  'reactome': nan},\n",
       " 'MNXR100439': {'metanetx': ['MNXR100439'],\n",
       "  'bigg': ['GT1Ate', 'GT1Atg'],\n",
       "  'deprecated': ['MNXR2824'],\n",
       "  'kegg': nan,\n",
       "  'seed': nan,\n",
       "  'metacyc': nan,\n",
       "  'rhea': nan,\n",
       "  'sabiork': nan,\n",
       "  'reactome': nan},\n",
       " 'MNXR100440': {'metanetx': ['MNXR100440'],\n",
       "  'bigg': ['GT1Ate_cho', 'GT1Atg_cho'],\n",
       "  'deprecated': nan,\n",
       "  'kegg': nan,\n",
       "  'seed': nan,\n",
       "  'metacyc': nan,\n",
       "  'rhea': nan,\n",
       "  'sabiork': nan,\n",
       "  'reactome': nan},\n",
       " 'MNXR100441': {'metanetx': ['MNXR100441'],\n",
       "  'bigg': ['GTHAMPOR', 'GTHAMPORh', 'GTHAMPORm'],\n",
       "  'deprecated': ['MNXR85370', 'MNXR70769', 'MNXR6994', 'MNXR83068'],\n",
       "  'kegg': ['R05717'],\n",
       "  'seed': ['rxn03983'],\n",
       "  'metacyc': ['1.8.4.9-RXN'],\n",
       "  'rhea': ['14141', '14142', '14143', '14144'],\n",
       "  'sabiork': ['5311'],\n",
       "  'reactome': nan},\n",
       " 'MNXR100442': {'metanetx': ['MNXR100442'],\n",
       "  'bigg': ['GTHDH', 'GTHDHu'],\n",
       "  'deprecated': ['MNXR84668', 'MNXR69188', 'MNXR2825', 'MNXR83069'],\n",
       "  'kegg': ['R01108'],\n",
       "  'seed': ['rxn00821'],\n",
       "  'metacyc': ['1.8.5.1-RXN'],\n",
       "  'rhea': ['24424', '24425', '24426', '24427'],\n",
       "  'sabiork': ['1372'],\n",
       "  'reactome': ['R-BTA-198813',\n",
       "   'R-CEL-198813',\n",
       "   'R-CFA-198813',\n",
       "   'R-DME-198813',\n",
       "   'R-DRE-198813',\n",
       "   'R-GGA-198813',\n",
       "   'R-HSA-198813',\n",
       "   'R-MMU-198813',\n",
       "   'R-RNO-198813',\n",
       "   'R-SSC-198813',\n",
       "   'R-TGU-198813',\n",
       "   'R-XTR-198813']},\n",
       " 'MNXR100443': {'metanetx': ['MNXR100443'],\n",
       "  'bigg': ['GTHOXtex', 'GTHOXti', 'GTHOXtu', 'gthox_export'],\n",
       "  'deprecated': ['MNXR2827'],\n",
       "  'kegg': nan,\n",
       "  'seed': ['rxn08674', 'rxn09677'],\n",
       "  'metacyc': nan,\n",
       "  'rhea': nan,\n",
       "  'sabiork': nan,\n",
       "  'reactome': nan},\n",
       " 'MNXR100444': {'metanetx': ['MNXR100444'],\n",
       "  'bigg': ['GTHOXti2'],\n",
       "  'deprecated': ['MNXR83070'],\n",
       "  'kegg': nan,\n",
       "  'seed': nan,\n",
       "  'metacyc': nan,\n",
       "  'rhea': nan,\n",
       "  'sabiork': nan,\n",
       "  'reactome': nan},\n",
       " 'MNXR100445': {'metanetx': ['MNXR100445'],\n",
       "  'bigg': ['GTHPDSOR'],\n",
       "  'deprecated': ['MNXR83071'],\n",
       "  'kegg': ['R03915'],\n",
       "  'seed': ['rxn06527'],\n",
       "  'metacyc': ['PRODISULFREDUCT-RXN'],\n",
       "  'rhea': nan,\n",
       "  'sabiork': nan,\n",
       "  'reactome': nan},\n",
       " 'MNXR100446': {'metanetx': ['MNXR100446'],\n",
       "  'bigg': ['GTHPe', 'GTHPe_1', 'GTHPi', 'GTHPm'],\n",
       "  'deprecated': ['MNXR2828', 'MNXR83072'],\n",
       "  'kegg': ['R00274'],\n",
       "  'seed': ['rxn00205'],\n",
       "  'metacyc': ['GLUTATHIONE-PEROXIDASE-RXN'],\n",
       "  'rhea': ['16833', '16834', '16835', '16836'],\n",
       "  'sabiork': ['376'],\n",
       "  'reactome': ['R-BTA-3341277',\n",
       "   'R-BTA-3341397',\n",
       "   'R-BTA-3343700',\n",
       "   'R-CEL-3323013',\n",
       "   'R-CEL-3341277',\n",
       "   'R-CEL-3341397',\n",
       "   'R-CEL-3343700',\n",
       "   'R-CEL-71676',\n",
       "   'R-CFA-3323013',\n",
       "   'R-CFA-3341277',\n",
       "   'R-CFA-3341397',\n",
       "   'R-CFA-3343700',\n",
       "   'R-CFA-71676',\n",
       "   'R-DRE-3341277',\n",
       "   'R-DRE-3341397',\n",
       "   'R-DRE-3343700',\n",
       "   'R-GGA-3323013',\n",
       "   'R-GGA-3341277',\n",
       "   'R-GGA-3341397',\n",
       "   'R-GGA-71676',\n",
       "   'R-HSA-3323013',\n",
       "   'R-HSA-3341277',\n",
       "   'R-HSA-3341397',\n",
       "   'R-HSA-3343700',\n",
       "   'R-HSA-71676',\n",
       "   'R-MMU-3323013',\n",
       "   'R-MMU-3341277',\n",
       "   'R-MMU-3341397',\n",
       "   'R-MMU-3343700',\n",
       "   'R-MMU-71676',\n",
       "   'R-PFA-3323013',\n",
       "   'R-PFA-3341277',\n",
       "   'R-PFA-3341397',\n",
       "   'R-PFA-71676',\n",
       "   'R-RNO-3323013',\n",
       "   'R-RNO-3341277',\n",
       "   'R-RNO-3341397',\n",
       "   'R-RNO-3343700',\n",
       "   'R-RNO-71676',\n",
       "   'R-SCE-3323013',\n",
       "   'R-SCE-3341277',\n",
       "   'R-SCE-3341397',\n",
       "   'R-SCE-71676',\n",
       "   'R-SPO-3323013',\n",
       "   'R-SPO-3341277',\n",
       "   'R-SPO-3341397',\n",
       "   'R-SPO-71676',\n",
       "   'R-SSC-3341277',\n",
       "   'R-TGU-3323013',\n",
       "   'R-TGU-3341397',\n",
       "   'R-TGU-71676',\n",
       "   'R-XTR-3341277',\n",
       "   'R-XTR-3341397',\n",
       "   'R-XTR-3343700']},\n",
       " 'MNXR100447': {'metanetx': ['MNXR100447'],\n",
       "  'bigg': ['GTHRDabc2pp', 'GTHRDt', 'r1530'],\n",
       "  'deprecated': ['MNXR30137', 'MNXR83074'],\n",
       "  'kegg': nan,\n",
       "  'seed': ['rxn08675', 'rxn13712'],\n",
       "  'metacyc': ['RXN0-21'],\n",
       "  'rhea': ['29787#1',\n",
       "   '29788#1',\n",
       "   '29789#1',\n",
       "   '29790#1',\n",
       "   '29791#2',\n",
       "   '29792#2',\n",
       "   '29793#2',\n",
       "   '29794#2'],\n",
       "  'sabiork': nan,\n",
       "  'reactome': nan},\n",
       " 'MNXR100448': {'metanetx': ['MNXR100448'],\n",
       "  'bigg': ['GTHRDabcpp', 'GTHRDabcv'],\n",
       "  'deprecated': nan,\n",
       "  'kegg': nan,\n",
       "  'seed': ['rxn08676', 'rxn13306'],\n",
       "  'metacyc': ['RXN0-11'],\n",
       "  'rhea': ['29787#2',\n",
       "   '29788#2',\n",
       "   '29789#2',\n",
       "   '29790#2',\n",
       "   '29791#1',\n",
       "   '29792#1',\n",
       "   '29793#1',\n",
       "   '29794#1'],\n",
       "  'sabiork': nan,\n",
       "  'reactome': nan},\n",
       " 'MNXR100449': {'metanetx': ['MNXR100449'],\n",
       "  'bigg': ['GTHRDt2', 'GTHRDtex', 'GTHRDtr', 'GTHRDtu', 'r1493'],\n",
       "  'deprecated': ['MNXR91587', 'MNXR2831'],\n",
       "  'kegg': nan,\n",
       "  'seed': ['rxn08677', 'rxn10829'],\n",
       "  'metacyc': nan,\n",
       "  'rhea': nan,\n",
       "  'sabiork': nan,\n",
       "  'reactome': ['R-HSA-1247915', 'R-HSA-1500817']},\n",
       " 'MNXR100450': {'metanetx': ['MNXR100450'],\n",
       "  'bigg': ['GTHS', 'GTHS_1'],\n",
       "  'deprecated': ['MNXR2832', 'MNXR83075'],\n",
       "  'kegg': ['R00497'],\n",
       "  'seed': ['rxn00351'],\n",
       "  'metacyc': ['GLUTATHIONE-SYN-RXN'],\n",
       "  'rhea': ['13557', '13558', '13559', '13560'],\n",
       "  'sabiork': ['927'],\n",
       "  'reactome': nan},\n",
       " 'MNXR100451': {'metanetx': ['MNXR100451'],\n",
       "  'bigg': ['GTMLT'],\n",
       "  'deprecated': ['MNXR31651', 'MNXR94280', 'MNXR69189', 'MNXR83076'],\n",
       "  'kegg': nan,\n",
       "  'seed': ['rxn09521'],\n",
       "  'metacyc': nan,\n",
       "  'rhea': nan,\n",
       "  'sabiork': nan,\n",
       "  'reactome': nan},\n",
       " 'MNXR100452': {'metanetx': ['MNXR100452'],\n",
       "  'bigg': ['GTMLTe'],\n",
       "  'deprecated': nan,\n",
       "  'kegg': nan,\n",
       "  'seed': nan,\n",
       "  'metacyc': nan,\n",
       "  'rhea': nan,\n",
       "  'sabiork': nan,\n",
       "  'reactome': nan},\n",
       " 'MNXR100453': {'metanetx': ['MNXR100453'],\n",
       "  'bigg': ['GTPCI', 'GTPCI_1', 'GTPCI_2', 'GTPCIn'],\n",
       "  'deprecated': ['MNXR2834'],\n",
       "  'kegg': ['R00424'],\n",
       "  'seed': ['rxn00299', 'rxn11232'],\n",
       "  'metacyc': ['GTP-CYCLOHYDRO-I-RXN'],\n",
       "  'rhea': ['17473', '17474', '17475', '17476'],\n",
       "  'sabiork': ['9177'],\n",
       "  'reactome': ['R-ATH-1474146',\n",
       "   'R-BTA-1474146',\n",
       "   'R-CEL-1474146',\n",
       "   'R-CFA-1474146',\n",
       "   'R-DDI-1474146',\n",
       "   'R-DME-1474146',\n",
       "   'R-DRE-1474146',\n",
       "   'R-GGA-1474146',\n",
       "   'R-HSA-1474146',\n",
       "   'R-MMU-1474146',\n",
       "   'R-OSA-1474146',\n",
       "   'R-PFA-1474146',\n",
       "   'R-RNO-1474146',\n",
       "   'R-SCE-1474146',\n",
       "   'R-SPO-1474146',\n",
       "   'R-TGU-1474146',\n",
       "   'R-XTR-1474146']},\n",
       " 'MNXR100454': {'metanetx': ['MNXR100454'],\n",
       "  'bigg': ['GTPCII', 'GTPDH'],\n",
       "  'deprecated': ['MNXR69190'],\n",
       "  'kegg': nan,\n",
       "  'seed': nan,\n",
       "  'metacyc': nan,\n",
       "  'rhea': nan,\n",
       "  'sabiork': nan,\n",
       "  'reactome': nan},\n",
       " 'MNXR100455': {'metanetx': ['MNXR100455'],\n",
       "  'bigg': ['GTPCII2'],\n",
       "  'deprecated': ['MNXR2835'],\n",
       "  'kegg': ['R00425'],\n",
       "  'seed': ['rxn00300'],\n",
       "  'metacyc': ['GTP-CYCLOHYDRO-II-RXN'],\n",
       "  'rhea': ['23704', '23705', '23706', '23707'],\n",
       "  'sabiork': nan,\n",
       "  'reactome': nan},\n",
       " 'MNXR100456': {'metanetx': ['MNXR100456'],\n",
       "  'bigg': ['GTPCIII'],\n",
       "  'deprecated': ['MNXR31653'],\n",
       "  'kegg': nan,\n",
       "  'seed': ['rxn10539'],\n",
       "  'metacyc': nan,\n",
       "  'rhea': nan,\n",
       "  'sabiork': nan,\n",
       "  'reactome': nan},\n",
       " 'MNXR100457': {'metanetx': ['MNXR100457'],\n",
       "  'bigg': ['GTPDPK', 'GTPDPK_1'],\n",
       "  'deprecated': ['MNXR55610', 'MNXR69192'],\n",
       "  'kegg': ['R00429'],\n",
       "  'seed': ['rxn00303'],\n",
       "  'metacyc': ['GTPPYPHOSKIN-RXN'],\n",
       "  'rhea': ['22088', '22089', '22090', '22091'],\n",
       "  'sabiork': ['236'],\n",
       "  'reactome': nan},\n",
       " 'MNXR100458': {'metanetx': ['MNXR100458'],\n",
       "  'bigg': ['GTPH1'],\n",
       "  'deprecated': ['MNXR2840'],\n",
       "  'kegg': nan,\n",
       "  'seed': ['rxn10791'],\n",
       "  'metacyc': ['RXN-14201'],\n",
       "  'rhea': nan,\n",
       "  'sabiork': nan,\n",
       "  'reactome': nan},\n",
       " 'MNXR100459': {'metanetx': ['MNXR100459'],\n",
       "  'bigg': ['GTPHs'],\n",
       "  'deprecated': ['MNXR69193', 'MNXR2841', 'MNXR83077'],\n",
       "  'kegg': nan,\n",
       "  'seed': ['rxn08679'],\n",
       "  'metacyc': nan,\n",
       "  'rhea': nan,\n",
       "  'sabiork': nan,\n",
       "  'reactome': nan},\n",
       " 'MNXR100460': {'metanetx': ['MNXR100460'],\n",
       "  'bigg': ['GTPOPm', 'PYK3'],\n",
       "  'deprecated': ['MNXR59149', 'MNXR73657'],\n",
       "  'kegg': ['R00430'],\n",
       "  'seed': ['rxn00304'],\n",
       "  'metacyc': ['RXN-14117'],\n",
       "  'rhea': ['30295', '30296', '30297', '30298'],\n",
       "  'sabiork': ['54'],\n",
       "  'reactome': nan},\n",
       " 'MNXR100461': {'metanetx': ['MNXR100461'],\n",
       "  'bigg': ['GTPt2m'],\n",
       "  'deprecated': ['MNXR67902'],\n",
       "  'kegg': nan,\n",
       "  'seed': ['rxn13307'],\n",
       "  'metacyc': nan,\n",
       "  'rhea': nan,\n",
       "  'sabiork': nan,\n",
       "  'reactome': nan},\n",
       " 'MNXR100462': {'metanetx': ['MNXR100462'],\n",
       "  'bigg': ['GTPtex', 'GTPtn'],\n",
       "  'deprecated': ['MNXR2842'],\n",
       "  'kegg': nan,\n",
       "  'seed': ['rxn08680', 'rxn12663'],\n",
       "  'metacyc': nan,\n",
       "  'rhea': nan,\n",
       "  'sabiork': nan,\n",
       "  'reactome': nan},\n",
       " 'MNXR100463': {'metanetx': ['MNXR100463'],\n",
       "  'bigg': ['GUAC', 'GUACYC', 'GUACn'],\n",
       "  'deprecated': ['MNXR2843'],\n",
       "  'kegg': ['R00434'],\n",
       "  'seed': ['rxn00307'],\n",
       "  'metacyc': ['GUANYLCYC-RXN'],\n",
       "  'rhea': ['13665', '13666', '13667', '13668'],\n",
       "  'sabiork': nan,\n",
       "  'reactome': nan},\n",
       " 'MNXR100464': {'metanetx': ['MNXR100464'],\n",
       "  'bigg': ['GUAD', 'GUAD_1'],\n",
       "  'deprecated': ['MNXR2844', 'MNXR83078'],\n",
       "  'kegg': ['R01676'],\n",
       "  'seed': ['rxn01225'],\n",
       "  'metacyc': ['GUANINE-DEAMINASE-RXN'],\n",
       "  'rhea': ['14665', '14666', '14667', '14668'],\n",
       "  'sabiork': ['127'],\n",
       "  'reactome': ['R-BTA-74255',\n",
       "   'R-CFA-74255',\n",
       "   'R-DDI-74255',\n",
       "   'R-DME-74255',\n",
       "   'R-DRE-74255',\n",
       "   'R-GGA-74255',\n",
       "   'R-HSA-74255',\n",
       "   'R-MMU-74255',\n",
       "   'R-OSA-74255',\n",
       "   'R-RNO-74255',\n",
       "   'R-SCE-74255',\n",
       "   'R-SPO-74255',\n",
       "   'R-SSC-74255',\n",
       "   'R-TGU-74255',\n",
       "   'R-XTR-74255']},\n",
       " 'MNXR100465': {'metanetx': ['MNXR100465'],\n",
       "  'bigg': ['GUAt', 'GUAtex', 'GUAtm', 'GUAtpp'],\n",
       "  'deprecated': ['MNXR2846'],\n",
       "  'kegg': nan,\n",
       "  'seed': ['rxn08682', 'rxn08683', 'rxn09746', 'rxn10142'],\n",
       "  'metacyc': ['TRANS-RXN0-578'],\n",
       "  'rhea': nan,\n",
       "  'sabiork': ['12299'],\n",
       "  'reactome': nan},\n",
       " 'MNXR100466': {'metanetx': ['MNXR100466'],\n",
       "  'bigg': ['GUAt2pp', 'GUAt2r'],\n",
       "  'deprecated': nan,\n",
       "  'kegg': nan,\n",
       "  'seed': ['rxn05203', 'rxn08681'],\n",
       "  'metacyc': nan,\n",
       "  'rhea': nan,\n",
       "  'sabiork': nan,\n",
       "  'reactome': nan},\n",
       " 'MNXR100467': {'metanetx': ['MNXR100467'],\n",
       "  'bigg': ['GUDBUTNAH'],\n",
       "  'deprecated': ['MNXR2848'],\n",
       "  'kegg': ['R01990'],\n",
       "  'seed': ['rxn01462'],\n",
       "  'metacyc': ['GUANIDINOBUTYRASE-RXN'],\n",
       "  'rhea': ['19501', '19502', '19503', '19504'],\n",
       "  'sabiork': ['2030'],\n",
       "  'reactome': nan},\n",
       " 'MNXR100468': {'metanetx': ['MNXR100468'],\n",
       "  'bigg': ['GUI1'],\n",
       "  'deprecated': ['MNXR2849'],\n",
       "  'kegg': ['R01482'],\n",
       "  'seed': ['rxn01080'],\n",
       "  'metacyc': nan,\n",
       "  'rhea': ['13049', '13050', '13051', '13052'],\n",
       "  'sabiork': nan,\n",
       "  'reactome': nan},\n",
       " 'MNXR100469': {'metanetx': ['MNXR100469'],\n",
       "  'bigg': ['GUI2'],\n",
       "  'deprecated': ['MNXR84894', 'MNXR55612'],\n",
       "  'kegg': ['R01983'],\n",
       "  'seed': ['rxn01457'],\n",
       "  'metacyc': nan,\n",
       "  'rhea': nan,\n",
       "  'sabiork': nan,\n",
       "  'reactome': nan},\n",
       " 'MNXR100470': {'metanetx': ['MNXR100470'],\n",
       "  'bigg': ['GULLACter'],\n",
       "  'deprecated': ['MNXR2851'],\n",
       "  'kegg': nan,\n",
       "  'seed': nan,\n",
       "  'metacyc': nan,\n",
       "  'rhea': nan,\n",
       "  'sabiork': nan,\n",
       "  'reactome': nan},\n",
       " 'MNXR100471': {'metanetx': ['MNXR100471'],\n",
       "  'bigg': ['GULN3D'],\n",
       "  'deprecated': ['MNXR6019'],\n",
       "  'kegg': ['R02640'],\n",
       "  'seed': ['rxn01913'],\n",
       "  'metacyc': ['L-GULONATE-3-DEHYDROGENASE-RXN'],\n",
       "  'rhea': ['12889', '12890', '12891', '12892'],\n",
       "  'sabiork': ['2539'],\n",
       "  'reactome': ['R-BTA-5661290',\n",
       "   'R-CEL-5661290',\n",
       "   'R-CFA-5661290',\n",
       "   'R-DME-5661290',\n",
       "   'R-DRE-5661290',\n",
       "   'R-GGA-5661290',\n",
       "   'R-HSA-5661290',\n",
       "   'R-MMU-5661290',\n",
       "   'R-RNO-5661290',\n",
       "   'R-SSC-5661290',\n",
       "   'R-TGU-5661290',\n",
       "   'R-XTR-5661290']},\n",
       " 'MNXR100472': {'metanetx': ['MNXR100472'],\n",
       "  'bigg': ['GULND', 'GULNDer', 'RE0383C'],\n",
       "  'deprecated': ['MNXR5999'],\n",
       "  'kegg': ['R01481'],\n",
       "  'seed': ['rxn01079'],\n",
       "  'metacyc': nan,\n",
       "  'rhea': ['14909', '14910', '14911', '14912'],\n",
       "  'sabiork': ['11210'],\n",
       "  'reactome': nan},\n",
       " 'MNXR100473': {'metanetx': ['MNXR100473'],\n",
       "  'bigg': ['GULNLR'],\n",
       "  'deprecated': nan,\n",
       "  'kegg': nan,\n",
       "  'seed': nan,\n",
       "  'metacyc': nan,\n",
       "  'rhea': nan,\n",
       "  'sabiork': nan,\n",
       "  'reactome': nan},\n",
       " 'MNXR100474': {'metanetx': ['MNXR100474'],\n",
       "  'bigg': ['GULNLtex', 'GULNter'],\n",
       "  'deprecated': nan,\n",
       "  'kegg': nan,\n",
       "  'seed': nan,\n",
       "  'metacyc': nan,\n",
       "  'rhea': nan,\n",
       "  'sabiork': nan,\n",
       "  'reactome': nan},\n",
       " 'MNXR100475': {'metanetx': ['MNXR100475'],\n",
       "  'bigg': ['GULNLtpp'],\n",
       "  'deprecated': nan,\n",
       "  'kegg': nan,\n",
       "  'seed': nan,\n",
       "  'metacyc': nan,\n",
       "  'rhea': nan,\n",
       "  'sabiork': nan,\n",
       "  'reactome': nan},\n",
       " 'MNXR100476': {'metanetx': ['MNXR100476'],\n",
       "  'bigg': ['GULOer', 'R03184_PLUS_R00647'],\n",
       "  'deprecated': nan,\n",
       "  'kegg': ['R10053'],\n",
       "  'seed': nan,\n",
       "  'metacyc': ['RXN-13689'],\n",
       "  'rhea': ['32363', '32364', '32365', '32366'],\n",
       "  'sabiork': nan,\n",
       "  'reactome': nan},\n",
       " 'MNXR100477': {'metanetx': ['MNXR100477'],\n",
       "  'bigg': ['GUMDCHAe'],\n",
       "  'deprecated': nan,\n",
       "  'kegg': nan,\n",
       "  'seed': nan,\n",
       "  'metacyc': nan,\n",
       "  'rhea': nan,\n",
       "  'sabiork': nan,\n",
       "  'reactome': nan},\n",
       " 'MNXR100478': {'metanetx': ['MNXR100478'],\n",
       "  'bigg': ['GUMGCHLe'],\n",
       "  'deprecated': nan,\n",
       "  'kegg': nan,\n",
       "  'seed': nan,\n",
       "  'metacyc': nan,\n",
       "  'rhea': nan,\n",
       "  'sabiork': nan,\n",
       "  'reactome': nan},\n",
       " 'MNXR100479': {'metanetx': ['MNXR100479'],\n",
       "  'bigg': ['GUMTCHOLe'],\n",
       "  'deprecated': nan,\n",
       "  'kegg': nan,\n",
       "  'seed': nan,\n",
       "  'metacyc': nan,\n",
       "  'rhea': nan,\n",
       "  'sabiork': nan,\n",
       "  'reactome': nan},\n",
       " 'MNXR100480': {'metanetx': ['MNXR100480'],\n",
       "  'bigg': ['GUR1PP', 'GUR1PPpp'],\n",
       "  'deprecated': ['MNXR69195', 'MNXR2854'],\n",
       "  'kegg': nan,\n",
       "  'seed': ['rxn08684'],\n",
       "  'metacyc': nan,\n",
       "  'rhea': nan,\n",
       "  'sabiork': nan,\n",
       "  'reactome': nan},\n",
       " 'MNXR100481': {'metanetx': ['MNXR100481'],\n",
       "  'bigg': ['H2ASE_syn'],\n",
       "  'deprecated': ['MNXR70977', 'MNXR56780'],\n",
       "  'kegg': ['R07181'],\n",
       "  'seed': ['rxn07200'],\n",
       "  'metacyc': ['1.12.1.3-RXN'],\n",
       "  'rhea': ['18637', '18638', '18639', '18640'],\n",
       "  'sabiork': nan,\n",
       "  'reactome': nan},\n",
       " 'MNXR100482': {'metanetx': ['MNXR100482'],\n",
       "  'bigg': ['H2CO3D',\n",
       "   'H2CO3Dm',\n",
       "   'HCO3E',\n",
       "   'HCO3E_1',\n",
       "   'HCO3Ee',\n",
       "   'HCO3Ehi',\n",
       "   'HCO3Em',\n",
       "   'HCO3Em_1',\n",
       "   'HCO3En'],\n",
       "  'deprecated': ['MNXR31679', 'MNXR50951', 'MNXR2856'],\n",
       "  'kegg': ['R00132', 'R10092'],\n",
       "  'seed': ['rxn00102'],\n",
       "  'metacyc': ['CARBODEHYDRAT-RXN', 'RXN0-5224'],\n",
       "  'rhea': ['10748', '10749', '10750', '10751'],\n",
       "  'sabiork': ['703'],\n",
       "  'reactome': ['R-ATH-1237045',\n",
       "   'R-ATH-1237047',\n",
       "   'R-ATH-1237059',\n",
       "   'R-ATH-1237081',\n",
       "   'R-ATH-1475017',\n",
       "   'R-ATH-1475022',\n",
       "   'R-ATH-1475025',\n",
       "   'R-ATH-1475026',\n",
       "   'R-ATH-1475028',\n",
       "   'R-ATH-1475032',\n",
       "   'R-ATH-1475435',\n",
       "   'R-ATH-1475436',\n",
       "   'R-BTA-1237045',\n",
       "   'R-BTA-1237047',\n",
       "   'R-BTA-1237059',\n",
       "   'R-BTA-1237081',\n",
       "   'R-BTA-1475017',\n",
       "   'R-BTA-1475022',\n",
       "   'R-BTA-1475025',\n",
       "   'R-BTA-1475026',\n",
       "   'R-BTA-1475028',\n",
       "   'R-BTA-1475032',\n",
       "   'R-BTA-1475435',\n",
       "   'R-BTA-1475436',\n",
       "   'R-CEL-1237045',\n",
       "   'R-CEL-1237047',\n",
       "   'R-CEL-1237059',\n",
       "   'R-CEL-1237081',\n",
       "   'R-CEL-1475017',\n",
       "   'R-CEL-1475025',\n",
       "   'R-CFA-1237045',\n",
       "   'R-CFA-1237047',\n",
       "   'R-CFA-1237059',\n",
       "   'R-CFA-1237081',\n",
       "   'R-CFA-1475017',\n",
       "   'R-CFA-1475022',\n",
       "   'R-CFA-1475025',\n",
       "   'R-CFA-1475026',\n",
       "   'R-CFA-1475028',\n",
       "   'R-CFA-1475032',\n",
       "   'R-CFA-1475435',\n",
       "   'R-CFA-1475436',\n",
       "   'R-DME-1237045',\n",
       "   'R-DME-1237047',\n",
       "   'R-DME-1237059',\n",
       "   'R-DME-1237081',\n",
       "   'R-DME-1475017',\n",
       "   'R-DME-1475022',\n",
       "   'R-DME-1475025',\n",
       "   'R-DME-1475026',\n",
       "   'R-DME-1475028',\n",
       "   'R-DME-1475032',\n",
       "   'R-DME-1475435',\n",
       "   'R-DME-1475436',\n",
       "   'R-DRE-1237045',\n",
       "   'R-DRE-1237047',\n",
       "   'R-DRE-1237059',\n",
       "   'R-DRE-1237081',\n",
       "   'R-DRE-1475017',\n",
       "   'R-DRE-1475022',\n",
       "   'R-DRE-1475025',\n",
       "   'R-DRE-1475026',\n",
       "   'R-DRE-1475028',\n",
       "   'R-DRE-1475032',\n",
       "   'R-DRE-1475435',\n",
       "   'R-DRE-1475436',\n",
       "   'R-GGA-1237047',\n",
       "   'R-GGA-1237059',\n",
       "   'R-GGA-1475017',\n",
       "   'R-GGA-1475022',\n",
       "   'R-GGA-1475025',\n",
       "   'R-GGA-1475026',\n",
       "   'R-GGA-1475028',\n",
       "   'R-GGA-1475032',\n",
       "   'R-GGA-1475435',\n",
       "   'R-GGA-1475436',\n",
       "   'R-HSA-1237045',\n",
       "   'R-HSA-1237047',\n",
       "   'R-HSA-1237059',\n",
       "   'R-HSA-1237081',\n",
       "   'R-HSA-1475017',\n",
       "   'R-HSA-1475022',\n",
       "   'R-HSA-1475025',\n",
       "   'R-HSA-1475026',\n",
       "   'R-HSA-1475028',\n",
       "   'R-HSA-1475032',\n",
       "   'R-HSA-1475435',\n",
       "   'R-HSA-1475436',\n",
       "   'R-MMU-1237045',\n",
       "   'R-MMU-1237047',\n",
       "   'R-MMU-1237059',\n",
       "   'R-MMU-1237081',\n",
       "   'R-MMU-1475017',\n",
       "   'R-MMU-1475022',\n",
       "   'R-MMU-1475025',\n",
       "   'R-MMU-1475026',\n",
       "   'R-MMU-1475028',\n",
       "   'R-MMU-1475032',\n",
       "   'R-MMU-1475435',\n",
       "   'R-MMU-1475436',\n",
       "   'R-OSA-1237045',\n",
       "   'R-OSA-1237047',\n",
       "   'R-OSA-1237059',\n",
       "   'R-OSA-1237081',\n",
       "   'R-OSA-1475017',\n",
       "   'R-OSA-1475022',\n",
       "   'R-OSA-1475025',\n",
       "   'R-OSA-1475026',\n",
       "   'R-OSA-1475028',\n",
       "   'R-OSA-1475032',\n",
       "   'R-OSA-1475435',\n",
       "   'R-OSA-1475436',\n",
       "   'R-RNO-1237045',\n",
       "   'R-RNO-1237047',\n",
       "   'R-RNO-1237059',\n",
       "   'R-RNO-1237081',\n",
       "   'R-RNO-1475017',\n",
       "   'R-RNO-1475022',\n",
       "   'R-RNO-1475025',\n",
       "   'R-RNO-1475026',\n",
       "   'R-RNO-1475028',\n",
       "   'R-RNO-1475032',\n",
       "   'R-RNO-1475435',\n",
       "   'R-RNO-1475436',\n",
       "   'R-SSC-1237045',\n",
       "   'R-SSC-1237047',\n",
       "   'R-SSC-1237059',\n",
       "   'R-SSC-1237081',\n",
       "   'R-SSC-1475017',\n",
       "   'R-SSC-1475022',\n",
       "   'R-SSC-1475025',\n",
       "   'R-SSC-1475026',\n",
       "   'R-SSC-1475028',\n",
       "   'R-SSC-1475032',\n",
       "   'R-SSC-1475435',\n",
       "   'R-SSC-1475436',\n",
       "   'R-TGU-1237045',\n",
       "   'R-TGU-1237047',\n",
       "   'R-TGU-1237059',\n",
       "   'R-TGU-1237081',\n",
       "   'R-TGU-1475017',\n",
       "   'R-TGU-1475022',\n",
       "   'R-TGU-1475025',\n",
       "   'R-TGU-1475026',\n",
       "   'R-TGU-1475028',\n",
       "   'R-TGU-1475032',\n",
       "   'R-TGU-1475435',\n",
       "   'R-TGU-1475436',\n",
       "   'R-XTR-1237045',\n",
       "   'R-XTR-1237047',\n",
       "   'R-XTR-1237059',\n",
       "   'R-XTR-1237081',\n",
       "   'R-XTR-1475017',\n",
       "   'R-XTR-1475022',\n",
       "   'R-XTR-1475025',\n",
       "   'R-XTR-1475026',\n",
       "   'R-XTR-1475028',\n",
       "   'R-XTR-1475032',\n",
       "   'R-XTR-1475435',\n",
       "   'R-XTR-1475436']},\n",
       " 'MNXR100483': {'metanetx': ['MNXR100483'],\n",
       "  'bigg': ['H2CO3D2', 'H2CO3D2m'],\n",
       "  'deprecated': ['MNXR55613', 'MNXR69196', 'MNXR83082'],\n",
       "  'kegg': nan,\n",
       "  'seed': nan,\n",
       "  'metacyc': ['RXN-18031', 'RXN-18032'],\n",
       "  'rhea': nan,\n",
       "  'sabiork': nan,\n",
       "  'reactome': nan},\n",
       " 'MNXR100484': {'metanetx': ['MNXR100484'],\n",
       "  'bigg': ['H2CO3TP', 'HCO3tex', 'HCO3tn', 'r0941'],\n",
       "  'deprecated': ['MNXR45587', 'MNXR50953', 'MNXR69197'],\n",
       "  'kegg': nan,\n",
       "  'seed': ['rxn10826', 'rxn13310'],\n",
       "  'metacyc': nan,\n",
       "  'rhea': ['28695', '28696', '28697', '28698'],\n",
       "  'sabiork': nan,\n",
       "  'reactome': ['R-BTA-2752067',\n",
       "   'R-CEL-2752067',\n",
       "   'R-CFA-2752067',\n",
       "   'R-DME-2752067',\n",
       "   'R-DRE-2752067',\n",
       "   'R-GGA-2752067',\n",
       "   'R-HSA-2752067',\n",
       "   'R-MMU-2752067',\n",
       "   'R-RNO-2752067',\n",
       "   'R-SSC-2752067',\n",
       "   'R-TGU-2752067',\n",
       "   'R-XTR-2752067']},\n",
       " 'MNXR100485': {'metanetx': ['MNXR100485'],\n",
       "  'bigg': ['H2CO3_NAt_syn', 'HCO3_NAt'],\n",
       "  'deprecated': ['MNXR31681', 'MNXR69217'],\n",
       "  'kegg': nan,\n",
       "  'seed': ['rxn12800'],\n",
       "  'metacyc': nan,\n",
       "  'rhea': nan,\n",
       "  'sabiork': nan,\n",
       "  'reactome': nan},\n",
       " 'MNXR100486': {'metanetx': ['MNXR100486'],\n",
       "  'bigg': ['H2ETer'],\n",
       "  'deprecated': ['MNXR2859'],\n",
       "  'kegg': nan,\n",
       "  'seed': nan,\n",
       "  'metacyc': nan,\n",
       "  'rhea': nan,\n",
       "  'sabiork': nan,\n",
       "  'reactome': nan},\n",
       " 'MNXR100487': {'metanetx': ['MNXR100487'],\n",
       "  'bigg': ['H2ETer_cho'],\n",
       "  'deprecated': nan,\n",
       "  'kegg': nan,\n",
       "  'seed': nan,\n",
       "  'metacyc': nan,\n",
       "  'rhea': nan,\n",
       "  'sabiork': nan,\n",
       "  'reactome': nan},\n",
       " 'MNXR100488': {'metanetx': ['MNXR100488'],\n",
       "  'bigg': ['H2MPTR'],\n",
       "  'deprecated': ['MNXR69198', 'MNXR2860'],\n",
       "  'kegg': nan,\n",
       "  'seed': ['rxn10540'],\n",
       "  'metacyc': nan,\n",
       "  'rhea': nan,\n",
       "  'sabiork': nan,\n",
       "  'reactome': nan},\n",
       " 'MNXR100489': {'metanetx': ['MNXR100489'],\n",
       "  'bigg': ['H2MTer'],\n",
       "  'deprecated': nan,\n",
       "  'kegg': nan,\n",
       "  'seed': nan,\n",
       "  'metacyc': nan,\n",
       "  'rhea': nan,\n",
       "  'sabiork': nan,\n",
       "  'reactome': nan},\n",
       " 'MNXR100490': {'metanetx': ['MNXR100490'],\n",
       "  'bigg': ['H2MTer_L'],\n",
       "  'deprecated': ['MNXR2861', 'MNXR83083'],\n",
       "  'kegg': nan,\n",
       "  'seed': nan,\n",
       "  'metacyc': nan,\n",
       "  'rhea': nan,\n",
       "  'sabiork': nan,\n",
       "  'reactome': nan},\n",
       " 'MNXR100491': {'metanetx': ['MNXR100491'],\n",
       "  'bigg': ['H2MTer_U'],\n",
       "  'deprecated': ['MNXR2862'],\n",
       "  'kegg': nan,\n",
       "  'seed': nan,\n",
       "  'metacyc': nan,\n",
       "  'rhea': nan,\n",
       "  'sabiork': nan,\n",
       "  'reactome': nan},\n",
       " 'MNXR100492': {'metanetx': ['MNXR100492'],\n",
       "  'bigg': ['H2O2syn'],\n",
       "  'deprecated': ['MNXR66648', 'MNXR2863'],\n",
       "  'kegg': ['R07172'],\n",
       "  'seed': ['rxn04958'],\n",
       "  'metacyc': nan,\n",
       "  'rhea': ['11260', '11261', '11262', '11263'],\n",
       "  'sabiork': ['7702'],\n",
       "  'reactome': ['R-ATH-5693681',\n",
       "   'R-BTA-5693681',\n",
       "   'R-CEL-5693681',\n",
       "   'R-CFA-5693681',\n",
       "   'R-DME-5693681',\n",
       "   'R-DRE-5693681',\n",
       "   'R-GGA-5693681',\n",
       "   'R-HSA-5693681',\n",
       "   'R-MMU-5693681',\n",
       "   'R-OSA-5693681',\n",
       "   'R-RNO-5693681',\n",
       "   'R-SSC-5693681',\n",
       "   'R-TGU-5693681',\n",
       "   'R-XTR-5693681']},\n",
       " 'MNXR100493': {'metanetx': ['MNXR100493'],\n",
       "  'bigg': ['H2SO'],\n",
       "  'deprecated': ['MNXR31665', 'MNXR67314', 'MNXR69199'],\n",
       "  'kegg': nan,\n",
       "  'seed': ['rxn08688'],\n",
       "  'metacyc': nan,\n",
       "  'rhea': nan,\n",
       "  'sabiork': nan,\n",
       "  'reactome': nan},\n",
       " 'MNXR100494': {'metanetx': ['MNXR100494'],\n",
       "  'bigg': ['H2St', 'H2St1', 'H2St1pp', 'H2Stex'],\n",
       "  'deprecated': ['MNXR31666'],\n",
       "  'kegg': nan,\n",
       "  'seed': ['rxn08689', 'rxn08690', 'rxn10541'],\n",
       "  'metacyc': ['TRANS-RXN-310'],\n",
       "  'rhea': nan,\n",
       "  'sabiork': nan,\n",
       "  'reactome': nan},\n",
       " 'MNXR100495': {'metanetx': ['MNXR100495'],\n",
       "  'bigg': ['H2td', 'H2tex', 'H2th', 'H2tm', 'H2tpp'],\n",
       "  'deprecated': ['MNXR55614', 'MNXR69200'],\n",
       "  'kegg': nan,\n",
       "  'seed': ['rxn08691', 'rxn08692', 'rxn10542'],\n",
       "  'metacyc': nan,\n",
       "  'rhea': nan,\n",
       "  'sabiork': nan,\n",
       "  'reactome': nan},\n",
       " 'MNXR100496': {'metanetx': ['MNXR100496'],\n",
       "  'bigg': ['H3ETer'],\n",
       "  'deprecated': ['MNXR2869'],\n",
       "  'kegg': nan,\n",
       "  'seed': nan,\n",
       "  'metacyc': nan,\n",
       "  'rhea': nan,\n",
       "  'sabiork': nan,\n",
       "  'reactome': nan},\n",
       " 'MNXR100497': {'metanetx': ['MNXR100497'],\n",
       "  'bigg': ['H3ETer_cho'],\n",
       "  'deprecated': nan,\n",
       "  'kegg': nan,\n",
       "  'seed': nan,\n",
       "  'metacyc': nan,\n",
       "  'rhea': nan,\n",
       "  'sabiork': nan,\n",
       "  'reactome': nan},\n",
       " 'MNXR100498': {'metanetx': ['MNXR100498'],\n",
       "  'bigg': ['H3MTer'],\n",
       "  'deprecated': nan,\n",
       "  'kegg': nan,\n",
       "  'seed': nan,\n",
       "  'metacyc': nan,\n",
       "  'rhea': nan,\n",
       "  'sabiork': nan,\n",
       "  'reactome': nan},\n",
       " 'MNXR100499': {'metanetx': ['MNXR100499'],\n",
       "  'bigg': ['H3MTer_L'],\n",
       "  'deprecated': ['MNXR2870', 'MNXR83084'],\n",
       "  'kegg': nan,\n",
       "  'seed': nan,\n",
       "  'metacyc': nan,\n",
       "  'rhea': nan,\n",
       "  'sabiork': nan,\n",
       "  'reactome': nan},\n",
       " 'MNXR100500': {'metanetx': ['MNXR100500'],\n",
       "  'bigg': ['H3MTer_U'],\n",
       "  'deprecated': ['MNXR2871'],\n",
       "  'kegg': nan,\n",
       "  'seed': nan,\n",
       "  'metacyc': nan,\n",
       "  'rhea': nan,\n",
       "  'sabiork': nan,\n",
       "  'reactome': nan},\n",
       " 'MNXR100501': {'metanetx': ['MNXR100501'],\n",
       "  'bigg': ['H4ET3er'],\n",
       "  'deprecated': ['MNXR2872'],\n",
       "  'kegg': nan,\n",
       "  'seed': nan,\n",
       "  'metacyc': nan,\n",
       "  'rhea': nan,\n",
       "  'sabiork': nan,\n",
       "  'reactome': nan},\n",
       " 'MNXR100502': {'metanetx': ['MNXR100502'],\n",
       "  'bigg': ['H4ET3er_cho'],\n",
       "  'deprecated': nan,\n",
       "  'kegg': nan,\n",
       "  'seed': nan,\n",
       "  'metacyc': nan,\n",
       "  'rhea': nan,\n",
       "  'sabiork': nan,\n",
       "  'reactome': nan},\n",
       " 'MNXR100503': {'metanetx': ['MNXR100503'],\n",
       "  'bigg': ['H4ETer'],\n",
       "  'deprecated': ['MNXR2873'],\n",
       "  'kegg': nan,\n",
       "  'seed': nan,\n",
       "  'metacyc': nan,\n",
       "  'rhea': nan,\n",
       "  'sabiork': nan,\n",
       "  'reactome': nan},\n",
       " 'MNXR100504': {'metanetx': ['MNXR100504'],\n",
       "  'bigg': ['H4ETer_cho'],\n",
       "  'deprecated': nan,\n",
       "  'kegg': nan,\n",
       "  'seed': nan,\n",
       "  'metacyc': nan,\n",
       "  'rhea': nan,\n",
       "  'sabiork': nan,\n",
       "  'reactome': nan},\n",
       " 'MNXR100505': {'metanetx': ['MNXR100505'],\n",
       "  'bigg': ['H4MPTGL_atp'],\n",
       "  'deprecated': ['MNXR34082'],\n",
       "  'kegg': ['R09594'],\n",
       "  'seed': ['rxn10543'],\n",
       "  'metacyc': ['RXN-11103'],\n",
       "  'rhea': ['30567', '30568', '30569', '30570'],\n",
       "  'sabiork': nan,\n",
       "  'reactome': nan},\n",
       " 'MNXR100506': {'metanetx': ['MNXR100506'],\n",
       "  'bigg': ['H4MPTGL_gtp'],\n",
       "  'deprecated': ['MNXR69201'],\n",
       "  'kegg': nan,\n",
       "  'seed': ['rxn10544'],\n",
       "  'metacyc': nan,\n",
       "  'rhea': nan,\n",
       "  'sabiork': nan,\n",
       "  'reactome': nan},\n",
       " 'MNXR100507': {'metanetx': ['MNXR100507'],\n",
       "  'bigg': ['H4MPTS10'],\n",
       "  'deprecated': ['MNXR69202'],\n",
       "  'kegg': nan,\n",
       "  'seed': ['rxn10545'],\n",
       "  'metacyc': nan,\n",
       "  'rhea': nan,\n",
       "  'sabiork': nan,\n",
       "  'reactome': nan},\n",
       " 'MNXR100508': {'metanetx': ['MNXR100508'],\n",
       "  'bigg': ['H4MPTS11'],\n",
       "  'deprecated': ['MNXR55616', 'MNXR69203'],\n",
       "  'kegg': nan,\n",
       "  'seed': ['rxn10546'],\n",
       "  'metacyc': nan,\n",
       "  'rhea': nan,\n",
       "  'sabiork': nan,\n",
       "  'reactome': nan},\n",
       " 'MNXR100509': {'metanetx': ['MNXR100509'],\n",
       "  'bigg': ['H4MPTS12'],\n",
       "  'deprecated': ['MNXR69204'],\n",
       "  'kegg': nan,\n",
       "  'seed': ['rxn10547'],\n",
       "  'metacyc': nan,\n",
       "  'rhea': nan,\n",
       "  'sabiork': nan,\n",
       "  'reactome': nan},\n",
       " 'MNXR100510': {'metanetx': ['MNXR100510'],\n",
       "  'bigg': ['H4MPTS13'],\n",
       "  'deprecated': ['MNXR69205'],\n",
       "  'kegg': nan,\n",
       "  'seed': ['rxn10548'],\n",
       "  'metacyc': nan,\n",
       "  'rhea': nan,\n",
       "  'sabiork': nan,\n",
       "  'reactome': nan},\n",
       " 'MNXR100511': {'metanetx': ['MNXR100511'],\n",
       "  'bigg': ['H4MPTS14'],\n",
       "  'deprecated': ['MNXR69206', 'MNXR2880'],\n",
       "  'kegg': nan,\n",
       "  'seed': ['rxn10549'],\n",
       "  'metacyc': nan,\n",
       "  'rhea': nan,\n",
       "  'sabiork': nan,\n",
       "  'reactome': nan},\n",
       " 'MNXR100512': {'metanetx': ['MNXR100512'],\n",
       "  'bigg': ['H4MPTS15'],\n",
       "  'deprecated': ['MNXR2881'],\n",
       "  'kegg': nan,\n",
       "  'seed': ['rxn10550'],\n",
       "  'metacyc': nan,\n",
       "  'rhea': nan,\n",
       "  'sabiork': nan,\n",
       "  'reactome': nan},\n",
       " 'MNXR100513': {'metanetx': ['MNXR100513'],\n",
       "  'bigg': ['H4MPTS16'],\n",
       "  'deprecated': ['MNXR2882'],\n",
       "  'kegg': nan,\n",
       "  'seed': ['rxn10551'],\n",
       "  'metacyc': nan,\n",
       "  'rhea': nan,\n",
       "  'sabiork': nan,\n",
       "  'reactome': nan},\n",
       " 'MNXR100514': {'metanetx': ['MNXR100514'],\n",
       "  'bigg': ['H4MPTS9'],\n",
       "  'deprecated': ['MNXR69207', 'MNXR2883'],\n",
       "  'kegg': nan,\n",
       "  'seed': ['rxn10552'],\n",
       "  'metacyc': nan,\n",
       "  'rhea': nan,\n",
       "  'sabiork': nan,\n",
       "  'reactome': nan},\n",
       " 'MNXR100515': {'metanetx': ['MNXR100515'],\n",
       "  'bigg': ['H5MTer'],\n",
       "  'deprecated': nan,\n",
       "  'kegg': nan,\n",
       "  'seed': nan,\n",
       "  'metacyc': nan,\n",
       "  'rhea': nan,\n",
       "  'sabiork': nan,\n",
       "  'reactome': nan},\n",
       " 'MNXR100516': {'metanetx': ['MNXR100516'],\n",
       "  'bigg': ['H5MTer_L'],\n",
       "  'deprecated': ['MNXR2884', 'MNXR83085'],\n",
       "  'kegg': nan,\n",
       "  'seed': nan,\n",
       "  'metacyc': nan,\n",
       "  'rhea': nan,\n",
       "  'sabiork': nan,\n",
       "  'reactome': nan},\n",
       " 'MNXR100517': {'metanetx': ['MNXR100517'],\n",
       "  'bigg': ['H5MTer_U'],\n",
       "  'deprecated': ['MNXR2885'],\n",
       "  'kegg': nan,\n",
       "  'seed': nan,\n",
       "  'metacyc': nan,\n",
       "  'rhea': nan,\n",
       "  'sabiork': nan,\n",
       "  'reactome': nan},\n",
       " 'MNXR100518': {'metanetx': ['MNXR100518'],\n",
       "  'bigg': ['H6ET3er'],\n",
       "  'deprecated': ['MNXR2888'],\n",
       "  'kegg': nan,\n",
       "  'seed': nan,\n",
       "  'metacyc': nan,\n",
       "  'rhea': nan,\n",
       "  'sabiork': nan,\n",
       "  'reactome': nan},\n",
       " 'MNXR100519': {'metanetx': ['MNXR100519'],\n",
       "  'bigg': ['H6ET3er_cho'],\n",
       "  'deprecated': nan,\n",
       "  'kegg': nan,\n",
       "  'seed': nan,\n",
       "  'metacyc': nan,\n",
       "  'rhea': nan,\n",
       "  'sabiork': nan,\n",
       "  'reactome': nan},\n",
       " 'MNXR100520': {'metanetx': ['MNXR100520'],\n",
       "  'bigg': ['H6MTer'],\n",
       "  'deprecated': nan,\n",
       "  'kegg': nan,\n",
       "  'seed': nan,\n",
       "  'metacyc': nan,\n",
       "  'rhea': nan,\n",
       "  'sabiork': nan,\n",
       "  'reactome': nan},\n",
       " 'MNXR100521': {'metanetx': ['MNXR100521'],\n",
       "  'bigg': ['H6MTer_L'],\n",
       "  'deprecated': ['MNXR2889', 'MNXR83086'],\n",
       "  'kegg': nan,\n",
       "  'seed': nan,\n",
       "  'metacyc': nan,\n",
       "  'rhea': nan,\n",
       "  'sabiork': nan,\n",
       "  'reactome': nan},\n",
       " 'MNXR100522': {'metanetx': ['MNXR100522'],\n",
       "  'bigg': ['H6MTer_U'],\n",
       "  'deprecated': ['MNXR2890'],\n",
       "  'kegg': nan,\n",
       "  'seed': nan,\n",
       "  'metacyc': nan,\n",
       "  'rhea': nan,\n",
       "  'sabiork': nan,\n",
       "  'reactome': nan},\n",
       " 'MNXR100523': {'metanetx': ['MNXR100523'],\n",
       "  'bigg': ['H6_ET2er'],\n",
       "  'deprecated': nan,\n",
       "  'kegg': nan,\n",
       "  'seed': nan,\n",
       "  'metacyc': nan,\n",
       "  'rhea': nan,\n",
       "  'sabiork': nan,\n",
       "  'reactome': nan},\n",
       " 'MNXR100524': {'metanetx': ['MNXR100524'],\n",
       "  'bigg': ['H6_ET2er_cho'],\n",
       "  'deprecated': nan,\n",
       "  'kegg': nan,\n",
       "  'seed': nan,\n",
       "  'metacyc': nan,\n",
       "  'rhea': nan,\n",
       "  'sabiork': nan,\n",
       "  'reactome': nan},\n",
       " 'MNXR100525': {'metanetx': ['MNXR100525'],\n",
       "  'bigg': ['H6_ETer'],\n",
       "  'deprecated': nan,\n",
       "  'kegg': nan,\n",
       "  'seed': nan,\n",
       "  'metacyc': nan,\n",
       "  'rhea': nan,\n",
       "  'sabiork': nan,\n",
       "  'reactome': nan},\n",
       " 'MNXR100526': {'metanetx': ['MNXR100526'],\n",
       "  'bigg': ['H6_ETer_cho'],\n",
       "  'deprecated': nan,\n",
       "  'kegg': nan,\n",
       "  'seed': nan,\n",
       "  'metacyc': nan,\n",
       "  'rhea': nan,\n",
       "  'sabiork': nan,\n",
       "  'reactome': nan},\n",
       " 'MNXR100527': {'metanetx': ['MNXR100527'],\n",
       "  'bigg': ['H7ET2er'],\n",
       "  'deprecated': ['MNXR2893'],\n",
       "  'kegg': nan,\n",
       "  'seed': nan,\n",
       "  'metacyc': nan,\n",
       "  'rhea': nan,\n",
       "  'sabiork': nan,\n",
       "  'reactome': nan},\n",
       " 'MNXR100528': {'metanetx': ['MNXR100528'],\n",
       "  'bigg': ['H7ET2er_cho'],\n",
       "  'deprecated': nan,\n",
       "  'kegg': nan,\n",
       "  'seed': nan,\n",
       "  'metacyc': nan,\n",
       "  'rhea': nan,\n",
       "  'sabiork': nan,\n",
       "  'reactome': nan},\n",
       " 'MNXR100529': {'metanetx': ['MNXR100529'],\n",
       "  'bigg': ['H7MTer'],\n",
       "  'deprecated': nan,\n",
       "  'kegg': nan,\n",
       "  'seed': nan,\n",
       "  'metacyc': nan,\n",
       "  'rhea': nan,\n",
       "  'sabiork': nan,\n",
       "  'reactome': nan},\n",
       " 'MNXR100530': {'metanetx': ['MNXR100530'],\n",
       "  'bigg': ['H7MTer_L'],\n",
       "  'deprecated': ['MNXR2894', 'MNXR83087'],\n",
       "  'kegg': nan,\n",
       "  'seed': nan,\n",
       "  'metacyc': nan,\n",
       "  'rhea': nan,\n",
       "  'sabiork': nan,\n",
       "  'reactome': nan},\n",
       " 'MNXR100531': {'metanetx': ['MNXR100531'],\n",
       "  'bigg': ['H7MTer_U'],\n",
       "  'deprecated': ['MNXR2895'],\n",
       "  'kegg': nan,\n",
       "  'seed': nan,\n",
       "  'metacyc': nan,\n",
       "  'rhea': nan,\n",
       "  'sabiork': nan,\n",
       "  'reactome': nan},\n",
       " 'MNXR100532': {'metanetx': ['MNXR100532'],\n",
       "  'bigg': ['H7_ETer'],\n",
       "  'deprecated': nan,\n",
       "  'kegg': nan,\n",
       "  'seed': nan,\n",
       "  'metacyc': nan,\n",
       "  'rhea': nan,\n",
       "  'sabiork': nan,\n",
       "  'reactome': nan},\n",
       " 'MNXR100533': {'metanetx': ['MNXR100533'],\n",
       "  'bigg': ['H7_ETer_cho'],\n",
       "  'deprecated': nan,\n",
       "  'kegg': nan,\n",
       "  'seed': nan,\n",
       "  'metacyc': nan,\n",
       "  'rhea': nan,\n",
       "  'sabiork': nan,\n",
       "  'reactome': nan},\n",
       " 'MNXR100534': {'metanetx': ['MNXR100534'],\n",
       "  'bigg': ['H7_TAer'],\n",
       "  'deprecated': nan,\n",
       "  'kegg': nan,\n",
       "  'seed': nan,\n",
       "  'metacyc': nan,\n",
       "  'rhea': nan,\n",
       "  'sabiork': nan,\n",
       "  'reactome': nan},\n",
       " 'MNXR100535': {'metanetx': ['MNXR100535'],\n",
       "  'bigg': ['H7_TAer_cho'],\n",
       "  'deprecated': nan,\n",
       "  'kegg': nan,\n",
       "  'seed': nan,\n",
       "  'metacyc': nan,\n",
       "  'rhea': nan,\n",
       "  'sabiork': nan,\n",
       "  'reactome': nan},\n",
       " 'MNXR100536': {'metanetx': ['MNXR100536'],\n",
       "  'bigg': ['H8MTer'],\n",
       "  'deprecated': nan,\n",
       "  'kegg': nan,\n",
       "  'seed': nan,\n",
       "  'metacyc': nan,\n",
       "  'rhea': nan,\n",
       "  'sabiork': nan,\n",
       "  'reactome': nan},\n",
       " 'MNXR100537': {'metanetx': ['MNXR100537'],\n",
       "  'bigg': ['H8MTer_L'],\n",
       "  'deprecated': ['MNXR2896', 'MNXR83088'],\n",
       "  'kegg': nan,\n",
       "  'seed': nan,\n",
       "  'metacyc': nan,\n",
       "  'rhea': nan,\n",
       "  'sabiork': nan,\n",
       "  'reactome': nan},\n",
       " 'MNXR100538': {'metanetx': ['MNXR100538'],\n",
       "  'bigg': ['H8MTer_U'],\n",
       "  'deprecated': ['MNXR2897', 'MNXR83089'],\n",
       "  'kegg': nan,\n",
       "  'seed': nan,\n",
       "  'metacyc': nan,\n",
       "  'rhea': nan,\n",
       "  'sabiork': nan,\n",
       "  'reactome': nan},\n",
       " 'MNXR100539': {'metanetx': ['MNXR100539'],\n",
       "  'bigg': ['H8TAer'],\n",
       "  'deprecated': ['MNXR2898'],\n",
       "  'kegg': nan,\n",
       "  'seed': nan,\n",
       "  'metacyc': nan,\n",
       "  'rhea': nan,\n",
       "  'sabiork': nan,\n",
       "  'reactome': nan},\n",
       " 'MNXR100540': {'metanetx': ['MNXR100540'],\n",
       "  'bigg': ['H8TAer_cho'],\n",
       "  'deprecated': nan,\n",
       "  'kegg': nan,\n",
       "  'seed': nan,\n",
       "  'metacyc': nan,\n",
       "  'rhea': nan,\n",
       "  'sabiork': nan,\n",
       "  'reactome': nan},\n",
       " 'MNXR100541': {'metanetx': ['MNXR100541'],\n",
       "  'bigg': ['HACD1',\n",
       "   'HACD1_1',\n",
       "   'HACD1_2',\n",
       "   'HACD1i',\n",
       "   'HACD1m',\n",
       "   'HACD1x',\n",
       "   'HBCOm'],\n",
       "  'deprecated': ['MNXR91138', 'MNXR2899', 'MNXR62429'],\n",
       "  'kegg': ['R01975'],\n",
       "  'seed': ['rxn01451'],\n",
       "  'metacyc': ['RXN-11662'],\n",
       "  'rhea': ['30799', '30800', '30801', '30802'],\n",
       "  'sabiork': ['2018'],\n",
       "  'reactome': ['R-ATH-77312',\n",
       "   'R-BTA-77312',\n",
       "   'R-CEL-77312',\n",
       "   'R-CFA-77312',\n",
       "   'R-DDI-77312',\n",
       "   'R-DRE-77312',\n",
       "   'R-GGA-77312',\n",
       "   'R-HSA-77312',\n",
       "   'R-MMU-77312',\n",
       "   'R-OSA-77312',\n",
       "   'R-RNO-77312',\n",
       "   'R-SSC-77312',\n",
       "   'R-TGU-77312',\n",
       "   'R-XTR-77312']},\n",
       " 'MNXR100542': {'metanetx': ['MNXR100542'],\n",
       "  'bigg': ['HACD10p'],\n",
       "  'deprecated': ['MNXR69208', 'MNXR2900', 'MNXR83090'],\n",
       "  'kegg': nan,\n",
       "  'seed': ['rxn09461'],\n",
       "  'metacyc': nan,\n",
       "  'rhea': nan,\n",
       "  'sabiork': nan,\n",
       "  'reactome': nan},\n",
       " 'MNXR100543': {'metanetx': ['MNXR100543'],\n",
       "  'bigg': ['HACD2', 'HACD2_1', 'HACD2i', 'HACD2m'],\n",
       "  'deprecated': ['MNXR91139', 'MNXR2901', 'MNXR62629'],\n",
       "  'kegg': ['R04748'],\n",
       "  'seed': ['rxn03249'],\n",
       "  'metacyc': ['RXN-12570'],\n",
       "  'rhea': ['31143', '31144', '31145', '31146'],\n",
       "  'sabiork': ['4404'],\n",
       "  'reactome': ['R-ATH-77323',\n",
       "   'R-BTA-77323',\n",
       "   'R-CEL-77323',\n",
       "   'R-CFA-77323',\n",
       "   'R-DDI-77323',\n",
       "   'R-DRE-77323',\n",
       "   'R-GGA-77323',\n",
       "   'R-HSA-77323',\n",
       "   'R-MMU-77323',\n",
       "   'R-OSA-77323',\n",
       "   'R-RNO-77323',\n",
       "   'R-SSC-77323',\n",
       "   'R-TGU-77323',\n",
       "   'R-XTR-77323']},\n",
       " 'MNXR100544': {'metanetx': ['MNXR100544'],\n",
       "  'bigg': ['HACD3', 'HACD3_1', 'HACD3i', 'HACD3m'],\n",
       "  'deprecated': ['MNXR91140', 'MNXR2902'],\n",
       "  'kegg': ['R04745'],\n",
       "  'seed': ['rxn03246'],\n",
       "  'metacyc': nan,\n",
       "  'rhea': ['31195', '31196', '31197', '31198'],\n",
       "  'sabiork': ['4401'],\n",
       "  'reactome': ['R-ATH-77331',\n",
       "   'R-BTA-77331',\n",
       "   'R-CEL-77331',\n",
       "   'R-CFA-77331',\n",
       "   'R-DDI-77331',\n",
       "   'R-DRE-77331',\n",
       "   'R-GGA-77331',\n",
       "   'R-HSA-77331',\n",
       "   'R-MMU-77331',\n",
       "   'R-OSA-77331',\n",
       "   'R-RNO-77331',\n",
       "   'R-SSC-77331',\n",
       "   'R-TGU-77331',\n",
       "   'R-XTR-77331']},\n",
       " 'MNXR100545': {'metanetx': ['MNXR100545'],\n",
       "  'bigg': ['HACD4', 'HACD4_1', 'HACD4i', 'HACD4m', 'HACD4p'],\n",
       "  'deprecated': ['MNXR91141', 'MNXR2903', 'MNXR62610'],\n",
       "  'kegg': ['R04743'],\n",
       "  'seed': ['rxn03244'],\n",
       "  'metacyc': ['RXN-12490'],\n",
       "  'rhea': ['31187', '31188', '31189', '31190'],\n",
       "  'sabiork': ['4399'],\n",
       "  'reactome': ['R-ATH-77342',\n",
       "   'R-BTA-77342',\n",
       "   'R-CEL-77342',\n",
       "   'R-CFA-77342',\n",
       "   'R-DDI-77342',\n",
       "   'R-DRE-77342',\n",
       "   'R-GGA-77342',\n",
       "   'R-HSA-77342',\n",
       "   'R-MMU-77342',\n",
       "   'R-OSA-77342',\n",
       "   'R-RNO-77342',\n",
       "   'R-SSC-77342',\n",
       "   'R-TGU-77342',\n",
       "   'R-XTR-77342']},\n",
       " 'MNXR100546': {'metanetx': ['MNXR100546'],\n",
       "  'bigg': ['HACD5', 'HACD5_1', 'HACD5i', 'HACD5m', 'HACD5p'],\n",
       "  'deprecated': ['MNXR91137', 'MNXR2904'],\n",
       "  'kegg': ['R04741'],\n",
       "  'seed': ['rxn03242'],\n",
       "  'metacyc': nan,\n",
       "  'rhea': ['31179', '31180', '31181', '31182'],\n",
       "  'sabiork': nan,\n",
       "  'reactome': ['R-ATH-77254',\n",
       "   'R-BTA-77254',\n",
       "   'R-CEL-77254',\n",
       "   'R-CFA-77254',\n",
       "   'R-DDI-77254',\n",
       "   'R-DRE-77254',\n",
       "   'R-GGA-77254',\n",
       "   'R-HSA-77254',\n",
       "   'R-MMU-77254',\n",
       "   'R-OSA-77254',\n",
       "   'R-RNO-77254',\n",
       "   'R-SSC-77254',\n",
       "   'R-TGU-77254',\n",
       "   'R-XTR-77254']},\n",
       " 'MNXR100547': {'metanetx': ['MNXR100547'],\n",
       "  'bigg': ['HACD6', 'HACD6_1', 'HACD6i', 'HACD6m', 'HACD6p'],\n",
       "  'deprecated': ['MNXR91432', 'MNXR2905'],\n",
       "  'kegg': ['R04739'],\n",
       "  'seed': ['rxn06777'],\n",
       "  'metacyc': ['RXN-12507'],\n",
       "  'rhea': ['31167', '31168', '31169', '31170'],\n",
       "  'sabiork': ['4395'],\n",
       "  'reactome': ['R-BTA-77283',\n",
       "   'R-CEL-77283',\n",
       "   'R-CFA-77283',\n",
       "   'R-DME-77283',\n",
       "   'R-GGA-77283',\n",
       "   'R-HSA-77283',\n",
       "   'R-MMU-77283',\n",
       "   'R-RNO-77283',\n",
       "   'R-SSC-77283',\n",
       "   'R-TGU-77283',\n",
       "   'R-XTR-77283']},\n",
       " 'MNXR100548': {'metanetx': ['MNXR100548'],\n",
       "  'bigg': ['HACD7', 'HACD7_1', 'HACD7i', 'HACD7m', 'HACD7p'],\n",
       "  'deprecated': ['MNXR91433', 'MNXR2906'],\n",
       "  'kegg': ['R04737'],\n",
       "  'seed': ['rxn03239'],\n",
       "  'metacyc': ['RXN-14271'],\n",
       "  'rhea': ['31159', '31160', '31161', '31162'],\n",
       "  'sabiork': ['4393'],\n",
       "  'reactome': ['R-BTA-77303',\n",
       "   'R-CEL-77303',\n",
       "   'R-CFA-77303',\n",
       "   'R-DME-77303',\n",
       "   'R-GGA-77303',\n",
       "   'R-HSA-77303',\n",
       "   'R-MMU-77303',\n",
       "   'R-RNO-77303',\n",
       "   'R-SSC-77303',\n",
       "   'R-TGU-77303',\n",
       "   'R-XTR-77303']},\n",
       " 'MNXR100549': {'metanetx': ['MNXR100549'],\n",
       "  'bigg': ['HACD8', 'HACD8i', 'HACD8p'],\n",
       "  'deprecated': nan,\n",
       "  'kegg': nan,\n",
       "  'seed': ['rxn08700'],\n",
       "  'metacyc': nan,\n",
       "  'rhea': nan,\n",
       "  'sabiork': nan,\n",
       "  'reactome': nan},\n",
       " 'MNXR100550': {'metanetx': ['MNXR100550'],\n",
       "  'bigg': ['HACD9', 'HACD9m'],\n",
       "  'deprecated': ['MNXR61443', 'MNXR2909'],\n",
       "  'kegg': ['R04203'],\n",
       "  'seed': ['rxn02933'],\n",
       "  'metacyc': ['1.1.1.178-RXN'],\n",
       "  'rhea': ['13281', '13282', '13283', '13284'],\n",
       "  'sabiork': ['3919'],\n",
       "  'reactome': nan},\n",
       " 'MNXR100551': {'metanetx': ['MNXR100551'],\n",
       "  'bigg': ['HACDp'],\n",
       "  'deprecated': ['MNXR48207', 'MNXR2910'],\n",
       "  'kegg': ['R01778'],\n",
       "  'seed': ['rxn06037'],\n",
       "  'metacyc': ['OHACYL-COA-DEHYDROG-RXN', 'RXN-16133'],\n",
       "  'rhea': ['22432', '22433', '22434', '22435'],\n",
       "  'sabiork': nan,\n",
       "  'reactome': nan},\n",
       " 'MNXR100552': {'metanetx': ['MNXR100552'],\n",
       "  'bigg': ['HACNHm'],\n",
       "  'deprecated': ['MNXR2911', 'MNXR83091'],\n",
       "  'kegg': ['R04371'],\n",
       "  'seed': ['rxn03034'],\n",
       "  'metacyc': ['HOMOACONITATE-HYDRATASE-RXN'],\n",
       "  'rhea': ['15485', '15486', '15487', '15488'],\n",
       "  'sabiork': ['4067'],\n",
       "  'reactome': nan},\n",
       " 'MNXR100553': {'metanetx': ['MNXR100553'],\n",
       "  'bigg': ['HACOADr'],\n",
       "  'deprecated': nan,\n",
       "  'kegg': nan,\n",
       "  'seed': nan,\n",
       "  'metacyc': nan,\n",
       "  'rhea': nan,\n",
       "  'sabiork': nan,\n",
       "  'reactome': nan},\n",
       " 'MNXR100554': {'metanetx': ['MNXR100554'],\n",
       "  'bigg': ['HADPCOADH'],\n",
       "  'deprecated': ['MNXR55618', 'MNXR69209'],\n",
       "  'kegg': nan,\n",
       "  'seed': ['rxn12773'],\n",
       "  'metacyc': nan,\n",
       "  'rhea': nan,\n",
       "  'sabiork': nan,\n",
       "  'reactome': nan},\n",
       " 'MNXR100555': {'metanetx': ['MNXR100555'],\n",
       "  'bigg': ['HADPCOADH3'],\n",
       "  'deprecated': ['MNXR60328'],\n",
       "  'kegg': ['R06941'],\n",
       "  'seed': ['rxn04750'],\n",
       "  'metacyc': ['RXN0-2044'],\n",
       "  'rhea': ['34851', '34852', '34853', '34854'],\n",
       "  'sabiork': nan,\n",
       "  'reactome': nan},\n",
       " 'MNXR100556': {'metanetx': ['MNXR100556'],\n",
       "  'bigg': ['HAMR'],\n",
       "  'deprecated': ['MNXR7368', 'MNXR83092'],\n",
       "  'kegg': ['R00143'],\n",
       "  'seed': ['rxn00109'],\n",
       "  'metacyc': ['HYDROXYLAMINE-REDUCTASE-NADH-RXN'],\n",
       "  'rhea': ['20581', '20582', '20583', '20584'],\n",
       "  'sabiork': nan,\n",
       "  'reactome': nan},\n",
       " 'MNXR100557': {'metanetx': ['MNXR100557'],\n",
       "  'bigg': ['HAS'],\n",
       "  'deprecated': ['MNXR69210', 'MNXR2913', 'MNXR83093'],\n",
       "  'kegg': nan,\n",
       "  'seed': ['rxn10666'],\n",
       "  'metacyc': nan,\n",
       "  'rhea': nan,\n",
       "  'sabiork': nan,\n",
       "  'reactome': nan},\n",
       " 'MNXR100558': {'metanetx': ['MNXR100558'],\n",
       "  'bigg': ['HAS1'],\n",
       "  'deprecated': ['MNXR55619', 'MNXR83094'],\n",
       "  'kegg': nan,\n",
       "  'seed': nan,\n",
       "  'metacyc': nan,\n",
       "  'rhea': nan,\n",
       "  'sabiork': nan,\n",
       "  'reactome': nan},\n",
       " 'MNXR100559': {'metanetx': ['MNXR100559'],\n",
       "  'bigg': ['HAS2'],\n",
       "  'deprecated': ['MNXR55620', 'MNXR69211', 'MNXR83095'],\n",
       "  'kegg': nan,\n",
       "  'seed': nan,\n",
       "  'metacyc': nan,\n",
       "  'rhea': nan,\n",
       "  'sabiork': nan,\n",
       "  'reactome': nan},\n",
       " 'MNXR100560': {'metanetx': ['MNXR100560'],\n",
       "  'bigg': ['HASD'],\n",
       "  'deprecated': ['MNXR69212', 'MNXR2916'],\n",
       "  'kegg': nan,\n",
       "  'seed': ['rxn10553'],\n",
       "  'metacyc': nan,\n",
       "  'rhea': nan,\n",
       "  'sabiork': nan,\n",
       "  'reactome': nan},\n",
       " 'MNXR100561': {'metanetx': ['MNXR100561'],\n",
       "  'bigg': ['HATGH'],\n",
       "  'deprecated': ['MNXR69213', 'MNXR2917', 'MNXR83096'],\n",
       "  'kegg': nan,\n",
       "  'seed': ['rxn10554'],\n",
       "  'metacyc': nan,\n",
       "  'rhea': nan,\n",
       "  'sabiork': nan,\n",
       "  'reactome': nan},\n",
       " 'MNXR100562': {'metanetx': ['MNXR100562'],\n",
       "  'bigg': ['HATIH'],\n",
       "  'deprecated': ['MNXR2918'],\n",
       "  'kegg': nan,\n",
       "  'seed': ['rxn10555'],\n",
       "  'metacyc': nan,\n",
       "  'rhea': nan,\n",
       "  'sabiork': nan,\n",
       "  'reactome': nan},\n",
       " 'MNXR100563': {'metanetx': ['MNXR100563'],\n",
       "  'bigg': ['HATSH'],\n",
       "  'deprecated': ['MNXR69214', 'MNXR2919'],\n",
       "  'kegg': nan,\n",
       "  'seed': ['rxn10556'],\n",
       "  'metacyc': nan,\n",
       "  'rhea': nan,\n",
       "  'sabiork': nan,\n",
       "  'reactome': nan},\n",
       " 'MNXR100564': {'metanetx': ['MNXR100564'],\n",
       "  'bigg': ['HAtly'],\n",
       "  'deprecated': ['MNXR31677', 'MNXR69215'],\n",
       "  'kegg': nan,\n",
       "  'seed': nan,\n",
       "  'metacyc': nan,\n",
       "  'rhea': nan,\n",
       "  'sabiork': nan,\n",
       "  'reactome': nan},\n",
       " 'MNXR100565': {'metanetx': ['MNXR100565'],\n",
       "  'bigg': ['HBCO_nadp', 'HBCO_nadp_m'],\n",
       "  'deprecated': ['MNXR61626', 'MNXR5688'],\n",
       "  'kegg': ['R01976'],\n",
       "  'seed': ['rxn01452'],\n",
       "  'metacyc': ['3-HYDROXYBUTYRYL-COA-DEHYDROGENASE-RXN'],\n",
       "  'rhea': ['16197', '16198', '16199', '16200'],\n",
       "  'sabiork': ['2019'],\n",
       "  'reactome': nan},\n",
       " 'MNXR100566': {'metanetx': ['MNXR100566'],\n",
       "  'bigg': ['HBZOPT'],\n",
       "  'deprecated': ['MNXR79747', 'MNXR55621'],\n",
       "  'kegg': ['R05615'],\n",
       "  'seed': ['rxn03893'],\n",
       "  'metacyc': ['4OHBENZOATE-OCTAPRENYLTRANSFER-RXN'],\n",
       "  'rhea': ['27782', '27783', '27784', '27785'],\n",
       "  'sabiork': nan,\n",
       "  'reactome': nan},\n",
       " 'MNXR100567': {'metanetx': ['MNXR100567'],\n",
       "  'bigg': ['HBZOPT10m'],\n",
       "  'deprecated': ['MNXR31678'],\n",
       "  'kegg': nan,\n",
       "  'seed': nan,\n",
       "  'metacyc': nan,\n",
       "  'rhea': nan,\n",
       "  'sabiork': nan,\n",
       "  'reactome': nan},\n",
       " 'MNXR100568': {'metanetx': ['MNXR100568'],\n",
       "  'bigg': ['HBZOPT6', 'HBZOPT6m_1'],\n",
       "  'deprecated': ['MNXR83097'],\n",
       "  'kegg': nan,\n",
       "  'seed': nan,\n",
       "  'metacyc': nan,\n",
       "  'rhea': nan,\n",
       "  'sabiork': nan,\n",
       "  'reactome': nan},\n",
       " 'MNXR100569': {'metanetx': ['MNXR100569'],\n",
       "  'bigg': ['HBZOPT6m'],\n",
       "  'deprecated': ['MNXR74520'],\n",
       "  'kegg': ['R05616'],\n",
       "  'seed': ['rxn03894'],\n",
       "  'metacyc': ['RXN-9003'],\n",
       "  'rhea': ['44556', '44557', '44558', '44559'],\n",
       "  'sabiork': nan,\n",
       "  'reactome': nan},\n",
       " 'MNXR100570': {'metanetx': ['MNXR100570'],\n",
       "  'bigg': ['HCINNMt2r', 'HCINNMt2rpp'],\n",
       "  'deprecated': ['MNXR2923'],\n",
       "  'kegg': nan,\n",
       "  'seed': ['rxn08701', 'rxn10135'],\n",
       "  'metacyc': ['TRANS-RXN0-457'],\n",
       "  'rhea': nan,\n",
       "  'sabiork': nan,\n",
       "  'reactome': nan},\n",
       " 'MNXR100571': {'metanetx': ['MNXR100571'],\n",
       "  'bigg': ['HCINNMtex'],\n",
       "  'deprecated': ['MNXR2924'],\n",
       "  'kegg': nan,\n",
       "  'seed': ['rxn08702'],\n",
       "  'metacyc': nan,\n",
       "  'rhea': nan,\n",
       "  'sabiork': nan,\n",
       "  'reactome': nan},\n",
       " 'MNXR100572': {'metanetx': ['MNXR100572'],\n",
       "  'bigg': ['HCITS', 'HCITSm', 'HCITSn'],\n",
       "  'deprecated': nan,\n",
       "  'kegg': nan,\n",
       "  'seed': nan,\n",
       "  'metacyc': nan,\n",
       "  'rhea': nan,\n",
       "  'sabiork': nan,\n",
       "  'reactome': nan},\n",
       " 'MNXR100573': {'metanetx': ['MNXR100573'],\n",
       "  'bigg': ['HCO3_2NAt'],\n",
       "  'deprecated': nan,\n",
       "  'kegg': nan,\n",
       "  'seed': nan,\n",
       "  'metacyc': nan,\n",
       "  'rhea': nan,\n",
       "  'sabiork': nan,\n",
       "  'reactome': nan},\n",
       " 'MNXR100574': {'metanetx': ['MNXR100574'],\n",
       "  'bigg': ['HCO3_CLt'],\n",
       "  'deprecated': ['MNXR31680'],\n",
       "  'kegg': nan,\n",
       "  'seed': nan,\n",
       "  'metacyc': nan,\n",
       "  'rhea': nan,\n",
       "  'sabiork': nan,\n",
       "  'reactome': ['R-ATH-1237038',\n",
       "   'R-ATH-1247665',\n",
       "   'R-ATH-425482',\n",
       "   'R-ATH-427666',\n",
       "   'R-BTA-1237038',\n",
       "   'R-BTA-1247665',\n",
       "   'R-BTA-425482',\n",
       "   'R-BTA-427666',\n",
       "   'R-CEL-1237038',\n",
       "   'R-CEL-1247665',\n",
       "   'R-CEL-425482',\n",
       "   'R-CEL-427666',\n",
       "   'R-CFA-1237038',\n",
       "   'R-CFA-1247665',\n",
       "   'R-CFA-425482',\n",
       "   'R-CFA-427666',\n",
       "   'R-DDI-427666',\n",
       "   'R-DME-1237038',\n",
       "   'R-DME-1247665',\n",
       "   'R-DME-425482',\n",
       "   'R-DME-427666',\n",
       "   'R-DRE-1237038',\n",
       "   'R-DRE-1247665',\n",
       "   'R-DRE-425482',\n",
       "   'R-DRE-427666',\n",
       "   'R-GGA-1237038',\n",
       "   'R-GGA-1247665',\n",
       "   'R-GGA-425482',\n",
       "   'R-GGA-427666',\n",
       "   'R-HSA-1237038',\n",
       "   'R-HSA-1247665',\n",
       "   'R-HSA-425482',\n",
       "   'R-HSA-427666',\n",
       "   'R-MMU-1237038',\n",
       "   'R-MMU-1247665',\n",
       "   'R-MMU-425482',\n",
       "   'R-MMU-427666',\n",
       "   'R-OSA-1237038',\n",
       "   'R-OSA-1247665',\n",
       "   'R-OSA-425482',\n",
       "   'R-OSA-427666',\n",
       "   'R-PFA-427666',\n",
       "   'R-RNO-1237038',\n",
       "   'R-RNO-1247665',\n",
       "   'R-RNO-425482',\n",
       "   'R-RNO-427666',\n",
       "   'R-SCE-1237038',\n",
       "   'R-SCE-1247665',\n",
       "   'R-SCE-425482',\n",
       "   'R-SCE-427666',\n",
       "   'R-SPO-1237038',\n",
       "   'R-SPO-1247665',\n",
       "   'R-SPO-425482',\n",
       "   'R-SSC-1237038',\n",
       "   'R-SSC-1247665',\n",
       "   'R-SSC-425482',\n",
       "   'R-SSC-427666',\n",
       "   'R-TGU-1237038',\n",
       "   'R-TGU-1247665',\n",
       "   'R-TGU-425482',\n",
       "   'R-TGU-427666',\n",
       "   'R-XTR-1237038',\n",
       "   'R-XTR-1247665',\n",
       "   'R-XTR-425482',\n",
       "   'R-XTR-427666']},\n",
       " 'MNXR100575': {'metanetx': ['MNXR100575'],\n",
       "  'bigg': ['HCO3_h_thi', 'HCO3_h_ti', 'HCO3_h_tmi'],\n",
       "  'deprecated': ['MNXR83098'],\n",
       "  'kegg': nan,\n",
       "  'seed': nan,\n",
       "  'metacyc': nan,\n",
       "  'rhea': nan,\n",
       "  'sabiork': nan,\n",
       "  'reactome': nan},\n",
       " 'MNXR100576': {'metanetx': ['MNXR100576'],\n",
       "  'bigg': ['HCOUMARINte'],\n",
       "  'deprecated': ['MNXR69218', 'MNXR2928'],\n",
       "  'kegg': nan,\n",
       "  'seed': nan,\n",
       "  'metacyc': nan,\n",
       "  'rhea': nan,\n",
       "  'sabiork': nan,\n",
       "  'reactome': nan},\n",
       " 'MNXR100577': {'metanetx': ['MNXR100577'],\n",
       "  'bigg': ['HCYSMT'],\n",
       "  'deprecated': ['MNXR69219', 'MNXR2929'],\n",
       "  'kegg': ['R00650'],\n",
       "  'seed': ['rxn00452'],\n",
       "  'metacyc': ['HOMOCYSTEINE-S-METHYLTRANSFERASE-RXN'],\n",
       "  'rhea': ['21820', '21821', '21822', '21823'],\n",
       "  'sabiork': ['1035'],\n",
       "  'reactome': nan},\n",
       " 'MNXR100578': {'metanetx': ['MNXR100578'],\n",
       "  'bigg': ['HCYSMT2'],\n",
       "  'deprecated': ['MNXR69220', 'MNXR2930'],\n",
       "  'kegg': ['R11063'],\n",
       "  'seed': ['rxn08703'],\n",
       "  'metacyc': ['MMUM-RXN'],\n",
       "  'rhea': ['26337', '26338', '26339', '26340'],\n",
       "  'sabiork': ['13306'],\n",
       "  'reactome': ['R-BTA-5696838',\n",
       "   'R-CFA-5696838',\n",
       "   'R-DRE-5696838',\n",
       "   'R-GGA-5696838',\n",
       "   'R-HSA-5696838',\n",
       "   'R-MMU-5696838',\n",
       "   'R-RNO-5696838',\n",
       "   'R-SSC-5696838',\n",
       "   'R-TGU-5696838',\n",
       "   'R-XTR-5696838']},\n",
       " 'MNXR100579': {'metanetx': ['MNXR100579'],\n",
       "  'bigg': ['HCYSt2p'],\n",
       "  'deprecated': ['MNXR69221', 'MNXR2931'],\n",
       "  'kegg': nan,\n",
       "  'seed': ['rxn09837'],\n",
       "  'metacyc': nan,\n",
       "  'rhea': nan,\n",
       "  'sabiork': nan,\n",
       "  'reactome': nan},\n",
       " 'MNXR100580': {'metanetx': ['MNXR100580'],\n",
       "  'bigg': ['HCYSte', 'HCYSth', 'HCYStm'],\n",
       "  'deprecated': nan,\n",
       "  'kegg': nan,\n",
       "  'seed': nan,\n",
       "  'metacyc': nan,\n",
       "  'rhea': nan,\n",
       "  'sabiork': nan,\n",
       "  'reactome': nan},\n",
       " 'MNXR100581': {'metanetx': ['MNXR100581'],\n",
       "  'bigg': ['HDC', 'HISDC'],\n",
       "  'deprecated': ['MNXR2964'],\n",
       "  'kegg': ['R01167'],\n",
       "  'seed': ['rxn00866'],\n",
       "  'metacyc': ['HISTIDINE-DECARBOXYLASE-RXN'],\n",
       "  'rhea': ['20840', '20841', '20842', '20843'],\n",
       "  'sabiork': ['1405'],\n",
       "  'reactome': ['R-ATH-977301',\n",
       "   'R-BTA-977301',\n",
       "   'R-CFA-977301',\n",
       "   'R-DME-977301',\n",
       "   'R-DRE-977301',\n",
       "   'R-GGA-977301',\n",
       "   'R-HSA-977301',\n",
       "   'R-MMU-977301',\n",
       "   'R-OSA-977301',\n",
       "   'R-RNO-977301',\n",
       "   'R-SSC-977301',\n",
       "   'R-TGU-977301',\n",
       "   'R-XTR-977301']},\n",
       " 'MNXR100582': {'metanetx': ['MNXR100582'],\n",
       "  'bigg': ['HDCACBP'],\n",
       "  'deprecated': nan,\n",
       "  'kegg': nan,\n",
       "  'seed': nan,\n",
       "  'metacyc': nan,\n",
       "  'rhea': nan,\n",
       "  'sabiork': nan,\n",
       "  'reactome': nan},\n",
       " 'MNXR100583': {'metanetx': ['MNXR100583'],\n",
       "  'bigg': ['HDCAt2', 'HDCAt2pp'],\n",
       "  'deprecated': ['MNXR2932'],\n",
       "  'kegg': nan,\n",
       "  'seed': ['rxn10162'],\n",
       "  'metacyc': nan,\n",
       "  'rhea': nan,\n",
       "  'sabiork': nan,\n",
       "  'reactome': nan},\n",
       " 'MNXR100584': {'metanetx': ['MNXR100584'],\n",
       "  'bigg': ['HDD2COAtx'],\n",
       "  'deprecated': ['MNXR2934'],\n",
       "  'kegg': nan,\n",
       "  'seed': nan,\n",
       "  'metacyc': nan,\n",
       "  'rhea': nan,\n",
       "  'sabiork': nan,\n",
       "  'reactome': nan},\n",
       " 'MNXR100585': {'metanetx': ['MNXR100585'],\n",
       "  'bigg': ['HDDACBP'],\n",
       "  'deprecated': nan,\n",
       "  'kegg': nan,\n",
       "  'seed': nan,\n",
       "  'metacyc': nan,\n",
       "  'rhea': nan,\n",
       "  'sabiork': nan,\n",
       "  'reactome': nan},\n",
       " 'MNXR100586': {'metanetx': ['MNXR100586'],\n",
       "  'bigg': ['HDECAACBP'],\n",
       "  'deprecated': nan,\n",
       "  'kegg': nan,\n",
       "  'seed': nan,\n",
       "  'metacyc': nan,\n",
       "  'rhea': nan,\n",
       "  'sabiork': nan,\n",
       "  'reactome': nan},\n",
       " 'MNXR100587': {'metanetx': ['MNXR100587'],\n",
       "  'bigg': ['HDH', 'HDHh', 'HISTD'],\n",
       "  'deprecated': ['MNXR2968'],\n",
       "  'kegg': ['R01158'],\n",
       "  'seed': ['rxn00859'],\n",
       "  'metacyc': ['RXN-8001'],\n",
       "  'rhea': ['20641', '20642', '20643', '20644'],\n",
       "  'sabiork': ['1398'],\n",
       "  'reactome': nan},\n",
       " 'MNXR100588': {'metanetx': ['MNXR100588'],\n",
       "  'bigg': ['HDR'],\n",
       "  'deprecated': ['MNXR69223', 'MNXR2935'],\n",
       "  'kegg': nan,\n",
       "  'seed': ['rxn10557'],\n",
       "  'metacyc': nan,\n",
       "  'rhea': nan,\n",
       "  'sabiork': nan,\n",
       "  'reactome': nan},\n",
       " 'MNXR100589': {'metanetx': ['MNXR100589'],\n",
       "  'bigg': ['HDR3'],\n",
       "  'deprecated': ['MNXR83099'],\n",
       "  'kegg': nan,\n",
       "  'seed': nan,\n",
       "  'metacyc': nan,\n",
       "  'rhea': nan,\n",
       "  'sabiork': nan,\n",
       "  'reactome': nan},\n",
       " 'MNXR100590': {'metanetx': ['MNXR100590'],\n",
       "  'bigg': ['HDS'],\n",
       "  'deprecated': nan,\n",
       "  'kegg': nan,\n",
       "  'seed': ['rxn06991'],\n",
       "  'metacyc': nan,\n",
       "  'rhea': nan,\n",
       "  'sabiork': nan,\n",
       "  'reactome': nan},\n",
       " 'MNXR100591': {'metanetx': ['MNXR100591'],\n",
       "  'bigg': ['HEMEAS', 'HEMEAS_1', 'HEMEASm'],\n",
       "  'deprecated': ['MNXR91003',\n",
       "   'MNXR75069',\n",
       "   'MNXR69224',\n",
       "   'MNXR2936',\n",
       "   'MNXR83100'],\n",
       "  'kegg': ['R07412'],\n",
       "  'seed': ['rxn05121', 'rxn12825'],\n",
       "  'metacyc': nan,\n",
       "  'rhea': nan,\n",
       "  'sabiork': nan,\n",
       "  'reactome': ['R-ATH-2995334',\n",
       "   'R-BTA-2995334',\n",
       "   'R-CEL-2995334',\n",
       "   'R-CFA-2995334',\n",
       "   'R-DDI-2995334',\n",
       "   'R-DME-2995334',\n",
       "   'R-DRE-2995334',\n",
       "   'R-GGA-2995334',\n",
       "   'R-HSA-2995334',\n",
       "   'R-MMU-2995334',\n",
       "   'R-OSA-2995334',\n",
       "   'R-PFA-2995334',\n",
       "   'R-RNO-2995334',\n",
       "   'R-SCE-2995334',\n",
       "   'R-SPO-2995334',\n",
       "   'R-SSC-2995334',\n",
       "   'R-TGU-2995334',\n",
       "   'R-XTR-2995334']},\n",
       " 'MNXR100592': {'metanetx': ['MNXR100592'],\n",
       "  'bigg': ['HEMECS'],\n",
       "  'deprecated': nan,\n",
       "  'kegg': nan,\n",
       "  'seed': nan,\n",
       "  'metacyc': nan,\n",
       "  'rhea': nan,\n",
       "  'sabiork': nan,\n",
       "  'reactome': nan},\n",
       " 'MNXR100593': {'metanetx': ['MNXR100593'],\n",
       "  'bigg': ['HEMEDS'],\n",
       "  'deprecated': nan,\n",
       "  'kegg': nan,\n",
       "  'seed': nan,\n",
       "  'metacyc': nan,\n",
       "  'rhea': nan,\n",
       "  'sabiork': nan,\n",
       "  'reactome': nan},\n",
       " 'MNXR100594': {'metanetx': ['MNXR100594'],\n",
       "  'bigg': ['HEMELh', 'HEMELm'],\n",
       "  'deprecated': ['MNXR84954', 'MNXR59369', 'MNXR73912', 'MNXR83101'],\n",
       "  'kegg': ['R02480'],\n",
       "  'seed': nan,\n",
       "  'metacyc': nan,\n",
       "  'rhea': nan,\n",
       "  'sabiork': nan,\n",
       "  'reactome': nan},\n",
       " 'MNXR100595': {'metanetx': ['MNXR100595'],\n",
       "  'bigg': ['HEMEOMOm'],\n",
       "  'deprecated': ['MNXR67903', 'MNXR81046', 'MNXR83102'],\n",
       "  'kegg': nan,\n",
       "  'seed': ['rxn13311'],\n",
       "  'metacyc': nan,\n",
       "  'rhea': nan,\n",
       "  'sabiork': nan,\n",
       "  'reactome': nan},\n",
       " 'MNXR100596': {'metanetx': ['MNXR100596'],\n",
       "  'bigg': ['HEMEOS', 'HEMEOS_1', 'HEMEOSm', 'HEMEOSm_1'],\n",
       "  'deprecated': ['MNXR91002', 'MNXR55622', 'MNXR69225', 'MNXR83103'],\n",
       "  'kegg': ['R07411'],\n",
       "  'seed': nan,\n",
       "  'metacyc': nan,\n",
       "  'rhea': ['28070', '28071', '28072', '28073'],\n",
       "  'sabiork': nan,\n",
       "  'reactome': ['R-ATH-2995330',\n",
       "   'R-BTA-2995330',\n",
       "   'R-CEL-2995330',\n",
       "   'R-CFA-2995330',\n",
       "   'R-DDI-2995330',\n",
       "   'R-DME-2995330',\n",
       "   'R-DRE-2995330',\n",
       "   'R-GGA-2995330',\n",
       "   'R-HSA-2995330',\n",
       "   'R-MMU-2995330',\n",
       "   'R-OSA-2995330',\n",
       "   'R-PFA-2995330',\n",
       "   'R-RNO-2995330',\n",
       "   'R-SCE-2995330',\n",
       "   'R-SPO-2995330',\n",
       "   'R-SSC-2995330',\n",
       "   'R-TGU-2995330',\n",
       "   'R-XTR-2995330']},\n",
       " 'MNXR100597': {'metanetx': ['MNXR100597'],\n",
       "  'bigg': ['HEMEti'],\n",
       "  'deprecated': ['MNXR69226'],\n",
       "  'kegg': nan,\n",
       "  'seed': nan,\n",
       "  'metacyc': nan,\n",
       "  'rhea': ['19261#2', '19262#2', '19263#2', '19264#2'],\n",
       "  'sabiork': nan,\n",
       "  'reactome': nan},\n",
       " 'MNXR100598': {'metanetx': ['MNXR100598'],\n",
       "  'bigg': ['HEPK1'],\n",
       "  'deprecated': ['MNXR50956', 'MNXR69227'],\n",
       "  'kegg': nan,\n",
       "  'seed': ['rxn08708'],\n",
       "  'metacyc': nan,\n",
       "  'rhea': nan,\n",
       "  'sabiork': nan,\n",
       "  'reactome': nan},\n",
       " 'MNXR100599': {'metanetx': ['MNXR100599'],\n",
       "  'bigg': ['HEPK2'],\n",
       "  'deprecated': ['MNXR69228', 'MNXR2940'],\n",
       "  'kegg': nan,\n",
       "  'seed': ['rxn08709'],\n",
       "  'metacyc': nan,\n",
       "  'rhea': nan,\n",
       "  'sabiork': nan,\n",
       "  'reactome': nan},\n",
       " 'MNXR100600': {'metanetx': ['MNXR100600'],\n",
       "  'bigg': ['HEPKA2'],\n",
       "  'deprecated': ['MNXR83104'],\n",
       "  'kegg': nan,\n",
       "  'seed': nan,\n",
       "  'metacyc': nan,\n",
       "  'rhea': nan,\n",
       "  'sabiork': nan,\n",
       "  'reactome': nan},\n",
       " 'MNXR100601': {'metanetx': ['MNXR100601'],\n",
       "  'bigg': ['HEPKB2'],\n",
       "  'deprecated': ['MNXR83105'],\n",
       "  'kegg': nan,\n",
       "  'seed': nan,\n",
       "  'metacyc': nan,\n",
       "  'rhea': nan,\n",
       "  'sabiork': nan,\n",
       "  'reactome': nan},\n",
       " 'MNXR100602': {'metanetx': ['MNXR100602'],\n",
       "  'bigg': ['HEPT1'],\n",
       "  'deprecated': ['MNXR69229', 'MNXR2941'],\n",
       "  'kegg': nan,\n",
       "  'seed': ['rxn08710'],\n",
       "  'metacyc': nan,\n",
       "  'rhea': ['28402', '28403', '28404', '28405'],\n",
       "  'sabiork': nan,\n",
       "  'reactome': nan},\n",
       " 'MNXR100603': {'metanetx': ['MNXR100603'],\n",
       "  'bigg': ['HEPT1N'],\n",
       "  'deprecated': ['MNXR83106'],\n",
       "  'kegg': nan,\n",
       "  'seed': nan,\n",
       "  'metacyc': nan,\n",
       "  'rhea': nan,\n",
       "  'sabiork': nan,\n",
       "  'reactome': nan},\n",
       " 'MNXR100604': {'metanetx': ['MNXR100604'],\n",
       "  'bigg': ['HEPT2'],\n",
       "  'deprecated': ['MNXR69230', 'MNXR2942', 'MNXR37951'],\n",
       "  'kegg': nan,\n",
       "  'seed': ['rxn08711'],\n",
       "  'metacyc': ['RXN0-5061'],\n",
       "  'rhea': ['28538', '28539', '28540', '28541'],\n",
       "  'sabiork': nan,\n",
       "  'reactome': nan},\n",
       " 'MNXR100605': {'metanetx': ['MNXR100605'],\n",
       "  'bigg': ['HEPT2N'],\n",
       "  'deprecated': ['MNXR83107'],\n",
       "  'kegg': nan,\n",
       "  'seed': nan,\n",
       "  'metacyc': nan,\n",
       "  'rhea': nan,\n",
       "  'sabiork': nan,\n",
       "  'reactome': nan},\n",
       " 'MNXR100606': {'metanetx': ['MNXR100606'],\n",
       "  'bigg': ['HEPT3'],\n",
       "  'deprecated': ['MNXR69231', 'MNXR2943', 'MNXR83108'],\n",
       "  'kegg': nan,\n",
       "  'seed': ['rxn08712'],\n",
       "  'metacyc': nan,\n",
       "  'rhea': nan,\n",
       "  'sabiork': nan,\n",
       "  'reactome': nan},\n",
       " 'MNXR100607': {'metanetx': ['MNXR100607'],\n",
       "  'bigg': ['HEPT4'],\n",
       "  'deprecated': ['MNXR69232', 'MNXR2944', 'MNXR83109'],\n",
       "  'kegg': nan,\n",
       "  'seed': ['rxn08713'],\n",
       "  'metacyc': nan,\n",
       "  'rhea': nan,\n",
       "  'sabiork': nan,\n",
       "  'reactome': nan},\n",
       " 'MNXR100608': {'metanetx': ['MNXR100608'],\n",
       "  'bigg': ['HEPT5'],\n",
       "  'deprecated': ['MNXR83110'],\n",
       "  'kegg': nan,\n",
       "  'seed': nan,\n",
       "  'metacyc': nan,\n",
       "  'rhea': nan,\n",
       "  'sabiork': nan,\n",
       "  'reactome': nan},\n",
       " 'MNXR100609': {'metanetx': ['MNXR100609'],\n",
       "  'bigg': ['HEPT5N'],\n",
       "  'deprecated': ['MNXR83111'],\n",
       "  'kegg': nan,\n",
       "  'seed': nan,\n",
       "  'metacyc': nan,\n",
       "  'rhea': nan,\n",
       "  'sabiork': nan,\n",
       "  'reactome': nan},\n",
       " 'MNXR100610': {'metanetx': ['MNXR100610'],\n",
       "  'bigg': ['HESTRATRIOLte', 'HESTRATRIOLtr'],\n",
       "  'deprecated': ['MNXR55624', 'MNXR69233'],\n",
       "  'kegg': nan,\n",
       "  'seed': nan,\n",
       "  'metacyc': nan,\n",
       "  'rhea': nan,\n",
       "  'sabiork': nan,\n",
       "  'reactome': nan},\n",
       " 'MNXR100611': {'metanetx': ['MNXR100611'],\n",
       "  'bigg': ['HETZK'],\n",
       "  'deprecated': ['MNXR2946'],\n",
       "  'kegg': ['R04448'],\n",
       "  'seed': ['rxn03075'],\n",
       "  'metacyc': ['THIAZOLSYN3-RXN'],\n",
       "  'rhea': ['24212', '24213', '24214', '24215'],\n",
       "  'sabiork': nan,\n",
       "  'reactome': nan},\n",
       " 'MNXR100612': {'metanetx': ['MNXR100612'],\n",
       "  'bigg': ['HEX1'],\n",
       "  'deprecated': ['MNXR69234', 'MNXR2720', 'MNXR93643', 'MNXR5673'],\n",
       "  'kegg': ['R00299'],\n",
       "  'seed': ['rxn00216'],\n",
       "  'metacyc': ['GLUCOKIN-RXN'],\n",
       "  'rhea': ['17825', '17826', '17827', '17828'],\n",
       "  'sabiork': ['6915', '793', '9175'],\n",
       "  'reactome': nan},\n",
       " 'MNXR100613': {'metanetx': ['MNXR100613'],\n",
       "  'bigg': ['HEX10'],\n",
       "  'deprecated': ['MNXR79529', 'MNXR2948'],\n",
       "  'kegg': ['R01961'],\n",
       "  'seed': ['rxn01439'],\n",
       "  'metacyc': ['GLUCOSAMINE-KINASE-RXN'],\n",
       "  'rhea': ['10948', '10949', '10950', '10951'],\n",
       "  'sabiork': ['2008'],\n",
       "  'reactome': nan},\n",
       " 'MNXR100614': {'metanetx': ['MNXR100614'],\n",
       "  'bigg': ['HEX7'],\n",
       "  'deprecated': ['MNXR84818'],\n",
       "  'kegg': ['R00867'],\n",
       "  'seed': nan,\n",
       "  'metacyc': nan,\n",
       "  'rhea': nan,\n",
       "  'sabiork': nan,\n",
       "  'reactome': nan},\n",
       " 'MNXR100615': {'metanetx': ['MNXR100615'],\n",
       "  'bigg': ['HEXCCOAtx'],\n",
       "  'deprecated': ['MNXR2951'],\n",
       "  'kegg': nan,\n",
       "  'seed': nan,\n",
       "  'metacyc': nan,\n",
       "  'rhea': nan,\n",
       "  'sabiork': nan,\n",
       "  'reactome': nan},\n",
       " 'MNXR100616': {'metanetx': ['MNXR100616'],\n",
       "  'bigg': ['HEXCCPT1', 'HEXCCPT2'],\n",
       "  'deprecated': ['MNXR50957', 'MNXR69236', 'MNXR83112'],\n",
       "  'kegg': nan,\n",
       "  'seed': nan,\n",
       "  'metacyc': nan,\n",
       "  'rhea': nan,\n",
       "  'sabiork': nan,\n",
       "  'reactome': nan},\n",
       " 'MNXR100617': {'metanetx': ['MNXR100617'],\n",
       "  'bigg': ['HEXCCRNt'],\n",
       "  'deprecated': ['MNXR69237', 'MNXR2953'],\n",
       "  'kegg': nan,\n",
       "  'seed': nan,\n",
       "  'metacyc': nan,\n",
       "  'rhea': nan,\n",
       "  'sabiork': nan,\n",
       "  'reactome': nan},\n",
       " 'MNXR100618': {'metanetx': ['MNXR100618'],\n",
       "  'bigg': ['HEXDCRNe'],\n",
       "  'deprecated': nan,\n",
       "  'kegg': nan,\n",
       "  'seed': nan,\n",
       "  'metacyc': nan,\n",
       "  'rhea': nan,\n",
       "  'sabiork': nan,\n",
       "  'reactome': nan},\n",
       " 'MNXR100619': {'metanetx': ['MNXR100619'],\n",
       "  'bigg': ['HEXDPtm'],\n",
       "  'deprecated': ['MNXR67904'],\n",
       "  'kegg': nan,\n",
       "  'seed': ['rxn13313'],\n",
       "  'metacyc': nan,\n",
       "  'rhea': nan,\n",
       "  'sabiork': nan,\n",
       "  'reactome': nan},\n",
       " 'MNXR100620': {'metanetx': ['MNXR100620'],\n",
       "  'bigg': ['HEXSabc'],\n",
       "  'deprecated': ['MNXR79916', 'MNXR27797'],\n",
       "  'kegg': nan,\n",
       "  'seed': ['rxn05585'],\n",
       "  'metacyc': nan,\n",
       "  'rhea': nan,\n",
       "  'sabiork': nan,\n",
       "  'reactome': nan},\n",
       " 'MNXR100621': {'metanetx': ['MNXR100621'],\n",
       "  'bigg': ['HEXTT'],\n",
       "  'deprecated': ['MNXR69238'],\n",
       "  'kegg': ['R05612'],\n",
       "  'seed': ['rxn03891'],\n",
       "  'metacyc': nan,\n",
       "  'rhea': ['20836', '20837', '20838', '20839'],\n",
       "  'sabiork': nan,\n",
       "  'reactome': nan},\n",
       " 'MNXR100622': {'metanetx': ['MNXR100622'],\n",
       "  'bigg': ['HEXt2rpp'],\n",
       "  'deprecated': ['MNXR2955'],\n",
       "  'kegg': nan,\n",
       "  'seed': ['rxn08714', 'rxn12596'],\n",
       "  'metacyc': nan,\n",
       "  'rhea': nan,\n",
       "  'sabiork': nan,\n",
       "  'reactome': nan},\n",
       " 'MNXR100623': {'metanetx': ['MNXR100623'],\n",
       "  'bigg': ['HG2abcpp'],\n",
       "  'deprecated': ['MNXR2956'],\n",
       "  'kegg': nan,\n",
       "  'seed': ['rxn08715', 'rxn10343'],\n",
       "  'metacyc': nan,\n",
       "  'rhea': nan,\n",
       "  'sabiork': nan,\n",
       "  'reactome': nan},\n",
       " 'MNXR100624': {'metanetx': ['MNXR100624'],\n",
       "  'bigg': ['HG2t3pp'],\n",
       "  'deprecated': ['MNXR2957'],\n",
       "  'kegg': nan,\n",
       "  'seed': ['rxn08716'],\n",
       "  'metacyc': nan,\n",
       "  'rhea': nan,\n",
       "  'sabiork': nan,\n",
       "  'reactome': nan},\n",
       " 'MNXR100625': {'metanetx': ['MNXR100625'],\n",
       "  'bigg': ['HG2tex', 'HGt'],\n",
       "  'deprecated': ['MNXR2958'],\n",
       "  'kegg': nan,\n",
       "  'seed': ['rxn05586', 'rxn08717'],\n",
       "  'metacyc': nan,\n",
       "  'rhea': ['32815', '32816', '32817', '32818'],\n",
       "  'sabiork': nan,\n",
       "  'reactome': nan},\n",
       " 'MNXR100626': {'metanetx': ['MNXR100626'],\n",
       "  'bigg': ['HGDm'],\n",
       "  'deprecated': ['MNXR85089', 'MNXR59496', 'MNXR74088'],\n",
       "  'kegg': ['R03534'],\n",
       "  'seed': ['rxn02519'],\n",
       "  'metacyc': ['RXN-14103'],\n",
       "  'rhea': ['25261', '25262', '25263', '25264'],\n",
       "  'sabiork': nan,\n",
       "  'reactome': nan},\n",
       " 'MNXR100627': {'metanetx': ['MNXR100627'],\n",
       "  'bigg': ['HGENTISth'],\n",
       "  'deprecated': ['MNXR83113'],\n",
       "  'kegg': nan,\n",
       "  'seed': nan,\n",
       "  'metacyc': nan,\n",
       "  'rhea': nan,\n",
       "  'sabiork': nan,\n",
       "  'reactome': nan},\n",
       " 'MNXR100628': {'metanetx': ['MNXR100628'],\n",
       "  'bigg': ['HGNTOR'],\n",
       "  'deprecated': ['MNXR65997', 'MNXR2959'],\n",
       "  'kegg': ['R02519'],\n",
       "  'seed': ['rxn01825'],\n",
       "  'metacyc': ['HOMOGENTISATE-12-DIOXYGENASE-RXN'],\n",
       "  'rhea': ['15449', '15450', '15451', '15452'],\n",
       "  'sabiork': ['2444'],\n",
       "  'reactome': ['R-ATH-71164',\n",
       "   'R-BTA-71164',\n",
       "   'R-CEL-71164',\n",
       "   'R-CFA-71164',\n",
       "   'R-DDI-71164',\n",
       "   'R-DME-71164',\n",
       "   'R-DRE-71164',\n",
       "   'R-GGA-71164',\n",
       "   'R-HSA-71164',\n",
       "   'R-MMU-71164',\n",
       "   'R-OSA-71164',\n",
       "   'R-RNO-71164',\n",
       "   'R-SSC-71164',\n",
       "   'R-TGU-71164',\n",
       "   'R-XTR-71164']},\n",
       " 'MNXR100629': {'metanetx': ['MNXR100629'],\n",
       "  'bigg': ['HGPHT', 'HPT'],\n",
       "  'deprecated': ['MNXR75098', 'MNXR60424'],\n",
       "  'kegg': ['R07500'],\n",
       "  'seed': ['rxn07331'],\n",
       "  'metacyc': ['RXN-2541'],\n",
       "  'rhea': ['37975', '37976', '37977', '37978'],\n",
       "  'sabiork': nan,\n",
       "  'reactome': nan},\n",
       " 'MNXR100630': {'metanetx': ['MNXR100630'],\n",
       "  'bigg': ['HGR'],\n",
       "  'deprecated': ['MNXR83114'],\n",
       "  'kegg': nan,\n",
       "  'seed': nan,\n",
       "  'metacyc': nan,\n",
       "  'rhea': nan,\n",
       "  'sabiork': nan,\n",
       "  'reactome': nan},\n",
       " 'MNXR100631': {'metanetx': ['MNXR100631'],\n",
       "  'bigg': ['HHDDI', 'HHDDI_1'],\n",
       "  'deprecated': ['MNXR83115'],\n",
       "  'kegg': nan,\n",
       "  'seed': nan,\n",
       "  'metacyc': nan,\n",
       "  'rhea': nan,\n",
       "  'sabiork': nan,\n",
       "  'reactome': nan},\n",
       " 'MNXR100632': {'metanetx': ['MNXR100632'],\n",
       "  'bigg': ['HIBD'],\n",
       "  'deprecated': nan,\n",
       "  'kegg': nan,\n",
       "  'seed': nan,\n",
       "  'metacyc': nan,\n",
       "  'rhea': nan,\n",
       "  'sabiork': nan,\n",
       "  'reactome': nan},\n",
       " 'MNXR100633': {'metanetx': ['MNXR100633'],\n",
       "  'bigg': ['HIBDkt'],\n",
       "  'deprecated': nan,\n",
       "  'kegg': nan,\n",
       "  'seed': nan,\n",
       "  'metacyc': nan,\n",
       "  'rhea': nan,\n",
       "  'sabiork': nan,\n",
       "  'reactome': nan},\n",
       " 'MNXR100634': {'metanetx': ['MNXR100634'],\n",
       "  'bigg': ['HIBDm'],\n",
       "  'deprecated': ['MNXR91069', 'MNXR2961'],\n",
       "  'kegg': ['R02047'],\n",
       "  'seed': ['rxn01480'],\n",
       "  'metacyc': nan,\n",
       "  'rhea': ['17681', '17682', '17683', '17684'],\n",
       "  'sabiork': ['2065'],\n",
       "  'reactome': ['R-ATH-508473',\n",
       "   'R-ATH-70885',\n",
       "   'R-BTA-508473',\n",
       "   'R-BTA-70885',\n",
       "   'R-CEL-508473',\n",
       "   'R-CEL-70885',\n",
       "   'R-CFA-508473',\n",
       "   'R-CFA-70885',\n",
       "   'R-DDI-508473',\n",
       "   'R-DDI-70885',\n",
       "   'R-DME-508473',\n",
       "   'R-DME-70885',\n",
       "   'R-DRE-508473',\n",
       "   'R-DRE-70885',\n",
       "   'R-GGA-508473',\n",
       "   'R-GGA-70885',\n",
       "   'R-HSA-508473',\n",
       "   'R-HSA-70885',\n",
       "   'R-MMU-508473',\n",
       "   'R-MMU-70885',\n",
       "   'R-OSA-508473',\n",
       "   'R-OSA-70885',\n",
       "   'R-RNO-508473',\n",
       "   'R-RNO-70885',\n",
       "   'R-SSC-508473',\n",
       "   'R-SSC-70885',\n",
       "   'R-TGU-508473',\n",
       "   'R-TGU-70885',\n",
       "   'R-XTR-508473',\n",
       "   'R-XTR-70885']},\n",
       " 'MNXR100635': {'metanetx': ['MNXR100635'],\n",
       "  'bigg': ['HIBH'],\n",
       "  'deprecated': ['MNXR70252', 'MNXR32754', 'MNXR76055'],\n",
       "  'kegg': ['R05064'],\n",
       "  'seed': nan,\n",
       "  'metacyc': ['3-HYDROXYISOBUTYRYL-COA-HYDROLASE-RXN'],\n",
       "  'rhea': ['31251', '31252', '31253', '31254'],\n",
       "  'sabiork': ['4692'],\n",
       "  'reactome': nan},\n",
       " 'MNXR100636': {'metanetx': ['MNXR100636'],\n",
       "  'bigg': ['HIBHr'],\n",
       "  'deprecated': nan,\n",
       "  'kegg': nan,\n",
       "  'seed': nan,\n",
       "  'metacyc': nan,\n",
       "  'rhea': nan,\n",
       "  'sabiork': nan,\n",
       "  'reactome': nan},\n",
       " 'MNXR100637': {'metanetx': ['MNXR100637'],\n",
       "  'bigg': ['HICITDm'],\n",
       "  'deprecated': ['MNXR55626'],\n",
       "  'kegg': ['R04862'],\n",
       "  'seed': ['rxn03324'],\n",
       "  'metacyc': nan,\n",
       "  'rhea': nan,\n",
       "  'sabiork': nan,\n",
       "  'reactome': nan},\n",
       " 'MNXR100638': {'metanetx': ['MNXR100638'],\n",
       "  'bigg': ['HIDP', 'NBAHH_ir'],\n",
       "  'deprecated': ['MNXR69523'],\n",
       "  'kegg': nan,\n",
       "  'seed': ['rxn10579'],\n",
       "  'metacyc': nan,\n",
       "  'rhea': nan,\n",
       "  'sabiork': nan,\n",
       "  'reactome': nan},\n",
       " 'MNXR100639': {'metanetx': ['MNXR100639'],\n",
       "  'bigg': ['HISDr', 'HISNH4L'],\n",
       "  'deprecated': ['MNXR2963', 'MNXR83116'],\n",
       "  'kegg': ['R01168'],\n",
       "  'seed': ['rxn00867'],\n",
       "  'metacyc': ['HISTIDINE-AMMONIA-LYASE-RXN'],\n",
       "  'rhea': ['21232', '21233', '21234', '21235'],\n",
       "  'sabiork': ['11319', '1406'],\n",
       "  'reactome': ['R-ATH-70899',\n",
       "   'R-BTA-70899',\n",
       "   'R-CEL-70899',\n",
       "   'R-CFA-70899',\n",
       "   'R-DDI-70899',\n",
       "   'R-DRE-70899',\n",
       "   'R-GGA-70899',\n",
       "   'R-HSA-70899',\n",
       "   'R-MMU-70899',\n",
       "   'R-OSA-70899',\n",
       "   'R-RNO-70899',\n",
       "   'R-SSC-70899',\n",
       "   'R-TGU-70899',\n",
       "   'R-XTR-70899']},\n",
       " 'MNXR100640': {'metanetx': ['MNXR100640'],\n",
       "  'bigg': ['HISTAVESSEC'],\n",
       "  'deprecated': ['MNXR2966'],\n",
       "  'kegg': nan,\n",
       "  'seed': nan,\n",
       "  'metacyc': nan,\n",
       "  'rhea': nan,\n",
       "  'sabiork': nan,\n",
       "  'reactome': nan},\n",
       " 'MNXR100641': {'metanetx': ['MNXR100641'],\n",
       "  'bigg': ['HISTAtu'],\n",
       "  'deprecated': ['MNXR2967'],\n",
       "  'kegg': nan,\n",
       "  'seed': nan,\n",
       "  'metacyc': nan,\n",
       "  'rhea': nan,\n",
       "  'sabiork': nan,\n",
       "  'reactome': nan},\n",
       " 'MNXR100642': {'metanetx': ['MNXR100642'],\n",
       "  'bigg': ['HISTP', 'HP', 'HPh'],\n",
       "  'deprecated': ['MNXR2969'],\n",
       "  'kegg': ['R03013'],\n",
       "  'seed': ['rxn02160'],\n",
       "  'metacyc': ['HISTIDPHOS-RXN'],\n",
       "  'rhea': ['14465', '14466', '14467', '14468'],\n",
       "  'sabiork': nan,\n",
       "  'reactome': nan},\n",
       " 'MNXR100643': {'metanetx': ['MNXR100643'],\n",
       "  'bigg': ['HISTRS', 'HISTRSm'],\n",
       "  'deprecated': ['MNXR91620', 'MNXR83117'],\n",
       "  'kegg': ['R03655'],\n",
       "  'seed': ['rxn06439'],\n",
       "  'metacyc': nan,\n",
       "  'rhea': nan,\n",
       "  'sabiork': ['410'],\n",
       "  'reactome': ['R-HSA-379844', 'R-HSA-380234']},\n",
       " 'MNXR100644': {'metanetx': ['MNXR100644'],\n",
       "  'bigg': ['HISabc', 'HISabcpp'],\n",
       "  'deprecated': nan,\n",
       "  'kegg': nan,\n",
       "  'seed': ['rxn05164', 'rxn08718'],\n",
       "  'metacyc': ['ABC-14-RXN'],\n",
       "  'rhea': ['29891#1', '29892#1', '29893#1', '29894#1'],\n",
       "  'sabiork': nan,\n",
       "  'reactome': nan},\n",
       " 'MNXR100645': {'metanetx': ['MNXR100645'],\n",
       "  'bigg': ['HIShPTtc', 'HISt2m', 'HISt2r', 'HISt2rpp', 'HISth', 'r1427'],\n",
       "  'deprecated': ['MNXR2972', 'MNXR29114'],\n",
       "  'kegg': nan,\n",
       "  'seed': ['rxn05299', 'rxn08719', 'rxn09744', 'rxn11327'],\n",
       "  'metacyc': nan,\n",
       "  'rhea': ['37047', '37048', '37049', '37050'],\n",
       "  'sabiork': nan,\n",
       "  'reactome': nan},\n",
       " 'MNXR100646': {'metanetx': ['MNXR100646'],\n",
       "  'bigg': ['HISt4'],\n",
       "  'deprecated': ['MNXR2973'],\n",
       "  'kegg': nan,\n",
       "  'seed': nan,\n",
       "  'metacyc': nan,\n",
       "  'rhea': nan,\n",
       "  'sabiork': nan,\n",
       "  'reactome': nan},\n",
       " 'MNXR100647': {'metanetx': ['MNXR100647'],\n",
       "  'bigg': ['HISt6', 'r2416'],\n",
       "  'deprecated': nan,\n",
       "  'kegg': nan,\n",
       "  'seed': ['rxn13314'],\n",
       "  'metacyc': nan,\n",
       "  'rhea': nan,\n",
       "  'sabiork': nan,\n",
       "  'reactome': nan},\n",
       " 'MNXR100648': {'metanetx': ['MNXR100648'],\n",
       "  'bigg': ['HIStN1'],\n",
       "  'deprecated': ['MNXR2974'],\n",
       "  'kegg': nan,\n",
       "  'seed': nan,\n",
       "  'metacyc': nan,\n",
       "  'rhea': nan,\n",
       "  'sabiork': nan,\n",
       "  'reactome': nan},\n",
       " 'MNXR100649': {'metanetx': ['MNXR100649'],\n",
       "  'bigg': ['HIStex', 'HIStiDF', 'r1067'],\n",
       "  'deprecated': ['MNXR2975'],\n",
       "  'kegg': nan,\n",
       "  'seed': ['rxn08721', 'rxn10932'],\n",
       "  'metacyc': nan,\n",
       "  'rhea': nan,\n",
       "  'sabiork': ['13472'],\n",
       "  'reactome': nan},\n",
       " 'MNXR100650': {'metanetx': ['MNXR100650'],\n",
       "  'bigg': ['HISyLATtc'],\n",
       "  'deprecated': nan,\n",
       "  'kegg': nan,\n",
       "  'seed': nan,\n",
       "  'metacyc': nan,\n",
       "  'rhea': nan,\n",
       "  'sabiork': nan,\n",
       "  'reactome': nan},\n",
       " 'MNXR100651': {'metanetx': ['MNXR100651'],\n",
       "  'bigg': ['HISyLATthc', 'r2401'],\n",
       "  'deprecated': nan,\n",
       "  'kegg': nan,\n",
       "  'seed': nan,\n",
       "  'metacyc': nan,\n",
       "  'rhea': nan,\n",
       "  'sabiork': nan,\n",
       "  'reactome': nan},\n",
       " 'MNXR100652': {'metanetx': ['MNXR100652'],\n",
       "  'bigg': ['HIUH', 'HURH'],\n",
       "  'deprecated': ['MNXR8375'],\n",
       "  'kegg': ['R06601'],\n",
       "  'seed': ['rxn04453'],\n",
       "  'metacyc': ['3.5.2.17-RXN'],\n",
       "  'rhea': ['23736', '23737', '23738', '23739'],\n",
       "  'sabiork': ['6176'],\n",
       "  'reactome': nan},\n",
       " 'MNXR100653': {'metanetx': ['MNXR100653'],\n",
       "  'bigg': ['HKM1PP'],\n",
       "  'deprecated': nan,\n",
       "  'kegg': nan,\n",
       "  'seed': nan,\n",
       "  'metacyc': nan,\n",
       "  'rhea': nan,\n",
       "  'sabiork': nan,\n",
       "  'reactome': nan},\n",
       " 'MNXR100654': {'metanetx': ['MNXR100654'],\n",
       "  'bigg': ['HKNDDH', 'HKNDDH_1'],\n",
       "  'deprecated': ['MNXR71753',\n",
       "   'MNXR79406',\n",
       "   'MNXR87145',\n",
       "   'MNXR55627',\n",
       "   'MNXR69239',\n",
       "   'MNXR62034',\n",
       "   'MNXR76391'],\n",
       "  'kegg': ['R02603'],\n",
       "  'seed': ['rxn01895'],\n",
       "  'metacyc': ['MHPCHYDROL-RXN'],\n",
       "  'rhea': ['24789',\n",
       "   '24790',\n",
       "   '24791',\n",
       "   '24792',\n",
       "   '34187',\n",
       "   '34188',\n",
       "   '34189',\n",
       "   '34190'],\n",
       "  'sabiork': nan,\n",
       "  'reactome': nan},\n",
       " 'MNXR100655': {'metanetx': ['MNXR100655'],\n",
       "  'bigg': ['HKNTDH', 'HKNTDH_1'],\n",
       "  'deprecated': ['MNXR65487', 'MNXR79300', 'MNXR69240'],\n",
       "  'kegg': ['R06789'],\n",
       "  'seed': ['rxn04604'],\n",
       "  'metacyc': nan,\n",
       "  'rhea': ['25046', '25047', '25048', '25049'],\n",
       "  'sabiork': nan,\n",
       "  'reactome': nan},\n",
       " 'MNXR100656': {'metanetx': ['MNXR100656'],\n",
       "  'bigg': ['HKYNH'],\n",
       "  'deprecated': ['MNXR2978'],\n",
       "  'kegg': ['R02668'],\n",
       "  'seed': ['rxn01930'],\n",
       "  'metacyc': ['3-HYDROXY-KYNURENINASE-RXN'],\n",
       "  'rhea': ['25143', '25144', '25145', '25146'],\n",
       "  'sabiork': ['2564'],\n",
       "  'reactome': ['R-BTA-71217',\n",
       "   'R-CEL-71217',\n",
       "   'R-CFA-71217',\n",
       "   'R-DDI-71217',\n",
       "   'R-DRE-71217',\n",
       "   'R-GGA-71217',\n",
       "   'R-HSA-71217',\n",
       "   'R-MMU-71217',\n",
       "   'R-RNO-71217',\n",
       "   'R-SCE-71217',\n",
       "   'R-SSC-71217',\n",
       "   'R-TGU-71217',\n",
       "   'R-XTR-71217']},\n",
       " 'MNXR100657': {'metanetx': ['MNXR100657'],\n",
       "  'bigg': ['HKt', 'HKtpp', 'Kabc', 'Kabcpp'],\n",
       "  'deprecated': ['MNXR6743'],\n",
       "  'kegg': nan,\n",
       "  'seed': ['rxn08762', 'rxn10168', 'rxn10558'],\n",
       "  'metacyc': ['3.6.3.10-RXN', '3.6.3.12-RXN', 'TRANS-RXN-2'],\n",
       "  'rhea': ['16777#1', '16778#1', '16779#1', '16780#1'],\n",
       "  'sabiork': ['9646#2'],\n",
       "  'reactome': nan},\n",
       " 'MNXR100658': {'metanetx': ['MNXR100658'],\n",
       "  'bigg': ['HMBS', 'PPBNGD'],\n",
       "  'deprecated': ['MNXR2980', 'MNXR83118', 'MNXR37222'],\n",
       "  'kegg': ['R00084'],\n",
       "  'seed': ['rxn00060'],\n",
       "  'metacyc': ['OHMETHYLBILANESYN-RXN'],\n",
       "  'rhea': ['13185', '13186', '13187', '13188'],\n",
       "  'sabiork': ['669'],\n",
       "  'reactome': ['R-ATH-189406',\n",
       "   'R-BTA-189406',\n",
       "   'R-CFA-189406',\n",
       "   'R-DDI-189406',\n",
       "   'R-DME-189406',\n",
       "   'R-DRE-189406',\n",
       "   'R-GGA-189406',\n",
       "   'R-GGA-421439',\n",
       "   'R-HSA-189406',\n",
       "   'R-MMU-189406',\n",
       "   'R-OSA-189406',\n",
       "   'R-PFA-189406',\n",
       "   'R-RNO-189406',\n",
       "   'R-SCE-189406',\n",
       "   'R-SPO-189406',\n",
       "   'R-SSC-189406',\n",
       "   'R-TGU-189406',\n",
       "   'R-XTR-189406']},\n",
       " 'MNXR100659': {'metanetx': ['MNXR100659'],\n",
       "  'bigg': ['HMGCOAR', 'HMGCOARi', 'HMGCOARr', 'HMGCOARx'],\n",
       "  'deprecated': nan,\n",
       "  'kegg': nan,\n",
       "  'seed': nan,\n",
       "  'metacyc': nan,\n",
       "  'rhea': nan,\n",
       "  'sabiork': ['2092'],\n",
       "  'reactome': nan},\n",
       " 'MNXR100660': {'metanetx': ['MNXR100660'],\n",
       "  'bigg': ['HMGCOAS', 'HMGCOASi', 'HMGCOASim', 'HMGCOASm', 'MHGS', 'r0463'],\n",
       "  'deprecated': nan,\n",
       "  'kegg': nan,\n",
       "  'seed': nan,\n",
       "  'metacyc': nan,\n",
       "  'rhea': nan,\n",
       "  'sabiork': ['2021'],\n",
       "  'reactome': nan},\n",
       " 'MNXR100661': {'metanetx': ['MNXR100661'],\n",
       "  'bigg': ['HMGCOAtm', 'HMGCOAtx'],\n",
       "  'deprecated': ['MNXR2983'],\n",
       "  'kegg': nan,\n",
       "  'seed': nan,\n",
       "  'metacyc': nan,\n",
       "  'rhea': nan,\n",
       "  'sabiork': nan,\n",
       "  'reactome': nan},\n",
       " 'MNXR100662': {'metanetx': ['MNXR100662'],\n",
       "  'bigg': ['HMGL', 'HMGL_1', 'HMGLm', 'HMGLr', 'HMGLx'],\n",
       "  'deprecated': nan,\n",
       "  'kegg': nan,\n",
       "  'seed': nan,\n",
       "  'metacyc': nan,\n",
       "  'rhea': nan,\n",
       "  'sabiork': ['1564'],\n",
       "  'reactome': nan},\n",
       " 'MNXR100663': {'metanetx': ['MNXR100663'],\n",
       "  'bigg': ['HMNO'],\n",
       "  'deprecated': ['MNXR70156', 'MNXR2960', 'MNXR76054'],\n",
       "  'kegg': ['R05066'],\n",
       "  'seed': nan,\n",
       "  'metacyc': ['3-HYDROXYISOBUTYRATE-DEHYDROGENASE-RXN'],\n",
       "  'rhea': ['31275', '31276', '31277', '31278'],\n",
       "  'sabiork': ['4693'],\n",
       "  'reactome': nan},\n",
       " 'MNXR100664': {'metanetx': ['MNXR100664'],\n",
       "  'bigg': ['HMPK1'],\n",
       "  'deprecated': ['MNXR2985'],\n",
       "  'kegg': ['R03471'],\n",
       "  'seed': ['rxn02484'],\n",
       "  'metacyc': ['OHMETPYRKIN-RXN'],\n",
       "  'rhea': ['23096', '23097', '23098', '23099'],\n",
       "  'sabiork': ['3265'],\n",
       "  'reactome': nan},\n",
       " 'MNXR100665': {'metanetx': ['MNXR100665'],\n",
       "  'bigg': ['HMPK2'],\n",
       "  'deprecated': ['MNXR55629', 'MNXR69241'],\n",
       "  'kegg': nan,\n",
       "  'seed': ['rxn10625'],\n",
       "  'metacyc': nan,\n",
       "  'rhea': nan,\n",
       "  'sabiork': nan,\n",
       "  'reactome': nan},\n",
       " 'MNXR100666': {'metanetx': ['MNXR100666'],\n",
       "  'bigg': ['HMPK3'],\n",
       "  'deprecated': ['MNXR55630', 'MNXR69242'],\n",
       "  'kegg': nan,\n",
       "  'seed': ['rxn10622'],\n",
       "  'metacyc': nan,\n",
       "  'rhea': nan,\n",
       "  'sabiork': nan,\n",
       "  'reactome': nan},\n",
       " 'MNXR100667': {'metanetx': ['MNXR100667'],\n",
       "  'bigg': ['HMPK4'],\n",
       "  'deprecated': ['MNXR55631', 'MNXR69243'],\n",
       "  'kegg': nan,\n",
       "  'seed': ['rxn10620'],\n",
       "  'metacyc': nan,\n",
       "  'rhea': nan,\n",
       "  'sabiork': nan,\n",
       "  'reactome': nan},\n",
       " 'MNXR100668': {'metanetx': ['MNXR100668'],\n",
       "  'bigg': ['HMPSCD'],\n",
       "  'deprecated': ['MNXR83119'],\n",
       "  'kegg': nan,\n",
       "  'seed': nan,\n",
       "  'metacyc': nan,\n",
       "  'rhea': nan,\n",
       "  'sabiork': nan,\n",
       "  'reactome': nan},\n",
       " 'MNXR100669': {'metanetx': ['MNXR100669'],\n",
       "  'bigg': ['HMSD'],\n",
       "  'deprecated': nan,\n",
       "  'kegg': ['R02762'],\n",
       "  'seed': ['rxn01993'],\n",
       "  'metacyc': ['RXN-8527'],\n",
       "  'rhea': nan,\n",
       "  'sabiork': nan,\n",
       "  'reactome': nan},\n",
       " 'MNXR100670': {'metanetx': ['MNXR100670'],\n",
       "  'bigg': ['HMSD2'],\n",
       "  'deprecated': ['MNXR55633', 'MNXR69245'],\n",
       "  'kegg': ['R05353'],\n",
       "  'seed': nan,\n",
       "  'metacyc': nan,\n",
       "  'rhea': nan,\n",
       "  'sabiork': nan,\n",
       "  'reactome': nan},\n",
       " 'MNXR100671': {'metanetx': ['MNXR100671'],\n",
       "  'bigg': ['HMSH'],\n",
       "  'deprecated': nan,\n",
       "  'kegg': ['R02604'],\n",
       "  'seed': ['rxn01896'],\n",
       "  'metacyc': ['3.7.1.9-RXN'],\n",
       "  'rhea': nan,\n",
       "  'sabiork': ['12368'],\n",
       "  'reactome': nan},\n",
       " 'MNXR100672': {'metanetx': ['MNXR100672'],\n",
       "  'bigg': ['HMSH2'],\n",
       "  'deprecated': ['MNXR85329',\n",
       "   'MNXR55635',\n",
       "   'MNXR69247',\n",
       "   'MNXR74448',\n",
       "   'MNXR83120'],\n",
       "  'kegg': ['R05296', 'R05865'],\n",
       "  'seed': ['rxn03608', 'rxn04096'],\n",
       "  'metacyc': nan,\n",
       "  'rhea': nan,\n",
       "  'sabiork': nan,\n",
       "  'reactome': nan},\n",
       " 'MNXR100673': {'metanetx': ['MNXR100673'],\n",
       "  'bigg': ['HMSH3'],\n",
       "  'deprecated': ['MNXR55636', 'MNXR69248'],\n",
       "  'kegg': ['R05138'],\n",
       "  'seed': nan,\n",
       "  'metacyc': ['2-OH-6-OXOHEPTA-2-4-DIENOATE-HYDR-RXN'],\n",
       "  'rhea': nan,\n",
       "  'sabiork': nan,\n",
       "  'reactome': nan},\n",
       " 'MNXR100674': {'metanetx': ['MNXR100674'],\n",
       "  'bigg': ['HOCCD'],\n",
       "  'deprecated': ['MNXR59882'],\n",
       "  'kegg': ['R05581'],\n",
       "  'seed': ['rxn03863'],\n",
       "  'metacyc': ['HADTHAUERA-RXN'],\n",
       "  'rhea': ['18265', '18266', '18267', '18268'],\n",
       "  'sabiork': nan,\n",
       "  'reactome': nan},\n",
       " 'MNXR100675': {'metanetx': ['MNXR100675'],\n",
       "  'bigg': ['HOLYSK'],\n",
       "  'deprecated': ['MNXR70453', 'MNXR66085', 'MNXR56369'],\n",
       "  'kegg': ['R03378'],\n",
       "  'seed': ['rxn02422'],\n",
       "  'metacyc': nan,\n",
       "  'rhea': ['19049', '19050', '19051', '19052'],\n",
       "  'sabiork': ['3183'],\n",
       "  'reactome': ['R-BTA-6788611',\n",
       "   'R-CFA-6788611',\n",
       "   'R-DME-6788611',\n",
       "   'R-DRE-6788611',\n",
       "   'R-GGA-6788611',\n",
       "   'R-HSA-6788611',\n",
       "   'R-MMU-6788611',\n",
       "   'R-RNO-6788611',\n",
       "   'R-SSC-6788611',\n",
       "   'R-TGU-6788611',\n",
       "   'R-XTR-6788611']},\n",
       " 'MNXR100676': {'metanetx': ['MNXR100676'],\n",
       "  'bigg': ['HOMt2pp'],\n",
       "  'deprecated': ['MNXR2994'],\n",
       "  'kegg': nan,\n",
       "  'seed': ['rxn08722'],\n",
       "  'metacyc': ['TRANS-RXN-242'],\n",
       "  'rhea': ['29003', '29004', '29005', '29006'],\n",
       "  'sabiork': nan,\n",
       "  'reactome': nan},\n",
       " 'MNXR100677': {'metanetx': ['MNXR100677'],\n",
       "  'bigg': ['HOMt4'],\n",
       "  'deprecated': ['MNXR2995'],\n",
       "  'kegg': nan,\n",
       "  'seed': nan,\n",
       "  'metacyc': nan,\n",
       "  'rhea': nan,\n",
       "  'sabiork': nan,\n",
       "  'reactome': nan},\n",
       " 'MNXR100678': {'metanetx': ['MNXR100678'],\n",
       "  'bigg': ['HOMtex', 'r2535'],\n",
       "  'deprecated': ['MNXR2996'],\n",
       "  'kegg': nan,\n",
       "  'seed': ['rxn08723'],\n",
       "  'metacyc': nan,\n",
       "  'rhea': nan,\n",
       "  'sabiork': nan,\n",
       "  'reactome': nan},\n",
       " 'MNXR100679': {'metanetx': ['MNXR100679'],\n",
       "  'bigg': ['HOPNTAL', 'HOPNTAL3'],\n",
       "  'deprecated': nan,\n",
       "  'kegg': ['R00750'],\n",
       "  'seed': ['rxn00540'],\n",
       "  'metacyc': nan,\n",
       "  'rhea': nan,\n",
       "  'sabiork': ['1109'],\n",
       "  'reactome': nan},\n",
       " 'MNXR100680': {'metanetx': ['MNXR100680'],\n",
       "  'bigg': ['HOPNTAL2'],\n",
       "  'deprecated': nan,\n",
       "  'kegg': ['R05298'],\n",
       "  'seed': ['rxn03610'],\n",
       "  'metacyc': nan,\n",
       "  'rhea': nan,\n",
       "  'sabiork': ['4907'],\n",
       "  'reactome': nan},\n",
       " 'MNXR100681': {'metanetx': ['MNXR100681'],\n",
       "  'bigg': ['HOXG', 'HOXG_1'],\n",
       "  'deprecated': ['MNXR55637', 'MNXR69249', 'MNXR83121'],\n",
       "  'kegg': nan,\n",
       "  'seed': nan,\n",
       "  'metacyc': nan,\n",
       "  'rhea': nan,\n",
       "  'sabiork': nan,\n",
       "  'reactome': nan},\n",
       " 'MNXR100682': {'metanetx': ['MNXR100682'],\n",
       "  'bigg': ['HOXPRm', 'HOXPRx', 'TRSARr'],\n",
       "  'deprecated': ['MNXR5147'],\n",
       "  'kegg': ['R01745'],\n",
       "  'seed': ['rxn01280'],\n",
       "  'metacyc': ['RXN0-5289'],\n",
       "  'rhea': ['18845', '18846', '18847', '18848'],\n",
       "  'sabiork': nan,\n",
       "  'reactome': nan},\n",
       " 'MNXR100683': {'metanetx': ['MNXR100683'],\n",
       "  'bigg': ['HP5CD', 'HP5CD_1'],\n",
       "  'deprecated': ['MNXR79665'],\n",
       "  'kegg': nan,\n",
       "  'seed': ['rxn03071'],\n",
       "  'metacyc': nan,\n",
       "  'rhea': nan,\n",
       "  'sabiork': nan,\n",
       "  'reactome': nan},\n",
       " 'MNXR100684': {'metanetx': ['MNXR100684'],\n",
       "  'bigg': ['HPCLx'],\n",
       "  'deprecated': ['MNXR3002'],\n",
       "  'kegg': nan,\n",
       "  'seed': nan,\n",
       "  'metacyc': nan,\n",
       "  'rhea': nan,\n",
       "  'sabiork': nan,\n",
       "  'reactome': nan},\n",
       " 'MNXR100685': {'metanetx': ['MNXR100685'],\n",
       "  'bigg': ['HPCOR'],\n",
       "  'deprecated': ['MNXR59738', 'MNXR74358', 'MNXR83122'],\n",
       "  'kegg': ['R04919'],\n",
       "  'seed': ['rxn03368'],\n",
       "  'metacyc': nan,\n",
       "  'rhea': nan,\n",
       "  'sabiork': nan,\n",
       "  'reactome': nan},\n",
       " 'MNXR100686': {'metanetx': ['MNXR100686'],\n",
       "  'bigg': ['HPDCACRNCPT1', 'HPDCACRNCPT2'],\n",
       "  'deprecated': ['MNXR50959', 'MNXR69252'],\n",
       "  'kegg': nan,\n",
       "  'seed': nan,\n",
       "  'metacyc': nan,\n",
       "  'rhea': nan,\n",
       "  'sabiork': nan,\n",
       "  'reactome': nan},\n",
       " 'MNXR100687': {'metanetx': ['MNXR100687'],\n",
       "  'bigg': ['HPDCACRNt'],\n",
       "  'deprecated': ['MNXR3004', 'MNXR69253'],\n",
       "  'kegg': nan,\n",
       "  'seed': nan,\n",
       "  'metacyc': nan,\n",
       "  'rhea': nan,\n",
       "  'sabiork': nan,\n",
       "  'reactome': nan},\n",
       " 'MNXR100688': {'metanetx': ['MNXR100688'],\n",
       "  'bigg': ['HPDCAt'],\n",
       "  'deprecated': ['MNXR3005', 'MNXR69254'],\n",
       "  'kegg': nan,\n",
       "  'seed': nan,\n",
       "  'metacyc': nan,\n",
       "  'rhea': nan,\n",
       "  'sabiork': nan,\n",
       "  'reactome': nan},\n",
       " 'MNXR100689': {'metanetx': ['MNXR100689'],\n",
       "  'bigg': ['HPETFABP1tc'],\n",
       "  'deprecated': nan,\n",
       "  'kegg': nan,\n",
       "  'seed': nan,\n",
       "  'metacyc': nan,\n",
       "  'rhea': nan,\n",
       "  'sabiork': nan,\n",
       "  'reactome': nan},\n",
       " 'MNXR100690': {'metanetx': ['MNXR100690'],\n",
       "  'bigg': ['HPETOX'],\n",
       "  'deprecated': ['MNXR83123'],\n",
       "  'kegg': nan,\n",
       "  'seed': nan,\n",
       "  'metacyc': nan,\n",
       "  'rhea': nan,\n",
       "  'sabiork': nan,\n",
       "  'reactome': nan},\n",
       " 'MNXR100691': {'metanetx': ['MNXR100691'],\n",
       "  'bigg': ['HPHL', 'HPHLm', 'PRPNCOAHYDm', 'PRPNCOAHYDx'],\n",
       "  'deprecated': ['MNXR4458', 'MNXR83124'],\n",
       "  'kegg': ['R03045'],\n",
       "  'seed': ['rxn02181'],\n",
       "  'metacyc': ['RXN-6383'],\n",
       "  'rhea': ['26518', '26519', '26520', '26521'],\n",
       "  'sabiork': ['2892'],\n",
       "  'reactome': nan},\n",
       " 'MNXR100692': {'metanetx': ['MNXR100692'],\n",
       "  'bigg': ['HPI', 'HPYRI'],\n",
       "  'deprecated': ['MNXR3014'],\n",
       "  'kegg': ['R01394'],\n",
       "  'seed': ['rxn01015'],\n",
       "  'metacyc': ['RXN0-305'],\n",
       "  'rhea': ['11952', '11953', '11954', '11955'],\n",
       "  'sabiork': nan,\n",
       "  'reactome': nan},\n",
       " 'MNXR100693': {'metanetx': ['MNXR100693'],\n",
       "  'bigg': ['HPPK', 'HPPK_1', 'HPPKm'],\n",
       "  'deprecated': ['MNXR83125'],\n",
       "  'kegg': nan,\n",
       "  'seed': nan,\n",
       "  'metacyc': nan,\n",
       "  'rhea': nan,\n",
       "  'sabiork': nan,\n",
       "  'reactome': nan},\n",
       " 'MNXR100694': {'metanetx': ['MNXR100694'],\n",
       "  'bigg': ['HPPK2'],\n",
       "  'deprecated': ['MNXR55638', 'MNXR69255'],\n",
       "  'kegg': ['R03503'],\n",
       "  'seed': ['rxn02503'],\n",
       "  'metacyc': ['H2PTERIDINEPYROPHOSPHOKIN-RXN'],\n",
       "  'rhea': ['11412', '11413', '11414', '11415'],\n",
       "  'sabiork': ['3292'],\n",
       "  'reactome': nan},\n",
       " 'MNXR100695': {'metanetx': ['MNXR100695'],\n",
       "  'bigg': ['HPPPNDO', 'HPPPNDO_1'],\n",
       "  'deprecated': ['MNXR66192',\n",
       "   'MNXR61452',\n",
       "   'MNXR75896',\n",
       "   'MNXR55639',\n",
       "   'MNXR69256'],\n",
       "  'kegg': ['R04376'],\n",
       "  'seed': ['rxn03038'],\n",
       "  'metacyc': ['1.13.11.16-RXN'],\n",
       "  'rhea': ['23840', '23841', '23842', '23843'],\n",
       "  'sabiork': ['4072'],\n",
       "  'reactome': nan},\n",
       " 'MNXR100696': {'metanetx': ['MNXR100696'],\n",
       "  'bigg': ['HPPPNt2r', 'HPPPNt2rpp'],\n",
       "  'deprecated': ['MNXR3009'],\n",
       "  'kegg': nan,\n",
       "  'seed': ['rxn08725', 'rxn10134'],\n",
       "  'metacyc': ['TRANS-RXN-61'],\n",
       "  'rhea': ['28907', '28908', '28909', '28910'],\n",
       "  'sabiork': nan,\n",
       "  'reactome': nan},\n",
       " 'MNXR100697': {'metanetx': ['MNXR100697'],\n",
       "  'bigg': ['HPPPNtex'],\n",
       "  'deprecated': ['MNXR3010'],\n",
       "  'kegg': nan,\n",
       "  'seed': ['rxn08726'],\n",
       "  'metacyc': nan,\n",
       "  'rhea': nan,\n",
       "  'sabiork': nan,\n",
       "  'reactome': nan},\n",
       " 'MNXR100698': {'metanetx': ['MNXR100698'],\n",
       "  'bigg': ['HPROa', 'HPROx', 'HPROxm'],\n",
       "  'deprecated': ['MNXR3011', 'MNXR69257', 'MNXR83126'],\n",
       "  'kegg': ['R03291'],\n",
       "  'seed': ['rxn02356'],\n",
       "  'metacyc': nan,\n",
       "  'rhea': nan,\n",
       "  'sabiork': nan,\n",
       "  'reactome': nan},\n",
       " 'MNXR100699': {'metanetx': ['MNXR100699'],\n",
       "  'bigg': ['HPROb', 'HPROym', 'r0617'],\n",
       "  'deprecated': ['MNXR3012', 'MNXR69258'],\n",
       "  'kegg': ['R03293'],\n",
       "  'seed': ['rxn02358'],\n",
       "  'metacyc': nan,\n",
       "  'rhea': nan,\n",
       "  'sabiork': nan,\n",
       "  'reactome': nan},\n",
       " 'MNXR100700': {'metanetx': ['MNXR100700'],\n",
       "  'bigg': ['HPYRDC', 'HPYRDCm'],\n",
       "  'deprecated': ['MNXR3013'],\n",
       "  'kegg': ['R01393'],\n",
       "  'seed': ['rxn01014'],\n",
       "  'metacyc': ['HYDROXYPYRUVATE-DECARBOXYLASE-RXN'],\n",
       "  'rhea': ['20561', '20562', '20563', '20564'],\n",
       "  'sabiork': nan,\n",
       "  'reactome': nan},\n",
       " 'MNXR100701': {'metanetx': ['MNXR100701'],\n",
       "  'bigg': ['HPYRR2x'],\n",
       "  'deprecated': ['MNXR3015', 'MNXR83128'],\n",
       "  'kegg': nan,\n",
       "  'seed': nan,\n",
       "  'metacyc': nan,\n",
       "  'rhea': nan,\n",
       "  'sabiork': nan,\n",
       "  'reactome': nan},\n",
       " 'MNXR100702': {'metanetx': ['MNXR100702'],\n",
       "  'bigg': ['HPYRtp'],\n",
       "  'deprecated': ['MNXR3017'],\n",
       "  'kegg': nan,\n",
       "  'seed': nan,\n",
       "  'metacyc': nan,\n",
       "  'rhea': nan,\n",
       "  'sabiork': nan,\n",
       "  'reactome': nan},\n",
       " 'MNXR100703': {'metanetx': ['MNXR100703'],\n",
       "  'bigg': ['HQNt6'],\n",
       "  'deprecated': ['MNXR79920', 'MNXR27825'],\n",
       "  'kegg': nan,\n",
       "  'seed': ['rxn05678'],\n",
       "  'metacyc': nan,\n",
       "  'rhea': nan,\n",
       "  'sabiork': nan,\n",
       "  'reactome': nan},\n",
       " 'MNXR100704': {'metanetx': ['MNXR100704'],\n",
       "  'bigg': ['HRETNtn'],\n",
       "  'deprecated': nan,\n",
       "  'kegg': nan,\n",
       "  'seed': nan,\n",
       "  'metacyc': nan,\n",
       "  'rhea': nan,\n",
       "  'sabiork': nan,\n",
       "  'reactome': nan},\n",
       " 'MNXR100705': {'metanetx': ['MNXR100705'],\n",
       "  'bigg': ['HS1ly'],\n",
       "  'deprecated': ['MNXR3018'],\n",
       "  'kegg': nan,\n",
       "  'seed': nan,\n",
       "  'metacyc': nan,\n",
       "  'rhea': nan,\n",
       "  'sabiork': nan,\n",
       "  'reactome': nan},\n",
       " 'MNXR100706': {'metanetx': ['MNXR100706'],\n",
       "  'bigg': ['HS2ly'],\n",
       "  'deprecated': ['MNXR3019'],\n",
       "  'kegg': nan,\n",
       "  'seed': nan,\n",
       "  'metacyc': nan,\n",
       "  'rhea': nan,\n",
       "  'sabiork': nan,\n",
       "  'reactome': nan},\n",
       " 'MNXR100707': {'metanetx': ['MNXR100707'],\n",
       "  'bigg': ['HS3ly'],\n",
       "  'deprecated': ['MNXR3020'],\n",
       "  'kegg': nan,\n",
       "  'seed': nan,\n",
       "  'metacyc': nan,\n",
       "  'rhea': nan,\n",
       "  'sabiork': nan,\n",
       "  'reactome': nan},\n",
       " 'MNXR100708': {'metanetx': ['MNXR100708'],\n",
       "  'bigg': ['HS4ly'],\n",
       "  'deprecated': ['MNXR3021'],\n",
       "  'kegg': nan,\n",
       "  'seed': nan,\n",
       "  'metacyc': nan,\n",
       "  'rhea': nan,\n",
       "  'sabiork': nan,\n",
       "  'reactome': nan},\n",
       " 'MNXR100709': {'metanetx': ['MNXR100709'],\n",
       "  'bigg': ['HSAT1ly'],\n",
       "  'deprecated': ['MNXR3022'],\n",
       "  'kegg': nan,\n",
       "  'seed': nan,\n",
       "  'metacyc': nan,\n",
       "  'rhea': nan,\n",
       "  'sabiork': nan,\n",
       "  'reactome': nan},\n",
       " 'MNXR100710': {'metanetx': ['MNXR100710'],\n",
       "  'bigg': ['HSAT2ly'],\n",
       "  'deprecated': ['MNXR3023'],\n",
       "  'kegg': nan,\n",
       "  'seed': nan,\n",
       "  'metacyc': nan,\n",
       "  'rhea': nan,\n",
       "  'sabiork': nan,\n",
       "  'reactome': nan},\n",
       " 'MNXR100711': {'metanetx': ['MNXR100711'],\n",
       "  'bigg': ['HSAT3ly'],\n",
       "  'deprecated': ['MNXR3024'],\n",
       "  'kegg': nan,\n",
       "  'seed': nan,\n",
       "  'metacyc': nan,\n",
       "  'rhea': nan,\n",
       "  'sabiork': nan,\n",
       "  'reactome': nan},\n",
       " 'MNXR100712': {'metanetx': ['MNXR100712'],\n",
       "  'bigg': ['HSAT4ly'],\n",
       "  'deprecated': ['MNXR3025'],\n",
       "  'kegg': nan,\n",
       "  'seed': nan,\n",
       "  'metacyc': nan,\n",
       "  'rhea': nan,\n",
       "  'sabiork': nan,\n",
       "  'reactome': nan},\n",
       " 'MNXR100713': {'metanetx': ['MNXR100713'],\n",
       "  'bigg': ['HSD11B1r'],\n",
       "  'deprecated': nan,\n",
       "  'kegg': nan,\n",
       "  'seed': nan,\n",
       "  'metacyc': nan,\n",
       "  'rhea': nan,\n",
       "  'sabiork': nan,\n",
       "  'reactome': nan},\n",
       " 'MNXR100714': {'metanetx': ['MNXR100714'],\n",
       "  'bigg': ['HSD11B2r'],\n",
       "  'deprecated': nan,\n",
       "  'kegg': nan,\n",
       "  'seed': nan,\n",
       "  'metacyc': nan,\n",
       "  'rhea': nan,\n",
       "  'sabiork': nan,\n",
       "  'reactome': nan},\n",
       " 'MNXR100715': {'metanetx': ['MNXR100715'],\n",
       "  'bigg': ['HSD17B1', 'HSD17B7r'],\n",
       "  'deprecated': ['MNXR3028'],\n",
       "  'kegg': ['R02353'],\n",
       "  'seed': ['rxn01693'],\n",
       "  'metacyc': nan,\n",
       "  'rhea': ['24616', '24617', '24618', '24619'],\n",
       "  'sabiork': ['2301'],\n",
       "  'reactome': ['R-ATH-5696822',\n",
       "   'R-ATH-6810594',\n",
       "   'R-ATH-804969',\n",
       "   'R-BTA-5693390',\n",
       "   'R-BTA-5696822',\n",
       "   'R-BTA-6810594',\n",
       "   'R-BTA-804969',\n",
       "   'R-BTA-8862137',\n",
       "   'R-CFA-6810594',\n",
       "   'R-CFA-804969',\n",
       "   'R-CFA-8862137',\n",
       "   'R-DDI-5696822',\n",
       "   'R-DDI-6810594',\n",
       "   'R-DDI-804969',\n",
       "   'R-DME-5693390',\n",
       "   'R-DME-5696822',\n",
       "   'R-DME-8862137',\n",
       "   'R-DRE-5696822',\n",
       "   'R-DRE-6810594',\n",
       "   'R-DRE-804969',\n",
       "   'R-DRE-8862137',\n",
       "   'R-GGA-5693390',\n",
       "   'R-GGA-5696822',\n",
       "   'R-GGA-6810594',\n",
       "   'R-GGA-804969',\n",
       "   'R-GGA-8862137',\n",
       "   'R-HSA-5693390',\n",
       "   'R-HSA-5696822',\n",
       "   'R-HSA-6810594',\n",
       "   'R-HSA-804969',\n",
       "   'R-HSA-8862137',\n",
       "   'R-MMU-5693390',\n",
       "   'R-MMU-5696822',\n",
       "   'R-MMU-6810594',\n",
       "   'R-MMU-804969',\n",
       "   'R-MMU-8862137',\n",
       "   'R-OSA-5696822',\n",
       "   'R-OSA-6810594',\n",
       "   'R-OSA-804969',\n",
       "   'R-RNO-5693390',\n",
       "   'R-RNO-5696822',\n",
       "   'R-RNO-6810594',\n",
       "   'R-RNO-804969',\n",
       "   'R-RNO-8862137',\n",
       "   'R-SCE-5693390',\n",
       "   'R-SCE-5696822',\n",
       "   'R-SCE-6810594',\n",
       "   'R-SCE-804969',\n",
       "   'R-SCE-8862137',\n",
       "   'R-SPO-5693390',\n",
       "   'R-SPO-5696822',\n",
       "   'R-SPO-6810594',\n",
       "   'R-SPO-804969',\n",
       "   'R-SSC-5693390',\n",
       "   'R-SSC-6810594',\n",
       "   'R-SSC-804969',\n",
       "   'R-SSC-8862137',\n",
       "   'R-TGU-5693390',\n",
       "   'R-TGU-5696822',\n",
       "   'R-TGU-6810594',\n",
       "   'R-TGU-804969',\n",
       "   'R-TGU-8862137',\n",
       "   'R-XTR-5693390',\n",
       "   'R-XTR-5696822',\n",
       "   'R-XTR-6810594',\n",
       "   'R-XTR-804969',\n",
       "   'R-XTR-8862137']},\n",
       " 'MNXR100716': {'metanetx': ['MNXR100716'],\n",
       "  'bigg': ['HSD17B2r'],\n",
       "  'deprecated': nan,\n",
       "  'kegg': nan,\n",
       "  'seed': nan,\n",
       "  'metacyc': nan,\n",
       "  'rhea': nan,\n",
       "  'sabiork': nan,\n",
       "  'reactome': nan},\n",
       " 'MNXR100717': {'metanetx': ['MNXR100717'],\n",
       "  'bigg': ['HSD17B3r', 'RE2766C'],\n",
       "  'deprecated': nan,\n",
       "  'kegg': nan,\n",
       "  'seed': nan,\n",
       "  'metacyc': nan,\n",
       "  'rhea': nan,\n",
       "  'sabiork': nan,\n",
       "  'reactome': nan},\n",
       " 'MNXR100718': {'metanetx': ['MNXR100718'],\n",
       "  'bigg': ['HSD17B42x'],\n",
       "  'deprecated': ['MNXR31718', 'MNXR69259'],\n",
       "  'kegg': nan,\n",
       "  'seed': nan,\n",
       "  'metacyc': nan,\n",
       "  'rhea': nan,\n",
       "  'sabiork': nan,\n",
       "  'reactome': nan},\n",
       " 'MNXR100719': {'metanetx': ['MNXR100719'],\n",
       "  'bigg': ['HSD17B42x_cho'],\n",
       "  'deprecated': nan,\n",
       "  'kegg': nan,\n",
       "  'seed': nan,\n",
       "  'metacyc': nan,\n",
       "  'rhea': nan,\n",
       "  'sabiork': nan,\n",
       "  'reactome': nan},\n",
       " 'MNXR100720': {'metanetx': ['MNXR100720'],\n",
       "  'bigg': ['HSD17B4x'],\n",
       "  'deprecated': ['MNXR3032'],\n",
       "  'kegg': nan,\n",
       "  'seed': nan,\n",
       "  'metacyc': nan,\n",
       "  'rhea': nan,\n",
       "  'sabiork': nan,\n",
       "  'reactome': nan},\n",
       " 'MNXR100721': {'metanetx': ['MNXR100721'],\n",
       "  'bigg': ['HSD17B4x_cho'],\n",
       "  'deprecated': nan,\n",
       "  'kegg': nan,\n",
       "  'seed': nan,\n",
       "  'metacyc': nan,\n",
       "  'rhea': nan,\n",
       "  'sabiork': nan,\n",
       "  'reactome': nan},\n",
       " 'MNXR100722': {'metanetx': ['MNXR100722'],\n",
       "  'bigg': ['HSD17B8r'],\n",
       "  'deprecated': ['MNXR3033'],\n",
       "  'kegg': ['R02352'],\n",
       "  'seed': ['rxn01692'],\n",
       "  'metacyc': nan,\n",
       "  'rhea': ['24612', '24613', '24614', '24615'],\n",
       "  'sabiork': ['2300'],\n",
       "  'reactome': nan},\n",
       " 'MNXR100723': {'metanetx': ['MNXR100723'],\n",
       "  'bigg': ['HSD17B9r'],\n",
       "  'deprecated': ['MNXR3034', 'MNXR69260'],\n",
       "  'kegg': nan,\n",
       "  'seed': nan,\n",
       "  'metacyc': nan,\n",
       "  'rhea': nan,\n",
       "  'sabiork': nan,\n",
       "  'reactome': nan},\n",
       " 'MNXR100724': {'metanetx': ['MNXR100724'],\n",
       "  'bigg': ['HSD3A1r'],\n",
       "  'deprecated': ['MNXR3035'],\n",
       "  'kegg': nan,\n",
       "  'seed': nan,\n",
       "  'metacyc': nan,\n",
       "  'rhea': nan,\n",
       "  'sabiork': nan,\n",
       "  'reactome': nan},\n",
       " 'MNXR100725': {'metanetx': ['MNXR100725'],\n",
       "  'bigg': ['HSD3A2r'],\n",
       "  'deprecated': ['MNXR3036'],\n",
       "  'kegg': nan,\n",
       "  'seed': nan,\n",
       "  'metacyc': nan,\n",
       "  'rhea': nan,\n",
       "  'sabiork': nan,\n",
       "  'reactome': nan},\n",
       " 'MNXR100726': {'metanetx': ['MNXR100726'],\n",
       "  'bigg': ['HSD3B11', 'HSD3B11r'],\n",
       "  'deprecated': nan,\n",
       "  'kegg': nan,\n",
       "  'seed': nan,\n",
       "  'metacyc': nan,\n",
       "  'rhea': nan,\n",
       "  'sabiork': nan,\n",
       "  'reactome': nan},\n",
       " 'MNXR100727': {'metanetx': ['MNXR100727'],\n",
       "  'bigg': ['HSD3B12r'],\n",
       "  'deprecated': nan,\n",
       "  'kegg': nan,\n",
       "  'seed': nan,\n",
       "  'metacyc': nan,\n",
       "  'rhea': nan,\n",
       "  'sabiork': nan,\n",
       "  'reactome': nan},\n",
       " 'MNXR100728': {'metanetx': ['MNXR100728'],\n",
       "  'bigg': ['HSD3B13', 'HSD3B13r'],\n",
       "  'deprecated': nan,\n",
       "  'kegg': nan,\n",
       "  'seed': nan,\n",
       "  'metacyc': nan,\n",
       "  'rhea': nan,\n",
       "  'sabiork': nan,\n",
       "  'reactome': nan},\n",
       " 'MNXR100729': {'metanetx': ['MNXR100729'],\n",
       "  'bigg': ['HSD3B2r'],\n",
       "  'deprecated': ['MNXR3040', 'MNXR69261'],\n",
       "  'kegg': nan,\n",
       "  'seed': nan,\n",
       "  'metacyc': nan,\n",
       "  'rhea': nan,\n",
       "  'sabiork': nan,\n",
       "  'reactome': nan},\n",
       " 'MNXR100730': {'metanetx': ['MNXR100730'],\n",
       "  'bigg': ['HSD3B3r'],\n",
       "  'deprecated': ['MNXR3041', 'MNXR69262'],\n",
       "  'kegg': nan,\n",
       "  'seed': nan,\n",
       "  'metacyc': nan,\n",
       "  'rhea': nan,\n",
       "  'sabiork': nan,\n",
       "  'reactome': nan},\n",
       " 'MNXR100731': {'metanetx': ['MNXR100731'],\n",
       "  'bigg': ['HSD3B7', 'RE1796C'],\n",
       "  'deprecated': nan,\n",
       "  'kegg': nan,\n",
       "  'seed': nan,\n",
       "  'metacyc': nan,\n",
       "  'rhea': nan,\n",
       "  'sabiork': nan,\n",
       "  'reactome': nan},\n",
       " 'MNXR100732': {'metanetx': ['MNXR100732'],\n",
       "  'bigg': ['HSD3B7P'],\n",
       "  'deprecated': nan,\n",
       "  'kegg': nan,\n",
       "  'seed': nan,\n",
       "  'metacyc': nan,\n",
       "  'rhea': nan,\n",
       "  'sabiork': nan,\n",
       "  'reactome': nan},\n",
       " 'MNXR100733': {'metanetx': ['MNXR100733'],\n",
       "  'bigg': ['HSDA'],\n",
       "  'deprecated': ['MNXR5580'],\n",
       "  'kegg': nan,\n",
       "  'seed': nan,\n",
       "  'metacyc': ['HOMOSERDEAM-RXN'],\n",
       "  'rhea': ['24923', '24924', '24925', '24926'],\n",
       "  'sabiork': nan,\n",
       "  'reactome': nan},\n",
       " 'MNXR100734': {'metanetx': ['MNXR100734'],\n",
       "  'bigg': ['HSDH', 'HSDy', 'HSDyi'],\n",
       "  'deprecated': ['MNXR3045'],\n",
       "  'kegg': ['R01775'],\n",
       "  'seed': ['rxn01302'],\n",
       "  'metacyc': nan,\n",
       "  'rhea': ['15761', '15762', '15763', '15764'],\n",
       "  'sabiork': ['1868'],\n",
       "  'reactome': nan},\n",
       " 'MNXR100735': {'metanetx': ['MNXR100735'],\n",
       "  'bigg': ['HSDx', 'HSDxi'],\n",
       "  'deprecated': ['MNXR3044'],\n",
       "  'kegg': ['R01773'],\n",
       "  'seed': ['rxn01301'],\n",
       "  'metacyc': nan,\n",
       "  'rhea': ['15757', '15758', '15759', '15760'],\n",
       "  'sabiork': nan,\n",
       "  'reactome': nan},\n",
       " 'MNXR100736': {'metanetx': ['MNXR100736'],\n",
       "  'bigg': ['HSERTA'],\n",
       "  'deprecated': ['MNXR3046'],\n",
       "  'kegg': ['R01776'],\n",
       "  'seed': ['rxn01303'],\n",
       "  'metacyc': ['HOMOSERINE-O-ACETYLTRANSFERASE-RXN'],\n",
       "  'rhea': ['13701', '13702', '13703', '13704'],\n",
       "  'sabiork': nan,\n",
       "  'reactome': nan},\n",
       " 'MNXR100737': {'metanetx': ['MNXR100737'],\n",
       "  'bigg': ['HSK', 'HSK_1'],\n",
       "  'deprecated': ['MNXR3047'],\n",
       "  'kegg': ['R01771'],\n",
       "  'seed': ['rxn01300'],\n",
       "  'metacyc': ['HOMOSERKIN-RXN'],\n",
       "  'rhea': ['13985', '13986', '13987', '13988'],\n",
       "  'sabiork': ['1866'],\n",
       "  'reactome': nan},\n",
       " 'MNXR100738': {'metanetx': ['MNXR100738'],\n",
       "  'bigg': ['HSPASEly'],\n",
       "  'deprecated': ['MNXR3048', 'MNXR69263', 'MNXR83129'],\n",
       "  'kegg': nan,\n",
       "  'seed': nan,\n",
       "  'metacyc': nan,\n",
       "  'rhea': nan,\n",
       "  'sabiork': nan,\n",
       "  'reactome': nan},\n",
       " 'MNXR100739': {'metanetx': ['MNXR100739'],\n",
       "  'bigg': ['HSPGt', 'HSPGtly'],\n",
       "  'deprecated': ['MNXR3049', 'MNXR69264'],\n",
       "  'kegg': nan,\n",
       "  'seed': nan,\n",
       "  'metacyc': nan,\n",
       "  'rhea': nan,\n",
       "  'sabiork': nan,\n",
       "  'reactome': nan},\n",
       " 'MNXR100740': {'metanetx': ['MNXR100740'],\n",
       "  'bigg': ['HSPMS'],\n",
       "  'deprecated': ['MNXR3050', 'MNXR83130'],\n",
       "  'kegg': ['R00018'],\n",
       "  'seed': ['rxn00015'],\n",
       "  'metacyc': ['2.5.1.44-RXN'],\n",
       "  'rhea': ['18645', '18646', '18647', '18648'],\n",
       "  'sabiork': nan,\n",
       "  'reactome': nan},\n",
       " 'MNXR100741': {'metanetx': ['MNXR100741'],\n",
       "  'bigg': ['HSST'],\n",
       "  'deprecated': ['MNXR61980', 'MNXR3051'],\n",
       "  'kegg': ['R01777'],\n",
       "  'seed': ['rxn01304'],\n",
       "  'metacyc': ['HOMSUCTRAN-RXN'],\n",
       "  'rhea': ['22008', '22009', '22010', '22011'],\n",
       "  'sabiork': nan,\n",
       "  'reactome': nan},\n",
       " 'MNXR100742': {'metanetx': ['MNXR100742'],\n",
       "  'bigg': ['HTAXOLte'],\n",
       "  'deprecated': ['MNXR3053'],\n",
       "  'kegg': nan,\n",
       "  'seed': nan,\n",
       "  'metacyc': nan,\n",
       "  'rhea': nan,\n",
       "  'sabiork': nan,\n",
       "  'reactome': nan},\n",
       " 'MNXR100743': {'metanetx': ['MNXR100743'],\n",
       "  'bigg': ['HTDCACBP'],\n",
       "  'deprecated': nan,\n",
       "  'kegg': nan,\n",
       "  'seed': nan,\n",
       "  'metacyc': nan,\n",
       "  'rhea': nan,\n",
       "  'sabiork': nan,\n",
       "  'reactome': nan},\n",
       " 'MNXR100744': {'metanetx': ['MNXR100744'],\n",
       "  'bigg': ['HTDCRNe'],\n",
       "  'deprecated': nan,\n",
       "  'kegg': nan,\n",
       "  'seed': nan,\n",
       "  'metacyc': nan,\n",
       "  'rhea': nan,\n",
       "  'sabiork': nan,\n",
       "  'reactome': nan},\n",
       " 'MNXR100745': {'metanetx': ['MNXR100745'],\n",
       "  'bigg': ['HVCD'],\n",
       "  'deprecated': ['MNXR83131'],\n",
       "  'kegg': nan,\n",
       "  'seed': nan,\n",
       "  'metacyc': nan,\n",
       "  'rhea': nan,\n",
       "  'sabiork': nan,\n",
       "  'reactome': nan},\n",
       " 'MNXR100746': {'metanetx': ['MNXR100746'],\n",
       "  'bigg': ['HXAD', 'r0013'],\n",
       "  'deprecated': nan,\n",
       "  'kegg': nan,\n",
       "  'seed': nan,\n",
       "  'metacyc': nan,\n",
       "  'rhea': nan,\n",
       "  'sabiork': nan,\n",
       "  'reactome': nan},\n",
       " 'MNXR100747': {'metanetx': ['MNXR100747'],\n",
       "  'bigg': ['HXAND'],\n",
       "  'deprecated': ['MNXR91562', 'MNXR3054'],\n",
       "  'kegg': ['R01768'],\n",
       "  'seed': ['rxn01297'],\n",
       "  'metacyc': ['RXN-7682'],\n",
       "  'rhea': ['24670', '24671', '24672', '24673'],\n",
       "  'sabiork': ['323'],\n",
       "  'reactome': ['R-GGA-421161']},\n",
       " 'MNXR100748': {'metanetx': ['MNXR100748'],\n",
       "  'bigg': ['HXANt2pp', 'HXANt2r'],\n",
       "  'deprecated': ['MNXR3055'],\n",
       "  'kegg': nan,\n",
       "  'seed': ['rxn05201'],\n",
       "  'metacyc': nan,\n",
       "  'rhea': nan,\n",
       "  'sabiork': nan,\n",
       "  'reactome': nan},\n",
       " 'MNXR100749': {'metanetx': ['MNXR100749'],\n",
       "  'bigg': ['HXANtl', 'HXANtx', 'HYXNt', 'HYXNtex', 'HYXNtpp'],\n",
       "  'deprecated': ['MNXR3056'],\n",
       "  'kegg': nan,\n",
       "  'seed': ['rxn08737', 'rxn08738', 'rxn10143'],\n",
       "  'metacyc': ['TRANS-RXN0-562', 'TRANS-RXN0-579'],\n",
       "  'rhea': nan,\n",
       "  'sabiork': nan,\n",
       "  'reactome': nan},\n",
       " 'MNXR100750': {'metanetx': ['MNXR100750'],\n",
       "  'bigg': ['HXAtex'],\n",
       "  'deprecated': ['MNXR3057'],\n",
       "  'kegg': nan,\n",
       "  'seed': ['rxn08732'],\n",
       "  'metacyc': nan,\n",
       "  'rhea': nan,\n",
       "  'sabiork': nan,\n",
       "  'reactome': nan},\n",
       " 'MNXR100751': {'metanetx': ['MNXR100751'],\n",
       "  'bigg': ['HXCT'],\n",
       "  'deprecated': ['MNXR3058'],\n",
       "  'kegg': nan,\n",
       "  'seed': nan,\n",
       "  'metacyc': nan,\n",
       "  'rhea': nan,\n",
       "  'sabiork': nan,\n",
       "  'reactome': nan},\n",
       " 'MNXR100752': {'metanetx': ['MNXR100752'],\n",
       "  'bigg': ['HXPRT'],\n",
       "  'deprecated': ['MNXR55640', 'MNXR69265'],\n",
       "  'kegg': ['R01132'],\n",
       "  'seed': ['rxn00836'],\n",
       "  'metacyc': ['HYPOXANPRIBOSYLTRAN-RXN'],\n",
       "  'rhea': ['17973', '17974', '17975', '17976'],\n",
       "  'sabiork': ['81'],\n",
       "  'reactome': nan},\n",
       " 'MNXR100753': {'metanetx': ['MNXR100753'],\n",
       "  'bigg': ['HYD1', 'HYD1pp'],\n",
       "  'deprecated': ['MNXR55641', 'MNXR69266'],\n",
       "  'kegg': nan,\n",
       "  'seed': ['rxn08734', 'rxn10118'],\n",
       "  'metacyc': nan,\n",
       "  'rhea': ['29059#1', '29060#1', '29061#1', '29062#1'],\n",
       "  'sabiork': nan,\n",
       "  'reactome': nan},\n",
       " 'MNXR100754': {'metanetx': ['MNXR100754'],\n",
       "  'bigg': ['HYD2', 'HYD2pp'],\n",
       "  'deprecated': ['MNXR55642', 'MNXR69267'],\n",
       "  'kegg': nan,\n",
       "  'seed': ['rxn08735', 'rxn10119'],\n",
       "  'metacyc': nan,\n",
       "  'rhea': ['29051#1', '29052#1', '29053#1', '29054#1'],\n",
       "  'sabiork': nan,\n",
       "  'reactome': nan},\n",
       " 'MNXR100755': {'metanetx': ['MNXR100755'],\n",
       "  'bigg': ['HYD3', 'HYD3pp'],\n",
       "  'deprecated': ['MNXR55643'],\n",
       "  'kegg': nan,\n",
       "  'seed': nan,\n",
       "  'metacyc': nan,\n",
       "  'rhea': nan,\n",
       "  'sabiork': nan,\n",
       "  'reactome': nan},\n",
       " 'MNXR100756': {'metanetx': ['MNXR100756'],\n",
       "  'bigg': ['HYD4pp'],\n",
       "  'deprecated': ['MNXR83132'],\n",
       "  'kegg': nan,\n",
       "  'seed': nan,\n",
       "  'metacyc': nan,\n",
       "  'rhea': nan,\n",
       "  'sabiork': nan,\n",
       "  'reactome': nan},\n",
       " 'MNXR100757': {'metanetx': ['MNXR100757'],\n",
       "  'bigg': ['HYDA', 'HYDAh', 'HYDAm'],\n",
       "  'deprecated': ['MNXR70976', 'MNXR84728', 'MNXR83133', 'MNXR56779'],\n",
       "  'kegg': ['R00019'],\n",
       "  'seed': ['rxn05759'],\n",
       "  'metacyc': ['HYDROG-RXN'],\n",
       "  'rhea': nan,\n",
       "  'sabiork': nan,\n",
       "  'reactome': nan},\n",
       " 'MNXR100758': {'metanetx': ['MNXR100758'],\n",
       "  'bigg': ['HYDA1'],\n",
       "  'deprecated': ['MNXR55644', 'MNXR69269'],\n",
       "  'kegg': nan,\n",
       "  'seed': ['rxn10968'],\n",
       "  'metacyc': nan,\n",
       "  'rhea': nan,\n",
       "  'sabiork': nan,\n",
       "  'reactome': nan},\n",
       " 'MNXR100759': {'metanetx': ['MNXR100759'],\n",
       "  'bigg': ['HYDFDN'],\n",
       "  'deprecated': ['MNXR83134'],\n",
       "  'kegg': nan,\n",
       "  'seed': nan,\n",
       "  'metacyc': nan,\n",
       "  'rhea': nan,\n",
       "  'sabiork': nan,\n",
       "  'reactome': nan},\n",
       " 'MNXR100760': {'metanetx': ['MNXR100760'],\n",
       "  'bigg': ['HYDFDN2r'],\n",
       "  'deprecated': ['MNXR83135'],\n",
       "  'kegg': nan,\n",
       "  'seed': nan,\n",
       "  'metacyc': nan,\n",
       "  'rhea': nan,\n",
       "  'sabiork': nan,\n",
       "  'reactome': nan},\n",
       " 'MNXR100761': {'metanetx': ['MNXR100761'],\n",
       "  'bigg': ['HYDFDi'],\n",
       "  'deprecated': ['MNXR83136'],\n",
       "  'kegg': nan,\n",
       "  'seed': nan,\n",
       "  'metacyc': nan,\n",
       "  'rhea': nan,\n",
       "  'sabiork': nan,\n",
       "  'reactome': nan},\n",
       " 'MNXR100762': {'metanetx': ['MNXR100762'],\n",
       "  'bigg': ['HYNE'],\n",
       "  'deprecated': ['MNXR73625', 'MNXR14553', 'MNXR83137'],\n",
       "  'kegg': ['R00270'],\n",
       "  'seed': ['rxn00201'],\n",
       "  'metacyc': ['RXN-7594'],\n",
       "  'rhea': nan,\n",
       "  'sabiork': nan,\n",
       "  'reactome': nan},\n",
       " 'MNXR100763': {'metanetx': ['MNXR100763'],\n",
       "  'bigg': ['HYPOE'],\n",
       "  'deprecated': ['MNXR3064', 'MNXR77375'],\n",
       "  'kegg': ['R02494'],\n",
       "  'seed': ['rxn01808'],\n",
       "  'metacyc': ['RXN-14046'],\n",
       "  'rhea': ['25135', '25136', '25137', '25138'],\n",
       "  'sabiork': ['2424'],\n",
       "  'reactome': nan},\n",
       " 'MNXR100764': {'metanetx': ['MNXR100764'],\n",
       "  'bigg': ['HYPTROX', 'HYPTROX_cho', 'HYPTROXe'],\n",
       "  'deprecated': ['MNXR3065', 'MNXR69270'],\n",
       "  'kegg': nan,\n",
       "  'seed': nan,\n",
       "  'metacyc': nan,\n",
       "  'rhea': nan,\n",
       "  'sabiork': nan,\n",
       "  'reactome': nan},\n",
       " 'MNXR100765': {'metanetx': ['MNXR100765'],\n",
       "  'bigg': ['Ht',\n",
       "   'Ht_1',\n",
       "   'Htex',\n",
       "   'Htg',\n",
       "   'Htm',\n",
       "   'Htm_cho',\n",
       "   'Htr',\n",
       "   'Hts',\n",
       "   'Htu',\n",
       "   'Htx'],\n",
       "  'deprecated': ['MNXR91332'],\n",
       "  'kegg': nan,\n",
       "  'seed': ['rxn08730', 'rxn11009'],\n",
       "  'metacyc': ['RXN-14452'],\n",
       "  'rhea': ['34979', '34980', '34981', '34982'],\n",
       "  'sabiork': nan,\n",
       "  'reactome': ['R-ATH-170026',\n",
       "   'R-ATH-74723',\n",
       "   'R-BTA-170026',\n",
       "   'R-BTA-2534378',\n",
       "   'R-BTA-74723',\n",
       "   'R-CEL-170026',\n",
       "   'R-CEL-74723',\n",
       "   'R-CFA-170026',\n",
       "   'R-CFA-2534378',\n",
       "   'R-CFA-74723',\n",
       "   'R-DDI-74723',\n",
       "   'R-DME-170026',\n",
       "   'R-DME-74723',\n",
       "   'R-DRE-170026',\n",
       "   'R-DRE-2534378',\n",
       "   'R-DRE-74723',\n",
       "   'R-GGA-170026',\n",
       "   'R-GGA-2534378',\n",
       "   'R-GGA-74723',\n",
       "   'R-HSA-170026',\n",
       "   'R-HSA-2534378',\n",
       "   'R-HSA-74723',\n",
       "   'R-MMU-170026',\n",
       "   'R-MMU-2534378',\n",
       "   'R-MMU-74723',\n",
       "   'R-OSA-170026',\n",
       "   'R-PFA-74723',\n",
       "   'R-RNO-170026',\n",
       "   'R-RNO-2534378',\n",
       "   'R-RNO-74723',\n",
       "   'R-SCE-170026',\n",
       "   'R-SCE-74723',\n",
       "   'R-SPO-74723',\n",
       "   'R-SSC-170026',\n",
       "   'R-SSC-2534378',\n",
       "   'R-SSC-74723',\n",
       "   'R-TGU-170026',\n",
       "   'R-TGU-2534378',\n",
       "   'R-TGU-74723',\n",
       "   'R-XTR-170026',\n",
       "   'R-XTR-2534378',\n",
       "   'R-XTR-74723']},\n",
       " 'MNXR100766': {'metanetx': ['MNXR100766'],\n",
       "  'bigg': ['I2FE2SR'],\n",
       "  'deprecated': ['MNXR83138'],\n",
       "  'kegg': nan,\n",
       "  'seed': nan,\n",
       "  'metacyc': nan,\n",
       "  'rhea': nan,\n",
       "  'sabiork': nan,\n",
       "  'reactome': nan},\n",
       " 'MNXR100767': {'metanetx': ['MNXR100767'],\n",
       "  'bigg': ['I2FE2SS'],\n",
       "  'deprecated': ['MNXR83139'],\n",
       "  'kegg': nan,\n",
       "  'seed': nan,\n",
       "  'metacyc': nan,\n",
       "  'rhea': nan,\n",
       "  'sabiork': nan,\n",
       "  'reactome': nan},\n",
       " 'MNXR100768': {'metanetx': ['MNXR100768'],\n",
       "  'bigg': ['I2FE2SS2'],\n",
       "  'deprecated': ['MNXR83140'],\n",
       "  'kegg': nan,\n",
       "  'seed': nan,\n",
       "  'metacyc': nan,\n",
       "  'rhea': nan,\n",
       "  'sabiork': nan,\n",
       "  'reactome': nan},\n",
       " 'MNXR100769': {'metanetx': ['MNXR100769'],\n",
       "  'bigg': ['I2FE2ST'],\n",
       "  'deprecated': ['MNXR83141'],\n",
       "  'kegg': nan,\n",
       "  'seed': nan,\n",
       "  'metacyc': nan,\n",
       "  'rhea': nan,\n",
       "  'sabiork': nan,\n",
       "  'reactome': nan},\n",
       " 'MNXR100770': {'metanetx': ['MNXR100770'],\n",
       "  'bigg': ['I4FE4SR'],\n",
       "  'deprecated': ['MNXR83142'],\n",
       "  'kegg': nan,\n",
       "  'seed': nan,\n",
       "  'metacyc': nan,\n",
       "  'rhea': nan,\n",
       "  'sabiork': nan,\n",
       "  'reactome': nan},\n",
       " 'MNXR100771': {'metanetx': ['MNXR100771'],\n",
       "  'bigg': ['I4FE4ST'],\n",
       "  'deprecated': ['MNXR83143'],\n",
       "  'kegg': nan,\n",
       "  'seed': nan,\n",
       "  'metacyc': nan,\n",
       "  'rhea': nan,\n",
       "  'sabiork': nan,\n",
       "  'reactome': nan},\n",
       " 'MNXR100772': {'metanetx': ['MNXR100772'],\n",
       "  'bigg': ['IACGAMS'],\n",
       "  'deprecated': ['MNXR55645'],\n",
       "  'kegg': nan,\n",
       "  'seed': ['rxn10801'],\n",
       "  'metacyc': nan,\n",
       "  'rhea': nan,\n",
       "  'sabiork': nan,\n",
       "  'reactome': nan},\n",
       " 'MNXR100773': {'metanetx': ['MNXR100773'],\n",
       "  'bigg': ['IAGT'],\n",
       "  'deprecated': ['MNXR61524', 'MNXR57050'],\n",
       "  'kegg': ['R01192', 'R06214'],\n",
       "  'seed': ['rxn00888'],\n",
       "  'metacyc': ['2.4.1.123-RXN'],\n",
       "  'rhea': ['12464', '12465', '12466', '12467'],\n",
       "  'sabiork': nan,\n",
       "  'reactome': nan},\n",
       " 'MNXR100774': {'metanetx': ['MNXR100774'],\n",
       "  'bigg': ['IAMACt'],\n",
       "  'deprecated': ['MNXR29888'],\n",
       "  'kegg': nan,\n",
       "  'seed': ['rxn13315'],\n",
       "  'metacyc': nan,\n",
       "  'rhea': nan,\n",
       "  'sabiork': nan,\n",
       "  'reactome': nan},\n",
       " 'MNXR100775': {'metanetx': ['MNXR100775'],\n",
       "  'bigg': ['IAMOHt', 'IAMOHtm'],\n",
       "  'deprecated': ['MNXR29889'],\n",
       "  'kegg': nan,\n",
       "  'seed': ['rxn13316', 'rxn13317'],\n",
       "  'metacyc': nan,\n",
       "  'rhea': nan,\n",
       "  'sabiork': nan,\n",
       "  'reactome': nan},\n",
       " 'MNXR100776': {'metanetx': ['MNXR100776'],\n",
       "  'bigg': ['IBPHn', 'MI34PP'],\n",
       "  'deprecated': nan,\n",
       "  'kegg': nan,\n",
       "  'seed': nan,\n",
       "  'metacyc': nan,\n",
       "  'rhea': nan,\n",
       "  'sabiork': nan,\n",
       "  'reactome': nan},\n",
       " 'MNXR100777': {'metanetx': ['MNXR100777'],\n",
       "  'bigg': ['IBTMr'],\n",
       "  'deprecated': ['MNXR8579'],\n",
       "  'kegg': ['R01181'],\n",
       "  'seed': ['rxn00877'],\n",
       "  'metacyc': ['ISOBUTYRYL-COA-MUTASE-RXN'],\n",
       "  'rhea': ['13141', '13142', '13143', '13144'],\n",
       "  'sabiork': nan,\n",
       "  'reactome': nan},\n",
       " 'MNXR100778': {'metanetx': ['MNXR100778'],\n",
       "  'bigg': ['IBTtex'],\n",
       "  'deprecated': nan,\n",
       "  'kegg': nan,\n",
       "  'seed': nan,\n",
       "  'metacyc': nan,\n",
       "  'rhea': nan,\n",
       "  'sabiork': nan,\n",
       "  'reactome': nan},\n",
       " 'MNXR100779': {'metanetx': ['MNXR100779'],\n",
       "  'bigg': ['IBUTACt'],\n",
       "  'deprecated': ['MNXR81047', 'MNXR29890'],\n",
       "  'kegg': nan,\n",
       "  'seed': ['rxn13318'],\n",
       "  'metacyc': nan,\n",
       "  'rhea': nan,\n",
       "  'sabiork': nan,\n",
       "  'reactome': nan},\n",
       " 'MNXR100780': {'metanetx': ['MNXR100780'],\n",
       "  'bigg': ['IBUTOHt', 'IBUTOHtm'],\n",
       "  'deprecated': ['MNXR29891'],\n",
       "  'kegg': nan,\n",
       "  'seed': ['rxn13319', 'rxn13320'],\n",
       "  'metacyc': nan,\n",
       "  'rhea': nan,\n",
       "  'sabiork': nan,\n",
       "  'reactome': nan},\n",
       " 'MNXR100781': {'metanetx': ['MNXR100781'],\n",
       "  'bigg': ['ICDHhr', 'ICDHym', 'ICDHyp', 'ICDHyr'],\n",
       "  'deprecated': ['MNXR31729'],\n",
       "  'kegg': ['R00267'],\n",
       "  'seed': ['rxn00198'],\n",
       "  'metacyc': nan,\n",
       "  'rhea': ['19629', '19630', '19631', '19632'],\n",
       "  'sabiork': ['269'],\n",
       "  'reactome': nan},\n",
       " 'MNXR100782': {'metanetx': ['MNXR100782'],\n",
       "  'bigg': ['ICDHx', 'ICDHxm'],\n",
       "  'deprecated': nan,\n",
       "  'kegg': ['R00709'],\n",
       "  'seed': ['rxn00505'],\n",
       "  'metacyc': nan,\n",
       "  'rhea': nan,\n",
       "  'sabiork': ['270'],\n",
       "  'reactome': nan},\n",
       " 'MNXR100783': {'metanetx': ['MNXR100783'],\n",
       "  'bigg': ['ICH', 'IMPC'],\n",
       "  'deprecated': ['MNXR3099'],\n",
       "  'kegg': ['R01127'],\n",
       "  'seed': ['rxn00832'],\n",
       "  'metacyc': ['IMPCYCLOHYDROLASE-RXN'],\n",
       "  'rhea': ['18445', '18446', '18447', '18448'],\n",
       "  'sabiork': ['123'],\n",
       "  'reactome': ['R-ATH-73797',\n",
       "   'R-BTA-73797',\n",
       "   'R-CFA-73797',\n",
       "   'R-DDI-73797',\n",
       "   'R-DME-73797',\n",
       "   'R-DRE-73797',\n",
       "   'R-GGA-419253',\n",
       "   'R-GGA-73797',\n",
       "   'R-HSA-73797',\n",
       "   'R-MMU-73797',\n",
       "   'R-OSA-73797',\n",
       "   'R-RNO-73797',\n",
       "   'R-SCE-73797',\n",
       "   'R-SPO-73797',\n",
       "   'R-SSC-73797',\n",
       "   'R-TGU-73797',\n",
       "   'R-XTR-73797']},\n",
       " 'MNXR100784': {'metanetx': ['MNXR100784'],\n",
       "  'bigg': ['ICHORS'],\n",
       "  'deprecated': ['MNXR3070'],\n",
       "  'kegg': ['R01717'],\n",
       "  'seed': ['rxn01258'],\n",
       "  'metacyc': ['ISOCHORSYN-RXN'],\n",
       "  'rhea': ['18985', '18986', '18987', '18988'],\n",
       "  'sabiork': ['1829'],\n",
       "  'reactome': nan},\n",
       " 'MNXR100785': {'metanetx': ['MNXR100785'],\n",
       "  'bigg': ['ICHORT'],\n",
       "  'deprecated': ['MNXR3071', 'MNXR74013'],\n",
       "  'kegg': ['R03037'],\n",
       "  'seed': ['rxn02177'],\n",
       "  'metacyc': ['ISOCHORMAT-RXN'],\n",
       "  'rhea': ['11112', '11113', '11114', '11115'],\n",
       "  'sabiork': ['2886'],\n",
       "  'reactome': nan},\n",
       " 'MNXR100786': {'metanetx': ['MNXR100786'],\n",
       "  'bigg': ['ICITt10'],\n",
       "  'deprecated': ['MNXR42959'],\n",
       "  'kegg': nan,\n",
       "  'seed': ['rxn05589'],\n",
       "  'metacyc': nan,\n",
       "  'rhea': nan,\n",
       "  'sabiork': nan,\n",
       "  'reactome': nan},\n",
       " 'MNXR100787': {'metanetx': ['MNXR100787'],\n",
       "  'bigg': ['ICITt2', 'ICITt_kt'],\n",
       "  'deprecated': nan,\n",
       "  'kegg': nan,\n",
       "  'seed': ['rxn05590', 'rxn12802'],\n",
       "  'metacyc': nan,\n",
       "  'rhea': nan,\n",
       "  'sabiork': nan,\n",
       "  'reactome': nan},\n",
       " 'MNXR100788': {'metanetx': ['MNXR100788'],\n",
       "  'bigg': ['ICITtex', 'ICITtupp'],\n",
       "  'deprecated': ['MNXR31732'],\n",
       "  'kegg': nan,\n",
       "  'seed': ['rxn12803'],\n",
       "  'metacyc': nan,\n",
       "  'rhea': nan,\n",
       "  'sabiork': nan,\n",
       "  'reactome': nan},\n",
       " 'MNXR100789': {'metanetx': ['MNXR100789'],\n",
       "  'bigg': ['ICL', 'ICL_1'],\n",
       "  'deprecated': ['MNXR31733'],\n",
       "  'kegg': ['R00479'],\n",
       "  'seed': ['rxn00336'],\n",
       "  'metacyc': nan,\n",
       "  'rhea': ['13245', '13246', '13247', '13248'],\n",
       "  'sabiork': ['911'],\n",
       "  'reactome': nan},\n",
       " 'MNXR100790': {'metanetx': ['MNXR100790'],\n",
       "  'bigg': ['ICYSDS'],\n",
       "  'deprecated': ['MNXR83144'],\n",
       "  'kegg': nan,\n",
       "  'seed': nan,\n",
       "  'metacyc': nan,\n",
       "  'rhea': nan,\n",
       "  'sabiork': nan,\n",
       "  'reactome': nan},\n",
       " 'MNXR100791': {'metanetx': ['MNXR100791'],\n",
       "  'bigg': ['ID3ACALDt', 'ID3ACALDtm'],\n",
       "  'deprecated': ['MNXR3075'],\n",
       "  'kegg': nan,\n",
       "  'seed': ['rxn09742', 'rxn10831'],\n",
       "  'metacyc': nan,\n",
       "  'rhea': nan,\n",
       "  'sabiork': nan,\n",
       "  'reactome': nan},\n",
       " 'MNXR100792': {'metanetx': ['MNXR100792'],\n",
       "  'bigg': ['IDHPOXOX2b'],\n",
       "  'deprecated': nan,\n",
       "  'kegg': nan,\n",
       "  'seed': nan,\n",
       "  'metacyc': nan,\n",
       "  'rhea': nan,\n",
       "  'sabiork': nan,\n",
       "  'reactome': nan},\n",
       " 'MNXR100793': {'metanetx': ['MNXR100793'],\n",
       "  'bigg': ['IDHPOXOX3'],\n",
       "  'deprecated': nan,\n",
       "  'kegg': nan,\n",
       "  'seed': nan,\n",
       "  'metacyc': nan,\n",
       "  'rhea': nan,\n",
       "  'sabiork': nan,\n",
       "  'reactome': nan},\n",
       " 'MNXR100794': {'metanetx': ['MNXR100794'],\n",
       "  'bigg': ['IDHPOXOX4'],\n",
       "  'deprecated': ['MNXR55646', 'MNXR69271'],\n",
       "  'kegg': nan,\n",
       "  'seed': nan,\n",
       "  'metacyc': nan,\n",
       "  'rhea': nan,\n",
       "  'sabiork': nan,\n",
       "  'reactome': nan},\n",
       " 'MNXR100795': {'metanetx': ['MNXR100795'],\n",
       "  'bigg': ['IDHPOXOXb'],\n",
       "  'deprecated': nan,\n",
       "  'kegg': nan,\n",
       "  'seed': nan,\n",
       "  'metacyc': nan,\n",
       "  'rhea': nan,\n",
       "  'sabiork': nan,\n",
       "  'reactome': nan},\n",
       " 'MNXR100796': {'metanetx': ['MNXR100796'],\n",
       "  'bigg': ['IDIh', 'IPDDI', 'IPDDIx'],\n",
       "  'deprecated': ['MNXR69289'],\n",
       "  'kegg': ['R01123'],\n",
       "  'seed': ['rxn00830'],\n",
       "  'metacyc': ['IPPISOM-RXN'],\n",
       "  'rhea': ['23284', '23285', '23286', '23287'],\n",
       "  'sabiork': ['1382'],\n",
       "  'reactome': ['R-ATH-191382',\n",
       "   'R-BTA-191382',\n",
       "   'R-CEL-191382',\n",
       "   'R-CFA-191382',\n",
       "   'R-DDI-191382',\n",
       "   'R-DME-191382',\n",
       "   'R-DRE-191382',\n",
       "   'R-GGA-191382',\n",
       "   'R-HSA-191382',\n",
       "   'R-MMU-191382',\n",
       "   'R-OSA-191382',\n",
       "   'R-RNO-191382',\n",
       "   'R-SCE-191382',\n",
       "   'R-SPO-191382',\n",
       "   'R-SSC-191382',\n",
       "   'R-TGU-191382',\n",
       "   'R-XTR-191382']},\n",
       " 'MNXR100797': {'metanetx': ['MNXR100797'],\n",
       "  'bigg': ['IDOAASE1ly'],\n",
       "  'deprecated': ['MNXR55647', 'MNXR69272'],\n",
       "  'kegg': nan,\n",
       "  'seed': nan,\n",
       "  'metacyc': nan,\n",
       "  'rhea': nan,\n",
       "  'sabiork': nan,\n",
       "  'reactome': nan},\n",
       " 'MNXR100798': {'metanetx': ['MNXR100798'],\n",
       "  'bigg': ['IDOAASE2ly'],\n",
       "  'deprecated': ['MNXR55648', 'MNXR69273'],\n",
       "  'kegg': nan,\n",
       "  'seed': nan,\n",
       "  'metacyc': nan,\n",
       "  'rhea': nan,\n",
       "  'sabiork': nan,\n",
       "  'reactome': nan},\n",
       " 'MNXR100799': {'metanetx': ['MNXR100799'],\n",
       "  'bigg': ['IDOAASE3ly'],\n",
       "  'deprecated': ['MNXR55649', 'MNXR69274'],\n",
       "  'kegg': nan,\n",
       "  'seed': nan,\n",
       "  'metacyc': nan,\n",
       "  'rhea': nan,\n",
       "  'sabiork': nan,\n",
       "  'reactome': nan},\n",
       " 'MNXR100800': {'metanetx': ['MNXR100800'],\n",
       "  'bigg': ['IDOAASE4ly'],\n",
       "  'deprecated': ['MNXR55650', 'MNXR69275'],\n",
       "  'kegg': nan,\n",
       "  'seed': nan,\n",
       "  'metacyc': nan,\n",
       "  'rhea': nan,\n",
       "  'sabiork': nan,\n",
       "  'reactome': nan},\n",
       " 'MNXR100801': {'metanetx': ['MNXR100801'],\n",
       "  'bigg': ['IDOND'],\n",
       "  'deprecated': ['MNXR55651', 'MNXR21918'],\n",
       "  'kegg': ['R05683'],\n",
       "  'seed': ['rxn03953'],\n",
       "  'metacyc': ['RXN-12107'],\n",
       "  'rhea': ['21172', '21173', '21174', '21175'],\n",
       "  'sabiork': ['5279'],\n",
       "  'reactome': nan},\n",
       " 'MNXR100802': {'metanetx': ['MNXR100802'],\n",
       "  'bigg': ['IDOND2'],\n",
       "  'deprecated': ['MNXR55652', 'MNXR6719'],\n",
       "  'kegg': ['R05684'],\n",
       "  'seed': ['rxn03954'],\n",
       "  'metacyc': ['L-IDONATE-2-DEHYDROGENASE-RXN'],\n",
       "  'rhea': ['21176', '21177', '21178', '21179'],\n",
       "  'sabiork': nan,\n",
       "  'reactome': nan},\n",
       " 'MNXR100803': {'metanetx': ['MNXR100803'],\n",
       "  'bigg': ['IDONt2r', 'IDONt2rpp'],\n",
       "  'deprecated': ['MNXR69276'],\n",
       "  'kegg': nan,\n",
       "  'seed': ['rxn08742', 'rxn10167'],\n",
       "  'metacyc': ['TRANS-RXN-181A'],\n",
       "  'rhea': ['29571', '29572', '29573', '29574'],\n",
       "  'sabiork': nan,\n",
       "  'reactome': nan},\n",
       " 'MNXR100804': {'metanetx': ['MNXR100804'],\n",
       "  'bigg': ['IDONtex'],\n",
       "  'deprecated': ['MNXR69277'],\n",
       "  'kegg': nan,\n",
       "  'seed': ['rxn08743'],\n",
       "  'metacyc': nan,\n",
       "  'rhea': nan,\n",
       "  'sabiork': nan,\n",
       "  'reactome': nan},\n",
       " 'MNXR100805': {'metanetx': ['MNXR100805'],\n",
       "  'bigg': ['IDOURte'],\n",
       "  'deprecated': nan,\n",
       "  'kegg': nan,\n",
       "  'seed': nan,\n",
       "  'metacyc': nan,\n",
       "  'rhea': nan,\n",
       "  'sabiork': nan,\n",
       "  'reactome': nan},\n",
       " 'MNXR100806': {'metanetx': ['MNXR100806'],\n",
       "  'bigg': ['IDOURtly'],\n",
       "  'deprecated': ['MNXR55653', 'MNXR69278'],\n",
       "  'kegg': nan,\n",
       "  'seed': nan,\n",
       "  'metacyc': nan,\n",
       "  'rhea': nan,\n",
       "  'sabiork': nan,\n",
       "  'reactome': nan},\n",
       " 'MNXR100807': {'metanetx': ['MNXR100807'],\n",
       "  'bigg': ['IDPA', 'NDP10ex'],\n",
       "  'deprecated': ['MNXR55750', 'MNXR69525'],\n",
       "  'kegg': ['R00961'],\n",
       "  'seed': ['rxn00706'],\n",
       "  'metacyc': ['RXN-14003'],\n",
       "  'rhea': ['35207', '35208', '35209', '35210'],\n",
       "  'sabiork': nan,\n",
       "  'reactome': nan},\n",
       " 'MNXR100808': {'metanetx': ['MNXR100808'],\n",
       "  'bigg': ['IDPh',\n",
       "   'IDPm',\n",
       "   'PPA',\n",
       "   'PPA_1',\n",
       "   'PPA_1pp',\n",
       "   'PPAer',\n",
       "   'PPAm',\n",
       "   'PPAn',\n",
       "   'r0009'],\n",
       "  'deprecated': ['MNXR4373', 'MNXR80645'],\n",
       "  'kegg': ['R00004'],\n",
       "  'seed': ['rxn00001', 'rxn11226'],\n",
       "  'metacyc': ['INORGPYROPHOSPHAT-RXN'],\n",
       "  'rhea': ['24576', '24577', '24578', '24579'],\n",
       "  'sabiork': ['76'],\n",
       "  'reactome': ['R-ATH-449937',\n",
       "   'R-BTA-449937',\n",
       "   'R-CEL-449937',\n",
       "   'R-CFA-449937',\n",
       "   'R-DDI-449937',\n",
       "   'R-DME-449937',\n",
       "   'R-DRE-449937',\n",
       "   'R-GGA-449937',\n",
       "   'R-HSA-449937',\n",
       "   'R-MMU-449937',\n",
       "   'R-OSA-449937',\n",
       "   'R-PFA-449937',\n",
       "   'R-RNO-449937',\n",
       "   'R-SCE-449937',\n",
       "   'R-SPO-449937',\n",
       "   'R-SSC-449937',\n",
       "   'R-TGU-449937',\n",
       "   'R-XTR-449937']},\n",
       " 'MNXR100809': {'metanetx': ['MNXR100809'],\n",
       "  'bigg': ['IDPtn'],\n",
       "  'deprecated': ['MNXR55654', 'MNXR69279'],\n",
       "  'kegg': nan,\n",
       "  'seed': nan,\n",
       "  'metacyc': nan,\n",
       "  'rhea': nan,\n",
       "  'sabiork': nan,\n",
       "  'reactome': nan},\n",
       " 'MNXR100810': {'metanetx': ['MNXR100810'],\n",
       "  'bigg': ['IDS1', 'IPDPS_syn'],\n",
       "  'deprecated': nan,\n",
       "  'kegg': nan,\n",
       "  'seed': ['rxn04113'],\n",
       "  'metacyc': nan,\n",
       "  'rhea': nan,\n",
       "  'sabiork': nan,\n",
       "  'reactome': nan},\n",
       " 'MNXR100811': {'metanetx': ['MNXR100811'],\n",
       "  'bigg': ['IG3PS', 'IG3PS_1', 'IMGPSh'],\n",
       "  'deprecated': ['MNXR31741'],\n",
       "  'kegg': ['R04558'],\n",
       "  'seed': ['rxn03135'],\n",
       "  'metacyc': ['GLUTAMIDOTRANS-RXN'],\n",
       "  'rhea': ['24793', '24794', '24795', '24796'],\n",
       "  'sabiork': ['4234'],\n",
       "  'reactome': nan},\n",
       " 'MNXR100812': {'metanetx': ['MNXR100812'],\n",
       "  'bigg': ['IGAMD'],\n",
       "  'deprecated': ['MNXR55655', 'MNXR69280'],\n",
       "  'kegg': nan,\n",
       "  'seed': ['rxn10807'],\n",
       "  'metacyc': nan,\n",
       "  'rhea': nan,\n",
       "  'sabiork': nan,\n",
       "  'reactome': nan},\n",
       " 'MNXR100813': {'metanetx': ['MNXR100813'],\n",
       "  'bigg': ['IGPDH', 'IGPDH_1', 'IGPDh'],\n",
       "  'deprecated': ['MNXR3090'],\n",
       "  'kegg': ['R03457'],\n",
       "  'seed': ['rxn02473'],\n",
       "  'metacyc': ['IMIDPHOSDEHYD-RXN'],\n",
       "  'rhea': ['11040', '11041', '11042', '11043'],\n",
       "  'sabiork': nan,\n",
       "  'reactome': nan},\n",
       " 'MNXR100814': {'metanetx': ['MNXR100814'],\n",
       "  'bigg': ['IGPS', 'IGPS_1'],\n",
       "  'deprecated': ['MNXR3091'],\n",
       "  'kegg': ['R03508'],\n",
       "  'seed': ['rxn02507'],\n",
       "  'metacyc': ['IGPSYN-RXN'],\n",
       "  'rhea': ['23476', '23477', '23478', '23479'],\n",
       "  'sabiork': nan,\n",
       "  'reactome': nan},\n",
       " 'MNXR100815': {'metanetx': ['MNXR100815'],\n",
       "  'bigg': ['ILEATB0tc'],\n",
       "  'deprecated': nan,\n",
       "  'kegg': nan,\n",
       "  'seed': nan,\n",
       "  'metacyc': nan,\n",
       "  'rhea': nan,\n",
       "  'sabiork': nan,\n",
       "  'reactome': nan},\n",
       " 'MNXR100816': {'metanetx': ['MNXR100816'],\n",
       "  'bigg': ['ILEDHr'],\n",
       "  'deprecated': ['MNXR94307'],\n",
       "  'kegg': nan,\n",
       "  'seed': ['rxn09896'],\n",
       "  'metacyc': nan,\n",
       "  'rhea': nan,\n",
       "  'sabiork': ['2169'],\n",
       "  'reactome': nan},\n",
       " 'MNXR100817': {'metanetx': ['MNXR100817'],\n",
       "  'bigg': ['ILELAT1tc'],\n",
       "  'deprecated': nan,\n",
       "  'kegg': nan,\n",
       "  'seed': nan,\n",
       "  'metacyc': nan,\n",
       "  'rhea': nan,\n",
       "  'sabiork': nan,\n",
       "  'reactome': nan},\n",
       " 'MNXR100818': {'metanetx': ['MNXR100818'],\n",
       "  'bigg': ['ILEOX'],\n",
       "  'deprecated': ['MNXR65954', 'MNXR79547', 'MNXR93749', 'MNXR5949'],\n",
       "  'kegg': ['R02197'],\n",
       "  'seed': ['rxn01574'],\n",
       "  'metacyc': nan,\n",
       "  'rhea': nan,\n",
       "  'sabiork': nan,\n",
       "  'reactome': nan},\n",
       " 'MNXR100819': {'metanetx': ['MNXR100819'],\n",
       "  'bigg': ['ILEPHELAT2tc'],\n",
       "  'deprecated': nan,\n",
       "  'kegg': nan,\n",
       "  'seed': nan,\n",
       "  'metacyc': nan,\n",
       "  'rhea': nan,\n",
       "  'sabiork': nan,\n",
       "  'reactome': nan},\n",
       " 'MNXR100820': {'metanetx': ['MNXR100820'],\n",
       "  'bigg': ['ILETRS', 'ILETRSm'],\n",
       "  'deprecated': ['MNXR91627', 'MNXR83147'],\n",
       "  'kegg': ['R03656'],\n",
       "  'seed': ['rxn06440'],\n",
       "  'metacyc': nan,\n",
       "  'rhea': nan,\n",
       "  'sabiork': ['413'],\n",
       "  'reactome': ['R-HSA-379893', 'R-HSA-380176']},\n",
       " 'MNXR100821': {'metanetx': ['MNXR100821'],\n",
       "  'bigg': ['ILEabc', 'ILEabcpp'],\n",
       "  'deprecated': nan,\n",
       "  'kegg': nan,\n",
       "  'seed': ['rxn05179', 'rxn08745'],\n",
       "  'metacyc': ['ABC-15-RXN'],\n",
       "  'rhea': ['29819#1', '29820#1', '29821#1', '29822#1'],\n",
       "  'sabiork': nan,\n",
       "  'reactome': nan},\n",
       " 'MNXR100822': {'metanetx': ['MNXR100822'],\n",
       "  'bigg': ['ILEt2r', 'ILEt2rpp', 'ILEt7', 'ILEth', 'ILEtm'],\n",
       "  'deprecated': ['MNXR3095'],\n",
       "  'kegg': nan,\n",
       "  'seed': ['rxn05244', 'rxn08746', 'rxn13322'],\n",
       "  'metacyc': nan,\n",
       "  'rhea': nan,\n",
       "  'sabiork': nan,\n",
       "  'reactome': nan},\n",
       " 'MNXR100823': {'metanetx': ['MNXR100823'],\n",
       "  'bigg': ['ILEt4'],\n",
       "  'deprecated': ['MNXR3096'],\n",
       "  'kegg': nan,\n",
       "  'seed': ['rxn05241'],\n",
       "  'metacyc': ['TRANS-RXN-126'],\n",
       "  'rhea': ['29275', '29276', '29277', '29278'],\n",
       "  'sabiork': nan,\n",
       "  'reactome': nan},\n",
       " 'MNXR100824': {'metanetx': ['MNXR100824'],\n",
       "  'bigg': ['ILEt5m', 'ILEtec', 'ILEtex', 'ILEtmi'],\n",
       "  'deprecated': ['MNXR3097'],\n",
       "  'kegg': nan,\n",
       "  'seed': ['rxn08747', 'rxn10933', 'rxn13323'],\n",
       "  'metacyc': nan,\n",
       "  'rhea': nan,\n",
       "  'sabiork': ['13467'],\n",
       "  'reactome': nan},\n",
       " 'MNXR100825': {'metanetx': ['MNXR100825'],\n",
       "  'bigg': ['ILEt6'],\n",
       "  'deprecated': nan,\n",
       "  'kegg': nan,\n",
       "  'seed': ['rxn13321'],\n",
       "  'metacyc': ['TRANS-RXN-281'],\n",
       "  'rhea': nan,\n",
       "  'sabiork': nan,\n",
       "  'reactome': nan},\n",
       " 'MNXR100826': {'metanetx': ['MNXR100826'],\n",
       "  'bigg': ['IMDHT', 'IPPMIb'],\n",
       "  'deprecated': ['MNXR3134'],\n",
       "  'kegg': ['R03968'],\n",
       "  'seed': ['rxn02789'],\n",
       "  'metacyc': ['3-ISOPROPYLMALISOM-RXN'],\n",
       "  'rhea': ['16293', '16294', '16295', '16296'],\n",
       "  'sabiork': nan,\n",
       "  'reactome': nan},\n",
       " 'MNXR100827': {'metanetx': ['MNXR100827'],\n",
       "  'bigg': ['IMDHT_3c2hmp', 'IPPMIa'],\n",
       "  'deprecated': ['MNXR3133'],\n",
       "  'kegg': ['R04001'],\n",
       "  'seed': ['rxn02811'],\n",
       "  'metacyc': ['RXN-8991'],\n",
       "  'rhea': ['10676', '10677', '10678', '10679'],\n",
       "  'sabiork': ['3736'],\n",
       "  'reactome': nan},\n",
       " 'MNXR100828': {'metanetx': ['MNXR100828'],\n",
       "  'bigg': ['IMP'],\n",
       "  'deprecated': ['MNXR83148'],\n",
       "  'kegg': nan,\n",
       "  'seed': nan,\n",
       "  'metacyc': nan,\n",
       "  'rhea': nan,\n",
       "  'sabiork': nan,\n",
       "  'reactome': nan},\n",
       " 'MNXR100829': {'metanetx': ['MNXR100829'],\n",
       "  'bigg': ['IMPCT2'],\n",
       "  'deprecated': ['MNXR83149'],\n",
       "  'kegg': nan,\n",
       "  'seed': nan,\n",
       "  'metacyc': nan,\n",
       "  'rhea': nan,\n",
       "  'sabiork': nan,\n",
       "  'reactome': nan},\n",
       " 'MNXR100830': {'metanetx': ['MNXR100830'],\n",
       "  'bigg': ['IMPD', 'IMPDm'],\n",
       "  'deprecated': ['MNXR91123', 'MNXR3100'],\n",
       "  'kegg': ['R01130'],\n",
       "  'seed': ['rxn00834'],\n",
       "  'metacyc': ['IMP-DEHYDROG-RXN'],\n",
       "  'rhea': ['11708', '11709', '11710', '11711'],\n",
       "  'sabiork': ['128'],\n",
       "  'reactome': ['R-ATH-73794',\n",
       "   'R-BTA-73794',\n",
       "   'R-CFA-73794',\n",
       "   'R-DDI-73794',\n",
       "   'R-DME-73794',\n",
       "   'R-DRE-73794',\n",
       "   'R-GGA-421222',\n",
       "   'R-GGA-73794',\n",
       "   'R-HSA-73794',\n",
       "   'R-MMU-73794',\n",
       "   'R-OSA-73794',\n",
       "   'R-PFA-73794',\n",
       "   'R-RNO-73794',\n",
       "   'R-SCE-73794',\n",
       "   'R-SPO-73794',\n",
       "   'R-SSC-73794',\n",
       "   'R-TGU-73794',\n",
       "   'R-XTR-73794']},\n",
       " 'MNXR100831': {'metanetx': ['MNXR100831'],\n",
       "  'bigg': ['IMPtex', 'IMPth'],\n",
       "  'deprecated': ['MNXR3101'],\n",
       "  'kegg': nan,\n",
       "  'seed': ['rxn08749'],\n",
       "  'metacyc': ['TRANS-RXN0-566'],\n",
       "  'rhea': nan,\n",
       "  'sabiork': nan,\n",
       "  'reactome': nan},\n",
       " 'MNXR100832': {'metanetx': ['MNXR100832'],\n",
       "  'bigg': ['IND3ACt2r'],\n",
       "  'deprecated': ['MNXR3102'],\n",
       "  'kegg': nan,\n",
       "  'seed': ['rxn10560'],\n",
       "  'metacyc': nan,\n",
       "  'rhea': nan,\n",
       "  'sabiork': nan,\n",
       "  'reactome': nan},\n",
       " 'MNXR100833': {'metanetx': ['MNXR100833'],\n",
       "  'bigg': ['IND3ACtm'],\n",
       "  'deprecated': ['MNXR3103'],\n",
       "  'kegg': nan,\n",
       "  'seed': ['rxn09741'],\n",
       "  'metacyc': nan,\n",
       "  'rhea': nan,\n",
       "  'sabiork': nan,\n",
       "  'reactome': nan},\n",
       " 'MNXR100834': {'metanetx': ['MNXR100834'],\n",
       "  'bigg': ['IND3ETHt', 'IND3ETHtm'],\n",
       "  'deprecated': ['MNXR29892'],\n",
       "  'kegg': nan,\n",
       "  'seed': ['rxn13324', 'rxn13325'],\n",
       "  'metacyc': nan,\n",
       "  'rhea': nan,\n",
       "  'sabiork': nan,\n",
       "  'reactome': nan},\n",
       " 'MNXR100835': {'metanetx': ['MNXR100835'],\n",
       "  'bigg': ['INDOLEt2pp', 'INDOLEt2r', 'INDOLEt2rpp'],\n",
       "  'deprecated': ['MNXR3104'],\n",
       "  'kegg': nan,\n",
       "  'seed': ['rxn08750', 'rxn10176'],\n",
       "  'metacyc': ['TRANS-RXN-142'],\n",
       "  'rhea': ['29227', '29228', '29229', '29230'],\n",
       "  'sabiork': nan,\n",
       "  'reactome': nan},\n",
       " 'MNXR100836': {'metanetx': ['MNXR100836'],\n",
       "  'bigg': ['INDOLEtex'],\n",
       "  'deprecated': ['MNXR3105'],\n",
       "  'kegg': nan,\n",
       "  'seed': ['rxn08751'],\n",
       "  'metacyc': ['TRANS-RXN0-563'],\n",
       "  'rhea': nan,\n",
       "  'sabiork': nan,\n",
       "  'reactome': nan},\n",
       " 'MNXR100837': {'metanetx': ['MNXR100837'],\n",
       "  'bigg': ['INDPYRD'],\n",
       "  'deprecated': ['MNXR3106'],\n",
       "  'kegg': ['R01974'],\n",
       "  'seed': ['rxn01450'],\n",
       "  'metacyc': ['4.1.1.74-RXN'],\n",
       "  'rhea': ['18017', '18018', '18019', '18020'],\n",
       "  'sabiork': ['2017'],\n",
       "  'reactome': nan},\n",
       " 'MNXR100838': {'metanetx': ['MNXR100838'],\n",
       "  'bigg': ['INOSR'],\n",
       "  'deprecated': ['MNXR83150'],\n",
       "  'kegg': nan,\n",
       "  'seed': nan,\n",
       "  'metacyc': nan,\n",
       "  'rhea': nan,\n",
       "  'sabiork': nan,\n",
       "  'reactome': nan},\n",
       " 'MNXR100839': {'metanetx': ['MNXR100839'],\n",
       "  'bigg': ['INOSTO'],\n",
       "  'deprecated': ['MNXR65874', 'MNXR3107', 'MNXR57632'],\n",
       "  'kegg': ['R01184'],\n",
       "  'seed': ['rxn00880'],\n",
       "  'metacyc': ['MYO-INOSITOL-OXYGENASE-RXN'],\n",
       "  'rhea': ['23696', '23697', '23698', '23699'],\n",
       "  'sabiork': nan,\n",
       "  'reactome': nan},\n",
       " 'MNXR100840': {'metanetx': ['MNXR100840'],\n",
       "  'bigg': ['INOSTt4pp', 'INSTt4'],\n",
       "  'deprecated': ['MNXR3108'],\n",
       "  'kegg': nan,\n",
       "  'seed': ['rxn08752'],\n",
       "  'metacyc': nan,\n",
       "  'rhea': nan,\n",
       "  'sabiork': nan,\n",
       "  'reactome': nan},\n",
       " 'MNXR100841': {'metanetx': ['MNXR100841'],\n",
       "  'bigg': ['INOSTtpp', 'INSTt2'],\n",
       "  'deprecated': ['MNXR3112'],\n",
       "  'kegg': nan,\n",
       "  'seed': ['rxn05593'],\n",
       "  'metacyc': nan,\n",
       "  'rhea': nan,\n",
       "  'sabiork': nan,\n",
       "  'reactome': ['R-ATH-429101',\n",
       "   'R-BTA-429101',\n",
       "   'R-CEL-429101',\n",
       "   'R-CFA-429101',\n",
       "   'R-DRE-429101',\n",
       "   'R-GGA-429101',\n",
       "   'R-HSA-429101',\n",
       "   'R-MMU-429101',\n",
       "   'R-OSA-429101',\n",
       "   'R-RNO-429101',\n",
       "   'R-SCE-429101',\n",
       "   'R-SPO-429101',\n",
       "   'R-SSC-429101',\n",
       "   'R-TGU-429101',\n",
       "   'R-XTR-429101']},\n",
       " 'MNXR100842': {'metanetx': ['MNXR100842'],\n",
       "  'bigg': ['INS2D'],\n",
       "  'deprecated': ['MNXR3109', 'MNXR37199'],\n",
       "  'kegg': ['R01183'],\n",
       "  'seed': ['rxn00879'],\n",
       "  'metacyc': ['MYO-INOSITOL-2-DEHYDROGENASE-RXN'],\n",
       "  'rhea': ['16949', '16950', '16951', '16952'],\n",
       "  'sabiork': ['1420'],\n",
       "  'reactome': nan},\n",
       " 'MNXR100843': {'metanetx': ['MNXR100843'],\n",
       "  'bigg': ['INSCR'],\n",
       "  'deprecated': ['MNXR27868'],\n",
       "  'kegg': nan,\n",
       "  'seed': ['rxn05743'],\n",
       "  'metacyc': nan,\n",
       "  'rhea': nan,\n",
       "  'sabiork': nan,\n",
       "  'reactome': nan},\n",
       " 'MNXR100844': {'metanetx': ['MNXR100844'],\n",
       "  'bigg': ['INSH'],\n",
       "  'deprecated': ['MNXR56144', 'MNXR55656', 'MNXR69281', 'MNXR20463'],\n",
       "  'kegg': ['R01770'],\n",
       "  'seed': ['rxn01299'],\n",
       "  'metacyc': ['INOSINE-NUCLEOSIDASE-RXN'],\n",
       "  'rhea': ['16657', '16658', '16659', '16660'],\n",
       "  'sabiork': nan,\n",
       "  'reactome': nan},\n",
       " 'MNXR100845': {'metanetx': ['MNXR100845'],\n",
       "  'bigg': ['INSK', 'INSKm'],\n",
       "  'deprecated': ['MNXR3111'],\n",
       "  'kegg': ['R01131'],\n",
       "  'seed': ['rxn00835'],\n",
       "  'metacyc': ['INOSINEKIN-RXN'],\n",
       "  'rhea': ['21140', '21141', '21142', '21143'],\n",
       "  'sabiork': nan,\n",
       "  'reactome': nan},\n",
       " 'MNXR100846': {'metanetx': ['MNXR100846'],\n",
       "  'bigg': ['INSTabc'],\n",
       "  'deprecated': ['MNXR83151'],\n",
       "  'kegg': nan,\n",
       "  'seed': nan,\n",
       "  'metacyc': nan,\n",
       "  'rhea': nan,\n",
       "  'sabiork': nan,\n",
       "  'reactome': nan},\n",
       " 'MNXR100847': {'metanetx': ['MNXR100847'],\n",
       "  'bigg': ['INSTt4_2'],\n",
       "  'deprecated': ['MNXR3113'],\n",
       "  'kegg': nan,\n",
       "  'seed': nan,\n",
       "  'metacyc': nan,\n",
       "  'rhea': nan,\n",
       "  'sabiork': nan,\n",
       "  'reactome': ['R-CEL-429663',\n",
       "   'R-CFA-429663',\n",
       "   'R-DME-429663',\n",
       "   'R-DRE-429663',\n",
       "   'R-HSA-429663',\n",
       "   'R-MMU-429663',\n",
       "   'R-SSC-429663',\n",
       "   'R-TGU-429663']},\n",
       " 'MNXR100848': {'metanetx': ['MNXR100848'],\n",
       "  'bigg': ['INSTtex', 'r0826'],\n",
       "  'deprecated': ['MNXR3114'],\n",
       "  'kegg': nan,\n",
       "  'seed': ['rxn08755'],\n",
       "  'metacyc': nan,\n",
       "  'rhea': ['32867', '32868', '32869', '32870'],\n",
       "  'sabiork': nan,\n",
       "  'reactome': nan},\n",
       " 'MNXR100849': {'metanetx': ['MNXR100849'],\n",
       "  'bigg': ['INSt', 'INStex', 'INStl', 'INStm'],\n",
       "  'deprecated': ['MNXR3115'],\n",
       "  'kegg': nan,\n",
       "  'seed': ['rxn08754'],\n",
       "  'metacyc': nan,\n",
       "  'rhea': nan,\n",
       "  'sabiork': nan,\n",
       "  'reactome': nan},\n",
       " 'MNXR100850': {'metanetx': ['MNXR100850'],\n",
       "  'bigg': ['INSt2', 'INSt2pp'],\n",
       "  'deprecated': ['MNXR3116'],\n",
       "  'kegg': nan,\n",
       "  'seed': ['rxn05316', 'rxn08753'],\n",
       "  'metacyc': ['TRANS-RXN-108G'],\n",
       "  'rhea': ['29963', '29964', '29965', '29966'],\n",
       "  'sabiork': nan,\n",
       "  'reactome': nan},\n",
       " 'MNXR100851': {'metanetx': ['MNXR100851'],\n",
       "  'bigg': ['INSt4'],\n",
       "  'deprecated': ['MNXR3117'],\n",
       "  'kegg': nan,\n",
       "  'seed': nan,\n",
       "  'metacyc': nan,\n",
       "  'rhea': nan,\n",
       "  'sabiork': nan,\n",
       "  'reactome': nan},\n",
       " 'MNXR100852': {'metanetx': ['MNXR100852'],\n",
       "  'bigg': ['INSt5'],\n",
       "  'deprecated': ['MNXR3118'],\n",
       "  'kegg': nan,\n",
       "  'seed': nan,\n",
       "  'metacyc': nan,\n",
       "  'rhea': nan,\n",
       "  'sabiork': nan,\n",
       "  'reactome': nan},\n",
       " 'MNXR100853': {'metanetx': ['MNXR100853'],\n",
       "  'bigg': ['IOR'],\n",
       "  'deprecated': ['MNXR3119', 'MNXR54886'],\n",
       "  'kegg': nan,\n",
       "  'seed': ['rxn10561'],\n",
       "  'metacyc': nan,\n",
       "  'rhea': nan,\n",
       "  'sabiork': nan,\n",
       "  'reactome': nan},\n",
       " 'MNXR100854': {'metanetx': ['MNXR100854'],\n",
       "  'bigg': ['IOR2'],\n",
       "  'deprecated': ['MNXR3120', 'MNXR54887'],\n",
       "  'kegg': nan,\n",
       "  'seed': ['rxn10562'],\n",
       "  'metacyc': nan,\n",
       "  'rhea': nan,\n",
       "  'sabiork': nan,\n",
       "  'reactome': nan},\n",
       " 'MNXR100855': {'metanetx': ['MNXR100855'],\n",
       "  'bigg': ['IOR2b'],\n",
       "  'deprecated': ['MNXR83152'],\n",
       "  'kegg': nan,\n",
       "  'seed': nan,\n",
       "  'metacyc': nan,\n",
       "  'rhea': nan,\n",
       "  'sabiork': nan,\n",
       "  'reactome': nan},\n",
       " 'MNXR100856': {'metanetx': ['MNXR100856'],\n",
       "  'bigg': ['IOR3'],\n",
       "  'deprecated': ['MNXR31748', 'MNXR67469', 'MNXR69282', 'MNXR83153'],\n",
       "  'kegg': nan,\n",
       "  'seed': ['rxn10563'],\n",
       "  'metacyc': nan,\n",
       "  'rhea': nan,\n",
       "  'sabiork': nan,\n",
       "  'reactome': nan},\n",
       " 'MNXR100857': {'metanetx': ['MNXR100857'],\n",
       "  'bigg': ['IOR3b'],\n",
       "  'deprecated': ['MNXR83154'],\n",
       "  'kegg': nan,\n",
       "  'seed': nan,\n",
       "  'metacyc': nan,\n",
       "  'rhea': nan,\n",
       "  'sabiork': nan,\n",
       "  'reactome': nan},\n",
       " 'MNXR100858': {'metanetx': ['MNXR100858'],\n",
       "  'bigg': ['IORb'],\n",
       "  'deprecated': ['MNXR83155'],\n",
       "  'kegg': nan,\n",
       "  'seed': nan,\n",
       "  'metacyc': nan,\n",
       "  'rhea': nan,\n",
       "  'sabiork': nan,\n",
       "  'reactome': nan},\n",
       " 'MNXR100859': {'metanetx': ['MNXR100859'],\n",
       "  'bigg': ['IPC124PLC_SC'],\n",
       "  'deprecated': ['MNXR83156'],\n",
       "  'kegg': nan,\n",
       "  'seed': nan,\n",
       "  'metacyc': nan,\n",
       "  'rhea': nan,\n",
       "  'sabiork': nan,\n",
       "  'reactome': nan},\n",
       " 'MNXR100860': {'metanetx': ['MNXR100860'],\n",
       "  'bigg': ['IPC126PLC_SC'],\n",
       "  'deprecated': ['MNXR83157'],\n",
       "  'kegg': nan,\n",
       "  'seed': nan,\n",
       "  'metacyc': nan,\n",
       "  'rhea': nan,\n",
       "  'sabiork': nan,\n",
       "  'reactome': nan},\n",
       " 'MNXR100861': {'metanetx': ['MNXR100861'],\n",
       "  'bigg': ['IPC224PLC_SC'],\n",
       "  'deprecated': ['MNXR83158'],\n",
       "  'kegg': nan,\n",
       "  'seed': nan,\n",
       "  'metacyc': nan,\n",
       "  'rhea': nan,\n",
       "  'sabiork': nan,\n",
       "  'reactome': nan},\n",
       " 'MNXR100862': {'metanetx': ['MNXR100862'],\n",
       "  'bigg': ['IPC226PLC_SC'],\n",
       "  'deprecated': ['MNXR83159'],\n",
       "  'kegg': nan,\n",
       "  'seed': nan,\n",
       "  'metacyc': nan,\n",
       "  'rhea': nan,\n",
       "  'sabiork': nan,\n",
       "  'reactome': nan},\n",
       " 'MNXR100863': {'metanetx': ['MNXR100863'],\n",
       "  'bigg': ['IPC324PLC_SC'],\n",
       "  'deprecated': ['MNXR83160'],\n",
       "  'kegg': nan,\n",
       "  'seed': nan,\n",
       "  'metacyc': nan,\n",
       "  'rhea': nan,\n",
       "  'sabiork': nan,\n",
       "  'reactome': nan},\n",
       " 'MNXR100864': {'metanetx': ['MNXR100864'],\n",
       "  'bigg': ['IPC326PLC_SC'],\n",
       "  'deprecated': ['MNXR83161'],\n",
       "  'kegg': nan,\n",
       "  'seed': nan,\n",
       "  'metacyc': nan,\n",
       "  'rhea': nan,\n",
       "  'sabiork': nan,\n",
       "  'reactome': nan},\n",
       " 'MNXR100865': {'metanetx': ['MNXR100865'],\n",
       "  'bigg': ['IPCS124_SC'],\n",
       "  'deprecated': ['MNXR3122'],\n",
       "  'kegg': nan,\n",
       "  'seed': nan,\n",
       "  'metacyc': nan,\n",
       "  'rhea': nan,\n",
       "  'sabiork': nan,\n",
       "  'reactome': nan},\n",
       " 'MNXR100866': {'metanetx': ['MNXR100866'],\n",
       "  'bigg': ['IPCS126_SC'],\n",
       "  'deprecated': ['MNXR3123'],\n",
       "  'kegg': nan,\n",
       "  'seed': nan,\n",
       "  'metacyc': nan,\n",
       "  'rhea': nan,\n",
       "  'sabiork': nan,\n",
       "  'reactome': nan},\n",
       " 'MNXR100867': {'metanetx': ['MNXR100867'],\n",
       "  'bigg': ['IPCS224_SC'],\n",
       "  'deprecated': ['MNXR3124'],\n",
       "  'kegg': nan,\n",
       "  'seed': nan,\n",
       "  'metacyc': nan,\n",
       "  'rhea': nan,\n",
       "  'sabiork': nan,\n",
       "  'reactome': nan},\n",
       " 'MNXR100868': {'metanetx': ['MNXR100868'],\n",
       "  'bigg': ['IPCS226_SC'],\n",
       "  'deprecated': ['MNXR3125'],\n",
       "  'kegg': nan,\n",
       "  'seed': nan,\n",
       "  'metacyc': nan,\n",
       "  'rhea': nan,\n",
       "  'sabiork': nan,\n",
       "  'reactome': nan},\n",
       " 'MNXR100869': {'metanetx': ['MNXR100869'],\n",
       "  'bigg': ['IPCS324_SC'],\n",
       "  'deprecated': ['MNXR3126'],\n",
       "  'kegg': nan,\n",
       "  'seed': nan,\n",
       "  'metacyc': nan,\n",
       "  'rhea': nan,\n",
       "  'sabiork': nan,\n",
       "  'reactome': nan},\n",
       " 'MNXR100870': {'metanetx': ['MNXR100870'],\n",
       "  'bigg': ['IPCS326_SC'],\n",
       "  'deprecated': ['MNXR3127'],\n",
       "  'kegg': nan,\n",
       "  'seed': nan,\n",
       "  'metacyc': nan,\n",
       "  'rhea': nan,\n",
       "  'sabiork': nan,\n",
       "  'reactome': nan},\n",
       " 'MNXR100871': {'metanetx': ['MNXR100871'],\n",
       "  'bigg': ['IPDDI3x'],\n",
       "  'deprecated': ['MNXR55658', 'MNXR69290'],\n",
       "  'kegg': nan,\n",
       "  'seed': ['rxn10564'],\n",
       "  'metacyc': nan,\n",
       "  'rhea': nan,\n",
       "  'sabiork': nan,\n",
       "  'reactome': nan},\n",
       " 'MNXR100872': {'metanetx': ['MNXR100872'],\n",
       "  'bigg': ['IPDDI3y'],\n",
       "  'deprecated': ['MNXR55659', 'MNXR69291'],\n",
       "  'kegg': nan,\n",
       "  'seed': ['rxn10565'],\n",
       "  'metacyc': nan,\n",
       "  'rhea': nan,\n",
       "  'sabiork': nan,\n",
       "  'reactome': nan},\n",
       " 'MNXR100873': {'metanetx': ['MNXR100873'],\n",
       "  'bigg': ['IPDLTAS'],\n",
       "  'deprecated': ['MNXR83162'],\n",
       "  'kegg': nan,\n",
       "  'seed': nan,\n",
       "  'metacyc': nan,\n",
       "  'rhea': nan,\n",
       "  'sabiork': nan,\n",
       "  'reactome': nan},\n",
       " 'MNXR100874': {'metanetx': ['MNXR100874'],\n",
       "  'bigg': ['IPDPS'],\n",
       "  'deprecated': nan,\n",
       "  'kegg': nan,\n",
       "  'seed': ['rxn08756'],\n",
       "  'metacyc': nan,\n",
       "  'rhea': nan,\n",
       "  'sabiork': nan,\n",
       "  'reactome': nan},\n",
       " 'MNXR100875': {'metanetx': ['MNXR100875'],\n",
       "  'bigg': ['IPDPUPT'],\n",
       "  'deprecated': nan,\n",
       "  'kegg': nan,\n",
       "  'seed': nan,\n",
       "  'metacyc': nan,\n",
       "  'rhea': nan,\n",
       "  'sabiork': nan,\n",
       "  'reactome': nan},\n",
       " 'MNXR100876': {'metanetx': ['MNXR100876'],\n",
       "  'bigg': ['IPDPth', 'IPDPtm', 'IPDPtr', 'IPDPtx'],\n",
       "  'deprecated': ['MNXR67905'],\n",
       "  'kegg': nan,\n",
       "  'seed': ['rxn13332'],\n",
       "  'metacyc': nan,\n",
       "  'rhea': nan,\n",
       "  'sabiork': nan,\n",
       "  'reactome': nan},\n",
       " 'MNXR100877': {'metanetx': ['MNXR100877'],\n",
       "  'bigg': ['IPKK', 'MI13456PK', 'MI13456PKn', 'PMI1346PS'],\n",
       "  'deprecated': ['MNXR83163'],\n",
       "  'kegg': nan,\n",
       "  'seed': nan,\n",
       "  'metacyc': nan,\n",
       "  'rhea': nan,\n",
       "  'sabiork': nan,\n",
       "  'reactome': nan},\n",
       " 'MNXR100878': {'metanetx': ['MNXR100878'],\n",
       "  'bigg': ['IPMD'],\n",
       "  'deprecated': ['MNXR3132'],\n",
       "  'kegg': ['R04426'],\n",
       "  'seed': ['rxn03062'],\n",
       "  'metacyc': ['3-ISOPROPYLMALDEHYDROG-RXN'],\n",
       "  'rhea': ['10892', '10893', '10894', '10895'],\n",
       "  'sabiork': nan,\n",
       "  'reactome': nan},\n",
       " 'MNXR100879': {'metanetx': ['MNXR100879'],\n",
       "  'bigg': ['IPPS', 'IPPSh', 'IPPSm'],\n",
       "  'deprecated': ['MNXR3135'],\n",
       "  'kegg': ['R01213'],\n",
       "  'seed': ['rxn00902'],\n",
       "  'metacyc': ['2-ISOPROPYLMALATESYN-RXN'],\n",
       "  'rhea': ['21524', '21525', '21526', '21527'],\n",
       "  'sabiork': nan,\n",
       "  'reactome': nan},\n",
       " 'MNXR100880': {'metanetx': ['MNXR100880'],\n",
       "  'bigg': ['ISETACabcpp', 'ISTNTabc'],\n",
       "  'deprecated': ['MNXR3136'],\n",
       "  'kegg': nan,\n",
       "  'seed': ['rxn05594', 'rxn08758'],\n",
       "  'metacyc': nan,\n",
       "  'rhea': nan,\n",
       "  'sabiork': nan,\n",
       "  'reactome': nan},\n",
       " 'MNXR100881': {'metanetx': ['MNXR100881'],\n",
       "  'bigg': ['ISETACtex'],\n",
       "  'deprecated': ['MNXR3137'],\n",
       "  'kegg': nan,\n",
       "  'seed': ['rxn08759'],\n",
       "  'metacyc': nan,\n",
       "  'rhea': nan,\n",
       "  'sabiork': nan,\n",
       "  'reactome': nan},\n",
       " 'MNXR100882': {'metanetx': ['MNXR100882'],\n",
       "  'bigg': ['ISOMS'],\n",
       "  'deprecated': ['MNXR7134'],\n",
       "  'kegg': ['R00810', 'R06217'],\n",
       "  'seed': ['rxn00582'],\n",
       "  'metacyc': nan,\n",
       "  'rhea': ['24032', '24033', '24034', '24035'],\n",
       "  'sabiork': nan,\n",
       "  'reactome': nan},\n",
       " 'MNXR100883': {'metanetx': ['MNXR100883'],\n",
       "  'bigg': ['ITCOAL1m'],\n",
       "  'deprecated': ['MNXR55661', 'MNXR69292'],\n",
       "  'kegg': ['R02405'],\n",
       "  'seed': ['rxn01732'],\n",
       "  'metacyc': ['RXN-8988'],\n",
       "  'rhea': nan,\n",
       "  'sabiork': nan,\n",
       "  'reactome': nan},\n",
       " 'MNXR100884': {'metanetx': ['MNXR100884'],\n",
       "  'bigg': ['ITCOALm'],\n",
       "  'deprecated': ['MNXR3139'],\n",
       "  'kegg': ['R02404'],\n",
       "  'seed': ['rxn01731'],\n",
       "  'metacyc': nan,\n",
       "  'rhea': nan,\n",
       "  'sabiork': nan,\n",
       "  'reactome': nan},\n",
       " 'MNXR100885': {'metanetx': ['MNXR100885'],\n",
       "  'bigg': ['ITCY'],\n",
       "  'deprecated': ['MNXR59209', 'MNXR73711'],\n",
       "  'kegg': ['R00962'],\n",
       "  'seed': ['rxn00707'],\n",
       "  'metacyc': nan,\n",
       "  'rhea': nan,\n",
       "  'sabiork': nan,\n",
       "  'reactome': nan},\n",
       " 'MNXR100886': {'metanetx': ['MNXR100886'],\n",
       "  'bigg': ['ITDLTAS'],\n",
       "  'deprecated': ['MNXR83164'],\n",
       "  'kegg': nan,\n",
       "  'seed': nan,\n",
       "  'metacyc': nan,\n",
       "  'rhea': nan,\n",
       "  'sabiork': nan,\n",
       "  'reactome': nan},\n",
       " 'MNXR100887': {'metanetx': ['MNXR100887'],\n",
       "  'bigg': ['ITK1K', 'MI3456PK'],\n",
       "  'deprecated': ['MNXR83165'],\n",
       "  'kegg': nan,\n",
       "  'seed': nan,\n",
       "  'metacyc': nan,\n",
       "  'rhea': nan,\n",
       "  'sabiork': nan,\n",
       "  'reactome': nan},\n",
       " 'MNXR100888': {'metanetx': ['MNXR100888'],\n",
       "  'bigg': ['ITKK', 'MI1346PKn'],\n",
       "  'deprecated': ['MNXR83166'],\n",
       "  'kegg': nan,\n",
       "  'seed': nan,\n",
       "  'metacyc': nan,\n",
       "  'rhea': nan,\n",
       "  'sabiork': nan,\n",
       "  'reactome': nan},\n",
       " 'MNXR100889': {'metanetx': ['MNXR100889'],\n",
       "  'bigg': ['ITKPHn', 'MI1345PP'],\n",
       "  'deprecated': ['MNXR83167'],\n",
       "  'kegg': nan,\n",
       "  'seed': nan,\n",
       "  'metacyc': nan,\n",
       "  'rhea': nan,\n",
       "  'sabiork': nan,\n",
       "  'reactome': nan},\n",
       " 'MNXR100890': {'metanetx': ['MNXR100890'],\n",
       "  'bigg': ['ITKPK'],\n",
       "  'deprecated': ['MNXR83168'],\n",
       "  'kegg': nan,\n",
       "  'seed': nan,\n",
       "  'metacyc': nan,\n",
       "  'rhea': nan,\n",
       "  'sabiork': nan,\n",
       "  'reactome': nan},\n",
       " 'MNXR100891': {'metanetx': ['MNXR100891'],\n",
       "  'bigg': ['ITLTAS'],\n",
       "  'deprecated': ['MNXR83169'],\n",
       "  'kegg': nan,\n",
       "  'seed': nan,\n",
       "  'metacyc': nan,\n",
       "  'rhea': nan,\n",
       "  'sabiork': nan,\n",
       "  'reactome': nan},\n",
       " 'MNXR100892': {'metanetx': ['MNXR100892'],\n",
       "  'bigg': ['ITPA', 'NTP10'],\n",
       "  'deprecated': ['MNXR55782', 'MNXR69556', 'MNXR63876'],\n",
       "  'kegg': ['R00719'],\n",
       "  'seed': ['rxn00513'],\n",
       "  'metacyc': ['RXN0-5073'],\n",
       "  'rhea': ['28330', '28331', '28332', '28333'],\n",
       "  'sabiork': ['1090'],\n",
       "  'reactome': nan},\n",
       " 'MNXR100893': {'metanetx': ['MNXR100893'],\n",
       "  'bigg': ['ITPtn'],\n",
       "  'deprecated': ['MNXR3140'],\n",
       "  'kegg': nan,\n",
       "  'seed': nan,\n",
       "  'metacyc': nan,\n",
       "  'rhea': nan,\n",
       "  'sabiork': nan,\n",
       "  'reactome': nan},\n",
       " 'MNXR100894': {'metanetx': ['MNXR100894'],\n",
       "  'bigg': ['IVCOAACBP'],\n",
       "  'deprecated': nan,\n",
       "  'kegg': nan,\n",
       "  'seed': nan,\n",
       "  'metacyc': nan,\n",
       "  'rhea': nan,\n",
       "  'sabiork': nan,\n",
       "  'reactome': nan},\n",
       " 'MNXR100895': {'metanetx': ['MNXR100895'],\n",
       "  'bigg': ['IVCRNe'],\n",
       "  'deprecated': nan,\n",
       "  'kegg': nan,\n",
       "  'seed': nan,\n",
       "  'metacyc': nan,\n",
       "  'rhea': nan,\n",
       "  'sabiork': nan,\n",
       "  'reactome': nan},\n",
       " 'MNXR100896': {'metanetx': ['MNXR100896'],\n",
       "  'bigg': ['IZPN', 'IZPN_1'],\n",
       "  'deprecated': ['MNXR70636', 'MNXR55662', 'MNXR69293'],\n",
       "  'kegg': ['R02288'],\n",
       "  'seed': ['rxn01642'],\n",
       "  'metacyc': ['IMIDAZOLONEPROPIONASE-RXN'],\n",
       "  'rhea': ['23660', '23661', '23662', '23663'],\n",
       "  'sabiork': nan,\n",
       "  'reactome': ['R-BTA-70906',\n",
       "   'R-CEL-70906',\n",
       "   'R-CFA-70906',\n",
       "   'R-DDI-70906',\n",
       "   'R-DRE-70906',\n",
       "   'R-GGA-70906',\n",
       "   'R-HSA-70906',\n",
       "   'R-MMU-70906',\n",
       "   'R-RNO-70906',\n",
       "   'R-SSC-70906',\n",
       "   'R-TGU-70906',\n",
       "   'R-XTR-70906']},\n",
       " 'MNXR100897': {'metanetx': ['MNXR100897'],\n",
       "  'bigg': ['It'],\n",
       "  'deprecated': ['MNXR3142'],\n",
       "  'kegg': nan,\n",
       "  'seed': nan,\n",
       "  'metacyc': nan,\n",
       "  'rhea': nan,\n",
       "  'sabiork': nan,\n",
       "  'reactome': nan},\n",
       " 'MNXR100898': {'metanetx': ['MNXR100898'],\n",
       "  'bigg': ['K2L4A3ODAex'],\n",
       "  'deprecated': ['MNXR83170'],\n",
       "  'kegg': nan,\n",
       "  'seed': nan,\n",
       "  'metacyc': nan,\n",
       "  'rhea': nan,\n",
       "  'sabiork': nan,\n",
       "  'reactome': nan},\n",
       " 'MNXR100899': {'metanetx': ['MNXR100899'],\n",
       "  'bigg': ['K2L4Aabcpp'],\n",
       "  'deprecated': nan,\n",
       "  'kegg': nan,\n",
       "  'seed': ['rxn08760'],\n",
       "  'metacyc': nan,\n",
       "  'rhea': ['35247#1', '35248#1', '35249#1', '35250#1'],\n",
       "  'sabiork': nan,\n",
       "  'reactome': nan},\n",
       " 'MNXR100900': {'metanetx': ['MNXR100900'],\n",
       "  'bigg': ['K2L4Aabctex'],\n",
       "  'deprecated': nan,\n",
       "  'kegg': nan,\n",
       "  'seed': nan,\n",
       "  'metacyc': nan,\n",
       "  'rhea': nan,\n",
       "  'sabiork': nan,\n",
       "  'reactome': nan},\n",
       " 'MNXR100901': {'metanetx': ['MNXR100901'],\n",
       "  'bigg': ['K2L4Atex'],\n",
       "  'deprecated': ['MNXR3144'],\n",
       "  'kegg': nan,\n",
       "  'seed': ['rxn08761'],\n",
       "  'metacyc': nan,\n",
       "  'rhea': nan,\n",
       "  'sabiork': nan,\n",
       "  'reactome': nan},\n",
       " 'MNXR100902': {'metanetx': ['MNXR100902'],\n",
       "  'bigg': ['KARA2', 'KARA2im'],\n",
       "  'deprecated': ['MNXR72831', 'MNXR3146'],\n",
       "  'kegg': nan,\n",
       "  'seed': nan,\n",
       "  'metacyc': ['ACETOOHBUTREDUCTOISOM-RXN'],\n",
       "  'rhea': ['13493', '13494', '13495', '13496'],\n",
       "  'sabiork': nan,\n",
       "  'reactome': nan},\n",
       " 'MNXR100903': {'metanetx': ['MNXR100903'],\n",
       "  'bigg': ['KARI'],\n",
       "  'deprecated': ['MNXR15893'],\n",
       "  'kegg': ['R05069'],\n",
       "  'seed': nan,\n",
       "  'metacyc': ['RXN-14106'],\n",
       "  'rhea': ['25404', '25405', '25406', '25407'],\n",
       "  'sabiork': nan,\n",
       "  'reactome': nan},\n",
       " 'MNXR100904': {'metanetx': ['MNXR100904'],\n",
       "  'bigg': ['KARI_23dhmb'],\n",
       "  'deprecated': ['MNXR74267', 'MNXR15675'],\n",
       "  'kegg': ['R04440'],\n",
       "  'seed': nan,\n",
       "  'metacyc': nan,\n",
       "  'rhea': ['31139', '31140', '31141', '31142'],\n",
       "  'sabiork': nan,\n",
       "  'reactome': nan},\n",
       " 'MNXR100905': {'metanetx': ['MNXR100905'],\n",
       "  'bigg': ['KARI_23dhmp'],\n",
       "  'deprecated': ['MNXR15892', 'MNXR83171'],\n",
       "  'kegg': ['R05068'],\n",
       "  'seed': nan,\n",
       "  'metacyc': nan,\n",
       "  'rhea': nan,\n",
       "  'sabiork': nan,\n",
       "  'reactome': nan},\n",
       " 'MNXR100906': {'metanetx': ['MNXR100906'],\n",
       "  'bigg': ['KARI_3hmoa'],\n",
       "  'deprecated': ['MNXR74397'],\n",
       "  'kegg': ['R05071'],\n",
       "  'seed': nan,\n",
       "  'metacyc': ['2-ACETOLACTATE-MUTASE-RXN'],\n",
       "  'rhea': ['31255', '31256', '31257', '31258'],\n",
       "  'sabiork': nan,\n",
       "  'reactome': nan},\n",
       " 'MNXR100907': {'metanetx': ['MNXR100907'],\n",
       "  'bigg': ['KAS1'],\n",
       "  'deprecated': ['MNXR3147'],\n",
       "  'kegg': nan,\n",
       "  'seed': nan,\n",
       "  'metacyc': nan,\n",
       "  'rhea': nan,\n",
       "  'sabiork': nan,\n",
       "  'reactome': nan},\n",
       " 'MNXR100908': {'metanetx': ['MNXR100908'],\n",
       "  'bigg': ['KAS10'],\n",
       "  'deprecated': ['MNXR3148'],\n",
       "  'kegg': nan,\n",
       "  'seed': ['rxn10026'],\n",
       "  'metacyc': nan,\n",
       "  'rhea': nan,\n",
       "  'sabiork': nan,\n",
       "  'reactome': nan},\n",
       " 'MNXR100909': {'metanetx': ['MNXR100909'],\n",
       "  'bigg': ['KAS11'],\n",
       "  'deprecated': ['MNXR3149'],\n",
       "  'kegg': nan,\n",
       "  'seed': nan,\n",
       "  'metacyc': nan,\n",
       "  'rhea': nan,\n",
       "  'sabiork': nan,\n",
       "  'reactome': nan},\n",
       " 'MNXR100910': {'metanetx': ['MNXR100910'],\n",
       "  'bigg': ['KAS12'],\n",
       "  'deprecated': ['MNXR3150'],\n",
       "  'kegg': nan,\n",
       "  'seed': nan,\n",
       "  'metacyc': nan,\n",
       "  'rhea': nan,\n",
       "  'sabiork': nan,\n",
       "  'reactome': nan},\n",
       " 'MNXR100911': {'metanetx': ['MNXR100911'],\n",
       "  'bigg': ['KAS13'],\n",
       "  'deprecated': ['MNXR3151'],\n",
       "  'kegg': nan,\n",
       "  'seed': ['rxn10029'],\n",
       "  'metacyc': nan,\n",
       "  'rhea': nan,\n",
       "  'sabiork': nan,\n",
       "  'reactome': nan},\n",
       " 'MNXR100912': {'metanetx': ['MNXR100912'],\n",
       "  'bigg': ['KAS14', 'KAS14_1'],\n",
       "  'deprecated': ['MNXR47463', 'MNXR36022', 'MNXR83172'],\n",
       "  'kegg': ['R04355'],\n",
       "  'seed': ['rxn05347'],\n",
       "  'metacyc': ['3-OXOACYL-ACP-SYNTH-BASE-RXN'],\n",
       "  'rhea': nan,\n",
       "  'sabiork': nan,\n",
       "  'reactome': nan},\n",
       " 'MNXR100913': {'metanetx': ['MNXR100913'],\n",
       "  'bigg': ['KAS15'],\n",
       "  'deprecated': ['MNXR19386'],\n",
       "  'kegg': ['R10707'],\n",
       "  'seed': ['rxn08766'],\n",
       "  'metacyc': ['2.3.1.180-RXN'],\n",
       "  'rhea': nan,\n",
       "  'sabiork': nan,\n",
       "  'reactome': nan},\n",
       " 'MNXR100914': {'metanetx': ['MNXR100914'],\n",
       "  'bigg': ['KAS16'],\n",
       "  'deprecated': ['MNXR55663'],\n",
       "  'kegg': nan,\n",
       "  'seed': nan,\n",
       "  'metacyc': nan,\n",
       "  'rhea': nan,\n",
       "  'sabiork': nan,\n",
       "  'reactome': nan},\n",
       " 'MNXR100915': {'metanetx': ['MNXR100915'],\n",
       "  'bigg': ['KAS17'],\n",
       "  'deprecated': ['MNXR83173'],\n",
       "  'kegg': nan,\n",
       "  'seed': nan,\n",
       "  'metacyc': nan,\n",
       "  'rhea': nan,\n",
       "  'sabiork': nan,\n",
       "  'reactome': nan},\n",
       " 'MNXR100916': {'metanetx': ['MNXR100916'],\n",
       "  'bigg': ['KAS19SA'],\n",
       "  'deprecated': ['MNXR53712', 'MNXR3156'],\n",
       "  'kegg': nan,\n",
       "  'seed': ['rxn10863'],\n",
       "  'metacyc': nan,\n",
       "  'rhea': nan,\n",
       "  'sabiork': nan,\n",
       "  'reactome': nan},\n",
       " 'MNXR100917': {'metanetx': ['MNXR100917'],\n",
       "  'bigg': ['KAS2'],\n",
       "  'deprecated': ['MNXR3157'],\n",
       "  'kegg': nan,\n",
       "  'seed': nan,\n",
       "  'metacyc': nan,\n",
       "  'rhea': nan,\n",
       "  'sabiork': nan,\n",
       "  'reactome': nan},\n",
       " 'MNXR100918': {'metanetx': ['MNXR100918'],\n",
       "  'bigg': ['KAS20SA'],\n",
       "  'deprecated': ['MNXR53713', 'MNXR3158'],\n",
       "  'kegg': nan,\n",
       "  'seed': ['rxn10864'],\n",
       "  'metacyc': nan,\n",
       "  'rhea': nan,\n",
       "  'sabiork': nan,\n",
       "  'reactome': nan},\n",
       " 'MNXR100919': {'metanetx': ['MNXR100919'],\n",
       "  'bigg': ['KAS3'],\n",
       "  'deprecated': ['MNXR3159'],\n",
       "  'kegg': nan,\n",
       "  'seed': nan,\n",
       "  'metacyc': nan,\n",
       "  'rhea': nan,\n",
       "  'sabiork': nan,\n",
       "  'reactome': nan},\n",
       " 'MNXR100920': {'metanetx': ['MNXR100920'],\n",
       "  'bigg': ['KAS4'],\n",
       "  'deprecated': ['MNXR3160'],\n",
       "  'kegg': nan,\n",
       "  'seed': nan,\n",
       "  'metacyc': nan,\n",
       "  'rhea': nan,\n",
       "  'sabiork': nan,\n",
       "  'reactome': nan},\n",
       " 'MNXR100921': {'metanetx': ['MNXR100921'],\n",
       "  'bigg': ['KAS5'],\n",
       "  'deprecated': ['MNXR3161'],\n",
       "  'kegg': nan,\n",
       "  'seed': ['rxn10034'],\n",
       "  'metacyc': nan,\n",
       "  'rhea': nan,\n",
       "  'sabiork': nan,\n",
       "  'reactome': nan},\n",
       " 'MNXR100922': {'metanetx': ['MNXR100922'],\n",
       "  'bigg': ['KAS6'],\n",
       "  'deprecated': ['MNXR3162'],\n",
       "  'kegg': nan,\n",
       "  'seed': nan,\n",
       "  'metacyc': nan,\n",
       "  'rhea': nan,\n",
       "  'sabiork': nan,\n",
       "  'reactome': nan},\n",
       " 'MNXR100923': {'metanetx': ['MNXR100923'],\n",
       "  'bigg': ['KAS7'],\n",
       "  'deprecated': ['MNXR3163'],\n",
       "  'kegg': nan,\n",
       "  'seed': nan,\n",
       "  'metacyc': nan,\n",
       "  'rhea': nan,\n",
       "  'sabiork': nan,\n",
       "  'reactome': nan},\n",
       " 'MNXR100924': {'metanetx': ['MNXR100924'],\n",
       "  'bigg': ['KAS8'],\n",
       "  'deprecated': ['MNXR3164'],\n",
       "  'kegg': nan,\n",
       "  'seed': ['rxn05291'],\n",
       "  'metacyc': nan,\n",
       "  'rhea': nan,\n",
       "  'sabiork': nan,\n",
       "  'reactome': ['R-BTA-75872',\n",
       "   'R-CEL-75872',\n",
       "   'R-CFA-75872',\n",
       "   'R-DME-75872',\n",
       "   'R-DRE-75872',\n",
       "   'R-GGA-75872',\n",
       "   'R-HSA-75872',\n",
       "   'R-MMU-75872',\n",
       "   'R-RNO-75872',\n",
       "   'R-SCE-75872',\n",
       "   'R-SSC-75872',\n",
       "   'R-TGU-75872',\n",
       "   'R-XTR-75872']},\n",
       " 'MNXR100925': {'metanetx': ['MNXR100925'],\n",
       "  'bigg': ['KAS9'],\n",
       "  'deprecated': ['MNXR3165'],\n",
       "  'kegg': nan,\n",
       "  'seed': ['rxn10038'],\n",
       "  'metacyc': nan,\n",
       "  'rhea': nan,\n",
       "  'sabiork': nan,\n",
       "  'reactome': nan},\n",
       " 'MNXR100926': {'metanetx': ['MNXR100926'],\n",
       "  'bigg': ['KAS_HP'],\n",
       "  'deprecated': ['MNXR47404'],\n",
       "  'kegg': nan,\n",
       "  'seed': nan,\n",
       "  'metacyc': nan,\n",
       "  'rhea': nan,\n",
       "  'sabiork': nan,\n",
       "  'reactome': nan},\n",
       " 'MNXR100927': {'metanetx': ['MNXR100927'],\n",
       "  'bigg': ['KAS_HP2'],\n",
       "  'deprecated': ['MNXR47405'],\n",
       "  'kegg': nan,\n",
       "  'seed': nan,\n",
       "  'metacyc': nan,\n",
       "  'rhea': nan,\n",
       "  'sabiork': nan,\n",
       "  'reactome': nan},\n",
       " 'MNXR100928': {'metanetx': ['MNXR100928'],\n",
       "  'bigg': ['KATp'],\n",
       "  'deprecated': ['MNXR55665', 'MNXR3169'],\n",
       "  'kegg': ['R00391'],\n",
       "  'seed': ['rxn05831'],\n",
       "  'metacyc': nan,\n",
       "  'rhea': ['21564', '21565', '21566', '21567'],\n",
       "  'sabiork': nan,\n",
       "  'reactome': ['R-BTA-8874745',\n",
       "   'R-CEL-8874745',\n",
       "   'R-CFA-8874745',\n",
       "   'R-DME-8874745',\n",
       "   'R-DRE-8874745',\n",
       "   'R-GGA-8874745',\n",
       "   'R-HSA-8874745',\n",
       "   'R-MMU-8874745',\n",
       "   'R-RNO-8874745',\n",
       "   'R-SCE-8874745',\n",
       "   'R-SSC-8874745',\n",
       "   'R-TGU-8874745',\n",
       "   'R-XTR-8874745']},\n",
       " 'MNXR100929': {'metanetx': ['MNXR100929'],\n",
       "  'bigg': ['KCC2t'],\n",
       "  'deprecated': ['MNXR3170', 'MNXR83174'],\n",
       "  'kegg': nan,\n",
       "  'seed': nan,\n",
       "  'metacyc': nan,\n",
       "  'rhea': nan,\n",
       "  'sabiork': nan,\n",
       "  'reactome': nan},\n",
       " 'MNXR100930': {'metanetx': ['MNXR100930'],\n",
       "  'bigg': ['KCCt'],\n",
       "  'deprecated': ['MNXR3171'],\n",
       "  'kegg': nan,\n",
       "  'seed': nan,\n",
       "  'metacyc': nan,\n",
       "  'rhea': nan,\n",
       "  'sabiork': nan,\n",
       "  'reactome': ['R-ATH-426155',\n",
       "   'R-BTA-426155',\n",
       "   'R-CEL-426155',\n",
       "   'R-CFA-426155',\n",
       "   'R-DME-426155',\n",
       "   'R-DRE-426155',\n",
       "   'R-GGA-426155',\n",
       "   'R-HSA-426155',\n",
       "   'R-MMU-426155',\n",
       "   'R-OSA-426155',\n",
       "   'R-RNO-426155',\n",
       "   'R-SCE-426155',\n",
       "   'R-SSC-426155',\n",
       "   'R-TGU-426155',\n",
       "   'R-XTR-426155']},\n",
       " 'MNXR100931': {'metanetx': ['MNXR100931'],\n",
       "  'bigg': ['KDNH'],\n",
       "  'deprecated': ['MNXR3172'],\n",
       "  'kegg': nan,\n",
       "  'seed': nan,\n",
       "  'metacyc': nan,\n",
       "  'rhea': nan,\n",
       "  'sabiork': nan,\n",
       "  'reactome': nan},\n",
       " 'MNXR100932': {'metanetx': ['MNXR100932'],\n",
       "  'bigg': ['KDOCT', 'KDOCT2'],\n",
       "  'deprecated': ['MNXR91998', 'MNXR69298', 'MNXR3174'],\n",
       "  'kegg': nan,\n",
       "  'seed': nan,\n",
       "  'metacyc': ['CPM-KDOSYNTH-RXN'],\n",
       "  'rhea': ['23448', '23449', '23450', '23451'],\n",
       "  'sabiork': nan,\n",
       "  'reactome': nan},\n",
       " 'MNXR100933': {'metanetx': ['MNXR100933'],\n",
       "  'bigg': ['KDOPP'],\n",
       "  'deprecated': ['MNXR91743', 'MNXR3175'],\n",
       "  'kegg': nan,\n",
       "  'seed': nan,\n",
       "  'metacyc': ['KDO-8PPHOSPHAT-RXN'],\n",
       "  'rhea': ['11500', '11501', '11502', '11503'],\n",
       "  'sabiork': nan,\n",
       "  'reactome': nan},\n",
       " 'MNXR100934': {'metanetx': ['MNXR100934'],\n",
       "  'bigg': ['KDOPS'],\n",
       "  'deprecated': ['MNXR91792', 'MNXR3176'],\n",
       "  'kegg': ['R03254'],\n",
       "  'seed': ['rxn02331'],\n",
       "  'metacyc': nan,\n",
       "  'rhea': ['14053', '14054', '14055', '14056'],\n",
       "  'sabiork': ['3075'],\n",
       "  'reactome': nan},\n",
       " 'MNXR100935': {'metanetx': ['MNXR100935'],\n",
       "  'bigg': ['KG6PDC'],\n",
       "  'deprecated': ['MNXR3177'],\n",
       "  'kegg': ['R07125'],\n",
       "  'seed': ['rxn04928'],\n",
       "  'metacyc': ['RXN0-705'],\n",
       "  'rhea': ['14353', '14354', '14355', '14356'],\n",
       "  'sabiork': ['7628'],\n",
       "  'reactome': nan},\n",
       " 'MNXR100936': {'metanetx': ['MNXR100936'],\n",
       "  'bigg': ['KHK'],\n",
       "  'deprecated': ['MNXR79259', 'MNXR84817', 'MNXR69299', 'MNXR20480'],\n",
       "  'kegg': ['R00866'],\n",
       "  'seed': ['rxn00627'],\n",
       "  'metacyc': nan,\n",
       "  'rhea': ['18145', '18146', '18147', '18148'],\n",
       "  'sabiork': ['576'],\n",
       "  'reactome': nan},\n",
       " 'MNXR100937': {'metanetx': ['MNXR100937'],\n",
       "  'bigg': ['KHK2'],\n",
       "  'deprecated': ['MNXR59298',\n",
       "   'MNXR73818',\n",
       "   'MNXR55666',\n",
       "   'MNXR69300',\n",
       "   'MNXR83175'],\n",
       "  'kegg': ['R01902'],\n",
       "  'seed': ['rxn01390'],\n",
       "  'metacyc': nan,\n",
       "  'rhea': nan,\n",
       "  'sabiork': nan,\n",
       "  'reactome': nan},\n",
       " 'MNXR100938': {'metanetx': ['MNXR100938'],\n",
       "  'bigg': ['KHK3'],\n",
       "  'deprecated': ['MNXR69301', 'MNXR3180'],\n",
       "  'kegg': nan,\n",
       "  'seed': nan,\n",
       "  'metacyc': nan,\n",
       "  'rhea': nan,\n",
       "  'sabiork': nan,\n",
       "  'reactome': nan},\n",
       " 'MNXR100939': {'metanetx': ['MNXR100939'],\n",
       "  'bigg': ['KHte', 'Kt3g', 'Kt3pp', 'Kt3r'],\n",
       "  'deprecated': nan,\n",
       "  'kegg': nan,\n",
       "  'seed': ['rxn05596', 'rxn08770'],\n",
       "  'metacyc': ['TRANS-RXN-42'],\n",
       "  'rhea': ['29467', '29468', '29469', '29470'],\n",
       "  'sabiork': nan,\n",
       "  'reactome': nan},\n",
       " 'MNXR100940': {'metanetx': ['MNXR100940'],\n",
       "  'bigg': ['KOKDO_LIPAhexa'],\n",
       "  'deprecated': ['MNXR83176'],\n",
       "  'kegg': nan,\n",
       "  'seed': nan,\n",
       "  'metacyc': nan,\n",
       "  'rhea': nan,\n",
       "  'sabiork': nan,\n",
       "  'reactome': nan},\n",
       " 'MNXR100941': {'metanetx': ['MNXR100941'],\n",
       "  'bigg': ['KOKDO_LIPApenta'],\n",
       "  'deprecated': ['MNXR83177'],\n",
       "  'kegg': nan,\n",
       "  'seed': nan,\n",
       "  'metacyc': nan,\n",
       "  'rhea': nan,\n",
       "  'sabiork': nan,\n",
       "  'reactome': nan},\n",
       " 'MNXR100942': {'metanetx': ['MNXR100942'],\n",
       "  'bigg': ['KOKDO_LIPAtetra'],\n",
       "  'deprecated': ['MNXR83178'],\n",
       "  'kegg': nan,\n",
       "  'seed': nan,\n",
       "  'metacyc': nan,\n",
       "  'rhea': nan,\n",
       "  'sabiork': nan,\n",
       "  'reactome': nan},\n",
       " 'MNXR100943': {'metanetx': ['MNXR100943'],\n",
       "  'bigg': ['KSII_CORE2t', 'KSII_CORE2tly'],\n",
       "  'deprecated': ['MNXR3181'],\n",
       "  'kegg': nan,\n",
       "  'seed': nan,\n",
       "  'metacyc': nan,\n",
       "  'rhea': nan,\n",
       "  'sabiork': nan,\n",
       "  'reactome': nan},\n",
       " 'MNXR100944': {'metanetx': ['MNXR100944'],\n",
       "  'bigg': ['KSII_CORE4t', 'KSII_CORE4tly'],\n",
       "  'deprecated': ['MNXR3182'],\n",
       "  'kegg': nan,\n",
       "  'seed': nan,\n",
       "  'metacyc': nan,\n",
       "  'rhea': nan,\n",
       "  'sabiork': nan,\n",
       "  'reactome': nan},\n",
       " 'MNXR100945': {'metanetx': ['MNXR100945'],\n",
       "  'bigg': ['KSIt', 'KSItly'],\n",
       "  'deprecated': ['MNXR3183'],\n",
       "  'kegg': nan,\n",
       "  'seed': nan,\n",
       "  'metacyc': nan,\n",
       "  'rhea': nan,\n",
       "  'sabiork': nan,\n",
       "  'reactome': nan},\n",
       " 'MNXR100946': {'metanetx': ['MNXR100946'],\n",
       "  'bigg': ['KYN'],\n",
       "  'deprecated': ['MNXR3184'],\n",
       "  'kegg': ['R00987'],\n",
       "  'seed': ['rxn00728'],\n",
       "  'metacyc': ['KYNURENINASE-RXN'],\n",
       "  'rhea': ['16813', '16814', '16815', '16816'],\n",
       "  'sabiork': ['1281'],\n",
       "  'reactome': nan},\n",
       " 'MNXR100947': {'metanetx': ['MNXR100947'],\n",
       "  'bigg': ['KYN3OX'],\n",
       "  'deprecated': ['MNXR65938', 'MNXR3185'],\n",
       "  'kegg': ['R01960'],\n",
       "  'seed': ['rxn01438'],\n",
       "  'metacyc': ['KYNURENINE-3-MONOOXYGENASE-RXN'],\n",
       "  'rhea': ['20545', '20546', '20547', '20548'],\n",
       "  'sabiork': nan,\n",
       "  'reactome': ['R-BTA-71200',\n",
       "   'R-CEL-71200',\n",
       "   'R-CFA-71200',\n",
       "   'R-DDI-71200',\n",
       "   'R-DME-71200',\n",
       "   'R-DRE-71200',\n",
       "   'R-GGA-71200',\n",
       "   'R-HSA-71200',\n",
       "   'R-MMU-71200',\n",
       "   'R-RNO-71200',\n",
       "   'R-SCE-71200',\n",
       "   'R-SSC-71200',\n",
       "   'R-TGU-71200',\n",
       "   'R-XTR-71200']},\n",
       " 'MNXR100948': {'metanetx': ['MNXR100948'],\n",
       "  'bigg': ['KYNAKGAT', 'KYNAKGATm'],\n",
       "  'deprecated': nan,\n",
       "  'kegg': nan,\n",
       "  'seed': nan,\n",
       "  'metacyc': nan,\n",
       "  'rhea': nan,\n",
       "  'sabiork': nan,\n",
       "  'reactome': nan},\n",
       " 'MNXR100949': {'metanetx': ['MNXR100949'],\n",
       "  'bigg': ['KYNATESYN', 'KYNATESYNm'],\n",
       "  'deprecated': nan,\n",
       "  'kegg': nan,\n",
       "  'seed': nan,\n",
       "  'metacyc': nan,\n",
       "  'rhea': nan,\n",
       "  'sabiork': nan,\n",
       "  'reactome': nan},\n",
       " 'MNXR100950': {'metanetx': ['MNXR100950'],\n",
       "  'bigg': ['Kt1', 'Ktex', 'r1492'],\n",
       "  'deprecated': ['MNXR3189'],\n",
       "  'kegg': nan,\n",
       "  'seed': ['rxn05206', 'rxn08771'],\n",
       "  'metacyc': ['TRANS-RXN-143',\n",
       "   'TRANS-RXN-185',\n",
       "   'TRANS-RXN-186',\n",
       "   'TRANS-RXN-187',\n",
       "   'TRANS-RXN-190'],\n",
       "  'rhea': ['29463', '29464', '29465', '29466'],\n",
       "  'sabiork': ['7044'],\n",
       "  'reactome': ['R-ATH-1296043',\n",
       "   'R-BTA-1013020',\n",
       "   'R-BTA-1296024',\n",
       "   'R-BTA-1296035',\n",
       "   'R-BTA-1296037',\n",
       "   'R-BTA-1296039',\n",
       "   'R-BTA-1296043',\n",
       "   'R-BTA-1296045',\n",
       "   'R-BTA-1296046',\n",
       "   'R-BTA-1296127',\n",
       "   'R-BTA-1296348',\n",
       "   'R-BTA-1299297',\n",
       "   'R-BTA-1299304',\n",
       "   'R-BTA-1299318',\n",
       "   'R-BTA-1299338',\n",
       "   'R-BTA-1299359',\n",
       "   'R-BTA-1369017',\n",
       "   'R-BTA-2534365',\n",
       "   'R-BTA-5577050',\n",
       "   'R-BTA-5577234',\n",
       "   'R-BTA-5577237',\n",
       "   'R-BTA-5578910',\n",
       "   'R-BTA-5678261',\n",
       "   'R-BTA-877187',\n",
       "   'R-CEL-1013020',\n",
       "   'R-CEL-1296035',\n",
       "   'R-CEL-1296039',\n",
       "   'R-CEL-1296045',\n",
       "   'R-CEL-1296046',\n",
       "   'R-CEL-1296348',\n",
       "   'R-CEL-1299297',\n",
       "   'R-CEL-1299318',\n",
       "   'R-CEL-1299338',\n",
       "   'R-CEL-1299359',\n",
       "   'R-CEL-5577234',\n",
       "   'R-CEL-5578910',\n",
       "   'R-CFA-1013020',\n",
       "   'R-CFA-1296024',\n",
       "   'R-CFA-1296035',\n",
       "   'R-CFA-1296037',\n",
       "   'R-CFA-1296039',\n",
       "   'R-CFA-1296043',\n",
       "   'R-CFA-1296045',\n",
       "   'R-CFA-1296046',\n",
       "   'R-CFA-1296127',\n",
       "   'R-CFA-1296348',\n",
       "   'R-CFA-1299297',\n",
       "   'R-CFA-1299304',\n",
       "   'R-CFA-1299318',\n",
       "   'R-CFA-1299338',\n",
       "   'R-CFA-1299359',\n",
       "   'R-CFA-1369017',\n",
       "   'R-CFA-2534365',\n",
       "   'R-CFA-5577050',\n",
       "   'R-CFA-5577234',\n",
       "   'R-CFA-5577237',\n",
       "   'R-CFA-5578910',\n",
       "   'R-CFA-5678261',\n",
       "   'R-CFA-877187',\n",
       "   'R-DME-1013020',\n",
       "   'R-DME-1296035',\n",
       "   'R-DME-1296039',\n",
       "   'R-DME-1296043',\n",
       "   'R-DME-1296045',\n",
       "   'R-DME-1296046',\n",
       "   'R-DME-1296127',\n",
       "   'R-DME-1296348',\n",
       "   'R-DME-1299318',\n",
       "   'R-DME-1299338',\n",
       "   'R-DME-1299359',\n",
       "   'R-DME-5577234',\n",
       "   'R-DME-5578910',\n",
       "   'R-DRE-1013020',\n",
       "   'R-DRE-1296024',\n",
       "   'R-DRE-1296035',\n",
       "   'R-DRE-1296037',\n",
       "   'R-DRE-1296039',\n",
       "   'R-DRE-1296043',\n",
       "   'R-DRE-1296045',\n",
       "   'R-DRE-1296046',\n",
       "   'R-DRE-1296127',\n",
       "   'R-DRE-1296348',\n",
       "   'R-DRE-1299304',\n",
       "   'R-DRE-1299318',\n",
       "   'R-DRE-1299338',\n",
       "   'R-DRE-1299359',\n",
       "   'R-DRE-1369017',\n",
       "   'R-DRE-5577050',\n",
       "   'R-DRE-5577234',\n",
       "   'R-DRE-5577237',\n",
       "   'R-DRE-5578910',\n",
       "   'R-DRE-5678261',\n",
       "   'R-DRE-877187',\n",
       "   'R-GGA-1013020',\n",
       "   'R-GGA-1296024',\n",
       "   'R-GGA-1296035',\n",
       "   'R-GGA-1296037',\n",
       "   'R-GGA-1296039',\n",
       "   'R-GGA-1296043',\n",
       "   'R-GGA-1296045',\n",
       "   'R-GGA-1296046',\n",
       "   'R-GGA-1296127',\n",
       "   'R-GGA-1296348',\n",
       "   'R-GGA-1299304',\n",
       "   'R-GGA-1299318',\n",
       "   'R-GGA-1299338',\n",
       "   'R-GGA-1299359',\n",
       "   'R-GGA-1369017',\n",
       "   'R-GGA-5577050',\n",
       "   'R-GGA-5577234',\n",
       "   'R-GGA-5577237',\n",
       "   'R-GGA-5578910',\n",
       "   'R-GGA-5678261',\n",
       "   'R-GGA-877187',\n",
       "   'R-HSA-1013020',\n",
       "   'R-HSA-1296024',\n",
       "   'R-HSA-1296035',\n",
       "   'R-HSA-1296037',\n",
       "   'R-HSA-1296039',\n",
       "   'R-HSA-1296043',\n",
       "   'R-HSA-1296045',\n",
       "   'R-HSA-1296046',\n",
       "   'R-HSA-1296127',\n",
       "   'R-HSA-1296348',\n",
       "   'R-HSA-1299297',\n",
       "   'R-HSA-1299304',\n",
       "   'R-HSA-1299318',\n",
       "   'R-HSA-1299338',\n",
       "   'R-HSA-1299359',\n",
       "   'R-HSA-1369017',\n",
       "   'R-HSA-2534365',\n",
       "   'R-HSA-5577050',\n",
       "   'R-HSA-5577234',\n",
       "   'R-HSA-5577237',\n",
       "   'R-HSA-5578910',\n",
       "   'R-HSA-5678261',\n",
       "   'R-HSA-5683209',\n",
       "   'R-HSA-877187',\n",
       "   'R-MMU-1013020',\n",
       "   'R-MMU-1296024',\n",
       "   'R-MMU-1296035',\n",
       "   'R-MMU-1296037',\n",
       "   'R-MMU-1296039',\n",
       "   'R-MMU-1296043',\n",
       "   'R-MMU-1296045',\n",
       "   'R-MMU-1296046',\n",
       "   'R-MMU-1296127',\n",
       "   'R-MMU-1296348',\n",
       "   'R-MMU-1299297',\n",
       "   'R-MMU-1299304',\n",
       "   'R-MMU-1299318',\n",
       "   'R-MMU-1299338',\n",
       "   'R-MMU-1299359',\n",
       "   'R-MMU-1369017',\n",
       "   'R-MMU-2534365',\n",
       "   'R-MMU-5577050',\n",
       "   'R-MMU-5577234',\n",
       "   'R-MMU-5577237',\n",
       "   'R-MMU-5578910',\n",
       "   'R-MMU-5678261',\n",
       "   'R-MMU-877187',\n",
       "   'R-OSA-1296043',\n",
       "   'R-RNO-1013020',\n",
       "   'R-RNO-1296024',\n",
       "   'R-RNO-1296035',\n",
       "   'R-RNO-1296037',\n",
       "   'R-RNO-1296039',\n",
       "   'R-RNO-1296043',\n",
       "   'R-RNO-1296045',\n",
       "   'R-RNO-1296046',\n",
       "   'R-RNO-1296127',\n",
       "   'R-RNO-1296348',\n",
       "   'R-RNO-1299297',\n",
       "   'R-RNO-1299304',\n",
       "   'R-RNO-1299318',\n",
       "   'R-RNO-1299338',\n",
       "   'R-RNO-1299359',\n",
       "   'R-RNO-1369017',\n",
       "   'R-RNO-2534365',\n",
       "   'R-RNO-5577050',\n",
       "   'R-RNO-5577234',\n",
       "   'R-RNO-5577237',\n",
       "   'R-RNO-5578910',\n",
       "   'R-RNO-5678261',\n",
       "   'R-RNO-877187',\n",
       "   'R-SSC-1013020',\n",
       "   'R-SSC-1296024',\n",
       "   'R-SSC-1296035',\n",
       "   'R-SSC-1296037',\n",
       "   'R-SSC-1296039',\n",
       "   'R-SSC-1296043',\n",
       "   'R-SSC-1296045',\n",
       "   'R-SSC-1296046',\n",
       "   'R-SSC-1296127',\n",
       "   'R-SSC-1296348',\n",
       "   'R-SSC-1299297',\n",
       "   'R-SSC-1299304',\n",
       "   'R-SSC-1299338',\n",
       "   'R-SSC-1299359',\n",
       "   'R-SSC-1369017',\n",
       "   'R-SSC-2534365',\n",
       "   'R-SSC-5577234',\n",
       "   'R-SSC-5577237',\n",
       "   'R-SSC-5578910',\n",
       "   'R-SSC-5678261',\n",
       "   'R-SSC-877187',\n",
       "   'R-TGU-1013020',\n",
       "   'R-TGU-1296024',\n",
       "   'R-TGU-1296037',\n",
       "   'R-TGU-1296039',\n",
       "   'R-TGU-1296043',\n",
       "   'R-TGU-1296045',\n",
       "   'R-TGU-1296046',\n",
       "   'R-TGU-1296127',\n",
       "   'R-TGU-1296348',\n",
       "   'R-TGU-1299304',\n",
       "   'R-TGU-1299338',\n",
       "   'R-TGU-1299359',\n",
       "   'R-TGU-1369017',\n",
       "   'R-TGU-5577050',\n",
       "   'R-TGU-5577234',\n",
       "   'R-TGU-5578910',\n",
       "   'R-TGU-5678261',\n",
       "   'R-XTR-1013020',\n",
       "   'R-XTR-1296035',\n",
       "   'R-XTR-1296037',\n",
       "   'R-XTR-1296039',\n",
       "   'R-XTR-1296043',\n",
       "   'R-XTR-1296045',\n",
       "   'R-XTR-1296046',\n",
       "   'R-XTR-1296127',\n",
       "   'R-XTR-1296348',\n",
       "   'R-XTR-1299304',\n",
       "   'R-XTR-1299318',\n",
       "   'R-XTR-1299338',\n",
       "   'R-XTR-1299359',\n",
       "   'R-XTR-1369017',\n",
       "   'R-XTR-5577050',\n",
       "   'R-XTR-5577234',\n",
       "   'R-XTR-5577237',\n",
       "   'R-XTR-5578910',\n",
       "   'R-XTR-5678261',\n",
       "   'R-XTR-877187']},\n",
       " 'MNXR100951': {'metanetx': ['MNXR100951'],\n",
       "  'bigg': ['Kt2pp', 'Kt2r'],\n",
       "  'deprecated': nan,\n",
       "  'kegg': nan,\n",
       "  'seed': ['rxn05595', 'rxn08769'],\n",
       "  'metacyc': ['TRANS-RXN-3'],\n",
       "  'rhea': ['28490', '28491', '28492', '28493'],\n",
       "  'sabiork': nan,\n",
       "  'reactome': nan},\n",
       " 'MNXR100952': {'metanetx': ['MNXR100952'],\n",
       "  'bigg': ['LA4NTGM1pp'],\n",
       "  'deprecated': ['MNXR83179'],\n",
       "  'kegg': nan,\n",
       "  'seed': nan,\n",
       "  'metacyc': nan,\n",
       "  'rhea': nan,\n",
       "  'sabiork': nan,\n",
       "  'reactome': nan},\n",
       " 'MNXR100953': {'metanetx': ['MNXR100953'],\n",
       "  'bigg': ['LA4NTGM2pp'],\n",
       "  'deprecated': ['MNXR83180'],\n",
       "  'kegg': nan,\n",
       "  'seed': nan,\n",
       "  'metacyc': nan,\n",
       "  'rhea': nan,\n",
       "  'sabiork': nan,\n",
       "  'reactome': nan},\n",
       " 'MNXR100954': {'metanetx': ['MNXR100954'],\n",
       "  'bigg': ['LA4NTpp'],\n",
       "  'deprecated': ['MNXR31779', 'MNXR69305', 'MNXR83181'],\n",
       "  'kegg': nan,\n",
       "  'seed': ['rxn08772'],\n",
       "  'metacyc': nan,\n",
       "  'rhea': nan,\n",
       "  'sabiork': nan,\n",
       "  'reactome': nan},\n",
       " 'MNXR100955': {'metanetx': ['MNXR100955'],\n",
       "  'bigg': ['LAAF'],\n",
       "  'deprecated': nan,\n",
       "  'kegg': nan,\n",
       "  'seed': nan,\n",
       "  'metacyc': nan,\n",
       "  'rhea': nan,\n",
       "  'sabiork': nan,\n",
       "  'reactome': nan},\n",
       " 'MNXR100956': {'metanetx': ['MNXR100956'],\n",
       "  'bigg': ['LAAL1'],\n",
       "  'deprecated': ['MNXR28543'],\n",
       "  'kegg': nan,\n",
       "  'seed': ['rxn09897'],\n",
       "  'metacyc': nan,\n",
       "  'rhea': nan,\n",
       "  'sabiork': nan,\n",
       "  'reactome': nan},\n",
       " 'MNXR100957': {'metanetx': ['MNXR100957'],\n",
       "  'bigg': ['LAAL10'],\n",
       "  'deprecated': ['MNXR28544'],\n",
       "  'kegg': nan,\n",
       "  'seed': ['rxn09898'],\n",
       "  'metacyc': nan,\n",
       "  'rhea': nan,\n",
       "  'sabiork': nan,\n",
       "  'reactome': nan},\n",
       " 'MNXR100958': {'metanetx': ['MNXR100958'],\n",
       "  'bigg': ['LAAL11'],\n",
       "  'deprecated': ['MNXR28545'],\n",
       "  'kegg': nan,\n",
       "  'seed': ['rxn09899'],\n",
       "  'metacyc': nan,\n",
       "  'rhea': nan,\n",
       "  'sabiork': nan,\n",
       "  'reactome': nan},\n",
       " 'MNXR100959': {'metanetx': ['MNXR100959'],\n",
       "  'bigg': ['LAAL12'],\n",
       "  'deprecated': ['MNXR28546'],\n",
       "  'kegg': nan,\n",
       "  'seed': ['rxn09900'],\n",
       "  'metacyc': nan,\n",
       "  'rhea': nan,\n",
       "  'sabiork': nan,\n",
       "  'reactome': nan},\n",
       " 'MNXR100960': {'metanetx': ['MNXR100960'],\n",
       "  'bigg': ['LAAL13'],\n",
       "  'deprecated': ['MNXR28547', 'MNXR94308'],\n",
       "  'kegg': nan,\n",
       "  'seed': ['rxn09901'],\n",
       "  'metacyc': nan,\n",
       "  'rhea': nan,\n",
       "  'sabiork': nan,\n",
       "  'reactome': nan},\n",
       " 'MNXR100961': {'metanetx': ['MNXR100961'],\n",
       "  'bigg': ['LAAL14'],\n",
       "  'deprecated': ['MNXR28548', 'MNXR80446'],\n",
       "  'kegg': nan,\n",
       "  'seed': ['rxn09902'],\n",
       "  'metacyc': nan,\n",
       "  'rhea': nan,\n",
       "  'sabiork': nan,\n",
       "  'reactome': nan},\n",
       " 'MNXR100962': {'metanetx': ['MNXR100962'],\n",
       "  'bigg': ['LAAL15'],\n",
       "  'deprecated': ['MNXR67389'],\n",
       "  'kegg': nan,\n",
       "  'seed': ['rxn09903'],\n",
       "  'metacyc': nan,\n",
       "  'rhea': nan,\n",
       "  'sabiork': nan,\n",
       "  'reactome': nan},\n",
       " 'MNXR100963': {'metanetx': ['MNXR100963'],\n",
       "  'bigg': ['LAAL16'],\n",
       "  'deprecated': ['MNXR28550'],\n",
       "  'kegg': nan,\n",
       "  'seed': ['rxn09904'],\n",
       "  'metacyc': nan,\n",
       "  'rhea': nan,\n",
       "  'sabiork': nan,\n",
       "  'reactome': nan},\n",
       " 'MNXR100964': {'metanetx': ['MNXR100964'],\n",
       "  'bigg': ['LAAL17'],\n",
       "  'deprecated': ['MNXR28551'],\n",
       "  'kegg': nan,\n",
       "  'seed': ['rxn09905'],\n",
       "  'metacyc': nan,\n",
       "  'rhea': nan,\n",
       "  'sabiork': nan,\n",
       "  'reactome': nan},\n",
       " 'MNXR100965': {'metanetx': ['MNXR100965'],\n",
       "  'bigg': ['LAAL18'],\n",
       "  'deprecated': ['MNXR28552'],\n",
       "  'kegg': nan,\n",
       "  'seed': ['rxn09906'],\n",
       "  'metacyc': nan,\n",
       "  'rhea': nan,\n",
       "  'sabiork': nan,\n",
       "  'reactome': nan},\n",
       " 'MNXR100966': {'metanetx': ['MNXR100966'],\n",
       "  'bigg': ['LAAL19'],\n",
       "  'deprecated': ['MNXR67390'],\n",
       "  'kegg': nan,\n",
       "  'seed': ['rxn09907'],\n",
       "  'metacyc': nan,\n",
       "  'rhea': nan,\n",
       "  'sabiork': nan,\n",
       "  'reactome': nan},\n",
       " 'MNXR100967': {'metanetx': ['MNXR100967'],\n",
       "  'bigg': ['LAAL2'],\n",
       "  'deprecated': ['MNXR67391'],\n",
       "  'kegg': nan,\n",
       "  'seed': ['rxn09908'],\n",
       "  'metacyc': nan,\n",
       "  'rhea': nan,\n",
       "  'sabiork': nan,\n",
       "  'reactome': nan},\n",
       " 'MNXR100968': {'metanetx': ['MNXR100968'],\n",
       "  'bigg': ['LAAL20'],\n",
       "  'deprecated': ['MNXR28555', 'MNXR80447'],\n",
       "  'kegg': nan,\n",
       "  'seed': ['rxn09909'],\n",
       "  'metacyc': nan,\n",
       "  'rhea': nan,\n",
       "  'sabiork': nan,\n",
       "  'reactome': nan},\n",
       " 'MNXR100969': {'metanetx': ['MNXR100969'],\n",
       "  'bigg': ['LAAL21'],\n",
       "  'deprecated': ['MNXR28556'],\n",
       "  'kegg': nan,\n",
       "  'seed': ['rxn09910'],\n",
       "  'metacyc': nan,\n",
       "  'rhea': nan,\n",
       "  'sabiork': nan,\n",
       "  'reactome': nan},\n",
       " 'MNXR100970': {'metanetx': ['MNXR100970'],\n",
       "  'bigg': ['LAAL22'],\n",
       "  'deprecated': ['MNXR28557'],\n",
       "  'kegg': nan,\n",
       "  'seed': ['rxn09911'],\n",
       "  'metacyc': nan,\n",
       "  'rhea': nan,\n",
       "  'sabiork': nan,\n",
       "  'reactome': nan},\n",
       " 'MNXR100971': {'metanetx': ['MNXR100971'],\n",
       "  'bigg': ['LAAL23'],\n",
       "  'deprecated': ['MNXR28558'],\n",
       "  'kegg': nan,\n",
       "  'seed': ['rxn09912'],\n",
       "  'metacyc': nan,\n",
       "  'rhea': nan,\n",
       "  'sabiork': nan,\n",
       "  'reactome': nan},\n",
       " 'MNXR100972': {'metanetx': ['MNXR100972'],\n",
       "  'bigg': ['LAAL24'],\n",
       "  'deprecated': ['MNXR28559'],\n",
       "  'kegg': nan,\n",
       "  'seed': ['rxn09913'],\n",
       "  'metacyc': nan,\n",
       "  'rhea': nan,\n",
       "  'sabiork': nan,\n",
       "  'reactome': nan},\n",
       " 'MNXR100973': {'metanetx': ['MNXR100973'],\n",
       "  'bigg': ['LAAL25'],\n",
       "  'deprecated': ['MNXR28560'],\n",
       "  'kegg': nan,\n",
       "  'seed': ['rxn09914'],\n",
       "  'metacyc': nan,\n",
       "  'rhea': nan,\n",
       "  'sabiork': nan,\n",
       "  'reactome': nan},\n",
       " 'MNXR100974': {'metanetx': ['MNXR100974'],\n",
       "  'bigg': ['LAAL26'],\n",
       "  'deprecated': ['MNXR28561', 'MNXR80448'],\n",
       "  'kegg': nan,\n",
       "  'seed': ['rxn09915'],\n",
       "  'metacyc': nan,\n",
       "  'rhea': nan,\n",
       "  'sabiork': nan,\n",
       "  'reactome': nan},\n",
       " 'MNXR100975': {'metanetx': ['MNXR100975'],\n",
       "  'bigg': ['LAAL27'],\n",
       "  'deprecated': ['MNXR28562'],\n",
       "  'kegg': nan,\n",
       "  'seed': ['rxn09916'],\n",
       "  'metacyc': nan,\n",
       "  'rhea': nan,\n",
       "  'sabiork': nan,\n",
       "  'reactome': nan},\n",
       " 'MNXR100976': {'metanetx': ['MNXR100976'],\n",
       "  'bigg': ['LAAL28'],\n",
       "  'deprecated': ['MNXR28563'],\n",
       "  'kegg': nan,\n",
       "  'seed': ['rxn09917'],\n",
       "  'metacyc': nan,\n",
       "  'rhea': nan,\n",
       "  'sabiork': nan,\n",
       "  'reactome': nan},\n",
       " 'MNXR100977': {'metanetx': ['MNXR100977'],\n",
       "  'bigg': ['LAAL29'],\n",
       "  'deprecated': nan,\n",
       "  'kegg': nan,\n",
       "  'seed': nan,\n",
       "  'metacyc': nan,\n",
       "  'rhea': nan,\n",
       "  'sabiork': nan,\n",
       "  'reactome': nan},\n",
       " 'MNXR100978': {'metanetx': ['MNXR100978'],\n",
       "  'bigg': ['LAAL3'],\n",
       "  'deprecated': ['MNXR28565', 'MNXR80449'],\n",
       "  'kegg': nan,\n",
       "  'seed': ['rxn09919'],\n",
       "  'metacyc': nan,\n",
       "  'rhea': nan,\n",
       "  'sabiork': nan,\n",
       "  'reactome': nan},\n",
       " 'MNXR100979': {'metanetx': ['MNXR100979'],\n",
       "  'bigg': ['LAAL30'],\n",
       "  'deprecated': ['MNXR28566'],\n",
       "  'kegg': nan,\n",
       "  'seed': ['rxn09920'],\n",
       "  'metacyc': nan,\n",
       "  'rhea': nan,\n",
       "  'sabiork': nan,\n",
       "  'reactome': nan},\n",
       " 'MNXR100980': {'metanetx': ['MNXR100980'],\n",
       "  'bigg': ['LAAL31'],\n",
       "  'deprecated': ['MNXR28567'],\n",
       "  'kegg': nan,\n",
       "  'seed': ['rxn09921'],\n",
       "  'metacyc': nan,\n",
       "  'rhea': nan,\n",
       "  'sabiork': nan,\n",
       "  'reactome': nan},\n",
       " 'MNXR100981': {'metanetx': ['MNXR100981'],\n",
       "  'bigg': ['LAAL32'],\n",
       "  'deprecated': ['MNXR28568'],\n",
       "  'kegg': nan,\n",
       "  'seed': ['rxn09922'],\n",
       "  'metacyc': nan,\n",
       "  'rhea': nan,\n",
       "  'sabiork': nan,\n",
       "  'reactome': nan},\n",
       " 'MNXR100982': {'metanetx': ['MNXR100982'],\n",
       "  'bigg': ['LAAL33'],\n",
       "  'deprecated': ['MNXR28569', 'MNXR80450'],\n",
       "  'kegg': nan,\n",
       "  'seed': ['rxn09923'],\n",
       "  'metacyc': nan,\n",
       "  'rhea': nan,\n",
       "  'sabiork': nan,\n",
       "  'reactome': nan},\n",
       " 'MNXR100983': {'metanetx': ['MNXR100983'],\n",
       "  'bigg': ['LAAL34'],\n",
       "  'deprecated': ['MNXR28570'],\n",
       "  'kegg': nan,\n",
       "  'seed': ['rxn09924'],\n",
       "  'metacyc': nan,\n",
       "  'rhea': nan,\n",
       "  'sabiork': nan,\n",
       "  'reactome': nan},\n",
       " 'MNXR100984': {'metanetx': ['MNXR100984'],\n",
       "  'bigg': ['LAAL35'],\n",
       "  'deprecated': ['MNXR67392'],\n",
       "  'kegg': nan,\n",
       "  'seed': ['rxn09925'],\n",
       "  'metacyc': nan,\n",
       "  'rhea': nan,\n",
       "  'sabiork': nan,\n",
       "  'reactome': nan},\n",
       " 'MNXR100985': {'metanetx': ['MNXR100985'],\n",
       "  'bigg': ['LAAL36'],\n",
       "  'deprecated': ['MNXR67393'],\n",
       "  'kegg': nan,\n",
       "  'seed': ['rxn09926'],\n",
       "  'metacyc': nan,\n",
       "  'rhea': nan,\n",
       "  'sabiork': ['12790'],\n",
       "  'reactome': nan},\n",
       " 'MNXR100986': {'metanetx': ['MNXR100986'],\n",
       "  'bigg': ['LAAL37'],\n",
       "  'deprecated': ['MNXR28573'],\n",
       "  'kegg': nan,\n",
       "  'seed': ['rxn09927'],\n",
       "  'metacyc': nan,\n",
       "  'rhea': nan,\n",
       "  'sabiork': nan,\n",
       "  'reactome': nan},\n",
       " 'MNXR100987': {'metanetx': ['MNXR100987'],\n",
       "  'bigg': ['LAAL38'],\n",
       "  'deprecated': ['MNXR28574'],\n",
       "  'kegg': nan,\n",
       "  'seed': ['rxn09928'],\n",
       "  'metacyc': nan,\n",
       "  'rhea': nan,\n",
       "  'sabiork': nan,\n",
       "  'reactome': nan},\n",
       " 'MNXR100988': {'metanetx': ['MNXR100988'],\n",
       "  'bigg': ['LAAL39'],\n",
       "  'deprecated': ['MNXR28575', 'MNXR94309'],\n",
       "  'kegg': nan,\n",
       "  'seed': ['rxn09929'],\n",
       "  'metacyc': nan,\n",
       "  'rhea': nan,\n",
       "  'sabiork': nan,\n",
       "  'reactome': nan},\n",
       " 'MNXR100989': {'metanetx': ['MNXR100989'],\n",
       "  'bigg': ['LAAL4'],\n",
       "  'deprecated': ['MNXR28576'],\n",
       "  'kegg': nan,\n",
       "  'seed': ['rxn09930'],\n",
       "  'metacyc': nan,\n",
       "  'rhea': nan,\n",
       "  'sabiork': nan,\n",
       "  'reactome': nan},\n",
       " 'MNXR100990': {'metanetx': ['MNXR100990'],\n",
       "  'bigg': ['LAAL40'],\n",
       "  'deprecated': nan,\n",
       "  'kegg': nan,\n",
       "  'seed': nan,\n",
       "  'metacyc': nan,\n",
       "  'rhea': nan,\n",
       "  'sabiork': nan,\n",
       "  'reactome': nan},\n",
       " 'MNXR100991': {'metanetx': ['MNXR100991'],\n",
       "  'bigg': ['LAAL41'],\n",
       "  'deprecated': ['MNXR28578'],\n",
       "  'kegg': nan,\n",
       "  'seed': ['rxn09932'],\n",
       "  'metacyc': nan,\n",
       "  'rhea': nan,\n",
       "  'sabiork': nan,\n",
       "  'reactome': nan},\n",
       " 'MNXR100992': {'metanetx': ['MNXR100992'],\n",
       "  'bigg': ['LAAL42'],\n",
       "  'deprecated': ['MNXR28579'],\n",
       "  'kegg': nan,\n",
       "  'seed': ['rxn09933'],\n",
       "  'metacyc': nan,\n",
       "  'rhea': nan,\n",
       "  'sabiork': nan,\n",
       "  'reactome': nan},\n",
       " 'MNXR100993': {'metanetx': ['MNXR100993'],\n",
       "  'bigg': ['LAAL5'],\n",
       "  'deprecated': ['MNXR28580'],\n",
       "  'kegg': nan,\n",
       "  'seed': ['rxn09934'],\n",
       "  'metacyc': nan,\n",
       "  'rhea': nan,\n",
       "  'sabiork': nan,\n",
       "  'reactome': nan},\n",
       " 'MNXR100994': {'metanetx': ['MNXR100994'],\n",
       "  'bigg': ['LAAL6'],\n",
       "  'deprecated': ['MNXR28581'],\n",
       "  'kegg': nan,\n",
       "  'seed': ['rxn09935'],\n",
       "  'metacyc': nan,\n",
       "  'rhea': nan,\n",
       "  'sabiork': nan,\n",
       "  'reactome': nan},\n",
       " 'MNXR100995': {'metanetx': ['MNXR100995'],\n",
       "  'bigg': ['LAAL7'],\n",
       "  'deprecated': ['MNXR28582', 'MNXR80451'],\n",
       "  'kegg': nan,\n",
       "  'seed': ['rxn09936'],\n",
       "  'metacyc': nan,\n",
       "  'rhea': nan,\n",
       "  'sabiork': nan,\n",
       "  'reactome': nan},\n",
       " 'MNXR100996': {'metanetx': ['MNXR100996'],\n",
       "  'bigg': ['LAAL8'],\n",
       "  'deprecated': ['MNXR28583'],\n",
       "  'kegg': nan,\n",
       "  'seed': ['rxn09937'],\n",
       "  'metacyc': nan,\n",
       "  'rhea': nan,\n",
       "  'sabiork': nan,\n",
       "  'reactome': nan},\n",
       " 'MNXR100997': {'metanetx': ['MNXR100997'],\n",
       "  'bigg': ['LAAL9'],\n",
       "  'deprecated': ['MNXR28584'],\n",
       "  'kegg': nan,\n",
       "  'seed': ['rxn09938'],\n",
       "  'metacyc': nan,\n",
       "  'rhea': nan,\n",
       "  'sabiork': nan,\n",
       "  'reactome': nan},\n",
       " 'MNXR100998': {'metanetx': ['MNXR100998'],\n",
       "  'bigg': ['LACD'],\n",
       "  'deprecated': ['MNXR83182'],\n",
       "  'kegg': nan,\n",
       "  'seed': nan,\n",
       "  'metacyc': nan,\n",
       "  'rhea': nan,\n",
       "  'sabiork': nan,\n",
       "  'reactome': nan},\n",
       " ...}"
      ]
     },
     "execution_count": 7,
     "metadata": {},
     "output_type": "execute_result"
    }
   ],
   "source": [
    "\n",
    "df_1 = reac_xref.loc[:,'XREF':'MNX_ID']\n",
    "groups = df_1.groupby(['MNX_ID','XREF'])\n",
    "df_1 = groups.apply(lambda x:list(x['XREF_ID']))\n",
    "df_1 =df_1.unstack('XREF') \n",
    "reac_xref_MNX_1_dict = df_1.to_dict('index')\n",
    "reac_xref_MNX_1_dict"
   ]
  },
  {
   "cell_type": "code",
   "execution_count": 9,
   "metadata": {},
   "outputs": [
    {
     "data": {
      "text/html": [
       "<div>\n",
       "<style scoped>\n",
       "    .dataframe tbody tr th:only-of-type {\n",
       "        vertical-align: middle;\n",
       "    }\n",
       "\n",
       "    .dataframe tbody tr th {\n",
       "        vertical-align: top;\n",
       "    }\n",
       "\n",
       "    .dataframe thead th {\n",
       "        text-align: right;\n",
       "    }\n",
       "</style>\n",
       "<table border=\"1\" class=\"dataframe\">\n",
       "  <thead>\n",
       "    <tr style=\"text-align: right;\">\n",
       "      <th></th>\n",
       "      <th>XREF</th>\n",
       "      <th>XREF_ID</th>\n",
       "    </tr>\n",
       "    <tr>\n",
       "      <th>MNX_ID</th>\n",
       "      <th></th>\n",
       "      <th></th>\n",
       "    </tr>\n",
       "  </thead>\n",
       "  <tbody>\n",
       "    <tr>\n",
       "      <th>NaN</th>\n",
       "      <td>BIOMASS_EXT</td>\n",
       "      <td>MNXR94667</td>\n",
       "    </tr>\n",
       "    <tr>\n",
       "      <th>MNXR94667</th>\n",
       "      <td>seed</td>\n",
       "      <td>rxn12985</td>\n",
       "    </tr>\n",
       "    <tr>\n",
       "      <th>MNXR94667</th>\n",
       "      <td>metanetx</td>\n",
       "      <td>MNXR94667</td>\n",
       "    </tr>\n",
       "    <tr>\n",
       "      <th>MNXR01</th>\n",
       "      <td>metanetx</td>\n",
       "      <td>MNXR01</td>\n",
       "    </tr>\n",
       "    <tr>\n",
       "      <th>MNXR94668</th>\n",
       "      <td>bigg</td>\n",
       "      <td>10FTHF5GLUtl</td>\n",
       "    </tr>\n",
       "    <tr>\n",
       "      <th>MNXR94668</th>\n",
       "      <td>metanetx</td>\n",
       "      <td>MNXR94668</td>\n",
       "    </tr>\n",
       "    <tr>\n",
       "      <th>MNXR94668</th>\n",
       "      <td>bigg</td>\n",
       "      <td>10FTHF5GLUtm</td>\n",
       "    </tr>\n",
       "    <tr>\n",
       "      <th>MNXR94669</th>\n",
       "      <td>bigg</td>\n",
       "      <td>10FTHF6GLUtl</td>\n",
       "    </tr>\n",
       "    <tr>\n",
       "      <th>MNXR94669</th>\n",
       "      <td>metanetx</td>\n",
       "      <td>MNXR94669</td>\n",
       "    </tr>\n",
       "    <tr>\n",
       "      <th>MNXR94669</th>\n",
       "      <td>bigg</td>\n",
       "      <td>10FTHF6GLUtm</td>\n",
       "    </tr>\n",
       "    <tr>\n",
       "      <th>MNXR94670</th>\n",
       "      <td>bigg</td>\n",
       "      <td>10FTHF7GLUtl</td>\n",
       "    </tr>\n",
       "    <tr>\n",
       "      <th>MNXR94670</th>\n",
       "      <td>metanetx</td>\n",
       "      <td>MNXR94670</td>\n",
       "    </tr>\n",
       "    <tr>\n",
       "      <th>MNXR94670</th>\n",
       "      <td>bigg</td>\n",
       "      <td>10FTHF7GLUtm</td>\n",
       "    </tr>\n",
       "    <tr>\n",
       "      <th>MNXR94671</th>\n",
       "      <td>bigg</td>\n",
       "      <td>10FTHFGLULL</td>\n",
       "    </tr>\n",
       "    <tr>\n",
       "      <th>MNXR94671</th>\n",
       "      <td>metanetx</td>\n",
       "      <td>MNXR94671</td>\n",
       "    </tr>\n",
       "    <tr>\n",
       "      <th>MNXR94671</th>\n",
       "      <td>bigg</td>\n",
       "      <td>10FTHFGLULLm</td>\n",
       "    </tr>\n",
       "    <tr>\n",
       "      <th>MNXR94672</th>\n",
       "      <td>bigg</td>\n",
       "      <td>10FTHFtl</td>\n",
       "    </tr>\n",
       "    <tr>\n",
       "      <th>MNXR94672</th>\n",
       "      <td>metanetx</td>\n",
       "      <td>MNXR94672</td>\n",
       "    </tr>\n",
       "    <tr>\n",
       "      <th>MNXR94672</th>\n",
       "      <td>bigg</td>\n",
       "      <td>10FTHFtm</td>\n",
       "    </tr>\n",
       "    <tr>\n",
       "      <th>MNXR94672</th>\n",
       "      <td>bigg</td>\n",
       "      <td>10FTHFtx</td>\n",
       "    </tr>\n",
       "    <tr>\n",
       "      <th>MNXR94673</th>\n",
       "      <td>bigg</td>\n",
       "      <td>11DOCRTSLtm</td>\n",
       "    </tr>\n",
       "    <tr>\n",
       "      <th>MNXR94673</th>\n",
       "      <td>metanetx</td>\n",
       "      <td>MNXR94673</td>\n",
       "    </tr>\n",
       "    <tr>\n",
       "      <th>MNXR94673</th>\n",
       "      <td>bigg</td>\n",
       "      <td>11DOCRTSLtr</td>\n",
       "    </tr>\n",
       "    <tr>\n",
       "      <th>MNXR94674</th>\n",
       "      <td>bigg</td>\n",
       "      <td>11DOCRTSTRNtm</td>\n",
       "    </tr>\n",
       "    <tr>\n",
       "      <th>MNXR94674</th>\n",
       "      <td>metanetx</td>\n",
       "      <td>MNXR94674</td>\n",
       "    </tr>\n",
       "    <tr>\n",
       "      <th>MNXR94674</th>\n",
       "      <td>bigg</td>\n",
       "      <td>11DOCRTSTRNtr</td>\n",
       "    </tr>\n",
       "    <tr>\n",
       "      <th>MNXR94675</th>\n",
       "      <td>bigg</td>\n",
       "      <td>12DGR120tipp</td>\n",
       "    </tr>\n",
       "    <tr>\n",
       "      <th>MNXR94675</th>\n",
       "      <td>metanetx</td>\n",
       "      <td>MNXR94675</td>\n",
       "    </tr>\n",
       "    <tr>\n",
       "      <th>MNXR94676</th>\n",
       "      <td>bigg</td>\n",
       "      <td>12DGR140tipp</td>\n",
       "    </tr>\n",
       "    <tr>\n",
       "      <th>MNXR94676</th>\n",
       "      <td>metanetx</td>\n",
       "      <td>MNXR94676</td>\n",
       "    </tr>\n",
       "    <tr>\n",
       "      <th>...</th>\n",
       "      <td>...</td>\n",
       "      <td>...</td>\n",
       "    </tr>\n",
       "    <tr>\n",
       "      <th>MNXR94702</th>\n",
       "      <td>deprecated</td>\n",
       "      <td>MNXR81319</td>\n",
       "    </tr>\n",
       "    <tr>\n",
       "      <th>MNXR94701</th>\n",
       "      <td>deprecated</td>\n",
       "      <td>MNXR81318</td>\n",
       "    </tr>\n",
       "    <tr>\n",
       "      <th>MNXR94700</th>\n",
       "      <td>deprecated</td>\n",
       "      <td>MNXR81317</td>\n",
       "    </tr>\n",
       "    <tr>\n",
       "      <th>MNXR94699</th>\n",
       "      <td>deprecated</td>\n",
       "      <td>MNXR81316</td>\n",
       "    </tr>\n",
       "    <tr>\n",
       "      <th>MNXR94698</th>\n",
       "      <td>deprecated</td>\n",
       "      <td>MNXR81315</td>\n",
       "    </tr>\n",
       "    <tr>\n",
       "      <th>MNXR94697</th>\n",
       "      <td>deprecated</td>\n",
       "      <td>MNXR81314</td>\n",
       "    </tr>\n",
       "    <tr>\n",
       "      <th>MNXR94696</th>\n",
       "      <td>deprecated</td>\n",
       "      <td>MNXR81313</td>\n",
       "    </tr>\n",
       "    <tr>\n",
       "      <th>MNXR94692</th>\n",
       "      <td>deprecated</td>\n",
       "      <td>MNXR81312</td>\n",
       "    </tr>\n",
       "    <tr>\n",
       "      <th>MNXR94705</th>\n",
       "      <td>deprecated</td>\n",
       "      <td>MNXR81322</td>\n",
       "    </tr>\n",
       "    <tr>\n",
       "      <th>MNXR94704</th>\n",
       "      <td>deprecated</td>\n",
       "      <td>MNXR81321</td>\n",
       "    </tr>\n",
       "    <tr>\n",
       "      <th>MNXR94703</th>\n",
       "      <td>deprecated</td>\n",
       "      <td>MNXR81320</td>\n",
       "    </tr>\n",
       "    <tr>\n",
       "      <th>MNXR126582</th>\n",
       "      <td>deprecated</td>\n",
       "      <td>MNXR56385</td>\n",
       "    </tr>\n",
       "    <tr>\n",
       "      <th>MNXR107704</th>\n",
       "      <td>deprecated</td>\n",
       "      <td>MNXR56382</td>\n",
       "    </tr>\n",
       "    <tr>\n",
       "      <th>MNXR104563</th>\n",
       "      <td>deprecated</td>\n",
       "      <td>MNXR4921</td>\n",
       "    </tr>\n",
       "    <tr>\n",
       "      <th>MNXR107705</th>\n",
       "      <td>deprecated</td>\n",
       "      <td>MNXR56432</td>\n",
       "    </tr>\n",
       "    <tr>\n",
       "      <th>MNXR107406</th>\n",
       "      <td>deprecated</td>\n",
       "      <td>MNXR56431</td>\n",
       "    </tr>\n",
       "    <tr>\n",
       "      <th>MNXR116140</th>\n",
       "      <td>deprecated</td>\n",
       "      <td>MNXR56430</td>\n",
       "    </tr>\n",
       "    <tr>\n",
       "      <th>MNXR110582</th>\n",
       "      <td>deprecated</td>\n",
       "      <td>MNXR56438</td>\n",
       "    </tr>\n",
       "    <tr>\n",
       "      <th>MNXR115887</th>\n",
       "      <td>deprecated</td>\n",
       "      <td>MNXR56435</td>\n",
       "    </tr>\n",
       "    <tr>\n",
       "      <th>MNXR106610</th>\n",
       "      <td>deprecated</td>\n",
       "      <td>MNXR56440</td>\n",
       "    </tr>\n",
       "    <tr>\n",
       "      <th>MNXR115789</th>\n",
       "      <td>deprecated</td>\n",
       "      <td>MNXR56449</td>\n",
       "    </tr>\n",
       "    <tr>\n",
       "      <th>MNXR108555</th>\n",
       "      <td>deprecated</td>\n",
       "      <td>MNXR56448</td>\n",
       "    </tr>\n",
       "    <tr>\n",
       "      <th>MNXR115235</th>\n",
       "      <td>deprecated</td>\n",
       "      <td>MNXR56444</td>\n",
       "    </tr>\n",
       "    <tr>\n",
       "      <th>MNXR107020</th>\n",
       "      <td>deprecated</td>\n",
       "      <td>MNXR56421</td>\n",
       "    </tr>\n",
       "    <tr>\n",
       "      <th>MNXR116163</th>\n",
       "      <td>deprecated</td>\n",
       "      <td>MNXR56429</td>\n",
       "    </tr>\n",
       "    <tr>\n",
       "      <th>MNXR116132</th>\n",
       "      <td>deprecated</td>\n",
       "      <td>MNXR56427</td>\n",
       "    </tr>\n",
       "    <tr>\n",
       "      <th>MNXR108670</th>\n",
       "      <td>deprecated</td>\n",
       "      <td>MNXR56426</td>\n",
       "    </tr>\n",
       "    <tr>\n",
       "      <th>MNXR108723</th>\n",
       "      <td>deprecated</td>\n",
       "      <td>MNXR56425</td>\n",
       "    </tr>\n",
       "    <tr>\n",
       "      <th>MNXR106728</th>\n",
       "      <td>deprecated</td>\n",
       "      <td>MNXR56424</td>\n",
       "    </tr>\n",
       "    <tr>\n",
       "      <th>MNXR114907</th>\n",
       "      <td>deprecated</td>\n",
       "      <td>MNXR56422</td>\n",
       "    </tr>\n",
       "  </tbody>\n",
       "</table>\n",
       "<p>216024 rows × 2 columns</p>\n",
       "</div>"
      ],
      "text/plain": [
       "                   XREF        XREF_ID\n",
       "MNX_ID                                \n",
       "NaN         BIOMASS_EXT      MNXR94667\n",
       "MNXR94667          seed       rxn12985\n",
       "MNXR94667      metanetx      MNXR94667\n",
       "MNXR01         metanetx         MNXR01\n",
       "MNXR94668          bigg   10FTHF5GLUtl\n",
       "MNXR94668      metanetx      MNXR94668\n",
       "MNXR94668          bigg   10FTHF5GLUtm\n",
       "MNXR94669          bigg   10FTHF6GLUtl\n",
       "MNXR94669      metanetx      MNXR94669\n",
       "MNXR94669          bigg   10FTHF6GLUtm\n",
       "MNXR94670          bigg   10FTHF7GLUtl\n",
       "MNXR94670      metanetx      MNXR94670\n",
       "MNXR94670          bigg   10FTHF7GLUtm\n",
       "MNXR94671          bigg    10FTHFGLULL\n",
       "MNXR94671      metanetx      MNXR94671\n",
       "MNXR94671          bigg   10FTHFGLULLm\n",
       "MNXR94672          bigg       10FTHFtl\n",
       "MNXR94672      metanetx      MNXR94672\n",
       "MNXR94672          bigg       10FTHFtm\n",
       "MNXR94672          bigg       10FTHFtx\n",
       "MNXR94673          bigg    11DOCRTSLtm\n",
       "MNXR94673      metanetx      MNXR94673\n",
       "MNXR94673          bigg    11DOCRTSLtr\n",
       "MNXR94674          bigg  11DOCRTSTRNtm\n",
       "MNXR94674      metanetx      MNXR94674\n",
       "MNXR94674          bigg  11DOCRTSTRNtr\n",
       "MNXR94675          bigg   12DGR120tipp\n",
       "MNXR94675      metanetx      MNXR94675\n",
       "MNXR94676          bigg   12DGR140tipp\n",
       "MNXR94676      metanetx      MNXR94676\n",
       "...                 ...            ...\n",
       "MNXR94702    deprecated      MNXR81319\n",
       "MNXR94701    deprecated      MNXR81318\n",
       "MNXR94700    deprecated      MNXR81317\n",
       "MNXR94699    deprecated      MNXR81316\n",
       "MNXR94698    deprecated      MNXR81315\n",
       "MNXR94697    deprecated      MNXR81314\n",
       "MNXR94696    deprecated      MNXR81313\n",
       "MNXR94692    deprecated      MNXR81312\n",
       "MNXR94705    deprecated      MNXR81322\n",
       "MNXR94704    deprecated      MNXR81321\n",
       "MNXR94703    deprecated      MNXR81320\n",
       "MNXR126582   deprecated      MNXR56385\n",
       "MNXR107704   deprecated      MNXR56382\n",
       "MNXR104563   deprecated       MNXR4921\n",
       "MNXR107705   deprecated      MNXR56432\n",
       "MNXR107406   deprecated      MNXR56431\n",
       "MNXR116140   deprecated      MNXR56430\n",
       "MNXR110582   deprecated      MNXR56438\n",
       "MNXR115887   deprecated      MNXR56435\n",
       "MNXR106610   deprecated      MNXR56440\n",
       "MNXR115789   deprecated      MNXR56449\n",
       "MNXR108555   deprecated      MNXR56448\n",
       "MNXR115235   deprecated      MNXR56444\n",
       "MNXR107020   deprecated      MNXR56421\n",
       "MNXR116163   deprecated      MNXR56429\n",
       "MNXR116132   deprecated      MNXR56427\n",
       "MNXR108670   deprecated      MNXR56426\n",
       "MNXR108723   deprecated      MNXR56425\n",
       "MNXR106728   deprecated      MNXR56424\n",
       "MNXR114907   deprecated      MNXR56422\n",
       "\n",
       "[216024 rows x 2 columns]"
      ]
     },
     "execution_count": 9,
     "metadata": {},
     "output_type": "execute_result"
    },
    {
     "data": {
      "text/plain": [
       "{nan: {'XREF': 'BIOMASS_EXT', 'XREF_ID': 'MNXR94667'},\n",
       " 'MNXR94667': {'XREF': 'metanetx', 'XREF_ID': 'MNXR94667'},\n",
       " 'MNXR01': {'XREF': 'metanetx', 'XREF_ID': 'MNXR01'},\n",
       " 'MNXR94668': {'XREF': 'deprecated', 'XREF_ID': 'MNXR1'},\n",
       " 'MNXR94669': {'XREF': 'deprecated', 'XREF_ID': 'MNXR2'},\n",
       " 'MNXR94670': {'XREF': 'deprecated', 'XREF_ID': 'MNXR3'},\n",
       " 'MNXR94671': {'XREF': 'bigg', 'XREF_ID': '10FTHFGLULLm'},\n",
       " 'MNXR94672': {'XREF': 'deprecated', 'XREF_ID': 'MNXR4'},\n",
       " 'MNXR94673': {'XREF': 'deprecated', 'XREF_ID': 'MNXR5'},\n",
       " 'MNXR94674': {'XREF': 'deprecated', 'XREF_ID': 'MNXR6'},\n",
       " 'MNXR94675': {'XREF': 'deprecated', 'XREF_ID': 'MNXR7'},\n",
       " 'MNXR94676': {'XREF': 'deprecated', 'XREF_ID': 'MNXR81306'},\n",
       " 'MNXR94677': {'XREF': 'deprecated', 'XREF_ID': 'MNXR9'},\n",
       " 'MNXR94678': {'XREF': 'deprecated', 'XREF_ID': 'MNXR10'},\n",
       " 'MNXR94679': {'XREF': 'deprecated', 'XREF_ID': 'MNXR11'},\n",
       " 'MNXR94680': {'XREF': 'deprecated', 'XREF_ID': 'MNXR12'},\n",
       " 'MNXR94681': {'XREF': 'deprecated', 'XREF_ID': 'MNXR13'},\n",
       " 'MNXR94682': {'XREF': 'deprecated', 'XREF_ID': 'MNXR81307'},\n",
       " 'MNXR94683': {'XREF': 'deprecated', 'XREF_ID': 'MNXR30423'},\n",
       " 'MNXR94684': {'XREF': 'deprecated', 'XREF_ID': 'MNXR15'},\n",
       " 'MNXR94685': {'XREF': 'deprecated', 'XREF_ID': 'MNXR81308'},\n",
       " 'MNXR94686': {'XREF': 'deprecated', 'XREF_ID': 'MNXR30424'},\n",
       " 'MNXR94687': {'XREF': 'deprecated', 'XREF_ID': 'MNXR81309'},\n",
       " 'MNXR94688': {'XREF': 'deprecated', 'XREF_ID': 'MNXR81310'},\n",
       " 'MNXR94689': {'XREF': 'deprecated', 'XREF_ID': 'MNXR42531'},\n",
       " 'MNXR94690': {'XREF': 'deprecated', 'XREF_ID': 'MNXR81311'},\n",
       " 'MNXR94691': {'XREF': 'deprecated', 'XREF_ID': 'MNXR7174'},\n",
       " 'MNXR94692': {'XREF': 'deprecated', 'XREF_ID': 'MNXR81312'},\n",
       " 'MNXR94693': {'XREF': 'deprecated', 'XREF_ID': 'MNXR68117'},\n",
       " 'MNXR94694': {'XREF': 'deprecated', 'XREF_ID': 'MNXR30428'},\n",
       " 'MNXR94695': {'XREF': 'metanetx', 'XREF_ID': 'MNXR94695'},\n",
       " 'MNXR94696': {'XREF': 'deprecated', 'XREF_ID': 'MNXR81313'},\n",
       " 'MNXR94697': {'XREF': 'deprecated', 'XREF_ID': 'MNXR81314'},\n",
       " 'MNXR94698': {'XREF': 'deprecated', 'XREF_ID': 'MNXR81315'},\n",
       " 'MNXR94699': {'XREF': 'deprecated', 'XREF_ID': 'MNXR81316'},\n",
       " 'MNXR94700': {'XREF': 'deprecated', 'XREF_ID': 'MNXR81317'},\n",
       " 'MNXR94701': {'XREF': 'deprecated', 'XREF_ID': 'MNXR81318'},\n",
       " 'MNXR94702': {'XREF': 'deprecated', 'XREF_ID': 'MNXR81319'},\n",
       " 'MNXR94703': {'XREF': 'deprecated', 'XREF_ID': 'MNXR81320'},\n",
       " 'MNXR94704': {'XREF': 'deprecated', 'XREF_ID': 'MNXR81321'},\n",
       " 'MNXR94705': {'XREF': 'deprecated', 'XREF_ID': 'MNXR81322'},\n",
       " 'MNXR94706': {'XREF': 'deprecated', 'XREF_ID': 'MNXR81323'},\n",
       " 'MNXR94707': {'XREF': 'deprecated', 'XREF_ID': 'MNXR81324'},\n",
       " 'MNXR94708': {'XREF': 'deprecated', 'XREF_ID': 'MNXR81325'},\n",
       " 'MNXR94709': {'XREF': 'deprecated', 'XREF_ID': 'MNXR81326'},\n",
       " 'MNXR94710': {'XREF': 'deprecated', 'XREF_ID': 'MNXR21'},\n",
       " 'MNXR94711': {'XREF': 'deprecated', 'XREF_ID': 'MNXR22'},\n",
       " 'MNXR94712': {'XREF': 'deprecated', 'XREF_ID': 'MNXR23'},\n",
       " 'MNXR94713': {'XREF': 'metanetx', 'XREF_ID': 'MNXR94713'},\n",
       " 'MNXR94714': {'XREF': 'metanetx', 'XREF_ID': 'MNXR94714'},\n",
       " 'MNXR94715': {'XREF': 'metanetx', 'XREF_ID': 'MNXR94715'},\n",
       " 'MNXR94716': {'XREF': 'deprecated', 'XREF_ID': 'MNXR81327'},\n",
       " 'MNXR94717': {'XREF': 'deprecated', 'XREF_ID': 'MNXR81328'},\n",
       " 'MNXR94718': {'XREF': 'deprecated', 'XREF_ID': 'MNXR28'},\n",
       " 'MNXR94719': {'XREF': 'deprecated', 'XREF_ID': 'MNXR81329'},\n",
       " 'MNXR94720': {'XREF': 'deprecated', 'XREF_ID': 'MNXR29'},\n",
       " 'MNXR94721': {'XREF': 'deprecated', 'XREF_ID': 'MNXR30'},\n",
       " 'MNXR94722': {'XREF': 'deprecated', 'XREF_ID': 'MNXR36'},\n",
       " 'MNXR94723': {'XREF': 'deprecated', 'XREF_ID': 'MNXR34'},\n",
       " 'MNXR94724': {'XREF': 'deprecated', 'XREF_ID': 'MNXR35'},\n",
       " 'MNXR94725': {'XREF': 'deprecated', 'XREF_ID': 'MNXR37'},\n",
       " 'MNXR94726': {'XREF': 'deprecated', 'XREF_ID': 'MNXR31'},\n",
       " 'MNXR94727': {'XREF': 'deprecated', 'XREF_ID': 'MNXR32'},\n",
       " 'MNXR94728': {'XREF': 'deprecated', 'XREF_ID': 'MNXR33'},\n",
       " 'MNXR94729': {'XREF': 'deprecated', 'XREF_ID': 'MNXR81330'},\n",
       " 'MNXR94730': {'XREF': 'deprecated', 'XREF_ID': 'MNXR81331'},\n",
       " 'MNXR94731': {'XREF': 'deprecated', 'XREF_ID': 'MNXR81332'},\n",
       " 'MNXR94732': {'XREF': 'deprecated', 'XREF_ID': 'MNXR54906'},\n",
       " 'MNXR94733': {'XREF': 'bigg', 'XREF_ID': '24_25DHVITD2tm'},\n",
       " 'MNXR94734': {'XREF': 'bigg', 'XREF_ID': '24_25DHVITD3tm'},\n",
       " 'MNXR94735': {'XREF': 'metanetx', 'XREF_ID': 'MNXR94735'},\n",
       " 'MNXR94736': {'XREF': 'bigg', 'XREF_ID': 'RE2240C'},\n",
       " 'MNXR94737': {'XREF': 'deprecated', 'XREF_ID': 'MNXR43'},\n",
       " 'MNXR94738': {'XREF': 'deprecated', 'XREF_ID': 'MNXR46'},\n",
       " 'MNXR94739': {'XREF': 'deprecated', 'XREF_ID': 'MNXR44'},\n",
       " 'MNXR94740': {'XREF': 'deprecated', 'XREF_ID': 'MNXR81333'},\n",
       " 'MNXR94741': {'XREF': 'deprecated', 'XREF_ID': 'MNXR47'},\n",
       " 'MNXR94742': {'XREF': 'metanetx', 'XREF_ID': 'MNXR94742'},\n",
       " 'MNXR94743': {'XREF': 'deprecated', 'XREF_ID': 'MNXR48'},\n",
       " 'MNXR94744': {'XREF': 'deprecated', 'XREF_ID': 'MNXR49'},\n",
       " 'MNXR94745': {'XREF': 'deprecated', 'XREF_ID': 'MNXR50'},\n",
       " 'MNXR94746': {'XREF': 'deprecated', 'XREF_ID': 'MNXR81334'},\n",
       " 'MNXR94747': {'XREF': 'deprecated', 'XREF_ID': 'MNXR52'},\n",
       " 'MNXR94748': {'XREF': 'deprecated', 'XREF_ID': 'MNXR81335'},\n",
       " 'MNXR94749': {'XREF': 'deprecated', 'XREF_ID': 'MNXR54'},\n",
       " 'MNXR94750': {'XREF': 'deprecated', 'XREF_ID': 'MNXR55'},\n",
       " 'MNXR94751': {'XREF': 'deprecated', 'XREF_ID': 'MNXR56'},\n",
       " 'MNXR94752': {'XREF': 'deprecated', 'XREF_ID': 'MNXR57'},\n",
       " 'MNXR94753': {'XREF': 'deprecated', 'XREF_ID': 'MNXR58'},\n",
       " 'MNXR94754': {'XREF': 'deprecated', 'XREF_ID': 'MNXR59'},\n",
       " 'MNXR94755': {'XREF': 'deprecated', 'XREF_ID': 'MNXR60'},\n",
       " 'MNXR94756': {'XREF': 'deprecated', 'XREF_ID': 'MNXR61'},\n",
       " 'MNXR94757': {'XREF': 'deprecated', 'XREF_ID': 'MNXR81336'},\n",
       " 'MNXR94758': {'XREF': 'deprecated', 'XREF_ID': 'MNXR81337'},\n",
       " 'MNXR94759': {'XREF': 'deprecated', 'XREF_ID': 'MNXR50741'},\n",
       " 'MNXR94760': {'XREF': 'deprecated', 'XREF_ID': 'MNXR65'},\n",
       " 'MNXR94761': {'XREF': 'deprecated', 'XREF_ID': 'MNXR81338'},\n",
       " 'MNXR94762': {'XREF': 'deprecated', 'XREF_ID': 'MNXR67'},\n",
       " 'MNXR94763': {'XREF': 'deprecated', 'XREF_ID': 'MNXR68'},\n",
       " 'MNXR94764': {'XREF': 'deprecated', 'XREF_ID': 'MNXR69'},\n",
       " 'MNXR94765': {'XREF': 'deprecated', 'XREF_ID': 'MNXR70'},\n",
       " 'MNXR94766': {'XREF': 'deprecated', 'XREF_ID': 'MNXR71'},\n",
       " 'MNXR94767': {'XREF': 'deprecated', 'XREF_ID': 'MNXR72'},\n",
       " 'MNXR94768': {'XREF': 'deprecated', 'XREF_ID': 'MNXR73'},\n",
       " 'MNXR94769': {'XREF': 'deprecated', 'XREF_ID': 'MNXR74'},\n",
       " 'MNXR94770': {'XREF': 'deprecated', 'XREF_ID': 'MNXR75'},\n",
       " 'MNXR94771': {'XREF': 'deprecated', 'XREF_ID': 'MNXR76'},\n",
       " 'MNXR94772': {'XREF': 'deprecated', 'XREF_ID': 'MNXR77'},\n",
       " 'MNXR94773': {'XREF': 'deprecated', 'XREF_ID': 'MNXR50742'},\n",
       " 'MNXR94774': {'XREF': 'deprecated', 'XREF_ID': 'MNXR79'},\n",
       " 'MNXR94775': {'XREF': 'deprecated', 'XREF_ID': 'MNXR80'},\n",
       " 'MNXR94776': {'XREF': 'deprecated', 'XREF_ID': 'MNXR81'},\n",
       " 'MNXR94777': {'XREF': 'deprecated', 'XREF_ID': 'MNXR82'},\n",
       " 'MNXR94778': {'XREF': 'deprecated', 'XREF_ID': 'MNXR81339'},\n",
       " 'MNXR94779': {'XREF': 'deprecated', 'XREF_ID': 'MNXR81340'},\n",
       " 'MNXR94780': {'XREF': 'deprecated', 'XREF_ID': 'MNXR85'},\n",
       " 'MNXR94781': {'XREF': 'metanetx', 'XREF_ID': 'MNXR94781'},\n",
       " 'MNXR94782': {'XREF': 'deprecated', 'XREF_ID': 'MNXR86'},\n",
       " 'MNXR94783': {'XREF': 'deprecated', 'XREF_ID': 'MNXR87'},\n",
       " 'MNXR94784': {'XREF': 'deprecated', 'XREF_ID': 'MNXR6884'},\n",
       " 'MNXR94785': {'XREF': 'deprecated', 'XREF_ID': 'MNXR81341'},\n",
       " 'MNXR94786': {'XREF': 'deprecated', 'XREF_ID': 'MNXR81342'},\n",
       " 'MNXR94787': {'XREF': 'deprecated', 'XREF_ID': 'MNXR68147'},\n",
       " 'MNXR94788': {'XREF': 'deprecated', 'XREF_ID': 'MNXR68148'},\n",
       " 'MNXR94789': {'XREF': 'deprecated', 'XREF_ID': 'MNXR91'},\n",
       " 'MNXR94790': {'XREF': 'deprecated', 'XREF_ID': 'MNXR68149'},\n",
       " 'MNXR94791': {'XREF': 'deprecated', 'XREF_ID': 'MNXR93'},\n",
       " 'MNXR94792': {'XREF': 'deprecated', 'XREF_ID': 'MNXR7147'},\n",
       " 'MNXR94793': {'XREF': 'deprecated', 'XREF_ID': 'MNXR94'},\n",
       " 'MNXR94794': {'XREF': 'deprecated', 'XREF_ID': 'MNXR6726'},\n",
       " 'MNXR94795': {'XREF': 'deprecated', 'XREF_ID': 'MNXR81343'},\n",
       " 'MNXR94796': {'XREF': 'deprecated', 'XREF_ID': 'MNXR96'},\n",
       " 'MNXR94797': {'XREF': 'deprecated', 'XREF_ID': 'MNXR97'},\n",
       " 'MNXR94798': {'XREF': 'deprecated', 'XREF_ID': 'MNXR68152'},\n",
       " 'MNXR94799': {'XREF': 'deprecated', 'XREF_ID': 'MNXR81344'},\n",
       " 'MNXR94800': {'XREF': 'deprecated', 'XREF_ID': 'MNXR81345'},\n",
       " 'MNXR94801': {'XREF': 'deprecated', 'XREF_ID': 'MNXR81346'},\n",
       " 'MNXR94802': {'XREF': 'deprecated', 'XREF_ID': 'MNXR81347'},\n",
       " 'MNXR94803': {'XREF': 'deprecated', 'XREF_ID': 'MNXR81348'},\n",
       " 'MNXR94804': {'XREF': 'deprecated', 'XREF_ID': 'MNXR27741'},\n",
       " 'MNXR94805': {'XREF': 'deprecated', 'XREF_ID': 'MNXR56795'},\n",
       " 'MNXR94806': {'XREF': 'deprecated', 'XREF_ID': 'MNXR68153'},\n",
       " 'MNXR94807': {'XREF': 'metanetx', 'XREF_ID': 'MNXR94807'},\n",
       " 'MNXR94808': {'XREF': 'deprecated', 'XREF_ID': 'MNXR29850'},\n",
       " 'MNXR94809': {'XREF': 'deprecated', 'XREF_ID': 'MNXR29851'},\n",
       " 'MNXR94810': {'XREF': 'deprecated', 'XREF_ID': 'MNXR29852'},\n",
       " 'MNXR94811': {'XREF': 'deprecated', 'XREF_ID': 'MNXR81350'},\n",
       " 'MNXR94812': {'XREF': 'deprecated', 'XREF_ID': 'MNXR29853'},\n",
       " 'MNXR94813': {'XREF': 'deprecated', 'XREF_ID': 'MNXR29474'},\n",
       " 'MNXR94814': {'XREF': 'deprecated', 'XREF_ID': 'MNXR29854'},\n",
       " 'MNXR94815': {'XREF': 'deprecated', 'XREF_ID': 'MNXR57244'},\n",
       " 'MNXR94816': {'XREF': 'deprecated', 'XREF_ID': 'MNXR101'},\n",
       " 'MNXR94817': {'XREF': 'deprecated', 'XREF_ID': 'MNXR102'},\n",
       " 'MNXR94818': {'XREF': 'deprecated', 'XREF_ID': 'MNXR103'},\n",
       " 'MNXR94819': {'XREF': 'deprecated', 'XREF_ID': 'MNXR104'},\n",
       " 'MNXR94820': {'XREF': 'deprecated', 'XREF_ID': 'MNXR105'},\n",
       " 'MNXR94821': {'XREF': 'deprecated', 'XREF_ID': 'MNXR81351'},\n",
       " 'MNXR94822': {'XREF': 'deprecated', 'XREF_ID': 'MNXR27742'},\n",
       " 'MNXR94823': {'XREF': 'deprecated', 'XREF_ID': 'MNXR81352'},\n",
       " 'MNXR94824': {'XREF': 'deprecated', 'XREF_ID': 'MNXR27743'},\n",
       " 'MNXR94825': {'XREF': 'deprecated', 'XREF_ID': 'MNXR81353'},\n",
       " 'MNXR94826': {'XREF': 'deprecated', 'XREF_ID': 'MNXR81354'},\n",
       " 'MNXR94827': {'XREF': 'deprecated', 'XREF_ID': 'MNXR81355'},\n",
       " 'MNXR94828': {'XREF': 'deprecated', 'XREF_ID': 'MNXR29855'},\n",
       " 'MNXR94829': {'XREF': 'deprecated', 'XREF_ID': 'MNXR54908'},\n",
       " 'MNXR94830': {'XREF': 'sabiork', 'XREF_ID': '6435'},\n",
       " 'MNXR94831': {'XREF': 'deprecated', 'XREF_ID': 'MNXR115'},\n",
       " 'MNXR94832': {'XREF': 'deprecated', 'XREF_ID': 'MNXR110'},\n",
       " 'MNXR94833': {'XREF': 'deprecated', 'XREF_ID': 'MNXR111'},\n",
       " 'MNXR94834': {'XREF': 'deprecated', 'XREF_ID': 'MNXR112'},\n",
       " 'MNXR94835': {'XREF': 'deprecated', 'XREF_ID': 'MNXR81356'},\n",
       " 'MNXR94836': {'XREF': 'metanetx', 'XREF_ID': 'MNXR94836'},\n",
       " 'MNXR94837': {'XREF': 'metanetx', 'XREF_ID': 'MNXR94837'},\n",
       " 'MNXR94838': {'XREF': 'deprecated', 'XREF_ID': 'MNXR114'},\n",
       " 'MNXR94839': {'XREF': 'deprecated', 'XREF_ID': 'MNXR116'},\n",
       " 'MNXR94840': {'XREF': 'bigg', 'XREF_ID': 'r0752'},\n",
       " 'MNXR94841': {'XREF': 'bigg', 'XREF_ID': 'r0753'},\n",
       " 'MNXR94842': {'XREF': 'deprecated', 'XREF_ID': 'MNXR81357'},\n",
       " 'MNXR94843': {'XREF': 'deprecated', 'XREF_ID': 'MNXR81358'},\n",
       " 'MNXR94844': {'XREF': 'deprecated', 'XREF_ID': 'MNXR81359'},\n",
       " 'MNXR94845': {'XREF': 'deprecated', 'XREF_ID': 'MNXR81360'},\n",
       " 'MNXR94846': {'XREF': 'metanetx', 'XREF_ID': 'MNXR94846'},\n",
       " 'MNXR94847': {'XREF': 'deprecated', 'XREF_ID': 'MNXR81361'},\n",
       " 'MNXR94848': {'XREF': 'deprecated', 'XREF_ID': 'MNXR122'},\n",
       " 'MNXR94849': {'XREF': 'deprecated', 'XREF_ID': 'MNXR123'},\n",
       " 'MNXR94850': {'XREF': 'deprecated', 'XREF_ID': 'MNXR81362'},\n",
       " 'MNXR94851': {'XREF': 'deprecated', 'XREF_ID': 'MNXR40637'},\n",
       " 'MNXR94852': {'XREF': 'bigg', 'XREF_ID': 'D_3AIBt'},\n",
       " 'MNXR94853': {'XREF': 'deprecated', 'XREF_ID': 'MNXR125'},\n",
       " 'MNXR94854': {'XREF': 'deprecated', 'XREF_ID': 'MNXR81363'},\n",
       " 'MNXR94855': {'XREF': 'deprecated', 'XREF_ID': 'MNXR27744'},\n",
       " 'MNXR94856': {'XREF': 'deprecated', 'XREF_ID': 'MNXR27745'},\n",
       " 'MNXR94857': {'XREF': 'deprecated', 'XREF_ID': 'MNXR126'},\n",
       " 'MNXR94858': {'XREF': 'deprecated', 'XREF_ID': 'MNXR127'},\n",
       " 'MNXR94859': {'XREF': 'deprecated', 'XREF_ID': 'MNXR128'},\n",
       " 'MNXR94860': {'XREF': 'deprecated', 'XREF_ID': 'MNXR27746'},\n",
       " 'MNXR94861': {'XREF': 'deprecated', 'XREF_ID': 'MNXR129'},\n",
       " 'MNXR94862': {'XREF': 'deprecated', 'XREF_ID': 'MNXR15764'},\n",
       " 'MNXR94863': {'XREF': 'deprecated', 'XREF_ID': 'MNXR29856'},\n",
       " 'MNXR94864': {'XREF': 'deprecated', 'XREF_ID': 'MNXR68158'},\n",
       " 'MNXR94865': {'XREF': 'deprecated', 'XREF_ID': 'MNXR68159'},\n",
       " 'MNXR94866': {'XREF': 'deprecated', 'XREF_ID': 'MNXR132'},\n",
       " 'MNXR94867': {'XREF': 'deprecated', 'XREF_ID': 'MNXR27747'},\n",
       " 'MNXR94868': {'XREF': 'deprecated', 'XREF_ID': 'MNXR133'},\n",
       " 'MNXR94869': {'XREF': 'deprecated', 'XREF_ID': 'MNXR47312'},\n",
       " 'MNXR94870': {'XREF': 'deprecated', 'XREF_ID': 'MNXR47313'},\n",
       " 'MNXR94871': {'XREF': 'deprecated', 'XREF_ID': 'MNXR68162'},\n",
       " 'MNXR94872': {'XREF': 'deprecated', 'XREF_ID': 'MNXR47315'},\n",
       " 'MNXR94873': {'XREF': 'deprecated', 'XREF_ID': 'MNXR68164'},\n",
       " 'MNXR94874': {'XREF': 'deprecated', 'XREF_ID': 'MNXR47317'},\n",
       " 'MNXR94875': {'XREF': 'deprecated', 'XREF_ID': 'MNXR47318'},\n",
       " 'MNXR94876': {'XREF': 'deprecated', 'XREF_ID': 'MNXR141'},\n",
       " 'MNXR94877': {'XREF': 'deprecated', 'XREF_ID': 'MNXR142'},\n",
       " 'MNXR94878': {'XREF': 'deprecated', 'XREF_ID': 'MNXR68169'},\n",
       " 'MNXR94879': {'XREF': 'deprecated', 'XREF_ID': 'MNXR144'},\n",
       " 'MNXR94880': {'XREF': 'deprecated', 'XREF_ID': 'MNXR68171'},\n",
       " 'MNXR94881': {'XREF': 'deprecated', 'XREF_ID': 'MNXR146'},\n",
       " 'MNXR94882': {'XREF': 'deprecated', 'XREF_ID': 'MNXR68173'},\n",
       " 'MNXR94883': {'XREF': 'deprecated', 'XREF_ID': 'MNXR148'},\n",
       " 'MNXR94884': {'XREF': 'deprecated', 'XREF_ID': 'MNXR81364'},\n",
       " 'MNXR94885': {'XREF': 'deprecated', 'XREF_ID': 'MNXR150'},\n",
       " 'MNXR94886': {'XREF': 'deprecated', 'XREF_ID': 'MNXR7646'},\n",
       " 'MNXR94887': {'XREF': 'deprecated', 'XREF_ID': 'MNXR151'},\n",
       " 'MNXR94888': {'XREF': 'deprecated', 'XREF_ID': 'MNXR152'},\n",
       " 'MNXR94889': {'XREF': 'deprecated', 'XREF_ID': 'MNXR153'},\n",
       " 'MNXR94890': {'XREF': 'bigg', 'XREF_ID': 'HBCHLR'},\n",
       " 'MNXR94891': {'XREF': 'seed', 'XREF_ID': 'rxn03433'},\n",
       " 'MNXR94892': {'XREF': 'metanetx', 'XREF_ID': 'MNXR94892'},\n",
       " 'MNXR94893': {'XREF': 'deprecated', 'XREF_ID': 'MNXR66563'},\n",
       " 'MNXR94894': {'XREF': 'deprecated', 'XREF_ID': 'MNXR30478'},\n",
       " 'MNXR94895': {'XREF': 'bigg', 'XREF_ID': '3HKYNAKGATm'},\n",
       " 'MNXR94896': {'XREF': 'metanetx', 'XREF_ID': 'MNXR94896'},\n",
       " 'MNXR94897': {'XREF': 'deprecated', 'XREF_ID': 'MNXR6569'},\n",
       " 'MNXR94898': {'XREF': 'deprecated', 'XREF_ID': 'MNXR81365'},\n",
       " 'MNXR94899': {'XREF': 'deprecated', 'XREF_ID': 'MNXR15304'},\n",
       " 'MNXR94900': {'XREF': 'deprecated', 'XREF_ID': 'MNXR81366'},\n",
       " 'MNXR94901': {'XREF': 'deprecated', 'XREF_ID': 'MNXR16951'},\n",
       " 'MNXR94902': {'XREF': 'deprecated', 'XREF_ID': 'MNXR161'},\n",
       " 'MNXR94903': {'XREF': 'deprecated', 'XREF_ID': 'MNXR162'},\n",
       " 'MNXR94904': {'XREF': 'deprecated', 'XREF_ID': 'MNXR81367'},\n",
       " 'MNXR94905': {'XREF': 'deprecated', 'XREF_ID': 'MNXR81368'},\n",
       " 'MNXR94906': {'XREF': 'deprecated', 'XREF_ID': 'MNXR81369'},\n",
       " 'MNXR94907': {'XREF': 'deprecated', 'XREF_ID': 'MNXR81370'},\n",
       " 'MNXR94908': {'XREF': 'deprecated', 'XREF_ID': 'MNXR29857'},\n",
       " 'MNXR94909': {'XREF': 'deprecated', 'XREF_ID': 'MNXR165'},\n",
       " 'MNXR94910': {'XREF': 'deprecated', 'XREF_ID': 'MNXR166'},\n",
       " 'MNXR94911': {'XREF': 'deprecated', 'XREF_ID': 'MNXR167'},\n",
       " 'MNXR94912': {'XREF': 'bigg', 'XREF_ID': 'r0754'},\n",
       " 'MNXR94913': {'XREF': 'deprecated', 'XREF_ID': 'MNXR81371'},\n",
       " 'MNXR94914': {'XREF': 'deprecated', 'XREF_ID': 'MNXR169'},\n",
       " 'MNXR94915': {'XREF': 'deprecated', 'XREF_ID': 'MNXR170'},\n",
       " 'MNXR94916': {'XREF': 'deprecated', 'XREF_ID': 'MNXR81372'},\n",
       " 'MNXR94917': {'XREF': 'deprecated', 'XREF_ID': 'MNXR81373'},\n",
       " 'MNXR94918': {'XREF': 'deprecated', 'XREF_ID': 'MNXR81374'},\n",
       " 'MNXR94919': {'XREF': 'deprecated', 'XREF_ID': 'MNXR54912'},\n",
       " 'MNXR94920': {'XREF': 'deprecated', 'XREF_ID': 'MNXR81375'},\n",
       " 'MNXR94921': {'XREF': 'deprecated', 'XREF_ID': 'MNXR26591'},\n",
       " 'MNXR94922': {'XREF': 'deprecated', 'XREF_ID': 'MNXR22886'},\n",
       " 'MNXR94923': {'XREF': 'deprecated', 'XREF_ID': 'MNXR173'},\n",
       " 'MNXR94924': {'XREF': 'deprecated', 'XREF_ID': 'MNXR174'},\n",
       " 'MNXR94925': {'XREF': 'deprecated', 'XREF_ID': 'MNXR79642'},\n",
       " 'MNXR94926': {'XREF': 'deprecated', 'XREF_ID': 'MNXR176'},\n",
       " 'MNXR94927': {'XREF': 'deprecated', 'XREF_ID': 'MNXR175'},\n",
       " 'MNXR94928': {'XREF': 'bigg', 'XREF_ID': 'r0756'},\n",
       " 'MNXR94929': {'XREF': 'bigg', 'XREF_ID': 'r0757'},\n",
       " 'MNXR94930': {'XREF': 'deprecated', 'XREF_ID': 'MNXR81376'},\n",
       " 'MNXR94931': {'XREF': 'deprecated', 'XREF_ID': 'MNXR81377'},\n",
       " 'MNXR94932': {'XREF': 'deprecated', 'XREF_ID': 'MNXR180'},\n",
       " 'MNXR94933': {'XREF': 'deprecated', 'XREF_ID': 'MNXR81378'},\n",
       " 'MNXR94934': {'XREF': 'deprecated', 'XREF_ID': 'MNXR181'},\n",
       " 'MNXR94935': {'XREF': 'deprecated', 'XREF_ID': 'MNXR182'},\n",
       " 'MNXR94936': {'XREF': 'deprecated', 'XREF_ID': 'MNXR183'},\n",
       " 'MNXR94937': {'XREF': 'deprecated', 'XREF_ID': 'MNXR81379'},\n",
       " 'MNXR94938': {'XREF': 'metanetx', 'XREF_ID': 'MNXR94938'},\n",
       " 'MNXR94939': {'XREF': 'deprecated', 'XREF_ID': 'MNXR63774'},\n",
       " 'MNXR94940': {'XREF': 'deprecated', 'XREF_ID': 'MNXR184'},\n",
       " 'MNXR94941': {'XREF': 'deprecated', 'XREF_ID': 'MNXR185'},\n",
       " 'MNXR94942': {'XREF': 'deprecated', 'XREF_ID': 'MNXR186'},\n",
       " 'MNXR94943': {'XREF': 'deprecated', 'XREF_ID': 'MNXR187'},\n",
       " 'MNXR94944': {'XREF': 'deprecated', 'XREF_ID': 'MNXR188'},\n",
       " 'MNXR94945': {'XREF': 'deprecated', 'XREF_ID': 'MNXR189'},\n",
       " 'MNXR94946': {'XREF': 'deprecated', 'XREF_ID': 'MNXR190'},\n",
       " 'MNXR94947': {'XREF': 'deprecated', 'XREF_ID': 'MNXR191'},\n",
       " 'MNXR94948': {'XREF': 'deprecated', 'XREF_ID': 'MNXR30495'},\n",
       " 'MNXR94949': {'XREF': 'deprecated', 'XREF_ID': 'MNXR193'},\n",
       " 'MNXR94950': {'XREF': 'deprecated', 'XREF_ID': 'MNXR194'},\n",
       " 'MNXR94951': {'XREF': 'deprecated', 'XREF_ID': 'MNXR23861'},\n",
       " 'MNXR94952': {'XREF': 'deprecated', 'XREF_ID': 'MNXR195'},\n",
       " 'MNXR94953': {'XREF': 'deprecated', 'XREF_ID': 'MNXR196'},\n",
       " 'MNXR94954': {'XREF': 'bigg', 'XREF_ID': '3OAS100_1'},\n",
       " 'MNXR94955': {'XREF': 'bigg', 'XREF_ID': '3OAS120_1'},\n",
       " 'MNXR94956': {'XREF': 'deprecated', 'XREF_ID': 'MNXR47319'},\n",
       " 'MNXR94957': {'XREF': 'bigg', 'XREF_ID': '3OAS140_1'},\n",
       " 'MNXR94958': {'XREF': 'deprecated', 'XREF_ID': 'MNXR47320'},\n",
       " 'MNXR94959': {'XREF': 'bigg', 'XREF_ID': '3OAS160_1'},\n",
       " 'MNXR94960': {'XREF': 'deprecated', 'XREF_ID': 'MNXR47321'},\n",
       " 'MNXR94961': {'XREF': 'deprecated', 'XREF_ID': 'MNXR47322'},\n",
       " 'MNXR94962': {'XREF': 'deprecated', 'XREF_ID': 'MNXR47323'},\n",
       " 'MNXR94963': {'XREF': 'bigg', 'XREF_ID': '3OAS60_1'},\n",
       " 'MNXR94964': {'XREF': 'bigg', 'XREF_ID': '3OAS80_1'},\n",
       " 'MNXR94965': {'XREF': 'seed', 'XREF_ID': 'rxn13204'},\n",
       " 'MNXR94966': {'XREF': 'deprecated', 'XREF_ID': 'MNXR54914'},\n",
       " 'MNXR94967': {'XREF': 'deprecated', 'XREF_ID': 'MNXR209'},\n",
       " 'MNXR94968': {'XREF': 'seed', 'XREF_ID': 'rxn12786'},\n",
       " 'MNXR94969': {'XREF': 'seed', 'XREF_ID': 'rxn12673'},\n",
       " 'MNXR94970': {'XREF': 'deprecated', 'XREF_ID': 'MNXR68200'},\n",
       " 'MNXR94971': {'XREF': 'deprecated', 'XREF_ID': 'MNXR68201'},\n",
       " 'MNXR94972': {'XREF': 'deprecated', 'XREF_ID': 'MNXR81387'},\n",
       " 'MNXR94973': {'XREF': 'deprecated', 'XREF_ID': 'MNXR27748'},\n",
       " 'MNXR94974': {'XREF': 'deprecated', 'XREF_ID': 'MNXR81388'},\n",
       " 'MNXR94975': {'XREF': 'deprecated', 'XREF_ID': 'MNXR81389'},\n",
       " 'MNXR94976': {'XREF': 'deprecated', 'XREF_ID': 'MNXR81390'},\n",
       " 'MNXR94977': {'XREF': 'deprecated', 'XREF_ID': 'MNXR214'},\n",
       " 'MNXR94978': {'XREF': 'bigg', 'XREF_ID': '3SALACBOXL_cho'},\n",
       " 'MNXR94979': {'XREF': 'deprecated', 'XREF_ID': 'MNXR216'},\n",
       " 'MNXR94980': {'XREF': 'bigg', 'XREF_ID': 'AATGm'},\n",
       " 'MNXR94981': {'XREF': 'bigg', 'XREF_ID': '3SPYRSPm_1'},\n",
       " 'MNXR94982': {'XREF': 'deprecated', 'XREF_ID': 'MNXR27749'},\n",
       " 'MNXR94983': {'XREF': 'deprecated', 'XREF_ID': 'MNXR219'},\n",
       " 'MNXR94984': {'XREF': 'seed', 'XREF_ID': 'rxn12671'},\n",
       " 'MNXR94985': {'XREF': 'seed', 'XREF_ID': 'rxn12672'},\n",
       " 'MNXR94986': {'XREF': 'deprecated', 'XREF_ID': 'MNXR81391'},\n",
       " 'MNXR94987': {'XREF': 'metanetx', 'XREF_ID': 'MNXR94987'},\n",
       " 'MNXR94988': {'XREF': 'deprecated', 'XREF_ID': 'MNXR81392'},\n",
       " 'MNXR94989': {'XREF': 'deprecated', 'XREF_ID': 'MNXR81393'},\n",
       " 'MNXR94990': {'XREF': 'deprecated', 'XREF_ID': 'MNXR81394'},\n",
       " 'MNXR94991': {'XREF': 'deprecated', 'XREF_ID': 'MNXR14923'},\n",
       " 'MNXR94992': {'XREF': 'deprecated', 'XREF_ID': 'MNXR223'},\n",
       " 'MNXR94993': {'XREF': 'deprecated', 'XREF_ID': 'MNXR224'},\n",
       " 'MNXR94994': {'XREF': 'seed', 'XREF_ID': 'rxn08027'},\n",
       " 'MNXR94995': {'XREF': 'deprecated', 'XREF_ID': 'MNXR226'},\n",
       " 'MNXR94996': {'XREF': 'deprecated', 'XREF_ID': 'MNXR225'},\n",
       " 'MNXR94997': {'XREF': 'deprecated', 'XREF_ID': 'MNXR56603'},\n",
       " 'MNXR94998': {'XREF': 'deprecated', 'XREF_ID': 'MNXR227'},\n",
       " 'MNXR94999': {'XREF': 'deprecated', 'XREF_ID': 'MNXR68205'},\n",
       " 'MNXR95000': {'XREF': 'deprecated', 'XREF_ID': 'MNXR59271'},\n",
       " 'MNXR95001': {'XREF': 'deprecated', 'XREF_ID': 'MNXR229'},\n",
       " 'MNXR95002': {'XREF': 'deprecated', 'XREF_ID': 'MNXR65712'},\n",
       " 'MNXR95003': {'XREF': 'deprecated', 'XREF_ID': 'MNXR81395'},\n",
       " 'MNXR95004': {'XREF': 'deprecated', 'XREF_ID': 'MNXR6964'},\n",
       " 'MNXR95005': {'XREF': 'deprecated', 'XREF_ID': 'MNXR81396'},\n",
       " 'MNXR95006': {'XREF': 'deprecated', 'XREF_ID': 'MNXR81397'},\n",
       " 'MNXR95007': {'XREF': 'deprecated', 'XREF_ID': 'MNXR68734'},\n",
       " 'MNXR95008': {'XREF': 'seed', 'XREF_ID': 'rxn03642'},\n",
       " 'MNXR95009': {'XREF': 'deprecated', 'XREF_ID': 'MNXR230'},\n",
       " 'MNXR95010': {'XREF': 'deprecated', 'XREF_ID': 'MNXR18369'},\n",
       " 'MNXR95011': {'XREF': 'deprecated', 'XREF_ID': 'MNXR232'},\n",
       " 'MNXR95012': {'XREF': 'deprecated', 'XREF_ID': 'MNXR81398'},\n",
       " 'MNXR95013': {'XREF': 'deprecated', 'XREF_ID': 'MNXR233'},\n",
       " 'MNXR95014': {'XREF': 'deprecated', 'XREF_ID': 'MNXR234'},\n",
       " 'MNXR95015': {'XREF': 'deprecated', 'XREF_ID': 'MNXR54919'},\n",
       " 'MNXR95016': {'XREF': 'deprecated', 'XREF_ID': 'MNXR236'},\n",
       " 'MNXR95017': {'XREF': 'deprecated', 'XREF_ID': 'MNXR237'},\n",
       " 'MNXR95018': {'XREF': 'deprecated', 'XREF_ID': 'MNXR81399'},\n",
       " 'MNXR95019': {'XREF': 'deprecated', 'XREF_ID': 'MNXR81401'},\n",
       " 'MNXR95020': {'XREF': 'deprecated', 'XREF_ID': 'MNXR69250'},\n",
       " 'MNXR95021': {'XREF': 'metanetx', 'XREF_ID': 'MNXR95021'},\n",
       " 'MNXR95022': {'XREF': 'deprecated', 'XREF_ID': 'MNXR81402'},\n",
       " 'MNXR95023': {'XREF': 'deprecated', 'XREF_ID': 'MNXR24335'},\n",
       " 'MNXR95024': {'XREF': 'deprecated', 'XREF_ID': 'MNXR239'},\n",
       " 'MNXR95025': {'XREF': 'deprecated', 'XREF_ID': 'MNXR81403'},\n",
       " 'MNXR95026': {'XREF': 'deprecated', 'XREF_ID': 'MNXR81404'},\n",
       " 'MNXR95027': {'XREF': 'deprecated', 'XREF_ID': 'MNXR81405'},\n",
       " 'MNXR95028': {'XREF': 'deprecated', 'XREF_ID': 'MNXR240'},\n",
       " 'MNXR95029': {'XREF': 'deprecated', 'XREF_ID': 'MNXR241'},\n",
       " 'MNXR95030': {'XREF': 'deprecated', 'XREF_ID': 'MNXR242'},\n",
       " 'MNXR95031': {'XREF': 'deprecated', 'XREF_ID': 'MNXR243'},\n",
       " 'MNXR95032': {'XREF': 'deprecated', 'XREF_ID': 'MNXR54920'},\n",
       " 'MNXR95033': {'XREF': 'deprecated', 'XREF_ID': 'MNXR81406'},\n",
       " 'MNXR95034': {'XREF': 'deprecated', 'XREF_ID': 'MNXR245'},\n",
       " 'MNXR95035': {'XREF': 'deprecated', 'XREF_ID': 'MNXR29106'},\n",
       " 'MNXR95036': {'XREF': 'bigg', 'XREF_ID': '4MPTNLtr'},\n",
       " 'MNXR95037': {'XREF': 'deprecated', 'XREF_ID': 'MNXR246'},\n",
       " 'MNXR95038': {'XREF': 'deprecated', 'XREF_ID': 'MNXR81407'},\n",
       " 'MNXR95039': {'XREF': 'deprecated', 'XREF_ID': 'MNXR81408'},\n",
       " 'MNXR95040': {'XREF': 'deprecated', 'XREF_ID': 'MNXR81409'},\n",
       " 'MNXR95041': {'XREF': 'deprecated', 'XREF_ID': 'MNXR247'},\n",
       " 'MNXR95042': {'XREF': 'deprecated', 'XREF_ID': 'MNXR248'},\n",
       " 'MNXR95043': {'XREF': 'deprecated', 'XREF_ID': 'MNXR249'},\n",
       " 'MNXR95044': {'XREF': 'deprecated', 'XREF_ID': 'MNXR81410'},\n",
       " 'MNXR95045': {'XREF': 'deprecated', 'XREF_ID': 'MNXR81411'},\n",
       " 'MNXR95046': {'XREF': 'metanetx', 'XREF_ID': 'MNXR95046'},\n",
       " 'MNXR95047': {'XREF': 'deprecated', 'XREF_ID': 'MNXR54923'},\n",
       " 'MNXR95048': {'XREF': 'deprecated', 'XREF_ID': 'MNXR68216'},\n",
       " 'MNXR95049': {'XREF': 'deprecated', 'XREF_ID': 'MNXR68217'},\n",
       " 'MNXR95050': {'XREF': 'deprecated', 'XREF_ID': 'MNXR255'},\n",
       " 'MNXR95051': {'XREF': 'deprecated', 'XREF_ID': 'MNXR256'},\n",
       " 'MNXR95052': {'XREF': 'deprecated', 'XREF_ID': 'MNXR81412'},\n",
       " 'MNXR95053': {'XREF': 'deprecated', 'XREF_ID': 'MNXR257'},\n",
       " 'MNXR95054': {'XREF': 'deprecated', 'XREF_ID': 'MNXR69251'},\n",
       " 'MNXR95055': {'XREF': 'deprecated', 'XREF_ID': 'MNXR81413'},\n",
       " 'MNXR95056': {'XREF': 'deprecated', 'XREF_ID': 'MNXR258'},\n",
       " 'MNXR95057': {'XREF': 'deprecated', 'XREF_ID': 'MNXR259'},\n",
       " 'MNXR95058': {'XREF': 'deprecated', 'XREF_ID': 'MNXR260'},\n",
       " 'MNXR95059': {'XREF': 'deprecated', 'XREF_ID': 'MNXR261'},\n",
       " 'MNXR95060': {'XREF': 'deprecated', 'XREF_ID': 'MNXR262'},\n",
       " 'MNXR95061': {'XREF': 'deprecated', 'XREF_ID': 'MNXR263'},\n",
       " 'MNXR95062': {'XREF': 'deprecated', 'XREF_ID': 'MNXR264'},\n",
       " 'MNXR95063': {'XREF': 'deprecated', 'XREF_ID': 'MNXR81414'},\n",
       " 'MNXR95064': {'XREF': 'deprecated', 'XREF_ID': 'MNXR81415'},\n",
       " 'MNXR95065': {'XREF': 'deprecated', 'XREF_ID': 'MNXR7181'},\n",
       " 'MNXR95066': {'XREF': 'deprecated', 'XREF_ID': 'MNXR54924'},\n",
       " 'MNXR95067': {'XREF': 'deprecated', 'XREF_ID': 'MNXR54925'},\n",
       " 'MNXR95068': {'XREF': 'deprecated', 'XREF_ID': 'MNXR268'},\n",
       " 'MNXR95069': {'XREF': 'deprecated', 'XREF_ID': 'MNXR269'},\n",
       " 'MNXR95070': {'XREF': 'deprecated', 'XREF_ID': 'MNXR57739'},\n",
       " 'MNXR95071': {'XREF': 'deprecated', 'XREF_ID': 'MNXR57921'},\n",
       " 'MNXR95072': {'XREF': 'deprecated', 'XREF_ID': 'MNXR81416'},\n",
       " 'MNXR95073': {'XREF': 'deprecated', 'XREF_ID': 'MNXR81417'},\n",
       " 'MNXR95074': {'XREF': 'deprecated', 'XREF_ID': 'MNXR54926'},\n",
       " 'MNXR95075': {'XREF': 'deprecated', 'XREF_ID': 'MNXR81418'},\n",
       " 'MNXR95076': {'XREF': 'deprecated', 'XREF_ID': 'MNXR81419'},\n",
       " 'MNXR95077': {'XREF': 'deprecated', 'XREF_ID': 'MNXR81420'},\n",
       " 'MNXR95078': {'XREF': 'metanetx', 'XREF_ID': 'MNXR95078'},\n",
       " 'MNXR95079': {'XREF': 'deprecated', 'XREF_ID': 'MNXR273'},\n",
       " 'MNXR95080': {'XREF': 'metanetx', 'XREF_ID': 'MNXR95080'},\n",
       " 'MNXR95081': {'XREF': 'bigg', 'XREF_ID': '5HOXINDACTOXm'},\n",
       " 'MNXR95082': {'XREF': 'deprecated', 'XREF_ID': 'MNXR81421'},\n",
       " 'MNXR95083': {'XREF': 'metanetx', 'XREF_ID': 'MNXR95083'},\n",
       " 'MNXR95084': {'XREF': 'deprecated', 'XREF_ID': 'MNXR278'},\n",
       " 'MNXR95085': {'XREF': 'metanetx', 'XREF_ID': 'MNXR95085'},\n",
       " 'MNXR95086': {'XREF': 'deprecated', 'XREF_ID': 'MNXR81422'},\n",
       " 'MNXR95087': {'XREF': 'deprecated', 'XREF_ID': 'MNXR30204'},\n",
       " 'MNXR95088': {'XREF': 'deprecated', 'XREF_ID': 'MNXR281'},\n",
       " 'MNXR95089': {'XREF': 'deprecated', 'XREF_ID': 'MNXR282'},\n",
       " 'MNXR95090': {'XREF': 'deprecated', 'XREF_ID': 'MNXR81424'},\n",
       " 'MNXR95091': {'XREF': 'deprecated', 'XREF_ID': 'MNXR81423'},\n",
       " 'MNXR95092': {'XREF': 'metanetx', 'XREF_ID': 'MNXR95092'},\n",
       " 'MNXR95093': {'XREF': 'deprecated', 'XREF_ID': 'MNXR283'},\n",
       " 'MNXR95094': {'XREF': 'deprecated', 'XREF_ID': 'MNXR81425'},\n",
       " 'MNXR95095': {'XREF': 'deprecated', 'XREF_ID': 'MNXR19140'},\n",
       " 'MNXR95096': {'XREF': 'deprecated', 'XREF_ID': 'MNXR284'},\n",
       " 'MNXR95097': {'XREF': 'deprecated', 'XREF_ID': 'MNXR285'},\n",
       " 'MNXR95098': {'XREF': 'deprecated', 'XREF_ID': 'MNXR286'},\n",
       " 'MNXR95099': {'XREF': 'deprecated', 'XREF_ID': 'MNXR60703'},\n",
       " 'MNXR95100': {'XREF': 'deprecated', 'XREF_ID': 'MNXR81426'},\n",
       " 'MNXR95101': {'XREF': 'deprecated', 'XREF_ID': 'MNXR81427'},\n",
       " 'MNXR95102': {'XREF': 'deprecated', 'XREF_ID': 'MNXR27751'},\n",
       " 'MNXR95103': {'XREF': 'deprecated', 'XREF_ID': 'MNXR288'},\n",
       " 'MNXR95104': {'XREF': 'deprecated', 'XREF_ID': 'MNXR68225'},\n",
       " 'MNXR95105': {'XREF': 'deprecated', 'XREF_ID': 'MNXR290'},\n",
       " 'MNXR95106': {'XREF': 'deprecated', 'XREF_ID': 'MNXR75334'},\n",
       " 'MNXR95107': {'XREF': 'deprecated', 'XREF_ID': 'MNXR60708'},\n",
       " 'MNXR95108': {'XREF': 'deprecated', 'XREF_ID': 'MNXR291'},\n",
       " 'MNXR95109': {'XREF': 'deprecated', 'XREF_ID': 'MNXR292'},\n",
       " 'MNXR95110': {'XREF': 'deprecated', 'XREF_ID': 'MNXR293'},\n",
       " 'MNXR95111': {'XREF': 'deprecated', 'XREF_ID': 'MNXR294'},\n",
       " 'MNXR95112': {'XREF': 'deprecated', 'XREF_ID': 'MNXR295'},\n",
       " 'MNXR95113': {'XREF': 'deprecated', 'XREF_ID': 'MNXR296'},\n",
       " 'MNXR95114': {'XREF': 'deprecated', 'XREF_ID': 'MNXR81428'},\n",
       " 'MNXR95115': {'XREF': 'deprecated', 'XREF_ID': 'MNXR81429'},\n",
       " 'MNXR95116': {'XREF': 'deprecated', 'XREF_ID': 'MNXR81430'},\n",
       " 'MNXR95117': {'XREF': 'deprecated', 'XREF_ID': 'MNXR81431'},\n",
       " 'MNXR95118': {'XREF': 'deprecated', 'XREF_ID': 'MNXR81432'},\n",
       " 'MNXR95119': {'XREF': 'deprecated', 'XREF_ID': 'MNXR81433'},\n",
       " 'MNXR95120': {'XREF': 'deprecated', 'XREF_ID': 'MNXR81434'},\n",
       " 'MNXR95121': {'XREF': 'deprecated', 'XREF_ID': 'MNXR81435'},\n",
       " 'MNXR95122': {'XREF': 'deprecated', 'XREF_ID': 'MNXR81436'},\n",
       " 'MNXR95123': {'XREF': 'deprecated', 'XREF_ID': 'MNXR81437'},\n",
       " 'MNXR95124': {'XREF': 'deprecated', 'XREF_ID': 'MNXR81438'},\n",
       " 'MNXR95125': {'XREF': 'deprecated', 'XREF_ID': 'MNXR81439'},\n",
       " 'MNXR95126': {'XREF': 'deprecated', 'XREF_ID': 'MNXR81440'},\n",
       " 'MNXR95127': {'XREF': 'deprecated', 'XREF_ID': 'MNXR81441'},\n",
       " 'MNXR95128': {'XREF': 'deprecated', 'XREF_ID': 'MNXR54929'},\n",
       " 'MNXR95129': {'XREF': 'bigg', 'XREF_ID': 'A4GALTg_cho'},\n",
       " 'MNXR95130': {'XREF': 'deprecated', 'XREF_ID': 'MNXR54930'},\n",
       " 'MNXR95131': {'XREF': 'deprecated', 'XREF_ID': 'MNXR54931'},\n",
       " 'MNXR95132': {'XREF': 'deprecated', 'XREF_ID': 'MNXR300'},\n",
       " 'MNXR95133': {'XREF': 'deprecated', 'XREF_ID': 'MNXR81442'},\n",
       " 'MNXR95134': {'XREF': 'deprecated', 'XREF_ID': 'MNXR301'},\n",
       " 'MNXR95135': {'XREF': 'metanetx', 'XREF_ID': 'MNXR95135'},\n",
       " 'MNXR95136': {'XREF': 'deprecated', 'XREF_ID': 'MNXR302'},\n",
       " 'MNXR95137': {'XREF': 'deprecated', 'XREF_ID': 'MNXR81443'},\n",
       " 'MNXR95138': {'XREF': 'deprecated', 'XREF_ID': 'MNXR50749'},\n",
       " 'MNXR95139': {'XREF': 'deprecated', 'XREF_ID': 'MNXR68227'},\n",
       " 'MNXR95140': {'XREF': 'deprecated', 'XREF_ID': 'MNXR68228'},\n",
       " 'MNXR95141': {'XREF': 'deprecated', 'XREF_ID': 'MNXR50752'},\n",
       " 'MNXR95142': {'XREF': 'deprecated', 'XREF_ID': 'MNXR50753'},\n",
       " 'MNXR95143': {'XREF': 'deprecated', 'XREF_ID': 'MNXR81444'},\n",
       " 'MNXR95144': {'XREF': 'deprecated', 'XREF_ID': 'MNXR81445'},\n",
       " 'MNXR95145': {'XREF': 'deprecated', 'XREF_ID': 'MNXR50756'},\n",
       " 'MNXR95146': {'XREF': 'metanetx', 'XREF_ID': 'MNXR95146'},\n",
       " 'MNXR95147': {'XREF': 'deprecated', 'XREF_ID': 'MNXR50758'},\n",
       " 'MNXR95148': {'XREF': 'metanetx', 'XREF_ID': 'MNXR95148'},\n",
       " 'MNXR95149': {'XREF': 'deprecated', 'XREF_ID': 'MNXR81447'},\n",
       " 'MNXR95150': {'XREF': 'deprecated', 'XREF_ID': 'MNXR315'},\n",
       " 'MNXR95151': {'XREF': 'deprecated', 'XREF_ID': 'MNXR54933'},\n",
       " 'MNXR95152': {'XREF': 'metanetx', 'XREF_ID': 'MNXR95152'},\n",
       " 'MNXR95153': {'XREF': 'deprecated', 'XREF_ID': 'MNXR54934'},\n",
       " 'MNXR95154': {'XREF': 'deprecated', 'XREF_ID': 'MNXR94311'},\n",
       " 'MNXR95155': {'XREF': 'metanetx', 'XREF_ID': 'MNXR95155'},\n",
       " 'MNXR95156': {'XREF': 'deprecated', 'XREF_ID': 'MNXR319'},\n",
       " 'MNXR95157': {'XREF': 'deprecated', 'XREF_ID': 'MNXR320'},\n",
       " 'MNXR95158': {'XREF': 'deprecated', 'XREF_ID': 'MNXR321'},\n",
       " 'MNXR95159': {'XREF': 'deprecated', 'XREF_ID': 'MNXR513'},\n",
       " 'MNXR95160': {'XREF': 'deprecated', 'XREF_ID': 'MNXR30562'},\n",
       " 'MNXR95161': {'XREF': 'deprecated', 'XREF_ID': 'MNXR31786'},\n",
       " 'MNXR95162': {'XREF': 'deprecated', 'XREF_ID': 'MNXR81449'},\n",
       " 'MNXR95163': {'XREF': 'deprecated', 'XREF_ID': 'MNXR5123'},\n",
       " 'MNXR95164': {'XREF': 'deprecated', 'XREF_ID': 'MNXR323'},\n",
       " 'MNXR95165': {'XREF': 'deprecated', 'XREF_ID': 'MNXR80352'},\n",
       " 'MNXR95166': {'XREF': 'deprecated', 'XREF_ID': 'MNXR81450'},\n",
       " 'MNXR95167': {'XREF': 'deprecated', 'XREF_ID': 'MNXR76299'},\n",
       " 'MNXR95168': {'XREF': 'deprecated', 'XREF_ID': 'MNXR81451'},\n",
       " 'MNXR95169': {'XREF': 'metanetx', 'XREF_ID': 'MNXR95169'},\n",
       " 'MNXR95170': {'XREF': 'deprecated', 'XREF_ID': 'MNXR54936'},\n",
       " 'MNXR95171': {'XREF': 'metanetx', 'XREF_ID': 'MNXR95171'},\n",
       " 'MNXR95172': {'XREF': 'deprecated', 'XREF_ID': 'MNXR54937'},\n",
       " 'MNXR95173': {'XREF': 'metanetx', 'XREF_ID': 'MNXR95173'},\n",
       " 'MNXR95174': {'XREF': 'deprecated', 'XREF_ID': 'MNXR81452'},\n",
       " 'MNXR95175': {'XREF': 'metanetx', 'XREF_ID': 'MNXR95175'},\n",
       " 'MNXR95176': {'XREF': 'deprecated', 'XREF_ID': 'MNXR54939'},\n",
       " 'MNXR95177': {'XREF': 'deprecated', 'XREF_ID': 'MNXR60045'},\n",
       " 'MNXR95178': {'XREF': 'deprecated', 'XREF_ID': 'MNXR54940'},\n",
       " 'MNXR95179': {'XREF': 'metanetx', 'XREF_ID': 'MNXR95179'},\n",
       " 'MNXR95180': {'XREF': 'deprecated', 'XREF_ID': 'MNXR54941'},\n",
       " 'MNXR95181': {'XREF': 'metanetx', 'XREF_ID': 'MNXR95181'},\n",
       " 'MNXR95182': {'XREF': 'deprecated', 'XREF_ID': 'MNXR54942'},\n",
       " 'MNXR95183': {'XREF': 'metanetx', 'XREF_ID': 'MNXR95183'},\n",
       " 'MNXR95184': {'XREF': 'deprecated', 'XREF_ID': 'MNXR54943'},\n",
       " 'MNXR95185': {'XREF': 'metanetx', 'XREF_ID': 'MNXR95185'},\n",
       " 'MNXR95186': {'XREF': 'deprecated', 'XREF_ID': 'MNXR30569'},\n",
       " 'MNXR95187': {'XREF': 'deprecated', 'XREF_ID': 'MNXR6077'},\n",
       " 'MNXR95188': {'XREF': 'deprecated', 'XREF_ID': 'MNXR81453'},\n",
       " 'MNXR95189': {'XREF': 'deprecated', 'XREF_ID': 'MNXR29501'},\n",
       " 'MNXR95190': {'XREF': 'deprecated', 'XREF_ID': 'MNXR336'},\n",
       " 'MNXR95191': {'XREF': 'deprecated', 'XREF_ID': 'MNXR337'},\n",
       " 'MNXR95192': {'XREF': 'metanetx', 'XREF_ID': 'MNXR95192'},\n",
       " 'MNXR95193': {'XREF': 'deprecated', 'XREF_ID': 'MNXR340'},\n",
       " 'MNXR95194': {'XREF': 'deprecated', 'XREF_ID': 'MNXR341'},\n",
       " 'MNXR95195': {'XREF': 'deprecated', 'XREF_ID': 'MNXR62028'},\n",
       " 'MNXR95196': {'XREF': 'deprecated', 'XREF_ID': 'MNXR62627'},\n",
       " 'MNXR95197': {'XREF': 'bigg', 'XREF_ID': 'KAT3'},\n",
       " 'MNXR95198': {'XREF': 'deprecated', 'XREF_ID': 'MNXR345'},\n",
       " 'MNXR95199': {'XREF': 'bigg', 'XREF_ID': 'KAT5'},\n",
       " 'MNXR95200': {'XREF': 'deprecated', 'XREF_ID': 'MNXR346'},\n",
       " 'MNXR95201': {'XREF': 'deprecated', 'XREF_ID': 'MNXR347'},\n",
       " 'MNXR95202': {'XREF': 'metanetx', 'XREF_ID': 'MNXR95202'},\n",
       " 'MNXR95203': {'XREF': 'deprecated', 'XREF_ID': 'MNXR348'},\n",
       " 'MNXR95204': {'XREF': 'deprecated', 'XREF_ID': 'MNXR54944'},\n",
       " 'MNXR95205': {'XREF': 'deprecated', 'XREF_ID': 'MNXR81454'},\n",
       " 'MNXR95206': {'XREF': 'metanetx', 'XREF_ID': 'MNXR95206'},\n",
       " 'MNXR95207': {'XREF': 'deprecated', 'XREF_ID': 'MNXR351'},\n",
       " 'MNXR95208': {'XREF': 'deprecated', 'XREF_ID': 'MNXR352'},\n",
       " 'MNXR95209': {'XREF': 'deprecated', 'XREF_ID': 'MNXR81455'},\n",
       " 'MNXR95210': {'XREF': 'deprecated', 'XREF_ID': 'MNXR353'},\n",
       " 'MNXR95211': {'XREF': 'metanetx', 'XREF_ID': 'MNXR95211'},\n",
       " 'MNXR95212': {'XREF': 'deprecated', 'XREF_ID': 'MNXR354'},\n",
       " 'MNXR95213': {'XREF': 'deprecated', 'XREF_ID': 'MNXR355'},\n",
       " 'MNXR95214': {'XREF': 'deprecated', 'XREF_ID': 'MNXR81456'},\n",
       " 'MNXR95215': {'XREF': 'deprecated', 'XREF_ID': 'MNXR74317'},\n",
       " 'MNXR95216': {'XREF': 'deprecated', 'XREF_ID': 'MNXR356'},\n",
       " 'MNXR95217': {'XREF': 'deprecated', 'XREF_ID': 'MNXR81457'},\n",
       " 'MNXR95218': {'XREF': 'deprecated', 'XREF_ID': 'MNXR357'},\n",
       " 'MNXR95219': {'XREF': 'deprecated', 'XREF_ID': 'MNXR358'},\n",
       " 'MNXR95220': {'XREF': 'deprecated', 'XREF_ID': 'MNXR48676'},\n",
       " 'MNXR95221': {'XREF': 'metanetx', 'XREF_ID': 'MNXR95221'},\n",
       " 'MNXR95222': {'XREF': 'bigg', 'XREF_ID': 'PPACOALm'},\n",
       " 'MNXR95223': {'XREF': 'deprecated', 'XREF_ID': 'MNXR361'},\n",
       " 'MNXR95224': {'XREF': 'deprecated', 'XREF_ID': 'MNXR81458'},\n",
       " 'MNXR95225': {'XREF': 'deprecated', 'XREF_ID': 'MNXR362'},\n",
       " 'MNXR95226': {'XREF': 'deprecated', 'XREF_ID': 'MNXR478'},\n",
       " 'MNXR95227': {'XREF': 'deprecated', 'XREF_ID': 'MNXR81459'},\n",
       " 'MNXR95228': {'XREF': 'deprecated', 'XREF_ID': 'MNXR57227'},\n",
       " 'MNXR95229': {'XREF': 'deprecated', 'XREF_ID': 'MNXR67890'},\n",
       " 'MNXR95230': {'XREF': 'deprecated', 'XREF_ID': 'MNXR363'},\n",
       " 'MNXR95231': {'XREF': 'deprecated', 'XREF_ID': 'MNXR364'},\n",
       " 'MNXR95232': {'XREF': 'bigg', 'XREF_ID': 'ACGAGBSIDEtl_cho'},\n",
       " 'MNXR95233': {'XREF': 'deprecated', 'XREF_ID': 'MNXR365'},\n",
       " 'MNXR95234': {'XREF': 'deprecated', 'XREF_ID': 'MNXR366'},\n",
       " 'MNXR95235': {'XREF': 'deprecated', 'XREF_ID': 'MNXR81460'},\n",
       " 'MNXR95236': {'XREF': 'deprecated', 'XREF_ID': 'MNXR81461'},\n",
       " 'MNXR95237': {'XREF': 'deprecated', 'XREF_ID': 'MNXR54946'},\n",
       " 'MNXR95238': {'XREF': 'bigg',\n",
       "  'XREF_ID': 'ACGALFUCGALACGALFUC12GAL14ACGLCGALGLUSIDEtg_cho'},\n",
       " 'MNXR95239': {'XREF': 'deprecated', 'XREF_ID': 'MNXR368'},\n",
       " 'MNXR95240': {'XREF': 'bigg',\n",
       "  'XREF_ID': 'ACGALFUCGALACGALFUCGALACGLCGAL14ACGLCGALGLUSIDEtg_cho'},\n",
       " 'MNXR95241': {'XREF': 'deprecated', 'XREF_ID': 'MNXR369'},\n",
       " 'MNXR95242': {'XREF': 'deprecated', 'XREF_ID': 'MNXR81462'},\n",
       " 'MNXR95243': {'XREF': 'deprecated', 'XREF_ID': 'MNXR81463'},\n",
       " 'MNXR95244': {'XREF': 'deprecated', 'XREF_ID': 'MNXR371'},\n",
       " 'MNXR95245': {'XREF': 'deprecated', 'XREF_ID': 'MNXR54948'},\n",
       " 'MNXR95246': {'XREF': 'deprecated', 'XREF_ID': 'MNXR54949'},\n",
       " 'MNXR95247': {'XREF': 'deprecated', 'XREF_ID': 'MNXR54950'},\n",
       " 'MNXR95248': {'XREF': 'deprecated', 'XREF_ID': 'MNXR81464'},\n",
       " 'MNXR95249': {'XREF': 'deprecated', 'XREF_ID': 'MNXR81465'},\n",
       " 'MNXR95250': {'XREF': 'deprecated', 'XREF_ID': 'MNXR54951'},\n",
       " 'MNXR95251': {'XREF': 'deprecated', 'XREF_ID': 'MNXR81467'},\n",
       " 'MNXR95252': {'XREF': 'deprecated', 'XREF_ID': 'MNXR379'},\n",
       " 'MNXR95253': {'XREF': 'deprecated', 'XREF_ID': 'MNXR81468'},\n",
       " 'MNXR95254': {'XREF': 'deprecated', 'XREF_ID': 'MNXR381'},\n",
       " 'MNXR95255': {'XREF': 'bigg', 'XREF_ID': 'ACGBGBSIDEtl_cho'},\n",
       " 'MNXR95256': {'XREF': 'deprecated', 'XREF_ID': 'MNXR76183'},\n",
       " 'MNXR95257': {'XREF': 'deprecated', 'XREF_ID': 'MNXR81469'},\n",
       " 'MNXR95258': {'XREF': 'deprecated', 'XREF_ID': 'MNXR76061'},\n",
       " 'MNXR95259': {'XREF': 'deprecated', 'XREF_ID': 'MNXR30582'},\n",
       " 'MNXR95260': {'XREF': 'deprecated', 'XREF_ID': 'MNXR76182'},\n",
       " 'MNXR95261': {'XREF': 'deprecated', 'XREF_ID': 'MNXR386'},\n",
       " 'MNXR95262': {'XREF': 'deprecated', 'XREF_ID': 'MNXR29861'},\n",
       " 'MNXR95263': {'XREF': 'deprecated', 'XREF_ID': 'MNXR29862'},\n",
       " 'MNXR95264': {'XREF': 'deprecated', 'XREF_ID': 'MNXR67891'},\n",
       " 'MNXR95265': {'XREF': 'deprecated', 'XREF_ID': 'MNXR15850'},\n",
       " 'MNXR95266': {'XREF': 'deprecated', 'XREF_ID': 'MNXR387'},\n",
       " 'MNXR95267': {'XREF': 'deprecated', 'XREF_ID': 'MNXR388'},\n",
       " 'MNXR95268': {'XREF': 'deprecated', 'XREF_ID': 'MNXR389'},\n",
       " 'MNXR95269': {'XREF': 'deprecated', 'XREF_ID': 'MNXR390'},\n",
       " 'MNXR95270': {'XREF': 'deprecated', 'XREF_ID': 'MNXR391'},\n",
       " 'MNXR95271': {'XREF': 'deprecated', 'XREF_ID': 'MNXR68259'},\n",
       " 'MNXR95272': {'XREF': 'deprecated', 'XREF_ID': 'MNXR81470'},\n",
       " 'MNXR95273': {'XREF': 'deprecated', 'XREF_ID': 'MNXR81471'},\n",
       " 'MNXR95274': {'XREF': 'deprecated', 'XREF_ID': 'MNXR56888'},\n",
       " 'MNXR95275': {'XREF': 'deprecated', 'XREF_ID': 'MNXR81472'},\n",
       " 'MNXR95276': {'XREF': 'deprecated', 'XREF_ID': 'MNXR66724'},\n",
       " 'MNXR95277': {'XREF': 'deprecated', 'XREF_ID': 'MNXR54954'},\n",
       " 'MNXR95278': {'XREF': 'deprecated', 'XREF_ID': 'MNXR68264'},\n",
       " 'MNXR95279': {'XREF': 'deprecated', 'XREF_ID': 'MNXR398'},\n",
       " 'MNXR95280': {'XREF': 'deprecated', 'XREF_ID': 'MNXR399'},\n",
       " 'MNXR95281': {'XREF': 'bigg', 'XREF_ID': 'ACN13ACNGALGBSIDEtg_cho'},\n",
       " 'MNXR95282': {'XREF': 'deprecated', 'XREF_ID': 'MNXR400'},\n",
       " 'MNXR95283': {'XREF': 'bigg', 'XREF_ID': 'ACN23ACNGALGBSIDEtg_cho'},\n",
       " 'MNXR95284': {'XREF': 'deprecated', 'XREF_ID': 'MNXR401'},\n",
       " 'MNXR95285': {'XREF': 'bigg', 'XREF_ID': 'ACNACNGAL14ACGLCGALGLUSIDEtg_cho'},\n",
       " 'MNXR95286': {'XREF': 'deprecated', 'XREF_ID': 'MNXR402'},\n",
       " 'MNXR95287': {'XREF': 'bigg', 'XREF_ID': 'ACNACNGALGBSIDEtg_cho'},\n",
       " 'MNXR95288': {'XREF': 'metanetx', 'XREF_ID': 'MNXR95288'},\n",
       " 'MNXR95289': {'XREF': 'deprecated', 'XREF_ID': 'MNXR404'},\n",
       " 'MNXR95290': {'XREF': 'metanetx', 'XREF_ID': 'MNXR95290'},\n",
       " 'MNXR95291': {'XREF': 'deprecated', 'XREF_ID': 'MNXR406'},\n",
       " 'MNXR95292': {'XREF': 'deprecated', 'XREF_ID': 'MNXR407'},\n",
       " 'MNXR95293': {'XREF': 'deprecated', 'XREF_ID': 'MNXR54957'},\n",
       " 'MNXR95294': {'XREF': 'bigg',\n",
       "  'XREF_ID': 'ACNGALACGLCGAL14ACGLCGALGLUSIDEtg_cho'},\n",
       " 'MNXR95295': {'XREF': 'deprecated', 'XREF_ID': 'MNXR68555'},\n",
       " 'MNXR95296': {'XREF': 'deprecated', 'XREF_ID': 'MNXR54958'},\n",
       " 'MNXR95297': {'XREF': 'deprecated', 'XREF_ID': 'MNXR59284'},\n",
       " 'MNXR95298': {'XREF': 'bigg', 'XREF_ID': 'ACOAD4f'},\n",
       " 'MNXR95299': {'XREF': 'deprecated', 'XREF_ID': 'MNXR81475'},\n",
       " 'MNXR95300': {'XREF': 'deprecated', 'XREF_ID': 'MNXR81476'},\n",
       " 'MNXR95301': {'XREF': 'deprecated', 'XREF_ID': 'MNXR81477'},\n",
       " 'MNXR95302': {'XREF': 'deprecated', 'XREF_ID': 'MNXR81478'},\n",
       " 'MNXR95303': {'XREF': 'bigg', 'XREF_ID': 'ACOAD2f'},\n",
       " 'MNXR95304': {'XREF': 'deprecated', 'XREF_ID': 'MNXR81480'},\n",
       " 'MNXR95305': {'XREF': 'deprecated', 'XREF_ID': 'MNXR410'},\n",
       " 'MNXR95306': {'XREF': 'deprecated', 'XREF_ID': 'MNXR81481'},\n",
       " 'MNXR95307': {'XREF': 'deprecated', 'XREF_ID': 'MNXR81482'},\n",
       " 'MNXR95308': {'XREF': 'deprecated', 'XREF_ID': 'MNXR413'},\n",
       " 'MNXR95309': {'XREF': 'deprecated', 'XREF_ID': 'MNXR66063'},\n",
       " 'MNXR95310': {'XREF': 'deprecated', 'XREF_ID': 'MNXR415'},\n",
       " 'MNXR95311': {'XREF': 'deprecated', 'XREF_ID': 'MNXR417'},\n",
       " 'MNXR95312': {'XREF': 'seed', 'XREF_ID': 'rxn10012'},\n",
       " 'MNXR95313': {'XREF': 'deprecated', 'XREF_ID': 'MNXR419'},\n",
       " 'MNXR95314': {'XREF': 'metanetx', 'XREF_ID': 'MNXR95314'},\n",
       " 'MNXR95315': {'XREF': 'deprecated', 'XREF_ID': 'MNXR421'},\n",
       " 'MNXR95316': {'XREF': 'deprecated', 'XREF_ID': 'MNXR423'},\n",
       " 'MNXR95317': {'XREF': 'deprecated', 'XREF_ID': 'MNXR81483'},\n",
       " 'MNXR95318': {'XREF': 'deprecated', 'XREF_ID': 'MNXR81484'},\n",
       " 'MNXR95319': {'XREF': 'deprecated', 'XREF_ID': 'MNXR81485'},\n",
       " 'MNXR95320': {'XREF': 'deprecated', 'XREF_ID': 'MNXR81486'},\n",
       " 'MNXR95321': {'XREF': 'deprecated', 'XREF_ID': 'MNXR81487'},\n",
       " 'MNXR95322': {'XREF': 'deprecated', 'XREF_ID': 'MNXR81488'},\n",
       " 'MNXR95323': {'XREF': 'deprecated', 'XREF_ID': 'MNXR81489'},\n",
       " 'MNXR95324': {'XREF': 'deprecated', 'XREF_ID': 'MNXR81490'},\n",
       " 'MNXR95325': {'XREF': 'deprecated', 'XREF_ID': 'MNXR81491'},\n",
       " 'MNXR95326': {'XREF': 'deprecated', 'XREF_ID': 'MNXR81492'},\n",
       " 'MNXR95327': {'XREF': 'deprecated', 'XREF_ID': 'MNXR81493'},\n",
       " 'MNXR95328': {'XREF': 'deprecated', 'XREF_ID': 'MNXR81494'},\n",
       " 'MNXR95329': {'XREF': 'deprecated', 'XREF_ID': 'MNXR81495'},\n",
       " 'MNXR95330': {'XREF': 'deprecated', 'XREF_ID': 'MNXR81496'},\n",
       " 'MNXR95331': {'XREF': 'deprecated', 'XREF_ID': 'MNXR81497'},\n",
       " 'MNXR95332': {'XREF': 'deprecated', 'XREF_ID': 'MNXR81498'},\n",
       " 'MNXR95333': {'XREF': 'deprecated', 'XREF_ID': 'MNXR81499'},\n",
       " 'MNXR95334': {'XREF': 'deprecated', 'XREF_ID': 'MNXR81500'},\n",
       " 'MNXR95335': {'XREF': 'deprecated', 'XREF_ID': 'MNXR81501'},\n",
       " 'MNXR95336': {'XREF': 'deprecated', 'XREF_ID': 'MNXR81502'},\n",
       " 'MNXR95337': {'XREF': 'deprecated', 'XREF_ID': 'MNXR81503'},\n",
       " 'MNXR95338': {'XREF': 'deprecated', 'XREF_ID': 'MNXR81504'},\n",
       " 'MNXR95339': {'XREF': 'deprecated', 'XREF_ID': 'MNXR81505'},\n",
       " 'MNXR95340': {'XREF': 'deprecated', 'XREF_ID': 'MNXR81506'},\n",
       " 'MNXR95341': {'XREF': 'deprecated', 'XREF_ID': 'MNXR81507'},\n",
       " 'MNXR95342': {'XREF': 'deprecated', 'XREF_ID': 'MNXR81508'},\n",
       " 'MNXR95343': {'XREF': 'deprecated', 'XREF_ID': 'MNXR81509'},\n",
       " 'MNXR95344': {'XREF': 'deprecated', 'XREF_ID': 'MNXR81510'},\n",
       " 'MNXR95345': {'XREF': 'deprecated', 'XREF_ID': 'MNXR81511'},\n",
       " 'MNXR95346': {'XREF': 'deprecated', 'XREF_ID': 'MNXR81512'},\n",
       " 'MNXR95347': {'XREF': 'deprecated', 'XREF_ID': 'MNXR81513'},\n",
       " 'MNXR95348': {'XREF': 'deprecated', 'XREF_ID': 'MNXR81514'},\n",
       " 'MNXR95349': {'XREF': 'deprecated', 'XREF_ID': 'MNXR81515'},\n",
       " 'MNXR95350': {'XREF': 'deprecated', 'XREF_ID': 'MNXR81516'},\n",
       " 'MNXR95351': {'XREF': 'deprecated', 'XREF_ID': 'MNXR81517'},\n",
       " 'MNXR95352': {'XREF': 'deprecated', 'XREF_ID': 'MNXR81518'},\n",
       " 'MNXR95353': {'XREF': 'deprecated', 'XREF_ID': 'MNXR81519'},\n",
       " 'MNXR95354': {'XREF': 'deprecated', 'XREF_ID': 'MNXR81520'},\n",
       " 'MNXR95355': {'XREF': 'deprecated', 'XREF_ID': 'MNXR81521'},\n",
       " 'MNXR95356': {'XREF': 'deprecated', 'XREF_ID': 'MNXR81522'},\n",
       " 'MNXR95357': {'XREF': 'deprecated', 'XREF_ID': 'MNXR81523'},\n",
       " 'MNXR95358': {'XREF': 'deprecated', 'XREF_ID': 'MNXR81524'},\n",
       " 'MNXR95359': {'XREF': 'deprecated', 'XREF_ID': 'MNXR81525'},\n",
       " 'MNXR95360': {'XREF': 'deprecated', 'XREF_ID': 'MNXR81526'},\n",
       " 'MNXR95361': {'XREF': 'deprecated', 'XREF_ID': 'MNXR81527'},\n",
       " 'MNXR95362': {'XREF': 'deprecated', 'XREF_ID': 'MNXR428'},\n",
       " 'MNXR95363': {'XREF': 'deprecated', 'XREF_ID': 'MNXR429'},\n",
       " 'MNXR95364': {'XREF': 'deprecated', 'XREF_ID': 'MNXR430'},\n",
       " 'MNXR95365': {'XREF': 'deprecated', 'XREF_ID': 'MNXR431'},\n",
       " 'MNXR95366': {'XREF': 'deprecated', 'XREF_ID': 'MNXR432'},\n",
       " 'MNXR95367': {'XREF': 'deprecated', 'XREF_ID': 'MNXR433'},\n",
       " 'MNXR95368': {'XREF': 'deprecated', 'XREF_ID': 'MNXR54970'},\n",
       " 'MNXR95369': {'XREF': 'deprecated', 'XREF_ID': 'MNXR81528'},\n",
       " 'MNXR95370': {'XREF': 'metanetx', 'XREF_ID': 'MNXR95370'},\n",
       " 'MNXR95371': {'XREF': 'deprecated', 'XREF_ID': 'MNXR11079'},\n",
       " 'MNXR95372': {'XREF': 'metanetx', 'XREF_ID': 'MNXR95372'},\n",
       " 'MNXR95373': {'XREF': 'deprecated', 'XREF_ID': 'MNXR15466'},\n",
       " 'MNXR95374': {'XREF': 'deprecated', 'XREF_ID': 'MNXR15513'},\n",
       " 'MNXR95375': {'XREF': 'deprecated', 'XREF_ID': 'MNXR14765'},\n",
       " 'MNXR95376': {'XREF': 'deprecated', 'XREF_ID': 'MNXR35617'},\n",
       " 'MNXR95377': {'XREF': 'deprecated', 'XREF_ID': 'MNXR437'},\n",
       " 'MNXR95378': {'XREF': 'deprecated', 'XREF_ID': 'MNXR81529'},\n",
       " 'MNXR95379': {'XREF': 'deprecated', 'XREF_ID': 'MNXR438'},\n",
       " 'MNXR95380': {'XREF': 'deprecated', 'XREF_ID': 'MNXR29864'},\n",
       " 'MNXR95381': {'XREF': 'deprecated', 'XREF_ID': 'MNXR439'},\n",
       " 'MNXR95382': {'XREF': 'deprecated', 'XREF_ID': 'MNXR440'},\n",
       " 'MNXR95383': {'XREF': 'deprecated', 'XREF_ID': 'MNXR441'},\n",
       " 'MNXR95384': {'XREF': 'deprecated', 'XREF_ID': 'MNXR30608'},\n",
       " 'MNXR95385': {'XREF': 'deprecated', 'XREF_ID': 'MNXR81530'},\n",
       " 'MNXR95386': {'XREF': 'deprecated', 'XREF_ID': 'MNXR443'},\n",
       " 'MNXR95387': {'XREF': 'deprecated', 'XREF_ID': 'MNXR30609'},\n",
       " 'MNXR95388': {'XREF': 'deprecated', 'XREF_ID': 'MNXR30610'},\n",
       " 'MNXR95389': {'XREF': 'deprecated', 'XREF_ID': 'MNXR81531'},\n",
       " 'MNXR95390': {'XREF': 'deprecated', 'XREF_ID': 'MNXR81532'},\n",
       " 'MNXR95391': {'XREF': 'deprecated', 'XREF_ID': 'MNXR81533'},\n",
       " 'MNXR95392': {'XREF': 'deprecated', 'XREF_ID': 'MNXR81534'},\n",
       " 'MNXR95393': {'XREF': 'deprecated', 'XREF_ID': 'MNXR54973'},\n",
       " 'MNXR95394': {'XREF': 'deprecated', 'XREF_ID': 'MNXR5646'},\n",
       " 'MNXR95395': {'XREF': 'deprecated', 'XREF_ID': 'MNXR81535'},\n",
       " 'MNXR95396': {'XREF': 'deprecated', 'XREF_ID': 'MNXR81536'},\n",
       " 'MNXR95397': {'XREF': 'deprecated', 'XREF_ID': 'MNXR81537'},\n",
       " 'MNXR95398': {'XREF': 'deprecated', 'XREF_ID': 'MNXR81538'},\n",
       " 'MNXR95399': {'XREF': 'deprecated', 'XREF_ID': 'MNXR81539'},\n",
       " 'MNXR95400': {'XREF': 'deprecated', 'XREF_ID': 'MNXR81540'},\n",
       " 'MNXR95401': {'XREF': 'deprecated', 'XREF_ID': 'MNXR81541'},\n",
       " 'MNXR95402': {'XREF': 'deprecated', 'XREF_ID': 'MNXR449'},\n",
       " 'MNXR95403': {'XREF': 'seed', 'XREF_ID': 'rxn06023'},\n",
       " 'MNXR95404': {'XREF': 'deprecated', 'XREF_ID': 'MNXR81543'},\n",
       " 'MNXR95405': {'XREF': 'deprecated', 'XREF_ID': 'MNXR81544'},\n",
       " 'MNXR95406': {'XREF': 'deprecated', 'XREF_ID': 'MNXR81545'},\n",
       " 'MNXR95407': {'XREF': 'deprecated', 'XREF_ID': 'MNXR81546'},\n",
       " 'MNXR95408': {'XREF': 'deprecated', 'XREF_ID': 'MNXR81547'},\n",
       " 'MNXR95409': {'XREF': 'deprecated', 'XREF_ID': 'MNXR81548'},\n",
       " 'MNXR95410': {'XREF': 'deprecated', 'XREF_ID': 'MNXR460'},\n",
       " 'MNXR95411': {'XREF': 'seed', 'XREF_ID': 'rxn06022'},\n",
       " 'MNXR95412': {'XREF': 'deprecated', 'XREF_ID': 'MNXR452'},\n",
       " 'MNXR95413': {'XREF': 'deprecated', 'XREF_ID': 'MNXR453'},\n",
       " 'MNXR95414': {'XREF': 'deprecated', 'XREF_ID': 'MNXR81550'},\n",
       " 'MNXR95415': {'XREF': 'deprecated', 'XREF_ID': 'MNXR1354'},\n",
       " 'MNXR95416': {'XREF': 'deprecated', 'XREF_ID': 'MNXR454'},\n",
       " 'MNXR95417': {'XREF': 'metanetx', 'XREF_ID': 'MNXR95417'},\n",
       " 'MNXR95418': {'XREF': 'metanetx', 'XREF_ID': 'MNXR95418'},\n",
       " 'MNXR95419': {'XREF': 'deprecated', 'XREF_ID': 'MNXR9072'},\n",
       " 'MNXR95420': {'XREF': 'metanetx', 'XREF_ID': 'MNXR95420'},\n",
       " 'MNXR95421': {'XREF': 'deprecated', 'XREF_ID': 'MNXR15179'},\n",
       " 'MNXR95422': {'XREF': 'deprecated', 'XREF_ID': 'MNXR457'},\n",
       " 'MNXR95423': {'XREF': 'deprecated', 'XREF_ID': 'MNXR458'},\n",
       " 'MNXR95424': {'XREF': 'metanetx', 'XREF_ID': 'MNXR95424'},\n",
       " 'MNXR95425': {'XREF': 'metanetx', 'XREF_ID': 'MNXR95425'},\n",
       " 'MNXR95426': {'XREF': 'deprecated', 'XREF_ID': 'MNXR459'},\n",
       " 'MNXR95427': {'XREF': 'deprecated', 'XREF_ID': 'MNXR461'},\n",
       " 'MNXR95428': {'XREF': 'deprecated', 'XREF_ID': 'MNXR462'},\n",
       " 'MNXR95429': {'XREF': 'deprecated', 'XREF_ID': 'MNXR463'},\n",
       " 'MNXR95430': {'XREF': 'deprecated', 'XREF_ID': 'MNXR464'},\n",
       " 'MNXR95431': {'XREF': 'deprecated', 'XREF_ID': 'MNXR465'},\n",
       " 'MNXR95432': {'XREF': 'deprecated', 'XREF_ID': 'MNXR81551'},\n",
       " 'MNXR95433': {'XREF': 'deprecated', 'XREF_ID': 'MNXR1459'},\n",
       " 'MNXR95434': {'XREF': 'deprecated', 'XREF_ID': 'MNXR36038'},\n",
       " 'MNXR95435': {'XREF': 'deprecated', 'XREF_ID': 'MNXR886'},\n",
       " 'MNXR95436': {'XREF': 'deprecated', 'XREF_ID': 'MNXR467'},\n",
       " 'MNXR95437': {'XREF': 'deprecated', 'XREF_ID': 'MNXR81552'},\n",
       " 'MNXR95438': {'XREF': 'deprecated', 'XREF_ID': 'MNXR81553'},\n",
       " 'MNXR95439': {'XREF': 'deprecated', 'XREF_ID': 'MNXR469'},\n",
       " 'MNXR95440': {'XREF': 'deprecated', 'XREF_ID': 'MNXR30623'},\n",
       " 'MNXR95441': {'XREF': 'seed', 'XREF_ID': 'rxn03540'},\n",
       " 'MNXR95442': {'XREF': 'deprecated', 'XREF_ID': 'MNXR472'},\n",
       " 'MNXR95443': {'XREF': 'deprecated', 'XREF_ID': 'MNXR81555'},\n",
       " 'MNXR95444': {'XREF': 'deprecated', 'XREF_ID': 'MNXR485'},\n",
       " 'MNXR95445': {'XREF': 'deprecated', 'XREF_ID': 'MNXR474'},\n",
       " 'MNXR95446': {'XREF': 'deprecated', 'XREF_ID': 'MNXR475'},\n",
       " 'MNXR95447': {'XREF': 'deprecated', 'XREF_ID': 'MNXR81556'},\n",
       " 'MNXR95448': {'XREF': 'deprecated', 'XREF_ID': 'MNXR81557'},\n",
       " 'MNXR95449': {'XREF': 'metanetx', 'XREF_ID': 'MNXR95449'},\n",
       " 'MNXR95450': {'XREF': 'deprecated', 'XREF_ID': 'MNXR479'},\n",
       " 'MNXR95451': {'XREF': 'deprecated', 'XREF_ID': 'MNXR480'},\n",
       " 'MNXR95452': {'XREF': 'deprecated', 'XREF_ID': 'MNXR54976'},\n",
       " 'MNXR95453': {'XREF': 'deprecated', 'XREF_ID': 'MNXR54977'},\n",
       " 'MNXR95454': {'XREF': 'deprecated', 'XREF_ID': 'MNXR54978'},\n",
       " 'MNXR95455': {'XREF': 'deprecated', 'XREF_ID': 'MNXR484'},\n",
       " 'MNXR95456': {'XREF': 'deprecated', 'XREF_ID': 'MNXR486'},\n",
       " 'MNXR95457': {'XREF': 'deprecated', 'XREF_ID': 'MNXR54979'},\n",
       " 'MNXR95458': {'XREF': 'deprecated', 'XREF_ID': 'MNXR54980'},\n",
       " 'MNXR95459': {'XREF': 'deprecated', 'XREF_ID': 'MNXR54981'},\n",
       " 'MNXR95460': {'XREF': 'deprecated', 'XREF_ID': 'MNXR490'},\n",
       " 'MNXR95461': {'XREF': 'deprecated', 'XREF_ID': 'MNXR491'},\n",
       " 'MNXR95462': {'XREF': 'deprecated', 'XREF_ID': 'MNXR492'},\n",
       " 'MNXR95463': {'XREF': 'deprecated', 'XREF_ID': 'MNXR493'},\n",
       " 'MNXR95464': {'XREF': 'deprecated', 'XREF_ID': 'MNXR81558'},\n",
       " 'MNXR95465': {'XREF': 'seed', 'XREF_ID': 'rxn03536'},\n",
       " 'MNXR95466': {'XREF': 'deprecated', 'XREF_ID': 'MNXR81560'},\n",
       " 'MNXR95467': {'XREF': 'deprecated', 'XREF_ID': 'MNXR81561'},\n",
       " 'MNXR95468': {'XREF': 'deprecated', 'XREF_ID': 'MNXR81562'},\n",
       " 'MNXR95469': {'XREF': 'seed', 'XREF_ID': 'rxn03538'},\n",
       " 'MNXR95470': {'XREF': 'deprecated', 'XREF_ID': 'MNXR497'},\n",
       " 'MNXR95471': {'XREF': 'deprecated', 'XREF_ID': 'MNXR81564'},\n",
       " 'MNXR95472': {'XREF': 'deprecated', 'XREF_ID': 'MNXR81565'},\n",
       " 'MNXR95473': {'XREF': 'metanetx', 'XREF_ID': 'MNXR95473'},\n",
       " 'MNXR95474': {'XREF': 'metanetx', 'XREF_ID': 'MNXR95474'},\n",
       " 'MNXR95475': {'XREF': 'bigg', 'XREF_ID': 'C6DCc'},\n",
       " 'MNXR95476': {'XREF': 'metanetx', 'XREF_ID': 'MNXR95476'},\n",
       " 'MNXR95477': {'XREF': 'metanetx', 'XREF_ID': 'MNXR95477'},\n",
       " 'MNXR95478': {'XREF': 'deprecated', 'XREF_ID': 'MNXR76541'},\n",
       " 'MNXR95479': {'XREF': 'metanetx', 'XREF_ID': 'MNXR95479'},\n",
       " 'MNXR95480': {'XREF': 'deprecated', 'XREF_ID': 'MNXR68288'},\n",
       " 'MNXR95481': {'XREF': 'deprecated', 'XREF_ID': 'MNXR81567'},\n",
       " 'MNXR95482': {'XREF': 'deprecated', 'XREF_ID': 'MNXR54984'},\n",
       " 'MNXR95483': {'XREF': 'deprecated', 'XREF_ID': 'MNXR54985'},\n",
       " 'MNXR95484': {'XREF': 'deprecated', 'XREF_ID': 'MNXR506'},\n",
       " 'MNXR95485': {'XREF': 'deprecated', 'XREF_ID': 'MNXR81568'},\n",
       " 'MNXR95486': {'XREF': 'deprecated', 'XREF_ID': 'MNXR81569'},\n",
       " 'MNXR95487': {'XREF': 'deprecated', 'XREF_ID': 'MNXR509'},\n",
       " 'MNXR95488': {'XREF': 'deprecated', 'XREF_ID': 'MNXR54987'},\n",
       " 'MNXR95489': {'XREF': 'deprecated', 'XREF_ID': 'MNXR81570'},\n",
       " 'MNXR95490': {'XREF': 'deprecated', 'XREF_ID': 'MNXR54988'},\n",
       " 'MNXR95491': {'XREF': 'metanetx', 'XREF_ID': 'MNXR95491'},\n",
       " 'MNXR95492': {'XREF': 'deprecated', 'XREF_ID': 'MNXR578'},\n",
       " 'MNXR95493': {'XREF': 'deprecated', 'XREF_ID': 'MNXR514'},\n",
       " 'MNXR95494': {'XREF': 'seed', 'XREF_ID': 'rxn03136'},\n",
       " 'MNXR95495': {'XREF': 'deprecated', 'XREF_ID': 'MNXR54990'},\n",
       " 'MNXR95496': {'XREF': 'deprecated', 'XREF_ID': 'MNXR517'},\n",
       " 'MNXR95497': {'XREF': 'deprecated', 'XREF_ID': 'MNXR8053'},\n",
       " 'MNXR95498': {'XREF': 'rhea', 'XREF_ID': '32778#1'},\n",
       " 'MNXR95499': {'XREF': 'deprecated', 'XREF_ID': 'MNXR81571'},\n",
       " 'MNXR95500': {'XREF': 'metanetx', 'XREF_ID': 'MNXR95500'},\n",
       " 'MNXR95501': {'XREF': 'deprecated', 'XREF_ID': 'MNXR81572'},\n",
       " 'MNXR95502': {'XREF': 'deprecated', 'XREF_ID': 'MNXR68296'},\n",
       " 'MNXR95503': {'XREF': 'deprecated', 'XREF_ID': 'MNXR54991'},\n",
       " 'MNXR95504': {'XREF': 'deprecated', 'XREF_ID': 'MNXR81573'},\n",
       " 'MNXR95505': {'XREF': 'deprecated', 'XREF_ID': 'MNXR520'},\n",
       " 'MNXR95506': {'XREF': 'deprecated', 'XREF_ID': 'MNXR54992'},\n",
       " 'MNXR95507': {'XREF': 'deprecated', 'XREF_ID': 'MNXR54993'},\n",
       " 'MNXR95508': {'XREF': 'deprecated', 'XREF_ID': 'MNXR54994'},\n",
       " 'MNXR95509': {'XREF': 'deprecated', 'XREF_ID': 'MNXR54995'},\n",
       " 'MNXR95510': {'XREF': 'deprecated', 'XREF_ID': 'MNXR54996'},\n",
       " 'MNXR95511': {'XREF': 'deprecated', 'XREF_ID': 'MNXR54997'},\n",
       " 'MNXR95512': {'XREF': 'deprecated', 'XREF_ID': 'MNXR54998'},\n",
       " 'MNXR95513': {'XREF': 'deprecated', 'XREF_ID': 'MNXR54999'},\n",
       " 'MNXR95514': {'XREF': 'deprecated', 'XREF_ID': 'MNXR55000'},\n",
       " 'MNXR95515': {'XREF': 'deprecated', 'XREF_ID': 'MNXR55001'},\n",
       " 'MNXR95516': {'XREF': 'deprecated', 'XREF_ID': 'MNXR55002'},\n",
       " 'MNXR95517': {'XREF': 'deprecated', 'XREF_ID': 'MNXR55003'},\n",
       " 'MNXR95518': {'XREF': 'deprecated', 'XREF_ID': 'MNXR55004'},\n",
       " 'MNXR95519': {'XREF': 'deprecated', 'XREF_ID': 'MNXR55005'},\n",
       " 'MNXR95520': {'XREF': 'deprecated', 'XREF_ID': 'MNXR55006'},\n",
       " 'MNXR95521': {'XREF': 'deprecated', 'XREF_ID': 'MNXR55007'},\n",
       " 'MNXR95522': {'XREF': 'deprecated', 'XREF_ID': 'MNXR55008'},\n",
       " 'MNXR95523': {'XREF': 'deprecated', 'XREF_ID': 'MNXR55009'},\n",
       " 'MNXR95524': {'XREF': 'deprecated', 'XREF_ID': 'MNXR55010'},\n",
       " 'MNXR95525': {'XREF': 'deprecated', 'XREF_ID': 'MNXR540'},\n",
       " 'MNXR95526': {'XREF': 'metanetx', 'XREF_ID': 'MNXR95526'},\n",
       " 'MNXR95527': {'XREF': 'deprecated', 'XREF_ID': 'MNXR81574'},\n",
       " 'MNXR95528': {'XREF': 'deprecated', 'XREF_ID': 'MNXR81575'},\n",
       " 'MNXR95529': {'XREF': 'deprecated', 'XREF_ID': 'MNXR81576'},\n",
       " 'MNXR95530': {'XREF': 'deprecated', 'XREF_ID': 'MNXR76396'},\n",
       " 'MNXR95531': {'XREF': 'deprecated', 'XREF_ID': 'MNXR81577'},\n",
       " 'MNXR95532': {'XREF': 'metanetx', 'XREF_ID': 'MNXR95532'},\n",
       " 'MNXR95533': {'XREF': 'deprecated', 'XREF_ID': 'MNXR544'},\n",
       " 'MNXR95534': {'XREF': 'metanetx', 'XREF_ID': 'MNXR95534'},\n",
       " 'MNXR95535': {'XREF': 'deprecated', 'XREF_ID': 'MNXR81578'},\n",
       " 'MNXR95536': {'XREF': 'metanetx', 'XREF_ID': 'MNXR95536'},\n",
       " 'MNXR95537': {'XREF': 'deprecated', 'XREF_ID': 'MNXR81579'},\n",
       " 'MNXR95538': {'XREF': 'metacyc', 'XREF_ID': 'RXN-17730'},\n",
       " 'MNXR95539': {'XREF': 'deprecated', 'XREF_ID': 'MNXR547'},\n",
       " 'MNXR95540': {'XREF': 'metanetx', 'XREF_ID': 'MNXR95540'},\n",
       " 'MNXR95541': {'XREF': 'deprecated', 'XREF_ID': 'MNXR30649'},\n",
       " 'MNXR95542': {'XREF': 'metanetx', 'XREF_ID': 'MNXR95542'},\n",
       " 'MNXR95543': {'XREF': 'deprecated', 'XREF_ID': 'MNXR68303'},\n",
       " 'MNXR95544': {'XREF': 'deprecated', 'XREF_ID': 'MNXR550'},\n",
       " 'MNXR95545': {'XREF': 'deprecated', 'XREF_ID': 'MNXR551'},\n",
       " 'MNXR95546': {'XREF': 'deprecated', 'XREF_ID': 'MNXR552'},\n",
       " 'MNXR95547': {'XREF': 'deprecated', 'XREF_ID': 'MNXR553'},\n",
       " 'MNXR95548': {'XREF': 'deprecated', 'XREF_ID': 'MNXR81580'},\n",
       " 'MNXR95549': {'XREF': 'deprecated', 'XREF_ID': 'MNXR555'},\n",
       " 'MNXR95550': {'XREF': 'deprecated', 'XREF_ID': 'MNXR556'},\n",
       " 'MNXR95551': {'XREF': 'deprecated', 'XREF_ID': 'MNXR74422'},\n",
       " 'MNXR95552': {'XREF': 'deprecated', 'XREF_ID': 'MNXR61590'},\n",
       " 'MNXR95553': {'XREF': 'deprecated', 'XREF_ID': 'MNXR81581'},\n",
       " 'MNXR95554': {'XREF': 'deprecated', 'XREF_ID': 'MNXR558'},\n",
       " 'MNXR95555': {'XREF': 'deprecated', 'XREF_ID': 'MNXR559'},\n",
       " 'MNXR95556': {'XREF': 'deprecated', 'XREF_ID': 'MNXR560'},\n",
       " 'MNXR95557': {'XREF': 'deprecated', 'XREF_ID': 'MNXR561'},\n",
       " 'MNXR95558': {'XREF': 'deprecated', 'XREF_ID': 'MNXR55012'},\n",
       " 'MNXR95559': {'XREF': 'deprecated', 'XREF_ID': 'MNXR47336'},\n",
       " 'MNXR95560': {'XREF': 'deprecated', 'XREF_ID': 'MNXR47337'},\n",
       " 'MNXR95561': {'XREF': 'deprecated', 'XREF_ID': 'MNXR47338'},\n",
       " 'MNXR95562': {'XREF': 'deprecated', 'XREF_ID': 'MNXR81584'},\n",
       " 'MNXR95563': {'XREF': 'deprecated', 'XREF_ID': 'MNXR68315'},\n",
       " 'MNXR95564': {'XREF': 'deprecated', 'XREF_ID': 'MNXR47340'},\n",
       " 'MNXR95565': {'XREF': 'deprecated', 'XREF_ID': 'MNXR47341'},\n",
       " 'MNXR95566': {'XREF': 'deprecated', 'XREF_ID': 'MNXR81587'},\n",
       " 'MNXR95567': {'XREF': 'deprecated', 'XREF_ID': 'MNXR47342'},\n",
       " 'MNXR95568': {'XREF': 'deprecated', 'XREF_ID': 'MNXR81589'},\n",
       " 'MNXR95569': {'XREF': 'deprecated', 'XREF_ID': 'MNXR81590'},\n",
       " 'MNXR95570': {'XREF': 'deprecated', 'XREF_ID': 'MNXR81591'},\n",
       " 'MNXR95571': {'XREF': 'deprecated', 'XREF_ID': 'MNXR81592'},\n",
       " 'MNXR95572': {'XREF': 'deprecated', 'XREF_ID': 'MNXR81593'},\n",
       " 'MNXR95573': {'XREF': 'deprecated', 'XREF_ID': 'MNXR81594'},\n",
       " 'MNXR95574': {'XREF': 'deprecated', 'XREF_ID': 'MNXR81595'},\n",
       " 'MNXR95575': {'XREF': 'deprecated', 'XREF_ID': 'MNXR81596'},\n",
       " 'MNXR95576': {'XREF': 'deprecated', 'XREF_ID': 'MNXR81597'},\n",
       " 'MNXR95577': {'XREF': 'deprecated', 'XREF_ID': 'MNXR81598'},\n",
       " 'MNXR95578': {'XREF': 'deprecated', 'XREF_ID': 'MNXR81599'},\n",
       " 'MNXR95579': {'XREF': 'deprecated', 'XREF_ID': 'MNXR81600'},\n",
       " 'MNXR95580': {'XREF': 'deprecated', 'XREF_ID': 'MNXR81601'},\n",
       " 'MNXR95581': {'XREF': 'deprecated', 'XREF_ID': 'MNXR81602'},\n",
       " 'MNXR95582': {'XREF': 'deprecated', 'XREF_ID': 'MNXR81603'},\n",
       " 'MNXR95583': {'XREF': 'deprecated', 'XREF_ID': 'MNXR81604'},\n",
       " 'MNXR95584': {'XREF': 'deprecated', 'XREF_ID': 'MNXR81605'},\n",
       " 'MNXR95585': {'XREF': 'deprecated', 'XREF_ID': 'MNXR81606'},\n",
       " 'MNXR95586': {'XREF': 'deprecated', 'XREF_ID': 'MNXR81607'},\n",
       " 'MNXR95587': {'XREF': 'deprecated', 'XREF_ID': 'MNXR81608'},\n",
       " 'MNXR95588': {'XREF': 'deprecated', 'XREF_ID': 'MNXR81609'},\n",
       " 'MNXR95589': {'XREF': 'deprecated', 'XREF_ID': 'MNXR81610'},\n",
       " 'MNXR95590': {'XREF': 'deprecated', 'XREF_ID': 'MNXR81611'},\n",
       " 'MNXR95591': {'XREF': 'deprecated', 'XREF_ID': 'MNXR81612'},\n",
       " 'MNXR95592': {'XREF': 'deprecated', 'XREF_ID': 'MNXR81613'},\n",
       " 'MNXR95593': {'XREF': 'deprecated', 'XREF_ID': 'MNXR81614'},\n",
       " 'MNXR95594': {'XREF': 'deprecated', 'XREF_ID': 'MNXR81615'},\n",
       " 'MNXR95595': {'XREF': 'deprecated', 'XREF_ID': 'MNXR81616'},\n",
       " 'MNXR95596': {'XREF': 'deprecated', 'XREF_ID': 'MNXR81617'},\n",
       " 'MNXR95597': {'XREF': 'deprecated', 'XREF_ID': 'MNXR81618'},\n",
       " 'MNXR95598': {'XREF': 'deprecated', 'XREF_ID': 'MNXR81619'},\n",
       " 'MNXR95599': {'XREF': 'deprecated', 'XREF_ID': 'MNXR81620'},\n",
       " 'MNXR95600': {'XREF': 'deprecated', 'XREF_ID': 'MNXR81621'},\n",
       " 'MNXR95601': {'XREF': 'deprecated', 'XREF_ID': 'MNXR81622'},\n",
       " 'MNXR95602': {'XREF': 'metanetx', 'XREF_ID': 'MNXR95602'},\n",
       " 'MNXR95603': {'XREF': 'deprecated', 'XREF_ID': 'MNXR81623'},\n",
       " 'MNXR95604': {'XREF': 'deprecated', 'XREF_ID': 'MNXR81624'},\n",
       " 'MNXR95605': {'XREF': 'deprecated', 'XREF_ID': 'MNXR81625'},\n",
       " 'MNXR95606': {'XREF': 'deprecated', 'XREF_ID': 'MNXR81626'},\n",
       " 'MNXR95607': {'XREF': 'deprecated', 'XREF_ID': 'MNXR81627'},\n",
       " 'MNXR95608': {'XREF': 'deprecated', 'XREF_ID': 'MNXR81628'},\n",
       " 'MNXR95609': {'XREF': 'deprecated', 'XREF_ID': 'MNXR81629'},\n",
       " 'MNXR95610': {'XREF': 'deprecated', 'XREF_ID': 'MNXR81630'},\n",
       " 'MNXR95611': {'XREF': 'deprecated', 'XREF_ID': 'MNXR81631'},\n",
       " 'MNXR95612': {'XREF': 'metanetx', 'XREF_ID': 'MNXR95612'},\n",
       " 'MNXR95613': {'XREF': 'deprecated', 'XREF_ID': 'MNXR59293'},\n",
       " 'MNXR95614': {'XREF': 'deprecated', 'XREF_ID': 'MNXR81632'},\n",
       " 'MNXR95615': {'XREF': 'metanetx', 'XREF_ID': 'MNXR95615'},\n",
       " 'MNXR95616': {'XREF': 'deprecated', 'XREF_ID': 'MNXR573'},\n",
       " 'MNXR95617': {'XREF': 'metanetx', 'XREF_ID': 'MNXR95617'},\n",
       " 'MNXR95618': {'XREF': 'deprecated', 'XREF_ID': 'MNXR574'},\n",
       " 'MNXR95619': {'XREF': 'deprecated', 'XREF_ID': 'MNXR77119'},\n",
       " 'MNXR95620': {'XREF': 'deprecated', 'XREF_ID': 'MNXR575'},\n",
       " 'MNXR95621': {'XREF': 'deprecated', 'XREF_ID': 'MNXR81634'},\n",
       " 'MNXR95622': {'XREF': 'deprecated', 'XREF_ID': 'MNXR81635'},\n",
       " 'MNXR95623': {'XREF': 'deprecated', 'XREF_ID': 'MNXR55014'},\n",
       " 'MNXR95624': {'XREF': 'deprecated', 'XREF_ID': 'MNXR55015'},\n",
       " 'MNXR95625': {'XREF': 'deprecated', 'XREF_ID': 'MNXR579'},\n",
       " 'MNXR95626': {'XREF': 'deprecated', 'XREF_ID': 'MNXR580'},\n",
       " 'MNXR95627': {'XREF': 'deprecated', 'XREF_ID': 'MNXR581'},\n",
       " 'MNXR95628': {'XREF': 'deprecated', 'XREF_ID': 'MNXR5635'},\n",
       " 'MNXR95629': {'XREF': 'deprecated', 'XREF_ID': 'MNXR582'},\n",
       " 'MNXR95630': {'XREF': 'deprecated', 'XREF_ID': 'MNXR68323'},\n",
       " 'MNXR95631': {'XREF': 'deprecated', 'XREF_ID': 'MNXR68325'},\n",
       " 'MNXR95632': {'XREF': 'deprecated', 'XREF_ID': 'MNXR584'},\n",
       " 'MNXR95633': {'XREF': 'metanetx', 'XREF_ID': 'MNXR95633'},\n",
       " 'MNXR95634': {'XREF': 'deprecated', 'XREF_ID': 'MNXR585'},\n",
       " 'MNXR95635': {'XREF': 'metanetx', 'XREF_ID': 'MNXR95635'},\n",
       " 'MNXR95636': {'XREF': 'deprecated', 'XREF_ID': 'MNXR82091'},\n",
       " 'MNXR95637': {'XREF': 'deprecated', 'XREF_ID': 'MNXR3488'},\n",
       " 'MNXR95638': {'XREF': 'deprecated', 'XREF_ID': 'MNXR587'},\n",
       " 'MNXR95639': {'XREF': 'deprecated', 'XREF_ID': 'MNXR588'},\n",
       " 'MNXR95640': {'XREF': 'deprecated', 'XREF_ID': 'MNXR589'},\n",
       " 'MNXR95641': {'XREF': 'metanetx', 'XREF_ID': 'MNXR95641'},\n",
       " 'MNXR95642': {'XREF': 'deprecated', 'XREF_ID': 'MNXR81636'},\n",
       " 'MNXR95643': {'XREF': 'metanetx', 'XREF_ID': 'MNXR95643'},\n",
       " 'MNXR95644': {'XREF': 'deprecated', 'XREF_ID': 'MNXR590'},\n",
       " 'MNXR95645': {'XREF': 'deprecated', 'XREF_ID': 'MNXR81637'},\n",
       " 'MNXR95646': {'XREF': 'deprecated', 'XREF_ID': 'MNXR81638'},\n",
       " 'MNXR95647': {'XREF': 'deprecated', 'XREF_ID': 'MNXR81639'},\n",
       " 'MNXR95648': {'XREF': 'deprecated', 'XREF_ID': 'MNXR81640'},\n",
       " 'MNXR95649': {'XREF': 'deprecated', 'XREF_ID': 'MNXR81641'},\n",
       " 'MNXR95650': {'XREF': 'deprecated', 'XREF_ID': 'MNXR81642'},\n",
       " 'MNXR95651': {'XREF': 'metanetx', 'XREF_ID': 'MNXR95651'},\n",
       " 'MNXR95652': {'XREF': 'deprecated', 'XREF_ID': 'MNXR593'},\n",
       " 'MNXR95653': {'XREF': 'deprecated', 'XREF_ID': 'MNXR81643'},\n",
       " 'MNXR95654': {'XREF': 'deprecated', 'XREF_ID': 'MNXR81644'},\n",
       " 'MNXR95655': {'XREF': 'deprecated', 'XREF_ID': 'MNXR595'},\n",
       " 'MNXR95656': {'XREF': 'deprecated', 'XREF_ID': 'MNXR68327'},\n",
       " 'MNXR95657': {'XREF': 'deprecated', 'XREF_ID': 'MNXR68326'},\n",
       " 'MNXR95658': {'XREF': 'deprecated', 'XREF_ID': 'MNXR81645'},\n",
       " 'MNXR95659': {'XREF': 'deprecated', 'XREF_ID': 'MNXR598'},\n",
       " 'MNXR95660': {'XREF': 'deprecated', 'XREF_ID': 'MNXR81646'},\n",
       " 'MNXR95661': {'XREF': 'deprecated', 'XREF_ID': 'MNXR599'},\n",
       " 'MNXR95662': {'XREF': 'deprecated', 'XREF_ID': 'MNXR600'},\n",
       " 'MNXR95663': {'XREF': 'deprecated', 'XREF_ID': 'MNXR601'},\n",
       " 'MNXR95664': {'XREF': 'deprecated', 'XREF_ID': 'MNXR81647'},\n",
       " ...}"
      ]
     },
     "execution_count": 9,
     "metadata": {},
     "output_type": "execute_result"
    }
   ],
   "source": [
    "\n",
    "reac_property_MNX = read_csv(\"/Users/lizrad/Documents/Vibrio_folder/reac_xref.tsv\" , sep='\\t')\n",
    "reac_property_MNX.set_index('MNX_ID',inplace = True)\n",
    "df_3 = reac_property_MNX.fillna('MISSING')  #Fill NA/NaN values using the specified method\n",
    "df_3\n",
    "reac_property_MNX_dict = df_3.to_dict('index')\n",
    "reac_property_MNX_dict"
   ]
  },
  {
   "cell_type": "code",
   "execution_count": null,
   "metadata": {},
   "outputs": [],
   "source": [
    "#skip\n",
    "#rxn_ID_not_in_MetaNetX_2 = [rxn for rxn in rxn_nobiggid if rxn.id.startswith('MNXR') and ''.join(re.findall('(MNXR\\d*)_',rxn.id)) not in reac_xref_MNX_2_dict.keys()]\n",
    "#print len(rxn_ID_not_in_MetaNetX_2)"
   ]
  },
  {
   "cell_type": "code",
   "execution_count": 10,
   "metadata": {},
   "outputs": [
    {
     "data": {
      "text/plain": [
       "{'10FTHF5GLUtm': {'MNX_ID': 'MNXR94668'},\n",
       " '10FTHF6GLUtl': {'MNX_ID': 'MNXR94669'},\n",
       " 'MNXR94669': {'MNX_ID': 'MNXR94669'},\n",
       " '10FTHF6GLUtm': {'MNX_ID': 'MNXR94669'},\n",
       " '10FTHF7GLUtl': {'MNX_ID': 'MNXR94670'},\n",
       " 'MNXR94670': {'MNX_ID': 'MNXR94670'},\n",
       " '10FTHF7GLUtm': {'MNX_ID': 'MNXR94670'},\n",
       " '10FTHFGLULL': {'MNX_ID': 'MNXR94671'},\n",
       " 'MNXR94671': {'MNX_ID': 'MNXR94671'},\n",
       " '10FTHFGLULLm': {'MNX_ID': 'MNXR94671'},\n",
       " '10FTHFtl': {'MNX_ID': 'MNXR94672'},\n",
       " 'MNXR94672': {'MNX_ID': 'MNXR94672'},\n",
       " '10FTHFtm': {'MNX_ID': 'MNXR94672'},\n",
       " '10FTHFtx': {'MNX_ID': 'MNXR94672'},\n",
       " '11DOCRTSLtm': {'MNX_ID': 'MNXR94673'},\n",
       " 'MNXR94673': {'MNX_ID': 'MNXR94673'},\n",
       " '11DOCRTSLtr': {'MNX_ID': 'MNXR94673'},\n",
       " '11DOCRTSTRNtm': {'MNX_ID': 'MNXR94674'},\n",
       " 'MNXR94674': {'MNX_ID': 'MNXR94674'},\n",
       " '11DOCRTSTRNtr': {'MNX_ID': 'MNXR94674'},\n",
       " '12DGR120tipp': {'MNX_ID': 'MNXR94675'},\n",
       " 'MNXR94675': {'MNX_ID': 'MNXR94675'},\n",
       " '12DGR140tipp': {'MNX_ID': 'MNXR94676'},\n",
       " 'MNXR94676': {'MNX_ID': 'MNXR94676'},\n",
       " '12DGR141tipp': {'MNX_ID': 'MNXR94677'},\n",
       " 'MNXR94677': {'MNX_ID': 'MNXR94677'},\n",
       " '12DGR160tipp': {'MNX_ID': 'MNXR94678'},\n",
       " 'MNXR94678': {'MNX_ID': 'MNXR94678'},\n",
       " '12DGR161tipp': {'MNX_ID': 'MNXR94679'},\n",
       " 'MNXR94679': {'MNX_ID': 'MNXR94679'},\n",
       " '12DGR180tipp': {'MNX_ID': 'MNXR94680'},\n",
       " 'MNXR94680': {'MNX_ID': 'MNXR94680'},\n",
       " '12DGR181tipp': {'MNX_ID': 'MNXR94681'},\n",
       " 'MNXR94681': {'MNX_ID': 'MNXR94681'},\n",
       " '12PPDRDH': {'MNX_ID': 'MNXR94682'},\n",
       " 'MNXR94682': {'MNX_ID': 'MNXR94682'},\n",
       " '12PPDRtex': {'MNX_ID': 'MNXR94683'},\n",
       " 'MNXR94683': {'MNX_ID': 'MNXR94683'},\n",
       " '12PPDRtpp': {'MNX_ID': 'MNXR94683'},\n",
       " '12PPDStex': {'MNX_ID': 'MNXR94684'},\n",
       " 'MNXR94684': {'MNX_ID': 'MNXR94684'},\n",
       " '12PPDStpp': {'MNX_ID': 'MNXR94684'},\n",
       " '12PPDt': {'MNX_ID': 'MNXR94684'},\n",
       " '12dgr2_ST': {'MNX_ID': 'MNXR94685'},\n",
       " 'MNXR94685': {'MNX_ID': 'MNXR94685'},\n",
       " '13BGH': {'MNX_ID': 'MNXR94686'},\n",
       " 'MNXR94686': {'MNX_ID': 'MNXR94686'},\n",
       " '13BGHe': {'MNX_ID': 'MNXR94686'},\n",
       " '13DAMPPOX': {'MNX_ID': 'MNXR94687'},\n",
       " 'MNXR94687': {'MNX_ID': 'MNXR94687'},\n",
       " '13GS': {'MNX_ID': 'MNXR94688'},\n",
       " 'MNXR94688': {'MNX_ID': 'MNXR94688'},\n",
       " '13HODEOR': {'MNX_ID': 'MNXR94689'},\n",
       " 'MNXR94689': {'MNX_ID': 'MNXR94689'},\n",
       " '13HPODEDH': {'MNX_ID': 'MNXR94690'},\n",
       " 'MNXR94690': {'MNX_ID': 'MNXR94690'},\n",
       " '13PPDH': {'MNX_ID': 'MNXR94691'},\n",
       " 'MNXR94691': {'MNX_ID': 'MNXR94691'},\n",
       " '13PPDtex': {'MNX_ID': 'MNXR94692'},\n",
       " 'MNXR94692': {'MNX_ID': 'MNXR94692'},\n",
       " '13PPDtpp': {'MNX_ID': 'MNXR94692'},\n",
       " '14GLUCANabcpp': {'MNX_ID': 'MNXR94693'},\n",
       " 'MNXR94693': {'MNX_ID': 'MNXR94693'},\n",
       " '14GLUCANtexi': {'MNX_ID': 'MNXR94694'},\n",
       " 'MNXR94694': {'MNX_ID': 'MNXR94694'},\n",
       " '16GS': {'MNX_ID': 'MNXR94695'},\n",
       " 'MNXR94695': {'MNX_ID': 'MNXR94695'},\n",
       " '1ACPCth': {'MNX_ID': 'MNXR94696'},\n",
       " 'MNXR94696': {'MNX_ID': 'MNXR94696'},\n",
       " '1ACPCtm': {'MNX_ID': 'MNXR94696'},\n",
       " '1AGPEAT1801819Z': {'MNX_ID': 'MNXR94697'},\n",
       " 'MNXR94697': {'MNX_ID': 'MNXR94697'},\n",
       " '1AGPEAT1801829Z12Z': {'MNX_ID': 'MNXR94698'},\n",
       " 'MNXR94698': {'MNX_ID': 'MNXR94698'},\n",
       " '1AGPEAT1801835Z9Z12Z': {'MNX_ID': 'MNXR94699'},\n",
       " 'MNXR94699': {'MNX_ID': 'MNXR94699'},\n",
       " '1AGPEAT1801845Z9Z12Z15Z': {'MNX_ID': 'MNXR94700'},\n",
       " 'MNXR94700': {'MNX_ID': 'MNXR94700'},\n",
       " '1AGPEAT18111Z1819Z': {'MNX_ID': 'MNXR94701'},\n",
       " 'MNXR94701': {'MNX_ID': 'MNXR94701'},\n",
       " '1AGPEAT18111Z1829Z12Z': {'MNX_ID': 'MNXR94702'},\n",
       " 'MNXR94702': {'MNX_ID': 'MNXR94702'},\n",
       " '1AGPEAT18111Z1835Z9Z12Z': {'MNX_ID': 'MNXR94703'},\n",
       " 'MNXR94703': {'MNX_ID': 'MNXR94703'},\n",
       " '1AGPEAT18111Z1845Z9Z12Z15Z': {'MNX_ID': 'MNXR94704'},\n",
       " 'MNXR94704': {'MNX_ID': 'MNXR94704'},\n",
       " '1AGPEAT1819Z1819Z': {'MNX_ID': 'MNXR94705'},\n",
       " 'MNXR94705': {'MNX_ID': 'MNXR94705'},\n",
       " '1AGPEAT1819Z1829Z12Z': {'MNX_ID': 'MNXR94706'},\n",
       " 'MNXR94706': {'MNX_ID': 'MNXR94706'},\n",
       " '1AGPEAT1819Z1835Z9Z12Z': {'MNX_ID': 'MNXR94707'},\n",
       " 'MNXR94707': {'MNX_ID': 'MNXR94707'},\n",
       " '1AGPEAT1819Z1845Z9Z12Z15Z': {'MNX_ID': 'MNXR94708'},\n",
       " 'MNXR94708': {'MNX_ID': 'MNXR94708'},\n",
       " '1AGPEAT1829Z12Z1835Z9Z12Z': {'MNX_ID': 'MNXR94709'},\n",
       " 'MNXR94709': {'MNX_ID': 'MNXR94709'},\n",
       " '1MNCAMti': {'MNX_ID': 'MNXR94710'},\n",
       " 'MNXR94710': {'MNX_ID': 'MNXR94710'},\n",
       " '1PPDCRc': {'MNX_ID': 'MNXR94711'},\n",
       " 'MNXR94711': {'MNX_ID': 'MNXR94711'},\n",
       " '1PPDCRp': {'MNX_ID': 'MNXR94712'},\n",
       " 'MNXR94712': {'MNX_ID': 'MNXR94712'},\n",
       " '1a25DHVITD3TRn': {'MNX_ID': 'MNXR94713'},\n",
       " 'MNXR94713': {'MNX_ID': 'MNXR94713'},\n",
       " '1a_24_25VITD2Hm': {'MNX_ID': 'MNXR94714'},\n",
       " 'MNXR94714': {'MNX_ID': 'MNXR94714'},\n",
       " '1a_24_25VITD3Hm': {'MNX_ID': 'MNXR94715'},\n",
       " 'MNXR94715': {'MNX_ID': 'MNXR94715'},\n",
       " '1a_25VITD2Hm': {'MNX_ID': 'MNXR94716'},\n",
       " 'MNXR94716': {'MNX_ID': 'MNXR94716'},\n",
       " '1a_25VITD3Hm': {'MNX_ID': 'MNXR94717'},\n",
       " 'MNXR94717': {'MNX_ID': 'MNXR94717'},\n",
       " '23CAMPtex': {'MNX_ID': 'MNXR94718'},\n",
       " 'MNXR94718': {'MNX_ID': 'MNXR94718'},\n",
       " '23CAPPD': {'MNX_ID': 'MNXR94719'},\n",
       " 'MNXR94719': {'MNX_ID': 'MNXR94719'},\n",
       " '23CCMPtex': {'MNX_ID': 'MNXR94720'},\n",
       " 'MNXR94720': {'MNX_ID': 'MNXR94720'},\n",
       " '23CGMPtex': {'MNX_ID': 'MNXR94721'},\n",
       " 'MNXR94721': {'MNX_ID': 'MNXR94721'},\n",
       " '23CN2P1': {'MNX_ID': 'MNXR94722'},\n",
       " 'MNXR94722': {'MNX_ID': 'MNXR94722'},\n",
       " '23CN2P2': {'MNX_ID': 'MNXR94723'},\n",
       " 'MNXR94723': {'MNX_ID': 'MNXR94723'},\n",
       " '23CN2P3': {'MNX_ID': 'MNXR94724'},\n",
       " 'MNXR94724': {'MNX_ID': 'MNXR94724'},\n",
       " '23CN2P4': {'MNX_ID': 'MNXR94725'},\n",
       " 'MNXR94725': {'MNX_ID': 'MNXR94725'},\n",
       " '23CUMPtex': {'MNX_ID': 'MNXR94726'},\n",
       " 'MNXR94726': {'MNX_ID': 'MNXR94726'},\n",
       " '23DAPPAt2pp': {'MNX_ID': 'MNXR94727'},\n",
       " 'MNXR94727': {'MNX_ID': 'MNXR94727'},\n",
       " '23DAPPAtex': {'MNX_ID': 'MNXR94728'},\n",
       " 'MNXR94728': {'MNX_ID': 'MNXR94728'},\n",
       " '23DHMBth': {'MNX_ID': 'MNXR94729'},\n",
       " 'MNXR94729': {'MNX_ID': 'MNXR94729'},\n",
       " '23DHMBtm': {'MNX_ID': 'MNXR94729'},\n",
       " '23DHMPth': {'MNX_ID': 'MNXR94730'},\n",
       " 'MNXR94730': {'MNX_ID': 'MNXR94730'},\n",
       " '23DK5MPPISO': {'MNX_ID': 'MNXR94731'},\n",
       " 'MNXR94731': {'MNX_ID': 'MNXR94731'},\n",
       " '23PDE2pp': {'MNX_ID': 'MNXR94723'},\n",
       " '23PDE4pp': {'MNX_ID': 'MNXR94724'},\n",
       " '23PDE7pp': {'MNX_ID': 'MNXR94722'},\n",
       " '23PDE9pp': {'MNX_ID': 'MNXR94725'},\n",
       " '24NPHte': {'MNX_ID': 'MNXR94732'},\n",
       " 'MNXR94732': {'MNX_ID': 'MNXR94732'},\n",
       " '24_25DHVITD2t': {'MNX_ID': 'MNXR94733'},\n",
       " 'MNXR94733': {'MNX_ID': 'MNXR94733'},\n",
       " '24_25DHVITD2tm': {'MNX_ID': 'MNXR94733'},\n",
       " '24_25DHVITD3t': {'MNX_ID': 'MNXR94734'},\n",
       " 'MNXR94734': {'MNX_ID': 'MNXR94734'},\n",
       " '24_25DHVITD3tm': {'MNX_ID': 'MNXR94734'},\n",
       " '24_25VITD2Hm': {'MNX_ID': 'MNXR94735'},\n",
       " 'MNXR94735': {'MNX_ID': 'MNXR94735'},\n",
       " '24_25VITD3Hm': {'MNX_ID': 'MNXR94736'},\n",
       " 'MNXR94736': {'MNX_ID': 'MNXR94736'},\n",
       " '25HVITD2t': {'MNX_ID': 'MNXR94737'},\n",
       " 'MNXR94737': {'MNX_ID': 'MNXR94737'},\n",
       " '25HVITD2tin': {'MNX_ID': 'MNXR94737'},\n",
       " '25HVITD2tin_m': {'MNX_ID': 'MNXR94737'},\n",
       " '25HVITD2tm': {'MNX_ID': 'MNXR94737'},\n",
       " '25HVITD3c': {'MNX_ID': 'MNXR94738'},\n",
       " 'MNXR94738': {'MNX_ID': 'MNXR94738'},\n",
       " '25HVITD3t': {'MNX_ID': 'MNXR94739'},\n",
       " 'MNXR94739': {'MNX_ID': 'MNXR94739'},\n",
       " '25HVITD3tin': {'MNX_ID': 'MNXR94739'},\n",
       " '25HVITD3tin_m': {'MNX_ID': 'MNXR94739'},\n",
       " '25HVITD3tm': {'MNX_ID': 'MNXR94739'},\n",
       " '25VITD2Hm': {'MNX_ID': 'MNXR94740'},\n",
       " 'MNXR94740': {'MNX_ID': 'MNXR94740'},\n",
       " '25VITD3Hm': {'MNX_ID': 'MNXR94738'},\n",
       " '26DAHtex': {'MNX_ID': 'MNXR94741'},\n",
       " 'MNXR94741': {'MNX_ID': 'MNXR94741'},\n",
       " '26DPAi': {'MNX_ID': 'MNXR94742'},\n",
       " 'MNXR94742': {'MNX_ID': 'MNXR94742'},\n",
       " '2AGPA120tipp': {'MNX_ID': 'MNXR94743'},\n",
       " 'MNXR94743': {'MNX_ID': 'MNXR94743'},\n",
       " '2AGPA140tipp': {'MNX_ID': 'MNXR94744'},\n",
       " 'MNXR94744': {'MNX_ID': 'MNXR94744'},\n",
       " '2AGPA141tipp': {'MNX_ID': 'MNXR94745'},\n",
       " 'MNXR94745': {'MNX_ID': 'MNXR94745'},\n",
       " '2AGPA160tipp': {'MNX_ID': 'MNXR94746'},\n",
       " 'MNXR94746': {'MNX_ID': 'MNXR94746'},\n",
       " '2AGPA161tipp': {'MNX_ID': 'MNXR94747'},\n",
       " 'MNXR94747': {'MNX_ID': 'MNXR94747'},\n",
       " '2AGPA180tipp': {'MNX_ID': 'MNXR94748'},\n",
       " 'MNXR94748': {'MNX_ID': 'MNXR94748'},\n",
       " '2AGPA181tipp': {'MNX_ID': 'MNXR94749'},\n",
       " 'MNXR94749': {'MNX_ID': 'MNXR94749'},\n",
       " '2AGPE120tipp': {'MNX_ID': 'MNXR94750'},\n",
       " 'MNXR94750': {'MNX_ID': 'MNXR94750'},\n",
       " '2AGPE140tipp': {'MNX_ID': 'MNXR94751'},\n",
       " 'MNXR94751': {'MNX_ID': 'MNXR94751'},\n",
       " '2AGPE141tipp': {'MNX_ID': 'MNXR94752'},\n",
       " 'MNXR94752': {'MNX_ID': 'MNXR94752'},\n",
       " '2AGPE160tipp': {'MNX_ID': 'MNXR94753'},\n",
       " 'MNXR94753': {'MNX_ID': 'MNXR94753'},\n",
       " '2AGPE161tipp': {'MNX_ID': 'MNXR94754'},\n",
       " 'MNXR94754': {'MNX_ID': 'MNXR94754'},\n",
       " '2AGPE180tipp': {'MNX_ID': 'MNXR94755'},\n",
       " 'MNXR94755': {'MNX_ID': 'MNXR94755'},\n",
       " '2AGPE181tipp': {'MNX_ID': 'MNXR94756'},\n",
       " 'MNXR94756': {'MNX_ID': 'MNXR94756'},\n",
       " '2AGPEAT120': {'MNX_ID': 'MNXR94757'},\n",
       " 'MNXR94757': {'MNX_ID': 'MNXR94757'},\n",
       " '2AGPEAT140': {'MNX_ID': 'MNXR94758'},\n",
       " 'MNXR94758': {'MNX_ID': 'MNXR94758'},\n",
       " '2AGPEAT141': {'MNX_ID': 'MNXR94759'},\n",
       " 'MNXR94759': {'MNX_ID': 'MNXR94759'},\n",
       " '2AGPEAT160': {'MNX_ID': 'MNXR94760'},\n",
       " 'MNXR94760': {'MNX_ID': 'MNXR94760'},\n",
       " '2AGPEAT161': {'MNX_ID': 'MNXR94761'},\n",
       " 'MNXR94761': {'MNX_ID': 'MNXR94761'},\n",
       " '2AGPEAT180': {'MNX_ID': 'MNXR94762'},\n",
       " 'MNXR94762': {'MNX_ID': 'MNXR94762'},\n",
       " '2AGPEAT181': {'MNX_ID': 'MNXR94763'},\n",
       " 'MNXR94763': {'MNX_ID': 'MNXR94763'},\n",
       " '2AGPG120tipp': {'MNX_ID': 'MNXR94764'},\n",
       " 'MNXR94764': {'MNX_ID': 'MNXR94764'},\n",
       " '2AGPG140tipp': {'MNX_ID': 'MNXR94765'},\n",
       " 'MNXR94765': {'MNX_ID': 'MNXR94765'},\n",
       " '2AGPG141tipp': {'MNX_ID': 'MNXR94766'},\n",
       " 'MNXR94766': {'MNX_ID': 'MNXR94766'},\n",
       " '2AGPG160tipp': {'MNX_ID': 'MNXR94767'},\n",
       " 'MNXR94767': {'MNX_ID': 'MNXR94767'},\n",
       " '2AGPG161tipp': {'MNX_ID': 'MNXR94768'},\n",
       " 'MNXR94768': {'MNX_ID': 'MNXR94768'},\n",
       " '2AGPG180tipp': {'MNX_ID': 'MNXR94769'},\n",
       " 'MNXR94769': {'MNX_ID': 'MNXR94769'},\n",
       " '2AGPG181tipp': {'MNX_ID': 'MNXR94770'},\n",
       " 'MNXR94770': {'MNX_ID': 'MNXR94770'},\n",
       " '2AGPGAT120': {'MNX_ID': 'MNXR94771'},\n",
       " 'MNXR94771': {'MNX_ID': 'MNXR94771'},\n",
       " '2AGPGAT140': {'MNX_ID': 'MNXR94772'},\n",
       " 'MNXR94772': {'MNX_ID': 'MNXR94772'},\n",
       " '2AGPGAT141': {'MNX_ID': 'MNXR94773'},\n",
       " 'MNXR94773': {'MNX_ID': 'MNXR94773'},\n",
       " '2AGPGAT160': {'MNX_ID': 'MNXR94774'},\n",
       " 'MNXR94774': {'MNX_ID': 'MNXR94774'},\n",
       " '2AGPGAT161': {'MNX_ID': 'MNXR94775'},\n",
       " 'MNXR94775': {'MNX_ID': 'MNXR94775'},\n",
       " '2AGPGAT180': {'MNX_ID': 'MNXR94776'},\n",
       " 'MNXR94776': {'MNX_ID': 'MNXR94776'},\n",
       " '2AGPGAT181': {'MNX_ID': 'MNXR94777'},\n",
       " 'MNXR94777': {'MNX_ID': 'MNXR94777'},\n",
       " '2AMACHYD': {'MNX_ID': 'MNXR94778'},\n",
       " 'MNXR94778': {'MNX_ID': 'MNXR94778'},\n",
       " '2AMACSULT': {'MNX_ID': 'MNXR94779'},\n",
       " 'MNXR94779': {'MNX_ID': 'MNXR94779'},\n",
       " '2AMADPTm': {'MNX_ID': 'MNXR94780'},\n",
       " 'MNXR94780': {'MNX_ID': 'MNXR94780'},\n",
       " '2AOBUTtm': {'MNX_ID': 'MNXR94781'},\n",
       " 'MNXR94781': {'MNX_ID': 'MNXR94781'},\n",
       " '2DDA7Ptm': {'MNX_ID': 'MNXR94782'},\n",
       " 'MNXR94782': {'MNX_ID': 'MNXR94782'},\n",
       " '2DGLCNRx': {'MNX_ID': 'MNXR94783'},\n",
       " 'MNXR94783': {'MNX_ID': 'MNXR94783'},\n",
       " '2DGLCNRy': {'MNX_ID': 'MNXR94784'},\n",
       " 'MNXR94784': {'MNX_ID': 'MNXR94784'},\n",
       " '2DGULRGx': {'MNX_ID': 'MNXR94785'},\n",
       " 'MNXR94785': {'MNX_ID': 'MNXR94785'},\n",
       " '2DGULRGy': {'MNX_ID': 'MNXR94786'},\n",
       " 'MNXR94786': {'MNX_ID': 'MNXR94786'},\n",
       " '2DGULRx': {'MNX_ID': 'MNXR94787'},\n",
       " 'MNXR94787': {'MNX_ID': 'MNXR94787'},\n",
       " '2DGULRy': {'MNX_ID': 'MNXR94788'},\n",
       " 'MNXR94788': {'MNX_ID': 'MNXR94788'},\n",
       " '2DHGLCK': {'MNX_ID': 'MNXR94789'},\n",
       " 'MNXR94789': {'MNX_ID': 'MNXR94789'},\n",
       " '2DHGLCNkt_tpp': {'MNX_ID': 'MNXR94790'},\n",
       " 'MNXR94790': {'MNX_ID': 'MNXR94790'},\n",
       " '2DHGLCNtex': {'MNX_ID': 'MNXR94791'},\n",
       " 'MNXR94791': {'MNX_ID': 'MNXR94791'},\n",
       " '2DHPFALDL': {'MNX_ID': 'MNXR94792'},\n",
       " 'MNXR94792': {'MNX_ID': 'MNXR94792'},\n",
       " '2DHPtm': {'MNX_ID': 'MNXR94793'},\n",
       " 'MNXR94793': {'MNX_ID': 'MNXR94793'},\n",
       " '2DHPtn': {'MNX_ID': 'MNXR94793'},\n",
       " '2DOXG6PP': {'MNX_ID': 'MNXR94794'},\n",
       " 'MNXR94794': {'MNX_ID': 'MNXR94794'},\n",
       " '2DR1PP': {'MNX_ID': 'MNXR94795'},\n",
       " 'MNXR94795': {'MNX_ID': 'MNXR94795'},\n",
       " '2HBO': {'MNX_ID': 'MNXR94796'},\n",
       " 'MNXR94796': {'MNX_ID': 'MNXR94796'},\n",
       " '2HBt2': {'MNX_ID': 'MNXR94797'},\n",
       " 'MNXR94797': {'MNX_ID': 'MNXR94797'},\n",
       " '2HCO3_NAt': {'MNX_ID': 'MNXR94798'},\n",
       " 'MNXR94798': {'MNX_ID': 'MNXR94798'},\n",
       " '2HH24DDH': {'MNX_ID': 'MNXR94799'},\n",
       " 'MNXR94799': {'MNX_ID': 'MNXR94799'},\n",
       " '2HH24DDH1': {'MNX_ID': 'MNXR94799'},\n",
       " '2HMHMBQMTm': {'MNX_ID': 'MNXR94800'},\n",
       " 'MNXR94800': {'MNX_ID': 'MNXR94800'},\n",
       " '2HP6MPMOm': {'MNX_ID': 'MNXR94801'},\n",
       " 'MNXR94801': {'MNX_ID': 'MNXR94801'},\n",
       " '2HPMBQMTm': {'MNX_ID': 'MNXR94802'},\n",
       " 'MNXR94802': {'MNX_ID': 'MNXR94802'},\n",
       " '2HPMMBQMOm': {'MNX_ID': 'MNXR94803'},\n",
       " 'MNXR94803': {'MNX_ID': 'MNXR94803'},\n",
       " '2HXMPt6': {'MNX_ID': 'MNXR94804'},\n",
       " 'MNXR94804': {'MNX_ID': 'MNXR94804'},\n",
       " '2INSD': {'MNX_ID': 'MNXR94805'},\n",
       " 'MNXR94805': {'MNX_ID': 'MNXR94805'},\n",
       " '2MAHMP': {'MNX_ID': 'MNXR94806'},\n",
       " 'MNXR94806': {'MNX_ID': 'MNXR94806'},\n",
       " '2MB2COAc': {'MNX_ID': 'MNXR94807'},\n",
       " 'MNXR94807': {'MNX_ID': 'MNXR94807'},\n",
       " '2MBACt': {'MNX_ID': 'MNXR94808'},\n",
       " 'MNXR94808': {'MNX_ID': 'MNXR94808'},\n",
       " '2MBALDt': {'MNX_ID': 'MNXR94809'},\n",
       " 'MNXR94809': {'MNX_ID': 'MNXR94809'},\n",
       " '2MBALDtm': {'MNX_ID': 'MNXR94809'},\n",
       " '2MBTOHt': {'MNX_ID': 'MNXR94810'},\n",
       " 'MNXR94810': {'MNX_ID': 'MNXR94810'},\n",
       " '2MBTOHtm': {'MNX_ID': 'MNXR94810'},\n",
       " '2MCITt': {'MNX_ID': 'MNXR94811'},\n",
       " 'MNXR94811': {'MNX_ID': 'MNXR94811'},\n",
       " '2MCITtm': {'MNX_ID': 'MNXR94811'},\n",
       " '2MPPALt': {'MNX_ID': 'MNXR94812'},\n",
       " 'MNXR94812': {'MNX_ID': 'MNXR94812'},\n",
       " '2MPPALtm': {'MNX_ID': 'MNXR94812'},\n",
       " '2OBUTt2ipp': {'MNX_ID': 'MNXR94813'},\n",
       " 'MNXR94813': {'MNX_ID': 'MNXR94813'},\n",
       " '2OBUTtex': {'MNX_ID': 'MNXR94814'},\n",
       " 'MNXR94814': {'MNX_ID': 'MNXR94814'},\n",
       " '2OBUTtm': {'MNX_ID': 'MNXR94814'},\n",
       " '2OH3K5MPPISO': {'MNX_ID': 'MNXR94815'},\n",
       " 'MNXR94815': {'MNX_ID': 'MNXR94815'},\n",
       " '2OHPH_5tn': {'MNX_ID': 'MNXR94816'},\n",
       " 'MNXR94816': {'MNX_ID': 'MNXR94816'},\n",
       " '2OMPH_5tm': {'MNX_ID': 'MNXR94817'},\n",
       " 'MNXR94817': {'MNX_ID': 'MNXR94817'},\n",
       " '2OMPH_5tn': {'MNX_ID': 'MNXR94817'},\n",
       " '2OXOADOXm': {'MNX_ID': 'MNXR94818'},\n",
       " 'MNXR94818': {'MNX_ID': 'MNXR94818'},\n",
       " '2OXOADPTm': {'MNX_ID': 'MNXR94819'},\n",
       " 'MNXR94819': {'MNX_ID': 'MNXR94819'},\n",
       " '2OXOADPtim': {'MNX_ID': 'MNXR94820'},\n",
       " 'MNXR94820': {'MNX_ID': 'MNXR94820'},\n",
       " '2PGK': {'MNX_ID': 'MNXR94821'},\n",
       " 'MNXR94821': {'MNX_ID': 'MNXR94821'},\n",
       " '2PGLYCt6': {'MNX_ID': 'MNXR94822'},\n",
       " 'MNXR94822': {'MNX_ID': 'MNXR94822'},\n",
       " '2PGLYCth': {'MNX_ID': 'MNXR94823'},\n",
       " 'MNXR94823': {'MNX_ID': 'MNXR94823'},\n",
       " '2PGLYCtx': {'MNX_ID': 'MNXR94823'},\n",
       " '2PGt6': {'MNX_ID': 'MNXR94824'},\n",
       " 'MNXR94824': {'MNX_ID': 'MNXR94824'},\n",
       " '2PGt6pp': {'MNX_ID': 'MNXR94825'},\n",
       " 'MNXR94825': {'MNX_ID': 'MNXR94825'},\n",
       " '2PGtex': {'MNX_ID': 'MNXR94826'},\n",
       " 'MNXR94826': {'MNX_ID': 'MNXR94826'},\n",
       " '2PGth': {'MNX_ID': 'MNXR94826'},\n",
       " '2PGtm': {'MNX_ID': 'MNXR94826'},\n",
       " '2PHACTE': {'MNX_ID': 'MNXR94827'},\n",
       " 'MNXR94827': {'MNX_ID': 'MNXR94827'},\n",
       " '2PHETOHt': {'MNX_ID': 'MNXR94828'},\n",
       " 'MNXR94828': {'MNX_ID': 'MNXR94828'},\n",
       " '2PHETOHtm': {'MNX_ID': 'MNXR94828'},\n",
       " '2PLS': {'MNX_ID': 'MNXR94829'},\n",
       " 'MNXR94829': {'MNX_ID': 'MNXR94829'},\n",
       " '2S6HCCi': {'MNX_ID': 'MNXR94830'},\n",
       " 'MNXR94830': {'MNX_ID': 'MNXR94830'},\n",
       " '34DHALDD': {'MNX_ID': 'MNXR94831'},\n",
       " 'MNXR94831': {'MNX_ID': 'MNXR94831'},\n",
       " '34DHCINMtex': {'MNX_ID': 'MNXR94832'},\n",
       " 'MNXR94832': {'MNX_ID': 'MNXR94832'},\n",
       " '34DHCINMtpp': {'MNX_ID': 'MNXR94832'},\n",
       " '34DHOXPEGOX': {'MNX_ID': 'MNXR94833'},\n",
       " 'MNXR94833': {'MNX_ID': 'MNXR94833'},\n",
       " '34DHOXPEGt': {'MNX_ID': 'MNXR94834'},\n",
       " 'MNXR94834': {'MNX_ID': 'MNXR94834'},\n",
       " '34DHPACDO': {'MNX_ID': 'MNXR94835'},\n",
       " 'MNXR94835': {'MNX_ID': 'MNXR94835'},\n",
       " '34DHPHAMT': {'MNX_ID': 'MNXR94836'},\n",
       " 'MNXR94836': {'MNX_ID': 'MNXR94836'},\n",
       " '34DHPHELAT1tc': {'MNX_ID': 'MNXR94837'},\n",
       " 'MNXR94837': {'MNX_ID': 'MNXR94837'},\n",
       " '34DHPHEt': {'MNX_ID': 'MNXR94838'},\n",
       " 'MNXR94838': {'MNX_ID': 'MNXR94838'},\n",
       " '34DHPLACOX_NADP': {'MNX_ID': 'MNXR94839'},\n",
       " 'MNXR94839': {'MNX_ID': 'MNXR94839'},\n",
       " '34DHXMANDACOX': {'MNX_ID': 'MNXR94840'},\n",
       " 'MNXR94840': {'MNX_ID': 'MNXR94840'},\n",
       " '34DHXMANDACOX_NADP': {'MNX_ID': 'MNXR94841'},\n",
       " 'MNXR94841': {'MNX_ID': 'MNXR94841'},\n",
       " '34HPLFM': {'MNX_ID': 'MNXR94842'},\n",
       " 'MNXR94842': {'MNX_ID': 'MNXR94842'},\n",
       " '34HPPOR': {'MNX_ID': 'MNXR94843'},\n",
       " 'MNXR94843': {'MNX_ID': 'MNXR94843'},\n",
       " '34HPPYRI': {'MNX_ID': 'MNXR94844'},\n",
       " 'MNXR94844': {'MNX_ID': 'MNXR94844'},\n",
       " '34HPPt2m': {'MNX_ID': 'MNXR94845'},\n",
       " 'MNXR94845': {'MNX_ID': 'MNXR94845'},\n",
       " '34HPPt2p': {'MNX_ID': 'MNXR94845'},\n",
       " '34HPPte': {'MNX_ID': 'MNXR94846'},\n",
       " 'MNXR94846': {'MNX_ID': 'MNXR94846'},\n",
       " '34PHACTE': {'MNX_ID': 'MNXR94847'},\n",
       " 'MNXR94847': {'MNX_ID': 'MNXR94847'},\n",
       " '34dhpactex': {'MNX_ID': 'MNXR94848'},\n",
       " 'MNXR94848': {'MNX_ID': 'MNXR94848'},\n",
       " '35CGMPtn': {'MNX_ID': 'MNXR94849'},\n",
       " 'MNXR94849': {'MNX_ID': 'MNXR94849'},\n",
       " '35PHACTE': {'MNX_ID': 'MNXR94850'},\n",
       " 'MNXR94850': {'MNX_ID': 'MNXR94850'},\n",
       " '3AIBTm': {'MNX_ID': 'MNXR94851'},\n",
       " 'MNXR94851': {'MNX_ID': 'MNXR94851'},\n",
       " '3AIB_Dtm': {'MNX_ID': 'MNXR94852'},\n",
       " 'MNXR94852': {'MNX_ID': 'MNXR94852'},\n",
       " '3AIBt': {'MNX_ID': 'MNXR94853'},\n",
       " 'MNXR94853': {'MNX_ID': 'MNXR94853'},\n",
       " '3AIBtm': {'MNX_ID': 'MNXR94853'},\n",
       " '3AMACHYD': {'MNX_ID': 'MNXR94854'},\n",
       " 'MNXR94854': {'MNX_ID': 'MNXR94854'},\n",
       " '3AMBAt2': {'MNX_ID': 'MNXR94855'},\n",
       " 'MNXR94855': {'MNX_ID': 'MNXR94855'},\n",
       " '3AMPt6': {'MNX_ID': 'MNXR94856'},\n",
       " 'MNXR94856': {'MNX_ID': 'MNXR94856'},\n",
       " '3AMPtex': {'MNX_ID': 'MNXR94857'},\n",
       " 'MNXR94857': {'MNX_ID': 'MNXR94857'},\n",
       " '3C3HMPt': {'MNX_ID': 'MNXR94858'},\n",
       " 'MNXR94858': {'MNX_ID': 'MNXR94858'},\n",
       " '3C3HMPth': {'MNX_ID': 'MNXR94858'},\n",
       " '3C3HMPtm': {'MNX_ID': 'MNXR94858'},\n",
       " '3C4MOPtm': {'MNX_ID': 'MNXR94859'},\n",
       " 'MNXR94859': {'MNX_ID': 'MNXR94859'},\n",
       " '3CMPt6': {'MNX_ID': 'MNXR94860'},\n",
       " 'MNXR94860': {'MNX_ID': 'MNXR94860'},\n",
       " '3CMPtex': {'MNX_ID': 'MNXR94861'},\n",
       " 'MNXR94861': {'MNX_ID': 'MNXR94861'},\n",
       " '3DH5HPBMTm': {'MNX_ID': 'MNXR94862'},\n",
       " 'MNXR94862': {'MNX_ID': 'MNXR94862'},\n",
       " '3DH5HPBtm': {'MNX_ID': 'MNXR94863'},\n",
       " 'MNXR94863': {'MNX_ID': 'MNXR94863'},\n",
       " '3DPHBH1': {'MNX_ID': 'MNXR94864'},\n",
       " 'MNXR94864': {'MNX_ID': 'MNXR94864'},\n",
       " '3DPHBH2': {'MNX_ID': 'MNXR94865'},\n",
       " 'MNXR94865': {'MNX_ID': 'MNXR94865'},\n",
       " '3DSPHR': {'MNX_ID': 'MNXR94866'},\n",
       " 'MNXR94866': {'MNX_ID': 'MNXR94866'},\n",
       " '3GMPt6': {'MNX_ID': 'MNXR94867'},\n",
       " 'MNXR94867': {'MNX_ID': 'MNXR94867'},\n",
       " '3GMPtex': {'MNX_ID': 'MNXR94868'},\n",
       " 'MNXR94868': {'MNX_ID': 'MNXR94868'},\n",
       " '3HAACOAT100': {'MNX_ID': 'MNXR94869'},\n",
       " 'MNXR94869': {'MNX_ID': 'MNXR94869'},\n",
       " '3HAACOAT120': {'MNX_ID': 'MNXR94870'},\n",
       " 'MNXR94870': {'MNX_ID': 'MNXR94870'},\n",
       " '3HAACOAT121': {'MNX_ID': 'MNXR94871'},\n",
       " 'MNXR94871': {'MNX_ID': 'MNXR94871'},\n",
       " '3HAACOAT140': {'MNX_ID': 'MNXR94872'},\n",
       " 'MNXR94872': {'MNX_ID': 'MNXR94872'},\n",
       " '3HAACOAT141': {'MNX_ID': 'MNXR94873'},\n",
       " 'MNXR94873': {'MNX_ID': 'MNXR94873'},\n",
       " '3HAACOAT60': {'MNX_ID': 'MNXR94874'},\n",
       " 'MNXR94874': {'MNX_ID': 'MNXR94874'},\n",
       " '3HAACOAT80': {'MNX_ID': 'MNXR94875'},\n",
       " 'MNXR94875': {'MNX_ID': 'MNXR94875'},\n",
       " '3HAD100': {'MNX_ID': 'MNXR94876'},\n",
       " 'MNXR94876': {'MNX_ID': 'MNXR94876'},\n",
       " '3HAD100_1': {'MNX_ID': 'MNXR94876'},\n",
       " '3HAD120': {'MNX_ID': 'MNXR94877'},\n",
       " 'MNXR94877': {'MNX_ID': 'MNXR94877'},\n",
       " '3HAD120_1': {'MNX_ID': 'MNXR94877'},\n",
       " '3HAD121': {'MNX_ID': 'MNXR94878'},\n",
       " 'MNXR94878': {'MNX_ID': 'MNXR94878'},\n",
       " '3HAD140': {'MNX_ID': 'MNXR94879'},\n",
       " 'MNXR94879': {'MNX_ID': 'MNXR94879'},\n",
       " '3HAD140_1': {'MNX_ID': 'MNXR94879'},\n",
       " '3HAD141': {'MNX_ID': 'MNXR94880'},\n",
       " 'MNXR94880': {'MNX_ID': 'MNXR94880'},\n",
       " '3HAD160': {'MNX_ID': 'MNXR94881'},\n",
       " 'MNXR94881': {'MNX_ID': 'MNXR94881'},\n",
       " '3HAD160_1': {'MNX_ID': 'MNXR94881'},\n",
       " '3HAD161': {'MNX_ID': 'MNXR94882'},\n",
       " 'MNXR94882': {'MNX_ID': 'MNXR94882'},\n",
       " '3HAD180': {'MNX_ID': 'MNXR94883'},\n",
       " 'MNXR94883': {'MNX_ID': 'MNXR94883'},\n",
       " '3HAD180_1': {'MNX_ID': 'MNXR94883'},\n",
       " '3HAD181': {'MNX_ID': 'MNXR94884'},\n",
       " 'MNXR94884': {'MNX_ID': 'MNXR94884'},\n",
       " '3HAD181_1': {'MNX_ID': 'MNXR94884'},\n",
       " '3HAD40': {'MNX_ID': 'MNXR94885'},\n",
       " 'MNXR94885': {'MNX_ID': 'MNXR94885'},\n",
       " '3HAD40_1': {'MNX_ID': 'MNXR94886'},\n",
       " 'MNXR94886': {'MNX_ID': 'MNXR94886'},\n",
       " '3HAD60': {'MNX_ID': 'MNXR94887'},\n",
       " 'MNXR94887': {'MNX_ID': 'MNXR94887'},\n",
       " '3HAD60_1': {'MNX_ID': 'MNXR94887'},\n",
       " '3HAD80': {'MNX_ID': 'MNXR94888'},\n",
       " 'MNXR94888': {'MNX_ID': 'MNXR94888'},\n",
       " '3HAD80_1': {'MNX_ID': 'MNXR94888'},\n",
       " '3HAO': {'MNX_ID': 'MNXR94889'},\n",
       " 'MNXR94889': {'MNX_ID': 'MNXR94889'},\n",
       " '3HBCDm': {'MNX_ID': 'MNXR94890'},\n",
       " 'MNXR94890': {'MNX_ID': 'MNXR94890'},\n",
       " '3HBCOAHL': {'MNX_ID': 'MNXR94891'},\n",
       " 'MNXR94891': {'MNX_ID': 'MNXR94891'},\n",
       " '3HBCOAHLm': {'MNX_ID': 'MNXR94891'},\n",
       " '3HBCOARc': {'MNX_ID': 'MNXR94892'},\n",
       " 'MNXR94892': {'MNX_ID': 'MNXR94892'},\n",
       " '3HCINNMH': {'MNX_ID': 'MNXR94893'},\n",
       " 'MNXR94893': {'MNX_ID': 'MNXR94893'},\n",
       " '3HCO3_NAt': {'MNX_ID': 'MNXR94894'},\n",
       " 'MNXR94894': {'MNX_ID': 'MNXR94894'},\n",
       " '3HKYNAKGAT': {'MNX_ID': 'MNXR94895'},\n",
       " 'MNXR94895': {'MNX_ID': 'MNXR94895'},\n",
       " '3HKYNAKGATm': {'MNX_ID': 'MNXR94895'},\n",
       " '3HLYTCL': {'MNX_ID': 'MNXR94896'},\n",
       " 'MNXR94896': {'MNX_ID': 'MNXR94896'},\n",
       " '3HOPCD': {'MNX_ID': 'MNXR94897'},\n",
       " 'MNXR94897': {'MNX_ID': 'MNXR94897'},\n",
       " '3HOXPACt2pp': {'MNX_ID': 'MNXR94898'},\n",
       " 'MNXR94898': {'MNX_ID': 'MNXR94898'},\n",
       " '3HPAOX': {'MNX_ID': 'MNXR94899'},\n",
       " 'MNXR94899': {'MNX_ID': 'MNXR94899'},\n",
       " '3HPCOAHYD': {'MNX_ID': 'MNXR94900'},\n",
       " 'MNXR94900': {'MNX_ID': 'MNXR94900'},\n",
       " '3HPH5MBDCm': {'MNX_ID': 'MNXR94901'},\n",
       " 'MNXR94901': {'MNX_ID': 'MNXR94901'},\n",
       " '3HPPD': {'MNX_ID': 'MNXR94902'},\n",
       " 'MNXR94902': {'MNX_ID': 'MNXR94902'},\n",
       " '3HPPPNH': {'MNX_ID': 'MNXR94903'},\n",
       " 'MNXR94903': {'MNX_ID': 'MNXR94903'},\n",
       " '3HPPtex': {'MNX_ID': 'MNXR94904'},\n",
       " 'MNXR94904': {'MNX_ID': 'MNXR94904'},\n",
       " '3HPPtpp': {'MNX_ID': 'MNXR94905'},\n",
       " 'MNXR94905': {'MNX_ID': 'MNXR94905'},\n",
       " '3HXKYNDCL': {'MNX_ID': 'MNXR94906'},\n",
       " 'MNXR94906': {'MNX_ID': 'MNXR94906'},\n",
       " '3HXKYNOXDA': {'MNX_ID': 'MNXR94907'},\n",
       " 'MNXR94907': {'MNX_ID': 'MNXR94907'},\n",
       " '3IPM3MT': {'MNX_ID': 'MNXR94908'},\n",
       " 'MNXR94908': {'MNX_ID': 'MNXR94908'},\n",
       " '3KGK': {'MNX_ID': 'MNXR94909'},\n",
       " 'MNXR94909': {'MNX_ID': 'MNXR94909'},\n",
       " '3M2OBLOXRD': {'MNX_ID': 'MNXR94910'},\n",
       " 'MNXR94910': {'MNX_ID': 'MNXR94910'},\n",
       " '3M2OPLOXRD': {'MNX_ID': 'MNXR94911'},\n",
       " 'MNXR94911': {'MNX_ID': 'MNXR94911'},\n",
       " '3M4HDXPAC': {'MNX_ID': 'MNXR94912'},\n",
       " 'MNXR94912': {'MNX_ID': 'MNXR94912'},\n",
       " '3MBALDt': {'MNX_ID': 'MNXR94913'},\n",
       " 'MNXR94913': {'MNX_ID': 'MNXR94913'},\n",
       " '3MBALDtm': {'MNX_ID': 'MNXR94913'},\n",
       " '3MBZALDH': {'MNX_ID': 'MNXR94914'},\n",
       " 'MNXR94914': {'MNX_ID': 'MNXR94914'},\n",
       " '3MBZDH': {'MNX_ID': 'MNXR94915'},\n",
       " 'MNXR94915': {'MNX_ID': 'MNXR94915'},\n",
       " '3MBt2pp': {'MNX_ID': 'MNXR94916'},\n",
       " 'MNXR94916': {'MNX_ID': 'MNXR94916'},\n",
       " '3MBt4pp': {'MNX_ID': 'MNXR94917'},\n",
       " 'MNXR94917': {'MNX_ID': 'MNXR94917'},\n",
       " '3MBtex': {'MNX_ID': 'MNXR94918'},\n",
       " 'MNXR94918': {'MNX_ID': 'MNXR94918'},\n",
       " '3MCAT23DOX': {'MNX_ID': 'MNXR94919'},\n",
       " 'MNXR94919': {'MNX_ID': 'MNXR94919'},\n",
       " '3MLDAt': {'MNX_ID': 'MNXR94920'},\n",
       " 'MNXR94920': {'MNX_ID': 'MNXR94920'},\n",
       " '3MMD': {'MNX_ID': 'MNXR94921'},\n",
       " 'MNXR94921': {'MNX_ID': 'MNXR94921'},\n",
       " '3MOBDC': {'MNX_ID': 'MNXR94922'},\n",
       " 'MNXR94922': {'MNX_ID': 'MNXR94922'},\n",
       " '3MOBt2im': {'MNX_ID': 'MNXR94923'},\n",
       " 'MNXR94923': {'MNX_ID': 'MNXR94923'},\n",
       " '3MOBte': {'MNX_ID': 'MNXR94924'},\n",
       " 'MNXR94924': {'MNX_ID': 'MNXR94924'},\n",
       " '3MOBth': {'MNX_ID': 'MNXR94924'},\n",
       " '3MOBtm': {'MNX_ID': 'MNXR94924'},\n",
       " '3MOPDC': {'MNX_ID': 'MNXR94925'},\n",
       " 'MNXR94925': {'MNX_ID': 'MNXR94925'},\n",
       " '3MOPt': {'MNX_ID': 'MNXR94926'},\n",
       " 'MNXR94926': {'MNX_ID': 'MNXR94926'},\n",
       " '3MOPt2im': {'MNX_ID': 'MNXR94927'},\n",
       " 'MNXR94927': {'MNX_ID': 'MNXR94927'},\n",
       " '3MOPtm': {'MNX_ID': 'MNXR94926'},\n",
       " '3MOX4HOXPGALDOX': {'MNX_ID': 'MNXR94928'},\n",
       " 'MNXR94928': {'MNX_ID': 'MNXR94928'},\n",
       " '3MOX4HOXPGALDOX_NADP': {'MNX_ID': 'MNXR94929'},\n",
       " 'MNXR94929': {'MNX_ID': 'MNXR94929'},\n",
       " '3MOXTYRESSte': {'MNX_ID': 'MNXR94930'},\n",
       " 'MNXR94930': {'MNX_ID': 'MNXR94930'},\n",
       " '3MOXTYROX': {'MNX_ID': 'MNXR94931'},\n",
       " 'MNXR94931': {'MNX_ID': 'MNXR94931'},\n",
       " '3NTD2pp': {'MNX_ID': 'MNXR94932'},\n",
       " 'MNXR94932': {'MNX_ID': 'MNXR94932'},\n",
       " '3NTD2pp_1': {'MNX_ID': 'MNXR94933'},\n",
       " 'MNXR94933': {'MNX_ID': 'MNXR94933'},\n",
       " '3NTD4pp': {'MNX_ID': 'MNXR94934'},\n",
       " 'MNXR94934': {'MNX_ID': 'MNXR94934'},\n",
       " '3NTD7l': {'MNX_ID': 'MNXR94935'},\n",
       " 'MNXR94935': {'MNX_ID': 'MNXR94935'},\n",
       " '3NTD7pp': {'MNX_ID': 'MNXR94935'},\n",
       " '3NTD9pp': {'MNX_ID': 'MNXR94936'},\n",
       " 'MNXR94936': {'MNX_ID': 'MNXR94936'},\n",
       " '3NTYROXDApp': {'MNX_ID': 'MNXR94937'},\n",
       " 'MNXR94937': {'MNX_ID': 'MNXR94937'},\n",
       " '3NUCLE1': {'MNX_ID': 'MNXR94935'},\n",
       " '3NUCLE2': {'MNX_ID': 'MNXR94932'},\n",
       " '3NUCLE3': {'MNX_ID': 'MNXR94934'},\n",
       " '3NUCLE4': {'MNX_ID': 'MNXR94936'},\n",
       " '3OACOAR': {'MNX_ID': 'MNXR94938'},\n",
       " 'MNXR94938': {'MNX_ID': 'MNXR94938'},\n",
       " '3OACOAS': {'MNX_ID': 'MNXR94939'},\n",
       " 'MNXR94939': {'MNX_ID': 'MNXR94939'},\n",
       " '3OADPCOAT': {'MNX_ID': 'MNXR94940'},\n",
       " 'MNXR94940': {'MNX_ID': 'MNXR94940'},\n",
       " '3OAR100': {'MNX_ID': 'MNXR94941'},\n",
       " 'MNXR94941': {'MNX_ID': 'MNXR94941'},\n",
       " '3OAR100_1': {'MNX_ID': 'MNXR94941'},\n",
       " '3OAR120': {'MNX_ID': 'MNXR94942'},\n",
       " 'MNXR94942': {'MNX_ID': 'MNXR94942'},\n",
       " '3OAR120_1': {'MNX_ID': 'MNXR94942'},\n",
       " '3OAR121': {'MNX_ID': 'MNXR94943'},\n",
       " 'MNXR94943': {'MNX_ID': 'MNXR94943'},\n",
       " '3OAR140': {'MNX_ID': 'MNXR94944'},\n",
       " 'MNXR94944': {'MNX_ID': 'MNXR94944'},\n",
       " '3OAR140_1': {'MNX_ID': 'MNXR94944'},\n",
       " '3OAR141': {'MNX_ID': 'MNXR94945'},\n",
       " 'MNXR94945': {'MNX_ID': 'MNXR94945'},\n",
       " '3OAR160': {'MNX_ID': 'MNXR94946'},\n",
       " 'MNXR94946': {'MNX_ID': 'MNXR94946'},\n",
       " '3OAR160_1': {'MNX_ID': 'MNXR94946'},\n",
       " '3OAR161': {'MNX_ID': 'MNXR94947'},\n",
       " 'MNXR94947': {'MNX_ID': 'MNXR94947'},\n",
       " '3OAR180': {'MNX_ID': 'MNXR94948'},\n",
       " 'MNXR94948': {'MNX_ID': 'MNXR94948'},\n",
       " '3OAR180_1': {'MNX_ID': 'MNXR94948'},\n",
       " '3OAR181': {'MNX_ID': 'MNXR94949'},\n",
       " 'MNXR94949': {'MNX_ID': 'MNXR94949'},\n",
       " '3OAR181_1': {'MNX_ID': 'MNXR94949'},\n",
       " '3OAR40': {'MNX_ID': 'MNXR94950'},\n",
       " 'MNXR94950': {'MNX_ID': 'MNXR94950'},\n",
       " '3OAR40_1': {'MNX_ID': 'MNXR94951'},\n",
       " 'MNXR94951': {'MNX_ID': 'MNXR94951'},\n",
       " '3OAR60': {'MNX_ID': 'MNXR94952'},\n",
       " 'MNXR94952': {'MNX_ID': 'MNXR94952'},\n",
       " '3OAR60_1': {'MNX_ID': 'MNXR94952'},\n",
       " '3OAR80': {'MNX_ID': 'MNXR94953'},\n",
       " 'MNXR94953': {'MNX_ID': 'MNXR94953'},\n",
       " '3OAR80_1': {'MNX_ID': 'MNXR94953'},\n",
       " '3OAS100': {'MNX_ID': 'MNXR94954'},\n",
       " 'MNXR94954': {'MNX_ID': 'MNXR94954'},\n",
       " '3OAS100_1': {'MNX_ID': 'MNXR94954'},\n",
       " '3OAS120': {'MNX_ID': 'MNXR94955'},\n",
       " 'MNXR94955': {'MNX_ID': 'MNXR94955'},\n",
       " '3OAS120_1': {'MNX_ID': 'MNXR94955'},\n",
       " '3OAS121': {'MNX_ID': 'MNXR94956'},\n",
       " 'MNXR94956': {'MNX_ID': 'MNXR94956'},\n",
       " '3OAS140': {'MNX_ID': 'MNXR94957'},\n",
       " 'MNXR94957': {'MNX_ID': 'MNXR94957'},\n",
       " '3OAS140_1': {'MNX_ID': 'MNXR94957'},\n",
       " '3OAS141': {'MNX_ID': 'MNXR94958'},\n",
       " 'MNXR94958': {'MNX_ID': 'MNXR94958'},\n",
       " '3OAS160': {'MNX_ID': 'MNXR94959'},\n",
       " 'MNXR94959': {'MNX_ID': 'MNXR94959'},\n",
       " '3OAS160_1': {'MNX_ID': 'MNXR94959'},\n",
       " '3OAS161': {'MNX_ID': 'MNXR94960'},\n",
       " 'MNXR94960': {'MNX_ID': 'MNXR94960'},\n",
       " '3OAS180': {'MNX_ID': 'MNXR94961'},\n",
       " 'MNXR94961': {'MNX_ID': 'MNXR94961'},\n",
       " '3OAS180_1': {'MNX_ID': 'MNXR94961'},\n",
       " '3OAS181': {'MNX_ID': 'MNXR94962'},\n",
       " 'MNXR94962': {'MNX_ID': 'MNXR94962'},\n",
       " '3OAS181_1': {'MNX_ID': 'MNXR94962'},\n",
       " '3OAS60': {'MNX_ID': 'MNXR94963'},\n",
       " 'MNXR94963': {'MNX_ID': 'MNXR94963'},\n",
       " '3OAS60_1': {'MNX_ID': 'MNXR94963'},\n",
       " '3OAS80': {'MNX_ID': 'MNXR94964'},\n",
       " 'MNXR94964': {'MNX_ID': 'MNXR94964'},\n",
       " '3OAS80_1': {'MNX_ID': 'MNXR94964'},\n",
       " '3OPHB5Hm': {'MNX_ID': 'MNXR94965'},\n",
       " 'MNXR94965': {'MNX_ID': 'MNXR94965'},\n",
       " '3OPHB_5tm': {'MNX_ID': 'MNXR94966'},\n",
       " 'MNXR94966': {'MNX_ID': 'MNXR94966'},\n",
       " '3OXCOAT': {'MNX_ID': 'MNXR94967'},\n",
       " 'MNXR94967': {'MNX_ID': 'MNXR94967'},\n",
       " '3OXOADPt_ex': {'MNX_ID': 'MNXR94968'},\n",
       " 'MNXR94968': {'MNX_ID': 'MNXR94968'},\n",
       " '3OXOADPt_pp': {'MNX_ID': 'MNXR94969'},\n",
       " 'MNXR94969': {'MNX_ID': 'MNXR94969'},\n",
       " '3PEPTabcpp': {'MNX_ID': 'MNXR94970'},\n",
       " 'MNXR94970': {'MNX_ID': 'MNXR94970'},\n",
       " '3PEPTtex': {'MNX_ID': 'MNXR94971'},\n",
       " 'MNXR94971': {'MNX_ID': 'MNXR94971'},\n",
       " '3PG_pi_thr': {'MNX_ID': 'MNXR94972'},\n",
       " 'MNXR94972': {'MNX_ID': 'MNXR94972'},\n",
       " '3PGt6': {'MNX_ID': 'MNXR94973'},\n",
       " 'MNXR94973': {'MNX_ID': 'MNXR94973'},\n",
       " '3PGt6pp': {'MNX_ID': 'MNXR94972'},\n",
       " '3PGtex': {'MNX_ID': 'MNXR94974'},\n",
       " 'MNXR94974': {'MNX_ID': 'MNXR94974'},\n",
       " '3PGtx': {'MNX_ID': 'MNXR94974'},\n",
       " '3PHACOAOR': {'MNX_ID': 'MNXR94975'},\n",
       " 'MNXR94975': {'MNX_ID': 'MNXR94975'},\n",
       " '3PHACTE': {'MNX_ID': 'MNXR94976'},\n",
       " 'MNXR94976': {'MNX_ID': 'MNXR94976'},\n",
       " '3SALAASPm': {'MNX_ID': 'MNXR94977'},\n",
       " 'MNXR94977': {'MNX_ID': 'MNXR94977'},\n",
       " '3SALACBOXL': {'MNX_ID': 'MNXR94978'},\n",
       " 'MNXR94978': {'MNX_ID': 'MNXR94978'},\n",
       " '3SALACBOXL_cho': {'MNX_ID': 'MNXR94978'},\n",
       " '3SALAOX': {'MNX_ID': 'MNXR94979'},\n",
       " 'MNXR94979': {'MNX_ID': 'MNXR94979'},\n",
       " '3SALATAi': {'MNX_ID': 'MNXR94980'},\n",
       " 'MNXR94980': {'MNX_ID': 'MNXR94980'},\n",
       " '3SALATAim': {'MNX_ID': 'MNXR94980'},\n",
       " '3SPYRSP': {'MNX_ID': 'MNXR94981'},\n",
       " 'MNXR94981': {'MNX_ID': 'MNXR94981'},\n",
       " '3SPYRSPh': {'MNX_ID': 'MNXR94981'},\n",
       " '3SPYRSPm': {'MNX_ID': 'MNXR94981'},\n",
       " '3SPYRSPm_1': {'MNX_ID': 'MNXR94981'},\n",
       " '3UMPt6': {'MNX_ID': 'MNXR94982'},\n",
       " 'MNXR94982': {'MNX_ID': 'MNXR94982'},\n",
       " '3UMPtex': {'MNX_ID': 'MNXR94983'},\n",
       " 'MNXR94983': {'MNX_ID': 'MNXR94983'},\n",
       " '3_4DHBZ1t_pp': {'MNX_ID': 'MNXR94984'},\n",
       " 'MNXR94984': {'MNX_ID': 'MNXR94984'},\n",
       " '3_4DHBZt2': {'MNX_ID': 'MNXR94985'},\n",
       " 'MNXR94985': {'MNX_ID': 'MNXR94985'},\n",
       " '3hoxpactex': {'MNX_ID': 'MNXR94986'},\n",
       " 'MNXR94986': {'MNX_ID': 'MNXR94986'},\n",
       " '41R1H2MAE12BOOX': {'MNX_ID': 'MNXR94987'},\n",
       " 'MNXR94987': {'MNX_ID': 'MNXR94987'},\n",
       " '41R2A1H12BOOX': {'MNX_ID': 'MNXR94988'},\n",
       " 'MNXR94988': {'MNX_ID': 'MNXR94988'},\n",
       " '42A12BOOX': {'MNX_ID': 'MNXR94989'},\n",
       " 'MNXR94989': {'MNX_ID': 'MNXR94989'},\n",
       " '42A12BOOXpp': {'MNX_ID': 'MNXR94989'},\n",
       " '44MZYMMO': {'MNX_ID': 'MNXR94990'},\n",
       " 'MNXR94990': {'MNX_ID': 'MNXR94990'},\n",
       " '4ABUTD': {'MNX_ID': 'MNXR94991'},\n",
       " 'MNXR94991': {'MNX_ID': 'MNXR94991'},\n",
       " '4ABUTNtm': {'MNX_ID': 'MNXR94992'},\n",
       " 'MNXR94992': {'MNX_ID': 'MNXR94992'},\n",
       " '4ABUTtcn': {'MNX_ID': 'MNXR94993'},\n",
       " 'MNXR94993': {'MNX_ID': 'MNXR94993'},\n",
       " '4ABUTth': {'MNX_ID': 'MNXR94993'},\n",
       " '4ABUTthi': {'MNX_ID': 'MNXR94994'},\n",
       " 'MNXR94994': {'MNX_ID': 'MNXR94994'},\n",
       " '4ABUTtm': {'MNX_ID': 'MNXR94993'},\n",
       " '4ABUTtmi': {'MNX_ID': 'MNXR94994'},\n",
       " '4ABZt': {'MNX_ID': 'MNXR94995'},\n",
       " 'MNXR94995': {'MNX_ID': 'MNXR94995'},\n",
       " '4ABZt2r': {'MNX_ID': 'MNXR94996'},\n",
       " 'MNXR94996': {'MNX_ID': 'MNXR94996'},\n",
       " '4ABZtm': {'MNX_ID': 'MNXR94995'},\n",
       " '4C2HM6SADH': {'MNX_ID': 'MNXR94997'},\n",
       " 'MNXR94997': {'MNX_ID': 'MNXR94997'},\n",
       " '4CMCOAS': {'MNX_ID': 'MNXR94998'},\n",
       " 'MNXR94998': {'MNX_ID': 'MNXR94998'},\n",
       " '4CMLCL_kt': {'MNX_ID': 'MNXR94999'},\n",
       " 'MNXR94999': {'MNX_ID': 'MNXR94999'},\n",
       " '4H2KPILY': {'MNX_ID': 'MNXR95000'},\n",
       " 'MNXR95000': {'MNX_ID': 'MNXR95000'},\n",
       " '4H2OGLTtm': {'MNX_ID': 'MNXR95001'},\n",
       " 'MNXR95001': {'MNX_ID': 'MNXR95001'},\n",
       " '4H2OGLTtp': {'MNX_ID': 'MNXR95001'},\n",
       " '4H3NALDD': {'MNX_ID': 'MNXR95002'},\n",
       " 'MNXR95002': {'MNX_ID': 'MNXR95002'},\n",
       " '4H3NPACAM': {'MNX_ID': 'MNXR95003'},\n",
       " 'MNXR95003': {'MNX_ID': 'MNXR95003'},\n",
       " '4HALDD': {'MNX_ID': 'MNXR95004'},\n",
       " 'MNXR95004': {'MNX_ID': 'MNXR95004'},\n",
       " '4HBALDt2pp': {'MNX_ID': 'MNXR95005'},\n",
       " 'MNXR95005': {'MNX_ID': 'MNXR95005'},\n",
       " '4HBALDtex': {'MNX_ID': 'MNXR95006'},\n",
       " 'MNXR95006': {'MNX_ID': 'MNXR95006'},\n",
       " '4HBAtex': {'MNX_ID': 'MNXR95007'},\n",
       " 'MNXR95007': {'MNX_ID': 'MNXR95007'},\n",
       " '4HBCOAH': {'MNX_ID': 'MNXR95008'},\n",
       " 'MNXR95008': {'MNX_ID': 'MNXR95008'},\n",
       " '4HBHYOX': {'MNX_ID': 'MNXR95009'},\n",
       " 'MNXR95009': {'MNX_ID': 'MNXR95009'},\n",
       " '4HBZCOAFm': {'MNX_ID': 'MNXR95010'},\n",
       " 'MNXR95010': {'MNX_ID': 'MNXR95010'},\n",
       " '4HBZFm': {'MNX_ID': 'MNXR95011'},\n",
       " 'MNXR95011': {'MNX_ID': 'MNXR95011'},\n",
       " '4HBZR': {'MNX_ID': 'MNXR95012'},\n",
       " 'MNXR95012': {'MNX_ID': 'MNXR95012'},\n",
       " '4HBZtex': {'MNX_ID': 'MNXR95013'},\n",
       " 'MNXR95013': {'MNX_ID': 'MNXR95013'},\n",
       " '4HBZtm': {'MNX_ID': 'MNXR95013'},\n",
       " '4HDEBRISOQUINEte': {'MNX_ID': 'MNXR95014'},\n",
       " 'MNXR95014': {'MNX_ID': 'MNXR95014'},\n",
       " '4HGLSD': {'MNX_ID': 'MNXR95015'},\n",
       " 'MNXR95015': {'MNX_ID': 'MNXR95015'},\n",
       " '4HGLSDm': {'MNX_ID': 'MNXR95015'},\n",
       " '4HOXPACDOX_NADP': {'MNX_ID': 'MNXR95016'},\n",
       " 'MNXR95016': {'MNX_ID': 'MNXR95016'},\n",
       " '4HOXPACDtex': {'MNX_ID': 'MNXR95017'},\n",
       " 'MNXR95017': {'MNX_ID': 'MNXR95017'},\n",
       " '4HOXPACMOF': {'MNX_ID': 'MNXR95018'},\n",
       " 'MNXR95018': {'MNX_ID': 'MNXR95018'},\n",
       " '4HOXPACMOF_1': {'MNX_ID': 'MNXR95018'},\n",
       " '4HOXPACMON': {'MNX_ID': 'MNXR95019'},\n",
       " 'MNXR95019': {'MNX_ID': 'MNXR95019'},\n",
       " '4HOXPACt2pp': {'MNX_ID': 'MNXR95020'},\n",
       " 'MNXR95020': {'MNX_ID': 'MNXR95020'},\n",
       " '4HOXPACt2pp_1': {'MNX_ID': 'MNXR95020'},\n",
       " '4HPROLTASCT1': {'MNX_ID': 'MNXR95021'},\n",
       " 'MNXR95021': {'MNX_ID': 'MNXR95021'},\n",
       " '4HPRO_LTte': {'MNX_ID': 'MNXR95022'},\n",
       " 'MNXR95022': {'MNX_ID': 'MNXR95022'},\n",
       " '4HPRO_LTtm': {'MNX_ID': 'MNXR95022'},\n",
       " '4HPROtg': {'MNX_ID': 'MNXR95022'},\n",
       " '4HTHRK': {'MNX_ID': 'MNXR95023'},\n",
       " 'MNXR95023': {'MNX_ID': 'MNXR95023'},\n",
       " '4HTHRS': {'MNX_ID': 'MNXR95024'},\n",
       " 'MNXR95024': {'MNX_ID': 'MNXR95024'},\n",
       " '4HTHRtex': {'MNX_ID': 'MNXR95025'},\n",
       " 'MNXR95025': {'MNX_ID': 'MNXR95025'},\n",
       " '4HTHRtrpp': {'MNX_ID': 'MNXR95026'},\n",
       " 'MNXR95026': {'MNX_ID': 'MNXR95026'},\n",
       " '4IZ5PPH': {'MNX_ID': 'MNXR95027'},\n",
       " 'MNXR95027': {'MNX_ID': 'MNXR95027'},\n",
       " '4KFBPP': {'MNX_ID': 'MNXR95028'},\n",
       " 'MNXR95028': {'MNX_ID': 'MNXR95028'},\n",
       " '4M2OPLOXRD': {'MNX_ID': 'MNXR95029'},\n",
       " 'MNXR95029': {'MNX_ID': 'MNXR95029'},\n",
       " '4MBZALDH': {'MNX_ID': 'MNXR95030'},\n",
       " 'MNXR95030': {'MNX_ID': 'MNXR95030'},\n",
       " '4MBZDH': {'MNX_ID': 'MNXR95031'},\n",
       " 'MNXR95031': {'MNX_ID': 'MNXR95031'},\n",
       " '4MCAT23DOX': {'MNX_ID': 'MNXR95032'},\n",
       " 'MNXR95032': {'MNX_ID': 'MNXR95032'},\n",
       " '4MOPDC': {'MNX_ID': 'MNXR95033'},\n",
       " 'MNXR95033': {'MNX_ID': 'MNXR95033'},\n",
       " '4MOPt2im': {'MNX_ID': 'MNXR95034'},\n",
       " 'MNXR95034': {'MNX_ID': 'MNXR95034'},\n",
       " '4MOPte': {'MNX_ID': 'MNXR95035'},\n",
       " 'MNXR95035': {'MNX_ID': 'MNXR95035'},\n",
       " '4MOPtm': {'MNX_ID': 'MNXR95035'},\n",
       " '4MPTNLte': {'MNX_ID': 'MNXR95036'},\n",
       " 'MNXR95036': {'MNX_ID': 'MNXR95036'},\n",
       " '4MPTNLtm': {'MNX_ID': 'MNXR95036'},\n",
       " '4MPTNLtr': {'MNX_ID': 'MNXR95036'},\n",
       " '4MTOLBUTAMIDEte': {'MNX_ID': 'MNXR95037'},\n",
       " 'MNXR95037': {'MNX_ID': 'MNXR95037'},\n",
       " '4MZYMCODH': {'MNX_ID': 'MNXR95038'},\n",
       " 'MNXR95038': {'MNX_ID': 'MNXR95038'},\n",
       " '4MZYMDM': {'MNX_ID': 'MNXR95039'},\n",
       " 'MNXR95039': {'MNX_ID': 'MNXR95039'},\n",
       " '4MZYMR': {'MNX_ID': 'MNXR95040'},\n",
       " 'MNXR95040': {'MNX_ID': 'MNXR95040'},\n",
       " '4NPHSFte': {'MNX_ID': 'MNXR95041'},\n",
       " 'MNXR95041': {'MNX_ID': 'MNXR95041'},\n",
       " '4NPHSULT': {'MNX_ID': 'MNXR95042'},\n",
       " 'MNXR95042': {'MNX_ID': 'MNXR95042'},\n",
       " '4NPHte': {'MNX_ID': 'MNXR95043'},\n",
       " 'MNXR95043': {'MNX_ID': 'MNXR95043'},\n",
       " '4OD': {'MNX_ID': 'MNXR95044'},\n",
       " 'MNXR95044': {'MNX_ID': 'MNXR95044'},\n",
       " '4OD2': {'MNX_ID': 'MNXR95045'},\n",
       " 'MNXR95045': {'MNX_ID': 'MNXR95045'},\n",
       " '4OHPROIMINOtc': {'MNX_ID': 'MNXR95046'},\n",
       " 'MNXR95046': {'MNX_ID': 'MNXR95046'},\n",
       " '4OT': {'MNX_ID': 'MNXR95047'},\n",
       " 'MNXR95047': {'MNX_ID': 'MNXR95047'},\n",
       " '4OT2': {'MNX_ID': 'MNXR95048'},\n",
       " 'MNXR95048': {'MNX_ID': 'MNXR95048'},\n",
       " '4PCP': {'MNX_ID': 'MNXR95049'},\n",
       " 'MNXR95049': {'MNX_ID': 'MNXR95049'},\n",
       " '4PCPpp': {'MNX_ID': 'MNXR95049'},\n",
       " '4PEPTabcpp': {'MNX_ID': 'MNXR95050'},\n",
       " 'MNXR95050': {'MNX_ID': 'MNXR95050'},\n",
       " '4PEPTtex': {'MNX_ID': 'MNXR95051'},\n",
       " 'MNXR95051': {'MNX_ID': 'MNXR95051'},\n",
       " '4PHACTE': {'MNX_ID': 'MNXR95052'},\n",
       " 'MNXR95052': {'MNX_ID': 'MNXR95052'},\n",
       " '4PYRDX': {'MNX_ID': 'MNXR95053'},\n",
       " 'MNXR95053': {'MNX_ID': 'MNXR95053'},\n",
       " '4hoxpactex': {'MNX_ID': 'MNXR95054'},\n",
       " 'MNXR95054': {'MNX_ID': 'MNXR95054'},\n",
       " '56DH5FLURAAMH': {'MNX_ID': 'MNXR95055'},\n",
       " 'MNXR95055': {'MNX_ID': 'MNXR95055'},\n",
       " '5ADTSTSTERONEGLCte': {'MNX_ID': 'MNXR95056'},\n",
       " 'MNXR95056': {'MNX_ID': 'MNXR95056'},\n",
       " '5ADTSTSTERONEGLCtr': {'MNX_ID': 'MNXR95057'},\n",
       " 'MNXR95057': {'MNX_ID': 'MNXR95057'},\n",
       " '5ADTSTSTERONESULT': {'MNX_ID': 'MNXR95058'},\n",
       " 'MNXR95058': {'MNX_ID': 'MNXR95058'},\n",
       " '5ADTSTSTERONESte': {'MNX_ID': 'MNXR95059'},\n",
       " 'MNXR95059': {'MNX_ID': 'MNXR95059'},\n",
       " '5ADTSTSTERONEte': {'MNX_ID': 'MNXR95060'},\n",
       " 'MNXR95060': {'MNX_ID': 'MNXR95060'},\n",
       " '5ADTSTSTERONEtr': {'MNX_ID': 'MNXR95060'},\n",
       " '5AOPt2': {'MNX_ID': 'MNXR95061'},\n",
       " 'MNXR95061': {'MNX_ID': 'MNXR95061'},\n",
       " '5AOPtm': {'MNX_ID': 'MNXR95062'},\n",
       " 'MNXR95062': {'MNX_ID': 'MNXR95062'},\n",
       " '5C2O3EDDC': {'MNX_ID': 'MNXR95063'},\n",
       " 'MNXR95063': {'MNX_ID': 'MNXR95063'},\n",
       " '5CM2HMUDI': {'MNX_ID': 'MNXR95064'},\n",
       " 'MNXR95064': {'MNX_ID': 'MNXR95064'},\n",
       " '5DGLCNR': {'MNX_ID': 'MNXR95065'},\n",
       " 'MNXR95065': {'MNX_ID': 'MNXR95065'},\n",
       " '5DGLCNt2rpp': {'MNX_ID': 'MNXR95066'},\n",
       " 'MNXR95066': {'MNX_ID': 'MNXR95066'},\n",
       " '5DGLCNtex': {'MNX_ID': 'MNXR95067'},\n",
       " 'MNXR95067': {'MNX_ID': 'MNXR95067'},\n",
       " '5DHFtl': {'MNX_ID': 'MNXR95068'},\n",
       " 'MNXR95068': {'MNX_ID': 'MNXR95068'},\n",
       " '5DOAN': {'MNX_ID': 'MNXR95069'},\n",
       " 'MNXR95069': {'MNX_ID': 'MNXR95069'},\n",
       " '5FLURAOR': {'MNX_ID': 'MNXR95070'},\n",
       " 'MNXR95070': {'MNX_ID': 'MNXR95070'},\n",
       " '5FLURAPRT': {'MNX_ID': 'MNXR95071'},\n",
       " 'MNXR95071': {'MNX_ID': 'MNXR95071'},\n",
       " '5FLURAt': {'MNX_ID': 'MNXR95072'},\n",
       " 'MNXR95072': {'MNX_ID': 'MNXR95072'},\n",
       " '5FTHFt': {'MNX_ID': 'MNXR95073'},\n",
       " 'MNXR95073': {'MNX_ID': 'MNXR95073'},\n",
       " '5FTHFt2': {'MNX_ID': 'MNXR95074'},\n",
       " 'MNXR95074': {'MNX_ID': 'MNXR95074'},\n",
       " '5FTHFtm': {'MNX_ID': 'MNXR95073'},\n",
       " '5HBZIDMT': {'MNX_ID': 'MNXR95075'},\n",
       " 'MNXR95075': {'MNX_ID': 'MNXR95075'},\n",
       " '5HBZIDS': {'MNX_ID': 'MNXR95076'},\n",
       " 'MNXR95076': {'MNX_ID': 'MNXR95076'},\n",
       " '5HBZIDS2': {'MNX_ID': 'MNXR95077'},\n",
       " 'MNXR95077': {'MNX_ID': 'MNXR95077'},\n",
       " '5HLTDL': {'MNX_ID': 'MNXR95078'},\n",
       " 'MNXR95078': {'MNX_ID': 'MNXR95078'},\n",
       " '5HOMEPRAZOLEte': {'MNX_ID': 'MNXR95079'},\n",
       " 'MNXR95079': {'MNX_ID': 'MNXR95079'},\n",
       " '5HOXINDACTO2OX': {'MNX_ID': 'MNXR95080'},\n",
       " 'MNXR95080': {'MNX_ID': 'MNXR95080'},\n",
       " '5HOXINDACTOX': {'MNX_ID': 'MNXR95081'},\n",
       " 'MNXR95081': {'MNX_ID': 'MNXR95081'},\n",
       " '5HOXINDACTOXm': {'MNX_ID': 'MNXR95081'},\n",
       " '5HOXINOXDA': {'MNX_ID': 'MNXR95082'},\n",
       " 'MNXR95082': {'MNX_ID': 'MNXR95082'},\n",
       " '5HTRPDOX': {'MNX_ID': 'MNXR95083'},\n",
       " 'MNXR95083': {'MNX_ID': 'MNXR95083'},\n",
       " '5HTRPVESSEC': {'MNX_ID': 'MNXR95084'},\n",
       " 'MNXR95084': {'MNX_ID': 'MNXR95084'},\n",
       " '5HXKYNDCL': {'MNX_ID': 'MNXR95085'},\n",
       " 'MNXR95085': {'MNX_ID': 'MNXR95085'},\n",
       " '5HXKYNOXDA': {'MNX_ID': 'MNXR95086'},\n",
       " 'MNXR95086': {'MNX_ID': 'MNXR95086'},\n",
       " '5MTAte': {'MNX_ID': 'MNXR95087'},\n",
       " 'MNXR95087': {'MNX_ID': 'MNXR95087'},\n",
       " '5MTAth': {'MNX_ID': 'MNXR95087'},\n",
       " '5MTAtm': {'MNX_ID': 'MNXR95087'},\n",
       " '5MTHFt': {'MNX_ID': 'MNXR95088'},\n",
       " 'MNXR95088': {'MNX_ID': 'MNXR95088'},\n",
       " '5MTHFt2': {'MNX_ID': 'MNXR95089'},\n",
       " 'MNXR95089': {'MNX_ID': 'MNXR95089'},\n",
       " '5MTHFtm': {'MNX_ID': 'MNXR95088'},\n",
       " '5MTRt2': {'MNX_ID': 'MNXR95090'},\n",
       " 'MNXR95090': {'MNX_ID': 'MNXR95090'},\n",
       " '5MTRtex': {'MNX_ID': 'MNXR95091'},\n",
       " 'MNXR95091': {'MNX_ID': 'MNXR95091'},\n",
       " '5MTRtpp': {'MNX_ID': 'MNXR95090'},\n",
       " '5OXPROt': {'MNX_ID': 'MNXR95092'},\n",
       " 'MNXR95092': {'MNX_ID': 'MNXR95092'},\n",
       " '5THFtl': {'MNX_ID': 'MNXR95093'},\n",
       " 'MNXR95093': {'MNX_ID': 'MNXR95093'},\n",
       " '5THFtm': {'MNX_ID': 'MNXR95093'},\n",
       " '6APAt1': {'MNX_ID': 'MNXR95094'},\n",
       " 'MNXR95094': {'MNX_ID': 'MNXR95094'},\n",
       " '6CTDS': {'MNX_ID': 'MNXR95095'},\n",
       " 'MNXR95095': {'MNX_ID': 'MNXR95095'},\n",
       " '6DHFtl': {'MNX_ID': 'MNXR95096'},\n",
       " 'MNXR95096': {'MNX_ID': 'MNXR95096'},\n",
       " '6DHFtm': {'MNX_ID': 'MNXR95096'},\n",
       " '6HNACMO': {'MNX_ID': 'MNXR95097'},\n",
       " 'MNXR95097': {'MNX_ID': 'MNXR95097'},\n",
       " '6HTSTSTERONEte': {'MNX_ID': 'MNXR95098'},\n",
       " 'MNXR95098': {'MNX_ID': 'MNXR95098'},\n",
       " '6HTSTSTERONEtr': {'MNX_ID': 'MNXR95098'},\n",
       " '6MPURPRT': {'MNX_ID': 'MNXR95099'},\n",
       " 'MNXR95099': {'MNX_ID': 'MNXR95099'},\n",
       " '6MPURt': {'MNX_ID': 'MNXR95100'},\n",
       " 'MNXR95100': {'MNX_ID': 'MNXR95100'},\n",
       " '6PGALSZ': {'MNX_ID': 'MNXR95101'},\n",
       " 'MNXR95101': {'MNX_ID': 'MNXR95101'},\n",
       " '6PGCt6': {'MNX_ID': 'MNXR95102'},\n",
       " 'MNXR95102': {'MNX_ID': 'MNXR95102'},\n",
       " '6PGLter': {'MNX_ID': 'MNXR95103'},\n",
       " 'MNXR95103': {'MNX_ID': 'MNXR95103'},\n",
       " '6PGLthr': {'MNX_ID': 'MNXR95103'},\n",
       " '6PHBG': {'MNX_ID': 'MNXR95104'},\n",
       " 'MNXR95104': {'MNX_ID': 'MNXR95104'},\n",
       " '6THFtl': {'MNX_ID': 'MNXR95105'},\n",
       " 'MNXR95105': {'MNX_ID': 'MNXR95105'},\n",
       " '6THFtm': {'MNX_ID': 'MNXR95105'},\n",
       " '6TINS5MPOR': {'MNX_ID': 'MNXR95106'},\n",
       " 'MNXR95106': {'MNX_ID': 'MNXR95106'},\n",
       " '6TXAN5MPAML': {'MNX_ID': 'MNXR95107'},\n",
       " 'MNXR95107': {'MNX_ID': 'MNXR95107'},\n",
       " '7DHCHSTEROLtr': {'MNX_ID': 'MNXR95108'},\n",
       " 'MNXR95108': {'MNX_ID': 'MNXR95108'},\n",
       " '7DHFtl': {'MNX_ID': 'MNXR95109'},\n",
       " 'MNXR95109': {'MNX_ID': 'MNXR95109'},\n",
       " '7DHFtm': {'MNX_ID': 'MNXR95109'},\n",
       " '7MHS': {'MNX_ID': 'MNXR95110'},\n",
       " 'MNXR95110': {'MNX_ID': 'MNXR95110'},\n",
       " ...}"
      ]
     },
     "execution_count": 10,
     "metadata": {},
     "output_type": "execute_result"
    }
   ],
   "source": [
    "# Get a mapping from KEGG to the new MNXR IDs, for those reactions that cannot be found in the MNX Database,\n",
    "# but that have a KEGG ID in their annotation. \n",
    "#153644- 170637\n",
    "df_2 = reac_xref.loc[6:26957,'XREF_ID':'MNX_ID']\n",
    "df_2 = df_2.set_index(['XREF_ID'])\n",
    "seed_2_mnx_dict_2 = df_2.to_dict('index')\n",
    "seed_2_mnx_dict_2"
   ]
  },
  {
   "cell_type": "code",
   "execution_count": 22,
   "metadata": {},
   "outputs": [
    {
     "data": {
      "text/html": [
       "<div>\n",
       "<style scoped>\n",
       "    .dataframe tbody tr th:only-of-type {\n",
       "        vertical-align: middle;\n",
       "    }\n",
       "\n",
       "    .dataframe tbody tr th {\n",
       "        vertical-align: top;\n",
       "    }\n",
       "\n",
       "    .dataframe thead th {\n",
       "        text-align: right;\n",
       "    }\n",
       "</style>\n",
       "<table border=\"1\" class=\"dataframe\">\n",
       "  <thead>\n",
       "    <tr style=\"text-align: right;\">\n",
       "      <th>XREF_ID</th>\n",
       "      <th>10FTHF5GLUtl</th>\n",
       "      <th>10FTHF5GLUtm</th>\n",
       "      <th>10FTHF6GLUtl</th>\n",
       "      <th>10FTHF6GLUtm</th>\n",
       "      <th>10FTHF7GLUtl</th>\n",
       "      <th>10FTHF7GLUtm</th>\n",
       "      <th>10FTHFGLULL</th>\n",
       "      <th>10FTHFGLULLm</th>\n",
       "      <th>10FTHFtl</th>\n",
       "      <th>10FTHFtm</th>\n",
       "      <th>...</th>\n",
       "      <th>r2526</th>\n",
       "      <th>r2532</th>\n",
       "      <th>r2534</th>\n",
       "      <th>r2535</th>\n",
       "      <th>r2537</th>\n",
       "      <th>r2538</th>\n",
       "      <th>r2539</th>\n",
       "      <th>thr_mt</th>\n",
       "      <th>udcdp20OagLpp</th>\n",
       "      <th>udcdpgalrmnmanabetpp</th>\n",
       "    </tr>\n",
       "    <tr>\n",
       "      <th>XREF</th>\n",
       "      <th></th>\n",
       "      <th></th>\n",
       "      <th></th>\n",
       "      <th></th>\n",
       "      <th></th>\n",
       "      <th></th>\n",
       "      <th></th>\n",
       "      <th></th>\n",
       "      <th></th>\n",
       "      <th></th>\n",
       "      <th></th>\n",
       "      <th></th>\n",
       "      <th></th>\n",
       "      <th></th>\n",
       "      <th></th>\n",
       "      <th></th>\n",
       "      <th></th>\n",
       "      <th></th>\n",
       "      <th></th>\n",
       "      <th></th>\n",
       "      <th></th>\n",
       "    </tr>\n",
       "  </thead>\n",
       "  <tbody>\n",
       "    <tr>\n",
       "      <th>bigg</th>\n",
       "      <td>MNXR94668</td>\n",
       "      <td>MNXR94668</td>\n",
       "      <td>MNXR94669</td>\n",
       "      <td>MNXR94669</td>\n",
       "      <td>MNXR94670</td>\n",
       "      <td>MNXR94670</td>\n",
       "      <td>MNXR94671</td>\n",
       "      <td>MNXR94671</td>\n",
       "      <td>MNXR94672</td>\n",
       "      <td>MNXR94672</td>\n",
       "      <td>...</td>\n",
       "      <td>MNXR104354</td>\n",
       "      <td>MNXR96069</td>\n",
       "      <td>MNXR104852</td>\n",
       "      <td>MNXR100678</td>\n",
       "      <td>MNXR101111</td>\n",
       "      <td>MNXR106330</td>\n",
       "      <td>MNXR106331</td>\n",
       "      <td>MNXR104852</td>\n",
       "      <td>MNXR106332</td>\n",
       "      <td>MNXR102110</td>\n",
       "    </tr>\n",
       "  </tbody>\n",
       "</table>\n",
       "<p>1 rows × 26952 columns</p>\n",
       "</div>"
      ],
      "text/plain": [
       "XREF_ID 10FTHF5GLUtl 10FTHF5GLUtm 10FTHF6GLUtl 10FTHF6GLUtm 10FTHF7GLUtl  \\\n",
       "XREF                                                                       \n",
       "bigg       MNXR94668    MNXR94668    MNXR94669    MNXR94669    MNXR94670   \n",
       "\n",
       "XREF_ID 10FTHF7GLUtm 10FTHFGLULL 10FTHFGLULLm   10FTHFtl   10FTHFtm  \\\n",
       "XREF                                                                  \n",
       "bigg       MNXR94670   MNXR94671    MNXR94671  MNXR94672  MNXR94672   \n",
       "\n",
       "XREF_ID         ...                r2526      r2532       r2534       r2535  \\\n",
       "XREF            ...                                                           \n",
       "bigg            ...           MNXR104354  MNXR96069  MNXR104852  MNXR100678   \n",
       "\n",
       "XREF_ID       r2537       r2538       r2539      thr_mt udcdp20OagLpp  \\\n",
       "XREF                                                                    \n",
       "bigg     MNXR101111  MNXR106330  MNXR106331  MNXR104852    MNXR106332   \n",
       "\n",
       "XREF_ID udcdpgalrmnmanabetpp  \n",
       "XREF                          \n",
       "bigg              MNXR102110  \n",
       "\n",
       "[1 rows x 26952 columns]"
      ]
     },
     "execution_count": 22,
     "metadata": {},
     "output_type": "execute_result"
    },
    {
     "data": {
      "text/plain": [
       "{'10FTHF5GLUtl': 'MNXR94668',\n",
       " '10FTHF5GLUtm': 'MNXR94668',\n",
       " '10FTHF6GLUtl': 'MNXR94669',\n",
       " '10FTHF6GLUtm': 'MNXR94669',\n",
       " '10FTHF7GLUtl': 'MNXR94670',\n",
       " '10FTHF7GLUtm': 'MNXR94670',\n",
       " '10FTHFGLULL': 'MNXR94671',\n",
       " '10FTHFGLULLm': 'MNXR94671',\n",
       " '10FTHFtl': 'MNXR94672',\n",
       " '10FTHFtm': 'MNXR94672',\n",
       " '10FTHFtx': 'MNXR94672',\n",
       " '11DOCRTSLtm': 'MNXR94673',\n",
       " '11DOCRTSLtr': 'MNXR94673',\n",
       " '11DOCRTSTRNtm': 'MNXR94674',\n",
       " '11DOCRTSTRNtr': 'MNXR94674',\n",
       " '12DGR120tipp': 'MNXR94675',\n",
       " '12DGR140tipp': 'MNXR94676',\n",
       " '12DGR141tipp': 'MNXR94677',\n",
       " '12DGR160tipp': 'MNXR94678',\n",
       " '12DGR161tipp': 'MNXR94679',\n",
       " '12DGR180tipp': 'MNXR94680',\n",
       " '12DGR181tipp': 'MNXR94681',\n",
       " '12PPDRDH': 'MNXR94682',\n",
       " '12PPDRtex': 'MNXR94683',\n",
       " '12PPDRtpp': 'MNXR94683',\n",
       " '12PPDStex': 'MNXR94684',\n",
       " '12PPDStpp': 'MNXR94684',\n",
       " '12PPDt': 'MNXR94684',\n",
       " '12dgr2_ST': 'MNXR94685',\n",
       " '13BGH': 'MNXR94686',\n",
       " '13BGHe': 'MNXR94686',\n",
       " '13DAMPPOX': 'MNXR94687',\n",
       " '13GS': 'MNXR94688',\n",
       " '13HODEOR': 'MNXR94689',\n",
       " '13HPODEDH': 'MNXR94690',\n",
       " '13PPDH': 'MNXR94691',\n",
       " '13PPDtex': 'MNXR94692',\n",
       " '13PPDtpp': 'MNXR94692',\n",
       " '14GLUCANabcpp': 'MNXR94693',\n",
       " '14GLUCANtexi': 'MNXR94694',\n",
       " '16GS': 'MNXR94695',\n",
       " '1ACPCth': 'MNXR94696',\n",
       " '1ACPCtm': 'MNXR94696',\n",
       " '1AGPEAT1801819Z': 'MNXR94697',\n",
       " '1AGPEAT1801829Z12Z': 'MNXR94698',\n",
       " '1AGPEAT1801835Z9Z12Z': 'MNXR94699',\n",
       " '1AGPEAT1801845Z9Z12Z15Z': 'MNXR94700',\n",
       " '1AGPEAT18111Z1819Z': 'MNXR94701',\n",
       " '1AGPEAT18111Z1829Z12Z': 'MNXR94702',\n",
       " '1AGPEAT18111Z1835Z9Z12Z': 'MNXR94703',\n",
       " '1AGPEAT18111Z1845Z9Z12Z15Z': 'MNXR94704',\n",
       " '1AGPEAT1819Z1819Z': 'MNXR94705',\n",
       " '1AGPEAT1819Z1829Z12Z': 'MNXR94706',\n",
       " '1AGPEAT1819Z1835Z9Z12Z': 'MNXR94707',\n",
       " '1AGPEAT1819Z1845Z9Z12Z15Z': 'MNXR94708',\n",
       " '1AGPEAT1829Z12Z1835Z9Z12Z': 'MNXR94709',\n",
       " '1MNCAMti': 'MNXR94710',\n",
       " '1PPDCRc': 'MNXR94711',\n",
       " '1PPDCRp': 'MNXR94712',\n",
       " '1a25DHVITD3TRn': 'MNXR94713',\n",
       " '1a_24_25VITD2Hm': 'MNXR94714',\n",
       " '1a_24_25VITD3Hm': 'MNXR94715',\n",
       " '1a_25VITD2Hm': 'MNXR94716',\n",
       " '1a_25VITD3Hm': 'MNXR94717',\n",
       " '23CAMPtex': 'MNXR94718',\n",
       " '23CAPPD': 'MNXR94719',\n",
       " '23CCMPtex': 'MNXR94720',\n",
       " '23CGMPtex': 'MNXR94721',\n",
       " '23CN2P1': 'MNXR94722',\n",
       " '23CN2P2': 'MNXR94723',\n",
       " '23CN2P3': 'MNXR94724',\n",
       " '23CN2P4': 'MNXR94725',\n",
       " '23CUMPtex': 'MNXR94726',\n",
       " '23DAPPAt2pp': 'MNXR94727',\n",
       " '23DAPPAtex': 'MNXR94728',\n",
       " '23DHMBth': 'MNXR94729',\n",
       " '23DHMBtm': 'MNXR94729',\n",
       " '23DHMPth': 'MNXR94730',\n",
       " '23DK5MPPISO': 'MNXR94731',\n",
       " '23PDE2pp': 'MNXR94723',\n",
       " '23PDE4pp': 'MNXR94724',\n",
       " '23PDE7pp': 'MNXR94722',\n",
       " '23PDE9pp': 'MNXR94725',\n",
       " '24NPHte': 'MNXR94732',\n",
       " '24_25DHVITD2t': 'MNXR94733',\n",
       " '24_25DHVITD2tm': 'MNXR94733',\n",
       " '24_25DHVITD3t': 'MNXR94734',\n",
       " '24_25DHVITD3tm': 'MNXR94734',\n",
       " '24_25VITD2Hm': 'MNXR94735',\n",
       " '24_25VITD3Hm': 'MNXR94736',\n",
       " '25HVITD2t': 'MNXR94737',\n",
       " '25HVITD2tin': 'MNXR94737',\n",
       " '25HVITD2tin_m': 'MNXR94737',\n",
       " '25HVITD2tm': 'MNXR94737',\n",
       " '25HVITD3c': 'MNXR94738',\n",
       " '25HVITD3t': 'MNXR94739',\n",
       " '25HVITD3tin': 'MNXR94739',\n",
       " '25HVITD3tin_m': 'MNXR94739',\n",
       " '25HVITD3tm': 'MNXR94739',\n",
       " '25VITD2Hm': 'MNXR94740',\n",
       " '25VITD3Hm': 'MNXR94738',\n",
       " '26DAHtex': 'MNXR94741',\n",
       " '26DPAi': 'MNXR94742',\n",
       " '2AGPA120tipp': 'MNXR94743',\n",
       " '2AGPA140tipp': 'MNXR94744',\n",
       " '2AGPA141tipp': 'MNXR94745',\n",
       " '2AGPA160tipp': 'MNXR94746',\n",
       " '2AGPA161tipp': 'MNXR94747',\n",
       " '2AGPA180tipp': 'MNXR94748',\n",
       " '2AGPA181tipp': 'MNXR94749',\n",
       " '2AGPE120tipp': 'MNXR94750',\n",
       " '2AGPE140tipp': 'MNXR94751',\n",
       " '2AGPE141tipp': 'MNXR94752',\n",
       " '2AGPE160tipp': 'MNXR94753',\n",
       " '2AGPE161tipp': 'MNXR94754',\n",
       " '2AGPE180tipp': 'MNXR94755',\n",
       " '2AGPE181tipp': 'MNXR94756',\n",
       " '2AGPEAT120': 'MNXR94757',\n",
       " '2AGPEAT140': 'MNXR94758',\n",
       " '2AGPEAT141': 'MNXR94759',\n",
       " '2AGPEAT160': 'MNXR94760',\n",
       " '2AGPEAT161': 'MNXR94761',\n",
       " '2AGPEAT180': 'MNXR94762',\n",
       " '2AGPEAT181': 'MNXR94763',\n",
       " '2AGPG120tipp': 'MNXR94764',\n",
       " '2AGPG140tipp': 'MNXR94765',\n",
       " '2AGPG141tipp': 'MNXR94766',\n",
       " '2AGPG160tipp': 'MNXR94767',\n",
       " '2AGPG161tipp': 'MNXR94768',\n",
       " '2AGPG180tipp': 'MNXR94769',\n",
       " '2AGPG181tipp': 'MNXR94770',\n",
       " '2AGPGAT120': 'MNXR94771',\n",
       " '2AGPGAT140': 'MNXR94772',\n",
       " '2AGPGAT141': 'MNXR94773',\n",
       " '2AGPGAT160': 'MNXR94774',\n",
       " '2AGPGAT161': 'MNXR94775',\n",
       " '2AGPGAT180': 'MNXR94776',\n",
       " '2AGPGAT181': 'MNXR94777',\n",
       " '2AMACHYD': 'MNXR94778',\n",
       " '2AMACSULT': 'MNXR94779',\n",
       " '2AMADPTm': 'MNXR94780',\n",
       " '2AOBUTtm': 'MNXR94781',\n",
       " '2DDA7Ptm': 'MNXR94782',\n",
       " '2DGLCNRx': 'MNXR94783',\n",
       " '2DGLCNRy': 'MNXR94784',\n",
       " '2DGULRGx': 'MNXR94785',\n",
       " '2DGULRGy': 'MNXR94786',\n",
       " '2DGULRx': 'MNXR94787',\n",
       " '2DGULRy': 'MNXR94788',\n",
       " '2DHGLCK': 'MNXR94789',\n",
       " '2DHGLCNkt_tpp': 'MNXR94790',\n",
       " '2DHGLCNtex': 'MNXR94791',\n",
       " '2DHPFALDL': 'MNXR94792',\n",
       " '2DHPtm': 'MNXR94793',\n",
       " '2DHPtn': 'MNXR94793',\n",
       " '2DOXG6PP': 'MNXR94794',\n",
       " '2DR1PP': 'MNXR94795',\n",
       " '2HBO': 'MNXR94796',\n",
       " '2HBt2': 'MNXR94797',\n",
       " '2HCO3_NAt': 'MNXR94798',\n",
       " '2HH24DDH': 'MNXR94799',\n",
       " '2HH24DDH1': 'MNXR94799',\n",
       " '2HMHMBQMTm': 'MNXR94800',\n",
       " '2HP6MPMOm': 'MNXR94801',\n",
       " '2HPMBQMTm': 'MNXR94802',\n",
       " '2HPMMBQMOm': 'MNXR94803',\n",
       " '2HXMPt6': 'MNXR94804',\n",
       " '2INSD': 'MNXR94805',\n",
       " '2MAHMP': 'MNXR94806',\n",
       " '2MB2COAc': 'MNXR94807',\n",
       " '2MBACt': 'MNXR94808',\n",
       " '2MBALDt': 'MNXR94809',\n",
       " '2MBALDtm': 'MNXR94809',\n",
       " '2MBTOHt': 'MNXR94810',\n",
       " '2MBTOHtm': 'MNXR94810',\n",
       " '2MCITt': 'MNXR94811',\n",
       " '2MCITtm': 'MNXR94811',\n",
       " '2MPPALt': 'MNXR94812',\n",
       " '2MPPALtm': 'MNXR94812',\n",
       " '2OBUTt2ipp': 'MNXR94813',\n",
       " '2OBUTtex': 'MNXR94814',\n",
       " '2OBUTtm': 'MNXR94814',\n",
       " '2OH3K5MPPISO': 'MNXR94815',\n",
       " '2OHPH_5tn': 'MNXR94816',\n",
       " '2OMPH_5tm': 'MNXR94817',\n",
       " '2OMPH_5tn': 'MNXR94817',\n",
       " '2OXOADOXm': 'MNXR94818',\n",
       " '2OXOADPTm': 'MNXR94819',\n",
       " '2OXOADPtim': 'MNXR94820',\n",
       " '2PGK': 'MNXR94821',\n",
       " '2PGLYCt6': 'MNXR94822',\n",
       " '2PGLYCth': 'MNXR94823',\n",
       " '2PGLYCtx': 'MNXR94823',\n",
       " '2PGt6': 'MNXR94824',\n",
       " '2PGt6pp': 'MNXR94825',\n",
       " '2PGtex': 'MNXR94826',\n",
       " '2PGth': 'MNXR94826',\n",
       " '2PGtm': 'MNXR94826',\n",
       " '2PHACTE': 'MNXR94827',\n",
       " '2PHETOHt': 'MNXR94828',\n",
       " '2PHETOHtm': 'MNXR94828',\n",
       " '2PLS': 'MNXR94829',\n",
       " '2S6HCCi': 'MNXR94830',\n",
       " '34DHALDD': 'MNXR94831',\n",
       " '34DHCINMtex': 'MNXR94832',\n",
       " '34DHCINMtpp': 'MNXR94832',\n",
       " '34DHOXPEGOX': 'MNXR94833',\n",
       " '34DHOXPEGt': 'MNXR94834',\n",
       " '34DHPACDO': 'MNXR94835',\n",
       " '34DHPHAMT': 'MNXR94836',\n",
       " '34DHPHELAT1tc': 'MNXR94837',\n",
       " '34DHPHEt': 'MNXR94838',\n",
       " '34DHPLACOX_NADP': 'MNXR94839',\n",
       " '34DHXMANDACOX': 'MNXR94840',\n",
       " '34DHXMANDACOX_NADP': 'MNXR94841',\n",
       " '34HPLFM': 'MNXR94842',\n",
       " '34HPPOR': 'MNXR94843',\n",
       " '34HPPYRI': 'MNXR94844',\n",
       " '34HPPt2m': 'MNXR94845',\n",
       " '34HPPt2p': 'MNXR94845',\n",
       " '34HPPte': 'MNXR94846',\n",
       " '34PHACTE': 'MNXR94847',\n",
       " '34dhpactex': 'MNXR94848',\n",
       " '35CGMPtn': 'MNXR94849',\n",
       " '35PHACTE': 'MNXR94850',\n",
       " '3AIBTm': 'MNXR94851',\n",
       " '3AIB_Dtm': 'MNXR94852',\n",
       " '3AIBt': 'MNXR94853',\n",
       " '3AIBtm': 'MNXR94853',\n",
       " '3AMACHYD': 'MNXR94854',\n",
       " '3AMBAt2': 'MNXR94855',\n",
       " '3AMPt6': 'MNXR94856',\n",
       " '3AMPtex': 'MNXR94857',\n",
       " '3C3HMPt': 'MNXR94858',\n",
       " '3C3HMPth': 'MNXR94858',\n",
       " '3C3HMPtm': 'MNXR94858',\n",
       " '3C4MOPtm': 'MNXR94859',\n",
       " '3CMPt6': 'MNXR94860',\n",
       " '3CMPtex': 'MNXR94861',\n",
       " '3DH5HPBMTm': 'MNXR94862',\n",
       " '3DH5HPBtm': 'MNXR94863',\n",
       " '3DPHBH1': 'MNXR94864',\n",
       " '3DPHBH2': 'MNXR94865',\n",
       " '3DSPHR': 'MNXR94866',\n",
       " '3GMPt6': 'MNXR94867',\n",
       " '3GMPtex': 'MNXR94868',\n",
       " '3HAACOAT100': 'MNXR94869',\n",
       " '3HAACOAT120': 'MNXR94870',\n",
       " '3HAACOAT121': 'MNXR94871',\n",
       " '3HAACOAT140': 'MNXR94872',\n",
       " '3HAACOAT141': 'MNXR94873',\n",
       " '3HAACOAT60': 'MNXR94874',\n",
       " '3HAACOAT80': 'MNXR94875',\n",
       " '3HAD100': 'MNXR94876',\n",
       " '3HAD100_1': 'MNXR94876',\n",
       " '3HAD120': 'MNXR94877',\n",
       " '3HAD120_1': 'MNXR94877',\n",
       " '3HAD121': 'MNXR94878',\n",
       " '3HAD140': 'MNXR94879',\n",
       " '3HAD140_1': 'MNXR94879',\n",
       " '3HAD141': 'MNXR94880',\n",
       " '3HAD160': 'MNXR94881',\n",
       " '3HAD160_1': 'MNXR94881',\n",
       " '3HAD161': 'MNXR94882',\n",
       " '3HAD180': 'MNXR94883',\n",
       " '3HAD180_1': 'MNXR94883',\n",
       " '3HAD181': 'MNXR94884',\n",
       " '3HAD181_1': 'MNXR94884',\n",
       " '3HAD40': 'MNXR94885',\n",
       " '3HAD40_1': 'MNXR94886',\n",
       " '3HAD60': 'MNXR94887',\n",
       " '3HAD60_1': 'MNXR94887',\n",
       " '3HAD80': 'MNXR94888',\n",
       " '3HAD80_1': 'MNXR94888',\n",
       " '3HAO': 'MNXR94889',\n",
       " '3HBCDm': 'MNXR94890',\n",
       " '3HBCOAHL': 'MNXR94891',\n",
       " '3HBCOAHLm': 'MNXR94891',\n",
       " '3HBCOARc': 'MNXR94892',\n",
       " '3HCINNMH': 'MNXR94893',\n",
       " '3HCO3_NAt': 'MNXR94894',\n",
       " '3HKYNAKGAT': 'MNXR94895',\n",
       " '3HKYNAKGATm': 'MNXR94895',\n",
       " '3HLYTCL': 'MNXR94896',\n",
       " '3HOPCD': 'MNXR94897',\n",
       " '3HOXPACt2pp': 'MNXR94898',\n",
       " '3HPAOX': 'MNXR94899',\n",
       " '3HPCOAHYD': 'MNXR94900',\n",
       " '3HPH5MBDCm': 'MNXR94901',\n",
       " '3HPPD': 'MNXR94902',\n",
       " '3HPPPNH': 'MNXR94903',\n",
       " '3HPPtex': 'MNXR94904',\n",
       " '3HPPtpp': 'MNXR94905',\n",
       " '3HXKYNDCL': 'MNXR94906',\n",
       " '3HXKYNOXDA': 'MNXR94907',\n",
       " '3IPM3MT': 'MNXR94908',\n",
       " '3KGK': 'MNXR94909',\n",
       " '3M2OBLOXRD': 'MNXR94910',\n",
       " '3M2OPLOXRD': 'MNXR94911',\n",
       " '3M4HDXPAC': 'MNXR94912',\n",
       " '3MBALDt': 'MNXR94913',\n",
       " '3MBALDtm': 'MNXR94913',\n",
       " '3MBZALDH': 'MNXR94914',\n",
       " '3MBZDH': 'MNXR94915',\n",
       " '3MBt2pp': 'MNXR94916',\n",
       " '3MBt4pp': 'MNXR94917',\n",
       " '3MBtex': 'MNXR94918',\n",
       " '3MCAT23DOX': 'MNXR94919',\n",
       " '3MLDAt': 'MNXR94920',\n",
       " '3MMD': 'MNXR94921',\n",
       " '3MOBDC': 'MNXR94922',\n",
       " '3MOBt2im': 'MNXR94923',\n",
       " '3MOBte': 'MNXR94924',\n",
       " '3MOBth': 'MNXR94924',\n",
       " '3MOBtm': 'MNXR94924',\n",
       " '3MOPDC': 'MNXR94925',\n",
       " '3MOPt': 'MNXR94926',\n",
       " '3MOPt2im': 'MNXR94927',\n",
       " '3MOPtm': 'MNXR94926',\n",
       " '3MOX4HOXPGALDOX': 'MNXR94928',\n",
       " '3MOX4HOXPGALDOX_NADP': 'MNXR94929',\n",
       " '3MOXTYRESSte': 'MNXR94930',\n",
       " '3MOXTYROX': 'MNXR94931',\n",
       " '3NTD2pp': 'MNXR94932',\n",
       " '3NTD2pp_1': 'MNXR94933',\n",
       " '3NTD4pp': 'MNXR94934',\n",
       " '3NTD7l': 'MNXR94935',\n",
       " '3NTD7pp': 'MNXR94935',\n",
       " '3NTD9pp': 'MNXR94936',\n",
       " '3NTYROXDApp': 'MNXR94937',\n",
       " '3NUCLE1': 'MNXR94935',\n",
       " '3NUCLE2': 'MNXR94932',\n",
       " '3NUCLE3': 'MNXR94934',\n",
       " '3NUCLE4': 'MNXR94936',\n",
       " '3OACOAR': 'MNXR94938',\n",
       " '3OACOAS': 'MNXR94939',\n",
       " '3OADPCOAT': 'MNXR94940',\n",
       " '3OAR100': 'MNXR94941',\n",
       " '3OAR100_1': 'MNXR94941',\n",
       " '3OAR120': 'MNXR94942',\n",
       " '3OAR120_1': 'MNXR94942',\n",
       " '3OAR121': 'MNXR94943',\n",
       " '3OAR140': 'MNXR94944',\n",
       " '3OAR140_1': 'MNXR94944',\n",
       " '3OAR141': 'MNXR94945',\n",
       " '3OAR160': 'MNXR94946',\n",
       " '3OAR160_1': 'MNXR94946',\n",
       " '3OAR161': 'MNXR94947',\n",
       " '3OAR180': 'MNXR94948',\n",
       " '3OAR180_1': 'MNXR94948',\n",
       " '3OAR181': 'MNXR94949',\n",
       " '3OAR181_1': 'MNXR94949',\n",
       " '3OAR40': 'MNXR94950',\n",
       " '3OAR40_1': 'MNXR94951',\n",
       " '3OAR60': 'MNXR94952',\n",
       " '3OAR60_1': 'MNXR94952',\n",
       " '3OAR80': 'MNXR94953',\n",
       " '3OAR80_1': 'MNXR94953',\n",
       " '3OAS100': 'MNXR94954',\n",
       " '3OAS100_1': 'MNXR94954',\n",
       " '3OAS120': 'MNXR94955',\n",
       " '3OAS120_1': 'MNXR94955',\n",
       " '3OAS121': 'MNXR94956',\n",
       " '3OAS140': 'MNXR94957',\n",
       " '3OAS140_1': 'MNXR94957',\n",
       " '3OAS141': 'MNXR94958',\n",
       " '3OAS160': 'MNXR94959',\n",
       " '3OAS160_1': 'MNXR94959',\n",
       " '3OAS161': 'MNXR94960',\n",
       " '3OAS180': 'MNXR94961',\n",
       " '3OAS180_1': 'MNXR94961',\n",
       " '3OAS181': 'MNXR94962',\n",
       " '3OAS181_1': 'MNXR94962',\n",
       " '3OAS60': 'MNXR94963',\n",
       " '3OAS60_1': 'MNXR94963',\n",
       " '3OAS80': 'MNXR94964',\n",
       " '3OAS80_1': 'MNXR94964',\n",
       " '3OPHB5Hm': 'MNXR94965',\n",
       " '3OPHB_5tm': 'MNXR94966',\n",
       " '3OXCOAT': 'MNXR94967',\n",
       " '3OXOADPt_ex': 'MNXR94968',\n",
       " '3OXOADPt_pp': 'MNXR94969',\n",
       " '3PEPTabcpp': 'MNXR94970',\n",
       " '3PEPTtex': 'MNXR94971',\n",
       " '3PG_pi_thr': 'MNXR94972',\n",
       " '3PGt6': 'MNXR94973',\n",
       " '3PGt6pp': 'MNXR94972',\n",
       " '3PGtex': 'MNXR94974',\n",
       " '3PGtx': 'MNXR94974',\n",
       " '3PHACOAOR': 'MNXR94975',\n",
       " '3PHACTE': 'MNXR94976',\n",
       " '3SALAASPm': 'MNXR94977',\n",
       " '3SALACBOXL': 'MNXR94978',\n",
       " '3SALACBOXL_cho': 'MNXR94978',\n",
       " '3SALAOX': 'MNXR94979',\n",
       " '3SALATAi': 'MNXR94980',\n",
       " '3SALATAim': 'MNXR94980',\n",
       " '3SPYRSP': 'MNXR94981',\n",
       " '3SPYRSPh': 'MNXR94981',\n",
       " '3SPYRSPm': 'MNXR94981',\n",
       " '3SPYRSPm_1': 'MNXR94981',\n",
       " '3UMPt6': 'MNXR94982',\n",
       " '3UMPtex': 'MNXR94983',\n",
       " '3_4DHBZ1t_pp': 'MNXR94984',\n",
       " '3_4DHBZt2': 'MNXR94985',\n",
       " '3hoxpactex': 'MNXR94986',\n",
       " '41R1H2MAE12BOOX': 'MNXR94987',\n",
       " '41R2A1H12BOOX': 'MNXR94988',\n",
       " '42A12BOOX': 'MNXR94989',\n",
       " '42A12BOOXpp': 'MNXR94989',\n",
       " '44MZYMMO': 'MNXR94990',\n",
       " '4ABUTD': 'MNXR94991',\n",
       " '4ABUTNtm': 'MNXR94992',\n",
       " '4ABUTtcn': 'MNXR94993',\n",
       " '4ABUTth': 'MNXR94993',\n",
       " '4ABUTthi': 'MNXR94994',\n",
       " '4ABUTtm': 'MNXR94993',\n",
       " '4ABUTtmi': 'MNXR94994',\n",
       " '4ABZt': 'MNXR94995',\n",
       " '4ABZt2r': 'MNXR94996',\n",
       " '4ABZtm': 'MNXR94995',\n",
       " '4C2HM6SADH': 'MNXR94997',\n",
       " '4CMCOAS': 'MNXR94998',\n",
       " '4CMLCL_kt': 'MNXR94999',\n",
       " '4H2KPILY': 'MNXR95000',\n",
       " '4H2OGLTtm': 'MNXR95001',\n",
       " '4H2OGLTtp': 'MNXR95001',\n",
       " '4H3NALDD': 'MNXR95002',\n",
       " '4H3NPACAM': 'MNXR95003',\n",
       " '4HALDD': 'MNXR95004',\n",
       " '4HBALDt2pp': 'MNXR95005',\n",
       " '4HBALDtex': 'MNXR95006',\n",
       " '4HBAtex': 'MNXR95007',\n",
       " '4HBCOAH': 'MNXR95008',\n",
       " '4HBHYOX': 'MNXR95009',\n",
       " '4HBZCOAFm': 'MNXR95010',\n",
       " '4HBZFm': 'MNXR95011',\n",
       " '4HBZR': 'MNXR95012',\n",
       " '4HBZtex': 'MNXR95013',\n",
       " '4HBZtm': 'MNXR95013',\n",
       " '4HDEBRISOQUINEte': 'MNXR95014',\n",
       " '4HGLSD': 'MNXR95015',\n",
       " '4HGLSDm': 'MNXR95015',\n",
       " '4HOXPACDOX_NADP': 'MNXR95016',\n",
       " '4HOXPACDtex': 'MNXR95017',\n",
       " '4HOXPACMOF': 'MNXR95018',\n",
       " '4HOXPACMOF_1': 'MNXR95018',\n",
       " '4HOXPACMON': 'MNXR95019',\n",
       " '4HOXPACt2pp': 'MNXR95020',\n",
       " '4HOXPACt2pp_1': 'MNXR95020',\n",
       " '4HPROLTASCT1': 'MNXR95021',\n",
       " '4HPRO_LTte': 'MNXR95022',\n",
       " '4HPRO_LTtm': 'MNXR95022',\n",
       " '4HPROtg': 'MNXR95022',\n",
       " '4HTHRK': 'MNXR95023',\n",
       " '4HTHRS': 'MNXR95024',\n",
       " '4HTHRtex': 'MNXR95025',\n",
       " '4HTHRtrpp': 'MNXR95026',\n",
       " '4IZ5PPH': 'MNXR95027',\n",
       " '4KFBPP': 'MNXR95028',\n",
       " '4M2OPLOXRD': 'MNXR95029',\n",
       " '4MBZALDH': 'MNXR95030',\n",
       " '4MBZDH': 'MNXR95031',\n",
       " '4MCAT23DOX': 'MNXR95032',\n",
       " '4MOPDC': 'MNXR95033',\n",
       " '4MOPt2im': 'MNXR95034',\n",
       " '4MOPte': 'MNXR95035',\n",
       " '4MOPtm': 'MNXR95035',\n",
       " '4MPTNLte': 'MNXR95036',\n",
       " '4MPTNLtm': 'MNXR95036',\n",
       " '4MPTNLtr': 'MNXR95036',\n",
       " '4MTOLBUTAMIDEte': 'MNXR95037',\n",
       " '4MZYMCODH': 'MNXR95038',\n",
       " '4MZYMDM': 'MNXR95039',\n",
       " '4MZYMR': 'MNXR95040',\n",
       " '4NPHSFte': 'MNXR95041',\n",
       " '4NPHSULT': 'MNXR95042',\n",
       " '4NPHte': 'MNXR95043',\n",
       " '4OD': 'MNXR95044',\n",
       " '4OD2': 'MNXR95045',\n",
       " '4OHPROIMINOtc': 'MNXR95046',\n",
       " '4OT': 'MNXR95047',\n",
       " '4OT2': 'MNXR95048',\n",
       " '4PCP': 'MNXR95049',\n",
       " '4PCPpp': 'MNXR95049',\n",
       " '4PEPTabcpp': 'MNXR95050',\n",
       " '4PEPTtex': 'MNXR95051',\n",
       " '4PHACTE': 'MNXR95052',\n",
       " '4PYRDX': 'MNXR95053',\n",
       " '4hoxpactex': 'MNXR95054',\n",
       " '56DH5FLURAAMH': 'MNXR95055',\n",
       " '5ADTSTSTERONEGLCte': 'MNXR95056',\n",
       " '5ADTSTSTERONEGLCtr': 'MNXR95057',\n",
       " '5ADTSTSTERONESULT': 'MNXR95058',\n",
       " '5ADTSTSTERONESte': 'MNXR95059',\n",
       " '5ADTSTSTERONEte': 'MNXR95060',\n",
       " '5ADTSTSTERONEtr': 'MNXR95060',\n",
       " '5AOPt2': 'MNXR95061',\n",
       " '5AOPtm': 'MNXR95062',\n",
       " '5C2O3EDDC': 'MNXR95063',\n",
       " '5CM2HMUDI': 'MNXR95064',\n",
       " '5DGLCNR': 'MNXR95065',\n",
       " '5DGLCNt2rpp': 'MNXR95066',\n",
       " '5DGLCNtex': 'MNXR95067',\n",
       " '5DHFtl': 'MNXR95068',\n",
       " '5DOAN': 'MNXR95069',\n",
       " '5FLURAOR': 'MNXR95070',\n",
       " '5FLURAPRT': 'MNXR95071',\n",
       " '5FLURAt': 'MNXR95072',\n",
       " '5FTHFt': 'MNXR95073',\n",
       " '5FTHFt2': 'MNXR95074',\n",
       " '5FTHFtm': 'MNXR95073',\n",
       " '5HBZIDMT': 'MNXR95075',\n",
       " '5HBZIDS': 'MNXR95076',\n",
       " '5HBZIDS2': 'MNXR95077',\n",
       " '5HLTDL': 'MNXR95078',\n",
       " '5HOMEPRAZOLEte': 'MNXR95079',\n",
       " '5HOXINDACTO2OX': 'MNXR95080',\n",
       " '5HOXINDACTOX': 'MNXR95081',\n",
       " '5HOXINDACTOXm': 'MNXR95081',\n",
       " '5HOXINOXDA': 'MNXR95082',\n",
       " '5HTRPDOX': 'MNXR95083',\n",
       " '5HTRPVESSEC': 'MNXR95084',\n",
       " '5HXKYNDCL': 'MNXR95085',\n",
       " '5HXKYNOXDA': 'MNXR95086',\n",
       " '5MTAte': 'MNXR95087',\n",
       " '5MTAth': 'MNXR95087',\n",
       " '5MTAtm': 'MNXR95087',\n",
       " '5MTHFt': 'MNXR95088',\n",
       " '5MTHFt2': 'MNXR95089',\n",
       " '5MTHFtm': 'MNXR95088',\n",
       " '5MTRt2': 'MNXR95090',\n",
       " '5MTRtex': 'MNXR95091',\n",
       " '5MTRtpp': 'MNXR95090',\n",
       " '5OXPROt': 'MNXR95092',\n",
       " '5THFtl': 'MNXR95093',\n",
       " '5THFtm': 'MNXR95093',\n",
       " '6APAt1': 'MNXR95094',\n",
       " '6CTDS': 'MNXR95095',\n",
       " '6DHFtl': 'MNXR95096',\n",
       " '6DHFtm': 'MNXR95096',\n",
       " '6HNACMO': 'MNXR95097',\n",
       " '6HTSTSTERONEte': 'MNXR95098',\n",
       " '6HTSTSTERONEtr': 'MNXR95098',\n",
       " '6MPURPRT': 'MNXR95099',\n",
       " '6MPURt': 'MNXR95100',\n",
       " '6PGALSZ': 'MNXR95101',\n",
       " '6PGCt6': 'MNXR95102',\n",
       " '6PGLter': 'MNXR95103',\n",
       " '6PGLthr': 'MNXR95103',\n",
       " '6PHBG': 'MNXR95104',\n",
       " '6THFtl': 'MNXR95105',\n",
       " '6THFtm': 'MNXR95105',\n",
       " '6TINS5MPOR': 'MNXR95106',\n",
       " '6TXAN5MPAML': 'MNXR95107',\n",
       " '7DHCHSTEROLtr': 'MNXR95108',\n",
       " '7DHFtl': 'MNXR95109',\n",
       " '7DHFtm': 'MNXR95109',\n",
       " '7MHS': 'MNXR95110',\n",
       " '7MHTS': 'MNXR95111',\n",
       " '7THFtl': 'MNXR95112',\n",
       " '7THFtm': 'MNXR95112',\n",
       " '8AONNt2': 'MNXR95113',\n",
       " 'A1E': 'MNXR95114',\n",
       " 'A2GALT1': 'MNXR95115',\n",
       " 'A2GALT2': 'MNXR95116',\n",
       " 'A2GALT3': 'MNXR95117',\n",
       " 'A2GALT4': 'MNXR95118',\n",
       " 'A2GALT5': 'MNXR95119',\n",
       " 'A2GALT6': 'MNXR95120',\n",
       " 'A3GALT1': 'MNXR95121',\n",
       " 'A3GALT2': 'MNXR95122',\n",
       " 'A3GALT3': 'MNXR95123',\n",
       " 'A3GALT4': 'MNXR95124',\n",
       " 'A3GALT5': 'MNXR95125',\n",
       " 'A3MT': 'MNXR95126',\n",
       " 'A4GALT': 'MNXR95127',\n",
       " 'A4GALTc': 'MNXR95128',\n",
       " 'A4GALTc_cho': 'MNXR95129',\n",
       " 'A4GALTg': 'MNXR95128',\n",
       " 'A4GALTg_cho': 'MNXR95129',\n",
       " 'A4GNT1g': 'MNXR95130',\n",
       " 'A4GNT2g': 'MNXR95131',\n",
       " 'A5PISO': 'MNXR95132',\n",
       " 'AABHH': 'MNXR95133',\n",
       " 'AABTN': 'MNXR95134',\n",
       " 'AACOAR_syn': 'MNXR95135',\n",
       " 'AACOAT': 'MNXR95136',\n",
       " 'AACP1819ZS': 'MNXR95137',\n",
       " 'AACPS1': 'MNXR95138',\n",
       " 'AACPS10': 'MNXR95139',\n",
       " 'AACPS11': 'MNXR95140',\n",
       " 'AACPS1_1': 'MNXR95138',\n",
       " 'AACPS2': 'MNXR95141',\n",
       " 'AACPS3': 'MNXR95142',\n",
       " 'AACPS3_1': 'MNXR95142',\n",
       " 'AACPS4': 'MNXR95143',\n",
       " 'AACPS4_1': 'MNXR95143',\n",
       " 'AACPS5': 'MNXR95144',\n",
       " 'AACPS5_1': 'MNXR95144',\n",
       " 'AACPS6': 'MNXR95145',\n",
       " 'AACPS6_1': 'MNXR95145',\n",
       " 'AACPS7': 'MNXR95146',\n",
       " 'AACPS8': 'MNXR95147',\n",
       " 'AACPS9': 'MNXR95148',\n",
       " 'AACTOOR': 'MNXR95149',\n",
       " 'AACTtm': 'MNXR95150',\n",
       " 'AADDGT': 'MNXR95151',\n",
       " 'AADSACYCL': 'MNXR95152',\n",
       " 'AAMYL': 'MNXR95153',\n",
       " 'AAMYL_1': 'MNXR95154',\n",
       " 'AAMYLpp': 'MNXR95153',\n",
       " 'AAPT': 'MNXR95155',\n",
       " 'AASAD1': 'MNXR95156',\n",
       " 'AASAD2': 'MNXR95157',\n",
       " 'AASAD3': 'MNXR95158',\n",
       " 'AASAD3m': 'MNXR95158',\n",
       " 'AASPh': 'MNXR95159',\n",
       " 'AASPm': 'MNXR95159',\n",
       " 'AATA': 'MNXR95160',\n",
       " 'AATAi': 'MNXR95160',\n",
       " 'AATC': 'MNXR95161',\n",
       " 'AATG': 'MNXR94980',\n",
       " 'AATGm': 'MNXR94980',\n",
       " 'AATHA': 'MNXR95162',\n",
       " 'AATHB': 'MNXR95163',\n",
       " 'AAtr': 'MNXR95164',\n",
       " 'AB6PGH': 'MNXR95165',\n",
       " 'ABFA': 'MNXR95166',\n",
       " 'ABFPT': 'MNXR95167',\n",
       " 'ABFPTh': 'MNXR95167',\n",
       " 'ABO1g': 'MNXR95168',\n",
       " 'ABO1g_cho': 'MNXR95169',\n",
       " 'ABO2g': 'MNXR95170',\n",
       " 'ABO2g_cho': 'MNXR95171',\n",
       " 'ABO3g': 'MNXR95172',\n",
       " 'ABO3g_cho': 'MNXR95173',\n",
       " 'ABO4g': 'MNXR95174',\n",
       " 'ABO4g_cho': 'MNXR95175',\n",
       " 'ABO5g': 'MNXR95176',\n",
       " 'ABO5g_cho': 'MNXR95177',\n",
       " 'ABO6g': 'MNXR95178',\n",
       " 'ABO6g_cho': 'MNXR95179',\n",
       " 'ABO7g': 'MNXR95180',\n",
       " 'ABO7g_cho': 'MNXR95181',\n",
       " 'ABO8g': 'MNXR95182',\n",
       " 'ABO8g_cho': 'MNXR95183',\n",
       " 'ABO9g': 'MNXR95184',\n",
       " 'ABO9g_cho': 'MNXR95185',\n",
       " 'ABOR': 'MNXR94991',\n",
       " 'ABTA': 'MNXR95186',\n",
       " 'ABTArm': 'MNXR95186',\n",
       " 'ABTD': 'MNXR95187',\n",
       " 'ABTDG': 'MNXR95188',\n",
       " 'ABTpp2': 'MNXR95189',\n",
       " 'ABTt': 'MNXR95190',\n",
       " 'ABTt_1': 'MNXR95190',\n",
       " 'ABTti': 'MNXR95190',\n",
       " 'ABUTD': 'MNXR95191',\n",
       " 'ABUTDm': 'MNXR95191',\n",
       " 'ABUTt2pp': 'MNXR94994',\n",
       " 'ABUTt2r': 'MNXR94994',\n",
       " 'ABUTt2rL': 'MNXR94994',\n",
       " 'ABUTt4_2_r': 'MNXR95192',\n",
       " 'ABUTtex': 'MNXR94993',\n",
       " 'ABZtex': 'MNXR94995',\n",
       " 'ACACCT': 'MNXR95193',\n",
       " 'ACACT1': 'MNXR95194',\n",
       " 'ACACT10m': 'MNXR95195',\n",
       " 'ACACT1m': 'MNXR95194',\n",
       " 'ACACT1r': 'MNXR95194',\n",
       " 'ACACT1x': 'MNXR95194',\n",
       " 'ACACT2': 'MNXR95196',\n",
       " 'ACACT2m': 'MNXR95196',\n",
       " 'ACACT2r': 'MNXR95196',\n",
       " 'ACACT3': 'MNXR95197',\n",
       " 'ACACT3m': 'MNXR95197',\n",
       " 'ACACT3r': 'MNXR95197',\n",
       " 'ACACT4m': 'MNXR95198',\n",
       " 'ACACT4p': 'MNXR95198',\n",
       " 'ACACT4r': 'MNXR95198',\n",
       " 'ACACT5m': 'MNXR95199',\n",
       " 'ACACT5p': 'MNXR95199',\n",
       " 'ACACT5r': 'MNXR95199',\n",
       " 'ACACT5r_1': 'MNXR95200',\n",
       " 'ACACT6m': 'MNXR95201',\n",
       " 'ACACT6p': 'MNXR95201',\n",
       " 'ACACT6r': 'MNXR95201',\n",
       " 'ACACT6r_1': 'MNXR95202',\n",
       " 'ACACT7m': 'MNXR95203',\n",
       " 'ACACT7p': 'MNXR95203',\n",
       " 'ACACT7r': 'MNXR95203',\n",
       " 'ACACT8p': 'MNXR95204',\n",
       " 'ACACT8r': 'MNXR95204',\n",
       " 'ACACT9p': 'MNXR95205',\n",
       " 'ACACT9p_cho': 'MNXR95206',\n",
       " 'ACACt2': 'MNXR95207',\n",
       " 'ACACt2m': 'MNXR95207',\n",
       " 'ACACt2pp': 'MNXR95207',\n",
       " 'ACACtex': 'MNXR95208',\n",
       " 'ACACtm': 'MNXR95208',\n",
       " 'ACACtx': 'MNXR95208',\n",
       " 'ACAFDOR': 'MNXR95209',\n",
       " 'ACALD': 'MNXR95210',\n",
       " 'ACALDCD': 'MNXR95211',\n",
       " 'ACALDh': 'MNXR95210',\n",
       " 'ACALDt': 'MNXR95212',\n",
       " 'ACALDtex': 'MNXR95212',\n",
       " 'ACALDtm': 'MNXR95212',\n",
       " 'ACALDtpp': 'MNXR95212',\n",
       " 'ACALDtr': 'MNXR95212',\n",
       " 'ACALDtx': 'MNXR95212',\n",
       " 'ACALDtx_1': 'MNXR95212',\n",
       " 'ACANTHAT': 'MNXR95213',\n",
       " 'ACAROtu': 'MNXR95214',\n",
       " 'ACAS_2ahbut': 'MNXR95215',\n",
       " 'ACBIPGT': 'MNXR95216',\n",
       " 'ACCAHh': 'MNXR95217',\n",
       " 'ACCAHm': 'MNXR95217',\n",
       " 'ACCC': 'MNXR95218',\n",
       " 'ACCOAC': 'MNXR95219',\n",
       " 'ACCOAC_1': 'MNXR95220',\n",
       " 'ACCOACrm': 'MNXR95219',\n",
       " 'ACCOAL': 'MNXR95221',\n",
       " 'ACCOALm': 'MNXR95222',\n",
       " 'ACCOAgt': 'MNXR95223',\n",
       " 'ACCOAhi': 'MNXR95219',\n",
       " 'ACCOAth': 'MNXR95224',\n",
       " 'ACCOAtm': 'MNXR95224',\n",
       " 'ACCOAtm_1': 'MNXR95223',\n",
       " 'ACCOAtn': 'MNXR95223',\n",
       " 'ACCOAtr': 'MNXR95223',\n",
       " 'ACCOAts': 'MNXR95223',\n",
       " 'ACCOAtx': 'MNXR95224',\n",
       " 'ACChex': 'MNXR95225',\n",
       " 'ACDHmi': 'MNXR95226',\n",
       " 'ACDO': 'MNXR95227',\n",
       " 'ACDO_co': 'MNXR95228',\n",
       " 'ACESt': 'MNXR95229',\n",
       " 'ACETONEt2': 'MNXR95230',\n",
       " 'ACETONEt2m': 'MNXR95230',\n",
       " 'ACGAGBSIDEtg': 'MNXR95231',\n",
       " 'ACGAGBSIDEtg_cho': 'MNXR95232',\n",
       " 'ACGAGBSIDEtl': 'MNXR95231',\n",
       " 'ACGAGBSIDEtl_cho': 'MNXR95232',\n",
       " 'ACGAL1PPpp': 'MNXR95233',\n",
       " 'ACGAL1Ptex': 'MNXR95234',\n",
       " 'ACGAL6PI': 'MNXR95235',\n",
       " 'ACGAL6PISO': 'MNXR95236',\n",
       " 'ACGALFUCGALACGALFUC12GAL14ACGLCGALGLUSIDEte': 'MNXR95237',\n",
       " 'ACGALFUCGALACGALFUC12GAL14ACGLCGALGLUSIDEte_cho': 'MNXR95238',\n",
       " 'ACGALFUCGALACGALFUC12GAL14ACGLCGALGLUSIDEtg': 'MNXR95237',\n",
       " 'ACGALFUCGALACGALFUC12GAL14ACGLCGALGLUSIDEtg_cho': 'MNXR95238',\n",
       " 'ACGALFUCGALACGALFUCGALACGLCGAL14ACGLCGALGLUSIDEte': 'MNXR95239',\n",
       " 'ACGALFUCGALACGALFUCGALACGLCGAL14ACGLCGALGLUSIDEte_cho': 'MNXR95240',\n",
       " 'ACGALFUCGALACGALFUCGALACGLCGAL14ACGLCGALGLUSIDEtg': 'MNXR95239',\n",
       " 'ACGALFUCGALACGALFUCGALACGLCGAL14ACGLCGALGLUSIDEtg_cho': 'MNXR95240',\n",
       " 'ACGALK': 'MNXR95241',\n",
       " 'ACGALK2': 'MNXR95242',\n",
       " 'ACGALptspp': 'MNXR95243',\n",
       " 'ACGALtex': 'MNXR95244',\n",
       " 'ACGALtlg': 'MNXR95244',\n",
       " 'ACGALtly': 'MNXR95244',\n",
       " 'ACGAM1PPpp': 'MNXR95245',\n",
       " 'ACGAM1Ptex': 'MNXR95246',\n",
       " 'ACGAM2E': 'MNXR95247',\n",
       " 'ACGAM6PS': 'MNXR95248',\n",
       " 'ACGAMK': 'MNXR95249',\n",
       " 'ACGAMPM': 'MNXR95250',\n",
       " 'ACGAMT': 'MNXR95251',\n",
       " 'ACGAMtly': 'MNXR95252',\n",
       " 'ACGApts': 'MNXR95253',\n",
       " 'ACGAptspp': 'MNXR95253',\n",
       " 'ACGAtex': 'MNXR95252',\n",
       " 'ACGBGBSIDEtg': 'MNXR95254',\n",
       " 'ACGBGBSIDEtg_cho': 'MNXR95255',\n",
       " 'ACGBGBSIDEtl': 'MNXR95254',\n",
       " 'ACGBGBSIDEtl_cho': 'MNXR95255',\n",
       " 'ACGK': 'MNXR95256',\n",
       " 'ACGKm': 'MNXR95256',\n",
       " 'ACGPID': 'MNXR95257',\n",
       " 'ACGPID_cho': 'MNXR95258',\n",
       " 'ACGS': 'MNXR95259',\n",
       " 'ACGSm': 'MNXR95259',\n",
       " 'ACHBS': 'MNXR95260',\n",
       " 'ACHBSm': 'MNXR95260',\n",
       " 'ACHEe': 'MNXR95261',\n",
       " 'ACHLE1': 'MNXR95262',\n",
       " 'ACHLE2': 'MNXR95263',\n",
       " 'ACHLE3': 'MNXR95264',\n",
       " 'ACHMSSELCYSL': 'MNXR95265',\n",
       " 'ACHMSSELCYSLh': 'MNXR95265',\n",
       " 'ACHVESSEC': 'MNXR95266',\n",
       " 'ACHtn': 'MNXR95267',\n",
       " 'ACITL': 'MNXR95268',\n",
       " 'ACKr': 'MNXR95269',\n",
       " 'ACKrh': 'MNXR95269',\n",
       " 'ACKrm': 'MNXR95269',\n",
       " 'ACLDC': 'MNXR95270',\n",
       " 'ACLS': 'MNXR95271',\n",
       " 'ACLS_a': 'MNXR95272',\n",
       " 'ACLSm': 'MNXR95271',\n",
       " 'ACM6PH': 'MNXR95273',\n",
       " 'ACMAMUT': 'MNXR95274',\n",
       " 'ACMANApts': 'MNXR95275',\n",
       " 'ACMANAptspp': 'MNXR95275',\n",
       " 'ACMANAt2': 'MNXR95276',\n",
       " 'ACMANAtex': 'MNXR95277',\n",
       " 'ACMUMptspp': 'MNXR95278',\n",
       " 'ACMUMtex': 'MNXR95279',\n",
       " 'ACN13ACNGALGBSIDEte': 'MNXR95280',\n",
       " 'ACN13ACNGALGBSIDEte_cho': 'MNXR95281',\n",
       " 'ACN13ACNGALGBSIDEtg': 'MNXR95280',\n",
       " 'ACN13ACNGALGBSIDEtg_cho': 'MNXR95281',\n",
       " 'ACN23ACNGALGBSIDEte': 'MNXR95282',\n",
       " 'ACN23ACNGALGBSIDEte_cho': 'MNXR95283',\n",
       " 'ACN23ACNGALGBSIDEtg': 'MNXR95282',\n",
       " 'ACN23ACNGALGBSIDEtg_cho': 'MNXR95283',\n",
       " 'ACNACNGAL14ACGLCGALGLUSIDEte': 'MNXR95284',\n",
       " 'ACNACNGAL14ACGLCGALGLUSIDEte_cho': 'MNXR95285',\n",
       " 'ACNACNGAL14ACGLCGALGLUSIDEtg': 'MNXR95284',\n",
       " 'ACNACNGAL14ACGLCGALGLUSIDEtg_cho': 'MNXR95285',\n",
       " 'ACNACNGALGBSIDEte': 'MNXR95286',\n",
       " 'ACNACNGALGBSIDEte_cho': 'MNXR95287',\n",
       " 'ACNACNGALGBSIDEtg': 'MNXR95286',\n",
       " 'ACNACNGALGBSIDEtg_cho': 'MNXR95287',\n",
       " 'ACNAM9PL': 'MNXR95288',\n",
       " 'ACNAM9PL2': 'MNXR95289',\n",
       " 'ACNAMPH': 'MNXR95290',\n",
       " 'ACNAMlt': 'MNXR95291',\n",
       " 'ACNAMt2': 'MNXR95291',\n",
       " 'ACNAMt2pp': 'MNXR95291',\n",
       " 'ACNAMtex': 'MNXR95292',\n",
       " 'ACNAMtn': 'MNXR95292',\n",
       " 'ACNGALACGLCGAL14ACGLCGALGLUSIDEte': 'MNXR95293',\n",
       " 'ACNGALACGLCGAL14ACGLCGALGLUSIDEte_cho': 'MNXR95294',\n",
       " 'ACNGALACGLCGAL14ACGLCGALGLUSIDEtg': 'MNXR95293',\n",
       " 'ACNGALACGLCGAL14ACGLCGALGLUSIDEtg_cho': 'MNXR95294',\n",
       " 'ACNMCT': 'MNXR95295',\n",
       " 'ACNML': 'MNXR95296',\n",
       " 'ACNPLYS': 'MNXR95297',\n",
       " 'ACOA100OR': 'MNXR95298',\n",
       " 'ACOA120OR': 'MNXR95299',\n",
       " 'ACOA140OR': 'MNXR95300',\n",
       " 'ACOA160OR': 'MNXR95301',\n",
       " 'ACOA40OR': 'MNXR95302',\n",
       " 'ACOA60OR': 'MNXR95303',\n",
       " 'ACOA80OR': 'MNXR95304',\n",
       " 'ACOAD1': 'MNXR95305',\n",
       " 'ACOAD10m': 'MNXR95306',\n",
       " 'ACOAD1f': 'MNXR95302',\n",
       " 'ACOAD1fm': 'MNXR95302',\n",
       " 'ACOAD1z': 'MNXR95307',\n",
       " 'ACOAD2': 'MNXR95308',\n",
       " 'ACOAD20': 'MNXR95309',\n",
       " 'ACOAD2f': 'MNXR95303',\n",
       " 'ACOAD3': 'MNXR95310',\n",
       " 'ACOAD3f': 'MNXR95304',\n",
       " 'ACOAD4': 'MNXR95311',\n",
       " 'ACOAD4_1': 'MNXR95312',\n",
       " 'ACOAD4f': 'MNXR95298',\n",
       " 'ACOAD5': 'MNXR95313',\n",
       " 'ACOAD5_1': 'MNXR95314',\n",
       " 'ACOAD5f': 'MNXR95299',\n",
       " 'ACOAD6': 'MNXR95315',\n",
       " 'ACOAD6f': 'MNXR95300',\n",
       " 'ACOAD7': 'MNXR95316',\n",
       " 'ACOAD7f': 'MNXR95301',\n",
       " 'ACOAD8f': 'MNXR95317',\n",
       " 'ACOAD8m': 'MNXR95318',\n",
       " 'ACOAD9m': 'MNXR95319',\n",
       " 'ACOADAGAT16018111Z160': 'MNXR95320',\n",
       " 'ACOADAGAT16018111Z180': 'MNXR95321',\n",
       " 'ACOADAGAT16018111Z18111Z': 'MNXR95322',\n",
       " 'ACOADAGAT16018111Z1819Z': 'MNXR95323',\n",
       " 'ACOADAGAT16018111Z1835Z9Z12Z': 'MNXR95324',\n",
       " 'ACOADAGAT16018111Z1845Z9Z12Z15Z': 'MNXR95325',\n",
       " 'ACOADAGAT1601819Z160': 'MNXR95326',\n",
       " 'ACOADAGAT1601819Z180': 'MNXR95327',\n",
       " 'ACOADAGAT1601819Z18111Z': 'MNXR95328',\n",
       " 'ACOADAGAT1601819Z1819Z': 'MNXR95329',\n",
       " 'ACOADAGAT1601819Z1835Z9Z12Z': 'MNXR95330',\n",
       " 'ACOADAGAT1601819Z1845Z9Z12Z15Z': 'MNXR95331',\n",
       " 'ACOADAGAT1801819Z160': 'MNXR95332',\n",
       " 'ACOADAGAT1801819Z180': 'MNXR95333',\n",
       " 'ACOADAGAT1801819Z18111Z': 'MNXR95334',\n",
       " 'ACOADAGAT1801819Z1819Z': 'MNXR95335',\n",
       " 'ACOADAGAT1801819Z1835Z9Z12Z': 'MNXR95336',\n",
       " 'ACOADAGAT1801819Z1845Z9Z12Z15Z': 'MNXR95337',\n",
       " 'ACOADAGAT18111Z18111Z160': 'MNXR95338',\n",
       " 'ACOADAGAT18111Z18111Z180': 'MNXR95339',\n",
       " 'ACOADAGAT18111Z18111Z18111Z': 'MNXR95340',\n",
       " 'ACOADAGAT18111Z18111Z1819Z': 'MNXR95341',\n",
       " 'ACOADAGAT18111Z18111Z1835Z9Z12Z': 'MNXR95342',\n",
       " 'ACOADAGAT18111Z18111Z1845Z9Z12Z15Z': 'MNXR95343',\n",
       " 'ACOADAGAT18111Z1819Z160': 'MNXR95344',\n",
       " 'ACOADAGAT18111Z1819Z180': 'MNXR95345',\n",
       " 'ACOADAGAT18111Z1819Z18111Z': 'MNXR95346',\n",
       " 'ACOADAGAT18111Z1819Z1819Z': 'MNXR95347',\n",
       " 'ACOADAGAT18111Z1819Z1835Z9Z12Z': 'MNXR95348',\n",
       " 'ACOADAGAT18111Z1819Z1845Z9Z12Z15Z': 'MNXR95349',\n",
       " 'ACOADAGAT1819Z18111Z160': 'MNXR95350',\n",
       " 'ACOADAGAT1819Z18111Z180': 'MNXR95351',\n",
       " 'ACOADAGAT1819Z18111Z18111Z': 'MNXR95352',\n",
       " 'ACOADAGAT1819Z18111Z1819Z': 'MNXR95353',\n",
       " 'ACOADAGAT1819Z18111Z1835Z9Z12Z': 'MNXR95354',\n",
       " 'ACOADAGAT1819Z18111Z1845Z9Z12Z15Z': 'MNXR95355',\n",
       " 'ACOADAGAT1819Z1819Z160': 'MNXR95356',\n",
       " 'ACOADAGAT1819Z1819Z180': 'MNXR95357',\n",
       " 'ACOADAGAT1819Z1819Z18111Z': 'MNXR95358',\n",
       " 'ACOADAGAT1819Z1819Z1819Z': 'MNXR95359',\n",
       " 'ACOADAGAT1819Z1819Z1835Z9Z12Z': 'MNXR95360',\n",
       " 'ACOADAGAT1819Z1819Z1845Z9Z12Z15Z': 'MNXR95361',\n",
       " 'ACOADH1': 'MNXR95306',\n",
       " 'ACOADH2': 'MNXR95362',\n",
       " 'ACOAH': 'MNXR95363',\n",
       " 'ACOAHi': 'MNXR95363',\n",
       " 'ACOAHim': 'MNXR95363',\n",
       " 'ACOAO4p': 'MNXR95364',\n",
       " 'ACOAO5p': 'MNXR95365',\n",
       " 'ACOAO6p': 'MNXR95366',\n",
       " 'ACOAO7p': 'MNXR95367',\n",
       " 'ACOAO8p': 'MNXR95368',\n",
       " 'ACOAO9p': 'MNXR95369',\n",
       " 'ACOAR2m': 'MNXR95370',\n",
       " 'ACOAR3m': 'MNXR95371',\n",
       " 'ACOAR4m': 'MNXR95372',\n",
       " 'ACOAR5m': 'MNXR95373',\n",
       " 'ACOAR6m': 'MNXR95374',\n",
       " 'ACOAR7m': 'MNXR95375',\n",
       " 'ACOATA': 'MNXR95376',\n",
       " 'ACOATA_1': 'MNXR95376',\n",
       " 'ACOATAm': 'MNXR95376',\n",
       " 'ACODA': 'MNXR95377',\n",
       " 'ACODA_1': 'MNXR95377',\n",
       " 'ACOLIPAabctex': 'MNXR95378',\n",
       " 'ACOLIPAtex': 'MNXR95379',\n",
       " 'ACON3MT': 'MNXR95380',\n",
       " 'ACONCtex': 'MNXR95381',\n",
       " 'ACONCtupp': 'MNXR95381',\n",
       " 'ACONIs': 'MNXR95382',\n",
       " 'ACONMT': 'MNXR95383',\n",
       " 'ACONT': 'MNXR95384',\n",
       " 'ACONT3m': 'MNXR95385',\n",
       " 'ACONTa': 'MNXR95386',\n",
       " 'ACONTb': 'MNXR95387',\n",
       " 'ACONTm': 'MNXR95384',\n",
       " 'ACONTx': 'MNXR95384',\n",
       " 'ACOTA': 'MNXR95388',\n",
       " 'ACOTAim': 'MNXR95388',\n",
       " 'ACOX22x': 'MNXR95389',\n",
       " 'ACOX2x': 'MNXR95390',\n",
       " 'ACP1619ZD9DS': 'MNXR95391',\n",
       " 'ACP1819ZD9DS': 'MNXR95392',\n",
       " 'ACP1_FMN': 'MNXR95393',\n",
       " 'ACP1e': 'MNXR95393',\n",
       " 'ACPCS': 'MNXR95394',\n",
       " 'ACPPAT120': 'MNXR95395',\n",
       " 'ACPPAT140': 'MNXR95396',\n",
       " 'ACPPAT141': 'MNXR95397',\n",
       " 'ACPPAT160': 'MNXR95398',\n",
       " 'ACPPAT161': 'MNXR95399',\n",
       " 'ACPPAT180': 'MNXR95400',\n",
       " 'ACPPAT181': 'MNXR95401',\n",
       " 'ACPS': 'MNXR95402',\n",
       " 'ACPS1': 'MNXR95403',\n",
       " 'ACPS1_1': 'MNXR95403',\n",
       " 'ACPS1h': 'MNXR95403',\n",
       " 'ACPSm': 'MNXR95402',\n",
       " 'ACPT16018111Z': 'MNXR95404',\n",
       " 'ACPT1601819Z': 'MNXR95405',\n",
       " 'ACPT18111Z18111Z': 'MNXR95406',\n",
       " 'ACPT18111Z1819Z': 'MNXR95407',\n",
       " 'ACPT1819Z18111Z': 'MNXR95408',\n",
       " 'ACPT1819Z1819Z': 'MNXR95409',\n",
       " 'ACPh': 'MNXR95410',\n",
       " 'ACPpds': 'MNXR95411',\n",
       " 'ACRNtm': 'MNXR95412',\n",
       " 'ACRNtp': 'MNXR95412',\n",
       " 'ACRS': 'MNXR94731',\n",
       " 'ACRSP': 'MNXR94815',\n",
       " 'ACS': 'MNXR95413',\n",
       " 'ACS2': 'MNXR95222',\n",
       " 'ACSERL': 'MNXR95414',\n",
       " 'ACSERLh': 'MNXR95414',\n",
       " 'ACSERLm': 'MNXR95414',\n",
       " 'ACSERSULL': 'MNXR95415',\n",
       " 'ACSERSULLh': 'MNXR95415',\n",
       " 'ACSERSULLm': 'MNXR95415',\n",
       " 'ACSERtex': 'MNXR95416',\n",
       " 'ACSERthi': 'MNXR95416',\n",
       " 'ACSERtmi': 'MNXR95416',\n",
       " 'ACSERtpp': 'MNXR95416',\n",
       " 'ACSOMT': 'MNXR95417',\n",
       " 'ACSRTNMT': 'MNXR95418',\n",
       " 'ACSm': 'MNXR95413',\n",
       " 'ACSp': 'MNXR95413',\n",
       " 'ACTD': 'MNXR95419',\n",
       " 'ACTD2': 'MNXR95420',\n",
       " 'ACTDa': 'MNXR95421',\n",
       " ...}"
      ]
     },
     "execution_count": 22,
     "metadata": {},
     "output_type": "execute_result"
    }
   ],
   "source": [
    "reac_xref_MNXR_bigg = read_csv(\"/Users/lizrad/Documents/Vibrio_folder/reac_xref.tsv\" , sep='\\t', low_memory=False)\n",
    "df_bigg = reac_xref_MNXR_bigg.loc[4:26955,'XREF':'MNX_ID']\n",
    "pivoted_bigg = df_bigg.pivot_table(index='XREF',columns='XREF_ID',values='MNX_ID',aggfunc = lambda x: x)\n",
    "pivoted_bigg=pivoted_bigg.drop(['metanetx'])\n",
    "pivoted_bigg\n",
    "reac_xref_MNX_bigg_dict = pivoted_bigg.to_dict('index')\n",
    "reac_xref_MNX_bigg_dict2 = reac_xref_MNX_bigg_dict['bigg']\n",
    "reac_xref_MNX_bigg_dict2"
   ]
  },
  {
   "cell_type": "code",
   "execution_count": 23,
   "metadata": {},
   "outputs": [
    {
     "name": "stdout",
     "output_type": "stream",
     "text": [
      "rxn02201\n",
      "rxn00351\n",
      "rxn07431\n",
      "rxn00836\n",
      "rxn02209\n",
      "rxn00390\n",
      "rxn08180\n",
      "rxn05318\n",
      "rxn00062\n",
      "rxn06472\n",
      "rxn11567\n",
      "rxn00423\n",
      "rxn00364\n",
      "rxn05561\n",
      "rxn03408\n",
      "rxn02177\n",
      "rxn05250\n",
      "rxn00646\n",
      "rxn00935\n",
      "rxn01673\n",
      "rxn00247\n",
      "rxn05625\n",
      "rxn02360\n",
      "rxn02342\n",
      "rxn10311\n",
      "rxn05156\n",
      "rxn00022\n",
      "rxn00973\n",
      "rxn04031\n",
      "rxn02000\n",
      "rxn03239\n",
      "rxn03120\n",
      "rxn02632\n",
      "rxn11962\n",
      "rxn00322\n",
      "rxn03883\n",
      "rxn05063\n",
      "rxn05457\n",
      "rxn00107\n",
      "rxn04271\n",
      "rxn13783\n",
      "rxn10118\n",
      "rxn05392\n",
      "rxn12008\n",
      "rxn04600\n",
      "rxn04681\n",
      "rxn04070\n",
      "rxn00199\n",
      "rxn01358\n",
      "rxn10231\n",
      "rxn02944\n",
      "rxn01867\n",
      "rxn04648\n",
      "rxn10270\n",
      "rxn12637\n",
      "rxn03046\n",
      "rxn09240\n",
      "rxn01219\n",
      "rxn05958\n",
      "rxn00519\n",
      "rxn00258\n",
      "rxn00800\n",
      "rxn01705\n",
      "rxn09177\n",
      "rxn00211\n",
      "rxn00179\n",
      "rxn01210\n",
      "rxn00730\n",
      "rxn00192\n",
      "rxn01218\n",
      "rxn05367\n",
      "rxn03456\n",
      "rxn03360\n",
      "rxn02898\n",
      "rxn05654\n",
      "rxn01199\n",
      "rxn00545\n",
      "rxn00771\n",
      "rxn02319\n",
      "rxn08807\n",
      "rxn05614\n",
      "rxn00501\n",
      "rxn00257\n",
      "rxn10344\n",
      "rxn01547\n",
      "rxn10336\n",
      "rxn02320\n",
      "rxn03384\n",
      "rxn06208\n",
      "rxn01405\n",
      "rxn02504\n",
      "rxn04082\n",
      "rxn04996\n",
      "rxn00262\n",
      "rxn05404\n",
      "rxn02796\n",
      "rxn10262\n",
      "rxn10126\n",
      "rxn10209\n",
      "rxn08084\n",
      "rxn10225\n",
      "rxn03463\n",
      "rxn01486\n",
      "rxn00898\n",
      "rxn05334\n",
      "rxn10205\n",
      "rxn05040\n",
      "rxn05400\n",
      "rxn01636\n",
      "rxn05235\n",
      "rxn02090\n",
      "rxn08556\n",
      "rxn00816\n",
      "rxn01750\n",
      "rxn02988\n",
      "rxn04792\n",
      "rxn01021\n",
      "rxn00165\n",
      "rxn10228\n",
      "rxn01117\n",
      "rxn02610\n",
      "rxn05814\n",
      "rxn05542\n",
      "rxn00539\n",
      "rxn11726\n",
      "rxn13990\n",
      "rxn00678\n",
      "rxn00001\n",
      "rxn04951\n",
      "rxn09685\n",
      "rxn01331\n",
      "rxn05545\n",
      "rxn00958\n",
      "rxn00671\n",
      "rxn11268\n",
      "rxn00710\n",
      "rxn01114\n",
      "rxn02305\n",
      "rxn00470\n",
      "rxn08817\n",
      "rxn00910\n",
      "rxn11944\n",
      "rxn01129\n",
      "rxn08296\n",
      "rxn05541\n",
      "rxn00717\n",
      "rxn08710\n",
      "rxn05647\n",
      "rxn01297\n",
      "rxn10254\n",
      "rxn00987\n",
      "rxn05459\n",
      "rxn05453\n",
      "rxn01682\n",
      "rxn08796\n",
      "rxn03142\n",
      "rxn03181\n",
      "rxn01048\n",
      "rxn02586\n",
      "rxn02331\n",
      "rxn06493\n",
      "rxn10214\n",
      "rxn12846\n",
      "rxn00337\n",
      "rxn01231\n",
      "rxn05221\n",
      "rxn08308\n",
      "rxn00208\n",
      "rxn02812\n",
      "rxn08823\n",
      "rxn02552\n",
      "rxn00140\n",
      "rxn05346\n",
      "rxn00867\n",
      "rxn07680\n",
      "rxn01523\n",
      "rxn00452\n",
      "rxn03248\n",
      "rxn08127\n",
      "rxn05516\n",
      "rxn05142\n",
      "rxn05733\n",
      "rxn00416\n",
      "rxn02270\n",
      "rxn09206\n",
      "rxn12158\n",
      "rxn02376\n",
      "rxn10147\n",
      "rxn09209\n",
      "rxn12512\n",
      "rxn08669\n",
      "rxn07902\n",
      "rxn00902\n",
      "rxn00015\n",
      "rxn00658\n",
      "rxn06672\n",
      "rxn02961\n",
      "rxn03872\n",
      "rxn00649\n",
      "rxn06633\n",
      "rxn01739\n",
      "rxn02400\n",
      "rxn01268\n",
      "rxn00361\n",
      "rxn01421\n",
      "rxn07434\n",
      "rxn01974\n",
      "rxn01287\n",
      "rxn00242\n",
      "rxn12641\n",
      "rxn00068\n",
      "rxn00568\n",
      "rxn08971\n",
      "rxn05316\n",
      "rxn01635\n",
      "rxn04384\n",
      "rxn03887\n",
      "rxn00060\n",
      "rxn00225\n",
      "rxn05350\n",
      "rxn09198\n",
      "rxn08838\n",
      "rxn00780\n",
      "rxn05064\n",
      "rxn00148\n",
      "rxn01102\n",
      "rxn07367\n",
      "rxn05569\n",
      "rxn05358\n",
      "rxn00100\n",
      "rxn03482\n",
      "rxn02842\n",
      "rxn00789\n",
      "rxn02374\n",
      "rxn03436\n",
      "rxn05560\n",
      "rxn00837\n",
      "rxn08976\n",
      "rxn00781\n",
      "rxn09264\n",
      "rxn05319\n",
      "rxn00881\n",
      "rxn05298\n",
      "rxn10157\n",
      "rxn09265\n",
      "rxn05408\n",
      "rxn10337\n",
      "rxn08336\n",
      "rxn05293\n",
      "rxn05401\n",
      "rxn02264\n",
      "rxn00212\n",
      "rxn10338\n",
      "rxn05198\n",
      "rxn03185\n",
      "rxn09202\n",
      "rxn07177\n",
      "rxn01451\n",
      "rxn02687\n",
      "rxn03903\n",
      "rxn00097\n",
      "rxn01217\n",
      "rxn02212\n",
      "rxn00695\n",
      "rxn07670\n",
      "rxn05116\n",
      "rxn05324\n",
      "rxn10481\n",
      "rxn03535\n",
      "rxn00655\n",
      "rxn00692\n",
      "rxn01492\n",
      "rxn00802\n",
      "rxn02761\n",
      "rxn02160\n",
      "rxn08802\n",
      "rxn01825\n",
      "rxn10230\n",
      "rxn05413\n",
      "rxn02703\n",
      "rxn00913\n",
      "rxn01997\n",
      "rxn08521\n",
      "rxn08809\n",
      "rxn00171\n",
      "rxn05014\n",
      "rxn03958\n",
      "rxn00259\n",
      "rxn00345\n",
      "rxn05578\n",
      "rxn07219\n",
      "rxn00178\n",
      "rxn01362\n",
      "rxn03174\n",
      "rxn10125\n",
      "rxn00038\n",
      "rxn05161\n",
      "rxn00549\n",
      "rxn03951\n",
      "rxn02938\n",
      "rxn04779\n",
      "rxn07875\n",
      "rxn05418\n",
      "rxn05200\n",
      "rxn00506\n",
      "rxn04713\n",
      "rxn00584\n",
      "rxn11723\n",
      "rxn10060\n",
      "rxn02933\n",
      "rxn02416\n",
      "rxn00727\n",
      "rxn10307\n",
      "rxn05617\n",
      "rxn12638\n",
      "rxn05243\n",
      "rxn02268\n",
      "rxn05127\n",
      "rxn09105\n",
      "rxn00305\n",
      "rxn01445\n",
      "rxn05248\n",
      "rxn00612\n",
      "rxn05539\n",
      "rxn08841\n",
      "rxn05461\n",
      "rxn07312\n",
      "rxn12405\n",
      "rxn01701\n",
      "rxn02159\n",
      "rxn01111\n",
      "rxn08083\n",
      "rxn10222\n",
      "rxn03038\n",
      "rxn10263\n",
      "rxn02791\n",
      "rxn05466\n",
      "rxn08814\n",
      "rxn08845\n",
      "rxn00395\n",
      "rxn01292\n",
      "rxn00375\n",
      "rxn00300\n",
      "rxn01925\n",
      "rxn02380\n",
      "rxn02026\n",
      "rxn08792\n",
      "rxn00999\n",
      "rxn07907\n",
      "rxn07347\n",
      "rxn10131\n",
      "rxn05417\n",
      "rxn01599\n",
      "rxn08799\n",
      "rxn05234\n",
      "rxn00433\n",
      "rxn01157\n",
      "rxn07848\n",
      "rxn05957\n",
      "rxn01844\n",
      "rxn05335\n",
      "rxn03023\n",
      "rxn00537\n",
      "rxn03419\n",
      "rxn08551\n",
      "rxn03064\n",
      "rxn10256\n",
      "rxn04781\n",
      "rxn00679\n",
      "rxn01516\n",
      "rxn00758\n",
      "rxn03753\n",
      "rxn00272\n",
      "rxn05555\n",
      "rxn10314\n",
      "rxn09111\n",
      "rxn12432\n",
      "rxn01746\n",
      "rxn06078\n",
      "rxn00471\n",
      "rxn05607\n",
      "rxn03848\n",
      "rxn05348\n",
      "rxn07353\n",
      "rxn00798\n",
      "rxn03245\n",
      "rxn11946\n",
      "rxn01504\n",
      "rxn00907\n",
      "rxn05458\n",
      "rxn10213\n",
      "rxn05229\n",
      "rxn08300\n",
      "rxn08297\n",
      "rxn02911\n",
      "rxn00012\n",
      "rxn02444\n",
      "rxn01280\n",
      "rxn05581\n",
      "rxn07721\n",
      "rxn01161\n",
      "rxn03610\n",
      "rxn12847\n",
      "rxn05410\n",
      "rxn09320\n",
      "rxn09114\n",
      "rxn05535\n",
      "rxn09188\n",
      "rxn01422\n",
      "rxn09180\n",
      "rxn08822\n",
      "rxn04677\n",
      "rxn02782\n",
      "rxn02821\n",
      "rxn10208\n",
      "rxn01620\n",
      "rxn05345\n",
      "rxn04068\n",
      "rxn01522\n",
      "rxn00336\n",
      "rxn05422\n",
      "rxn03891\n",
      "rxn01465\n",
      "rxn03052\n",
      "rxn10204\n",
      "rxn09997\n",
      "rxn05145\n",
      "rxn01872\n",
      "rxn01301\n",
      "rxn01643\n",
      "rxn04457\n",
      "rxn04598\n",
      "rxn02449\n",
      "rxn02969\n",
      "rxn02170\n",
      "rxn00248\n",
      "rxn00295\n",
      "rxn00499\n",
      "rxn05953\n",
      "rxn08844\n",
      "rxn05385\n",
      "rxn00707\n",
      "rxn00369\n",
      "rxn06937\n",
      "rxn14017\n",
      "rxn01637\n",
      "rxn03095\n",
      "rxn00566\n",
      "rxn00708\n",
      "rxn02284\n",
      "rxn00289\n",
      "rxn07433\n",
      "rxn03762\n",
      "rxn01269\n",
      "rxn00392\n",
      "rxn00747\n",
      "rxn01334\n",
      "rxn00830\n",
      "rxn01108\n",
      "rxn05219\n",
      "rxn10113\n",
      "rxn00879\n",
      "rxn03406\n",
      "rxn00029\n",
      "rxn06673\n",
      "rxn07734\n",
      "rxn12646\n",
      "rxn06777\n",
      "rxn05256\n",
      "rxn02175\n",
      "rxn05317\n",
      "rxn00020\n",
      "rxn02835\n",
      "rxn03440\n",
      "rxn00108\n",
      "rxn03884\n",
      "rxn01901\n",
      "rxn01675\n",
      "rxn00146\n",
      "rxn00324\n",
      "rxn08839\n",
      "rxn03289\n",
      "rxn03536\n",
      "rxn14003\n",
      "rxn01575\n",
      "rxn01454\n",
      "rxn05150\n",
      "rxn00656\n",
      "rxn10335\n",
      "rxn02009\n",
      "rxn01315\n",
      "rxn01868\n",
      "rxn03240\n",
      "rxn09562\n",
      "rxn05359\n",
      "rxn06098\n",
      "rxn00555\n",
      "rxn03282\n",
      "rxn03435\n",
      "rxn03080\n",
      "rxn10237\n",
      "rxn01044\n",
      "rxn05058\n",
      "rxn10011\n",
      "rxn00143\n",
      "rxn12644\n",
      "rxn00147\n",
      "rxn01505\n",
      "rxn00849\n",
      "rxn00737\n",
      "rxn01033\n",
      "rxn08843\n",
      "rxn04723\n",
      "rxn07374\n",
      "rxn00213\n",
      "rxn03040\n",
      "rxn05199\n",
      "rxn10162\n",
      "rxn01629\n",
      "rxn00777\n",
      "rxn05164\n",
      "rxn13784\n",
      "rxn11732\n",
      "rxn01740\n",
      "rxn05533\n",
      "rxn00588\n",
      "rxn00190\n",
      "rxn00968\n",
      "rxn05327\n",
      "rxn04841\n",
      "rxn05205\n",
      "rxn01013\n",
      "rxn10123\n",
      "rxn02728\n",
      "rxn06281\n",
      "rxn02762\n",
      "rxn00668\n",
      "rxn05655\n",
      "rxn02314\n",
      "rxn08801\n",
      "rxn02161\n",
      "rxn05244\n",
      "rxn00503\n",
      "rxn00251\n",
      "rxn04043\n",
      "rxn10432\n",
      "rxn00139\n",
      "rxn07261\n",
      "rxn00920\n",
      "rxn00790\n",
      "rxn02936\n",
      "rxn03910\n",
      "rxn00237\n",
      "rxn00422\n",
      "rxn07100\n",
      "rxn10342\n",
      "rxn03540\n",
      "rxn08086\n",
      "rxn08311\n",
      "rxn03919\n",
      "rxn03175\n",
      "rxn10264\n",
      "rxn10124\n",
      "rxn03421\n",
      "rxn10227\n",
      "rxn01146\n",
      "rxn05336\n",
      "rxn09210\n",
      "rxn01484\n",
      "rxn04712\n",
      "rxn02112\n",
      "rxn00162\n",
      "rxn06022\n",
      "rxn01124\n",
      "rxn00285\n",
      "rxn05371\n",
      "rxn04794\n",
      "rxn07584\n",
      "rxn00182\n",
      "rxn01416\n",
      "rxn05567\n",
      "rxn02181\n",
      "rxn03935\n",
      "rxn00532\n",
      "rxn05172\n",
      "rxn01642\n",
      "rxn00132\n",
      "rxn11724\n",
      "rxn01204\n",
      "rxn04052\n",
      "rxn04323\n",
      "rxn02819\n",
      "rxn00712\n",
      "rxn01479\n",
      "rxn08615\n",
      "rxn12850\n",
      "rxn08815\n",
      "rxn00472\n",
      "rxn00126\n",
      "rxn01518\n",
      "rxn01015\n",
      "rxn12844\n",
      "rxn10216\n",
      "rxn01684\n",
      "rxn09988\n",
      "rxn08798\n",
      "rxn06461\n",
      "rxn05175\n",
      "rxn01478\n",
      "rxn00058\n",
      "rxn05034\n",
      "rxn13385\n",
      "rxn08306\n",
      "rxn08821\n",
      "rxn06869\n",
      "rxn00206\n",
      "rxn11755\n",
      "rxn01871\n",
      "rxn05340\n",
      "rxn00484\n",
      "rxn00405\n",
      "rxn04704\n",
      "rxn05307\n",
      "rxn01169\n",
      "rxn14301\n",
      "rxn00299\n",
      "rxn08546\n",
      "rxn12013\n",
      "rxn06181\n",
      "rxn00756\n",
      "rxn05389\n",
      "rxn08900\n",
      "rxn07230\n",
      "rxn04737\n",
      "rxn10180\n",
      "rxn05735\n",
      "rxn03921\n",
      "rxn07350\n",
      "rxn12153\n",
      "rxn00904\n",
      "rxn02484\n",
      "rxn02916\n",
      "rxn03618\n",
      "rxn04597\n",
      "rxn01133\n",
      "rxn12639\n",
      "rxn03159\n",
      "rxn00875\n",
      "rxn01000\n",
      "rxn03397\n",
      "rxn00363\n",
      "rxn01462\n",
      "rxn08128\n",
      "rxn01281\n",
      "rxn01670\n",
      "rxn12643\n",
      "rxn02522\n",
      "rxn05183\n",
      "rxn01706\n",
      "rxn11703\n",
      "rxn01300\n",
      "rxn07899\n",
      "rxn00601\n",
      "rxn02334\n",
      "rxn00321\n",
      "rxn00786\n",
      "rxn05066\n",
      "rxn14054\n",
      "rxn03012\n",
      "rxn03908\n",
      "rxn09197\n",
      "rxn00740\n",
      "rxn01100\n",
      "rxn00838\n",
      "rxn08707\n",
      "rxn00102\n",
      "rxn02283\n",
      "rxn03287\n",
      "rxn00512\n",
      "rxn05396\n",
      "rxn00831\n",
      "rxn03721\n",
      "rxn00748\n",
      "rxn01352\n",
      "rxn12634\n",
      "rxn00883\n",
      "rxn01457\n",
      "rxn01255\n",
      "rxn05872\n",
      "rxn10014\n",
      "rxn04727\n",
      "rxn00776\n",
      "rxn11569\n",
      "rxn10155\n",
      "rxn05251\n",
      "rxn05485\n",
      "rxn14089\n",
      "rxn00214\n",
      "rxn01895\n",
      "rxn07268\n",
      "rxn01211\n",
      "rxn01453\n",
      "rxn01981\n",
      "rxn05496\n",
      "rxn00109\n",
      "rxn00527\n",
      "rxn00095\n",
      "rxn01215\n",
      "rxn12224\n",
      "rxn05322\n",
      "rxn12848\n",
      "rxn03003\n",
      "rxn05151\n",
      "rxn03537\n",
      "rxn08804\n",
      "rxn01316\n",
      "rxn00966\n",
      "rxn13782\n",
      "rxn04270\n",
      "rxn05430\n",
      "rxn11838\n",
      "rxn01917\n",
      "rxn10236\n",
      "rxn08527\n",
      "rxn05501\n",
      "rxn01509\n",
      "rxn02011\n",
      "rxn00173\n",
      "rxn01548\n",
      "rxn08528\n",
      "rxn01145\n",
      "rxn09688\n",
      "rxn09205\n",
      "rxn05163\n",
      "rxn00158\n",
      "rxn05364\n",
      "rxn01854\n",
      "rxn09201\n",
      "rxn03426\n",
      "rxn03637\n",
      "rxn05202\n",
      "rxn03035\n",
      "rxn02115\n",
      "rxn10122\n",
      "rxn05547\n",
      "rxn11721\n",
      "rxn08352\n",
      "rxn09106\n",
      "rxn00187\n",
      "rxn00376\n",
      "rxn07903\n",
      "rxn08850\n",
      "rxn00500\n",
      "rxn05734\n",
      "rxn00772\n",
      "rxn09103\n",
      "rxn02229\n",
      "rxn00721\n",
      "rxn08812\n",
      "rxn00546\n",
      "rxn05682\n",
      "rxn00006\n",
      "rxn02503\n",
      "rxn05338\n",
      "rxn02262\n",
      "rxn00627\n",
      "rxn03135\n",
      "rxn04324\n",
      "rxn08085\n",
      "rxn12146\n",
      "rxn01345\n",
      "rxn05429\n",
      "rxn10265\n",
      "rxn08310\n",
      "rxn06910\n",
      "rxn00915\n",
      "rxn03837\n",
      "rxn00373\n",
      "rxn06328\n",
      "rxn02853\n",
      "rxn01515\n",
      "rxn06752\n",
      "rxn03462\n",
      "rxn10224\n",
      "rxn05337\n",
      "rxn10133\n",
      "rxn01135\n",
      "rxn01477\n",
      "rxn01653\n",
      "rxn00474\n",
      "rxn03147\n",
      "rxn03843\n",
      "rxn05376\n",
      "rxn01123\n",
      "rxn08557\n",
      "rxn01842\n",
      "rxn11809\n",
      "rxn09687\n",
      "rxn01116\n",
      "rxn00606\n",
      "rxn02182\n",
      "rxn02811\n",
      "rxn05173\n",
      "rxn03062\n",
      "rxn10258\n",
      "rxn00829\n",
      "rxn08847\n",
      "rxn00868\n",
      "rxn05608\n",
      "rxn00572\n",
      "rxn03326\n",
      "rxn00670\n",
      "rxn01544\n",
      "rxn00863\n",
      "rxn09113\n",
      "rxn11719\n",
      "rxn00711\n",
      "rxn05557\n",
      "rxn10184\n",
      "rxn01270\n",
      "rxn01763\n",
      "rxn00473\n",
      "rxn00908\n",
      "rxn08299\n",
      "rxn08711\n",
      "rxn00795\n",
      "rxn05982\n",
      "rxn05515\n",
      "rxn00986\n",
      "rxn10215\n",
      "rxn06356\n",
      "rxn01138\n",
      "rxn14090\n",
      "rxn02402\n",
      "rxn08291\n",
      "rxn02036\n",
      "rxn05452\n",
      "rxn01607\n",
      "rxn05465\n",
      "rxn12845\n",
      "rxn08820\n",
      "rxn05494\n",
      "rxn05380\n",
      "rxn05347\n",
      "rxn06077\n",
      "rxn04413\n",
      "rxn00404\n",
      "rxn03897\n",
      "rxn00145\n",
      "rxn08126\n",
      "rxn03407\n",
      "rxn08547\n",
      "rxn05143\n",
      "rxn05732\n",
      "rxn05388\n",
      "rxn02527\n",
      "rxn01870\n",
      "rxn08901\n",
      "rxn00113\n",
      "rxn04736\n",
      "rxn00497\n",
      "rxn00137\n",
      "rxn06023\n",
      "rxn03481\n",
      "rxn00611\n",
      "rxn07435\n",
      "rxn01678\n",
      "rxn02286\n",
      "rxn00394\n",
      "rxn00872\n",
      "rxn05919\n",
      "rxn00832\n",
      "rxn04599\n",
      "rxn05871\n",
      "rxn01106\n",
      "rxn12640\n",
      "rxn00690\n",
      "rxn08438\n",
      "rxn00931\n",
      "rxn06771\n",
      "rxn02418\n",
      "rxn08756\n",
      "rxn10012\n",
      "rxn09450\n",
      "rxn00938\n",
      "rxn04938\n",
      "rxn00412\n",
      "rxn02339\n",
      "rxn00326\n",
      "rxn00650\n",
      "rxn10094\n",
      "rxn03167\n",
      "rxn05152\n",
      "rxn02737\n",
      "rxn01103\n",
      "rxn01313\n",
      "rxn04604\n",
      "rxn07481\n",
      "rxn00515\n",
      "rxn08846\n",
      "rxn05397\n",
      "rxn03005\n",
      "rxn05012\n",
      "rxn03437\n",
      "rxn01353\n",
      "rxn10235\n",
      "rxn02940\n",
      "rxn12633\n",
      "rxn00882\n",
      "rxn03244\n",
      "rxn04139\n",
      "rxn00616\n",
      "rxn00552\n",
      "rxn01639\n",
      "rxn05409\n",
      "rxn06723\n",
      "rxn00313\n",
      "rxn02949\n",
      "rxn06570\n",
      "rxn00735\n",
      "rxn04278\n",
      "rxn00775\n",
      "rxn02680\n",
      "rxn05405\n",
      "rxn10571\n",
      "rxn02290\n",
      "rxn05363\n",
      "rxn00547\n",
      "rxn01192\n",
      "rxn04750\n",
      "rxn05325\n",
      "rxn14229\n",
      "rxn08647\n",
      "rxn11040\n",
      "rxn03842\n",
      "rxn02760\n",
      "rxn05610\n",
      "rxn03366\n",
      "rxn02421\n",
      "rxn10042\n",
      "rxn08803\n",
      "rxn01053\n",
      "rxn02312\n",
      "rxn08025\n",
      "rxn00622\n",
      "rxn06062\n",
      "rxn03422\n",
      "rxn02895\n",
      "rxn02934\n",
      "rxn08089\n",
      "rxn07688\n",
      "rxn00189\n",
      "rxn10269\n",
      "rxn02508\n",
      "rxn00543\n",
      "rxn00428\n",
      "rxn09992\n",
      "rxn10340\n",
      "rxn00420\n",
      "rxn01500\n",
      "rxn10253\n",
      "rxn10207\n",
      "rxn10221\n",
      "rxn02792\n",
      "rxn05451\n",
      "rxn10476\n",
      "rxn00469\n",
      "rxn10266\n",
      "rxn02804\n",
      "rxn05005\n",
      "rxn02795\n",
      "rxn10203\n",
      "rxn02939\n",
      "rxn00048\n",
      "rxn07876\n",
      "rxn12191\n",
      "rxn05231\n",
      "rxn09200\n",
      "rxn00283\n",
      "rxn11722\n",
      "rxn00726\n",
      "rxn00379\n",
      "rxn01025\n",
      "rxn08851\n",
      "rxn05330\n",
      "rxn02155\n",
      "rxn05549\n",
      "rxn02187\n",
      "rxn02866\n",
      "rxn09102\n",
      "rxn02228\n",
      "rxn11968\n",
      "rxn01754\n",
      "rxn08552\n",
      "rxn05170\n",
      "rxn01390\n",
      "rxn02475\n",
      "rxn00575\n",
      "rxn05339\n",
      "rxn05460\n",
      "rxn02614\n",
      "rxn04325\n",
      "rxn03108\n",
      "rxn10313\n",
      "rxn07449\n",
      "rxn00675\n",
      "rxn01018\n",
      "rxn04132\n",
      "rxn05236\n",
      "rxn00914\n",
      "rxn08813\n",
      "rxn05602\n",
      "rxn00124\n",
      "rxn10219\n",
      "rxn03990\n",
      "rxn11801\n",
      "rxn08793\n",
      "rxn00947\n",
      "rxn02971\n",
      "rxn03247\n",
      "rxn10210\n",
      "rxn00278\n",
      "rxn01017\n",
      "rxn01476\n",
      "rxn00205\n",
      "rxn02576\n",
      "rxn03146\n",
      "rxn03893\n",
      "rxn02789\n",
      "rxn01370\n",
      "rxn07099\n",
      "rxn00988\n",
      "rxn01156\n",
      "rxn01600\n",
      "rxn05455\n",
      "rxn00410\n",
      "rxn03063\n",
      "rxn01333\n",
      "rxn02925\n",
      "rxn10257\n",
      "rxn06586\n",
      "rxn06394\n",
      "rxn12510\n",
      "rxn03933\n",
      "rxn04780\n",
      "rxn07684\n",
      "rxn05342\n",
      "rxn00486\n",
      "rxn05146\n",
      "rxn00414\n",
      "rxn09110\n",
      "rxn00529\n",
      "rxn03970\n",
      "rxn00159\n",
      "rxn05349\n",
      "rxn00303\n",
      "rxn00799\n",
      "rxn03611\n",
      "rxn01977\n",
      "rxn01073\n",
      "rxn02405\n",
      "rxn00011\n",
      "rxn07430\n",
      "rxn01986\n",
      "rxn02200\n",
      "rxn01069\n",
      "rxn05528\n",
      "rxn00791\n",
      "rxn03150\n",
      "rxn00065\n",
      "rxn00365\n",
      "rxn04676\n",
      "rxn08783\n",
      "rxn01827\n",
      "rxn00358\n",
      "rxn02321\n",
      "rxn02263\n",
      "rxn05181\n",
      "rxn05312\n",
      "rxn08975\n",
      "rxn01646\n",
      "rxn06386\n",
      "rxn03378\n",
      "rxn00105\n",
      "rxn03243\n",
      "rxn03446\n",
      "rxn01302\n",
      "rxn00230\n",
      "rxn00607\n",
      "rxn00101\n",
      "rxn02130\n",
      "rxn00223\n",
      "rxn05215\n",
      "rxn00784\n",
      "rxn07363\n",
      "rxn05029\n",
      "rxn00368\n",
      "rxn03273\n",
      "rxn05393\n",
      "rxn01537\n",
      "rxn04603\n",
      "rxn00510\n",
      "rxn00328\n",
      "rxn02285\n",
      "rxn02303\n",
      "rxn03087\n",
      "rxn00227\n",
      "rxn03047\n",
      "rxn02889\n",
      "rxn05663\n",
      "rxn01109\n",
      "rxn08848\n",
      "rxn03934\n",
      "rxn07883\n",
      "rxn00691\n",
      "rxn08840\n",
      "rxn00807\n",
      "rxn05559\n",
      "rxn03923\n",
      "rxn06577\n",
      "rxn03907\n",
      "rxn01987\n",
      "rxn03538\n",
      "rxn09310\n",
      "rxn02834\n",
      "rxn01213\n",
      "rxn06647\n",
      "rxn09953\n",
      "rxn03860\n",
      "rxn00459\n",
      "rxn02085\n",
      "rxn03932\n",
      "rxn12851\n",
      "rxn00770\n",
      "rxn10334\n",
      "rxn05153\n",
      "rxn01314\n",
      "rxn02318\n",
      "rxn08806\n",
      "rxn05195\n",
      "rxn05209\n",
      "rxn06377\n",
      "rxn02359\n",
      "rxn10234\n",
      "rxn05059\n",
      "rxn00175\n",
      "rxn00427\n",
      "rxn01366\n",
      "rxn10121\n",
      "rxn06197\n",
      "rxn01208\n",
      "rxn05165\n",
      "rxn10163\n",
      "rxn10310\n",
      "rxn01143\n",
      "rxn01647\n",
      "rxn10474\n",
      "rxn00260\n",
      "rxn10128\n",
      "rxn10120\n",
      "rxn07454\n",
      "rxn00461\n",
      "rxn05613\n",
      "rxn06037\n",
      "rxn00817\n",
      "rxn00181\n",
      "rxn00669\n",
      "rxn05247\n",
      "rxn11760\n",
      "rxn02460\n",
      "rxn00858\n",
      "rxn03136\n",
      "rxn00222\n",
      "rxn10229\n",
      "rxn12052\n",
      "rxn05287\n",
      "rxn01387\n",
      "rxn00818\n",
      "rxn11727\n",
      "rxn09101\n",
      "rxn02693\n",
      "rxn02937\n",
      "rxn08088\n",
      "rxn00540\n",
      "rxn08810\n",
      "rxn03467\n",
      "rxn01652\n",
      "rxn01615\n",
      "rxn03541\n",
      "rxn00350\n",
      "rxn03137\n",
      "rxn10343\n",
      "rxn05544\n",
      "rxn08087\n",
      "rxn01437\n",
      "rxn01115\n",
      "rxn08818\n",
      "rxn00992\n",
      "rxn10267\n",
      "rxn01128\n",
      "rxn05239\n",
      "rxn08312\n",
      "rxn00952\n",
      "rxn01396\n",
      "rxn00161\n",
      "rxn01961\n",
      "rxn01517\n",
      "rxn00371\n",
      "rxn06750\n",
      "rxn07653\n",
      "rxn10226\n",
      "rxn09978\n",
      "rxn08040\n",
      "rxn09211\n",
      "rxn01807\n",
      "rxn05006\n",
      "rxn01049\n",
      "rxn06874\n",
      "rxn01840\n",
      "rxn11599\n",
      "rxn12206\n",
      "rxn05331\n",
      "rxn01800\n",
      "rxn02107\n",
      "rxn08309\n",
      "rxn05379\n",
      "rxn03060\n",
      "rxn02476\n",
      "rxn01512\n",
      "rxn03841\n",
      "rxn00866\n",
      "rxn04954\n",
      "rxn06865\n",
      "rxn01279\n",
      "rxn03249\n",
      "rxn04113\n",
      "rxn00676\n",
      "rxn05551\n",
      "rxn00713\n",
      "rxn06515\n",
      "rxn10218\n",
      "rxn01257\n",
      "rxn09272\n",
      "rxn02970\n",
      "rxn03693\n",
      "rxn03845\n",
      "rxn00903\n",
      "rxn00980\n",
      "rxn00056\n",
      "rxn00016\n",
      "rxn01216\n",
      "rxn14282\n",
      "rxn03991\n",
      "rxn02213\n",
      "rxn03365\n",
      "rxn03892\n",
      "rxn00086\n",
      "rxn03871\n",
      "rxn00680\n",
      "rxn04989\n",
      "rxn05454\n",
      "rxn01127\n",
      "rxn01461\n",
      "rxn05537\n",
      "rxn04908\n",
      "rxn05226\n",
      "rxn08548\n",
      "rxn06314\n",
      "rxn00615\n",
      "rxn06160\n",
      "rxn02521\n",
      "rxn04674\n",
      "rxn00569\n",
      "rxn00332\n",
      "rxn05341\n",
      "rxn00406\n",
      "rxn03393\n",
      "rxn03979\n",
      "rxn06805\n",
      "rxn01305\n",
      "rxn06168\n",
      "rxn03971\n",
      "rxn10206\n",
      "rxn00083\n",
      "rxn01626\n",
      "rxn00291\n",
      "rxn00495\n",
      "rxn06870\n",
      "rxn07438\n",
      "rxn00743\n",
      "rxn10202\n",
      "rxn06735\n",
      "rxn02248\n",
      "rxn03483\n",
      "rxn06804\n",
      "rxn03236\n",
      "rxn02247\n",
      "rxn01265\n",
      "rxn00874\n",
      "rxn00834\n",
      "rxn00782\n",
      "rxn06540\n",
      "rxn05189\n",
      "rxn00704\n",
      "rxn08703\n",
      "rxn01459\n",
      "rxn05252\n",
      "rxn01671\n",
      "rxn02362\n",
      "rxn05627\n",
      "rxn12642\n",
      "rxn05313\n",
      "rxn05154\n",
      "rxn10339\n",
      "rxn10010\n",
      "rxn11702\n",
      "rxn07673\n",
      "rxn01332\n",
      "rxn08433\n",
      "rxn01510\n",
      "rxn01230\n",
      "rxn01530\n",
      "rxn01499\n",
      "rxn00320\n",
      "rxn00785\n",
      "rxn00693\n",
      "rxn03909\n",
      "rxn10806\n",
      "rxn01101\n",
      "rxn04602\n",
      "rxn00355\n",
      "rxn02900\n",
      "rxn03084\n",
      "rxn10233\n",
      "rxn06600\n",
      "rxn00216\n",
      "rxn11961\n",
      "rxn06728\n",
      "rxn02005\n",
      "rxn08808\n",
      "rxn00558\n",
      "rxn12635\n",
      "rxn00346\n",
      "rxn05297\n",
      "rxn04726\n",
      "rxn00550\n",
      "rxn07841\n",
      "rxn01703\n",
      "rxn01859\n",
      "rxn00194\n",
      "rxn00806\n",
      "rxn07370\n",
      "rxn05328\n",
      "rxn05160\n",
      "rxn05024\n",
      "rxn01851\n",
      "rxn08178\n",
      "rxn11834\n",
      "rxn05201\n",
      "rxn09449\n",
      "rxn05323\n",
      "rxn02604\n",
      "rxn03002\n",
      "rxn00314\n",
      "rxn05538\n",
      "rxn05616\n",
      "rxn08805\n",
      "rxn01507\n",
      "rxn01790\n",
      "rxn05651\n",
      "rxn00077\n",
      "rxn01388\n",
      "rxn02391\n",
      "rxn03638\n",
      "rxn02897\n",
      "rxn05126\n",
      "rxn10217\n",
      "rxn01446\n",
      "rxn10309\n",
      "rxn05249\n",
      "rxn01816\n",
      "rxn02056\n",
      "rxn10043\n",
      "rxn03980\n",
      "rxn01068\n",
      "rxn02277\n",
      "rxn06322\n",
      "rxn10223\n",
      "rxn04658\n",
      "rxn02596\n",
      "rxn00991\n",
      "rxn10260\n",
      "rxn03915\n",
      "rxn00166\n",
      "rxn03242\n",
      "rxn00541\n",
      "rxn01924\n",
      "rxn03075\n",
      "rxn01368\n",
      "rxn00629\n",
      "rxn00134\n",
      "rxn01480\n",
      "rxn09199\n",
      "rxn11768\n",
      "rxn05233\n",
      "rxn09109\n",
      "rxn00141\n",
      "rxn02003\n",
      "rxn07056\n",
      "rxn05375\n",
      "rxn14294\n",
      "rxn01200\n",
      "rxn00186\n",
      "rxn08558\n",
      "rxn01241\n",
      "rxn00130\n",
      "rxn11720\n",
      "rxn00859\n",
      "rxn11761\n",
      "rxn05332\n",
      "rxn00438\n",
      "rxn04744\n",
      "rxn00288\n",
      "rxn02185\n",
      "rxn00763\n",
      "rxn08550\n",
      "rxn08811\n",
      "rxn02473\n",
      "rxn01275\n",
      "rxn10174\n",
      "rxn06690\n",
      "rxn10315\n",
      "rxn01434\n",
      "rxn00912\n",
      "rxn05644\n",
      "rxn12147\n",
      "rxn08819\n",
      "rxn02345\n",
      "rxn06798\n",
      "rxn03849\n",
      "rxn03512\n",
      "rxn00122\n",
      "rxn09979\n",
      "rxn06076\n",
      "rxn00985\n",
      "rxn10212\n",
      "rxn01011\n",
      "rxn12849\n",
      "rxn10132\n",
      "rxn05301\n",
      "rxn08294\n",
      "rxn05179\n",
      "rxn10259\n",
      "rxn01602\n",
      "rxn07720\n",
      "rxn08094\n",
      "rxn02302\n",
      "rxn03068\n",
      "rxn02100\n",
      "rxn00794\n",
      "rxn01761\n",
      "rxn06313\n",
      "rxn03061\n",
      "rxn02927\n",
      "rxn05344\n",
      "rxn00114\n",
      "rxn03241\n",
      "rxn01521\n",
      "rxn12636\n",
      "rxn03394\n",
      "rxn11759\n",
      "rxn05414\n",
      "rxn05596\n",
      "rxn02700\n",
      "rxn00338\n",
      "rxn05384\n",
      "rxn01975\n",
      "rxn00700\n",
      "rxn02373\n",
      "rxn01893\n",
      "rxn01649\n",
      "rxn03094\n",
      "rxn00085\n",
      "rxn01737\n",
      "rxn00119\n",
      "rxn02529\n",
      "rxn00709\n",
      "rxn07432\n",
      "rxn11749\n",
      "rxn04453\n",
      "rxn07169\n",
      "rxn08549\n",
      "rxn08179\n",
      "rxn00608\n",
      "rxn05468\n",
      "rxn09345\n",
      "rxn02174\n",
      "rxn01466\n",
      "rxn05187\n",
      "rxn02957\n",
      "rxn01304\n",
      "rxn03409\n",
      "rxn09692\n",
      "rxn01674\n",
      "rxn00974\n",
      "rxn02962\n",
      "rxn04601\n",
      "rxn01948\n",
      "rxn03882\n",
      "rxn02008\n",
      "rxn05740\n",
      "rxn03601\n",
      "rxn09203\n",
      "rxn03904\n",
      "rxn01225\n",
      "rxn01679\n",
      "rxn04039\n",
      "rxn07842\n",
      "rxn01171\n",
      "rxn03931\n",
      "rxn00835\n",
      "rxn04649\n",
      "rxn02288\n",
      "rxn10199\n",
      "rxn00783\n",
      "rxn00409\n",
      "rxn02831\n",
      "rxn07885\n",
      "rxn00598\n",
      "rxn01455\n",
      "rxn05534\n",
      "rxn01258\n",
      "rxn08842\n",
      "rxn01538\n",
      "rxn05669\n",
      "rxn02128\n",
      "rxn00778\n",
      "rxn03901\n",
      "rxn01985\n",
      "rxn00808\n",
      "rxn10013\n",
      "rxn02832\n",
      "rxn01747\n",
      "rxn10052\n",
      "rxn07672\n",
      "rxn04133\n",
      "rxn05540\n",
      "rxn00193\n",
      "rxn02517\n",
      "rxn05326\n",
      "rxn06760\n",
      "rxn04840\n",
      "rxn05197\n",
      "rxn00653\n",
      "rxn02907\n",
      "rxn06372\n",
      "rxn00929\n",
      "rxn08800\n",
      "rxn14264\n",
      "rxn04682\n",
      "rxn11892\n",
      "rxn02166\n",
      "rxn00256\n",
      "rxn08335\n",
      "rxn03004\n",
      "rxn10232\n",
      "rxn00138\n",
      "rxn05536\n",
      "rxn06729\n",
      "rxn00921\n",
      "rxn05168\n",
      "rxn02015\n",
      "rxn05546\n",
      "rxn00347\n",
      "rxn05054\n",
      "rxn02167\n",
      "rxn05368\n",
      "rxn01858\n",
      "rxn01621\n",
      "rxn05128\n",
      "rxn10127\n",
      "rxn10770\n",
      "rxn04654\n",
      "rxn10161\n",
      "rxn05089\n",
      "rxn05360\n",
      "rxn02297\n",
      "rxn07901\n",
      "rxn05421\n",
      "rxn01799\n",
      "rxn00897\n",
      "rxn01485\n",
      "rxn09104\n",
      "rxn05206\n",
      "rxn02190\n",
      "rxn03031\n",
      "rxn09207\n",
      "rxn09296\n",
      "rxn00239\n",
      "rxn00441\n",
      "rxn00302\n",
      "rxn02465\n",
      "rxn03130\n",
      "rxn01791\n",
      "rxn00183\n",
      "rxn07900\n",
      "rxn00623\n",
      "rxn09107\n",
      "rxn03333\n",
      "rxn11725\n",
      "rxn10308\n",
      "rxn06526\n",
      "rxn05543\n",
      "rxn03465\n",
      "rxn01329\n",
      "rxn00950\n",
      "rxn00002\n",
      "rxn02507\n",
      "rxn10268\n",
      "rxn00542\n",
      "rxn01029\n",
      "rxn10341\n",
      "rxn05937\n",
      "rxn10220\n",
      "rxn10261\n",
      "rxn00990\n",
      "rxn01964\n",
      "rxn08816\n",
      "rxn02341\n",
      "rxn03511\n",
      "rxn01923\n",
      "rxn06591\n",
      "rxn01519\n",
      "rxn01137\n"
     ]
    },
    {
     "name": "stdout",
     "output_type": "stream",
     "text": [
      "rxn01343\n",
      "rxn07655\n",
      "rxn01080\n",
      "rxn10255\n",
      "rxn02063\n",
      "rxn08797\n",
      "rxn06038\n",
      "rxn05232\n",
      "rxn06759\n",
      "rxn09108\n",
      "rxn00224\n",
      "rxn14293\n",
      "rxn03323\n",
      "rxn01513\n",
      "rxn05372\n",
      "rxn05333\n",
      "rxn06510\n",
      "rxn02105\n",
      "rxn02186\n",
      "rxn08307\n",
      "rxn11612\n",
      "rxn05177\n",
      "rxn05426\n",
      "rxn00209\n",
      "rxn01274\n",
      "rxn02474\n",
      "rxn02230\n",
      "rxn03246\n",
      "rxn04783\n",
      "rxn06517\n",
      "rxn02144\n",
      "rxn00604\n",
      "rxn12645\n",
      "rxn00274\n",
      "rxn03109\n",
      "rxn10312\n",
      "rxn07448\n",
      "rxn00674\n",
      "rxn07359\n",
      "rxn00715\n",
      "rxn01019\n",
      "rxn06335\n",
      "rxn08849\n",
      "rxn09448\n",
      "rxn09208\n",
      "rxn05305\n",
      "rxn10211\n",
      "rxn00014\n",
      "rxn06584\n",
      "rxn00202\n",
      "rxn05593\n",
      "rxn08295\n",
      "rxn02914\n",
      "rxn01603\n",
      "rxn00055\n",
      "rxn00686\n",
      "rxn00905\n",
      "rxn05456\n",
      "rxn02409\n",
      "rxn09112\n",
      "rxn00157\n",
      "rxn03194\n",
      "rxn06075\n",
      "rxn03898\n",
      "rxn00689\n",
      "rxn08129\n",
      "rxn01286\n",
      "rxn05289\n",
      "rxn01973\n",
      "rxn05467\n",
      "rxn00117\n",
      "rxn05343\n",
      "rxn01520\n",
      "rxn05425\n",
      "rxn03395\n",
      "rxn00330\n",
      "rxn05736\n",
      "rxn03445\n",
      "rxn01641\n",
      "rxn11663\n",
      "rxn00493\n",
      "rxn00933\n",
      "rxn08298\n",
      "rxn01834\n",
      "rxn00293\n",
      "rxn00948\n",
      "rxn05383\n",
      "rxn00741\n",
      "rxn11584\n",
      "rxn00839\n",
      "rxn03838\n",
      "rxn03439\n",
      "rxn05390\n",
      "rxn05386\n",
      "rxn10473\n",
      "rxn05435\n",
      "rxn05391\n",
      "rxn00851\n",
      "rxn05329\n",
      "rxn08618\n",
      "rxn08620\n",
      "rxn05433\n",
      "rxn05438\n",
      "rxn03916\n",
      "rxn00979\n",
      "rxn03918\n",
      "rxn05437\n",
      "rxn02774\n",
      "rxn03164\n",
      "rxn08619\n",
      "rxn03917\n",
      "rxn06848\n",
      "rxn02404\n",
      "rxn08712\n",
      "rxn08708\n",
      "rxn08709\n",
      "rxn05434\n",
      "rxn05444\n",
      "rxn05361\n",
      "rxn05514\n",
      "rxn05406\n",
      "rxn05039\n",
      "rxn05365\n",
      "rxn05398\n",
      "rxn03182\n",
      "rxn05369\n",
      "rxn05402\n",
      "rxn05381\n",
      "rxn08583\n",
      "rxn05436\n",
      "rxn05443\n",
      "rxn05439\n",
      "rxn08954\n",
      "rxn08333\n",
      "rxn05441\n",
      "rxn05394\n",
      "rxn05373\n",
      "rxn05442\n",
      "rxn09225\n",
      "rxn05618\n",
      "rxn05377\n",
      "rxn08713\n",
      "bio1\n",
      "EX\n",
      "EX\n",
      "EX\n",
      "EX\n",
      "EX\n",
      "EX\n",
      "EX\n",
      "EX\n",
      "EX\n",
      "EX\n",
      "EX\n",
      "EX\n",
      "EX\n",
      "EX\n",
      "EX\n",
      "EX\n",
      "EX\n",
      "EX\n",
      "EX\n",
      "EX\n",
      "EX\n",
      "EX\n",
      "EX\n",
      "EX\n",
      "EX\n",
      "EX\n",
      "EX\n",
      "EX\n",
      "EX\n",
      "EX\n",
      "EX\n",
      "EX\n",
      "EX\n",
      "EX\n",
      "EX\n",
      "EX\n",
      "EX\n",
      "EX\n",
      "EX\n",
      "EX\n",
      "EX\n",
      "EX\n",
      "EX\n",
      "EX\n",
      "EX\n",
      "EX\n",
      "EX\n",
      "EX\n",
      "EX\n",
      "EX\n",
      "EX\n",
      "EX\n",
      "EX\n",
      "EX\n",
      "EX\n",
      "EX\n",
      "EX\n",
      "EX\n",
      "EX\n",
      "EX\n",
      "EX\n",
      "EX\n",
      "EX\n",
      "EX\n",
      "EX\n",
      "EX\n",
      "EX\n",
      "EX\n",
      "EX\n",
      "EX\n",
      "EX\n",
      "EX\n",
      "EX\n",
      "EX\n",
      "EX\n",
      "EX\n",
      "EX\n",
      "EX\n",
      "EX\n",
      "EX\n",
      "EX\n",
      "EX\n",
      "EX\n",
      "EX\n",
      "EX\n",
      "EX\n",
      "EX\n",
      "EX\n",
      "EX\n",
      "EX\n",
      "EX\n",
      "EX\n",
      "EX\n",
      "EX\n",
      "EX\n",
      "EX\n",
      "EX\n",
      "EX\n",
      "EX\n",
      "EX\n",
      "EX\n",
      "EX\n",
      "EX\n",
      "EX\n",
      "EX\n",
      "EX\n",
      "EX\n",
      "EX\n",
      "EX\n",
      "EX\n",
      "EX\n",
      "EX\n",
      "EX\n",
      "EX\n",
      "EX\n",
      "EX\n",
      "EX\n",
      "EX\n",
      "EX\n",
      "EX\n",
      "EX\n",
      "EX\n",
      "EX\n",
      "EX\n",
      "EX\n",
      "EX\n",
      "EX\n",
      "EX\n",
      "EX\n",
      "1906 metabolites with MNXR ID cannot be found in the MNX database\n"
     ]
    },
    {
     "data": {
      "text/plain": [
       "[]"
      ]
     },
     "execution_count": 23,
     "metadata": {},
     "output_type": "execute_result"
    }
   ],
   "source": [
    "not_in_reac_xref = []\n",
    "in_reac_xref = []\n",
    "\n",
    "for met in model.reactions:\n",
    "    split=met.id.split(\"_\")\n",
    "    met_clean=split[0]\n",
    "    print(met_clean)\n",
    "    if not met_clean == '':\n",
    "        \n",
    "        if not met_clean in reac_xref_MNX_bigg_dict2.keys():\n",
    "            not_in_reac_xref.append(met)\n",
    "        else:\n",
    "            in_reac_xref.append(met)\n",
    "\n",
    "print ('%i metabolites with MNXR ID cannot be found in the MNX database' % (len(not_in_reac_xref)))\n",
    "in_reac_xref"
   ]
  },
  {
   "cell_type": "markdown",
   "metadata": {},
   "source": [
    "### Bigg Ids to reaction annotation"
   ]
  },
  {
   "cell_type": "code",
   "execution_count": 24,
   "metadata": {},
   "outputs": [
    {
     "data": {
      "text/plain": [
       "{}"
      ]
     },
     "execution_count": 24,
     "metadata": {},
     "output_type": "execute_result"
    },
    {
     "data": {
      "text/plain": [
       "{}"
      ]
     },
     "execution_count": 24,
     "metadata": {},
     "output_type": "execute_result"
    },
    {
     "data": {
      "text/plain": [
       "{}"
      ]
     },
     "execution_count": 24,
     "metadata": {},
     "output_type": "execute_result"
    },
    {
     "data": {
      "text/plain": [
       "{}"
      ]
     },
     "execution_count": 24,
     "metadata": {},
     "output_type": "execute_result"
    },
    {
     "data": {
      "text/plain": [
       "{}"
      ]
     },
     "execution_count": 24,
     "metadata": {},
     "output_type": "execute_result"
    },
    {
     "data": {
      "text/plain": [
       "{}"
      ]
     },
     "execution_count": 24,
     "metadata": {},
     "output_type": "execute_result"
    },
    {
     "data": {
      "text/plain": [
       "{}"
      ]
     },
     "execution_count": 24,
     "metadata": {},
     "output_type": "execute_result"
    },
    {
     "data": {
      "text/plain": [
       "{}"
      ]
     },
     "execution_count": 24,
     "metadata": {},
     "output_type": "execute_result"
    },
    {
     "data": {
      "text/plain": [
       "{}"
      ]
     },
     "execution_count": 24,
     "metadata": {},
     "output_type": "execute_result"
    },
    {
     "data": {
      "text/plain": [
       "{}"
      ]
     },
     "execution_count": 24,
     "metadata": {},
     "output_type": "execute_result"
    },
    {
     "data": {
      "text/plain": [
       "{}"
      ]
     },
     "execution_count": 24,
     "metadata": {},
     "output_type": "execute_result"
    },
    {
     "data": {
      "text/plain": [
       "{}"
      ]
     },
     "execution_count": 24,
     "metadata": {},
     "output_type": "execute_result"
    },
    {
     "data": {
      "text/plain": [
       "{}"
      ]
     },
     "execution_count": 24,
     "metadata": {},
     "output_type": "execute_result"
    },
    {
     "data": {
      "text/plain": [
       "{}"
      ]
     },
     "execution_count": 24,
     "metadata": {},
     "output_type": "execute_result"
    },
    {
     "data": {
      "text/plain": [
       "{}"
      ]
     },
     "execution_count": 24,
     "metadata": {},
     "output_type": "execute_result"
    },
    {
     "data": {
      "text/plain": [
       "{}"
      ]
     },
     "execution_count": 24,
     "metadata": {},
     "output_type": "execute_result"
    },
    {
     "data": {
      "text/plain": [
       "{}"
      ]
     },
     "execution_count": 24,
     "metadata": {},
     "output_type": "execute_result"
    },
    {
     "data": {
      "text/plain": [
       "{}"
      ]
     },
     "execution_count": 24,
     "metadata": {},
     "output_type": "execute_result"
    },
    {
     "data": {
      "text/plain": [
       "{}"
      ]
     },
     "execution_count": 24,
     "metadata": {},
     "output_type": "execute_result"
    },
    {
     "data": {
      "text/plain": [
       "{}"
      ]
     },
     "execution_count": 24,
     "metadata": {},
     "output_type": "execute_result"
    },
    {
     "data": {
      "text/plain": [
       "{}"
      ]
     },
     "execution_count": 24,
     "metadata": {},
     "output_type": "execute_result"
    },
    {
     "data": {
      "text/plain": [
       "{}"
      ]
     },
     "execution_count": 24,
     "metadata": {},
     "output_type": "execute_result"
    },
    {
     "data": {
      "text/plain": [
       "{}"
      ]
     },
     "execution_count": 24,
     "metadata": {},
     "output_type": "execute_result"
    },
    {
     "data": {
      "text/plain": [
       "{}"
      ]
     },
     "execution_count": 24,
     "metadata": {},
     "output_type": "execute_result"
    },
    {
     "data": {
      "text/plain": [
       "{}"
      ]
     },
     "execution_count": 24,
     "metadata": {},
     "output_type": "execute_result"
    },
    {
     "data": {
      "text/plain": [
       "{}"
      ]
     },
     "execution_count": 24,
     "metadata": {},
     "output_type": "execute_result"
    },
    {
     "data": {
      "text/plain": [
       "{}"
      ]
     },
     "execution_count": 24,
     "metadata": {},
     "output_type": "execute_result"
    },
    {
     "data": {
      "text/plain": [
       "{}"
      ]
     },
     "execution_count": 24,
     "metadata": {},
     "output_type": "execute_result"
    },
    {
     "data": {
      "text/plain": [
       "{}"
      ]
     },
     "execution_count": 24,
     "metadata": {},
     "output_type": "execute_result"
    },
    {
     "data": {
      "text/plain": [
       "{}"
      ]
     },
     "execution_count": 24,
     "metadata": {},
     "output_type": "execute_result"
    },
    {
     "data": {
      "text/plain": [
       "{}"
      ]
     },
     "execution_count": 24,
     "metadata": {},
     "output_type": "execute_result"
    },
    {
     "data": {
      "text/plain": [
       "{}"
      ]
     },
     "execution_count": 24,
     "metadata": {},
     "output_type": "execute_result"
    },
    {
     "data": {
      "text/plain": [
       "{}"
      ]
     },
     "execution_count": 24,
     "metadata": {},
     "output_type": "execute_result"
    },
    {
     "data": {
      "text/plain": [
       "{}"
      ]
     },
     "execution_count": 24,
     "metadata": {},
     "output_type": "execute_result"
    },
    {
     "data": {
      "text/plain": [
       "{}"
      ]
     },
     "execution_count": 24,
     "metadata": {},
     "output_type": "execute_result"
    },
    {
     "data": {
      "text/plain": [
       "{}"
      ]
     },
     "execution_count": 24,
     "metadata": {},
     "output_type": "execute_result"
    },
    {
     "data": {
      "text/plain": [
       "{}"
      ]
     },
     "execution_count": 24,
     "metadata": {},
     "output_type": "execute_result"
    },
    {
     "data": {
      "text/plain": [
       "{}"
      ]
     },
     "execution_count": 24,
     "metadata": {},
     "output_type": "execute_result"
    },
    {
     "data": {
      "text/plain": [
       "{}"
      ]
     },
     "execution_count": 24,
     "metadata": {},
     "output_type": "execute_result"
    },
    {
     "data": {
      "text/plain": [
       "{}"
      ]
     },
     "execution_count": 24,
     "metadata": {},
     "output_type": "execute_result"
    },
    {
     "data": {
      "text/plain": [
       "{}"
      ]
     },
     "execution_count": 24,
     "metadata": {},
     "output_type": "execute_result"
    },
    {
     "data": {
      "text/plain": [
       "{}"
      ]
     },
     "execution_count": 24,
     "metadata": {},
     "output_type": "execute_result"
    },
    {
     "data": {
      "text/plain": [
       "{}"
      ]
     },
     "execution_count": 24,
     "metadata": {},
     "output_type": "execute_result"
    },
    {
     "data": {
      "text/plain": [
       "{}"
      ]
     },
     "execution_count": 24,
     "metadata": {},
     "output_type": "execute_result"
    },
    {
     "data": {
      "text/plain": [
       "{}"
      ]
     },
     "execution_count": 24,
     "metadata": {},
     "output_type": "execute_result"
    },
    {
     "data": {
      "text/plain": [
       "{}"
      ]
     },
     "execution_count": 24,
     "metadata": {},
     "output_type": "execute_result"
    },
    {
     "data": {
      "text/plain": [
       "{}"
      ]
     },
     "execution_count": 24,
     "metadata": {},
     "output_type": "execute_result"
    },
    {
     "data": {
      "text/plain": [
       "{}"
      ]
     },
     "execution_count": 24,
     "metadata": {},
     "output_type": "execute_result"
    },
    {
     "data": {
      "text/plain": [
       "{}"
      ]
     },
     "execution_count": 24,
     "metadata": {},
     "output_type": "execute_result"
    },
    {
     "data": {
      "text/plain": [
       "{}"
      ]
     },
     "execution_count": 24,
     "metadata": {},
     "output_type": "execute_result"
    },
    {
     "data": {
      "text/plain": [
       "{}"
      ]
     },
     "execution_count": 24,
     "metadata": {},
     "output_type": "execute_result"
    },
    {
     "data": {
      "text/plain": [
       "{}"
      ]
     },
     "execution_count": 24,
     "metadata": {},
     "output_type": "execute_result"
    },
    {
     "data": {
      "text/plain": [
       "{}"
      ]
     },
     "execution_count": 24,
     "metadata": {},
     "output_type": "execute_result"
    },
    {
     "data": {
      "text/plain": [
       "{}"
      ]
     },
     "execution_count": 24,
     "metadata": {},
     "output_type": "execute_result"
    },
    {
     "data": {
      "text/plain": [
       "{}"
      ]
     },
     "execution_count": 24,
     "metadata": {},
     "output_type": "execute_result"
    },
    {
     "data": {
      "text/plain": [
       "{}"
      ]
     },
     "execution_count": 24,
     "metadata": {},
     "output_type": "execute_result"
    },
    {
     "data": {
      "text/plain": [
       "{}"
      ]
     },
     "execution_count": 24,
     "metadata": {},
     "output_type": "execute_result"
    },
    {
     "data": {
      "text/plain": [
       "{}"
      ]
     },
     "execution_count": 24,
     "metadata": {},
     "output_type": "execute_result"
    },
    {
     "data": {
      "text/plain": [
       "{}"
      ]
     },
     "execution_count": 24,
     "metadata": {},
     "output_type": "execute_result"
    },
    {
     "data": {
      "text/plain": [
       "{}"
      ]
     },
     "execution_count": 24,
     "metadata": {},
     "output_type": "execute_result"
    },
    {
     "data": {
      "text/plain": [
       "{}"
      ]
     },
     "execution_count": 24,
     "metadata": {},
     "output_type": "execute_result"
    },
    {
     "data": {
      "text/plain": [
       "{}"
      ]
     },
     "execution_count": 24,
     "metadata": {},
     "output_type": "execute_result"
    },
    {
     "data": {
      "text/plain": [
       "{}"
      ]
     },
     "execution_count": 24,
     "metadata": {},
     "output_type": "execute_result"
    },
    {
     "data": {
      "text/plain": [
       "{}"
      ]
     },
     "execution_count": 24,
     "metadata": {},
     "output_type": "execute_result"
    },
    {
     "data": {
      "text/plain": [
       "{}"
      ]
     },
     "execution_count": 24,
     "metadata": {},
     "output_type": "execute_result"
    },
    {
     "data": {
      "text/plain": [
       "{}"
      ]
     },
     "execution_count": 24,
     "metadata": {},
     "output_type": "execute_result"
    },
    {
     "data": {
      "text/plain": [
       "{}"
      ]
     },
     "execution_count": 24,
     "metadata": {},
     "output_type": "execute_result"
    },
    {
     "data": {
      "text/plain": [
       "{}"
      ]
     },
     "execution_count": 24,
     "metadata": {},
     "output_type": "execute_result"
    },
    {
     "data": {
      "text/plain": [
       "{}"
      ]
     },
     "execution_count": 24,
     "metadata": {},
     "output_type": "execute_result"
    },
    {
     "data": {
      "text/plain": [
       "{}"
      ]
     },
     "execution_count": 24,
     "metadata": {},
     "output_type": "execute_result"
    },
    {
     "data": {
      "text/plain": [
       "{}"
      ]
     },
     "execution_count": 24,
     "metadata": {},
     "output_type": "execute_result"
    },
    {
     "data": {
      "text/plain": [
       "{}"
      ]
     },
     "execution_count": 24,
     "metadata": {},
     "output_type": "execute_result"
    },
    {
     "data": {
      "text/plain": [
       "{}"
      ]
     },
     "execution_count": 24,
     "metadata": {},
     "output_type": "execute_result"
    },
    {
     "data": {
      "text/plain": [
       "{}"
      ]
     },
     "execution_count": 24,
     "metadata": {},
     "output_type": "execute_result"
    },
    {
     "data": {
      "text/plain": [
       "{}"
      ]
     },
     "execution_count": 24,
     "metadata": {},
     "output_type": "execute_result"
    },
    {
     "data": {
      "text/plain": [
       "{}"
      ]
     },
     "execution_count": 24,
     "metadata": {},
     "output_type": "execute_result"
    },
    {
     "data": {
      "text/plain": [
       "{}"
      ]
     },
     "execution_count": 24,
     "metadata": {},
     "output_type": "execute_result"
    },
    {
     "data": {
      "text/plain": [
       "{}"
      ]
     },
     "execution_count": 24,
     "metadata": {},
     "output_type": "execute_result"
    },
    {
     "data": {
      "text/plain": [
       "{}"
      ]
     },
     "execution_count": 24,
     "metadata": {},
     "output_type": "execute_result"
    },
    {
     "data": {
      "text/plain": [
       "{}"
      ]
     },
     "execution_count": 24,
     "metadata": {},
     "output_type": "execute_result"
    },
    {
     "data": {
      "text/plain": [
       "{}"
      ]
     },
     "execution_count": 24,
     "metadata": {},
     "output_type": "execute_result"
    },
    {
     "data": {
      "text/plain": [
       "{}"
      ]
     },
     "execution_count": 24,
     "metadata": {},
     "output_type": "execute_result"
    },
    {
     "data": {
      "text/plain": [
       "{}"
      ]
     },
     "execution_count": 24,
     "metadata": {},
     "output_type": "execute_result"
    },
    {
     "data": {
      "text/plain": [
       "{}"
      ]
     },
     "execution_count": 24,
     "metadata": {},
     "output_type": "execute_result"
    },
    {
     "data": {
      "text/plain": [
       "{}"
      ]
     },
     "execution_count": 24,
     "metadata": {},
     "output_type": "execute_result"
    },
    {
     "data": {
      "text/plain": [
       "{}"
      ]
     },
     "execution_count": 24,
     "metadata": {},
     "output_type": "execute_result"
    },
    {
     "data": {
      "text/plain": [
       "{}"
      ]
     },
     "execution_count": 24,
     "metadata": {},
     "output_type": "execute_result"
    },
    {
     "data": {
      "text/plain": [
       "{}"
      ]
     },
     "execution_count": 24,
     "metadata": {},
     "output_type": "execute_result"
    },
    {
     "data": {
      "text/plain": [
       "{}"
      ]
     },
     "execution_count": 24,
     "metadata": {},
     "output_type": "execute_result"
    },
    {
     "data": {
      "text/plain": [
       "{}"
      ]
     },
     "execution_count": 24,
     "metadata": {},
     "output_type": "execute_result"
    },
    {
     "data": {
      "text/plain": [
       "{}"
      ]
     },
     "execution_count": 24,
     "metadata": {},
     "output_type": "execute_result"
    },
    {
     "data": {
      "text/plain": [
       "{}"
      ]
     },
     "execution_count": 24,
     "metadata": {},
     "output_type": "execute_result"
    },
    {
     "data": {
      "text/plain": [
       "{}"
      ]
     },
     "execution_count": 24,
     "metadata": {},
     "output_type": "execute_result"
    },
    {
     "data": {
      "text/plain": [
       "{}"
      ]
     },
     "execution_count": 24,
     "metadata": {},
     "output_type": "execute_result"
    },
    {
     "data": {
      "text/plain": [
       "{}"
      ]
     },
     "execution_count": 24,
     "metadata": {},
     "output_type": "execute_result"
    },
    {
     "data": {
      "text/plain": [
       "{}"
      ]
     },
     "execution_count": 24,
     "metadata": {},
     "output_type": "execute_result"
    },
    {
     "data": {
      "text/plain": [
       "{}"
      ]
     },
     "execution_count": 24,
     "metadata": {},
     "output_type": "execute_result"
    },
    {
     "data": {
      "text/plain": [
       "{}"
      ]
     },
     "execution_count": 24,
     "metadata": {},
     "output_type": "execute_result"
    },
    {
     "data": {
      "text/plain": [
       "{}"
      ]
     },
     "execution_count": 24,
     "metadata": {},
     "output_type": "execute_result"
    },
    {
     "data": {
      "text/plain": [
       "{}"
      ]
     },
     "execution_count": 24,
     "metadata": {},
     "output_type": "execute_result"
    },
    {
     "data": {
      "text/plain": [
       "{}"
      ]
     },
     "execution_count": 24,
     "metadata": {},
     "output_type": "execute_result"
    },
    {
     "data": {
      "text/plain": [
       "{}"
      ]
     },
     "execution_count": 24,
     "metadata": {},
     "output_type": "execute_result"
    },
    {
     "data": {
      "text/plain": [
       "{}"
      ]
     },
     "execution_count": 24,
     "metadata": {},
     "output_type": "execute_result"
    },
    {
     "data": {
      "text/plain": [
       "{}"
      ]
     },
     "execution_count": 24,
     "metadata": {},
     "output_type": "execute_result"
    },
    {
     "data": {
      "text/plain": [
       "{}"
      ]
     },
     "execution_count": 24,
     "metadata": {},
     "output_type": "execute_result"
    },
    {
     "data": {
      "text/plain": [
       "{}"
      ]
     },
     "execution_count": 24,
     "metadata": {},
     "output_type": "execute_result"
    },
    {
     "data": {
      "text/plain": [
       "{}"
      ]
     },
     "execution_count": 24,
     "metadata": {},
     "output_type": "execute_result"
    },
    {
     "data": {
      "text/plain": [
       "{}"
      ]
     },
     "execution_count": 24,
     "metadata": {},
     "output_type": "execute_result"
    },
    {
     "data": {
      "text/plain": [
       "{}"
      ]
     },
     "execution_count": 24,
     "metadata": {},
     "output_type": "execute_result"
    },
    {
     "data": {
      "text/plain": [
       "{}"
      ]
     },
     "execution_count": 24,
     "metadata": {},
     "output_type": "execute_result"
    },
    {
     "data": {
      "text/plain": [
       "{}"
      ]
     },
     "execution_count": 24,
     "metadata": {},
     "output_type": "execute_result"
    },
    {
     "data": {
      "text/plain": [
       "{}"
      ]
     },
     "execution_count": 24,
     "metadata": {},
     "output_type": "execute_result"
    },
    {
     "data": {
      "text/plain": [
       "{}"
      ]
     },
     "execution_count": 24,
     "metadata": {},
     "output_type": "execute_result"
    },
    {
     "data": {
      "text/plain": [
       "{}"
      ]
     },
     "execution_count": 24,
     "metadata": {},
     "output_type": "execute_result"
    },
    {
     "data": {
      "text/plain": [
       "{}"
      ]
     },
     "execution_count": 24,
     "metadata": {},
     "output_type": "execute_result"
    },
    {
     "data": {
      "text/plain": [
       "{}"
      ]
     },
     "execution_count": 24,
     "metadata": {},
     "output_type": "execute_result"
    },
    {
     "data": {
      "text/plain": [
       "{}"
      ]
     },
     "execution_count": 24,
     "metadata": {},
     "output_type": "execute_result"
    },
    {
     "data": {
      "text/plain": [
       "{}"
      ]
     },
     "execution_count": 24,
     "metadata": {},
     "output_type": "execute_result"
    },
    {
     "data": {
      "text/plain": [
       "{}"
      ]
     },
     "execution_count": 24,
     "metadata": {},
     "output_type": "execute_result"
    },
    {
     "data": {
      "text/plain": [
       "{}"
      ]
     },
     "execution_count": 24,
     "metadata": {},
     "output_type": "execute_result"
    },
    {
     "data": {
      "text/plain": [
       "{}"
      ]
     },
     "execution_count": 24,
     "metadata": {},
     "output_type": "execute_result"
    },
    {
     "data": {
      "text/plain": [
       "{}"
      ]
     },
     "execution_count": 24,
     "metadata": {},
     "output_type": "execute_result"
    },
    {
     "data": {
      "text/plain": [
       "{}"
      ]
     },
     "execution_count": 24,
     "metadata": {},
     "output_type": "execute_result"
    },
    {
     "data": {
      "text/plain": [
       "{}"
      ]
     },
     "execution_count": 24,
     "metadata": {},
     "output_type": "execute_result"
    },
    {
     "data": {
      "text/plain": [
       "{}"
      ]
     },
     "execution_count": 24,
     "metadata": {},
     "output_type": "execute_result"
    },
    {
     "data": {
      "text/plain": [
       "{}"
      ]
     },
     "execution_count": 24,
     "metadata": {},
     "output_type": "execute_result"
    },
    {
     "data": {
      "text/plain": [
       "{}"
      ]
     },
     "execution_count": 24,
     "metadata": {},
     "output_type": "execute_result"
    },
    {
     "data": {
      "text/plain": [
       "{}"
      ]
     },
     "execution_count": 24,
     "metadata": {},
     "output_type": "execute_result"
    },
    {
     "data": {
      "text/plain": [
       "{}"
      ]
     },
     "execution_count": 24,
     "metadata": {},
     "output_type": "execute_result"
    },
    {
     "data": {
      "text/plain": [
       "{}"
      ]
     },
     "execution_count": 24,
     "metadata": {},
     "output_type": "execute_result"
    },
    {
     "data": {
      "text/plain": [
       "{}"
      ]
     },
     "execution_count": 24,
     "metadata": {},
     "output_type": "execute_result"
    },
    {
     "data": {
      "text/plain": [
       "{}"
      ]
     },
     "execution_count": 24,
     "metadata": {},
     "output_type": "execute_result"
    },
    {
     "data": {
      "text/plain": [
       "{}"
      ]
     },
     "execution_count": 24,
     "metadata": {},
     "output_type": "execute_result"
    },
    {
     "data": {
      "text/plain": [
       "{}"
      ]
     },
     "execution_count": 24,
     "metadata": {},
     "output_type": "execute_result"
    },
    {
     "data": {
      "text/plain": [
       "{}"
      ]
     },
     "execution_count": 24,
     "metadata": {},
     "output_type": "execute_result"
    },
    {
     "data": {
      "text/plain": [
       "{}"
      ]
     },
     "execution_count": 24,
     "metadata": {},
     "output_type": "execute_result"
    },
    {
     "data": {
      "text/plain": [
       "{}"
      ]
     },
     "execution_count": 24,
     "metadata": {},
     "output_type": "execute_result"
    },
    {
     "data": {
      "text/plain": [
       "{}"
      ]
     },
     "execution_count": 24,
     "metadata": {},
     "output_type": "execute_result"
    },
    {
     "data": {
      "text/plain": [
       "{}"
      ]
     },
     "execution_count": 24,
     "metadata": {},
     "output_type": "execute_result"
    },
    {
     "data": {
      "text/plain": [
       "{}"
      ]
     },
     "execution_count": 24,
     "metadata": {},
     "output_type": "execute_result"
    },
    {
     "data": {
      "text/plain": [
       "{}"
      ]
     },
     "execution_count": 24,
     "metadata": {},
     "output_type": "execute_result"
    },
    {
     "data": {
      "text/plain": [
       "{}"
      ]
     },
     "execution_count": 24,
     "metadata": {},
     "output_type": "execute_result"
    },
    {
     "data": {
      "text/plain": [
       "{}"
      ]
     },
     "execution_count": 24,
     "metadata": {},
     "output_type": "execute_result"
    },
    {
     "data": {
      "text/plain": [
       "{}"
      ]
     },
     "execution_count": 24,
     "metadata": {},
     "output_type": "execute_result"
    },
    {
     "data": {
      "text/plain": [
       "{}"
      ]
     },
     "execution_count": 24,
     "metadata": {},
     "output_type": "execute_result"
    },
    {
     "data": {
      "text/plain": [
       "{}"
      ]
     },
     "execution_count": 24,
     "metadata": {},
     "output_type": "execute_result"
    },
    {
     "data": {
      "text/plain": [
       "{}"
      ]
     },
     "execution_count": 24,
     "metadata": {},
     "output_type": "execute_result"
    },
    {
     "data": {
      "text/plain": [
       "{}"
      ]
     },
     "execution_count": 24,
     "metadata": {},
     "output_type": "execute_result"
    },
    {
     "data": {
      "text/plain": [
       "{}"
      ]
     },
     "execution_count": 24,
     "metadata": {},
     "output_type": "execute_result"
    },
    {
     "data": {
      "text/plain": [
       "{}"
      ]
     },
     "execution_count": 24,
     "metadata": {},
     "output_type": "execute_result"
    },
    {
     "data": {
      "text/plain": [
       "{}"
      ]
     },
     "execution_count": 24,
     "metadata": {},
     "output_type": "execute_result"
    },
    {
     "data": {
      "text/plain": [
       "{}"
      ]
     },
     "execution_count": 24,
     "metadata": {},
     "output_type": "execute_result"
    },
    {
     "data": {
      "text/plain": [
       "{}"
      ]
     },
     "execution_count": 24,
     "metadata": {},
     "output_type": "execute_result"
    },
    {
     "data": {
      "text/plain": [
       "{}"
      ]
     },
     "execution_count": 24,
     "metadata": {},
     "output_type": "execute_result"
    },
    {
     "data": {
      "text/plain": [
       "{}"
      ]
     },
     "execution_count": 24,
     "metadata": {},
     "output_type": "execute_result"
    },
    {
     "data": {
      "text/plain": [
       "{}"
      ]
     },
     "execution_count": 24,
     "metadata": {},
     "output_type": "execute_result"
    },
    {
     "data": {
      "text/plain": [
       "{}"
      ]
     },
     "execution_count": 24,
     "metadata": {},
     "output_type": "execute_result"
    },
    {
     "data": {
      "text/plain": [
       "{}"
      ]
     },
     "execution_count": 24,
     "metadata": {},
     "output_type": "execute_result"
    },
    {
     "data": {
      "text/plain": [
       "{}"
      ]
     },
     "execution_count": 24,
     "metadata": {},
     "output_type": "execute_result"
    },
    {
     "data": {
      "text/plain": [
       "{}"
      ]
     },
     "execution_count": 24,
     "metadata": {},
     "output_type": "execute_result"
    },
    {
     "data": {
      "text/plain": [
       "{}"
      ]
     },
     "execution_count": 24,
     "metadata": {},
     "output_type": "execute_result"
    },
    {
     "data": {
      "text/plain": [
       "{}"
      ]
     },
     "execution_count": 24,
     "metadata": {},
     "output_type": "execute_result"
    },
    {
     "data": {
      "text/plain": [
       "{}"
      ]
     },
     "execution_count": 24,
     "metadata": {},
     "output_type": "execute_result"
    },
    {
     "data": {
      "text/plain": [
       "{}"
      ]
     },
     "execution_count": 24,
     "metadata": {},
     "output_type": "execute_result"
    },
    {
     "data": {
      "text/plain": [
       "{}"
      ]
     },
     "execution_count": 24,
     "metadata": {},
     "output_type": "execute_result"
    },
    {
     "data": {
      "text/plain": [
       "{}"
      ]
     },
     "execution_count": 24,
     "metadata": {},
     "output_type": "execute_result"
    },
    {
     "data": {
      "text/plain": [
       "{}"
      ]
     },
     "execution_count": 24,
     "metadata": {},
     "output_type": "execute_result"
    },
    {
     "data": {
      "text/plain": [
       "{}"
      ]
     },
     "execution_count": 24,
     "metadata": {},
     "output_type": "execute_result"
    },
    {
     "data": {
      "text/plain": [
       "{}"
      ]
     },
     "execution_count": 24,
     "metadata": {},
     "output_type": "execute_result"
    },
    {
     "data": {
      "text/plain": [
       "{}"
      ]
     },
     "execution_count": 24,
     "metadata": {},
     "output_type": "execute_result"
    },
    {
     "data": {
      "text/plain": [
       "{}"
      ]
     },
     "execution_count": 24,
     "metadata": {},
     "output_type": "execute_result"
    },
    {
     "data": {
      "text/plain": [
       "{}"
      ]
     },
     "execution_count": 24,
     "metadata": {},
     "output_type": "execute_result"
    },
    {
     "data": {
      "text/plain": [
       "{}"
      ]
     },
     "execution_count": 24,
     "metadata": {},
     "output_type": "execute_result"
    },
    {
     "data": {
      "text/plain": [
       "{}"
      ]
     },
     "execution_count": 24,
     "metadata": {},
     "output_type": "execute_result"
    },
    {
     "data": {
      "text/plain": [
       "{}"
      ]
     },
     "execution_count": 24,
     "metadata": {},
     "output_type": "execute_result"
    },
    {
     "data": {
      "text/plain": [
       "{}"
      ]
     },
     "execution_count": 24,
     "metadata": {},
     "output_type": "execute_result"
    },
    {
     "data": {
      "text/plain": [
       "{}"
      ]
     },
     "execution_count": 24,
     "metadata": {},
     "output_type": "execute_result"
    },
    {
     "data": {
      "text/plain": [
       "{}"
      ]
     },
     "execution_count": 24,
     "metadata": {},
     "output_type": "execute_result"
    },
    {
     "data": {
      "text/plain": [
       "{}"
      ]
     },
     "execution_count": 24,
     "metadata": {},
     "output_type": "execute_result"
    },
    {
     "data": {
      "text/plain": [
       "{}"
      ]
     },
     "execution_count": 24,
     "metadata": {},
     "output_type": "execute_result"
    },
    {
     "data": {
      "text/plain": [
       "{}"
      ]
     },
     "execution_count": 24,
     "metadata": {},
     "output_type": "execute_result"
    },
    {
     "data": {
      "text/plain": [
       "{}"
      ]
     },
     "execution_count": 24,
     "metadata": {},
     "output_type": "execute_result"
    },
    {
     "data": {
      "text/plain": [
       "{}"
      ]
     },
     "execution_count": 24,
     "metadata": {},
     "output_type": "execute_result"
    },
    {
     "data": {
      "text/plain": [
       "{}"
      ]
     },
     "execution_count": 24,
     "metadata": {},
     "output_type": "execute_result"
    },
    {
     "data": {
      "text/plain": [
       "{}"
      ]
     },
     "execution_count": 24,
     "metadata": {},
     "output_type": "execute_result"
    },
    {
     "data": {
      "text/plain": [
       "{}"
      ]
     },
     "execution_count": 24,
     "metadata": {},
     "output_type": "execute_result"
    },
    {
     "data": {
      "text/plain": [
       "{}"
      ]
     },
     "execution_count": 24,
     "metadata": {},
     "output_type": "execute_result"
    },
    {
     "data": {
      "text/plain": [
       "{}"
      ]
     },
     "execution_count": 24,
     "metadata": {},
     "output_type": "execute_result"
    },
    {
     "data": {
      "text/plain": [
       "{}"
      ]
     },
     "execution_count": 24,
     "metadata": {},
     "output_type": "execute_result"
    },
    {
     "data": {
      "text/plain": [
       "{}"
      ]
     },
     "execution_count": 24,
     "metadata": {},
     "output_type": "execute_result"
    },
    {
     "data": {
      "text/plain": [
       "{}"
      ]
     },
     "execution_count": 24,
     "metadata": {},
     "output_type": "execute_result"
    },
    {
     "data": {
      "text/plain": [
       "{}"
      ]
     },
     "execution_count": 24,
     "metadata": {},
     "output_type": "execute_result"
    },
    {
     "data": {
      "text/plain": [
       "{}"
      ]
     },
     "execution_count": 24,
     "metadata": {},
     "output_type": "execute_result"
    },
    {
     "data": {
      "text/plain": [
       "{}"
      ]
     },
     "execution_count": 24,
     "metadata": {},
     "output_type": "execute_result"
    },
    {
     "data": {
      "text/plain": [
       "{}"
      ]
     },
     "execution_count": 24,
     "metadata": {},
     "output_type": "execute_result"
    },
    {
     "data": {
      "text/plain": [
       "{}"
      ]
     },
     "execution_count": 24,
     "metadata": {},
     "output_type": "execute_result"
    },
    {
     "data": {
      "text/plain": [
       "{}"
      ]
     },
     "execution_count": 24,
     "metadata": {},
     "output_type": "execute_result"
    },
    {
     "data": {
      "text/plain": [
       "{}"
      ]
     },
     "execution_count": 24,
     "metadata": {},
     "output_type": "execute_result"
    },
    {
     "data": {
      "text/plain": [
       "{}"
      ]
     },
     "execution_count": 24,
     "metadata": {},
     "output_type": "execute_result"
    },
    {
     "data": {
      "text/plain": [
       "{}"
      ]
     },
     "execution_count": 24,
     "metadata": {},
     "output_type": "execute_result"
    },
    {
     "data": {
      "text/plain": [
       "{}"
      ]
     },
     "execution_count": 24,
     "metadata": {},
     "output_type": "execute_result"
    },
    {
     "data": {
      "text/plain": [
       "{}"
      ]
     },
     "execution_count": 24,
     "metadata": {},
     "output_type": "execute_result"
    },
    {
     "data": {
      "text/plain": [
       "{}"
      ]
     },
     "execution_count": 24,
     "metadata": {},
     "output_type": "execute_result"
    },
    {
     "data": {
      "text/plain": [
       "{}"
      ]
     },
     "execution_count": 24,
     "metadata": {},
     "output_type": "execute_result"
    },
    {
     "data": {
      "text/plain": [
       "{}"
      ]
     },
     "execution_count": 24,
     "metadata": {},
     "output_type": "execute_result"
    },
    {
     "data": {
      "text/plain": [
       "{}"
      ]
     },
     "execution_count": 24,
     "metadata": {},
     "output_type": "execute_result"
    },
    {
     "data": {
      "text/plain": [
       "{}"
      ]
     },
     "execution_count": 24,
     "metadata": {},
     "output_type": "execute_result"
    },
    {
     "data": {
      "text/plain": [
       "{}"
      ]
     },
     "execution_count": 24,
     "metadata": {},
     "output_type": "execute_result"
    },
    {
     "data": {
      "text/plain": [
       "{}"
      ]
     },
     "execution_count": 24,
     "metadata": {},
     "output_type": "execute_result"
    },
    {
     "data": {
      "text/plain": [
       "{}"
      ]
     },
     "execution_count": 24,
     "metadata": {},
     "output_type": "execute_result"
    },
    {
     "data": {
      "text/plain": [
       "{}"
      ]
     },
     "execution_count": 24,
     "metadata": {},
     "output_type": "execute_result"
    },
    {
     "data": {
      "text/plain": [
       "{}"
      ]
     },
     "execution_count": 24,
     "metadata": {},
     "output_type": "execute_result"
    },
    {
     "data": {
      "text/plain": [
       "{}"
      ]
     },
     "execution_count": 24,
     "metadata": {},
     "output_type": "execute_result"
    },
    {
     "data": {
      "text/plain": [
       "{}"
      ]
     },
     "execution_count": 24,
     "metadata": {},
     "output_type": "execute_result"
    },
    {
     "data": {
      "text/plain": [
       "{}"
      ]
     },
     "execution_count": 24,
     "metadata": {},
     "output_type": "execute_result"
    },
    {
     "data": {
      "text/plain": [
       "{}"
      ]
     },
     "execution_count": 24,
     "metadata": {},
     "output_type": "execute_result"
    },
    {
     "data": {
      "text/plain": [
       "{}"
      ]
     },
     "execution_count": 24,
     "metadata": {},
     "output_type": "execute_result"
    },
    {
     "data": {
      "text/plain": [
       "{}"
      ]
     },
     "execution_count": 24,
     "metadata": {},
     "output_type": "execute_result"
    },
    {
     "data": {
      "text/plain": [
       "{}"
      ]
     },
     "execution_count": 24,
     "metadata": {},
     "output_type": "execute_result"
    },
    {
     "data": {
      "text/plain": [
       "{}"
      ]
     },
     "execution_count": 24,
     "metadata": {},
     "output_type": "execute_result"
    },
    {
     "data": {
      "text/plain": [
       "{}"
      ]
     },
     "execution_count": 24,
     "metadata": {},
     "output_type": "execute_result"
    },
    {
     "data": {
      "text/plain": [
       "{}"
      ]
     },
     "execution_count": 24,
     "metadata": {},
     "output_type": "execute_result"
    },
    {
     "data": {
      "text/plain": [
       "{}"
      ]
     },
     "execution_count": 24,
     "metadata": {},
     "output_type": "execute_result"
    },
    {
     "data": {
      "text/plain": [
       "{}"
      ]
     },
     "execution_count": 24,
     "metadata": {},
     "output_type": "execute_result"
    },
    {
     "data": {
      "text/plain": [
       "{}"
      ]
     },
     "execution_count": 24,
     "metadata": {},
     "output_type": "execute_result"
    },
    {
     "data": {
      "text/plain": [
       "{}"
      ]
     },
     "execution_count": 24,
     "metadata": {},
     "output_type": "execute_result"
    },
    {
     "data": {
      "text/plain": [
       "{}"
      ]
     },
     "execution_count": 24,
     "metadata": {},
     "output_type": "execute_result"
    },
    {
     "data": {
      "text/plain": [
       "{}"
      ]
     },
     "execution_count": 24,
     "metadata": {},
     "output_type": "execute_result"
    },
    {
     "data": {
      "text/plain": [
       "{}"
      ]
     },
     "execution_count": 24,
     "metadata": {},
     "output_type": "execute_result"
    },
    {
     "data": {
      "text/plain": [
       "{}"
      ]
     },
     "execution_count": 24,
     "metadata": {},
     "output_type": "execute_result"
    },
    {
     "data": {
      "text/plain": [
       "{}"
      ]
     },
     "execution_count": 24,
     "metadata": {},
     "output_type": "execute_result"
    },
    {
     "data": {
      "text/plain": [
       "{}"
      ]
     },
     "execution_count": 24,
     "metadata": {},
     "output_type": "execute_result"
    },
    {
     "data": {
      "text/plain": [
       "{}"
      ]
     },
     "execution_count": 24,
     "metadata": {},
     "output_type": "execute_result"
    },
    {
     "data": {
      "text/plain": [
       "{}"
      ]
     },
     "execution_count": 24,
     "metadata": {},
     "output_type": "execute_result"
    },
    {
     "data": {
      "text/plain": [
       "{}"
      ]
     },
     "execution_count": 24,
     "metadata": {},
     "output_type": "execute_result"
    },
    {
     "data": {
      "text/plain": [
       "{}"
      ]
     },
     "execution_count": 24,
     "metadata": {},
     "output_type": "execute_result"
    },
    {
     "data": {
      "text/plain": [
       "{}"
      ]
     },
     "execution_count": 24,
     "metadata": {},
     "output_type": "execute_result"
    },
    {
     "data": {
      "text/plain": [
       "{}"
      ]
     },
     "execution_count": 24,
     "metadata": {},
     "output_type": "execute_result"
    },
    {
     "data": {
      "text/plain": [
       "{}"
      ]
     },
     "execution_count": 24,
     "metadata": {},
     "output_type": "execute_result"
    },
    {
     "data": {
      "text/plain": [
       "{}"
      ]
     },
     "execution_count": 24,
     "metadata": {},
     "output_type": "execute_result"
    },
    {
     "data": {
      "text/plain": [
       "{}"
      ]
     },
     "execution_count": 24,
     "metadata": {},
     "output_type": "execute_result"
    },
    {
     "data": {
      "text/plain": [
       "{}"
      ]
     },
     "execution_count": 24,
     "metadata": {},
     "output_type": "execute_result"
    },
    {
     "data": {
      "text/plain": [
       "{}"
      ]
     },
     "execution_count": 24,
     "metadata": {},
     "output_type": "execute_result"
    },
    {
     "data": {
      "text/plain": [
       "{}"
      ]
     },
     "execution_count": 24,
     "metadata": {},
     "output_type": "execute_result"
    },
    {
     "data": {
      "text/plain": [
       "{}"
      ]
     },
     "execution_count": 24,
     "metadata": {},
     "output_type": "execute_result"
    },
    {
     "data": {
      "text/plain": [
       "{}"
      ]
     },
     "execution_count": 24,
     "metadata": {},
     "output_type": "execute_result"
    },
    {
     "data": {
      "text/plain": [
       "{}"
      ]
     },
     "execution_count": 24,
     "metadata": {},
     "output_type": "execute_result"
    },
    {
     "data": {
      "text/plain": [
       "{}"
      ]
     },
     "execution_count": 24,
     "metadata": {},
     "output_type": "execute_result"
    },
    {
     "data": {
      "text/plain": [
       "{}"
      ]
     },
     "execution_count": 24,
     "metadata": {},
     "output_type": "execute_result"
    },
    {
     "data": {
      "text/plain": [
       "{}"
      ]
     },
     "execution_count": 24,
     "metadata": {},
     "output_type": "execute_result"
    },
    {
     "data": {
      "text/plain": [
       "{}"
      ]
     },
     "execution_count": 24,
     "metadata": {},
     "output_type": "execute_result"
    },
    {
     "data": {
      "text/plain": [
       "{}"
      ]
     },
     "execution_count": 24,
     "metadata": {},
     "output_type": "execute_result"
    },
    {
     "data": {
      "text/plain": [
       "{}"
      ]
     },
     "execution_count": 24,
     "metadata": {},
     "output_type": "execute_result"
    },
    {
     "data": {
      "text/plain": [
       "{}"
      ]
     },
     "execution_count": 24,
     "metadata": {},
     "output_type": "execute_result"
    },
    {
     "data": {
      "text/plain": [
       "{}"
      ]
     },
     "execution_count": 24,
     "metadata": {},
     "output_type": "execute_result"
    },
    {
     "data": {
      "text/plain": [
       "{}"
      ]
     },
     "execution_count": 24,
     "metadata": {},
     "output_type": "execute_result"
    },
    {
     "data": {
      "text/plain": [
       "{}"
      ]
     },
     "execution_count": 24,
     "metadata": {},
     "output_type": "execute_result"
    },
    {
     "data": {
      "text/plain": [
       "{}"
      ]
     },
     "execution_count": 24,
     "metadata": {},
     "output_type": "execute_result"
    },
    {
     "data": {
      "text/plain": [
       "{}"
      ]
     },
     "execution_count": 24,
     "metadata": {},
     "output_type": "execute_result"
    },
    {
     "data": {
      "text/plain": [
       "{}"
      ]
     },
     "execution_count": 24,
     "metadata": {},
     "output_type": "execute_result"
    },
    {
     "data": {
      "text/plain": [
       "{}"
      ]
     },
     "execution_count": 24,
     "metadata": {},
     "output_type": "execute_result"
    },
    {
     "data": {
      "text/plain": [
       "{}"
      ]
     },
     "execution_count": 24,
     "metadata": {},
     "output_type": "execute_result"
    },
    {
     "data": {
      "text/plain": [
       "{}"
      ]
     },
     "execution_count": 24,
     "metadata": {},
     "output_type": "execute_result"
    },
    {
     "data": {
      "text/plain": [
       "{}"
      ]
     },
     "execution_count": 24,
     "metadata": {},
     "output_type": "execute_result"
    },
    {
     "data": {
      "text/plain": [
       "{}"
      ]
     },
     "execution_count": 24,
     "metadata": {},
     "output_type": "execute_result"
    },
    {
     "data": {
      "text/plain": [
       "{}"
      ]
     },
     "execution_count": 24,
     "metadata": {},
     "output_type": "execute_result"
    },
    {
     "data": {
      "text/plain": [
       "{}"
      ]
     },
     "execution_count": 24,
     "metadata": {},
     "output_type": "execute_result"
    },
    {
     "data": {
      "text/plain": [
       "{}"
      ]
     },
     "execution_count": 24,
     "metadata": {},
     "output_type": "execute_result"
    },
    {
     "data": {
      "text/plain": [
       "{}"
      ]
     },
     "execution_count": 24,
     "metadata": {},
     "output_type": "execute_result"
    },
    {
     "data": {
      "text/plain": [
       "{}"
      ]
     },
     "execution_count": 24,
     "metadata": {},
     "output_type": "execute_result"
    },
    {
     "data": {
      "text/plain": [
       "{}"
      ]
     },
     "execution_count": 24,
     "metadata": {},
     "output_type": "execute_result"
    },
    {
     "data": {
      "text/plain": [
       "{}"
      ]
     },
     "execution_count": 24,
     "metadata": {},
     "output_type": "execute_result"
    },
    {
     "data": {
      "text/plain": [
       "{}"
      ]
     },
     "execution_count": 24,
     "metadata": {},
     "output_type": "execute_result"
    },
    {
     "data": {
      "text/plain": [
       "{}"
      ]
     },
     "execution_count": 24,
     "metadata": {},
     "output_type": "execute_result"
    },
    {
     "data": {
      "text/plain": [
       "{}"
      ]
     },
     "execution_count": 24,
     "metadata": {},
     "output_type": "execute_result"
    },
    {
     "data": {
      "text/plain": [
       "{}"
      ]
     },
     "execution_count": 24,
     "metadata": {},
     "output_type": "execute_result"
    },
    {
     "data": {
      "text/plain": [
       "{}"
      ]
     },
     "execution_count": 24,
     "metadata": {},
     "output_type": "execute_result"
    },
    {
     "data": {
      "text/plain": [
       "{}"
      ]
     },
     "execution_count": 24,
     "metadata": {},
     "output_type": "execute_result"
    },
    {
     "data": {
      "text/plain": [
       "{}"
      ]
     },
     "execution_count": 24,
     "metadata": {},
     "output_type": "execute_result"
    },
    {
     "data": {
      "text/plain": [
       "{}"
      ]
     },
     "execution_count": 24,
     "metadata": {},
     "output_type": "execute_result"
    },
    {
     "data": {
      "text/plain": [
       "{}"
      ]
     },
     "execution_count": 24,
     "metadata": {},
     "output_type": "execute_result"
    },
    {
     "data": {
      "text/plain": [
       "{}"
      ]
     },
     "execution_count": 24,
     "metadata": {},
     "output_type": "execute_result"
    },
    {
     "data": {
      "text/plain": [
       "{}"
      ]
     },
     "execution_count": 24,
     "metadata": {},
     "output_type": "execute_result"
    },
    {
     "data": {
      "text/plain": [
       "{}"
      ]
     },
     "execution_count": 24,
     "metadata": {},
     "output_type": "execute_result"
    },
    {
     "data": {
      "text/plain": [
       "{}"
      ]
     },
     "execution_count": 24,
     "metadata": {},
     "output_type": "execute_result"
    },
    {
     "data": {
      "text/plain": [
       "{}"
      ]
     },
     "execution_count": 24,
     "metadata": {},
     "output_type": "execute_result"
    },
    {
     "data": {
      "text/plain": [
       "{}"
      ]
     },
     "execution_count": 24,
     "metadata": {},
     "output_type": "execute_result"
    },
    {
     "data": {
      "text/plain": [
       "{}"
      ]
     },
     "execution_count": 24,
     "metadata": {},
     "output_type": "execute_result"
    },
    {
     "data": {
      "text/plain": [
       "{}"
      ]
     },
     "execution_count": 24,
     "metadata": {},
     "output_type": "execute_result"
    },
    {
     "data": {
      "text/plain": [
       "{}"
      ]
     },
     "execution_count": 24,
     "metadata": {},
     "output_type": "execute_result"
    },
    {
     "data": {
      "text/plain": [
       "{}"
      ]
     },
     "execution_count": 24,
     "metadata": {},
     "output_type": "execute_result"
    },
    {
     "data": {
      "text/plain": [
       "{}"
      ]
     },
     "execution_count": 24,
     "metadata": {},
     "output_type": "execute_result"
    },
    {
     "data": {
      "text/plain": [
       "{}"
      ]
     },
     "execution_count": 24,
     "metadata": {},
     "output_type": "execute_result"
    },
    {
     "data": {
      "text/plain": [
       "{}"
      ]
     },
     "execution_count": 24,
     "metadata": {},
     "output_type": "execute_result"
    },
    {
     "data": {
      "text/plain": [
       "{}"
      ]
     },
     "execution_count": 24,
     "metadata": {},
     "output_type": "execute_result"
    },
    {
     "data": {
      "text/plain": [
       "{}"
      ]
     },
     "execution_count": 24,
     "metadata": {},
     "output_type": "execute_result"
    },
    {
     "data": {
      "text/plain": [
       "{}"
      ]
     },
     "execution_count": 24,
     "metadata": {},
     "output_type": "execute_result"
    },
    {
     "data": {
      "text/plain": [
       "{}"
      ]
     },
     "execution_count": 24,
     "metadata": {},
     "output_type": "execute_result"
    },
    {
     "data": {
      "text/plain": [
       "{}"
      ]
     },
     "execution_count": 24,
     "metadata": {},
     "output_type": "execute_result"
    },
    {
     "data": {
      "text/plain": [
       "{}"
      ]
     },
     "execution_count": 24,
     "metadata": {},
     "output_type": "execute_result"
    },
    {
     "data": {
      "text/plain": [
       "{}"
      ]
     },
     "execution_count": 24,
     "metadata": {},
     "output_type": "execute_result"
    },
    {
     "data": {
      "text/plain": [
       "{}"
      ]
     },
     "execution_count": 24,
     "metadata": {},
     "output_type": "execute_result"
    },
    {
     "data": {
      "text/plain": [
       "{}"
      ]
     },
     "execution_count": 24,
     "metadata": {},
     "output_type": "execute_result"
    },
    {
     "data": {
      "text/plain": [
       "{}"
      ]
     },
     "execution_count": 24,
     "metadata": {},
     "output_type": "execute_result"
    },
    {
     "data": {
      "text/plain": [
       "{}"
      ]
     },
     "execution_count": 24,
     "metadata": {},
     "output_type": "execute_result"
    },
    {
     "data": {
      "text/plain": [
       "{}"
      ]
     },
     "execution_count": 24,
     "metadata": {},
     "output_type": "execute_result"
    },
    {
     "data": {
      "text/plain": [
       "{}"
      ]
     },
     "execution_count": 24,
     "metadata": {},
     "output_type": "execute_result"
    },
    {
     "data": {
      "text/plain": [
       "{}"
      ]
     },
     "execution_count": 24,
     "metadata": {},
     "output_type": "execute_result"
    },
    {
     "data": {
      "text/plain": [
       "{}"
      ]
     },
     "execution_count": 24,
     "metadata": {},
     "output_type": "execute_result"
    },
    {
     "data": {
      "text/plain": [
       "{}"
      ]
     },
     "execution_count": 24,
     "metadata": {},
     "output_type": "execute_result"
    },
    {
     "data": {
      "text/plain": [
       "{}"
      ]
     },
     "execution_count": 24,
     "metadata": {},
     "output_type": "execute_result"
    },
    {
     "data": {
      "text/plain": [
       "{}"
      ]
     },
     "execution_count": 24,
     "metadata": {},
     "output_type": "execute_result"
    },
    {
     "data": {
      "text/plain": [
       "{}"
      ]
     },
     "execution_count": 24,
     "metadata": {},
     "output_type": "execute_result"
    },
    {
     "data": {
      "text/plain": [
       "{}"
      ]
     },
     "execution_count": 24,
     "metadata": {},
     "output_type": "execute_result"
    },
    {
     "data": {
      "text/plain": [
       "{}"
      ]
     },
     "execution_count": 24,
     "metadata": {},
     "output_type": "execute_result"
    },
    {
     "data": {
      "text/plain": [
       "{}"
      ]
     },
     "execution_count": 24,
     "metadata": {},
     "output_type": "execute_result"
    },
    {
     "data": {
      "text/plain": [
       "{}"
      ]
     },
     "execution_count": 24,
     "metadata": {},
     "output_type": "execute_result"
    },
    {
     "data": {
      "text/plain": [
       "{}"
      ]
     },
     "execution_count": 24,
     "metadata": {},
     "output_type": "execute_result"
    },
    {
     "data": {
      "text/plain": [
       "{}"
      ]
     },
     "execution_count": 24,
     "metadata": {},
     "output_type": "execute_result"
    },
    {
     "data": {
      "text/plain": [
       "{}"
      ]
     },
     "execution_count": 24,
     "metadata": {},
     "output_type": "execute_result"
    },
    {
     "data": {
      "text/plain": [
       "{}"
      ]
     },
     "execution_count": 24,
     "metadata": {},
     "output_type": "execute_result"
    },
    {
     "data": {
      "text/plain": [
       "{}"
      ]
     },
     "execution_count": 24,
     "metadata": {},
     "output_type": "execute_result"
    },
    {
     "data": {
      "text/plain": [
       "{}"
      ]
     },
     "execution_count": 24,
     "metadata": {},
     "output_type": "execute_result"
    },
    {
     "data": {
      "text/plain": [
       "{}"
      ]
     },
     "execution_count": 24,
     "metadata": {},
     "output_type": "execute_result"
    },
    {
     "data": {
      "text/plain": [
       "{}"
      ]
     },
     "execution_count": 24,
     "metadata": {},
     "output_type": "execute_result"
    },
    {
     "data": {
      "text/plain": [
       "{}"
      ]
     },
     "execution_count": 24,
     "metadata": {},
     "output_type": "execute_result"
    },
    {
     "data": {
      "text/plain": [
       "{}"
      ]
     },
     "execution_count": 24,
     "metadata": {},
     "output_type": "execute_result"
    },
    {
     "data": {
      "text/plain": [
       "{}"
      ]
     },
     "execution_count": 24,
     "metadata": {},
     "output_type": "execute_result"
    },
    {
     "data": {
      "text/plain": [
       "{}"
      ]
     },
     "execution_count": 24,
     "metadata": {},
     "output_type": "execute_result"
    },
    {
     "data": {
      "text/plain": [
       "{}"
      ]
     },
     "execution_count": 24,
     "metadata": {},
     "output_type": "execute_result"
    },
    {
     "data": {
      "text/plain": [
       "{}"
      ]
     },
     "execution_count": 24,
     "metadata": {},
     "output_type": "execute_result"
    },
    {
     "data": {
      "text/plain": [
       "{}"
      ]
     },
     "execution_count": 24,
     "metadata": {},
     "output_type": "execute_result"
    },
    {
     "data": {
      "text/plain": [
       "{}"
      ]
     },
     "execution_count": 24,
     "metadata": {},
     "output_type": "execute_result"
    },
    {
     "data": {
      "text/plain": [
       "{}"
      ]
     },
     "execution_count": 24,
     "metadata": {},
     "output_type": "execute_result"
    },
    {
     "data": {
      "text/plain": [
       "{}"
      ]
     },
     "execution_count": 24,
     "metadata": {},
     "output_type": "execute_result"
    },
    {
     "data": {
      "text/plain": [
       "{}"
      ]
     },
     "execution_count": 24,
     "metadata": {},
     "output_type": "execute_result"
    },
    {
     "data": {
      "text/plain": [
       "{}"
      ]
     },
     "execution_count": 24,
     "metadata": {},
     "output_type": "execute_result"
    },
    {
     "data": {
      "text/plain": [
       "{}"
      ]
     },
     "execution_count": 24,
     "metadata": {},
     "output_type": "execute_result"
    },
    {
     "data": {
      "text/plain": [
       "{}"
      ]
     },
     "execution_count": 24,
     "metadata": {},
     "output_type": "execute_result"
    },
    {
     "data": {
      "text/plain": [
       "{}"
      ]
     },
     "execution_count": 24,
     "metadata": {},
     "output_type": "execute_result"
    },
    {
     "data": {
      "text/plain": [
       "{}"
      ]
     },
     "execution_count": 24,
     "metadata": {},
     "output_type": "execute_result"
    },
    {
     "data": {
      "text/plain": [
       "{}"
      ]
     },
     "execution_count": 24,
     "metadata": {},
     "output_type": "execute_result"
    },
    {
     "data": {
      "text/plain": [
       "{}"
      ]
     },
     "execution_count": 24,
     "metadata": {},
     "output_type": "execute_result"
    },
    {
     "data": {
      "text/plain": [
       "{}"
      ]
     },
     "execution_count": 24,
     "metadata": {},
     "output_type": "execute_result"
    },
    {
     "data": {
      "text/plain": [
       "{}"
      ]
     },
     "execution_count": 24,
     "metadata": {},
     "output_type": "execute_result"
    },
    {
     "data": {
      "text/plain": [
       "{}"
      ]
     },
     "execution_count": 24,
     "metadata": {},
     "output_type": "execute_result"
    },
    {
     "data": {
      "text/plain": [
       "{}"
      ]
     },
     "execution_count": 24,
     "metadata": {},
     "output_type": "execute_result"
    },
    {
     "data": {
      "text/plain": [
       "{}"
      ]
     },
     "execution_count": 24,
     "metadata": {},
     "output_type": "execute_result"
    },
    {
     "data": {
      "text/plain": [
       "{}"
      ]
     },
     "execution_count": 24,
     "metadata": {},
     "output_type": "execute_result"
    },
    {
     "data": {
      "text/plain": [
       "{}"
      ]
     },
     "execution_count": 24,
     "metadata": {},
     "output_type": "execute_result"
    },
    {
     "data": {
      "text/plain": [
       "{}"
      ]
     },
     "execution_count": 24,
     "metadata": {},
     "output_type": "execute_result"
    },
    {
     "data": {
      "text/plain": [
       "{}"
      ]
     },
     "execution_count": 24,
     "metadata": {},
     "output_type": "execute_result"
    },
    {
     "data": {
      "text/plain": [
       "{}"
      ]
     },
     "execution_count": 24,
     "metadata": {},
     "output_type": "execute_result"
    },
    {
     "data": {
      "text/plain": [
       "{}"
      ]
     },
     "execution_count": 24,
     "metadata": {},
     "output_type": "execute_result"
    },
    {
     "data": {
      "text/plain": [
       "{}"
      ]
     },
     "execution_count": 24,
     "metadata": {},
     "output_type": "execute_result"
    },
    {
     "data": {
      "text/plain": [
       "{}"
      ]
     },
     "execution_count": 24,
     "metadata": {},
     "output_type": "execute_result"
    },
    {
     "data": {
      "text/plain": [
       "{}"
      ]
     },
     "execution_count": 24,
     "metadata": {},
     "output_type": "execute_result"
    },
    {
     "data": {
      "text/plain": [
       "{}"
      ]
     },
     "execution_count": 24,
     "metadata": {},
     "output_type": "execute_result"
    },
    {
     "data": {
      "text/plain": [
       "{}"
      ]
     },
     "execution_count": 24,
     "metadata": {},
     "output_type": "execute_result"
    },
    {
     "data": {
      "text/plain": [
       "{}"
      ]
     },
     "execution_count": 24,
     "metadata": {},
     "output_type": "execute_result"
    },
    {
     "data": {
      "text/plain": [
       "{}"
      ]
     },
     "execution_count": 24,
     "metadata": {},
     "output_type": "execute_result"
    },
    {
     "data": {
      "text/plain": [
       "{}"
      ]
     },
     "execution_count": 24,
     "metadata": {},
     "output_type": "execute_result"
    },
    {
     "data": {
      "text/plain": [
       "{}"
      ]
     },
     "execution_count": 24,
     "metadata": {},
     "output_type": "execute_result"
    },
    {
     "data": {
      "text/plain": [
       "{}"
      ]
     },
     "execution_count": 24,
     "metadata": {},
     "output_type": "execute_result"
    },
    {
     "data": {
      "text/plain": [
       "{}"
      ]
     },
     "execution_count": 24,
     "metadata": {},
     "output_type": "execute_result"
    },
    {
     "data": {
      "text/plain": [
       "{}"
      ]
     },
     "execution_count": 24,
     "metadata": {},
     "output_type": "execute_result"
    },
    {
     "data": {
      "text/plain": [
       "{}"
      ]
     },
     "execution_count": 24,
     "metadata": {},
     "output_type": "execute_result"
    },
    {
     "data": {
      "text/plain": [
       "{}"
      ]
     },
     "execution_count": 24,
     "metadata": {},
     "output_type": "execute_result"
    },
    {
     "data": {
      "text/plain": [
       "{}"
      ]
     },
     "execution_count": 24,
     "metadata": {},
     "output_type": "execute_result"
    },
    {
     "data": {
      "text/plain": [
       "{}"
      ]
     },
     "execution_count": 24,
     "metadata": {},
     "output_type": "execute_result"
    },
    {
     "data": {
      "text/plain": [
       "{}"
      ]
     },
     "execution_count": 24,
     "metadata": {},
     "output_type": "execute_result"
    },
    {
     "data": {
      "text/plain": [
       "{}"
      ]
     },
     "execution_count": 24,
     "metadata": {},
     "output_type": "execute_result"
    },
    {
     "data": {
      "text/plain": [
       "{}"
      ]
     },
     "execution_count": 24,
     "metadata": {},
     "output_type": "execute_result"
    },
    {
     "data": {
      "text/plain": [
       "{}"
      ]
     },
     "execution_count": 24,
     "metadata": {},
     "output_type": "execute_result"
    },
    {
     "data": {
      "text/plain": [
       "{}"
      ]
     },
     "execution_count": 24,
     "metadata": {},
     "output_type": "execute_result"
    },
    {
     "data": {
      "text/plain": [
       "{}"
      ]
     },
     "execution_count": 24,
     "metadata": {},
     "output_type": "execute_result"
    },
    {
     "data": {
      "text/plain": [
       "{}"
      ]
     },
     "execution_count": 24,
     "metadata": {},
     "output_type": "execute_result"
    },
    {
     "data": {
      "text/plain": [
       "{}"
      ]
     },
     "execution_count": 24,
     "metadata": {},
     "output_type": "execute_result"
    },
    {
     "data": {
      "text/plain": [
       "{}"
      ]
     },
     "execution_count": 24,
     "metadata": {},
     "output_type": "execute_result"
    },
    {
     "data": {
      "text/plain": [
       "{}"
      ]
     },
     "execution_count": 24,
     "metadata": {},
     "output_type": "execute_result"
    },
    {
     "data": {
      "text/plain": [
       "{}"
      ]
     },
     "execution_count": 24,
     "metadata": {},
     "output_type": "execute_result"
    },
    {
     "data": {
      "text/plain": [
       "{}"
      ]
     },
     "execution_count": 24,
     "metadata": {},
     "output_type": "execute_result"
    },
    {
     "data": {
      "text/plain": [
       "{}"
      ]
     },
     "execution_count": 24,
     "metadata": {},
     "output_type": "execute_result"
    },
    {
     "data": {
      "text/plain": [
       "{}"
      ]
     },
     "execution_count": 24,
     "metadata": {},
     "output_type": "execute_result"
    },
    {
     "data": {
      "text/plain": [
       "{}"
      ]
     },
     "execution_count": 24,
     "metadata": {},
     "output_type": "execute_result"
    },
    {
     "data": {
      "text/plain": [
       "{}"
      ]
     },
     "execution_count": 24,
     "metadata": {},
     "output_type": "execute_result"
    },
    {
     "data": {
      "text/plain": [
       "{}"
      ]
     },
     "execution_count": 24,
     "metadata": {},
     "output_type": "execute_result"
    },
    {
     "data": {
      "text/plain": [
       "{}"
      ]
     },
     "execution_count": 24,
     "metadata": {},
     "output_type": "execute_result"
    },
    {
     "data": {
      "text/plain": [
       "{}"
      ]
     },
     "execution_count": 24,
     "metadata": {},
     "output_type": "execute_result"
    },
    {
     "data": {
      "text/plain": [
       "{}"
      ]
     },
     "execution_count": 24,
     "metadata": {},
     "output_type": "execute_result"
    },
    {
     "data": {
      "text/plain": [
       "{}"
      ]
     },
     "execution_count": 24,
     "metadata": {},
     "output_type": "execute_result"
    },
    {
     "data": {
      "text/plain": [
       "{}"
      ]
     },
     "execution_count": 24,
     "metadata": {},
     "output_type": "execute_result"
    },
    {
     "data": {
      "text/plain": [
       "{}"
      ]
     },
     "execution_count": 24,
     "metadata": {},
     "output_type": "execute_result"
    },
    {
     "data": {
      "text/plain": [
       "{}"
      ]
     },
     "execution_count": 24,
     "metadata": {},
     "output_type": "execute_result"
    },
    {
     "data": {
      "text/plain": [
       "{}"
      ]
     },
     "execution_count": 24,
     "metadata": {},
     "output_type": "execute_result"
    },
    {
     "data": {
      "text/plain": [
       "{}"
      ]
     },
     "execution_count": 24,
     "metadata": {},
     "output_type": "execute_result"
    },
    {
     "data": {
      "text/plain": [
       "{}"
      ]
     },
     "execution_count": 24,
     "metadata": {},
     "output_type": "execute_result"
    },
    {
     "data": {
      "text/plain": [
       "{}"
      ]
     },
     "execution_count": 24,
     "metadata": {},
     "output_type": "execute_result"
    },
    {
     "data": {
      "text/plain": [
       "{}"
      ]
     },
     "execution_count": 24,
     "metadata": {},
     "output_type": "execute_result"
    },
    {
     "data": {
      "text/plain": [
       "{}"
      ]
     },
     "execution_count": 24,
     "metadata": {},
     "output_type": "execute_result"
    },
    {
     "data": {
      "text/plain": [
       "{}"
      ]
     },
     "execution_count": 24,
     "metadata": {},
     "output_type": "execute_result"
    },
    {
     "data": {
      "text/plain": [
       "{}"
      ]
     },
     "execution_count": 24,
     "metadata": {},
     "output_type": "execute_result"
    },
    {
     "data": {
      "text/plain": [
       "{}"
      ]
     },
     "execution_count": 24,
     "metadata": {},
     "output_type": "execute_result"
    },
    {
     "data": {
      "text/plain": [
       "{}"
      ]
     },
     "execution_count": 24,
     "metadata": {},
     "output_type": "execute_result"
    },
    {
     "data": {
      "text/plain": [
       "{}"
      ]
     },
     "execution_count": 24,
     "metadata": {},
     "output_type": "execute_result"
    },
    {
     "data": {
      "text/plain": [
       "{}"
      ]
     },
     "execution_count": 24,
     "metadata": {},
     "output_type": "execute_result"
    },
    {
     "data": {
      "text/plain": [
       "{}"
      ]
     },
     "execution_count": 24,
     "metadata": {},
     "output_type": "execute_result"
    },
    {
     "data": {
      "text/plain": [
       "{}"
      ]
     },
     "execution_count": 24,
     "metadata": {},
     "output_type": "execute_result"
    },
    {
     "data": {
      "text/plain": [
       "{}"
      ]
     },
     "execution_count": 24,
     "metadata": {},
     "output_type": "execute_result"
    },
    {
     "data": {
      "text/plain": [
       "{}"
      ]
     },
     "execution_count": 24,
     "metadata": {},
     "output_type": "execute_result"
    },
    {
     "data": {
      "text/plain": [
       "{}"
      ]
     },
     "execution_count": 24,
     "metadata": {},
     "output_type": "execute_result"
    },
    {
     "data": {
      "text/plain": [
       "{}"
      ]
     },
     "execution_count": 24,
     "metadata": {},
     "output_type": "execute_result"
    },
    {
     "data": {
      "text/plain": [
       "{}"
      ]
     },
     "execution_count": 24,
     "metadata": {},
     "output_type": "execute_result"
    },
    {
     "data": {
      "text/plain": [
       "{}"
      ]
     },
     "execution_count": 24,
     "metadata": {},
     "output_type": "execute_result"
    },
    {
     "data": {
      "text/plain": [
       "{}"
      ]
     },
     "execution_count": 24,
     "metadata": {},
     "output_type": "execute_result"
    },
    {
     "data": {
      "text/plain": [
       "{}"
      ]
     },
     "execution_count": 24,
     "metadata": {},
     "output_type": "execute_result"
    },
    {
     "data": {
      "text/plain": [
       "{}"
      ]
     },
     "execution_count": 24,
     "metadata": {},
     "output_type": "execute_result"
    },
    {
     "data": {
      "text/plain": [
       "{}"
      ]
     },
     "execution_count": 24,
     "metadata": {},
     "output_type": "execute_result"
    },
    {
     "data": {
      "text/plain": [
       "{}"
      ]
     },
     "execution_count": 24,
     "metadata": {},
     "output_type": "execute_result"
    },
    {
     "data": {
      "text/plain": [
       "{}"
      ]
     },
     "execution_count": 24,
     "metadata": {},
     "output_type": "execute_result"
    },
    {
     "data": {
      "text/plain": [
       "{}"
      ]
     },
     "execution_count": 24,
     "metadata": {},
     "output_type": "execute_result"
    },
    {
     "data": {
      "text/plain": [
       "{}"
      ]
     },
     "execution_count": 24,
     "metadata": {},
     "output_type": "execute_result"
    },
    {
     "data": {
      "text/plain": [
       "{}"
      ]
     },
     "execution_count": 24,
     "metadata": {},
     "output_type": "execute_result"
    },
    {
     "data": {
      "text/plain": [
       "{}"
      ]
     },
     "execution_count": 24,
     "metadata": {},
     "output_type": "execute_result"
    },
    {
     "data": {
      "text/plain": [
       "{}"
      ]
     },
     "execution_count": 24,
     "metadata": {},
     "output_type": "execute_result"
    },
    {
     "data": {
      "text/plain": [
       "{}"
      ]
     },
     "execution_count": 24,
     "metadata": {},
     "output_type": "execute_result"
    },
    {
     "data": {
      "text/plain": [
       "{}"
      ]
     },
     "execution_count": 24,
     "metadata": {},
     "output_type": "execute_result"
    },
    {
     "data": {
      "text/plain": [
       "{}"
      ]
     },
     "execution_count": 24,
     "metadata": {},
     "output_type": "execute_result"
    },
    {
     "data": {
      "text/plain": [
       "{}"
      ]
     },
     "execution_count": 24,
     "metadata": {},
     "output_type": "execute_result"
    },
    {
     "data": {
      "text/plain": [
       "{}"
      ]
     },
     "execution_count": 24,
     "metadata": {},
     "output_type": "execute_result"
    },
    {
     "data": {
      "text/plain": [
       "{}"
      ]
     },
     "execution_count": 24,
     "metadata": {},
     "output_type": "execute_result"
    },
    {
     "data": {
      "text/plain": [
       "{}"
      ]
     },
     "execution_count": 24,
     "metadata": {},
     "output_type": "execute_result"
    },
    {
     "data": {
      "text/plain": [
       "{}"
      ]
     },
     "execution_count": 24,
     "metadata": {},
     "output_type": "execute_result"
    },
    {
     "data": {
      "text/plain": [
       "{}"
      ]
     },
     "execution_count": 24,
     "metadata": {},
     "output_type": "execute_result"
    },
    {
     "data": {
      "text/plain": [
       "{}"
      ]
     },
     "execution_count": 24,
     "metadata": {},
     "output_type": "execute_result"
    },
    {
     "data": {
      "text/plain": [
       "{}"
      ]
     },
     "execution_count": 24,
     "metadata": {},
     "output_type": "execute_result"
    },
    {
     "data": {
      "text/plain": [
       "{}"
      ]
     },
     "execution_count": 24,
     "metadata": {},
     "output_type": "execute_result"
    },
    {
     "data": {
      "text/plain": [
       "{}"
      ]
     },
     "execution_count": 24,
     "metadata": {},
     "output_type": "execute_result"
    },
    {
     "data": {
      "text/plain": [
       "{}"
      ]
     },
     "execution_count": 24,
     "metadata": {},
     "output_type": "execute_result"
    },
    {
     "data": {
      "text/plain": [
       "{}"
      ]
     },
     "execution_count": 24,
     "metadata": {},
     "output_type": "execute_result"
    },
    {
     "data": {
      "text/plain": [
       "{}"
      ]
     },
     "execution_count": 24,
     "metadata": {},
     "output_type": "execute_result"
    },
    {
     "data": {
      "text/plain": [
       "{}"
      ]
     },
     "execution_count": 24,
     "metadata": {},
     "output_type": "execute_result"
    },
    {
     "data": {
      "text/plain": [
       "{}"
      ]
     },
     "execution_count": 24,
     "metadata": {},
     "output_type": "execute_result"
    },
    {
     "data": {
      "text/plain": [
       "{}"
      ]
     },
     "execution_count": 24,
     "metadata": {},
     "output_type": "execute_result"
    },
    {
     "data": {
      "text/plain": [
       "{}"
      ]
     },
     "execution_count": 24,
     "metadata": {},
     "output_type": "execute_result"
    },
    {
     "data": {
      "text/plain": [
       "{}"
      ]
     },
     "execution_count": 24,
     "metadata": {},
     "output_type": "execute_result"
    },
    {
     "data": {
      "text/plain": [
       "{}"
      ]
     },
     "execution_count": 24,
     "metadata": {},
     "output_type": "execute_result"
    },
    {
     "data": {
      "text/plain": [
       "{}"
      ]
     },
     "execution_count": 24,
     "metadata": {},
     "output_type": "execute_result"
    },
    {
     "data": {
      "text/plain": [
       "{}"
      ]
     },
     "execution_count": 24,
     "metadata": {},
     "output_type": "execute_result"
    },
    {
     "data": {
      "text/plain": [
       "{}"
      ]
     },
     "execution_count": 24,
     "metadata": {},
     "output_type": "execute_result"
    },
    {
     "data": {
      "text/plain": [
       "{}"
      ]
     },
     "execution_count": 24,
     "metadata": {},
     "output_type": "execute_result"
    },
    {
     "data": {
      "text/plain": [
       "{}"
      ]
     },
     "execution_count": 24,
     "metadata": {},
     "output_type": "execute_result"
    },
    {
     "data": {
      "text/plain": [
       "{}"
      ]
     },
     "execution_count": 24,
     "metadata": {},
     "output_type": "execute_result"
    },
    {
     "data": {
      "text/plain": [
       "{}"
      ]
     },
     "execution_count": 24,
     "metadata": {},
     "output_type": "execute_result"
    },
    {
     "data": {
      "text/plain": [
       "{}"
      ]
     },
     "execution_count": 24,
     "metadata": {},
     "output_type": "execute_result"
    },
    {
     "data": {
      "text/plain": [
       "{}"
      ]
     },
     "execution_count": 24,
     "metadata": {},
     "output_type": "execute_result"
    },
    {
     "data": {
      "text/plain": [
       "{}"
      ]
     },
     "execution_count": 24,
     "metadata": {},
     "output_type": "execute_result"
    },
    {
     "data": {
      "text/plain": [
       "{}"
      ]
     },
     "execution_count": 24,
     "metadata": {},
     "output_type": "execute_result"
    },
    {
     "data": {
      "text/plain": [
       "{}"
      ]
     },
     "execution_count": 24,
     "metadata": {},
     "output_type": "execute_result"
    },
    {
     "data": {
      "text/plain": [
       "{}"
      ]
     },
     "execution_count": 24,
     "metadata": {},
     "output_type": "execute_result"
    },
    {
     "data": {
      "text/plain": [
       "{}"
      ]
     },
     "execution_count": 24,
     "metadata": {},
     "output_type": "execute_result"
    },
    {
     "data": {
      "text/plain": [
       "{}"
      ]
     },
     "execution_count": 24,
     "metadata": {},
     "output_type": "execute_result"
    },
    {
     "data": {
      "text/plain": [
       "{}"
      ]
     },
     "execution_count": 24,
     "metadata": {},
     "output_type": "execute_result"
    },
    {
     "data": {
      "text/plain": [
       "{}"
      ]
     },
     "execution_count": 24,
     "metadata": {},
     "output_type": "execute_result"
    },
    {
     "data": {
      "text/plain": [
       "{}"
      ]
     },
     "execution_count": 24,
     "metadata": {},
     "output_type": "execute_result"
    },
    {
     "data": {
      "text/plain": [
       "{}"
      ]
     },
     "execution_count": 24,
     "metadata": {},
     "output_type": "execute_result"
    },
    {
     "data": {
      "text/plain": [
       "{}"
      ]
     },
     "execution_count": 24,
     "metadata": {},
     "output_type": "execute_result"
    },
    {
     "data": {
      "text/plain": [
       "{}"
      ]
     },
     "execution_count": 24,
     "metadata": {},
     "output_type": "execute_result"
    },
    {
     "data": {
      "text/plain": [
       "{}"
      ]
     },
     "execution_count": 24,
     "metadata": {},
     "output_type": "execute_result"
    },
    {
     "data": {
      "text/plain": [
       "{}"
      ]
     },
     "execution_count": 24,
     "metadata": {},
     "output_type": "execute_result"
    },
    {
     "data": {
      "text/plain": [
       "{}"
      ]
     },
     "execution_count": 24,
     "metadata": {},
     "output_type": "execute_result"
    },
    {
     "data": {
      "text/plain": [
       "{}"
      ]
     },
     "execution_count": 24,
     "metadata": {},
     "output_type": "execute_result"
    },
    {
     "data": {
      "text/plain": [
       "{}"
      ]
     },
     "execution_count": 24,
     "metadata": {},
     "output_type": "execute_result"
    },
    {
     "data": {
      "text/plain": [
       "{}"
      ]
     },
     "execution_count": 24,
     "metadata": {},
     "output_type": "execute_result"
    },
    {
     "data": {
      "text/plain": [
       "{}"
      ]
     },
     "execution_count": 24,
     "metadata": {},
     "output_type": "execute_result"
    },
    {
     "data": {
      "text/plain": [
       "{}"
      ]
     },
     "execution_count": 24,
     "metadata": {},
     "output_type": "execute_result"
    },
    {
     "data": {
      "text/plain": [
       "{}"
      ]
     },
     "execution_count": 24,
     "metadata": {},
     "output_type": "execute_result"
    },
    {
     "data": {
      "text/plain": [
       "{}"
      ]
     },
     "execution_count": 24,
     "metadata": {},
     "output_type": "execute_result"
    },
    {
     "data": {
      "text/plain": [
       "{}"
      ]
     },
     "execution_count": 24,
     "metadata": {},
     "output_type": "execute_result"
    },
    {
     "data": {
      "text/plain": [
       "{}"
      ]
     },
     "execution_count": 24,
     "metadata": {},
     "output_type": "execute_result"
    },
    {
     "data": {
      "text/plain": [
       "{}"
      ]
     },
     "execution_count": 24,
     "metadata": {},
     "output_type": "execute_result"
    },
    {
     "data": {
      "text/plain": [
       "{}"
      ]
     },
     "execution_count": 24,
     "metadata": {},
     "output_type": "execute_result"
    },
    {
     "data": {
      "text/plain": [
       "{}"
      ]
     },
     "execution_count": 24,
     "metadata": {},
     "output_type": "execute_result"
    },
    {
     "data": {
      "text/plain": [
       "{}"
      ]
     },
     "execution_count": 24,
     "metadata": {},
     "output_type": "execute_result"
    },
    {
     "data": {
      "text/plain": [
       "{}"
      ]
     },
     "execution_count": 24,
     "metadata": {},
     "output_type": "execute_result"
    },
    {
     "data": {
      "text/plain": [
       "{}"
      ]
     },
     "execution_count": 24,
     "metadata": {},
     "output_type": "execute_result"
    },
    {
     "data": {
      "text/plain": [
       "{}"
      ]
     },
     "execution_count": 24,
     "metadata": {},
     "output_type": "execute_result"
    },
    {
     "data": {
      "text/plain": [
       "{}"
      ]
     },
     "execution_count": 24,
     "metadata": {},
     "output_type": "execute_result"
    },
    {
     "data": {
      "text/plain": [
       "{}"
      ]
     },
     "execution_count": 24,
     "metadata": {},
     "output_type": "execute_result"
    },
    {
     "data": {
      "text/plain": [
       "{}"
      ]
     },
     "execution_count": 24,
     "metadata": {},
     "output_type": "execute_result"
    },
    {
     "data": {
      "text/plain": [
       "{}"
      ]
     },
     "execution_count": 24,
     "metadata": {},
     "output_type": "execute_result"
    },
    {
     "data": {
      "text/plain": [
       "{}"
      ]
     },
     "execution_count": 24,
     "metadata": {},
     "output_type": "execute_result"
    },
    {
     "data": {
      "text/plain": [
       "{}"
      ]
     },
     "execution_count": 24,
     "metadata": {},
     "output_type": "execute_result"
    },
    {
     "data": {
      "text/plain": [
       "{}"
      ]
     },
     "execution_count": 24,
     "metadata": {},
     "output_type": "execute_result"
    },
    {
     "data": {
      "text/plain": [
       "{}"
      ]
     },
     "execution_count": 24,
     "metadata": {},
     "output_type": "execute_result"
    },
    {
     "data": {
      "text/plain": [
       "{}"
      ]
     },
     "execution_count": 24,
     "metadata": {},
     "output_type": "execute_result"
    },
    {
     "data": {
      "text/plain": [
       "{}"
      ]
     },
     "execution_count": 24,
     "metadata": {},
     "output_type": "execute_result"
    },
    {
     "data": {
      "text/plain": [
       "{}"
      ]
     },
     "execution_count": 24,
     "metadata": {},
     "output_type": "execute_result"
    },
    {
     "data": {
      "text/plain": [
       "{}"
      ]
     },
     "execution_count": 24,
     "metadata": {},
     "output_type": "execute_result"
    },
    {
     "data": {
      "text/plain": [
       "{}"
      ]
     },
     "execution_count": 24,
     "metadata": {},
     "output_type": "execute_result"
    },
    {
     "data": {
      "text/plain": [
       "{}"
      ]
     },
     "execution_count": 24,
     "metadata": {},
     "output_type": "execute_result"
    },
    {
     "data": {
      "text/plain": [
       "{}"
      ]
     },
     "execution_count": 24,
     "metadata": {},
     "output_type": "execute_result"
    },
    {
     "data": {
      "text/plain": [
       "{}"
      ]
     },
     "execution_count": 24,
     "metadata": {},
     "output_type": "execute_result"
    },
    {
     "data": {
      "text/plain": [
       "{}"
      ]
     },
     "execution_count": 24,
     "metadata": {},
     "output_type": "execute_result"
    },
    {
     "data": {
      "text/plain": [
       "{}"
      ]
     },
     "execution_count": 24,
     "metadata": {},
     "output_type": "execute_result"
    },
    {
     "data": {
      "text/plain": [
       "{}"
      ]
     },
     "execution_count": 24,
     "metadata": {},
     "output_type": "execute_result"
    },
    {
     "data": {
      "text/plain": [
       "{}"
      ]
     },
     "execution_count": 24,
     "metadata": {},
     "output_type": "execute_result"
    },
    {
     "data": {
      "text/plain": [
       "{}"
      ]
     },
     "execution_count": 24,
     "metadata": {},
     "output_type": "execute_result"
    },
    {
     "data": {
      "text/plain": [
       "{}"
      ]
     },
     "execution_count": 24,
     "metadata": {},
     "output_type": "execute_result"
    },
    {
     "data": {
      "text/plain": [
       "{}"
      ]
     },
     "execution_count": 24,
     "metadata": {},
     "output_type": "execute_result"
    },
    {
     "data": {
      "text/plain": [
       "{}"
      ]
     },
     "execution_count": 24,
     "metadata": {},
     "output_type": "execute_result"
    },
    {
     "data": {
      "text/plain": [
       "{}"
      ]
     },
     "execution_count": 24,
     "metadata": {},
     "output_type": "execute_result"
    },
    {
     "data": {
      "text/plain": [
       "{}"
      ]
     },
     "execution_count": 24,
     "metadata": {},
     "output_type": "execute_result"
    },
    {
     "data": {
      "text/plain": [
       "{}"
      ]
     },
     "execution_count": 24,
     "metadata": {},
     "output_type": "execute_result"
    },
    {
     "data": {
      "text/plain": [
       "{}"
      ]
     },
     "execution_count": 24,
     "metadata": {},
     "output_type": "execute_result"
    },
    {
     "data": {
      "text/plain": [
       "{}"
      ]
     },
     "execution_count": 24,
     "metadata": {},
     "output_type": "execute_result"
    },
    {
     "data": {
      "text/plain": [
       "{}"
      ]
     },
     "execution_count": 24,
     "metadata": {},
     "output_type": "execute_result"
    },
    {
     "data": {
      "text/plain": [
       "{}"
      ]
     },
     "execution_count": 24,
     "metadata": {},
     "output_type": "execute_result"
    },
    {
     "data": {
      "text/plain": [
       "{}"
      ]
     },
     "execution_count": 24,
     "metadata": {},
     "output_type": "execute_result"
    },
    {
     "data": {
      "text/plain": [
       "{}"
      ]
     },
     "execution_count": 24,
     "metadata": {},
     "output_type": "execute_result"
    },
    {
     "data": {
      "text/plain": [
       "{}"
      ]
     },
     "execution_count": 24,
     "metadata": {},
     "output_type": "execute_result"
    },
    {
     "data": {
      "text/plain": [
       "{}"
      ]
     },
     "execution_count": 24,
     "metadata": {},
     "output_type": "execute_result"
    },
    {
     "data": {
      "text/plain": [
       "{}"
      ]
     },
     "execution_count": 24,
     "metadata": {},
     "output_type": "execute_result"
    },
    {
     "data": {
      "text/plain": [
       "{}"
      ]
     },
     "execution_count": 24,
     "metadata": {},
     "output_type": "execute_result"
    },
    {
     "data": {
      "text/plain": [
       "{}"
      ]
     },
     "execution_count": 24,
     "metadata": {},
     "output_type": "execute_result"
    },
    {
     "data": {
      "text/plain": [
       "{}"
      ]
     },
     "execution_count": 24,
     "metadata": {},
     "output_type": "execute_result"
    },
    {
     "data": {
      "text/plain": [
       "{}"
      ]
     },
     "execution_count": 24,
     "metadata": {},
     "output_type": "execute_result"
    },
    {
     "data": {
      "text/plain": [
       "{}"
      ]
     },
     "execution_count": 24,
     "metadata": {},
     "output_type": "execute_result"
    },
    {
     "data": {
      "text/plain": [
       "{}"
      ]
     },
     "execution_count": 24,
     "metadata": {},
     "output_type": "execute_result"
    },
    {
     "data": {
      "text/plain": [
       "{}"
      ]
     },
     "execution_count": 24,
     "metadata": {},
     "output_type": "execute_result"
    },
    {
     "data": {
      "text/plain": [
       "{}"
      ]
     },
     "execution_count": 24,
     "metadata": {},
     "output_type": "execute_result"
    },
    {
     "data": {
      "text/plain": [
       "{}"
      ]
     },
     "execution_count": 24,
     "metadata": {},
     "output_type": "execute_result"
    },
    {
     "data": {
      "text/plain": [
       "{}"
      ]
     },
     "execution_count": 24,
     "metadata": {},
     "output_type": "execute_result"
    },
    {
     "data": {
      "text/plain": [
       "{}"
      ]
     },
     "execution_count": 24,
     "metadata": {},
     "output_type": "execute_result"
    },
    {
     "data": {
      "text/plain": [
       "{}"
      ]
     },
     "execution_count": 24,
     "metadata": {},
     "output_type": "execute_result"
    },
    {
     "data": {
      "text/plain": [
       "{}"
      ]
     },
     "execution_count": 24,
     "metadata": {},
     "output_type": "execute_result"
    },
    {
     "data": {
      "text/plain": [
       "{}"
      ]
     },
     "execution_count": 24,
     "metadata": {},
     "output_type": "execute_result"
    },
    {
     "data": {
      "text/plain": [
       "{}"
      ]
     },
     "execution_count": 24,
     "metadata": {},
     "output_type": "execute_result"
    },
    {
     "data": {
      "text/plain": [
       "{}"
      ]
     },
     "execution_count": 24,
     "metadata": {},
     "output_type": "execute_result"
    },
    {
     "data": {
      "text/plain": [
       "{}"
      ]
     },
     "execution_count": 24,
     "metadata": {},
     "output_type": "execute_result"
    },
    {
     "data": {
      "text/plain": [
       "{}"
      ]
     },
     "execution_count": 24,
     "metadata": {},
     "output_type": "execute_result"
    },
    {
     "data": {
      "text/plain": [
       "{}"
      ]
     },
     "execution_count": 24,
     "metadata": {},
     "output_type": "execute_result"
    },
    {
     "data": {
      "text/plain": [
       "{}"
      ]
     },
     "execution_count": 24,
     "metadata": {},
     "output_type": "execute_result"
    },
    {
     "data": {
      "text/plain": [
       "{}"
      ]
     },
     "execution_count": 24,
     "metadata": {},
     "output_type": "execute_result"
    },
    {
     "data": {
      "text/plain": [
       "{}"
      ]
     },
     "execution_count": 24,
     "metadata": {},
     "output_type": "execute_result"
    },
    {
     "data": {
      "text/plain": [
       "{}"
      ]
     },
     "execution_count": 24,
     "metadata": {},
     "output_type": "execute_result"
    },
    {
     "data": {
      "text/plain": [
       "{}"
      ]
     },
     "execution_count": 24,
     "metadata": {},
     "output_type": "execute_result"
    },
    {
     "data": {
      "text/plain": [
       "{}"
      ]
     },
     "execution_count": 24,
     "metadata": {},
     "output_type": "execute_result"
    },
    {
     "data": {
      "text/plain": [
       "{}"
      ]
     },
     "execution_count": 24,
     "metadata": {},
     "output_type": "execute_result"
    },
    {
     "data": {
      "text/plain": [
       "{}"
      ]
     },
     "execution_count": 24,
     "metadata": {},
     "output_type": "execute_result"
    },
    {
     "data": {
      "text/plain": [
       "{}"
      ]
     },
     "execution_count": 24,
     "metadata": {},
     "output_type": "execute_result"
    },
    {
     "data": {
      "text/plain": [
       "{}"
      ]
     },
     "execution_count": 24,
     "metadata": {},
     "output_type": "execute_result"
    },
    {
     "data": {
      "text/plain": [
       "{}"
      ]
     },
     "execution_count": 24,
     "metadata": {},
     "output_type": "execute_result"
    },
    {
     "data": {
      "text/plain": [
       "{}"
      ]
     },
     "execution_count": 24,
     "metadata": {},
     "output_type": "execute_result"
    },
    {
     "data": {
      "text/plain": [
       "{}"
      ]
     },
     "execution_count": 24,
     "metadata": {},
     "output_type": "execute_result"
    },
    {
     "data": {
      "text/plain": [
       "{}"
      ]
     },
     "execution_count": 24,
     "metadata": {},
     "output_type": "execute_result"
    },
    {
     "data": {
      "text/plain": [
       "{}"
      ]
     },
     "execution_count": 24,
     "metadata": {},
     "output_type": "execute_result"
    },
    {
     "data": {
      "text/plain": [
       "{}"
      ]
     },
     "execution_count": 24,
     "metadata": {},
     "output_type": "execute_result"
    },
    {
     "data": {
      "text/plain": [
       "{}"
      ]
     },
     "execution_count": 24,
     "metadata": {},
     "output_type": "execute_result"
    },
    {
     "data": {
      "text/plain": [
       "{}"
      ]
     },
     "execution_count": 24,
     "metadata": {},
     "output_type": "execute_result"
    },
    {
     "data": {
      "text/plain": [
       "{}"
      ]
     },
     "execution_count": 24,
     "metadata": {},
     "output_type": "execute_result"
    },
    {
     "data": {
      "text/plain": [
       "{}"
      ]
     },
     "execution_count": 24,
     "metadata": {},
     "output_type": "execute_result"
    },
    {
     "data": {
      "text/plain": [
       "{}"
      ]
     },
     "execution_count": 24,
     "metadata": {},
     "output_type": "execute_result"
    },
    {
     "data": {
      "text/plain": [
       "{}"
      ]
     },
     "execution_count": 24,
     "metadata": {},
     "output_type": "execute_result"
    },
    {
     "data": {
      "text/plain": [
       "{}"
      ]
     },
     "execution_count": 24,
     "metadata": {},
     "output_type": "execute_result"
    },
    {
     "data": {
      "text/plain": [
       "{}"
      ]
     },
     "execution_count": 24,
     "metadata": {},
     "output_type": "execute_result"
    },
    {
     "data": {
      "text/plain": [
       "{}"
      ]
     },
     "execution_count": 24,
     "metadata": {},
     "output_type": "execute_result"
    },
    {
     "data": {
      "text/plain": [
       "{}"
      ]
     },
     "execution_count": 24,
     "metadata": {},
     "output_type": "execute_result"
    },
    {
     "data": {
      "text/plain": [
       "{}"
      ]
     },
     "execution_count": 24,
     "metadata": {},
     "output_type": "execute_result"
    },
    {
     "data": {
      "text/plain": [
       "{}"
      ]
     },
     "execution_count": 24,
     "metadata": {},
     "output_type": "execute_result"
    },
    {
     "data": {
      "text/plain": [
       "{}"
      ]
     },
     "execution_count": 24,
     "metadata": {},
     "output_type": "execute_result"
    },
    {
     "data": {
      "text/plain": [
       "{}"
      ]
     },
     "execution_count": 24,
     "metadata": {},
     "output_type": "execute_result"
    },
    {
     "data": {
      "text/plain": [
       "{}"
      ]
     },
     "execution_count": 24,
     "metadata": {},
     "output_type": "execute_result"
    },
    {
     "data": {
      "text/plain": [
       "{}"
      ]
     },
     "execution_count": 24,
     "metadata": {},
     "output_type": "execute_result"
    },
    {
     "data": {
      "text/plain": [
       "{}"
      ]
     },
     "execution_count": 24,
     "metadata": {},
     "output_type": "execute_result"
    },
    {
     "data": {
      "text/plain": [
       "{}"
      ]
     },
     "execution_count": 24,
     "metadata": {},
     "output_type": "execute_result"
    },
    {
     "data": {
      "text/plain": [
       "{}"
      ]
     },
     "execution_count": 24,
     "metadata": {},
     "output_type": "execute_result"
    },
    {
     "data": {
      "text/plain": [
       "{}"
      ]
     },
     "execution_count": 24,
     "metadata": {},
     "output_type": "execute_result"
    },
    {
     "data": {
      "text/plain": [
       "{}"
      ]
     },
     "execution_count": 24,
     "metadata": {},
     "output_type": "execute_result"
    },
    {
     "data": {
      "text/plain": [
       "{}"
      ]
     },
     "execution_count": 24,
     "metadata": {},
     "output_type": "execute_result"
    },
    {
     "data": {
      "text/plain": [
       "{}"
      ]
     },
     "execution_count": 24,
     "metadata": {},
     "output_type": "execute_result"
    },
    {
     "data": {
      "text/plain": [
       "{}"
      ]
     },
     "execution_count": 24,
     "metadata": {},
     "output_type": "execute_result"
    },
    {
     "data": {
      "text/plain": [
       "{}"
      ]
     },
     "execution_count": 24,
     "metadata": {},
     "output_type": "execute_result"
    },
    {
     "data": {
      "text/plain": [
       "{}"
      ]
     },
     "execution_count": 24,
     "metadata": {},
     "output_type": "execute_result"
    },
    {
     "data": {
      "text/plain": [
       "{}"
      ]
     },
     "execution_count": 24,
     "metadata": {},
     "output_type": "execute_result"
    },
    {
     "data": {
      "text/plain": [
       "{}"
      ]
     },
     "execution_count": 24,
     "metadata": {},
     "output_type": "execute_result"
    },
    {
     "data": {
      "text/plain": [
       "{}"
      ]
     },
     "execution_count": 24,
     "metadata": {},
     "output_type": "execute_result"
    },
    {
     "data": {
      "text/plain": [
       "{}"
      ]
     },
     "execution_count": 24,
     "metadata": {},
     "output_type": "execute_result"
    },
    {
     "data": {
      "text/plain": [
       "{}"
      ]
     },
     "execution_count": 24,
     "metadata": {},
     "output_type": "execute_result"
    },
    {
     "data": {
      "text/plain": [
       "{}"
      ]
     },
     "execution_count": 24,
     "metadata": {},
     "output_type": "execute_result"
    },
    {
     "data": {
      "text/plain": [
       "{}"
      ]
     },
     "execution_count": 24,
     "metadata": {},
     "output_type": "execute_result"
    },
    {
     "data": {
      "text/plain": [
       "{}"
      ]
     },
     "execution_count": 24,
     "metadata": {},
     "output_type": "execute_result"
    },
    {
     "data": {
      "text/plain": [
       "{}"
      ]
     },
     "execution_count": 24,
     "metadata": {},
     "output_type": "execute_result"
    },
    {
     "data": {
      "text/plain": [
       "{}"
      ]
     },
     "execution_count": 24,
     "metadata": {},
     "output_type": "execute_result"
    },
    {
     "data": {
      "text/plain": [
       "{}"
      ]
     },
     "execution_count": 24,
     "metadata": {},
     "output_type": "execute_result"
    },
    {
     "data": {
      "text/plain": [
       "{}"
      ]
     },
     "execution_count": 24,
     "metadata": {},
     "output_type": "execute_result"
    },
    {
     "data": {
      "text/plain": [
       "{}"
      ]
     },
     "execution_count": 24,
     "metadata": {},
     "output_type": "execute_result"
    },
    {
     "data": {
      "text/plain": [
       "{}"
      ]
     },
     "execution_count": 24,
     "metadata": {},
     "output_type": "execute_result"
    },
    {
     "data": {
      "text/plain": [
       "{}"
      ]
     },
     "execution_count": 24,
     "metadata": {},
     "output_type": "execute_result"
    },
    {
     "data": {
      "text/plain": [
       "{}"
      ]
     },
     "execution_count": 24,
     "metadata": {},
     "output_type": "execute_result"
    },
    {
     "data": {
      "text/plain": [
       "{}"
      ]
     },
     "execution_count": 24,
     "metadata": {},
     "output_type": "execute_result"
    },
    {
     "data": {
      "text/plain": [
       "{}"
      ]
     },
     "execution_count": 24,
     "metadata": {},
     "output_type": "execute_result"
    },
    {
     "data": {
      "text/plain": [
       "{}"
      ]
     },
     "execution_count": 24,
     "metadata": {},
     "output_type": "execute_result"
    },
    {
     "data": {
      "text/plain": [
       "{}"
      ]
     },
     "execution_count": 24,
     "metadata": {},
     "output_type": "execute_result"
    },
    {
     "data": {
      "text/plain": [
       "{}"
      ]
     },
     "execution_count": 24,
     "metadata": {},
     "output_type": "execute_result"
    },
    {
     "data": {
      "text/plain": [
       "{}"
      ]
     },
     "execution_count": 24,
     "metadata": {},
     "output_type": "execute_result"
    },
    {
     "data": {
      "text/plain": [
       "{}"
      ]
     },
     "execution_count": 24,
     "metadata": {},
     "output_type": "execute_result"
    },
    {
     "data": {
      "text/plain": [
       "{}"
      ]
     },
     "execution_count": 24,
     "metadata": {},
     "output_type": "execute_result"
    },
    {
     "data": {
      "text/plain": [
       "{}"
      ]
     },
     "execution_count": 24,
     "metadata": {},
     "output_type": "execute_result"
    },
    {
     "data": {
      "text/plain": [
       "{}"
      ]
     },
     "execution_count": 24,
     "metadata": {},
     "output_type": "execute_result"
    },
    {
     "data": {
      "text/plain": [
       "{}"
      ]
     },
     "execution_count": 24,
     "metadata": {},
     "output_type": "execute_result"
    },
    {
     "data": {
      "text/plain": [
       "{}"
      ]
     },
     "execution_count": 24,
     "metadata": {},
     "output_type": "execute_result"
    },
    {
     "data": {
      "text/plain": [
       "{}"
      ]
     },
     "execution_count": 24,
     "metadata": {},
     "output_type": "execute_result"
    },
    {
     "data": {
      "text/plain": [
       "{}"
      ]
     },
     "execution_count": 24,
     "metadata": {},
     "output_type": "execute_result"
    },
    {
     "data": {
      "text/plain": [
       "{}"
      ]
     },
     "execution_count": 24,
     "metadata": {},
     "output_type": "execute_result"
    },
    {
     "data": {
      "text/plain": [
       "{}"
      ]
     },
     "execution_count": 24,
     "metadata": {},
     "output_type": "execute_result"
    },
    {
     "data": {
      "text/plain": [
       "{}"
      ]
     },
     "execution_count": 24,
     "metadata": {},
     "output_type": "execute_result"
    },
    {
     "data": {
      "text/plain": [
       "{}"
      ]
     },
     "execution_count": 24,
     "metadata": {},
     "output_type": "execute_result"
    },
    {
     "data": {
      "text/plain": [
       "{}"
      ]
     },
     "execution_count": 24,
     "metadata": {},
     "output_type": "execute_result"
    },
    {
     "data": {
      "text/plain": [
       "{}"
      ]
     },
     "execution_count": 24,
     "metadata": {},
     "output_type": "execute_result"
    },
    {
     "data": {
      "text/plain": [
       "{}"
      ]
     },
     "execution_count": 24,
     "metadata": {},
     "output_type": "execute_result"
    },
    {
     "data": {
      "text/plain": [
       "{}"
      ]
     },
     "execution_count": 24,
     "metadata": {},
     "output_type": "execute_result"
    },
    {
     "data": {
      "text/plain": [
       "{}"
      ]
     },
     "execution_count": 24,
     "metadata": {},
     "output_type": "execute_result"
    },
    {
     "data": {
      "text/plain": [
       "{}"
      ]
     },
     "execution_count": 24,
     "metadata": {},
     "output_type": "execute_result"
    },
    {
     "data": {
      "text/plain": [
       "{}"
      ]
     },
     "execution_count": 24,
     "metadata": {},
     "output_type": "execute_result"
    },
    {
     "data": {
      "text/plain": [
       "{}"
      ]
     },
     "execution_count": 24,
     "metadata": {},
     "output_type": "execute_result"
    },
    {
     "data": {
      "text/plain": [
       "{}"
      ]
     },
     "execution_count": 24,
     "metadata": {},
     "output_type": "execute_result"
    },
    {
     "data": {
      "text/plain": [
       "{}"
      ]
     },
     "execution_count": 24,
     "metadata": {},
     "output_type": "execute_result"
    },
    {
     "data": {
      "text/plain": [
       "{}"
      ]
     },
     "execution_count": 24,
     "metadata": {},
     "output_type": "execute_result"
    },
    {
     "data": {
      "text/plain": [
       "{}"
      ]
     },
     "execution_count": 24,
     "metadata": {},
     "output_type": "execute_result"
    },
    {
     "data": {
      "text/plain": [
       "{}"
      ]
     },
     "execution_count": 24,
     "metadata": {},
     "output_type": "execute_result"
    },
    {
     "data": {
      "text/plain": [
       "{}"
      ]
     },
     "execution_count": 24,
     "metadata": {},
     "output_type": "execute_result"
    },
    {
     "data": {
      "text/plain": [
       "{}"
      ]
     },
     "execution_count": 24,
     "metadata": {},
     "output_type": "execute_result"
    },
    {
     "data": {
      "text/plain": [
       "{}"
      ]
     },
     "execution_count": 24,
     "metadata": {},
     "output_type": "execute_result"
    },
    {
     "data": {
      "text/plain": [
       "{}"
      ]
     },
     "execution_count": 24,
     "metadata": {},
     "output_type": "execute_result"
    },
    {
     "data": {
      "text/plain": [
       "{}"
      ]
     },
     "execution_count": 24,
     "metadata": {},
     "output_type": "execute_result"
    },
    {
     "data": {
      "text/plain": [
       "{}"
      ]
     },
     "execution_count": 24,
     "metadata": {},
     "output_type": "execute_result"
    },
    {
     "data": {
      "text/plain": [
       "{}"
      ]
     },
     "execution_count": 24,
     "metadata": {},
     "output_type": "execute_result"
    },
    {
     "data": {
      "text/plain": [
       "{}"
      ]
     },
     "execution_count": 24,
     "metadata": {},
     "output_type": "execute_result"
    },
    {
     "data": {
      "text/plain": [
       "{}"
      ]
     },
     "execution_count": 24,
     "metadata": {},
     "output_type": "execute_result"
    },
    {
     "data": {
      "text/plain": [
       "{}"
      ]
     },
     "execution_count": 24,
     "metadata": {},
     "output_type": "execute_result"
    },
    {
     "data": {
      "text/plain": [
       "{}"
      ]
     },
     "execution_count": 24,
     "metadata": {},
     "output_type": "execute_result"
    },
    {
     "data": {
      "text/plain": [
       "{}"
      ]
     },
     "execution_count": 24,
     "metadata": {},
     "output_type": "execute_result"
    },
    {
     "data": {
      "text/plain": [
       "{}"
      ]
     },
     "execution_count": 24,
     "metadata": {},
     "output_type": "execute_result"
    },
    {
     "data": {
      "text/plain": [
       "{}"
      ]
     },
     "execution_count": 24,
     "metadata": {},
     "output_type": "execute_result"
    },
    {
     "data": {
      "text/plain": [
       "{}"
      ]
     },
     "execution_count": 24,
     "metadata": {},
     "output_type": "execute_result"
    },
    {
     "data": {
      "text/plain": [
       "{}"
      ]
     },
     "execution_count": 24,
     "metadata": {},
     "output_type": "execute_result"
    },
    {
     "data": {
      "text/plain": [
       "{}"
      ]
     },
     "execution_count": 24,
     "metadata": {},
     "output_type": "execute_result"
    },
    {
     "data": {
      "text/plain": [
       "{}"
      ]
     },
     "execution_count": 24,
     "metadata": {},
     "output_type": "execute_result"
    },
    {
     "data": {
      "text/plain": [
       "{}"
      ]
     },
     "execution_count": 24,
     "metadata": {},
     "output_type": "execute_result"
    },
    {
     "data": {
      "text/plain": [
       "{}"
      ]
     },
     "execution_count": 24,
     "metadata": {},
     "output_type": "execute_result"
    },
    {
     "data": {
      "text/plain": [
       "{}"
      ]
     },
     "execution_count": 24,
     "metadata": {},
     "output_type": "execute_result"
    },
    {
     "data": {
      "text/plain": [
       "{}"
      ]
     },
     "execution_count": 24,
     "metadata": {},
     "output_type": "execute_result"
    },
    {
     "data": {
      "text/plain": [
       "{}"
      ]
     },
     "execution_count": 24,
     "metadata": {},
     "output_type": "execute_result"
    },
    {
     "data": {
      "text/plain": [
       "{}"
      ]
     },
     "execution_count": 24,
     "metadata": {},
     "output_type": "execute_result"
    },
    {
     "data": {
      "text/plain": [
       "{}"
      ]
     },
     "execution_count": 24,
     "metadata": {},
     "output_type": "execute_result"
    },
    {
     "data": {
      "text/plain": [
       "{}"
      ]
     },
     "execution_count": 24,
     "metadata": {},
     "output_type": "execute_result"
    },
    {
     "data": {
      "text/plain": [
       "{}"
      ]
     },
     "execution_count": 24,
     "metadata": {},
     "output_type": "execute_result"
    },
    {
     "data": {
      "text/plain": [
       "{}"
      ]
     },
     "execution_count": 24,
     "metadata": {},
     "output_type": "execute_result"
    },
    {
     "data": {
      "text/plain": [
       "{}"
      ]
     },
     "execution_count": 24,
     "metadata": {},
     "output_type": "execute_result"
    },
    {
     "data": {
      "text/plain": [
       "{}"
      ]
     },
     "execution_count": 24,
     "metadata": {},
     "output_type": "execute_result"
    },
    {
     "data": {
      "text/plain": [
       "{}"
      ]
     },
     "execution_count": 24,
     "metadata": {},
     "output_type": "execute_result"
    },
    {
     "data": {
      "text/plain": [
       "{}"
      ]
     },
     "execution_count": 24,
     "metadata": {},
     "output_type": "execute_result"
    },
    {
     "data": {
      "text/plain": [
       "{}"
      ]
     },
     "execution_count": 24,
     "metadata": {},
     "output_type": "execute_result"
    },
    {
     "data": {
      "text/plain": [
       "{}"
      ]
     },
     "execution_count": 24,
     "metadata": {},
     "output_type": "execute_result"
    },
    {
     "data": {
      "text/plain": [
       "{}"
      ]
     },
     "execution_count": 24,
     "metadata": {},
     "output_type": "execute_result"
    },
    {
     "data": {
      "text/plain": [
       "{}"
      ]
     },
     "execution_count": 24,
     "metadata": {},
     "output_type": "execute_result"
    },
    {
     "data": {
      "text/plain": [
       "{}"
      ]
     },
     "execution_count": 24,
     "metadata": {},
     "output_type": "execute_result"
    },
    {
     "data": {
      "text/plain": [
       "{}"
      ]
     },
     "execution_count": 24,
     "metadata": {},
     "output_type": "execute_result"
    },
    {
     "data": {
      "text/plain": [
       "{}"
      ]
     },
     "execution_count": 24,
     "metadata": {},
     "output_type": "execute_result"
    },
    {
     "data": {
      "text/plain": [
       "{}"
      ]
     },
     "execution_count": 24,
     "metadata": {},
     "output_type": "execute_result"
    },
    {
     "data": {
      "text/plain": [
       "{}"
      ]
     },
     "execution_count": 24,
     "metadata": {},
     "output_type": "execute_result"
    },
    {
     "data": {
      "text/plain": [
       "{}"
      ]
     },
     "execution_count": 24,
     "metadata": {},
     "output_type": "execute_result"
    },
    {
     "data": {
      "text/plain": [
       "{}"
      ]
     },
     "execution_count": 24,
     "metadata": {},
     "output_type": "execute_result"
    },
    {
     "data": {
      "text/plain": [
       "{}"
      ]
     },
     "execution_count": 24,
     "metadata": {},
     "output_type": "execute_result"
    },
    {
     "data": {
      "text/plain": [
       "{}"
      ]
     },
     "execution_count": 24,
     "metadata": {},
     "output_type": "execute_result"
    },
    {
     "data": {
      "text/plain": [
       "{}"
      ]
     },
     "execution_count": 24,
     "metadata": {},
     "output_type": "execute_result"
    },
    {
     "data": {
      "text/plain": [
       "{}"
      ]
     },
     "execution_count": 24,
     "metadata": {},
     "output_type": "execute_result"
    },
    {
     "data": {
      "text/plain": [
       "{}"
      ]
     },
     "execution_count": 24,
     "metadata": {},
     "output_type": "execute_result"
    },
    {
     "data": {
      "text/plain": [
       "{}"
      ]
     },
     "execution_count": 24,
     "metadata": {},
     "output_type": "execute_result"
    },
    {
     "data": {
      "text/plain": [
       "{}"
      ]
     },
     "execution_count": 24,
     "metadata": {},
     "output_type": "execute_result"
    },
    {
     "data": {
      "text/plain": [
       "{}"
      ]
     },
     "execution_count": 24,
     "metadata": {},
     "output_type": "execute_result"
    },
    {
     "data": {
      "text/plain": [
       "{}"
      ]
     },
     "execution_count": 24,
     "metadata": {},
     "output_type": "execute_result"
    },
    {
     "data": {
      "text/plain": [
       "{}"
      ]
     },
     "execution_count": 24,
     "metadata": {},
     "output_type": "execute_result"
    },
    {
     "data": {
      "text/plain": [
       "{}"
      ]
     },
     "execution_count": 24,
     "metadata": {},
     "output_type": "execute_result"
    },
    {
     "data": {
      "text/plain": [
       "{}"
      ]
     },
     "execution_count": 24,
     "metadata": {},
     "output_type": "execute_result"
    },
    {
     "data": {
      "text/plain": [
       "{}"
      ]
     },
     "execution_count": 24,
     "metadata": {},
     "output_type": "execute_result"
    },
    {
     "data": {
      "text/plain": [
       "{}"
      ]
     },
     "execution_count": 24,
     "metadata": {},
     "output_type": "execute_result"
    },
    {
     "data": {
      "text/plain": [
       "{}"
      ]
     },
     "execution_count": 24,
     "metadata": {},
     "output_type": "execute_result"
    },
    {
     "data": {
      "text/plain": [
       "{}"
      ]
     },
     "execution_count": 24,
     "metadata": {},
     "output_type": "execute_result"
    },
    {
     "data": {
      "text/plain": [
       "{}"
      ]
     },
     "execution_count": 24,
     "metadata": {},
     "output_type": "execute_result"
    },
    {
     "data": {
      "text/plain": [
       "{}"
      ]
     },
     "execution_count": 24,
     "metadata": {},
     "output_type": "execute_result"
    },
    {
     "data": {
      "text/plain": [
       "{}"
      ]
     },
     "execution_count": 24,
     "metadata": {},
     "output_type": "execute_result"
    },
    {
     "data": {
      "text/plain": [
       "{}"
      ]
     },
     "execution_count": 24,
     "metadata": {},
     "output_type": "execute_result"
    },
    {
     "data": {
      "text/plain": [
       "{}"
      ]
     },
     "execution_count": 24,
     "metadata": {},
     "output_type": "execute_result"
    },
    {
     "data": {
      "text/plain": [
       "{}"
      ]
     },
     "execution_count": 24,
     "metadata": {},
     "output_type": "execute_result"
    },
    {
     "data": {
      "text/plain": [
       "{}"
      ]
     },
     "execution_count": 24,
     "metadata": {},
     "output_type": "execute_result"
    },
    {
     "data": {
      "text/plain": [
       "{}"
      ]
     },
     "execution_count": 24,
     "metadata": {},
     "output_type": "execute_result"
    },
    {
     "data": {
      "text/plain": [
       "{}"
      ]
     },
     "execution_count": 24,
     "metadata": {},
     "output_type": "execute_result"
    },
    {
     "data": {
      "text/plain": [
       "{}"
      ]
     },
     "execution_count": 24,
     "metadata": {},
     "output_type": "execute_result"
    },
    {
     "data": {
      "text/plain": [
       "{}"
      ]
     },
     "execution_count": 24,
     "metadata": {},
     "output_type": "execute_result"
    },
    {
     "data": {
      "text/plain": [
       "{}"
      ]
     },
     "execution_count": 24,
     "metadata": {},
     "output_type": "execute_result"
    },
    {
     "data": {
      "text/plain": [
       "{}"
      ]
     },
     "execution_count": 24,
     "metadata": {},
     "output_type": "execute_result"
    },
    {
     "data": {
      "text/plain": [
       "{}"
      ]
     },
     "execution_count": 24,
     "metadata": {},
     "output_type": "execute_result"
    },
    {
     "data": {
      "text/plain": [
       "{}"
      ]
     },
     "execution_count": 24,
     "metadata": {},
     "output_type": "execute_result"
    },
    {
     "data": {
      "text/plain": [
       "{}"
      ]
     },
     "execution_count": 24,
     "metadata": {},
     "output_type": "execute_result"
    },
    {
     "data": {
      "text/plain": [
       "{}"
      ]
     },
     "execution_count": 24,
     "metadata": {},
     "output_type": "execute_result"
    },
    {
     "data": {
      "text/plain": [
       "{}"
      ]
     },
     "execution_count": 24,
     "metadata": {},
     "output_type": "execute_result"
    },
    {
     "data": {
      "text/plain": [
       "{}"
      ]
     },
     "execution_count": 24,
     "metadata": {},
     "output_type": "execute_result"
    },
    {
     "data": {
      "text/plain": [
       "{}"
      ]
     },
     "execution_count": 24,
     "metadata": {},
     "output_type": "execute_result"
    },
    {
     "data": {
      "text/plain": [
       "{}"
      ]
     },
     "execution_count": 24,
     "metadata": {},
     "output_type": "execute_result"
    },
    {
     "data": {
      "text/plain": [
       "{}"
      ]
     },
     "execution_count": 24,
     "metadata": {},
     "output_type": "execute_result"
    },
    {
     "data": {
      "text/plain": [
       "{}"
      ]
     },
     "execution_count": 24,
     "metadata": {},
     "output_type": "execute_result"
    },
    {
     "data": {
      "text/plain": [
       "{}"
      ]
     },
     "execution_count": 24,
     "metadata": {},
     "output_type": "execute_result"
    },
    {
     "data": {
      "text/plain": [
       "{}"
      ]
     },
     "execution_count": 24,
     "metadata": {},
     "output_type": "execute_result"
    },
    {
     "data": {
      "text/plain": [
       "{}"
      ]
     },
     "execution_count": 24,
     "metadata": {},
     "output_type": "execute_result"
    },
    {
     "data": {
      "text/plain": [
       "{}"
      ]
     },
     "execution_count": 24,
     "metadata": {},
     "output_type": "execute_result"
    },
    {
     "data": {
      "text/plain": [
       "{}"
      ]
     },
     "execution_count": 24,
     "metadata": {},
     "output_type": "execute_result"
    },
    {
     "data": {
      "text/plain": [
       "{}"
      ]
     },
     "execution_count": 24,
     "metadata": {},
     "output_type": "execute_result"
    },
    {
     "data": {
      "text/plain": [
       "{}"
      ]
     },
     "execution_count": 24,
     "metadata": {},
     "output_type": "execute_result"
    },
    {
     "data": {
      "text/plain": [
       "{}"
      ]
     },
     "execution_count": 24,
     "metadata": {},
     "output_type": "execute_result"
    },
    {
     "data": {
      "text/plain": [
       "{}"
      ]
     },
     "execution_count": 24,
     "metadata": {},
     "output_type": "execute_result"
    },
    {
     "data": {
      "text/plain": [
       "{}"
      ]
     },
     "execution_count": 24,
     "metadata": {},
     "output_type": "execute_result"
    },
    {
     "data": {
      "text/plain": [
       "{}"
      ]
     },
     "execution_count": 24,
     "metadata": {},
     "output_type": "execute_result"
    },
    {
     "data": {
      "text/plain": [
       "{}"
      ]
     },
     "execution_count": 24,
     "metadata": {},
     "output_type": "execute_result"
    },
    {
     "data": {
      "text/plain": [
       "{}"
      ]
     },
     "execution_count": 24,
     "metadata": {},
     "output_type": "execute_result"
    },
    {
     "data": {
      "text/plain": [
       "{}"
      ]
     },
     "execution_count": 24,
     "metadata": {},
     "output_type": "execute_result"
    },
    {
     "data": {
      "text/plain": [
       "{}"
      ]
     },
     "execution_count": 24,
     "metadata": {},
     "output_type": "execute_result"
    },
    {
     "data": {
      "text/plain": [
       "{}"
      ]
     },
     "execution_count": 24,
     "metadata": {},
     "output_type": "execute_result"
    },
    {
     "data": {
      "text/plain": [
       "{}"
      ]
     },
     "execution_count": 24,
     "metadata": {},
     "output_type": "execute_result"
    },
    {
     "data": {
      "text/plain": [
       "{}"
      ]
     },
     "execution_count": 24,
     "metadata": {},
     "output_type": "execute_result"
    },
    {
     "data": {
      "text/plain": [
       "{}"
      ]
     },
     "execution_count": 24,
     "metadata": {},
     "output_type": "execute_result"
    },
    {
     "data": {
      "text/plain": [
       "{}"
      ]
     },
     "execution_count": 24,
     "metadata": {},
     "output_type": "execute_result"
    },
    {
     "data": {
      "text/plain": [
       "{}"
      ]
     },
     "execution_count": 24,
     "metadata": {},
     "output_type": "execute_result"
    },
    {
     "data": {
      "text/plain": [
       "{}"
      ]
     },
     "execution_count": 24,
     "metadata": {},
     "output_type": "execute_result"
    },
    {
     "data": {
      "text/plain": [
       "{}"
      ]
     },
     "execution_count": 24,
     "metadata": {},
     "output_type": "execute_result"
    },
    {
     "data": {
      "text/plain": [
       "{}"
      ]
     },
     "execution_count": 24,
     "metadata": {},
     "output_type": "execute_result"
    },
    {
     "data": {
      "text/plain": [
       "{}"
      ]
     },
     "execution_count": 24,
     "metadata": {},
     "output_type": "execute_result"
    },
    {
     "data": {
      "text/plain": [
       "{}"
      ]
     },
     "execution_count": 24,
     "metadata": {},
     "output_type": "execute_result"
    },
    {
     "data": {
      "text/plain": [
       "{}"
      ]
     },
     "execution_count": 24,
     "metadata": {},
     "output_type": "execute_result"
    },
    {
     "data": {
      "text/plain": [
       "{}"
      ]
     },
     "execution_count": 24,
     "metadata": {},
     "output_type": "execute_result"
    },
    {
     "data": {
      "text/plain": [
       "{}"
      ]
     },
     "execution_count": 24,
     "metadata": {},
     "output_type": "execute_result"
    },
    {
     "data": {
      "text/plain": [
       "{}"
      ]
     },
     "execution_count": 24,
     "metadata": {},
     "output_type": "execute_result"
    },
    {
     "data": {
      "text/plain": [
       "{}"
      ]
     },
     "execution_count": 24,
     "metadata": {},
     "output_type": "execute_result"
    },
    {
     "data": {
      "text/plain": [
       "{}"
      ]
     },
     "execution_count": 24,
     "metadata": {},
     "output_type": "execute_result"
    },
    {
     "data": {
      "text/plain": [
       "{}"
      ]
     },
     "execution_count": 24,
     "metadata": {},
     "output_type": "execute_result"
    },
    {
     "data": {
      "text/plain": [
       "{}"
      ]
     },
     "execution_count": 24,
     "metadata": {},
     "output_type": "execute_result"
    },
    {
     "data": {
      "text/plain": [
       "{}"
      ]
     },
     "execution_count": 24,
     "metadata": {},
     "output_type": "execute_result"
    },
    {
     "data": {
      "text/plain": [
       "{}"
      ]
     },
     "execution_count": 24,
     "metadata": {},
     "output_type": "execute_result"
    },
    {
     "data": {
      "text/plain": [
       "{}"
      ]
     },
     "execution_count": 24,
     "metadata": {},
     "output_type": "execute_result"
    },
    {
     "data": {
      "text/plain": [
       "{}"
      ]
     },
     "execution_count": 24,
     "metadata": {},
     "output_type": "execute_result"
    },
    {
     "data": {
      "text/plain": [
       "{}"
      ]
     },
     "execution_count": 24,
     "metadata": {},
     "output_type": "execute_result"
    },
    {
     "data": {
      "text/plain": [
       "{}"
      ]
     },
     "execution_count": 24,
     "metadata": {},
     "output_type": "execute_result"
    },
    {
     "data": {
      "text/plain": [
       "{}"
      ]
     },
     "execution_count": 24,
     "metadata": {},
     "output_type": "execute_result"
    },
    {
     "data": {
      "text/plain": [
       "{}"
      ]
     },
     "execution_count": 24,
     "metadata": {},
     "output_type": "execute_result"
    },
    {
     "data": {
      "text/plain": [
       "{}"
      ]
     },
     "execution_count": 24,
     "metadata": {},
     "output_type": "execute_result"
    },
    {
     "data": {
      "text/plain": [
       "{}"
      ]
     },
     "execution_count": 24,
     "metadata": {},
     "output_type": "execute_result"
    },
    {
     "data": {
      "text/plain": [
       "{}"
      ]
     },
     "execution_count": 24,
     "metadata": {},
     "output_type": "execute_result"
    },
    {
     "data": {
      "text/plain": [
       "{}"
      ]
     },
     "execution_count": 24,
     "metadata": {},
     "output_type": "execute_result"
    },
    {
     "data": {
      "text/plain": [
       "{}"
      ]
     },
     "execution_count": 24,
     "metadata": {},
     "output_type": "execute_result"
    },
    {
     "data": {
      "text/plain": [
       "{}"
      ]
     },
     "execution_count": 24,
     "metadata": {},
     "output_type": "execute_result"
    },
    {
     "data": {
      "text/plain": [
       "{}"
      ]
     },
     "execution_count": 24,
     "metadata": {},
     "output_type": "execute_result"
    },
    {
     "data": {
      "text/plain": [
       "{}"
      ]
     },
     "execution_count": 24,
     "metadata": {},
     "output_type": "execute_result"
    },
    {
     "data": {
      "text/plain": [
       "{}"
      ]
     },
     "execution_count": 24,
     "metadata": {},
     "output_type": "execute_result"
    },
    {
     "data": {
      "text/plain": [
       "{}"
      ]
     },
     "execution_count": 24,
     "metadata": {},
     "output_type": "execute_result"
    },
    {
     "data": {
      "text/plain": [
       "{}"
      ]
     },
     "execution_count": 24,
     "metadata": {},
     "output_type": "execute_result"
    },
    {
     "data": {
      "text/plain": [
       "{}"
      ]
     },
     "execution_count": 24,
     "metadata": {},
     "output_type": "execute_result"
    },
    {
     "data": {
      "text/plain": [
       "{}"
      ]
     },
     "execution_count": 24,
     "metadata": {},
     "output_type": "execute_result"
    },
    {
     "data": {
      "text/plain": [
       "{}"
      ]
     },
     "execution_count": 24,
     "metadata": {},
     "output_type": "execute_result"
    },
    {
     "data": {
      "text/plain": [
       "{}"
      ]
     },
     "execution_count": 24,
     "metadata": {},
     "output_type": "execute_result"
    },
    {
     "data": {
      "text/plain": [
       "{}"
      ]
     },
     "execution_count": 24,
     "metadata": {},
     "output_type": "execute_result"
    },
    {
     "data": {
      "text/plain": [
       "{}"
      ]
     },
     "execution_count": 24,
     "metadata": {},
     "output_type": "execute_result"
    },
    {
     "data": {
      "text/plain": [
       "{}"
      ]
     },
     "execution_count": 24,
     "metadata": {},
     "output_type": "execute_result"
    },
    {
     "data": {
      "text/plain": [
       "{}"
      ]
     },
     "execution_count": 24,
     "metadata": {},
     "output_type": "execute_result"
    },
    {
     "data": {
      "text/plain": [
       "{}"
      ]
     },
     "execution_count": 24,
     "metadata": {},
     "output_type": "execute_result"
    },
    {
     "data": {
      "text/plain": [
       "{}"
      ]
     },
     "execution_count": 24,
     "metadata": {},
     "output_type": "execute_result"
    },
    {
     "data": {
      "text/plain": [
       "{}"
      ]
     },
     "execution_count": 24,
     "metadata": {},
     "output_type": "execute_result"
    },
    {
     "data": {
      "text/plain": [
       "{}"
      ]
     },
     "execution_count": 24,
     "metadata": {},
     "output_type": "execute_result"
    },
    {
     "data": {
      "text/plain": [
       "{}"
      ]
     },
     "execution_count": 24,
     "metadata": {},
     "output_type": "execute_result"
    },
    {
     "data": {
      "text/plain": [
       "{}"
      ]
     },
     "execution_count": 24,
     "metadata": {},
     "output_type": "execute_result"
    },
    {
     "data": {
      "text/plain": [
       "{}"
      ]
     },
     "execution_count": 24,
     "metadata": {},
     "output_type": "execute_result"
    },
    {
     "data": {
      "text/plain": [
       "{}"
      ]
     },
     "execution_count": 24,
     "metadata": {},
     "output_type": "execute_result"
    },
    {
     "data": {
      "text/plain": [
       "{}"
      ]
     },
     "execution_count": 24,
     "metadata": {},
     "output_type": "execute_result"
    },
    {
     "data": {
      "text/plain": [
       "{}"
      ]
     },
     "execution_count": 24,
     "metadata": {},
     "output_type": "execute_result"
    },
    {
     "data": {
      "text/plain": [
       "{}"
      ]
     },
     "execution_count": 24,
     "metadata": {},
     "output_type": "execute_result"
    },
    {
     "data": {
      "text/plain": [
       "{}"
      ]
     },
     "execution_count": 24,
     "metadata": {},
     "output_type": "execute_result"
    },
    {
     "data": {
      "text/plain": [
       "{}"
      ]
     },
     "execution_count": 24,
     "metadata": {},
     "output_type": "execute_result"
    },
    {
     "data": {
      "text/plain": [
       "{}"
      ]
     },
     "execution_count": 24,
     "metadata": {},
     "output_type": "execute_result"
    },
    {
     "data": {
      "text/plain": [
       "{}"
      ]
     },
     "execution_count": 24,
     "metadata": {},
     "output_type": "execute_result"
    },
    {
     "data": {
      "text/plain": [
       "{}"
      ]
     },
     "execution_count": 24,
     "metadata": {},
     "output_type": "execute_result"
    },
    {
     "data": {
      "text/plain": [
       "{}"
      ]
     },
     "execution_count": 24,
     "metadata": {},
     "output_type": "execute_result"
    },
    {
     "data": {
      "text/plain": [
       "{}"
      ]
     },
     "execution_count": 24,
     "metadata": {},
     "output_type": "execute_result"
    },
    {
     "data": {
      "text/plain": [
       "{}"
      ]
     },
     "execution_count": 24,
     "metadata": {},
     "output_type": "execute_result"
    },
    {
     "data": {
      "text/plain": [
       "{}"
      ]
     },
     "execution_count": 24,
     "metadata": {},
     "output_type": "execute_result"
    },
    {
     "data": {
      "text/plain": [
       "{}"
      ]
     },
     "execution_count": 24,
     "metadata": {},
     "output_type": "execute_result"
    },
    {
     "data": {
      "text/plain": [
       "{}"
      ]
     },
     "execution_count": 24,
     "metadata": {},
     "output_type": "execute_result"
    },
    {
     "data": {
      "text/plain": [
       "{}"
      ]
     },
     "execution_count": 24,
     "metadata": {},
     "output_type": "execute_result"
    },
    {
     "data": {
      "text/plain": [
       "{}"
      ]
     },
     "execution_count": 24,
     "metadata": {},
     "output_type": "execute_result"
    },
    {
     "data": {
      "text/plain": [
       "{}"
      ]
     },
     "execution_count": 24,
     "metadata": {},
     "output_type": "execute_result"
    },
    {
     "data": {
      "text/plain": [
       "{}"
      ]
     },
     "execution_count": 24,
     "metadata": {},
     "output_type": "execute_result"
    },
    {
     "data": {
      "text/plain": [
       "{}"
      ]
     },
     "execution_count": 24,
     "metadata": {},
     "output_type": "execute_result"
    },
    {
     "data": {
      "text/plain": [
       "{}"
      ]
     },
     "execution_count": 24,
     "metadata": {},
     "output_type": "execute_result"
    },
    {
     "data": {
      "text/plain": [
       "{}"
      ]
     },
     "execution_count": 24,
     "metadata": {},
     "output_type": "execute_result"
    },
    {
     "data": {
      "text/plain": [
       "{}"
      ]
     },
     "execution_count": 24,
     "metadata": {},
     "output_type": "execute_result"
    },
    {
     "data": {
      "text/plain": [
       "{}"
      ]
     },
     "execution_count": 24,
     "metadata": {},
     "output_type": "execute_result"
    },
    {
     "data": {
      "text/plain": [
       "{}"
      ]
     },
     "execution_count": 24,
     "metadata": {},
     "output_type": "execute_result"
    },
    {
     "data": {
      "text/plain": [
       "{}"
      ]
     },
     "execution_count": 24,
     "metadata": {},
     "output_type": "execute_result"
    },
    {
     "data": {
      "text/plain": [
       "{}"
      ]
     },
     "execution_count": 24,
     "metadata": {},
     "output_type": "execute_result"
    },
    {
     "data": {
      "text/plain": [
       "{}"
      ]
     },
     "execution_count": 24,
     "metadata": {},
     "output_type": "execute_result"
    },
    {
     "data": {
      "text/plain": [
       "{}"
      ]
     },
     "execution_count": 24,
     "metadata": {},
     "output_type": "execute_result"
    },
    {
     "data": {
      "text/plain": [
       "{}"
      ]
     },
     "execution_count": 24,
     "metadata": {},
     "output_type": "execute_result"
    },
    {
     "data": {
      "text/plain": [
       "{}"
      ]
     },
     "execution_count": 24,
     "metadata": {},
     "output_type": "execute_result"
    },
    {
     "data": {
      "text/plain": [
       "{}"
      ]
     },
     "execution_count": 24,
     "metadata": {},
     "output_type": "execute_result"
    },
    {
     "data": {
      "text/plain": [
       "{}"
      ]
     },
     "execution_count": 24,
     "metadata": {},
     "output_type": "execute_result"
    },
    {
     "data": {
      "text/plain": [
       "{}"
      ]
     },
     "execution_count": 24,
     "metadata": {},
     "output_type": "execute_result"
    },
    {
     "data": {
      "text/plain": [
       "{}"
      ]
     },
     "execution_count": 24,
     "metadata": {},
     "output_type": "execute_result"
    },
    {
     "data": {
      "text/plain": [
       "{}"
      ]
     },
     "execution_count": 24,
     "metadata": {},
     "output_type": "execute_result"
    },
    {
     "data": {
      "text/plain": [
       "{}"
      ]
     },
     "execution_count": 24,
     "metadata": {},
     "output_type": "execute_result"
    },
    {
     "data": {
      "text/plain": [
       "{}"
      ]
     },
     "execution_count": 24,
     "metadata": {},
     "output_type": "execute_result"
    },
    {
     "data": {
      "text/plain": [
       "{}"
      ]
     },
     "execution_count": 24,
     "metadata": {},
     "output_type": "execute_result"
    },
    {
     "data": {
      "text/plain": [
       "{}"
      ]
     },
     "execution_count": 24,
     "metadata": {},
     "output_type": "execute_result"
    },
    {
     "data": {
      "text/plain": [
       "{}"
      ]
     },
     "execution_count": 24,
     "metadata": {},
     "output_type": "execute_result"
    },
    {
     "data": {
      "text/plain": [
       "{}"
      ]
     },
     "execution_count": 24,
     "metadata": {},
     "output_type": "execute_result"
    },
    {
     "data": {
      "text/plain": [
       "{}"
      ]
     },
     "execution_count": 24,
     "metadata": {},
     "output_type": "execute_result"
    },
    {
     "data": {
      "text/plain": [
       "{}"
      ]
     },
     "execution_count": 24,
     "metadata": {},
     "output_type": "execute_result"
    },
    {
     "data": {
      "text/plain": [
       "{}"
      ]
     },
     "execution_count": 24,
     "metadata": {},
     "output_type": "execute_result"
    },
    {
     "data": {
      "text/plain": [
       "{}"
      ]
     },
     "execution_count": 24,
     "metadata": {},
     "output_type": "execute_result"
    },
    {
     "data": {
      "text/plain": [
       "{}"
      ]
     },
     "execution_count": 24,
     "metadata": {},
     "output_type": "execute_result"
    },
    {
     "data": {
      "text/plain": [
       "{}"
      ]
     },
     "execution_count": 24,
     "metadata": {},
     "output_type": "execute_result"
    },
    {
     "data": {
      "text/plain": [
       "{}"
      ]
     },
     "execution_count": 24,
     "metadata": {},
     "output_type": "execute_result"
    },
    {
     "data": {
      "text/plain": [
       "{}"
      ]
     },
     "execution_count": 24,
     "metadata": {},
     "output_type": "execute_result"
    },
    {
     "data": {
      "text/plain": [
       "{}"
      ]
     },
     "execution_count": 24,
     "metadata": {},
     "output_type": "execute_result"
    },
    {
     "data": {
      "text/plain": [
       "{}"
      ]
     },
     "execution_count": 24,
     "metadata": {},
     "output_type": "execute_result"
    },
    {
     "data": {
      "text/plain": [
       "{}"
      ]
     },
     "execution_count": 24,
     "metadata": {},
     "output_type": "execute_result"
    },
    {
     "data": {
      "text/plain": [
       "{}"
      ]
     },
     "execution_count": 24,
     "metadata": {},
     "output_type": "execute_result"
    },
    {
     "data": {
      "text/plain": [
       "{}"
      ]
     },
     "execution_count": 24,
     "metadata": {},
     "output_type": "execute_result"
    },
    {
     "data": {
      "text/plain": [
       "{}"
      ]
     },
     "execution_count": 24,
     "metadata": {},
     "output_type": "execute_result"
    },
    {
     "data": {
      "text/plain": [
       "{}"
      ]
     },
     "execution_count": 24,
     "metadata": {},
     "output_type": "execute_result"
    },
    {
     "data": {
      "text/plain": [
       "{}"
      ]
     },
     "execution_count": 24,
     "metadata": {},
     "output_type": "execute_result"
    },
    {
     "data": {
      "text/plain": [
       "{}"
      ]
     },
     "execution_count": 24,
     "metadata": {},
     "output_type": "execute_result"
    },
    {
     "data": {
      "text/plain": [
       "{}"
      ]
     },
     "execution_count": 24,
     "metadata": {},
     "output_type": "execute_result"
    },
    {
     "data": {
      "text/plain": [
       "{}"
      ]
     },
     "execution_count": 24,
     "metadata": {},
     "output_type": "execute_result"
    },
    {
     "data": {
      "text/plain": [
       "{}"
      ]
     },
     "execution_count": 24,
     "metadata": {},
     "output_type": "execute_result"
    },
    {
     "data": {
      "text/plain": [
       "{}"
      ]
     },
     "execution_count": 24,
     "metadata": {},
     "output_type": "execute_result"
    },
    {
     "data": {
      "text/plain": [
       "{}"
      ]
     },
     "execution_count": 24,
     "metadata": {},
     "output_type": "execute_result"
    },
    {
     "data": {
      "text/plain": [
       "{}"
      ]
     },
     "execution_count": 24,
     "metadata": {},
     "output_type": "execute_result"
    },
    {
     "data": {
      "text/plain": [
       "{}"
      ]
     },
     "execution_count": 24,
     "metadata": {},
     "output_type": "execute_result"
    },
    {
     "data": {
      "text/plain": [
       "{}"
      ]
     },
     "execution_count": 24,
     "metadata": {},
     "output_type": "execute_result"
    },
    {
     "data": {
      "text/plain": [
       "{}"
      ]
     },
     "execution_count": 24,
     "metadata": {},
     "output_type": "execute_result"
    },
    {
     "data": {
      "text/plain": [
       "{}"
      ]
     },
     "execution_count": 24,
     "metadata": {},
     "output_type": "execute_result"
    },
    {
     "data": {
      "text/plain": [
       "{}"
      ]
     },
     "execution_count": 24,
     "metadata": {},
     "output_type": "execute_result"
    },
    {
     "data": {
      "text/plain": [
       "{}"
      ]
     },
     "execution_count": 24,
     "metadata": {},
     "output_type": "execute_result"
    },
    {
     "data": {
      "text/plain": [
       "{}"
      ]
     },
     "execution_count": 24,
     "metadata": {},
     "output_type": "execute_result"
    },
    {
     "data": {
      "text/plain": [
       "{}"
      ]
     },
     "execution_count": 24,
     "metadata": {},
     "output_type": "execute_result"
    },
    {
     "data": {
      "text/plain": [
       "{}"
      ]
     },
     "execution_count": 24,
     "metadata": {},
     "output_type": "execute_result"
    },
    {
     "data": {
      "text/plain": [
       "{}"
      ]
     },
     "execution_count": 24,
     "metadata": {},
     "output_type": "execute_result"
    },
    {
     "data": {
      "text/plain": [
       "{}"
      ]
     },
     "execution_count": 24,
     "metadata": {},
     "output_type": "execute_result"
    },
    {
     "data": {
      "text/plain": [
       "{}"
      ]
     },
     "execution_count": 24,
     "metadata": {},
     "output_type": "execute_result"
    },
    {
     "data": {
      "text/plain": [
       "{}"
      ]
     },
     "execution_count": 24,
     "metadata": {},
     "output_type": "execute_result"
    },
    {
     "data": {
      "text/plain": [
       "{}"
      ]
     },
     "execution_count": 24,
     "metadata": {},
     "output_type": "execute_result"
    },
    {
     "data": {
      "text/plain": [
       "{}"
      ]
     },
     "execution_count": 24,
     "metadata": {},
     "output_type": "execute_result"
    },
    {
     "data": {
      "text/plain": [
       "{}"
      ]
     },
     "execution_count": 24,
     "metadata": {},
     "output_type": "execute_result"
    },
    {
     "data": {
      "text/plain": [
       "{}"
      ]
     },
     "execution_count": 24,
     "metadata": {},
     "output_type": "execute_result"
    },
    {
     "data": {
      "text/plain": [
       "{}"
      ]
     },
     "execution_count": 24,
     "metadata": {},
     "output_type": "execute_result"
    },
    {
     "data": {
      "text/plain": [
       "{}"
      ]
     },
     "execution_count": 24,
     "metadata": {},
     "output_type": "execute_result"
    },
    {
     "data": {
      "text/plain": [
       "{}"
      ]
     },
     "execution_count": 24,
     "metadata": {},
     "output_type": "execute_result"
    },
    {
     "data": {
      "text/plain": [
       "{}"
      ]
     },
     "execution_count": 24,
     "metadata": {},
     "output_type": "execute_result"
    },
    {
     "data": {
      "text/plain": [
       "{}"
      ]
     },
     "execution_count": 24,
     "metadata": {},
     "output_type": "execute_result"
    },
    {
     "data": {
      "text/plain": [
       "{}"
      ]
     },
     "execution_count": 24,
     "metadata": {},
     "output_type": "execute_result"
    },
    {
     "data": {
      "text/plain": [
       "{}"
      ]
     },
     "execution_count": 24,
     "metadata": {},
     "output_type": "execute_result"
    },
    {
     "data": {
      "text/plain": [
       "{}"
      ]
     },
     "execution_count": 24,
     "metadata": {},
     "output_type": "execute_result"
    },
    {
     "data": {
      "text/plain": [
       "{}"
      ]
     },
     "execution_count": 24,
     "metadata": {},
     "output_type": "execute_result"
    },
    {
     "data": {
      "text/plain": [
       "{}"
      ]
     },
     "execution_count": 24,
     "metadata": {},
     "output_type": "execute_result"
    },
    {
     "data": {
      "text/plain": [
       "{}"
      ]
     },
     "execution_count": 24,
     "metadata": {},
     "output_type": "execute_result"
    },
    {
     "data": {
      "text/plain": [
       "{}"
      ]
     },
     "execution_count": 24,
     "metadata": {},
     "output_type": "execute_result"
    },
    {
     "data": {
      "text/plain": [
       "{}"
      ]
     },
     "execution_count": 24,
     "metadata": {},
     "output_type": "execute_result"
    },
    {
     "data": {
      "text/plain": [
       "{}"
      ]
     },
     "execution_count": 24,
     "metadata": {},
     "output_type": "execute_result"
    },
    {
     "data": {
      "text/plain": [
       "{}"
      ]
     },
     "execution_count": 24,
     "metadata": {},
     "output_type": "execute_result"
    },
    {
     "data": {
      "text/plain": [
       "{}"
      ]
     },
     "execution_count": 24,
     "metadata": {},
     "output_type": "execute_result"
    },
    {
     "data": {
      "text/plain": [
       "{}"
      ]
     },
     "execution_count": 24,
     "metadata": {},
     "output_type": "execute_result"
    },
    {
     "data": {
      "text/plain": [
       "{}"
      ]
     },
     "execution_count": 24,
     "metadata": {},
     "output_type": "execute_result"
    },
    {
     "data": {
      "text/plain": [
       "{}"
      ]
     },
     "execution_count": 24,
     "metadata": {},
     "output_type": "execute_result"
    },
    {
     "data": {
      "text/plain": [
       "{}"
      ]
     },
     "execution_count": 24,
     "metadata": {},
     "output_type": "execute_result"
    },
    {
     "data": {
      "text/plain": [
       "{}"
      ]
     },
     "execution_count": 24,
     "metadata": {},
     "output_type": "execute_result"
    },
    {
     "data": {
      "text/plain": [
       "{}"
      ]
     },
     "execution_count": 24,
     "metadata": {},
     "output_type": "execute_result"
    },
    {
     "data": {
      "text/plain": [
       "{}"
      ]
     },
     "execution_count": 24,
     "metadata": {},
     "output_type": "execute_result"
    },
    {
     "data": {
      "text/plain": [
       "{}"
      ]
     },
     "execution_count": 24,
     "metadata": {},
     "output_type": "execute_result"
    },
    {
     "data": {
      "text/plain": [
       "{}"
      ]
     },
     "execution_count": 24,
     "metadata": {},
     "output_type": "execute_result"
    },
    {
     "data": {
      "text/plain": [
       "{}"
      ]
     },
     "execution_count": 24,
     "metadata": {},
     "output_type": "execute_result"
    },
    {
     "data": {
      "text/plain": [
       "{}"
      ]
     },
     "execution_count": 24,
     "metadata": {},
     "output_type": "execute_result"
    },
    {
     "data": {
      "text/plain": [
       "{}"
      ]
     },
     "execution_count": 24,
     "metadata": {},
     "output_type": "execute_result"
    },
    {
     "data": {
      "text/plain": [
       "{}"
      ]
     },
     "execution_count": 24,
     "metadata": {},
     "output_type": "execute_result"
    },
    {
     "data": {
      "text/plain": [
       "{}"
      ]
     },
     "execution_count": 24,
     "metadata": {},
     "output_type": "execute_result"
    },
    {
     "data": {
      "text/plain": [
       "{}"
      ]
     },
     "execution_count": 24,
     "metadata": {},
     "output_type": "execute_result"
    },
    {
     "data": {
      "text/plain": [
       "{}"
      ]
     },
     "execution_count": 24,
     "metadata": {},
     "output_type": "execute_result"
    },
    {
     "data": {
      "text/plain": [
       "{}"
      ]
     },
     "execution_count": 24,
     "metadata": {},
     "output_type": "execute_result"
    },
    {
     "data": {
      "text/plain": [
       "{}"
      ]
     },
     "execution_count": 24,
     "metadata": {},
     "output_type": "execute_result"
    },
    {
     "data": {
      "text/plain": [
       "{}"
      ]
     },
     "execution_count": 24,
     "metadata": {},
     "output_type": "execute_result"
    },
    {
     "data": {
      "text/plain": [
       "{}"
      ]
     },
     "execution_count": 24,
     "metadata": {},
     "output_type": "execute_result"
    },
    {
     "data": {
      "text/plain": [
       "{}"
      ]
     },
     "execution_count": 24,
     "metadata": {},
     "output_type": "execute_result"
    },
    {
     "data": {
      "text/plain": [
       "{}"
      ]
     },
     "execution_count": 24,
     "metadata": {},
     "output_type": "execute_result"
    },
    {
     "data": {
      "text/plain": [
       "{}"
      ]
     },
     "execution_count": 24,
     "metadata": {},
     "output_type": "execute_result"
    },
    {
     "data": {
      "text/plain": [
       "{}"
      ]
     },
     "execution_count": 24,
     "metadata": {},
     "output_type": "execute_result"
    },
    {
     "data": {
      "text/plain": [
       "{}"
      ]
     },
     "execution_count": 24,
     "metadata": {},
     "output_type": "execute_result"
    },
    {
     "data": {
      "text/plain": [
       "{}"
      ]
     },
     "execution_count": 24,
     "metadata": {},
     "output_type": "execute_result"
    },
    {
     "data": {
      "text/plain": [
       "{}"
      ]
     },
     "execution_count": 24,
     "metadata": {},
     "output_type": "execute_result"
    },
    {
     "data": {
      "text/plain": [
       "{}"
      ]
     },
     "execution_count": 24,
     "metadata": {},
     "output_type": "execute_result"
    },
    {
     "data": {
      "text/plain": [
       "{}"
      ]
     },
     "execution_count": 24,
     "metadata": {},
     "output_type": "execute_result"
    },
    {
     "data": {
      "text/plain": [
       "{}"
      ]
     },
     "execution_count": 24,
     "metadata": {},
     "output_type": "execute_result"
    },
    {
     "data": {
      "text/plain": [
       "{}"
      ]
     },
     "execution_count": 24,
     "metadata": {},
     "output_type": "execute_result"
    },
    {
     "data": {
      "text/plain": [
       "{}"
      ]
     },
     "execution_count": 24,
     "metadata": {},
     "output_type": "execute_result"
    },
    {
     "data": {
      "text/plain": [
       "{}"
      ]
     },
     "execution_count": 24,
     "metadata": {},
     "output_type": "execute_result"
    },
    {
     "data": {
      "text/plain": [
       "{}"
      ]
     },
     "execution_count": 24,
     "metadata": {},
     "output_type": "execute_result"
    },
    {
     "data": {
      "text/plain": [
       "{}"
      ]
     },
     "execution_count": 24,
     "metadata": {},
     "output_type": "execute_result"
    },
    {
     "data": {
      "text/plain": [
       "{}"
      ]
     },
     "execution_count": 24,
     "metadata": {},
     "output_type": "execute_result"
    },
    {
     "data": {
      "text/plain": [
       "{}"
      ]
     },
     "execution_count": 24,
     "metadata": {},
     "output_type": "execute_result"
    },
    {
     "data": {
      "text/plain": [
       "{}"
      ]
     },
     "execution_count": 24,
     "metadata": {},
     "output_type": "execute_result"
    },
    {
     "data": {
      "text/plain": [
       "{}"
      ]
     },
     "execution_count": 24,
     "metadata": {},
     "output_type": "execute_result"
    },
    {
     "data": {
      "text/plain": [
       "{}"
      ]
     },
     "execution_count": 24,
     "metadata": {},
     "output_type": "execute_result"
    },
    {
     "data": {
      "text/plain": [
       "{}"
      ]
     },
     "execution_count": 24,
     "metadata": {},
     "output_type": "execute_result"
    },
    {
     "data": {
      "text/plain": [
       "{}"
      ]
     },
     "execution_count": 24,
     "metadata": {},
     "output_type": "execute_result"
    },
    {
     "data": {
      "text/plain": [
       "{}"
      ]
     },
     "execution_count": 24,
     "metadata": {},
     "output_type": "execute_result"
    },
    {
     "data": {
      "text/plain": [
       "{}"
      ]
     },
     "execution_count": 24,
     "metadata": {},
     "output_type": "execute_result"
    },
    {
     "data": {
      "text/plain": [
       "{}"
      ]
     },
     "execution_count": 24,
     "metadata": {},
     "output_type": "execute_result"
    },
    {
     "data": {
      "text/plain": [
       "{}"
      ]
     },
     "execution_count": 24,
     "metadata": {},
     "output_type": "execute_result"
    },
    {
     "data": {
      "text/plain": [
       "{}"
      ]
     },
     "execution_count": 24,
     "metadata": {},
     "output_type": "execute_result"
    },
    {
     "data": {
      "text/plain": [
       "{}"
      ]
     },
     "execution_count": 24,
     "metadata": {},
     "output_type": "execute_result"
    },
    {
     "data": {
      "text/plain": [
       "{}"
      ]
     },
     "execution_count": 24,
     "metadata": {},
     "output_type": "execute_result"
    },
    {
     "data": {
      "text/plain": [
       "{}"
      ]
     },
     "execution_count": 24,
     "metadata": {},
     "output_type": "execute_result"
    },
    {
     "data": {
      "text/plain": [
       "{}"
      ]
     },
     "execution_count": 24,
     "metadata": {},
     "output_type": "execute_result"
    },
    {
     "data": {
      "text/plain": [
       "{}"
      ]
     },
     "execution_count": 24,
     "metadata": {},
     "output_type": "execute_result"
    },
    {
     "data": {
      "text/plain": [
       "{}"
      ]
     },
     "execution_count": 24,
     "metadata": {},
     "output_type": "execute_result"
    },
    {
     "data": {
      "text/plain": [
       "{}"
      ]
     },
     "execution_count": 24,
     "metadata": {},
     "output_type": "execute_result"
    },
    {
     "data": {
      "text/plain": [
       "{}"
      ]
     },
     "execution_count": 24,
     "metadata": {},
     "output_type": "execute_result"
    },
    {
     "data": {
      "text/plain": [
       "{}"
      ]
     },
     "execution_count": 24,
     "metadata": {},
     "output_type": "execute_result"
    },
    {
     "data": {
      "text/plain": [
       "{}"
      ]
     },
     "execution_count": 24,
     "metadata": {},
     "output_type": "execute_result"
    },
    {
     "data": {
      "text/plain": [
       "{}"
      ]
     },
     "execution_count": 24,
     "metadata": {},
     "output_type": "execute_result"
    },
    {
     "data": {
      "text/plain": [
       "{}"
      ]
     },
     "execution_count": 24,
     "metadata": {},
     "output_type": "execute_result"
    },
    {
     "data": {
      "text/plain": [
       "{}"
      ]
     },
     "execution_count": 24,
     "metadata": {},
     "output_type": "execute_result"
    },
    {
     "data": {
      "text/plain": [
       "{}"
      ]
     },
     "execution_count": 24,
     "metadata": {},
     "output_type": "execute_result"
    },
    {
     "data": {
      "text/plain": [
       "{}"
      ]
     },
     "execution_count": 24,
     "metadata": {},
     "output_type": "execute_result"
    },
    {
     "data": {
      "text/plain": [
       "{}"
      ]
     },
     "execution_count": 24,
     "metadata": {},
     "output_type": "execute_result"
    },
    {
     "data": {
      "text/plain": [
       "{}"
      ]
     },
     "execution_count": 24,
     "metadata": {},
     "output_type": "execute_result"
    },
    {
     "data": {
      "text/plain": [
       "{}"
      ]
     },
     "execution_count": 24,
     "metadata": {},
     "output_type": "execute_result"
    },
    {
     "data": {
      "text/plain": [
       "{}"
      ]
     },
     "execution_count": 24,
     "metadata": {},
     "output_type": "execute_result"
    },
    {
     "data": {
      "text/plain": [
       "{}"
      ]
     },
     "execution_count": 24,
     "metadata": {},
     "output_type": "execute_result"
    },
    {
     "data": {
      "text/plain": [
       "{}"
      ]
     },
     "execution_count": 24,
     "metadata": {},
     "output_type": "execute_result"
    },
    {
     "data": {
      "text/plain": [
       "{}"
      ]
     },
     "execution_count": 24,
     "metadata": {},
     "output_type": "execute_result"
    },
    {
     "data": {
      "text/plain": [
       "{}"
      ]
     },
     "execution_count": 24,
     "metadata": {},
     "output_type": "execute_result"
    },
    {
     "data": {
      "text/plain": [
       "{}"
      ]
     },
     "execution_count": 24,
     "metadata": {},
     "output_type": "execute_result"
    },
    {
     "data": {
      "text/plain": [
       "{}"
      ]
     },
     "execution_count": 24,
     "metadata": {},
     "output_type": "execute_result"
    },
    {
     "data": {
      "text/plain": [
       "{}"
      ]
     },
     "execution_count": 24,
     "metadata": {},
     "output_type": "execute_result"
    },
    {
     "data": {
      "text/plain": [
       "{}"
      ]
     },
     "execution_count": 24,
     "metadata": {},
     "output_type": "execute_result"
    },
    {
     "data": {
      "text/plain": [
       "{}"
      ]
     },
     "execution_count": 24,
     "metadata": {},
     "output_type": "execute_result"
    },
    {
     "data": {
      "text/plain": [
       "{}"
      ]
     },
     "execution_count": 24,
     "metadata": {},
     "output_type": "execute_result"
    },
    {
     "data": {
      "text/plain": [
       "{}"
      ]
     },
     "execution_count": 24,
     "metadata": {},
     "output_type": "execute_result"
    },
    {
     "data": {
      "text/plain": [
       "{}"
      ]
     },
     "execution_count": 24,
     "metadata": {},
     "output_type": "execute_result"
    },
    {
     "data": {
      "text/plain": [
       "{}"
      ]
     },
     "execution_count": 24,
     "metadata": {},
     "output_type": "execute_result"
    },
    {
     "data": {
      "text/plain": [
       "{}"
      ]
     },
     "execution_count": 24,
     "metadata": {},
     "output_type": "execute_result"
    },
    {
     "data": {
      "text/plain": [
       "{}"
      ]
     },
     "execution_count": 24,
     "metadata": {},
     "output_type": "execute_result"
    },
    {
     "data": {
      "text/plain": [
       "{}"
      ]
     },
     "execution_count": 24,
     "metadata": {},
     "output_type": "execute_result"
    },
    {
     "data": {
      "text/plain": [
       "{}"
      ]
     },
     "execution_count": 24,
     "metadata": {},
     "output_type": "execute_result"
    },
    {
     "data": {
      "text/plain": [
       "{}"
      ]
     },
     "execution_count": 24,
     "metadata": {},
     "output_type": "execute_result"
    },
    {
     "data": {
      "text/plain": [
       "{}"
      ]
     },
     "execution_count": 24,
     "metadata": {},
     "output_type": "execute_result"
    },
    {
     "data": {
      "text/plain": [
       "{}"
      ]
     },
     "execution_count": 24,
     "metadata": {},
     "output_type": "execute_result"
    },
    {
     "data": {
      "text/plain": [
       "{}"
      ]
     },
     "execution_count": 24,
     "metadata": {},
     "output_type": "execute_result"
    },
    {
     "data": {
      "text/plain": [
       "{}"
      ]
     },
     "execution_count": 24,
     "metadata": {},
     "output_type": "execute_result"
    },
    {
     "data": {
      "text/plain": [
       "{}"
      ]
     },
     "execution_count": 24,
     "metadata": {},
     "output_type": "execute_result"
    },
    {
     "data": {
      "text/plain": [
       "{}"
      ]
     },
     "execution_count": 24,
     "metadata": {},
     "output_type": "execute_result"
    },
    {
     "data": {
      "text/plain": [
       "{}"
      ]
     },
     "execution_count": 24,
     "metadata": {},
     "output_type": "execute_result"
    },
    {
     "data": {
      "text/plain": [
       "{}"
      ]
     },
     "execution_count": 24,
     "metadata": {},
     "output_type": "execute_result"
    },
    {
     "data": {
      "text/plain": [
       "{}"
      ]
     },
     "execution_count": 24,
     "metadata": {},
     "output_type": "execute_result"
    },
    {
     "data": {
      "text/plain": [
       "{}"
      ]
     },
     "execution_count": 24,
     "metadata": {},
     "output_type": "execute_result"
    },
    {
     "data": {
      "text/plain": [
       "{}"
      ]
     },
     "execution_count": 24,
     "metadata": {},
     "output_type": "execute_result"
    },
    {
     "data": {
      "text/plain": [
       "{}"
      ]
     },
     "execution_count": 24,
     "metadata": {},
     "output_type": "execute_result"
    },
    {
     "data": {
      "text/plain": [
       "{}"
      ]
     },
     "execution_count": 24,
     "metadata": {},
     "output_type": "execute_result"
    },
    {
     "data": {
      "text/plain": [
       "{}"
      ]
     },
     "execution_count": 24,
     "metadata": {},
     "output_type": "execute_result"
    },
    {
     "data": {
      "text/plain": [
       "{}"
      ]
     },
     "execution_count": 24,
     "metadata": {},
     "output_type": "execute_result"
    },
    {
     "data": {
      "text/plain": [
       "{}"
      ]
     },
     "execution_count": 24,
     "metadata": {},
     "output_type": "execute_result"
    },
    {
     "data": {
      "text/plain": [
       "{}"
      ]
     },
     "execution_count": 24,
     "metadata": {},
     "output_type": "execute_result"
    },
    {
     "data": {
      "text/plain": [
       "{}"
      ]
     },
     "execution_count": 24,
     "metadata": {},
     "output_type": "execute_result"
    },
    {
     "data": {
      "text/plain": [
       "{}"
      ]
     },
     "execution_count": 24,
     "metadata": {},
     "output_type": "execute_result"
    },
    {
     "data": {
      "text/plain": [
       "{}"
      ]
     },
     "execution_count": 24,
     "metadata": {},
     "output_type": "execute_result"
    },
    {
     "data": {
      "text/plain": [
       "{}"
      ]
     },
     "execution_count": 24,
     "metadata": {},
     "output_type": "execute_result"
    },
    {
     "data": {
      "text/plain": [
       "{}"
      ]
     },
     "execution_count": 24,
     "metadata": {},
     "output_type": "execute_result"
    },
    {
     "data": {
      "text/plain": [
       "{}"
      ]
     },
     "execution_count": 24,
     "metadata": {},
     "output_type": "execute_result"
    },
    {
     "data": {
      "text/plain": [
       "{}"
      ]
     },
     "execution_count": 24,
     "metadata": {},
     "output_type": "execute_result"
    },
    {
     "data": {
      "text/plain": [
       "{}"
      ]
     },
     "execution_count": 24,
     "metadata": {},
     "output_type": "execute_result"
    },
    {
     "data": {
      "text/plain": [
       "{}"
      ]
     },
     "execution_count": 24,
     "metadata": {},
     "output_type": "execute_result"
    },
    {
     "data": {
      "text/plain": [
       "{}"
      ]
     },
     "execution_count": 24,
     "metadata": {},
     "output_type": "execute_result"
    },
    {
     "data": {
      "text/plain": [
       "{}"
      ]
     },
     "execution_count": 24,
     "metadata": {},
     "output_type": "execute_result"
    },
    {
     "data": {
      "text/plain": [
       "{}"
      ]
     },
     "execution_count": 24,
     "metadata": {},
     "output_type": "execute_result"
    },
    {
     "data": {
      "text/plain": [
       "{}"
      ]
     },
     "execution_count": 24,
     "metadata": {},
     "output_type": "execute_result"
    },
    {
     "data": {
      "text/plain": [
       "{}"
      ]
     },
     "execution_count": 24,
     "metadata": {},
     "output_type": "execute_result"
    },
    {
     "data": {
      "text/plain": [
       "{}"
      ]
     },
     "execution_count": 24,
     "metadata": {},
     "output_type": "execute_result"
    },
    {
     "data": {
      "text/plain": [
       "{}"
      ]
     },
     "execution_count": 24,
     "metadata": {},
     "output_type": "execute_result"
    },
    {
     "data": {
      "text/plain": [
       "{}"
      ]
     },
     "execution_count": 24,
     "metadata": {},
     "output_type": "execute_result"
    },
    {
     "data": {
      "text/plain": [
       "{}"
      ]
     },
     "execution_count": 24,
     "metadata": {},
     "output_type": "execute_result"
    },
    {
     "data": {
      "text/plain": [
       "{}"
      ]
     },
     "execution_count": 24,
     "metadata": {},
     "output_type": "execute_result"
    },
    {
     "data": {
      "text/plain": [
       "{}"
      ]
     },
     "execution_count": 24,
     "metadata": {},
     "output_type": "execute_result"
    },
    {
     "data": {
      "text/plain": [
       "{}"
      ]
     },
     "execution_count": 24,
     "metadata": {},
     "output_type": "execute_result"
    },
    {
     "data": {
      "text/plain": [
       "{}"
      ]
     },
     "execution_count": 24,
     "metadata": {},
     "output_type": "execute_result"
    },
    {
     "data": {
      "text/plain": [
       "{}"
      ]
     },
     "execution_count": 24,
     "metadata": {},
     "output_type": "execute_result"
    },
    {
     "data": {
      "text/plain": [
       "{}"
      ]
     },
     "execution_count": 24,
     "metadata": {},
     "output_type": "execute_result"
    },
    {
     "data": {
      "text/plain": [
       "{}"
      ]
     },
     "execution_count": 24,
     "metadata": {},
     "output_type": "execute_result"
    },
    {
     "data": {
      "text/plain": [
       "{}"
      ]
     },
     "execution_count": 24,
     "metadata": {},
     "output_type": "execute_result"
    },
    {
     "data": {
      "text/plain": [
       "{}"
      ]
     },
     "execution_count": 24,
     "metadata": {},
     "output_type": "execute_result"
    },
    {
     "data": {
      "text/plain": [
       "{}"
      ]
     },
     "execution_count": 24,
     "metadata": {},
     "output_type": "execute_result"
    },
    {
     "data": {
      "text/plain": [
       "{}"
      ]
     },
     "execution_count": 24,
     "metadata": {},
     "output_type": "execute_result"
    },
    {
     "data": {
      "text/plain": [
       "{}"
      ]
     },
     "execution_count": 24,
     "metadata": {},
     "output_type": "execute_result"
    },
    {
     "data": {
      "text/plain": [
       "{}"
      ]
     },
     "execution_count": 24,
     "metadata": {},
     "output_type": "execute_result"
    },
    {
     "data": {
      "text/plain": [
       "{}"
      ]
     },
     "execution_count": 24,
     "metadata": {},
     "output_type": "execute_result"
    },
    {
     "data": {
      "text/plain": [
       "{}"
      ]
     },
     "execution_count": 24,
     "metadata": {},
     "output_type": "execute_result"
    },
    {
     "data": {
      "text/plain": [
       "{}"
      ]
     },
     "execution_count": 24,
     "metadata": {},
     "output_type": "execute_result"
    },
    {
     "data": {
      "text/plain": [
       "{}"
      ]
     },
     "execution_count": 24,
     "metadata": {},
     "output_type": "execute_result"
    },
    {
     "data": {
      "text/plain": [
       "{}"
      ]
     },
     "execution_count": 24,
     "metadata": {},
     "output_type": "execute_result"
    },
    {
     "data": {
      "text/plain": [
       "{}"
      ]
     },
     "execution_count": 24,
     "metadata": {},
     "output_type": "execute_result"
    },
    {
     "data": {
      "text/plain": [
       "{}"
      ]
     },
     "execution_count": 24,
     "metadata": {},
     "output_type": "execute_result"
    },
    {
     "data": {
      "text/plain": [
       "{}"
      ]
     },
     "execution_count": 24,
     "metadata": {},
     "output_type": "execute_result"
    },
    {
     "data": {
      "text/plain": [
       "{}"
      ]
     },
     "execution_count": 24,
     "metadata": {},
     "output_type": "execute_result"
    },
    {
     "data": {
      "text/plain": [
       "{}"
      ]
     },
     "execution_count": 24,
     "metadata": {},
     "output_type": "execute_result"
    },
    {
     "data": {
      "text/plain": [
       "{}"
      ]
     },
     "execution_count": 24,
     "metadata": {},
     "output_type": "execute_result"
    },
    {
     "data": {
      "text/plain": [
       "{}"
      ]
     },
     "execution_count": 24,
     "metadata": {},
     "output_type": "execute_result"
    },
    {
     "data": {
      "text/plain": [
       "{}"
      ]
     },
     "execution_count": 24,
     "metadata": {},
     "output_type": "execute_result"
    },
    {
     "data": {
      "text/plain": [
       "{}"
      ]
     },
     "execution_count": 24,
     "metadata": {},
     "output_type": "execute_result"
    },
    {
     "data": {
      "text/plain": [
       "{}"
      ]
     },
     "execution_count": 24,
     "metadata": {},
     "output_type": "execute_result"
    },
    {
     "data": {
      "text/plain": [
       "{}"
      ]
     },
     "execution_count": 24,
     "metadata": {},
     "output_type": "execute_result"
    },
    {
     "data": {
      "text/plain": [
       "{}"
      ]
     },
     "execution_count": 24,
     "metadata": {},
     "output_type": "execute_result"
    },
    {
     "data": {
      "text/plain": [
       "{}"
      ]
     },
     "execution_count": 24,
     "metadata": {},
     "output_type": "execute_result"
    },
    {
     "data": {
      "text/plain": [
       "{}"
      ]
     },
     "execution_count": 24,
     "metadata": {},
     "output_type": "execute_result"
    },
    {
     "data": {
      "text/plain": [
       "{}"
      ]
     },
     "execution_count": 24,
     "metadata": {},
     "output_type": "execute_result"
    },
    {
     "data": {
      "text/plain": [
       "{}"
      ]
     },
     "execution_count": 24,
     "metadata": {},
     "output_type": "execute_result"
    },
    {
     "data": {
      "text/plain": [
       "{}"
      ]
     },
     "execution_count": 24,
     "metadata": {},
     "output_type": "execute_result"
    },
    {
     "data": {
      "text/plain": [
       "{}"
      ]
     },
     "execution_count": 24,
     "metadata": {},
     "output_type": "execute_result"
    },
    {
     "data": {
      "text/plain": [
       "{}"
      ]
     },
     "execution_count": 24,
     "metadata": {},
     "output_type": "execute_result"
    },
    {
     "data": {
      "text/plain": [
       "{}"
      ]
     },
     "execution_count": 24,
     "metadata": {},
     "output_type": "execute_result"
    },
    {
     "data": {
      "text/plain": [
       "{}"
      ]
     },
     "execution_count": 24,
     "metadata": {},
     "output_type": "execute_result"
    },
    {
     "data": {
      "text/plain": [
       "{}"
      ]
     },
     "execution_count": 24,
     "metadata": {},
     "output_type": "execute_result"
    },
    {
     "data": {
      "text/plain": [
       "{}"
      ]
     },
     "execution_count": 24,
     "metadata": {},
     "output_type": "execute_result"
    },
    {
     "data": {
      "text/plain": [
       "{}"
      ]
     },
     "execution_count": 24,
     "metadata": {},
     "output_type": "execute_result"
    },
    {
     "data": {
      "text/plain": [
       "{}"
      ]
     },
     "execution_count": 24,
     "metadata": {},
     "output_type": "execute_result"
    },
    {
     "data": {
      "text/plain": [
       "{}"
      ]
     },
     "execution_count": 24,
     "metadata": {},
     "output_type": "execute_result"
    },
    {
     "data": {
      "text/plain": [
       "{}"
      ]
     },
     "execution_count": 24,
     "metadata": {},
     "output_type": "execute_result"
    },
    {
     "data": {
      "text/plain": [
       "{}"
      ]
     },
     "execution_count": 24,
     "metadata": {},
     "output_type": "execute_result"
    },
    {
     "data": {
      "text/plain": [
       "{}"
      ]
     },
     "execution_count": 24,
     "metadata": {},
     "output_type": "execute_result"
    },
    {
     "data": {
      "text/plain": [
       "{}"
      ]
     },
     "execution_count": 24,
     "metadata": {},
     "output_type": "execute_result"
    },
    {
     "data": {
      "text/plain": [
       "{}"
      ]
     },
     "execution_count": 24,
     "metadata": {},
     "output_type": "execute_result"
    },
    {
     "data": {
      "text/plain": [
       "{}"
      ]
     },
     "execution_count": 24,
     "metadata": {},
     "output_type": "execute_result"
    },
    {
     "data": {
      "text/plain": [
       "{}"
      ]
     },
     "execution_count": 24,
     "metadata": {},
     "output_type": "execute_result"
    },
    {
     "data": {
      "text/plain": [
       "{}"
      ]
     },
     "execution_count": 24,
     "metadata": {},
     "output_type": "execute_result"
    },
    {
     "data": {
      "text/plain": [
       "{}"
      ]
     },
     "execution_count": 24,
     "metadata": {},
     "output_type": "execute_result"
    },
    {
     "data": {
      "text/plain": [
       "{}"
      ]
     },
     "execution_count": 24,
     "metadata": {},
     "output_type": "execute_result"
    },
    {
     "data": {
      "text/plain": [
       "{}"
      ]
     },
     "execution_count": 24,
     "metadata": {},
     "output_type": "execute_result"
    },
    {
     "data": {
      "text/plain": [
       "{}"
      ]
     },
     "execution_count": 24,
     "metadata": {},
     "output_type": "execute_result"
    },
    {
     "data": {
      "text/plain": [
       "{}"
      ]
     },
     "execution_count": 24,
     "metadata": {},
     "output_type": "execute_result"
    },
    {
     "data": {
      "text/plain": [
       "{}"
      ]
     },
     "execution_count": 24,
     "metadata": {},
     "output_type": "execute_result"
    },
    {
     "data": {
      "text/plain": [
       "{}"
      ]
     },
     "execution_count": 24,
     "metadata": {},
     "output_type": "execute_result"
    },
    {
     "data": {
      "text/plain": [
       "{}"
      ]
     },
     "execution_count": 24,
     "metadata": {},
     "output_type": "execute_result"
    },
    {
     "data": {
      "text/plain": [
       "{}"
      ]
     },
     "execution_count": 24,
     "metadata": {},
     "output_type": "execute_result"
    },
    {
     "data": {
      "text/plain": [
       "{}"
      ]
     },
     "execution_count": 24,
     "metadata": {},
     "output_type": "execute_result"
    },
    {
     "data": {
      "text/plain": [
       "{}"
      ]
     },
     "execution_count": 24,
     "metadata": {},
     "output_type": "execute_result"
    },
    {
     "data": {
      "text/plain": [
       "{}"
      ]
     },
     "execution_count": 24,
     "metadata": {},
     "output_type": "execute_result"
    },
    {
     "data": {
      "text/plain": [
       "{}"
      ]
     },
     "execution_count": 24,
     "metadata": {},
     "output_type": "execute_result"
    },
    {
     "data": {
      "text/plain": [
       "{}"
      ]
     },
     "execution_count": 24,
     "metadata": {},
     "output_type": "execute_result"
    },
    {
     "data": {
      "text/plain": [
       "{}"
      ]
     },
     "execution_count": 24,
     "metadata": {},
     "output_type": "execute_result"
    },
    {
     "data": {
      "text/plain": [
       "{}"
      ]
     },
     "execution_count": 24,
     "metadata": {},
     "output_type": "execute_result"
    },
    {
     "data": {
      "text/plain": [
       "{}"
      ]
     },
     "execution_count": 24,
     "metadata": {},
     "output_type": "execute_result"
    },
    {
     "data": {
      "text/plain": [
       "{}"
      ]
     },
     "execution_count": 24,
     "metadata": {},
     "output_type": "execute_result"
    },
    {
     "data": {
      "text/plain": [
       "{}"
      ]
     },
     "execution_count": 24,
     "metadata": {},
     "output_type": "execute_result"
    },
    {
     "data": {
      "text/plain": [
       "{}"
      ]
     },
     "execution_count": 24,
     "metadata": {},
     "output_type": "execute_result"
    },
    {
     "data": {
      "text/plain": [
       "{}"
      ]
     },
     "execution_count": 24,
     "metadata": {},
     "output_type": "execute_result"
    },
    {
     "data": {
      "text/plain": [
       "{}"
      ]
     },
     "execution_count": 24,
     "metadata": {},
     "output_type": "execute_result"
    },
    {
     "data": {
      "text/plain": [
       "{}"
      ]
     },
     "execution_count": 24,
     "metadata": {},
     "output_type": "execute_result"
    },
    {
     "data": {
      "text/plain": [
       "{}"
      ]
     },
     "execution_count": 24,
     "metadata": {},
     "output_type": "execute_result"
    },
    {
     "data": {
      "text/plain": [
       "{}"
      ]
     },
     "execution_count": 24,
     "metadata": {},
     "output_type": "execute_result"
    },
    {
     "data": {
      "text/plain": [
       "{}"
      ]
     },
     "execution_count": 24,
     "metadata": {},
     "output_type": "execute_result"
    },
    {
     "data": {
      "text/plain": [
       "{}"
      ]
     },
     "execution_count": 24,
     "metadata": {},
     "output_type": "execute_result"
    },
    {
     "data": {
      "text/plain": [
       "{}"
      ]
     },
     "execution_count": 24,
     "metadata": {},
     "output_type": "execute_result"
    },
    {
     "data": {
      "text/plain": [
       "{}"
      ]
     },
     "execution_count": 24,
     "metadata": {},
     "output_type": "execute_result"
    },
    {
     "data": {
      "text/plain": [
       "{}"
      ]
     },
     "execution_count": 24,
     "metadata": {},
     "output_type": "execute_result"
    },
    {
     "data": {
      "text/plain": [
       "{}"
      ]
     },
     "execution_count": 24,
     "metadata": {},
     "output_type": "execute_result"
    },
    {
     "data": {
      "text/plain": [
       "{}"
      ]
     },
     "execution_count": 24,
     "metadata": {},
     "output_type": "execute_result"
    },
    {
     "data": {
      "text/plain": [
       "{}"
      ]
     },
     "execution_count": 24,
     "metadata": {},
     "output_type": "execute_result"
    },
    {
     "data": {
      "text/plain": [
       "{}"
      ]
     },
     "execution_count": 24,
     "metadata": {},
     "output_type": "execute_result"
    },
    {
     "data": {
      "text/plain": [
       "{}"
      ]
     },
     "execution_count": 24,
     "metadata": {},
     "output_type": "execute_result"
    },
    {
     "data": {
      "text/plain": [
       "{}"
      ]
     },
     "execution_count": 24,
     "metadata": {},
     "output_type": "execute_result"
    },
    {
     "data": {
      "text/plain": [
       "{}"
      ]
     },
     "execution_count": 24,
     "metadata": {},
     "output_type": "execute_result"
    },
    {
     "data": {
      "text/plain": [
       "{}"
      ]
     },
     "execution_count": 24,
     "metadata": {},
     "output_type": "execute_result"
    },
    {
     "data": {
      "text/plain": [
       "{}"
      ]
     },
     "execution_count": 24,
     "metadata": {},
     "output_type": "execute_result"
    },
    {
     "data": {
      "text/plain": [
       "{}"
      ]
     },
     "execution_count": 24,
     "metadata": {},
     "output_type": "execute_result"
    },
    {
     "data": {
      "text/plain": [
       "{}"
      ]
     },
     "execution_count": 24,
     "metadata": {},
     "output_type": "execute_result"
    },
    {
     "data": {
      "text/plain": [
       "{}"
      ]
     },
     "execution_count": 24,
     "metadata": {},
     "output_type": "execute_result"
    },
    {
     "data": {
      "text/plain": [
       "{}"
      ]
     },
     "execution_count": 24,
     "metadata": {},
     "output_type": "execute_result"
    },
    {
     "data": {
      "text/plain": [
       "{}"
      ]
     },
     "execution_count": 24,
     "metadata": {},
     "output_type": "execute_result"
    },
    {
     "data": {
      "text/plain": [
       "{}"
      ]
     },
     "execution_count": 24,
     "metadata": {},
     "output_type": "execute_result"
    },
    {
     "data": {
      "text/plain": [
       "{}"
      ]
     },
     "execution_count": 24,
     "metadata": {},
     "output_type": "execute_result"
    },
    {
     "data": {
      "text/plain": [
       "{}"
      ]
     },
     "execution_count": 24,
     "metadata": {},
     "output_type": "execute_result"
    },
    {
     "data": {
      "text/plain": [
       "{}"
      ]
     },
     "execution_count": 24,
     "metadata": {},
     "output_type": "execute_result"
    },
    {
     "data": {
      "text/plain": [
       "{}"
      ]
     },
     "execution_count": 24,
     "metadata": {},
     "output_type": "execute_result"
    },
    {
     "data": {
      "text/plain": [
       "{}"
      ]
     },
     "execution_count": 24,
     "metadata": {},
     "output_type": "execute_result"
    },
    {
     "data": {
      "text/plain": [
       "{}"
      ]
     },
     "execution_count": 24,
     "metadata": {},
     "output_type": "execute_result"
    },
    {
     "data": {
      "text/plain": [
       "{}"
      ]
     },
     "execution_count": 24,
     "metadata": {},
     "output_type": "execute_result"
    },
    {
     "data": {
      "text/plain": [
       "{}"
      ]
     },
     "execution_count": 24,
     "metadata": {},
     "output_type": "execute_result"
    },
    {
     "data": {
      "text/plain": [
       "{}"
      ]
     },
     "execution_count": 24,
     "metadata": {},
     "output_type": "execute_result"
    },
    {
     "data": {
      "text/plain": [
       "{}"
      ]
     },
     "execution_count": 24,
     "metadata": {},
     "output_type": "execute_result"
    },
    {
     "data": {
      "text/plain": [
       "{}"
      ]
     },
     "execution_count": 24,
     "metadata": {},
     "output_type": "execute_result"
    },
    {
     "data": {
      "text/plain": [
       "{}"
      ]
     },
     "execution_count": 24,
     "metadata": {},
     "output_type": "execute_result"
    },
    {
     "data": {
      "text/plain": [
       "{}"
      ]
     },
     "execution_count": 24,
     "metadata": {},
     "output_type": "execute_result"
    },
    {
     "data": {
      "text/plain": [
       "{}"
      ]
     },
     "execution_count": 24,
     "metadata": {},
     "output_type": "execute_result"
    },
    {
     "data": {
      "text/plain": [
       "{}"
      ]
     },
     "execution_count": 24,
     "metadata": {},
     "output_type": "execute_result"
    },
    {
     "data": {
      "text/plain": [
       "{}"
      ]
     },
     "execution_count": 24,
     "metadata": {},
     "output_type": "execute_result"
    },
    {
     "data": {
      "text/plain": [
       "{}"
      ]
     },
     "execution_count": 24,
     "metadata": {},
     "output_type": "execute_result"
    },
    {
     "data": {
      "text/plain": [
       "{}"
      ]
     },
     "execution_count": 24,
     "metadata": {},
     "output_type": "execute_result"
    },
    {
     "data": {
      "text/plain": [
       "{}"
      ]
     },
     "execution_count": 24,
     "metadata": {},
     "output_type": "execute_result"
    },
    {
     "data": {
      "text/plain": [
       "{}"
      ]
     },
     "execution_count": 24,
     "metadata": {},
     "output_type": "execute_result"
    },
    {
     "data": {
      "text/plain": [
       "{}"
      ]
     },
     "execution_count": 24,
     "metadata": {},
     "output_type": "execute_result"
    },
    {
     "data": {
      "text/plain": [
       "{}"
      ]
     },
     "execution_count": 24,
     "metadata": {},
     "output_type": "execute_result"
    },
    {
     "data": {
      "text/plain": [
       "{}"
      ]
     },
     "execution_count": 24,
     "metadata": {},
     "output_type": "execute_result"
    },
    {
     "data": {
      "text/plain": [
       "{}"
      ]
     },
     "execution_count": 24,
     "metadata": {},
     "output_type": "execute_result"
    },
    {
     "data": {
      "text/plain": [
       "{}"
      ]
     },
     "execution_count": 24,
     "metadata": {},
     "output_type": "execute_result"
    },
    {
     "data": {
      "text/plain": [
       "{}"
      ]
     },
     "execution_count": 24,
     "metadata": {},
     "output_type": "execute_result"
    },
    {
     "data": {
      "text/plain": [
       "{}"
      ]
     },
     "execution_count": 24,
     "metadata": {},
     "output_type": "execute_result"
    },
    {
     "data": {
      "text/plain": [
       "{}"
      ]
     },
     "execution_count": 24,
     "metadata": {},
     "output_type": "execute_result"
    },
    {
     "data": {
      "text/plain": [
       "{}"
      ]
     },
     "execution_count": 24,
     "metadata": {},
     "output_type": "execute_result"
    },
    {
     "data": {
      "text/plain": [
       "{}"
      ]
     },
     "execution_count": 24,
     "metadata": {},
     "output_type": "execute_result"
    },
    {
     "data": {
      "text/plain": [
       "{}"
      ]
     },
     "execution_count": 24,
     "metadata": {},
     "output_type": "execute_result"
    },
    {
     "data": {
      "text/plain": [
       "{}"
      ]
     },
     "execution_count": 24,
     "metadata": {},
     "output_type": "execute_result"
    },
    {
     "data": {
      "text/plain": [
       "{}"
      ]
     },
     "execution_count": 24,
     "metadata": {},
     "output_type": "execute_result"
    },
    {
     "data": {
      "text/plain": [
       "{}"
      ]
     },
     "execution_count": 24,
     "metadata": {},
     "output_type": "execute_result"
    },
    {
     "data": {
      "text/plain": [
       "{}"
      ]
     },
     "execution_count": 24,
     "metadata": {},
     "output_type": "execute_result"
    },
    {
     "data": {
      "text/plain": [
       "{}"
      ]
     },
     "execution_count": 24,
     "metadata": {},
     "output_type": "execute_result"
    },
    {
     "data": {
      "text/plain": [
       "{}"
      ]
     },
     "execution_count": 24,
     "metadata": {},
     "output_type": "execute_result"
    },
    {
     "data": {
      "text/plain": [
       "{}"
      ]
     },
     "execution_count": 24,
     "metadata": {},
     "output_type": "execute_result"
    },
    {
     "data": {
      "text/plain": [
       "{}"
      ]
     },
     "execution_count": 24,
     "metadata": {},
     "output_type": "execute_result"
    },
    {
     "data": {
      "text/plain": [
       "{}"
      ]
     },
     "execution_count": 24,
     "metadata": {},
     "output_type": "execute_result"
    },
    {
     "data": {
      "text/plain": [
       "{}"
      ]
     },
     "execution_count": 24,
     "metadata": {},
     "output_type": "execute_result"
    },
    {
     "data": {
      "text/plain": [
       "{}"
      ]
     },
     "execution_count": 24,
     "metadata": {},
     "output_type": "execute_result"
    },
    {
     "data": {
      "text/plain": [
       "{}"
      ]
     },
     "execution_count": 24,
     "metadata": {},
     "output_type": "execute_result"
    },
    {
     "data": {
      "text/plain": [
       "{}"
      ]
     },
     "execution_count": 24,
     "metadata": {},
     "output_type": "execute_result"
    },
    {
     "data": {
      "text/plain": [
       "{}"
      ]
     },
     "execution_count": 24,
     "metadata": {},
     "output_type": "execute_result"
    },
    {
     "data": {
      "text/plain": [
       "{}"
      ]
     },
     "execution_count": 24,
     "metadata": {},
     "output_type": "execute_result"
    },
    {
     "data": {
      "text/plain": [
       "{}"
      ]
     },
     "execution_count": 24,
     "metadata": {},
     "output_type": "execute_result"
    },
    {
     "data": {
      "text/plain": [
       "{}"
      ]
     },
     "execution_count": 24,
     "metadata": {},
     "output_type": "execute_result"
    },
    {
     "data": {
      "text/plain": [
       "{}"
      ]
     },
     "execution_count": 24,
     "metadata": {},
     "output_type": "execute_result"
    },
    {
     "data": {
      "text/plain": [
       "{}"
      ]
     },
     "execution_count": 24,
     "metadata": {},
     "output_type": "execute_result"
    },
    {
     "data": {
      "text/plain": [
       "{}"
      ]
     },
     "execution_count": 24,
     "metadata": {},
     "output_type": "execute_result"
    },
    {
     "data": {
      "text/plain": [
       "{}"
      ]
     },
     "execution_count": 24,
     "metadata": {},
     "output_type": "execute_result"
    },
    {
     "data": {
      "text/plain": [
       "{}"
      ]
     },
     "execution_count": 24,
     "metadata": {},
     "output_type": "execute_result"
    },
    {
     "data": {
      "text/plain": [
       "{}"
      ]
     },
     "execution_count": 24,
     "metadata": {},
     "output_type": "execute_result"
    },
    {
     "data": {
      "text/plain": [
       "{}"
      ]
     },
     "execution_count": 24,
     "metadata": {},
     "output_type": "execute_result"
    },
    {
     "data": {
      "text/plain": [
       "{}"
      ]
     },
     "execution_count": 24,
     "metadata": {},
     "output_type": "execute_result"
    },
    {
     "data": {
      "text/plain": [
       "{}"
      ]
     },
     "execution_count": 24,
     "metadata": {},
     "output_type": "execute_result"
    },
    {
     "data": {
      "text/plain": [
       "{}"
      ]
     },
     "execution_count": 24,
     "metadata": {},
     "output_type": "execute_result"
    },
    {
     "data": {
      "text/plain": [
       "{}"
      ]
     },
     "execution_count": 24,
     "metadata": {},
     "output_type": "execute_result"
    },
    {
     "data": {
      "text/plain": [
       "{}"
      ]
     },
     "execution_count": 24,
     "metadata": {},
     "output_type": "execute_result"
    },
    {
     "data": {
      "text/plain": [
       "{}"
      ]
     },
     "execution_count": 24,
     "metadata": {},
     "output_type": "execute_result"
    },
    {
     "data": {
      "text/plain": [
       "{}"
      ]
     },
     "execution_count": 24,
     "metadata": {},
     "output_type": "execute_result"
    },
    {
     "data": {
      "text/plain": [
       "{}"
      ]
     },
     "execution_count": 24,
     "metadata": {},
     "output_type": "execute_result"
    },
    {
     "data": {
      "text/plain": [
       "{}"
      ]
     },
     "execution_count": 24,
     "metadata": {},
     "output_type": "execute_result"
    },
    {
     "data": {
      "text/plain": [
       "{}"
      ]
     },
     "execution_count": 24,
     "metadata": {},
     "output_type": "execute_result"
    },
    {
     "data": {
      "text/plain": [
       "{}"
      ]
     },
     "execution_count": 24,
     "metadata": {},
     "output_type": "execute_result"
    },
    {
     "data": {
      "text/plain": [
       "{}"
      ]
     },
     "execution_count": 24,
     "metadata": {},
     "output_type": "execute_result"
    },
    {
     "data": {
      "text/plain": [
       "{}"
      ]
     },
     "execution_count": 24,
     "metadata": {},
     "output_type": "execute_result"
    },
    {
     "data": {
      "text/plain": [
       "{}"
      ]
     },
     "execution_count": 24,
     "metadata": {},
     "output_type": "execute_result"
    },
    {
     "data": {
      "text/plain": [
       "{}"
      ]
     },
     "execution_count": 24,
     "metadata": {},
     "output_type": "execute_result"
    },
    {
     "data": {
      "text/plain": [
       "{}"
      ]
     },
     "execution_count": 24,
     "metadata": {},
     "output_type": "execute_result"
    },
    {
     "data": {
      "text/plain": [
       "{}"
      ]
     },
     "execution_count": 24,
     "metadata": {},
     "output_type": "execute_result"
    },
    {
     "data": {
      "text/plain": [
       "{}"
      ]
     },
     "execution_count": 24,
     "metadata": {},
     "output_type": "execute_result"
    },
    {
     "data": {
      "text/plain": [
       "{}"
      ]
     },
     "execution_count": 24,
     "metadata": {},
     "output_type": "execute_result"
    },
    {
     "data": {
      "text/plain": [
       "{}"
      ]
     },
     "execution_count": 24,
     "metadata": {},
     "output_type": "execute_result"
    },
    {
     "data": {
      "text/plain": [
       "{}"
      ]
     },
     "execution_count": 24,
     "metadata": {},
     "output_type": "execute_result"
    },
    {
     "data": {
      "text/plain": [
       "{}"
      ]
     },
     "execution_count": 24,
     "metadata": {},
     "output_type": "execute_result"
    },
    {
     "data": {
      "text/plain": [
       "{}"
      ]
     },
     "execution_count": 24,
     "metadata": {},
     "output_type": "execute_result"
    },
    {
     "data": {
      "text/plain": [
       "{}"
      ]
     },
     "execution_count": 24,
     "metadata": {},
     "output_type": "execute_result"
    },
    {
     "data": {
      "text/plain": [
       "{}"
      ]
     },
     "execution_count": 24,
     "metadata": {},
     "output_type": "execute_result"
    },
    {
     "data": {
      "text/plain": [
       "{}"
      ]
     },
     "execution_count": 24,
     "metadata": {},
     "output_type": "execute_result"
    },
    {
     "data": {
      "text/plain": [
       "{}"
      ]
     },
     "execution_count": 24,
     "metadata": {},
     "output_type": "execute_result"
    },
    {
     "data": {
      "text/plain": [
       "{}"
      ]
     },
     "execution_count": 24,
     "metadata": {},
     "output_type": "execute_result"
    },
    {
     "data": {
      "text/plain": [
       "{}"
      ]
     },
     "execution_count": 24,
     "metadata": {},
     "output_type": "execute_result"
    },
    {
     "data": {
      "text/plain": [
       "{}"
      ]
     },
     "execution_count": 24,
     "metadata": {},
     "output_type": "execute_result"
    },
    {
     "data": {
      "text/plain": [
       "{}"
      ]
     },
     "execution_count": 24,
     "metadata": {},
     "output_type": "execute_result"
    },
    {
     "data": {
      "text/plain": [
       "{}"
      ]
     },
     "execution_count": 24,
     "metadata": {},
     "output_type": "execute_result"
    },
    {
     "data": {
      "text/plain": [
       "{}"
      ]
     },
     "execution_count": 24,
     "metadata": {},
     "output_type": "execute_result"
    },
    {
     "data": {
      "text/plain": [
       "{}"
      ]
     },
     "execution_count": 24,
     "metadata": {},
     "output_type": "execute_result"
    },
    {
     "data": {
      "text/plain": [
       "{}"
      ]
     },
     "execution_count": 24,
     "metadata": {},
     "output_type": "execute_result"
    },
    {
     "data": {
      "text/plain": [
       "{}"
      ]
     },
     "execution_count": 24,
     "metadata": {},
     "output_type": "execute_result"
    },
    {
     "data": {
      "text/plain": [
       "{}"
      ]
     },
     "execution_count": 24,
     "metadata": {},
     "output_type": "execute_result"
    },
    {
     "data": {
      "text/plain": [
       "{}"
      ]
     },
     "execution_count": 24,
     "metadata": {},
     "output_type": "execute_result"
    },
    {
     "data": {
      "text/plain": [
       "{}"
      ]
     },
     "execution_count": 24,
     "metadata": {},
     "output_type": "execute_result"
    },
    {
     "data": {
      "text/plain": [
       "{}"
      ]
     },
     "execution_count": 24,
     "metadata": {},
     "output_type": "execute_result"
    },
    {
     "data": {
      "text/plain": [
       "{}"
      ]
     },
     "execution_count": 24,
     "metadata": {},
     "output_type": "execute_result"
    },
    {
     "data": {
      "text/plain": [
       "{}"
      ]
     },
     "execution_count": 24,
     "metadata": {},
     "output_type": "execute_result"
    },
    {
     "data": {
      "text/plain": [
       "{}"
      ]
     },
     "execution_count": 24,
     "metadata": {},
     "output_type": "execute_result"
    },
    {
     "data": {
      "text/plain": [
       "{}"
      ]
     },
     "execution_count": 24,
     "metadata": {},
     "output_type": "execute_result"
    },
    {
     "data": {
      "text/plain": [
       "{}"
      ]
     },
     "execution_count": 24,
     "metadata": {},
     "output_type": "execute_result"
    },
    {
     "data": {
      "text/plain": [
       "{}"
      ]
     },
     "execution_count": 24,
     "metadata": {},
     "output_type": "execute_result"
    },
    {
     "data": {
      "text/plain": [
       "{}"
      ]
     },
     "execution_count": 24,
     "metadata": {},
     "output_type": "execute_result"
    },
    {
     "data": {
      "text/plain": [
       "{}"
      ]
     },
     "execution_count": 24,
     "metadata": {},
     "output_type": "execute_result"
    },
    {
     "data": {
      "text/plain": [
       "{}"
      ]
     },
     "execution_count": 24,
     "metadata": {},
     "output_type": "execute_result"
    },
    {
     "data": {
      "text/plain": [
       "{}"
      ]
     },
     "execution_count": 24,
     "metadata": {},
     "output_type": "execute_result"
    },
    {
     "data": {
      "text/plain": [
       "{}"
      ]
     },
     "execution_count": 24,
     "metadata": {},
     "output_type": "execute_result"
    },
    {
     "data": {
      "text/plain": [
       "{}"
      ]
     },
     "execution_count": 24,
     "metadata": {},
     "output_type": "execute_result"
    },
    {
     "data": {
      "text/plain": [
       "{}"
      ]
     },
     "execution_count": 24,
     "metadata": {},
     "output_type": "execute_result"
    },
    {
     "data": {
      "text/plain": [
       "{}"
      ]
     },
     "execution_count": 24,
     "metadata": {},
     "output_type": "execute_result"
    },
    {
     "data": {
      "text/plain": [
       "{}"
      ]
     },
     "execution_count": 24,
     "metadata": {},
     "output_type": "execute_result"
    },
    {
     "data": {
      "text/plain": [
       "{}"
      ]
     },
     "execution_count": 24,
     "metadata": {},
     "output_type": "execute_result"
    },
    {
     "data": {
      "text/plain": [
       "{}"
      ]
     },
     "execution_count": 24,
     "metadata": {},
     "output_type": "execute_result"
    },
    {
     "data": {
      "text/plain": [
       "{}"
      ]
     },
     "execution_count": 24,
     "metadata": {},
     "output_type": "execute_result"
    },
    {
     "data": {
      "text/plain": [
       "{}"
      ]
     },
     "execution_count": 24,
     "metadata": {},
     "output_type": "execute_result"
    },
    {
     "data": {
      "text/plain": [
       "{}"
      ]
     },
     "execution_count": 24,
     "metadata": {},
     "output_type": "execute_result"
    },
    {
     "data": {
      "text/plain": [
       "{}"
      ]
     },
     "execution_count": 24,
     "metadata": {},
     "output_type": "execute_result"
    },
    {
     "data": {
      "text/plain": [
       "{}"
      ]
     },
     "execution_count": 24,
     "metadata": {},
     "output_type": "execute_result"
    },
    {
     "data": {
      "text/plain": [
       "{}"
      ]
     },
     "execution_count": 24,
     "metadata": {},
     "output_type": "execute_result"
    },
    {
     "data": {
      "text/plain": [
       "{}"
      ]
     },
     "execution_count": 24,
     "metadata": {},
     "output_type": "execute_result"
    },
    {
     "data": {
      "text/plain": [
       "{}"
      ]
     },
     "execution_count": 24,
     "metadata": {},
     "output_type": "execute_result"
    },
    {
     "data": {
      "text/plain": [
       "{}"
      ]
     },
     "execution_count": 24,
     "metadata": {},
     "output_type": "execute_result"
    },
    {
     "data": {
      "text/plain": [
       "{}"
      ]
     },
     "execution_count": 24,
     "metadata": {},
     "output_type": "execute_result"
    },
    {
     "data": {
      "text/plain": [
       "{}"
      ]
     },
     "execution_count": 24,
     "metadata": {},
     "output_type": "execute_result"
    },
    {
     "data": {
      "text/plain": [
       "{}"
      ]
     },
     "execution_count": 24,
     "metadata": {},
     "output_type": "execute_result"
    },
    {
     "data": {
      "text/plain": [
       "{}"
      ]
     },
     "execution_count": 24,
     "metadata": {},
     "output_type": "execute_result"
    },
    {
     "data": {
      "text/plain": [
       "{}"
      ]
     },
     "execution_count": 24,
     "metadata": {},
     "output_type": "execute_result"
    },
    {
     "data": {
      "text/plain": [
       "{}"
      ]
     },
     "execution_count": 24,
     "metadata": {},
     "output_type": "execute_result"
    },
    {
     "data": {
      "text/plain": [
       "{}"
      ]
     },
     "execution_count": 24,
     "metadata": {},
     "output_type": "execute_result"
    },
    {
     "data": {
      "text/plain": [
       "{}"
      ]
     },
     "execution_count": 24,
     "metadata": {},
     "output_type": "execute_result"
    },
    {
     "data": {
      "text/plain": [
       "{}"
      ]
     },
     "execution_count": 24,
     "metadata": {},
     "output_type": "execute_result"
    },
    {
     "data": {
      "text/plain": [
       "{}"
      ]
     },
     "execution_count": 24,
     "metadata": {},
     "output_type": "execute_result"
    },
    {
     "data": {
      "text/plain": [
       "{}"
      ]
     },
     "execution_count": 24,
     "metadata": {},
     "output_type": "execute_result"
    },
    {
     "data": {
      "text/plain": [
       "{}"
      ]
     },
     "execution_count": 24,
     "metadata": {},
     "output_type": "execute_result"
    },
    {
     "data": {
      "text/plain": [
       "{}"
      ]
     },
     "execution_count": 24,
     "metadata": {},
     "output_type": "execute_result"
    },
    {
     "data": {
      "text/plain": [
       "{}"
      ]
     },
     "execution_count": 24,
     "metadata": {},
     "output_type": "execute_result"
    },
    {
     "data": {
      "text/plain": [
       "{}"
      ]
     },
     "execution_count": 24,
     "metadata": {},
     "output_type": "execute_result"
    },
    {
     "data": {
      "text/plain": [
       "{}"
      ]
     },
     "execution_count": 24,
     "metadata": {},
     "output_type": "execute_result"
    },
    {
     "data": {
      "text/plain": [
       "{}"
      ]
     },
     "execution_count": 24,
     "metadata": {},
     "output_type": "execute_result"
    },
    {
     "data": {
      "text/plain": [
       "{}"
      ]
     },
     "execution_count": 24,
     "metadata": {},
     "output_type": "execute_result"
    },
    {
     "data": {
      "text/plain": [
       "{}"
      ]
     },
     "execution_count": 24,
     "metadata": {},
     "output_type": "execute_result"
    },
    {
     "data": {
      "text/plain": [
       "{}"
      ]
     },
     "execution_count": 24,
     "metadata": {},
     "output_type": "execute_result"
    },
    {
     "data": {
      "text/plain": [
       "{}"
      ]
     },
     "execution_count": 24,
     "metadata": {},
     "output_type": "execute_result"
    },
    {
     "data": {
      "text/plain": [
       "{}"
      ]
     },
     "execution_count": 24,
     "metadata": {},
     "output_type": "execute_result"
    },
    {
     "data": {
      "text/plain": [
       "{}"
      ]
     },
     "execution_count": 24,
     "metadata": {},
     "output_type": "execute_result"
    },
    {
     "data": {
      "text/plain": [
       "{}"
      ]
     },
     "execution_count": 24,
     "metadata": {},
     "output_type": "execute_result"
    },
    {
     "data": {
      "text/plain": [
       "{}"
      ]
     },
     "execution_count": 24,
     "metadata": {},
     "output_type": "execute_result"
    },
    {
     "data": {
      "text/plain": [
       "{}"
      ]
     },
     "execution_count": 24,
     "metadata": {},
     "output_type": "execute_result"
    },
    {
     "data": {
      "text/plain": [
       "{}"
      ]
     },
     "execution_count": 24,
     "metadata": {},
     "output_type": "execute_result"
    },
    {
     "data": {
      "text/plain": [
       "{}"
      ]
     },
     "execution_count": 24,
     "metadata": {},
     "output_type": "execute_result"
    },
    {
     "data": {
      "text/plain": [
       "{}"
      ]
     },
     "execution_count": 24,
     "metadata": {},
     "output_type": "execute_result"
    },
    {
     "data": {
      "text/plain": [
       "{}"
      ]
     },
     "execution_count": 24,
     "metadata": {},
     "output_type": "execute_result"
    },
    {
     "data": {
      "text/plain": [
       "{}"
      ]
     },
     "execution_count": 24,
     "metadata": {},
     "output_type": "execute_result"
    },
    {
     "data": {
      "text/plain": [
       "{}"
      ]
     },
     "execution_count": 24,
     "metadata": {},
     "output_type": "execute_result"
    },
    {
     "data": {
      "text/plain": [
       "{}"
      ]
     },
     "execution_count": 24,
     "metadata": {},
     "output_type": "execute_result"
    },
    {
     "data": {
      "text/plain": [
       "{}"
      ]
     },
     "execution_count": 24,
     "metadata": {},
     "output_type": "execute_result"
    },
    {
     "data": {
      "text/plain": [
       "{}"
      ]
     },
     "execution_count": 24,
     "metadata": {},
     "output_type": "execute_result"
    },
    {
     "data": {
      "text/plain": [
       "{}"
      ]
     },
     "execution_count": 24,
     "metadata": {},
     "output_type": "execute_result"
    },
    {
     "data": {
      "text/plain": [
       "{}"
      ]
     },
     "execution_count": 24,
     "metadata": {},
     "output_type": "execute_result"
    },
    {
     "data": {
      "text/plain": [
       "{}"
      ]
     },
     "execution_count": 24,
     "metadata": {},
     "output_type": "execute_result"
    },
    {
     "data": {
      "text/plain": [
       "{}"
      ]
     },
     "execution_count": 24,
     "metadata": {},
     "output_type": "execute_result"
    },
    {
     "data": {
      "text/plain": [
       "{}"
      ]
     },
     "execution_count": 24,
     "metadata": {},
     "output_type": "execute_result"
    },
    {
     "data": {
      "text/plain": [
       "{}"
      ]
     },
     "execution_count": 24,
     "metadata": {},
     "output_type": "execute_result"
    },
    {
     "data": {
      "text/plain": [
       "{}"
      ]
     },
     "execution_count": 24,
     "metadata": {},
     "output_type": "execute_result"
    },
    {
     "data": {
      "text/plain": [
       "{}"
      ]
     },
     "execution_count": 24,
     "metadata": {},
     "output_type": "execute_result"
    },
    {
     "data": {
      "text/plain": [
       "{}"
      ]
     },
     "execution_count": 24,
     "metadata": {},
     "output_type": "execute_result"
    },
    {
     "data": {
      "text/plain": [
       "{}"
      ]
     },
     "execution_count": 24,
     "metadata": {},
     "output_type": "execute_result"
    },
    {
     "data": {
      "text/plain": [
       "{}"
      ]
     },
     "execution_count": 24,
     "metadata": {},
     "output_type": "execute_result"
    },
    {
     "data": {
      "text/plain": [
       "{}"
      ]
     },
     "execution_count": 24,
     "metadata": {},
     "output_type": "execute_result"
    },
    {
     "data": {
      "text/plain": [
       "{}"
      ]
     },
     "execution_count": 24,
     "metadata": {},
     "output_type": "execute_result"
    },
    {
     "data": {
      "text/plain": [
       "{}"
      ]
     },
     "execution_count": 24,
     "metadata": {},
     "output_type": "execute_result"
    },
    {
     "data": {
      "text/plain": [
       "{}"
      ]
     },
     "execution_count": 24,
     "metadata": {},
     "output_type": "execute_result"
    },
    {
     "data": {
      "text/plain": [
       "{}"
      ]
     },
     "execution_count": 24,
     "metadata": {},
     "output_type": "execute_result"
    },
    {
     "data": {
      "text/plain": [
       "{}"
      ]
     },
     "execution_count": 24,
     "metadata": {},
     "output_type": "execute_result"
    },
    {
     "data": {
      "text/plain": [
       "{}"
      ]
     },
     "execution_count": 24,
     "metadata": {},
     "output_type": "execute_result"
    },
    {
     "data": {
      "text/plain": [
       "{}"
      ]
     },
     "execution_count": 24,
     "metadata": {},
     "output_type": "execute_result"
    },
    {
     "data": {
      "text/plain": [
       "{}"
      ]
     },
     "execution_count": 24,
     "metadata": {},
     "output_type": "execute_result"
    },
    {
     "data": {
      "text/plain": [
       "{}"
      ]
     },
     "execution_count": 24,
     "metadata": {},
     "output_type": "execute_result"
    },
    {
     "data": {
      "text/plain": [
       "{}"
      ]
     },
     "execution_count": 24,
     "metadata": {},
     "output_type": "execute_result"
    },
    {
     "data": {
      "text/plain": [
       "{}"
      ]
     },
     "execution_count": 24,
     "metadata": {},
     "output_type": "execute_result"
    },
    {
     "data": {
      "text/plain": [
       "{}"
      ]
     },
     "execution_count": 24,
     "metadata": {},
     "output_type": "execute_result"
    },
    {
     "data": {
      "text/plain": [
       "{}"
      ]
     },
     "execution_count": 24,
     "metadata": {},
     "output_type": "execute_result"
    },
    {
     "data": {
      "text/plain": [
       "{}"
      ]
     },
     "execution_count": 24,
     "metadata": {},
     "output_type": "execute_result"
    },
    {
     "data": {
      "text/plain": [
       "{}"
      ]
     },
     "execution_count": 24,
     "metadata": {},
     "output_type": "execute_result"
    },
    {
     "data": {
      "text/plain": [
       "{}"
      ]
     },
     "execution_count": 24,
     "metadata": {},
     "output_type": "execute_result"
    },
    {
     "data": {
      "text/plain": [
       "{}"
      ]
     },
     "execution_count": 24,
     "metadata": {},
     "output_type": "execute_result"
    },
    {
     "data": {
      "text/plain": [
       "{}"
      ]
     },
     "execution_count": 24,
     "metadata": {},
     "output_type": "execute_result"
    },
    {
     "data": {
      "text/plain": [
       "{}"
      ]
     },
     "execution_count": 24,
     "metadata": {},
     "output_type": "execute_result"
    },
    {
     "data": {
      "text/plain": [
       "{}"
      ]
     },
     "execution_count": 24,
     "metadata": {},
     "output_type": "execute_result"
    },
    {
     "data": {
      "text/plain": [
       "{}"
      ]
     },
     "execution_count": 24,
     "metadata": {},
     "output_type": "execute_result"
    },
    {
     "data": {
      "text/plain": [
       "{}"
      ]
     },
     "execution_count": 24,
     "metadata": {},
     "output_type": "execute_result"
    },
    {
     "data": {
      "text/plain": [
       "{}"
      ]
     },
     "execution_count": 24,
     "metadata": {},
     "output_type": "execute_result"
    },
    {
     "data": {
      "text/plain": [
       "{}"
      ]
     },
     "execution_count": 24,
     "metadata": {},
     "output_type": "execute_result"
    },
    {
     "data": {
      "text/plain": [
       "{}"
      ]
     },
     "execution_count": 24,
     "metadata": {},
     "output_type": "execute_result"
    },
    {
     "data": {
      "text/plain": [
       "{}"
      ]
     },
     "execution_count": 24,
     "metadata": {},
     "output_type": "execute_result"
    },
    {
     "data": {
      "text/plain": [
       "{}"
      ]
     },
     "execution_count": 24,
     "metadata": {},
     "output_type": "execute_result"
    },
    {
     "data": {
      "text/plain": [
       "{}"
      ]
     },
     "execution_count": 24,
     "metadata": {},
     "output_type": "execute_result"
    },
    {
     "data": {
      "text/plain": [
       "{}"
      ]
     },
     "execution_count": 24,
     "metadata": {},
     "output_type": "execute_result"
    },
    {
     "data": {
      "text/plain": [
       "{}"
      ]
     },
     "execution_count": 24,
     "metadata": {},
     "output_type": "execute_result"
    },
    {
     "data": {
      "text/plain": [
       "{}"
      ]
     },
     "execution_count": 24,
     "metadata": {},
     "output_type": "execute_result"
    },
    {
     "data": {
      "text/plain": [
       "{}"
      ]
     },
     "execution_count": 24,
     "metadata": {},
     "output_type": "execute_result"
    },
    {
     "data": {
      "text/plain": [
       "{}"
      ]
     },
     "execution_count": 24,
     "metadata": {},
     "output_type": "execute_result"
    },
    {
     "data": {
      "text/plain": [
       "{}"
      ]
     },
     "execution_count": 24,
     "metadata": {},
     "output_type": "execute_result"
    },
    {
     "data": {
      "text/plain": [
       "{}"
      ]
     },
     "execution_count": 24,
     "metadata": {},
     "output_type": "execute_result"
    },
    {
     "data": {
      "text/plain": [
       "{}"
      ]
     },
     "execution_count": 24,
     "metadata": {},
     "output_type": "execute_result"
    },
    {
     "data": {
      "text/plain": [
       "{}"
      ]
     },
     "execution_count": 24,
     "metadata": {},
     "output_type": "execute_result"
    },
    {
     "data": {
      "text/plain": [
       "{}"
      ]
     },
     "execution_count": 24,
     "metadata": {},
     "output_type": "execute_result"
    },
    {
     "data": {
      "text/plain": [
       "{}"
      ]
     },
     "execution_count": 24,
     "metadata": {},
     "output_type": "execute_result"
    },
    {
     "data": {
      "text/plain": [
       "{}"
      ]
     },
     "execution_count": 24,
     "metadata": {},
     "output_type": "execute_result"
    },
    {
     "data": {
      "text/plain": [
       "{}"
      ]
     },
     "execution_count": 24,
     "metadata": {},
     "output_type": "execute_result"
    },
    {
     "data": {
      "text/plain": [
       "{}"
      ]
     },
     "execution_count": 24,
     "metadata": {},
     "output_type": "execute_result"
    },
    {
     "data": {
      "text/plain": [
       "{}"
      ]
     },
     "execution_count": 24,
     "metadata": {},
     "output_type": "execute_result"
    },
    {
     "data": {
      "text/plain": [
       "{}"
      ]
     },
     "execution_count": 24,
     "metadata": {},
     "output_type": "execute_result"
    },
    {
     "data": {
      "text/plain": [
       "{}"
      ]
     },
     "execution_count": 24,
     "metadata": {},
     "output_type": "execute_result"
    },
    {
     "data": {
      "text/plain": [
       "{}"
      ]
     },
     "execution_count": 24,
     "metadata": {},
     "output_type": "execute_result"
    },
    {
     "data": {
      "text/plain": [
       "{}"
      ]
     },
     "execution_count": 24,
     "metadata": {},
     "output_type": "execute_result"
    },
    {
     "data": {
      "text/plain": [
       "{}"
      ]
     },
     "execution_count": 24,
     "metadata": {},
     "output_type": "execute_result"
    },
    {
     "data": {
      "text/plain": [
       "{}"
      ]
     },
     "execution_count": 24,
     "metadata": {},
     "output_type": "execute_result"
    },
    {
     "data": {
      "text/plain": [
       "{}"
      ]
     },
     "execution_count": 24,
     "metadata": {},
     "output_type": "execute_result"
    },
    {
     "data": {
      "text/plain": [
       "{}"
      ]
     },
     "execution_count": 24,
     "metadata": {},
     "output_type": "execute_result"
    },
    {
     "data": {
      "text/plain": [
       "{}"
      ]
     },
     "execution_count": 24,
     "metadata": {},
     "output_type": "execute_result"
    },
    {
     "data": {
      "text/plain": [
       "{}"
      ]
     },
     "execution_count": 24,
     "metadata": {},
     "output_type": "execute_result"
    },
    {
     "data": {
      "text/plain": [
       "{}"
      ]
     },
     "execution_count": 24,
     "metadata": {},
     "output_type": "execute_result"
    },
    {
     "data": {
      "text/plain": [
       "{}"
      ]
     },
     "execution_count": 24,
     "metadata": {},
     "output_type": "execute_result"
    },
    {
     "data": {
      "text/plain": [
       "{}"
      ]
     },
     "execution_count": 24,
     "metadata": {},
     "output_type": "execute_result"
    },
    {
     "data": {
      "text/plain": [
       "{}"
      ]
     },
     "execution_count": 24,
     "metadata": {},
     "output_type": "execute_result"
    },
    {
     "data": {
      "text/plain": [
       "{}"
      ]
     },
     "execution_count": 24,
     "metadata": {},
     "output_type": "execute_result"
    },
    {
     "data": {
      "text/plain": [
       "{}"
      ]
     },
     "execution_count": 24,
     "metadata": {},
     "output_type": "execute_result"
    },
    {
     "data": {
      "text/plain": [
       "{}"
      ]
     },
     "execution_count": 24,
     "metadata": {},
     "output_type": "execute_result"
    },
    {
     "data": {
      "text/plain": [
       "{}"
      ]
     },
     "execution_count": 24,
     "metadata": {},
     "output_type": "execute_result"
    },
    {
     "data": {
      "text/plain": [
       "{}"
      ]
     },
     "execution_count": 24,
     "metadata": {},
     "output_type": "execute_result"
    },
    {
     "data": {
      "text/plain": [
       "{}"
      ]
     },
     "execution_count": 24,
     "metadata": {},
     "output_type": "execute_result"
    },
    {
     "data": {
      "text/plain": [
       "{}"
      ]
     },
     "execution_count": 24,
     "metadata": {},
     "output_type": "execute_result"
    },
    {
     "data": {
      "text/plain": [
       "{}"
      ]
     },
     "execution_count": 24,
     "metadata": {},
     "output_type": "execute_result"
    },
    {
     "data": {
      "text/plain": [
       "{}"
      ]
     },
     "execution_count": 24,
     "metadata": {},
     "output_type": "execute_result"
    },
    {
     "data": {
      "text/plain": [
       "{}"
      ]
     },
     "execution_count": 24,
     "metadata": {},
     "output_type": "execute_result"
    },
    {
     "data": {
      "text/plain": [
       "{}"
      ]
     },
     "execution_count": 24,
     "metadata": {},
     "output_type": "execute_result"
    },
    {
     "data": {
      "text/plain": [
       "{}"
      ]
     },
     "execution_count": 24,
     "metadata": {},
     "output_type": "execute_result"
    },
    {
     "data": {
      "text/plain": [
       "{}"
      ]
     },
     "execution_count": 24,
     "metadata": {},
     "output_type": "execute_result"
    },
    {
     "data": {
      "text/plain": [
       "{}"
      ]
     },
     "execution_count": 24,
     "metadata": {},
     "output_type": "execute_result"
    },
    {
     "data": {
      "text/plain": [
       "{}"
      ]
     },
     "execution_count": 24,
     "metadata": {},
     "output_type": "execute_result"
    },
    {
     "data": {
      "text/plain": [
       "{}"
      ]
     },
     "execution_count": 24,
     "metadata": {},
     "output_type": "execute_result"
    },
    {
     "data": {
      "text/plain": [
       "{}"
      ]
     },
     "execution_count": 24,
     "metadata": {},
     "output_type": "execute_result"
    },
    {
     "data": {
      "text/plain": [
       "{}"
      ]
     },
     "execution_count": 24,
     "metadata": {},
     "output_type": "execute_result"
    },
    {
     "data": {
      "text/plain": [
       "{}"
      ]
     },
     "execution_count": 24,
     "metadata": {},
     "output_type": "execute_result"
    },
    {
     "data": {
      "text/plain": [
       "{}"
      ]
     },
     "execution_count": 24,
     "metadata": {},
     "output_type": "execute_result"
    },
    {
     "data": {
      "text/plain": [
       "{}"
      ]
     },
     "execution_count": 24,
     "metadata": {},
     "output_type": "execute_result"
    },
    {
     "data": {
      "text/plain": [
       "{}"
      ]
     },
     "execution_count": 24,
     "metadata": {},
     "output_type": "execute_result"
    },
    {
     "data": {
      "text/plain": [
       "{}"
      ]
     },
     "execution_count": 24,
     "metadata": {},
     "output_type": "execute_result"
    },
    {
     "data": {
      "text/plain": [
       "{}"
      ]
     },
     "execution_count": 24,
     "metadata": {},
     "output_type": "execute_result"
    },
    {
     "data": {
      "text/plain": [
       "{}"
      ]
     },
     "execution_count": 24,
     "metadata": {},
     "output_type": "execute_result"
    },
    {
     "data": {
      "text/plain": [
       "{}"
      ]
     },
     "execution_count": 24,
     "metadata": {},
     "output_type": "execute_result"
    },
    {
     "data": {
      "text/plain": [
       "{}"
      ]
     },
     "execution_count": 24,
     "metadata": {},
     "output_type": "execute_result"
    },
    {
     "data": {
      "text/plain": [
       "{}"
      ]
     },
     "execution_count": 24,
     "metadata": {},
     "output_type": "execute_result"
    },
    {
     "data": {
      "text/plain": [
       "{}"
      ]
     },
     "execution_count": 24,
     "metadata": {},
     "output_type": "execute_result"
    },
    {
     "data": {
      "text/plain": [
       "{}"
      ]
     },
     "execution_count": 24,
     "metadata": {},
     "output_type": "execute_result"
    },
    {
     "data": {
      "text/plain": [
       "{}"
      ]
     },
     "execution_count": 24,
     "metadata": {},
     "output_type": "execute_result"
    },
    {
     "data": {
      "text/plain": [
       "{}"
      ]
     },
     "execution_count": 24,
     "metadata": {},
     "output_type": "execute_result"
    },
    {
     "data": {
      "text/plain": [
       "{}"
      ]
     },
     "execution_count": 24,
     "metadata": {},
     "output_type": "execute_result"
    },
    {
     "data": {
      "text/plain": [
       "{}"
      ]
     },
     "execution_count": 24,
     "metadata": {},
     "output_type": "execute_result"
    },
    {
     "data": {
      "text/plain": [
       "{}"
      ]
     },
     "execution_count": 24,
     "metadata": {},
     "output_type": "execute_result"
    },
    {
     "data": {
      "text/plain": [
       "{}"
      ]
     },
     "execution_count": 24,
     "metadata": {},
     "output_type": "execute_result"
    },
    {
     "data": {
      "text/plain": [
       "{}"
      ]
     },
     "execution_count": 24,
     "metadata": {},
     "output_type": "execute_result"
    },
    {
     "data": {
      "text/plain": [
       "{}"
      ]
     },
     "execution_count": 24,
     "metadata": {},
     "output_type": "execute_result"
    },
    {
     "data": {
      "text/plain": [
       "{}"
      ]
     },
     "execution_count": 24,
     "metadata": {},
     "output_type": "execute_result"
    },
    {
     "data": {
      "text/plain": [
       "{}"
      ]
     },
     "execution_count": 24,
     "metadata": {},
     "output_type": "execute_result"
    },
    {
     "data": {
      "text/plain": [
       "{}"
      ]
     },
     "execution_count": 24,
     "metadata": {},
     "output_type": "execute_result"
    },
    {
     "data": {
      "text/plain": [
       "{}"
      ]
     },
     "execution_count": 24,
     "metadata": {},
     "output_type": "execute_result"
    },
    {
     "data": {
      "text/plain": [
       "{}"
      ]
     },
     "execution_count": 24,
     "metadata": {},
     "output_type": "execute_result"
    },
    {
     "data": {
      "text/plain": [
       "{}"
      ]
     },
     "execution_count": 24,
     "metadata": {},
     "output_type": "execute_result"
    },
    {
     "data": {
      "text/plain": [
       "{}"
      ]
     },
     "execution_count": 24,
     "metadata": {},
     "output_type": "execute_result"
    },
    {
     "data": {
      "text/plain": [
       "{}"
      ]
     },
     "execution_count": 24,
     "metadata": {},
     "output_type": "execute_result"
    },
    {
     "data": {
      "text/plain": [
       "{}"
      ]
     },
     "execution_count": 24,
     "metadata": {},
     "output_type": "execute_result"
    },
    {
     "data": {
      "text/plain": [
       "{}"
      ]
     },
     "execution_count": 24,
     "metadata": {},
     "output_type": "execute_result"
    },
    {
     "data": {
      "text/plain": [
       "{}"
      ]
     },
     "execution_count": 24,
     "metadata": {},
     "output_type": "execute_result"
    },
    {
     "data": {
      "text/plain": [
       "{}"
      ]
     },
     "execution_count": 24,
     "metadata": {},
     "output_type": "execute_result"
    },
    {
     "data": {
      "text/plain": [
       "{}"
      ]
     },
     "execution_count": 24,
     "metadata": {},
     "output_type": "execute_result"
    },
    {
     "data": {
      "text/plain": [
       "{}"
      ]
     },
     "execution_count": 24,
     "metadata": {},
     "output_type": "execute_result"
    },
    {
     "data": {
      "text/plain": [
       "{}"
      ]
     },
     "execution_count": 24,
     "metadata": {},
     "output_type": "execute_result"
    },
    {
     "data": {
      "text/plain": [
       "{}"
      ]
     },
     "execution_count": 24,
     "metadata": {},
     "output_type": "execute_result"
    },
    {
     "data": {
      "text/plain": [
       "{}"
      ]
     },
     "execution_count": 24,
     "metadata": {},
     "output_type": "execute_result"
    },
    {
     "data": {
      "text/plain": [
       "{}"
      ]
     },
     "execution_count": 24,
     "metadata": {},
     "output_type": "execute_result"
    },
    {
     "data": {
      "text/plain": [
       "{}"
      ]
     },
     "execution_count": 24,
     "metadata": {},
     "output_type": "execute_result"
    },
    {
     "data": {
      "text/plain": [
       "{}"
      ]
     },
     "execution_count": 24,
     "metadata": {},
     "output_type": "execute_result"
    },
    {
     "data": {
      "text/plain": [
       "{}"
      ]
     },
     "execution_count": 24,
     "metadata": {},
     "output_type": "execute_result"
    },
    {
     "data": {
      "text/plain": [
       "{}"
      ]
     },
     "execution_count": 24,
     "metadata": {},
     "output_type": "execute_result"
    },
    {
     "data": {
      "text/plain": [
       "{}"
      ]
     },
     "execution_count": 24,
     "metadata": {},
     "output_type": "execute_result"
    },
    {
     "data": {
      "text/plain": [
       "{}"
      ]
     },
     "execution_count": 24,
     "metadata": {},
     "output_type": "execute_result"
    },
    {
     "data": {
      "text/plain": [
       "{}"
      ]
     },
     "execution_count": 24,
     "metadata": {},
     "output_type": "execute_result"
    },
    {
     "data": {
      "text/plain": [
       "{}"
      ]
     },
     "execution_count": 24,
     "metadata": {},
     "output_type": "execute_result"
    },
    {
     "data": {
      "text/plain": [
       "{}"
      ]
     },
     "execution_count": 24,
     "metadata": {},
     "output_type": "execute_result"
    },
    {
     "data": {
      "text/plain": [
       "{}"
      ]
     },
     "execution_count": 24,
     "metadata": {},
     "output_type": "execute_result"
    },
    {
     "data": {
      "text/plain": [
       "{}"
      ]
     },
     "execution_count": 24,
     "metadata": {},
     "output_type": "execute_result"
    },
    {
     "data": {
      "text/plain": [
       "{}"
      ]
     },
     "execution_count": 24,
     "metadata": {},
     "output_type": "execute_result"
    },
    {
     "data": {
      "text/plain": [
       "{}"
      ]
     },
     "execution_count": 24,
     "metadata": {},
     "output_type": "execute_result"
    },
    {
     "data": {
      "text/plain": [
       "{}"
      ]
     },
     "execution_count": 24,
     "metadata": {},
     "output_type": "execute_result"
    },
    {
     "data": {
      "text/plain": [
       "{}"
      ]
     },
     "execution_count": 24,
     "metadata": {},
     "output_type": "execute_result"
    },
    {
     "data": {
      "text/plain": [
       "{}"
      ]
     },
     "execution_count": 24,
     "metadata": {},
     "output_type": "execute_result"
    },
    {
     "data": {
      "text/plain": [
       "{}"
      ]
     },
     "execution_count": 24,
     "metadata": {},
     "output_type": "execute_result"
    },
    {
     "data": {
      "text/plain": [
       "{}"
      ]
     },
     "execution_count": 24,
     "metadata": {},
     "output_type": "execute_result"
    },
    {
     "data": {
      "text/plain": [
       "{}"
      ]
     },
     "execution_count": 24,
     "metadata": {},
     "output_type": "execute_result"
    },
    {
     "data": {
      "text/plain": [
       "{}"
      ]
     },
     "execution_count": 24,
     "metadata": {},
     "output_type": "execute_result"
    },
    {
     "data": {
      "text/plain": [
       "{}"
      ]
     },
     "execution_count": 24,
     "metadata": {},
     "output_type": "execute_result"
    },
    {
     "data": {
      "text/plain": [
       "{}"
      ]
     },
     "execution_count": 24,
     "metadata": {},
     "output_type": "execute_result"
    },
    {
     "data": {
      "text/plain": [
       "{}"
      ]
     },
     "execution_count": 24,
     "metadata": {},
     "output_type": "execute_result"
    },
    {
     "data": {
      "text/plain": [
       "{}"
      ]
     },
     "execution_count": 24,
     "metadata": {},
     "output_type": "execute_result"
    },
    {
     "data": {
      "text/plain": [
       "{}"
      ]
     },
     "execution_count": 24,
     "metadata": {},
     "output_type": "execute_result"
    },
    {
     "data": {
      "text/plain": [
       "{}"
      ]
     },
     "execution_count": 24,
     "metadata": {},
     "output_type": "execute_result"
    },
    {
     "data": {
      "text/plain": [
       "{}"
      ]
     },
     "execution_count": 24,
     "metadata": {},
     "output_type": "execute_result"
    },
    {
     "data": {
      "text/plain": [
       "{}"
      ]
     },
     "execution_count": 24,
     "metadata": {},
     "output_type": "execute_result"
    },
    {
     "data": {
      "text/plain": [
       "{}"
      ]
     },
     "execution_count": 24,
     "metadata": {},
     "output_type": "execute_result"
    },
    {
     "data": {
      "text/plain": [
       "{}"
      ]
     },
     "execution_count": 24,
     "metadata": {},
     "output_type": "execute_result"
    },
    {
     "data": {
      "text/plain": [
       "{}"
      ]
     },
     "execution_count": 24,
     "metadata": {},
     "output_type": "execute_result"
    },
    {
     "data": {
      "text/plain": [
       "{}"
      ]
     },
     "execution_count": 24,
     "metadata": {},
     "output_type": "execute_result"
    },
    {
     "data": {
      "text/plain": [
       "{}"
      ]
     },
     "execution_count": 24,
     "metadata": {},
     "output_type": "execute_result"
    },
    {
     "data": {
      "text/plain": [
       "{}"
      ]
     },
     "execution_count": 24,
     "metadata": {},
     "output_type": "execute_result"
    },
    {
     "data": {
      "text/plain": [
       "{}"
      ]
     },
     "execution_count": 24,
     "metadata": {},
     "output_type": "execute_result"
    },
    {
     "data": {
      "text/plain": [
       "{}"
      ]
     },
     "execution_count": 24,
     "metadata": {},
     "output_type": "execute_result"
    },
    {
     "data": {
      "text/plain": [
       "{}"
      ]
     },
     "execution_count": 24,
     "metadata": {},
     "output_type": "execute_result"
    },
    {
     "data": {
      "text/plain": [
       "{}"
      ]
     },
     "execution_count": 24,
     "metadata": {},
     "output_type": "execute_result"
    },
    {
     "data": {
      "text/plain": [
       "{}"
      ]
     },
     "execution_count": 24,
     "metadata": {},
     "output_type": "execute_result"
    },
    {
     "data": {
      "text/plain": [
       "{}"
      ]
     },
     "execution_count": 24,
     "metadata": {},
     "output_type": "execute_result"
    },
    {
     "data": {
      "text/plain": [
       "{}"
      ]
     },
     "execution_count": 24,
     "metadata": {},
     "output_type": "execute_result"
    },
    {
     "data": {
      "text/plain": [
       "{}"
      ]
     },
     "execution_count": 24,
     "metadata": {},
     "output_type": "execute_result"
    },
    {
     "data": {
      "text/plain": [
       "{}"
      ]
     },
     "execution_count": 24,
     "metadata": {},
     "output_type": "execute_result"
    },
    {
     "data": {
      "text/plain": [
       "{}"
      ]
     },
     "execution_count": 24,
     "metadata": {},
     "output_type": "execute_result"
    },
    {
     "data": {
      "text/plain": [
       "{}"
      ]
     },
     "execution_count": 24,
     "metadata": {},
     "output_type": "execute_result"
    },
    {
     "data": {
      "text/plain": [
       "{}"
      ]
     },
     "execution_count": 24,
     "metadata": {},
     "output_type": "execute_result"
    },
    {
     "data": {
      "text/plain": [
       "{}"
      ]
     },
     "execution_count": 24,
     "metadata": {},
     "output_type": "execute_result"
    },
    {
     "data": {
      "text/plain": [
       "{}"
      ]
     },
     "execution_count": 24,
     "metadata": {},
     "output_type": "execute_result"
    },
    {
     "data": {
      "text/plain": [
       "{}"
      ]
     },
     "execution_count": 24,
     "metadata": {},
     "output_type": "execute_result"
    },
    {
     "data": {
      "text/plain": [
       "{}"
      ]
     },
     "execution_count": 24,
     "metadata": {},
     "output_type": "execute_result"
    },
    {
     "data": {
      "text/plain": [
       "{}"
      ]
     },
     "execution_count": 24,
     "metadata": {},
     "output_type": "execute_result"
    },
    {
     "data": {
      "text/plain": [
       "{}"
      ]
     },
     "execution_count": 24,
     "metadata": {},
     "output_type": "execute_result"
    },
    {
     "data": {
      "text/plain": [
       "{}"
      ]
     },
     "execution_count": 24,
     "metadata": {},
     "output_type": "execute_result"
    },
    {
     "data": {
      "text/plain": [
       "{}"
      ]
     },
     "execution_count": 24,
     "metadata": {},
     "output_type": "execute_result"
    },
    {
     "data": {
      "text/plain": [
       "{}"
      ]
     },
     "execution_count": 24,
     "metadata": {},
     "output_type": "execute_result"
    },
    {
     "data": {
      "text/plain": [
       "{}"
      ]
     },
     "execution_count": 24,
     "metadata": {},
     "output_type": "execute_result"
    },
    {
     "data": {
      "text/plain": [
       "{}"
      ]
     },
     "execution_count": 24,
     "metadata": {},
     "output_type": "execute_result"
    },
    {
     "data": {
      "text/plain": [
       "{}"
      ]
     },
     "execution_count": 24,
     "metadata": {},
     "output_type": "execute_result"
    },
    {
     "data": {
      "text/plain": [
       "{}"
      ]
     },
     "execution_count": 24,
     "metadata": {},
     "output_type": "execute_result"
    },
    {
     "data": {
      "text/plain": [
       "{}"
      ]
     },
     "execution_count": 24,
     "metadata": {},
     "output_type": "execute_result"
    },
    {
     "data": {
      "text/plain": [
       "{}"
      ]
     },
     "execution_count": 24,
     "metadata": {},
     "output_type": "execute_result"
    },
    {
     "data": {
      "text/plain": [
       "{}"
      ]
     },
     "execution_count": 24,
     "metadata": {},
     "output_type": "execute_result"
    },
    {
     "data": {
      "text/plain": [
       "{}"
      ]
     },
     "execution_count": 24,
     "metadata": {},
     "output_type": "execute_result"
    },
    {
     "data": {
      "text/plain": [
       "{}"
      ]
     },
     "execution_count": 24,
     "metadata": {},
     "output_type": "execute_result"
    },
    {
     "data": {
      "text/plain": [
       "{}"
      ]
     },
     "execution_count": 24,
     "metadata": {},
     "output_type": "execute_result"
    },
    {
     "data": {
      "text/plain": [
       "{}"
      ]
     },
     "execution_count": 24,
     "metadata": {},
     "output_type": "execute_result"
    },
    {
     "data": {
      "text/plain": [
       "{}"
      ]
     },
     "execution_count": 24,
     "metadata": {},
     "output_type": "execute_result"
    },
    {
     "data": {
      "text/plain": [
       "{}"
      ]
     },
     "execution_count": 24,
     "metadata": {},
     "output_type": "execute_result"
    },
    {
     "data": {
      "text/plain": [
       "{}"
      ]
     },
     "execution_count": 24,
     "metadata": {},
     "output_type": "execute_result"
    },
    {
     "data": {
      "text/plain": [
       "{}"
      ]
     },
     "execution_count": 24,
     "metadata": {},
     "output_type": "execute_result"
    },
    {
     "data": {
      "text/plain": [
       "{}"
      ]
     },
     "execution_count": 24,
     "metadata": {},
     "output_type": "execute_result"
    },
    {
     "data": {
      "text/plain": [
       "{}"
      ]
     },
     "execution_count": 24,
     "metadata": {},
     "output_type": "execute_result"
    },
    {
     "data": {
      "text/plain": [
       "{}"
      ]
     },
     "execution_count": 24,
     "metadata": {},
     "output_type": "execute_result"
    },
    {
     "data": {
      "text/plain": [
       "{}"
      ]
     },
     "execution_count": 24,
     "metadata": {},
     "output_type": "execute_result"
    },
    {
     "data": {
      "text/plain": [
       "{}"
      ]
     },
     "execution_count": 24,
     "metadata": {},
     "output_type": "execute_result"
    },
    {
     "data": {
      "text/plain": [
       "{}"
      ]
     },
     "execution_count": 24,
     "metadata": {},
     "output_type": "execute_result"
    },
    {
     "data": {
      "text/plain": [
       "{}"
      ]
     },
     "execution_count": 24,
     "metadata": {},
     "output_type": "execute_result"
    },
    {
     "data": {
      "text/plain": [
       "{}"
      ]
     },
     "execution_count": 24,
     "metadata": {},
     "output_type": "execute_result"
    },
    {
     "data": {
      "text/plain": [
       "{}"
      ]
     },
     "execution_count": 24,
     "metadata": {},
     "output_type": "execute_result"
    },
    {
     "data": {
      "text/plain": [
       "{}"
      ]
     },
     "execution_count": 24,
     "metadata": {},
     "output_type": "execute_result"
    },
    {
     "data": {
      "text/plain": [
       "{}"
      ]
     },
     "execution_count": 24,
     "metadata": {},
     "output_type": "execute_result"
    },
    {
     "data": {
      "text/plain": [
       "{}"
      ]
     },
     "execution_count": 24,
     "metadata": {},
     "output_type": "execute_result"
    },
    {
     "data": {
      "text/plain": [
       "{}"
      ]
     },
     "execution_count": 24,
     "metadata": {},
     "output_type": "execute_result"
    },
    {
     "data": {
      "text/plain": [
       "{}"
      ]
     },
     "execution_count": 24,
     "metadata": {},
     "output_type": "execute_result"
    },
    {
     "data": {
      "text/plain": [
       "{}"
      ]
     },
     "execution_count": 24,
     "metadata": {},
     "output_type": "execute_result"
    },
    {
     "data": {
      "text/plain": [
       "{}"
      ]
     },
     "execution_count": 24,
     "metadata": {},
     "output_type": "execute_result"
    },
    {
     "data": {
      "text/plain": [
       "{}"
      ]
     },
     "execution_count": 24,
     "metadata": {},
     "output_type": "execute_result"
    },
    {
     "data": {
      "text/plain": [
       "{}"
      ]
     },
     "execution_count": 24,
     "metadata": {},
     "output_type": "execute_result"
    },
    {
     "data": {
      "text/plain": [
       "{}"
      ]
     },
     "execution_count": 24,
     "metadata": {},
     "output_type": "execute_result"
    },
    {
     "data": {
      "text/plain": [
       "{}"
      ]
     },
     "execution_count": 24,
     "metadata": {},
     "output_type": "execute_result"
    },
    {
     "data": {
      "text/plain": [
       "{}"
      ]
     },
     "execution_count": 24,
     "metadata": {},
     "output_type": "execute_result"
    },
    {
     "data": {
      "text/plain": [
       "{}"
      ]
     },
     "execution_count": 24,
     "metadata": {},
     "output_type": "execute_result"
    },
    {
     "data": {
      "text/plain": [
       "{}"
      ]
     },
     "execution_count": 24,
     "metadata": {},
     "output_type": "execute_result"
    },
    {
     "data": {
      "text/plain": [
       "{}"
      ]
     },
     "execution_count": 24,
     "metadata": {},
     "output_type": "execute_result"
    },
    {
     "data": {
      "text/plain": [
       "{}"
      ]
     },
     "execution_count": 24,
     "metadata": {},
     "output_type": "execute_result"
    },
    {
     "data": {
      "text/plain": [
       "{}"
      ]
     },
     "execution_count": 24,
     "metadata": {},
     "output_type": "execute_result"
    },
    {
     "data": {
      "text/plain": [
       "{}"
      ]
     },
     "execution_count": 24,
     "metadata": {},
     "output_type": "execute_result"
    },
    {
     "data": {
      "text/plain": [
       "{}"
      ]
     },
     "execution_count": 24,
     "metadata": {},
     "output_type": "execute_result"
    },
    {
     "data": {
      "text/plain": [
       "{}"
      ]
     },
     "execution_count": 24,
     "metadata": {},
     "output_type": "execute_result"
    },
    {
     "data": {
      "text/plain": [
       "{}"
      ]
     },
     "execution_count": 24,
     "metadata": {},
     "output_type": "execute_result"
    },
    {
     "data": {
      "text/plain": [
       "{}"
      ]
     },
     "execution_count": 24,
     "metadata": {},
     "output_type": "execute_result"
    },
    {
     "data": {
      "text/plain": [
       "{}"
      ]
     },
     "execution_count": 24,
     "metadata": {},
     "output_type": "execute_result"
    },
    {
     "data": {
      "text/plain": [
       "{}"
      ]
     },
     "execution_count": 24,
     "metadata": {},
     "output_type": "execute_result"
    },
    {
     "data": {
      "text/plain": [
       "{}"
      ]
     },
     "execution_count": 24,
     "metadata": {},
     "output_type": "execute_result"
    },
    {
     "data": {
      "text/plain": [
       "{}"
      ]
     },
     "execution_count": 24,
     "metadata": {},
     "output_type": "execute_result"
    },
    {
     "data": {
      "text/plain": [
       "{}"
      ]
     },
     "execution_count": 24,
     "metadata": {},
     "output_type": "execute_result"
    },
    {
     "data": {
      "text/plain": [
       "{}"
      ]
     },
     "execution_count": 24,
     "metadata": {},
     "output_type": "execute_result"
    },
    {
     "data": {
      "text/plain": [
       "{}"
      ]
     },
     "execution_count": 24,
     "metadata": {},
     "output_type": "execute_result"
    },
    {
     "data": {
      "text/plain": [
       "{}"
      ]
     },
     "execution_count": 24,
     "metadata": {},
     "output_type": "execute_result"
    },
    {
     "data": {
      "text/plain": [
       "{}"
      ]
     },
     "execution_count": 24,
     "metadata": {},
     "output_type": "execute_result"
    },
    {
     "data": {
      "text/plain": [
       "{}"
      ]
     },
     "execution_count": 24,
     "metadata": {},
     "output_type": "execute_result"
    },
    {
     "data": {
      "text/plain": [
       "{}"
      ]
     },
     "execution_count": 24,
     "metadata": {},
     "output_type": "execute_result"
    },
    {
     "data": {
      "text/plain": [
       "{}"
      ]
     },
     "execution_count": 24,
     "metadata": {},
     "output_type": "execute_result"
    },
    {
     "data": {
      "text/plain": [
       "{}"
      ]
     },
     "execution_count": 24,
     "metadata": {},
     "output_type": "execute_result"
    },
    {
     "data": {
      "text/plain": [
       "{}"
      ]
     },
     "execution_count": 24,
     "metadata": {},
     "output_type": "execute_result"
    },
    {
     "data": {
      "text/plain": [
       "{}"
      ]
     },
     "execution_count": 24,
     "metadata": {},
     "output_type": "execute_result"
    },
    {
     "data": {
      "text/plain": [
       "{}"
      ]
     },
     "execution_count": 24,
     "metadata": {},
     "output_type": "execute_result"
    },
    {
     "data": {
      "text/plain": [
       "{}"
      ]
     },
     "execution_count": 24,
     "metadata": {},
     "output_type": "execute_result"
    },
    {
     "data": {
      "text/plain": [
       "{}"
      ]
     },
     "execution_count": 24,
     "metadata": {},
     "output_type": "execute_result"
    },
    {
     "data": {
      "text/plain": [
       "{}"
      ]
     },
     "execution_count": 24,
     "metadata": {},
     "output_type": "execute_result"
    },
    {
     "data": {
      "text/plain": [
       "{}"
      ]
     },
     "execution_count": 24,
     "metadata": {},
     "output_type": "execute_result"
    },
    {
     "data": {
      "text/plain": [
       "{}"
      ]
     },
     "execution_count": 24,
     "metadata": {},
     "output_type": "execute_result"
    },
    {
     "data": {
      "text/plain": [
       "{}"
      ]
     },
     "execution_count": 24,
     "metadata": {},
     "output_type": "execute_result"
    },
    {
     "data": {
      "text/plain": [
       "{}"
      ]
     },
     "execution_count": 24,
     "metadata": {},
     "output_type": "execute_result"
    },
    {
     "data": {
      "text/plain": [
       "{}"
      ]
     },
     "execution_count": 24,
     "metadata": {},
     "output_type": "execute_result"
    },
    {
     "data": {
      "text/plain": [
       "{}"
      ]
     },
     "execution_count": 24,
     "metadata": {},
     "output_type": "execute_result"
    },
    {
     "data": {
      "text/plain": [
       "{}"
      ]
     },
     "execution_count": 24,
     "metadata": {},
     "output_type": "execute_result"
    },
    {
     "data": {
      "text/plain": [
       "{}"
      ]
     },
     "execution_count": 24,
     "metadata": {},
     "output_type": "execute_result"
    },
    {
     "data": {
      "text/plain": [
       "{}"
      ]
     },
     "execution_count": 24,
     "metadata": {},
     "output_type": "execute_result"
    },
    {
     "data": {
      "text/plain": [
       "{}"
      ]
     },
     "execution_count": 24,
     "metadata": {},
     "output_type": "execute_result"
    },
    {
     "data": {
      "text/plain": [
       "{}"
      ]
     },
     "execution_count": 24,
     "metadata": {},
     "output_type": "execute_result"
    },
    {
     "data": {
      "text/plain": [
       "{}"
      ]
     },
     "execution_count": 24,
     "metadata": {},
     "output_type": "execute_result"
    },
    {
     "data": {
      "text/plain": [
       "{}"
      ]
     },
     "execution_count": 24,
     "metadata": {},
     "output_type": "execute_result"
    },
    {
     "data": {
      "text/plain": [
       "{}"
      ]
     },
     "execution_count": 24,
     "metadata": {},
     "output_type": "execute_result"
    },
    {
     "data": {
      "text/plain": [
       "{}"
      ]
     },
     "execution_count": 24,
     "metadata": {},
     "output_type": "execute_result"
    },
    {
     "data": {
      "text/plain": [
       "{}"
      ]
     },
     "execution_count": 24,
     "metadata": {},
     "output_type": "execute_result"
    },
    {
     "data": {
      "text/plain": [
       "{}"
      ]
     },
     "execution_count": 24,
     "metadata": {},
     "output_type": "execute_result"
    },
    {
     "data": {
      "text/plain": [
       "{}"
      ]
     },
     "execution_count": 24,
     "metadata": {},
     "output_type": "execute_result"
    },
    {
     "data": {
      "text/plain": [
       "{}"
      ]
     },
     "execution_count": 24,
     "metadata": {},
     "output_type": "execute_result"
    },
    {
     "data": {
      "text/plain": [
       "{}"
      ]
     },
     "execution_count": 24,
     "metadata": {},
     "output_type": "execute_result"
    },
    {
     "data": {
      "text/plain": [
       "{}"
      ]
     },
     "execution_count": 24,
     "metadata": {},
     "output_type": "execute_result"
    },
    {
     "data": {
      "text/plain": [
       "{}"
      ]
     },
     "execution_count": 24,
     "metadata": {},
     "output_type": "execute_result"
    },
    {
     "data": {
      "text/plain": [
       "{}"
      ]
     },
     "execution_count": 24,
     "metadata": {},
     "output_type": "execute_result"
    },
    {
     "data": {
      "text/plain": [
       "{}"
      ]
     },
     "execution_count": 24,
     "metadata": {},
     "output_type": "execute_result"
    },
    {
     "data": {
      "text/plain": [
       "{}"
      ]
     },
     "execution_count": 24,
     "metadata": {},
     "output_type": "execute_result"
    },
    {
     "data": {
      "text/plain": [
       "{}"
      ]
     },
     "execution_count": 24,
     "metadata": {},
     "output_type": "execute_result"
    },
    {
     "data": {
      "text/plain": [
       "{}"
      ]
     },
     "execution_count": 24,
     "metadata": {},
     "output_type": "execute_result"
    },
    {
     "data": {
      "text/plain": [
       "{}"
      ]
     },
     "execution_count": 24,
     "metadata": {},
     "output_type": "execute_result"
    },
    {
     "data": {
      "text/plain": [
       "{}"
      ]
     },
     "execution_count": 24,
     "metadata": {},
     "output_type": "execute_result"
    },
    {
     "data": {
      "text/plain": [
       "{}"
      ]
     },
     "execution_count": 24,
     "metadata": {},
     "output_type": "execute_result"
    },
    {
     "data": {
      "text/plain": [
       "{}"
      ]
     },
     "execution_count": 24,
     "metadata": {},
     "output_type": "execute_result"
    },
    {
     "data": {
      "text/plain": [
       "{}"
      ]
     },
     "execution_count": 24,
     "metadata": {},
     "output_type": "execute_result"
    },
    {
     "data": {
      "text/plain": [
       "{}"
      ]
     },
     "execution_count": 24,
     "metadata": {},
     "output_type": "execute_result"
    },
    {
     "data": {
      "text/plain": [
       "{}"
      ]
     },
     "execution_count": 24,
     "metadata": {},
     "output_type": "execute_result"
    },
    {
     "data": {
      "text/plain": [
       "{}"
      ]
     },
     "execution_count": 24,
     "metadata": {},
     "output_type": "execute_result"
    },
    {
     "data": {
      "text/plain": [
       "{}"
      ]
     },
     "execution_count": 24,
     "metadata": {},
     "output_type": "execute_result"
    },
    {
     "data": {
      "text/plain": [
       "{}"
      ]
     },
     "execution_count": 24,
     "metadata": {},
     "output_type": "execute_result"
    },
    {
     "data": {
      "text/plain": [
       "{}"
      ]
     },
     "execution_count": 24,
     "metadata": {},
     "output_type": "execute_result"
    },
    {
     "data": {
      "text/plain": [
       "{}"
      ]
     },
     "execution_count": 24,
     "metadata": {},
     "output_type": "execute_result"
    },
    {
     "data": {
      "text/plain": [
       "{}"
      ]
     },
     "execution_count": 24,
     "metadata": {},
     "output_type": "execute_result"
    },
    {
     "data": {
      "text/plain": [
       "{}"
      ]
     },
     "execution_count": 24,
     "metadata": {},
     "output_type": "execute_result"
    },
    {
     "data": {
      "text/plain": [
       "{}"
      ]
     },
     "execution_count": 24,
     "metadata": {},
     "output_type": "execute_result"
    },
    {
     "data": {
      "text/plain": [
       "{}"
      ]
     },
     "execution_count": 24,
     "metadata": {},
     "output_type": "execute_result"
    },
    {
     "data": {
      "text/plain": [
       "{}"
      ]
     },
     "execution_count": 24,
     "metadata": {},
     "output_type": "execute_result"
    },
    {
     "data": {
      "text/plain": [
       "{}"
      ]
     },
     "execution_count": 24,
     "metadata": {},
     "output_type": "execute_result"
    },
    {
     "data": {
      "text/plain": [
       "{}"
      ]
     },
     "execution_count": 24,
     "metadata": {},
     "output_type": "execute_result"
    },
    {
     "data": {
      "text/plain": [
       "{}"
      ]
     },
     "execution_count": 24,
     "metadata": {},
     "output_type": "execute_result"
    },
    {
     "data": {
      "text/plain": [
       "{}"
      ]
     },
     "execution_count": 24,
     "metadata": {},
     "output_type": "execute_result"
    },
    {
     "data": {
      "text/plain": [
       "{}"
      ]
     },
     "execution_count": 24,
     "metadata": {},
     "output_type": "execute_result"
    },
    {
     "data": {
      "text/plain": [
       "{}"
      ]
     },
     "execution_count": 24,
     "metadata": {},
     "output_type": "execute_result"
    },
    {
     "data": {
      "text/plain": [
       "{}"
      ]
     },
     "execution_count": 24,
     "metadata": {},
     "output_type": "execute_result"
    },
    {
     "data": {
      "text/plain": [
       "{}"
      ]
     },
     "execution_count": 24,
     "metadata": {},
     "output_type": "execute_result"
    },
    {
     "data": {
      "text/plain": [
       "{}"
      ]
     },
     "execution_count": 24,
     "metadata": {},
     "output_type": "execute_result"
    },
    {
     "data": {
      "text/plain": [
       "{}"
      ]
     },
     "execution_count": 24,
     "metadata": {},
     "output_type": "execute_result"
    },
    {
     "data": {
      "text/plain": [
       "{}"
      ]
     },
     "execution_count": 24,
     "metadata": {},
     "output_type": "execute_result"
    },
    {
     "data": {
      "text/plain": [
       "{}"
      ]
     },
     "execution_count": 24,
     "metadata": {},
     "output_type": "execute_result"
    },
    {
     "data": {
      "text/plain": [
       "{}"
      ]
     },
     "execution_count": 24,
     "metadata": {},
     "output_type": "execute_result"
    },
    {
     "data": {
      "text/plain": [
       "{}"
      ]
     },
     "execution_count": 24,
     "metadata": {},
     "output_type": "execute_result"
    },
    {
     "data": {
      "text/plain": [
       "{}"
      ]
     },
     "execution_count": 24,
     "metadata": {},
     "output_type": "execute_result"
    },
    {
     "data": {
      "text/plain": [
       "{}"
      ]
     },
     "execution_count": 24,
     "metadata": {},
     "output_type": "execute_result"
    },
    {
     "data": {
      "text/plain": [
       "{}"
      ]
     },
     "execution_count": 24,
     "metadata": {},
     "output_type": "execute_result"
    },
    {
     "data": {
      "text/plain": [
       "{}"
      ]
     },
     "execution_count": 24,
     "metadata": {},
     "output_type": "execute_result"
    },
    {
     "data": {
      "text/plain": [
       "{}"
      ]
     },
     "execution_count": 24,
     "metadata": {},
     "output_type": "execute_result"
    },
    {
     "data": {
      "text/plain": [
       "{}"
      ]
     },
     "execution_count": 24,
     "metadata": {},
     "output_type": "execute_result"
    },
    {
     "data": {
      "text/plain": [
       "{}"
      ]
     },
     "execution_count": 24,
     "metadata": {},
     "output_type": "execute_result"
    },
    {
     "data": {
      "text/plain": [
       "{}"
      ]
     },
     "execution_count": 24,
     "metadata": {},
     "output_type": "execute_result"
    },
    {
     "data": {
      "text/plain": [
       "{}"
      ]
     },
     "execution_count": 24,
     "metadata": {},
     "output_type": "execute_result"
    },
    {
     "data": {
      "text/plain": [
       "{}"
      ]
     },
     "execution_count": 24,
     "metadata": {},
     "output_type": "execute_result"
    },
    {
     "data": {
      "text/plain": [
       "{}"
      ]
     },
     "execution_count": 24,
     "metadata": {},
     "output_type": "execute_result"
    },
    {
     "data": {
      "text/plain": [
       "{}"
      ]
     },
     "execution_count": 24,
     "metadata": {},
     "output_type": "execute_result"
    },
    {
     "data": {
      "text/plain": [
       "{}"
      ]
     },
     "execution_count": 24,
     "metadata": {},
     "output_type": "execute_result"
    },
    {
     "data": {
      "text/plain": [
       "{}"
      ]
     },
     "execution_count": 24,
     "metadata": {},
     "output_type": "execute_result"
    },
    {
     "data": {
      "text/plain": [
       "{}"
      ]
     },
     "execution_count": 24,
     "metadata": {},
     "output_type": "execute_result"
    },
    {
     "data": {
      "text/plain": [
       "{}"
      ]
     },
     "execution_count": 24,
     "metadata": {},
     "output_type": "execute_result"
    },
    {
     "data": {
      "text/plain": [
       "{}"
      ]
     },
     "execution_count": 24,
     "metadata": {},
     "output_type": "execute_result"
    },
    {
     "data": {
      "text/plain": [
       "{}"
      ]
     },
     "execution_count": 24,
     "metadata": {},
     "output_type": "execute_result"
    },
    {
     "data": {
      "text/plain": [
       "{}"
      ]
     },
     "execution_count": 24,
     "metadata": {},
     "output_type": "execute_result"
    },
    {
     "data": {
      "text/plain": [
       "{}"
      ]
     },
     "execution_count": 24,
     "metadata": {},
     "output_type": "execute_result"
    },
    {
     "data": {
      "text/plain": [
       "{}"
      ]
     },
     "execution_count": 24,
     "metadata": {},
     "output_type": "execute_result"
    },
    {
     "data": {
      "text/plain": [
       "{}"
      ]
     },
     "execution_count": 24,
     "metadata": {},
     "output_type": "execute_result"
    },
    {
     "data": {
      "text/plain": [
       "{}"
      ]
     },
     "execution_count": 24,
     "metadata": {},
     "output_type": "execute_result"
    },
    {
     "data": {
      "text/plain": [
       "{}"
      ]
     },
     "execution_count": 24,
     "metadata": {},
     "output_type": "execute_result"
    },
    {
     "data": {
      "text/plain": [
       "{}"
      ]
     },
     "execution_count": 24,
     "metadata": {},
     "output_type": "execute_result"
    },
    {
     "data": {
      "text/plain": [
       "{}"
      ]
     },
     "execution_count": 24,
     "metadata": {},
     "output_type": "execute_result"
    },
    {
     "data": {
      "text/plain": [
       "{}"
      ]
     },
     "execution_count": 24,
     "metadata": {},
     "output_type": "execute_result"
    },
    {
     "data": {
      "text/plain": [
       "{}"
      ]
     },
     "execution_count": 24,
     "metadata": {},
     "output_type": "execute_result"
    },
    {
     "data": {
      "text/plain": [
       "{}"
      ]
     },
     "execution_count": 24,
     "metadata": {},
     "output_type": "execute_result"
    },
    {
     "data": {
      "text/plain": [
       "{}"
      ]
     },
     "execution_count": 24,
     "metadata": {},
     "output_type": "execute_result"
    },
    {
     "data": {
      "text/plain": [
       "{}"
      ]
     },
     "execution_count": 24,
     "metadata": {},
     "output_type": "execute_result"
    },
    {
     "data": {
      "text/plain": [
       "{}"
      ]
     },
     "execution_count": 24,
     "metadata": {},
     "output_type": "execute_result"
    },
    {
     "data": {
      "text/plain": [
       "{}"
      ]
     },
     "execution_count": 24,
     "metadata": {},
     "output_type": "execute_result"
    },
    {
     "data": {
      "text/plain": [
       "{}"
      ]
     },
     "execution_count": 24,
     "metadata": {},
     "output_type": "execute_result"
    },
    {
     "data": {
      "text/plain": [
       "{}"
      ]
     },
     "execution_count": 24,
     "metadata": {},
     "output_type": "execute_result"
    },
    {
     "data": {
      "text/plain": [
       "{}"
      ]
     },
     "execution_count": 24,
     "metadata": {},
     "output_type": "execute_result"
    },
    {
     "data": {
      "text/plain": [
       "{}"
      ]
     },
     "execution_count": 24,
     "metadata": {},
     "output_type": "execute_result"
    },
    {
     "data": {
      "text/plain": [
       "{}"
      ]
     },
     "execution_count": 24,
     "metadata": {},
     "output_type": "execute_result"
    },
    {
     "data": {
      "text/plain": [
       "{}"
      ]
     },
     "execution_count": 24,
     "metadata": {},
     "output_type": "execute_result"
    },
    {
     "data": {
      "text/plain": [
       "{}"
      ]
     },
     "execution_count": 24,
     "metadata": {},
     "output_type": "execute_result"
    },
    {
     "data": {
      "text/plain": [
       "{}"
      ]
     },
     "execution_count": 24,
     "metadata": {},
     "output_type": "execute_result"
    },
    {
     "data": {
      "text/plain": [
       "{}"
      ]
     },
     "execution_count": 24,
     "metadata": {},
     "output_type": "execute_result"
    },
    {
     "data": {
      "text/plain": [
       "{}"
      ]
     },
     "execution_count": 24,
     "metadata": {},
     "output_type": "execute_result"
    },
    {
     "data": {
      "text/plain": [
       "{}"
      ]
     },
     "execution_count": 24,
     "metadata": {},
     "output_type": "execute_result"
    },
    {
     "data": {
      "text/plain": [
       "{}"
      ]
     },
     "execution_count": 24,
     "metadata": {},
     "output_type": "execute_result"
    },
    {
     "data": {
      "text/plain": [
       "{}"
      ]
     },
     "execution_count": 24,
     "metadata": {},
     "output_type": "execute_result"
    },
    {
     "data": {
      "text/plain": [
       "{}"
      ]
     },
     "execution_count": 24,
     "metadata": {},
     "output_type": "execute_result"
    },
    {
     "data": {
      "text/plain": [
       "{}"
      ]
     },
     "execution_count": 24,
     "metadata": {},
     "output_type": "execute_result"
    },
    {
     "data": {
      "text/plain": [
       "{}"
      ]
     },
     "execution_count": 24,
     "metadata": {},
     "output_type": "execute_result"
    },
    {
     "data": {
      "text/plain": [
       "{}"
      ]
     },
     "execution_count": 24,
     "metadata": {},
     "output_type": "execute_result"
    },
    {
     "data": {
      "text/plain": [
       "{}"
      ]
     },
     "execution_count": 24,
     "metadata": {},
     "output_type": "execute_result"
    },
    {
     "data": {
      "text/plain": [
       "{}"
      ]
     },
     "execution_count": 24,
     "metadata": {},
     "output_type": "execute_result"
    },
    {
     "data": {
      "text/plain": [
       "{}"
      ]
     },
     "execution_count": 24,
     "metadata": {},
     "output_type": "execute_result"
    },
    {
     "data": {
      "text/plain": [
       "{}"
      ]
     },
     "execution_count": 24,
     "metadata": {},
     "output_type": "execute_result"
    },
    {
     "data": {
      "text/plain": [
       "{}"
      ]
     },
     "execution_count": 24,
     "metadata": {},
     "output_type": "execute_result"
    },
    {
     "data": {
      "text/plain": [
       "{}"
      ]
     },
     "execution_count": 24,
     "metadata": {},
     "output_type": "execute_result"
    },
    {
     "data": {
      "text/plain": [
       "{}"
      ]
     },
     "execution_count": 24,
     "metadata": {},
     "output_type": "execute_result"
    },
    {
     "data": {
      "text/plain": [
       "{}"
      ]
     },
     "execution_count": 24,
     "metadata": {},
     "output_type": "execute_result"
    },
    {
     "data": {
      "text/plain": [
       "{}"
      ]
     },
     "execution_count": 24,
     "metadata": {},
     "output_type": "execute_result"
    },
    {
     "data": {
      "text/plain": [
       "{}"
      ]
     },
     "execution_count": 24,
     "metadata": {},
     "output_type": "execute_result"
    },
    {
     "data": {
      "text/plain": [
       "{}"
      ]
     },
     "execution_count": 24,
     "metadata": {},
     "output_type": "execute_result"
    },
    {
     "data": {
      "text/plain": [
       "{}"
      ]
     },
     "execution_count": 24,
     "metadata": {},
     "output_type": "execute_result"
    },
    {
     "data": {
      "text/plain": [
       "{}"
      ]
     },
     "execution_count": 24,
     "metadata": {},
     "output_type": "execute_result"
    },
    {
     "data": {
      "text/plain": [
       "{}"
      ]
     },
     "execution_count": 24,
     "metadata": {},
     "output_type": "execute_result"
    },
    {
     "data": {
      "text/plain": [
       "{}"
      ]
     },
     "execution_count": 24,
     "metadata": {},
     "output_type": "execute_result"
    },
    {
     "data": {
      "text/plain": [
       "{}"
      ]
     },
     "execution_count": 24,
     "metadata": {},
     "output_type": "execute_result"
    },
    {
     "data": {
      "text/plain": [
       "{}"
      ]
     },
     "execution_count": 24,
     "metadata": {},
     "output_type": "execute_result"
    },
    {
     "data": {
      "text/plain": [
       "{}"
      ]
     },
     "execution_count": 24,
     "metadata": {},
     "output_type": "execute_result"
    },
    {
     "data": {
      "text/plain": [
       "{}"
      ]
     },
     "execution_count": 24,
     "metadata": {},
     "output_type": "execute_result"
    },
    {
     "data": {
      "text/plain": [
       "{}"
      ]
     },
     "execution_count": 24,
     "metadata": {},
     "output_type": "execute_result"
    },
    {
     "data": {
      "text/plain": [
       "{}"
      ]
     },
     "execution_count": 24,
     "metadata": {},
     "output_type": "execute_result"
    },
    {
     "data": {
      "text/plain": [
       "{}"
      ]
     },
     "execution_count": 24,
     "metadata": {},
     "output_type": "execute_result"
    },
    {
     "data": {
      "text/plain": [
       "{}"
      ]
     },
     "execution_count": 24,
     "metadata": {},
     "output_type": "execute_result"
    },
    {
     "data": {
      "text/plain": [
       "{}"
      ]
     },
     "execution_count": 24,
     "metadata": {},
     "output_type": "execute_result"
    },
    {
     "data": {
      "text/plain": [
       "{}"
      ]
     },
     "execution_count": 24,
     "metadata": {},
     "output_type": "execute_result"
    },
    {
     "data": {
      "text/plain": [
       "{}"
      ]
     },
     "execution_count": 24,
     "metadata": {},
     "output_type": "execute_result"
    },
    {
     "data": {
      "text/plain": [
       "{}"
      ]
     },
     "execution_count": 24,
     "metadata": {},
     "output_type": "execute_result"
    },
    {
     "data": {
      "text/plain": [
       "{}"
      ]
     },
     "execution_count": 24,
     "metadata": {},
     "output_type": "execute_result"
    },
    {
     "data": {
      "text/plain": [
       "{}"
      ]
     },
     "execution_count": 24,
     "metadata": {},
     "output_type": "execute_result"
    },
    {
     "data": {
      "text/plain": [
       "{}"
      ]
     },
     "execution_count": 24,
     "metadata": {},
     "output_type": "execute_result"
    },
    {
     "data": {
      "text/plain": [
       "{}"
      ]
     },
     "execution_count": 24,
     "metadata": {},
     "output_type": "execute_result"
    },
    {
     "data": {
      "text/plain": [
       "{}"
      ]
     },
     "execution_count": 24,
     "metadata": {},
     "output_type": "execute_result"
    },
    {
     "data": {
      "text/plain": [
       "{}"
      ]
     },
     "execution_count": 24,
     "metadata": {},
     "output_type": "execute_result"
    },
    {
     "data": {
      "text/plain": [
       "{}"
      ]
     },
     "execution_count": 24,
     "metadata": {},
     "output_type": "execute_result"
    },
    {
     "data": {
      "text/plain": [
       "{}"
      ]
     },
     "execution_count": 24,
     "metadata": {},
     "output_type": "execute_result"
    },
    {
     "data": {
      "text/plain": [
       "{}"
      ]
     },
     "execution_count": 24,
     "metadata": {},
     "output_type": "execute_result"
    },
    {
     "data": {
      "text/plain": [
       "{}"
      ]
     },
     "execution_count": 24,
     "metadata": {},
     "output_type": "execute_result"
    },
    {
     "data": {
      "text/plain": [
       "{}"
      ]
     },
     "execution_count": 24,
     "metadata": {},
     "output_type": "execute_result"
    },
    {
     "data": {
      "text/plain": [
       "{}"
      ]
     },
     "execution_count": 24,
     "metadata": {},
     "output_type": "execute_result"
    },
    {
     "data": {
      "text/plain": [
       "{}"
      ]
     },
     "execution_count": 24,
     "metadata": {},
     "output_type": "execute_result"
    },
    {
     "data": {
      "text/plain": [
       "{}"
      ]
     },
     "execution_count": 24,
     "metadata": {},
     "output_type": "execute_result"
    },
    {
     "data": {
      "text/plain": [
       "{}"
      ]
     },
     "execution_count": 24,
     "metadata": {},
     "output_type": "execute_result"
    },
    {
     "data": {
      "text/plain": [
       "{}"
      ]
     },
     "execution_count": 24,
     "metadata": {},
     "output_type": "execute_result"
    },
    {
     "data": {
      "text/plain": [
       "{}"
      ]
     },
     "execution_count": 24,
     "metadata": {},
     "output_type": "execute_result"
    },
    {
     "data": {
      "text/plain": [
       "{}"
      ]
     },
     "execution_count": 24,
     "metadata": {},
     "output_type": "execute_result"
    },
    {
     "data": {
      "text/plain": [
       "{}"
      ]
     },
     "execution_count": 24,
     "metadata": {},
     "output_type": "execute_result"
    },
    {
     "data": {
      "text/plain": [
       "{}"
      ]
     },
     "execution_count": 24,
     "metadata": {},
     "output_type": "execute_result"
    },
    {
     "data": {
      "text/plain": [
       "{}"
      ]
     },
     "execution_count": 24,
     "metadata": {},
     "output_type": "execute_result"
    },
    {
     "data": {
      "text/plain": [
       "{}"
      ]
     },
     "execution_count": 24,
     "metadata": {},
     "output_type": "execute_result"
    },
    {
     "data": {
      "text/plain": [
       "{}"
      ]
     },
     "execution_count": 24,
     "metadata": {},
     "output_type": "execute_result"
    },
    {
     "data": {
      "text/plain": [
       "{}"
      ]
     },
     "execution_count": 24,
     "metadata": {},
     "output_type": "execute_result"
    },
    {
     "data": {
      "text/plain": [
       "{}"
      ]
     },
     "execution_count": 24,
     "metadata": {},
     "output_type": "execute_result"
    },
    {
     "data": {
      "text/plain": [
       "{}"
      ]
     },
     "execution_count": 24,
     "metadata": {},
     "output_type": "execute_result"
    },
    {
     "data": {
      "text/plain": [
       "{}"
      ]
     },
     "execution_count": 24,
     "metadata": {},
     "output_type": "execute_result"
    },
    {
     "data": {
      "text/plain": [
       "{}"
      ]
     },
     "execution_count": 24,
     "metadata": {},
     "output_type": "execute_result"
    },
    {
     "data": {
      "text/plain": [
       "{}"
      ]
     },
     "execution_count": 24,
     "metadata": {},
     "output_type": "execute_result"
    },
    {
     "data": {
      "text/plain": [
       "{}"
      ]
     },
     "execution_count": 24,
     "metadata": {},
     "output_type": "execute_result"
    },
    {
     "data": {
      "text/plain": [
       "{}"
      ]
     },
     "execution_count": 24,
     "metadata": {},
     "output_type": "execute_result"
    },
    {
     "data": {
      "text/plain": [
       "{}"
      ]
     },
     "execution_count": 24,
     "metadata": {},
     "output_type": "execute_result"
    },
    {
     "data": {
      "text/plain": [
       "{}"
      ]
     },
     "execution_count": 24,
     "metadata": {},
     "output_type": "execute_result"
    },
    {
     "data": {
      "text/plain": [
       "{}"
      ]
     },
     "execution_count": 24,
     "metadata": {},
     "output_type": "execute_result"
    },
    {
     "data": {
      "text/plain": [
       "{}"
      ]
     },
     "execution_count": 24,
     "metadata": {},
     "output_type": "execute_result"
    },
    {
     "data": {
      "text/plain": [
       "{}"
      ]
     },
     "execution_count": 24,
     "metadata": {},
     "output_type": "execute_result"
    },
    {
     "data": {
      "text/plain": [
       "{}"
      ]
     },
     "execution_count": 24,
     "metadata": {},
     "output_type": "execute_result"
    },
    {
     "data": {
      "text/plain": [
       "{}"
      ]
     },
     "execution_count": 24,
     "metadata": {},
     "output_type": "execute_result"
    },
    {
     "data": {
      "text/plain": [
       "{}"
      ]
     },
     "execution_count": 24,
     "metadata": {},
     "output_type": "execute_result"
    },
    {
     "data": {
      "text/plain": [
       "{}"
      ]
     },
     "execution_count": 24,
     "metadata": {},
     "output_type": "execute_result"
    },
    {
     "data": {
      "text/plain": [
       "{}"
      ]
     },
     "execution_count": 24,
     "metadata": {},
     "output_type": "execute_result"
    },
    {
     "data": {
      "text/plain": [
       "{}"
      ]
     },
     "execution_count": 24,
     "metadata": {},
     "output_type": "execute_result"
    },
    {
     "data": {
      "text/plain": [
       "{}"
      ]
     },
     "execution_count": 24,
     "metadata": {},
     "output_type": "execute_result"
    },
    {
     "data": {
      "text/plain": [
       "{}"
      ]
     },
     "execution_count": 24,
     "metadata": {},
     "output_type": "execute_result"
    },
    {
     "data": {
      "text/plain": [
       "{}"
      ]
     },
     "execution_count": 24,
     "metadata": {},
     "output_type": "execute_result"
    },
    {
     "data": {
      "text/plain": [
       "{}"
      ]
     },
     "execution_count": 24,
     "metadata": {},
     "output_type": "execute_result"
    },
    {
     "data": {
      "text/plain": [
       "{}"
      ]
     },
     "execution_count": 24,
     "metadata": {},
     "output_type": "execute_result"
    },
    {
     "data": {
      "text/plain": [
       "{}"
      ]
     },
     "execution_count": 24,
     "metadata": {},
     "output_type": "execute_result"
    },
    {
     "data": {
      "text/plain": [
       "{}"
      ]
     },
     "execution_count": 24,
     "metadata": {},
     "output_type": "execute_result"
    },
    {
     "data": {
      "text/plain": [
       "{}"
      ]
     },
     "execution_count": 24,
     "metadata": {},
     "output_type": "execute_result"
    },
    {
     "data": {
      "text/plain": [
       "{}"
      ]
     },
     "execution_count": 24,
     "metadata": {},
     "output_type": "execute_result"
    },
    {
     "data": {
      "text/plain": [
       "{}"
      ]
     },
     "execution_count": 24,
     "metadata": {},
     "output_type": "execute_result"
    },
    {
     "data": {
      "text/plain": [
       "{}"
      ]
     },
     "execution_count": 24,
     "metadata": {},
     "output_type": "execute_result"
    },
    {
     "data": {
      "text/plain": [
       "{}"
      ]
     },
     "execution_count": 24,
     "metadata": {},
     "output_type": "execute_result"
    },
    {
     "data": {
      "text/plain": [
       "{}"
      ]
     },
     "execution_count": 24,
     "metadata": {},
     "output_type": "execute_result"
    },
    {
     "data": {
      "text/plain": [
       "{}"
      ]
     },
     "execution_count": 24,
     "metadata": {},
     "output_type": "execute_result"
    },
    {
     "data": {
      "text/plain": [
       "{}"
      ]
     },
     "execution_count": 24,
     "metadata": {},
     "output_type": "execute_result"
    },
    {
     "data": {
      "text/plain": [
       "{}"
      ]
     },
     "execution_count": 24,
     "metadata": {},
     "output_type": "execute_result"
    },
    {
     "data": {
      "text/plain": [
       "{}"
      ]
     },
     "execution_count": 24,
     "metadata": {},
     "output_type": "execute_result"
    },
    {
     "data": {
      "text/plain": [
       "{}"
      ]
     },
     "execution_count": 24,
     "metadata": {},
     "output_type": "execute_result"
    },
    {
     "data": {
      "text/plain": [
       "{}"
      ]
     },
     "execution_count": 24,
     "metadata": {},
     "output_type": "execute_result"
    },
    {
     "data": {
      "text/plain": [
       "{}"
      ]
     },
     "execution_count": 24,
     "metadata": {},
     "output_type": "execute_result"
    },
    {
     "data": {
      "text/plain": [
       "{}"
      ]
     },
     "execution_count": 24,
     "metadata": {},
     "output_type": "execute_result"
    },
    {
     "data": {
      "text/plain": [
       "{}"
      ]
     },
     "execution_count": 24,
     "metadata": {},
     "output_type": "execute_result"
    },
    {
     "data": {
      "text/plain": [
       "{}"
      ]
     },
     "execution_count": 24,
     "metadata": {},
     "output_type": "execute_result"
    },
    {
     "data": {
      "text/plain": [
       "{}"
      ]
     },
     "execution_count": 24,
     "metadata": {},
     "output_type": "execute_result"
    },
    {
     "data": {
      "text/plain": [
       "{}"
      ]
     },
     "execution_count": 24,
     "metadata": {},
     "output_type": "execute_result"
    },
    {
     "data": {
      "text/plain": [
       "{}"
      ]
     },
     "execution_count": 24,
     "metadata": {},
     "output_type": "execute_result"
    },
    {
     "data": {
      "text/plain": [
       "{}"
      ]
     },
     "execution_count": 24,
     "metadata": {},
     "output_type": "execute_result"
    },
    {
     "data": {
      "text/plain": [
       "{}"
      ]
     },
     "execution_count": 24,
     "metadata": {},
     "output_type": "execute_result"
    },
    {
     "data": {
      "text/plain": [
       "{}"
      ]
     },
     "execution_count": 24,
     "metadata": {},
     "output_type": "execute_result"
    },
    {
     "data": {
      "text/plain": [
       "{}"
      ]
     },
     "execution_count": 24,
     "metadata": {},
     "output_type": "execute_result"
    },
    {
     "data": {
      "text/plain": [
       "{}"
      ]
     },
     "execution_count": 24,
     "metadata": {},
     "output_type": "execute_result"
    },
    {
     "data": {
      "text/plain": [
       "{}"
      ]
     },
     "execution_count": 24,
     "metadata": {},
     "output_type": "execute_result"
    },
    {
     "data": {
      "text/plain": [
       "{}"
      ]
     },
     "execution_count": 24,
     "metadata": {},
     "output_type": "execute_result"
    },
    {
     "data": {
      "text/plain": [
       "{}"
      ]
     },
     "execution_count": 24,
     "metadata": {},
     "output_type": "execute_result"
    },
    {
     "data": {
      "text/plain": [
       "{}"
      ]
     },
     "execution_count": 24,
     "metadata": {},
     "output_type": "execute_result"
    },
    {
     "data": {
      "text/plain": [
       "{}"
      ]
     },
     "execution_count": 24,
     "metadata": {},
     "output_type": "execute_result"
    },
    {
     "data": {
      "text/plain": [
       "{}"
      ]
     },
     "execution_count": 24,
     "metadata": {},
     "output_type": "execute_result"
    },
    {
     "data": {
      "text/plain": [
       "{}"
      ]
     },
     "execution_count": 24,
     "metadata": {},
     "output_type": "execute_result"
    },
    {
     "data": {
      "text/plain": [
       "{}"
      ]
     },
     "execution_count": 24,
     "metadata": {},
     "output_type": "execute_result"
    },
    {
     "data": {
      "text/plain": [
       "{}"
      ]
     },
     "execution_count": 24,
     "metadata": {},
     "output_type": "execute_result"
    },
    {
     "data": {
      "text/plain": [
       "{}"
      ]
     },
     "execution_count": 24,
     "metadata": {},
     "output_type": "execute_result"
    },
    {
     "data": {
      "text/plain": [
       "{}"
      ]
     },
     "execution_count": 24,
     "metadata": {},
     "output_type": "execute_result"
    },
    {
     "data": {
      "text/plain": [
       "{}"
      ]
     },
     "execution_count": 24,
     "metadata": {},
     "output_type": "execute_result"
    },
    {
     "data": {
      "text/plain": [
       "{}"
      ]
     },
     "execution_count": 24,
     "metadata": {},
     "output_type": "execute_result"
    },
    {
     "data": {
      "text/plain": [
       "{}"
      ]
     },
     "execution_count": 24,
     "metadata": {},
     "output_type": "execute_result"
    },
    {
     "data": {
      "text/plain": [
       "{}"
      ]
     },
     "execution_count": 24,
     "metadata": {},
     "output_type": "execute_result"
    },
    {
     "data": {
      "text/plain": [
       "{}"
      ]
     },
     "execution_count": 24,
     "metadata": {},
     "output_type": "execute_result"
    },
    {
     "data": {
      "text/plain": [
       "{}"
      ]
     },
     "execution_count": 24,
     "metadata": {},
     "output_type": "execute_result"
    },
    {
     "data": {
      "text/plain": [
       "{}"
      ]
     },
     "execution_count": 24,
     "metadata": {},
     "output_type": "execute_result"
    },
    {
     "data": {
      "text/plain": [
       "{}"
      ]
     },
     "execution_count": 24,
     "metadata": {},
     "output_type": "execute_result"
    },
    {
     "data": {
      "text/plain": [
       "{}"
      ]
     },
     "execution_count": 24,
     "metadata": {},
     "output_type": "execute_result"
    },
    {
     "data": {
      "text/plain": [
       "{}"
      ]
     },
     "execution_count": 24,
     "metadata": {},
     "output_type": "execute_result"
    },
    {
     "data": {
      "text/plain": [
       "{}"
      ]
     },
     "execution_count": 24,
     "metadata": {},
     "output_type": "execute_result"
    },
    {
     "data": {
      "text/plain": [
       "{}"
      ]
     },
     "execution_count": 24,
     "metadata": {},
     "output_type": "execute_result"
    },
    {
     "data": {
      "text/plain": [
       "{}"
      ]
     },
     "execution_count": 24,
     "metadata": {},
     "output_type": "execute_result"
    },
    {
     "data": {
      "text/plain": [
       "{}"
      ]
     },
     "execution_count": 24,
     "metadata": {},
     "output_type": "execute_result"
    },
    {
     "data": {
      "text/plain": [
       "{}"
      ]
     },
     "execution_count": 24,
     "metadata": {},
     "output_type": "execute_result"
    },
    {
     "data": {
      "text/plain": [
       "{}"
      ]
     },
     "execution_count": 24,
     "metadata": {},
     "output_type": "execute_result"
    },
    {
     "data": {
      "text/plain": [
       "{}"
      ]
     },
     "execution_count": 24,
     "metadata": {},
     "output_type": "execute_result"
    },
    {
     "data": {
      "text/plain": [
       "{}"
      ]
     },
     "execution_count": 24,
     "metadata": {},
     "output_type": "execute_result"
    },
    {
     "data": {
      "text/plain": [
       "{}"
      ]
     },
     "execution_count": 24,
     "metadata": {},
     "output_type": "execute_result"
    },
    {
     "data": {
      "text/plain": [
       "{}"
      ]
     },
     "execution_count": 24,
     "metadata": {},
     "output_type": "execute_result"
    },
    {
     "data": {
      "text/plain": [
       "{}"
      ]
     },
     "execution_count": 24,
     "metadata": {},
     "output_type": "execute_result"
    },
    {
     "data": {
      "text/plain": [
       "{}"
      ]
     },
     "execution_count": 24,
     "metadata": {},
     "output_type": "execute_result"
    },
    {
     "data": {
      "text/plain": [
       "{}"
      ]
     },
     "execution_count": 24,
     "metadata": {},
     "output_type": "execute_result"
    },
    {
     "data": {
      "text/plain": [
       "{}"
      ]
     },
     "execution_count": 24,
     "metadata": {},
     "output_type": "execute_result"
    },
    {
     "data": {
      "text/plain": [
       "{}"
      ]
     },
     "execution_count": 24,
     "metadata": {},
     "output_type": "execute_result"
    },
    {
     "data": {
      "text/plain": [
       "{}"
      ]
     },
     "execution_count": 24,
     "metadata": {},
     "output_type": "execute_result"
    },
    {
     "data": {
      "text/plain": [
       "{}"
      ]
     },
     "execution_count": 24,
     "metadata": {},
     "output_type": "execute_result"
    },
    {
     "data": {
      "text/plain": [
       "{}"
      ]
     },
     "execution_count": 24,
     "metadata": {},
     "output_type": "execute_result"
    },
    {
     "data": {
      "text/plain": [
       "{}"
      ]
     },
     "execution_count": 24,
     "metadata": {},
     "output_type": "execute_result"
    },
    {
     "data": {
      "text/plain": [
       "{}"
      ]
     },
     "execution_count": 24,
     "metadata": {},
     "output_type": "execute_result"
    },
    {
     "data": {
      "text/plain": [
       "{}"
      ]
     },
     "execution_count": 24,
     "metadata": {},
     "output_type": "execute_result"
    },
    {
     "data": {
      "text/plain": [
       "{}"
      ]
     },
     "execution_count": 24,
     "metadata": {},
     "output_type": "execute_result"
    },
    {
     "data": {
      "text/plain": [
       "{}"
      ]
     },
     "execution_count": 24,
     "metadata": {},
     "output_type": "execute_result"
    },
    {
     "data": {
      "text/plain": [
       "{}"
      ]
     },
     "execution_count": 24,
     "metadata": {},
     "output_type": "execute_result"
    },
    {
     "data": {
      "text/plain": [
       "{}"
      ]
     },
     "execution_count": 24,
     "metadata": {},
     "output_type": "execute_result"
    },
    {
     "data": {
      "text/plain": [
       "{}"
      ]
     },
     "execution_count": 24,
     "metadata": {},
     "output_type": "execute_result"
    },
    {
     "data": {
      "text/plain": [
       "{}"
      ]
     },
     "execution_count": 24,
     "metadata": {},
     "output_type": "execute_result"
    },
    {
     "data": {
      "text/plain": [
       "{}"
      ]
     },
     "execution_count": 24,
     "metadata": {},
     "output_type": "execute_result"
    },
    {
     "data": {
      "text/plain": [
       "{}"
      ]
     },
     "execution_count": 24,
     "metadata": {},
     "output_type": "execute_result"
    },
    {
     "data": {
      "text/plain": [
       "{}"
      ]
     },
     "execution_count": 24,
     "metadata": {},
     "output_type": "execute_result"
    },
    {
     "data": {
      "text/plain": [
       "{}"
      ]
     },
     "execution_count": 24,
     "metadata": {},
     "output_type": "execute_result"
    },
    {
     "data": {
      "text/plain": [
       "{}"
      ]
     },
     "execution_count": 24,
     "metadata": {},
     "output_type": "execute_result"
    },
    {
     "data": {
      "text/plain": [
       "{}"
      ]
     },
     "execution_count": 24,
     "metadata": {},
     "output_type": "execute_result"
    },
    {
     "data": {
      "text/plain": [
       "{}"
      ]
     },
     "execution_count": 24,
     "metadata": {},
     "output_type": "execute_result"
    },
    {
     "data": {
      "text/plain": [
       "{}"
      ]
     },
     "execution_count": 24,
     "metadata": {},
     "output_type": "execute_result"
    },
    {
     "data": {
      "text/plain": [
       "{}"
      ]
     },
     "execution_count": 24,
     "metadata": {},
     "output_type": "execute_result"
    },
    {
     "data": {
      "text/plain": [
       "{}"
      ]
     },
     "execution_count": 24,
     "metadata": {},
     "output_type": "execute_result"
    },
    {
     "data": {
      "text/plain": [
       "{}"
      ]
     },
     "execution_count": 24,
     "metadata": {},
     "output_type": "execute_result"
    },
    {
     "data": {
      "text/plain": [
       "{}"
      ]
     },
     "execution_count": 24,
     "metadata": {},
     "output_type": "execute_result"
    },
    {
     "data": {
      "text/plain": [
       "{}"
      ]
     },
     "execution_count": 24,
     "metadata": {},
     "output_type": "execute_result"
    },
    {
     "data": {
      "text/plain": [
       "{}"
      ]
     },
     "execution_count": 24,
     "metadata": {},
     "output_type": "execute_result"
    },
    {
     "data": {
      "text/plain": [
       "{}"
      ]
     },
     "execution_count": 24,
     "metadata": {},
     "output_type": "execute_result"
    },
    {
     "data": {
      "text/plain": [
       "{}"
      ]
     },
     "execution_count": 24,
     "metadata": {},
     "output_type": "execute_result"
    },
    {
     "data": {
      "text/plain": [
       "{}"
      ]
     },
     "execution_count": 24,
     "metadata": {},
     "output_type": "execute_result"
    },
    {
     "data": {
      "text/plain": [
       "{}"
      ]
     },
     "execution_count": 24,
     "metadata": {},
     "output_type": "execute_result"
    },
    {
     "data": {
      "text/plain": [
       "{}"
      ]
     },
     "execution_count": 24,
     "metadata": {},
     "output_type": "execute_result"
    },
    {
     "data": {
      "text/plain": [
       "{}"
      ]
     },
     "execution_count": 24,
     "metadata": {},
     "output_type": "execute_result"
    },
    {
     "data": {
      "text/plain": [
       "{}"
      ]
     },
     "execution_count": 24,
     "metadata": {},
     "output_type": "execute_result"
    },
    {
     "data": {
      "text/plain": [
       "{}"
      ]
     },
     "execution_count": 24,
     "metadata": {},
     "output_type": "execute_result"
    },
    {
     "data": {
      "text/plain": [
       "{}"
      ]
     },
     "execution_count": 24,
     "metadata": {},
     "output_type": "execute_result"
    },
    {
     "data": {
      "text/plain": [
       "{}"
      ]
     },
     "execution_count": 24,
     "metadata": {},
     "output_type": "execute_result"
    },
    {
     "data": {
      "text/plain": [
       "{}"
      ]
     },
     "execution_count": 24,
     "metadata": {},
     "output_type": "execute_result"
    },
    {
     "data": {
      "text/plain": [
       "{}"
      ]
     },
     "execution_count": 24,
     "metadata": {},
     "output_type": "execute_result"
    },
    {
     "data": {
      "text/plain": [
       "{}"
      ]
     },
     "execution_count": 24,
     "metadata": {},
     "output_type": "execute_result"
    },
    {
     "data": {
      "text/plain": [
       "{}"
      ]
     },
     "execution_count": 24,
     "metadata": {},
     "output_type": "execute_result"
    },
    {
     "data": {
      "text/plain": [
       "{}"
      ]
     },
     "execution_count": 24,
     "metadata": {},
     "output_type": "execute_result"
    },
    {
     "data": {
      "text/plain": [
       "{}"
      ]
     },
     "execution_count": 24,
     "metadata": {},
     "output_type": "execute_result"
    },
    {
     "data": {
      "text/plain": [
       "{}"
      ]
     },
     "execution_count": 24,
     "metadata": {},
     "output_type": "execute_result"
    },
    {
     "data": {
      "text/plain": [
       "{}"
      ]
     },
     "execution_count": 24,
     "metadata": {},
     "output_type": "execute_result"
    },
    {
     "data": {
      "text/plain": [
       "{}"
      ]
     },
     "execution_count": 24,
     "metadata": {},
     "output_type": "execute_result"
    },
    {
     "data": {
      "text/plain": [
       "{}"
      ]
     },
     "execution_count": 24,
     "metadata": {},
     "output_type": "execute_result"
    },
    {
     "data": {
      "text/plain": [
       "{}"
      ]
     },
     "execution_count": 24,
     "metadata": {},
     "output_type": "execute_result"
    },
    {
     "data": {
      "text/plain": [
       "{}"
      ]
     },
     "execution_count": 24,
     "metadata": {},
     "output_type": "execute_result"
    },
    {
     "data": {
      "text/plain": [
       "{}"
      ]
     },
     "execution_count": 24,
     "metadata": {},
     "output_type": "execute_result"
    },
    {
     "data": {
      "text/plain": [
       "{}"
      ]
     },
     "execution_count": 24,
     "metadata": {},
     "output_type": "execute_result"
    },
    {
     "data": {
      "text/plain": [
       "{}"
      ]
     },
     "execution_count": 24,
     "metadata": {},
     "output_type": "execute_result"
    },
    {
     "data": {
      "text/plain": [
       "{}"
      ]
     },
     "execution_count": 24,
     "metadata": {},
     "output_type": "execute_result"
    },
    {
     "data": {
      "text/plain": [
       "{}"
      ]
     },
     "execution_count": 24,
     "metadata": {},
     "output_type": "execute_result"
    },
    {
     "data": {
      "text/plain": [
       "{}"
      ]
     },
     "execution_count": 24,
     "metadata": {},
     "output_type": "execute_result"
    },
    {
     "data": {
      "text/plain": [
       "{}"
      ]
     },
     "execution_count": 24,
     "metadata": {},
     "output_type": "execute_result"
    },
    {
     "data": {
      "text/plain": [
       "{}"
      ]
     },
     "execution_count": 24,
     "metadata": {},
     "output_type": "execute_result"
    },
    {
     "data": {
      "text/plain": [
       "{}"
      ]
     },
     "execution_count": 24,
     "metadata": {},
     "output_type": "execute_result"
    },
    {
     "data": {
      "text/plain": [
       "{}"
      ]
     },
     "execution_count": 24,
     "metadata": {},
     "output_type": "execute_result"
    },
    {
     "data": {
      "text/plain": [
       "{}"
      ]
     },
     "execution_count": 24,
     "metadata": {},
     "output_type": "execute_result"
    },
    {
     "data": {
      "text/plain": [
       "{}"
      ]
     },
     "execution_count": 24,
     "metadata": {},
     "output_type": "execute_result"
    },
    {
     "data": {
      "text/plain": [
       "{}"
      ]
     },
     "execution_count": 24,
     "metadata": {},
     "output_type": "execute_result"
    },
    {
     "data": {
      "text/plain": [
       "{}"
      ]
     },
     "execution_count": 24,
     "metadata": {},
     "output_type": "execute_result"
    },
    {
     "data": {
      "text/plain": [
       "{}"
      ]
     },
     "execution_count": 24,
     "metadata": {},
     "output_type": "execute_result"
    },
    {
     "data": {
      "text/plain": [
       "{}"
      ]
     },
     "execution_count": 24,
     "metadata": {},
     "output_type": "execute_result"
    },
    {
     "data": {
      "text/plain": [
       "{}"
      ]
     },
     "execution_count": 24,
     "metadata": {},
     "output_type": "execute_result"
    },
    {
     "data": {
      "text/plain": [
       "{}"
      ]
     },
     "execution_count": 24,
     "metadata": {},
     "output_type": "execute_result"
    },
    {
     "data": {
      "text/plain": [
       "{}"
      ]
     },
     "execution_count": 24,
     "metadata": {},
     "output_type": "execute_result"
    },
    {
     "data": {
      "text/plain": [
       "{}"
      ]
     },
     "execution_count": 24,
     "metadata": {},
     "output_type": "execute_result"
    },
    {
     "data": {
      "text/plain": [
       "{}"
      ]
     },
     "execution_count": 24,
     "metadata": {},
     "output_type": "execute_result"
    },
    {
     "data": {
      "text/plain": [
       "{}"
      ]
     },
     "execution_count": 24,
     "metadata": {},
     "output_type": "execute_result"
    },
    {
     "data": {
      "text/plain": [
       "{}"
      ]
     },
     "execution_count": 24,
     "metadata": {},
     "output_type": "execute_result"
    },
    {
     "data": {
      "text/plain": [
       "{}"
      ]
     },
     "execution_count": 24,
     "metadata": {},
     "output_type": "execute_result"
    },
    {
     "data": {
      "text/plain": [
       "{}"
      ]
     },
     "execution_count": 24,
     "metadata": {},
     "output_type": "execute_result"
    },
    {
     "data": {
      "text/plain": [
       "{}"
      ]
     },
     "execution_count": 24,
     "metadata": {},
     "output_type": "execute_result"
    },
    {
     "data": {
      "text/plain": [
       "{}"
      ]
     },
     "execution_count": 24,
     "metadata": {},
     "output_type": "execute_result"
    },
    {
     "data": {
      "text/plain": [
       "{}"
      ]
     },
     "execution_count": 24,
     "metadata": {},
     "output_type": "execute_result"
    },
    {
     "data": {
      "text/plain": [
       "{}"
      ]
     },
     "execution_count": 24,
     "metadata": {},
     "output_type": "execute_result"
    },
    {
     "data": {
      "text/plain": [
       "{}"
      ]
     },
     "execution_count": 24,
     "metadata": {},
     "output_type": "execute_result"
    },
    {
     "data": {
      "text/plain": [
       "{}"
      ]
     },
     "execution_count": 24,
     "metadata": {},
     "output_type": "execute_result"
    },
    {
     "data": {
      "text/plain": [
       "{}"
      ]
     },
     "execution_count": 24,
     "metadata": {},
     "output_type": "execute_result"
    },
    {
     "data": {
      "text/plain": [
       "{}"
      ]
     },
     "execution_count": 24,
     "metadata": {},
     "output_type": "execute_result"
    },
    {
     "data": {
      "text/plain": [
       "{}"
      ]
     },
     "execution_count": 24,
     "metadata": {},
     "output_type": "execute_result"
    },
    {
     "data": {
      "text/plain": [
       "{}"
      ]
     },
     "execution_count": 24,
     "metadata": {},
     "output_type": "execute_result"
    },
    {
     "data": {
      "text/plain": [
       "{}"
      ]
     },
     "execution_count": 24,
     "metadata": {},
     "output_type": "execute_result"
    },
    {
     "data": {
      "text/plain": [
       "{}"
      ]
     },
     "execution_count": 24,
     "metadata": {},
     "output_type": "execute_result"
    },
    {
     "data": {
      "text/plain": [
       "{}"
      ]
     },
     "execution_count": 24,
     "metadata": {},
     "output_type": "execute_result"
    },
    {
     "data": {
      "text/plain": [
       "{}"
      ]
     },
     "execution_count": 24,
     "metadata": {},
     "output_type": "execute_result"
    },
    {
     "data": {
      "text/plain": [
       "{}"
      ]
     },
     "execution_count": 24,
     "metadata": {},
     "output_type": "execute_result"
    },
    {
     "data": {
      "text/plain": [
       "{}"
      ]
     },
     "execution_count": 24,
     "metadata": {},
     "output_type": "execute_result"
    },
    {
     "data": {
      "text/plain": [
       "{}"
      ]
     },
     "execution_count": 24,
     "metadata": {},
     "output_type": "execute_result"
    },
    {
     "data": {
      "text/plain": [
       "{}"
      ]
     },
     "execution_count": 24,
     "metadata": {},
     "output_type": "execute_result"
    },
    {
     "data": {
      "text/plain": [
       "{}"
      ]
     },
     "execution_count": 24,
     "metadata": {},
     "output_type": "execute_result"
    },
    {
     "data": {
      "text/plain": [
       "{}"
      ]
     },
     "execution_count": 24,
     "metadata": {},
     "output_type": "execute_result"
    },
    {
     "data": {
      "text/plain": [
       "{}"
      ]
     },
     "execution_count": 24,
     "metadata": {},
     "output_type": "execute_result"
    },
    {
     "data": {
      "text/plain": [
       "{}"
      ]
     },
     "execution_count": 24,
     "metadata": {},
     "output_type": "execute_result"
    },
    {
     "data": {
      "text/plain": [
       "{}"
      ]
     },
     "execution_count": 24,
     "metadata": {},
     "output_type": "execute_result"
    },
    {
     "data": {
      "text/plain": [
       "{}"
      ]
     },
     "execution_count": 24,
     "metadata": {},
     "output_type": "execute_result"
    },
    {
     "data": {
      "text/plain": [
       "{}"
      ]
     },
     "execution_count": 24,
     "metadata": {},
     "output_type": "execute_result"
    },
    {
     "data": {
      "text/plain": [
       "{}"
      ]
     },
     "execution_count": 24,
     "metadata": {},
     "output_type": "execute_result"
    },
    {
     "data": {
      "text/plain": [
       "{}"
      ]
     },
     "execution_count": 24,
     "metadata": {},
     "output_type": "execute_result"
    },
    {
     "data": {
      "text/plain": [
       "{}"
      ]
     },
     "execution_count": 24,
     "metadata": {},
     "output_type": "execute_result"
    },
    {
     "data": {
      "text/plain": [
       "{}"
      ]
     },
     "execution_count": 24,
     "metadata": {},
     "output_type": "execute_result"
    },
    {
     "data": {
      "text/plain": [
       "{}"
      ]
     },
     "execution_count": 24,
     "metadata": {},
     "output_type": "execute_result"
    },
    {
     "data": {
      "text/plain": [
       "{}"
      ]
     },
     "execution_count": 24,
     "metadata": {},
     "output_type": "execute_result"
    },
    {
     "data": {
      "text/plain": [
       "{}"
      ]
     },
     "execution_count": 24,
     "metadata": {},
     "output_type": "execute_result"
    },
    {
     "data": {
      "text/plain": [
       "{}"
      ]
     },
     "execution_count": 24,
     "metadata": {},
     "output_type": "execute_result"
    },
    {
     "data": {
      "text/plain": [
       "{}"
      ]
     },
     "execution_count": 24,
     "metadata": {},
     "output_type": "execute_result"
    },
    {
     "data": {
      "text/plain": [
       "{}"
      ]
     },
     "execution_count": 24,
     "metadata": {},
     "output_type": "execute_result"
    },
    {
     "data": {
      "text/plain": [
       "{}"
      ]
     },
     "execution_count": 24,
     "metadata": {},
     "output_type": "execute_result"
    },
    {
     "data": {
      "text/plain": [
       "{}"
      ]
     },
     "execution_count": 24,
     "metadata": {},
     "output_type": "execute_result"
    },
    {
     "data": {
      "text/plain": [
       "{}"
      ]
     },
     "execution_count": 24,
     "metadata": {},
     "output_type": "execute_result"
    },
    {
     "data": {
      "text/plain": [
       "{}"
      ]
     },
     "execution_count": 24,
     "metadata": {},
     "output_type": "execute_result"
    },
    {
     "data": {
      "text/plain": [
       "{}"
      ]
     },
     "execution_count": 24,
     "metadata": {},
     "output_type": "execute_result"
    },
    {
     "data": {
      "text/plain": [
       "{}"
      ]
     },
     "execution_count": 24,
     "metadata": {},
     "output_type": "execute_result"
    },
    {
     "data": {
      "text/plain": [
       "{}"
      ]
     },
     "execution_count": 24,
     "metadata": {},
     "output_type": "execute_result"
    },
    {
     "data": {
      "text/plain": [
       "{}"
      ]
     },
     "execution_count": 24,
     "metadata": {},
     "output_type": "execute_result"
    },
    {
     "data": {
      "text/plain": [
       "{}"
      ]
     },
     "execution_count": 24,
     "metadata": {},
     "output_type": "execute_result"
    },
    {
     "data": {
      "text/plain": [
       "{}"
      ]
     },
     "execution_count": 24,
     "metadata": {},
     "output_type": "execute_result"
    },
    {
     "data": {
      "text/plain": [
       "{}"
      ]
     },
     "execution_count": 24,
     "metadata": {},
     "output_type": "execute_result"
    },
    {
     "data": {
      "text/plain": [
       "{}"
      ]
     },
     "execution_count": 24,
     "metadata": {},
     "output_type": "execute_result"
    },
    {
     "data": {
      "text/plain": [
       "{}"
      ]
     },
     "execution_count": 24,
     "metadata": {},
     "output_type": "execute_result"
    },
    {
     "data": {
      "text/plain": [
       "{}"
      ]
     },
     "execution_count": 24,
     "metadata": {},
     "output_type": "execute_result"
    },
    {
     "data": {
      "text/plain": [
       "{}"
      ]
     },
     "execution_count": 24,
     "metadata": {},
     "output_type": "execute_result"
    },
    {
     "data": {
      "text/plain": [
       "{}"
      ]
     },
     "execution_count": 24,
     "metadata": {},
     "output_type": "execute_result"
    },
    {
     "data": {
      "text/plain": [
       "{}"
      ]
     },
     "execution_count": 24,
     "metadata": {},
     "output_type": "execute_result"
    },
    {
     "data": {
      "text/plain": [
       "{}"
      ]
     },
     "execution_count": 24,
     "metadata": {},
     "output_type": "execute_result"
    },
    {
     "data": {
      "text/plain": [
       "{}"
      ]
     },
     "execution_count": 24,
     "metadata": {},
     "output_type": "execute_result"
    },
    {
     "data": {
      "text/plain": [
       "{}"
      ]
     },
     "execution_count": 24,
     "metadata": {},
     "output_type": "execute_result"
    },
    {
     "data": {
      "text/plain": [
       "{}"
      ]
     },
     "execution_count": 24,
     "metadata": {},
     "output_type": "execute_result"
    },
    {
     "data": {
      "text/plain": [
       "{}"
      ]
     },
     "execution_count": 24,
     "metadata": {},
     "output_type": "execute_result"
    },
    {
     "data": {
      "text/plain": [
       "{}"
      ]
     },
     "execution_count": 24,
     "metadata": {},
     "output_type": "execute_result"
    },
    {
     "data": {
      "text/plain": [
       "{}"
      ]
     },
     "execution_count": 24,
     "metadata": {},
     "output_type": "execute_result"
    },
    {
     "data": {
      "text/plain": [
       "{}"
      ]
     },
     "execution_count": 24,
     "metadata": {},
     "output_type": "execute_result"
    },
    {
     "data": {
      "text/plain": [
       "{}"
      ]
     },
     "execution_count": 24,
     "metadata": {},
     "output_type": "execute_result"
    },
    {
     "data": {
      "text/plain": [
       "{}"
      ]
     },
     "execution_count": 24,
     "metadata": {},
     "output_type": "execute_result"
    },
    {
     "data": {
      "text/plain": [
       "{}"
      ]
     },
     "execution_count": 24,
     "metadata": {},
     "output_type": "execute_result"
    },
    {
     "data": {
      "text/plain": [
       "{}"
      ]
     },
     "execution_count": 24,
     "metadata": {},
     "output_type": "execute_result"
    },
    {
     "data": {
      "text/plain": [
       "{}"
      ]
     },
     "execution_count": 24,
     "metadata": {},
     "output_type": "execute_result"
    },
    {
     "data": {
      "text/plain": [
       "{}"
      ]
     },
     "execution_count": 24,
     "metadata": {},
     "output_type": "execute_result"
    },
    {
     "data": {
      "text/plain": [
       "{}"
      ]
     },
     "execution_count": 24,
     "metadata": {},
     "output_type": "execute_result"
    },
    {
     "data": {
      "text/plain": [
       "{}"
      ]
     },
     "execution_count": 24,
     "metadata": {},
     "output_type": "execute_result"
    },
    {
     "data": {
      "text/plain": [
       "{}"
      ]
     },
     "execution_count": 24,
     "metadata": {},
     "output_type": "execute_result"
    },
    {
     "data": {
      "text/plain": [
       "{}"
      ]
     },
     "execution_count": 24,
     "metadata": {},
     "output_type": "execute_result"
    },
    {
     "data": {
      "text/plain": [
       "{}"
      ]
     },
     "execution_count": 24,
     "metadata": {},
     "output_type": "execute_result"
    },
    {
     "data": {
      "text/plain": [
       "{}"
      ]
     },
     "execution_count": 24,
     "metadata": {},
     "output_type": "execute_result"
    },
    {
     "data": {
      "text/plain": [
       "{}"
      ]
     },
     "execution_count": 24,
     "metadata": {},
     "output_type": "execute_result"
    },
    {
     "data": {
      "text/plain": [
       "{}"
      ]
     },
     "execution_count": 24,
     "metadata": {},
     "output_type": "execute_result"
    },
    {
     "data": {
      "text/plain": [
       "{}"
      ]
     },
     "execution_count": 24,
     "metadata": {},
     "output_type": "execute_result"
    },
    {
     "data": {
      "text/plain": [
       "{}"
      ]
     },
     "execution_count": 24,
     "metadata": {},
     "output_type": "execute_result"
    },
    {
     "data": {
      "text/plain": [
       "{}"
      ]
     },
     "execution_count": 24,
     "metadata": {},
     "output_type": "execute_result"
    },
    {
     "data": {
      "text/plain": [
       "{}"
      ]
     },
     "execution_count": 24,
     "metadata": {},
     "output_type": "execute_result"
    },
    {
     "data": {
      "text/plain": [
       "{}"
      ]
     },
     "execution_count": 24,
     "metadata": {},
     "output_type": "execute_result"
    },
    {
     "data": {
      "text/plain": [
       "{}"
      ]
     },
     "execution_count": 24,
     "metadata": {},
     "output_type": "execute_result"
    },
    {
     "data": {
      "text/plain": [
       "{}"
      ]
     },
     "execution_count": 24,
     "metadata": {},
     "output_type": "execute_result"
    },
    {
     "data": {
      "text/plain": [
       "{}"
      ]
     },
     "execution_count": 24,
     "metadata": {},
     "output_type": "execute_result"
    },
    {
     "data": {
      "text/plain": [
       "{}"
      ]
     },
     "execution_count": 24,
     "metadata": {},
     "output_type": "execute_result"
    },
    {
     "data": {
      "text/plain": [
       "{}"
      ]
     },
     "execution_count": 24,
     "metadata": {},
     "output_type": "execute_result"
    },
    {
     "data": {
      "text/plain": [
       "{}"
      ]
     },
     "execution_count": 24,
     "metadata": {},
     "output_type": "execute_result"
    },
    {
     "data": {
      "text/plain": [
       "{}"
      ]
     },
     "execution_count": 24,
     "metadata": {},
     "output_type": "execute_result"
    },
    {
     "data": {
      "text/plain": [
       "{}"
      ]
     },
     "execution_count": 24,
     "metadata": {},
     "output_type": "execute_result"
    },
    {
     "data": {
      "text/plain": [
       "{}"
      ]
     },
     "execution_count": 24,
     "metadata": {},
     "output_type": "execute_result"
    },
    {
     "data": {
      "text/plain": [
       "{}"
      ]
     },
     "execution_count": 24,
     "metadata": {},
     "output_type": "execute_result"
    },
    {
     "data": {
      "text/plain": [
       "{}"
      ]
     },
     "execution_count": 24,
     "metadata": {},
     "output_type": "execute_result"
    },
    {
     "data": {
      "text/plain": [
       "{}"
      ]
     },
     "execution_count": 24,
     "metadata": {},
     "output_type": "execute_result"
    },
    {
     "data": {
      "text/plain": [
       "{}"
      ]
     },
     "execution_count": 24,
     "metadata": {},
     "output_type": "execute_result"
    },
    {
     "data": {
      "text/plain": [
       "{}"
      ]
     },
     "execution_count": 24,
     "metadata": {},
     "output_type": "execute_result"
    }
   ],
   "source": [
    "for reac in model.reactions:\n",
    "    reac.annotation"
   ]
  },
  {
   "cell_type": "code",
   "execution_count": 25,
   "metadata": {},
   "outputs": [],
   "source": [
    "for reac in model.reactions:\n",
    "    data=''\n",
    "    if 'metanetx.reaction' in reac.annotation:\n",
    "        data=reac.annotation['metanetx.reaction'] \n",
    "        \n",
    "        for xref in reac_xref_MNX_bigg_dict2.keys():\n",
    "            if reac_xref_MNX_bigg_dict2[xref]==data:\n",
    "                reac.annotation['bigg.reaction']= xref\n",
    "                print(reac.annotation)\n",
    "                \n",
    "                \n"
   ]
  },
  {
   "cell_type": "markdown",
   "metadata": {},
   "source": [
    "### Check for multiple ids "
   ]
  },
  {
   "cell_type": "code",
   "execution_count": 26,
   "metadata": {},
   "outputs": [
    {
     "data": {
      "text/plain": [
       "{}"
      ]
     },
     "execution_count": 26,
     "metadata": {},
     "output_type": "execute_result"
    }
   ],
   "source": [
    "dupl_bigg = {}\n",
    "for reac in model.reactions:\n",
    "    if \"bigg.reaction\" not in reac.annotation.keys():  #skip EX reactions\n",
    "        #print(reac.id)\n",
    "        continue\n",
    "    if reac.annotation[\"bigg.reaction\"] not in dupl_bigg.keys():\n",
    "        dupl_bigg.setdefault(reac.annotation[\"bigg.reaction\"],[reac.id]) #similar to get(), but will set dict[key]=default if key is not already in dict.\n",
    "\n",
    "\n",
    "    else:\n",
    "        dupl_bigg[reac.annotation[\"bigg.reaction\"]].append(reac.id)\n",
    "        \n",
    "dupl_bigg\n"
   ]
  },
  {
   "cell_type": "code",
   "execution_count": 17,
   "metadata": {},
   "outputs": [],
   "source": [
    "for ls in dupl_bigg.values():\n",
    "    if len(ls) > 1:\n",
    "        print(ls)"
   ]
  },
  {
   "cell_type": "code",
   "execution_count": 18,
   "metadata": {
    "scrolled": true
   },
   "outputs": [],
   "source": [
    "for ls in dupl_bigg.values():\n",
    "    if len(ls) > 1:\n",
    "        print(ls)\n",
    "        x=[]\n",
    "        y=[]\n",
    "        for members in ls: \n",
    "            main_id, comp =members.split(\"_\")\n",
    "            x.append(main_id)\n",
    "            y.append(comp)\n",
    "        if not x[0]==x[1]:\n",
    "            print(x,y)\n",
    "            for pair in zip(x,y):\n",
    "                print(len(model.reactions.get_by_id(pair[0]+\"_\"+pair[1]).reaction))"
   ]
  },
  {
   "cell_type": "code",
   "execution_count": 19,
   "metadata": {},
   "outputs": [
    {
     "data": {
      "text/plain": [
       "[<Metabolite atp_c0 at 0x116b95208>, <Metabolite cpd02446_c0 at 0x116ca3780>]"
      ]
     },
     "execution_count": 19,
     "metadata": {},
     "output_type": "execute_result"
    },
    {
     "data": {
      "text/plain": [
       "[<Metabolite atp_c0 at 0x116b95208>, <Metabolite d5kg_c0 at 0x116d442e8>]"
      ]
     },
     "execution_count": 19,
     "metadata": {},
     "output_type": "execute_result"
    },
    {
     "data": {
      "text/plain": [
       "{}"
      ]
     },
     "execution_count": 19,
     "metadata": {},
     "output_type": "execute_result"
    },
    {
     "data": {
      "text/plain": [
       "'atp_c0 + d5kg_c0 <=> MNXM91569_c0 + adp_c0 + h_c0'"
      ]
     },
     "execution_count": 19,
     "metadata": {},
     "output_type": "execute_result"
    }
   ],
   "source": [
    "model.reactions.rxn03023_c0.reactants\n",
    "model.reactions.rxn03932_c0.reactants\n",
    "\n",
    "model.reactions.rxn03023_c0.annotation\n",
    "\n",
    "model.reactions.rxn03932_c0.reaction\n"
   ]
  },
  {
   "cell_type": "code",
   "execution_count": 21,
   "metadata": {},
   "outputs": [],
   "source": [
    "for reac in model.reactions:\n",
    "    \n",
    "    \n",
    "    if \"bigg.reaction\" not in reac.annotation.keys():\n",
    "        #print(reac.id)\n",
    "        continue\n",
    "    if reac.id.startswith('MNXR'):    \n",
    "        #if reac.id in [\"rxn03023_c0\"]:\n",
    "         #   pass\n",
    "        #else:\n",
    "        split, compartment=reac.id.split(\"_\")\n",
    "        reac.id\n",
    "        reac.id=reac.annotation['bigg.reaction']+ '_' + compartment\n",
    "        model.repair()\n",
    "        print(reac.id)\n",
    "    "
   ]
  },
  {
   "cell_type": "code",
   "execution_count": null,
   "metadata": {},
   "outputs": [],
   "source": [
    "#chem_xref['#XREF'] = chem_xref['#XREF'].str.replace(':','\\t')\n",
    "\n",
    "#^[0-9A-Za-z]*:[0-9A-Za-z]*\n",
    "#    (^[0-9A-Za-z]*):([0-9A-Za-z]*)\n",
    "#        $1 \\t $2\n",
    "        \n",
    "\n"
   ]
  },
  {
   "cell_type": "code",
   "execution_count": null,
   "metadata": {},
   "outputs": [],
   "source": [
    "write_sbml_model(model, \"/Users/lizrad/Dev/iVnat/iVnat.xml\")"
   ]
  }
 ],
 "metadata": {
  "kernelspec": {
   "display_name": "Python (vibrio)",
   "language": "python",
   "name": "vibrio"
  },
  "language_info": {
   "codemirror_mode": {
    "name": "ipython",
    "version": 3
   },
   "file_extension": ".py",
   "mimetype": "text/x-python",
   "name": "python",
   "nbconvert_exporter": "python",
   "pygments_lexer": "ipython3",
   "version": "3.6.6"
  }
 },
 "nbformat": 4,
 "nbformat_minor": 2
}
