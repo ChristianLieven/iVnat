{
 "cells": [
  {
   "cell_type": "code",
   "execution_count": null,
   "metadata": {},
   "outputs": [],
   "source": [
    "from IPython.core.interactiveshell import InteractiveShell\n",
    "\n",
    "InteractiveShell.ast_node_interactivity = \"all\""
   ]
  },
  {
   "cell_type": "markdown",
   "metadata": {},
   "source": [
    "### Reading the model"
   ]
  },
  {
   "cell_type": "code",
   "execution_count": null,
   "metadata": {},
   "outputs": [],
   "source": [
    "from __future__ import print_function\n",
    "import cobra\n",
    "import cobra.test\n",
    "import os\n",
    "from os.path import join\n",
    "\n",
    "data_dir = \"C:\\\\Users\\Asus\\Documents\\Vibrio_project_literature\\GCF_001456255.1_rast_metabolic_model.SBML\"\n",
    "\n",
    "print(\"files found: \")\n",
    "print(\", \".join(i for i in os.listdir(data_dir) if i.startswith(\"GCF\")))\n",
    "model=cobra.io.read_sbml_model(join(data_dir, \"GCF_001456255.1_rast_metabolic_model.xml\"))\n",
    "#model=cobra.io.read_legacy_sbml(\"C:\\\\Users\\Asus\\Documents\\Vibrio_project_literature\\GCF_001456255.1_rast_metabolic_model.SBML\\GCF_001456255.1_rast_metabolic_model.xml\")\n",
    "model\n"
   ]
  },
  {
   "cell_type": "code",
   "execution_count": null,
   "metadata": {},
   "outputs": [],
   "source": [
    "dir(data_dir)\n",
    "os.listdir(data_dir)"
   ]
  },
  {
   "cell_type": "markdown",
   "metadata": {},
   "source": [
    "### Getting started"
   ]
  },
  {
   "cell_type": "code",
   "execution_count": null,
   "metadata": {},
   "outputs": [],
   "source": [
    "print(len(model.reactions))\n",
    "print(len(model.metabolites))\n",
    "print(len(model.genes))\n"
   ]
  },
  {
   "cell_type": "code",
   "execution_count": null,
   "metadata": {},
   "outputs": [],
   "source": [
    "#http://sbml.org/Special/Software/libSBML/3.4.1/docs/python-api/libsbml-python-reading-files.html\n",
    "#http://sbml.org/Software/libSBML/5.13.0/docs//python-api/class_s_b_m_l_reader.html#ad668c96d12aefe1a319104ddf896f618\n",
    "#from libsbml import *\n",
    "#reader = SBMLReader()\n",
    "    \n",
    "#document = reader.readSBML(\"C:\\\\Users\\Asus\\Documents\\Vibrio_project_literature\\GCF_001456255.1_rast_metabolic_model.SBML\\GCF_001456255.1_rast_metabolic_model.xml\")\n",
    "#document.getNumErrors()\n",
    "\n",
    "#print(document)\n"
   ]
  },
  {
   "cell_type": "markdown",
   "metadata": {},
   "source": [
    "### Reaction"
   ]
  },
  {
   "cell_type": "code",
   "execution_count": null,
   "metadata": {},
   "outputs": [],
   "source": [
    "model.reactions.bio1"
   ]
  },
  {
   "cell_type": "code",
   "execution_count": null,
   "metadata": {},
   "outputs": [],
   "source": [
    "model.reactions.rxn02000_c0.annotation"
   ]
  },
  {
   "cell_type": "code",
   "execution_count": null,
   "metadata": {},
   "outputs": [],
   "source": [
    "model.reactions[1] \n",
    "model.reactions.get_by_id(\"bio1\")\n",
    "react=model.reactions.rxn02000_c0\n",
    "model.reactions.rxn02000_c0.bounds\n",
    "print(react.reversibility)\n",
    "\n"
   ]
  },
  {
   "cell_type": "markdown",
   "metadata": {},
   "source": [
    "### Metabolites"
   ]
  },
  {
   "cell_type": "code",
   "execution_count": null,
   "metadata": {},
   "outputs": [],
   "source": [
    "model.metabolites[4]\n",
    "model.metabolites.get_by_id(\"cpd00012_c0\")\n",
    "x=model.metabolites.get_by_id(\"cpd00012_c0\")\n",
    "len(x.reactions)\n",
    "x.charge\n",
    "x.reactions"
   ]
  },
  {
   "cell_type": "code",
   "execution_count": null,
   "metadata": {
    "scrolled": true
   },
   "outputs": [],
   "source": []
  },
  {
   "cell_type": "code",
   "execution_count": null,
   "metadata": {},
   "outputs": [],
   "source": [
    "x.constraint\n"
   ]
  },
  {
   "cell_type": "code",
   "execution_count": null,
   "metadata": {
    "scrolled": true
   },
   "outputs": [],
   "source": []
  },
  {
   "cell_type": "markdown",
   "metadata": {},
   "source": [
    "### Genes"
   ]
  },
  {
   "cell_type": "code",
   "execution_count": null,
   "metadata": {
    "scrolled": true
   },
   "outputs": [],
   "source": [
    "react.gene_reaction_rule\n",
    "react.genes\n",
    "model.genes.get_by_id(\"PN96_RS12380\")\n",
    "model.genes.get_by_id(\"PN96_RS12380\").reactions\n",
    "\n"
   ]
  },
  {
   "cell_type": "markdown",
   "metadata": {},
   "source": [
    "### Making changes\n",
    "\n"
   ]
  },
  {
   "cell_type": "code",
   "execution_count": null,
   "metadata": {
    "scrolled": false
   },
   "outputs": [],
   "source": [
    "for reaction in model.reactions[:20]:\n",
    "    with model as model:\n",
    "        reaction.knock_out()\n",
    "        model.optimize()\n",
    "        print('%s blocked (bounds: %s), new growth rate %f' %\n",
    "              (reaction.id, str(reaction.bounds), model.objective.value))"
   ]
  },
  {
   "cell_type": "code",
   "execution_count": null,
   "metadata": {},
   "outputs": [],
   "source": [
    "print('original objective: ', model.objective.expression)\n",
    "with model:\n",
    "    model.objective = 'rxn02201_c0'\n",
    "    print('print objective in first context:', model.objective.expression)\n",
    "    with model:\n",
    "        model.objective = 'rxn02209_c0'\n",
    "        print('print objective in second context:', model.objective.expression)\n",
    "    print('objective after exiting second context:',\n",
    "          model.objective.expression)\n",
    "print('back to original objective:', model.objective.expression)"
   ]
  },
  {
   "cell_type": "code",
   "execution_count": null,
   "metadata": {},
   "outputs": [],
   "source": [
    "from cobra.test import create_test_model\n",
    "for component in model.medium.keys():\n",
    "    print([(x.name, x.id) for x in model.reactions.get_by_id(component).metabolites])\n",
    "\n"
   ]
  },
  {
   "cell_type": "code",
   "execution_count": null,
   "metadata": {},
   "outputs": [],
   "source": []
  },
  {
   "cell_type": "code",
   "execution_count": null,
   "metadata": {},
   "outputs": [],
   "source": [
    "solution = model.optimize()\n",
    "print(solution)"
   ]
  },
  {
   "cell_type": "code",
   "execution_count": null,
   "metadata": {},
   "outputs": [],
   "source": [
    "solution.fluxes"
   ]
  },
  {
   "cell_type": "code",
   "execution_count": null,
   "metadata": {},
   "outputs": [],
   "source": [
    "model.summary()"
   ]
  },
  {
   "cell_type": "code",
   "execution_count": null,
   "metadata": {},
   "outputs": [],
   "source": [
    "model.metabolites.cpd00012_c0.summary()"
   ]
  },
  {
   "cell_type": "code",
   "execution_count": null,
   "metadata": {},
   "outputs": [],
   "source": [
    "%%time\n",
    "model.optimize().objective_value \n",
    "%%time\n",
    "model.slim_optimize()"
   ]
  },
  {
   "cell_type": "code",
   "execution_count": null,
   "metadata": {},
   "outputs": [],
   "source": [
    "from cobra.util.solver import linear_reaction_coefficients\n",
    "linear_reaction_coefficients(model)"
   ]
  },
  {
   "cell_type": "code",
   "execution_count": null,
   "metadata": {},
   "outputs": [],
   "source": [
    "from cobra.flux_analysis import flux_variability_analysis\n",
    "\n",
    "flux_variability_analysis(model, model.reactions[:10])"
   ]
  },
  {
   "cell_type": "code",
   "execution_count": null,
   "metadata": {},
   "outputs": [],
   "source": [
    "cobra.flux_analysis.flux_variability_analysis(\n",
    "    model, model.reactions[:10], fraction_of_optimum=0.9)"
   ]
  },
  {
   "cell_type": "code",
   "execution_count": null,
   "metadata": {},
   "outputs": [],
   "source": [
    "model.reactions.get_by_id(\"rxn00351_c0\")"
   ]
  },
  {
   "cell_type": "code",
   "execution_count": null,
   "metadata": {},
   "outputs": [],
   "source": [
    "loop_reactions = [model.reactions.rxn00351_c0, model.reactions.rxn00836_c0]\n",
    "flux_variability_analysis(model, reaction_list=loop_reactions, loopless=False)\n",
    "\n",
    "flux_variability_analysis(model, reaction_list=loop_reactions, loopless=True)"
   ]
  },
  {
   "cell_type": "code",
   "execution_count": null,
   "metadata": {},
   "outputs": [],
   "source": [
    "model.optimize()\n",
    "model.summary(fva=0.95)"
   ]
  },
  {
   "cell_type": "code",
   "execution_count": null,
   "metadata": {},
   "outputs": [],
   "source": [
    "fba_solution = model.optimize()\n",
    "pfba_solution = cobra.flux_analysis.pfba(model)"
   ]
  },
  {
   "cell_type": "code",
   "execution_count": null,
   "metadata": {},
   "outputs": [],
   "source": [
    "abs(fba_solution.fluxes[\"Biomass_Ecoli_core\"] - pfba_solution.fluxes[\n",
    "    \"Biomass_Ecoli_core\"])"
   ]
  },
  {
   "cell_type": "markdown",
   "metadata": {},
   "source": [
    "### Production envelope"
   ]
  },
  {
   "cell_type": "code",
   "execution_count": null,
   "metadata": {},
   "outputs": [],
   "source": [
    "from cobra.flux_analysis import production_envelope\n",
    "prod_env = production_envelope(model, [\"EX_cpd00067_e0\", \"EX_cpd00182_e0\"])\n",
    "prod_env.head()"
   ]
  },
  {
   "cell_type": "code",
   "execution_count": null,
   "metadata": {},
   "outputs": [],
   "source": [
    "prod_env = production_envelope(\n",
    "    model, [\"EX_o2_e\"], objective=\"EX_ac_e\", carbon_sources=\"EX_glc__D_e\")"
   ]
  },
  {
   "cell_type": "code",
   "execution_count": null,
   "metadata": {},
   "outputs": [],
   "source": [
    "unbalanced_rxns=[r for r in model.reactions if r.check_mass_balance() != []]"
   ]
  },
  {
   "cell_type": "code",
   "execution_count": null,
   "metadata": {},
   "outputs": [],
   "source": []
  }
 ],
 "metadata": {
  "kernelspec": {
   "display_name": "Python (vibrio)",
   "language": "python",
   "name": "vibrio"
  },
  "language_info": {
   "codemirror_mode": {
    "name": "ipython",
    "version": 3
   },
   "file_extension": ".py",
   "mimetype": "text/x-python",
   "name": "python",
   "nbconvert_exporter": "python",
   "pygments_lexer": "ipython3",
   "version": "3.6.5"
  }
 },
 "nbformat": 4,
 "nbformat_minor": 2
}
